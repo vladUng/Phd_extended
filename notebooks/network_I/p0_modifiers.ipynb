{
 "cells": [
  {
   "attachments": {},
   "cell_type": "markdown",
   "metadata": {},
   "source": [
    "# Motivation\n",
    "\n",
    "In this Notebook I am looking at the comparisong between the modifiers in P0"
   ]
  },
  {
   "cell_type": "code",
   "execution_count": null,
   "metadata": {
    "ExecuteTime": {
     "end_time": "2023-10-25T07:48:58.845961Z",
     "start_time": "2023-10-25T07:48:54.329108Z"
    }
   },
   "outputs": [],
   "source": [
    "%load_ext autoreload\n",
    "import pandas as pd\n",
    "import numpy as np\n",
    "import os\n",
    "import sys \n",
    "\n",
    "import plotly.express as px\n",
    "import plotly.io as pio\n",
    "from plotly.subplots import make_subplots\n",
    "import plotly.graph_objects as go\n",
    "\n",
    "import multiprocess as mp\n",
    "\n",
    "# own libraries\n",
    "SCRIPT_DIR = os.path.dirname(os.path.abspath(\"pcgna_processing.py\"))\n",
    "sys.path.append(os.path.dirname(SCRIPT_DIR))\n",
    "sys.path.append('/Users/vlad/Documents/Code/York/iNet_v2/src')\n",
    "\n",
    "from NetworkAnalysis.ExperimentSet import ExperimentSet\n",
    "from NetworkAnalysis.NetworkComp import NetworkComp\n",
    "from NetworkAnalysis import GraphHelper as gh\n",
    "from NetworkAnalysis.utilities import sankey_consensus_plot as sky\n",
    "from NetworkAnalysis.utilities.helpers import save_fig\n",
    "\n",
    "from NetworkAnalysis.utilities import clustering as cs\n",
    "\n",
    "\n",
    "pio.renderers.default = \"plotly_mimetype+notebook\"\n",
    "pio.templates.default = \"ggplot2\"\n",
    "\n",
    "%matplotlib inline"
   ]
  },
  {
   "cell_type": "markdown",
   "metadata": {
    "collapsed": false
   },
   "source": [
    "# Init"
   ]
  },
  {
   "cell_type": "code",
   "execution_count": null,
   "metadata": {
    "ExecuteTime": {
     "end_time": "2023-10-25T07:49:00.970591Z",
     "start_time": "2023-10-25T07:48:58.852616Z"
    }
   },
   "outputs": [],
   "source": [
    "results_path = \"../../results/exp/\"\n",
    "data_base = \"../../data/\"\n",
    "base_path = \"../../results/\"\n",
    "exp_folder_tumour = \"network_I/tum/\"  # \"/integration_v2.1/ - path from iNET\n",
    "exp_folder_p0_gc42 = \"network_I/P0_gc42/\"\n",
    "\n",
    "# where to save figures\n",
    "figures_path = \"p0_modifiers/\"\n",
    "\n",
    "vu_output = pd.read_csv(f\"{data_base}/metadata/VU_clustering_v3.tsv\", sep=\"\\t\", index_col=\"Sample\")\n",
    "\n",
    "tcga_mutations_df = pd.read_csv(f\"{data_base}/tumour/mutations_tcga.csv\")\n",
    "tcga_mutations_df = tcga_mutations_df[tcga_mutations_df[\"count\"] != 0].set_index(\"gene\")\n",
    "\n",
    "# With this there will be different results than the on in the PhD thesis\n",
    "all_tum_tpms_v4 = pd.read_csv(f\"{data_base}/tumour/tum_TPMs_selected_genes_gc42_all_v4.tsv\", sep=\"\\t\", index_col=\"genes\")\n",
    "\n",
    "all_tum_tpms = pd.read_csv(f\"{data_base}/tumour/TPMs_selected_genes_v3_13k_gc42.tsv\", sep=\"\\t\", index_col=\"genes\")\n",
    "\n",
    "# tf list\n",
    "tf_path = f\"{data_base}/metadata/TF_names_v_1.01.txt\"\n",
    "if os.path.exists(tf_path):\n",
    "    tf_list = np.genfromtxt(fname=tf_path, delimiter=\"\\t\", skip_header=1, dtype=\"str\")"
   ]
  },
  {
   "attachments": {},
   "cell_type": "markdown",
   "metadata": {},
   "source": [
    "## Load experiment sets"
   ]
  },
  {
   "cell_type": "code",
   "execution_count": null,
   "metadata": {
    "ExecuteTime": {
     "end_time": "2023-10-25T07:49:34.602744Z",
     "start_time": "2023-10-25T07:49:00.974437Z"
    }
   },
   "outputs": [],
   "source": [
    "%autoreload 2\n",
    "\n",
    "tum = ExperimentSet(\"tum\", base_path, exp_folder_tumour, tcga_mutations_df, sel_sets = [\"4K\", \"7K\"], rel_path=\"../\")\n",
    "p0_42 = ExperimentSet(\"p0_gc42\", base_path, exp_folder_p0_gc42, tcga_mutations_df, sel_sets = [\"4K\"], rel_path=\"../\")\n",
    "\n",
    "%autoreload 2\n",
    "tum.export_to_gephi(save=False)\n",
    "p0_42.export_to_gephi(save=False)\n"
   ]
  },
  {
   "attachments": {},
   "cell_type": "markdown",
   "metadata": {},
   "source": [
    "## Computed ModCon and MEV scores"
   ]
  },
  {
   "cell_type": "code",
   "execution_count": null,
   "metadata": {
    "ExecuteTime": {
     "end_time": "2023-10-25T07:49:34.654859Z",
     "start_time": "2023-10-25T07:49:34.605408Z"
    }
   },
   "outputs": [],
   "source": [
    "def worker(arg):\n",
    "    obj, methname = arg[:2]\n",
    "    _ = getattr(obj, methname)()\n",
    "    return obj"
   ]
  },
  {
   "cell_type": "code",
   "execution_count": null,
   "metadata": {
    "ExecuteTime": {
     "end_time": "2023-10-25T07:53:57.777406Z",
     "start_time": "2023-10-25T07:49:34.648692Z"
    }
   },
   "outputs": [],
   "source": [
    "pool = mp.Pool(mp.cpu_count())\n",
    "# results = pool.map(worker, ((exp, \"get_ModCon\") for exp in p0.exps.values()))\n",
    "# p0.exps = {exp.type: exp for exp in results}\n",
    "\n",
    "results = pool.map(worker, ((exp, \"get_ModCon\") for exp in p0_42.exps.values()))\n",
    "p0_42.exps = {exp.type: exp for exp in results}\n",
    "\n",
    "results = pool.map(worker, ((exp, \"get_ModCon\") for exp in tum.exps.values()))\n",
    "tum.exps = {exp.type: exp for exp in results}"
   ]
  },
  {
   "cell_type": "code",
   "execution_count": null,
   "metadata": {
    "ExecuteTime": {
     "end_time": "2023-10-25T07:54:31.602517Z",
     "start_time": "2023-10-25T07:53:57.780538Z"
    }
   },
   "outputs": [],
   "source": [
    "tpms_df = tum.exps[\"standard_4K_6TF\"].tpm_df\n",
    "for key, exp in p0_42.exps.items():\n",
    "    sort_col = \"ModCon_{}\".format(exp.type)\n",
    "    exp.mevsMut, _ = exp.get_mevs(tpms=tpms_df, modCon=exp.modCons, sort_col=sort_col, num_genes=100, verbose=False)\n",
    "del tpms_df"
   ]
  },
  {
   "cell_type": "markdown",
   "metadata": {},
   "source": [
    "# TF 50 (report)\n",
    "\n",
    "Between standard, norm and reward compare the network metrics: degree, pageRank, closeness, betwenees and IVI.\n",
    "\n",
    "The network configuration is: 4K and 10TF. and 4K and 3TF."
   ]
  },
  {
   "cell_type": "markdown",
   "metadata": {},
   "source": [
    "## Overview (report)"
   ]
  },
  {
   "cell_type": "code",
   "execution_count": null,
   "metadata": {
    "ExecuteTime": {
     "end_time": "2023-10-25T07:56:01.213513Z",
     "start_time": "2023-10-25T07:55:37.482209Z"
    }
   },
   "outputs": [],
   "source": [
    "std_nt, rwrd_nt, pen_nt = p0_42.exps[\"standard_4K_50TF\"], p0_42.exps[\"norm3_4K_50TF\"], p0_42.exps[\"beta_4K_50TF\"]\n",
    "metrics_df_50 = gh.prep_net_metrics(std_nt, rwrd_nt, pen_nt)"
   ]
  },
  {
   "cell_type": "code",
   "execution_count": null,
   "metadata": {
    "ExecuteTime": {
     "end_time": "2023-10-25T08:04:49.862234Z",
     "start_time": "2023-10-25T08:04:43.777415Z"
    }
   },
   "outputs": [],
   "source": [
    "fig = gh.plot_net_metrics(\n",
    "    metrics_df_50, log_y=True, label=\"P0_42 - 50TF\", color=\"Type\", filename=\"P0_NetworkMetricsComp_{}_2\".format(\"50TF\"), figs_path=figures_path\n",
    ")\n",
    "fig = fig.update_layout(height=1000)"
   ]
  },
  {
   "cell_type": "markdown",
   "metadata": {},
   "source": [
    "## Clustering analysis"
   ]
  },
  {
   "cell_type": "code",
   "execution_count": null,
   "metadata": {
    "ExecuteTime": {
     "end_time": "2023-10-25T07:56:23.656383Z",
     "start_time": "2023-10-25T07:56:14.336663Z"
    }
   },
   "outputs": [],
   "source": [
    "if True:\n",
    "    vers = \"v3\"\n",
    "    tf = 50\n",
    "    figs, titles = [], [\"Standard\", \"Reward\", \"Penalised\"]\n",
    "\n",
    "    metrics_figs, sill_figs = [], []\n",
    "    r_mod = {\"standard\": \"std\", \"norm3\": \"rwd\", \"beta\": \"pen\"}\n",
    "    top = pd.DataFrame()\n",
    "    for modifier in [\"standard\", \"norm3\", \"beta\"]:\n",
    "        _, fig, metrics = gh.run_clusters(p0_42.exps[\"{}_4K_{}TF\".format(modifier, tf)], label=\"{}_tf{}\".format(r_mod[modifier], tf), show_figs=True)\n",
    "        fig = gh.update_legend(fig)\n",
    "        dmy = gh.rank_cs_metrics(metrics, label=r_mod[modifier])\n",
    "        top = pd.concat([top, dmy], axis=1)\n",
    "        metrics_figs.append(fig)\n",
    "\n",
    "        # to save if True\n",
    "        if True:\n",
    "            # fig = fig.update_layout(font=dict(size=14), xaxis=dict(tickfont=dict(size=16)), yaxis=dict(tickfont=dict(size=16)), title=\"\", template=\"ggplot2\")\n",
    "            save_fig(name=f\"CA_metrics_{r_mod[modifier]}_tum_4k_{vers}\", fig=fig, base_path=figures_path, width=1700, height=900, margin=0.02)\n",
    "\n",
    "        # sill fig\n",
    "        fig, _ = gh.sill_distrib(metrics, label=f\"{r_mod[modifier]}_tum4k_{vers}\", figures_path=figures_path)\n",
    "        sill_figs.append(fig)\n",
    "\n",
    "    figs = gh.prcs_top3_metrics(top, label=f\"p0_tum4K_50TF_{vers}\", figures_path=figures_path)\n",
    "    # figs[0].show()"
   ]
  },
  {
   "cell_type": "markdown",
   "metadata": {},
   "source": [
    "### Elbow method"
   ]
  },
  {
   "cell_type": "code",
   "execution_count": null,
   "metadata": {},
   "outputs": [],
   "source": [
    "figs, titles = [], [\"Standard\", \"Reward\", \"Penalised\"]\n",
    "for net in [\"standard\", \"norm3\", \"beta\"]:\n",
    "    sel_exp = p0_42.exps[\"{}_4K_50TF\".format(net)]\n",
    "    fig, sum_dist = cs.elbow_method(sel_exp.mevsMut, min_k=2, max_k=sel_exp.mevsMut.shape[1], label=\"test\")\n",
    "    figs.append(fig)\n",
    "\n",
    "subplots_config = {\n",
    "    \"num_cols\": 3,\n",
    "    \"shared_x\": False,\n",
    "    \"shared_y\": False,\n",
    "    \"h_spacing\": None,\n",
    "    \"v_spacing\": 0.08,\n",
    "    \"main_title\": \"\",\n",
    "    \"height\": 400,\n",
    "    \"width\": None,\n",
    "    \"y_title\": None,\n",
    "    \"x_title\": None,\n",
    "    \"specs\": None,\n",
    "}\n",
    "\n",
    "fig = gh.helper_multiplots(figs, titles, subplots_config)\n",
    "\n",
    "fig.show()\n",
    "save_fig(\n",
    "    name=f\"p0_elbowMethod_4K_{vers}\",\n",
    "    fig=fig,\n",
    "    base_path=figures_path,\n",
    "    width=None,\n",
    "    height=400,\n",
    ")"
   ]
  },
  {
   "cell_type": "markdown",
   "metadata": {},
   "source": [
    "### K=4 vs K=5\n",
    "\n",
    "In previous section we look at the differences between different clustering models and number of clusters and found out that Kmeans and Agg w/ Avg linkage are the best models. Also, there is a no clear winner between K=4 and K=5"
   ]
  },
  {
   "cell_type": "code",
   "execution_count": null,
   "metadata": {},
   "outputs": [],
   "source": [
    "# Combine all TFs\n",
    "\n",
    "if True:\n",
    "    tf = 50\n",
    "    comb_std, _, _ = gh.run_clusters(p0_42.exps[\"standard_4K_{}TF\".format(tf)], label=\"std_tf{}\".format(tf))\n",
    "    comb_norm3, _, _ = gh.run_clusters(p0_42.exps[\"norm3_4K_{}TF\".format(tf)], label=\"norm3_tf{}\".format(tf), show_figs=False)\n",
    "    comb_norm3.drop(columns=[\"PC_1\", \"PC_2\"], inplace=True)\n",
    "    comb_beta, _, _ = gh.run_clusters(p0_42.exps[\"beta_4K_{}TF\".format(tf)], label=\"beta_tf{}\".format(tf))\n",
    "    comb_beta.drop(columns=[\"PC_1\", \"PC_2\"], inplace=True)\n",
    "\n",
    "    sel_exp = p0_42.exps[\"standard_4K_{}TF\".format(tf)]\n",
    "    comb_tfs = pd.concat([comb_std, comb_norm3, comb_beta, vu_output], axis=1).dropna()\n",
    "\n",
    "    cluster_model = \"RawKMeans\"\n",
    "    reorder_cols = [\n",
    "        \"TCGA408_classifier\",\n",
    "        \"KMeans_labels_6\",\n",
    "        \"{}_CS_{}_std_tf{}\".format(cluster_model, 4, tf),\n",
    "        \"{}_CS_{}_std_tf{}\".format(cluster_model, 5, tf),\n",
    "        \"{}_CS_{}_std_tf{}\".format(cluster_model, 6, tf),\n",
    "        \"2019_consensus_classifier\",\n",
    "    ]\n",
    "\n",
    "    rename_cols = {\n",
    "        reorder_cols[0]: \"TCGA_2017\",\n",
    "        reorder_cols[1]: \"CA + IFNg\",\n",
    "        reorder_cols[2]: \"Standard K=4\",\n",
    "        reorder_cols[3]: \"Standard K=5\",\n",
    "        reorder_cols[4]: \"Standard K=6\",\n",
    "        reorder_cols[5]: \"Consensus_2019\",\n",
    "    }\n",
    "\n",
    "    _, sky_fig = sky.main(\n",
    "        df=comb_tfs.rename(columns=rename_cols),\n",
    "        reorder_cols=list(rename_cols.values()),\n",
    "        # title=\"Standard Network. K-means with K=4 and K=5\",\n",
    "        title=\"\",\n",
    "        retMeta=True,\n",
    "    )\n",
    "    sky_fig.show()\n",
    "    save_fig(name=f\"Sankey_KM_4K_{vers}\", fig=sky_fig, base_path=figures_path, width=1000, height=500)\n",
    "\n",
    "    cluster_model = \"Avg\"\n",
    "    reorder_cols = [\n",
    "        \"TCGA408_classifier\",\n",
    "        \"KMeans_labels_6\",\n",
    "        \"{}_CS_{}_std_tf{}\".format(cluster_model, 4, tf),\n",
    "        \"{}_CS_{}_std_tf{}\".format(cluster_model, 5, tf),\n",
    "        \"{}_CS_{}_std_tf{}\".format(cluster_model, 6, tf),\n",
    "        \"2019_consensus_classifier\",\n",
    "    ]\n",
    "\n",
    "    rename_cols = {\n",
    "        reorder_cols[0]: \"TCGA_2017\",\n",
    "        reorder_cols[1]: \"CA + IFNg\",\n",
    "        reorder_cols[2]: \"Standard K=4\",\n",
    "        reorder_cols[3]: \"Standard K=5\",\n",
    "        reorder_cols[4]: \"Standard K=6\",\n",
    "        reorder_cols[5]: \"Consensus_2019\",\n",
    "    }\n",
    "\n",
    "    _, sky_fig = sky.main(\n",
    "        df=comb_tfs.rename(columns=rename_cols),\n",
    "        reorder_cols=list(rename_cols.values()),\n",
    "        title=\"Standard Network. Agg_Avg with K=4 and K=5\",\n",
    "        retMeta=True,\n",
    "    )\n",
    "    # sky_fig.show()\n",
    "    save_fig(name=f\"Sankey_Avg_4K_{vers}\", fig=sky_fig, base_path=figures_path, width=1200, height=500)"
   ]
  },
  {
   "cell_type": "markdown",
   "metadata": {},
   "source": [
    "## Leiden comparison and Sankey overview\n",
    "\n",
    "Get an overview of the Leiden scores, number of communities and changes for TF = 10"
   ]
  },
  {
   "cell_type": "code",
   "execution_count": null,
   "metadata": {
    "ExecuteTime": {
     "end_time": "2023-10-25T07:56:27.923847Z",
     "start_time": "2023-10-25T07:56:27.141077Z"
    }
   },
   "outputs": [],
   "source": [
    "leiden_scores = p0_42.comb_leiden_scores()\n",
    "\n",
    "# the TF = 50 contain experiments with the different modifiers\n",
    "# leiden_scores = leiden_scores.loc[leiden_scores[\"TF\"] != \"50\"]\n",
    "\n",
    "# Specific to the tum dataset\n",
    "leiden_scores.loc[leiden_scores[\"Modifier\"] == \"beta\", \"Modifier\"] = \"Penalty\"\n",
    "\n",
    "# Figure for multiple TFs and 3 Leiden scores\n",
    "fig = px.scatter(leiden_scores, x=\"Modifier\", color=\"TF\", y=\"ModularityScore\", size=\"ModuleNum\", facet_col=\"Leiden Rank\", facet_col_wrap=4)\n",
    "\n",
    "# Fir for one TF and 10 Leiden scores\n",
    "fig = gh.plot_leiden(p0_42, tf=\"50\")\n",
    "# fig.show()"
   ]
  },
  {
   "cell_type": "markdown",
   "metadata": {},
   "source": [
    "## Overview Leiden/Sankey (report)"
   ]
  },
  {
   "cell_type": "code",
   "execution_count": null,
   "metadata": {},
   "outputs": [],
   "source": [
    "tf, no_K, no_genes, cs_model = 50, 5, \"4K\", \"RawKMeans\"\n",
    "\n",
    "p0_42, sky_fig, cols = gh.prep_sankey_leiden(p0_42, vu_output=vu_output, tf=tf, no_K=no_K, no_genes=no_genes, chosen_cs_model=cs_model)\n",
    "leiden_sky = gh.plot_sankey_leiden(p0_42, sky_fig=sky_fig, rename_cols=cols, label=\"TF-{}\".format(tf), tf=str(tf))\n",
    "\n",
    "leiden_sky = leiden_sky.update_layout(title=\"\", xaxis=dict(tickfont=dict(size=18)), yaxis=dict(tickfont=dict(size=18)), font=dict(size=18), height=900)\n",
    "leiden_sky = leiden_sky.update_annotations(font_size=22)\n",
    "save_fig(name=f\"Ldn_Sky_TF_{tf}_RawKMeans_K5_{vers}\", fig=leiden_sky, base_path=figures_path, width=1400, height=1000)\n",
    "# fig.show()"
   ]
  },
  {
   "cell_type": "markdown",
   "metadata": {},
   "source": [
    "## Gene representation (report)\n",
    "\n"
   ]
  },
  {
   "cell_type": "markdown",
   "metadata": {},
   "source": [
    "### ModCon Selection"
   ]
  },
  {
   "cell_type": "code",
   "execution_count": null,
   "metadata": {},
   "outputs": [],
   "source": [
    "sel_exp = p0_42.exps[\"standard_4K_50TF\"]\n",
    "data_df = gh.mev_modcon_genes(sel_exp, ref_tpms=tum.exps[\"standard_4K_10TF\"].tpm_df, num_genes=100)\n",
    "fig = px.bar(data_df, x=\"Comm\", y=\"Num genes\", color=\"Type\", title=f\"Tum 4K. Gene representation in P0 gc42. Exp {sel_exp.type}\", text_auto=True)\n",
    "fig.update_layout(\n",
    "    title=\"\",\n",
    "    xaxis=dict(tickfont=dict(size=18), title=\"Community\"),\n",
    "    yaxis=dict(tickfont=dict(size=18), title=\"# genes\"),\n",
    "    legend=dict(\n",
    "        title=\"Standard\",\n",
    "        orientation=\"h\",\n",
    "        x=0.3,\n",
    "        y=1.1,\n",
    "    ),\n",
    "    font=dict(size=22),\n",
    ")\n",
    "save_fig(name=f\"4K_p0_modConMev_rep_{sel_exp.type}_{vers}\", fig=fig, base_path=figures_path, width=1600, height=600, margin=0.02)"
   ]
  },
  {
   "cell_type": "code",
   "execution_count": null,
   "metadata": {},
   "outputs": [],
   "source": [
    "sel_exp = p0_42.exps[\"standard_4K_50TF\"]\n",
    "data_df = gh.mev_modcon_genes(sel_exp, ref_tpms=all_tum_tpms_v3, num_genes=100)\n",
    "fig = px.bar(data_df, x=\"Comm\", y=\"Num genes\", color=\"Type\", title=f\"Tum all. Gene representation in P0 gc42. Exp {sel_exp.type}\", text_auto=True)\n",
    "fig.update_layout(\n",
    "    title=\"\",\n",
    "    xaxis=dict(tickfont=dict(size=18), title=\"Community\"),\n",
    "    yaxis=dict(tickfont=dict(size=18), title=\"# genes\"),\n",
    "    legend=dict(\n",
    "        title=\"Standard\",\n",
    "        orientation=\"h\",\n",
    "        x=0.3,\n",
    "        y=1.1,\n",
    "    ),\n",
    "    font=dict(size=22),\n",
    ")\n",
    "save_fig(name=f\"13K_p0_modConMev_rep_{sel_exp.type}_{vers}\", fig=fig, base_path=figures_path, width=1600, height=600, margin=0.02)"
   ]
  },
  {
   "cell_type": "markdown",
   "metadata": {},
   "source": [
    "### Mutation"
   ]
  },
  {
   "cell_type": "code",
   "execution_count": null,
   "metadata": {},
   "outputs": [],
   "source": [
    "if 0:\n",
    "    p0_all_stats_df = gh.stats_mut_burden(p0_42.exps[\"standard_4K_50TF\"].tpm_df, tf_list, tcga_mutations_df, type=\"All\")\n",
    "\n",
    "    p0_all_stats_df[\"Type\"] = \"P0\"\n",
    "    fig = gh.plot_mut_rep(p0_all_stats_df, title=\"P0. The 4K expressed gene used in the network and their mutation burden\")\n",
    "    # fig.show()\n",
    "    # save_fig(name=\"MutTF_representation_{}\".format(\"4K-all\"), fig=fig, base_path=figures_path, width=1400, height=700)"
   ]
  },
  {
   "cell_type": "markdown",
   "metadata": {},
   "source": [
    "## Norm3 vs standard (report)"
   ]
  },
  {
   "cell_type": "code",
   "execution_count": null,
   "metadata": {
    "ExecuteTime": {
     "end_time": "2023-10-25T07:56:39.702112Z",
     "start_time": "2023-10-25T07:56:38.057896Z"
    }
   },
   "outputs": [],
   "source": [
    "%autoreload 2\n",
    "std_norm3_comp = NetworkComp(p0_42, 4, \"standard_4K_50TF\", \"norm3_4K_50TF\")\n",
    "\n",
    "map_names = {\"standard_4K_50TF\": \"Standard\", \"norm3_4K_50TF\": \"Reward\"}\n",
    "figs = std_norm3_comp.plt_median_ge(map_names=map_names, path=figures_path)"
   ]
  },
  {
   "cell_type": "markdown",
   "metadata": {},
   "source": [
    "## Community comparison (report)"
   ]
  },
  {
   "cell_type": "code",
   "execution_count": null,
   "metadata": {
    "ExecuteTime": {
     "end_time": "2023-10-25T07:56:39.766955Z",
     "start_time": "2023-10-25T07:56:39.702423Z"
    }
   },
   "outputs": [],
   "source": [
    "%autoreload 2\n",
    "if 1:\n",
    "    # Community changes\n",
    "    fig = std_norm3_comp.sankey_plot(toSave=False, path=figures_path)\n",
    "    fig.update_layout(font=dict(size=20), title=\"\")\n",
    "    fig.update_annotations(font_size=22)\n",
    "    save_fig(name=f\"Sky_Comm_Comp_4K_{vers}\", fig=fig, base_path=figures_path, width=1500, height=700)\n",
    "\n",
    "    # Mutation distribution for each community\n",
    "    fig = std_norm3_comp.com_mut_distrib(\n",
    "        include_source=True,\n",
    "        toSave=False,\n",
    "        path=figures_path,\n",
    "        annotations=True,\n",
    "        ann_chg=[\n",
    "            \"UTRN\",\n",
    "            \"CREBBP\",\n",
    "            \"FAT2\",\n",
    "        ],\n",
    "        ann_rm=[\"DST\", 'AHNAK'],\n",
    "        ann_add=[\"MED3\", \"CDKN2A\", \"FAT2\", \"LYST\", \"STAB1\", \"MYH10\", \"COL7A1\", \"MYO1F\", \"FGFR3\"],\n",
    "    )\n",
    "    fig.update_layout(title = '', xaxis_title=\"Reward Communities\", yaxis_title=\"Mutations burden\", legend=dict(title=\"Standard\", x=0.93, y=0.73), font=dict(size=20))\n",
    "    save_fig(name=f\"Mut_Comm_Comp_4K_{vers}\", fig=fig, base_path=figures_path, width=1400, height=700, margin=0.02)"
   ]
  },
  {
   "cell_type": "code",
   "execution_count": null,
   "metadata": {},
   "outputs": [],
   "source": [
    "dmy_df, meta_norm3 = std_norm3_comp.comb_mut_stats(direction=\"Target\", end=25)\n",
    "fig = std_norm3_comp.plot_mut_evo(dmy_df, direction=\"Target\")\n",
    "fig.update_layout(\n",
    "    title=\"\",\n",
    "    xaxis=dict(tickfont=dict(size=18), title=\"Mutation burden\"),\n",
    "    yaxis=dict(tickfont=dict(size=18), title=\"# genes\"),\n",
    "    legend_title=\"Reward\",\n",
    "    font=dict(size=20),\n",
    ")\n",
    "save_fig(name=f\"Mut_evo_Rwd_4k_{vers}\", fig=fig, base_path=figures_path, width=1200, height=500, margin=0.02)"
   ]
  },
  {
   "cell_type": "code",
   "execution_count": null,
   "metadata": {},
   "outputs": [],
   "source": [
    "dmy_df, meta_std = std_norm3_comp.comb_mut_stats(direction=\"Source\", end=25)\n",
    "fig = std_norm3_comp.plot_mut_evo(dmy_df, direction=\"Source\")\n",
    "fig.update_layout(\n",
    "    title=\"\",\n",
    "    xaxis=dict(tickfont=dict(size=18), title=\"Mutation burden\"),\n",
    "    yaxis=dict(tickfont=dict(size=18), title=\"# genes\"),\n",
    "    legend_title=\"Reward\",\n",
    "    font=dict(size=20),\n",
    ")\n",
    "save_fig(name=f\"Mut_evo_Std_4k_{vers}\", fig=fig, base_path=figures_path, width=1200, height=500, margin=0.02)\n",
    "# NetworkComp.plot_corr_matrix_coms(meta_std, height=700, title=\"P0 derived. Corr matrix for standard\", hide_up=True)"
   ]
  },
  {
   "cell_type": "code",
   "execution_count": null,
   "metadata": {},
   "outputs": [],
   "source": [
    "if False:\n",
    "    std_beta_comp = NetworkComp(p0_42, 4, \"standard_4K_50TF\", \"r_beta_4K_50TF\")\n",
    "\n",
    "    comp_dict = std_beta_comp.comp_ge_comm()\n",
    "    for key, df in comp_dict.items():\n",
    "        title = \"P0. Median values in communities for {}\".format(key)\n",
    "        fig_name = \"{}_median\".format(key)\n",
    "        fig = px.box(df, x=\"Comm\", y=\"Median\", color=\"Comm\", title=title, points=\"all\")\n",
    "        # fig.show()\n",
    "\n",
    "    fig = std_beta_comp.sankey_plot(toSave=False, path=figures_path)\n",
    "    dmy_df, meta_beta = std_beta_comp.comb_mut_stats(direction=\"Target\", end=40)\n",
    "    fig = std_beta_comp.plot_mut_evo(dmy_df, direction=\"Target\")\n",
    "    fig.update_layout(title=\"Pen. Mutation burden across communities.\", xaxis_title=\"Mutation burden\", legend_title=\"Penalised\")\n",
    "    save_fig(name=\"Mut_evo_Pen_4k\", fig=fig, base_path=figures_path, width=900, height=500)"
   ]
  },
  {
   "cell_type": "markdown",
   "metadata": {},
   "source": [
    "# Cluster Analysis vs Network All experiments"
   ]
  },
  {
   "cell_type": "code",
   "execution_count": null,
   "metadata": {
    "ExecuteTime": {
     "end_time": "2023-10-25T08:02:34.253032Z",
     "start_time": "2023-10-25T07:56:39.769312Z"
    }
   },
   "outputs": [],
   "source": [
    "%%capture\n",
    "exps_gene_stats = []\n",
    "for exp in p0_42.get_exps():\n",
    "    gene_stats = gh.extract_gene_sel(exp=exp, ref_ge=all_tum_tpms, num_genes=3500)\n",
    "    tf, modifier = exp.type.split(\"_\")[-1], exp.type.split(\"_\")[0]\n",
    "    exps_gene_stats.append((tf, modifier, len(gene_stats[\"cmn_sel\"]), len(gene_stats[\"cmn_all\"]), len(gene_stats[\"net_sel_genes\"]), len(gene_stats[\"cs_genes\"])))\n",
    "\n",
    "tst_df = pd.DataFrame(exps_gene_stats, columns=[\"TF\", \"Modifier\", \"cmn_sel\", \"cmn_all\", \"all_net\", \"cs_genes\"])"
   ]
  },
  {
   "cell_type": "code",
   "execution_count": null,
   "metadata": {
    "ExecuteTime": {
     "end_time": "2023-10-25T08:02:34.411193Z",
     "start_time": "2023-10-25T08:02:34.253227Z"
    }
   },
   "outputs": [],
   "source": [
    "comm_nums = []\n",
    "for exp in p0_42.get_exps():\n",
    "    tf, modifier = exp.type.split(\"_\")[-1], exp.type.split(\"_\")[0]\n",
    "    comm_nums.append((tf, modifier, len(exp.leiden_best[\"Modularity Class\"].unique())))\n",
    "\n",
    "\n",
    "dmy_df = pd.DataFrame(comm_nums, columns=[\"TF\", \"Modifier\", \"Community_size\"])\n",
    "dmy_df[\"TF_num\"] = dmy_df[\"TF\"].str.split(\"TF\", expand=True)[0].astype(int)\n",
    "dmy_df.sort_values(by=\"TF_num\", ascending=True, inplace=True)\n",
    "dmy_df[\"Community_size_scale\"] = dmy_df[\"Community_size\"] * 10"
   ]
  },
  {
   "cell_type": "code",
   "execution_count": null,
   "metadata": {
    "ExecuteTime": {
     "end_time": "2023-10-25T08:02:34.495842Z",
     "start_time": "2023-10-25T08:02:34.445609Z"
    }
   },
   "outputs": [],
   "source": [
    "fig = px.bar(\n",
    "    tst_df,\n",
    "    x=\"TF\",\n",
    "    y=\"cmn_sel\",\n",
    "    color=\"Modifier\",\n",
    "    barmode=\"group\",\n",
    "    title=\"P0. Network vs Std/Median. Cmn genes\",\n",
    "    category_orders={\"TF\": [\"{}TF\".format(i) for i in range(3, 11)] + [\"50TF\"]},\n",
    ")\n",
    "# fig.add_trace(go.Scatter(\n",
    "#         x=dmy_df['TF'],\n",
    "#         y=dmy_df['Community_size'],\n",
    "#         name=\"Community_size\"\n",
    "#     ))\n",
    "# fig.show()"
   ]
  },
  {
   "cell_type": "code",
   "execution_count": null,
   "metadata": {
    "ExecuteTime": {
     "end_time": "2023-10-25T08:02:34.595917Z",
     "start_time": "2023-10-25T08:02:34.495661Z"
    }
   },
   "outputs": [],
   "source": [
    "color_scheme = px.colors.qualitative.G10\n",
    "fig_comm = px.line(\n",
    "    dmy_df,\n",
    "    x=\"TF\",\n",
    "    y=\"Community_size_scale\",\n",
    "    color=\"Modifier\",\n",
    "    # barmode=\"group\",\n",
    "    markers=True,\n",
    "    # color_discrete_sequence=px.colors.qualitative.G10,\n",
    "    text=\"Community_size\",\n",
    "    color_discrete_sequence=[color_scheme[0], color_scheme[1], color_scheme[3]],\n",
    "    title=\"P0. Network vs Std/Median. Community size genes\",\n",
    "    category_orders={\"TF\": [\"{}TF\".format(i) for i in range(3, 11)] + [\"50TF\"]},\n",
    ")\n",
    "fig_comm.update_traces(textposition=\"top right\")\n",
    "fig_comm.for_each_trace(lambda t: t.update(textfont_color=\"white\", textposition=\"top center\"))\n",
    "# fig_comm.show()\n",
    "\n",
    "for trace in range(len(fig_comm[\"data\"])):\n",
    "    fig.add_trace(fig_comm[\"data\"][trace])\n",
    "\n",
    "fig = fig.update_layout(height=700)"
   ]
  },
  {
   "attachments": {},
   "cell_type": "markdown",
   "metadata": {},
   "source": [
    "# Tools"
   ]
  },
  {
   "attachments": {},
   "cell_type": "markdown",
   "metadata": {},
   "source": [
    "## Explore relationship of TF with modCon score \n",
    "\n",
    "**Hypothesis**: When TF is set to a large number, there are going to be more TF genes in the modCon as in compared when TF = 10"
   ]
  },
  {
   "cell_type": "code",
   "execution_count": null,
   "metadata": {
    "ExecuteTime": {
     "end_time": "2023-10-25T08:02:35.345940Z",
     "start_time": "2023-10-25T08:02:34.595740Z"
    }
   },
   "outputs": [],
   "source": [
    "# compute modConRank\n",
    "for exp in p0_42.get_exps():\n",
    "    # exp.nodes_df[\"ModCon_Rank\"] = 0\n",
    "    for modCon, value in exp.modCons.items():\n",
    "        dmy = value.sort_values(by=[\"ModCon_{}\".format(exp.type)], ascending=False).reset_index(names=\"Id\").iloc[:100]\n",
    "        dmy[\"Rank\"] = dmy.index + 1\n",
    "        dmy.set_index(\"Id\", inplace=True)\n",
    "        exp.nodes_df.loc[exp.nodes_df[\"Modularity Class\"] == modCon, \"ModCon_Rank\"] = dmy[\"Rank\"]\n",
    "        exp.nodes_df[\"ModCon_Rank\"] = exp.nodes_df[\"ModCon_Rank\"].fillna(0)"
   ]
  },
  {
   "cell_type": "code",
   "execution_count": null,
   "metadata": {
    "ExecuteTime": {
     "end_time": "2023-10-25T08:02:36.103539Z",
     "start_time": "2023-10-25T08:02:35.345577Z"
    }
   },
   "outputs": [],
   "source": [
    "std_TF_comp = NetworkComp(p0_42, 4, \"standard_4K_50TF\", \"standard_4K_10TF\")\n",
    "\n",
    "# We need to allign the modCons communities number too. We'll do that by the\n",
    "remap_cols = {}\n",
    "for src_com in std_TF_comp.comp_df[\"Source\"].unique():\n",
    "    trgt_com = std_TF_comp.comp_df[std_TF_comp.comp_df[\"Source\"] == src_com][\"Target\"].values[0]\n",
    "    remap_cols[trgt_com] = src_com"
   ]
  },
  {
   "cell_type": "code",
   "execution_count": null,
   "metadata": {
    "ExecuteTime": {
     "end_time": "2023-10-25T08:02:36.399971Z",
     "start_time": "2023-10-25T08:02:36.103762Z"
    }
   },
   "outputs": [],
   "source": [
    "# rename exp 2 modCons\n",
    "r_modCon = {}\n",
    "for key, value in std_TF_comp.target_exp.modCons.items():\n",
    "    if str(key) in remap_cols.keys():\n",
    "        r_modCon[remap_cols[str(key)]] = value\n",
    "\n",
    "# Prepare figures\n",
    "exp_1 = std_TF_comp.source_exp\n",
    "exp_2 = std_TF_comp.target_exp\n",
    "\n",
    "figs, titles = [], []\n",
    "for key, val in remap_cols.items():\n",
    "    modCon_1, modCon_2 = exp_1.modCons[int(val)], exp_2.modCons[int(key)]\n",
    "    modCon_1[\"exp\"], modCon_2[\"exp\"] = exp_1.type, exp_2.type\n",
    "    col_1, col_2 = \"ModCon_{}\".format(exp_1.type), \"ModCon_{}\".format(exp_2.type)\n",
    "    merged_df = pd.concat([modCon_1[col_1], modCon_2[col_2]], axis=1).fillna(-100)\n",
    "\n",
    "    merged_df[\"TF\"] = \"No TF\"\n",
    "    merged_df.loc[merged_df.index.isin(tf_list), \"TF\"] = \"TF\"\n",
    "\n",
    "    titles.append(\"{} vs {}.\".format(key, val))\n",
    "    fig = px.scatter(merged_df.reset_index(names=\"gene\"), x=col_1, y=col_2, color=\"TF\", hover_data=[\"gene\"])\n",
    "    figs.append(fig)"
   ]
  },
  {
   "cell_type": "code",
   "execution_count": null,
   "metadata": {
    "ExecuteTime": {
     "end_time": "2023-10-25T08:02:36.506500Z",
     "start_time": "2023-10-25T08:02:36.400156Z"
    }
   },
   "outputs": [],
   "source": [
    "num_cols = 3\n",
    "num_rows = int(np.ceil(len(remap_cols.keys()) / num_cols))\n",
    "\n",
    "subplot = make_subplots(rows=num_rows, cols=num_cols, subplot_titles=titles, shared_xaxes=False, horizontal_spacing=0.05, vertical_spacing=0.07)\n",
    "\n",
    "idx_row, idx_col = 1, 1\n",
    "for i, fig in enumerate(figs):\n",
    "    for trace in range(len(fig[\"data\"])):\n",
    "        subplot.append_trace(fig[\"data\"][trace], row=idx_row, col=idx_col)\n",
    "\n",
    "    if idx_col % num_cols == 0:\n",
    "        idx_col = 0\n",
    "        idx_row += 1\n",
    "    idx_col += 1\n",
    "\n",
    "layout = go.Layout(title_text=\"ModCon top 100, community comparison. Target {} vs Source {}\".format(std_TF_comp.source_exp.type, std_TF_comp.target_exp.type))\n",
    "subplot.update_layout(coloraxis_autocolorscale=False, coloraxis_colorscale=px.colors.sequential.Sunsetdark)\n",
    "\n",
    "subplot = subplot.update_layout(layout, height=700)\n",
    "subplot = subplot.update_xaxes(title_text=\"ModCon {}\".format(\"10TF\"))\n",
    "subplot = subplot.update_yaxes(title_text=\"ModCon {}\".format(\"50TF\"))\n",
    "\n",
    "# subplot\n",
    "# save_fig(name=\"TF_comp\", fig=subplot, base_path=figures_path, width=1920, height=1080)"
   ]
  },
  {
   "attachments": {},
   "cell_type": "markdown",
   "metadata": {},
   "source": [
    "# IVI comparison"
   ]
  },
  {
   "cell_type": "code",
   "execution_count": null,
   "metadata": {
    "ExecuteTime": {
     "end_time": "2023-10-25T08:02:36.558364Z",
     "start_time": "2023-10-25T08:02:36.506649Z"
    }
   },
   "outputs": [],
   "source": [
    "exp_1 = p0_42.exps[\"standard_4K_10TF\"]\n",
    "# exp_2 = p0_42.exps[\"norm3_4K\"]\n",
    "exp_2 = tum.exps[\"standard_4K_50TF\"]\n",
    "\n",
    "\n",
    "def ivi_comp(exp_1, exp_2, tf_list):\n",
    "    tissue_type_1, tissue_type_2 = exp_1.name.split(\"_\")[-3], exp_2.name.split(\"_\")[-3]\n",
    "\n",
    "    ivi_col_1, ivi_col_2 = \"IVI_{}_{}\".format(tissue_type_1, exp_1.type), \"IVI_{}_{}\".format(tissue_type_2, exp_2.type)\n",
    "    nodes_1 = exp_1.nodes_df.rename(columns={\"IVI\": ivi_col_1}).copy(deep=True)\n",
    "    nodes_2 = exp_2.nodes_df.rename(columns={\"IVI\": ivi_col_2}).copy(deep=True)\n",
    "\n",
    "    dmy_df = pd.concat([nodes_1[ivi_col_1], nodes_2[ivi_col_2]], axis=1)\n",
    "    dmy_df[\"mut_count\"] = tcga_mutations_df[\"count\"]\n",
    "    dmy_df[\"mut_count\"] = dmy_df[\"mut_count\"].fillna(0)\n",
    "    dmy_df[\"TF\"] = \"No TF\"\n",
    "    dmy_df.loc[dmy_df.index.isin(list(tf_list)), \"TF\"] = \"TF\"\n",
    "\n",
    "    dmy_df.fillna(-10, inplace=True)\n",
    "    dmy_df = dmy_df.reset_index(names=\"gene\")\n",
    "    return dmy_df, ivi_col_1, ivi_col_2"
   ]
  },
  {
   "attachments": {},
   "cell_type": "markdown",
   "metadata": {},
   "source": [
    "## 50 TF vs 10 TF\n",
    "\n",
    "The below plot clearly shows that the bias of the algorithm with 50 edges for TF"
   ]
  },
  {
   "cell_type": "code",
   "execution_count": null,
   "metadata": {
    "ExecuteTime": {
     "end_time": "2023-10-25T08:02:36.753578Z",
     "start_time": "2023-10-25T08:02:36.553095Z"
    }
   },
   "outputs": [],
   "source": [
    "exp_1, exp_2 = p0_42.exps[\"standard_4K_10TF\"], p0_42.exps[\"standard_4K_50TF\"]\n",
    "dmy_df, ivi_1, ivi_2 = ivi_comp(exp_1, exp_2, tf_list)\n",
    "\n",
    "px.scatter(\n",
    "    dmy_df,\n",
    "    x=ivi_1,\n",
    "    y=ivi_2,\n",
    "    hover_data=dmy_df.columns,\n",
    "    color=\"TF\",\n",
    "    size=\"mut_count\",\n",
    "    size_max=40,\n",
    "    title=\"IVI comparison {} - {}\".format(exp_1.name, exp_2.name),\n",
    "    height=600,\n",
    ")"
   ]
  },
  {
   "attachments": {},
   "cell_type": "markdown",
   "metadata": {},
   "source": [
    "## P0_10TF vs Tum"
   ]
  },
  {
   "cell_type": "code",
   "execution_count": null,
   "metadata": {
    "ExecuteTime": {
     "end_time": "2023-10-25T08:02:36.756399Z",
     "start_time": "2023-10-25T08:02:36.750920Z"
    }
   },
   "outputs": [],
   "source": [
    "exp_1, exp_2 = p0_42.exps[\"standard_4K_10TF\"], tum.exps[\"standard_4K_50TF\"]\n",
    "dmy_df, ivi_1, ivi_2 = ivi_comp(exp_1, exp_2, tf_list)\n",
    "\n",
    "if 0:\n",
    "    px.scatter(\n",
    "        dmy_df,\n",
    "        x=ivi_1,\n",
    "        y=ivi_2,\n",
    "        hover_data=dmy_df.columns,\n",
    "        color=\"TF\",\n",
    "        size=\"mut_count\",\n",
    "        size_max=40,\n",
    "        title=\"IVI comparison {} - {}\".format(exp_1.name, exp_2.name),\n",
    "        height=600,\n",
    "    )"
   ]
  },
  {
   "attachments": {},
   "cell_type": "markdown",
   "metadata": {},
   "source": [
    "## P0_50TF vs TUM"
   ]
  },
  {
   "cell_type": "code",
   "execution_count": null,
   "metadata": {
    "ExecuteTime": {
     "end_time": "2023-10-25T08:02:36.847570Z",
     "start_time": "2023-10-25T08:02:36.751169Z"
    }
   },
   "outputs": [],
   "source": [
    "exp_1, exp_2 = p0_42.exps[\"standard_4K_50TF\"], tum.exps[\"standard_4K_50TF\"]\n",
    "dmy_df, ivi_1, ivi_2 = ivi_comp(exp_1, exp_2, tf_list)\n",
    "\n",
    "if 0:\n",
    "    px.scatter(\n",
    "        dmy_df,\n",
    "        x=ivi_1,\n",
    "        y=ivi_2,\n",
    "        hover_data=dmy_df.columns,\n",
    "        color=\"TF\",\n",
    "        size=\"mut_count\",\n",
    "        size_max=40,\n",
    "        title=\"IVI comparison {} - {}\".format(exp_1.name, exp_2.name),\n",
    "        height=600,\n",
    "    )"
   ]
  }
 ],
 "metadata": {
  "kernelspec": {
   "display_name": "iNet",
   "language": "python",
   "name": "python3"
  },
  "language_info": {
   "codemirror_mode": {
    "name": "ipython",
    "version": 3
   },
   "file_extension": ".py",
   "mimetype": "text/x-python",
   "name": "python",
   "nbconvert_exporter": "python",
   "pygments_lexer": "ipython3",
   "version": "3.9.13"
  },
  "orig_nbformat": 4
 },
 "nbformat": 4,
 "nbformat_minor": 2
}
