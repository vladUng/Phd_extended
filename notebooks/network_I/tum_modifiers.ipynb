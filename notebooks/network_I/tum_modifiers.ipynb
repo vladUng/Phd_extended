{
 "cells": [
  {
   "cell_type": "markdown",
   "metadata": {},
   "source": [
    "# Motivation\n",
    "\n",
    "In this notebook I'm looking at the difference between the modifiers in tumour derived networks. This is part of chapter 4 section 4.4 from my PhD thesis"
   ]
  },
  {
   "cell_type": "markdown",
   "metadata": {},
   "source": [
    "# Init"
   ]
  },
  {
   "cell_type": "code",
   "execution_count": 1,
   "metadata": {},
   "outputs": [
    {
     "name": "stdout",
     "output_type": "stream",
     "text": [
      "The autoreload extension is already loaded. To reload it, use:\n",
      "  %reload_ext autoreload\n"
     ]
    }
   ],
   "source": [
    "%load_ext autoreload\n",
    "import pandas as pd\n",
    "import numpy as np\n",
    "import os\n",
    "import sys \n",
    "\n",
    "import plotly.express as px\n",
    "import plotly.io as pio\n",
    "from scipy import stats\n",
    "\n",
    "\n",
    "import multiprocess as mp\n",
    "\n",
    "sys.path.append('/Users/vlad/Developer/York/iNet_v2/src/')\n",
    "\n",
    "from NetworkAnalysis.ExperimentSet import ExperimentSet\n",
    "from NetworkAnalysis.NetworkComp import NetworkComp\n",
    "from NetworkAnalysis import GraphHelper as gh\n",
    "from NetworkAnalysis.utilities import sankey_consensus_plot as sky\n",
    "from NetworkAnalysis.utilities.helpers import save_fig\n",
    "import NetworkAnalysis.utilities.clustering as cs\n",
    "\n",
    "pio.templates.default = \"ggplot2\"\n",
    "\n",
    "%matplotlib inline"
   ]
  },
  {
   "cell_type": "code",
   "execution_count": 2,
   "metadata": {},
   "outputs": [],
   "source": [
    "data_base = \"../../data/\"\n",
    "base_path = \"../../results/\"\n",
    "exp_folder_tumour = \"network_I/tum/\"  # \"/integration_v2.1/tum/\" - path from iNET\n",
    "\n",
    "# figures_path = base_path + exp_folder_tumour + \"Figures/\"\n",
    "figures_path = \"tum_modifiers/\"\n",
    "\n",
    "vu_output = pd.read_csv(f\"{data_base}/metadata/VU_clustering_v3.tsv\", sep=\"\\t\", index_col=\"Sample\")\n",
    "\n",
    "# prep mut\n",
    "tcga_mutations_df = pd.read_csv(f\"{data_base}/tumour/mutations_tcga.csv\")\n",
    "tcga_mutations_df = tcga_mutations_df[tcga_mutations_df[\"count\"] != 0].set_index(\"gene\")\n",
    "\n",
    "all_tum_tpms = pd.read_csv(f\"{data_base}/tumour/TPMs_selected_genes_v3_13k_gc42.tsv\", sep=\"\\t\", index_col=\"genes\")\n",
    "all_tum_tpms_v4 = pd.read_csv(f\"{data_base}/tumour/tum_TPMs_selected_genes_gc42_all_v4.tsv\", sep=\"\\t\", index_col=\"genes\")\n",
    "\n",
    "# tf list\n",
    "tf_path = f\"{data_base}/metadata/TF_names_v_1.01.txt\"\n",
    "if os.path.exists(tf_path):\n",
    "    tf_list = np.genfromtxt(fname=tf_path, delimiter=\"\\t\", skip_header=1, dtype=\"str\")"
   ]
  },
  {
   "cell_type": "markdown",
   "metadata": {},
   "source": [
    "## Load experiment sets"
   ]
  },
  {
   "cell_type": "code",
   "execution_count": 3,
   "metadata": {},
   "outputs": [
    {
     "name": "stdout",
     "output_type": "stream",
     "text": [
      "❗️ Check this experiment, there might be a problem in loading the data: norm2_int_tum_4K_50TF\n",
      "##### Experiment labels:  dict_keys(['beta_4K_50TF', 'norm2_4K_50TF', 'standard_4K_50TF', 'beta2_4K_50TF', 'beta3_4K_50TF', 'norm3_4K_50TF', 'standard_4K_10TF', 'norm3_4K_10TF', 'beta_4K_10TF', 'standard_4K_6TF', 'beta_4K_6TF', 'norm3_4K_6TF', 'standard_4K_3TF', 'beta_4K_3TF', 'norm3_4K_3TF', 'standard_4K_5TF', 'standard_4K_8TF', 'standard_4K_4TF', 'standard_4K_7TF', 'beta_4K_5TF', 'beta_4K_4TF', 'norm3_4K_7TF', 'norm3_4K_5TF', 'beta_4K_8TF', 'norm3_4K_4TF', 'beta_4K_7TF', 'norm3_4K_8TF', 'standard_4K_9TF', 'norm3_4K_9TF', 'beta_4K_9TF'])\n"
     ]
    }
   ],
   "source": [
    "%autoreload 2\n",
    "\n",
    "tum = ExperimentSet(\"tum\", base_path, exp_folder_tumour, tcga_mutations_df, sel_sets = [\"4K\",], rel_path=\"../\")\n",
    "# p0 = ExperimentSet(\"p0\", base_path, exp_folder_p0, tcga_mutations_df, sel_sets = [\"4K\"], rel_path=\"../\")\n",
    "\n",
    "%autoreload 2\n",
    "tum.export_to_gephi(save=False)\n",
    "# p0.export_to_gephi(save=False)"
   ]
  },
  {
   "cell_type": "markdown",
   "metadata": {},
   "source": [
    "## Computed ModCon and MEV scores"
   ]
  },
  {
   "cell_type": "code",
   "execution_count": 4,
   "metadata": {},
   "outputs": [],
   "source": [
    "def worker(arg):\n",
    "    obj, methname = arg[:2]\n",
    "    _ = getattr(obj, methname)()\n",
    "    return obj"
   ]
  },
  {
   "cell_type": "code",
   "execution_count": 5,
   "metadata": {},
   "outputs": [],
   "source": [
    "pool = mp.Pool(mp.cpu_count())\n",
    "\n",
    "results = pool.map(worker, ((exp, \"get_ModCon\") for exp in tum.exps.values()))\n",
    "tum.exps = {exp.type: exp for exp in results}"
   ]
  },
  {
   "cell_type": "code",
   "execution_count": 6,
   "metadata": {},
   "outputs": [],
   "source": [
    "for exp in tum.get_exps():\n",
    "    # exp.nodes_df[\"ModCon_Rank\"] = 0\n",
    "    for modCon, value in exp.modCons.items():\n",
    "        dmy = value.sort_values(by=[\"ModCon_{}\".format(exp.type)], ascending=False).reset_index(names=\"Id\").iloc[:100]\n",
    "        dmy[\"Rank\"] = dmy.index + 1\n",
    "        dmy.set_index(\"Id\", inplace=True)\n",
    "        exp.nodes_df.loc[exp.nodes_df[\"Modularity Class\"] == modCon, \"ModCon_Rank\"] = dmy[\"Rank\"]\n",
    "        exp.nodes_df[\"ModCon_Rank\"] = exp.nodes_df[\"ModCon_Rank\"].fillna(0)\n",
    "\n",
    "tum.export_to_gephi(save=False)\n",
    "tum.generate_Mevs()"
   ]
  },
  {
   "cell_type": "markdown",
   "metadata": {},
   "source": [
    "# Comms Mutation stats"
   ]
  },
  {
   "cell_type": "code",
   "execution_count": 7,
   "metadata": {},
   "outputs": [
    {
     "data": {
      "text/plain": [
       "0.79975"
      ]
     },
     "execution_count": 7,
     "metadata": {},
     "output_type": "execute_result"
    }
   ],
   "source": [
    "std_exp = tum.exps[\"standard_4K_10TF\"]\n",
    "\n",
    "mut_genes = std_exp.mut_df[std_exp.mut_df[\"count\"] > 0].index\n",
    "expressed_genes = std_exp.tpm_df.index.values\n",
    "len(mut_genes) / len(expressed_genes)"
   ]
  },
  {
   "cell_type": "code",
   "execution_count": 8,
   "metadata": {},
   "outputs": [],
   "source": [
    "dmy = []\n",
    "sel_exp = tum.exps[\"norm3_4K_10TF\"]\n",
    "sort_col = \"ModCon_{}\".format(sel_exp.type)\n",
    "for comm, value in sel_exp.modCons.items():\n",
    "    modConGenes = value.sort_values(by=sort_col, ascending=False).iloc[:100]\n",
    "    modConMutated = sel_exp.mut_df[sel_exp.mut_df.index.isin(modConGenes)].shape[0]\n",
    "    dmy.append((comm, modConMutated / len(mut_genes)))"
   ]
  },
  {
   "cell_type": "markdown",
   "metadata": {},
   "source": [
    "# Leiden score comparison\n",
    "\n",
    "Looking at the leiden score comparison between experiments"
   ]
  },
  {
   "cell_type": "code",
   "execution_count": 9,
   "metadata": {},
   "outputs": [
    {
     "data": {
      "application/vnd.plotly.v1+json": {
       "config": {
        "plotlyServerURL": "https://plot.ly"
       },
       "data": [
        {
         "alignmentgroup": "True",
         "boxpoints": "all",
         "hovertemplate": "TF=6<br>Modifier=%{x}<br>ModuleNum=%{y}<extra></extra>",
         "legendgroup": "6",
         "marker": {
          "color": "#F8766D"
         },
         "name": "6",
         "notched": false,
         "offsetgroup": "6",
         "orientation": "v",
         "showlegend": true,
         "type": "box",
         "x": [
          "Standard",
          "Standard",
          "Standard",
          "Standard",
          "Standard",
          "Standard",
          "Standard",
          "Standard",
          "Standard",
          "Standard",
          "Penalty",
          "Penalty",
          "Penalty",
          "Penalty",
          "Penalty",
          "Penalty",
          "Penalty",
          "Penalty",
          "Penalty",
          "Penalty",
          "Reward",
          "Reward",
          "Reward",
          "Reward",
          "Reward",
          "Reward",
          "Reward",
          "Reward",
          "Reward",
          "Reward"
         ],
         "x0": " ",
         "xaxis": "x",
         "y": [
          25,
          23,
          24,
          25,
          26,
          22,
          22,
          25,
          23,
          25,
          24,
          24,
          22,
          24,
          24,
          24,
          23,
          23,
          24,
          25,
          24,
          23,
          21,
          23,
          24,
          24,
          23,
          23,
          23,
          23
         ],
         "y0": " ",
         "yaxis": "y"
        },
        {
         "alignmentgroup": "True",
         "boxpoints": "all",
         "hovertemplate": "TF=6<br>Modifier=%{x}<br>ModularityScore=%{y}<extra></extra>",
         "legendgroup": "6",
         "marker": {
          "color": "#F8766D"
         },
         "name": "6",
         "notched": false,
         "offsetgroup": "6",
         "orientation": "v",
         "showlegend": true,
         "type": "box",
         "x": [
          "Standard",
          "Standard",
          "Standard",
          "Standard",
          "Standard",
          "Standard",
          "Standard",
          "Standard",
          "Standard",
          "Standard",
          "Penalty",
          "Penalty",
          "Penalty",
          "Penalty",
          "Penalty",
          "Penalty",
          "Penalty",
          "Penalty",
          "Penalty",
          "Penalty",
          "Reward",
          "Reward",
          "Reward",
          "Reward",
          "Reward",
          "Reward",
          "Reward",
          "Reward",
          "Reward",
          "Reward"
         ],
         "x0": " ",
         "xaxis": "x2",
         "y": [
          0.7376743840383154,
          0.7376167678656869,
          0.7375104223068435,
          0.7374085358053429,
          0.7373500424411062,
          0.7373375215751716,
          0.7372615783635819,
          0.7372527159436016,
          0.7372154979567874,
          0.7372103566393056,
          0.7334055974702519,
          0.7326885559076884,
          0.7325236639154703,
          0.7322969617183903,
          0.7320379670631899,
          0.7319990203361438,
          0.7318223745081718,
          0.7317601288427691,
          0.7317448841249937,
          0.7316954287634092,
          0.7389462567332601,
          0.7384779637941692,
          0.738471481151155,
          0.7384512423964061,
          0.738200703138385,
          0.7381958943506789,
          0.7381237483498694,
          0.7380703126469501,
          0.7380507760603175,
          0.738023540448529
         ],
         "y0": " ",
         "yaxis": "y2"
        }
       ],
       "layout": {
        "annotations": [
         {
          "font": {
           "size": 16
          },
          "showarrow": false,
          "text": "Communities Number",
          "x": 0.225,
          "xanchor": "center",
          "xref": "paper",
          "y": 1,
          "yanchor": "bottom",
          "yref": "paper"
         },
         {
          "font": {
           "size": 16
          },
          "showarrow": false,
          "text": "Modularity Score",
          "x": 0.775,
          "xanchor": "center",
          "xref": "paper",
          "y": 1,
          "yanchor": "bottom",
          "yref": "paper"
         }
        ],
        "font": {
         "size": 16
        },
        "height": 500,
        "showlegend": false,
        "template": {
         "data": {
          "bar": [
           {
            "error_x": {
             "color": "rgb(51,51,51)"
            },
            "error_y": {
             "color": "rgb(51,51,51)"
            },
            "marker": {
             "line": {
              "color": "rgb(237,237,237)",
              "width": 0.5
             },
             "pattern": {
              "fillmode": "overlay",
              "size": 10,
              "solidity": 0.2
             }
            },
            "type": "bar"
           }
          ],
          "barpolar": [
           {
            "marker": {
             "line": {
              "color": "rgb(237,237,237)",
              "width": 0.5
             },
             "pattern": {
              "fillmode": "overlay",
              "size": 10,
              "solidity": 0.2
             }
            },
            "type": "barpolar"
           }
          ],
          "carpet": [
           {
            "aaxis": {
             "endlinecolor": "rgb(51,51,51)",
             "gridcolor": "white",
             "linecolor": "white",
             "minorgridcolor": "white",
             "startlinecolor": "rgb(51,51,51)"
            },
            "baxis": {
             "endlinecolor": "rgb(51,51,51)",
             "gridcolor": "white",
             "linecolor": "white",
             "minorgridcolor": "white",
             "startlinecolor": "rgb(51,51,51)"
            },
            "type": "carpet"
           }
          ],
          "choropleth": [
           {
            "colorbar": {
             "outlinewidth": 0,
             "tickcolor": "rgb(237,237,237)",
             "ticklen": 6,
             "ticks": "inside"
            },
            "type": "choropleth"
           }
          ],
          "contour": [
           {
            "colorbar": {
             "outlinewidth": 0,
             "tickcolor": "rgb(237,237,237)",
             "ticklen": 6,
             "ticks": "inside"
            },
            "colorscale": [
             [
              0,
              "rgb(20,44,66)"
             ],
             [
              1,
              "rgb(90,179,244)"
             ]
            ],
            "type": "contour"
           }
          ],
          "contourcarpet": [
           {
            "colorbar": {
             "outlinewidth": 0,
             "tickcolor": "rgb(237,237,237)",
             "ticklen": 6,
             "ticks": "inside"
            },
            "type": "contourcarpet"
           }
          ],
          "heatmap": [
           {
            "colorbar": {
             "outlinewidth": 0,
             "tickcolor": "rgb(237,237,237)",
             "ticklen": 6,
             "ticks": "inside"
            },
            "colorscale": [
             [
              0,
              "rgb(20,44,66)"
             ],
             [
              1,
              "rgb(90,179,244)"
             ]
            ],
            "type": "heatmap"
           }
          ],
          "heatmapgl": [
           {
            "colorbar": {
             "outlinewidth": 0,
             "tickcolor": "rgb(237,237,237)",
             "ticklen": 6,
             "ticks": "inside"
            },
            "colorscale": [
             [
              0,
              "rgb(20,44,66)"
             ],
             [
              1,
              "rgb(90,179,244)"
             ]
            ],
            "type": "heatmapgl"
           }
          ],
          "histogram": [
           {
            "marker": {
             "pattern": {
              "fillmode": "overlay",
              "size": 10,
              "solidity": 0.2
             }
            },
            "type": "histogram"
           }
          ],
          "histogram2d": [
           {
            "colorbar": {
             "outlinewidth": 0,
             "tickcolor": "rgb(237,237,237)",
             "ticklen": 6,
             "ticks": "inside"
            },
            "colorscale": [
             [
              0,
              "rgb(20,44,66)"
             ],
             [
              1,
              "rgb(90,179,244)"
             ]
            ],
            "type": "histogram2d"
           }
          ],
          "histogram2dcontour": [
           {
            "colorbar": {
             "outlinewidth": 0,
             "tickcolor": "rgb(237,237,237)",
             "ticklen": 6,
             "ticks": "inside"
            },
            "colorscale": [
             [
              0,
              "rgb(20,44,66)"
             ],
             [
              1,
              "rgb(90,179,244)"
             ]
            ],
            "type": "histogram2dcontour"
           }
          ],
          "mesh3d": [
           {
            "colorbar": {
             "outlinewidth": 0,
             "tickcolor": "rgb(237,237,237)",
             "ticklen": 6,
             "ticks": "inside"
            },
            "type": "mesh3d"
           }
          ],
          "parcoords": [
           {
            "line": {
             "colorbar": {
              "outlinewidth": 0,
              "tickcolor": "rgb(237,237,237)",
              "ticklen": 6,
              "ticks": "inside"
             }
            },
            "type": "parcoords"
           }
          ],
          "pie": [
           {
            "automargin": true,
            "type": "pie"
           }
          ],
          "scatter": [
           {
            "fillpattern": {
             "fillmode": "overlay",
             "size": 10,
             "solidity": 0.2
            },
            "type": "scatter"
           }
          ],
          "scatter3d": [
           {
            "line": {
             "colorbar": {
              "outlinewidth": 0,
              "tickcolor": "rgb(237,237,237)",
              "ticklen": 6,
              "ticks": "inside"
             }
            },
            "marker": {
             "colorbar": {
              "outlinewidth": 0,
              "tickcolor": "rgb(237,237,237)",
              "ticklen": 6,
              "ticks": "inside"
             }
            },
            "type": "scatter3d"
           }
          ],
          "scattercarpet": [
           {
            "marker": {
             "colorbar": {
              "outlinewidth": 0,
              "tickcolor": "rgb(237,237,237)",
              "ticklen": 6,
              "ticks": "inside"
             }
            },
            "type": "scattercarpet"
           }
          ],
          "scattergeo": [
           {
            "marker": {
             "colorbar": {
              "outlinewidth": 0,
              "tickcolor": "rgb(237,237,237)",
              "ticklen": 6,
              "ticks": "inside"
             }
            },
            "type": "scattergeo"
           }
          ],
          "scattergl": [
           {
            "marker": {
             "colorbar": {
              "outlinewidth": 0,
              "tickcolor": "rgb(237,237,237)",
              "ticklen": 6,
              "ticks": "inside"
             }
            },
            "type": "scattergl"
           }
          ],
          "scattermapbox": [
           {
            "marker": {
             "colorbar": {
              "outlinewidth": 0,
              "tickcolor": "rgb(237,237,237)",
              "ticklen": 6,
              "ticks": "inside"
             }
            },
            "type": "scattermapbox"
           }
          ],
          "scatterpolar": [
           {
            "marker": {
             "colorbar": {
              "outlinewidth": 0,
              "tickcolor": "rgb(237,237,237)",
              "ticklen": 6,
              "ticks": "inside"
             }
            },
            "type": "scatterpolar"
           }
          ],
          "scatterpolargl": [
           {
            "marker": {
             "colorbar": {
              "outlinewidth": 0,
              "tickcolor": "rgb(237,237,237)",
              "ticklen": 6,
              "ticks": "inside"
             }
            },
            "type": "scatterpolargl"
           }
          ],
          "scatterternary": [
           {
            "marker": {
             "colorbar": {
              "outlinewidth": 0,
              "tickcolor": "rgb(237,237,237)",
              "ticklen": 6,
              "ticks": "inside"
             }
            },
            "type": "scatterternary"
           }
          ],
          "surface": [
           {
            "colorbar": {
             "outlinewidth": 0,
             "tickcolor": "rgb(237,237,237)",
             "ticklen": 6,
             "ticks": "inside"
            },
            "colorscale": [
             [
              0,
              "rgb(20,44,66)"
             ],
             [
              1,
              "rgb(90,179,244)"
             ]
            ],
            "type": "surface"
           }
          ],
          "table": [
           {
            "cells": {
             "fill": {
              "color": "rgb(237,237,237)"
             },
             "line": {
              "color": "white"
             }
            },
            "header": {
             "fill": {
              "color": "rgb(217,217,217)"
             },
             "line": {
              "color": "white"
             }
            },
            "type": "table"
           }
          ]
         },
         "layout": {
          "annotationdefaults": {
           "arrowhead": 0,
           "arrowwidth": 1
          },
          "autotypenumbers": "strict",
          "coloraxis": {
           "colorbar": {
            "outlinewidth": 0,
            "tickcolor": "rgb(237,237,237)",
            "ticklen": 6,
            "ticks": "inside"
           }
          },
          "colorscale": {
           "sequential": [
            [
             0,
             "rgb(20,44,66)"
            ],
            [
             1,
             "rgb(90,179,244)"
            ]
           ],
           "sequentialminus": [
            [
             0,
             "rgb(20,44,66)"
            ],
            [
             1,
             "rgb(90,179,244)"
            ]
           ]
          },
          "colorway": [
           "#F8766D",
           "#A3A500",
           "#00BF7D",
           "#00B0F6",
           "#E76BF3"
          ],
          "font": {
           "color": "rgb(51,51,51)"
          },
          "geo": {
           "bgcolor": "white",
           "lakecolor": "white",
           "landcolor": "rgb(237,237,237)",
           "showlakes": true,
           "showland": true,
           "subunitcolor": "white"
          },
          "hoverlabel": {
           "align": "left"
          },
          "hovermode": "closest",
          "paper_bgcolor": "white",
          "plot_bgcolor": "rgb(237,237,237)",
          "polar": {
           "angularaxis": {
            "gridcolor": "white",
            "linecolor": "white",
            "showgrid": true,
            "tickcolor": "rgb(51,51,51)",
            "ticks": "outside"
           },
           "bgcolor": "rgb(237,237,237)",
           "radialaxis": {
            "gridcolor": "white",
            "linecolor": "white",
            "showgrid": true,
            "tickcolor": "rgb(51,51,51)",
            "ticks": "outside"
           }
          },
          "scene": {
           "xaxis": {
            "backgroundcolor": "rgb(237,237,237)",
            "gridcolor": "white",
            "gridwidth": 2,
            "linecolor": "white",
            "showbackground": true,
            "showgrid": true,
            "tickcolor": "rgb(51,51,51)",
            "ticks": "outside",
            "zerolinecolor": "white"
           },
           "yaxis": {
            "backgroundcolor": "rgb(237,237,237)",
            "gridcolor": "white",
            "gridwidth": 2,
            "linecolor": "white",
            "showbackground": true,
            "showgrid": true,
            "tickcolor": "rgb(51,51,51)",
            "ticks": "outside",
            "zerolinecolor": "white"
           },
           "zaxis": {
            "backgroundcolor": "rgb(237,237,237)",
            "gridcolor": "white",
            "gridwidth": 2,
            "linecolor": "white",
            "showbackground": true,
            "showgrid": true,
            "tickcolor": "rgb(51,51,51)",
            "ticks": "outside",
            "zerolinecolor": "white"
           }
          },
          "shapedefaults": {
           "fillcolor": "black",
           "line": {
            "width": 0
           },
           "opacity": 0.3
          },
          "ternary": {
           "aaxis": {
            "gridcolor": "white",
            "linecolor": "white",
            "showgrid": true,
            "tickcolor": "rgb(51,51,51)",
            "ticks": "outside"
           },
           "baxis": {
            "gridcolor": "white",
            "linecolor": "white",
            "showgrid": true,
            "tickcolor": "rgb(51,51,51)",
            "ticks": "outside"
           },
           "bgcolor": "rgb(237,237,237)",
           "caxis": {
            "gridcolor": "white",
            "linecolor": "white",
            "showgrid": true,
            "tickcolor": "rgb(51,51,51)",
            "ticks": "outside"
           }
          },
          "xaxis": {
           "automargin": true,
           "gridcolor": "white",
           "linecolor": "white",
           "showgrid": true,
           "tickcolor": "rgb(51,51,51)",
           "ticks": "outside",
           "title": {
            "standoff": 15
           },
           "zerolinecolor": "white"
          },
          "yaxis": {
           "automargin": true,
           "gridcolor": "white",
           "linecolor": "white",
           "showgrid": true,
           "tickcolor": "rgb(51,51,51)",
           "ticks": "outside",
           "title": {
            "standoff": 15
           },
           "zerolinecolor": "white"
          }
         }
        },
        "title": {
         "text": "Modularity scores vs community size TF-6 ",
         "y": 0.9
        },
        "xaxis": {
         "anchor": "y",
         "domain": [
          0,
          0.45
         ]
        },
        "xaxis2": {
         "anchor": "y2",
         "domain": [
          0.55,
          1
         ]
        },
        "yaxis": {
         "anchor": "x",
         "domain": [
          0,
          1
         ]
        },
        "yaxis2": {
         "anchor": "x2",
         "domain": [
          0,
          1
         ]
        }
       }
      }
     },
     "metadata": {},
     "output_type": "display_data"
    }
   ],
   "source": [
    "leiden_scores = tum.comb_leiden_scores()\n",
    "\n",
    "# the TF = 50 contain experiments with the different modifiers\n",
    "leiden_scores = leiden_scores.loc[leiden_scores[\"TF\"] != \"50\"]\n",
    "\n",
    "# Specific to the tum dataset\n",
    "leiden_scores.loc[leiden_scores[\"Modifier\"] == \"beta\", \"Modifier\"] = \"Penalty\"\n",
    "\n",
    "# Figure for multiple TFs and 3 Leiden scores\n",
    "fig = px.scatter(leiden_scores, x=\"Modifier\", color=\"TF\", y=\"ModularityScore\", size=\"ModuleNum\", facet_col=\"Leiden Rank\", facet_col_wrap=4)\n",
    "\n",
    "# Fir for one TF and 10 Leiden scores\n",
    "fig = gh.plot_leiden(exps=tum, tf=\"6\")\n",
    "fig.update_layout(font=dict(size=16))\n",
    "# save_fig(name=\"LeidenMetrics_{}\".format(label), fig=fig, base_path=figures_path, width=1400, height=600)"
   ]
  },
  {
   "cell_type": "markdown",
   "metadata": {},
   "source": [
    "# Network Metrics\n",
    "\n",
    "Between standard, norm and reward compare the network metrics: degree, pageRank, closeness, betwenees and IVI.\n",
    "\n",
    "The network configuration is: 4K and 10TF. and 4K and 3TF."
   ]
  },
  {
   "cell_type": "markdown",
   "metadata": {},
   "source": [
    "## 4K 6TF (report)"
   ]
  },
  {
   "cell_type": "code",
   "execution_count": null,
   "metadata": {},
   "outputs": [],
   "source": [
    "if True:\n",
    "    std_nt, rwrd_nt, pen_nt = tum.exps[\"standard_4K_6TF\"], tum.exps[\"norm3_4K_6TF\"], tum.exps[\"beta_4K_6TF\"]\n",
    "    metrics_df = gh.prep_net_metrics(std_nt, rwrd_nt, pen_nt)\n",
    "\n",
    "    fig = gh.plot_net_metrics(metrics_df, label=\"6TF\", log_y=True, filename=\"NetworkMetricsComp_{}\".format(\"6TF\"), figs_path=figures_path)\n",
    "    fig.show()"
   ]
  },
  {
   "cell_type": "markdown",
   "metadata": {},
   "source": [
    "## Statistical tests (report)"
   ]
  },
  {
   "cell_type": "code",
   "execution_count": 11,
   "metadata": {},
   "outputs": [],
   "source": [
    "from scipy import stats\n",
    "\n",
    "dist_std = metrics_df.loc[metrics_df[\"Type\"] == \"Standard\"]\n",
    "dist_rwd = metrics_df.loc[metrics_df[\"Type\"] == \"Reward\"]\n",
    "dist_pen = metrics_df.loc[metrics_df[\"Type\"] == \"Penalised\"]"
   ]
  },
  {
   "cell_type": "code",
   "execution_count": 10,
   "metadata": {},
   "outputs": [
    {
     "name": "stdout",
     "output_type": "stream",
     "text": [
      "degree: Std vs Rwd Mann-Whitney U statistic: 8062709.0, p-value: 0.5354114636615257\n",
      "degree: Std vs Pen Mann-Whitney U statistic: 7864292.5, p-value: 0.981719202372621\n",
      "One degree nodes for penalised network  39\n"
     ]
    }
   ],
   "source": [
    "metric = \"degree\"\n",
    "statistic, p_value = stats.mannwhitneyu(\n",
    "    dist_std[metric],\n",
    "    dist_rwd[metric],\n",
    ")\n",
    "print(f\"{metric}: Std vs Rwd Mann-Whitney U statistic: {statistic}, p-value: {p_value}\")\n",
    "\n",
    "statistic, p_value = stats.mannwhitneyu(\n",
    "    dist_std[metric],\n",
    "    dist_pen[metric],\n",
    ")\n",
    "print(f\"{metric}: Std vs Pen Mann-Whitney U statistic: {statistic}, p-value: {p_value}\")\n",
    "\n",
    "######\n",
    "one_degree_nodes = dist_pen[dist_pen[\"degree\"] == 1].shape[0]\n",
    "print(\"One degree nodes for penalised network \", one_degree_nodes)"
   ]
  },
  {
   "cell_type": "code",
   "execution_count": 12,
   "metadata": {},
   "outputs": [
    {
     "name": "stdout",
     "output_type": "stream",
     "text": [
      "closeness: Std vs Rwd Mann-Whitney U statistic: 15059528.0, p-value: 0.0\n",
      "closeness: Std vs Pen Mann-Whitney U statistic: 281163.0, p-value: 0.0\n",
      "closeness: Rwd vs Pen Mann-Whitney U statistic: 5806.742163866546, p-value: 0.0\n",
      "closeness: Std vs Pen vs Rwd Kruskal statistic: 9691.41452147344, p-value: 0.0\n"
     ]
    }
   ],
   "source": [
    "# Closeness\n",
    "metric = \"closeness\"\n",
    "statistic, p_value = stats.mannwhitneyu(\n",
    "    dist_std[metric],\n",
    "    dist_rwd[metric],\n",
    ")\n",
    "print(f\"{metric}: Std vs Rwd Mann-Whitney U statistic: {statistic}, p-value: {p_value}\")\n",
    "\n",
    "statistic, p_value = stats.mannwhitneyu(\n",
    "    dist_std[metric],\n",
    "    dist_pen[metric],\n",
    ")\n",
    "print(f\"{metric}: Std vs Pen Mann-Whitney U statistic: {statistic}, p-value: {p_value}\")\n",
    "\n",
    "statistic, p_value = stats.kruskal(\n",
    "    dist_rwd[metric],\n",
    "    dist_pen[metric],\n",
    ")\n",
    "print(f\"{metric}: Rwd vs Pen Mann-Whitney U statistic: {statistic}, p-value: {p_value}\")\n",
    "\n",
    "statistic, p_value = stats.kruskal(dist_rwd[metric], dist_pen[metric], dist_std[metric])\n",
    "print(f\"{metric}: Std vs Pen vs Rwd Kruskal statistic: {statistic}, p-value: {p_value}\")"
   ]
  },
  {
   "cell_type": "code",
   "execution_count": 65,
   "metadata": {},
   "outputs": [
    {
     "data": {
      "text/html": [
       "<div>\n",
       "<style scoped>\n",
       "    .dataframe tbody tr th:only-of-type {\n",
       "        vertical-align: middle;\n",
       "    }\n",
       "\n",
       "    .dataframe tbody tr th {\n",
       "        vertical-align: top;\n",
       "    }\n",
       "\n",
       "    .dataframe thead th {\n",
       "        text-align: right;\n",
       "    }\n",
       "</style>\n",
       "<table border=\"1\" class=\"dataframe\">\n",
       "  <thead>\n",
       "    <tr style=\"text-align: right;\">\n",
       "      <th></th>\n",
       "      <th>gene</th>\n",
       "      <th>betwenees</th>\n",
       "      <th>closeness</th>\n",
       "      <th>degree</th>\n",
       "      <th>strength</th>\n",
       "      <th>pageRank</th>\n",
       "      <th>hubScore</th>\n",
       "      <th>IVI</th>\n",
       "      <th>TF</th>\n",
       "    </tr>\n",
       "    <tr>\n",
       "      <th>Type</th>\n",
       "      <th></th>\n",
       "      <th></th>\n",
       "      <th></th>\n",
       "      <th></th>\n",
       "      <th></th>\n",
       "      <th></th>\n",
       "      <th></th>\n",
       "      <th></th>\n",
       "      <th></th>\n",
       "    </tr>\n",
       "  </thead>\n",
       "  <tbody>\n",
       "    <tr>\n",
       "      <th>Penalised</th>\n",
       "      <td>17</td>\n",
       "      <td>17</td>\n",
       "      <td>17</td>\n",
       "      <td>17</td>\n",
       "      <td>17</td>\n",
       "      <td>17</td>\n",
       "      <td>17</td>\n",
       "      <td>17</td>\n",
       "      <td>17</td>\n",
       "    </tr>\n",
       "    <tr>\n",
       "      <th>Reward</th>\n",
       "      <td>12</td>\n",
       "      <td>12</td>\n",
       "      <td>12</td>\n",
       "      <td>12</td>\n",
       "      <td>12</td>\n",
       "      <td>12</td>\n",
       "      <td>12</td>\n",
       "      <td>12</td>\n",
       "      <td>12</td>\n",
       "    </tr>\n",
       "    <tr>\n",
       "      <th>Standard</th>\n",
       "      <td>12</td>\n",
       "      <td>12</td>\n",
       "      <td>12</td>\n",
       "      <td>12</td>\n",
       "      <td>12</td>\n",
       "      <td>12</td>\n",
       "      <td>12</td>\n",
       "      <td>12</td>\n",
       "      <td>12</td>\n",
       "    </tr>\n",
       "  </tbody>\n",
       "</table>\n",
       "</div>"
      ],
      "text/plain": [
       "           gene  betwenees  closeness  degree  strength  pageRank  hubScore  \\\n",
       "Type                                                                          \n",
       "Penalised    17         17         17      17        17        17        17   \n",
       "Reward       12         12         12      12        12        12        12   \n",
       "Standard     12         12         12      12        12        12        12   \n",
       "\n",
       "           IVI  TF  \n",
       "Type                \n",
       "Penalised   17  17  \n",
       "Reward      12  12  \n",
       "Standard    12  12  "
      ]
     },
     "execution_count": 65,
     "metadata": {},
     "output_type": "execute_result"
    }
   ],
   "source": [
    "metrics_df[metrics_df[\"closeness\"] >= 0.7].sort_values(by=[\"gene\"]).groupby(\"Type\").count()"
   ]
  },
  {
   "cell_type": "code",
   "execution_count": 40,
   "metadata": {},
   "outputs": [
    {
     "data": {
      "text/html": [
       "<div>\n",
       "<style scoped>\n",
       "    .dataframe tbody tr th:only-of-type {\n",
       "        vertical-align: middle;\n",
       "    }\n",
       "\n",
       "    .dataframe tbody tr th {\n",
       "        vertical-align: top;\n",
       "    }\n",
       "\n",
       "    .dataframe thead th {\n",
       "        text-align: right;\n",
       "    }\n",
       "</style>\n",
       "<table border=\"1\" class=\"dataframe\">\n",
       "  <thead>\n",
       "    <tr style=\"text-align: right;\">\n",
       "      <th></th>\n",
       "      <th>Standard vs Reward</th>\n",
       "      <th>Standard vs Penalised</th>\n",
       "      <th>Reward vs Penalised</th>\n",
       "    </tr>\n",
       "  </thead>\n",
       "  <tbody>\n",
       "    <tr>\n",
       "      <th>betwenees</th>\n",
       "      <td>(7998031.0, 0.9847939363634195)</td>\n",
       "      <td>(8447400.0, 9.335849220751918e-09)</td>\n",
       "      <td>(8437222.5, 1.6750357375666685e-08)</td>\n",
       "    </tr>\n",
       "    <tr>\n",
       "      <th>closeness</th>\n",
       "      <td>(15059528.0, 0.0)</td>\n",
       "      <td>(281163.0, 0.0)</td>\n",
       "      <td>(93297.0, 0.0)</td>\n",
       "    </tr>\n",
       "    <tr>\n",
       "      <th>degree</th>\n",
       "      <td>(8062709.0, 0.5354114636615257)</td>\n",
       "      <td>(7864292.5, 0.981719202372621)</td>\n",
       "      <td>(7802986.0, 0.5550597787923791)</td>\n",
       "    </tr>\n",
       "    <tr>\n",
       "      <th>pageRank</th>\n",
       "      <td>(8076267.0, 0.460270769241348)</td>\n",
       "      <td>(7551878.0, 0.0023506429567561973)</td>\n",
       "      <td>(7488446.0, 0.0002481832615550817)</td>\n",
       "    </tr>\n",
       "    <tr>\n",
       "      <th>IVI</th>\n",
       "      <td>(8135410.0, 0.18985272610494086)</td>\n",
       "      <td>(6891664.5, 1.7677669311548796e-21)</td>\n",
       "      <td>(6747375.5, 8.000283094178819e-28)</td>\n",
       "    </tr>\n",
       "  </tbody>\n",
       "</table>\n",
       "</div>"
      ],
      "text/plain": [
       "                         Standard vs Reward  \\\n",
       "betwenees   (7998031.0, 0.9847939363634195)   \n",
       "closeness                 (15059528.0, 0.0)   \n",
       "degree      (8062709.0, 0.5354114636615257)   \n",
       "pageRank     (8076267.0, 0.460270769241348)   \n",
       "IVI        (8135410.0, 0.18985272610494086)   \n",
       "\n",
       "                         Standard vs Penalised  \\\n",
       "betwenees   (8447400.0, 9.335849220751918e-09)   \n",
       "closeness                      (281163.0, 0.0)   \n",
       "degree          (7864292.5, 0.981719202372621)   \n",
       "pageRank    (7551878.0, 0.0023506429567561973)   \n",
       "IVI        (6891664.5, 1.7677669311548796e-21)   \n",
       "\n",
       "                           Reward vs Penalised  \n",
       "betwenees  (8437222.5, 1.6750357375666685e-08)  \n",
       "closeness                       (93297.0, 0.0)  \n",
       "degree         (7802986.0, 0.5550597787923791)  \n",
       "pageRank    (7488446.0, 0.0002481832615550817)  \n",
       "IVI         (6747375.5, 8.000283094178819e-28)  "
      ]
     },
     "execution_count": 40,
     "metadata": {},
     "output_type": "execute_result"
    }
   ],
   "source": [
    "metrics = [\"betwenees\", \"closeness\", \"degree\", \"pageRank\", \"IVI\"]\n",
    "test_rest = []\n",
    "\n",
    "for metric in metrics:\n",
    "    metric_results = []\n",
    "    statistic, p_value = stats.mannwhitneyu(\n",
    "        dist_std[metric],\n",
    "        dist_rwd[metric],\n",
    "    )\n",
    "    metric_results.append((statistic, p_value))\n",
    "\n",
    "    statistic, p_value = stats.mannwhitneyu(\n",
    "        dist_std[metric],\n",
    "        dist_pen[metric],\n",
    "    )\n",
    "    metric_results.append((statistic, p_value))\n",
    "\n",
    "    statistic, p_value = stats.mannwhitneyu(\n",
    "        dist_rwd[metric],\n",
    "        dist_pen[metric],\n",
    "    )\n",
    "    metric_results.append((statistic, p_value))\n",
    "    test_rest.append(metric_results)\n",
    "\n",
    "pd.DataFrame(test_rest, columns=[\"Standard vs Reward\", \"Standard vs Penalised\", \"Reward vs Penalised\"], index=metrics)"
   ]
  },
  {
   "cell_type": "markdown",
   "metadata": {},
   "source": [
    "## 4K 10 TF"
   ]
  },
  {
   "cell_type": "code",
   "execution_count": 11,
   "metadata": {},
   "outputs": [],
   "source": [
    "if True:\n",
    "    std_nt, rwrd_nt, pen_nt = tum.exps[\"standard_4K_10TF\"], tum.exps[\"norm3_4K_10TF\"], tum.exps[\"beta_4K_10TF\"]\n",
    "    metrics_df = gh.prep_net_metrics(std_nt, rwrd_nt, pen_nt)\n",
    "    fig = gh.plot_net_metrics(metrics_df, label=\"10TF\", filename=\"NetworkMetricsComp_{}\".format(\"10TF\"), figs_path=figures_path)"
   ]
  },
  {
   "cell_type": "markdown",
   "metadata": {},
   "source": [
    "## Mutation representation (report)"
   ]
  },
  {
   "cell_type": "code",
   "execution_count": 12,
   "metadata": {},
   "outputs": [],
   "source": [
    "t_all_stats_df = gh.stats_mut_burden(all_tum_tpms, tf_list, tcga_mutations_df, type=\"All\")\n",
    "t_4k_stats_df = gh.stats_mut_burden(tum.exps[\"standard_4K_3TF\"].tpm_df, tf_list, tcga_mutations_df, type=\"4K\")\n",
    "\n",
    "all_df = pd.concat([t_all_stats_df, t_4k_stats_df], axis=0)"
   ]
  },
  {
   "cell_type": "code",
   "execution_count": 13,
   "metadata": {},
   "outputs": [
    {
     "data": {
      "application/vnd.plotly.v1+json": {
       "config": {
        "plotlyServerURL": "https://plot.ly"
       },
       "data": [
        {
         "alignmentgroup": "True",
         "hovertemplate": "Type=All<br>Gene_Type=Mut<br>Burden=%{x}<br>Num=%{y}<extra></extra>",
         "legendgroup": "All",
         "marker": {
          "color": "#F8766D",
          "pattern": {
           "shape": ""
          }
         },
         "name": "All",
         "offsetgroup": "All",
         "orientation": "v",
         "showlegend": true,
         "textposition": "auto",
         "texttemplate": "%{y}",
         "type": "bar",
         "x": [
          ">=0",
          ">=1",
          ">=2",
          ">=3",
          ">=4",
          ">=5",
          ">=6",
          ">=7",
          ">=8",
          ">=9",
          ">=10"
         ],
         "xaxis": "x2",
         "y": [
          13274,
          10057,
          8422,
          6793,
          5375,
          4209,
          3267,
          2546,
          2016,
          1594,
          1248
         ],
         "yaxis": "y2"
        },
        {
         "alignmentgroup": "True",
         "hovertemplate": "Type=All<br>Gene_Type=Mut_TF<br>Burden=%{x}<br>Num=%{y}<extra></extra>",
         "legendgroup": "All",
         "marker": {
          "color": "#F8766D",
          "pattern": {
           "shape": ""
          }
         },
         "name": "All",
         "offsetgroup": "All",
         "orientation": "v",
         "showlegend": false,
         "textposition": "auto",
         "texttemplate": "%{y}",
         "type": "bar",
         "x": [
          ">=0",
          ">=1",
          ">=2",
          ">=3",
          ">=4",
          ">=5",
          ">=6",
          ">=7",
          ">=8",
          ">=9",
          ">=10"
         ],
         "xaxis": "x",
         "y": [
          1027,
          954,
          859,
          741,
          610,
          485,
          367,
          291,
          228,
          179,
          133
         ],
         "yaxis": "y"
        },
        {
         "alignmentgroup": "True",
         "hovertemplate": "Type=4K<br>Gene_Type=Mut<br>Burden=%{x}<br>Num=%{y}<extra></extra>",
         "legendgroup": "4K",
         "marker": {
          "color": "#A3A500",
          "pattern": {
           "shape": ""
          }
         },
         "name": "4K",
         "offsetgroup": "4K",
         "orientation": "v",
         "showlegend": true,
         "textposition": "auto",
         "texttemplate": "%{y}",
         "type": "bar",
         "x": [
          ">=0",
          ">=1",
          ">=2",
          ">=3",
          ">=4",
          ">=5",
          ">=6",
          ">=7",
          ">=8",
          ">=9",
          ">=10"
         ],
         "xaxis": "x2",
         "y": [
          4000,
          3199,
          2648,
          2128,
          1663,
          1307,
          1038,
          797,
          627,
          486,
          385
         ],
         "yaxis": "y2"
        },
        {
         "alignmentgroup": "True",
         "hovertemplate": "Type=4K<br>Gene_Type=Mut_TF<br>Burden=%{x}<br>Num=%{y}<extra></extra>",
         "legendgroup": "4K",
         "marker": {
          "color": "#A3A500",
          "pattern": {
           "shape": ""
          }
         },
         "name": "4K",
         "offsetgroup": "4K",
         "orientation": "v",
         "showlegend": false,
         "textposition": "auto",
         "texttemplate": "%{y}",
         "type": "bar",
         "x": [
          ">=0",
          ">=1",
          ">=2",
          ">=3",
          ">=4",
          ">=5",
          ">=6",
          ">=7",
          ">=8",
          ">=9",
          ">=10"
         ],
         "xaxis": "x",
         "y": [
          265,
          243,
          221,
          187,
          145,
          109,
          87,
          69,
          56,
          48,
          36
         ],
         "yaxis": "y"
        }
       ],
       "layout": {
        "annotations": [
         {
          "font": {},
          "showarrow": false,
          "text": "Gene_Type=Mut_TF",
          "textangle": 90,
          "x": 0.98,
          "xanchor": "left",
          "xref": "paper",
          "y": 0.2425,
          "yanchor": "middle",
          "yref": "paper"
         },
         {
          "font": {},
          "showarrow": false,
          "text": "Gene_Type=Mut",
          "textangle": 90,
          "x": 0.98,
          "xanchor": "left",
          "xref": "paper",
          "y": 0.7575000000000001,
          "yanchor": "middle",
          "yref": "paper"
         }
        ],
        "barmode": "group",
        "font": {
         "size": 18
        },
        "height": 700,
        "legend": {
         "bgcolor": "rgba(0,0,0,0)",
         "font": {
          "color": "#003366",
          "size": 22
         },
         "orientation": "h",
         "title": {
          "text": "Genes included"
         },
         "tracegroupgap": 0,
         "x": 0.5,
         "xanchor": "center",
         "y": 0.9,
         "yanchor": "bottom"
        },
        "template": {
         "data": {
          "bar": [
           {
            "error_x": {
             "color": "rgb(51,51,51)"
            },
            "error_y": {
             "color": "rgb(51,51,51)"
            },
            "marker": {
             "line": {
              "color": "rgb(237,237,237)",
              "width": 0.5
             },
             "pattern": {
              "fillmode": "overlay",
              "size": 10,
              "solidity": 0.2
             }
            },
            "type": "bar"
           }
          ],
          "barpolar": [
           {
            "marker": {
             "line": {
              "color": "rgb(237,237,237)",
              "width": 0.5
             },
             "pattern": {
              "fillmode": "overlay",
              "size": 10,
              "solidity": 0.2
             }
            },
            "type": "barpolar"
           }
          ],
          "carpet": [
           {
            "aaxis": {
             "endlinecolor": "rgb(51,51,51)",
             "gridcolor": "white",
             "linecolor": "white",
             "minorgridcolor": "white",
             "startlinecolor": "rgb(51,51,51)"
            },
            "baxis": {
             "endlinecolor": "rgb(51,51,51)",
             "gridcolor": "white",
             "linecolor": "white",
             "minorgridcolor": "white",
             "startlinecolor": "rgb(51,51,51)"
            },
            "type": "carpet"
           }
          ],
          "choropleth": [
           {
            "colorbar": {
             "outlinewidth": 0,
             "tickcolor": "rgb(237,237,237)",
             "ticklen": 6,
             "ticks": "inside"
            },
            "type": "choropleth"
           }
          ],
          "contour": [
           {
            "colorbar": {
             "outlinewidth": 0,
             "tickcolor": "rgb(237,237,237)",
             "ticklen": 6,
             "ticks": "inside"
            },
            "colorscale": [
             [
              0,
              "rgb(20,44,66)"
             ],
             [
              1,
              "rgb(90,179,244)"
             ]
            ],
            "type": "contour"
           }
          ],
          "contourcarpet": [
           {
            "colorbar": {
             "outlinewidth": 0,
             "tickcolor": "rgb(237,237,237)",
             "ticklen": 6,
             "ticks": "inside"
            },
            "type": "contourcarpet"
           }
          ],
          "heatmap": [
           {
            "colorbar": {
             "outlinewidth": 0,
             "tickcolor": "rgb(237,237,237)",
             "ticklen": 6,
             "ticks": "inside"
            },
            "colorscale": [
             [
              0,
              "rgb(20,44,66)"
             ],
             [
              1,
              "rgb(90,179,244)"
             ]
            ],
            "type": "heatmap"
           }
          ],
          "heatmapgl": [
           {
            "colorbar": {
             "outlinewidth": 0,
             "tickcolor": "rgb(237,237,237)",
             "ticklen": 6,
             "ticks": "inside"
            },
            "colorscale": [
             [
              0,
              "rgb(20,44,66)"
             ],
             [
              1,
              "rgb(90,179,244)"
             ]
            ],
            "type": "heatmapgl"
           }
          ],
          "histogram": [
           {
            "marker": {
             "pattern": {
              "fillmode": "overlay",
              "size": 10,
              "solidity": 0.2
             }
            },
            "type": "histogram"
           }
          ],
          "histogram2d": [
           {
            "colorbar": {
             "outlinewidth": 0,
             "tickcolor": "rgb(237,237,237)",
             "ticklen": 6,
             "ticks": "inside"
            },
            "colorscale": [
             [
              0,
              "rgb(20,44,66)"
             ],
             [
              1,
              "rgb(90,179,244)"
             ]
            ],
            "type": "histogram2d"
           }
          ],
          "histogram2dcontour": [
           {
            "colorbar": {
             "outlinewidth": 0,
             "tickcolor": "rgb(237,237,237)",
             "ticklen": 6,
             "ticks": "inside"
            },
            "colorscale": [
             [
              0,
              "rgb(20,44,66)"
             ],
             [
              1,
              "rgb(90,179,244)"
             ]
            ],
            "type": "histogram2dcontour"
           }
          ],
          "mesh3d": [
           {
            "colorbar": {
             "outlinewidth": 0,
             "tickcolor": "rgb(237,237,237)",
             "ticklen": 6,
             "ticks": "inside"
            },
            "type": "mesh3d"
           }
          ],
          "parcoords": [
           {
            "line": {
             "colorbar": {
              "outlinewidth": 0,
              "tickcolor": "rgb(237,237,237)",
              "ticklen": 6,
              "ticks": "inside"
             }
            },
            "type": "parcoords"
           }
          ],
          "pie": [
           {
            "automargin": true,
            "type": "pie"
           }
          ],
          "scatter": [
           {
            "fillpattern": {
             "fillmode": "overlay",
             "size": 10,
             "solidity": 0.2
            },
            "type": "scatter"
           }
          ],
          "scatter3d": [
           {
            "line": {
             "colorbar": {
              "outlinewidth": 0,
              "tickcolor": "rgb(237,237,237)",
              "ticklen": 6,
              "ticks": "inside"
             }
            },
            "marker": {
             "colorbar": {
              "outlinewidth": 0,
              "tickcolor": "rgb(237,237,237)",
              "ticklen": 6,
              "ticks": "inside"
             }
            },
            "type": "scatter3d"
           }
          ],
          "scattercarpet": [
           {
            "marker": {
             "colorbar": {
              "outlinewidth": 0,
              "tickcolor": "rgb(237,237,237)",
              "ticklen": 6,
              "ticks": "inside"
             }
            },
            "type": "scattercarpet"
           }
          ],
          "scattergeo": [
           {
            "marker": {
             "colorbar": {
              "outlinewidth": 0,
              "tickcolor": "rgb(237,237,237)",
              "ticklen": 6,
              "ticks": "inside"
             }
            },
            "type": "scattergeo"
           }
          ],
          "scattergl": [
           {
            "marker": {
             "colorbar": {
              "outlinewidth": 0,
              "tickcolor": "rgb(237,237,237)",
              "ticklen": 6,
              "ticks": "inside"
             }
            },
            "type": "scattergl"
           }
          ],
          "scattermapbox": [
           {
            "marker": {
             "colorbar": {
              "outlinewidth": 0,
              "tickcolor": "rgb(237,237,237)",
              "ticklen": 6,
              "ticks": "inside"
             }
            },
            "type": "scattermapbox"
           }
          ],
          "scatterpolar": [
           {
            "marker": {
             "colorbar": {
              "outlinewidth": 0,
              "tickcolor": "rgb(237,237,237)",
              "ticklen": 6,
              "ticks": "inside"
             }
            },
            "type": "scatterpolar"
           }
          ],
          "scatterpolargl": [
           {
            "marker": {
             "colorbar": {
              "outlinewidth": 0,
              "tickcolor": "rgb(237,237,237)",
              "ticklen": 6,
              "ticks": "inside"
             }
            },
            "type": "scatterpolargl"
           }
          ],
          "scatterternary": [
           {
            "marker": {
             "colorbar": {
              "outlinewidth": 0,
              "tickcolor": "rgb(237,237,237)",
              "ticklen": 6,
              "ticks": "inside"
             }
            },
            "type": "scatterternary"
           }
          ],
          "surface": [
           {
            "colorbar": {
             "outlinewidth": 0,
             "tickcolor": "rgb(237,237,237)",
             "ticklen": 6,
             "ticks": "inside"
            },
            "colorscale": [
             [
              0,
              "rgb(20,44,66)"
             ],
             [
              1,
              "rgb(90,179,244)"
             ]
            ],
            "type": "surface"
           }
          ],
          "table": [
           {
            "cells": {
             "fill": {
              "color": "rgb(237,237,237)"
             },
             "line": {
              "color": "white"
             }
            },
            "header": {
             "fill": {
              "color": "rgb(217,217,217)"
             },
             "line": {
              "color": "white"
             }
            },
            "type": "table"
           }
          ]
         },
         "layout": {
          "annotationdefaults": {
           "arrowhead": 0,
           "arrowwidth": 1
          },
          "autotypenumbers": "strict",
          "coloraxis": {
           "colorbar": {
            "outlinewidth": 0,
            "tickcolor": "rgb(237,237,237)",
            "ticklen": 6,
            "ticks": "inside"
           }
          },
          "colorscale": {
           "sequential": [
            [
             0,
             "rgb(20,44,66)"
            ],
            [
             1,
             "rgb(90,179,244)"
            ]
           ],
           "sequentialminus": [
            [
             0,
             "rgb(20,44,66)"
            ],
            [
             1,
             "rgb(90,179,244)"
            ]
           ]
          },
          "colorway": [
           "#F8766D",
           "#A3A500",
           "#00BF7D",
           "#00B0F6",
           "#E76BF3"
          ],
          "font": {
           "color": "rgb(51,51,51)"
          },
          "geo": {
           "bgcolor": "white",
           "lakecolor": "white",
           "landcolor": "rgb(237,237,237)",
           "showlakes": true,
           "showland": true,
           "subunitcolor": "white"
          },
          "hoverlabel": {
           "align": "left"
          },
          "hovermode": "closest",
          "paper_bgcolor": "white",
          "plot_bgcolor": "rgb(237,237,237)",
          "polar": {
           "angularaxis": {
            "gridcolor": "white",
            "linecolor": "white",
            "showgrid": true,
            "tickcolor": "rgb(51,51,51)",
            "ticks": "outside"
           },
           "bgcolor": "rgb(237,237,237)",
           "radialaxis": {
            "gridcolor": "white",
            "linecolor": "white",
            "showgrid": true,
            "tickcolor": "rgb(51,51,51)",
            "ticks": "outside"
           }
          },
          "scene": {
           "xaxis": {
            "backgroundcolor": "rgb(237,237,237)",
            "gridcolor": "white",
            "gridwidth": 2,
            "linecolor": "white",
            "showbackground": true,
            "showgrid": true,
            "tickcolor": "rgb(51,51,51)",
            "ticks": "outside",
            "zerolinecolor": "white"
           },
           "yaxis": {
            "backgroundcolor": "rgb(237,237,237)",
            "gridcolor": "white",
            "gridwidth": 2,
            "linecolor": "white",
            "showbackground": true,
            "showgrid": true,
            "tickcolor": "rgb(51,51,51)",
            "ticks": "outside",
            "zerolinecolor": "white"
           },
           "zaxis": {
            "backgroundcolor": "rgb(237,237,237)",
            "gridcolor": "white",
            "gridwidth": 2,
            "linecolor": "white",
            "showbackground": true,
            "showgrid": true,
            "tickcolor": "rgb(51,51,51)",
            "ticks": "outside",
            "zerolinecolor": "white"
           }
          },
          "shapedefaults": {
           "fillcolor": "black",
           "line": {
            "width": 0
           },
           "opacity": 0.3
          },
          "ternary": {
           "aaxis": {
            "gridcolor": "white",
            "linecolor": "white",
            "showgrid": true,
            "tickcolor": "rgb(51,51,51)",
            "ticks": "outside"
           },
           "baxis": {
            "gridcolor": "white",
            "linecolor": "white",
            "showgrid": true,
            "tickcolor": "rgb(51,51,51)",
            "ticks": "outside"
           },
           "bgcolor": "rgb(237,237,237)",
           "caxis": {
            "gridcolor": "white",
            "linecolor": "white",
            "showgrid": true,
            "tickcolor": "rgb(51,51,51)",
            "ticks": "outside"
           }
          },
          "xaxis": {
           "automargin": true,
           "gridcolor": "white",
           "linecolor": "white",
           "showgrid": true,
           "tickcolor": "rgb(51,51,51)",
           "ticks": "outside",
           "title": {
            "standoff": 15
           },
           "zerolinecolor": "white"
          },
          "yaxis": {
           "automargin": true,
           "gridcolor": "white",
           "linecolor": "white",
           "showgrid": true,
           "tickcolor": "rgb(51,51,51)",
           "ticks": "outside",
           "title": {
            "standoff": 15
           },
           "zerolinecolor": "white"
          }
         }
        },
        "title": {
         "text": ""
        },
        "xaxis": {
         "anchor": "y",
         "domain": [
          0,
          0.98
         ],
         "tickfont": {
          "size": 18
         },
         "title": {
          "text": "Mutation burden"
         }
        },
        "xaxis2": {
         "anchor": "y2",
         "domain": [
          0,
          0.98
         ],
         "matches": "x",
         "showticklabels": false
        },
        "yaxis": {
         "anchor": "x",
         "domain": [
          0,
          0.485
         ],
         "tickfont": {
          "size": 18
         },
         "title": {
          "text": "Num"
         }
        },
        "yaxis2": {
         "anchor": "x2",
         "domain": [
          0.515,
          1
         ],
         "title": {
          "text": "Num"
         }
        }
       }
      }
     },
     "metadata": {},
     "output_type": "display_data"
    }
   ],
   "source": [
    "fig = gh.plot_mut_rep(all_df, title=\"Tumour. 4K top varied vs All expressed.\")\n",
    "fig = fig.update_layout(\n",
    "    title=\"\",\n",
    "    legend=dict(\n",
    "        orientation=\"h\",\n",
    "        title=\"Genes included\",\n",
    "        yanchor=\"bottom\",\n",
    "        xanchor=\"center\",\n",
    "        y=0.9,\n",
    "        x=0.5,\n",
    "        bgcolor=\"rgba(0,0,0,0)\",\n",
    "        font=dict(size=22, color=\"#003366\"),\n",
    "    ),\n",
    "    xaxis=dict(tickfont=dict(size=18), title=\"Mutation burden\"),\n",
    "    yaxis=dict(tickfont=dict(size=18)),\n",
    "    font=dict(size=18),\n",
    ")\n",
    "fig.update_yaxes(matches=None)\n",
    "fig.show()\n",
    "save_fig(name=\"MutTF_representation_4K-all\", fig=fig, base_path=figures_path, width=1400, height=700, margin=0.02)"
   ]
  },
  {
   "cell_type": "code",
   "execution_count": 14,
   "metadata": {},
   "outputs": [
    {
     "data": {
      "application/vnd.plotly.v1+json": {
       "config": {
        "plotlyServerURL": "https://plot.ly"
       },
       "data": [
        {
         "alignmentgroup": "True",
         "hovertemplate": "Gene Type=TF<br>Burden=%{x}<br>Prct=%{y}<extra></extra>",
         "legendgroup": "TF",
         "marker": {
          "color": "#F8766D",
          "pattern": {
           "shape": ""
          }
         },
         "name": "TF",
         "offsetgroup": "TF",
         "orientation": "v",
         "showlegend": true,
         "textposition": "auto",
         "texttemplate": "%{y}",
         "type": "bar",
         "x": [
          ">=0",
          ">=1",
          ">=2",
          ">=3",
          ">=4",
          ">=5",
          ">=6",
          ">=7",
          ">=8",
          ">=9",
          ">=10"
         ],
         "xaxis": "x",
         "y": [
          1,
          0.92,
          0.83,
          0.71,
          0.55,
          0.41,
          0.33,
          0.26,
          0.21,
          0.18,
          0.14
         ],
         "yaxis": "y"
        },
        {
         "alignmentgroup": "True",
         "hovertemplate": "Gene Type=4K<br>Burden=%{x}<br>Prct=%{y}<extra></extra>",
         "legendgroup": "4K",
         "marker": {
          "color": "#A3A500",
          "pattern": {
           "shape": ""
          }
         },
         "name": "4K",
         "offsetgroup": "4K",
         "orientation": "v",
         "showlegend": true,
         "textposition": "auto",
         "texttemplate": "%{y}",
         "type": "bar",
         "x": [
          ">=0",
          ">=1",
          ">=2",
          ">=3",
          ">=4",
          ">=5",
          ">=6",
          ">=7",
          ">=8",
          ">=9",
          ">=10"
         ],
         "xaxis": "x",
         "y": [
          1,
          0.8,
          0.66,
          0.53,
          0.42,
          0.33,
          0.26,
          0.2,
          0.16,
          0.12,
          0.1
         ],
         "yaxis": "y"
        }
       ],
       "layout": {
        "barmode": "group",
        "font": {
         "size": 18
        },
        "height": 700,
        "legend": {
         "bgcolor": "rgba(0,0,0,0)",
         "font": {
          "color": "#003366",
          "size": 22
         },
         "orientation": "h",
         "title": {
          "text": "Genes included"
         },
         "tracegroupgap": 0,
         "x": 0.5,
         "xanchor": "center",
         "y": 0.9,
         "yanchor": "bottom"
        },
        "margin": {
         "t": 60
        },
        "template": {
         "data": {
          "bar": [
           {
            "error_x": {
             "color": "rgb(51,51,51)"
            },
            "error_y": {
             "color": "rgb(51,51,51)"
            },
            "marker": {
             "line": {
              "color": "rgb(237,237,237)",
              "width": 0.5
             },
             "pattern": {
              "fillmode": "overlay",
              "size": 10,
              "solidity": 0.2
             }
            },
            "type": "bar"
           }
          ],
          "barpolar": [
           {
            "marker": {
             "line": {
              "color": "rgb(237,237,237)",
              "width": 0.5
             },
             "pattern": {
              "fillmode": "overlay",
              "size": 10,
              "solidity": 0.2
             }
            },
            "type": "barpolar"
           }
          ],
          "carpet": [
           {
            "aaxis": {
             "endlinecolor": "rgb(51,51,51)",
             "gridcolor": "white",
             "linecolor": "white",
             "minorgridcolor": "white",
             "startlinecolor": "rgb(51,51,51)"
            },
            "baxis": {
             "endlinecolor": "rgb(51,51,51)",
             "gridcolor": "white",
             "linecolor": "white",
             "minorgridcolor": "white",
             "startlinecolor": "rgb(51,51,51)"
            },
            "type": "carpet"
           }
          ],
          "choropleth": [
           {
            "colorbar": {
             "outlinewidth": 0,
             "tickcolor": "rgb(237,237,237)",
             "ticklen": 6,
             "ticks": "inside"
            },
            "type": "choropleth"
           }
          ],
          "contour": [
           {
            "colorbar": {
             "outlinewidth": 0,
             "tickcolor": "rgb(237,237,237)",
             "ticklen": 6,
             "ticks": "inside"
            },
            "colorscale": [
             [
              0,
              "rgb(20,44,66)"
             ],
             [
              1,
              "rgb(90,179,244)"
             ]
            ],
            "type": "contour"
           }
          ],
          "contourcarpet": [
           {
            "colorbar": {
             "outlinewidth": 0,
             "tickcolor": "rgb(237,237,237)",
             "ticklen": 6,
             "ticks": "inside"
            },
            "type": "contourcarpet"
           }
          ],
          "heatmap": [
           {
            "colorbar": {
             "outlinewidth": 0,
             "tickcolor": "rgb(237,237,237)",
             "ticklen": 6,
             "ticks": "inside"
            },
            "colorscale": [
             [
              0,
              "rgb(20,44,66)"
             ],
             [
              1,
              "rgb(90,179,244)"
             ]
            ],
            "type": "heatmap"
           }
          ],
          "heatmapgl": [
           {
            "colorbar": {
             "outlinewidth": 0,
             "tickcolor": "rgb(237,237,237)",
             "ticklen": 6,
             "ticks": "inside"
            },
            "colorscale": [
             [
              0,
              "rgb(20,44,66)"
             ],
             [
              1,
              "rgb(90,179,244)"
             ]
            ],
            "type": "heatmapgl"
           }
          ],
          "histogram": [
           {
            "marker": {
             "pattern": {
              "fillmode": "overlay",
              "size": 10,
              "solidity": 0.2
             }
            },
            "type": "histogram"
           }
          ],
          "histogram2d": [
           {
            "colorbar": {
             "outlinewidth": 0,
             "tickcolor": "rgb(237,237,237)",
             "ticklen": 6,
             "ticks": "inside"
            },
            "colorscale": [
             [
              0,
              "rgb(20,44,66)"
             ],
             [
              1,
              "rgb(90,179,244)"
             ]
            ],
            "type": "histogram2d"
           }
          ],
          "histogram2dcontour": [
           {
            "colorbar": {
             "outlinewidth": 0,
             "tickcolor": "rgb(237,237,237)",
             "ticklen": 6,
             "ticks": "inside"
            },
            "colorscale": [
             [
              0,
              "rgb(20,44,66)"
             ],
             [
              1,
              "rgb(90,179,244)"
             ]
            ],
            "type": "histogram2dcontour"
           }
          ],
          "mesh3d": [
           {
            "colorbar": {
             "outlinewidth": 0,
             "tickcolor": "rgb(237,237,237)",
             "ticklen": 6,
             "ticks": "inside"
            },
            "type": "mesh3d"
           }
          ],
          "parcoords": [
           {
            "line": {
             "colorbar": {
              "outlinewidth": 0,
              "tickcolor": "rgb(237,237,237)",
              "ticklen": 6,
              "ticks": "inside"
             }
            },
            "type": "parcoords"
           }
          ],
          "pie": [
           {
            "automargin": true,
            "type": "pie"
           }
          ],
          "scatter": [
           {
            "fillpattern": {
             "fillmode": "overlay",
             "size": 10,
             "solidity": 0.2
            },
            "type": "scatter"
           }
          ],
          "scatter3d": [
           {
            "line": {
             "colorbar": {
              "outlinewidth": 0,
              "tickcolor": "rgb(237,237,237)",
              "ticklen": 6,
              "ticks": "inside"
             }
            },
            "marker": {
             "colorbar": {
              "outlinewidth": 0,
              "tickcolor": "rgb(237,237,237)",
              "ticklen": 6,
              "ticks": "inside"
             }
            },
            "type": "scatter3d"
           }
          ],
          "scattercarpet": [
           {
            "marker": {
             "colorbar": {
              "outlinewidth": 0,
              "tickcolor": "rgb(237,237,237)",
              "ticklen": 6,
              "ticks": "inside"
             }
            },
            "type": "scattercarpet"
           }
          ],
          "scattergeo": [
           {
            "marker": {
             "colorbar": {
              "outlinewidth": 0,
              "tickcolor": "rgb(237,237,237)",
              "ticklen": 6,
              "ticks": "inside"
             }
            },
            "type": "scattergeo"
           }
          ],
          "scattergl": [
           {
            "marker": {
             "colorbar": {
              "outlinewidth": 0,
              "tickcolor": "rgb(237,237,237)",
              "ticklen": 6,
              "ticks": "inside"
             }
            },
            "type": "scattergl"
           }
          ],
          "scattermapbox": [
           {
            "marker": {
             "colorbar": {
              "outlinewidth": 0,
              "tickcolor": "rgb(237,237,237)",
              "ticklen": 6,
              "ticks": "inside"
             }
            },
            "type": "scattermapbox"
           }
          ],
          "scatterpolar": [
           {
            "marker": {
             "colorbar": {
              "outlinewidth": 0,
              "tickcolor": "rgb(237,237,237)",
              "ticklen": 6,
              "ticks": "inside"
             }
            },
            "type": "scatterpolar"
           }
          ],
          "scatterpolargl": [
           {
            "marker": {
             "colorbar": {
              "outlinewidth": 0,
              "tickcolor": "rgb(237,237,237)",
              "ticklen": 6,
              "ticks": "inside"
             }
            },
            "type": "scatterpolargl"
           }
          ],
          "scatterternary": [
           {
            "marker": {
             "colorbar": {
              "outlinewidth": 0,
              "tickcolor": "rgb(237,237,237)",
              "ticklen": 6,
              "ticks": "inside"
             }
            },
            "type": "scatterternary"
           }
          ],
          "surface": [
           {
            "colorbar": {
             "outlinewidth": 0,
             "tickcolor": "rgb(237,237,237)",
             "ticklen": 6,
             "ticks": "inside"
            },
            "colorscale": [
             [
              0,
              "rgb(20,44,66)"
             ],
             [
              1,
              "rgb(90,179,244)"
             ]
            ],
            "type": "surface"
           }
          ],
          "table": [
           {
            "cells": {
             "fill": {
              "color": "rgb(237,237,237)"
             },
             "line": {
              "color": "white"
             }
            },
            "header": {
             "fill": {
              "color": "rgb(217,217,217)"
             },
             "line": {
              "color": "white"
             }
            },
            "type": "table"
           }
          ]
         },
         "layout": {
          "annotationdefaults": {
           "arrowhead": 0,
           "arrowwidth": 1
          },
          "autotypenumbers": "strict",
          "coloraxis": {
           "colorbar": {
            "outlinewidth": 0,
            "tickcolor": "rgb(237,237,237)",
            "ticklen": 6,
            "ticks": "inside"
           }
          },
          "colorscale": {
           "sequential": [
            [
             0,
             "rgb(20,44,66)"
            ],
            [
             1,
             "rgb(90,179,244)"
            ]
           ],
           "sequentialminus": [
            [
             0,
             "rgb(20,44,66)"
            ],
            [
             1,
             "rgb(90,179,244)"
            ]
           ]
          },
          "colorway": [
           "#F8766D",
           "#A3A500",
           "#00BF7D",
           "#00B0F6",
           "#E76BF3"
          ],
          "font": {
           "color": "rgb(51,51,51)"
          },
          "geo": {
           "bgcolor": "white",
           "lakecolor": "white",
           "landcolor": "rgb(237,237,237)",
           "showlakes": true,
           "showland": true,
           "subunitcolor": "white"
          },
          "hoverlabel": {
           "align": "left"
          },
          "hovermode": "closest",
          "paper_bgcolor": "white",
          "plot_bgcolor": "rgb(237,237,237)",
          "polar": {
           "angularaxis": {
            "gridcolor": "white",
            "linecolor": "white",
            "showgrid": true,
            "tickcolor": "rgb(51,51,51)",
            "ticks": "outside"
           },
           "bgcolor": "rgb(237,237,237)",
           "radialaxis": {
            "gridcolor": "white",
            "linecolor": "white",
            "showgrid": true,
            "tickcolor": "rgb(51,51,51)",
            "ticks": "outside"
           }
          },
          "scene": {
           "xaxis": {
            "backgroundcolor": "rgb(237,237,237)",
            "gridcolor": "white",
            "gridwidth": 2,
            "linecolor": "white",
            "showbackground": true,
            "showgrid": true,
            "tickcolor": "rgb(51,51,51)",
            "ticks": "outside",
            "zerolinecolor": "white"
           },
           "yaxis": {
            "backgroundcolor": "rgb(237,237,237)",
            "gridcolor": "white",
            "gridwidth": 2,
            "linecolor": "white",
            "showbackground": true,
            "showgrid": true,
            "tickcolor": "rgb(51,51,51)",
            "ticks": "outside",
            "zerolinecolor": "white"
           },
           "zaxis": {
            "backgroundcolor": "rgb(237,237,237)",
            "gridcolor": "white",
            "gridwidth": 2,
            "linecolor": "white",
            "showbackground": true,
            "showgrid": true,
            "tickcolor": "rgb(51,51,51)",
            "ticks": "outside",
            "zerolinecolor": "white"
           }
          },
          "shapedefaults": {
           "fillcolor": "black",
           "line": {
            "width": 0
           },
           "opacity": 0.3
          },
          "ternary": {
           "aaxis": {
            "gridcolor": "white",
            "linecolor": "white",
            "showgrid": true,
            "tickcolor": "rgb(51,51,51)",
            "ticks": "outside"
           },
           "baxis": {
            "gridcolor": "white",
            "linecolor": "white",
            "showgrid": true,
            "tickcolor": "rgb(51,51,51)",
            "ticks": "outside"
           },
           "bgcolor": "rgb(237,237,237)",
           "caxis": {
            "gridcolor": "white",
            "linecolor": "white",
            "showgrid": true,
            "tickcolor": "rgb(51,51,51)",
            "ticks": "outside"
           }
          },
          "xaxis": {
           "automargin": true,
           "gridcolor": "white",
           "linecolor": "white",
           "showgrid": true,
           "tickcolor": "rgb(51,51,51)",
           "ticks": "outside",
           "title": {
            "standoff": 15
           },
           "zerolinecolor": "white"
          },
          "yaxis": {
           "automargin": true,
           "gridcolor": "white",
           "linecolor": "white",
           "showgrid": true,
           "tickcolor": "rgb(51,51,51)",
           "ticks": "outside",
           "title": {
            "standoff": 15
           },
           "zerolinecolor": "white"
          }
         }
        },
        "title": {
         "text": ""
        },
        "xaxis": {
         "anchor": "y",
         "domain": [
          0,
          1
         ],
         "tickfont": {
          "size": 18
         },
         "title": {
          "text": "Mutation burden"
         }
        },
        "yaxis": {
         "anchor": "x",
         "domain": [
          0,
          1
         ],
         "tickfont": {
          "size": 18
         },
         "title": {
          "text": "Ratio"
         }
        }
       }
      }
     },
     "metadata": {},
     "output_type": "display_data"
    }
   ],
   "source": [
    "mut_tf = all_df[(all_df.index.str.contains(\"TF\")) & (all_df[\"Type\"] == \"4K\")]\n",
    "mut_tf[\"Prct\"] = round(mut_tf[\"Num\"] / 265, 2)\n",
    "\n",
    "sel_4k_df = all_df[(~all_df.index.str.contains(\"TF\")) & (all_df[\"Type\"] == \"4K\")]\n",
    "sel_4k_df[\"Prct\"] = round(sel_4k_df[\"Num\"] / 4000, 2)\n",
    "\n",
    "comb_df = pd.concat([mut_tf, sel_4k_df], axis=0).reset_index(names=\"Gene Type\")\n",
    "comb_df.loc[comb_df[\"Gene Type\"] == \"Mut\", \"Gene Type\"] = \"4K\"\n",
    "comb_df.loc[comb_df[\"Gene Type\"] == \"Mut_TF\", \"Gene Type\"] = \"TF\"\n",
    "\n",
    "fig = px.bar(\n",
    "    comb_df,\n",
    "    x=\"Burden\",\n",
    "    # y=\"Prct\",\n",
    "    y=\"Prct\",\n",
    "    color=\"Gene Type\",\n",
    "    barmode=\"group\",\n",
    "    text_auto=True,\n",
    "    height=700,\n",
    ")\n",
    "\n",
    "fig = fig.update_layout(\n",
    "    title=\"\",\n",
    "    legend=dict(\n",
    "        orientation=\"h\",\n",
    "        title=\"Genes included\",\n",
    "        yanchor=\"bottom\",\n",
    "        xanchor=\"center\",\n",
    "        y=0.9,\n",
    "        x=0.5,\n",
    "        bgcolor=\"rgba(0,0,0,0)\",\n",
    "        font=dict(size=22, color=\"#003366\"),\n",
    "    ),\n",
    "    xaxis=dict(tickfont=dict(size=18), title=\"Mutation burden\"),\n",
    "    yaxis=dict(tickfont=dict(size=18), title=\"Ratio\"),\n",
    "    font=dict(size=18),\n",
    ")\n",
    "fig.show()\n",
    "save_fig(name=\"MutTF_representation_4K_TF_prct\", fig=fig, base_path=figures_path, width=1400, height=500, margin=0.02)"
   ]
  },
  {
   "cell_type": "markdown",
   "metadata": {},
   "source": [
    "# TF 6 (report)"
   ]
  },
  {
   "cell_type": "markdown",
   "metadata": {},
   "source": [
    "## Comp\n",
    "\n",
    "### Norm3 and standard"
   ]
  },
  {
   "cell_type": "code",
   "execution_count": 15,
   "metadata": {},
   "outputs": [
    {
     "name": "stdout",
     "output_type": "stream",
     "text": [
      "norm3_4K_6TF has the following communities in addition to standard_4K_6TF: {2, 19, 21, 15}\n"
     ]
    }
   ],
   "source": [
    "%autoreload 2\n",
    "show_figures = False\n",
    "\n",
    "std_norm3_comp_tf10 = NetworkComp(tum, 4, \"standard_4K_6TF\", \"norm3_4K_6TF\")\n",
    "std_norm3_comp_tf10.diff_in_com()\n",
    "\n",
    "if 0:\n",
    "    comp_dict = std_norm3_comp_tf10.comp_ge_comm()\n",
    "    if False:\n",
    "        # TODO move this into NetworkComp\n",
    "        for key, df in comp_dict.items():\n",
    "            fig = px.box(df, x=\"Comm\", y=\"Median\", color=\"Comm\", title=\"Tum Median values in communities for {}\".format(key), points=\"all\")\n",
    "            fig.show()\n",
    "\n",
    "        display(std_norm3_comp_tf10.sankey_plot())\n",
    "        display(std_norm3_comp_tf10.com_mut_distrib(include_source=False))\n",
    "        display(std_norm3_comp_tf10.membership_change(include_source=False))\n",
    "\n",
    "if show_figures:\n",
    "    dmy_df, meta_norm3 = std_norm3_comp_tf10.comb_mut_stats(direction=\"Target\")\n",
    "    # display(std_norm3_comp_tf10.plot_mut_evo(dmy_df, direction=\"Target\"))\n",
    "    display(NetworkComp.plot_corr_matrix_coms(meta_norm3, height=700, title=\"Tum derived. Corr matrix for standard\", hide_up=True))\n",
    "\n",
    "    dmy_df, meta_std = std_norm3_comp_tf10.comb_mut_stats(direction=\"Source\")\n",
    "    # display(std_norm3_comp_tf10.plot_mut_evo(dmy_df, direction=\"Source\"))\n",
    "    display(NetworkComp.plot_corr_matrix_coms(meta_std, height=700, title=\"Tum derived. Corr matrix for reward\", hide_up=True))"
   ]
  },
  {
   "cell_type": "markdown",
   "metadata": {},
   "source": [
    "## Cluster methods"
   ]
  },
  {
   "cell_type": "code",
   "execution_count": 16,
   "metadata": {},
   "outputs": [
    {
     "name": "stdout",
     "output_type": "stream",
     "text": [
      "Variation per principal component [0.33414667 0.26297279] and the sum 59.71%\n",
      "Variation per principal component [0.34480403 0.26605455] and the sum 61.09%\n",
      "Variation per principal component [0.34948211 0.24750797] and the sum 59.70%\n"
     ]
    }
   ],
   "source": [
    "tf = 6\n",
    "comb_std, _, _ = gh.run_clusters(tum.exps[\"standard_4K_{}TF\".format(tf)], label=\"std_tf{}\".format(tf))\n",
    "comb_norm3, _, _ = gh.run_clusters(tum.exps[\"norm3_4K_{}TF\".format(tf)], label=\"norm3_tf{}\".format(tf), show_figs=False)\n",
    "comb_norm3.drop(columns=[\"PC_1\", \"PC_2\"], inplace=True)\n",
    "comb_beta, _, _ = gh.run_clusters(tum.exps[\"beta_4K_{}TF\".format(tf)], label=\"beta_tf{}\".format(tf))\n",
    "comb_beta.drop(columns=[\"PC_1\", \"PC_2\"], inplace=True)\n",
    "\n",
    "sel_exp = tum.exps[\"standard_4K_{}TF\".format(tf)]\n",
    "comb_tf6 = pd.concat([comb_std, comb_norm3, comb_beta, vu_output], axis=1).dropna()"
   ]
  },
  {
   "cell_type": "code",
   "execution_count": 17,
   "metadata": {},
   "outputs": [
    {
     "data": {
      "application/vnd.plotly.v1+json": {
       "config": {
        "plotlyServerURL": "https://plot.ly"
       },
       "data": [
        {
         "arrangement": "perpendicular",
         "link": {
          "color": "#bdbdbd",
          "source": [
           0,
           0,
           0,
           0,
           0,
           0,
           1,
           1,
           1,
           1,
           2,
           2,
           2,
           3,
           3,
           3,
           3,
           4,
           4,
           4,
           4,
           4,
           4,
           5,
           5,
           5,
           5,
           6,
           6,
           6,
           6,
           7,
           7,
           7,
           8,
           8,
           8,
           8,
           8,
           9,
           9,
           9,
           10,
           10,
           10,
           11,
           11,
           11,
           12,
           12,
           13,
           13,
           13,
           14,
           14,
           14,
           15,
           15,
           16,
           16,
           17,
           17,
           17,
           17,
           17,
           18,
           18,
           18,
           18,
           18,
           19,
           20,
           20,
           20,
           21,
           21,
           21,
           22,
           22,
           22,
           22
          ],
          "target": [
           5,
           6,
           7,
           8,
           9,
           10,
           5,
           7,
           9,
           10,
           5,
           6,
           9,
           5,
           6,
           8,
           9,
           5,
           6,
           7,
           8,
           9,
           10,
           11,
           12,
           14,
           15,
           11,
           12,
           13,
           15,
           11,
           13,
           14,
           11,
           12,
           13,
           14,
           16,
           12,
           15,
           16,
           11,
           14,
           16,
           17,
           18,
           21,
           18,
           21,
           17,
           19,
           20,
           17,
           19,
           20,
           18,
           21,
           17,
           22,
           23,
           24,
           25,
           26,
           28,
           23,
           24,
           25,
           26,
           27,
           23,
           23,
           27,
           28,
           24,
           25,
           26,
           23,
           24,
           25,
           28
          ],
          "value": [
           5,
           1,
           65,
           42,
           1,
           27,
           61,
           3,
           3,
           10,
           17,
           4,
           4,
           16,
           81,
           4,
           40,
           4,
           2,
           1,
           11,
           1,
           1,
           93,
           8,
           1,
           1,
           3,
           73,
           1,
           11,
           4,
           23,
           42,
           1,
           10,
           41,
           4,
           1,
           1,
           44,
           4,
           1,
           17,
           20,
           97,
           2,
           3,
           90,
           2,
           1,
           63,
           1,
           1,
           3,
           60,
           1,
           55,
           1,
           24,
           9,
           25,
           26,
           11,
           29,
           9,
           4,
           58,
           18,
           4,
           66,
           55,
           1,
           5,
           4,
           54,
           2,
           10,
           3,
           4,
           7
          ]
         },
         "node": {
          "color": [
           "rgb(229, 134, 6)",
           "rgb(229, 134, 6)",
           "rgb(229, 134, 6)",
           "rgb(229, 134, 6)",
           "rgb(229, 134, 6)",
           "rgb(93, 105, 177)",
           "rgb(93, 105, 177)",
           "rgb(93, 105, 177)",
           "rgb(93, 105, 177)",
           "rgb(93, 105, 177)",
           "rgb(93, 105, 177)",
           "rgb(82, 188, 163)",
           "rgb(82, 188, 163)",
           "rgb(82, 188, 163)",
           "rgb(82, 188, 163)",
           "rgb(82, 188, 163)",
           "rgb(82, 188, 163)",
           "rgb(153, 201, 69)",
           "rgb(153, 201, 69)",
           "rgb(153, 201, 69)",
           "rgb(153, 201, 69)",
           "rgb(153, 201, 69)",
           "rgb(153, 201, 69)",
           "rgb(204, 97, 176)",
           "rgb(204, 97, 176)",
           "rgb(204, 97, 176)",
           "rgb(204, 97, 176)",
           "rgb(204, 97, 176)",
           "rgb(204, 97, 176)"
          ],
          "label": [
           "Ba/Sq",
           "LumInf",
           "LumNS",
           "LumP",
           "NE-like",
           0,
           1,
           2,
           3,
           4,
           5,
           0,
           1,
           2,
           3,
           4,
           5,
           0,
           1,
           2,
           3,
           4,
           5,
           "Ba/Sq",
           "LumNS",
           "LumP",
           "LumU",
           "NE-like",
           "Stroma-rich"
          ],
          "line": {
           "color": "black",
           "width": 0.5
          },
          "pad": 15,
          "thickness": 20
         },
         "type": "sankey"
        }
       ],
       "layout": {
        "annotations": [
         {
          "align": "left",
          "font": {
           "color": "#003366",
           "size": 18
          },
          "showarrow": false,
          "text": "TCGA408_classifier",
          "x": 0,
          "xref": "x",
          "y": 1.07,
          "yref": "paper"
         },
         {
          "align": "left",
          "font": {
           "color": "#003366",
           "size": 18
          },
          "showarrow": false,
          "text": "RawKMeans_CS_6_std_tf6",
          "x": 1,
          "xref": "x",
          "y": 1.07,
          "yref": "paper"
         },
         {
          "align": "left",
          "font": {
           "color": "#003366",
           "size": 18
          },
          "showarrow": false,
          "text": "RawKMeans_CS_6_norm3_tf6",
          "x": 2,
          "xref": "x",
          "y": 1.07,
          "yref": "paper"
         },
         {
          "align": "left",
          "font": {
           "color": "#003366",
           "size": 18
          },
          "showarrow": false,
          "text": "RawKMeans_CS_6_beta_tf6",
          "x": 3,
          "xref": "x",
          "y": 1.07,
          "yref": "paper"
         },
         {
          "align": "left",
          "font": {
           "color": "#003366",
           "size": 18
          },
          "showarrow": false,
          "text": "2019_consensus_classifier",
          "x": 4,
          "xref": "x",
          "y": 1.07,
          "yref": "paper"
         }
        ],
        "font": {
         "color": "#003366",
         "size": 16
        },
        "height": 600,
        "plot_bgcolor": "rgba(0,0,0,0)",
        "template": {
         "data": {
          "bar": [
           {
            "error_x": {
             "color": "rgb(51,51,51)"
            },
            "error_y": {
             "color": "rgb(51,51,51)"
            },
            "marker": {
             "line": {
              "color": "rgb(237,237,237)",
              "width": 0.5
             },
             "pattern": {
              "fillmode": "overlay",
              "size": 10,
              "solidity": 0.2
             }
            },
            "type": "bar"
           }
          ],
          "barpolar": [
           {
            "marker": {
             "line": {
              "color": "rgb(237,237,237)",
              "width": 0.5
             },
             "pattern": {
              "fillmode": "overlay",
              "size": 10,
              "solidity": 0.2
             }
            },
            "type": "barpolar"
           }
          ],
          "carpet": [
           {
            "aaxis": {
             "endlinecolor": "rgb(51,51,51)",
             "gridcolor": "white",
             "linecolor": "white",
             "minorgridcolor": "white",
             "startlinecolor": "rgb(51,51,51)"
            },
            "baxis": {
             "endlinecolor": "rgb(51,51,51)",
             "gridcolor": "white",
             "linecolor": "white",
             "minorgridcolor": "white",
             "startlinecolor": "rgb(51,51,51)"
            },
            "type": "carpet"
           }
          ],
          "choropleth": [
           {
            "colorbar": {
             "outlinewidth": 0,
             "tickcolor": "rgb(237,237,237)",
             "ticklen": 6,
             "ticks": "inside"
            },
            "type": "choropleth"
           }
          ],
          "contour": [
           {
            "colorbar": {
             "outlinewidth": 0,
             "tickcolor": "rgb(237,237,237)",
             "ticklen": 6,
             "ticks": "inside"
            },
            "colorscale": [
             [
              0,
              "rgb(20,44,66)"
             ],
             [
              1,
              "rgb(90,179,244)"
             ]
            ],
            "type": "contour"
           }
          ],
          "contourcarpet": [
           {
            "colorbar": {
             "outlinewidth": 0,
             "tickcolor": "rgb(237,237,237)",
             "ticklen": 6,
             "ticks": "inside"
            },
            "type": "contourcarpet"
           }
          ],
          "heatmap": [
           {
            "colorbar": {
             "outlinewidth": 0,
             "tickcolor": "rgb(237,237,237)",
             "ticklen": 6,
             "ticks": "inside"
            },
            "colorscale": [
             [
              0,
              "rgb(20,44,66)"
             ],
             [
              1,
              "rgb(90,179,244)"
             ]
            ],
            "type": "heatmap"
           }
          ],
          "heatmapgl": [
           {
            "colorbar": {
             "outlinewidth": 0,
             "tickcolor": "rgb(237,237,237)",
             "ticklen": 6,
             "ticks": "inside"
            },
            "colorscale": [
             [
              0,
              "rgb(20,44,66)"
             ],
             [
              1,
              "rgb(90,179,244)"
             ]
            ],
            "type": "heatmapgl"
           }
          ],
          "histogram": [
           {
            "marker": {
             "pattern": {
              "fillmode": "overlay",
              "size": 10,
              "solidity": 0.2
             }
            },
            "type": "histogram"
           }
          ],
          "histogram2d": [
           {
            "colorbar": {
             "outlinewidth": 0,
             "tickcolor": "rgb(237,237,237)",
             "ticklen": 6,
             "ticks": "inside"
            },
            "colorscale": [
             [
              0,
              "rgb(20,44,66)"
             ],
             [
              1,
              "rgb(90,179,244)"
             ]
            ],
            "type": "histogram2d"
           }
          ],
          "histogram2dcontour": [
           {
            "colorbar": {
             "outlinewidth": 0,
             "tickcolor": "rgb(237,237,237)",
             "ticklen": 6,
             "ticks": "inside"
            },
            "colorscale": [
             [
              0,
              "rgb(20,44,66)"
             ],
             [
              1,
              "rgb(90,179,244)"
             ]
            ],
            "type": "histogram2dcontour"
           }
          ],
          "mesh3d": [
           {
            "colorbar": {
             "outlinewidth": 0,
             "tickcolor": "rgb(237,237,237)",
             "ticklen": 6,
             "ticks": "inside"
            },
            "type": "mesh3d"
           }
          ],
          "parcoords": [
           {
            "line": {
             "colorbar": {
              "outlinewidth": 0,
              "tickcolor": "rgb(237,237,237)",
              "ticklen": 6,
              "ticks": "inside"
             }
            },
            "type": "parcoords"
           }
          ],
          "pie": [
           {
            "automargin": true,
            "type": "pie"
           }
          ],
          "scatter": [
           {
            "fillpattern": {
             "fillmode": "overlay",
             "size": 10,
             "solidity": 0.2
            },
            "type": "scatter"
           }
          ],
          "scatter3d": [
           {
            "line": {
             "colorbar": {
              "outlinewidth": 0,
              "tickcolor": "rgb(237,237,237)",
              "ticklen": 6,
              "ticks": "inside"
             }
            },
            "marker": {
             "colorbar": {
              "outlinewidth": 0,
              "tickcolor": "rgb(237,237,237)",
              "ticklen": 6,
              "ticks": "inside"
             }
            },
            "type": "scatter3d"
           }
          ],
          "scattercarpet": [
           {
            "marker": {
             "colorbar": {
              "outlinewidth": 0,
              "tickcolor": "rgb(237,237,237)",
              "ticklen": 6,
              "ticks": "inside"
             }
            },
            "type": "scattercarpet"
           }
          ],
          "scattergeo": [
           {
            "marker": {
             "colorbar": {
              "outlinewidth": 0,
              "tickcolor": "rgb(237,237,237)",
              "ticklen": 6,
              "ticks": "inside"
             }
            },
            "type": "scattergeo"
           }
          ],
          "scattergl": [
           {
            "marker": {
             "colorbar": {
              "outlinewidth": 0,
              "tickcolor": "rgb(237,237,237)",
              "ticklen": 6,
              "ticks": "inside"
             }
            },
            "type": "scattergl"
           }
          ],
          "scattermapbox": [
           {
            "marker": {
             "colorbar": {
              "outlinewidth": 0,
              "tickcolor": "rgb(237,237,237)",
              "ticklen": 6,
              "ticks": "inside"
             }
            },
            "type": "scattermapbox"
           }
          ],
          "scatterpolar": [
           {
            "marker": {
             "colorbar": {
              "outlinewidth": 0,
              "tickcolor": "rgb(237,237,237)",
              "ticklen": 6,
              "ticks": "inside"
             }
            },
            "type": "scatterpolar"
           }
          ],
          "scatterpolargl": [
           {
            "marker": {
             "colorbar": {
              "outlinewidth": 0,
              "tickcolor": "rgb(237,237,237)",
              "ticklen": 6,
              "ticks": "inside"
             }
            },
            "type": "scatterpolargl"
           }
          ],
          "scatterternary": [
           {
            "marker": {
             "colorbar": {
              "outlinewidth": 0,
              "tickcolor": "rgb(237,237,237)",
              "ticklen": 6,
              "ticks": "inside"
             }
            },
            "type": "scatterternary"
           }
          ],
          "surface": [
           {
            "colorbar": {
             "outlinewidth": 0,
             "tickcolor": "rgb(237,237,237)",
             "ticklen": 6,
             "ticks": "inside"
            },
            "colorscale": [
             [
              0,
              "rgb(20,44,66)"
             ],
             [
              1,
              "rgb(90,179,244)"
             ]
            ],
            "type": "surface"
           }
          ],
          "table": [
           {
            "cells": {
             "fill": {
              "color": "rgb(237,237,237)"
             },
             "line": {
              "color": "white"
             }
            },
            "header": {
             "fill": {
              "color": "rgb(217,217,217)"
             },
             "line": {
              "color": "white"
             }
            },
            "type": "table"
           }
          ]
         },
         "layout": {
          "annotationdefaults": {
           "arrowhead": 0,
           "arrowwidth": 1
          },
          "autotypenumbers": "strict",
          "coloraxis": {
           "colorbar": {
            "outlinewidth": 0,
            "tickcolor": "rgb(237,237,237)",
            "ticklen": 6,
            "ticks": "inside"
           }
          },
          "colorscale": {
           "sequential": [
            [
             0,
             "rgb(20,44,66)"
            ],
            [
             1,
             "rgb(90,179,244)"
            ]
           ],
           "sequentialminus": [
            [
             0,
             "rgb(20,44,66)"
            ],
            [
             1,
             "rgb(90,179,244)"
            ]
           ]
          },
          "colorway": [
           "#F8766D",
           "#A3A500",
           "#00BF7D",
           "#00B0F6",
           "#E76BF3"
          ],
          "font": {
           "color": "rgb(51,51,51)"
          },
          "geo": {
           "bgcolor": "white",
           "lakecolor": "white",
           "landcolor": "rgb(237,237,237)",
           "showlakes": true,
           "showland": true,
           "subunitcolor": "white"
          },
          "hoverlabel": {
           "align": "left"
          },
          "hovermode": "closest",
          "paper_bgcolor": "white",
          "plot_bgcolor": "rgb(237,237,237)",
          "polar": {
           "angularaxis": {
            "gridcolor": "white",
            "linecolor": "white",
            "showgrid": true,
            "tickcolor": "rgb(51,51,51)",
            "ticks": "outside"
           },
           "bgcolor": "rgb(237,237,237)",
           "radialaxis": {
            "gridcolor": "white",
            "linecolor": "white",
            "showgrid": true,
            "tickcolor": "rgb(51,51,51)",
            "ticks": "outside"
           }
          },
          "scene": {
           "xaxis": {
            "backgroundcolor": "rgb(237,237,237)",
            "gridcolor": "white",
            "gridwidth": 2,
            "linecolor": "white",
            "showbackground": true,
            "showgrid": true,
            "tickcolor": "rgb(51,51,51)",
            "ticks": "outside",
            "zerolinecolor": "white"
           },
           "yaxis": {
            "backgroundcolor": "rgb(237,237,237)",
            "gridcolor": "white",
            "gridwidth": 2,
            "linecolor": "white",
            "showbackground": true,
            "showgrid": true,
            "tickcolor": "rgb(51,51,51)",
            "ticks": "outside",
            "zerolinecolor": "white"
           },
           "zaxis": {
            "backgroundcolor": "rgb(237,237,237)",
            "gridcolor": "white",
            "gridwidth": 2,
            "linecolor": "white",
            "showbackground": true,
            "showgrid": true,
            "tickcolor": "rgb(51,51,51)",
            "ticks": "outside",
            "zerolinecolor": "white"
           }
          },
          "shapedefaults": {
           "fillcolor": "black",
           "line": {
            "width": 0
           },
           "opacity": 0.3
          },
          "ternary": {
           "aaxis": {
            "gridcolor": "white",
            "linecolor": "white",
            "showgrid": true,
            "tickcolor": "rgb(51,51,51)",
            "ticks": "outside"
           },
           "baxis": {
            "gridcolor": "white",
            "linecolor": "white",
            "showgrid": true,
            "tickcolor": "rgb(51,51,51)",
            "ticks": "outside"
           },
           "bgcolor": "rgb(237,237,237)",
           "caxis": {
            "gridcolor": "white",
            "linecolor": "white",
            "showgrid": true,
            "tickcolor": "rgb(51,51,51)",
            "ticks": "outside"
           }
          },
          "xaxis": {
           "automargin": true,
           "gridcolor": "white",
           "linecolor": "white",
           "showgrid": true,
           "tickcolor": "rgb(51,51,51)",
           "ticks": "outside",
           "title": {
            "standoff": 15
           },
           "zerolinecolor": "white"
          },
          "yaxis": {
           "automargin": true,
           "gridcolor": "white",
           "linecolor": "white",
           "showgrid": true,
           "tickcolor": "rgb(51,51,51)",
           "ticks": "outside",
           "title": {
            "standoff": 15
           },
           "zerolinecolor": "white"
          }
         }
        },
        "title": {
         "text": "Best for standard_4K_6TF. Comp between TCGA408_classifier, RawKMeans_CS_6_std_tf6, RawKMeans_CS_6_norm3_tf6, RawKMeans_CS_6_beta_tf6, 2019_consensus_classifier "
        },
        "xaxis": {
         "showgrid": false,
         "visible": false,
         "zeroline": false
        },
        "yaxis": {
         "showgrid": false,
         "visible": false,
         "zeroline": false
        }
       }
      }
     },
     "metadata": {},
     "output_type": "display_data"
    }
   ],
   "source": [
    "num = 6\n",
    "cluster_model = \"RawKMeans\"\n",
    "reorder_cols = [\n",
    "    \"TCGA408_classifier\",\n",
    "    \"{}_CS_{}_std_tf{}\".format(cluster_model, num, tf),\n",
    "    \"{}_CS_{}_norm3_tf{}\".format(cluster_model, num, tf),\n",
    "    \"{}_CS_{}_beta_tf{}\".format(cluster_model, num, tf),\n",
    "    \"2019_consensus_classifier\",\n",
    "]\n",
    "sky.main(df=comb_tf6, reorder_cols=reorder_cols, title=\"Best for {}. Comp between {} \".format(sel_exp.type, \", \".join(reorder_cols)))"
   ]
  },
  {
   "cell_type": "markdown",
   "metadata": {},
   "source": [
    "## Modularity score and Sankey (Report)"
   ]
  },
  {
   "cell_type": "code",
   "execution_count": 18,
   "metadata": {},
   "outputs": [
    {
     "name": "stdout",
     "output_type": "stream",
     "text": [
      "Variation per principal component [0.33414667 0.26297279] and the sum 59.71%\n",
      "Variation per principal component [0.34480403 0.26605455] and the sum 61.09%\n",
      "Variation per principal component [0.34948211 0.24750797] and the sum 59.70%\n"
     ]
    }
   ],
   "source": [
    "tf, no_K, no_genes, cs_model = 6, 6, \"4K\", \"RawKMeans\"\n",
    "\n",
    "tum, sky_fig, cols = gh.prep_sankey_leiden(tum, vu_output=vu_output, tf=tf, no_K=no_K, no_genes=no_genes, chosen_cs_model=cs_model)\n",
    "sky_fig.update_layout(\n",
    "    title=\"\",\n",
    "    font=dict(size=18),\n",
    ")\n",
    "leiden_sky = gh.plot_sankey_leiden(tum, sky_fig=sky_fig, rename_cols=cols, label=\"TF-{}\".format(tf), tf=str(tf))\n",
    "\n",
    "\n",
    "leiden_sky = leiden_sky.update_layout(title=\"\", xaxis=dict(tickfont=dict(size=18)), yaxis=dict(tickfont=dict(size=18)), font=dict(size=18), height=900)\n",
    "leiden_sky = leiden_sky.update_annotations(font_size=22)\n",
    "save_fig(name=\"LeidenMetrics_Sankey_{}\".format(\"TF-6\"), fig=leiden_sky, base_path=figures_path, width=1400, height=1000)"
   ]
  },
  {
   "cell_type": "markdown",
   "metadata": {},
   "source": [
    "## Stats"
   ]
  },
  {
   "cell_type": "code",
   "execution_count": 30,
   "metadata": {},
   "outputs": [],
   "source": [
    "_, all_leiden = tum.avg_leiden_scores()\n",
    "\n",
    "# filtering an pre-processing\n",
    "all_leiden = all_leiden.loc[all_leiden[\"TF\"] == \"6\"]\n",
    "all_leiden.loc[all_leiden[\"Modifier\"] == \"beta\", \"Modifier\"] = \"Penalised\""
   ]
  },
  {
   "cell_type": "code",
   "execution_count": 31,
   "metadata": {},
   "outputs": [
    {
     "name": "stdout",
     "output_type": "stream",
     "text": [
      "ModularityScore: Std vs Pen vs Rwd Kruskal statistic: 25.80645161290323, p-value: 2.49000508218493e-06\n",
      "ModuleNum: Std vs Rwd Kruskall statistic: 3.304781453755149, p-value: 0.1915913181430947\n"
     ]
    }
   ],
   "source": [
    "leid_std = all_leiden.loc[all_leiden[\"Modifier\"] == \"Standard\"]\n",
    "leid_rwd = all_leiden.loc[all_leiden[\"Modifier\"] == \"Reward\"]\n",
    "leid_pen = all_leiden.loc[all_leiden[\"Modifier\"] == \"Penalised\"]\n",
    "\n",
    "metric = \"ModularityScore\"\n",
    "statistic, p_value = stats.kruskal(leid_std[metric], leid_pen[metric], leid_rwd[metric])\n",
    "print(f\"{metric}: Std vs Pen vs Rwd Kruskal statistic: {statistic}, p-value: {p_value}\")\n",
    "\n",
    "metric = \"ModuleNum\"\n",
    "statistic, p_value = stats.kruskal(leid_std[metric], leid_pen[metric], leid_rwd[metric])\n",
    "print(f\"{metric}: Std vs Rwd Kruskall statistic: {statistic}, p-value: {p_value}\")"
   ]
  },
  {
   "cell_type": "code",
   "execution_count": 39,
   "metadata": {},
   "outputs": [
    {
     "data": {
      "text/html": [
       "<div>\n",
       "<style scoped>\n",
       "    .dataframe tbody tr th:only-of-type {\n",
       "        vertical-align: middle;\n",
       "    }\n",
       "\n",
       "    .dataframe tbody tr th {\n",
       "        vertical-align: top;\n",
       "    }\n",
       "\n",
       "    .dataframe thead th {\n",
       "        text-align: right;\n",
       "    }\n",
       "</style>\n",
       "<table border=\"1\" class=\"dataframe\">\n",
       "  <thead>\n",
       "    <tr style=\"text-align: right;\">\n",
       "      <th></th>\n",
       "      <th>ModularityScore</th>\n",
       "      <th>ModuleNum</th>\n",
       "    </tr>\n",
       "  </thead>\n",
       "  <tbody>\n",
       "    <tr>\n",
       "      <th>Standard vs Reward</th>\n",
       "      <td>(0.0, 0.00018267179110955002)</td>\n",
       "      <td>(68.5, 0.15625270616013115)</td>\n",
       "    </tr>\n",
       "    <tr>\n",
       "      <th>Standard vs Penalised</th>\n",
       "      <td>(100.0, 0.00018267179110955002)</td>\n",
       "      <td>(59.0, 0.5057632526965341)</td>\n",
       "    </tr>\n",
       "    <tr>\n",
       "      <th>Reward vs Penalised</th>\n",
       "      <td>(0.0, 0.00018267179110955002)</td>\n",
       "      <td>(70.0, 0.10914769693061342)</td>\n",
       "    </tr>\n",
       "  </tbody>\n",
       "</table>\n",
       "</div>"
      ],
      "text/plain": [
       "                                       ModularityScore  \\\n",
       "Standard vs Reward       (0.0, 0.00018267179110955002)   \n",
       "Standard vs Penalised  (100.0, 0.00018267179110955002)   \n",
       "Reward vs Penalised      (0.0, 0.00018267179110955002)   \n",
       "\n",
       "                                         ModuleNum  \n",
       "Standard vs Reward     (68.5, 0.15625270616013115)  \n",
       "Standard vs Penalised   (59.0, 0.5057632526965341)  \n",
       "Reward vs Penalised    (70.0, 0.10914769693061342)  "
      ]
     },
     "execution_count": 39,
     "metadata": {},
     "output_type": "execute_result"
    }
   ],
   "source": [
    "metrics = [\"ModularityScore\", \"ModuleNum\"]\n",
    "test_rest = []\n",
    "\n",
    "for metric in metrics:\n",
    "    metric_results = []\n",
    "    statistic, p_value = stats.mannwhitneyu(\n",
    "        leid_std[metric],\n",
    "        leid_rwd[metric],\n",
    "    )\n",
    "    metric_results.append((statistic, p_value))\n",
    "\n",
    "    statistic, p_value = stats.mannwhitneyu(\n",
    "        leid_std[metric],\n",
    "        leid_pen[metric],\n",
    "    )\n",
    "    metric_results.append((statistic, p_value))\n",
    "\n",
    "    statistic, p_value = stats.mannwhitneyu(\n",
    "        leid_pen[metric],\n",
    "        leid_rwd[metric],\n",
    "    )\n",
    "    metric_results.append((statistic, p_value))\n",
    "    test_rest.append(metric_results)\n",
    "\n",
    "pd.DataFrame(test_rest, columns=[\"Standard vs Reward\", \"Standard vs Penalised\", \"Reward vs Penalised\"], index=metrics).T"
   ]
  },
  {
   "cell_type": "code",
   "execution_count": 37,
   "metadata": {},
   "outputs": [
    {
     "name": "stdout",
     "output_type": "stream",
     "text": [
      "ModularityScore: Std vs Pen Kruskal statistic: 14.285714285714278, p-value: 0.0001570522842307523\n",
      "ModularityScore: Std vs Rwd Mann statistic: 14.285714285714278, p-value: 0.0001570522842307523\n",
      "ModularityScore: Rwd vs Pen Kruskal statistic: 14.285714285714278, p-value: 0.0001570522842307523\n"
     ]
    }
   ],
   "source": [
    "metric = \"ModularityScore\"\n",
    "statistic, p_value = stats.kruskal(leid_std[metric], leid_pen[metric])\n",
    "print(f\"{metric}: Std vs Pen Kruskal statistic: {statistic}, p-value: {p_value}\")\n",
    "\n",
    "statistic, p_value = stats.kruskal(leid_std[metric], leid_rwd[metric])\n",
    "print(f\"{metric}: Std vs Rwd Mann statistic: {statistic}, p-value: {p_value}\")\n",
    "\n",
    "statistic, p_value = stats.kruskal(leid_rwd[metric], leid_pen[metric])\n",
    "print(f\"{metric}: Rwd vs Pen Kruskal statistic: {statistic}, p-value: {p_value}\")"
   ]
  },
  {
   "cell_type": "markdown",
   "metadata": {},
   "source": [
    "# TF 10\n",
    "\n",
    "Experiments with lower numbers of edges per TF"
   ]
  },
  {
   "cell_type": "markdown",
   "metadata": {},
   "source": [
    "## Std vs Norm3 (Reward v2)"
   ]
  },
  {
   "cell_type": "code",
   "execution_count": 19,
   "metadata": {},
   "outputs": [
    {
     "name": "stdout",
     "output_type": "stream",
     "text": [
      "norm3_4K_10TF has the following communities in addition to standard_4K_10TF: {16, 20, 21, 23}\n"
     ]
    }
   ],
   "source": [
    "%autoreload 2\n",
    "std_norm3_comp_tf = NetworkComp(tum, 4, \"standard_4K_10TF\", \"norm3_4K_10TF\")\n",
    "std_norm3_comp_tf.diff_in_com()\n",
    "\n",
    "show_figures = False\n",
    "\n",
    "if show_figures:\n",
    "    comp_dict = std_norm3_comp_tf.comp_ge_comm()\n",
    "    for key, df in comp_dict.items():\n",
    "        fig = px.box(df, x=\"Comm\", y=\"Median\", color=\"Comm\", title=\"Tum Median values in communities for {}\".format(key), points=\"all\")\n",
    "        # fig.show()\n",
    "\n",
    "    # display(std_norm3_comp_tf.sankey_plot())\n",
    "    display(std_norm3_comp_tf.com_mut_distrib(include_source=True, binarySource=True))\n",
    "    # display(std_norm3_comp_tf.membership_change(include_source=False))\n",
    "\n",
    "\n",
    "if show_figures:\n",
    "    dmy_df, meta_norm3 = std_norm3_comp_tf.comb_mut_stats(direction=\"Target\")\n",
    "    # display(std_norm3_comp_tf10.plot_mut_evo(dmy_df, direction=\"Target\"))\n",
    "    display(NetworkComp.plot_corr_matrix_coms(meta_norm3, height=700, title=\"Tum derived. Corr matrix for standard\", hide_up=True))\n",
    "\n",
    "    dmy_df, meta_std = std_norm3_comp_tf.comb_mut_stats(direction=\"Source\")\n",
    "    # display(std_norm3_comp_tf10.plot_mut_evo(dmy_df, direction=\"Source\"))\n",
    "    display(NetworkComp.plot_corr_matrix_coms(meta_std, height=700, title=\"Tum derived. Corr matrix for reward\", hide_up=True))"
   ]
  },
  {
   "cell_type": "code",
   "execution_count": 20,
   "metadata": {},
   "outputs": [
    {
     "name": "stdout",
     "output_type": "stream",
     "text": [
      "* Com = 16\n",
      "['DEDD' 'ATF6' 'USP21' 'B4GALT3' 'UHMK1' 'UAP1' 'PEX19' 'DUSP12' 'ALDH9A1'\n",
      " 'PPOX' 'KIFAP3' 'MPZL1' 'F11R' 'EEF1AKNMT' 'IGSF8' 'TSTD1' 'RP11-297K8.2'\n",
      " 'TOMM40L' 'KLHDC9' 'IGSF9' 'PIGK' 'CREG1' 'MPC2' 'DUSP23' 'TSEN15'\n",
      " 'HSPA6']\n",
      "* Com = 20\n",
      "['YES1' 'USP14' 'AFG3L2' 'RAB12' 'SEH1L' 'CHMP1B' 'PPP4R1' 'SMCHD1'\n",
      " 'MPPE1' 'IMPA2' 'CHMP1B-AS1' 'TWSG1' 'TTC39C' 'NCK2' 'CABYR']\n",
      "* Com = 21\n",
      "['P4HTM' 'NPRL2' 'ABHD14A' 'NT5DC2' 'PCBP4' 'CYB561D2' 'ABHD14B' 'ACY1'\n",
      " 'TREX1' 'SMIM4' 'CHCHD10' 'SPATC1L']\n",
      "* Com = 23\n",
      "['ID3' 'ID2' 'ID4' 'DUSP2' 'SMAD6' 'IGFBP2' 'BMP2']\n"
     ]
    }
   ],
   "source": [
    "selModCon = tum.exps[\"norm3_4K_10TF\"].modCons\n",
    "for com in [16, 20, 21, 23]:\n",
    "    print(\"* Com = {}\".format(com))\n",
    "    print(selModCon[com].index.values)\n",
    "    # print(\"* Com_{} = {}\".format(com, \", \".join(selModCon[com].index.values)))"
   ]
  },
  {
   "cell_type": "markdown",
   "metadata": {},
   "source": [
    "### Mutation evolution"
   ]
  },
  {
   "cell_type": "code",
   "execution_count": 21,
   "metadata": {},
   "outputs": [],
   "source": [
    "if 0:\n",
    "    dmy_df = std_norm3_comp_tf.comb_mut_stats(direction=\"Target\")\n",
    "    display(std_norm3_comp_tf.plot_mut_evo(dmy_df, direction=\"Target\"))\n",
    "\n",
    "    dmy_df = std_norm3_comp_tf.comb_mut_stats(direction=\"Source\")\n",
    "    display(std_norm3_comp_tf.plot_mut_evo(dmy_df, direction=\"Source\"))"
   ]
  },
  {
   "cell_type": "markdown",
   "metadata": {},
   "source": [
    "## Std vs beta"
   ]
  },
  {
   "cell_type": "code",
   "execution_count": 22,
   "metadata": {},
   "outputs": [
    {
     "name": "stdout",
     "output_type": "stream",
     "text": [
      "beta_4K_10TF has the following communities in addition to standard_4K_10TF: {11, 13, 14, 18, 20, 22}\n"
     ]
    }
   ],
   "source": [
    "%autoreload 2\n",
    "std_beta_comp_tf = NetworkComp(tum, 4, \"standard_4K_10TF\", \"beta_4K_10TF\")\n",
    "std_beta_comp_tf.diff_in_com()\n",
    "\n",
    "show_figures = False\n",
    "if show_figures:\n",
    "    comp_dict = std_beta_comp_tf.comp_ge_comm()\n",
    "    for key, df in comp_dict.items():\n",
    "        fig = px.box(df, x=\"Comm\", y=\"Median\", color=\"Comm\", title=\"Tum Median values in communities for {}\".format(key), points=\"all\")\n",
    "        # fig.show()\n",
    "\n",
    "\n",
    "    # display(std_beta_comp_tf.sankey_plot())\n",
    "    display(std_beta_comp_tf.com_mut_distrib(include_source=True,  binarySource=True))\n",
    "    # display(std_beta_comp_tf.membership_change(include_source=False))\n",
    "\n",
    "\n",
    "if show_figures:\n",
    "    std_beta_comp_tf.comp_df = std_beta_comp_tf.comp_df.fillna(0)\n",
    "    dmy_df, meta_std = std_beta_comp_tf.comb_mut_stats(direction=\"Target\")\n",
    "    # display(std_norm3_comp_tf10.plot_mut_evo(dmy_df, direction=\"Target\"))\n",
    "    display(NetworkComp.plot_corr_matrix_coms(meta_std, height=700, title=\"Tum derived. Corr matrix for standard\", hide_up=True))\n",
    "\n",
    "    dmy_df, meta_beta = std_beta_comp_tf.comb_mut_stats(direction=\"Source\")\n",
    "    # display(std_norm3_comp_tf10.plot_mut_evo(dmy_df, direction=\"Source\"))\n",
    "    display(NetworkComp.plot_corr_matrix_coms(meta_beta, height=700, title=\"Tum derived. Corr matrix for beta\", hide_up=True))"
   ]
  },
  {
   "cell_type": "markdown",
   "metadata": {},
   "source": [
    "## Morpheus\n",
    "### Export"
   ]
  },
  {
   "cell_type": "code",
   "execution_count": 23,
   "metadata": {},
   "outputs": [],
   "source": [
    "%autoreload 2 \n",
    "if 0:\n",
    "    no_genes = 100\n",
    "    for exp in tum.get_exps():\n",
    "        if \"beta2\" in exp.name or \"beta3\" in exp.name:\n",
    "            continue\n",
    "\n",
    "        sort_col = \"ModCon_{}\".format(exp.type)\n",
    "\n",
    "        exp.mevsMut, data = exp.get_mevs(exp.tpm_df, exp.modCons, sort_col=sort_col, num_genes=100)\n",
    "        exp.export_morpheus_mevs(vu_output, exp.name + \"_mut_100\", tum=True)"
   ]
  },
  {
   "cell_type": "markdown",
   "metadata": {},
   "source": [
    "### Import"
   ]
  },
  {
   "cell_type": "code",
   "execution_count": 24,
   "metadata": {},
   "outputs": [],
   "source": [
    "def import_morpheus(path, col_name=\"PGCNA_cut\"):\n",
    "    df = pd.read_csv(path, sep=\"\\t\", skiprows=2, index_col=\"id\")\n",
    "    df.index.names = [\"Sample\"]\n",
    "    df = df.transpose().rename(columns={\"dendrogram_cut\": col_name})\n",
    "    return df"
   ]
  },
  {
   "cell_type": "code",
   "execution_count": 25,
   "metadata": {},
   "outputs": [],
   "source": [
    "if 0:\n",
    "    m_path = \"{}/Stats/morpheus/10TF/cut_{}/\".format(tum.path, 6)\n",
    "\n",
    "    morpheus_std = import_morpheus(path=\"{}/{}_g{}.gct\".format(m_path, \"std\", 100), col_name=\"tum_std\")\n",
    "    morpheus_norm3 = import_morpheus(path=\"{}/{}_g{}.gct\".format(m_path, \"norm3\", 100), col_name=\"tum_norm3\")\n",
    "    morpheus_beta = import_morpheus(path=\"{}/{}_g{}.gct\".format(m_path, \"beta\", 100), col_name=\"tum_beta\")\n",
    "    dmy_df = pd.concat([morpheus_std[\"tum_std\"], morpheus_norm3[\"tum_norm3\"], morpheus_beta[\"tum_beta\"], vu_output], axis=1).dropna()\n",
    "    # dmy_df.drop(index=[\"dendrogram_cut\"], axis=1, inplace=True)\n",
    "    reorder_cols = [\n",
    "        \"KMeans_labels_5\",\n",
    "        \"TCGA408_classifier\",\n",
    "        \"tum_std\",\n",
    "        \"tum_norm3\",\n",
    "        \"tum_beta\",\n",
    "    ]\n",
    "    sky.main(df=dmy_df, reorder_cols=reorder_cols, title=\"Cut 7, Comparison between \" + \", \".join(reorder_cols))\n",
    "\n",
    "    sel_samples = dmy_df[dmy_df[\"TCGA\"] == \"Luminal_infiltrated\"].copy(deep=True)\n",
    "    sel_samples = dmy_df.copy(deep=True)\n",
    "    sel_samples[\"mut_count\"] = tcga_mutations_df.sum(axis=0)\n",
    "\n",
    "    px.histogram(sel_samples, x=\"TCGA408_classifier\", y=\"mut_count\")"
   ]
  },
  {
   "cell_type": "markdown",
   "metadata": {},
   "source": [
    "## Clustering methods\n",
    "\n",
    "Find the optimal clustering"
   ]
  },
  {
   "cell_type": "markdown",
   "metadata": {},
   "source": [
    "### Modifiers - best results\n",
    "\n",
    "* Standard\n",
    "  * Best results are given by clusters 4-6\n",
    "\n",
    "* Norm3\n",
    "  * When I run the experimnts with clustering methods: `[\"Birch\", \"RawKMeans\", \"GaussianMixture\", \"Ward\", \"SpectralClustering\", \"Avg\"]` and comparted the metrics the Kmeans 4-6 exhibited the best results\n",
    "* Beta"
   ]
  },
  {
   "cell_type": "code",
   "execution_count": 26,
   "metadata": {},
   "outputs": [
    {
     "name": "stdout",
     "output_type": "stream",
     "text": [
      "Variation per principal component [0.34775526 0.26150788] and the sum 60.93%\n",
      "Variation per principal component [0.3370373  0.27936119] and the sum 61.64%\n",
      "Variation per principal component [0.34907942 0.25774995] and the sum 60.68%\n"
     ]
    }
   ],
   "source": [
    "tf = 10\n",
    "comb_std, _, _ = gh.run_clusters(tum.exps[\"standard_4K_{}TF\".format(tf)], label=\"std_tf{}\".format(tf))\n",
    "comb_norm3, _, _ = gh.run_clusters(tum.exps[\"norm3_4K_{}TF\".format(tf)], label=\"norm3_tf{}\".format(tf), show_figs=False)\n",
    "comb_norm3.drop(columns=[\"PC_1\", \"PC_2\"], inplace=True)\n",
    "comb_beta, _, _ = gh.run_clusters(tum.exps[\"beta_4K_{}TF\".format(tf)], label=\"beta_tf{}\".format(tf))\n",
    "comb_beta.drop(columns=[\"PC_1\", \"PC_2\"], inplace=True)\n",
    "\n",
    "sel_exp = tum.exps[\"standard_4K_{}TF\".format(tf)]\n",
    "comb_tf10 = pd.concat([comb_std, comb_norm3, comb_beta, vu_output], axis=1).dropna()"
   ]
  },
  {
   "cell_type": "markdown",
   "metadata": {},
   "source": [
    "### Compare the best results between norm3 and standard\n",
    "\n",
    "On K-means comparisons:\n",
    " * From what I can see that there is no major difference when CS is set between 3-4, but from >5 there are large differences.\n",
    "\n",
    "Avg:\n",
    "* Can't make the difference at Basal split\n",
    "\n",
    "Spectral Clustering \n",
    "* It can only split the Basal after CS > 7\n",
    "* Apart from that it has a similar behaviour with Kmeans\n"
   ]
  },
  {
   "cell_type": "code",
   "execution_count": 27,
   "metadata": {},
   "outputs": [],
   "source": [
    "num = 6\n",
    "cluster_model = \"RawKMeans\"\n",
    "reorder_cols = [\n",
    "    \"KMeans_labels_5\",\n",
    "    \"{}_CS_{}_std_tf{}\".format(cluster_model, num, tf),\n",
    "    \"{}_CS_{}_norm3_tf{}\".format(cluster_model, num, tf),\n",
    "    \"{}_CS_{}_beta_tf{}\".format(cluster_model, num, tf),\n",
    "]\n",
    "# sky.main(df=comb_tf10, reorder_cols=reorder_cols, title=\"Best for {}. Comp between {} \".format(sel_exp.type, \", \".join(reorder_cols)))\n",
    "\n",
    "# variations = [\"_\".join(col.split(\"_\")[:2]) for col in comb_std.columns]\n",
    "# set(variations)"
   ]
  },
  {
   "cell_type": "markdown",
   "metadata": {},
   "source": [
    "# TF 50"
   ]
  },
  {
   "cell_type": "markdown",
   "metadata": {},
   "source": [
    "## Median values for each community"
   ]
  },
  {
   "cell_type": "code",
   "execution_count": 28,
   "metadata": {},
   "outputs": [
    {
     "name": "stdout",
     "output_type": "stream",
     "text": [
      "norm3_4K_50TF has the following communities in addition to standard_4K_50TF: {5}\n"
     ]
    },
    {
     "data": {
      "application/vnd.plotly.v1+json": {
       "config": {
        "plotlyServerURL": "https://plot.ly"
       },
       "data": [
        {
         "arrangement": "perpendicular",
         "link": {
          "color": "#bdbdbd",
          "source": [
           0,
           0,
           0,
           0,
           0,
           0,
           0,
           0,
           1,
           2,
           3,
           3,
           4,
           5,
           6,
           6,
           6,
           6,
           6,
           6,
           6,
           6,
           7,
           7,
           7,
           7,
           7,
           7,
           8,
           8,
           8,
           8,
           8,
           8,
           9,
           9,
           9,
           9,
           9,
           9,
           9,
           9,
           10,
           10,
           10,
           10,
           10,
           10,
           10,
           11,
           11,
           11,
           11,
           11,
           11,
           11,
           12,
           12,
           12,
           12,
           13
          ],
          "target": [
           14,
           20,
           22,
           23,
           24,
           25,
           26,
           27,
           16,
           17,
           22,
           23,
           18,
           19,
           14,
           20,
           21,
           22,
           23,
           24,
           25,
           26,
           14,
           21,
           22,
           23,
           24,
           26,
           14,
           20,
           22,
           24,
           25,
           26,
           15,
           16,
           20,
           21,
           22,
           23,
           24,
           25,
           14,
           21,
           22,
           23,
           24,
           25,
           26,
           14,
           20,
           21,
           22,
           23,
           25,
           26,
           15,
           24,
           25,
           27,
           27
          ],
          "value": [
           1,
           2,
           426,
           10,
           4,
           218,
           12,
           160,
           21,
           20,
           12,
           4,
           8,
           4,
           514,
           7,
           17,
           3,
           28,
           26,
           1,
           1,
           13,
           478,
           5,
           4,
           24,
           1,
           11,
           478,
           3,
           5,
           22,
           6,
           1,
           1,
           9,
           2,
           1,
           1,
           320,
           125,
           12,
           11,
           3,
           361,
           23,
           1,
           1,
           11,
           22,
           2,
           2,
           8,
           18,
           309,
           147,
           1,
           1,
           3,
           55
          ]
         },
         "node": {
          "color": [
           "rgb(229, 134, 6)",
           "rgb(229, 134, 6)",
           "rgb(229, 134, 6)",
           "rgb(229, 134, 6)",
           "rgb(229, 134, 6)",
           "rgb(229, 134, 6)",
           "rgb(229, 134, 6)",
           "rgb(229, 134, 6)",
           "rgb(229, 134, 6)",
           "rgb(229, 134, 6)",
           "rgb(229, 134, 6)",
           "rgb(229, 134, 6)",
           "rgb(229, 134, 6)",
           "rgb(229, 134, 6)",
           "rgb(93, 105, 177)",
           "rgb(93, 105, 177)",
           "rgb(93, 105, 177)",
           "rgb(93, 105, 177)",
           "rgb(93, 105, 177)",
           "rgb(93, 105, 177)",
           "rgb(93, 105, 177)",
           "rgb(93, 105, 177)",
           "rgb(93, 105, 177)",
           "rgb(93, 105, 177)",
           "rgb(93, 105, 177)",
           "rgb(93, 105, 177)",
           "rgb(93, 105, 177)",
           "rgb(93, 105, 177)"
          ],
          "label": [
           "standard_4K_50TF_1",
           "standard_4K_50TF_10",
           "standard_4K_50TF_11",
           "standard_4K_50TF_12",
           "standard_4K_50TF_13",
           "standard_4K_50TF_14",
           "standard_4K_50TF_2",
           "standard_4K_50TF_3",
           "standard_4K_50TF_4",
           "standard_4K_50TF_5",
           "standard_4K_50TF_6",
           "standard_4K_50TF_7",
           "standard_4K_50TF_8",
           "standard_4K_50TF_9",
           "norm3_4K_50TF_1",
           "norm3_4K_50TF_10",
           "norm3_4K_50TF_11",
           "norm3_4K_50TF_12",
           "norm3_4K_50TF_13",
           "norm3_4K_50TF_14",
           "norm3_4K_50TF_2",
           "norm3_4K_50TF_3",
           "norm3_4K_50TF_4",
           "norm3_4K_50TF_5",
           "norm3_4K_50TF_6",
           "norm3_4K_50TF_7",
           "norm3_4K_50TF_8",
           "norm3_4K_50TF_9"
          ],
          "line": {
           "color": "black",
           "width": 0.5
          },
          "pad": 15,
          "thickness": 20
         },
         "type": "sankey"
        }
       ],
       "layout": {
        "annotations": [
         {
          "align": "left",
          "font": {
           "color": "#003366",
           "size": 18
          },
          "showarrow": false,
          "text": "Leiden_standard_4K_50TF",
          "x": 0,
          "xref": "x",
          "y": 1.07,
          "yref": "paper"
         },
         {
          "align": "left",
          "font": {
           "color": "#003366",
           "size": 18
          },
          "showarrow": false,
          "text": "Leiden_norm3_4K_50TF",
          "x": 1,
          "xref": "x",
          "y": 1.07,
          "yref": "paper"
         }
        ],
        "font": {
         "color": "#003366",
         "size": 16
        },
        "height": 600,
        "plot_bgcolor": "rgba(0,0,0,0)",
        "template": {
         "data": {
          "bar": [
           {
            "error_x": {
             "color": "rgb(51,51,51)"
            },
            "error_y": {
             "color": "rgb(51,51,51)"
            },
            "marker": {
             "line": {
              "color": "rgb(237,237,237)",
              "width": 0.5
             },
             "pattern": {
              "fillmode": "overlay",
              "size": 10,
              "solidity": 0.2
             }
            },
            "type": "bar"
           }
          ],
          "barpolar": [
           {
            "marker": {
             "line": {
              "color": "rgb(237,237,237)",
              "width": 0.5
             },
             "pattern": {
              "fillmode": "overlay",
              "size": 10,
              "solidity": 0.2
             }
            },
            "type": "barpolar"
           }
          ],
          "carpet": [
           {
            "aaxis": {
             "endlinecolor": "rgb(51,51,51)",
             "gridcolor": "white",
             "linecolor": "white",
             "minorgridcolor": "white",
             "startlinecolor": "rgb(51,51,51)"
            },
            "baxis": {
             "endlinecolor": "rgb(51,51,51)",
             "gridcolor": "white",
             "linecolor": "white",
             "minorgridcolor": "white",
             "startlinecolor": "rgb(51,51,51)"
            },
            "type": "carpet"
           }
          ],
          "choropleth": [
           {
            "colorbar": {
             "outlinewidth": 0,
             "tickcolor": "rgb(237,237,237)",
             "ticklen": 6,
             "ticks": "inside"
            },
            "type": "choropleth"
           }
          ],
          "contour": [
           {
            "colorbar": {
             "outlinewidth": 0,
             "tickcolor": "rgb(237,237,237)",
             "ticklen": 6,
             "ticks": "inside"
            },
            "colorscale": [
             [
              0,
              "rgb(20,44,66)"
             ],
             [
              1,
              "rgb(90,179,244)"
             ]
            ],
            "type": "contour"
           }
          ],
          "contourcarpet": [
           {
            "colorbar": {
             "outlinewidth": 0,
             "tickcolor": "rgb(237,237,237)",
             "ticklen": 6,
             "ticks": "inside"
            },
            "type": "contourcarpet"
           }
          ],
          "heatmap": [
           {
            "colorbar": {
             "outlinewidth": 0,
             "tickcolor": "rgb(237,237,237)",
             "ticklen": 6,
             "ticks": "inside"
            },
            "colorscale": [
             [
              0,
              "rgb(20,44,66)"
             ],
             [
              1,
              "rgb(90,179,244)"
             ]
            ],
            "type": "heatmap"
           }
          ],
          "heatmapgl": [
           {
            "colorbar": {
             "outlinewidth": 0,
             "tickcolor": "rgb(237,237,237)",
             "ticklen": 6,
             "ticks": "inside"
            },
            "colorscale": [
             [
              0,
              "rgb(20,44,66)"
             ],
             [
              1,
              "rgb(90,179,244)"
             ]
            ],
            "type": "heatmapgl"
           }
          ],
          "histogram": [
           {
            "marker": {
             "pattern": {
              "fillmode": "overlay",
              "size": 10,
              "solidity": 0.2
             }
            },
            "type": "histogram"
           }
          ],
          "histogram2d": [
           {
            "colorbar": {
             "outlinewidth": 0,
             "tickcolor": "rgb(237,237,237)",
             "ticklen": 6,
             "ticks": "inside"
            },
            "colorscale": [
             [
              0,
              "rgb(20,44,66)"
             ],
             [
              1,
              "rgb(90,179,244)"
             ]
            ],
            "type": "histogram2d"
           }
          ],
          "histogram2dcontour": [
           {
            "colorbar": {
             "outlinewidth": 0,
             "tickcolor": "rgb(237,237,237)",
             "ticklen": 6,
             "ticks": "inside"
            },
            "colorscale": [
             [
              0,
              "rgb(20,44,66)"
             ],
             [
              1,
              "rgb(90,179,244)"
             ]
            ],
            "type": "histogram2dcontour"
           }
          ],
          "mesh3d": [
           {
            "colorbar": {
             "outlinewidth": 0,
             "tickcolor": "rgb(237,237,237)",
             "ticklen": 6,
             "ticks": "inside"
            },
            "type": "mesh3d"
           }
          ],
          "parcoords": [
           {
            "line": {
             "colorbar": {
              "outlinewidth": 0,
              "tickcolor": "rgb(237,237,237)",
              "ticklen": 6,
              "ticks": "inside"
             }
            },
            "type": "parcoords"
           }
          ],
          "pie": [
           {
            "automargin": true,
            "type": "pie"
           }
          ],
          "scatter": [
           {
            "fillpattern": {
             "fillmode": "overlay",
             "size": 10,
             "solidity": 0.2
            },
            "type": "scatter"
           }
          ],
          "scatter3d": [
           {
            "line": {
             "colorbar": {
              "outlinewidth": 0,
              "tickcolor": "rgb(237,237,237)",
              "ticklen": 6,
              "ticks": "inside"
             }
            },
            "marker": {
             "colorbar": {
              "outlinewidth": 0,
              "tickcolor": "rgb(237,237,237)",
              "ticklen": 6,
              "ticks": "inside"
             }
            },
            "type": "scatter3d"
           }
          ],
          "scattercarpet": [
           {
            "marker": {
             "colorbar": {
              "outlinewidth": 0,
              "tickcolor": "rgb(237,237,237)",
              "ticklen": 6,
              "ticks": "inside"
             }
            },
            "type": "scattercarpet"
           }
          ],
          "scattergeo": [
           {
            "marker": {
             "colorbar": {
              "outlinewidth": 0,
              "tickcolor": "rgb(237,237,237)",
              "ticklen": 6,
              "ticks": "inside"
             }
            },
            "type": "scattergeo"
           }
          ],
          "scattergl": [
           {
            "marker": {
             "colorbar": {
              "outlinewidth": 0,
              "tickcolor": "rgb(237,237,237)",
              "ticklen": 6,
              "ticks": "inside"
             }
            },
            "type": "scattergl"
           }
          ],
          "scattermapbox": [
           {
            "marker": {
             "colorbar": {
              "outlinewidth": 0,
              "tickcolor": "rgb(237,237,237)",
              "ticklen": 6,
              "ticks": "inside"
             }
            },
            "type": "scattermapbox"
           }
          ],
          "scatterpolar": [
           {
            "marker": {
             "colorbar": {
              "outlinewidth": 0,
              "tickcolor": "rgb(237,237,237)",
              "ticklen": 6,
              "ticks": "inside"
             }
            },
            "type": "scatterpolar"
           }
          ],
          "scatterpolargl": [
           {
            "marker": {
             "colorbar": {
              "outlinewidth": 0,
              "tickcolor": "rgb(237,237,237)",
              "ticklen": 6,
              "ticks": "inside"
             }
            },
            "type": "scatterpolargl"
           }
          ],
          "scatterternary": [
           {
            "marker": {
             "colorbar": {
              "outlinewidth": 0,
              "tickcolor": "rgb(237,237,237)",
              "ticklen": 6,
              "ticks": "inside"
             }
            },
            "type": "scatterternary"
           }
          ],
          "surface": [
           {
            "colorbar": {
             "outlinewidth": 0,
             "tickcolor": "rgb(237,237,237)",
             "ticklen": 6,
             "ticks": "inside"
            },
            "colorscale": [
             [
              0,
              "rgb(20,44,66)"
             ],
             [
              1,
              "rgb(90,179,244)"
             ]
            ],
            "type": "surface"
           }
          ],
          "table": [
           {
            "cells": {
             "fill": {
              "color": "rgb(237,237,237)"
             },
             "line": {
              "color": "white"
             }
            },
            "header": {
             "fill": {
              "color": "rgb(217,217,217)"
             },
             "line": {
              "color": "white"
             }
            },
            "type": "table"
           }
          ]
         },
         "layout": {
          "annotationdefaults": {
           "arrowhead": 0,
           "arrowwidth": 1
          },
          "autotypenumbers": "strict",
          "coloraxis": {
           "colorbar": {
            "outlinewidth": 0,
            "tickcolor": "rgb(237,237,237)",
            "ticklen": 6,
            "ticks": "inside"
           }
          },
          "colorscale": {
           "sequential": [
            [
             0,
             "rgb(20,44,66)"
            ],
            [
             1,
             "rgb(90,179,244)"
            ]
           ],
           "sequentialminus": [
            [
             0,
             "rgb(20,44,66)"
            ],
            [
             1,
             "rgb(90,179,244)"
            ]
           ]
          },
          "colorway": [
           "#F8766D",
           "#A3A500",
           "#00BF7D",
           "#00B0F6",
           "#E76BF3"
          ],
          "font": {
           "color": "rgb(51,51,51)"
          },
          "geo": {
           "bgcolor": "white",
           "lakecolor": "white",
           "landcolor": "rgb(237,237,237)",
           "showlakes": true,
           "showland": true,
           "subunitcolor": "white"
          },
          "hoverlabel": {
           "align": "left"
          },
          "hovermode": "closest",
          "paper_bgcolor": "white",
          "plot_bgcolor": "rgb(237,237,237)",
          "polar": {
           "angularaxis": {
            "gridcolor": "white",
            "linecolor": "white",
            "showgrid": true,
            "tickcolor": "rgb(51,51,51)",
            "ticks": "outside"
           },
           "bgcolor": "rgb(237,237,237)",
           "radialaxis": {
            "gridcolor": "white",
            "linecolor": "white",
            "showgrid": true,
            "tickcolor": "rgb(51,51,51)",
            "ticks": "outside"
           }
          },
          "scene": {
           "xaxis": {
            "backgroundcolor": "rgb(237,237,237)",
            "gridcolor": "white",
            "gridwidth": 2,
            "linecolor": "white",
            "showbackground": true,
            "showgrid": true,
            "tickcolor": "rgb(51,51,51)",
            "ticks": "outside",
            "zerolinecolor": "white"
           },
           "yaxis": {
            "backgroundcolor": "rgb(237,237,237)",
            "gridcolor": "white",
            "gridwidth": 2,
            "linecolor": "white",
            "showbackground": true,
            "showgrid": true,
            "tickcolor": "rgb(51,51,51)",
            "ticks": "outside",
            "zerolinecolor": "white"
           },
           "zaxis": {
            "backgroundcolor": "rgb(237,237,237)",
            "gridcolor": "white",
            "gridwidth": 2,
            "linecolor": "white",
            "showbackground": true,
            "showgrid": true,
            "tickcolor": "rgb(51,51,51)",
            "ticks": "outside",
            "zerolinecolor": "white"
           }
          },
          "shapedefaults": {
           "fillcolor": "black",
           "line": {
            "width": 0
           },
           "opacity": 0.3
          },
          "ternary": {
           "aaxis": {
            "gridcolor": "white",
            "linecolor": "white",
            "showgrid": true,
            "tickcolor": "rgb(51,51,51)",
            "ticks": "outside"
           },
           "baxis": {
            "gridcolor": "white",
            "linecolor": "white",
            "showgrid": true,
            "tickcolor": "rgb(51,51,51)",
            "ticks": "outside"
           },
           "bgcolor": "rgb(237,237,237)",
           "caxis": {
            "gridcolor": "white",
            "linecolor": "white",
            "showgrid": true,
            "tickcolor": "rgb(51,51,51)",
            "ticks": "outside"
           }
          },
          "xaxis": {
           "automargin": true,
           "gridcolor": "white",
           "linecolor": "white",
           "showgrid": true,
           "tickcolor": "rgb(51,51,51)",
           "ticks": "outside",
           "title": {
            "standoff": 15
           },
           "zerolinecolor": "white"
          },
          "yaxis": {
           "automargin": true,
           "gridcolor": "white",
           "linecolor": "white",
           "showgrid": true,
           "tickcolor": "rgb(51,51,51)",
           "ticks": "outside",
           "title": {
            "standoff": 15
           },
           "zerolinecolor": "white"
          }
         }
        },
        "title": {
         "text": "Community comparison between Leiden_standard_4K_50TF, Leiden_norm3_4K_50TF"
        },
        "xaxis": {
         "showgrid": false,
         "visible": false,
         "zeroline": false
        },
        "yaxis": {
         "showgrid": false,
         "visible": false,
         "zeroline": false
        }
       }
      }
     },
     "metadata": {},
     "output_type": "display_data"
    }
   ],
   "source": [
    "%autoreload 2\n",
    "std_norm3_comp_tf50 = NetworkComp(tum, 4, \"standard_4K_50TF\", \"norm3_4K_50TF\")\n",
    "std_norm3_comp_tf50.diff_in_com()\n",
    "display(std_norm3_comp_tf50.sankey_plot())\n",
    "\n",
    "if 0:\n",
    "    comp_dict = std_norm3_comp_tf50.comp_ge_comm()\n",
    "    for key, df in comp_dict.items():\n",
    "        fig = px.box(df, x=\"Comm\", y=\"Median\", color=\"Comm\", title=\"Tum. Median values in communities for {}\".format(key), points=\"all\")\n",
    "        fig.show()\n",
    "\n",
    "    display(std_norm3_comp_tf50.sankey_plot())\n",
    "    display(std_norm3_comp_tf50.com_mut_distrib(include_source=True))\n",
    "    display(std_norm3_comp_tf50.membership_change(include_source=True))"
   ]
  },
  {
   "cell_type": "markdown",
   "metadata": {},
   "source": [
    "## Mutation evolution\n"
   ]
  },
  {
   "cell_type": "code",
   "execution_count": 29,
   "metadata": {},
   "outputs": [],
   "source": [
    "if 0:\n",
    "    dmy_df = std_norm3_comp_tf50.comb_mut_stats(direction=\"Target\")\n",
    "    display(std_norm3_comp_tf50.plot_mut_evo(dmy_df, direction=\"Target\"))\n",
    "\n",
    "    dmy_df = std_norm3_comp_tf50.comb_mut_stats(direction=\"Source\")\n",
    "    std_norm3_comp_tf50.plot_mut_evo(dmy_df, direction=\"Source\")"
   ]
  },
  {
   "cell_type": "markdown",
   "metadata": {},
   "source": [
    "## Clustering"
   ]
  },
  {
   "cell_type": "code",
   "execution_count": 30,
   "metadata": {},
   "outputs": [
    {
     "name": "stdout",
     "output_type": "stream",
     "text": [
      "Variation per principal component [0.34623    0.28250341] and the sum 62.87%\n",
      "Variation per principal component [0.38524433 0.2417056 ] and the sum 62.69%\n",
      "Variation per principal component [0.41105467 0.20591684] and the sum 61.70%\n"
     ]
    }
   ],
   "source": [
    "tf = 50\n",
    "comb_std, _, _ = gh.run_clusters(tum.exps[\"standard_4K_{}TF\".format(tf)], label=\"std_tf{}\".format(tf))\n",
    "comb_norm3, _, _ = gh.run_clusters(tum.exps[\"norm3_4K_{}TF\".format(tf)], label=\"norm3_tf{}\".format(tf))\n",
    "comb_norm3.drop(columns=[\"PC_1\", \"PC_2\"], inplace=True)\n",
    "comb_beta, _, _ = gh.run_clusters(tum.exps[\"beta_4K_{}TF\".format(tf)], label=\"beta_tf{}\".format(tf))\n",
    "comb_beta.drop(columns=[\"PC_1\", \"PC_2\"], inplace=True)\n",
    "\n",
    "sel_exp = tum.exps[\"standard_4K_{}TF\".format(tf)]\n",
    "comb_tf50 = pd.concat([comb_std, comb_norm3, comb_beta, vu_output], axis=1).dropna()"
   ]
  },
  {
   "cell_type": "code",
   "execution_count": 31,
   "metadata": {},
   "outputs": [],
   "source": [
    "num = 6\n",
    "cluster_model = \"RawKMeans\"\n",
    "reorder_cols = [\n",
    "    \"KMeans_labels_5\",\n",
    "    \"{}_CS_{}_std_tf{}\".format(cluster_model, num, tf),\n",
    "    \"{}_CS_{}_norm3_tf{}\".format(cluster_model, num, tf),\n",
    "    \"{}_CS_{}_beta_tf{}\".format(cluster_model, num, tf),\n",
    "]\n",
    "# sky.main(df=comb_tf50, reorder_cols=reorder_cols, title=\"Best for {}. Comp between {} \".format(sel_exp.type, \", \".join(reorder_cols)))"
   ]
  },
  {
   "cell_type": "markdown",
   "metadata": {},
   "source": [
    "# TF 3"
   ]
  },
  {
   "cell_type": "markdown",
   "metadata": {},
   "source": [
    "## Cluster methods"
   ]
  },
  {
   "cell_type": "code",
   "execution_count": 32,
   "metadata": {},
   "outputs": [
    {
     "name": "stdout",
     "output_type": "stream",
     "text": [
      "Variation per principal component [0.324855   0.27349363] and the sum 59.83%\n",
      "Variation per principal component [0.34426125 0.25185594] and the sum 59.61%\n",
      "Variation per principal component [0.35032186 0.24843387] and the sum 59.88%\n"
     ]
    }
   ],
   "source": [
    "tf = 3\n",
    "comb_std, _, _ = gh.run_clusters(tum.exps[\"standard_4K_{}TF\".format(tf)], label=\"std_tf{}\".format(tf))\n",
    "comb_norm3, _, _ = gh.run_clusters(tum.exps[\"norm3_4K_{}TF\".format(tf)], label=\"norm3_tf{}\".format(tf))\n",
    "comb_norm3.drop(columns=[\"PC_1\", \"PC_2\"], inplace=True)\n",
    "comb_beta, _, _ = gh.run_clusters(tum.exps[\"beta_4K_{}TF\".format(tf)], label=\"beta_tf{}\".format(tf))\n",
    "comb_beta.drop(columns=[\"PC_1\", \"PC_2\"], inplace=True)\n",
    "\n",
    "sel_exp = tum.exps[\"standard_4K_{}TF\".format(tf)]\n",
    "comb_tf3 = pd.concat([comb_std, comb_norm3, comb_beta, vu_output], axis=1).dropna()"
   ]
  },
  {
   "cell_type": "code",
   "execution_count": 33,
   "metadata": {},
   "outputs": [],
   "source": [
    "num = 3\n",
    "cluster_model = \"RawKMeans\"\n",
    "reorder_cols = [\n",
    "    \"KMeans_labels_5\",\n",
    "    \"{}_CS_{}_std_tf{}\".format(cluster_model, num, tf),\n",
    "    \"{}_CS_{}_norm3_tf{}\".format(cluster_model, num, tf),\n",
    "    \"{}_CS_{}_beta_tf{}\".format(cluster_model, num, tf),\n",
    "]\n",
    "# sky.main(df=comb_tf3, reorder_cols=reorder_cols, title=\"Best for {}. Comp between {} \".format(sel_exp.type, \", \".join(reorder_cols)))"
   ]
  },
  {
   "cell_type": "markdown",
   "metadata": {},
   "source": [
    "# Clutering comp across TF experiments"
   ]
  },
  {
   "cell_type": "markdown",
   "metadata": {},
   "source": [
    "## Norm3 (Reward)"
   ]
  },
  {
   "cell_type": "code",
   "execution_count": 34,
   "metadata": {},
   "outputs": [
    {
     "data": {
      "application/vnd.plotly.v1+json": {
       "config": {
        "plotlyServerURL": "https://plot.ly"
       },
       "data": [
        {
         "arrangement": "perpendicular",
         "link": {
          "color": "#bdbdbd",
          "source": [
           0,
           0,
           1,
           1,
           2,
           2,
           2,
           3,
           3,
           4,
           4,
           5,
           5,
           5,
           7,
           7,
           8,
           8,
           6,
           6,
           9,
           9,
           10,
           10,
           10,
           11,
           11,
           12,
           12,
           12,
           12,
           12,
           13,
           13,
           13,
           13,
           13,
           14,
           14,
           14,
           14,
           14,
           14
          ],
          "target": [
           8,
           6,
           7,
           8,
           7,
           8,
           6,
           7,
           6,
           7,
           8,
           7,
           8,
           6,
           9,
           10,
           10,
           11,
           9,
           11,
           12,
           13,
           12,
           13,
           14,
           13,
           14,
           15,
           16,
           18,
           19,
           20,
           15,
           16,
           17,
           19,
           20,
           15,
           16,
           17,
           18,
           19,
           20
          ],
          "value": [
           65,
           1,
           15,
           26,
           87,
           14,
           16,
           66,
           51,
           5,
           28,
           16,
           12,
           2,
           162,
           27,
           140,
           5,
           13,
           57,
           24,
           151,
           157,
           2,
           8,
           14,
           48,
           2,
           62,
           61,
           48,
           8,
           90,
           6,
           45,
           15,
           11,
           5,
           9,
           28,
           7,
           1,
           6
          ]
         },
         "node": {
          "color": [
           "rgb(229, 134, 6)",
           "rgb(229, 134, 6)",
           "rgb(229, 134, 6)",
           "rgb(229, 134, 6)",
           "rgb(229, 134, 6)",
           "rgb(229, 134, 6)",
           "rgb(93, 105, 177)",
           "rgb(93, 105, 177)",
           "rgb(93, 105, 177)",
           "rgb(82, 188, 163)",
           "rgb(82, 188, 163)",
           "rgb(82, 188, 163)",
           "rgb(153, 201, 69)",
           "rgb(153, 201, 69)",
           "rgb(153, 201, 69)",
           "rgb(204, 97, 176)",
           "rgb(204, 97, 176)",
           "rgb(204, 97, 176)",
           "rgb(204, 97, 176)",
           "rgb(204, 97, 176)",
           "rgb(204, 97, 176)"
          ],
          "label": [
           "High IFNG",
           "Low IFNG",
           "Lum Inf/NS",
           "LumP",
           "Med IFNG",
           "Ne",
           2,
           0,
           1,
           0,
           1,
           2,
           0,
           1,
           2,
           0,
           1,
           2,
           3,
           4,
           5
          ],
          "line": {
           "color": "black",
           "width": 0.5
          },
          "pad": 15,
          "thickness": 20
         },
         "type": "sankey"
        }
       ],
       "layout": {
        "annotations": [
         {
          "align": "left",
          "font": {
           "color": "#003366",
           "size": 18
          },
          "showarrow": false,
          "text": "KMeans_labels_6",
          "x": 0,
          "xref": "x",
          "y": 1.07,
          "yref": "paper"
         },
         {
          "align": "left",
          "font": {
           "color": "#003366",
           "size": 18
          },
          "showarrow": false,
          "text": "RawKMeans_CS_3_norm3_tf3",
          "x": 1,
          "xref": "x",
          "y": 1.07,
          "yref": "paper"
         },
         {
          "align": "left",
          "font": {
           "color": "#003366",
           "size": 18
          },
          "showarrow": false,
          "text": "RawKMeans_CS_3_norm3_tf6",
          "x": 2,
          "xref": "x",
          "y": 1.07,
          "yref": "paper"
         },
         {
          "align": "left",
          "font": {
           "color": "#003366",
           "size": 18
          },
          "showarrow": false,
          "text": "RawKMeans_CS_3_norm3_tf10",
          "x": 3,
          "xref": "x",
          "y": 1.07,
          "yref": "paper"
         },
         {
          "align": "left",
          "font": {
           "color": "#003366",
           "size": 18
          },
          "showarrow": false,
          "text": "RawKMeans_CS_6",
          "x": 4,
          "xref": "x",
          "y": 1.07,
          "yref": "paper"
         }
        ],
        "font": {
         "color": "#003366",
         "size": 16
        },
        "height": 600,
        "plot_bgcolor": "rgba(0,0,0,0)",
        "template": {
         "data": {
          "bar": [
           {
            "error_x": {
             "color": "rgb(51,51,51)"
            },
            "error_y": {
             "color": "rgb(51,51,51)"
            },
            "marker": {
             "line": {
              "color": "rgb(237,237,237)",
              "width": 0.5
             },
             "pattern": {
              "fillmode": "overlay",
              "size": 10,
              "solidity": 0.2
             }
            },
            "type": "bar"
           }
          ],
          "barpolar": [
           {
            "marker": {
             "line": {
              "color": "rgb(237,237,237)",
              "width": 0.5
             },
             "pattern": {
              "fillmode": "overlay",
              "size": 10,
              "solidity": 0.2
             }
            },
            "type": "barpolar"
           }
          ],
          "carpet": [
           {
            "aaxis": {
             "endlinecolor": "rgb(51,51,51)",
             "gridcolor": "white",
             "linecolor": "white",
             "minorgridcolor": "white",
             "startlinecolor": "rgb(51,51,51)"
            },
            "baxis": {
             "endlinecolor": "rgb(51,51,51)",
             "gridcolor": "white",
             "linecolor": "white",
             "minorgridcolor": "white",
             "startlinecolor": "rgb(51,51,51)"
            },
            "type": "carpet"
           }
          ],
          "choropleth": [
           {
            "colorbar": {
             "outlinewidth": 0,
             "tickcolor": "rgb(237,237,237)",
             "ticklen": 6,
             "ticks": "inside"
            },
            "type": "choropleth"
           }
          ],
          "contour": [
           {
            "colorbar": {
             "outlinewidth": 0,
             "tickcolor": "rgb(237,237,237)",
             "ticklen": 6,
             "ticks": "inside"
            },
            "colorscale": [
             [
              0,
              "rgb(20,44,66)"
             ],
             [
              1,
              "rgb(90,179,244)"
             ]
            ],
            "type": "contour"
           }
          ],
          "contourcarpet": [
           {
            "colorbar": {
             "outlinewidth": 0,
             "tickcolor": "rgb(237,237,237)",
             "ticklen": 6,
             "ticks": "inside"
            },
            "type": "contourcarpet"
           }
          ],
          "heatmap": [
           {
            "colorbar": {
             "outlinewidth": 0,
             "tickcolor": "rgb(237,237,237)",
             "ticklen": 6,
             "ticks": "inside"
            },
            "colorscale": [
             [
              0,
              "rgb(20,44,66)"
             ],
             [
              1,
              "rgb(90,179,244)"
             ]
            ],
            "type": "heatmap"
           }
          ],
          "heatmapgl": [
           {
            "colorbar": {
             "outlinewidth": 0,
             "tickcolor": "rgb(237,237,237)",
             "ticklen": 6,
             "ticks": "inside"
            },
            "colorscale": [
             [
              0,
              "rgb(20,44,66)"
             ],
             [
              1,
              "rgb(90,179,244)"
             ]
            ],
            "type": "heatmapgl"
           }
          ],
          "histogram": [
           {
            "marker": {
             "pattern": {
              "fillmode": "overlay",
              "size": 10,
              "solidity": 0.2
             }
            },
            "type": "histogram"
           }
          ],
          "histogram2d": [
           {
            "colorbar": {
             "outlinewidth": 0,
             "tickcolor": "rgb(237,237,237)",
             "ticklen": 6,
             "ticks": "inside"
            },
            "colorscale": [
             [
              0,
              "rgb(20,44,66)"
             ],
             [
              1,
              "rgb(90,179,244)"
             ]
            ],
            "type": "histogram2d"
           }
          ],
          "histogram2dcontour": [
           {
            "colorbar": {
             "outlinewidth": 0,
             "tickcolor": "rgb(237,237,237)",
             "ticklen": 6,
             "ticks": "inside"
            },
            "colorscale": [
             [
              0,
              "rgb(20,44,66)"
             ],
             [
              1,
              "rgb(90,179,244)"
             ]
            ],
            "type": "histogram2dcontour"
           }
          ],
          "mesh3d": [
           {
            "colorbar": {
             "outlinewidth": 0,
             "tickcolor": "rgb(237,237,237)",
             "ticklen": 6,
             "ticks": "inside"
            },
            "type": "mesh3d"
           }
          ],
          "parcoords": [
           {
            "line": {
             "colorbar": {
              "outlinewidth": 0,
              "tickcolor": "rgb(237,237,237)",
              "ticklen": 6,
              "ticks": "inside"
             }
            },
            "type": "parcoords"
           }
          ],
          "pie": [
           {
            "automargin": true,
            "type": "pie"
           }
          ],
          "scatter": [
           {
            "fillpattern": {
             "fillmode": "overlay",
             "size": 10,
             "solidity": 0.2
            },
            "type": "scatter"
           }
          ],
          "scatter3d": [
           {
            "line": {
             "colorbar": {
              "outlinewidth": 0,
              "tickcolor": "rgb(237,237,237)",
              "ticklen": 6,
              "ticks": "inside"
             }
            },
            "marker": {
             "colorbar": {
              "outlinewidth": 0,
              "tickcolor": "rgb(237,237,237)",
              "ticklen": 6,
              "ticks": "inside"
             }
            },
            "type": "scatter3d"
           }
          ],
          "scattercarpet": [
           {
            "marker": {
             "colorbar": {
              "outlinewidth": 0,
              "tickcolor": "rgb(237,237,237)",
              "ticklen": 6,
              "ticks": "inside"
             }
            },
            "type": "scattercarpet"
           }
          ],
          "scattergeo": [
           {
            "marker": {
             "colorbar": {
              "outlinewidth": 0,
              "tickcolor": "rgb(237,237,237)",
              "ticklen": 6,
              "ticks": "inside"
             }
            },
            "type": "scattergeo"
           }
          ],
          "scattergl": [
           {
            "marker": {
             "colorbar": {
              "outlinewidth": 0,
              "tickcolor": "rgb(237,237,237)",
              "ticklen": 6,
              "ticks": "inside"
             }
            },
            "type": "scattergl"
           }
          ],
          "scattermapbox": [
           {
            "marker": {
             "colorbar": {
              "outlinewidth": 0,
              "tickcolor": "rgb(237,237,237)",
              "ticklen": 6,
              "ticks": "inside"
             }
            },
            "type": "scattermapbox"
           }
          ],
          "scatterpolar": [
           {
            "marker": {
             "colorbar": {
              "outlinewidth": 0,
              "tickcolor": "rgb(237,237,237)",
              "ticklen": 6,
              "ticks": "inside"
             }
            },
            "type": "scatterpolar"
           }
          ],
          "scatterpolargl": [
           {
            "marker": {
             "colorbar": {
              "outlinewidth": 0,
              "tickcolor": "rgb(237,237,237)",
              "ticklen": 6,
              "ticks": "inside"
             }
            },
            "type": "scatterpolargl"
           }
          ],
          "scatterternary": [
           {
            "marker": {
             "colorbar": {
              "outlinewidth": 0,
              "tickcolor": "rgb(237,237,237)",
              "ticklen": 6,
              "ticks": "inside"
             }
            },
            "type": "scatterternary"
           }
          ],
          "surface": [
           {
            "colorbar": {
             "outlinewidth": 0,
             "tickcolor": "rgb(237,237,237)",
             "ticklen": 6,
             "ticks": "inside"
            },
            "colorscale": [
             [
              0,
              "rgb(20,44,66)"
             ],
             [
              1,
              "rgb(90,179,244)"
             ]
            ],
            "type": "surface"
           }
          ],
          "table": [
           {
            "cells": {
             "fill": {
              "color": "rgb(237,237,237)"
             },
             "line": {
              "color": "white"
             }
            },
            "header": {
             "fill": {
              "color": "rgb(217,217,217)"
             },
             "line": {
              "color": "white"
             }
            },
            "type": "table"
           }
          ]
         },
         "layout": {
          "annotationdefaults": {
           "arrowhead": 0,
           "arrowwidth": 1
          },
          "autotypenumbers": "strict",
          "coloraxis": {
           "colorbar": {
            "outlinewidth": 0,
            "tickcolor": "rgb(237,237,237)",
            "ticklen": 6,
            "ticks": "inside"
           }
          },
          "colorscale": {
           "sequential": [
            [
             0,
             "rgb(20,44,66)"
            ],
            [
             1,
             "rgb(90,179,244)"
            ]
           ],
           "sequentialminus": [
            [
             0,
             "rgb(20,44,66)"
            ],
            [
             1,
             "rgb(90,179,244)"
            ]
           ]
          },
          "colorway": [
           "#F8766D",
           "#A3A500",
           "#00BF7D",
           "#00B0F6",
           "#E76BF3"
          ],
          "font": {
           "color": "rgb(51,51,51)"
          },
          "geo": {
           "bgcolor": "white",
           "lakecolor": "white",
           "landcolor": "rgb(237,237,237)",
           "showlakes": true,
           "showland": true,
           "subunitcolor": "white"
          },
          "hoverlabel": {
           "align": "left"
          },
          "hovermode": "closest",
          "paper_bgcolor": "white",
          "plot_bgcolor": "rgb(237,237,237)",
          "polar": {
           "angularaxis": {
            "gridcolor": "white",
            "linecolor": "white",
            "showgrid": true,
            "tickcolor": "rgb(51,51,51)",
            "ticks": "outside"
           },
           "bgcolor": "rgb(237,237,237)",
           "radialaxis": {
            "gridcolor": "white",
            "linecolor": "white",
            "showgrid": true,
            "tickcolor": "rgb(51,51,51)",
            "ticks": "outside"
           }
          },
          "scene": {
           "xaxis": {
            "backgroundcolor": "rgb(237,237,237)",
            "gridcolor": "white",
            "gridwidth": 2,
            "linecolor": "white",
            "showbackground": true,
            "showgrid": true,
            "tickcolor": "rgb(51,51,51)",
            "ticks": "outside",
            "zerolinecolor": "white"
           },
           "yaxis": {
            "backgroundcolor": "rgb(237,237,237)",
            "gridcolor": "white",
            "gridwidth": 2,
            "linecolor": "white",
            "showbackground": true,
            "showgrid": true,
            "tickcolor": "rgb(51,51,51)",
            "ticks": "outside",
            "zerolinecolor": "white"
           },
           "zaxis": {
            "backgroundcolor": "rgb(237,237,237)",
            "gridcolor": "white",
            "gridwidth": 2,
            "linecolor": "white",
            "showbackground": true,
            "showgrid": true,
            "tickcolor": "rgb(51,51,51)",
            "ticks": "outside",
            "zerolinecolor": "white"
           }
          },
          "shapedefaults": {
           "fillcolor": "black",
           "line": {
            "width": 0
           },
           "opacity": 0.3
          },
          "ternary": {
           "aaxis": {
            "gridcolor": "white",
            "linecolor": "white",
            "showgrid": true,
            "tickcolor": "rgb(51,51,51)",
            "ticks": "outside"
           },
           "baxis": {
            "gridcolor": "white",
            "linecolor": "white",
            "showgrid": true,
            "tickcolor": "rgb(51,51,51)",
            "ticks": "outside"
           },
           "bgcolor": "rgb(237,237,237)",
           "caxis": {
            "gridcolor": "white",
            "linecolor": "white",
            "showgrid": true,
            "tickcolor": "rgb(51,51,51)",
            "ticks": "outside"
           }
          },
          "xaxis": {
           "automargin": true,
           "gridcolor": "white",
           "linecolor": "white",
           "showgrid": true,
           "tickcolor": "rgb(51,51,51)",
           "ticks": "outside",
           "title": {
            "standoff": 15
           },
           "zerolinecolor": "white"
          },
          "yaxis": {
           "automargin": true,
           "gridcolor": "white",
           "linecolor": "white",
           "showgrid": true,
           "tickcolor": "rgb(51,51,51)",
           "ticks": "outside",
           "title": {
            "standoff": 15
           },
           "zerolinecolor": "white"
          }
         }
        },
        "title": {
         "text": "Best for Norm3. Comp between KMeans_labels_6, RawKMeans_CS_3_norm3_tf3, RawKMeans_CS_3_norm3_tf6, RawKMeans_CS_3_norm3_tf10, RawKMeans_CS_6 "
        },
        "xaxis": {
         "showgrid": false,
         "visible": false,
         "zeroline": false
        },
        "yaxis": {
         "showgrid": false,
         "visible": false,
         "zeroline": false
        }
       }
      }
     },
     "metadata": {},
     "output_type": "display_data"
    }
   ],
   "source": [
    "comb_all_tfs = pd.concat(\n",
    "    [comb_tf3, comb_tf6.drop(columns=vu_output.columns), comb_tf10.drop(columns=vu_output.columns), comb_tf50.drop(columns=vu_output.columns)], axis=1\n",
    ")\n",
    "\n",
    "reorder_cols = [\n",
    "    \"KMeans_labels_6\",\n",
    "    # \"{}_CS_{}_std_tf{}\".format(cluster_model, num, 6),\n",
    "    \"{}_CS_{}_norm3_tf{}\".format(cluster_model, num, 3),\n",
    "    \"{}_CS_{}_norm3_tf{}\".format(cluster_model, num, 6),\n",
    "    \"{}_CS_{}_norm3_tf{}\".format(cluster_model, num, 10),\n",
    "    \"RawKMeans_CS_6\",\n",
    "    # \"KMeans_labels_5\",\n",
    "    # \"{}_CS_{}_norm3_tf{}\".format(cluster_model, num, 50),\n",
    "]\n",
    "sky.main(df=comb_all_tfs, reorder_cols=reorder_cols, title=\"Best for {}. Comp between {} \".format(\"Norm3\", \", \".join(reorder_cols)))"
   ]
  },
  {
   "cell_type": "markdown",
   "metadata": {},
   "source": [
    "## TF 10 norm3 and standard"
   ]
  },
  {
   "cell_type": "code",
   "execution_count": 35,
   "metadata": {},
   "outputs": [
    {
     "data": {
      "application/vnd.plotly.v1+json": {
       "config": {
        "plotlyServerURL": "https://plot.ly"
       },
       "data": [
        {
         "arrangement": "perpendicular",
         "link": {
          "color": "#bdbdbd",
          "source": [
           0,
           0,
           0,
           0,
           0,
           0,
           1,
           1,
           1,
           2,
           2,
           2,
           3,
           3,
           3,
           3,
           4,
           4,
           4,
           5,
           5,
           5,
           5,
           6,
           6,
           6,
           6,
           7,
           7,
           7,
           7,
           7,
           8,
           8,
           8,
           8,
           8,
           9,
           9,
           9,
           10,
           10,
           10,
           10,
           10,
           11,
           11,
           11,
           11,
           12,
           12,
           13,
           13,
           13,
           14,
           14,
           14,
           15,
           15,
           15,
           16,
           16,
           16
          ],
          "target": [
           5,
           6,
           7,
           8,
           9,
           10,
           5,
           7,
           10,
           7,
           8,
           10,
           6,
           7,
           8,
           10,
           6,
           7,
           10,
           11,
           13,
           15,
           16,
           11,
           12,
           13,
           15,
           11,
           12,
           14,
           15,
           16,
           11,
           12,
           14,
           15,
           16,
           11,
           13,
           15,
           11,
           12,
           13,
           15,
           16,
           17,
           18,
           19,
           20,
           19,
           20,
           17,
           18,
           21,
           19,
           20,
           22,
           18,
           20,
           21,
           17,
           21,
           22
          ],
          "value": [
           61,
           35,
           4,
           1,
           33,
           7,
           5,
           71,
           1,
           18,
           6,
           1,
           5,
           23,
           110,
           3,
           1,
           1,
           18,
           4,
           47,
           1,
           14,
           3,
           4,
           5,
           29,
           87,
           12,
           10,
           1,
           7,
           5,
           58,
           51,
           1,
           2,
           3,
           21,
           9,
           3,
           8,
           3,
           12,
           4,
           69,
           3,
           27,
           6,
           19,
           63,
           15,
           37,
           24,
           32,
           1,
           28,
           43,
           7,
           3,
           1,
           21,
           5
          ]
         },
         "node": {
          "color": [
           "rgb(229, 134, 6)",
           "rgb(229, 134, 6)",
           "rgb(229, 134, 6)",
           "rgb(229, 134, 6)",
           "rgb(229, 134, 6)",
           "rgb(93, 105, 177)",
           "rgb(93, 105, 177)",
           "rgb(93, 105, 177)",
           "rgb(93, 105, 177)",
           "rgb(93, 105, 177)",
           "rgb(93, 105, 177)",
           "rgb(82, 188, 163)",
           "rgb(82, 188, 163)",
           "rgb(82, 188, 163)",
           "rgb(82, 188, 163)",
           "rgb(82, 188, 163)",
           "rgb(82, 188, 163)",
           "rgb(153, 201, 69)",
           "rgb(153, 201, 69)",
           "rgb(153, 201, 69)",
           "rgb(153, 201, 69)",
           "rgb(153, 201, 69)",
           "rgb(153, 201, 69)"
          ],
          "label": [
           "Ba/Sq",
           "LumInf",
           "LumNS",
           "LumP",
           "NE-like",
           "High IFNG",
           "Low IFNG",
           "Lum Inf/NS",
           "LumP",
           "Med IFNG",
           "Ne",
           0,
           1,
           2,
           3,
           4,
           5,
           0,
           1,
           2,
           3,
           4,
           5
          ],
          "line": {
           "color": "black",
           "width": 0.5
          },
          "pad": 15,
          "thickness": 20
         },
         "type": "sankey"
        }
       ],
       "layout": {
        "annotations": [
         {
          "align": "left",
          "font": {
           "color": "#003366",
           "size": 18
          },
          "showarrow": false,
          "text": "TCGA408_classifier",
          "x": 0,
          "xref": "x",
          "y": 1.07,
          "yref": "paper"
         },
         {
          "align": "left",
          "font": {
           "color": "#003366",
           "size": 18
          },
          "showarrow": false,
          "text": "KMeans_labels_6",
          "x": 1,
          "xref": "x",
          "y": 1.07,
          "yref": "paper"
         },
         {
          "align": "left",
          "font": {
           "color": "#003366",
           "size": 18
          },
          "showarrow": false,
          "text": "RawKMeans_CS_6_norm3_tf10",
          "x": 2,
          "xref": "x",
          "y": 1.07,
          "yref": "paper"
         },
         {
          "align": "left",
          "font": {
           "color": "#003366",
           "size": 18
          },
          "showarrow": false,
          "text": "RawKMeans_CS_6_std_tf10",
          "x": 3,
          "xref": "x",
          "y": 1.07,
          "yref": "paper"
         }
        ],
        "font": {
         "color": "#003366",
         "size": 16
        },
        "height": 700,
        "plot_bgcolor": "rgba(0,0,0,0)",
        "template": {
         "data": {
          "bar": [
           {
            "error_x": {
             "color": "rgb(51,51,51)"
            },
            "error_y": {
             "color": "rgb(51,51,51)"
            },
            "marker": {
             "line": {
              "color": "rgb(237,237,237)",
              "width": 0.5
             },
             "pattern": {
              "fillmode": "overlay",
              "size": 10,
              "solidity": 0.2
             }
            },
            "type": "bar"
           }
          ],
          "barpolar": [
           {
            "marker": {
             "line": {
              "color": "rgb(237,237,237)",
              "width": 0.5
             },
             "pattern": {
              "fillmode": "overlay",
              "size": 10,
              "solidity": 0.2
             }
            },
            "type": "barpolar"
           }
          ],
          "carpet": [
           {
            "aaxis": {
             "endlinecolor": "rgb(51,51,51)",
             "gridcolor": "white",
             "linecolor": "white",
             "minorgridcolor": "white",
             "startlinecolor": "rgb(51,51,51)"
            },
            "baxis": {
             "endlinecolor": "rgb(51,51,51)",
             "gridcolor": "white",
             "linecolor": "white",
             "minorgridcolor": "white",
             "startlinecolor": "rgb(51,51,51)"
            },
            "type": "carpet"
           }
          ],
          "choropleth": [
           {
            "colorbar": {
             "outlinewidth": 0,
             "tickcolor": "rgb(237,237,237)",
             "ticklen": 6,
             "ticks": "inside"
            },
            "type": "choropleth"
           }
          ],
          "contour": [
           {
            "colorbar": {
             "outlinewidth": 0,
             "tickcolor": "rgb(237,237,237)",
             "ticklen": 6,
             "ticks": "inside"
            },
            "colorscale": [
             [
              0,
              "rgb(20,44,66)"
             ],
             [
              1,
              "rgb(90,179,244)"
             ]
            ],
            "type": "contour"
           }
          ],
          "contourcarpet": [
           {
            "colorbar": {
             "outlinewidth": 0,
             "tickcolor": "rgb(237,237,237)",
             "ticklen": 6,
             "ticks": "inside"
            },
            "type": "contourcarpet"
           }
          ],
          "heatmap": [
           {
            "colorbar": {
             "outlinewidth": 0,
             "tickcolor": "rgb(237,237,237)",
             "ticklen": 6,
             "ticks": "inside"
            },
            "colorscale": [
             [
              0,
              "rgb(20,44,66)"
             ],
             [
              1,
              "rgb(90,179,244)"
             ]
            ],
            "type": "heatmap"
           }
          ],
          "heatmapgl": [
           {
            "colorbar": {
             "outlinewidth": 0,
             "tickcolor": "rgb(237,237,237)",
             "ticklen": 6,
             "ticks": "inside"
            },
            "colorscale": [
             [
              0,
              "rgb(20,44,66)"
             ],
             [
              1,
              "rgb(90,179,244)"
             ]
            ],
            "type": "heatmapgl"
           }
          ],
          "histogram": [
           {
            "marker": {
             "pattern": {
              "fillmode": "overlay",
              "size": 10,
              "solidity": 0.2
             }
            },
            "type": "histogram"
           }
          ],
          "histogram2d": [
           {
            "colorbar": {
             "outlinewidth": 0,
             "tickcolor": "rgb(237,237,237)",
             "ticklen": 6,
             "ticks": "inside"
            },
            "colorscale": [
             [
              0,
              "rgb(20,44,66)"
             ],
             [
              1,
              "rgb(90,179,244)"
             ]
            ],
            "type": "histogram2d"
           }
          ],
          "histogram2dcontour": [
           {
            "colorbar": {
             "outlinewidth": 0,
             "tickcolor": "rgb(237,237,237)",
             "ticklen": 6,
             "ticks": "inside"
            },
            "colorscale": [
             [
              0,
              "rgb(20,44,66)"
             ],
             [
              1,
              "rgb(90,179,244)"
             ]
            ],
            "type": "histogram2dcontour"
           }
          ],
          "mesh3d": [
           {
            "colorbar": {
             "outlinewidth": 0,
             "tickcolor": "rgb(237,237,237)",
             "ticklen": 6,
             "ticks": "inside"
            },
            "type": "mesh3d"
           }
          ],
          "parcoords": [
           {
            "line": {
             "colorbar": {
              "outlinewidth": 0,
              "tickcolor": "rgb(237,237,237)",
              "ticklen": 6,
              "ticks": "inside"
             }
            },
            "type": "parcoords"
           }
          ],
          "pie": [
           {
            "automargin": true,
            "type": "pie"
           }
          ],
          "scatter": [
           {
            "fillpattern": {
             "fillmode": "overlay",
             "size": 10,
             "solidity": 0.2
            },
            "type": "scatter"
           }
          ],
          "scatter3d": [
           {
            "line": {
             "colorbar": {
              "outlinewidth": 0,
              "tickcolor": "rgb(237,237,237)",
              "ticklen": 6,
              "ticks": "inside"
             }
            },
            "marker": {
             "colorbar": {
              "outlinewidth": 0,
              "tickcolor": "rgb(237,237,237)",
              "ticklen": 6,
              "ticks": "inside"
             }
            },
            "type": "scatter3d"
           }
          ],
          "scattercarpet": [
           {
            "marker": {
             "colorbar": {
              "outlinewidth": 0,
              "tickcolor": "rgb(237,237,237)",
              "ticklen": 6,
              "ticks": "inside"
             }
            },
            "type": "scattercarpet"
           }
          ],
          "scattergeo": [
           {
            "marker": {
             "colorbar": {
              "outlinewidth": 0,
              "tickcolor": "rgb(237,237,237)",
              "ticklen": 6,
              "ticks": "inside"
             }
            },
            "type": "scattergeo"
           }
          ],
          "scattergl": [
           {
            "marker": {
             "colorbar": {
              "outlinewidth": 0,
              "tickcolor": "rgb(237,237,237)",
              "ticklen": 6,
              "ticks": "inside"
             }
            },
            "type": "scattergl"
           }
          ],
          "scattermapbox": [
           {
            "marker": {
             "colorbar": {
              "outlinewidth": 0,
              "tickcolor": "rgb(237,237,237)",
              "ticklen": 6,
              "ticks": "inside"
             }
            },
            "type": "scattermapbox"
           }
          ],
          "scatterpolar": [
           {
            "marker": {
             "colorbar": {
              "outlinewidth": 0,
              "tickcolor": "rgb(237,237,237)",
              "ticklen": 6,
              "ticks": "inside"
             }
            },
            "type": "scatterpolar"
           }
          ],
          "scatterpolargl": [
           {
            "marker": {
             "colorbar": {
              "outlinewidth": 0,
              "tickcolor": "rgb(237,237,237)",
              "ticklen": 6,
              "ticks": "inside"
             }
            },
            "type": "scatterpolargl"
           }
          ],
          "scatterternary": [
           {
            "marker": {
             "colorbar": {
              "outlinewidth": 0,
              "tickcolor": "rgb(237,237,237)",
              "ticklen": 6,
              "ticks": "inside"
             }
            },
            "type": "scatterternary"
           }
          ],
          "surface": [
           {
            "colorbar": {
             "outlinewidth": 0,
             "tickcolor": "rgb(237,237,237)",
             "ticklen": 6,
             "ticks": "inside"
            },
            "colorscale": [
             [
              0,
              "rgb(20,44,66)"
             ],
             [
              1,
              "rgb(90,179,244)"
             ]
            ],
            "type": "surface"
           }
          ],
          "table": [
           {
            "cells": {
             "fill": {
              "color": "rgb(237,237,237)"
             },
             "line": {
              "color": "white"
             }
            },
            "header": {
             "fill": {
              "color": "rgb(217,217,217)"
             },
             "line": {
              "color": "white"
             }
            },
            "type": "table"
           }
          ]
         },
         "layout": {
          "annotationdefaults": {
           "arrowhead": 0,
           "arrowwidth": 1
          },
          "autotypenumbers": "strict",
          "coloraxis": {
           "colorbar": {
            "outlinewidth": 0,
            "tickcolor": "rgb(237,237,237)",
            "ticklen": 6,
            "ticks": "inside"
           }
          },
          "colorscale": {
           "sequential": [
            [
             0,
             "rgb(20,44,66)"
            ],
            [
             1,
             "rgb(90,179,244)"
            ]
           ],
           "sequentialminus": [
            [
             0,
             "rgb(20,44,66)"
            ],
            [
             1,
             "rgb(90,179,244)"
            ]
           ]
          },
          "colorway": [
           "#F8766D",
           "#A3A500",
           "#00BF7D",
           "#00B0F6",
           "#E76BF3"
          ],
          "font": {
           "color": "rgb(51,51,51)"
          },
          "geo": {
           "bgcolor": "white",
           "lakecolor": "white",
           "landcolor": "rgb(237,237,237)",
           "showlakes": true,
           "showland": true,
           "subunitcolor": "white"
          },
          "hoverlabel": {
           "align": "left"
          },
          "hovermode": "closest",
          "paper_bgcolor": "white",
          "plot_bgcolor": "rgb(237,237,237)",
          "polar": {
           "angularaxis": {
            "gridcolor": "white",
            "linecolor": "white",
            "showgrid": true,
            "tickcolor": "rgb(51,51,51)",
            "ticks": "outside"
           },
           "bgcolor": "rgb(237,237,237)",
           "radialaxis": {
            "gridcolor": "white",
            "linecolor": "white",
            "showgrid": true,
            "tickcolor": "rgb(51,51,51)",
            "ticks": "outside"
           }
          },
          "scene": {
           "xaxis": {
            "backgroundcolor": "rgb(237,237,237)",
            "gridcolor": "white",
            "gridwidth": 2,
            "linecolor": "white",
            "showbackground": true,
            "showgrid": true,
            "tickcolor": "rgb(51,51,51)",
            "ticks": "outside",
            "zerolinecolor": "white"
           },
           "yaxis": {
            "backgroundcolor": "rgb(237,237,237)",
            "gridcolor": "white",
            "gridwidth": 2,
            "linecolor": "white",
            "showbackground": true,
            "showgrid": true,
            "tickcolor": "rgb(51,51,51)",
            "ticks": "outside",
            "zerolinecolor": "white"
           },
           "zaxis": {
            "backgroundcolor": "rgb(237,237,237)",
            "gridcolor": "white",
            "gridwidth": 2,
            "linecolor": "white",
            "showbackground": true,
            "showgrid": true,
            "tickcolor": "rgb(51,51,51)",
            "ticks": "outside",
            "zerolinecolor": "white"
           }
          },
          "shapedefaults": {
           "fillcolor": "black",
           "line": {
            "width": 0
           },
           "opacity": 0.3
          },
          "ternary": {
           "aaxis": {
            "gridcolor": "white",
            "linecolor": "white",
            "showgrid": true,
            "tickcolor": "rgb(51,51,51)",
            "ticks": "outside"
           },
           "baxis": {
            "gridcolor": "white",
            "linecolor": "white",
            "showgrid": true,
            "tickcolor": "rgb(51,51,51)",
            "ticks": "outside"
           },
           "bgcolor": "rgb(237,237,237)",
           "caxis": {
            "gridcolor": "white",
            "linecolor": "white",
            "showgrid": true,
            "tickcolor": "rgb(51,51,51)",
            "ticks": "outside"
           }
          },
          "xaxis": {
           "automargin": true,
           "gridcolor": "white",
           "linecolor": "white",
           "showgrid": true,
           "tickcolor": "rgb(51,51,51)",
           "ticks": "outside",
           "title": {
            "standoff": 15
           },
           "zerolinecolor": "white"
          },
          "yaxis": {
           "automargin": true,
           "gridcolor": "white",
           "linecolor": "white",
           "showgrid": true,
           "tickcolor": "rgb(51,51,51)",
           "ticks": "outside",
           "title": {
            "standoff": 15
           },
           "zerolinecolor": "white"
          }
         }
        },
        "title": {
         "text": "Bio+Kmeans_5 - Network_Standard - Network_Reward - TCGA"
        },
        "xaxis": {
         "showgrid": false,
         "visible": false,
         "zeroline": false
        },
        "yaxis": {
         "showgrid": false,
         "visible": false,
         "zeroline": false
        }
       }
      }
     },
     "metadata": {},
     "output_type": "display_data"
    }
   ],
   "source": [
    "comb_all_tfs = pd.concat([comb_tf6.drop(columns=vu_output.columns), comb_tf10, comb_tf50.drop(columns=vu_output.columns)], axis=1)\n",
    "num = 6\n",
    "cluster_model = \"RawKMeans\"\n",
    "reorder_cols = [\n",
    "    \"TCGA408_classifier\",\n",
    "    \"KMeans_labels_6\",\n",
    "    \"{}_CS_{}_norm3_tf{}\".format(cluster_model, num, 10),\n",
    "    \"{}_CS_{}_std_tf{}\".format(cluster_model, num, 10),\n",
    "    # \"RawKMeans_CS_6\",\n",
    "    # \"KMeans_labels_5\",\n",
    "    # \"{}_CS_{}_norm3_tf{}\".format(cluster_model, num, 50),\n",
    "]\n",
    "# for col in reorder_cols:\n",
    "#     comb_all_tfs[col] = comb_all_tfs[col].astype(str)\n",
    "title = \"Bio+Kmeans_5 - Network_Standard - Network_Reward - TCGA\"\n",
    "meta, fig = sky.main(df=comb_all_tfs, reorder_cols=reorder_cols, title=title, retMeta=True)\n",
    "fig.update_layout(height=700)\n",
    "fig.show()"
   ]
  },
  {
   "cell_type": "markdown",
   "metadata": {},
   "source": [
    "## Exploring Community enrichment for Basal 3 splits"
   ]
  },
  {
   "cell_type": "code",
   "execution_count": 37,
   "metadata": {},
   "outputs": [],
   "source": [
    "transform_cols = [\"TCGA408_classifier\", \"consensus\", \"Lund2017.subtype\"]\n",
    "for col in transform_cols:\n",
    "    vu_output[col] = vu_output[col].astype(\"category\")\n",
    "    vu_output[col + \"_num\"] = vu_output[col].cat.codes"
   ]
  },
  {
   "cell_type": "code",
   "execution_count": 38,
   "metadata": {},
   "outputs": [],
   "source": [
    "cluster_model = \"RawKMeans\"\n",
    "num = 6\n",
    "sel_exp = tum.exps[\"norm3_4K_10TF\"]\n",
    "sel_model = \"{}_CS_{}_norm3_tf{}\".format(cluster_model, num, 10)\n",
    "prep_df = comb_tf10.loc[comb_tf10[sel_model].isin([2.0, 5.0, 4.0])]  # select the inf enriched clusters\n",
    "\n",
    "sel_cols = [\"KMeans_labels_6\", sel_model]\n",
    "prep_df = prep_df[sel_cols]\n",
    "prep_df[\"KMeans_labels_6_num\"] = pd.factorize(prep_df[\"KMeans_labels_6\"])[0]\n",
    "prep_df.drop(columns=[\"KMeans_labels_6\"], inplace=True)\n",
    "\n",
    "prep_df = pd.concat(\n",
    "    [\n",
    "        prep_df,\n",
    "        sel_exp.mevsMut,\n",
    "    ],\n",
    "    axis=1,\n",
    ").dropna()\n",
    "\n",
    "\n",
    "mevs_name = \"mevs_{}.tsv\".format(\"Basal3_norm3\")\n",
    "prep_df.transpose().to_csv(\"{}stats/{}\".format(sel_exp.exps_path, mevs_name), sep=\"\\t\", index=True)"
   ]
  },
  {
   "cell_type": "code",
   "execution_count": 39,
   "metadata": {},
   "outputs": [
    {
     "name": "stdout",
     "output_type": "stream",
     "text": [
      "Variation per principal component [0.34426125 0.25185594] and the sum 59.61%\n"
     ]
    }
   ],
   "source": [
    "comb_norm3 = gh.run_clusters(tum.exps[\"norm3_4K_{}TF\".format(tf)], label=\"norm3_tf{}\".format(tf))"
   ]
  },
  {
   "cell_type": "code",
   "execution_count": 40,
   "metadata": {},
   "outputs": [],
   "source": [
    "dmy_df = comb_tf10.loc[comb_tf10[sel_model].isin([2.0, 5.0, 4.0])]  # select the inf enriched clusters\n",
    "dmy_df = pd.concat([dmy_df[sel_model], sel_exp.mevsMut], axis=1).dropna()\n",
    "\n",
    "dmy_df = dmy_df.loc[dmy_df[sel_model] == 2.0][dmy_df.columns[1:]]\n",
    "top_coms = {}\n",
    "num_top = 10\n",
    "cmn_coms = set()\n",
    "for idx, value in dmy_df.iterrows():\n",
    "    cmn_comns = set(value.sort_values(ascending=False)[:num_top].index.values) & set(cmn_coms)"
   ]
  },
  {
   "cell_type": "markdown",
   "metadata": {},
   "source": [
    "### Estimate score"
   ]
  },
  {
   "cell_type": "code",
   "execution_count": 43,
   "metadata": {},
   "outputs": [
    {
     "data": {
      "application/vnd.plotly.v1+json": {
       "config": {
        "plotlyServerURL": "https://plot.ly"
       },
       "data": [
        {
         "hovertemplate": "RawKMeans_CS_6_norm3_tf10=0.0<br>ESTIMATE_score=%{x}<br>IFNG_score=%{y}<br>infiltration_score=%{marker.size}<extra></extra>",
         "legendgroup": "0.0",
         "marker": {
          "color": "#F8766D",
          "size": [
           6,
           3,
           6,
           6,
           3,
           0,
           0,
           6,
           0,
           0,
           6,
           6,
           0,
           0,
           6,
           3,
           6,
           6,
           6,
           0,
           3,
           6,
           6,
           3,
           6,
           6,
           0,
           6,
           6,
           0,
           0,
           3,
           6,
           6,
           0,
           3,
           6,
           6,
           6,
           6,
           6,
           0,
           6,
           0,
           6,
           0,
           6,
           6,
           3,
           3,
           3,
           0,
           6,
           0,
           3,
           0,
           0,
           0,
           0,
           3,
           6,
           0,
           0,
           0,
           0,
           0,
           6,
           6,
           6,
           0,
           3,
           3,
           6,
           0,
           6,
           0,
           3,
           0,
           6,
           0,
           6,
           6,
           6,
           6,
           3,
           3,
           6,
           6,
           0,
           0,
           0,
           3,
           0,
           0,
           3,
           0,
           6,
           3,
           6,
           0,
           3,
           3,
           6,
           6,
           6
          ],
          "sizemode": "area",
          "sizeref": 0.015,
          "symbol": "circle"
         },
         "mode": "markers",
         "name": "0.0",
         "orientation": "v",
         "showlegend": true,
         "type": "scatter",
         "x": [
          642.44,
          -304.12,
          2875.19,
          -640.98,
          -918.43,
          27.98,
          39.37,
          736.73,
          785.16,
          55.25,
          -814.08,
          473.91,
          -902.69,
          -1114.39,
          -267.77,
          738.14,
          -1472.93,
          196.55,
          119.52,
          -230.75,
          234.16,
          -700.95,
          2278.01,
          645.95,
          -1163.3,
          889.37,
          1621.82,
          -291.8,
          -1130.48,
          1259.97,
          -737.63,
          -819.62,
          1201.59,
          -486.36,
          -207.57,
          -400.71,
          385.77,
          -1313.68,
          -424.48,
          -352.6,
          -1002.06,
          1227.07,
          -473.16,
          1046.09,
          725.4,
          -376.12,
          888.7,
          141.86,
          571.39,
          -885.33,
          612.59,
          1113.14,
          1821.04,
          -238.62,
          689.34,
          -1405.34,
          -93.61,
          -1868.89,
          520.2,
          -1257.25,
          -347.26,
          -892.66,
          -360.64,
          -205.54,
          597.56,
          -245.55,
          -663.07,
          1680.22,
          960.84,
          92.67,
          910.67,
          -701.92,
          3063.19,
          507.1,
          -251.96,
          -26.65,
          1092.6,
          1122.15,
          528.6,
          795.87,
          -1514.35,
          -936.91,
          -699.41,
          1575.13,
          -102.56,
          1350.19,
          2556.54,
          1046.39,
          -525.69,
          898.1,
          1129.27,
          -292.78,
          462.32,
          -204.99,
          -204.67,
          411.61,
          1194.19,
          -825.47,
          327.76,
          608.96,
          -815.56,
          -563.11,
          761.56,
          1070.14,
          882.3
         ],
         "xaxis": "x",
         "y": [
          0.8356667895148057,
          0.5307299531193364,
          0.6804914044042714,
          0.6312448562339843,
          0.5977730037955247,
          0.6559711784163559,
          0.6055954445289314,
          0.7048887289188207,
          0.5747493846244954,
          0.6832124263580329,
          0.5573459053245992,
          0.6966191126519213,
          0.4706609784669872,
          0.5747662989366864,
          0.6550775394095553,
          0.6365455874834722,
          0.5437229299761317,
          0.5900086280645084,
          0.7123203084886605,
          0.7120283236998569,
          0.5941511675948331,
          0.5327385829595391,
          0.6904730005541865,
          0.5473645018249622,
          0.4901305614140481,
          0.6496908604713411,
          0.479924321261145,
          0.581013677512791,
          0.4840606205919666,
          0.7015201007667704,
          0.6909493723066186,
          0.643357605502915,
          0.7874451392695516,
          0.7117375337935579,
          0.8221821260556202,
          0.7256160634353969,
          0.5713707641306238,
          0.6004371020928436,
          0.6207051053185728,
          0.6682498731928026,
          0.5041996846974687,
          0.6285614374586039,
          0.5046409452602547,
          0.6670084020014433,
          0.727465462864746,
          0.5269501885395403,
          0.7890793865418594,
          0.53052764383123,
          0.5553169694319753,
          0.4828807554607728,
          0.6374296262650457,
          0.6033214493640585,
          0.7307972657236764,
          0.5105350220088276,
          0.5358817537366436,
          0.5238945190141748,
          0.4926412604728117,
          0.4085567252801533,
          0.5334051797898183,
          0.4698002943172568,
          0.5591951337716725,
          0.5187942251717685,
          0.5786744330790403,
          0.725155345481348,
          0.699798979605692,
          0.5758571068686318,
          0.6550682554339224,
          0.739385931737488,
          0.5924302129932524,
          0.5434559521636667,
          0.8063268845901859,
          0.7309527401053644,
          0.6217530101218254,
          0.5721428162663322,
          0.5155929406217742,
          0.5415651917841121,
          0.6494042793132937,
          0.5272422285125892,
          0.7133467480883738,
          0.5097758367068796,
          0.8169188408061143,
          0.4924567227101453,
          0.5115324084587608,
          0.8113566049412765,
          0.509637106830688,
          0.7221119164399883,
          0.5777351213491867,
          0.5594804729959574,
          0.4244791977870316,
          0.4974287759460018,
          0.5881708898117253,
          0.7755006382222396,
          0.5653878389820884,
          0.4814094380558245,
          0.6585940152486488,
          0.5588768177058563,
          0.550961406691288,
          0.5812310417020697,
          0.8824326425987005,
          0.5341094754743825,
          0.434219429166695,
          0.6568130476333399,
          0.6118848627154233,
          0.605220968950209,
          0.5957713567582756
         ],
         "yaxis": "y"
        },
        {
         "hovertemplate": "RawKMeans_CS_6_norm3_tf10=1.0<br>ESTIMATE_score=%{x}<br>IFNG_score=%{y}<br>infiltration_score=%{marker.size}<extra></extra>",
         "legendgroup": "1.0",
         "marker": {
          "color": "#A3A500",
          "size": [
           0,
           0,
           3,
           0,
           0,
           3,
           3,
           0,
           6,
           6,
           0,
           0,
           0,
           0,
           0,
           0,
           6,
           0,
           6,
           0,
           3,
           6,
           3,
           6,
           0,
           3,
           6,
           3,
           0,
           0,
           3,
           3,
           0,
           0,
           0,
           3,
           0,
           6,
           0,
           0,
           3,
           0,
           6,
           0,
           0,
           3,
           6,
           0,
           0,
           0,
           0,
           0,
           3,
           0,
           6,
           0,
           6,
           0,
           6,
           0,
           0,
           0,
           0,
           6,
           3,
           0,
           0,
           0,
           3,
           0,
           6,
           0,
           3,
           6,
           0,
           6,
           3,
           6,
           0,
           0,
           6,
           6
          ],
          "sizemode": "area",
          "sizeref": 0.015,
          "symbol": "circle"
         },
         "mode": "markers",
         "name": "1.0",
         "orientation": "v",
         "showlegend": true,
         "type": "scatter",
         "x": [
          -2913.43,
          -2360.05,
          -2237.1,
          -1564.53,
          -1737.03,
          -2116.64,
          -2557,
          -2735.56,
          -2852.69,
          -2312.51,
          -1948.32,
          -2678.13,
          -3216.61,
          -2836.24,
          -1677.81,
          -2576.29,
          -1001.84,
          -3280.75,
          -1364.59,
          -2179.8,
          -1319.84,
          -2957.86,
          -2821.67,
          -2027.26,
          -3341,
          -1600.61,
          -2753.13,
          -1589.89,
          -3510.54,
          -3369.43,
          -1521.92,
          -2124.8,
          -2646.48,
          -691.63,
          -1851.5,
          -2547.83,
          -3493.91,
          -3255.78,
          -4107.13,
          -3473.27,
          -3036.09,
          -2159.76,
          -2113.12,
          -2082.99,
          -1894.2,
          -2873.02,
          -3321.87,
          -2724,
          -3054.92,
          -1353.1,
          -923.73,
          -2707.32,
          -3425.03,
          -3453.6,
          -1077.3,
          -2947.33,
          -1707.99,
          -2665.16,
          -2748.51,
          -3048.51,
          -2740.52,
          -1125.47,
          -2429.61,
          -2350.46,
          -1858.28,
          -2377.01,
          -2713.43,
          -3540.55,
          -2068.96,
          -919.87,
          -2443.21,
          -1191.55,
          -1458.25,
          -1974.4,
          -3702.02,
          -1515.88,
          -2059.87,
          -2805.4,
          -3566.38,
          -3812.66,
          -2578.1,
          -3286.96
         ],
         "xaxis": "x",
         "y": [
          0.3410532044723,
          0.3590213544794239,
          0.5163305317086342,
          0.3908914698592616,
          0.4391541936392735,
          0.4496905021702576,
          0.3104798097736513,
          0.4095193762513461,
          0.5635452575552534,
          0.4306430430872134,
          0.3430320189575666,
          0.4493942499701879,
          0.2803006950923723,
          0.4505279258804915,
          0.4245335573579298,
          0.566209785509244,
          0.8121621584615683,
          0.434517348715262,
          0.5034637312748033,
          0.4349008445411715,
          0.7382737885317167,
          0.3646586164298832,
          0.5340413438228339,
          0.5141334129773134,
          0.3447455601804137,
          0.6820532868372159,
          0.4949475181864148,
          0.6184967267855427,
          0.2948165426936083,
          0.4542438302769593,
          0.5746520111988567,
          0.667865515792567,
          0.4791337407741468,
          0.5868222966587616,
          0.3679133340667845,
          0.6263289257878477,
          0.3433216273867831,
          0.3484836139542223,
          0.4613529858079734,
          0.3572895038824701,
          0.5053130775548914,
          0.408623210775986,
          0.5899089911757958,
          0.5401445321985254,
          0.450812637895471,
          0.5620598386518592,
          0.4012561945592737,
          0.3937637237383274,
          0.3485185154698155,
          0.7681911559751957,
          0.5100723293033907,
          0.3583923237521379,
          0.5311957156947952,
          0.4709609688978811,
          0.6228511196803596,
          0.4055134623982254,
          0.6209785699892065,
          0.5764480829322525,
          0.4264171023001745,
          0.4072751340381326,
          0.4950190646095408,
          0.4505420923434634,
          0.3916331427728336,
          0.5207410073289241,
          0.4815708484309377,
          0.4031877760088616,
          0.3995987444783308,
          0.3595884511902953,
          0.4647096300917166,
          0.4690250134962451,
          0.6704856968607593,
          0.4339354218440182,
          0.4045990857839019,
          0.4585651252340328,
          0.3496778097616432,
          0.6296779991170397,
          0.6422428812921859,
          0.5073115039873144,
          0.3771762583302575,
          0.4163435319730257,
          0.5098758889660633,
          0.5536403063096956
         ],
         "yaxis": "y"
        },
        {
         "hovertemplate": "RawKMeans_CS_6_norm3_tf10=2.0<br>ESTIMATE_score=%{x}<br>IFNG_score=%{y}<br>infiltration_score=%{marker.size}<extra></extra>",
         "legendgroup": "2.0",
         "marker": {
          "color": "#00BF7D",
          "size": [
           3,
           3,
           0,
           0,
           0,
           6,
           6,
           6,
           6,
           6,
           6,
           6,
           6,
           6,
           6,
           6,
           6,
           6,
           6,
           6,
           6,
           6,
           6,
           0,
           6,
           6,
           3,
           6,
           6,
           0,
           3,
           0,
           3,
           3,
           0,
           6,
           3,
           6,
           6,
           0,
           0,
           3,
           6,
           3,
           6,
           3,
           3,
           6,
           0,
           6,
           3,
           6,
           6,
           0,
           6,
           3,
           6,
           0,
           3,
           6,
           6,
           6,
           6,
           0,
           0,
           6,
           0,
           6,
           6,
           6,
           3,
           6,
           3,
           6,
           3,
           6
          ],
          "sizemode": "area",
          "sizeref": 0.015,
          "symbol": "circle"
         },
         "mode": "markers",
         "name": "2.0",
         "orientation": "v",
         "showlegend": true,
         "type": "scatter",
         "x": [
          563.82,
          -451.92,
          1815.97,
          1506.09,
          837.61,
          3765.53,
          -159.8,
          621.31,
          543.41,
          1293.15,
          1191.05,
          3507.18,
          3200.7,
          894.47,
          868.25,
          3624.96,
          878.41,
          2283.12,
          430.45,
          1171.64,
          2031.74,
          815.17,
          820.32,
          2929.81,
          3838.1,
          860.54,
          2996.92,
          243.16,
          1159.13,
          2064.73,
          1163.67,
          134.66,
          1795.01,
          1270.75,
          349.79,
          142.91,
          -306.6,
          413.94,
          840.79,
          690.89,
          -1150.65,
          2298.04,
          986.22,
          2140.49,
          3595.88,
          -827.51,
          -200.16,
          2927.13,
          2891.52,
          455.79,
          1831,
          1496.61,
          2015.69,
          440.33,
          298.64,
          3008.56,
          2531.96,
          2069.78,
          2075.19,
          814.92,
          -646.84,
          1555.96,
          1742.34,
          3417.98,
          1242.17,
          -173.57,
          -599.88,
          3100.61,
          145.1,
          906.22,
          492.84,
          1693.85,
          2153.01,
          149.89,
          2641.16,
          389.46
         ],
         "xaxis": "x",
         "y": [
          0.7529569699841648,
          0.6692163744321147,
          0.8420451946929088,
          0.5559448345690359,
          0.6674424386687265,
          0.8860106003014668,
          0.7808718885640398,
          0.6842147546890688,
          0.7734254767961242,
          0.8271142890822345,
          0.6246576619625164,
          0.9409121982579433,
          0.9101784106955444,
          0.8586017409419706,
          0.758827195003504,
          0.7170092789280447,
          0.6913197497570357,
          0.710750794982437,
          0.9937585166615548,
          0.9373878553644428,
          0.8418471336073203,
          0.79313050898885,
          0.8261511524470635,
          0.7759328028538929,
          0.9144298867027016,
          0.7089905267734031,
          0.7676869424352046,
          0.7140988023603608,
          0.6621808376997771,
          0.7154534394068036,
          0.7298455352407641,
          0.5507319113888505,
          0.8463775911792373,
          0.867232030335029,
          0.8611736204780966,
          0.7705462335680572,
          0.8310637469059148,
          0.7872707866255994,
          0.8243049523245584,
          0.6117988135396051,
          0.5730155999817944,
          0.8923144724751327,
          0.6611230586045881,
          1,
          0.7563923534298277,
          0.6990621329996444,
          0.7547133108660249,
          0.9285896986813404,
          0.8570850226684169,
          0.7567020075270149,
          0.8775743752624917,
          0.8162727701979745,
          0.8589466572722498,
          0.936231315067599,
          0.78078166063014,
          0.8467156627098368,
          0.8907169070901182,
          0.5970082861817422,
          0.908119339064662,
          0.7809375338594994,
          0.7523461198482689,
          0.820387917527681,
          0.8190017699574125,
          0.6473588625317778,
          0.6383972948496177,
          0.6989331141026028,
          0.8607094604625801,
          0.7786153867613747,
          0.7835774341586741,
          0.7947534168296123,
          0.7619438941045741,
          0.7496435740703894,
          0.7041682438690355,
          0.643593514725599,
          0.912187356739562,
          0.8223495397242113
         ],
         "yaxis": "y"
        },
        {
         "hovertemplate": "RawKMeans_CS_6_norm3_tf10=5.0<br>ESTIMATE_score=%{x}<br>IFNG_score=%{y}<br>infiltration_score=%{marker.size}<extra></extra>",
         "legendgroup": "5.0",
         "marker": {
          "color": "#00B0F6",
          "size": [
           6,
           6,
           6,
           3,
           3,
           6,
           6,
           6,
           6,
           6,
           3,
           6,
           6,
           6,
           6,
           0,
           6,
           6,
           0,
           6,
           3,
           0,
           6,
           6,
           6,
           0,
           0
          ],
          "sizemode": "area",
          "sizeref": 0.015,
          "symbol": "circle"
         },
         "mode": "markers",
         "name": "5.0",
         "orientation": "v",
         "showlegend": true,
         "type": "scatter",
         "x": [
          1953.52,
          1145.87,
          1304.34,
          1559.54,
          3369.06,
          -262.91,
          2578.13,
          2841.1,
          4704.79,
          3530.61,
          2094.25,
          1842.11,
          4054.76,
          -1935.64,
          1039.36,
          1669.58,
          1623.33,
          632.57,
          -1634.11,
          323.43,
          -560.12,
          1655.58,
          900.39,
          620.25,
          2207.35,
          -2218.74,
          3963.21
         ],
         "xaxis": "x",
         "y": [
          0.8307417432968752,
          0.6740841312081904,
          0.5658650459768694,
          0.5694496452120212,
          0.8140287264988846,
          0.5011058933490729,
          0.5985565417449942,
          0.5929694537266121,
          0.7418390873123639,
          0.7411831073157,
          0.5710395954419052,
          0.8561360475581896,
          0.8999474859274328,
          0.4062907286655773,
          0.6060114244974352,
          0.5874751152107345,
          0.7245335021755236,
          0.6069281317529057,
          0.4129957709364896,
          0.5975159919786779,
          0.4781701720422427,
          0.5959575650302508,
          0.709398710241898,
          0.5117956928939064,
          0.7661656279640469,
          0.3916478046470567,
          0.5944516937840009
         ],
         "yaxis": "y"
        },
        {
         "hovertemplate": "RawKMeans_CS_6_norm3_tf10=4.0<br>ESTIMATE_score=%{x}<br>IFNG_score=%{y}<br>infiltration_score=%{marker.size}<extra></extra>",
         "legendgroup": "4.0",
         "marker": {
          "color": "#E76BF3",
          "size": [
           6,
           3,
           3,
           0,
           6,
           0,
           6,
           6,
           0,
           3,
           6,
           3,
           3,
           0,
           6,
           6,
           6,
           0,
           0,
           6,
           0,
           6,
           0,
           0,
           0,
           0,
           0,
           0,
           6,
           3,
           3,
           0,
           0,
           6,
           3,
           3,
           3,
           0,
           3,
           6,
           0,
           3,
           0,
           0,
           6,
           0,
           0,
           3,
           6,
           0,
           6,
           6,
           6
          ],
          "sizemode": "area",
          "sizeref": 0.015,
          "symbol": "circle"
         },
         "mode": "markers",
         "name": "4.0",
         "orientation": "v",
         "showlegend": true,
         "type": "scatter",
         "x": [
          -1106.78,
          -1953.52,
          -1365.01,
          -1204.59,
          -314.79,
          -743.98,
          -1862.68,
          -482.1,
          -3427.74,
          -1046.8,
          -3089.86,
          -155.83,
          -708.39,
          -1974.59,
          -610.42,
          131.49,
          -1123.07,
          -482.76,
          -2228.11,
          -1725.66,
          -2897.13,
          -1119.84,
          -1382.54,
          -1711.95,
          -1590.36,
          -1172.62,
          -1326.03,
          -736.28,
          -1932.81,
          -464.23,
          -472.77,
          -1484,
          -2152.55,
          -1750.31,
          -2456.19,
          -1622.76,
          -2364.08,
          -1031.36,
          -1318.42,
          -651.6,
          -1329.86,
          27.56,
          -2934.61,
          -2833.32,
          -869.71,
          -1615.86,
          -684.79,
          -1795.13,
          -2240.9,
          -784.59,
          -599.95,
          -301.04,
          -2003.6
         ],
         "xaxis": "x",
         "y": [
          0.8270827049509392,
          0.4565454228094328,
          0.6379214564189437,
          0.3616875149296617,
          0.5758570134996862,
          0.5925224017661926,
          0.6496123116457434,
          0.5964118788142311,
          0.409528334900275,
          0.5742368902927494,
          0.3964606670902079,
          0.5463722475688859,
          0.563701943203845,
          0.4117372896584777,
          0.5927322080371835,
          0.5562250883780411,
          0.6129220262863854,
          0.4225740286472517,
          0.52552162077395,
          0.5084070393214527,
          0.4294921611777919,
          0.7320781232954711,
          0.6902676723822992,
          0.6912190004442839,
          0.5054465608815203,
          0.7077665761574625,
          0.7223488197853608,
          0.6437767964931888,
          0.4897671447549124,
          0.6199190613379953,
          0.5741798021326873,
          0.7710764988010977,
          0.5250001544895738,
          0.5557094798630791,
          0.4625318693537879,
          0.6208441954612042,
          0.6206201830465485,
          0.4821060526697817,
          0.6915157521109109,
          0.4985439657868199,
          0.7690525096542975,
          0.4302075797525715,
          0.4624884606692402,
          0.3086678503587571,
          0.4321858439942103,
          0.6100624732845767,
          0.552810785080783,
          0.4410115388700819,
          0.4985608783470641,
          0.6433960114009466,
          0.6240377414481673,
          0.6497961959792165,
          0.6104113978022653
         ],
         "yaxis": "y"
        },
        {
         "hovertemplate": "RawKMeans_CS_6_norm3_tf10=3.0<br>ESTIMATE_score=%{x}<br>IFNG_score=%{y}<br>infiltration_score=%{marker.size}<extra></extra>",
         "legendgroup": "3.0",
         "marker": {
          "color": "#F8766D",
          "size": [
           6,
           0,
           0,
           0,
           0,
           0,
           3,
           0,
           0,
           0,
           0,
           0,
           0,
           0,
           3,
           6,
           0,
           0,
           6,
           0,
           0,
           0,
           6,
           6,
           0,
           0,
           0,
           0,
           6,
           0,
           0,
           0,
           6,
           3,
           0,
           6,
           0,
           0,
           3,
           3,
           3,
           3,
           0,
           6,
           0,
           0,
           0,
           3,
           0,
           0,
           0,
           0,
           0,
           3,
           6,
           0,
           3,
           0,
           0,
           0,
           6
          ],
          "sizemode": "area",
          "sizeref": 0.015,
          "symbol": "circle"
         },
         "mode": "markers",
         "name": "3.0",
         "orientation": "v",
         "showlegend": true,
         "type": "scatter",
         "x": [
          -812.89,
          -2827.05,
          -2456.82,
          -3014.69,
          -2143.36,
          -2676.01,
          -1329.46,
          -1823.54,
          -2329.44,
          -976.23,
          -2670.27,
          -2823.71,
          -2518.99,
          -2742.46,
          -2519.17,
          -1053.77,
          -2641.92,
          -2332.64,
          -890.02,
          -2628.89,
          -960.47,
          -1947.45,
          -1636.37,
          -1864.51,
          -1951.75,
          -2250.65,
          -2029.1,
          -2668.01,
          -2130.16,
          -3255.15,
          -3517.77,
          -1980.27,
          -2381.19,
          -2505.4,
          -2321.7,
          -2660.28,
          -2289.35,
          -2823.15,
          -2175.44,
          -2048.26,
          -2131.74,
          -2604.71,
          -1164.38,
          -1027.09,
          -2560.02,
          -4398.47,
          -2361.55,
          -3014.77,
          -1142.18,
          -1662.82,
          -1439.45,
          -464.38,
          -2671.07,
          -1418.88,
          -296.42,
          -2149.19,
          -1042.44,
          -2119.92,
          -2372.91,
          -3049.97,
          -2260.74
         ],
         "xaxis": "x",
         "y": [
          0.4896092260667402,
          0.5128346308457253,
          0.4540162781734893,
          0.4040973998660289,
          0.3411599484238583,
          0.3512860254953254,
          0.3732122390028517,
          0.5418672906044047,
          0.2546995576389325,
          0.5631327824526604,
          0.3332298113993638,
          0.4040349025229644,
          0.3620949891140319,
          0.3664259433876938,
          0.3454713948215854,
          0.394883905474584,
          0.3884189403492014,
          0.3004174530382238,
          0.4619907625008532,
          0.6860073936274736,
          0.4101028946876275,
          0.5195986110241698,
          0.5108184006713817,
          0.3951819224282202,
          0.4619179697500258,
          0.4788073943154538,
          0.4104764546110974,
          0.4065848254825273,
          0.5217490697762388,
          0.3457720000175299,
          0.3332453744505616,
          0.3850318259657228,
          0.2823501874913715,
          0.4189882669929897,
          0.418223189070928,
          0.4638480825190554,
          0.3978611845117887,
          0.3726657059724859,
          0.3745411513041661,
          0.3788216893428384,
          0.6249259260181842,
          0.3623191959956371,
          0.4455728784501641,
          0.4463319397155766,
          0.3238907930191345,
          0.2154196406272209,
          0.4255299963088675,
          0.333605915738681,
          0.3586694476518774,
          0.3955862139136495,
          0.4643685292960606,
          0.4647385698258432,
          0.2949775640769845,
          0.415460593572316,
          0.4737241252591898,
          0.4950362552753591,
          0.4664654382193158,
          0.3815810047284473,
          0.5160246577527692,
          0.4595072497348512,
          0.4737478419093307
         ],
         "yaxis": "y"
        }
       ],
       "layout": {
        "height": 500,
        "legend": {
         "bgcolor": "rgba(0,0,0,0)",
         "itemsizing": "constant",
         "orientation": "v",
         "title": {
          "text": "Network_KMeans6"
         },
         "tracegroupgap": 0,
         "xanchor": "right",
         "yanchor": "middle"
        },
        "template": {
         "data": {
          "bar": [
           {
            "error_x": {
             "color": "rgb(51,51,51)"
            },
            "error_y": {
             "color": "rgb(51,51,51)"
            },
            "marker": {
             "line": {
              "color": "rgb(237,237,237)",
              "width": 0.5
             },
             "pattern": {
              "fillmode": "overlay",
              "size": 10,
              "solidity": 0.2
             }
            },
            "type": "bar"
           }
          ],
          "barpolar": [
           {
            "marker": {
             "line": {
              "color": "rgb(237,237,237)",
              "width": 0.5
             },
             "pattern": {
              "fillmode": "overlay",
              "size": 10,
              "solidity": 0.2
             }
            },
            "type": "barpolar"
           }
          ],
          "carpet": [
           {
            "aaxis": {
             "endlinecolor": "rgb(51,51,51)",
             "gridcolor": "white",
             "linecolor": "white",
             "minorgridcolor": "white",
             "startlinecolor": "rgb(51,51,51)"
            },
            "baxis": {
             "endlinecolor": "rgb(51,51,51)",
             "gridcolor": "white",
             "linecolor": "white",
             "minorgridcolor": "white",
             "startlinecolor": "rgb(51,51,51)"
            },
            "type": "carpet"
           }
          ],
          "choropleth": [
           {
            "colorbar": {
             "outlinewidth": 0,
             "tickcolor": "rgb(237,237,237)",
             "ticklen": 6,
             "ticks": "inside"
            },
            "type": "choropleth"
           }
          ],
          "contour": [
           {
            "colorbar": {
             "outlinewidth": 0,
             "tickcolor": "rgb(237,237,237)",
             "ticklen": 6,
             "ticks": "inside"
            },
            "colorscale": [
             [
              0,
              "rgb(20,44,66)"
             ],
             [
              1,
              "rgb(90,179,244)"
             ]
            ],
            "type": "contour"
           }
          ],
          "contourcarpet": [
           {
            "colorbar": {
             "outlinewidth": 0,
             "tickcolor": "rgb(237,237,237)",
             "ticklen": 6,
             "ticks": "inside"
            },
            "type": "contourcarpet"
           }
          ],
          "heatmap": [
           {
            "colorbar": {
             "outlinewidth": 0,
             "tickcolor": "rgb(237,237,237)",
             "ticklen": 6,
             "ticks": "inside"
            },
            "colorscale": [
             [
              0,
              "rgb(20,44,66)"
             ],
             [
              1,
              "rgb(90,179,244)"
             ]
            ],
            "type": "heatmap"
           }
          ],
          "heatmapgl": [
           {
            "colorbar": {
             "outlinewidth": 0,
             "tickcolor": "rgb(237,237,237)",
             "ticklen": 6,
             "ticks": "inside"
            },
            "colorscale": [
             [
              0,
              "rgb(20,44,66)"
             ],
             [
              1,
              "rgb(90,179,244)"
             ]
            ],
            "type": "heatmapgl"
           }
          ],
          "histogram": [
           {
            "marker": {
             "pattern": {
              "fillmode": "overlay",
              "size": 10,
              "solidity": 0.2
             }
            },
            "type": "histogram"
           }
          ],
          "histogram2d": [
           {
            "colorbar": {
             "outlinewidth": 0,
             "tickcolor": "rgb(237,237,237)",
             "ticklen": 6,
             "ticks": "inside"
            },
            "colorscale": [
             [
              0,
              "rgb(20,44,66)"
             ],
             [
              1,
              "rgb(90,179,244)"
             ]
            ],
            "type": "histogram2d"
           }
          ],
          "histogram2dcontour": [
           {
            "colorbar": {
             "outlinewidth": 0,
             "tickcolor": "rgb(237,237,237)",
             "ticklen": 6,
             "ticks": "inside"
            },
            "colorscale": [
             [
              0,
              "rgb(20,44,66)"
             ],
             [
              1,
              "rgb(90,179,244)"
             ]
            ],
            "type": "histogram2dcontour"
           }
          ],
          "mesh3d": [
           {
            "colorbar": {
             "outlinewidth": 0,
             "tickcolor": "rgb(237,237,237)",
             "ticklen": 6,
             "ticks": "inside"
            },
            "type": "mesh3d"
           }
          ],
          "parcoords": [
           {
            "line": {
             "colorbar": {
              "outlinewidth": 0,
              "tickcolor": "rgb(237,237,237)",
              "ticklen": 6,
              "ticks": "inside"
             }
            },
            "type": "parcoords"
           }
          ],
          "pie": [
           {
            "automargin": true,
            "type": "pie"
           }
          ],
          "scatter": [
           {
            "fillpattern": {
             "fillmode": "overlay",
             "size": 10,
             "solidity": 0.2
            },
            "type": "scatter"
           }
          ],
          "scatter3d": [
           {
            "line": {
             "colorbar": {
              "outlinewidth": 0,
              "tickcolor": "rgb(237,237,237)",
              "ticklen": 6,
              "ticks": "inside"
             }
            },
            "marker": {
             "colorbar": {
              "outlinewidth": 0,
              "tickcolor": "rgb(237,237,237)",
              "ticklen": 6,
              "ticks": "inside"
             }
            },
            "type": "scatter3d"
           }
          ],
          "scattercarpet": [
           {
            "marker": {
             "colorbar": {
              "outlinewidth": 0,
              "tickcolor": "rgb(237,237,237)",
              "ticklen": 6,
              "ticks": "inside"
             }
            },
            "type": "scattercarpet"
           }
          ],
          "scattergeo": [
           {
            "marker": {
             "colorbar": {
              "outlinewidth": 0,
              "tickcolor": "rgb(237,237,237)",
              "ticklen": 6,
              "ticks": "inside"
             }
            },
            "type": "scattergeo"
           }
          ],
          "scattergl": [
           {
            "marker": {
             "colorbar": {
              "outlinewidth": 0,
              "tickcolor": "rgb(237,237,237)",
              "ticklen": 6,
              "ticks": "inside"
             }
            },
            "type": "scattergl"
           }
          ],
          "scattermapbox": [
           {
            "marker": {
             "colorbar": {
              "outlinewidth": 0,
              "tickcolor": "rgb(237,237,237)",
              "ticklen": 6,
              "ticks": "inside"
             }
            },
            "type": "scattermapbox"
           }
          ],
          "scatterpolar": [
           {
            "marker": {
             "colorbar": {
              "outlinewidth": 0,
              "tickcolor": "rgb(237,237,237)",
              "ticklen": 6,
              "ticks": "inside"
             }
            },
            "type": "scatterpolar"
           }
          ],
          "scatterpolargl": [
           {
            "marker": {
             "colorbar": {
              "outlinewidth": 0,
              "tickcolor": "rgb(237,237,237)",
              "ticklen": 6,
              "ticks": "inside"
             }
            },
            "type": "scatterpolargl"
           }
          ],
          "scatterternary": [
           {
            "marker": {
             "colorbar": {
              "outlinewidth": 0,
              "tickcolor": "rgb(237,237,237)",
              "ticklen": 6,
              "ticks": "inside"
             }
            },
            "type": "scatterternary"
           }
          ],
          "surface": [
           {
            "colorbar": {
             "outlinewidth": 0,
             "tickcolor": "rgb(237,237,237)",
             "ticklen": 6,
             "ticks": "inside"
            },
            "colorscale": [
             [
              0,
              "rgb(20,44,66)"
             ],
             [
              1,
              "rgb(90,179,244)"
             ]
            ],
            "type": "surface"
           }
          ],
          "table": [
           {
            "cells": {
             "fill": {
              "color": "rgb(237,237,237)"
             },
             "line": {
              "color": "white"
             }
            },
            "header": {
             "fill": {
              "color": "rgb(217,217,217)"
             },
             "line": {
              "color": "white"
             }
            },
            "type": "table"
           }
          ]
         },
         "layout": {
          "annotationdefaults": {
           "arrowhead": 0,
           "arrowwidth": 1
          },
          "autotypenumbers": "strict",
          "coloraxis": {
           "colorbar": {
            "outlinewidth": 0,
            "tickcolor": "rgb(237,237,237)",
            "ticklen": 6,
            "ticks": "inside"
           }
          },
          "colorscale": {
           "sequential": [
            [
             0,
             "rgb(20,44,66)"
            ],
            [
             1,
             "rgb(90,179,244)"
            ]
           ],
           "sequentialminus": [
            [
             0,
             "rgb(20,44,66)"
            ],
            [
             1,
             "rgb(90,179,244)"
            ]
           ]
          },
          "colorway": [
           "#F8766D",
           "#A3A500",
           "#00BF7D",
           "#00B0F6",
           "#E76BF3"
          ],
          "font": {
           "color": "rgb(51,51,51)"
          },
          "geo": {
           "bgcolor": "white",
           "lakecolor": "white",
           "landcolor": "rgb(237,237,237)",
           "showlakes": true,
           "showland": true,
           "subunitcolor": "white"
          },
          "hoverlabel": {
           "align": "left"
          },
          "hovermode": "closest",
          "paper_bgcolor": "white",
          "plot_bgcolor": "rgb(237,237,237)",
          "polar": {
           "angularaxis": {
            "gridcolor": "white",
            "linecolor": "white",
            "showgrid": true,
            "tickcolor": "rgb(51,51,51)",
            "ticks": "outside"
           },
           "bgcolor": "rgb(237,237,237)",
           "radialaxis": {
            "gridcolor": "white",
            "linecolor": "white",
            "showgrid": true,
            "tickcolor": "rgb(51,51,51)",
            "ticks": "outside"
           }
          },
          "scene": {
           "xaxis": {
            "backgroundcolor": "rgb(237,237,237)",
            "gridcolor": "white",
            "gridwidth": 2,
            "linecolor": "white",
            "showbackground": true,
            "showgrid": true,
            "tickcolor": "rgb(51,51,51)",
            "ticks": "outside",
            "zerolinecolor": "white"
           },
           "yaxis": {
            "backgroundcolor": "rgb(237,237,237)",
            "gridcolor": "white",
            "gridwidth": 2,
            "linecolor": "white",
            "showbackground": true,
            "showgrid": true,
            "tickcolor": "rgb(51,51,51)",
            "ticks": "outside",
            "zerolinecolor": "white"
           },
           "zaxis": {
            "backgroundcolor": "rgb(237,237,237)",
            "gridcolor": "white",
            "gridwidth": 2,
            "linecolor": "white",
            "showbackground": true,
            "showgrid": true,
            "tickcolor": "rgb(51,51,51)",
            "ticks": "outside",
            "zerolinecolor": "white"
           }
          },
          "shapedefaults": {
           "fillcolor": "black",
           "line": {
            "width": 0
           },
           "opacity": 0.3
          },
          "ternary": {
           "aaxis": {
            "gridcolor": "white",
            "linecolor": "white",
            "showgrid": true,
            "tickcolor": "rgb(51,51,51)",
            "ticks": "outside"
           },
           "baxis": {
            "gridcolor": "white",
            "linecolor": "white",
            "showgrid": true,
            "tickcolor": "rgb(51,51,51)",
            "ticks": "outside"
           },
           "bgcolor": "rgb(237,237,237)",
           "caxis": {
            "gridcolor": "white",
            "linecolor": "white",
            "showgrid": true,
            "tickcolor": "rgb(51,51,51)",
            "ticks": "outside"
           }
          },
          "xaxis": {
           "automargin": true,
           "gridcolor": "white",
           "linecolor": "white",
           "showgrid": true,
           "tickcolor": "rgb(51,51,51)",
           "ticks": "outside",
           "title": {
            "standoff": 15
           },
           "zerolinecolor": "white"
          },
          "yaxis": {
           "automargin": true,
           "gridcolor": "white",
           "linecolor": "white",
           "showgrid": true,
           "tickcolor": "rgb(51,51,51)",
           "ticks": "outside",
           "title": {
            "standoff": 15
           },
           "zerolinecolor": "white"
          }
         }
        },
        "title": {
         "text": "Classification by RawKMeans_CS_6_norm3_tf10. IFNG vs infiltration score; Colouring by Estimate score"
        },
        "xaxis": {
         "anchor": "y",
         "domain": [
          0,
          1
         ],
         "title": {
          "text": "ESTIMATE_score"
         }
        },
        "yaxis": {
         "anchor": "x",
         "domain": [
          0,
          1
         ],
         "title": {
          "text": "IFNG_score"
         }
        }
       }
      }
     },
     "metadata": {},
     "output_type": "display_data"
    }
   ],
   "source": [
    "cluster = \"{}_CS_{}_norm3_tf{}\".format(cluster_model, num, 10)\n",
    "comb_all_tfs[cluster] = comb_all_tfs[cluster].astype(str)\n",
    "# comb_all_tfs.loc[((comb_all_tfs[\"KMeans_labels_6\"] == \"High IFNG\") & (comb_all_tfs[cluster] == \"2.0\")), cluster ]  = \"inf\"\n",
    "fig1 = cs.plot_meta_scores(comb_all_tfs, y_axis=\"IFNG_score\", classification=cluster, size=\"infiltration_score\")\n",
    "\n",
    "fig1.update_layout(\n",
    "    legend=dict(\n",
    "        orientation=\"v\",\n",
    "        title=\"Network_KMeans6\",\n",
    "        yanchor=\"middle\",\n",
    "        # y=0.74,\n",
    "        xanchor=\"right\",\n",
    "        # x=0.13,\n",
    "        bgcolor=\"rgba(0,0,0,0)\",\n",
    "    ),\n",
    "    height=500,\n",
    ")\n",
    "# meta, fig = sky.main(df=comb_all_tfs, reorder_cols=reorder_cols, title=title, retMeta=True)\n",
    "# fig.show()\n",
    "# fig1.show()"
   ]
  },
  {
   "cell_type": "markdown",
   "metadata": {},
   "source": [
    "# Comparing between experiments\n",
    "\n",
    "Curious to see what's the difference between the 2 modifiers. If Beta is better at separating the communities.\n",
    "\n",
    "Note: I couldn't see too much of a change when beta is applied. In fact, it feels that beta is very similar to the norm3 modifier"
   ]
  },
  {
   "cell_type": "code",
   "execution_count": 46,
   "metadata": {},
   "outputs": [
    {
     "data": {
      "application/vnd.plotly.v1+json": {
       "config": {
        "plotlyServerURL": "https://plot.ly"
       },
       "data": [
        {
         "arrangement": "perpendicular",
         "link": {
          "color": "#bdbdbd",
          "source": [
           0,
           0,
           0,
           0,
           0,
           0,
           1,
           1,
           1,
           1,
           1,
           1,
           1,
           2,
           2,
           3,
           3,
           3,
           3,
           3,
           3,
           3,
           3,
           4,
           4,
           4,
           4,
           4,
           4,
           4,
           5,
           5,
           5,
           5,
           5,
           5,
           6,
           6,
           6,
           6,
           6,
           6,
           6,
           6,
           7,
           7,
           7,
           7,
           7,
           7,
           7,
           7,
           8,
           8,
           9,
           9,
           9,
           9,
           9,
           9,
           9,
           9,
           10,
           10,
           10,
           10,
           11,
           11,
           11,
           11,
           11,
           11,
           11,
           11,
           11,
           12,
           12,
           13,
           13,
           14,
           14,
           14,
           15,
           15,
           16,
           17,
           17,
           18,
           19,
           20,
           21,
           22,
           22,
           22,
           22,
           22,
           22,
           22,
           22,
           23,
           23,
           23,
           23,
           23,
           23,
           23,
           23,
           23,
           23,
           24,
           24,
           24,
           24,
           24,
           24,
           24,
           24,
           24,
           24,
           25,
           25,
           25,
           25,
           25,
           25,
           25,
           25,
           25,
           25,
           25,
           25,
           26,
           26,
           26,
           26,
           26,
           26,
           26,
           26,
           26,
           27,
           27,
           27,
           27,
           27,
           27,
           27,
           28,
           28,
           28,
           28,
           28,
           28,
           28,
           28,
           29,
           29,
           29,
           29,
           29,
           30,
           30,
           30,
           30,
           30,
           31,
           31,
           31,
           31,
           31,
           31,
           31,
           32,
           32,
           32,
           32,
           32,
           32,
           32,
           32,
           33,
           33,
           33,
           34,
           34,
           35,
           36,
           37,
           37,
           37,
           38,
           38,
           38,
           39,
           39,
           40,
           40,
           40,
           40,
           41,
           42,
           42,
           43,
           44,
           44,
           44,
           44,
           44,
           44,
           44,
           44,
           44
          ],
          "target": [
           23,
           24,
           25,
           28,
           39,
           44,
           23,
           24,
           25,
           26,
           28,
           33,
           44,
           22,
           32,
           23,
           24,
           25,
           28,
           30,
           31,
           41,
           44,
           22,
           24,
           26,
           27,
           28,
           29,
           32,
           23,
           24,
           26,
           27,
           28,
           31,
           24,
           25,
           26,
           27,
           28,
           30,
           32,
           33,
           22,
           23,
           24,
           28,
           31,
           32,
           40,
           44,
           22,
           29,
           23,
           24,
           25,
           28,
           32,
           41,
           43,
           44,
           25,
           26,
           30,
           38,
           23,
           24,
           25,
           27,
           28,
           29,
           31,
           36,
           44,
           23,
           31,
           25,
           33,
           23,
           30,
           32,
           28,
           34,
           35,
           27,
           37,
           38,
           39,
           42,
           44,
           45,
           49,
           51,
           52,
           53,
           54,
           56,
           63,
           45,
           46,
           47,
           48,
           49,
           50,
           51,
           56,
           58,
           61,
           45,
           46,
           47,
           48,
           50,
           51,
           52,
           53,
           57,
           59,
           45,
           46,
           47,
           48,
           49,
           50,
           51,
           52,
           53,
           55,
           57,
           59,
           45,
           47,
           49,
           50,
           51,
           52,
           53,
           55,
           59,
           45,
           47,
           48,
           51,
           52,
           53,
           59,
           45,
           46,
           47,
           48,
           49,
           51,
           53,
           58,
           45,
           48,
           49,
           51,
           54,
           45,
           48,
           50,
           51,
           55,
           45,
           48,
           49,
           52,
           56,
           63,
           67,
           45,
           49,
           50,
           51,
           53,
           54,
           55,
           63,
           45,
           47,
           57,
           47,
           64,
           60,
           58,
           45,
           51,
           52,
           54,
           55,
           62,
           46,
           61,
           48,
           52,
           53,
           59,
           56,
           45,
           66,
           65,
           45,
           46,
           47,
           48,
           50,
           53,
           56,
           63,
           68
          ],
          "value": [
           2,
           2,
           38,
           13,
           1,
           514,
           11,
           437,
           15,
           5,
           26,
           3,
           1,
           462,
           10,
           407,
           2,
           2,
           1,
           1,
           15,
           1,
           1,
           9,
           1,
           293,
           2,
           5,
           5,
           2,
           1,
           1,
           11,
           288,
           1,
           2,
           7,
           214,
           31,
           3,
           1,
           1,
           2,
           1,
           3,
           1,
           1,
           208,
           1,
           1,
           15,
           8,
           4,
           206,
           6,
           2,
           132,
           6,
           1,
           11,
           7,
           6,
           3,
           8,
           120,
           1,
           37,
           1,
           1,
           3,
           1,
           3,
           1,
           26,
           1,
           1,
           73,
           1,
           62,
           1,
           1,
           53,
           2,
           31,
           31,
           1,
           20,
           19,
           16,
           8,
           4,
           1,
           451,
           13,
           2,
           3,
           4,
           1,
           3,
           4,
           3,
           4,
           424,
           1,
           6,
           1,
           19,
           2,
           3,
           2,
           1,
           395,
           4,
           8,
           1,
           7,
           34,
           1,
           1,
           3,
           28,
           11,
           2,
           1,
           354,
           1,
           1,
           2,
           1,
           1,
           1,
           2,
           91,
           4,
           4,
           229,
           7,
           1,
           8,
           2,
           6,
           3,
           3,
           3,
           250,
           1,
           31,
           1,
           9,
           17,
           10,
           1,
           1,
           214,
           11,
           1,
           8,
           7,
           4,
           194,
           1,
           1,
           1,
           1,
           119,
           21,
           14,
           3,
           1,
           42,
           5,
           6,
           1,
           6,
           1,
           48,
           3,
           1,
           1,
           8,
           1,
           1,
           64,
           15,
           16,
           31,
           26,
           16,
           3,
           1,
           1,
           1,
           18,
           1,
           16,
           2,
           11,
           1,
           1,
           12,
           1,
           7,
           7,
           7,
           497,
           2,
           8,
           2,
           4,
           10,
           1,
           4
          ]
         },
         "node": {
          "color": [
           "rgb(229, 134, 6)",
           "rgb(229, 134, 6)",
           "rgb(229, 134, 6)",
           "rgb(229, 134, 6)",
           "rgb(229, 134, 6)",
           "rgb(229, 134, 6)",
           "rgb(229, 134, 6)",
           "rgb(229, 134, 6)",
           "rgb(229, 134, 6)",
           "rgb(229, 134, 6)",
           "rgb(229, 134, 6)",
           "rgb(229, 134, 6)",
           "rgb(229, 134, 6)",
           "rgb(229, 134, 6)",
           "rgb(229, 134, 6)",
           "rgb(229, 134, 6)",
           "rgb(229, 134, 6)",
           "rgb(229, 134, 6)",
           "rgb(229, 134, 6)",
           "rgb(229, 134, 6)",
           "rgb(229, 134, 6)",
           "rgb(229, 134, 6)",
           "rgb(93, 105, 177)",
           "rgb(93, 105, 177)",
           "rgb(93, 105, 177)",
           "rgb(93, 105, 177)",
           "rgb(93, 105, 177)",
           "rgb(93, 105, 177)",
           "rgb(93, 105, 177)",
           "rgb(93, 105, 177)",
           "rgb(93, 105, 177)",
           "rgb(93, 105, 177)",
           "rgb(93, 105, 177)",
           "rgb(93, 105, 177)",
           "rgb(93, 105, 177)",
           "rgb(93, 105, 177)",
           "rgb(93, 105, 177)",
           "rgb(93, 105, 177)",
           "rgb(93, 105, 177)",
           "rgb(93, 105, 177)",
           "rgb(93, 105, 177)",
           "rgb(93, 105, 177)",
           "rgb(93, 105, 177)",
           "rgb(93, 105, 177)",
           "rgb(93, 105, 177)",
           "rgb(82, 188, 163)",
           "rgb(82, 188, 163)",
           "rgb(82, 188, 163)",
           "rgb(82, 188, 163)",
           "rgb(82, 188, 163)",
           "rgb(82, 188, 163)",
           "rgb(82, 188, 163)",
           "rgb(82, 188, 163)",
           "rgb(82, 188, 163)",
           "rgb(82, 188, 163)",
           "rgb(82, 188, 163)",
           "rgb(82, 188, 163)",
           "rgb(82, 188, 163)",
           "rgb(82, 188, 163)",
           "rgb(82, 188, 163)",
           "rgb(82, 188, 163)",
           "rgb(82, 188, 163)",
           "rgb(82, 188, 163)",
           "rgb(82, 188, 163)",
           "rgb(82, 188, 163)",
           "rgb(82, 188, 163)",
           "rgb(82, 188, 163)",
           "rgb(82, 188, 163)",
           "rgb(82, 188, 163)"
          ],
          "label": [
           1,
           2,
           3,
           4,
           5,
           6,
           7,
           8,
           9,
           10,
           11,
           12,
           13,
           14,
           15,
           16,
           17,
           18,
           19,
           20,
           21,
           22,
           2,
           3,
           4,
           5,
           6,
           7,
           8,
           9,
           10,
           11,
           12,
           13,
           14,
           15,
           16,
           17,
           18,
           19,
           20,
           21,
           22,
           23,
           24,
           -1,
           1,
           2,
           3,
           4,
           5,
           6,
           7,
           8,
           9,
           10,
           11,
           12,
           13,
           14,
           15,
           16,
           17,
           18,
           19,
           20,
           21,
           22,
           23
          ],
          "line": {
           "color": "black",
           "width": 0.5
          },
          "pad": 15,
          "thickness": 20
         },
         "type": "sankey"
        }
       ],
       "layout": {
        "annotations": [
         {
          "align": "left",
          "font": {
           "color": "#003366",
           "size": 18
          },
          "showarrow": false,
          "text": "std_4K_10TF",
          "x": 0,
          "xref": "x",
          "y": 1.07,
          "yref": "paper"
         },
         {
          "align": "left",
          "font": {
           "color": "#003366",
           "size": 18
          },
          "showarrow": false,
          "text": "norm3_4K_10TF",
          "x": 1,
          "xref": "x",
          "y": 1.07,
          "yref": "paper"
         },
         {
          "align": "left",
          "font": {
           "color": "#003366",
           "size": 18
          },
          "showarrow": false,
          "text": "beta_4K_10TF",
          "x": 2,
          "xref": "x",
          "y": 1.07,
          "yref": "paper"
         }
        ],
        "font": {
         "color": "#003366",
         "size": 16
        },
        "height": 600,
        "plot_bgcolor": "rgba(0,0,0,0)",
        "template": {
         "data": {
          "bar": [
           {
            "error_x": {
             "color": "rgb(51,51,51)"
            },
            "error_y": {
             "color": "rgb(51,51,51)"
            },
            "marker": {
             "line": {
              "color": "rgb(237,237,237)",
              "width": 0.5
             },
             "pattern": {
              "fillmode": "overlay",
              "size": 10,
              "solidity": 0.2
             }
            },
            "type": "bar"
           }
          ],
          "barpolar": [
           {
            "marker": {
             "line": {
              "color": "rgb(237,237,237)",
              "width": 0.5
             },
             "pattern": {
              "fillmode": "overlay",
              "size": 10,
              "solidity": 0.2
             }
            },
            "type": "barpolar"
           }
          ],
          "carpet": [
           {
            "aaxis": {
             "endlinecolor": "rgb(51,51,51)",
             "gridcolor": "white",
             "linecolor": "white",
             "minorgridcolor": "white",
             "startlinecolor": "rgb(51,51,51)"
            },
            "baxis": {
             "endlinecolor": "rgb(51,51,51)",
             "gridcolor": "white",
             "linecolor": "white",
             "minorgridcolor": "white",
             "startlinecolor": "rgb(51,51,51)"
            },
            "type": "carpet"
           }
          ],
          "choropleth": [
           {
            "colorbar": {
             "outlinewidth": 0,
             "tickcolor": "rgb(237,237,237)",
             "ticklen": 6,
             "ticks": "inside"
            },
            "type": "choropleth"
           }
          ],
          "contour": [
           {
            "colorbar": {
             "outlinewidth": 0,
             "tickcolor": "rgb(237,237,237)",
             "ticklen": 6,
             "ticks": "inside"
            },
            "colorscale": [
             [
              0,
              "rgb(20,44,66)"
             ],
             [
              1,
              "rgb(90,179,244)"
             ]
            ],
            "type": "contour"
           }
          ],
          "contourcarpet": [
           {
            "colorbar": {
             "outlinewidth": 0,
             "tickcolor": "rgb(237,237,237)",
             "ticklen": 6,
             "ticks": "inside"
            },
            "type": "contourcarpet"
           }
          ],
          "heatmap": [
           {
            "colorbar": {
             "outlinewidth": 0,
             "tickcolor": "rgb(237,237,237)",
             "ticklen": 6,
             "ticks": "inside"
            },
            "colorscale": [
             [
              0,
              "rgb(20,44,66)"
             ],
             [
              1,
              "rgb(90,179,244)"
             ]
            ],
            "type": "heatmap"
           }
          ],
          "heatmapgl": [
           {
            "colorbar": {
             "outlinewidth": 0,
             "tickcolor": "rgb(237,237,237)",
             "ticklen": 6,
             "ticks": "inside"
            },
            "colorscale": [
             [
              0,
              "rgb(20,44,66)"
             ],
             [
              1,
              "rgb(90,179,244)"
             ]
            ],
            "type": "heatmapgl"
           }
          ],
          "histogram": [
           {
            "marker": {
             "pattern": {
              "fillmode": "overlay",
              "size": 10,
              "solidity": 0.2
             }
            },
            "type": "histogram"
           }
          ],
          "histogram2d": [
           {
            "colorbar": {
             "outlinewidth": 0,
             "tickcolor": "rgb(237,237,237)",
             "ticklen": 6,
             "ticks": "inside"
            },
            "colorscale": [
             [
              0,
              "rgb(20,44,66)"
             ],
             [
              1,
              "rgb(90,179,244)"
             ]
            ],
            "type": "histogram2d"
           }
          ],
          "histogram2dcontour": [
           {
            "colorbar": {
             "outlinewidth": 0,
             "tickcolor": "rgb(237,237,237)",
             "ticklen": 6,
             "ticks": "inside"
            },
            "colorscale": [
             [
              0,
              "rgb(20,44,66)"
             ],
             [
              1,
              "rgb(90,179,244)"
             ]
            ],
            "type": "histogram2dcontour"
           }
          ],
          "mesh3d": [
           {
            "colorbar": {
             "outlinewidth": 0,
             "tickcolor": "rgb(237,237,237)",
             "ticklen": 6,
             "ticks": "inside"
            },
            "type": "mesh3d"
           }
          ],
          "parcoords": [
           {
            "line": {
             "colorbar": {
              "outlinewidth": 0,
              "tickcolor": "rgb(237,237,237)",
              "ticklen": 6,
              "ticks": "inside"
             }
            },
            "type": "parcoords"
           }
          ],
          "pie": [
           {
            "automargin": true,
            "type": "pie"
           }
          ],
          "scatter": [
           {
            "fillpattern": {
             "fillmode": "overlay",
             "size": 10,
             "solidity": 0.2
            },
            "type": "scatter"
           }
          ],
          "scatter3d": [
           {
            "line": {
             "colorbar": {
              "outlinewidth": 0,
              "tickcolor": "rgb(237,237,237)",
              "ticklen": 6,
              "ticks": "inside"
             }
            },
            "marker": {
             "colorbar": {
              "outlinewidth": 0,
              "tickcolor": "rgb(237,237,237)",
              "ticklen": 6,
              "ticks": "inside"
             }
            },
            "type": "scatter3d"
           }
          ],
          "scattercarpet": [
           {
            "marker": {
             "colorbar": {
              "outlinewidth": 0,
              "tickcolor": "rgb(237,237,237)",
              "ticklen": 6,
              "ticks": "inside"
             }
            },
            "type": "scattercarpet"
           }
          ],
          "scattergeo": [
           {
            "marker": {
             "colorbar": {
              "outlinewidth": 0,
              "tickcolor": "rgb(237,237,237)",
              "ticklen": 6,
              "ticks": "inside"
             }
            },
            "type": "scattergeo"
           }
          ],
          "scattergl": [
           {
            "marker": {
             "colorbar": {
              "outlinewidth": 0,
              "tickcolor": "rgb(237,237,237)",
              "ticklen": 6,
              "ticks": "inside"
             }
            },
            "type": "scattergl"
           }
          ],
          "scattermapbox": [
           {
            "marker": {
             "colorbar": {
              "outlinewidth": 0,
              "tickcolor": "rgb(237,237,237)",
              "ticklen": 6,
              "ticks": "inside"
             }
            },
            "type": "scattermapbox"
           }
          ],
          "scatterpolar": [
           {
            "marker": {
             "colorbar": {
              "outlinewidth": 0,
              "tickcolor": "rgb(237,237,237)",
              "ticklen": 6,
              "ticks": "inside"
             }
            },
            "type": "scatterpolar"
           }
          ],
          "scatterpolargl": [
           {
            "marker": {
             "colorbar": {
              "outlinewidth": 0,
              "tickcolor": "rgb(237,237,237)",
              "ticklen": 6,
              "ticks": "inside"
             }
            },
            "type": "scatterpolargl"
           }
          ],
          "scatterternary": [
           {
            "marker": {
             "colorbar": {
              "outlinewidth": 0,
              "tickcolor": "rgb(237,237,237)",
              "ticklen": 6,
              "ticks": "inside"
             }
            },
            "type": "scatterternary"
           }
          ],
          "surface": [
           {
            "colorbar": {
             "outlinewidth": 0,
             "tickcolor": "rgb(237,237,237)",
             "ticklen": 6,
             "ticks": "inside"
            },
            "colorscale": [
             [
              0,
              "rgb(20,44,66)"
             ],
             [
              1,
              "rgb(90,179,244)"
             ]
            ],
            "type": "surface"
           }
          ],
          "table": [
           {
            "cells": {
             "fill": {
              "color": "rgb(237,237,237)"
             },
             "line": {
              "color": "white"
             }
            },
            "header": {
             "fill": {
              "color": "rgb(217,217,217)"
             },
             "line": {
              "color": "white"
             }
            },
            "type": "table"
           }
          ]
         },
         "layout": {
          "annotationdefaults": {
           "arrowhead": 0,
           "arrowwidth": 1
          },
          "autotypenumbers": "strict",
          "coloraxis": {
           "colorbar": {
            "outlinewidth": 0,
            "tickcolor": "rgb(237,237,237)",
            "ticklen": 6,
            "ticks": "inside"
           }
          },
          "colorscale": {
           "sequential": [
            [
             0,
             "rgb(20,44,66)"
            ],
            [
             1,
             "rgb(90,179,244)"
            ]
           ],
           "sequentialminus": [
            [
             0,
             "rgb(20,44,66)"
            ],
            [
             1,
             "rgb(90,179,244)"
            ]
           ]
          },
          "colorway": [
           "#F8766D",
           "#A3A500",
           "#00BF7D",
           "#00B0F6",
           "#E76BF3"
          ],
          "font": {
           "color": "rgb(51,51,51)"
          },
          "geo": {
           "bgcolor": "white",
           "lakecolor": "white",
           "landcolor": "rgb(237,237,237)",
           "showlakes": true,
           "showland": true,
           "subunitcolor": "white"
          },
          "hoverlabel": {
           "align": "left"
          },
          "hovermode": "closest",
          "paper_bgcolor": "white",
          "plot_bgcolor": "rgb(237,237,237)",
          "polar": {
           "angularaxis": {
            "gridcolor": "white",
            "linecolor": "white",
            "showgrid": true,
            "tickcolor": "rgb(51,51,51)",
            "ticks": "outside"
           },
           "bgcolor": "rgb(237,237,237)",
           "radialaxis": {
            "gridcolor": "white",
            "linecolor": "white",
            "showgrid": true,
            "tickcolor": "rgb(51,51,51)",
            "ticks": "outside"
           }
          },
          "scene": {
           "xaxis": {
            "backgroundcolor": "rgb(237,237,237)",
            "gridcolor": "white",
            "gridwidth": 2,
            "linecolor": "white",
            "showbackground": true,
            "showgrid": true,
            "tickcolor": "rgb(51,51,51)",
            "ticks": "outside",
            "zerolinecolor": "white"
           },
           "yaxis": {
            "backgroundcolor": "rgb(237,237,237)",
            "gridcolor": "white",
            "gridwidth": 2,
            "linecolor": "white",
            "showbackground": true,
            "showgrid": true,
            "tickcolor": "rgb(51,51,51)",
            "ticks": "outside",
            "zerolinecolor": "white"
           },
           "zaxis": {
            "backgroundcolor": "rgb(237,237,237)",
            "gridcolor": "white",
            "gridwidth": 2,
            "linecolor": "white",
            "showbackground": true,
            "showgrid": true,
            "tickcolor": "rgb(51,51,51)",
            "ticks": "outside",
            "zerolinecolor": "white"
           }
          },
          "shapedefaults": {
           "fillcolor": "black",
           "line": {
            "width": 0
           },
           "opacity": 0.3
          },
          "ternary": {
           "aaxis": {
            "gridcolor": "white",
            "linecolor": "white",
            "showgrid": true,
            "tickcolor": "rgb(51,51,51)",
            "ticks": "outside"
           },
           "baxis": {
            "gridcolor": "white",
            "linecolor": "white",
            "showgrid": true,
            "tickcolor": "rgb(51,51,51)",
            "ticks": "outside"
           },
           "bgcolor": "rgb(237,237,237)",
           "caxis": {
            "gridcolor": "white",
            "linecolor": "white",
            "showgrid": true,
            "tickcolor": "rgb(51,51,51)",
            "ticks": "outside"
           }
          },
          "xaxis": {
           "automargin": true,
           "gridcolor": "white",
           "linecolor": "white",
           "showgrid": true,
           "tickcolor": "rgb(51,51,51)",
           "ticks": "outside",
           "title": {
            "standoff": 15
           },
           "zerolinecolor": "white"
          },
          "yaxis": {
           "automargin": true,
           "gridcolor": "white",
           "linecolor": "white",
           "showgrid": true,
           "tickcolor": "rgb(51,51,51)",
           "ticks": "outside",
           "title": {
            "standoff": 15
           },
           "zerolinecolor": "white"
          }
         }
        },
        "title": {
         "text": "Community comparison between std_4K_10TF, norm3_4K_10TF, beta_4K_10TF"
        },
        "xaxis": {
         "showgrid": false,
         "visible": false,
         "zeroline": false
        },
        "yaxis": {
         "showgrid": false,
         "visible": false,
         "zeroline": false
        }
       }
      }
     },
     "metadata": {},
     "output_type": "display_data"
    }
   ],
   "source": [
    "# Prep data\n",
    "std_t = tum.exps[\"standard_4K_10TF\"]\n",
    "norm3_t = tum.exps[\"norm3_4K_10TF\"]\n",
    "beta_t = tum.exps[\"beta_4K_10TF\"]\n",
    "\n",
    "dmy_std = std_t.nodes_df.rename(columns={\"Modularity Class\": \"std_4K_10TF\"})\n",
    "dmy_norm3 = norm3_t.nodes_df.rename(columns={\"Modularity Class\": \"norm3_4K_10TF\"})\n",
    "dmy_beta = beta_t.nodes_df.rename(columns={\"Modularity Class\": \"beta_4K_10TF\"})\n",
    "\n",
    "# combine data\n",
    "test = pd.concat([dmy_std[\"std_4K_10TF\"], dmy_beta[\"beta_4K_10TF\"], dmy_norm3[\"norm3_4K_10TF\"]], axis=1).fillna(-1)  # dmy_h3[\"norm3_h_5k\"]], axis=1)\n",
    "reoder_cols = [\"std_4K_10TF\", \"norm3_4K_10TF\", \"beta_4K_10TF\"]  # \"norm3_h_5k\"]\n",
    "\n",
    "# plot\n",
    "meta = sky.main(\n",
    "    test,\n",
    "    reorder_cols=reoder_cols,\n",
    "    title=\"Community comparison between \" + \", \".join(reoder_cols),\n",
    ")"
   ]
  },
  {
   "cell_type": "code",
   "execution_count": 47,
   "metadata": {},
   "outputs": [
    {
     "name": "stdout",
     "output_type": "stream",
     "text": [
      "Genes mutated 0.532\n"
     ]
    }
   ],
   "source": [
    "sel_mut = tcga_mutations_df[(tcga_mutations_df.index.isin(norm3_t.tpm_df.index)) & (tcga_mutations_df[\"count\"] > 2)]\n",
    "print(\"Genes mutated\", sel_mut.shape[0] / norm3_t.tpm_df.shape[0])"
   ]
  },
  {
   "cell_type": "code",
   "execution_count": 48,
   "metadata": {},
   "outputs": [
    {
     "data": {
      "application/vnd.plotly.v1+json": {
       "config": {
        "plotlyServerURL": "https://plot.ly"
       },
       "data": [
        {
         "arrangement": "perpendicular",
         "link": {
          "color": "#bdbdbd",
          "source": [
           0,
           1,
           2,
           3,
           3,
           4,
           5,
           6,
           6,
           7,
           7,
           7,
           8,
           8,
           8,
           9,
           10,
           10,
           11,
           12,
           13,
           14,
           15,
           16,
           17,
           18,
           19,
           20,
           27,
           27,
           27,
           27,
           27,
           27,
           27,
           27,
           28,
           28,
           28,
           29,
           29,
           30,
           31,
           32,
           32,
           32,
           33,
           33,
           33,
           21,
           21,
           22,
           22,
           22,
           22,
           23,
           24,
           24,
           25,
           26,
           26,
           26,
           26,
           26,
           26,
           26,
           26
          ],
          "target": [
           21,
           28,
           27,
           23,
           26,
           27,
           26,
           27,
           28,
           27,
           22,
           26,
           27,
           23,
           25,
           33,
           31,
           26,
           26,
           28,
           27,
           29,
           30,
           32,
           33,
           21,
           24,
           26,
           34,
           38,
           39,
           40,
           42,
           43,
           44,
           52,
           34,
           36,
           46,
           36,
           53,
           49,
           47,
           34,
           40,
           41,
           43,
           44,
           51,
           35,
           50,
           37,
           41,
           42,
           48,
           45,
           34,
           55,
           54,
           34,
           37,
           38,
           41,
           45,
           52,
           56,
           57
          ],
          "value": [
           1,
           3,
           10,
           1,
           15,
           2,
           2,
           2,
           1,
           1,
           15,
           1,
           1,
           11,
           7,
           1,
           26,
           1,
           73,
           62,
           53,
           31,
           31,
           20,
           19,
           16,
           8,
           4,
           1,
           6,
           1,
           48,
           3,
           1,
           1,
           8,
           1,
           1,
           64,
           15,
           16,
           31,
           26,
           16,
           3,
           1,
           1,
           1,
           18,
           1,
           16,
           2,
           11,
           1,
           1,
           12,
           1,
           7,
           7,
           21,
           14,
           3,
           1,
           42,
           5,
           6,
           4
          ]
         },
         "node": {
          "color": [
           "rgb(229, 134, 6)",
           "rgb(229, 134, 6)",
           "rgb(229, 134, 6)",
           "rgb(229, 134, 6)",
           "rgb(229, 134, 6)",
           "rgb(229, 134, 6)",
           "rgb(229, 134, 6)",
           "rgb(229, 134, 6)",
           "rgb(229, 134, 6)",
           "rgb(229, 134, 6)",
           "rgb(229, 134, 6)",
           "rgb(229, 134, 6)",
           "rgb(229, 134, 6)",
           "rgb(229, 134, 6)",
           "rgb(229, 134, 6)",
           "rgb(229, 134, 6)",
           "rgb(229, 134, 6)",
           "rgb(229, 134, 6)",
           "rgb(229, 134, 6)",
           "rgb(229, 134, 6)",
           "rgb(229, 134, 6)",
           "rgb(93, 105, 177)",
           "rgb(93, 105, 177)",
           "rgb(93, 105, 177)",
           "rgb(93, 105, 177)",
           "rgb(93, 105, 177)",
           "rgb(93, 105, 177)",
           "rgb(93, 105, 177)",
           "rgb(93, 105, 177)",
           "rgb(93, 105, 177)",
           "rgb(93, 105, 177)",
           "rgb(93, 105, 177)",
           "rgb(93, 105, 177)",
           "rgb(93, 105, 177)",
           "rgb(82, 188, 163)",
           "rgb(82, 188, 163)",
           "rgb(82, 188, 163)",
           "rgb(82, 188, 163)",
           "rgb(82, 188, 163)",
           "rgb(82, 188, 163)",
           "rgb(82, 188, 163)",
           "rgb(82, 188, 163)",
           "rgb(82, 188, 163)",
           "rgb(82, 188, 163)",
           "rgb(82, 188, 163)",
           "rgb(82, 188, 163)",
           "rgb(82, 188, 163)",
           "rgb(82, 188, 163)",
           "rgb(82, 188, 163)",
           "rgb(82, 188, 163)",
           "rgb(82, 188, 163)",
           "rgb(82, 188, 163)",
           "rgb(82, 188, 163)",
           "rgb(82, 188, 163)",
           "rgb(82, 188, 163)",
           "rgb(82, 188, 163)",
           "rgb(82, 188, 163)",
           "rgb(82, 188, 163)"
          ],
          "label": [
           1,
           2,
           3,
           4,
           5,
           6,
           7,
           8,
           10,
           11,
           12,
           13,
           14,
           15,
           16,
           17,
           18,
           19,
           20,
           21,
           22,
           19,
           20,
           21,
           22,
           23,
           24,
           12,
           13,
           14,
           15,
           16,
           17,
           18,
           -1,
           1,
           2,
           3,
           4,
           5,
           6,
           7,
           8,
           9,
           10,
           11,
           12,
           13,
           14,
           15,
           16,
           17,
           18,
           19,
           20,
           21,
           22,
           23
          ],
          "line": {
           "color": "black",
           "width": 0.5
          },
          "pad": 15,
          "thickness": 20
         },
         "type": "sankey"
        }
       ],
       "layout": {
        "annotations": [
         {
          "align": "left",
          "font": {
           "color": "#003366",
           "size": 18
          },
          "showarrow": false,
          "text": "std_4K_10TF",
          "x": 0,
          "xref": "x",
          "y": 1.07,
          "yref": "paper"
         },
         {
          "align": "left",
          "font": {
           "color": "#003366",
           "size": 18
          },
          "showarrow": false,
          "text": "norm3_4K_10TF",
          "x": 1,
          "xref": "x",
          "y": 1.07,
          "yref": "paper"
         },
         {
          "align": "left",
          "font": {
           "color": "#003366",
           "size": 18
          },
          "showarrow": false,
          "text": "beta_4K_10TF",
          "x": 2,
          "xref": "x",
          "y": 1.07,
          "yref": "paper"
         }
        ],
        "font": {
         "color": "#003366",
         "size": 16
        },
        "height": 600,
        "plot_bgcolor": "rgba(0,0,0,0)",
        "template": {
         "data": {
          "bar": [
           {
            "error_x": {
             "color": "rgb(51,51,51)"
            },
            "error_y": {
             "color": "rgb(51,51,51)"
            },
            "marker": {
             "line": {
              "color": "rgb(237,237,237)",
              "width": 0.5
             },
             "pattern": {
              "fillmode": "overlay",
              "size": 10,
              "solidity": 0.2
             }
            },
            "type": "bar"
           }
          ],
          "barpolar": [
           {
            "marker": {
             "line": {
              "color": "rgb(237,237,237)",
              "width": 0.5
             },
             "pattern": {
              "fillmode": "overlay",
              "size": 10,
              "solidity": 0.2
             }
            },
            "type": "barpolar"
           }
          ],
          "carpet": [
           {
            "aaxis": {
             "endlinecolor": "rgb(51,51,51)",
             "gridcolor": "white",
             "linecolor": "white",
             "minorgridcolor": "white",
             "startlinecolor": "rgb(51,51,51)"
            },
            "baxis": {
             "endlinecolor": "rgb(51,51,51)",
             "gridcolor": "white",
             "linecolor": "white",
             "minorgridcolor": "white",
             "startlinecolor": "rgb(51,51,51)"
            },
            "type": "carpet"
           }
          ],
          "choropleth": [
           {
            "colorbar": {
             "outlinewidth": 0,
             "tickcolor": "rgb(237,237,237)",
             "ticklen": 6,
             "ticks": "inside"
            },
            "type": "choropleth"
           }
          ],
          "contour": [
           {
            "colorbar": {
             "outlinewidth": 0,
             "tickcolor": "rgb(237,237,237)",
             "ticklen": 6,
             "ticks": "inside"
            },
            "colorscale": [
             [
              0,
              "rgb(20,44,66)"
             ],
             [
              1,
              "rgb(90,179,244)"
             ]
            ],
            "type": "contour"
           }
          ],
          "contourcarpet": [
           {
            "colorbar": {
             "outlinewidth": 0,
             "tickcolor": "rgb(237,237,237)",
             "ticklen": 6,
             "ticks": "inside"
            },
            "type": "contourcarpet"
           }
          ],
          "heatmap": [
           {
            "colorbar": {
             "outlinewidth": 0,
             "tickcolor": "rgb(237,237,237)",
             "ticklen": 6,
             "ticks": "inside"
            },
            "colorscale": [
             [
              0,
              "rgb(20,44,66)"
             ],
             [
              1,
              "rgb(90,179,244)"
             ]
            ],
            "type": "heatmap"
           }
          ],
          "heatmapgl": [
           {
            "colorbar": {
             "outlinewidth": 0,
             "tickcolor": "rgb(237,237,237)",
             "ticklen": 6,
             "ticks": "inside"
            },
            "colorscale": [
             [
              0,
              "rgb(20,44,66)"
             ],
             [
              1,
              "rgb(90,179,244)"
             ]
            ],
            "type": "heatmapgl"
           }
          ],
          "histogram": [
           {
            "marker": {
             "pattern": {
              "fillmode": "overlay",
              "size": 10,
              "solidity": 0.2
             }
            },
            "type": "histogram"
           }
          ],
          "histogram2d": [
           {
            "colorbar": {
             "outlinewidth": 0,
             "tickcolor": "rgb(237,237,237)",
             "ticklen": 6,
             "ticks": "inside"
            },
            "colorscale": [
             [
              0,
              "rgb(20,44,66)"
             ],
             [
              1,
              "rgb(90,179,244)"
             ]
            ],
            "type": "histogram2d"
           }
          ],
          "histogram2dcontour": [
           {
            "colorbar": {
             "outlinewidth": 0,
             "tickcolor": "rgb(237,237,237)",
             "ticklen": 6,
             "ticks": "inside"
            },
            "colorscale": [
             [
              0,
              "rgb(20,44,66)"
             ],
             [
              1,
              "rgb(90,179,244)"
             ]
            ],
            "type": "histogram2dcontour"
           }
          ],
          "mesh3d": [
           {
            "colorbar": {
             "outlinewidth": 0,
             "tickcolor": "rgb(237,237,237)",
             "ticklen": 6,
             "ticks": "inside"
            },
            "type": "mesh3d"
           }
          ],
          "parcoords": [
           {
            "line": {
             "colorbar": {
              "outlinewidth": 0,
              "tickcolor": "rgb(237,237,237)",
              "ticklen": 6,
              "ticks": "inside"
             }
            },
            "type": "parcoords"
           }
          ],
          "pie": [
           {
            "automargin": true,
            "type": "pie"
           }
          ],
          "scatter": [
           {
            "fillpattern": {
             "fillmode": "overlay",
             "size": 10,
             "solidity": 0.2
            },
            "type": "scatter"
           }
          ],
          "scatter3d": [
           {
            "line": {
             "colorbar": {
              "outlinewidth": 0,
              "tickcolor": "rgb(237,237,237)",
              "ticklen": 6,
              "ticks": "inside"
             }
            },
            "marker": {
             "colorbar": {
              "outlinewidth": 0,
              "tickcolor": "rgb(237,237,237)",
              "ticklen": 6,
              "ticks": "inside"
             }
            },
            "type": "scatter3d"
           }
          ],
          "scattercarpet": [
           {
            "marker": {
             "colorbar": {
              "outlinewidth": 0,
              "tickcolor": "rgb(237,237,237)",
              "ticklen": 6,
              "ticks": "inside"
             }
            },
            "type": "scattercarpet"
           }
          ],
          "scattergeo": [
           {
            "marker": {
             "colorbar": {
              "outlinewidth": 0,
              "tickcolor": "rgb(237,237,237)",
              "ticklen": 6,
              "ticks": "inside"
             }
            },
            "type": "scattergeo"
           }
          ],
          "scattergl": [
           {
            "marker": {
             "colorbar": {
              "outlinewidth": 0,
              "tickcolor": "rgb(237,237,237)",
              "ticklen": 6,
              "ticks": "inside"
             }
            },
            "type": "scattergl"
           }
          ],
          "scattermapbox": [
           {
            "marker": {
             "colorbar": {
              "outlinewidth": 0,
              "tickcolor": "rgb(237,237,237)",
              "ticklen": 6,
              "ticks": "inside"
             }
            },
            "type": "scattermapbox"
           }
          ],
          "scatterpolar": [
           {
            "marker": {
             "colorbar": {
              "outlinewidth": 0,
              "tickcolor": "rgb(237,237,237)",
              "ticklen": 6,
              "ticks": "inside"
             }
            },
            "type": "scatterpolar"
           }
          ],
          "scatterpolargl": [
           {
            "marker": {
             "colorbar": {
              "outlinewidth": 0,
              "tickcolor": "rgb(237,237,237)",
              "ticklen": 6,
              "ticks": "inside"
             }
            },
            "type": "scatterpolargl"
           }
          ],
          "scatterternary": [
           {
            "marker": {
             "colorbar": {
              "outlinewidth": 0,
              "tickcolor": "rgb(237,237,237)",
              "ticklen": 6,
              "ticks": "inside"
             }
            },
            "type": "scatterternary"
           }
          ],
          "surface": [
           {
            "colorbar": {
             "outlinewidth": 0,
             "tickcolor": "rgb(237,237,237)",
             "ticklen": 6,
             "ticks": "inside"
            },
            "colorscale": [
             [
              0,
              "rgb(20,44,66)"
             ],
             [
              1,
              "rgb(90,179,244)"
             ]
            ],
            "type": "surface"
           }
          ],
          "table": [
           {
            "cells": {
             "fill": {
              "color": "rgb(237,237,237)"
             },
             "line": {
              "color": "white"
             }
            },
            "header": {
             "fill": {
              "color": "rgb(217,217,217)"
             },
             "line": {
              "color": "white"
             }
            },
            "type": "table"
           }
          ]
         },
         "layout": {
          "annotationdefaults": {
           "arrowhead": 0,
           "arrowwidth": 1
          },
          "autotypenumbers": "strict",
          "coloraxis": {
           "colorbar": {
            "outlinewidth": 0,
            "tickcolor": "rgb(237,237,237)",
            "ticklen": 6,
            "ticks": "inside"
           }
          },
          "colorscale": {
           "sequential": [
            [
             0,
             "rgb(20,44,66)"
            ],
            [
             1,
             "rgb(90,179,244)"
            ]
           ],
           "sequentialminus": [
            [
             0,
             "rgb(20,44,66)"
            ],
            [
             1,
             "rgb(90,179,244)"
            ]
           ]
          },
          "colorway": [
           "#F8766D",
           "#A3A500",
           "#00BF7D",
           "#00B0F6",
           "#E76BF3"
          ],
          "font": {
           "color": "rgb(51,51,51)"
          },
          "geo": {
           "bgcolor": "white",
           "lakecolor": "white",
           "landcolor": "rgb(237,237,237)",
           "showlakes": true,
           "showland": true,
           "subunitcolor": "white"
          },
          "hoverlabel": {
           "align": "left"
          },
          "hovermode": "closest",
          "paper_bgcolor": "white",
          "plot_bgcolor": "rgb(237,237,237)",
          "polar": {
           "angularaxis": {
            "gridcolor": "white",
            "linecolor": "white",
            "showgrid": true,
            "tickcolor": "rgb(51,51,51)",
            "ticks": "outside"
           },
           "bgcolor": "rgb(237,237,237)",
           "radialaxis": {
            "gridcolor": "white",
            "linecolor": "white",
            "showgrid": true,
            "tickcolor": "rgb(51,51,51)",
            "ticks": "outside"
           }
          },
          "scene": {
           "xaxis": {
            "backgroundcolor": "rgb(237,237,237)",
            "gridcolor": "white",
            "gridwidth": 2,
            "linecolor": "white",
            "showbackground": true,
            "showgrid": true,
            "tickcolor": "rgb(51,51,51)",
            "ticks": "outside",
            "zerolinecolor": "white"
           },
           "yaxis": {
            "backgroundcolor": "rgb(237,237,237)",
            "gridcolor": "white",
            "gridwidth": 2,
            "linecolor": "white",
            "showbackground": true,
            "showgrid": true,
            "tickcolor": "rgb(51,51,51)",
            "ticks": "outside",
            "zerolinecolor": "white"
           },
           "zaxis": {
            "backgroundcolor": "rgb(237,237,237)",
            "gridcolor": "white",
            "gridwidth": 2,
            "linecolor": "white",
            "showbackground": true,
            "showgrid": true,
            "tickcolor": "rgb(51,51,51)",
            "ticks": "outside",
            "zerolinecolor": "white"
           }
          },
          "shapedefaults": {
           "fillcolor": "black",
           "line": {
            "width": 0
           },
           "opacity": 0.3
          },
          "ternary": {
           "aaxis": {
            "gridcolor": "white",
            "linecolor": "white",
            "showgrid": true,
            "tickcolor": "rgb(51,51,51)",
            "ticks": "outside"
           },
           "baxis": {
            "gridcolor": "white",
            "linecolor": "white",
            "showgrid": true,
            "tickcolor": "rgb(51,51,51)",
            "ticks": "outside"
           },
           "bgcolor": "rgb(237,237,237)",
           "caxis": {
            "gridcolor": "white",
            "linecolor": "white",
            "showgrid": true,
            "tickcolor": "rgb(51,51,51)",
            "ticks": "outside"
           }
          },
          "xaxis": {
           "automargin": true,
           "gridcolor": "white",
           "linecolor": "white",
           "showgrid": true,
           "tickcolor": "rgb(51,51,51)",
           "ticks": "outside",
           "title": {
            "standoff": 15
           },
           "zerolinecolor": "white"
          },
          "yaxis": {
           "automargin": true,
           "gridcolor": "white",
           "linecolor": "white",
           "showgrid": true,
           "tickcolor": "rgb(51,51,51)",
           "ticks": "outside",
           "title": {
            "standoff": 15
           },
           "zerolinecolor": "white"
          }
         }
        },
        "title": {
         "text": "Just small communities comparison between std_4K_10TF, norm3_4K_10TF, beta_4K_10TF"
        },
        "xaxis": {
         "showgrid": false,
         "visible": false,
         "zeroline": false
        },
        "yaxis": {
         "showgrid": false,
         "visible": false,
         "zeroline": false
        }
       }
      }
     },
     "metadata": {},
     "output_type": "display_data"
    }
   ],
   "source": [
    "community_sizes = test[\"norm3_4K_10TF\"].value_counts()\n",
    "small_coms = community_sizes[community_sizes < 100].index.values\n",
    "small_coms = test[test[\"norm3_4K_10TF\"].isin(small_coms)]\n",
    "# dmy_df = test.copy(deep=True)\n",
    "# dmy_df.loc[~dmy_df[\"norm3_4K_10TF\"].isin(small_coms), \"norm3_4K_10TF\"] = -1\n",
    "\n",
    "meta = sky.main(\n",
    "    small_coms,\n",
    "    reorder_cols=reoder_cols,\n",
    "    title=\"Just small communities comparison between \" + \", \".join(reoder_cols),\n",
    ")"
   ]
  }
 ],
 "metadata": {
  "kernelspec": {
   "display_name": "iNet_gt",
   "language": "python",
   "name": "python3"
  },
  "language_info": {
   "codemirror_mode": {
    "name": "ipython",
    "version": 3
   },
   "file_extension": ".py",
   "mimetype": "text/x-python",
   "name": "python",
   "nbconvert_exporter": "python",
   "pygments_lexer": "ipython3",
   "version": "3.12.2"
  },
  "orig_nbformat": 4
 },
 "nbformat": 4,
 "nbformat_minor": 2
}
