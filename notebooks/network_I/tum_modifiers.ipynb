{
 "cells": [
  {
   "cell_type": "markdown",
   "metadata": {},
   "source": [
    "# Motivation\n",
    "\n",
    "In this notebook I'm looking at the difference between the modifiers in Tum"
   ]
  },
  {
   "cell_type": "markdown",
   "metadata": {},
   "source": [
    "# Init"
   ]
  },
  {
   "cell_type": "code",
   "execution_count": 2,
   "metadata": {},
   "outputs": [
    {
     "name": "stdout",
     "output_type": "stream",
     "text": [
      "The autoreload extension is already loaded. To reload it, use:\n",
      "  %reload_ext autoreload\n"
     ]
    }
   ],
   "source": [
    "%load_ext autoreload\n",
    "import pandas as pd\n",
    "import numpy as np\n",
    "import os\n",
    "import sys \n",
    "import igraph as ig\n",
    "import importlib\n",
    "\n",
    "import plotly.express as px\n",
    "import plotly.io as pio\n",
    "from plotly.offline import plot\n",
    "from plotly.subplots import make_subplots\n",
    "import plotly.graph_objects as go\n",
    "\n",
    "import multiprocess as mp\n",
    "\n",
    "import igraph as ig\n",
    "\n",
    "from matplotlib import pyplot as plt\n",
    "\n",
    "# Gsea libraries\n",
    "import gseapy as gp\n",
    "from gseapy.plot import dualplot\n",
    "\n",
    "SCRIPT_DIR = os.path.dirname(os.path.abspath(\"pcgna_processing.py\"))\n",
    "sys.path.append(os.path.dirname(SCRIPT_DIR))\n",
    "sys.path.append('/Users/vlad/Documents/Code/York/iNet_v2/src/')\n",
    "\n",
    "from NetworkAnalysis.ExperimentSet import ExperimentSet\n",
    "from NetworkAnalysis.NetworkComp import NetworkComp\n",
    "from NetworkAnalysis import GraphHelper as gh\n",
    "from NetworkAnalysis.utilities import sankey_consensus_plot as sky\n",
    "from NetworkAnalysis.utilities.helpers import save_fig, survival_plot, survival_comp\n",
    "import NetworkAnalysis.utilities.clustering as cs\n",
    "\n",
    "\n",
    "%matplotlib inline"
   ]
  },
  {
   "cell_type": "code",
   "execution_count": 10,
   "metadata": {},
   "outputs": [],
   "source": [
    "data_base = \"../../data/\"\n",
    "base_path = \"../../results/\"\n",
    "exp_folder_tumour = \"network_I/tum/\" # \"/integration_v2.1/tum/\" - path from iNET\n",
    "\n",
    "# figures_path = base_path + exp_folder_tumour + \"Figures/\"\n",
    "figures_path = \"tum_modifiers/\"\n",
    "\n",
    "# vu_output = pd.read_csv(data_path + \"VU_clustering.tsv\", sep=\"\\t\", index_col=\"Sample\")\n",
    "vu_output = pd.read_csv(f\"{data_base}/metadata/VU_clustering_v3.tsv\", sep=\"\\t\", index_col=\"Sample\")\n",
    "\n",
    "# prep mut\n",
    "tcga_mutations_df = pd.read_csv(f\"{data_base}/tumour/mutations_tcga.csv\")\n",
    "tcga_mutations_df = tcga_mutations_df[tcga_mutations_df[\"count\"] != 0].set_index(\"gene\")\n",
    "\n",
    "all_tum_tpms = pd.read_csv(f\"{data_base}/tumour/TPMs_selected_genes_v3_13k_gc42.tsv\", sep=\"\\t\", index_col=\"genes\")\n",
    "\n",
    "# tf list\n",
    "tf_path = f\"{data_base}/metadata/TF_names_v_1.01.txt\"\n",
    "if os.path.exists(tf_path):\n",
    "    tf_list = np.genfromtxt(fname=tf_path, delimiter=\"\\t\", skip_header=1, dtype=\"str\")"
   ]
  },
  {
   "cell_type": "markdown",
   "metadata": {},
   "source": [
    "## Load experiment sets"
   ]
  },
  {
   "cell_type": "code",
   "execution_count": 14,
   "metadata": {},
   "outputs": [
    {
     "name": "stdout",
     "output_type": "stream",
     "text": [
      "❗️ Check this experiment, there might be a problem in loading the data: norm2_int_tum_4K_50TF\n",
      "##### Experiment labels:  dict_keys(['beta_4K_50TF', 'norm2_4K_50TF', 'standard_4K_50TF', 'beta2_4K_50TF', 'beta3_4K_50TF', 'norm3_4K_50TF', 'standard_4K_10TF', 'norm3_4K_10TF', 'beta_4K_10TF', 'standard_4K_6TF', 'beta_4K_6TF', 'norm3_4K_6TF', 'standard_4K_3TF', 'beta_4K_3TF', 'norm3_4K_3TF', 'standard_4K_5TF', 'standard_4K_8TF', 'standard_4K_4TF', 'standard_4K_7TF', 'beta_4K_5TF', 'beta_4K_4TF', 'norm3_4K_7TF', 'norm3_4K_5TF', 'beta_4K_8TF', 'norm3_4K_4TF', 'beta_4K_7TF', 'norm3_4K_8TF', 'standard_4K_9TF', 'norm3_4K_9TF', 'beta_4K_9TF'])\n"
     ]
    }
   ],
   "source": [
    "%autoreload 2\n",
    "\n",
    "tum = ExperimentSet(\"tum\", base_path, exp_folder_tumour, tcga_mutations_df, sel_sets = [\"4K\",], rel_path=\"../\")\n",
    "# p0 = ExperimentSet(\"p0\", base_path, exp_folder_p0, tcga_mutations_df, sel_sets = [\"4K\"], rel_path=\"../\")\n",
    "\n",
    "%autoreload 2\n",
    "tum.export_to_gephi(save=False)\n",
    "# p0.export_to_gephi(save=False)"
   ]
  },
  {
   "cell_type": "markdown",
   "metadata": {},
   "source": [
    "## Computed ModCon and MEV scores"
   ]
  },
  {
   "cell_type": "code",
   "execution_count": 4,
   "metadata": {},
   "outputs": [],
   "source": [
    "def worker(arg):\n",
    "    obj, methname = arg[:2]\n",
    "    _ = getattr(obj, methname)()\n",
    "    return obj"
   ]
  },
  {
   "cell_type": "code",
   "execution_count": 5,
   "metadata": {},
   "outputs": [],
   "source": [
    "pool = mp.Pool(mp.cpu_count())\n",
    "# results = pool.map(worker, ((exp, \"get_ModCon\") for exp in p0.exps.values()))\n",
    "# p0.exps = {exp.type: exp for exp in results}\n",
    "\n",
    "results = pool.map(worker, ((exp, \"get_ModCon\") for exp in tum.exps.values()))\n",
    "tum.exps = {exp.type: exp for exp in results}"
   ]
  },
  {
   "cell_type": "code",
   "execution_count": 6,
   "metadata": {},
   "outputs": [],
   "source": [
    "for exp in tum.get_exps():\n",
    "    # exp.nodes_df[\"ModCon_Rank\"] = 0\n",
    "    for modCon, value in exp.modCons.items():\n",
    "        dmy = value.sort_values(by=[\"ModCon_{}\".format(exp.type)], ascending=False).reset_index(names=\"Id\").iloc[:100]\n",
    "        dmy[\"Rank\"] = dmy.index + 1\n",
    "        dmy.set_index(\"Id\", inplace=True)\n",
    "        exp.nodes_df.loc[exp.nodes_df[\"Modularity Class\"] == modCon, \"ModCon_Rank\"] = dmy[\"Rank\"]\n",
    "        exp.nodes_df[\"ModCon_Rank\"] = exp.nodes_df[\"ModCon_Rank\"].fillna(0)\n",
    "\n",
    "tum.export_to_gephi(save=False)\n",
    "tum.generate_Mevs()"
   ]
  },
  {
   "cell_type": "markdown",
   "metadata": {},
   "source": [
    "# Comms Mutation stats"
   ]
  },
  {
   "cell_type": "code",
   "execution_count": 7,
   "metadata": {},
   "outputs": [
    {
     "data": {
      "text/plain": [
       "0.79975"
      ]
     },
     "execution_count": 7,
     "metadata": {},
     "output_type": "execute_result"
    }
   ],
   "source": [
    "std_exp = tum.exps[\"standard_4K_10TF\"]\n",
    "\n",
    "mut_genes = std_exp.mut_df[std_exp.mut_df[\"count\"] > 0].index\n",
    "expressed_genes = std_exp.tpm_df.index.values\n",
    "len(mut_genes) / len(expressed_genes)"
   ]
  },
  {
   "cell_type": "code",
   "execution_count": 8,
   "metadata": {},
   "outputs": [],
   "source": [
    "dmy = []\n",
    "sel_exp = tum.exps[\"norm3_4K_10TF\"]\n",
    "sort_col = \"ModCon_{}\".format(sel_exp.type)\n",
    "for comm, value in sel_exp.modCons.items():\n",
    "    modConGenes = value.sort_values(by=sort_col, ascending=False).iloc[:100]\n",
    "    modConMutated = sel_exp.mut_df[sel_exp.mut_df.index.isin(modConGenes)].shape[0]\n",
    "    dmy.append((comm, modConMutated / len(mut_genes)))"
   ]
  },
  {
   "cell_type": "markdown",
   "metadata": {},
   "source": [
    "# Leiden score comparison\n",
    "\n",
    "Looking at the leiden score comparison between experiments"
   ]
  },
  {
   "cell_type": "code",
   "execution_count": 9,
   "metadata": {},
   "outputs": [],
   "source": [
    "leiden_scores = tum.comb_leiden_scores()\n",
    "\n",
    "# the TF = 50 contain experiments with the different modifiers\n",
    "leiden_scores = leiden_scores.loc[leiden_scores[\"TF\"] != \"50\"]\n",
    "\n",
    "# Specific to the tum dataset\n",
    "leiden_scores.loc[leiden_scores[\"Modifier\"] == \"beta\", \"Modifier\"] = \"Penalty\"\n",
    "\n",
    "# Figure for multiple TFs and 3 Leiden scores\n",
    "fig = px.scatter(leiden_scores, x=\"Modifier\", color=\"TF\", y=\"ModularityScore\", size=\"ModuleNum\", facet_col=\"Leiden Rank\", facet_col_wrap=4)\n",
    "\n",
    "# Fir for one TF and 10 Leiden scores\n",
    "fig = gh.plot_leiden(exps=tum, tf=\"6\")\n",
    "\n",
    "# fig.update_layout(font=dict(size=16))\n",
    "# save_fig(name=\"LeidenMetrics_{}\".format(label), fig=fig, base_path=figures_path, width=1400, height=600)"
   ]
  },
  {
   "cell_type": "markdown",
   "metadata": {},
   "source": [
    "# Network Metrics\n",
    "\n",
    "Between standard, norm and reward compare the network metrics: degree, pageRank, closeness, betwenees and IVI.\n",
    "\n",
    "The network configuration is: 4K and 10TF. and 4K and 3TF.\n",
    "\n",
    "## 4K 10 TF"
   ]
  },
  {
   "cell_type": "code",
   "execution_count": 10,
   "metadata": {},
   "outputs": [],
   "source": [
    "if True:\n",
    "    std_nt, rwrd_nt, pen_nt = tum.exps[\"standard_4K_10TF\"], tum.exps[\"norm3_4K_10TF\"], tum.exps[\"beta_4K_10TF\"]\n",
    "    metrics_df = gh.prep_net_metrics(std_nt, rwrd_nt, pen_nt)\n",
    "    fig = gh.plot_net_metrics(metrics_df, label=\"10TF\", filename=\"NetworkMetricsComp_{}\".format(\"10TF\"), figs_path=figures_path)"
   ]
  },
  {
   "cell_type": "markdown",
   "metadata": {},
   "source": [
    "## 4K 6TF (report)"
   ]
  },
  {
   "cell_type": "code",
   "execution_count": 11,
   "metadata": {},
   "outputs": [],
   "source": [
    "if False:\n",
    "    std_nt, rwrd_nt, pen_nt = tum.exps[\"standard_4K_6TF\"], tum.exps[\"norm3_4K_6TF\"], tum.exps[\"beta_4K_6TF\"]\n",
    "    metrics_df = gh.prep_net_metrics(std_nt, rwrd_nt, pen_nt)\n",
    "\n",
    "    fig = gh.plot_net_metrics(metrics_df, label=\"6TF\", log_y=True, filename=\"NetworkMetricsComp_{}\".format(\"6TF\"))  # figs_path=figures_path)\n",
    "    fig.show()"
   ]
  },
  {
   "cell_type": "markdown",
   "metadata": {},
   "source": [
    "## Mutation representation (report)"
   ]
  },
  {
   "cell_type": "code",
   "execution_count": 12,
   "metadata": {},
   "outputs": [],
   "source": [
    "t_all_stats_df = gh.stats_mut_burden(all_tum_tpms, tf_list, tcga_mutations_df, type=\"All\")\n",
    "t_4k_stats_df = gh.stats_mut_burden(tum.exps[\"standard_4K_3TF\"].tpm_df, tf_list, tcga_mutations_df, type=\"4K\")\n",
    "\n",
    "all_df = pd.concat([t_all_stats_df, t_4k_stats_df], axis=0)"
   ]
  },
  {
   "cell_type": "code",
   "execution_count": 13,
   "metadata": {},
   "outputs": [
    {
     "data": {
      "application/vnd.plotly.v1+json": {
       "config": {
        "plotlyServerURL": "https://plot.ly"
       },
       "data": [
        {
         "alignmentgroup": "True",
         "hovertemplate": "Type=All<br>Gene_Type=Mut<br>Burden=%{x}<br>Num=%{y}<extra></extra>",
         "legendgroup": "All",
         "marker": {
          "color": "#636efa",
          "pattern": {
           "shape": ""
          }
         },
         "name": "All",
         "offsetgroup": "All",
         "orientation": "v",
         "showlegend": true,
         "textposition": "auto",
         "texttemplate": "%{y}",
         "type": "bar",
         "x": [
          ">=0",
          ">=1",
          ">=2",
          ">=3",
          ">=4",
          ">=5",
          ">=6",
          ">=7",
          ">=8",
          ">=9",
          ">=10"
         ],
         "xaxis": "x2",
         "y": [
          13274,
          10057,
          8422,
          6793,
          5375,
          4209,
          3267,
          2546,
          2016,
          1594,
          1248
         ],
         "yaxis": "y2"
        },
        {
         "alignmentgroup": "True",
         "hovertemplate": "Type=All<br>Gene_Type=Mut_TF<br>Burden=%{x}<br>Num=%{y}<extra></extra>",
         "legendgroup": "All",
         "marker": {
          "color": "#636efa",
          "pattern": {
           "shape": ""
          }
         },
         "name": "All",
         "offsetgroup": "All",
         "orientation": "v",
         "showlegend": false,
         "textposition": "auto",
         "texttemplate": "%{y}",
         "type": "bar",
         "x": [
          ">=0",
          ">=1",
          ">=2",
          ">=3",
          ">=4",
          ">=5",
          ">=6",
          ">=7",
          ">=8",
          ">=9",
          ">=10"
         ],
         "xaxis": "x",
         "y": [
          1027,
          954,
          859,
          741,
          610,
          485,
          367,
          291,
          228,
          179,
          133
         ],
         "yaxis": "y"
        },
        {
         "alignmentgroup": "True",
         "hovertemplate": "Type=4K<br>Gene_Type=Mut<br>Burden=%{x}<br>Num=%{y}<extra></extra>",
         "legendgroup": "4K",
         "marker": {
          "color": "#EF553B",
          "pattern": {
           "shape": ""
          }
         },
         "name": "4K",
         "offsetgroup": "4K",
         "orientation": "v",
         "showlegend": true,
         "textposition": "auto",
         "texttemplate": "%{y}",
         "type": "bar",
         "x": [
          ">=0",
          ">=1",
          ">=2",
          ">=3",
          ">=4",
          ">=5",
          ">=6",
          ">=7",
          ">=8",
          ">=9",
          ">=10"
         ],
         "xaxis": "x2",
         "y": [
          4000,
          3199,
          2648,
          2128,
          1663,
          1307,
          1038,
          797,
          627,
          486,
          385
         ],
         "yaxis": "y2"
        },
        {
         "alignmentgroup": "True",
         "hovertemplate": "Type=4K<br>Gene_Type=Mut_TF<br>Burden=%{x}<br>Num=%{y}<extra></extra>",
         "legendgroup": "4K",
         "marker": {
          "color": "#EF553B",
          "pattern": {
           "shape": ""
          }
         },
         "name": "4K",
         "offsetgroup": "4K",
         "orientation": "v",
         "showlegend": false,
         "textposition": "auto",
         "texttemplate": "%{y}",
         "type": "bar",
         "x": [
          ">=0",
          ">=1",
          ">=2",
          ">=3",
          ">=4",
          ">=5",
          ">=6",
          ">=7",
          ">=8",
          ">=9",
          ">=10"
         ],
         "xaxis": "x",
         "y": [
          265,
          243,
          221,
          187,
          145,
          109,
          87,
          69,
          56,
          48,
          36
         ],
         "yaxis": "y"
        }
       ],
       "layout": {
        "annotations": [
         {
          "font": {},
          "showarrow": false,
          "text": "Gene_Type=Mut_TF",
          "textangle": 90,
          "x": 0.98,
          "xanchor": "left",
          "xref": "paper",
          "y": 0.2425,
          "yanchor": "middle",
          "yref": "paper"
         },
         {
          "font": {},
          "showarrow": false,
          "text": "Gene_Type=Mut",
          "textangle": 90,
          "x": 0.98,
          "xanchor": "left",
          "xref": "paper",
          "y": 0.7575000000000001,
          "yanchor": "middle",
          "yref": "paper"
         }
        ],
        "barmode": "group",
        "font": {
         "size": 16
        },
        "height": 700,
        "legend": {
         "title": {
          "text": "Type"
         },
         "tracegroupgap": 0
        },
        "template": {
         "data": {
          "bar": [
           {
            "error_x": {
             "color": "#2a3f5f"
            },
            "error_y": {
             "color": "#2a3f5f"
            },
            "marker": {
             "line": {
              "color": "#E5ECF6",
              "width": 0.5
             },
             "pattern": {
              "fillmode": "overlay",
              "size": 10,
              "solidity": 0.2
             }
            },
            "type": "bar"
           }
          ],
          "barpolar": [
           {
            "marker": {
             "line": {
              "color": "#E5ECF6",
              "width": 0.5
             },
             "pattern": {
              "fillmode": "overlay",
              "size": 10,
              "solidity": 0.2
             }
            },
            "type": "barpolar"
           }
          ],
          "carpet": [
           {
            "aaxis": {
             "endlinecolor": "#2a3f5f",
             "gridcolor": "white",
             "linecolor": "white",
             "minorgridcolor": "white",
             "startlinecolor": "#2a3f5f"
            },
            "baxis": {
             "endlinecolor": "#2a3f5f",
             "gridcolor": "white",
             "linecolor": "white",
             "minorgridcolor": "white",
             "startlinecolor": "#2a3f5f"
            },
            "type": "carpet"
           }
          ],
          "choropleth": [
           {
            "colorbar": {
             "outlinewidth": 0,
             "ticks": ""
            },
            "type": "choropleth"
           }
          ],
          "contour": [
           {
            "colorbar": {
             "outlinewidth": 0,
             "ticks": ""
            },
            "colorscale": [
             [
              0,
              "#0d0887"
             ],
             [
              0.1111111111111111,
              "#46039f"
             ],
             [
              0.2222222222222222,
              "#7201a8"
             ],
             [
              0.3333333333333333,
              "#9c179e"
             ],
             [
              0.4444444444444444,
              "#bd3786"
             ],
             [
              0.5555555555555556,
              "#d8576b"
             ],
             [
              0.6666666666666666,
              "#ed7953"
             ],
             [
              0.7777777777777778,
              "#fb9f3a"
             ],
             [
              0.8888888888888888,
              "#fdca26"
             ],
             [
              1,
              "#f0f921"
             ]
            ],
            "type": "contour"
           }
          ],
          "contourcarpet": [
           {
            "colorbar": {
             "outlinewidth": 0,
             "ticks": ""
            },
            "type": "contourcarpet"
           }
          ],
          "heatmap": [
           {
            "colorbar": {
             "outlinewidth": 0,
             "ticks": ""
            },
            "colorscale": [
             [
              0,
              "#0d0887"
             ],
             [
              0.1111111111111111,
              "#46039f"
             ],
             [
              0.2222222222222222,
              "#7201a8"
             ],
             [
              0.3333333333333333,
              "#9c179e"
             ],
             [
              0.4444444444444444,
              "#bd3786"
             ],
             [
              0.5555555555555556,
              "#d8576b"
             ],
             [
              0.6666666666666666,
              "#ed7953"
             ],
             [
              0.7777777777777778,
              "#fb9f3a"
             ],
             [
              0.8888888888888888,
              "#fdca26"
             ],
             [
              1,
              "#f0f921"
             ]
            ],
            "type": "heatmap"
           }
          ],
          "heatmapgl": [
           {
            "colorbar": {
             "outlinewidth": 0,
             "ticks": ""
            },
            "colorscale": [
             [
              0,
              "#0d0887"
             ],
             [
              0.1111111111111111,
              "#46039f"
             ],
             [
              0.2222222222222222,
              "#7201a8"
             ],
             [
              0.3333333333333333,
              "#9c179e"
             ],
             [
              0.4444444444444444,
              "#bd3786"
             ],
             [
              0.5555555555555556,
              "#d8576b"
             ],
             [
              0.6666666666666666,
              "#ed7953"
             ],
             [
              0.7777777777777778,
              "#fb9f3a"
             ],
             [
              0.8888888888888888,
              "#fdca26"
             ],
             [
              1,
              "#f0f921"
             ]
            ],
            "type": "heatmapgl"
           }
          ],
          "histogram": [
           {
            "marker": {
             "pattern": {
              "fillmode": "overlay",
              "size": 10,
              "solidity": 0.2
             }
            },
            "type": "histogram"
           }
          ],
          "histogram2d": [
           {
            "colorbar": {
             "outlinewidth": 0,
             "ticks": ""
            },
            "colorscale": [
             [
              0,
              "#0d0887"
             ],
             [
              0.1111111111111111,
              "#46039f"
             ],
             [
              0.2222222222222222,
              "#7201a8"
             ],
             [
              0.3333333333333333,
              "#9c179e"
             ],
             [
              0.4444444444444444,
              "#bd3786"
             ],
             [
              0.5555555555555556,
              "#d8576b"
             ],
             [
              0.6666666666666666,
              "#ed7953"
             ],
             [
              0.7777777777777778,
              "#fb9f3a"
             ],
             [
              0.8888888888888888,
              "#fdca26"
             ],
             [
              1,
              "#f0f921"
             ]
            ],
            "type": "histogram2d"
           }
          ],
          "histogram2dcontour": [
           {
            "colorbar": {
             "outlinewidth": 0,
             "ticks": ""
            },
            "colorscale": [
             [
              0,
              "#0d0887"
             ],
             [
              0.1111111111111111,
              "#46039f"
             ],
             [
              0.2222222222222222,
              "#7201a8"
             ],
             [
              0.3333333333333333,
              "#9c179e"
             ],
             [
              0.4444444444444444,
              "#bd3786"
             ],
             [
              0.5555555555555556,
              "#d8576b"
             ],
             [
              0.6666666666666666,
              "#ed7953"
             ],
             [
              0.7777777777777778,
              "#fb9f3a"
             ],
             [
              0.8888888888888888,
              "#fdca26"
             ],
             [
              1,
              "#f0f921"
             ]
            ],
            "type": "histogram2dcontour"
           }
          ],
          "mesh3d": [
           {
            "colorbar": {
             "outlinewidth": 0,
             "ticks": ""
            },
            "type": "mesh3d"
           }
          ],
          "parcoords": [
           {
            "line": {
             "colorbar": {
              "outlinewidth": 0,
              "ticks": ""
             }
            },
            "type": "parcoords"
           }
          ],
          "pie": [
           {
            "automargin": true,
            "type": "pie"
           }
          ],
          "scatter": [
           {
            "fillpattern": {
             "fillmode": "overlay",
             "size": 10,
             "solidity": 0.2
            },
            "type": "scatter"
           }
          ],
          "scatter3d": [
           {
            "line": {
             "colorbar": {
              "outlinewidth": 0,
              "ticks": ""
             }
            },
            "marker": {
             "colorbar": {
              "outlinewidth": 0,
              "ticks": ""
             }
            },
            "type": "scatter3d"
           }
          ],
          "scattercarpet": [
           {
            "marker": {
             "colorbar": {
              "outlinewidth": 0,
              "ticks": ""
             }
            },
            "type": "scattercarpet"
           }
          ],
          "scattergeo": [
           {
            "marker": {
             "colorbar": {
              "outlinewidth": 0,
              "ticks": ""
             }
            },
            "type": "scattergeo"
           }
          ],
          "scattergl": [
           {
            "marker": {
             "colorbar": {
              "outlinewidth": 0,
              "ticks": ""
             }
            },
            "type": "scattergl"
           }
          ],
          "scattermapbox": [
           {
            "marker": {
             "colorbar": {
              "outlinewidth": 0,
              "ticks": ""
             }
            },
            "type": "scattermapbox"
           }
          ],
          "scatterpolar": [
           {
            "marker": {
             "colorbar": {
              "outlinewidth": 0,
              "ticks": ""
             }
            },
            "type": "scatterpolar"
           }
          ],
          "scatterpolargl": [
           {
            "marker": {
             "colorbar": {
              "outlinewidth": 0,
              "ticks": ""
             }
            },
            "type": "scatterpolargl"
           }
          ],
          "scatterternary": [
           {
            "marker": {
             "colorbar": {
              "outlinewidth": 0,
              "ticks": ""
             }
            },
            "type": "scatterternary"
           }
          ],
          "surface": [
           {
            "colorbar": {
             "outlinewidth": 0,
             "ticks": ""
            },
            "colorscale": [
             [
              0,
              "#0d0887"
             ],
             [
              0.1111111111111111,
              "#46039f"
             ],
             [
              0.2222222222222222,
              "#7201a8"
             ],
             [
              0.3333333333333333,
              "#9c179e"
             ],
             [
              0.4444444444444444,
              "#bd3786"
             ],
             [
              0.5555555555555556,
              "#d8576b"
             ],
             [
              0.6666666666666666,
              "#ed7953"
             ],
             [
              0.7777777777777778,
              "#fb9f3a"
             ],
             [
              0.8888888888888888,
              "#fdca26"
             ],
             [
              1,
              "#f0f921"
             ]
            ],
            "type": "surface"
           }
          ],
          "table": [
           {
            "cells": {
             "fill": {
              "color": "#EBF0F8"
             },
             "line": {
              "color": "white"
             }
            },
            "header": {
             "fill": {
              "color": "#C8D4E3"
             },
             "line": {
              "color": "white"
             }
            },
            "type": "table"
           }
          ]
         },
         "layout": {
          "annotationdefaults": {
           "arrowcolor": "#2a3f5f",
           "arrowhead": 0,
           "arrowwidth": 1
          },
          "autotypenumbers": "strict",
          "coloraxis": {
           "colorbar": {
            "outlinewidth": 0,
            "ticks": ""
           }
          },
          "colorscale": {
           "diverging": [
            [
             0,
             "#8e0152"
            ],
            [
             0.1,
             "#c51b7d"
            ],
            [
             0.2,
             "#de77ae"
            ],
            [
             0.3,
             "#f1b6da"
            ],
            [
             0.4,
             "#fde0ef"
            ],
            [
             0.5,
             "#f7f7f7"
            ],
            [
             0.6,
             "#e6f5d0"
            ],
            [
             0.7,
             "#b8e186"
            ],
            [
             0.8,
             "#7fbc41"
            ],
            [
             0.9,
             "#4d9221"
            ],
            [
             1,
             "#276419"
            ]
           ],
           "sequential": [
            [
             0,
             "#0d0887"
            ],
            [
             0.1111111111111111,
             "#46039f"
            ],
            [
             0.2222222222222222,
             "#7201a8"
            ],
            [
             0.3333333333333333,
             "#9c179e"
            ],
            [
             0.4444444444444444,
             "#bd3786"
            ],
            [
             0.5555555555555556,
             "#d8576b"
            ],
            [
             0.6666666666666666,
             "#ed7953"
            ],
            [
             0.7777777777777778,
             "#fb9f3a"
            ],
            [
             0.8888888888888888,
             "#fdca26"
            ],
            [
             1,
             "#f0f921"
            ]
           ],
           "sequentialminus": [
            [
             0,
             "#0d0887"
            ],
            [
             0.1111111111111111,
             "#46039f"
            ],
            [
             0.2222222222222222,
             "#7201a8"
            ],
            [
             0.3333333333333333,
             "#9c179e"
            ],
            [
             0.4444444444444444,
             "#bd3786"
            ],
            [
             0.5555555555555556,
             "#d8576b"
            ],
            [
             0.6666666666666666,
             "#ed7953"
            ],
            [
             0.7777777777777778,
             "#fb9f3a"
            ],
            [
             0.8888888888888888,
             "#fdca26"
            ],
            [
             1,
             "#f0f921"
            ]
           ]
          },
          "colorway": [
           "#636efa",
           "#EF553B",
           "#00cc96",
           "#ab63fa",
           "#FFA15A",
           "#19d3f3",
           "#FF6692",
           "#B6E880",
           "#FF97FF",
           "#FECB52"
          ],
          "font": {
           "color": "#2a3f5f"
          },
          "geo": {
           "bgcolor": "white",
           "lakecolor": "white",
           "landcolor": "#E5ECF6",
           "showlakes": true,
           "showland": true,
           "subunitcolor": "white"
          },
          "hoverlabel": {
           "align": "left"
          },
          "hovermode": "closest",
          "mapbox": {
           "style": "light"
          },
          "paper_bgcolor": "white",
          "plot_bgcolor": "#E5ECF6",
          "polar": {
           "angularaxis": {
            "gridcolor": "white",
            "linecolor": "white",
            "ticks": ""
           },
           "bgcolor": "#E5ECF6",
           "radialaxis": {
            "gridcolor": "white",
            "linecolor": "white",
            "ticks": ""
           }
          },
          "scene": {
           "xaxis": {
            "backgroundcolor": "#E5ECF6",
            "gridcolor": "white",
            "gridwidth": 2,
            "linecolor": "white",
            "showbackground": true,
            "ticks": "",
            "zerolinecolor": "white"
           },
           "yaxis": {
            "backgroundcolor": "#E5ECF6",
            "gridcolor": "white",
            "gridwidth": 2,
            "linecolor": "white",
            "showbackground": true,
            "ticks": "",
            "zerolinecolor": "white"
           },
           "zaxis": {
            "backgroundcolor": "#E5ECF6",
            "gridcolor": "white",
            "gridwidth": 2,
            "linecolor": "white",
            "showbackground": true,
            "ticks": "",
            "zerolinecolor": "white"
           }
          },
          "shapedefaults": {
           "line": {
            "color": "#2a3f5f"
           }
          },
          "ternary": {
           "aaxis": {
            "gridcolor": "white",
            "linecolor": "white",
            "ticks": ""
           },
           "baxis": {
            "gridcolor": "white",
            "linecolor": "white",
            "ticks": ""
           },
           "bgcolor": "#E5ECF6",
           "caxis": {
            "gridcolor": "white",
            "linecolor": "white",
            "ticks": ""
           }
          },
          "title": {
           "x": 0.05
          },
          "xaxis": {
           "automargin": true,
           "gridcolor": "white",
           "linecolor": "white",
           "ticks": "",
           "title": {
            "standoff": 15
           },
           "zerolinecolor": "white",
           "zerolinewidth": 2
          },
          "yaxis": {
           "automargin": true,
           "gridcolor": "white",
           "linecolor": "white",
           "ticks": "",
           "title": {
            "standoff": 15
           },
           "zerolinecolor": "white",
           "zerolinewidth": 2
          }
         }
        },
        "title": {
         "text": "Tumour. 4K top varied vs All expressed."
        },
        "xaxis": {
         "anchor": "y",
         "domain": [
          0,
          0.98
         ],
         "title": {
          "text": "Burden"
         }
        },
        "xaxis2": {
         "anchor": "y2",
         "domain": [
          0,
          0.98
         ],
         "matches": "x",
         "showticklabels": false
        },
        "yaxis": {
         "anchor": "x",
         "domain": [
          0,
          0.485
         ],
         "title": {
          "text": "Num"
         }
        },
        "yaxis2": {
         "anchor": "x2",
         "domain": [
          0.515,
          1
         ],
         "matches": "y",
         "title": {
          "text": "Num"
         }
        }
       }
      }
     },
     "metadata": {},
     "output_type": "display_data"
    }
   ],
   "source": [
    "fig = gh.plot_mut_rep(all_df, title=\"Tumour. 4K top varied vs All expressed.\")\n",
    "fig.show()\n",
    "# save_fig(name=\"MutTF_representation_{}\".format(\"4K-all\"), fig=fig, base_path=figures_path, width=1400, height=700)"
   ]
  },
  {
   "cell_type": "markdown",
   "metadata": {},
   "source": [
    "# TF 50"
   ]
  },
  {
   "cell_type": "markdown",
   "metadata": {},
   "source": [
    "## Median values for each community"
   ]
  },
  {
   "cell_type": "code",
   "execution_count": null,
   "metadata": {},
   "outputs": [],
   "source": [
    "%autoreload 2\n",
    "std_norm3_comp_tf50 = NetworkComp(tum, 4, \"standard_4K_50TF\", \"norm3_4K_50TF\")\n",
    "std_norm3_comp_tf50.diff_in_com()\n",
    "display(std_norm3_comp_tf50.sankey_plot())\n",
    "\n",
    "if 0:\n",
    "    comp_dict = std_norm3_comp_tf50.comp_ge_comm()\n",
    "    for key, df in comp_dict.items():\n",
    "        fig = px.box(df, x=\"Comm\", y=\"Median\", color=\"Comm\", title=\"Tum. Median values in communities for {}\".format(key), points=\"all\")\n",
    "        fig.show()\n",
    "\n",
    "    display(std_norm3_comp_tf50.sankey_plot())\n",
    "    display(std_norm3_comp_tf50.com_mut_distrib(include_source=True))\n",
    "    display(std_norm3_comp_tf50.membership_change(include_source=True))"
   ]
  },
  {
   "cell_type": "markdown",
   "metadata": {},
   "source": [
    "## Mutation evolution\n"
   ]
  },
  {
   "cell_type": "code",
   "execution_count": null,
   "metadata": {},
   "outputs": [],
   "source": [
    "if 0:\n",
    "    dmy_df = std_norm3_comp_tf50.comb_mut_stats(direction=\"Target\")\n",
    "    display(std_norm3_comp_tf50.plot_mut_evo(dmy_df, direction=\"Target\"))\n",
    "\n",
    "    dmy_df = std_norm3_comp_tf50.comb_mut_stats(direction=\"Source\")\n",
    "    std_norm3_comp_tf50.plot_mut_evo(dmy_df, direction=\"Source\")"
   ]
  },
  {
   "cell_type": "markdown",
   "metadata": {},
   "source": [
    "## Clustering"
   ]
  },
  {
   "cell_type": "code",
   "execution_count": null,
   "metadata": {},
   "outputs": [],
   "source": [
    "tf = 50\n",
    "comb_std, _, _ = gh.run_clusters(tum.exps[\"standard_4K_{}TF\".format(tf)], label=\"std_tf{}\".format(tf))\n",
    "comb_norm3, _, _ = gh.run_clusters(tum.exps[\"norm3_4K_{}TF\".format(tf)], label=\"norm3_tf{}\".format(tf))\n",
    "comb_norm3.drop(columns=[\"PC_1\", \"PC_2\"], inplace=True)\n",
    "comb_beta, _, _ = gh.run_clusters(tum.exps[\"beta_4K_{}TF\".format(tf)], label=\"beta_tf{}\".format(tf))\n",
    "comb_beta.drop(columns=[\"PC_1\", \"PC_2\"], inplace=True)\n",
    "\n",
    "sel_exp = tum.exps[\"standard_4K_{}TF\".format(tf)]\n",
    "comb_tf50 = pd.concat([comb_std, comb_norm3, comb_beta, vu_output], axis=1).dropna()"
   ]
  },
  {
   "cell_type": "code",
   "execution_count": null,
   "metadata": {},
   "outputs": [],
   "source": [
    "num = 6\n",
    "cluster_model = \"RawKMeans\"\n",
    "reorder_cols = [\n",
    "    \"KMeans_labels_5\",\n",
    "    \"{}_CS_{}_std_tf{}\".format(cluster_model, num, tf),\n",
    "    \"{}_CS_{}_norm3_tf{}\".format(cluster_model, num, tf),\n",
    "    \"{}_CS_{}_beta_tf{}\".format(cluster_model, num, tf),\n",
    "]\n",
    "# sky.main(df=comb_tf50, reorder_cols=reorder_cols, title=\"Best for {}. Comp between {} \".format(sel_exp.type, \", \".join(reorder_cols)))"
   ]
  },
  {
   "cell_type": "markdown",
   "metadata": {},
   "source": [
    "# TF 10\n",
    "\n",
    "Experiments with lower numbers of edges per TF"
   ]
  },
  {
   "cell_type": "markdown",
   "metadata": {},
   "source": [
    "## Std vs Norm3"
   ]
  },
  {
   "cell_type": "code",
   "execution_count": null,
   "metadata": {},
   "outputs": [],
   "source": [
    "%autoreload 2\n",
    "std_norm3_comp_tf = NetworkComp(tum, 4, \"standard_4K_10TF\", \"norm3_4K_10TF\")\n",
    "std_norm3_comp_tf.diff_in_com()\n",
    "\n",
    "show_figures = True\n",
    "\n",
    "if show_figures:\n",
    "    comp_dict = std_norm3_comp_tf.comp_ge_comm()\n",
    "    for key, df in comp_dict.items():\n",
    "        fig = px.box(df, x=\"Comm\", y=\"Median\", color=\"Comm\", title=\"Tum Median values in communities for {}\".format(key), points=\"all\")\n",
    "        # fig.show()\n",
    "\n",
    "    # display(std_norm3_comp_tf.sankey_plot())\n",
    "    display(std_norm3_comp_tf.com_mut_distrib(include_source=True, binarySource=True))\n",
    "    # display(std_norm3_comp_tf.membership_change(include_source=False))\n",
    "\n",
    "\n",
    "if show_figures:\n",
    "    dmy_df, meta_norm3 = std_norm3_comp_tf.comb_mut_stats(direction=\"Target\")\n",
    "    # display(std_norm3_comp_tf10.plot_mut_evo(dmy_df, direction=\"Target\"))\n",
    "    display(NetworkComp.plot_corr_matrix_coms(meta_norm3, height=700, title=\"Tum derived. Corr matrix for standard\", hide_up=True))\n",
    "\n",
    "    dmy_df, meta_std = std_norm3_comp_tf.comb_mut_stats(direction=\"Source\")\n",
    "    # display(std_norm3_comp_tf10.plot_mut_evo(dmy_df, direction=\"Source\"))\n",
    "    display(NetworkComp.plot_corr_matrix_coms(meta_std, height=700, title=\"Tum derived. Corr matrix for reward\", hide_up=True))"
   ]
  },
  {
   "cell_type": "code",
   "execution_count": null,
   "metadata": {},
   "outputs": [],
   "source": [
    "selModCon = tum.exps[\"norm3_4K_10TF\"].modCons\n",
    "for com in [16, 20, 21, 23]:\n",
    "    print(\"* Com = {}\".format(com))\n",
    "    print(selModCon[com].index.values)\n",
    "    # print(\"* Com_{} = {}\".format(com, \", \".join(selModCon[com].index.values)))"
   ]
  },
  {
   "cell_type": "markdown",
   "metadata": {},
   "source": [
    "### Mutation evolution"
   ]
  },
  {
   "cell_type": "code",
   "execution_count": null,
   "metadata": {},
   "outputs": [],
   "source": [
    "if 0:\n",
    "    dmy_df = std_norm3_comp_tf.comb_mut_stats(direction=\"Target\")\n",
    "    display(std_norm3_comp_tf.plot_mut_evo(dmy_df, direction=\"Target\"))\n",
    "\n",
    "    dmy_df = std_norm3_comp_tf.comb_mut_stats(direction=\"Source\")\n",
    "    display(std_norm3_comp_tf.plot_mut_evo(dmy_df, direction=\"Source\"))"
   ]
  },
  {
   "cell_type": "markdown",
   "metadata": {},
   "source": [
    "## Std vs beta"
   ]
  },
  {
   "cell_type": "code",
   "execution_count": null,
   "metadata": {},
   "outputs": [],
   "source": [
    "%autoreload 2\n",
    "std_beta_comp_tf = NetworkComp(tum, 4, \"standard_4K_10TF\", \"beta_4K_10TF\")\n",
    "std_beta_comp_tf.diff_in_com()\n",
    "\n",
    "show_figures = True\n",
    "if show_figures:\n",
    "    comp_dict = std_beta_comp_tf.comp_ge_comm()\n",
    "    for key, df in comp_dict.items():\n",
    "        fig = px.box(df, x=\"Comm\", y=\"Median\", color=\"Comm\", title=\"Tum Median values in communities for {}\".format(key), points=\"all\")\n",
    "        # fig.show()\n",
    "\n",
    "\n",
    "    # display(std_beta_comp_tf.sankey_plot())\n",
    "    display(std_beta_comp_tf.com_mut_distrib(include_source=True,  binarySource=True))\n",
    "    # display(std_beta_comp_tf.membership_change(include_source=False))\n",
    "\n",
    "\n",
    "if show_figures:\n",
    "    std_beta_comp_tf.comp_df = std_beta_comp_tf.comp_df.fillna(0)\n",
    "    dmy_df, meta_std = std_beta_comp_tf.comb_mut_stats(direction=\"Target\")\n",
    "    # display(std_norm3_comp_tf10.plot_mut_evo(dmy_df, direction=\"Target\"))\n",
    "    display(NetworkComp.plot_corr_matrix_coms(meta_std, height=700, title=\"Tum derived. Corr matrix for standard\", hide_up=True))\n",
    "\n",
    "    dmy_df, meta_beta = std_beta_comp_tf.comb_mut_stats(direction=\"Source\")\n",
    "    # display(std_norm3_comp_tf10.plot_mut_evo(dmy_df, direction=\"Source\"))\n",
    "    display(NetworkComp.plot_corr_matrix_coms(meta_beta, height=700, title=\"Tum derived. Corr matrix for beta\", hide_up=True))"
   ]
  },
  {
   "cell_type": "markdown",
   "metadata": {},
   "source": [
    "## Morpheus\n",
    "### Export"
   ]
  },
  {
   "cell_type": "code",
   "execution_count": null,
   "metadata": {},
   "outputs": [],
   "source": [
    "%autoreload 2 \n",
    "if 0:\n",
    "    no_genes = 100\n",
    "    for exp in tum.get_exps():\n",
    "        if \"beta2\" in exp.name or \"beta3\" in exp.name:\n",
    "            continue\n",
    "\n",
    "        sort_col = \"ModCon_{}\".format(exp.type)\n",
    "\n",
    "        exp.mevsMut, data = exp.get_mevs(exp.tpm_df, exp.modCons, sort_col=sort_col, num_genes=100)\n",
    "        exp.export_morpheus_mevs(vu_output, exp.name + \"_mut_100\", tum=True)"
   ]
  },
  {
   "cell_type": "markdown",
   "metadata": {},
   "source": [
    "### Import"
   ]
  },
  {
   "cell_type": "code",
   "execution_count": null,
   "metadata": {},
   "outputs": [],
   "source": [
    "def import_morpheus(path, col_name=\"PGCNA_cut\"):\n",
    "    df = pd.read_csv(path, sep=\"\\t\", skiprows=2, index_col=\"id\")\n",
    "    df.index.names = [\"Sample\"]\n",
    "    df = df.transpose().rename(columns={\"dendrogram_cut\": col_name})\n",
    "    return df"
   ]
  },
  {
   "cell_type": "code",
   "execution_count": null,
   "metadata": {},
   "outputs": [],
   "source": [
    "if 0:\n",
    "    m_path = \"{}/Stats/morpheus/10TF/cut_{}/\".format(tum.path, 6)\n",
    "\n",
    "    morpheus_std = import_morpheus(path=\"{}/{}_g{}.gct\".format(m_path, \"std\", 100), col_name=\"tum_std\")\n",
    "    morpheus_norm3 = import_morpheus(path=\"{}/{}_g{}.gct\".format(m_path, \"norm3\", 100), col_name=\"tum_norm3\")\n",
    "    morpheus_beta = import_morpheus(path=\"{}/{}_g{}.gct\".format(m_path, \"beta\", 100), col_name=\"tum_beta\")\n",
    "    dmy_df = pd.concat([morpheus_std[\"tum_std\"], morpheus_norm3[\"tum_norm3\"], morpheus_beta[\"tum_beta\"], vu_output], axis=1).dropna()\n",
    "    # dmy_df.drop(index=[\"dendrogram_cut\"], axis=1, inplace=True)\n",
    "    reorder_cols = [\n",
    "        \"KMeans_labels_5\",\n",
    "        \"TCGA408_classifier\",\n",
    "        \"tum_std\",\n",
    "        \"tum_norm3\",\n",
    "        \"tum_beta\",\n",
    "    ]\n",
    "    sky.main(df=dmy_df, reorder_cols=reorder_cols, title=\"Cut 7, Comparison between \" + \", \".join(reorder_cols))\n",
    "\n",
    "    sel_samples = dmy_df[dmy_df[\"TCGA\"] == \"Luminal_infiltrated\"].copy(deep=True)\n",
    "    sel_samples = dmy_df.copy(deep=True)\n",
    "    sel_samples[\"mut_count\"] = tcga_mutations_df.sum(axis=0)\n",
    "\n",
    "    px.histogram(sel_samples, x=\"TCGA408_classifier\", y=\"mut_count\")"
   ]
  },
  {
   "cell_type": "markdown",
   "metadata": {},
   "source": [
    "## Clustering methods\n",
    "\n",
    "Find the optimal clustering"
   ]
  },
  {
   "cell_type": "markdown",
   "metadata": {},
   "source": [
    "### Modifiers - best results\n",
    "\n",
    "* Standard\n",
    "  * Best results are given by clusters 4-6\n",
    "\n",
    "* Norm3\n",
    "  * When I run the experimnts with clustering methods: `[\"Birch\", \"RawKMeans\", \"GaussianMixture\", \"Ward\", \"SpectralClustering\", \"Avg\"]` and comparted the metrics the Kmeans 4-6 exhibited the best results\n",
    "* Beta"
   ]
  },
  {
   "cell_type": "code",
   "execution_count": null,
   "metadata": {},
   "outputs": [],
   "source": [
    "tf = 10\n",
    "comb_std, _ = gh.run_clusters(tum.exps[\"standard_4K_{}TF\".format(tf)], label=\"std_tf{}\".format(tf))\n",
    "comb_norm3, _ = gh.run_clusters(tum.exps[\"norm3_4K_{}TF\".format(tf)], label=\"norm3_tf{}\".format(tf), show_figs=False)\n",
    "comb_norm3.drop(columns=[\"PC_1\", \"PC_2\"], inplace=True)\n",
    "comb_beta, _ = gh.run_clusters(tum.exps[\"beta_4K_{}TF\".format(tf)], label=\"beta_tf{}\".format(tf))\n",
    "comb_beta.drop(columns=[\"PC_1\", \"PC_2\"], inplace=True)\n",
    "\n",
    "sel_exp = tum.exps[\"standard_4K_{}TF\".format(tf)]\n",
    "comb_tf10 = pd.concat([comb_std, comb_norm3, comb_beta, vu_output], axis=1).dropna()"
   ]
  },
  {
   "cell_type": "markdown",
   "metadata": {},
   "source": [
    "### Compare the best results between norm3 and standard\n",
    "\n",
    "On K-means comparisons:\n",
    " * From what I can see that there is no major difference when CS is set between 3-4, but from >5 there are large differences.\n",
    "\n",
    "Avg:\n",
    "* Can't make the difference at Basal split\n",
    "\n",
    "Spectral Clustering \n",
    "* It can only split the Basal after CS > 7\n",
    "* Apart from that it has a similar behaviour with Kmeans\n"
   ]
  },
  {
   "cell_type": "code",
   "execution_count": null,
   "metadata": {},
   "outputs": [],
   "source": [
    "num = 6\n",
    "cluster_model = \"RawKMeans\"\n",
    "reorder_cols = [\n",
    "    \"KMeans_labels_5\",\n",
    "    \"{}_CS_{}_std_tf{}\".format(cluster_model, num, tf),\n",
    "    \"{}_CS_{}_norm3_tf{}\".format(cluster_model, num, tf),\n",
    "    \"{}_CS_{}_beta_tf{}\".format(cluster_model, num, tf),\n",
    "]\n",
    "# sky.main(df=comb_tf10, reorder_cols=reorder_cols, title=\"Best for {}. Comp between {} \".format(sel_exp.type, \", \".join(reorder_cols)))\n",
    "\n",
    "# variations = [\"_\".join(col.split(\"_\")[:2]) for col in comb_std.columns]\n",
    "# set(variations)"
   ]
  },
  {
   "cell_type": "markdown",
   "metadata": {},
   "source": [
    "# TF 6"
   ]
  },
  {
   "cell_type": "markdown",
   "metadata": {},
   "source": [
    "## Comp\n",
    "\n",
    "### Norm3 and standard"
   ]
  },
  {
   "cell_type": "code",
   "execution_count": 8,
   "metadata": {},
   "outputs": [
    {
     "name": "stdout",
     "output_type": "stream",
     "text": [
      "norm3_4K_6TF has the following communities in addition to standard_4K_6TF: {2, 19, 21, 15}\n"
     ]
    }
   ],
   "source": [
    "%autoreload 2\n",
    "show_figures = False\n",
    "\n",
    "std_norm3_comp_tf10 = NetworkComp(tum, 4, \"standard_4K_6TF\", \"norm3_4K_6TF\")\n",
    "std_norm3_comp_tf10.diff_in_com()\n",
    "\n",
    "if 0:\n",
    "    comp_dict = std_norm3_comp_tf10.comp_ge_comm()\n",
    "    if False:\n",
    "        # TODO move this into NetworkComp\n",
    "        for key, df in comp_dict.items():\n",
    "            fig = px.box(df, x=\"Comm\", y=\"Median\", color=\"Comm\", title=\"Tum Median values in communities for {}\".format(key), points=\"all\")\n",
    "            fig.show()\n",
    "\n",
    "        display(std_norm3_comp_tf10.sankey_plot())\n",
    "        display(std_norm3_comp_tf10.com_mut_distrib(include_source=False))\n",
    "        display(std_norm3_comp_tf10.membership_change(include_source=False))\n",
    "\n",
    "if show_figures:\n",
    "    dmy_df, meta_norm3 = std_norm3_comp_tf10.comb_mut_stats(direction=\"Target\")\n",
    "    # display(std_norm3_comp_tf10.plot_mut_evo(dmy_df, direction=\"Target\"))\n",
    "    display(NetworkComp.plot_corr_matrix_coms(meta_norm3, height=700, title=\"Tum derived. Corr matrix for standard\", hide_up=True))\n",
    "\n",
    "    dmy_df, meta_std = std_norm3_comp_tf10.comb_mut_stats(direction=\"Source\")\n",
    "    # display(std_norm3_comp_tf10.plot_mut_evo(dmy_df, direction=\"Source\"))\n",
    "    display(NetworkComp.plot_corr_matrix_coms(meta_std, height=700, title=\"Tum derived. Corr matrix for reward\", hide_up=True))"
   ]
  },
  {
   "cell_type": "markdown",
   "metadata": {},
   "source": [
    "## Cluster methods"
   ]
  },
  {
   "cell_type": "code",
   "execution_count": 9,
   "metadata": {},
   "outputs": [
    {
     "name": "stdout",
     "output_type": "stream",
     "text": [
      "Variation per principal component [0.33414667 0.26297279] and the sum 59.71%\n",
      "Variation per principal component [0.34480403 0.26605455] and the sum 61.09%\n",
      "Variation per principal component [0.34948211 0.24750797] and the sum 59.70%\n"
     ]
    }
   ],
   "source": [
    "tf = 6\n",
    "comb_std, _, _ = gh.run_clusters(tum.exps[\"standard_4K_{}TF\".format(tf)], label=\"std_tf{}\".format(tf))\n",
    "comb_norm3, _, _ = gh.run_clusters(tum.exps[\"norm3_4K_{}TF\".format(tf)], label=\"norm3_tf{}\".format(tf), show_figs=False)\n",
    "comb_norm3.drop(columns=[\"PC_1\", \"PC_2\"], inplace=True)\n",
    "comb_beta, _, _ = gh.run_clusters(tum.exps[\"beta_4K_{}TF\".format(tf)], label=\"beta_tf{}\".format(tf))\n",
    "comb_beta.drop(columns=[\"PC_1\", \"PC_2\"], inplace=True)\n",
    "\n",
    "sel_exp = tum.exps[\"standard_4K_{}TF\".format(tf)]\n",
    "comb_tf6 = pd.concat([comb_std, comb_norm3, comb_beta, vu_output], axis=1).dropna()"
   ]
  },
  {
   "cell_type": "code",
   "execution_count": 10,
   "metadata": {},
   "outputs": [
    {
     "data": {
      "application/vnd.plotly.v1+json": {
       "config": {
        "plotlyServerURL": "https://plot.ly"
       },
       "data": [
        {
         "arrangement": "perpendicular",
         "link": {
          "color": "#bdbdbd",
          "source": [
           0,
           0,
           0,
           0,
           0,
           0,
           1,
           1,
           1,
           1,
           1,
           2,
           2,
           2,
           2,
           2,
           3,
           3,
           3,
           3,
           4,
           4,
           5,
           5,
           5,
           5,
           6,
           6,
           6,
           7,
           7,
           7,
           7,
           8,
           8,
           9,
           9,
           9,
           9,
           10,
           10,
           11,
           11,
           11,
           11,
           12,
           12,
           12,
           12,
           12,
           13,
           13,
           13,
           14,
           14,
           14,
           15,
           15,
           15,
           15,
           15,
           16,
           17,
           17,
           17,
           18,
           18,
           18,
           18,
           18,
           19,
           19,
           19,
           19,
           19,
           20,
           21,
           21,
           21,
           22,
           22,
           22,
           23,
           23,
           23,
           23
          ],
          "target": [
           6,
           7,
           8,
           9,
           10,
           11,
           7,
           8,
           9,
           10,
           11,
           7,
           8,
           9,
           10,
           11,
           7,
           8,
           9,
           10,
           6,
           8,
           6,
           7,
           9,
           11,
           12,
           13,
           15,
           12,
           13,
           14,
           15,
           14,
           15,
           12,
           14,
           15,
           16,
           16,
           17,
           12,
           13,
           15,
           17,
           18,
           19,
           20,
           21,
           22,
           18,
           20,
           21,
           18,
           19,
           22,
           18,
           19,
           20,
           21,
           22,
           22,
           18,
           21,
           23,
           24,
           25,
           26,
           27,
           29,
           24,
           25,
           26,
           27,
           28,
           24,
           24,
           28,
           29,
           25,
           26,
           27,
           24,
           25,
           26,
           29
          ],
          "value": [
           97,
           15,
           16,
           3,
           1,
           17,
           15,
           2,
           13,
           2,
           4,
           18,
           37,
           54,
           32,
           1,
           10,
           16,
           4,
           1,
           1,
           4,
           2,
           27,
           1,
           11,
           1,
           88,
           11,
           73,
           5,
           2,
           5,
           45,
           30,
           20,
           32,
           8,
           15,
           32,
           4,
           3,
           3,
           2,
           25,
           89,
           3,
           2,
           2,
           1,
           1,
           41,
           54,
           6,
           61,
           12,
           4,
           26,
           24,
           1,
           1,
           47,
           1,
           5,
           23,
           9,
           25,
           28,
           11,
           28,
           9,
           4,
           55,
           18,
           4,
           67,
           55,
           1,
           6,
           4,
           55,
           2,
           9,
           3,
           4,
           7
          ]
         },
         "node": {
          "color": [
           "rgb(229, 134, 6)",
           "rgb(229, 134, 6)",
           "rgb(229, 134, 6)",
           "rgb(229, 134, 6)",
           "rgb(229, 134, 6)",
           "rgb(229, 134, 6)",
           "rgb(93, 105, 177)",
           "rgb(93, 105, 177)",
           "rgb(93, 105, 177)",
           "rgb(93, 105, 177)",
           "rgb(93, 105, 177)",
           "rgb(93, 105, 177)",
           "rgb(82, 188, 163)",
           "rgb(82, 188, 163)",
           "rgb(82, 188, 163)",
           "rgb(82, 188, 163)",
           "rgb(82, 188, 163)",
           "rgb(82, 188, 163)",
           "rgb(153, 201, 69)",
           "rgb(153, 201, 69)",
           "rgb(153, 201, 69)",
           "rgb(153, 201, 69)",
           "rgb(153, 201, 69)",
           "rgb(153, 201, 69)",
           "rgb(204, 97, 176)",
           "rgb(204, 97, 176)",
           "rgb(204, 97, 176)",
           "rgb(204, 97, 176)",
           "rgb(204, 97, 176)",
           "rgb(204, 97, 176)"
          ],
          "label": [
           "Ba/Sq",
           "LumNS",
           "LumP",
           "LumU",
           "NE-like",
           "Stroma-rich",
           0,
           1,
           2,
           3,
           4,
           5,
           0,
           1,
           2,
           3,
           4,
           5,
           0,
           1,
           2,
           3,
           4,
           5,
           "Ba/Sq",
           "LumNS",
           "LumP",
           "LumU",
           "NE-like",
           "Stroma-rich"
          ],
          "line": {
           "color": "black",
           "width": 0.5
          },
          "pad": 15,
          "thickness": 20
         },
         "type": "sankey"
        }
       ],
       "layout": {
        "annotations": [
         {
          "align": "left",
          "font": {
           "color": "#003366",
           "size": 16
          },
          "showarrow": false,
          "text": "TCGA_2017_AM_remap",
          "x": 0,
          "xref": "x",
          "y": 1.07,
          "yref": "paper"
         },
         {
          "align": "left",
          "font": {
           "color": "#003366",
           "size": 16
          },
          "showarrow": false,
          "text": "RawKMeans_CS_6_std_tf6",
          "x": 1,
          "xref": "x",
          "y": 1.07,
          "yref": "paper"
         },
         {
          "align": "left",
          "font": {
           "color": "#003366",
           "size": 16
          },
          "showarrow": false,
          "text": "RawKMeans_CS_6_norm3_tf6",
          "x": 2,
          "xref": "x",
          "y": 1.07,
          "yref": "paper"
         },
         {
          "align": "left",
          "font": {
           "color": "#003366",
           "size": 16
          },
          "showarrow": false,
          "text": "RawKMeans_CS_6_beta_tf6",
          "x": 3,
          "xref": "x",
          "y": 1.07,
          "yref": "paper"
         },
         {
          "align": "left",
          "font": {
           "color": "#003366",
           "size": 16
          },
          "showarrow": false,
          "text": "2019_consensus_classifier",
          "x": 4,
          "xref": "x",
          "y": 1.07,
          "yref": "paper"
         }
        ],
        "font": {
         "color": "#003366",
         "size": 16
        },
        "height": 600,
        "plot_bgcolor": "rgba(0,0,0,0)",
        "template": {
         "data": {
          "bar": [
           {
            "error_x": {
             "color": "#2a3f5f"
            },
            "error_y": {
             "color": "#2a3f5f"
            },
            "marker": {
             "line": {
              "color": "#E5ECF6",
              "width": 0.5
             },
             "pattern": {
              "fillmode": "overlay",
              "size": 10,
              "solidity": 0.2
             }
            },
            "type": "bar"
           }
          ],
          "barpolar": [
           {
            "marker": {
             "line": {
              "color": "#E5ECF6",
              "width": 0.5
             },
             "pattern": {
              "fillmode": "overlay",
              "size": 10,
              "solidity": 0.2
             }
            },
            "type": "barpolar"
           }
          ],
          "carpet": [
           {
            "aaxis": {
             "endlinecolor": "#2a3f5f",
             "gridcolor": "white",
             "linecolor": "white",
             "minorgridcolor": "white",
             "startlinecolor": "#2a3f5f"
            },
            "baxis": {
             "endlinecolor": "#2a3f5f",
             "gridcolor": "white",
             "linecolor": "white",
             "minorgridcolor": "white",
             "startlinecolor": "#2a3f5f"
            },
            "type": "carpet"
           }
          ],
          "choropleth": [
           {
            "colorbar": {
             "outlinewidth": 0,
             "ticks": ""
            },
            "type": "choropleth"
           }
          ],
          "contour": [
           {
            "colorbar": {
             "outlinewidth": 0,
             "ticks": ""
            },
            "colorscale": [
             [
              0,
              "#0d0887"
             ],
             [
              0.1111111111111111,
              "#46039f"
             ],
             [
              0.2222222222222222,
              "#7201a8"
             ],
             [
              0.3333333333333333,
              "#9c179e"
             ],
             [
              0.4444444444444444,
              "#bd3786"
             ],
             [
              0.5555555555555556,
              "#d8576b"
             ],
             [
              0.6666666666666666,
              "#ed7953"
             ],
             [
              0.7777777777777778,
              "#fb9f3a"
             ],
             [
              0.8888888888888888,
              "#fdca26"
             ],
             [
              1,
              "#f0f921"
             ]
            ],
            "type": "contour"
           }
          ],
          "contourcarpet": [
           {
            "colorbar": {
             "outlinewidth": 0,
             "ticks": ""
            },
            "type": "contourcarpet"
           }
          ],
          "heatmap": [
           {
            "colorbar": {
             "outlinewidth": 0,
             "ticks": ""
            },
            "colorscale": [
             [
              0,
              "#0d0887"
             ],
             [
              0.1111111111111111,
              "#46039f"
             ],
             [
              0.2222222222222222,
              "#7201a8"
             ],
             [
              0.3333333333333333,
              "#9c179e"
             ],
             [
              0.4444444444444444,
              "#bd3786"
             ],
             [
              0.5555555555555556,
              "#d8576b"
             ],
             [
              0.6666666666666666,
              "#ed7953"
             ],
             [
              0.7777777777777778,
              "#fb9f3a"
             ],
             [
              0.8888888888888888,
              "#fdca26"
             ],
             [
              1,
              "#f0f921"
             ]
            ],
            "type": "heatmap"
           }
          ],
          "heatmapgl": [
           {
            "colorbar": {
             "outlinewidth": 0,
             "ticks": ""
            },
            "colorscale": [
             [
              0,
              "#0d0887"
             ],
             [
              0.1111111111111111,
              "#46039f"
             ],
             [
              0.2222222222222222,
              "#7201a8"
             ],
             [
              0.3333333333333333,
              "#9c179e"
             ],
             [
              0.4444444444444444,
              "#bd3786"
             ],
             [
              0.5555555555555556,
              "#d8576b"
             ],
             [
              0.6666666666666666,
              "#ed7953"
             ],
             [
              0.7777777777777778,
              "#fb9f3a"
             ],
             [
              0.8888888888888888,
              "#fdca26"
             ],
             [
              1,
              "#f0f921"
             ]
            ],
            "type": "heatmapgl"
           }
          ],
          "histogram": [
           {
            "marker": {
             "pattern": {
              "fillmode": "overlay",
              "size": 10,
              "solidity": 0.2
             }
            },
            "type": "histogram"
           }
          ],
          "histogram2d": [
           {
            "colorbar": {
             "outlinewidth": 0,
             "ticks": ""
            },
            "colorscale": [
             [
              0,
              "#0d0887"
             ],
             [
              0.1111111111111111,
              "#46039f"
             ],
             [
              0.2222222222222222,
              "#7201a8"
             ],
             [
              0.3333333333333333,
              "#9c179e"
             ],
             [
              0.4444444444444444,
              "#bd3786"
             ],
             [
              0.5555555555555556,
              "#d8576b"
             ],
             [
              0.6666666666666666,
              "#ed7953"
             ],
             [
              0.7777777777777778,
              "#fb9f3a"
             ],
             [
              0.8888888888888888,
              "#fdca26"
             ],
             [
              1,
              "#f0f921"
             ]
            ],
            "type": "histogram2d"
           }
          ],
          "histogram2dcontour": [
           {
            "colorbar": {
             "outlinewidth": 0,
             "ticks": ""
            },
            "colorscale": [
             [
              0,
              "#0d0887"
             ],
             [
              0.1111111111111111,
              "#46039f"
             ],
             [
              0.2222222222222222,
              "#7201a8"
             ],
             [
              0.3333333333333333,
              "#9c179e"
             ],
             [
              0.4444444444444444,
              "#bd3786"
             ],
             [
              0.5555555555555556,
              "#d8576b"
             ],
             [
              0.6666666666666666,
              "#ed7953"
             ],
             [
              0.7777777777777778,
              "#fb9f3a"
             ],
             [
              0.8888888888888888,
              "#fdca26"
             ],
             [
              1,
              "#f0f921"
             ]
            ],
            "type": "histogram2dcontour"
           }
          ],
          "mesh3d": [
           {
            "colorbar": {
             "outlinewidth": 0,
             "ticks": ""
            },
            "type": "mesh3d"
           }
          ],
          "parcoords": [
           {
            "line": {
             "colorbar": {
              "outlinewidth": 0,
              "ticks": ""
             }
            },
            "type": "parcoords"
           }
          ],
          "pie": [
           {
            "automargin": true,
            "type": "pie"
           }
          ],
          "scatter": [
           {
            "fillpattern": {
             "fillmode": "overlay",
             "size": 10,
             "solidity": 0.2
            },
            "type": "scatter"
           }
          ],
          "scatter3d": [
           {
            "line": {
             "colorbar": {
              "outlinewidth": 0,
              "ticks": ""
             }
            },
            "marker": {
             "colorbar": {
              "outlinewidth": 0,
              "ticks": ""
             }
            },
            "type": "scatter3d"
           }
          ],
          "scattercarpet": [
           {
            "marker": {
             "colorbar": {
              "outlinewidth": 0,
              "ticks": ""
             }
            },
            "type": "scattercarpet"
           }
          ],
          "scattergeo": [
           {
            "marker": {
             "colorbar": {
              "outlinewidth": 0,
              "ticks": ""
             }
            },
            "type": "scattergeo"
           }
          ],
          "scattergl": [
           {
            "marker": {
             "colorbar": {
              "outlinewidth": 0,
              "ticks": ""
             }
            },
            "type": "scattergl"
           }
          ],
          "scattermapbox": [
           {
            "marker": {
             "colorbar": {
              "outlinewidth": 0,
              "ticks": ""
             }
            },
            "type": "scattermapbox"
           }
          ],
          "scatterpolar": [
           {
            "marker": {
             "colorbar": {
              "outlinewidth": 0,
              "ticks": ""
             }
            },
            "type": "scatterpolar"
           }
          ],
          "scatterpolargl": [
           {
            "marker": {
             "colorbar": {
              "outlinewidth": 0,
              "ticks": ""
             }
            },
            "type": "scatterpolargl"
           }
          ],
          "scatterternary": [
           {
            "marker": {
             "colorbar": {
              "outlinewidth": 0,
              "ticks": ""
             }
            },
            "type": "scatterternary"
           }
          ],
          "surface": [
           {
            "colorbar": {
             "outlinewidth": 0,
             "ticks": ""
            },
            "colorscale": [
             [
              0,
              "#0d0887"
             ],
             [
              0.1111111111111111,
              "#46039f"
             ],
             [
              0.2222222222222222,
              "#7201a8"
             ],
             [
              0.3333333333333333,
              "#9c179e"
             ],
             [
              0.4444444444444444,
              "#bd3786"
             ],
             [
              0.5555555555555556,
              "#d8576b"
             ],
             [
              0.6666666666666666,
              "#ed7953"
             ],
             [
              0.7777777777777778,
              "#fb9f3a"
             ],
             [
              0.8888888888888888,
              "#fdca26"
             ],
             [
              1,
              "#f0f921"
             ]
            ],
            "type": "surface"
           }
          ],
          "table": [
           {
            "cells": {
             "fill": {
              "color": "#EBF0F8"
             },
             "line": {
              "color": "white"
             }
            },
            "header": {
             "fill": {
              "color": "#C8D4E3"
             },
             "line": {
              "color": "white"
             }
            },
            "type": "table"
           }
          ]
         },
         "layout": {
          "annotationdefaults": {
           "arrowcolor": "#2a3f5f",
           "arrowhead": 0,
           "arrowwidth": 1
          },
          "autotypenumbers": "strict",
          "coloraxis": {
           "colorbar": {
            "outlinewidth": 0,
            "ticks": ""
           }
          },
          "colorscale": {
           "diverging": [
            [
             0,
             "#8e0152"
            ],
            [
             0.1,
             "#c51b7d"
            ],
            [
             0.2,
             "#de77ae"
            ],
            [
             0.3,
             "#f1b6da"
            ],
            [
             0.4,
             "#fde0ef"
            ],
            [
             0.5,
             "#f7f7f7"
            ],
            [
             0.6,
             "#e6f5d0"
            ],
            [
             0.7,
             "#b8e186"
            ],
            [
             0.8,
             "#7fbc41"
            ],
            [
             0.9,
             "#4d9221"
            ],
            [
             1,
             "#276419"
            ]
           ],
           "sequential": [
            [
             0,
             "#0d0887"
            ],
            [
             0.1111111111111111,
             "#46039f"
            ],
            [
             0.2222222222222222,
             "#7201a8"
            ],
            [
             0.3333333333333333,
             "#9c179e"
            ],
            [
             0.4444444444444444,
             "#bd3786"
            ],
            [
             0.5555555555555556,
             "#d8576b"
            ],
            [
             0.6666666666666666,
             "#ed7953"
            ],
            [
             0.7777777777777778,
             "#fb9f3a"
            ],
            [
             0.8888888888888888,
             "#fdca26"
            ],
            [
             1,
             "#f0f921"
            ]
           ],
           "sequentialminus": [
            [
             0,
             "#0d0887"
            ],
            [
             0.1111111111111111,
             "#46039f"
            ],
            [
             0.2222222222222222,
             "#7201a8"
            ],
            [
             0.3333333333333333,
             "#9c179e"
            ],
            [
             0.4444444444444444,
             "#bd3786"
            ],
            [
             0.5555555555555556,
             "#d8576b"
            ],
            [
             0.6666666666666666,
             "#ed7953"
            ],
            [
             0.7777777777777778,
             "#fb9f3a"
            ],
            [
             0.8888888888888888,
             "#fdca26"
            ],
            [
             1,
             "#f0f921"
            ]
           ]
          },
          "colorway": [
           "#636efa",
           "#EF553B",
           "#00cc96",
           "#ab63fa",
           "#FFA15A",
           "#19d3f3",
           "#FF6692",
           "#B6E880",
           "#FF97FF",
           "#FECB52"
          ],
          "font": {
           "color": "#2a3f5f"
          },
          "geo": {
           "bgcolor": "white",
           "lakecolor": "white",
           "landcolor": "#E5ECF6",
           "showlakes": true,
           "showland": true,
           "subunitcolor": "white"
          },
          "hoverlabel": {
           "align": "left"
          },
          "hovermode": "closest",
          "mapbox": {
           "style": "light"
          },
          "paper_bgcolor": "white",
          "plot_bgcolor": "#E5ECF6",
          "polar": {
           "angularaxis": {
            "gridcolor": "white",
            "linecolor": "white",
            "ticks": ""
           },
           "bgcolor": "#E5ECF6",
           "radialaxis": {
            "gridcolor": "white",
            "linecolor": "white",
            "ticks": ""
           }
          },
          "scene": {
           "xaxis": {
            "backgroundcolor": "#E5ECF6",
            "gridcolor": "white",
            "gridwidth": 2,
            "linecolor": "white",
            "showbackground": true,
            "ticks": "",
            "zerolinecolor": "white"
           },
           "yaxis": {
            "backgroundcolor": "#E5ECF6",
            "gridcolor": "white",
            "gridwidth": 2,
            "linecolor": "white",
            "showbackground": true,
            "ticks": "",
            "zerolinecolor": "white"
           },
           "zaxis": {
            "backgroundcolor": "#E5ECF6",
            "gridcolor": "white",
            "gridwidth": 2,
            "linecolor": "white",
            "showbackground": true,
            "ticks": "",
            "zerolinecolor": "white"
           }
          },
          "shapedefaults": {
           "line": {
            "color": "#2a3f5f"
           }
          },
          "ternary": {
           "aaxis": {
            "gridcolor": "white",
            "linecolor": "white",
            "ticks": ""
           },
           "baxis": {
            "gridcolor": "white",
            "linecolor": "white",
            "ticks": ""
           },
           "bgcolor": "#E5ECF6",
           "caxis": {
            "gridcolor": "white",
            "linecolor": "white",
            "ticks": ""
           }
          },
          "title": {
           "x": 0.05
          },
          "xaxis": {
           "automargin": true,
           "gridcolor": "white",
           "linecolor": "white",
           "ticks": "",
           "title": {
            "standoff": 15
           },
           "zerolinecolor": "white",
           "zerolinewidth": 2
          },
          "yaxis": {
           "automargin": true,
           "gridcolor": "white",
           "linecolor": "white",
           "ticks": "",
           "title": {
            "standoff": 15
           },
           "zerolinecolor": "white",
           "zerolinewidth": 2
          }
         }
        },
        "title": {
         "text": "Best for standard_4K_6TF. Comp between TCGA_2017_AM_remap, RawKMeans_CS_6_std_tf6, RawKMeans_CS_6_norm3_tf6, RawKMeans_CS_6_beta_tf6, 2019_consensus_classifier "
        },
        "xaxis": {
         "showgrid": false,
         "visible": false,
         "zeroline": false
        },
        "yaxis": {
         "showgrid": false,
         "visible": false,
         "zeroline": false
        }
       }
      }
     },
     "metadata": {},
     "output_type": "display_data"
    }
   ],
   "source": [
    "num = 6\n",
    "cluster_model = \"RawKMeans\"\n",
    "reorder_cols = [\n",
    "    \"TCGA_2017_AM_remap\",\n",
    "    \"{}_CS_{}_std_tf{}\".format(cluster_model, num, tf),\n",
    "    \"{}_CS_{}_norm3_tf{}\".format(cluster_model, num, tf),\n",
    "    \"{}_CS_{}_beta_tf{}\".format(cluster_model, num, tf),\n",
    "    \"2019_consensus_classifier\",\n",
    "]\n",
    "sky.main(df=comb_tf6, reorder_cols=reorder_cols, title=\"Best for {}. Comp between {} \".format(sel_exp.type, \", \".join(reorder_cols)))"
   ]
  },
  {
   "cell_type": "markdown",
   "metadata": {},
   "source": [
    "## Modularity score and Sankey"
   ]
  },
  {
   "cell_type": "code",
   "execution_count": null,
   "metadata": {},
   "outputs": [],
   "source": [
    "tf, no_K, no_genes, cs_model = 6, 6, \"4K\", \"RawKMeans\"\n",
    "\n",
    "tum, sky_fig, cols = gh.prep_sankey_leiden(tum, vu_output=vu_output, tf=tf, no_K=no_K, no_genes=no_genes, chosen_cs_model=cs_model)\n",
    "leiden_sky = gh.plot_sankey_leiden(tum, sky_fig=sky_fig, rename_cols=cols, label=\"TF-{}\".format(tf), tf=str(tf))\n",
    "\n",
    "\n",
    "# fig.update_layout(height=1000)\n",
    "# save_fig(name=\"LeidenMetrics_Sankey_{}\".format(\"TF-6\"), fig=leiden_sky, base_path=figures_path, width=1400, height=1000)"
   ]
  },
  {
   "cell_type": "markdown",
   "metadata": {},
   "source": [
    "# TF 3"
   ]
  },
  {
   "cell_type": "markdown",
   "metadata": {},
   "source": [
    "## Cluster methods"
   ]
  },
  {
   "cell_type": "code",
   "execution_count": null,
   "metadata": {},
   "outputs": [],
   "source": [
    "tf = 3\n",
    "comb_std = gh.run_clusters(tum.exps[\"standard_4K_{}TF\".format(tf)], label=\"std_tf{}\".format(tf))\n",
    "comb_norm3 = gh.run_clusters(tum.exps[\"norm3_4K_{}TF\".format(tf)], label=\"norm3_tf{}\".format(tf))\n",
    "comb_norm3.drop(columns=[\"PC_1\", \"PC_2\"], inplace=True)\n",
    "comb_beta = gh.run_clusters(tum.exps[\"beta_4K_{}TF\".format(tf)], label=\"beta_tf{}\".format(tf))\n",
    "comb_beta.drop(columns=[\"PC_1\", \"PC_2\"], inplace=True)\n",
    "\n",
    "sel_exp = tum.exps[\"standard_4K_{}TF\".format(tf)]\n",
    "comb_tf3 = pd.concat([comb_std, comb_norm3, comb_beta, vu_output], axis=1).dropna()"
   ]
  },
  {
   "cell_type": "code",
   "execution_count": null,
   "metadata": {},
   "outputs": [],
   "source": [
    "num = 3\n",
    "cluster_model = \"RawKMeans\"\n",
    "reorder_cols = [\n",
    "    \"KMeans_labels_5\",\n",
    "    \"{}_CS_{}_std_tf{}\".format(cluster_model, num, tf),\n",
    "    \"{}_CS_{}_norm3_tf{}\".format(cluster_model, num, tf),\n",
    "    \"{}_CS_{}_beta_tf{}\".format(cluster_model, num, tf),\n",
    "]\n",
    "# sky.main(df=comb_tf3, reorder_cols=reorder_cols, title=\"Best for {}. Comp between {} \".format(sel_exp.type, \", \".join(reorder_cols)))"
   ]
  },
  {
   "cell_type": "markdown",
   "metadata": {},
   "source": [
    "# Clutering comp across TF experiments\n",
    "\n",
    "## Standard"
   ]
  },
  {
   "cell_type": "code",
   "execution_count": null,
   "metadata": {},
   "outputs": [],
   "source": [
    "num = 7\n",
    "comb_all_tfs = pd.concat([comb_tf3, comb_tf6.drop(columns=vu_output.columns), comb_tf10.drop(columns=vu_output.columns)], axis=1)\n",
    "reorder_cols = [\n",
    "    \"KMeans_labels_6\",\n",
    "    \"{}_CS_{}_std_tf{}\".format(cluster_model, num, 3),\n",
    "    \"{}_CS_{}_std_tf{}\".format(cluster_model, num, 6),\n",
    "    \"{}_CS_{}_std_tf{}\".format(cluster_model, num, 10),\n",
    "    \"RawKMeans_CS_6\",\n",
    "]\n",
    "# sky.main(df=comb_all_tfs, reorder_cols=reorder_cols, title=\"Best for {}. Comp between {} \".format(\"standard\", \", \".join(reorder_cols)))"
   ]
  },
  {
   "cell_type": "markdown",
   "metadata": {},
   "source": [
    "## Norm3"
   ]
  },
  {
   "cell_type": "code",
   "execution_count": null,
   "metadata": {},
   "outputs": [],
   "source": [
    "comb_all_tfs = pd.concat(\n",
    "    [comb_tf3, comb_tf6.drop(columns=vu_output.columns), comb_tf10.drop(columns=vu_output.columns), comb_tf50.drop(columns=vu_output.columns)], axis=1\n",
    ")\n",
    "\n",
    "reorder_cols = [\n",
    "    \"KMeans_labels_6\",\n",
    "    # \"{}_CS_{}_std_tf{}\".format(cluster_model, num, 6),\n",
    "    \"{}_CS_{}_norm3_tf{}\".format(cluster_model, num, 3),\n",
    "    \"{}_CS_{}_norm3_tf{}\".format(cluster_model, num, 6),\n",
    "    \"{}_CS_{}_norm3_tf{}\".format(cluster_model, num, 10),\n",
    "    \"RawKMeans_CS_6\",\n",
    "    # \"KMeans_labels_5\",\n",
    "    # \"{}_CS_{}_norm3_tf{}\".format(cluster_model, num, 50),\n",
    "]\n",
    "# sky.main(df=comb_all_tfs, reorder_cols=reorder_cols, title=\"Best for {}. Comp between {} \".format(\"Norm3\", \", \".join(reorder_cols)))"
   ]
  },
  {
   "cell_type": "markdown",
   "metadata": {},
   "source": [
    "## TF 10 norm3 and standard"
   ]
  },
  {
   "cell_type": "code",
   "execution_count": null,
   "metadata": {},
   "outputs": [],
   "source": [
    "comb_all_tfs = pd.concat([comb_tf6.drop(columns=vu_output.columns), comb_tf10, comb_tf50.drop(columns=vu_output.columns)], axis=1)\n",
    "num = 6\n",
    "cluster_model = \"RawKMeans\"\n",
    "reorder_cols = [\n",
    "    \"TCGA408_classifier\",\n",
    "    \"KMeans_labels_6\",\n",
    "    \"{}_CS_{}_norm3_tf{}\".format(cluster_model, num, 10),\n",
    "    \"{}_CS_{}_std_tf{}\".format(cluster_model, num, 10),\n",
    "    # \"RawKMeans_CS_6\",\n",
    "    # \"KMeans_labels_5\",\n",
    "    # \"{}_CS_{}_norm3_tf{}\".format(cluster_model, num, 50),\n",
    "]\n",
    "# for col in reorder_cols:\n",
    "#     comb_all_tfs[col] = comb_all_tfs[col].astype(str)\n",
    "title = \"Bio+Kmeans_5 - Network_Standard - Network_Reward - TCGA\"\n",
    "meta, fig = sky.main(df=comb_all_tfs, reorder_cols=reorder_cols, title=title, retMeta=True)\n",
    "fig.update_layout(height=700)\n",
    "fig.show()"
   ]
  },
  {
   "cell_type": "code",
   "execution_count": null,
   "metadata": {},
   "outputs": [],
   "source": [
    "# fig.update_layout(font=dict(size=16))\n",
    "# save_fig(name=\"Sankey_comp_NetworkVsStandard_num-{}_TF-{}\".format(num, 10), fig=fig, base_path=figures_path, width=1400, height=900)"
   ]
  },
  {
   "cell_type": "markdown",
   "metadata": {},
   "source": [
    "## Exploring Community enrichment for Basal 3 splits"
   ]
  },
  {
   "cell_type": "code",
   "execution_count": null,
   "metadata": {},
   "outputs": [],
   "source": [
    "transform_cols = [\"TCGA408_classifier\", \"consensus\", \"Lund2017.subtype\"]\n",
    "for col in transform_cols:\n",
    "    vu_output[col] = vu_output[col].astype(\"category\")\n",
    "    vu_output[col + \"_num\"] = vu_output[col].cat.codes"
   ]
  },
  {
   "cell_type": "code",
   "execution_count": null,
   "metadata": {},
   "outputs": [],
   "source": [
    "cluster_model = \"RawKMeans\"\n",
    "num = 6\n",
    "sel_exp = tum.exps[\"norm3_4K_10TF\"]\n",
    "sel_model = \"{}_CS_{}_norm3_tf{}\".format(cluster_model, num, 10)\n",
    "prep_df = comb_tf10.loc[comb_tf10[sel_model].isin([2.0, 5.0, 4.0])]  # select the inf enriched clusters\n",
    "\n",
    "sel_cols = [\"KMeans_labels_6\", sel_model]\n",
    "prep_df = prep_df[sel_cols]\n",
    "prep_df[\"KMeans_labels_6_num\"] = pd.factorize(prep_df[\"KMeans_labels_6\"])[0]\n",
    "prep_df.drop(columns=[\"KMeans_labels_6\"], inplace=True)\n",
    "\n",
    "prep_df = pd.concat(\n",
    "    [\n",
    "        prep_df,\n",
    "        sel_exp.mevsMut,\n",
    "    ],\n",
    "    axis=1,\n",
    ").dropna()\n",
    "\n",
    "\n",
    "mevs_name = \"mevs_{}.tsv\".format(\"Basal3_norm3\")\n",
    "prep_df.transpose().to_csv(\"{}stats/{}\".format(sel_exp.exps_path, mevs_name), sep=\"\\t\", index=True)"
   ]
  },
  {
   "cell_type": "code",
   "execution_count": null,
   "metadata": {},
   "outputs": [],
   "source": [
    "comb_norm3 = gh.run_clusters(tum.exps[\"norm3_4K_{}TF\".format(tf)], label=\"norm3_tf{}\".format(tf))"
   ]
  },
  {
   "cell_type": "code",
   "execution_count": null,
   "metadata": {},
   "outputs": [],
   "source": [
    "dmy_df = comb_tf10.loc[comb_tf10[sel_model].isin([2.0, 5.0, 4.0])]  # select the inf enriched clusters\n",
    "dmy_df = pd.concat([dmy_df[sel_model], sel_exp.mevsMut], axis=1).dropna()\n",
    "\n",
    "dmy_df = dmy_df.loc[dmy_df[sel_model] == 2.0][dmy_df.columns[1:]]\n",
    "top_coms = {}\n",
    "num_top = 10\n",
    "cmn_coms = set()\n",
    "for idx, value in dmy_df.iterrows():\n",
    "    cmn_comns = set(value.sort_values(ascending=False)[:num_top].index.values) & set(cmn_coms)"
   ]
  },
  {
   "cell_type": "code",
   "execution_count": null,
   "metadata": {},
   "outputs": [],
   "source": [
    "# prep_df.loc[prep_df[sel_model]==4.0, sel_model] = 7\n",
    "# prep_df.loc[prep_df[sel_model]==5.0, sel_model] = 4.0\n",
    "# prep_df.loc[prep_df[sel_model]==7.0, sel_model] = 5"
   ]
  },
  {
   "cell_type": "code",
   "execution_count": null,
   "metadata": {},
   "outputs": [],
   "source": [
    "# sky.main(prep_df, reorder_cols=[\"KMeans_labels_6\", sel_model], title=\"Com\")"
   ]
  },
  {
   "cell_type": "markdown",
   "metadata": {},
   "source": [
    "### Estimate score"
   ]
  },
  {
   "cell_type": "code",
   "execution_count": null,
   "metadata": {},
   "outputs": [],
   "source": [
    "cluster = \"{}_CS_{}_norm3_tf{}\".format(cluster_model, num, 10)\n",
    "comb_all_tfs[cluster] = comb_all_tfs[cluster].astype(str)\n",
    "# comb_all_tfs.loc[((comb_all_tfs[\"KMeans_labels_6\"] == \"High IFNG\") & (comb_all_tfs[cluster] == \"2.0\")), cluster ]  = \"inf\"\n",
    "fig1 = cs.plot_meta_scores(comb_all_tfs, y_axis=\"IFNG_score\", classification=cluster, size=\"infiltration_score\")\n",
    "\n",
    "fig1.update_layout(\n",
    "    legend=dict(\n",
    "        orientation=\"v\",\n",
    "        title=\"Network_KMeans6\",\n",
    "        yanchor=\"middle\",\n",
    "        # y=0.74,\n",
    "        xanchor=\"right\",\n",
    "        # x=0.13,\n",
    "        bgcolor=\"rgba(0,0,0,0)\",\n",
    "    ),\n",
    "    height=500,\n",
    ")\n",
    "# meta, fig = sky.main(df=comb_all_tfs, reorder_cols=reorder_cols, title=title, retMeta=True)\n",
    "# fig.show()"
   ]
  },
  {
   "cell_type": "markdown",
   "metadata": {},
   "source": [
    "# Dendogram"
   ]
  },
  {
   "cell_type": "code",
   "execution_count": null,
   "metadata": {},
   "outputs": [],
   "source": [
    "import dash_bio\n",
    "\n",
    "if 0:\n",
    "    mevs_t = sel_exp.mevsMut.T\n",
    "    fig, clusters = dash_bio.Clustergram(\n",
    "        data=mevs_t,\n",
    "        column_labels=list(mevs_t.columns.values),\n",
    "        row_labels=list(mevs_t.index),\n",
    "        hidden_labels=\"col\",\n",
    "        height=800,\n",
    "        width=1200,\n",
    "        # display_ratio=[0.1, 0.7],\n",
    "        optimal_leaf_order=True,\n",
    "        color_threshold={\"row\": 250, \"col\": 700},\n",
    "        color_map=[\n",
    "            [0.0, \"#0F74DA\"],\n",
    "            # [0.25, '#AB63FA'],\n",
    "            [0.5, \"#FFFFFF\"],\n",
    "            # [0.75, '#E763FA'],\n",
    "            [1.0, \"#DA1B0F\"],\n",
    "        ],\n",
    "        # Hierachical clustering settings\n",
    "        link_method=\"average\",  # complete, weighted, ward, complete,\n",
    "        col_dist=\"euclidean\",  # correlation\n",
    "        row_dist=\"euclidean\",  # correlation\n",
    "        generate_curves_dict=True,  # Returnes dict of the clusters\n",
    "    )\n",
    "    fig.show()"
   ]
  },
  {
   "cell_type": "code",
   "execution_count": null,
   "metadata": {},
   "outputs": [],
   "source": [
    "import plotly.graph_objects as go\n",
    "import plotly.figure_factory as ff\n",
    "from scipy.spatial.distance import pdist, squareform\n",
    "\n",
    "\n",
    "def dendogram_heatmap(df, version=1):\n",
    "    data = df\n",
    "    data_array = data.values\n",
    "    labels = data.index\n",
    "\n",
    "    # Initialize figure by creating upper dendrogram\n",
    "    fig = ff.create_dendrogram(data_array, orientation=\"bottom\", labels=labels)\n",
    "    for i in range(len(fig[\"data\"])):\n",
    "        fig[\"data\"][i][\"yaxis\"] = \"y2\"\n",
    "\n",
    "    # Create Side Dendrogram\n",
    "    dendro_side = ff.create_dendrogram(data_array, orientation=\"right\")\n",
    "    for i in range(len(dendro_side[\"data\"])):\n",
    "        dendro_side[\"data\"][i][\"xaxis\"] = \"x2\"\n",
    "\n",
    "    # # Add Side Dendrogram Data to Figure\n",
    "    # for data in dendro_side['data']:\n",
    "    #     fig.add_trace(data)\n",
    "\n",
    "    # Create Heatmap\n",
    "    dendro_leaves = dendro_side[\"layout\"][\"yaxis\"][\"ticktext\"]\n",
    "    dendro_leaves = list(map(int, dendro_leaves))\n",
    "    data_dist = pdist(data_array)\n",
    "    heat_data = squareform(data_dist)\n",
    "    heat_data = heat_data[dendro_leaves, :]\n",
    "    # heat_data = heat_data[:,dendro_leaves]\n",
    "\n",
    "    # trace = dict(type='heatmapgl', x = dendro_leaves,\n",
    "    #         y = dendro_leaves,\n",
    "    #         z = heat_data,\n",
    "    #         colorscale = 'Blues')\n",
    "\n",
    "    heatmap = [\n",
    "        go.Heatmap(x=dendro_leaves, y=dendro_leaves, z=heat_data, colorscale=\"Blues\")\n",
    "        # trace\n",
    "    ]\n",
    "\n",
    "    heatmap[0][\"x\"] = fig[\"layout\"][\"xaxis\"][\"tickvals\"]\n",
    "    heatmap[0][\"y\"] = dendro_side[\"layout\"][\"yaxis\"][\"tickvals\"]\n",
    "\n",
    "    # Add Heatmap Data to Figure\n",
    "    for data in heatmap:\n",
    "        fig.add_trace(data)\n",
    "\n",
    "    # Edit Layout\n",
    "    fig.update_layout(\n",
    "        {\n",
    "            \"width\": 800,\n",
    "            \"height\": 800,\n",
    "            \"showlegend\": False,\n",
    "            \"hovermode\": \"closest\",\n",
    "        }\n",
    "    )\n",
    "    # Edit xaxis\n",
    "    fig.update_layout(\n",
    "        xaxis={\"domain\": [0.15, 1], \"mirror\": False, \"showgrid\": False, \"showline\": False, \"zeroline\": False, \"showticklabels\": False, \"ticks\": \"\"}\n",
    "    )\n",
    "    # Edit xaxis2\n",
    "    fig.update_layout(\n",
    "        xaxis2={\"domain\": [0, 0.15], \"mirror\": False, \"showgrid\": False, \"showline\": False, \"zeroline\": False, \"showticklabels\": False, \"ticks\": \"\"}\n",
    "    )\n",
    "\n",
    "    # Edit yaxis\n",
    "    fig.update_layout(\n",
    "        yaxis={\"domain\": [0, 0.85], \"mirror\": False, \"showgrid\": False, \"showline\": False, \"zeroline\": False, \"showticklabels\": False, \"ticks\": \"\"}\n",
    "    )\n",
    "    # Edit yaxis2\n",
    "    fig.update_layout(\n",
    "        yaxis2={\"domain\": [0.825, 0.975], \"mirror\": False, \"showgrid\": False, \"showline\": False, \"zeroline\": False, \"showticklabels\": False, \"ticks\": \"\"}\n",
    "    )\n",
    "\n",
    "    fig.update_layout(width=1080, height=1080)\n",
    "\n",
    "    # # Plot!\n",
    "    # if export_html:\n",
    "    #     fig.write_html(\"{}{}_v_{}.html\".format(base_path_results, cluster, version))\n",
    "\n",
    "    return fig"
   ]
  },
  {
   "cell_type": "code",
   "execution_count": null,
   "metadata": {},
   "outputs": [],
   "source": [
    "mevs_t = sel_exp.mevsMut.T\n",
    "fig = dendogram_heatmap(mevs_t.T)\n",
    "# fig.show()"
   ]
  },
  {
   "cell_type": "markdown",
   "metadata": {},
   "source": [
    "# Look at individuak pathways and mutations\n",
    "\n",
    "The goal of this section is to see if some mutations are correlated with mutations count"
   ]
  },
  {
   "cell_type": "code",
   "execution_count": null,
   "metadata": {},
   "outputs": [],
   "source": [
    "pathways = {\n",
    "    \"Hemidosome\": [\"COL17A1\", \"LAMB3\", \"DST\", \"ITGB4\", \"LAMA3\", \"KRT14\", \"LAMC2\", \"ITGA6\", \"KRT5\", \"PLEC\"],\n",
    "    \"Com_16\": [\n",
    "        \"DEDD\",\n",
    "        \"ATF6\",\n",
    "        \"USP21\",\n",
    "        \"B4GALT3\",\n",
    "        \"UHMK1\",\n",
    "        \"UAP1\",\n",
    "        \"PEX19\",\n",
    "        \"DUSP12\",\n",
    "        \"ALDH9A1\",\n",
    "        \"PPOX\",\n",
    "        \"KIFAP3\",\n",
    "        \"MPZL1\",\n",
    "        \"F11R\",\n",
    "        \"EEF1AKNMT\",\n",
    "        \"IGSF8\",\n",
    "        \"TSTD1\",\n",
    "        \"RP11-297K8.2\",\n",
    "        \"TOMM40L\",\n",
    "        \"KLHDC9\",\n",
    "        \"IGSF9\",\n",
    "        \"PIGK\",\n",
    "        \"CREG1\",\n",
    "        \"MPC2\",\n",
    "        \"DUSP23\",\n",
    "        \"TSEN15\",\n",
    "        \"HSPA6\",\n",
    "    ],\n",
    "    #     \"Com_20\": [\"YES1\" \"USP14\" \"AFG3L2\" \"RAB12\" \"SEH1L\" \"CHMP1B\" \"PPP4R1\" \"SMCHD1\" \"MPPE1\" \"IMPA2\" \"CHMP1B-AS1\" \"TWSG1\" \"TTC39C\" \"NCK2\" \"CABYR\"],\n",
    "    #     \"Com_21\": [\"P4HTM\" \"NPRL2\" \"ABHD14A\" \"NT5DC2\" \"PCBP4\" \"CYB561D2\" \"ABHD14B\" \"ACY1\" \"TREX1\" \"SMIM4\" \"CHCHD10\" \"SPATC1L\"],\n",
    "    #     \"Com_23\": [\"ID3\" \"ID2\" \"ID4\" \"DUSP2\" \"SMAD6\" \"IGFBP2\" \"BMP2\"],\n",
    "    # }\n",
    "}\n",
    "# 'Metallothioneins Bind Metals_R': [\"MT2A\",\"MT1F\",\"MT1G\",\"MT1X\",\"MT1E\"],}"
   ]
  },
  {
   "cell_type": "code",
   "execution_count": null,
   "metadata": {},
   "outputs": [],
   "source": [
    "tpm_df = tum.exps[\"standard_4K_10TF\"].tpm_df\n",
    "\n",
    "for key, val in pathways.items():\n",
    "    dmy_df = pd.DataFrame(index=val)\n",
    "    dmy_df[\"mut_count\"] = tcga_mutations_df.loc[tcga_mutations_df.index.isin(val)][\"count\"]\n",
    "    dmy_df[\"ge_median\"] = tpm_df.loc[tpm_df.index.isin(val)].median(axis=1)\n",
    "    fig = px.bar(dmy_df, x=dmy_df.index, y=\"ge_median\", color=\"mut_count\", title=\"Mut count for {}\".format(key))\n",
    "    fig.show()"
   ]
  },
  {
   "cell_type": "markdown",
   "metadata": {},
   "source": [
    "# Comparing between experiments\n",
    "\n",
    "Curious to see what's the difference between the 2 modifiers. If Beta is better at separating the communities.\n",
    "\n",
    "Note: I couldn't see too much of a change when beta is applied. In fact, it feels that beta is very similar to the norm3 modifier"
   ]
  },
  {
   "cell_type": "code",
   "execution_count": null,
   "metadata": {},
   "outputs": [],
   "source": [
    "# Prep data\n",
    "std_t = tum.exps[\"standard_4K_10TF\"]\n",
    "norm3_t = tum.exps[\"norm3_4K_10TF\"]\n",
    "beta_t = tum.exps[\"beta_4K_10TF\"]\n",
    "\n",
    "dmy_std = std_t.nodes_df.rename(columns={\"Modularity Class\": \"std_4K_10TF\"})\n",
    "dmy_norm3 = norm3_t.nodes_df.rename(columns={\"Modularity Class\": \"norm3_4K_10TF\"})\n",
    "dmy_beta = beta_t.nodes_df.rename(columns={\"Modularity Class\": \"beta_4K_10TF\"})\n",
    "\n",
    "# combine data\n",
    "test = pd.concat([dmy_std[\"std_4K_10TF\"], dmy_beta[\"beta_4K_10TF\"], dmy_norm3[\"norm3_4K_10TF\"]], axis=1).fillna(-1)  # dmy_h3[\"norm3_h_5k\"]], axis=1)\n",
    "reoder_cols = [\"std_4K_10TF\", \"norm3_4K_10TF\", \"beta_4K_10TF\"]  # \"norm3_h_5k\"]\n",
    "\n",
    "# plot\n",
    "meta = sky.main(\n",
    "    test,\n",
    "    reorder_cols=reoder_cols,\n",
    "    title=\"Community comparison between \" + \", \".join(reoder_cols),\n",
    ")"
   ]
  },
  {
   "cell_type": "code",
   "execution_count": null,
   "metadata": {},
   "outputs": [],
   "source": [
    "sel_mut = tcga_mutations_df[(tcga_mutations_df.index.isin(norm3_t.tpm_df.index)) & (tcga_mutations_df[\"count\"] > 2)]\n",
    "print(\"Genes mutated\", sel_mut.shape[0] / norm3_t.tpm_df.shape[0])"
   ]
  },
  {
   "cell_type": "code",
   "execution_count": null,
   "metadata": {},
   "outputs": [],
   "source": [
    "community_sizes = test[\"norm3_4K_10TF\"].value_counts()\n",
    "small_coms = community_sizes[community_sizes < 100].index.values\n",
    "small_coms = test[test[\"norm3_4K_10TF\"].isin(small_coms)]\n",
    "# dmy_df = test.copy(deep=True)\n",
    "# dmy_df.loc[~dmy_df[\"norm3_4K_10TF\"].isin(small_coms), \"norm3_4K_10TF\"] = -1\n",
    "\n",
    "meta = sky.main(\n",
    "    small_coms,\n",
    "    reorder_cols=reoder_cols,\n",
    "    title=\"Just small communities comparison between \" + \", \".join(reoder_cols),\n",
    ")"
   ]
  },
  {
   "cell_type": "markdown",
   "metadata": {},
   "source": [
    "# Gene ontology norm3"
   ]
  },
  {
   "cell_type": "code",
   "execution_count": null,
   "metadata": {},
   "outputs": [],
   "source": [
    "def get_pathways(com, exp, output_dir=None):\n",
    "    g_com = list(exp.modCons[com].index.values)\n",
    "    enrich_r = gp.enrichr(\n",
    "        gene_list=g_com,\n",
    "        gene_sets=[\"Reactome_2022\", \"Panther_2016\"],\n",
    "        organism=\"Human\",\n",
    "        top_term=20,\n",
    "        outdir=output_dir,\n",
    "        no_plot=True,\n",
    "        expName=\"Comm_{}\".format(com),\n",
    "    )\n",
    "\n",
    "    return enrich_r\n",
    "\n",
    "\n",
    "def process_enrichr(enrich_r):\n",
    "    dmy = enrich_r.results.copy(deep=True)\n",
    "    dmy = pd.concat([dmy, dmy[\"Overlap\"].str.split(\"/\", expand=True).rename(columns={0: \"Matched\", 1: \"Ref\"})], axis=1)\n",
    "    dmy[\"Ratio\"] = (dmy[\"Matched\"].astype(int) / dmy[\"Ref\"].astype(int)).round(3)\n",
    "    reorder_cols = [\n",
    "        \"Term\",\n",
    "        \"Overlap\",\n",
    "        \"Ratio\",\n",
    "        \"P-value\",\n",
    "        \"Adjusted P-value\",\n",
    "        \"Genes\",\n",
    "        \"Matched\",\n",
    "        \"Ref\",\n",
    "        \"Old P-value\",\n",
    "        \"Old Adjusted P-value\",\n",
    "        \"Odds Ratio\",\n",
    "        \"Gene_set\",\n",
    "    ]\n",
    "    dmy = dmy[reorder_cols]\n",
    "\n",
    "    return dmy\n",
    "\n",
    "\n",
    "def plot_enrich(filtered_df, com, exp, savePath=None):\n",
    "    title_dot = \"enrichment for {} in {}\".format(com, exp.type)\n",
    "    top_term = 10\n",
    "    cutoff = 0.05\n",
    "    figsize = (3, 3)\n",
    "\n",
    "    ax_dot = dualplot(\n",
    "        filtered_df,\n",
    "        column=\"Adjusted P-value\",\n",
    "        columnBar=\"Ratio\",\n",
    "        x=\"Gene_set\",  # set x axis, so you could do a multi-sample/library comparsion\n",
    "        size=12,\n",
    "        top_term=top_term,\n",
    "        figsize=figsize,\n",
    "        title=title_dot,\n",
    "        xticklabels_rot=45,  # rotate xtick labels\n",
    "        show_ring=True,  # set to False to revmove outer ring\n",
    "        marker=\"o\",\n",
    "        cutoff=cutoff,\n",
    "        cutoffBar=1.0,  # needs to be able to show up to 100% match\n",
    "        colorBar=[\"darkred\", \"darkblue\"],\n",
    "        group=\"Gene_set\",\n",
    "        ofname=\"{}/Com_{}_dualPlot.png\".format(savePath, com) if savePath else None,\n",
    "    )\n",
    "\n",
    "    return ax_dot\n",
    "\n",
    "\n",
    "def get_sig_pathways(pathways, df, gene_set=\"Reactome_2022\", sort_cols=[\"Adjusted P-value\", \"Ratio\"], ascending=True):\n",
    "    dmy = df.loc[df[\"Gene_set\"] == gene_set].sort_values(by=sort_cols, ascending=ascending).head(10)\n",
    "    for _, row in dmy.iterrows():\n",
    "        key_term = row[\"Term\"][: row[\"Term\"].find(\"R-\")]\n",
    "        key_term = key_term[: key_term.find(\"Homo\") :]\n",
    "        key_term = key_term.replace(\"pathway\", \"\")\n",
    "\n",
    "        if gene_set == \"Reactome_2022\":\n",
    "            pathways[\"{}_R\".format(key_term)] = '[\"{}\"]'.format('\",\"'.join(row[\"Genes\"].split(\";\")))\n",
    "            # pathways[\"{}_R\".format(key_term)] = row[\"Genes\"].split(\";\")\n",
    "        else:\n",
    "            pathways[\"{}_P\".format(key_term)] = '[\"{}\"]'.format('\",\"'.join(row[\"Genes\"].split(\";\")))\n",
    "            # pathways[\"{}_P\".format(key_term)] = row[\"Genes\"].split(\";\")\n",
    "\n",
    "    return pathways"
   ]
  },
  {
   "cell_type": "code",
   "execution_count": null,
   "metadata": {},
   "outputs": [],
   "source": [
    "go_lib = {\n",
    "    \"cell\": \"GO_Cellular_Component_2023\",  # cellular component\n",
    "    \"process\": \"GO_Biological_Process_2023\",  # biological process\n",
    "    \"molecular\": \"GO_Molecular_Function_2023\",  # molecular function\n",
    "}\n",
    "pathways = {\n",
    "    \"reactome\": \"Reactome_2022\",\n",
    "    \"panther\": \"Panther_2016\",\n",
    "}"
   ]
  },
  {
   "cell_type": "code",
   "execution_count": null,
   "metadata": {},
   "outputs": [],
   "source": [
    "exp = tum.exps[\"norm3_4K_10TF\"]\n",
    "output_dir = \"{}/GeneOntology/{}/{}/GO_prcsd/\".format(base_path + exp_folder_tumour, \"10TF\", exp.type)\n",
    "output_dir = None\n",
    "\n",
    "enrich_objs = {}\n",
    "for com in exp.modCons.keys():\n",
    "    enrich_r = get_pathways(com=com, exp=exp, output_dir=None)\n",
    "    enrich_df = process_enrichr(enrich_r)\n",
    "\n",
    "    enrich_objs[com] = {\"enrich_r\": enrich_r, \"df\": enrich_df}\n",
    "\n",
    "    filtered_df = enrich_df[enrich_df[\"Adjusted P-value\"] < 0.05]\n",
    "    if output_dir != None:\n",
    "        if filtered_df.shape[0]:\n",
    "            fig = plot_enrich(filtered_df, com=com, exp=exp, savePath=output_dir)\n",
    "\n",
    "        else:\n",
    "            print(\"Comm {}. No (adujsted) significant p-values.\".format(com))"
   ]
  },
  {
   "cell_type": "code",
   "execution_count": null,
   "metadata": {},
   "outputs": [],
   "source": [
    "filters = {}\n",
    "com = 5\n",
    "exp_enr = enrich_objs[com]\n",
    "enrich = exp_enr[\"enrich_r\"]\n",
    "df = exp_enr[\"df\"]\n",
    "f_df = df[df[\"Adjusted P-value\"] < 0.05].copy(deep=True)\n",
    "\n",
    "pathways = get_sig_pathways({}, f_df, gene_set=\"Reactome_2022\", sort_cols=[\"Ratio\"], ascending=False)\n",
    "pathways = get_sig_pathways(pathways, f_df, gene_set=\"Panther_2016\", sort_cols=[\"Ratio\"], ascending=False)\n",
    "\n",
    "pathways = get_sig_pathways(pathways, f_df, gene_set=\"Reactome_2022\", sort_cols=[\"Adjusted P-value\"])\n",
    "pathways = get_sig_pathways(pathways, f_df, gene_set=\"Panther_2016\", sort_cols=[\"Adjusted P-value\"])\n",
    "filters[str(com)] = pathways\n",
    "\n",
    "filters"
   ]
  },
  {
   "cell_type": "code",
   "execution_count": null,
   "metadata": {},
   "outputs": [],
   "source": [
    "# f_df.sort_values(by=[\"Adjusted P-value\"], ascending=False).head(10)\n",
    "# f_df.sort_values(by=[\"Ratio\", \"Adjusted P-value\"], ascending=False).head(10)\n",
    "\n",
    "# sel_genes = f_df.sort_values(by=[\"P-value\"]).iloc[4][\"Genes\"]\n",
    "# '[\"{}\"]'.format('\",\"'.join(sel_genes.split(\";\")))"
   ]
  },
  {
   "cell_type": "code",
   "execution_count": null,
   "metadata": {},
   "outputs": [],
   "source": [
    "com = 5\n",
    "exp_enr = enrich_objs[com]\n",
    "enrich = exp_enr[\"enrich_r\"]\n",
    "df = exp_enr[\"df\"]\n",
    "f_df = df[df[\"Adjusted P-value\"] < 0.05].copy(deep=True)\n",
    "\n",
    "\n",
    "if f_df.shape[0]:\n",
    "    title_dot = \"enrichment for {} in {}\".format(com, exp.type)\n",
    "    top_term = 10\n",
    "    cutoff = 0.05\n",
    "    figsize = (3, 3)\n",
    "\n",
    "    ax_dot = dualplot(\n",
    "        f_df,\n",
    "        column=\"Adjusted P-value\",\n",
    "        columnBar=\"Ratio\",\n",
    "        x=\"Gene_set\",  # set x axis, so you could do a multi-sample/library comparsion\n",
    "        size=12,\n",
    "        top_term=top_term,\n",
    "        figsize=figsize,\n",
    "        title=title_dot,\n",
    "        xticklabels_rot=45,  # rotate xtick labels\n",
    "        show_ring=True,  # set to False to revmove outer ring\n",
    "        marker=\"o\",\n",
    "        cutoff=cutoff,\n",
    "        colorBar=[\"darkred\", \"darkblue\"],\n",
    "        group=\"Gene_set\",\n",
    "        # ofname=\"{}/Com_{}_dualPlot.png\".format(dir, com) if dir else None,\n",
    "    )"
   ]
  },
  {
   "cell_type": "markdown",
   "metadata": {},
   "source": [
    "# Gene Ontology std"
   ]
  },
  {
   "cell_type": "code",
   "execution_count": null,
   "metadata": {},
   "outputs": [],
   "source": [
    "exp = tum.exps[\"standard_4K_10TF\"]\n",
    "output_dir = \"{}/GeneOntology/{}/{}/GO_prcsd/\".format(base_path + exp_folder_tumour, \"10TF\", exp.type)\n",
    "# output_dir = None\n",
    "\n",
    "enrich_objs_std = {}\n",
    "for com in exp.modCons.keys():\n",
    "    enrich_r = get_pathways(com=com, exp=exp, output_dir=None)\n",
    "    enrich_df = process_enrichr(enrich_r)\n",
    "\n",
    "    enrich_objs_std[com] = {\"enrich_r\": enrich_r, \"df\": enrich_df}\n",
    "\n",
    "    filtered_df = enrich_df[enrich_df[\"Adjusted P-value\"] < 0.05]\n",
    "    if output_dir != None:\n",
    "        if filtered_df.shape[0]:\n",
    "            fig = plot_enrich(filtered_df, com=com, exp=exp, savePath=output_dir)\n",
    "        else:\n",
    "            print(\"Comm {}. No (adujsted) significant p-values.\".format(com))"
   ]
  },
  {
   "cell_type": "code",
   "execution_count": null,
   "metadata": {},
   "outputs": [],
   "source": [
    "filters = {}\n",
    "com = 1\n",
    "exp_enr = enrich_objs_std[com]\n",
    "enrich = exp_enr[\"enrich_r\"]\n",
    "df = exp_enr[\"df\"]\n",
    "f_df = df[df[\"Adjusted P-value\"] < 0.05].copy(deep=True)\n",
    "\n",
    "pathways = get_sig_pathways({}, f_df, gene_set=\"Reactome_2022\", sort_cols=[\"Ratio\"], ascending=False)\n",
    "pathways = get_sig_pathways(pathways, f_df, gene_set=\"Panther_2016\", sort_cols=[\"Ratio\"], ascending=False)\n",
    "\n",
    "pathways = get_sig_pathways(pathways, f_df, gene_set=\"Reactome_2022\", sort_cols=[\"Adjusted P-value\"])\n",
    "pathways = get_sig_pathways(pathways, f_df, gene_set=\"Panther_2016\", sort_cols=[\"Adjusted P-value\"])\n",
    "filters[str(com)] = pathways\n",
    "\n",
    "# filters"
   ]
  },
  {
   "cell_type": "code",
   "execution_count": null,
   "metadata": {},
   "outputs": [],
   "source": [
    "com = 1\n",
    "exp_enr = enrich_objs_std[com]\n",
    "enrich = exp_enr[\"enrich_r\"]\n",
    "df = exp_enr[\"df\"]\n",
    "f_df = df[df[\"Adjusted P-value\"] < 0.05].copy(deep=True)\n",
    "\n",
    "\n",
    "if f_df.shape[0]:\n",
    "    title_dot = \"enrichment for {} in {}\".format(com, exp.type)\n",
    "    top_term = 10\n",
    "    cutoff = 0.05\n",
    "    figsize = (3, 3)\n",
    "\n",
    "    ax_dot = dualplot(\n",
    "        f_df,\n",
    "        column=\"Adjusted P-value\",\n",
    "        columnBar=\"Ratio\",\n",
    "        x=\"Gene_set\",  # set x axis, so you could do a multi-sample/library comparsion\n",
    "        size=12,\n",
    "        top_term=top_term,\n",
    "        figsize=figsize,\n",
    "        title=title_dot,\n",
    "        xticklabels_rot=45,  # rotate xtick labels\n",
    "        show_ring=True,  # set to False to revmove outer ring\n",
    "        marker=\"o\",\n",
    "        cutoff=cutoff,\n",
    "        colorBar=[\"darkred\", \"darkblue\"],\n",
    "        group=\"Gene_set\",\n",
    "        # ofname=\"{}/Com_{}_dualPlot.png\".format(dir, com) if dir else None,\n",
    "    )"
   ]
  },
  {
   "cell_type": "markdown",
   "metadata": {},
   "source": [
    "# Uitilies - GO\n",
    "\n",
    "Process and export data for Gene Ontology"
   ]
  },
  {
   "cell_type": "code",
   "execution_count": null,
   "metadata": {},
   "outputs": [],
   "source": [
    "save_path = base_path + exp_folder_tumour\n",
    "_ = tum.exps[\"beta_4K_10TF\"].prep_for_go(to_save=False, save_path=save_path)"
   ]
  },
  {
   "cell_type": "code",
   "execution_count": null,
   "metadata": {},
   "outputs": [],
   "source": [
    "from src.process_go import prcs_json\n",
    "\n",
    "# exp = p0.exps[\"standard_4K_10TF\"]\n",
    "files_prcsd = prcs_json(tum.exps[\"standard_4K_10TF\"], save=False)"
   ]
  }
 ],
 "metadata": {
  "kernelspec": {
   "display_name": "iNet",
   "language": "python",
   "name": "python3"
  },
  "language_info": {
   "codemirror_mode": {
    "name": "ipython",
    "version": 3
   },
   "file_extension": ".py",
   "mimetype": "text/x-python",
   "name": "python",
   "nbconvert_exporter": "python",
   "pygments_lexer": "ipython3",
   "version": "3.9.13"
  },
  "orig_nbformat": 4
 },
 "nbformat": 4,
 "nbformat_minor": 2
}
