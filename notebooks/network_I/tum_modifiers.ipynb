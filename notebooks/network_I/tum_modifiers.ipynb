{
 "cells": [
  {
   "cell_type": "markdown",
   "metadata": {},
   "source": [
    "# Motivation\n",
    "\n",
    "In this notebook I'm looking at the difference between the modifiers in Tum"
   ]
  },
  {
   "cell_type": "markdown",
   "metadata": {},
   "source": [
    "# Init"
   ]
  },
  {
   "cell_type": "code",
   "execution_count": 1,
   "metadata": {},
   "outputs": [
    {
     "name": "stdout",
     "output_type": "stream",
     "text": [
      "The autoreload extension is already loaded. To reload it, use:\n",
      "  %reload_ext autoreload\n"
     ]
    }
   ],
   "source": [
    "%load_ext autoreload\n",
    "import pandas as pd\n",
    "import numpy as np\n",
    "import os\n",
    "import sys \n",
    "import igraph as ig\n",
    "import importlib\n",
    "\n",
    "import plotly.express as px\n",
    "import plotly.io as pio\n",
    "from plotly.offline import plot\n",
    "from plotly.subplots import make_subplots\n",
    "import plotly.graph_objects as go\n",
    "\n",
    "import multiprocess as mp\n",
    "\n",
    "import igraph as ig\n",
    "\n",
    "from matplotlib import pyplot as plt\n",
    "\n",
    "# Gsea libraries\n",
    "import gseapy as gp\n",
    "from gseapy.plot import dualplot\n",
    "\n",
    "SCRIPT_DIR = os.path.dirname(os.path.abspath(\"pcgna_processing.py\"))\n",
    "sys.path.append(os.path.dirname(SCRIPT_DIR))\n",
    "sys.path.append('/Users/vlad/Documents/Code/York/iNet_v2/src/')\n",
    "\n",
    "from NetworkAnalysis.ExperimentSet import ExperimentSet\n",
    "from NetworkAnalysis.NetworkComp import NetworkComp\n",
    "from NetworkAnalysis import GraphHelper as gh\n",
    "from NetworkAnalysis.utilities import sankey_consensus_plot as sky\n",
    "from NetworkAnalysis.utilities.helpers import save_fig, survival_plot, survival_comp\n",
    "import NetworkAnalysis.utilities.clustering as cs\n",
    "\n",
    "pio.templates.default = \"ggplot2\"\n",
    "\n",
    "%matplotlib inline"
   ]
  },
  {
   "cell_type": "code",
   "execution_count": 13,
   "metadata": {},
   "outputs": [],
   "source": [
    "data_base = \"../../data/\"\n",
    "base_path = \"../../results/\"\n",
    "exp_folder_tumour = \"network_I/tum/\" # \"/integration_v2.1/tum/\" - path from iNET\n",
    "\n",
    "# figures_path = base_path + exp_folder_tumour + \"Figures/\"\n",
    "figures_path = \"tum_modifiers/\"\n",
    "\n",
    "vu_output = pd.read_csv(f\"{data_base}/metadata/VU_clustering_v3.tsv\", sep=\"\\t\", index_col=\"Sample\")\n",
    "\n",
    "# prep mut\n",
    "tcga_mutations_df = pd.read_csv(f\"{data_base}/tumour/mutations_tcga.csv\")\n",
    "tcga_mutations_df = tcga_mutations_df[tcga_mutations_df[\"count\"] != 0].set_index(\"gene\")\n",
    "\n",
    "all_tum_tpms = pd.read_csv(f\"{data_base}/tumour/TPMs_selected_genes_v3_13k_gc42.tsv\", sep=\"\\t\", index_col=\"genes\")\n",
    "\n",
    "# tf list\n",
    "tf_path = f\"{data_base}/metadata/TF_names_v_1.01.txt\"\n",
    "if os.path.exists(tf_path):\n",
    "    tf_list = np.genfromtxt(fname=tf_path, delimiter=\"\\t\", skip_header=1, dtype=\"str\")"
   ]
  },
  {
   "cell_type": "markdown",
   "metadata": {},
   "source": [
    "## Load experiment sets"
   ]
  },
  {
   "cell_type": "code",
   "execution_count": 3,
   "metadata": {},
   "outputs": [
    {
     "name": "stdout",
     "output_type": "stream",
     "text": [
      "❗️ Check this experiment, there might be a problem in loading the data: norm2_int_tum_4K_50TF\n",
      "##### Experiment labels:  dict_keys(['beta_4K_50TF', 'norm2_4K_50TF', 'standard_4K_50TF', 'beta2_4K_50TF', 'beta3_4K_50TF', 'norm3_4K_50TF', 'standard_4K_10TF', 'norm3_4K_10TF', 'beta_4K_10TF', 'standard_4K_6TF', 'beta_4K_6TF', 'norm3_4K_6TF', 'standard_4K_3TF', 'beta_4K_3TF', 'norm3_4K_3TF', 'standard_4K_5TF', 'standard_4K_8TF', 'standard_4K_4TF', 'standard_4K_7TF', 'beta_4K_5TF', 'beta_4K_4TF', 'norm3_4K_7TF', 'norm3_4K_5TF', 'beta_4K_8TF', 'norm3_4K_4TF', 'beta_4K_7TF', 'norm3_4K_8TF', 'standard_4K_9TF', 'norm3_4K_9TF', 'beta_4K_9TF'])\n"
     ]
    }
   ],
   "source": [
    "%autoreload 2\n",
    "\n",
    "tum = ExperimentSet(\"tum\", base_path, exp_folder_tumour, tcga_mutations_df, sel_sets = [\"4K\",], rel_path=\"../\")\n",
    "# p0 = ExperimentSet(\"p0\", base_path, exp_folder_p0, tcga_mutations_df, sel_sets = [\"4K\"], rel_path=\"../\")\n",
    "\n",
    "%autoreload 2\n",
    "tum.export_to_gephi(save=False)\n",
    "# p0.export_to_gephi(save=False)"
   ]
  },
  {
   "cell_type": "markdown",
   "metadata": {},
   "source": [
    "## Computed ModCon and MEV scores"
   ]
  },
  {
   "cell_type": "code",
   "execution_count": 4,
   "metadata": {},
   "outputs": [],
   "source": [
    "def worker(arg):\n",
    "    obj, methname = arg[:2]\n",
    "    _ = getattr(obj, methname)()\n",
    "    return obj"
   ]
  },
  {
   "cell_type": "code",
   "execution_count": 5,
   "metadata": {},
   "outputs": [],
   "source": [
    "pool = mp.Pool(mp.cpu_count())\n",
    "\n",
    "results = pool.map(worker, ((exp, \"get_ModCon\") for exp in tum.exps.values()))\n",
    "tum.exps = {exp.type: exp for exp in results}"
   ]
  },
  {
   "cell_type": "code",
   "execution_count": 6,
   "metadata": {},
   "outputs": [],
   "source": [
    "for exp in tum.get_exps():\n",
    "    # exp.nodes_df[\"ModCon_Rank\"] = 0\n",
    "    for modCon, value in exp.modCons.items():\n",
    "        dmy = value.sort_values(by=[\"ModCon_{}\".format(exp.type)], ascending=False).reset_index(names=\"Id\").iloc[:100]\n",
    "        dmy[\"Rank\"] = dmy.index + 1\n",
    "        dmy.set_index(\"Id\", inplace=True)\n",
    "        exp.nodes_df.loc[exp.nodes_df[\"Modularity Class\"] == modCon, \"ModCon_Rank\"] = dmy[\"Rank\"]\n",
    "        exp.nodes_df[\"ModCon_Rank\"] = exp.nodes_df[\"ModCon_Rank\"].fillna(0)\n",
    "\n",
    "tum.export_to_gephi(save=False)\n",
    "tum.generate_Mevs()"
   ]
  },
  {
   "cell_type": "markdown",
   "metadata": {},
   "source": [
    "# Comms Mutation stats"
   ]
  },
  {
   "cell_type": "code",
   "execution_count": 7,
   "metadata": {},
   "outputs": [
    {
     "data": {
      "text/plain": [
       "0.79975"
      ]
     },
     "execution_count": 7,
     "metadata": {},
     "output_type": "execute_result"
    }
   ],
   "source": [
    "std_exp = tum.exps[\"standard_4K_10TF\"]\n",
    "\n",
    "mut_genes = std_exp.mut_df[std_exp.mut_df[\"count\"] > 0].index\n",
    "expressed_genes = std_exp.tpm_df.index.values\n",
    "len(mut_genes) / len(expressed_genes)"
   ]
  },
  {
   "cell_type": "code",
   "execution_count": 8,
   "metadata": {},
   "outputs": [],
   "source": [
    "dmy = []\n",
    "sel_exp = tum.exps[\"norm3_4K_10TF\"]\n",
    "sort_col = \"ModCon_{}\".format(sel_exp.type)\n",
    "for comm, value in sel_exp.modCons.items():\n",
    "    modConGenes = value.sort_values(by=sort_col, ascending=False).iloc[:100]\n",
    "    modConMutated = sel_exp.mut_df[sel_exp.mut_df.index.isin(modConGenes)].shape[0]\n",
    "    dmy.append((comm, modConMutated / len(mut_genes)))"
   ]
  },
  {
   "cell_type": "markdown",
   "metadata": {},
   "source": [
    "# Leiden score comparison\n",
    "\n",
    "Looking at the leiden score comparison between experiments"
   ]
  },
  {
   "cell_type": "code",
   "execution_count": 9,
   "metadata": {},
   "outputs": [],
   "source": [
    "leiden_scores = tum.comb_leiden_scores()\n",
    "\n",
    "# the TF = 50 contain experiments with the different modifiers\n",
    "leiden_scores = leiden_scores.loc[leiden_scores[\"TF\"] != \"50\"]\n",
    "\n",
    "# Specific to the tum dataset\n",
    "leiden_scores.loc[leiden_scores[\"Modifier\"] == \"beta\", \"Modifier\"] = \"Penalty\"\n",
    "\n",
    "# Figure for multiple TFs and 3 Leiden scores\n",
    "fig = px.scatter(leiden_scores, x=\"Modifier\", color=\"TF\", y=\"ModularityScore\", size=\"ModuleNum\", facet_col=\"Leiden Rank\", facet_col_wrap=4)\n",
    "\n",
    "# Fir for one TF and 10 Leiden scores\n",
    "fig = gh.plot_leiden(exps=tum, tf=\"6\")\n",
    "\n",
    "# fig.update_layout(font=dict(size=16))\n",
    "# save_fig(name=\"LeidenMetrics_{}\".format(label), fig=fig, base_path=figures_path, width=1400, height=600)"
   ]
  },
  {
   "cell_type": "markdown",
   "metadata": {},
   "source": [
    "# Network Metrics\n",
    "\n",
    "Between standard, norm and reward compare the network metrics: degree, pageRank, closeness, betwenees and IVI.\n",
    "\n",
    "The network configuration is: 4K and 10TF. and 4K and 3TF."
   ]
  },
  {
   "cell_type": "markdown",
   "metadata": {},
   "source": [
    "## 4K 6TF (report)"
   ]
  },
  {
   "cell_type": "code",
   "execution_count": 10,
   "metadata": {},
   "outputs": [],
   "source": [
    "if False:\n",
    "    std_nt, rwrd_nt, pen_nt = tum.exps[\"standard_4K_6TF\"], tum.exps[\"norm3_4K_6TF\"], tum.exps[\"beta_4K_6TF\"]\n",
    "    metrics_df = gh.prep_net_metrics(std_nt, rwrd_nt, pen_nt)\n",
    "\n",
    "    fig = gh.plot_net_metrics(metrics_df, label=\"6TF\", log_y=True, filename=\"NetworkMetricsComp_{}\".format(\"6TF\"))  # figs_path=figures_path)\n",
    "    fig.show()"
   ]
  },
  {
   "cell_type": "markdown",
   "metadata": {},
   "source": [
    "## 4K 10 TF"
   ]
  },
  {
   "cell_type": "code",
   "execution_count": 11,
   "metadata": {},
   "outputs": [],
   "source": [
    "if True:\n",
    "    std_nt, rwrd_nt, pen_nt = tum.exps[\"standard_4K_10TF\"], tum.exps[\"norm3_4K_10TF\"], tum.exps[\"beta_4K_10TF\"]\n",
    "    metrics_df = gh.prep_net_metrics(std_nt, rwrd_nt, pen_nt)\n",
    "    fig = gh.plot_net_metrics(metrics_df, label=\"10TF\", filename=\"NetworkMetricsComp_{}\".format(\"10TF\"), figs_path=figures_path)"
   ]
  },
  {
   "cell_type": "markdown",
   "metadata": {},
   "source": [
    "## Mutation representation (report)"
   ]
  },
  {
   "cell_type": "code",
   "execution_count": 14,
   "metadata": {},
   "outputs": [],
   "source": [
    "t_all_stats_df = gh.stats_mut_burden(all_tum_tpms, tf_list, tcga_mutations_df, type=\"All\")\n",
    "t_4k_stats_df = gh.stats_mut_burden(tum.exps[\"standard_4K_3TF\"].tpm_df, tf_list, tcga_mutations_df, type=\"4K\")\n",
    "\n",
    "all_df = pd.concat([t_all_stats_df, t_4k_stats_df], axis=0)"
   ]
  },
  {
   "cell_type": "code",
   "execution_count": 15,
   "metadata": {},
   "outputs": [
    {
     "data": {
      "application/vnd.plotly.v1+json": {
       "config": {
        "plotlyServerURL": "https://plot.ly"
       },
       "data": [
        {
         "alignmentgroup": "True",
         "hovertemplate": "Type=All<br>Gene_Type=Mut<br>Burden=%{x}<br>Num=%{y}<extra></extra>",
         "legendgroup": "All",
         "marker": {
          "color": "#F8766D",
          "pattern": {
           "shape": ""
          }
         },
         "name": "All",
         "offsetgroup": "All",
         "orientation": "v",
         "showlegend": true,
         "textposition": "auto",
         "texttemplate": "%{y}",
         "type": "bar",
         "x": [
          ">=0",
          ">=1",
          ">=2",
          ">=3",
          ">=4",
          ">=5",
          ">=6",
          ">=7",
          ">=8",
          ">=9",
          ">=10"
         ],
         "xaxis": "x2",
         "y": [
          13274,
          10057,
          8422,
          6793,
          5375,
          4209,
          3267,
          2546,
          2016,
          1594,
          1248
         ],
         "yaxis": "y2"
        },
        {
         "alignmentgroup": "True",
         "hovertemplate": "Type=All<br>Gene_Type=Mut_TF<br>Burden=%{x}<br>Num=%{y}<extra></extra>",
         "legendgroup": "All",
         "marker": {
          "color": "#F8766D",
          "pattern": {
           "shape": ""
          }
         },
         "name": "All",
         "offsetgroup": "All",
         "orientation": "v",
         "showlegend": false,
         "textposition": "auto",
         "texttemplate": "%{y}",
         "type": "bar",
         "x": [
          ">=0",
          ">=1",
          ">=2",
          ">=3",
          ">=4",
          ">=5",
          ">=6",
          ">=7",
          ">=8",
          ">=9",
          ">=10"
         ],
         "xaxis": "x",
         "y": [
          1027,
          954,
          859,
          741,
          610,
          485,
          367,
          291,
          228,
          179,
          133
         ],
         "yaxis": "y"
        },
        {
         "alignmentgroup": "True",
         "hovertemplate": "Type=4K<br>Gene_Type=Mut<br>Burden=%{x}<br>Num=%{y}<extra></extra>",
         "legendgroup": "4K",
         "marker": {
          "color": "#A3A500",
          "pattern": {
           "shape": ""
          }
         },
         "name": "4K",
         "offsetgroup": "4K",
         "orientation": "v",
         "showlegend": true,
         "textposition": "auto",
         "texttemplate": "%{y}",
         "type": "bar",
         "x": [
          ">=0",
          ">=1",
          ">=2",
          ">=3",
          ">=4",
          ">=5",
          ">=6",
          ">=7",
          ">=8",
          ">=9",
          ">=10"
         ],
         "xaxis": "x2",
         "y": [
          4000,
          3199,
          2648,
          2128,
          1663,
          1307,
          1038,
          797,
          627,
          486,
          385
         ],
         "yaxis": "y2"
        },
        {
         "alignmentgroup": "True",
         "hovertemplate": "Type=4K<br>Gene_Type=Mut_TF<br>Burden=%{x}<br>Num=%{y}<extra></extra>",
         "legendgroup": "4K",
         "marker": {
          "color": "#A3A500",
          "pattern": {
           "shape": ""
          }
         },
         "name": "4K",
         "offsetgroup": "4K",
         "orientation": "v",
         "showlegend": false,
         "textposition": "auto",
         "texttemplate": "%{y}",
         "type": "bar",
         "x": [
          ">=0",
          ">=1",
          ">=2",
          ">=3",
          ">=4",
          ">=5",
          ">=6",
          ">=7",
          ">=8",
          ">=9",
          ">=10"
         ],
         "xaxis": "x",
         "y": [
          265,
          243,
          221,
          187,
          145,
          109,
          87,
          69,
          56,
          48,
          36
         ],
         "yaxis": "y"
        }
       ],
       "layout": {
        "annotations": [
         {
          "font": {},
          "showarrow": false,
          "text": "Gene_Type=Mut_TF",
          "textangle": 90,
          "x": 0.98,
          "xanchor": "left",
          "xref": "paper",
          "y": 0.2425,
          "yanchor": "middle",
          "yref": "paper"
         },
         {
          "font": {},
          "showarrow": false,
          "text": "Gene_Type=Mut",
          "textangle": 90,
          "x": 0.98,
          "xanchor": "left",
          "xref": "paper",
          "y": 0.7575000000000001,
          "yanchor": "middle",
          "yref": "paper"
         }
        ],
        "barmode": "group",
        "font": {
         "size": 16
        },
        "height": 700,
        "legend": {
         "title": {
          "text": "Type"
         },
         "tracegroupgap": 0
        },
        "template": {
         "data": {
          "bar": [
           {
            "error_x": {
             "color": "rgb(51,51,51)"
            },
            "error_y": {
             "color": "rgb(51,51,51)"
            },
            "marker": {
             "line": {
              "color": "rgb(237,237,237)",
              "width": 0.5
             },
             "pattern": {
              "fillmode": "overlay",
              "size": 10,
              "solidity": 0.2
             }
            },
            "type": "bar"
           }
          ],
          "barpolar": [
           {
            "marker": {
             "line": {
              "color": "rgb(237,237,237)",
              "width": 0.5
             },
             "pattern": {
              "fillmode": "overlay",
              "size": 10,
              "solidity": 0.2
             }
            },
            "type": "barpolar"
           }
          ],
          "carpet": [
           {
            "aaxis": {
             "endlinecolor": "rgb(51,51,51)",
             "gridcolor": "white",
             "linecolor": "white",
             "minorgridcolor": "white",
             "startlinecolor": "rgb(51,51,51)"
            },
            "baxis": {
             "endlinecolor": "rgb(51,51,51)",
             "gridcolor": "white",
             "linecolor": "white",
             "minorgridcolor": "white",
             "startlinecolor": "rgb(51,51,51)"
            },
            "type": "carpet"
           }
          ],
          "choropleth": [
           {
            "colorbar": {
             "outlinewidth": 0,
             "tickcolor": "rgb(237,237,237)",
             "ticklen": 6,
             "ticks": "inside"
            },
            "type": "choropleth"
           }
          ],
          "contour": [
           {
            "colorbar": {
             "outlinewidth": 0,
             "tickcolor": "rgb(237,237,237)",
             "ticklen": 6,
             "ticks": "inside"
            },
            "colorscale": [
             [
              0,
              "rgb(20,44,66)"
             ],
             [
              1,
              "rgb(90,179,244)"
             ]
            ],
            "type": "contour"
           }
          ],
          "contourcarpet": [
           {
            "colorbar": {
             "outlinewidth": 0,
             "tickcolor": "rgb(237,237,237)",
             "ticklen": 6,
             "ticks": "inside"
            },
            "type": "contourcarpet"
           }
          ],
          "heatmap": [
           {
            "colorbar": {
             "outlinewidth": 0,
             "tickcolor": "rgb(237,237,237)",
             "ticklen": 6,
             "ticks": "inside"
            },
            "colorscale": [
             [
              0,
              "rgb(20,44,66)"
             ],
             [
              1,
              "rgb(90,179,244)"
             ]
            ],
            "type": "heatmap"
           }
          ],
          "heatmapgl": [
           {
            "colorbar": {
             "outlinewidth": 0,
             "tickcolor": "rgb(237,237,237)",
             "ticklen": 6,
             "ticks": "inside"
            },
            "colorscale": [
             [
              0,
              "rgb(20,44,66)"
             ],
             [
              1,
              "rgb(90,179,244)"
             ]
            ],
            "type": "heatmapgl"
           }
          ],
          "histogram": [
           {
            "marker": {
             "pattern": {
              "fillmode": "overlay",
              "size": 10,
              "solidity": 0.2
             }
            },
            "type": "histogram"
           }
          ],
          "histogram2d": [
           {
            "colorbar": {
             "outlinewidth": 0,
             "tickcolor": "rgb(237,237,237)",
             "ticklen": 6,
             "ticks": "inside"
            },
            "colorscale": [
             [
              0,
              "rgb(20,44,66)"
             ],
             [
              1,
              "rgb(90,179,244)"
             ]
            ],
            "type": "histogram2d"
           }
          ],
          "histogram2dcontour": [
           {
            "colorbar": {
             "outlinewidth": 0,
             "tickcolor": "rgb(237,237,237)",
             "ticklen": 6,
             "ticks": "inside"
            },
            "colorscale": [
             [
              0,
              "rgb(20,44,66)"
             ],
             [
              1,
              "rgb(90,179,244)"
             ]
            ],
            "type": "histogram2dcontour"
           }
          ],
          "mesh3d": [
           {
            "colorbar": {
             "outlinewidth": 0,
             "tickcolor": "rgb(237,237,237)",
             "ticklen": 6,
             "ticks": "inside"
            },
            "type": "mesh3d"
           }
          ],
          "parcoords": [
           {
            "line": {
             "colorbar": {
              "outlinewidth": 0,
              "tickcolor": "rgb(237,237,237)",
              "ticklen": 6,
              "ticks": "inside"
             }
            },
            "type": "parcoords"
           }
          ],
          "pie": [
           {
            "automargin": true,
            "type": "pie"
           }
          ],
          "scatter": [
           {
            "fillpattern": {
             "fillmode": "overlay",
             "size": 10,
             "solidity": 0.2
            },
            "type": "scatter"
           }
          ],
          "scatter3d": [
           {
            "line": {
             "colorbar": {
              "outlinewidth": 0,
              "tickcolor": "rgb(237,237,237)",
              "ticklen": 6,
              "ticks": "inside"
             }
            },
            "marker": {
             "colorbar": {
              "outlinewidth": 0,
              "tickcolor": "rgb(237,237,237)",
              "ticklen": 6,
              "ticks": "inside"
             }
            },
            "type": "scatter3d"
           }
          ],
          "scattercarpet": [
           {
            "marker": {
             "colorbar": {
              "outlinewidth": 0,
              "tickcolor": "rgb(237,237,237)",
              "ticklen": 6,
              "ticks": "inside"
             }
            },
            "type": "scattercarpet"
           }
          ],
          "scattergeo": [
           {
            "marker": {
             "colorbar": {
              "outlinewidth": 0,
              "tickcolor": "rgb(237,237,237)",
              "ticklen": 6,
              "ticks": "inside"
             }
            },
            "type": "scattergeo"
           }
          ],
          "scattergl": [
           {
            "marker": {
             "colorbar": {
              "outlinewidth": 0,
              "tickcolor": "rgb(237,237,237)",
              "ticklen": 6,
              "ticks": "inside"
             }
            },
            "type": "scattergl"
           }
          ],
          "scattermapbox": [
           {
            "marker": {
             "colorbar": {
              "outlinewidth": 0,
              "tickcolor": "rgb(237,237,237)",
              "ticklen": 6,
              "ticks": "inside"
             }
            },
            "type": "scattermapbox"
           }
          ],
          "scatterpolar": [
           {
            "marker": {
             "colorbar": {
              "outlinewidth": 0,
              "tickcolor": "rgb(237,237,237)",
              "ticklen": 6,
              "ticks": "inside"
             }
            },
            "type": "scatterpolar"
           }
          ],
          "scatterpolargl": [
           {
            "marker": {
             "colorbar": {
              "outlinewidth": 0,
              "tickcolor": "rgb(237,237,237)",
              "ticklen": 6,
              "ticks": "inside"
             }
            },
            "type": "scatterpolargl"
           }
          ],
          "scatterternary": [
           {
            "marker": {
             "colorbar": {
              "outlinewidth": 0,
              "tickcolor": "rgb(237,237,237)",
              "ticklen": 6,
              "ticks": "inside"
             }
            },
            "type": "scatterternary"
           }
          ],
          "surface": [
           {
            "colorbar": {
             "outlinewidth": 0,
             "tickcolor": "rgb(237,237,237)",
             "ticklen": 6,
             "ticks": "inside"
            },
            "colorscale": [
             [
              0,
              "rgb(20,44,66)"
             ],
             [
              1,
              "rgb(90,179,244)"
             ]
            ],
            "type": "surface"
           }
          ],
          "table": [
           {
            "cells": {
             "fill": {
              "color": "rgb(237,237,237)"
             },
             "line": {
              "color": "white"
             }
            },
            "header": {
             "fill": {
              "color": "rgb(217,217,217)"
             },
             "line": {
              "color": "white"
             }
            },
            "type": "table"
           }
          ]
         },
         "layout": {
          "annotationdefaults": {
           "arrowhead": 0,
           "arrowwidth": 1
          },
          "autotypenumbers": "strict",
          "coloraxis": {
           "colorbar": {
            "outlinewidth": 0,
            "tickcolor": "rgb(237,237,237)",
            "ticklen": 6,
            "ticks": "inside"
           }
          },
          "colorscale": {
           "sequential": [
            [
             0,
             "rgb(20,44,66)"
            ],
            [
             1,
             "rgb(90,179,244)"
            ]
           ],
           "sequentialminus": [
            [
             0,
             "rgb(20,44,66)"
            ],
            [
             1,
             "rgb(90,179,244)"
            ]
           ]
          },
          "colorway": [
           "#F8766D",
           "#A3A500",
           "#00BF7D",
           "#00B0F6",
           "#E76BF3"
          ],
          "font": {
           "color": "rgb(51,51,51)"
          },
          "geo": {
           "bgcolor": "white",
           "lakecolor": "white",
           "landcolor": "rgb(237,237,237)",
           "showlakes": true,
           "showland": true,
           "subunitcolor": "white"
          },
          "hoverlabel": {
           "align": "left"
          },
          "hovermode": "closest",
          "paper_bgcolor": "white",
          "plot_bgcolor": "rgb(237,237,237)",
          "polar": {
           "angularaxis": {
            "gridcolor": "white",
            "linecolor": "white",
            "showgrid": true,
            "tickcolor": "rgb(51,51,51)",
            "ticks": "outside"
           },
           "bgcolor": "rgb(237,237,237)",
           "radialaxis": {
            "gridcolor": "white",
            "linecolor": "white",
            "showgrid": true,
            "tickcolor": "rgb(51,51,51)",
            "ticks": "outside"
           }
          },
          "scene": {
           "xaxis": {
            "backgroundcolor": "rgb(237,237,237)",
            "gridcolor": "white",
            "gridwidth": 2,
            "linecolor": "white",
            "showbackground": true,
            "showgrid": true,
            "tickcolor": "rgb(51,51,51)",
            "ticks": "outside",
            "zerolinecolor": "white"
           },
           "yaxis": {
            "backgroundcolor": "rgb(237,237,237)",
            "gridcolor": "white",
            "gridwidth": 2,
            "linecolor": "white",
            "showbackground": true,
            "showgrid": true,
            "tickcolor": "rgb(51,51,51)",
            "ticks": "outside",
            "zerolinecolor": "white"
           },
           "zaxis": {
            "backgroundcolor": "rgb(237,237,237)",
            "gridcolor": "white",
            "gridwidth": 2,
            "linecolor": "white",
            "showbackground": true,
            "showgrid": true,
            "tickcolor": "rgb(51,51,51)",
            "ticks": "outside",
            "zerolinecolor": "white"
           }
          },
          "shapedefaults": {
           "fillcolor": "black",
           "line": {
            "width": 0
           },
           "opacity": 0.3
          },
          "ternary": {
           "aaxis": {
            "gridcolor": "white",
            "linecolor": "white",
            "showgrid": true,
            "tickcolor": "rgb(51,51,51)",
            "ticks": "outside"
           },
           "baxis": {
            "gridcolor": "white",
            "linecolor": "white",
            "showgrid": true,
            "tickcolor": "rgb(51,51,51)",
            "ticks": "outside"
           },
           "bgcolor": "rgb(237,237,237)",
           "caxis": {
            "gridcolor": "white",
            "linecolor": "white",
            "showgrid": true,
            "tickcolor": "rgb(51,51,51)",
            "ticks": "outside"
           }
          },
          "xaxis": {
           "automargin": true,
           "gridcolor": "white",
           "linecolor": "white",
           "showgrid": true,
           "tickcolor": "rgb(51,51,51)",
           "ticks": "outside",
           "title": {
            "standoff": 15
           },
           "zerolinecolor": "white"
          },
          "yaxis": {
           "automargin": true,
           "gridcolor": "white",
           "linecolor": "white",
           "showgrid": true,
           "tickcolor": "rgb(51,51,51)",
           "ticks": "outside",
           "title": {
            "standoff": 15
           },
           "zerolinecolor": "white"
          }
         }
        },
        "title": {
         "text": "Tumour. 4K top varied vs All expressed."
        },
        "xaxis": {
         "anchor": "y",
         "domain": [
          0,
          0.98
         ],
         "title": {
          "text": "Burden"
         }
        },
        "xaxis2": {
         "anchor": "y2",
         "domain": [
          0,
          0.98
         ],
         "matches": "x",
         "showticklabels": false
        },
        "yaxis": {
         "anchor": "x",
         "domain": [
          0,
          0.485
         ],
         "title": {
          "text": "Num"
         }
        },
        "yaxis2": {
         "anchor": "x2",
         "domain": [
          0.515,
          1
         ],
         "matches": "y",
         "title": {
          "text": "Num"
         }
        }
       }
      }
     },
     "metadata": {},
     "output_type": "display_data"
    }
   ],
   "source": [
    "fig = gh.plot_mut_rep(all_df, title=\"Tumour. 4K top varied vs All expressed.\")\n",
    "fig.show()\n",
    "# save_fig(name=\"MutTF_representation_{}\".format(\"4K-all\"), fig=fig, base_path=figures_path, width=1400, height=700)"
   ]
  },
  {
   "cell_type": "markdown",
   "metadata": {},
   "source": [
    "# TF 6 (report)"
   ]
  },
  {
   "cell_type": "markdown",
   "metadata": {},
   "source": [
    "## Comp\n",
    "\n",
    "### Norm3 and standard"
   ]
  },
  {
   "cell_type": "code",
   "execution_count": 16,
   "metadata": {},
   "outputs": [
    {
     "name": "stdout",
     "output_type": "stream",
     "text": [
      "norm3_4K_6TF has the following communities in addition to standard_4K_6TF: {2, 19, 21, 15}\n"
     ]
    }
   ],
   "source": [
    "%autoreload 2\n",
    "show_figures = False\n",
    "\n",
    "std_norm3_comp_tf10 = NetworkComp(tum, 4, \"standard_4K_6TF\", \"norm3_4K_6TF\")\n",
    "std_norm3_comp_tf10.diff_in_com()\n",
    "\n",
    "if 0:\n",
    "    comp_dict = std_norm3_comp_tf10.comp_ge_comm()\n",
    "    if False:\n",
    "        # TODO move this into NetworkComp\n",
    "        for key, df in comp_dict.items():\n",
    "            fig = px.box(df, x=\"Comm\", y=\"Median\", color=\"Comm\", title=\"Tum Median values in communities for {}\".format(key), points=\"all\")\n",
    "            fig.show()\n",
    "\n",
    "        display(std_norm3_comp_tf10.sankey_plot())\n",
    "        display(std_norm3_comp_tf10.com_mut_distrib(include_source=False))\n",
    "        display(std_norm3_comp_tf10.membership_change(include_source=False))\n",
    "\n",
    "if show_figures:\n",
    "    dmy_df, meta_norm3 = std_norm3_comp_tf10.comb_mut_stats(direction=\"Target\")\n",
    "    # display(std_norm3_comp_tf10.plot_mut_evo(dmy_df, direction=\"Target\"))\n",
    "    display(NetworkComp.plot_corr_matrix_coms(meta_norm3, height=700, title=\"Tum derived. Corr matrix for standard\", hide_up=True))\n",
    "\n",
    "    dmy_df, meta_std = std_norm3_comp_tf10.comb_mut_stats(direction=\"Source\")\n",
    "    # display(std_norm3_comp_tf10.plot_mut_evo(dmy_df, direction=\"Source\"))\n",
    "    display(NetworkComp.plot_corr_matrix_coms(meta_std, height=700, title=\"Tum derived. Corr matrix for reward\", hide_up=True))"
   ]
  },
  {
   "cell_type": "markdown",
   "metadata": {},
   "source": [
    "## Cluster methods"
   ]
  },
  {
   "cell_type": "code",
   "execution_count": 17,
   "metadata": {},
   "outputs": [
    {
     "name": "stdout",
     "output_type": "stream",
     "text": [
      "Variation per principal component [0.33414667 0.26297279] and the sum 59.71%\n",
      "Variation per principal component [0.34480403 0.26605455] and the sum 61.09%\n",
      "Variation per principal component [0.34948211 0.24750797] and the sum 59.70%\n"
     ]
    }
   ],
   "source": [
    "tf = 6\n",
    "comb_std, _, _ = gh.run_clusters(tum.exps[\"standard_4K_{}TF\".format(tf)], label=\"std_tf{}\".format(tf))\n",
    "comb_norm3, _, _ = gh.run_clusters(tum.exps[\"norm3_4K_{}TF\".format(tf)], label=\"norm3_tf{}\".format(tf), show_figs=False)\n",
    "comb_norm3.drop(columns=[\"PC_1\", \"PC_2\"], inplace=True)\n",
    "comb_beta, _, _ = gh.run_clusters(tum.exps[\"beta_4K_{}TF\".format(tf)], label=\"beta_tf{}\".format(tf))\n",
    "comb_beta.drop(columns=[\"PC_1\", \"PC_2\"], inplace=True)\n",
    "\n",
    "sel_exp = tum.exps[\"standard_4K_{}TF\".format(tf)]\n",
    "comb_tf6 = pd.concat([comb_std, comb_norm3, comb_beta, vu_output], axis=1).dropna()"
   ]
  },
  {
   "cell_type": "code",
   "execution_count": 18,
   "metadata": {},
   "outputs": [
    {
     "data": {
      "application/vnd.plotly.v1+json": {
       "config": {
        "plotlyServerURL": "https://plot.ly"
       },
       "data": [
        {
         "arrangement": "perpendicular",
         "link": {
          "color": "#bdbdbd",
          "source": [
           0,
           0,
           0,
           0,
           0,
           0,
           1,
           1,
           1,
           1,
           1,
           2,
           2,
           2,
           2,
           2,
           3,
           3,
           3,
           3,
           4,
           4,
           5,
           5,
           5,
           5,
           6,
           6,
           6,
           7,
           7,
           7,
           7,
           8,
           8,
           9,
           9,
           9,
           9,
           10,
           10,
           11,
           11,
           11,
           11,
           12,
           12,
           12,
           12,
           12,
           13,
           13,
           13,
           14,
           14,
           14,
           15,
           15,
           15,
           15,
           15,
           16,
           17,
           17,
           17,
           18,
           18,
           18,
           18,
           18,
           19,
           19,
           19,
           19,
           19,
           20,
           21,
           21,
           21,
           22,
           22,
           22,
           23,
           23,
           23,
           23
          ],
          "target": [
           6,
           7,
           8,
           9,
           10,
           11,
           7,
           8,
           9,
           10,
           11,
           7,
           8,
           9,
           10,
           11,
           7,
           8,
           9,
           10,
           6,
           8,
           6,
           7,
           9,
           11,
           12,
           13,
           15,
           12,
           13,
           14,
           15,
           14,
           15,
           12,
           14,
           15,
           16,
           16,
           17,
           12,
           13,
           15,
           17,
           18,
           19,
           20,
           21,
           22,
           18,
           20,
           21,
           18,
           19,
           22,
           18,
           19,
           20,
           21,
           22,
           22,
           18,
           21,
           23,
           24,
           25,
           26,
           27,
           29,
           24,
           25,
           26,
           27,
           28,
           24,
           24,
           28,
           29,
           25,
           26,
           27,
           24,
           25,
           26,
           29
          ],
          "value": [
           97,
           15,
           16,
           3,
           1,
           17,
           15,
           2,
           13,
           2,
           4,
           18,
           37,
           54,
           32,
           1,
           10,
           16,
           4,
           1,
           1,
           4,
           2,
           27,
           1,
           11,
           1,
           88,
           11,
           73,
           5,
           2,
           5,
           45,
           30,
           20,
           32,
           8,
           15,
           32,
           4,
           3,
           3,
           2,
           25,
           89,
           3,
           2,
           2,
           1,
           1,
           41,
           54,
           6,
           61,
           12,
           4,
           26,
           24,
           1,
           1,
           47,
           1,
           5,
           23,
           9,
           25,
           28,
           11,
           28,
           9,
           4,
           55,
           18,
           4,
           67,
           55,
           1,
           6,
           4,
           55,
           2,
           9,
           3,
           4,
           7
          ]
         },
         "node": {
          "color": [
           "rgb(229, 134, 6)",
           "rgb(229, 134, 6)",
           "rgb(229, 134, 6)",
           "rgb(229, 134, 6)",
           "rgb(229, 134, 6)",
           "rgb(229, 134, 6)",
           "rgb(93, 105, 177)",
           "rgb(93, 105, 177)",
           "rgb(93, 105, 177)",
           "rgb(93, 105, 177)",
           "rgb(93, 105, 177)",
           "rgb(93, 105, 177)",
           "rgb(82, 188, 163)",
           "rgb(82, 188, 163)",
           "rgb(82, 188, 163)",
           "rgb(82, 188, 163)",
           "rgb(82, 188, 163)",
           "rgb(82, 188, 163)",
           "rgb(153, 201, 69)",
           "rgb(153, 201, 69)",
           "rgb(153, 201, 69)",
           "rgb(153, 201, 69)",
           "rgb(153, 201, 69)",
           "rgb(153, 201, 69)",
           "rgb(204, 97, 176)",
           "rgb(204, 97, 176)",
           "rgb(204, 97, 176)",
           "rgb(204, 97, 176)",
           "rgb(204, 97, 176)",
           "rgb(204, 97, 176)"
          ],
          "label": [
           "Ba/Sq",
           "LumNS",
           "LumP",
           "LumU",
           "NE-like",
           "Stroma-rich",
           0,
           1,
           2,
           3,
           4,
           5,
           0,
           1,
           2,
           3,
           4,
           5,
           0,
           1,
           2,
           3,
           4,
           5,
           "Ba/Sq",
           "LumNS",
           "LumP",
           "LumU",
           "NE-like",
           "Stroma-rich"
          ],
          "line": {
           "color": "black",
           "width": 0.5
          },
          "pad": 15,
          "thickness": 20
         },
         "type": "sankey"
        }
       ],
       "layout": {
        "annotations": [
         {
          "align": "left",
          "font": {
           "color": "#003366",
           "size": 16
          },
          "showarrow": false,
          "text": "TCGA_2017_AM_remap",
          "x": 0,
          "xref": "x",
          "y": 1.07,
          "yref": "paper"
         },
         {
          "align": "left",
          "font": {
           "color": "#003366",
           "size": 16
          },
          "showarrow": false,
          "text": "RawKMeans_CS_6_std_tf6",
          "x": 1,
          "xref": "x",
          "y": 1.07,
          "yref": "paper"
         },
         {
          "align": "left",
          "font": {
           "color": "#003366",
           "size": 16
          },
          "showarrow": false,
          "text": "RawKMeans_CS_6_norm3_tf6",
          "x": 2,
          "xref": "x",
          "y": 1.07,
          "yref": "paper"
         },
         {
          "align": "left",
          "font": {
           "color": "#003366",
           "size": 16
          },
          "showarrow": false,
          "text": "RawKMeans_CS_6_beta_tf6",
          "x": 3,
          "xref": "x",
          "y": 1.07,
          "yref": "paper"
         },
         {
          "align": "left",
          "font": {
           "color": "#003366",
           "size": 16
          },
          "showarrow": false,
          "text": "2019_consensus_classifier",
          "x": 4,
          "xref": "x",
          "y": 1.07,
          "yref": "paper"
         }
        ],
        "font": {
         "color": "#003366",
         "size": 16
        },
        "height": 600,
        "plot_bgcolor": "rgba(0,0,0,0)",
        "template": {
         "data": {
          "bar": [
           {
            "error_x": {
             "color": "rgb(51,51,51)"
            },
            "error_y": {
             "color": "rgb(51,51,51)"
            },
            "marker": {
             "line": {
              "color": "rgb(237,237,237)",
              "width": 0.5
             },
             "pattern": {
              "fillmode": "overlay",
              "size": 10,
              "solidity": 0.2
             }
            },
            "type": "bar"
           }
          ],
          "barpolar": [
           {
            "marker": {
             "line": {
              "color": "rgb(237,237,237)",
              "width": 0.5
             },
             "pattern": {
              "fillmode": "overlay",
              "size": 10,
              "solidity": 0.2
             }
            },
            "type": "barpolar"
           }
          ],
          "carpet": [
           {
            "aaxis": {
             "endlinecolor": "rgb(51,51,51)",
             "gridcolor": "white",
             "linecolor": "white",
             "minorgridcolor": "white",
             "startlinecolor": "rgb(51,51,51)"
            },
            "baxis": {
             "endlinecolor": "rgb(51,51,51)",
             "gridcolor": "white",
             "linecolor": "white",
             "minorgridcolor": "white",
             "startlinecolor": "rgb(51,51,51)"
            },
            "type": "carpet"
           }
          ],
          "choropleth": [
           {
            "colorbar": {
             "outlinewidth": 0,
             "tickcolor": "rgb(237,237,237)",
             "ticklen": 6,
             "ticks": "inside"
            },
            "type": "choropleth"
           }
          ],
          "contour": [
           {
            "colorbar": {
             "outlinewidth": 0,
             "tickcolor": "rgb(237,237,237)",
             "ticklen": 6,
             "ticks": "inside"
            },
            "colorscale": [
             [
              0,
              "rgb(20,44,66)"
             ],
             [
              1,
              "rgb(90,179,244)"
             ]
            ],
            "type": "contour"
           }
          ],
          "contourcarpet": [
           {
            "colorbar": {
             "outlinewidth": 0,
             "tickcolor": "rgb(237,237,237)",
             "ticklen": 6,
             "ticks": "inside"
            },
            "type": "contourcarpet"
           }
          ],
          "heatmap": [
           {
            "colorbar": {
             "outlinewidth": 0,
             "tickcolor": "rgb(237,237,237)",
             "ticklen": 6,
             "ticks": "inside"
            },
            "colorscale": [
             [
              0,
              "rgb(20,44,66)"
             ],
             [
              1,
              "rgb(90,179,244)"
             ]
            ],
            "type": "heatmap"
           }
          ],
          "heatmapgl": [
           {
            "colorbar": {
             "outlinewidth": 0,
             "tickcolor": "rgb(237,237,237)",
             "ticklen": 6,
             "ticks": "inside"
            },
            "colorscale": [
             [
              0,
              "rgb(20,44,66)"
             ],
             [
              1,
              "rgb(90,179,244)"
             ]
            ],
            "type": "heatmapgl"
           }
          ],
          "histogram": [
           {
            "marker": {
             "pattern": {
              "fillmode": "overlay",
              "size": 10,
              "solidity": 0.2
             }
            },
            "type": "histogram"
           }
          ],
          "histogram2d": [
           {
            "colorbar": {
             "outlinewidth": 0,
             "tickcolor": "rgb(237,237,237)",
             "ticklen": 6,
             "ticks": "inside"
            },
            "colorscale": [
             [
              0,
              "rgb(20,44,66)"
             ],
             [
              1,
              "rgb(90,179,244)"
             ]
            ],
            "type": "histogram2d"
           }
          ],
          "histogram2dcontour": [
           {
            "colorbar": {
             "outlinewidth": 0,
             "tickcolor": "rgb(237,237,237)",
             "ticklen": 6,
             "ticks": "inside"
            },
            "colorscale": [
             [
              0,
              "rgb(20,44,66)"
             ],
             [
              1,
              "rgb(90,179,244)"
             ]
            ],
            "type": "histogram2dcontour"
           }
          ],
          "mesh3d": [
           {
            "colorbar": {
             "outlinewidth": 0,
             "tickcolor": "rgb(237,237,237)",
             "ticklen": 6,
             "ticks": "inside"
            },
            "type": "mesh3d"
           }
          ],
          "parcoords": [
           {
            "line": {
             "colorbar": {
              "outlinewidth": 0,
              "tickcolor": "rgb(237,237,237)",
              "ticklen": 6,
              "ticks": "inside"
             }
            },
            "type": "parcoords"
           }
          ],
          "pie": [
           {
            "automargin": true,
            "type": "pie"
           }
          ],
          "scatter": [
           {
            "fillpattern": {
             "fillmode": "overlay",
             "size": 10,
             "solidity": 0.2
            },
            "type": "scatter"
           }
          ],
          "scatter3d": [
           {
            "line": {
             "colorbar": {
              "outlinewidth": 0,
              "tickcolor": "rgb(237,237,237)",
              "ticklen": 6,
              "ticks": "inside"
             }
            },
            "marker": {
             "colorbar": {
              "outlinewidth": 0,
              "tickcolor": "rgb(237,237,237)",
              "ticklen": 6,
              "ticks": "inside"
             }
            },
            "type": "scatter3d"
           }
          ],
          "scattercarpet": [
           {
            "marker": {
             "colorbar": {
              "outlinewidth": 0,
              "tickcolor": "rgb(237,237,237)",
              "ticklen": 6,
              "ticks": "inside"
             }
            },
            "type": "scattercarpet"
           }
          ],
          "scattergeo": [
           {
            "marker": {
             "colorbar": {
              "outlinewidth": 0,
              "tickcolor": "rgb(237,237,237)",
              "ticklen": 6,
              "ticks": "inside"
             }
            },
            "type": "scattergeo"
           }
          ],
          "scattergl": [
           {
            "marker": {
             "colorbar": {
              "outlinewidth": 0,
              "tickcolor": "rgb(237,237,237)",
              "ticklen": 6,
              "ticks": "inside"
             }
            },
            "type": "scattergl"
           }
          ],
          "scattermapbox": [
           {
            "marker": {
             "colorbar": {
              "outlinewidth": 0,
              "tickcolor": "rgb(237,237,237)",
              "ticklen": 6,
              "ticks": "inside"
             }
            },
            "type": "scattermapbox"
           }
          ],
          "scatterpolar": [
           {
            "marker": {
             "colorbar": {
              "outlinewidth": 0,
              "tickcolor": "rgb(237,237,237)",
              "ticklen": 6,
              "ticks": "inside"
             }
            },
            "type": "scatterpolar"
           }
          ],
          "scatterpolargl": [
           {
            "marker": {
             "colorbar": {
              "outlinewidth": 0,
              "tickcolor": "rgb(237,237,237)",
              "ticklen": 6,
              "ticks": "inside"
             }
            },
            "type": "scatterpolargl"
           }
          ],
          "scatterternary": [
           {
            "marker": {
             "colorbar": {
              "outlinewidth": 0,
              "tickcolor": "rgb(237,237,237)",
              "ticklen": 6,
              "ticks": "inside"
             }
            },
            "type": "scatterternary"
           }
          ],
          "surface": [
           {
            "colorbar": {
             "outlinewidth": 0,
             "tickcolor": "rgb(237,237,237)",
             "ticklen": 6,
             "ticks": "inside"
            },
            "colorscale": [
             [
              0,
              "rgb(20,44,66)"
             ],
             [
              1,
              "rgb(90,179,244)"
             ]
            ],
            "type": "surface"
           }
          ],
          "table": [
           {
            "cells": {
             "fill": {
              "color": "rgb(237,237,237)"
             },
             "line": {
              "color": "white"
             }
            },
            "header": {
             "fill": {
              "color": "rgb(217,217,217)"
             },
             "line": {
              "color": "white"
             }
            },
            "type": "table"
           }
          ]
         },
         "layout": {
          "annotationdefaults": {
           "arrowhead": 0,
           "arrowwidth": 1
          },
          "autotypenumbers": "strict",
          "coloraxis": {
           "colorbar": {
            "outlinewidth": 0,
            "tickcolor": "rgb(237,237,237)",
            "ticklen": 6,
            "ticks": "inside"
           }
          },
          "colorscale": {
           "sequential": [
            [
             0,
             "rgb(20,44,66)"
            ],
            [
             1,
             "rgb(90,179,244)"
            ]
           ],
           "sequentialminus": [
            [
             0,
             "rgb(20,44,66)"
            ],
            [
             1,
             "rgb(90,179,244)"
            ]
           ]
          },
          "colorway": [
           "#F8766D",
           "#A3A500",
           "#00BF7D",
           "#00B0F6",
           "#E76BF3"
          ],
          "font": {
           "color": "rgb(51,51,51)"
          },
          "geo": {
           "bgcolor": "white",
           "lakecolor": "white",
           "landcolor": "rgb(237,237,237)",
           "showlakes": true,
           "showland": true,
           "subunitcolor": "white"
          },
          "hoverlabel": {
           "align": "left"
          },
          "hovermode": "closest",
          "paper_bgcolor": "white",
          "plot_bgcolor": "rgb(237,237,237)",
          "polar": {
           "angularaxis": {
            "gridcolor": "white",
            "linecolor": "white",
            "showgrid": true,
            "tickcolor": "rgb(51,51,51)",
            "ticks": "outside"
           },
           "bgcolor": "rgb(237,237,237)",
           "radialaxis": {
            "gridcolor": "white",
            "linecolor": "white",
            "showgrid": true,
            "tickcolor": "rgb(51,51,51)",
            "ticks": "outside"
           }
          },
          "scene": {
           "xaxis": {
            "backgroundcolor": "rgb(237,237,237)",
            "gridcolor": "white",
            "gridwidth": 2,
            "linecolor": "white",
            "showbackground": true,
            "showgrid": true,
            "tickcolor": "rgb(51,51,51)",
            "ticks": "outside",
            "zerolinecolor": "white"
           },
           "yaxis": {
            "backgroundcolor": "rgb(237,237,237)",
            "gridcolor": "white",
            "gridwidth": 2,
            "linecolor": "white",
            "showbackground": true,
            "showgrid": true,
            "tickcolor": "rgb(51,51,51)",
            "ticks": "outside",
            "zerolinecolor": "white"
           },
           "zaxis": {
            "backgroundcolor": "rgb(237,237,237)",
            "gridcolor": "white",
            "gridwidth": 2,
            "linecolor": "white",
            "showbackground": true,
            "showgrid": true,
            "tickcolor": "rgb(51,51,51)",
            "ticks": "outside",
            "zerolinecolor": "white"
           }
          },
          "shapedefaults": {
           "fillcolor": "black",
           "line": {
            "width": 0
           },
           "opacity": 0.3
          },
          "ternary": {
           "aaxis": {
            "gridcolor": "white",
            "linecolor": "white",
            "showgrid": true,
            "tickcolor": "rgb(51,51,51)",
            "ticks": "outside"
           },
           "baxis": {
            "gridcolor": "white",
            "linecolor": "white",
            "showgrid": true,
            "tickcolor": "rgb(51,51,51)",
            "ticks": "outside"
           },
           "bgcolor": "rgb(237,237,237)",
           "caxis": {
            "gridcolor": "white",
            "linecolor": "white",
            "showgrid": true,
            "tickcolor": "rgb(51,51,51)",
            "ticks": "outside"
           }
          },
          "xaxis": {
           "automargin": true,
           "gridcolor": "white",
           "linecolor": "white",
           "showgrid": true,
           "tickcolor": "rgb(51,51,51)",
           "ticks": "outside",
           "title": {
            "standoff": 15
           },
           "zerolinecolor": "white"
          },
          "yaxis": {
           "automargin": true,
           "gridcolor": "white",
           "linecolor": "white",
           "showgrid": true,
           "tickcolor": "rgb(51,51,51)",
           "ticks": "outside",
           "title": {
            "standoff": 15
           },
           "zerolinecolor": "white"
          }
         }
        },
        "title": {
         "text": "Best for standard_4K_6TF. Comp between TCGA_2017_AM_remap, RawKMeans_CS_6_std_tf6, RawKMeans_CS_6_norm3_tf6, RawKMeans_CS_6_beta_tf6, 2019_consensus_classifier "
        },
        "xaxis": {
         "showgrid": false,
         "visible": false,
         "zeroline": false
        },
        "yaxis": {
         "showgrid": false,
         "visible": false,
         "zeroline": false
        }
       }
      }
     },
     "metadata": {},
     "output_type": "display_data"
    }
   ],
   "source": [
    "num = 6\n",
    "cluster_model = \"RawKMeans\"\n",
    "reorder_cols = [\n",
    "    \"TCGA_2017_AM_remap\",\n",
    "    \"{}_CS_{}_std_tf{}\".format(cluster_model, num, tf),\n",
    "    \"{}_CS_{}_norm3_tf{}\".format(cluster_model, num, tf),\n",
    "    \"{}_CS_{}_beta_tf{}\".format(cluster_model, num, tf),\n",
    "    \"2019_consensus_classifier\",\n",
    "]\n",
    "sky.main(df=comb_tf6, reorder_cols=reorder_cols, title=\"Best for {}. Comp between {} \".format(sel_exp.type, \", \".join(reorder_cols)))"
   ]
  },
  {
   "cell_type": "markdown",
   "metadata": {},
   "source": [
    "## Modularity score and Sankey"
   ]
  },
  {
   "cell_type": "code",
   "execution_count": 19,
   "metadata": {},
   "outputs": [
    {
     "name": "stdout",
     "output_type": "stream",
     "text": [
      "Variation per principal component [0.33414667 0.26297279] and the sum 59.71%\n",
      "Variation per principal component [0.34480403 0.26605455] and the sum 61.09%\n",
      "Variation per principal component [0.34948211 0.24750797] and the sum 59.70%\n"
     ]
    }
   ],
   "source": [
    "tf, no_K, no_genes, cs_model = 6, 6, \"4K\", \"RawKMeans\"\n",
    "\n",
    "tum, sky_fig, cols = gh.prep_sankey_leiden(tum, vu_output=vu_output, tf=tf, no_K=no_K, no_genes=no_genes, chosen_cs_model=cs_model)\n",
    "leiden_sky = gh.plot_sankey_leiden(tum, sky_fig=sky_fig, rename_cols=cols, label=\"TF-{}\".format(tf), tf=str(tf))\n",
    "\n",
    "\n",
    "# fig.update_layout(height=1000)\n",
    "# save_fig(name=\"LeidenMetrics_Sankey_{}\".format(\"TF-6\"), fig=leiden_sky, base_path=figures_path, width=1400, height=1000)"
   ]
  },
  {
   "cell_type": "markdown",
   "metadata": {},
   "source": [
    "# TF 10\n",
    "\n",
    "Experiments with lower numbers of edges per TF"
   ]
  },
  {
   "cell_type": "markdown",
   "metadata": {},
   "source": [
    "## Std vs Norm3"
   ]
  },
  {
   "cell_type": "code",
   "execution_count": 22,
   "metadata": {},
   "outputs": [
    {
     "name": "stdout",
     "output_type": "stream",
     "text": [
      "norm3_4K_10TF has the following communities in addition to standard_4K_10TF: {16, 20, 21, 23}\n"
     ]
    }
   ],
   "source": [
    "%autoreload 2\n",
    "std_norm3_comp_tf = NetworkComp(tum, 4, \"standard_4K_10TF\", \"norm3_4K_10TF\")\n",
    "std_norm3_comp_tf.diff_in_com()\n",
    "\n",
    "show_figures = False\n",
    "\n",
    "if show_figures:\n",
    "    comp_dict = std_norm3_comp_tf.comp_ge_comm()\n",
    "    for key, df in comp_dict.items():\n",
    "        fig = px.box(df, x=\"Comm\", y=\"Median\", color=\"Comm\", title=\"Tum Median values in communities for {}\".format(key), points=\"all\")\n",
    "        # fig.show()\n",
    "\n",
    "    # display(std_norm3_comp_tf.sankey_plot())\n",
    "    display(std_norm3_comp_tf.com_mut_distrib(include_source=True, binarySource=True))\n",
    "    # display(std_norm3_comp_tf.membership_change(include_source=False))\n",
    "\n",
    "\n",
    "if show_figures:\n",
    "    dmy_df, meta_norm3 = std_norm3_comp_tf.comb_mut_stats(direction=\"Target\")\n",
    "    # display(std_norm3_comp_tf10.plot_mut_evo(dmy_df, direction=\"Target\"))\n",
    "    display(NetworkComp.plot_corr_matrix_coms(meta_norm3, height=700, title=\"Tum derived. Corr matrix for standard\", hide_up=True))\n",
    "\n",
    "    dmy_df, meta_std = std_norm3_comp_tf.comb_mut_stats(direction=\"Source\")\n",
    "    # display(std_norm3_comp_tf10.plot_mut_evo(dmy_df, direction=\"Source\"))\n",
    "    display(NetworkComp.plot_corr_matrix_coms(meta_std, height=700, title=\"Tum derived. Corr matrix for reward\", hide_up=True))"
   ]
  },
  {
   "cell_type": "code",
   "execution_count": null,
   "metadata": {},
   "outputs": [],
   "source": [
    "selModCon = tum.exps[\"norm3_4K_10TF\"].modCons\n",
    "for com in [16, 20, 21, 23]:\n",
    "    print(\"* Com = {}\".format(com))\n",
    "    print(selModCon[com].index.values)\n",
    "    # print(\"* Com_{} = {}\".format(com, \", \".join(selModCon[com].index.values)))"
   ]
  },
  {
   "cell_type": "markdown",
   "metadata": {},
   "source": [
    "### Mutation evolution"
   ]
  },
  {
   "cell_type": "code",
   "execution_count": null,
   "metadata": {},
   "outputs": [],
   "source": [
    "if 0:\n",
    "    dmy_df = std_norm3_comp_tf.comb_mut_stats(direction=\"Target\")\n",
    "    display(std_norm3_comp_tf.plot_mut_evo(dmy_df, direction=\"Target\"))\n",
    "\n",
    "    dmy_df = std_norm3_comp_tf.comb_mut_stats(direction=\"Source\")\n",
    "    display(std_norm3_comp_tf.plot_mut_evo(dmy_df, direction=\"Source\"))"
   ]
  },
  {
   "cell_type": "markdown",
   "metadata": {},
   "source": [
    "## Std vs beta"
   ]
  },
  {
   "cell_type": "code",
   "execution_count": null,
   "metadata": {},
   "outputs": [],
   "source": [
    "%autoreload 2\n",
    "std_beta_comp_tf = NetworkComp(tum, 4, \"standard_4K_10TF\", \"beta_4K_10TF\")\n",
    "std_beta_comp_tf.diff_in_com()\n",
    "\n",
    "show_figures = False\n",
    "if show_figures:\n",
    "    comp_dict = std_beta_comp_tf.comp_ge_comm()\n",
    "    for key, df in comp_dict.items():\n",
    "        fig = px.box(df, x=\"Comm\", y=\"Median\", color=\"Comm\", title=\"Tum Median values in communities for {}\".format(key), points=\"all\")\n",
    "        # fig.show()\n",
    "\n",
    "\n",
    "    # display(std_beta_comp_tf.sankey_plot())\n",
    "    display(std_beta_comp_tf.com_mut_distrib(include_source=True,  binarySource=True))\n",
    "    # display(std_beta_comp_tf.membership_change(include_source=False))\n",
    "\n",
    "\n",
    "if show_figures:\n",
    "    std_beta_comp_tf.comp_df = std_beta_comp_tf.comp_df.fillna(0)\n",
    "    dmy_df, meta_std = std_beta_comp_tf.comb_mut_stats(direction=\"Target\")\n",
    "    # display(std_norm3_comp_tf10.plot_mut_evo(dmy_df, direction=\"Target\"))\n",
    "    display(NetworkComp.plot_corr_matrix_coms(meta_std, height=700, title=\"Tum derived. Corr matrix for standard\", hide_up=True))\n",
    "\n",
    "    dmy_df, meta_beta = std_beta_comp_tf.comb_mut_stats(direction=\"Source\")\n",
    "    # display(std_norm3_comp_tf10.plot_mut_evo(dmy_df, direction=\"Source\"))\n",
    "    display(NetworkComp.plot_corr_matrix_coms(meta_beta, height=700, title=\"Tum derived. Corr matrix for beta\", hide_up=True))"
   ]
  },
  {
   "cell_type": "markdown",
   "metadata": {},
   "source": [
    "## Morpheus\n",
    "### Export"
   ]
  },
  {
   "cell_type": "code",
   "execution_count": null,
   "metadata": {},
   "outputs": [],
   "source": [
    "%autoreload 2 \n",
    "if 0:\n",
    "    no_genes = 100\n",
    "    for exp in tum.get_exps():\n",
    "        if \"beta2\" in exp.name or \"beta3\" in exp.name:\n",
    "            continue\n",
    "\n",
    "        sort_col = \"ModCon_{}\".format(exp.type)\n",
    "\n",
    "        exp.mevsMut, data = exp.get_mevs(exp.tpm_df, exp.modCons, sort_col=sort_col, num_genes=100)\n",
    "        exp.export_morpheus_mevs(vu_output, exp.name + \"_mut_100\", tum=True)"
   ]
  },
  {
   "cell_type": "markdown",
   "metadata": {},
   "source": [
    "### Import"
   ]
  },
  {
   "cell_type": "code",
   "execution_count": null,
   "metadata": {},
   "outputs": [],
   "source": [
    "def import_morpheus(path, col_name=\"PGCNA_cut\"):\n",
    "    df = pd.read_csv(path, sep=\"\\t\", skiprows=2, index_col=\"id\")\n",
    "    df.index.names = [\"Sample\"]\n",
    "    df = df.transpose().rename(columns={\"dendrogram_cut\": col_name})\n",
    "    return df"
   ]
  },
  {
   "cell_type": "code",
   "execution_count": null,
   "metadata": {},
   "outputs": [],
   "source": [
    "if 0:\n",
    "    m_path = \"{}/Stats/morpheus/10TF/cut_{}/\".format(tum.path, 6)\n",
    "\n",
    "    morpheus_std = import_morpheus(path=\"{}/{}_g{}.gct\".format(m_path, \"std\", 100), col_name=\"tum_std\")\n",
    "    morpheus_norm3 = import_morpheus(path=\"{}/{}_g{}.gct\".format(m_path, \"norm3\", 100), col_name=\"tum_norm3\")\n",
    "    morpheus_beta = import_morpheus(path=\"{}/{}_g{}.gct\".format(m_path, \"beta\", 100), col_name=\"tum_beta\")\n",
    "    dmy_df = pd.concat([morpheus_std[\"tum_std\"], morpheus_norm3[\"tum_norm3\"], morpheus_beta[\"tum_beta\"], vu_output], axis=1).dropna()\n",
    "    # dmy_df.drop(index=[\"dendrogram_cut\"], axis=1, inplace=True)\n",
    "    reorder_cols = [\n",
    "        \"KMeans_labels_5\",\n",
    "        \"TCGA408_classifier\",\n",
    "        \"tum_std\",\n",
    "        \"tum_norm3\",\n",
    "        \"tum_beta\",\n",
    "    ]\n",
    "    sky.main(df=dmy_df, reorder_cols=reorder_cols, title=\"Cut 7, Comparison between \" + \", \".join(reorder_cols))\n",
    "\n",
    "    sel_samples = dmy_df[dmy_df[\"TCGA\"] == \"Luminal_infiltrated\"].copy(deep=True)\n",
    "    sel_samples = dmy_df.copy(deep=True)\n",
    "    sel_samples[\"mut_count\"] = tcga_mutations_df.sum(axis=0)\n",
    "\n",
    "    px.histogram(sel_samples, x=\"TCGA408_classifier\", y=\"mut_count\")"
   ]
  },
  {
   "cell_type": "markdown",
   "metadata": {},
   "source": [
    "## Clustering methods\n",
    "\n",
    "Find the optimal clustering"
   ]
  },
  {
   "cell_type": "markdown",
   "metadata": {},
   "source": [
    "### Modifiers - best results\n",
    "\n",
    "* Standard\n",
    "  * Best results are given by clusters 4-6\n",
    "\n",
    "* Norm3\n",
    "  * When I run the experimnts with clustering methods: `[\"Birch\", \"RawKMeans\", \"GaussianMixture\", \"Ward\", \"SpectralClustering\", \"Avg\"]` and comparted the metrics the Kmeans 4-6 exhibited the best results\n",
    "* Beta"
   ]
  },
  {
   "cell_type": "code",
   "execution_count": 27,
   "metadata": {},
   "outputs": [
    {
     "name": "stdout",
     "output_type": "stream",
     "text": [
      "Variation per principal component [0.34775526 0.26150788] and the sum 60.93%\n",
      "Variation per principal component [0.3370373  0.27936119] and the sum 61.64%\n",
      "Variation per principal component [0.34907942 0.25774995] and the sum 60.68%\n"
     ]
    }
   ],
   "source": [
    "tf = 10\n",
    "comb_std, _, _ = gh.run_clusters(tum.exps[\"standard_4K_{}TF\".format(tf)], label=\"std_tf{}\".format(tf))\n",
    "comb_norm3, _, _  = gh.run_clusters(tum.exps[\"norm3_4K_{}TF\".format(tf)], label=\"norm3_tf{}\".format(tf), show_figs=False)\n",
    "comb_norm3.drop(columns=[\"PC_1\", \"PC_2\"], inplace=True)\n",
    "comb_beta, _, _ = gh.run_clusters(tum.exps[\"beta_4K_{}TF\".format(tf)], label=\"beta_tf{}\".format(tf))\n",
    "comb_beta.drop(columns=[\"PC_1\", \"PC_2\"], inplace=True)\n",
    "\n",
    "sel_exp = tum.exps[\"standard_4K_{}TF\".format(tf)]\n",
    "comb_tf10 = pd.concat([comb_std, comb_norm3, comb_beta, vu_output], axis=1).dropna()"
   ]
  },
  {
   "cell_type": "markdown",
   "metadata": {},
   "source": [
    "### Compare the best results between norm3 and standard\n",
    "\n",
    "On K-means comparisons:\n",
    " * From what I can see that there is no major difference when CS is set between 3-4, but from >5 there are large differences.\n",
    "\n",
    "Avg:\n",
    "* Can't make the difference at Basal split\n",
    "\n",
    "Spectral Clustering \n",
    "* It can only split the Basal after CS > 7\n",
    "* Apart from that it has a similar behaviour with Kmeans\n"
   ]
  },
  {
   "cell_type": "code",
   "execution_count": null,
   "metadata": {},
   "outputs": [],
   "source": [
    "num = 6\n",
    "cluster_model = \"RawKMeans\"\n",
    "reorder_cols = [\n",
    "    \"KMeans_labels_5\",\n",
    "    \"{}_CS_{}_std_tf{}\".format(cluster_model, num, tf),\n",
    "    \"{}_CS_{}_norm3_tf{}\".format(cluster_model, num, tf),\n",
    "    \"{}_CS_{}_beta_tf{}\".format(cluster_model, num, tf),\n",
    "]\n",
    "# sky.main(df=comb_tf10, reorder_cols=reorder_cols, title=\"Best for {}. Comp between {} \".format(sel_exp.type, \", \".join(reorder_cols)))\n",
    "\n",
    "# variations = [\"_\".join(col.split(\"_\")[:2]) for col in comb_std.columns]\n",
    "# set(variations)"
   ]
  },
  {
   "cell_type": "markdown",
   "metadata": {},
   "source": [
    "# TF 50"
   ]
  },
  {
   "cell_type": "markdown",
   "metadata": {},
   "source": [
    "## Median values for each community"
   ]
  },
  {
   "cell_type": "code",
   "execution_count": null,
   "metadata": {},
   "outputs": [],
   "source": [
    "%autoreload 2\n",
    "std_norm3_comp_tf50 = NetworkComp(tum, 4, \"standard_4K_50TF\", \"norm3_4K_50TF\")\n",
    "std_norm3_comp_tf50.diff_in_com()\n",
    "display(std_norm3_comp_tf50.sankey_plot())\n",
    "\n",
    "if 0:\n",
    "    comp_dict = std_norm3_comp_tf50.comp_ge_comm()\n",
    "    for key, df in comp_dict.items():\n",
    "        fig = px.box(df, x=\"Comm\", y=\"Median\", color=\"Comm\", title=\"Tum. Median values in communities for {}\".format(key), points=\"all\")\n",
    "        fig.show()\n",
    "\n",
    "    display(std_norm3_comp_tf50.sankey_plot())\n",
    "    display(std_norm3_comp_tf50.com_mut_distrib(include_source=True))\n",
    "    display(std_norm3_comp_tf50.membership_change(include_source=True))"
   ]
  },
  {
   "cell_type": "markdown",
   "metadata": {},
   "source": [
    "## Mutation evolution\n"
   ]
  },
  {
   "cell_type": "code",
   "execution_count": null,
   "metadata": {},
   "outputs": [],
   "source": [
    "if 0:\n",
    "    dmy_df = std_norm3_comp_tf50.comb_mut_stats(direction=\"Target\")\n",
    "    display(std_norm3_comp_tf50.plot_mut_evo(dmy_df, direction=\"Target\"))\n",
    "\n",
    "    dmy_df = std_norm3_comp_tf50.comb_mut_stats(direction=\"Source\")\n",
    "    std_norm3_comp_tf50.plot_mut_evo(dmy_df, direction=\"Source\")"
   ]
  },
  {
   "cell_type": "markdown",
   "metadata": {},
   "source": [
    "## Clustering"
   ]
  },
  {
   "cell_type": "code",
   "execution_count": 24,
   "metadata": {},
   "outputs": [
    {
     "name": "stdout",
     "output_type": "stream",
     "text": [
      "Variation per principal component [0.34623    0.28250341] and the sum 62.87%\n",
      "Variation per principal component [0.38524433 0.2417056 ] and the sum 62.69%\n",
      "Variation per principal component [0.41105467 0.20591684] and the sum 61.70%\n"
     ]
    }
   ],
   "source": [
    "tf = 50\n",
    "comb_std, _, _ = gh.run_clusters(tum.exps[\"standard_4K_{}TF\".format(tf)], label=\"std_tf{}\".format(tf))\n",
    "comb_norm3, _, _ = gh.run_clusters(tum.exps[\"norm3_4K_{}TF\".format(tf)], label=\"norm3_tf{}\".format(tf))\n",
    "comb_norm3.drop(columns=[\"PC_1\", \"PC_2\"], inplace=True)\n",
    "comb_beta, _, _ = gh.run_clusters(tum.exps[\"beta_4K_{}TF\".format(tf)], label=\"beta_tf{}\".format(tf))\n",
    "comb_beta.drop(columns=[\"PC_1\", \"PC_2\"], inplace=True)\n",
    "\n",
    "sel_exp = tum.exps[\"standard_4K_{}TF\".format(tf)]\n",
    "comb_tf50 = pd.concat([comb_std, comb_norm3, comb_beta, vu_output], axis=1).dropna()"
   ]
  },
  {
   "cell_type": "code",
   "execution_count": null,
   "metadata": {},
   "outputs": [],
   "source": [
    "num = 6\n",
    "cluster_model = \"RawKMeans\"\n",
    "reorder_cols = [\n",
    "    \"KMeans_labels_5\",\n",
    "    \"{}_CS_{}_std_tf{}\".format(cluster_model, num, tf),\n",
    "    \"{}_CS_{}_norm3_tf{}\".format(cluster_model, num, tf),\n",
    "    \"{}_CS_{}_beta_tf{}\".format(cluster_model, num, tf),\n",
    "]\n",
    "# sky.main(df=comb_tf50, reorder_cols=reorder_cols, title=\"Best for {}. Comp between {} \".format(sel_exp.type, \", \".join(reorder_cols)))"
   ]
  },
  {
   "cell_type": "markdown",
   "metadata": {},
   "source": [
    "# TF 3"
   ]
  },
  {
   "cell_type": "markdown",
   "metadata": {},
   "source": [
    "## Cluster methods"
   ]
  },
  {
   "cell_type": "code",
   "execution_count": 26,
   "metadata": {},
   "outputs": [
    {
     "name": "stdout",
     "output_type": "stream",
     "text": [
      "Variation per principal component [0.324855   0.27349363] and the sum 59.83%\n",
      "Variation per principal component [0.34426125 0.25185594] and the sum 59.61%\n",
      "Variation per principal component [0.35032186 0.24843387] and the sum 59.88%\n"
     ]
    }
   ],
   "source": [
    "tf = 3\n",
    "comb_std, _, _   = gh.run_clusters(tum.exps[\"standard_4K_{}TF\".format(tf)], label=\"std_tf{}\".format(tf))\n",
    "comb_norm3, _, _  = gh.run_clusters(tum.exps[\"norm3_4K_{}TF\".format(tf)], label=\"norm3_tf{}\".format(tf))\n",
    "comb_norm3.drop(columns=[\"PC_1\", \"PC_2\"], inplace=True)\n",
    "comb_beta, _, _  = gh.run_clusters(tum.exps[\"beta_4K_{}TF\".format(tf)], label=\"beta_tf{}\".format(tf))\n",
    "comb_beta.drop(columns=[\"PC_1\", \"PC_2\"], inplace=True)\n",
    "\n",
    "sel_exp = tum.exps[\"standard_4K_{}TF\".format(tf)]\n",
    "comb_tf3 = pd.concat([comb_std, comb_norm3, comb_beta, vu_output], axis=1).dropna()"
   ]
  },
  {
   "cell_type": "code",
   "execution_count": null,
   "metadata": {},
   "outputs": [],
   "source": [
    "num = 3\n",
    "cluster_model = \"RawKMeans\"\n",
    "reorder_cols = [\n",
    "    \"KMeans_labels_5\",\n",
    "    \"{}_CS_{}_std_tf{}\".format(cluster_model, num, tf),\n",
    "    \"{}_CS_{}_norm3_tf{}\".format(cluster_model, num, tf),\n",
    "    \"{}_CS_{}_beta_tf{}\".format(cluster_model, num, tf),\n",
    "]\n",
    "# sky.main(df=comb_tf3, reorder_cols=reorder_cols, title=\"Best for {}. Comp between {} \".format(sel_exp.type, \", \".join(reorder_cols)))"
   ]
  },
  {
   "cell_type": "markdown",
   "metadata": {},
   "source": [
    "# Clutering comp across TF experiments"
   ]
  },
  {
   "cell_type": "markdown",
   "metadata": {},
   "source": [
    "## Norm3 (Reward)"
   ]
  },
  {
   "cell_type": "code",
   "execution_count": 29,
   "metadata": {},
   "outputs": [
    {
     "data": {
      "application/vnd.plotly.v1+json": {
       "config": {
        "plotlyServerURL": "https://plot.ly"
       },
       "data": [
        {
         "arrangement": "perpendicular",
         "link": {
          "color": "#bdbdbd",
          "source": [
           0,
           0,
           0,
           0,
           1,
           1,
           1,
           1,
           2,
           2,
           2,
           2,
           2,
           3,
           3,
           3,
           3,
           3,
           4,
           4,
           4,
           5,
           5,
           5,
           5,
           5,
           6,
           6,
           6,
           6,
           7,
           7,
           7,
           8,
           8,
           8,
           9,
           9,
           9,
           9,
           10,
           10,
           10,
           11,
           11,
           12,
           12,
           12,
           13,
           13,
           13,
           14,
           14,
           14,
           15,
           15,
           15,
           15,
           15,
           16,
           16,
           16,
           17,
           17,
           18,
           18,
           18,
           18,
           18,
           19,
           19,
           19,
           19,
           20,
           20,
           20,
           20,
           20,
           21,
           21,
           21,
           21,
           22,
           22,
           23,
           23,
           23
          ],
          "target": [
           6,
           8,
           9,
           11,
           6,
           7,
           8,
           9,
           6,
           7,
           8,
           10,
           11,
           6,
           7,
           8,
           10,
           11,
           6,
           8,
           9,
           6,
           7,
           8,
           9,
           11,
           12,
           13,
           14,
           15,
           12,
           14,
           15,
           12,
           13,
           15,
           12,
           13,
           15,
           17,
           14,
           15,
           16,
           15,
           17,
           18,
           20,
           21,
           20,
           21,
           23,
           18,
           19,
           22,
           18,
           19,
           20,
           21,
           23,
           18,
           19,
           22,
           22,
           23,
           24,
           25,
           26,
           28,
           29,
           24,
           26,
           28,
           29,
           25,
           26,
           27,
           28,
           29,
           25,
           27,
           28,
           29,
           24,
           26,
           25,
           27,
           29
          ],
          "value": [
           5,
           2,
           47,
           12,
           2,
           4,
           32,
           3,
           88,
           14,
           1,
           7,
           7,
           5,
           59,
           1,
           50,
           2,
           1,
           26,
           6,
           3,
           13,
           5,
           4,
           5,
           91,
           1,
           7,
           5,
           3,
           64,
           23,
           2,
           41,
           24,
           1,
           54,
           1,
           4,
           8,
           2,
           47,
           1,
           25,
           83,
           2,
           12,
           39,
           47,
           10,
           15,
           60,
           4,
           7,
           23,
           24,
           1,
           1,
           2,
           1,
           44,
           2,
           27,
           45,
           51,
           5,
           4,
           2,
           42,
           27,
           5,
           10,
           2,
           1,
           5,
           53,
           4,
           15,
           39,
           2,
           4,
           10,
           40,
           9,
           24,
           5
          ]
         },
         "node": {
          "color": [
           "rgb(229, 134, 6)",
           "rgb(229, 134, 6)",
           "rgb(229, 134, 6)",
           "rgb(229, 134, 6)",
           "rgb(229, 134, 6)",
           "rgb(229, 134, 6)",
           "rgb(93, 105, 177)",
           "rgb(93, 105, 177)",
           "rgb(93, 105, 177)",
           "rgb(93, 105, 177)",
           "rgb(93, 105, 177)",
           "rgb(93, 105, 177)",
           "rgb(82, 188, 163)",
           "rgb(82, 188, 163)",
           "rgb(82, 188, 163)",
           "rgb(82, 188, 163)",
           "rgb(82, 188, 163)",
           "rgb(82, 188, 163)",
           "rgb(153, 201, 69)",
           "rgb(153, 201, 69)",
           "rgb(153, 201, 69)",
           "rgb(153, 201, 69)",
           "rgb(153, 201, 69)",
           "rgb(153, 201, 69)",
           "rgb(204, 97, 176)",
           "rgb(204, 97, 176)",
           "rgb(204, 97, 176)",
           "rgb(204, 97, 176)",
           "rgb(204, 97, 176)",
           "rgb(204, 97, 176)"
          ],
          "label": [
           "High IFNG",
           "Low IFNG",
           "Lum Inf/NS",
           "LumP",
           "Med IFNG",
           "Ne",
           0,
           1,
           2,
           3,
           4,
           5,
           0,
           1,
           2,
           3,
           4,
           5,
           0,
           1,
           2,
           3,
           4,
           5,
           0,
           1,
           2,
           3,
           4,
           5
          ],
          "line": {
           "color": "black",
           "width": 0.5
          },
          "pad": 15,
          "thickness": 20
         },
         "type": "sankey"
        }
       ],
       "layout": {
        "annotations": [
         {
          "align": "left",
          "font": {
           "color": "#003366",
           "size": 16
          },
          "showarrow": false,
          "text": "KMeans_labels_6",
          "x": 0,
          "xref": "x",
          "y": 1.07,
          "yref": "paper"
         },
         {
          "align": "left",
          "font": {
           "color": "#003366",
           "size": 16
          },
          "showarrow": false,
          "text": "RawKMeans_CS_6_norm3_tf3",
          "x": 1,
          "xref": "x",
          "y": 1.07,
          "yref": "paper"
         },
         {
          "align": "left",
          "font": {
           "color": "#003366",
           "size": 16
          },
          "showarrow": false,
          "text": "RawKMeans_CS_6_norm3_tf6",
          "x": 2,
          "xref": "x",
          "y": 1.07,
          "yref": "paper"
         },
         {
          "align": "left",
          "font": {
           "color": "#003366",
           "size": 16
          },
          "showarrow": false,
          "text": "RawKMeans_CS_6_norm3_tf10",
          "x": 3,
          "xref": "x",
          "y": 1.07,
          "yref": "paper"
         },
         {
          "align": "left",
          "font": {
           "color": "#003366",
           "size": 16
          },
          "showarrow": false,
          "text": "RawKMeans_CS_6",
          "x": 4,
          "xref": "x",
          "y": 1.07,
          "yref": "paper"
         }
        ],
        "font": {
         "color": "#003366",
         "size": 16
        },
        "height": 600,
        "plot_bgcolor": "rgba(0,0,0,0)",
        "template": {
         "data": {
          "bar": [
           {
            "error_x": {
             "color": "rgb(51,51,51)"
            },
            "error_y": {
             "color": "rgb(51,51,51)"
            },
            "marker": {
             "line": {
              "color": "rgb(237,237,237)",
              "width": 0.5
             },
             "pattern": {
              "fillmode": "overlay",
              "size": 10,
              "solidity": 0.2
             }
            },
            "type": "bar"
           }
          ],
          "barpolar": [
           {
            "marker": {
             "line": {
              "color": "rgb(237,237,237)",
              "width": 0.5
             },
             "pattern": {
              "fillmode": "overlay",
              "size": 10,
              "solidity": 0.2
             }
            },
            "type": "barpolar"
           }
          ],
          "carpet": [
           {
            "aaxis": {
             "endlinecolor": "rgb(51,51,51)",
             "gridcolor": "white",
             "linecolor": "white",
             "minorgridcolor": "white",
             "startlinecolor": "rgb(51,51,51)"
            },
            "baxis": {
             "endlinecolor": "rgb(51,51,51)",
             "gridcolor": "white",
             "linecolor": "white",
             "minorgridcolor": "white",
             "startlinecolor": "rgb(51,51,51)"
            },
            "type": "carpet"
           }
          ],
          "choropleth": [
           {
            "colorbar": {
             "outlinewidth": 0,
             "tickcolor": "rgb(237,237,237)",
             "ticklen": 6,
             "ticks": "inside"
            },
            "type": "choropleth"
           }
          ],
          "contour": [
           {
            "colorbar": {
             "outlinewidth": 0,
             "tickcolor": "rgb(237,237,237)",
             "ticklen": 6,
             "ticks": "inside"
            },
            "colorscale": [
             [
              0,
              "rgb(20,44,66)"
             ],
             [
              1,
              "rgb(90,179,244)"
             ]
            ],
            "type": "contour"
           }
          ],
          "contourcarpet": [
           {
            "colorbar": {
             "outlinewidth": 0,
             "tickcolor": "rgb(237,237,237)",
             "ticklen": 6,
             "ticks": "inside"
            },
            "type": "contourcarpet"
           }
          ],
          "heatmap": [
           {
            "colorbar": {
             "outlinewidth": 0,
             "tickcolor": "rgb(237,237,237)",
             "ticklen": 6,
             "ticks": "inside"
            },
            "colorscale": [
             [
              0,
              "rgb(20,44,66)"
             ],
             [
              1,
              "rgb(90,179,244)"
             ]
            ],
            "type": "heatmap"
           }
          ],
          "heatmapgl": [
           {
            "colorbar": {
             "outlinewidth": 0,
             "tickcolor": "rgb(237,237,237)",
             "ticklen": 6,
             "ticks": "inside"
            },
            "colorscale": [
             [
              0,
              "rgb(20,44,66)"
             ],
             [
              1,
              "rgb(90,179,244)"
             ]
            ],
            "type": "heatmapgl"
           }
          ],
          "histogram": [
           {
            "marker": {
             "pattern": {
              "fillmode": "overlay",
              "size": 10,
              "solidity": 0.2
             }
            },
            "type": "histogram"
           }
          ],
          "histogram2d": [
           {
            "colorbar": {
             "outlinewidth": 0,
             "tickcolor": "rgb(237,237,237)",
             "ticklen": 6,
             "ticks": "inside"
            },
            "colorscale": [
             [
              0,
              "rgb(20,44,66)"
             ],
             [
              1,
              "rgb(90,179,244)"
             ]
            ],
            "type": "histogram2d"
           }
          ],
          "histogram2dcontour": [
           {
            "colorbar": {
             "outlinewidth": 0,
             "tickcolor": "rgb(237,237,237)",
             "ticklen": 6,
             "ticks": "inside"
            },
            "colorscale": [
             [
              0,
              "rgb(20,44,66)"
             ],
             [
              1,
              "rgb(90,179,244)"
             ]
            ],
            "type": "histogram2dcontour"
           }
          ],
          "mesh3d": [
           {
            "colorbar": {
             "outlinewidth": 0,
             "tickcolor": "rgb(237,237,237)",
             "ticklen": 6,
             "ticks": "inside"
            },
            "type": "mesh3d"
           }
          ],
          "parcoords": [
           {
            "line": {
             "colorbar": {
              "outlinewidth": 0,
              "tickcolor": "rgb(237,237,237)",
              "ticklen": 6,
              "ticks": "inside"
             }
            },
            "type": "parcoords"
           }
          ],
          "pie": [
           {
            "automargin": true,
            "type": "pie"
           }
          ],
          "scatter": [
           {
            "fillpattern": {
             "fillmode": "overlay",
             "size": 10,
             "solidity": 0.2
            },
            "type": "scatter"
           }
          ],
          "scatter3d": [
           {
            "line": {
             "colorbar": {
              "outlinewidth": 0,
              "tickcolor": "rgb(237,237,237)",
              "ticklen": 6,
              "ticks": "inside"
             }
            },
            "marker": {
             "colorbar": {
              "outlinewidth": 0,
              "tickcolor": "rgb(237,237,237)",
              "ticklen": 6,
              "ticks": "inside"
             }
            },
            "type": "scatter3d"
           }
          ],
          "scattercarpet": [
           {
            "marker": {
             "colorbar": {
              "outlinewidth": 0,
              "tickcolor": "rgb(237,237,237)",
              "ticklen": 6,
              "ticks": "inside"
             }
            },
            "type": "scattercarpet"
           }
          ],
          "scattergeo": [
           {
            "marker": {
             "colorbar": {
              "outlinewidth": 0,
              "tickcolor": "rgb(237,237,237)",
              "ticklen": 6,
              "ticks": "inside"
             }
            },
            "type": "scattergeo"
           }
          ],
          "scattergl": [
           {
            "marker": {
             "colorbar": {
              "outlinewidth": 0,
              "tickcolor": "rgb(237,237,237)",
              "ticklen": 6,
              "ticks": "inside"
             }
            },
            "type": "scattergl"
           }
          ],
          "scattermapbox": [
           {
            "marker": {
             "colorbar": {
              "outlinewidth": 0,
              "tickcolor": "rgb(237,237,237)",
              "ticklen": 6,
              "ticks": "inside"
             }
            },
            "type": "scattermapbox"
           }
          ],
          "scatterpolar": [
           {
            "marker": {
             "colorbar": {
              "outlinewidth": 0,
              "tickcolor": "rgb(237,237,237)",
              "ticklen": 6,
              "ticks": "inside"
             }
            },
            "type": "scatterpolar"
           }
          ],
          "scatterpolargl": [
           {
            "marker": {
             "colorbar": {
              "outlinewidth": 0,
              "tickcolor": "rgb(237,237,237)",
              "ticklen": 6,
              "ticks": "inside"
             }
            },
            "type": "scatterpolargl"
           }
          ],
          "scatterternary": [
           {
            "marker": {
             "colorbar": {
              "outlinewidth": 0,
              "tickcolor": "rgb(237,237,237)",
              "ticklen": 6,
              "ticks": "inside"
             }
            },
            "type": "scatterternary"
           }
          ],
          "surface": [
           {
            "colorbar": {
             "outlinewidth": 0,
             "tickcolor": "rgb(237,237,237)",
             "ticklen": 6,
             "ticks": "inside"
            },
            "colorscale": [
             [
              0,
              "rgb(20,44,66)"
             ],
             [
              1,
              "rgb(90,179,244)"
             ]
            ],
            "type": "surface"
           }
          ],
          "table": [
           {
            "cells": {
             "fill": {
              "color": "rgb(237,237,237)"
             },
             "line": {
              "color": "white"
             }
            },
            "header": {
             "fill": {
              "color": "rgb(217,217,217)"
             },
             "line": {
              "color": "white"
             }
            },
            "type": "table"
           }
          ]
         },
         "layout": {
          "annotationdefaults": {
           "arrowhead": 0,
           "arrowwidth": 1
          },
          "autotypenumbers": "strict",
          "coloraxis": {
           "colorbar": {
            "outlinewidth": 0,
            "tickcolor": "rgb(237,237,237)",
            "ticklen": 6,
            "ticks": "inside"
           }
          },
          "colorscale": {
           "sequential": [
            [
             0,
             "rgb(20,44,66)"
            ],
            [
             1,
             "rgb(90,179,244)"
            ]
           ],
           "sequentialminus": [
            [
             0,
             "rgb(20,44,66)"
            ],
            [
             1,
             "rgb(90,179,244)"
            ]
           ]
          },
          "colorway": [
           "#F8766D",
           "#A3A500",
           "#00BF7D",
           "#00B0F6",
           "#E76BF3"
          ],
          "font": {
           "color": "rgb(51,51,51)"
          },
          "geo": {
           "bgcolor": "white",
           "lakecolor": "white",
           "landcolor": "rgb(237,237,237)",
           "showlakes": true,
           "showland": true,
           "subunitcolor": "white"
          },
          "hoverlabel": {
           "align": "left"
          },
          "hovermode": "closest",
          "paper_bgcolor": "white",
          "plot_bgcolor": "rgb(237,237,237)",
          "polar": {
           "angularaxis": {
            "gridcolor": "white",
            "linecolor": "white",
            "showgrid": true,
            "tickcolor": "rgb(51,51,51)",
            "ticks": "outside"
           },
           "bgcolor": "rgb(237,237,237)",
           "radialaxis": {
            "gridcolor": "white",
            "linecolor": "white",
            "showgrid": true,
            "tickcolor": "rgb(51,51,51)",
            "ticks": "outside"
           }
          },
          "scene": {
           "xaxis": {
            "backgroundcolor": "rgb(237,237,237)",
            "gridcolor": "white",
            "gridwidth": 2,
            "linecolor": "white",
            "showbackground": true,
            "showgrid": true,
            "tickcolor": "rgb(51,51,51)",
            "ticks": "outside",
            "zerolinecolor": "white"
           },
           "yaxis": {
            "backgroundcolor": "rgb(237,237,237)",
            "gridcolor": "white",
            "gridwidth": 2,
            "linecolor": "white",
            "showbackground": true,
            "showgrid": true,
            "tickcolor": "rgb(51,51,51)",
            "ticks": "outside",
            "zerolinecolor": "white"
           },
           "zaxis": {
            "backgroundcolor": "rgb(237,237,237)",
            "gridcolor": "white",
            "gridwidth": 2,
            "linecolor": "white",
            "showbackground": true,
            "showgrid": true,
            "tickcolor": "rgb(51,51,51)",
            "ticks": "outside",
            "zerolinecolor": "white"
           }
          },
          "shapedefaults": {
           "fillcolor": "black",
           "line": {
            "width": 0
           },
           "opacity": 0.3
          },
          "ternary": {
           "aaxis": {
            "gridcolor": "white",
            "linecolor": "white",
            "showgrid": true,
            "tickcolor": "rgb(51,51,51)",
            "ticks": "outside"
           },
           "baxis": {
            "gridcolor": "white",
            "linecolor": "white",
            "showgrid": true,
            "tickcolor": "rgb(51,51,51)",
            "ticks": "outside"
           },
           "bgcolor": "rgb(237,237,237)",
           "caxis": {
            "gridcolor": "white",
            "linecolor": "white",
            "showgrid": true,
            "tickcolor": "rgb(51,51,51)",
            "ticks": "outside"
           }
          },
          "xaxis": {
           "automargin": true,
           "gridcolor": "white",
           "linecolor": "white",
           "showgrid": true,
           "tickcolor": "rgb(51,51,51)",
           "ticks": "outside",
           "title": {
            "standoff": 15
           },
           "zerolinecolor": "white"
          },
          "yaxis": {
           "automargin": true,
           "gridcolor": "white",
           "linecolor": "white",
           "showgrid": true,
           "tickcolor": "rgb(51,51,51)",
           "ticks": "outside",
           "title": {
            "standoff": 15
           },
           "zerolinecolor": "white"
          }
         }
        },
        "title": {
         "text": "Best for Norm3. Comp between KMeans_labels_6, RawKMeans_CS_6_norm3_tf3, RawKMeans_CS_6_norm3_tf6, RawKMeans_CS_6_norm3_tf10, RawKMeans_CS_6 "
        },
        "xaxis": {
         "showgrid": false,
         "visible": false,
         "zeroline": false
        },
        "yaxis": {
         "showgrid": false,
         "visible": false,
         "zeroline": false
        }
       }
      }
     },
     "metadata": {},
     "output_type": "display_data"
    }
   ],
   "source": [
    "comb_all_tfs = pd.concat(\n",
    "    [comb_tf3, comb_tf6.drop(columns=vu_output.columns), comb_tf10.drop(columns=vu_output.columns), comb_tf50.drop(columns=vu_output.columns)], axis=1\n",
    ")\n",
    "\n",
    "reorder_cols = [\n",
    "    \"KMeans_labels_6\",\n",
    "    # \"{}_CS_{}_std_tf{}\".format(cluster_model, num, 6),\n",
    "    \"{}_CS_{}_norm3_tf{}\".format(cluster_model, num, 3),\n",
    "    \"{}_CS_{}_norm3_tf{}\".format(cluster_model, num, 6),\n",
    "    \"{}_CS_{}_norm3_tf{}\".format(cluster_model, num, 10),\n",
    "    \"RawKMeans_CS_6\",\n",
    "    # \"KMeans_labels_5\",\n",
    "    # \"{}_CS_{}_norm3_tf{}\".format(cluster_model, num, 50),\n",
    "]\n",
    "sky.main(df=comb_all_tfs, reorder_cols=reorder_cols, title=\"Best for {}. Comp between {} \".format(\"Norm3\", \", \".join(reorder_cols)))"
   ]
  },
  {
   "cell_type": "markdown",
   "metadata": {},
   "source": [
    "## TF 10 norm3 and standard"
   ]
  },
  {
   "cell_type": "code",
   "execution_count": 30,
   "metadata": {},
   "outputs": [
    {
     "data": {
      "application/vnd.plotly.v1+json": {
       "config": {
        "plotlyServerURL": "https://plot.ly"
       },
       "data": [
        {
         "arrangement": "perpendicular",
         "link": {
          "color": "#bdbdbd",
          "source": [
           0,
           0,
           0,
           0,
           0,
           0,
           1,
           1,
           1,
           2,
           2,
           2,
           3,
           3,
           3,
           3,
           4,
           4,
           4,
           5,
           5,
           5,
           5,
           6,
           6,
           6,
           6,
           6,
           7,
           7,
           7,
           7,
           7,
           7,
           8,
           8,
           8,
           8,
           9,
           9,
           9,
           9,
           10,
           10,
           10,
           10,
           10,
           11,
           11,
           11,
           11,
           12,
           12,
           13,
           13,
           13,
           14,
           14,
           14,
           15,
           15,
           16,
           16,
           16,
           16
          ],
          "target": [
           5,
           6,
           7,
           8,
           9,
           10,
           5,
           7,
           10,
           7,
           8,
           10,
           6,
           7,
           8,
           10,
           6,
           7,
           10,
           11,
           13,
           14,
           16,
           11,
           12,
           13,
           14,
           16,
           11,
           12,
           13,
           14,
           15,
           16,
           11,
           12,
           13,
           15,
           11,
           13,
           14,
           16,
           11,
           12,
           13,
           14,
           16,
           17,
           18,
           19,
           21,
           18,
           21,
           18,
           19,
           20,
           17,
           19,
           20,
           21,
           22,
           17,
           19,
           20,
           22
          ],
          "value": [
           61,
           35,
           4,
           1,
           33,
           7,
           5,
           71,
           1,
           18,
           6,
           1,
           5,
           23,
           110,
           3,
           1,
           1,
           18,
           1,
           2,
           40,
           23,
           2,
           4,
           31,
           2,
           2,
           87,
           9,
           1,
           8,
           5,
           7,
           13,
           58,
           1,
           45,
           1,
           25,
           6,
           1,
           3,
           13,
           5,
           4,
           5,
           90,
           11,
           1,
           5,
           78,
           6,
           1,
           61,
           3,
           12,
           2,
           46,
           48,
           2,
           1,
           2,
           12,
           23
          ]
         },
         "node": {
          "color": [
           "rgb(229, 134, 6)",
           "rgb(229, 134, 6)",
           "rgb(229, 134, 6)",
           "rgb(229, 134, 6)",
           "rgb(229, 134, 6)",
           "rgb(93, 105, 177)",
           "rgb(93, 105, 177)",
           "rgb(93, 105, 177)",
           "rgb(93, 105, 177)",
           "rgb(93, 105, 177)",
           "rgb(93, 105, 177)",
           "rgb(82, 188, 163)",
           "rgb(82, 188, 163)",
           "rgb(82, 188, 163)",
           "rgb(82, 188, 163)",
           "rgb(82, 188, 163)",
           "rgb(82, 188, 163)",
           "rgb(153, 201, 69)",
           "rgb(153, 201, 69)",
           "rgb(153, 201, 69)",
           "rgb(153, 201, 69)",
           "rgb(153, 201, 69)",
           "rgb(153, 201, 69)"
          ],
          "label": [
           "Ba/Sq",
           "LumInf",
           "LumNS",
           "LumP",
           "NE-like",
           "High IFNG",
           "Low IFNG",
           "Lum Inf/NS",
           "LumP",
           "Med IFNG",
           "Ne",
           0,
           1,
           2,
           3,
           4,
           5,
           0,
           1,
           2,
           3,
           4,
           5
          ],
          "line": {
           "color": "black",
           "width": 0.5
          },
          "pad": 15,
          "thickness": 20
         },
         "type": "sankey"
        }
       ],
       "layout": {
        "annotations": [
         {
          "align": "left",
          "font": {
           "color": "#003366",
           "size": 16
          },
          "showarrow": false,
          "text": "TCGA408_classifier",
          "x": 0,
          "xref": "x",
          "y": 1.07,
          "yref": "paper"
         },
         {
          "align": "left",
          "font": {
           "color": "#003366",
           "size": 16
          },
          "showarrow": false,
          "text": "KMeans_labels_6",
          "x": 1,
          "xref": "x",
          "y": 1.07,
          "yref": "paper"
         },
         {
          "align": "left",
          "font": {
           "color": "#003366",
           "size": 16
          },
          "showarrow": false,
          "text": "RawKMeans_CS_6_norm3_tf10",
          "x": 2,
          "xref": "x",
          "y": 1.07,
          "yref": "paper"
         },
         {
          "align": "left",
          "font": {
           "color": "#003366",
           "size": 16
          },
          "showarrow": false,
          "text": "RawKMeans_CS_6_std_tf10",
          "x": 3,
          "xref": "x",
          "y": 1.07,
          "yref": "paper"
         }
        ],
        "font": {
         "color": "#003366",
         "size": 16
        },
        "height": 700,
        "plot_bgcolor": "rgba(0,0,0,0)",
        "template": {
         "data": {
          "bar": [
           {
            "error_x": {
             "color": "rgb(51,51,51)"
            },
            "error_y": {
             "color": "rgb(51,51,51)"
            },
            "marker": {
             "line": {
              "color": "rgb(237,237,237)",
              "width": 0.5
             },
             "pattern": {
              "fillmode": "overlay",
              "size": 10,
              "solidity": 0.2
             }
            },
            "type": "bar"
           }
          ],
          "barpolar": [
           {
            "marker": {
             "line": {
              "color": "rgb(237,237,237)",
              "width": 0.5
             },
             "pattern": {
              "fillmode": "overlay",
              "size": 10,
              "solidity": 0.2
             }
            },
            "type": "barpolar"
           }
          ],
          "carpet": [
           {
            "aaxis": {
             "endlinecolor": "rgb(51,51,51)",
             "gridcolor": "white",
             "linecolor": "white",
             "minorgridcolor": "white",
             "startlinecolor": "rgb(51,51,51)"
            },
            "baxis": {
             "endlinecolor": "rgb(51,51,51)",
             "gridcolor": "white",
             "linecolor": "white",
             "minorgridcolor": "white",
             "startlinecolor": "rgb(51,51,51)"
            },
            "type": "carpet"
           }
          ],
          "choropleth": [
           {
            "colorbar": {
             "outlinewidth": 0,
             "tickcolor": "rgb(237,237,237)",
             "ticklen": 6,
             "ticks": "inside"
            },
            "type": "choropleth"
           }
          ],
          "contour": [
           {
            "colorbar": {
             "outlinewidth": 0,
             "tickcolor": "rgb(237,237,237)",
             "ticklen": 6,
             "ticks": "inside"
            },
            "colorscale": [
             [
              0,
              "rgb(20,44,66)"
             ],
             [
              1,
              "rgb(90,179,244)"
             ]
            ],
            "type": "contour"
           }
          ],
          "contourcarpet": [
           {
            "colorbar": {
             "outlinewidth": 0,
             "tickcolor": "rgb(237,237,237)",
             "ticklen": 6,
             "ticks": "inside"
            },
            "type": "contourcarpet"
           }
          ],
          "heatmap": [
           {
            "colorbar": {
             "outlinewidth": 0,
             "tickcolor": "rgb(237,237,237)",
             "ticklen": 6,
             "ticks": "inside"
            },
            "colorscale": [
             [
              0,
              "rgb(20,44,66)"
             ],
             [
              1,
              "rgb(90,179,244)"
             ]
            ],
            "type": "heatmap"
           }
          ],
          "heatmapgl": [
           {
            "colorbar": {
             "outlinewidth": 0,
             "tickcolor": "rgb(237,237,237)",
             "ticklen": 6,
             "ticks": "inside"
            },
            "colorscale": [
             [
              0,
              "rgb(20,44,66)"
             ],
             [
              1,
              "rgb(90,179,244)"
             ]
            ],
            "type": "heatmapgl"
           }
          ],
          "histogram": [
           {
            "marker": {
             "pattern": {
              "fillmode": "overlay",
              "size": 10,
              "solidity": 0.2
             }
            },
            "type": "histogram"
           }
          ],
          "histogram2d": [
           {
            "colorbar": {
             "outlinewidth": 0,
             "tickcolor": "rgb(237,237,237)",
             "ticklen": 6,
             "ticks": "inside"
            },
            "colorscale": [
             [
              0,
              "rgb(20,44,66)"
             ],
             [
              1,
              "rgb(90,179,244)"
             ]
            ],
            "type": "histogram2d"
           }
          ],
          "histogram2dcontour": [
           {
            "colorbar": {
             "outlinewidth": 0,
             "tickcolor": "rgb(237,237,237)",
             "ticklen": 6,
             "ticks": "inside"
            },
            "colorscale": [
             [
              0,
              "rgb(20,44,66)"
             ],
             [
              1,
              "rgb(90,179,244)"
             ]
            ],
            "type": "histogram2dcontour"
           }
          ],
          "mesh3d": [
           {
            "colorbar": {
             "outlinewidth": 0,
             "tickcolor": "rgb(237,237,237)",
             "ticklen": 6,
             "ticks": "inside"
            },
            "type": "mesh3d"
           }
          ],
          "parcoords": [
           {
            "line": {
             "colorbar": {
              "outlinewidth": 0,
              "tickcolor": "rgb(237,237,237)",
              "ticklen": 6,
              "ticks": "inside"
             }
            },
            "type": "parcoords"
           }
          ],
          "pie": [
           {
            "automargin": true,
            "type": "pie"
           }
          ],
          "scatter": [
           {
            "fillpattern": {
             "fillmode": "overlay",
             "size": 10,
             "solidity": 0.2
            },
            "type": "scatter"
           }
          ],
          "scatter3d": [
           {
            "line": {
             "colorbar": {
              "outlinewidth": 0,
              "tickcolor": "rgb(237,237,237)",
              "ticklen": 6,
              "ticks": "inside"
             }
            },
            "marker": {
             "colorbar": {
              "outlinewidth": 0,
              "tickcolor": "rgb(237,237,237)",
              "ticklen": 6,
              "ticks": "inside"
             }
            },
            "type": "scatter3d"
           }
          ],
          "scattercarpet": [
           {
            "marker": {
             "colorbar": {
              "outlinewidth": 0,
              "tickcolor": "rgb(237,237,237)",
              "ticklen": 6,
              "ticks": "inside"
             }
            },
            "type": "scattercarpet"
           }
          ],
          "scattergeo": [
           {
            "marker": {
             "colorbar": {
              "outlinewidth": 0,
              "tickcolor": "rgb(237,237,237)",
              "ticklen": 6,
              "ticks": "inside"
             }
            },
            "type": "scattergeo"
           }
          ],
          "scattergl": [
           {
            "marker": {
             "colorbar": {
              "outlinewidth": 0,
              "tickcolor": "rgb(237,237,237)",
              "ticklen": 6,
              "ticks": "inside"
             }
            },
            "type": "scattergl"
           }
          ],
          "scattermapbox": [
           {
            "marker": {
             "colorbar": {
              "outlinewidth": 0,
              "tickcolor": "rgb(237,237,237)",
              "ticklen": 6,
              "ticks": "inside"
             }
            },
            "type": "scattermapbox"
           }
          ],
          "scatterpolar": [
           {
            "marker": {
             "colorbar": {
              "outlinewidth": 0,
              "tickcolor": "rgb(237,237,237)",
              "ticklen": 6,
              "ticks": "inside"
             }
            },
            "type": "scatterpolar"
           }
          ],
          "scatterpolargl": [
           {
            "marker": {
             "colorbar": {
              "outlinewidth": 0,
              "tickcolor": "rgb(237,237,237)",
              "ticklen": 6,
              "ticks": "inside"
             }
            },
            "type": "scatterpolargl"
           }
          ],
          "scatterternary": [
           {
            "marker": {
             "colorbar": {
              "outlinewidth": 0,
              "tickcolor": "rgb(237,237,237)",
              "ticklen": 6,
              "ticks": "inside"
             }
            },
            "type": "scatterternary"
           }
          ],
          "surface": [
           {
            "colorbar": {
             "outlinewidth": 0,
             "tickcolor": "rgb(237,237,237)",
             "ticklen": 6,
             "ticks": "inside"
            },
            "colorscale": [
             [
              0,
              "rgb(20,44,66)"
             ],
             [
              1,
              "rgb(90,179,244)"
             ]
            ],
            "type": "surface"
           }
          ],
          "table": [
           {
            "cells": {
             "fill": {
              "color": "rgb(237,237,237)"
             },
             "line": {
              "color": "white"
             }
            },
            "header": {
             "fill": {
              "color": "rgb(217,217,217)"
             },
             "line": {
              "color": "white"
             }
            },
            "type": "table"
           }
          ]
         },
         "layout": {
          "annotationdefaults": {
           "arrowhead": 0,
           "arrowwidth": 1
          },
          "autotypenumbers": "strict",
          "coloraxis": {
           "colorbar": {
            "outlinewidth": 0,
            "tickcolor": "rgb(237,237,237)",
            "ticklen": 6,
            "ticks": "inside"
           }
          },
          "colorscale": {
           "sequential": [
            [
             0,
             "rgb(20,44,66)"
            ],
            [
             1,
             "rgb(90,179,244)"
            ]
           ],
           "sequentialminus": [
            [
             0,
             "rgb(20,44,66)"
            ],
            [
             1,
             "rgb(90,179,244)"
            ]
           ]
          },
          "colorway": [
           "#F8766D",
           "#A3A500",
           "#00BF7D",
           "#00B0F6",
           "#E76BF3"
          ],
          "font": {
           "color": "rgb(51,51,51)"
          },
          "geo": {
           "bgcolor": "white",
           "lakecolor": "white",
           "landcolor": "rgb(237,237,237)",
           "showlakes": true,
           "showland": true,
           "subunitcolor": "white"
          },
          "hoverlabel": {
           "align": "left"
          },
          "hovermode": "closest",
          "paper_bgcolor": "white",
          "plot_bgcolor": "rgb(237,237,237)",
          "polar": {
           "angularaxis": {
            "gridcolor": "white",
            "linecolor": "white",
            "showgrid": true,
            "tickcolor": "rgb(51,51,51)",
            "ticks": "outside"
           },
           "bgcolor": "rgb(237,237,237)",
           "radialaxis": {
            "gridcolor": "white",
            "linecolor": "white",
            "showgrid": true,
            "tickcolor": "rgb(51,51,51)",
            "ticks": "outside"
           }
          },
          "scene": {
           "xaxis": {
            "backgroundcolor": "rgb(237,237,237)",
            "gridcolor": "white",
            "gridwidth": 2,
            "linecolor": "white",
            "showbackground": true,
            "showgrid": true,
            "tickcolor": "rgb(51,51,51)",
            "ticks": "outside",
            "zerolinecolor": "white"
           },
           "yaxis": {
            "backgroundcolor": "rgb(237,237,237)",
            "gridcolor": "white",
            "gridwidth": 2,
            "linecolor": "white",
            "showbackground": true,
            "showgrid": true,
            "tickcolor": "rgb(51,51,51)",
            "ticks": "outside",
            "zerolinecolor": "white"
           },
           "zaxis": {
            "backgroundcolor": "rgb(237,237,237)",
            "gridcolor": "white",
            "gridwidth": 2,
            "linecolor": "white",
            "showbackground": true,
            "showgrid": true,
            "tickcolor": "rgb(51,51,51)",
            "ticks": "outside",
            "zerolinecolor": "white"
           }
          },
          "shapedefaults": {
           "fillcolor": "black",
           "line": {
            "width": 0
           },
           "opacity": 0.3
          },
          "ternary": {
           "aaxis": {
            "gridcolor": "white",
            "linecolor": "white",
            "showgrid": true,
            "tickcolor": "rgb(51,51,51)",
            "ticks": "outside"
           },
           "baxis": {
            "gridcolor": "white",
            "linecolor": "white",
            "showgrid": true,
            "tickcolor": "rgb(51,51,51)",
            "ticks": "outside"
           },
           "bgcolor": "rgb(237,237,237)",
           "caxis": {
            "gridcolor": "white",
            "linecolor": "white",
            "showgrid": true,
            "tickcolor": "rgb(51,51,51)",
            "ticks": "outside"
           }
          },
          "xaxis": {
           "automargin": true,
           "gridcolor": "white",
           "linecolor": "white",
           "showgrid": true,
           "tickcolor": "rgb(51,51,51)",
           "ticks": "outside",
           "title": {
            "standoff": 15
           },
           "zerolinecolor": "white"
          },
          "yaxis": {
           "automargin": true,
           "gridcolor": "white",
           "linecolor": "white",
           "showgrid": true,
           "tickcolor": "rgb(51,51,51)",
           "ticks": "outside",
           "title": {
            "standoff": 15
           },
           "zerolinecolor": "white"
          }
         }
        },
        "title": {
         "text": "Bio+Kmeans_5 - Network_Standard - Network_Reward - TCGA"
        },
        "xaxis": {
         "showgrid": false,
         "visible": false,
         "zeroline": false
        },
        "yaxis": {
         "showgrid": false,
         "visible": false,
         "zeroline": false
        }
       }
      }
     },
     "metadata": {},
     "output_type": "display_data"
    }
   ],
   "source": [
    "comb_all_tfs = pd.concat([comb_tf6.drop(columns=vu_output.columns), comb_tf10, comb_tf50.drop(columns=vu_output.columns)], axis=1)\n",
    "num = 6\n",
    "cluster_model = \"RawKMeans\"\n",
    "reorder_cols = [\n",
    "    \"TCGA408_classifier\",\n",
    "    \"KMeans_labels_6\",\n",
    "    \"{}_CS_{}_norm3_tf{}\".format(cluster_model, num, 10),\n",
    "    \"{}_CS_{}_std_tf{}\".format(cluster_model, num, 10),\n",
    "    # \"RawKMeans_CS_6\",\n",
    "    # \"KMeans_labels_5\",\n",
    "    # \"{}_CS_{}_norm3_tf{}\".format(cluster_model, num, 50),\n",
    "]\n",
    "# for col in reorder_cols:\n",
    "#     comb_all_tfs[col] = comb_all_tfs[col].astype(str)\n",
    "title = \"Bio+Kmeans_5 - Network_Standard - Network_Reward - TCGA\"\n",
    "meta, fig = sky.main(df=comb_all_tfs, reorder_cols=reorder_cols, title=title, retMeta=True)\n",
    "fig.update_layout(height=700)\n",
    "fig.show()"
   ]
  },
  {
   "cell_type": "code",
   "execution_count": null,
   "metadata": {},
   "outputs": [],
   "source": [
    "# fig.update_layout(font=dict(size=16))\n",
    "# save_fig(name=\"Sankey_comp_NetworkVsStandard_num-{}_TF-{}\".format(num, 10), fig=fig, base_path=figures_path, width=1400, height=900)"
   ]
  },
  {
   "cell_type": "markdown",
   "metadata": {},
   "source": [
    "## Exploring Community enrichment for Basal 3 splits"
   ]
  },
  {
   "cell_type": "code",
   "execution_count": null,
   "metadata": {},
   "outputs": [],
   "source": [
    "transform_cols = [\"TCGA408_classifier\", \"consensus\", \"Lund2017.subtype\"]\n",
    "for col in transform_cols:\n",
    "    vu_output[col] = vu_output[col].astype(\"category\")\n",
    "    vu_output[col + \"_num\"] = vu_output[col].cat.codes"
   ]
  },
  {
   "cell_type": "code",
   "execution_count": null,
   "metadata": {},
   "outputs": [],
   "source": [
    "cluster_model = \"RawKMeans\"\n",
    "num = 6\n",
    "sel_exp = tum.exps[\"norm3_4K_10TF\"]\n",
    "sel_model = \"{}_CS_{}_norm3_tf{}\".format(cluster_model, num, 10)\n",
    "prep_df = comb_tf10.loc[comb_tf10[sel_model].isin([2.0, 5.0, 4.0])]  # select the inf enriched clusters\n",
    "\n",
    "sel_cols = [\"KMeans_labels_6\", sel_model]\n",
    "prep_df = prep_df[sel_cols]\n",
    "prep_df[\"KMeans_labels_6_num\"] = pd.factorize(prep_df[\"KMeans_labels_6\"])[0]\n",
    "prep_df.drop(columns=[\"KMeans_labels_6\"], inplace=True)\n",
    "\n",
    "prep_df = pd.concat(\n",
    "    [\n",
    "        prep_df,\n",
    "        sel_exp.mevsMut,\n",
    "    ],\n",
    "    axis=1,\n",
    ").dropna()\n",
    "\n",
    "\n",
    "mevs_name = \"mevs_{}.tsv\".format(\"Basal3_norm3\")\n",
    "prep_df.transpose().to_csv(\"{}stats/{}\".format(sel_exp.exps_path, mevs_name), sep=\"\\t\", index=True)"
   ]
  },
  {
   "cell_type": "code",
   "execution_count": null,
   "metadata": {},
   "outputs": [],
   "source": [
    "comb_norm3 = gh.run_clusters(tum.exps[\"norm3_4K_{}TF\".format(tf)], label=\"norm3_tf{}\".format(tf))"
   ]
  },
  {
   "cell_type": "code",
   "execution_count": null,
   "metadata": {},
   "outputs": [],
   "source": [
    "dmy_df = comb_tf10.loc[comb_tf10[sel_model].isin([2.0, 5.0, 4.0])]  # select the inf enriched clusters\n",
    "dmy_df = pd.concat([dmy_df[sel_model], sel_exp.mevsMut], axis=1).dropna()\n",
    "\n",
    "dmy_df = dmy_df.loc[dmy_df[sel_model] == 2.0][dmy_df.columns[1:]]\n",
    "top_coms = {}\n",
    "num_top = 10\n",
    "cmn_coms = set()\n",
    "for idx, value in dmy_df.iterrows():\n",
    "    cmn_comns = set(value.sort_values(ascending=False)[:num_top].index.values) & set(cmn_coms)"
   ]
  },
  {
   "cell_type": "code",
   "execution_count": null,
   "metadata": {},
   "outputs": [],
   "source": [
    "# prep_df.loc[prep_df[sel_model]==4.0, sel_model] = 7\n",
    "# prep_df.loc[prep_df[sel_model]==5.0, sel_model] = 4.0\n",
    "# prep_df.loc[prep_df[sel_model]==7.0, sel_model] = 5"
   ]
  },
  {
   "cell_type": "code",
   "execution_count": null,
   "metadata": {},
   "outputs": [],
   "source": [
    "# sky.main(prep_df, reorder_cols=[\"KMeans_labels_6\", sel_model], title=\"Com\")"
   ]
  },
  {
   "cell_type": "markdown",
   "metadata": {},
   "source": [
    "### Estimate score"
   ]
  },
  {
   "cell_type": "code",
   "execution_count": 32,
   "metadata": {},
   "outputs": [
    {
     "data": {
      "application/vnd.plotly.v1+json": {
       "config": {
        "plotlyServerURL": "https://plot.ly"
       },
       "data": [
        {
         "hovertemplate": "RawKMeans_CS_6_norm3_tf10=0.0<br>ESTIMATE_score=%{x}<br>IFNG_score=%{y}<br>infiltration_score=%{marker.size}<extra></extra>",
         "legendgroup": "0.0",
         "marker": {
          "color": "#F8766D",
          "size": [
           6,
           3,
           6,
           6,
           3,
           0,
           0,
           6,
           0,
           6,
           6,
           0,
           0,
           6,
           0,
           0,
           6,
           3,
           6,
           6,
           6,
           6,
           0,
           0,
           3,
           6,
           3,
           6,
           6,
           6,
           6,
           0,
           0,
           3,
           3,
           6,
           3,
           3,
           3,
           3,
           6,
           6,
           6,
           6,
           6,
           0,
           6,
           0,
           6,
           0,
           6,
           6,
           3,
           3,
           0,
           0,
           3,
           0,
           0,
           0,
           0,
           3,
           6,
           0,
           0,
           0,
           0,
           0,
           0,
           6,
           6,
           6,
           6,
           0,
           6,
           0,
           6,
           0,
           3,
           0,
           6,
           0,
           6,
           6,
           6,
           6,
           3,
           3,
           6,
           0,
           0,
           6,
           0,
           3,
           0,
           0,
           3,
           0,
           3,
           6,
           3,
           6,
           6,
           0,
           3,
           3,
           6
          ],
          "sizemode": "area",
          "sizeref": 0.015,
          "symbol": "circle"
         },
         "mode": "markers",
         "name": "0.0",
         "orientation": "v",
         "showlegend": true,
         "type": "scatter",
         "x": [
          642.44,
          -304.12,
          2875.19,
          -640.98,
          -918.43,
          27.98,
          39.37,
          736.73,
          55.25,
          -814.08,
          473.91,
          -902.69,
          -1114.39,
          -1053.77,
          -960.47,
          -1947.45,
          -267.77,
          738.14,
          -1636.37,
          -1472.93,
          196.55,
          119.52,
          -230.75,
          -1951.75,
          234.16,
          -700.95,
          645.95,
          -1163.3,
          -291.8,
          -1001.84,
          -1130.48,
          1259.97,
          -737.63,
          -1319.84,
          -819.62,
          -486.36,
          -1600.61,
          -1589.89,
          -400.71,
          -1521.92,
          385.77,
          -1313.68,
          -424.48,
          -352.6,
          -1002.06,
          1227.07,
          -473.16,
          1046.09,
          725.4,
          -376.12,
          888.7,
          141.86,
          571.39,
          -885.33,
          1113.14,
          -238.62,
          689.34,
          -1405.34,
          -93.61,
          -1868.89,
          520.2,
          -1257.25,
          -347.26,
          -892.66,
          -360.64,
          -205.54,
          597.56,
          -245.55,
          -1353.1,
          -1077.3,
          -1027.09,
          1680.22,
          960.84,
          92.67,
          3063.19,
          507.1,
          -251.96,
          -26.65,
          1092.6,
          1122.15,
          528.6,
          795.87,
          -1514.35,
          -936.91,
          -699.41,
          1575.13,
          -102.56,
          1350.19,
          1046.39,
          -525.69,
          898.1,
          -296.42,
          1129.27,
          -292.78,
          462.32,
          -204.99,
          -204.67,
          411.61,
          -1042.44,
          1194.19,
          -825.47,
          -1515.88,
          327.76,
          608.96,
          -815.56,
          -563.11,
          761.56
         ],
         "xaxis": "x",
         "y": [
          0.8356667895148057,
          0.5307299531193364,
          0.6804914044042714,
          0.6312448562339843,
          0.5977730037955247,
          0.6559711784163559,
          0.6055954445289314,
          0.7048887289188207,
          0.6832124263580329,
          0.5573459053245992,
          0.6966191126519213,
          0.4706609784669872,
          0.5747662989366864,
          0.394883905474584,
          0.4101028946876275,
          0.5195986110241698,
          0.6550775394095553,
          0.6365455874834722,
          0.5108184006713817,
          0.5437229299761317,
          0.5900086280645084,
          0.7123203084886605,
          0.7120283236998569,
          0.4619179697500258,
          0.5941511675948331,
          0.5327385829595391,
          0.5473645018249622,
          0.4901305614140481,
          0.581013677512791,
          0.8121621584615683,
          0.4840606205919666,
          0.7015201007667704,
          0.6909493723066186,
          0.7382737885317167,
          0.643357605502915,
          0.7117375337935579,
          0.6820532868372159,
          0.6184967267855427,
          0.7256160634353969,
          0.5746520111988567,
          0.5713707641306238,
          0.6004371020928436,
          0.6207051053185728,
          0.6682498731928026,
          0.5041996846974687,
          0.6285614374586039,
          0.5046409452602547,
          0.6670084020014433,
          0.727465462864746,
          0.5269501885395403,
          0.7890793865418594,
          0.53052764383123,
          0.5553169694319753,
          0.4828807554607728,
          0.6033214493640585,
          0.5105350220088276,
          0.5358817537366436,
          0.5238945190141748,
          0.4926412604728117,
          0.4085567252801533,
          0.5334051797898183,
          0.4698002943172568,
          0.5591951337716725,
          0.5187942251717685,
          0.5786744330790403,
          0.725155345481348,
          0.699798979605692,
          0.5758571068686318,
          0.7681911559751957,
          0.6228511196803596,
          0.4463319397155766,
          0.739385931737488,
          0.5924302129932524,
          0.5434559521636667,
          0.6217530101218254,
          0.5721428162663322,
          0.5155929406217742,
          0.5415651917841121,
          0.6494042793132937,
          0.5272422285125892,
          0.7133467480883738,
          0.5097758367068796,
          0.8169188408061143,
          0.4924567227101453,
          0.5115324084587608,
          0.8113566049412765,
          0.509637106830688,
          0.7221119164399883,
          0.5594804729959574,
          0.4244791977870316,
          0.4974287759460018,
          0.4737241252591898,
          0.5881708898117253,
          0.7755006382222396,
          0.5653878389820884,
          0.4814094380558245,
          0.6585940152486488,
          0.5588768177058563,
          0.4664654382193158,
          0.550961406691288,
          0.5812310417020697,
          0.6296779991170397,
          0.8824326425987005,
          0.5341094754743825,
          0.434219429166695,
          0.6568130476333399,
          0.6118848627154233
         ],
         "yaxis": "y"
        },
        {
         "hovertemplate": "RawKMeans_CS_6_norm3_tf10=1.0<br>ESTIMATE_score=%{x}<br>IFNG_score=%{y}<br>infiltration_score=%{marker.size}<extra></extra>",
         "legendgroup": "1.0",
         "marker": {
          "color": "#A3A500",
          "size": [
           0,
           0,
           3,
           0,
           0,
           3,
           3,
           0,
           6,
           6,
           3,
           6,
           0,
           0,
           0,
           6,
           0,
           0,
           0,
           0,
           0,
           0,
           6,
           0,
           6,
           3,
           6,
           0,
           6,
           0,
           0,
           3,
           0,
           0,
           6,
           3,
           0,
           3,
           0,
           6,
           0,
           3,
           0,
           3,
           0,
           6,
           0,
           0,
           3,
           6,
           0,
           0,
           0,
           0,
           3,
           0,
           0,
           6,
           0,
           6,
           0,
           0,
           0,
           0,
           6,
           3,
           0,
           0,
           0,
           0,
           3,
           0,
           0,
           6,
           0,
           3,
           6,
           0,
           3,
           6,
           0,
           0,
           6,
           6
          ],
          "sizemode": "area",
          "sizeref": 0.015,
          "symbol": "circle"
         },
         "mode": "markers",
         "name": "1.0",
         "orientation": "v",
         "showlegend": true,
         "type": "scatter",
         "x": [
          -2913.43,
          -2360.05,
          -2237.1,
          -1564.53,
          -1737.03,
          -2116.64,
          -2557,
          -2735.56,
          -2852.69,
          -812.89,
          -1365.01,
          -2312.51,
          -3427.74,
          -1948.32,
          -2678.13,
          -3089.86,
          -3216.61,
          -2823.71,
          -2836.24,
          -1677.81,
          -2576.29,
          -3280.75,
          -1364.59,
          -2179.8,
          -2957.86,
          -2821.67,
          -2027.26,
          -3341,
          -2753.13,
          -3510.54,
          -3369.43,
          -2124.8,
          -2646.48,
          -691.63,
          -1932.81,
          -2175.44,
          -1851.5,
          -2547.83,
          -3493.91,
          -3255.78,
          -4107.13,
          -2048.26,
          -3473.27,
          -3036.09,
          -2159.76,
          -2113.12,
          -2082.99,
          -1894.2,
          -2873.02,
          -3321.87,
          -2724,
          -3054.92,
          -923.73,
          -2707.32,
          -3425.03,
          -3453.6,
          -2947.33,
          -1707.99,
          -2665.16,
          -2748.51,
          -3048.51,
          -2740.52,
          -1125.47,
          -2429.61,
          -2350.46,
          -1858.28,
          -2377.01,
          -2713.43,
          -3540.55,
          -2671.07,
          -2068.96,
          -2833.32,
          -919.87,
          -2443.21,
          -1191.55,
          -1458.25,
          -1974.4,
          -3702.02,
          -2059.87,
          -2805.4,
          -3566.38,
          -3812.66,
          -2578.1,
          -3286.96
         ],
         "xaxis": "x",
         "y": [
          0.3410532044723,
          0.3590213544794239,
          0.5163305317086342,
          0.3908914698592616,
          0.4391541936392735,
          0.4496905021702576,
          0.3104798097736513,
          0.4095193762513461,
          0.5635452575552534,
          0.4896092260667402,
          0.6379214564189437,
          0.4306430430872134,
          0.409528334900275,
          0.3430320189575666,
          0.4493942499701879,
          0.3964606670902079,
          0.2803006950923723,
          0.4040349025229644,
          0.4505279258804915,
          0.4245335573579298,
          0.566209785509244,
          0.434517348715262,
          0.5034637312748033,
          0.4349008445411715,
          0.3646586164298832,
          0.5340413438228339,
          0.5141334129773134,
          0.3447455601804137,
          0.4949475181864148,
          0.2948165426936083,
          0.4542438302769593,
          0.667865515792567,
          0.4791337407741468,
          0.5868222966587616,
          0.4897671447549124,
          0.3745411513041661,
          0.3679133340667845,
          0.6263289257878477,
          0.3433216273867831,
          0.3484836139542223,
          0.4613529858079734,
          0.3788216893428384,
          0.3572895038824701,
          0.5053130775548914,
          0.408623210775986,
          0.5899089911757958,
          0.5401445321985254,
          0.450812637895471,
          0.5620598386518592,
          0.4012561945592737,
          0.3937637237383274,
          0.3485185154698155,
          0.5100723293033907,
          0.3583923237521379,
          0.5311957156947952,
          0.4709609688978811,
          0.4055134623982254,
          0.6209785699892065,
          0.5764480829322525,
          0.4264171023001745,
          0.4072751340381326,
          0.4950190646095408,
          0.4505420923434634,
          0.3916331427728336,
          0.5207410073289241,
          0.4815708484309377,
          0.4031877760088616,
          0.3995987444783308,
          0.3595884511902953,
          0.2949775640769845,
          0.4647096300917166,
          0.3086678503587571,
          0.4690250134962451,
          0.6704856968607593,
          0.4339354218440182,
          0.4045990857839019,
          0.4585651252340328,
          0.3496778097616432,
          0.6422428812921859,
          0.5073115039873144,
          0.3771762583302575,
          0.4163435319730257,
          0.5098758889660633,
          0.5536403063096956
         ],
         "yaxis": "y"
        },
        {
         "hovertemplate": "RawKMeans_CS_6_norm3_tf10=2.0<br>ESTIMATE_score=%{x}<br>IFNG_score=%{y}<br>infiltration_score=%{marker.size}<extra></extra>",
         "legendgroup": "2.0",
         "marker": {
          "color": "#00BF7D",
          "size": [
           3,
           6,
           3,
           3,
           0,
           6,
           0,
           6,
           6,
           3,
           6,
           6,
           3,
           0,
           6,
           6,
           6,
           0,
           0,
           6,
           0,
           6,
           0,
           0,
           0,
           6,
           0,
           0,
           0,
           0,
           6,
           3,
           3,
           0,
           6,
           0,
           3,
           6,
           6,
           3,
           3,
           3,
           3,
           6,
           3,
           0,
           3,
           6,
           3,
           6,
           0,
           0,
           6,
           6,
           6,
           0,
           6,
           0,
           6,
           6,
           0,
           6,
           6,
           6,
           6
          ],
          "sizemode": "area",
          "sizeref": 0.015,
          "symbol": "circle"
         },
         "mode": "markers",
         "name": "2.0",
         "orientation": "v",
         "showlegend": true,
         "type": "scatter",
         "x": [
          563.82,
          -1106.78,
          -451.92,
          -1953.52,
          -1204.59,
          -314.79,
          -743.98,
          -1862.68,
          -482.1,
          -1046.8,
          -159.8,
          543.41,
          -708.39,
          -1974.59,
          -610.42,
          131.49,
          -1123.07,
          -482.76,
          -2228.11,
          -1725.66,
          -2897.13,
          -1119.84,
          -1382.54,
          -1711.95,
          -207.57,
          430.45,
          -1590.36,
          -1172.62,
          -1326.03,
          -736.28,
          243.16,
          -464.23,
          -472.77,
          -1484,
          142.91,
          -2152.55,
          -306.6,
          413.94,
          -1750.31,
          -2456.19,
          -1622.76,
          -827.51,
          -2364.08,
          -663.07,
          -200.16,
          -1031.36,
          -701.92,
          455.79,
          -1318.42,
          -651.6,
          -1329.86,
          -2934.61,
          298.64,
          -869.71,
          -646.84,
          -1615.86,
          -173.57,
          -599.88,
          145.1,
          -2240.9,
          -784.59,
          -599.95,
          -301.04,
          -2003.6,
          149.89
         ],
         "xaxis": "x",
         "y": [
          0.7529569699841648,
          0.8270827049509392,
          0.6692163744321147,
          0.4565454228094328,
          0.3616875149296617,
          0.5758570134996862,
          0.5925224017661926,
          0.6496123116457434,
          0.5964118788142311,
          0.5742368902927494,
          0.7808718885640398,
          0.7734254767961242,
          0.563701943203845,
          0.4117372896584777,
          0.5927322080371835,
          0.5562250883780411,
          0.6129220262863854,
          0.4225740286472517,
          0.52552162077395,
          0.5084070393214527,
          0.4294921611777919,
          0.7320781232954711,
          0.6902676723822992,
          0.6912190004442839,
          0.8221821260556202,
          0.9937585166615548,
          0.5054465608815203,
          0.7077665761574625,
          0.7223488197853608,
          0.6437767964931888,
          0.7140988023603608,
          0.6199190613379953,
          0.5741798021326873,
          0.7710764988010977,
          0.7705462335680572,
          0.5250001544895738,
          0.8310637469059148,
          0.7872707866255994,
          0.5557094798630791,
          0.4625318693537879,
          0.6208441954612042,
          0.6990621329996444,
          0.6206201830465485,
          0.6550682554339224,
          0.7547133108660249,
          0.4821060526697817,
          0.7309527401053644,
          0.7567020075270149,
          0.6915157521109109,
          0.4985439657868199,
          0.7690525096542975,
          0.4624884606692402,
          0.78078166063014,
          0.4321858439942103,
          0.7523461198482689,
          0.6100624732845767,
          0.6989331141026028,
          0.8607094604625801,
          0.7835774341586741,
          0.4985608783470641,
          0.6433960114009466,
          0.6240377414481673,
          0.6497961959792165,
          0.6104113978022653,
          0.643593514725599
         ],
         "yaxis": "y"
        },
        {
         "hovertemplate": "RawKMeans_CS_6_norm3_tf10=5.0<br>ESTIMATE_score=%{x}<br>IFNG_score=%{y}<br>infiltration_score=%{marker.size}<extra></extra>",
         "legendgroup": "5.0",
         "marker": {
          "color": "#00B0F6",
          "size": [
           6,
           6,
           3,
           6,
           6,
           6,
           6,
           6,
           3,
           3,
           6,
           6,
           6,
           6,
           6,
           3,
           6,
           6,
           6,
           6,
           0,
           6,
           6,
           3,
           6,
           0,
           3,
           0,
           3,
           6,
           6,
           6,
           6,
           0,
           0,
           3,
           6,
           6
          ],
          "sizemode": "area",
          "sizeref": 0.015,
          "symbol": "circle"
         },
         "mode": "markers",
         "name": "5.0",
         "orientation": "v",
         "showlegend": true,
         "type": "scatter",
         "x": [
          1953.52,
          1145.87,
          -155.83,
          1304.34,
          1191.05,
          894.47,
          3624.96,
          878.41,
          1559.54,
          3369.06,
          2283.12,
          2578.13,
          2841.1,
          4704.79,
          3530.61,
          2094.25,
          1842.11,
          4054.76,
          -1935.64,
          1039.36,
          1669.58,
          1623.33,
          632.57,
          2298.04,
          323.43,
          2891.52,
          -560.12,
          1655.58,
          27.56,
          900.39,
          620.25,
          2207.35,
          1555.96,
          -2218.74,
          3963.21,
          -1795.13,
          906.22,
          1693.85
         ],
         "xaxis": "x",
         "y": [
          0.8307417432968752,
          0.6740841312081904,
          0.5463722475688859,
          0.5658650459768694,
          0.6246576619625164,
          0.8586017409419706,
          0.7170092789280447,
          0.6913197497570357,
          0.5694496452120212,
          0.8140287264988846,
          0.710750794982437,
          0.5985565417449942,
          0.5929694537266121,
          0.7418390873123639,
          0.7411831073157,
          0.5710395954419052,
          0.8561360475581896,
          0.8999474859274328,
          0.4062907286655773,
          0.6060114244974352,
          0.5874751152107345,
          0.7245335021755236,
          0.6069281317529057,
          0.8923144724751327,
          0.5975159919786779,
          0.8570850226684169,
          0.4781701720422427,
          0.5959575650302508,
          0.4302075797525715,
          0.709398710241898,
          0.5117956928939064,
          0.7661656279640469,
          0.820387917527681,
          0.3916478046470567,
          0.5944516937840009,
          0.4410115388700819,
          0.7947534168296123,
          0.7496435740703894
         ],
         "yaxis": "y"
        },
        {
         "hovertemplate": "RawKMeans_CS_6_norm3_tf10=3.0<br>ESTIMATE_score=%{x}<br>IFNG_score=%{y}<br>infiltration_score=%{marker.size}<extra></extra>",
         "legendgroup": "3.0",
         "marker": {
          "color": "#E76BF3",
          "size": [
           0,
           0,
           0,
           6,
           0,
           6,
           6,
           6,
           6,
           6,
           0,
           6,
           6,
           6,
           6,
           6,
           6,
           6,
           0,
           6,
           6,
           3,
           6,
           3,
           0,
           6,
           3,
           0,
           3,
           3,
           0,
           6,
           0,
           0,
           6,
           3,
           6,
           3,
           6,
           3,
           6,
           6,
           0,
           3,
           6,
           6,
           0,
           3,
           6,
           6,
           0,
           0,
           6,
           0,
           3,
           6,
           3,
           3,
           6,
           6
          ],
          "sizemode": "area",
          "sizeref": 0.015,
          "symbol": "circle"
         },
         "mode": "markers",
         "name": "3.0",
         "orientation": "v",
         "showlegend": true,
         "type": "scatter",
         "x": [
          1815.97,
          1506.09,
          837.61,
          3765.53,
          785.16,
          621.31,
          1293.15,
          2278.01,
          3507.18,
          889.37,
          1621.82,
          3200.7,
          868.25,
          1201.59,
          1171.64,
          2031.74,
          815.17,
          820.32,
          2929.81,
          3838.1,
          860.54,
          2996.92,
          1159.13,
          612.59,
          2064.73,
          1821.04,
          1163.67,
          134.66,
          1795.01,
          1270.75,
          349.79,
          840.79,
          690.89,
          -1150.65,
          986.22,
          2140.49,
          3595.88,
          910.67,
          2927.13,
          1831,
          1496.61,
          2015.69,
          440.33,
          3008.56,
          2556.54,
          2531.96,
          2069.78,
          2075.19,
          814.92,
          1742.34,
          3417.98,
          1242.17,
          3100.61,
          -684.79,
          492.84,
          1070.14,
          2153.01,
          2641.16,
          389.46,
          882.3
         ],
         "xaxis": "x",
         "y": [
          0.8420451946929088,
          0.5559448345690359,
          0.6674424386687265,
          0.8860106003014668,
          0.5747493846244954,
          0.6842147546890688,
          0.8271142890822345,
          0.6904730005541865,
          0.9409121982579433,
          0.6496908604713411,
          0.479924321261145,
          0.9101784106955444,
          0.758827195003504,
          0.7874451392695516,
          0.9373878553644428,
          0.8418471336073203,
          0.79313050898885,
          0.8261511524470635,
          0.7759328028538929,
          0.9144298867027016,
          0.7089905267734031,
          0.7676869424352046,
          0.6621808376997771,
          0.6374296262650457,
          0.7154534394068036,
          0.7307972657236764,
          0.7298455352407641,
          0.5507319113888505,
          0.8463775911792373,
          0.867232030335029,
          0.8611736204780966,
          0.8243049523245584,
          0.6117988135396051,
          0.5730155999817944,
          0.6611230586045881,
          1,
          0.7563923534298277,
          0.8063268845901859,
          0.9285896986813404,
          0.8775743752624917,
          0.8162727701979745,
          0.8589466572722498,
          0.936231315067599,
          0.8467156627098368,
          0.5777351213491867,
          0.8907169070901182,
          0.5970082861817422,
          0.908119339064662,
          0.7809375338594994,
          0.8190017699574125,
          0.6473588625317778,
          0.6383972948496177,
          0.7786153867613747,
          0.552810785080783,
          0.7619438941045741,
          0.605220968950209,
          0.7041682438690355,
          0.912187356739562,
          0.8223495397242113,
          0.5957713567582756
         ],
         "yaxis": "y"
        },
        {
         "hovertemplate": "RawKMeans_CS_6_norm3_tf10=4.0<br>ESTIMATE_score=%{x}<br>IFNG_score=%{y}<br>infiltration_score=%{marker.size}<extra></extra>",
         "legendgroup": "4.0",
         "marker": {
          "color": "#F8766D",
          "size": [
           0,
           0,
           0,
           0,
           0,
           3,
           0,
           0,
           0,
           0,
           0,
           0,
           3,
           0,
           0,
           6,
           0,
           6,
           0,
           0,
           0,
           6,
           0,
           0,
           0,
           6,
           6,
           3,
           0,
           6,
           0,
           0,
           3,
           0,
           3,
           0,
           0,
           0,
           0,
           3,
           0,
           0,
           0,
           0,
           3,
           0,
           0,
           0,
           0,
           6
          ],
          "sizemode": "area",
          "sizeref": 0.015,
          "symbol": "circle"
         },
         "mode": "markers",
         "name": "4.0",
         "orientation": "v",
         "showlegend": true,
         "type": "scatter",
         "x": [
          -2827.05,
          -2456.82,
          -3014.69,
          -2143.36,
          -2676.01,
          -1329.46,
          -1823.54,
          -2329.44,
          -976.23,
          -2670.27,
          -2518.99,
          -2742.46,
          -2519.17,
          -2641.92,
          -2332.64,
          -890.02,
          -2628.89,
          -1864.51,
          -2250.65,
          -2029.1,
          -2668.01,
          -2130.16,
          -3255.15,
          -3517.77,
          -1980.27,
          -2381.19,
          -262.91,
          -2505.4,
          -2321.7,
          -2660.28,
          -2289.35,
          -2823.15,
          -2131.74,
          -1634.11,
          -2604.71,
          -1164.38,
          -2560.02,
          -4398.47,
          -2361.55,
          -3014.77,
          -1142.18,
          -1662.82,
          -1439.45,
          -464.38,
          -1418.88,
          -2149.19,
          -2119.92,
          -2372.91,
          -3049.97,
          -2260.74
         ],
         "xaxis": "x",
         "y": [
          0.5128346308457253,
          0.4540162781734893,
          0.4040973998660289,
          0.3411599484238583,
          0.3512860254953254,
          0.3732122390028517,
          0.5418672906044047,
          0.2546995576389325,
          0.5631327824526604,
          0.3332298113993638,
          0.3620949891140319,
          0.3664259433876938,
          0.3454713948215854,
          0.3884189403492014,
          0.3004174530382238,
          0.4619907625008532,
          0.6860073936274736,
          0.3951819224282202,
          0.4788073943154538,
          0.4104764546110974,
          0.4065848254825273,
          0.5217490697762388,
          0.3457720000175299,
          0.3332453744505616,
          0.3850318259657228,
          0.2823501874913715,
          0.5011058933490729,
          0.4189882669929897,
          0.418223189070928,
          0.4638480825190554,
          0.3978611845117887,
          0.3726657059724859,
          0.6249259260181842,
          0.4129957709364896,
          0.3623191959956371,
          0.4455728784501641,
          0.3238907930191345,
          0.2154196406272209,
          0.4255299963088675,
          0.333605915738681,
          0.3586694476518774,
          0.3955862139136495,
          0.4643685292960606,
          0.4647385698258432,
          0.415460593572316,
          0.4950362552753591,
          0.3815810047284473,
          0.5160246577527692,
          0.4595072497348512,
          0.4737478419093307
         ],
         "yaxis": "y"
        }
       ],
       "layout": {
        "height": 500,
        "legend": {
         "bgcolor": "rgba(0,0,0,0)",
         "itemsizing": "constant",
         "orientation": "v",
         "title": {
          "text": "Network_KMeans6"
         },
         "tracegroupgap": 0,
         "xanchor": "right",
         "yanchor": "middle"
        },
        "template": {
         "data": {
          "bar": [
           {
            "error_x": {
             "color": "rgb(51,51,51)"
            },
            "error_y": {
             "color": "rgb(51,51,51)"
            },
            "marker": {
             "line": {
              "color": "rgb(237,237,237)",
              "width": 0.5
             },
             "pattern": {
              "fillmode": "overlay",
              "size": 10,
              "solidity": 0.2
             }
            },
            "type": "bar"
           }
          ],
          "barpolar": [
           {
            "marker": {
             "line": {
              "color": "rgb(237,237,237)",
              "width": 0.5
             },
             "pattern": {
              "fillmode": "overlay",
              "size": 10,
              "solidity": 0.2
             }
            },
            "type": "barpolar"
           }
          ],
          "carpet": [
           {
            "aaxis": {
             "endlinecolor": "rgb(51,51,51)",
             "gridcolor": "white",
             "linecolor": "white",
             "minorgridcolor": "white",
             "startlinecolor": "rgb(51,51,51)"
            },
            "baxis": {
             "endlinecolor": "rgb(51,51,51)",
             "gridcolor": "white",
             "linecolor": "white",
             "minorgridcolor": "white",
             "startlinecolor": "rgb(51,51,51)"
            },
            "type": "carpet"
           }
          ],
          "choropleth": [
           {
            "colorbar": {
             "outlinewidth": 0,
             "tickcolor": "rgb(237,237,237)",
             "ticklen": 6,
             "ticks": "inside"
            },
            "type": "choropleth"
           }
          ],
          "contour": [
           {
            "colorbar": {
             "outlinewidth": 0,
             "tickcolor": "rgb(237,237,237)",
             "ticklen": 6,
             "ticks": "inside"
            },
            "colorscale": [
             [
              0,
              "rgb(20,44,66)"
             ],
             [
              1,
              "rgb(90,179,244)"
             ]
            ],
            "type": "contour"
           }
          ],
          "contourcarpet": [
           {
            "colorbar": {
             "outlinewidth": 0,
             "tickcolor": "rgb(237,237,237)",
             "ticklen": 6,
             "ticks": "inside"
            },
            "type": "contourcarpet"
           }
          ],
          "heatmap": [
           {
            "colorbar": {
             "outlinewidth": 0,
             "tickcolor": "rgb(237,237,237)",
             "ticklen": 6,
             "ticks": "inside"
            },
            "colorscale": [
             [
              0,
              "rgb(20,44,66)"
             ],
             [
              1,
              "rgb(90,179,244)"
             ]
            ],
            "type": "heatmap"
           }
          ],
          "heatmapgl": [
           {
            "colorbar": {
             "outlinewidth": 0,
             "tickcolor": "rgb(237,237,237)",
             "ticklen": 6,
             "ticks": "inside"
            },
            "colorscale": [
             [
              0,
              "rgb(20,44,66)"
             ],
             [
              1,
              "rgb(90,179,244)"
             ]
            ],
            "type": "heatmapgl"
           }
          ],
          "histogram": [
           {
            "marker": {
             "pattern": {
              "fillmode": "overlay",
              "size": 10,
              "solidity": 0.2
             }
            },
            "type": "histogram"
           }
          ],
          "histogram2d": [
           {
            "colorbar": {
             "outlinewidth": 0,
             "tickcolor": "rgb(237,237,237)",
             "ticklen": 6,
             "ticks": "inside"
            },
            "colorscale": [
             [
              0,
              "rgb(20,44,66)"
             ],
             [
              1,
              "rgb(90,179,244)"
             ]
            ],
            "type": "histogram2d"
           }
          ],
          "histogram2dcontour": [
           {
            "colorbar": {
             "outlinewidth": 0,
             "tickcolor": "rgb(237,237,237)",
             "ticklen": 6,
             "ticks": "inside"
            },
            "colorscale": [
             [
              0,
              "rgb(20,44,66)"
             ],
             [
              1,
              "rgb(90,179,244)"
             ]
            ],
            "type": "histogram2dcontour"
           }
          ],
          "mesh3d": [
           {
            "colorbar": {
             "outlinewidth": 0,
             "tickcolor": "rgb(237,237,237)",
             "ticklen": 6,
             "ticks": "inside"
            },
            "type": "mesh3d"
           }
          ],
          "parcoords": [
           {
            "line": {
             "colorbar": {
              "outlinewidth": 0,
              "tickcolor": "rgb(237,237,237)",
              "ticklen": 6,
              "ticks": "inside"
             }
            },
            "type": "parcoords"
           }
          ],
          "pie": [
           {
            "automargin": true,
            "type": "pie"
           }
          ],
          "scatter": [
           {
            "fillpattern": {
             "fillmode": "overlay",
             "size": 10,
             "solidity": 0.2
            },
            "type": "scatter"
           }
          ],
          "scatter3d": [
           {
            "line": {
             "colorbar": {
              "outlinewidth": 0,
              "tickcolor": "rgb(237,237,237)",
              "ticklen": 6,
              "ticks": "inside"
             }
            },
            "marker": {
             "colorbar": {
              "outlinewidth": 0,
              "tickcolor": "rgb(237,237,237)",
              "ticklen": 6,
              "ticks": "inside"
             }
            },
            "type": "scatter3d"
           }
          ],
          "scattercarpet": [
           {
            "marker": {
             "colorbar": {
              "outlinewidth": 0,
              "tickcolor": "rgb(237,237,237)",
              "ticklen": 6,
              "ticks": "inside"
             }
            },
            "type": "scattercarpet"
           }
          ],
          "scattergeo": [
           {
            "marker": {
             "colorbar": {
              "outlinewidth": 0,
              "tickcolor": "rgb(237,237,237)",
              "ticklen": 6,
              "ticks": "inside"
             }
            },
            "type": "scattergeo"
           }
          ],
          "scattergl": [
           {
            "marker": {
             "colorbar": {
              "outlinewidth": 0,
              "tickcolor": "rgb(237,237,237)",
              "ticklen": 6,
              "ticks": "inside"
             }
            },
            "type": "scattergl"
           }
          ],
          "scattermapbox": [
           {
            "marker": {
             "colorbar": {
              "outlinewidth": 0,
              "tickcolor": "rgb(237,237,237)",
              "ticklen": 6,
              "ticks": "inside"
             }
            },
            "type": "scattermapbox"
           }
          ],
          "scatterpolar": [
           {
            "marker": {
             "colorbar": {
              "outlinewidth": 0,
              "tickcolor": "rgb(237,237,237)",
              "ticklen": 6,
              "ticks": "inside"
             }
            },
            "type": "scatterpolar"
           }
          ],
          "scatterpolargl": [
           {
            "marker": {
             "colorbar": {
              "outlinewidth": 0,
              "tickcolor": "rgb(237,237,237)",
              "ticklen": 6,
              "ticks": "inside"
             }
            },
            "type": "scatterpolargl"
           }
          ],
          "scatterternary": [
           {
            "marker": {
             "colorbar": {
              "outlinewidth": 0,
              "tickcolor": "rgb(237,237,237)",
              "ticklen": 6,
              "ticks": "inside"
             }
            },
            "type": "scatterternary"
           }
          ],
          "surface": [
           {
            "colorbar": {
             "outlinewidth": 0,
             "tickcolor": "rgb(237,237,237)",
             "ticklen": 6,
             "ticks": "inside"
            },
            "colorscale": [
             [
              0,
              "rgb(20,44,66)"
             ],
             [
              1,
              "rgb(90,179,244)"
             ]
            ],
            "type": "surface"
           }
          ],
          "table": [
           {
            "cells": {
             "fill": {
              "color": "rgb(237,237,237)"
             },
             "line": {
              "color": "white"
             }
            },
            "header": {
             "fill": {
              "color": "rgb(217,217,217)"
             },
             "line": {
              "color": "white"
             }
            },
            "type": "table"
           }
          ]
         },
         "layout": {
          "annotationdefaults": {
           "arrowhead": 0,
           "arrowwidth": 1
          },
          "autotypenumbers": "strict",
          "coloraxis": {
           "colorbar": {
            "outlinewidth": 0,
            "tickcolor": "rgb(237,237,237)",
            "ticklen": 6,
            "ticks": "inside"
           }
          },
          "colorscale": {
           "sequential": [
            [
             0,
             "rgb(20,44,66)"
            ],
            [
             1,
             "rgb(90,179,244)"
            ]
           ],
           "sequentialminus": [
            [
             0,
             "rgb(20,44,66)"
            ],
            [
             1,
             "rgb(90,179,244)"
            ]
           ]
          },
          "colorway": [
           "#F8766D",
           "#A3A500",
           "#00BF7D",
           "#00B0F6",
           "#E76BF3"
          ],
          "font": {
           "color": "rgb(51,51,51)"
          },
          "geo": {
           "bgcolor": "white",
           "lakecolor": "white",
           "landcolor": "rgb(237,237,237)",
           "showlakes": true,
           "showland": true,
           "subunitcolor": "white"
          },
          "hoverlabel": {
           "align": "left"
          },
          "hovermode": "closest",
          "paper_bgcolor": "white",
          "plot_bgcolor": "rgb(237,237,237)",
          "polar": {
           "angularaxis": {
            "gridcolor": "white",
            "linecolor": "white",
            "showgrid": true,
            "tickcolor": "rgb(51,51,51)",
            "ticks": "outside"
           },
           "bgcolor": "rgb(237,237,237)",
           "radialaxis": {
            "gridcolor": "white",
            "linecolor": "white",
            "showgrid": true,
            "tickcolor": "rgb(51,51,51)",
            "ticks": "outside"
           }
          },
          "scene": {
           "xaxis": {
            "backgroundcolor": "rgb(237,237,237)",
            "gridcolor": "white",
            "gridwidth": 2,
            "linecolor": "white",
            "showbackground": true,
            "showgrid": true,
            "tickcolor": "rgb(51,51,51)",
            "ticks": "outside",
            "zerolinecolor": "white"
           },
           "yaxis": {
            "backgroundcolor": "rgb(237,237,237)",
            "gridcolor": "white",
            "gridwidth": 2,
            "linecolor": "white",
            "showbackground": true,
            "showgrid": true,
            "tickcolor": "rgb(51,51,51)",
            "ticks": "outside",
            "zerolinecolor": "white"
           },
           "zaxis": {
            "backgroundcolor": "rgb(237,237,237)",
            "gridcolor": "white",
            "gridwidth": 2,
            "linecolor": "white",
            "showbackground": true,
            "showgrid": true,
            "tickcolor": "rgb(51,51,51)",
            "ticks": "outside",
            "zerolinecolor": "white"
           }
          },
          "shapedefaults": {
           "fillcolor": "black",
           "line": {
            "width": 0
           },
           "opacity": 0.3
          },
          "ternary": {
           "aaxis": {
            "gridcolor": "white",
            "linecolor": "white",
            "showgrid": true,
            "tickcolor": "rgb(51,51,51)",
            "ticks": "outside"
           },
           "baxis": {
            "gridcolor": "white",
            "linecolor": "white",
            "showgrid": true,
            "tickcolor": "rgb(51,51,51)",
            "ticks": "outside"
           },
           "bgcolor": "rgb(237,237,237)",
           "caxis": {
            "gridcolor": "white",
            "linecolor": "white",
            "showgrid": true,
            "tickcolor": "rgb(51,51,51)",
            "ticks": "outside"
           }
          },
          "xaxis": {
           "automargin": true,
           "gridcolor": "white",
           "linecolor": "white",
           "showgrid": true,
           "tickcolor": "rgb(51,51,51)",
           "ticks": "outside",
           "title": {
            "standoff": 15
           },
           "zerolinecolor": "white"
          },
          "yaxis": {
           "automargin": true,
           "gridcolor": "white",
           "linecolor": "white",
           "showgrid": true,
           "tickcolor": "rgb(51,51,51)",
           "ticks": "outside",
           "title": {
            "standoff": 15
           },
           "zerolinecolor": "white"
          }
         }
        },
        "title": {
         "text": "Classification by RawKMeans_CS_6_norm3_tf10. IFNG vs infiltration score; Colouring by Estimate score"
        },
        "xaxis": {
         "anchor": "y",
         "domain": [
          0,
          1
         ],
         "title": {
          "text": "ESTIMATE_score"
         }
        },
        "yaxis": {
         "anchor": "x",
         "domain": [
          0,
          1
         ],
         "title": {
          "text": "IFNG_score"
         }
        }
       }
      }
     },
     "metadata": {},
     "output_type": "display_data"
    }
   ],
   "source": [
    "cluster = \"{}_CS_{}_norm3_tf{}\".format(cluster_model, num, 10)\n",
    "comb_all_tfs[cluster] = comb_all_tfs[cluster].astype(str)\n",
    "# comb_all_tfs.loc[((comb_all_tfs[\"KMeans_labels_6\"] == \"High IFNG\") & (comb_all_tfs[cluster] == \"2.0\")), cluster ]  = \"inf\"\n",
    "fig1 = cs.plot_meta_scores(comb_all_tfs, y_axis=\"IFNG_score\", classification=cluster, size=\"infiltration_score\")\n",
    "\n",
    "fig1.update_layout(\n",
    "    legend=dict(\n",
    "        orientation=\"v\",\n",
    "        title=\"Network_KMeans6\",\n",
    "        yanchor=\"middle\",\n",
    "        # y=0.74,\n",
    "        xanchor=\"right\",\n",
    "        # x=0.13,\n",
    "        bgcolor=\"rgba(0,0,0,0)\",\n",
    "    ),\n",
    "    height=500,\n",
    ")\n",
    "# meta, fig = sky.main(df=comb_all_tfs, reorder_cols=reorder_cols, title=title, retMeta=True)\n",
    "# fig.show()\n",
    "# fig1.show()"
   ]
  },
  {
   "cell_type": "code",
   "execution_count": 33,
   "metadata": {},
   "outputs": [],
   "source": [
    "pathways = {\n",
    "    \"Hemidosome\": [\"COL17A1\", \"LAMB3\", \"DST\", \"ITGB4\", \"LAMA3\", \"KRT14\", \"LAMC2\", \"ITGA6\", \"KRT5\", \"PLEC\"],\n",
    "    \"Com_16\": [\n",
    "        \"DEDD\",\n",
    "        \"ATF6\",\n",
    "        \"USP21\",\n",
    "        \"B4GALT3\",\n",
    "        \"UHMK1\",\n",
    "        \"UAP1\",\n",
    "        \"PEX19\",\n",
    "        \"DUSP12\",\n",
    "        \"ALDH9A1\",\n",
    "        \"PPOX\",\n",
    "        \"KIFAP3\",\n",
    "        \"MPZL1\",\n",
    "        \"F11R\",\n",
    "        \"EEF1AKNMT\",\n",
    "        \"IGSF8\",\n",
    "        \"TSTD1\",\n",
    "        \"RP11-297K8.2\",\n",
    "        \"TOMM40L\",\n",
    "        \"KLHDC9\",\n",
    "        \"IGSF9\",\n",
    "        \"PIGK\",\n",
    "        \"CREG1\",\n",
    "        \"MPC2\",\n",
    "        \"DUSP23\",\n",
    "        \"TSEN15\",\n",
    "        \"HSPA6\",\n",
    "    ],\n",
    "    #     \"Com_20\": [\"YES1\" \"USP14\" \"AFG3L2\" \"RAB12\" \"SEH1L\" \"CHMP1B\" \"PPP4R1\" \"SMCHD1\" \"MPPE1\" \"IMPA2\" \"CHMP1B-AS1\" \"TWSG1\" \"TTC39C\" \"NCK2\" \"CABYR\"],\n",
    "    #     \"Com_21\": [\"P4HTM\" \"NPRL2\" \"ABHD14A\" \"NT5DC2\" \"PCBP4\" \"CYB561D2\" \"ABHD14B\" \"ACY1\" \"TREX1\" \"SMIM4\" \"CHCHD10\" \"SPATC1L\"],\n",
    "    #     \"Com_23\": [\"ID3\" \"ID2\" \"ID4\" \"DUSP2\" \"SMAD6\" \"IGFBP2\" \"BMP2\"],\n",
    "    # }\n",
    "}\n",
    "# 'Metallothioneins Bind Metals_R': [\"MT2A\",\"MT1F\",\"MT1G\",\"MT1X\",\"MT1E\"],}"
   ]
  },
  {
   "cell_type": "code",
   "execution_count": 34,
   "metadata": {},
   "outputs": [
    {
     "data": {
      "application/vnd.plotly.v1+json": {
       "config": {
        "plotlyServerURL": "https://plot.ly"
       },
       "data": [
        {
         "alignmentgroup": "True",
         "hovertemplate": "index=%{x}<br>ge_median=%{y}<br>mut_count=%{marker.color}<extra></extra>",
         "legendgroup": "",
         "marker": {
          "color": [
           8,
           11,
           36,
           15,
           35,
           2,
           6,
           8,
           6,
           32
          ],
          "coloraxis": "coloraxis",
          "pattern": {
           "shape": ""
          }
         },
         "name": "",
         "offsetgroup": "",
         "orientation": "v",
         "showlegend": false,
         "textposition": "auto",
         "type": "bar",
         "x": [
          "COL17A1",
          "LAMB3",
          "DST",
          "ITGB4",
          "LAMA3",
          "KRT14",
          "LAMC2",
          "ITGA6",
          "KRT5",
          "PLEC"
         ],
         "xaxis": "x",
         "y": [
          17.496961804876,
          88.0605679621799,
          41.18518301819865,
          362.26900488057,
          12.63232083103495,
          14.767083170986648,
          21.1842761594496,
          29.7983924592589,
          102.25070286901601,
          53.912526149843046
         ],
         "yaxis": "y"
        }
       ],
       "layout": {
        "barmode": "relative",
        "coloraxis": {
         "colorbar": {
          "title": {
           "text": "mut_count"
          }
         },
         "colorscale": [
          [
           0,
           "rgb(20,44,66)"
          ],
          [
           1,
           "rgb(90,179,244)"
          ]
         ]
        },
        "legend": {
         "tracegroupgap": 0
        },
        "template": {
         "data": {
          "bar": [
           {
            "error_x": {
             "color": "rgb(51,51,51)"
            },
            "error_y": {
             "color": "rgb(51,51,51)"
            },
            "marker": {
             "line": {
              "color": "rgb(237,237,237)",
              "width": 0.5
             },
             "pattern": {
              "fillmode": "overlay",
              "size": 10,
              "solidity": 0.2
             }
            },
            "type": "bar"
           }
          ],
          "barpolar": [
           {
            "marker": {
             "line": {
              "color": "rgb(237,237,237)",
              "width": 0.5
             },
             "pattern": {
              "fillmode": "overlay",
              "size": 10,
              "solidity": 0.2
             }
            },
            "type": "barpolar"
           }
          ],
          "carpet": [
           {
            "aaxis": {
             "endlinecolor": "rgb(51,51,51)",
             "gridcolor": "white",
             "linecolor": "white",
             "minorgridcolor": "white",
             "startlinecolor": "rgb(51,51,51)"
            },
            "baxis": {
             "endlinecolor": "rgb(51,51,51)",
             "gridcolor": "white",
             "linecolor": "white",
             "minorgridcolor": "white",
             "startlinecolor": "rgb(51,51,51)"
            },
            "type": "carpet"
           }
          ],
          "choropleth": [
           {
            "colorbar": {
             "outlinewidth": 0,
             "tickcolor": "rgb(237,237,237)",
             "ticklen": 6,
             "ticks": "inside"
            },
            "type": "choropleth"
           }
          ],
          "contour": [
           {
            "colorbar": {
             "outlinewidth": 0,
             "tickcolor": "rgb(237,237,237)",
             "ticklen": 6,
             "ticks": "inside"
            },
            "colorscale": [
             [
              0,
              "rgb(20,44,66)"
             ],
             [
              1,
              "rgb(90,179,244)"
             ]
            ],
            "type": "contour"
           }
          ],
          "contourcarpet": [
           {
            "colorbar": {
             "outlinewidth": 0,
             "tickcolor": "rgb(237,237,237)",
             "ticklen": 6,
             "ticks": "inside"
            },
            "type": "contourcarpet"
           }
          ],
          "heatmap": [
           {
            "colorbar": {
             "outlinewidth": 0,
             "tickcolor": "rgb(237,237,237)",
             "ticklen": 6,
             "ticks": "inside"
            },
            "colorscale": [
             [
              0,
              "rgb(20,44,66)"
             ],
             [
              1,
              "rgb(90,179,244)"
             ]
            ],
            "type": "heatmap"
           }
          ],
          "heatmapgl": [
           {
            "colorbar": {
             "outlinewidth": 0,
             "tickcolor": "rgb(237,237,237)",
             "ticklen": 6,
             "ticks": "inside"
            },
            "colorscale": [
             [
              0,
              "rgb(20,44,66)"
             ],
             [
              1,
              "rgb(90,179,244)"
             ]
            ],
            "type": "heatmapgl"
           }
          ],
          "histogram": [
           {
            "marker": {
             "pattern": {
              "fillmode": "overlay",
              "size": 10,
              "solidity": 0.2
             }
            },
            "type": "histogram"
           }
          ],
          "histogram2d": [
           {
            "colorbar": {
             "outlinewidth": 0,
             "tickcolor": "rgb(237,237,237)",
             "ticklen": 6,
             "ticks": "inside"
            },
            "colorscale": [
             [
              0,
              "rgb(20,44,66)"
             ],
             [
              1,
              "rgb(90,179,244)"
             ]
            ],
            "type": "histogram2d"
           }
          ],
          "histogram2dcontour": [
           {
            "colorbar": {
             "outlinewidth": 0,
             "tickcolor": "rgb(237,237,237)",
             "ticklen": 6,
             "ticks": "inside"
            },
            "colorscale": [
             [
              0,
              "rgb(20,44,66)"
             ],
             [
              1,
              "rgb(90,179,244)"
             ]
            ],
            "type": "histogram2dcontour"
           }
          ],
          "mesh3d": [
           {
            "colorbar": {
             "outlinewidth": 0,
             "tickcolor": "rgb(237,237,237)",
             "ticklen": 6,
             "ticks": "inside"
            },
            "type": "mesh3d"
           }
          ],
          "parcoords": [
           {
            "line": {
             "colorbar": {
              "outlinewidth": 0,
              "tickcolor": "rgb(237,237,237)",
              "ticklen": 6,
              "ticks": "inside"
             }
            },
            "type": "parcoords"
           }
          ],
          "pie": [
           {
            "automargin": true,
            "type": "pie"
           }
          ],
          "scatter": [
           {
            "fillpattern": {
             "fillmode": "overlay",
             "size": 10,
             "solidity": 0.2
            },
            "type": "scatter"
           }
          ],
          "scatter3d": [
           {
            "line": {
             "colorbar": {
              "outlinewidth": 0,
              "tickcolor": "rgb(237,237,237)",
              "ticklen": 6,
              "ticks": "inside"
             }
            },
            "marker": {
             "colorbar": {
              "outlinewidth": 0,
              "tickcolor": "rgb(237,237,237)",
              "ticklen": 6,
              "ticks": "inside"
             }
            },
            "type": "scatter3d"
           }
          ],
          "scattercarpet": [
           {
            "marker": {
             "colorbar": {
              "outlinewidth": 0,
              "tickcolor": "rgb(237,237,237)",
              "ticklen": 6,
              "ticks": "inside"
             }
            },
            "type": "scattercarpet"
           }
          ],
          "scattergeo": [
           {
            "marker": {
             "colorbar": {
              "outlinewidth": 0,
              "tickcolor": "rgb(237,237,237)",
              "ticklen": 6,
              "ticks": "inside"
             }
            },
            "type": "scattergeo"
           }
          ],
          "scattergl": [
           {
            "marker": {
             "colorbar": {
              "outlinewidth": 0,
              "tickcolor": "rgb(237,237,237)",
              "ticklen": 6,
              "ticks": "inside"
             }
            },
            "type": "scattergl"
           }
          ],
          "scattermapbox": [
           {
            "marker": {
             "colorbar": {
              "outlinewidth": 0,
              "tickcolor": "rgb(237,237,237)",
              "ticklen": 6,
              "ticks": "inside"
             }
            },
            "type": "scattermapbox"
           }
          ],
          "scatterpolar": [
           {
            "marker": {
             "colorbar": {
              "outlinewidth": 0,
              "tickcolor": "rgb(237,237,237)",
              "ticklen": 6,
              "ticks": "inside"
             }
            },
            "type": "scatterpolar"
           }
          ],
          "scatterpolargl": [
           {
            "marker": {
             "colorbar": {
              "outlinewidth": 0,
              "tickcolor": "rgb(237,237,237)",
              "ticklen": 6,
              "ticks": "inside"
             }
            },
            "type": "scatterpolargl"
           }
          ],
          "scatterternary": [
           {
            "marker": {
             "colorbar": {
              "outlinewidth": 0,
              "tickcolor": "rgb(237,237,237)",
              "ticklen": 6,
              "ticks": "inside"
             }
            },
            "type": "scatterternary"
           }
          ],
          "surface": [
           {
            "colorbar": {
             "outlinewidth": 0,
             "tickcolor": "rgb(237,237,237)",
             "ticklen": 6,
             "ticks": "inside"
            },
            "colorscale": [
             [
              0,
              "rgb(20,44,66)"
             ],
             [
              1,
              "rgb(90,179,244)"
             ]
            ],
            "type": "surface"
           }
          ],
          "table": [
           {
            "cells": {
             "fill": {
              "color": "rgb(237,237,237)"
             },
             "line": {
              "color": "white"
             }
            },
            "header": {
             "fill": {
              "color": "rgb(217,217,217)"
             },
             "line": {
              "color": "white"
             }
            },
            "type": "table"
           }
          ]
         },
         "layout": {
          "annotationdefaults": {
           "arrowhead": 0,
           "arrowwidth": 1
          },
          "autotypenumbers": "strict",
          "coloraxis": {
           "colorbar": {
            "outlinewidth": 0,
            "tickcolor": "rgb(237,237,237)",
            "ticklen": 6,
            "ticks": "inside"
           }
          },
          "colorscale": {
           "sequential": [
            [
             0,
             "rgb(20,44,66)"
            ],
            [
             1,
             "rgb(90,179,244)"
            ]
           ],
           "sequentialminus": [
            [
             0,
             "rgb(20,44,66)"
            ],
            [
             1,
             "rgb(90,179,244)"
            ]
           ]
          },
          "colorway": [
           "#F8766D",
           "#A3A500",
           "#00BF7D",
           "#00B0F6",
           "#E76BF3"
          ],
          "font": {
           "color": "rgb(51,51,51)"
          },
          "geo": {
           "bgcolor": "white",
           "lakecolor": "white",
           "landcolor": "rgb(237,237,237)",
           "showlakes": true,
           "showland": true,
           "subunitcolor": "white"
          },
          "hoverlabel": {
           "align": "left"
          },
          "hovermode": "closest",
          "paper_bgcolor": "white",
          "plot_bgcolor": "rgb(237,237,237)",
          "polar": {
           "angularaxis": {
            "gridcolor": "white",
            "linecolor": "white",
            "showgrid": true,
            "tickcolor": "rgb(51,51,51)",
            "ticks": "outside"
           },
           "bgcolor": "rgb(237,237,237)",
           "radialaxis": {
            "gridcolor": "white",
            "linecolor": "white",
            "showgrid": true,
            "tickcolor": "rgb(51,51,51)",
            "ticks": "outside"
           }
          },
          "scene": {
           "xaxis": {
            "backgroundcolor": "rgb(237,237,237)",
            "gridcolor": "white",
            "gridwidth": 2,
            "linecolor": "white",
            "showbackground": true,
            "showgrid": true,
            "tickcolor": "rgb(51,51,51)",
            "ticks": "outside",
            "zerolinecolor": "white"
           },
           "yaxis": {
            "backgroundcolor": "rgb(237,237,237)",
            "gridcolor": "white",
            "gridwidth": 2,
            "linecolor": "white",
            "showbackground": true,
            "showgrid": true,
            "tickcolor": "rgb(51,51,51)",
            "ticks": "outside",
            "zerolinecolor": "white"
           },
           "zaxis": {
            "backgroundcolor": "rgb(237,237,237)",
            "gridcolor": "white",
            "gridwidth": 2,
            "linecolor": "white",
            "showbackground": true,
            "showgrid": true,
            "tickcolor": "rgb(51,51,51)",
            "ticks": "outside",
            "zerolinecolor": "white"
           }
          },
          "shapedefaults": {
           "fillcolor": "black",
           "line": {
            "width": 0
           },
           "opacity": 0.3
          },
          "ternary": {
           "aaxis": {
            "gridcolor": "white",
            "linecolor": "white",
            "showgrid": true,
            "tickcolor": "rgb(51,51,51)",
            "ticks": "outside"
           },
           "baxis": {
            "gridcolor": "white",
            "linecolor": "white",
            "showgrid": true,
            "tickcolor": "rgb(51,51,51)",
            "ticks": "outside"
           },
           "bgcolor": "rgb(237,237,237)",
           "caxis": {
            "gridcolor": "white",
            "linecolor": "white",
            "showgrid": true,
            "tickcolor": "rgb(51,51,51)",
            "ticks": "outside"
           }
          },
          "xaxis": {
           "automargin": true,
           "gridcolor": "white",
           "linecolor": "white",
           "showgrid": true,
           "tickcolor": "rgb(51,51,51)",
           "ticks": "outside",
           "title": {
            "standoff": 15
           },
           "zerolinecolor": "white"
          },
          "yaxis": {
           "automargin": true,
           "gridcolor": "white",
           "linecolor": "white",
           "showgrid": true,
           "tickcolor": "rgb(51,51,51)",
           "ticks": "outside",
           "title": {
            "standoff": 15
           },
           "zerolinecolor": "white"
          }
         }
        },
        "title": {
         "text": "Mut count for Hemidosome"
        },
        "xaxis": {
         "anchor": "y",
         "domain": [
          0,
          1
         ],
         "title": {
          "text": "index"
         }
        },
        "yaxis": {
         "anchor": "x",
         "domain": [
          0,
          1
         ],
         "title": {
          "text": "ge_median"
         }
        }
       }
      }
     },
     "metadata": {},
     "output_type": "display_data"
    },
    {
     "data": {
      "application/vnd.plotly.v1+json": {
       "config": {
        "plotlyServerURL": "https://plot.ly"
       },
       "data": [
        {
         "alignmentgroup": "True",
         "hovertemplate": "index=%{x}<br>ge_median=%{y}<br>mut_count=%{marker.color}<extra></extra>",
         "legendgroup": "",
         "marker": {
          "color": [
           5,
           7,
           8,
           4,
           2,
           5,
           6,
           1,
           6,
           6,
           13,
           3,
           6,
           null,
           2,
           null,
           null,
           3,
           null,
           4,
           4,
           1,
           null,
           null,
           null,
           7
          ],
          "coloraxis": "coloraxis",
          "pattern": {
           "shape": ""
          }
         },
         "name": "",
         "offsetgroup": "",
         "orientation": "v",
         "showlegend": false,
         "textposition": "auto",
         "type": "bar",
         "x": [
          "DEDD",
          "ATF6",
          "USP21",
          "B4GALT3",
          "UHMK1",
          "UAP1",
          "PEX19",
          "DUSP12",
          "ALDH9A1",
          "PPOX",
          "KIFAP3",
          "MPZL1",
          "F11R",
          "EEF1AKNMT",
          "IGSF8",
          "TSTD1",
          "RP11-297K8.2",
          "TOMM40L",
          "KLHDC9",
          "IGSF9",
          "PIGK",
          "CREG1",
          "MPC2",
          "DUSP23",
          "TSEN15",
          "HSPA6"
         ],
         "xaxis": "x",
         "y": [
          34.850088714339606,
          21.993118080555398,
          30.83263112473255,
          52.393747925589196,
          19.195838514450948,
          35.397210163480096,
          30.32195618101735,
          21.01789302527165,
          34.5083462726018,
          22.673002313366553,
          13.7052859239251,
          72.50261382554035,
          109.6301366012865,
          27.15526500896545,
          42.5202019382848,
          146.794383066687,
          11.81705191514575,
          12.960196282028999,
          7.138052054530295,
          12.474368363605,
          11.3990872978964,
          87.934282292606,
          26.226933013718,
          79.73381837347875,
          23.33960310297945,
          6.34441921063253
         ],
         "yaxis": "y"
        }
       ],
       "layout": {
        "barmode": "relative",
        "coloraxis": {
         "colorbar": {
          "title": {
           "text": "mut_count"
          }
         },
         "colorscale": [
          [
           0,
           "rgb(20,44,66)"
          ],
          [
           1,
           "rgb(90,179,244)"
          ]
         ]
        },
        "legend": {
         "tracegroupgap": 0
        },
        "template": {
         "data": {
          "bar": [
           {
            "error_x": {
             "color": "rgb(51,51,51)"
            },
            "error_y": {
             "color": "rgb(51,51,51)"
            },
            "marker": {
             "line": {
              "color": "rgb(237,237,237)",
              "width": 0.5
             },
             "pattern": {
              "fillmode": "overlay",
              "size": 10,
              "solidity": 0.2
             }
            },
            "type": "bar"
           }
          ],
          "barpolar": [
           {
            "marker": {
             "line": {
              "color": "rgb(237,237,237)",
              "width": 0.5
             },
             "pattern": {
              "fillmode": "overlay",
              "size": 10,
              "solidity": 0.2
             }
            },
            "type": "barpolar"
           }
          ],
          "carpet": [
           {
            "aaxis": {
             "endlinecolor": "rgb(51,51,51)",
             "gridcolor": "white",
             "linecolor": "white",
             "minorgridcolor": "white",
             "startlinecolor": "rgb(51,51,51)"
            },
            "baxis": {
             "endlinecolor": "rgb(51,51,51)",
             "gridcolor": "white",
             "linecolor": "white",
             "minorgridcolor": "white",
             "startlinecolor": "rgb(51,51,51)"
            },
            "type": "carpet"
           }
          ],
          "choropleth": [
           {
            "colorbar": {
             "outlinewidth": 0,
             "tickcolor": "rgb(237,237,237)",
             "ticklen": 6,
             "ticks": "inside"
            },
            "type": "choropleth"
           }
          ],
          "contour": [
           {
            "colorbar": {
             "outlinewidth": 0,
             "tickcolor": "rgb(237,237,237)",
             "ticklen": 6,
             "ticks": "inside"
            },
            "colorscale": [
             [
              0,
              "rgb(20,44,66)"
             ],
             [
              1,
              "rgb(90,179,244)"
             ]
            ],
            "type": "contour"
           }
          ],
          "contourcarpet": [
           {
            "colorbar": {
             "outlinewidth": 0,
             "tickcolor": "rgb(237,237,237)",
             "ticklen": 6,
             "ticks": "inside"
            },
            "type": "contourcarpet"
           }
          ],
          "heatmap": [
           {
            "colorbar": {
             "outlinewidth": 0,
             "tickcolor": "rgb(237,237,237)",
             "ticklen": 6,
             "ticks": "inside"
            },
            "colorscale": [
             [
              0,
              "rgb(20,44,66)"
             ],
             [
              1,
              "rgb(90,179,244)"
             ]
            ],
            "type": "heatmap"
           }
          ],
          "heatmapgl": [
           {
            "colorbar": {
             "outlinewidth": 0,
             "tickcolor": "rgb(237,237,237)",
             "ticklen": 6,
             "ticks": "inside"
            },
            "colorscale": [
             [
              0,
              "rgb(20,44,66)"
             ],
             [
              1,
              "rgb(90,179,244)"
             ]
            ],
            "type": "heatmapgl"
           }
          ],
          "histogram": [
           {
            "marker": {
             "pattern": {
              "fillmode": "overlay",
              "size": 10,
              "solidity": 0.2
             }
            },
            "type": "histogram"
           }
          ],
          "histogram2d": [
           {
            "colorbar": {
             "outlinewidth": 0,
             "tickcolor": "rgb(237,237,237)",
             "ticklen": 6,
             "ticks": "inside"
            },
            "colorscale": [
             [
              0,
              "rgb(20,44,66)"
             ],
             [
              1,
              "rgb(90,179,244)"
             ]
            ],
            "type": "histogram2d"
           }
          ],
          "histogram2dcontour": [
           {
            "colorbar": {
             "outlinewidth": 0,
             "tickcolor": "rgb(237,237,237)",
             "ticklen": 6,
             "ticks": "inside"
            },
            "colorscale": [
             [
              0,
              "rgb(20,44,66)"
             ],
             [
              1,
              "rgb(90,179,244)"
             ]
            ],
            "type": "histogram2dcontour"
           }
          ],
          "mesh3d": [
           {
            "colorbar": {
             "outlinewidth": 0,
             "tickcolor": "rgb(237,237,237)",
             "ticklen": 6,
             "ticks": "inside"
            },
            "type": "mesh3d"
           }
          ],
          "parcoords": [
           {
            "line": {
             "colorbar": {
              "outlinewidth": 0,
              "tickcolor": "rgb(237,237,237)",
              "ticklen": 6,
              "ticks": "inside"
             }
            },
            "type": "parcoords"
           }
          ],
          "pie": [
           {
            "automargin": true,
            "type": "pie"
           }
          ],
          "scatter": [
           {
            "fillpattern": {
             "fillmode": "overlay",
             "size": 10,
             "solidity": 0.2
            },
            "type": "scatter"
           }
          ],
          "scatter3d": [
           {
            "line": {
             "colorbar": {
              "outlinewidth": 0,
              "tickcolor": "rgb(237,237,237)",
              "ticklen": 6,
              "ticks": "inside"
             }
            },
            "marker": {
             "colorbar": {
              "outlinewidth": 0,
              "tickcolor": "rgb(237,237,237)",
              "ticklen": 6,
              "ticks": "inside"
             }
            },
            "type": "scatter3d"
           }
          ],
          "scattercarpet": [
           {
            "marker": {
             "colorbar": {
              "outlinewidth": 0,
              "tickcolor": "rgb(237,237,237)",
              "ticklen": 6,
              "ticks": "inside"
             }
            },
            "type": "scattercarpet"
           }
          ],
          "scattergeo": [
           {
            "marker": {
             "colorbar": {
              "outlinewidth": 0,
              "tickcolor": "rgb(237,237,237)",
              "ticklen": 6,
              "ticks": "inside"
             }
            },
            "type": "scattergeo"
           }
          ],
          "scattergl": [
           {
            "marker": {
             "colorbar": {
              "outlinewidth": 0,
              "tickcolor": "rgb(237,237,237)",
              "ticklen": 6,
              "ticks": "inside"
             }
            },
            "type": "scattergl"
           }
          ],
          "scattermapbox": [
           {
            "marker": {
             "colorbar": {
              "outlinewidth": 0,
              "tickcolor": "rgb(237,237,237)",
              "ticklen": 6,
              "ticks": "inside"
             }
            },
            "type": "scattermapbox"
           }
          ],
          "scatterpolar": [
           {
            "marker": {
             "colorbar": {
              "outlinewidth": 0,
              "tickcolor": "rgb(237,237,237)",
              "ticklen": 6,
              "ticks": "inside"
             }
            },
            "type": "scatterpolar"
           }
          ],
          "scatterpolargl": [
           {
            "marker": {
             "colorbar": {
              "outlinewidth": 0,
              "tickcolor": "rgb(237,237,237)",
              "ticklen": 6,
              "ticks": "inside"
             }
            },
            "type": "scatterpolargl"
           }
          ],
          "scatterternary": [
           {
            "marker": {
             "colorbar": {
              "outlinewidth": 0,
              "tickcolor": "rgb(237,237,237)",
              "ticklen": 6,
              "ticks": "inside"
             }
            },
            "type": "scatterternary"
           }
          ],
          "surface": [
           {
            "colorbar": {
             "outlinewidth": 0,
             "tickcolor": "rgb(237,237,237)",
             "ticklen": 6,
             "ticks": "inside"
            },
            "colorscale": [
             [
              0,
              "rgb(20,44,66)"
             ],
             [
              1,
              "rgb(90,179,244)"
             ]
            ],
            "type": "surface"
           }
          ],
          "table": [
           {
            "cells": {
             "fill": {
              "color": "rgb(237,237,237)"
             },
             "line": {
              "color": "white"
             }
            },
            "header": {
             "fill": {
              "color": "rgb(217,217,217)"
             },
             "line": {
              "color": "white"
             }
            },
            "type": "table"
           }
          ]
         },
         "layout": {
          "annotationdefaults": {
           "arrowhead": 0,
           "arrowwidth": 1
          },
          "autotypenumbers": "strict",
          "coloraxis": {
           "colorbar": {
            "outlinewidth": 0,
            "tickcolor": "rgb(237,237,237)",
            "ticklen": 6,
            "ticks": "inside"
           }
          },
          "colorscale": {
           "sequential": [
            [
             0,
             "rgb(20,44,66)"
            ],
            [
             1,
             "rgb(90,179,244)"
            ]
           ],
           "sequentialminus": [
            [
             0,
             "rgb(20,44,66)"
            ],
            [
             1,
             "rgb(90,179,244)"
            ]
           ]
          },
          "colorway": [
           "#F8766D",
           "#A3A500",
           "#00BF7D",
           "#00B0F6",
           "#E76BF3"
          ],
          "font": {
           "color": "rgb(51,51,51)"
          },
          "geo": {
           "bgcolor": "white",
           "lakecolor": "white",
           "landcolor": "rgb(237,237,237)",
           "showlakes": true,
           "showland": true,
           "subunitcolor": "white"
          },
          "hoverlabel": {
           "align": "left"
          },
          "hovermode": "closest",
          "paper_bgcolor": "white",
          "plot_bgcolor": "rgb(237,237,237)",
          "polar": {
           "angularaxis": {
            "gridcolor": "white",
            "linecolor": "white",
            "showgrid": true,
            "tickcolor": "rgb(51,51,51)",
            "ticks": "outside"
           },
           "bgcolor": "rgb(237,237,237)",
           "radialaxis": {
            "gridcolor": "white",
            "linecolor": "white",
            "showgrid": true,
            "tickcolor": "rgb(51,51,51)",
            "ticks": "outside"
           }
          },
          "scene": {
           "xaxis": {
            "backgroundcolor": "rgb(237,237,237)",
            "gridcolor": "white",
            "gridwidth": 2,
            "linecolor": "white",
            "showbackground": true,
            "showgrid": true,
            "tickcolor": "rgb(51,51,51)",
            "ticks": "outside",
            "zerolinecolor": "white"
           },
           "yaxis": {
            "backgroundcolor": "rgb(237,237,237)",
            "gridcolor": "white",
            "gridwidth": 2,
            "linecolor": "white",
            "showbackground": true,
            "showgrid": true,
            "tickcolor": "rgb(51,51,51)",
            "ticks": "outside",
            "zerolinecolor": "white"
           },
           "zaxis": {
            "backgroundcolor": "rgb(237,237,237)",
            "gridcolor": "white",
            "gridwidth": 2,
            "linecolor": "white",
            "showbackground": true,
            "showgrid": true,
            "tickcolor": "rgb(51,51,51)",
            "ticks": "outside",
            "zerolinecolor": "white"
           }
          },
          "shapedefaults": {
           "fillcolor": "black",
           "line": {
            "width": 0
           },
           "opacity": 0.3
          },
          "ternary": {
           "aaxis": {
            "gridcolor": "white",
            "linecolor": "white",
            "showgrid": true,
            "tickcolor": "rgb(51,51,51)",
            "ticks": "outside"
           },
           "baxis": {
            "gridcolor": "white",
            "linecolor": "white",
            "showgrid": true,
            "tickcolor": "rgb(51,51,51)",
            "ticks": "outside"
           },
           "bgcolor": "rgb(237,237,237)",
           "caxis": {
            "gridcolor": "white",
            "linecolor": "white",
            "showgrid": true,
            "tickcolor": "rgb(51,51,51)",
            "ticks": "outside"
           }
          },
          "xaxis": {
           "automargin": true,
           "gridcolor": "white",
           "linecolor": "white",
           "showgrid": true,
           "tickcolor": "rgb(51,51,51)",
           "ticks": "outside",
           "title": {
            "standoff": 15
           },
           "zerolinecolor": "white"
          },
          "yaxis": {
           "automargin": true,
           "gridcolor": "white",
           "linecolor": "white",
           "showgrid": true,
           "tickcolor": "rgb(51,51,51)",
           "ticks": "outside",
           "title": {
            "standoff": 15
           },
           "zerolinecolor": "white"
          }
         }
        },
        "title": {
         "text": "Mut count for Com_16"
        },
        "xaxis": {
         "anchor": "y",
         "domain": [
          0,
          1
         ],
         "title": {
          "text": "index"
         }
        },
        "yaxis": {
         "anchor": "x",
         "domain": [
          0,
          1
         ],
         "title": {
          "text": "ge_median"
         }
        }
       }
      }
     },
     "metadata": {},
     "output_type": "display_data"
    }
   ],
   "source": [
    "tpm_df = tum.exps[\"standard_4K_10TF\"].tpm_df\n",
    "\n",
    "for key, val in pathways.items():\n",
    "    dmy_df = pd.DataFrame(index=val)\n",
    "    dmy_df[\"mut_count\"] = tcga_mutations_df.loc[tcga_mutations_df.index.isin(val)][\"count\"]\n",
    "    dmy_df[\"ge_median\"] = tpm_df.loc[tpm_df.index.isin(val)].median(axis=1)\n",
    "    fig = px.bar(dmy_df, x=dmy_df.index, y=\"ge_median\", color=\"mut_count\", title=\"Mut count for {}\".format(key))\n",
    "    fig.show()"
   ]
  },
  {
   "cell_type": "markdown",
   "metadata": {},
   "source": [
    "# Comparing between experiments\n",
    "\n",
    "Curious to see what's the difference between the 2 modifiers. If Beta is better at separating the communities.\n",
    "\n",
    "Note: I couldn't see too much of a change when beta is applied. In fact, it feels that beta is very similar to the norm3 modifier"
   ]
  },
  {
   "cell_type": "code",
   "execution_count": 35,
   "metadata": {},
   "outputs": [
    {
     "data": {
      "application/vnd.plotly.v1+json": {
       "config": {
        "plotlyServerURL": "https://plot.ly"
       },
       "data": [
        {
         "arrangement": "perpendicular",
         "link": {
          "color": "#bdbdbd",
          "source": [
           0,
           0,
           0,
           0,
           0,
           0,
           1,
           1,
           1,
           1,
           1,
           1,
           1,
           2,
           2,
           3,
           3,
           3,
           3,
           3,
           3,
           3,
           3,
           4,
           4,
           4,
           4,
           4,
           4,
           4,
           5,
           5,
           5,
           5,
           5,
           5,
           6,
           6,
           6,
           6,
           6,
           6,
           6,
           6,
           7,
           7,
           7,
           7,
           7,
           7,
           7,
           7,
           8,
           8,
           9,
           9,
           9,
           9,
           9,
           9,
           9,
           9,
           10,
           10,
           10,
           10,
           11,
           11,
           11,
           11,
           11,
           11,
           11,
           11,
           11,
           12,
           12,
           13,
           13,
           14,
           14,
           14,
           15,
           15,
           16,
           17,
           17,
           18,
           19,
           20,
           21,
           22,
           22,
           22,
           22,
           22,
           22,
           22,
           22,
           23,
           23,
           23,
           23,
           23,
           23,
           23,
           23,
           23,
           23,
           24,
           24,
           24,
           24,
           24,
           24,
           24,
           24,
           24,
           24,
           25,
           25,
           25,
           25,
           25,
           25,
           25,
           25,
           25,
           25,
           25,
           25,
           26,
           26,
           26,
           26,
           26,
           26,
           26,
           26,
           26,
           27,
           27,
           27,
           27,
           27,
           27,
           27,
           28,
           28,
           28,
           28,
           28,
           28,
           28,
           28,
           29,
           29,
           29,
           29,
           29,
           30,
           30,
           30,
           30,
           30,
           31,
           31,
           31,
           31,
           31,
           31,
           31,
           32,
           32,
           32,
           32,
           32,
           32,
           32,
           32,
           33,
           33,
           33,
           34,
           34,
           35,
           36,
           37,
           37,
           37,
           38,
           38,
           38,
           39,
           39,
           40,
           40,
           40,
           40,
           41,
           42,
           42,
           43,
           44,
           44,
           44,
           44,
           44,
           44,
           44,
           44,
           44
          ],
          "target": [
           23,
           24,
           25,
           28,
           39,
           44,
           23,
           24,
           25,
           26,
           28,
           33,
           44,
           22,
           32,
           23,
           24,
           25,
           28,
           30,
           31,
           41,
           44,
           22,
           24,
           26,
           27,
           28,
           29,
           32,
           23,
           24,
           26,
           27,
           28,
           31,
           24,
           25,
           26,
           27,
           28,
           30,
           32,
           33,
           22,
           23,
           24,
           28,
           31,
           32,
           40,
           44,
           22,
           29,
           23,
           24,
           25,
           28,
           32,
           41,
           43,
           44,
           25,
           26,
           30,
           38,
           23,
           24,
           25,
           27,
           28,
           29,
           31,
           36,
           44,
           23,
           31,
           25,
           33,
           23,
           30,
           32,
           28,
           34,
           35,
           27,
           37,
           38,
           39,
           42,
           44,
           45,
           49,
           51,
           52,
           53,
           54,
           56,
           63,
           45,
           46,
           47,
           48,
           49,
           50,
           51,
           56,
           58,
           61,
           45,
           46,
           47,
           48,
           50,
           51,
           52,
           53,
           57,
           59,
           45,
           46,
           47,
           48,
           49,
           50,
           51,
           52,
           53,
           55,
           57,
           59,
           45,
           47,
           49,
           50,
           51,
           52,
           53,
           55,
           59,
           45,
           47,
           48,
           51,
           52,
           53,
           59,
           45,
           46,
           47,
           48,
           49,
           51,
           53,
           58,
           45,
           48,
           49,
           51,
           54,
           45,
           48,
           50,
           51,
           55,
           45,
           48,
           49,
           52,
           56,
           63,
           67,
           45,
           49,
           50,
           51,
           53,
           54,
           55,
           63,
           45,
           47,
           57,
           47,
           64,
           60,
           58,
           45,
           51,
           52,
           54,
           55,
           62,
           46,
           61,
           48,
           52,
           53,
           59,
           56,
           45,
           66,
           65,
           45,
           46,
           47,
           48,
           50,
           53,
           56,
           63,
           68
          ],
          "value": [
           2,
           2,
           38,
           13,
           1,
           514,
           11,
           437,
           15,
           5,
           26,
           3,
           1,
           462,
           10,
           407,
           2,
           2,
           1,
           1,
           15,
           1,
           1,
           9,
           1,
           293,
           2,
           5,
           5,
           2,
           1,
           1,
           11,
           288,
           1,
           2,
           7,
           214,
           31,
           3,
           1,
           1,
           2,
           1,
           3,
           1,
           1,
           208,
           1,
           1,
           15,
           8,
           4,
           206,
           6,
           2,
           132,
           6,
           1,
           11,
           7,
           6,
           3,
           8,
           120,
           1,
           37,
           1,
           1,
           3,
           1,
           3,
           1,
           26,
           1,
           1,
           73,
           1,
           62,
           1,
           1,
           53,
           2,
           31,
           31,
           1,
           20,
           19,
           16,
           8,
           4,
           1,
           451,
           13,
           2,
           3,
           4,
           1,
           3,
           4,
           3,
           4,
           424,
           1,
           6,
           1,
           19,
           2,
           3,
           2,
           1,
           395,
           4,
           8,
           1,
           7,
           34,
           1,
           1,
           3,
           28,
           11,
           2,
           1,
           354,
           1,
           1,
           2,
           1,
           1,
           1,
           2,
           91,
           4,
           4,
           229,
           7,
           1,
           8,
           2,
           6,
           3,
           3,
           3,
           250,
           1,
           31,
           1,
           9,
           17,
           10,
           1,
           1,
           214,
           11,
           1,
           8,
           7,
           4,
           194,
           1,
           1,
           1,
           1,
           119,
           21,
           14,
           3,
           1,
           42,
           5,
           6,
           1,
           6,
           1,
           48,
           3,
           1,
           1,
           8,
           1,
           1,
           64,
           15,
           16,
           31,
           26,
           16,
           3,
           1,
           1,
           1,
           18,
           1,
           16,
           2,
           11,
           1,
           1,
           12,
           1,
           7,
           7,
           7,
           497,
           2,
           8,
           2,
           4,
           10,
           1,
           4
          ]
         },
         "node": {
          "color": [
           "rgb(229, 134, 6)",
           "rgb(229, 134, 6)",
           "rgb(229, 134, 6)",
           "rgb(229, 134, 6)",
           "rgb(229, 134, 6)",
           "rgb(229, 134, 6)",
           "rgb(229, 134, 6)",
           "rgb(229, 134, 6)",
           "rgb(229, 134, 6)",
           "rgb(229, 134, 6)",
           "rgb(229, 134, 6)",
           "rgb(229, 134, 6)",
           "rgb(229, 134, 6)",
           "rgb(229, 134, 6)",
           "rgb(229, 134, 6)",
           "rgb(229, 134, 6)",
           "rgb(229, 134, 6)",
           "rgb(229, 134, 6)",
           "rgb(229, 134, 6)",
           "rgb(229, 134, 6)",
           "rgb(229, 134, 6)",
           "rgb(229, 134, 6)",
           "rgb(93, 105, 177)",
           "rgb(93, 105, 177)",
           "rgb(93, 105, 177)",
           "rgb(93, 105, 177)",
           "rgb(93, 105, 177)",
           "rgb(93, 105, 177)",
           "rgb(93, 105, 177)",
           "rgb(93, 105, 177)",
           "rgb(93, 105, 177)",
           "rgb(93, 105, 177)",
           "rgb(93, 105, 177)",
           "rgb(93, 105, 177)",
           "rgb(93, 105, 177)",
           "rgb(93, 105, 177)",
           "rgb(93, 105, 177)",
           "rgb(93, 105, 177)",
           "rgb(93, 105, 177)",
           "rgb(93, 105, 177)",
           "rgb(93, 105, 177)",
           "rgb(93, 105, 177)",
           "rgb(93, 105, 177)",
           "rgb(93, 105, 177)",
           "rgb(93, 105, 177)",
           "rgb(82, 188, 163)",
           "rgb(82, 188, 163)",
           "rgb(82, 188, 163)",
           "rgb(82, 188, 163)",
           "rgb(82, 188, 163)",
           "rgb(82, 188, 163)",
           "rgb(82, 188, 163)",
           "rgb(82, 188, 163)",
           "rgb(82, 188, 163)",
           "rgb(82, 188, 163)",
           "rgb(82, 188, 163)",
           "rgb(82, 188, 163)",
           "rgb(82, 188, 163)",
           "rgb(82, 188, 163)",
           "rgb(82, 188, 163)",
           "rgb(82, 188, 163)",
           "rgb(82, 188, 163)",
           "rgb(82, 188, 163)",
           "rgb(82, 188, 163)",
           "rgb(82, 188, 163)",
           "rgb(82, 188, 163)",
           "rgb(82, 188, 163)",
           "rgb(82, 188, 163)",
           "rgb(82, 188, 163)"
          ],
          "label": [
           1,
           2,
           3,
           4,
           5,
           6,
           7,
           8,
           9,
           10,
           11,
           12,
           13,
           14,
           15,
           16,
           17,
           18,
           19,
           20,
           21,
           22,
           2,
           3,
           4,
           5,
           6,
           7,
           8,
           9,
           10,
           11,
           12,
           13,
           14,
           15,
           16,
           17,
           18,
           19,
           20,
           21,
           22,
           23,
           24,
           -1,
           1,
           2,
           3,
           4,
           5,
           6,
           7,
           8,
           9,
           10,
           11,
           12,
           13,
           14,
           15,
           16,
           17,
           18,
           19,
           20,
           21,
           22,
           23
          ],
          "line": {
           "color": "black",
           "width": 0.5
          },
          "pad": 15,
          "thickness": 20
         },
         "type": "sankey"
        }
       ],
       "layout": {
        "annotations": [
         {
          "align": "left",
          "font": {
           "color": "#003366",
           "size": 16
          },
          "showarrow": false,
          "text": "std_4K_10TF",
          "x": 0,
          "xref": "x",
          "y": 1.07,
          "yref": "paper"
         },
         {
          "align": "left",
          "font": {
           "color": "#003366",
           "size": 16
          },
          "showarrow": false,
          "text": "norm3_4K_10TF",
          "x": 1,
          "xref": "x",
          "y": 1.07,
          "yref": "paper"
         },
         {
          "align": "left",
          "font": {
           "color": "#003366",
           "size": 16
          },
          "showarrow": false,
          "text": "beta_4K_10TF",
          "x": 2,
          "xref": "x",
          "y": 1.07,
          "yref": "paper"
         }
        ],
        "font": {
         "color": "#003366",
         "size": 16
        },
        "height": 600,
        "plot_bgcolor": "rgba(0,0,0,0)",
        "template": {
         "data": {
          "bar": [
           {
            "error_x": {
             "color": "rgb(51,51,51)"
            },
            "error_y": {
             "color": "rgb(51,51,51)"
            },
            "marker": {
             "line": {
              "color": "rgb(237,237,237)",
              "width": 0.5
             },
             "pattern": {
              "fillmode": "overlay",
              "size": 10,
              "solidity": 0.2
             }
            },
            "type": "bar"
           }
          ],
          "barpolar": [
           {
            "marker": {
             "line": {
              "color": "rgb(237,237,237)",
              "width": 0.5
             },
             "pattern": {
              "fillmode": "overlay",
              "size": 10,
              "solidity": 0.2
             }
            },
            "type": "barpolar"
           }
          ],
          "carpet": [
           {
            "aaxis": {
             "endlinecolor": "rgb(51,51,51)",
             "gridcolor": "white",
             "linecolor": "white",
             "minorgridcolor": "white",
             "startlinecolor": "rgb(51,51,51)"
            },
            "baxis": {
             "endlinecolor": "rgb(51,51,51)",
             "gridcolor": "white",
             "linecolor": "white",
             "minorgridcolor": "white",
             "startlinecolor": "rgb(51,51,51)"
            },
            "type": "carpet"
           }
          ],
          "choropleth": [
           {
            "colorbar": {
             "outlinewidth": 0,
             "tickcolor": "rgb(237,237,237)",
             "ticklen": 6,
             "ticks": "inside"
            },
            "type": "choropleth"
           }
          ],
          "contour": [
           {
            "colorbar": {
             "outlinewidth": 0,
             "tickcolor": "rgb(237,237,237)",
             "ticklen": 6,
             "ticks": "inside"
            },
            "colorscale": [
             [
              0,
              "rgb(20,44,66)"
             ],
             [
              1,
              "rgb(90,179,244)"
             ]
            ],
            "type": "contour"
           }
          ],
          "contourcarpet": [
           {
            "colorbar": {
             "outlinewidth": 0,
             "tickcolor": "rgb(237,237,237)",
             "ticklen": 6,
             "ticks": "inside"
            },
            "type": "contourcarpet"
           }
          ],
          "heatmap": [
           {
            "colorbar": {
             "outlinewidth": 0,
             "tickcolor": "rgb(237,237,237)",
             "ticklen": 6,
             "ticks": "inside"
            },
            "colorscale": [
             [
              0,
              "rgb(20,44,66)"
             ],
             [
              1,
              "rgb(90,179,244)"
             ]
            ],
            "type": "heatmap"
           }
          ],
          "heatmapgl": [
           {
            "colorbar": {
             "outlinewidth": 0,
             "tickcolor": "rgb(237,237,237)",
             "ticklen": 6,
             "ticks": "inside"
            },
            "colorscale": [
             [
              0,
              "rgb(20,44,66)"
             ],
             [
              1,
              "rgb(90,179,244)"
             ]
            ],
            "type": "heatmapgl"
           }
          ],
          "histogram": [
           {
            "marker": {
             "pattern": {
              "fillmode": "overlay",
              "size": 10,
              "solidity": 0.2
             }
            },
            "type": "histogram"
           }
          ],
          "histogram2d": [
           {
            "colorbar": {
             "outlinewidth": 0,
             "tickcolor": "rgb(237,237,237)",
             "ticklen": 6,
             "ticks": "inside"
            },
            "colorscale": [
             [
              0,
              "rgb(20,44,66)"
             ],
             [
              1,
              "rgb(90,179,244)"
             ]
            ],
            "type": "histogram2d"
           }
          ],
          "histogram2dcontour": [
           {
            "colorbar": {
             "outlinewidth": 0,
             "tickcolor": "rgb(237,237,237)",
             "ticklen": 6,
             "ticks": "inside"
            },
            "colorscale": [
             [
              0,
              "rgb(20,44,66)"
             ],
             [
              1,
              "rgb(90,179,244)"
             ]
            ],
            "type": "histogram2dcontour"
           }
          ],
          "mesh3d": [
           {
            "colorbar": {
             "outlinewidth": 0,
             "tickcolor": "rgb(237,237,237)",
             "ticklen": 6,
             "ticks": "inside"
            },
            "type": "mesh3d"
           }
          ],
          "parcoords": [
           {
            "line": {
             "colorbar": {
              "outlinewidth": 0,
              "tickcolor": "rgb(237,237,237)",
              "ticklen": 6,
              "ticks": "inside"
             }
            },
            "type": "parcoords"
           }
          ],
          "pie": [
           {
            "automargin": true,
            "type": "pie"
           }
          ],
          "scatter": [
           {
            "fillpattern": {
             "fillmode": "overlay",
             "size": 10,
             "solidity": 0.2
            },
            "type": "scatter"
           }
          ],
          "scatter3d": [
           {
            "line": {
             "colorbar": {
              "outlinewidth": 0,
              "tickcolor": "rgb(237,237,237)",
              "ticklen": 6,
              "ticks": "inside"
             }
            },
            "marker": {
             "colorbar": {
              "outlinewidth": 0,
              "tickcolor": "rgb(237,237,237)",
              "ticklen": 6,
              "ticks": "inside"
             }
            },
            "type": "scatter3d"
           }
          ],
          "scattercarpet": [
           {
            "marker": {
             "colorbar": {
              "outlinewidth": 0,
              "tickcolor": "rgb(237,237,237)",
              "ticklen": 6,
              "ticks": "inside"
             }
            },
            "type": "scattercarpet"
           }
          ],
          "scattergeo": [
           {
            "marker": {
             "colorbar": {
              "outlinewidth": 0,
              "tickcolor": "rgb(237,237,237)",
              "ticklen": 6,
              "ticks": "inside"
             }
            },
            "type": "scattergeo"
           }
          ],
          "scattergl": [
           {
            "marker": {
             "colorbar": {
              "outlinewidth": 0,
              "tickcolor": "rgb(237,237,237)",
              "ticklen": 6,
              "ticks": "inside"
             }
            },
            "type": "scattergl"
           }
          ],
          "scattermapbox": [
           {
            "marker": {
             "colorbar": {
              "outlinewidth": 0,
              "tickcolor": "rgb(237,237,237)",
              "ticklen": 6,
              "ticks": "inside"
             }
            },
            "type": "scattermapbox"
           }
          ],
          "scatterpolar": [
           {
            "marker": {
             "colorbar": {
              "outlinewidth": 0,
              "tickcolor": "rgb(237,237,237)",
              "ticklen": 6,
              "ticks": "inside"
             }
            },
            "type": "scatterpolar"
           }
          ],
          "scatterpolargl": [
           {
            "marker": {
             "colorbar": {
              "outlinewidth": 0,
              "tickcolor": "rgb(237,237,237)",
              "ticklen": 6,
              "ticks": "inside"
             }
            },
            "type": "scatterpolargl"
           }
          ],
          "scatterternary": [
           {
            "marker": {
             "colorbar": {
              "outlinewidth": 0,
              "tickcolor": "rgb(237,237,237)",
              "ticklen": 6,
              "ticks": "inside"
             }
            },
            "type": "scatterternary"
           }
          ],
          "surface": [
           {
            "colorbar": {
             "outlinewidth": 0,
             "tickcolor": "rgb(237,237,237)",
             "ticklen": 6,
             "ticks": "inside"
            },
            "colorscale": [
             [
              0,
              "rgb(20,44,66)"
             ],
             [
              1,
              "rgb(90,179,244)"
             ]
            ],
            "type": "surface"
           }
          ],
          "table": [
           {
            "cells": {
             "fill": {
              "color": "rgb(237,237,237)"
             },
             "line": {
              "color": "white"
             }
            },
            "header": {
             "fill": {
              "color": "rgb(217,217,217)"
             },
             "line": {
              "color": "white"
             }
            },
            "type": "table"
           }
          ]
         },
         "layout": {
          "annotationdefaults": {
           "arrowhead": 0,
           "arrowwidth": 1
          },
          "autotypenumbers": "strict",
          "coloraxis": {
           "colorbar": {
            "outlinewidth": 0,
            "tickcolor": "rgb(237,237,237)",
            "ticklen": 6,
            "ticks": "inside"
           }
          },
          "colorscale": {
           "sequential": [
            [
             0,
             "rgb(20,44,66)"
            ],
            [
             1,
             "rgb(90,179,244)"
            ]
           ],
           "sequentialminus": [
            [
             0,
             "rgb(20,44,66)"
            ],
            [
             1,
             "rgb(90,179,244)"
            ]
           ]
          },
          "colorway": [
           "#F8766D",
           "#A3A500",
           "#00BF7D",
           "#00B0F6",
           "#E76BF3"
          ],
          "font": {
           "color": "rgb(51,51,51)"
          },
          "geo": {
           "bgcolor": "white",
           "lakecolor": "white",
           "landcolor": "rgb(237,237,237)",
           "showlakes": true,
           "showland": true,
           "subunitcolor": "white"
          },
          "hoverlabel": {
           "align": "left"
          },
          "hovermode": "closest",
          "paper_bgcolor": "white",
          "plot_bgcolor": "rgb(237,237,237)",
          "polar": {
           "angularaxis": {
            "gridcolor": "white",
            "linecolor": "white",
            "showgrid": true,
            "tickcolor": "rgb(51,51,51)",
            "ticks": "outside"
           },
           "bgcolor": "rgb(237,237,237)",
           "radialaxis": {
            "gridcolor": "white",
            "linecolor": "white",
            "showgrid": true,
            "tickcolor": "rgb(51,51,51)",
            "ticks": "outside"
           }
          },
          "scene": {
           "xaxis": {
            "backgroundcolor": "rgb(237,237,237)",
            "gridcolor": "white",
            "gridwidth": 2,
            "linecolor": "white",
            "showbackground": true,
            "showgrid": true,
            "tickcolor": "rgb(51,51,51)",
            "ticks": "outside",
            "zerolinecolor": "white"
           },
           "yaxis": {
            "backgroundcolor": "rgb(237,237,237)",
            "gridcolor": "white",
            "gridwidth": 2,
            "linecolor": "white",
            "showbackground": true,
            "showgrid": true,
            "tickcolor": "rgb(51,51,51)",
            "ticks": "outside",
            "zerolinecolor": "white"
           },
           "zaxis": {
            "backgroundcolor": "rgb(237,237,237)",
            "gridcolor": "white",
            "gridwidth": 2,
            "linecolor": "white",
            "showbackground": true,
            "showgrid": true,
            "tickcolor": "rgb(51,51,51)",
            "ticks": "outside",
            "zerolinecolor": "white"
           }
          },
          "shapedefaults": {
           "fillcolor": "black",
           "line": {
            "width": 0
           },
           "opacity": 0.3
          },
          "ternary": {
           "aaxis": {
            "gridcolor": "white",
            "linecolor": "white",
            "showgrid": true,
            "tickcolor": "rgb(51,51,51)",
            "ticks": "outside"
           },
           "baxis": {
            "gridcolor": "white",
            "linecolor": "white",
            "showgrid": true,
            "tickcolor": "rgb(51,51,51)",
            "ticks": "outside"
           },
           "bgcolor": "rgb(237,237,237)",
           "caxis": {
            "gridcolor": "white",
            "linecolor": "white",
            "showgrid": true,
            "tickcolor": "rgb(51,51,51)",
            "ticks": "outside"
           }
          },
          "xaxis": {
           "automargin": true,
           "gridcolor": "white",
           "linecolor": "white",
           "showgrid": true,
           "tickcolor": "rgb(51,51,51)",
           "ticks": "outside",
           "title": {
            "standoff": 15
           },
           "zerolinecolor": "white"
          },
          "yaxis": {
           "automargin": true,
           "gridcolor": "white",
           "linecolor": "white",
           "showgrid": true,
           "tickcolor": "rgb(51,51,51)",
           "ticks": "outside",
           "title": {
            "standoff": 15
           },
           "zerolinecolor": "white"
          }
         }
        },
        "title": {
         "text": "Community comparison between std_4K_10TF, norm3_4K_10TF, beta_4K_10TF"
        },
        "xaxis": {
         "showgrid": false,
         "visible": false,
         "zeroline": false
        },
        "yaxis": {
         "showgrid": false,
         "visible": false,
         "zeroline": false
        }
       }
      }
     },
     "metadata": {},
     "output_type": "display_data"
    }
   ],
   "source": [
    "# Prep data\n",
    "std_t = tum.exps[\"standard_4K_10TF\"]\n",
    "norm3_t = tum.exps[\"norm3_4K_10TF\"]\n",
    "beta_t = tum.exps[\"beta_4K_10TF\"]\n",
    "\n",
    "dmy_std = std_t.nodes_df.rename(columns={\"Modularity Class\": \"std_4K_10TF\"})\n",
    "dmy_norm3 = norm3_t.nodes_df.rename(columns={\"Modularity Class\": \"norm3_4K_10TF\"})\n",
    "dmy_beta = beta_t.nodes_df.rename(columns={\"Modularity Class\": \"beta_4K_10TF\"})\n",
    "\n",
    "# combine data\n",
    "test = pd.concat([dmy_std[\"std_4K_10TF\"], dmy_beta[\"beta_4K_10TF\"], dmy_norm3[\"norm3_4K_10TF\"]], axis=1).fillna(-1)  # dmy_h3[\"norm3_h_5k\"]], axis=1)\n",
    "reoder_cols = [\"std_4K_10TF\", \"norm3_4K_10TF\", \"beta_4K_10TF\"]  # \"norm3_h_5k\"]\n",
    "\n",
    "# plot\n",
    "meta = sky.main(\n",
    "    test,\n",
    "    reorder_cols=reoder_cols,\n",
    "    title=\"Community comparison between \" + \", \".join(reoder_cols),\n",
    ")"
   ]
  },
  {
   "cell_type": "code",
   "execution_count": 36,
   "metadata": {},
   "outputs": [
    {
     "name": "stdout",
     "output_type": "stream",
     "text": [
      "Genes mutated 0.532\n"
     ]
    }
   ],
   "source": [
    "sel_mut = tcga_mutations_df[(tcga_mutations_df.index.isin(norm3_t.tpm_df.index)) & (tcga_mutations_df[\"count\"] > 2)]\n",
    "print(\"Genes mutated\", sel_mut.shape[0] / norm3_t.tpm_df.shape[0])"
   ]
  },
  {
   "cell_type": "code",
   "execution_count": 37,
   "metadata": {},
   "outputs": [
    {
     "data": {
      "application/vnd.plotly.v1+json": {
       "config": {
        "plotlyServerURL": "https://plot.ly"
       },
       "data": [
        {
         "arrangement": "perpendicular",
         "link": {
          "color": "#bdbdbd",
          "source": [
           0,
           1,
           2,
           3,
           3,
           4,
           5,
           6,
           6,
           7,
           7,
           7,
           8,
           8,
           8,
           9,
           10,
           10,
           11,
           12,
           13,
           14,
           15,
           16,
           17,
           18,
           19,
           20,
           27,
           27,
           27,
           27,
           27,
           27,
           27,
           27,
           28,
           28,
           28,
           29,
           29,
           30,
           31,
           32,
           32,
           32,
           33,
           33,
           33,
           21,
           21,
           22,
           22,
           22,
           22,
           23,
           24,
           24,
           25,
           26,
           26,
           26,
           26,
           26,
           26,
           26,
           26
          ],
          "target": [
           21,
           28,
           27,
           23,
           26,
           27,
           26,
           27,
           28,
           27,
           22,
           26,
           27,
           23,
           25,
           33,
           31,
           26,
           26,
           28,
           27,
           29,
           30,
           32,
           33,
           21,
           24,
           26,
           34,
           38,
           39,
           40,
           42,
           43,
           44,
           52,
           34,
           36,
           46,
           36,
           53,
           49,
           47,
           34,
           40,
           41,
           43,
           44,
           51,
           35,
           50,
           37,
           41,
           42,
           48,
           45,
           34,
           55,
           54,
           34,
           37,
           38,
           41,
           45,
           52,
           56,
           57
          ],
          "value": [
           1,
           3,
           10,
           1,
           15,
           2,
           2,
           2,
           1,
           1,
           15,
           1,
           1,
           11,
           7,
           1,
           26,
           1,
           73,
           62,
           53,
           31,
           31,
           20,
           19,
           16,
           8,
           4,
           1,
           6,
           1,
           48,
           3,
           1,
           1,
           8,
           1,
           1,
           64,
           15,
           16,
           31,
           26,
           16,
           3,
           1,
           1,
           1,
           18,
           1,
           16,
           2,
           11,
           1,
           1,
           12,
           1,
           7,
           7,
           21,
           14,
           3,
           1,
           42,
           5,
           6,
           4
          ]
         },
         "node": {
          "color": [
           "rgb(229, 134, 6)",
           "rgb(229, 134, 6)",
           "rgb(229, 134, 6)",
           "rgb(229, 134, 6)",
           "rgb(229, 134, 6)",
           "rgb(229, 134, 6)",
           "rgb(229, 134, 6)",
           "rgb(229, 134, 6)",
           "rgb(229, 134, 6)",
           "rgb(229, 134, 6)",
           "rgb(229, 134, 6)",
           "rgb(229, 134, 6)",
           "rgb(229, 134, 6)",
           "rgb(229, 134, 6)",
           "rgb(229, 134, 6)",
           "rgb(229, 134, 6)",
           "rgb(229, 134, 6)",
           "rgb(229, 134, 6)",
           "rgb(229, 134, 6)",
           "rgb(229, 134, 6)",
           "rgb(229, 134, 6)",
           "rgb(93, 105, 177)",
           "rgb(93, 105, 177)",
           "rgb(93, 105, 177)",
           "rgb(93, 105, 177)",
           "rgb(93, 105, 177)",
           "rgb(93, 105, 177)",
           "rgb(93, 105, 177)",
           "rgb(93, 105, 177)",
           "rgb(93, 105, 177)",
           "rgb(93, 105, 177)",
           "rgb(93, 105, 177)",
           "rgb(93, 105, 177)",
           "rgb(93, 105, 177)",
           "rgb(82, 188, 163)",
           "rgb(82, 188, 163)",
           "rgb(82, 188, 163)",
           "rgb(82, 188, 163)",
           "rgb(82, 188, 163)",
           "rgb(82, 188, 163)",
           "rgb(82, 188, 163)",
           "rgb(82, 188, 163)",
           "rgb(82, 188, 163)",
           "rgb(82, 188, 163)",
           "rgb(82, 188, 163)",
           "rgb(82, 188, 163)",
           "rgb(82, 188, 163)",
           "rgb(82, 188, 163)",
           "rgb(82, 188, 163)",
           "rgb(82, 188, 163)",
           "rgb(82, 188, 163)",
           "rgb(82, 188, 163)",
           "rgb(82, 188, 163)",
           "rgb(82, 188, 163)",
           "rgb(82, 188, 163)",
           "rgb(82, 188, 163)",
           "rgb(82, 188, 163)",
           "rgb(82, 188, 163)"
          ],
          "label": [
           1,
           2,
           3,
           4,
           5,
           6,
           7,
           8,
           10,
           11,
           12,
           13,
           14,
           15,
           16,
           17,
           18,
           19,
           20,
           21,
           22,
           19,
           20,
           21,
           22,
           23,
           24,
           12,
           13,
           14,
           15,
           16,
           17,
           18,
           -1,
           1,
           2,
           3,
           4,
           5,
           6,
           7,
           8,
           9,
           10,
           11,
           12,
           13,
           14,
           15,
           16,
           17,
           18,
           19,
           20,
           21,
           22,
           23
          ],
          "line": {
           "color": "black",
           "width": 0.5
          },
          "pad": 15,
          "thickness": 20
         },
         "type": "sankey"
        }
       ],
       "layout": {
        "annotations": [
         {
          "align": "left",
          "font": {
           "color": "#003366",
           "size": 16
          },
          "showarrow": false,
          "text": "std_4K_10TF",
          "x": 0,
          "xref": "x",
          "y": 1.07,
          "yref": "paper"
         },
         {
          "align": "left",
          "font": {
           "color": "#003366",
           "size": 16
          },
          "showarrow": false,
          "text": "norm3_4K_10TF",
          "x": 1,
          "xref": "x",
          "y": 1.07,
          "yref": "paper"
         },
         {
          "align": "left",
          "font": {
           "color": "#003366",
           "size": 16
          },
          "showarrow": false,
          "text": "beta_4K_10TF",
          "x": 2,
          "xref": "x",
          "y": 1.07,
          "yref": "paper"
         }
        ],
        "font": {
         "color": "#003366",
         "size": 16
        },
        "height": 600,
        "plot_bgcolor": "rgba(0,0,0,0)",
        "template": {
         "data": {
          "bar": [
           {
            "error_x": {
             "color": "rgb(51,51,51)"
            },
            "error_y": {
             "color": "rgb(51,51,51)"
            },
            "marker": {
             "line": {
              "color": "rgb(237,237,237)",
              "width": 0.5
             },
             "pattern": {
              "fillmode": "overlay",
              "size": 10,
              "solidity": 0.2
             }
            },
            "type": "bar"
           }
          ],
          "barpolar": [
           {
            "marker": {
             "line": {
              "color": "rgb(237,237,237)",
              "width": 0.5
             },
             "pattern": {
              "fillmode": "overlay",
              "size": 10,
              "solidity": 0.2
             }
            },
            "type": "barpolar"
           }
          ],
          "carpet": [
           {
            "aaxis": {
             "endlinecolor": "rgb(51,51,51)",
             "gridcolor": "white",
             "linecolor": "white",
             "minorgridcolor": "white",
             "startlinecolor": "rgb(51,51,51)"
            },
            "baxis": {
             "endlinecolor": "rgb(51,51,51)",
             "gridcolor": "white",
             "linecolor": "white",
             "minorgridcolor": "white",
             "startlinecolor": "rgb(51,51,51)"
            },
            "type": "carpet"
           }
          ],
          "choropleth": [
           {
            "colorbar": {
             "outlinewidth": 0,
             "tickcolor": "rgb(237,237,237)",
             "ticklen": 6,
             "ticks": "inside"
            },
            "type": "choropleth"
           }
          ],
          "contour": [
           {
            "colorbar": {
             "outlinewidth": 0,
             "tickcolor": "rgb(237,237,237)",
             "ticklen": 6,
             "ticks": "inside"
            },
            "colorscale": [
             [
              0,
              "rgb(20,44,66)"
             ],
             [
              1,
              "rgb(90,179,244)"
             ]
            ],
            "type": "contour"
           }
          ],
          "contourcarpet": [
           {
            "colorbar": {
             "outlinewidth": 0,
             "tickcolor": "rgb(237,237,237)",
             "ticklen": 6,
             "ticks": "inside"
            },
            "type": "contourcarpet"
           }
          ],
          "heatmap": [
           {
            "colorbar": {
             "outlinewidth": 0,
             "tickcolor": "rgb(237,237,237)",
             "ticklen": 6,
             "ticks": "inside"
            },
            "colorscale": [
             [
              0,
              "rgb(20,44,66)"
             ],
             [
              1,
              "rgb(90,179,244)"
             ]
            ],
            "type": "heatmap"
           }
          ],
          "heatmapgl": [
           {
            "colorbar": {
             "outlinewidth": 0,
             "tickcolor": "rgb(237,237,237)",
             "ticklen": 6,
             "ticks": "inside"
            },
            "colorscale": [
             [
              0,
              "rgb(20,44,66)"
             ],
             [
              1,
              "rgb(90,179,244)"
             ]
            ],
            "type": "heatmapgl"
           }
          ],
          "histogram": [
           {
            "marker": {
             "pattern": {
              "fillmode": "overlay",
              "size": 10,
              "solidity": 0.2
             }
            },
            "type": "histogram"
           }
          ],
          "histogram2d": [
           {
            "colorbar": {
             "outlinewidth": 0,
             "tickcolor": "rgb(237,237,237)",
             "ticklen": 6,
             "ticks": "inside"
            },
            "colorscale": [
             [
              0,
              "rgb(20,44,66)"
             ],
             [
              1,
              "rgb(90,179,244)"
             ]
            ],
            "type": "histogram2d"
           }
          ],
          "histogram2dcontour": [
           {
            "colorbar": {
             "outlinewidth": 0,
             "tickcolor": "rgb(237,237,237)",
             "ticklen": 6,
             "ticks": "inside"
            },
            "colorscale": [
             [
              0,
              "rgb(20,44,66)"
             ],
             [
              1,
              "rgb(90,179,244)"
             ]
            ],
            "type": "histogram2dcontour"
           }
          ],
          "mesh3d": [
           {
            "colorbar": {
             "outlinewidth": 0,
             "tickcolor": "rgb(237,237,237)",
             "ticklen": 6,
             "ticks": "inside"
            },
            "type": "mesh3d"
           }
          ],
          "parcoords": [
           {
            "line": {
             "colorbar": {
              "outlinewidth": 0,
              "tickcolor": "rgb(237,237,237)",
              "ticklen": 6,
              "ticks": "inside"
             }
            },
            "type": "parcoords"
           }
          ],
          "pie": [
           {
            "automargin": true,
            "type": "pie"
           }
          ],
          "scatter": [
           {
            "fillpattern": {
             "fillmode": "overlay",
             "size": 10,
             "solidity": 0.2
            },
            "type": "scatter"
           }
          ],
          "scatter3d": [
           {
            "line": {
             "colorbar": {
              "outlinewidth": 0,
              "tickcolor": "rgb(237,237,237)",
              "ticklen": 6,
              "ticks": "inside"
             }
            },
            "marker": {
             "colorbar": {
              "outlinewidth": 0,
              "tickcolor": "rgb(237,237,237)",
              "ticklen": 6,
              "ticks": "inside"
             }
            },
            "type": "scatter3d"
           }
          ],
          "scattercarpet": [
           {
            "marker": {
             "colorbar": {
              "outlinewidth": 0,
              "tickcolor": "rgb(237,237,237)",
              "ticklen": 6,
              "ticks": "inside"
             }
            },
            "type": "scattercarpet"
           }
          ],
          "scattergeo": [
           {
            "marker": {
             "colorbar": {
              "outlinewidth": 0,
              "tickcolor": "rgb(237,237,237)",
              "ticklen": 6,
              "ticks": "inside"
             }
            },
            "type": "scattergeo"
           }
          ],
          "scattergl": [
           {
            "marker": {
             "colorbar": {
              "outlinewidth": 0,
              "tickcolor": "rgb(237,237,237)",
              "ticklen": 6,
              "ticks": "inside"
             }
            },
            "type": "scattergl"
           }
          ],
          "scattermapbox": [
           {
            "marker": {
             "colorbar": {
              "outlinewidth": 0,
              "tickcolor": "rgb(237,237,237)",
              "ticklen": 6,
              "ticks": "inside"
             }
            },
            "type": "scattermapbox"
           }
          ],
          "scatterpolar": [
           {
            "marker": {
             "colorbar": {
              "outlinewidth": 0,
              "tickcolor": "rgb(237,237,237)",
              "ticklen": 6,
              "ticks": "inside"
             }
            },
            "type": "scatterpolar"
           }
          ],
          "scatterpolargl": [
           {
            "marker": {
             "colorbar": {
              "outlinewidth": 0,
              "tickcolor": "rgb(237,237,237)",
              "ticklen": 6,
              "ticks": "inside"
             }
            },
            "type": "scatterpolargl"
           }
          ],
          "scatterternary": [
           {
            "marker": {
             "colorbar": {
              "outlinewidth": 0,
              "tickcolor": "rgb(237,237,237)",
              "ticklen": 6,
              "ticks": "inside"
             }
            },
            "type": "scatterternary"
           }
          ],
          "surface": [
           {
            "colorbar": {
             "outlinewidth": 0,
             "tickcolor": "rgb(237,237,237)",
             "ticklen": 6,
             "ticks": "inside"
            },
            "colorscale": [
             [
              0,
              "rgb(20,44,66)"
             ],
             [
              1,
              "rgb(90,179,244)"
             ]
            ],
            "type": "surface"
           }
          ],
          "table": [
           {
            "cells": {
             "fill": {
              "color": "rgb(237,237,237)"
             },
             "line": {
              "color": "white"
             }
            },
            "header": {
             "fill": {
              "color": "rgb(217,217,217)"
             },
             "line": {
              "color": "white"
             }
            },
            "type": "table"
           }
          ]
         },
         "layout": {
          "annotationdefaults": {
           "arrowhead": 0,
           "arrowwidth": 1
          },
          "autotypenumbers": "strict",
          "coloraxis": {
           "colorbar": {
            "outlinewidth": 0,
            "tickcolor": "rgb(237,237,237)",
            "ticklen": 6,
            "ticks": "inside"
           }
          },
          "colorscale": {
           "sequential": [
            [
             0,
             "rgb(20,44,66)"
            ],
            [
             1,
             "rgb(90,179,244)"
            ]
           ],
           "sequentialminus": [
            [
             0,
             "rgb(20,44,66)"
            ],
            [
             1,
             "rgb(90,179,244)"
            ]
           ]
          },
          "colorway": [
           "#F8766D",
           "#A3A500",
           "#00BF7D",
           "#00B0F6",
           "#E76BF3"
          ],
          "font": {
           "color": "rgb(51,51,51)"
          },
          "geo": {
           "bgcolor": "white",
           "lakecolor": "white",
           "landcolor": "rgb(237,237,237)",
           "showlakes": true,
           "showland": true,
           "subunitcolor": "white"
          },
          "hoverlabel": {
           "align": "left"
          },
          "hovermode": "closest",
          "paper_bgcolor": "white",
          "plot_bgcolor": "rgb(237,237,237)",
          "polar": {
           "angularaxis": {
            "gridcolor": "white",
            "linecolor": "white",
            "showgrid": true,
            "tickcolor": "rgb(51,51,51)",
            "ticks": "outside"
           },
           "bgcolor": "rgb(237,237,237)",
           "radialaxis": {
            "gridcolor": "white",
            "linecolor": "white",
            "showgrid": true,
            "tickcolor": "rgb(51,51,51)",
            "ticks": "outside"
           }
          },
          "scene": {
           "xaxis": {
            "backgroundcolor": "rgb(237,237,237)",
            "gridcolor": "white",
            "gridwidth": 2,
            "linecolor": "white",
            "showbackground": true,
            "showgrid": true,
            "tickcolor": "rgb(51,51,51)",
            "ticks": "outside",
            "zerolinecolor": "white"
           },
           "yaxis": {
            "backgroundcolor": "rgb(237,237,237)",
            "gridcolor": "white",
            "gridwidth": 2,
            "linecolor": "white",
            "showbackground": true,
            "showgrid": true,
            "tickcolor": "rgb(51,51,51)",
            "ticks": "outside",
            "zerolinecolor": "white"
           },
           "zaxis": {
            "backgroundcolor": "rgb(237,237,237)",
            "gridcolor": "white",
            "gridwidth": 2,
            "linecolor": "white",
            "showbackground": true,
            "showgrid": true,
            "tickcolor": "rgb(51,51,51)",
            "ticks": "outside",
            "zerolinecolor": "white"
           }
          },
          "shapedefaults": {
           "fillcolor": "black",
           "line": {
            "width": 0
           },
           "opacity": 0.3
          },
          "ternary": {
           "aaxis": {
            "gridcolor": "white",
            "linecolor": "white",
            "showgrid": true,
            "tickcolor": "rgb(51,51,51)",
            "ticks": "outside"
           },
           "baxis": {
            "gridcolor": "white",
            "linecolor": "white",
            "showgrid": true,
            "tickcolor": "rgb(51,51,51)",
            "ticks": "outside"
           },
           "bgcolor": "rgb(237,237,237)",
           "caxis": {
            "gridcolor": "white",
            "linecolor": "white",
            "showgrid": true,
            "tickcolor": "rgb(51,51,51)",
            "ticks": "outside"
           }
          },
          "xaxis": {
           "automargin": true,
           "gridcolor": "white",
           "linecolor": "white",
           "showgrid": true,
           "tickcolor": "rgb(51,51,51)",
           "ticks": "outside",
           "title": {
            "standoff": 15
           },
           "zerolinecolor": "white"
          },
          "yaxis": {
           "automargin": true,
           "gridcolor": "white",
           "linecolor": "white",
           "showgrid": true,
           "tickcolor": "rgb(51,51,51)",
           "ticks": "outside",
           "title": {
            "standoff": 15
           },
           "zerolinecolor": "white"
          }
         }
        },
        "title": {
         "text": "Just small communities comparison between std_4K_10TF, norm3_4K_10TF, beta_4K_10TF"
        },
        "xaxis": {
         "showgrid": false,
         "visible": false,
         "zeroline": false
        },
        "yaxis": {
         "showgrid": false,
         "visible": false,
         "zeroline": false
        }
       }
      }
     },
     "metadata": {},
     "output_type": "display_data"
    }
   ],
   "source": [
    "community_sizes = test[\"norm3_4K_10TF\"].value_counts()\n",
    "small_coms = community_sizes[community_sizes < 100].index.values\n",
    "small_coms = test[test[\"norm3_4K_10TF\"].isin(small_coms)]\n",
    "# dmy_df = test.copy(deep=True)\n",
    "# dmy_df.loc[~dmy_df[\"norm3_4K_10TF\"].isin(small_coms), \"norm3_4K_10TF\"] = -1\n",
    "\n",
    "meta = sky.main(\n",
    "    small_coms,\n",
    "    reorder_cols=reoder_cols,\n",
    "    title=\"Just small communities comparison between \" + \", \".join(reoder_cols),\n",
    ")"
   ]
  }
 ],
 "metadata": {
  "kernelspec": {
   "display_name": "iNet",
   "language": "python",
   "name": "python3"
  },
  "language_info": {
   "codemirror_mode": {
    "name": "ipython",
    "version": 3
   },
   "file_extension": ".py",
   "mimetype": "text/x-python",
   "name": "python",
   "nbconvert_exporter": "python",
   "pygments_lexer": "ipython3",
   "version": "3.9.13"
  },
  "orig_nbformat": 4
 },
 "nbformat": 4,
 "nbformat_minor": 2
}
