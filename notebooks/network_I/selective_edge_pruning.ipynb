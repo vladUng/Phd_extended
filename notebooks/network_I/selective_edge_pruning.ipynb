{
 "cells": [
  {
   "cell_type": "markdown",
   "metadata": {},
   "source": [
    "# Motivation\n",
    "\n",
    "This is a clean version of the experiments I performed for the CN Poster and Extended abstract. Some relatable notebooks are:\n",
    "\n",
    "* **SBM_h42_TF_network_effects** - where i am looking at selective edge pruning\n",
    "* **SBM_allHelathy_gc42** - where i'm analysing the all_healthy data\n",
    "\n",
    "This is a modified version of the notebook CN_SBM_allHealty.ipynb from iNET repository."
   ]
  },
  {
   "cell_type": "markdown",
   "metadata": {},
   "source": [
    "# Init"
   ]
  },
  {
   "cell_type": "code",
   "execution_count": 1,
   "metadata": {},
   "outputs": [
    {
     "name": "stdout",
     "output_type": "stream",
     "text": [
      "The autoreload extension is already loaded. To reload it, use:\n",
      "  %reload_ext autoreload\n"
     ]
    }
   ],
   "source": [
    "%load_ext autoreload\n",
    "import pandas as pd\n",
    "import numpy as np\n",
    "import os\n",
    "import sys\n",
    "import igraph as ig\n",
    "\n",
    "import plotly.express as px\n",
    "\n",
    "\n",
    "import multiprocess as mp\n",
    "\n",
    "\n",
    "# own libraries\n",
    "SCRIPT_DIR = os.path.dirname(os.path.abspath(\"pcgna_processing.py\"))\n",
    "sys.path.append(os.path.dirname(SCRIPT_DIR))\n",
    "sys.path.append('/Users/vlad/Documents/Code/York/iNet_v2/src/')\n",
    "\n",
    "from NetworkAnalysis.ExperimentSet import ExperimentSet\n",
    "from NetworkAnalysis import GraphHelper as gh\n",
    "from NetworkAnalysis.utilities import sankey_consensus_plot as sky\n",
    "from NetworkAnalysis.utilities.helpers import save_fig\n",
    "from NetworkAnalysis.utilities.helpers import save_fig, survival_plot, survival_comp\n",
    "from NetworkAnalysis.GraphToolExp import GraphToolExperiment as GtExp\n",
    "sys.path.append(os.path.dirname(\"../../src\"))\n",
    "# Gsea libraries\n",
    "\n",
    "import graph_tool.all as gt\n",
    "\n",
    "# matplotlib.use(\"gtk3agg\")\n",
    "\n",
    "# %matplotlib inline\n",
    "import gseapy as gp\n",
    "\n",
    "pool = mp.Pool(mp.cpu_count())"
   ]
  },
  {
   "cell_type": "code",
   "execution_count": 45,
   "metadata": {},
   "outputs": [],
   "source": [
    "results_path = \"../../results/exp/\"\n",
    "data_base = \"../../data/\"\n",
    "base_path = \"../../results/\"\n",
    "exp_folder_tumour = \"network_I/tum/\" # \"/integration_v2.1/ - path from iNET\n",
    "exp_folder_h42 = \"network_I/healthy42/\"\n",
    "exp_folder_h42_ctrl = \"network_I/healthyControls/\"\n",
    "\n",
    "figures_path = \"selective_edge_pruning/\"\n",
    "\n",
    "vu_output = pd.read_csv(f\"{data_base}/metadata/VU_clustering_v3.tsv\", sep=\"\\t\", index_col=\"Sample\")\n",
    "\n",
    "tcga_mutations_df = pd.read_csv(f\"{data_base}/tumour/mutations_tcga.csv\")\n",
    "tcga_mutations_df = tcga_mutations_df[tcga_mutations_df[\"count\"] != 0].set_index(\"gene\")\n",
    "\n",
    "all_tum_tpms = pd.read_csv(f\"{data_base}/tumour/TPMs_selected_genes_v3_13k_gc42.tsv\", sep=\"\\t\", index_col=\"genes\")\n",
    "\n",
    "# tf list\n",
    "tf_path = f\"{data_base}/metadata/TF_names_v_1.01.txt\"\n",
    "if os.path.exists(tf_path):\n",
    "    tf_list = np.genfromtxt(fname=tf_path, delimiter=\"\\t\", skip_header=1, dtype=\"str\")"
   ]
  },
  {
   "cell_type": "markdown",
   "metadata": {},
   "source": [
    "## Load experiment sets"
   ]
  },
  {
   "cell_type": "code",
   "execution_count": 3,
   "metadata": {},
   "outputs": [
    {
     "name": "stdout",
     "output_type": "stream",
     "text": [
      "##### Experiment labels:  dict_keys(['standard_5K_3TF', 'norm3_5K_3TF', 'beta_5K_3TF', 'standard_5K_6TF', 'standard_5K_10TF', 'norm3_5K_6TF', 'beta_5K_6TF', 'norm3_5K_10TF', 'beta_5K_10TF', 'standard_5K_4TF', 'standard_5K_7TF', 'standard_5K_8TF', 'standard_5K_5TF', 'standard_5K_9TF', 'norm3_5K_4TF', 'beta_5K_4TF', 'standard_5K_15TF', 'standard_5K_20TF', 'standard_5K_30TF', 'standard_5K_25TF', 'standard_5K_40TF', 'standard_5K_35TF', 'standard_5K_45TF', 'standard_5K_50TF', 'standard_5K_12TF', 'standard_5K_14TF', 'standard_5K_11TF', 'standard_5K_13TF'])\n",
      "### Loaded standard_int_healthy42_5K_3TF\n",
      "### Loaded standard_int_healthy42_5K_6TF\n",
      "### Loaded standard_int_healthy42_5K_10TF\n"
     ]
    }
   ],
   "source": [
    "%autoreload 2\n",
    "all_h = ExperimentSet(\"allHealthy42\", base_path, exp_folder_h42, tcga_mutations_df, sel_sets = [\"5K\"], rel_path=\"../\")\n",
    "all_h.export_to_gephi(save=False)\n",
    "\n",
    "tf_range = [3, 6, 10]\n",
    "exps, entropy = GtExp.load_sbm_exps(all_h, name=\"standard_5K\", exp_type=\"h42_700_degreeCor\", tf_range=tf_range)"
   ]
  },
  {
   "cell_type": "code",
   "execution_count": 4,
   "metadata": {},
   "outputs": [],
   "source": [
    "%%capture\n",
    "folders = next(os.walk(base_path + exp_folder_h42_ctrl), (None, None, []))[1]\n",
    "args, h_ctrls = [], {}\n",
    "for folder in folders:\n",
    "    hCtrl_path = \"{}/{}/\".format(exp_folder_h42_ctrl, folder)\n",
    "    idx = int(folder.split(\"hCtrl\")[-1])\n",
    "    h_ctrls[idx] = ExperimentSet(\"allHealthy42\", base_path, hCtrl_path, tcga_mutations_df, sel_sets=[\"5K\"], rel_path=\"../\")\n",
    "    h_ctrls[idx].export_to_gephi(save=False)"
   ]
  },
  {
   "cell_type": "markdown",
   "metadata": {},
   "source": [
    "# Selective edge pruning"
   ]
  },
  {
   "cell_type": "code",
   "execution_count": 5,
   "metadata": {},
   "outputs": [
    {
     "name": "stdout",
     "output_type": "stream",
     "text": [
      "### Loaded standard_int_healthy42_5K_3TF\n",
      "### Loaded standard_int_healthy42_5K_4TF\n",
      "### Loaded standard_int_healthy42_5K_5TF\n",
      "### Loaded standard_int_healthy42_5K_6TF\n",
      "### Loaded standard_int_healthy42_5K_7TF\n",
      "### Loaded standard_int_healthy42_5K_8TF\n",
      "### Loaded standard_int_healthy42_5K_9TF\n",
      "### Loaded standard_int_healthy42_5K_10TF\n",
      "### Loaded standard_int_healthy42_5K_11TF\n",
      "### Loaded standard_int_healthy42_5K_12TF\n",
      "### Loaded standard_int_healthy42_5K_13TF\n",
      "### Loaded standard_int_healthy42_5K_14TF\n",
      "### Loaded standard_int_healthy42_5K_15TF\n"
     ]
    }
   ],
   "source": [
    "tf_range = list(range(3, 16, 1))\n",
    "h_exps, h_entropy = GtExp.load_sbm_exps(all_h, name=\"standard_5K\", exp_type=\"h42_700_degreeCor\", tf_range=tf_range)\n",
    "h_entropy[\"Type\"] = \"Experiment\""
   ]
  },
  {
   "cell_type": "code",
   "execution_count": 6,
   "metadata": {},
   "outputs": [],
   "source": [
    "%%capture\n",
    "ctrl_exps, cmb_df = {}, pd.DataFrame()\n",
    "for key in range(1, 11, 1):\n",
    "    exps, entropy = GtExp.load_sbm_exps(h_ctrls[key], name=\"standard_5K\", exp_type=\"sbm_ctrl42_standard_5K\", tf_range=tf_range)\n",
    "    entropy[\"Type\"] = \"hCtrl{}\".format(key)\n",
    "    cmb_df = pd.concat([cmb_df, entropy], axis=0)\n",
    "    ctrl_exps[key] = {\"entropy\": entropy, \"exps\": exps}\n",
    "\n",
    "cmb_df = pd.concat([cmb_df, h_entropy], axis=0)\n",
    "cmb_df[\"Entropy_norm\"] = (cmb_df[\"Entropy\"] - cmb_df[\"Entropy\"].min()) / (cmb_df[\"Entropy\"].max() - cmb_df[\"Entropy\"].min())\n",
    "cmb_df[\"Entropy_log10\"] = np.log10(cmb_df[\"Entropy\"])\n"
   ]
  },
  {
   "cell_type": "code",
   "execution_count": 7,
   "metadata": {},
   "outputs": [],
   "source": [
    "#### Find the network with top model\n",
    "top_exp, color_map = [], {}\n",
    "for exp in cmb_df[\"Type\"].unique():\n",
    "    sel_df = cmb_df[cmb_df[\"Type\"] == exp]\n",
    "    for tf in sel_df[\"TF\"].unique():\n",
    "        tst_df = sel_df[sel_df[\"TF\"] == tf].sort_values(by=\"Entropy\", ascending=False).values[0]\n",
    "        top_exp.append(tst_df)\n",
    "\n",
    "    color_map[exp] = px.colors.qualitative.Plotly[0]\n",
    "    if exp == \"Experiment\":\n",
    "        color_map[exp] = px.colors.qualitative.Plotly[2]\n",
    "\n",
    "top_exp = pd.DataFrame(top_exp, columns=[\"Entropy\", \"TF\", \"Type\", \"Entropy_norm\", \"Entropy_log\"])\n",
    "\n",
    "#### Compute stats\n",
    "stats_vals = []\n",
    "for tf in top_exp[\"TF\"].unique():\n",
    "    sel_df = top_exp[top_exp[\"TF\"] == tf]\n",
    "    sel_df_ctrl = sel_df[sel_df[\"Type\"].str.contains(\"hCtrl\")][\"Entropy\"]\n",
    "    sel_df_exp = sel_df[~sel_df[\"Type\"].str.contains(\"hCtrl\")][\"Entropy\"].values[0]\n",
    "    stats_vals.append((sel_df_ctrl.median(), sel_df_ctrl.mean(), sel_df_ctrl.std(), tf, \"Control\"))\n",
    "    stats_vals.append((sel_df_exp, sel_df_exp, 0, tf, \"Experiment\"))"
   ]
  },
  {
   "cell_type": "code",
   "execution_count": 8,
   "metadata": {},
   "outputs": [
    {
     "data": {
      "application/vnd.plotly.v1+json": {
       "config": {
        "plotlyServerURL": "https://plot.ly"
       },
       "data": [
        {
         "error_y": {
          "array": [
           61.861211740739996,
           139.95682828188572,
           58.880840872634096,
           152.48914059338185,
           158.5817724511006,
           115.43848391665304,
           210.17177543300323,
           177.18880129625916,
           198.60112304166285,
           246.98875299018525,
           276.06184411657426,
           248.75588605411852,
           350.4041066777551
          ],
          "width": 8
         },
         "hovertemplate": "Type=Control<br>TF=%{x}<br>Mean_Ent=%{y}<extra></extra>",
         "legendgroup": "Control",
         "marker": {
          "color": "#DC3912",
          "size": 8,
          "symbol": "circle"
         },
         "mode": "markers",
         "name": "Control",
         "orientation": "v",
         "showlegend": true,
         "type": "scatter",
         "x": [
          "3",
          "4",
          "5",
          "6",
          "7",
          "8",
          "9",
          "10",
          "11",
          "12",
          "13",
          "14",
          "15"
         ],
         "xaxis": "x",
         "y": [
          105668.76713829585,
          107521.15761352373,
          109332.7137971782,
          111260.61020391123,
          113092.73712093986,
          115017.88039265736,
          116874.72441903614,
          118726.34392474363,
          120567.75541438458,
          122473.8519902431,
          124408.82809829907,
          126336.80467468465,
          128272.64212742788
         ],
         "yaxis": "y"
        },
        {
         "error_y": {
          "array": [
           0,
           0,
           0,
           0,
           0,
           0,
           0,
           0,
           0,
           0,
           0,
           0,
           0
          ]
         },
         "hovertemplate": "Type=Experiment<br>TF=%{x}<br>Mean_Ent=%{y}<extra></extra>",
         "legendgroup": "Experiment",
         "marker": {
          "color": "#3366CC",
          "size": 8,
          "symbol": "circle"
         },
         "mode": "markers",
         "name": "Experiment",
         "orientation": "v",
         "showlegend": true,
         "type": "scatter",
         "x": [
          "3",
          "4",
          "5",
          "6",
          "7",
          "8",
          "9",
          "10",
          "11",
          "12",
          "13",
          "14",
          "15"
         ],
         "xaxis": "x",
         "y": [
          105713.81040101593,
          107344.92392942715,
          109031.26468825985,
          110969.64641420697,
          112709.81713034317,
          114534.47152883603,
          116511.82780350995,
          118030.90481644036,
          119875.4274670811,
          121607.65041865478,
          123243.43853873952,
          124995.74684606891,
          126727.03481215589
         ],
         "yaxis": "y"
        }
       ],
       "layout": {
        "font": {
         "size": 16
        },
        "height": 600,
        "legend": {
         "bgcolor": "rgba(0,0,0,0)",
         "font": {
          "color": "#003366",
          "size": 16
         },
         "orientation": "h",
         "title": {
          "text": "SBM"
         },
         "tracegroupgap": 0,
         "x": 0.5,
         "xanchor": "center",
         "y": 0.87,
         "yanchor": "bottom"
        },
        "paper_bgcolor": "rgba(0,0,0,0)",
        "template": {
         "data": {
          "bar": [
           {
            "error_x": {
             "color": "rgb(51,51,51)"
            },
            "error_y": {
             "color": "rgb(51,51,51)"
            },
            "marker": {
             "line": {
              "color": "rgb(237,237,237)",
              "width": 0.5
             },
             "pattern": {
              "fillmode": "overlay",
              "size": 10,
              "solidity": 0.2
             }
            },
            "type": "bar"
           }
          ],
          "barpolar": [
           {
            "marker": {
             "line": {
              "color": "rgb(237,237,237)",
              "width": 0.5
             },
             "pattern": {
              "fillmode": "overlay",
              "size": 10,
              "solidity": 0.2
             }
            },
            "type": "barpolar"
           }
          ],
          "carpet": [
           {
            "aaxis": {
             "endlinecolor": "rgb(51,51,51)",
             "gridcolor": "white",
             "linecolor": "white",
             "minorgridcolor": "white",
             "startlinecolor": "rgb(51,51,51)"
            },
            "baxis": {
             "endlinecolor": "rgb(51,51,51)",
             "gridcolor": "white",
             "linecolor": "white",
             "minorgridcolor": "white",
             "startlinecolor": "rgb(51,51,51)"
            },
            "type": "carpet"
           }
          ],
          "choropleth": [
           {
            "colorbar": {
             "outlinewidth": 0,
             "tickcolor": "rgb(237,237,237)",
             "ticklen": 6,
             "ticks": "inside"
            },
            "type": "choropleth"
           }
          ],
          "contour": [
           {
            "colorbar": {
             "outlinewidth": 0,
             "tickcolor": "rgb(237,237,237)",
             "ticklen": 6,
             "ticks": "inside"
            },
            "colorscale": [
             [
              0,
              "rgb(20,44,66)"
             ],
             [
              1,
              "rgb(90,179,244)"
             ]
            ],
            "type": "contour"
           }
          ],
          "contourcarpet": [
           {
            "colorbar": {
             "outlinewidth": 0,
             "tickcolor": "rgb(237,237,237)",
             "ticklen": 6,
             "ticks": "inside"
            },
            "type": "contourcarpet"
           }
          ],
          "heatmap": [
           {
            "colorbar": {
             "outlinewidth": 0,
             "tickcolor": "rgb(237,237,237)",
             "ticklen": 6,
             "ticks": "inside"
            },
            "colorscale": [
             [
              0,
              "rgb(20,44,66)"
             ],
             [
              1,
              "rgb(90,179,244)"
             ]
            ],
            "type": "heatmap"
           }
          ],
          "heatmapgl": [
           {
            "colorbar": {
             "outlinewidth": 0,
             "tickcolor": "rgb(237,237,237)",
             "ticklen": 6,
             "ticks": "inside"
            },
            "colorscale": [
             [
              0,
              "rgb(20,44,66)"
             ],
             [
              1,
              "rgb(90,179,244)"
             ]
            ],
            "type": "heatmapgl"
           }
          ],
          "histogram": [
           {
            "marker": {
             "pattern": {
              "fillmode": "overlay",
              "size": 10,
              "solidity": 0.2
             }
            },
            "type": "histogram"
           }
          ],
          "histogram2d": [
           {
            "colorbar": {
             "outlinewidth": 0,
             "tickcolor": "rgb(237,237,237)",
             "ticklen": 6,
             "ticks": "inside"
            },
            "colorscale": [
             [
              0,
              "rgb(20,44,66)"
             ],
             [
              1,
              "rgb(90,179,244)"
             ]
            ],
            "type": "histogram2d"
           }
          ],
          "histogram2dcontour": [
           {
            "colorbar": {
             "outlinewidth": 0,
             "tickcolor": "rgb(237,237,237)",
             "ticklen": 6,
             "ticks": "inside"
            },
            "colorscale": [
             [
              0,
              "rgb(20,44,66)"
             ],
             [
              1,
              "rgb(90,179,244)"
             ]
            ],
            "type": "histogram2dcontour"
           }
          ],
          "mesh3d": [
           {
            "colorbar": {
             "outlinewidth": 0,
             "tickcolor": "rgb(237,237,237)",
             "ticklen": 6,
             "ticks": "inside"
            },
            "type": "mesh3d"
           }
          ],
          "parcoords": [
           {
            "line": {
             "colorbar": {
              "outlinewidth": 0,
              "tickcolor": "rgb(237,237,237)",
              "ticklen": 6,
              "ticks": "inside"
             }
            },
            "type": "parcoords"
           }
          ],
          "pie": [
           {
            "automargin": true,
            "type": "pie"
           }
          ],
          "scatter": [
           {
            "fillpattern": {
             "fillmode": "overlay",
             "size": 10,
             "solidity": 0.2
            },
            "type": "scatter"
           }
          ],
          "scatter3d": [
           {
            "line": {
             "colorbar": {
              "outlinewidth": 0,
              "tickcolor": "rgb(237,237,237)",
              "ticklen": 6,
              "ticks": "inside"
             }
            },
            "marker": {
             "colorbar": {
              "outlinewidth": 0,
              "tickcolor": "rgb(237,237,237)",
              "ticklen": 6,
              "ticks": "inside"
             }
            },
            "type": "scatter3d"
           }
          ],
          "scattercarpet": [
           {
            "marker": {
             "colorbar": {
              "outlinewidth": 0,
              "tickcolor": "rgb(237,237,237)",
              "ticklen": 6,
              "ticks": "inside"
             }
            },
            "type": "scattercarpet"
           }
          ],
          "scattergeo": [
           {
            "marker": {
             "colorbar": {
              "outlinewidth": 0,
              "tickcolor": "rgb(237,237,237)",
              "ticklen": 6,
              "ticks": "inside"
             }
            },
            "type": "scattergeo"
           }
          ],
          "scattergl": [
           {
            "marker": {
             "colorbar": {
              "outlinewidth": 0,
              "tickcolor": "rgb(237,237,237)",
              "ticklen": 6,
              "ticks": "inside"
             }
            },
            "type": "scattergl"
           }
          ],
          "scattermapbox": [
           {
            "marker": {
             "colorbar": {
              "outlinewidth": 0,
              "tickcolor": "rgb(237,237,237)",
              "ticklen": 6,
              "ticks": "inside"
             }
            },
            "type": "scattermapbox"
           }
          ],
          "scatterpolar": [
           {
            "marker": {
             "colorbar": {
              "outlinewidth": 0,
              "tickcolor": "rgb(237,237,237)",
              "ticklen": 6,
              "ticks": "inside"
             }
            },
            "type": "scatterpolar"
           }
          ],
          "scatterpolargl": [
           {
            "marker": {
             "colorbar": {
              "outlinewidth": 0,
              "tickcolor": "rgb(237,237,237)",
              "ticklen": 6,
              "ticks": "inside"
             }
            },
            "type": "scatterpolargl"
           }
          ],
          "scatterternary": [
           {
            "marker": {
             "colorbar": {
              "outlinewidth": 0,
              "tickcolor": "rgb(237,237,237)",
              "ticklen": 6,
              "ticks": "inside"
             }
            },
            "type": "scatterternary"
           }
          ],
          "surface": [
           {
            "colorbar": {
             "outlinewidth": 0,
             "tickcolor": "rgb(237,237,237)",
             "ticklen": 6,
             "ticks": "inside"
            },
            "colorscale": [
             [
              0,
              "rgb(20,44,66)"
             ],
             [
              1,
              "rgb(90,179,244)"
             ]
            ],
            "type": "surface"
           }
          ],
          "table": [
           {
            "cells": {
             "fill": {
              "color": "rgb(237,237,237)"
             },
             "line": {
              "color": "white"
             }
            },
            "header": {
             "fill": {
              "color": "rgb(217,217,217)"
             },
             "line": {
              "color": "white"
             }
            },
            "type": "table"
           }
          ]
         },
         "layout": {
          "annotationdefaults": {
           "arrowhead": 0,
           "arrowwidth": 1
          },
          "autotypenumbers": "strict",
          "coloraxis": {
           "colorbar": {
            "outlinewidth": 0,
            "tickcolor": "rgb(237,237,237)",
            "ticklen": 6,
            "ticks": "inside"
           }
          },
          "colorscale": {
           "sequential": [
            [
             0,
             "rgb(20,44,66)"
            ],
            [
             1,
             "rgb(90,179,244)"
            ]
           ],
           "sequentialminus": [
            [
             0,
             "rgb(20,44,66)"
            ],
            [
             1,
             "rgb(90,179,244)"
            ]
           ]
          },
          "colorway": [
           "#F8766D",
           "#A3A500",
           "#00BF7D",
           "#00B0F6",
           "#E76BF3"
          ],
          "font": {
           "color": "rgb(51,51,51)"
          },
          "geo": {
           "bgcolor": "white",
           "lakecolor": "white",
           "landcolor": "rgb(237,237,237)",
           "showlakes": true,
           "showland": true,
           "subunitcolor": "white"
          },
          "hoverlabel": {
           "align": "left"
          },
          "hovermode": "closest",
          "paper_bgcolor": "white",
          "plot_bgcolor": "rgb(237,237,237)",
          "polar": {
           "angularaxis": {
            "gridcolor": "white",
            "linecolor": "white",
            "showgrid": true,
            "tickcolor": "rgb(51,51,51)",
            "ticks": "outside"
           },
           "bgcolor": "rgb(237,237,237)",
           "radialaxis": {
            "gridcolor": "white",
            "linecolor": "white",
            "showgrid": true,
            "tickcolor": "rgb(51,51,51)",
            "ticks": "outside"
           }
          },
          "scene": {
           "xaxis": {
            "backgroundcolor": "rgb(237,237,237)",
            "gridcolor": "white",
            "gridwidth": 2,
            "linecolor": "white",
            "showbackground": true,
            "showgrid": true,
            "tickcolor": "rgb(51,51,51)",
            "ticks": "outside",
            "zerolinecolor": "white"
           },
           "yaxis": {
            "backgroundcolor": "rgb(237,237,237)",
            "gridcolor": "white",
            "gridwidth": 2,
            "linecolor": "white",
            "showbackground": true,
            "showgrid": true,
            "tickcolor": "rgb(51,51,51)",
            "ticks": "outside",
            "zerolinecolor": "white"
           },
           "zaxis": {
            "backgroundcolor": "rgb(237,237,237)",
            "gridcolor": "white",
            "gridwidth": 2,
            "linecolor": "white",
            "showbackground": true,
            "showgrid": true,
            "tickcolor": "rgb(51,51,51)",
            "ticks": "outside",
            "zerolinecolor": "white"
           }
          },
          "shapedefaults": {
           "fillcolor": "black",
           "line": {
            "width": 0
           },
           "opacity": 0.3
          },
          "ternary": {
           "aaxis": {
            "gridcolor": "white",
            "linecolor": "white",
            "showgrid": true,
            "tickcolor": "rgb(51,51,51)",
            "ticks": "outside"
           },
           "baxis": {
            "gridcolor": "white",
            "linecolor": "white",
            "showgrid": true,
            "tickcolor": "rgb(51,51,51)",
            "ticks": "outside"
           },
           "bgcolor": "rgb(237,237,237)",
           "caxis": {
            "gridcolor": "white",
            "linecolor": "white",
            "showgrid": true,
            "tickcolor": "rgb(51,51,51)",
            "ticks": "outside"
           }
          },
          "xaxis": {
           "automargin": true,
           "gridcolor": "white",
           "linecolor": "white",
           "showgrid": true,
           "tickcolor": "rgb(51,51,51)",
           "ticks": "outside",
           "title": {
            "standoff": 15
           },
           "zerolinecolor": "white"
          },
          "yaxis": {
           "automargin": true,
           "gridcolor": "white",
           "linecolor": "white",
           "showgrid": true,
           "tickcolor": "rgb(51,51,51)",
           "ticks": "outside",
           "title": {
            "standoff": 15
           },
           "zerolinecolor": "white"
          }
         }
        },
        "title": {
         "text": ""
        },
        "xaxis": {
         "anchor": "y",
         "domain": [
          0,
          1
         ],
         "tickfont": {
          "size": 16
         },
         "tickmode": "array",
         "tickvals": [
          3,
          4,
          5,
          6,
          7,
          8,
          9,
          10,
          11,
          12,
          13,
          14,
          15
         ],
         "title": {
          "text": "Minimum degree for selected genes"
         }
        },
        "yaxis": {
         "anchor": "x",
         "domain": [
          0,
          1
         ],
         "tickfont": {
          "size": 16
         },
         "title": {
          "text": "Entropy"
         }
        }
       }
      }
     },
     "metadata": {},
     "output_type": "display_data"
    }
   ],
   "source": [
    "top_df = pd.DataFrame(stats_vals, columns=[\"Median_Ent\", \"Mean_Ent\", \"Std_Ent\", \"TF\", \"Type\"])\n",
    "\n",
    "color_map = {\"Experiment\": px.colors.qualitative.G10[0], \"Control\": px.colors.qualitative.G10[1]}\n",
    "fig = px.scatter(\n",
    "    top_df,\n",
    "    y=\"Mean_Ent\",\n",
    "    x=\"TF\",\n",
    "    error_y=\"Std_Ent\",\n",
    "    color=\"Type\",\n",
    "    title=\"Entropy evolution TFs 3-15. Standard 5K\",\n",
    "    height=600,\n",
    "    color_discrete_map=color_map,\n",
    ")\n",
    "\n",
    "fig.update_layout(xaxis=dict(tickmode=\"array\", tickvals=list(range(3, 16, 1))))\n",
    "fig.update_layout(\n",
    "    legend=dict(\n",
    "        orientation=\"h\",\n",
    "        title=\"SBM\",\n",
    "        yanchor=\"bottom\",\n",
    "        y=0.87,\n",
    "        xanchor=\"center\",\n",
    "        x=0.5,\n",
    "        bgcolor=\"rgba(0,0,0,0)\",\n",
    "        font=dict(size=16, color=\"#003366\"),\n",
    "    ),\n",
    "    title=\"\",\n",
    "    template=\"ggplot2\",  # \"ggplot2\", \"plotly_white\"\n",
    "    paper_bgcolor=\"rgba(0,0,0,0)\",\n",
    "    # plot_bgcolor=\"rgba(0,0,0,0)\",\n",
    "    xaxis=dict(\n",
    "        tickfont=dict(size=16),\n",
    "        title=\"Minimum degree for selected genes\",\n",
    "    ),\n",
    "    yaxis=dict(\n",
    "        tickfont=dict(size=16),\n",
    "        title=\"Entropy\",\n",
    "    ),\n",
    "    font=dict(size=16),\n",
    ")\n",
    "fig.update_traces(marker_size=8)\n",
    "fig.update_traces(error_y=dict(width=8), selector=({\"name\": \"Control\"}))\n",
    "fig.show()\n",
    "save_fig(name=\"sbm_ent_sel_prun\", fig=fig, base_path=figures_path, width=1200, height=600)"
   ]
  },
  {
   "cell_type": "code",
   "execution_count": 9,
   "metadata": {},
   "outputs": [],
   "source": [
    "# Old figure with box plots\n",
    "if False:\n",
    "    fig = px.box(cmb_df, y=\"Entropy\", x=\"TF\", color=\"Type\", title=\"Entropy evolution TFs 3-15. Standard 5K\", height=600, color_discrete_map=color_map)\n",
    "\n",
    "    fig.update_layout(xaxis=dict(tickmode=\"linear\", tick0=3, dtick=1))\n",
    "    fig.update_layout(xaxis=dict(tickmode=\"array\", tickvals=list(range(3, 15, 1))))\n",
    "    fig.update_xaxes(tickfont=dict(size=14), title_font=dict(size=16))\n",
    "    fig.update_yaxes(tickfont=dict(size=14), title_font=dict(size=16))\n",
    "    fig.show()"
   ]
  },
  {
   "cell_type": "markdown",
   "metadata": {},
   "source": [
    "# Leiden and SBM comparisons \n",
    "\n",
    "## Modularity Score"
   ]
  },
  {
   "cell_type": "code",
   "execution_count": 10,
   "metadata": {},
   "outputs": [],
   "source": [
    "def prep_leiden(exp: ExperimentSet, label=\"Experiment\"):\n",
    "    leid_stats = exp.comb_leiden_scores()\n",
    "    leid_stats = leid_stats.loc[leid_stats[\"Modifier\"] == \"Standard\"]\n",
    "    leid_stats[\"Type\"] = label\n",
    "\n",
    "    sel_cols = [\"Leiden Rank\", \"ModularityScore\", \"ModuleNum\", \"AvgModSize\", \"Modifier\", \"Type\", \"TF\", \"AvgModuleNum\"]\n",
    "\n",
    "    return leid_stats[sel_cols]\n",
    "\n",
    "\n",
    "def tf_stats(ctrls_df: pd.DataFrame, exp_df: pd.DataFrame):\n",
    "    for tf in ctrls_df[\"TF\"].unique():\n",
    "        sel_df = ctrls_df[ctrls_df[\"TF\"] == tf]\n",
    "        sel_df_exp = exp_df[exp_df[\"TF\"] == tf]\n",
    "\n",
    "        r_field = {\"ModularityScore\": \"Mod\", \"AvgModuleNum\": \"ModNum\", \"AvgModSize\": \"ModSize\"}\n",
    "        for field in [\"ModularityScore\", \"AvgModuleNum\", \"AvgModSize\"]:\n",
    "            ctrls_df.loc[ctrls_df[\"TF\"] == tf, \"{}_median\".format(r_field[field])] = sel_df[field].median(axis=0)\n",
    "            ctrls_df.loc[ctrls_df[\"TF\"] == tf, \"{}_mean\".format(r_field[field])] = sel_df[field].mean(axis=0)\n",
    "            ctrls_df.loc[ctrls_df[\"TF\"] == tf, \"{}_std\".format(r_field[field])] = sel_df[field].std(axis=0)\n",
    "\n",
    "            exp_df.loc[exp_df[\"TF\"] == tf, \"{}_median\".format(r_field[field])] = sel_df_exp[field].median(axis=0)\n",
    "            exp_df.loc[exp_df[\"TF\"] == tf, \"{}_mean\".format(r_field[field])] = sel_df_exp[field].mean(axis=0)\n",
    "            exp_df.loc[exp_df[\"TF\"] == tf, \"{}_std\".format(r_field[field])] = sel_df_exp[field].std(axis=0)\n",
    "\n",
    "    ctrls_df[\"Type\"] = \"Control\"\n",
    "    comb_leiden = pd.concat([ctrls_df, exp_df], axis=0)\n",
    "    comb_leiden[\"TF\"] = comb_leiden[\"TF\"].astype(int)\n",
    "    comb_leiden = comb_leiden[comb_leiden[\"TF\"] <= 15]\n",
    "    comb_leiden.sort_values(by=\"TF\", ascending=True, inplace=True)\n",
    "    comb_leiden[\"TF\"] = comb_leiden[\"TF\"].astype(str)\n",
    "\n",
    "    return comb_leiden"
   ]
  },
  {
   "cell_type": "code",
   "execution_count": 11,
   "metadata": {},
   "outputs": [],
   "source": [
    "leid_h = prep_leiden(all_h, label=\"Experiment\")\n",
    "\n",
    "leid_ctrls = []\n",
    "for idx in range(1, 11, 1):\n",
    "    df = prep_leiden(h_ctrls[idx], label=\"hCtrl{}\".format(idx))\n",
    "    leid_ctrls.append(df)\n",
    "\n",
    "all_leid_ctrls = pd.concat(leid_ctrls, axis=0)\n",
    "top_leid_ctrls = all_leid_ctrls[all_leid_ctrls[\"Leiden Rank\"] == 0]"
   ]
  },
  {
   "cell_type": "code",
   "execution_count": 12,
   "metadata": {},
   "outputs": [
    {
     "data": {
      "application/vnd.plotly.v1+json": {
       "config": {
        "plotlyServerURL": "https://plot.ly"
       },
       "data": [
        {
         "error_y": {
          "array": [
           0.00015835073677706275,
           0.00015835073677706275,
           0.00015835073677706275,
           0.00015835073677706275,
           0.00015835073677706275,
           0.00015835073677706275,
           0.00015835073677706275,
           0.00015835073677706275,
           0.00015835073677706275,
           0.00015835073677706275,
           0.0004606085926428978,
           0.0004606085926428978,
           0.0004606085926428978,
           0.0004606085926428978,
           0.0004606085926428978,
           0.0004606085926428978,
           0.0004606085926428978,
           0.0004606085926428978,
           0.0004606085926428978,
           0.0004606085926428978,
           0.0005089219367270317,
           0.0005089219367270317,
           0.0005089219367270317,
           0.0005089219367270317,
           0.0005089219367270317,
           0.0005089219367270317,
           0.0005089219367270317,
           0.0005089219367270317,
           0.0005089219367270317,
           0.0005089219367270317,
           0.0008181501873112306,
           0.0008181501873112306,
           0.0008181501873112306,
           0.0008181501873112306,
           0.0008181501873112306,
           0.0008181501873112306,
           0.0008181501873112306,
           0.0008181501873112306,
           0.0008181501873112306,
           0.0008181501873112306,
           0.0011599270378197426,
           0.0011599270378197426,
           0.0011599270378197426,
           0.0011599270378197426,
           0.0011599270378197426,
           0.0011599270378197426,
           0.0011599270378197426,
           0.0011599270378197426,
           0.0011599270378197426,
           0.0011599270378197426,
           0.0012318134226348176,
           0.0012318134226348176,
           0.0012318134226348176,
           0.0012318134226348176,
           0.0012318134226348176,
           0.0012318134226348176,
           0.0012318134226348176,
           0.0012318134226348176,
           0.0012318134226348176,
           0.0012318134226348176,
           0.0016152774513518747,
           0.0016152774513518747,
           0.0016152774513518747,
           0.0016152774513518747,
           0.0016152774513518747,
           0.0016152774513518747,
           0.0016152774513518747,
           0.0016152774513518747,
           0.0016152774513518747,
           0.0016152774513518747,
           0.00148970281466249,
           0.00148970281466249,
           0.00148970281466249,
           0.00148970281466249,
           0.00148970281466249,
           0.00148970281466249,
           0.00148970281466249,
           0.00148970281466249,
           0.00148970281466249,
           0.00148970281466249,
           0.001595552858979097,
           0.001595552858979097,
           0.001595552858979097,
           0.001595552858979097,
           0.001595552858979097,
           0.001595552858979097,
           0.001595552858979097,
           0.001595552858979097,
           0.001595552858979097,
           0.001595552858979097,
           0.0019474410666567904,
           0.0019474410666567904,
           0.0019474410666567904,
           0.0019474410666567904,
           0.0019474410666567904,
           0.0019474410666567904,
           0.0019474410666567904,
           0.0019474410666567904,
           0.0019474410666567904,
           0.0019474410666567904,
           0.002222564457109165,
           0.002222564457109165,
           0.002222564457109165,
           0.002222564457109165,
           0.002222564457109165,
           0.002222564457109165,
           0.002222564457109165,
           0.002222564457109165,
           0.002222564457109165,
           0.002222564457109165,
           0.002286756875337568,
           0.002286756875337568,
           0.002286756875337568,
           0.002286756875337568,
           0.002286756875337568,
           0.002286756875337568,
           0.002286756875337568,
           0.002286756875337568,
           0.002286756875337568,
           0.002286756875337568,
           0.0027335053784582762,
           0.0027335053784582762,
           0.0027335053784582762,
           0.0027335053784582762,
           0.0027335053784582762,
           0.0027335053784582762,
           0.0027335053784582762,
           0.0027335053784582762,
           0.0027335053784582762,
           0.0027335053784582762
          ],
          "width": 5
         },
         "hovertemplate": "Type=Control<br>TF=%{x}<br>Mod_mean=%{y}<extra></extra>",
         "legendgroup": "Control",
         "line": {
          "color": "#DC3912",
          "dash": "solid",
          "width": 5
         },
         "marker": {
          "size": 12,
          "symbol": "circle"
         },
         "mode": "lines+markers",
         "name": "Control",
         "orientation": "v",
         "showlegend": true,
         "type": "scatter",
         "x": [
          "3",
          "3",
          "3",
          "3",
          "3",
          "3",
          "3",
          "3",
          "3",
          "3",
          "4",
          "4",
          "4",
          "4",
          "4",
          "4",
          "4",
          "4",
          "4",
          "4",
          "5",
          "5",
          "5",
          "5",
          "5",
          "5",
          "5",
          "5",
          "5",
          "5",
          "6",
          "6",
          "6",
          "6",
          "6",
          "6",
          "6",
          "6",
          "6",
          "6",
          "7",
          "7",
          "7",
          "7",
          "7",
          "7",
          "7",
          "7",
          "7",
          "7",
          "8",
          "8",
          "8",
          "8",
          "8",
          "8",
          "8",
          "8",
          "8",
          "8",
          "9",
          "9",
          "9",
          "9",
          "9",
          "9",
          "9",
          "9",
          "9",
          "9",
          "10",
          "10",
          "10",
          "10",
          "10",
          "10",
          "10",
          "10",
          "10",
          "10",
          "11",
          "11",
          "11",
          "11",
          "11",
          "11",
          "11",
          "11",
          "11",
          "11",
          "12",
          "12",
          "12",
          "12",
          "12",
          "12",
          "12",
          "12",
          "12",
          "12",
          "13",
          "13",
          "13",
          "13",
          "13",
          "13",
          "13",
          "13",
          "13",
          "13",
          "14",
          "14",
          "14",
          "14",
          "14",
          "14",
          "14",
          "14",
          "14",
          "14",
          "15",
          "15",
          "15",
          "15",
          "15",
          "15",
          "15",
          "15",
          "15",
          "15"
         ],
         "xaxis": "x",
         "y": [
          0.7728819808382119,
          0.7728819808382119,
          0.7728819808382119,
          0.7728819808382119,
          0.7728819808382119,
          0.7728819808382119,
          0.7728819808382119,
          0.7728819808382119,
          0.7728819808382119,
          0.7728819808382119,
          0.7714818614894975,
          0.7714818614894975,
          0.7714818614894975,
          0.7714818614894975,
          0.7714818614894975,
          0.7714818614894975,
          0.7714818614894975,
          0.7714818614894975,
          0.7714818614894975,
          0.7714818614894975,
          0.7698163260419189,
          0.7698163260419189,
          0.7698163260419189,
          0.7698163260419189,
          0.7698163260419189,
          0.7698163260419189,
          0.7698163260419189,
          0.7698163260419189,
          0.7698163260419189,
          0.7698163260419189,
          0.7680144299604487,
          0.7680144299604487,
          0.7680144299604487,
          0.7680144299604487,
          0.7680144299604487,
          0.7680144299604487,
          0.7680144299604487,
          0.7680144299604487,
          0.7680144299604487,
          0.7680144299604487,
          0.7659789613560049,
          0.7659789613560049,
          0.7659789613560049,
          0.7659789613560049,
          0.7659789613560049,
          0.7659789613560049,
          0.7659789613560049,
          0.7659789613560049,
          0.7659789613560049,
          0.7659789613560049,
          0.7638964673874474,
          0.7638964673874474,
          0.7638964673874474,
          0.7638964673874474,
          0.7638964673874474,
          0.7638964673874474,
          0.7638964673874474,
          0.7638964673874474,
          0.7638964673874474,
          0.7638964673874474,
          0.7616636172767813,
          0.7616636172767813,
          0.7616636172767813,
          0.7616636172767813,
          0.7616636172767813,
          0.7616636172767813,
          0.7616636172767813,
          0.7616636172767813,
          0.7616636172767813,
          0.7616636172767813,
          0.7597377088988109,
          0.7597377088988109,
          0.7597377088988109,
          0.7597377088988109,
          0.7597377088988109,
          0.7597377088988109,
          0.7597377088988109,
          0.7597377088988109,
          0.7597377088988109,
          0.7597377088988109,
          0.7576767448166573,
          0.7576767448166573,
          0.7576767448166573,
          0.7576767448166573,
          0.7576767448166573,
          0.7576767448166573,
          0.7576767448166573,
          0.7576767448166573,
          0.7576767448166573,
          0.7576767448166573,
          0.7556308192440768,
          0.7556308192440768,
          0.7556308192440768,
          0.7556308192440768,
          0.7556308192440768,
          0.7556308192440768,
          0.7556308192440768,
          0.7556308192440768,
          0.7556308192440768,
          0.7556308192440768,
          0.753714215625686,
          0.753714215625686,
          0.753714215625686,
          0.753714215625686,
          0.753714215625686,
          0.753714215625686,
          0.753714215625686,
          0.753714215625686,
          0.753714215625686,
          0.753714215625686,
          0.7514965707378544,
          0.7514965707378544,
          0.7514965707378544,
          0.7514965707378544,
          0.7514965707378544,
          0.7514965707378544,
          0.7514965707378544,
          0.7514965707378544,
          0.7514965707378544,
          0.7514965707378544,
          0.7496111051740203,
          0.7496111051740203,
          0.7496111051740203,
          0.7496111051740203,
          0.7496111051740203,
          0.7496111051740203,
          0.7496111051740203,
          0.7496111051740203,
          0.7496111051740203,
          0.7496111051740203
         ],
         "yaxis": "y"
        },
        {
         "error_y": {
          "array": [
           null,
           null,
           null,
           null,
           null,
           null,
           null,
           null,
           null,
           null,
           null,
           null,
           null
          ],
          "width": 5
         },
         "hovertemplate": "Type=Experiment<br>TF=%{x}<br>Mod_mean=%{y}<extra></extra>",
         "legendgroup": "Experiment",
         "line": {
          "color": "#3366CC",
          "dash": "solid",
          "width": 5
         },
         "marker": {
          "size": 12,
          "symbol": "circle"
         },
         "mode": "lines+markers",
         "name": "Experiment",
         "orientation": "v",
         "showlegend": true,
         "type": "scatter",
         "x": [
          "3",
          "4",
          "5",
          "6",
          "7",
          "8",
          "9",
          "10",
          "11",
          "12",
          "13",
          "14",
          "15"
         ],
         "xaxis": "x",
         "y": [
          0.7728113908063434,
          0.7707050347214882,
          0.7693689831496311,
          0.7663224192347685,
          0.7638897423747854,
          0.7618394950453334,
          0.7594854272726466,
          0.75767234760951,
          0.7565071744555113,
          0.7543736810451404,
          0.7518232155042845,
          0.7502158000326684,
          0.7478524297179279
         ],
         "yaxis": "y"
        }
       ],
       "layout": {
        "font": {
         "size": 16
        },
        "height": 600,
        "legend": {
         "bgcolor": "rgba(0,0,0,0)",
         "font": {
          "color": "#003366",
          "size": 16
         },
         "orientation": "h",
         "title": {
          "text": "Leiden"
         },
         "tracegroupgap": 0,
         "x": 0.5,
         "xanchor": "center",
         "y": 0.87,
         "yanchor": "bottom"
        },
        "paper_bgcolor": "rgba(0,0,0,0)",
        "template": {
         "data": {
          "bar": [
           {
            "error_x": {
             "color": "rgb(51,51,51)"
            },
            "error_y": {
             "color": "rgb(51,51,51)"
            },
            "marker": {
             "line": {
              "color": "rgb(237,237,237)",
              "width": 0.5
             },
             "pattern": {
              "fillmode": "overlay",
              "size": 10,
              "solidity": 0.2
             }
            },
            "type": "bar"
           }
          ],
          "barpolar": [
           {
            "marker": {
             "line": {
              "color": "rgb(237,237,237)",
              "width": 0.5
             },
             "pattern": {
              "fillmode": "overlay",
              "size": 10,
              "solidity": 0.2
             }
            },
            "type": "barpolar"
           }
          ],
          "carpet": [
           {
            "aaxis": {
             "endlinecolor": "rgb(51,51,51)",
             "gridcolor": "white",
             "linecolor": "white",
             "minorgridcolor": "white",
             "startlinecolor": "rgb(51,51,51)"
            },
            "baxis": {
             "endlinecolor": "rgb(51,51,51)",
             "gridcolor": "white",
             "linecolor": "white",
             "minorgridcolor": "white",
             "startlinecolor": "rgb(51,51,51)"
            },
            "type": "carpet"
           }
          ],
          "choropleth": [
           {
            "colorbar": {
             "outlinewidth": 0,
             "tickcolor": "rgb(237,237,237)",
             "ticklen": 6,
             "ticks": "inside"
            },
            "type": "choropleth"
           }
          ],
          "contour": [
           {
            "colorbar": {
             "outlinewidth": 0,
             "tickcolor": "rgb(237,237,237)",
             "ticklen": 6,
             "ticks": "inside"
            },
            "colorscale": [
             [
              0,
              "rgb(20,44,66)"
             ],
             [
              1,
              "rgb(90,179,244)"
             ]
            ],
            "type": "contour"
           }
          ],
          "contourcarpet": [
           {
            "colorbar": {
             "outlinewidth": 0,
             "tickcolor": "rgb(237,237,237)",
             "ticklen": 6,
             "ticks": "inside"
            },
            "type": "contourcarpet"
           }
          ],
          "heatmap": [
           {
            "colorbar": {
             "outlinewidth": 0,
             "tickcolor": "rgb(237,237,237)",
             "ticklen": 6,
             "ticks": "inside"
            },
            "colorscale": [
             [
              0,
              "rgb(20,44,66)"
             ],
             [
              1,
              "rgb(90,179,244)"
             ]
            ],
            "type": "heatmap"
           }
          ],
          "heatmapgl": [
           {
            "colorbar": {
             "outlinewidth": 0,
             "tickcolor": "rgb(237,237,237)",
             "ticklen": 6,
             "ticks": "inside"
            },
            "colorscale": [
             [
              0,
              "rgb(20,44,66)"
             ],
             [
              1,
              "rgb(90,179,244)"
             ]
            ],
            "type": "heatmapgl"
           }
          ],
          "histogram": [
           {
            "marker": {
             "pattern": {
              "fillmode": "overlay",
              "size": 10,
              "solidity": 0.2
             }
            },
            "type": "histogram"
           }
          ],
          "histogram2d": [
           {
            "colorbar": {
             "outlinewidth": 0,
             "tickcolor": "rgb(237,237,237)",
             "ticklen": 6,
             "ticks": "inside"
            },
            "colorscale": [
             [
              0,
              "rgb(20,44,66)"
             ],
             [
              1,
              "rgb(90,179,244)"
             ]
            ],
            "type": "histogram2d"
           }
          ],
          "histogram2dcontour": [
           {
            "colorbar": {
             "outlinewidth": 0,
             "tickcolor": "rgb(237,237,237)",
             "ticklen": 6,
             "ticks": "inside"
            },
            "colorscale": [
             [
              0,
              "rgb(20,44,66)"
             ],
             [
              1,
              "rgb(90,179,244)"
             ]
            ],
            "type": "histogram2dcontour"
           }
          ],
          "mesh3d": [
           {
            "colorbar": {
             "outlinewidth": 0,
             "tickcolor": "rgb(237,237,237)",
             "ticklen": 6,
             "ticks": "inside"
            },
            "type": "mesh3d"
           }
          ],
          "parcoords": [
           {
            "line": {
             "colorbar": {
              "outlinewidth": 0,
              "tickcolor": "rgb(237,237,237)",
              "ticklen": 6,
              "ticks": "inside"
             }
            },
            "type": "parcoords"
           }
          ],
          "pie": [
           {
            "automargin": true,
            "type": "pie"
           }
          ],
          "scatter": [
           {
            "fillpattern": {
             "fillmode": "overlay",
             "size": 10,
             "solidity": 0.2
            },
            "type": "scatter"
           }
          ],
          "scatter3d": [
           {
            "line": {
             "colorbar": {
              "outlinewidth": 0,
              "tickcolor": "rgb(237,237,237)",
              "ticklen": 6,
              "ticks": "inside"
             }
            },
            "marker": {
             "colorbar": {
              "outlinewidth": 0,
              "tickcolor": "rgb(237,237,237)",
              "ticklen": 6,
              "ticks": "inside"
             }
            },
            "type": "scatter3d"
           }
          ],
          "scattercarpet": [
           {
            "marker": {
             "colorbar": {
              "outlinewidth": 0,
              "tickcolor": "rgb(237,237,237)",
              "ticklen": 6,
              "ticks": "inside"
             }
            },
            "type": "scattercarpet"
           }
          ],
          "scattergeo": [
           {
            "marker": {
             "colorbar": {
              "outlinewidth": 0,
              "tickcolor": "rgb(237,237,237)",
              "ticklen": 6,
              "ticks": "inside"
             }
            },
            "type": "scattergeo"
           }
          ],
          "scattergl": [
           {
            "marker": {
             "colorbar": {
              "outlinewidth": 0,
              "tickcolor": "rgb(237,237,237)",
              "ticklen": 6,
              "ticks": "inside"
             }
            },
            "type": "scattergl"
           }
          ],
          "scattermapbox": [
           {
            "marker": {
             "colorbar": {
              "outlinewidth": 0,
              "tickcolor": "rgb(237,237,237)",
              "ticklen": 6,
              "ticks": "inside"
             }
            },
            "type": "scattermapbox"
           }
          ],
          "scatterpolar": [
           {
            "marker": {
             "colorbar": {
              "outlinewidth": 0,
              "tickcolor": "rgb(237,237,237)",
              "ticklen": 6,
              "ticks": "inside"
             }
            },
            "type": "scatterpolar"
           }
          ],
          "scatterpolargl": [
           {
            "marker": {
             "colorbar": {
              "outlinewidth": 0,
              "tickcolor": "rgb(237,237,237)",
              "ticklen": 6,
              "ticks": "inside"
             }
            },
            "type": "scatterpolargl"
           }
          ],
          "scatterternary": [
           {
            "marker": {
             "colorbar": {
              "outlinewidth": 0,
              "tickcolor": "rgb(237,237,237)",
              "ticklen": 6,
              "ticks": "inside"
             }
            },
            "type": "scatterternary"
           }
          ],
          "surface": [
           {
            "colorbar": {
             "outlinewidth": 0,
             "tickcolor": "rgb(237,237,237)",
             "ticklen": 6,
             "ticks": "inside"
            },
            "colorscale": [
             [
              0,
              "rgb(20,44,66)"
             ],
             [
              1,
              "rgb(90,179,244)"
             ]
            ],
            "type": "surface"
           }
          ],
          "table": [
           {
            "cells": {
             "fill": {
              "color": "rgb(237,237,237)"
             },
             "line": {
              "color": "white"
             }
            },
            "header": {
             "fill": {
              "color": "rgb(217,217,217)"
             },
             "line": {
              "color": "white"
             }
            },
            "type": "table"
           }
          ]
         },
         "layout": {
          "annotationdefaults": {
           "arrowhead": 0,
           "arrowwidth": 1
          },
          "autotypenumbers": "strict",
          "coloraxis": {
           "colorbar": {
            "outlinewidth": 0,
            "tickcolor": "rgb(237,237,237)",
            "ticklen": 6,
            "ticks": "inside"
           }
          },
          "colorscale": {
           "sequential": [
            [
             0,
             "rgb(20,44,66)"
            ],
            [
             1,
             "rgb(90,179,244)"
            ]
           ],
           "sequentialminus": [
            [
             0,
             "rgb(20,44,66)"
            ],
            [
             1,
             "rgb(90,179,244)"
            ]
           ]
          },
          "colorway": [
           "#F8766D",
           "#A3A500",
           "#00BF7D",
           "#00B0F6",
           "#E76BF3"
          ],
          "font": {
           "color": "rgb(51,51,51)"
          },
          "geo": {
           "bgcolor": "white",
           "lakecolor": "white",
           "landcolor": "rgb(237,237,237)",
           "showlakes": true,
           "showland": true,
           "subunitcolor": "white"
          },
          "hoverlabel": {
           "align": "left"
          },
          "hovermode": "closest",
          "paper_bgcolor": "white",
          "plot_bgcolor": "rgb(237,237,237)",
          "polar": {
           "angularaxis": {
            "gridcolor": "white",
            "linecolor": "white",
            "showgrid": true,
            "tickcolor": "rgb(51,51,51)",
            "ticks": "outside"
           },
           "bgcolor": "rgb(237,237,237)",
           "radialaxis": {
            "gridcolor": "white",
            "linecolor": "white",
            "showgrid": true,
            "tickcolor": "rgb(51,51,51)",
            "ticks": "outside"
           }
          },
          "scene": {
           "xaxis": {
            "backgroundcolor": "rgb(237,237,237)",
            "gridcolor": "white",
            "gridwidth": 2,
            "linecolor": "white",
            "showbackground": true,
            "showgrid": true,
            "tickcolor": "rgb(51,51,51)",
            "ticks": "outside",
            "zerolinecolor": "white"
           },
           "yaxis": {
            "backgroundcolor": "rgb(237,237,237)",
            "gridcolor": "white",
            "gridwidth": 2,
            "linecolor": "white",
            "showbackground": true,
            "showgrid": true,
            "tickcolor": "rgb(51,51,51)",
            "ticks": "outside",
            "zerolinecolor": "white"
           },
           "zaxis": {
            "backgroundcolor": "rgb(237,237,237)",
            "gridcolor": "white",
            "gridwidth": 2,
            "linecolor": "white",
            "showbackground": true,
            "showgrid": true,
            "tickcolor": "rgb(51,51,51)",
            "ticks": "outside",
            "zerolinecolor": "white"
           }
          },
          "shapedefaults": {
           "fillcolor": "black",
           "line": {
            "width": 0
           },
           "opacity": 0.3
          },
          "ternary": {
           "aaxis": {
            "gridcolor": "white",
            "linecolor": "white",
            "showgrid": true,
            "tickcolor": "rgb(51,51,51)",
            "ticks": "outside"
           },
           "baxis": {
            "gridcolor": "white",
            "linecolor": "white",
            "showgrid": true,
            "tickcolor": "rgb(51,51,51)",
            "ticks": "outside"
           },
           "bgcolor": "rgb(237,237,237)",
           "caxis": {
            "gridcolor": "white",
            "linecolor": "white",
            "showgrid": true,
            "tickcolor": "rgb(51,51,51)",
            "ticks": "outside"
           }
          },
          "xaxis": {
           "automargin": true,
           "gridcolor": "white",
           "linecolor": "white",
           "showgrid": true,
           "tickcolor": "rgb(51,51,51)",
           "ticks": "outside",
           "title": {
            "standoff": 15
           },
           "zerolinecolor": "white"
          },
          "yaxis": {
           "automargin": true,
           "gridcolor": "white",
           "linecolor": "white",
           "showgrid": true,
           "tickcolor": "rgb(51,51,51)",
           "ticks": "outside",
           "title": {
            "standoff": 15
           },
           "zerolinecolor": "white"
          }
         }
        },
        "title": {
         "text": ""
        },
        "xaxis": {
         "anchor": "y",
         "domain": [
          0,
          1
         ],
         "tickfont": {
          "size": 16
         },
         "title": {
          "text": "Minimum degree for selected genes"
         }
        },
        "yaxis": {
         "anchor": "x",
         "domain": [
          0,
          1
         ],
         "tickfont": {
          "size": 16
         },
         "title": {
          "text": "Modularity Score"
         }
        }
       }
      }
     },
     "metadata": {},
     "output_type": "display_data"
    }
   ],
   "source": [
    "top_comb_leiden = tf_stats(top_leid_ctrls, leid_h[leid_h[\"Leiden Rank\"] == 0])\n",
    "fig = px.line(\n",
    "    top_comb_leiden,\n",
    "    x=\"TF\",\n",
    "    y=\"Mod_mean\",\n",
    "    error_y=\"Mod_std\",\n",
    "    markers=True,\n",
    "    color=\"Type\",\n",
    "    height=600,\n",
    "    title=\"Modularity scores for the best top Leiden Run.\",\n",
    "    color_discrete_map=color_map,\n",
    ")\n",
    "fig.update_layout(\n",
    "    legend=dict(\n",
    "        orientation=\"h\",\n",
    "        title=\"Leiden\",\n",
    "        yanchor=\"bottom\",\n",
    "        y=0.87,\n",
    "        xanchor=\"center\",\n",
    "        x=0.5,\n",
    "        bgcolor=\"rgba(0,0,0,0)\",\n",
    "        font=dict(size=16, color=\"#003366\"),\n",
    "    ),\n",
    "    title=\"\",\n",
    "    template=\"ggplot2\",  # \"ggplot2\", \"plotly_white\"\n",
    "    paper_bgcolor=\"rgba(0,0,0,0)\",\n",
    "    # plot_bgcolor=\"rgba(0,0,0,0)\",\n",
    "    xaxis=dict(\n",
    "        tickfont=dict(size=16),\n",
    "        title=\"Minimum degree for selected genes\",\n",
    "    ),\n",
    "    yaxis=dict(\n",
    "        tickfont=dict(size=16),\n",
    "        title=\"Modularity Score\",\n",
    "    ),\n",
    "    font=dict(size=16),\n",
    ")\n",
    "fig.update_traces(line_width=5, marker_size=12, error_y=dict(width=5))\n",
    "\n",
    "fig.show()\n",
    "save_fig(name=\"leid_mod_sel_prun\", fig=fig, base_path=figures_path, width=1200, height=600)"
   ]
  },
  {
   "cell_type": "code",
   "execution_count": 13,
   "metadata": {},
   "outputs": [],
   "source": [
    "# top_leid_ctrls[\"TF\"] = top_leid_ctrls[\"TF\"].astype(int)\n",
    "# top_leid_ctrls.sort_values(by=\"TF\", ascending=True)\n",
    "# x = list(top_leid_ctrls[\"TF\"].astype(int))\n",
    "# y_upper = list(top_leid_ctrls[\"Mod_mean\"] + top_leid_ctrls[\"Mod_std\"])\n",
    "# y_lower = list(top_leid_ctrls[\"Mod_mean\"] - top_leid_ctrls[\"Mod_std\"])\n",
    "\n",
    "\n",
    "# fig.add_trace(\n",
    "#     go.Scatter(\n",
    "#         x=x + x[::-1],  # x, then x reversed\n",
    "#         y=y_upper + y_lower[::-1],  # upper, then lower reversed\n",
    "#         fill=\"toself\",\n",
    "#         fillcolor=\"rgba(0,100,80,0.2)\",\n",
    "#         line=dict(color=\"rgba(255,255,255,0)\"),\n",
    "#         hoverinfo=\"skip\",\n",
    "#         showlegend=False,\n",
    "#     )\n",
    "# )\n",
    "\n",
    "# fig.show()"
   ]
  },
  {
   "cell_type": "code",
   "execution_count": 14,
   "metadata": {},
   "outputs": [],
   "source": [
    "leid_fig = px.line(\n",
    "    top_comb_leiden,\n",
    "    x=\"TF\",\n",
    "    y=\"ModNum_mean\",\n",
    "    error_y=\"ModNum_std\",\n",
    "    markers=True,\n",
    "    color=\"Type\",\n",
    "    height=600,\n",
    "    title=\"Community sizes for the best top Leiden Run.\",\n",
    "    color_discrete_map=color_map,\n",
    ")\n",
    "leid_fig.update_layout(\n",
    "    legend=dict(\n",
    "        orientation=\"h\",\n",
    "        title=\"Leiden\",\n",
    "        yanchor=\"bottom\",\n",
    "        y=1.1,\n",
    "        xanchor=\"center\",\n",
    "        x=0.5,\n",
    "        bgcolor=\"rgba(0,0,0,0)\",\n",
    "        font=dict(size=16, color=\"#003366\"),\n",
    "    ),\n",
    "    title=\"\",\n",
    "    template=\"ggplot2\",  # \"ggplot2\", \"plotly_white\"\n",
    "    # paper_bgcolor=\"rgba(0,0,0,0)\",\n",
    "    # plot_bgcolor=\"rgba(0,0,0,0)\",\n",
    "    xaxis=dict(\n",
    "        tickfont=dict(size=16),\n",
    "        title=\"Minimum degree for selected genes\",\n",
    "    ),\n",
    "    yaxis=dict(\n",
    "        tickfont=dict(size=16),\n",
    "        tickmode=\"linear\",\n",
    "        # tick0=3,\n",
    "        # dtick=1,\n",
    "        title=\"Number of communities\",\n",
    "    ),\n",
    "    font=dict(size=16),\n",
    ")\n",
    "# leid_fig.update_traces(line_width=5, marker_size=12, error_y=dict(width=5))\n",
    "# leid_fig.show()\n",
    "save_fig(name=\"leid_comNum_sel_prun\", fig=leid_fig, base_path=figures_path, width=1400, height=700)"
   ]
  },
  {
   "cell_type": "markdown",
   "metadata": {},
   "source": [
    "## SBM - Community size"
   ]
  },
  {
   "cell_type": "code",
   "execution_count": 15,
   "metadata": {},
   "outputs": [],
   "source": [
    "ctrl_sizes, h_sizes = [], []\n",
    "for key, val in h_exps.items():\n",
    "    results_df = val.get_gt_df(compute=False)\n",
    "    h_sizes.append(((key, \"Experiment\", len(results_df[\"max_b\"].unique()))))\n",
    "    for idx in range(1, 11, 1):\n",
    "        control_res = ctrl_exps[idx][\"exps\"][key].get_gt_df(compute=False)\n",
    "        ctrl_sizes.append(((key, \"hCtrl{}\".format(idx), len(control_res[\"max_b\"].unique()))))\n",
    "\n",
    "ctrl_sizes = pd.DataFrame(ctrl_sizes, columns=[\"TF\", \"Type\", \"Com_size\"])\n",
    "ctrl_sizes[\"Type\"] = \"Control\"\n",
    "h_sizes = pd.DataFrame(h_sizes, columns=[\"TF\", \"Type\", \"Com_size\"])"
   ]
  },
  {
   "cell_type": "code",
   "execution_count": 16,
   "metadata": {},
   "outputs": [],
   "source": [
    "for tf in ctrl_sizes[\"TF\"].unique():\n",
    "    sel_df = ctrl_sizes[(ctrl_sizes[\"TF\"] == tf)]\n",
    "    sel_df_exp = h_sizes[h_sizes[\"TF\"] == tf]\n",
    "\n",
    "    ctrl_sizes.loc[ctrl_sizes[\"TF\"] == tf, \"Size_median\"] = sel_df[\"Com_size\"].median(axis=0)\n",
    "    ctrl_sizes.loc[ctrl_sizes[\"TF\"] == tf, \"Size_mean\"] = sel_df[\"Com_size\"].mean(axis=0)\n",
    "    ctrl_sizes.loc[ctrl_sizes[\"TF\"] == tf, \"Size_std\"] = sel_df[\"Com_size\"].std(axis=0)\n",
    "\n",
    "    h_sizes.loc[h_sizes[\"TF\"] == tf, \"Size_median\"] = sel_df_exp[\"Com_size\"].median(axis=0)\n",
    "    h_sizes.loc[h_sizes[\"TF\"] == tf, \"Size_mean\"] = sel_df_exp[\"Com_size\"].mean(axis=0)\n",
    "    h_sizes.loc[h_sizes[\"TF\"] == tf, \"Size_std\"] = 0\n",
    "\n",
    "comb_df = pd.concat([ctrl_sizes, h_sizes], axis=0)"
   ]
  },
  {
   "cell_type": "code",
   "execution_count": 17,
   "metadata": {},
   "outputs": [],
   "source": [
    "if True:\n",
    "    sbm_fig = px.line(\n",
    "        comb_df,\n",
    "        x=\"TF\",\n",
    "        y=\"Size_mean\",\n",
    "        color=\"Type\",\n",
    "        error_y=\"Size_std\",\n",
    "        markers=True,\n",
    "        title=\"SBM. Community sizes\",\n",
    "        height=600,\n",
    "        color_discrete_map=color_map,\n",
    "    )\n",
    "    sbm_fig.update_layout(\n",
    "        legend=dict(\n",
    "            orientation=\"h\",\n",
    "            title=\"Type\",\n",
    "            yanchor=\"bottom\",\n",
    "            y=1.1,\n",
    "            xanchor=\"center\",\n",
    "            x=0.5,\n",
    "            bgcolor=\"rgba(0,0,0,0)\",\n",
    "            font=dict(size=16, color=\"#003366\"),\n",
    "        ),\n",
    "        title=\"\",\n",
    "        template=\"ggplot2\",  # \"ggplot2\", \"plotly_white\"\n",
    "        # paper_bgcolor=\"rgba(0,0,0,0)\",\n",
    "        # plot_bgcolor=\"rgba(0,0,0,0)\",\n",
    "        xaxis=dict(\n",
    "            tickfont=dict(size=16),\n",
    "            title=\"Minimum degree for selected genes\",\n",
    "        ),\n",
    "        yaxis=dict(\n",
    "            tickfont=dict(size=16),\n",
    "            tickmode=\"linear\",\n",
    "            # tick0=3,\n",
    "            # dtick=1,\n",
    "            title=\"Number of communities\",\n",
    "        ),\n",
    "        font=dict(size=16),\n",
    "    )\n",
    "    # sbm_fig.update_traces(line_width=5, marker_size=12, error_y=dict(width=5))\n",
    "    # sbm_fig.show()\n",
    "    save_fig(name=\"sbm_comNum_sel_prun\", fig=sbm_fig, base_path=figures_path, width=1200, height=600)"
   ]
  },
  {
   "cell_type": "markdown",
   "metadata": {},
   "source": [
    "### SBM + Leiden Community size"
   ]
  },
  {
   "cell_type": "code",
   "execution_count": 18,
   "metadata": {},
   "outputs": [
    {
     "data": {
      "application/vnd.plotly.v1+json": {
       "config": {
        "plotlyServerURL": "https://plot.ly"
       },
       "data": [
        {
         "error_y": {
          "array": [
           1.2516655570345725,
           1.2516655570345725,
           1.2516655570345725,
           1.2516655570345725,
           1.2516655570345725,
           1.2516655570345725,
           1.2516655570345725,
           1.2516655570345725,
           1.2516655570345725,
           1.2516655570345725,
           0.7071067811865476,
           0.7071067811865476,
           0.7071067811865476,
           0.7071067811865476,
           0.7071067811865476,
           0.7071067811865476,
           0.7071067811865476,
           0.7071067811865476,
           0.7071067811865476,
           0.7071067811865476,
           1.1785113019775793,
           1.1785113019775793,
           1.1785113019775793,
           1.1785113019775793,
           1.1785113019775793,
           1.1785113019775793,
           1.1785113019775793,
           1.1785113019775793,
           1.1785113019775793,
           1.1785113019775793,
           1.728840330651992,
           1.728840330651992,
           1.728840330651992,
           1.728840330651992,
           1.728840330651992,
           1.728840330651992,
           1.728840330651992,
           1.728840330651992,
           1.728840330651992,
           1.728840330651992,
           1.0327955589886444,
           1.0327955589886444,
           1.0327955589886444,
           1.0327955589886444,
           1.0327955589886444,
           1.0327955589886444,
           1.0327955589886444,
           1.0327955589886444,
           1.0327955589886444,
           1.0327955589886444,
           1.0327955589886444,
           1.0327955589886444,
           1.0327955589886444,
           1.0327955589886444,
           1.0327955589886444,
           1.0327955589886444,
           1.0327955589886444,
           1.0327955589886444,
           1.0327955589886444,
           1.0327955589886444,
           1.1352924243950933,
           1.1352924243950933,
           1.1352924243950933,
           1.1352924243950933,
           1.1352924243950933,
           1.1352924243950933,
           1.1352924243950933,
           1.1352924243950933,
           1.1352924243950933,
           1.1352924243950933,
           1.5055453054181622,
           1.5055453054181622,
           1.5055453054181622,
           1.5055453054181622,
           1.5055453054181622,
           1.5055453054181622,
           1.5055453054181622,
           1.5055453054181622,
           1.5055453054181622,
           1.5055453054181622,
           0.7378647873726218,
           0.7378647873726218,
           0.7378647873726218,
           0.7378647873726218,
           0.7378647873726218,
           0.7378647873726218,
           0.7378647873726218,
           0.7378647873726218,
           0.7378647873726218,
           0.7378647873726218,
           1.5634719199411433,
           1.5634719199411433,
           1.5634719199411433,
           1.5634719199411433,
           1.5634719199411433,
           1.5634719199411433,
           1.5634719199411433,
           1.5634719199411433,
           1.5634719199411433,
           1.5634719199411433,
           1.577621275493231,
           1.577621275493231,
           1.577621275493231,
           1.577621275493231,
           1.577621275493231,
           1.577621275493231,
           1.577621275493231,
           1.577621275493231,
           1.577621275493231,
           1.577621275493231,
           1.8408935028645435,
           1.8408935028645435,
           1.8408935028645435,
           1.8408935028645435,
           1.8408935028645435,
           1.8408935028645435,
           1.8408935028645435,
           1.8408935028645435,
           1.8408935028645435,
           1.8408935028645435,
           1.9692073983655907,
           1.9692073983655907,
           1.9692073983655907,
           1.9692073983655907,
           1.9692073983655907,
           1.9692073983655907,
           1.9692073983655907,
           1.9692073983655907,
           1.9692073983655907,
           1.9692073983655907
          ],
          "width": 5
         },
         "hovertemplate": "Type=Control<br>TF=%{x}<br>Size_mean=%{y}<extra></extra>",
         "legendgroup": "Control",
         "line": {
          "color": "#DC3912",
          "dash": "solid",
          "width": 5
         },
         "marker": {
          "size": 12,
          "symbol": "circle"
         },
         "mode": "lines+markers",
         "name": "Control",
         "orientation": "v",
         "showlegend": true,
         "type": "scatter",
         "x": [
          "3",
          "3",
          "3",
          "3",
          "3",
          "3",
          "3",
          "3",
          "3",
          "3",
          "4",
          "4",
          "4",
          "4",
          "4",
          "4",
          "4",
          "4",
          "4",
          "4",
          "5",
          "5",
          "5",
          "5",
          "5",
          "5",
          "5",
          "5",
          "5",
          "5",
          "6",
          "6",
          "6",
          "6",
          "6",
          "6",
          "6",
          "6",
          "6",
          "6",
          "7",
          "7",
          "7",
          "7",
          "7",
          "7",
          "7",
          "7",
          "7",
          "7",
          "8",
          "8",
          "8",
          "8",
          "8",
          "8",
          "8",
          "8",
          "8",
          "8",
          "9",
          "9",
          "9",
          "9",
          "9",
          "9",
          "9",
          "9",
          "9",
          "9",
          "10",
          "10",
          "10",
          "10",
          "10",
          "10",
          "10",
          "10",
          "10",
          "10",
          "11",
          "11",
          "11",
          "11",
          "11",
          "11",
          "11",
          "11",
          "11",
          "11",
          "12",
          "12",
          "12",
          "12",
          "12",
          "12",
          "12",
          "12",
          "12",
          "12",
          "13",
          "13",
          "13",
          "13",
          "13",
          "13",
          "13",
          "13",
          "13",
          "13",
          "14",
          "14",
          "14",
          "14",
          "14",
          "14",
          "14",
          "14",
          "14",
          "14",
          "15",
          "15",
          "15",
          "15",
          "15",
          "15",
          "15",
          "15",
          "15",
          "15"
         ],
         "xaxis": "x",
         "y": [
          29.7,
          29.7,
          29.7,
          29.7,
          29.7,
          29.7,
          29.7,
          29.7,
          29.7,
          29.7,
          30.5,
          30.5,
          30.5,
          30.5,
          30.5,
          30.5,
          30.5,
          30.5,
          30.5,
          30.5,
          30.5,
          30.5,
          30.5,
          30.5,
          30.5,
          30.5,
          30.5,
          30.5,
          30.5,
          30.5,
          31.9,
          31.9,
          31.9,
          31.9,
          31.9,
          31.9,
          31.9,
          31.9,
          31.9,
          31.9,
          32.8,
          32.8,
          32.8,
          32.8,
          32.8,
          32.8,
          32.8,
          32.8,
          32.8,
          32.8,
          32.8,
          32.8,
          32.8,
          32.8,
          32.8,
          32.8,
          32.8,
          32.8,
          32.8,
          32.8,
          33.2,
          33.2,
          33.2,
          33.2,
          33.2,
          33.2,
          33.2,
          33.2,
          33.2,
          33.2,
          33.6,
          33.6,
          33.6,
          33.6,
          33.6,
          33.6,
          33.6,
          33.6,
          33.6,
          33.6,
          34.9,
          34.9,
          34.9,
          34.9,
          34.9,
          34.9,
          34.9,
          34.9,
          34.9,
          34.9,
          35,
          35,
          35,
          35,
          35,
          35,
          35,
          35,
          35,
          35,
          34.4,
          34.4,
          34.4,
          34.4,
          34.4,
          34.4,
          34.4,
          34.4,
          34.4,
          34.4,
          35.5,
          35.5,
          35.5,
          35.5,
          35.5,
          35.5,
          35.5,
          35.5,
          35.5,
          35.5,
          36.1,
          36.1,
          36.1,
          36.1,
          36.1,
          36.1,
          36.1,
          36.1,
          36.1,
          36.1
         ],
         "yaxis": "y"
        },
        {
         "error_y": {
          "array": [
           0,
           0,
           0,
           0,
           0,
           0,
           0,
           0,
           0,
           0,
           0,
           0,
           0
          ],
          "width": 5
         },
         "hovertemplate": "Type=Experiment<br>TF=%{x}<br>Size_mean=%{y}<extra></extra>",
         "legendgroup": "Experiment",
         "line": {
          "color": "#3366CC",
          "dash": "solid",
          "width": 5
         },
         "marker": {
          "size": 12,
          "symbol": "circle"
         },
         "mode": "lines+markers",
         "name": "Experiment",
         "orientation": "v",
         "showlegend": true,
         "type": "scatter",
         "x": [
          "3",
          "4",
          "5",
          "6",
          "7",
          "8",
          "9",
          "10",
          "11",
          "12",
          "13",
          "14",
          "15"
         ],
         "xaxis": "x",
         "y": [
          31,
          30,
          31,
          31,
          32,
          34,
          33,
          32,
          31,
          33,
          36,
          33,
          32
         ],
         "yaxis": "y"
        },
        {
         "error_y": {
          "array": [
           0.4919098582484146,
           0.4919098582484146,
           0.4919098582484146,
           0.4919098582484146,
           0.4919098582484146,
           0.4919098582484146,
           0.4919098582484146,
           0.4919098582484146,
           0.4919098582484146,
           0.4919098582484146,
           0.6858355272004869,
           0.6858355272004869,
           0.6858355272004869,
           0.6858355272004869,
           0.6858355272004869,
           0.6858355272004869,
           0.6858355272004869,
           0.6858355272004869,
           0.6858355272004869,
           0.6858355272004869,
           0.539775902288494,
           0.539775902288494,
           0.539775902288494,
           0.539775902288494,
           0.539775902288494,
           0.539775902288494,
           0.539775902288494,
           0.539775902288494,
           0.539775902288494,
           0.539775902288494,
           0.5621826951410455,
           0.5621826951410455,
           0.5621826951410455,
           0.5621826951410455,
           0.5621826951410455,
           0.5621826951410455,
           0.5621826951410455,
           0.5621826951410455,
           0.5621826951410455,
           0.5621826951410455,
           0.5488484015657094,
           0.5488484015657094,
           0.5488484015657094,
           0.5488484015657094,
           0.5488484015657094,
           0.5488484015657094,
           0.5488484015657094,
           0.5488484015657094,
           0.5488484015657094,
           0.5488484015657094,
           0.6085806194501846,
           0.6085806194501846,
           0.6085806194501846,
           0.6085806194501846,
           0.6085806194501846,
           0.6085806194501846,
           0.6085806194501846,
           0.6085806194501846,
           0.6085806194501846,
           0.6085806194501846,
           0.6045098003882423,
           0.6045098003882423,
           0.6045098003882423,
           0.6045098003882423,
           0.6045098003882423,
           0.6045098003882423,
           0.6045098003882423,
           0.6045098003882423,
           0.6045098003882423,
           0.6045098003882423,
           0.6516834799384522,
           0.6516834799384522,
           0.6516834799384522,
           0.6516834799384522,
           0.6516834799384522,
           0.6516834799384522,
           0.6516834799384522,
           0.6516834799384522,
           0.6516834799384522,
           0.6516834799384522,
           0.773001205818937,
           0.773001205818937,
           0.773001205818937,
           0.773001205818937,
           0.773001205818937,
           0.773001205818937,
           0.773001205818937,
           0.773001205818937,
           0.773001205818937,
           0.773001205818937,
           0.8951170693832369,
           0.8951170693832369,
           0.8951170693832369,
           0.8951170693832369,
           0.8951170693832369,
           0.8951170693832369,
           0.8951170693832369,
           0.8951170693832369,
           0.8951170693832369,
           0.8951170693832369,
           0.9054021683317047,
           0.9054021683317047,
           0.9054021683317047,
           0.9054021683317047,
           0.9054021683317047,
           0.9054021683317047,
           0.9054021683317047,
           0.9054021683317047,
           0.9054021683317047,
           0.9054021683317047,
           0.9222891541976505,
           0.9222891541976505,
           0.9222891541976505,
           0.9222891541976505,
           0.9222891541976505,
           0.9222891541976505,
           0.9222891541976505,
           0.9222891541976505,
           0.9222891541976505,
           0.9222891541976505,
           0.8861067572167504,
           0.8861067572167504,
           0.8861067572167504,
           0.8861067572167504,
           0.8861067572167504,
           0.8861067572167504,
           0.8861067572167504,
           0.8861067572167504,
           0.8861067572167504,
           0.8861067572167504
          ],
          "width": 5
         },
         "hovertemplate": "Type=Control<br>TF=%{x}<br>ModNum_mean=%{y}<extra></extra>",
         "legendgroup": "Control",
         "line": {
          "color": "#DC3912",
          "dash": "solid",
          "width": 5
         },
         "marker": {
          "size": 12,
          "symbol": "circle"
         },
         "mode": "lines+markers",
         "name": "Control",
         "orientation": "v",
         "showlegend": true,
         "type": "scatter",
         "x": [
          "3",
          "3",
          "3",
          "3",
          "3",
          "3",
          "3",
          "3",
          "3",
          "3",
          "4",
          "4",
          "4",
          "4",
          "4",
          "4",
          "4",
          "4",
          "4",
          "4",
          "5",
          "5",
          "5",
          "5",
          "5",
          "5",
          "5",
          "5",
          "5",
          "5",
          "6",
          "6",
          "6",
          "6",
          "6",
          "6",
          "6",
          "6",
          "6",
          "6",
          "7",
          "7",
          "7",
          "7",
          "7",
          "7",
          "7",
          "7",
          "7",
          "7",
          "8",
          "8",
          "8",
          "8",
          "8",
          "8",
          "8",
          "8",
          "8",
          "8",
          "9",
          "9",
          "9",
          "9",
          "9",
          "9",
          "9",
          "9",
          "9",
          "9",
          "10",
          "10",
          "10",
          "10",
          "10",
          "10",
          "10",
          "10",
          "10",
          "10",
          "11",
          "11",
          "11",
          "11",
          "11",
          "11",
          "11",
          "11",
          "11",
          "11",
          "12",
          "12",
          "12",
          "12",
          "12",
          "12",
          "12",
          "12",
          "12",
          "12",
          "13",
          "13",
          "13",
          "13",
          "13",
          "13",
          "13",
          "13",
          "13",
          "13",
          "14",
          "14",
          "14",
          "14",
          "14",
          "14",
          "14",
          "14",
          "14",
          "14",
          "15",
          "15",
          "15",
          "15",
          "15",
          "15",
          "15",
          "15",
          "15",
          "15"
         ],
         "xaxis": "x",
         "y": [
          15.73333333333333,
          15.73333333333333,
          15.73333333333333,
          15.73333333333333,
          15.73333333333333,
          15.73333333333333,
          15.73333333333333,
          15.73333333333333,
          15.73333333333333,
          15.73333333333333,
          15.899999999999997,
          15.899999999999997,
          15.899999999999997,
          15.899999999999997,
          15.899999999999997,
          15.899999999999997,
          15.899999999999997,
          15.899999999999997,
          15.899999999999997,
          15.899999999999997,
          15.6,
          15.6,
          15.6,
          15.6,
          15.6,
          15.6,
          15.6,
          15.6,
          15.6,
          15.6,
          15.6,
          15.6,
          15.6,
          15.6,
          15.6,
          15.6,
          15.6,
          15.6,
          15.6,
          15.6,
          15.466666666666665,
          15.466666666666665,
          15.466666666666665,
          15.466666666666665,
          15.466666666666665,
          15.466666666666665,
          15.466666666666665,
          15.466666666666665,
          15.466666666666665,
          15.466666666666665,
          14.999999999999996,
          14.999999999999996,
          14.999999999999996,
          14.999999999999996,
          14.999999999999996,
          14.999999999999996,
          14.999999999999996,
          14.999999999999996,
          14.999999999999996,
          14.999999999999996,
          15.066666666666668,
          15.066666666666668,
          15.066666666666668,
          15.066666666666668,
          15.066666666666668,
          15.066666666666668,
          15.066666666666668,
          15.066666666666668,
          15.066666666666668,
          15.066666666666668,
          14.866666666666669,
          14.866666666666669,
          14.866666666666669,
          14.866666666666669,
          14.866666666666669,
          14.866666666666669,
          14.866666666666669,
          14.866666666666669,
          14.866666666666669,
          14.866666666666669,
          14.866666666666669,
          14.866666666666669,
          14.866666666666669,
          14.866666666666669,
          14.866666666666669,
          14.866666666666669,
          14.866666666666669,
          14.866666666666669,
          14.866666666666669,
          14.866666666666669,
          14.633333333333335,
          14.633333333333335,
          14.633333333333335,
          14.633333333333335,
          14.633333333333335,
          14.633333333333335,
          14.633333333333335,
          14.633333333333335,
          14.633333333333335,
          14.633333333333335,
          14.533333333333335,
          14.533333333333335,
          14.533333333333335,
          14.533333333333335,
          14.533333333333335,
          14.533333333333335,
          14.533333333333335,
          14.533333333333335,
          14.533333333333335,
          14.533333333333335,
          14.366666666666665,
          14.366666666666665,
          14.366666666666665,
          14.366666666666665,
          14.366666666666665,
          14.366666666666665,
          14.366666666666665,
          14.366666666666665,
          14.366666666666665,
          14.366666666666665,
          14.4,
          14.4,
          14.4,
          14.4,
          14.4,
          14.4,
          14.4,
          14.4,
          14.4,
          14.4
         ],
         "yaxis": "y"
        },
        {
         "error_y": {
          "array": [
           null,
           null,
           null,
           null,
           null,
           null,
           null,
           null,
           null,
           null,
           null,
           null,
           null
          ],
          "width": 5
         },
         "hovertemplate": "Type=Experiment<br>TF=%{x}<br>ModNum_mean=%{y}<extra></extra>",
         "legendgroup": "Experiment",
         "line": {
          "color": "#3366CC",
          "dash": "solid",
          "width": 5
         },
         "marker": {
          "size": 12,
          "symbol": "circle"
         },
         "mode": "lines+markers",
         "name": "Experiment",
         "orientation": "v",
         "showlegend": true,
         "type": "scatter",
         "x": [
          "3",
          "4",
          "5",
          "6",
          "7",
          "8",
          "9",
          "10",
          "11",
          "12",
          "13",
          "14",
          "15"
         ],
         "xaxis": "x",
         "y": [
          16,
          16,
          15.333333333333334,
          15.666666666666666,
          16,
          15.666666666666666,
          15,
          14.333333333333334,
          14.666666666666666,
          14.333333333333334,
          14.666666666666666,
          14.333333333333334,
          14.666666666666666
         ],
         "yaxis": "y"
        }
       ],
       "layout": {
        "font": {
         "size": 16
        },
        "height": 600,
        "legend": {
         "bgcolor": "rgba(0,0,0,0)",
         "font": {
          "color": "#003366",
          "size": 16
         },
         "orientation": "h",
         "title": {
          "text": "Type"
         },
         "tracegroupgap": 0,
         "x": 0.5,
         "xanchor": "center",
         "y": 1.1,
         "yanchor": "bottom"
        },
        "paper_bgcolor": "rgba(0,0,0,0)",
        "showlegend": false,
        "template": {
         "data": {
          "bar": [
           {
            "error_x": {
             "color": "rgb(51,51,51)"
            },
            "error_y": {
             "color": "rgb(51,51,51)"
            },
            "marker": {
             "line": {
              "color": "rgb(237,237,237)",
              "width": 0.5
             },
             "pattern": {
              "fillmode": "overlay",
              "size": 10,
              "solidity": 0.2
             }
            },
            "type": "bar"
           }
          ],
          "barpolar": [
           {
            "marker": {
             "line": {
              "color": "rgb(237,237,237)",
              "width": 0.5
             },
             "pattern": {
              "fillmode": "overlay",
              "size": 10,
              "solidity": 0.2
             }
            },
            "type": "barpolar"
           }
          ],
          "carpet": [
           {
            "aaxis": {
             "endlinecolor": "rgb(51,51,51)",
             "gridcolor": "white",
             "linecolor": "white",
             "minorgridcolor": "white",
             "startlinecolor": "rgb(51,51,51)"
            },
            "baxis": {
             "endlinecolor": "rgb(51,51,51)",
             "gridcolor": "white",
             "linecolor": "white",
             "minorgridcolor": "white",
             "startlinecolor": "rgb(51,51,51)"
            },
            "type": "carpet"
           }
          ],
          "choropleth": [
           {
            "colorbar": {
             "outlinewidth": 0,
             "tickcolor": "rgb(237,237,237)",
             "ticklen": 6,
             "ticks": "inside"
            },
            "type": "choropleth"
           }
          ],
          "contour": [
           {
            "colorbar": {
             "outlinewidth": 0,
             "tickcolor": "rgb(237,237,237)",
             "ticklen": 6,
             "ticks": "inside"
            },
            "colorscale": [
             [
              0,
              "rgb(20,44,66)"
             ],
             [
              1,
              "rgb(90,179,244)"
             ]
            ],
            "type": "contour"
           }
          ],
          "contourcarpet": [
           {
            "colorbar": {
             "outlinewidth": 0,
             "tickcolor": "rgb(237,237,237)",
             "ticklen": 6,
             "ticks": "inside"
            },
            "type": "contourcarpet"
           }
          ],
          "heatmap": [
           {
            "colorbar": {
             "outlinewidth": 0,
             "tickcolor": "rgb(237,237,237)",
             "ticklen": 6,
             "ticks": "inside"
            },
            "colorscale": [
             [
              0,
              "rgb(20,44,66)"
             ],
             [
              1,
              "rgb(90,179,244)"
             ]
            ],
            "type": "heatmap"
           }
          ],
          "heatmapgl": [
           {
            "colorbar": {
             "outlinewidth": 0,
             "tickcolor": "rgb(237,237,237)",
             "ticklen": 6,
             "ticks": "inside"
            },
            "colorscale": [
             [
              0,
              "rgb(20,44,66)"
             ],
             [
              1,
              "rgb(90,179,244)"
             ]
            ],
            "type": "heatmapgl"
           }
          ],
          "histogram": [
           {
            "marker": {
             "pattern": {
              "fillmode": "overlay",
              "size": 10,
              "solidity": 0.2
             }
            },
            "type": "histogram"
           }
          ],
          "histogram2d": [
           {
            "colorbar": {
             "outlinewidth": 0,
             "tickcolor": "rgb(237,237,237)",
             "ticklen": 6,
             "ticks": "inside"
            },
            "colorscale": [
             [
              0,
              "rgb(20,44,66)"
             ],
             [
              1,
              "rgb(90,179,244)"
             ]
            ],
            "type": "histogram2d"
           }
          ],
          "histogram2dcontour": [
           {
            "colorbar": {
             "outlinewidth": 0,
             "tickcolor": "rgb(237,237,237)",
             "ticklen": 6,
             "ticks": "inside"
            },
            "colorscale": [
             [
              0,
              "rgb(20,44,66)"
             ],
             [
              1,
              "rgb(90,179,244)"
             ]
            ],
            "type": "histogram2dcontour"
           }
          ],
          "mesh3d": [
           {
            "colorbar": {
             "outlinewidth": 0,
             "tickcolor": "rgb(237,237,237)",
             "ticklen": 6,
             "ticks": "inside"
            },
            "type": "mesh3d"
           }
          ],
          "parcoords": [
           {
            "line": {
             "colorbar": {
              "outlinewidth": 0,
              "tickcolor": "rgb(237,237,237)",
              "ticklen": 6,
              "ticks": "inside"
             }
            },
            "type": "parcoords"
           }
          ],
          "pie": [
           {
            "automargin": true,
            "type": "pie"
           }
          ],
          "scatter": [
           {
            "fillpattern": {
             "fillmode": "overlay",
             "size": 10,
             "solidity": 0.2
            },
            "type": "scatter"
           }
          ],
          "scatter3d": [
           {
            "line": {
             "colorbar": {
              "outlinewidth": 0,
              "tickcolor": "rgb(237,237,237)",
              "ticklen": 6,
              "ticks": "inside"
             }
            },
            "marker": {
             "colorbar": {
              "outlinewidth": 0,
              "tickcolor": "rgb(237,237,237)",
              "ticklen": 6,
              "ticks": "inside"
             }
            },
            "type": "scatter3d"
           }
          ],
          "scattercarpet": [
           {
            "marker": {
             "colorbar": {
              "outlinewidth": 0,
              "tickcolor": "rgb(237,237,237)",
              "ticklen": 6,
              "ticks": "inside"
             }
            },
            "type": "scattercarpet"
           }
          ],
          "scattergeo": [
           {
            "marker": {
             "colorbar": {
              "outlinewidth": 0,
              "tickcolor": "rgb(237,237,237)",
              "ticklen": 6,
              "ticks": "inside"
             }
            },
            "type": "scattergeo"
           }
          ],
          "scattergl": [
           {
            "marker": {
             "colorbar": {
              "outlinewidth": 0,
              "tickcolor": "rgb(237,237,237)",
              "ticklen": 6,
              "ticks": "inside"
             }
            },
            "type": "scattergl"
           }
          ],
          "scattermapbox": [
           {
            "marker": {
             "colorbar": {
              "outlinewidth": 0,
              "tickcolor": "rgb(237,237,237)",
              "ticklen": 6,
              "ticks": "inside"
             }
            },
            "type": "scattermapbox"
           }
          ],
          "scatterpolar": [
           {
            "marker": {
             "colorbar": {
              "outlinewidth": 0,
              "tickcolor": "rgb(237,237,237)",
              "ticklen": 6,
              "ticks": "inside"
             }
            },
            "type": "scatterpolar"
           }
          ],
          "scatterpolargl": [
           {
            "marker": {
             "colorbar": {
              "outlinewidth": 0,
              "tickcolor": "rgb(237,237,237)",
              "ticklen": 6,
              "ticks": "inside"
             }
            },
            "type": "scatterpolargl"
           }
          ],
          "scatterternary": [
           {
            "marker": {
             "colorbar": {
              "outlinewidth": 0,
              "tickcolor": "rgb(237,237,237)",
              "ticklen": 6,
              "ticks": "inside"
             }
            },
            "type": "scatterternary"
           }
          ],
          "surface": [
           {
            "colorbar": {
             "outlinewidth": 0,
             "tickcolor": "rgb(237,237,237)",
             "ticklen": 6,
             "ticks": "inside"
            },
            "colorscale": [
             [
              0,
              "rgb(20,44,66)"
             ],
             [
              1,
              "rgb(90,179,244)"
             ]
            ],
            "type": "surface"
           }
          ],
          "table": [
           {
            "cells": {
             "fill": {
              "color": "rgb(237,237,237)"
             },
             "line": {
              "color": "white"
             }
            },
            "header": {
             "fill": {
              "color": "rgb(217,217,217)"
             },
             "line": {
              "color": "white"
             }
            },
            "type": "table"
           }
          ]
         },
         "layout": {
          "annotationdefaults": {
           "arrowhead": 0,
           "arrowwidth": 1
          },
          "autotypenumbers": "strict",
          "coloraxis": {
           "colorbar": {
            "outlinewidth": 0,
            "tickcolor": "rgb(237,237,237)",
            "ticklen": 6,
            "ticks": "inside"
           }
          },
          "colorscale": {
           "sequential": [
            [
             0,
             "rgb(20,44,66)"
            ],
            [
             1,
             "rgb(90,179,244)"
            ]
           ],
           "sequentialminus": [
            [
             0,
             "rgb(20,44,66)"
            ],
            [
             1,
             "rgb(90,179,244)"
            ]
           ]
          },
          "colorway": [
           "#F8766D",
           "#A3A500",
           "#00BF7D",
           "#00B0F6",
           "#E76BF3"
          ],
          "font": {
           "color": "rgb(51,51,51)"
          },
          "geo": {
           "bgcolor": "white",
           "lakecolor": "white",
           "landcolor": "rgb(237,237,237)",
           "showlakes": true,
           "showland": true,
           "subunitcolor": "white"
          },
          "hoverlabel": {
           "align": "left"
          },
          "hovermode": "closest",
          "paper_bgcolor": "white",
          "plot_bgcolor": "rgb(237,237,237)",
          "polar": {
           "angularaxis": {
            "gridcolor": "white",
            "linecolor": "white",
            "showgrid": true,
            "tickcolor": "rgb(51,51,51)",
            "ticks": "outside"
           },
           "bgcolor": "rgb(237,237,237)",
           "radialaxis": {
            "gridcolor": "white",
            "linecolor": "white",
            "showgrid": true,
            "tickcolor": "rgb(51,51,51)",
            "ticks": "outside"
           }
          },
          "scene": {
           "xaxis": {
            "backgroundcolor": "rgb(237,237,237)",
            "gridcolor": "white",
            "gridwidth": 2,
            "linecolor": "white",
            "showbackground": true,
            "showgrid": true,
            "tickcolor": "rgb(51,51,51)",
            "ticks": "outside",
            "zerolinecolor": "white"
           },
           "yaxis": {
            "backgroundcolor": "rgb(237,237,237)",
            "gridcolor": "white",
            "gridwidth": 2,
            "linecolor": "white",
            "showbackground": true,
            "showgrid": true,
            "tickcolor": "rgb(51,51,51)",
            "ticks": "outside",
            "zerolinecolor": "white"
           },
           "zaxis": {
            "backgroundcolor": "rgb(237,237,237)",
            "gridcolor": "white",
            "gridwidth": 2,
            "linecolor": "white",
            "showbackground": true,
            "showgrid": true,
            "tickcolor": "rgb(51,51,51)",
            "ticks": "outside",
            "zerolinecolor": "white"
           }
          },
          "shapedefaults": {
           "fillcolor": "black",
           "line": {
            "width": 0
           },
           "opacity": 0.3
          },
          "ternary": {
           "aaxis": {
            "gridcolor": "white",
            "linecolor": "white",
            "showgrid": true,
            "tickcolor": "rgb(51,51,51)",
            "ticks": "outside"
           },
           "baxis": {
            "gridcolor": "white",
            "linecolor": "white",
            "showgrid": true,
            "tickcolor": "rgb(51,51,51)",
            "ticks": "outside"
           },
           "bgcolor": "rgb(237,237,237)",
           "caxis": {
            "gridcolor": "white",
            "linecolor": "white",
            "showgrid": true,
            "tickcolor": "rgb(51,51,51)",
            "ticks": "outside"
           }
          },
          "xaxis": {
           "automargin": true,
           "gridcolor": "white",
           "linecolor": "white",
           "showgrid": true,
           "tickcolor": "rgb(51,51,51)",
           "ticks": "outside",
           "title": {
            "standoff": 15
           },
           "zerolinecolor": "white"
          },
          "yaxis": {
           "automargin": true,
           "gridcolor": "white",
           "linecolor": "white",
           "showgrid": true,
           "tickcolor": "rgb(51,51,51)",
           "ticks": "outside",
           "title": {
            "standoff": 15
           },
           "zerolinecolor": "white"
          }
         }
        },
        "title": {
         "text": ""
        },
        "xaxis": {
         "anchor": "y",
         "domain": [
          0,
          1
         ],
         "tickfont": {
          "size": 16
         },
         "title": {
          "text": "Minimum degree for selected genes"
         }
        },
        "yaxis": {
         "anchor": "x",
         "domain": [
          0,
          1
         ],
         "dtick": 2,
         "tick0": 10,
         "tickfont": {
          "size": 16
         },
         "tickmode": "linear",
         "title": {
          "text": "Number of communities"
         }
        }
       }
      }
     },
     "metadata": {},
     "output_type": "display_data"
    }
   ],
   "source": [
    "sbm_fig = sbm_fig.add_traces(leid_fig.data)\n",
    "sbm_fig = sbm_fig.update_layout(\n",
    "    legend=dict(\n",
    "        orientation=\"h\",\n",
    "        title=\"Type\",\n",
    "        yanchor=\"bottom\",\n",
    "        y=1.1,\n",
    "        xanchor=\"center\",\n",
    "        x=0.5,\n",
    "        bgcolor=\"rgba(0,0,0,0)\",\n",
    "        font=dict(size=16, color=\"#003366\"),\n",
    "    ),\n",
    "    paper_bgcolor=\"rgba(0,0,0,0)\",\n",
    "    xaxis=dict(\n",
    "        tickfont=dict(size=16),\n",
    "        title=\"Minimum degree for selected genes\",\n",
    "    ),\n",
    "    title=\"\",\n",
    "    template=\"ggplot2\",\n",
    "    yaxis=dict(\n",
    "        tickmode=\"linear\",\n",
    "        tick0=10,\n",
    "        dtick=2,\n",
    "    ),\n",
    "    showlegend=False,\n",
    "    font=dict(size=16),\n",
    ")\n",
    "sbm_fig = sbm_fig.update_traces(line_width=5, marker_size=12, error_y=dict(width=5))\n",
    "sbm_fig.show()\n",
    "save_fig(name=\"sbm_Leiden_combNum\", fig=sbm_fig, base_path=figures_path, width=1200, height=600)"
   ]
  },
  {
   "cell_type": "markdown",
   "metadata": {},
   "source": [
    "# TF representation"
   ]
  },
  {
   "cell_type": "code",
   "execution_count": 49,
   "metadata": {},
   "outputs": [],
   "source": [
    "def gene_sel_by_mev(exp, exp_label=\"\", show_figs=True, tf_list=[]):\n",
    "    all_exps = []\n",
    "    for num_genes in range(25, 201, 25):\n",
    "        exp_genes = []\n",
    "        for modCon in exp.gt_modCon.values():\n",
    "            top_100 = modCon.sort_values(by=[\"ModCon_{}_gt\".format(exp.type)], ascending=False).index.values[:num_genes]\n",
    "            exp_genes.extend(top_100)\n",
    "\n",
    "        # add to the global exps\n",
    "        sel_df = tcga_mutations_df[tcga_mutations_df.index.isin(exp_genes)]\n",
    "        mut_0 = sel_df[sel_df[\"count\"] > 0].shape[0]\n",
    "        mut_5 = sel_df[sel_df[\"count\"] >= 5].shape[0]\n",
    "        mut_10 = sel_df[sel_df[\"count\"] >= 10].shape[0]\n",
    "\n",
    "        # tf exploration\n",
    "        tf_used = set(exp_genes) & set(tf_list)\n",
    "        tf_used_mut = sel_df[sel_df[\"count\"] > 0]\n",
    "        tf_used_mut = tf_used_mut[tf_used_mut.index.isin(list(tf_used))].shape[0]\n",
    "\n",
    "        all_exps.append((len(exp_genes), mut_0, mut_5, mut_10, len(tf_used), tf_used_mut, str(num_genes)))\n",
    "\n",
    "    genes_stats = pd.DataFrame(all_exps, columns=[\"#Genes\", \"#Mutated >0\", \"#Mutated >5\", \"#Mutated >10\", \"#TF\", \"#Mutated TF\", \"Exp\"])\n",
    "\n",
    "    metrics_cols = genes_stats.columns[:-1]\n",
    "    remap_cols = {col: col.replace(\"#\", \"%\") for col in metrics_cols}\n",
    "    prct_df = pd.concat(\n",
    "        [genes_stats[\"Exp\"], genes_stats[metrics_cols].div(genes_stats[\"#Genes\"].values, axis=0).multiply(100).rename(columns=remap_cols)], axis=1\n",
    "    )\n",
    "\n",
    "    if show_figs:\n",
    "        # Proportion\n",
    "        fig = px.bar(\n",
    "            prct_df,\n",
    "            x=\"Exp\",\n",
    "            y=list(remap_cols.values()),\n",
    "            barmode=\"group\",\n",
    "            title=\"{}. Proportion of genes included when different #num selected by ModCon\".format(exp_label),\n",
    "            height=600,\n",
    "            text_auto=True,\n",
    "        )\n",
    "        fig.show()\n",
    "\n",
    "        # Numbers\n",
    "        fig = px.bar(\n",
    "            genes_stats,\n",
    "            x=\"Exp\",\n",
    "            y=genes_stats.columns[:-1],\n",
    "            barmode=\"group\",\n",
    "            title=\"{}. Number of genes when different #num selected by ModCon\".format(exp_label),\n",
    "            height=600,\n",
    "        )\n",
    "        fig.show()\n",
    "    return genes_stats, prct_df, exp_genes\n",
    "\n",
    "\n",
    "def tf_modCon_exps(exps, tf_range=None, tf_list = []):\n",
    "    tf_changes = pd.DataFrame()\n",
    "    if tf_range is None:\n",
    "        tf_range = range(3, 11, 1)\n",
    "    for tf in tf_range:\n",
    "        sel_exp = exps[str(tf)]\n",
    "        genes_used, _, _ = gene_sel_by_mev(sel_exp, exp_label=str(tf), show_figs=False, tf_list=tf_list)\n",
    "\n",
    "        remap_cols = {col: \"{}TF_{}\".format(tf, col) for col in [\"#TF\", \"#Mutated TF\", \"Exp\"]}\n",
    "        dmy = genes_used[list(remap_cols.keys())].copy(deep=True)\n",
    "        dmy[\"TF_edges\"] = \"{}\".format(tf)\n",
    "        tf_changes = pd.concat(\n",
    "            [tf_changes, dmy],\n",
    "            axis=0,\n",
    "        )\n",
    "\n",
    "    return tf_changes\n",
    "\n",
    "\n",
    "# This is more for development\n",
    "def plot_single_ctrl(ctrl_exps: dict, key=1, tf_list=[]):\n",
    "    #### This works for only one Control select the ModCon - 100\n",
    "\n",
    "    tf_changes_exp = tf_modCon_exps(h_exps, tf_range=list(list(range(3, 16, 1))), tf_list=tf_list)\n",
    "    tf_changes_control = tf_modCon_exps(ctrl_exps[key][\"exps\"], tf_range=list(list(range(3, 16, 1))), tf_list=tf_list)\n",
    "\n",
    "    tf_changes_exp[\"Type\"] = \"Experiment\"\n",
    "    tf_changes_control[\"Type\"] = \"Control\"\n",
    "\n",
    "    dmy_df = pd.concat([tf_changes_exp, tf_changes_control], axis=0)\n",
    "    dmy_df = dmy_df[dmy_df[\"Exp\"] == \"100\"]\n",
    "    dmy_df[\"Used_prct\"] = dmy_df[\"#TF\"] / len(used_tf) * 100\n",
    "\n",
    "    fig = px.line(dmy_df, x=\"TF_edges\", y=\"Used_prct\", color=\"Type\", markers=True, title=\"% TF used in calculating the MEV\", height=600)\n",
    "    fig.update_layout(\n",
    "        legend=dict(\n",
    "            orientation=\"h\",\n",
    "            # title=\"Type\",\n",
    "            yanchor=\"bottom\",\n",
    "            y=0.18,\n",
    "            xanchor=\"center\",\n",
    "            x=0.5,\n",
    "            bgcolor=\"rgba(0,0,0,0)\",\n",
    "            font=dict(size=12),\n",
    "        ),\n",
    "    )\n",
    "    fig.update_xaxes(title_text=\"Minimum degree for selected genes\", tickfont=dict(size=14), title_font=dict(size=16))\n",
    "    fig = fig.update_yaxes(title_text=\"% of genes included\", range=[0, 105], tickfont=dict(size=14), title_font=dict(size=16))\n",
    "    fig.show()\n",
    "\n",
    "\n",
    "def worker(arg):\n",
    "    obj, methname = arg[:2]\n",
    "    _ = getattr(obj, methname)()\n",
    "    return obj\n",
    "\n",
    "# Need it to asign the type of sbm method applied\n",
    "for key, exp in h_exps.items():\n",
    "    exp.sbm_method = 'sbm'\n",
    "\n",
    "for key in ctrl_exps.keys():\n",
    "    for _, exp in ctrl_exps[key][\"exps\"].items():\n",
    "        exp.sbm_method = 'sbm'"
   ]
  },
  {
   "cell_type": "code",
   "execution_count": null,
   "metadata": {},
   "outputs": [],
   "source": [
    "results = pool.map(worker, ((exp, \"get_ModCon\") for exp in h_exps.values()))\n",
    "h_exps = {exp.type.split(\"_\")[-1].split(\"TF\")[0]: exp for exp in results}\n",
    "\n",
    "for key, exp in h_exps.items():\n",
    "    sort_col = \"ModCon_{}_gt\".format(exp.type)\n",
    "    exp.mevsMut, _ = exp.get_mevs(tpms=all_tum_tpms, modCon=exp.gt_modCon, sort_col=sort_col, num_genes=100, verbose=False)"
   ]
  },
  {
   "cell_type": "code",
   "execution_count": null,
   "metadata": {},
   "outputs": [],
   "source": [
    "# Healthy control for ModCon and MEV\n",
    "### ModCon\n",
    "for key in ctrl_exps.keys():\n",
    "    print(\"### ModCon Control {}\".format(key))\n",
    "    results = pool.map(worker, ((exp, \"get_ModCon\") for exp in ctrl_exps[key][\"exps\"].values()))\n",
    "    ctrl_exps[key][\"exps\"] = {exp.type.split(\"_\")[-1].split(\"TF\")[0]: exp for exp in results}\n",
    "\n",
    "### MEV\n",
    "for key in ctrl_exps.keys():\n",
    "    print(\"### MEV Control {}\".format(key))\n",
    "    for key, exp in ctrl_exps[key][\"exps\"].items():\n",
    "        sort_col = \"ModCon_{}_gt\".format(exp.type)\n",
    "        exp.mevsMut, _ = exp.get_mevs(tpms=all_tum_tpms, modCon=exp.gt_modCon, sort_col=sort_col, num_genes=100, verbose=False)"
   ]
  },
  {
   "cell_type": "code",
   "execution_count": 50,
   "metadata": {},
   "outputs": [],
   "source": [
    "# Control TF changes\n",
    "used_tf = all_h.exps[\"standard_5K_3TF\"].nodes_df[\"TF\"][all_h.exps[\"standard_5K_3TF\"].nodes_df[\"TF\"] == 1].index.values\n",
    "\n",
    "tf_chgs_all_ctrls = []\n",
    "tf_range = list(list(range(3, 16, 1)))\n",
    "for key, val in ctrl_exps.items():\n",
    "    tf_chgs = tf_modCon_exps(val[\"exps\"], tf_range=tf_range, tf_list=tf_list)\n",
    "    tf_chgs = tf_chgs[tf_chgs[\"Exp\"] == \"100\"]\n",
    "    tf_chgs[\"Type\"] = \"hCtrl{}\".format(key)\n",
    "    tf_chgs[\"Used_prct\"] = tf_chgs[\"#TF\"] / len(used_tf) * 100\n",
    "    # tf_chgs[\"Mut_prct\"] = tf_chgs[\"#Mutated TF\"] / len(used_tf) * 100 #used_tf which are mutated\n",
    "    tf_chgs_all_ctrls.append(tf_chgs)\n",
    "\n",
    "tf_chgs_all_ctrls = pd.concat(tf_chgs_all_ctrls, axis=0)\n",
    "\n",
    "# Generate the Exp Changes too\n",
    "tf_changes_exp = tf_modCon_exps(h_exps, tf_range=tf_range,  tf_list=tf_list)"
   ]
  },
  {
   "cell_type": "code",
   "execution_count": 51,
   "metadata": {},
   "outputs": [],
   "source": [
    "# Process the information and get some stats\n",
    "\n",
    "## Control\n",
    "all_tf_chgs_stats = []\n",
    "for tf in tf_chgs_all_ctrls[\"TF_edges\"].unique():\n",
    "    sel_df = tf_chgs_all_ctrls[tf_chgs_all_ctrls[\"TF_edges\"] == tf]\n",
    "    all_tf_chgs_stats.append(\n",
    "        [\n",
    "            tf,\n",
    "            sel_df[\"Exp\"].values[0],\n",
    "            sel_df[\"Used_prct\"].median(axis=0),\n",
    "            sel_df[\"Used_prct\"].mean(axis=0),\n",
    "            sel_df[\"Used_prct\"].std(axis=0),\n",
    "            sel_df[\"#TF\"].median(axis=0),\n",
    "            sel_df[\"#TF\"].mean(axis=0),\n",
    "            sel_df[\"#TF\"].std(axis=0),\n",
    "            sel_df[\"#Mutated TF\"].median(axis=0),\n",
    "            sel_df[\"#Mutated TF\"].mean(axis=0),\n",
    "            sel_df[\"#Mutated TF\"].std(axis=0),\n",
    "        ]\n",
    "    )\n",
    "\n",
    "\n",
    "tf_chgs_stats_df = pd.DataFrame(\n",
    "    all_tf_chgs_stats,\n",
    "    columns=[\"TF_edges\", \"Exp\", \"Prct_median\", \"Prct_mean\", \"Prct_std\", \"#TF_median\", \"#TF_mean\", \"#TF_std\", \"#Mutated median\", \"Mutated mean\", \"Mutated std\"],\n",
    ")\n",
    "tf_chgs_stats_df[\"Type\"] = \"Control\"\n",
    "\n",
    "## Experiment\n",
    "tf_changes_exp = tf_changes_exp[tf_changes_exp[\"Exp\"] == \"100\"]\n",
    "tf_changes_exp[\"Used_prct\"] = tf_changes_exp[\"#TF\"] / len(used_tf) * 100\n",
    "tf_changes_exp[\"Prct_median\"] = tf_changes_exp[\"Used_prct\"]\n",
    "tf_changes_exp[\"Prct_mean\"] = tf_changes_exp[\"Used_prct\"]\n",
    "tf_changes_exp[\"Prct_std\"] = 0\n",
    "tf_changes_exp[\"Type\"] = \"Experiment\"\n",
    "# tf_changes_exp[\"Mut_prct\"] = tf_changes_exp[\"#Mutated TF\"] / len(used_tf) * 100\n",
    "\n",
    "## Combine the two\n",
    "comb_chgs = pd.concat([tf_chgs_stats_df, tf_changes_exp], axis=0)"
   ]
  },
  {
   "cell_type": "code",
   "execution_count": 52,
   "metadata": {},
   "outputs": [
    {
     "data": {
      "application/vnd.plotly.v1+json": {
       "config": {
        "plotlyServerURL": "https://plot.ly"
       },
       "data": [
        {
         "error_y": {
          "array": [
           2.8734846005499666,
           2.0783420878521794,
           3.1220508446756035,
           3.578117715108504,
           1.9028750516100628,
           3.5496063626086976,
           4.394943240646317,
           3.433194010636087,
           2.6528451570701996,
           3.813668194596577,
           3.6270356902277987,
           4.799247635041687,
           4.221367805157563
          ],
          "width": 5
         },
         "hovertemplate": "Type=Control<br>TF_edges=%{x}<br>Prct_mean=%{y}<extra></extra>",
         "legendgroup": "Control",
         "line": {
          "color": "#DC3912",
          "dash": "solid",
          "width": 5
         },
         "marker": {
          "size": 12,
          "symbol": "circle"
         },
         "mode": "lines+markers",
         "name": "Control",
         "orientation": "v",
         "showlegend": true,
         "type": "scatter",
         "x": [
          "3",
          "4",
          "5",
          "6",
          "7",
          "8",
          "9",
          "10",
          "11",
          "12",
          "13",
          "14",
          "15"
         ],
         "xaxis": "x",
         "y": [
          56.69753086419753,
          56.38888888888888,
          55.895061728395056,
          58.27160493827161,
          58.54938271604938,
          59.07407407407406,
          58.98148148148149,
          60.74074074074074,
          63.30246913580247,
          61.6358024691358,
          60.77160493827161,
          62.56172839506172,
          64.75308641975309
         ],
         "yaxis": "y"
        },
        {
         "error_y": {
          "array": [
           0,
           0,
           0,
           0,
           0,
           0,
           0,
           0,
           0,
           0,
           0,
           0,
           0
          ],
          "width": 5
         },
         "hovertemplate": "Type=Experiment<br>TF_edges=%{x}<br>Prct_mean=%{y}<extra></extra>",
         "legendgroup": "Experiment",
         "line": {
          "color": "#3366CC",
          "dash": "solid",
          "width": 5
         },
         "marker": {
          "size": 12,
          "symbol": "circle"
         },
         "mode": "lines+markers",
         "name": "Experiment",
         "orientation": "v",
         "showlegend": true,
         "type": "scatter",
         "x": [
          "3",
          "4",
          "5",
          "6",
          "7",
          "8",
          "9",
          "10",
          "11",
          "12",
          "13",
          "14",
          "15"
         ],
         "xaxis": "x",
         "y": [
          57.407407407407405,
          72.53086419753086,
          80.24691358024691,
          93.51851851851852,
          96.60493827160494,
          99.07407407407408,
          99.38271604938271,
          100,
          100,
          100.30864197530865,
          100.30864197530865,
          100.30864197530865,
          100.30864197530865
         ],
         "yaxis": "y"
        }
       ],
       "layout": {
        "font": {
         "size": 16
        },
        "height": 600,
        "legend": {
         "bgcolor": "rgba(0,0,0,0)",
         "font": {
          "size": 16
         },
         "orientation": "h",
         "title": {
          "text": "Type"
         },
         "tracegroupgap": 0,
         "x": 0.5,
         "xanchor": "center",
         "y": 0.18,
         "yanchor": "bottom"
        },
        "paper_bgcolor": "rgba(0,0,0,0)",
        "template": {
         "data": {
          "bar": [
           {
            "error_x": {
             "color": "rgb(51,51,51)"
            },
            "error_y": {
             "color": "rgb(51,51,51)"
            },
            "marker": {
             "line": {
              "color": "rgb(237,237,237)",
              "width": 0.5
             },
             "pattern": {
              "fillmode": "overlay",
              "size": 10,
              "solidity": 0.2
             }
            },
            "type": "bar"
           }
          ],
          "barpolar": [
           {
            "marker": {
             "line": {
              "color": "rgb(237,237,237)",
              "width": 0.5
             },
             "pattern": {
              "fillmode": "overlay",
              "size": 10,
              "solidity": 0.2
             }
            },
            "type": "barpolar"
           }
          ],
          "carpet": [
           {
            "aaxis": {
             "endlinecolor": "rgb(51,51,51)",
             "gridcolor": "white",
             "linecolor": "white",
             "minorgridcolor": "white",
             "startlinecolor": "rgb(51,51,51)"
            },
            "baxis": {
             "endlinecolor": "rgb(51,51,51)",
             "gridcolor": "white",
             "linecolor": "white",
             "minorgridcolor": "white",
             "startlinecolor": "rgb(51,51,51)"
            },
            "type": "carpet"
           }
          ],
          "choropleth": [
           {
            "colorbar": {
             "outlinewidth": 0,
             "tickcolor": "rgb(237,237,237)",
             "ticklen": 6,
             "ticks": "inside"
            },
            "type": "choropleth"
           }
          ],
          "contour": [
           {
            "colorbar": {
             "outlinewidth": 0,
             "tickcolor": "rgb(237,237,237)",
             "ticklen": 6,
             "ticks": "inside"
            },
            "colorscale": [
             [
              0,
              "rgb(20,44,66)"
             ],
             [
              1,
              "rgb(90,179,244)"
             ]
            ],
            "type": "contour"
           }
          ],
          "contourcarpet": [
           {
            "colorbar": {
             "outlinewidth": 0,
             "tickcolor": "rgb(237,237,237)",
             "ticklen": 6,
             "ticks": "inside"
            },
            "type": "contourcarpet"
           }
          ],
          "heatmap": [
           {
            "colorbar": {
             "outlinewidth": 0,
             "tickcolor": "rgb(237,237,237)",
             "ticklen": 6,
             "ticks": "inside"
            },
            "colorscale": [
             [
              0,
              "rgb(20,44,66)"
             ],
             [
              1,
              "rgb(90,179,244)"
             ]
            ],
            "type": "heatmap"
           }
          ],
          "heatmapgl": [
           {
            "colorbar": {
             "outlinewidth": 0,
             "tickcolor": "rgb(237,237,237)",
             "ticklen": 6,
             "ticks": "inside"
            },
            "colorscale": [
             [
              0,
              "rgb(20,44,66)"
             ],
             [
              1,
              "rgb(90,179,244)"
             ]
            ],
            "type": "heatmapgl"
           }
          ],
          "histogram": [
           {
            "marker": {
             "pattern": {
              "fillmode": "overlay",
              "size": 10,
              "solidity": 0.2
             }
            },
            "type": "histogram"
           }
          ],
          "histogram2d": [
           {
            "colorbar": {
             "outlinewidth": 0,
             "tickcolor": "rgb(237,237,237)",
             "ticklen": 6,
             "ticks": "inside"
            },
            "colorscale": [
             [
              0,
              "rgb(20,44,66)"
             ],
             [
              1,
              "rgb(90,179,244)"
             ]
            ],
            "type": "histogram2d"
           }
          ],
          "histogram2dcontour": [
           {
            "colorbar": {
             "outlinewidth": 0,
             "tickcolor": "rgb(237,237,237)",
             "ticklen": 6,
             "ticks": "inside"
            },
            "colorscale": [
             [
              0,
              "rgb(20,44,66)"
             ],
             [
              1,
              "rgb(90,179,244)"
             ]
            ],
            "type": "histogram2dcontour"
           }
          ],
          "mesh3d": [
           {
            "colorbar": {
             "outlinewidth": 0,
             "tickcolor": "rgb(237,237,237)",
             "ticklen": 6,
             "ticks": "inside"
            },
            "type": "mesh3d"
           }
          ],
          "parcoords": [
           {
            "line": {
             "colorbar": {
              "outlinewidth": 0,
              "tickcolor": "rgb(237,237,237)",
              "ticklen": 6,
              "ticks": "inside"
             }
            },
            "type": "parcoords"
           }
          ],
          "pie": [
           {
            "automargin": true,
            "type": "pie"
           }
          ],
          "scatter": [
           {
            "fillpattern": {
             "fillmode": "overlay",
             "size": 10,
             "solidity": 0.2
            },
            "type": "scatter"
           }
          ],
          "scatter3d": [
           {
            "line": {
             "colorbar": {
              "outlinewidth": 0,
              "tickcolor": "rgb(237,237,237)",
              "ticklen": 6,
              "ticks": "inside"
             }
            },
            "marker": {
             "colorbar": {
              "outlinewidth": 0,
              "tickcolor": "rgb(237,237,237)",
              "ticklen": 6,
              "ticks": "inside"
             }
            },
            "type": "scatter3d"
           }
          ],
          "scattercarpet": [
           {
            "marker": {
             "colorbar": {
              "outlinewidth": 0,
              "tickcolor": "rgb(237,237,237)",
              "ticklen": 6,
              "ticks": "inside"
             }
            },
            "type": "scattercarpet"
           }
          ],
          "scattergeo": [
           {
            "marker": {
             "colorbar": {
              "outlinewidth": 0,
              "tickcolor": "rgb(237,237,237)",
              "ticklen": 6,
              "ticks": "inside"
             }
            },
            "type": "scattergeo"
           }
          ],
          "scattergl": [
           {
            "marker": {
             "colorbar": {
              "outlinewidth": 0,
              "tickcolor": "rgb(237,237,237)",
              "ticklen": 6,
              "ticks": "inside"
             }
            },
            "type": "scattergl"
           }
          ],
          "scattermapbox": [
           {
            "marker": {
             "colorbar": {
              "outlinewidth": 0,
              "tickcolor": "rgb(237,237,237)",
              "ticklen": 6,
              "ticks": "inside"
             }
            },
            "type": "scattermapbox"
           }
          ],
          "scatterpolar": [
           {
            "marker": {
             "colorbar": {
              "outlinewidth": 0,
              "tickcolor": "rgb(237,237,237)",
              "ticklen": 6,
              "ticks": "inside"
             }
            },
            "type": "scatterpolar"
           }
          ],
          "scatterpolargl": [
           {
            "marker": {
             "colorbar": {
              "outlinewidth": 0,
              "tickcolor": "rgb(237,237,237)",
              "ticklen": 6,
              "ticks": "inside"
             }
            },
            "type": "scatterpolargl"
           }
          ],
          "scatterternary": [
           {
            "marker": {
             "colorbar": {
              "outlinewidth": 0,
              "tickcolor": "rgb(237,237,237)",
              "ticklen": 6,
              "ticks": "inside"
             }
            },
            "type": "scatterternary"
           }
          ],
          "surface": [
           {
            "colorbar": {
             "outlinewidth": 0,
             "tickcolor": "rgb(237,237,237)",
             "ticklen": 6,
             "ticks": "inside"
            },
            "colorscale": [
             [
              0,
              "rgb(20,44,66)"
             ],
             [
              1,
              "rgb(90,179,244)"
             ]
            ],
            "type": "surface"
           }
          ],
          "table": [
           {
            "cells": {
             "fill": {
              "color": "rgb(237,237,237)"
             },
             "line": {
              "color": "white"
             }
            },
            "header": {
             "fill": {
              "color": "rgb(217,217,217)"
             },
             "line": {
              "color": "white"
             }
            },
            "type": "table"
           }
          ]
         },
         "layout": {
          "annotationdefaults": {
           "arrowhead": 0,
           "arrowwidth": 1
          },
          "autotypenumbers": "strict",
          "coloraxis": {
           "colorbar": {
            "outlinewidth": 0,
            "tickcolor": "rgb(237,237,237)",
            "ticklen": 6,
            "ticks": "inside"
           }
          },
          "colorscale": {
           "sequential": [
            [
             0,
             "rgb(20,44,66)"
            ],
            [
             1,
             "rgb(90,179,244)"
            ]
           ],
           "sequentialminus": [
            [
             0,
             "rgb(20,44,66)"
            ],
            [
             1,
             "rgb(90,179,244)"
            ]
           ]
          },
          "colorway": [
           "#F8766D",
           "#A3A500",
           "#00BF7D",
           "#00B0F6",
           "#E76BF3"
          ],
          "font": {
           "color": "rgb(51,51,51)"
          },
          "geo": {
           "bgcolor": "white",
           "lakecolor": "white",
           "landcolor": "rgb(237,237,237)",
           "showlakes": true,
           "showland": true,
           "subunitcolor": "white"
          },
          "hoverlabel": {
           "align": "left"
          },
          "hovermode": "closest",
          "paper_bgcolor": "white",
          "plot_bgcolor": "rgb(237,237,237)",
          "polar": {
           "angularaxis": {
            "gridcolor": "white",
            "linecolor": "white",
            "showgrid": true,
            "tickcolor": "rgb(51,51,51)",
            "ticks": "outside"
           },
           "bgcolor": "rgb(237,237,237)",
           "radialaxis": {
            "gridcolor": "white",
            "linecolor": "white",
            "showgrid": true,
            "tickcolor": "rgb(51,51,51)",
            "ticks": "outside"
           }
          },
          "scene": {
           "xaxis": {
            "backgroundcolor": "rgb(237,237,237)",
            "gridcolor": "white",
            "gridwidth": 2,
            "linecolor": "white",
            "showbackground": true,
            "showgrid": true,
            "tickcolor": "rgb(51,51,51)",
            "ticks": "outside",
            "zerolinecolor": "white"
           },
           "yaxis": {
            "backgroundcolor": "rgb(237,237,237)",
            "gridcolor": "white",
            "gridwidth": 2,
            "linecolor": "white",
            "showbackground": true,
            "showgrid": true,
            "tickcolor": "rgb(51,51,51)",
            "ticks": "outside",
            "zerolinecolor": "white"
           },
           "zaxis": {
            "backgroundcolor": "rgb(237,237,237)",
            "gridcolor": "white",
            "gridwidth": 2,
            "linecolor": "white",
            "showbackground": true,
            "showgrid": true,
            "tickcolor": "rgb(51,51,51)",
            "ticks": "outside",
            "zerolinecolor": "white"
           }
          },
          "shapedefaults": {
           "fillcolor": "black",
           "line": {
            "width": 0
           },
           "opacity": 0.3
          },
          "ternary": {
           "aaxis": {
            "gridcolor": "white",
            "linecolor": "white",
            "showgrid": true,
            "tickcolor": "rgb(51,51,51)",
            "ticks": "outside"
           },
           "baxis": {
            "gridcolor": "white",
            "linecolor": "white",
            "showgrid": true,
            "tickcolor": "rgb(51,51,51)",
            "ticks": "outside"
           },
           "bgcolor": "rgb(237,237,237)",
           "caxis": {
            "gridcolor": "white",
            "linecolor": "white",
            "showgrid": true,
            "tickcolor": "rgb(51,51,51)",
            "ticks": "outside"
           }
          },
          "xaxis": {
           "automargin": true,
           "gridcolor": "white",
           "linecolor": "white",
           "showgrid": true,
           "tickcolor": "rgb(51,51,51)",
           "ticks": "outside",
           "title": {
            "standoff": 15
           },
           "zerolinecolor": "white"
          },
          "yaxis": {
           "automargin": true,
           "gridcolor": "white",
           "linecolor": "white",
           "showgrid": true,
           "tickcolor": "rgb(51,51,51)",
           "ticks": "outside",
           "title": {
            "standoff": 15
           },
           "zerolinecolor": "white"
          }
         }
        },
        "title": {
         "text": ""
        },
        "xaxis": {
         "anchor": "y",
         "domain": [
          0,
          1
         ],
         "tickfont": {
          "size": 16
         },
         "title": {
          "text": "Minimum degree for selected genes"
         }
        },
        "yaxis": {
         "anchor": "x",
         "domain": [
          0,
          1
         ],
         "range": [
          0,
          105
         ],
         "tickfont": {
          "size": 16
         },
         "title": {
          "text": "% of genes included"
         }
        }
       }
      }
     },
     "metadata": {},
     "output_type": "display_data"
    }
   ],
   "source": [
    "fig = px.line(\n",
    "    comb_chgs,\n",
    "    x=\"TF_edges\",\n",
    "    y=\"Prct_mean\",\n",
    "    error_y=\"Prct_std\",\n",
    "    color=\"Type\",\n",
    "    color_discrete_map=color_map,\n",
    "    markers=True,\n",
    "    title=\"% TF used in calculating the MEV\",\n",
    "    height=600,\n",
    ")\n",
    "fig.update_layout(\n",
    "    legend=dict(\n",
    "        orientation=\"h\",\n",
    "        # title=\"Type\",\n",
    "        yanchor=\"bottom\",\n",
    "        y=0.18,\n",
    "        xanchor=\"center\",\n",
    "        x=0.5,\n",
    "        bgcolor=\"rgba(0,0,0,0)\",\n",
    "        font=dict(size=16),\n",
    "    ),\n",
    "    title=\"\",\n",
    "    template=\"ggplot2\",  # \"ggplot2\", \"plotly_white\"\n",
    "    paper_bgcolor=\"rgba(0,0,0,0)\",\n",
    "    # plot_bgcolor=\"rgba(0,0,0,0)\",\n",
    "    xaxis=dict(\n",
    "        tickfont=dict(size=16),\n",
    "        title_font=dict(\n",
    "            size=16,\n",
    "        ),\n",
    "        title=\"Minimum degree for selected genes\",\n",
    "    ),\n",
    "    yaxis=dict(\n",
    "        tickfont=dict(size=16),\n",
    "        title_font=dict(\n",
    "            size=16,\n",
    "        ),\n",
    "        title=\"% of genes included\",\n",
    "        range=[0, 105],\n",
    "    ),\n",
    "    font=dict(size=16),\n",
    ")\n",
    "# fig = fig.update_yaxes(title_text=\"% of genes included\", range=[0, 105], tickfont=dict(size=14), title_font=dict(size=16))\n",
    "fig.update_traces(line_width=5, marker_size=12, error_y=dict(width=5))\n",
    "save_fig(name=\"ctrls_min_dig_mev\", fig=fig, base_path=figures_path, width=1200, height=600)\n",
    "fig.show()"
   ]
  },
  {
   "cell_type": "code",
   "execution_count": null,
   "metadata": {},
   "outputs": [],
   "source": [
    "# for development\n",
    "if False:\n",
    "    for key in range(1, 3, 1):\n",
    "        display(plot_single_ctrl(ctrl_exps, key=key), tf_list=tf_list)"
   ]
  },
  {
   "cell_type": "markdown",
   "metadata": {},
   "source": [
    "## Find common genes in TFs"
   ]
  },
  {
   "cell_type": "code",
   "execution_count": 53,
   "metadata": {},
   "outputs": [],
   "source": [
    "for key, val in ctrl_exps.items():\n",
    "    tf_chgs = tf_modCon_exps(val[\"exps\"], tf_range=tf_range)"
   ]
  },
  {
   "cell_type": "code",
   "execution_count": 55,
   "metadata": {},
   "outputs": [
    {
     "name": "stdout",
     "output_type": "stream",
     "text": [
      "TFs mutated but not expressed: \n"
     ]
    },
    {
     "data": {
      "text/html": [
       "<div>\n",
       "<style scoped>\n",
       "    .dataframe tbody tr th:only-of-type {\n",
       "        vertical-align: middle;\n",
       "    }\n",
       "\n",
       "    .dataframe tbody tr th {\n",
       "        vertical-align: top;\n",
       "    }\n",
       "\n",
       "    .dataframe thead th {\n",
       "        text-align: right;\n",
       "    }\n",
       "</style>\n",
       "<table border=\"1\" class=\"dataframe\">\n",
       "  <thead>\n",
       "    <tr style=\"text-align: right;\">\n",
       "      <th></th>\n",
       "      <th>mut_count</th>\n",
       "      <th>tum_median_expression</th>\n",
       "      <th>healthy_median_expression</th>\n",
       "      <th>tum_mean_expression</th>\n",
       "      <th>healthy_mean_expression</th>\n",
       "      <th>tum_std_expression</th>\n",
       "      <th>healthy_std_expression</th>\n",
       "    </tr>\n",
       "  </thead>\n",
       "  <tbody>\n",
       "    <tr>\n",
       "      <th>HES2</th>\n",
       "      <td>1.0</td>\n",
       "      <td>NaN</td>\n",
       "      <td>20.831714</td>\n",
       "      <td>NaN</td>\n",
       "      <td>43.486837</td>\n",
       "      <td>NaN</td>\n",
       "      <td>55.283490</td>\n",
       "    </tr>\n",
       "    <tr>\n",
       "      <th>BNC1</th>\n",
       "      <td>7.0</td>\n",
       "      <td>NaN</td>\n",
       "      <td>13.012142</td>\n",
       "      <td>NaN</td>\n",
       "      <td>27.664774</td>\n",
       "      <td>NaN</td>\n",
       "      <td>37.200816</td>\n",
       "    </tr>\n",
       "  </tbody>\n",
       "</table>\n",
       "</div>"
      ],
      "text/plain": [
       "      mut_count  tum_median_expression  healthy_median_expression  \\\n",
       "HES2        1.0                    NaN                  20.831714   \n",
       "BNC1        7.0                    NaN                  13.012142   \n",
       "\n",
       "      tum_mean_expression  healthy_mean_expression  tum_std_expression  \\\n",
       "HES2                  NaN                43.486837                 NaN   \n",
       "BNC1                  NaN                27.664774                 NaN   \n",
       "\n",
       "      healthy_std_expression  \n",
       "HES2               55.283490  \n",
       "BNC1               37.200816  "
      ]
     },
     "metadata": {},
     "output_type": "display_data"
    }
   ],
   "source": [
    "num_genes = 100\n",
    "all_ctrls = {}\n",
    "for ctrl_exp in ctrl_exps.values():\n",
    "    all_exps = {}\n",
    "    for exp in ctrl_exp[\"exps\"].values():\n",
    "        exp_genes = []\n",
    "        for modCon in exp.gt_modCon.values():\n",
    "            top_100 = modCon.sort_values(by=[\"ModCon_{}_gt\".format(exp.type)], ascending=False).index.values[:num_genes]\n",
    "            exp_genes.extend(top_100)\n",
    "\n",
    "        # tf exploration\n",
    "        tf_used = set(exp_genes) & set(tf_list)\n",
    "        if all_exps:\n",
    "            all_exps = tf_used & all_exps\n",
    "        else:\n",
    "            all_exps = tf_used\n",
    "\n",
    "    if all_ctrls:\n",
    "        all_ctrls = all_exps & all_ctrls\n",
    "    else:\n",
    "        all_ctrls = all_exps\n",
    "\n",
    "# To save the list\n",
    "if True:\n",
    "    dmy_df = pd.DataFrame(index=list(all_ctrls))\n",
    "    dmy_df[\"mut_count\"] = tcga_mutations_df[\"count\"]\n",
    "    sel_tum_df = all_tum_tpms.loc[all_tum_tpms.index.isin(list(all_ctrls))]\n",
    "    sel_h_df = exp.tpm_df.loc[exp.tpm_df.index.isin(list(all_ctrls))]\n",
    "\n",
    "    dmy_df[\"tum_median_expression\"] = sel_tum_df.median(axis=1)\n",
    "    dmy_df[\"healthy_median_expression\"] = sel_h_df.median(axis=1)\n",
    "\n",
    "    dmy_df[\"tum_mean_expression\"] = sel_tum_df.mean(axis=1)\n",
    "    dmy_df[\"healthy_mean_expression\"] = sel_h_df.mean(axis=1)\n",
    "\n",
    "    dmy_df[\"tum_std_expression\"] = sel_tum_df.std(axis=1)\n",
    "    dmy_df[\"healthy_std_expression\"] = sel_h_df.std(axis=1)\n",
    "\n",
    "    # Some interesting info\n",
    "    print(\"TFs mutated but not expressed: \")\n",
    "    display(dmy_df[dmy_df[\"tum_median_expression\"].isna()])\n",
    "\n",
    "    dmy_df.fillna(0, inplace=True)\n",
    "    dmy_df.to_csv(data_base + \"tf_ctrl.csv\")"
   ]
  },
  {
   "cell_type": "code",
   "execution_count": null,
   "metadata": {},
   "outputs": [
    {
     "name": "stdout",
     "output_type": "stream",
     "text": [
      "TFs mutated but not expressed: \n"
     ]
    },
    {
     "data": {
      "text/html": [
       "<div>\n",
       "<style scoped>\n",
       "    .dataframe tbody tr th:only-of-type {\n",
       "        vertical-align: middle;\n",
       "    }\n",
       "\n",
       "    .dataframe tbody tr th {\n",
       "        vertical-align: top;\n",
       "    }\n",
       "\n",
       "    .dataframe thead th {\n",
       "        text-align: right;\n",
       "    }\n",
       "</style>\n",
       "<table border=\"1\" class=\"dataframe\">\n",
       "  <thead>\n",
       "    <tr style=\"text-align: right;\">\n",
       "      <th></th>\n",
       "      <th>mut_count</th>\n",
       "      <th>tum_median_expression</th>\n",
       "      <th>healthy_median_expression</th>\n",
       "      <th>tum_mean_expression</th>\n",
       "      <th>healthy_mean_expression</th>\n",
       "      <th>tum_std_expression</th>\n",
       "      <th>healthy_std_expression</th>\n",
       "    </tr>\n",
       "  </thead>\n",
       "  <tbody>\n",
       "    <tr>\n",
       "      <th>BNC1</th>\n",
       "      <td>7.0</td>\n",
       "      <td>NaN</td>\n",
       "      <td>13.012142</td>\n",
       "      <td>NaN</td>\n",
       "      <td>27.664774</td>\n",
       "      <td>NaN</td>\n",
       "      <td>37.200816</td>\n",
       "    </tr>\n",
       "    <tr>\n",
       "      <th>HES2</th>\n",
       "      <td>1.0</td>\n",
       "      <td>NaN</td>\n",
       "      <td>20.831714</td>\n",
       "      <td>NaN</td>\n",
       "      <td>43.486837</td>\n",
       "      <td>NaN</td>\n",
       "      <td>55.283490</td>\n",
       "    </tr>\n",
       "  </tbody>\n",
       "</table>\n",
       "</div>"
      ],
      "text/plain": [
       "      mut_count  tum_median_expression  healthy_median_expression  \\\n",
       "BNC1        7.0                    NaN                  13.012142   \n",
       "HES2        1.0                    NaN                  20.831714   \n",
       "\n",
       "      tum_mean_expression  healthy_mean_expression  tum_std_expression  \\\n",
       "BNC1                  NaN                27.664774                 NaN   \n",
       "HES2                  NaN                43.486837                 NaN   \n",
       "\n",
       "      healthy_std_expression  \n",
       "BNC1               37.200816  \n",
       "HES2               55.283490  "
      ]
     },
     "metadata": {},
     "output_type": "display_data"
    }
   ],
   "source": [
    "dmy_df[\"mut_count\"] = tcga_mutations_df[\"count\"]\n",
    "sel_tum_df = all_tum_tpms.loc[all_tum_tpms.index.isin(list(all_ctrls))]\n",
    "sel_h_df = exp.tpm_df.loc[exp.tpm_df.index.isin(list(all_ctrls))]\n",
    "\n",
    "dmy_df[\"tum_median_expression\"] = sel_tum_df.median(axis=1)\n",
    "dmy_df[\"healthy_median_expression\"] = sel_h_df.median(axis=1)\n",
    "\n",
    "dmy_df[\"tum_mean_expression\"] = sel_tum_df.mean(axis=1)\n",
    "dmy_df[\"healthy_mean_expression\"] = sel_h_df.mean(axis=1)\n",
    "\n",
    "dmy_df[\"tum_std_expression\"] = sel_tum_df.std(axis=1)\n",
    "dmy_df[\"healthy_std_expression\"] = sel_h_df.std(axis=1)\n",
    "\n",
    "# Some interesting info\n",
    "print(\"TFs mutated but not expressed: \")\n",
    "display(dmy_df[dmy_df[\"tum_median_expression\"].isna()])\n",
    "\n",
    "dmy_df.fillna(0, inplace=True)\n",
    "dmy_df.to_csv(data_base + \"tf_ctrl.csv\")"
   ]
  },
  {
   "cell_type": "code",
   "execution_count": 56,
   "metadata": {},
   "outputs": [],
   "source": [
    "tst_df = dmy_df.reset_index(names=\"gene\")\n",
    "tst_df = tst_df[~tst_df[\"gene\"].isin([\"ELF3\", \"JUNB\"])]\n",
    "fig = px.scatter(\n",
    "    tst_df,\n",
    "    x=\"tum_mean_expression\",\n",
    "    y=\"healthy_mean_expression\",\n",
    "    # error_x=\"tum_std_expression\",\n",
    "    # error_y=\"healthy_std_expression\",\n",
    "    # text=\"gene\",\n",
    "    color=\"mut_count\",\n",
    "    size=\"mut_count\",\n",
    "    hover_data=\"gene\",\n",
    "    height=700,\n",
    ")\n",
    "# Get the top 10 genes with highest healthy median expression\n",
    "top_genes_h = tst_df.nlargest(10, \"healthy_median_expression\")[\"gene\"].tolist()\n",
    "top_genes_t = tst_df.nlargest(10, \"tum_median_expression\")[\"gene\"].tolist()\n",
    "top_genes_m = tst_df.nlargest(10, \"mut_count\")[\"gene\"].tolist()\n",
    "\n",
    "top_genes = list(set(top_genes_h + top_genes_t + top_genes_m))\n",
    "top_genes.extend([\"FOSL1\", \"FOXQ1\", \"ERF\", \"MYCL\", \"STAT2\", \"IRF7\", \"CIC\", \"MBD6\", \"ZNF750\", \"ZNF513\"])\n",
    "chg_genes = [\"KMT2A\", \"SPEN\", \"MEDCOM\", \"ERF\", \"AHR\", \"STAT2\", \"MBD6\", \"ZNF513\", \"TRERF1\"]\n",
    "# Add text annotation for the top 10 genes\n",
    "for idx, gene in enumerate(top_genes):\n",
    "    x = tst_df.loc[tst_df[\"gene\"] == gene, \"tum_mean_expression\"].values[0]\n",
    "    y = tst_df.loc[tst_df[\"gene\"] == gene, \"healthy_mean_expression\"].values[0]\n",
    "    ay = -30\n",
    "    if idx % 2:\n",
    "        ax = 5\n",
    "    else:\n",
    "        ax = -5\n",
    "\n",
    "    if gene in chg_genes:\n",
    "        ax = -ax\n",
    "        ay = -ay\n",
    "\n",
    "    fig.add_annotation(x=x, y=y, text=gene, showarrow=True, arrowhead=1, ax=ax, ay=ay)\n",
    "\n",
    "save_fig(name=\"ctrlTFs\", fig=fig, width=1600, height=700, base_path=figures_path)"
   ]
  },
  {
   "cell_type": "code",
   "execution_count": 57,
   "metadata": {},
   "outputs": [
    {
     "data": {
      "application/vnd.plotly.v1+json": {
       "config": {
        "plotlyServerURL": "https://plot.ly"
       },
       "data": [
        {
         "customdata": [
          [
           "TMF1"
          ],
          [
           "TGIF1"
          ],
          [
           "TRERF1"
          ],
          [
           "ZBTB10"
          ],
          [
           "NFATC4"
          ],
          [
           "DBP"
          ],
          [
           "HES2"
          ],
          [
           "SP100"
          ],
          [
           "SPEN"
          ],
          [
           "MAFG"
          ],
          [
           "EGR1"
          ],
          [
           "ZNF513"
          ],
          [
           "ZNF609"
          ],
          [
           "ETS2"
          ],
          [
           "ZSCAN16"
          ],
          [
           "ATF3"
          ],
          [
           "ATMIN"
          ],
          [
           "AHR"
          ],
          [
           "LCOR"
          ],
          [
           "ZBTB21"
          ],
          [
           "FOSL2"
          ],
          [
           "ZNF552"
          ],
          [
           "MAFK"
          ],
          [
           "CASZ1"
          ],
          [
           "ANKZF1"
          ],
          [
           "BNC1"
          ],
          [
           "TCF20"
          ],
          [
           "SP1"
          ],
          [
           "BCL6"
          ],
          [
           "MYCL"
          ],
          [
           "ETV7"
          ],
          [
           "KLF4"
          ],
          [
           "SP110"
          ],
          [
           "FOXQ1"
          ],
          [
           "ZNF335"
          ],
          [
           "SAFB2"
          ],
          [
           "SKI"
          ],
          [
           "POGK"
          ],
          [
           "MSX2"
          ],
          [
           "MAFF"
          ],
          [
           "FOSL1"
          ],
          [
           "RUNX1"
          ],
          [
           "OVOL1"
          ],
          [
           "HIVEP1"
          ],
          [
           "NFAT5"
          ],
          [
           "KLF5"
          ],
          [
           "ZNF750"
          ],
          [
           "PHF1"
          ],
          [
           "EBF4"
          ],
          [
           "NR4A2"
          ],
          [
           "STAT1"
          ],
          [
           "MBD6"
          ],
          [
           "JRK"
          ],
          [
           "KLF6"
          ],
          [
           "DOT1L"
          ],
          [
           "IRF9"
          ],
          [
           "FOXJ3"
          ],
          [
           "ETS1"
          ],
          [
           "ZBTB4"
          ],
          [
           "ZNF846"
          ],
          [
           "BHLHE41"
          ],
          [
           "MECOM"
          ],
          [
           "SATB1"
          ],
          [
           "ZNF524"
          ],
          [
           "IRF7"
          ],
          [
           "ETV3"
          ],
          [
           "HIVEP2"
          ],
          [
           "ERF"
          ],
          [
           "IRF6"
          ],
          [
           "ZBTB7C"
          ],
          [
           "TEAD1"
          ],
          [
           "ZNF276"
          ],
          [
           "PLSCR1"
          ],
          [
           "MSANTD3"
          ],
          [
           "STAT2"
          ],
          [
           "ARID5B"
          ],
          [
           "SLC2A4RG"
          ],
          [
           "ELK4"
          ],
          [
           "KLF16"
          ],
          [
           "HOXB6"
          ],
          [
           "CIC"
          ],
          [
           "ZNF586"
          ],
          [
           "KMT2A"
          ],
          [
           "SRF"
          ],
          [
           "ELF4"
          ],
          [
           "ZNF211"
          ],
          [
           "ZXDB"
          ],
          [
           "MBD1"
          ],
          [
           "FBXL19"
          ],
          [
           "REL"
          ],
          [
           "GRHL3"
          ],
          [
           "JUN"
          ],
          [
           "REPIN1"
          ],
          [
           "TP63"
          ],
          [
           "ZNF224"
          ],
          [
           "NFIL3"
          ]
         ],
         "hovertemplate": "tum_mean_expression=%{x}<br>healthy_mean_expression=%{y}<br>mut_count=%{marker.color}<br>gene=%{customdata[0]}<extra></extra>",
         "legendgroup": "",
         "marker": {
          "color": [
           9,
           4,
           15,
           1,
           7,
           2,
           1,
           14,
           26,
           1,
           8,
           11,
           7,
           5,
           0,
           0,
           10,
           23,
           3,
           11,
           4,
           3,
           1,
           8,
           8,
           7,
           11,
           9,
           3,
           3,
           2,
           3,
           3,
           13,
           12,
           5,
           1,
           8,
           1,
           0,
           4,
           11,
           0,
           17,
           13,
           21,
           13,
           9,
           0,
           4,
           10,
           13,
           3,
           8,
           16,
           3,
           5,
           5,
           5,
           6,
           5,
           16,
           6,
           2,
           4,
           1,
           19,
           3,
           4,
           4,
           2,
           9,
           4,
           2,
           3,
           8,
           2,
           6,
           1,
           6,
           11,
           3,
           44,
           4,
           6,
           5,
           5,
           9,
           4,
           6,
           4,
           4,
           2,
           14,
           10,
           2
          ],
          "coloraxis": "coloraxis",
          "size": [
           9,
           4,
           15,
           1,
           7,
           2,
           1,
           14,
           26,
           1,
           8,
           11,
           7,
           5,
           0,
           0,
           10,
           23,
           3,
           11,
           4,
           3,
           1,
           8,
           8,
           7,
           11,
           9,
           3,
           3,
           2,
           3,
           3,
           13,
           12,
           5,
           1,
           8,
           1,
           0,
           4,
           11,
           0,
           17,
           13,
           21,
           13,
           9,
           0,
           4,
           10,
           13,
           3,
           8,
           16,
           3,
           5,
           5,
           5,
           6,
           5,
           16,
           6,
           2,
           4,
           1,
           19,
           3,
           4,
           4,
           2,
           9,
           4,
           2,
           3,
           8,
           2,
           6,
           1,
           6,
           11,
           3,
           44,
           4,
           6,
           5,
           5,
           9,
           4,
           6,
           4,
           4,
           2,
           14,
           10,
           2
          ],
          "sizemode": "area",
          "sizeref": 0.11,
          "symbol": "circle"
         },
         "mode": "markers",
         "name": "",
         "orientation": "v",
         "showlegend": false,
         "type": "scatter",
         "x": [
          12.817861856070653,
          124.43811363108992,
          5.911184093837096,
          3.5529659849651543,
          29.614569364252795,
          16.084168296015577,
          0,
          48.27704115985758,
          26.004896312367205,
          9.130586520928295,
          81.5145082891235,
          19.81694835760088,
          7.23111392036934,
          95.53007199386418,
          9.083989243733358,
          63.287013628323244,
          21.869719780816457,
          49.499554388482196,
          6.392480066396653,
          3.710674323918852,
          66.50523990339761,
          15.943636388704912,
          25.594870729401396,
          10.276725588162998,
          26.73897460552645,
          0,
          14.188384097710552,
          22.87731925863628,
          36.987536209181,
          61.86436356337203,
          14.95512647247099,
          23.83386197816912,
          22.807975373851363,
          66.21587978317328,
          10.463752672295724,
          53.34063941526225,
          16.526632247771232,
          28.486643781193717,
          25.084071237068493,
          34.07135525046273,
          34.62845218780764,
          20.652526612676297,
          26.826097370679758,
          8.430757553315035,
          4.684481408832633,
          182.88076323772006,
          19.505706979187366,
          50.822475065107085,
          11.189817176117721,
          7.148594085399656,
          138.28477377595416,
          32.94903795850008,
          17.123122824743916,
          61.44407966990062,
          10.07394156147591,
          106.79700498131045,
          14.998822356710798,
          27.79407994118263,
          18.005315690342236,
          13.924819139646033,
          35.15669020833797,
          24.750108342593393,
          12.768512994069608,
          27.150901483277092,
          41.45279257584409,
          13.075338400948645,
          5.820346255814061,
          34.86894121454798,
          72.58478188041218,
          13.548377557207731,
          8.365250258828759,
          18.491843593628097,
          78.16709036904048,
          17.531992937065482,
          51.32992219358324,
          10.676913290545171,
          123.68077551600813,
          8.57470578097096,
          15.074376835052462,
          14.611276149598265,
          32.59709492659463,
          8.762264566921747,
          10.548794245374145,
          20.404089779757808,
          25.231192580799906,
          11.824008139231097,
          3.089625246557579,
          34.030468163320826,
          19.36335448344265,
          4.794091356710714,
          56.16940915388931,
          95.80691707774893,
          51.52381972136205,
          43.93237363012708,
          10.041298985244344,
          19.86691751294326
         ],
         "xaxis": "x",
         "y": [
          32.09272238540509,
          158.56409996503555,
          11.768746640290772,
          7.196492939215941,
          30.76212349564308,
          14.416333301229853,
          43.486837284545565,
          113.19077027167121,
          27.190127446208873,
          22.637169785149595,
          122.56798588554551,
          25.028224034955496,
          19.041838737731155,
          285.1021974226162,
          10.935930967818257,
          299.64228639044563,
          27.659944660560495,
          108.70847209041658,
          16.798150364001874,
          12.239118487753956,
          108.47414560407064,
          48.95634723291293,
          86.47037331480318,
          10.091017241738836,
          19.416503121719657,
          27.66477371136217,
          20.30499808797609,
          36.56704810766293,
          61.87302560459845,
          46.74727909341081,
          12.56356451788504,
          40.65173820534135,
          25.57847077127344,
          96.8255676969963,
          13.606885077253757,
          58.610141178007986,
          17.5204406457645,
          22.255640988033225,
          38.4429415417406,
          184.17282853346495,
          136.4197850313816,
          32.34116839594106,
          63.549635789157634,
          14.249342341414645,
          16.319613231895463,
          423.9277557852147,
          26.38971236478501,
          41.68681039455326,
          11.696437282437175,
          18.885395239735644,
          155.71979756446325,
          34.0075427022411,
          52.60025089853661,
          345.56559794145164,
          17.61646948973636,
          79.40542381193858,
          28.099955469391055,
          50.31181537880605,
          46.69090316602318,
          21.1269786897636,
          61.47499679189278,
          56.44950829471248,
          24.45566869514798,
          24.191625965318426,
          37.08032796183377,
          53.71194884136744,
          27.192096906946052,
          59.48897616514891,
          180.05944558210172,
          9.166898079074459,
          26.02313461340584,
          14.259474901208034,
          173.89890942447062,
          25.570569577208314,
          37.91015442693567,
          15.203303456605472,
          63.015542525755656,
          14.985283661027143,
          33.823894543586064,
          63.353477970462656,
          29.018125094222043,
          16.575836775507995,
          19.495427133680142,
          25.024739273657726,
          34.156162167884595,
          14.510514442922892,
          12.934440150282274,
          69.60218139993329,
          25.0519139502201,
          22.346170777610165,
          63.391262237908315,
          330.5375346208518,
          50.57121558534095,
          50.05486252456931,
          13.715298534194227,
          25.527680085532143
         ],
         "yaxis": "y"
        }
       ],
       "layout": {
        "annotations": [
         {
          "arrowhead": 1,
          "ax": -5,
          "ay": -30,
          "showarrow": true,
          "text": "TGIF1",
          "x": 124.43811363108992,
          "y": 158.56409996503555
         },
         {
          "arrowhead": 1,
          "ax": 5,
          "ay": -30,
          "showarrow": true,
          "text": "SLC2A4RG",
          "x": 123.68077551600813,
          "y": 63.015542525755656
         },
         {
          "arrowhead": 1,
          "ax": 5,
          "ay": 30,
          "showarrow": true,
          "text": "TRERF1",
          "x": 5.911184093837096,
          "y": 11.768746640290772
         },
         {
          "arrowhead": 1,
          "ax": 5,
          "ay": -30,
          "showarrow": true,
          "text": "KLF6",
          "x": 61.44407966990062,
          "y": 345.56559794145164
         },
         {
          "arrowhead": 1,
          "ax": -5,
          "ay": -30,
          "showarrow": true,
          "text": "DOT1L",
          "x": 10.07394156147591,
          "y": 17.61646948973636
         },
         {
          "arrowhead": 1,
          "ax": 5,
          "ay": -30,
          "showarrow": true,
          "text": "IRF9",
          "x": 106.79700498131045,
          "y": 79.40542381193858
         },
         {
          "arrowhead": 1,
          "ax": -5,
          "ay": -30,
          "showarrow": true,
          "text": "SP100",
          "x": 48.27704115985758,
          "y": 113.19077027167121
         },
         {
          "arrowhead": 1,
          "ax": -5,
          "ay": 30,
          "showarrow": true,
          "text": "SPEN",
          "x": 26.004896312367205,
          "y": 27.190127446208873
         },
         {
          "arrowhead": 1,
          "ax": 5,
          "ay": 30,
          "showarrow": true,
          "text": "KMT2A",
          "x": 10.548794245374145,
          "y": 19.495427133680142
         },
         {
          "arrowhead": 1,
          "ax": 5,
          "ay": -30,
          "showarrow": true,
          "text": "MECOM",
          "x": 24.750108342593393,
          "y": 56.44950829471248
         },
         {
          "arrowhead": 1,
          "ax": -5,
          "ay": -30,
          "showarrow": true,
          "text": "ETS2",
          "x": 95.53007199386418,
          "y": 285.1021974226162
         },
         {
          "arrowhead": 1,
          "ax": 5,
          "ay": -30,
          "showarrow": true,
          "text": "MAFF",
          "x": 34.07135525046273,
          "y": 184.17282853346495
         },
         {
          "arrowhead": 1,
          "ax": 5,
          "ay": 30,
          "showarrow": true,
          "text": "AHR",
          "x": 49.499554388482196,
          "y": 108.70847209041658
         },
         {
          "arrowhead": 1,
          "ax": 5,
          "ay": -30,
          "showarrow": true,
          "text": "HIVEP1",
          "x": 8.430757553315035,
          "y": 14.249342341414645
         },
         {
          "arrowhead": 1,
          "ax": -5,
          "ay": -30,
          "showarrow": true,
          "text": "JUN",
          "x": 95.80691707774893,
          "y": 330.5375346208518
         },
         {
          "arrowhead": 1,
          "ax": 5,
          "ay": -30,
          "showarrow": true,
          "text": "HIVEP2",
          "x": 5.820346255814061,
          "y": 27.192096906946052
         },
         {
          "arrowhead": 1,
          "ax": -5,
          "ay": -30,
          "showarrow": true,
          "text": "FOSL2",
          "x": 66.50523990339761,
          "y": 108.47414560407064
         },
         {
          "arrowhead": 1,
          "ax": 5,
          "ay": -30,
          "showarrow": true,
          "text": "IRF6",
          "x": 72.58478188041218,
          "y": 180.05944558210172
         },
         {
          "arrowhead": 1,
          "ax": -5,
          "ay": -30,
          "showarrow": true,
          "text": "KLF5",
          "x": 182.88076323772006,
          "y": 423.9277557852147
         },
         {
          "arrowhead": 1,
          "ax": 5,
          "ay": -30,
          "showarrow": true,
          "text": "PLSCR1",
          "x": 78.16709036904048,
          "y": 173.89890942447062
         },
         {
          "arrowhead": 1,
          "ax": -5,
          "ay": -30,
          "showarrow": true,
          "text": "STAT1",
          "x": 138.28477377595416,
          "y": 155.71979756446325
         },
         {
          "arrowhead": 1,
          "ax": 5,
          "ay": -30,
          "showarrow": true,
          "text": "FOSL1",
          "x": 34.62845218780764,
          "y": 136.4197850313816
         },
         {
          "arrowhead": 1,
          "ax": -5,
          "ay": -30,
          "showarrow": true,
          "text": "FOXQ1",
          "x": 66.21587978317328,
          "y": 96.8255676969963
         },
         {
          "arrowhead": 1,
          "ax": -5,
          "ay": 30,
          "showarrow": true,
          "text": "ERF",
          "x": 34.86894121454798,
          "y": 59.48897616514891
         },
         {
          "arrowhead": 1,
          "ax": -5,
          "ay": -30,
          "showarrow": true,
          "text": "MYCL",
          "x": 61.86436356337203,
          "y": 46.74727909341081
         },
         {
          "arrowhead": 1,
          "ax": -5,
          "ay": 30,
          "showarrow": true,
          "text": "STAT2",
          "x": 51.32992219358324,
          "y": 37.91015442693567
         },
         {
          "arrowhead": 1,
          "ax": -5,
          "ay": -30,
          "showarrow": true,
          "text": "IRF7",
          "x": 41.45279257584409,
          "y": 37.08032796183377
         },
         {
          "arrowhead": 1,
          "ax": 5,
          "ay": -30,
          "showarrow": true,
          "text": "CIC",
          "x": 32.59709492659463,
          "y": 29.018125094222043
         },
         {
          "arrowhead": 1,
          "ax": 5,
          "ay": 30,
          "showarrow": true,
          "text": "MBD6",
          "x": 32.94903795850008,
          "y": 34.0075427022411
         },
         {
          "arrowhead": 1,
          "ax": 5,
          "ay": -30,
          "showarrow": true,
          "text": "ZNF750",
          "x": 19.505706979187366,
          "y": 26.38971236478501
         },
         {
          "arrowhead": 1,
          "ax": 5,
          "ay": 30,
          "showarrow": true,
          "text": "ZNF513",
          "x": 19.81694835760088,
          "y": 25.028224034955496
         }
        ],
        "coloraxis": {
         "colorbar": {
          "title": {
           "text": "mut_count"
          }
         },
         "colorscale": [
          [
           0,
           "#0d0887"
          ],
          [
           0.1111111111111111,
           "#46039f"
          ],
          [
           0.2222222222222222,
           "#7201a8"
          ],
          [
           0.3333333333333333,
           "#9c179e"
          ],
          [
           0.4444444444444444,
           "#bd3786"
          ],
          [
           0.5555555555555556,
           "#d8576b"
          ],
          [
           0.6666666666666666,
           "#ed7953"
          ],
          [
           0.7777777777777778,
           "#fb9f3a"
          ],
          [
           0.8888888888888888,
           "#fdca26"
          ],
          [
           1,
           "#f0f921"
          ]
         ]
        },
        "height": 700,
        "legend": {
         "itemsizing": "constant",
         "tracegroupgap": 0
        },
        "margin": {
         "t": 60
        },
        "template": {
         "data": {
          "bar": [
           {
            "error_x": {
             "color": "#2a3f5f"
            },
            "error_y": {
             "color": "#2a3f5f"
            },
            "marker": {
             "line": {
              "color": "#E5ECF6",
              "width": 0.5
             },
             "pattern": {
              "fillmode": "overlay",
              "size": 10,
              "solidity": 0.2
             }
            },
            "type": "bar"
           }
          ],
          "barpolar": [
           {
            "marker": {
             "line": {
              "color": "#E5ECF6",
              "width": 0.5
             },
             "pattern": {
              "fillmode": "overlay",
              "size": 10,
              "solidity": 0.2
             }
            },
            "type": "barpolar"
           }
          ],
          "carpet": [
           {
            "aaxis": {
             "endlinecolor": "#2a3f5f",
             "gridcolor": "white",
             "linecolor": "white",
             "minorgridcolor": "white",
             "startlinecolor": "#2a3f5f"
            },
            "baxis": {
             "endlinecolor": "#2a3f5f",
             "gridcolor": "white",
             "linecolor": "white",
             "minorgridcolor": "white",
             "startlinecolor": "#2a3f5f"
            },
            "type": "carpet"
           }
          ],
          "choropleth": [
           {
            "colorbar": {
             "outlinewidth": 0,
             "ticks": ""
            },
            "type": "choropleth"
           }
          ],
          "contour": [
           {
            "colorbar": {
             "outlinewidth": 0,
             "ticks": ""
            },
            "colorscale": [
             [
              0,
              "#0d0887"
             ],
             [
              0.1111111111111111,
              "#46039f"
             ],
             [
              0.2222222222222222,
              "#7201a8"
             ],
             [
              0.3333333333333333,
              "#9c179e"
             ],
             [
              0.4444444444444444,
              "#bd3786"
             ],
             [
              0.5555555555555556,
              "#d8576b"
             ],
             [
              0.6666666666666666,
              "#ed7953"
             ],
             [
              0.7777777777777778,
              "#fb9f3a"
             ],
             [
              0.8888888888888888,
              "#fdca26"
             ],
             [
              1,
              "#f0f921"
             ]
            ],
            "type": "contour"
           }
          ],
          "contourcarpet": [
           {
            "colorbar": {
             "outlinewidth": 0,
             "ticks": ""
            },
            "type": "contourcarpet"
           }
          ],
          "heatmap": [
           {
            "colorbar": {
             "outlinewidth": 0,
             "ticks": ""
            },
            "colorscale": [
             [
              0,
              "#0d0887"
             ],
             [
              0.1111111111111111,
              "#46039f"
             ],
             [
              0.2222222222222222,
              "#7201a8"
             ],
             [
              0.3333333333333333,
              "#9c179e"
             ],
             [
              0.4444444444444444,
              "#bd3786"
             ],
             [
              0.5555555555555556,
              "#d8576b"
             ],
             [
              0.6666666666666666,
              "#ed7953"
             ],
             [
              0.7777777777777778,
              "#fb9f3a"
             ],
             [
              0.8888888888888888,
              "#fdca26"
             ],
             [
              1,
              "#f0f921"
             ]
            ],
            "type": "heatmap"
           }
          ],
          "heatmapgl": [
           {
            "colorbar": {
             "outlinewidth": 0,
             "ticks": ""
            },
            "colorscale": [
             [
              0,
              "#0d0887"
             ],
             [
              0.1111111111111111,
              "#46039f"
             ],
             [
              0.2222222222222222,
              "#7201a8"
             ],
             [
              0.3333333333333333,
              "#9c179e"
             ],
             [
              0.4444444444444444,
              "#bd3786"
             ],
             [
              0.5555555555555556,
              "#d8576b"
             ],
             [
              0.6666666666666666,
              "#ed7953"
             ],
             [
              0.7777777777777778,
              "#fb9f3a"
             ],
             [
              0.8888888888888888,
              "#fdca26"
             ],
             [
              1,
              "#f0f921"
             ]
            ],
            "type": "heatmapgl"
           }
          ],
          "histogram": [
           {
            "marker": {
             "pattern": {
              "fillmode": "overlay",
              "size": 10,
              "solidity": 0.2
             }
            },
            "type": "histogram"
           }
          ],
          "histogram2d": [
           {
            "colorbar": {
             "outlinewidth": 0,
             "ticks": ""
            },
            "colorscale": [
             [
              0,
              "#0d0887"
             ],
             [
              0.1111111111111111,
              "#46039f"
             ],
             [
              0.2222222222222222,
              "#7201a8"
             ],
             [
              0.3333333333333333,
              "#9c179e"
             ],
             [
              0.4444444444444444,
              "#bd3786"
             ],
             [
              0.5555555555555556,
              "#d8576b"
             ],
             [
              0.6666666666666666,
              "#ed7953"
             ],
             [
              0.7777777777777778,
              "#fb9f3a"
             ],
             [
              0.8888888888888888,
              "#fdca26"
             ],
             [
              1,
              "#f0f921"
             ]
            ],
            "type": "histogram2d"
           }
          ],
          "histogram2dcontour": [
           {
            "colorbar": {
             "outlinewidth": 0,
             "ticks": ""
            },
            "colorscale": [
             [
              0,
              "#0d0887"
             ],
             [
              0.1111111111111111,
              "#46039f"
             ],
             [
              0.2222222222222222,
              "#7201a8"
             ],
             [
              0.3333333333333333,
              "#9c179e"
             ],
             [
              0.4444444444444444,
              "#bd3786"
             ],
             [
              0.5555555555555556,
              "#d8576b"
             ],
             [
              0.6666666666666666,
              "#ed7953"
             ],
             [
              0.7777777777777778,
              "#fb9f3a"
             ],
             [
              0.8888888888888888,
              "#fdca26"
             ],
             [
              1,
              "#f0f921"
             ]
            ],
            "type": "histogram2dcontour"
           }
          ],
          "mesh3d": [
           {
            "colorbar": {
             "outlinewidth": 0,
             "ticks": ""
            },
            "type": "mesh3d"
           }
          ],
          "parcoords": [
           {
            "line": {
             "colorbar": {
              "outlinewidth": 0,
              "ticks": ""
             }
            },
            "type": "parcoords"
           }
          ],
          "pie": [
           {
            "automargin": true,
            "type": "pie"
           }
          ],
          "scatter": [
           {
            "fillpattern": {
             "fillmode": "overlay",
             "size": 10,
             "solidity": 0.2
            },
            "type": "scatter"
           }
          ],
          "scatter3d": [
           {
            "line": {
             "colorbar": {
              "outlinewidth": 0,
              "ticks": ""
             }
            },
            "marker": {
             "colorbar": {
              "outlinewidth": 0,
              "ticks": ""
             }
            },
            "type": "scatter3d"
           }
          ],
          "scattercarpet": [
           {
            "marker": {
             "colorbar": {
              "outlinewidth": 0,
              "ticks": ""
             }
            },
            "type": "scattercarpet"
           }
          ],
          "scattergeo": [
           {
            "marker": {
             "colorbar": {
              "outlinewidth": 0,
              "ticks": ""
             }
            },
            "type": "scattergeo"
           }
          ],
          "scattergl": [
           {
            "marker": {
             "colorbar": {
              "outlinewidth": 0,
              "ticks": ""
             }
            },
            "type": "scattergl"
           }
          ],
          "scattermapbox": [
           {
            "marker": {
             "colorbar": {
              "outlinewidth": 0,
              "ticks": ""
             }
            },
            "type": "scattermapbox"
           }
          ],
          "scatterpolar": [
           {
            "marker": {
             "colorbar": {
              "outlinewidth": 0,
              "ticks": ""
             }
            },
            "type": "scatterpolar"
           }
          ],
          "scatterpolargl": [
           {
            "marker": {
             "colorbar": {
              "outlinewidth": 0,
              "ticks": ""
             }
            },
            "type": "scatterpolargl"
           }
          ],
          "scatterternary": [
           {
            "marker": {
             "colorbar": {
              "outlinewidth": 0,
              "ticks": ""
             }
            },
            "type": "scatterternary"
           }
          ],
          "surface": [
           {
            "colorbar": {
             "outlinewidth": 0,
             "ticks": ""
            },
            "colorscale": [
             [
              0,
              "#0d0887"
             ],
             [
              0.1111111111111111,
              "#46039f"
             ],
             [
              0.2222222222222222,
              "#7201a8"
             ],
             [
              0.3333333333333333,
              "#9c179e"
             ],
             [
              0.4444444444444444,
              "#bd3786"
             ],
             [
              0.5555555555555556,
              "#d8576b"
             ],
             [
              0.6666666666666666,
              "#ed7953"
             ],
             [
              0.7777777777777778,
              "#fb9f3a"
             ],
             [
              0.8888888888888888,
              "#fdca26"
             ],
             [
              1,
              "#f0f921"
             ]
            ],
            "type": "surface"
           }
          ],
          "table": [
           {
            "cells": {
             "fill": {
              "color": "#EBF0F8"
             },
             "line": {
              "color": "white"
             }
            },
            "header": {
             "fill": {
              "color": "#C8D4E3"
             },
             "line": {
              "color": "white"
             }
            },
            "type": "table"
           }
          ]
         },
         "layout": {
          "annotationdefaults": {
           "arrowcolor": "#2a3f5f",
           "arrowhead": 0,
           "arrowwidth": 1
          },
          "autotypenumbers": "strict",
          "coloraxis": {
           "colorbar": {
            "outlinewidth": 0,
            "ticks": ""
           }
          },
          "colorscale": {
           "diverging": [
            [
             0,
             "#8e0152"
            ],
            [
             0.1,
             "#c51b7d"
            ],
            [
             0.2,
             "#de77ae"
            ],
            [
             0.3,
             "#f1b6da"
            ],
            [
             0.4,
             "#fde0ef"
            ],
            [
             0.5,
             "#f7f7f7"
            ],
            [
             0.6,
             "#e6f5d0"
            ],
            [
             0.7,
             "#b8e186"
            ],
            [
             0.8,
             "#7fbc41"
            ],
            [
             0.9,
             "#4d9221"
            ],
            [
             1,
             "#276419"
            ]
           ],
           "sequential": [
            [
             0,
             "#0d0887"
            ],
            [
             0.1111111111111111,
             "#46039f"
            ],
            [
             0.2222222222222222,
             "#7201a8"
            ],
            [
             0.3333333333333333,
             "#9c179e"
            ],
            [
             0.4444444444444444,
             "#bd3786"
            ],
            [
             0.5555555555555556,
             "#d8576b"
            ],
            [
             0.6666666666666666,
             "#ed7953"
            ],
            [
             0.7777777777777778,
             "#fb9f3a"
            ],
            [
             0.8888888888888888,
             "#fdca26"
            ],
            [
             1,
             "#f0f921"
            ]
           ],
           "sequentialminus": [
            [
             0,
             "#0d0887"
            ],
            [
             0.1111111111111111,
             "#46039f"
            ],
            [
             0.2222222222222222,
             "#7201a8"
            ],
            [
             0.3333333333333333,
             "#9c179e"
            ],
            [
             0.4444444444444444,
             "#bd3786"
            ],
            [
             0.5555555555555556,
             "#d8576b"
            ],
            [
             0.6666666666666666,
             "#ed7953"
            ],
            [
             0.7777777777777778,
             "#fb9f3a"
            ],
            [
             0.8888888888888888,
             "#fdca26"
            ],
            [
             1,
             "#f0f921"
            ]
           ]
          },
          "colorway": [
           "#636efa",
           "#EF553B",
           "#00cc96",
           "#ab63fa",
           "#FFA15A",
           "#19d3f3",
           "#FF6692",
           "#B6E880",
           "#FF97FF",
           "#FECB52"
          ],
          "font": {
           "color": "#2a3f5f"
          },
          "geo": {
           "bgcolor": "white",
           "lakecolor": "white",
           "landcolor": "#E5ECF6",
           "showlakes": true,
           "showland": true,
           "subunitcolor": "white"
          },
          "hoverlabel": {
           "align": "left"
          },
          "hovermode": "closest",
          "mapbox": {
           "style": "light"
          },
          "paper_bgcolor": "white",
          "plot_bgcolor": "#E5ECF6",
          "polar": {
           "angularaxis": {
            "gridcolor": "white",
            "linecolor": "white",
            "ticks": ""
           },
           "bgcolor": "#E5ECF6",
           "radialaxis": {
            "gridcolor": "white",
            "linecolor": "white",
            "ticks": ""
           }
          },
          "scene": {
           "xaxis": {
            "backgroundcolor": "#E5ECF6",
            "gridcolor": "white",
            "gridwidth": 2,
            "linecolor": "white",
            "showbackground": true,
            "ticks": "",
            "zerolinecolor": "white"
           },
           "yaxis": {
            "backgroundcolor": "#E5ECF6",
            "gridcolor": "white",
            "gridwidth": 2,
            "linecolor": "white",
            "showbackground": true,
            "ticks": "",
            "zerolinecolor": "white"
           },
           "zaxis": {
            "backgroundcolor": "#E5ECF6",
            "gridcolor": "white",
            "gridwidth": 2,
            "linecolor": "white",
            "showbackground": true,
            "ticks": "",
            "zerolinecolor": "white"
           }
          },
          "shapedefaults": {
           "line": {
            "color": "#2a3f5f"
           }
          },
          "ternary": {
           "aaxis": {
            "gridcolor": "white",
            "linecolor": "white",
            "ticks": ""
           },
           "baxis": {
            "gridcolor": "white",
            "linecolor": "white",
            "ticks": ""
           },
           "bgcolor": "#E5ECF6",
           "caxis": {
            "gridcolor": "white",
            "linecolor": "white",
            "ticks": ""
           }
          },
          "title": {
           "x": 0.05
          },
          "xaxis": {
           "automargin": true,
           "gridcolor": "white",
           "linecolor": "white",
           "ticks": "",
           "title": {
            "standoff": 15
           },
           "zerolinecolor": "white",
           "zerolinewidth": 2
          },
          "yaxis": {
           "automargin": true,
           "gridcolor": "white",
           "linecolor": "white",
           "ticks": "",
           "title": {
            "standoff": 15
           },
           "zerolinecolor": "white",
           "zerolinewidth": 2
          }
         }
        },
        "xaxis": {
         "anchor": "y",
         "domain": [
          0,
          1
         ],
         "title": {
          "text": "tum_mean_expression"
         }
        },
        "yaxis": {
         "anchor": "x",
         "domain": [
          0,
          1
         ],
         "title": {
          "text": "healthy_mean_expression"
         }
        }
       }
      }
     },
     "metadata": {},
     "output_type": "display_data"
    }
   ],
   "source": [
    "fig"
   ]
  },
  {
   "cell_type": "markdown",
   "metadata": {},
   "source": [
    "# Clustering analysis"
   ]
  },
  {
   "cell_type": "code",
   "execution_count": 58,
   "metadata": {},
   "outputs": [
    {
     "name": "stdout",
     "output_type": "stream",
     "text": [
      "Variation per principal component [0.57290009 0.26648357] and the sum 83.94%\n",
      "Variation per principal component [0.57583339 0.26625344] and the sum 84.21%\n",
      "Variation per principal component [0.57202492 0.2686428 ] and the sum 84.07%\n"
     ]
    }
   ],
   "source": [
    "gt_exps = {}\n",
    "for key in [\"3\", \"6\", \"10\"]:\n",
    "    dmy_exp = h_exps[key]\n",
    "    sort_col = \"ModCon_{}_gt\".format(dmy_exp.type)\n",
    "    gt_modCon = dmy_exp.get_ModCon()\n",
    "    dmy_exp.mevsMut, _ = dmy_exp.get_mevs(tpms=all_tum_tpms, modCon=gt_modCon, sort_col=sort_col, num_genes=100, verbose=False)\n",
    "\n",
    "    cs_exp, fig_std, metrics = gh.run_clusters(dmy_exp, label=\"exp_tf{}\".format(key), show_figs=True)\n",
    "\n",
    "    gt_exps[key] = {\"exp\": dmy_exp, \"cs\": cs_exp}\n",
    "\n",
    "comb_cs = pd.concat([gt_exps[\"3\"][\"cs\"], gt_exps[\"6\"][\"cs\"], gt_exps[\"10\"][\"cs\"], vu_output], axis=1).dropna()\n",
    "\n",
    "# for single experiment\n",
    "if False:\n",
    "    tf = 6\n",
    "    gt_exp = h_exps[\"6\"]\n",
    "    sort_col = \"ModCon_{}_gt\".format(gt_exp.type)\n",
    "    gt_modCon = gt_exp.get_ModCon()\n",
    "    gt_exp.mevsMut, _ = gt_exp.get_mevs(tpms=all_tum_tpms, modCon=gt_modCon, sort_col=sort_col, num_genes=100, verbose=False)"
   ]
  },
  {
   "cell_type": "code",
   "execution_count": 59,
   "metadata": {},
   "outputs": [
    {
     "data": {
      "application/vnd.plotly.v1+json": {
       "config": {
        "plotlyServerURL": "https://plot.ly"
       },
       "data": [
        {
         "arrangement": "perpendicular",
         "link": {
          "color": "#bdbdbd",
          "source": [
           0,
           0,
           0,
           0,
           0,
           0,
           1,
           1,
           1,
           2,
           2,
           2,
           3,
           3,
           3,
           3,
           4,
           4,
           4,
           5,
           5,
           5,
           5,
           5,
           5,
           6,
           6,
           6,
           6,
           6,
           7,
           7,
           7,
           7,
           7,
           7,
           8,
           8,
           8,
           8,
           8,
           9,
           9,
           9,
           9,
           10,
           10,
           10,
           10,
           10,
           11,
           11,
           11,
           11,
           12,
           12,
           13,
           13,
           14,
           15,
           15,
           16,
           16,
           17,
           17,
           18,
           18,
           18,
           19,
           19,
           19,
           20,
           20,
           21,
           21,
           21,
           22,
           23,
           23,
           23,
           23,
           23,
           24,
           24,
           24,
           24,
           24,
           25,
           25,
           25,
           25,
           26,
           26,
           26,
           26,
           26,
           27,
           27,
           27,
           27,
           27,
           28,
           28,
           28,
           28
          ],
          "target": [
           5,
           6,
           7,
           8,
           9,
           10,
           5,
           7,
           10,
           7,
           8,
           10,
           6,
           7,
           8,
           10,
           6,
           7,
           10,
           11,
           12,
           13,
           14,
           15,
           16,
           11,
           12,
           13,
           14,
           15,
           11,
           12,
           13,
           14,
           15,
           16,
           11,
           12,
           13,
           14,
           16,
           11,
           12,
           13,
           15,
           11,
           12,
           13,
           15,
           16,
           17,
           18,
           19,
           20,
           17,
           19,
           18,
           19,
           20,
           18,
           21,
           21,
           22,
           23,
           24,
           23,
           25,
           27,
           23,
           24,
           25,
           26,
           27,
           26,
           27,
           28,
           28,
           32,
           33,
           34,
           29,
           31,
           32,
           33,
           34,
           29,
           31,
           32,
           34,
           30,
           31,
           32,
           33,
           34,
           29,
           31,
           32,
           33,
           34,
           30,
           31,
           32,
           33,
           34,
           31
          ],
          "value": [
           61,
           35,
           4,
           1,
           33,
           7,
           5,
           71,
           1,
           18,
           6,
           1,
           5,
           23,
           110,
           3,
           1,
           1,
           18,
           4,
           2,
           25,
           2,
           27,
           6,
           3,
           5,
           22,
           1,
           10,
           56,
           27,
           4,
           25,
           2,
           3,
           37,
           36,
           2,
           30,
           12,
           3,
           3,
           19,
           8,
           2,
           8,
           8,
           11,
           1,
           100,
           3,
           1,
           1,
           1,
           80,
           77,
           3,
           58,
           6,
           52,
           1,
           21,
           98,
           3,
           5,
           75,
           6,
           2,
           79,
           3,
           58,
           1,
           1,
           51,
           1,
           21,
           12,
           17,
           44,
           14,
           18,
           13,
           8,
           41,
           13,
           7,
           68,
           3,
           4,
           3,
           2,
           8,
           39,
           4,
           6,
           49,
           1,
           2,
           1,
           5,
           5,
           2,
           13,
           2
          ]
         },
         "node": {
          "color": [
           "rgb(229, 134, 6)",
           "rgb(229, 134, 6)",
           "rgb(229, 134, 6)",
           "rgb(229, 134, 6)",
           "rgb(229, 134, 6)",
           "rgb(93, 105, 177)",
           "rgb(93, 105, 177)",
           "rgb(93, 105, 177)",
           "rgb(93, 105, 177)",
           "rgb(93, 105, 177)",
           "rgb(93, 105, 177)",
           "rgb(82, 188, 163)",
           "rgb(82, 188, 163)",
           "rgb(82, 188, 163)",
           "rgb(82, 188, 163)",
           "rgb(82, 188, 163)",
           "rgb(82, 188, 163)",
           "rgb(153, 201, 69)",
           "rgb(153, 201, 69)",
           "rgb(153, 201, 69)",
           "rgb(153, 201, 69)",
           "rgb(153, 201, 69)",
           "rgb(153, 201, 69)",
           "rgb(204, 97, 176)",
           "rgb(204, 97, 176)",
           "rgb(204, 97, 176)",
           "rgb(204, 97, 176)",
           "rgb(204, 97, 176)",
           "rgb(204, 97, 176)",
           "rgb(36, 121, 108)",
           "rgb(36, 121, 108)",
           "rgb(36, 121, 108)",
           "rgb(36, 121, 108)",
           "rgb(36, 121, 108)",
           "rgb(36, 121, 108)"
          ],
          "label": [
           "Ba/Sq",
           "LumInf",
           "LumNS",
           "LumP",
           "NE-like",
           "High IFNG",
           "Low IFNG",
           "Lum Inf/NS",
           "LumP",
           "Med IFNG",
           "Ne",
           0,
           1,
           2,
           3,
           4,
           5,
           0,
           1,
           2,
           3,
           4,
           5,
           0,
           1,
           2,
           3,
           4,
           5,
           "LumU",
           "NE-like",
           "Stroma-rich",
           "Ba/Sq",
           "LumNS",
           "LumP"
          ],
          "line": {
           "color": "black",
           "width": 0.5
          },
          "pad": 15,
          "thickness": 20
         },
         "type": "sankey"
        }
       ],
       "layout": {
        "annotations": [
         {
          "align": "left",
          "font": {
           "color": "#003366",
           "size": 16
          },
          "showarrow": false,
          "text": "TCGA",
          "x": 0,
          "xref": "x",
          "y": 1.07,
          "yref": "paper"
         },
         {
          "align": "left",
          "font": {
           "color": "#003366",
           "size": 16
          },
          "showarrow": false,
          "text": "CA + IFNg",
          "x": 1,
          "xref": "x",
          "y": 1.07,
          "yref": "paper"
         },
         {
          "align": "left",
          "font": {
           "color": "#003366",
           "size": 16
          },
          "showarrow": false,
          "text": "SBM_3TF",
          "x": 2,
          "xref": "x",
          "y": 1.07,
          "yref": "paper"
         },
         {
          "align": "left",
          "font": {
           "color": "#003366",
           "size": 16
          },
          "showarrow": false,
          "text": "SBM_6TF",
          "x": 3,
          "xref": "x",
          "y": 1.07,
          "yref": "paper"
         },
         {
          "align": "left",
          "font": {
           "color": "#003366",
           "size": 16
          },
          "showarrow": false,
          "text": "SBM_10TF",
          "x": 4,
          "xref": "x",
          "y": 1.07,
          "yref": "paper"
         },
         {
          "align": "left",
          "font": {
           "color": "#003366",
           "size": 16
          },
          "showarrow": false,
          "text": "Consensus",
          "x": 5,
          "xref": "x",
          "y": 1.07,
          "yref": "paper"
         }
        ],
        "font": {
         "color": "#003366",
         "size": 16
        },
        "height": 600,
        "plot_bgcolor": "rgba(0,0,0,0)",
        "template": {
         "data": {
          "bar": [
           {
            "error_x": {
             "color": "rgb(51,51,51)"
            },
            "error_y": {
             "color": "rgb(51,51,51)"
            },
            "marker": {
             "line": {
              "color": "rgb(237,237,237)",
              "width": 0.5
             },
             "pattern": {
              "fillmode": "overlay",
              "size": 10,
              "solidity": 0.2
             }
            },
            "type": "bar"
           }
          ],
          "barpolar": [
           {
            "marker": {
             "line": {
              "color": "rgb(237,237,237)",
              "width": 0.5
             },
             "pattern": {
              "fillmode": "overlay",
              "size": 10,
              "solidity": 0.2
             }
            },
            "type": "barpolar"
           }
          ],
          "carpet": [
           {
            "aaxis": {
             "endlinecolor": "rgb(51,51,51)",
             "gridcolor": "white",
             "linecolor": "white",
             "minorgridcolor": "white",
             "startlinecolor": "rgb(51,51,51)"
            },
            "baxis": {
             "endlinecolor": "rgb(51,51,51)",
             "gridcolor": "white",
             "linecolor": "white",
             "minorgridcolor": "white",
             "startlinecolor": "rgb(51,51,51)"
            },
            "type": "carpet"
           }
          ],
          "choropleth": [
           {
            "colorbar": {
             "outlinewidth": 0,
             "tickcolor": "rgb(237,237,237)",
             "ticklen": 6,
             "ticks": "inside"
            },
            "type": "choropleth"
           }
          ],
          "contour": [
           {
            "colorbar": {
             "outlinewidth": 0,
             "tickcolor": "rgb(237,237,237)",
             "ticklen": 6,
             "ticks": "inside"
            },
            "colorscale": [
             [
              0,
              "rgb(20,44,66)"
             ],
             [
              1,
              "rgb(90,179,244)"
             ]
            ],
            "type": "contour"
           }
          ],
          "contourcarpet": [
           {
            "colorbar": {
             "outlinewidth": 0,
             "tickcolor": "rgb(237,237,237)",
             "ticklen": 6,
             "ticks": "inside"
            },
            "type": "contourcarpet"
           }
          ],
          "heatmap": [
           {
            "colorbar": {
             "outlinewidth": 0,
             "tickcolor": "rgb(237,237,237)",
             "ticklen": 6,
             "ticks": "inside"
            },
            "colorscale": [
             [
              0,
              "rgb(20,44,66)"
             ],
             [
              1,
              "rgb(90,179,244)"
             ]
            ],
            "type": "heatmap"
           }
          ],
          "heatmapgl": [
           {
            "colorbar": {
             "outlinewidth": 0,
             "tickcolor": "rgb(237,237,237)",
             "ticklen": 6,
             "ticks": "inside"
            },
            "colorscale": [
             [
              0,
              "rgb(20,44,66)"
             ],
             [
              1,
              "rgb(90,179,244)"
             ]
            ],
            "type": "heatmapgl"
           }
          ],
          "histogram": [
           {
            "marker": {
             "pattern": {
              "fillmode": "overlay",
              "size": 10,
              "solidity": 0.2
             }
            },
            "type": "histogram"
           }
          ],
          "histogram2d": [
           {
            "colorbar": {
             "outlinewidth": 0,
             "tickcolor": "rgb(237,237,237)",
             "ticklen": 6,
             "ticks": "inside"
            },
            "colorscale": [
             [
              0,
              "rgb(20,44,66)"
             ],
             [
              1,
              "rgb(90,179,244)"
             ]
            ],
            "type": "histogram2d"
           }
          ],
          "histogram2dcontour": [
           {
            "colorbar": {
             "outlinewidth": 0,
             "tickcolor": "rgb(237,237,237)",
             "ticklen": 6,
             "ticks": "inside"
            },
            "colorscale": [
             [
              0,
              "rgb(20,44,66)"
             ],
             [
              1,
              "rgb(90,179,244)"
             ]
            ],
            "type": "histogram2dcontour"
           }
          ],
          "mesh3d": [
           {
            "colorbar": {
             "outlinewidth": 0,
             "tickcolor": "rgb(237,237,237)",
             "ticklen": 6,
             "ticks": "inside"
            },
            "type": "mesh3d"
           }
          ],
          "parcoords": [
           {
            "line": {
             "colorbar": {
              "outlinewidth": 0,
              "tickcolor": "rgb(237,237,237)",
              "ticklen": 6,
              "ticks": "inside"
             }
            },
            "type": "parcoords"
           }
          ],
          "pie": [
           {
            "automargin": true,
            "type": "pie"
           }
          ],
          "scatter": [
           {
            "fillpattern": {
             "fillmode": "overlay",
             "size": 10,
             "solidity": 0.2
            },
            "type": "scatter"
           }
          ],
          "scatter3d": [
           {
            "line": {
             "colorbar": {
              "outlinewidth": 0,
              "tickcolor": "rgb(237,237,237)",
              "ticklen": 6,
              "ticks": "inside"
             }
            },
            "marker": {
             "colorbar": {
              "outlinewidth": 0,
              "tickcolor": "rgb(237,237,237)",
              "ticklen": 6,
              "ticks": "inside"
             }
            },
            "type": "scatter3d"
           }
          ],
          "scattercarpet": [
           {
            "marker": {
             "colorbar": {
              "outlinewidth": 0,
              "tickcolor": "rgb(237,237,237)",
              "ticklen": 6,
              "ticks": "inside"
             }
            },
            "type": "scattercarpet"
           }
          ],
          "scattergeo": [
           {
            "marker": {
             "colorbar": {
              "outlinewidth": 0,
              "tickcolor": "rgb(237,237,237)",
              "ticklen": 6,
              "ticks": "inside"
             }
            },
            "type": "scattergeo"
           }
          ],
          "scattergl": [
           {
            "marker": {
             "colorbar": {
              "outlinewidth": 0,
              "tickcolor": "rgb(237,237,237)",
              "ticklen": 6,
              "ticks": "inside"
             }
            },
            "type": "scattergl"
           }
          ],
          "scattermapbox": [
           {
            "marker": {
             "colorbar": {
              "outlinewidth": 0,
              "tickcolor": "rgb(237,237,237)",
              "ticklen": 6,
              "ticks": "inside"
             }
            },
            "type": "scattermapbox"
           }
          ],
          "scatterpolar": [
           {
            "marker": {
             "colorbar": {
              "outlinewidth": 0,
              "tickcolor": "rgb(237,237,237)",
              "ticklen": 6,
              "ticks": "inside"
             }
            },
            "type": "scatterpolar"
           }
          ],
          "scatterpolargl": [
           {
            "marker": {
             "colorbar": {
              "outlinewidth": 0,
              "tickcolor": "rgb(237,237,237)",
              "ticklen": 6,
              "ticks": "inside"
             }
            },
            "type": "scatterpolargl"
           }
          ],
          "scatterternary": [
           {
            "marker": {
             "colorbar": {
              "outlinewidth": 0,
              "tickcolor": "rgb(237,237,237)",
              "ticklen": 6,
              "ticks": "inside"
             }
            },
            "type": "scatterternary"
           }
          ],
          "surface": [
           {
            "colorbar": {
             "outlinewidth": 0,
             "tickcolor": "rgb(237,237,237)",
             "ticklen": 6,
             "ticks": "inside"
            },
            "colorscale": [
             [
              0,
              "rgb(20,44,66)"
             ],
             [
              1,
              "rgb(90,179,244)"
             ]
            ],
            "type": "surface"
           }
          ],
          "table": [
           {
            "cells": {
             "fill": {
              "color": "rgb(237,237,237)"
             },
             "line": {
              "color": "white"
             }
            },
            "header": {
             "fill": {
              "color": "rgb(217,217,217)"
             },
             "line": {
              "color": "white"
             }
            },
            "type": "table"
           }
          ]
         },
         "layout": {
          "annotationdefaults": {
           "arrowhead": 0,
           "arrowwidth": 1
          },
          "autotypenumbers": "strict",
          "coloraxis": {
           "colorbar": {
            "outlinewidth": 0,
            "tickcolor": "rgb(237,237,237)",
            "ticklen": 6,
            "ticks": "inside"
           }
          },
          "colorscale": {
           "sequential": [
            [
             0,
             "rgb(20,44,66)"
            ],
            [
             1,
             "rgb(90,179,244)"
            ]
           ],
           "sequentialminus": [
            [
             0,
             "rgb(20,44,66)"
            ],
            [
             1,
             "rgb(90,179,244)"
            ]
           ]
          },
          "colorway": [
           "#F8766D",
           "#A3A500",
           "#00BF7D",
           "#00B0F6",
           "#E76BF3"
          ],
          "font": {
           "color": "rgb(51,51,51)"
          },
          "geo": {
           "bgcolor": "white",
           "lakecolor": "white",
           "landcolor": "rgb(237,237,237)",
           "showlakes": true,
           "showland": true,
           "subunitcolor": "white"
          },
          "hoverlabel": {
           "align": "left"
          },
          "hovermode": "closest",
          "paper_bgcolor": "white",
          "plot_bgcolor": "rgb(237,237,237)",
          "polar": {
           "angularaxis": {
            "gridcolor": "white",
            "linecolor": "white",
            "showgrid": true,
            "tickcolor": "rgb(51,51,51)",
            "ticks": "outside"
           },
           "bgcolor": "rgb(237,237,237)",
           "radialaxis": {
            "gridcolor": "white",
            "linecolor": "white",
            "showgrid": true,
            "tickcolor": "rgb(51,51,51)",
            "ticks": "outside"
           }
          },
          "scene": {
           "xaxis": {
            "backgroundcolor": "rgb(237,237,237)",
            "gridcolor": "white",
            "gridwidth": 2,
            "linecolor": "white",
            "showbackground": true,
            "showgrid": true,
            "tickcolor": "rgb(51,51,51)",
            "ticks": "outside",
            "zerolinecolor": "white"
           },
           "yaxis": {
            "backgroundcolor": "rgb(237,237,237)",
            "gridcolor": "white",
            "gridwidth": 2,
            "linecolor": "white",
            "showbackground": true,
            "showgrid": true,
            "tickcolor": "rgb(51,51,51)",
            "ticks": "outside",
            "zerolinecolor": "white"
           },
           "zaxis": {
            "backgroundcolor": "rgb(237,237,237)",
            "gridcolor": "white",
            "gridwidth": 2,
            "linecolor": "white",
            "showbackground": true,
            "showgrid": true,
            "tickcolor": "rgb(51,51,51)",
            "ticks": "outside",
            "zerolinecolor": "white"
           }
          },
          "shapedefaults": {
           "fillcolor": "black",
           "line": {
            "width": 0
           },
           "opacity": 0.3
          },
          "ternary": {
           "aaxis": {
            "gridcolor": "white",
            "linecolor": "white",
            "showgrid": true,
            "tickcolor": "rgb(51,51,51)",
            "ticks": "outside"
           },
           "baxis": {
            "gridcolor": "white",
            "linecolor": "white",
            "showgrid": true,
            "tickcolor": "rgb(51,51,51)",
            "ticks": "outside"
           },
           "bgcolor": "rgb(237,237,237)",
           "caxis": {
            "gridcolor": "white",
            "linecolor": "white",
            "showgrid": true,
            "tickcolor": "rgb(51,51,51)",
            "ticks": "outside"
           }
          },
          "xaxis": {
           "automargin": true,
           "gridcolor": "white",
           "linecolor": "white",
           "showgrid": true,
           "tickcolor": "rgb(51,51,51)",
           "ticks": "outside",
           "title": {
            "standoff": 15
           },
           "zerolinecolor": "white"
          },
          "yaxis": {
           "automargin": true,
           "gridcolor": "white",
           "linecolor": "white",
           "showgrid": true,
           "tickcolor": "rgb(51,51,51)",
           "ticks": "outside",
           "title": {
            "standoff": 15
           },
           "zerolinecolor": "white"
          }
         }
        },
        "title": {
         "text": ""
        },
        "xaxis": {
         "showgrid": false,
         "visible": false,
         "zeroline": false
        },
        "yaxis": {
         "showgrid": false,
         "visible": false,
         "zeroline": false
        }
       }
      }
     },
     "metadata": {},
     "output_type": "display_data"
    }
   ],
   "source": [
    "cluster_model, cs = \"RawKMeans\", 6\n",
    "col_exp_3 = \"{}_CS_{}_{}_tf{}\".format(cluster_model, cs, \"exp\", 3)\n",
    "col_exp_6 = \"{}_CS_{}_{}_tf{}\".format(cluster_model, cs, \"exp\", 6)\n",
    "col_exp_10 = \"{}_CS_{}_{}_tf{}\".format(cluster_model, cs, \"exp\", 10)\n",
    "\n",
    "\n",
    "cols = [\"TCGA408_classifier\", \"KMeans_labels_6\"] + [col_exp_3, col_exp_6, col_exp_10] + [\"consensus\"]\n",
    "rename_cols = {\n",
    "    cols[0]: \"TCGA\",\n",
    "    cols[1]: \"CA + IFNg\",\n",
    "    cols[2]: \"SBM_3TF\",\n",
    "    cols[3]: \"SBM_6TF\",\n",
    "    cols[4]: \"SBM_10TF\",\n",
    "    cols[5]: \"Consensus\",\n",
    "}\n",
    "\n",
    "meta, fig = sky.main(df=comb_cs.rename(columns=rename_cols), reorder_cols=list(rename_cols.values()), title=\"\", retMeta=True)\n",
    "\n",
    "fig.update_layout(\n",
    "    title=\"\",\n",
    "    template=\"ggplot2\",  # \"ggplot2\", \"plotly_white\"\n",
    "    font=dict(size=16),\n",
    ")\n",
    "fig.show()\n",
    "save_fig(name=\"Sankey_comp_SBM_5K\", fig=fig, base_path=figures_path, width=1200, height=600)"
   ]
  },
  {
   "cell_type": "markdown",
   "metadata": {},
   "source": [
    "## Survival"
   ]
  },
  {
   "cell_type": "code",
   "execution_count": 64,
   "metadata": {},
   "outputs": [],
   "source": [
    "def prep_survival(df, cs_num=6, tf=10, cs_model=\"RawKMeans\", label=\"SBM\"):\n",
    "    model = \"{}_CS_{}_exp_tf{}\".format(cs_model, cs_num, tf)\n",
    "\n",
    "    colors_net = px.colors.qualitative.G10\n",
    "    for idx, val in enumerate(df[model].unique()):\n",
    "        color_map[val] = colors_net[idx]\n",
    "\n",
    "    df[model] = df[model].astype(str)\n",
    "    fig = survival_plot(df.drop(columns=[\"days_to_last_follow_up\", \"days_to_death\"]), vu_output, classifier=model, color_map=color_map)\n",
    "    fig = fig.update_layout(title=\"{}. Survival analysis for {}\".format(label, model))\n",
    "\n",
    "    return fig\n",
    "\n",
    "\n",
    "tcga_metadata = pd.read_csv(f\"{data_base}/tumour/TCGA_metadata.tsv\", sep=\"\\t\", index_col=\"Sample\")"
   ]
  },
  {
   "cell_type": "code",
   "execution_count": 65,
   "metadata": {},
   "outputs": [
    {
     "data": {
      "application/vnd.plotly.v1+json": {
       "config": {
        "plotlyServerURL": "https://plot.ly"
       },
       "data": [
        {
         "hovertemplate": "disease=0.0<br>timeline=%{x}<br>chance=%{y}<extra></extra>",
         "legendgroup": "0.0",
         "line": {
          "color": "#FF97FF",
          "dash": "solid",
          "shape": "hv"
         },
         "marker": {
          "symbol": "circle"
         },
         "mode": "lines+markers",
         "name": "0.0",
         "orientation": "v",
         "showlegend": true,
         "type": "scatter",
         "x": [
          0,
          0.5666666666666667,
          0.6666666666666666,
          1.8666666666666667,
          1.9,
          2.533333333333333,
          3.1,
          3.5,
          3.9,
          4.3,
          4.733333333333333,
          4.866666666666666,
          4.966666666666667,
          5.133333333333334,
          5.266666666666667,
          6.233333333333333,
          7.2,
          7.666666666666667,
          7.733333333333333,
          9.766666666666667,
          9.8,
          10.8,
          11.5,
          11.966666666666667,
          12.266666666666667,
          12.3,
          12.4,
          12.633333333333333,
          12.8,
          12.933333333333334,
          12.966666666666667,
          13.033333333333333,
          13.133333333333333,
          13.666666666666666,
          13.766666666666667,
          13.833333333333334,
          14.166666666666666,
          14.466666666666667,
          15.133333333333333,
          15.333333333333334,
          15.833333333333334,
          15.9,
          16.166666666666668,
          16.2,
          16.4,
          17.066666666666666,
          17.466666666666665,
          17.666666666666668,
          17.866666666666667,
          19.066666666666666,
          19.266666666666666,
          19.333333333333332,
          19.766666666666666,
          20.4,
          20.566666666666666,
          20.6,
          21.366666666666667,
          22.166666666666668,
          22.466666666666665,
          22.666666666666668,
          23.033333333333335,
          23.2,
          23.333333333333332,
          23.733333333333334,
          24.466666666666665,
          24.633333333333333,
          25.933333333333334,
          27.733333333333334,
          27.833333333333332,
          28.066666666666666,
          28.633333333333333,
          30.066666666666666,
          30.133333333333333,
          30.2,
          30.7,
          31.5,
          33.43333333333333,
          33.6,
          35.46666666666667,
          35.9,
          36.333333333333336,
          37.166666666666664,
          39.53333333333333,
          42.333333333333336,
          45.56666666666667,
          47.63333333333333,
          57.266666666666666,
          65.06666666666666,
          66.96666666666667,
          67.33333333333333,
          67.46666666666667,
          68.3,
          72.56666666666666,
          87.5,
          88.03333333333333,
          95.6,
          98.8,
          132.7
         ],
         "xaxis": "x",
         "y": [
          1,
          1,
          1,
          0.9896907216494844,
          0.979381443298969,
          0.9690721649484535,
          0.9587628865979385,
          0.9587628865979385,
          0.9587628865979385,
          0.9587628865979385,
          0.948109965635739,
          0.9374570446735403,
          0.9268041237113406,
          0.9161512027491409,
          0.9161512027491409,
          0.9161512027491409,
          0.9052446408116517,
          0.9052446408116517,
          0.8942050720212658,
          0.8942050720212658,
          0.8830275086210003,
          0.8718499452207344,
          0.8718499452207344,
          0.8718499452207344,
          0.8718499452207344,
          0.8718499452207344,
          0.8718499452207344,
          0.8718499452207344,
          0.8718499452207344,
          0.8595703685274849,
          0.8595703685274849,
          0.8471128269546229,
          0.8471128269546229,
          0.8471128269546229,
          0.8342777841219771,
          0.8342777841219771,
          0.8342777841219771,
          0.8210352796121045,
          0.8077927751022319,
          0.7945502705923589,
          0.7945502705923589,
          0.7945502705923589,
          0.7945502705923589,
          0.7806107921609143,
          0.7666713137294693,
          0.7666713137294693,
          0.7666713137294693,
          0.7522058172440076,
          0.7377403207585458,
          0.7377403207585458,
          0.7377403207585458,
          0.7377403207585458,
          0.7223707307427425,
          0.7070011407269396,
          0.6916315507111365,
          0.6916315507111365,
          0.6916315507111365,
          0.6755470960434357,
          0.6590703376033518,
          0.6425935791632679,
          0.6425935791632679,
          0.6256832218168661,
          0.6256832218168661,
          0.6083031323219531,
          0.5909230428270404,
          0.5735429533321273,
          0.5561628638372144,
          0.5561628638372144,
          0.5376241017093073,
          0.5376241017093073,
          0.518423240933975,
          0.518423240933975,
          0.4984838855134373,
          0.4984838855134373,
          0.4984838855134373,
          0.4984838855134373,
          0.4984838855134373,
          0.474746557631845,
          0.4510092297502527,
          0.4272719018686605,
          0.4272719018686605,
          0.4272719018686605,
          0.4272719018686605,
          0.3987871084107497,
          0.37030231495283905,
          0.37030231495283905,
          0.33944378870676917,
          0.33944378870676917,
          0.33944378870676917,
          0.33944378870676917,
          0.33944378870676917,
          0.33944378870676917,
          0.33944378870676917,
          0.33944378870676917,
          0.25458284153007693,
          0.25458284153007693,
          0.25458284153007693,
          0.25458284153007693
         ],
         "yaxis": "y"
        },
        {
         "hovertemplate": "disease=2.0<br>timeline=%{x}<br>chance=%{y}<extra></extra>",
         "legendgroup": "2.0",
         "line": {
          "color": "#FECB52",
          "dash": "solid",
          "shape": "hv"
         },
         "marker": {
          "symbol": "circle"
         },
         "mode": "lines+markers",
         "name": "2.0",
         "orientation": "v",
         "showlegend": true,
         "type": "scatter",
         "x": [
          0,
          0.5,
          0.6333333333333333,
          1.1666666666666667,
          1.8333333333333333,
          2.1333333333333333,
          2.1666666666666665,
          2.8,
          3.1666666666666665,
          3.533333333333333,
          3.966666666666667,
          6.833333333333333,
          6.866666666666666,
          8.2,
          8.466666666666667,
          8.6,
          9.8,
          11.066666666666666,
          12.133333333333333,
          12.2,
          12.333333333333334,
          12.533333333333333,
          13.266666666666667,
          13.833333333333334,
          14.266666666666667,
          14.433333333333334,
          15.233333333333333,
          15.533333333333333,
          15.566666666666666,
          15.633333333333333,
          15.8,
          16.033333333333335,
          16.5,
          17.4,
          17.866666666666667,
          18.133333333333333,
          18.233333333333334,
          18.333333333333332,
          19.233333333333334,
          19.266666666666666,
          19.366666666666667,
          19.666666666666668,
          19.966666666666665,
          20.066666666666666,
          20.1,
          21,
          21.4,
          21.533333333333335,
          21.6,
          21.633333333333333,
          21.7,
          24.366666666666667,
          25,
          25.366666666666667,
          25.766666666666666,
          27.066666666666666,
          27.333333333333332,
          29.1,
          29.766666666666666,
          31.633333333333333,
          34.53333333333333,
          37,
          38.766666666666666,
          39.13333333333333,
          47.333333333333336,
          47.43333333333333,
          48.5,
          50.733333333333334,
          51.4,
          55.666666666666664,
          61.5,
          64.9,
          68.13333333333334,
          71.3,
          90.1,
          93,
          96.2,
          100.36666666666666,
          106.1,
          110.46666666666667,
          112.13333333333334,
          168.33333333333334
         ],
         "xaxis": "x",
         "y": [
          1,
          1,
          0.9879518072289155,
          0.9879518072289155,
          0.9879518072289155,
          0.9879518072289155,
          0.9754460881500685,
          0.9754460881500685,
          0.9754460881500685,
          0.9626112712007252,
          0.9626112712007252,
          0.9496030107790931,
          0.936594750357462,
          0.9235864899358306,
          0.8975699690925679,
          0.8845617086709365,
          0.8715534482493046,
          0.8585451878276731,
          0.8455369274060418,
          0.8455369274060418,
          0.8323254129153226,
          0.8323254129153226,
          0.8323254129153226,
          0.818680734015071,
          0.818680734015071,
          0.818680734015071,
          0.818680734015071,
          0.818680734015071,
          0.8040614351933733,
          0.8040614351933733,
          0.8040614351933733,
          0.8040614351933733,
          0.8040614351933733,
          0.7879802064895057,
          0.7879802064895057,
          0.7712146701812186,
          0.754449133872931,
          0.7376835975646436,
          0.7209180612563564,
          0.7209180612563564,
          0.7209180612563564,
          0.7209180612563564,
          0.7028951097249474,
          0.6848721581935385,
          0.6848721581935385,
          0.6663620998639834,
          0.6663620998639834,
          0.6663620998639834,
          0.6663620998639834,
          0.6663620998639834,
          0.645538284243234,
          0.645538284243234,
          0.645538284243234,
          0.645538284243234,
          0.645538284243234,
          0.645538284243234,
          0.645538284243234,
          0.645538284243234,
          0.645538284243234,
          0.6174714023196153,
          0.5894045203959962,
          0.5894045203959962,
          0.5599342943761965,
          0.5599342943761965,
          0.528826833577519,
          0.4977193727788413,
          0.4977193727788413,
          0.4977193727788413,
          0.4977193727788413,
          0.4594332671804689,
          0.4594332671804689,
          0.4594332671804689,
          0.4594332671804689,
          0.4594332671804689,
          0.4594332671804689,
          0.4594332671804689,
          0.4594332671804689,
          0.4594332671804689,
          0.34457495038535174,
          0.34457495038535174,
          0.34457495038535174,
          0.34457495038535174
         ],
         "yaxis": "y"
        },
        {
         "hovertemplate": "disease=3.0<br>timeline=%{x}<br>chance=%{y}<extra></extra>",
         "legendgroup": "3.0",
         "line": {
          "color": "#636efa",
          "dash": "solid",
          "shape": "hv"
         },
         "marker": {
          "symbol": "circle"
         },
         "mode": "lines+markers",
         "name": "3.0",
         "orientation": "v",
         "showlegend": true,
         "type": "scatter",
         "x": [
          0,
          0.9333333333333333,
          1.5333333333333334,
          3.6666666666666665,
          4.8,
          5.433333333333334,
          6.066666666666666,
          6.3,
          6.666666666666667,
          7.466666666666667,
          8.733333333333333,
          10.8,
          11.1,
          11.333333333333334,
          12.033333333333333,
          12.133333333333333,
          12.433333333333334,
          12.766666666666667,
          13.266666666666667,
          13.3,
          13.766666666666667,
          13.833333333333334,
          13.866666666666667,
          15.1,
          15.566666666666666,
          16.5,
          16.766666666666666,
          17,
          18.066666666666666,
          18.133333333333333,
          18.2,
          18.666666666666668,
          18.833333333333332,
          19.1,
          23,
          26.633333333333333,
          27.1,
          28.8,
          31.366666666666667,
          36.46666666666667,
          39.36666666666667,
          44.93333333333333,
          45,
          45.666666666666664,
          48.46666666666667,
          50.96666666666667,
          52.03333333333333,
          53.46666666666667,
          54.03333333333333,
          57.13333333333333,
          63.733333333333334,
          65.7,
          66.93333333333334,
          67.33333333333333,
          77.06666666666666,
          77.66666666666667,
          98.46666666666667,
          114,
          114.4
         ],
         "xaxis": "x",
         "y": [
          1,
          1,
          1,
          1,
          0.982142857142857,
          0.964285714285714,
          0.9460916442048516,
          0.9460916442048516,
          0.9275408276518152,
          0.9275408276518152,
          0.9086114230058601,
          0.8896820183599043,
          0.8896820183599043,
          0.8703411049172975,
          0.8703411049172975,
          0.8703411049172975,
          0.8703411049172975,
          0.8703411049172975,
          0.8703411049172975,
          0.8703411049172975,
          0.8480246663296745,
          0.8480246663296745,
          0.8480246663296745,
          0.8244684255982947,
          0.8009121848669151,
          0.8009121848669151,
          0.8009121848669151,
          0.775883679089824,
          0.775883679089824,
          0.7500208897868299,
          0.7500208897868299,
          0.7500208897868299,
          0.7222423383132436,
          0.7222423383132436,
          0.6933526447807141,
          0.6933526447807141,
          0.6933526447807141,
          0.6618366154724997,
          0.6303205861642853,
          0.6303205861642853,
          0.6303205861642853,
          0.5953027758218252,
          0.5953027758218252,
          0.5953027758218252,
          0.5953027758218252,
          0.5953027758218252,
          0.5953027758218252,
          0.5953027758218252,
          0.5953027758218252,
          0.5953027758218252,
          0.5953027758218252,
          0.5208899288440971,
          0.5208899288440971,
          0.43407494070341424,
          0.43407494070341424,
          0.43407494070341424,
          0.28938329380227606,
          0.28938329380227606,
          0.28938329380227606
         ],
         "yaxis": "y"
        },
        {
         "hovertemplate": "disease=5.0<br>timeline=%{x}<br>chance=%{y}<extra></extra>",
         "legendgroup": "5.0",
         "line": {
          "color": "#EF553B",
          "dash": "solid",
          "shape": "hv"
         },
         "marker": {
          "symbol": "circle"
         },
         "mode": "lines+markers",
         "name": "5.0",
         "orientation": "v",
         "showlegend": true,
         "type": "scatter",
         "x": [
          0,
          0.43333333333333335,
          1.8666666666666667,
          2.2333333333333334,
          2.2666666666666666,
          10.933333333333334,
          11.466666666666667,
          11.5,
          12.166666666666666,
          12.266666666666667,
          12.333333333333334,
          12.833333333333334,
          14.1,
          15.166666666666666,
          16.933333333333334,
          21.2,
          26.6,
          28,
          28.8,
          33.233333333333334,
          51.266666666666666,
          54.63333333333333
         ],
         "xaxis": "x",
         "y": [
          1,
          1,
          0.95,
          0.95,
          0.8972222222222224,
          0.8444444444444444,
          0.7916666666666667,
          0.7916666666666667,
          0.7916666666666667,
          0.7916666666666667,
          0.7916666666666667,
          0.7196969696969698,
          0.7196969696969698,
          0.7196969696969698,
          0.7196969696969698,
          0.7196969696969698,
          0.7196969696969698,
          0.7196969696969698,
          0.7196969696969698,
          0.7196969696969698,
          0.7196969696969698,
          0.7196969696969698
         ],
         "yaxis": "y"
        },
        {
         "hovertemplate": "disease=1.0<br>timeline=%{x}<br>chance=%{y}<extra></extra>",
         "legendgroup": "1.0",
         "line": {
          "color": "#00cc96",
          "dash": "solid",
          "shape": "hv"
         },
         "marker": {
          "symbol": "circle"
         },
         "mode": "lines+markers",
         "name": "1.0",
         "orientation": "v",
         "showlegend": true,
         "type": "scatter",
         "x": [
          0,
          2.066666666666667,
          2.2666666666666666,
          2.3,
          2.933333333333333,
          3,
          3.3,
          4.066666666666666,
          4.366666666666666,
          5.133333333333334,
          5.6,
          6.366666666666666,
          7.1,
          7.333333333333333,
          8.266666666666667,
          8.333333333333334,
          8.366666666666667,
          8.433333333333334,
          8.633333333333333,
          8.7,
          9.066666666666666,
          9.1,
          9.133333333333333,
          9.2,
          9.266666666666667,
          10.1,
          10.366666666666667,
          10.7,
          11,
          11.233333333333333,
          11.466666666666667,
          11.866666666666667,
          12.333333333333334,
          12.566666666666666,
          12.733333333333333,
          12.8,
          12.866666666666667,
          13.1,
          13.333333333333334,
          13.533333333333333,
          13.766666666666667,
          14.266666666666667,
          14.566666666666666,
          15.166666666666666,
          16.133333333333333,
          16.366666666666667,
          16.5,
          16.933333333333334,
          17,
          17.4,
          17.966666666666665,
          18,
          18.233333333333334,
          18.733333333333334,
          18.833333333333332,
          19.4,
          19.666666666666668,
          20.5,
          20.766666666666666,
          21.266666666666666,
          21.333333333333332,
          22.833333333333332,
          25.266666666666666,
          26.1,
          26.3,
          26.5,
          27.3,
          27.433333333333334,
          29.566666666666666,
          29.9,
          29.966666666666665,
          33.5,
          34.93333333333333,
          44.2,
          48.666666666666664,
          51.86666666666667,
          54.96666666666667,
          62.3,
          62.8,
          64.96666666666667,
          76.43333333333334,
          80.76666666666667,
          88.53333333333333,
          94.26666666666667,
          127.23333333333333,
          144.76666666666668,
          168.03333333333333
         ],
         "xaxis": "x",
         "y": [
          1,
          0.9883720930232565,
          0.9883720930232565,
          0.976605758582504,
          0.9648394241417508,
          0.9530730897009978,
          0.9413067552602441,
          0.9295404208194914,
          0.9177740863787383,
          0.9060077519379856,
          0.8942414174972322,
          0.8824750830564789,
          0.8707087486157264,
          0.8589424141749729,
          0.84717607973422,
          0.835409745293467,
          0.835409745293467,
          0.8234753203607031,
          0.8115408954279393,
          0.799606470495175,
          0.7876720455624111,
          0.7757376206296474,
          0.7638031956968835,
          0.7638031956968835,
          0.7516793354477268,
          0.7395554751985699,
          0.7274316149494128,
          0.7153077547002563,
          0.7153077547002563,
          0.7153077547002563,
          0.702758495845866,
          0.6902092369914754,
          0.6776599781370849,
          0.6776599781370849,
          0.6776599781370849,
          0.6776599781370849,
          0.6643725275853773,
          0.6510850770336697,
          0.6377976264819625,
          0.6245101759302546,
          0.6112227253785473,
          0.6112227253785473,
          0.5976399981479128,
          0.5840572709172785,
          0.5840572709172785,
          0.5840572709172785,
          0.5698119716266131,
          0.5555666723359477,
          0.5413213730452824,
          0.5413213730452824,
          0.5266910656656801,
          0.5266910656656801,
          0.5116427495038037,
          0.5116427495038037,
          0.49613842376126427,
          0.49613842376126427,
          0.4801339584786429,
          0.4641294931960215,
          0.4481250279133999,
          0.4481250279133999,
          0.4481250279133999,
          0.43088944991673056,
          0.43088944991673056,
          0.43088944991673056,
          0.43088944991673056,
          0.41130356582960637,
          0.3917176817424822,
          0.3721317976553581,
          0.3721317976553581,
          0.3721317976553581,
          0.3721317976553581,
          0.3488735603018982,
          0.3488735603018982,
          0.3488735603018982,
          0.3488735603018982,
          0.31980076361007337,
          0.31980076361007337,
          0.28782068724906607,
          0.28782068724906607,
          0.28782068724906607,
          0.28782068724906607,
          0.28782068724906607,
          0.28782068724906607,
          0.21586551543679958,
          0.21586551543679958,
          0.21586551543679958,
          0.21586551543679958
         ],
         "yaxis": "y"
        },
        {
         "hovertemplate": "disease=4.0<br>timeline=%{x}<br>chance=%{y}<extra></extra>",
         "legendgroup": "4.0",
         "line": {
          "color": "#ab63fa",
          "dash": "solid",
          "shape": "hv"
         },
         "marker": {
          "symbol": "circle"
         },
         "mode": "lines+markers",
         "name": "4.0",
         "orientation": "v",
         "showlegend": true,
         "type": "scatter",
         "x": [
          0,
          0.6666666666666666,
          1.2333333333333334,
          1.9666666666666666,
          2.1333333333333333,
          2.7333333333333334,
          2.966666666666667,
          3.066666666666667,
          3.2666666666666666,
          3.933333333333333,
          4.266666666666667,
          5.6,
          5.766666666666667,
          6.666666666666667,
          7.033333333333333,
          7.733333333333333,
          7.9,
          8.366666666666667,
          9.066666666666666,
          12.066666666666666,
          12.4,
          13.6,
          13.933333333333334,
          15.333333333333334,
          15.533333333333333,
          15.8,
          16,
          16.9,
          17.966666666666665,
          19.066666666666666,
          19.166666666666668,
          19.3,
          19.6,
          20.333333333333332,
          21.1,
          23.533333333333335,
          23.966666666666665,
          28.366666666666667,
          32.46666666666667,
          33.46666666666667,
          36.93333333333333,
          37.56666666666667,
          52.733333333333334,
          56.93333333333333,
          58.7,
          59.733333333333334,
          60.13333333333333,
          60.2,
          61,
          67.56666666666666,
          70.3,
          79.33333333333333,
          165.56666666666666
         ],
         "xaxis": "x",
         "y": [
          1,
          0.9811320754716981,
          0.9811320754716981,
          0.9811320754716981,
          0.9811320754716981,
          0.9811320754716981,
          0.9811320754716981,
          0.9602569249297473,
          0.9393817743877961,
          0.9185066238458451,
          0.8976314733038941,
          0.8767563227619433,
          0.8558811722199923,
          0.835006021678041,
          0.81413087113609,
          0.793255720594139,
          0.772380570052188,
          0.751505419510237,
          0.7097551184263351,
          0.6888799678843839,
          0.6888799678843839,
          0.6673524688879969,
          0.64582496989161,
          0.64582496989161,
          0.64582496989161,
          0.6227597923954812,
          0.6227597923954812,
          0.6227597923954812,
          0.6227597923954812,
          0.6227597923954812,
          0.5956832796826342,
          0.5686067669697872,
          0.5686067669697872,
          0.5686067669697872,
          0.5686067669697872,
          0.5370175021381325,
          0.5054282373064776,
          0.5054282373064776,
          0.47173302148604557,
          0.43803780566561384,
          0.43803780566561384,
          0.43803780566561384,
          0.43803780566561384,
          0.43803780566561384,
          0.43803780566561384,
          0.43803780566561384,
          0.3754609762848119,
          0.3754609762848119,
          0.3754609762848119,
          0.3754609762848119,
          0.3754609762848119,
          0.3754609762848119,
          0.3754609762848119
         ],
         "yaxis": "y"
        }
       ],
       "layout": {
        "font": {
         "size": 16
        },
        "legend": {
         "bgcolor": "rgba(0,0,0,0)",
         "font": {
          "color": "#003366",
          "size": 16
         },
         "orientation": "h",
         "title": {
          "text": "Network subtype"
         },
         "tracegroupgap": 0,
         "x": 0.5,
         "xanchor": "center",
         "y": 0.1,
         "yanchor": "bottom"
        },
        "margin": {
         "t": 60
        },
        "paper_bgcolor": "rgba(0,0,0,0)",
        "template": {
         "data": {
          "bar": [
           {
            "error_x": {
             "color": "rgb(51,51,51)"
            },
            "error_y": {
             "color": "rgb(51,51,51)"
            },
            "marker": {
             "line": {
              "color": "rgb(237,237,237)",
              "width": 0.5
             },
             "pattern": {
              "fillmode": "overlay",
              "size": 10,
              "solidity": 0.2
             }
            },
            "type": "bar"
           }
          ],
          "barpolar": [
           {
            "marker": {
             "line": {
              "color": "rgb(237,237,237)",
              "width": 0.5
             },
             "pattern": {
              "fillmode": "overlay",
              "size": 10,
              "solidity": 0.2
             }
            },
            "type": "barpolar"
           }
          ],
          "carpet": [
           {
            "aaxis": {
             "endlinecolor": "rgb(51,51,51)",
             "gridcolor": "white",
             "linecolor": "white",
             "minorgridcolor": "white",
             "startlinecolor": "rgb(51,51,51)"
            },
            "baxis": {
             "endlinecolor": "rgb(51,51,51)",
             "gridcolor": "white",
             "linecolor": "white",
             "minorgridcolor": "white",
             "startlinecolor": "rgb(51,51,51)"
            },
            "type": "carpet"
           }
          ],
          "choropleth": [
           {
            "colorbar": {
             "outlinewidth": 0,
             "tickcolor": "rgb(237,237,237)",
             "ticklen": 6,
             "ticks": "inside"
            },
            "type": "choropleth"
           }
          ],
          "contour": [
           {
            "colorbar": {
             "outlinewidth": 0,
             "tickcolor": "rgb(237,237,237)",
             "ticklen": 6,
             "ticks": "inside"
            },
            "colorscale": [
             [
              0,
              "rgb(20,44,66)"
             ],
             [
              1,
              "rgb(90,179,244)"
             ]
            ],
            "type": "contour"
           }
          ],
          "contourcarpet": [
           {
            "colorbar": {
             "outlinewidth": 0,
             "tickcolor": "rgb(237,237,237)",
             "ticklen": 6,
             "ticks": "inside"
            },
            "type": "contourcarpet"
           }
          ],
          "heatmap": [
           {
            "colorbar": {
             "outlinewidth": 0,
             "tickcolor": "rgb(237,237,237)",
             "ticklen": 6,
             "ticks": "inside"
            },
            "colorscale": [
             [
              0,
              "rgb(20,44,66)"
             ],
             [
              1,
              "rgb(90,179,244)"
             ]
            ],
            "type": "heatmap"
           }
          ],
          "heatmapgl": [
           {
            "colorbar": {
             "outlinewidth": 0,
             "tickcolor": "rgb(237,237,237)",
             "ticklen": 6,
             "ticks": "inside"
            },
            "colorscale": [
             [
              0,
              "rgb(20,44,66)"
             ],
             [
              1,
              "rgb(90,179,244)"
             ]
            ],
            "type": "heatmapgl"
           }
          ],
          "histogram": [
           {
            "marker": {
             "pattern": {
              "fillmode": "overlay",
              "size": 10,
              "solidity": 0.2
             }
            },
            "type": "histogram"
           }
          ],
          "histogram2d": [
           {
            "colorbar": {
             "outlinewidth": 0,
             "tickcolor": "rgb(237,237,237)",
             "ticklen": 6,
             "ticks": "inside"
            },
            "colorscale": [
             [
              0,
              "rgb(20,44,66)"
             ],
             [
              1,
              "rgb(90,179,244)"
             ]
            ],
            "type": "histogram2d"
           }
          ],
          "histogram2dcontour": [
           {
            "colorbar": {
             "outlinewidth": 0,
             "tickcolor": "rgb(237,237,237)",
             "ticklen": 6,
             "ticks": "inside"
            },
            "colorscale": [
             [
              0,
              "rgb(20,44,66)"
             ],
             [
              1,
              "rgb(90,179,244)"
             ]
            ],
            "type": "histogram2dcontour"
           }
          ],
          "mesh3d": [
           {
            "colorbar": {
             "outlinewidth": 0,
             "tickcolor": "rgb(237,237,237)",
             "ticklen": 6,
             "ticks": "inside"
            },
            "type": "mesh3d"
           }
          ],
          "parcoords": [
           {
            "line": {
             "colorbar": {
              "outlinewidth": 0,
              "tickcolor": "rgb(237,237,237)",
              "ticklen": 6,
              "ticks": "inside"
             }
            },
            "type": "parcoords"
           }
          ],
          "pie": [
           {
            "automargin": true,
            "type": "pie"
           }
          ],
          "scatter": [
           {
            "fillpattern": {
             "fillmode": "overlay",
             "size": 10,
             "solidity": 0.2
            },
            "type": "scatter"
           }
          ],
          "scatter3d": [
           {
            "line": {
             "colorbar": {
              "outlinewidth": 0,
              "tickcolor": "rgb(237,237,237)",
              "ticklen": 6,
              "ticks": "inside"
             }
            },
            "marker": {
             "colorbar": {
              "outlinewidth": 0,
              "tickcolor": "rgb(237,237,237)",
              "ticklen": 6,
              "ticks": "inside"
             }
            },
            "type": "scatter3d"
           }
          ],
          "scattercarpet": [
           {
            "marker": {
             "colorbar": {
              "outlinewidth": 0,
              "tickcolor": "rgb(237,237,237)",
              "ticklen": 6,
              "ticks": "inside"
             }
            },
            "type": "scattercarpet"
           }
          ],
          "scattergeo": [
           {
            "marker": {
             "colorbar": {
              "outlinewidth": 0,
              "tickcolor": "rgb(237,237,237)",
              "ticklen": 6,
              "ticks": "inside"
             }
            },
            "type": "scattergeo"
           }
          ],
          "scattergl": [
           {
            "marker": {
             "colorbar": {
              "outlinewidth": 0,
              "tickcolor": "rgb(237,237,237)",
              "ticklen": 6,
              "ticks": "inside"
             }
            },
            "type": "scattergl"
           }
          ],
          "scattermapbox": [
           {
            "marker": {
             "colorbar": {
              "outlinewidth": 0,
              "tickcolor": "rgb(237,237,237)",
              "ticklen": 6,
              "ticks": "inside"
             }
            },
            "type": "scattermapbox"
           }
          ],
          "scatterpolar": [
           {
            "marker": {
             "colorbar": {
              "outlinewidth": 0,
              "tickcolor": "rgb(237,237,237)",
              "ticklen": 6,
              "ticks": "inside"
             }
            },
            "type": "scatterpolar"
           }
          ],
          "scatterpolargl": [
           {
            "marker": {
             "colorbar": {
              "outlinewidth": 0,
              "tickcolor": "rgb(237,237,237)",
              "ticklen": 6,
              "ticks": "inside"
             }
            },
            "type": "scatterpolargl"
           }
          ],
          "scatterternary": [
           {
            "marker": {
             "colorbar": {
              "outlinewidth": 0,
              "tickcolor": "rgb(237,237,237)",
              "ticklen": 6,
              "ticks": "inside"
             }
            },
            "type": "scatterternary"
           }
          ],
          "surface": [
           {
            "colorbar": {
             "outlinewidth": 0,
             "tickcolor": "rgb(237,237,237)",
             "ticklen": 6,
             "ticks": "inside"
            },
            "colorscale": [
             [
              0,
              "rgb(20,44,66)"
             ],
             [
              1,
              "rgb(90,179,244)"
             ]
            ],
            "type": "surface"
           }
          ],
          "table": [
           {
            "cells": {
             "fill": {
              "color": "rgb(237,237,237)"
             },
             "line": {
              "color": "white"
             }
            },
            "header": {
             "fill": {
              "color": "rgb(217,217,217)"
             },
             "line": {
              "color": "white"
             }
            },
            "type": "table"
           }
          ]
         },
         "layout": {
          "annotationdefaults": {
           "arrowhead": 0,
           "arrowwidth": 1
          },
          "autotypenumbers": "strict",
          "coloraxis": {
           "colorbar": {
            "outlinewidth": 0,
            "tickcolor": "rgb(237,237,237)",
            "ticklen": 6,
            "ticks": "inside"
           }
          },
          "colorscale": {
           "sequential": [
            [
             0,
             "rgb(20,44,66)"
            ],
            [
             1,
             "rgb(90,179,244)"
            ]
           ],
           "sequentialminus": [
            [
             0,
             "rgb(20,44,66)"
            ],
            [
             1,
             "rgb(90,179,244)"
            ]
           ]
          },
          "colorway": [
           "#F8766D",
           "#A3A500",
           "#00BF7D",
           "#00B0F6",
           "#E76BF3"
          ],
          "font": {
           "color": "rgb(51,51,51)"
          },
          "geo": {
           "bgcolor": "white",
           "lakecolor": "white",
           "landcolor": "rgb(237,237,237)",
           "showlakes": true,
           "showland": true,
           "subunitcolor": "white"
          },
          "hoverlabel": {
           "align": "left"
          },
          "hovermode": "closest",
          "paper_bgcolor": "white",
          "plot_bgcolor": "rgb(237,237,237)",
          "polar": {
           "angularaxis": {
            "gridcolor": "white",
            "linecolor": "white",
            "showgrid": true,
            "tickcolor": "rgb(51,51,51)",
            "ticks": "outside"
           },
           "bgcolor": "rgb(237,237,237)",
           "radialaxis": {
            "gridcolor": "white",
            "linecolor": "white",
            "showgrid": true,
            "tickcolor": "rgb(51,51,51)",
            "ticks": "outside"
           }
          },
          "scene": {
           "xaxis": {
            "backgroundcolor": "rgb(237,237,237)",
            "gridcolor": "white",
            "gridwidth": 2,
            "linecolor": "white",
            "showbackground": true,
            "showgrid": true,
            "tickcolor": "rgb(51,51,51)",
            "ticks": "outside",
            "zerolinecolor": "white"
           },
           "yaxis": {
            "backgroundcolor": "rgb(237,237,237)",
            "gridcolor": "white",
            "gridwidth": 2,
            "linecolor": "white",
            "showbackground": true,
            "showgrid": true,
            "tickcolor": "rgb(51,51,51)",
            "ticks": "outside",
            "zerolinecolor": "white"
           },
           "zaxis": {
            "backgroundcolor": "rgb(237,237,237)",
            "gridcolor": "white",
            "gridwidth": 2,
            "linecolor": "white",
            "showbackground": true,
            "showgrid": true,
            "tickcolor": "rgb(51,51,51)",
            "ticks": "outside",
            "zerolinecolor": "white"
           }
          },
          "shapedefaults": {
           "fillcolor": "black",
           "line": {
            "width": 0
           },
           "opacity": 0.3
          },
          "ternary": {
           "aaxis": {
            "gridcolor": "white",
            "linecolor": "white",
            "showgrid": true,
            "tickcolor": "rgb(51,51,51)",
            "ticks": "outside"
           },
           "baxis": {
            "gridcolor": "white",
            "linecolor": "white",
            "showgrid": true,
            "tickcolor": "rgb(51,51,51)",
            "ticks": "outside"
           },
           "bgcolor": "rgb(237,237,237)",
           "caxis": {
            "gridcolor": "white",
            "linecolor": "white",
            "showgrid": true,
            "tickcolor": "rgb(51,51,51)",
            "ticks": "outside"
           }
          },
          "xaxis": {
           "automargin": true,
           "gridcolor": "white",
           "linecolor": "white",
           "showgrid": true,
           "tickcolor": "rgb(51,51,51)",
           "ticks": "outside",
           "title": {
            "standoff": 15
           },
           "zerolinecolor": "white"
          },
          "yaxis": {
           "automargin": true,
           "gridcolor": "white",
           "linecolor": "white",
           "showgrid": true,
           "tickcolor": "rgb(51,51,51)",
           "ticks": "outside",
           "title": {
            "standoff": 15
           },
           "zerolinecolor": "white"
          }
         }
        },
        "title": {
         "text": ""
        },
        "xaxis": {
         "anchor": "y",
         "domain": [
          0,
          1
         ],
         "range": [
          -1,
          60
         ],
         "tickfont": {
          "size": 16
         },
         "title": {
          "text": "Time (months)"
         }
        },
        "yaxis": {
         "anchor": "x",
         "domain": [
          0,
          1
         ],
         "tickfont": {
          "size": 16
         },
         "title": {
          "text": "Survival (%)"
         }
        }
       }
      }
     },
     "metadata": {},
     "output_type": "display_data"
    }
   ],
   "source": [
    "fig = prep_survival(comb_cs, cs_num=6, tf=6, cs_model=\"RawKMeans\", label=\"SBM\")\n",
    "# save_fig(name=\"Survival_plot_reward\", fig=fig, base_path=figures_path, width=1400, height=600)\n",
    "\n",
    "fig.update_layout(\n",
    "    legend=dict(\n",
    "        orientation=\"h\",\n",
    "        title=\"Network subtype\",\n",
    "        yanchor=\"bottom\",\n",
    "        y=0.1,\n",
    "        xanchor=\"center\",\n",
    "        x=0.5,\n",
    "        bgcolor=\"rgba(0,0,0,0)\",\n",
    "        font=dict(size=16, color=\"#003366\"),\n",
    "    ),\n",
    "    title=\"\",\n",
    "    template=\"ggplot2\",  # \"ggplot2\", \"plotly_white\"\n",
    "    paper_bgcolor=\"rgba(0,0,0,0)\",\n",
    "    # plot_bgcolor=\"rgba(0,0,0,0)\",\n",
    "    xaxis=dict(tickfont=dict(size=16)),\n",
    "    yaxis=dict(tickfont=dict(size=16)),\n",
    "    font=dict(size=16),\n",
    ")\n",
    "fig.show()\n",
    "save_fig(name=\"Survival_SBM_5K_6TF\", fig=fig, base_path=figures_path, width=1000, height=600)"
   ]
  },
  {
   "cell_type": "code",
   "execution_count": 66,
   "metadata": {},
   "outputs": [
    {
     "data": {
      "application/vnd.plotly.v1+json": {
       "config": {
        "plotlyServerURL": "https://plot.ly"
       },
       "data": [
        {
         "hovertemplate": "disease=Low IFNG<br>timeline=%{x}<br>chance=%{y}<extra></extra>",
         "legendgroup": "Low IFNG",
         "line": {
          "color": "rgb(15, 133, 84)",
          "dash": "solid",
          "shape": "hv"
         },
         "marker": {
          "symbol": "circle"
         },
         "mode": "lines+markers",
         "name": "Low IFNG",
         "orientation": "v",
         "showlegend": true,
         "type": "scatter",
         "x": [
          0,
          1.9666666666666666,
          2.066666666666667,
          2.1333333333333333,
          2.933333333333333,
          2.966666666666667,
          3,
          3.1666666666666665,
          3.533333333333333,
          5.133333333333334,
          7.1,
          7.333333333333333,
          7.9,
          8.266666666666667,
          8.366666666666667,
          8.633333333333333,
          9.066666666666666,
          9.133333333333333,
          11.466666666666667,
          11.866666666666667,
          12.333333333333334,
          12.733333333333333,
          13.1,
          13.333333333333334,
          13.766666666666667,
          13.833333333333334,
          15.166666666666666,
          15.566666666666666,
          16.366666666666667,
          18.233333333333334,
          18.733333333333334,
          25.266666666666666,
          26.5,
          29.566666666666666,
          37.56666666666667,
          38.766666666666666,
          51.86666666666667,
          60.2,
          61,
          87.5,
          88.53333333333333
         ],
         "xaxis": "x",
         "y": [
          1,
          1,
          0.975,
          0.975,
          0.9493421052631579,
          0.9493421052631579,
          0.9229714912280701,
          0.9229714912280701,
          0.8958252708978325,
          0.8686790505675952,
          0.8415328302373578,
          0.8143866099071205,
          0.7872403895768832,
          0.7600941692466457,
          0.7329479489164085,
          0.7047576431888541,
          0.6765673374613002,
          0.6483770317337458,
          0.6201867260061918,
          0.5919964202786375,
          0.5638061145510833,
          0.5638061145510833,
          0.5341321085220789,
          0.5044581024930747,
          0.4747840964640702,
          0.4747840964640702,
          0.44313182336646545,
          0.41147955026886085,
          0.41147955026886085,
          0.37718958774645583,
          0.37718958774645583,
          0.37718958774645583,
          0.33527963355240503,
          0.33527963355240503,
          0.33527963355240503,
          0.2793996946270042,
          0.22351975570160337,
          0.22351975570160337,
          0.22351975570160337,
          0.22351975570160337,
          0.22351975570160337
         ],
         "yaxis": "y"
        },
        {
         "hovertemplate": "disease=High IFNG<br>timeline=%{x}<br>chance=%{y}<extra></extra>",
         "legendgroup": "High IFNG",
         "line": {
          "color": "rgb(56, 166, 165)",
          "dash": "solid",
          "shape": "hv"
         },
         "marker": {
          "symbol": "circle"
         },
         "mode": "lines+markers",
         "name": "High IFNG",
         "orientation": "v",
         "showlegend": true,
         "type": "scatter",
         "x": [
          0,
          1.2333333333333334,
          2.2666666666666666,
          2.3,
          2.7333333333333334,
          3.066666666666667,
          3.2666666666666666,
          3.933333333333333,
          4.066666666666666,
          5.766666666666667,
          7.733333333333333,
          8.333333333333334,
          9.066666666666666,
          9.2,
          10.366666666666667,
          10.933333333333334,
          11,
          11.233333333333333,
          12.066666666666666,
          12.333333333333334,
          12.8,
          12.866666666666667,
          13.533333333333333,
          13.6,
          15.533333333333333,
          16,
          16.5,
          16.9,
          17,
          17.966666666666665,
          18,
          19.066666666666666,
          19.3,
          19.6,
          20.333333333333332,
          21.2,
          21.333333333333332,
          23.533333333333335,
          23.966666666666665,
          26.1,
          27.433333333333334,
          28,
          28.8,
          29.9,
          29.966666666666665,
          32.46666666666667,
          33.5,
          34.93333333333333,
          39.53333333333333,
          52.733333333333334,
          54.63333333333333,
          54.96666666666667,
          56.93333333333333,
          58.7,
          59.733333333333334,
          62.8,
          64.96666666666667,
          67.56666666666666,
          79.33333333333333,
          80.76666666666667,
          94.26666666666667,
          98.8,
          144.76666666666668,
          165.56666666666666,
          168.33333333333334
         ],
         "xaxis": "x",
         "y": [
          1,
          1,
          1,
          0.9841269841269844,
          0.9841269841269844,
          0.9679937548790006,
          0.9518605256310178,
          0.935727296383034,
          0.919594067135051,
          0.9034608378870679,
          0.8873276086390843,
          0.8711943793911009,
          0.8550611501431176,
          0.8550611501431176,
          0.8386176664865189,
          0.8221741828299205,
          0.8221741828299205,
          0.8221741828299205,
          0.8050455540209636,
          0.7879169252120071,
          0.7879169252120071,
          0.7704076602072958,
          0.7528983952025846,
          0.7353891301978734,
          0.7353891301978734,
          0.7353891301978734,
          0.7353891301978734,
          0.7353891301978734,
          0.6966844391348275,
          0.6966844391348275,
          0.6966844391348275,
          0.6966844391348275,
          0.6755727894640751,
          0.6755727894640751,
          0.6755727894640751,
          0.6755727894640751,
          0.6755727894640751,
          0.6514451898403583,
          0.6273175902166414,
          0.6273175902166414,
          0.6022248866079758,
          0.6022248866079758,
          0.6022248866079758,
          0.6022248866079758,
          0.6022248866079758,
          0.572113642277577,
          0.5420023979471782,
          0.5420023979471782,
          0.5420023979471782,
          0.5420023979471782,
          0.5420023979471782,
          0.5420023979471782,
          0.5420023979471782,
          0.5420023979471782,
          0.5420023979471782,
          0.5420023979471782,
          0.5420023979471782,
          0.5420023979471782,
          0.5420023979471782,
          0.5420023979471782,
          0.43360191835774264,
          0.43360191835774264,
          0.43360191835774264,
          0.43360191835774264,
          0.43360191835774264
         ],
         "yaxis": "y"
        },
        {
         "hovertemplate": "disease=0.0<br>timeline=%{x}<br>chance=%{y}<extra></extra>",
         "legendgroup": "0.0",
         "line": {
          "color": "#636EFA",
          "dash": "solid",
          "shape": "hv"
         },
         "marker": {
          "symbol": "circle"
         },
         "mode": "lines+markers",
         "name": "0.0",
         "orientation": "v",
         "showlegend": true,
         "type": "scatter",
         "x": [
          0,
          0.5666666666666667,
          0.6666666666666666,
          1.8666666666666667,
          1.9,
          2.533333333333333,
          3.1,
          3.5,
          3.9,
          4.3,
          4.733333333333333,
          4.866666666666666,
          4.966666666666667,
          5.133333333333334,
          5.266666666666667,
          6.233333333333333,
          7.2,
          7.666666666666667,
          7.733333333333333,
          9.766666666666667,
          9.8,
          10.8,
          11.5,
          11.966666666666667,
          12.266666666666667,
          12.3,
          12.4,
          12.633333333333333,
          12.8,
          12.933333333333334,
          12.966666666666667,
          13.033333333333333,
          13.133333333333333,
          13.666666666666666,
          13.766666666666667,
          13.833333333333334,
          14.166666666666666,
          14.466666666666667,
          15.133333333333333,
          15.333333333333334,
          15.833333333333334,
          15.9,
          16.166666666666668,
          16.2,
          16.4,
          17.066666666666666,
          17.466666666666665,
          17.666666666666668,
          17.866666666666667,
          19.066666666666666,
          19.266666666666666,
          19.333333333333332,
          19.766666666666666,
          20.4,
          20.566666666666666,
          20.6,
          21.366666666666667,
          22.166666666666668,
          22.466666666666665,
          22.666666666666668,
          23.033333333333335,
          23.2,
          23.333333333333332,
          23.733333333333334,
          24.466666666666665,
          24.633333333333333,
          25.933333333333334,
          27.733333333333334,
          27.833333333333332,
          28.066666666666666,
          28.633333333333333,
          30.066666666666666,
          30.133333333333333,
          30.2,
          30.7,
          31.5,
          33.43333333333333,
          33.6,
          35.46666666666667,
          35.9,
          36.333333333333336,
          37.166666666666664,
          39.53333333333333,
          42.333333333333336,
          45.56666666666667,
          47.63333333333333,
          57.266666666666666,
          65.06666666666666,
          66.96666666666667,
          67.33333333333333,
          67.46666666666667,
          68.3,
          72.56666666666666,
          87.5,
          88.03333333333333,
          95.6,
          98.8,
          132.7
         ],
         "xaxis": "x",
         "y": [
          1,
          1,
          1,
          0.9896907216494844,
          0.979381443298969,
          0.9690721649484535,
          0.9587628865979385,
          0.9587628865979385,
          0.9587628865979385,
          0.9587628865979385,
          0.948109965635739,
          0.9374570446735403,
          0.9268041237113406,
          0.9161512027491409,
          0.9161512027491409,
          0.9161512027491409,
          0.9052446408116517,
          0.9052446408116517,
          0.8942050720212658,
          0.8942050720212658,
          0.8830275086210003,
          0.8718499452207344,
          0.8718499452207344,
          0.8718499452207344,
          0.8718499452207344,
          0.8718499452207344,
          0.8718499452207344,
          0.8718499452207344,
          0.8718499452207344,
          0.8595703685274849,
          0.8595703685274849,
          0.8471128269546229,
          0.8471128269546229,
          0.8471128269546229,
          0.8342777841219771,
          0.8342777841219771,
          0.8342777841219771,
          0.8210352796121045,
          0.8077927751022319,
          0.7945502705923589,
          0.7945502705923589,
          0.7945502705923589,
          0.7945502705923589,
          0.7806107921609143,
          0.7666713137294693,
          0.7666713137294693,
          0.7666713137294693,
          0.7522058172440076,
          0.7377403207585458,
          0.7377403207585458,
          0.7377403207585458,
          0.7377403207585458,
          0.7223707307427425,
          0.7070011407269396,
          0.6916315507111365,
          0.6916315507111365,
          0.6916315507111365,
          0.6755470960434357,
          0.6590703376033518,
          0.6425935791632679,
          0.6425935791632679,
          0.6256832218168661,
          0.6256832218168661,
          0.6083031323219531,
          0.5909230428270404,
          0.5735429533321273,
          0.5561628638372144,
          0.5561628638372144,
          0.5376241017093073,
          0.5376241017093073,
          0.518423240933975,
          0.518423240933975,
          0.4984838855134373,
          0.4984838855134373,
          0.4984838855134373,
          0.4984838855134373,
          0.4984838855134373,
          0.474746557631845,
          0.4510092297502527,
          0.4272719018686605,
          0.4272719018686605,
          0.4272719018686605,
          0.4272719018686605,
          0.3987871084107497,
          0.37030231495283905,
          0.37030231495283905,
          0.33944378870676917,
          0.33944378870676917,
          0.33944378870676917,
          0.33944378870676917,
          0.33944378870676917,
          0.33944378870676917,
          0.33944378870676917,
          0.33944378870676917,
          0.25458284153007693,
          0.25458284153007693,
          0.25458284153007693,
          0.25458284153007693
         ],
         "yaxis": "y"
        },
        {
         "hovertemplate": "disease=3.0<br>timeline=%{x}<br>chance=%{y}<extra></extra>",
         "legendgroup": "3.0",
         "line": {
          "color": "#00CC96",
          "dash": "solid",
          "shape": "hv"
         },
         "marker": {
          "symbol": "circle"
         },
         "mode": "lines+markers",
         "name": "3.0",
         "orientation": "v",
         "showlegend": true,
         "type": "scatter",
         "x": [
          0,
          0.9333333333333333,
          1.5333333333333334,
          3.6666666666666665,
          4.8,
          5.433333333333334,
          6.066666666666666,
          6.3,
          6.666666666666667,
          7.466666666666667,
          8.733333333333333,
          10.8,
          11.1,
          11.333333333333334,
          12.033333333333333,
          12.133333333333333,
          12.433333333333334,
          12.766666666666667,
          13.266666666666667,
          13.3,
          13.766666666666667,
          13.833333333333334,
          13.866666666666667,
          15.1,
          15.566666666666666,
          16.5,
          16.766666666666666,
          17,
          18.066666666666666,
          18.133333333333333,
          18.2,
          18.666666666666668,
          18.833333333333332,
          19.1,
          23,
          26.633333333333333,
          27.1,
          28.8,
          31.366666666666667,
          36.46666666666667,
          39.36666666666667,
          44.93333333333333,
          45,
          45.666666666666664,
          48.46666666666667,
          50.96666666666667,
          52.03333333333333,
          53.46666666666667,
          54.03333333333333,
          57.13333333333333,
          63.733333333333334,
          65.7,
          66.93333333333334,
          67.33333333333333,
          77.06666666666666,
          77.66666666666667,
          98.46666666666667,
          114,
          114.4
         ],
         "xaxis": "x",
         "y": [
          1,
          1,
          1,
          1,
          0.982142857142857,
          0.964285714285714,
          0.9460916442048516,
          0.9460916442048516,
          0.9275408276518152,
          0.9275408276518152,
          0.9086114230058601,
          0.8896820183599043,
          0.8896820183599043,
          0.8703411049172975,
          0.8703411049172975,
          0.8703411049172975,
          0.8703411049172975,
          0.8703411049172975,
          0.8703411049172975,
          0.8703411049172975,
          0.8480246663296745,
          0.8480246663296745,
          0.8480246663296745,
          0.8244684255982947,
          0.8009121848669151,
          0.8009121848669151,
          0.8009121848669151,
          0.775883679089824,
          0.775883679089824,
          0.7500208897868299,
          0.7500208897868299,
          0.7500208897868299,
          0.7222423383132436,
          0.7222423383132436,
          0.6933526447807141,
          0.6933526447807141,
          0.6933526447807141,
          0.6618366154724997,
          0.6303205861642853,
          0.6303205861642853,
          0.6303205861642853,
          0.5953027758218252,
          0.5953027758218252,
          0.5953027758218252,
          0.5953027758218252,
          0.5953027758218252,
          0.5953027758218252,
          0.5953027758218252,
          0.5953027758218252,
          0.5953027758218252,
          0.5953027758218252,
          0.5208899288440971,
          0.5208899288440971,
          0.43407494070341424,
          0.43407494070341424,
          0.43407494070341424,
          0.28938329380227606,
          0.28938329380227606,
          0.28938329380227606
         ],
         "yaxis": "y"
        },
        {
         "hovertemplate": "disease=Lum Inf/NS<br>timeline=%{x}<br>chance=%{y}<extra></extra>",
         "legendgroup": "Lum Inf/NS",
         "line": {
          "color": "#00cc96",
          "dash": "solid",
          "shape": "hv"
         },
         "marker": {
          "symbol": "circle"
         },
         "mode": "lines+markers",
         "name": "Lum Inf/NS",
         "orientation": "v",
         "showlegend": true,
         "type": "scatter",
         "x": [
          0,
          1.1666666666666667,
          1.5333333333333334,
          1.8666666666666667,
          1.9,
          2.1333333333333333,
          2.1666666666666665,
          2.533333333333333,
          2.8,
          3.1,
          3.3,
          3.5,
          3.9,
          4.3,
          4.733333333333333,
          4.866666666666666,
          4.966666666666667,
          5.133333333333334,
          5.6,
          6.066666666666666,
          6.233333333333333,
          6.3,
          6.366666666666666,
          6.866666666666666,
          7.2,
          7.466666666666667,
          7.666666666666667,
          8.2,
          8.466666666666667,
          9.766666666666667,
          9.8,
          10.8,
          11.966666666666667,
          12.4,
          12.933333333333334,
          12.966666666666667,
          13.133333333333333,
          14.1,
          14.433333333333334,
          14.466666666666667,
          15.1,
          15.133333333333333,
          15.166666666666666,
          15.333333333333334,
          15.566666666666666,
          15.9,
          16.033333333333335,
          16.166666666666668,
          16.2,
          16.4,
          17.066666666666666,
          17.666666666666668,
          17.866666666666667,
          17.966666666666665,
          18.066666666666666,
          18.2,
          18.233333333333334,
          18.333333333333332,
          18.833333333333332,
          19.1,
          19.366666666666667,
          19.766666666666666,
          20.066666666666666,
          20.1,
          20.766666666666666,
          21.6,
          22.166666666666668,
          23,
          23.2,
          23.333333333333332,
          23.733333333333334,
          24.366666666666667,
          24.466666666666665,
          24.633333333333333,
          25.366666666666667,
          25.933333333333334,
          26.633333333333333,
          27.066666666666666,
          27.1,
          27.733333333333334,
          27.833333333333332,
          28.066666666666666,
          28.633333333333333,
          28.8,
          31.633333333333333,
          33.43333333333333,
          33.6,
          35.9,
          36.46666666666667,
          37.166666666666664,
          44.93333333333333,
          45.56666666666667,
          47.333333333333336,
          47.43333333333333,
          48.46666666666667,
          52.03333333333333,
          55.666666666666664,
          57.13333333333333,
          57.266666666666666,
          60.13333333333333,
          61.5,
          63.733333333333334,
          65.06666666666666,
          67.33333333333333,
          72.56666666666666,
          77.06666666666666,
          93,
          95.6,
          98.46666666666667,
          100.36666666666666,
          114,
          114.4,
          132.7
         ],
         "xaxis": "x",
         "y": [
          1,
          1,
          1,
          0.982608695652174,
          0.9739130434782604,
          0.9739130434782604,
          0.9651390520955739,
          0.9563650607128863,
          0.9563650607128863,
          0.9475098286692478,
          0.9386545966256102,
          0.9386545966256102,
          0.9386545966256102,
          0.9386545966256102,
          0.9295414452020602,
          0.9204282937785111,
          0.9113151423549617,
          0.9022019909314115,
          0.8930888395078624,
          0.8839756880843125,
          0.8839756880843125,
          0.8839756880843125,
          0.8746706808413197,
          0.8653656735983273,
          0.8560606663553344,
          0.8560606663553344,
          0.8560606663553344,
          0.8465488811736083,
          0.8370370959918828,
          0.8370370959918828,
          0.8177948639001156,
          0.8081737478542315,
          0.8081737478542315,
          0.8081737478542315,
          0.7983179704413751,
          0.7983179704413751,
          0.7983179704413751,
          0.7983179704413751,
          0.7983179704413751,
          0.7879502045914869,
          0.7775824387415987,
          0.7672146728917113,
          0.7672146728917113,
          0.7567048828520989,
          0.7567048828520989,
          0.7567048828520989,
          0.7567048828520989,
          0.7567048828520989,
          0.7455768698689794,
          0.7344488568858603,
          0.7344488568858603,
          0.7231496437030008,
          0.7118504305201416,
          0.7003689719633651,
          0.7003689719633651,
          0.7003689719633651,
          0.6884983114216129,
          0.6766276508798612,
          0.6647569903381094,
          0.6647569903381094,
          0.6647569903381094,
          0.6524466757022185,
          0.6401363610663277,
          0.6401363610663277,
          0.6275846677120859,
          0.6275846677120859,
          0.614776817350615,
          0.6016964595346446,
          0.5886161017186738,
          0.5886161017186738,
          0.5752384630432495,
          0.5752384630432495,
          0.5615423091612675,
          0.5478461552792852,
          0.5478461552792852,
          0.5337988179644317,
          0.5337988179644317,
          0.5337988179644317,
          0.5337988179644317,
          0.5337988179644317,
          0.5180988527301836,
          0.5180988527301836,
          0.5019082635823654,
          0.4857176744345472,
          0.469527085286729,
          0.469527085286729,
          0.45275826081220305,
          0.435989436337677,
          0.435989436337677,
          0.435989436337677,
          0.4178232098236071,
          0.3996569833095373,
          0.38149075679546735,
          0.36332453028139744,
          0.36332453028139744,
          0.36332453028139744,
          0.3431398341546532,
          0.3431398341546532,
          0.3216935945199874,
          0.3002473548853215,
          0.3002473548853215,
          0.3002473548853215,
          0.3002473548853215,
          0.27295214080483776,
          0.27295214080483776,
          0.27295214080483776,
          0.27295214080483776,
          0.27295214080483776,
          0.21836171264387022,
          0.21836171264387022,
          0.21836171264387022,
          0.21836171264387022,
          0.21836171264387022
         ],
         "yaxis": "y"
        },
        {
         "hovertemplate": "disease=Ne<br>timeline=%{x}<br>chance=%{y}<extra></extra>",
         "legendgroup": "Ne",
         "line": {
          "color": "rgb(237, 173, 8)",
          "dash": "solid",
          "shape": "hv"
         },
         "marker": {
          "symbol": "circle"
         },
         "mode": "lines+markers",
         "name": "Ne",
         "orientation": "v",
         "showlegend": true,
         "type": "scatter",
         "x": [
          0,
          0.5,
          0.6666666666666666,
          4.266666666666667,
          4.366666666666666,
          6.666666666666667,
          6.833333333333333,
          7.033333333333333,
          8.466666666666667,
          9.066666666666666,
          9.1,
          11.466666666666667,
          12.566666666666666,
          13.033333333333333,
          13.833333333333334,
          15.333333333333334,
          17.4,
          18.833333333333332,
          19.066666666666666,
          19.166666666666668,
          19.666666666666668,
          20.5,
          21.266666666666666,
          21.533333333333335,
          27.3,
          31.5,
          34.53333333333333,
          37,
          64.9,
          112.13333333333334
         ],
         "xaxis": "x",
         "y": [
          1,
          1,
          0.9655172413793102,
          0.9310344827586207,
          0.896551724137931,
          0.8620689655172411,
          0.8275862068965517,
          0.793103448275862,
          0.7586206896551725,
          0.7241379310344827,
          0.6896551724137929,
          0.6551724137931032,
          0.6551724137931032,
          0.6187739463601533,
          0.582375478927203,
          0.582375478927203,
          0.5435504469987226,
          0.501738874152667,
          0.501738874152667,
          0.45612624922969736,
          0.4105136243067276,
          0.36490099938375775,
          0.36490099938375775,
          0.36490099938375775,
          0.30408416615313144,
          0.30408416615313144,
          0.22806312461484862,
          0.22806312461484862,
          0.22806312461484862,
          0.22806312461484862
         ],
         "yaxis": "y"
        },
        {
         "hovertemplate": "disease=1.0<br>timeline=%{x}<br>chance=%{y}<extra></extra>",
         "legendgroup": "1.0",
         "line": {
          "color": "#FFA15A",
          "dash": "solid",
          "shape": "hv"
         },
         "marker": {
          "symbol": "circle"
         },
         "mode": "lines+markers",
         "name": "1.0",
         "orientation": "v",
         "showlegend": true,
         "type": "scatter",
         "x": [
          0,
          2.066666666666667,
          2.2666666666666666,
          2.3,
          2.933333333333333,
          3,
          3.3,
          4.066666666666666,
          4.366666666666666,
          5.133333333333334,
          5.6,
          6.366666666666666,
          7.1,
          7.333333333333333,
          8.266666666666667,
          8.333333333333334,
          8.366666666666667,
          8.433333333333334,
          8.633333333333333,
          8.7,
          9.066666666666666,
          9.1,
          9.133333333333333,
          9.2,
          9.266666666666667,
          10.1,
          10.366666666666667,
          10.7,
          11,
          11.233333333333333,
          11.466666666666667,
          11.866666666666667,
          12.333333333333334,
          12.566666666666666,
          12.733333333333333,
          12.8,
          12.866666666666667,
          13.1,
          13.333333333333334,
          13.533333333333333,
          13.766666666666667,
          14.266666666666667,
          14.566666666666666,
          15.166666666666666,
          16.133333333333333,
          16.366666666666667,
          16.5,
          16.933333333333334,
          17,
          17.4,
          17.966666666666665,
          18,
          18.233333333333334,
          18.733333333333334,
          18.833333333333332,
          19.4,
          19.666666666666668,
          20.5,
          20.766666666666666,
          21.266666666666666,
          21.333333333333332,
          22.833333333333332,
          25.266666666666666,
          26.1,
          26.3,
          26.5,
          27.3,
          27.433333333333334,
          29.566666666666666,
          29.9,
          29.966666666666665,
          33.5,
          34.93333333333333,
          44.2,
          48.666666666666664,
          51.86666666666667,
          54.96666666666667,
          62.3,
          62.8,
          64.96666666666667,
          76.43333333333334,
          80.76666666666667,
          88.53333333333333,
          94.26666666666667,
          127.23333333333333,
          144.76666666666668,
          168.03333333333333
         ],
         "xaxis": "x",
         "y": [
          1,
          0.9883720930232565,
          0.9883720930232565,
          0.976605758582504,
          0.9648394241417508,
          0.9530730897009978,
          0.9413067552602441,
          0.9295404208194914,
          0.9177740863787383,
          0.9060077519379856,
          0.8942414174972322,
          0.8824750830564789,
          0.8707087486157264,
          0.8589424141749729,
          0.84717607973422,
          0.835409745293467,
          0.835409745293467,
          0.8234753203607031,
          0.8115408954279393,
          0.799606470495175,
          0.7876720455624111,
          0.7757376206296474,
          0.7638031956968835,
          0.7638031956968835,
          0.7516793354477268,
          0.7395554751985699,
          0.7274316149494128,
          0.7153077547002563,
          0.7153077547002563,
          0.7153077547002563,
          0.702758495845866,
          0.6902092369914754,
          0.6776599781370849,
          0.6776599781370849,
          0.6776599781370849,
          0.6776599781370849,
          0.6643725275853773,
          0.6510850770336697,
          0.6377976264819625,
          0.6245101759302546,
          0.6112227253785473,
          0.6112227253785473,
          0.5976399981479128,
          0.5840572709172785,
          0.5840572709172785,
          0.5840572709172785,
          0.5698119716266131,
          0.5555666723359477,
          0.5413213730452824,
          0.5413213730452824,
          0.5266910656656801,
          0.5266910656656801,
          0.5116427495038037,
          0.5116427495038037,
          0.49613842376126427,
          0.49613842376126427,
          0.4801339584786429,
          0.4641294931960215,
          0.4481250279133999,
          0.4481250279133999,
          0.4481250279133999,
          0.43088944991673056,
          0.43088944991673056,
          0.43088944991673056,
          0.43088944991673056,
          0.41130356582960637,
          0.3917176817424822,
          0.3721317976553581,
          0.3721317976553581,
          0.3721317976553581,
          0.3721317976553581,
          0.3488735603018982,
          0.3488735603018982,
          0.3488735603018982,
          0.3488735603018982,
          0.31980076361007337,
          0.31980076361007337,
          0.28782068724906607,
          0.28782068724906607,
          0.28782068724906607,
          0.28782068724906607,
          0.28782068724906607,
          0.28782068724906607,
          0.21586551543679958,
          0.21586551543679958,
          0.21586551543679958,
          0.21586551543679958
         ],
         "yaxis": "y"
        },
        {
         "hovertemplate": "disease=LumP<br>timeline=%{x}<br>chance=%{y}<extra></extra>",
         "legendgroup": "LumP",
         "line": {
          "color": "rgb(95, 70, 144)",
          "dash": "solid",
          "shape": "hv"
         },
         "marker": {
          "symbol": "circle"
         },
         "mode": "lines+markers",
         "name": "LumP",
         "orientation": "v",
         "showlegend": true,
         "type": "scatter",
         "x": [
          0,
          0.43333333333333335,
          0.5666666666666667,
          0.6333333333333333,
          0.6666666666666666,
          0.9333333333333333,
          2.2333333333333334,
          2.2666666666666666,
          3.6666666666666665,
          3.966666666666667,
          4.8,
          5.266666666666667,
          5.433333333333334,
          6.666666666666667,
          7.733333333333333,
          8.6,
          8.733333333333333,
          10.8,
          11.066666666666666,
          11.1,
          11.333333333333334,
          11.5,
          12.033333333333333,
          12.133333333333333,
          12.166666666666666,
          12.2,
          12.266666666666667,
          12.3,
          12.333333333333334,
          12.433333333333334,
          12.533333333333333,
          12.633333333333333,
          12.766666666666667,
          12.8,
          12.833333333333334,
          13.266666666666667,
          13.3,
          13.666666666666666,
          13.766666666666667,
          13.833333333333334,
          13.866666666666667,
          14.166666666666666,
          14.266666666666667,
          15.233333333333333,
          15.533333333333333,
          15.566666666666666,
          15.633333333333333,
          15.8,
          15.833333333333334,
          16.5,
          16.766666666666666,
          16.933333333333334,
          17.466666666666665,
          17.866666666666667,
          18.133333333333333,
          18.666666666666668,
          19.233333333333334,
          19.266666666666666,
          19.333333333333332,
          19.4,
          19.666666666666668,
          19.966666666666665,
          20.4,
          20.566666666666666,
          20.6,
          21.366666666666667,
          21.4,
          21.633333333333333,
          21.7,
          22.466666666666665,
          22.666666666666668,
          23.033333333333335,
          25,
          25.766666666666666,
          26.6,
          27.333333333333332,
          27.733333333333334,
          29.1,
          29.766666666666666,
          30.066666666666666,
          30.2,
          30.7,
          31.366666666666667,
          33.233333333333334,
          35.46666666666667,
          36.333333333333336,
          39.13333333333333,
          39.36666666666667,
          45,
          45.666666666666664,
          47.63333333333333,
          48.5,
          50.733333333333334,
          50.96666666666667,
          51.266666666666666,
          53.46666666666667,
          54.03333333333333,
          65.7,
          66.93333333333334,
          66.96666666666667,
          67.46666666666667,
          68.13333333333334,
          68.3,
          71.3,
          77.66666666666667,
          88.03333333333333,
          90.1,
          96.2,
          106.1,
          110.46666666666667
         ],
         "xaxis": "x",
         "y": [
          1,
          1,
          1,
          0.9912280701754387,
          0.9912280701754387,
          0.9912280701754387,
          0.9912280701754387,
          0.9822169059011159,
          0.9822169059011159,
          0.9822169059011159,
          0.9730373086497037,
          0.9730373086497037,
          0.9637702866625638,
          0.9544132935881695,
          0.9450563005137763,
          0.9356993074393827,
          0.9263423143649884,
          0.916985321290595,
          0.9076283282162008,
          0.9076283282162008,
          0.8981738664639488,
          0.8981738664639488,
          0.8981738664639488,
          0.888411107045862,
          0.888411107045862,
          0.888411107045862,
          0.888411107045862,
          0.888411107045862,
          0.888411107045862,
          0.888411107045862,
          0.888411107045862,
          0.888411107045862,
          0.888411107045862,
          0.888411107045862,
          0.8771653968300915,
          0.8771653968300915,
          0.8771653968300915,
          0.8771653968300915,
          0.8653118103864411,
          0.8653118103864411,
          0.8653118103864411,
          0.8653118103864411,
          0.8653118103864411,
          0.8653118103864411,
          0.8653118103864411,
          0.8523967087388823,
          0.8523967087388823,
          0.8523967087388823,
          0.8523967087388823,
          0.8523967087388823,
          0.8523967087388823,
          0.8523967087388823,
          0.8523967087388823,
          0.8523967087388823,
          0.8230037187823697,
          0.8230037187823697,
          0.8080400148045083,
          0.8080400148045083,
          0.8080400148045083,
          0.8080400148045083,
          0.8080400148045083,
          0.7915494022574778,
          0.7750587897104467,
          0.7585681771634161,
          0.7585681771634161,
          0.7585681771634161,
          0.7585681771634161,
          0.7585681771634161,
          0.7405070300880967,
          0.7224458830127771,
          0.7043847359374577,
          0.7043847359374577,
          0.7043847359374577,
          0.7043847359374577,
          0.7043847359374577,
          0.7043847359374577,
          0.7043847359374577,
          0.7043847359374577,
          0.7043847359374577,
          0.7043847359374577,
          0.7043847359374577,
          0.7043847359374577,
          0.6792281382254057,
          0.6792281382254057,
          0.6531039790628899,
          0.6531039790628899,
          0.6531039790628899,
          0.6531039790628899,
          0.6531039790628899,
          0.6531039790628899,
          0.6531039790628899,
          0.6531039790628899,
          0.6531039790628899,
          0.6531039790628899,
          0.6531039790628899,
          0.6531039790628899,
          0.6531039790628899,
          0.6028652114426676,
          0.6028652114426676,
          0.6028652114426676,
          0.6028652114426676,
          0.6028652114426676,
          0.6028652114426676,
          0.6028652114426676,
          0.6028652114426676,
          0.48229216915413414,
          0.48229216915413414,
          0.48229216915413414,
          0.24114608457706704,
          0.24114608457706704
         ],
         "yaxis": "y"
        },
        {
         "hovertemplate": "disease=2.0<br>timeline=%{x}<br>chance=%{y}<extra></extra>",
         "legendgroup": "2.0",
         "line": {
          "color": "#EF553B",
          "dash": "solid",
          "shape": "hv"
         },
         "marker": {
          "symbol": "circle"
         },
         "mode": "lines+markers",
         "name": "2.0",
         "orientation": "v",
         "showlegend": true,
         "type": "scatter",
         "x": [
          0,
          0.5,
          0.6333333333333333,
          1.1666666666666667,
          1.8333333333333333,
          2.1333333333333333,
          2.1666666666666665,
          2.8,
          3.1666666666666665,
          3.533333333333333,
          3.966666666666667,
          6.833333333333333,
          6.866666666666666,
          8.2,
          8.466666666666667,
          8.6,
          9.8,
          11.066666666666666,
          12.133333333333333,
          12.2,
          12.333333333333334,
          12.533333333333333,
          13.266666666666667,
          13.833333333333334,
          14.266666666666667,
          14.433333333333334,
          15.233333333333333,
          15.533333333333333,
          15.566666666666666,
          15.633333333333333,
          15.8,
          16.033333333333335,
          16.5,
          17.4,
          17.866666666666667,
          18.133333333333333,
          18.233333333333334,
          18.333333333333332,
          19.233333333333334,
          19.266666666666666,
          19.366666666666667,
          19.666666666666668,
          19.966666666666665,
          20.066666666666666,
          20.1,
          21,
          21.4,
          21.533333333333335,
          21.6,
          21.633333333333333,
          21.7,
          24.366666666666667,
          25,
          25.366666666666667,
          25.766666666666666,
          27.066666666666666,
          27.333333333333332,
          29.1,
          29.766666666666666,
          31.633333333333333,
          34.53333333333333,
          37,
          38.766666666666666,
          39.13333333333333,
          47.333333333333336,
          47.43333333333333,
          48.5,
          50.733333333333334,
          51.4,
          55.666666666666664,
          61.5,
          64.9,
          68.13333333333334,
          71.3,
          90.1,
          93,
          96.2,
          100.36666666666666,
          106.1,
          110.46666666666667,
          112.13333333333334,
          168.33333333333334
         ],
         "xaxis": "x",
         "y": [
          1,
          1,
          0.9879518072289155,
          0.9879518072289155,
          0.9879518072289155,
          0.9879518072289155,
          0.9754460881500685,
          0.9754460881500685,
          0.9754460881500685,
          0.9626112712007252,
          0.9626112712007252,
          0.9496030107790931,
          0.936594750357462,
          0.9235864899358306,
          0.8975699690925679,
          0.8845617086709365,
          0.8715534482493046,
          0.8585451878276731,
          0.8455369274060418,
          0.8455369274060418,
          0.8323254129153226,
          0.8323254129153226,
          0.8323254129153226,
          0.818680734015071,
          0.818680734015071,
          0.818680734015071,
          0.818680734015071,
          0.818680734015071,
          0.8040614351933733,
          0.8040614351933733,
          0.8040614351933733,
          0.8040614351933733,
          0.8040614351933733,
          0.7879802064895057,
          0.7879802064895057,
          0.7712146701812186,
          0.754449133872931,
          0.7376835975646436,
          0.7209180612563564,
          0.7209180612563564,
          0.7209180612563564,
          0.7209180612563564,
          0.7028951097249474,
          0.6848721581935385,
          0.6848721581935385,
          0.6663620998639834,
          0.6663620998639834,
          0.6663620998639834,
          0.6663620998639834,
          0.6663620998639834,
          0.645538284243234,
          0.645538284243234,
          0.645538284243234,
          0.645538284243234,
          0.645538284243234,
          0.645538284243234,
          0.645538284243234,
          0.645538284243234,
          0.645538284243234,
          0.6174714023196153,
          0.5894045203959962,
          0.5894045203959962,
          0.5599342943761965,
          0.5599342943761965,
          0.528826833577519,
          0.4977193727788413,
          0.4977193727788413,
          0.4977193727788413,
          0.4977193727788413,
          0.4594332671804689,
          0.4594332671804689,
          0.4594332671804689,
          0.4594332671804689,
          0.4594332671804689,
          0.4594332671804689,
          0.4594332671804689,
          0.4594332671804689,
          0.4594332671804689,
          0.34457495038535174,
          0.34457495038535174,
          0.34457495038535174,
          0.34457495038535174
         ],
         "yaxis": "y"
        },
        {
         "hovertemplate": "disease=4.0<br>timeline=%{x}<br>chance=%{y}<extra></extra>",
         "legendgroup": "4.0",
         "line": {
          "color": "#19D3F3",
          "dash": "solid",
          "shape": "hv"
         },
         "marker": {
          "symbol": "circle"
         },
         "mode": "lines+markers",
         "name": "4.0",
         "orientation": "v",
         "showlegend": true,
         "type": "scatter",
         "x": [
          0,
          0.6666666666666666,
          1.2333333333333334,
          1.9666666666666666,
          2.1333333333333333,
          2.7333333333333334,
          2.966666666666667,
          3.066666666666667,
          3.2666666666666666,
          3.933333333333333,
          4.266666666666667,
          5.6,
          5.766666666666667,
          6.666666666666667,
          7.033333333333333,
          7.733333333333333,
          7.9,
          8.366666666666667,
          9.066666666666666,
          12.066666666666666,
          12.4,
          13.6,
          13.933333333333334,
          15.333333333333334,
          15.533333333333333,
          15.8,
          16,
          16.9,
          17.966666666666665,
          19.066666666666666,
          19.166666666666668,
          19.3,
          19.6,
          20.333333333333332,
          21.1,
          23.533333333333335,
          23.966666666666665,
          28.366666666666667,
          32.46666666666667,
          33.46666666666667,
          36.93333333333333,
          37.56666666666667,
          52.733333333333334,
          56.93333333333333,
          58.7,
          59.733333333333334,
          60.13333333333333,
          60.2,
          61,
          67.56666666666666,
          70.3,
          79.33333333333333,
          165.56666666666666
         ],
         "xaxis": "x",
         "y": [
          1,
          0.9811320754716981,
          0.9811320754716981,
          0.9811320754716981,
          0.9811320754716981,
          0.9811320754716981,
          0.9811320754716981,
          0.9602569249297473,
          0.9393817743877961,
          0.9185066238458451,
          0.8976314733038941,
          0.8767563227619433,
          0.8558811722199923,
          0.835006021678041,
          0.81413087113609,
          0.793255720594139,
          0.772380570052188,
          0.751505419510237,
          0.7097551184263351,
          0.6888799678843839,
          0.6888799678843839,
          0.6673524688879969,
          0.64582496989161,
          0.64582496989161,
          0.64582496989161,
          0.6227597923954812,
          0.6227597923954812,
          0.6227597923954812,
          0.6227597923954812,
          0.6227597923954812,
          0.5956832796826342,
          0.5686067669697872,
          0.5686067669697872,
          0.5686067669697872,
          0.5686067669697872,
          0.5370175021381325,
          0.5054282373064776,
          0.5054282373064776,
          0.47173302148604557,
          0.43803780566561384,
          0.43803780566561384,
          0.43803780566561384,
          0.43803780566561384,
          0.43803780566561384,
          0.43803780566561384,
          0.43803780566561384,
          0.3754609762848119,
          0.3754609762848119,
          0.3754609762848119,
          0.3754609762848119,
          0.3754609762848119,
          0.3754609762848119,
          0.3754609762848119
         ],
         "yaxis": "y"
        },
        {
         "hovertemplate": "disease=Med IFNG<br>timeline=%{x}<br>chance=%{y}<extra></extra>",
         "legendgroup": "Med IFNG",
         "line": {
          "color": "rgb(115, 175, 72)",
          "dash": "solid",
          "shape": "hv"
         },
         "marker": {
          "symbol": "circle"
         },
         "mode": "lines+markers",
         "name": "Med IFNG",
         "orientation": "v",
         "showlegend": true,
         "type": "scatter",
         "x": [
          0,
          1.8333333333333333,
          5.6,
          8.433333333333334,
          8.7,
          9.266666666666667,
          10.1,
          10.7,
          12.4,
          13.766666666666667,
          13.933333333333334,
          14.266666666666667,
          14.566666666666666,
          15.8,
          16.133333333333333,
          16.5,
          16.933333333333334,
          21,
          21.1,
          22.833333333333332,
          26.3,
          28.366666666666667,
          30.133333333333333,
          33.46666666666667,
          36.93333333333333,
          42.333333333333336,
          44.2,
          48.666666666666664,
          51.4,
          62.3,
          70.3,
          76.43333333333334,
          127.23333333333333,
          168.03333333333333
         ],
         "xaxis": "x",
         "y": [
          1,
          1,
          0.96875,
          0.9375000000000001,
          0.9062500000000001,
          0.8749999999999999,
          0.84375,
          0.8125000000000001,
          0.8125000000000001,
          0.7800000000000004,
          0.7475000000000002,
          0.7475000000000002,
          0.7135227272727274,
          0.6795454545454545,
          0.6795454545454545,
          0.64377990430622,
          0.6080143540669858,
          0.5722488038277512,
          0.5722488038277512,
          0.5340988835725676,
          0.5340988835725676,
          0.5340988835725676,
          0.48959064327485374,
          0.4450824029771398,
          0.4450824029771398,
          0.39562880264634637,
          0.39562880264634637,
          0.39562880264634637,
          0.39562880264634637,
          0.3165030421170771,
          0.3165030421170771,
          0.3165030421170771,
          0.3165030421170771,
          0.3165030421170771
         ],
         "yaxis": "y"
        },
        {
         "hovertemplate": "disease=5.0<br>timeline=%{x}<br>chance=%{y}<extra></extra>",
         "legendgroup": "5.0",
         "line": {
          "color": "#AB63FA",
          "dash": "solid",
          "shape": "hv"
         },
         "marker": {
          "symbol": "circle"
         },
         "mode": "lines+markers",
         "name": "5.0",
         "orientation": "v",
         "showlegend": true,
         "type": "scatter",
         "x": [
          0,
          0.43333333333333335,
          1.8666666666666667,
          2.2333333333333334,
          2.2666666666666666,
          10.933333333333334,
          11.466666666666667,
          11.5,
          12.166666666666666,
          12.266666666666667,
          12.333333333333334,
          12.833333333333334,
          14.1,
          15.166666666666666,
          16.933333333333334,
          21.2,
          26.6,
          28,
          28.8,
          33.233333333333334,
          51.266666666666666,
          54.63333333333333
         ],
         "xaxis": "x",
         "y": [
          1,
          1,
          0.95,
          0.95,
          0.8972222222222224,
          0.8444444444444444,
          0.7916666666666667,
          0.7916666666666667,
          0.7916666666666667,
          0.7916666666666667,
          0.7916666666666667,
          0.7196969696969698,
          0.7196969696969698,
          0.7196969696969698,
          0.7196969696969698,
          0.7196969696969698,
          0.7196969696969698,
          0.7196969696969698,
          0.7196969696969698,
          0.7196969696969698,
          0.7196969696969698,
          0.7196969696969698
         ],
         "yaxis": "y"
        }
       ],
       "layout": {
        "height": 700,
        "legend": {
         "title": {
          "text": "disease"
         },
         "tracegroupgap": 0
        },
        "margin": {
         "t": 60
        },
        "template": {
         "data": {
          "bar": [
           {
            "error_x": {
             "color": "#2a3f5f"
            },
            "error_y": {
             "color": "#2a3f5f"
            },
            "marker": {
             "line": {
              "color": "#E5ECF6",
              "width": 0.5
             },
             "pattern": {
              "fillmode": "overlay",
              "size": 10,
              "solidity": 0.2
             }
            },
            "type": "bar"
           }
          ],
          "barpolar": [
           {
            "marker": {
             "line": {
              "color": "#E5ECF6",
              "width": 0.5
             },
             "pattern": {
              "fillmode": "overlay",
              "size": 10,
              "solidity": 0.2
             }
            },
            "type": "barpolar"
           }
          ],
          "carpet": [
           {
            "aaxis": {
             "endlinecolor": "#2a3f5f",
             "gridcolor": "white",
             "linecolor": "white",
             "minorgridcolor": "white",
             "startlinecolor": "#2a3f5f"
            },
            "baxis": {
             "endlinecolor": "#2a3f5f",
             "gridcolor": "white",
             "linecolor": "white",
             "minorgridcolor": "white",
             "startlinecolor": "#2a3f5f"
            },
            "type": "carpet"
           }
          ],
          "choropleth": [
           {
            "colorbar": {
             "outlinewidth": 0,
             "ticks": ""
            },
            "type": "choropleth"
           }
          ],
          "contour": [
           {
            "colorbar": {
             "outlinewidth": 0,
             "ticks": ""
            },
            "colorscale": [
             [
              0,
              "#0d0887"
             ],
             [
              0.1111111111111111,
              "#46039f"
             ],
             [
              0.2222222222222222,
              "#7201a8"
             ],
             [
              0.3333333333333333,
              "#9c179e"
             ],
             [
              0.4444444444444444,
              "#bd3786"
             ],
             [
              0.5555555555555556,
              "#d8576b"
             ],
             [
              0.6666666666666666,
              "#ed7953"
             ],
             [
              0.7777777777777778,
              "#fb9f3a"
             ],
             [
              0.8888888888888888,
              "#fdca26"
             ],
             [
              1,
              "#f0f921"
             ]
            ],
            "type": "contour"
           }
          ],
          "contourcarpet": [
           {
            "colorbar": {
             "outlinewidth": 0,
             "ticks": ""
            },
            "type": "contourcarpet"
           }
          ],
          "heatmap": [
           {
            "colorbar": {
             "outlinewidth": 0,
             "ticks": ""
            },
            "colorscale": [
             [
              0,
              "#0d0887"
             ],
             [
              0.1111111111111111,
              "#46039f"
             ],
             [
              0.2222222222222222,
              "#7201a8"
             ],
             [
              0.3333333333333333,
              "#9c179e"
             ],
             [
              0.4444444444444444,
              "#bd3786"
             ],
             [
              0.5555555555555556,
              "#d8576b"
             ],
             [
              0.6666666666666666,
              "#ed7953"
             ],
             [
              0.7777777777777778,
              "#fb9f3a"
             ],
             [
              0.8888888888888888,
              "#fdca26"
             ],
             [
              1,
              "#f0f921"
             ]
            ],
            "type": "heatmap"
           }
          ],
          "heatmapgl": [
           {
            "colorbar": {
             "outlinewidth": 0,
             "ticks": ""
            },
            "colorscale": [
             [
              0,
              "#0d0887"
             ],
             [
              0.1111111111111111,
              "#46039f"
             ],
             [
              0.2222222222222222,
              "#7201a8"
             ],
             [
              0.3333333333333333,
              "#9c179e"
             ],
             [
              0.4444444444444444,
              "#bd3786"
             ],
             [
              0.5555555555555556,
              "#d8576b"
             ],
             [
              0.6666666666666666,
              "#ed7953"
             ],
             [
              0.7777777777777778,
              "#fb9f3a"
             ],
             [
              0.8888888888888888,
              "#fdca26"
             ],
             [
              1,
              "#f0f921"
             ]
            ],
            "type": "heatmapgl"
           }
          ],
          "histogram": [
           {
            "marker": {
             "pattern": {
              "fillmode": "overlay",
              "size": 10,
              "solidity": 0.2
             }
            },
            "type": "histogram"
           }
          ],
          "histogram2d": [
           {
            "colorbar": {
             "outlinewidth": 0,
             "ticks": ""
            },
            "colorscale": [
             [
              0,
              "#0d0887"
             ],
             [
              0.1111111111111111,
              "#46039f"
             ],
             [
              0.2222222222222222,
              "#7201a8"
             ],
             [
              0.3333333333333333,
              "#9c179e"
             ],
             [
              0.4444444444444444,
              "#bd3786"
             ],
             [
              0.5555555555555556,
              "#d8576b"
             ],
             [
              0.6666666666666666,
              "#ed7953"
             ],
             [
              0.7777777777777778,
              "#fb9f3a"
             ],
             [
              0.8888888888888888,
              "#fdca26"
             ],
             [
              1,
              "#f0f921"
             ]
            ],
            "type": "histogram2d"
           }
          ],
          "histogram2dcontour": [
           {
            "colorbar": {
             "outlinewidth": 0,
             "ticks": ""
            },
            "colorscale": [
             [
              0,
              "#0d0887"
             ],
             [
              0.1111111111111111,
              "#46039f"
             ],
             [
              0.2222222222222222,
              "#7201a8"
             ],
             [
              0.3333333333333333,
              "#9c179e"
             ],
             [
              0.4444444444444444,
              "#bd3786"
             ],
             [
              0.5555555555555556,
              "#d8576b"
             ],
             [
              0.6666666666666666,
              "#ed7953"
             ],
             [
              0.7777777777777778,
              "#fb9f3a"
             ],
             [
              0.8888888888888888,
              "#fdca26"
             ],
             [
              1,
              "#f0f921"
             ]
            ],
            "type": "histogram2dcontour"
           }
          ],
          "mesh3d": [
           {
            "colorbar": {
             "outlinewidth": 0,
             "ticks": ""
            },
            "type": "mesh3d"
           }
          ],
          "parcoords": [
           {
            "line": {
             "colorbar": {
              "outlinewidth": 0,
              "ticks": ""
             }
            },
            "type": "parcoords"
           }
          ],
          "pie": [
           {
            "automargin": true,
            "type": "pie"
           }
          ],
          "scatter": [
           {
            "fillpattern": {
             "fillmode": "overlay",
             "size": 10,
             "solidity": 0.2
            },
            "type": "scatter"
           }
          ],
          "scatter3d": [
           {
            "line": {
             "colorbar": {
              "outlinewidth": 0,
              "ticks": ""
             }
            },
            "marker": {
             "colorbar": {
              "outlinewidth": 0,
              "ticks": ""
             }
            },
            "type": "scatter3d"
           }
          ],
          "scattercarpet": [
           {
            "marker": {
             "colorbar": {
              "outlinewidth": 0,
              "ticks": ""
             }
            },
            "type": "scattercarpet"
           }
          ],
          "scattergeo": [
           {
            "marker": {
             "colorbar": {
              "outlinewidth": 0,
              "ticks": ""
             }
            },
            "type": "scattergeo"
           }
          ],
          "scattergl": [
           {
            "marker": {
             "colorbar": {
              "outlinewidth": 0,
              "ticks": ""
             }
            },
            "type": "scattergl"
           }
          ],
          "scattermapbox": [
           {
            "marker": {
             "colorbar": {
              "outlinewidth": 0,
              "ticks": ""
             }
            },
            "type": "scattermapbox"
           }
          ],
          "scatterpolar": [
           {
            "marker": {
             "colorbar": {
              "outlinewidth": 0,
              "ticks": ""
             }
            },
            "type": "scatterpolar"
           }
          ],
          "scatterpolargl": [
           {
            "marker": {
             "colorbar": {
              "outlinewidth": 0,
              "ticks": ""
             }
            },
            "type": "scatterpolargl"
           }
          ],
          "scatterternary": [
           {
            "marker": {
             "colorbar": {
              "outlinewidth": 0,
              "ticks": ""
             }
            },
            "type": "scatterternary"
           }
          ],
          "surface": [
           {
            "colorbar": {
             "outlinewidth": 0,
             "ticks": ""
            },
            "colorscale": [
             [
              0,
              "#0d0887"
             ],
             [
              0.1111111111111111,
              "#46039f"
             ],
             [
              0.2222222222222222,
              "#7201a8"
             ],
             [
              0.3333333333333333,
              "#9c179e"
             ],
             [
              0.4444444444444444,
              "#bd3786"
             ],
             [
              0.5555555555555556,
              "#d8576b"
             ],
             [
              0.6666666666666666,
              "#ed7953"
             ],
             [
              0.7777777777777778,
              "#fb9f3a"
             ],
             [
              0.8888888888888888,
              "#fdca26"
             ],
             [
              1,
              "#f0f921"
             ]
            ],
            "type": "surface"
           }
          ],
          "table": [
           {
            "cells": {
             "fill": {
              "color": "#EBF0F8"
             },
             "line": {
              "color": "white"
             }
            },
            "header": {
             "fill": {
              "color": "#C8D4E3"
             },
             "line": {
              "color": "white"
             }
            },
            "type": "table"
           }
          ]
         },
         "layout": {
          "annotationdefaults": {
           "arrowcolor": "#2a3f5f",
           "arrowhead": 0,
           "arrowwidth": 1
          },
          "autotypenumbers": "strict",
          "coloraxis": {
           "colorbar": {
            "outlinewidth": 0,
            "ticks": ""
           }
          },
          "colorscale": {
           "diverging": [
            [
             0,
             "#8e0152"
            ],
            [
             0.1,
             "#c51b7d"
            ],
            [
             0.2,
             "#de77ae"
            ],
            [
             0.3,
             "#f1b6da"
            ],
            [
             0.4,
             "#fde0ef"
            ],
            [
             0.5,
             "#f7f7f7"
            ],
            [
             0.6,
             "#e6f5d0"
            ],
            [
             0.7,
             "#b8e186"
            ],
            [
             0.8,
             "#7fbc41"
            ],
            [
             0.9,
             "#4d9221"
            ],
            [
             1,
             "#276419"
            ]
           ],
           "sequential": [
            [
             0,
             "#0d0887"
            ],
            [
             0.1111111111111111,
             "#46039f"
            ],
            [
             0.2222222222222222,
             "#7201a8"
            ],
            [
             0.3333333333333333,
             "#9c179e"
            ],
            [
             0.4444444444444444,
             "#bd3786"
            ],
            [
             0.5555555555555556,
             "#d8576b"
            ],
            [
             0.6666666666666666,
             "#ed7953"
            ],
            [
             0.7777777777777778,
             "#fb9f3a"
            ],
            [
             0.8888888888888888,
             "#fdca26"
            ],
            [
             1,
             "#f0f921"
            ]
           ],
           "sequentialminus": [
            [
             0,
             "#0d0887"
            ],
            [
             0.1111111111111111,
             "#46039f"
            ],
            [
             0.2222222222222222,
             "#7201a8"
            ],
            [
             0.3333333333333333,
             "#9c179e"
            ],
            [
             0.4444444444444444,
             "#bd3786"
            ],
            [
             0.5555555555555556,
             "#d8576b"
            ],
            [
             0.6666666666666666,
             "#ed7953"
            ],
            [
             0.7777777777777778,
             "#fb9f3a"
            ],
            [
             0.8888888888888888,
             "#fdca26"
            ],
            [
             1,
             "#f0f921"
            ]
           ]
          },
          "colorway": [
           "#636efa",
           "#EF553B",
           "#00cc96",
           "#ab63fa",
           "#FFA15A",
           "#19d3f3",
           "#FF6692",
           "#B6E880",
           "#FF97FF",
           "#FECB52"
          ],
          "font": {
           "color": "#2a3f5f"
          },
          "geo": {
           "bgcolor": "white",
           "lakecolor": "white",
           "landcolor": "#E5ECF6",
           "showlakes": true,
           "showland": true,
           "subunitcolor": "white"
          },
          "hoverlabel": {
           "align": "left"
          },
          "hovermode": "closest",
          "mapbox": {
           "style": "light"
          },
          "paper_bgcolor": "white",
          "plot_bgcolor": "#E5ECF6",
          "polar": {
           "angularaxis": {
            "gridcolor": "white",
            "linecolor": "white",
            "ticks": ""
           },
           "bgcolor": "#E5ECF6",
           "radialaxis": {
            "gridcolor": "white",
            "linecolor": "white",
            "ticks": ""
           }
          },
          "scene": {
           "xaxis": {
            "backgroundcolor": "#E5ECF6",
            "gridcolor": "white",
            "gridwidth": 2,
            "linecolor": "white",
            "showbackground": true,
            "ticks": "",
            "zerolinecolor": "white"
           },
           "yaxis": {
            "backgroundcolor": "#E5ECF6",
            "gridcolor": "white",
            "gridwidth": 2,
            "linecolor": "white",
            "showbackground": true,
            "ticks": "",
            "zerolinecolor": "white"
           },
           "zaxis": {
            "backgroundcolor": "#E5ECF6",
            "gridcolor": "white",
            "gridwidth": 2,
            "linecolor": "white",
            "showbackground": true,
            "ticks": "",
            "zerolinecolor": "white"
           }
          },
          "shapedefaults": {
           "line": {
            "color": "#2a3f5f"
           }
          },
          "ternary": {
           "aaxis": {
            "gridcolor": "white",
            "linecolor": "white",
            "ticks": ""
           },
           "baxis": {
            "gridcolor": "white",
            "linecolor": "white",
            "ticks": ""
           },
           "bgcolor": "#E5ECF6",
           "caxis": {
            "gridcolor": "white",
            "linecolor": "white",
            "ticks": ""
           }
          },
          "title": {
           "x": 0.05
          },
          "xaxis": {
           "automargin": true,
           "gridcolor": "white",
           "linecolor": "white",
           "ticks": "",
           "title": {
            "standoff": 15
           },
           "zerolinecolor": "white",
           "zerolinewidth": 2
          },
          "yaxis": {
           "automargin": true,
           "gridcolor": "white",
           "linecolor": "white",
           "ticks": "",
           "title": {
            "standoff": 15
           },
           "zerolinecolor": "white",
           "zerolinewidth": 2
          }
         }
        },
        "title": {
         "text": "Survival analysis VU + in-situ"
        },
        "xaxis": {
         "anchor": "y",
         "domain": [
          0,
          1
         ],
         "range": [
          -1,
          60
         ],
         "title": {
          "text": "Time (months)"
         }
        },
        "yaxis": {
         "anchor": "x",
         "domain": [
          0,
          1
         ],
         "title": {
          "text": "Survival (%)"
         }
        }
       }
      }
     },
     "metadata": {},
     "output_type": "display_data"
    }
   ],
   "source": [
    "cluster_model = \"RawKMeans_CS_6_exp_tf6\"\n",
    "\n",
    "colors_ref = px.colors.qualitative.Prism\n",
    "color_map = {\n",
    "    \"LumP\": colors_ref[0],\n",
    "    \"Lum Inf/Ns\": colors_ref[1],\n",
    "    \"High IFNG\": colors_ref[2],\n",
    "    \"Low IFNG\": colors_ref[3],\n",
    "    \"Med IFNG\": colors_ref[4],\n",
    "    \"Ne\": colors_ref[5],\n",
    "}\n",
    "\n",
    "select_labels_1 = [1.0, 0.0, 5.0]\n",
    "select_labels_2 = [\"High IFNG\", \"Med IFNG\", \"Low IFNG\"]\n",
    "\n",
    "select_labels_1 = None\n",
    "select_labels_2 = None\n",
    "\n",
    "colors_net = px.colors.qualitative.Plotly\n",
    "comb_cs[cluster_model] = comb_cs[cluster_model].astype(str)\n",
    "for idx, val in enumerate(comb_cs[cluster_model].unique()):\n",
    "    color_map[val] = colors_net[idx]\n",
    "\n",
    "fig = survival_comp(\n",
    "    comb_cs.drop(columns=[\"days_to_last_follow_up\", \"days_to_death\"]),\n",
    "    vu_output,\n",
    "    classifier_1=cluster_model,\n",
    "    classifier_2=\"KMeans_labels_6\",\n",
    "    selected_labels_1=select_labels_1,\n",
    "    selected_labels_2=select_labels_2,\n",
    "    color_map=color_map,\n",
    ")\n",
    "fig = fig.update_layout(title=\"Survival analysis {}\".format(\"VU + in-situ\"))\n",
    "fig.update_layout(height=700)\n",
    "# save_fig(name=\"Survival_plot_reward\", fig=fig, base_path=figures_path, width=1400, height=600)"
   ]
  },
  {
   "cell_type": "markdown",
   "metadata": {},
   "source": [
    "### Significance"
   ]
  },
  {
   "cell_type": "code",
   "execution_count": 67,
   "metadata": {},
   "outputs": [],
   "source": [
    "from lifelines import KaplanMeierFitter\n",
    "from lifelines.statistics import multivariate_logrank_test\n",
    "from lifelines.utils import restricted_mean_survival_time\n",
    "from lifelines.plotting import rmst_plot"
   ]
  },
  {
   "cell_type": "code",
   "execution_count": 68,
   "metadata": {},
   "outputs": [],
   "source": [
    "def survival_sig(df, model):\n",
    "    df = df.reset_index().rename(columns={\"index\": \"Sample\"}).copy(deep=True)\n",
    "    classifier = model\n",
    "\n",
    "    dmy = df[[\"days_to_last_follow_up\", \"days_to_death\", classifier]].replace(\"--\", 0).astype(int)\n",
    "    dmy[\"last_contact\"] = dmy[[\"days_to_last_follow_up\", \"days_to_death\"]].max(axis=1).div(30)\n",
    "\n",
    "    labels = list(df[model].unique())\n",
    "    dmy = dmy[dmy[classifier].isin(labels)]\n",
    "\n",
    "    results = multivariate_logrank_test(dmy[\"last_contact\"], dmy[classifier], dmy[\"days_to_death\"])\n",
    "    display(results.print_summary())\n",
    "    print(\"{0:.10f}\".format(results.p_value))"
   ]
  },
  {
   "cell_type": "code",
   "execution_count": 77,
   "metadata": {},
   "outputs": [
    {
     "data": {
      "text/html": [
       "<div>\n",
       "<style scoped>\n",
       "    .dataframe tbody tr th:only-of-type {\n",
       "        vertical-align: middle;\n",
       "    }\n",
       "\n",
       "    .dataframe tbody tr th {\n",
       "        vertical-align: top;\n",
       "    }\n",
       "\n",
       "    .dataframe thead th {\n",
       "        text-align: right;\n",
       "    }\n",
       "</style>\n",
       "<table border=\"1\" class=\"dataframe\">\n",
       "  <tbody>\n",
       "    <tr>\n",
       "      <th>t_0</th>\n",
       "      <td>-1</td>\n",
       "    </tr>\n",
       "    <tr>\n",
       "      <th>null_distribution</th>\n",
       "      <td>chi squared</td>\n",
       "    </tr>\n",
       "    <tr>\n",
       "      <th>degrees_of_freedom</th>\n",
       "      <td>5</td>\n",
       "    </tr>\n",
       "    <tr>\n",
       "      <th>test_name</th>\n",
       "      <td>multivariate_logrank_test</td>\n",
       "    </tr>\n",
       "  </tbody>\n",
       "</table>\n",
       "</div><table border=\"1\" class=\"dataframe\">\n",
       "  <thead>\n",
       "    <tr style=\"text-align: right;\">\n",
       "      <th></th>\n",
       "      <th>test_statistic</th>\n",
       "      <th>p</th>\n",
       "      <th>-log2(p)</th>\n",
       "    </tr>\n",
       "  </thead>\n",
       "  <tbody>\n",
       "    <tr>\n",
       "      <th>0</th>\n",
       "      <td>13.78</td>\n",
       "      <td>0.02</td>\n",
       "      <td>5.87</td>\n",
       "    </tr>\n",
       "  </tbody>\n",
       "</table>"
      ],
      "text/latex": [
       "\\begin{tabular}{lrrr}\n",
       " & test_statistic & p & -log2(p) \\\\\n",
       "0 & 13.78 & 0.02 & 5.87 \\\\\n",
       "\\end{tabular}\n"
      ],
      "text/plain": [
       "<lifelines.StatisticalResult: multivariate_logrank_test>\n",
       "               t_0 = -1\n",
       " null_distribution = chi squared\n",
       "degrees_of_freedom = 5\n",
       "         test_name = multivariate_logrank_test\n",
       "\n",
       "---\n",
       " test_statistic    p  -log2(p)\n",
       "          13.78 0.02      5.87"
      ]
     },
     "metadata": {},
     "output_type": "display_data"
    },
    {
     "data": {
      "text/plain": [
       "None"
      ]
     },
     "metadata": {},
     "output_type": "display_data"
    },
    {
     "name": "stdout",
     "output_type": "stream",
     "text": [
      "0.0170482720\n"
     ]
    }
   ],
   "source": [
    "comb_cs[cluster_model] = comb_cs[cluster_model].astype(float).astype(int)\n",
    "survival_sig(comb_cs, model=cluster_model)"
   ]
  },
  {
   "cell_type": "markdown",
   "metadata": {},
   "source": [
    "# Visualise SBM"
   ]
  },
  {
   "cell_type": "code",
   "execution_count": null,
   "metadata": {},
   "outputs": [],
   "source": [
    "def callback(self, g, keyval, picked, pos, vprops, eprops):\n",
    "    # label\n",
    "    if type(picked) != gt.VertexPropertyMap:\n",
    "        print(\"{}. Comm {}. Mut {}. Idx {}\".format(g.vp.gene[picked], g.vp.max_b[picked], g.vp.mut_count[picked], picked))"
   ]
  },
  {
   "cell_type": "code",
   "execution_count": null,
   "metadata": {},
   "outputs": [],
   "source": [
    "gt_exp = h_exps[\"6\"]\n",
    "gt_exp.layout()\n",
    "gt_exp.add_vp(mut_df=tcga_mutations_df)\n",
    "pos = gt_exp.pos\n",
    "gt_g = gt_exp.gt_g\n",
    "pv = gt_exp.states[0][\"pv\"]\n",
    "pmode = gt_exp.states[0][\"pmode\"]\n",
    "\n",
    "gt_g = gt_exp.gt_g\n",
    "state = gt.BlockState(gt_g, recs=[gt_g.ep.weight], rec_types=[\"real-exponential\"])"
   ]
  },
  {
   "cell_type": "code",
   "execution_count": null,
   "metadata": {},
   "outputs": [
    {
     "name": "stdout",
     "output_type": "stream",
     "text": [
      "ENSG00000225886. Comm 23. Mut 0. Idx 1236\n",
      "IFI27. Comm 23. Mut 0. Idx 1569\n",
      "IFI27. Comm 23. Mut 0. Idx 1569\n",
      "IFI27. Comm 23. Mut 0. Idx 1569\n",
      "S100A4. Comm 20. Mut 1. Idx 3957\n",
      "KANSL1. Comm 15. Mut 23. Idx 4247\n",
      "SCAF1. Comm 15. Mut 7. Idx 145\n"
     ]
    }
   ],
   "source": [
    "# interactive session\n",
    "if False:\n",
    "    state.draw(\n",
    "        pos=pos,\n",
    "        vertex_shape=\"pie\",\n",
    "        vertex_pie_fractions=pv,\n",
    "        inline=False,\n",
    "        nodeFirst=True,\n",
    "        # aspect=0.4,\n",
    "        ink_scale=0.4,\n",
    "        vertex_text=gt_g.vp.gene,\n",
    "        display_props=gt_g.vp.gene,\n",
    "        output_size=(2000, 2000),  # debugging\n",
    "        #### Nodes properties\n",
    "        # vertex_size=gt.prop_to_size(gt_g.vp.mut_count, 1, 20, power=1),\n",
    "        vertex_font_size=gt.prop_to_size(gt_g.vp.mut_count, 10, 14, power=1.0),  # 5, 30 for notebook  viz\n",
    "        ##### edges properties\n",
    "        # edge_color=gt.prop_to_size(gt_g.ep.weight, power=1, log=True),\n",
    "        edge_pen_width=gt.prop_to_size(gt_g.ep.weight, 0, 3, power=0.1),\n",
    "        # edge_gradient=[],\n",
    "        # vorder=gt_g.vp.mut_count,\n",
    "        key_press_callback=callback,\n",
    "        # text_out_width=0.1,\n",
    "    )"
   ]
  },
  {
   "cell_type": "code",
   "execution_count": null,
   "metadata": {},
   "outputs": [],
   "source": [
    "# Config to save it as PDF\n",
    "state.draw(\n",
    "    pos=pos,\n",
    "    vertex_shape=\"pie\",\n",
    "    vertex_pie_fractions=pv,\n",
    "    inline=False,\n",
    "    vertex_text=gt_g.vp.gene,\n",
    "    display_props=gt_g.vp.gene,\n",
    "    output_size=(8000, 8000),  # good to visualised in Notebook\n",
    "    #### Nodes properties\n",
    "    vertex_size=gt.prop_to_size(gt_g.vp.mut_count, 1, 20, power=1),\n",
    "    vertex_font_size=gt.prop_to_size(gt_g.vp.mut_count, 14, 24, power=1.0), \n",
    "    ##### edges properties\n",
    "    edge_pen_width=gt.prop_to_size(gt_g.ep.weight, 0, 1, power=0.1),\n",
    "    key_press_callback=callback,\n",
    "    output=figures_path + \"sbm_h_tf6_5K.pdf\",\n",
    ")"
   ]
  },
  {
   "cell_type": "markdown",
   "metadata": {},
   "source": [
    "# Miscellaneous\n",
    "\n",
    "## ENSG genes"
   ]
  },
  {
   "cell_type": "code",
   "execution_count": null,
   "metadata": {},
   "outputs": [],
   "source": [
    "# print(list(gt_exp.tpm_df.sort_index().index.values))\n",
    "ensg_genes = gt_exp.tpm_df.reset_index()[gt_exp.tpm_df.reset_index()[\"genes\"].str.contains(\"ENSG\")].set_index(\"genes\")\n",
    "# ensg_genes[\"mut_count\"] = tcga_mutations_df[\"count\"]"
   ]
  },
  {
   "cell_type": "markdown",
   "metadata": {},
   "source": [
    "## Export SBM to Gephi"
   ]
  },
  {
   "cell_type": "code",
   "execution_count": null,
   "metadata": {},
   "outputs": [
    {
     "ename": "NameError",
     "evalue": "name 'gt_exp' is not defined",
     "output_type": "error",
     "traceback": [
      "\u001b[0;31m---------------------------------------------------------------------------\u001b[0m",
      "\u001b[0;31mNameError\u001b[0m                                 Traceback (most recent call last)",
      "\u001b[1;32m/Users/vlad/Documents/Code/York/iNet/NB/Clean/CN_SBM_allHealty.ipynb Cell 55\u001b[0m line \u001b[0;36m1\n\u001b[0;32m----> <a href='vscode-notebook-cell:/Users/vlad/Documents/Code/York/iNet/NB/Clean/CN_SBM_allHealty.ipynb#Y105sZmlsZQ%3D%3D?line=0'>1</a>\u001b[0m results_df \u001b[39m=\u001b[39m gt_exp\u001b[39m.\u001b[39mget_stable_genes(state_idx\u001b[39m=\u001b[39m\u001b[39m0\u001b[39m, prob_th\u001b[39m=\u001b[39m\u001b[39m0.75\u001b[39m)\n\u001b[1;32m      <a href='vscode-notebook-cell:/Users/vlad/Documents/Code/York/iNet/NB/Clean/CN_SBM_allHealty.ipynb#Y105sZmlsZQ%3D%3D?line=1'>2</a>\u001b[0m results_df[\u001b[39m\"\u001b[39m\u001b[39mstable_gene_num\u001b[39m\u001b[39m\"\u001b[39m] \u001b[39m=\u001b[39m \u001b[39m0\u001b[39m\n\u001b[1;32m      <a href='vscode-notebook-cell:/Users/vlad/Documents/Code/York/iNet/NB/Clean/CN_SBM_allHealty.ipynb#Y105sZmlsZQ%3D%3D?line=2'>3</a>\u001b[0m results_df\u001b[39m.\u001b[39mloc[results_df[\u001b[39m\"\u001b[39m\u001b[39mstable_gene\u001b[39m\u001b[39m\"\u001b[39m] \u001b[39m==\u001b[39m \u001b[39m\"\u001b[39m\u001b[39mwobble\u001b[39m\u001b[39m\"\u001b[39m, \u001b[39m\"\u001b[39m\u001b[39mstable_gene_num\u001b[39m\u001b[39m\"\u001b[39m] \u001b[39m=\u001b[39m \u001b[39m1\u001b[39m\n",
      "\u001b[0;31mNameError\u001b[0m: name 'gt_exp' is not defined"
     ]
    }
   ],
   "source": [
    "results_df = gt_exp.get_stable_genes(state_idx=0, prob_th=0.75)\n",
    "results_df[\"stable_gene_num\"] = 0\n",
    "results_df.loc[results_df[\"stable_gene\"] == \"wobble\", \"stable_gene_num\"] = 1\n",
    "results_df[\"stable_gene\"].value_counts()\n",
    "\n",
    "gt_exp.export_to_gephi(save=False, sbm_df=results_df, state_idx=0)"
   ]
  },
  {
   "cell_type": "markdown",
   "metadata": {},
   "source": [
    "## Partition Prob"
   ]
  },
  {
   "cell_type": "code",
   "execution_count": null,
   "metadata": {},
   "outputs": [
    {
     "data": {
      "application/vnd.plotly.v1+json": {
       "config": {
        "plotlyServerURL": "https://plot.ly"
       },
       "data": [
        {
         "alignmentgroup": "True",
         "hovertemplate": "x=%{x}<br>y=%{y}<extra></extra>",
         "legendgroup": "",
         "marker": {
          "color": "#636efa",
          "pattern": {
           "shape": ""
          }
         },
         "name": "",
         "offsetgroup": "",
         "orientation": "v",
         "showlegend": false,
         "textposition": "auto",
         "type": "bar",
         "x": [
          "31"
         ],
         "xaxis": "x",
         "y": [
          0.9985714285714286
         ],
         "yaxis": "y"
        }
       ],
       "layout": {
        "barmode": "relative",
        "legend": {
         "tracegroupgap": 0
        },
        "template": {
         "data": {
          "bar": [
           {
            "error_x": {
             "color": "#2a3f5f"
            },
            "error_y": {
             "color": "#2a3f5f"
            },
            "marker": {
             "line": {
              "color": "#E5ECF6",
              "width": 0.5
             },
             "pattern": {
              "fillmode": "overlay",
              "size": 10,
              "solidity": 0.2
             }
            },
            "type": "bar"
           }
          ],
          "barpolar": [
           {
            "marker": {
             "line": {
              "color": "#E5ECF6",
              "width": 0.5
             },
             "pattern": {
              "fillmode": "overlay",
              "size": 10,
              "solidity": 0.2
             }
            },
            "type": "barpolar"
           }
          ],
          "carpet": [
           {
            "aaxis": {
             "endlinecolor": "#2a3f5f",
             "gridcolor": "white",
             "linecolor": "white",
             "minorgridcolor": "white",
             "startlinecolor": "#2a3f5f"
            },
            "baxis": {
             "endlinecolor": "#2a3f5f",
             "gridcolor": "white",
             "linecolor": "white",
             "minorgridcolor": "white",
             "startlinecolor": "#2a3f5f"
            },
            "type": "carpet"
           }
          ],
          "choropleth": [
           {
            "colorbar": {
             "outlinewidth": 0,
             "ticks": ""
            },
            "type": "choropleth"
           }
          ],
          "contour": [
           {
            "colorbar": {
             "outlinewidth": 0,
             "ticks": ""
            },
            "colorscale": [
             [
              0,
              "#0d0887"
             ],
             [
              0.1111111111111111,
              "#46039f"
             ],
             [
              0.2222222222222222,
              "#7201a8"
             ],
             [
              0.3333333333333333,
              "#9c179e"
             ],
             [
              0.4444444444444444,
              "#bd3786"
             ],
             [
              0.5555555555555556,
              "#d8576b"
             ],
             [
              0.6666666666666666,
              "#ed7953"
             ],
             [
              0.7777777777777778,
              "#fb9f3a"
             ],
             [
              0.8888888888888888,
              "#fdca26"
             ],
             [
              1,
              "#f0f921"
             ]
            ],
            "type": "contour"
           }
          ],
          "contourcarpet": [
           {
            "colorbar": {
             "outlinewidth": 0,
             "ticks": ""
            },
            "type": "contourcarpet"
           }
          ],
          "heatmap": [
           {
            "colorbar": {
             "outlinewidth": 0,
             "ticks": ""
            },
            "colorscale": [
             [
              0,
              "#0d0887"
             ],
             [
              0.1111111111111111,
              "#46039f"
             ],
             [
              0.2222222222222222,
              "#7201a8"
             ],
             [
              0.3333333333333333,
              "#9c179e"
             ],
             [
              0.4444444444444444,
              "#bd3786"
             ],
             [
              0.5555555555555556,
              "#d8576b"
             ],
             [
              0.6666666666666666,
              "#ed7953"
             ],
             [
              0.7777777777777778,
              "#fb9f3a"
             ],
             [
              0.8888888888888888,
              "#fdca26"
             ],
             [
              1,
              "#f0f921"
             ]
            ],
            "type": "heatmap"
           }
          ],
          "heatmapgl": [
           {
            "colorbar": {
             "outlinewidth": 0,
             "ticks": ""
            },
            "colorscale": [
             [
              0,
              "#0d0887"
             ],
             [
              0.1111111111111111,
              "#46039f"
             ],
             [
              0.2222222222222222,
              "#7201a8"
             ],
             [
              0.3333333333333333,
              "#9c179e"
             ],
             [
              0.4444444444444444,
              "#bd3786"
             ],
             [
              0.5555555555555556,
              "#d8576b"
             ],
             [
              0.6666666666666666,
              "#ed7953"
             ],
             [
              0.7777777777777778,
              "#fb9f3a"
             ],
             [
              0.8888888888888888,
              "#fdca26"
             ],
             [
              1,
              "#f0f921"
             ]
            ],
            "type": "heatmapgl"
           }
          ],
          "histogram": [
           {
            "marker": {
             "pattern": {
              "fillmode": "overlay",
              "size": 10,
              "solidity": 0.2
             }
            },
            "type": "histogram"
           }
          ],
          "histogram2d": [
           {
            "colorbar": {
             "outlinewidth": 0,
             "ticks": ""
            },
            "colorscale": [
             [
              0,
              "#0d0887"
             ],
             [
              0.1111111111111111,
              "#46039f"
             ],
             [
              0.2222222222222222,
              "#7201a8"
             ],
             [
              0.3333333333333333,
              "#9c179e"
             ],
             [
              0.4444444444444444,
              "#bd3786"
             ],
             [
              0.5555555555555556,
              "#d8576b"
             ],
             [
              0.6666666666666666,
              "#ed7953"
             ],
             [
              0.7777777777777778,
              "#fb9f3a"
             ],
             [
              0.8888888888888888,
              "#fdca26"
             ],
             [
              1,
              "#f0f921"
             ]
            ],
            "type": "histogram2d"
           }
          ],
          "histogram2dcontour": [
           {
            "colorbar": {
             "outlinewidth": 0,
             "ticks": ""
            },
            "colorscale": [
             [
              0,
              "#0d0887"
             ],
             [
              0.1111111111111111,
              "#46039f"
             ],
             [
              0.2222222222222222,
              "#7201a8"
             ],
             [
              0.3333333333333333,
              "#9c179e"
             ],
             [
              0.4444444444444444,
              "#bd3786"
             ],
             [
              0.5555555555555556,
              "#d8576b"
             ],
             [
              0.6666666666666666,
              "#ed7953"
             ],
             [
              0.7777777777777778,
              "#fb9f3a"
             ],
             [
              0.8888888888888888,
              "#fdca26"
             ],
             [
              1,
              "#f0f921"
             ]
            ],
            "type": "histogram2dcontour"
           }
          ],
          "mesh3d": [
           {
            "colorbar": {
             "outlinewidth": 0,
             "ticks": ""
            },
            "type": "mesh3d"
           }
          ],
          "parcoords": [
           {
            "line": {
             "colorbar": {
              "outlinewidth": 0,
              "ticks": ""
             }
            },
            "type": "parcoords"
           }
          ],
          "pie": [
           {
            "automargin": true,
            "type": "pie"
           }
          ],
          "scatter": [
           {
            "fillpattern": {
             "fillmode": "overlay",
             "size": 10,
             "solidity": 0.2
            },
            "type": "scatter"
           }
          ],
          "scatter3d": [
           {
            "line": {
             "colorbar": {
              "outlinewidth": 0,
              "ticks": ""
             }
            },
            "marker": {
             "colorbar": {
              "outlinewidth": 0,
              "ticks": ""
             }
            },
            "type": "scatter3d"
           }
          ],
          "scattercarpet": [
           {
            "marker": {
             "colorbar": {
              "outlinewidth": 0,
              "ticks": ""
             }
            },
            "type": "scattercarpet"
           }
          ],
          "scattergeo": [
           {
            "marker": {
             "colorbar": {
              "outlinewidth": 0,
              "ticks": ""
             }
            },
            "type": "scattergeo"
           }
          ],
          "scattergl": [
           {
            "marker": {
             "colorbar": {
              "outlinewidth": 0,
              "ticks": ""
             }
            },
            "type": "scattergl"
           }
          ],
          "scattermapbox": [
           {
            "marker": {
             "colorbar": {
              "outlinewidth": 0,
              "ticks": ""
             }
            },
            "type": "scattermapbox"
           }
          ],
          "scatterpolar": [
           {
            "marker": {
             "colorbar": {
              "outlinewidth": 0,
              "ticks": ""
             }
            },
            "type": "scatterpolar"
           }
          ],
          "scatterpolargl": [
           {
            "marker": {
             "colorbar": {
              "outlinewidth": 0,
              "ticks": ""
             }
            },
            "type": "scatterpolargl"
           }
          ],
          "scatterternary": [
           {
            "marker": {
             "colorbar": {
              "outlinewidth": 0,
              "ticks": ""
             }
            },
            "type": "scatterternary"
           }
          ],
          "surface": [
           {
            "colorbar": {
             "outlinewidth": 0,
             "ticks": ""
            },
            "colorscale": [
             [
              0,
              "#0d0887"
             ],
             [
              0.1111111111111111,
              "#46039f"
             ],
             [
              0.2222222222222222,
              "#7201a8"
             ],
             [
              0.3333333333333333,
              "#9c179e"
             ],
             [
              0.4444444444444444,
              "#bd3786"
             ],
             [
              0.5555555555555556,
              "#d8576b"
             ],
             [
              0.6666666666666666,
              "#ed7953"
             ],
             [
              0.7777777777777778,
              "#fb9f3a"
             ],
             [
              0.8888888888888888,
              "#fdca26"
             ],
             [
              1,
              "#f0f921"
             ]
            ],
            "type": "surface"
           }
          ],
          "table": [
           {
            "cells": {
             "fill": {
              "color": "#EBF0F8"
             },
             "line": {
              "color": "white"
             }
            },
            "header": {
             "fill": {
              "color": "#C8D4E3"
             },
             "line": {
              "color": "white"
             }
            },
            "type": "table"
           }
          ]
         },
         "layout": {
          "annotationdefaults": {
           "arrowcolor": "#2a3f5f",
           "arrowhead": 0,
           "arrowwidth": 1
          },
          "autotypenumbers": "strict",
          "coloraxis": {
           "colorbar": {
            "outlinewidth": 0,
            "ticks": ""
           }
          },
          "colorscale": {
           "diverging": [
            [
             0,
             "#8e0152"
            ],
            [
             0.1,
             "#c51b7d"
            ],
            [
             0.2,
             "#de77ae"
            ],
            [
             0.3,
             "#f1b6da"
            ],
            [
             0.4,
             "#fde0ef"
            ],
            [
             0.5,
             "#f7f7f7"
            ],
            [
             0.6,
             "#e6f5d0"
            ],
            [
             0.7,
             "#b8e186"
            ],
            [
             0.8,
             "#7fbc41"
            ],
            [
             0.9,
             "#4d9221"
            ],
            [
             1,
             "#276419"
            ]
           ],
           "sequential": [
            [
             0,
             "#0d0887"
            ],
            [
             0.1111111111111111,
             "#46039f"
            ],
            [
             0.2222222222222222,
             "#7201a8"
            ],
            [
             0.3333333333333333,
             "#9c179e"
            ],
            [
             0.4444444444444444,
             "#bd3786"
            ],
            [
             0.5555555555555556,
             "#d8576b"
            ],
            [
             0.6666666666666666,
             "#ed7953"
            ],
            [
             0.7777777777777778,
             "#fb9f3a"
            ],
            [
             0.8888888888888888,
             "#fdca26"
            ],
            [
             1,
             "#f0f921"
            ]
           ],
           "sequentialminus": [
            [
             0,
             "#0d0887"
            ],
            [
             0.1111111111111111,
             "#46039f"
            ],
            [
             0.2222222222222222,
             "#7201a8"
            ],
            [
             0.3333333333333333,
             "#9c179e"
            ],
            [
             0.4444444444444444,
             "#bd3786"
            ],
            [
             0.5555555555555556,
             "#d8576b"
            ],
            [
             0.6666666666666666,
             "#ed7953"
            ],
            [
             0.7777777777777778,
             "#fb9f3a"
            ],
            [
             0.8888888888888888,
             "#fdca26"
            ],
            [
             1,
             "#f0f921"
            ]
           ]
          },
          "colorway": [
           "#636efa",
           "#EF553B",
           "#00cc96",
           "#ab63fa",
           "#FFA15A",
           "#19d3f3",
           "#FF6692",
           "#B6E880",
           "#FF97FF",
           "#FECB52"
          ],
          "font": {
           "color": "#2a3f5f"
          },
          "geo": {
           "bgcolor": "white",
           "lakecolor": "white",
           "landcolor": "#E5ECF6",
           "showlakes": true,
           "showland": true,
           "subunitcolor": "white"
          },
          "hoverlabel": {
           "align": "left"
          },
          "hovermode": "closest",
          "mapbox": {
           "style": "light"
          },
          "paper_bgcolor": "white",
          "plot_bgcolor": "#E5ECF6",
          "polar": {
           "angularaxis": {
            "gridcolor": "white",
            "linecolor": "white",
            "ticks": ""
           },
           "bgcolor": "#E5ECF6",
           "radialaxis": {
            "gridcolor": "white",
            "linecolor": "white",
            "ticks": ""
           }
          },
          "scene": {
           "xaxis": {
            "backgroundcolor": "#E5ECF6",
            "gridcolor": "white",
            "gridwidth": 2,
            "linecolor": "white",
            "showbackground": true,
            "ticks": "",
            "zerolinecolor": "white"
           },
           "yaxis": {
            "backgroundcolor": "#E5ECF6",
            "gridcolor": "white",
            "gridwidth": 2,
            "linecolor": "white",
            "showbackground": true,
            "ticks": "",
            "zerolinecolor": "white"
           },
           "zaxis": {
            "backgroundcolor": "#E5ECF6",
            "gridcolor": "white",
            "gridwidth": 2,
            "linecolor": "white",
            "showbackground": true,
            "ticks": "",
            "zerolinecolor": "white"
           }
          },
          "shapedefaults": {
           "line": {
            "color": "#2a3f5f"
           }
          },
          "ternary": {
           "aaxis": {
            "gridcolor": "white",
            "linecolor": "white",
            "ticks": ""
           },
           "baxis": {
            "gridcolor": "white",
            "linecolor": "white",
            "ticks": ""
           },
           "bgcolor": "#E5ECF6",
           "caxis": {
            "gridcolor": "white",
            "linecolor": "white",
            "ticks": ""
           }
          },
          "title": {
           "x": 0.05
          },
          "xaxis": {
           "automargin": true,
           "gridcolor": "white",
           "linecolor": "white",
           "ticks": "",
           "title": {
            "standoff": 15
           },
           "zerolinecolor": "white",
           "zerolinewidth": 2
          },
          "yaxis": {
           "automargin": true,
           "gridcolor": "white",
           "linecolor": "white",
           "ticks": "",
           "title": {
            "standoff": 15
           },
           "zerolinecolor": "white",
           "zerolinewidth": 2
          }
         }
        },
        "title": {
         "text": "Marginal prob of the number of groups"
        },
        "xaxis": {
         "anchor": "y",
         "domain": [
          0,
          1
         ],
         "title": {
          "text": "x"
         }
        },
        "yaxis": {
         "anchor": "x",
         "domain": [
          0,
          1
         ],
         "title": {
          "text": "y"
         }
        }
       }
      }
     },
     "metadata": {},
     "output_type": "display_data"
    }
   ],
   "source": [
    "gt_exp.plot_partition_prob()"
   ]
  }
 ],
 "metadata": {
  "kernelspec": {
   "display_name": "iNet_gt",
   "language": "python",
   "name": "python3"
  },
  "language_info": {
   "codemirror_mode": {
    "name": "ipython",
    "version": 3
   },
   "file_extension": ".py",
   "mimetype": "text/x-python",
   "name": "python",
   "nbconvert_exporter": "python",
   "pygments_lexer": "ipython3",
   "version": "3.11.8"
  }
 },
 "nbformat": 4,
 "nbformat_minor": 2
}
