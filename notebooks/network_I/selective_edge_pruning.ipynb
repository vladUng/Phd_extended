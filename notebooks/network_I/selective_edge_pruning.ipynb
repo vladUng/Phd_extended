{
 "cells": [
  {
   "cell_type": "markdown",
   "metadata": {},
   "source": [
    "# Motivation\n",
    "\n",
    "This is a clean version of the experiments I performed for the CN Poster and Extended abstract. Some relatable notebooks are:\n",
    "\n",
    "* **SBM_h42_TF_network_effects** - where i am looking at selective edge pruning\n",
    "* **SBM_allHelathy_gc42** - where i'm analysing the all_healthy data\n",
    "\n",
    "This is a modified version of the notebook CN_SBM_allHealty.ipynb from iNET repository."
   ]
  },
  {
   "cell_type": "markdown",
   "metadata": {},
   "source": [
    "# Init"
   ]
  },
  {
   "cell_type": "code",
   "execution_count": 2,
   "metadata": {},
   "outputs": [
    {
     "name": "stdout",
     "output_type": "stream",
     "text": [
      "The autoreload extension is already loaded. To reload it, use:\n",
      "  %reload_ext autoreload\n"
     ]
    }
   ],
   "source": [
    "%load_ext autoreload\n",
    "import pandas as pd\n",
    "import numpy as np\n",
    "import os\n",
    "import sys\n",
    "import igraph as ig\n",
    "\n",
    "import plotly.express as px\n",
    "\n",
    "\n",
    "import multiprocess as mp\n",
    "\n",
    "\n",
    "# own libraries\n",
    "SCRIPT_DIR = os.path.dirname(os.path.abspath(\"pcgna_processing.py\"))\n",
    "sys.path.append(os.path.dirname(SCRIPT_DIR))\n",
    "sys.path.append('/Users/vlad/Documents/Code/York/iNet_v2/src/')\n",
    "\n",
    "from NetworkAnalysis.ExperimentSet import ExperimentSet\n",
    "from NetworkAnalysis import GraphHelper as gh\n",
    "from NetworkAnalysis.utilities import sankey_consensus_plot as sky\n",
    "from NetworkAnalysis.utilities.helpers import save_fig\n",
    "from NetworkAnalysis.utilities.helpers import save_fig, survival_plot, survival_comp\n",
    "from NetworkAnalysis.utilities.Graph_Tool.GraphToolExp import GraphToolExperiment as GtExp\n",
    "sys.path.append(os.path.dirname(\"../../src\"))\n",
    "# Gsea libraries\n",
    "\n",
    "import graph_tool.all as gt\n",
    "\n",
    "# matplotlib.use(\"gtk3agg\")\n",
    "\n",
    "# %matplotlib inline\n",
    "import gseapy as gp\n",
    "\n",
    "pool = mp.Pool(mp.cpu_count())"
   ]
  },
  {
   "cell_type": "code",
   "execution_count": 3,
   "metadata": {},
   "outputs": [],
   "source": [
    "results_path = \"../../results/exp/\"\n",
    "data_base = \"../../data/\"\n",
    "base_path = \"../../results/\"\n",
    "exp_folder_tumour = \"network_I/tum/\" # \"/integration_v2.1/ - path from iNET\n",
    "exp_folder_h42 = \"network_I/healthy42/\"\n",
    "exp_folder_h42_ctrl = \"network_I/healthyControls/\"\n",
    "\n",
    "figures_path = \"selective_edge_pruning/\"\n",
    "\n",
    "vu_output = pd.read_csv(f\"{data_base}/metadata/VU_clustering_v3.tsv\", sep=\"\\t\", index_col=\"Sample\")\n",
    "\n",
    "tcga_mutations_df = pd.read_csv(f\"{data_base}/tumour/mutations_tcga.csv\")\n",
    "tcga_mutations_df = tcga_mutations_df[tcga_mutations_df[\"count\"] != 0].set_index(\"gene\")\n",
    "\n",
    "all_tum_tpms = pd.read_csv(f\"{data_base}/tumour/TPMs_selected_genes_v3_13k_gc42.tsv\", sep=\"\\t\", index_col=\"genes\")\n",
    "\n",
    "# tf list\n",
    "tf_path = f\"{data_base}/metadata/TF_names_v_1.01.txt\"\n",
    "if os.path.exists(tf_path):\n",
    "    tf_list = np.genfromtxt(fname=tf_path, delimiter=\"\\t\", skip_header=1, dtype=\"str\")"
   ]
  },
  {
   "cell_type": "markdown",
   "metadata": {},
   "source": [
    "## Clean GraphML"
   ]
  },
  {
   "cell_type": "code",
   "execution_count": 4,
   "metadata": {},
   "outputs": [],
   "source": [
    "# FOR SBM network\n",
    "if False:\n",
    "    test_graph = ig.read(filename=figures_path + \"SBM_5K_6TF.graphml\")\n",
    "\n",
    "    for vertex in test_graph.vs:\n",
    "        vertex[\"tf\"] = bool(vertex[\"tf\"])\n",
    "        vertex[\"ctrl_tf\"] = bool(vertex[\"ctrl_tf\"])\n",
    "        vertex[\"mut_count\"] = int(vertex[\"count\"])\n",
    "        vertex[\"ivi\"] = round(vertex[\"ivi\"])\n",
    "        vertex[\"Leiden_TF_6\"] = str(vertex[\"modularity class\"])\n",
    "        vertex[\"DC-SBM_TF_6\"] = str(vertex[\"sbm_0\"])\n",
    "        vertex[\"SBM_stable\"] = bool(vertex[\"smb_stable_0_num\"])\n",
    "\n",
    "    del test_graph.vs[\"modularity class\"]\n",
    "    del test_graph.vs[\"sbm_0\"]\n",
    "    del test_graph.vs[\"smb_stable_0_num\"]\n",
    "    del test_graph.vs[\"lund\"]\n",
    "    del test_graph.vs[\"tcga\"]\n",
    "    del test_graph.vs[\"count\"]\n",
    "\n",
    "    test_graph.write_graphml(figures_path + \"SBM_5K_6TF_v2.graphml\")\n",
    "\n",
    "    # For Leiden\n",
    "    test_graph = ig.read(filename=figures_path + \"Leiden_5K_50TF.graphml\")\n",
    "\n",
    "    for vertex in test_graph.vs:\n",
    "        vertex[\"tf\"] = bool(vertex[\"tf\"])\n",
    "        vertex[\"ctrl_tf\"] = bool(vertex[\"ctrl_tf\"])\n",
    "        vertex[\"mut_count\"] = int(vertex[\"count\"])\n",
    "        vertex[\"ivi\"] = round(vertex[\"ivi\"])\n",
    "        vertex[\"Leiden_TF_50\"] = str(vertex[\"modularity class\"])\n",
    "\n",
    "    del test_graph.vs[\"modularity class\"]\n",
    "    del test_graph.vs[\"lund\"]\n",
    "    del test_graph.vs[\"tcga\"]\n",
    "    del test_graph.vs[\"count\"]\n",
    "\n",
    "    test_graph.write_graphml(figures_path + \"Leiden_5K_50TF_v2.graphml\")"
   ]
  },
  {
   "cell_type": "markdown",
   "metadata": {},
   "source": [
    "## Load experiment sets"
   ]
  },
  {
   "cell_type": "code",
   "execution_count": 5,
   "metadata": {},
   "outputs": [
    {
     "name": "stdout",
     "output_type": "stream",
     "text": [
      "##### Experiment labels:  dict_keys(['standard_5K_3TF', 'norm3_5K_3TF', 'beta_5K_3TF', 'standard_5K_6TF', 'standard_5K_10TF', 'norm3_5K_6TF', 'beta_5K_6TF', 'norm3_5K_10TF', 'beta_5K_10TF', 'standard_5K_4TF', 'standard_5K_7TF', 'standard_5K_8TF', 'standard_5K_5TF', 'standard_5K_9TF', 'norm3_5K_4TF', 'beta_5K_4TF', 'standard_5K_15TF', 'standard_5K_20TF', 'standard_5K_30TF', 'standard_5K_25TF', 'standard_5K_40TF', 'standard_5K_35TF', 'standard_5K_45TF', 'standard_5K_50TF', 'standard_5K_12TF', 'standard_5K_14TF', 'standard_5K_11TF', 'standard_5K_13TF'])\n",
      "### Loaded standard_int_healthy42_5K_3TF\n",
      "### Loaded standard_int_healthy42_5K_6TF\n",
      "### Loaded standard_int_healthy42_5K_10TF\n"
     ]
    }
   ],
   "source": [
    "%autoreload 2\n",
    "all_h = ExperimentSet(\"allHealthy42\", base_path, exp_folder_h42, tcga_mutations_df, sel_sets = [\"5K\"], rel_path=\"../\")\n",
    "all_h.export_to_gephi(save=False)\n",
    "\n",
    "tf_range = [3, 6, 10]\n",
    "exps, entropy = GtExp.load_sbm_exps(all_h, name=\"standard_5K\", exp_type=\"h42_700_degreeCor\", tf_range=tf_range)"
   ]
  },
  {
   "cell_type": "code",
   "execution_count": 6,
   "metadata": {},
   "outputs": [],
   "source": [
    "%%capture\n",
    "folders = next(os.walk(base_path + exp_folder_h42_ctrl), (None, None, []))[1]\n",
    "args, h_ctrls = [], {}\n",
    "for folder in folders:\n",
    "    hCtrl_path = \"{}/{}/\".format(exp_folder_h42_ctrl, folder)\n",
    "    idx = int(folder.split(\"hCtrl\")[-1])\n",
    "    h_ctrls[idx] = ExperimentSet(\"allHealthy42\", base_path, hCtrl_path, tcga_mutations_df, sel_sets=[\"5K\"], rel_path=\"../\")\n",
    "    h_ctrls[idx].export_to_gephi(save=False)"
   ]
  },
  {
   "cell_type": "markdown",
   "metadata": {},
   "source": [
    "# Selective edge pruning"
   ]
  },
  {
   "cell_type": "code",
   "execution_count": 7,
   "metadata": {},
   "outputs": [
    {
     "name": "stdout",
     "output_type": "stream",
     "text": [
      "### Loaded standard_int_healthy42_5K_3TF\n",
      "### Loaded standard_int_healthy42_5K_4TF\n",
      "### Loaded standard_int_healthy42_5K_5TF\n",
      "### Loaded standard_int_healthy42_5K_6TF\n",
      "### Loaded standard_int_healthy42_5K_7TF\n",
      "### Loaded standard_int_healthy42_5K_8TF\n",
      "### Loaded standard_int_healthy42_5K_9TF\n",
      "### Loaded standard_int_healthy42_5K_10TF\n",
      "### Loaded standard_int_healthy42_5K_11TF\n",
      "### Loaded standard_int_healthy42_5K_12TF\n",
      "### Loaded standard_int_healthy42_5K_13TF\n",
      "### Loaded standard_int_healthy42_5K_14TF\n",
      "### Loaded standard_int_healthy42_5K_15TF\n"
     ]
    }
   ],
   "source": [
    "tf_range = list(range(3, 16, 1))\n",
    "h_exps, h_entropy = GtExp.load_sbm_exps(all_h, name=\"standard_5K\", exp_type=\"h42_700_degreeCor\", tf_range=tf_range)\n",
    "h_entropy[\"Type\"] = \"Experiment\""
   ]
  },
  {
   "cell_type": "code",
   "execution_count": 8,
   "metadata": {},
   "outputs": [],
   "source": [
    "%%capture\n",
    "ctrl_exps, cmb_df = {}, pd.DataFrame()\n",
    "for key in range(1, 11, 1):\n",
    "    exps, entropy = GtExp.load_sbm_exps(h_ctrls[key], name=\"standard_5K\", exp_type=\"sbm_ctrl42_standard_5K\", tf_range=tf_range)\n",
    "    entropy[\"Type\"] = \"hCtrl{}\".format(key)\n",
    "    cmb_df = pd.concat([cmb_df, entropy], axis=0)\n",
    "    ctrl_exps[key] = {\"entropy\": entropy, \"exps\": exps}\n",
    "\n",
    "cmb_df = pd.concat([cmb_df, h_entropy], axis=0)\n",
    "cmb_df[\"Entropy_norm\"] = (cmb_df[\"Entropy\"] - cmb_df[\"Entropy\"].min()) / (cmb_df[\"Entropy\"].max() - cmb_df[\"Entropy\"].min())\n",
    "cmb_df[\"Entropy_log10\"] = np.log10(cmb_df[\"Entropy\"])\n"
   ]
  },
  {
   "cell_type": "code",
   "execution_count": 9,
   "metadata": {},
   "outputs": [],
   "source": [
    "#### Find the network with top model\n",
    "top_exp, color_map = [], {}\n",
    "for exp in cmb_df[\"Type\"].unique():\n",
    "    sel_df = cmb_df[cmb_df[\"Type\"] == exp]\n",
    "    for tf in sel_df[\"TF\"].unique():\n",
    "        tst_df = sel_df[sel_df[\"TF\"] == tf].sort_values(by=\"Entropy\", ascending=False).values[0]\n",
    "        top_exp.append(tst_df)\n",
    "\n",
    "    color_map[exp] = px.colors.qualitative.Plotly[0]\n",
    "    if exp == \"Experiment\":\n",
    "        color_map[exp] = px.colors.qualitative.Plotly[2]\n",
    "\n",
    "top_exp = pd.DataFrame(top_exp, columns=[\"Entropy\", \"TF\", \"Type\", \"Entropy_norm\", \"Entropy_log\"])\n",
    "\n",
    "#### Compute stats\n",
    "stats_vals = []\n",
    "for tf in top_exp[\"TF\"].unique():\n",
    "    sel_df = top_exp[top_exp[\"TF\"] == tf]\n",
    "    sel_df_ctrl = sel_df[sel_df[\"Type\"].str.contains(\"hCtrl\")][\"Entropy\"]\n",
    "    sel_df_exp = sel_df[~sel_df[\"Type\"].str.contains(\"hCtrl\")][\"Entropy\"].values[0]\n",
    "    stats_vals.append((sel_df_ctrl.median(), sel_df_ctrl.mean(), sel_df_ctrl.std(), tf, \"Control\"))\n",
    "    stats_vals.append((sel_df_exp, sel_df_exp, 0, tf, \"Experiment\"))"
   ]
  },
  {
   "cell_type": "code",
   "execution_count": 10,
   "metadata": {},
   "outputs": [
    {
     "data": {
      "application/vnd.plotly.v1+json": {
       "config": {
        "plotlyServerURL": "https://plot.ly"
       },
       "data": [
        {
         "error_y": {
          "array": [
           61.861211740739996,
           139.95682828188572,
           58.880840872634096,
           152.48914059338185,
           158.5817724511006,
           115.43848391665304,
           210.17177543300323,
           177.18880129625916,
           198.60112304166285,
           246.98875299018525,
           276.06184411657426,
           248.75588605411852,
           350.4041066777551
          ],
          "width": 8
         },
         "hovertemplate": "Type=Control<br>TF=%{x}<br>Mean_Ent=%{y}<extra></extra>",
         "legendgroup": "Control",
         "marker": {
          "color": "#DC3912",
          "size": 8,
          "symbol": "circle"
         },
         "mode": "markers",
         "name": "Control",
         "orientation": "v",
         "showlegend": true,
         "type": "scatter",
         "x": [
          "3",
          "4",
          "5",
          "6",
          "7",
          "8",
          "9",
          "10",
          "11",
          "12",
          "13",
          "14",
          "15"
         ],
         "xaxis": "x",
         "y": [
          105668.76713829585,
          107521.15761352373,
          109332.7137971782,
          111260.61020391123,
          113092.73712093986,
          115017.88039265736,
          116874.72441903614,
          118726.34392474363,
          120567.75541438458,
          122473.8519902431,
          124408.82809829907,
          126336.80467468465,
          128272.64212742788
         ],
         "yaxis": "y"
        },
        {
         "error_y": {
          "array": [
           0,
           0,
           0,
           0,
           0,
           0,
           0,
           0,
           0,
           0,
           0,
           0,
           0
          ]
         },
         "hovertemplate": "Type=Experiment<br>TF=%{x}<br>Mean_Ent=%{y}<extra></extra>",
         "legendgroup": "Experiment",
         "marker": {
          "color": "#3366CC",
          "size": 8,
          "symbol": "circle"
         },
         "mode": "markers",
         "name": "Experiment",
         "orientation": "v",
         "showlegend": true,
         "type": "scatter",
         "x": [
          "3",
          "4",
          "5",
          "6",
          "7",
          "8",
          "9",
          "10",
          "11",
          "12",
          "13",
          "14",
          "15"
         ],
         "xaxis": "x",
         "y": [
          105713.81040101593,
          107344.92392942715,
          109031.26468825985,
          110969.64641420697,
          112709.81713034317,
          114534.47152883603,
          116511.82780350995,
          118030.90481644036,
          119875.4274670811,
          121607.65041865478,
          123243.43853873952,
          124995.74684606891,
          126727.03481215589
         ],
         "yaxis": "y"
        }
       ],
       "layout": {
        "font": {
         "size": 16
        },
        "height": 600,
        "legend": {
         "bgcolor": "rgba(0,0,0,0)",
         "font": {
          "color": "#003366",
          "size": 16
         },
         "orientation": "h",
         "title": {
          "text": "SBM"
         },
         "tracegroupgap": 0,
         "x": 0.5,
         "xanchor": "center",
         "y": 0.87,
         "yanchor": "bottom"
        },
        "paper_bgcolor": "rgba(0,0,0,0)",
        "template": {
         "data": {
          "bar": [
           {
            "error_x": {
             "color": "rgb(51,51,51)"
            },
            "error_y": {
             "color": "rgb(51,51,51)"
            },
            "marker": {
             "line": {
              "color": "rgb(237,237,237)",
              "width": 0.5
             },
             "pattern": {
              "fillmode": "overlay",
              "size": 10,
              "solidity": 0.2
             }
            },
            "type": "bar"
           }
          ],
          "barpolar": [
           {
            "marker": {
             "line": {
              "color": "rgb(237,237,237)",
              "width": 0.5
             },
             "pattern": {
              "fillmode": "overlay",
              "size": 10,
              "solidity": 0.2
             }
            },
            "type": "barpolar"
           }
          ],
          "carpet": [
           {
            "aaxis": {
             "endlinecolor": "rgb(51,51,51)",
             "gridcolor": "white",
             "linecolor": "white",
             "minorgridcolor": "white",
             "startlinecolor": "rgb(51,51,51)"
            },
            "baxis": {
             "endlinecolor": "rgb(51,51,51)",
             "gridcolor": "white",
             "linecolor": "white",
             "minorgridcolor": "white",
             "startlinecolor": "rgb(51,51,51)"
            },
            "type": "carpet"
           }
          ],
          "choropleth": [
           {
            "colorbar": {
             "outlinewidth": 0,
             "tickcolor": "rgb(237,237,237)",
             "ticklen": 6,
             "ticks": "inside"
            },
            "type": "choropleth"
           }
          ],
          "contour": [
           {
            "colorbar": {
             "outlinewidth": 0,
             "tickcolor": "rgb(237,237,237)",
             "ticklen": 6,
             "ticks": "inside"
            },
            "colorscale": [
             [
              0,
              "rgb(20,44,66)"
             ],
             [
              1,
              "rgb(90,179,244)"
             ]
            ],
            "type": "contour"
           }
          ],
          "contourcarpet": [
           {
            "colorbar": {
             "outlinewidth": 0,
             "tickcolor": "rgb(237,237,237)",
             "ticklen": 6,
             "ticks": "inside"
            },
            "type": "contourcarpet"
           }
          ],
          "heatmap": [
           {
            "colorbar": {
             "outlinewidth": 0,
             "tickcolor": "rgb(237,237,237)",
             "ticklen": 6,
             "ticks": "inside"
            },
            "colorscale": [
             [
              0,
              "rgb(20,44,66)"
             ],
             [
              1,
              "rgb(90,179,244)"
             ]
            ],
            "type": "heatmap"
           }
          ],
          "heatmapgl": [
           {
            "colorbar": {
             "outlinewidth": 0,
             "tickcolor": "rgb(237,237,237)",
             "ticklen": 6,
             "ticks": "inside"
            },
            "colorscale": [
             [
              0,
              "rgb(20,44,66)"
             ],
             [
              1,
              "rgb(90,179,244)"
             ]
            ],
            "type": "heatmapgl"
           }
          ],
          "histogram": [
           {
            "marker": {
             "pattern": {
              "fillmode": "overlay",
              "size": 10,
              "solidity": 0.2
             }
            },
            "type": "histogram"
           }
          ],
          "histogram2d": [
           {
            "colorbar": {
             "outlinewidth": 0,
             "tickcolor": "rgb(237,237,237)",
             "ticklen": 6,
             "ticks": "inside"
            },
            "colorscale": [
             [
              0,
              "rgb(20,44,66)"
             ],
             [
              1,
              "rgb(90,179,244)"
             ]
            ],
            "type": "histogram2d"
           }
          ],
          "histogram2dcontour": [
           {
            "colorbar": {
             "outlinewidth": 0,
             "tickcolor": "rgb(237,237,237)",
             "ticklen": 6,
             "ticks": "inside"
            },
            "colorscale": [
             [
              0,
              "rgb(20,44,66)"
             ],
             [
              1,
              "rgb(90,179,244)"
             ]
            ],
            "type": "histogram2dcontour"
           }
          ],
          "mesh3d": [
           {
            "colorbar": {
             "outlinewidth": 0,
             "tickcolor": "rgb(237,237,237)",
             "ticklen": 6,
             "ticks": "inside"
            },
            "type": "mesh3d"
           }
          ],
          "parcoords": [
           {
            "line": {
             "colorbar": {
              "outlinewidth": 0,
              "tickcolor": "rgb(237,237,237)",
              "ticklen": 6,
              "ticks": "inside"
             }
            },
            "type": "parcoords"
           }
          ],
          "pie": [
           {
            "automargin": true,
            "type": "pie"
           }
          ],
          "scatter": [
           {
            "fillpattern": {
             "fillmode": "overlay",
             "size": 10,
             "solidity": 0.2
            },
            "type": "scatter"
           }
          ],
          "scatter3d": [
           {
            "line": {
             "colorbar": {
              "outlinewidth": 0,
              "tickcolor": "rgb(237,237,237)",
              "ticklen": 6,
              "ticks": "inside"
             }
            },
            "marker": {
             "colorbar": {
              "outlinewidth": 0,
              "tickcolor": "rgb(237,237,237)",
              "ticklen": 6,
              "ticks": "inside"
             }
            },
            "type": "scatter3d"
           }
          ],
          "scattercarpet": [
           {
            "marker": {
             "colorbar": {
              "outlinewidth": 0,
              "tickcolor": "rgb(237,237,237)",
              "ticklen": 6,
              "ticks": "inside"
             }
            },
            "type": "scattercarpet"
           }
          ],
          "scattergeo": [
           {
            "marker": {
             "colorbar": {
              "outlinewidth": 0,
              "tickcolor": "rgb(237,237,237)",
              "ticklen": 6,
              "ticks": "inside"
             }
            },
            "type": "scattergeo"
           }
          ],
          "scattergl": [
           {
            "marker": {
             "colorbar": {
              "outlinewidth": 0,
              "tickcolor": "rgb(237,237,237)",
              "ticklen": 6,
              "ticks": "inside"
             }
            },
            "type": "scattergl"
           }
          ],
          "scattermapbox": [
           {
            "marker": {
             "colorbar": {
              "outlinewidth": 0,
              "tickcolor": "rgb(237,237,237)",
              "ticklen": 6,
              "ticks": "inside"
             }
            },
            "type": "scattermapbox"
           }
          ],
          "scatterpolar": [
           {
            "marker": {
             "colorbar": {
              "outlinewidth": 0,
              "tickcolor": "rgb(237,237,237)",
              "ticklen": 6,
              "ticks": "inside"
             }
            },
            "type": "scatterpolar"
           }
          ],
          "scatterpolargl": [
           {
            "marker": {
             "colorbar": {
              "outlinewidth": 0,
              "tickcolor": "rgb(237,237,237)",
              "ticklen": 6,
              "ticks": "inside"
             }
            },
            "type": "scatterpolargl"
           }
          ],
          "scatterternary": [
           {
            "marker": {
             "colorbar": {
              "outlinewidth": 0,
              "tickcolor": "rgb(237,237,237)",
              "ticklen": 6,
              "ticks": "inside"
             }
            },
            "type": "scatterternary"
           }
          ],
          "surface": [
           {
            "colorbar": {
             "outlinewidth": 0,
             "tickcolor": "rgb(237,237,237)",
             "ticklen": 6,
             "ticks": "inside"
            },
            "colorscale": [
             [
              0,
              "rgb(20,44,66)"
             ],
             [
              1,
              "rgb(90,179,244)"
             ]
            ],
            "type": "surface"
           }
          ],
          "table": [
           {
            "cells": {
             "fill": {
              "color": "rgb(237,237,237)"
             },
             "line": {
              "color": "white"
             }
            },
            "header": {
             "fill": {
              "color": "rgb(217,217,217)"
             },
             "line": {
              "color": "white"
             }
            },
            "type": "table"
           }
          ]
         },
         "layout": {
          "annotationdefaults": {
           "arrowhead": 0,
           "arrowwidth": 1
          },
          "autotypenumbers": "strict",
          "coloraxis": {
           "colorbar": {
            "outlinewidth": 0,
            "tickcolor": "rgb(237,237,237)",
            "ticklen": 6,
            "ticks": "inside"
           }
          },
          "colorscale": {
           "sequential": [
            [
             0,
             "rgb(20,44,66)"
            ],
            [
             1,
             "rgb(90,179,244)"
            ]
           ],
           "sequentialminus": [
            [
             0,
             "rgb(20,44,66)"
            ],
            [
             1,
             "rgb(90,179,244)"
            ]
           ]
          },
          "colorway": [
           "#F8766D",
           "#A3A500",
           "#00BF7D",
           "#00B0F6",
           "#E76BF3"
          ],
          "font": {
           "color": "rgb(51,51,51)"
          },
          "geo": {
           "bgcolor": "white",
           "lakecolor": "white",
           "landcolor": "rgb(237,237,237)",
           "showlakes": true,
           "showland": true,
           "subunitcolor": "white"
          },
          "hoverlabel": {
           "align": "left"
          },
          "hovermode": "closest",
          "paper_bgcolor": "white",
          "plot_bgcolor": "rgb(237,237,237)",
          "polar": {
           "angularaxis": {
            "gridcolor": "white",
            "linecolor": "white",
            "showgrid": true,
            "tickcolor": "rgb(51,51,51)",
            "ticks": "outside"
           },
           "bgcolor": "rgb(237,237,237)",
           "radialaxis": {
            "gridcolor": "white",
            "linecolor": "white",
            "showgrid": true,
            "tickcolor": "rgb(51,51,51)",
            "ticks": "outside"
           }
          },
          "scene": {
           "xaxis": {
            "backgroundcolor": "rgb(237,237,237)",
            "gridcolor": "white",
            "gridwidth": 2,
            "linecolor": "white",
            "showbackground": true,
            "showgrid": true,
            "tickcolor": "rgb(51,51,51)",
            "ticks": "outside",
            "zerolinecolor": "white"
           },
           "yaxis": {
            "backgroundcolor": "rgb(237,237,237)",
            "gridcolor": "white",
            "gridwidth": 2,
            "linecolor": "white",
            "showbackground": true,
            "showgrid": true,
            "tickcolor": "rgb(51,51,51)",
            "ticks": "outside",
            "zerolinecolor": "white"
           },
           "zaxis": {
            "backgroundcolor": "rgb(237,237,237)",
            "gridcolor": "white",
            "gridwidth": 2,
            "linecolor": "white",
            "showbackground": true,
            "showgrid": true,
            "tickcolor": "rgb(51,51,51)",
            "ticks": "outside",
            "zerolinecolor": "white"
           }
          },
          "shapedefaults": {
           "fillcolor": "black",
           "line": {
            "width": 0
           },
           "opacity": 0.3
          },
          "ternary": {
           "aaxis": {
            "gridcolor": "white",
            "linecolor": "white",
            "showgrid": true,
            "tickcolor": "rgb(51,51,51)",
            "ticks": "outside"
           },
           "baxis": {
            "gridcolor": "white",
            "linecolor": "white",
            "showgrid": true,
            "tickcolor": "rgb(51,51,51)",
            "ticks": "outside"
           },
           "bgcolor": "rgb(237,237,237)",
           "caxis": {
            "gridcolor": "white",
            "linecolor": "white",
            "showgrid": true,
            "tickcolor": "rgb(51,51,51)",
            "ticks": "outside"
           }
          },
          "xaxis": {
           "automargin": true,
           "gridcolor": "white",
           "linecolor": "white",
           "showgrid": true,
           "tickcolor": "rgb(51,51,51)",
           "ticks": "outside",
           "title": {
            "standoff": 15
           },
           "zerolinecolor": "white"
          },
          "yaxis": {
           "automargin": true,
           "gridcolor": "white",
           "linecolor": "white",
           "showgrid": true,
           "tickcolor": "rgb(51,51,51)",
           "ticks": "outside",
           "title": {
            "standoff": 15
           },
           "zerolinecolor": "white"
          }
         }
        },
        "title": {
         "text": ""
        },
        "xaxis": {
         "anchor": "y",
         "domain": [
          0,
          1
         ],
         "tickfont": {
          "size": 16
         },
         "tickmode": "array",
         "tickvals": [
          3,
          4,
          5,
          6,
          7,
          8,
          9,
          10,
          11,
          12,
          13,
          14,
          15
         ],
         "title": {
          "text": "Minimum degree for selected genes"
         }
        },
        "yaxis": {
         "anchor": "x",
         "domain": [
          0,
          1
         ],
         "tickfont": {
          "size": 16
         },
         "title": {
          "text": "Entropy"
         }
        }
       }
      }
     },
     "metadata": {},
     "output_type": "display_data"
    }
   ],
   "source": [
    "top_df = pd.DataFrame(stats_vals, columns=[\"Median_Ent\", \"Mean_Ent\", \"Std_Ent\", \"TF\", \"Type\"])\n",
    "\n",
    "color_map = {\"Experiment\": px.colors.qualitative.G10[0], \"Control\": px.colors.qualitative.G10[1]}\n",
    "fig = px.scatter(\n",
    "    top_df,\n",
    "    y=\"Mean_Ent\",\n",
    "    x=\"TF\",\n",
    "    error_y=\"Std_Ent\",\n",
    "    color=\"Type\",\n",
    "    title=\"Entropy evolution TFs 3-15. Standard 5K\",\n",
    "    height=600,\n",
    "    color_discrete_map=color_map,\n",
    ")\n",
    "\n",
    "fig.update_layout(xaxis=dict(tickmode=\"array\", tickvals=list(range(3, 16, 1))))\n",
    "fig.update_layout(\n",
    "    legend=dict(\n",
    "        orientation=\"h\",\n",
    "        title=\"SBM\",\n",
    "        yanchor=\"bottom\",\n",
    "        y=0.87,\n",
    "        xanchor=\"center\",\n",
    "        x=0.5,\n",
    "        bgcolor=\"rgba(0,0,0,0)\",\n",
    "        font=dict(size=16, color=\"#003366\"),\n",
    "    ),\n",
    "    title=\"\",\n",
    "    template=\"ggplot2\",  # \"ggplot2\", \"plotly_white\"\n",
    "    paper_bgcolor=\"rgba(0,0,0,0)\",\n",
    "    # plot_bgcolor=\"rgba(0,0,0,0)\",\n",
    "    xaxis=dict(\n",
    "        tickfont=dict(size=16),\n",
    "        title=\"Minimum degree for selected genes\",\n",
    "    ),\n",
    "    yaxis=dict(\n",
    "        tickfont=dict(size=16),\n",
    "        title=\"Entropy\",\n",
    "    ),\n",
    "    font=dict(size=16),\n",
    ")\n",
    "fig.update_traces(marker_size=8)\n",
    "fig.update_traces(error_y=dict(width=8), selector=({\"name\": \"Control\"}))\n",
    "fig.show()\n",
    "save_fig(name=\"sbm_ent_sel_prun\", fig=fig, base_path=figures_path, width=1200, height=600)"
   ]
  },
  {
   "cell_type": "code",
   "execution_count": 11,
   "metadata": {},
   "outputs": [],
   "source": [
    "# Old figure with box plots\n",
    "if False:\n",
    "    fig = px.box(cmb_df, y=\"Entropy\", x=\"TF\", color=\"Type\", title=\"Entropy evolution TFs 3-15. Standard 5K\", height=600, color_discrete_map=color_map)\n",
    "\n",
    "    fig.update_layout(xaxis=dict(tickmode=\"linear\", tick0=3, dtick=1))\n",
    "    fig.update_layout(xaxis=dict(tickmode=\"array\", tickvals=list(range(3, 15, 1))))\n",
    "    fig.update_xaxes(tickfont=dict(size=14), title_font=dict(size=16))\n",
    "    fig.update_yaxes(tickfont=dict(size=14), title_font=dict(size=16))\n",
    "    fig.show()"
   ]
  },
  {
   "cell_type": "markdown",
   "metadata": {},
   "source": [
    "# Leiden and SBM comparisons \n",
    "\n",
    "## Modularity Score"
   ]
  },
  {
   "cell_type": "code",
   "execution_count": 15,
   "metadata": {},
   "outputs": [],
   "source": [
    "def prep_leiden(exp: ExperimentSet, label=\"Experiment\"):\n",
    "    leid_stats = exp.comb_leiden_scores()\n",
    "    leid_stats = leid_stats.loc[leid_stats[\"Modifier\"] == \"Standard\"]\n",
    "    leid_stats[\"Type\"] = label\n",
    "\n",
    "    sel_cols = [\"Leiden Rank\", \"ModularityScore\", \"ModuleNum\", \"AvgModSize\", \"Modifier\", \"Type\", \"TF\", \"AvgModuleNum\"]\n",
    "\n",
    "    return leid_stats[sel_cols]\n",
    "\n",
    "\n",
    "def tf_stats(ctrls_df: pd.DataFrame, exp_df: pd.DataFrame):\n",
    "    for tf in ctrls_df[\"TF\"].unique():\n",
    "        sel_df = ctrls_df[ctrls_df[\"TF\"] == tf]\n",
    "        sel_df_exp = exp_df[exp_df[\"TF\"] == tf]\n",
    "\n",
    "        r_field = {\"ModularityScore\": \"Mod\", \"AvgModuleNum\": \"ModNum\", \"AvgModSize\": \"ModSize\"}\n",
    "        for field in [\"ModularityScore\", \"AvgModuleNum\", \"AvgModSize\"]:\n",
    "            ctrls_df.loc[ctrls_df[\"TF\"] == tf, \"{}_median\".format(r_field[field])] = sel_df[field].median(axis=0)\n",
    "            ctrls_df.loc[ctrls_df[\"TF\"] == tf, \"{}_mean\".format(r_field[field])] = sel_df[field].mean(axis=0)\n",
    "            ctrls_df.loc[ctrls_df[\"TF\"] == tf, \"{}_std\".format(r_field[field])] = sel_df[field].std(axis=0)\n",
    "\n",
    "            exp_df.loc[exp_df[\"TF\"] == tf, \"{}_median\".format(r_field[field])] = sel_df_exp[field].median(axis=0)\n",
    "            exp_df.loc[exp_df[\"TF\"] == tf, \"{}_mean\".format(r_field[field])] = sel_df_exp[field].mean(axis=0)\n",
    "            exp_df.loc[exp_df[\"TF\"] == tf, \"{}_std\".format(r_field[field])] = sel_df_exp[field].std(axis=0)\n",
    "\n",
    "    ctrls_df[\"Type\"] = \"Control\"\n",
    "    comb_leiden = pd.concat([ctrls_df, exp_df], axis=0)\n",
    "    comb_leiden[\"TF\"] = comb_leiden[\"TF\"].astype(int)\n",
    "    comb_leiden = comb_leiden[comb_leiden[\"TF\"] <= 15]\n",
    "    comb_leiden.sort_values(by=\"TF\", ascending=True, inplace=True)\n",
    "    comb_leiden[\"TF\"] = comb_leiden[\"TF\"].astype(str)\n",
    "\n",
    "    return comb_leiden"
   ]
  },
  {
   "cell_type": "code",
   "execution_count": 16,
   "metadata": {},
   "outputs": [],
   "source": [
    "leid_h = prep_leiden(all_h, label=\"Experiment\")\n",
    "\n",
    "leid_ctrls = []\n",
    "for idx in range(1, 11, 1):\n",
    "    df = prep_leiden(h_ctrls[idx], label=\"hCtrl{}\".format(idx))\n",
    "    leid_ctrls.append(df)\n",
    "\n",
    "all_leid_ctrls = pd.concat(leid_ctrls, axis=0)\n",
    "top_leid_ctrls = all_leid_ctrls[all_leid_ctrls[\"Leiden Rank\"] == 0]"
   ]
  },
  {
   "cell_type": "code",
   "execution_count": 17,
   "metadata": {},
   "outputs": [
    {
     "data": {
      "application/vnd.plotly.v1+json": {
       "config": {
        "plotlyServerURL": "https://plot.ly"
       },
       "data": [
        {
         "error_y": {
          "array": [
           0.00015835073677706275,
           0.00015835073677706275,
           0.00015835073677706275,
           0.00015835073677706275,
           0.00015835073677706275,
           0.00015835073677706275,
           0.00015835073677706275,
           0.00015835073677706275,
           0.00015835073677706275,
           0.00015835073677706275,
           0.0004606085926428978,
           0.0004606085926428978,
           0.0004606085926428978,
           0.0004606085926428978,
           0.0004606085926428978,
           0.0004606085926428978,
           0.0004606085926428978,
           0.0004606085926428978,
           0.0004606085926428978,
           0.0004606085926428978,
           0.0005089219367270317,
           0.0005089219367270317,
           0.0005089219367270317,
           0.0005089219367270317,
           0.0005089219367270317,
           0.0005089219367270317,
           0.0005089219367270317,
           0.0005089219367270317,
           0.0005089219367270317,
           0.0005089219367270317,
           0.0008181501873112306,
           0.0008181501873112306,
           0.0008181501873112306,
           0.0008181501873112306,
           0.0008181501873112306,
           0.0008181501873112306,
           0.0008181501873112306,
           0.0008181501873112306,
           0.0008181501873112306,
           0.0008181501873112306,
           0.0011599270378197426,
           0.0011599270378197426,
           0.0011599270378197426,
           0.0011599270378197426,
           0.0011599270378197426,
           0.0011599270378197426,
           0.0011599270378197426,
           0.0011599270378197426,
           0.0011599270378197426,
           0.0011599270378197426,
           0.0012318134226348176,
           0.0012318134226348176,
           0.0012318134226348176,
           0.0012318134226348176,
           0.0012318134226348176,
           0.0012318134226348176,
           0.0012318134226348176,
           0.0012318134226348176,
           0.0012318134226348176,
           0.0012318134226348176,
           0.0016152774513518747,
           0.0016152774513518747,
           0.0016152774513518747,
           0.0016152774513518747,
           0.0016152774513518747,
           0.0016152774513518747,
           0.0016152774513518747,
           0.0016152774513518747,
           0.0016152774513518747,
           0.0016152774513518747,
           0.00148970281466249,
           0.00148970281466249,
           0.00148970281466249,
           0.00148970281466249,
           0.00148970281466249,
           0.00148970281466249,
           0.00148970281466249,
           0.00148970281466249,
           0.00148970281466249,
           0.00148970281466249,
           0.001595552858979097,
           0.001595552858979097,
           0.001595552858979097,
           0.001595552858979097,
           0.001595552858979097,
           0.001595552858979097,
           0.001595552858979097,
           0.001595552858979097,
           0.001595552858979097,
           0.001595552858979097,
           0.0019474410666567904,
           0.0019474410666567904,
           0.0019474410666567904,
           0.0019474410666567904,
           0.0019474410666567904,
           0.0019474410666567904,
           0.0019474410666567904,
           0.0019474410666567904,
           0.0019474410666567904,
           0.0019474410666567904,
           0.002222564457109165,
           0.002222564457109165,
           0.002222564457109165,
           0.002222564457109165,
           0.002222564457109165,
           0.002222564457109165,
           0.002222564457109165,
           0.002222564457109165,
           0.002222564457109165,
           0.002222564457109165,
           0.002286756875337568,
           0.002286756875337568,
           0.002286756875337568,
           0.002286756875337568,
           0.002286756875337568,
           0.002286756875337568,
           0.002286756875337568,
           0.002286756875337568,
           0.002286756875337568,
           0.002286756875337568,
           0.0027335053784582762,
           0.0027335053784582762,
           0.0027335053784582762,
           0.0027335053784582762,
           0.0027335053784582762,
           0.0027335053784582762,
           0.0027335053784582762,
           0.0027335053784582762,
           0.0027335053784582762,
           0.0027335053784582762
          ],
          "width": 5
         },
         "hovertemplate": "Type=Control<br>TF=%{x}<br>Mod_mean=%{y}<extra></extra>",
         "legendgroup": "Control",
         "line": {
          "color": "#DC3912",
          "dash": "solid",
          "width": 5
         },
         "marker": {
          "size": 12,
          "symbol": "circle"
         },
         "mode": "lines+markers",
         "name": "Control",
         "orientation": "v",
         "showlegend": true,
         "type": "scatter",
         "x": [
          "3",
          "3",
          "3",
          "3",
          "3",
          "3",
          "3",
          "3",
          "3",
          "3",
          "4",
          "4",
          "4",
          "4",
          "4",
          "4",
          "4",
          "4",
          "4",
          "4",
          "5",
          "5",
          "5",
          "5",
          "5",
          "5",
          "5",
          "5",
          "5",
          "5",
          "6",
          "6",
          "6",
          "6",
          "6",
          "6",
          "6",
          "6",
          "6",
          "6",
          "7",
          "7",
          "7",
          "7",
          "7",
          "7",
          "7",
          "7",
          "7",
          "7",
          "8",
          "8",
          "8",
          "8",
          "8",
          "8",
          "8",
          "8",
          "8",
          "8",
          "9",
          "9",
          "9",
          "9",
          "9",
          "9",
          "9",
          "9",
          "9",
          "9",
          "10",
          "10",
          "10",
          "10",
          "10",
          "10",
          "10",
          "10",
          "10",
          "10",
          "11",
          "11",
          "11",
          "11",
          "11",
          "11",
          "11",
          "11",
          "11",
          "11",
          "12",
          "12",
          "12",
          "12",
          "12",
          "12",
          "12",
          "12",
          "12",
          "12",
          "13",
          "13",
          "13",
          "13",
          "13",
          "13",
          "13",
          "13",
          "13",
          "13",
          "14",
          "14",
          "14",
          "14",
          "14",
          "14",
          "14",
          "14",
          "14",
          "14",
          "15",
          "15",
          "15",
          "15",
          "15",
          "15",
          "15",
          "15",
          "15",
          "15"
         ],
         "xaxis": "x",
         "y": [
          0.7728819808382119,
          0.7728819808382119,
          0.7728819808382119,
          0.7728819808382119,
          0.7728819808382119,
          0.7728819808382119,
          0.7728819808382119,
          0.7728819808382119,
          0.7728819808382119,
          0.7728819808382119,
          0.7714818614894975,
          0.7714818614894975,
          0.7714818614894975,
          0.7714818614894975,
          0.7714818614894975,
          0.7714818614894975,
          0.7714818614894975,
          0.7714818614894975,
          0.7714818614894975,
          0.7714818614894975,
          0.7698163260419189,
          0.7698163260419189,
          0.7698163260419189,
          0.7698163260419189,
          0.7698163260419189,
          0.7698163260419189,
          0.7698163260419189,
          0.7698163260419189,
          0.7698163260419189,
          0.7698163260419189,
          0.7680144299604487,
          0.7680144299604487,
          0.7680144299604487,
          0.7680144299604487,
          0.7680144299604487,
          0.7680144299604487,
          0.7680144299604487,
          0.7680144299604487,
          0.7680144299604487,
          0.7680144299604487,
          0.7659789613560049,
          0.7659789613560049,
          0.7659789613560049,
          0.7659789613560049,
          0.7659789613560049,
          0.7659789613560049,
          0.7659789613560049,
          0.7659789613560049,
          0.7659789613560049,
          0.7659789613560049,
          0.7638964673874474,
          0.7638964673874474,
          0.7638964673874474,
          0.7638964673874474,
          0.7638964673874474,
          0.7638964673874474,
          0.7638964673874474,
          0.7638964673874474,
          0.7638964673874474,
          0.7638964673874474,
          0.7616636172767813,
          0.7616636172767813,
          0.7616636172767813,
          0.7616636172767813,
          0.7616636172767813,
          0.7616636172767813,
          0.7616636172767813,
          0.7616636172767813,
          0.7616636172767813,
          0.7616636172767813,
          0.7597377088988109,
          0.7597377088988109,
          0.7597377088988109,
          0.7597377088988109,
          0.7597377088988109,
          0.7597377088988109,
          0.7597377088988109,
          0.7597377088988109,
          0.7597377088988109,
          0.7597377088988109,
          0.7576767448166573,
          0.7576767448166573,
          0.7576767448166573,
          0.7576767448166573,
          0.7576767448166573,
          0.7576767448166573,
          0.7576767448166573,
          0.7576767448166573,
          0.7576767448166573,
          0.7576767448166573,
          0.7556308192440768,
          0.7556308192440768,
          0.7556308192440768,
          0.7556308192440768,
          0.7556308192440768,
          0.7556308192440768,
          0.7556308192440768,
          0.7556308192440768,
          0.7556308192440768,
          0.7556308192440768,
          0.753714215625686,
          0.753714215625686,
          0.753714215625686,
          0.753714215625686,
          0.753714215625686,
          0.753714215625686,
          0.753714215625686,
          0.753714215625686,
          0.753714215625686,
          0.753714215625686,
          0.7514965707378544,
          0.7514965707378544,
          0.7514965707378544,
          0.7514965707378544,
          0.7514965707378544,
          0.7514965707378544,
          0.7514965707378544,
          0.7514965707378544,
          0.7514965707378544,
          0.7514965707378544,
          0.7496111051740203,
          0.7496111051740203,
          0.7496111051740203,
          0.7496111051740203,
          0.7496111051740203,
          0.7496111051740203,
          0.7496111051740203,
          0.7496111051740203,
          0.7496111051740203,
          0.7496111051740203
         ],
         "yaxis": "y"
        },
        {
         "error_y": {
          "array": [
           null,
           null,
           null,
           null,
           null,
           null,
           null,
           null,
           null,
           null,
           null,
           null,
           null
          ],
          "width": 5
         },
         "hovertemplate": "Type=Experiment<br>TF=%{x}<br>Mod_mean=%{y}<extra></extra>",
         "legendgroup": "Experiment",
         "line": {
          "color": "#3366CC",
          "dash": "solid",
          "width": 5
         },
         "marker": {
          "size": 12,
          "symbol": "circle"
         },
         "mode": "lines+markers",
         "name": "Experiment",
         "orientation": "v",
         "showlegend": true,
         "type": "scatter",
         "x": [
          "3",
          "4",
          "5",
          "6",
          "7",
          "8",
          "9",
          "10",
          "11",
          "12",
          "13",
          "14",
          "15"
         ],
         "xaxis": "x",
         "y": [
          0.7728113908063434,
          0.7707050347214882,
          0.7693689831496311,
          0.7663224192347685,
          0.7638897423747854,
          0.7618394950453334,
          0.7594854272726466,
          0.75767234760951,
          0.7565071744555113,
          0.7543736810451404,
          0.7518232155042845,
          0.7502158000326684,
          0.7478524297179279
         ],
         "yaxis": "y"
        }
       ],
       "layout": {
        "font": {
         "size": 16
        },
        "height": 600,
        "legend": {
         "bgcolor": "rgba(0,0,0,0)",
         "font": {
          "color": "#003366",
          "size": 16
         },
         "orientation": "h",
         "title": {
          "text": "Leiden"
         },
         "tracegroupgap": 0,
         "x": 0.5,
         "xanchor": "center",
         "y": 0.87,
         "yanchor": "bottom"
        },
        "paper_bgcolor": "rgba(0,0,0,0)",
        "template": {
         "data": {
          "bar": [
           {
            "error_x": {
             "color": "rgb(51,51,51)"
            },
            "error_y": {
             "color": "rgb(51,51,51)"
            },
            "marker": {
             "line": {
              "color": "rgb(237,237,237)",
              "width": 0.5
             },
             "pattern": {
              "fillmode": "overlay",
              "size": 10,
              "solidity": 0.2
             }
            },
            "type": "bar"
           }
          ],
          "barpolar": [
           {
            "marker": {
             "line": {
              "color": "rgb(237,237,237)",
              "width": 0.5
             },
             "pattern": {
              "fillmode": "overlay",
              "size": 10,
              "solidity": 0.2
             }
            },
            "type": "barpolar"
           }
          ],
          "carpet": [
           {
            "aaxis": {
             "endlinecolor": "rgb(51,51,51)",
             "gridcolor": "white",
             "linecolor": "white",
             "minorgridcolor": "white",
             "startlinecolor": "rgb(51,51,51)"
            },
            "baxis": {
             "endlinecolor": "rgb(51,51,51)",
             "gridcolor": "white",
             "linecolor": "white",
             "minorgridcolor": "white",
             "startlinecolor": "rgb(51,51,51)"
            },
            "type": "carpet"
           }
          ],
          "choropleth": [
           {
            "colorbar": {
             "outlinewidth": 0,
             "tickcolor": "rgb(237,237,237)",
             "ticklen": 6,
             "ticks": "inside"
            },
            "type": "choropleth"
           }
          ],
          "contour": [
           {
            "colorbar": {
             "outlinewidth": 0,
             "tickcolor": "rgb(237,237,237)",
             "ticklen": 6,
             "ticks": "inside"
            },
            "colorscale": [
             [
              0,
              "rgb(20,44,66)"
             ],
             [
              1,
              "rgb(90,179,244)"
             ]
            ],
            "type": "contour"
           }
          ],
          "contourcarpet": [
           {
            "colorbar": {
             "outlinewidth": 0,
             "tickcolor": "rgb(237,237,237)",
             "ticklen": 6,
             "ticks": "inside"
            },
            "type": "contourcarpet"
           }
          ],
          "heatmap": [
           {
            "colorbar": {
             "outlinewidth": 0,
             "tickcolor": "rgb(237,237,237)",
             "ticklen": 6,
             "ticks": "inside"
            },
            "colorscale": [
             [
              0,
              "rgb(20,44,66)"
             ],
             [
              1,
              "rgb(90,179,244)"
             ]
            ],
            "type": "heatmap"
           }
          ],
          "heatmapgl": [
           {
            "colorbar": {
             "outlinewidth": 0,
             "tickcolor": "rgb(237,237,237)",
             "ticklen": 6,
             "ticks": "inside"
            },
            "colorscale": [
             [
              0,
              "rgb(20,44,66)"
             ],
             [
              1,
              "rgb(90,179,244)"
             ]
            ],
            "type": "heatmapgl"
           }
          ],
          "histogram": [
           {
            "marker": {
             "pattern": {
              "fillmode": "overlay",
              "size": 10,
              "solidity": 0.2
             }
            },
            "type": "histogram"
           }
          ],
          "histogram2d": [
           {
            "colorbar": {
             "outlinewidth": 0,
             "tickcolor": "rgb(237,237,237)",
             "ticklen": 6,
             "ticks": "inside"
            },
            "colorscale": [
             [
              0,
              "rgb(20,44,66)"
             ],
             [
              1,
              "rgb(90,179,244)"
             ]
            ],
            "type": "histogram2d"
           }
          ],
          "histogram2dcontour": [
           {
            "colorbar": {
             "outlinewidth": 0,
             "tickcolor": "rgb(237,237,237)",
             "ticklen": 6,
             "ticks": "inside"
            },
            "colorscale": [
             [
              0,
              "rgb(20,44,66)"
             ],
             [
              1,
              "rgb(90,179,244)"
             ]
            ],
            "type": "histogram2dcontour"
           }
          ],
          "mesh3d": [
           {
            "colorbar": {
             "outlinewidth": 0,
             "tickcolor": "rgb(237,237,237)",
             "ticklen": 6,
             "ticks": "inside"
            },
            "type": "mesh3d"
           }
          ],
          "parcoords": [
           {
            "line": {
             "colorbar": {
              "outlinewidth": 0,
              "tickcolor": "rgb(237,237,237)",
              "ticklen": 6,
              "ticks": "inside"
             }
            },
            "type": "parcoords"
           }
          ],
          "pie": [
           {
            "automargin": true,
            "type": "pie"
           }
          ],
          "scatter": [
           {
            "fillpattern": {
             "fillmode": "overlay",
             "size": 10,
             "solidity": 0.2
            },
            "type": "scatter"
           }
          ],
          "scatter3d": [
           {
            "line": {
             "colorbar": {
              "outlinewidth": 0,
              "tickcolor": "rgb(237,237,237)",
              "ticklen": 6,
              "ticks": "inside"
             }
            },
            "marker": {
             "colorbar": {
              "outlinewidth": 0,
              "tickcolor": "rgb(237,237,237)",
              "ticklen": 6,
              "ticks": "inside"
             }
            },
            "type": "scatter3d"
           }
          ],
          "scattercarpet": [
           {
            "marker": {
             "colorbar": {
              "outlinewidth": 0,
              "tickcolor": "rgb(237,237,237)",
              "ticklen": 6,
              "ticks": "inside"
             }
            },
            "type": "scattercarpet"
           }
          ],
          "scattergeo": [
           {
            "marker": {
             "colorbar": {
              "outlinewidth": 0,
              "tickcolor": "rgb(237,237,237)",
              "ticklen": 6,
              "ticks": "inside"
             }
            },
            "type": "scattergeo"
           }
          ],
          "scattergl": [
           {
            "marker": {
             "colorbar": {
              "outlinewidth": 0,
              "tickcolor": "rgb(237,237,237)",
              "ticklen": 6,
              "ticks": "inside"
             }
            },
            "type": "scattergl"
           }
          ],
          "scattermapbox": [
           {
            "marker": {
             "colorbar": {
              "outlinewidth": 0,
              "tickcolor": "rgb(237,237,237)",
              "ticklen": 6,
              "ticks": "inside"
             }
            },
            "type": "scattermapbox"
           }
          ],
          "scatterpolar": [
           {
            "marker": {
             "colorbar": {
              "outlinewidth": 0,
              "tickcolor": "rgb(237,237,237)",
              "ticklen": 6,
              "ticks": "inside"
             }
            },
            "type": "scatterpolar"
           }
          ],
          "scatterpolargl": [
           {
            "marker": {
             "colorbar": {
              "outlinewidth": 0,
              "tickcolor": "rgb(237,237,237)",
              "ticklen": 6,
              "ticks": "inside"
             }
            },
            "type": "scatterpolargl"
           }
          ],
          "scatterternary": [
           {
            "marker": {
             "colorbar": {
              "outlinewidth": 0,
              "tickcolor": "rgb(237,237,237)",
              "ticklen": 6,
              "ticks": "inside"
             }
            },
            "type": "scatterternary"
           }
          ],
          "surface": [
           {
            "colorbar": {
             "outlinewidth": 0,
             "tickcolor": "rgb(237,237,237)",
             "ticklen": 6,
             "ticks": "inside"
            },
            "colorscale": [
             [
              0,
              "rgb(20,44,66)"
             ],
             [
              1,
              "rgb(90,179,244)"
             ]
            ],
            "type": "surface"
           }
          ],
          "table": [
           {
            "cells": {
             "fill": {
              "color": "rgb(237,237,237)"
             },
             "line": {
              "color": "white"
             }
            },
            "header": {
             "fill": {
              "color": "rgb(217,217,217)"
             },
             "line": {
              "color": "white"
             }
            },
            "type": "table"
           }
          ]
         },
         "layout": {
          "annotationdefaults": {
           "arrowhead": 0,
           "arrowwidth": 1
          },
          "autotypenumbers": "strict",
          "coloraxis": {
           "colorbar": {
            "outlinewidth": 0,
            "tickcolor": "rgb(237,237,237)",
            "ticklen": 6,
            "ticks": "inside"
           }
          },
          "colorscale": {
           "sequential": [
            [
             0,
             "rgb(20,44,66)"
            ],
            [
             1,
             "rgb(90,179,244)"
            ]
           ],
           "sequentialminus": [
            [
             0,
             "rgb(20,44,66)"
            ],
            [
             1,
             "rgb(90,179,244)"
            ]
           ]
          },
          "colorway": [
           "#F8766D",
           "#A3A500",
           "#00BF7D",
           "#00B0F6",
           "#E76BF3"
          ],
          "font": {
           "color": "rgb(51,51,51)"
          },
          "geo": {
           "bgcolor": "white",
           "lakecolor": "white",
           "landcolor": "rgb(237,237,237)",
           "showlakes": true,
           "showland": true,
           "subunitcolor": "white"
          },
          "hoverlabel": {
           "align": "left"
          },
          "hovermode": "closest",
          "paper_bgcolor": "white",
          "plot_bgcolor": "rgb(237,237,237)",
          "polar": {
           "angularaxis": {
            "gridcolor": "white",
            "linecolor": "white",
            "showgrid": true,
            "tickcolor": "rgb(51,51,51)",
            "ticks": "outside"
           },
           "bgcolor": "rgb(237,237,237)",
           "radialaxis": {
            "gridcolor": "white",
            "linecolor": "white",
            "showgrid": true,
            "tickcolor": "rgb(51,51,51)",
            "ticks": "outside"
           }
          },
          "scene": {
           "xaxis": {
            "backgroundcolor": "rgb(237,237,237)",
            "gridcolor": "white",
            "gridwidth": 2,
            "linecolor": "white",
            "showbackground": true,
            "showgrid": true,
            "tickcolor": "rgb(51,51,51)",
            "ticks": "outside",
            "zerolinecolor": "white"
           },
           "yaxis": {
            "backgroundcolor": "rgb(237,237,237)",
            "gridcolor": "white",
            "gridwidth": 2,
            "linecolor": "white",
            "showbackground": true,
            "showgrid": true,
            "tickcolor": "rgb(51,51,51)",
            "ticks": "outside",
            "zerolinecolor": "white"
           },
           "zaxis": {
            "backgroundcolor": "rgb(237,237,237)",
            "gridcolor": "white",
            "gridwidth": 2,
            "linecolor": "white",
            "showbackground": true,
            "showgrid": true,
            "tickcolor": "rgb(51,51,51)",
            "ticks": "outside",
            "zerolinecolor": "white"
           }
          },
          "shapedefaults": {
           "fillcolor": "black",
           "line": {
            "width": 0
           },
           "opacity": 0.3
          },
          "ternary": {
           "aaxis": {
            "gridcolor": "white",
            "linecolor": "white",
            "showgrid": true,
            "tickcolor": "rgb(51,51,51)",
            "ticks": "outside"
           },
           "baxis": {
            "gridcolor": "white",
            "linecolor": "white",
            "showgrid": true,
            "tickcolor": "rgb(51,51,51)",
            "ticks": "outside"
           },
           "bgcolor": "rgb(237,237,237)",
           "caxis": {
            "gridcolor": "white",
            "linecolor": "white",
            "showgrid": true,
            "tickcolor": "rgb(51,51,51)",
            "ticks": "outside"
           }
          },
          "xaxis": {
           "automargin": true,
           "gridcolor": "white",
           "linecolor": "white",
           "showgrid": true,
           "tickcolor": "rgb(51,51,51)",
           "ticks": "outside",
           "title": {
            "standoff": 15
           },
           "zerolinecolor": "white"
          },
          "yaxis": {
           "automargin": true,
           "gridcolor": "white",
           "linecolor": "white",
           "showgrid": true,
           "tickcolor": "rgb(51,51,51)",
           "ticks": "outside",
           "title": {
            "standoff": 15
           },
           "zerolinecolor": "white"
          }
         }
        },
        "title": {
         "text": ""
        },
        "xaxis": {
         "anchor": "y",
         "domain": [
          0,
          1
         ],
         "tickfont": {
          "size": 16
         },
         "title": {
          "text": "Minimum degree for selected genes"
         }
        },
        "yaxis": {
         "anchor": "x",
         "domain": [
          0,
          1
         ],
         "tickfont": {
          "size": 16
         },
         "title": {
          "text": "Modularity Score"
         }
        }
       }
      }
     },
     "metadata": {},
     "output_type": "display_data"
    }
   ],
   "source": [
    "top_comb_leiden = tf_stats(top_leid_ctrls, leid_h[leid_h[\"Leiden Rank\"] == 0])\n",
    "fig = px.line(\n",
    "    top_comb_leiden,\n",
    "    x=\"TF\",\n",
    "    y=\"Mod_mean\",\n",
    "    error_y=\"Mod_std\",\n",
    "    markers=True,\n",
    "    color=\"Type\",\n",
    "    height=600,\n",
    "    title=\"Modularity scores for the best top Leiden Run.\",\n",
    "    color_discrete_map=color_map,\n",
    ")\n",
    "fig.update_layout(\n",
    "    legend=dict(\n",
    "        orientation=\"h\",\n",
    "        title=\"Leiden\",\n",
    "        yanchor=\"bottom\",\n",
    "        y=0.87,\n",
    "        xanchor=\"center\",\n",
    "        x=0.5,\n",
    "        bgcolor=\"rgba(0,0,0,0)\",\n",
    "        font=dict(size=16, color=\"#003366\"),\n",
    "    ),\n",
    "    title=\"\",\n",
    "    template=\"ggplot2\",  # \"ggplot2\", \"plotly_white\"\n",
    "    paper_bgcolor=\"rgba(0,0,0,0)\",\n",
    "    # plot_bgcolor=\"rgba(0,0,0,0)\",\n",
    "    xaxis=dict(\n",
    "        tickfont=dict(size=16),\n",
    "        title=\"Minimum degree for selected genes\",\n",
    "    ),\n",
    "    yaxis=dict(\n",
    "        tickfont=dict(size=16),\n",
    "        title=\"Modularity Score\",\n",
    "    ),\n",
    "    font=dict(size=16),\n",
    ")\n",
    "fig.update_traces(line_width=5, marker_size=12, error_y=dict(width=5))\n",
    "\n",
    "fig.show()\n",
    "save_fig(name=\"leid_mod_sel_prun\", fig=fig, base_path=figures_path, width=1200, height=600)"
   ]
  },
  {
   "cell_type": "code",
   "execution_count": 13,
   "metadata": {},
   "outputs": [],
   "source": [
    "# top_leid_ctrls[\"TF\"] = top_leid_ctrls[\"TF\"].astype(int)\n",
    "# top_leid_ctrls.sort_values(by=\"TF\", ascending=True)\n",
    "# x = list(top_leid_ctrls[\"TF\"].astype(int))\n",
    "# y_upper = list(top_leid_ctrls[\"Mod_mean\"] + top_leid_ctrls[\"Mod_std\"])\n",
    "# y_lower = list(top_leid_ctrls[\"Mod_mean\"] - top_leid_ctrls[\"Mod_std\"])\n",
    "\n",
    "\n",
    "# fig.add_trace(\n",
    "#     go.Scatter(\n",
    "#         x=x + x[::-1],  # x, then x reversed\n",
    "#         y=y_upper + y_lower[::-1],  # upper, then lower reversed\n",
    "#         fill=\"toself\",\n",
    "#         fillcolor=\"rgba(0,100,80,0.2)\",\n",
    "#         line=dict(color=\"rgba(255,255,255,0)\"),\n",
    "#         hoverinfo=\"skip\",\n",
    "#         showlegend=False,\n",
    "#     )\n",
    "# )\n",
    "\n",
    "# fig.show()"
   ]
  },
  {
   "cell_type": "code",
   "execution_count": 14,
   "metadata": {},
   "outputs": [],
   "source": [
    "leid_fig = px.line(\n",
    "    top_comb_leiden,\n",
    "    x=\"TF\",\n",
    "    y=\"ModNum_mean\",\n",
    "    error_y=\"ModNum_std\",\n",
    "    markers=True,\n",
    "    color=\"Type\",\n",
    "    height=600,\n",
    "    title=\"Community sizes for the best top Leiden Run.\",\n",
    "    color_discrete_map=color_map,\n",
    ")\n",
    "leid_fig.update_layout(\n",
    "    legend=dict(\n",
    "        orientation=\"h\",\n",
    "        title=\"Leiden\",\n",
    "        yanchor=\"bottom\",\n",
    "        y=1.1,\n",
    "        xanchor=\"center\",\n",
    "        x=0.5,\n",
    "        bgcolor=\"rgba(0,0,0,0)\",\n",
    "        font=dict(size=16, color=\"#003366\"),\n",
    "    ),\n",
    "    title=\"\",\n",
    "    template=\"ggplot2\",  # \"ggplot2\", \"plotly_white\"\n",
    "    # paper_bgcolor=\"rgba(0,0,0,0)\",\n",
    "    # plot_bgcolor=\"rgba(0,0,0,0)\",\n",
    "    xaxis=dict(\n",
    "        tickfont=dict(size=16),\n",
    "        title=\"Minimum degree for selected genes\",\n",
    "    ),\n",
    "    yaxis=dict(\n",
    "        tickfont=dict(size=16),\n",
    "        tickmode=\"linear\",\n",
    "        # tick0=3,\n",
    "        # dtick=1,\n",
    "        title=\"Number of communities\",\n",
    "    ),\n",
    "    font=dict(size=16),\n",
    ")\n",
    "# leid_fig.update_traces(line_width=5, marker_size=12, error_y=dict(width=5))\n",
    "# leid_fig.show()\n",
    "save_fig(name=\"leid_comNum_sel_prun\", fig=leid_fig, base_path=figures_path, width=1400, height=700)"
   ]
  },
  {
   "cell_type": "markdown",
   "metadata": {},
   "source": [
    "## SBM - Community size"
   ]
  },
  {
   "cell_type": "code",
   "execution_count": 15,
   "metadata": {},
   "outputs": [],
   "source": [
    "ctrl_sizes, h_sizes = [], []\n",
    "for key, val in h_exps.items():\n",
    "    results_df = val.get_gt_df(compute=False)\n",
    "    h_sizes.append(((key, \"Experiment\", len(results_df[\"max_b\"].unique()))))\n",
    "    for idx in range(1, 11, 1):\n",
    "        control_res = ctrl_exps[idx][\"exps\"][key].get_gt_df(compute=False)\n",
    "        ctrl_sizes.append(((key, \"hCtrl{}\".format(idx), len(control_res[\"max_b\"].unique()))))\n",
    "\n",
    "ctrl_sizes = pd.DataFrame(ctrl_sizes, columns=[\"TF\", \"Type\", \"Com_size\"])\n",
    "ctrl_sizes[\"Type\"] = \"Control\"\n",
    "h_sizes = pd.DataFrame(h_sizes, columns=[\"TF\", \"Type\", \"Com_size\"])"
   ]
  },
  {
   "cell_type": "code",
   "execution_count": 16,
   "metadata": {},
   "outputs": [],
   "source": [
    "for tf in ctrl_sizes[\"TF\"].unique():\n",
    "    sel_df = ctrl_sizes[(ctrl_sizes[\"TF\"] == tf)]\n",
    "    sel_df_exp = h_sizes[h_sizes[\"TF\"] == tf]\n",
    "\n",
    "    ctrl_sizes.loc[ctrl_sizes[\"TF\"] == tf, \"Size_median\"] = sel_df[\"Com_size\"].median(axis=0)\n",
    "    ctrl_sizes.loc[ctrl_sizes[\"TF\"] == tf, \"Size_mean\"] = sel_df[\"Com_size\"].mean(axis=0)\n",
    "    ctrl_sizes.loc[ctrl_sizes[\"TF\"] == tf, \"Size_std\"] = sel_df[\"Com_size\"].std(axis=0)\n",
    "\n",
    "    h_sizes.loc[h_sizes[\"TF\"] == tf, \"Size_median\"] = sel_df_exp[\"Com_size\"].median(axis=0)\n",
    "    h_sizes.loc[h_sizes[\"TF\"] == tf, \"Size_mean\"] = sel_df_exp[\"Com_size\"].mean(axis=0)\n",
    "    h_sizes.loc[h_sizes[\"TF\"] == tf, \"Size_std\"] = 0\n",
    "\n",
    "comb_df = pd.concat([ctrl_sizes, h_sizes], axis=0)"
   ]
  },
  {
   "cell_type": "code",
   "execution_count": 17,
   "metadata": {},
   "outputs": [],
   "source": [
    "if True:\n",
    "    sbm_fig = px.line(\n",
    "        comb_df,\n",
    "        x=\"TF\",\n",
    "        y=\"Size_mean\",\n",
    "        color=\"Type\",\n",
    "        error_y=\"Size_std\",\n",
    "        markers=True,\n",
    "        title=\"SBM. Community sizes\",\n",
    "        height=600,\n",
    "        color_discrete_map=color_map,\n",
    "    )\n",
    "    sbm_fig.update_layout(\n",
    "        legend=dict(\n",
    "            orientation=\"h\",\n",
    "            title=\"Type\",\n",
    "            yanchor=\"bottom\",\n",
    "            y=1.1,\n",
    "            xanchor=\"center\",\n",
    "            x=0.5,\n",
    "            bgcolor=\"rgba(0,0,0,0)\",\n",
    "            font=dict(size=16, color=\"#003366\"),\n",
    "        ),\n",
    "        title=\"\",\n",
    "        template=\"ggplot2\",  # \"ggplot2\", \"plotly_white\"\n",
    "        # paper_bgcolor=\"rgba(0,0,0,0)\",\n",
    "        # plot_bgcolor=\"rgba(0,0,0,0)\",\n",
    "        xaxis=dict(\n",
    "            tickfont=dict(size=16),\n",
    "            title=\"Minimum degree for selected genes\",\n",
    "        ),\n",
    "        yaxis=dict(\n",
    "            tickfont=dict(size=16),\n",
    "            tickmode=\"linear\",\n",
    "            # tick0=3,\n",
    "            # dtick=1,\n",
    "            title=\"Number of communities\",\n",
    "        ),\n",
    "        font=dict(size=16),\n",
    "    )\n",
    "    # sbm_fig.update_traces(line_width=5, marker_size=12, error_y=dict(width=5))\n",
    "    # sbm_fig.show()\n",
    "    save_fig(name=\"sbm_comNum_sel_prun\", fig=sbm_fig, base_path=figures_path, width=1200, height=600)"
   ]
  },
  {
   "cell_type": "markdown",
   "metadata": {},
   "source": [
    "### SBM + Leiden Community size"
   ]
  },
  {
   "cell_type": "code",
   "execution_count": 18,
   "metadata": {},
   "outputs": [
    {
     "data": {
      "application/vnd.plotly.v1+json": {
       "config": {
        "plotlyServerURL": "https://plot.ly"
       },
       "data": [
        {
         "error_y": {
          "array": [
           1.2516655570345725,
           1.2516655570345725,
           1.2516655570345725,
           1.2516655570345725,
           1.2516655570345725,
           1.2516655570345725,
           1.2516655570345725,
           1.2516655570345725,
           1.2516655570345725,
           1.2516655570345725,
           0.7071067811865476,
           0.7071067811865476,
           0.7071067811865476,
           0.7071067811865476,
           0.7071067811865476,
           0.7071067811865476,
           0.7071067811865476,
           0.7071067811865476,
           0.7071067811865476,
           0.7071067811865476,
           1.1785113019775793,
           1.1785113019775793,
           1.1785113019775793,
           1.1785113019775793,
           1.1785113019775793,
           1.1785113019775793,
           1.1785113019775793,
           1.1785113019775793,
           1.1785113019775793,
           1.1785113019775793,
           1.728840330651992,
           1.728840330651992,
           1.728840330651992,
           1.728840330651992,
           1.728840330651992,
           1.728840330651992,
           1.728840330651992,
           1.728840330651992,
           1.728840330651992,
           1.728840330651992,
           1.0327955589886444,
           1.0327955589886444,
           1.0327955589886444,
           1.0327955589886444,
           1.0327955589886444,
           1.0327955589886444,
           1.0327955589886444,
           1.0327955589886444,
           1.0327955589886444,
           1.0327955589886444,
           1.0327955589886444,
           1.0327955589886444,
           1.0327955589886444,
           1.0327955589886444,
           1.0327955589886444,
           1.0327955589886444,
           1.0327955589886444,
           1.0327955589886444,
           1.0327955589886444,
           1.0327955589886444,
           1.1352924243950933,
           1.1352924243950933,
           1.1352924243950933,
           1.1352924243950933,
           1.1352924243950933,
           1.1352924243950933,
           1.1352924243950933,
           1.1352924243950933,
           1.1352924243950933,
           1.1352924243950933,
           1.5055453054181622,
           1.5055453054181622,
           1.5055453054181622,
           1.5055453054181622,
           1.5055453054181622,
           1.5055453054181622,
           1.5055453054181622,
           1.5055453054181622,
           1.5055453054181622,
           1.5055453054181622,
           0.7378647873726218,
           0.7378647873726218,
           0.7378647873726218,
           0.7378647873726218,
           0.7378647873726218,
           0.7378647873726218,
           0.7378647873726218,
           0.7378647873726218,
           0.7378647873726218,
           0.7378647873726218,
           1.5634719199411433,
           1.5634719199411433,
           1.5634719199411433,
           1.5634719199411433,
           1.5634719199411433,
           1.5634719199411433,
           1.5634719199411433,
           1.5634719199411433,
           1.5634719199411433,
           1.5634719199411433,
           1.577621275493231,
           1.577621275493231,
           1.577621275493231,
           1.577621275493231,
           1.577621275493231,
           1.577621275493231,
           1.577621275493231,
           1.577621275493231,
           1.577621275493231,
           1.577621275493231,
           1.8408935028645435,
           1.8408935028645435,
           1.8408935028645435,
           1.8408935028645435,
           1.8408935028645435,
           1.8408935028645435,
           1.8408935028645435,
           1.8408935028645435,
           1.8408935028645435,
           1.8408935028645435,
           1.9692073983655907,
           1.9692073983655907,
           1.9692073983655907,
           1.9692073983655907,
           1.9692073983655907,
           1.9692073983655907,
           1.9692073983655907,
           1.9692073983655907,
           1.9692073983655907,
           1.9692073983655907
          ],
          "width": 5
         },
         "hovertemplate": "Type=Control<br>TF=%{x}<br>Size_mean=%{y}<extra></extra>",
         "legendgroup": "Control",
         "line": {
          "color": "#DC3912",
          "dash": "solid",
          "width": 5
         },
         "marker": {
          "size": 12,
          "symbol": "circle"
         },
         "mode": "markers+lines",
         "name": "Control",
         "orientation": "v",
         "showlegend": true,
         "type": "scatter",
         "x": [
          "3",
          "3",
          "3",
          "3",
          "3",
          "3",
          "3",
          "3",
          "3",
          "3",
          "4",
          "4",
          "4",
          "4",
          "4",
          "4",
          "4",
          "4",
          "4",
          "4",
          "5",
          "5",
          "5",
          "5",
          "5",
          "5",
          "5",
          "5",
          "5",
          "5",
          "6",
          "6",
          "6",
          "6",
          "6",
          "6",
          "6",
          "6",
          "6",
          "6",
          "7",
          "7",
          "7",
          "7",
          "7",
          "7",
          "7",
          "7",
          "7",
          "7",
          "8",
          "8",
          "8",
          "8",
          "8",
          "8",
          "8",
          "8",
          "8",
          "8",
          "9",
          "9",
          "9",
          "9",
          "9",
          "9",
          "9",
          "9",
          "9",
          "9",
          "10",
          "10",
          "10",
          "10",
          "10",
          "10",
          "10",
          "10",
          "10",
          "10",
          "11",
          "11",
          "11",
          "11",
          "11",
          "11",
          "11",
          "11",
          "11",
          "11",
          "12",
          "12",
          "12",
          "12",
          "12",
          "12",
          "12",
          "12",
          "12",
          "12",
          "13",
          "13",
          "13",
          "13",
          "13",
          "13",
          "13",
          "13",
          "13",
          "13",
          "14",
          "14",
          "14",
          "14",
          "14",
          "14",
          "14",
          "14",
          "14",
          "14",
          "15",
          "15",
          "15",
          "15",
          "15",
          "15",
          "15",
          "15",
          "15",
          "15"
         ],
         "xaxis": "x",
         "y": [
          29.7,
          29.7,
          29.7,
          29.7,
          29.7,
          29.7,
          29.7,
          29.7,
          29.7,
          29.7,
          30.5,
          30.5,
          30.5,
          30.5,
          30.5,
          30.5,
          30.5,
          30.5,
          30.5,
          30.5,
          30.5,
          30.5,
          30.5,
          30.5,
          30.5,
          30.5,
          30.5,
          30.5,
          30.5,
          30.5,
          31.9,
          31.9,
          31.9,
          31.9,
          31.9,
          31.9,
          31.9,
          31.9,
          31.9,
          31.9,
          32.8,
          32.8,
          32.8,
          32.8,
          32.8,
          32.8,
          32.8,
          32.8,
          32.8,
          32.8,
          32.8,
          32.8,
          32.8,
          32.8,
          32.8,
          32.8,
          32.8,
          32.8,
          32.8,
          32.8,
          33.2,
          33.2,
          33.2,
          33.2,
          33.2,
          33.2,
          33.2,
          33.2,
          33.2,
          33.2,
          33.6,
          33.6,
          33.6,
          33.6,
          33.6,
          33.6,
          33.6,
          33.6,
          33.6,
          33.6,
          34.9,
          34.9,
          34.9,
          34.9,
          34.9,
          34.9,
          34.9,
          34.9,
          34.9,
          34.9,
          35,
          35,
          35,
          35,
          35,
          35,
          35,
          35,
          35,
          35,
          34.4,
          34.4,
          34.4,
          34.4,
          34.4,
          34.4,
          34.4,
          34.4,
          34.4,
          34.4,
          35.5,
          35.5,
          35.5,
          35.5,
          35.5,
          35.5,
          35.5,
          35.5,
          35.5,
          35.5,
          36.1,
          36.1,
          36.1,
          36.1,
          36.1,
          36.1,
          36.1,
          36.1,
          36.1,
          36.1
         ],
         "yaxis": "y"
        },
        {
         "error_y": {
          "array": [
           0,
           0,
           0,
           0,
           0,
           0,
           0,
           0,
           0,
           0,
           0,
           0,
           0
          ],
          "width": 5
         },
         "hovertemplate": "Type=Experiment<br>TF=%{x}<br>Size_mean=%{y}<extra></extra>",
         "legendgroup": "Experiment",
         "line": {
          "color": "#3366CC",
          "dash": "solid",
          "width": 5
         },
         "marker": {
          "size": 12,
          "symbol": "circle"
         },
         "mode": "markers+lines",
         "name": "Experiment",
         "orientation": "v",
         "showlegend": true,
         "type": "scatter",
         "x": [
          "3",
          "4",
          "5",
          "6",
          "7",
          "8",
          "9",
          "10",
          "11",
          "12",
          "13",
          "14",
          "15"
         ],
         "xaxis": "x",
         "y": [
          31,
          30,
          31,
          31,
          32,
          34,
          33,
          32,
          31,
          33,
          36,
          33,
          32
         ],
         "yaxis": "y"
        },
        {
         "error_y": {
          "array": [
           0.4919098582484146,
           0.4919098582484146,
           0.4919098582484146,
           0.4919098582484146,
           0.4919098582484146,
           0.4919098582484146,
           0.4919098582484146,
           0.4919098582484146,
           0.4919098582484146,
           0.4919098582484146,
           0.6858355272004869,
           0.6858355272004869,
           0.6858355272004869,
           0.6858355272004869,
           0.6858355272004869,
           0.6858355272004869,
           0.6858355272004869,
           0.6858355272004869,
           0.6858355272004869,
           0.6858355272004869,
           0.539775902288494,
           0.539775902288494,
           0.539775902288494,
           0.539775902288494,
           0.539775902288494,
           0.539775902288494,
           0.539775902288494,
           0.539775902288494,
           0.539775902288494,
           0.539775902288494,
           0.5621826951410455,
           0.5621826951410455,
           0.5621826951410455,
           0.5621826951410455,
           0.5621826951410455,
           0.5621826951410455,
           0.5621826951410455,
           0.5621826951410455,
           0.5621826951410455,
           0.5621826951410455,
           0.5488484015657094,
           0.5488484015657094,
           0.5488484015657094,
           0.5488484015657094,
           0.5488484015657094,
           0.5488484015657094,
           0.5488484015657094,
           0.5488484015657094,
           0.5488484015657094,
           0.5488484015657094,
           0.6085806194501846,
           0.6085806194501846,
           0.6085806194501846,
           0.6085806194501846,
           0.6085806194501846,
           0.6085806194501846,
           0.6085806194501846,
           0.6085806194501846,
           0.6085806194501846,
           0.6085806194501846,
           0.6045098003882423,
           0.6045098003882423,
           0.6045098003882423,
           0.6045098003882423,
           0.6045098003882423,
           0.6045098003882423,
           0.6045098003882423,
           0.6045098003882423,
           0.6045098003882423,
           0.6045098003882423,
           0.6516834799384522,
           0.6516834799384522,
           0.6516834799384522,
           0.6516834799384522,
           0.6516834799384522,
           0.6516834799384522,
           0.6516834799384522,
           0.6516834799384522,
           0.6516834799384522,
           0.6516834799384522,
           0.773001205818937,
           0.773001205818937,
           0.773001205818937,
           0.773001205818937,
           0.773001205818937,
           0.773001205818937,
           0.773001205818937,
           0.773001205818937,
           0.773001205818937,
           0.773001205818937,
           0.8951170693832369,
           0.8951170693832369,
           0.8951170693832369,
           0.8951170693832369,
           0.8951170693832369,
           0.8951170693832369,
           0.8951170693832369,
           0.8951170693832369,
           0.8951170693832369,
           0.8951170693832369,
           0.9054021683317047,
           0.9054021683317047,
           0.9054021683317047,
           0.9054021683317047,
           0.9054021683317047,
           0.9054021683317047,
           0.9054021683317047,
           0.9054021683317047,
           0.9054021683317047,
           0.9054021683317047,
           0.9222891541976505,
           0.9222891541976505,
           0.9222891541976505,
           0.9222891541976505,
           0.9222891541976505,
           0.9222891541976505,
           0.9222891541976505,
           0.9222891541976505,
           0.9222891541976505,
           0.9222891541976505,
           0.8861067572167504,
           0.8861067572167504,
           0.8861067572167504,
           0.8861067572167504,
           0.8861067572167504,
           0.8861067572167504,
           0.8861067572167504,
           0.8861067572167504,
           0.8861067572167504,
           0.8861067572167504
          ],
          "width": 5
         },
         "hovertemplate": "Type=Control<br>TF=%{x}<br>ModNum_mean=%{y}<extra></extra>",
         "legendgroup": "Control",
         "line": {
          "color": "#DC3912",
          "dash": "solid",
          "width": 5
         },
         "marker": {
          "size": 12,
          "symbol": "circle"
         },
         "mode": "markers+lines",
         "name": "Control",
         "orientation": "v",
         "showlegend": true,
         "type": "scatter",
         "x": [
          "3",
          "3",
          "3",
          "3",
          "3",
          "3",
          "3",
          "3",
          "3",
          "3",
          "4",
          "4",
          "4",
          "4",
          "4",
          "4",
          "4",
          "4",
          "4",
          "4",
          "5",
          "5",
          "5",
          "5",
          "5",
          "5",
          "5",
          "5",
          "5",
          "5",
          "6",
          "6",
          "6",
          "6",
          "6",
          "6",
          "6",
          "6",
          "6",
          "6",
          "7",
          "7",
          "7",
          "7",
          "7",
          "7",
          "7",
          "7",
          "7",
          "7",
          "8",
          "8",
          "8",
          "8",
          "8",
          "8",
          "8",
          "8",
          "8",
          "8",
          "9",
          "9",
          "9",
          "9",
          "9",
          "9",
          "9",
          "9",
          "9",
          "9",
          "10",
          "10",
          "10",
          "10",
          "10",
          "10",
          "10",
          "10",
          "10",
          "10",
          "11",
          "11",
          "11",
          "11",
          "11",
          "11",
          "11",
          "11",
          "11",
          "11",
          "12",
          "12",
          "12",
          "12",
          "12",
          "12",
          "12",
          "12",
          "12",
          "12",
          "13",
          "13",
          "13",
          "13",
          "13",
          "13",
          "13",
          "13",
          "13",
          "13",
          "14",
          "14",
          "14",
          "14",
          "14",
          "14",
          "14",
          "14",
          "14",
          "14",
          "15",
          "15",
          "15",
          "15",
          "15",
          "15",
          "15",
          "15",
          "15",
          "15"
         ],
         "xaxis": "x",
         "y": [
          15.73333333333333,
          15.73333333333333,
          15.73333333333333,
          15.73333333333333,
          15.73333333333333,
          15.73333333333333,
          15.73333333333333,
          15.73333333333333,
          15.73333333333333,
          15.73333333333333,
          15.899999999999997,
          15.899999999999997,
          15.899999999999997,
          15.899999999999997,
          15.899999999999997,
          15.899999999999997,
          15.899999999999997,
          15.899999999999997,
          15.899999999999997,
          15.899999999999997,
          15.6,
          15.6,
          15.6,
          15.6,
          15.6,
          15.6,
          15.6,
          15.6,
          15.6,
          15.6,
          15.6,
          15.6,
          15.6,
          15.6,
          15.6,
          15.6,
          15.6,
          15.6,
          15.6,
          15.6,
          15.466666666666665,
          15.466666666666665,
          15.466666666666665,
          15.466666666666665,
          15.466666666666665,
          15.466666666666665,
          15.466666666666665,
          15.466666666666665,
          15.466666666666665,
          15.466666666666665,
          14.999999999999996,
          14.999999999999996,
          14.999999999999996,
          14.999999999999996,
          14.999999999999996,
          14.999999999999996,
          14.999999999999996,
          14.999999999999996,
          14.999999999999996,
          14.999999999999996,
          15.066666666666668,
          15.066666666666668,
          15.066666666666668,
          15.066666666666668,
          15.066666666666668,
          15.066666666666668,
          15.066666666666668,
          15.066666666666668,
          15.066666666666668,
          15.066666666666668,
          14.866666666666669,
          14.866666666666669,
          14.866666666666669,
          14.866666666666669,
          14.866666666666669,
          14.866666666666669,
          14.866666666666669,
          14.866666666666669,
          14.866666666666669,
          14.866666666666669,
          14.866666666666669,
          14.866666666666669,
          14.866666666666669,
          14.866666666666669,
          14.866666666666669,
          14.866666666666669,
          14.866666666666669,
          14.866666666666669,
          14.866666666666669,
          14.866666666666669,
          14.633333333333335,
          14.633333333333335,
          14.633333333333335,
          14.633333333333335,
          14.633333333333335,
          14.633333333333335,
          14.633333333333335,
          14.633333333333335,
          14.633333333333335,
          14.633333333333335,
          14.533333333333335,
          14.533333333333335,
          14.533333333333335,
          14.533333333333335,
          14.533333333333335,
          14.533333333333335,
          14.533333333333335,
          14.533333333333335,
          14.533333333333335,
          14.533333333333335,
          14.366666666666665,
          14.366666666666665,
          14.366666666666665,
          14.366666666666665,
          14.366666666666665,
          14.366666666666665,
          14.366666666666665,
          14.366666666666665,
          14.366666666666665,
          14.366666666666665,
          14.4,
          14.4,
          14.4,
          14.4,
          14.4,
          14.4,
          14.4,
          14.4,
          14.4,
          14.4
         ],
         "yaxis": "y"
        },
        {
         "error_y": {
          "array": [
           null,
           null,
           null,
           null,
           null,
           null,
           null,
           null,
           null,
           null,
           null,
           null,
           null
          ],
          "width": 5
         },
         "hovertemplate": "Type=Experiment<br>TF=%{x}<br>ModNum_mean=%{y}<extra></extra>",
         "legendgroup": "Experiment",
         "line": {
          "color": "#3366CC",
          "dash": "solid",
          "width": 5
         },
         "marker": {
          "size": 12,
          "symbol": "circle"
         },
         "mode": "markers+lines",
         "name": "Experiment",
         "orientation": "v",
         "showlegend": true,
         "type": "scatter",
         "x": [
          "3",
          "4",
          "5",
          "6",
          "7",
          "8",
          "9",
          "10",
          "11",
          "12",
          "13",
          "14",
          "15"
         ],
         "xaxis": "x",
         "y": [
          16,
          16,
          15.333333333333334,
          15.666666666666666,
          16,
          15.666666666666666,
          15,
          14.333333333333334,
          14.666666666666666,
          14.333333333333334,
          14.666666666666666,
          14.333333333333334,
          14.666666666666666
         ],
         "yaxis": "y"
        }
       ],
       "layout": {
        "font": {
         "size": 16
        },
        "height": 600,
        "legend": {
         "bgcolor": "rgba(0,0,0,0)",
         "font": {
          "color": "#003366",
          "size": 16
         },
         "orientation": "h",
         "title": {
          "text": "Type"
         },
         "tracegroupgap": 0,
         "x": 0.5,
         "xanchor": "center",
         "y": 1.1,
         "yanchor": "bottom"
        },
        "paper_bgcolor": "rgba(0,0,0,0)",
        "showlegend": false,
        "template": {
         "data": {
          "bar": [
           {
            "error_x": {
             "color": "rgb(51,51,51)"
            },
            "error_y": {
             "color": "rgb(51,51,51)"
            },
            "marker": {
             "line": {
              "color": "rgb(237,237,237)",
              "width": 0.5
             },
             "pattern": {
              "fillmode": "overlay",
              "size": 10,
              "solidity": 0.2
             }
            },
            "type": "bar"
           }
          ],
          "barpolar": [
           {
            "marker": {
             "line": {
              "color": "rgb(237,237,237)",
              "width": 0.5
             },
             "pattern": {
              "fillmode": "overlay",
              "size": 10,
              "solidity": 0.2
             }
            },
            "type": "barpolar"
           }
          ],
          "carpet": [
           {
            "aaxis": {
             "endlinecolor": "rgb(51,51,51)",
             "gridcolor": "white",
             "linecolor": "white",
             "minorgridcolor": "white",
             "startlinecolor": "rgb(51,51,51)"
            },
            "baxis": {
             "endlinecolor": "rgb(51,51,51)",
             "gridcolor": "white",
             "linecolor": "white",
             "minorgridcolor": "white",
             "startlinecolor": "rgb(51,51,51)"
            },
            "type": "carpet"
           }
          ],
          "choropleth": [
           {
            "colorbar": {
             "outlinewidth": 0,
             "tickcolor": "rgb(237,237,237)",
             "ticklen": 6,
             "ticks": "inside"
            },
            "type": "choropleth"
           }
          ],
          "contour": [
           {
            "colorbar": {
             "outlinewidth": 0,
             "tickcolor": "rgb(237,237,237)",
             "ticklen": 6,
             "ticks": "inside"
            },
            "colorscale": [
             [
              0,
              "rgb(20,44,66)"
             ],
             [
              1,
              "rgb(90,179,244)"
             ]
            ],
            "type": "contour"
           }
          ],
          "contourcarpet": [
           {
            "colorbar": {
             "outlinewidth": 0,
             "tickcolor": "rgb(237,237,237)",
             "ticklen": 6,
             "ticks": "inside"
            },
            "type": "contourcarpet"
           }
          ],
          "heatmap": [
           {
            "colorbar": {
             "outlinewidth": 0,
             "tickcolor": "rgb(237,237,237)",
             "ticklen": 6,
             "ticks": "inside"
            },
            "colorscale": [
             [
              0,
              "rgb(20,44,66)"
             ],
             [
              1,
              "rgb(90,179,244)"
             ]
            ],
            "type": "heatmap"
           }
          ],
          "heatmapgl": [
           {
            "colorbar": {
             "outlinewidth": 0,
             "tickcolor": "rgb(237,237,237)",
             "ticklen": 6,
             "ticks": "inside"
            },
            "colorscale": [
             [
              0,
              "rgb(20,44,66)"
             ],
             [
              1,
              "rgb(90,179,244)"
             ]
            ],
            "type": "heatmapgl"
           }
          ],
          "histogram": [
           {
            "marker": {
             "pattern": {
              "fillmode": "overlay",
              "size": 10,
              "solidity": 0.2
             }
            },
            "type": "histogram"
           }
          ],
          "histogram2d": [
           {
            "colorbar": {
             "outlinewidth": 0,
             "tickcolor": "rgb(237,237,237)",
             "ticklen": 6,
             "ticks": "inside"
            },
            "colorscale": [
             [
              0,
              "rgb(20,44,66)"
             ],
             [
              1,
              "rgb(90,179,244)"
             ]
            ],
            "type": "histogram2d"
           }
          ],
          "histogram2dcontour": [
           {
            "colorbar": {
             "outlinewidth": 0,
             "tickcolor": "rgb(237,237,237)",
             "ticklen": 6,
             "ticks": "inside"
            },
            "colorscale": [
             [
              0,
              "rgb(20,44,66)"
             ],
             [
              1,
              "rgb(90,179,244)"
             ]
            ],
            "type": "histogram2dcontour"
           }
          ],
          "mesh3d": [
           {
            "colorbar": {
             "outlinewidth": 0,
             "tickcolor": "rgb(237,237,237)",
             "ticklen": 6,
             "ticks": "inside"
            },
            "type": "mesh3d"
           }
          ],
          "parcoords": [
           {
            "line": {
             "colorbar": {
              "outlinewidth": 0,
              "tickcolor": "rgb(237,237,237)",
              "ticklen": 6,
              "ticks": "inside"
             }
            },
            "type": "parcoords"
           }
          ],
          "pie": [
           {
            "automargin": true,
            "type": "pie"
           }
          ],
          "scatter": [
           {
            "fillpattern": {
             "fillmode": "overlay",
             "size": 10,
             "solidity": 0.2
            },
            "type": "scatter"
           }
          ],
          "scatter3d": [
           {
            "line": {
             "colorbar": {
              "outlinewidth": 0,
              "tickcolor": "rgb(237,237,237)",
              "ticklen": 6,
              "ticks": "inside"
             }
            },
            "marker": {
             "colorbar": {
              "outlinewidth": 0,
              "tickcolor": "rgb(237,237,237)",
              "ticklen": 6,
              "ticks": "inside"
             }
            },
            "type": "scatter3d"
           }
          ],
          "scattercarpet": [
           {
            "marker": {
             "colorbar": {
              "outlinewidth": 0,
              "tickcolor": "rgb(237,237,237)",
              "ticklen": 6,
              "ticks": "inside"
             }
            },
            "type": "scattercarpet"
           }
          ],
          "scattergeo": [
           {
            "marker": {
             "colorbar": {
              "outlinewidth": 0,
              "tickcolor": "rgb(237,237,237)",
              "ticklen": 6,
              "ticks": "inside"
             }
            },
            "type": "scattergeo"
           }
          ],
          "scattergl": [
           {
            "marker": {
             "colorbar": {
              "outlinewidth": 0,
              "tickcolor": "rgb(237,237,237)",
              "ticklen": 6,
              "ticks": "inside"
             }
            },
            "type": "scattergl"
           }
          ],
          "scattermapbox": [
           {
            "marker": {
             "colorbar": {
              "outlinewidth": 0,
              "tickcolor": "rgb(237,237,237)",
              "ticklen": 6,
              "ticks": "inside"
             }
            },
            "type": "scattermapbox"
           }
          ],
          "scatterpolar": [
           {
            "marker": {
             "colorbar": {
              "outlinewidth": 0,
              "tickcolor": "rgb(237,237,237)",
              "ticklen": 6,
              "ticks": "inside"
             }
            },
            "type": "scatterpolar"
           }
          ],
          "scatterpolargl": [
           {
            "marker": {
             "colorbar": {
              "outlinewidth": 0,
              "tickcolor": "rgb(237,237,237)",
              "ticklen": 6,
              "ticks": "inside"
             }
            },
            "type": "scatterpolargl"
           }
          ],
          "scatterternary": [
           {
            "marker": {
             "colorbar": {
              "outlinewidth": 0,
              "tickcolor": "rgb(237,237,237)",
              "ticklen": 6,
              "ticks": "inside"
             }
            },
            "type": "scatterternary"
           }
          ],
          "surface": [
           {
            "colorbar": {
             "outlinewidth": 0,
             "tickcolor": "rgb(237,237,237)",
             "ticklen": 6,
             "ticks": "inside"
            },
            "colorscale": [
             [
              0,
              "rgb(20,44,66)"
             ],
             [
              1,
              "rgb(90,179,244)"
             ]
            ],
            "type": "surface"
           }
          ],
          "table": [
           {
            "cells": {
             "fill": {
              "color": "rgb(237,237,237)"
             },
             "line": {
              "color": "white"
             }
            },
            "header": {
             "fill": {
              "color": "rgb(217,217,217)"
             },
             "line": {
              "color": "white"
             }
            },
            "type": "table"
           }
          ]
         },
         "layout": {
          "annotationdefaults": {
           "arrowhead": 0,
           "arrowwidth": 1
          },
          "autotypenumbers": "strict",
          "coloraxis": {
           "colorbar": {
            "outlinewidth": 0,
            "tickcolor": "rgb(237,237,237)",
            "ticklen": 6,
            "ticks": "inside"
           }
          },
          "colorscale": {
           "sequential": [
            [
             0,
             "rgb(20,44,66)"
            ],
            [
             1,
             "rgb(90,179,244)"
            ]
           ],
           "sequentialminus": [
            [
             0,
             "rgb(20,44,66)"
            ],
            [
             1,
             "rgb(90,179,244)"
            ]
           ]
          },
          "colorway": [
           "#F8766D",
           "#A3A500",
           "#00BF7D",
           "#00B0F6",
           "#E76BF3"
          ],
          "font": {
           "color": "rgb(51,51,51)"
          },
          "geo": {
           "bgcolor": "white",
           "lakecolor": "white",
           "landcolor": "rgb(237,237,237)",
           "showlakes": true,
           "showland": true,
           "subunitcolor": "white"
          },
          "hoverlabel": {
           "align": "left"
          },
          "hovermode": "closest",
          "paper_bgcolor": "white",
          "plot_bgcolor": "rgb(237,237,237)",
          "polar": {
           "angularaxis": {
            "gridcolor": "white",
            "linecolor": "white",
            "showgrid": true,
            "tickcolor": "rgb(51,51,51)",
            "ticks": "outside"
           },
           "bgcolor": "rgb(237,237,237)",
           "radialaxis": {
            "gridcolor": "white",
            "linecolor": "white",
            "showgrid": true,
            "tickcolor": "rgb(51,51,51)",
            "ticks": "outside"
           }
          },
          "scene": {
           "xaxis": {
            "backgroundcolor": "rgb(237,237,237)",
            "gridcolor": "white",
            "gridwidth": 2,
            "linecolor": "white",
            "showbackground": true,
            "showgrid": true,
            "tickcolor": "rgb(51,51,51)",
            "ticks": "outside",
            "zerolinecolor": "white"
           },
           "yaxis": {
            "backgroundcolor": "rgb(237,237,237)",
            "gridcolor": "white",
            "gridwidth": 2,
            "linecolor": "white",
            "showbackground": true,
            "showgrid": true,
            "tickcolor": "rgb(51,51,51)",
            "ticks": "outside",
            "zerolinecolor": "white"
           },
           "zaxis": {
            "backgroundcolor": "rgb(237,237,237)",
            "gridcolor": "white",
            "gridwidth": 2,
            "linecolor": "white",
            "showbackground": true,
            "showgrid": true,
            "tickcolor": "rgb(51,51,51)",
            "ticks": "outside",
            "zerolinecolor": "white"
           }
          },
          "shapedefaults": {
           "fillcolor": "black",
           "line": {
            "width": 0
           },
           "opacity": 0.3
          },
          "ternary": {
           "aaxis": {
            "gridcolor": "white",
            "linecolor": "white",
            "showgrid": true,
            "tickcolor": "rgb(51,51,51)",
            "ticks": "outside"
           },
           "baxis": {
            "gridcolor": "white",
            "linecolor": "white",
            "showgrid": true,
            "tickcolor": "rgb(51,51,51)",
            "ticks": "outside"
           },
           "bgcolor": "rgb(237,237,237)",
           "caxis": {
            "gridcolor": "white",
            "linecolor": "white",
            "showgrid": true,
            "tickcolor": "rgb(51,51,51)",
            "ticks": "outside"
           }
          },
          "xaxis": {
           "automargin": true,
           "gridcolor": "white",
           "linecolor": "white",
           "showgrid": true,
           "tickcolor": "rgb(51,51,51)",
           "ticks": "outside",
           "title": {
            "standoff": 15
           },
           "zerolinecolor": "white"
          },
          "yaxis": {
           "automargin": true,
           "gridcolor": "white",
           "linecolor": "white",
           "showgrid": true,
           "tickcolor": "rgb(51,51,51)",
           "ticks": "outside",
           "title": {
            "standoff": 15
           },
           "zerolinecolor": "white"
          }
         }
        },
        "title": {
         "text": ""
        },
        "xaxis": {
         "anchor": "y",
         "domain": [
          0,
          1
         ],
         "tickfont": {
          "size": 16
         },
         "title": {
          "text": "Minimum degree for selected genes"
         }
        },
        "yaxis": {
         "anchor": "x",
         "domain": [
          0,
          1
         ],
         "dtick": 2,
         "tick0": 10,
         "tickfont": {
          "size": 16
         },
         "tickmode": "linear",
         "title": {
          "text": "Number of communities"
         }
        }
       }
      }
     },
     "metadata": {},
     "output_type": "display_data"
    }
   ],
   "source": [
    "sbm_fig = sbm_fig.add_traces(leid_fig.data)\n",
    "sbm_fig = sbm_fig.update_layout(\n",
    "    legend=dict(\n",
    "        orientation=\"h\",\n",
    "        title=\"Type\",\n",
    "        yanchor=\"bottom\",\n",
    "        y=1.1,\n",
    "        xanchor=\"center\",\n",
    "        x=0.5,\n",
    "        bgcolor=\"rgba(0,0,0,0)\",\n",
    "        font=dict(size=16, color=\"#003366\"),\n",
    "    ),\n",
    "    paper_bgcolor=\"rgba(0,0,0,0)\",\n",
    "    xaxis=dict(\n",
    "        tickfont=dict(size=16),\n",
    "        title=\"Minimum degree for selected genes\",\n",
    "    ),\n",
    "    title=\"\",\n",
    "    template=\"ggplot2\",\n",
    "    yaxis=dict(\n",
    "        tickmode=\"linear\",\n",
    "        tick0=10,\n",
    "        dtick=2,\n",
    "    ),\n",
    "    showlegend=False,\n",
    "    font=dict(size=16),\n",
    ")\n",
    "sbm_fig = sbm_fig.update_traces(line_width=5, marker_size=12, error_y=dict(width=5))\n",
    "sbm_fig.show()\n",
    "save_fig(name=\"sbm_Leiden_combNum\", fig=sbm_fig, base_path=figures_path, width=1200, height=600)"
   ]
  },
  {
   "cell_type": "markdown",
   "metadata": {},
   "source": [
    "# TF representation"
   ]
  },
  {
   "cell_type": "code",
   "execution_count": 19,
   "metadata": {},
   "outputs": [],
   "source": [
    "def gene_sel_by_mev(exp, exp_label=\"\", show_figs=True):\n",
    "    all_exps = []\n",
    "    for num_genes in range(25, 201, 25):\n",
    "        exp_genes = []\n",
    "        for modCon in exp.gt_modCons.values():\n",
    "            top_100 = modCon.sort_values(by=[\"ModCon_{}_gt\".format(exp.type)], ascending=False).index.values[:num_genes]\n",
    "            exp_genes.extend(top_100)\n",
    "\n",
    "        # add to the global exps\n",
    "        sel_df = tcga_mutations_df[tcga_mutations_df.index.isin(exp_genes)]\n",
    "        mut_0 = sel_df[sel_df[\"count\"] > 0].shape[0]\n",
    "        mut_5 = sel_df[sel_df[\"count\"] >= 5].shape[0]\n",
    "        mut_10 = sel_df[sel_df[\"count\"] >= 10].shape[0]\n",
    "\n",
    "        # tf exploration\n",
    "        tf_used = set(exp_genes) & set(tf_list)\n",
    "        tf_used_mut = sel_df[sel_df[\"count\"] > 0]\n",
    "        tf_used_mut = tf_used_mut[tf_used_mut.index.isin(list(tf_used))].shape[0]\n",
    "\n",
    "        all_exps.append((len(exp_genes), mut_0, mut_5, mut_10, len(tf_used), tf_used_mut, str(num_genes)))\n",
    "\n",
    "    genes_stats = pd.DataFrame(all_exps, columns=[\"#Genes\", \"#Mutated >0\", \"#Mutated >5\", \"#Mutated >10\", \"#TF\", \"#Mutated TF\", \"Exp\"])\n",
    "\n",
    "    metrics_cols = genes_stats.columns[:-1]\n",
    "    remap_cols = {col: col.replace(\"#\", \"%\") for col in metrics_cols}\n",
    "    prct_df = pd.concat(\n",
    "        [genes_stats[\"Exp\"], genes_stats[metrics_cols].div(genes_stats[\"#Genes\"].values, axis=0).multiply(100).rename(columns=remap_cols)], axis=1\n",
    "    )\n",
    "\n",
    "    if show_figs:\n",
    "        # Proportion\n",
    "        fig = px.bar(\n",
    "            prct_df,\n",
    "            x=\"Exp\",\n",
    "            y=list(remap_cols.values()),\n",
    "            barmode=\"group\",\n",
    "            title=\"{}. Proportion of genes included when different #num selected by ModCon\".format(exp_label),\n",
    "            height=600,\n",
    "            text_auto=True,\n",
    "        )\n",
    "        fig.show()\n",
    "\n",
    "        # Numbers\n",
    "        fig = px.bar(\n",
    "            genes_stats,\n",
    "            x=\"Exp\",\n",
    "            y=genes_stats.columns[:-1],\n",
    "            barmode=\"group\",\n",
    "            title=\"{}. Number of genes when different #num selected by ModCon\".format(exp_label),\n",
    "            height=600,\n",
    "        )\n",
    "        fig.show()\n",
    "    return genes_stats, prct_df, exp_genes\n",
    "\n",
    "\n",
    "def tf_modCon_exps(exps, tf_range=None):\n",
    "    tf_changes = pd.DataFrame()\n",
    "    if tf_range is None:\n",
    "        tf_range = range(3, 11, 1)\n",
    "    for tf in tf_range:\n",
    "        sel_exp = exps[str(tf)]\n",
    "        genes_used, _, _ = gene_sel_by_mev(sel_exp, exp_label=str(tf), show_figs=False)\n",
    "\n",
    "        remap_cols = {col: \"{}TF_{}\".format(tf, col) for col in [\"#TF\", \"#Mutated TF\", \"Exp\"]}\n",
    "        dmy = genes_used[list(remap_cols.keys())].copy(deep=True)\n",
    "        dmy[\"TF_edges\"] = \"{}\".format(tf)\n",
    "        tf_changes = pd.concat(\n",
    "            [tf_changes, dmy],\n",
    "            axis=0,\n",
    "        )\n",
    "\n",
    "    return tf_changes\n",
    "\n",
    "\n",
    "# This is more for development\n",
    "def plot_single_ctrl(ctrl_exps: dict, key=1):\n",
    "    #### This works for only one Control select the ModCon - 100\n",
    "\n",
    "    tf_changes_exp = tf_modCon_exps(h_exps, tf_range=list(list(range(3, 16, 1))))\n",
    "    tf_changes_control = tf_modCon_exps(ctrl_exps[key][\"exps\"], tf_range=list(list(range(3, 16, 1))))\n",
    "\n",
    "    tf_changes_exp[\"Type\"] = \"Experiment\"\n",
    "    tf_changes_control[\"Type\"] = \"Control\"\n",
    "\n",
    "    dmy_df = pd.concat([tf_changes_exp, tf_changes_control], axis=0)\n",
    "    dmy_df = dmy_df[dmy_df[\"Exp\"] == \"100\"]\n",
    "    dmy_df[\"Used_prct\"] = dmy_df[\"#TF\"] / len(used_tf) * 100\n",
    "\n",
    "    fig = px.line(dmy_df, x=\"TF_edges\", y=\"Used_prct\", color=\"Type\", markers=True, title=\"% TF used in calculating the MEV\", height=600)\n",
    "    fig.update_layout(\n",
    "        legend=dict(\n",
    "            orientation=\"h\",\n",
    "            # title=\"Type\",\n",
    "            yanchor=\"bottom\",\n",
    "            y=0.18,\n",
    "            xanchor=\"center\",\n",
    "            x=0.5,\n",
    "            bgcolor=\"rgba(0,0,0,0)\",\n",
    "            font=dict(size=12),\n",
    "        ),\n",
    "    )\n",
    "    fig.update_xaxes(title_text=\"Minimum degree for selected genes\", tickfont=dict(size=14), title_font=dict(size=16))\n",
    "    fig = fig.update_yaxes(title_text=\"% of genes included\", range=[0, 105], tickfont=dict(size=14), title_font=dict(size=16))\n",
    "    fig.show()\n",
    "\n",
    "\n",
    "def worker(arg):\n",
    "    obj, methname = arg[:2]\n",
    "    _ = getattr(obj, methname)()\n",
    "    return obj"
   ]
  },
  {
   "cell_type": "code",
   "execution_count": 20,
   "metadata": {},
   "outputs": [],
   "source": [
    "results = pool.map(worker, ((exp, \"get_ModCon\") for exp in h_exps.values()))\n",
    "h_exps = {exp.type.split(\"_\")[-1].split(\"TF\")[0]: exp for exp in results}\n",
    "\n",
    "for key, exp in h_exps.items():\n",
    "    sort_col = \"ModCon_{}_gt\".format(exp.type)\n",
    "    exp.mevsMut, _ = exp.get_mevs(tpms=all_tum_tpms, modCon=exp.gt_modCons, sort_col=sort_col, num_genes=100, verbose=False)"
   ]
  },
  {
   "cell_type": "code",
   "execution_count": 21,
   "metadata": {},
   "outputs": [
    {
     "name": "stdout",
     "output_type": "stream",
     "text": [
      "### ModCon Control 1\n",
      "### ModCon Control 2\n",
      "### ModCon Control 3\n",
      "### ModCon Control 4\n",
      "### ModCon Control 5\n",
      "### ModCon Control 6\n",
      "### ModCon Control 7\n",
      "### ModCon Control 8\n",
      "### ModCon Control 9\n",
      "### ModCon Control 10\n",
      "### MEV Control 1\n",
      "### MEV Control 2\n",
      "### MEV Control 3\n",
      "### MEV Control 4\n",
      "### MEV Control 5\n",
      "### MEV Control 6\n",
      "### MEV Control 7\n",
      "### MEV Control 8\n",
      "### MEV Control 9\n",
      "### MEV Control 10\n"
     ]
    }
   ],
   "source": [
    "# Healthy control for ModCon and MEV\n",
    "### ModCon\n",
    "for key in ctrl_exps.keys():\n",
    "    print(\"### ModCon Control {}\".format(key))\n",
    "    results = pool.map(worker, ((exp, \"get_ModCon\") for exp in ctrl_exps[key][\"exps\"].values()))\n",
    "    ctrl_exps[key][\"exps\"] = {exp.type.split(\"_\")[-1].split(\"TF\")[0]: exp for exp in results}\n",
    "\n",
    "### MEV\n",
    "for key in ctrl_exps.keys():\n",
    "    print(\"### MEV Control {}\".format(key))\n",
    "    for key, exp in ctrl_exps[key][\"exps\"].items():\n",
    "        sort_col = \"ModCon_{}_gt\".format(exp.type)\n",
    "        exp.mevsMut, _ = exp.get_mevs(tpms=all_tum_tpms, modCon=exp.gt_modCons, sort_col=sort_col, num_genes=100, verbose=False)"
   ]
  },
  {
   "cell_type": "code",
   "execution_count": 22,
   "metadata": {},
   "outputs": [],
   "source": [
    "# Control TF changes\n",
    "used_tf = all_h.exps[\"standard_5K_3TF\"].nodes_df[\"TF\"][all_h.exps[\"standard_5K_3TF\"].nodes_df[\"TF\"] == 1].index.values\n",
    "\n",
    "tf_chgs_all_ctrls = []\n",
    "tf_range = list(list(range(3, 16, 1)))\n",
    "for key, val in ctrl_exps.items():\n",
    "    tf_chgs = tf_modCon_exps(val[\"exps\"], tf_range=tf_range)\n",
    "    tf_chgs = tf_chgs[tf_chgs[\"Exp\"] == \"100\"]\n",
    "    tf_chgs[\"Type\"] = \"hCtrl{}\".format(key)\n",
    "    tf_chgs[\"Used_prct\"] = tf_chgs[\"#TF\"] / len(used_tf) * 100\n",
    "    # tf_chgs[\"Mut_prct\"] = tf_chgs[\"#Mutated TF\"] / len(used_tf) * 100 #used_tf which are mutated\n",
    "    tf_chgs_all_ctrls.append(tf_chgs)\n",
    "\n",
    "tf_chgs_all_ctrls = pd.concat(tf_chgs_all_ctrls, axis=0)\n",
    "\n",
    "# Generate the Exp Changes too\n",
    "tf_changes_exp = tf_modCon_exps(h_exps, tf_range=tf_range)"
   ]
  },
  {
   "cell_type": "code",
   "execution_count": 23,
   "metadata": {},
   "outputs": [],
   "source": [
    "# Process the information and get some stats\n",
    "\n",
    "## Control\n",
    "all_tf_chgs_stats = []\n",
    "for tf in tf_chgs_all_ctrls[\"TF_edges\"].unique():\n",
    "    sel_df = tf_chgs_all_ctrls[tf_chgs_all_ctrls[\"TF_edges\"] == tf]\n",
    "    all_tf_chgs_stats.append(\n",
    "        [\n",
    "            tf,\n",
    "            sel_df[\"Exp\"].values[0],\n",
    "            sel_df[\"Used_prct\"].median(axis=0),\n",
    "            sel_df[\"Used_prct\"].mean(axis=0),\n",
    "            sel_df[\"Used_prct\"].std(axis=0),\n",
    "            sel_df[\"#TF\"].median(axis=0),\n",
    "            sel_df[\"#TF\"].mean(axis=0),\n",
    "            sel_df[\"#TF\"].std(axis=0),\n",
    "            sel_df[\"#Mutated TF\"].median(axis=0),\n",
    "            sel_df[\"#Mutated TF\"].mean(axis=0),\n",
    "            sel_df[\"#Mutated TF\"].std(axis=0),\n",
    "        ]\n",
    "    )\n",
    "\n",
    "\n",
    "tf_chgs_stats_df = pd.DataFrame(\n",
    "    all_tf_chgs_stats,\n",
    "    columns=[\"TF_edges\", \"Exp\", \"Prct_median\", \"Prct_mean\", \"Prct_std\", \"#TF_median\", \"#TF_mean\", \"#TF_std\", \"#Mutated median\", \"Mutated mean\", \"Mutated std\"],\n",
    ")\n",
    "tf_chgs_stats_df[\"Type\"] = \"Control\"\n",
    "\n",
    "## Experiment\n",
    "tf_changes_exp = tf_changes_exp[tf_changes_exp[\"Exp\"] == \"100\"]\n",
    "tf_changes_exp[\"Used_prct\"] = tf_changes_exp[\"#TF\"] / len(used_tf) * 100\n",
    "tf_changes_exp[\"Prct_median\"] = tf_changes_exp[\"Used_prct\"]\n",
    "tf_changes_exp[\"Prct_mean\"] = tf_changes_exp[\"Used_prct\"]\n",
    "tf_changes_exp[\"Prct_std\"] = 0\n",
    "tf_changes_exp[\"Type\"] = \"Experiment\"\n",
    "# tf_changes_exp[\"Mut_prct\"] = tf_changes_exp[\"#Mutated TF\"] / len(used_tf) * 100\n",
    "\n",
    "## Combine the two\n",
    "comb_chgs = pd.concat([tf_chgs_stats_df, tf_changes_exp], axis=0)"
   ]
  },
  {
   "cell_type": "code",
   "execution_count": 24,
   "metadata": {},
   "outputs": [
    {
     "data": {
      "application/vnd.plotly.v1+json": {
       "config": {
        "plotlyServerURL": "https://plot.ly"
       },
       "data": [
        {
         "error_y": {
          "array": [
           2.9755462683085545,
           2.439161338595538,
           3.4554732451476706,
           3.754791685369271,
           2.6948056220908625,
           4.337612540922258,
           3.530470878934521,
           4.389038890473564,
           2.4226156047976564,
           4.254460428567632,
           2.3871860102507307,
           4.792074610044324,
           4.115740708594554
          ],
          "width": 5
         },
         "hovertemplate": "Type=Control<br>TF_edges=%{x}<br>Prct_mean=%{y}<extra></extra>",
         "legendgroup": "Control",
         "line": {
          "color": "#DC3912",
          "dash": "solid",
          "width": 5
         },
         "marker": {
          "size": 12,
          "symbol": "circle"
         },
         "mode": "markers+lines",
         "name": "Control",
         "orientation": "v",
         "showlegend": true,
         "type": "scatter",
         "x": [
          "3",
          "4",
          "5",
          "6",
          "7",
          "8",
          "9",
          "10",
          "11",
          "12",
          "13",
          "14",
          "15"
         ],
         "xaxis": "x",
         "y": [
          58.179012345679006,
          57.9320987654321,
          56.882716049382715,
          59.876543209876544,
          60.092592592592595,
          60.555555555555564,
          61.358024691358025,
          62.037037037037045,
          64.35185185185186,
          62.87037037037037,
          62.469135802469125,
          63.9506172839506,
          65.61728395061729
         ],
         "yaxis": "y"
        },
        {
         "error_y": {
          "array": [
           0,
           0,
           0,
           0,
           0,
           0,
           0,
           0,
           0,
           0,
           0,
           0,
           0
          ],
          "width": 5
         },
         "hovertemplate": "Type=Experiment<br>TF_edges=%{x}<br>Prct_mean=%{y}<extra></extra>",
         "legendgroup": "Experiment",
         "line": {
          "color": "#3366CC",
          "dash": "solid",
          "width": 5
         },
         "marker": {
          "size": 12,
          "symbol": "circle"
         },
         "mode": "markers+lines",
         "name": "Experiment",
         "orientation": "v",
         "showlegend": true,
         "type": "scatter",
         "x": [
          "3",
          "4",
          "5",
          "6",
          "7",
          "8",
          "9",
          "10",
          "11",
          "12",
          "13",
          "14",
          "15"
         ],
         "xaxis": "x",
         "y": [
          58.95061728395061,
          69.75308641975309,
          73.4567901234568,
          87.03703703703704,
          92.5925925925926,
          95.67901234567901,
          94.75308641975309,
          96.60493827160494,
          97.22222222222221,
          98.14814814814815,
          99.07407407407408,
          99.69135802469135,
          100
         ],
         "yaxis": "y"
        }
       ],
       "layout": {
        "font": {
         "size": 16
        },
        "height": 600,
        "legend": {
         "bgcolor": "rgba(0,0,0,0)",
         "font": {
          "size": 16
         },
         "orientation": "h",
         "title": {
          "text": "Type"
         },
         "tracegroupgap": 0,
         "x": 0.5,
         "xanchor": "center",
         "y": 0.18,
         "yanchor": "bottom"
        },
        "paper_bgcolor": "rgba(0,0,0,0)",
        "template": {
         "data": {
          "bar": [
           {
            "error_x": {
             "color": "rgb(51,51,51)"
            },
            "error_y": {
             "color": "rgb(51,51,51)"
            },
            "marker": {
             "line": {
              "color": "rgb(237,237,237)",
              "width": 0.5
             },
             "pattern": {
              "fillmode": "overlay",
              "size": 10,
              "solidity": 0.2
             }
            },
            "type": "bar"
           }
          ],
          "barpolar": [
           {
            "marker": {
             "line": {
              "color": "rgb(237,237,237)",
              "width": 0.5
             },
             "pattern": {
              "fillmode": "overlay",
              "size": 10,
              "solidity": 0.2
             }
            },
            "type": "barpolar"
           }
          ],
          "carpet": [
           {
            "aaxis": {
             "endlinecolor": "rgb(51,51,51)",
             "gridcolor": "white",
             "linecolor": "white",
             "minorgridcolor": "white",
             "startlinecolor": "rgb(51,51,51)"
            },
            "baxis": {
             "endlinecolor": "rgb(51,51,51)",
             "gridcolor": "white",
             "linecolor": "white",
             "minorgridcolor": "white",
             "startlinecolor": "rgb(51,51,51)"
            },
            "type": "carpet"
           }
          ],
          "choropleth": [
           {
            "colorbar": {
             "outlinewidth": 0,
             "tickcolor": "rgb(237,237,237)",
             "ticklen": 6,
             "ticks": "inside"
            },
            "type": "choropleth"
           }
          ],
          "contour": [
           {
            "colorbar": {
             "outlinewidth": 0,
             "tickcolor": "rgb(237,237,237)",
             "ticklen": 6,
             "ticks": "inside"
            },
            "colorscale": [
             [
              0,
              "rgb(20,44,66)"
             ],
             [
              1,
              "rgb(90,179,244)"
             ]
            ],
            "type": "contour"
           }
          ],
          "contourcarpet": [
           {
            "colorbar": {
             "outlinewidth": 0,
             "tickcolor": "rgb(237,237,237)",
             "ticklen": 6,
             "ticks": "inside"
            },
            "type": "contourcarpet"
           }
          ],
          "heatmap": [
           {
            "colorbar": {
             "outlinewidth": 0,
             "tickcolor": "rgb(237,237,237)",
             "ticklen": 6,
             "ticks": "inside"
            },
            "colorscale": [
             [
              0,
              "rgb(20,44,66)"
             ],
             [
              1,
              "rgb(90,179,244)"
             ]
            ],
            "type": "heatmap"
           }
          ],
          "heatmapgl": [
           {
            "colorbar": {
             "outlinewidth": 0,
             "tickcolor": "rgb(237,237,237)",
             "ticklen": 6,
             "ticks": "inside"
            },
            "colorscale": [
             [
              0,
              "rgb(20,44,66)"
             ],
             [
              1,
              "rgb(90,179,244)"
             ]
            ],
            "type": "heatmapgl"
           }
          ],
          "histogram": [
           {
            "marker": {
             "pattern": {
              "fillmode": "overlay",
              "size": 10,
              "solidity": 0.2
             }
            },
            "type": "histogram"
           }
          ],
          "histogram2d": [
           {
            "colorbar": {
             "outlinewidth": 0,
             "tickcolor": "rgb(237,237,237)",
             "ticklen": 6,
             "ticks": "inside"
            },
            "colorscale": [
             [
              0,
              "rgb(20,44,66)"
             ],
             [
              1,
              "rgb(90,179,244)"
             ]
            ],
            "type": "histogram2d"
           }
          ],
          "histogram2dcontour": [
           {
            "colorbar": {
             "outlinewidth": 0,
             "tickcolor": "rgb(237,237,237)",
             "ticklen": 6,
             "ticks": "inside"
            },
            "colorscale": [
             [
              0,
              "rgb(20,44,66)"
             ],
             [
              1,
              "rgb(90,179,244)"
             ]
            ],
            "type": "histogram2dcontour"
           }
          ],
          "mesh3d": [
           {
            "colorbar": {
             "outlinewidth": 0,
             "tickcolor": "rgb(237,237,237)",
             "ticklen": 6,
             "ticks": "inside"
            },
            "type": "mesh3d"
           }
          ],
          "parcoords": [
           {
            "line": {
             "colorbar": {
              "outlinewidth": 0,
              "tickcolor": "rgb(237,237,237)",
              "ticklen": 6,
              "ticks": "inside"
             }
            },
            "type": "parcoords"
           }
          ],
          "pie": [
           {
            "automargin": true,
            "type": "pie"
           }
          ],
          "scatter": [
           {
            "fillpattern": {
             "fillmode": "overlay",
             "size": 10,
             "solidity": 0.2
            },
            "type": "scatter"
           }
          ],
          "scatter3d": [
           {
            "line": {
             "colorbar": {
              "outlinewidth": 0,
              "tickcolor": "rgb(237,237,237)",
              "ticklen": 6,
              "ticks": "inside"
             }
            },
            "marker": {
             "colorbar": {
              "outlinewidth": 0,
              "tickcolor": "rgb(237,237,237)",
              "ticklen": 6,
              "ticks": "inside"
             }
            },
            "type": "scatter3d"
           }
          ],
          "scattercarpet": [
           {
            "marker": {
             "colorbar": {
              "outlinewidth": 0,
              "tickcolor": "rgb(237,237,237)",
              "ticklen": 6,
              "ticks": "inside"
             }
            },
            "type": "scattercarpet"
           }
          ],
          "scattergeo": [
           {
            "marker": {
             "colorbar": {
              "outlinewidth": 0,
              "tickcolor": "rgb(237,237,237)",
              "ticklen": 6,
              "ticks": "inside"
             }
            },
            "type": "scattergeo"
           }
          ],
          "scattergl": [
           {
            "marker": {
             "colorbar": {
              "outlinewidth": 0,
              "tickcolor": "rgb(237,237,237)",
              "ticklen": 6,
              "ticks": "inside"
             }
            },
            "type": "scattergl"
           }
          ],
          "scattermapbox": [
           {
            "marker": {
             "colorbar": {
              "outlinewidth": 0,
              "tickcolor": "rgb(237,237,237)",
              "ticklen": 6,
              "ticks": "inside"
             }
            },
            "type": "scattermapbox"
           }
          ],
          "scatterpolar": [
           {
            "marker": {
             "colorbar": {
              "outlinewidth": 0,
              "tickcolor": "rgb(237,237,237)",
              "ticklen": 6,
              "ticks": "inside"
             }
            },
            "type": "scatterpolar"
           }
          ],
          "scatterpolargl": [
           {
            "marker": {
             "colorbar": {
              "outlinewidth": 0,
              "tickcolor": "rgb(237,237,237)",
              "ticklen": 6,
              "ticks": "inside"
             }
            },
            "type": "scatterpolargl"
           }
          ],
          "scatterternary": [
           {
            "marker": {
             "colorbar": {
              "outlinewidth": 0,
              "tickcolor": "rgb(237,237,237)",
              "ticklen": 6,
              "ticks": "inside"
             }
            },
            "type": "scatterternary"
           }
          ],
          "surface": [
           {
            "colorbar": {
             "outlinewidth": 0,
             "tickcolor": "rgb(237,237,237)",
             "ticklen": 6,
             "ticks": "inside"
            },
            "colorscale": [
             [
              0,
              "rgb(20,44,66)"
             ],
             [
              1,
              "rgb(90,179,244)"
             ]
            ],
            "type": "surface"
           }
          ],
          "table": [
           {
            "cells": {
             "fill": {
              "color": "rgb(237,237,237)"
             },
             "line": {
              "color": "white"
             }
            },
            "header": {
             "fill": {
              "color": "rgb(217,217,217)"
             },
             "line": {
              "color": "white"
             }
            },
            "type": "table"
           }
          ]
         },
         "layout": {
          "annotationdefaults": {
           "arrowhead": 0,
           "arrowwidth": 1
          },
          "autotypenumbers": "strict",
          "coloraxis": {
           "colorbar": {
            "outlinewidth": 0,
            "tickcolor": "rgb(237,237,237)",
            "ticklen": 6,
            "ticks": "inside"
           }
          },
          "colorscale": {
           "sequential": [
            [
             0,
             "rgb(20,44,66)"
            ],
            [
             1,
             "rgb(90,179,244)"
            ]
           ],
           "sequentialminus": [
            [
             0,
             "rgb(20,44,66)"
            ],
            [
             1,
             "rgb(90,179,244)"
            ]
           ]
          },
          "colorway": [
           "#F8766D",
           "#A3A500",
           "#00BF7D",
           "#00B0F6",
           "#E76BF3"
          ],
          "font": {
           "color": "rgb(51,51,51)"
          },
          "geo": {
           "bgcolor": "white",
           "lakecolor": "white",
           "landcolor": "rgb(237,237,237)",
           "showlakes": true,
           "showland": true,
           "subunitcolor": "white"
          },
          "hoverlabel": {
           "align": "left"
          },
          "hovermode": "closest",
          "paper_bgcolor": "white",
          "plot_bgcolor": "rgb(237,237,237)",
          "polar": {
           "angularaxis": {
            "gridcolor": "white",
            "linecolor": "white",
            "showgrid": true,
            "tickcolor": "rgb(51,51,51)",
            "ticks": "outside"
           },
           "bgcolor": "rgb(237,237,237)",
           "radialaxis": {
            "gridcolor": "white",
            "linecolor": "white",
            "showgrid": true,
            "tickcolor": "rgb(51,51,51)",
            "ticks": "outside"
           }
          },
          "scene": {
           "xaxis": {
            "backgroundcolor": "rgb(237,237,237)",
            "gridcolor": "white",
            "gridwidth": 2,
            "linecolor": "white",
            "showbackground": true,
            "showgrid": true,
            "tickcolor": "rgb(51,51,51)",
            "ticks": "outside",
            "zerolinecolor": "white"
           },
           "yaxis": {
            "backgroundcolor": "rgb(237,237,237)",
            "gridcolor": "white",
            "gridwidth": 2,
            "linecolor": "white",
            "showbackground": true,
            "showgrid": true,
            "tickcolor": "rgb(51,51,51)",
            "ticks": "outside",
            "zerolinecolor": "white"
           },
           "zaxis": {
            "backgroundcolor": "rgb(237,237,237)",
            "gridcolor": "white",
            "gridwidth": 2,
            "linecolor": "white",
            "showbackground": true,
            "showgrid": true,
            "tickcolor": "rgb(51,51,51)",
            "ticks": "outside",
            "zerolinecolor": "white"
           }
          },
          "shapedefaults": {
           "fillcolor": "black",
           "line": {
            "width": 0
           },
           "opacity": 0.3
          },
          "ternary": {
           "aaxis": {
            "gridcolor": "white",
            "linecolor": "white",
            "showgrid": true,
            "tickcolor": "rgb(51,51,51)",
            "ticks": "outside"
           },
           "baxis": {
            "gridcolor": "white",
            "linecolor": "white",
            "showgrid": true,
            "tickcolor": "rgb(51,51,51)",
            "ticks": "outside"
           },
           "bgcolor": "rgb(237,237,237)",
           "caxis": {
            "gridcolor": "white",
            "linecolor": "white",
            "showgrid": true,
            "tickcolor": "rgb(51,51,51)",
            "ticks": "outside"
           }
          },
          "xaxis": {
           "automargin": true,
           "gridcolor": "white",
           "linecolor": "white",
           "showgrid": true,
           "tickcolor": "rgb(51,51,51)",
           "ticks": "outside",
           "title": {
            "standoff": 15
           },
           "zerolinecolor": "white"
          },
          "yaxis": {
           "automargin": true,
           "gridcolor": "white",
           "linecolor": "white",
           "showgrid": true,
           "tickcolor": "rgb(51,51,51)",
           "ticks": "outside",
           "title": {
            "standoff": 15
           },
           "zerolinecolor": "white"
          }
         }
        },
        "title": {
         "text": ""
        },
        "xaxis": {
         "anchor": "y",
         "domain": [
          0,
          1
         ],
         "tickfont": {
          "size": 16
         },
         "title": {
          "text": "Minimum degree for selected genes"
         }
        },
        "yaxis": {
         "anchor": "x",
         "domain": [
          0,
          1
         ],
         "range": [
          0,
          105
         ],
         "tickfont": {
          "size": 16
         },
         "title": {
          "text": "% of genes included"
         }
        }
       }
      }
     },
     "metadata": {},
     "output_type": "display_data"
    }
   ],
   "source": [
    "fig = px.line(\n",
    "    comb_chgs,\n",
    "    x=\"TF_edges\",\n",
    "    y=\"Prct_mean\",\n",
    "    error_y=\"Prct_std\",\n",
    "    color=\"Type\",\n",
    "    color_discrete_map=color_map,\n",
    "    markers=True,\n",
    "    title=\"% TF used in calculating the MEV\",\n",
    "    height=600,\n",
    ")\n",
    "fig.update_layout(\n",
    "    legend=dict(\n",
    "        orientation=\"h\",\n",
    "        # title=\"Type\",\n",
    "        yanchor=\"bottom\",\n",
    "        y=0.18,\n",
    "        xanchor=\"center\",\n",
    "        x=0.5,\n",
    "        bgcolor=\"rgba(0,0,0,0)\",\n",
    "        font=dict(size=16),\n",
    "    ),\n",
    "    title=\"\",\n",
    "    template=\"ggplot2\",  # \"ggplot2\", \"plotly_white\"\n",
    "    paper_bgcolor=\"rgba(0,0,0,0)\",\n",
    "    # plot_bgcolor=\"rgba(0,0,0,0)\",\n",
    "    xaxis=dict(\n",
    "        tickfont=dict(size=16),\n",
    "        title_font=dict(\n",
    "            size=16,\n",
    "        ),\n",
    "        title=\"Minimum degree for selected genes\",\n",
    "    ),\n",
    "    yaxis=dict(\n",
    "        tickfont=dict(size=16),\n",
    "        title_font=dict(\n",
    "            size=16,\n",
    "        ),\n",
    "        title=\"% of genes included\",\n",
    "        range=[0, 105],\n",
    "    ),\n",
    "    font=dict(size=16),\n",
    ")\n",
    "# fig = fig.update_yaxes(title_text=\"% of genes included\", range=[0, 105], tickfont=dict(size=14), title_font=dict(size=16))\n",
    "fig.update_traces(line_width=5, marker_size=12, error_y=dict(width=5))\n",
    "save_fig(name=\"ctrls_min_dig_mev\", fig=fig, base_path=figures_path, width=1200, height=600)\n",
    "fig.show()"
   ]
  },
  {
   "cell_type": "code",
   "execution_count": null,
   "metadata": {},
   "outputs": [],
   "source": [
    "# for development\n",
    "if False:\n",
    "    for key in range(1, 3, 1):\n",
    "        display(plot_single_ctrl(ctrl_exps, key=key))"
   ]
  },
  {
   "cell_type": "markdown",
   "metadata": {},
   "source": [
    "## Find common genes in TFs"
   ]
  },
  {
   "cell_type": "code",
   "execution_count": null,
   "metadata": {},
   "outputs": [],
   "source": [
    "for key, val in ctrl_exps.items():\n",
    "    tf_chgs = tf_modCon_exps(val[\"exps\"], tf_range=tf_range)"
   ]
  },
  {
   "cell_type": "code",
   "execution_count": 98,
   "metadata": {},
   "outputs": [
    {
     "name": "stdout",
     "output_type": "stream",
     "text": [
      "TFs mutated but not expressed: \n"
     ]
    },
    {
     "data": {
      "text/html": [
       "<div>\n",
       "<style scoped>\n",
       "    .dataframe tbody tr th:only-of-type {\n",
       "        vertical-align: middle;\n",
       "    }\n",
       "\n",
       "    .dataframe tbody tr th {\n",
       "        vertical-align: top;\n",
       "    }\n",
       "\n",
       "    .dataframe thead th {\n",
       "        text-align: right;\n",
       "    }\n",
       "</style>\n",
       "<table border=\"1\" class=\"dataframe\">\n",
       "  <thead>\n",
       "    <tr style=\"text-align: right;\">\n",
       "      <th></th>\n",
       "      <th>mut_count</th>\n",
       "      <th>tum_median_expression</th>\n",
       "      <th>healthy_median_expression</th>\n",
       "    </tr>\n",
       "  </thead>\n",
       "  <tbody>\n",
       "    <tr>\n",
       "      <th>BNC1</th>\n",
       "      <td>7.0</td>\n",
       "      <td>NaN</td>\n",
       "      <td>13.012142</td>\n",
       "    </tr>\n",
       "    <tr>\n",
       "      <th>HES2</th>\n",
       "      <td>1.0</td>\n",
       "      <td>NaN</td>\n",
       "      <td>20.831714</td>\n",
       "    </tr>\n",
       "  </tbody>\n",
       "</table>\n",
       "</div>"
      ],
      "text/plain": [
       "      mut_count  tum_median_expression  healthy_median_expression\n",
       "BNC1        7.0                    NaN                  13.012142\n",
       "HES2        1.0                    NaN                  20.831714"
      ]
     },
     "metadata": {},
     "output_type": "display_data"
    }
   ],
   "source": [
    "num_genes = 100\n",
    "all_ctrls = {}\n",
    "for ctrl_exp in ctrl_exps.values():\n",
    "    all_exps = {}\n",
    "    for exp in ctrl_exp[\"exps\"].values():\n",
    "        exp_genes = []\n",
    "        for modCon in exp.gt_modCons.values():\n",
    "            top_100 = modCon.sort_values(by=[\"ModCon_{}_gt\".format(exp.type)], ascending=False).index.values[:num_genes]\n",
    "            exp_genes.extend(top_100)\n",
    "\n",
    "        # tf exploration\n",
    "        tf_used = set(exp_genes) & set(tf_list)\n",
    "        if all_exps:\n",
    "            all_exps = tf_used & all_exps\n",
    "        else:\n",
    "            all_exps = tf_used\n",
    "\n",
    "    if all_ctrls:\n",
    "        all_ctrls = all_exps & all_ctrls\n",
    "    else:\n",
    "        all_ctrls = all_exps\n",
    "\n",
    "# To save the list\n",
    "if True:\n",
    "    dmy_df = pd.DataFrame(index=list(all_ctrls))\n",
    "    dmy_df[\"mut_count\"] = tcga_mutations_df[\"count\"]\n",
    "    sel_tum_df = all_tum_tpms.loc[all_tum_tpms.index.isin(list(all_ctrls))]\n",
    "    sel_h_df = exp.tpm_df.loc[exp.tpm_df.index.isin(list(all_ctrls))]\n",
    "\n",
    "    dmy_df[\"tum_median_expression\"] = sel_tum_df.median(axis=1)\n",
    "    dmy_df[\"healthy_median_expression\"] = sel_h_df.median(axis=1)\n",
    "\n",
    "    dmy_df[\"tum_mean_expression\"] = sel_tum_df.mean(axis=1)\n",
    "    dmy_df[\"healthy_mean_expression\"] = sel_h_df.mean(axis=1)\n",
    "\n",
    "    dmy_df[\"tum_std_expression\"] = sel_tum_df.std(axis=1)\n",
    "    dmy_df[\"healthy_std_expression\"] = sel_h_df.std(axis=1)\n",
    "\n",
    "    # Some interesting info\n",
    "    print(\"TFs mutated but not expressed: \")\n",
    "    display(dmy_df[dmy_df[\"tum_median_expression\"].isna()])\n",
    "\n",
    "    dmy_df.fillna(0, inplace=True)\n",
    "    dmy_df.to_csv(data_base + \"tf_ctrl.csv\")"
   ]
  },
  {
   "cell_type": "code",
   "execution_count": 102,
   "metadata": {},
   "outputs": [
    {
     "name": "stdout",
     "output_type": "stream",
     "text": [
      "TFs mutated but not expressed: \n"
     ]
    },
    {
     "data": {
      "text/html": [
       "<div>\n",
       "<style scoped>\n",
       "    .dataframe tbody tr th:only-of-type {\n",
       "        vertical-align: middle;\n",
       "    }\n",
       "\n",
       "    .dataframe tbody tr th {\n",
       "        vertical-align: top;\n",
       "    }\n",
       "\n",
       "    .dataframe thead th {\n",
       "        text-align: right;\n",
       "    }\n",
       "</style>\n",
       "<table border=\"1\" class=\"dataframe\">\n",
       "  <thead>\n",
       "    <tr style=\"text-align: right;\">\n",
       "      <th></th>\n",
       "      <th>mut_count</th>\n",
       "      <th>tum_median_expression</th>\n",
       "      <th>healthy_median_expression</th>\n",
       "      <th>tum_mean_expression</th>\n",
       "      <th>healthy_mean_expression</th>\n",
       "      <th>tum_std_expression</th>\n",
       "      <th>healthy_std_expression</th>\n",
       "    </tr>\n",
       "  </thead>\n",
       "  <tbody>\n",
       "    <tr>\n",
       "      <th>BNC1</th>\n",
       "      <td>7.0</td>\n",
       "      <td>NaN</td>\n",
       "      <td>13.012142</td>\n",
       "      <td>NaN</td>\n",
       "      <td>27.664774</td>\n",
       "      <td>NaN</td>\n",
       "      <td>37.200816</td>\n",
       "    </tr>\n",
       "    <tr>\n",
       "      <th>HES2</th>\n",
       "      <td>1.0</td>\n",
       "      <td>NaN</td>\n",
       "      <td>20.831714</td>\n",
       "      <td>NaN</td>\n",
       "      <td>43.486837</td>\n",
       "      <td>NaN</td>\n",
       "      <td>55.283490</td>\n",
       "    </tr>\n",
       "  </tbody>\n",
       "</table>\n",
       "</div>"
      ],
      "text/plain": [
       "      mut_count  tum_median_expression  healthy_median_expression  \\\n",
       "BNC1        7.0                    NaN                  13.012142   \n",
       "HES2        1.0                    NaN                  20.831714   \n",
       "\n",
       "      tum_mean_expression  healthy_mean_expression  tum_std_expression  \\\n",
       "BNC1                  NaN                27.664774                 NaN   \n",
       "HES2                  NaN                43.486837                 NaN   \n",
       "\n",
       "      healthy_std_expression  \n",
       "BNC1               37.200816  \n",
       "HES2               55.283490  "
      ]
     },
     "metadata": {},
     "output_type": "display_data"
    }
   ],
   "source": [
    "dmy_df[\"mut_count\"] = tcga_mutations_df[\"count\"]\n",
    "sel_tum_df = all_tum_tpms.loc[all_tum_tpms.index.isin(list(all_ctrls))]\n",
    "sel_h_df = exp.tpm_df.loc[exp.tpm_df.index.isin(list(all_ctrls))]\n",
    "\n",
    "dmy_df[\"tum_median_expression\"] = sel_tum_df.median(axis=1)\n",
    "dmy_df[\"healthy_median_expression\"] = sel_h_df.median(axis=1)\n",
    "\n",
    "dmy_df[\"tum_mean_expression\"] = sel_tum_df.mean(axis=1)\n",
    "dmy_df[\"healthy_mean_expression\"] = sel_h_df.mean(axis=1)\n",
    "\n",
    "dmy_df[\"tum_std_expression\"] = sel_tum_df.std(axis=1)\n",
    "dmy_df[\"healthy_std_expression\"] = sel_h_df.std(axis=1)\n",
    "\n",
    "# Some interesting info\n",
    "print(\"TFs mutated but not expressed: \")\n",
    "display(dmy_df[dmy_df[\"tum_median_expression\"].isna()])\n",
    "\n",
    "dmy_df.fillna(0, inplace=True)\n",
    "dmy_df.to_csv(data_base + \"tf_ctrl.csv\")"
   ]
  },
  {
   "cell_type": "code",
   "execution_count": 168,
   "metadata": {},
   "outputs": [],
   "source": [
    "tst_df = dmy_df.reset_index(names=\"gene\")\n",
    "tst_df = tst_df[~tst_df[\"gene\"].isin([\"ELF3\", \"JUNB\"])]\n",
    "fig = px.scatter(\n",
    "    tst_df,\n",
    "    x=\"tum_mean_expression\",\n",
    "    y=\"healthy_mean_expression\",\n",
    "    # error_x=\"tum_std_expression\",\n",
    "    # error_y=\"healthy_std_expression\",\n",
    "    # text=\"gene\",\n",
    "    color=\"mut_count\",\n",
    "    size=\"mut_count\",\n",
    "    hover_data=\"gene\",\n",
    "    height=700,\n",
    ")\n",
    "# Get the top 10 genes with highest healthy median expression\n",
    "top_genes_h = tst_df.nlargest(10, \"healthy_median_expression\")[\"gene\"].tolist()\n",
    "top_genes_t = tst_df.nlargest(10, \"tum_median_expression\")[\"gene\"].tolist()\n",
    "top_genes_m = tst_df.nlargest(10, \"mut_count\")[\"gene\"].tolist()\n",
    "\n",
    "top_genes = list(set(top_genes_h + top_genes_t + top_genes_m))\n",
    "top_genes.extend([\"FOSL1\", \"FOXQ1\", \"ERF\", \"MYCL\", \"STAT2\", \"IRF7\", \"CIC\", \"MBD6\", \"ZNF750\", \"ZNF513\"])\n",
    "chg_genes = [\"KMT2A\", \"SPEN\", \"MEDCOM\", \"ERF\", \"AHR\", \"STAT2\", \"MBD6\", \"ZNF513\", \"TRERF1\"]\n",
    "# Add text annotation for the top 10 genes\n",
    "for idx, gene in enumerate(top_genes):\n",
    "    x = tst_df.loc[tst_df[\"gene\"] == gene, \"tum_mean_expression\"].values[0]\n",
    "    y = tst_df.loc[tst_df[\"gene\"] == gene, \"healthy_mean_expression\"].values[0]\n",
    "    ay = -30\n",
    "    if idx % 2:\n",
    "        ax = 5\n",
    "    else:\n",
    "        ax = -5\n",
    "\n",
    "    if gene in chg_genes:\n",
    "        ax = -ax\n",
    "        ay = -ay\n",
    "\n",
    "    fig.add_annotation(x=x, y=y, text=gene, showarrow=True, arrowhead=1, ax=ax, ay=ay)\n",
    "\n",
    "save_fig(name=\"ctrlTFs\", fig=fig, width=1600, height=700, base_path=figures_path)"
   ]
  },
  {
   "cell_type": "markdown",
   "metadata": {},
   "source": [
    "# Visualise SBM"
   ]
  },
  {
   "cell_type": "code",
   "execution_count": null,
   "metadata": {},
   "outputs": [],
   "source": [
    "def callback(self, g, keyval, picked, pos, vprops, eprops):\n",
    "    # label\n",
    "    if type(picked) != gt.VertexPropertyMap:\n",
    "        print(\"{}. Comm {}. Mut {}. Idx {}\".format(g.vp.gene[picked], g.vp.max_b[picked], g.vp.mut_count[picked], picked))"
   ]
  },
  {
   "cell_type": "code",
   "execution_count": null,
   "metadata": {},
   "outputs": [],
   "source": [
    "gt_exp = h_exps[\"6\"]\n",
    "gt_exp.layout()\n",
    "gt_exp.add_vp(mut_df=tcga_mutations_df)\n",
    "pos = gt_exp.pos\n",
    "gt_g = gt_exp.gt_g\n",
    "pv = gt_exp.states[0][\"pv\"]\n",
    "pmode = gt_exp.states[0][\"pmode\"]\n",
    "\n",
    "gt_g = gt_exp.gt_g\n",
    "state = gt.BlockState(gt_g, recs=[gt_g.ep.weight], rec_types=[\"real-exponential\"])"
   ]
  },
  {
   "cell_type": "code",
   "execution_count": 52,
   "metadata": {},
   "outputs": [
    {
     "name": "stdout",
     "output_type": "stream",
     "text": [
      "ENSG00000225886. Comm 23. Mut 0. Idx 1236\n",
      "IFI27. Comm 23. Mut 0. Idx 1569\n",
      "IFI27. Comm 23. Mut 0. Idx 1569\n",
      "IFI27. Comm 23. Mut 0. Idx 1569\n",
      "S100A4. Comm 20. Mut 1. Idx 3957\n",
      "KANSL1. Comm 15. Mut 23. Idx 4247\n",
      "SCAF1. Comm 15. Mut 7. Idx 145\n"
     ]
    }
   ],
   "source": [
    "# interactive session\n",
    "if False:\n",
    "    state.draw(\n",
    "        pos=pos,\n",
    "        vertex_shape=\"pie\",\n",
    "        vertex_pie_fractions=pv,\n",
    "        inline=False,\n",
    "        nodeFirst=True,\n",
    "        # aspect=0.4,\n",
    "        ink_scale=0.4,\n",
    "        vertex_text=gt_g.vp.gene,\n",
    "        display_props=gt_g.vp.gene,\n",
    "        output_size=(2000, 2000),  # debugging\n",
    "        #### Nodes properties\n",
    "        # vertex_size=gt.prop_to_size(gt_g.vp.mut_count, 1, 20, power=1),\n",
    "        vertex_font_size=gt.prop_to_size(gt_g.vp.mut_count, 10, 14, power=1.0),  # 5, 30 for notebook  viz\n",
    "        ##### edges properties\n",
    "        # edge_color=gt.prop_to_size(gt_g.ep.weight, power=1, log=True),\n",
    "        edge_pen_width=gt.prop_to_size(gt_g.ep.weight, 0, 3, power=0.1),\n",
    "        # edge_gradient=[],\n",
    "        # vorder=gt_g.vp.mut_count,\n",
    "        key_press_callback=callback,\n",
    "        # text_out_width=0.1,\n",
    "    )"
   ]
  },
  {
   "cell_type": "code",
   "execution_count": null,
   "metadata": {},
   "outputs": [],
   "source": [
    "# Config to save it as PDF\n",
    "state.draw(\n",
    "    pos=pos,\n",
    "    vertex_shape=\"pie\",\n",
    "    vertex_pie_fractions=pv,\n",
    "    inline=False,\n",
    "    vertex_text=gt_g.vp.gene,\n",
    "    display_props=gt_g.vp.gene,\n",
    "    output_size=(8000, 8000),  # good to visualised in Notebook\n",
    "    #### Nodes properties\n",
    "    vertex_size=gt.prop_to_size(gt_g.vp.mut_count, 1, 20, power=1),\n",
    "    vertex_font_size=gt.prop_to_size(gt_g.vp.mut_count, 14, 24, power=1.0), \n",
    "    ##### edges properties\n",
    "    edge_pen_width=gt.prop_to_size(gt_g.ep.weight, 0, 1, power=0.1),\n",
    "    key_press_callback=callback,\n",
    "    output=figures_path + \"sbm_h_tf6_5K.pdf\",\n",
    ")"
   ]
  },
  {
   "cell_type": "markdown",
   "metadata": {},
   "source": [
    "## Clustering analysis"
   ]
  },
  {
   "cell_type": "code",
   "execution_count": 228,
   "metadata": {},
   "outputs": [],
   "source": [
    "# print(list(gt_exp.tpm_df.sort_index().index.values))\n",
    "ensg_genes = gt_exp.tpm_df.reset_index()[gt_exp.tpm_df.reset_index()[\"genes\"].str.contains(\"ENSG\")].set_index(\"genes\")\n",
    "# ensg_genes[\"mut_count\"] = tcga_mutations_df[\"count\"]"
   ]
  },
  {
   "cell_type": "markdown",
   "metadata": {},
   "source": [
    "# Go enrichment"
   ]
  },
  {
   "cell_type": "code",
   "execution_count": 9,
   "metadata": {},
   "outputs": [],
   "source": [
    "from gseapy.plot import dualplot\n",
    "import gseapy as gp"
   ]
  },
  {
   "cell_type": "code",
   "execution_count": 39,
   "metadata": {},
   "outputs": [],
   "source": [
    "def get_pathways(com, exp, gt_graph: False, output_dir=None):\n",
    "    if gt_graph:\n",
    "        g_com = exp.gt_modCons[com].index.values\n",
    "    else:\n",
    "        g_com = exp.modCons[com].index.values\n",
    "\n",
    "    enrich_r = gp.enrichr(\n",
    "        gene_list=list(g_com),  # it needs to be a list\n",
    "        gene_sets=[\"Reactome_2022\", \"Panther_2016\"],\n",
    "        organism=\"Human\",\n",
    "        top_term=20,\n",
    "        outdir=output_dir,\n",
    "        no_plot=True,\n",
    "        expName=\"Comm_{}\".format(com),\n",
    "    )\n",
    "\n",
    "    return enrich_r, list(g_com)\n",
    "\n",
    "\n",
    "def process_enrichr(enrich_r):\n",
    "    dmy = enrich_r.results.copy(deep=True)\n",
    "    dmy = pd.concat([dmy, dmy[\"Overlap\"].str.split(\"/\", expand=True).rename(columns={0: \"Matched\", 1: \"Ref\"})], axis=1)\n",
    "    dmy[\"Ratio\"] = (dmy[\"Matched\"].astype(int) / dmy[\"Ref\"].astype(int)).round(3)\n",
    "    reorder_cols = [\n",
    "        \"Term\",\n",
    "        \"Overlap\",\n",
    "        \"Ratio\",\n",
    "        \"P-value\",\n",
    "        \"Adjusted P-value\",\n",
    "        \"Genes\",\n",
    "        \"Matched\",\n",
    "        \"Ref\",\n",
    "        \"Old P-value\",\n",
    "        \"Old Adjusted P-value\",\n",
    "        \"Odds Ratio\",\n",
    "        \"Gene_set\",\n",
    "    ]\n",
    "    dmy = dmy[reorder_cols]\n",
    "\n",
    "    return dmy\n",
    "\n",
    "\n",
    "def plot_enrich(filtered_df, com, exp, savePath=None):\n",
    "    title_dot = \"enrichment for {} in {}\".format(com, exp.type)\n",
    "    top_term = 10\n",
    "    cutoff = 0.05\n",
    "    figsize = (3, 3)\n",
    "\n",
    "    if not os.path.exists(savePath):\n",
    "        os.makedirs(savePath)\n",
    "\n",
    "    ax_dot = dualplot(\n",
    "        filtered_df,\n",
    "        column=\"Adjusted P-value\",\n",
    "        columnBar=\"Ratio\",\n",
    "        x=\"Gene_set\",  # set x axis, so you could do a multi-sample/library comparsion\n",
    "        size=12,\n",
    "        top_term=top_term,\n",
    "        figsize=figsize,\n",
    "        title=title_dot,\n",
    "        xticklabels_rot=45,  # rotate xtick labels\n",
    "        show_ring=True,  # set to False to revmove outer ring\n",
    "        marker=\"o\",\n",
    "        cutoff=cutoff,\n",
    "        cutoffBar=1.0,  # needs to be able to show up to 100% match\n",
    "        colorBar=[\"darkred\", \"darkblue\"],\n",
    "        group=\"Gene_set\",\n",
    "        ofname=\"{}/Com_{}_dualPlot.png\".format(savePath, com) if savePath else None,\n",
    "    )\n",
    "\n",
    "    return ax_dot\n",
    "\n",
    "\n",
    "def get_sig_pathways(pathways, df, gene_set=\"Reactome_2022\", sort_cols=[\"Adjusted P-value\", \"Ratio\"], ascending=True):\n",
    "    dmy = df.loc[df[\"Gene_set\"] == gene_set].sort_values(by=sort_cols, ascending=ascending).head(10)\n",
    "    for _, row in dmy.iterrows():\n",
    "        key_term = row[\"Term\"][: row[\"Term\"].find(\"R-\")]\n",
    "        key_term = key_term[: key_term.find(\"Homo\") :]\n",
    "        key_term = key_term.replace(\"pathway\", \"\")\n",
    "\n",
    "        if gene_set == \"Reactome_2022\":\n",
    "            pathways[\"{}_R\".format(key_term)] = '[\"{}\"]'.format('\",\"'.join(row[\"Genes\"].split(\";\")))\n",
    "            # pathways[\"{}_R\".format(key_term)] = row[\"Genes\"].split(\";\")\n",
    "        else:\n",
    "            pathways[\"{}_P\".format(key_term)] = '[\"{}\"]'.format('\",\"'.join(row[\"Genes\"].split(\";\")))\n",
    "            # pathways[\"{}_P\".format(key_term)] = row[\"Genes\"].split(\";\")\n",
    "\n",
    "    return pathways"
   ]
  },
  {
   "cell_type": "code",
   "execution_count": 11,
   "metadata": {},
   "outputs": [],
   "source": [
    "go_lib = {\n",
    "    \"cell\": \"GO_Cellular_Component_2023\",  # cellular component\n",
    "    \"process\": \"GO_Biological_Process_2023\",  # biological process\n",
    "    \"molecular\": \"GO_Molecular_Function_2023\",  # molecular function\n",
    "}\n",
    "pathways = {\n",
    "    \"reactome\": \"Reactome_2022\",\n",
    "    \"panther\": \"Panther_2016\",\n",
    "}"
   ]
  },
  {
   "cell_type": "code",
   "execution_count": 12,
   "metadata": {},
   "outputs": [],
   "source": [
    "# To be used only when single network is used\n",
    "gt_exp = h_exps[\"6\"]\n",
    "sort_col = \"ModCon_{}_gt\".format(gt_exp.type)\n",
    "gt_exp.add_vp()\n",
    "\n",
    "gt_modCon = gt_exp.get_ModCon()\n",
    "gt_exp.mevsMut, _ = gt_exp.get_mevs(tpms=all_tum_tpms, modCon=gt_modCon, sort_col=sort_col, num_genes=100, verbose=False)"
   ]
  },
  {
   "cell_type": "code",
   "execution_count": 13,
   "metadata": {},
   "outputs": [
    {
     "name": "stdout",
     "output_type": "stream",
     "text": [
      "Comm 14.0. No (adujsted) significant p-values.\n",
      "Comm 17.0. No (adujsted) significant p-values.\n",
      "Comm 20.0. No (adujsted) significant p-values.\n",
      "Comm 22.0. No (adujsted) significant p-values.\n",
      "Comm 26.0. No (adujsted) significant p-values.\n",
      "Comm 30.0. No (adujsted) significant p-values.\n"
     ]
    }
   ],
   "source": [
    "# gt_exp = h_exps[\"6\"] #this to be used when all experiments are loaded\n",
    "output_dir = \"{}/GeneOntology/{}/\".format(figures_path, \"6TF\", gt_exp.type)\n",
    "\n",
    "enrich_objs = {}\n",
    "for com in gt_exp.gt_modCons.keys():\n",
    "    enrich_r, genes = get_pathways(com=com, exp=gt_exp, gt_graph=True, output_dir=None)\n",
    "    enrich_df = process_enrichr(enrich_r)\n",
    "\n",
    "    enrich_objs[com] = {\"enrich_r\": enrich_r, \"df\": enrich_df, \"genes\": genes}\n",
    "\n",
    "    filtered_df = enrich_df[enrich_df[\"Adjusted P-value\"] < 0.05]\n",
    "    if output_dir != None:\n",
    "        if filtered_df.shape[0]:\n",
    "            fig = plot_enrich(filtered_df, com=int(com), exp=gt_exp, savePath=output_dir)\n",
    "\n",
    "        else:\n",
    "            print(\"Comm {}. No (adujsted) significant p-values.\".format(com))"
   ]
  },
  {
   "cell_type": "code",
   "execution_count": 14,
   "metadata": {},
   "outputs": [
    {
     "name": "stdout",
     "output_type": "stream",
     "text": [
      "\"TP53 Regulates Transcription Of Death Receptors And Ligands_R\": ['TNFRSF10C', 'TP53', 'TNFRSF10D'],\n"
     ]
    }
   ],
   "source": [
    "import ast\n",
    "\n",
    "filters = {}\n",
    "com = 23\n",
    "exp_enr = enrich_objs[com]\n",
    "enrich = exp_enr[\"enrich_r\"]\n",
    "df = exp_enr[\"df\"]\n",
    "f_df = df[df[\"Adjusted P-value\"] < 0.05].copy(deep=True)\n",
    "\n",
    "pathways = get_sig_pathways({}, f_df, gene_set=\"Reactome_2022\", sort_cols=[\"Ratio\"], ascending=False)\n",
    "pathways = get_sig_pathways(pathways, f_df, gene_set=\"Panther_2016\", sort_cols=[\"Ratio\"], ascending=False)\n",
    "\n",
    "pathways = get_sig_pathways(pathways, f_df, gene_set=\"Reactome_2022\", sort_cols=[\"Adjusted P-value\"])\n",
    "pathways = get_sig_pathways(pathways, f_df, gene_set=\"Panther_2016\", sort_cols=[\"Adjusted P-value\"])\n",
    "filters[str(com)] = pathways\n",
    "\n",
    "# easy to put to gephi\n",
    "converted_dict = {key: ast.literal_eval(value) for key, value in filters[str(com)].items()}\n",
    "for key, value in converted_dict.items():\n",
    "    print(f'\"{key}\": {value},')"
   ]
  },
  {
   "cell_type": "markdown",
   "metadata": {},
   "source": [
    "### Export SBM to Gephi"
   ]
  },
  {
   "cell_type": "code",
   "execution_count": 2,
   "metadata": {},
   "outputs": [
    {
     "ename": "NameError",
     "evalue": "name 'gt_exp' is not defined",
     "output_type": "error",
     "traceback": [
      "\u001b[0;31m---------------------------------------------------------------------------\u001b[0m",
      "\u001b[0;31mNameError\u001b[0m                                 Traceback (most recent call last)",
      "\u001b[1;32m/Users/vlad/Documents/Code/York/iNet/NB/Clean/CN_SBM_allHealty.ipynb Cell 55\u001b[0m line \u001b[0;36m1\n\u001b[0;32m----> <a href='vscode-notebook-cell:/Users/vlad/Documents/Code/York/iNet/NB/Clean/CN_SBM_allHealty.ipynb#Y105sZmlsZQ%3D%3D?line=0'>1</a>\u001b[0m results_df \u001b[39m=\u001b[39m gt_exp\u001b[39m.\u001b[39mget_stable_genes(state_idx\u001b[39m=\u001b[39m\u001b[39m0\u001b[39m, prob_th\u001b[39m=\u001b[39m\u001b[39m0.75\u001b[39m)\n\u001b[1;32m      <a href='vscode-notebook-cell:/Users/vlad/Documents/Code/York/iNet/NB/Clean/CN_SBM_allHealty.ipynb#Y105sZmlsZQ%3D%3D?line=1'>2</a>\u001b[0m results_df[\u001b[39m\"\u001b[39m\u001b[39mstable_gene_num\u001b[39m\u001b[39m\"\u001b[39m] \u001b[39m=\u001b[39m \u001b[39m0\u001b[39m\n\u001b[1;32m      <a href='vscode-notebook-cell:/Users/vlad/Documents/Code/York/iNet/NB/Clean/CN_SBM_allHealty.ipynb#Y105sZmlsZQ%3D%3D?line=2'>3</a>\u001b[0m results_df\u001b[39m.\u001b[39mloc[results_df[\u001b[39m\"\u001b[39m\u001b[39mstable_gene\u001b[39m\u001b[39m\"\u001b[39m] \u001b[39m==\u001b[39m \u001b[39m\"\u001b[39m\u001b[39mwobble\u001b[39m\u001b[39m\"\u001b[39m, \u001b[39m\"\u001b[39m\u001b[39mstable_gene_num\u001b[39m\u001b[39m\"\u001b[39m] \u001b[39m=\u001b[39m \u001b[39m1\u001b[39m\n",
      "\u001b[0;31mNameError\u001b[0m: name 'gt_exp' is not defined"
     ]
    }
   ],
   "source": [
    "results_df = gt_exp.get_stable_genes(state_idx=0, prob_th=0.75)\n",
    "results_df[\"stable_gene_num\"] = 0\n",
    "results_df.loc[results_df[\"stable_gene\"] == \"wobble\", \"stable_gene_num\"] = 1\n",
    "results_df[\"stable_gene\"].value_counts()\n",
    "\n",
    "gt_exp.export_to_gephi(save=False, sbm_df=results_df, state_idx=0)"
   ]
  },
  {
   "cell_type": "code",
   "execution_count": 1,
   "metadata": {},
   "outputs": [
    {
     "ename": "NameError",
     "evalue": "name 'results_df' is not defined",
     "output_type": "error",
     "traceback": [
      "\u001b[0;31m---------------------------------------------------------------------------\u001b[0m",
      "\u001b[0;31mNameError\u001b[0m                                 Traceback (most recent call last)",
      "\u001b[1;32m/Users/vlad/Documents/Code/York/iNet/NB/Clean/CN_SBM_allHealty.ipynb Cell 56\u001b[0m line \u001b[0;36m1\n\u001b[0;32m----> <a href='vscode-notebook-cell:/Users/vlad/Documents/Code/York/iNet/NB/Clean/CN_SBM_allHealty.ipynb#Y125sZmlsZQ%3D%3D?line=0'>1</a>\u001b[0m results_df\n",
      "\u001b[0;31mNameError\u001b[0m: name 'results_df' is not defined"
     ]
    }
   ],
   "source": [
    "results_df"
   ]
  },
  {
   "cell_type": "markdown",
   "metadata": {},
   "source": [
    "## Partition Prob"
   ]
  },
  {
   "cell_type": "code",
   "execution_count": 16,
   "metadata": {},
   "outputs": [
    {
     "data": {
      "application/vnd.plotly.v1+json": {
       "config": {
        "plotlyServerURL": "https://plot.ly"
       },
       "data": [
        {
         "alignmentgroup": "True",
         "hovertemplate": "x=%{x}<br>y=%{y}<extra></extra>",
         "legendgroup": "",
         "marker": {
          "color": "#636efa",
          "pattern": {
           "shape": ""
          }
         },
         "name": "",
         "offsetgroup": "",
         "orientation": "v",
         "showlegend": false,
         "textposition": "auto",
         "type": "bar",
         "x": [
          "31"
         ],
         "xaxis": "x",
         "y": [
          0.9985714285714286
         ],
         "yaxis": "y"
        }
       ],
       "layout": {
        "barmode": "relative",
        "legend": {
         "tracegroupgap": 0
        },
        "template": {
         "data": {
          "bar": [
           {
            "error_x": {
             "color": "#2a3f5f"
            },
            "error_y": {
             "color": "#2a3f5f"
            },
            "marker": {
             "line": {
              "color": "#E5ECF6",
              "width": 0.5
             },
             "pattern": {
              "fillmode": "overlay",
              "size": 10,
              "solidity": 0.2
             }
            },
            "type": "bar"
           }
          ],
          "barpolar": [
           {
            "marker": {
             "line": {
              "color": "#E5ECF6",
              "width": 0.5
             },
             "pattern": {
              "fillmode": "overlay",
              "size": 10,
              "solidity": 0.2
             }
            },
            "type": "barpolar"
           }
          ],
          "carpet": [
           {
            "aaxis": {
             "endlinecolor": "#2a3f5f",
             "gridcolor": "white",
             "linecolor": "white",
             "minorgridcolor": "white",
             "startlinecolor": "#2a3f5f"
            },
            "baxis": {
             "endlinecolor": "#2a3f5f",
             "gridcolor": "white",
             "linecolor": "white",
             "minorgridcolor": "white",
             "startlinecolor": "#2a3f5f"
            },
            "type": "carpet"
           }
          ],
          "choropleth": [
           {
            "colorbar": {
             "outlinewidth": 0,
             "ticks": ""
            },
            "type": "choropleth"
           }
          ],
          "contour": [
           {
            "colorbar": {
             "outlinewidth": 0,
             "ticks": ""
            },
            "colorscale": [
             [
              0,
              "#0d0887"
             ],
             [
              0.1111111111111111,
              "#46039f"
             ],
             [
              0.2222222222222222,
              "#7201a8"
             ],
             [
              0.3333333333333333,
              "#9c179e"
             ],
             [
              0.4444444444444444,
              "#bd3786"
             ],
             [
              0.5555555555555556,
              "#d8576b"
             ],
             [
              0.6666666666666666,
              "#ed7953"
             ],
             [
              0.7777777777777778,
              "#fb9f3a"
             ],
             [
              0.8888888888888888,
              "#fdca26"
             ],
             [
              1,
              "#f0f921"
             ]
            ],
            "type": "contour"
           }
          ],
          "contourcarpet": [
           {
            "colorbar": {
             "outlinewidth": 0,
             "ticks": ""
            },
            "type": "contourcarpet"
           }
          ],
          "heatmap": [
           {
            "colorbar": {
             "outlinewidth": 0,
             "ticks": ""
            },
            "colorscale": [
             [
              0,
              "#0d0887"
             ],
             [
              0.1111111111111111,
              "#46039f"
             ],
             [
              0.2222222222222222,
              "#7201a8"
             ],
             [
              0.3333333333333333,
              "#9c179e"
             ],
             [
              0.4444444444444444,
              "#bd3786"
             ],
             [
              0.5555555555555556,
              "#d8576b"
             ],
             [
              0.6666666666666666,
              "#ed7953"
             ],
             [
              0.7777777777777778,
              "#fb9f3a"
             ],
             [
              0.8888888888888888,
              "#fdca26"
             ],
             [
              1,
              "#f0f921"
             ]
            ],
            "type": "heatmap"
           }
          ],
          "heatmapgl": [
           {
            "colorbar": {
             "outlinewidth": 0,
             "ticks": ""
            },
            "colorscale": [
             [
              0,
              "#0d0887"
             ],
             [
              0.1111111111111111,
              "#46039f"
             ],
             [
              0.2222222222222222,
              "#7201a8"
             ],
             [
              0.3333333333333333,
              "#9c179e"
             ],
             [
              0.4444444444444444,
              "#bd3786"
             ],
             [
              0.5555555555555556,
              "#d8576b"
             ],
             [
              0.6666666666666666,
              "#ed7953"
             ],
             [
              0.7777777777777778,
              "#fb9f3a"
             ],
             [
              0.8888888888888888,
              "#fdca26"
             ],
             [
              1,
              "#f0f921"
             ]
            ],
            "type": "heatmapgl"
           }
          ],
          "histogram": [
           {
            "marker": {
             "pattern": {
              "fillmode": "overlay",
              "size": 10,
              "solidity": 0.2
             }
            },
            "type": "histogram"
           }
          ],
          "histogram2d": [
           {
            "colorbar": {
             "outlinewidth": 0,
             "ticks": ""
            },
            "colorscale": [
             [
              0,
              "#0d0887"
             ],
             [
              0.1111111111111111,
              "#46039f"
             ],
             [
              0.2222222222222222,
              "#7201a8"
             ],
             [
              0.3333333333333333,
              "#9c179e"
             ],
             [
              0.4444444444444444,
              "#bd3786"
             ],
             [
              0.5555555555555556,
              "#d8576b"
             ],
             [
              0.6666666666666666,
              "#ed7953"
             ],
             [
              0.7777777777777778,
              "#fb9f3a"
             ],
             [
              0.8888888888888888,
              "#fdca26"
             ],
             [
              1,
              "#f0f921"
             ]
            ],
            "type": "histogram2d"
           }
          ],
          "histogram2dcontour": [
           {
            "colorbar": {
             "outlinewidth": 0,
             "ticks": ""
            },
            "colorscale": [
             [
              0,
              "#0d0887"
             ],
             [
              0.1111111111111111,
              "#46039f"
             ],
             [
              0.2222222222222222,
              "#7201a8"
             ],
             [
              0.3333333333333333,
              "#9c179e"
             ],
             [
              0.4444444444444444,
              "#bd3786"
             ],
             [
              0.5555555555555556,
              "#d8576b"
             ],
             [
              0.6666666666666666,
              "#ed7953"
             ],
             [
              0.7777777777777778,
              "#fb9f3a"
             ],
             [
              0.8888888888888888,
              "#fdca26"
             ],
             [
              1,
              "#f0f921"
             ]
            ],
            "type": "histogram2dcontour"
           }
          ],
          "mesh3d": [
           {
            "colorbar": {
             "outlinewidth": 0,
             "ticks": ""
            },
            "type": "mesh3d"
           }
          ],
          "parcoords": [
           {
            "line": {
             "colorbar": {
              "outlinewidth": 0,
              "ticks": ""
             }
            },
            "type": "parcoords"
           }
          ],
          "pie": [
           {
            "automargin": true,
            "type": "pie"
           }
          ],
          "scatter": [
           {
            "fillpattern": {
             "fillmode": "overlay",
             "size": 10,
             "solidity": 0.2
            },
            "type": "scatter"
           }
          ],
          "scatter3d": [
           {
            "line": {
             "colorbar": {
              "outlinewidth": 0,
              "ticks": ""
             }
            },
            "marker": {
             "colorbar": {
              "outlinewidth": 0,
              "ticks": ""
             }
            },
            "type": "scatter3d"
           }
          ],
          "scattercarpet": [
           {
            "marker": {
             "colorbar": {
              "outlinewidth": 0,
              "ticks": ""
             }
            },
            "type": "scattercarpet"
           }
          ],
          "scattergeo": [
           {
            "marker": {
             "colorbar": {
              "outlinewidth": 0,
              "ticks": ""
             }
            },
            "type": "scattergeo"
           }
          ],
          "scattergl": [
           {
            "marker": {
             "colorbar": {
              "outlinewidth": 0,
              "ticks": ""
             }
            },
            "type": "scattergl"
           }
          ],
          "scattermapbox": [
           {
            "marker": {
             "colorbar": {
              "outlinewidth": 0,
              "ticks": ""
             }
            },
            "type": "scattermapbox"
           }
          ],
          "scatterpolar": [
           {
            "marker": {
             "colorbar": {
              "outlinewidth": 0,
              "ticks": ""
             }
            },
            "type": "scatterpolar"
           }
          ],
          "scatterpolargl": [
           {
            "marker": {
             "colorbar": {
              "outlinewidth": 0,
              "ticks": ""
             }
            },
            "type": "scatterpolargl"
           }
          ],
          "scatterternary": [
           {
            "marker": {
             "colorbar": {
              "outlinewidth": 0,
              "ticks": ""
             }
            },
            "type": "scatterternary"
           }
          ],
          "surface": [
           {
            "colorbar": {
             "outlinewidth": 0,
             "ticks": ""
            },
            "colorscale": [
             [
              0,
              "#0d0887"
             ],
             [
              0.1111111111111111,
              "#46039f"
             ],
             [
              0.2222222222222222,
              "#7201a8"
             ],
             [
              0.3333333333333333,
              "#9c179e"
             ],
             [
              0.4444444444444444,
              "#bd3786"
             ],
             [
              0.5555555555555556,
              "#d8576b"
             ],
             [
              0.6666666666666666,
              "#ed7953"
             ],
             [
              0.7777777777777778,
              "#fb9f3a"
             ],
             [
              0.8888888888888888,
              "#fdca26"
             ],
             [
              1,
              "#f0f921"
             ]
            ],
            "type": "surface"
           }
          ],
          "table": [
           {
            "cells": {
             "fill": {
              "color": "#EBF0F8"
             },
             "line": {
              "color": "white"
             }
            },
            "header": {
             "fill": {
              "color": "#C8D4E3"
             },
             "line": {
              "color": "white"
             }
            },
            "type": "table"
           }
          ]
         },
         "layout": {
          "annotationdefaults": {
           "arrowcolor": "#2a3f5f",
           "arrowhead": 0,
           "arrowwidth": 1
          },
          "autotypenumbers": "strict",
          "coloraxis": {
           "colorbar": {
            "outlinewidth": 0,
            "ticks": ""
           }
          },
          "colorscale": {
           "diverging": [
            [
             0,
             "#8e0152"
            ],
            [
             0.1,
             "#c51b7d"
            ],
            [
             0.2,
             "#de77ae"
            ],
            [
             0.3,
             "#f1b6da"
            ],
            [
             0.4,
             "#fde0ef"
            ],
            [
             0.5,
             "#f7f7f7"
            ],
            [
             0.6,
             "#e6f5d0"
            ],
            [
             0.7,
             "#b8e186"
            ],
            [
             0.8,
             "#7fbc41"
            ],
            [
             0.9,
             "#4d9221"
            ],
            [
             1,
             "#276419"
            ]
           ],
           "sequential": [
            [
             0,
             "#0d0887"
            ],
            [
             0.1111111111111111,
             "#46039f"
            ],
            [
             0.2222222222222222,
             "#7201a8"
            ],
            [
             0.3333333333333333,
             "#9c179e"
            ],
            [
             0.4444444444444444,
             "#bd3786"
            ],
            [
             0.5555555555555556,
             "#d8576b"
            ],
            [
             0.6666666666666666,
             "#ed7953"
            ],
            [
             0.7777777777777778,
             "#fb9f3a"
            ],
            [
             0.8888888888888888,
             "#fdca26"
            ],
            [
             1,
             "#f0f921"
            ]
           ],
           "sequentialminus": [
            [
             0,
             "#0d0887"
            ],
            [
             0.1111111111111111,
             "#46039f"
            ],
            [
             0.2222222222222222,
             "#7201a8"
            ],
            [
             0.3333333333333333,
             "#9c179e"
            ],
            [
             0.4444444444444444,
             "#bd3786"
            ],
            [
             0.5555555555555556,
             "#d8576b"
            ],
            [
             0.6666666666666666,
             "#ed7953"
            ],
            [
             0.7777777777777778,
             "#fb9f3a"
            ],
            [
             0.8888888888888888,
             "#fdca26"
            ],
            [
             1,
             "#f0f921"
            ]
           ]
          },
          "colorway": [
           "#636efa",
           "#EF553B",
           "#00cc96",
           "#ab63fa",
           "#FFA15A",
           "#19d3f3",
           "#FF6692",
           "#B6E880",
           "#FF97FF",
           "#FECB52"
          ],
          "font": {
           "color": "#2a3f5f"
          },
          "geo": {
           "bgcolor": "white",
           "lakecolor": "white",
           "landcolor": "#E5ECF6",
           "showlakes": true,
           "showland": true,
           "subunitcolor": "white"
          },
          "hoverlabel": {
           "align": "left"
          },
          "hovermode": "closest",
          "mapbox": {
           "style": "light"
          },
          "paper_bgcolor": "white",
          "plot_bgcolor": "#E5ECF6",
          "polar": {
           "angularaxis": {
            "gridcolor": "white",
            "linecolor": "white",
            "ticks": ""
           },
           "bgcolor": "#E5ECF6",
           "radialaxis": {
            "gridcolor": "white",
            "linecolor": "white",
            "ticks": ""
           }
          },
          "scene": {
           "xaxis": {
            "backgroundcolor": "#E5ECF6",
            "gridcolor": "white",
            "gridwidth": 2,
            "linecolor": "white",
            "showbackground": true,
            "ticks": "",
            "zerolinecolor": "white"
           },
           "yaxis": {
            "backgroundcolor": "#E5ECF6",
            "gridcolor": "white",
            "gridwidth": 2,
            "linecolor": "white",
            "showbackground": true,
            "ticks": "",
            "zerolinecolor": "white"
           },
           "zaxis": {
            "backgroundcolor": "#E5ECF6",
            "gridcolor": "white",
            "gridwidth": 2,
            "linecolor": "white",
            "showbackground": true,
            "ticks": "",
            "zerolinecolor": "white"
           }
          },
          "shapedefaults": {
           "line": {
            "color": "#2a3f5f"
           }
          },
          "ternary": {
           "aaxis": {
            "gridcolor": "white",
            "linecolor": "white",
            "ticks": ""
           },
           "baxis": {
            "gridcolor": "white",
            "linecolor": "white",
            "ticks": ""
           },
           "bgcolor": "#E5ECF6",
           "caxis": {
            "gridcolor": "white",
            "linecolor": "white",
            "ticks": ""
           }
          },
          "title": {
           "x": 0.05
          },
          "xaxis": {
           "automargin": true,
           "gridcolor": "white",
           "linecolor": "white",
           "ticks": "",
           "title": {
            "standoff": 15
           },
           "zerolinecolor": "white",
           "zerolinewidth": 2
          },
          "yaxis": {
           "automargin": true,
           "gridcolor": "white",
           "linecolor": "white",
           "ticks": "",
           "title": {
            "standoff": 15
           },
           "zerolinecolor": "white",
           "zerolinewidth": 2
          }
         }
        },
        "title": {
         "text": "Marginal prob of the number of groups"
        },
        "xaxis": {
         "anchor": "y",
         "domain": [
          0,
          1
         ],
         "title": {
          "text": "x"
         }
        },
        "yaxis": {
         "anchor": "x",
         "domain": [
          0,
          1
         ],
         "title": {
          "text": "y"
         }
        }
       }
      }
     },
     "metadata": {},
     "output_type": "display_data"
    }
   ],
   "source": [
    "gt_exp.plot_partition_prob()"
   ]
  },
  {
   "cell_type": "markdown",
   "metadata": {},
   "source": [
    "# Clustering analysis"
   ]
  },
  {
   "cell_type": "code",
   "execution_count": 40,
   "metadata": {},
   "outputs": [
    {
     "name": "stdout",
     "output_type": "stream",
     "text": [
      "Variation per principal component [0.55728674 0.27211008] and the sum 82.94%\n",
      "Variation per principal component [0.55226687 0.28018675] and the sum 83.25%\n",
      "Variation per principal component [0.55491689 0.27757334] and the sum 83.25%\n"
     ]
    }
   ],
   "source": [
    "gt_exps = {}\n",
    "for key in [\"3\", \"6\", \"10\"]:\n",
    "    dmy_exp = h_exps[key]\n",
    "    sort_col = \"ModCon_{}_gt\".format(dmy_exp.type)\n",
    "    gt_modCon = dmy_exp.get_ModCon()\n",
    "    dmy_exp.mevsMut, _ = dmy_exp.get_mevs(tpms=all_tum_tpms, modCon=gt_modCon, sort_col=sort_col, num_genes=100, verbose=False)\n",
    "\n",
    "    cs_exp, fig_std, metrics = gh.run_clusters(dmy_exp, label=\"exp_tf{}\".format(key), show_figs=True)\n",
    "\n",
    "    gt_exps[key] = {\"exp\": dmy_exp, \"cs\": cs_exp}\n",
    "\n",
    "comb_cs = pd.concat([gt_exps[\"3\"][\"cs\"], gt_exps[\"6\"][\"cs\"], gt_exps[\"10\"][\"cs\"], vu_output], axis=1).dropna()\n",
    "\n",
    "# for single experiment\n",
    "if False:\n",
    "    tf = 6\n",
    "    gt_exp = h_exps[\"6\"]\n",
    "    sort_col = \"ModCon_{}_gt\".format(gt_exp.type)\n",
    "    gt_modCon = gt_exp.get_ModCon()\n",
    "    gt_exp.mevsMut, _ = gt_exp.get_mevs(tpms=all_tum_tpms, modCon=gt_modCon, sort_col=sort_col, num_genes=100, verbose=False)"
   ]
  },
  {
   "cell_type": "code",
   "execution_count": 41,
   "metadata": {},
   "outputs": [
    {
     "data": {
      "application/vnd.plotly.v1+json": {
       "config": {
        "plotlyServerURL": "https://plot.ly"
       },
       "data": [
        {
         "arrangement": "perpendicular",
         "link": {
          "color": "#bdbdbd",
          "source": [
           0,
           0,
           0,
           0,
           0,
           0,
           1,
           1,
           2,
           2,
           2,
           3,
           3,
           3,
           3,
           4,
           4,
           5,
           5,
           5,
           5,
           6,
           6,
           6,
           6,
           7,
           7,
           7,
           7,
           7,
           7,
           8,
           8,
           8,
           8,
           8,
           9,
           9,
           9,
           9,
           10,
           10,
           10,
           10,
           10,
           11,
           11,
           11,
           12,
           12,
           13,
           13,
           14,
           14,
           14,
           15,
           16,
           16,
           17,
           17,
           17,
           18,
           18,
           18,
           19,
           19,
           19,
           20,
           20,
           21,
           22,
           23,
           23,
           23,
           23,
           23,
           24,
           24,
           24,
           24,
           24,
           25,
           25,
           25,
           25,
           26,
           26,
           26,
           26,
           27,
           27,
           27,
           28,
           28,
           28,
           28
          ],
          "target": [
           5,
           6,
           7,
           8,
           9,
           10,
           7,
           10,
           7,
           8,
           10,
           6,
           7,
           8,
           10,
           7,
           10,
           11,
           13,
           14,
           16,
           11,
           12,
           13,
           14,
           11,
           12,
           13,
           14,
           15,
           16,
           11,
           12,
           13,
           15,
           16,
           11,
           12,
           13,
           14,
           11,
           12,
           13,
           14,
           16,
           17,
           19,
           21,
           17,
           18,
           18,
           19,
           17,
           19,
           20,
           21,
           20,
           22,
           23,
           26,
           27,
           23,
           24,
           25,
           23,
           25,
           27,
           27,
           28,
           26,
           28,
           32,
           33,
           34,
           29,
           31,
           32,
           33,
           34,
           29,
           31,
           32,
           34,
           30,
           31,
           33,
           34,
           29,
           31,
           32,
           30,
           31,
           32,
           33,
           34,
           31
          ],
          "value": [
           51,
           33,
           8,
           1,
           34,
           6,
           75,
           1,
           15,
           8,
           1,
           4,
           16,
           113,
           5,
           1,
           17,
           2,
           19,
           21,
           9,
           2,
           5,
           18,
           12,
           49,
           29,
           6,
           1,
           21,
           9,
           40,
           37,
           1,
           31,
           13,
           1,
           4,
           19,
           10,
           2,
           7,
           9,
           11,
           1,
           93,
           2,
           1,
           4,
           78,
           3,
           69,
           2,
           2,
           51,
           52,
           6,
           26,
           89,
           8,
           2,
           1,
           77,
           3,
           2,
           70,
           1,
           51,
           6,
           53,
           26,
           7,
           14,
           42,
           14,
           15,
           13,
           8,
           38,
           11,
           7,
           63,
           3,
           4,
           3,
           8,
           43,
           3,
           7,
           51,
           1,
           2,
           6,
           6,
           15,
           5
          ]
         },
         "node": {
          "color": [
           "rgb(229, 134, 6)",
           "rgb(229, 134, 6)",
           "rgb(229, 134, 6)",
           "rgb(229, 134, 6)",
           "rgb(229, 134, 6)",
           "rgb(93, 105, 177)",
           "rgb(93, 105, 177)",
           "rgb(93, 105, 177)",
           "rgb(93, 105, 177)",
           "rgb(93, 105, 177)",
           "rgb(93, 105, 177)",
           "rgb(82, 188, 163)",
           "rgb(82, 188, 163)",
           "rgb(82, 188, 163)",
           "rgb(82, 188, 163)",
           "rgb(82, 188, 163)",
           "rgb(82, 188, 163)",
           "rgb(153, 201, 69)",
           "rgb(153, 201, 69)",
           "rgb(153, 201, 69)",
           "rgb(153, 201, 69)",
           "rgb(153, 201, 69)",
           "rgb(153, 201, 69)",
           "rgb(204, 97, 176)",
           "rgb(204, 97, 176)",
           "rgb(204, 97, 176)",
           "rgb(204, 97, 176)",
           "rgb(204, 97, 176)",
           "rgb(204, 97, 176)",
           "rgb(36, 121, 108)",
           "rgb(36, 121, 108)",
           "rgb(36, 121, 108)",
           "rgb(36, 121, 108)",
           "rgb(36, 121, 108)",
           "rgb(36, 121, 108)"
          ],
          "label": [
           "Ba/Sq",
           "LumInf",
           "LumNS",
           "LumP",
           "NE-like",
           "High IFNG",
           "Low IFNG",
           "Lum Inf/NS",
           "LumP",
           "Med IFNG",
           "Ne",
           0,
           1,
           2,
           3,
           4,
           5,
           0,
           1,
           2,
           3,
           4,
           5,
           0,
           1,
           2,
           3,
           4,
           5,
           "LumU",
           "NE-like",
           "Stroma-rich",
           "Ba/Sq",
           "LumNS",
           "LumP"
          ],
          "line": {
           "color": "black",
           "width": 0.5
          },
          "pad": 15,
          "thickness": 20
         },
         "type": "sankey"
        }
       ],
       "layout": {
        "annotations": [
         {
          "align": "left",
          "font": {
           "color": "#003366",
           "size": 16
          },
          "showarrow": false,
          "text": "TCGA",
          "x": 0,
          "xref": "x",
          "y": 1.05,
          "yref": "paper"
         },
         {
          "align": "left",
          "font": {
           "color": "#003366",
           "size": 16
          },
          "showarrow": false,
          "text": "CA + IFNg",
          "x": 1,
          "xref": "x",
          "y": 1.05,
          "yref": "paper"
         },
         {
          "align": "left",
          "font": {
           "color": "#003366",
           "size": 16
          },
          "showarrow": false,
          "text": "SBM_3TF",
          "x": 2,
          "xref": "x",
          "y": 1.05,
          "yref": "paper"
         },
         {
          "align": "left",
          "font": {
           "color": "#003366",
           "size": 16
          },
          "showarrow": false,
          "text": "SBM_6TF",
          "x": 3,
          "xref": "x",
          "y": 1.05,
          "yref": "paper"
         },
         {
          "align": "left",
          "font": {
           "color": "#003366",
           "size": 16
          },
          "showarrow": false,
          "text": "SBM_10TF",
          "x": 4,
          "xref": "x",
          "y": 1.05,
          "yref": "paper"
         },
         {
          "align": "left",
          "font": {
           "color": "#003366",
           "size": 16
          },
          "showarrow": false,
          "text": "Consensus",
          "x": 5,
          "xref": "x",
          "y": 1.05,
          "yref": "paper"
         }
        ],
        "font": {
         "color": "#003366",
         "size": 16
        },
        "height": 600,
        "paper_bgcolor": "rgba(0,0,0,0)",
        "plot_bgcolor": "rgba(0,0,0,0)",
        "template": {
         "data": {
          "bar": [
           {
            "error_x": {
             "color": "rgb(51,51,51)"
            },
            "error_y": {
             "color": "rgb(51,51,51)"
            },
            "marker": {
             "line": {
              "color": "rgb(237,237,237)",
              "width": 0.5
             },
             "pattern": {
              "fillmode": "overlay",
              "size": 10,
              "solidity": 0.2
             }
            },
            "type": "bar"
           }
          ],
          "barpolar": [
           {
            "marker": {
             "line": {
              "color": "rgb(237,237,237)",
              "width": 0.5
             },
             "pattern": {
              "fillmode": "overlay",
              "size": 10,
              "solidity": 0.2
             }
            },
            "type": "barpolar"
           }
          ],
          "carpet": [
           {
            "aaxis": {
             "endlinecolor": "rgb(51,51,51)",
             "gridcolor": "white",
             "linecolor": "white",
             "minorgridcolor": "white",
             "startlinecolor": "rgb(51,51,51)"
            },
            "baxis": {
             "endlinecolor": "rgb(51,51,51)",
             "gridcolor": "white",
             "linecolor": "white",
             "minorgridcolor": "white",
             "startlinecolor": "rgb(51,51,51)"
            },
            "type": "carpet"
           }
          ],
          "choropleth": [
           {
            "colorbar": {
             "outlinewidth": 0,
             "tickcolor": "rgb(237,237,237)",
             "ticklen": 6,
             "ticks": "inside"
            },
            "type": "choropleth"
           }
          ],
          "contour": [
           {
            "colorbar": {
             "outlinewidth": 0,
             "tickcolor": "rgb(237,237,237)",
             "ticklen": 6,
             "ticks": "inside"
            },
            "colorscale": [
             [
              0,
              "rgb(20,44,66)"
             ],
             [
              1,
              "rgb(90,179,244)"
             ]
            ],
            "type": "contour"
           }
          ],
          "contourcarpet": [
           {
            "colorbar": {
             "outlinewidth": 0,
             "tickcolor": "rgb(237,237,237)",
             "ticklen": 6,
             "ticks": "inside"
            },
            "type": "contourcarpet"
           }
          ],
          "heatmap": [
           {
            "colorbar": {
             "outlinewidth": 0,
             "tickcolor": "rgb(237,237,237)",
             "ticklen": 6,
             "ticks": "inside"
            },
            "colorscale": [
             [
              0,
              "rgb(20,44,66)"
             ],
             [
              1,
              "rgb(90,179,244)"
             ]
            ],
            "type": "heatmap"
           }
          ],
          "heatmapgl": [
           {
            "colorbar": {
             "outlinewidth": 0,
             "tickcolor": "rgb(237,237,237)",
             "ticklen": 6,
             "ticks": "inside"
            },
            "colorscale": [
             [
              0,
              "rgb(20,44,66)"
             ],
             [
              1,
              "rgb(90,179,244)"
             ]
            ],
            "type": "heatmapgl"
           }
          ],
          "histogram": [
           {
            "marker": {
             "pattern": {
              "fillmode": "overlay",
              "size": 10,
              "solidity": 0.2
             }
            },
            "type": "histogram"
           }
          ],
          "histogram2d": [
           {
            "colorbar": {
             "outlinewidth": 0,
             "tickcolor": "rgb(237,237,237)",
             "ticklen": 6,
             "ticks": "inside"
            },
            "colorscale": [
             [
              0,
              "rgb(20,44,66)"
             ],
             [
              1,
              "rgb(90,179,244)"
             ]
            ],
            "type": "histogram2d"
           }
          ],
          "histogram2dcontour": [
           {
            "colorbar": {
             "outlinewidth": 0,
             "tickcolor": "rgb(237,237,237)",
             "ticklen": 6,
             "ticks": "inside"
            },
            "colorscale": [
             [
              0,
              "rgb(20,44,66)"
             ],
             [
              1,
              "rgb(90,179,244)"
             ]
            ],
            "type": "histogram2dcontour"
           }
          ],
          "mesh3d": [
           {
            "colorbar": {
             "outlinewidth": 0,
             "tickcolor": "rgb(237,237,237)",
             "ticklen": 6,
             "ticks": "inside"
            },
            "type": "mesh3d"
           }
          ],
          "parcoords": [
           {
            "line": {
             "colorbar": {
              "outlinewidth": 0,
              "tickcolor": "rgb(237,237,237)",
              "ticklen": 6,
              "ticks": "inside"
             }
            },
            "type": "parcoords"
           }
          ],
          "pie": [
           {
            "automargin": true,
            "type": "pie"
           }
          ],
          "scatter": [
           {
            "fillpattern": {
             "fillmode": "overlay",
             "size": 10,
             "solidity": 0.2
            },
            "type": "scatter"
           }
          ],
          "scatter3d": [
           {
            "line": {
             "colorbar": {
              "outlinewidth": 0,
              "tickcolor": "rgb(237,237,237)",
              "ticklen": 6,
              "ticks": "inside"
             }
            },
            "marker": {
             "colorbar": {
              "outlinewidth": 0,
              "tickcolor": "rgb(237,237,237)",
              "ticklen": 6,
              "ticks": "inside"
             }
            },
            "type": "scatter3d"
           }
          ],
          "scattercarpet": [
           {
            "marker": {
             "colorbar": {
              "outlinewidth": 0,
              "tickcolor": "rgb(237,237,237)",
              "ticklen": 6,
              "ticks": "inside"
             }
            },
            "type": "scattercarpet"
           }
          ],
          "scattergeo": [
           {
            "marker": {
             "colorbar": {
              "outlinewidth": 0,
              "tickcolor": "rgb(237,237,237)",
              "ticklen": 6,
              "ticks": "inside"
             }
            },
            "type": "scattergeo"
           }
          ],
          "scattergl": [
           {
            "marker": {
             "colorbar": {
              "outlinewidth": 0,
              "tickcolor": "rgb(237,237,237)",
              "ticklen": 6,
              "ticks": "inside"
             }
            },
            "type": "scattergl"
           }
          ],
          "scattermapbox": [
           {
            "marker": {
             "colorbar": {
              "outlinewidth": 0,
              "tickcolor": "rgb(237,237,237)",
              "ticklen": 6,
              "ticks": "inside"
             }
            },
            "type": "scattermapbox"
           }
          ],
          "scatterpolar": [
           {
            "marker": {
             "colorbar": {
              "outlinewidth": 0,
              "tickcolor": "rgb(237,237,237)",
              "ticklen": 6,
              "ticks": "inside"
             }
            },
            "type": "scatterpolar"
           }
          ],
          "scatterpolargl": [
           {
            "marker": {
             "colorbar": {
              "outlinewidth": 0,
              "tickcolor": "rgb(237,237,237)",
              "ticklen": 6,
              "ticks": "inside"
             }
            },
            "type": "scatterpolargl"
           }
          ],
          "scatterternary": [
           {
            "marker": {
             "colorbar": {
              "outlinewidth": 0,
              "tickcolor": "rgb(237,237,237)",
              "ticklen": 6,
              "ticks": "inside"
             }
            },
            "type": "scatterternary"
           }
          ],
          "surface": [
           {
            "colorbar": {
             "outlinewidth": 0,
             "tickcolor": "rgb(237,237,237)",
             "ticklen": 6,
             "ticks": "inside"
            },
            "colorscale": [
             [
              0,
              "rgb(20,44,66)"
             ],
             [
              1,
              "rgb(90,179,244)"
             ]
            ],
            "type": "surface"
           }
          ],
          "table": [
           {
            "cells": {
             "fill": {
              "color": "rgb(237,237,237)"
             },
             "line": {
              "color": "white"
             }
            },
            "header": {
             "fill": {
              "color": "rgb(217,217,217)"
             },
             "line": {
              "color": "white"
             }
            },
            "type": "table"
           }
          ]
         },
         "layout": {
          "annotationdefaults": {
           "arrowhead": 0,
           "arrowwidth": 1
          },
          "autotypenumbers": "strict",
          "coloraxis": {
           "colorbar": {
            "outlinewidth": 0,
            "tickcolor": "rgb(237,237,237)",
            "ticklen": 6,
            "ticks": "inside"
           }
          },
          "colorscale": {
           "sequential": [
            [
             0,
             "rgb(20,44,66)"
            ],
            [
             1,
             "rgb(90,179,244)"
            ]
           ],
           "sequentialminus": [
            [
             0,
             "rgb(20,44,66)"
            ],
            [
             1,
             "rgb(90,179,244)"
            ]
           ]
          },
          "colorway": [
           "#F8766D",
           "#A3A500",
           "#00BF7D",
           "#00B0F6",
           "#E76BF3"
          ],
          "font": {
           "color": "rgb(51,51,51)"
          },
          "geo": {
           "bgcolor": "white",
           "lakecolor": "white",
           "landcolor": "rgb(237,237,237)",
           "showlakes": true,
           "showland": true,
           "subunitcolor": "white"
          },
          "hoverlabel": {
           "align": "left"
          },
          "hovermode": "closest",
          "paper_bgcolor": "white",
          "plot_bgcolor": "rgb(237,237,237)",
          "polar": {
           "angularaxis": {
            "gridcolor": "white",
            "linecolor": "white",
            "showgrid": true,
            "tickcolor": "rgb(51,51,51)",
            "ticks": "outside"
           },
           "bgcolor": "rgb(237,237,237)",
           "radialaxis": {
            "gridcolor": "white",
            "linecolor": "white",
            "showgrid": true,
            "tickcolor": "rgb(51,51,51)",
            "ticks": "outside"
           }
          },
          "scene": {
           "xaxis": {
            "backgroundcolor": "rgb(237,237,237)",
            "gridcolor": "white",
            "gridwidth": 2,
            "linecolor": "white",
            "showbackground": true,
            "showgrid": true,
            "tickcolor": "rgb(51,51,51)",
            "ticks": "outside",
            "zerolinecolor": "white"
           },
           "yaxis": {
            "backgroundcolor": "rgb(237,237,237)",
            "gridcolor": "white",
            "gridwidth": 2,
            "linecolor": "white",
            "showbackground": true,
            "showgrid": true,
            "tickcolor": "rgb(51,51,51)",
            "ticks": "outside",
            "zerolinecolor": "white"
           },
           "zaxis": {
            "backgroundcolor": "rgb(237,237,237)",
            "gridcolor": "white",
            "gridwidth": 2,
            "linecolor": "white",
            "showbackground": true,
            "showgrid": true,
            "tickcolor": "rgb(51,51,51)",
            "ticks": "outside",
            "zerolinecolor": "white"
           }
          },
          "shapedefaults": {
           "fillcolor": "black",
           "line": {
            "width": 0
           },
           "opacity": 0.3
          },
          "ternary": {
           "aaxis": {
            "gridcolor": "white",
            "linecolor": "white",
            "showgrid": true,
            "tickcolor": "rgb(51,51,51)",
            "ticks": "outside"
           },
           "baxis": {
            "gridcolor": "white",
            "linecolor": "white",
            "showgrid": true,
            "tickcolor": "rgb(51,51,51)",
            "ticks": "outside"
           },
           "bgcolor": "rgb(237,237,237)",
           "caxis": {
            "gridcolor": "white",
            "linecolor": "white",
            "showgrid": true,
            "tickcolor": "rgb(51,51,51)",
            "ticks": "outside"
           }
          },
          "xaxis": {
           "automargin": true,
           "gridcolor": "white",
           "linecolor": "white",
           "showgrid": true,
           "tickcolor": "rgb(51,51,51)",
           "ticks": "outside",
           "title": {
            "standoff": 15
           },
           "zerolinecolor": "white"
          },
          "yaxis": {
           "automargin": true,
           "gridcolor": "white",
           "linecolor": "white",
           "showgrid": true,
           "tickcolor": "rgb(51,51,51)",
           "ticks": "outside",
           "title": {
            "standoff": 15
           },
           "zerolinecolor": "white"
          }
         }
        },
        "title": {
         "text": ""
        },
        "xaxis": {
         "showgrid": false,
         "visible": false,
         "zeroline": false
        },
        "yaxis": {
         "showgrid": false,
         "visible": false,
         "zeroline": false
        }
       }
      }
     },
     "metadata": {},
     "output_type": "display_data"
    }
   ],
   "source": [
    "cluster_model, cs = \"RawKMeans\", 6\n",
    "col_exp_3 = \"{}_CS_{}_{}_tf{}\".format(cluster_model, cs, \"exp\", 3)\n",
    "col_exp_6 = \"{}_CS_{}_{}_tf{}\".format(cluster_model, cs, \"exp\", 6)\n",
    "col_exp_10 = \"{}_CS_{}_{}_tf{}\".format(cluster_model, cs, \"exp\", 10)\n",
    "\n",
    "\n",
    "cols = [\"TCGA408_classifier\", \"KMeans_labels_6\"] + [col_exp_3, col_exp_6, col_exp_10] + [\"consensus\"]\n",
    "rename_cols = {\n",
    "    cols[0]: \"TCGA\",\n",
    "    cols[1]: \"CA + IFNg\",\n",
    "    cols[2]: \"SBM_3TF\",\n",
    "    cols[3]: \"SBM_6TF\",\n",
    "    cols[4]: \"SBM_10TF\",\n",
    "    cols[5]: \"Consensus\",\n",
    "}\n",
    "\n",
    "meta, fig = sky.main(df=comb_cs.rename(columns=rename_cols), reorder_cols=list(rename_cols.values()), title=\"\", retMeta=True)\n",
    "\n",
    "fig.update_layout(\n",
    "    title=\"\",\n",
    "    template=\"ggplot2\",  # \"ggplot2\", \"plotly_white\"\n",
    "    font=dict(size=16),\n",
    ")\n",
    "fig.show()\n",
    "save_fig(name=\"Sankey_comp_SBM_5K\", fig=fig, base_path=figures_path, width=1200, height=600)"
   ]
  },
  {
   "cell_type": "markdown",
   "metadata": {},
   "source": [
    "## Survival"
   ]
  },
  {
   "cell_type": "code",
   "execution_count": 284,
   "metadata": {},
   "outputs": [],
   "source": [
    "def prep_survival(df, cs_num=6, tf=10, cs_model=\"RawKMeans\", label=\"SBM\"):\n",
    "    model = \"{}_CS_{}_exp_tf{}\".format(cs_model, cs_num, tf)\n",
    "\n",
    "    colors_net = px.colors.qualitative.G10\n",
    "    for idx, val in enumerate(df[model].unique()):\n",
    "        color_map[val] = colors_net[idx]\n",
    "\n",
    "    df[model] = df[model].astype(str)\n",
    "    fig = survival_plot(df.drop(columns=[\"days_to_last_follow_up\", \"days_to_death\"]), vu_output, classifier=model, color_map=color_map)\n",
    "    fig = fig.update_layout(title=\"{}. Survival analysis for {}\".format(label, model))\n",
    "\n",
    "    return fig\n",
    "\n",
    "\n",
    "tcga_metadata = pd.read_csv(data_base + \"TCGA_metadata.tsv\", sep=\"\\t\", index_col=\"Sample\")"
   ]
  },
  {
   "cell_type": "code",
   "execution_count": 286,
   "metadata": {},
   "outputs": [
    {
     "data": {
      "application/vnd.plotly.v1+json": {
       "config": {
        "plotlyServerURL": "https://plot.ly"
       },
       "data": [
        {
         "hovertemplate": "disease=0.0<br>timeline=%{x}<br>chance=%{y}<extra></extra>",
         "legendgroup": "0.0",
         "line": {
          "color": "#3366CC",
          "dash": "solid",
          "shape": "hv"
         },
         "marker": {
          "symbol": "circle"
         },
         "mode": "lines+markers",
         "name": "0.0",
         "orientation": "v",
         "showlegend": true,
         "type": "scatter",
         "x": [
          0,
          0.5666666666666667,
          0.6666666666666666,
          1.8666666666666667,
          1.9,
          2.533333333333333,
          3.1,
          3.5,
          3.9,
          4.3,
          4.733333333333333,
          4.866666666666666,
          4.966666666666667,
          5.133333333333334,
          5.266666666666667,
          6.233333333333333,
          7.2,
          7.666666666666667,
          7.733333333333333,
          9.1,
          9.766666666666667,
          9.8,
          10.8,
          11.966666666666667,
          12.266666666666667,
          12.3,
          12.4,
          12.633333333333333,
          12.8,
          12.933333333333334,
          12.966666666666667,
          13.033333333333333,
          13.133333333333333,
          13.666666666666666,
          13.766666666666667,
          13.833333333333334,
          14.166666666666666,
          14.466666666666667,
          15.133333333333333,
          15.333333333333334,
          15.833333333333334,
          15.9,
          16.166666666666668,
          16.2,
          16.4,
          17.066666666666666,
          17.466666666666665,
          17.666666666666668,
          17.866666666666667,
          19.066666666666666,
          19.266666666666666,
          19.333333333333332,
          19.766666666666666,
          20.4,
          20.566666666666666,
          20.6,
          21.366666666666667,
          22.166666666666668,
          22.466666666666665,
          22.666666666666668,
          23.033333333333335,
          23.2,
          23.333333333333332,
          23.733333333333334,
          24.466666666666665,
          24.633333333333333,
          25.933333333333334,
          27.733333333333334,
          27.833333333333332,
          28.066666666666666,
          28.633333333333333,
          30.066666666666666,
          30.2,
          30.7,
          31.5,
          33.43333333333333,
          33.6,
          35.46666666666667,
          35.9,
          36.333333333333336,
          37.166666666666664,
          42.333333333333336,
          45.56666666666667,
          47.333333333333336,
          47.63333333333333,
          57.266666666666666,
          65.06666666666666,
          66.96666666666667,
          67.33333333333333,
          67.46666666666667,
          68.3,
          72.56666666666666,
          87.5,
          88.03333333333333,
          98.8,
          132.7
         ],
         "xaxis": "x",
         "y": [
          1,
          1,
          1,
          0.9894736842105263,
          0.978947368421053,
          0.9684210526315792,
          0.957894736842105,
          0.957894736842105,
          0.957894736842105,
          0.957894736842105,
          0.9470095693779899,
          0.9361244019138747,
          0.9252392344497604,
          0.9143540669856451,
          0.9143540669856451,
          0.9143540669856451,
          0.9032034076321618,
          0.9032034076321618,
          0.8919133650367601,
          0.8806233224413581,
          0.8806233224413581,
          0.8691866559161454,
          0.8577499893909327,
          0.8577499893909327,
          0.8577499893909327,
          0.8577499893909327,
          0.8577499893909327,
          0.8577499893909327,
          0.8577499893909327,
          0.8453188301243973,
          0.8453188301243973,
          0.8327021311673168,
          0.8327021311673168,
          0.8327021311673168,
          0.8196911603678276,
          0.8196911603678276,
          0.8196911603678276,
          0.8062536003617974,
          0.7928160403557679,
          0.7793784803497376,
          0.7793784803497376,
          0.7793784803497376,
          0.7793784803497376,
          0.7652079625251967,
          0.751037444700656,
          0.751037444700656,
          0.751037444700656,
          0.7363112202947608,
          0.7215849958888656,
          0.7215849958888656,
          0.7215849958888656,
          0.7215849958888656,
          0.7058983655434553,
          0.6902117351980451,
          0.6745251048526352,
          0.6745251048526352,
          0.6745251048526352,
          0.658073273026961,
          0.641199599359603,
          0.624325925692245,
          0.624325925692245,
          0.6069835388674604,
          0.6069835388674604,
          0.5891310818419467,
          0.5712786248164332,
          0.5534261677909197,
          0.5355737107654062,
          0.5355737107654062,
          0.5164460782380703,
          0.5164460782380703,
          0.49658276753660596,
          0.49658276753660596,
          0.49658276753660596,
          0.49658276753660596,
          0.49658276753660596,
          0.49658276753660596,
          0.47175362915977564,
          0.4469244907829453,
          0.4220953524061152,
          0.4220953524061152,
          0.4220953524061152,
          0.3939556622457074,
          0.3658159720852998,
          0.33767628192489213,
          0.33767628192489213,
          0.30697843811353837,
          0.30697843811353837,
          0.30697843811353837,
          0.30697843811353837,
          0.30697843811353837,
          0.30697843811353837,
          0.30697843811353837,
          0.30697843811353837,
          0.2046522920756922,
          0.2046522920756922,
          0.2046522920756922
         ],
         "yaxis": "y"
        },
        {
         "hovertemplate": "disease=1.0<br>timeline=%{x}<br>chance=%{y}<extra></extra>",
         "legendgroup": "1.0",
         "line": {
          "color": "#DC3912",
          "dash": "solid",
          "shape": "hv"
         },
         "marker": {
          "symbol": "circle"
         },
         "mode": "lines+markers",
         "name": "1.0",
         "orientation": "v",
         "showlegend": true,
         "type": "scatter",
         "x": [
          0,
          0.5,
          0.6333333333333333,
          1.1666666666666667,
          1.8333333333333333,
          2.1333333333333333,
          2.1666666666666665,
          2.8,
          3.1666666666666665,
          3.533333333333333,
          3.966666666666667,
          6.833333333333333,
          6.866666666666666,
          8.2,
          8.466666666666667,
          8.6,
          9.8,
          11.066666666666666,
          12.133333333333333,
          12.2,
          12.333333333333334,
          12.533333333333333,
          13.266666666666667,
          13.833333333333334,
          14.266666666666667,
          14.433333333333334,
          15.233333333333333,
          15.533333333333333,
          15.566666666666666,
          15.633333333333333,
          15.8,
          16.033333333333335,
          17.4,
          17.866666666666667,
          18.133333333333333,
          18.233333333333334,
          18.333333333333332,
          19.233333333333334,
          19.266666666666666,
          19.366666666666667,
          19.666666666666668,
          19.966666666666665,
          20.066666666666666,
          21,
          21.4,
          21.533333333333335,
          21.6,
          21.633333333333333,
          21.7,
          25,
          25.366666666666667,
          25.766666666666666,
          27.066666666666666,
          27.333333333333332,
          29.1,
          29.766666666666666,
          30.133333333333333,
          31.633333333333333,
          34.53333333333333,
          37,
          38.766666666666666,
          39.13333333333333,
          47.43333333333333,
          48.5,
          50.733333333333334,
          51.4,
          55.666666666666664,
          61.5,
          64.9,
          68.13333333333334,
          71.3,
          90.1,
          93,
          96.2,
          100.36666666666666,
          106.1,
          110.46666666666667,
          112.13333333333334,
          168.33333333333334
         ],
         "xaxis": "x",
         "y": [
          1,
          1,
          0.9875000000000004,
          0.9875000000000004,
          0.9875000000000004,
          0.9875000000000004,
          0.9745065789473686,
          0.9745065789473686,
          0.9745065789473686,
          0.9611571737563088,
          0.9611571737563088,
          0.9476197487738259,
          0.9340823237913427,
          0.9205448988088594,
          0.8934700488438924,
          0.8799326238614092,
          0.8663951988789259,
          0.8528577738964429,
          0.8393203489139599,
          0.8393203489139599,
          0.8255609989317635,
          0.8255609989317635,
          0.8255609989317635,
          0.8113271886053541,
          0.8113271886053541,
          0.8113271886053541,
          0.8113271886053541,
          0.8113271886053541,
          0.7960191284429889,
          0.7960191284429889,
          0.7960191284429889,
          0.7960191284429889,
          0.7794353966004264,
          0.7794353966004264,
          0.7621146100093058,
          0.7447938234181853,
          0.7274730368270649,
          0.7101522502359443,
          0.7101522502359443,
          0.7101522502359443,
          0.7101522502359443,
          0.691464033124472,
          0.6727758160129998,
          0.6540875989015276,
          0.6540875989015276,
          0.6540875989015276,
          0.6540875989015276,
          0.6540875989015276,
          0.6329879989369622,
          0.6329879989369622,
          0.6329879989369622,
          0.6329879989369622,
          0.6329879989369622,
          0.6329879989369622,
          0.6329879989369622,
          0.6329879989369622,
          0.6054667815918771,
          0.5779455642467916,
          0.5504243469017062,
          0.5504243469017062,
          0.5214546444331953,
          0.5214546444331953,
          0.4907808418194779,
          0.4907808418194779,
          0.4907808418194779,
          0.4907808418194779,
          0.4530284693718258,
          0.4530284693718258,
          0.4530284693718258,
          0.4530284693718258,
          0.4530284693718258,
          0.4530284693718258,
          0.4530284693718258,
          0.4530284693718258,
          0.4530284693718258,
          0.3397713520288694,
          0.3397713520288694,
          0.3397713520288694,
          0.3397713520288694
         ],
         "yaxis": "y"
        },
        {
         "hovertemplate": "disease=5.0<br>timeline=%{x}<br>chance=%{y}<extra></extra>",
         "legendgroup": "5.0",
         "line": {
          "color": "#FF9900",
          "dash": "solid",
          "shape": "hv"
         },
         "marker": {
          "symbol": "circle"
         },
         "mode": "lines+markers",
         "name": "5.0",
         "orientation": "v",
         "showlegend": true,
         "type": "scatter",
         "x": [
          0,
          0.43333333333333335,
          1.8666666666666667,
          2.2333333333333334,
          2.2666666666666666,
          2.7333333333333334,
          4.8,
          9.066666666666666,
          10.933333333333334,
          11.466666666666667,
          11.5,
          12.166666666666666,
          12.266666666666667,
          12.333333333333334,
          12.833333333333334,
          14.1,
          15.166666666666666,
          16.933333333333334,
          18.2,
          21.2,
          26.6,
          28,
          28.8,
          33.233333333333334,
          51.266666666666666,
          54.63333333333333,
          98.46666666666667
         ],
         "xaxis": "x",
         "y": [
          1,
          1,
          0.9600000000000003,
          0.9600000000000003,
          0.9182608695652179,
          0.9182608695652179,
          0.8745341614906835,
          0.8308074534161494,
          0.7870807453416152,
          0.7433540372670812,
          0.7433540372670812,
          0.7433540372670812,
          0.7433540372670812,
          0.7433540372670812,
          0.6861729574773058,
          0.6861729574773058,
          0.6861729574773058,
          0.6861729574773058,
          0.6861729574773058,
          0.6861729574773058,
          0.6861729574773058,
          0.6861729574773058,
          0.6861729574773058,
          0.6861729574773058,
          0.6861729574773058,
          0.6861729574773058,
          0
         ],
         "yaxis": "y"
        },
        {
         "hovertemplate": "disease=2.0<br>timeline=%{x}<br>chance=%{y}<extra></extra>",
         "legendgroup": "2.0",
         "line": {
          "color": "#109618",
          "dash": "solid",
          "shape": "hv"
         },
         "marker": {
          "symbol": "circle"
         },
         "mode": "lines+markers",
         "name": "2.0",
         "orientation": "v",
         "showlegend": true,
         "type": "scatter",
         "x": [
          0,
          2.2666666666666666,
          2.3,
          2.933333333333333,
          3,
          3.3,
          4.066666666666666,
          5.133333333333334,
          5.6,
          6.366666666666666,
          7.1,
          7.333333333333333,
          8.266666666666667,
          8.333333333333334,
          8.366666666666667,
          8.433333333333334,
          8.633333333333333,
          8.7,
          9.066666666666666,
          9.133333333333333,
          9.2,
          9.266666666666667,
          10.1,
          10.366666666666667,
          10.7,
          11,
          11.233333333333333,
          11.466666666666667,
          12.333333333333334,
          12.566666666666666,
          12.733333333333333,
          12.8,
          13.1,
          13.533333333333333,
          13.766666666666667,
          14.266666666666667,
          14.566666666666666,
          15.166666666666666,
          16.133333333333333,
          16.5,
          16.933333333333334,
          17.4,
          17.966666666666665,
          18,
          18.233333333333334,
          18.733333333333334,
          18.833333333333332,
          19.4,
          19.666666666666668,
          20.766666666666666,
          21.266666666666666,
          21.333333333333332,
          22.833333333333332,
          25.266666666666666,
          26.1,
          26.3,
          26.5,
          27.3,
          27.433333333333334,
          29.566666666666666,
          29.9,
          33.5,
          34.93333333333333,
          44.2,
          48.666666666666664,
          51.86666666666667,
          54.96666666666667,
          62.3,
          64.96666666666667,
          76.43333333333334,
          80.76666666666667,
          127.23333333333333,
          144.76666666666668,
          168.03333333333333
         ],
         "xaxis": "x",
         "y": [
          1,
          1,
          0.9861111111111112,
          0.9722222222222225,
          0.9583333333333336,
          0.9444444444444446,
          0.9305555555555552,
          0.9166666666666663,
          0.9027777777777775,
          0.8888888888888886,
          0.8749999999999999,
          0.8611111111111112,
          0.8472222222222223,
          0.8333333333333331,
          0.8333333333333331,
          0.8192090395480219,
          0.8050847457627115,
          0.7909604519774011,
          0.7768361581920902,
          0.7627118644067794,
          0.7627118644067794,
          0.7483210745123119,
          0.7339302846178442,
          0.7195394947233766,
          0.705148704828909,
          0.705148704828909,
          0.705148704828909,
          0.6901455408963793,
          0.675142376963849,
          0.675142376963849,
          0.675142376963849,
          0.675142376963849,
          0.6590675584647099,
          0.6429927399655705,
          0.6269179214664311,
          0.6269179214664311,
          0.6104200814278409,
          0.5939222413892505,
          0.5939222413892505,
          0.5769530344924151,
          0.5599838275955792,
          0.5599838275955792,
          0.5424843329832174,
          0.5424843329832174,
          0.5244015218837768,
          0.5244015218837768,
          0.5056728961022134,
          0.5056728961022134,
          0.4862239385598205,
          0.4667749810174278,
          0.4667749810174278,
          0.4667749810174278,
          0.44555793642572644,
          0.44555793642572644,
          0.44555793642572644,
          0.44555793642572644,
          0.42080471773540845,
          0.39605149904509024,
          0.3712982803547721,
          0.3712982803547721,
          0.3712982803547721,
          0.3427368741736358,
          0.3427368741736358,
          0.3427368741736358,
          0.3427368741736358,
          0.3046549992654539,
          0.3046549992654539,
          0.26113285651324625,
          0.26113285651324625,
          0.26113285651324625,
          0.26113285651324625,
          0.26113285651324625,
          0.26113285651324625,
          0.26113285651324625
         ],
         "yaxis": "y"
        },
        {
         "hovertemplate": "disease=3.0<br>timeline=%{x}<br>chance=%{y}<extra></extra>",
         "legendgroup": "3.0",
         "line": {
          "color": "#990099",
          "dash": "solid",
          "shape": "hv"
         },
         "marker": {
          "symbol": "circle"
         },
         "mode": "lines+markers",
         "name": "3.0",
         "orientation": "v",
         "showlegend": true,
         "type": "scatter",
         "x": [
          0,
          0.6666666666666666,
          1.2333333333333334,
          1.9666666666666666,
          2.1333333333333333,
          2.966666666666667,
          3.2666666666666666,
          3.933333333333333,
          4.266666666666667,
          5.6,
          5.766666666666667,
          6.066666666666666,
          6.666666666666667,
          7.033333333333333,
          7.733333333333333,
          7.9,
          8.366666666666667,
          9.066666666666666,
          11.866666666666667,
          12.4,
          12.866666666666667,
          13.333333333333334,
          13.6,
          13.766666666666667,
          13.933333333333334,
          15.333333333333334,
          15.533333333333333,
          15.8,
          16,
          17.966666666666665,
          19.066666666666666,
          19.166666666666668,
          19.3,
          19.6,
          20.333333333333332,
          20.5,
          21.1,
          23.533333333333335,
          23.966666666666665,
          28.366666666666667,
          29.966666666666665,
          32.46666666666667,
          33.46666666666667,
          36.93333333333333,
          37.56666666666667,
          52.733333333333334,
          56.93333333333333,
          58.7,
          59.733333333333334,
          60.13333333333333,
          60.2,
          61,
          67.56666666666666,
          70.3,
          79.33333333333333,
          88.53333333333333,
          94.26666666666667,
          165.56666666666666
         ],
         "xaxis": "x",
         "y": [
          1,
          0.9824561403508775,
          0.9824561403508775,
          0.9824561403508775,
          0.9824561403508775,
          0.9824561403508775,
          0.9635627530364373,
          0.9446693657219973,
          0.9257759784075573,
          0.9068825910931178,
          0.8879892037786774,
          0.8690958164642377,
          0.8502024291497976,
          0.8313090418353576,
          0.8124156545209178,
          0.7935222672064779,
          0.774628879892038,
          0.7557354925775979,
          0.7368421052631579,
          0.7368421052631579,
          0.7174515235457064,
          0.6980609418282548,
          0.6786703601108033,
          0.659279778393352,
          0.6398891966759004,
          0.6398891966759004,
          0.6398891966759004,
          0.6192476096863552,
          0.6192476096863552,
          0.6192476096863552,
          0.6192476096863552,
          0.5963125130313051,
          0.5733774163762547,
          0.5733774163762547,
          0.5733774163762547,
          0.5484479634903306,
          0.5484479634903306,
          0.5223313938003149,
          0.4962148241102991,
          0.4962148241102991,
          0.4962148241102991,
          0.4670257168096932,
          0.43783660950908737,
          0.43783660950908737,
          0.43783660950908737,
          0.43783660950908737,
          0.43783660950908737,
          0.43783660950908737,
          0.43783660950908737,
          0.38918809734141085,
          0.38918809734141085,
          0.38918809734141085,
          0.38918809734141085,
          0.38918809734141085,
          0.38918809734141085,
          0.38918809734141085,
          0.19459404867070543,
          0.19459404867070543
         ],
         "yaxis": "y"
        },
        {
         "hovertemplate": "disease=4.0<br>timeline=%{x}<br>chance=%{y}<extra></extra>",
         "legendgroup": "4.0",
         "line": {
          "color": "#0099C6",
          "dash": "solid",
          "shape": "hv"
         },
         "marker": {
          "symbol": "circle"
         },
         "mode": "lines+markers",
         "name": "4.0",
         "orientation": "v",
         "showlegend": true,
         "type": "scatter",
         "x": [
          0,
          0.9333333333333333,
          3.6666666666666665,
          5.433333333333334,
          6.3,
          6.666666666666667,
          7.466666666666667,
          8.733333333333333,
          10.8,
          11.1,
          11.333333333333334,
          11.5,
          12.033333333333333,
          12.133333333333333,
          12.433333333333334,
          12.766666666666667,
          13.266666666666667,
          13.3,
          13.833333333333334,
          13.866666666666667,
          15.1,
          15.566666666666666,
          16.5,
          16.766666666666666,
          18.066666666666666,
          18.133333333333333,
          18.666666666666668,
          18.833333333333332,
          19.1,
          23,
          26.633333333333333,
          27.1,
          28.8,
          31.366666666666667,
          36.46666666666667,
          39.36666666666667,
          44.93333333333333,
          45,
          45.666666666666664,
          48.46666666666667,
          50.96666666666667,
          52.03333333333333,
          53.46666666666667,
          54.03333333333333,
          57.13333333333333,
          63.733333333333334,
          65.7,
          66.93333333333334,
          67.33333333333333,
          77.06666666666666,
          77.66666666666667,
          114,
          114.4
         ],
         "xaxis": "x",
         "y": [
          1,
          1,
          1,
          0.9803921568627451,
          0.9803921568627451,
          0.9599673202614375,
          0.9599673202614375,
          0.9390984654731452,
          0.9182296106848531,
          0.9182296106848531,
          0.8968754336921821,
          0.8968754336921821,
          0.8968754336921821,
          0.8968754336921821,
          0.8968754336921821,
          0.8968754336921821,
          0.8968754336921821,
          0.8968754336921821,
          0.8968754336921821,
          0.8968754336921821,
          0.8696973902469646,
          0.8425193468017469,
          0.8425193468017469,
          0.8425193468017469,
          0.8425193468017469,
          0.8124293701302561,
          0.8124293701302561,
          0.7811820866637076,
          0.7811820866637076,
          0.7486328330527197,
          0.7486328330527197,
          0.7486328330527197,
          0.7129836505263996,
          0.6773344680000796,
          0.6773344680000796,
          0.6773344680000796,
          0.6374912640000747,
          0.6374912640000747,
          0.6374912640000747,
          0.6374912640000747,
          0.6374912640000747,
          0.6374912640000747,
          0.6374912640000747,
          0.6374912640000747,
          0.6374912640000747,
          0.6374912640000747,
          0.5464210834286355,
          0.5464210834286355,
          0.4371368667429084,
          0.4371368667429084,
          0.4371368667429084,
          0.4371368667429084,
          0.4371368667429084
         ],
         "yaxis": "y"
        }
       ],
       "layout": {
        "font": {
         "size": 16
        },
        "legend": {
         "bgcolor": "rgba(0,0,0,0)",
         "font": {
          "color": "#003366",
          "size": 16
         },
         "orientation": "h",
         "title": {
          "text": "Network subtype"
         },
         "tracegroupgap": 0,
         "x": 0.5,
         "xanchor": "center",
         "y": 0.1,
         "yanchor": "bottom"
        },
        "margin": {
         "t": 60
        },
        "paper_bgcolor": "rgba(0,0,0,0)",
        "template": {
         "data": {
          "bar": [
           {
            "error_x": {
             "color": "rgb(51,51,51)"
            },
            "error_y": {
             "color": "rgb(51,51,51)"
            },
            "marker": {
             "line": {
              "color": "rgb(237,237,237)",
              "width": 0.5
             },
             "pattern": {
              "fillmode": "overlay",
              "size": 10,
              "solidity": 0.2
             }
            },
            "type": "bar"
           }
          ],
          "barpolar": [
           {
            "marker": {
             "line": {
              "color": "rgb(237,237,237)",
              "width": 0.5
             },
             "pattern": {
              "fillmode": "overlay",
              "size": 10,
              "solidity": 0.2
             }
            },
            "type": "barpolar"
           }
          ],
          "carpet": [
           {
            "aaxis": {
             "endlinecolor": "rgb(51,51,51)",
             "gridcolor": "white",
             "linecolor": "white",
             "minorgridcolor": "white",
             "startlinecolor": "rgb(51,51,51)"
            },
            "baxis": {
             "endlinecolor": "rgb(51,51,51)",
             "gridcolor": "white",
             "linecolor": "white",
             "minorgridcolor": "white",
             "startlinecolor": "rgb(51,51,51)"
            },
            "type": "carpet"
           }
          ],
          "choropleth": [
           {
            "colorbar": {
             "outlinewidth": 0,
             "tickcolor": "rgb(237,237,237)",
             "ticklen": 6,
             "ticks": "inside"
            },
            "type": "choropleth"
           }
          ],
          "contour": [
           {
            "colorbar": {
             "outlinewidth": 0,
             "tickcolor": "rgb(237,237,237)",
             "ticklen": 6,
             "ticks": "inside"
            },
            "colorscale": [
             [
              0,
              "rgb(20,44,66)"
             ],
             [
              1,
              "rgb(90,179,244)"
             ]
            ],
            "type": "contour"
           }
          ],
          "contourcarpet": [
           {
            "colorbar": {
             "outlinewidth": 0,
             "tickcolor": "rgb(237,237,237)",
             "ticklen": 6,
             "ticks": "inside"
            },
            "type": "contourcarpet"
           }
          ],
          "heatmap": [
           {
            "colorbar": {
             "outlinewidth": 0,
             "tickcolor": "rgb(237,237,237)",
             "ticklen": 6,
             "ticks": "inside"
            },
            "colorscale": [
             [
              0,
              "rgb(20,44,66)"
             ],
             [
              1,
              "rgb(90,179,244)"
             ]
            ],
            "type": "heatmap"
           }
          ],
          "heatmapgl": [
           {
            "colorbar": {
             "outlinewidth": 0,
             "tickcolor": "rgb(237,237,237)",
             "ticklen": 6,
             "ticks": "inside"
            },
            "colorscale": [
             [
              0,
              "rgb(20,44,66)"
             ],
             [
              1,
              "rgb(90,179,244)"
             ]
            ],
            "type": "heatmapgl"
           }
          ],
          "histogram": [
           {
            "marker": {
             "pattern": {
              "fillmode": "overlay",
              "size": 10,
              "solidity": 0.2
             }
            },
            "type": "histogram"
           }
          ],
          "histogram2d": [
           {
            "colorbar": {
             "outlinewidth": 0,
             "tickcolor": "rgb(237,237,237)",
             "ticklen": 6,
             "ticks": "inside"
            },
            "colorscale": [
             [
              0,
              "rgb(20,44,66)"
             ],
             [
              1,
              "rgb(90,179,244)"
             ]
            ],
            "type": "histogram2d"
           }
          ],
          "histogram2dcontour": [
           {
            "colorbar": {
             "outlinewidth": 0,
             "tickcolor": "rgb(237,237,237)",
             "ticklen": 6,
             "ticks": "inside"
            },
            "colorscale": [
             [
              0,
              "rgb(20,44,66)"
             ],
             [
              1,
              "rgb(90,179,244)"
             ]
            ],
            "type": "histogram2dcontour"
           }
          ],
          "mesh3d": [
           {
            "colorbar": {
             "outlinewidth": 0,
             "tickcolor": "rgb(237,237,237)",
             "ticklen": 6,
             "ticks": "inside"
            },
            "type": "mesh3d"
           }
          ],
          "parcoords": [
           {
            "line": {
             "colorbar": {
              "outlinewidth": 0,
              "tickcolor": "rgb(237,237,237)",
              "ticklen": 6,
              "ticks": "inside"
             }
            },
            "type": "parcoords"
           }
          ],
          "pie": [
           {
            "automargin": true,
            "type": "pie"
           }
          ],
          "scatter": [
           {
            "fillpattern": {
             "fillmode": "overlay",
             "size": 10,
             "solidity": 0.2
            },
            "type": "scatter"
           }
          ],
          "scatter3d": [
           {
            "line": {
             "colorbar": {
              "outlinewidth": 0,
              "tickcolor": "rgb(237,237,237)",
              "ticklen": 6,
              "ticks": "inside"
             }
            },
            "marker": {
             "colorbar": {
              "outlinewidth": 0,
              "tickcolor": "rgb(237,237,237)",
              "ticklen": 6,
              "ticks": "inside"
             }
            },
            "type": "scatter3d"
           }
          ],
          "scattercarpet": [
           {
            "marker": {
             "colorbar": {
              "outlinewidth": 0,
              "tickcolor": "rgb(237,237,237)",
              "ticklen": 6,
              "ticks": "inside"
             }
            },
            "type": "scattercarpet"
           }
          ],
          "scattergeo": [
           {
            "marker": {
             "colorbar": {
              "outlinewidth": 0,
              "tickcolor": "rgb(237,237,237)",
              "ticklen": 6,
              "ticks": "inside"
             }
            },
            "type": "scattergeo"
           }
          ],
          "scattergl": [
           {
            "marker": {
             "colorbar": {
              "outlinewidth": 0,
              "tickcolor": "rgb(237,237,237)",
              "ticklen": 6,
              "ticks": "inside"
             }
            },
            "type": "scattergl"
           }
          ],
          "scattermapbox": [
           {
            "marker": {
             "colorbar": {
              "outlinewidth": 0,
              "tickcolor": "rgb(237,237,237)",
              "ticklen": 6,
              "ticks": "inside"
             }
            },
            "type": "scattermapbox"
           }
          ],
          "scatterpolar": [
           {
            "marker": {
             "colorbar": {
              "outlinewidth": 0,
              "tickcolor": "rgb(237,237,237)",
              "ticklen": 6,
              "ticks": "inside"
             }
            },
            "type": "scatterpolar"
           }
          ],
          "scatterpolargl": [
           {
            "marker": {
             "colorbar": {
              "outlinewidth": 0,
              "tickcolor": "rgb(237,237,237)",
              "ticklen": 6,
              "ticks": "inside"
             }
            },
            "type": "scatterpolargl"
           }
          ],
          "scatterternary": [
           {
            "marker": {
             "colorbar": {
              "outlinewidth": 0,
              "tickcolor": "rgb(237,237,237)",
              "ticklen": 6,
              "ticks": "inside"
             }
            },
            "type": "scatterternary"
           }
          ],
          "surface": [
           {
            "colorbar": {
             "outlinewidth": 0,
             "tickcolor": "rgb(237,237,237)",
             "ticklen": 6,
             "ticks": "inside"
            },
            "colorscale": [
             [
              0,
              "rgb(20,44,66)"
             ],
             [
              1,
              "rgb(90,179,244)"
             ]
            ],
            "type": "surface"
           }
          ],
          "table": [
           {
            "cells": {
             "fill": {
              "color": "rgb(237,237,237)"
             },
             "line": {
              "color": "white"
             }
            },
            "header": {
             "fill": {
              "color": "rgb(217,217,217)"
             },
             "line": {
              "color": "white"
             }
            },
            "type": "table"
           }
          ]
         },
         "layout": {
          "annotationdefaults": {
           "arrowhead": 0,
           "arrowwidth": 1
          },
          "autotypenumbers": "strict",
          "coloraxis": {
           "colorbar": {
            "outlinewidth": 0,
            "tickcolor": "rgb(237,237,237)",
            "ticklen": 6,
            "ticks": "inside"
           }
          },
          "colorscale": {
           "sequential": [
            [
             0,
             "rgb(20,44,66)"
            ],
            [
             1,
             "rgb(90,179,244)"
            ]
           ],
           "sequentialminus": [
            [
             0,
             "rgb(20,44,66)"
            ],
            [
             1,
             "rgb(90,179,244)"
            ]
           ]
          },
          "colorway": [
           "#F8766D",
           "#A3A500",
           "#00BF7D",
           "#00B0F6",
           "#E76BF3"
          ],
          "font": {
           "color": "rgb(51,51,51)"
          },
          "geo": {
           "bgcolor": "white",
           "lakecolor": "white",
           "landcolor": "rgb(237,237,237)",
           "showlakes": true,
           "showland": true,
           "subunitcolor": "white"
          },
          "hoverlabel": {
           "align": "left"
          },
          "hovermode": "closest",
          "paper_bgcolor": "white",
          "plot_bgcolor": "rgb(237,237,237)",
          "polar": {
           "angularaxis": {
            "gridcolor": "white",
            "linecolor": "white",
            "showgrid": true,
            "tickcolor": "rgb(51,51,51)",
            "ticks": "outside"
           },
           "bgcolor": "rgb(237,237,237)",
           "radialaxis": {
            "gridcolor": "white",
            "linecolor": "white",
            "showgrid": true,
            "tickcolor": "rgb(51,51,51)",
            "ticks": "outside"
           }
          },
          "scene": {
           "xaxis": {
            "backgroundcolor": "rgb(237,237,237)",
            "gridcolor": "white",
            "gridwidth": 2,
            "linecolor": "white",
            "showbackground": true,
            "showgrid": true,
            "tickcolor": "rgb(51,51,51)",
            "ticks": "outside",
            "zerolinecolor": "white"
           },
           "yaxis": {
            "backgroundcolor": "rgb(237,237,237)",
            "gridcolor": "white",
            "gridwidth": 2,
            "linecolor": "white",
            "showbackground": true,
            "showgrid": true,
            "tickcolor": "rgb(51,51,51)",
            "ticks": "outside",
            "zerolinecolor": "white"
           },
           "zaxis": {
            "backgroundcolor": "rgb(237,237,237)",
            "gridcolor": "white",
            "gridwidth": 2,
            "linecolor": "white",
            "showbackground": true,
            "showgrid": true,
            "tickcolor": "rgb(51,51,51)",
            "ticks": "outside",
            "zerolinecolor": "white"
           }
          },
          "shapedefaults": {
           "fillcolor": "black",
           "line": {
            "width": 0
           },
           "opacity": 0.3
          },
          "ternary": {
           "aaxis": {
            "gridcolor": "white",
            "linecolor": "white",
            "showgrid": true,
            "tickcolor": "rgb(51,51,51)",
            "ticks": "outside"
           },
           "baxis": {
            "gridcolor": "white",
            "linecolor": "white",
            "showgrid": true,
            "tickcolor": "rgb(51,51,51)",
            "ticks": "outside"
           },
           "bgcolor": "rgb(237,237,237)",
           "caxis": {
            "gridcolor": "white",
            "linecolor": "white",
            "showgrid": true,
            "tickcolor": "rgb(51,51,51)",
            "ticks": "outside"
           }
          },
          "xaxis": {
           "automargin": true,
           "gridcolor": "white",
           "linecolor": "white",
           "showgrid": true,
           "tickcolor": "rgb(51,51,51)",
           "ticks": "outside",
           "title": {
            "standoff": 15
           },
           "zerolinecolor": "white"
          },
          "yaxis": {
           "automargin": true,
           "gridcolor": "white",
           "linecolor": "white",
           "showgrid": true,
           "tickcolor": "rgb(51,51,51)",
           "ticks": "outside",
           "title": {
            "standoff": 15
           },
           "zerolinecolor": "white"
          }
         }
        },
        "title": {
         "text": ""
        },
        "xaxis": {
         "anchor": "y",
         "domain": [
          0,
          1
         ],
         "range": [
          -1,
          60
         ],
         "tickfont": {
          "size": 16
         },
         "title": {
          "text": "Time (months)"
         }
        },
        "yaxis": {
         "anchor": "x",
         "domain": [
          0,
          1
         ],
         "tickfont": {
          "size": 16
         },
         "title": {
          "text": "Survival (%)"
         }
        }
       }
      }
     },
     "metadata": {},
     "output_type": "display_data"
    }
   ],
   "source": [
    "fig = prep_survival(comb_cs, cs_num=6, tf=6, cs_model=\"RawKMeans\", label=\"SBM\")\n",
    "# save_fig(name=\"Survival_plot_reward\", fig=fig, base_path=figures_path, width=1400, height=600)\n",
    "\n",
    "fig.update_layout(\n",
    "    legend=dict(\n",
    "        orientation=\"h\",\n",
    "        title=\"Network subtype\",\n",
    "        yanchor=\"bottom\",\n",
    "        y=0.1,\n",
    "        xanchor=\"center\",\n",
    "        x=0.5,\n",
    "        bgcolor=\"rgba(0,0,0,0)\",\n",
    "        font=dict(size=16, color=\"#003366\"),\n",
    "    ),\n",
    "    title=\"\",\n",
    "    template=\"ggplot2\",  # \"ggplot2\", \"plotly_white\"\n",
    "    paper_bgcolor=\"rgba(0,0,0,0)\",\n",
    "    # plot_bgcolor=\"rgba(0,0,0,0)\",\n",
    "    xaxis=dict(tickfont=dict(size=16)),\n",
    "    yaxis=dict(tickfont=dict(size=16)),\n",
    "    font=dict(size=16),\n",
    ")\n",
    "fig.show()\n",
    "save_fig(name=\"Survival_SBM_5K_6TF\", fig=fig, base_path=figures_path, width=1000, height=600)"
   ]
  },
  {
   "cell_type": "code",
   "execution_count": 120,
   "metadata": {},
   "outputs": [
    {
     "data": {
      "application/vnd.plotly.v1+json": {
       "config": {
        "plotlyServerURL": "https://plot.ly"
       },
       "data": [
        {
         "hovertemplate": "disease=4<br>timeline=%{x}<br>chance=%{y}<extra></extra>",
         "legendgroup": "4",
         "line": {
          "color": "#19D3F3",
          "dash": "solid",
          "shape": "hv"
         },
         "marker": {
          "symbol": "circle"
         },
         "mode": "markers+lines",
         "name": "4",
         "orientation": "v",
         "showlegend": true,
         "type": "scatter",
         "x": [
          0,
          0.9333333333333333,
          3.6666666666666665,
          5.433333333333334,
          6.3,
          6.666666666666667,
          7.466666666666667,
          8.733333333333333,
          10.8,
          11.1,
          11.333333333333334,
          11.5,
          12.033333333333333,
          12.133333333333333,
          12.433333333333334,
          12.766666666666667,
          13.266666666666667,
          13.3,
          13.833333333333334,
          13.866666666666667,
          15.1,
          15.566666666666666,
          16.5,
          16.766666666666666,
          18.066666666666666,
          18.133333333333333,
          18.666666666666668,
          18.833333333333332,
          19.1,
          23,
          26.633333333333333,
          27.1,
          28.8,
          31.366666666666667,
          36.46666666666667,
          39.36666666666667,
          44.93333333333333,
          45,
          45.666666666666664,
          48.46666666666667,
          50.96666666666667,
          52.03333333333333,
          53.46666666666667,
          54.03333333333333,
          57.13333333333333,
          63.733333333333334,
          65.7,
          66.93333333333334,
          67.33333333333333,
          77.06666666666666,
          77.66666666666667,
          114,
          114.4
         ],
         "xaxis": "x",
         "y": [
          1,
          1,
          1,
          0.9803921568627451,
          0.9803921568627451,
          0.9599673202614375,
          0.9599673202614375,
          0.9390984654731452,
          0.9182296106848531,
          0.9182296106848531,
          0.8968754336921821,
          0.8968754336921821,
          0.8968754336921821,
          0.8968754336921821,
          0.8968754336921821,
          0.8968754336921821,
          0.8968754336921821,
          0.8968754336921821,
          0.8968754336921821,
          0.8968754336921821,
          0.8696973902469646,
          0.8425193468017469,
          0.8425193468017469,
          0.8425193468017469,
          0.8425193468017469,
          0.8124293701302561,
          0.8124293701302561,
          0.7811820866637076,
          0.7811820866637076,
          0.7486328330527197,
          0.7486328330527197,
          0.7486328330527197,
          0.7129836505263996,
          0.6773344680000796,
          0.6773344680000796,
          0.6773344680000796,
          0.6374912640000747,
          0.6374912640000747,
          0.6374912640000747,
          0.6374912640000747,
          0.6374912640000747,
          0.6374912640000747,
          0.6374912640000747,
          0.6374912640000747,
          0.6374912640000747,
          0.6374912640000747,
          0.5464210834286355,
          0.5464210834286355,
          0.4371368667429084,
          0.4371368667429084,
          0.4371368667429084,
          0.4371368667429084,
          0.4371368667429084
         ],
         "yaxis": "y"
        },
        {
         "hovertemplate": "disease=Low IFNG<br>timeline=%{x}<br>chance=%{y}<extra></extra>",
         "legendgroup": "Low IFNG",
         "line": {
          "color": "rgb(15, 133, 84)",
          "dash": "solid",
          "shape": "hv"
         },
         "marker": {
          "symbol": "circle"
         },
         "mode": "markers+lines",
         "name": "Low IFNG",
         "orientation": "v",
         "showlegend": true,
         "type": "scatter",
         "x": [
          0,
          1.9666666666666666,
          2.1333333333333333,
          2.933333333333333,
          2.966666666666667,
          3,
          3.1666666666666665,
          3.533333333333333,
          7.1,
          7.333333333333333,
          7.9,
          8.266666666666667,
          8.366666666666667,
          8.633333333333333,
          9.066666666666666,
          9.133333333333333,
          11.466666666666667,
          11.866666666666667,
          12.333333333333334,
          12.733333333333333,
          13.1,
          13.333333333333334,
          13.766666666666667,
          13.833333333333334,
          15.166666666666666,
          15.566666666666666,
          18.733333333333334,
          25.266666666666666,
          26.5,
          29.566666666666666,
          37.56666666666667,
          38.766666666666666,
          51.86666666666667,
          60.2,
          61,
          87.5,
          88.53333333333333
         ],
         "xaxis": "x",
         "y": [
          1,
          1,
          1,
          0.9714285714285718,
          0.9714285714285718,
          0.9419913419913423,
          0.9419913419913423,
          0.9116045245077506,
          0.881217707024159,
          0.8508308895405671,
          0.8204440720569756,
          0.7900572545733839,
          0.759670437089792,
          0.7280175022110505,
          0.6963645673323094,
          0.6647116324535679,
          0.6330586975748265,
          0.6014057626960851,
          0.5697528278173438,
          0.5697528278173438,
          0.5362379555927941,
          0.5027230833682446,
          0.4692082111436948,
          0.4692082111436948,
          0.4331152718249491,
          0.39702233250620333,
          0.39702233250620333,
          0.39702233250620333,
          0.3529087400055139,
          0.3529087400055139,
          0.3529087400055139,
          0.29409061667126163,
          0.2352724933370093,
          0.2352724933370093,
          0.2352724933370093,
          0.2352724933370093,
          0.2352724933370093
         ],
         "yaxis": "y"
        },
        {
         "hovertemplate": "disease=1<br>timeline=%{x}<br>chance=%{y}<extra></extra>",
         "legendgroup": "1",
         "line": {
          "color": "#EF553B",
          "dash": "solid",
          "shape": "hv"
         },
         "marker": {
          "symbol": "circle"
         },
         "mode": "markers+lines",
         "name": "1",
         "orientation": "v",
         "showlegend": true,
         "type": "scatter",
         "x": [
          0,
          0.5,
          0.6333333333333333,
          1.1666666666666667,
          1.8333333333333333,
          2.1333333333333333,
          2.1666666666666665,
          2.8,
          3.1666666666666665,
          3.533333333333333,
          3.966666666666667,
          6.833333333333333,
          6.866666666666666,
          8.2,
          8.466666666666667,
          8.6,
          9.8,
          11.066666666666666,
          12.133333333333333,
          12.2,
          12.333333333333334,
          12.533333333333333,
          13.266666666666667,
          13.833333333333334,
          14.266666666666667,
          14.433333333333334,
          15.233333333333333,
          15.533333333333333,
          15.566666666666666,
          15.633333333333333,
          15.8,
          16.033333333333335,
          17.4,
          17.866666666666667,
          18.133333333333333,
          18.233333333333334,
          18.333333333333332,
          19.233333333333334,
          19.266666666666666,
          19.366666666666667,
          19.666666666666668,
          19.966666666666665,
          20.066666666666666,
          21,
          21.4,
          21.533333333333335,
          21.6,
          21.633333333333333,
          21.7,
          25,
          25.366666666666667,
          25.766666666666666,
          27.066666666666666,
          27.333333333333332,
          29.1,
          29.766666666666666,
          30.133333333333333,
          31.633333333333333,
          34.53333333333333,
          37,
          38.766666666666666,
          39.13333333333333,
          47.43333333333333,
          48.5,
          50.733333333333334,
          51.4,
          55.666666666666664,
          61.5,
          64.9,
          68.13333333333334,
          71.3,
          90.1,
          93,
          96.2,
          100.36666666666666,
          106.1,
          110.46666666666667,
          112.13333333333334,
          168.33333333333334
         ],
         "xaxis": "x",
         "y": [
          1,
          1,
          0.9875000000000004,
          0.9875000000000004,
          0.9875000000000004,
          0.9875000000000004,
          0.9745065789473686,
          0.9745065789473686,
          0.9745065789473686,
          0.9611571737563088,
          0.9611571737563088,
          0.9476197487738259,
          0.9340823237913427,
          0.9205448988088594,
          0.8934700488438924,
          0.8799326238614092,
          0.8663951988789259,
          0.8528577738964429,
          0.8393203489139599,
          0.8393203489139599,
          0.8255609989317635,
          0.8255609989317635,
          0.8255609989317635,
          0.8113271886053541,
          0.8113271886053541,
          0.8113271886053541,
          0.8113271886053541,
          0.8113271886053541,
          0.7960191284429889,
          0.7960191284429889,
          0.7960191284429889,
          0.7960191284429889,
          0.7794353966004264,
          0.7794353966004264,
          0.7621146100093058,
          0.7447938234181853,
          0.7274730368270649,
          0.7101522502359443,
          0.7101522502359443,
          0.7101522502359443,
          0.7101522502359443,
          0.691464033124472,
          0.6727758160129998,
          0.6540875989015276,
          0.6540875989015276,
          0.6540875989015276,
          0.6540875989015276,
          0.6540875989015276,
          0.6329879989369622,
          0.6329879989369622,
          0.6329879989369622,
          0.6329879989369622,
          0.6329879989369622,
          0.6329879989369622,
          0.6329879989369622,
          0.6329879989369622,
          0.6054667815918771,
          0.5779455642467916,
          0.5504243469017062,
          0.5504243469017062,
          0.5214546444331953,
          0.5214546444331953,
          0.4907808418194779,
          0.4907808418194779,
          0.4907808418194779,
          0.4907808418194779,
          0.4530284693718258,
          0.4530284693718258,
          0.4530284693718258,
          0.4530284693718258,
          0.4530284693718258,
          0.4530284693718258,
          0.4530284693718258,
          0.4530284693718258,
          0.4530284693718258,
          0.3397713520288694,
          0.3397713520288694,
          0.3397713520288694,
          0.3397713520288694
         ],
         "yaxis": "y"
        },
        {
         "hovertemplate": "disease=3<br>timeline=%{x}<br>chance=%{y}<extra></extra>",
         "legendgroup": "3",
         "line": {
          "color": "#FFA15A",
          "dash": "solid",
          "shape": "hv"
         },
         "marker": {
          "symbol": "circle"
         },
         "mode": "markers+lines",
         "name": "3",
         "orientation": "v",
         "showlegend": true,
         "type": "scatter",
         "x": [
          0,
          0.6666666666666666,
          1.2333333333333334,
          1.9666666666666666,
          2.1333333333333333,
          2.966666666666667,
          3.2666666666666666,
          3.933333333333333,
          4.266666666666667,
          5.6,
          5.766666666666667,
          6.066666666666666,
          6.666666666666667,
          7.033333333333333,
          7.733333333333333,
          7.9,
          8.366666666666667,
          9.066666666666666,
          11.866666666666667,
          12.4,
          12.866666666666667,
          13.333333333333334,
          13.6,
          13.766666666666667,
          13.933333333333334,
          15.333333333333334,
          15.533333333333333,
          15.8,
          16,
          17.966666666666665,
          19.066666666666666,
          19.166666666666668,
          19.3,
          19.6,
          20.333333333333332,
          20.5,
          21.1,
          23.533333333333335,
          23.966666666666665,
          28.366666666666667,
          29.966666666666665,
          32.46666666666667,
          33.46666666666667,
          36.93333333333333,
          37.56666666666667,
          52.733333333333334,
          56.93333333333333,
          58.7,
          59.733333333333334,
          60.13333333333333,
          60.2,
          61,
          67.56666666666666,
          70.3,
          79.33333333333333,
          88.53333333333333,
          94.26666666666667,
          165.56666666666666
         ],
         "xaxis": "x",
         "y": [
          1,
          0.9824561403508775,
          0.9824561403508775,
          0.9824561403508775,
          0.9824561403508775,
          0.9824561403508775,
          0.9635627530364373,
          0.9446693657219973,
          0.9257759784075573,
          0.9068825910931178,
          0.8879892037786774,
          0.8690958164642377,
          0.8502024291497976,
          0.8313090418353576,
          0.8124156545209178,
          0.7935222672064779,
          0.774628879892038,
          0.7557354925775979,
          0.7368421052631579,
          0.7368421052631579,
          0.7174515235457064,
          0.6980609418282548,
          0.6786703601108033,
          0.659279778393352,
          0.6398891966759004,
          0.6398891966759004,
          0.6398891966759004,
          0.6192476096863552,
          0.6192476096863552,
          0.6192476096863552,
          0.6192476096863552,
          0.5963125130313051,
          0.5733774163762547,
          0.5733774163762547,
          0.5733774163762547,
          0.5484479634903306,
          0.5484479634903306,
          0.5223313938003149,
          0.4962148241102991,
          0.4962148241102991,
          0.4962148241102991,
          0.4670257168096932,
          0.43783660950908737,
          0.43783660950908737,
          0.43783660950908737,
          0.43783660950908737,
          0.43783660950908737,
          0.43783660950908737,
          0.43783660950908737,
          0.38918809734141085,
          0.38918809734141085,
          0.38918809734141085,
          0.38918809734141085,
          0.38918809734141085,
          0.38918809734141085,
          0.38918809734141085,
          0.19459404867070543,
          0.19459404867070543
         ],
         "yaxis": "y"
        },
        {
         "hovertemplate": "disease=Med IFNG<br>timeline=%{x}<br>chance=%{y}<extra></extra>",
         "legendgroup": "Med IFNG",
         "line": {
          "color": "rgb(115, 175, 72)",
          "dash": "solid",
          "shape": "hv"
         },
         "marker": {
          "symbol": "circle"
         },
         "mode": "markers+lines",
         "name": "Med IFNG",
         "orientation": "v",
         "showlegend": true,
         "type": "scatter",
         "x": [
          0,
          1.8333333333333333,
          5.6,
          8.433333333333334,
          8.7,
          9.266666666666667,
          10.1,
          10.7,
          12.4,
          13.766666666666667,
          13.933333333333334,
          14.266666666666667,
          14.566666666666666,
          15.8,
          16.133333333333333,
          16.5,
          16.933333333333334,
          18,
          21,
          21.1,
          22.833333333333332,
          26.3,
          28.366666666666667,
          30.133333333333333,
          33.46666666666667,
          36.93333333333333,
          42.333333333333336,
          44.2,
          48.666666666666664,
          51.4,
          62.3,
          70.3,
          76.43333333333334,
          127.23333333333333,
          168.03333333333333
         ],
         "xaxis": "x",
         "y": [
          1,
          1,
          0.9696969696969697,
          0.9393939393939394,
          0.9090909090909092,
          0.8787878787878789,
          0.8484848484848484,
          0.8181818181818182,
          0.8181818181818182,
          0.7867132867132866,
          0.7552447552447553,
          0.7552447552447553,
          0.722408026755853,
          0.6895712982669505,
          0.6895712982669505,
          0.655092733353603,
          0.6206141684402554,
          0.6206141684402554,
          0.5841074526496521,
          0.5841074526496521,
          0.5451669558063419,
          0.5451669558063419,
          0.5451669558063419,
          0.4997363761558134,
          0.45430579650528496,
          0.45430579650528496,
          0.40382737467136426,
          0.40382737467136426,
          0.40382737467136426,
          0.40382737467136426,
          0.32306189973709143,
          0.32306189973709143,
          0.32306189973709143,
          0.32306189973709143,
          0.32306189973709143
         ],
         "yaxis": "y"
        },
        {
         "hovertemplate": "disease=2<br>timeline=%{x}<br>chance=%{y}<extra></extra>",
         "legendgroup": "2",
         "line": {
          "color": "#AB63FA",
          "dash": "solid",
          "shape": "hv"
         },
         "marker": {
          "symbol": "circle"
         },
         "mode": "markers+lines",
         "name": "2",
         "orientation": "v",
         "showlegend": true,
         "type": "scatter",
         "x": [
          0,
          2.2666666666666666,
          2.3,
          2.933333333333333,
          3,
          3.3,
          4.066666666666666,
          5.133333333333334,
          5.6,
          6.366666666666666,
          7.1,
          7.333333333333333,
          8.266666666666667,
          8.333333333333334,
          8.366666666666667,
          8.433333333333334,
          8.633333333333333,
          8.7,
          9.066666666666666,
          9.133333333333333,
          9.2,
          9.266666666666667,
          10.1,
          10.366666666666667,
          10.7,
          11,
          11.233333333333333,
          11.466666666666667,
          12.333333333333334,
          12.566666666666666,
          12.733333333333333,
          12.8,
          13.1,
          13.533333333333333,
          13.766666666666667,
          14.266666666666667,
          14.566666666666666,
          15.166666666666666,
          16.133333333333333,
          16.5,
          16.933333333333334,
          17.4,
          17.966666666666665,
          18,
          18.233333333333334,
          18.733333333333334,
          18.833333333333332,
          19.4,
          19.666666666666668,
          20.766666666666666,
          21.266666666666666,
          21.333333333333332,
          22.833333333333332,
          25.266666666666666,
          26.1,
          26.3,
          26.5,
          27.3,
          27.433333333333334,
          29.566666666666666,
          29.9,
          33.5,
          34.93333333333333,
          44.2,
          48.666666666666664,
          51.86666666666667,
          54.96666666666667,
          62.3,
          64.96666666666667,
          76.43333333333334,
          80.76666666666667,
          127.23333333333333,
          144.76666666666668,
          168.03333333333333
         ],
         "xaxis": "x",
         "y": [
          1,
          1,
          0.9861111111111112,
          0.9722222222222225,
          0.9583333333333336,
          0.9444444444444446,
          0.9305555555555552,
          0.9166666666666663,
          0.9027777777777775,
          0.8888888888888886,
          0.8749999999999999,
          0.8611111111111112,
          0.8472222222222223,
          0.8333333333333331,
          0.8333333333333331,
          0.8192090395480219,
          0.8050847457627115,
          0.7909604519774011,
          0.7768361581920902,
          0.7627118644067794,
          0.7627118644067794,
          0.7483210745123119,
          0.7339302846178442,
          0.7195394947233766,
          0.705148704828909,
          0.705148704828909,
          0.705148704828909,
          0.6901455408963793,
          0.675142376963849,
          0.675142376963849,
          0.675142376963849,
          0.675142376963849,
          0.6590675584647099,
          0.6429927399655705,
          0.6269179214664311,
          0.6269179214664311,
          0.6104200814278409,
          0.5939222413892505,
          0.5939222413892505,
          0.5769530344924151,
          0.5599838275955792,
          0.5599838275955792,
          0.5424843329832174,
          0.5424843329832174,
          0.5244015218837768,
          0.5244015218837768,
          0.5056728961022134,
          0.5056728961022134,
          0.4862239385598205,
          0.4667749810174278,
          0.4667749810174278,
          0.4667749810174278,
          0.44555793642572644,
          0.44555793642572644,
          0.44555793642572644,
          0.44555793642572644,
          0.42080471773540845,
          0.39605149904509024,
          0.3712982803547721,
          0.3712982803547721,
          0.3712982803547721,
          0.3427368741736358,
          0.3427368741736358,
          0.3427368741736358,
          0.3427368741736358,
          0.3046549992654539,
          0.3046549992654539,
          0.26113285651324625,
          0.26113285651324625,
          0.26113285651324625,
          0.26113285651324625,
          0.26113285651324625,
          0.26113285651324625,
          0.26113285651324625
         ],
         "yaxis": "y"
        },
        {
         "hovertemplate": "disease=Ne<br>timeline=%{x}<br>chance=%{y}<extra></extra>",
         "legendgroup": "Ne",
         "line": {
          "color": "rgb(237, 173, 8)",
          "dash": "solid",
          "shape": "hv"
         },
         "marker": {
          "symbol": "circle"
         },
         "mode": "markers+lines",
         "name": "Ne",
         "orientation": "v",
         "showlegend": true,
         "type": "scatter",
         "x": [
          0,
          0.5,
          0.6666666666666666,
          4.266666666666667,
          5.133333333333334,
          6.666666666666667,
          6.833333333333333,
          7.033333333333333,
          8.466666666666667,
          9.066666666666666,
          9.1,
          11.066666666666666,
          11.466666666666667,
          12.566666666666666,
          13.033333333333333,
          13.833333333333334,
          15.333333333333334,
          17.4,
          18.233333333333334,
          18.833333333333332,
          19.066666666666666,
          19.166666666666668,
          20.5,
          21.266666666666666,
          21.533333333333335,
          27.3,
          31.5,
          37,
          64.9,
          112.13333333333334
         ],
         "xaxis": "x",
         "y": [
          1,
          1,
          0.9655172413793102,
          0.9310344827586207,
          0.896551724137931,
          0.8620689655172411,
          0.8275862068965517,
          0.793103448275862,
          0.7586206896551725,
          0.7241379310344827,
          0.6896551724137929,
          0.6551724137931032,
          0.6206896551724136,
          0.6206896551724136,
          0.584178498985801,
          0.5476673427991884,
          0.5476673427991884,
          0.5085482468849608,
          0.4661692263112141,
          0.4237902057374674,
          0.4237902057374674,
          0.3767024050999709,
          0.32961460446247454,
          0.32961460446247454,
          0.32961460446247454,
          0.2636916835699797,
          0.2636916835699797,
          0.2636916835699797,
          0.2636916835699797,
          0.2636916835699797
         ],
         "yaxis": "y"
        },
        {
         "hovertemplate": "disease=Lum Inf/NS<br>timeline=%{x}<br>chance=%{y}<extra></extra>",
         "legendgroup": "Lum Inf/NS",
         "line": {
          "color": "#00cc96",
          "dash": "solid",
          "shape": "hv"
         },
         "marker": {
          "symbol": "circle"
         },
         "mode": "markers+lines",
         "name": "Lum Inf/NS",
         "orientation": "v",
         "showlegend": true,
         "type": "scatter",
         "x": [
          0,
          1.1666666666666667,
          1.8666666666666667,
          1.9,
          2.1333333333333333,
          2.1666666666666665,
          2.3,
          2.533333333333333,
          2.8,
          3.1,
          3.2666666666666666,
          3.3,
          3.5,
          3.9,
          4.3,
          4.866666666666666,
          4.966666666666667,
          5.133333333333334,
          5.6,
          6.066666666666666,
          6.233333333333333,
          6.3,
          6.366666666666666,
          7.466666666666667,
          7.666666666666667,
          8.2,
          8.333333333333334,
          8.466666666666667,
          9.766666666666667,
          9.8,
          10.8,
          11.966666666666667,
          12.4,
          12.933333333333334,
          12.966666666666667,
          13.133333333333333,
          14.1,
          14.433333333333334,
          14.466666666666667,
          15.1,
          15.133333333333333,
          15.166666666666666,
          15.333333333333334,
          15.566666666666666,
          15.9,
          16.033333333333335,
          16.2,
          16.4,
          16.5,
          17.066666666666666,
          17.666666666666668,
          17.866666666666667,
          17.966666666666665,
          18.066666666666666,
          18.2,
          18.233333333333334,
          18.333333333333332,
          18.833333333333332,
          19.066666666666666,
          19.1,
          19.366666666666667,
          19.766666666666666,
          20.066666666666666,
          20.766666666666666,
          21.2,
          21.6,
          22.166666666666668,
          23,
          23.2,
          23.333333333333332,
          23.733333333333334,
          24.466666666666665,
          24.633333333333333,
          25.366666666666667,
          25.933333333333334,
          26.633333333333333,
          27.066666666666666,
          27.1,
          27.733333333333334,
          27.833333333333332,
          28.066666666666666,
          28.633333333333333,
          28.8,
          33.43333333333333,
          33.6,
          34.53333333333333,
          35.9,
          36.46666666666667,
          44.93333333333333,
          45.56666666666667,
          47.333333333333336,
          47.43333333333333,
          48.46666666666667,
          52.03333333333333,
          55.666666666666664,
          57.13333333333333,
          57.266666666666666,
          60.13333333333333,
          61.5,
          63.733333333333334,
          65.06666666666666,
          67.33333333333333,
          72.56666666666666,
          93,
          98.46666666666667,
          98.8,
          100.36666666666666,
          114,
          114.4,
          132.7,
          168.33333333333334
         ],
         "xaxis": "x",
         "y": [
          1,
          1,
          0.9824561403508766,
          0.9736842105263154,
          0.9736842105263154,
          0.9648325358851665,
          0.9559808612440186,
          0.9471291866028697,
          0.9471291866028697,
          0.9381940055971821,
          0.9292588245914949,
          0.9203236435858076,
          0.9203236435858076,
          0.9203236435858076,
          0.9203236435858076,
          0.911120407149949,
          0.9019171707140915,
          0.892713934278233,
          0.8835106978423748,
          0.8743074614065168,
          0.8743074614065168,
          0.8743074614065168,
          0.8649063059075218,
          0.8649063059075218,
          0.8649063059075218,
          0.8552962358418826,
          0.845686165776244,
          0.8360760957106045,
          0.8360760957106045,
          0.8166324655777999,
          0.806910650511398,
          0.806910650511398,
          0.806910650511398,
          0.7969487906285406,
          0.7969487906285406,
          0.7969487906285406,
          0.7969487906285406,
          0.7969487906285406,
          0.7864626223307963,
          0.775976454033053,
          0.7654902857353086,
          0.7654902857353086,
          0.7548584762112072,
          0.7548584762112072,
          0.7548584762112072,
          0.7548584762112072,
          0.7437576162669242,
          0.7326567563226417,
          0.7326567563226417,
          0.7326567563226417,
          0.7212089945051007,
          0.7097612326875595,
          0.6981258026435009,
          0.6981258026435009,
          0.6981258026435009,
          0.6860891508737856,
          0.6740524991040703,
          0.6620158473343546,
          0.6620158473343546,
          0.6620158473343546,
          0.6620158473343546,
          0.6492847733471554,
          0.6365536993599562,
          0.623822625372757,
          0.623822625372757,
          0.623822625372757,
          0.6105498035563155,
          0.596982030143953,
          0.5834142567315904,
          0.5834142567315904,
          0.5695234410951241,
          0.5556326254586575,
          0.541741809822191,
          0.541741809822191,
          0.5274854464058176,
          0.5274854464058176,
          0.5274854464058176,
          0.5274854464058176,
          0.5274854464058176,
          0.5115010389389746,
          0.5115010389389746,
          0.4950010054248142,
          0.4785009719106537,
          0.4785009719106537,
          0.4614116514852733,
          0.4443223310598928,
          0.42723301063451224,
          0.42723301063451224,
          0.4094316351914075,
          0.3916302597483029,
          0.3738288843051982,
          0.35602750886209344,
          0.35602750886209344,
          0.35602750886209344,
          0.3362482028141994,
          0.3362482028141994,
          0.315232690138312,
          0.2942171774624245,
          0.2942171774624245,
          0.2942171774624245,
          0.2942171774624245,
          0.2674701613294768,
          0.2674701613294768,
          0.2674701613294768,
          0.2292601382824087,
          0.2292601382824087,
          0.2292601382824087,
          0.2292601382824087,
          0.2292601382824087,
          0.2292601382824087,
          0.2292601382824087
         ],
         "yaxis": "y"
        },
        {
         "hovertemplate": "disease=0<br>timeline=%{x}<br>chance=%{y}<extra></extra>",
         "legendgroup": "0",
         "line": {
          "color": "#636EFA",
          "dash": "solid",
          "shape": "hv"
         },
         "marker": {
          "symbol": "circle"
         },
         "mode": "markers+lines",
         "name": "0",
         "orientation": "v",
         "showlegend": true,
         "type": "scatter",
         "x": [
          0,
          0.5666666666666667,
          0.6666666666666666,
          1.8666666666666667,
          1.9,
          2.533333333333333,
          3.1,
          3.5,
          3.9,
          4.3,
          4.733333333333333,
          4.866666666666666,
          4.966666666666667,
          5.133333333333334,
          5.266666666666667,
          6.233333333333333,
          7.2,
          7.666666666666667,
          7.733333333333333,
          9.1,
          9.766666666666667,
          9.8,
          10.8,
          11.966666666666667,
          12.266666666666667,
          12.3,
          12.4,
          12.633333333333333,
          12.8,
          12.933333333333334,
          12.966666666666667,
          13.033333333333333,
          13.133333333333333,
          13.666666666666666,
          13.766666666666667,
          13.833333333333334,
          14.166666666666666,
          14.466666666666667,
          15.133333333333333,
          15.333333333333334,
          15.833333333333334,
          15.9,
          16.166666666666668,
          16.2,
          16.4,
          17.066666666666666,
          17.466666666666665,
          17.666666666666668,
          17.866666666666667,
          19.066666666666666,
          19.266666666666666,
          19.333333333333332,
          19.766666666666666,
          20.4,
          20.566666666666666,
          20.6,
          21.366666666666667,
          22.166666666666668,
          22.466666666666665,
          22.666666666666668,
          23.033333333333335,
          23.2,
          23.333333333333332,
          23.733333333333334,
          24.466666666666665,
          24.633333333333333,
          25.933333333333334,
          27.733333333333334,
          27.833333333333332,
          28.066666666666666,
          28.633333333333333,
          30.066666666666666,
          30.2,
          30.7,
          31.5,
          33.43333333333333,
          33.6,
          35.46666666666667,
          35.9,
          36.333333333333336,
          37.166666666666664,
          42.333333333333336,
          45.56666666666667,
          47.333333333333336,
          47.63333333333333,
          57.266666666666666,
          65.06666666666666,
          66.96666666666667,
          67.33333333333333,
          67.46666666666667,
          68.3,
          72.56666666666666,
          87.5,
          88.03333333333333,
          98.8,
          132.7
         ],
         "xaxis": "x",
         "y": [
          1,
          1,
          1,
          0.9894736842105263,
          0.978947368421053,
          0.9684210526315792,
          0.957894736842105,
          0.957894736842105,
          0.957894736842105,
          0.957894736842105,
          0.9470095693779899,
          0.9361244019138747,
          0.9252392344497604,
          0.9143540669856451,
          0.9143540669856451,
          0.9143540669856451,
          0.9032034076321618,
          0.9032034076321618,
          0.8919133650367601,
          0.8806233224413581,
          0.8806233224413581,
          0.8691866559161454,
          0.8577499893909327,
          0.8577499893909327,
          0.8577499893909327,
          0.8577499893909327,
          0.8577499893909327,
          0.8577499893909327,
          0.8577499893909327,
          0.8453188301243973,
          0.8453188301243973,
          0.8327021311673168,
          0.8327021311673168,
          0.8327021311673168,
          0.8196911603678276,
          0.8196911603678276,
          0.8196911603678276,
          0.8062536003617974,
          0.7928160403557679,
          0.7793784803497376,
          0.7793784803497376,
          0.7793784803497376,
          0.7793784803497376,
          0.7652079625251967,
          0.751037444700656,
          0.751037444700656,
          0.751037444700656,
          0.7363112202947608,
          0.7215849958888656,
          0.7215849958888656,
          0.7215849958888656,
          0.7215849958888656,
          0.7058983655434553,
          0.6902117351980451,
          0.6745251048526352,
          0.6745251048526352,
          0.6745251048526352,
          0.658073273026961,
          0.641199599359603,
          0.624325925692245,
          0.624325925692245,
          0.6069835388674604,
          0.6069835388674604,
          0.5891310818419467,
          0.5712786248164332,
          0.5534261677909197,
          0.5355737107654062,
          0.5355737107654062,
          0.5164460782380703,
          0.5164460782380703,
          0.49658276753660596,
          0.49658276753660596,
          0.49658276753660596,
          0.49658276753660596,
          0.49658276753660596,
          0.49658276753660596,
          0.47175362915977564,
          0.4469244907829453,
          0.4220953524061152,
          0.4220953524061152,
          0.4220953524061152,
          0.3939556622457074,
          0.3658159720852998,
          0.33767628192489213,
          0.33767628192489213,
          0.30697843811353837,
          0.30697843811353837,
          0.30697843811353837,
          0.30697843811353837,
          0.30697843811353837,
          0.30697843811353837,
          0.30697843811353837,
          0.30697843811353837,
          0.2046522920756922,
          0.2046522920756922,
          0.2046522920756922
         ],
         "yaxis": "y"
        },
        {
         "hovertemplate": "disease=LumP<br>timeline=%{x}<br>chance=%{y}<extra></extra>",
         "legendgroup": "LumP",
         "line": {
          "color": "rgb(95, 70, 144)",
          "dash": "solid",
          "shape": "hv"
         },
         "marker": {
          "symbol": "circle"
         },
         "mode": "markers+lines",
         "name": "LumP",
         "orientation": "v",
         "showlegend": true,
         "type": "scatter",
         "x": [
          0,
          0.43333333333333335,
          0.5666666666666667,
          0.6333333333333333,
          0.6666666666666666,
          0.9333333333333333,
          2.2333333333333334,
          2.2666666666666666,
          3.6666666666666665,
          3.966666666666667,
          4.733333333333333,
          4.8,
          5.266666666666667,
          5.433333333333334,
          6.666666666666667,
          6.866666666666666,
          7.2,
          7.733333333333333,
          8.6,
          8.733333333333333,
          10.8,
          11.1,
          11.333333333333334,
          11.5,
          12.033333333333333,
          12.133333333333333,
          12.166666666666666,
          12.2,
          12.266666666666667,
          12.3,
          12.333333333333334,
          12.433333333333334,
          12.533333333333333,
          12.633333333333333,
          12.766666666666667,
          12.8,
          12.833333333333334,
          13.266666666666667,
          13.3,
          13.666666666666666,
          13.766666666666667,
          13.833333333333334,
          13.866666666666667,
          14.166666666666666,
          14.266666666666667,
          15.233333333333333,
          15.533333333333333,
          15.566666666666666,
          15.633333333333333,
          15.8,
          15.833333333333334,
          16.166666666666668,
          16.766666666666666,
          16.933333333333334,
          17.466666666666665,
          17.866666666666667,
          18.133333333333333,
          18.666666666666668,
          19.233333333333334,
          19.266666666666666,
          19.333333333333332,
          19.4,
          19.666666666666668,
          19.966666666666665,
          20.4,
          20.566666666666666,
          20.6,
          21.366666666666667,
          21.4,
          21.633333333333333,
          21.7,
          22.466666666666665,
          22.666666666666668,
          23.033333333333335,
          25,
          25.766666666666666,
          26.6,
          27.333333333333332,
          27.733333333333334,
          29.1,
          29.766666666666666,
          30.066666666666666,
          30.2,
          30.7,
          31.366666666666667,
          31.633333333333333,
          33.233333333333334,
          35.46666666666667,
          36.333333333333336,
          37.166666666666664,
          39.13333333333333,
          39.36666666666667,
          45,
          45.666666666666664,
          47.63333333333333,
          48.5,
          50.733333333333334,
          50.96666666666667,
          51.266666666666666,
          53.46666666666667,
          54.03333333333333,
          65.7,
          66.93333333333334,
          66.96666666666667,
          67.46666666666667,
          68.13333333333334,
          68.3,
          71.3,
          77.06666666666666,
          77.66666666666667,
          88.03333333333333,
          90.1,
          96.2,
          106.1,
          110.46666666666667
         ],
         "xaxis": "x",
         "y": [
          1,
          1,
          1,
          0.9915966386554623,
          0.9915966386554623,
          0.9915966386554623,
          0.9915966386554623,
          0.9829740591888931,
          0.9829740591888931,
          0.9829740591888931,
          0.9741975050889925,
          0.9654209509890922,
          0.9654209509890922,
          0.9565638780442386,
          0.9476240287167225,
          0.9386841793892062,
          0.92974433006169,
          0.920804480734174,
          0.9118646314066573,
          0.9029247820791416,
          0.8939849327516256,
          0.8939849327516256,
          0.884954781915751,
          0.884954781915751,
          0.884954781915751,
          0.875639468421901,
          0.875639468421901,
          0.875639468421901,
          0.875639468421901,
          0.875639468421901,
          0.875639468421901,
          0.875639468421901,
          0.875639468421901,
          0.875639468421901,
          0.875639468421901,
          0.875639468421901,
          0.8649609383191951,
          0.8649609383191951,
          0.8649609383191951,
          0.8649609383191951,
          0.8537276793799845,
          0.8537276793799845,
          0.8537276793799845,
          0.8537276793799845,
          0.8537276793799845,
          0.8537276793799845,
          0.8537276793799845,
          0.841531569674556,
          0.841531569674556,
          0.841531569674556,
          0.841531569674556,
          0.841531569674556,
          0.841531569674556,
          0.841531569674556,
          0.841531569674556,
          0.841531569674556,
          0.8139403706688331,
          0.8139403706688331,
          0.7999069160021293,
          0.7999069160021293,
          0.7999069160021293,
          0.7999069160021293,
          0.7999069160021293,
          0.7845240906943959,
          0.7691412653866626,
          0.7537584400789292,
          0.7537584400789292,
          0.7537584400789292,
          0.7537584400789292,
          0.7537584400789292,
          0.7370082525216197,
          0.7202580649643102,
          0.7035078774070008,
          0.7035078774070008,
          0.7035078774070008,
          0.7035078774070008,
          0.7035078774070008,
          0.7035078774070008,
          0.7035078774070008,
          0.7035078774070008,
          0.7035078774070008,
          0.7035078774070008,
          0.7035078774070008,
          0.7035078774070008,
          0.6808140749100008,
          0.6581202724130009,
          0.6581202724130009,
          0.6346159769696795,
          0.6346159769696795,
          0.6346159769696795,
          0.6346159769696795,
          0.6346159769696795,
          0.6346159769696795,
          0.6346159769696795,
          0.6346159769696795,
          0.6346159769696795,
          0.6346159769696795,
          0.6346159769696795,
          0.6346159769696795,
          0.6346159769696795,
          0.6346159769696795,
          0.5892862643289882,
          0.5892862643289882,
          0.5892862643289882,
          0.5892862643289882,
          0.5892862643289882,
          0.5892862643289882,
          0.5892862643289882,
          0.5892862643289882,
          0.5892862643289882,
          0.4714290114631906,
          0.4714290114631906,
          0.4714290114631906,
          0.23571450573159528,
          0.23571450573159528
         ],
         "yaxis": "y"
        },
        {
         "hovertemplate": "disease=5<br>timeline=%{x}<br>chance=%{y}<extra></extra>",
         "legendgroup": "5",
         "line": {
          "color": "#00CC96",
          "dash": "solid",
          "shape": "hv"
         },
         "marker": {
          "symbol": "circle"
         },
         "mode": "markers+lines",
         "name": "5",
         "orientation": "v",
         "showlegend": true,
         "type": "scatter",
         "x": [
          0,
          0.43333333333333335,
          1.8666666666666667,
          2.2333333333333334,
          2.2666666666666666,
          2.7333333333333334,
          4.8,
          9.066666666666666,
          10.933333333333334,
          11.466666666666667,
          11.5,
          12.166666666666666,
          12.266666666666667,
          12.333333333333334,
          12.833333333333334,
          14.1,
          15.166666666666666,
          16.933333333333334,
          18.2,
          21.2,
          26.6,
          28,
          28.8,
          33.233333333333334,
          51.266666666666666,
          54.63333333333333,
          98.46666666666667
         ],
         "xaxis": "x",
         "y": [
          1,
          1,
          0.9600000000000003,
          0.9600000000000003,
          0.9182608695652179,
          0.9182608695652179,
          0.8745341614906835,
          0.8308074534161494,
          0.7870807453416152,
          0.7433540372670812,
          0.7433540372670812,
          0.7433540372670812,
          0.7433540372670812,
          0.7433540372670812,
          0.6861729574773058,
          0.6861729574773058,
          0.6861729574773058,
          0.6861729574773058,
          0.6861729574773058,
          0.6861729574773058,
          0.6861729574773058,
          0.6861729574773058,
          0.6861729574773058,
          0.6861729574773058,
          0.6861729574773058,
          0.6861729574773058,
          0
         ],
         "yaxis": "y"
        },
        {
         "hovertemplate": "disease=High IFNG<br>timeline=%{x}<br>chance=%{y}<extra></extra>",
         "legendgroup": "High IFNG",
         "line": {
          "color": "rgb(56, 166, 165)",
          "dash": "solid",
          "shape": "hv"
         },
         "marker": {
          "symbol": "circle"
         },
         "mode": "markers+lines",
         "name": "High IFNG",
         "orientation": "v",
         "showlegend": true,
         "type": "scatter",
         "x": [
          0,
          1.2333333333333334,
          2.2666666666666666,
          2.7333333333333334,
          3.933333333333333,
          4.066666666666666,
          5.766666666666667,
          7.733333333333333,
          9.066666666666666,
          9.2,
          10.366666666666667,
          10.933333333333334,
          11,
          11.233333333333333,
          12.333333333333334,
          12.8,
          12.866666666666667,
          13.533333333333333,
          13.6,
          15.533333333333333,
          16,
          17.966666666666665,
          19.3,
          19.6,
          19.666666666666668,
          20.333333333333332,
          21.333333333333332,
          23.533333333333335,
          23.966666666666665,
          26.1,
          27.433333333333334,
          28,
          28.8,
          29.9,
          29.966666666666665,
          32.46666666666667,
          33.5,
          34.93333333333333,
          52.733333333333334,
          54.63333333333333,
          54.96666666666667,
          56.93333333333333,
          58.7,
          59.733333333333334,
          64.96666666666667,
          67.56666666666666,
          79.33333333333333,
          80.76666666666667,
          94.26666666666667,
          144.76666666666668,
          165.56666666666666
         ],
         "xaxis": "x",
         "y": [
          1,
          1,
          1,
          1,
          0.9787234042553193,
          0.9574468085106383,
          0.9361702127659575,
          0.9148936170212767,
          0.8936170212765959,
          0.8936170212765959,
          0.8718214841722886,
          0.8500259470679813,
          0.8500259470679813,
          0.8500259470679813,
          0.8270522728229007,
          0.8270522728229007,
          0.8034222078851039,
          0.7797921429473066,
          0.7561620780095094,
          0.7561620780095094,
          0.7561620780095094,
          0.7561620780095094,
          0.7300875235953882,
          0.7300875235953882,
          0.7030472449437072,
          0.7030472449437072,
          0.7030472449437072,
          0.6737536097377193,
          0.6444599745317316,
          0.6444599745317316,
          0.6137714043159348,
          0.6137714043159348,
          0.6137714043159348,
          0.6137714043159348,
          0.6137714043159348,
          0.575410691546189,
          0.5370499787764429,
          0.5370499787764429,
          0.5370499787764429,
          0.5370499787764429,
          0.5370499787764429,
          0.5370499787764429,
          0.5370499787764429,
          0.5370499787764429,
          0.5370499787764429,
          0.5370499787764429,
          0.5370499787764429,
          0.5370499787764429,
          0.35803331918429515,
          0.35803331918429515,
          0.35803331918429515
         ],
         "yaxis": "y"
        }
       ],
       "layout": {
        "height": 700,
        "legend": {
         "title": {
          "text": "disease"
         },
         "tracegroupgap": 0
        },
        "margin": {
         "t": 60
        },
        "template": {
         "data": {
          "bar": [
           {
            "error_x": {
             "color": "#2a3f5f"
            },
            "error_y": {
             "color": "#2a3f5f"
            },
            "marker": {
             "line": {
              "color": "#E5ECF6",
              "width": 0.5
             },
             "pattern": {
              "fillmode": "overlay",
              "size": 10,
              "solidity": 0.2
             }
            },
            "type": "bar"
           }
          ],
          "barpolar": [
           {
            "marker": {
             "line": {
              "color": "#E5ECF6",
              "width": 0.5
             },
             "pattern": {
              "fillmode": "overlay",
              "size": 10,
              "solidity": 0.2
             }
            },
            "type": "barpolar"
           }
          ],
          "carpet": [
           {
            "aaxis": {
             "endlinecolor": "#2a3f5f",
             "gridcolor": "white",
             "linecolor": "white",
             "minorgridcolor": "white",
             "startlinecolor": "#2a3f5f"
            },
            "baxis": {
             "endlinecolor": "#2a3f5f",
             "gridcolor": "white",
             "linecolor": "white",
             "minorgridcolor": "white",
             "startlinecolor": "#2a3f5f"
            },
            "type": "carpet"
           }
          ],
          "choropleth": [
           {
            "colorbar": {
             "outlinewidth": 0,
             "ticks": ""
            },
            "type": "choropleth"
           }
          ],
          "contour": [
           {
            "colorbar": {
             "outlinewidth": 0,
             "ticks": ""
            },
            "colorscale": [
             [
              0,
              "#0d0887"
             ],
             [
              0.1111111111111111,
              "#46039f"
             ],
             [
              0.2222222222222222,
              "#7201a8"
             ],
             [
              0.3333333333333333,
              "#9c179e"
             ],
             [
              0.4444444444444444,
              "#bd3786"
             ],
             [
              0.5555555555555556,
              "#d8576b"
             ],
             [
              0.6666666666666666,
              "#ed7953"
             ],
             [
              0.7777777777777778,
              "#fb9f3a"
             ],
             [
              0.8888888888888888,
              "#fdca26"
             ],
             [
              1,
              "#f0f921"
             ]
            ],
            "type": "contour"
           }
          ],
          "contourcarpet": [
           {
            "colorbar": {
             "outlinewidth": 0,
             "ticks": ""
            },
            "type": "contourcarpet"
           }
          ],
          "heatmap": [
           {
            "colorbar": {
             "outlinewidth": 0,
             "ticks": ""
            },
            "colorscale": [
             [
              0,
              "#0d0887"
             ],
             [
              0.1111111111111111,
              "#46039f"
             ],
             [
              0.2222222222222222,
              "#7201a8"
             ],
             [
              0.3333333333333333,
              "#9c179e"
             ],
             [
              0.4444444444444444,
              "#bd3786"
             ],
             [
              0.5555555555555556,
              "#d8576b"
             ],
             [
              0.6666666666666666,
              "#ed7953"
             ],
             [
              0.7777777777777778,
              "#fb9f3a"
             ],
             [
              0.8888888888888888,
              "#fdca26"
             ],
             [
              1,
              "#f0f921"
             ]
            ],
            "type": "heatmap"
           }
          ],
          "heatmapgl": [
           {
            "colorbar": {
             "outlinewidth": 0,
             "ticks": ""
            },
            "colorscale": [
             [
              0,
              "#0d0887"
             ],
             [
              0.1111111111111111,
              "#46039f"
             ],
             [
              0.2222222222222222,
              "#7201a8"
             ],
             [
              0.3333333333333333,
              "#9c179e"
             ],
             [
              0.4444444444444444,
              "#bd3786"
             ],
             [
              0.5555555555555556,
              "#d8576b"
             ],
             [
              0.6666666666666666,
              "#ed7953"
             ],
             [
              0.7777777777777778,
              "#fb9f3a"
             ],
             [
              0.8888888888888888,
              "#fdca26"
             ],
             [
              1,
              "#f0f921"
             ]
            ],
            "type": "heatmapgl"
           }
          ],
          "histogram": [
           {
            "marker": {
             "pattern": {
              "fillmode": "overlay",
              "size": 10,
              "solidity": 0.2
             }
            },
            "type": "histogram"
           }
          ],
          "histogram2d": [
           {
            "colorbar": {
             "outlinewidth": 0,
             "ticks": ""
            },
            "colorscale": [
             [
              0,
              "#0d0887"
             ],
             [
              0.1111111111111111,
              "#46039f"
             ],
             [
              0.2222222222222222,
              "#7201a8"
             ],
             [
              0.3333333333333333,
              "#9c179e"
             ],
             [
              0.4444444444444444,
              "#bd3786"
             ],
             [
              0.5555555555555556,
              "#d8576b"
             ],
             [
              0.6666666666666666,
              "#ed7953"
             ],
             [
              0.7777777777777778,
              "#fb9f3a"
             ],
             [
              0.8888888888888888,
              "#fdca26"
             ],
             [
              1,
              "#f0f921"
             ]
            ],
            "type": "histogram2d"
           }
          ],
          "histogram2dcontour": [
           {
            "colorbar": {
             "outlinewidth": 0,
             "ticks": ""
            },
            "colorscale": [
             [
              0,
              "#0d0887"
             ],
             [
              0.1111111111111111,
              "#46039f"
             ],
             [
              0.2222222222222222,
              "#7201a8"
             ],
             [
              0.3333333333333333,
              "#9c179e"
             ],
             [
              0.4444444444444444,
              "#bd3786"
             ],
             [
              0.5555555555555556,
              "#d8576b"
             ],
             [
              0.6666666666666666,
              "#ed7953"
             ],
             [
              0.7777777777777778,
              "#fb9f3a"
             ],
             [
              0.8888888888888888,
              "#fdca26"
             ],
             [
              1,
              "#f0f921"
             ]
            ],
            "type": "histogram2dcontour"
           }
          ],
          "mesh3d": [
           {
            "colorbar": {
             "outlinewidth": 0,
             "ticks": ""
            },
            "type": "mesh3d"
           }
          ],
          "parcoords": [
           {
            "line": {
             "colorbar": {
              "outlinewidth": 0,
              "ticks": ""
             }
            },
            "type": "parcoords"
           }
          ],
          "pie": [
           {
            "automargin": true,
            "type": "pie"
           }
          ],
          "scatter": [
           {
            "fillpattern": {
             "fillmode": "overlay",
             "size": 10,
             "solidity": 0.2
            },
            "type": "scatter"
           }
          ],
          "scatter3d": [
           {
            "line": {
             "colorbar": {
              "outlinewidth": 0,
              "ticks": ""
             }
            },
            "marker": {
             "colorbar": {
              "outlinewidth": 0,
              "ticks": ""
             }
            },
            "type": "scatter3d"
           }
          ],
          "scattercarpet": [
           {
            "marker": {
             "colorbar": {
              "outlinewidth": 0,
              "ticks": ""
             }
            },
            "type": "scattercarpet"
           }
          ],
          "scattergeo": [
           {
            "marker": {
             "colorbar": {
              "outlinewidth": 0,
              "ticks": ""
             }
            },
            "type": "scattergeo"
           }
          ],
          "scattergl": [
           {
            "marker": {
             "colorbar": {
              "outlinewidth": 0,
              "ticks": ""
             }
            },
            "type": "scattergl"
           }
          ],
          "scattermapbox": [
           {
            "marker": {
             "colorbar": {
              "outlinewidth": 0,
              "ticks": ""
             }
            },
            "type": "scattermapbox"
           }
          ],
          "scatterpolar": [
           {
            "marker": {
             "colorbar": {
              "outlinewidth": 0,
              "ticks": ""
             }
            },
            "type": "scatterpolar"
           }
          ],
          "scatterpolargl": [
           {
            "marker": {
             "colorbar": {
              "outlinewidth": 0,
              "ticks": ""
             }
            },
            "type": "scatterpolargl"
           }
          ],
          "scatterternary": [
           {
            "marker": {
             "colorbar": {
              "outlinewidth": 0,
              "ticks": ""
             }
            },
            "type": "scatterternary"
           }
          ],
          "surface": [
           {
            "colorbar": {
             "outlinewidth": 0,
             "ticks": ""
            },
            "colorscale": [
             [
              0,
              "#0d0887"
             ],
             [
              0.1111111111111111,
              "#46039f"
             ],
             [
              0.2222222222222222,
              "#7201a8"
             ],
             [
              0.3333333333333333,
              "#9c179e"
             ],
             [
              0.4444444444444444,
              "#bd3786"
             ],
             [
              0.5555555555555556,
              "#d8576b"
             ],
             [
              0.6666666666666666,
              "#ed7953"
             ],
             [
              0.7777777777777778,
              "#fb9f3a"
             ],
             [
              0.8888888888888888,
              "#fdca26"
             ],
             [
              1,
              "#f0f921"
             ]
            ],
            "type": "surface"
           }
          ],
          "table": [
           {
            "cells": {
             "fill": {
              "color": "#EBF0F8"
             },
             "line": {
              "color": "white"
             }
            },
            "header": {
             "fill": {
              "color": "#C8D4E3"
             },
             "line": {
              "color": "white"
             }
            },
            "type": "table"
           }
          ]
         },
         "layout": {
          "annotationdefaults": {
           "arrowcolor": "#2a3f5f",
           "arrowhead": 0,
           "arrowwidth": 1
          },
          "autotypenumbers": "strict",
          "coloraxis": {
           "colorbar": {
            "outlinewidth": 0,
            "ticks": ""
           }
          },
          "colorscale": {
           "diverging": [
            [
             0,
             "#8e0152"
            ],
            [
             0.1,
             "#c51b7d"
            ],
            [
             0.2,
             "#de77ae"
            ],
            [
             0.3,
             "#f1b6da"
            ],
            [
             0.4,
             "#fde0ef"
            ],
            [
             0.5,
             "#f7f7f7"
            ],
            [
             0.6,
             "#e6f5d0"
            ],
            [
             0.7,
             "#b8e186"
            ],
            [
             0.8,
             "#7fbc41"
            ],
            [
             0.9,
             "#4d9221"
            ],
            [
             1,
             "#276419"
            ]
           ],
           "sequential": [
            [
             0,
             "#0d0887"
            ],
            [
             0.1111111111111111,
             "#46039f"
            ],
            [
             0.2222222222222222,
             "#7201a8"
            ],
            [
             0.3333333333333333,
             "#9c179e"
            ],
            [
             0.4444444444444444,
             "#bd3786"
            ],
            [
             0.5555555555555556,
             "#d8576b"
            ],
            [
             0.6666666666666666,
             "#ed7953"
            ],
            [
             0.7777777777777778,
             "#fb9f3a"
            ],
            [
             0.8888888888888888,
             "#fdca26"
            ],
            [
             1,
             "#f0f921"
            ]
           ],
           "sequentialminus": [
            [
             0,
             "#0d0887"
            ],
            [
             0.1111111111111111,
             "#46039f"
            ],
            [
             0.2222222222222222,
             "#7201a8"
            ],
            [
             0.3333333333333333,
             "#9c179e"
            ],
            [
             0.4444444444444444,
             "#bd3786"
            ],
            [
             0.5555555555555556,
             "#d8576b"
            ],
            [
             0.6666666666666666,
             "#ed7953"
            ],
            [
             0.7777777777777778,
             "#fb9f3a"
            ],
            [
             0.8888888888888888,
             "#fdca26"
            ],
            [
             1,
             "#f0f921"
            ]
           ]
          },
          "colorway": [
           "#636efa",
           "#EF553B",
           "#00cc96",
           "#ab63fa",
           "#FFA15A",
           "#19d3f3",
           "#FF6692",
           "#B6E880",
           "#FF97FF",
           "#FECB52"
          ],
          "font": {
           "color": "#2a3f5f"
          },
          "geo": {
           "bgcolor": "white",
           "lakecolor": "white",
           "landcolor": "#E5ECF6",
           "showlakes": true,
           "showland": true,
           "subunitcolor": "white"
          },
          "hoverlabel": {
           "align": "left"
          },
          "hovermode": "closest",
          "mapbox": {
           "style": "light"
          },
          "paper_bgcolor": "white",
          "plot_bgcolor": "#E5ECF6",
          "polar": {
           "angularaxis": {
            "gridcolor": "white",
            "linecolor": "white",
            "ticks": ""
           },
           "bgcolor": "#E5ECF6",
           "radialaxis": {
            "gridcolor": "white",
            "linecolor": "white",
            "ticks": ""
           }
          },
          "scene": {
           "xaxis": {
            "backgroundcolor": "#E5ECF6",
            "gridcolor": "white",
            "gridwidth": 2,
            "linecolor": "white",
            "showbackground": true,
            "ticks": "",
            "zerolinecolor": "white"
           },
           "yaxis": {
            "backgroundcolor": "#E5ECF6",
            "gridcolor": "white",
            "gridwidth": 2,
            "linecolor": "white",
            "showbackground": true,
            "ticks": "",
            "zerolinecolor": "white"
           },
           "zaxis": {
            "backgroundcolor": "#E5ECF6",
            "gridcolor": "white",
            "gridwidth": 2,
            "linecolor": "white",
            "showbackground": true,
            "ticks": "",
            "zerolinecolor": "white"
           }
          },
          "shapedefaults": {
           "line": {
            "color": "#2a3f5f"
           }
          },
          "ternary": {
           "aaxis": {
            "gridcolor": "white",
            "linecolor": "white",
            "ticks": ""
           },
           "baxis": {
            "gridcolor": "white",
            "linecolor": "white",
            "ticks": ""
           },
           "bgcolor": "#E5ECF6",
           "caxis": {
            "gridcolor": "white",
            "linecolor": "white",
            "ticks": ""
           }
          },
          "title": {
           "x": 0.05
          },
          "xaxis": {
           "automargin": true,
           "gridcolor": "white",
           "linecolor": "white",
           "ticks": "",
           "title": {
            "standoff": 15
           },
           "zerolinecolor": "white",
           "zerolinewidth": 2
          },
          "yaxis": {
           "automargin": true,
           "gridcolor": "white",
           "linecolor": "white",
           "ticks": "",
           "title": {
            "standoff": 15
           },
           "zerolinecolor": "white",
           "zerolinewidth": 2
          }
         }
        },
        "title": {
         "text": "Survival analysis VU + in-situ"
        },
        "xaxis": {
         "anchor": "y",
         "domain": [
          0,
          1
         ],
         "range": [
          -1,
          60
         ],
         "title": {
          "text": "Time (months)"
         }
        },
        "yaxis": {
         "anchor": "x",
         "domain": [
          0,
          1
         ],
         "title": {
          "text": "Survival (%)"
         }
        }
       }
      }
     },
     "metadata": {},
     "output_type": "display_data"
    }
   ],
   "source": [
    "cluster_model = \"RawKMeans_CS_6_exp_tf6\"\n",
    "\n",
    "colors_ref = px.colors.qualitative.Prism\n",
    "color_map = {\n",
    "    \"LumP\": colors_ref[0],\n",
    "    \"Lum Inf/Ns\": colors_ref[1],\n",
    "    \"High IFNG\": colors_ref[2],\n",
    "    \"Low IFNG\": colors_ref[3],\n",
    "    \"Med IFNG\": colors_ref[4],\n",
    "    \"Ne\": colors_ref[5],\n",
    "}\n",
    "\n",
    "select_labels_1 = [1.0, 0.0, 5.0]\n",
    "select_labels_2 = [\"High IFNG\", \"Med IFNG\", \"Low IFNG\"]\n",
    "\n",
    "select_labels_1 = None\n",
    "select_labels_2 = None\n",
    "\n",
    "colors_net = px.colors.qualitative.Plotly\n",
    "comb_cs[cluster_model] = comb_cs[cluster_model].astype(str)\n",
    "for idx, val in enumerate(comb_cs[cluster_model].unique()):\n",
    "    color_map[val] = colors_net[idx]\n",
    "\n",
    "fig = survival_comp(\n",
    "    comb_cs.drop(columns=[\"days_to_last_follow_up\", \"days_to_death\"]),\n",
    "    vu_output,\n",
    "    classifier_1=cluster_model,\n",
    "    classifier_2=\"KMeans_labels_6\",\n",
    "    selected_labels_1=select_labels_1,\n",
    "    selected_labels_2=select_labels_2,\n",
    "    color_map=color_map,\n",
    ")\n",
    "fig = fig.update_layout(title=\"Survival analysis {}\".format(\"VU + in-situ\"))\n",
    "fig.update_layout(height=700)\n",
    "# save_fig(name=\"Survival_plot_reward\", fig=fig, base_path=figures_path, width=1400, height=600)"
   ]
  },
  {
   "cell_type": "markdown",
   "metadata": {},
   "source": [
    "### Significance"
   ]
  },
  {
   "cell_type": "code",
   "execution_count": 24,
   "metadata": {},
   "outputs": [],
   "source": [
    "from lifelines import KaplanMeierFitter\n",
    "from lifelines.statistics import multivariate_logrank_test\n",
    "from lifelines.utils import restricted_mean_survival_time\n",
    "from lifelines.plotting import rmst_plot"
   ]
  },
  {
   "cell_type": "code",
   "execution_count": 93,
   "metadata": {},
   "outputs": [],
   "source": [
    "def survival_sig(df, model):\n",
    "    df = df.reset_index().rename(columns={\"index\": \"Sample\"}).copy(deep=True)\n",
    "    classifier = model\n",
    "\n",
    "    dmy = df[[\"days_to_last_follow_up\", \"days_to_death\", classifier]].replace(\"--\", 0).astype(int)\n",
    "    dmy[\"last_contact\"] = dmy[[\"days_to_last_follow_up\", \"days_to_death\"]].max(axis=1).div(30)\n",
    "\n",
    "    labels = list(df[model].unique())\n",
    "    dmy = dmy[dmy[classifier].isin(labels)]\n",
    "\n",
    "    results = multivariate_logrank_test(dmy[\"last_contact\"], dmy[classifier], dmy[\"days_to_death\"])\n",
    "    display(results.print_summary())\n",
    "    print(\"{0:.10f}\".format(results.p_value))"
   ]
  },
  {
   "cell_type": "code",
   "execution_count": 95,
   "metadata": {},
   "outputs": [
    {
     "name": "stdout",
     "output_type": "stream",
     "text": [
      "[0, 1, 5, 2, 3, 4]\n"
     ]
    },
    {
     "data": {
      "text/html": [
       "<div>\n",
       "<style scoped>\n",
       "    .dataframe tbody tr th:only-of-type {\n",
       "        vertical-align: middle;\n",
       "    }\n",
       "\n",
       "    .dataframe tbody tr th {\n",
       "        vertical-align: top;\n",
       "    }\n",
       "\n",
       "    .dataframe thead th {\n",
       "        text-align: right;\n",
       "    }\n",
       "</style>\n",
       "<table border=\"1\" class=\"dataframe\">\n",
       "  <tbody>\n",
       "    <tr>\n",
       "      <th>t_0</th>\n",
       "      <td>-1</td>\n",
       "    </tr>\n",
       "    <tr>\n",
       "      <th>null_distribution</th>\n",
       "      <td>chi squared</td>\n",
       "    </tr>\n",
       "    <tr>\n",
       "      <th>degrees_of_freedom</th>\n",
       "      <td>5</td>\n",
       "    </tr>\n",
       "    <tr>\n",
       "      <th>test_name</th>\n",
       "      <td>multivariate_logrank_test</td>\n",
       "    </tr>\n",
       "  </tbody>\n",
       "</table>\n",
       "</div><table border=\"1\" class=\"dataframe\">\n",
       "  <thead>\n",
       "    <tr style=\"text-align: right;\">\n",
       "      <th></th>\n",
       "      <th>test_statistic</th>\n",
       "      <th>p</th>\n",
       "      <th>-log2(p)</th>\n",
       "    </tr>\n",
       "  </thead>\n",
       "  <tbody>\n",
       "    <tr>\n",
       "      <th>0</th>\n",
       "      <td>13.52</td>\n",
       "      <td>0.02</td>\n",
       "      <td>5.72</td>\n",
       "    </tr>\n",
       "  </tbody>\n",
       "</table>"
      ],
      "text/latex": [
       "\\begin{tabular}{lrrr}\n",
       " & test_statistic & p & -log2(p) \\\\\n",
       "0 & 13.52 & 0.02 & 5.72 \\\\\n",
       "\\end{tabular}\n"
      ],
      "text/plain": [
       "<lifelines.StatisticalResult: multivariate_logrank_test>\n",
       "               t_0 = -1\n",
       " null_distribution = chi squared\n",
       "degrees_of_freedom = 5\n",
       "         test_name = multivariate_logrank_test\n",
       "\n",
       "---\n",
       " test_statistic    p  -log2(p)\n",
       "          13.52 0.02      5.72"
      ]
     },
     "metadata": {},
     "output_type": "display_data"
    },
    {
     "data": {
      "text/plain": [
       "None"
      ]
     },
     "metadata": {},
     "output_type": "display_data"
    },
    {
     "name": "stdout",
     "output_type": "stream",
     "text": [
      "0.0189304997\n"
     ]
    }
   ],
   "source": [
    "comb_cs[cluster_model] = comb_cs[cluster_model].astype(int)\n",
    "survival_sig(comb_cs, model=cluster_model)"
   ]
  }
 ],
 "metadata": {
  "kernelspec": {
   "display_name": "iNet_gt",
   "language": "python",
   "name": "python3"
  },
  "language_info": {
   "codemirror_mode": {
    "name": "ipython",
    "version": 3
   },
   "file_extension": ".py",
   "mimetype": "text/x-python",
   "name": "python",
   "nbconvert_exporter": "python",
   "pygments_lexer": "ipython3",
   "version": "3.11.8"
  }
 },
 "nbformat": 4,
 "nbformat_minor": 2
}
