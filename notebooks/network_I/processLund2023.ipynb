{
 "cells": [
  {
   "cell_type": "markdown",
   "metadata": {},
   "source": [
    "# Motivation\n",
    "\n",
    "Process the TPMs files and the metadata from the Lund2023 classifier so that we can use for our own single-sample classifier"
   ]
  },
  {
   "cell_type": "code",
   "execution_count": 10,
   "metadata": {},
   "outputs": [],
   "source": [
    "import pandas as pd\n",
    "import plotly.express as px\n",
    "import sys\n",
    "\n",
    "sys.path.append('/Users/vlad/Developer/York/iNet_v2/src/')\n",
    "from NetworkAnalysis.utilities import sankey_consensus_plot as sky\n",
    "\n",
    "\n",
    "\n",
    "data_path = '../../data/Lund2023/'\n",
    "metadata_df = pd.read_excel(f'{data_path}/1-s2.0-S1525157824002071-mmc2.xlsx', sheet_name='TableS2', skiprows=1, index_col='ID').drop(columns=['GSM', \"Web_source\", 'Last_access', 'GEO_submission', 'GEO_sample_title'])\n",
    "\n",
    "tpm_scaled_df = pd.read_csv(f'{data_path}/Lund265_TPMs.tsv', sep='\\t').T\n",
    "tpm_non_scaled_df = pd.read_csv(f'{data_path}/Lund265_TPMs_non-scaled.tsv', sep='\\t').T\n"
   ]
  },
  {
   "cell_type": "code",
   "execution_count": 11,
   "metadata": {},
   "outputs": [
    {
     "data": {
      "application/vnd.plotly.v1+json": {
       "config": {
        "plotlyServerURL": "https://plot.ly"
       },
       "data": [
        {
         "arrangement": "perpendicular",
         "link": {
          "color": "#bdbdbd",
          "source": [
           0,
           1,
           2,
           3,
           4,
           4,
           4,
           4,
           5,
           5,
           5,
           5,
           5,
           6,
           6,
           6,
           6,
           7,
           7,
           7,
           7,
           7,
           7,
           8,
           8,
           8,
           8,
           8,
           9,
           9,
           10,
           10,
           11,
           11,
           12,
           12,
           12,
           13,
           14,
           15,
           16,
           17,
           18,
           19,
           20,
           20,
           20,
           20,
           20,
           21,
           21,
           21,
           21,
           21,
           22,
           22,
           22,
           22,
           23,
           23,
           23,
           23,
           23,
           23,
           24,
           24,
           24,
           24
          ],
          "target": [
           5,
           6,
           7,
           8,
           9,
           10,
           11,
           12,
           13,
           14,
           16,
           17,
           18,
           14,
           17,
           18,
           19,
           13,
           14,
           15,
           16,
           18,
           19,
           14,
           15,
           16,
           17,
           19,
           17,
           18,
           17,
           18,
           17,
           18,
           17,
           18,
           19,
           20,
           21,
           22,
           23,
           24,
           24,
           24,
           25,
           26,
           28,
           29,
           30,
           25,
           26,
           28,
           29,
           30,
           26,
           27,
           29,
           30,
           25,
           26,
           27,
           28,
           29,
           30,
           25,
           26,
           28,
           30
          ],
          "value": [
           53,
           50,
           23,
           17,
           15,
           53,
           29,
           25,
           22,
           2,
           1,
           3,
           25,
           38,
           9,
           2,
           1,
           2,
           6,
           5,
           1,
           7,
           2,
           3,
           1,
           9,
           3,
           1,
           10,
           5,
           52,
           1,
           11,
           18,
           15,
           1,
           9,
           24,
           49,
           6,
           11,
           103,
           59,
           13,
           17,
           1,
           3,
           1,
           2,
           1,
           32,
           6,
           2,
           8,
           2,
           2,
           1,
           1,
           1,
           2,
           1,
           1,
           4,
           2,
           6,
           27,
           20,
           122
          ]
         },
         "node": {
          "color": [
           "rgb(229, 134, 6)",
           "rgb(229, 134, 6)",
           "rgb(229, 134, 6)",
           "rgb(229, 134, 6)",
           "rgb(229, 134, 6)",
           "rgb(93, 105, 177)",
           "rgb(93, 105, 177)",
           "rgb(93, 105, 177)",
           "rgb(93, 105, 177)",
           "rgb(93, 105, 177)",
           "rgb(93, 105, 177)",
           "rgb(93, 105, 177)",
           "rgb(93, 105, 177)",
           "rgb(82, 188, 163)",
           "rgb(82, 188, 163)",
           "rgb(82, 188, 163)",
           "rgb(82, 188, 163)",
           "rgb(82, 188, 163)",
           "rgb(82, 188, 163)",
           "rgb(82, 188, 163)",
           "rgb(153, 201, 69)",
           "rgb(153, 201, 69)",
           "rgb(153, 201, 69)",
           "rgb(153, 201, 69)",
           "rgb(153, 201, 69)",
           "rgb(204, 97, 176)",
           "rgb(204, 97, 176)",
           "rgb(204, 97, 176)",
           "rgb(204, 97, 176)",
           "rgb(204, 97, 176)",
           "rgb(204, 97, 176)"
          ],
          "label": [
           "Basal",
           "GU",
           "Mes",
           "ScNE",
           "Uro",
           "Basal",
           "GU",
           "Mes",
           "ScNE",
           "Uro-Inf",
           "UroA",
           "UroB",
           "UroC",
           "Basal",
           "GU",
           "Mes",
           "ScNE",
           "UroA",
           "UroB",
           "UroC",
           "Basal",
           "GU",
           "Mes",
           "ScNE",
           "Uro",
           "Basal",
           "GU",
           "Mes",
           "Na",
           "ScNE",
           "Uro"
          ],
          "line": {
           "color": "black",
           "width": 0.5
          },
          "pad": 15,
          "thickness": 20
         },
         "type": "sankey"
        }
       ],
       "layout": {
        "annotations": [
         {
          "align": "left",
          "font": {
           "color": "#003366",
           "size": 18
          },
          "showarrow": false,
          "text": "RNA_5c",
          "x": 0,
          "xref": "x",
          "y": 1.07,
          "yref": "paper"
         },
         {
          "align": "left",
          "font": {
           "color": "#003366",
           "size": 18
          },
          "showarrow": false,
          "text": "RNA_7c",
          "x": 1,
          "xref": "x",
          "y": 1.07,
          "yref": "paper"
         },
         {
          "align": "left",
          "font": {
           "color": "#003366",
           "size": 18
          },
          "showarrow": false,
          "text": "OOB_and_predictions_7c",
          "x": 2,
          "xref": "x",
          "y": 1.07,
          "yref": "paper"
         },
         {
          "align": "left",
          "font": {
           "color": "#003366",
           "size": 18
          },
          "showarrow": false,
          "text": "predictions_Lund2017",
          "x": 3,
          "xref": "x",
          "y": 1.07,
          "yref": "paper"
         },
         {
          "align": "left",
          "font": {
           "color": "#003366",
           "size": 18
          },
          "showarrow": false,
          "text": "IHC",
          "x": 4,
          "xref": "x",
          "y": 1.07,
          "yref": "paper"
         }
        ],
        "font": {
         "color": "#003366",
         "size": 16
        },
        "height": 600,
        "plot_bgcolor": "rgba(0,0,0,0)",
        "template": {
         "data": {
          "bar": [
           {
            "error_x": {
             "color": "rgb(51,51,51)"
            },
            "error_y": {
             "color": "rgb(51,51,51)"
            },
            "marker": {
             "line": {
              "color": "rgb(237,237,237)",
              "width": 0.5
             },
             "pattern": {
              "fillmode": "overlay",
              "size": 10,
              "solidity": 0.2
             }
            },
            "type": "bar"
           }
          ],
          "barpolar": [
           {
            "marker": {
             "line": {
              "color": "rgb(237,237,237)",
              "width": 0.5
             },
             "pattern": {
              "fillmode": "overlay",
              "size": 10,
              "solidity": 0.2
             }
            },
            "type": "barpolar"
           }
          ],
          "carpet": [
           {
            "aaxis": {
             "endlinecolor": "rgb(51,51,51)",
             "gridcolor": "white",
             "linecolor": "white",
             "minorgridcolor": "white",
             "startlinecolor": "rgb(51,51,51)"
            },
            "baxis": {
             "endlinecolor": "rgb(51,51,51)",
             "gridcolor": "white",
             "linecolor": "white",
             "minorgridcolor": "white",
             "startlinecolor": "rgb(51,51,51)"
            },
            "type": "carpet"
           }
          ],
          "choropleth": [
           {
            "colorbar": {
             "outlinewidth": 0,
             "tickcolor": "rgb(237,237,237)",
             "ticklen": 6,
             "ticks": "inside"
            },
            "type": "choropleth"
           }
          ],
          "contour": [
           {
            "colorbar": {
             "outlinewidth": 0,
             "tickcolor": "rgb(237,237,237)",
             "ticklen": 6,
             "ticks": "inside"
            },
            "colorscale": [
             [
              0,
              "rgb(20,44,66)"
             ],
             [
              1,
              "rgb(90,179,244)"
             ]
            ],
            "type": "contour"
           }
          ],
          "contourcarpet": [
           {
            "colorbar": {
             "outlinewidth": 0,
             "tickcolor": "rgb(237,237,237)",
             "ticklen": 6,
             "ticks": "inside"
            },
            "type": "contourcarpet"
           }
          ],
          "heatmap": [
           {
            "colorbar": {
             "outlinewidth": 0,
             "tickcolor": "rgb(237,237,237)",
             "ticklen": 6,
             "ticks": "inside"
            },
            "colorscale": [
             [
              0,
              "rgb(20,44,66)"
             ],
             [
              1,
              "rgb(90,179,244)"
             ]
            ],
            "type": "heatmap"
           }
          ],
          "heatmapgl": [
           {
            "colorbar": {
             "outlinewidth": 0,
             "tickcolor": "rgb(237,237,237)",
             "ticklen": 6,
             "ticks": "inside"
            },
            "colorscale": [
             [
              0,
              "rgb(20,44,66)"
             ],
             [
              1,
              "rgb(90,179,244)"
             ]
            ],
            "type": "heatmapgl"
           }
          ],
          "histogram": [
           {
            "marker": {
             "pattern": {
              "fillmode": "overlay",
              "size": 10,
              "solidity": 0.2
             }
            },
            "type": "histogram"
           }
          ],
          "histogram2d": [
           {
            "colorbar": {
             "outlinewidth": 0,
             "tickcolor": "rgb(237,237,237)",
             "ticklen": 6,
             "ticks": "inside"
            },
            "colorscale": [
             [
              0,
              "rgb(20,44,66)"
             ],
             [
              1,
              "rgb(90,179,244)"
             ]
            ],
            "type": "histogram2d"
           }
          ],
          "histogram2dcontour": [
           {
            "colorbar": {
             "outlinewidth": 0,
             "tickcolor": "rgb(237,237,237)",
             "ticklen": 6,
             "ticks": "inside"
            },
            "colorscale": [
             [
              0,
              "rgb(20,44,66)"
             ],
             [
              1,
              "rgb(90,179,244)"
             ]
            ],
            "type": "histogram2dcontour"
           }
          ],
          "mesh3d": [
           {
            "colorbar": {
             "outlinewidth": 0,
             "tickcolor": "rgb(237,237,237)",
             "ticklen": 6,
             "ticks": "inside"
            },
            "type": "mesh3d"
           }
          ],
          "parcoords": [
           {
            "line": {
             "colorbar": {
              "outlinewidth": 0,
              "tickcolor": "rgb(237,237,237)",
              "ticklen": 6,
              "ticks": "inside"
             }
            },
            "type": "parcoords"
           }
          ],
          "pie": [
           {
            "automargin": true,
            "type": "pie"
           }
          ],
          "scatter": [
           {
            "fillpattern": {
             "fillmode": "overlay",
             "size": 10,
             "solidity": 0.2
            },
            "type": "scatter"
           }
          ],
          "scatter3d": [
           {
            "line": {
             "colorbar": {
              "outlinewidth": 0,
              "tickcolor": "rgb(237,237,237)",
              "ticklen": 6,
              "ticks": "inside"
             }
            },
            "marker": {
             "colorbar": {
              "outlinewidth": 0,
              "tickcolor": "rgb(237,237,237)",
              "ticklen": 6,
              "ticks": "inside"
             }
            },
            "type": "scatter3d"
           }
          ],
          "scattercarpet": [
           {
            "marker": {
             "colorbar": {
              "outlinewidth": 0,
              "tickcolor": "rgb(237,237,237)",
              "ticklen": 6,
              "ticks": "inside"
             }
            },
            "type": "scattercarpet"
           }
          ],
          "scattergeo": [
           {
            "marker": {
             "colorbar": {
              "outlinewidth": 0,
              "tickcolor": "rgb(237,237,237)",
              "ticklen": 6,
              "ticks": "inside"
             }
            },
            "type": "scattergeo"
           }
          ],
          "scattergl": [
           {
            "marker": {
             "colorbar": {
              "outlinewidth": 0,
              "tickcolor": "rgb(237,237,237)",
              "ticklen": 6,
              "ticks": "inside"
             }
            },
            "type": "scattergl"
           }
          ],
          "scattermapbox": [
           {
            "marker": {
             "colorbar": {
              "outlinewidth": 0,
              "tickcolor": "rgb(237,237,237)",
              "ticklen": 6,
              "ticks": "inside"
             }
            },
            "type": "scattermapbox"
           }
          ],
          "scatterpolar": [
           {
            "marker": {
             "colorbar": {
              "outlinewidth": 0,
              "tickcolor": "rgb(237,237,237)",
              "ticklen": 6,
              "ticks": "inside"
             }
            },
            "type": "scatterpolar"
           }
          ],
          "scatterpolargl": [
           {
            "marker": {
             "colorbar": {
              "outlinewidth": 0,
              "tickcolor": "rgb(237,237,237)",
              "ticklen": 6,
              "ticks": "inside"
             }
            },
            "type": "scatterpolargl"
           }
          ],
          "scatterternary": [
           {
            "marker": {
             "colorbar": {
              "outlinewidth": 0,
              "tickcolor": "rgb(237,237,237)",
              "ticklen": 6,
              "ticks": "inside"
             }
            },
            "type": "scatterternary"
           }
          ],
          "surface": [
           {
            "colorbar": {
             "outlinewidth": 0,
             "tickcolor": "rgb(237,237,237)",
             "ticklen": 6,
             "ticks": "inside"
            },
            "colorscale": [
             [
              0,
              "rgb(20,44,66)"
             ],
             [
              1,
              "rgb(90,179,244)"
             ]
            ],
            "type": "surface"
           }
          ],
          "table": [
           {
            "cells": {
             "fill": {
              "color": "rgb(237,237,237)"
             },
             "line": {
              "color": "white"
             }
            },
            "header": {
             "fill": {
              "color": "rgb(217,217,217)"
             },
             "line": {
              "color": "white"
             }
            },
            "type": "table"
           }
          ]
         },
         "layout": {
          "annotationdefaults": {
           "arrowhead": 0,
           "arrowwidth": 1
          },
          "autotypenumbers": "strict",
          "coloraxis": {
           "colorbar": {
            "outlinewidth": 0,
            "tickcolor": "rgb(237,237,237)",
            "ticklen": 6,
            "ticks": "inside"
           }
          },
          "colorscale": {
           "sequential": [
            [
             0,
             "rgb(20,44,66)"
            ],
            [
             1,
             "rgb(90,179,244)"
            ]
           ],
           "sequentialminus": [
            [
             0,
             "rgb(20,44,66)"
            ],
            [
             1,
             "rgb(90,179,244)"
            ]
           ]
          },
          "colorway": [
           "#F8766D",
           "#A3A500",
           "#00BF7D",
           "#00B0F6",
           "#E76BF3"
          ],
          "font": {
           "color": "rgb(51,51,51)"
          },
          "geo": {
           "bgcolor": "white",
           "lakecolor": "white",
           "landcolor": "rgb(237,237,237)",
           "showlakes": true,
           "showland": true,
           "subunitcolor": "white"
          },
          "hoverlabel": {
           "align": "left"
          },
          "hovermode": "closest",
          "paper_bgcolor": "white",
          "plot_bgcolor": "rgb(237,237,237)",
          "polar": {
           "angularaxis": {
            "gridcolor": "white",
            "linecolor": "white",
            "showgrid": true,
            "tickcolor": "rgb(51,51,51)",
            "ticks": "outside"
           },
           "bgcolor": "rgb(237,237,237)",
           "radialaxis": {
            "gridcolor": "white",
            "linecolor": "white",
            "showgrid": true,
            "tickcolor": "rgb(51,51,51)",
            "ticks": "outside"
           }
          },
          "scene": {
           "xaxis": {
            "backgroundcolor": "rgb(237,237,237)",
            "gridcolor": "white",
            "gridwidth": 2,
            "linecolor": "white",
            "showbackground": true,
            "showgrid": true,
            "tickcolor": "rgb(51,51,51)",
            "ticks": "outside",
            "zerolinecolor": "white"
           },
           "yaxis": {
            "backgroundcolor": "rgb(237,237,237)",
            "gridcolor": "white",
            "gridwidth": 2,
            "linecolor": "white",
            "showbackground": true,
            "showgrid": true,
            "tickcolor": "rgb(51,51,51)",
            "ticks": "outside",
            "zerolinecolor": "white"
           },
           "zaxis": {
            "backgroundcolor": "rgb(237,237,237)",
            "gridcolor": "white",
            "gridwidth": 2,
            "linecolor": "white",
            "showbackground": true,
            "showgrid": true,
            "tickcolor": "rgb(51,51,51)",
            "ticks": "outside",
            "zerolinecolor": "white"
           }
          },
          "shapedefaults": {
           "fillcolor": "black",
           "line": {
            "width": 0
           },
           "opacity": 0.3
          },
          "ternary": {
           "aaxis": {
            "gridcolor": "white",
            "linecolor": "white",
            "showgrid": true,
            "tickcolor": "rgb(51,51,51)",
            "ticks": "outside"
           },
           "baxis": {
            "gridcolor": "white",
            "linecolor": "white",
            "showgrid": true,
            "tickcolor": "rgb(51,51,51)",
            "ticks": "outside"
           },
           "bgcolor": "rgb(237,237,237)",
           "caxis": {
            "gridcolor": "white",
            "linecolor": "white",
            "showgrid": true,
            "tickcolor": "rgb(51,51,51)",
            "ticks": "outside"
           }
          },
          "xaxis": {
           "automargin": true,
           "gridcolor": "white",
           "linecolor": "white",
           "showgrid": true,
           "tickcolor": "rgb(51,51,51)",
           "ticks": "outside",
           "title": {
            "standoff": 15
           },
           "zerolinecolor": "white"
          },
          "yaxis": {
           "automargin": true,
           "gridcolor": "white",
           "linecolor": "white",
           "showgrid": true,
           "tickcolor": "rgb(51,51,51)",
           "ticks": "outside",
           "title": {
            "standoff": 15
           },
           "zerolinecolor": "white"
          }
         }
        },
        "title": {
         "text": "TCGA MIBC mRNA subtypes"
        },
        "xaxis": {
         "showgrid": false,
         "visible": false,
         "zeroline": false
        },
        "yaxis": {
         "showgrid": false,
         "visible": false,
         "zeroline": false
        }
       }
      }
     },
     "metadata": {},
     "output_type": "display_data"
    }
   ],
   "source": [
    "samples = tpm_scaled_df.index\n",
    "lund_265 = metadata_df.loc[metadata_df['dataset_preprocessing'] == 's265_kallisto']\n",
    "lund_265 = lund_265.loc[lund_265['sample_name'].isin(samples)]\n",
    "\n",
    "cols = ['RNA_5c', 'RNA_7c', 'OOB_and_predictions_7c', 'predictions_Lund2017', 'IHC']\n",
    "sky.main(lund_265.fillna(\"Na\"), reorder_cols=cols)"
   ]
  },
  {
   "cell_type": "code",
   "execution_count": 12,
   "metadata": {},
   "outputs": [],
   "source": [
    "cols = ['RNA_5c', 'RNA_7c', 'OOB_and_predictions_7c', 'predictions_Lund2017']\n",
    "\n",
    "comb_df = pd.concat([lund_265[cols], tpm_scaled_df], axis=1)\n",
    "comb_df.index.names = ['Sample']\n",
    "comb_df.to_csv(f'{data_path}/prcsd_scaled_lund265.tsv', sep='\\t')\n",
    "\n",
    "\n",
    "comb_df = pd.concat([lund_265[cols], tpm_non_scaled_df], axis=1)\n",
    "comb_df.index.names = ['Sample']\n",
    "comb_df.to_csv(f'{data_path}/prcsd_non_scaled_lund265.tsv', sep='\\t')"
   ]
  },
  {
   "cell_type": "markdown",
   "metadata": {},
   "source": [
    "## Test gene expresion"
   ]
  },
  {
   "cell_type": "code",
   "execution_count": 35,
   "metadata": {},
   "outputs": [
    {
     "data": {
      "application/vnd.plotly.v1+json": {
       "config": {
        "plotlyServerURL": "https://plot.ly"
       },
       "data": [
        {
         "alignmentgroup": "True",
         "boxpoints": "all",
         "hovertemplate": "Type=%{x}<br>NFE2L2=%{y}<extra></extra>",
         "legendgroup": "scaled",
         "marker": {
          "color": "#636efa"
         },
         "name": "scaled",
         "notched": false,
         "offsetgroup": "scaled",
         "orientation": "v",
         "showlegend": true,
         "type": "box",
         "x": [
          "scaled",
          "scaled",
          "scaled",
          "scaled",
          "scaled",
          "scaled",
          "scaled",
          "scaled",
          "scaled",
          "scaled",
          "scaled",
          "scaled",
          "scaled",
          "scaled",
          "scaled",
          "scaled",
          "scaled",
          "scaled",
          "scaled",
          "scaled",
          "scaled",
          "scaled",
          "scaled",
          "scaled",
          "scaled",
          "scaled",
          "scaled",
          "scaled",
          "scaled",
          "scaled",
          "scaled",
          "scaled",
          "scaled",
          "scaled",
          "scaled",
          "scaled",
          "scaled",
          "scaled",
          "scaled",
          "scaled",
          "scaled",
          "scaled",
          "scaled",
          "scaled",
          "scaled",
          "scaled",
          "scaled",
          "scaled",
          "scaled",
          "scaled",
          "scaled",
          "scaled",
          "scaled",
          "scaled",
          "scaled",
          "scaled",
          "scaled",
          "scaled",
          "scaled",
          "scaled",
          "scaled",
          "scaled",
          "scaled",
          "scaled",
          "scaled",
          "scaled",
          "scaled",
          "scaled",
          "scaled",
          "scaled",
          "scaled",
          "scaled",
          "scaled",
          "scaled",
          "scaled",
          "scaled",
          "scaled",
          "scaled",
          "scaled",
          "scaled",
          "scaled",
          "scaled",
          "scaled",
          "scaled",
          "scaled",
          "scaled",
          "scaled",
          "scaled",
          "scaled",
          "scaled",
          "scaled",
          "scaled",
          "scaled",
          "scaled",
          "scaled",
          "scaled",
          "scaled",
          "scaled",
          "scaled",
          "scaled",
          "scaled",
          "scaled",
          "scaled",
          "scaled",
          "scaled",
          "scaled",
          "scaled",
          "scaled",
          "scaled",
          "scaled",
          "scaled",
          "scaled",
          "scaled",
          "scaled",
          "scaled",
          "scaled",
          "scaled",
          "scaled",
          "scaled",
          "scaled",
          "scaled",
          "scaled",
          "scaled",
          "scaled",
          "scaled",
          "scaled",
          "scaled",
          "scaled",
          "scaled",
          "scaled",
          "scaled",
          "scaled",
          "scaled",
          "scaled",
          "scaled",
          "scaled",
          "scaled",
          "scaled",
          "scaled",
          "scaled",
          "scaled",
          "scaled",
          "scaled",
          "scaled",
          "scaled",
          "scaled",
          "scaled",
          "scaled",
          "scaled",
          "scaled",
          "scaled",
          "scaled",
          "scaled",
          "scaled",
          "scaled",
          "scaled",
          "scaled",
          "scaled",
          "scaled",
          "scaled",
          "scaled",
          "scaled",
          "scaled",
          "scaled",
          "scaled",
          "scaled",
          "scaled",
          "scaled",
          "scaled",
          "scaled",
          "scaled",
          "scaled",
          "scaled",
          "scaled",
          "scaled",
          "scaled",
          "scaled",
          "scaled",
          "scaled",
          "scaled",
          "scaled",
          "scaled",
          "scaled",
          "scaled",
          "scaled",
          "scaled",
          "scaled",
          "scaled",
          "scaled",
          "scaled",
          "scaled",
          "scaled",
          "scaled",
          "scaled",
          "scaled",
          "scaled",
          "scaled",
          "scaled",
          "scaled",
          "scaled",
          "scaled",
          "scaled",
          "scaled",
          "scaled",
          "scaled",
          "scaled",
          "scaled",
          "scaled",
          "scaled",
          "scaled",
          "scaled",
          "scaled",
          "scaled",
          "scaled",
          "scaled",
          "scaled",
          "scaled",
          "scaled",
          "scaled",
          "scaled",
          "scaled",
          "scaled",
          "scaled",
          "scaled",
          "scaled",
          "scaled",
          "scaled",
          "scaled",
          "scaled",
          "scaled",
          "scaled",
          "scaled",
          "scaled",
          "scaled",
          "scaled",
          "scaled",
          "scaled",
          "scaled",
          "scaled",
          "scaled",
          "scaled",
          "scaled",
          "scaled",
          "scaled",
          "scaled",
          "scaled",
          "scaled",
          "scaled",
          "scaled",
          "scaled",
          "scaled",
          "scaled",
          "scaled",
          "scaled",
          "scaled",
          "scaled",
          "scaled",
          "scaled",
          "scaled",
          "scaled",
          "scaled",
          "scaled",
          "scaled",
          "scaled",
          "scaled"
         ],
         "x0": " ",
         "xaxis": "x",
         "y": [
          34.8143689295223,
          66.3827469159277,
          103.093599189791,
          141.544496809663,
          166.744669178132,
          172.158092273226,
          156.6738281927,
          195.521971383242,
          154.826114148986,
          111.452717542615,
          155.00875358345,
          102.307810715033,
          64.1497897562982,
          164.685862484363,
          101.727436548298,
          115.765832151511,
          94.6493833388027,
          159.885326817505,
          230.374748453632,
          135.839105114888,
          226.043566951444,
          107.526481505165,
          73.1763137834224,
          287.753856457643,
          225.059184809444,
          168.447791177089,
          110.24664473518,
          93.7602937452895,
          168.472978306763,
          157.450092375925,
          296.307867884621,
          159.95323593881,
          75.0970231420169,
          100.383680736959,
          93.1786968654714,
          66.0719333697534,
          102.25277793942,
          118.322633412679,
          88.501644659347,
          60.5404826632387,
          55.6933640581109,
          141.855241402792,
          110.285451773071,
          92.1810998152528,
          174.121796879349,
          101.367492429256,
          97.7179576386449,
          193.967113132082,
          106.26172418029,
          150.141052615127,
          141.79656585026,
          273.557439996566,
          96.1069593779164,
          112.820477011949,
          238.048987381749,
          70.7627863486771,
          68.5489697658419,
          54.4355292460329,
          160.559050406932,
          199.728100334976,
          190.452149815668,
          111.78160936697,
          91.4118664739974,
          138.737449100837,
          182.038257247531,
          80.7955661577617,
          262.389940064098,
          111.833023896201,
          145.711405687458,
          216.279776333162,
          202.075290109988,
          150.710639634045,
          39.4097202246854,
          81.3981832291962,
          152.430250614599,
          68.1865057572334,
          76.4156482376234,
          254.078239995406,
          160.221827507604,
          175.977217567314,
          181.535275447942,
          167.416411665028,
          69.5002112729691,
          294.966119176378,
          124.884365894183,
          48.624041416292,
          186.773769278496,
          153.211471201814,
          77.6152136438434,
          99.2237315179869,
          92.310882663145,
          51.4561422222962,
          162.710932273493,
          88.5744643627837,
          179.985291163297,
          156.672292514918,
          133.834578009515,
          119.310445926315,
          199.415623074193,
          68.4445143799525,
          297.506710658284,
          148.979989918231,
          142.116696089378,
          150.663173549572,
          105.520289213846,
          127.732374055037,
          119.960951086678,
          90.6302760689188,
          153.570161111692,
          64.4480274423885,
          204.444154940368,
          124.774716119548,
          136.718496321806,
          123.254616326809,
          165.694414864588,
          122.23678482362,
          118.76867752537,
          90.646405381354,
          100.158744777403,
          100.53087851098,
          102.828955442021,
          116.260840121861,
          150.275309973712,
          103.787677022939,
          69.8449053837798,
          150.961483227346,
          134.250881299094,
          96.6444508934578,
          220.529139868127,
          148.552037647048,
          165.820052712724,
          69.7751589987804,
          53.6273410448709,
          146.514370786066,
          82.7508641784519,
          141.782902071418,
          170.380332649798,
          271.214306220619,
          117.020961270464,
          105.955530415475,
          43.1563942260897,
          221.179905724055,
          183.501539739114,
          222.116988000659,
          80.4899350345664,
          177.43185874491,
          47.0740180491631,
          143.627564609901,
          88.9266662460196,
          41.245882408826,
          143.231763717538,
          94.1138859243678,
          125.595250958784,
          111.877513966146,
          59.8641012183953,
          139.418270354398,
          203.166250194178,
          134.260920317189,
          40.1075032295872,
          119.466249210486,
          92.5085766001964,
          141.801309799766,
          311.890499835158,
          83.643433690571,
          97.2981593059177,
          110.572508006588,
          195.365566744286,
          198.631196661247,
          15.6055360084116,
          152.501223430326,
          125.937073081122,
          169.204751474243,
          73.8287411731279,
          50.5688658816875,
          150.239516664438,
          131.153626604289,
          109.317663707834,
          49.169007233123,
          95.8452240729936,
          71.1235537370082,
          116.812032795848,
          69.1764932373648,
          90.0440202818095,
          42.5261326242608,
          114.084689432769,
          98.3106120910798,
          98.3319384690862,
          43.0479556324876,
          73.9049054303613,
          199.014760772471,
          252.214467344022,
          72.2283403215197,
          179.620389435722,
          286.516832515719,
          73.9448233814357,
          110.228301933716,
          67.2053517501017,
          129.160151413158,
          83.8311939470237,
          132.419715785115,
          60.3760009573663,
          120.9174158861,
          226.443464730537,
          159.840662169161,
          256.788449180264,
          114.023011188047,
          103.719137109529,
          142.802477178023,
          156.799646560186,
          196.829450434429,
          227.096334075655,
          139.63705304044,
          46.6088309494378,
          131.472171505227,
          156.360638455327,
          175.618294311028,
          72.7298198024493,
          174.292807897159,
          176.443468302969,
          191.800728304451,
          143.839440393706,
          212.882782478887,
          151.500042080312,
          236.536903112339,
          79.3533810461509,
          196.736142095793,
          112.905559930287,
          181.887639887002,
          105.66565721936,
          181.666411038588,
          88.7913407221265,
          131.451355428911,
          191.102292651842,
          199.187320759579,
          134.262302535365,
          93.515320781806,
          37.2956084686087,
          255.61093274433,
          72.5514590857584,
          227.214755353096,
          116.844097663308,
          279.017558489517,
          156.331524211427,
          100.16503839872,
          99.3850847959941,
          120.159780773526,
          152.376880711743,
          157.887653293692,
          191.309741015104,
          14.5025995492461,
          70.432768767884,
          110.46668263048,
          279.955052996094,
          100.527118971413,
          293.776552688093,
          269.332843082639,
          141.022742542809,
          117.044127760441,
          92.8114840254104,
          119.634012860546,
          61.9995986023834,
          186.387652742602,
          152.639666463255,
          72.8154044431718,
          83.8719522411495
         ],
         "y0": " ",
         "yaxis": "y"
        },
        {
         "alignmentgroup": "True",
         "boxpoints": "all",
         "hovertemplate": "Type=%{x}<br>NFE2L2=%{y}<extra></extra>",
         "legendgroup": "non-scaled",
         "marker": {
          "color": "#EF553B"
         },
         "name": "non-scaled",
         "notched": false,
         "offsetgroup": "non-scaled",
         "orientation": "v",
         "showlegend": true,
         "type": "box",
         "x": [
          "non-scaled",
          "non-scaled",
          "non-scaled",
          "non-scaled",
          "non-scaled",
          "non-scaled",
          "non-scaled",
          "non-scaled",
          "non-scaled",
          "non-scaled",
          "non-scaled",
          "non-scaled",
          "non-scaled",
          "non-scaled",
          "non-scaled",
          "non-scaled",
          "non-scaled",
          "non-scaled",
          "non-scaled",
          "non-scaled",
          "non-scaled",
          "non-scaled",
          "non-scaled",
          "non-scaled",
          "non-scaled",
          "non-scaled",
          "non-scaled",
          "non-scaled",
          "non-scaled",
          "non-scaled",
          "non-scaled",
          "non-scaled",
          "non-scaled",
          "non-scaled",
          "non-scaled",
          "non-scaled",
          "non-scaled",
          "non-scaled",
          "non-scaled",
          "non-scaled",
          "non-scaled",
          "non-scaled",
          "non-scaled",
          "non-scaled",
          "non-scaled",
          "non-scaled",
          "non-scaled",
          "non-scaled",
          "non-scaled",
          "non-scaled",
          "non-scaled",
          "non-scaled",
          "non-scaled",
          "non-scaled",
          "non-scaled",
          "non-scaled",
          "non-scaled",
          "non-scaled",
          "non-scaled",
          "non-scaled",
          "non-scaled",
          "non-scaled",
          "non-scaled",
          "non-scaled",
          "non-scaled",
          "non-scaled",
          "non-scaled",
          "non-scaled",
          "non-scaled",
          "non-scaled",
          "non-scaled",
          "non-scaled",
          "non-scaled",
          "non-scaled",
          "non-scaled",
          "non-scaled",
          "non-scaled",
          "non-scaled",
          "non-scaled",
          "non-scaled",
          "non-scaled",
          "non-scaled",
          "non-scaled",
          "non-scaled",
          "non-scaled",
          "non-scaled",
          "non-scaled",
          "non-scaled",
          "non-scaled",
          "non-scaled",
          "non-scaled",
          "non-scaled",
          "non-scaled",
          "non-scaled",
          "non-scaled",
          "non-scaled",
          "non-scaled",
          "non-scaled",
          "non-scaled",
          "non-scaled",
          "non-scaled",
          "non-scaled",
          "non-scaled",
          "non-scaled",
          "non-scaled",
          "non-scaled",
          "non-scaled",
          "non-scaled",
          "non-scaled",
          "non-scaled",
          "non-scaled",
          "non-scaled",
          "non-scaled",
          "non-scaled",
          "non-scaled",
          "non-scaled",
          "non-scaled",
          "non-scaled",
          "non-scaled",
          "non-scaled",
          "non-scaled",
          "non-scaled",
          "non-scaled",
          "non-scaled",
          "non-scaled",
          "non-scaled",
          "non-scaled",
          "non-scaled",
          "non-scaled",
          "non-scaled",
          "non-scaled",
          "non-scaled",
          "non-scaled",
          "non-scaled",
          "non-scaled",
          "non-scaled",
          "non-scaled",
          "non-scaled",
          "non-scaled",
          "non-scaled",
          "non-scaled",
          "non-scaled",
          "non-scaled",
          "non-scaled",
          "non-scaled",
          "non-scaled",
          "non-scaled",
          "non-scaled",
          "non-scaled",
          "non-scaled",
          "non-scaled",
          "non-scaled",
          "non-scaled",
          "non-scaled",
          "non-scaled",
          "non-scaled",
          "non-scaled",
          "non-scaled",
          "non-scaled",
          "non-scaled",
          "non-scaled",
          "non-scaled",
          "non-scaled",
          "non-scaled",
          "non-scaled",
          "non-scaled",
          "non-scaled",
          "non-scaled",
          "non-scaled",
          "non-scaled",
          "non-scaled",
          "non-scaled",
          "non-scaled",
          "non-scaled",
          "non-scaled",
          "non-scaled",
          "non-scaled",
          "non-scaled",
          "non-scaled",
          "non-scaled",
          "non-scaled",
          "non-scaled",
          "non-scaled",
          "non-scaled",
          "non-scaled",
          "non-scaled",
          "non-scaled",
          "non-scaled",
          "non-scaled",
          "non-scaled",
          "non-scaled",
          "non-scaled",
          "non-scaled",
          "non-scaled",
          "non-scaled",
          "non-scaled",
          "non-scaled",
          "non-scaled",
          "non-scaled",
          "non-scaled",
          "non-scaled",
          "non-scaled",
          "non-scaled",
          "non-scaled",
          "non-scaled",
          "non-scaled",
          "non-scaled",
          "non-scaled",
          "non-scaled",
          "non-scaled",
          "non-scaled",
          "non-scaled",
          "non-scaled",
          "non-scaled",
          "non-scaled",
          "non-scaled",
          "non-scaled",
          "non-scaled",
          "non-scaled",
          "non-scaled",
          "non-scaled",
          "non-scaled",
          "non-scaled",
          "non-scaled",
          "non-scaled",
          "non-scaled",
          "non-scaled",
          "non-scaled",
          "non-scaled",
          "non-scaled",
          "non-scaled",
          "non-scaled",
          "non-scaled",
          "non-scaled",
          "non-scaled",
          "non-scaled",
          "non-scaled",
          "non-scaled",
          "non-scaled",
          "non-scaled",
          "non-scaled",
          "non-scaled",
          "non-scaled",
          "non-scaled",
          "non-scaled",
          "non-scaled",
          "non-scaled",
          "non-scaled",
          "non-scaled",
          "non-scaled",
          "non-scaled",
          "non-scaled",
          "non-scaled",
          "non-scaled",
          "non-scaled",
          "non-scaled",
          "non-scaled",
          "non-scaled",
          "non-scaled",
          "non-scaled",
          "non-scaled",
          "non-scaled",
          "non-scaled",
          "non-scaled",
          "non-scaled"
         ],
         "x0": " ",
         "xaxis": "x",
         "y": [
          25.0897781957635,
          23.2763091722547,
          29.3464416799136,
          85.5517566061935,
          96.8499453498802,
          86.4086031263463,
          82.1813729981973,
          109.590530825129,
          61.9657726398975,
          56.6630368663873,
          76.1642486304721,
          55.9045018405577,
          38.2622958022614,
          90.5147383947938,
          52.3782707408035,
          62.3983816796412,
          43.0966004027634,
          93.2705029604315,
          108.743128523942,
          48.7913737579566,
          113.892976915406,
          58.2829606022432,
          40.2146985690219,
          145.735373254134,
          117.37368144685,
          100.432576229141,
          37.2871510733746,
          56.4448217139277,
          101.354716415163,
          71.0563318781628,
          159.554304855259,
          64.6089780524944,
          27.9438759372956,
          38.6205581409943,
          52.3027770412475,
          37.8435779747069,
          51.8950899142657,
          52.9374694702344,
          51.7406322521931,
          44.8219986222397,
          36.4822170223904,
          75.9898507759469,
          45.6988658176728,
          46.9745188369002,
          97.0039645638814,
          52.2488120039303,
          64.2190305810858,
          105.12143463348,
          56.1335048809456,
          73.7401724813514,
          50.6392467305225,
          119.967821278189,
          54.4617210943636,
          65.0274791568619,
          127.470141112555,
          31.0615454018768,
          47.448269418492,
          36.4482627920034,
          88.7156583332149,
          106.922161397988,
          94.589607026637,
          64.3044027019073,
          43.6565788567139,
          69.7444369408956,
          94.4389709262977,
          49.4554471968429,
          129.811621822919,
          61.9364560357438,
          76.6587699084613,
          112.903736260631,
          100.210054548958,
          84.0090948511826,
          10.7111393229463,
          33.2594617092124,
          91.3969364890101,
          36.5167268233135,
          22.8857863188487,
          140.915306879822,
          69.4415224767295,
          110.821614303994,
          98.6133314656518,
          65.5414119698586,
          35.8843215873188,
          162.097266717747,
          57.4273375069769,
          30.9788154319224,
          86.7468635795912,
          81.2516268189996,
          40.8372072609267,
          57.2579956484961,
          35.4570274930126,
          35.3582634095421,
          82.315600778267,
          34.9555730937599,
          109.425554589004,
          79.3859943065181,
          76.3514120656181,
          55.2893778506047,
          85.2733920398188,
          25.8483562385176,
          186.43241622956,
          75.8178619926543,
          85.1845498090259,
          78.6968778634263,
          67.4485845866843,
          65.6588626687383,
          73.3836260450429,
          51.1591850954904,
          85.251848194354,
          26.063561258764,
          119.781718778713,
          49.5721287568766,
          66.9354169558188,
          73.4536083909762,
          94.6095928889224,
          79.0342306925768,
          56.4502950371197,
          44.629548947654,
          45.0682082649367,
          52.0448449579676,
          26.9235382435977,
          45.7146918546777,
          97.1568971741159,
          54.4319796236031,
          33.7293806096379,
          75.5629889814743,
          40.9139922840156,
          54.1208243665253,
          116.117450090001,
          71.2510717092304,
          89.9398835460903,
          26.0245273976376,
          27.6231843051954,
          77.7772346930108,
          54.161767908441,
          92.9833030829674,
          107.317052977888,
          100.299186795808,
          63.8475010564046,
          42.0029757741427,
          22.545461562505,
          112.377646682165,
          88.1640559047599,
          85.1420748710229,
          38.3532319503372,
          107.535352328564,
          27.9005276654269,
          57.620115267963,
          29.4603355903234,
          22.1721869108182,
          61.9541895022373,
          48.2981555520381,
          73.6192916843277,
          52.7033600744668,
          31.1566036353887,
          67.3229222047105,
          60.9679663508198,
          66.4378683331793,
          28.24337248443,
          60.8836789934074,
          47.0506714280166,
          81.9771154311517,
          135.608544203437,
          29.9961692559334,
          51.2679782671132,
          65.5620577428155,
          115.813331047619,
          121.179227337516,
          10.5872362529556,
          104.845138642506,
          66.2494648492773,
          106.953234045907,
          41.0106032888476,
          26.5038159488372,
          56.3813565431854,
          75.6385714985785,
          66.6810107536716,
          27.8444393440503,
          46.6933824891672,
          29.5970817976044,
          51.2740407775516,
          34.1799164289742,
          42.8959966716545,
          29.9868684393425,
          67.7867029917322,
          50.7090971096299,
          67.2161483212372,
          23.5478495397644,
          50.6438169944835,
          84.5892653218914,
          133.587751502385,
          37.2052187698376,
          81.5579789551556,
          145.22920476016,
          40.5916717601827,
          60.6517779859608,
          39.6215437279466,
          66.5595417832935,
          21.2393945166108,
          56.0704395040683,
          25.7115369006638,
          64.8911182043937,
          146.130035313878,
          85.1138946431078,
          136.800312842136,
          65.7051412294921,
          34.126817265247,
          81.122376053933,
          70.6095836438392,
          126.463753298463,
          92.5850957956324,
          90.2511650961113,
          22.1509928295149,
          61.1704372769356,
          75.2586843699895,
          81.6899588527041,
          40.67955301026,
          85.9223180942785,
          101.999255880326,
          66.0286902372443,
          62.0431583201694,
          107.754389354033,
          70.7716635629291,
          118.752598792698,
          46.7137274427253,
          122.191998681036,
          78.7165495472954,
          104.377649991485,
          52.6469921897,
          104.57453037103,
          42.4102505112403,
          70.4446726415223,
          112.528944492142,
          89.9903491523439,
          68.0985819638908,
          39.7058950846613,
          18.3234236700815,
          139.613714678105,
          28.2795116552958,
          121.740035245534,
          69.2945662493628,
          159.854408320932,
          85.5142907116559,
          42.1198520207474,
          50.2025091267956,
          68.3636510588179,
          82.4007512001184,
          86.118045920242,
          106.527672654348,
          9.89576056279181,
          42.4985101758024,
          59.8113697061578,
          152.528991437326,
          26.9457400488074,
          126.463887815713,
          151.639939184253,
          57.3528852422156,
          65.8093959970505,
          39.1329397327469,
          61.7202659589308,
          32.739860210121,
          95.170007685815,
          72.9388005357159,
          45.756283061185,
          35.5211732002958
         ],
         "y0": " ",
         "yaxis": "y"
        }
       ],
       "layout": {
        "boxmode": "overlay",
        "legend": {
         "title": {
          "text": "Type"
         },
         "tracegroupgap": 0
        },
        "margin": {
         "t": 60
        },
        "template": {
         "data": {
          "bar": [
           {
            "error_x": {
             "color": "#2a3f5f"
            },
            "error_y": {
             "color": "#2a3f5f"
            },
            "marker": {
             "line": {
              "color": "#E5ECF6",
              "width": 0.5
             },
             "pattern": {
              "fillmode": "overlay",
              "size": 10,
              "solidity": 0.2
             }
            },
            "type": "bar"
           }
          ],
          "barpolar": [
           {
            "marker": {
             "line": {
              "color": "#E5ECF6",
              "width": 0.5
             },
             "pattern": {
              "fillmode": "overlay",
              "size": 10,
              "solidity": 0.2
             }
            },
            "type": "barpolar"
           }
          ],
          "carpet": [
           {
            "aaxis": {
             "endlinecolor": "#2a3f5f",
             "gridcolor": "white",
             "linecolor": "white",
             "minorgridcolor": "white",
             "startlinecolor": "#2a3f5f"
            },
            "baxis": {
             "endlinecolor": "#2a3f5f",
             "gridcolor": "white",
             "linecolor": "white",
             "minorgridcolor": "white",
             "startlinecolor": "#2a3f5f"
            },
            "type": "carpet"
           }
          ],
          "choropleth": [
           {
            "colorbar": {
             "outlinewidth": 0,
             "ticks": ""
            },
            "type": "choropleth"
           }
          ],
          "contour": [
           {
            "colorbar": {
             "outlinewidth": 0,
             "ticks": ""
            },
            "colorscale": [
             [
              0,
              "#0d0887"
             ],
             [
              0.1111111111111111,
              "#46039f"
             ],
             [
              0.2222222222222222,
              "#7201a8"
             ],
             [
              0.3333333333333333,
              "#9c179e"
             ],
             [
              0.4444444444444444,
              "#bd3786"
             ],
             [
              0.5555555555555556,
              "#d8576b"
             ],
             [
              0.6666666666666666,
              "#ed7953"
             ],
             [
              0.7777777777777778,
              "#fb9f3a"
             ],
             [
              0.8888888888888888,
              "#fdca26"
             ],
             [
              1,
              "#f0f921"
             ]
            ],
            "type": "contour"
           }
          ],
          "contourcarpet": [
           {
            "colorbar": {
             "outlinewidth": 0,
             "ticks": ""
            },
            "type": "contourcarpet"
           }
          ],
          "heatmap": [
           {
            "colorbar": {
             "outlinewidth": 0,
             "ticks": ""
            },
            "colorscale": [
             [
              0,
              "#0d0887"
             ],
             [
              0.1111111111111111,
              "#46039f"
             ],
             [
              0.2222222222222222,
              "#7201a8"
             ],
             [
              0.3333333333333333,
              "#9c179e"
             ],
             [
              0.4444444444444444,
              "#bd3786"
             ],
             [
              0.5555555555555556,
              "#d8576b"
             ],
             [
              0.6666666666666666,
              "#ed7953"
             ],
             [
              0.7777777777777778,
              "#fb9f3a"
             ],
             [
              0.8888888888888888,
              "#fdca26"
             ],
             [
              1,
              "#f0f921"
             ]
            ],
            "type": "heatmap"
           }
          ],
          "heatmapgl": [
           {
            "colorbar": {
             "outlinewidth": 0,
             "ticks": ""
            },
            "colorscale": [
             [
              0,
              "#0d0887"
             ],
             [
              0.1111111111111111,
              "#46039f"
             ],
             [
              0.2222222222222222,
              "#7201a8"
             ],
             [
              0.3333333333333333,
              "#9c179e"
             ],
             [
              0.4444444444444444,
              "#bd3786"
             ],
             [
              0.5555555555555556,
              "#d8576b"
             ],
             [
              0.6666666666666666,
              "#ed7953"
             ],
             [
              0.7777777777777778,
              "#fb9f3a"
             ],
             [
              0.8888888888888888,
              "#fdca26"
             ],
             [
              1,
              "#f0f921"
             ]
            ],
            "type": "heatmapgl"
           }
          ],
          "histogram": [
           {
            "marker": {
             "pattern": {
              "fillmode": "overlay",
              "size": 10,
              "solidity": 0.2
             }
            },
            "type": "histogram"
           }
          ],
          "histogram2d": [
           {
            "colorbar": {
             "outlinewidth": 0,
             "ticks": ""
            },
            "colorscale": [
             [
              0,
              "#0d0887"
             ],
             [
              0.1111111111111111,
              "#46039f"
             ],
             [
              0.2222222222222222,
              "#7201a8"
             ],
             [
              0.3333333333333333,
              "#9c179e"
             ],
             [
              0.4444444444444444,
              "#bd3786"
             ],
             [
              0.5555555555555556,
              "#d8576b"
             ],
             [
              0.6666666666666666,
              "#ed7953"
             ],
             [
              0.7777777777777778,
              "#fb9f3a"
             ],
             [
              0.8888888888888888,
              "#fdca26"
             ],
             [
              1,
              "#f0f921"
             ]
            ],
            "type": "histogram2d"
           }
          ],
          "histogram2dcontour": [
           {
            "colorbar": {
             "outlinewidth": 0,
             "ticks": ""
            },
            "colorscale": [
             [
              0,
              "#0d0887"
             ],
             [
              0.1111111111111111,
              "#46039f"
             ],
             [
              0.2222222222222222,
              "#7201a8"
             ],
             [
              0.3333333333333333,
              "#9c179e"
             ],
             [
              0.4444444444444444,
              "#bd3786"
             ],
             [
              0.5555555555555556,
              "#d8576b"
             ],
             [
              0.6666666666666666,
              "#ed7953"
             ],
             [
              0.7777777777777778,
              "#fb9f3a"
             ],
             [
              0.8888888888888888,
              "#fdca26"
             ],
             [
              1,
              "#f0f921"
             ]
            ],
            "type": "histogram2dcontour"
           }
          ],
          "mesh3d": [
           {
            "colorbar": {
             "outlinewidth": 0,
             "ticks": ""
            },
            "type": "mesh3d"
           }
          ],
          "parcoords": [
           {
            "line": {
             "colorbar": {
              "outlinewidth": 0,
              "ticks": ""
             }
            },
            "type": "parcoords"
           }
          ],
          "pie": [
           {
            "automargin": true,
            "type": "pie"
           }
          ],
          "scatter": [
           {
            "fillpattern": {
             "fillmode": "overlay",
             "size": 10,
             "solidity": 0.2
            },
            "type": "scatter"
           }
          ],
          "scatter3d": [
           {
            "line": {
             "colorbar": {
              "outlinewidth": 0,
              "ticks": ""
             }
            },
            "marker": {
             "colorbar": {
              "outlinewidth": 0,
              "ticks": ""
             }
            },
            "type": "scatter3d"
           }
          ],
          "scattercarpet": [
           {
            "marker": {
             "colorbar": {
              "outlinewidth": 0,
              "ticks": ""
             }
            },
            "type": "scattercarpet"
           }
          ],
          "scattergeo": [
           {
            "marker": {
             "colorbar": {
              "outlinewidth": 0,
              "ticks": ""
             }
            },
            "type": "scattergeo"
           }
          ],
          "scattergl": [
           {
            "marker": {
             "colorbar": {
              "outlinewidth": 0,
              "ticks": ""
             }
            },
            "type": "scattergl"
           }
          ],
          "scattermapbox": [
           {
            "marker": {
             "colorbar": {
              "outlinewidth": 0,
              "ticks": ""
             }
            },
            "type": "scattermapbox"
           }
          ],
          "scatterpolar": [
           {
            "marker": {
             "colorbar": {
              "outlinewidth": 0,
              "ticks": ""
             }
            },
            "type": "scatterpolar"
           }
          ],
          "scatterpolargl": [
           {
            "marker": {
             "colorbar": {
              "outlinewidth": 0,
              "ticks": ""
             }
            },
            "type": "scatterpolargl"
           }
          ],
          "scatterternary": [
           {
            "marker": {
             "colorbar": {
              "outlinewidth": 0,
              "ticks": ""
             }
            },
            "type": "scatterternary"
           }
          ],
          "surface": [
           {
            "colorbar": {
             "outlinewidth": 0,
             "ticks": ""
            },
            "colorscale": [
             [
              0,
              "#0d0887"
             ],
             [
              0.1111111111111111,
              "#46039f"
             ],
             [
              0.2222222222222222,
              "#7201a8"
             ],
             [
              0.3333333333333333,
              "#9c179e"
             ],
             [
              0.4444444444444444,
              "#bd3786"
             ],
             [
              0.5555555555555556,
              "#d8576b"
             ],
             [
              0.6666666666666666,
              "#ed7953"
             ],
             [
              0.7777777777777778,
              "#fb9f3a"
             ],
             [
              0.8888888888888888,
              "#fdca26"
             ],
             [
              1,
              "#f0f921"
             ]
            ],
            "type": "surface"
           }
          ],
          "table": [
           {
            "cells": {
             "fill": {
              "color": "#EBF0F8"
             },
             "line": {
              "color": "white"
             }
            },
            "header": {
             "fill": {
              "color": "#C8D4E3"
             },
             "line": {
              "color": "white"
             }
            },
            "type": "table"
           }
          ]
         },
         "layout": {
          "annotationdefaults": {
           "arrowcolor": "#2a3f5f",
           "arrowhead": 0,
           "arrowwidth": 1
          },
          "autotypenumbers": "strict",
          "coloraxis": {
           "colorbar": {
            "outlinewidth": 0,
            "ticks": ""
           }
          },
          "colorscale": {
           "diverging": [
            [
             0,
             "#8e0152"
            ],
            [
             0.1,
             "#c51b7d"
            ],
            [
             0.2,
             "#de77ae"
            ],
            [
             0.3,
             "#f1b6da"
            ],
            [
             0.4,
             "#fde0ef"
            ],
            [
             0.5,
             "#f7f7f7"
            ],
            [
             0.6,
             "#e6f5d0"
            ],
            [
             0.7,
             "#b8e186"
            ],
            [
             0.8,
             "#7fbc41"
            ],
            [
             0.9,
             "#4d9221"
            ],
            [
             1,
             "#276419"
            ]
           ],
           "sequential": [
            [
             0,
             "#0d0887"
            ],
            [
             0.1111111111111111,
             "#46039f"
            ],
            [
             0.2222222222222222,
             "#7201a8"
            ],
            [
             0.3333333333333333,
             "#9c179e"
            ],
            [
             0.4444444444444444,
             "#bd3786"
            ],
            [
             0.5555555555555556,
             "#d8576b"
            ],
            [
             0.6666666666666666,
             "#ed7953"
            ],
            [
             0.7777777777777778,
             "#fb9f3a"
            ],
            [
             0.8888888888888888,
             "#fdca26"
            ],
            [
             1,
             "#f0f921"
            ]
           ],
           "sequentialminus": [
            [
             0,
             "#0d0887"
            ],
            [
             0.1111111111111111,
             "#46039f"
            ],
            [
             0.2222222222222222,
             "#7201a8"
            ],
            [
             0.3333333333333333,
             "#9c179e"
            ],
            [
             0.4444444444444444,
             "#bd3786"
            ],
            [
             0.5555555555555556,
             "#d8576b"
            ],
            [
             0.6666666666666666,
             "#ed7953"
            ],
            [
             0.7777777777777778,
             "#fb9f3a"
            ],
            [
             0.8888888888888888,
             "#fdca26"
            ],
            [
             1,
             "#f0f921"
            ]
           ]
          },
          "colorway": [
           "#636efa",
           "#EF553B",
           "#00cc96",
           "#ab63fa",
           "#FFA15A",
           "#19d3f3",
           "#FF6692",
           "#B6E880",
           "#FF97FF",
           "#FECB52"
          ],
          "font": {
           "color": "#2a3f5f"
          },
          "geo": {
           "bgcolor": "white",
           "lakecolor": "white",
           "landcolor": "#E5ECF6",
           "showlakes": true,
           "showland": true,
           "subunitcolor": "white"
          },
          "hoverlabel": {
           "align": "left"
          },
          "hovermode": "closest",
          "mapbox": {
           "style": "light"
          },
          "paper_bgcolor": "white",
          "plot_bgcolor": "#E5ECF6",
          "polar": {
           "angularaxis": {
            "gridcolor": "white",
            "linecolor": "white",
            "ticks": ""
           },
           "bgcolor": "#E5ECF6",
           "radialaxis": {
            "gridcolor": "white",
            "linecolor": "white",
            "ticks": ""
           }
          },
          "scene": {
           "xaxis": {
            "backgroundcolor": "#E5ECF6",
            "gridcolor": "white",
            "gridwidth": 2,
            "linecolor": "white",
            "showbackground": true,
            "ticks": "",
            "zerolinecolor": "white"
           },
           "yaxis": {
            "backgroundcolor": "#E5ECF6",
            "gridcolor": "white",
            "gridwidth": 2,
            "linecolor": "white",
            "showbackground": true,
            "ticks": "",
            "zerolinecolor": "white"
           },
           "zaxis": {
            "backgroundcolor": "#E5ECF6",
            "gridcolor": "white",
            "gridwidth": 2,
            "linecolor": "white",
            "showbackground": true,
            "ticks": "",
            "zerolinecolor": "white"
           }
          },
          "shapedefaults": {
           "line": {
            "color": "#2a3f5f"
           }
          },
          "ternary": {
           "aaxis": {
            "gridcolor": "white",
            "linecolor": "white",
            "ticks": ""
           },
           "baxis": {
            "gridcolor": "white",
            "linecolor": "white",
            "ticks": ""
           },
           "bgcolor": "#E5ECF6",
           "caxis": {
            "gridcolor": "white",
            "linecolor": "white",
            "ticks": ""
           }
          },
          "title": {
           "x": 0.05
          },
          "xaxis": {
           "automargin": true,
           "gridcolor": "white",
           "linecolor": "white",
           "ticks": "",
           "title": {
            "standoff": 15
           },
           "zerolinecolor": "white",
           "zerolinewidth": 2
          },
          "yaxis": {
           "automargin": true,
           "gridcolor": "white",
           "linecolor": "white",
           "ticks": "",
           "title": {
            "standoff": 15
           },
           "zerolinecolor": "white",
           "zerolinewidth": 2
          }
         }
        },
        "xaxis": {
         "anchor": "y",
         "categoryarray": [
          "scaled",
          "non-scaled"
         ],
         "categoryorder": "array",
         "domain": [
          0,
          1
         ],
         "title": {
          "text": "Type"
         }
        },
        "yaxis": {
         "anchor": "x",
         "domain": [
          0,
          1
         ],
         "title": {
          "text": "NFE2L2"
         }
        }
       }
      }
     },
     "metadata": {},
     "output_type": "display_data"
    }
   ],
   "source": [
    "tpm_scaled_df['Type'] = 'scaled'\n",
    "tpm_non_scaled_df['Type'] = 'non-scaled'\n",
    "\n",
    "sel_cols = ['NFE2L2', 'Type']\n",
    "tst_df = pd.concat([tpm_scaled_df[sel_cols], tpm_non_scaled_df[sel_cols]], axis=0)\n",
    "px.box(tst_df, y='NFE2L2', x='Type', color='Type', points='all')"
   ]
  }
 ],
 "metadata": {
  "kernelspec": {
   "display_name": "iNet_gt",
   "language": "python",
   "name": "python3"
  },
  "language_info": {
   "codemirror_mode": {
    "name": "ipython",
    "version": 3
   },
   "file_extension": ".py",
   "mimetype": "text/x-python",
   "name": "python",
   "nbconvert_exporter": "python",
   "pygments_lexer": "ipython3",
   "version": "3.12.2"
  }
 },
 "nbformat": 4,
 "nbformat_minor": 2
}
