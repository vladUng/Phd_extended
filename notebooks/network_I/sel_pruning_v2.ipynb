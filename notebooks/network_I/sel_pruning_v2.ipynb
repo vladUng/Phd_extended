{
 "cells": [
  {
   "cell_type": "markdown",
   "metadata": {},
   "source": [
    "# Motivation\n",
    "\n",
    "The purpose of this notebook is to introduce a simpler method but with the same results or similar to extract the 98 TFs"
   ]
  },
  {
   "cell_type": "code",
   "execution_count": 1,
   "metadata": {},
   "outputs": [
    {
     "name": "stdout",
     "output_type": "stream",
     "text": [
      "The autoreload extension is already loaded. To reload it, use:\n",
      "  %reload_ext autoreload\n"
     ]
    }
   ],
   "source": [
    "%load_ext autoreload\n",
    "import warnings\n",
    "warnings.simplefilter(action='ignore', category=FutureWarning)\n",
    "import pandas as pd\n",
    "import numpy as np\n",
    "import os\n",
    "import sys\n",
    "\n",
    "import plotly.express as px\n",
    "import plotly.io as pio\n",
    "import plotly.graph_objects as go\n",
    "import matplotlib.pyplot as plt\n",
    "\n",
    "import multiprocess as mp\n",
    "\n",
    "\n",
    "# own libraries\n",
    "sys.path.append('/Users/vlad/Documents/Code/York/iNet_v2/src/')\n",
    "\n",
    "from NetworkAnalysis.ExperimentSet import ExperimentSet\n",
    "from NetworkAnalysis import GraphHelper as gh\n",
    "from NetworkAnalysis.utilities import clustering as cs\n",
    "from NetworkAnalysis.utilities import sankey_consensus_plot as sky\n",
    "from NetworkAnalysis.utilities.helpers import save_fig, survival_plot\n",
    "from NetworkAnalysis.GraphToolExp import GraphToolExperiment as GtExp\n",
    "from NetworkAnalysis.dea import dea\n",
    "from NetworkAnalysis.dea import helpers as dea_hp\n",
    "from NetworkAnalysis.dea import gsea as gsea_hp\n",
    "sys.path.append(os.path.dirname(\"../../src\"))\n",
    "# Gsea libraries\n",
    "\n",
    "pio.templates.default = \"ggplot2\"\n",
    "\n",
    "pool = mp.Pool(mp.cpu_count())"
   ]
  },
  {
   "cell_type": "code",
   "execution_count": 2,
   "metadata": {},
   "outputs": [],
   "source": [
    "results_path = \"../../results/exp/\"\n",
    "data_base = \"../../data/\"\n",
    "base_path = \"../../results/\"\n",
    "exp_folder_tumour = \"network_I/tum/\"  # \"/integration_v2.1/ - path from iNET\n",
    "\n",
    "\n",
    "# Experiments set\n",
    "exp_folder_h42 = \"network_I/healthy42/\"\n",
    "exp_folder_h42_ctrl = \"network_I/healthyControls/\"\n",
    "\n",
    "\n",
    "figures_path = \"./sel_pruning_v2/\"\n",
    "\n",
    "vu_net_1 = pd.read_csv(f\"{data_base}/net_I/vu_net_1.tsv\", sep=\"\\t\", index_col=\"Sample\")\n",
    "vu_output = pd.read_csv(f\"{data_base}/metadata/VU_clustering_v3.tsv\", sep=\"\\t\", index_col=\"Sample\")\n",
    "\n",
    "# Net I labels\n",
    "vu_output[\"Net_I\"] = vu_net_1[\"dendrogram_label\"]\n",
    "vu_output[\"Net_I\"] = vu_output[\"Net_I\"].fillna(\"Na\")\n",
    "\n",
    "tcga_mutations_df = pd.read_csv(f\"{data_base}/tumour/mutations_tcga.csv\")\n",
    "tcga_mutations_df = tcga_mutations_df[tcga_mutations_df[\"count\"] != 0].set_index(\"gene\")\n",
    "\n",
    "tum_tpms = pd.read_csv(f\"{data_base}/tumour/TPMs_selected_genes_v3_13k_gc42.tsv\", sep=\"\\t\", index_col=\"genes\")\n",
    "tum_tpms_v4 = pd.read_csv(f\"{data_base}/tumour/tum_TPMs_selected_genes_gc42_all_v4.tsv\", sep=\"\\t\", index_col=\"genes\")\n",
    "\n",
    "# Healthy and metadata\n",
    "healthy_metadata = pd.read_csv(f\"{data_base}/non_cancerous/healthy_bladder_metadata.tsv\", sep=\"\\t\", index_col=\"Sample\").drop(index=[\"Y2796_P0\"])\n",
    "healthy_metadata[\"sample_prcsd\"] = healthy_metadata.index.str.replace(\"-\", \"_\")\n",
    "\n",
    "healthy_tpm = pd.read_csv(f\"{data_base}/non_cancerous/healthy_data_all_gc42_v4.tsv\", sep=\"\\t\", index_col=\"gene\")\n",
    "remap_col = {}\n",
    "for col in healthy_tpm.columns:\n",
    "    remap_col[col] = col.replace(\"-\", \"_\")\n",
    "healthy_tpm = healthy_tpm.rename(columns=remap_col)\n",
    "\n",
    "# tf list\n",
    "tf_path = f\"{data_base}/metadata/TF_names_v_1.01.txt\"\n",
    "if os.path.exists(tf_path):\n",
    "    tf_list = np.genfromtxt(fname=tf_path, delimiter=\"\\t\", skip_header=1, dtype=\"str\")"
   ]
  },
  {
   "cell_type": "code",
   "execution_count": 3,
   "metadata": {},
   "outputs": [],
   "source": [
    "# Base-line, this is the results from previous work\n",
    "sel_tfs = pd.read_csv(f\"{data_base}/tf_ctrl_v2.tsv\", index_col=\"gene\", sep=\"\\t\")\n",
    "sel_tfs[\"tum_mean_expression\"] = tum_tpms_v4.loc[sel_tfs.index].mean(axis=1)\n",
    "sel_tfs[\"tum_median_expression\"] = tum_tpms_v4.loc[sel_tfs.index].median(axis=1)\n",
    "sel_tfs[\"tum_std_expression\"] = tum_tpms_v4.loc[sel_tfs.index].std(axis=1)\n",
    "sel_tfs[\"tum_var_expression\"] = tum_tpms_v4.loc[sel_tfs.index].var(axis=1)"
   ]
  },
  {
   "cell_type": "markdown",
   "metadata": {},
   "source": [
    "## Import the data\n",
    "\n",
    "## Experiment sets"
   ]
  },
  {
   "cell_type": "code",
   "execution_count": 4,
   "metadata": {},
   "outputs": [],
   "source": [
    "def load_experiment_set(base_path, exp_folder_path):\n",
    "    exp_path = f\"{base_path}/{exp_folder_path}/Stats/\"\n",
    "    meta_files = next(os.walk(exp_path), (None, None, []))[2]\n",
    "    # keep only the network stats\n",
    "    files = [file for file in meta_files if \"networkStats\" in file]\n",
    "    exp_set = {}\n",
    "    for file in files:\n",
    "        exp = file.replace(\".tsv\", \"\").replace(\"networkStats_standard_int_\", \"\")\n",
    "        exp_set[exp] = pd.read_csv(f\"{exp_path}/{file}\", index_col=\"gene\", sep=\"\\t\")\n",
    "    return exp_set"
   ]
  },
  {
   "cell_type": "code",
   "execution_count": 5,
   "metadata": {},
   "outputs": [],
   "source": [
    "folders = next(os.walk(base_path + exp_folder_h42_ctrl), (None, None, []))[1]\n",
    "exp_ctrls = {}\n",
    "for folder in folders:\n",
    "    hCtrl_path = f\"/{exp_folder_h42_ctrl}/{folder}/\"\n",
    "    meta_files = next(os.walk(hCtrl_path), (None, None, []))[2]\n",
    "    # keep only the network stats\n",
    "    files = [file for file in meta_files if \"networkStats\" in file]\n",
    "    exp_ctrls[folder] = load_experiment_set(base_path, hCtrl_path)\n",
    "\n",
    "exp_set = load_experiment_set(base_path, exp_folder_h42)"
   ]
  },
  {
   "cell_type": "markdown",
   "metadata": {},
   "source": [
    "## Network stats\n",
    "\n",
    "Information calculated in the selective edge pruning"
   ]
  },
  {
   "cell_type": "code",
   "execution_count": 6,
   "metadata": {},
   "outputs": [],
   "source": [
    "def merge_metrics(exp_set: dict, exp_type: str):\n",
    "    comb_df = pd.DataFrame()\n",
    "    for key, metrics in exp_set.items():\n",
    "        metrics[\"TF\"] = int(key.split(\"_\")[-1].replace(\"TF\", \"\"))\n",
    "        metrics[\"Type\"] = exp_type\n",
    "        comb_df = pd.concat([comb_df, metrics], axis=0)\n",
    "\n",
    "    return comb_df\n",
    "\n",
    "\n",
    "# Experiments\n",
    "all_exps = merge_metrics(exp_set=exp_set, exp_type=\"Exp\")\n",
    "all_exps[\"isCtrl\"] = False\n",
    "\n",
    "# Ctrls\n",
    "all_ctrls = pd.DataFrame()\n",
    "for key, value in exp_ctrls.items():\n",
    "    label = key.split(\"h\")[-1]\n",
    "    ctrl_exps = merge_metrics(exp_set=value, exp_type=key)\n",
    "    ctrl_exps[\"isCtrl\"] = True\n",
    "    all_ctrls = pd.concat([all_ctrls, ctrl_exps], axis=0)\n",
    "\n",
    "# Combined\n",
    "comb_exps = pd.concat([all_exps, all_ctrls], axis=0)\n",
    "\n",
    "\n",
    "sel_tfs_metrics = comb_exps.loc[comb_exps.index.isin(sel_tfs.index)].copy(deep=True)\n",
    "# sel_tfs_metrics = comb_exps\n",
    "\n",
    "reorder_cols = [\n",
    "    \"degree_w\",\n",
    "    \"degree_t\",\n",
    "    \"degree_i\",\n",
    "    \"degree_o\",\n",
    "    \"pageRank\",\n",
    "    \"closeness\",\n",
    "    \"katz\",\n",
    "    \"hits\",\n",
    "    \"central_point_dominance\",\n",
    "    \"max_b\",\n",
    "    \"TF\",\n",
    "    \"betweenness\",\n",
    "    \"marked_as_tf\",\n",
    "    \"mut_count\",\n",
    "    \"Type\",\n",
    "    \"isCtrl\",\n",
    "    \"ModCon_Rank\",\n",
    "]\n",
    "sel_tfs_metrics = sel_tfs_metrics[reorder_cols]\n",
    "comb_exps = comb_exps[reorder_cols]"
   ]
  },
  {
   "cell_type": "markdown",
   "metadata": {},
   "source": [
    "# Correlations between the metrics"
   ]
  },
  {
   "cell_type": "code",
   "execution_count": 7,
   "metadata": {},
   "outputs": [
    {
     "data": {
      "image/png": "[encoded data removed]",
      "text/plain": [
       "<Figure size 1000x800 with 2 Axes>"
      ]
     },
     "metadata": {},
     "output_type": "display_data"
    }
   ],
   "source": [
    "import seaborn as sns\n",
    "import matplotlib.pyplot as plt\n",
    "\n",
    "corr_df = sel_tfs_metrics.drop(\n",
    "    columns=[\n",
    "        \"Type\",\n",
    "        \"isCtrl\",\n",
    "        \"degree_i\",\n",
    "        \"marked_as_tf\",\n",
    "        \"max_b\",\n",
    "    ]\n",
    ").corr(method=\"spearman\")\n",
    "\n",
    "plt.figure(figsize=(10, 8))\n",
    "sns.heatmap(corr_df, annot=True, fmt=\".2f\", cmap=\"coolwarm\", cbar=True)\n",
    "plt.title(\"Correlation Heatmap\")\n",
    "\n",
    "plt.savefig(f\"{figures_path}/sel_tfs_corr_heatmap.png\")\n",
    "\n",
    "plt.show()"
   ]
  },
  {
   "cell_type": "markdown",
   "metadata": {},
   "source": [
    "# Matching with the 98 TFs\n",
    "\n",
    "## Experiment networks"
   ]
  },
  {
   "cell_type": "code",
   "execution_count": 183,
   "metadata": {},
   "outputs": [],
   "source": [
    "# We want to sort by the order of TF, but first we have to extract the TF values\n",
    "def sort_exp_set(exp_set: dict):\n",
    "    sorted_tf = {}\n",
    "    for key in exp_set.keys():\n",
    "        prscsd_label = int(key.split(\"_\")[-1].replace(\"TF\", \"\"))\n",
    "        sorted_tf[prscsd_label] = key\n",
    "    sorted_tf = dict(sorted(sorted_tf.items()))\n",
    "\n",
    "    # Now we can sort the experiment set\n",
    "    sorted_exp = {}\n",
    "    for key in sorted_tf.values():\n",
    "        sorted_exp[key] = exp_set[key]\n",
    "\n",
    "    return sorted_exp\n",
    "\n",
    "\n",
    "def calculate_degree_thresholds(exp_set: dict, sel_tfs: pd.DataFrame, label: str, q_th=0.75, verbose=False):\n",
    "\n",
    "    sel_tfs_set = set()\n",
    "    if not sel_tfs.empty:\n",
    "        sel_tfs_set = set(sel_tfs.index)\n",
    "\n",
    "    top_genes = set()  # genes that are the top set quartile th\n",
    "    meta_info = []  # meta info about the TF experiments, the genes matched and the evolution across the experiments\n",
    "\n",
    "    for exp, metrics in exp_set.items():\n",
    "        deg_th = metrics[\"degree_t\"].quantile(q=q_th)\n",
    "        genes = set(metrics[metrics[\"degree_t\"] >= deg_th].index)\n",
    "        tf_exp = int(exp.split(\"_\")[-1].replace(\"TF\", \"\"))\n",
    "\n",
    "        # Genes matched, and uniqued to this TF experiment\n",
    "        single_exp_matched = set(genes) & sel_tfs_set\n",
    "        unique = single_exp_matched - (top_genes & sel_tfs_set)\n",
    "\n",
    "        # Add the new genes\n",
    "        top_genes.update(genes)\n",
    "\n",
    "        meta_info.append((tf_exp, deg_th, len(genes), len(unique), len(single_exp_matched), list(genes), list(unique), single_exp_matched))\n",
    "\n",
    "    if sel_tfs.empty:\n",
    "        matched = top_genes\n",
    "    else:\n",
    "        matched = top_genes & set(sel_tfs.index)\n",
    "\n",
    "    if verbose:\n",
    "        print(f\"--> {label}\\n\\tQ_th: {q_th}. Matched genes with 98 TFs {len(matched)}. Selected {len(top_genes)}\")\n",
    "\n",
    "    # Combine in a DataFrame\n",
    "    dmy = pd.DataFrame(meta_info, columns=[\"TF\", \"Degree_th\", \"selected\", \"unique\", \"matched\", \"selected genes\", \"unique genes\", \"matched genes\"])\n",
    "    dmy = dmy.sort_values(by=[\"TF\"], ascending=True)\n",
    "    dmy[\"TF\"] = dmy[\"TF\"].astype(str)\n",
    "    # If experiment or control\n",
    "    dmy[\"type\"] = label\n",
    "\n",
    "    # global stats\n",
    "    global_stats = {\"matched\": len(matched), \"selected\": len(top_genes), \"matched_genes\": list(matched), \"selected_genes\": list(top_genes)}\n",
    "    fig = px.bar(dmy, x=\"TF\", y=[\"matched\", \"unique\", \"selected\"], text_auto=True, barmode=\"group\", title=f\"Q_th: {q_th}. For {label}\")\n",
    "\n",
    "    # Unselect the 'selected' trace in the plotly figure\n",
    "    fig.for_each_trace(lambda trace: trace.update(visible=\"legendonly\") if trace.name == \"selected\" else ())\n",
    "\n",
    "    return matched, fig, dmy, global_stats"
   ]
  },
  {
   "cell_type": "code",
   "execution_count": 274,
   "metadata": {},
   "outputs": [],
   "source": [
    "q_ths = list(range(50, 100, 5))\n",
    "q_ths.sort()\n",
    "stats = [(0, 98)]  # default values\n",
    "exp_results_qth = pd.DataFrame()\n",
    "for q_th in q_ths:\n",
    "    q_th = q_th / 100\n",
    "    matched_exp, fig_exp, meta_info, global_stats = calculate_degree_thresholds(exp_set=exp_set, sel_tfs=sel_tfs, label=\"Exp\", q_th=q_th, verbose=False)\n",
    "    meta_info[\"Quantile\"] = q_th\n",
    "    exp_results_qth = pd.concat([exp_results_qth, meta_info], axis=0)"
   ]
  },
  {
   "cell_type": "code",
   "execution_count": 315,
   "metadata": {},
   "outputs": [],
   "source": [
    "fig = px.line(\n",
    "    exp_results_qth,\n",
    "    x=\"TF\",\n",
    "    y=\"matched\",\n",
    "    color=\"Quantile\",\n",
    "    markers=True,\n",
    "    color_discrete_sequence=px.colors.qualitative.G10,\n",
    "    title=\"Inclusion of the 98 TFs genes\",\n",
    ")\n",
    "fig = fig.update_layout(\n",
    "    legend=dict(\n",
    "        orientation=\"h\",\n",
    "        yanchor=\"bottom\",\n",
    "        xanchor=\"center\",\n",
    "        x=0.6,\n",
    "        y=0.02,\n",
    "        bgcolor=\"rgba(0,0,0,0)\",\n",
    "        font=dict(size=20, color=\"#003366\"),\n",
    "    ),\n",
    "    xaxis=dict(tickfont=dict(size=20)),\n",
    "    yaxis=dict(tickfont=dict(size=20), title=\"Number of 98 TFs included\"),\n",
    "    font=dict(size=20),\n",
    ")\n",
    "save_fig(name=\"exps_98_tfs\", fig=fig, base_path=figures_path, width=1800, height=800, margin=0.06)"
   ]
  },
  {
   "cell_type": "code",
   "execution_count": 339,
   "metadata": {},
   "outputs": [
    {
     "data": {
      "application/vnd.plotly.v1+json": {
       "config": {
        "plotlyServerURL": "https://plot.ly"
       },
       "data": [
        {
         "error_y": {
          "array": [
           0.2773500981126145,
           0,
           0.5063696835418331,
           0.5773502691896262,
           0.5991446895152782,
           0.7679476477883045,
           1.1435437497937313,
           1.613246448179603,
           2.183856856396675,
           2.230327100305912
          ]
         },
         "hovertemplate": "Quantile=%{x}<br>mean=%{y}<extra></extra>",
         "legendgroup": "",
         "line": {
          "color": "#F8766D",
          "dash": "solid"
         },
         "marker": {
          "symbol": "circle"
         },
         "mode": "lines",
         "name": "",
         "orientation": "v",
         "showlegend": false,
         "type": "scatter",
         "x": [
          "0.5",
          "0.55",
          "0.6",
          "0.65",
          "0.7",
          "0.75",
          "0.8",
          "0.85",
          "0.9",
          "0.95"
         ],
         "xaxis": "x",
         "y": [
          4.923076923076923,
          5,
          5.615384615384615,
          6,
          6.769230769230769,
          7.615384615384615,
          8.846153846153847,
          10.461538461538462,
          12.538461538461538,
          15.846153846153847
         ],
         "yaxis": "y"
        }
       ],
       "layout": {
        "font": {
         "size": 24
        },
        "height": 700,
        "legend": {
         "tracegroupgap": 0
        },
        "template": {
         "data": {
          "bar": [
           {
            "error_x": {
             "color": "rgb(51,51,51)"
            },
            "error_y": {
             "color": "rgb(51,51,51)"
            },
            "marker": {
             "line": {
              "color": "rgb(237,237,237)",
              "width": 0.5
             },
             "pattern": {
              "fillmode": "overlay",
              "size": 10,
              "solidity": 0.2
             }
            },
            "type": "bar"
           }
          ],
          "barpolar": [
           {
            "marker": {
             "line": {
              "color": "rgb(237,237,237)",
              "width": 0.5
             },
             "pattern": {
              "fillmode": "overlay",
              "size": 10,
              "solidity": 0.2
             }
            },
            "type": "barpolar"
           }
          ],
          "carpet": [
           {
            "aaxis": {
             "endlinecolor": "rgb(51,51,51)",
             "gridcolor": "white",
             "linecolor": "white",
             "minorgridcolor": "white",
             "startlinecolor": "rgb(51,51,51)"
            },
            "baxis": {
             "endlinecolor": "rgb(51,51,51)",
             "gridcolor": "white",
             "linecolor": "white",
             "minorgridcolor": "white",
             "startlinecolor": "rgb(51,51,51)"
            },
            "type": "carpet"
           }
          ],
          "choropleth": [
           {
            "colorbar": {
             "outlinewidth": 0,
             "tickcolor": "rgb(237,237,237)",
             "ticklen": 6,
             "ticks": "inside"
            },
            "type": "choropleth"
           }
          ],
          "contour": [
           {
            "colorbar": {
             "outlinewidth": 0,
             "tickcolor": "rgb(237,237,237)",
             "ticklen": 6,
             "ticks": "inside"
            },
            "colorscale": [
             [
              0,
              "rgb(20,44,66)"
             ],
             [
              1,
              "rgb(90,179,244)"
             ]
            ],
            "type": "contour"
           }
          ],
          "contourcarpet": [
           {
            "colorbar": {
             "outlinewidth": 0,
             "tickcolor": "rgb(237,237,237)",
             "ticklen": 6,
             "ticks": "inside"
            },
            "type": "contourcarpet"
           }
          ],
          "heatmap": [
           {
            "colorbar": {
             "outlinewidth": 0,
             "tickcolor": "rgb(237,237,237)",
             "ticklen": 6,
             "ticks": "inside"
            },
            "colorscale": [
             [
              0,
              "rgb(20,44,66)"
             ],
             [
              1,
              "rgb(90,179,244)"
             ]
            ],
            "type": "heatmap"
           }
          ],
          "heatmapgl": [
           {
            "colorbar": {
             "outlinewidth": 0,
             "tickcolor": "rgb(237,237,237)",
             "ticklen": 6,
             "ticks": "inside"
            },
            "colorscale": [
             [
              0,
              "rgb(20,44,66)"
             ],
             [
              1,
              "rgb(90,179,244)"
             ]
            ],
            "type": "heatmapgl"
           }
          ],
          "histogram": [
           {
            "marker": {
             "pattern": {
              "fillmode": "overlay",
              "size": 10,
              "solidity": 0.2
             }
            },
            "type": "histogram"
           }
          ],
          "histogram2d": [
           {
            "colorbar": {
             "outlinewidth": 0,
             "tickcolor": "rgb(237,237,237)",
             "ticklen": 6,
             "ticks": "inside"
            },
            "colorscale": [
             [
              0,
              "rgb(20,44,66)"
             ],
             [
              1,
              "rgb(90,179,244)"
             ]
            ],
            "type": "histogram2d"
           }
          ],
          "histogram2dcontour": [
           {
            "colorbar": {
             "outlinewidth": 0,
             "tickcolor": "rgb(237,237,237)",
             "ticklen": 6,
             "ticks": "inside"
            },
            "colorscale": [
             [
              0,
              "rgb(20,44,66)"
             ],
             [
              1,
              "rgb(90,179,244)"
             ]
            ],
            "type": "histogram2dcontour"
           }
          ],
          "mesh3d": [
           {
            "colorbar": {
             "outlinewidth": 0,
             "tickcolor": "rgb(237,237,237)",
             "ticklen": 6,
             "ticks": "inside"
            },
            "type": "mesh3d"
           }
          ],
          "parcoords": [
           {
            "line": {
             "colorbar": {
              "outlinewidth": 0,
              "tickcolor": "rgb(237,237,237)",
              "ticklen": 6,
              "ticks": "inside"
             }
            },
            "type": "parcoords"
           }
          ],
          "pie": [
           {
            "automargin": true,
            "type": "pie"
           }
          ],
          "scatter": [
           {
            "fillpattern": {
             "fillmode": "overlay",
             "size": 10,
             "solidity": 0.2
            },
            "type": "scatter"
           }
          ],
          "scatter3d": [
           {
            "line": {
             "colorbar": {
              "outlinewidth": 0,
              "tickcolor": "rgb(237,237,237)",
              "ticklen": 6,
              "ticks": "inside"
             }
            },
            "marker": {
             "colorbar": {
              "outlinewidth": 0,
              "tickcolor": "rgb(237,237,237)",
              "ticklen": 6,
              "ticks": "inside"
             }
            },
            "type": "scatter3d"
           }
          ],
          "scattercarpet": [
           {
            "marker": {
             "colorbar": {
              "outlinewidth": 0,
              "tickcolor": "rgb(237,237,237)",
              "ticklen": 6,
              "ticks": "inside"
             }
            },
            "type": "scattercarpet"
           }
          ],
          "scattergeo": [
           {
            "marker": {
             "colorbar": {
              "outlinewidth": 0,
              "tickcolor": "rgb(237,237,237)",
              "ticklen": 6,
              "ticks": "inside"
             }
            },
            "type": "scattergeo"
           }
          ],
          "scattergl": [
           {
            "marker": {
             "colorbar": {
              "outlinewidth": 0,
              "tickcolor": "rgb(237,237,237)",
              "ticklen": 6,
              "ticks": "inside"
             }
            },
            "type": "scattergl"
           }
          ],
          "scattermapbox": [
           {
            "marker": {
             "colorbar": {
              "outlinewidth": 0,
              "tickcolor": "rgb(237,237,237)",
              "ticklen": 6,
              "ticks": "inside"
             }
            },
            "type": "scattermapbox"
           }
          ],
          "scatterpolar": [
           {
            "marker": {
             "colorbar": {
              "outlinewidth": 0,
              "tickcolor": "rgb(237,237,237)",
              "ticklen": 6,
              "ticks": "inside"
             }
            },
            "type": "scatterpolar"
           }
          ],
          "scatterpolargl": [
           {
            "marker": {
             "colorbar": {
              "outlinewidth": 0,
              "tickcolor": "rgb(237,237,237)",
              "ticklen": 6,
              "ticks": "inside"
             }
            },
            "type": "scatterpolargl"
           }
          ],
          "scatterternary": [
           {
            "marker": {
             "colorbar": {
              "outlinewidth": 0,
              "tickcolor": "rgb(237,237,237)",
              "ticklen": 6,
              "ticks": "inside"
             }
            },
            "type": "scatterternary"
           }
          ],
          "surface": [
           {
            "colorbar": {
             "outlinewidth": 0,
             "tickcolor": "rgb(237,237,237)",
             "ticklen": 6,
             "ticks": "inside"
            },
            "colorscale": [
             [
              0,
              "rgb(20,44,66)"
             ],
             [
              1,
              "rgb(90,179,244)"
             ]
            ],
            "type": "surface"
           }
          ],
          "table": [
           {
            "cells": {
             "fill": {
              "color": "rgb(237,237,237)"
             },
             "line": {
              "color": "white"
             }
            },
            "header": {
             "fill": {
              "color": "rgb(217,217,217)"
             },
             "line": {
              "color": "white"
             }
            },
            "type": "table"
           }
          ]
         },
         "layout": {
          "annotationdefaults": {
           "arrowhead": 0,
           "arrowwidth": 1
          },
          "autotypenumbers": "strict",
          "coloraxis": {
           "colorbar": {
            "outlinewidth": 0,
            "tickcolor": "rgb(237,237,237)",
            "ticklen": 6,
            "ticks": "inside"
           }
          },
          "colorscale": {
           "sequential": [
            [
             0,
             "rgb(20,44,66)"
            ],
            [
             1,
             "rgb(90,179,244)"
            ]
           ],
           "sequentialminus": [
            [
             0,
             "rgb(20,44,66)"
            ],
            [
             1,
             "rgb(90,179,244)"
            ]
           ]
          },
          "colorway": [
           "#F8766D",
           "#A3A500",
           "#00BF7D",
           "#00B0F6",
           "#E76BF3"
          ],
          "font": {
           "color": "rgb(51,51,51)"
          },
          "geo": {
           "bgcolor": "white",
           "lakecolor": "white",
           "landcolor": "rgb(237,237,237)",
           "showlakes": true,
           "showland": true,
           "subunitcolor": "white"
          },
          "hoverlabel": {
           "align": "left"
          },
          "hovermode": "closest",
          "paper_bgcolor": "white",
          "plot_bgcolor": "rgb(237,237,237)",
          "polar": {
           "angularaxis": {
            "gridcolor": "white",
            "linecolor": "white",
            "showgrid": true,
            "tickcolor": "rgb(51,51,51)",
            "ticks": "outside"
           },
           "bgcolor": "rgb(237,237,237)",
           "radialaxis": {
            "gridcolor": "white",
            "linecolor": "white",
            "showgrid": true,
            "tickcolor": "rgb(51,51,51)",
            "ticks": "outside"
           }
          },
          "scene": {
           "xaxis": {
            "backgroundcolor": "rgb(237,237,237)",
            "gridcolor": "white",
            "gridwidth": 2,
            "linecolor": "white",
            "showbackground": true,
            "showgrid": true,
            "tickcolor": "rgb(51,51,51)",
            "ticks": "outside",
            "zerolinecolor": "white"
           },
           "yaxis": {
            "backgroundcolor": "rgb(237,237,237)",
            "gridcolor": "white",
            "gridwidth": 2,
            "linecolor": "white",
            "showbackground": true,
            "showgrid": true,
            "tickcolor": "rgb(51,51,51)",
            "ticks": "outside",
            "zerolinecolor": "white"
           },
           "zaxis": {
            "backgroundcolor": "rgb(237,237,237)",
            "gridcolor": "white",
            "gridwidth": 2,
            "linecolor": "white",
            "showbackground": true,
            "showgrid": true,
            "tickcolor": "rgb(51,51,51)",
            "ticks": "outside",
            "zerolinecolor": "white"
           }
          },
          "shapedefaults": {
           "fillcolor": "black",
           "line": {
            "width": 0
           },
           "opacity": 0.3
          },
          "ternary": {
           "aaxis": {
            "gridcolor": "white",
            "linecolor": "white",
            "showgrid": true,
            "tickcolor": "rgb(51,51,51)",
            "ticks": "outside"
           },
           "baxis": {
            "gridcolor": "white",
            "linecolor": "white",
            "showgrid": true,
            "tickcolor": "rgb(51,51,51)",
            "ticks": "outside"
           },
           "bgcolor": "rgb(237,237,237)",
           "caxis": {
            "gridcolor": "white",
            "linecolor": "white",
            "showgrid": true,
            "tickcolor": "rgb(51,51,51)",
            "ticks": "outside"
           }
          },
          "xaxis": {
           "automargin": true,
           "gridcolor": "white",
           "linecolor": "white",
           "showgrid": true,
           "tickcolor": "rgb(51,51,51)",
           "ticks": "outside",
           "title": {
            "standoff": 15
           },
           "zerolinecolor": "white"
          },
          "yaxis": {
           "automargin": true,
           "gridcolor": "white",
           "linecolor": "white",
           "showgrid": true,
           "tickcolor": "rgb(51,51,51)",
           "ticks": "outside",
           "title": {
            "standoff": 15
           },
           "zerolinecolor": "white"
          }
         }
        },
        "title": {
         "text": ""
        },
        "xaxis": {
         "anchor": "y",
         "domain": [
          0,
          1
         ],
         "tickfont": {
          "size": 24
         },
         "title": {
          "text": "Quantile"
         }
        },
        "yaxis": {
         "anchor": "x",
         "domain": [
          0,
          1
         ],
         "tickfont": {
          "size": 24
         },
         "title": {
          "text": "Mean degreee"
         }
        }
       }
      }
     },
     "metadata": {},
     "output_type": "display_data"
    }
   ],
   "source": [
    "stats_quantile = exp_results_qth.groupby(\"Quantile\")[\"Degree_th\"].agg([\"mean\", \"std\"]).reset_index()\n",
    "fig = px.line(stats_quantile, x=\"Quantile\", y=\"mean\", error_y=\"std\", title=\"Degree ranges\")\n",
    "fig = fig.update_layout(title=\"\", xaxis=dict(tickfont=dict(size=24)), yaxis=dict(tickfont=dict(size=24), title=\"Mean degreee\"), font=dict(size=24), height=700)\n",
    "# fig.show()\n",
    "save_fig(name=\"exp_degree_th\", fig=fig, base_path=figures_path, width=1000, height=500, margin=0.02)"
   ]
  },
  {
   "cell_type": "markdown",
   "metadata": {},
   "source": [
    "## Control experiments\n",
    "\n",
    "### When are all the 98 TFs genes included?\n",
    "\n",
    "With varying the quantile threshold are the 98 TFs subset selected?\n",
    "\n",
    "From the experiments below it can be seen that q_th needs to be set to 0.4\n"
   ]
  },
  {
   "cell_type": "code",
   "execution_count": 230,
   "metadata": {},
   "outputs": [
    {
     "name": "stdout",
     "output_type": "stream",
     "text": [
      "### Matched (all ctrls & 98 TFs) 98\n",
      "### Matched (all ctrls & 98 TFs) 97\n",
      "### Matched (all ctrls & 98 TFs) 97\n",
      "### Matched (all ctrls & 98 TFs) 96\n",
      "### Matched (all ctrls & 98 TFs) 93\n",
      "### Matched (all ctrls & 98 TFs) 92\n",
      "### Matched (all ctrls & 98 TFs) 87\n",
      "### Matched (all ctrls & 98 TFs) 76\n",
      "### Matched (all ctrls & 98 TFs) 62\n",
      "### Matched (all ctrls & 98 TFs) 35\n"
     ]
    },
    {
     "data": {
      "application/vnd.plotly.v1+json": {
       "config": {
        "plotlyServerURL": "https://plot.ly"
       },
       "data": [
        {
         "alignmentgroup": "True",
         "hovertemplate": "Quantile=%{x}<br>Matched=%{y}<extra></extra>",
         "legendgroup": "",
         "marker": {
          "color": "#F8766D",
          "pattern": {
           "shape": ""
          }
         },
         "name": "",
         "offsetgroup": "",
         "orientation": "v",
         "showlegend": false,
         "textposition": "auto",
         "texttemplate": "%{y}",
         "type": "bar",
         "x": [
          "0.0",
          "0.5",
          "0.55",
          "0.6",
          "0.65",
          "0.7",
          "0.75",
          "0.8",
          "0.85",
          "0.9",
          "0.95"
         ],
         "xaxis": "x",
         "y": [
          98,
          98,
          97,
          97,
          96,
          93,
          92,
          87,
          76,
          62,
          35
         ],
         "yaxis": "y"
        }
       ],
       "layout": {
        "barmode": "relative",
        "legend": {
         "tracegroupgap": 0
        },
        "template": {
         "data": {
          "bar": [
           {
            "error_x": {
             "color": "rgb(51,51,51)"
            },
            "error_y": {
             "color": "rgb(51,51,51)"
            },
            "marker": {
             "line": {
              "color": "rgb(237,237,237)",
              "width": 0.5
             },
             "pattern": {
              "fillmode": "overlay",
              "size": 10,
              "solidity": 0.2
             }
            },
            "type": "bar"
           }
          ],
          "barpolar": [
           {
            "marker": {
             "line": {
              "color": "rgb(237,237,237)",
              "width": 0.5
             },
             "pattern": {
              "fillmode": "overlay",
              "size": 10,
              "solidity": 0.2
             }
            },
            "type": "barpolar"
           }
          ],
          "carpet": [
           {
            "aaxis": {
             "endlinecolor": "rgb(51,51,51)",
             "gridcolor": "white",
             "linecolor": "white",
             "minorgridcolor": "white",
             "startlinecolor": "rgb(51,51,51)"
            },
            "baxis": {
             "endlinecolor": "rgb(51,51,51)",
             "gridcolor": "white",
             "linecolor": "white",
             "minorgridcolor": "white",
             "startlinecolor": "rgb(51,51,51)"
            },
            "type": "carpet"
           }
          ],
          "choropleth": [
           {
            "colorbar": {
             "outlinewidth": 0,
             "tickcolor": "rgb(237,237,237)",
             "ticklen": 6,
             "ticks": "inside"
            },
            "type": "choropleth"
           }
          ],
          "contour": [
           {
            "colorbar": {
             "outlinewidth": 0,
             "tickcolor": "rgb(237,237,237)",
             "ticklen": 6,
             "ticks": "inside"
            },
            "colorscale": [
             [
              0,
              "rgb(20,44,66)"
             ],
             [
              1,
              "rgb(90,179,244)"
             ]
            ],
            "type": "contour"
           }
          ],
          "contourcarpet": [
           {
            "colorbar": {
             "outlinewidth": 0,
             "tickcolor": "rgb(237,237,237)",
             "ticklen": 6,
             "ticks": "inside"
            },
            "type": "contourcarpet"
           }
          ],
          "heatmap": [
           {
            "colorbar": {
             "outlinewidth": 0,
             "tickcolor": "rgb(237,237,237)",
             "ticklen": 6,
             "ticks": "inside"
            },
            "colorscale": [
             [
              0,
              "rgb(20,44,66)"
             ],
             [
              1,
              "rgb(90,179,244)"
             ]
            ],
            "type": "heatmap"
           }
          ],
          "heatmapgl": [
           {
            "colorbar": {
             "outlinewidth": 0,
             "tickcolor": "rgb(237,237,237)",
             "ticklen": 6,
             "ticks": "inside"
            },
            "colorscale": [
             [
              0,
              "rgb(20,44,66)"
             ],
             [
              1,
              "rgb(90,179,244)"
             ]
            ],
            "type": "heatmapgl"
           }
          ],
          "histogram": [
           {
            "marker": {
             "pattern": {
              "fillmode": "overlay",
              "size": 10,
              "solidity": 0.2
             }
            },
            "type": "histogram"
           }
          ],
          "histogram2d": [
           {
            "colorbar": {
             "outlinewidth": 0,
             "tickcolor": "rgb(237,237,237)",
             "ticklen": 6,
             "ticks": "inside"
            },
            "colorscale": [
             [
              0,
              "rgb(20,44,66)"
             ],
             [
              1,
              "rgb(90,179,244)"
             ]
            ],
            "type": "histogram2d"
           }
          ],
          "histogram2dcontour": [
           {
            "colorbar": {
             "outlinewidth": 0,
             "tickcolor": "rgb(237,237,237)",
             "ticklen": 6,
             "ticks": "inside"
            },
            "colorscale": [
             [
              0,
              "rgb(20,44,66)"
             ],
             [
              1,
              "rgb(90,179,244)"
             ]
            ],
            "type": "histogram2dcontour"
           }
          ],
          "mesh3d": [
           {
            "colorbar": {
             "outlinewidth": 0,
             "tickcolor": "rgb(237,237,237)",
             "ticklen": 6,
             "ticks": "inside"
            },
            "type": "mesh3d"
           }
          ],
          "parcoords": [
           {
            "line": {
             "colorbar": {
              "outlinewidth": 0,
              "tickcolor": "rgb(237,237,237)",
              "ticklen": 6,
              "ticks": "inside"
             }
            },
            "type": "parcoords"
           }
          ],
          "pie": [
           {
            "automargin": true,
            "type": "pie"
           }
          ],
          "scatter": [
           {
            "fillpattern": {
             "fillmode": "overlay",
             "size": 10,
             "solidity": 0.2
            },
            "type": "scatter"
           }
          ],
          "scatter3d": [
           {
            "line": {
             "colorbar": {
              "outlinewidth": 0,
              "tickcolor": "rgb(237,237,237)",
              "ticklen": 6,
              "ticks": "inside"
             }
            },
            "marker": {
             "colorbar": {
              "outlinewidth": 0,
              "tickcolor": "rgb(237,237,237)",
              "ticklen": 6,
              "ticks": "inside"
             }
            },
            "type": "scatter3d"
           }
          ],
          "scattercarpet": [
           {
            "marker": {
             "colorbar": {
              "outlinewidth": 0,
              "tickcolor": "rgb(237,237,237)",
              "ticklen": 6,
              "ticks": "inside"
             }
            },
            "type": "scattercarpet"
           }
          ],
          "scattergeo": [
           {
            "marker": {
             "colorbar": {
              "outlinewidth": 0,
              "tickcolor": "rgb(237,237,237)",
              "ticklen": 6,
              "ticks": "inside"
             }
            },
            "type": "scattergeo"
           }
          ],
          "scattergl": [
           {
            "marker": {
             "colorbar": {
              "outlinewidth": 0,
              "tickcolor": "rgb(237,237,237)",
              "ticklen": 6,
              "ticks": "inside"
             }
            },
            "type": "scattergl"
           }
          ],
          "scattermapbox": [
           {
            "marker": {
             "colorbar": {
              "outlinewidth": 0,
              "tickcolor": "rgb(237,237,237)",
              "ticklen": 6,
              "ticks": "inside"
             }
            },
            "type": "scattermapbox"
           }
          ],
          "scatterpolar": [
           {
            "marker": {
             "colorbar": {
              "outlinewidth": 0,
              "tickcolor": "rgb(237,237,237)",
              "ticklen": 6,
              "ticks": "inside"
             }
            },
            "type": "scatterpolar"
           }
          ],
          "scatterpolargl": [
           {
            "marker": {
             "colorbar": {
              "outlinewidth": 0,
              "tickcolor": "rgb(237,237,237)",
              "ticklen": 6,
              "ticks": "inside"
             }
            },
            "type": "scatterpolargl"
           }
          ],
          "scatterternary": [
           {
            "marker": {
             "colorbar": {
              "outlinewidth": 0,
              "tickcolor": "rgb(237,237,237)",
              "ticklen": 6,
              "ticks": "inside"
             }
            },
            "type": "scatterternary"
           }
          ],
          "surface": [
           {
            "colorbar": {
             "outlinewidth": 0,
             "tickcolor": "rgb(237,237,237)",
             "ticklen": 6,
             "ticks": "inside"
            },
            "colorscale": [
             [
              0,
              "rgb(20,44,66)"
             ],
             [
              1,
              "rgb(90,179,244)"
             ]
            ],
            "type": "surface"
           }
          ],
          "table": [
           {
            "cells": {
             "fill": {
              "color": "rgb(237,237,237)"
             },
             "line": {
              "color": "white"
             }
            },
            "header": {
             "fill": {
              "color": "rgb(217,217,217)"
             },
             "line": {
              "color": "white"
             }
            },
            "type": "table"
           }
          ]
         },
         "layout": {
          "annotationdefaults": {
           "arrowhead": 0,
           "arrowwidth": 1
          },
          "autotypenumbers": "strict",
          "coloraxis": {
           "colorbar": {
            "outlinewidth": 0,
            "tickcolor": "rgb(237,237,237)",
            "ticklen": 6,
            "ticks": "inside"
           }
          },
          "colorscale": {
           "sequential": [
            [
             0,
             "rgb(20,44,66)"
            ],
            [
             1,
             "rgb(90,179,244)"
            ]
           ],
           "sequentialminus": [
            [
             0,
             "rgb(20,44,66)"
            ],
            [
             1,
             "rgb(90,179,244)"
            ]
           ]
          },
          "colorway": [
           "#F8766D",
           "#A3A500",
           "#00BF7D",
           "#00B0F6",
           "#E76BF3"
          ],
          "font": {
           "color": "rgb(51,51,51)"
          },
          "geo": {
           "bgcolor": "white",
           "lakecolor": "white",
           "landcolor": "rgb(237,237,237)",
           "showlakes": true,
           "showland": true,
           "subunitcolor": "white"
          },
          "hoverlabel": {
           "align": "left"
          },
          "hovermode": "closest",
          "paper_bgcolor": "white",
          "plot_bgcolor": "rgb(237,237,237)",
          "polar": {
           "angularaxis": {
            "gridcolor": "white",
            "linecolor": "white",
            "showgrid": true,
            "tickcolor": "rgb(51,51,51)",
            "ticks": "outside"
           },
           "bgcolor": "rgb(237,237,237)",
           "radialaxis": {
            "gridcolor": "white",
            "linecolor": "white",
            "showgrid": true,
            "tickcolor": "rgb(51,51,51)",
            "ticks": "outside"
           }
          },
          "scene": {
           "xaxis": {
            "backgroundcolor": "rgb(237,237,237)",
            "gridcolor": "white",
            "gridwidth": 2,
            "linecolor": "white",
            "showbackground": true,
            "showgrid": true,
            "tickcolor": "rgb(51,51,51)",
            "ticks": "outside",
            "zerolinecolor": "white"
           },
           "yaxis": {
            "backgroundcolor": "rgb(237,237,237)",
            "gridcolor": "white",
            "gridwidth": 2,
            "linecolor": "white",
            "showbackground": true,
            "showgrid": true,
            "tickcolor": "rgb(51,51,51)",
            "ticks": "outside",
            "zerolinecolor": "white"
           },
           "zaxis": {
            "backgroundcolor": "rgb(237,237,237)",
            "gridcolor": "white",
            "gridwidth": 2,
            "linecolor": "white",
            "showbackground": true,
            "showgrid": true,
            "tickcolor": "rgb(51,51,51)",
            "ticks": "outside",
            "zerolinecolor": "white"
           }
          },
          "shapedefaults": {
           "fillcolor": "black",
           "line": {
            "width": 0
           },
           "opacity": 0.3
          },
          "ternary": {
           "aaxis": {
            "gridcolor": "white",
            "linecolor": "white",
            "showgrid": true,
            "tickcolor": "rgb(51,51,51)",
            "ticks": "outside"
           },
           "baxis": {
            "gridcolor": "white",
            "linecolor": "white",
            "showgrid": true,
            "tickcolor": "rgb(51,51,51)",
            "ticks": "outside"
           },
           "bgcolor": "rgb(237,237,237)",
           "caxis": {
            "gridcolor": "white",
            "linecolor": "white",
            "showgrid": true,
            "tickcolor": "rgb(51,51,51)",
            "ticks": "outside"
           }
          },
          "xaxis": {
           "automargin": true,
           "gridcolor": "white",
           "linecolor": "white",
           "showgrid": true,
           "tickcolor": "rgb(51,51,51)",
           "ticks": "outside",
           "title": {
            "standoff": 15
           },
           "zerolinecolor": "white"
          },
          "yaxis": {
           "automargin": true,
           "gridcolor": "white",
           "linecolor": "white",
           "showgrid": true,
           "tickcolor": "rgb(51,51,51)",
           "ticks": "outside",
           "title": {
            "standoff": 15
           },
           "zerolinecolor": "white"
          }
         }
        },
        "title": {
         "text": "Matched across all controls"
        },
        "xaxis": {
         "anchor": "y",
         "domain": [
          0,
          1
         ],
         "title": {
          "text": "Quantile"
         }
        },
        "yaxis": {
         "anchor": "x",
         "domain": [
          0,
          1
         ],
         "title": {
          "text": "Matched"
         }
        }
       }
      }
     },
     "metadata": {},
     "output_type": "display_data"
    }
   ],
   "source": [
    "q_ths = list(range(50, 100, 5))\n",
    "q_ths.sort()\n",
    "stats = [(0, 98)]  # default values\n",
    "for q_th in q_ths:\n",
    "    q_th = q_th / 100\n",
    "\n",
    "    common_ctrls = set()\n",
    "    for key, value in exp_ctrls.items():\n",
    "        label = key.split(\"h\")[-1]\n",
    "        matched_ctrl, fig_ctrl, meta_info, global_stats = calculate_degree_thresholds(exp_set=value, sel_tfs=sel_tfs, label=label, q_th=q_th, verbose=False)\n",
    "\n",
    "        common_ctrls.update(matched_ctrl)\n",
    "\n",
    "    stats.append((q_th, len(common_ctrls)))\n",
    "    print(f\"### Matched (all ctrls & 98 TFs) {len(common_ctrls)}\")\n",
    "\n",
    "stats = pd.DataFrame(stats, columns=[\"Quantile\", \"Matched\"])\n",
    "stats.sort_values(by=\"Quantile\", ascending=True, inplace=True)\n",
    "stats[\"Quantile\"] = stats[\"Quantile\"].astype(str)\n",
    "\n",
    "px.bar(stats, x=\"Quantile\", y=\"Matched\", text_auto=True, title=\"Matched across all controls\")"
   ]
  },
  {
   "cell_type": "markdown",
   "metadata": {},
   "source": [
    "### Matched controls across TFs\n",
    "\n",
    "The limitation with the above graph is that in looks at all the control which gives an unrealistic representation.\n",
    "\n",
    "In the following section we look only at the ones"
   ]
  },
  {
   "cell_type": "code",
   "execution_count": 333,
   "metadata": {},
   "outputs": [],
   "source": [
    "all_q_ths = pd.DataFrame()\n",
    "q_ths = list(range(40, 100, 5))\n",
    "q_ths.sort()\n",
    "stats = []\n",
    "for q_th in q_ths:\n",
    "    q_th = q_th / 100\n",
    "\n",
    "    common_ctrls = set()\n",
    "    all_ctrls = pd.DataFrame()\n",
    "    for key, value in exp_ctrls.items():\n",
    "        label = key.split(\"h\")[-1]\n",
    "        matched_ctrl, fig_ctrl, meta_info, global_stats = calculate_degree_thresholds(exp_set=value, sel_tfs=sel_tfs, label=label, q_th=q_th, verbose=False)\n",
    "\n",
    "        common_ctrls.update(matched_ctrl)\n",
    "        meta_info[\"Quantile\"] = q_th\n",
    "        all_ctrls = pd.concat([all_ctrls, meta_info], axis=0)\n",
    "\n",
    "    all_q_ths = pd.concat([all_ctrls, all_q_ths], axis=0)\n",
    "\n",
    "# Computer TF and Quantile\n",
    "stats = []\n",
    "for tf in all_q_ths[\"TF\"].unique():\n",
    "    sel_dmy = all_q_ths.loc[all_q_ths[\"TF\"] == tf]\n",
    "\n",
    "    for q_th in sel_dmy[\"Quantile\"].unique():\n",
    "        sel = sel_dmy[sel_dmy[\"Quantile\"] == q_th]\n",
    "        stats.append(\n",
    "            (\n",
    "                tf,\n",
    "                q_th,\n",
    "                sel[\"matched\"].mean(),\n",
    "                sel[\"matched\"].std(),\n",
    "            )\n",
    "        )"
   ]
  },
  {
   "cell_type": "code",
   "execution_count": 328,
   "metadata": {},
   "outputs": [],
   "source": [
    "stats = pd.DataFrame(stats, columns=[\"TF\", \"q_th\", \"Mean\", \"Std\"])\n",
    "\n",
    "fig = px.line(stats, x=\"TF\", y=\"Mean\", error_y=\"Std\", color=\"q_th\", color_discrete_sequence=px.colors.qualitative.G10 + px.colors.qualitative.D3, height=700)\n",
    "fig = fig.update_layout(\n",
    "    legend=dict(\n",
    "        orientation=\"h\",\n",
    "        yanchor=\"bottom\",\n",
    "        xanchor=\"center\",\n",
    "        x=0.5,\n",
    "        y=1.0,\n",
    "        bgcolor=\"rgba(0,0,0,0)\",\n",
    "        font=dict(size=20, color=\"#003366\"),\n",
    "    ),\n",
    "    xaxis=dict(tickfont=dict(size=20)),\n",
    "    yaxis=dict(tickfont=dict(size=20), title=\"Mean of 98 TFs included\"),\n",
    "    font=dict(size=20),\n",
    ")\n",
    "save_fig(name=\"ctrls_98_tfs\", fig=fig, base_path=figures_path, width=1800, height=800, margin=0.06)"
   ]
  },
  {
   "cell_type": "code",
   "execution_count": 340,
   "metadata": {},
   "outputs": [
    {
     "data": {
      "application/vnd.plotly.v1+json": {
       "config": {
        "plotlyServerURL": "https://plot.ly"
       },
       "data": [
        {
         "error_y": {
          "array": [
           0,
           0.5013993536757184,
           0.2905795824534465,
           0.3621969668765184,
           0.456637264068752,
           0.5664544132284178,
           0.6493889609929546,
           0.8558961032361835,
           1.1482012584882655,
           1.5926355279428575,
           2.1740596771992826,
           2.341497165140066
          ]
         },
         "hovertemplate": "Quantile=%{x}<br>mean=%{y}<extra></extra>",
         "legendgroup": "",
         "line": {
          "color": "#F8766D",
          "dash": "solid"
         },
         "marker": {
          "symbol": "circle"
         },
         "mode": "lines",
         "name": "",
         "orientation": "v",
         "showlegend": false,
         "type": "scatter",
         "x": [
          0.4,
          0.45,
          0.5,
          0.55,
          0.6,
          0.65,
          0.7,
          0.75,
          0.8,
          0.85,
          0.9,
          0.95
         ],
         "xaxis": "x",
         "y": [
          4,
          4.523076923076923,
          4.907692307692308,
          5.153846153846154,
          5.703076923076924,
          6.207692307692308,
          6.856153846153844,
          7.75,
          8.915384615384616,
          10.61653846153846,
          12.646153846153846,
          15.862692307692312
         ],
         "yaxis": "y"
        }
       ],
       "layout": {
        "font": {
         "size": 24
        },
        "height": 700,
        "legend": {
         "tracegroupgap": 0
        },
        "template": {
         "data": {
          "bar": [
           {
            "error_x": {
             "color": "rgb(51,51,51)"
            },
            "error_y": {
             "color": "rgb(51,51,51)"
            },
            "marker": {
             "line": {
              "color": "rgb(237,237,237)",
              "width": 0.5
             },
             "pattern": {
              "fillmode": "overlay",
              "size": 10,
              "solidity": 0.2
             }
            },
            "type": "bar"
           }
          ],
          "barpolar": [
           {
            "marker": {
             "line": {
              "color": "rgb(237,237,237)",
              "width": 0.5
             },
             "pattern": {
              "fillmode": "overlay",
              "size": 10,
              "solidity": 0.2
             }
            },
            "type": "barpolar"
           }
          ],
          "carpet": [
           {
            "aaxis": {
             "endlinecolor": "rgb(51,51,51)",
             "gridcolor": "white",
             "linecolor": "white",
             "minorgridcolor": "white",
             "startlinecolor": "rgb(51,51,51)"
            },
            "baxis": {
             "endlinecolor": "rgb(51,51,51)",
             "gridcolor": "white",
             "linecolor": "white",
             "minorgridcolor": "white",
             "startlinecolor": "rgb(51,51,51)"
            },
            "type": "carpet"
           }
          ],
          "choropleth": [
           {
            "colorbar": {
             "outlinewidth": 0,
             "tickcolor": "rgb(237,237,237)",
             "ticklen": 6,
             "ticks": "inside"
            },
            "type": "choropleth"
           }
          ],
          "contour": [
           {
            "colorbar": {
             "outlinewidth": 0,
             "tickcolor": "rgb(237,237,237)",
             "ticklen": 6,
             "ticks": "inside"
            },
            "colorscale": [
             [
              0,
              "rgb(20,44,66)"
             ],
             [
              1,
              "rgb(90,179,244)"
             ]
            ],
            "type": "contour"
           }
          ],
          "contourcarpet": [
           {
            "colorbar": {
             "outlinewidth": 0,
             "tickcolor": "rgb(237,237,237)",
             "ticklen": 6,
             "ticks": "inside"
            },
            "type": "contourcarpet"
           }
          ],
          "heatmap": [
           {
            "colorbar": {
             "outlinewidth": 0,
             "tickcolor": "rgb(237,237,237)",
             "ticklen": 6,
             "ticks": "inside"
            },
            "colorscale": [
             [
              0,
              "rgb(20,44,66)"
             ],
             [
              1,
              "rgb(90,179,244)"
             ]
            ],
            "type": "heatmap"
           }
          ],
          "heatmapgl": [
           {
            "colorbar": {
             "outlinewidth": 0,
             "tickcolor": "rgb(237,237,237)",
             "ticklen": 6,
             "ticks": "inside"
            },
            "colorscale": [
             [
              0,
              "rgb(20,44,66)"
             ],
             [
              1,
              "rgb(90,179,244)"
             ]
            ],
            "type": "heatmapgl"
           }
          ],
          "histogram": [
           {
            "marker": {
             "pattern": {
              "fillmode": "overlay",
              "size": 10,
              "solidity": 0.2
             }
            },
            "type": "histogram"
           }
          ],
          "histogram2d": [
           {
            "colorbar": {
             "outlinewidth": 0,
             "tickcolor": "rgb(237,237,237)",
             "ticklen": 6,
             "ticks": "inside"
            },
            "colorscale": [
             [
              0,
              "rgb(20,44,66)"
             ],
             [
              1,
              "rgb(90,179,244)"
             ]
            ],
            "type": "histogram2d"
           }
          ],
          "histogram2dcontour": [
           {
            "colorbar": {
             "outlinewidth": 0,
             "tickcolor": "rgb(237,237,237)",
             "ticklen": 6,
             "ticks": "inside"
            },
            "colorscale": [
             [
              0,
              "rgb(20,44,66)"
             ],
             [
              1,
              "rgb(90,179,244)"
             ]
            ],
            "type": "histogram2dcontour"
           }
          ],
          "mesh3d": [
           {
            "colorbar": {
             "outlinewidth": 0,
             "tickcolor": "rgb(237,237,237)",
             "ticklen": 6,
             "ticks": "inside"
            },
            "type": "mesh3d"
           }
          ],
          "parcoords": [
           {
            "line": {
             "colorbar": {
              "outlinewidth": 0,
              "tickcolor": "rgb(237,237,237)",
              "ticklen": 6,
              "ticks": "inside"
             }
            },
            "type": "parcoords"
           }
          ],
          "pie": [
           {
            "automargin": true,
            "type": "pie"
           }
          ],
          "scatter": [
           {
            "fillpattern": {
             "fillmode": "overlay",
             "size": 10,
             "solidity": 0.2
            },
            "type": "scatter"
           }
          ],
          "scatter3d": [
           {
            "line": {
             "colorbar": {
              "outlinewidth": 0,
              "tickcolor": "rgb(237,237,237)",
              "ticklen": 6,
              "ticks": "inside"
             }
            },
            "marker": {
             "colorbar": {
              "outlinewidth": 0,
              "tickcolor": "rgb(237,237,237)",
              "ticklen": 6,
              "ticks": "inside"
             }
            },
            "type": "scatter3d"
           }
          ],
          "scattercarpet": [
           {
            "marker": {
             "colorbar": {
              "outlinewidth": 0,
              "tickcolor": "rgb(237,237,237)",
              "ticklen": 6,
              "ticks": "inside"
             }
            },
            "type": "scattercarpet"
           }
          ],
          "scattergeo": [
           {
            "marker": {
             "colorbar": {
              "outlinewidth": 0,
              "tickcolor": "rgb(237,237,237)",
              "ticklen": 6,
              "ticks": "inside"
             }
            },
            "type": "scattergeo"
           }
          ],
          "scattergl": [
           {
            "marker": {
             "colorbar": {
              "outlinewidth": 0,
              "tickcolor": "rgb(237,237,237)",
              "ticklen": 6,
              "ticks": "inside"
             }
            },
            "type": "scattergl"
           }
          ],
          "scattermapbox": [
           {
            "marker": {
             "colorbar": {
              "outlinewidth": 0,
              "tickcolor": "rgb(237,237,237)",
              "ticklen": 6,
              "ticks": "inside"
             }
            },
            "type": "scattermapbox"
           }
          ],
          "scatterpolar": [
           {
            "marker": {
             "colorbar": {
              "outlinewidth": 0,
              "tickcolor": "rgb(237,237,237)",
              "ticklen": 6,
              "ticks": "inside"
             }
            },
            "type": "scatterpolar"
           }
          ],
          "scatterpolargl": [
           {
            "marker": {
             "colorbar": {
              "outlinewidth": 0,
              "tickcolor": "rgb(237,237,237)",
              "ticklen": 6,
              "ticks": "inside"
             }
            },
            "type": "scatterpolargl"
           }
          ],
          "scatterternary": [
           {
            "marker": {
             "colorbar": {
              "outlinewidth": 0,
              "tickcolor": "rgb(237,237,237)",
              "ticklen": 6,
              "ticks": "inside"
             }
            },
            "type": "scatterternary"
           }
          ],
          "surface": [
           {
            "colorbar": {
             "outlinewidth": 0,
             "tickcolor": "rgb(237,237,237)",
             "ticklen": 6,
             "ticks": "inside"
            },
            "colorscale": [
             [
              0,
              "rgb(20,44,66)"
             ],
             [
              1,
              "rgb(90,179,244)"
             ]
            ],
            "type": "surface"
           }
          ],
          "table": [
           {
            "cells": {
             "fill": {
              "color": "rgb(237,237,237)"
             },
             "line": {
              "color": "white"
             }
            },
            "header": {
             "fill": {
              "color": "rgb(217,217,217)"
             },
             "line": {
              "color": "white"
             }
            },
            "type": "table"
           }
          ]
         },
         "layout": {
          "annotationdefaults": {
           "arrowhead": 0,
           "arrowwidth": 1
          },
          "autotypenumbers": "strict",
          "coloraxis": {
           "colorbar": {
            "outlinewidth": 0,
            "tickcolor": "rgb(237,237,237)",
            "ticklen": 6,
            "ticks": "inside"
           }
          },
          "colorscale": {
           "sequential": [
            [
             0,
             "rgb(20,44,66)"
            ],
            [
             1,
             "rgb(90,179,244)"
            ]
           ],
           "sequentialminus": [
            [
             0,
             "rgb(20,44,66)"
            ],
            [
             1,
             "rgb(90,179,244)"
            ]
           ]
          },
          "colorway": [
           "#F8766D",
           "#A3A500",
           "#00BF7D",
           "#00B0F6",
           "#E76BF3"
          ],
          "font": {
           "color": "rgb(51,51,51)"
          },
          "geo": {
           "bgcolor": "white",
           "lakecolor": "white",
           "landcolor": "rgb(237,237,237)",
           "showlakes": true,
           "showland": true,
           "subunitcolor": "white"
          },
          "hoverlabel": {
           "align": "left"
          },
          "hovermode": "closest",
          "paper_bgcolor": "white",
          "plot_bgcolor": "rgb(237,237,237)",
          "polar": {
           "angularaxis": {
            "gridcolor": "white",
            "linecolor": "white",
            "showgrid": true,
            "tickcolor": "rgb(51,51,51)",
            "ticks": "outside"
           },
           "bgcolor": "rgb(237,237,237)",
           "radialaxis": {
            "gridcolor": "white",
            "linecolor": "white",
            "showgrid": true,
            "tickcolor": "rgb(51,51,51)",
            "ticks": "outside"
           }
          },
          "scene": {
           "xaxis": {
            "backgroundcolor": "rgb(237,237,237)",
            "gridcolor": "white",
            "gridwidth": 2,
            "linecolor": "white",
            "showbackground": true,
            "showgrid": true,
            "tickcolor": "rgb(51,51,51)",
            "ticks": "outside",
            "zerolinecolor": "white"
           },
           "yaxis": {
            "backgroundcolor": "rgb(237,237,237)",
            "gridcolor": "white",
            "gridwidth": 2,
            "linecolor": "white",
            "showbackground": true,
            "showgrid": true,
            "tickcolor": "rgb(51,51,51)",
            "ticks": "outside",
            "zerolinecolor": "white"
           },
           "zaxis": {
            "backgroundcolor": "rgb(237,237,237)",
            "gridcolor": "white",
            "gridwidth": 2,
            "linecolor": "white",
            "showbackground": true,
            "showgrid": true,
            "tickcolor": "rgb(51,51,51)",
            "ticks": "outside",
            "zerolinecolor": "white"
           }
          },
          "shapedefaults": {
           "fillcolor": "black",
           "line": {
            "width": 0
           },
           "opacity": 0.3
          },
          "ternary": {
           "aaxis": {
            "gridcolor": "white",
            "linecolor": "white",
            "showgrid": true,
            "tickcolor": "rgb(51,51,51)",
            "ticks": "outside"
           },
           "baxis": {
            "gridcolor": "white",
            "linecolor": "white",
            "showgrid": true,
            "tickcolor": "rgb(51,51,51)",
            "ticks": "outside"
           },
           "bgcolor": "rgb(237,237,237)",
           "caxis": {
            "gridcolor": "white",
            "linecolor": "white",
            "showgrid": true,
            "tickcolor": "rgb(51,51,51)",
            "ticks": "outside"
           }
          },
          "xaxis": {
           "automargin": true,
           "gridcolor": "white",
           "linecolor": "white",
           "showgrid": true,
           "tickcolor": "rgb(51,51,51)",
           "ticks": "outside",
           "title": {
            "standoff": 15
           },
           "zerolinecolor": "white"
          },
          "yaxis": {
           "automargin": true,
           "gridcolor": "white",
           "linecolor": "white",
           "showgrid": true,
           "tickcolor": "rgb(51,51,51)",
           "ticks": "outside",
           "title": {
            "standoff": 15
           },
           "zerolinecolor": "white"
          }
         }
        },
        "title": {
         "text": ""
        },
        "xaxis": {
         "anchor": "y",
         "domain": [
          0,
          1
         ],
         "tickfont": {
          "size": 24
         },
         "title": {
          "text": "Quantile"
         }
        },
        "yaxis": {
         "anchor": "x",
         "domain": [
          0,
          1
         ],
         "tickfont": {
          "size": 24
         },
         "title": {
          "text": "Mean degreee"
         }
        }
       }
      }
     },
     "metadata": {},
     "output_type": "display_data"
    }
   ],
   "source": [
    "stats_quantile = all_q_ths.groupby(\"Quantile\")[\"Degree_th\"].agg([\"mean\", \"std\"]).reset_index()\n",
    "fig = px.line(stats_quantile, x=\"Quantile\", y=\"mean\", error_y=\"std\", title=\"Degree ranges\")\n",
    "fig = fig.update_layout(title=\"\", xaxis=dict(tickfont=dict(size=24)), yaxis=dict(tickfont=dict(size=24), title=\"Mean degreee\"), font=dict(size=24), height=700)\n",
    "# fig.show()\n",
    "save_fig(name=\"ctrl_degree_th\", fig=fig, base_path=figures_path, width=1000, height=500, margin=0.02)"
   ]
  },
  {
   "cell_type": "markdown",
   "metadata": {},
   "source": [
    "# Check for specific TF\n",
    "\n",
    "We found the 98 TFs by varying the number of TFs and then doing the interesection. However, can we just use one value for TF?"
   ]
  },
  {
   "cell_type": "code",
   "execution_count": 82,
   "metadata": {},
   "outputs": [
    {
     "data": {
      "application/vnd.plotly.v1+json": {
       "config": {
        "plotlyServerURL": "https://plot.ly"
       },
       "data": [
        {
         "alignmentgroup": "True",
         "hovertemplate": "variable=matched<br>TF=%{x}<br>value=%{y}<extra></extra>",
         "legendgroup": "matched",
         "marker": {
          "color": "#F8766D",
          "pattern": {
           "shape": ""
          }
         },
         "name": "matched",
         "offsetgroup": "matched",
         "orientation": "v",
         "showlegend": true,
         "textposition": "auto",
         "texttemplate": "%{y}",
         "type": "bar",
         "x": [
          "3",
          "4",
          "5",
          "6",
          "7",
          "8",
          "9",
          "10",
          "11",
          "12",
          "13",
          "14",
          "15"
         ],
         "xaxis": "x",
         "y": [
          8,
          9,
          11,
          10,
          17,
          18,
          25,
          28,
          32,
          37,
          39,
          40,
          40
         ],
         "yaxis": "y"
        },
        {
         "alignmentgroup": "True",
         "hovertemplate": "variable=unique<br>TF=%{x}<br>value=%{y}<extra></extra>",
         "legendgroup": "unique",
         "marker": {
          "color": "#A3A500",
          "pattern": {
           "shape": ""
          }
         },
         "name": "unique",
         "offsetgroup": "unique",
         "orientation": "v",
         "showlegend": true,
         "textposition": "auto",
         "texttemplate": "%{y}",
         "type": "bar",
         "x": [
          "3",
          "4",
          "5",
          "6",
          "7",
          "8",
          "9",
          "10",
          "11",
          "12",
          "13",
          "14",
          "15"
         ],
         "xaxis": "x",
         "y": [
          1,
          0,
          4,
          2,
          10,
          0,
          0,
          3,
          7,
          37,
          21,
          15,
          23
         ],
         "yaxis": "y"
        },
        {
         "alignmentgroup": "True",
         "hovertemplate": "variable=selected<br>TF=%{x}<br>value=%{y}<extra></extra>",
         "legendgroup": "selected",
         "marker": {
          "color": "#00BF7D",
          "pattern": {
           "shape": ""
          }
         },
         "name": "selected",
         "offsetgroup": "selected",
         "orientation": "v",
         "showlegend": true,
         "textposition": "auto",
         "texttemplate": "%{y}",
         "type": "bar",
         "x": [
          "3",
          "4",
          "5",
          "6",
          "7",
          "8",
          "9",
          "10",
          "11",
          "12",
          "13",
          "14",
          "15"
         ],
         "xaxis": "x",
         "y": [
          112,
          100,
          109,
          102,
          115,
          101,
          115,
          112,
          124,
          115,
          109,
          109,
          109
         ],
         "yaxis": "y"
        }
       ],
       "layout": {
        "barmode": "group",
        "legend": {
         "title": {
          "text": "variable"
         },
         "tracegroupgap": 0
        },
        "template": {
         "data": {
          "bar": [
           {
            "error_x": {
             "color": "rgb(51,51,51)"
            },
            "error_y": {
             "color": "rgb(51,51,51)"
            },
            "marker": {
             "line": {
              "color": "rgb(237,237,237)",
              "width": 0.5
             },
             "pattern": {
              "fillmode": "overlay",
              "size": 10,
              "solidity": 0.2
             }
            },
            "type": "bar"
           }
          ],
          "barpolar": [
           {
            "marker": {
             "line": {
              "color": "rgb(237,237,237)",
              "width": 0.5
             },
             "pattern": {
              "fillmode": "overlay",
              "size": 10,
              "solidity": 0.2
             }
            },
            "type": "barpolar"
           }
          ],
          "carpet": [
           {
            "aaxis": {
             "endlinecolor": "rgb(51,51,51)",
             "gridcolor": "white",
             "linecolor": "white",
             "minorgridcolor": "white",
             "startlinecolor": "rgb(51,51,51)"
            },
            "baxis": {
             "endlinecolor": "rgb(51,51,51)",
             "gridcolor": "white",
             "linecolor": "white",
             "minorgridcolor": "white",
             "startlinecolor": "rgb(51,51,51)"
            },
            "type": "carpet"
           }
          ],
          "choropleth": [
           {
            "colorbar": {
             "outlinewidth": 0,
             "tickcolor": "rgb(237,237,237)",
             "ticklen": 6,
             "ticks": "inside"
            },
            "type": "choropleth"
           }
          ],
          "contour": [
           {
            "colorbar": {
             "outlinewidth": 0,
             "tickcolor": "rgb(237,237,237)",
             "ticklen": 6,
             "ticks": "inside"
            },
            "colorscale": [
             [
              0,
              "rgb(20,44,66)"
             ],
             [
              1,
              "rgb(90,179,244)"
             ]
            ],
            "type": "contour"
           }
          ],
          "contourcarpet": [
           {
            "colorbar": {
             "outlinewidth": 0,
             "tickcolor": "rgb(237,237,237)",
             "ticklen": 6,
             "ticks": "inside"
            },
            "type": "contourcarpet"
           }
          ],
          "heatmap": [
           {
            "colorbar": {
             "outlinewidth": 0,
             "tickcolor": "rgb(237,237,237)",
             "ticklen": 6,
             "ticks": "inside"
            },
            "colorscale": [
             [
              0,
              "rgb(20,44,66)"
             ],
             [
              1,
              "rgb(90,179,244)"
             ]
            ],
            "type": "heatmap"
           }
          ],
          "heatmapgl": [
           {
            "colorbar": {
             "outlinewidth": 0,
             "tickcolor": "rgb(237,237,237)",
             "ticklen": 6,
             "ticks": "inside"
            },
            "colorscale": [
             [
              0,
              "rgb(20,44,66)"
             ],
             [
              1,
              "rgb(90,179,244)"
             ]
            ],
            "type": "heatmapgl"
           }
          ],
          "histogram": [
           {
            "marker": {
             "pattern": {
              "fillmode": "overlay",
              "size": 10,
              "solidity": 0.2
             }
            },
            "type": "histogram"
           }
          ],
          "histogram2d": [
           {
            "colorbar": {
             "outlinewidth": 0,
             "tickcolor": "rgb(237,237,237)",
             "ticklen": 6,
             "ticks": "inside"
            },
            "colorscale": [
             [
              0,
              "rgb(20,44,66)"
             ],
             [
              1,
              "rgb(90,179,244)"
             ]
            ],
            "type": "histogram2d"
           }
          ],
          "histogram2dcontour": [
           {
            "colorbar": {
             "outlinewidth": 0,
             "tickcolor": "rgb(237,237,237)",
             "ticklen": 6,
             "ticks": "inside"
            },
            "colorscale": [
             [
              0,
              "rgb(20,44,66)"
             ],
             [
              1,
              "rgb(90,179,244)"
             ]
            ],
            "type": "histogram2dcontour"
           }
          ],
          "mesh3d": [
           {
            "colorbar": {
             "outlinewidth": 0,
             "tickcolor": "rgb(237,237,237)",
             "ticklen": 6,
             "ticks": "inside"
            },
            "type": "mesh3d"
           }
          ],
          "parcoords": [
           {
            "line": {
             "colorbar": {
              "outlinewidth": 0,
              "tickcolor": "rgb(237,237,237)",
              "ticklen": 6,
              "ticks": "inside"
             }
            },
            "type": "parcoords"
           }
          ],
          "pie": [
           {
            "automargin": true,
            "type": "pie"
           }
          ],
          "scatter": [
           {
            "fillpattern": {
             "fillmode": "overlay",
             "size": 10,
             "solidity": 0.2
            },
            "type": "scatter"
           }
          ],
          "scatter3d": [
           {
            "line": {
             "colorbar": {
              "outlinewidth": 0,
              "tickcolor": "rgb(237,237,237)",
              "ticklen": 6,
              "ticks": "inside"
             }
            },
            "marker": {
             "colorbar": {
              "outlinewidth": 0,
              "tickcolor": "rgb(237,237,237)",
              "ticklen": 6,
              "ticks": "inside"
             }
            },
            "type": "scatter3d"
           }
          ],
          "scattercarpet": [
           {
            "marker": {
             "colorbar": {
              "outlinewidth": 0,
              "tickcolor": "rgb(237,237,237)",
              "ticklen": 6,
              "ticks": "inside"
             }
            },
            "type": "scattercarpet"
           }
          ],
          "scattergeo": [
           {
            "marker": {
             "colorbar": {
              "outlinewidth": 0,
              "tickcolor": "rgb(237,237,237)",
              "ticklen": 6,
              "ticks": "inside"
             }
            },
            "type": "scattergeo"
           }
          ],
          "scattergl": [
           {
            "marker": {
             "colorbar": {
              "outlinewidth": 0,
              "tickcolor": "rgb(237,237,237)",
              "ticklen": 6,
              "ticks": "inside"
             }
            },
            "type": "scattergl"
           }
          ],
          "scattermapbox": [
           {
            "marker": {
             "colorbar": {
              "outlinewidth": 0,
              "tickcolor": "rgb(237,237,237)",
              "ticklen": 6,
              "ticks": "inside"
             }
            },
            "type": "scattermapbox"
           }
          ],
          "scatterpolar": [
           {
            "marker": {
             "colorbar": {
              "outlinewidth": 0,
              "tickcolor": "rgb(237,237,237)",
              "ticklen": 6,
              "ticks": "inside"
             }
            },
            "type": "scatterpolar"
           }
          ],
          "scatterpolargl": [
           {
            "marker": {
             "colorbar": {
              "outlinewidth": 0,
              "tickcolor": "rgb(237,237,237)",
              "ticklen": 6,
              "ticks": "inside"
             }
            },
            "type": "scatterpolargl"
           }
          ],
          "scatterternary": [
           {
            "marker": {
             "colorbar": {
              "outlinewidth": 0,
              "tickcolor": "rgb(237,237,237)",
              "ticklen": 6,
              "ticks": "inside"
             }
            },
            "type": "scatterternary"
           }
          ],
          "surface": [
           {
            "colorbar": {
             "outlinewidth": 0,
             "tickcolor": "rgb(237,237,237)",
             "ticklen": 6,
             "ticks": "inside"
            },
            "colorscale": [
             [
              0,
              "rgb(20,44,66)"
             ],
             [
              1,
              "rgb(90,179,244)"
             ]
            ],
            "type": "surface"
           }
          ],
          "table": [
           {
            "cells": {
             "fill": {
              "color": "rgb(237,237,237)"
             },
             "line": {
              "color": "white"
             }
            },
            "header": {
             "fill": {
              "color": "rgb(217,217,217)"
             },
             "line": {
              "color": "white"
             }
            },
            "type": "table"
           }
          ]
         },
         "layout": {
          "annotationdefaults": {
           "arrowhead": 0,
           "arrowwidth": 1
          },
          "autotypenumbers": "strict",
          "coloraxis": {
           "colorbar": {
            "outlinewidth": 0,
            "tickcolor": "rgb(237,237,237)",
            "ticklen": 6,
            "ticks": "inside"
           }
          },
          "colorscale": {
           "sequential": [
            [
             0,
             "rgb(20,44,66)"
            ],
            [
             1,
             "rgb(90,179,244)"
            ]
           ],
           "sequentialminus": [
            [
             0,
             "rgb(20,44,66)"
            ],
            [
             1,
             "rgb(90,179,244)"
            ]
           ]
          },
          "colorway": [
           "#F8766D",
           "#A3A500",
           "#00BF7D",
           "#00B0F6",
           "#E76BF3"
          ],
          "font": {
           "color": "rgb(51,51,51)"
          },
          "geo": {
           "bgcolor": "white",
           "lakecolor": "white",
           "landcolor": "rgb(237,237,237)",
           "showlakes": true,
           "showland": true,
           "subunitcolor": "white"
          },
          "hoverlabel": {
           "align": "left"
          },
          "hovermode": "closest",
          "paper_bgcolor": "white",
          "plot_bgcolor": "rgb(237,237,237)",
          "polar": {
           "angularaxis": {
            "gridcolor": "white",
            "linecolor": "white",
            "showgrid": true,
            "tickcolor": "rgb(51,51,51)",
            "ticks": "outside"
           },
           "bgcolor": "rgb(237,237,237)",
           "radialaxis": {
            "gridcolor": "white",
            "linecolor": "white",
            "showgrid": true,
            "tickcolor": "rgb(51,51,51)",
            "ticks": "outside"
           }
          },
          "scene": {
           "xaxis": {
            "backgroundcolor": "rgb(237,237,237)",
            "gridcolor": "white",
            "gridwidth": 2,
            "linecolor": "white",
            "showbackground": true,
            "showgrid": true,
            "tickcolor": "rgb(51,51,51)",
            "ticks": "outside",
            "zerolinecolor": "white"
           },
           "yaxis": {
            "backgroundcolor": "rgb(237,237,237)",
            "gridcolor": "white",
            "gridwidth": 2,
            "linecolor": "white",
            "showbackground": true,
            "showgrid": true,
            "tickcolor": "rgb(51,51,51)",
            "ticks": "outside",
            "zerolinecolor": "white"
           },
           "zaxis": {
            "backgroundcolor": "rgb(237,237,237)",
            "gridcolor": "white",
            "gridwidth": 2,
            "linecolor": "white",
            "showbackground": true,
            "showgrid": true,
            "tickcolor": "rgb(51,51,51)",
            "ticks": "outside",
            "zerolinecolor": "white"
           }
          },
          "shapedefaults": {
           "fillcolor": "black",
           "line": {
            "width": 0
           },
           "opacity": 0.3
          },
          "ternary": {
           "aaxis": {
            "gridcolor": "white",
            "linecolor": "white",
            "showgrid": true,
            "tickcolor": "rgb(51,51,51)",
            "ticks": "outside"
           },
           "baxis": {
            "gridcolor": "white",
            "linecolor": "white",
            "showgrid": true,
            "tickcolor": "rgb(51,51,51)",
            "ticks": "outside"
           },
           "bgcolor": "rgb(237,237,237)",
           "caxis": {
            "gridcolor": "white",
            "linecolor": "white",
            "showgrid": true,
            "tickcolor": "rgb(51,51,51)",
            "ticks": "outside"
           }
          },
          "xaxis": {
           "automargin": true,
           "gridcolor": "white",
           "linecolor": "white",
           "showgrid": true,
           "tickcolor": "rgb(51,51,51)",
           "ticks": "outside",
           "title": {
            "standoff": 15
           },
           "zerolinecolor": "white"
          },
          "yaxis": {
           "automargin": true,
           "gridcolor": "white",
           "linecolor": "white",
           "showgrid": true,
           "tickcolor": "rgb(51,51,51)",
           "ticks": "outside",
           "title": {
            "standoff": 15
           },
           "zerolinecolor": "white"
          }
         }
        },
        "title": {
         "text": "Q_th: 0.98. For Exp"
        },
        "xaxis": {
         "anchor": "y",
         "domain": [
          0,
          1
         ],
         "title": {
          "text": "TF"
         }
        },
        "yaxis": {
         "anchor": "x",
         "domain": [
          0,
          1
         ],
         "title": {
          "text": "value"
         }
        }
       }
      }
     },
     "metadata": {},
     "output_type": "display_data"
    }
   ],
   "source": [
    "q_th = 0.98\n",
    "matched_exp, fig_exp, exps_th, global_stats = calculate_degree_thresholds(exp_set=exp_set, sel_tfs=sel_tfs, label=\"Exp\", q_th=q_th, verbose=False)\n",
    "fig_exp.show()"
   ]
  },
  {
   "cell_type": "markdown",
   "metadata": {},
   "source": [
    "## Check where the genes are on the DEA work\n",
    "\n",
    "For `q=75` there are 60 genes matched"
   ]
  },
  {
   "cell_type": "code",
   "execution_count": 9,
   "metadata": {},
   "outputs": [],
   "source": [
    "def plot_dea_results(f_absCa_p0, f_absCa_ud, dea_path, sel_tfs, markers_var, display_quadrant=False, th=0.05):\n",
    "\n",
    "    # It needs to be ther order of the quadrants\n",
    "    axis_order = [\"AbsCa\", \"AbsCa\", \"UD\", \"P0\"]\n",
    "    text_color = \"#003366\"\n",
    "\n",
    "    pi, pi_df = dea.plotPi(f_absCa_p0, f_absCa_ud, base_path=dea_path, known_markers=False, markers=markers_var)\n",
    "    pi, core_bladder = dea.add_box_core(pi, pi_df, subset=sel_tfs, th=0.05, display=True)\n",
    "    pi = dea_hp.toggle_legend(pi, kept_traces=markers_var.keys())\n",
    "    pi.update_layout(\n",
    "        legend=dict(\n",
    "            orientation=\"h\",\n",
    "            yanchor=\"bottom\",\n",
    "            xanchor=\"center\",\n",
    "            y=0.92,\n",
    "            x=0.3,\n",
    "            bgcolor=\"rgba(0,0,0,0)\",\n",
    "            font=dict(size=18, color=text_color),\n",
    "        ),\n",
    "        template=\"ggplot2\",\n",
    "        font_size=14,\n",
    "        xaxis=dict(tickmode=\"linear\", tick0=0, dtick=25, tickfont=dict(size=16), title_font_size=22, title_text=\"P0 vs Abs-Ca\"),\n",
    "        yaxis=dict(tickmode=\"linear\", tick0=0, dtick=25, tickfont=dict(size=16), title_font_size=22, title_text=\"Abs-Ca vs UD\"),\n",
    "        height=1000,\n",
    "        xaxis_range=[-225, 75],\n",
    "        yaxis_range=[-75, 160],\n",
    "    )\n",
    "\n",
    "    pi.add_annotation(text=\"ABS-Ca\", x=0, y=150, showarrow=False, font=dict(size=22, color=text_color))\n",
    "    pi.add_annotation(text=\"UD\", x=0, y=-70, showarrow=False, font=dict(size=22, color=text_color))\n",
    "    pi.add_annotation(text=\"P0\", x=-220, y=0, showarrow=False, font=dict(size=22, color=text_color))\n",
    "    pi.add_annotation(text=\"ABS-Ca\", x=65, y=0, showarrow=False, font=dict(size=22, color=text_color))\n",
    "\n",
    "    sel_df = pi_df[pi_df.index.isin(sel_tfs.index)]\n",
    "\n",
    "    axis_specific, quadrant_df = pd.DataFrame(), pd.DataFrame()\n",
    "    min_x, max_x = pi_df[\"x\"].min(), pi_df[\"x\"].max()\n",
    "    min_y, max_y = pi_df[\"y\"].min(), pi_df[\"y\"].max()\n",
    "    x_neg, x_pos = min_x * th, max_x * th\n",
    "    y_neg, y_pos = min_y * th, max_y * th\n",
    "\n",
    "    rectangles = [\n",
    "        dict(type=\"rect\", x1=x_pos, y1=max_y + 50, x0=x_neg, y0=0, line=dict(color=\"black\", width=1), layer=\"below\", fillcolor=\"yellow\"),\n",
    "        dict(type=\"rect\", x1=max_x + 50, y1=y_pos, x0=0, y0=y_neg, line=dict(color=\"black\", width=1), layer=\"below\"),\n",
    "        dict(type=\"rect\", x0=x_neg, y0=min_y, x1=x_pos, y1=0, line=dict(color=\"black\", width=1), layer=\"below\", fillcolor=\"blue\"),\n",
    "        dict(type=\"rect\", x0=min_x, y0=y_neg, x1=0, y1=y_pos, line=dict(color=\"black\", width=1), layer=\"below\", fillcolor=\"orange\"),\n",
    "    ]\n",
    "    quadrant = [\n",
    "        dict(type=\"rect\", x0=x_pos, y0=y_pos, x1=max_x, y1=max_y, line=dict(color=\"black\", width=1), layer=\"below\", fillcolor=\"blue\"),\n",
    "        dict(type=\"rect\", x1=max_x, y1=y_neg, x0=x_pos, y0=min_y, line=dict(color=\"black\", width=1), layer=\"below\", fillcolor=\"purple\"),\n",
    "        dict(type=\"rect\", x1=x_neg, y1=y_neg, x0=min_x, y0=min_y, line=dict(color=\"black\", width=1), layer=\"below\", fillcolor=\"red\"),\n",
    "        dict(type=\"rect\", x0=min_x, y0=y_pos, x1=x_pos, y1=max_y, line=dict(color=\"black\", width=1), layer=\"below\", fillcolor=\"magenta\"),\n",
    "    ]\n",
    "\n",
    "    for idx, rect in enumerate(rectangles):\n",
    "        pi.add_shape(**rect)\n",
    "        inside_df = dea_hp.filter_points_in_rectangle(sel_df, rect)\n",
    "        inside_df[\"label\"] = axis_order[idx]\n",
    "        axis_specific = pd.concat([axis_specific, inside_df], axis=0)\n",
    "\n",
    "    for idx, rect in enumerate(quadrant):\n",
    "        if display_quadrant:\n",
    "            pi.add_shape(**rect)\n",
    "        inside_df = dea_hp.filter_points_in_rectangle(sel_df, rect)\n",
    "        subtype = f\"{axis_order[idx]}-{axis_order[(idx+1) % (len(axis_order))]}\"\n",
    "        inside_df[\"label\"] = subtype\n",
    "        quadrant_df = pd.concat([quadrant_df, inside_df], axis=0)\n",
    "\n",
    "    pi.add_scatter(\n",
    "        x=[pi_df[\"x\"].max()],\n",
    "        y=[pi_df[\"y\"].max()],\n",
    "        marker_symbol=\"x-thin\",\n",
    "        marker_line_color=\"lightskyblue\",\n",
    "        marker_line_width=4,\n",
    "        marker_size=15,\n",
    "        mode=\"markers+text\",\n",
    "        showlegend=False,\n",
    "        text=[\"Ref point\"],\n",
    "        textposition=\"bottom center\",\n",
    "    )\n",
    "\n",
    "    pi.update_traces(marker=dict(size=14, opacity=0.6), selector=dict(mode=\"markers\"))\n",
    "    pi.show()\n",
    "\n",
    "\n",
    "f_absCa_p0 = \"sleuth_ABS-Ca_P0_v4_vulcano_labels.tsv\"\n",
    "f_ud_p0 = \"sleuth_UD_P0_v4_vulcano_labels.tsv\"\n",
    "f_absCa_ud = \"sleuth_ABS-Ca_UD_v4_vulcano_labels.tsv\"\n",
    "\n",
    "dea_path = f\"{data_base}/non_cancerous/dea/\""
   ]
  },
  {
   "cell_type": "code",
   "execution_count": 10,
   "metadata": {},
   "outputs": [],
   "source": [
    "#### Values taken frpm selectr_ctrl_tf.ipynb from the thesis experiments.,\n",
    "core_bladder = [\n",
    "    \"TGIF1\",\n",
    "    \"PLSCR1\",\n",
    "    \"AHR\",\n",
    "    \"SAFB2\",\n",
    "    \"CIC\",\n",
    "    \"MBD6\",\n",
    "    \"POGK\",\n",
    "    \"ZNF524\",\n",
    "    \"SPEN\",\n",
    "    \"IRF7\",\n",
    "    \"ELF4\",\n",
    "    \"ZNF513\",\n",
    "    \"FBXL19\",\n",
    "    \"SP110\",\n",
    "    \"TCF20\",\n",
    "    \"KMT2A\",\n",
    "    \"ZNF846\",\n",
    "    \"ZNF335\",\n",
    "    \"ZNF276\",\n",
    "    \"ZNF211\",\n",
    "    \"HIVEP2\",\n",
    "    \"DOT1L\",\n",
    "    \"MAFG\",\n",
    "    \"ELK4\",\n",
    "    \"HIVEP1\",\n",
    "    \"ZNF609\",\n",
    "    \"LCOR\",\n",
    "    \"TRERF1\",\n",
    "    \"NFAT5\",\n",
    "    \"ZBTB21\",\n",
    "]\n",
    "markers_var = {\n",
    "    \"98 TFs\": list(sel_tfs.index),\n",
    "    \"tum only\": list(sel_tfs[sel_tfs[\"Type\"] == \"Tum\"].index),\n",
    "    \"non-tum only\": list(sel_tfs[sel_tfs[\"Type\"] == \"Healthy\"].index),\n",
    "    \"both\": list(sel_tfs[sel_tfs[\"Type\"] == \"Both\"].index),\n",
    "}\n",
    "\n",
    "used_markers = {\n",
    "    **markers_var,\n",
    "    **exp_results_qth,\n",
    "}"
   ]
  },
  {
   "cell_type": "code",
   "execution_count": 11,
   "metadata": {},
   "outputs": [],
   "source": [
    "# Example usage:\n",
    "if 0:\n",
    "    plot_dea_results(f_absCa_p0, f_absCa_ud, dea_path, sel_tfs, used_markers)"
   ]
  },
  {
   "cell_type": "markdown",
   "metadata": {},
   "source": [
    "# Without matching the 98 TFs\n",
    "\n",
    "Find the genes common without the restrictions of the 98 TFs"
   ]
  },
  {
   "cell_type": "code",
   "execution_count": 15,
   "metadata": {},
   "outputs": [
    {
     "name": "stdout",
     "output_type": "stream",
     "text": [
      "### Q 0.9. Matched genes across controls 62\n",
      "### Overall matched (ctrls & exps) 62\n"
     ]
    }
   ],
   "source": [
    "results_qth = {}\n",
    "q_th = 0.9\n",
    "matched_exp, fig_exp, meta_info, global_stats = calculate_degree_thresholds(exp_set=exp_set, sel_tfs=pd.DataFrame(), label=\"Exp\", q_th=q_th, verbose=False)\n",
    "\n",
    "common_ctrls = set()\n",
    "all_ctrls = pd.DataFrame()\n",
    "for key, value in exp_ctrls.items():\n",
    "    label = key.split(\"h\")[-1]\n",
    "    matched_ctrl, fig_ctrl, meta_info, global_stats = calculate_degree_thresholds(exp_set=value, sel_tfs=sel_tfs, label=label, q_th=q_th, verbose=False)\n",
    "\n",
    "    common_ctrls.update(matched_ctrl)\n",
    "    meta_info[\"Quantile\"] = q_th\n",
    "    all_ctrls = pd.concat([all_ctrls, meta_info], axis=0)\n",
    "\n",
    "print(f\"### Q {q_th}. Matched genes across controls {len(common_ctrls)}\")\n",
    "\n",
    "matched_overall = set(matched_exp) & set(common_ctrls)\n",
    "results_qth[q_th] = list(matched_overall)\n",
    "print(f\"### Overall matched (ctrls & exps) {len(matched_overall)}\")"
   ]
  },
  {
   "cell_type": "code",
   "execution_count": 16,
   "metadata": {},
   "outputs": [
    {
     "data": {
      "text/plain": [
       "62"
      ]
     },
     "execution_count": 16,
     "metadata": {},
     "output_type": "execute_result"
    }
   ],
   "source": [
    "# tpm_sel = tum_tpms_v4.loc[list(matched_overall)]\n",
    "len(set(tf_list) & set(matched_overall))"
   ]
  },
  {
   "cell_type": "markdown",
   "metadata": {},
   "source": [
    "# Clustering the 98 TF expression\n",
    "\n",
    "So far we have found that the 98 TFs can be selected by putting a threshold on the degree, but we don't know if we can only use the gene expression."
   ]
  },
  {
   "cell_type": "code",
   "execution_count": 14,
   "metadata": {},
   "outputs": [
    {
     "name": "stdout",
     "output_type": "stream",
     "text": [
      "### Num outliers for standard log2 14.\n",
      " --> ['TCGA-C4-A0EZ', 'TCGA-DK-AA6W', 'TCGA-G2-A2EL', 'TCGA-BL-A3JM', 'TCGA-XF-A9T2', 'TCGA-XF-AAMH', 'TCGA-XF-A9ST', 'TCGA-GC-A4ZW', 'TCGA-HQ-A2OF', 'TCGA-DK-AA6T', 'TCGA-BT-A2LA', 'TCGA-XF-AAN7', 'TCGA-FJ-A871', 'TCGA-CF-A3MF']\n",
      "### Num outliers for norm log2 12.\n",
      " --> ['TCGA-2F-A9KW', 'TCGA-XF-A9ST', 'TCGA-BL-A3JM', 'TCGA-XF-A9T2', 'TCGA-XF-AAMH', 'TCGA-DK-AA6T', 'TCGA-BT-A2LA', 'TCGA-XF-AAN7', 'TCGA-FJ-A871', 'TCGA-C4-A0EZ', 'TCGA-DK-AA6W', 'TCGA-G2-A2EL']\n",
      "### Common outliers *11*.\n",
      " --> {'TCGA-XF-AAN7', 'TCGA-BT-A2LA', 'TCGA-FJ-A871', 'TCGA-DK-AA6T', 'TCGA-XF-A9ST', 'TCGA-DK-AA6W', 'TCGA-G2-A2EL', 'TCGA-XF-AAMH', 'TCGA-BL-A3JM', 'TCGA-C4-A0EZ', 'TCGA-XF-A9T2'}\n"
     ]
    }
   ],
   "source": [
    "outliers_log2 = [\n",
    "    \"TCGA-C4-A0EZ\",\n",
    "    \"TCGA-DK-AA6W\",\n",
    "    \"TCGA-G2-A2EL\",\n",
    "    \"TCGA-BL-A3JM\",\n",
    "    \"TCGA-XF-A9T2\",\n",
    "    \"TCGA-XF-AAMH\",\n",
    "    \"TCGA-XF-A9ST\",\n",
    "    \"TCGA-GC-A4ZW\",\n",
    "    \"TCGA-HQ-A2OF\",\n",
    "    \"TCGA-DK-AA6T\",\n",
    "    \"TCGA-BT-A2LA\",\n",
    "    \"TCGA-XF-AAN7\",\n",
    "    \"TCGA-FJ-A871\",\n",
    "    \"TCGA-CF-A3MF\",\n",
    "]\n",
    "\n",
    "norm_outliers = [\n",
    "    \"TCGA-2F-A9KW\",\n",
    "    \"TCGA-XF-A9ST\",\n",
    "    \"TCGA-BL-A3JM\",\n",
    "    \"TCGA-XF-A9T2\",\n",
    "    \"TCGA-XF-AAMH\",\n",
    "    \"TCGA-DK-AA6T\",\n",
    "    \"TCGA-BT-A2LA\",\n",
    "    \"TCGA-XF-AAN7\",\n",
    "    \"TCGA-FJ-A871\",\n",
    "    \"TCGA-C4-A0EZ\",\n",
    "    \"TCGA-DK-AA6W\",\n",
    "    \"TCGA-G2-A2EL\",\n",
    "]\n",
    "\n",
    "cmn_outliars = set(outliers_log2) & set(norm_outliers)\n",
    "\n",
    "print(f\"### Num outliers for standard log2 {len(outliers_log2)}.\\n --> {outliers_log2}\")\n",
    "print(f\"### Num outliers for norm log2 {len(norm_outliers)}.\\n --> {norm_outliers}\")\n",
    "print(f\"### Common outliers *{len(cmn_outliars)}*.\\n --> {cmn_outliars}\")"
   ]
  },
  {
   "cell_type": "code",
   "execution_count": 15,
   "metadata": {},
   "outputs": [],
   "source": [
    "dmy_df = tum_tpms_v4.loc[sel_tfs.index].copy(deep=True)\n",
    "dmy_df = np.log2(dmy_df + 1)\n",
    "\n",
    "dmy_df = dmy_df[list(set(dmy_df.columns) - set(cmn_outliars))]\n",
    "\n",
    "sel_metadata = [\n",
    "    \"KMeans_labels_6\",\n",
    "    \"consensus\",\n",
    "    \"TCGA408_classifier\",\n",
    "    \"Lund2017.subtype\",\n",
    "    \"ESTIMATE_score\",\n",
    "    \"Immune_score\",\n",
    "    \"Stromal_score\",\n",
    "    \"tumor_stage\",\n",
    "    \"Net_I\",\n",
    "]\n",
    "dmy_df = pd.concat([vu_output[sel_metadata].T, dmy_df], axis=0).dropna(axis=1)\n",
    "\n",
    "\n",
    "dmy_df.to_csv(f\"{figures_path}/log2_sel_tfs_exp_v1.1.tsv\", sep=\"\\t\")"
   ]
  }
 ],
 "metadata": {
  "kernelspec": {
   "display_name": "iNet_gt",
   "language": "python",
   "name": "python3"
  },
  "language_info": {
   "codemirror_mode": {
    "name": "ipython",
    "version": 3
   },
   "file_extension": ".py",
   "mimetype": "text/x-python",
   "name": "python",
   "nbconvert_exporter": "python",
   "pygments_lexer": "ipython3",
   "version": "3.11.8"
  }
 },
 "nbformat": 4,
 "nbformat_minor": 2
}
