{
 "cells": [
  {
   "cell_type": "markdown",
   "metadata": {},
   "source": [
    "# Motivation\n",
    "\n",
    "The purpose of this notebook is to introduce a simpler method but with the same results or similar to extract the 98 TFs"
   ]
  },
  {
   "cell_type": "code",
   "execution_count": 2,
   "metadata": {},
   "outputs": [
    {
     "name": "stdout",
     "output_type": "stream",
     "text": [
      "The autoreload extension is already loaded. To reload it, use:\n",
      "  %reload_ext autoreload\n"
     ]
    }
   ],
   "source": [
    "%load_ext autoreload\n",
    "import warnings\n",
    "warnings.simplefilter(action='ignore', category=FutureWarning)\n",
    "import pandas as pd\n",
    "import numpy as np\n",
    "import os\n",
    "import sys\n",
    "\n",
    "import plotly.express as px\n",
    "import plotly.io as pio\n",
    "import plotly.graph_objects as go\n",
    "import matplotlib.pyplot as plt\n",
    "\n",
    "import multiprocess as mp\n",
    "\n",
    "\n",
    "# own libraries\n",
    "sys.path.append('/Users/vlad/Documents/Code/York/iNet_v2/src/')\n",
    "\n",
    "from NetworkAnalysis.ExperimentSet import ExperimentSet\n",
    "from NetworkAnalysis import GraphHelper as gh\n",
    "from NetworkAnalysis.utilities import clustering as cs\n",
    "from NetworkAnalysis.utilities import sankey_consensus_plot as sky\n",
    "from NetworkAnalysis.utilities.helpers import save_fig, survival_plot\n",
    "from NetworkAnalysis.GraphToolExp import GraphToolExperiment as GtExp\n",
    "from NetworkAnalysis.dea import dea\n",
    "from NetworkAnalysis.dea import helpers as dea_hp\n",
    "from NetworkAnalysis.dea import gsea as gsea_hp\n",
    "sys.path.append(os.path.dirname(\"../../src\"))\n",
    "# Gsea libraries\n",
    "\n",
    "pio.templates.default = \"ggplot2\"\n",
    "\n",
    "pool = mp.Pool(mp.cpu_count())"
   ]
  },
  {
   "cell_type": "code",
   "execution_count": 3,
   "metadata": {},
   "outputs": [],
   "source": [
    "results_path = \"../../results/exp/\"\n",
    "data_base = \"../../data/\"\n",
    "base_path = \"../../results/\"\n",
    "exp_folder_tumour = \"network_I/tum/\"  # \"/integration_v2.1/ - path from iNET\n",
    "\n",
    "\n",
    "# Experiments set\n",
    "exp_folder_h42 = \"network_I/healthy42/\"\n",
    "exp_folder_h42_ctrl = \"network_I/healthyControls/\"\n",
    "\n",
    "\n",
    "figures_path = \"./sel_pruning_v2/\"\n",
    "\n",
    "vu_output = pd.read_csv(f\"{data_base}/metadata/VU_clustering_v3.tsv\", sep=\"\\t\", index_col=\"Sample\")\n",
    "\n",
    "tcga_mutations_df = pd.read_csv(f\"{data_base}/tumour/mutations_tcga.csv\")\n",
    "tcga_mutations_df = tcga_mutations_df[tcga_mutations_df[\"count\"] != 0].set_index(\"gene\")\n",
    "\n",
    "tum_tpms = pd.read_csv(f\"{data_base}/tumour/TPMs_selected_genes_v3_13k_gc42.tsv\", sep=\"\\t\", index_col=\"genes\")\n",
    "tum_tpms_v4 = pd.read_csv(f\"{data_base}/tumour/tum_TPMs_selected_genes_gc42_all_v4.tsv\", sep=\"\\t\", index_col=\"genes\")\n",
    "\n",
    "# Healthy and metadata\n",
    "healthy_metadata = pd.read_csv(f\"{data_base}/non_cancerous/healthy_bladder_metadata.tsv\", sep=\"\\t\", index_col=\"Sample\").drop(index=[\"Y2796_P0\"])\n",
    "healthy_metadata[\"sample_prcsd\"] = healthy_metadata.index.str.replace(\"-\", \"_\")\n",
    "\n",
    "healthy_tpm = pd.read_csv(f\"{data_base}/non_cancerous/healthy_data_all_gc42_v4.tsv\", sep=\"\\t\", index_col=\"gene\")\n",
    "remap_col = {}\n",
    "for col in healthy_tpm.columns:\n",
    "    remap_col[col] = col.replace(\"-\", \"_\")\n",
    "healthy_tpm = healthy_tpm.rename(columns=remap_col)\n",
    "\n",
    "# tf list\n",
    "tf_path = f\"{data_base}/metadata/TF_names_v_1.01.txt\"\n",
    "if os.path.exists(tf_path):\n",
    "    tf_list = np.genfromtxt(fname=tf_path, delimiter=\"\\t\", skip_header=1, dtype=\"str\")"
   ]
  },
  {
   "cell_type": "code",
   "execution_count": 4,
   "metadata": {},
   "outputs": [],
   "source": [
    "# Base-line, this is the results from previous work\n",
    "sel_tfs = pd.read_csv(f\"{data_base}/tf_ctrl.csv\", index_col=\"gene\")\n",
    "sel_tfs[\"tum_mean_expression\"] = tum_tpms_v4.loc[sel_tfs.index].mean(axis=1)\n",
    "sel_tfs[\"tum_median_expression\"] = tum_tpms_v4.loc[sel_tfs.index].median(axis=1)\n",
    "sel_tfs[\"tum_std_expression\"] = tum_tpms_v4.loc[sel_tfs.index].std(axis=1)\n",
    "sel_tfs[\"tum_var_expression\"] = tum_tpms_v4.loc[sel_tfs.index].var(axis=1)"
   ]
  },
  {
   "cell_type": "markdown",
   "metadata": {},
   "source": [
    "## Import the data\n",
    "\n",
    "## Experiment sets"
   ]
  },
  {
   "cell_type": "code",
   "execution_count": 64,
   "metadata": {},
   "outputs": [],
   "source": [
    "def load_experiment_set(base_path, exp_folder_path):\n",
    "    exp_path = f\"{base_path}/{exp_folder_path}/Stats/\"\n",
    "    meta_files = next(os.walk(exp_path), (None, None, []))[2]\n",
    "    # keep only the network stats\n",
    "    files = [file for file in meta_files if \"networkStats\" in file]\n",
    "    exp_set = {}\n",
    "    for file in files:\n",
    "        exp = file.replace(\".tsv\", \"\").replace(\"networkStats_standard_int_\", \"\")\n",
    "        exp_set[exp] = pd.read_csv(f\"{exp_path}/{file}\", index_col=\"gene\", sep=\"\\t\")\n",
    "    return exp_set"
   ]
  },
  {
   "cell_type": "code",
   "execution_count": 65,
   "metadata": {},
   "outputs": [],
   "source": [
    "folders = next(os.walk(base_path + exp_folder_h42_ctrl), (None, None, []))[1]\n",
    "exp_ctrl = {}\n",
    "for folder in folders:\n",
    "    hCtrl_path = f\"/{exp_folder_h42_ctrl}/{folder}/\"\n",
    "    meta_files = next(os.walk(hCtrl_path), (None, None, []))[2]\n",
    "    # keep only the network stats\n",
    "    files = [file for file in meta_files if \"networkStats\" in file]\n",
    "    exp_ctrl[folder] = load_experiment_set(base_path, hCtrl_path)\n",
    "\n",
    "exp_set = load_experiment_set(base_path, exp_folder_h42)"
   ]
  },
  {
   "cell_type": "markdown",
   "metadata": {},
   "source": [
    "## Network stats\n",
    "\n",
    "Information calculated in the selective edge pruning"
   ]
  },
  {
   "cell_type": "code",
   "execution_count": null,
   "metadata": {},
   "outputs": [],
   "source": []
  }
 ],
 "metadata": {
  "kernelspec": {
   "display_name": "iNet_gt",
   "language": "python",
   "name": "python3"
  },
  "language_info": {
   "codemirror_mode": {
    "name": "ipython",
    "version": 3
   },
   "file_extension": ".py",
   "mimetype": "text/x-python",
   "name": "python",
   "nbconvert_exporter": "python",
   "pygments_lexer": "ipython3",
   "version": "3.11.8"
  }
 },
 "nbformat": 4,
 "nbformat_minor": 2
}
