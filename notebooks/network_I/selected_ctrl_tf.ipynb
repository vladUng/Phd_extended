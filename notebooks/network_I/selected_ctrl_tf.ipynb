{
 "cells": [
  {
   "cell_type": "markdown",
   "metadata": {},
   "source": [
    "# Motivation\n",
    "\n",
    "The role of this notebook is to explore the biological significance of the selected tf"
   ]
  },
  {
   "cell_type": "code",
   "execution_count": 2,
   "metadata": {},
   "outputs": [
    {
     "name": "stdout",
     "output_type": "stream",
     "text": [
      "The autoreload extension is already loaded. To reload it, use:\n",
      "  %reload_ext autoreload\n"
     ]
    }
   ],
   "source": [
    "%load_ext autoreload\n",
    "import pandas as pd\n",
    "import numpy as np\n",
    "import os\n",
    "import sys\n",
    "import igraph as ig\n",
    "\n",
    "import plotly.express as px\n",
    "\n",
    "\n",
    "import multiprocess as mp\n",
    "\n",
    "\n",
    "# own libraries\n",
    "SCRIPT_DIR = os.path.dirname(os.path.abspath(\"pcgna_processing.py\"))\n",
    "sys.path.append(os.path.dirname(SCRIPT_DIR))\n",
    "sys.path.append('/Users/vlad/Documents/Code/York/iNet_v2/src/')\n",
    "\n",
    "from NetworkAnalysis.ExperimentSet import ExperimentSet\n",
    "from NetworkAnalysis import GraphHelper as gh\n",
    "from NetworkAnalysis.utilities import clustering as cs\n",
    "from NetworkAnalysis.utilities import sankey_consensus_plot as sky\n",
    "from NetworkAnalysis.utilities.helpers import save_fig, survival_plot, survival_comp\n",
    "from NetworkAnalysis.GraphToolExp import GraphToolExperiment as GtExp\n",
    "sys.path.append(os.path.dirname(\"../../src\"))\n",
    "# Gsea libraries\n",
    "\n",
    "pool = mp.Pool(mp.cpu_count())"
   ]
  },
  {
   "cell_type": "code",
   "execution_count": 3,
   "metadata": {},
   "outputs": [],
   "source": [
    "results_path = \"../../results/exp/\"\n",
    "data_base = \"../../data/\"\n",
    "base_path = \"../../results/\"\n",
    "exp_folder_tumour = \"network_I/tum/\" # \"/integration_v2.1/ - path from iNET\n",
    "exp_folder_h42 = \"network_I/healthy42/\"\n",
    "exp_folder_h42_ctrl = \"network_I/healthyControls/\"\n",
    "\n",
    "figures_path = \"selective_edge_pruning/\"\n",
    "\n",
    "vu_output = pd.read_csv(f\"{data_base}/metadata/VU_clustering_v3.tsv\", sep=\"\\t\", index_col=\"Sample\")\n",
    "\n",
    "tcga_mutations_df = pd.read_csv(f\"{data_base}/tumour/mutations_tcga.csv\")\n",
    "tcga_mutations_df = tcga_mutations_df[tcga_mutations_df[\"count\"] != 0].set_index(\"gene\")\n",
    "\n",
    "tum_tpms = pd.read_csv(f\"{data_base}/tumour/TPMs_selected_genes_v3_13k_gc42.tsv\", sep=\"\\t\", index_col=\"genes\")\n",
    "tum_tpms_v4 = pd.read_csv(f\"{data_base}/tumour/tum_TPMs_selected_genes_gc42_all_v4.tsv\", sep=\"\\t\", index_col=\"genes\")\n",
    "\n",
    "# tf list\n",
    "tf_path = f\"{data_base}/metadata/TF_names_v_1.01.txt\"\n",
    "if os.path.exists(tf_path):\n",
    "    tf_list = np.genfromtxt(fname=tf_path, delimiter=\"\\t\", skip_header=1, dtype=\"str\")"
   ]
  },
  {
   "cell_type": "markdown",
   "metadata": {},
   "source": [
    "# Analysis"
   ]
  },
  {
   "cell_type": "markdown",
   "metadata": {},
   "source": [
    "## Gene expression visualisation"
   ]
  },
  {
   "cell_type": "code",
   "execution_count": 4,
   "metadata": {},
   "outputs": [],
   "source": [
    "sel_tfs = pd.read_csv(f'{data_base}/tf_ctrl.csv', index_col='gene')"
   ]
  },
  {
   "cell_type": "code",
   "execution_count": 5,
   "metadata": {},
   "outputs": [
    {
     "name": "stderr",
     "output_type": "stream",
     "text": [
      "/var/folders/wd/10ylrkx55m78njljcl21yt2c0000gn/T/ipykernel_22695/1516117249.py:40: RuntimeWarning:\n",
      "\n",
      "invalid value encountered in log10\n",
      "\n"
     ]
    }
   ],
   "source": [
    "# sel_tfs = sel_tfs[~sel_tfs.index.isin([\"ELF3\", \"JUNB\"])]\n",
    "fig = px.scatter(\n",
    "    sel_tfs.reset_index(),\n",
    "    x=\"tum_mean_expression\",\n",
    "    y=\"healthy_mean_expression\",\n",
    "    # error_x=\"tum_std_expression\",\n",
    "    # error_y=\"healthy_std_expression\",\n",
    "    # text=\"gene\",\n",
    "    color=\"mut_count\",\n",
    "    size=\"mut_count\",\n",
    "    hover_data=\"gene\",\n",
    "    height=700,\n",
    "    log_x=True,\n",
    "    log_y=True,\n",
    "\n",
    ")\n",
    "# Get the top 10 genes with highest healthy median expression\n",
    "top_genes_h = sel_tfs.nlargest(10, \"healthy_median_expression\").index.tolist()\n",
    "top_genes_t = sel_tfs.nlargest(10, \"tum_median_expression\").index.tolist()\n",
    "top_genes_m = sel_tfs.nlargest(10, \"mut_count\").index.tolist()\n",
    "\n",
    "top_genes = list(set(top_genes_h + top_genes_t + top_genes_m))\n",
    "top_genes.extend([\"FOSL1\", \"FOXQ1\", \"ERF\", \"MYCL\", \"STAT2\", \"IRF7\", \"CIC\", \"MBD6\", \"ZNF750\", \"ZNF513\"])\n",
    "chg_genes = [\"KMT2A\", \"SPEN\", \"MEDCOM\", \"ERF\", \"AHR\", \"STAT2\", \"MBD6\", \"ZNF513\", \"TRERF1\"]\n",
    "# Add text annotation for the top 10 genes\n",
    "for idx, gene in enumerate(top_genes):\n",
    "    x = sel_tfs.loc[sel_tfs.index == gene, \"tum_mean_expression\"].values[0]\n",
    "    y = sel_tfs.loc[sel_tfs.index == gene, \"healthy_mean_expression\"].values[0]\n",
    "    ay = -30\n",
    "    if idx % 2:\n",
    "        ax = 5\n",
    "    else:\n",
    "        ax = -5\n",
    "\n",
    "    if gene in chg_genes:\n",
    "        ax = -ax\n",
    "        ay = -ay\n",
    "\n",
    "    if True:\n",
    "        x, y, ax, ay = np.log10(x), np.log10(y), np.log10(ax), np.log10(ay)\n",
    "\n",
    "    fig.add_annotation(x=x, y=y, text=gene, showarrow=True, arrowhead=1, ax=ax, ay=ay)\n",
    "\n",
    "# fig"
   ]
  },
  {
   "cell_type": "markdown",
   "metadata": {},
   "source": [
    "## Comparing with known markers"
   ]
  },
  {
   "cell_type": "code",
   "execution_count": 6,
   "metadata": {},
   "outputs": [],
   "source": [
    "luminal_markers = [\"KRT20\", \"PPARG\", \"FOXA1\", \"GATA3\", \"SNX31\", \"UPK1A\", \"UPK2\", \"FGFR3\"]\n",
    "basal_markers = [\"CD44\", \"KRT6A\", \"KRT5\", \"KRT14\", \"COL17A1\"]\n",
    "squamos_markers = [\"DSC3\", \"GSDMC\", \"TCGM1\", \"PI3\", \"TP63\"]\n",
    "immune_markers = [\"CD274\", \"PDCD1LG2\", \"IDO1\", \"CXCL11\", \"L1CAM\", \"SAA1\"]\n",
    "neural_diff = [\"MSI1\", \"PLEKHG4B\", \"GNG4\", \"PEG10\", \"RND2\", \"APLP1\", \"SOX2\", \"TUBB2B\"]\n",
    "\n",
    "# TCGA markers - main paper\n",
    "emt_claudin = [\"ZEB1\", \"ZEB2\", \"SNAI1\", \"TWIST1\", \"CDH2\", \"CLDN3\", \"CLDN4\", \"CLDN7\"]\n",
    "ecm_muscle = [\"PGM5\", \"DES\", \"C7\", \"SFRP4\", \"COMP\", \"SGCD\"]\n",
    "\n",
    "tcga_markers = luminal_markers + basal_markers + squamos_markers + immune_markers + neural_diff + emt_claudin + ecm_muscle"
   ]
  },
  {
   "cell_type": "code",
   "execution_count": 7,
   "metadata": {},
   "outputs": [
    {
     "data": {
      "text/plain": [
       "{'TP63'}"
      ]
     },
     "execution_count": 7,
     "metadata": {},
     "output_type": "execute_result"
    }
   ],
   "source": [
    "set(sel_tfs.index) & set(tcga_markers)"
   ]
  },
  {
   "cell_type": "markdown",
   "metadata": {},
   "source": [
    "### Urothelium type markers"
   ]
  },
  {
   "cell_type": "code",
   "execution_count": 8,
   "metadata": {},
   "outputs": [],
   "source": [
    "tf_diff = [\"P63\", \"FOXA1\",\"PPARG\", \"RARG\", \"IRF1\", \"ELF3\", \"GRHL3\", \"KLF5\", \"GATA4\", \"GATA6\", \"GATA3\"]\n",
    "krt = [\"KRT13\", \"KRT14\", \"KRT15\", \"KRT20\"]\n",
    "upk = [\"UPK1B\", \"UPK1A\", \"UPK3A\", \"UPK2\"]\n",
    "cld = [\"CLDN3\", \"CLDN4\", \"CLDN5\" ]\n",
    "\n",
    "egfr_fam = [\"EGFR\", \"ERBB2\", \"ERBB3\", \"ERBB4\", \"EGF\", \"AREG\", \"HBEGF\",\"TGFA\",\"BTC\", \"EREG\"]\n",
    "fgfr_fam = [\"FGFR1\", \"FGFR2\", \"FGFR3\", \"FGF1\", \"FGF2\"]\n",
    "map_kpathway = [\"RAS\", \"RAF\", \"MEK1\", \"MEK2\", \"MEK3\", \"MEK4\",\"ERK\"]\n",
    "pi3_kpathway = [\"PIK3C3\", \"PIK3R2\", \"PIK3C2B\", \"AKT1\", \"AKT2\"]\n",
    "others = [\"MKI67\", \"MCM2\", \"UPK3A\", \"ZO1\", \"TJP1\", \"ZO2\", \"TJP2\", \"ZO3\", \"TJP3\"]\n",
    "hox_ur = [\"HOXB2\", \"HOXB3\", \"HOXB5\", \"HOXB6\", \"HOXB8\"]\n",
    "hox_bla = [\"HOXA9\", \"HOXA10\", \"HOXA11\", \"HOXA13\"]\n",
    "\n",
    "diff_markers = tf_diff + cld + krt + upk\n",
    "\n",
    "uro_markers = diff_markers + egfr_fam + fgfr_fam + map_kpathway + pi3_kpathway + others + hox_ur + hox_bla"
   ]
  },
  {
   "cell_type": "code",
   "execution_count": 9,
   "metadata": {},
   "outputs": [
    {
     "data": {
      "text/plain": [
       "{'ELF3', 'GRHL3', 'HOXB6', 'KLF5'}"
      ]
     },
     "execution_count": 9,
     "metadata": {},
     "output_type": "execute_result"
    }
   ],
   "source": [
    "set(sel_tfs.index) & set(uro_markers)"
   ]
  },
  {
   "cell_type": "markdown",
   "metadata": {},
   "source": [
    "### Lund type markers"
   ]
  },
  {
   "cell_type": "code",
   "execution_count": 10,
   "metadata": {},
   "outputs": [],
   "source": [
    "lund_qtc1 = [\"FLI1\", \"FOXP3\", \"ILKZF1\", \"IRF4\", \"IRF8\", \"RUNX3\", \"SCML4\", \"SPI1\", \"STAT4\", \"TBX21\", \"TFEC\"]\n",
    "lund_qtc2 = [\"AEBP1\", \"BNC2\", \"GLI2\", \"GLIS1\", \"HIC1\", \"MSC\", \"PPRX1\", \"PPRX2\", \"TGFB1I1\", \"TWIST1\"]\n",
    "lund_qtc3 = [\"EBF1\", \"HEYL\", \"LEF1\", \"MEF2C\", \"TCF4\", \"ZEB1\", \"ZEB2\"]\n",
    "lund_qtc8 = [\"GATA5\", \"HAND1\", \"HAND2\", \"KLF16\"]\n",
    "lund_qtc17 = [\"ARID5A\", \"BATF3\", \"VENTX\"]\n",
    "lund_ba_mes = lund_qtc1 + lund_qtc2 + lund_qtc3 + lund_qtc8 + lund_qtc17\n",
    "\n",
    "lund_ba_sq = [\"BRIP1\", \"E2F7\", \"FOXM1\", \"ZNF367\", \"IRF1\", \"SP110\", \"STAT1\"]\n",
    "lund_mes = [\"TP53\", \"RB1\", \"FGFR3\", \"ANKHD1\", \"VIM\", \"ZEB2\"]\n",
    "ba_sq_inf = [\"CDH3\", \"EGFR\"]\n",
    "\n",
    "lund_sc_ne = [\"CHGA\", \"SYP\", \"ENO2\", \"EPCAM\"] #Highly expressed\n",
    "\n",
    "lund_markers = lund_ba_mes + lund_ba_sq + lund_mes + ba_sq_inf + lund_sc_ne"
   ]
  },
  {
   "cell_type": "code",
   "execution_count": 11,
   "metadata": {},
   "outputs": [
    {
     "data": {
      "text/plain": [
       "{'KLF16', 'SP110', 'STAT1'}"
      ]
     },
     "execution_count": 11,
     "metadata": {},
     "output_type": "execute_result"
    }
   ],
   "source": [
    "set(sel_tfs.index) & set(lund_markers)"
   ]
  },
  {
   "cell_type": "markdown",
   "metadata": {},
   "source": [
    "### Immune markers"
   ]
  },
  {
   "cell_type": "code",
   "execution_count": 12,
   "metadata": {},
   "outputs": [],
   "source": [
    "b_cells = [\"BCL2\", \"BCL6\", \"CD19\", \"CD1D\", \"CD22\", \"CD24\", \"CD27\", \"CD274\",\"CD34\", \"CD38\", \"CD40\",\"CD44\",\"CD5\",\"CD53\",\"CD69\",\"CD72\", \"CD79A\", \"CD79B\", \"CD80\", \"CD86\", \"CD93\", \"CR2\", \"CXCR4\", 'CXCR5',\"FAS\",\"FCER2\", \"FCRL4\" \"HAVCR1\",\"IL10\", 'IL2RA','IL7R','IRF4','ITGAX', 'LILRB1','MME','MS4A1','NT5E','PDCD1LG2','PRDM1','PTPRC','SDC1','SPN','TFRC','TLR9','TNFRSF13B','TNFRSF13C','TNFRSF17','XBP1']\n",
    "t_cells = ['CD4', 'CD8', 'CCR4', 'CCR5', 'CCR6', 'CCR7', 'CCR10', 'CD127', 'CD27', 'CD28', 'CD38', 'CD58', 'CD69', 'CTLA4', 'CXCR3', 'FAS', 'IL2RA',\n",
    "        'IL2RB', 'ITGAE', 'ITGAL', 'KLRB1', 'NCAM1', 'PECAM1', 'PTGDR2', 'SELL', 'IFNG', 'IL10', 'IL13', 'IL17A', 'IL2', 'IL21','IL22', 'IL25', 'IL26', 'IL4', 'IL5', 'IL9', 'TGFB1', 'TNF', 'AHR', 'EOMES','FOXO4', 'FOXP1', 'FOXP3', 'GATA3','IRF4', 'LEF1', 'PRDM1', 'RORC','STAT4', 'TBX21','TCF7', 'GZMA']\n",
    "\n",
    "nk_cells = ['B3GAT1','CCR7','CD16','CD2','CD226','CD244','CD27','CD300A','CD34','CD58','CD59','CD69','CSF2','CX3CR1','CXCR1','CXCR3','CXCR4','EOMES','GZMB','ICAM1','IFNG','IL1R1','IL22','IL2RB','IL7R','ITGA1','Itga2','ITGAL','ITGAM','ITGB2','KIR2DL1','KIR2DL2','KIT','Klrb1c','KLRC1','KLRC2','KLRD1','KLRF1','KLRG1','KLRK1','LILRB1','Klra4','Klra8','NCAM1','NCR1','NCR2','NCR3','PRF1','SELL','SIGLEC7','SLAMF6','SPN','TBX21','TNF']\n",
    "\n",
    "macrophages_cells = [ 'ADGRE1','CCR2','CD14','CD68','CSF1R','Ly6c1','MARCO','MRC1','NOS2','PPARG','SIGLEC1','TLR2','ARG1','CD163','CD200R1','CD80','CD86','CLEC10A','CLEC7A','CSF2','CX3CR1','FCGR1A','ITGAM','MERTK','PDCD1LG2','Retnla','TNF','CCL22','CD36','CD40','IL10','IL1B','IL6','LGALS3','TLR4','CCL2','CCR5','CD209','CD63','CD86','CSF1','CXCL2','FCGR3A','IFNG','IL4','IRF4','ITGAX','MSR1','PDGFB','PTPRC','STAT6','TIMD4','Chil3','CLEC6A','IL1R1','ITGB2','PDCD1LG2','TLR7']\n",
    "\n",
    "monocyte_cells = ['CD14','CD16','CSF1R','CX3CR1','ITGAM','ITGAX','LY6C1','CCR2','CXCR4','FCGR1A','SELL','SPN','ADGRE1','CCR7','TNF','CD86','IL10','IL1B','MERTK','TREML4','CD209','NR4A1','Ly6a','PTPRC','IL3RA','CD27','CCR5','CD32','CD1A','MRC1','ITGB3','CD9','CXCR6','CCR1','FLT3','KLF2','CLEC12A','CCR6','CCR8','CD68','CLEC7A','KIT','MAF','MAFB','SPI1','CD1C','PPARG','CEBPB','ITGAE','TEK']\n",
    "\n",
    "\n",
    "immune_markers = b_cells + t_cells + nk_cells + macrophages_cells + monocyte_cells"
   ]
  },
  {
   "cell_type": "code",
   "execution_count": 13,
   "metadata": {},
   "outputs": [
    {
     "data": {
      "text/plain": [
       "{'AHR', 'BCL6'}"
      ]
     },
     "execution_count": 13,
     "metadata": {},
     "output_type": "execute_result"
    }
   ],
   "source": [
    "set(sel_tfs.index) & set(immune_markers)"
   ]
  },
  {
   "cell_type": "markdown",
   "metadata": {},
   "source": [
    "## Apply clustering"
   ]
  },
  {
   "cell_type": "code",
   "execution_count": 14,
   "metadata": {},
   "outputs": [
    {
     "name": "stdout",
     "output_type": "stream",
     "text": [
      "Sum of 90% variance at PC: 15\n",
      "Change < 1% at PC: 5\n"
     ]
    }
   ],
   "source": [
    "plot_data = tum_tpms_v4.loc[sel_tfs.index]\n",
    "plot_data = np.log2(plot_data + 1)\n",
    "\n",
    "gh.find_pcs((plot_data))"
   ]
  },
  {
   "cell_type": "code",
   "execution_count": 15,
   "metadata": {},
   "outputs": [
    {
     "name": "stdout",
     "output_type": "stream",
     "text": [
      "Variation per principal component [0.63955238 0.09883797] and the sum 73.84%\n"
     ]
    }
   ],
   "source": [
    "selected_clusters = [\"Birch\", \"RawKMeans\", \"GaussianMixture\", \"Ward\", \"SpectralClustering\", \"Avg\"]\n",
    "\n",
    "# run experiments\n",
    "outputs, _, all_metrics, _ = cs.compare_exp(\n",
    "    plot_data, rob_comp=None, n_clusters=None, selected_clusters=selected_clusters, show_figures=False, show_consensus=True, pca_data=False, n_comp=15,\n",
    ")\n",
    "outputs.set_index(\"Sample\", inplace=True)\n",
    "\n",
    "show_figs=False\n",
    "if show_figs:\n",
    "    # Plot the metrics\n",
    "    fig = cs.display_metrics(all_metrics, f\"Cluster metrics for Selected TF\", show_individual=False, verbose=True)\n",
    "    gh.plot_individual_metric(all_metrics, pca=False, offset_db=4)"
   ]
  },
  {
   "cell_type": "markdown",
   "metadata": {},
   "source": [
    "# Morpheus\n",
    "\n",
    "## Prepare for Morpheus\n",
    "Outliers for standard log2 TPMS and norm of log, after applying agglomerative clustering with 1-pearson correlation.\n",
    "\n",
    "```Python\n",
    "outliers_log2 = ['TCGA-C4-A0EZ', 'TCGA-DK-AA6W', 'TCGA-G2-A2EL', 'TCGA-BL-A3JM', 'TCGA-XF-A9T2', 'TCGA-XF-AAMH', 'TCGA-XF-A9ST', 'TCGA-GC-A4ZW', 'TCGA-HQ-A2OF', 'TCGA-DK-AA6T', 'TCGA-BT-A2LA', 'TCGA-XF-AAN7', 'TCGA-FJ-A871', 'TCGA-CF-A3MF']\n",
    "```\n",
    "\n",
    "```Python\n",
    "norm_outliers = ['TCGA-2F-A9KW', 'TCGA-XF-A9ST', 'TCGA-BL-A3JM', 'TCGA-XF-A9T2', 'TCGA-XF-AAMH', 'TCGA-DK-AA6T', 'TCGA-BT-A2LA', 'TCGA-XF-AAN7', 'TCGA-FJ-A871', 'TCGA-C4-A0EZ', 'TCGA-DK-AA6W', 'TCGA-G2-A2EL']\n",
    "```\n",
    "\n",
    "<!-- ![alt text](sel_tf_log2.png)\n",
    "\n",
    "![alt text](sel_tf_norm_log2.png) -->\n",
    "\n"
   ]
  },
  {
   "cell_type": "code",
   "execution_count": 16,
   "metadata": {},
   "outputs": [
    {
     "name": "stdout",
     "output_type": "stream",
     "text": [
      "### Num outliers for standard log2 14.\n",
      " --> ['TCGA-C4-A0EZ', 'TCGA-DK-AA6W', 'TCGA-G2-A2EL', 'TCGA-BL-A3JM', 'TCGA-XF-A9T2', 'TCGA-XF-AAMH', 'TCGA-XF-A9ST', 'TCGA-GC-A4ZW', 'TCGA-HQ-A2OF', 'TCGA-DK-AA6T', 'TCGA-BT-A2LA', 'TCGA-XF-AAN7', 'TCGA-FJ-A871', 'TCGA-CF-A3MF']\n",
      "### Num outliers for norm log2 14.\n",
      " --> ['TCGA-C4-A0EZ', 'TCGA-DK-AA6W', 'TCGA-G2-A2EL', 'TCGA-BL-A3JM', 'TCGA-XF-A9T2', 'TCGA-XF-AAMH', 'TCGA-XF-A9ST', 'TCGA-GC-A4ZW', 'TCGA-HQ-A2OF', 'TCGA-DK-AA6T', 'TCGA-BT-A2LA', 'TCGA-XF-AAN7', 'TCGA-FJ-A871', 'TCGA-CF-A3MF']\n",
      "### Common outliers *11*.\n",
      " --> {'TCGA-DK-AA6W', 'TCGA-XF-A9T2', 'TCGA-G2-A2EL', 'TCGA-XF-AAMH', 'TCGA-XF-AAN7', 'TCGA-C4-A0EZ', 'TCGA-XF-A9ST', 'TCGA-BL-A3JM', 'TCGA-DK-AA6T', 'TCGA-BT-A2LA', 'TCGA-FJ-A871'}\n"
     ]
    }
   ],
   "source": [
    "outliers_log2 = ['TCGA-C4-A0EZ', 'TCGA-DK-AA6W', 'TCGA-G2-A2EL', 'TCGA-BL-A3JM', 'TCGA-XF-A9T2', 'TCGA-XF-AAMH', 'TCGA-XF-A9ST', 'TCGA-GC-A4ZW', 'TCGA-HQ-A2OF', 'TCGA-DK-AA6T', 'TCGA-BT-A2LA', 'TCGA-XF-AAN7', 'TCGA-FJ-A871', 'TCGA-CF-A3MF']\n",
    "\n",
    "norm_outliers = ['TCGA-2F-A9KW', 'TCGA-XF-A9ST', 'TCGA-BL-A3JM', 'TCGA-XF-A9T2', 'TCGA-XF-AAMH', 'TCGA-DK-AA6T', 'TCGA-BT-A2LA', 'TCGA-XF-AAN7', 'TCGA-FJ-A871', 'TCGA-C4-A0EZ', 'TCGA-DK-AA6W', 'TCGA-G2-A2EL']\n",
    "\n",
    "cmn_outliars = set(outliers_log2) & set(norm_outliers)\n",
    "\n",
    "print(f\"### Num outliers for standard log2 {len(outliers_log2)}.\\n --> {outliers_log2}\")\n",
    "print(f\"### Num outliers for norm log2 {len(outliers_log2)}.\\n --> {outliers_log2}\")\n",
    "print(f\"### Common outliers *{len(cmn_outliars)}*.\\n --> {cmn_outliars}\")"
   ]
  },
  {
   "cell_type": "code",
   "execution_count": 17,
   "metadata": {},
   "outputs": [
    {
     "name": "stderr",
     "output_type": "stream",
     "text": [
      "/var/folders/wd/10ylrkx55m78njljcl21yt2c0000gn/T/ipykernel_22695/557840676.py:11: PerformanceWarning:\n",
      "\n",
      "DataFrame is highly fragmented.  This is usually the result of calling `frame.insert` many times, which has poor performance.  Consider joining all columns at once using pd.concat(axis=1) instead. To get a de-fragmented frame, use `newframe = frame.copy()`\n",
      "\n"
     ]
    }
   ],
   "source": [
    "dmy_df = tum_tpms_v4.loc[sel_tfs.index]\n",
    "dmy_df = np.log2(dmy_df + 1)\n",
    "\n",
    "sel_metadata = ['KMeans_labels_6', 'consensus', 'TCGA408_classifier', 'Lund2017.subtype', 'ESTIMATE_score', \"Immune_score\", \"Stromal_score\", 'tumor_stage']\n",
    "dmy_df = pd.concat([vu_output[sel_metadata].T, dmy_df], axis=0).dropna(axis=1)\n",
    "\n",
    "# Remove outliers\n",
    "dmy_df = dmy_df[list(set(dmy_df.columns) - set(cmn_outliars))]\n",
    "\n",
    "# Adding notes on the genes\n",
    "dmy_df['Notes'] = ''\n",
    "dmy_df.loc[dmy_df.index.isin(lund_markers), \"Notes\"] = 'Lund marker'\n",
    "dmy_df.loc[dmy_df.index.isin(immune_markers), \"Notes\"] = 'Immune marker'\n",
    "dmy_df.loc[dmy_df.index.isin(uro_markers), \"Notes\"] = 'Uro markers'\n",
    "dmy_df.loc[dmy_df.index.isin(tcga_markers), \"Notes\"] = 'TCGA markers'\n",
    "\n",
    "dmy_df = dmy_df[['Notes'] + list(dmy_df.columns[:-1])]\n",
    "dmy_df.to_csv(f\"{figures_path}/log2_sel_tfs_no_outliers.tsv\", sep='\\t')"
   ]
  },
  {
   "cell_type": "markdown",
   "metadata": {},
   "source": [
    "## Importing Morpheus"
   ]
  },
  {
   "cell_type": "code",
   "execution_count": 18,
   "metadata": {},
   "outputs": [],
   "source": [
    "morpheus_path = f\"{figures_path}/morpheus/\"\n",
    "\n",
    "morp_df = pd.read_csv(f\"{morpheus_path}/15_CS_norm_log2_sel_tfs_no_outliers.gct\", sep=\"\\t\", skiprows=2)\n",
    "columns = morp_df[\"id\"]\n",
    "morp_df = morp_df.transpose()\n",
    "morp_df.columns = columns\n",
    "morp_df = morp_df.iloc[2:, :]\n",
    "\n",
    "morp_df['dendrogram_cut'] = morp_df['dendrogram_cut'].astype(float).astype(int)"
   ]
  },
  {
   "cell_type": "code",
   "execution_count": 19,
   "metadata": {},
   "outputs": [
    {
     "data": {
      "application/vnd.plotly.v1+json": {
       "config": {
        "plotlyServerURL": "https://plot.ly"
       },
       "data": [
        {
         "arrangement": "perpendicular",
         "link": {
          "color": "#bdbdbd",
          "source": [
           0,
           0,
           0,
           0,
           0,
           0,
           0,
           0,
           1,
           1,
           1,
           2,
           2,
           3,
           3,
           3,
           3,
           3,
           3,
           4,
           4,
           4,
           4,
           4,
           4,
           5,
           5,
           5,
           5,
           5,
           5,
           6,
           6,
           6,
           6,
           7,
           7,
           7,
           7,
           8,
           8,
           8,
           8,
           8,
           8,
           8,
           8,
           9,
           9,
           10,
           10,
           11,
           11,
           11,
           11,
           11,
           12,
           12,
           12,
           12,
           12,
           12,
           12,
           12,
           12,
           12,
           13
          ],
          "target": [
           5,
           6,
           7,
           8,
           9,
           11,
           12,
           13,
           5,
           8,
           12,
           10,
           12,
           5,
           6,
           7,
           8,
           10,
           12,
           5,
           6,
           8,
           9,
           11,
           12,
           19,
           20,
           21,
           22,
           23,
           16,
           19,
           22,
           14,
           15,
           17,
           18,
           22,
           15,
           17,
           18,
           20,
           21,
           23,
           14,
           15,
           16,
           17,
           21,
           20,
           14,
           17,
           18,
           20,
           21,
           22,
           17,
           18,
           19,
           20,
           21,
           22,
           23,
           14,
           15,
           16,
           18
          ],
          "value": [
           2,
           1,
           17,
           82,
           1,
           28,
           8,
           2,
           17,
           8,
           51,
           1,
           24,
           11,
           2,
           3,
           2,
           1,
           121,
           4,
           1,
           1,
           1,
           2,
           1,
           14,
           15,
           1,
           2,
           1,
           1,
           1,
           1,
           1,
           1,
           8,
           2,
           1,
           9,
           41,
           33,
           2,
           5,
           3,
           5,
           3,
           1,
           1,
           1,
           1,
           1,
           1,
           4,
           6,
           18,
           1,
           2,
           4,
           16,
           2,
           5,
           2,
           26,
           86,
           10,
           52,
           2
          ]
         },
         "node": {
          "color": [
           "rgb(229, 134, 6)",
           "rgb(229, 134, 6)",
           "rgb(229, 134, 6)",
           "rgb(229, 134, 6)",
           "rgb(229, 134, 6)",
           "rgb(93, 105, 177)",
           "rgb(93, 105, 177)",
           "rgb(93, 105, 177)",
           "rgb(93, 105, 177)",
           "rgb(93, 105, 177)",
           "rgb(93, 105, 177)",
           "rgb(93, 105, 177)",
           "rgb(93, 105, 177)",
           "rgb(93, 105, 177)",
           "rgb(82, 188, 163)",
           "rgb(82, 188, 163)",
           "rgb(82, 188, 163)",
           "rgb(82, 188, 163)",
           "rgb(82, 188, 163)",
           "rgb(82, 188, 163)",
           "rgb(82, 188, 163)",
           "rgb(82, 188, 163)",
           "rgb(82, 188, 163)",
           "rgb(82, 188, 163)"
          ],
          "label": [
           "Ba/Sq",
           "LumInf",
           "LumNS",
           "LumP",
           "NE-like",
           7,
           8,
           9,
           10,
           11,
           12,
           13,
           14,
           15,
           "UroA-Prog",
           "UroB",
           "UroC",
           "Ba/Sq",
           "Ba/Sq-Inf",
           "GU",
           "GU-Inf",
           "Mes-like",
           "Sc/NE-like",
           "Uro-Inf"
          ],
          "line": {
           "color": "black",
           "width": 0.5
          },
          "pad": 15,
          "thickness": 20
         },
         "type": "sankey"
        }
       ],
       "layout": {
        "annotations": [
         {
          "align": "left",
          "font": {
           "color": "#003366",
           "size": 16
          },
          "showarrow": false,
          "text": "TCGA408_classifier",
          "x": 0,
          "xref": "x",
          "y": 1.07,
          "yref": "paper"
         },
         {
          "align": "left",
          "font": {
           "color": "#003366",
           "size": 16
          },
          "showarrow": false,
          "text": "dendrogram_cut",
          "x": 1,
          "xref": "x",
          "y": 1.07,
          "yref": "paper"
         },
         {
          "align": "left",
          "font": {
           "color": "#003366",
           "size": 16
          },
          "showarrow": false,
          "text": "Lund2017.subtype",
          "x": 2,
          "xref": "x",
          "y": 1.07,
          "yref": "paper"
         }
        ],
        "font": {
         "color": "#003366",
         "size": 16
        },
        "height": 600,
        "plot_bgcolor": "rgba(0,0,0,0)",
        "template": {
         "data": {
          "bar": [
           {
            "error_x": {
             "color": "#2a3f5f"
            },
            "error_y": {
             "color": "#2a3f5f"
            },
            "marker": {
             "line": {
              "color": "#E5ECF6",
              "width": 0.5
             },
             "pattern": {
              "fillmode": "overlay",
              "size": 10,
              "solidity": 0.2
             }
            },
            "type": "bar"
           }
          ],
          "barpolar": [
           {
            "marker": {
             "line": {
              "color": "#E5ECF6",
              "width": 0.5
             },
             "pattern": {
              "fillmode": "overlay",
              "size": 10,
              "solidity": 0.2
             }
            },
            "type": "barpolar"
           }
          ],
          "carpet": [
           {
            "aaxis": {
             "endlinecolor": "#2a3f5f",
             "gridcolor": "white",
             "linecolor": "white",
             "minorgridcolor": "white",
             "startlinecolor": "#2a3f5f"
            },
            "baxis": {
             "endlinecolor": "#2a3f5f",
             "gridcolor": "white",
             "linecolor": "white",
             "minorgridcolor": "white",
             "startlinecolor": "#2a3f5f"
            },
            "type": "carpet"
           }
          ],
          "choropleth": [
           {
            "colorbar": {
             "outlinewidth": 0,
             "ticks": ""
            },
            "type": "choropleth"
           }
          ],
          "contour": [
           {
            "colorbar": {
             "outlinewidth": 0,
             "ticks": ""
            },
            "colorscale": [
             [
              0,
              "#0d0887"
             ],
             [
              0.1111111111111111,
              "#46039f"
             ],
             [
              0.2222222222222222,
              "#7201a8"
             ],
             [
              0.3333333333333333,
              "#9c179e"
             ],
             [
              0.4444444444444444,
              "#bd3786"
             ],
             [
              0.5555555555555556,
              "#d8576b"
             ],
             [
              0.6666666666666666,
              "#ed7953"
             ],
             [
              0.7777777777777778,
              "#fb9f3a"
             ],
             [
              0.8888888888888888,
              "#fdca26"
             ],
             [
              1,
              "#f0f921"
             ]
            ],
            "type": "contour"
           }
          ],
          "contourcarpet": [
           {
            "colorbar": {
             "outlinewidth": 0,
             "ticks": ""
            },
            "type": "contourcarpet"
           }
          ],
          "heatmap": [
           {
            "colorbar": {
             "outlinewidth": 0,
             "ticks": ""
            },
            "colorscale": [
             [
              0,
              "#0d0887"
             ],
             [
              0.1111111111111111,
              "#46039f"
             ],
             [
              0.2222222222222222,
              "#7201a8"
             ],
             [
              0.3333333333333333,
              "#9c179e"
             ],
             [
              0.4444444444444444,
              "#bd3786"
             ],
             [
              0.5555555555555556,
              "#d8576b"
             ],
             [
              0.6666666666666666,
              "#ed7953"
             ],
             [
              0.7777777777777778,
              "#fb9f3a"
             ],
             [
              0.8888888888888888,
              "#fdca26"
             ],
             [
              1,
              "#f0f921"
             ]
            ],
            "type": "heatmap"
           }
          ],
          "heatmapgl": [
           {
            "colorbar": {
             "outlinewidth": 0,
             "ticks": ""
            },
            "colorscale": [
             [
              0,
              "#0d0887"
             ],
             [
              0.1111111111111111,
              "#46039f"
             ],
             [
              0.2222222222222222,
              "#7201a8"
             ],
             [
              0.3333333333333333,
              "#9c179e"
             ],
             [
              0.4444444444444444,
              "#bd3786"
             ],
             [
              0.5555555555555556,
              "#d8576b"
             ],
             [
              0.6666666666666666,
              "#ed7953"
             ],
             [
              0.7777777777777778,
              "#fb9f3a"
             ],
             [
              0.8888888888888888,
              "#fdca26"
             ],
             [
              1,
              "#f0f921"
             ]
            ],
            "type": "heatmapgl"
           }
          ],
          "histogram": [
           {
            "marker": {
             "pattern": {
              "fillmode": "overlay",
              "size": 10,
              "solidity": 0.2
             }
            },
            "type": "histogram"
           }
          ],
          "histogram2d": [
           {
            "colorbar": {
             "outlinewidth": 0,
             "ticks": ""
            },
            "colorscale": [
             [
              0,
              "#0d0887"
             ],
             [
              0.1111111111111111,
              "#46039f"
             ],
             [
              0.2222222222222222,
              "#7201a8"
             ],
             [
              0.3333333333333333,
              "#9c179e"
             ],
             [
              0.4444444444444444,
              "#bd3786"
             ],
             [
              0.5555555555555556,
              "#d8576b"
             ],
             [
              0.6666666666666666,
              "#ed7953"
             ],
             [
              0.7777777777777778,
              "#fb9f3a"
             ],
             [
              0.8888888888888888,
              "#fdca26"
             ],
             [
              1,
              "#f0f921"
             ]
            ],
            "type": "histogram2d"
           }
          ],
          "histogram2dcontour": [
           {
            "colorbar": {
             "outlinewidth": 0,
             "ticks": ""
            },
            "colorscale": [
             [
              0,
              "#0d0887"
             ],
             [
              0.1111111111111111,
              "#46039f"
             ],
             [
              0.2222222222222222,
              "#7201a8"
             ],
             [
              0.3333333333333333,
              "#9c179e"
             ],
             [
              0.4444444444444444,
              "#bd3786"
             ],
             [
              0.5555555555555556,
              "#d8576b"
             ],
             [
              0.6666666666666666,
              "#ed7953"
             ],
             [
              0.7777777777777778,
              "#fb9f3a"
             ],
             [
              0.8888888888888888,
              "#fdca26"
             ],
             [
              1,
              "#f0f921"
             ]
            ],
            "type": "histogram2dcontour"
           }
          ],
          "mesh3d": [
           {
            "colorbar": {
             "outlinewidth": 0,
             "ticks": ""
            },
            "type": "mesh3d"
           }
          ],
          "parcoords": [
           {
            "line": {
             "colorbar": {
              "outlinewidth": 0,
              "ticks": ""
             }
            },
            "type": "parcoords"
           }
          ],
          "pie": [
           {
            "automargin": true,
            "type": "pie"
           }
          ],
          "scatter": [
           {
            "fillpattern": {
             "fillmode": "overlay",
             "size": 10,
             "solidity": 0.2
            },
            "type": "scatter"
           }
          ],
          "scatter3d": [
           {
            "line": {
             "colorbar": {
              "outlinewidth": 0,
              "ticks": ""
             }
            },
            "marker": {
             "colorbar": {
              "outlinewidth": 0,
              "ticks": ""
             }
            },
            "type": "scatter3d"
           }
          ],
          "scattercarpet": [
           {
            "marker": {
             "colorbar": {
              "outlinewidth": 0,
              "ticks": ""
             }
            },
            "type": "scattercarpet"
           }
          ],
          "scattergeo": [
           {
            "marker": {
             "colorbar": {
              "outlinewidth": 0,
              "ticks": ""
             }
            },
            "type": "scattergeo"
           }
          ],
          "scattergl": [
           {
            "marker": {
             "colorbar": {
              "outlinewidth": 0,
              "ticks": ""
             }
            },
            "type": "scattergl"
           }
          ],
          "scattermapbox": [
           {
            "marker": {
             "colorbar": {
              "outlinewidth": 0,
              "ticks": ""
             }
            },
            "type": "scattermapbox"
           }
          ],
          "scatterpolar": [
           {
            "marker": {
             "colorbar": {
              "outlinewidth": 0,
              "ticks": ""
             }
            },
            "type": "scatterpolar"
           }
          ],
          "scatterpolargl": [
           {
            "marker": {
             "colorbar": {
              "outlinewidth": 0,
              "ticks": ""
             }
            },
            "type": "scatterpolargl"
           }
          ],
          "scatterternary": [
           {
            "marker": {
             "colorbar": {
              "outlinewidth": 0,
              "ticks": ""
             }
            },
            "type": "scatterternary"
           }
          ],
          "surface": [
           {
            "colorbar": {
             "outlinewidth": 0,
             "ticks": ""
            },
            "colorscale": [
             [
              0,
              "#0d0887"
             ],
             [
              0.1111111111111111,
              "#46039f"
             ],
             [
              0.2222222222222222,
              "#7201a8"
             ],
             [
              0.3333333333333333,
              "#9c179e"
             ],
             [
              0.4444444444444444,
              "#bd3786"
             ],
             [
              0.5555555555555556,
              "#d8576b"
             ],
             [
              0.6666666666666666,
              "#ed7953"
             ],
             [
              0.7777777777777778,
              "#fb9f3a"
             ],
             [
              0.8888888888888888,
              "#fdca26"
             ],
             [
              1,
              "#f0f921"
             ]
            ],
            "type": "surface"
           }
          ],
          "table": [
           {
            "cells": {
             "fill": {
              "color": "#EBF0F8"
             },
             "line": {
              "color": "white"
             }
            },
            "header": {
             "fill": {
              "color": "#C8D4E3"
             },
             "line": {
              "color": "white"
             }
            },
            "type": "table"
           }
          ]
         },
         "layout": {
          "annotationdefaults": {
           "arrowcolor": "#2a3f5f",
           "arrowhead": 0,
           "arrowwidth": 1
          },
          "autotypenumbers": "strict",
          "coloraxis": {
           "colorbar": {
            "outlinewidth": 0,
            "ticks": ""
           }
          },
          "colorscale": {
           "diverging": [
            [
             0,
             "#8e0152"
            ],
            [
             0.1,
             "#c51b7d"
            ],
            [
             0.2,
             "#de77ae"
            ],
            [
             0.3,
             "#f1b6da"
            ],
            [
             0.4,
             "#fde0ef"
            ],
            [
             0.5,
             "#f7f7f7"
            ],
            [
             0.6,
             "#e6f5d0"
            ],
            [
             0.7,
             "#b8e186"
            ],
            [
             0.8,
             "#7fbc41"
            ],
            [
             0.9,
             "#4d9221"
            ],
            [
             1,
             "#276419"
            ]
           ],
           "sequential": [
            [
             0,
             "#0d0887"
            ],
            [
             0.1111111111111111,
             "#46039f"
            ],
            [
             0.2222222222222222,
             "#7201a8"
            ],
            [
             0.3333333333333333,
             "#9c179e"
            ],
            [
             0.4444444444444444,
             "#bd3786"
            ],
            [
             0.5555555555555556,
             "#d8576b"
            ],
            [
             0.6666666666666666,
             "#ed7953"
            ],
            [
             0.7777777777777778,
             "#fb9f3a"
            ],
            [
             0.8888888888888888,
             "#fdca26"
            ],
            [
             1,
             "#f0f921"
            ]
           ],
           "sequentialminus": [
            [
             0,
             "#0d0887"
            ],
            [
             0.1111111111111111,
             "#46039f"
            ],
            [
             0.2222222222222222,
             "#7201a8"
            ],
            [
             0.3333333333333333,
             "#9c179e"
            ],
            [
             0.4444444444444444,
             "#bd3786"
            ],
            [
             0.5555555555555556,
             "#d8576b"
            ],
            [
             0.6666666666666666,
             "#ed7953"
            ],
            [
             0.7777777777777778,
             "#fb9f3a"
            ],
            [
             0.8888888888888888,
             "#fdca26"
            ],
            [
             1,
             "#f0f921"
            ]
           ]
          },
          "colorway": [
           "#636efa",
           "#EF553B",
           "#00cc96",
           "#ab63fa",
           "#FFA15A",
           "#19d3f3",
           "#FF6692",
           "#B6E880",
           "#FF97FF",
           "#FECB52"
          ],
          "font": {
           "color": "#2a3f5f"
          },
          "geo": {
           "bgcolor": "white",
           "lakecolor": "white",
           "landcolor": "#E5ECF6",
           "showlakes": true,
           "showland": true,
           "subunitcolor": "white"
          },
          "hoverlabel": {
           "align": "left"
          },
          "hovermode": "closest",
          "mapbox": {
           "style": "light"
          },
          "paper_bgcolor": "white",
          "plot_bgcolor": "#E5ECF6",
          "polar": {
           "angularaxis": {
            "gridcolor": "white",
            "linecolor": "white",
            "ticks": ""
           },
           "bgcolor": "#E5ECF6",
           "radialaxis": {
            "gridcolor": "white",
            "linecolor": "white",
            "ticks": ""
           }
          },
          "scene": {
           "xaxis": {
            "backgroundcolor": "#E5ECF6",
            "gridcolor": "white",
            "gridwidth": 2,
            "linecolor": "white",
            "showbackground": true,
            "ticks": "",
            "zerolinecolor": "white"
           },
           "yaxis": {
            "backgroundcolor": "#E5ECF6",
            "gridcolor": "white",
            "gridwidth": 2,
            "linecolor": "white",
            "showbackground": true,
            "ticks": "",
            "zerolinecolor": "white"
           },
           "zaxis": {
            "backgroundcolor": "#E5ECF6",
            "gridcolor": "white",
            "gridwidth": 2,
            "linecolor": "white",
            "showbackground": true,
            "ticks": "",
            "zerolinecolor": "white"
           }
          },
          "shapedefaults": {
           "line": {
            "color": "#2a3f5f"
           }
          },
          "ternary": {
           "aaxis": {
            "gridcolor": "white",
            "linecolor": "white",
            "ticks": ""
           },
           "baxis": {
            "gridcolor": "white",
            "linecolor": "white",
            "ticks": ""
           },
           "bgcolor": "#E5ECF6",
           "caxis": {
            "gridcolor": "white",
            "linecolor": "white",
            "ticks": ""
           }
          },
          "title": {
           "x": 0.05
          },
          "xaxis": {
           "automargin": true,
           "gridcolor": "white",
           "linecolor": "white",
           "ticks": "",
           "title": {
            "standoff": 15
           },
           "zerolinecolor": "white",
           "zerolinewidth": 2
          },
          "yaxis": {
           "automargin": true,
           "gridcolor": "white",
           "linecolor": "white",
           "ticks": "",
           "title": {
            "standoff": 15
           },
           "zerolinecolor": "white",
           "zerolinewidth": 2
          }
         }
        },
        "title": {
         "text": "MIBC stratification based on the TF from selective edge pruning"
        },
        "xaxis": {
         "showgrid": false,
         "visible": false,
         "zeroline": false
        },
        "yaxis": {
         "showgrid": false,
         "visible": false,
         "zeroline": false
        }
       }
      }
     },
     "metadata": {},
     "output_type": "display_data"
    }
   ],
   "source": [
    "#Sankey\n",
    "morp_df.rename_axis(\"sample\", axis=\"columns\", inplace=True)\n",
    "reorder_cols = [\n",
    "    \"TCGA408_classifier\",\n",
    "    \"dendrogram_cut\",\n",
    "    'Lund2017.subtype',\n",
    "    # \"KMeans_labels_6\",\n",
    "    # \"consensus\",\n",
    "]\n",
    "meta, sky_fig = sky.main(df=morp_df, reorder_cols=reorder_cols, title='MIBC stratification based on the TF from selective edge pruning', retMeta=True)\n",
    "sky_fig.show()"
   ]
  },
  {
   "cell_type": "markdown",
   "metadata": {},
   "source": [
    "## Dumbell plots"
   ]
  },
  {
   "cell_type": "code",
   "execution_count": 219,
   "metadata": {},
   "outputs": [],
   "source": [
    "import plotly.graph_objects as go\n",
    "import matplotlib.pyplot as plt\n",
    "\n",
    "\n",
    "# Main function to see the differences\n",
    "def dumbell_plots(morp_df: pd.DataFrame, tum_df: pd.DataFrame, sel_tfs: pd.DataFrame, cls_1=\"\", cls_2=\"\", markers=[], log=False):\n",
    "\n",
    "    cluster_1, cluster_2 = int(cls_1.split(\"_\")[-1]), int(cls_2.split(\"_\")[-1])\n",
    "\n",
    "    samples_1 = morp_df[morp_df['dendrogram_cut'] == cluster_1].index\n",
    "    samples_2 = morp_df[morp_df['dendrogram_cut'] == cluster_2].index\n",
    "\n",
    "    # Reconstruct the TPM\n",
    "    dmy_df = tum_df.loc[tum_df.index.isin(sel_tfs.index)]\n",
    "    df_1 = dmy_df[samples_1]\n",
    "    df_1[cls_1] = df_1.mean(axis=1)\n",
    "\n",
    "    dmy_df = tum_df.loc[tum_df.index.isin(sel_tfs.index)]\n",
    "    df_2 = dmy_df[samples_2]\n",
    "    df_2[cls_2] = df_2.mean(axis=1)\n",
    "\n",
    "    comb_df = pd.concat([df_1[cls_1], df_2[cls_2]], axis=1)\n",
    "\n",
    "    # Prepare for plotting\n",
    "    plot_data = {\"line_x\": [], \"line_y\": [], cls_1: [], cls_2: []}\n",
    "    genes = list(comb_df.index)\n",
    "\n",
    "    y_axis_title = 'TPM mean'\n",
    "    if log:\n",
    "        comb_df[cls_1] = np.log2(comb_df[cls_1] + 1)\n",
    "        comb_df[cls_2] = np.log2(comb_df[cls_2] + 1)\n",
    "        y_axis_title = 'Log2(TPM + 1) mean '\n",
    "\n",
    "    # generate the data for plots\n",
    "    for gene, row in comb_df.iterrows():\n",
    "\n",
    "        val_1, val_2 = row[cls_1], row[cls_2]\n",
    "        # The data for two scatter points cls_1 and cls_2\n",
    "        plot_data[cls_1].extend([val_1])\n",
    "        plot_data[cls_2].extend([val_2])\n",
    "        # The line between the two clases\n",
    "        plot_data[\"line_y\"].extend(\n",
    "[\n",
    "                val_1,\n",
    "                val_2,\n",
    "                None,\n",
    "            ]\n",
    "        )\n",
    "        plot_data[\"line_x\"].extend([gene, gene, None])\n",
    "\n",
    "    # plotting\n",
    "    fig = go.Figure(\n",
    "    data=[\n",
    "        go.Scatter(\n",
    "            x=plot_data[\"line_x\"],\n",
    "            y=plot_data[\"line_y\"],\n",
    "            mode=\"lines\",\n",
    "            showlegend=False,\n",
    "            marker=dict(\n",
    "                color=\"grey\"\n",
    "            )\n",
    "        ),\n",
    "        go.Scatter(\n",
    "            y=plot_data[cls_1],\n",
    "            x=genes,\n",
    "            mode=\"markers\",\n",
    "            name=cls_1,\n",
    "            marker=dict(\n",
    "                # color=\"green\",\n",
    "                size=10\n",
    "            )\n",
    "            \n",
    "        ),\n",
    "        go.Scatter(\n",
    "            y=plot_data[cls_2],\n",
    "            x=genes,\n",
    "            mode=\"markers\",\n",
    "            name=cls_2,\n",
    "            marker=dict(\n",
    "                # color=\"blue\",\n",
    "                size=10\n",
    "            )   \n",
    "        ),\n",
    "        ]\n",
    "    )\n",
    "\n",
    "    # Add title and change the figure size\n",
    "    fig.update_layout(\n",
    "        title=f\"Changes between {cls_1} and {cls_2}\",\n",
    "        yaxis_title=y_axis_title,\n",
    "        xaxis_title=\"Gene\",\n",
    "        legend_itemclick=False\n",
    "    )\n",
    "\n",
    "    fig.update_xaxes()\n",
    "    # Add markers\n",
    "\n",
    "    annotations = []\n",
    "    for i, marker in enumerate(markers):\n",
    "        sel_df = comb_df.loc[marker]\n",
    "        y = sel_df.max()\n",
    "        x = marker\n",
    "\n",
    "\n",
    "        # avoid overlapping\n",
    "        xanchor = 'right' if i % 2 == 0 else 'left'\n",
    "        ax = -10 if i % 2 == 0 else 10\n",
    "\n",
    "        fig.add_annotation(\n",
    "                x=x,\n",
    "                y=y,\n",
    "                text=marker,\n",
    "                showarrow=True,\n",
    "                ax = ax,  # No horizontal offset\n",
    "                xanchor=xanchor\n",
    "            )\n",
    "        annotations.append({\n",
    "                \"x\": x,\n",
    "                \"y\": y,\n",
    "                \"text\": marker,\n",
    "                \"showarrow\": True,\n",
    "                \"ax\": ax,  \n",
    "                \"xanchor\": xanchor, \n",
    "            })\n",
    "        \n",
    "    return fig, comb_df, annotations"
   ]
  },
  {
   "cell_type": "code",
   "execution_count": null,
   "metadata": {},
   "outputs": [],
   "source": [
    "if 0:\n",
    "\n",
    "    cluster_1, label_1 = 14, 'luminal'\n",
    "    cluster_2, label_2 = 7, 'luminf'\n",
    "    cls_1, cls_2 = f'{label_1}_{cluster_1}', f'{label_2}_{cluster_2}'\n",
    "\n",
    "    markers = ['HES2', \"MSX2\", \"OVOL1\", 'HOXB6', \"JRK\", \"ZNF750\", \"ZBTB7C\", 'FOXJ3', 'REPIN1', 'IRF6', 'ELF3', 'GRHL3', \"AHR\", \"MAFF\"]\n",
    "\n",
    "    dmy_df = sel_tfs.loc[sel_tfs.index != 'BNC1']\n",
    "    fig, df = plot_cluster_means(morp_df=morp_df, tum_df=tum_tpms_v4, sel_tfs=dmy_df, cls_1=cls_2, cls_2=cls_1, markers=markers, log=True)\n",
    "    # fig.show()\n",
    "    cluster_1, label_1 = 10, 'basal large'\n",
    "    cluster_2, label_2 = 7, 'luminf'\n",
    "    cls_1, cls_2 = f'{label_1}_{cluster_1}', f'{label_2}_{cluster_2}'\n",
    "\n",
    "    markers = ['TP63', 'HES2', 'ELF3', \"GRHL3\", 'MYCL', \"MSX2\", \"HOXB6\", \"STAT1\", \"JUNB\", \"ETS2\", 'IRF6', \"FOSL1\", \"AHR\"]\n",
    "\n",
    "    dmy_df = sel_tfs.loc[sel_tfs.index != 'BNC1']\n",
    "    fig, df = plot_cluster_means(morp_df=morp_df, tum_df=tum_tpms_v4, sel_tfs=dmy_df, cls_1=cls_2, cls_2=cls_1, markers=markers, log=True)\n",
    "    # fig.show()\n",
    "    cluster_1, label_1 = 9, 'mixed'\n",
    "    cluster_2, label_2 = 7, 'luminf'\n",
    "    cls_1, cls_2 = f'{label_1}_{cluster_1}', f'{label_2}_{cluster_2}'\n",
    "\n",
    "    markers = ['TP63', 'HES2', 'MSX2', \"MYCL\", 'ZSCAN16', 'MAFF', \"IRF7\", 'IRF6', 'KLF5', \"ETS2\"]\n",
    "\n",
    "    dmy_df = sel_tfs.loc[~sel_tfs.index.isin([\"BNC1\"])]\n",
    "    fig, df = plot_cluster_means(morp_df=morp_df, tum_df=tum_tpms_v4, sel_tfs=dmy_df, cls_1=cls_2, cls_2=cls_1, markers=markers, log=True)\n",
    "    # fig.show()"
   ]
  },
  {
   "cell_type": "code",
   "execution_count": 218,
   "metadata": {},
   "outputs": [
    {
     "data": {
      "application/vnd.plotly.v1+json": {
       "config": {
        "plotlyServerURL": "https://plot.ly"
       },
       "data": [
        {
         "marker": {
          "color": "grey"
         },
         "mode": "lines",
         "showlegend": false,
         "type": "scatter",
         "x": [
          "JUN",
          "JUN",
          null,
          "MYCL",
          "MYCL",
          null,
          "DOT1L",
          "DOT1L",
          null,
          "SATB1",
          "SATB1",
          null,
          "REL",
          "REL",
          null,
          "EGR1",
          "EGR1",
          null,
          "ZNF524",
          "ZNF524",
          null,
          "ZNF609",
          "ZNF609",
          null,
          "BNC1",
          "BNC1",
          null,
          "ZBTB10",
          "ZBTB10",
          null,
          "OVOL1",
          "OVOL1",
          null,
          "ELK4",
          "ELK4",
          null,
          "NFAT5",
          "NFAT5",
          null,
          "TRERF1",
          "TRERF1",
          null,
          "TGIF1",
          "TGIF1",
          null,
          "HIVEP1",
          "HIVEP1",
          null,
          "HES2",
          "HES2",
          null,
          "POGK",
          "POGK",
          null,
          "CIC",
          "CIC",
          null,
          "TMF1",
          "TMF1",
          null,
          "TEAD1",
          "TEAD1",
          null,
          "ZNF552",
          "ZNF552",
          null,
          "ZXDB",
          "ZXDB",
          null,
          "REPIN1",
          "REPIN1",
          null,
          "ZBTB21",
          "ZBTB21",
          null,
          "TCF20",
          "TCF20",
          null,
          "ANKZF1",
          "ANKZF1",
          null,
          "GRHL3",
          "GRHL3",
          null,
          "JUNB",
          "JUNB",
          null,
          "JRK",
          "JRK",
          null,
          "KLF5",
          "KLF5",
          null,
          "LCOR",
          "LCOR",
          null,
          "MBD6",
          "MBD6",
          null,
          "ZNF846",
          "ZNF846",
          null,
          "ZBTB4",
          "ZBTB4",
          null,
          "RUNX1",
          "RUNX1",
          null,
          "SLC2A4RG",
          "SLC2A4RG",
          null,
          "MAFG",
          "MAFG",
          null,
          "AHR",
          "AHR",
          null,
          "MBD1",
          "MBD1",
          null,
          "ETV7",
          "ETV7",
          null,
          "SKI",
          "SKI",
          null,
          "MSX2",
          "MSX2",
          null,
          "DBP",
          "DBP",
          null,
          "STAT2",
          "STAT2",
          null,
          "ATF3",
          "ATF3",
          null,
          "SRF",
          "SRF",
          null,
          "ETV3",
          "ETV3",
          null,
          "FOSL1",
          "FOSL1",
          null,
          "ERF",
          "ERF",
          null,
          "MAFK",
          "MAFK",
          null,
          "KLF6",
          "KLF6",
          null,
          "SP100",
          "SP100",
          null,
          "ETS2",
          "ETS2",
          null,
          "FOXQ1",
          "FOXQ1",
          null,
          "EBF4",
          "EBF4",
          null,
          "NFATC4",
          "NFATC4",
          null,
          "KLF16",
          "KLF16",
          null,
          "MECOM",
          "MECOM",
          null,
          "ZNF750",
          "ZNF750",
          null,
          "ELF3",
          "ELF3",
          null,
          "MSANTD3",
          "MSANTD3",
          null,
          "BHLHE41",
          "BHLHE41",
          null,
          "ZNF513",
          "ZNF513",
          null,
          "IRF6",
          "IRF6",
          null,
          "SPEN",
          "SPEN",
          null,
          "ZSCAN16",
          "ZSCAN16",
          null,
          "CASZ1",
          "CASZ1",
          null,
          "KLF4",
          "KLF4",
          null,
          "IRF9",
          "IRF9",
          null,
          "ZNF224",
          "ZNF224",
          null,
          "IRF7",
          "IRF7",
          null,
          "PLSCR1",
          "PLSCR1",
          null,
          "PHF1",
          "PHF1",
          null,
          "ZNF335",
          "ZNF335",
          null,
          "TP63",
          "TP63",
          null,
          "SP110",
          "SP110",
          null,
          "ELF4",
          "ELF4",
          null,
          "FBXL19",
          "FBXL19",
          null,
          "ETS1",
          "ETS1",
          null,
          "SP1",
          "SP1",
          null,
          "HIVEP2",
          "HIVEP2",
          null,
          "MAFF",
          "MAFF",
          null,
          "ZNF276",
          "ZNF276",
          null,
          "ZNF586",
          "ZNF586",
          null,
          "NFIL3",
          "NFIL3",
          null,
          "BCL6",
          "BCL6",
          null,
          "STAT1",
          "STAT1",
          null,
          "SAFB2",
          "SAFB2",
          null,
          "FOXJ3",
          "FOXJ3",
          null,
          "FOSL2",
          "FOSL2",
          null,
          "HOXB6",
          "HOXB6",
          null,
          "NR4A2",
          "NR4A2",
          null,
          "ARID5B",
          "ARID5B",
          null,
          "ZNF211",
          "ZNF211",
          null,
          "ZBTB7C",
          "ZBTB7C",
          null,
          "ATMIN",
          "ATMIN",
          null,
          "KMT2A",
          "KMT2A",
          null
         ],
         "y": [
          5.281907605386115,
          6.747815866880855,
          null,
          5.786963085910634,
          6.07569602398084,
          null,
          3.0880236017762295,
          3.6595806548326615,
          null,
          2.451355100806193,
          4.42028784401572,
          null,
          1.7258660996743338,
          2.4154596092393597,
          null,
          4.317280999111281,
          6.868087154599469,
          null,
          4.515564193924427,
          5.119428256765874,
          null,
          2.437505648584922,
          3.0797495967973743,
          null,
          0.020017989988941245,
          0.08773669318640746,
          null,
          3.1003678343138237,
          2.458409861813218,
          null,
          0.7539423801085985,
          4.850185895147367,
          null,
          3.3726152203706032,
          2.9657343165617087,
          null,
          1.4027944425768193,
          2.1256284892870023,
          null,
          1.6859663234052418,
          2.7712142073714547,
          null,
          6.279587282254565,
          7.482961201659141,
          null,
          4.354477674114094,
          3.6317027454898807,
          null,
          0.5343725364788088,
          2.490948901575701,
          null,
          4.778616379793847,
          5.030418364325327,
          null,
          4.945288236066746,
          5.202019570080699,
          null,
          3.213271453954954,
          3.9515789592673984,
          null,
          3.2004366986376676,
          3.7463093976570687,
          null,
          3.421878171812787,
          4.102712255625076,
          null,
          2.233953501447271,
          1.9995320851394534,
          null,
          7.028394953021562,
          5.649941340968266,
          null,
          1.492027441760614,
          2.683861954992803,
          null,
          3.957893811949315,
          3.8103525322476006,
          null,
          3.4575554630216745,
          3.628351212220599,
          null,
          3.200994427814863,
          6.693656985739954,
          null,
          6.762032174762246,
          8.05252182806556,
          null,
          1.9550108199518752,
          4.685239976312458,
          null,
          5.798242061983837,
          7.4743729312559095,
          null,
          2.464762122756042,
          2.7436573393062624,
          null,
          4.352108272454744,
          4.885694191550997,
          null,
          2.9228078651615466,
          3.6255803679506307,
          null,
          3.831250142332609,
          4.7057597711666865,
          null,
          3.093071102102871,
          4.533585012583145,
          null,
          7.513754364931879,
          7.247581202566524,
          null,
          3.876978732630735,
          3.3493528152065624,
          null,
          3.6833522038436572,
          6.09540459889158,
          null,
          4.4773530919478,
          5.159066814184949,
          null,
          5.041187641522351,
          4.034049051432777,
          null,
          4.397888926521843,
          4.069993641796584,
          null,
          0.48161149236332823,
          5.186723797870135,
          null,
          5.735883572045137,
          4.5429538781958225,
          null,
          4.567679252248917,
          5.283791279875232,
          null,
          4.799514672285262,
          6.707096924764336,
          null,
          4.791988336565872,
          4.5192781133866,
          null,
          3.6120442743361454,
          4.508442159868156,
          null,
          2.857141277151899,
          4.591358908326157,
          null,
          5.40278129879333,
          4.903428424519474,
          null,
          3.4487439587041937,
          4.824566353594813,
          null,
          6.104858390757966,
          6.771170146648583,
          null,
          4.562597167919371,
          5.200542858178928,
          null,
          4.736355076109662,
          5.971254939127996,
          null,
          6.501593407054695,
          5.908831439185647,
          null,
          2.496771066805671,
          3.790494511671663,
          null,
          3.499197741048146,
          5.656826849332479,
          null,
          4.658915034098464,
          4.058322656652347,
          null,
          3.7532411645278496,
          4.041435784794164,
          null,
          1.6558271686813786,
          4.118619786549715,
          null,
          6.260720062992596,
          10.24761081120281,
          null,
          4.683084625117355,
          4.335359265680159,
          null,
          3.33854885156559,
          4.846197623181475,
          null,
          4.0201790438676674,
          4.594575636326249,
          null,
          6.146939480690514,
          4.990803180930605,
          null,
          4.48709664563669,
          4.986682925597018,
          null,
          3.118061852761083,
          4.245839386170013,
          null,
          3.855298374745616,
          3.739887220241931,
          null,
          2.7483955108158207,
          3.0370032990057467,
          null,
          4.503528975361579,
          6.52401693036196,
          null,
          2.64158685227137,
          3.2930662761333203,
          null,
          3.87140082874071,
          5.506525662332917,
          null,
          6.2435705680805995,
          6.6891135588057065,
          null,
          5.185403199929956,
          5.8738763663554066,
          null,
          3.322990025953364,
          3.5242225323759677,
          null,
          2.0740505254011707,
          2.2231302774493815,
          null,
          3.64089748314856,
          4.176086629800554,
          null,
          4.488399183144161,
          4.32719969656026,
          null,
          3.804749982698737,
          4.500405555721584,
          null,
          4.155946282449985,
          4.444301400378584,
          null,
          4.532284768163033,
          4.7213500126382195,
          null,
          2.2697143421546215,
          3.3964066439256877,
          null,
          3.2644365247974827,
          5.766734011198941,
          null,
          2.6655509242511575,
          3.126136899691265,
          null,
          3.279969037818419,
          3.277139995296911,
          null,
          4.5065986864833905,
          4.69073331514323,
          null,
          3.601625738371882,
          5.160279457916499,
          null,
          6.97017568914097,
          6.749494313943174,
          null,
          5.085964033055715,
          5.774414220699667,
          null,
          6.438217447198169,
          4.050140800436531,
          null,
          5.583271919279168,
          6.260459319190697,
          null,
          2.0615140193985377,
          4.739740791850168,
          null,
          2.880593993543931,
          3.2771117261793523,
          null,
          3.0532605479316928,
          4.042388062458753,
          null,
          2.5423607709950664,
          3.404076393143578,
          null,
          1.3800009393343218,
          3.881790524821557,
          null,
          4.613332618364511,
          4.378289860402672,
          null,
          3.36920567970608,
          3.878844953096908,
          null
         ]
        },
        {
         "marker": {
          "size": 10
         },
         "mode": "markers",
         "name": "lum_14",
         "type": "scatter",
         "x": [
          "JUN",
          "MYCL",
          "DOT1L",
          "SATB1",
          "REL",
          "EGR1",
          "ZNF524",
          "ZNF609",
          "BNC1",
          "ZBTB10",
          "OVOL1",
          "ELK4",
          "NFAT5",
          "TRERF1",
          "TGIF1",
          "HIVEP1",
          "HES2",
          "POGK",
          "CIC",
          "TMF1",
          "TEAD1",
          "ZNF552",
          "ZXDB",
          "REPIN1",
          "ZBTB21",
          "TCF20",
          "ANKZF1",
          "GRHL3",
          "JUNB",
          "JRK",
          "KLF5",
          "LCOR",
          "MBD6",
          "ZNF846",
          "ZBTB4",
          "RUNX1",
          "SLC2A4RG",
          "MAFG",
          "AHR",
          "MBD1",
          "ETV7",
          "SKI",
          "MSX2",
          "DBP",
          "STAT2",
          "ATF3",
          "SRF",
          "ETV3",
          "FOSL1",
          "ERF",
          "MAFK",
          "KLF6",
          "SP100",
          "ETS2",
          "FOXQ1",
          "EBF4",
          "NFATC4",
          "KLF16",
          "MECOM",
          "ZNF750",
          "ELF3",
          "MSANTD3",
          "BHLHE41",
          "ZNF513",
          "IRF6",
          "SPEN",
          "ZSCAN16",
          "CASZ1",
          "KLF4",
          "IRF9",
          "ZNF224",
          "IRF7",
          "PLSCR1",
          "PHF1",
          "ZNF335",
          "TP63",
          "SP110",
          "ELF4",
          "FBXL19",
          "ETS1",
          "SP1",
          "HIVEP2",
          "MAFF",
          "ZNF276",
          "ZNF586",
          "NFIL3",
          "BCL6",
          "STAT1",
          "SAFB2",
          "FOXJ3",
          "FOSL2",
          "HOXB6",
          "NR4A2",
          "ARID5B",
          "ZNF211",
          "ZBTB7C",
          "ATMIN",
          "KMT2A"
         ],
         "y": [
          5.281907605386115,
          5.786963085910634,
          3.0880236017762295,
          2.451355100806193,
          1.7258660996743338,
          4.317280999111281,
          4.515564193924427,
          2.437505648584922,
          0.020017989988941245,
          3.1003678343138237,
          0.7539423801085985,
          3.3726152203706032,
          1.4027944425768193,
          1.6859663234052418,
          6.279587282254565,
          4.354477674114094,
          0.5343725364788088,
          4.778616379793847,
          4.945288236066746,
          3.213271453954954,
          3.2004366986376676,
          3.421878171812787,
          2.233953501447271,
          7.028394953021562,
          1.492027441760614,
          3.957893811949315,
          3.4575554630216745,
          3.200994427814863,
          6.762032174762246,
          1.9550108199518752,
          5.798242061983837,
          2.464762122756042,
          4.352108272454744,
          2.9228078651615466,
          3.831250142332609,
          3.093071102102871,
          7.513754364931879,
          3.876978732630735,
          3.6833522038436572,
          4.4773530919478,
          5.041187641522351,
          4.397888926521843,
          0.48161149236332823,
          5.735883572045137,
          4.567679252248917,
          4.799514672285262,
          4.791988336565872,
          3.6120442743361454,
          2.857141277151899,
          5.40278129879333,
          3.4487439587041937,
          6.104858390757966,
          4.562597167919371,
          4.736355076109662,
          6.501593407054695,
          2.496771066805671,
          3.499197741048146,
          4.658915034098464,
          3.7532411645278496,
          1.6558271686813786,
          6.260720062992596,
          4.683084625117355,
          3.33854885156559,
          4.0201790438676674,
          6.146939480690514,
          4.48709664563669,
          3.118061852761083,
          3.855298374745616,
          2.7483955108158207,
          4.503528975361579,
          2.64158685227137,
          3.87140082874071,
          6.2435705680805995,
          5.185403199929956,
          3.322990025953364,
          2.0740505254011707,
          3.64089748314856,
          4.488399183144161,
          3.804749982698737,
          4.155946282449985,
          4.532284768163033,
          2.2697143421546215,
          3.2644365247974827,
          2.6655509242511575,
          3.279969037818419,
          4.5065986864833905,
          3.601625738371882,
          6.97017568914097,
          5.085964033055715,
          6.438217447198169,
          5.583271919279168,
          2.0615140193985377,
          2.880593993543931,
          3.0532605479316928,
          2.5423607709950664,
          1.3800009393343218,
          4.613332618364511,
          3.36920567970608
         ]
        },
        {
         "marker": {
          "size": 10
         },
         "mode": "markers",
         "name": "lumInf_7",
         "type": "scatter",
         "x": [
          "JUN",
          "MYCL",
          "DOT1L",
          "SATB1",
          "REL",
          "EGR1",
          "ZNF524",
          "ZNF609",
          "BNC1",
          "ZBTB10",
          "OVOL1",
          "ELK4",
          "NFAT5",
          "TRERF1",
          "TGIF1",
          "HIVEP1",
          "HES2",
          "POGK",
          "CIC",
          "TMF1",
          "TEAD1",
          "ZNF552",
          "ZXDB",
          "REPIN1",
          "ZBTB21",
          "TCF20",
          "ANKZF1",
          "GRHL3",
          "JUNB",
          "JRK",
          "KLF5",
          "LCOR",
          "MBD6",
          "ZNF846",
          "ZBTB4",
          "RUNX1",
          "SLC2A4RG",
          "MAFG",
          "AHR",
          "MBD1",
          "ETV7",
          "SKI",
          "MSX2",
          "DBP",
          "STAT2",
          "ATF3",
          "SRF",
          "ETV3",
          "FOSL1",
          "ERF",
          "MAFK",
          "KLF6",
          "SP100",
          "ETS2",
          "FOXQ1",
          "EBF4",
          "NFATC4",
          "KLF16",
          "MECOM",
          "ZNF750",
          "ELF3",
          "MSANTD3",
          "BHLHE41",
          "ZNF513",
          "IRF6",
          "SPEN",
          "ZSCAN16",
          "CASZ1",
          "KLF4",
          "IRF9",
          "ZNF224",
          "IRF7",
          "PLSCR1",
          "PHF1",
          "ZNF335",
          "TP63",
          "SP110",
          "ELF4",
          "FBXL19",
          "ETS1",
          "SP1",
          "HIVEP2",
          "MAFF",
          "ZNF276",
          "ZNF586",
          "NFIL3",
          "BCL6",
          "STAT1",
          "SAFB2",
          "FOXJ3",
          "FOSL2",
          "HOXB6",
          "NR4A2",
          "ARID5B",
          "ZNF211",
          "ZBTB7C",
          "ATMIN",
          "KMT2A"
         ],
         "y": [
          6.747815866880855,
          6.07569602398084,
          3.6595806548326615,
          4.42028784401572,
          2.4154596092393597,
          6.868087154599469,
          5.119428256765874,
          3.0797495967973743,
          0.08773669318640746,
          2.458409861813218,
          4.850185895147367,
          2.9657343165617087,
          2.1256284892870023,
          2.7712142073714547,
          7.482961201659141,
          3.6317027454898807,
          2.490948901575701,
          5.030418364325327,
          5.202019570080699,
          3.9515789592673984,
          3.7463093976570687,
          4.102712255625076,
          1.9995320851394534,
          5.649941340968266,
          2.683861954992803,
          3.8103525322476006,
          3.628351212220599,
          6.693656985739954,
          8.05252182806556,
          4.685239976312458,
          7.4743729312559095,
          2.7436573393062624,
          4.885694191550997,
          3.6255803679506307,
          4.7057597711666865,
          4.533585012583145,
          7.247581202566524,
          3.3493528152065624,
          6.09540459889158,
          5.159066814184949,
          4.034049051432777,
          4.069993641796584,
          5.186723797870135,
          4.5429538781958225,
          5.283791279875232,
          6.707096924764336,
          4.5192781133866,
          4.508442159868156,
          4.591358908326157,
          4.903428424519474,
          4.824566353594813,
          6.771170146648583,
          5.200542858178928,
          5.971254939127996,
          5.908831439185647,
          3.790494511671663,
          5.656826849332479,
          4.058322656652347,
          4.041435784794164,
          4.118619786549715,
          10.24761081120281,
          4.335359265680159,
          4.846197623181475,
          4.594575636326249,
          4.990803180930605,
          4.986682925597018,
          4.245839386170013,
          3.739887220241931,
          3.0370032990057467,
          6.52401693036196,
          3.2930662761333203,
          5.506525662332917,
          6.6891135588057065,
          5.8738763663554066,
          3.5242225323759677,
          2.2231302774493815,
          4.176086629800554,
          4.32719969656026,
          4.500405555721584,
          4.444301400378584,
          4.7213500126382195,
          3.3964066439256877,
          5.766734011198941,
          3.126136899691265,
          3.277139995296911,
          4.69073331514323,
          5.160279457916499,
          6.749494313943174,
          5.774414220699667,
          4.050140800436531,
          6.260459319190697,
          4.739740791850168,
          3.2771117261793523,
          4.042388062458753,
          3.404076393143578,
          3.881790524821557,
          4.378289860402672,
          3.878844953096908
         ]
        }
       ],
       "layout": {
        "annotations": [
         {
          "ax": -10,
          "showarrow": true,
          "text": "OVOL1",
          "x": "OVOL1",
          "xanchor": "right",
          "y": 4.850185895147367
         },
         {
          "ax": 10,
          "showarrow": true,
          "text": "ELF3",
          "x": "ELF3",
          "xanchor": "left",
          "y": 10.24761081120281
         },
         {
          "ax": -10,
          "showarrow": true,
          "text": "MSX2",
          "x": "MSX2",
          "xanchor": "right",
          "y": 5.186723797870135
         },
         {
          "ax": 10,
          "showarrow": true,
          "text": "ZNF750",
          "x": "ZNF750",
          "xanchor": "left",
          "y": 4.118619786549715
         },
         {
          "ax": -10,
          "showarrow": true,
          "text": "GRHL3",
          "x": "GRHL3",
          "xanchor": "right",
          "y": 6.693656985739954
         },
         {
          "ax": 10,
          "showarrow": true,
          "text": "AHR",
          "x": "AHR",
          "xanchor": "left",
          "y": 6.09540459889158
         },
         {
          "ax": -10,
          "showarrow": true,
          "text": "HOXB6",
          "x": "HOXB6",
          "xanchor": "right",
          "y": 4.739740791850168
         }
        ],
        "legend": {
         "itemclick": false
        },
        "template": {
         "data": {
          "bar": [
           {
            "error_x": {
             "color": "#2a3f5f"
            },
            "error_y": {
             "color": "#2a3f5f"
            },
            "marker": {
             "line": {
              "color": "#E5ECF6",
              "width": 0.5
             },
             "pattern": {
              "fillmode": "overlay",
              "size": 10,
              "solidity": 0.2
             }
            },
            "type": "bar"
           }
          ],
          "barpolar": [
           {
            "marker": {
             "line": {
              "color": "#E5ECF6",
              "width": 0.5
             },
             "pattern": {
              "fillmode": "overlay",
              "size": 10,
              "solidity": 0.2
             }
            },
            "type": "barpolar"
           }
          ],
          "carpet": [
           {
            "aaxis": {
             "endlinecolor": "#2a3f5f",
             "gridcolor": "white",
             "linecolor": "white",
             "minorgridcolor": "white",
             "startlinecolor": "#2a3f5f"
            },
            "baxis": {
             "endlinecolor": "#2a3f5f",
             "gridcolor": "white",
             "linecolor": "white",
             "minorgridcolor": "white",
             "startlinecolor": "#2a3f5f"
            },
            "type": "carpet"
           }
          ],
          "choropleth": [
           {
            "colorbar": {
             "outlinewidth": 0,
             "ticks": ""
            },
            "type": "choropleth"
           }
          ],
          "contour": [
           {
            "colorbar": {
             "outlinewidth": 0,
             "ticks": ""
            },
            "colorscale": [
             [
              0,
              "#0d0887"
             ],
             [
              0.1111111111111111,
              "#46039f"
             ],
             [
              0.2222222222222222,
              "#7201a8"
             ],
             [
              0.3333333333333333,
              "#9c179e"
             ],
             [
              0.4444444444444444,
              "#bd3786"
             ],
             [
              0.5555555555555556,
              "#d8576b"
             ],
             [
              0.6666666666666666,
              "#ed7953"
             ],
             [
              0.7777777777777778,
              "#fb9f3a"
             ],
             [
              0.8888888888888888,
              "#fdca26"
             ],
             [
              1,
              "#f0f921"
             ]
            ],
            "type": "contour"
           }
          ],
          "contourcarpet": [
           {
            "colorbar": {
             "outlinewidth": 0,
             "ticks": ""
            },
            "type": "contourcarpet"
           }
          ],
          "heatmap": [
           {
            "colorbar": {
             "outlinewidth": 0,
             "ticks": ""
            },
            "colorscale": [
             [
              0,
              "#0d0887"
             ],
             [
              0.1111111111111111,
              "#46039f"
             ],
             [
              0.2222222222222222,
              "#7201a8"
             ],
             [
              0.3333333333333333,
              "#9c179e"
             ],
             [
              0.4444444444444444,
              "#bd3786"
             ],
             [
              0.5555555555555556,
              "#d8576b"
             ],
             [
              0.6666666666666666,
              "#ed7953"
             ],
             [
              0.7777777777777778,
              "#fb9f3a"
             ],
             [
              0.8888888888888888,
              "#fdca26"
             ],
             [
              1,
              "#f0f921"
             ]
            ],
            "type": "heatmap"
           }
          ],
          "heatmapgl": [
           {
            "colorbar": {
             "outlinewidth": 0,
             "ticks": ""
            },
            "colorscale": [
             [
              0,
              "#0d0887"
             ],
             [
              0.1111111111111111,
              "#46039f"
             ],
             [
              0.2222222222222222,
              "#7201a8"
             ],
             [
              0.3333333333333333,
              "#9c179e"
             ],
             [
              0.4444444444444444,
              "#bd3786"
             ],
             [
              0.5555555555555556,
              "#d8576b"
             ],
             [
              0.6666666666666666,
              "#ed7953"
             ],
             [
              0.7777777777777778,
              "#fb9f3a"
             ],
             [
              0.8888888888888888,
              "#fdca26"
             ],
             [
              1,
              "#f0f921"
             ]
            ],
            "type": "heatmapgl"
           }
          ],
          "histogram": [
           {
            "marker": {
             "pattern": {
              "fillmode": "overlay",
              "size": 10,
              "solidity": 0.2
             }
            },
            "type": "histogram"
           }
          ],
          "histogram2d": [
           {
            "colorbar": {
             "outlinewidth": 0,
             "ticks": ""
            },
            "colorscale": [
             [
              0,
              "#0d0887"
             ],
             [
              0.1111111111111111,
              "#46039f"
             ],
             [
              0.2222222222222222,
              "#7201a8"
             ],
             [
              0.3333333333333333,
              "#9c179e"
             ],
             [
              0.4444444444444444,
              "#bd3786"
             ],
             [
              0.5555555555555556,
              "#d8576b"
             ],
             [
              0.6666666666666666,
              "#ed7953"
             ],
             [
              0.7777777777777778,
              "#fb9f3a"
             ],
             [
              0.8888888888888888,
              "#fdca26"
             ],
             [
              1,
              "#f0f921"
             ]
            ],
            "type": "histogram2d"
           }
          ],
          "histogram2dcontour": [
           {
            "colorbar": {
             "outlinewidth": 0,
             "ticks": ""
            },
            "colorscale": [
             [
              0,
              "#0d0887"
             ],
             [
              0.1111111111111111,
              "#46039f"
             ],
             [
              0.2222222222222222,
              "#7201a8"
             ],
             [
              0.3333333333333333,
              "#9c179e"
             ],
             [
              0.4444444444444444,
              "#bd3786"
             ],
             [
              0.5555555555555556,
              "#d8576b"
             ],
             [
              0.6666666666666666,
              "#ed7953"
             ],
             [
              0.7777777777777778,
              "#fb9f3a"
             ],
             [
              0.8888888888888888,
              "#fdca26"
             ],
             [
              1,
              "#f0f921"
             ]
            ],
            "type": "histogram2dcontour"
           }
          ],
          "mesh3d": [
           {
            "colorbar": {
             "outlinewidth": 0,
             "ticks": ""
            },
            "type": "mesh3d"
           }
          ],
          "parcoords": [
           {
            "line": {
             "colorbar": {
              "outlinewidth": 0,
              "ticks": ""
             }
            },
            "type": "parcoords"
           }
          ],
          "pie": [
           {
            "automargin": true,
            "type": "pie"
           }
          ],
          "scatter": [
           {
            "fillpattern": {
             "fillmode": "overlay",
             "size": 10,
             "solidity": 0.2
            },
            "type": "scatter"
           }
          ],
          "scatter3d": [
           {
            "line": {
             "colorbar": {
              "outlinewidth": 0,
              "ticks": ""
             }
            },
            "marker": {
             "colorbar": {
              "outlinewidth": 0,
              "ticks": ""
             }
            },
            "type": "scatter3d"
           }
          ],
          "scattercarpet": [
           {
            "marker": {
             "colorbar": {
              "outlinewidth": 0,
              "ticks": ""
             }
            },
            "type": "scattercarpet"
           }
          ],
          "scattergeo": [
           {
            "marker": {
             "colorbar": {
              "outlinewidth": 0,
              "ticks": ""
             }
            },
            "type": "scattergeo"
           }
          ],
          "scattergl": [
           {
            "marker": {
             "colorbar": {
              "outlinewidth": 0,
              "ticks": ""
             }
            },
            "type": "scattergl"
           }
          ],
          "scattermapbox": [
           {
            "marker": {
             "colorbar": {
              "outlinewidth": 0,
              "ticks": ""
             }
            },
            "type": "scattermapbox"
           }
          ],
          "scatterpolar": [
           {
            "marker": {
             "colorbar": {
              "outlinewidth": 0,
              "ticks": ""
             }
            },
            "type": "scatterpolar"
           }
          ],
          "scatterpolargl": [
           {
            "marker": {
             "colorbar": {
              "outlinewidth": 0,
              "ticks": ""
             }
            },
            "type": "scatterpolargl"
           }
          ],
          "scatterternary": [
           {
            "marker": {
             "colorbar": {
              "outlinewidth": 0,
              "ticks": ""
             }
            },
            "type": "scatterternary"
           }
          ],
          "surface": [
           {
            "colorbar": {
             "outlinewidth": 0,
             "ticks": ""
            },
            "colorscale": [
             [
              0,
              "#0d0887"
             ],
             [
              0.1111111111111111,
              "#46039f"
             ],
             [
              0.2222222222222222,
              "#7201a8"
             ],
             [
              0.3333333333333333,
              "#9c179e"
             ],
             [
              0.4444444444444444,
              "#bd3786"
             ],
             [
              0.5555555555555556,
              "#d8576b"
             ],
             [
              0.6666666666666666,
              "#ed7953"
             ],
             [
              0.7777777777777778,
              "#fb9f3a"
             ],
             [
              0.8888888888888888,
              "#fdca26"
             ],
             [
              1,
              "#f0f921"
             ]
            ],
            "type": "surface"
           }
          ],
          "table": [
           {
            "cells": {
             "fill": {
              "color": "#EBF0F8"
             },
             "line": {
              "color": "white"
             }
            },
            "header": {
             "fill": {
              "color": "#C8D4E3"
             },
             "line": {
              "color": "white"
             }
            },
            "type": "table"
           }
          ]
         },
         "layout": {
          "annotationdefaults": {
           "arrowcolor": "#2a3f5f",
           "arrowhead": 0,
           "arrowwidth": 1
          },
          "autotypenumbers": "strict",
          "coloraxis": {
           "colorbar": {
            "outlinewidth": 0,
            "ticks": ""
           }
          },
          "colorscale": {
           "diverging": [
            [
             0,
             "#8e0152"
            ],
            [
             0.1,
             "#c51b7d"
            ],
            [
             0.2,
             "#de77ae"
            ],
            [
             0.3,
             "#f1b6da"
            ],
            [
             0.4,
             "#fde0ef"
            ],
            [
             0.5,
             "#f7f7f7"
            ],
            [
             0.6,
             "#e6f5d0"
            ],
            [
             0.7,
             "#b8e186"
            ],
            [
             0.8,
             "#7fbc41"
            ],
            [
             0.9,
             "#4d9221"
            ],
            [
             1,
             "#276419"
            ]
           ],
           "sequential": [
            [
             0,
             "#0d0887"
            ],
            [
             0.1111111111111111,
             "#46039f"
            ],
            [
             0.2222222222222222,
             "#7201a8"
            ],
            [
             0.3333333333333333,
             "#9c179e"
            ],
            [
             0.4444444444444444,
             "#bd3786"
            ],
            [
             0.5555555555555556,
             "#d8576b"
            ],
            [
             0.6666666666666666,
             "#ed7953"
            ],
            [
             0.7777777777777778,
             "#fb9f3a"
            ],
            [
             0.8888888888888888,
             "#fdca26"
            ],
            [
             1,
             "#f0f921"
            ]
           ],
           "sequentialminus": [
            [
             0,
             "#0d0887"
            ],
            [
             0.1111111111111111,
             "#46039f"
            ],
            [
             0.2222222222222222,
             "#7201a8"
            ],
            [
             0.3333333333333333,
             "#9c179e"
            ],
            [
             0.4444444444444444,
             "#bd3786"
            ],
            [
             0.5555555555555556,
             "#d8576b"
            ],
            [
             0.6666666666666666,
             "#ed7953"
            ],
            [
             0.7777777777777778,
             "#fb9f3a"
            ],
            [
             0.8888888888888888,
             "#fdca26"
            ],
            [
             1,
             "#f0f921"
            ]
           ]
          },
          "colorway": [
           "#636efa",
           "#EF553B",
           "#00cc96",
           "#ab63fa",
           "#FFA15A",
           "#19d3f3",
           "#FF6692",
           "#B6E880",
           "#FF97FF",
           "#FECB52"
          ],
          "font": {
           "color": "#2a3f5f"
          },
          "geo": {
           "bgcolor": "white",
           "lakecolor": "white",
           "landcolor": "#E5ECF6",
           "showlakes": true,
           "showland": true,
           "subunitcolor": "white"
          },
          "hoverlabel": {
           "align": "left"
          },
          "hovermode": "closest",
          "mapbox": {
           "style": "light"
          },
          "paper_bgcolor": "white",
          "plot_bgcolor": "#E5ECF6",
          "polar": {
           "angularaxis": {
            "gridcolor": "white",
            "linecolor": "white",
            "ticks": ""
           },
           "bgcolor": "#E5ECF6",
           "radialaxis": {
            "gridcolor": "white",
            "linecolor": "white",
            "ticks": ""
           }
          },
          "scene": {
           "xaxis": {
            "backgroundcolor": "#E5ECF6",
            "gridcolor": "white",
            "gridwidth": 2,
            "linecolor": "white",
            "showbackground": true,
            "ticks": "",
            "zerolinecolor": "white"
           },
           "yaxis": {
            "backgroundcolor": "#E5ECF6",
            "gridcolor": "white",
            "gridwidth": 2,
            "linecolor": "white",
            "showbackground": true,
            "ticks": "",
            "zerolinecolor": "white"
           },
           "zaxis": {
            "backgroundcolor": "#E5ECF6",
            "gridcolor": "white",
            "gridwidth": 2,
            "linecolor": "white",
            "showbackground": true,
            "ticks": "",
            "zerolinecolor": "white"
           }
          },
          "shapedefaults": {
           "line": {
            "color": "#2a3f5f"
           }
          },
          "ternary": {
           "aaxis": {
            "gridcolor": "white",
            "linecolor": "white",
            "ticks": ""
           },
           "baxis": {
            "gridcolor": "white",
            "linecolor": "white",
            "ticks": ""
           },
           "bgcolor": "#E5ECF6",
           "caxis": {
            "gridcolor": "white",
            "linecolor": "white",
            "ticks": ""
           }
          },
          "title": {
           "x": 0.05
          },
          "xaxis": {
           "automargin": true,
           "gridcolor": "white",
           "linecolor": "white",
           "ticks": "",
           "title": {
            "standoff": 15
           },
           "zerolinecolor": "white",
           "zerolinewidth": 2
          },
          "yaxis": {
           "automargin": true,
           "gridcolor": "white",
           "linecolor": "white",
           "ticks": "",
           "title": {
            "standoff": 15
           },
           "zerolinecolor": "white",
           "zerolinewidth": 2
          }
         }
        },
        "title": {
         "text": "Changes between lum_14 and lumInf_7"
        },
        "xaxis": {
         "title": {
          "text": "Gene"
         }
        },
        "yaxis": {
         "title": {
          "text": "Log2(TPM + 1) mean "
         }
        }
       }
      }
     },
     "metadata": {},
     "output_type": "display_data"
    }
   ],
   "source": [
    "cluster_1, label_1 = 14, 'lum'\n",
    "cluster_2, label_2 = 7, 'lumInf'\n",
    "cls_1, cls_2 = f'{label_1}_{cluster_1}', f'{label_2}_{cluster_2}'\n",
    "markers = ['OVOL1', 'ELF3',  'MSX2', 'ZNF750', 'GRHL3', 'AHR', 'HOXB6']\n",
    "\n",
    "fig1, df, ann1 = dumbell_plots(morp_df=morp_df, tum_df=tum_tpms_v4, sel_tfs=sel_tfs, cls_1=cls_1, cls_2=cls_2, markers=markers, log=True)\n",
    "title1 = f'{cls_1} vs {cls_2}'\n",
    "fig1.show()"
   ]
  },
  {
   "cell_type": "code",
   "execution_count": 247,
   "metadata": {},
   "outputs": [],
   "source": [
    "# Basal large vs Mes-like\n",
    "log = True\n",
    "cluster_1, label_1 = 10, 'basal'\n",
    "cluster_2, label_2 = 13, 'basal'\n",
    "cls_1, cls_2 = f'{label_1}_{cluster_1}', f'{label_2}_{cluster_2}'\n",
    "markers = ['JUNB', 'JUN', 'KLF5', \"EGR1\", 'ELF3', 'STAT1', 'ETS2', \"HES2\", 'TP63', 'IRF6']\n",
    "\n",
    "fig1, df, ann1 = dumbell_plots(morp_df=morp_df, tum_df=tum_tpms_v4, sel_tfs=sel_tfs, cls_1=cls_1, cls_2=cls_2, markers=markers, log=log)\n",
    "title1 = f'{cls_1} vs {cls_2}'\n",
    "\n",
    "# Luminal vs Basal large \n",
    "cluster_1, label_1 = 14, 'luminal'\n",
    "cluster_2, label_2 = 10, 'basal'\n",
    "cls_1, cls_2 = f'{label_1}_{cluster_1}', f'{label_2}_{cluster_2}'\n",
    "markers = ['JUNB', 'ELF3', \"STAT1\", 'ELF3', \"EGR1\",  \"ETS2\", 'JUN', 'MSX2']\n",
    "\n",
    "fig2, df, ann2 = dumbell_plots(morp_df=morp_df, tum_df=tum_tpms_v4, sel_tfs=sel_tfs, cls_1=cls_1, cls_2=cls_2, markers=markers, log=log)\n",
    "title2= f'{cls_1} vs {cls_2}'\n",
    "\n",
    "# Lum vs Lum\n",
    "cluster_1, label_1 = 14, 'luminal'\n",
    "cluster_2, label_2 = 7, 'lumInf'\n",
    "cls_1, cls_2 = f'{label_1}_{cluster_1}', f'{label_2}_{cluster_2}'\n",
    "markers = ['OVOL1', 'ELF3',  'MSX2', 'ZNF750', 'GRHL3',  'HOXB6', 'AHR',]\n",
    "\n",
    "fig3, df, ann3 = dumbell_plots(morp_df=morp_df, tum_df=tum_tpms_v4, sel_tfs=sel_tfs, cls_1=cls_1, cls_2=cls_2, markers=markers, log=log)\n",
    "title3 = f'{cls_1} vs {cls_2}'"
   ]
  },
  {
   "cell_type": "code",
   "execution_count": null,
   "metadata": {},
   "outputs": [],
   "source": []
  },
  {
   "cell_type": "code",
   "execution_count": 256,
   "metadata": {},
   "outputs": [
    {
     "data": {
      "application/vnd.plotly.v1+json": {
       "config": {
        "plotlyServerURL": "https://plot.ly"
       },
       "data": [
        {
         "marker": {
          "color": "grey"
         },
         "mode": "lines",
         "showlegend": false,
         "type": "scatter",
         "x": [
          "JUN",
          "JUN",
          null,
          "MYCL",
          "MYCL",
          null,
          "DOT1L",
          "DOT1L",
          null,
          "SATB1",
          "SATB1",
          null,
          "REL",
          "REL",
          null,
          "EGR1",
          "EGR1",
          null,
          "ZNF524",
          "ZNF524",
          null,
          "ZNF609",
          "ZNF609",
          null,
          "BNC1",
          "BNC1",
          null,
          "ZBTB10",
          "ZBTB10",
          null,
          "OVOL1",
          "OVOL1",
          null,
          "ELK4",
          "ELK4",
          null,
          "NFAT5",
          "NFAT5",
          null,
          "TRERF1",
          "TRERF1",
          null,
          "TGIF1",
          "TGIF1",
          null,
          "HIVEP1",
          "HIVEP1",
          null,
          "HES2",
          "HES2",
          null,
          "POGK",
          "POGK",
          null,
          "CIC",
          "CIC",
          null,
          "TMF1",
          "TMF1",
          null,
          "TEAD1",
          "TEAD1",
          null,
          "ZNF552",
          "ZNF552",
          null,
          "ZXDB",
          "ZXDB",
          null,
          "REPIN1",
          "REPIN1",
          null,
          "ZBTB21",
          "ZBTB21",
          null,
          "TCF20",
          "TCF20",
          null,
          "ANKZF1",
          "ANKZF1",
          null,
          "GRHL3",
          "GRHL3",
          null,
          "JUNB",
          "JUNB",
          null,
          "JRK",
          "JRK",
          null,
          "KLF5",
          "KLF5",
          null,
          "LCOR",
          "LCOR",
          null,
          "MBD6",
          "MBD6",
          null,
          "ZNF846",
          "ZNF846",
          null,
          "ZBTB4",
          "ZBTB4",
          null,
          "RUNX1",
          "RUNX1",
          null,
          "SLC2A4RG",
          "SLC2A4RG",
          null,
          "MAFG",
          "MAFG",
          null,
          "AHR",
          "AHR",
          null,
          "MBD1",
          "MBD1",
          null,
          "ETV7",
          "ETV7",
          null,
          "SKI",
          "SKI",
          null,
          "MSX2",
          "MSX2",
          null,
          "DBP",
          "DBP",
          null,
          "STAT2",
          "STAT2",
          null,
          "ATF3",
          "ATF3",
          null,
          "SRF",
          "SRF",
          null,
          "ETV3",
          "ETV3",
          null,
          "FOSL1",
          "FOSL1",
          null,
          "ERF",
          "ERF",
          null,
          "MAFK",
          "MAFK",
          null,
          "KLF6",
          "KLF6",
          null,
          "SP100",
          "SP100",
          null,
          "ETS2",
          "ETS2",
          null,
          "FOXQ1",
          "FOXQ1",
          null,
          "EBF4",
          "EBF4",
          null,
          "NFATC4",
          "NFATC4",
          null,
          "KLF16",
          "KLF16",
          null,
          "MECOM",
          "MECOM",
          null,
          "ZNF750",
          "ZNF750",
          null,
          "ELF3",
          "ELF3",
          null,
          "MSANTD3",
          "MSANTD3",
          null,
          "BHLHE41",
          "BHLHE41",
          null,
          "ZNF513",
          "ZNF513",
          null,
          "IRF6",
          "IRF6",
          null,
          "SPEN",
          "SPEN",
          null,
          "ZSCAN16",
          "ZSCAN16",
          null,
          "CASZ1",
          "CASZ1",
          null,
          "KLF4",
          "KLF4",
          null,
          "IRF9",
          "IRF9",
          null,
          "ZNF224",
          "ZNF224",
          null,
          "IRF7",
          "IRF7",
          null,
          "PLSCR1",
          "PLSCR1",
          null,
          "PHF1",
          "PHF1",
          null,
          "ZNF335",
          "ZNF335",
          null,
          "TP63",
          "TP63",
          null,
          "SP110",
          "SP110",
          null,
          "ELF4",
          "ELF4",
          null,
          "FBXL19",
          "FBXL19",
          null,
          "ETS1",
          "ETS1",
          null,
          "SP1",
          "SP1",
          null,
          "HIVEP2",
          "HIVEP2",
          null,
          "MAFF",
          "MAFF",
          null,
          "ZNF276",
          "ZNF276",
          null,
          "ZNF586",
          "ZNF586",
          null,
          "NFIL3",
          "NFIL3",
          null,
          "BCL6",
          "BCL6",
          null,
          "STAT1",
          "STAT1",
          null,
          "SAFB2",
          "SAFB2",
          null,
          "FOXJ3",
          "FOXJ3",
          null,
          "FOSL2",
          "FOSL2",
          null,
          "HOXB6",
          "HOXB6",
          null,
          "NR4A2",
          "NR4A2",
          null,
          "ARID5B",
          "ARID5B",
          null,
          "ZNF211",
          "ZNF211",
          null,
          "ZBTB7C",
          "ZBTB7C",
          null,
          "ATMIN",
          "ATMIN",
          null,
          "KMT2A",
          "KMT2A",
          null
         ],
         "xaxis": "x",
         "y": [
          7.035401002416721,
          6.4508316749620205,
          null,
          4.0094243044566085,
          2.7552835272266174,
          null,
          3.3639813571739796,
          3.33218578340027,
          null,
          3.0129896876186018,
          3.297425025725086,
          null,
          2.225398798476657,
          1.3836159456297112,
          null,
          7.008146243540483,
          6.307406084494071,
          null,
          4.575810239766581,
          4.869218652484852,
          null,
          3.0411224400925914,
          2.760158216752413,
          null,
          3.772802409978252,
          1.0443771269631543,
          null,
          1.6638273858940833,
          1.7672573769618842,
          null,
          4.693938251022283,
          2.8128549251036765,
          null,
          3.233361101060619,
          2.8651528786171614,
          null,
          2.2853486816925526,
          1.951696308897483,
          null,
          2.608040694914068,
          2.2100645498614626,
          null,
          6.86961321737016,
          6.768250287133337,
          null,
          3.6558571265816866,
          3.2429915393670115,
          null,
          5.24635861501425,
          1.7086230819526789,
          null,
          4.2058212375775765,
          4.297215968295993,
          null,
          5.1485110826603275,
          5.062101293476441,
          null,
          3.59499415267549,
          3.443146779743177,
          null,
          3.375545452254105,
          3.6042722839424433,
          null,
          2.7873631482667323,
          2.6070264512066204,
          null,
          1.8788142102557508,
          1.729270846635401,
          null,
          4.798587185361172,
          5.4557754909094545,
          null,
          2.228629757000557,
          1.9223441139658455,
          null,
          4.0173740412739445,
          3.795907622241663,
          null,
          3.7627169488167858,
          3.689852103037337,
          null,
          4.29875169054741,
          0.9819163235629287,
          null,
          8.389182036253223,
          7.670982615086725,
          null,
          2.9251393343158454,
          2.9703206854292854,
          null,
          7.130523666670248,
          5.526917819263346,
          null,
          2.5556049046583156,
          2.119333221184371,
          null,
          4.591157594882135,
          4.325251516115314,
          null,
          3.186606129816141,
          3.027085089825774,
          null,
          4.260272760164243,
          4.228535929063702,
          null,
          4.614725230975476,
          4.344170367500808,
          null,
          7.088475430744384,
          7.1648637365018395,
          null,
          3.384149667120282,
          3.5837216194428843,
          null,
          5.2957367910966875,
          3.9449474220464387,
          null,
          4.6928842282517875,
          4.596172786517724,
          null,
          4.567455411634187,
          4.360387107466466,
          null,
          4.187081473076706,
          4.120796313685521,
          null,
          3.542228568322237,
          4.000056976595649,
          null,
          3.845051027412609,
          4.206188365032428,
          null,
          5.6593590723566525,
          5.369291622953502,
          null,
          6.411995839165036,
          5.242459892733461,
          null,
          4.705261593640514,
          4.491863094019968,
          null,
          3.5882090625703733,
          3.080600717841689,
          null,
          6.25164758229482,
          5.728521532731416,
          null,
          5.354891269064141,
          4.963340407223129,
          null,
          4.92386802801908,
          4.674177600836888,
          null,
          6.4805828448225125,
          6.060895872779148,
          null,
          5.843454194609424,
          5.637644941542401,
          null,
          7.174559520283466,
          5.840322516265712,
          null,
          4.520945690060549,
          3.5219405106428576,
          null,
          3.053400659813326,
          3.5316797285890544,
          null,
          4.64779870283262,
          4.985243434228167,
          null,
          4.391592133719965,
          4.411037997632103,
          null,
          3.7345876430534632,
          2.4246645363986086,
          null,
          4.835421503341251,
          2.2276712446965727,
          null,
          7.993848769078648,
          7.016468575909329,
          null,
          4.716477322913369,
          4.659770081501023,
          null,
          4.044960991217461,
          3.7467125688094063,
          null,
          3.8547697531664324,
          3.803018311103361,
          null,
          6.907436656596269,
          3.8181410367833446,
          null,
          4.677907865356392,
          4.422251468852425,
          null,
          2.4211832845787886,
          2.710937157838828,
          null,
          3.1644160958531553,
          2.183420086590693,
          null,
          3.742170260740041,
          3.2017350058607144,
          null,
          6.5961997406384265,
          6.309109657828538,
          null,
          2.663148898705525,
          2.5974131112978975,
          null,
          5.271990670250274,
          5.400190388912431,
          null,
          6.7590878216593495,
          6.232969692336646,
          null,
          5.448340862298932,
          5.723053381159147,
          null,
          3.368467829500722,
          3.2526573583151297,
          null,
          5.873061400585656,
          1.6549886135196148,
          null,
          4.951328709019692,
          4.785845897130859,
          null,
          4.5866553912127275,
          4.472529452951617,
          null,
          4.152758341477999,
          3.994723150889371,
          null,
          5.023546176926539,
          5.1120862673045835,
          null,
          4.425360987499521,
          4.0428197237163035,
          null,
          3.6199546611568842,
          3.170660126004771,
          null,
          5.036997053768447,
          4.532523144946292,
          null,
          3.285051542207009,
          3.4620246862509365,
          null,
          2.8438127861753553,
          2.757730582325919,
          null,
          5.092274373582015,
          4.773591089269845,
          null,
          4.696020395992042,
          4.823154896507233,
          null,
          7.946397583261652,
          8.020982550675908,
          null,
          5.201444491066884,
          5.488758349555312,
          null,
          3.9341051040047077,
          3.7568854417816877,
          null,
          5.908366023571735,
          5.607913200256484,
          null,
          2.8097325906156985,
          2.922185214663602,
          null,
          3.7894799865307993,
          2.5269774302545116,
          null,
          3.607817447758503,
          3.433090100059705,
          null,
          2.979500839425469,
          2.6845578581361376,
          null,
          2.616852847373264,
          1.1978745642057904,
          null,
          4.6861592089138675,
          4.338842853395038,
          null,
          3.5825627263111373,
          3.6148588470383194,
          null
         ],
         "yaxis": "y"
        },
        {
         "marker": {
          "color": "#636EFA",
          "size": 10
         },
         "mode": "markers",
         "name": "basal_10",
         "showlegend": true,
         "type": "scatter",
         "x": [
          "JUN",
          "MYCL",
          "DOT1L",
          "SATB1",
          "REL",
          "EGR1",
          "ZNF524",
          "ZNF609",
          "BNC1",
          "ZBTB10",
          "OVOL1",
          "ELK4",
          "NFAT5",
          "TRERF1",
          "TGIF1",
          "HIVEP1",
          "HES2",
          "POGK",
          "CIC",
          "TMF1",
          "TEAD1",
          "ZNF552",
          "ZXDB",
          "REPIN1",
          "ZBTB21",
          "TCF20",
          "ANKZF1",
          "GRHL3",
          "JUNB",
          "JRK",
          "KLF5",
          "LCOR",
          "MBD6",
          "ZNF846",
          "ZBTB4",
          "RUNX1",
          "SLC2A4RG",
          "MAFG",
          "AHR",
          "MBD1",
          "ETV7",
          "SKI",
          "MSX2",
          "DBP",
          "STAT2",
          "ATF3",
          "SRF",
          "ETV3",
          "FOSL1",
          "ERF",
          "MAFK",
          "KLF6",
          "SP100",
          "ETS2",
          "FOXQ1",
          "EBF4",
          "NFATC4",
          "KLF16",
          "MECOM",
          "ZNF750",
          "ELF3",
          "MSANTD3",
          "BHLHE41",
          "ZNF513",
          "IRF6",
          "SPEN",
          "ZSCAN16",
          "CASZ1",
          "KLF4",
          "IRF9",
          "ZNF224",
          "IRF7",
          "PLSCR1",
          "PHF1",
          "ZNF335",
          "TP63",
          "SP110",
          "ELF4",
          "FBXL19",
          "ETS1",
          "SP1",
          "HIVEP2",
          "MAFF",
          "ZNF276",
          "ZNF586",
          "NFIL3",
          "BCL6",
          "STAT1",
          "SAFB2",
          "FOXJ3",
          "FOSL2",
          "HOXB6",
          "NR4A2",
          "ARID5B",
          "ZNF211",
          "ZBTB7C",
          "ATMIN",
          "KMT2A"
         ],
         "xaxis": "x",
         "y": [
          7.035401002416721,
          4.0094243044566085,
          3.3639813571739796,
          3.0129896876186018,
          2.225398798476657,
          7.008146243540483,
          4.575810239766581,
          3.0411224400925914,
          3.772802409978252,
          1.6638273858940833,
          4.693938251022283,
          3.233361101060619,
          2.2853486816925526,
          2.608040694914068,
          6.86961321737016,
          3.6558571265816866,
          5.24635861501425,
          4.2058212375775765,
          5.1485110826603275,
          3.59499415267549,
          3.375545452254105,
          2.7873631482667323,
          1.8788142102557508,
          4.798587185361172,
          2.228629757000557,
          4.0173740412739445,
          3.7627169488167858,
          4.29875169054741,
          8.389182036253223,
          2.9251393343158454,
          7.130523666670248,
          2.5556049046583156,
          4.591157594882135,
          3.186606129816141,
          4.260272760164243,
          4.614725230975476,
          7.088475430744384,
          3.384149667120282,
          5.2957367910966875,
          4.6928842282517875,
          4.567455411634187,
          4.187081473076706,
          3.542228568322237,
          3.845051027412609,
          5.6593590723566525,
          6.411995839165036,
          4.705261593640514,
          3.5882090625703733,
          6.25164758229482,
          5.354891269064141,
          4.92386802801908,
          6.4805828448225125,
          5.843454194609424,
          7.174559520283466,
          4.520945690060549,
          3.053400659813326,
          4.64779870283262,
          4.391592133719965,
          3.7345876430534632,
          4.835421503341251,
          7.993848769078648,
          4.716477322913369,
          4.044960991217461,
          3.8547697531664324,
          6.907436656596269,
          4.677907865356392,
          2.4211832845787886,
          3.1644160958531553,
          3.742170260740041,
          6.5961997406384265,
          2.663148898705525,
          5.271990670250274,
          6.7590878216593495,
          5.448340862298932,
          3.368467829500722,
          5.873061400585656,
          4.951328709019692,
          4.5866553912127275,
          4.152758341477999,
          5.023546176926539,
          4.425360987499521,
          3.6199546611568842,
          5.036997053768447,
          3.285051542207009,
          2.8438127861753553,
          5.092274373582015,
          4.696020395992042,
          7.946397583261652,
          5.201444491066884,
          3.9341051040047077,
          5.908366023571735,
          2.8097325906156985,
          3.7894799865307993,
          3.607817447758503,
          2.979500839425469,
          2.616852847373264,
          4.6861592089138675,
          3.5825627263111373
         ],
         "yaxis": "y"
        },
        {
         "marker": {
          "color": "#EF553B",
          "size": 10
         },
         "mode": "markers",
         "name": "basal_13",
         "showlegend": true,
         "type": "scatter",
         "x": [
          "JUN",
          "MYCL",
          "DOT1L",
          "SATB1",
          "REL",
          "EGR1",
          "ZNF524",
          "ZNF609",
          "BNC1",
          "ZBTB10",
          "OVOL1",
          "ELK4",
          "NFAT5",
          "TRERF1",
          "TGIF1",
          "HIVEP1",
          "HES2",
          "POGK",
          "CIC",
          "TMF1",
          "TEAD1",
          "ZNF552",
          "ZXDB",
          "REPIN1",
          "ZBTB21",
          "TCF20",
          "ANKZF1",
          "GRHL3",
          "JUNB",
          "JRK",
          "KLF5",
          "LCOR",
          "MBD6",
          "ZNF846",
          "ZBTB4",
          "RUNX1",
          "SLC2A4RG",
          "MAFG",
          "AHR",
          "MBD1",
          "ETV7",
          "SKI",
          "MSX2",
          "DBP",
          "STAT2",
          "ATF3",
          "SRF",
          "ETV3",
          "FOSL1",
          "ERF",
          "MAFK",
          "KLF6",
          "SP100",
          "ETS2",
          "FOXQ1",
          "EBF4",
          "NFATC4",
          "KLF16",
          "MECOM",
          "ZNF750",
          "ELF3",
          "MSANTD3",
          "BHLHE41",
          "ZNF513",
          "IRF6",
          "SPEN",
          "ZSCAN16",
          "CASZ1",
          "KLF4",
          "IRF9",
          "ZNF224",
          "IRF7",
          "PLSCR1",
          "PHF1",
          "ZNF335",
          "TP63",
          "SP110",
          "ELF4",
          "FBXL19",
          "ETS1",
          "SP1",
          "HIVEP2",
          "MAFF",
          "ZNF276",
          "ZNF586",
          "NFIL3",
          "BCL6",
          "STAT1",
          "SAFB2",
          "FOXJ3",
          "FOSL2",
          "HOXB6",
          "NR4A2",
          "ARID5B",
          "ZNF211",
          "ZBTB7C",
          "ATMIN",
          "KMT2A"
         ],
         "xaxis": "x",
         "y": [
          6.4508316749620205,
          2.7552835272266174,
          3.33218578340027,
          3.297425025725086,
          1.3836159456297112,
          6.307406084494071,
          4.869218652484852,
          2.760158216752413,
          1.0443771269631543,
          1.7672573769618842,
          2.8128549251036765,
          2.8651528786171614,
          1.951696308897483,
          2.2100645498614626,
          6.768250287133337,
          3.2429915393670115,
          1.7086230819526789,
          4.297215968295993,
          5.062101293476441,
          3.443146779743177,
          3.6042722839424433,
          2.6070264512066204,
          1.729270846635401,
          5.4557754909094545,
          1.9223441139658455,
          3.795907622241663,
          3.689852103037337,
          0.9819163235629287,
          7.670982615086725,
          2.9703206854292854,
          5.526917819263346,
          2.119333221184371,
          4.325251516115314,
          3.027085089825774,
          4.228535929063702,
          4.344170367500808,
          7.1648637365018395,
          3.5837216194428843,
          3.9449474220464387,
          4.596172786517724,
          4.360387107466466,
          4.120796313685521,
          4.000056976595649,
          4.206188365032428,
          5.369291622953502,
          5.242459892733461,
          4.491863094019968,
          3.080600717841689,
          5.728521532731416,
          4.963340407223129,
          4.674177600836888,
          6.060895872779148,
          5.637644941542401,
          5.840322516265712,
          3.5219405106428576,
          3.5316797285890544,
          4.985243434228167,
          4.411037997632103,
          2.4246645363986086,
          2.2276712446965727,
          7.016468575909329,
          4.659770081501023,
          3.7467125688094063,
          3.803018311103361,
          3.8181410367833446,
          4.422251468852425,
          2.710937157838828,
          2.183420086590693,
          3.2017350058607144,
          6.309109657828538,
          2.5974131112978975,
          5.400190388912431,
          6.232969692336646,
          5.723053381159147,
          3.2526573583151297,
          1.6549886135196148,
          4.785845897130859,
          4.472529452951617,
          3.994723150889371,
          5.1120862673045835,
          4.0428197237163035,
          3.170660126004771,
          4.532523144946292,
          3.4620246862509365,
          2.757730582325919,
          4.773591089269845,
          4.823154896507233,
          8.020982550675908,
          5.488758349555312,
          3.7568854417816877,
          5.607913200256484,
          2.922185214663602,
          2.5269774302545116,
          3.433090100059705,
          2.6845578581361376,
          1.1978745642057904,
          4.338842853395038,
          3.6148588470383194
         ],
         "yaxis": "y"
        },
        {
         "marker": {
          "color": "grey"
         },
         "mode": "lines",
         "showlegend": false,
         "type": "scatter",
         "x": [
          "JUN",
          "JUN",
          null,
          "MYCL",
          "MYCL",
          null,
          "DOT1L",
          "DOT1L",
          null,
          "SATB1",
          "SATB1",
          null,
          "REL",
          "REL",
          null,
          "EGR1",
          "EGR1",
          null,
          "ZNF524",
          "ZNF524",
          null,
          "ZNF609",
          "ZNF609",
          null,
          "BNC1",
          "BNC1",
          null,
          "ZBTB10",
          "ZBTB10",
          null,
          "OVOL1",
          "OVOL1",
          null,
          "ELK4",
          "ELK4",
          null,
          "NFAT5",
          "NFAT5",
          null,
          "TRERF1",
          "TRERF1",
          null,
          "TGIF1",
          "TGIF1",
          null,
          "HIVEP1",
          "HIVEP1",
          null,
          "HES2",
          "HES2",
          null,
          "POGK",
          "POGK",
          null,
          "CIC",
          "CIC",
          null,
          "TMF1",
          "TMF1",
          null,
          "TEAD1",
          "TEAD1",
          null,
          "ZNF552",
          "ZNF552",
          null,
          "ZXDB",
          "ZXDB",
          null,
          "REPIN1",
          "REPIN1",
          null,
          "ZBTB21",
          "ZBTB21",
          null,
          "TCF20",
          "TCF20",
          null,
          "ANKZF1",
          "ANKZF1",
          null,
          "GRHL3",
          "GRHL3",
          null,
          "JUNB",
          "JUNB",
          null,
          "JRK",
          "JRK",
          null,
          "KLF5",
          "KLF5",
          null,
          "LCOR",
          "LCOR",
          null,
          "MBD6",
          "MBD6",
          null,
          "ZNF846",
          "ZNF846",
          null,
          "ZBTB4",
          "ZBTB4",
          null,
          "RUNX1",
          "RUNX1",
          null,
          "SLC2A4RG",
          "SLC2A4RG",
          null,
          "MAFG",
          "MAFG",
          null,
          "AHR",
          "AHR",
          null,
          "MBD1",
          "MBD1",
          null,
          "ETV7",
          "ETV7",
          null,
          "SKI",
          "SKI",
          null,
          "MSX2",
          "MSX2",
          null,
          "DBP",
          "DBP",
          null,
          "STAT2",
          "STAT2",
          null,
          "ATF3",
          "ATF3",
          null,
          "SRF",
          "SRF",
          null,
          "ETV3",
          "ETV3",
          null,
          "FOSL1",
          "FOSL1",
          null,
          "ERF",
          "ERF",
          null,
          "MAFK",
          "MAFK",
          null,
          "KLF6",
          "KLF6",
          null,
          "SP100",
          "SP100",
          null,
          "ETS2",
          "ETS2",
          null,
          "FOXQ1",
          "FOXQ1",
          null,
          "EBF4",
          "EBF4",
          null,
          "NFATC4",
          "NFATC4",
          null,
          "KLF16",
          "KLF16",
          null,
          "MECOM",
          "MECOM",
          null,
          "ZNF750",
          "ZNF750",
          null,
          "ELF3",
          "ELF3",
          null,
          "MSANTD3",
          "MSANTD3",
          null,
          "BHLHE41",
          "BHLHE41",
          null,
          "ZNF513",
          "ZNF513",
          null,
          "IRF6",
          "IRF6",
          null,
          "SPEN",
          "SPEN",
          null,
          "ZSCAN16",
          "ZSCAN16",
          null,
          "CASZ1",
          "CASZ1",
          null,
          "KLF4",
          "KLF4",
          null,
          "IRF9",
          "IRF9",
          null,
          "ZNF224",
          "ZNF224",
          null,
          "IRF7",
          "IRF7",
          null,
          "PLSCR1",
          "PLSCR1",
          null,
          "PHF1",
          "PHF1",
          null,
          "ZNF335",
          "ZNF335",
          null,
          "TP63",
          "TP63",
          null,
          "SP110",
          "SP110",
          null,
          "ELF4",
          "ELF4",
          null,
          "FBXL19",
          "FBXL19",
          null,
          "ETS1",
          "ETS1",
          null,
          "SP1",
          "SP1",
          null,
          "HIVEP2",
          "HIVEP2",
          null,
          "MAFF",
          "MAFF",
          null,
          "ZNF276",
          "ZNF276",
          null,
          "ZNF586",
          "ZNF586",
          null,
          "NFIL3",
          "NFIL3",
          null,
          "BCL6",
          "BCL6",
          null,
          "STAT1",
          "STAT1",
          null,
          "SAFB2",
          "SAFB2",
          null,
          "FOXJ3",
          "FOXJ3",
          null,
          "FOSL2",
          "FOSL2",
          null,
          "HOXB6",
          "HOXB6",
          null,
          "NR4A2",
          "NR4A2",
          null,
          "ARID5B",
          "ARID5B",
          null,
          "ZNF211",
          "ZNF211",
          null,
          "ZBTB7C",
          "ZBTB7C",
          null,
          "ATMIN",
          "ATMIN",
          null,
          "KMT2A",
          "KMT2A",
          null
         ],
         "xaxis": "x2",
         "y": [
          5.281907605386115,
          7.035401002416721,
          null,
          5.786963085910634,
          4.0094243044566085,
          null,
          3.0880236017762295,
          3.3639813571739796,
          null,
          2.451355100806193,
          3.0129896876186018,
          null,
          1.7258660996743338,
          2.225398798476657,
          null,
          4.317280999111281,
          7.008146243540483,
          null,
          4.515564193924427,
          4.575810239766581,
          null,
          2.437505648584922,
          3.0411224400925914,
          null,
          0.020017989988941245,
          3.772802409978252,
          null,
          3.1003678343138237,
          1.6638273858940833,
          null,
          0.7539423801085985,
          4.693938251022283,
          null,
          3.3726152203706032,
          3.233361101060619,
          null,
          1.4027944425768193,
          2.2853486816925526,
          null,
          1.6859663234052418,
          2.608040694914068,
          null,
          6.279587282254565,
          6.86961321737016,
          null,
          4.354477674114094,
          3.6558571265816866,
          null,
          0.5343725364788088,
          5.24635861501425,
          null,
          4.778616379793847,
          4.2058212375775765,
          null,
          4.945288236066746,
          5.1485110826603275,
          null,
          3.213271453954954,
          3.59499415267549,
          null,
          3.2004366986376676,
          3.375545452254105,
          null,
          3.421878171812787,
          2.7873631482667323,
          null,
          2.233953501447271,
          1.8788142102557508,
          null,
          7.028394953021562,
          4.798587185361172,
          null,
          1.492027441760614,
          2.228629757000557,
          null,
          3.957893811949315,
          4.0173740412739445,
          null,
          3.4575554630216745,
          3.7627169488167858,
          null,
          3.200994427814863,
          4.29875169054741,
          null,
          6.762032174762246,
          8.389182036253223,
          null,
          1.9550108199518752,
          2.9251393343158454,
          null,
          5.798242061983837,
          7.130523666670248,
          null,
          2.464762122756042,
          2.5556049046583156,
          null,
          4.352108272454744,
          4.591157594882135,
          null,
          2.9228078651615466,
          3.186606129816141,
          null,
          3.831250142332609,
          4.260272760164243,
          null,
          3.093071102102871,
          4.614725230975476,
          null,
          7.513754364931879,
          7.088475430744384,
          null,
          3.876978732630735,
          3.384149667120282,
          null,
          3.6833522038436572,
          5.2957367910966875,
          null,
          4.4773530919478,
          4.6928842282517875,
          null,
          5.041187641522351,
          4.567455411634187,
          null,
          4.397888926521843,
          4.187081473076706,
          null,
          0.48161149236332823,
          3.542228568322237,
          null,
          5.735883572045137,
          3.845051027412609,
          null,
          4.567679252248917,
          5.6593590723566525,
          null,
          4.799514672285262,
          6.411995839165036,
          null,
          4.791988336565872,
          4.705261593640514,
          null,
          3.6120442743361454,
          3.5882090625703733,
          null,
          2.857141277151899,
          6.25164758229482,
          null,
          5.40278129879333,
          5.354891269064141,
          null,
          3.4487439587041937,
          4.92386802801908,
          null,
          6.104858390757966,
          6.4805828448225125,
          null,
          4.562597167919371,
          5.843454194609424,
          null,
          4.736355076109662,
          7.174559520283466,
          null,
          6.501593407054695,
          4.520945690060549,
          null,
          2.496771066805671,
          3.053400659813326,
          null,
          3.499197741048146,
          4.64779870283262,
          null,
          4.658915034098464,
          4.391592133719965,
          null,
          3.7532411645278496,
          3.7345876430534632,
          null,
          1.6558271686813786,
          4.835421503341251,
          null,
          6.260720062992596,
          7.993848769078648,
          null,
          4.683084625117355,
          4.716477322913369,
          null,
          3.33854885156559,
          4.044960991217461,
          null,
          4.0201790438676674,
          3.8547697531664324,
          null,
          6.146939480690514,
          6.907436656596269,
          null,
          4.48709664563669,
          4.677907865356392,
          null,
          3.118061852761083,
          2.4211832845787886,
          null,
          3.855298374745616,
          3.1644160958531553,
          null,
          2.7483955108158207,
          3.742170260740041,
          null,
          4.503528975361579,
          6.5961997406384265,
          null,
          2.64158685227137,
          2.663148898705525,
          null,
          3.87140082874071,
          5.271990670250274,
          null,
          6.2435705680805995,
          6.7590878216593495,
          null,
          5.185403199929956,
          5.448340862298932,
          null,
          3.322990025953364,
          3.368467829500722,
          null,
          2.0740505254011707,
          5.873061400585656,
          null,
          3.64089748314856,
          4.951328709019692,
          null,
          4.488399183144161,
          4.5866553912127275,
          null,
          3.804749982698737,
          4.152758341477999,
          null,
          4.155946282449985,
          5.023546176926539,
          null,
          4.532284768163033,
          4.425360987499521,
          null,
          2.2697143421546215,
          3.6199546611568842,
          null,
          3.2644365247974827,
          5.036997053768447,
          null,
          2.6655509242511575,
          3.285051542207009,
          null,
          3.279969037818419,
          2.8438127861753553,
          null,
          4.5065986864833905,
          5.092274373582015,
          null,
          3.601625738371882,
          4.696020395992042,
          null,
          6.97017568914097,
          7.946397583261652,
          null,
          5.085964033055715,
          5.201444491066884,
          null,
          6.438217447198169,
          3.9341051040047077,
          null,
          5.583271919279168,
          5.908366023571735,
          null,
          2.0615140193985377,
          2.8097325906156985,
          null,
          2.880593993543931,
          3.7894799865307993,
          null,
          3.0532605479316928,
          3.607817447758503,
          null,
          2.5423607709950664,
          2.979500839425469,
          null,
          1.3800009393343218,
          2.616852847373264,
          null,
          4.613332618364511,
          4.6861592089138675,
          null,
          3.36920567970608,
          3.5825627263111373,
          null
         ],
         "yaxis": "y2"
        },
        {
         "marker": {
          "color": "#00CC96",
          "size": 10
         },
         "mode": "markers",
         "name": "luminal_14",
         "showlegend": true,
         "type": "scatter",
         "x": [
          "JUN",
          "MYCL",
          "DOT1L",
          "SATB1",
          "REL",
          "EGR1",
          "ZNF524",
          "ZNF609",
          "BNC1",
          "ZBTB10",
          "OVOL1",
          "ELK4",
          "NFAT5",
          "TRERF1",
          "TGIF1",
          "HIVEP1",
          "HES2",
          "POGK",
          "CIC",
          "TMF1",
          "TEAD1",
          "ZNF552",
          "ZXDB",
          "REPIN1",
          "ZBTB21",
          "TCF20",
          "ANKZF1",
          "GRHL3",
          "JUNB",
          "JRK",
          "KLF5",
          "LCOR",
          "MBD6",
          "ZNF846",
          "ZBTB4",
          "RUNX1",
          "SLC2A4RG",
          "MAFG",
          "AHR",
          "MBD1",
          "ETV7",
          "SKI",
          "MSX2",
          "DBP",
          "STAT2",
          "ATF3",
          "SRF",
          "ETV3",
          "FOSL1",
          "ERF",
          "MAFK",
          "KLF6",
          "SP100",
          "ETS2",
          "FOXQ1",
          "EBF4",
          "NFATC4",
          "KLF16",
          "MECOM",
          "ZNF750",
          "ELF3",
          "MSANTD3",
          "BHLHE41",
          "ZNF513",
          "IRF6",
          "SPEN",
          "ZSCAN16",
          "CASZ1",
          "KLF4",
          "IRF9",
          "ZNF224",
          "IRF7",
          "PLSCR1",
          "PHF1",
          "ZNF335",
          "TP63",
          "SP110",
          "ELF4",
          "FBXL19",
          "ETS1",
          "SP1",
          "HIVEP2",
          "MAFF",
          "ZNF276",
          "ZNF586",
          "NFIL3",
          "BCL6",
          "STAT1",
          "SAFB2",
          "FOXJ3",
          "FOSL2",
          "HOXB6",
          "NR4A2",
          "ARID5B",
          "ZNF211",
          "ZBTB7C",
          "ATMIN",
          "KMT2A"
         ],
         "xaxis": "x2",
         "y": [
          5.281907605386115,
          5.786963085910634,
          3.0880236017762295,
          2.451355100806193,
          1.7258660996743338,
          4.317280999111281,
          4.515564193924427,
          2.437505648584922,
          0.020017989988941245,
          3.1003678343138237,
          0.7539423801085985,
          3.3726152203706032,
          1.4027944425768193,
          1.6859663234052418,
          6.279587282254565,
          4.354477674114094,
          0.5343725364788088,
          4.778616379793847,
          4.945288236066746,
          3.213271453954954,
          3.2004366986376676,
          3.421878171812787,
          2.233953501447271,
          7.028394953021562,
          1.492027441760614,
          3.957893811949315,
          3.4575554630216745,
          3.200994427814863,
          6.762032174762246,
          1.9550108199518752,
          5.798242061983837,
          2.464762122756042,
          4.352108272454744,
          2.9228078651615466,
          3.831250142332609,
          3.093071102102871,
          7.513754364931879,
          3.876978732630735,
          3.6833522038436572,
          4.4773530919478,
          5.041187641522351,
          4.397888926521843,
          0.48161149236332823,
          5.735883572045137,
          4.567679252248917,
          4.799514672285262,
          4.791988336565872,
          3.6120442743361454,
          2.857141277151899,
          5.40278129879333,
          3.4487439587041937,
          6.104858390757966,
          4.562597167919371,
          4.736355076109662,
          6.501593407054695,
          2.496771066805671,
          3.499197741048146,
          4.658915034098464,
          3.7532411645278496,
          1.6558271686813786,
          6.260720062992596,
          4.683084625117355,
          3.33854885156559,
          4.0201790438676674,
          6.146939480690514,
          4.48709664563669,
          3.118061852761083,
          3.855298374745616,
          2.7483955108158207,
          4.503528975361579,
          2.64158685227137,
          3.87140082874071,
          6.2435705680805995,
          5.185403199929956,
          3.322990025953364,
          2.0740505254011707,
          3.64089748314856,
          4.488399183144161,
          3.804749982698737,
          4.155946282449985,
          4.532284768163033,
          2.2697143421546215,
          3.2644365247974827,
          2.6655509242511575,
          3.279969037818419,
          4.5065986864833905,
          3.601625738371882,
          6.97017568914097,
          5.085964033055715,
          6.438217447198169,
          5.583271919279168,
          2.0615140193985377,
          2.880593993543931,
          3.0532605479316928,
          2.5423607709950664,
          1.3800009393343218,
          4.613332618364511,
          3.36920567970608
         ],
         "yaxis": "y2"
        },
        {
         "marker": {
          "color": "#636EFA",
          "size": 10
         },
         "mode": "markers",
         "name": "basal_10",
         "showlegend": false,
         "type": "scatter",
         "x": [
          "JUN",
          "MYCL",
          "DOT1L",
          "SATB1",
          "REL",
          "EGR1",
          "ZNF524",
          "ZNF609",
          "BNC1",
          "ZBTB10",
          "OVOL1",
          "ELK4",
          "NFAT5",
          "TRERF1",
          "TGIF1",
          "HIVEP1",
          "HES2",
          "POGK",
          "CIC",
          "TMF1",
          "TEAD1",
          "ZNF552",
          "ZXDB",
          "REPIN1",
          "ZBTB21",
          "TCF20",
          "ANKZF1",
          "GRHL3",
          "JUNB",
          "JRK",
          "KLF5",
          "LCOR",
          "MBD6",
          "ZNF846",
          "ZBTB4",
          "RUNX1",
          "SLC2A4RG",
          "MAFG",
          "AHR",
          "MBD1",
          "ETV7",
          "SKI",
          "MSX2",
          "DBP",
          "STAT2",
          "ATF3",
          "SRF",
          "ETV3",
          "FOSL1",
          "ERF",
          "MAFK",
          "KLF6",
          "SP100",
          "ETS2",
          "FOXQ1",
          "EBF4",
          "NFATC4",
          "KLF16",
          "MECOM",
          "ZNF750",
          "ELF3",
          "MSANTD3",
          "BHLHE41",
          "ZNF513",
          "IRF6",
          "SPEN",
          "ZSCAN16",
          "CASZ1",
          "KLF4",
          "IRF9",
          "ZNF224",
          "IRF7",
          "PLSCR1",
          "PHF1",
          "ZNF335",
          "TP63",
          "SP110",
          "ELF4",
          "FBXL19",
          "ETS1",
          "SP1",
          "HIVEP2",
          "MAFF",
          "ZNF276",
          "ZNF586",
          "NFIL3",
          "BCL6",
          "STAT1",
          "SAFB2",
          "FOXJ3",
          "FOSL2",
          "HOXB6",
          "NR4A2",
          "ARID5B",
          "ZNF211",
          "ZBTB7C",
          "ATMIN",
          "KMT2A"
         ],
         "xaxis": "x2",
         "y": [
          7.035401002416721,
          4.0094243044566085,
          3.3639813571739796,
          3.0129896876186018,
          2.225398798476657,
          7.008146243540483,
          4.575810239766581,
          3.0411224400925914,
          3.772802409978252,
          1.6638273858940833,
          4.693938251022283,
          3.233361101060619,
          2.2853486816925526,
          2.608040694914068,
          6.86961321737016,
          3.6558571265816866,
          5.24635861501425,
          4.2058212375775765,
          5.1485110826603275,
          3.59499415267549,
          3.375545452254105,
          2.7873631482667323,
          1.8788142102557508,
          4.798587185361172,
          2.228629757000557,
          4.0173740412739445,
          3.7627169488167858,
          4.29875169054741,
          8.389182036253223,
          2.9251393343158454,
          7.130523666670248,
          2.5556049046583156,
          4.591157594882135,
          3.186606129816141,
          4.260272760164243,
          4.614725230975476,
          7.088475430744384,
          3.384149667120282,
          5.2957367910966875,
          4.6928842282517875,
          4.567455411634187,
          4.187081473076706,
          3.542228568322237,
          3.845051027412609,
          5.6593590723566525,
          6.411995839165036,
          4.705261593640514,
          3.5882090625703733,
          6.25164758229482,
          5.354891269064141,
          4.92386802801908,
          6.4805828448225125,
          5.843454194609424,
          7.174559520283466,
          4.520945690060549,
          3.053400659813326,
          4.64779870283262,
          4.391592133719965,
          3.7345876430534632,
          4.835421503341251,
          7.993848769078648,
          4.716477322913369,
          4.044960991217461,
          3.8547697531664324,
          6.907436656596269,
          4.677907865356392,
          2.4211832845787886,
          3.1644160958531553,
          3.742170260740041,
          6.5961997406384265,
          2.663148898705525,
          5.271990670250274,
          6.7590878216593495,
          5.448340862298932,
          3.368467829500722,
          5.873061400585656,
          4.951328709019692,
          4.5866553912127275,
          4.152758341477999,
          5.023546176926539,
          4.425360987499521,
          3.6199546611568842,
          5.036997053768447,
          3.285051542207009,
          2.8438127861753553,
          5.092274373582015,
          4.696020395992042,
          7.946397583261652,
          5.201444491066884,
          3.9341051040047077,
          5.908366023571735,
          2.8097325906156985,
          3.7894799865307993,
          3.607817447758503,
          2.979500839425469,
          2.616852847373264,
          4.6861592089138675,
          3.5825627263111373
         ],
         "yaxis": "y2"
        },
        {
         "marker": {
          "color": "grey"
         },
         "mode": "lines",
         "showlegend": false,
         "type": "scatter",
         "x": [
          "JUN",
          "JUN",
          null,
          "MYCL",
          "MYCL",
          null,
          "DOT1L",
          "DOT1L",
          null,
          "SATB1",
          "SATB1",
          null,
          "REL",
          "REL",
          null,
          "EGR1",
          "EGR1",
          null,
          "ZNF524",
          "ZNF524",
          null,
          "ZNF609",
          "ZNF609",
          null,
          "BNC1",
          "BNC1",
          null,
          "ZBTB10",
          "ZBTB10",
          null,
          "OVOL1",
          "OVOL1",
          null,
          "ELK4",
          "ELK4",
          null,
          "NFAT5",
          "NFAT5",
          null,
          "TRERF1",
          "TRERF1",
          null,
          "TGIF1",
          "TGIF1",
          null,
          "HIVEP1",
          "HIVEP1",
          null,
          "HES2",
          "HES2",
          null,
          "POGK",
          "POGK",
          null,
          "CIC",
          "CIC",
          null,
          "TMF1",
          "TMF1",
          null,
          "TEAD1",
          "TEAD1",
          null,
          "ZNF552",
          "ZNF552",
          null,
          "ZXDB",
          "ZXDB",
          null,
          "REPIN1",
          "REPIN1",
          null,
          "ZBTB21",
          "ZBTB21",
          null,
          "TCF20",
          "TCF20",
          null,
          "ANKZF1",
          "ANKZF1",
          null,
          "GRHL3",
          "GRHL3",
          null,
          "JUNB",
          "JUNB",
          null,
          "JRK",
          "JRK",
          null,
          "KLF5",
          "KLF5",
          null,
          "LCOR",
          "LCOR",
          null,
          "MBD6",
          "MBD6",
          null,
          "ZNF846",
          "ZNF846",
          null,
          "ZBTB4",
          "ZBTB4",
          null,
          "RUNX1",
          "RUNX1",
          null,
          "SLC2A4RG",
          "SLC2A4RG",
          null,
          "MAFG",
          "MAFG",
          null,
          "AHR",
          "AHR",
          null,
          "MBD1",
          "MBD1",
          null,
          "ETV7",
          "ETV7",
          null,
          "SKI",
          "SKI",
          null,
          "MSX2",
          "MSX2",
          null,
          "DBP",
          "DBP",
          null,
          "STAT2",
          "STAT2",
          null,
          "ATF3",
          "ATF3",
          null,
          "SRF",
          "SRF",
          null,
          "ETV3",
          "ETV3",
          null,
          "FOSL1",
          "FOSL1",
          null,
          "ERF",
          "ERF",
          null,
          "MAFK",
          "MAFK",
          null,
          "KLF6",
          "KLF6",
          null,
          "SP100",
          "SP100",
          null,
          "ETS2",
          "ETS2",
          null,
          "FOXQ1",
          "FOXQ1",
          null,
          "EBF4",
          "EBF4",
          null,
          "NFATC4",
          "NFATC4",
          null,
          "KLF16",
          "KLF16",
          null,
          "MECOM",
          "MECOM",
          null,
          "ZNF750",
          "ZNF750",
          null,
          "ELF3",
          "ELF3",
          null,
          "MSANTD3",
          "MSANTD3",
          null,
          "BHLHE41",
          "BHLHE41",
          null,
          "ZNF513",
          "ZNF513",
          null,
          "IRF6",
          "IRF6",
          null,
          "SPEN",
          "SPEN",
          null,
          "ZSCAN16",
          "ZSCAN16",
          null,
          "CASZ1",
          "CASZ1",
          null,
          "KLF4",
          "KLF4",
          null,
          "IRF9",
          "IRF9",
          null,
          "ZNF224",
          "ZNF224",
          null,
          "IRF7",
          "IRF7",
          null,
          "PLSCR1",
          "PLSCR1",
          null,
          "PHF1",
          "PHF1",
          null,
          "ZNF335",
          "ZNF335",
          null,
          "TP63",
          "TP63",
          null,
          "SP110",
          "SP110",
          null,
          "ELF4",
          "ELF4",
          null,
          "FBXL19",
          "FBXL19",
          null,
          "ETS1",
          "ETS1",
          null,
          "SP1",
          "SP1",
          null,
          "HIVEP2",
          "HIVEP2",
          null,
          "MAFF",
          "MAFF",
          null,
          "ZNF276",
          "ZNF276",
          null,
          "ZNF586",
          "ZNF586",
          null,
          "NFIL3",
          "NFIL3",
          null,
          "BCL6",
          "BCL6",
          null,
          "STAT1",
          "STAT1",
          null,
          "SAFB2",
          "SAFB2",
          null,
          "FOXJ3",
          "FOXJ3",
          null,
          "FOSL2",
          "FOSL2",
          null,
          "HOXB6",
          "HOXB6",
          null,
          "NR4A2",
          "NR4A2",
          null,
          "ARID5B",
          "ARID5B",
          null,
          "ZNF211",
          "ZNF211",
          null,
          "ZBTB7C",
          "ZBTB7C",
          null,
          "ATMIN",
          "ATMIN",
          null,
          "KMT2A",
          "KMT2A",
          null
         ],
         "xaxis": "x3",
         "y": [
          5.281907605386115,
          6.747815866880855,
          null,
          5.786963085910634,
          6.07569602398084,
          null,
          3.0880236017762295,
          3.6595806548326615,
          null,
          2.451355100806193,
          4.42028784401572,
          null,
          1.7258660996743338,
          2.4154596092393597,
          null,
          4.317280999111281,
          6.868087154599469,
          null,
          4.515564193924427,
          5.119428256765874,
          null,
          2.437505648584922,
          3.0797495967973743,
          null,
          0.020017989988941245,
          0.08773669318640746,
          null,
          3.1003678343138237,
          2.458409861813218,
          null,
          0.7539423801085985,
          4.850185895147367,
          null,
          3.3726152203706032,
          2.9657343165617087,
          null,
          1.4027944425768193,
          2.1256284892870023,
          null,
          1.6859663234052418,
          2.7712142073714547,
          null,
          6.279587282254565,
          7.482961201659141,
          null,
          4.354477674114094,
          3.6317027454898807,
          null,
          0.5343725364788088,
          2.490948901575701,
          null,
          4.778616379793847,
          5.030418364325327,
          null,
          4.945288236066746,
          5.202019570080699,
          null,
          3.213271453954954,
          3.9515789592673984,
          null,
          3.2004366986376676,
          3.7463093976570687,
          null,
          3.421878171812787,
          4.102712255625076,
          null,
          2.233953501447271,
          1.9995320851394534,
          null,
          7.028394953021562,
          5.649941340968266,
          null,
          1.492027441760614,
          2.683861954992803,
          null,
          3.957893811949315,
          3.8103525322476006,
          null,
          3.4575554630216745,
          3.628351212220599,
          null,
          3.200994427814863,
          6.693656985739954,
          null,
          6.762032174762246,
          8.05252182806556,
          null,
          1.9550108199518752,
          4.685239976312458,
          null,
          5.798242061983837,
          7.4743729312559095,
          null,
          2.464762122756042,
          2.7436573393062624,
          null,
          4.352108272454744,
          4.885694191550997,
          null,
          2.9228078651615466,
          3.6255803679506307,
          null,
          3.831250142332609,
          4.7057597711666865,
          null,
          3.093071102102871,
          4.533585012583145,
          null,
          7.513754364931879,
          7.247581202566524,
          null,
          3.876978732630735,
          3.3493528152065624,
          null,
          3.6833522038436572,
          6.09540459889158,
          null,
          4.4773530919478,
          5.159066814184949,
          null,
          5.041187641522351,
          4.034049051432777,
          null,
          4.397888926521843,
          4.069993641796584,
          null,
          0.48161149236332823,
          5.186723797870135,
          null,
          5.735883572045137,
          4.5429538781958225,
          null,
          4.567679252248917,
          5.283791279875232,
          null,
          4.799514672285262,
          6.707096924764336,
          null,
          4.791988336565872,
          4.5192781133866,
          null,
          3.6120442743361454,
          4.508442159868156,
          null,
          2.857141277151899,
          4.591358908326157,
          null,
          5.40278129879333,
          4.903428424519474,
          null,
          3.4487439587041937,
          4.824566353594813,
          null,
          6.104858390757966,
          6.771170146648583,
          null,
          4.562597167919371,
          5.200542858178928,
          null,
          4.736355076109662,
          5.971254939127996,
          null,
          6.501593407054695,
          5.908831439185647,
          null,
          2.496771066805671,
          3.790494511671663,
          null,
          3.499197741048146,
          5.656826849332479,
          null,
          4.658915034098464,
          4.058322656652347,
          null,
          3.7532411645278496,
          4.041435784794164,
          null,
          1.6558271686813786,
          4.118619786549715,
          null,
          6.260720062992596,
          10.24761081120281,
          null,
          4.683084625117355,
          4.335359265680159,
          null,
          3.33854885156559,
          4.846197623181475,
          null,
          4.0201790438676674,
          4.594575636326249,
          null,
          6.146939480690514,
          4.990803180930605,
          null,
          4.48709664563669,
          4.986682925597018,
          null,
          3.118061852761083,
          4.245839386170013,
          null,
          3.855298374745616,
          3.739887220241931,
          null,
          2.7483955108158207,
          3.0370032990057467,
          null,
          4.503528975361579,
          6.52401693036196,
          null,
          2.64158685227137,
          3.2930662761333203,
          null,
          3.87140082874071,
          5.506525662332917,
          null,
          6.2435705680805995,
          6.6891135588057065,
          null,
          5.185403199929956,
          5.8738763663554066,
          null,
          3.322990025953364,
          3.5242225323759677,
          null,
          2.0740505254011707,
          2.2231302774493815,
          null,
          3.64089748314856,
          4.176086629800554,
          null,
          4.488399183144161,
          4.32719969656026,
          null,
          3.804749982698737,
          4.500405555721584,
          null,
          4.155946282449985,
          4.444301400378584,
          null,
          4.532284768163033,
          4.7213500126382195,
          null,
          2.2697143421546215,
          3.3964066439256877,
          null,
          3.2644365247974827,
          5.766734011198941,
          null,
          2.6655509242511575,
          3.126136899691265,
          null,
          3.279969037818419,
          3.277139995296911,
          null,
          4.5065986864833905,
          4.69073331514323,
          null,
          3.601625738371882,
          5.160279457916499,
          null,
          6.97017568914097,
          6.749494313943174,
          null,
          5.085964033055715,
          5.774414220699667,
          null,
          6.438217447198169,
          4.050140800436531,
          null,
          5.583271919279168,
          6.260459319190697,
          null,
          2.0615140193985377,
          4.739740791850168,
          null,
          2.880593993543931,
          3.2771117261793523,
          null,
          3.0532605479316928,
          4.042388062458753,
          null,
          2.5423607709950664,
          3.404076393143578,
          null,
          1.3800009393343218,
          3.881790524821557,
          null,
          4.613332618364511,
          4.378289860402672,
          null,
          3.36920567970608,
          3.878844953096908,
          null
         ],
         "yaxis": "y3"
        },
        {
         "marker": {
          "color": "#00CC96",
          "size": 10
         },
         "mode": "markers",
         "name": "luminal_14",
         "showlegend": false,
         "type": "scatter",
         "x": [
          "JUN",
          "MYCL",
          "DOT1L",
          "SATB1",
          "REL",
          "EGR1",
          "ZNF524",
          "ZNF609",
          "BNC1",
          "ZBTB10",
          "OVOL1",
          "ELK4",
          "NFAT5",
          "TRERF1",
          "TGIF1",
          "HIVEP1",
          "HES2",
          "POGK",
          "CIC",
          "TMF1",
          "TEAD1",
          "ZNF552",
          "ZXDB",
          "REPIN1",
          "ZBTB21",
          "TCF20",
          "ANKZF1",
          "GRHL3",
          "JUNB",
          "JRK",
          "KLF5",
          "LCOR",
          "MBD6",
          "ZNF846",
          "ZBTB4",
          "RUNX1",
          "SLC2A4RG",
          "MAFG",
          "AHR",
          "MBD1",
          "ETV7",
          "SKI",
          "MSX2",
          "DBP",
          "STAT2",
          "ATF3",
          "SRF",
          "ETV3",
          "FOSL1",
          "ERF",
          "MAFK",
          "KLF6",
          "SP100",
          "ETS2",
          "FOXQ1",
          "EBF4",
          "NFATC4",
          "KLF16",
          "MECOM",
          "ZNF750",
          "ELF3",
          "MSANTD3",
          "BHLHE41",
          "ZNF513",
          "IRF6",
          "SPEN",
          "ZSCAN16",
          "CASZ1",
          "KLF4",
          "IRF9",
          "ZNF224",
          "IRF7",
          "PLSCR1",
          "PHF1",
          "ZNF335",
          "TP63",
          "SP110",
          "ELF4",
          "FBXL19",
          "ETS1",
          "SP1",
          "HIVEP2",
          "MAFF",
          "ZNF276",
          "ZNF586",
          "NFIL3",
          "BCL6",
          "STAT1",
          "SAFB2",
          "FOXJ3",
          "FOSL2",
          "HOXB6",
          "NR4A2",
          "ARID5B",
          "ZNF211",
          "ZBTB7C",
          "ATMIN",
          "KMT2A"
         ],
         "xaxis": "x3",
         "y": [
          5.281907605386115,
          5.786963085910634,
          3.0880236017762295,
          2.451355100806193,
          1.7258660996743338,
          4.317280999111281,
          4.515564193924427,
          2.437505648584922,
          0.020017989988941245,
          3.1003678343138237,
          0.7539423801085985,
          3.3726152203706032,
          1.4027944425768193,
          1.6859663234052418,
          6.279587282254565,
          4.354477674114094,
          0.5343725364788088,
          4.778616379793847,
          4.945288236066746,
          3.213271453954954,
          3.2004366986376676,
          3.421878171812787,
          2.233953501447271,
          7.028394953021562,
          1.492027441760614,
          3.957893811949315,
          3.4575554630216745,
          3.200994427814863,
          6.762032174762246,
          1.9550108199518752,
          5.798242061983837,
          2.464762122756042,
          4.352108272454744,
          2.9228078651615466,
          3.831250142332609,
          3.093071102102871,
          7.513754364931879,
          3.876978732630735,
          3.6833522038436572,
          4.4773530919478,
          5.041187641522351,
          4.397888926521843,
          0.48161149236332823,
          5.735883572045137,
          4.567679252248917,
          4.799514672285262,
          4.791988336565872,
          3.6120442743361454,
          2.857141277151899,
          5.40278129879333,
          3.4487439587041937,
          6.104858390757966,
          4.562597167919371,
          4.736355076109662,
          6.501593407054695,
          2.496771066805671,
          3.499197741048146,
          4.658915034098464,
          3.7532411645278496,
          1.6558271686813786,
          6.260720062992596,
          4.683084625117355,
          3.33854885156559,
          4.0201790438676674,
          6.146939480690514,
          4.48709664563669,
          3.118061852761083,
          3.855298374745616,
          2.7483955108158207,
          4.503528975361579,
          2.64158685227137,
          3.87140082874071,
          6.2435705680805995,
          5.185403199929956,
          3.322990025953364,
          2.0740505254011707,
          3.64089748314856,
          4.488399183144161,
          3.804749982698737,
          4.155946282449985,
          4.532284768163033,
          2.2697143421546215,
          3.2644365247974827,
          2.6655509242511575,
          3.279969037818419,
          4.5065986864833905,
          3.601625738371882,
          6.97017568914097,
          5.085964033055715,
          6.438217447198169,
          5.583271919279168,
          2.0615140193985377,
          2.880593993543931,
          3.0532605479316928,
          2.5423607709950664,
          1.3800009393343218,
          4.613332618364511,
          3.36920567970608
         ],
         "yaxis": "y3"
        },
        {
         "marker": {
          "color": "#AB63FA",
          "size": 10
         },
         "mode": "markers",
         "name": "lumInf_7",
         "showlegend": true,
         "type": "scatter",
         "x": [
          "JUN",
          "MYCL",
          "DOT1L",
          "SATB1",
          "REL",
          "EGR1",
          "ZNF524",
          "ZNF609",
          "BNC1",
          "ZBTB10",
          "OVOL1",
          "ELK4",
          "NFAT5",
          "TRERF1",
          "TGIF1",
          "HIVEP1",
          "HES2",
          "POGK",
          "CIC",
          "TMF1",
          "TEAD1",
          "ZNF552",
          "ZXDB",
          "REPIN1",
          "ZBTB21",
          "TCF20",
          "ANKZF1",
          "GRHL3",
          "JUNB",
          "JRK",
          "KLF5",
          "LCOR",
          "MBD6",
          "ZNF846",
          "ZBTB4",
          "RUNX1",
          "SLC2A4RG",
          "MAFG",
          "AHR",
          "MBD1",
          "ETV7",
          "SKI",
          "MSX2",
          "DBP",
          "STAT2",
          "ATF3",
          "SRF",
          "ETV3",
          "FOSL1",
          "ERF",
          "MAFK",
          "KLF6",
          "SP100",
          "ETS2",
          "FOXQ1",
          "EBF4",
          "NFATC4",
          "KLF16",
          "MECOM",
          "ZNF750",
          "ELF3",
          "MSANTD3",
          "BHLHE41",
          "ZNF513",
          "IRF6",
          "SPEN",
          "ZSCAN16",
          "CASZ1",
          "KLF4",
          "IRF9",
          "ZNF224",
          "IRF7",
          "PLSCR1",
          "PHF1",
          "ZNF335",
          "TP63",
          "SP110",
          "ELF4",
          "FBXL19",
          "ETS1",
          "SP1",
          "HIVEP2",
          "MAFF",
          "ZNF276",
          "ZNF586",
          "NFIL3",
          "BCL6",
          "STAT1",
          "SAFB2",
          "FOXJ3",
          "FOSL2",
          "HOXB6",
          "NR4A2",
          "ARID5B",
          "ZNF211",
          "ZBTB7C",
          "ATMIN",
          "KMT2A"
         ],
         "xaxis": "x3",
         "y": [
          6.747815866880855,
          6.07569602398084,
          3.6595806548326615,
          4.42028784401572,
          2.4154596092393597,
          6.868087154599469,
          5.119428256765874,
          3.0797495967973743,
          0.08773669318640746,
          2.458409861813218,
          4.850185895147367,
          2.9657343165617087,
          2.1256284892870023,
          2.7712142073714547,
          7.482961201659141,
          3.6317027454898807,
          2.490948901575701,
          5.030418364325327,
          5.202019570080699,
          3.9515789592673984,
          3.7463093976570687,
          4.102712255625076,
          1.9995320851394534,
          5.649941340968266,
          2.683861954992803,
          3.8103525322476006,
          3.628351212220599,
          6.693656985739954,
          8.05252182806556,
          4.685239976312458,
          7.4743729312559095,
          2.7436573393062624,
          4.885694191550997,
          3.6255803679506307,
          4.7057597711666865,
          4.533585012583145,
          7.247581202566524,
          3.3493528152065624,
          6.09540459889158,
          5.159066814184949,
          4.034049051432777,
          4.069993641796584,
          5.186723797870135,
          4.5429538781958225,
          5.283791279875232,
          6.707096924764336,
          4.5192781133866,
          4.508442159868156,
          4.591358908326157,
          4.903428424519474,
          4.824566353594813,
          6.771170146648583,
          5.200542858178928,
          5.971254939127996,
          5.908831439185647,
          3.790494511671663,
          5.656826849332479,
          4.058322656652347,
          4.041435784794164,
          4.118619786549715,
          10.24761081120281,
          4.335359265680159,
          4.846197623181475,
          4.594575636326249,
          4.990803180930605,
          4.986682925597018,
          4.245839386170013,
          3.739887220241931,
          3.0370032990057467,
          6.52401693036196,
          3.2930662761333203,
          5.506525662332917,
          6.6891135588057065,
          5.8738763663554066,
          3.5242225323759677,
          2.2231302774493815,
          4.176086629800554,
          4.32719969656026,
          4.500405555721584,
          4.444301400378584,
          4.7213500126382195,
          3.3964066439256877,
          5.766734011198941,
          3.126136899691265,
          3.277139995296911,
          4.69073331514323,
          5.160279457916499,
          6.749494313943174,
          5.774414220699667,
          4.050140800436531,
          6.260459319190697,
          4.739740791850168,
          3.2771117261793523,
          4.042388062458753,
          3.404076393143578,
          3.881790524821557,
          4.378289860402672,
          3.878844953096908
         ],
         "yaxis": "y3"
        }
       ],
       "layout": {
        "annotations": [
         {
          "font": {
           "size": 16
          },
          "showarrow": false,
          "text": "basal_10 vs basal_13",
          "x": 0.225,
          "xanchor": "center",
          "xref": "paper",
          "y": 1,
          "yanchor": "bottom",
          "yref": "paper"
         },
         {
          "font": {
           "size": 16
          },
          "showarrow": false,
          "text": "luminal_14 vs basal_10",
          "x": 0.775,
          "xanchor": "center",
          "xref": "paper",
          "y": 1,
          "yanchor": "bottom",
          "yref": "paper"
         },
         {
          "font": {
           "size": 16
          },
          "showarrow": false,
          "text": "luminal_14 vs lumInf_7",
          "x": 0.225,
          "xanchor": "center",
          "xref": "paper",
          "y": 0.4,
          "yanchor": "bottom",
          "yref": "paper"
         },
         {
          "ax": -10,
          "showarrow": true,
          "text": "JUNB",
          "x": "JUNB",
          "xanchor": "right",
          "xref": "x",
          "y": 8.389182036253223,
          "yref": "y"
         },
         {
          "ax": 10,
          "showarrow": true,
          "text": "JUN",
          "x": "JUN",
          "xanchor": "left",
          "xref": "x",
          "y": 7.035401002416721,
          "yref": "y"
         },
         {
          "ax": -10,
          "showarrow": true,
          "text": "KLF5",
          "x": "KLF5",
          "xanchor": "right",
          "xref": "x",
          "y": 7.130523666670248,
          "yref": "y"
         },
         {
          "ax": 10,
          "showarrow": true,
          "text": "EGR1",
          "x": "EGR1",
          "xanchor": "left",
          "xref": "x",
          "y": 7.008146243540483,
          "yref": "y"
         },
         {
          "ax": -10,
          "showarrow": true,
          "text": "ELF3",
          "x": "ELF3",
          "xanchor": "right",
          "xref": "x",
          "y": 7.993848769078648,
          "yref": "y"
         },
         {
          "ax": 10,
          "showarrow": true,
          "text": "STAT1",
          "x": "STAT1",
          "xanchor": "left",
          "xref": "x",
          "y": 8.020982550675908,
          "yref": "y"
         },
         {
          "ax": -10,
          "showarrow": true,
          "text": "ETS2",
          "x": "ETS2",
          "xanchor": "right",
          "xref": "x",
          "y": 7.174559520283466,
          "yref": "y"
         },
         {
          "ax": 10,
          "showarrow": true,
          "text": "HES2",
          "x": "HES2",
          "xanchor": "left",
          "xref": "x",
          "y": 5.24635861501425,
          "yref": "y"
         },
         {
          "ax": -10,
          "showarrow": true,
          "text": "TP63",
          "x": "TP63",
          "xanchor": "right",
          "xref": "x",
          "y": 5.873061400585656,
          "yref": "y"
         },
         {
          "ax": 10,
          "showarrow": true,
          "text": "IRF6",
          "x": "IRF6",
          "xanchor": "left",
          "xref": "x",
          "y": 6.907436656596269,
          "yref": "y"
         },
         {
          "ax": -10,
          "showarrow": true,
          "text": "JUNB",
          "x": "JUNB",
          "xanchor": "right",
          "xref": "x2",
          "y": 8.389182036253223,
          "yref": "y2"
         },
         {
          "ax": 10,
          "showarrow": true,
          "text": "ELF3",
          "x": "ELF3",
          "xanchor": "left",
          "xref": "x2",
          "y": 7.993848769078648,
          "yref": "y2"
         },
         {
          "ax": -10,
          "showarrow": true,
          "text": "STAT1",
          "x": "STAT1",
          "xanchor": "right",
          "xref": "x2",
          "y": 7.946397583261652,
          "yref": "y2"
         },
         {
          "ax": 10,
          "showarrow": true,
          "text": "ELF3",
          "x": "ELF3",
          "xanchor": "left",
          "xref": "x2",
          "y": 7.993848769078648,
          "yref": "y2"
         },
         {
          "ax": -10,
          "showarrow": true,
          "text": "EGR1",
          "x": "EGR1",
          "xanchor": "right",
          "xref": "x2",
          "y": 7.008146243540483,
          "yref": "y2"
         },
         {
          "ax": 10,
          "showarrow": true,
          "text": "ETS2",
          "x": "ETS2",
          "xanchor": "left",
          "xref": "x2",
          "y": 7.174559520283466,
          "yref": "y2"
         },
         {
          "ax": -10,
          "showarrow": true,
          "text": "JUN",
          "x": "JUN",
          "xanchor": "right",
          "xref": "x2",
          "y": 7.035401002416721,
          "yref": "y2"
         },
         {
          "ax": 10,
          "showarrow": true,
          "text": "MSX2",
          "x": "MSX2",
          "xanchor": "left",
          "xref": "x2",
          "y": 3.542228568322237,
          "yref": "y2"
         },
         {
          "ax": -10,
          "showarrow": true,
          "text": "OVOL1",
          "x": "OVOL1",
          "xanchor": "right",
          "xref": "x3",
          "y": 4.850185895147367,
          "yref": "y3"
         },
         {
          "ax": 10,
          "showarrow": true,
          "text": "ELF3",
          "x": "ELF3",
          "xanchor": "left",
          "xref": "x3",
          "y": 10.24761081120281,
          "yref": "y3"
         },
         {
          "ax": -10,
          "showarrow": true,
          "text": "MSX2",
          "x": "MSX2",
          "xanchor": "right",
          "xref": "x3",
          "y": 5.186723797870135,
          "yref": "y3"
         },
         {
          "ax": 10,
          "showarrow": true,
          "text": "ZNF750",
          "x": "ZNF750",
          "xanchor": "left",
          "xref": "x3",
          "y": 4.118619786549715,
          "yref": "y3"
         },
         {
          "ax": -10,
          "showarrow": true,
          "text": "GRHL3",
          "x": "GRHL3",
          "xanchor": "right",
          "xref": "x3",
          "y": 6.693656985739954,
          "yref": "y3"
         },
         {
          "ax": 10,
          "showarrow": true,
          "text": "HOXB6",
          "x": "HOXB6",
          "xanchor": "left",
          "xref": "x3",
          "y": 4.739740791850168,
          "yref": "y3"
         },
         {
          "ax": -10,
          "showarrow": true,
          "text": "AHR",
          "x": "AHR",
          "xanchor": "right",
          "xref": "x3",
          "y": 6.09540459889158,
          "yref": "y3"
         }
        ],
        "height": 900,
        "showlegend": true,
        "template": {
         "data": {
          "bar": [
           {
            "error_x": {
             "color": "#2a3f5f"
            },
            "error_y": {
             "color": "#2a3f5f"
            },
            "marker": {
             "line": {
              "color": "#E5ECF6",
              "width": 0.5
             },
             "pattern": {
              "fillmode": "overlay",
              "size": 10,
              "solidity": 0.2
             }
            },
            "type": "bar"
           }
          ],
          "barpolar": [
           {
            "marker": {
             "line": {
              "color": "#E5ECF6",
              "width": 0.5
             },
             "pattern": {
              "fillmode": "overlay",
              "size": 10,
              "solidity": 0.2
             }
            },
            "type": "barpolar"
           }
          ],
          "carpet": [
           {
            "aaxis": {
             "endlinecolor": "#2a3f5f",
             "gridcolor": "white",
             "linecolor": "white",
             "minorgridcolor": "white",
             "startlinecolor": "#2a3f5f"
            },
            "baxis": {
             "endlinecolor": "#2a3f5f",
             "gridcolor": "white",
             "linecolor": "white",
             "minorgridcolor": "white",
             "startlinecolor": "#2a3f5f"
            },
            "type": "carpet"
           }
          ],
          "choropleth": [
           {
            "colorbar": {
             "outlinewidth": 0,
             "ticks": ""
            },
            "type": "choropleth"
           }
          ],
          "contour": [
           {
            "colorbar": {
             "outlinewidth": 0,
             "ticks": ""
            },
            "colorscale": [
             [
              0,
              "#0d0887"
             ],
             [
              0.1111111111111111,
              "#46039f"
             ],
             [
              0.2222222222222222,
              "#7201a8"
             ],
             [
              0.3333333333333333,
              "#9c179e"
             ],
             [
              0.4444444444444444,
              "#bd3786"
             ],
             [
              0.5555555555555556,
              "#d8576b"
             ],
             [
              0.6666666666666666,
              "#ed7953"
             ],
             [
              0.7777777777777778,
              "#fb9f3a"
             ],
             [
              0.8888888888888888,
              "#fdca26"
             ],
             [
              1,
              "#f0f921"
             ]
            ],
            "type": "contour"
           }
          ],
          "contourcarpet": [
           {
            "colorbar": {
             "outlinewidth": 0,
             "ticks": ""
            },
            "type": "contourcarpet"
           }
          ],
          "heatmap": [
           {
            "colorbar": {
             "outlinewidth": 0,
             "ticks": ""
            },
            "colorscale": [
             [
              0,
              "#0d0887"
             ],
             [
              0.1111111111111111,
              "#46039f"
             ],
             [
              0.2222222222222222,
              "#7201a8"
             ],
             [
              0.3333333333333333,
              "#9c179e"
             ],
             [
              0.4444444444444444,
              "#bd3786"
             ],
             [
              0.5555555555555556,
              "#d8576b"
             ],
             [
              0.6666666666666666,
              "#ed7953"
             ],
             [
              0.7777777777777778,
              "#fb9f3a"
             ],
             [
              0.8888888888888888,
              "#fdca26"
             ],
             [
              1,
              "#f0f921"
             ]
            ],
            "type": "heatmap"
           }
          ],
          "heatmapgl": [
           {
            "colorbar": {
             "outlinewidth": 0,
             "ticks": ""
            },
            "colorscale": [
             [
              0,
              "#0d0887"
             ],
             [
              0.1111111111111111,
              "#46039f"
             ],
             [
              0.2222222222222222,
              "#7201a8"
             ],
             [
              0.3333333333333333,
              "#9c179e"
             ],
             [
              0.4444444444444444,
              "#bd3786"
             ],
             [
              0.5555555555555556,
              "#d8576b"
             ],
             [
              0.6666666666666666,
              "#ed7953"
             ],
             [
              0.7777777777777778,
              "#fb9f3a"
             ],
             [
              0.8888888888888888,
              "#fdca26"
             ],
             [
              1,
              "#f0f921"
             ]
            ],
            "type": "heatmapgl"
           }
          ],
          "histogram": [
           {
            "marker": {
             "pattern": {
              "fillmode": "overlay",
              "size": 10,
              "solidity": 0.2
             }
            },
            "type": "histogram"
           }
          ],
          "histogram2d": [
           {
            "colorbar": {
             "outlinewidth": 0,
             "ticks": ""
            },
            "colorscale": [
             [
              0,
              "#0d0887"
             ],
             [
              0.1111111111111111,
              "#46039f"
             ],
             [
              0.2222222222222222,
              "#7201a8"
             ],
             [
              0.3333333333333333,
              "#9c179e"
             ],
             [
              0.4444444444444444,
              "#bd3786"
             ],
             [
              0.5555555555555556,
              "#d8576b"
             ],
             [
              0.6666666666666666,
              "#ed7953"
             ],
             [
              0.7777777777777778,
              "#fb9f3a"
             ],
             [
              0.8888888888888888,
              "#fdca26"
             ],
             [
              1,
              "#f0f921"
             ]
            ],
            "type": "histogram2d"
           }
          ],
          "histogram2dcontour": [
           {
            "colorbar": {
             "outlinewidth": 0,
             "ticks": ""
            },
            "colorscale": [
             [
              0,
              "#0d0887"
             ],
             [
              0.1111111111111111,
              "#46039f"
             ],
             [
              0.2222222222222222,
              "#7201a8"
             ],
             [
              0.3333333333333333,
              "#9c179e"
             ],
             [
              0.4444444444444444,
              "#bd3786"
             ],
             [
              0.5555555555555556,
              "#d8576b"
             ],
             [
              0.6666666666666666,
              "#ed7953"
             ],
             [
              0.7777777777777778,
              "#fb9f3a"
             ],
             [
              0.8888888888888888,
              "#fdca26"
             ],
             [
              1,
              "#f0f921"
             ]
            ],
            "type": "histogram2dcontour"
           }
          ],
          "mesh3d": [
           {
            "colorbar": {
             "outlinewidth": 0,
             "ticks": ""
            },
            "type": "mesh3d"
           }
          ],
          "parcoords": [
           {
            "line": {
             "colorbar": {
              "outlinewidth": 0,
              "ticks": ""
             }
            },
            "type": "parcoords"
           }
          ],
          "pie": [
           {
            "automargin": true,
            "type": "pie"
           }
          ],
          "scatter": [
           {
            "fillpattern": {
             "fillmode": "overlay",
             "size": 10,
             "solidity": 0.2
            },
            "type": "scatter"
           }
          ],
          "scatter3d": [
           {
            "line": {
             "colorbar": {
              "outlinewidth": 0,
              "ticks": ""
             }
            },
            "marker": {
             "colorbar": {
              "outlinewidth": 0,
              "ticks": ""
             }
            },
            "type": "scatter3d"
           }
          ],
          "scattercarpet": [
           {
            "marker": {
             "colorbar": {
              "outlinewidth": 0,
              "ticks": ""
             }
            },
            "type": "scattercarpet"
           }
          ],
          "scattergeo": [
           {
            "marker": {
             "colorbar": {
              "outlinewidth": 0,
              "ticks": ""
             }
            },
            "type": "scattergeo"
           }
          ],
          "scattergl": [
           {
            "marker": {
             "colorbar": {
              "outlinewidth": 0,
              "ticks": ""
             }
            },
            "type": "scattergl"
           }
          ],
          "scattermapbox": [
           {
            "marker": {
             "colorbar": {
              "outlinewidth": 0,
              "ticks": ""
             }
            },
            "type": "scattermapbox"
           }
          ],
          "scatterpolar": [
           {
            "marker": {
             "colorbar": {
              "outlinewidth": 0,
              "ticks": ""
             }
            },
            "type": "scatterpolar"
           }
          ],
          "scatterpolargl": [
           {
            "marker": {
             "colorbar": {
              "outlinewidth": 0,
              "ticks": ""
             }
            },
            "type": "scatterpolargl"
           }
          ],
          "scatterternary": [
           {
            "marker": {
             "colorbar": {
              "outlinewidth": 0,
              "ticks": ""
             }
            },
            "type": "scatterternary"
           }
          ],
          "surface": [
           {
            "colorbar": {
             "outlinewidth": 0,
             "ticks": ""
            },
            "colorscale": [
             [
              0,
              "#0d0887"
             ],
             [
              0.1111111111111111,
              "#46039f"
             ],
             [
              0.2222222222222222,
              "#7201a8"
             ],
             [
              0.3333333333333333,
              "#9c179e"
             ],
             [
              0.4444444444444444,
              "#bd3786"
             ],
             [
              0.5555555555555556,
              "#d8576b"
             ],
             [
              0.6666666666666666,
              "#ed7953"
             ],
             [
              0.7777777777777778,
              "#fb9f3a"
             ],
             [
              0.8888888888888888,
              "#fdca26"
             ],
             [
              1,
              "#f0f921"
             ]
            ],
            "type": "surface"
           }
          ],
          "table": [
           {
            "cells": {
             "fill": {
              "color": "#EBF0F8"
             },
             "line": {
              "color": "white"
             }
            },
            "header": {
             "fill": {
              "color": "#C8D4E3"
             },
             "line": {
              "color": "white"
             }
            },
            "type": "table"
           }
          ]
         },
         "layout": {
          "annotationdefaults": {
           "arrowcolor": "#2a3f5f",
           "arrowhead": 0,
           "arrowwidth": 1
          },
          "autotypenumbers": "strict",
          "coloraxis": {
           "colorbar": {
            "outlinewidth": 0,
            "ticks": ""
           }
          },
          "colorscale": {
           "diverging": [
            [
             0,
             "#8e0152"
            ],
            [
             0.1,
             "#c51b7d"
            ],
            [
             0.2,
             "#de77ae"
            ],
            [
             0.3,
             "#f1b6da"
            ],
            [
             0.4,
             "#fde0ef"
            ],
            [
             0.5,
             "#f7f7f7"
            ],
            [
             0.6,
             "#e6f5d0"
            ],
            [
             0.7,
             "#b8e186"
            ],
            [
             0.8,
             "#7fbc41"
            ],
            [
             0.9,
             "#4d9221"
            ],
            [
             1,
             "#276419"
            ]
           ],
           "sequential": [
            [
             0,
             "#0d0887"
            ],
            [
             0.1111111111111111,
             "#46039f"
            ],
            [
             0.2222222222222222,
             "#7201a8"
            ],
            [
             0.3333333333333333,
             "#9c179e"
            ],
            [
             0.4444444444444444,
             "#bd3786"
            ],
            [
             0.5555555555555556,
             "#d8576b"
            ],
            [
             0.6666666666666666,
             "#ed7953"
            ],
            [
             0.7777777777777778,
             "#fb9f3a"
            ],
            [
             0.8888888888888888,
             "#fdca26"
            ],
            [
             1,
             "#f0f921"
            ]
           ],
           "sequentialminus": [
            [
             0,
             "#0d0887"
            ],
            [
             0.1111111111111111,
             "#46039f"
            ],
            [
             0.2222222222222222,
             "#7201a8"
            ],
            [
             0.3333333333333333,
             "#9c179e"
            ],
            [
             0.4444444444444444,
             "#bd3786"
            ],
            [
             0.5555555555555556,
             "#d8576b"
            ],
            [
             0.6666666666666666,
             "#ed7953"
            ],
            [
             0.7777777777777778,
             "#fb9f3a"
            ],
            [
             0.8888888888888888,
             "#fdca26"
            ],
            [
             1,
             "#f0f921"
            ]
           ]
          },
          "colorway": [
           "#636efa",
           "#EF553B",
           "#00cc96",
           "#ab63fa",
           "#FFA15A",
           "#19d3f3",
           "#FF6692",
           "#B6E880",
           "#FF97FF",
           "#FECB52"
          ],
          "font": {
           "color": "#2a3f5f"
          },
          "geo": {
           "bgcolor": "white",
           "lakecolor": "white",
           "landcolor": "#E5ECF6",
           "showlakes": true,
           "showland": true,
           "subunitcolor": "white"
          },
          "hoverlabel": {
           "align": "left"
          },
          "hovermode": "closest",
          "mapbox": {
           "style": "light"
          },
          "paper_bgcolor": "white",
          "plot_bgcolor": "#E5ECF6",
          "polar": {
           "angularaxis": {
            "gridcolor": "white",
            "linecolor": "white",
            "ticks": ""
           },
           "bgcolor": "#E5ECF6",
           "radialaxis": {
            "gridcolor": "white",
            "linecolor": "white",
            "ticks": ""
           }
          },
          "scene": {
           "xaxis": {
            "backgroundcolor": "#E5ECF6",
            "gridcolor": "white",
            "gridwidth": 2,
            "linecolor": "white",
            "showbackground": true,
            "ticks": "",
            "zerolinecolor": "white"
           },
           "yaxis": {
            "backgroundcolor": "#E5ECF6",
            "gridcolor": "white",
            "gridwidth": 2,
            "linecolor": "white",
            "showbackground": true,
            "ticks": "",
            "zerolinecolor": "white"
           },
           "zaxis": {
            "backgroundcolor": "#E5ECF6",
            "gridcolor": "white",
            "gridwidth": 2,
            "linecolor": "white",
            "showbackground": true,
            "ticks": "",
            "zerolinecolor": "white"
           }
          },
          "shapedefaults": {
           "line": {
            "color": "#2a3f5f"
           }
          },
          "ternary": {
           "aaxis": {
            "gridcolor": "white",
            "linecolor": "white",
            "ticks": ""
           },
           "baxis": {
            "gridcolor": "white",
            "linecolor": "white",
            "ticks": ""
           },
           "bgcolor": "#E5ECF6",
           "caxis": {
            "gridcolor": "white",
            "linecolor": "white",
            "ticks": ""
           }
          },
          "title": {
           "x": 0.05
          },
          "xaxis": {
           "automargin": true,
           "gridcolor": "white",
           "linecolor": "white",
           "ticks": "",
           "title": {
            "standoff": 15
           },
           "zerolinecolor": "white",
           "zerolinewidth": 2
          },
          "yaxis": {
           "automargin": true,
           "gridcolor": "white",
           "linecolor": "white",
           "ticks": "",
           "title": {
            "standoff": 15
           },
           "zerolinecolor": "white",
           "zerolinewidth": 2
          }
         }
        },
        "title": {
         "text": "Gene differences"
        },
        "xaxis": {
         "anchor": "y",
         "domain": [
          0,
          0.45
         ]
        },
        "xaxis2": {
         "anchor": "y2",
         "domain": [
          0.55,
          1
         ]
        },
        "xaxis3": {
         "anchor": "y3",
         "domain": [
          0,
          0.45
         ]
        },
        "xaxis4": {
         "anchor": "y4",
         "domain": [
          0.55,
          1
         ]
        },
        "yaxis": {
         "anchor": "x",
         "domain": [
          0.6000000000000001,
          1
         ]
        },
        "yaxis2": {
         "anchor": "x2",
         "domain": [
          0.6000000000000001,
          1
         ]
        },
        "yaxis3": {
         "anchor": "x3",
         "domain": [
          0,
          0.4
         ]
        },
        "yaxis4": {
         "anchor": "x4",
         "domain": [
          0,
          0.4
         ]
        }
       }
      }
     },
     "metadata": {},
     "output_type": "display_data"
    }
   ],
   "source": [
    "num_cols=2\n",
    "subplots_config = {\n",
    "    \"num_cols\": num_cols,\n",
    "    \"shared_x\": False,\n",
    "    \"shared_y\": False,\n",
    "    \"h_spacing\": 0.1,\n",
    "    \"v_spacing\": 0.2,\n",
    "    \"main_title\": \"Gene differences\",\n",
    "    \"height\": 900,\n",
    "    \"width\": None,\n",
    "    \"y_title\": None,\n",
    "    \"x_title\": None,\n",
    "    \"specs\": None,\n",
    "}\n",
    "\n",
    "figs, titles = [fig1, fig2, fig3], [title1, title2, title3]\n",
    "annotations = [ann1, ann2, ann3]\n",
    "\n",
    "# Defining the trace colors\n",
    "traces_names = [\"basal_10\", 'basal_13', \"luminal_14\", 'lumInf_7']\n",
    "trace_colors = {}\n",
    "for idx, name in enumerate(traces_names):\n",
    "     trace_colors[name] = px.colors.qualitative.Plotly[idx]\n",
    "\n",
    "# Making sure that we only display the traces once\n",
    "displayed_legends = set()\n",
    "for fig in figs:\n",
    "    for trace in fig.data:\n",
    "        if trace.name:\n",
    "            trace.update(marker=dict(color=trace_colors[trace.name]))\n",
    "\n",
    "            # Manage legend entries\n",
    "            if trace.name not in displayed_legends:\n",
    "                displayed_legends.add(trace.name)\n",
    "                trace.showlegend = True  # Show legend for this trace\n",
    "            else:\n",
    "                trace.showlegend = False  # Hide legend for this trace\n",
    "\n",
    "fig = gh.helper_multiplots(figs, titles, subplots_config)\n",
    "\n",
    "# Adding the annotations to the subtplots\n",
    "idx_row, idx_col = 1, 1\n",
    "for i, ann in enumerate(annotations):\n",
    "    for elem in ann:\n",
    "        fig.add_annotation(elem, row=idx_row, col=idx_col)\n",
    "    if idx_col % num_cols == 0:\n",
    "            idx_col = 0\n",
    "            idx_row += 1\n",
    "    idx_col += 1\n",
    "\n",
    "\n",
    "fig.update_layout(showlegend=True)\n",
    "\n",
    "# save_fig(name=\"p0_elbowMethod_4K\", fig=fig, base_path=figures_path, width=None, height=400)"
   ]
  },
  {
   "cell_type": "code",
   "execution_count": 251,
   "metadata": {},
   "outputs": [
    {
     "data": {
      "text/plain": [
       "'data'"
      ]
     },
     "execution_count": 251,
     "metadata": {},
     "output_type": "execute_result"
    }
   ],
   "source": [
    "fig"
   ]
  },
  {
   "cell_type": "markdown",
   "metadata": {},
   "source": [
    "### Single plot version"
   ]
  },
  {
   "cell_type": "code",
   "execution_count": null,
   "metadata": {},
   "outputs": [],
   "source": [
    "# Single scatter plot in plotly\n",
    "def plot_cluster_means(morp_df: pd.DataFrame, tum_df: pd.DataFrame, sel_tfs: pd.DataFrame, cls_1=\"\", cls_2=\"\", markers=[], log=False):\n",
    "\n",
    "    cluster_1, cluster_2 = int(cls_1.split(\"_\")[-1]), int(cls_2.split(\"_\")[-1])\n",
    "\n",
    "    samples_1 = morp_df[morp_df['dendrogram_cut'] == cluster_1].index\n",
    "    samples_2 = morp_df[morp_df['dendrogram_cut'] == cluster_2].index\n",
    "\n",
    "    # Reconstruct the TPM\n",
    "    dmy_df = tum_df.loc[tum_df.index.isin(sel_tfs.index)]\n",
    "    df_1 = dmy_df[samples_1]\n",
    "    df_1[cls_1] = df_1.mean(axis=1)\n",
    "\n",
    "    dmy_df = tum_df.loc[tum_df.index.isin(sel_tfs.index)]\n",
    "    df_2 = dmy_df[samples_2]\n",
    "    df_2[cls_2] = df_2.mean(axis=1)\n",
    "\n",
    "    comb_df = pd.concat([df_1[cls_1], df_2[cls_2]], axis=1)\n",
    "    fig = px.scatter(comb_df.reset_index(), x=cls_1, y=cls_2, hover_data='genes', title=f'{cls_1} vs {cls_2}', log_x=log, log_y=log, trendline='ols', trendline_color_override='red', trendline_options=dict(log_x=log, log_y=log))\n",
    "\n",
    "    for marker in markers:\n",
    "        dmy = comb_df.loc[marker]\n",
    "        x, y = dmy.values[0], dmy.values[1]\n",
    "        if log:\n",
    "            x, y = np.log10(x), np.log10(y)\n",
    "            \n",
    "        fig.add_annotation(\n",
    "            x=x,\n",
    "            y=y,\n",
    "            text=dmy.name,\n",
    "            showarrow=False,\n",
    "            xanchor=\"right\",\n",
    "        )\n",
    "    return fig, comb_df\n",
    "\n",
    "# Matplotlib functions - useful for multiplots\n",
    "def plot_cluster_means_2(ax, morp_df, tum_df, sel_tfs, cls_1=\"\", cls_2=\"\", markers=[], log=False):\n",
    "    cluster_1 = int(cls_1.split(\"_\")[-1])\n",
    "    cluster_2 = int(cls_2.split(\"_\")[-1])\n",
    "\n",
    "    samples_1 = morp_df[morp_df['dendrogram_cut'] == cluster_1].index\n",
    "    samples_2 = morp_df[morp_df['dendrogram_cut'] == cluster_2].index\n",
    "\n",
    "    # Reconstruct the TPM\n",
    "    dmy_df = tum_df.loc[tum_df.index.isin(sel_tfs.index)]\n",
    "    df_1 = dmy_df.loc[:, samples_1].mean(axis=1).rename(cls_1)\n",
    "    df_2 = dmy_df.loc[:, samples_2].mean(axis=1).rename(cls_2)\n",
    "\n",
    "    comb_df = pd.concat([df_1, df_2], axis=1)\n",
    "\n",
    "    # Plotting\n",
    "    x_values = comb_df[cls_1]\n",
    "    y_values = comb_df[cls_2]\n",
    "    \n",
    "    if log:\n",
    "        x_values = np.log10(x_values + 1)  # +1 to handle log(0) cases\n",
    "        y_values = np.log10(y_values + 1)\n",
    "        xlabel = f'Log10({cls_1})'\n",
    "        ylabel = f'Log10({cls_2})'\n",
    "        title = f'Log10-scaled: {cls_1} vs {cls_2}'\n",
    "    else:\n",
    "        xlabel = cls_1\n",
    "        ylabel = cls_2\n",
    "        title = f'{cls_1} vs {cls_2}'\n",
    "\n",
    "    ax.scatter(x_values, y_values)\n",
    "    ax.set_xlabel(xlabel)\n",
    "    ax.set_ylabel(ylabel)\n",
    "    ax.set_title(title)\n",
    "\n",
    "    # Adding trend line\n",
    "    z = np.polyfit(x_values, y_values, 1)  # Fit a first degree polynomial (linear fit)\n",
    "    p = np.poly1d(z)  # Create the polynomial object to evaluate\n",
    "    ax.plot(x_values, p(x_values), \"r--\")  # Plot the trend line\n",
    "\n",
    "    # Annotations\n",
    "    for marker in markers:\n",
    "        x = x_values.get(marker, None)\n",
    "        y = y_values.get(marker, None)\n",
    "        if x is not None and y is not None:\n",
    "            ax.annotate(marker, (x, y), textcoords=\"offset points\", xytext=(0,10), ha='center')\n",
    "\n",
    "    # Adding gridlines\n",
    "    ax.grid(True, linestyle='--', linewidth=0.5, alpha=0.7)\n",
    "\n",
    "# save_fig(name=\"test\", fig=fig, base_path=figures_path, width=1400, height=700)"
   ]
  },
  {
   "cell_type": "code",
   "execution_count": 107,
   "metadata": {},
   "outputs": [],
   "source": [
    "if 0:\n",
    "    cluster_1, label_1 = 9, 'basal'\n",
    "    cluster_2, label_2 = 7, 'luminf'\n",
    "    cls_1, cls_2 = f'{label_1}_{cluster_1}', f'{label_2}_{cluster_2}'\n",
    "\n",
    "    markers = ['TP63', 'HES2', 'MSX2', \"MYCL\", 'ZSCAN16', 'MAFF', \"IRF7\", 'IRF6', 'KLF5', \"ETS2\"]\n",
    "\n",
    "    dmy_df = sel_tfs.loc[~sel_tfs.index.isin([\"BNC1\"])]\n",
    "    fig, df = plot_cluster_means(morp_df=morp_df, tum_df=tum_tpms_v4, sel_tfs=dmy_df, cls_1=cls_2, cls_2=cls_1, markers=markers, log=True)\n",
    "    # fig.show()"
   ]
  },
  {
   "cell_type": "markdown",
   "metadata": {},
   "source": [
    "### Matplotlib version"
   ]
  },
  {
   "cell_type": "code",
   "execution_count": 105,
   "metadata": {},
   "outputs": [],
   "source": [
    "if 0:\n",
    "    fig, axs = plt.subplots(1, 2, figsize=(14, 6))  # 1 row, 2 columns\n",
    "\n",
    "    cluster_1, label_1 = 10, 'basal'\n",
    "    cluster_2, label_2 = 13, 'basal'\n",
    "    cls_1, cls_2 = f'{label_1}_{cluster_1}', f'{label_2}_{cluster_2}'\n",
    "    markers = [\"IRF6\", \"TP63\", \"GRHL3\", \"HES2\", 'BNC1', \"REL\", \"ZBTB7C\", \"STAT1\", \"ELF3\", \"JUNB\", \"ZNF750\", \"AHR\", \"MYCL\", 'REPIN1']\n",
    "    fig1, df = plot_cluster_means_2(axs[0], morp_df=morp_df, tum_df=tum_tpms_v4, sel_tfs=sel_tfs, cls_1=cls_1, cls_2=cls_2, markers=markers, log=True)\n",
    "\n",
    "    # Repeat for the second figure\n",
    "    cluster_1, cluster_2, label_1, label_2 = 10, 9, 'basal', 'basal'\n",
    "    cls_1, cls_2 = f'{label_1}_{cluster_1}', f'{label_2}_{cluster_2}'\n",
    "    markers = [\"MSX2\", \"ZBTB7C\", \"ELF3\", \"KLF5\", \"TP63\", \"MECOM\", 'NR4A2']\n",
    "    fig2, df = plot_cluster_means_2(axs[1], morp_df=morp_df, tum_df=tum_tpms_v4, sel_tfs=sel_tfs, cls_1=cls_1, cls_2=cls_2, markers=markers, log=True)\n"
   ]
  },
  {
   "cell_type": "markdown",
   "metadata": {},
   "source": [
    "# Plotting PCA"
   ]
  },
  {
   "cell_type": "code",
   "execution_count": null,
   "metadata": {},
   "outputs": [],
   "source": [
    "from sklearn.preprocessing import StandardScaler\n",
    "from sklearn.decomposition import PCA\n",
    "import matplotlib.pyplot as plt\n",
    "\n",
    "plot_data = tum_tpms_v4.loc[sel_tfs.index]\n",
    "plot_data = np.log2(plot_data + 1)\n",
    "\n",
    "\n",
    "scaler = StandardScaler()\n",
    "# X_scaled = scaler.fit_transform(data.T)\n",
    "\n",
    "pca = PCA(n_components=2)  # Focus on the first two principal components\n",
    "principal_components = pca.fit_transform(plot_data.T)\n",
    "\n",
    "# Loadings (contribution scores)\n",
    "loadings = pca.components_.T\n",
    "\n",
    "gene_names = plot_data.T.columns\n",
    "sel_genes = ['BNC1', \"ELF3\", \"TP63\", \"KLF5\", \"MYCL\", \"GRHL3\", 'STAT1', \"AHR\"]"
   ]
  },
  {
   "cell_type": "code",
   "execution_count": null,
   "metadata": {},
   "outputs": [],
   "source": [
    "plt.figure(figsize=(12, 6))\n",
    "plt.scatter(principal_components[:, 0], principal_components[:, 1], alpha=0.5, label='Samples')\n",
    "\n",
    "# Scaling factor for visibility\n",
    "scaling_factor = 30\n",
    "max_arrow_length = 0.1  # Adjust based on your loadings\n",
    "\n",
    "# gene_names should be your list of gene names\n",
    "for i, (loading1, loading2) in enumerate(loadings):\n",
    "\n",
    "    if gene_names[i] not in sel_genes:\n",
    "        continue\n",
    "\n",
    "    length = np.sqrt(loading1**2 + loading2**2)\n",
    "    if length > max_arrow_length:\n",
    "        plt.arrow(0, 0, loading1 * scaling_factor, loading2 * scaling_factor,\n",
    "                  color='r', head_width=0.05, head_length=0.1, alpha=0.5)\n",
    "        plt.text(loading1 * scaling_factor * 1.2, loading2 * scaling_factor * 1.2,\n",
    "                 gene_names[i], color='r', ha='center', va='center')\n",
    "        \n",
    "\n",
    "plt.xlabel('Principal Component 1')\n",
    "plt.ylabel('Principal Component 2')\n",
    "plt.title('PCA of Log2 Transformed Gene Data')\n",
    "plt.grid(True)\n",
    "# plt.axis('equal')\n",
    "plt.legend()\n",
    "plt.show()\n"
   ]
  }
 ],
 "metadata": {
  "kernelspec": {
   "display_name": "iNet_gt",
   "language": "python",
   "name": "python3"
  },
  "language_info": {
   "codemirror_mode": {
    "name": "ipython",
    "version": 3
   },
   "file_extension": ".py",
   "mimetype": "text/x-python",
   "name": "python",
   "nbconvert_exporter": "python",
   "pygments_lexer": "ipython3",
   "version": "3.11.8"
  }
 },
 "nbformat": 4,
 "nbformat_minor": 2
}
