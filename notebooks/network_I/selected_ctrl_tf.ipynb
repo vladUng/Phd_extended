{
 "cells": [
  {
   "cell_type": "markdown",
   "metadata": {},
   "source": [
    "# Motivation\n",
    "\n",
    "The role of this notebook is to explore the biological significance of the selected tf"
   ]
  },
  {
   "cell_type": "code",
   "execution_count": 1,
   "metadata": {},
   "outputs": [
    {
     "name": "stdout",
     "output_type": "stream",
     "text": [
      "The autoreload extension is already loaded. To reload it, use:\n",
      "  %reload_ext autoreload\n"
     ]
    }
   ],
   "source": [
    "%load_ext autoreload\n",
    "import pandas as pd\n",
    "import numpy as np\n",
    "import os\n",
    "import sys\n",
    "import igraph as ig\n",
    "\n",
    "import plotly.express as px\n",
    "\n",
    "\n",
    "import multiprocess as mp\n",
    "\n",
    "\n",
    "# own libraries\n",
    "SCRIPT_DIR = os.path.dirname(os.path.abspath(\"pcgna_processing.py\"))\n",
    "sys.path.append(os.path.dirname(SCRIPT_DIR))\n",
    "sys.path.append('/Users/vlad/Documents/Code/York/iNet_v2/src/')\n",
    "\n",
    "from NetworkAnalysis.ExperimentSet import ExperimentSet\n",
    "from NetworkAnalysis import GraphHelper as gh\n",
    "from NetworkAnalysis.utilities import clustering as cs\n",
    "from NetworkAnalysis.utilities import sankey_consensus_plot as sky\n",
    "from NetworkAnalysis.utilities.helpers import save_fig, survival_plot, survival_comp\n",
    "from NetworkAnalysis.GraphToolExp import GraphToolExperiment as GtExp\n",
    "sys.path.append(os.path.dirname(\"../../src\"))\n",
    "# Gsea libraries\n",
    "\n",
    "pool = mp.Pool(mp.cpu_count())"
   ]
  },
  {
   "cell_type": "code",
   "execution_count": 2,
   "metadata": {},
   "outputs": [],
   "source": [
    "results_path = \"../../results/exp/\"\n",
    "data_base = \"../../data/\"\n",
    "base_path = \"../../results/\"\n",
    "exp_folder_tumour = \"network_I/tum/\" # \"/integration_v2.1/ - path from iNET\n",
    "exp_folder_h42 = \"network_I/healthy42/\"\n",
    "exp_folder_h42_ctrl = \"network_I/healthyControls/\"\n",
    "\n",
    "figures_path = \"selective_edge_pruning/\"\n",
    "\n",
    "vu_output = pd.read_csv(f\"{data_base}/metadata/VU_clustering_v3.tsv\", sep=\"\\t\", index_col=\"Sample\")\n",
    "\n",
    "tcga_mutations_df = pd.read_csv(f\"{data_base}/tumour/mutations_tcga.csv\")\n",
    "tcga_mutations_df = tcga_mutations_df[tcga_mutations_df[\"count\"] != 0].set_index(\"gene\")\n",
    "\n",
    "tum_tpms = pd.read_csv(f\"{data_base}/tumour/TPMs_selected_genes_v3_13k_gc42.tsv\", sep=\"\\t\", index_col=\"genes\")\n",
    "tum_tpms_v4 = pd.read_csv(f\"{data_base}/tumour/tum_TPMs_selected_genes_gc42_all_v4.tsv\", sep=\"\\t\", index_col=\"genes\")\n",
    "\n",
    "# tf list\n",
    "tf_path = f\"{data_base}/metadata/TF_names_v_1.01.txt\"\n",
    "if os.path.exists(tf_path):\n",
    "    tf_list = np.genfromtxt(fname=tf_path, delimiter=\"\\t\", skip_header=1, dtype=\"str\")"
   ]
  },
  {
   "cell_type": "markdown",
   "metadata": {},
   "source": [
    "# Analysis"
   ]
  },
  {
   "cell_type": "markdown",
   "metadata": {},
   "source": [
    "## Gene expression visualisation"
   ]
  },
  {
   "cell_type": "code",
   "execution_count": 3,
   "metadata": {},
   "outputs": [],
   "source": [
    "sel_tfs = pd.read_csv(f'{data_base}/tf_ctrl.csv', index_col='gene')"
   ]
  },
  {
   "cell_type": "code",
   "execution_count": 4,
   "metadata": {},
   "outputs": [
    {
     "name": "stderr",
     "output_type": "stream",
     "text": [
      "/var/folders/wd/10ylrkx55m78njljcl21yt2c0000gn/T/ipykernel_5641/1516117249.py:40: RuntimeWarning:\n",
      "\n",
      "invalid value encountered in log10\n",
      "\n"
     ]
    }
   ],
   "source": [
    "# sel_tfs = sel_tfs[~sel_tfs.index.isin([\"ELF3\", \"JUNB\"])]\n",
    "fig = px.scatter(\n",
    "    sel_tfs.reset_index(),\n",
    "    x=\"tum_mean_expression\",\n",
    "    y=\"healthy_mean_expression\",\n",
    "    # error_x=\"tum_std_expression\",\n",
    "    # error_y=\"healthy_std_expression\",\n",
    "    # text=\"gene\",\n",
    "    color=\"mut_count\",\n",
    "    size=\"mut_count\",\n",
    "    hover_data=\"gene\",\n",
    "    height=700,\n",
    "    log_x=True,\n",
    "    log_y=True,\n",
    "\n",
    ")\n",
    "# Get the top 10 genes with highest healthy median expression\n",
    "top_genes_h = sel_tfs.nlargest(10, \"healthy_median_expression\").index.tolist()\n",
    "top_genes_t = sel_tfs.nlargest(10, \"tum_median_expression\").index.tolist()\n",
    "top_genes_m = sel_tfs.nlargest(10, \"mut_count\").index.tolist()\n",
    "\n",
    "top_genes = list(set(top_genes_h + top_genes_t + top_genes_m))\n",
    "top_genes.extend([\"FOSL1\", \"FOXQ1\", \"ERF\", \"MYCL\", \"STAT2\", \"IRF7\", \"CIC\", \"MBD6\", \"ZNF750\", \"ZNF513\"])\n",
    "chg_genes = [\"KMT2A\", \"SPEN\", \"MEDCOM\", \"ERF\", \"AHR\", \"STAT2\", \"MBD6\", \"ZNF513\", \"TRERF1\"]\n",
    "# Add text annotation for the top 10 genes\n",
    "for idx, gene in enumerate(top_genes):\n",
    "    x = sel_tfs.loc[sel_tfs.index == gene, \"tum_mean_expression\"].values[0]\n",
    "    y = sel_tfs.loc[sel_tfs.index == gene, \"healthy_mean_expression\"].values[0]\n",
    "    ay = -30\n",
    "    if idx % 2:\n",
    "        ax = 5\n",
    "    else:\n",
    "        ax = -5\n",
    "\n",
    "    if gene in chg_genes:\n",
    "        ax = -ax\n",
    "        ay = -ay\n",
    "\n",
    "    if True:\n",
    "        x, y, ax, ay = np.log10(x), np.log10(y), np.log10(ax), np.log10(ay)\n",
    "\n",
    "    fig.add_annotation(x=x, y=y, text=gene, showarrow=True, arrowhead=1, ax=ax, ay=ay)\n",
    "\n",
    "# fig"
   ]
  },
  {
   "cell_type": "markdown",
   "metadata": {},
   "source": [
    "## Comparing with known markers"
   ]
  },
  {
   "cell_type": "code",
   "execution_count": 5,
   "metadata": {},
   "outputs": [],
   "source": [
    "luminal_markers = [\"KRT20\", \"PPARG\", \"FOXA1\", \"GATA3\", \"SNX31\", \"UPK1A\", \"UPK2\", \"FGFR3\"]\n",
    "basal_markers = [\"CD44\", \"KRT6A\", \"KRT5\", \"KRT14\", \"COL17A1\"]\n",
    "squamos_markers = [\"DSC3\", \"GSDMC\", \"TCGM1\", \"PI3\", \"TP63\"]\n",
    "immune_markers = [\"CD274\", \"PDCD1LG2\", \"IDO1\", \"CXCL11\", \"L1CAM\", \"SAA1\"]\n",
    "neural_diff = [\"MSI1\", \"PLEKHG4B\", \"GNG4\", \"PEG10\", \"RND2\", \"APLP1\", \"SOX2\", \"TUBB2B\"]\n",
    "\n",
    "# TCGA markers - main paper\n",
    "emt_claudin = [\"ZEB1\", \"ZEB2\", \"SNAI1\", \"TWIST1\", \"CDH2\", \"CLDN3\", \"CLDN4\", \"CLDN7\"]\n",
    "ecm_muscle = [\"PGM5\", \"DES\", \"C7\", \"SFRP4\", \"COMP\", \"SGCD\"]\n",
    "\n",
    "tcga_markers = luminal_markers + basal_markers + squamos_markers + immune_markers + neural_diff + emt_claudin + ecm_muscle"
   ]
  },
  {
   "cell_type": "code",
   "execution_count": 6,
   "metadata": {},
   "outputs": [
    {
     "data": {
      "text/plain": [
       "{'TP63'}"
      ]
     },
     "execution_count": 6,
     "metadata": {},
     "output_type": "execute_result"
    }
   ],
   "source": [
    "set(sel_tfs.index) & set(tcga_markers)"
   ]
  },
  {
   "cell_type": "markdown",
   "metadata": {},
   "source": [
    "### Urothelium type markers"
   ]
  },
  {
   "cell_type": "code",
   "execution_count": 7,
   "metadata": {},
   "outputs": [],
   "source": [
    "tf_diff = [\"P63\", \"FOXA1\",\"PPARG\", \"RARG\", \"IRF1\", \"ELF3\", \"GRHL3\", \"KLF5\", \"GATA4\", \"GATA6\", \"GATA3\"]\n",
    "krt = [\"KRT13\", \"KRT14\", \"KRT15\", \"KRT20\"]\n",
    "upk = [\"UPK1B\", \"UPK1A\", \"UPK3A\", \"UPK2\"]\n",
    "cld = [\"CLDN3\", \"CLDN4\", \"CLDN5\" ]\n",
    "\n",
    "egfr_fam = [\"EGFR\", \"ERBB2\", \"ERBB3\", \"ERBB4\", \"EGF\", \"AREG\", \"HBEGF\",\"TGFA\",\"BTC\", \"EREG\"]\n",
    "fgfr_fam = [\"FGFR1\", \"FGFR2\", \"FGFR3\", \"FGF1\", \"FGF2\"]\n",
    "map_kpathway = [\"RAS\", \"RAF\", \"MEK1\", \"MEK2\", \"MEK3\", \"MEK4\",\"ERK\"]\n",
    "pi3_kpathway = [\"PIK3C3\", \"PIK3R2\", \"PIK3C2B\", \"AKT1\", \"AKT2\"]\n",
    "others = [\"MKI67\", \"MCM2\", \"UPK3A\", \"ZO1\", \"TJP1\", \"ZO2\", \"TJP2\", \"ZO3\", \"TJP3\"]\n",
    "hox_ur = [\"HOXB2\", \"HOXB3\", \"HOXB5\", \"HOXB6\", \"HOXB8\"]\n",
    "hox_bla = [\"HOXA9\", \"HOXA10\", \"HOXA11\", \"HOXA13\"]\n",
    "\n",
    "diff_markers = tf_diff + cld + krt + upk\n",
    "\n",
    "uro_markers = diff_markers + egfr_fam + fgfr_fam + map_kpathway + pi3_kpathway + others + hox_ur + hox_bla"
   ]
  },
  {
   "cell_type": "code",
   "execution_count": 8,
   "metadata": {},
   "outputs": [
    {
     "data": {
      "text/plain": [
       "{'ELF3', 'GRHL3', 'HOXB6', 'KLF5'}"
      ]
     },
     "execution_count": 8,
     "metadata": {},
     "output_type": "execute_result"
    }
   ],
   "source": [
    "set(sel_tfs.index) & set(uro_markers)"
   ]
  },
  {
   "cell_type": "markdown",
   "metadata": {},
   "source": [
    "### Lund type markers"
   ]
  },
  {
   "cell_type": "code",
   "execution_count": 9,
   "metadata": {},
   "outputs": [],
   "source": [
    "lund_qtc1 = [\"FLI1\", \"FOXP3\", \"ILKZF1\", \"IRF4\", \"IRF8\", \"RUNX3\", \"SCML4\", \"SPI1\", \"STAT4\", \"TBX21\", \"TFEC\"]\n",
    "lund_qtc2 = [\"AEBP1\", \"BNC2\", \"GLI2\", \"GLIS1\", \"HIC1\", \"MSC\", \"PPRX1\", \"PPRX2\", \"TGFB1I1\", \"TWIST1\"]\n",
    "lund_qtc3 = [\"EBF1\", \"HEYL\", \"LEF1\", \"MEF2C\", \"TCF4\", \"ZEB1\", \"ZEB2\"]\n",
    "lund_qtc8 = [\"GATA5\", \"HAND1\", \"HAND2\", \"KLF16\"]\n",
    "lund_qtc17 = [\"ARID5A\", \"BATF3\", \"VENTX\"]\n",
    "lund_ba_mes = lund_qtc1 + lund_qtc2 + lund_qtc3 + lund_qtc8 + lund_qtc17\n",
    "\n",
    "lund_ba_sq = [\"BRIP1\", \"E2F7\", \"FOXM1\", \"ZNF367\", \"IRF1\", \"SP110\", \"STAT1\"]\n",
    "lund_mes = [\"TP53\", \"RB1\", \"FGFR3\", \"ANKHD1\", \"VIM\", \"ZEB2\"]\n",
    "ba_sq_inf = [\"CDH3\", \"EGFR\"]\n",
    "\n",
    "lund_sc_ne = [\"CHGA\", \"SYP\", \"ENO2\", \"EPCAM\"] #Highly expressed\n",
    "\n",
    "lund_markers = lund_ba_mes + lund_ba_sq + lund_mes + ba_sq_inf + lund_sc_ne"
   ]
  },
  {
   "cell_type": "code",
   "execution_count": 10,
   "metadata": {},
   "outputs": [
    {
     "data": {
      "text/plain": [
       "{'KLF16', 'SP110', 'STAT1'}"
      ]
     },
     "execution_count": 10,
     "metadata": {},
     "output_type": "execute_result"
    }
   ],
   "source": [
    "set(sel_tfs.index) & set(lund_markers)"
   ]
  },
  {
   "cell_type": "markdown",
   "metadata": {},
   "source": [
    "### Immune markers"
   ]
  },
  {
   "cell_type": "code",
   "execution_count": 11,
   "metadata": {},
   "outputs": [],
   "source": [
    "b_cells = [\"BCL2\", \"BCL6\", \"CD19\", \"CD1D\", \"CD22\", \"CD24\", \"CD27\", \"CD274\",\"CD34\", \"CD38\", \"CD40\",\"CD44\",\"CD5\",\"CD53\",\"CD69\",\"CD72\", \"CD79A\", \"CD79B\", \"CD80\", \"CD86\", \"CD93\", \"CR2\", \"CXCR4\", 'CXCR5',\"FAS\",\"FCER2\", \"FCRL4\" \"HAVCR1\",\"IL10\", 'IL2RA','IL7R','IRF4','ITGAX', 'LILRB1','MME','MS4A1','NT5E','PDCD1LG2','PRDM1','PTPRC','SDC1','SPN','TFRC','TLR9','TNFRSF13B','TNFRSF13C','TNFRSF17','XBP1']\n",
    "t_cells = ['CD4', 'CD8', 'CCR4', 'CCR5', 'CCR6', 'CCR7', 'CCR10', 'CD127', 'CD27', 'CD28', 'CD38', 'CD58', 'CD69', 'CTLA4', 'CXCR3', 'FAS', 'IL2RA',\n",
    "        'IL2RB', 'ITGAE', 'ITGAL', 'KLRB1', 'NCAM1', 'PECAM1', 'PTGDR2', 'SELL', 'IFNG', 'IL10', 'IL13', 'IL17A', 'IL2', 'IL21','IL22', 'IL25', 'IL26', 'IL4', 'IL5', 'IL9', 'TGFB1', 'TNF', 'AHR', 'EOMES','FOXO4', 'FOXP1', 'FOXP3', 'GATA3','IRF4', 'LEF1', 'PRDM1', 'RORC','STAT4', 'TBX21','TCF7', 'GZMA']\n",
    "\n",
    "nk_cells = ['B3GAT1','CCR7','CD16','CD2','CD226','CD244','CD27','CD300A','CD34','CD58','CD59','CD69','CSF2','CX3CR1','CXCR1','CXCR3','CXCR4','EOMES','GZMB','ICAM1','IFNG','IL1R1','IL22','IL2RB','IL7R','ITGA1','Itga2','ITGAL','ITGAM','ITGB2','KIR2DL1','KIR2DL2','KIT','Klrb1c','KLRC1','KLRC2','KLRD1','KLRF1','KLRG1','KLRK1','LILRB1','Klra4','Klra8','NCAM1','NCR1','NCR2','NCR3','PRF1','SELL','SIGLEC7','SLAMF6','SPN','TBX21','TNF']\n",
    "\n",
    "macrophages_cells = [ 'ADGRE1','CCR2','CD14','CD68','CSF1R','Ly6c1','MARCO','MRC1','NOS2','PPARG','SIGLEC1','TLR2','ARG1','CD163','CD200R1','CD80','CD86','CLEC10A','CLEC7A','CSF2','CX3CR1','FCGR1A','ITGAM','MERTK','PDCD1LG2','Retnla','TNF','CCL22','CD36','CD40','IL10','IL1B','IL6','LGALS3','TLR4','CCL2','CCR5','CD209','CD63','CD86','CSF1','CXCL2','FCGR3A','IFNG','IL4','IRF4','ITGAX','MSR1','PDGFB','PTPRC','STAT6','TIMD4','Chil3','CLEC6A','IL1R1','ITGB2','PDCD1LG2','TLR7']\n",
    "\n",
    "monocyte_cells = ['CD14','CD16','CSF1R','CX3CR1','ITGAM','ITGAX','LY6C1','CCR2','CXCR4','FCGR1A','SELL','SPN','ADGRE1','CCR7','TNF','CD86','IL10','IL1B','MERTK','TREML4','CD209','NR4A1','Ly6a','PTPRC','IL3RA','CD27','CCR5','CD32','CD1A','MRC1','ITGB3','CD9','CXCR6','CCR1','FLT3','KLF2','CLEC12A','CCR6','CCR8','CD68','CLEC7A','KIT','MAF','MAFB','SPI1','CD1C','PPARG','CEBPB','ITGAE','TEK']\n",
    "\n",
    "\n",
    "immune_markers = b_cells + t_cells + nk_cells + macrophages_cells + monocyte_cells"
   ]
  },
  {
   "cell_type": "code",
   "execution_count": 12,
   "metadata": {},
   "outputs": [
    {
     "data": {
      "text/plain": [
       "{'AHR', 'BCL6'}"
      ]
     },
     "execution_count": 12,
     "metadata": {},
     "output_type": "execute_result"
    }
   ],
   "source": [
    "set(sel_tfs.index) & set(immune_markers)"
   ]
  },
  {
   "cell_type": "markdown",
   "metadata": {},
   "source": [
    "## Apply clustering"
   ]
  },
  {
   "cell_type": "code",
   "execution_count": 13,
   "metadata": {},
   "outputs": [
    {
     "name": "stdout",
     "output_type": "stream",
     "text": [
      "Sum of 90% variance at PC: 15\n",
      "Change < 1% at PC: 5\n"
     ]
    }
   ],
   "source": [
    "plot_data = tum_tpms_v4.loc[sel_tfs.index]\n",
    "plot_data = np.log2(plot_data + 1)\n",
    "\n",
    "gh.find_pcs((plot_data))"
   ]
  },
  {
   "cell_type": "code",
   "execution_count": 14,
   "metadata": {},
   "outputs": [
    {
     "name": "stdout",
     "output_type": "stream",
     "text": [
      "Variation per principal component [0.63955238 0.09883797] and the sum 73.84%\n"
     ]
    }
   ],
   "source": [
    "selected_clusters = [\"Birch\", \"RawKMeans\", \"GaussianMixture\", \"Ward\", \"SpectralClustering\", \"Avg\"]\n",
    "\n",
    "# run experiments\n",
    "outputs, _, all_metrics, _ = cs.compare_exp(\n",
    "    plot_data, rob_comp=None, n_clusters=None, selected_clusters=selected_clusters, show_figures=False, show_consensus=True, pca_data=False, n_comp=15,\n",
    ")\n",
    "outputs.set_index(\"Sample\", inplace=True)\n",
    "\n",
    "show_figs=False\n",
    "if show_figs:\n",
    "    # Plot the metrics\n",
    "    fig = cs.display_metrics(all_metrics, f\"Cluster metrics for Selected TF\", show_individual=False, verbose=True)\n",
    "    gh.plot_individual_metric(all_metrics, pca=False, offset_db=4)"
   ]
  },
  {
   "cell_type": "markdown",
   "metadata": {},
   "source": [
    "# Morpheus\n",
    "\n",
    "## Prepare for Morpheus\n",
    "Outliers for standard log2 TPMS and norm of log, after applying agglomerative clustering with 1-pearson correlation.\n",
    "\n",
    "```Python\n",
    "outliers_log2 = ['TCGA-C4-A0EZ', 'TCGA-DK-AA6W', 'TCGA-G2-A2EL', 'TCGA-BL-A3JM', 'TCGA-XF-A9T2', 'TCGA-XF-AAMH', 'TCGA-XF-A9ST', 'TCGA-GC-A4ZW', 'TCGA-HQ-A2OF', 'TCGA-DK-AA6T', 'TCGA-BT-A2LA', 'TCGA-XF-AAN7', 'TCGA-FJ-A871', 'TCGA-CF-A3MF']\n",
    "```\n",
    "\n",
    "```Python\n",
    "norm_outliers = ['TCGA-2F-A9KW', 'TCGA-XF-A9ST', 'TCGA-BL-A3JM', 'TCGA-XF-A9T2', 'TCGA-XF-AAMH', 'TCGA-DK-AA6T', 'TCGA-BT-A2LA', 'TCGA-XF-AAN7', 'TCGA-FJ-A871', 'TCGA-C4-A0EZ', 'TCGA-DK-AA6W', 'TCGA-G2-A2EL']\n",
    "```\n",
    "\n",
    "<!-- ![alt text](selective_edge_pruning/sel_tf_log2.png)\n",
    "![alt text](selective_edge_pruning/sel_tf_norm_log2.png) -->\n",
    "\n"
   ]
  },
  {
   "cell_type": "code",
   "execution_count": 15,
   "metadata": {},
   "outputs": [
    {
     "name": "stdout",
     "output_type": "stream",
     "text": [
      "### Num outliers for standard log2 14.\n",
      " --> ['TCGA-C4-A0EZ', 'TCGA-DK-AA6W', 'TCGA-G2-A2EL', 'TCGA-BL-A3JM', 'TCGA-XF-A9T2', 'TCGA-XF-AAMH', 'TCGA-XF-A9ST', 'TCGA-GC-A4ZW', 'TCGA-HQ-A2OF', 'TCGA-DK-AA6T', 'TCGA-BT-A2LA', 'TCGA-XF-AAN7', 'TCGA-FJ-A871', 'TCGA-CF-A3MF']\n",
      "### Num outliers for norm log2 14.\n",
      " --> ['TCGA-C4-A0EZ', 'TCGA-DK-AA6W', 'TCGA-G2-A2EL', 'TCGA-BL-A3JM', 'TCGA-XF-A9T2', 'TCGA-XF-AAMH', 'TCGA-XF-A9ST', 'TCGA-GC-A4ZW', 'TCGA-HQ-A2OF', 'TCGA-DK-AA6T', 'TCGA-BT-A2LA', 'TCGA-XF-AAN7', 'TCGA-FJ-A871', 'TCGA-CF-A3MF']\n",
      "### Common outliers *11*.\n",
      " --> {'TCGA-BL-A3JM', 'TCGA-DK-AA6T', 'TCGA-XF-A9ST', 'TCGA-BT-A2LA', 'TCGA-XF-AAMH', 'TCGA-XF-A9T2', 'TCGA-XF-AAN7', 'TCGA-FJ-A871', 'TCGA-DK-AA6W', 'TCGA-C4-A0EZ', 'TCGA-G2-A2EL'}\n"
     ]
    }
   ],
   "source": [
    "outliers_log2 = ['TCGA-C4-A0EZ', 'TCGA-DK-AA6W', 'TCGA-G2-A2EL', 'TCGA-BL-A3JM', 'TCGA-XF-A9T2', 'TCGA-XF-AAMH', 'TCGA-XF-A9ST', 'TCGA-GC-A4ZW', 'TCGA-HQ-A2OF', 'TCGA-DK-AA6T', 'TCGA-BT-A2LA', 'TCGA-XF-AAN7', 'TCGA-FJ-A871', 'TCGA-CF-A3MF']\n",
    "\n",
    "norm_outliers = ['TCGA-2F-A9KW', 'TCGA-XF-A9ST', 'TCGA-BL-A3JM', 'TCGA-XF-A9T2', 'TCGA-XF-AAMH', 'TCGA-DK-AA6T', 'TCGA-BT-A2LA', 'TCGA-XF-AAN7', 'TCGA-FJ-A871', 'TCGA-C4-A0EZ', 'TCGA-DK-AA6W', 'TCGA-G2-A2EL']\n",
    "\n",
    "cmn_outliars = set(outliers_log2) & set(norm_outliers)\n",
    "\n",
    "print(f\"### Num outliers for standard log2 {len(outliers_log2)}.\\n --> {outliers_log2}\")\n",
    "print(f\"### Num outliers for norm log2 {len(outliers_log2)}.\\n --> {outliers_log2}\")\n",
    "print(f\"### Common outliers *{len(cmn_outliars)}*.\\n --> {cmn_outliars}\")"
   ]
  },
  {
   "cell_type": "code",
   "execution_count": 16,
   "metadata": {},
   "outputs": [
    {
     "name": "stderr",
     "output_type": "stream",
     "text": [
      "/var/folders/wd/10ylrkx55m78njljcl21yt2c0000gn/T/ipykernel_5641/557840676.py:11: PerformanceWarning:\n",
      "\n",
      "DataFrame is highly fragmented.  This is usually the result of calling `frame.insert` many times, which has poor performance.  Consider joining all columns at once using pd.concat(axis=1) instead. To get a de-fragmented frame, use `newframe = frame.copy()`\n",
      "\n"
     ]
    }
   ],
   "source": [
    "dmy_df = tum_tpms_v4.loc[sel_tfs.index]\n",
    "dmy_df = np.log2(dmy_df + 1)\n",
    "\n",
    "sel_metadata = ['KMeans_labels_6', 'consensus', 'TCGA408_classifier', 'Lund2017.subtype', 'ESTIMATE_score', \"Immune_score\", \"Stromal_score\", 'tumor_stage']\n",
    "dmy_df = pd.concat([vu_output[sel_metadata].T, dmy_df], axis=0).dropna(axis=1)\n",
    "\n",
    "# Remove outliers\n",
    "dmy_df = dmy_df[list(set(dmy_df.columns) - set(cmn_outliars))]\n",
    "\n",
    "# Adding notes on the genes\n",
    "dmy_df['Notes'] = ''\n",
    "dmy_df.loc[dmy_df.index.isin(lund_markers), \"Notes\"] = 'Lund marker'\n",
    "dmy_df.loc[dmy_df.index.isin(immune_markers), \"Notes\"] = 'Immune marker'\n",
    "dmy_df.loc[dmy_df.index.isin(uro_markers), \"Notes\"] = 'Uro markers'\n",
    "dmy_df.loc[dmy_df.index.isin(tcga_markers), \"Notes\"] = 'TCGA markers'\n",
    "\n",
    "dmy_df = dmy_df[['Notes'] + list(dmy_df.columns[:-1])]\n",
    "dmy_df.to_csv(f\"{figures_path}/log2_sel_tfs_no_outliers.tsv\", sep='\\t')"
   ]
  },
  {
   "cell_type": "markdown",
   "metadata": {},
   "source": [
    "## Importing Morpheus"
   ]
  },
  {
   "cell_type": "code",
   "execution_count": 67,
   "metadata": {},
   "outputs": [],
   "source": [
    "morpheus_path = f\"{figures_path}/morpheus/\"\n",
    "\n",
    "morp_df = pd.read_csv(f\"{morpheus_path}/15_CS_norm_log2_sel_tfs_no_outliers.gct\", sep=\"\\t\", skiprows=2)\n",
    "columns = morp_df[\"id\"]\n",
    "morp_df = morp_df.drop(columns=[\"Notes\"]).transpose()\n",
    "morp_df.columns = columns\n",
    "morp_df = morp_df.iloc[2:, :]\n",
    "\n",
    "morp_df['dendrogram_cut'] = morp_df['dendrogram_cut'].astype(float).astype(str)"
   ]
  },
  {
   "cell_type": "code",
   "execution_count": 70,
   "metadata": {},
   "outputs": [
    {
     "data": {
      "application/vnd.plotly.v1+json": {
       "config": {
        "plotlyServerURL": "https://plot.ly"
       },
       "data": [
        {
         "arrangement": "perpendicular",
         "link": {
          "color": "#bdbdbd",
          "source": [
           0,
           0,
           0,
           0,
           0,
           0,
           0,
           0,
           0,
           1,
           1,
           1,
           2,
           2,
           3,
           3,
           3,
           3,
           3,
           3,
           3,
           3,
           3,
           3,
           4,
           4,
           4,
           4,
           4,
           4,
           5,
           6,
           7,
           7,
           8,
           8,
           8,
           8,
           8,
           8,
           9,
           9,
           9,
           9,
           9,
           9,
           9,
           9,
           9,
           10,
           11,
           12,
           13,
           13,
           13,
           13,
           13,
           14,
           14,
           14,
           14,
           14,
           14,
           14,
           14,
           15,
           15,
           15,
           15,
           16,
           17,
           17,
           18,
           19,
           19
          ],
          "target": [
           5,
           7,
           8,
           9,
           12,
           13,
           14,
           15,
           17,
           8,
           9,
           14,
           9,
           16,
           6,
           7,
           8,
           9,
           10,
           11,
           14,
           15,
           18,
           19,
           8,
           9,
           13,
           14,
           17,
           19,
           21,
           22,
           27,
           28,
           22,
           23,
           24,
           25,
           26,
           29,
           20,
           21,
           22,
           23,
           24,
           26,
           27,
           28,
           29,
           27,
           27,
           25,
           20,
           21,
           23,
           24,
           25,
           20,
           21,
           23,
           24,
           26,
           27,
           28,
           29,
           20,
           21,
           25,
           28,
           23,
           20,
           24,
           27,
           22,
           25
          ],
          "value": [
           1,
           1,
           2,
           6,
           2,
           28,
           82,
           17,
           1,
           17,
           51,
           8,
           24,
           1,
           1,
           1,
           11,
           120,
           1,
           1,
           1,
           3,
           1,
           1,
           4,
           1,
           2,
           1,
           1,
           1,
           1,
           1,
           1,
           1,
           14,
           15,
           1,
           2,
           1,
           1,
           2,
           4,
           15,
           2,
           5,
           26,
           86,
           10,
           52,
           1,
           1,
           2,
           1,
           4,
           6,
           18,
           1,
           41,
           33,
           2,
           5,
           3,
           4,
           3,
           1,
           8,
           2,
           1,
           9,
           1,
           1,
           1,
           1,
           1,
           1
          ]
         },
         "node": {
          "color": [
           "rgb(229, 134, 6)",
           "rgb(229, 134, 6)",
           "rgb(229, 134, 6)",
           "rgb(229, 134, 6)",
           "rgb(229, 134, 6)",
           "rgb(93, 105, 177)",
           "rgb(93, 105, 177)",
           "rgb(93, 105, 177)",
           "rgb(93, 105, 177)",
           "rgb(93, 105, 177)",
           "rgb(93, 105, 177)",
           "rgb(93, 105, 177)",
           "rgb(93, 105, 177)",
           "rgb(93, 105, 177)",
           "rgb(93, 105, 177)",
           "rgb(93, 105, 177)",
           "rgb(93, 105, 177)",
           "rgb(93, 105, 177)",
           "rgb(93, 105, 177)",
           "rgb(93, 105, 177)",
           "rgb(82, 188, 163)",
           "rgb(82, 188, 163)",
           "rgb(82, 188, 163)",
           "rgb(82, 188, 163)",
           "rgb(82, 188, 163)",
           "rgb(82, 188, 163)",
           "rgb(82, 188, 163)",
           "rgb(82, 188, 163)",
           "rgb(82, 188, 163)",
           "rgb(82, 188, 163)"
          ],
          "label": [
           "Ba/Sq",
           "LumInf",
           "LumNS",
           "LumP",
           "NE-like",
           "1.0",
           "10.0",
           "11.0",
           "12.0",
           "13.0",
           "14.0",
           "15.0",
           "2.0",
           "3.0",
           "4.0",
           "5.0",
           "6.0",
           "7.0",
           "8.0",
           "9.0",
           "Ba/Sq",
           "Ba/Sq-Inf",
           "GU",
           "GU-Inf",
           "Mes-like",
           "Sc/NE-like",
           "Uro-Inf",
           "UroA-Prog",
           "UroB",
           "UroC"
          ],
          "line": {
           "color": "black",
           "width": 0.5
          },
          "pad": 15,
          "thickness": 20
         },
         "type": "sankey"
        }
       ],
       "layout": {
        "annotations": [
         {
          "align": "left",
          "font": {
           "color": "#003366",
           "size": 16
          },
          "showarrow": false,
          "text": "TCGA408_classifier",
          "x": 0,
          "xref": "x",
          "y": 1.07,
          "yref": "paper"
         },
         {
          "align": "left",
          "font": {
           "color": "#003366",
           "size": 16
          },
          "showarrow": false,
          "text": "dendrogram_cut",
          "x": 1,
          "xref": "x",
          "y": 1.07,
          "yref": "paper"
         },
         {
          "align": "left",
          "font": {
           "color": "#003366",
           "size": 16
          },
          "showarrow": false,
          "text": "Lund2017.subtype",
          "x": 2,
          "xref": "x",
          "y": 1.07,
          "yref": "paper"
         }
        ],
        "font": {
         "color": "#003366",
         "size": 16
        },
        "height": 700,
        "plot_bgcolor": "rgba(0,0,0,0)",
        "template": {
         "data": {
          "bar": [
           {
            "error_x": {
             "color": "#2a3f5f"
            },
            "error_y": {
             "color": "#2a3f5f"
            },
            "marker": {
             "line": {
              "color": "#E5ECF6",
              "width": 0.5
             },
             "pattern": {
              "fillmode": "overlay",
              "size": 10,
              "solidity": 0.2
             }
            },
            "type": "bar"
           }
          ],
          "barpolar": [
           {
            "marker": {
             "line": {
              "color": "#E5ECF6",
              "width": 0.5
             },
             "pattern": {
              "fillmode": "overlay",
              "size": 10,
              "solidity": 0.2
             }
            },
            "type": "barpolar"
           }
          ],
          "carpet": [
           {
            "aaxis": {
             "endlinecolor": "#2a3f5f",
             "gridcolor": "white",
             "linecolor": "white",
             "minorgridcolor": "white",
             "startlinecolor": "#2a3f5f"
            },
            "baxis": {
             "endlinecolor": "#2a3f5f",
             "gridcolor": "white",
             "linecolor": "white",
             "minorgridcolor": "white",
             "startlinecolor": "#2a3f5f"
            },
            "type": "carpet"
           }
          ],
          "choropleth": [
           {
            "colorbar": {
             "outlinewidth": 0,
             "ticks": ""
            },
            "type": "choropleth"
           }
          ],
          "contour": [
           {
            "colorbar": {
             "outlinewidth": 0,
             "ticks": ""
            },
            "colorscale": [
             [
              0,
              "#0d0887"
             ],
             [
              0.1111111111111111,
              "#46039f"
             ],
             [
              0.2222222222222222,
              "#7201a8"
             ],
             [
              0.3333333333333333,
              "#9c179e"
             ],
             [
              0.4444444444444444,
              "#bd3786"
             ],
             [
              0.5555555555555556,
              "#d8576b"
             ],
             [
              0.6666666666666666,
              "#ed7953"
             ],
             [
              0.7777777777777778,
              "#fb9f3a"
             ],
             [
              0.8888888888888888,
              "#fdca26"
             ],
             [
              1,
              "#f0f921"
             ]
            ],
            "type": "contour"
           }
          ],
          "contourcarpet": [
           {
            "colorbar": {
             "outlinewidth": 0,
             "ticks": ""
            },
            "type": "contourcarpet"
           }
          ],
          "heatmap": [
           {
            "colorbar": {
             "outlinewidth": 0,
             "ticks": ""
            },
            "colorscale": [
             [
              0,
              "#0d0887"
             ],
             [
              0.1111111111111111,
              "#46039f"
             ],
             [
              0.2222222222222222,
              "#7201a8"
             ],
             [
              0.3333333333333333,
              "#9c179e"
             ],
             [
              0.4444444444444444,
              "#bd3786"
             ],
             [
              0.5555555555555556,
              "#d8576b"
             ],
             [
              0.6666666666666666,
              "#ed7953"
             ],
             [
              0.7777777777777778,
              "#fb9f3a"
             ],
             [
              0.8888888888888888,
              "#fdca26"
             ],
             [
              1,
              "#f0f921"
             ]
            ],
            "type": "heatmap"
           }
          ],
          "heatmapgl": [
           {
            "colorbar": {
             "outlinewidth": 0,
             "ticks": ""
            },
            "colorscale": [
             [
              0,
              "#0d0887"
             ],
             [
              0.1111111111111111,
              "#46039f"
             ],
             [
              0.2222222222222222,
              "#7201a8"
             ],
             [
              0.3333333333333333,
              "#9c179e"
             ],
             [
              0.4444444444444444,
              "#bd3786"
             ],
             [
              0.5555555555555556,
              "#d8576b"
             ],
             [
              0.6666666666666666,
              "#ed7953"
             ],
             [
              0.7777777777777778,
              "#fb9f3a"
             ],
             [
              0.8888888888888888,
              "#fdca26"
             ],
             [
              1,
              "#f0f921"
             ]
            ],
            "type": "heatmapgl"
           }
          ],
          "histogram": [
           {
            "marker": {
             "pattern": {
              "fillmode": "overlay",
              "size": 10,
              "solidity": 0.2
             }
            },
            "type": "histogram"
           }
          ],
          "histogram2d": [
           {
            "colorbar": {
             "outlinewidth": 0,
             "ticks": ""
            },
            "colorscale": [
             [
              0,
              "#0d0887"
             ],
             [
              0.1111111111111111,
              "#46039f"
             ],
             [
              0.2222222222222222,
              "#7201a8"
             ],
             [
              0.3333333333333333,
              "#9c179e"
             ],
             [
              0.4444444444444444,
              "#bd3786"
             ],
             [
              0.5555555555555556,
              "#d8576b"
             ],
             [
              0.6666666666666666,
              "#ed7953"
             ],
             [
              0.7777777777777778,
              "#fb9f3a"
             ],
             [
              0.8888888888888888,
              "#fdca26"
             ],
             [
              1,
              "#f0f921"
             ]
            ],
            "type": "histogram2d"
           }
          ],
          "histogram2dcontour": [
           {
            "colorbar": {
             "outlinewidth": 0,
             "ticks": ""
            },
            "colorscale": [
             [
              0,
              "#0d0887"
             ],
             [
              0.1111111111111111,
              "#46039f"
             ],
             [
              0.2222222222222222,
              "#7201a8"
             ],
             [
              0.3333333333333333,
              "#9c179e"
             ],
             [
              0.4444444444444444,
              "#bd3786"
             ],
             [
              0.5555555555555556,
              "#d8576b"
             ],
             [
              0.6666666666666666,
              "#ed7953"
             ],
             [
              0.7777777777777778,
              "#fb9f3a"
             ],
             [
              0.8888888888888888,
              "#fdca26"
             ],
             [
              1,
              "#f0f921"
             ]
            ],
            "type": "histogram2dcontour"
           }
          ],
          "mesh3d": [
           {
            "colorbar": {
             "outlinewidth": 0,
             "ticks": ""
            },
            "type": "mesh3d"
           }
          ],
          "parcoords": [
           {
            "line": {
             "colorbar": {
              "outlinewidth": 0,
              "ticks": ""
             }
            },
            "type": "parcoords"
           }
          ],
          "pie": [
           {
            "automargin": true,
            "type": "pie"
           }
          ],
          "scatter": [
           {
            "fillpattern": {
             "fillmode": "overlay",
             "size": 10,
             "solidity": 0.2
            },
            "type": "scatter"
           }
          ],
          "scatter3d": [
           {
            "line": {
             "colorbar": {
              "outlinewidth": 0,
              "ticks": ""
             }
            },
            "marker": {
             "colorbar": {
              "outlinewidth": 0,
              "ticks": ""
             }
            },
            "type": "scatter3d"
           }
          ],
          "scattercarpet": [
           {
            "marker": {
             "colorbar": {
              "outlinewidth": 0,
              "ticks": ""
             }
            },
            "type": "scattercarpet"
           }
          ],
          "scattergeo": [
           {
            "marker": {
             "colorbar": {
              "outlinewidth": 0,
              "ticks": ""
             }
            },
            "type": "scattergeo"
           }
          ],
          "scattergl": [
           {
            "marker": {
             "colorbar": {
              "outlinewidth": 0,
              "ticks": ""
             }
            },
            "type": "scattergl"
           }
          ],
          "scattermapbox": [
           {
            "marker": {
             "colorbar": {
              "outlinewidth": 0,
              "ticks": ""
             }
            },
            "type": "scattermapbox"
           }
          ],
          "scatterpolar": [
           {
            "marker": {
             "colorbar": {
              "outlinewidth": 0,
              "ticks": ""
             }
            },
            "type": "scatterpolar"
           }
          ],
          "scatterpolargl": [
           {
            "marker": {
             "colorbar": {
              "outlinewidth": 0,
              "ticks": ""
             }
            },
            "type": "scatterpolargl"
           }
          ],
          "scatterternary": [
           {
            "marker": {
             "colorbar": {
              "outlinewidth": 0,
              "ticks": ""
             }
            },
            "type": "scatterternary"
           }
          ],
          "surface": [
           {
            "colorbar": {
             "outlinewidth": 0,
             "ticks": ""
            },
            "colorscale": [
             [
              0,
              "#0d0887"
             ],
             [
              0.1111111111111111,
              "#46039f"
             ],
             [
              0.2222222222222222,
              "#7201a8"
             ],
             [
              0.3333333333333333,
              "#9c179e"
             ],
             [
              0.4444444444444444,
              "#bd3786"
             ],
             [
              0.5555555555555556,
              "#d8576b"
             ],
             [
              0.6666666666666666,
              "#ed7953"
             ],
             [
              0.7777777777777778,
              "#fb9f3a"
             ],
             [
              0.8888888888888888,
              "#fdca26"
             ],
             [
              1,
              "#f0f921"
             ]
            ],
            "type": "surface"
           }
          ],
          "table": [
           {
            "cells": {
             "fill": {
              "color": "#EBF0F8"
             },
             "line": {
              "color": "white"
             }
            },
            "header": {
             "fill": {
              "color": "#C8D4E3"
             },
             "line": {
              "color": "white"
             }
            },
            "type": "table"
           }
          ]
         },
         "layout": {
          "annotationdefaults": {
           "arrowcolor": "#2a3f5f",
           "arrowhead": 0,
           "arrowwidth": 1
          },
          "autotypenumbers": "strict",
          "coloraxis": {
           "colorbar": {
            "outlinewidth": 0,
            "ticks": ""
           }
          },
          "colorscale": {
           "diverging": [
            [
             0,
             "#8e0152"
            ],
            [
             0.1,
             "#c51b7d"
            ],
            [
             0.2,
             "#de77ae"
            ],
            [
             0.3,
             "#f1b6da"
            ],
            [
             0.4,
             "#fde0ef"
            ],
            [
             0.5,
             "#f7f7f7"
            ],
            [
             0.6,
             "#e6f5d0"
            ],
            [
             0.7,
             "#b8e186"
            ],
            [
             0.8,
             "#7fbc41"
            ],
            [
             0.9,
             "#4d9221"
            ],
            [
             1,
             "#276419"
            ]
           ],
           "sequential": [
            [
             0,
             "#0d0887"
            ],
            [
             0.1111111111111111,
             "#46039f"
            ],
            [
             0.2222222222222222,
             "#7201a8"
            ],
            [
             0.3333333333333333,
             "#9c179e"
            ],
            [
             0.4444444444444444,
             "#bd3786"
            ],
            [
             0.5555555555555556,
             "#d8576b"
            ],
            [
             0.6666666666666666,
             "#ed7953"
            ],
            [
             0.7777777777777778,
             "#fb9f3a"
            ],
            [
             0.8888888888888888,
             "#fdca26"
            ],
            [
             1,
             "#f0f921"
            ]
           ],
           "sequentialminus": [
            [
             0,
             "#0d0887"
            ],
            [
             0.1111111111111111,
             "#46039f"
            ],
            [
             0.2222222222222222,
             "#7201a8"
            ],
            [
             0.3333333333333333,
             "#9c179e"
            ],
            [
             0.4444444444444444,
             "#bd3786"
            ],
            [
             0.5555555555555556,
             "#d8576b"
            ],
            [
             0.6666666666666666,
             "#ed7953"
            ],
            [
             0.7777777777777778,
             "#fb9f3a"
            ],
            [
             0.8888888888888888,
             "#fdca26"
            ],
            [
             1,
             "#f0f921"
            ]
           ]
          },
          "colorway": [
           "#636efa",
           "#EF553B",
           "#00cc96",
           "#ab63fa",
           "#FFA15A",
           "#19d3f3",
           "#FF6692",
           "#B6E880",
           "#FF97FF",
           "#FECB52"
          ],
          "font": {
           "color": "#2a3f5f"
          },
          "geo": {
           "bgcolor": "white",
           "lakecolor": "white",
           "landcolor": "#E5ECF6",
           "showlakes": true,
           "showland": true,
           "subunitcolor": "white"
          },
          "hoverlabel": {
           "align": "left"
          },
          "hovermode": "closest",
          "mapbox": {
           "style": "light"
          },
          "paper_bgcolor": "white",
          "plot_bgcolor": "#E5ECF6",
          "polar": {
           "angularaxis": {
            "gridcolor": "white",
            "linecolor": "white",
            "ticks": ""
           },
           "bgcolor": "#E5ECF6",
           "radialaxis": {
            "gridcolor": "white",
            "linecolor": "white",
            "ticks": ""
           }
          },
          "scene": {
           "xaxis": {
            "backgroundcolor": "#E5ECF6",
            "gridcolor": "white",
            "gridwidth": 2,
            "linecolor": "white",
            "showbackground": true,
            "ticks": "",
            "zerolinecolor": "white"
           },
           "yaxis": {
            "backgroundcolor": "#E5ECF6",
            "gridcolor": "white",
            "gridwidth": 2,
            "linecolor": "white",
            "showbackground": true,
            "ticks": "",
            "zerolinecolor": "white"
           },
           "zaxis": {
            "backgroundcolor": "#E5ECF6",
            "gridcolor": "white",
            "gridwidth": 2,
            "linecolor": "white",
            "showbackground": true,
            "ticks": "",
            "zerolinecolor": "white"
           }
          },
          "shapedefaults": {
           "line": {
            "color": "#2a3f5f"
           }
          },
          "ternary": {
           "aaxis": {
            "gridcolor": "white",
            "linecolor": "white",
            "ticks": ""
           },
           "baxis": {
            "gridcolor": "white",
            "linecolor": "white",
            "ticks": ""
           },
           "bgcolor": "#E5ECF6",
           "caxis": {
            "gridcolor": "white",
            "linecolor": "white",
            "ticks": ""
           }
          },
          "title": {
           "x": 0.05
          },
          "xaxis": {
           "automargin": true,
           "gridcolor": "white",
           "linecolor": "white",
           "ticks": "",
           "title": {
            "standoff": 15
           },
           "zerolinecolor": "white",
           "zerolinewidth": 2
          },
          "yaxis": {
           "automargin": true,
           "gridcolor": "white",
           "linecolor": "white",
           "ticks": "",
           "title": {
            "standoff": 15
           },
           "zerolinecolor": "white",
           "zerolinewidth": 2
          }
         }
        },
        "title": {
         "text": "MIBC stratification based on the TF from selective edge pruning"
        },
        "xaxis": {
         "showgrid": false,
         "visible": false,
         "zeroline": false
        },
        "yaxis": {
         "showgrid": false,
         "visible": false,
         "zeroline": false
        }
       }
      }
     },
     "metadata": {},
     "output_type": "display_data"
    }
   ],
   "source": [
    "#Sankey\n",
    "morp_df.rename_axis(\"sample\", axis=\"columns\", inplace=True)\n",
    "reorder_cols = [\n",
    "    \"TCGA408_classifier\",\n",
    "    \"dendrogram_cut\",\n",
    "    # \"KMeans_labels_6\",\n",
    "    'Lund2017.subtype',\n",
    "    # \"consensus\",\n",
    "]\n",
    "meta, sky_fig = sky.main(df=morp_df, reorder_cols=reorder_cols, title='MIBC stratification based on the TF from selective edge pruning', retMeta=True)\n",
    "sky_fig.update_layout(height=700)"
   ]
  },
  {
   "cell_type": "markdown",
   "metadata": {},
   "source": [
    "## Dumbell plots"
   ]
  },
  {
   "cell_type": "code",
   "execution_count": 55,
   "metadata": {},
   "outputs": [],
   "source": [
    "import plotly.graph_objects as go\n",
    "import matplotlib.pyplot as plt\n",
    "\n",
    "\n",
    "# Main function to see the differences\n",
    "def dumbell_plots(morp_df: pd.DataFrame, tum_df: pd.DataFrame, sel_tfs: pd.DataFrame, cls_1=\"\", cls_2=\"\", markers=[], log=False):\n",
    "\n",
    "    cluster_1, cluster_2 = int(cls_1.split(\"_\")[-1]), int(cls_2.split(\"_\")[-1])\n",
    "\n",
    "    samples_1 = morp_df[morp_df['dendrogram_cut'] == cluster_1].index\n",
    "    samples_2 = morp_df[morp_df['dendrogram_cut'] == cluster_2].index\n",
    "\n",
    "    # Reconstruct the TPM\n",
    "    dmy_df = tum_df.loc[tum_df.index.isin(sel_tfs.index)]\n",
    "    df_1 = dmy_df[samples_1]\n",
    "    df_1[cls_1] = df_1.mean(axis=1)\n",
    "\n",
    "    dmy_df = tum_df.loc[tum_df.index.isin(sel_tfs.index)]\n",
    "    df_2 = dmy_df[samples_2]\n",
    "    df_2[cls_2] = df_2.mean(axis=1)\n",
    "\n",
    "    comb_df = pd.concat([df_1[cls_1], df_2[cls_2]], axis=1)\n",
    "\n",
    "    # Prepare for plotting\n",
    "    plot_data = {\"line_x\": [], \"line_y\": [], cls_1: [], cls_2: []}\n",
    "    genes = list(comb_df.index)\n",
    "\n",
    "    y_axis_title = 'TPM mean'\n",
    "    if log:\n",
    "        comb_df[cls_1] = np.log2(comb_df[cls_1] + 1)\n",
    "        comb_df[cls_2] = np.log2(comb_df[cls_2] + 1)\n",
    "        y_axis_title = 'Log2(TPM + 1) mean '\n",
    "\n",
    "    # generate the data for plots\n",
    "    for gene, row in comb_df.iterrows():\n",
    "\n",
    "        val_1, val_2 = row[cls_1], row[cls_2]\n",
    "        # The data for two scatter points cls_1 and cls_2\n",
    "        plot_data[cls_1].extend([val_1])\n",
    "        plot_data[cls_2].extend([val_2])\n",
    "        # The line between the two clases\n",
    "        plot_data[\"line_y\"].extend(\n",
    "[\n",
    "                val_1,\n",
    "                val_2,\n",
    "                None,\n",
    "            ]\n",
    "        )\n",
    "        plot_data[\"line_x\"].extend([gene, gene, None])\n",
    "\n",
    "    # plotting\n",
    "    fig = go.Figure(\n",
    "    data=[\n",
    "        go.Scatter(\n",
    "            x=plot_data[\"line_x\"],\n",
    "            y=plot_data[\"line_y\"],\n",
    "            mode=\"lines\",\n",
    "            showlegend=False,\n",
    "            marker=dict(\n",
    "                color=\"grey\"\n",
    "            )\n",
    "        ),\n",
    "        go.Scatter(\n",
    "            y=plot_data[cls_1],\n",
    "            x=genes,\n",
    "            mode=\"markers\",\n",
    "            name=cls_1,\n",
    "            marker=dict(\n",
    "                # color=\"green\",\n",
    "                size=10\n",
    "            )\n",
    "            \n",
    "        ),\n",
    "        go.Scatter(\n",
    "            y=plot_data[cls_2],\n",
    "            x=genes,\n",
    "            mode=\"markers\",\n",
    "            name=cls_2,\n",
    "            marker=dict(\n",
    "                # color=\"blue\",\n",
    "                size=10\n",
    "            )   \n",
    "        ),\n",
    "        ]\n",
    "    )\n",
    "\n",
    "    # Add title and change the figure size\n",
    "    fig.update_layout(\n",
    "        title=f\"Changes between {cls_1} and {cls_2}\",\n",
    "        yaxis_title=y_axis_title,\n",
    "        xaxis_title=\"Gene\",\n",
    "        legend_itemclick=False\n",
    "    )\n",
    "\n",
    "    fig.update_xaxes()\n",
    "    # Add markers\n",
    "\n",
    "    annotations = []\n",
    "    for i, marker in enumerate(markers):\n",
    "        sel_df = comb_df.loc[marker]\n",
    "        y = sel_df.max()\n",
    "        x = marker\n",
    "\n",
    "\n",
    "        # avoid overlapping\n",
    "        xanchor = 'right' if i % 2 == 0 else 'left'\n",
    "        ax = -10 if i % 2 == 0 else 10\n",
    "\n",
    "        fig.add_annotation(\n",
    "                x=x,\n",
    "                y=y,\n",
    "                text=marker,\n",
    "                showarrow=True,\n",
    "                ax = ax,  # No horizontal offset\n",
    "                xanchor=xanchor\n",
    "            )\n",
    "        annotations.append({\n",
    "                \"x\": x,\n",
    "                \"y\": y,\n",
    "                \"text\": marker,\n",
    "                \"showarrow\": True,\n",
    "                \"ax\": ax,  \n",
    "                \"xanchor\": xanchor, \n",
    "            })\n",
    "        \n",
    "    return fig, comb_df, annotations"
   ]
  },
  {
   "cell_type": "code",
   "execution_count": null,
   "metadata": {},
   "outputs": [],
   "source": [
    "if 0:\n",
    "\n",
    "    cluster_1, label_1 = 14, 'luminal'\n",
    "    cluster_2, label_2 = 7, 'luminf'\n",
    "    cls_1, cls_2 = f'{label_1}_{cluster_1}', f'{label_2}_{cluster_2}'\n",
    "\n",
    "    markers = ['HES2', \"MSX2\", \"OVOL1\", 'HOXB6', \"JRK\", \"ZNF750\", \"ZBTB7C\", 'FOXJ3', 'REPIN1', 'IRF6', 'ELF3', 'GRHL3', \"AHR\", \"MAFF\"]\n",
    "\n",
    "    dmy_df = sel_tfs.loc[sel_tfs.index != 'BNC1']\n",
    "    fig, df = plot_cluster_means(morp_df=morp_df, tum_df=tum_tpms_v4, sel_tfs=dmy_df, cls_1=cls_2, cls_2=cls_1, markers=markers, log=True)\n",
    "    # fig.show()\n",
    "    cluster_1, label_1 = 10, 'basal large'\n",
    "    cluster_2, label_2 = 7, 'luminf'\n",
    "    cls_1, cls_2 = f'{label_1}_{cluster_1}', f'{label_2}_{cluster_2}'\n",
    "\n",
    "    markers = ['TP63', 'HES2', 'ELF3', \"GRHL3\", 'MYCL', \"MSX2\", \"HOXB6\", \"STAT1\", \"JUNB\", \"ETS2\", 'IRF6', \"FOSL1\", \"AHR\"]\n",
    "\n",
    "    dmy_df = sel_tfs.loc[sel_tfs.index != 'BNC1']\n",
    "    fig, df = plot_cluster_means(morp_df=morp_df, tum_df=tum_tpms_v4, sel_tfs=dmy_df, cls_1=cls_2, cls_2=cls_1, markers=markers, log=True)\n",
    "    # fig.show()\n",
    "    cluster_1, label_1 = 9, 'mixed'\n",
    "    cluster_2, label_2 = 7, 'luminf'\n",
    "    cls_1, cls_2 = f'{label_1}_{cluster_1}', f'{label_2}_{cluster_2}'\n",
    "\n",
    "    markers = ['TP63', 'HES2', 'MSX2', \"MYCL\", 'ZSCAN16', 'MAFF', \"IRF7\", 'IRF6', 'KLF5', \"ETS2\"]\n",
    "\n",
    "    dmy_df = sel_tfs.loc[~sel_tfs.index.isin([\"BNC1\"])]\n",
    "    fig, df = plot_cluster_means(morp_df=morp_df, tum_df=tum_tpms_v4, sel_tfs=dmy_df, cls_1=cls_2, cls_2=cls_1, markers=markers, log=True)\n",
    "    # fig.show()"
   ]
  },
  {
   "cell_type": "code",
   "execution_count": 124,
   "metadata": {},
   "outputs": [
    {
     "data": {
      "application/vnd.plotly.v1+json": {
       "config": {
        "plotlyServerURL": "https://plot.ly"
       },
       "data": [
        {
         "marker": {
          "color": "grey"
         },
         "mode": "lines",
         "showlegend": false,
         "type": "scatter",
         "x": [
          "JUN",
          "JUN",
          null,
          "MYCL",
          "MYCL",
          null,
          "DOT1L",
          "DOT1L",
          null,
          "SATB1",
          "SATB1",
          null,
          "REL",
          "REL",
          null,
          "EGR1",
          "EGR1",
          null,
          "ZNF524",
          "ZNF524",
          null,
          "ZNF609",
          "ZNF609",
          null,
          "BNC1",
          "BNC1",
          null,
          "ZBTB10",
          "ZBTB10",
          null,
          "OVOL1",
          "OVOL1",
          null,
          "ELK4",
          "ELK4",
          null,
          "NFAT5",
          "NFAT5",
          null,
          "TRERF1",
          "TRERF1",
          null,
          "TGIF1",
          "TGIF1",
          null,
          "HIVEP1",
          "HIVEP1",
          null,
          "HES2",
          "HES2",
          null,
          "POGK",
          "POGK",
          null,
          "CIC",
          "CIC",
          null,
          "TMF1",
          "TMF1",
          null,
          "TEAD1",
          "TEAD1",
          null,
          "ZNF552",
          "ZNF552",
          null,
          "ZXDB",
          "ZXDB",
          null,
          "REPIN1",
          "REPIN1",
          null,
          "ZBTB21",
          "ZBTB21",
          null,
          "TCF20",
          "TCF20",
          null,
          "ANKZF1",
          "ANKZF1",
          null,
          "GRHL3",
          "GRHL3",
          null,
          "JUNB",
          "JUNB",
          null,
          "JRK",
          "JRK",
          null,
          "KLF5",
          "KLF5",
          null,
          "LCOR",
          "LCOR",
          null,
          "MBD6",
          "MBD6",
          null,
          "ZNF846",
          "ZNF846",
          null,
          "ZBTB4",
          "ZBTB4",
          null,
          "RUNX1",
          "RUNX1",
          null,
          "SLC2A4RG",
          "SLC2A4RG",
          null,
          "MAFG",
          "MAFG",
          null,
          "AHR",
          "AHR",
          null,
          "MBD1",
          "MBD1",
          null,
          "ETV7",
          "ETV7",
          null,
          "SKI",
          "SKI",
          null,
          "MSX2",
          "MSX2",
          null,
          "DBP",
          "DBP",
          null,
          "STAT2",
          "STAT2",
          null,
          "ATF3",
          "ATF3",
          null,
          "SRF",
          "SRF",
          null,
          "ETV3",
          "ETV3",
          null,
          "FOSL1",
          "FOSL1",
          null,
          "ERF",
          "ERF",
          null,
          "MAFK",
          "MAFK",
          null,
          "KLF6",
          "KLF6",
          null,
          "SP100",
          "SP100",
          null,
          "ETS2",
          "ETS2",
          null,
          "FOXQ1",
          "FOXQ1",
          null,
          "EBF4",
          "EBF4",
          null,
          "NFATC4",
          "NFATC4",
          null,
          "KLF16",
          "KLF16",
          null,
          "MECOM",
          "MECOM",
          null,
          "ZNF750",
          "ZNF750",
          null,
          "ELF3",
          "ELF3",
          null,
          "MSANTD3",
          "MSANTD3",
          null,
          "BHLHE41",
          "BHLHE41",
          null,
          "ZNF513",
          "ZNF513",
          null,
          "IRF6",
          "IRF6",
          null,
          "SPEN",
          "SPEN",
          null,
          "ZSCAN16",
          "ZSCAN16",
          null,
          "CASZ1",
          "CASZ1",
          null,
          "KLF4",
          "KLF4",
          null,
          "IRF9",
          "IRF9",
          null,
          "ZNF224",
          "ZNF224",
          null,
          "IRF7",
          "IRF7",
          null,
          "PLSCR1",
          "PLSCR1",
          null,
          "PHF1",
          "PHF1",
          null,
          "ZNF335",
          "ZNF335",
          null,
          "TP63",
          "TP63",
          null,
          "SP110",
          "SP110",
          null,
          "ELF4",
          "ELF4",
          null,
          "FBXL19",
          "FBXL19",
          null,
          "ETS1",
          "ETS1",
          null,
          "SP1",
          "SP1",
          null,
          "HIVEP2",
          "HIVEP2",
          null,
          "MAFF",
          "MAFF",
          null,
          "ZNF276",
          "ZNF276",
          null,
          "ZNF586",
          "ZNF586",
          null,
          "NFIL3",
          "NFIL3",
          null,
          "BCL6",
          "BCL6",
          null,
          "STAT1",
          "STAT1",
          null,
          "SAFB2",
          "SAFB2",
          null,
          "FOXJ3",
          "FOXJ3",
          null,
          "FOSL2",
          "FOSL2",
          null,
          "HOXB6",
          "HOXB6",
          null,
          "NR4A2",
          "NR4A2",
          null,
          "ARID5B",
          "ARID5B",
          null,
          "ZNF211",
          "ZNF211",
          null,
          "ZBTB7C",
          "ZBTB7C",
          null,
          "ATMIN",
          "ATMIN",
          null,
          "KMT2A",
          "KMT2A",
          null
         ],
         "y": [
          6.45083167496202,
          6.499356545132188,
          null,
          2.7552835272266174,
          6.758303479689445,
          null,
          3.3321857834002695,
          3.3691701910704466,
          null,
          3.2974250257250852,
          4.135739848118953,
          null,
          1.383615945629711,
          2.8358753627577005,
          null,
          6.307406084494071,
          5.985722197389279,
          null,
          4.869218652484852,
          5.086114403429628,
          null,
          2.7601582167524126,
          3.088321900024994,
          null,
          1.0443771269631543,
          0.16574507725361556,
          null,
          1.7672573769618842,
          2.437589506738643,
          null,
          2.812854925103677,
          5.231683890033906,
          null,
          2.8651528786171614,
          3.488824642366756,
          null,
          1.9516963088974832,
          2.715715640636255,
          null,
          2.210064549861462,
          3.0155421567474776,
          null,
          6.768250287133337,
          7.173496939362765,
          null,
          3.2429915393670115,
          3.080174080301825,
          null,
          1.7086230819526786,
          3.3346584432513113,
          null,
          4.297215968295993,
          5.335038500645049,
          null,
          5.062101293476441,
          5.067368209048051,
          null,
          3.4431467797431776,
          3.6505706930699042,
          null,
          3.6042722839424433,
          3.093332191263788,
          null,
          2.60702645120662,
          4.631681872250689,
          null,
          1.729270846635401,
          2.2138243074463526,
          null,
          5.455775490909455,
          5.861896474978261,
          null,
          1.9223441139658457,
          2.2971873023106615,
          null,
          3.7959076222416632,
          3.9781125302590037,
          null,
          3.6898521030373375,
          3.618884309685463,
          null,
          0.9819163235629288,
          6.428817564052533,
          null,
          7.670982615086726,
          8.24995665702724,
          null,
          2.970320685429285,
          4.799201332444541,
          null,
          5.526917819263345,
          7.935383035061077,
          null,
          2.119333221184371,
          3.1947331259563896,
          null,
          4.325251516115313,
          5.305805412399802,
          null,
          3.027085089825774,
          4.09739723514155,
          null,
          4.228535929063702,
          4.361189940293122,
          null,
          4.344170367500807,
          4.477759360421148,
          null,
          7.1648637365018395,
          7.00820551312705,
          null,
          3.5837216194428843,
          3.186472001617227,
          null,
          3.9449474220464382,
          6.042314357067812,
          null,
          4.596172786517724,
          4.996141844075152,
          null,
          4.360387107466466,
          3.8756653023763357,
          null,
          4.120796313685521,
          4.177940221808645,
          null,
          4.000056976595649,
          5.168216546482492,
          null,
          4.206188365032428,
          4.171114321678818,
          null,
          5.369291622953502,
          5.199544739260602,
          null,
          5.242459892733461,
          5.706718668919017,
          null,
          4.491863094019967,
          4.361854069695184,
          null,
          3.080600717841689,
          4.012369959811344,
          null,
          5.728521532731416,
          4.410496545613872,
          null,
          4.963340407223129,
          5.081039624467803,
          null,
          4.674177600836888,
          4.870860223345639,
          null,
          6.060895872779148,
          5.743057721373834,
          null,
          5.6376449415424,
          5.248165275797388,
          null,
          5.840322516265713,
          6.615435157743136,
          null,
          3.521940510642857,
          6.793335154072639,
          null,
          3.5316797285890544,
          3.9150790904871005,
          null,
          4.985243434228168,
          4.957496929754139,
          null,
          4.411037997632103,
          3.9030173570983644,
          null,
          2.424664536398609,
          5.266808640304034,
          null,
          2.2276712446965727,
          4.431866157110411,
          null,
          7.016468575909328,
          9.72483828545588,
          null,
          4.659770081501024,
          3.887261246120635,
          null,
          3.7467125688094063,
          5.3106594045956905,
          null,
          3.803018311103361,
          4.741625241162138,
          null,
          3.818141036783344,
          6.163649382977054,
          null,
          4.4222514688524255,
          4.940205847515528,
          null,
          2.710937157838828,
          3.6892424508525496,
          null,
          2.183420086590693,
          3.700593040422274,
          null,
          3.2017350058607144,
          2.464686977356064,
          null,
          6.309109657828537,
          6.252671267845368,
          null,
          2.5974131112978975,
          3.586388794644509,
          null,
          5.400190388912432,
          4.359120274697114,
          null,
          6.2329696923366456,
          5.977862982030476,
          null,
          5.723053381159147,
          5.630088231257253,
          null,
          3.2526573583151297,
          3.747088597085209,
          null,
          1.654988613519615,
          5.611420041185005,
          null,
          4.785845897130858,
          3.845432551241074,
          null,
          4.472529452951617,
          4.995799131357161,
          null,
          3.994723150889371,
          4.605074567573797,
          null,
          5.1120862673045835,
          4.761227456812737,
          null,
          4.0428197237163035,
          4.773958696754397,
          null,
          3.1706601260047704,
          3.5719163242026877,
          null,
          4.532523144946292,
          5.388903075935355,
          null,
          3.4620246862509365,
          3.7643842728482135,
          null,
          2.7577305823259195,
          3.6417593173291127,
          null,
          4.773591089269845,
          3.8500493628067853,
          null,
          4.823154896507233,
          5.5700007883262455,
          null,
          8.020982550675908,
          6.459314880527447,
          null,
          5.488758349555312,
          5.967635069351185,
          null,
          3.7568854417816877,
          4.104840644388613,
          null,
          5.607913200256483,
          6.3216086050569515,
          null,
          2.9221852146636014,
          4.364012526939218,
          null,
          2.5269774302545125,
          2.719036045866899,
          null,
          3.4330901000597045,
          3.56166850356747,
          null,
          2.6845578581361376,
          3.9110378720862133,
          null,
          1.1978745642057904,
          4.481806752949894,
          null,
          4.338842853395038,
          4.576224733292328,
          null,
          3.614858847038319,
          3.843621202104108,
          null
         ]
        },
        {
         "marker": {
          "size": 10
         },
         "mode": "markers",
         "name": "mes-like_3",
         "type": "scatter",
         "x": [
          "JUN",
          "MYCL",
          "DOT1L",
          "SATB1",
          "REL",
          "EGR1",
          "ZNF524",
          "ZNF609",
          "BNC1",
          "ZBTB10",
          "OVOL1",
          "ELK4",
          "NFAT5",
          "TRERF1",
          "TGIF1",
          "HIVEP1",
          "HES2",
          "POGK",
          "CIC",
          "TMF1",
          "TEAD1",
          "ZNF552",
          "ZXDB",
          "REPIN1",
          "ZBTB21",
          "TCF20",
          "ANKZF1",
          "GRHL3",
          "JUNB",
          "JRK",
          "KLF5",
          "LCOR",
          "MBD6",
          "ZNF846",
          "ZBTB4",
          "RUNX1",
          "SLC2A4RG",
          "MAFG",
          "AHR",
          "MBD1",
          "ETV7",
          "SKI",
          "MSX2",
          "DBP",
          "STAT2",
          "ATF3",
          "SRF",
          "ETV3",
          "FOSL1",
          "ERF",
          "MAFK",
          "KLF6",
          "SP100",
          "ETS2",
          "FOXQ1",
          "EBF4",
          "NFATC4",
          "KLF16",
          "MECOM",
          "ZNF750",
          "ELF3",
          "MSANTD3",
          "BHLHE41",
          "ZNF513",
          "IRF6",
          "SPEN",
          "ZSCAN16",
          "CASZ1",
          "KLF4",
          "IRF9",
          "ZNF224",
          "IRF7",
          "PLSCR1",
          "PHF1",
          "ZNF335",
          "TP63",
          "SP110",
          "ELF4",
          "FBXL19",
          "ETS1",
          "SP1",
          "HIVEP2",
          "MAFF",
          "ZNF276",
          "ZNF586",
          "NFIL3",
          "BCL6",
          "STAT1",
          "SAFB2",
          "FOXJ3",
          "FOSL2",
          "HOXB6",
          "NR4A2",
          "ARID5B",
          "ZNF211",
          "ZBTB7C",
          "ATMIN",
          "KMT2A"
         ],
         "y": [
          6.45083167496202,
          2.7552835272266174,
          3.3321857834002695,
          3.2974250257250852,
          1.383615945629711,
          6.307406084494071,
          4.869218652484852,
          2.7601582167524126,
          1.0443771269631543,
          1.7672573769618842,
          2.812854925103677,
          2.8651528786171614,
          1.9516963088974832,
          2.210064549861462,
          6.768250287133337,
          3.2429915393670115,
          1.7086230819526786,
          4.297215968295993,
          5.062101293476441,
          3.4431467797431776,
          3.6042722839424433,
          2.60702645120662,
          1.729270846635401,
          5.455775490909455,
          1.9223441139658457,
          3.7959076222416632,
          3.6898521030373375,
          0.9819163235629288,
          7.670982615086726,
          2.970320685429285,
          5.526917819263345,
          2.119333221184371,
          4.325251516115313,
          3.027085089825774,
          4.228535929063702,
          4.344170367500807,
          7.1648637365018395,
          3.5837216194428843,
          3.9449474220464382,
          4.596172786517724,
          4.360387107466466,
          4.120796313685521,
          4.000056976595649,
          4.206188365032428,
          5.369291622953502,
          5.242459892733461,
          4.491863094019967,
          3.080600717841689,
          5.728521532731416,
          4.963340407223129,
          4.674177600836888,
          6.060895872779148,
          5.6376449415424,
          5.840322516265713,
          3.521940510642857,
          3.5316797285890544,
          4.985243434228168,
          4.411037997632103,
          2.424664536398609,
          2.2276712446965727,
          7.016468575909328,
          4.659770081501024,
          3.7467125688094063,
          3.803018311103361,
          3.818141036783344,
          4.4222514688524255,
          2.710937157838828,
          2.183420086590693,
          3.2017350058607144,
          6.309109657828537,
          2.5974131112978975,
          5.400190388912432,
          6.2329696923366456,
          5.723053381159147,
          3.2526573583151297,
          1.654988613519615,
          4.785845897130858,
          4.472529452951617,
          3.994723150889371,
          5.1120862673045835,
          4.0428197237163035,
          3.1706601260047704,
          4.532523144946292,
          3.4620246862509365,
          2.7577305823259195,
          4.773591089269845,
          4.823154896507233,
          8.020982550675908,
          5.488758349555312,
          3.7568854417816877,
          5.607913200256483,
          2.9221852146636014,
          2.5269774302545125,
          3.4330901000597045,
          2.6845578581361376,
          1.1978745642057904,
          4.338842853395038,
          3.614858847038319
         ]
        },
        {
         "marker": {
          "size": 10
         },
         "mode": "markers",
         "name": "lumInf_13",
         "type": "scatter",
         "x": [
          "JUN",
          "MYCL",
          "DOT1L",
          "SATB1",
          "REL",
          "EGR1",
          "ZNF524",
          "ZNF609",
          "BNC1",
          "ZBTB10",
          "OVOL1",
          "ELK4",
          "NFAT5",
          "TRERF1",
          "TGIF1",
          "HIVEP1",
          "HES2",
          "POGK",
          "CIC",
          "TMF1",
          "TEAD1",
          "ZNF552",
          "ZXDB",
          "REPIN1",
          "ZBTB21",
          "TCF20",
          "ANKZF1",
          "GRHL3",
          "JUNB",
          "JRK",
          "KLF5",
          "LCOR",
          "MBD6",
          "ZNF846",
          "ZBTB4",
          "RUNX1",
          "SLC2A4RG",
          "MAFG",
          "AHR",
          "MBD1",
          "ETV7",
          "SKI",
          "MSX2",
          "DBP",
          "STAT2",
          "ATF3",
          "SRF",
          "ETV3",
          "FOSL1",
          "ERF",
          "MAFK",
          "KLF6",
          "SP100",
          "ETS2",
          "FOXQ1",
          "EBF4",
          "NFATC4",
          "KLF16",
          "MECOM",
          "ZNF750",
          "ELF3",
          "MSANTD3",
          "BHLHE41",
          "ZNF513",
          "IRF6",
          "SPEN",
          "ZSCAN16",
          "CASZ1",
          "KLF4",
          "IRF9",
          "ZNF224",
          "IRF7",
          "PLSCR1",
          "PHF1",
          "ZNF335",
          "TP63",
          "SP110",
          "ELF4",
          "FBXL19",
          "ETS1",
          "SP1",
          "HIVEP2",
          "MAFF",
          "ZNF276",
          "ZNF586",
          "NFIL3",
          "BCL6",
          "STAT1",
          "SAFB2",
          "FOXJ3",
          "FOSL2",
          "HOXB6",
          "NR4A2",
          "ARID5B",
          "ZNF211",
          "ZBTB7C",
          "ATMIN",
          "KMT2A"
         ],
         "y": [
          6.499356545132188,
          6.758303479689445,
          3.3691701910704466,
          4.135739848118953,
          2.8358753627577005,
          5.985722197389279,
          5.086114403429628,
          3.088321900024994,
          0.16574507725361556,
          2.437589506738643,
          5.231683890033906,
          3.488824642366756,
          2.715715640636255,
          3.0155421567474776,
          7.173496939362765,
          3.080174080301825,
          3.3346584432513113,
          5.335038500645049,
          5.067368209048051,
          3.6505706930699042,
          3.093332191263788,
          4.631681872250689,
          2.2138243074463526,
          5.861896474978261,
          2.2971873023106615,
          3.9781125302590037,
          3.618884309685463,
          6.428817564052533,
          8.24995665702724,
          4.799201332444541,
          7.935383035061077,
          3.1947331259563896,
          5.305805412399802,
          4.09739723514155,
          4.361189940293122,
          4.477759360421148,
          7.00820551312705,
          3.186472001617227,
          6.042314357067812,
          4.996141844075152,
          3.8756653023763357,
          4.177940221808645,
          5.168216546482492,
          4.171114321678818,
          5.199544739260602,
          5.706718668919017,
          4.361854069695184,
          4.012369959811344,
          4.410496545613872,
          5.081039624467803,
          4.870860223345639,
          5.743057721373834,
          5.248165275797388,
          6.615435157743136,
          6.793335154072639,
          3.9150790904871005,
          4.957496929754139,
          3.9030173570983644,
          5.266808640304034,
          4.431866157110411,
          9.72483828545588,
          3.887261246120635,
          5.3106594045956905,
          4.741625241162138,
          6.163649382977054,
          4.940205847515528,
          3.6892424508525496,
          3.700593040422274,
          2.464686977356064,
          6.252671267845368,
          3.586388794644509,
          4.359120274697114,
          5.977862982030476,
          5.630088231257253,
          3.747088597085209,
          5.611420041185005,
          3.845432551241074,
          4.995799131357161,
          4.605074567573797,
          4.761227456812737,
          4.773958696754397,
          3.5719163242026877,
          5.388903075935355,
          3.7643842728482135,
          3.6417593173291127,
          3.8500493628067853,
          5.5700007883262455,
          6.459314880527447,
          5.967635069351185,
          4.104840644388613,
          6.3216086050569515,
          4.364012526939218,
          2.719036045866899,
          3.56166850356747,
          3.9110378720862133,
          4.481806752949894,
          4.576224733292328,
          3.843621202104108
         ]
        }
       ],
       "layout": {
        "annotations": [
         {
          "ax": -10,
          "showarrow": true,
          "text": "GRHL3",
          "x": "GRHL3",
          "xanchor": "right",
          "y": 6.428817564052533
         },
         {
          "ax": 10,
          "showarrow": true,
          "text": "MYCL",
          "x": "MYCL",
          "xanchor": "left",
          "y": 6.758303479689445
         },
         {
          "ax": -10,
          "showarrow": true,
          "text": "BNC1",
          "x": "BNC1",
          "xanchor": "right",
          "y": 1.0443771269631543
         },
         {
          "ax": 10,
          "showarrow": true,
          "text": "ELF3",
          "x": "ELF3",
          "xanchor": "left",
          "y": 9.72483828545588
         },
         {
          "ax": -10,
          "showarrow": true,
          "text": "ZBTB7C",
          "x": "ZBTB7C",
          "xanchor": "right",
          "y": 4.481806752949894
         },
         {
          "ax": 10,
          "showarrow": true,
          "text": "STAT1",
          "x": "STAT1",
          "xanchor": "left",
          "y": 8.020982550675908
         },
         {
          "ax": -10,
          "showarrow": true,
          "text": "HOXB6",
          "x": "HOXB6",
          "xanchor": "right",
          "y": 4.364012526939218
         },
         {
          "ax": 10,
          "showarrow": true,
          "text": "ZNF750",
          "x": "ZNF750",
          "xanchor": "left",
          "y": 4.431866157110411
         },
         {
          "ax": -10,
          "showarrow": true,
          "text": "MECOM",
          "x": "MECOM",
          "xanchor": "right",
          "y": 5.266808640304034
         },
         {
          "ax": 10,
          "showarrow": true,
          "text": "FOXQ1",
          "x": "FOXQ1",
          "xanchor": "left",
          "y": 6.793335154072639
         }
        ],
        "legend": {
         "itemclick": false
        },
        "template": {
         "data": {
          "bar": [
           {
            "error_x": {
             "color": "#2a3f5f"
            },
            "error_y": {
             "color": "#2a3f5f"
            },
            "marker": {
             "line": {
              "color": "#E5ECF6",
              "width": 0.5
             },
             "pattern": {
              "fillmode": "overlay",
              "size": 10,
              "solidity": 0.2
             }
            },
            "type": "bar"
           }
          ],
          "barpolar": [
           {
            "marker": {
             "line": {
              "color": "#E5ECF6",
              "width": 0.5
             },
             "pattern": {
              "fillmode": "overlay",
              "size": 10,
              "solidity": 0.2
             }
            },
            "type": "barpolar"
           }
          ],
          "carpet": [
           {
            "aaxis": {
             "endlinecolor": "#2a3f5f",
             "gridcolor": "white",
             "linecolor": "white",
             "minorgridcolor": "white",
             "startlinecolor": "#2a3f5f"
            },
            "baxis": {
             "endlinecolor": "#2a3f5f",
             "gridcolor": "white",
             "linecolor": "white",
             "minorgridcolor": "white",
             "startlinecolor": "#2a3f5f"
            },
            "type": "carpet"
           }
          ],
          "choropleth": [
           {
            "colorbar": {
             "outlinewidth": 0,
             "ticks": ""
            },
            "type": "choropleth"
           }
          ],
          "contour": [
           {
            "colorbar": {
             "outlinewidth": 0,
             "ticks": ""
            },
            "colorscale": [
             [
              0,
              "#0d0887"
             ],
             [
              0.1111111111111111,
              "#46039f"
             ],
             [
              0.2222222222222222,
              "#7201a8"
             ],
             [
              0.3333333333333333,
              "#9c179e"
             ],
             [
              0.4444444444444444,
              "#bd3786"
             ],
             [
              0.5555555555555556,
              "#d8576b"
             ],
             [
              0.6666666666666666,
              "#ed7953"
             ],
             [
              0.7777777777777778,
              "#fb9f3a"
             ],
             [
              0.8888888888888888,
              "#fdca26"
             ],
             [
              1,
              "#f0f921"
             ]
            ],
            "type": "contour"
           }
          ],
          "contourcarpet": [
           {
            "colorbar": {
             "outlinewidth": 0,
             "ticks": ""
            },
            "type": "contourcarpet"
           }
          ],
          "heatmap": [
           {
            "colorbar": {
             "outlinewidth": 0,
             "ticks": ""
            },
            "colorscale": [
             [
              0,
              "#0d0887"
             ],
             [
              0.1111111111111111,
              "#46039f"
             ],
             [
              0.2222222222222222,
              "#7201a8"
             ],
             [
              0.3333333333333333,
              "#9c179e"
             ],
             [
              0.4444444444444444,
              "#bd3786"
             ],
             [
              0.5555555555555556,
              "#d8576b"
             ],
             [
              0.6666666666666666,
              "#ed7953"
             ],
             [
              0.7777777777777778,
              "#fb9f3a"
             ],
             [
              0.8888888888888888,
              "#fdca26"
             ],
             [
              1,
              "#f0f921"
             ]
            ],
            "type": "heatmap"
           }
          ],
          "heatmapgl": [
           {
            "colorbar": {
             "outlinewidth": 0,
             "ticks": ""
            },
            "colorscale": [
             [
              0,
              "#0d0887"
             ],
             [
              0.1111111111111111,
              "#46039f"
             ],
             [
              0.2222222222222222,
              "#7201a8"
             ],
             [
              0.3333333333333333,
              "#9c179e"
             ],
             [
              0.4444444444444444,
              "#bd3786"
             ],
             [
              0.5555555555555556,
              "#d8576b"
             ],
             [
              0.6666666666666666,
              "#ed7953"
             ],
             [
              0.7777777777777778,
              "#fb9f3a"
             ],
             [
              0.8888888888888888,
              "#fdca26"
             ],
             [
              1,
              "#f0f921"
             ]
            ],
            "type": "heatmapgl"
           }
          ],
          "histogram": [
           {
            "marker": {
             "pattern": {
              "fillmode": "overlay",
              "size": 10,
              "solidity": 0.2
             }
            },
            "type": "histogram"
           }
          ],
          "histogram2d": [
           {
            "colorbar": {
             "outlinewidth": 0,
             "ticks": ""
            },
            "colorscale": [
             [
              0,
              "#0d0887"
             ],
             [
              0.1111111111111111,
              "#46039f"
             ],
             [
              0.2222222222222222,
              "#7201a8"
             ],
             [
              0.3333333333333333,
              "#9c179e"
             ],
             [
              0.4444444444444444,
              "#bd3786"
             ],
             [
              0.5555555555555556,
              "#d8576b"
             ],
             [
              0.6666666666666666,
              "#ed7953"
             ],
             [
              0.7777777777777778,
              "#fb9f3a"
             ],
             [
              0.8888888888888888,
              "#fdca26"
             ],
             [
              1,
              "#f0f921"
             ]
            ],
            "type": "histogram2d"
           }
          ],
          "histogram2dcontour": [
           {
            "colorbar": {
             "outlinewidth": 0,
             "ticks": ""
            },
            "colorscale": [
             [
              0,
              "#0d0887"
             ],
             [
              0.1111111111111111,
              "#46039f"
             ],
             [
              0.2222222222222222,
              "#7201a8"
             ],
             [
              0.3333333333333333,
              "#9c179e"
             ],
             [
              0.4444444444444444,
              "#bd3786"
             ],
             [
              0.5555555555555556,
              "#d8576b"
             ],
             [
              0.6666666666666666,
              "#ed7953"
             ],
             [
              0.7777777777777778,
              "#fb9f3a"
             ],
             [
              0.8888888888888888,
              "#fdca26"
             ],
             [
              1,
              "#f0f921"
             ]
            ],
            "type": "histogram2dcontour"
           }
          ],
          "mesh3d": [
           {
            "colorbar": {
             "outlinewidth": 0,
             "ticks": ""
            },
            "type": "mesh3d"
           }
          ],
          "parcoords": [
           {
            "line": {
             "colorbar": {
              "outlinewidth": 0,
              "ticks": ""
             }
            },
            "type": "parcoords"
           }
          ],
          "pie": [
           {
            "automargin": true,
            "type": "pie"
           }
          ],
          "scatter": [
           {
            "fillpattern": {
             "fillmode": "overlay",
             "size": 10,
             "solidity": 0.2
            },
            "type": "scatter"
           }
          ],
          "scatter3d": [
           {
            "line": {
             "colorbar": {
              "outlinewidth": 0,
              "ticks": ""
             }
            },
            "marker": {
             "colorbar": {
              "outlinewidth": 0,
              "ticks": ""
             }
            },
            "type": "scatter3d"
           }
          ],
          "scattercarpet": [
           {
            "marker": {
             "colorbar": {
              "outlinewidth": 0,
              "ticks": ""
             }
            },
            "type": "scattercarpet"
           }
          ],
          "scattergeo": [
           {
            "marker": {
             "colorbar": {
              "outlinewidth": 0,
              "ticks": ""
             }
            },
            "type": "scattergeo"
           }
          ],
          "scattergl": [
           {
            "marker": {
             "colorbar": {
              "outlinewidth": 0,
              "ticks": ""
             }
            },
            "type": "scattergl"
           }
          ],
          "scattermapbox": [
           {
            "marker": {
             "colorbar": {
              "outlinewidth": 0,
              "ticks": ""
             }
            },
            "type": "scattermapbox"
           }
          ],
          "scatterpolar": [
           {
            "marker": {
             "colorbar": {
              "outlinewidth": 0,
              "ticks": ""
             }
            },
            "type": "scatterpolar"
           }
          ],
          "scatterpolargl": [
           {
            "marker": {
             "colorbar": {
              "outlinewidth": 0,
              "ticks": ""
             }
            },
            "type": "scatterpolargl"
           }
          ],
          "scatterternary": [
           {
            "marker": {
             "colorbar": {
              "outlinewidth": 0,
              "ticks": ""
             }
            },
            "type": "scatterternary"
           }
          ],
          "surface": [
           {
            "colorbar": {
             "outlinewidth": 0,
             "ticks": ""
            },
            "colorscale": [
             [
              0,
              "#0d0887"
             ],
             [
              0.1111111111111111,
              "#46039f"
             ],
             [
              0.2222222222222222,
              "#7201a8"
             ],
             [
              0.3333333333333333,
              "#9c179e"
             ],
             [
              0.4444444444444444,
              "#bd3786"
             ],
             [
              0.5555555555555556,
              "#d8576b"
             ],
             [
              0.6666666666666666,
              "#ed7953"
             ],
             [
              0.7777777777777778,
              "#fb9f3a"
             ],
             [
              0.8888888888888888,
              "#fdca26"
             ],
             [
              1,
              "#f0f921"
             ]
            ],
            "type": "surface"
           }
          ],
          "table": [
           {
            "cells": {
             "fill": {
              "color": "#EBF0F8"
             },
             "line": {
              "color": "white"
             }
            },
            "header": {
             "fill": {
              "color": "#C8D4E3"
             },
             "line": {
              "color": "white"
             }
            },
            "type": "table"
           }
          ]
         },
         "layout": {
          "annotationdefaults": {
           "arrowcolor": "#2a3f5f",
           "arrowhead": 0,
           "arrowwidth": 1
          },
          "autotypenumbers": "strict",
          "coloraxis": {
           "colorbar": {
            "outlinewidth": 0,
            "ticks": ""
           }
          },
          "colorscale": {
           "diverging": [
            [
             0,
             "#8e0152"
            ],
            [
             0.1,
             "#c51b7d"
            ],
            [
             0.2,
             "#de77ae"
            ],
            [
             0.3,
             "#f1b6da"
            ],
            [
             0.4,
             "#fde0ef"
            ],
            [
             0.5,
             "#f7f7f7"
            ],
            [
             0.6,
             "#e6f5d0"
            ],
            [
             0.7,
             "#b8e186"
            ],
            [
             0.8,
             "#7fbc41"
            ],
            [
             0.9,
             "#4d9221"
            ],
            [
             1,
             "#276419"
            ]
           ],
           "sequential": [
            [
             0,
             "#0d0887"
            ],
            [
             0.1111111111111111,
             "#46039f"
            ],
            [
             0.2222222222222222,
             "#7201a8"
            ],
            [
             0.3333333333333333,
             "#9c179e"
            ],
            [
             0.4444444444444444,
             "#bd3786"
            ],
            [
             0.5555555555555556,
             "#d8576b"
            ],
            [
             0.6666666666666666,
             "#ed7953"
            ],
            [
             0.7777777777777778,
             "#fb9f3a"
            ],
            [
             0.8888888888888888,
             "#fdca26"
            ],
            [
             1,
             "#f0f921"
            ]
           ],
           "sequentialminus": [
            [
             0,
             "#0d0887"
            ],
            [
             0.1111111111111111,
             "#46039f"
            ],
            [
             0.2222222222222222,
             "#7201a8"
            ],
            [
             0.3333333333333333,
             "#9c179e"
            ],
            [
             0.4444444444444444,
             "#bd3786"
            ],
            [
             0.5555555555555556,
             "#d8576b"
            ],
            [
             0.6666666666666666,
             "#ed7953"
            ],
            [
             0.7777777777777778,
             "#fb9f3a"
            ],
            [
             0.8888888888888888,
             "#fdca26"
            ],
            [
             1,
             "#f0f921"
            ]
           ]
          },
          "colorway": [
           "#636efa",
           "#EF553B",
           "#00cc96",
           "#ab63fa",
           "#FFA15A",
           "#19d3f3",
           "#FF6692",
           "#B6E880",
           "#FF97FF",
           "#FECB52"
          ],
          "font": {
           "color": "#2a3f5f"
          },
          "geo": {
           "bgcolor": "white",
           "lakecolor": "white",
           "landcolor": "#E5ECF6",
           "showlakes": true,
           "showland": true,
           "subunitcolor": "white"
          },
          "hoverlabel": {
           "align": "left"
          },
          "hovermode": "closest",
          "mapbox": {
           "style": "light"
          },
          "paper_bgcolor": "white",
          "plot_bgcolor": "#E5ECF6",
          "polar": {
           "angularaxis": {
            "gridcolor": "white",
            "linecolor": "white",
            "ticks": ""
           },
           "bgcolor": "#E5ECF6",
           "radialaxis": {
            "gridcolor": "white",
            "linecolor": "white",
            "ticks": ""
           }
          },
          "scene": {
           "xaxis": {
            "backgroundcolor": "#E5ECF6",
            "gridcolor": "white",
            "gridwidth": 2,
            "linecolor": "white",
            "showbackground": true,
            "ticks": "",
            "zerolinecolor": "white"
           },
           "yaxis": {
            "backgroundcolor": "#E5ECF6",
            "gridcolor": "white",
            "gridwidth": 2,
            "linecolor": "white",
            "showbackground": true,
            "ticks": "",
            "zerolinecolor": "white"
           },
           "zaxis": {
            "backgroundcolor": "#E5ECF6",
            "gridcolor": "white",
            "gridwidth": 2,
            "linecolor": "white",
            "showbackground": true,
            "ticks": "",
            "zerolinecolor": "white"
           }
          },
          "shapedefaults": {
           "line": {
            "color": "#2a3f5f"
           }
          },
          "ternary": {
           "aaxis": {
            "gridcolor": "white",
            "linecolor": "white",
            "ticks": ""
           },
           "baxis": {
            "gridcolor": "white",
            "linecolor": "white",
            "ticks": ""
           },
           "bgcolor": "#E5ECF6",
           "caxis": {
            "gridcolor": "white",
            "linecolor": "white",
            "ticks": ""
           }
          },
          "title": {
           "x": 0.05
          },
          "xaxis": {
           "automargin": true,
           "gridcolor": "white",
           "linecolor": "white",
           "ticks": "",
           "title": {
            "standoff": 15
           },
           "zerolinecolor": "white",
           "zerolinewidth": 2
          },
          "yaxis": {
           "automargin": true,
           "gridcolor": "white",
           "linecolor": "white",
           "ticks": "",
           "title": {
            "standoff": 15
           },
           "zerolinecolor": "white",
           "zerolinewidth": 2
          }
         }
        },
        "title": {
         "text": "Changes between mes-like_3 and lumInf_13"
        },
        "xaxis": {
         "title": {
          "text": "Gene"
         }
        },
        "yaxis": {
         "title": {
          "text": "Log2(TPM + 1) mean "
         }
        }
       }
      }
     },
     "metadata": {},
     "output_type": "display_data"
    }
   ],
   "source": [
    "morp_df['dendrogram_cut'] = morp_df['dendrogram_cut'].astype(float).astype(int)\n",
    "\n",
    "cluster_1, label_1 = 3, 'mes-like'\n",
    "cluster_2, label_2 = 13, 'lumInf'\n",
    "cls_1, cls_2 = f'{label_1}_{cluster_1}', f'{label_2}_{cluster_2}'\n",
    "markers = [  'GRHL3', 'MYCL', \"BNC1\", 'ELF3', 'ZBTB7C', 'STAT1', 'HOXB6',  'ZNF750','MECOM',  'FOXQ1']\n",
    "\n",
    "fig1, df, ann1 = dumbell_plots(morp_df=morp_df, tum_df=tum_tpms_v4, sel_tfs=sel_tfs, cls_1=cls_1, cls_2=cls_2, markers=markers, log=True)\n",
    "title1 = f'{cls_1} vs {cls_2}'\n",
    "fig1.show()"
   ]
  },
  {
   "cell_type": "code",
   "execution_count": 149,
   "metadata": {},
   "outputs": [],
   "source": [
    "# Basal large vs Luminal\n",
    "log = True\n",
    "cluster_1, label_1 = 13, 'luminal'\n",
    "cluster_2, label_2 = 4, 'basal'\n",
    "cls_1, cls_2 = f'{label_1}_{cluster_1}', f'{label_2}_{cluster_2}'\n",
    "markers = ['EGR1', 'BNC1', 'ELF3', 'FOSL1', 'MYCL', 'FOXQ1', \"GRHL3\", 'JRK']\n",
    "\n",
    "fig1, df, ann1 = dumbell_plots(morp_df=morp_df, tum_df=tum_tpms_v4, sel_tfs=sel_tfs, cls_1=cls_1, cls_2=cls_2, markers=markers, log=True)\n",
    "title1 = f'{cls_1} vs {cls_2}'\n",
    "\n",
    "# Lum vs LumInf\n",
    "cluster_1, label_1 = 13, 'luminal'\n",
    "cluster_2, label_2 = 12, 'lumInf'\n",
    "cls_1, cls_2 = f'{label_1}_{cluster_1}', f'{label_2}_{cluster_2}'\n",
    "markers = ['EGR1', 'TP63', 'ELF3']\n",
    "\n",
    "fig2, df, ann2 = dumbell_plots(morp_df=morp_df, tum_df=tum_tpms_v4, sel_tfs=sel_tfs, cls_1=cls_1, cls_2=cls_2, markers=markers, log=True)\n",
    "title2= f'{cls_1} vs {cls_2}'\n",
    "\n",
    "# Small vs LumInf\n",
    "cluster_1, label_1 = 5, 'smallBasal'\n",
    "cluster_2, label_2 = 12, 'lumInf'\n",
    "cls_1, cls_2 = f'{label_1}_{cluster_1}', f'{label_2}_{cluster_2}'\n",
    "markers = ['BNC1', 'ELF3', 'MYCL', \"GRHL3\",'HES2', 'JRK', 'TP63', 'MSX2', 'IRF6', 'HOXB6']\n",
    "\n",
    "fig3, df, ann3 = dumbell_plots(morp_df=morp_df, tum_df=tum_tpms_v4, sel_tfs=sel_tfs, cls_1=cls_1, cls_2=cls_2, markers=markers, log=True)\n",
    "title3 = f'{cls_1} vs {cls_2}'\n",
    "\n",
    "# Mes-like vs Basal\n",
    "cluster_1, label_1 = 3, 'mesLike'\n",
    "cluster_2, label_2 = 4, 'basal'\n",
    "cls_1, cls_2 = f'{label_1}_{cluster_1}', f'{label_2}_{cluster_2}'\n",
    "markers = [\"GRHL3\",'BNC1', 'ELF3', 'MYCL','HES2', 'JRK', 'TP63', 'IRF6', 'STAT1', 'ZBTB7C', 'ZNF750', \"EGR1\", 'JUN', 'JUNB']\n",
    "\n",
    "fig4, df, ann4 = dumbell_plots(morp_df=morp_df, tum_df=tum_tpms_v4, sel_tfs=sel_tfs, cls_1=cls_1, cls_2=cls_2, markers=markers, log=True)\n",
    "title4 = f'{cls_1} vs {cls_2}'\n",
    "\n",
    "#Mes-like vs small basal\n",
    "cluster_1, label_1 = 3, 'mesLike'\n",
    "cluster_2, label_2 = 5, 'smallBasal'\n",
    "cls_1, cls_2 = f'{label_1}_{cluster_1}', f'{label_2}_{cluster_2}'\n",
    "markers = ['REL',  'HES2', 'MYCL', 'GRHL3', 'KLF5', \"ZBTB7C\", 'TP63', 'IRF6', 'MECOM',  'ZNF750', 'FOXQ1', 'ELF3', 'MSX2','BNC1', 'STAT1',]\n",
    "\n",
    "fig5, df, ann5 = dumbell_plots(morp_df=morp_df, tum_df=tum_tpms_v4, sel_tfs=sel_tfs, cls_1=cls_1, cls_2=cls_2, markers=markers, log=True)\n",
    "title5= f'{cls_1} vs {cls_2}'\n",
    "\n",
    "\n",
    "# Small basal vs Basla\n",
    "cluster_1, label_1 = 4, 'basal'\n",
    "cluster_2, label_2 = 5, 'smallBasal'\n",
    "cls_1, cls_2 = f'{label_1}_{cluster_1}', f'{label_2}_{cluster_2}'\n",
    "markers = [ 'MSX2', 'MAFG', 'ZXDB', 'TP63', \"ZBTB10\", 'ZBTB7C']\n",
    "\n",
    "fig6, df, ann6 = dumbell_plots(morp_df=morp_df, tum_df=tum_tpms_v4, sel_tfs=sel_tfs, cls_1=cls_1, cls_2=cls_2, markers=markers, log=True)\n",
    "title6 = f'{cls_1} vs {cls_2}'"
   ]
  },
  {
   "cell_type": "code",
   "execution_count": 154,
   "metadata": {},
   "outputs": [],
   "source": [
    "num_cols=2\n",
    "subplots_config = {\n",
    "    \"num_cols\": num_cols,\n",
    "    \"shared_x\": False,\n",
    "    \"shared_y\": False,\n",
    "    \"h_spacing\": 0.05,\n",
    "    \"v_spacing\": 0.1,\n",
    "    \"main_title\": \"Gene differences\",\n",
    "    \"height\": 1200,\n",
    "    \"width\": None,\n",
    "    \"y_title\": None,\n",
    "    \"x_title\": None,\n",
    "    \"specs\": None,\n",
    "}\n",
    "\n",
    "figs, titles = [fig1, fig2, fig3, fig4, fig5, fig6], [title1, title2, title3, title4, title5, title6]\n",
    "annotations = [ann1, ann2, ann3, ann4, ann5, ann6]\n",
    "\n",
    "# Defining the trace colors\n",
    "traces_names = [\"mesLike_3\", 'basal_4', \"luminal_13\", 'lumInf_12', \"smallBasal_5\"]\n",
    "trace_colors = {}\n",
    "for idx, name in enumerate(traces_names):\n",
    "     trace_colors[name] = px.colors.qualitative.Plotly[idx]\n",
    "\n",
    "# Making sure that we only display the traces once\n",
    "displayed_legends = set()\n",
    "for fig in figs:\n",
    "    for trace in fig.data:\n",
    "        if trace.name:\n",
    "            trace.update(marker=dict(color=trace_colors[trace.name]))\n",
    "\n",
    "            # Manage legend entries\n",
    "            if trace.name not in displayed_legends:\n",
    "                displayed_legends.add(trace.name)\n",
    "                trace.showlegend = True  # Show legend for this trace\n",
    "            else:\n",
    "                trace.showlegend = False  # Hide legend for this trace\n",
    "\n",
    "fig = gh.helper_multiplots(figs, titles, subplots_config)\n",
    "\n",
    "# Adding the annotations to the subtplots\n",
    "idx_row, idx_col = 1, 1\n",
    "for i, ann in enumerate(annotations):\n",
    "    for elem in ann:\n",
    "        fig.add_annotation(elem, row=idx_row, col=idx_col)\n",
    "    if idx_col % num_cols == 0:\n",
    "            idx_col = 0\n",
    "            idx_row += 1\n",
    "    idx_col += 1\n",
    "\n",
    "\n",
    "fig = fig.update_layout(showlegend=True)\n",
    "# save_fig(name=\"p0_elbowMethod_4K\", fig=fig, base_path=figures_path, width=None, height=400)"
   ]
  },
  {
   "cell_type": "markdown",
   "metadata": {},
   "source": [
    "### Single plot version"
   ]
  },
  {
   "cell_type": "code",
   "execution_count": null,
   "metadata": {},
   "outputs": [],
   "source": [
    "# Single scatter plot in plotly\n",
    "def plot_cluster_means(morp_df: pd.DataFrame, tum_df: pd.DataFrame, sel_tfs: pd.DataFrame, cls_1=\"\", cls_2=\"\", markers=[], log=False):\n",
    "\n",
    "    cluster_1, cluster_2 = int(cls_1.split(\"_\")[-1]), int(cls_2.split(\"_\")[-1])\n",
    "\n",
    "    samples_1 = morp_df[morp_df['dendrogram_cut'] == cluster_1].index\n",
    "    samples_2 = morp_df[morp_df['dendrogram_cut'] == cluster_2].index\n",
    "\n",
    "    # Reconstruct the TPM\n",
    "    dmy_df = tum_df.loc[tum_df.index.isin(sel_tfs.index)]\n",
    "    df_1 = dmy_df[samples_1]\n",
    "    df_1[cls_1] = df_1.mean(axis=1)\n",
    "\n",
    "    dmy_df = tum_df.loc[tum_df.index.isin(sel_tfs.index)]\n",
    "    df_2 = dmy_df[samples_2]\n",
    "    df_2[cls_2] = df_2.mean(axis=1)\n",
    "\n",
    "    comb_df = pd.concat([df_1[cls_1], df_2[cls_2]], axis=1)\n",
    "    fig = px.scatter(comb_df.reset_index(), x=cls_1, y=cls_2, hover_data='genes', title=f'{cls_1} vs {cls_2}', log_x=log, log_y=log, trendline='ols', trendline_color_override='red', trendline_options=dict(log_x=log, log_y=log))\n",
    "\n",
    "    for marker in markers:\n",
    "        dmy = comb_df.loc[marker]\n",
    "        x, y = dmy.values[0], dmy.values[1]\n",
    "        if log:\n",
    "            x, y = np.log10(x), np.log10(y)\n",
    "            \n",
    "        fig.add_annotation(\n",
    "            x=x,\n",
    "            y=y,\n",
    "            text=dmy.name,\n",
    "            showarrow=False,\n",
    "            xanchor=\"right\",\n",
    "        )\n",
    "    return fig, comb_df\n",
    "\n",
    "# Matplotlib functions - useful for multiplots\n",
    "def plot_cluster_means_2(ax, morp_df, tum_df, sel_tfs, cls_1=\"\", cls_2=\"\", markers=[], log=False):\n",
    "    cluster_1 = int(cls_1.split(\"_\")[-1])\n",
    "    cluster_2 = int(cls_2.split(\"_\")[-1])\n",
    "\n",
    "    samples_1 = morp_df[morp_df['dendrogram_cut'] == cluster_1].index\n",
    "    samples_2 = morp_df[morp_df['dendrogram_cut'] == cluster_2].index\n",
    "\n",
    "    # Reconstruct the TPM\n",
    "    dmy_df = tum_df.loc[tum_df.index.isin(sel_tfs.index)]\n",
    "    df_1 = dmy_df.loc[:, samples_1].mean(axis=1).rename(cls_1)\n",
    "    df_2 = dmy_df.loc[:, samples_2].mean(axis=1).rename(cls_2)\n",
    "\n",
    "    comb_df = pd.concat([df_1, df_2], axis=1)\n",
    "\n",
    "    # Plotting\n",
    "    x_values = comb_df[cls_1]\n",
    "    y_values = comb_df[cls_2]\n",
    "    \n",
    "    if log:\n",
    "        x_values = np.log10(x_values + 1)  # +1 to handle log(0) cases\n",
    "        y_values = np.log10(y_values + 1)\n",
    "        xlabel = f'Log10({cls_1})'\n",
    "        ylabel = f'Log10({cls_2})'\n",
    "        title = f'Log10-scaled: {cls_1} vs {cls_2}'\n",
    "    else:\n",
    "        xlabel = cls_1\n",
    "        ylabel = cls_2\n",
    "        title = f'{cls_1} vs {cls_2}'\n",
    "\n",
    "    ax.scatter(x_values, y_values)\n",
    "    ax.set_xlabel(xlabel)\n",
    "    ax.set_ylabel(ylabel)\n",
    "    ax.set_title(title)\n",
    "\n",
    "    # Adding trend line\n",
    "    z = np.polyfit(x_values, y_values, 1)  # Fit a first degree polynomial (linear fit)\n",
    "    p = np.poly1d(z)  # Create the polynomial object to evaluate\n",
    "    ax.plot(x_values, p(x_values), \"r--\")  # Plot the trend line\n",
    "\n",
    "    # Annotations\n",
    "    for marker in markers:\n",
    "        x = x_values.get(marker, None)\n",
    "        y = y_values.get(marker, None)\n",
    "        if x is not None and y is not None:\n",
    "            ax.annotate(marker, (x, y), textcoords=\"offset points\", xytext=(0,10), ha='center')\n",
    "\n",
    "    # Adding gridlines\n",
    "    ax.grid(True, linestyle='--', linewidth=0.5, alpha=0.7)\n",
    "\n",
    "# save_fig(name=\"test\", fig=fig, base_path=figures_path, width=1400, height=700)"
   ]
  },
  {
   "cell_type": "code",
   "execution_count": 107,
   "metadata": {},
   "outputs": [],
   "source": [
    "if 0:\n",
    "    cluster_1, label_1 = 9, 'basal'\n",
    "    cluster_2, label_2 = 7, 'luminf'\n",
    "    cls_1, cls_2 = f'{label_1}_{cluster_1}', f'{label_2}_{cluster_2}'\n",
    "\n",
    "    markers = ['TP63', 'HES2', 'MSX2', \"MYCL\", 'ZSCAN16', 'MAFF', \"IRF7\", 'IRF6', 'KLF5', \"ETS2\"]\n",
    "\n",
    "    dmy_df = sel_tfs.loc[~sel_tfs.index.isin([\"BNC1\"])]\n",
    "    fig, df = plot_cluster_means(morp_df=morp_df, tum_df=tum_tpms_v4, sel_tfs=dmy_df, cls_1=cls_2, cls_2=cls_1, markers=markers, log=True)\n",
    "    # fig.show()"
   ]
  },
  {
   "cell_type": "markdown",
   "metadata": {},
   "source": [
    "### Matplotlib version"
   ]
  },
  {
   "cell_type": "code",
   "execution_count": 105,
   "metadata": {},
   "outputs": [],
   "source": [
    "if 0:\n",
    "    fig, axs = plt.subplots(1, 2, figsize=(14, 6))  # 1 row, 2 columns\n",
    "\n",
    "    cluster_1, label_1 = 10, 'basal'\n",
    "    cluster_2, label_2 = 13, 'basal'\n",
    "    cls_1, cls_2 = f'{label_1}_{cluster_1}', f'{label_2}_{cluster_2}'\n",
    "    markers = [\"IRF6\", \"TP63\", \"GRHL3\", \"HES2\", 'BNC1', \"REL\", \"ZBTB7C\", \"STAT1\", \"ELF3\", \"JUNB\", \"ZNF750\", \"AHR\", \"MYCL\", 'REPIN1']\n",
    "    fig1, df = plot_cluster_means_2(axs[0], morp_df=morp_df, tum_df=tum_tpms_v4, sel_tfs=sel_tfs, cls_1=cls_1, cls_2=cls_2, markers=markers, log=True)\n",
    "\n",
    "    # Repeat for the second figure\n",
    "    cluster_1, cluster_2, label_1, label_2 = 10, 9, 'basal', 'basal'\n",
    "    cls_1, cls_2 = f'{label_1}_{cluster_1}', f'{label_2}_{cluster_2}'\n",
    "    markers = [\"MSX2\", \"ZBTB7C\", \"ELF3\", \"KLF5\", \"TP63\", \"MECOM\", 'NR4A2']\n",
    "    fig2, df = plot_cluster_means_2(axs[1], morp_df=morp_df, tum_df=tum_tpms_v4, sel_tfs=sel_tfs, cls_1=cls_1, cls_2=cls_2, markers=markers, log=True)\n"
   ]
  },
  {
   "cell_type": "markdown",
   "metadata": {},
   "source": [
    "# Plotting PCA"
   ]
  },
  {
   "cell_type": "code",
   "execution_count": null,
   "metadata": {},
   "outputs": [],
   "source": [
    "from sklearn.preprocessing import StandardScaler\n",
    "from sklearn.decomposition import PCA\n",
    "import matplotlib.pyplot as plt\n",
    "\n",
    "plot_data = tum_tpms_v4.loc[sel_tfs.index]\n",
    "plot_data = np.log2(plot_data + 1)\n",
    "\n",
    "\n",
    "scaler = StandardScaler()\n",
    "# X_scaled = scaler.fit_transform(data.T)\n",
    "\n",
    "pca = PCA(n_components=2)  # Focus on the first two principal components\n",
    "principal_components = pca.fit_transform(plot_data.T)\n",
    "\n",
    "# Loadings (contribution scores)\n",
    "loadings = pca.components_.T\n",
    "\n",
    "gene_names = plot_data.T.columns\n",
    "sel_genes = ['BNC1', \"ELF3\", \"TP63\", \"KLF5\", \"MYCL\", \"GRHL3\", 'STAT1', \"AHR\"]"
   ]
  },
  {
   "cell_type": "code",
   "execution_count": null,
   "metadata": {},
   "outputs": [],
   "source": [
    "plt.figure(figsize=(12, 6))\n",
    "plt.scatter(principal_components[:, 0], principal_components[:, 1], alpha=0.5, label='Samples')\n",
    "\n",
    "# Scaling factor for visibility\n",
    "scaling_factor = 30\n",
    "max_arrow_length = 0.1  # Adjust based on your loadings\n",
    "\n",
    "# gene_names should be your list of gene names\n",
    "for i, (loading1, loading2) in enumerate(loadings):\n",
    "\n",
    "    if gene_names[i] not in sel_genes:\n",
    "        continue\n",
    "\n",
    "    length = np.sqrt(loading1**2 + loading2**2)\n",
    "    if length > max_arrow_length:\n",
    "        plt.arrow(0, 0, loading1 * scaling_factor, loading2 * scaling_factor,\n",
    "                  color='r', head_width=0.05, head_length=0.1, alpha=0.5)\n",
    "        plt.text(loading1 * scaling_factor * 1.2, loading2 * scaling_factor * 1.2,\n",
    "                 gene_names[i], color='r', ha='center', va='center')\n",
    "        \n",
    "\n",
    "plt.xlabel('Principal Component 1')\n",
    "plt.ylabel('Principal Component 2')\n",
    "plt.title('PCA of Log2 Transformed Gene Data')\n",
    "plt.grid(True)\n",
    "# plt.axis('equal')\n",
    "plt.legend()\n",
    "plt.show()\n"
   ]
  }
 ],
 "metadata": {
  "kernelspec": {
   "display_name": "iNet_gt",
   "language": "python",
   "name": "python3"
  },
  "language_info": {
   "codemirror_mode": {
    "name": "ipython",
    "version": 3
   },
   "file_extension": ".py",
   "mimetype": "text/x-python",
   "name": "python",
   "nbconvert_exporter": "python",
   "pygments_lexer": "ipython3",
   "version": "3.11.8"
  }
 },
 "nbformat": 4,
 "nbformat_minor": 2
}
