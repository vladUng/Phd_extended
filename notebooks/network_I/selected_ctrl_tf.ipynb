{
 "cells": [
  {
   "cell_type": "markdown",
   "metadata": {},
   "source": [
    "# Motivation\n",
    "\n",
    "The role of this notebook is to explore the biological significance of the selected tf"
   ]
  },
  {
   "cell_type": "code",
   "execution_count": 1,
   "metadata": {},
   "outputs": [
    {
     "name": "stdout",
     "output_type": "stream",
     "text": [
      "The autoreload extension is already loaded. To reload it, use:\n",
      "  %reload_ext autoreload\n"
     ]
    }
   ],
   "source": [
    "%load_ext autoreload\n",
    "import pandas as pd\n",
    "import numpy as np\n",
    "import os\n",
    "import sys\n",
    "\n",
    "import plotly.express as px\n",
    "import plotly.io as pio\n",
    "\n",
    "\n",
    "import multiprocess as mp\n",
    "\n",
    "\n",
    "# own libraries\n",
    "SCRIPT_DIR = os.path.dirname(os.path.abspath(\"pcgna_processing.py\"))\n",
    "sys.path.append(os.path.dirname(SCRIPT_DIR))\n",
    "sys.path.append('/Users/vlad/Documents/Code/York/iNet_v2/src/')\n",
    "\n",
    "from NetworkAnalysis.ExperimentSet import ExperimentSet\n",
    "from NetworkAnalysis import GraphHelper as gh\n",
    "from NetworkAnalysis.utilities import clustering as cs\n",
    "from NetworkAnalysis.utilities import sankey_consensus_plot as sky\n",
    "from NetworkAnalysis.utilities.helpers import save_fig, survival_plot, survival_comp\n",
    "from NetworkAnalysis.GraphToolExp import GraphToolExperiment as GtExp\n",
    "sys.path.append(os.path.dirname(\"../../src\"))\n",
    "# Gsea libraries\n",
    "\n",
    "pio.templates.default = \"ggplot2\"\n",
    "\n",
    "\n",
    "pool = mp.Pool(mp.cpu_count())"
   ]
  },
  {
   "cell_type": "code",
   "execution_count": 2,
   "metadata": {},
   "outputs": [],
   "source": [
    "results_path = \"../../results/exp/\"\n",
    "data_base = \"../../data/\"\n",
    "base_path = \"../../results/\"\n",
    "exp_folder_tumour = \"network_I/tum/\" # \"/integration_v2.1/ - path from iNET\n",
    "exp_folder_h42 = \"network_I/healthy42/\"\n",
    "exp_folder_h42_ctrl = \"network_I/healthyControls/\"\n",
    "\n",
    "figures_path = \"selective_edge_pruning/\"\n",
    "\n",
    "vu_output = pd.read_csv(f\"{data_base}/metadata/VU_clustering_v3.tsv\", sep=\"\\t\", index_col=\"Sample\")\n",
    "\n",
    "tcga_mutations_df = pd.read_csv(f\"{data_base}/tumour/mutations_tcga.csv\")\n",
    "tcga_mutations_df = tcga_mutations_df[tcga_mutations_df[\"count\"] != 0].set_index(\"gene\")\n",
    "\n",
    "tum_tpms = pd.read_csv(f\"{data_base}/tumour/TPMs_selected_genes_v3_13k_gc42.tsv\", sep=\"\\t\", index_col=\"genes\")\n",
    "tum_tpms_v4 = pd.read_csv(f\"{data_base}/tumour/tum_TPMs_selected_genes_gc42_all_v4.tsv\", sep=\"\\t\", index_col=\"genes\")\n",
    "\n",
    "# tf list\n",
    "tf_path = f\"{data_base}/metadata/TF_names_v_1.01.txt\"\n",
    "if os.path.exists(tf_path):\n",
    "    tf_list = np.genfromtxt(fname=tf_path, delimiter=\"\\t\", skip_header=1, dtype=\"str\")"
   ]
  },
  {
   "cell_type": "markdown",
   "metadata": {},
   "source": [
    "# Analysis"
   ]
  },
  {
   "cell_type": "markdown",
   "metadata": {},
   "source": [
    "## Gene expression visualisation"
   ]
  },
  {
   "cell_type": "code",
   "execution_count": 49,
   "metadata": {},
   "outputs": [],
   "source": [
    "sel_tfs = pd.read_csv(f'{data_base}/tf_ctrl.csv', index_col='gene')\n",
    "sel_tfs['tum_mean_expression'] = tum_tpms_v4.loc[sel_tfs.index].mean(axis=1)\n",
    "sel_tfs['tum_median_expression'] = tum_tpms_v4.loc[sel_tfs.index].median(axis=1)\n",
    "sel_tfs['tum_std_expression'] = tum_tpms_v4.loc[sel_tfs.index].std(axis=1)"
   ]
  },
  {
   "cell_type": "code",
   "execution_count": 50,
   "metadata": {},
   "outputs": [
    {
     "data": {
      "text/html": [
       "<div>\n",
       "<style scoped>\n",
       "    .dataframe tbody tr th:only-of-type {\n",
       "        vertical-align: middle;\n",
       "    }\n",
       "\n",
       "    .dataframe tbody tr th {\n",
       "        vertical-align: top;\n",
       "    }\n",
       "\n",
       "    .dataframe thead th {\n",
       "        text-align: right;\n",
       "    }\n",
       "</style>\n",
       "<table border=\"1\" class=\"dataframe\">\n",
       "  <thead>\n",
       "    <tr style=\"text-align: right;\">\n",
       "      <th></th>\n",
       "      <th>mut_count</th>\n",
       "      <th>tum_median_expression</th>\n",
       "      <th>healthy_median_expression</th>\n",
       "      <th>tum_mean_expression</th>\n",
       "      <th>healthy_mean_expression</th>\n",
       "      <th>tum_std_expression</th>\n",
       "      <th>healthy_std_expression</th>\n",
       "    </tr>\n",
       "    <tr>\n",
       "      <th>gene</th>\n",
       "      <th></th>\n",
       "      <th></th>\n",
       "      <th></th>\n",
       "      <th></th>\n",
       "      <th></th>\n",
       "      <th></th>\n",
       "      <th></th>\n",
       "    </tr>\n",
       "  </thead>\n",
       "  <tbody>\n",
       "    <tr>\n",
       "      <th>TMF1</th>\n",
       "      <td>9.0</td>\n",
       "      <td>10.542958</td>\n",
       "      <td>33.355197</td>\n",
       "      <td>11.538859</td>\n",
       "      <td>32.092722</td>\n",
       "      <td>6.897833</td>\n",
       "      <td>12.021861</td>\n",
       "    </tr>\n",
       "    <tr>\n",
       "      <th>TGIF1</th>\n",
       "      <td>4.0</td>\n",
       "      <td>122.278603</td>\n",
       "      <td>133.417372</td>\n",
       "      <td>133.043308</td>\n",
       "      <td>158.564100</td>\n",
       "      <td>68.719895</td>\n",
       "      <td>87.264486</td>\n",
       "    </tr>\n",
       "    <tr>\n",
       "      <th>TRERF1</th>\n",
       "      <td>15.0</td>\n",
       "      <td>5.376512</td>\n",
       "      <td>10.024822</td>\n",
       "      <td>6.198969</td>\n",
       "      <td>11.768747</td>\n",
       "      <td>4.264199</td>\n",
       "      <td>6.629848</td>\n",
       "    </tr>\n",
       "    <tr>\n",
       "      <th>ZBTB10</th>\n",
       "      <td>1.0</td>\n",
       "      <td>2.886254</td>\n",
       "      <td>3.889252</td>\n",
       "      <td>3.804161</td>\n",
       "      <td>7.196493</td>\n",
       "      <td>3.285030</td>\n",
       "      <td>8.219635</td>\n",
       "    </tr>\n",
       "    <tr>\n",
       "      <th>NFATC4</th>\n",
       "      <td>7.0</td>\n",
       "      <td>21.945165</td>\n",
       "      <td>29.020569</td>\n",
       "      <td>31.025401</td>\n",
       "      <td>30.762123</td>\n",
       "      <td>29.833537</td>\n",
       "      <td>23.082292</td>\n",
       "    </tr>\n",
       "    <tr>\n",
       "      <th>...</th>\n",
       "      <td>...</td>\n",
       "      <td>...</td>\n",
       "      <td>...</td>\n",
       "      <td>...</td>\n",
       "      <td>...</td>\n",
       "      <td>...</td>\n",
       "      <td>...</td>\n",
       "    </tr>\n",
       "    <tr>\n",
       "      <th>REPIN1</th>\n",
       "      <td>2.0</td>\n",
       "      <td>43.175231</td>\n",
       "      <td>52.293611</td>\n",
       "      <td>48.269158</td>\n",
       "      <td>50.571216</td>\n",
       "      <td>29.774059</td>\n",
       "      <td>23.306956</td>\n",
       "    </tr>\n",
       "    <tr>\n",
       "      <th>JUNB</th>\n",
       "      <td>3.0</td>\n",
       "      <td>248.349863</td>\n",
       "      <td>271.009715</td>\n",
       "      <td>286.124501</td>\n",
       "      <td>437.743241</td>\n",
       "      <td>181.303215</td>\n",
       "      <td>398.875691</td>\n",
       "    </tr>\n",
       "    <tr>\n",
       "      <th>TP63</th>\n",
       "      <td>14.0</td>\n",
       "      <td>36.632924</td>\n",
       "      <td>33.863527</td>\n",
       "      <td>46.864273</td>\n",
       "      <td>50.054863</td>\n",
       "      <td>50.317509</td>\n",
       "      <td>37.662011</td>\n",
       "    </tr>\n",
       "    <tr>\n",
       "      <th>ZNF224</th>\n",
       "      <td>10.0</td>\n",
       "      <td>6.923992</td>\n",
       "      <td>11.850942</td>\n",
       "      <td>8.754605</td>\n",
       "      <td>13.715299</td>\n",
       "      <td>6.660910</td>\n",
       "      <td>7.292112</td>\n",
       "    </tr>\n",
       "    <tr>\n",
       "      <th>NFIL3</th>\n",
       "      <td>2.0</td>\n",
       "      <td>17.459517</td>\n",
       "      <td>18.594895</td>\n",
       "      <td>21.166453</td>\n",
       "      <td>25.527680</td>\n",
       "      <td>15.242838</td>\n",
       "      <td>18.476006</td>\n",
       "    </tr>\n",
       "  </tbody>\n",
       "</table>\n",
       "<p>98 rows × 7 columns</p>\n",
       "</div>"
      ],
      "text/plain": [
       "        mut_count  tum_median_expression  healthy_median_expression  \\\n",
       "gene                                                                  \n",
       "TMF1          9.0              10.542958                  33.355197   \n",
       "TGIF1         4.0             122.278603                 133.417372   \n",
       "TRERF1       15.0               5.376512                  10.024822   \n",
       "ZBTB10        1.0               2.886254                   3.889252   \n",
       "NFATC4        7.0              21.945165                  29.020569   \n",
       "...           ...                    ...                        ...   \n",
       "REPIN1        2.0              43.175231                  52.293611   \n",
       "JUNB          3.0             248.349863                 271.009715   \n",
       "TP63         14.0              36.632924                  33.863527   \n",
       "ZNF224       10.0               6.923992                  11.850942   \n",
       "NFIL3         2.0              17.459517                  18.594895   \n",
       "\n",
       "        tum_mean_expression  healthy_mean_expression  tum_std_expression  \\\n",
       "gene                                                                       \n",
       "TMF1              11.538859                32.092722            6.897833   \n",
       "TGIF1            133.043308               158.564100           68.719895   \n",
       "TRERF1             6.198969                11.768747            4.264199   \n",
       "ZBTB10             3.804161                 7.196493            3.285030   \n",
       "NFATC4            31.025401                30.762123           29.833537   \n",
       "...                     ...                      ...                 ...   \n",
       "REPIN1            48.269158                50.571216           29.774059   \n",
       "JUNB             286.124501               437.743241          181.303215   \n",
       "TP63              46.864273                50.054863           50.317509   \n",
       "ZNF224             8.754605                13.715299            6.660910   \n",
       "NFIL3             21.166453                25.527680           15.242838   \n",
       "\n",
       "        healthy_std_expression  \n",
       "gene                            \n",
       "TMF1                 12.021861  \n",
       "TGIF1                87.264486  \n",
       "TRERF1                6.629848  \n",
       "ZBTB10                8.219635  \n",
       "NFATC4               23.082292  \n",
       "...                        ...  \n",
       "REPIN1               23.306956  \n",
       "JUNB                398.875691  \n",
       "TP63                 37.662011  \n",
       "ZNF224                7.292112  \n",
       "NFIL3                18.476006  \n",
       "\n",
       "[98 rows x 7 columns]"
      ]
     },
     "execution_count": 50,
     "metadata": {},
     "output_type": "execute_result"
    }
   ],
   "source": [
    "sel_tfs"
   ]
  },
  {
   "cell_type": "code",
   "execution_count": 65,
   "metadata": {},
   "outputs": [
    {
     "name": "stderr",
     "output_type": "stream",
     "text": [
      "/var/folders/wd/10ylrkx55m78njljcl21yt2c0000gn/T/ipykernel_12071/3810562240.py:45: RuntimeWarning:\n",
      "\n",
      "invalid value encountered in log10\n",
      "\n"
     ]
    },
    {
     "data": {
      "application/vnd.plotly.v1+json": {
       "config": {
        "plotlyServerURL": "https://plot.ly"
       },
       "data": [
        {
         "customdata": [
          [
           "TMF1"
          ],
          [
           "TGIF1"
          ],
          [
           "TRERF1"
          ],
          [
           "ZBTB10"
          ],
          [
           "NFATC4"
          ],
          [
           "DBP"
          ],
          [
           "HES2"
          ],
          [
           "SP100"
          ],
          [
           "SPEN"
          ],
          [
           "MAFG"
          ],
          [
           "EGR1"
          ],
          [
           "ZNF513"
          ],
          [
           "ZNF609"
          ],
          [
           "ETS2"
          ],
          [
           "ZSCAN16"
          ],
          [
           "ATF3"
          ],
          [
           "ATMIN"
          ],
          [
           "AHR"
          ],
          [
           "LCOR"
          ],
          [
           "ZBTB21"
          ],
          [
           "FOSL2"
          ],
          [
           "ZNF552"
          ],
          [
           "MAFK"
          ],
          [
           "CASZ1"
          ],
          [
           "ANKZF1"
          ],
          [
           "BNC1"
          ],
          [
           "TCF20"
          ],
          [
           "SP1"
          ],
          [
           "BCL6"
          ],
          [
           "MYCL"
          ],
          [
           "ETV7"
          ],
          [
           "KLF4"
          ],
          [
           "SP110"
          ],
          [
           "FOXQ1"
          ],
          [
           "ZNF335"
          ],
          [
           "SAFB2"
          ],
          [
           "SKI"
          ],
          [
           "POGK"
          ],
          [
           "MSX2"
          ],
          [
           "MAFF"
          ],
          [
           "FOSL1"
          ],
          [
           "RUNX1"
          ],
          [
           "OVOL1"
          ],
          [
           "HIVEP1"
          ],
          [
           "NFAT5"
          ],
          [
           "KLF5"
          ],
          [
           "ZNF750"
          ],
          [
           "PHF1"
          ],
          [
           "EBF4"
          ],
          [
           "NR4A2"
          ],
          [
           "STAT1"
          ],
          [
           "MBD6"
          ],
          [
           "JRK"
          ],
          [
           "KLF6"
          ],
          [
           "DOT1L"
          ],
          [
           "IRF9"
          ],
          [
           "FOXJ3"
          ],
          [
           "ETS1"
          ],
          [
           "ZBTB4"
          ],
          [
           "ZNF846"
          ],
          [
           "BHLHE41"
          ],
          [
           "MECOM"
          ],
          [
           "SATB1"
          ],
          [
           "ZNF524"
          ],
          [
           "IRF7"
          ],
          [
           "ETV3"
          ],
          [
           "HIVEP2"
          ],
          [
           "ERF"
          ],
          [
           "IRF6"
          ],
          [
           "ZBTB7C"
          ],
          [
           "TEAD1"
          ],
          [
           "ZNF276"
          ],
          [
           "PLSCR1"
          ],
          [
           "MSANTD3"
          ],
          [
           "STAT2"
          ],
          [
           "ARID5B"
          ],
          [
           "SLC2A4RG"
          ],
          [
           "ELK4"
          ],
          [
           "KLF16"
          ],
          [
           "ELF3"
          ],
          [
           "HOXB6"
          ],
          [
           "CIC"
          ],
          [
           "ZNF586"
          ],
          [
           "KMT2A"
          ],
          [
           "SRF"
          ],
          [
           "ELF4"
          ],
          [
           "ZNF211"
          ],
          [
           "ZXDB"
          ],
          [
           "MBD1"
          ],
          [
           "FBXL19"
          ],
          [
           "REL"
          ],
          [
           "GRHL3"
          ],
          [
           "JUN"
          ],
          [
           "REPIN1"
          ],
          [
           "JUNB"
          ],
          [
           "TP63"
          ],
          [
           "ZNF224"
          ],
          [
           "NFIL3"
          ]
         ],
         "hovertemplate": "tum_mean_expression=%{x}<br>healthy_mean_expression=%{y}<br>mut_count=%{marker.color}<br>gene=%{customdata[0]}<extra></extra>",
         "legendgroup": "",
         "marker": {
          "color": [
           9,
           4,
           15,
           1,
           7,
           2,
           1,
           14,
           26,
           1,
           8,
           11,
           7,
           5,
           0,
           0,
           10,
           23,
           3,
           11,
           4,
           3,
           1,
           8,
           8,
           7,
           11,
           9,
           3,
           3,
           2,
           3,
           3,
           13,
           12,
           5,
           1,
           8,
           1,
           0,
           4,
           11,
           0,
           17,
           13,
           21,
           13,
           9,
           0,
           4,
           10,
           13,
           3,
           8,
           16,
           3,
           5,
           5,
           5,
           6,
           5,
           16,
           6,
           2,
           4,
           1,
           19,
           3,
           4,
           4,
           2,
           9,
           4,
           2,
           3,
           8,
           2,
           6,
           1,
           49,
           6,
           11,
           3,
           44,
           4,
           6,
           5,
           5,
           9,
           4,
           6,
           4,
           4,
           2,
           3,
           14,
           10,
           2
          ],
          "coloraxis": "coloraxis",
          "size": [
           9,
           4,
           15,
           1,
           7,
           2,
           1,
           14,
           26,
           1,
           8,
           11,
           7,
           5,
           0,
           0,
           10,
           23,
           3,
           11,
           4,
           3,
           1,
           8,
           8,
           7,
           11,
           9,
           3,
           3,
           2,
           3,
           3,
           13,
           12,
           5,
           1,
           8,
           1,
           0,
           4,
           11,
           0,
           17,
           13,
           21,
           13,
           9,
           0,
           4,
           10,
           13,
           3,
           8,
           16,
           3,
           5,
           5,
           5,
           6,
           5,
           16,
           6,
           2,
           4,
           1,
           19,
           3,
           4,
           4,
           2,
           9,
           4,
           2,
           3,
           8,
           2,
           6,
           1,
           49,
           6,
           11,
           3,
           44,
           4,
           6,
           5,
           5,
           9,
           4,
           6,
           4,
           4,
           2,
           3,
           14,
           10,
           2
          ],
          "sizemode": "area",
          "sizeref": 0.1225,
          "symbol": "circle"
         },
         "mode": "markers",
         "name": "",
         "orientation": "v",
         "showlegend": false,
         "type": "scatter",
         "x": [
          12.538858888737995,
          134.04330816461248,
          7.198968681028324,
          4.804160647110401,
          32.02540134062113,
          17.960730401238045,
          16.532849222835964,
          43.02526117792658,
          29.232315445118488,
          10.74903063556466,
          87.91788344746465,
          22.28141749598569,
          8.481055817336998,
          102.94697620071584,
          10.754264518040026,
          63.59646630020644,
          23.99067409712575,
          53.86693453206048,
          7.736080452915543,
          4.9674400734210185,
          72.13602927633288,
          17.280560629869306,
          28.42452795811338,
          11.341906922478088,
          12.955292487589693,
          4.7601905521266445,
          16.15170853288543,
          25.476022310594054,
          39.562548650905356,
          67.43550662272744,
          16.97844197364467,
          8.227182953840705,
          19.52715169801304,
          72.17036318123674,
          12.22685525051373,
          52.771960065891264,
          18.055807077351822,
          31.504254349062112,
          27.88262079714446,
          37.245015787454925,
          37.891187774338796,
          22.613544463516853,
          29.73520658464897,
          9.992065349017405,
          5.73932562350101,
          197.32796759776443,
          21.793740394950856,
          48.76488531836998,
          12.827265027414274,
          8.996720631177741,
          143.43251619024662,
          33.529940843157476,
          19.45001613440285,
          66.56529740669002,
          10.83042871039244,
          81.83804433907265,
          17.036871610003416,
          27.706364936320828,
          20.259865548002786,
          13.719981291948752,
          28.88711115037072,
          27.14890226306633,
          14.614208513981279,
          30.097104448792955,
          28.195687857848267,
          14.98591432237192,
          11.452674040470093,
          35.71368480700449,
          75.47151628957003,
          15.532225383338174,
          9.83939587353762,
          11.990772932915737,
          77.8611963087824,
          19.697037238813028,
          40.028993993062,
          12.397854115613148,
          133.3479827602413,
          10.16999231006151,
          17.11400383768252,
          641.5812922884239,
          16.742424903434962,
          34.7025842246883,
          10.368351006170991,
          13.865858338017548,
          22.796730487815356,
          27.431531702960136,
          11.861306420422476,
          4.303028272785774,
          30.515312424474466,
          21.761989140058173,
          6.523663324657416,
          58.786884474519944,
          103.33873982632461,
          49.2691579204348,
          287.12450092358125,
          47.864272689669384,
          9.754605251806629,
          22.166452885318666
         ],
         "xaxis": "x",
         "y": [
          33.09272238540509,
          159.56409996503555,
          12.768746640290772,
          8.19649293921594,
          31.76212349564308,
          15.416333301229852,
          44.486837284545565,
          114.1907702716712,
          28.190127446208876,
          23.637169785149595,
          123.56798588554553,
          26.028224034955496,
          20.041838737731155,
          286.1021974226162,
          11.935930967818257,
          300.64228639044563,
          28.65994466056049,
          109.70847209041658,
          17.798150364001874,
          13.239118487753956,
          109.47414560407064,
          49.95634723291293,
          87.47037331480318,
          11.091017241738836,
          20.416503121719657,
          28.66477371136217,
          21.30499808797609,
          37.56704810766293,
          62.87302560459845,
          47.74727909341081,
          13.56356451788504,
          41.65173820534135,
          26.57847077127344,
          97.8255676969963,
          14.606885077253756,
          59.61014117800799,
          18.5204406457645,
          23.255640988033225,
          39.4429415417406,
          185.17282853346492,
          137.4197850313816,
          33.34116839594106,
          64.54963578915763,
          15.249342341414645,
          17.319613231895463,
          424.9277557852147,
          27.38971236478501,
          42.68681039455326,
          12.696437282437175,
          19.885395239735644,
          156.71979756446325,
          35.0075427022411,
          53.60025089853661,
          346.56559794145164,
          18.61646948973636,
          80.40542381193858,
          29.099955469391052,
          51.31181537880605,
          47.69090316602318,
          22.1269786897636,
          62.47499679189278,
          57.44950829471248,
          25.45566869514798,
          25.191625965318423,
          38.08032796183377,
          54.71194884136744,
          28.19209690694605,
          60.48897616514891,
          181.05944558210172,
          10.16689807907446,
          27.02313461340584,
          15.259474901208034,
          174.89890942447062,
          26.570569577208317,
          38.91015442693567,
          16.20330345660547,
          64.01554252575565,
          15.985283661027143,
          34.823894543586064,
          1665.9102023340618,
          64.35347797046265,
          30.018125094222043,
          17.575836775507995,
          20.495427133680145,
          26.02473927365773,
          35.156162167884595,
          15.510514442922892,
          13.934440150282274,
          70.60218139993329,
          26.0519139502201,
          23.346170777610165,
          64.39126223790832,
          331.5375346208518,
          51.57121558534095,
          438.7432405339002,
          51.05486252456931,
          14.715298534194227,
          26.527680085532143
         ],
         "yaxis": "y"
        }
       ],
       "layout": {
        "annotations": [
         {
          "arrowhead": 1,
          "ax": null,
          "ay": null,
          "showarrow": true,
          "text": "TGIF1",
          "x": 2.1272451376047985,
          "y": 2.202935186883946
         },
         {
          "arrowhead": 1,
          "ax": 0.6989700043360189,
          "ay": null,
          "showarrow": true,
          "text": "KLF5",
          "x": 2.295188642842625,
          "y": 2.62831509962486
         },
         {
          "arrowhead": 1,
          "ax": null,
          "ay": null,
          "showarrow": true,
          "text": "HIVEP1",
          "x": 0.999655265700832,
          "y": 1.183251114262908
         },
         {
          "arrowhead": 1,
          "ax": 0.6989700043360189,
          "ay": null,
          "showarrow": true,
          "text": "STAT1",
          "x": 2.1566476171699276,
          "y": 2.195123862007269
         },
         {
          "arrowhead": 1,
          "ax": null,
          "ay": null,
          "showarrow": true,
          "text": "IRF6",
          "x": 1.8777830754396305,
          "y": 2.2578211861935253
         },
         {
          "arrowhead": 1,
          "ax": 0.6989700043360189,
          "ay": null,
          "showarrow": true,
          "text": "PLSCR1",
          "x": 1.8913210722091593,
          "y": 2.2427871014603165
         },
         {
          "arrowhead": 1,
          "ax": null,
          "ay": null,
          "showarrow": true,
          "text": "IRF9",
          "x": 1.912955242613961,
          "y": 1.905285345416945
         },
         {
          "arrowhead": 1,
          "ax": 0.6989700043360189,
          "ay": null,
          "showarrow": true,
          "text": "MECOM",
          "x": 1.4337522740452708,
          "y": 1.7592863159519463
         },
         {
          "arrowhead": 1,
          "ax": 0.6989700043360189,
          "ay": 1.4771212547196624,
          "showarrow": true,
          "text": "TRERF1",
          "x": 0.8572702841785483,
          "y": 1.106148269705089
         },
         {
          "arrowhead": 1,
          "ax": 0.6989700043360189,
          "ay": null,
          "showarrow": true,
          "text": "JUNB",
          "x": 2.458070253318196,
          "y": 2.642210438598801
         },
         {
          "arrowhead": 1,
          "ax": null,
          "ay": null,
          "showarrow": true,
          "text": "MAFF",
          "x": 1.5710681626994685,
          "y": 2.2675772605116262
         },
         {
          "arrowhead": 1,
          "ax": 0.6989700043360189,
          "ay": null,
          "showarrow": true,
          "text": "DOT1L",
          "x": 1.034645648026311,
          "y": 1.2698973229124697
         },
         {
          "arrowhead": 1,
          "ax": null,
          "ay": null,
          "showarrow": true,
          "text": "ETS2",
          "x": 2.0126135948721706,
          "y": 2.456521193439138
         },
         {
          "arrowhead": 1,
          "ax": null,
          "ay": 1.4771212547196624,
          "showarrow": true,
          "text": "AHR",
          "x": 1.7313222613508328,
          "y": 2.0402401666817918
         },
         {
          "arrowhead": 1,
          "ax": 0.6989700043360189,
          "ay": 1.4771212547196624,
          "showarrow": true,
          "text": "KMT2A",
          "x": 1.1419467588707184,
          "y": 1.3116569736340935
         },
         {
          "arrowhead": 1,
          "ax": 0.6989700043360189,
          "ay": null,
          "showarrow": true,
          "text": "SP100",
          "x": 1.6337235153223877,
          "y": 2.057631002490625
         },
         {
          "arrowhead": 1,
          "ax": null,
          "ay": null,
          "showarrow": true,
          "text": "ELF3",
          "x": 2.807251691974427,
          "y": 3.2216515878979846
         },
         {
          "arrowhead": 1,
          "ax": 0.6989700043360189,
          "ay": null,
          "showarrow": true,
          "text": "HIVEP2",
          "x": 1.058906900250913,
          "y": 1.450127379569624
         },
         {
          "arrowhead": 1,
          "ax": 0.6989700043360189,
          "ay": 1.4771212547196624,
          "showarrow": true,
          "text": "SPEN",
          "x": 1.465863216493655,
          "y": 1.4500970393004828
         },
         {
          "arrowhead": 1,
          "ax": 0.6989700043360189,
          "ay": null,
          "showarrow": true,
          "text": "SLC2A4RG",
          "x": 2.1249864502267024,
          "y": 1.80628543044754
         },
         {
          "arrowhead": 1,
          "ax": null,
          "ay": null,
          "showarrow": true,
          "text": "JUN",
          "x": 2.014263161198317,
          "y": 2.5205327036485685
         },
         {
          "arrowhead": 1,
          "ax": 0.6989700043360189,
          "ay": null,
          "showarrow": true,
          "text": "FOSL1",
          "x": 1.5785382193091955,
          "y": 2.13804926482956
         },
         {
          "arrowhead": 1,
          "ax": null,
          "ay": null,
          "showarrow": true,
          "text": "FOXQ1",
          "x": 1.8583588907932727,
          "y": 1.9904523768585087
         },
         {
          "arrowhead": 1,
          "ax": null,
          "ay": 1.4771212547196624,
          "showarrow": true,
          "text": "ERF",
          "x": 1.5528346614162485,
          "y": 1.7816762337123562
         },
         {
          "arrowhead": 1,
          "ax": null,
          "ay": null,
          "showarrow": true,
          "text": "MYCL",
          "x": 1.828888624576831,
          "y": 1.6789486281001624
         },
         {
          "arrowhead": 1,
          "ax": null,
          "ay": 1.4771212547196624,
          "showarrow": true,
          "text": "STAT2",
          "x": 1.6023746755722048,
          "y": 1.590062954438616
         },
         {
          "arrowhead": 1,
          "ax": null,
          "ay": null,
          "showarrow": true,
          "text": "IRF7",
          "x": 1.4501826940378277,
          "y": 1.58070068003285
         },
         {
          "arrowhead": 1,
          "ax": 0.6989700043360189,
          "ay": null,
          "showarrow": true,
          "text": "CIC",
          "x": 1.540361816944561,
          "y": 1.4773835631017236
         },
         {
          "arrowhead": 1,
          "ax": 0.6989700043360189,
          "ay": 1.4771212547196624,
          "showarrow": true,
          "text": "MBD6",
          "x": 1.5254327872041573,
          "y": 1.5441616272371528
         },
         {
          "arrowhead": 1,
          "ax": 0.6989700043360189,
          "ay": null,
          "showarrow": true,
          "text": "ZNF750",
          "x": 1.3383317733156004,
          "y": 1.4375874715003072
         },
         {
          "arrowhead": 1,
          "ax": 0.6989700043360189,
          "ay": 1.4771212547196624,
          "showarrow": true,
          "text": "ZNF513",
          "x": 1.3479428162639164,
          "y": 1.415444536217888
         },
         {
          "arrowhead": 1,
          "ax": 0.6989700043360189,
          "ay": null,
          "showarrow": true,
          "text": "BNC1",
          "x": 0.6776243380315695,
          "y": 1.45734851766853
         }
        ],
        "coloraxis": {
         "colorbar": {
          "title": {
           "text": "mut_count"
          }
         },
         "colorscale": [
          [
           0,
           "rgb(92, 83, 165)"
          ],
          [
           0.16666666666666666,
           "rgb(160, 89, 160)"
          ],
          [
           0.3333333333333333,
           "rgb(206, 102, 147)"
          ],
          [
           0.5,
           "rgb(235, 127, 134)"
          ],
          [
           0.6666666666666666,
           "rgb(248, 160, 126)"
          ],
          [
           0.8333333333333334,
           "rgb(250, 196, 132)"
          ],
          [
           1,
           "rgb(243, 231, 155)"
          ]
         ]
        },
        "height": 900,
        "legend": {
         "itemsizing": "constant",
         "tracegroupgap": 0
        },
        "margin": {
         "t": 60
        },
        "template": {
         "data": {
          "bar": [
           {
            "error_x": {
             "color": "rgb(51,51,51)"
            },
            "error_y": {
             "color": "rgb(51,51,51)"
            },
            "marker": {
             "line": {
              "color": "rgb(237,237,237)",
              "width": 0.5
             },
             "pattern": {
              "fillmode": "overlay",
              "size": 10,
              "solidity": 0.2
             }
            },
            "type": "bar"
           }
          ],
          "barpolar": [
           {
            "marker": {
             "line": {
              "color": "rgb(237,237,237)",
              "width": 0.5
             },
             "pattern": {
              "fillmode": "overlay",
              "size": 10,
              "solidity": 0.2
             }
            },
            "type": "barpolar"
           }
          ],
          "carpet": [
           {
            "aaxis": {
             "endlinecolor": "rgb(51,51,51)",
             "gridcolor": "white",
             "linecolor": "white",
             "minorgridcolor": "white",
             "startlinecolor": "rgb(51,51,51)"
            },
            "baxis": {
             "endlinecolor": "rgb(51,51,51)",
             "gridcolor": "white",
             "linecolor": "white",
             "minorgridcolor": "white",
             "startlinecolor": "rgb(51,51,51)"
            },
            "type": "carpet"
           }
          ],
          "choropleth": [
           {
            "colorbar": {
             "outlinewidth": 0,
             "tickcolor": "rgb(237,237,237)",
             "ticklen": 6,
             "ticks": "inside"
            },
            "type": "choropleth"
           }
          ],
          "contour": [
           {
            "colorbar": {
             "outlinewidth": 0,
             "tickcolor": "rgb(237,237,237)",
             "ticklen": 6,
             "ticks": "inside"
            },
            "colorscale": [
             [
              0,
              "rgb(20,44,66)"
             ],
             [
              1,
              "rgb(90,179,244)"
             ]
            ],
            "type": "contour"
           }
          ],
          "contourcarpet": [
           {
            "colorbar": {
             "outlinewidth": 0,
             "tickcolor": "rgb(237,237,237)",
             "ticklen": 6,
             "ticks": "inside"
            },
            "type": "contourcarpet"
           }
          ],
          "heatmap": [
           {
            "colorbar": {
             "outlinewidth": 0,
             "tickcolor": "rgb(237,237,237)",
             "ticklen": 6,
             "ticks": "inside"
            },
            "colorscale": [
             [
              0,
              "rgb(20,44,66)"
             ],
             [
              1,
              "rgb(90,179,244)"
             ]
            ],
            "type": "heatmap"
           }
          ],
          "heatmapgl": [
           {
            "colorbar": {
             "outlinewidth": 0,
             "tickcolor": "rgb(237,237,237)",
             "ticklen": 6,
             "ticks": "inside"
            },
            "colorscale": [
             [
              0,
              "rgb(20,44,66)"
             ],
             [
              1,
              "rgb(90,179,244)"
             ]
            ],
            "type": "heatmapgl"
           }
          ],
          "histogram": [
           {
            "marker": {
             "pattern": {
              "fillmode": "overlay",
              "size": 10,
              "solidity": 0.2
             }
            },
            "type": "histogram"
           }
          ],
          "histogram2d": [
           {
            "colorbar": {
             "outlinewidth": 0,
             "tickcolor": "rgb(237,237,237)",
             "ticklen": 6,
             "ticks": "inside"
            },
            "colorscale": [
             [
              0,
              "rgb(20,44,66)"
             ],
             [
              1,
              "rgb(90,179,244)"
             ]
            ],
            "type": "histogram2d"
           }
          ],
          "histogram2dcontour": [
           {
            "colorbar": {
             "outlinewidth": 0,
             "tickcolor": "rgb(237,237,237)",
             "ticklen": 6,
             "ticks": "inside"
            },
            "colorscale": [
             [
              0,
              "rgb(20,44,66)"
             ],
             [
              1,
              "rgb(90,179,244)"
             ]
            ],
            "type": "histogram2dcontour"
           }
          ],
          "mesh3d": [
           {
            "colorbar": {
             "outlinewidth": 0,
             "tickcolor": "rgb(237,237,237)",
             "ticklen": 6,
             "ticks": "inside"
            },
            "type": "mesh3d"
           }
          ],
          "parcoords": [
           {
            "line": {
             "colorbar": {
              "outlinewidth": 0,
              "tickcolor": "rgb(237,237,237)",
              "ticklen": 6,
              "ticks": "inside"
             }
            },
            "type": "parcoords"
           }
          ],
          "pie": [
           {
            "automargin": true,
            "type": "pie"
           }
          ],
          "scatter": [
           {
            "fillpattern": {
             "fillmode": "overlay",
             "size": 10,
             "solidity": 0.2
            },
            "type": "scatter"
           }
          ],
          "scatter3d": [
           {
            "line": {
             "colorbar": {
              "outlinewidth": 0,
              "tickcolor": "rgb(237,237,237)",
              "ticklen": 6,
              "ticks": "inside"
             }
            },
            "marker": {
             "colorbar": {
              "outlinewidth": 0,
              "tickcolor": "rgb(237,237,237)",
              "ticklen": 6,
              "ticks": "inside"
             }
            },
            "type": "scatter3d"
           }
          ],
          "scattercarpet": [
           {
            "marker": {
             "colorbar": {
              "outlinewidth": 0,
              "tickcolor": "rgb(237,237,237)",
              "ticklen": 6,
              "ticks": "inside"
             }
            },
            "type": "scattercarpet"
           }
          ],
          "scattergeo": [
           {
            "marker": {
             "colorbar": {
              "outlinewidth": 0,
              "tickcolor": "rgb(237,237,237)",
              "ticklen": 6,
              "ticks": "inside"
             }
            },
            "type": "scattergeo"
           }
          ],
          "scattergl": [
           {
            "marker": {
             "colorbar": {
              "outlinewidth": 0,
              "tickcolor": "rgb(237,237,237)",
              "ticklen": 6,
              "ticks": "inside"
             }
            },
            "type": "scattergl"
           }
          ],
          "scattermapbox": [
           {
            "marker": {
             "colorbar": {
              "outlinewidth": 0,
              "tickcolor": "rgb(237,237,237)",
              "ticklen": 6,
              "ticks": "inside"
             }
            },
            "type": "scattermapbox"
           }
          ],
          "scatterpolar": [
           {
            "marker": {
             "colorbar": {
              "outlinewidth": 0,
              "tickcolor": "rgb(237,237,237)",
              "ticklen": 6,
              "ticks": "inside"
             }
            },
            "type": "scatterpolar"
           }
          ],
          "scatterpolargl": [
           {
            "marker": {
             "colorbar": {
              "outlinewidth": 0,
              "tickcolor": "rgb(237,237,237)",
              "ticklen": 6,
              "ticks": "inside"
             }
            },
            "type": "scatterpolargl"
           }
          ],
          "scatterternary": [
           {
            "marker": {
             "colorbar": {
              "outlinewidth": 0,
              "tickcolor": "rgb(237,237,237)",
              "ticklen": 6,
              "ticks": "inside"
             }
            },
            "type": "scatterternary"
           }
          ],
          "surface": [
           {
            "colorbar": {
             "outlinewidth": 0,
             "tickcolor": "rgb(237,237,237)",
             "ticklen": 6,
             "ticks": "inside"
            },
            "colorscale": [
             [
              0,
              "rgb(20,44,66)"
             ],
             [
              1,
              "rgb(90,179,244)"
             ]
            ],
            "type": "surface"
           }
          ],
          "table": [
           {
            "cells": {
             "fill": {
              "color": "rgb(237,237,237)"
             },
             "line": {
              "color": "white"
             }
            },
            "header": {
             "fill": {
              "color": "rgb(217,217,217)"
             },
             "line": {
              "color": "white"
             }
            },
            "type": "table"
           }
          ]
         },
         "layout": {
          "annotationdefaults": {
           "arrowhead": 0,
           "arrowwidth": 1
          },
          "autotypenumbers": "strict",
          "coloraxis": {
           "colorbar": {
            "outlinewidth": 0,
            "tickcolor": "rgb(237,237,237)",
            "ticklen": 6,
            "ticks": "inside"
           }
          },
          "colorscale": {
           "sequential": [
            [
             0,
             "rgb(20,44,66)"
            ],
            [
             1,
             "rgb(90,179,244)"
            ]
           ],
           "sequentialminus": [
            [
             0,
             "rgb(20,44,66)"
            ],
            [
             1,
             "rgb(90,179,244)"
            ]
           ]
          },
          "colorway": [
           "#F8766D",
           "#A3A500",
           "#00BF7D",
           "#00B0F6",
           "#E76BF3"
          ],
          "font": {
           "color": "rgb(51,51,51)"
          },
          "geo": {
           "bgcolor": "white",
           "lakecolor": "white",
           "landcolor": "rgb(237,237,237)",
           "showlakes": true,
           "showland": true,
           "subunitcolor": "white"
          },
          "hoverlabel": {
           "align": "left"
          },
          "hovermode": "closest",
          "paper_bgcolor": "white",
          "plot_bgcolor": "rgb(237,237,237)",
          "polar": {
           "angularaxis": {
            "gridcolor": "white",
            "linecolor": "white",
            "showgrid": true,
            "tickcolor": "rgb(51,51,51)",
            "ticks": "outside"
           },
           "bgcolor": "rgb(237,237,237)",
           "radialaxis": {
            "gridcolor": "white",
            "linecolor": "white",
            "showgrid": true,
            "tickcolor": "rgb(51,51,51)",
            "ticks": "outside"
           }
          },
          "scene": {
           "xaxis": {
            "backgroundcolor": "rgb(237,237,237)",
            "gridcolor": "white",
            "gridwidth": 2,
            "linecolor": "white",
            "showbackground": true,
            "showgrid": true,
            "tickcolor": "rgb(51,51,51)",
            "ticks": "outside",
            "zerolinecolor": "white"
           },
           "yaxis": {
            "backgroundcolor": "rgb(237,237,237)",
            "gridcolor": "white",
            "gridwidth": 2,
            "linecolor": "white",
            "showbackground": true,
            "showgrid": true,
            "tickcolor": "rgb(51,51,51)",
            "ticks": "outside",
            "zerolinecolor": "white"
           },
           "zaxis": {
            "backgroundcolor": "rgb(237,237,237)",
            "gridcolor": "white",
            "gridwidth": 2,
            "linecolor": "white",
            "showbackground": true,
            "showgrid": true,
            "tickcolor": "rgb(51,51,51)",
            "ticks": "outside",
            "zerolinecolor": "white"
           }
          },
          "shapedefaults": {
           "fillcolor": "black",
           "line": {
            "width": 0
           },
           "opacity": 0.3
          },
          "ternary": {
           "aaxis": {
            "gridcolor": "white",
            "linecolor": "white",
            "showgrid": true,
            "tickcolor": "rgb(51,51,51)",
            "ticks": "outside"
           },
           "baxis": {
            "gridcolor": "white",
            "linecolor": "white",
            "showgrid": true,
            "tickcolor": "rgb(51,51,51)",
            "ticks": "outside"
           },
           "bgcolor": "rgb(237,237,237)",
           "caxis": {
            "gridcolor": "white",
            "linecolor": "white",
            "showgrid": true,
            "tickcolor": "rgb(51,51,51)",
            "ticks": "outside"
           }
          },
          "xaxis": {
           "automargin": true,
           "gridcolor": "white",
           "linecolor": "white",
           "showgrid": true,
           "tickcolor": "rgb(51,51,51)",
           "ticks": "outside",
           "title": {
            "standoff": 15
           },
           "zerolinecolor": "white"
          },
          "yaxis": {
           "automargin": true,
           "gridcolor": "white",
           "linecolor": "white",
           "showgrid": true,
           "tickcolor": "rgb(51,51,51)",
           "ticks": "outside",
           "title": {
            "standoff": 15
           },
           "zerolinecolor": "white"
          }
         }
        },
        "xaxis": {
         "anchor": "y",
         "domain": [
          0,
          1
         ],
         "title": {
          "text": "tum_mean_expression"
         },
         "type": "log"
        },
        "yaxis": {
         "anchor": "x",
         "domain": [
          0,
          1
         ],
         "title": {
          "text": "healthy_mean_expression"
         },
         "type": "log"
        }
       }
      }
     },
     "metadata": {},
     "output_type": "display_data"
    }
   ],
   "source": [
    "# sel_tfs = sel_tfs[~sel_tfs.index.isin([\"ELF3\", \"JUNB\"])]\n",
    "dmy_df = sel_tfs.copy(deep=True)\n",
    "dmy_df['tum_mean_expression'] = sel_tfs['tum_mean_expression'] +1\n",
    "dmy_df['healthy_mean_expression'] = sel_tfs['healthy_mean_expression'] +1\n",
    "\n",
    "fig = px.scatter(\n",
    "    dmy_df.reset_index(),\n",
    "    x=\"tum_mean_expression\",\n",
    "    y=\"healthy_mean_expression\",\n",
    "    # error_x=\"tum_std_expression\",\n",
    "    # error_y=\"healthy_std_expression\",\n",
    "    # text=\"gene\",\n",
    "    color=\"mut_count\",\n",
    "    size=\"mut_count\",\n",
    "    hover_data=\"gene\",\n",
    "    color_continuous_scale=px.colors.sequential.Sunset_r,\n",
    "    height=700,\n",
    "    log_x=True,\n",
    "    log_y=True,\n",
    "\n",
    ")\n",
    "# Get the top 10 genes with highest healthy median expression\n",
    "top_genes_h = dmy_df.nlargest(10, \"healthy_median_expression\").index.tolist()\n",
    "top_genes_t = dmy_df.nlargest(10, \"tum_median_expression\").index.tolist()\n",
    "top_genes_m = dmy_df.nlargest(10, \"mut_count\").index.tolist()\n",
    "\n",
    "top_genes = list(set(top_genes_h + top_genes_t + top_genes_m))\n",
    "top_genes.extend([\"FOSL1\", \"FOXQ1\", \"ERF\", \"MYCL\", \"STAT2\", \"IRF7\", \"CIC\", \"MBD6\", \"ZNF750\", \"ZNF513\", \"BNC1\"])\n",
    "chg_genes = [\"KMT2A\", \"SPEN\", \"MEDCOM\", \"ERF\", \"AHR\", \"STAT2\", \"MBD6\", \"ZNF513\", \"TRERF1\"]\n",
    "# Add text annotation for the top 10 genes\n",
    "for idx, gene in enumerate(top_genes):\n",
    "    x = dmy_df.loc[dmy_df.index == gene, \"tum_mean_expression\"].values[0]\n",
    "    y = dmy_df.loc[dmy_df.index == gene, \"healthy_mean_expression\"].values[0]\n",
    "    ay = -30\n",
    "    if idx % 2:\n",
    "        ax = 5\n",
    "    else:\n",
    "        ax = -5\n",
    "\n",
    "    if gene in chg_genes:\n",
    "        ax = -ax\n",
    "        ay = -ay\n",
    "\n",
    "    if True:\n",
    "        x, y, ax, ay = np.log10(x), np.log10(y), np.log10(ax), np.log10(ay)\n",
    "\n",
    "    fig.add_annotation(x=x, y=y, text=gene, showarrow=True, arrowhead=1, ax=ax, ay=ay)\n",
    "\n",
    "fig.update_layout(height=900)"
   ]
  },
  {
   "cell_type": "markdown",
   "metadata": {},
   "source": [
    "## Comparing with known markers"
   ]
  },
  {
   "cell_type": "code",
   "execution_count": 5,
   "metadata": {},
   "outputs": [],
   "source": [
    "luminal_markers = [\"KRT20\", \"PPARG\", \"FOXA1\", \"GATA3\", \"SNX31\", \"UPK1A\", \"UPK2\", \"FGFR3\"]\n",
    "basal_markers = [\"CD44\", \"KRT6A\", \"KRT5\", \"KRT14\", \"COL17A1\"]\n",
    "squamos_markers = [\"DSC3\", \"GSDMC\", \"TCGM1\", \"PI3\", \"TP63\"]\n",
    "immune_markers = [\"CD274\", \"PDCD1LG2\", \"IDO1\", \"CXCL11\", \"L1CAM\", \"SAA1\"]\n",
    "neural_diff = [\"MSI1\", \"PLEKHG4B\", \"GNG4\", \"PEG10\", \"RND2\", \"APLP1\", \"SOX2\", \"TUBB2B\"]\n",
    "\n",
    "# TCGA markers - main paper\n",
    "emt_claudin = [\"ZEB1\", \"ZEB2\", \"SNAI1\", \"TWIST1\", \"CDH2\", \"CLDN3\", \"CLDN4\", \"CLDN7\"]\n",
    "ecm_muscle = [\"PGM5\", \"DES\", \"C7\", \"SFRP4\", \"COMP\", \"SGCD\"]\n",
    "\n",
    "tcga_markers = luminal_markers + basal_markers + squamos_markers + immune_markers + neural_diff + emt_claudin + ecm_muscle"
   ]
  },
  {
   "cell_type": "code",
   "execution_count": 6,
   "metadata": {},
   "outputs": [
    {
     "data": {
      "text/plain": [
       "{'TP63'}"
      ]
     },
     "execution_count": 6,
     "metadata": {},
     "output_type": "execute_result"
    }
   ],
   "source": [
    "set(sel_tfs.index) & set(tcga_markers)"
   ]
  },
  {
   "cell_type": "markdown",
   "metadata": {},
   "source": [
    "### Urothelium type markers"
   ]
  },
  {
   "cell_type": "code",
   "execution_count": 7,
   "metadata": {},
   "outputs": [],
   "source": [
    "tf_diff = [\"P63\", \"FOXA1\",\"PPARG\", \"RARG\", \"IRF1\", \"ELF3\", \"GRHL3\", \"KLF5\", \"GATA4\", \"GATA6\", \"GATA3\"]\n",
    "krt = [\"KRT13\", \"KRT14\", \"KRT15\", \"KRT20\"]\n",
    "upk = [\"UPK1B\", \"UPK1A\", \"UPK3A\", \"UPK2\"]\n",
    "cld = [\"CLDN3\", \"CLDN4\", \"CLDN5\" ]\n",
    "\n",
    "egfr_fam = [\"EGFR\", \"ERBB2\", \"ERBB3\", \"ERBB4\", \"EGF\", \"AREG\", \"HBEGF\",\"TGFA\",\"BTC\", \"EREG\"]\n",
    "fgfr_fam = [\"FGFR1\", \"FGFR2\", \"FGFR3\", \"FGF1\", \"FGF2\"]\n",
    "map_kpathway = [\"RAS\", \"RAF\", \"MEK1\", \"MEK2\", \"MEK3\", \"MEK4\",\"ERK\"]\n",
    "pi3_kpathway = [\"PIK3C3\", \"PIK3R2\", \"PIK3C2B\", \"AKT1\", \"AKT2\"]\n",
    "others = [\"MKI67\", \"MCM2\", \"UPK3A\", \"ZO1\", \"TJP1\", \"ZO2\", \"TJP2\", \"ZO3\", \"TJP3\"]\n",
    "hox_ur = [\"HOXB2\", \"HOXB3\", \"HOXB5\", \"HOXB6\", \"HOXB8\"]\n",
    "hox_bla = [\"HOXA9\", \"HOXA10\", \"HOXA11\", \"HOXA13\"]\n",
    "\n",
    "diff_markers = tf_diff + cld + krt + upk\n",
    "\n",
    "uro_markers = diff_markers + egfr_fam + fgfr_fam + map_kpathway + pi3_kpathway + others + hox_ur + hox_bla"
   ]
  },
  {
   "cell_type": "code",
   "execution_count": 8,
   "metadata": {},
   "outputs": [
    {
     "data": {
      "text/plain": [
       "{'ELF3', 'GRHL3', 'HOXB6', 'KLF5'}"
      ]
     },
     "execution_count": 8,
     "metadata": {},
     "output_type": "execute_result"
    }
   ],
   "source": [
    "set(sel_tfs.index) & set(uro_markers)"
   ]
  },
  {
   "cell_type": "markdown",
   "metadata": {},
   "source": [
    "### Lund type markers"
   ]
  },
  {
   "cell_type": "code",
   "execution_count": 9,
   "metadata": {},
   "outputs": [],
   "source": [
    "lund_qtc1 = [\"FLI1\", \"FOXP3\", \"ILKZF1\", \"IRF4\", \"IRF8\", \"RUNX3\", \"SCML4\", \"SPI1\", \"STAT4\", \"TBX21\", \"TFEC\"]\n",
    "lund_qtc2 = [\"AEBP1\", \"BNC2\", \"GLI2\", \"GLIS1\", \"HIC1\", \"MSC\", \"PPRX1\", \"PPRX2\", \"TGFB1I1\", \"TWIST1\"]\n",
    "lund_qtc3 = [\"EBF1\", \"HEYL\", \"LEF1\", \"MEF2C\", \"TCF4\", \"ZEB1\", \"ZEB2\"]\n",
    "lund_qtc8 = [\"GATA5\", \"HAND1\", \"HAND2\", \"KLF16\"]\n",
    "lund_qtc17 = [\"ARID5A\", \"BATF3\", \"VENTX\"]\n",
    "lund_ba_mes = lund_qtc1 + lund_qtc2 + lund_qtc3 + lund_qtc8 + lund_qtc17\n",
    "\n",
    "lund_ba_sq = [\"BRIP1\", \"E2F7\", \"FOXM1\", \"ZNF367\", \"IRF1\", \"SP110\", \"STAT1\"]\n",
    "lund_mes = [\"TP53\", \"RB1\", \"FGFR3\", \"ANKHD1\", \"VIM\", \"ZEB2\"]\n",
    "ba_sq_inf = [\"CDH3\", \"EGFR\"]\n",
    "\n",
    "lund_sc_ne = [\"CHGA\", \"SYP\", \"ENO2\", \"EPCAM\"] #Highly expressed\n",
    "\n",
    "lund_markers = lund_ba_mes + lund_ba_sq + lund_mes + ba_sq_inf + lund_sc_ne"
   ]
  },
  {
   "cell_type": "code",
   "execution_count": 10,
   "metadata": {},
   "outputs": [
    {
     "data": {
      "text/plain": [
       "{'KLF16', 'SP110', 'STAT1'}"
      ]
     },
     "execution_count": 10,
     "metadata": {},
     "output_type": "execute_result"
    }
   ],
   "source": [
    "set(sel_tfs.index) & set(lund_markers)"
   ]
  },
  {
   "cell_type": "markdown",
   "metadata": {},
   "source": [
    "### Immune markers"
   ]
  },
  {
   "cell_type": "code",
   "execution_count": 11,
   "metadata": {},
   "outputs": [],
   "source": [
    "b_cells = [\"BCL2\", \"BCL6\", \"CD19\", \"CD1D\", \"CD22\", \"CD24\", \"CD27\", \"CD274\",\"CD34\", \"CD38\", \"CD40\",\"CD44\",\"CD5\",\"CD53\",\"CD69\",\"CD72\", \"CD79A\", \"CD79B\", \"CD80\", \"CD86\", \"CD93\", \"CR2\", \"CXCR4\", 'CXCR5',\"FAS\",\"FCER2\", \"FCRL4\" \"HAVCR1\",\"IL10\", 'IL2RA','IL7R','IRF4','ITGAX', 'LILRB1','MME','MS4A1','NT5E','PDCD1LG2','PRDM1','PTPRC','SDC1','SPN','TFRC','TLR9','TNFRSF13B','TNFRSF13C','TNFRSF17','XBP1']\n",
    "t_cells = ['CD4', 'CD8', 'CCR4', 'CCR5', 'CCR6', 'CCR7', 'CCR10', 'CD127', 'CD27', 'CD28', 'CD38', 'CD58', 'CD69', 'CTLA4', 'CXCR3', 'FAS', 'IL2RA',\n",
    "        'IL2RB', 'ITGAE', 'ITGAL', 'KLRB1', 'NCAM1', 'PECAM1', 'PTGDR2', 'SELL', 'IFNG', 'IL10', 'IL13', 'IL17A', 'IL2', 'IL21','IL22', 'IL25', 'IL26', 'IL4', 'IL5', 'IL9', 'TGFB1', 'TNF', 'AHR', 'EOMES','FOXO4', 'FOXP1', 'FOXP3', 'GATA3','IRF4', 'LEF1', 'PRDM1', 'RORC','STAT4', 'TBX21','TCF7', 'GZMA']\n",
    "\n",
    "nk_cells = ['B3GAT1','CCR7','CD16','CD2','CD226','CD244','CD27','CD300A','CD34','CD58','CD59','CD69','CSF2','CX3CR1','CXCR1','CXCR3','CXCR4','EOMES','GZMB','ICAM1','IFNG','IL1R1','IL22','IL2RB','IL7R','ITGA1','Itga2','ITGAL','ITGAM','ITGB2','KIR2DL1','KIR2DL2','KIT','Klrb1c','KLRC1','KLRC2','KLRD1','KLRF1','KLRG1','KLRK1','LILRB1','Klra4','Klra8','NCAM1','NCR1','NCR2','NCR3','PRF1','SELL','SIGLEC7','SLAMF6','SPN','TBX21','TNF']\n",
    "\n",
    "macrophages_cells = [ 'ADGRE1','CCR2','CD14','CD68','CSF1R','Ly6c1','MARCO','MRC1','NOS2','PPARG','SIGLEC1','TLR2','ARG1','CD163','CD200R1','CD80','CD86','CLEC10A','CLEC7A','CSF2','CX3CR1','FCGR1A','ITGAM','MERTK','PDCD1LG2','Retnla','TNF','CCL22','CD36','CD40','IL10','IL1B','IL6','LGALS3','TLR4','CCL2','CCR5','CD209','CD63','CD86','CSF1','CXCL2','FCGR3A','IFNG','IL4','IRF4','ITGAX','MSR1','PDGFB','PTPRC','STAT6','TIMD4','Chil3','CLEC6A','IL1R1','ITGB2','PDCD1LG2','TLR7']\n",
    "\n",
    "monocyte_cells = ['CD14','CD16','CSF1R','CX3CR1','ITGAM','ITGAX','LY6C1','CCR2','CXCR4','FCGR1A','SELL','SPN','ADGRE1','CCR7','TNF','CD86','IL10','IL1B','MERTK','TREML4','CD209','NR4A1','Ly6a','PTPRC','IL3RA','CD27','CCR5','CD32','CD1A','MRC1','ITGB3','CD9','CXCR6','CCR1','FLT3','KLF2','CLEC12A','CCR6','CCR8','CD68','CLEC7A','KIT','MAF','MAFB','SPI1','CD1C','PPARG','CEBPB','ITGAE','TEK']\n",
    "\n",
    "\n",
    "immune_markers = b_cells + t_cells + nk_cells + macrophages_cells + monocyte_cells"
   ]
  },
  {
   "cell_type": "code",
   "execution_count": 12,
   "metadata": {},
   "outputs": [
    {
     "data": {
      "text/plain": [
       "{'AHR', 'BCL6'}"
      ]
     },
     "execution_count": 12,
     "metadata": {},
     "output_type": "execute_result"
    }
   ],
   "source": [
    "set(sel_tfs.index) & set(immune_markers)"
   ]
  },
  {
   "cell_type": "markdown",
   "metadata": {},
   "source": [
    "# Morpheus\n",
    "\n",
    "## Prepare for Morpheus\n",
    "Outliers for standard log2 TPMS and norm of log, after applying agglomerative clustering with 1-pearson correlation.\n",
    "\n",
    "```Python\n",
    "outliers_log2 = ['TCGA-C4-A0EZ', 'TCGA-DK-AA6W', 'TCGA-G2-A2EL', 'TCGA-BL-A3JM', 'TCGA-XF-A9T2', 'TCGA-XF-AAMH', 'TCGA-XF-A9ST', 'TCGA-GC-A4ZW', 'TCGA-HQ-A2OF', 'TCGA-DK-AA6T', 'TCGA-BT-A2LA', 'TCGA-XF-AAN7', 'TCGA-FJ-A871', 'TCGA-CF-A3MF']\n",
    "```\n",
    "\n",
    "```Python\n",
    "norm_outliers = ['TCGA-2F-A9KW', 'TCGA-XF-A9ST', 'TCGA-BL-A3JM', 'TCGA-XF-A9T2', 'TCGA-XF-AAMH', 'TCGA-DK-AA6T', 'TCGA-BT-A2LA', 'TCGA-XF-AAN7', 'TCGA-FJ-A871', 'TCGA-C4-A0EZ', 'TCGA-DK-AA6W', 'TCGA-G2-A2EL']\n",
    "```\n",
    "\n",
    "<!-- ![alt text](selective_edge_pruning/sel_tf_log2.png)\n",
    "![alt text](selective_edge_pruning/sel_tf_norm_log2.png) -->\n",
    "\n"
   ]
  },
  {
   "cell_type": "code",
   "execution_count": 13,
   "metadata": {},
   "outputs": [
    {
     "name": "stdout",
     "output_type": "stream",
     "text": [
      "### Num outliers for standard log2 14.\n",
      " --> ['TCGA-C4-A0EZ', 'TCGA-DK-AA6W', 'TCGA-G2-A2EL', 'TCGA-BL-A3JM', 'TCGA-XF-A9T2', 'TCGA-XF-AAMH', 'TCGA-XF-A9ST', 'TCGA-GC-A4ZW', 'TCGA-HQ-A2OF', 'TCGA-DK-AA6T', 'TCGA-BT-A2LA', 'TCGA-XF-AAN7', 'TCGA-FJ-A871', 'TCGA-CF-A3MF']\n",
      "### Num outliers for norm log2 14.\n",
      " --> ['TCGA-C4-A0EZ', 'TCGA-DK-AA6W', 'TCGA-G2-A2EL', 'TCGA-BL-A3JM', 'TCGA-XF-A9T2', 'TCGA-XF-AAMH', 'TCGA-XF-A9ST', 'TCGA-GC-A4ZW', 'TCGA-HQ-A2OF', 'TCGA-DK-AA6T', 'TCGA-BT-A2LA', 'TCGA-XF-AAN7', 'TCGA-FJ-A871', 'TCGA-CF-A3MF']\n",
      "### Common outliers *11*.\n",
      " --> {'TCGA-BT-A2LA', 'TCGA-G2-A2EL', 'TCGA-BL-A3JM', 'TCGA-FJ-A871', 'TCGA-DK-AA6T', 'TCGA-XF-A9T2', 'TCGA-XF-AAN7', 'TCGA-XF-A9ST', 'TCGA-C4-A0EZ', 'TCGA-XF-AAMH', 'TCGA-DK-AA6W'}\n"
     ]
    }
   ],
   "source": [
    "outliers_log2 = ['TCGA-C4-A0EZ', 'TCGA-DK-AA6W', 'TCGA-G2-A2EL', 'TCGA-BL-A3JM', 'TCGA-XF-A9T2', 'TCGA-XF-AAMH', 'TCGA-XF-A9ST', 'TCGA-GC-A4ZW', 'TCGA-HQ-A2OF', 'TCGA-DK-AA6T', 'TCGA-BT-A2LA', 'TCGA-XF-AAN7', 'TCGA-FJ-A871', 'TCGA-CF-A3MF']\n",
    "\n",
    "norm_outliers = ['TCGA-2F-A9KW', 'TCGA-XF-A9ST', 'TCGA-BL-A3JM', 'TCGA-XF-A9T2', 'TCGA-XF-AAMH', 'TCGA-DK-AA6T', 'TCGA-BT-A2LA', 'TCGA-XF-AAN7', 'TCGA-FJ-A871', 'TCGA-C4-A0EZ', 'TCGA-DK-AA6W', 'TCGA-G2-A2EL']\n",
    "\n",
    "cmn_outliars = set(outliers_log2) & set(norm_outliers)\n",
    "\n",
    "print(f\"### Num outliers for standard log2 {len(outliers_log2)}.\\n --> {outliers_log2}\")\n",
    "print(f\"### Num outliers for norm log2 {len(outliers_log2)}.\\n --> {outliers_log2}\")\n",
    "print(f\"### Common outliers *{len(cmn_outliars)}*.\\n --> {cmn_outliars}\")"
   ]
  },
  {
   "cell_type": "code",
   "execution_count": 57,
   "metadata": {},
   "outputs": [
    {
     "name": "stderr",
     "output_type": "stream",
     "text": [
      "/var/folders/wd/10ylrkx55m78njljcl21yt2c0000gn/T/ipykernel_12071/557840676.py:11: PerformanceWarning:\n",
      "\n",
      "DataFrame is highly fragmented.  This is usually the result of calling `frame.insert` many times, which has poor performance.  Consider joining all columns at once using pd.concat(axis=1) instead. To get a de-fragmented frame, use `newframe = frame.copy()`\n",
      "\n"
     ]
    }
   ],
   "source": [
    "dmy_df = tum_tpms_v4.loc[sel_tfs.index]\n",
    "dmy_df = np.log2(dmy_df + 1)\n",
    "\n",
    "sel_metadata = ['KMeans_labels_6', 'consensus', 'TCGA408_classifier', 'Lund2017.subtype', 'ESTIMATE_score', \"Immune_score\", \"Stromal_score\", 'tumor_stage']\n",
    "dmy_df = pd.concat([vu_output[sel_metadata].T, dmy_df], axis=0).dropna(axis=1)\n",
    "\n",
    "# Remove outliers\n",
    "dmy_df = dmy_df[list(set(dmy_df.columns) - set(cmn_outliars))]\n",
    "\n",
    "# Adding notes on the genes\n",
    "dmy_df['Notes'] = ''\n",
    "dmy_df.loc[dmy_df.index.isin(lund_markers), \"Notes\"] = 'Lund marker'\n",
    "dmy_df.loc[dmy_df.index.isin(immune_markers), \"Notes\"] = 'Immune marker'\n",
    "dmy_df.loc[dmy_df.index.isin(uro_markers), \"Notes\"] = 'Uro markers'\n",
    "dmy_df.loc[dmy_df.index.isin(tcga_markers), \"Notes\"] = 'TCGA markers'\n",
    "\n",
    "dmy_df = dmy_df[['Notes'] + list(dmy_df.columns[:-1])]\n",
    "dmy_df.to_csv(f\"{figures_path}/log2_sel_tfs_no_outliers.tsv\", sep='\\t')"
   ]
  },
  {
   "cell_type": "markdown",
   "metadata": {},
   "source": [
    "## Importing Morpheus"
   ]
  },
  {
   "cell_type": "code",
   "execution_count": 58,
   "metadata": {},
   "outputs": [
    {
     "data": {
      "text/plain": [
       "(378, 107)"
      ]
     },
     "execution_count": 58,
     "metadata": {},
     "output_type": "execute_result"
    }
   ],
   "source": [
    "morpheus_path = f\"{figures_path}/morpheus/\"\n",
    "\n",
    "morp_df = pd.read_csv(f\"{morpheus_path}/15_CS_norm_log2_sel_tfs_no_outliers.gct\", sep=\"\\t\", skiprows=2)\n",
    "columns = morp_df[\"id\"]\n",
    "morp_df = morp_df.drop(columns=[\"Notes\"]).transpose()\n",
    "morp_df.columns = columns\n",
    "morp_df = morp_df.iloc[2:, :]\n",
    "\n",
    "morp_df['dendrogram_cut'] = morp_df['dendrogram_cut'].astype(float).astype(str)\n",
    "\n",
    "keep_clusters = []\n",
    "# Size of 1%\n",
    "size_th = round(morp_df.shape[0] * 0.01)\n",
    "for cluster, size in morp_df['dendrogram_cut'].value_counts().items():\n",
    "    if size > 5:\n",
    "        keep_clusters.append(cluster)\n",
    "\n",
    "# Drop clusters that are smaller than 1% of the cohort size\n",
    "morp_df = morp_df.loc[morp_df['dendrogram_cut'].isin(keep_clusters)]\n",
    "morp_df.shape"
   ]
  },
  {
   "cell_type": "code",
   "execution_count": 16,
   "metadata": {},
   "outputs": [
    {
     "data": {
      "application/vnd.plotly.v1+json": {
       "config": {
        "plotlyServerURL": "https://plot.ly"
       },
       "data": [
        {
         "arrangement": "perpendicular",
         "link": {
          "color": "#bdbdbd",
          "source": [
           0,
           0,
           0,
           0,
           0,
           1,
           1,
           1,
           2,
           3,
           3,
           3,
           3,
           4,
           4,
           4,
           4,
           5,
           5,
           5,
           5,
           5,
           5,
           6,
           6,
           6,
           6,
           6,
           6,
           6,
           6,
           6,
           7,
           7,
           7,
           7,
           7,
           8,
           8,
           8,
           8,
           8,
           8,
           8,
           8,
           9,
           9,
           9,
           9
          ],
          "target": [
           5,
           6,
           7,
           8,
           9,
           5,
           6,
           8,
           6,
           5,
           6,
           8,
           9,
           5,
           6,
           7,
           8,
           12,
           13,
           14,
           15,
           16,
           19,
           10,
           11,
           12,
           13,
           14,
           16,
           17,
           18,
           19,
           10,
           11,
           13,
           14,
           15,
           10,
           11,
           13,
           14,
           16,
           17,
           18,
           19,
           10,
           11,
           15,
           18
          ],
          "value": [
           2,
           6,
           28,
           82,
           17,
           17,
           51,
           8,
           24,
           11,
           120,
           1,
           3,
           4,
           1,
           2,
           1,
           14,
           15,
           1,
           2,
           1,
           1,
           2,
           4,
           15,
           2,
           5,
           26,
           86,
           10,
           52,
           1,
           4,
           6,
           18,
           1,
           41,
           33,
           2,
           5,
           3,
           4,
           3,
           1,
           8,
           2,
           1,
           9
          ]
         },
         "node": {
          "color": [
           "rgb(229, 134, 6)",
           "rgb(229, 134, 6)",
           "rgb(229, 134, 6)",
           "rgb(229, 134, 6)",
           "rgb(229, 134, 6)",
           "rgb(93, 105, 177)",
           "rgb(93, 105, 177)",
           "rgb(93, 105, 177)",
           "rgb(93, 105, 177)",
           "rgb(93, 105, 177)",
           "rgb(82, 188, 163)",
           "rgb(82, 188, 163)",
           "rgb(82, 188, 163)",
           "rgb(82, 188, 163)",
           "rgb(82, 188, 163)",
           "rgb(82, 188, 163)",
           "rgb(82, 188, 163)",
           "rgb(82, 188, 163)",
           "rgb(82, 188, 163)",
           "rgb(82, 188, 163)"
          ],
          "label": [
           "Ba/Sq",
           "LumInf",
           "LumNS",
           "LumP",
           "NE-like",
           "12.0",
           "13.0",
           "3.0",
           "4.0",
           "5.0",
           "Ba/Sq",
           "Ba/Sq-Inf",
           "GU",
           "GU-Inf",
           "Mes-like",
           "Sc/NE-like",
           "Uro-Inf",
           "UroA-Prog",
           "UroB",
           "UroC"
          ],
          "line": {
           "color": "black",
           "width": 0.5
          },
          "pad": 15,
          "thickness": 20
         },
         "type": "sankey"
        }
       ],
       "layout": {
        "annotations": [
         {
          "align": "left",
          "font": {
           "color": "#003366",
           "size": 16
          },
          "showarrow": false,
          "text": "TCGA408_classifier",
          "x": 0,
          "xref": "x",
          "y": 1.07,
          "yref": "paper"
         },
         {
          "align": "left",
          "font": {
           "color": "#003366",
           "size": 16
          },
          "showarrow": false,
          "text": "dendrogram_cut",
          "x": 1,
          "xref": "x",
          "y": 1.07,
          "yref": "paper"
         },
         {
          "align": "left",
          "font": {
           "color": "#003366",
           "size": 16
          },
          "showarrow": false,
          "text": "Lund2017.subtype",
          "x": 2,
          "xref": "x",
          "y": 1.07,
          "yref": "paper"
         }
        ],
        "font": {
         "color": "#003366",
         "size": 16
        },
        "height": 700,
        "plot_bgcolor": "rgba(0,0,0,0)",
        "template": {
         "data": {
          "bar": [
           {
            "error_x": {
             "color": "rgb(51,51,51)"
            },
            "error_y": {
             "color": "rgb(51,51,51)"
            },
            "marker": {
             "line": {
              "color": "rgb(237,237,237)",
              "width": 0.5
             },
             "pattern": {
              "fillmode": "overlay",
              "size": 10,
              "solidity": 0.2
             }
            },
            "type": "bar"
           }
          ],
          "barpolar": [
           {
            "marker": {
             "line": {
              "color": "rgb(237,237,237)",
              "width": 0.5
             },
             "pattern": {
              "fillmode": "overlay",
              "size": 10,
              "solidity": 0.2
             }
            },
            "type": "barpolar"
           }
          ],
          "carpet": [
           {
            "aaxis": {
             "endlinecolor": "rgb(51,51,51)",
             "gridcolor": "white",
             "linecolor": "white",
             "minorgridcolor": "white",
             "startlinecolor": "rgb(51,51,51)"
            },
            "baxis": {
             "endlinecolor": "rgb(51,51,51)",
             "gridcolor": "white",
             "linecolor": "white",
             "minorgridcolor": "white",
             "startlinecolor": "rgb(51,51,51)"
            },
            "type": "carpet"
           }
          ],
          "choropleth": [
           {
            "colorbar": {
             "outlinewidth": 0,
             "tickcolor": "rgb(237,237,237)",
             "ticklen": 6,
             "ticks": "inside"
            },
            "type": "choropleth"
           }
          ],
          "contour": [
           {
            "colorbar": {
             "outlinewidth": 0,
             "tickcolor": "rgb(237,237,237)",
             "ticklen": 6,
             "ticks": "inside"
            },
            "colorscale": [
             [
              0,
              "rgb(20,44,66)"
             ],
             [
              1,
              "rgb(90,179,244)"
             ]
            ],
            "type": "contour"
           }
          ],
          "contourcarpet": [
           {
            "colorbar": {
             "outlinewidth": 0,
             "tickcolor": "rgb(237,237,237)",
             "ticklen": 6,
             "ticks": "inside"
            },
            "type": "contourcarpet"
           }
          ],
          "heatmap": [
           {
            "colorbar": {
             "outlinewidth": 0,
             "tickcolor": "rgb(237,237,237)",
             "ticklen": 6,
             "ticks": "inside"
            },
            "colorscale": [
             [
              0,
              "rgb(20,44,66)"
             ],
             [
              1,
              "rgb(90,179,244)"
             ]
            ],
            "type": "heatmap"
           }
          ],
          "heatmapgl": [
           {
            "colorbar": {
             "outlinewidth": 0,
             "tickcolor": "rgb(237,237,237)",
             "ticklen": 6,
             "ticks": "inside"
            },
            "colorscale": [
             [
              0,
              "rgb(20,44,66)"
             ],
             [
              1,
              "rgb(90,179,244)"
             ]
            ],
            "type": "heatmapgl"
           }
          ],
          "histogram": [
           {
            "marker": {
             "pattern": {
              "fillmode": "overlay",
              "size": 10,
              "solidity": 0.2
             }
            },
            "type": "histogram"
           }
          ],
          "histogram2d": [
           {
            "colorbar": {
             "outlinewidth": 0,
             "tickcolor": "rgb(237,237,237)",
             "ticklen": 6,
             "ticks": "inside"
            },
            "colorscale": [
             [
              0,
              "rgb(20,44,66)"
             ],
             [
              1,
              "rgb(90,179,244)"
             ]
            ],
            "type": "histogram2d"
           }
          ],
          "histogram2dcontour": [
           {
            "colorbar": {
             "outlinewidth": 0,
             "tickcolor": "rgb(237,237,237)",
             "ticklen": 6,
             "ticks": "inside"
            },
            "colorscale": [
             [
              0,
              "rgb(20,44,66)"
             ],
             [
              1,
              "rgb(90,179,244)"
             ]
            ],
            "type": "histogram2dcontour"
           }
          ],
          "mesh3d": [
           {
            "colorbar": {
             "outlinewidth": 0,
             "tickcolor": "rgb(237,237,237)",
             "ticklen": 6,
             "ticks": "inside"
            },
            "type": "mesh3d"
           }
          ],
          "parcoords": [
           {
            "line": {
             "colorbar": {
              "outlinewidth": 0,
              "tickcolor": "rgb(237,237,237)",
              "ticklen": 6,
              "ticks": "inside"
             }
            },
            "type": "parcoords"
           }
          ],
          "pie": [
           {
            "automargin": true,
            "type": "pie"
           }
          ],
          "scatter": [
           {
            "fillpattern": {
             "fillmode": "overlay",
             "size": 10,
             "solidity": 0.2
            },
            "type": "scatter"
           }
          ],
          "scatter3d": [
           {
            "line": {
             "colorbar": {
              "outlinewidth": 0,
              "tickcolor": "rgb(237,237,237)",
              "ticklen": 6,
              "ticks": "inside"
             }
            },
            "marker": {
             "colorbar": {
              "outlinewidth": 0,
              "tickcolor": "rgb(237,237,237)",
              "ticklen": 6,
              "ticks": "inside"
             }
            },
            "type": "scatter3d"
           }
          ],
          "scattercarpet": [
           {
            "marker": {
             "colorbar": {
              "outlinewidth": 0,
              "tickcolor": "rgb(237,237,237)",
              "ticklen": 6,
              "ticks": "inside"
             }
            },
            "type": "scattercarpet"
           }
          ],
          "scattergeo": [
           {
            "marker": {
             "colorbar": {
              "outlinewidth": 0,
              "tickcolor": "rgb(237,237,237)",
              "ticklen": 6,
              "ticks": "inside"
             }
            },
            "type": "scattergeo"
           }
          ],
          "scattergl": [
           {
            "marker": {
             "colorbar": {
              "outlinewidth": 0,
              "tickcolor": "rgb(237,237,237)",
              "ticklen": 6,
              "ticks": "inside"
             }
            },
            "type": "scattergl"
           }
          ],
          "scattermapbox": [
           {
            "marker": {
             "colorbar": {
              "outlinewidth": 0,
              "tickcolor": "rgb(237,237,237)",
              "ticklen": 6,
              "ticks": "inside"
             }
            },
            "type": "scattermapbox"
           }
          ],
          "scatterpolar": [
           {
            "marker": {
             "colorbar": {
              "outlinewidth": 0,
              "tickcolor": "rgb(237,237,237)",
              "ticklen": 6,
              "ticks": "inside"
             }
            },
            "type": "scatterpolar"
           }
          ],
          "scatterpolargl": [
           {
            "marker": {
             "colorbar": {
              "outlinewidth": 0,
              "tickcolor": "rgb(237,237,237)",
              "ticklen": 6,
              "ticks": "inside"
             }
            },
            "type": "scatterpolargl"
           }
          ],
          "scatterternary": [
           {
            "marker": {
             "colorbar": {
              "outlinewidth": 0,
              "tickcolor": "rgb(237,237,237)",
              "ticklen": 6,
              "ticks": "inside"
             }
            },
            "type": "scatterternary"
           }
          ],
          "surface": [
           {
            "colorbar": {
             "outlinewidth": 0,
             "tickcolor": "rgb(237,237,237)",
             "ticklen": 6,
             "ticks": "inside"
            },
            "colorscale": [
             [
              0,
              "rgb(20,44,66)"
             ],
             [
              1,
              "rgb(90,179,244)"
             ]
            ],
            "type": "surface"
           }
          ],
          "table": [
           {
            "cells": {
             "fill": {
              "color": "rgb(237,237,237)"
             },
             "line": {
              "color": "white"
             }
            },
            "header": {
             "fill": {
              "color": "rgb(217,217,217)"
             },
             "line": {
              "color": "white"
             }
            },
            "type": "table"
           }
          ]
         },
         "layout": {
          "annotationdefaults": {
           "arrowhead": 0,
           "arrowwidth": 1
          },
          "autotypenumbers": "strict",
          "coloraxis": {
           "colorbar": {
            "outlinewidth": 0,
            "tickcolor": "rgb(237,237,237)",
            "ticklen": 6,
            "ticks": "inside"
           }
          },
          "colorscale": {
           "sequential": [
            [
             0,
             "rgb(20,44,66)"
            ],
            [
             1,
             "rgb(90,179,244)"
            ]
           ],
           "sequentialminus": [
            [
             0,
             "rgb(20,44,66)"
            ],
            [
             1,
             "rgb(90,179,244)"
            ]
           ]
          },
          "colorway": [
           "#F8766D",
           "#A3A500",
           "#00BF7D",
           "#00B0F6",
           "#E76BF3"
          ],
          "font": {
           "color": "rgb(51,51,51)"
          },
          "geo": {
           "bgcolor": "white",
           "lakecolor": "white",
           "landcolor": "rgb(237,237,237)",
           "showlakes": true,
           "showland": true,
           "subunitcolor": "white"
          },
          "hoverlabel": {
           "align": "left"
          },
          "hovermode": "closest",
          "paper_bgcolor": "white",
          "plot_bgcolor": "rgb(237,237,237)",
          "polar": {
           "angularaxis": {
            "gridcolor": "white",
            "linecolor": "white",
            "showgrid": true,
            "tickcolor": "rgb(51,51,51)",
            "ticks": "outside"
           },
           "bgcolor": "rgb(237,237,237)",
           "radialaxis": {
            "gridcolor": "white",
            "linecolor": "white",
            "showgrid": true,
            "tickcolor": "rgb(51,51,51)",
            "ticks": "outside"
           }
          },
          "scene": {
           "xaxis": {
            "backgroundcolor": "rgb(237,237,237)",
            "gridcolor": "white",
            "gridwidth": 2,
            "linecolor": "white",
            "showbackground": true,
            "showgrid": true,
            "tickcolor": "rgb(51,51,51)",
            "ticks": "outside",
            "zerolinecolor": "white"
           },
           "yaxis": {
            "backgroundcolor": "rgb(237,237,237)",
            "gridcolor": "white",
            "gridwidth": 2,
            "linecolor": "white",
            "showbackground": true,
            "showgrid": true,
            "tickcolor": "rgb(51,51,51)",
            "ticks": "outside",
            "zerolinecolor": "white"
           },
           "zaxis": {
            "backgroundcolor": "rgb(237,237,237)",
            "gridcolor": "white",
            "gridwidth": 2,
            "linecolor": "white",
            "showbackground": true,
            "showgrid": true,
            "tickcolor": "rgb(51,51,51)",
            "ticks": "outside",
            "zerolinecolor": "white"
           }
          },
          "shapedefaults": {
           "fillcolor": "black",
           "line": {
            "width": 0
           },
           "opacity": 0.3
          },
          "ternary": {
           "aaxis": {
            "gridcolor": "white",
            "linecolor": "white",
            "showgrid": true,
            "tickcolor": "rgb(51,51,51)",
            "ticks": "outside"
           },
           "baxis": {
            "gridcolor": "white",
            "linecolor": "white",
            "showgrid": true,
            "tickcolor": "rgb(51,51,51)",
            "ticks": "outside"
           },
           "bgcolor": "rgb(237,237,237)",
           "caxis": {
            "gridcolor": "white",
            "linecolor": "white",
            "showgrid": true,
            "tickcolor": "rgb(51,51,51)",
            "ticks": "outside"
           }
          },
          "xaxis": {
           "automargin": true,
           "gridcolor": "white",
           "linecolor": "white",
           "showgrid": true,
           "tickcolor": "rgb(51,51,51)",
           "ticks": "outside",
           "title": {
            "standoff": 15
           },
           "zerolinecolor": "white"
          },
          "yaxis": {
           "automargin": true,
           "gridcolor": "white",
           "linecolor": "white",
           "showgrid": true,
           "tickcolor": "rgb(51,51,51)",
           "ticks": "outside",
           "title": {
            "standoff": 15
           },
           "zerolinecolor": "white"
          }
         }
        },
        "title": {
         "text": "MIBC stratification based on the TF from selective edge pruning"
        },
        "xaxis": {
         "showgrid": false,
         "visible": false,
         "zeroline": false
        },
        "yaxis": {
         "showgrid": false,
         "visible": false,
         "zeroline": false
        }
       }
      }
     },
     "metadata": {},
     "output_type": "display_data"
    }
   ],
   "source": [
    "#Sankey\n",
    "morp_df.rename_axis(\"sample\", axis=\"columns\", inplace=True)\n",
    "reorder_cols = [\n",
    "    \"TCGA408_classifier\",\n",
    "    \"dendrogram_cut\",\n",
    "    # \"KMeans_labels_6\",\n",
    "    'Lund2017.subtype',\n",
    "    # \"consensus\",\n",
    "]\n",
    "meta, sky_fig = sky.main(df=morp_df, reorder_cols=reorder_cols, title='MIBC stratification based on the TF from selective edge pruning', retMeta=True)\n",
    "sky_fig.update_layout(height=700)"
   ]
  },
  {
   "cell_type": "markdown",
   "metadata": {},
   "source": [
    "## Dumbell plots"
   ]
  },
  {
   "cell_type": "code",
   "execution_count": 17,
   "metadata": {},
   "outputs": [],
   "source": [
    "import plotly.graph_objects as go\n",
    "import matplotlib.pyplot as plt\n",
    "\n",
    "\n",
    "# Main function to see the differences\n",
    "def dumbell_plots(morp_df: pd.DataFrame, tum_df: pd.DataFrame, sel_tfs: pd.DataFrame, cls_1=\"\", cls_2=\"\", markers=[], log=False):\n",
    "\n",
    "    cluster_1, cluster_2 = int(cls_1.split(\"_\")[-1]), int(cls_2.split(\"_\")[-1])\n",
    "\n",
    "    samples_1 = morp_df[morp_df['dendrogram_cut'] == cluster_1].index\n",
    "    samples_2 = morp_df[morp_df['dendrogram_cut'] == cluster_2].index\n",
    "\n",
    "    # Reconstruct the TPM\n",
    "    dmy_df = tum_df.loc[tum_df.index.isin(sel_tfs.index)]\n",
    "    df_1 = dmy_df[samples_1]\n",
    "    df_1[cls_1] = df_1.mean(axis=1)\n",
    "\n",
    "    dmy_df = tum_df.loc[tum_df.index.isin(sel_tfs.index)]\n",
    "    df_2 = dmy_df[samples_2]\n",
    "    df_2[cls_2] = df_2.mean(axis=1)\n",
    "\n",
    "    comb_df = pd.concat([df_1[cls_1], df_2[cls_2]], axis=1)\n",
    "\n",
    "    # Prepare for plotting\n",
    "    plot_data = {\"line_x\": [], \"line_y\": [], cls_1: [], cls_2: []}\n",
    "    genes = list(comb_df.index)\n",
    "\n",
    "    y_axis_title = 'TPM mean'\n",
    "    if log:\n",
    "        comb_df[cls_1] = np.log2(comb_df[cls_1] + 1)\n",
    "        comb_df[cls_2] = np.log2(comb_df[cls_2] + 1)\n",
    "        y_axis_title = 'Log2(TPM + 1) mean '\n",
    "\n",
    "    # generate the data for plots\n",
    "    for gene, row in comb_df.iterrows():\n",
    "\n",
    "        val_1, val_2 = row[cls_1], row[cls_2]\n",
    "        # The data for two scatter points cls_1 and cls_2\n",
    "        plot_data[cls_1].extend([val_1])\n",
    "        plot_data[cls_2].extend([val_2])\n",
    "        # The line between the two clases\n",
    "        plot_data[\"line_y\"].extend(\n",
    "[\n",
    "                val_1,\n",
    "                val_2,\n",
    "                None,\n",
    "            ]\n",
    "        )\n",
    "        plot_data[\"line_x\"].extend([gene, gene, None])\n",
    "\n",
    "    # plotting\n",
    "    fig = go.Figure(\n",
    "    data=[\n",
    "        go.Scatter(\n",
    "            x=plot_data[\"line_x\"],\n",
    "            y=plot_data[\"line_y\"],\n",
    "            mode=\"lines\",\n",
    "            showlegend=False,\n",
    "            marker=dict(\n",
    "                color=\"grey\"\n",
    "            )\n",
    "        ),\n",
    "        go.Scatter(\n",
    "            y=plot_data[cls_1],\n",
    "            x=genes,\n",
    "            mode=\"markers\",\n",
    "            name=cls_1,\n",
    "            marker=dict(\n",
    "                # color=\"green\",\n",
    "                size=10\n",
    "            )\n",
    "            \n",
    "        ),\n",
    "        go.Scatter(\n",
    "            y=plot_data[cls_2],\n",
    "            x=genes,\n",
    "            mode=\"markers\",\n",
    "            name=cls_2,\n",
    "            marker=dict(\n",
    "                # color=\"blue\",\n",
    "                size=10\n",
    "            )   \n",
    "        ),\n",
    "        ]\n",
    "    )\n",
    "\n",
    "    # Add title and change the figure size\n",
    "    fig.update_layout(\n",
    "        title=f\"Changes between {cls_1} and {cls_2}\",\n",
    "        yaxis_title=y_axis_title,\n",
    "        xaxis_title=\"Gene\",\n",
    "        legend_itemclick=False\n",
    "    )\n",
    "\n",
    "    fig.update_xaxes()\n",
    "    # Add markers\n",
    "\n",
    "    annotations = []\n",
    "    for i, marker in enumerate(markers):\n",
    "        sel_df = comb_df.loc[marker]\n",
    "        y = sel_df.max()\n",
    "        x = marker\n",
    "\n",
    "\n",
    "        # avoid overlapping\n",
    "        xanchor = 'right' if i % 2 == 0 else 'left'\n",
    "        ax = -10 if i % 2 == 0 else 10\n",
    "\n",
    "        fig.add_annotation(\n",
    "                x=x,\n",
    "                y=y,\n",
    "                text=marker,\n",
    "                showarrow=True,\n",
    "                ax = ax,  # No horizontal offset\n",
    "                xanchor=xanchor\n",
    "            )\n",
    "        annotations.append({\n",
    "                \"x\": x,\n",
    "                \"y\": y,\n",
    "                \"text\": marker,\n",
    "                \"showarrow\": True,\n",
    "                \"ax\": ax,  \n",
    "                \"xanchor\": xanchor, \n",
    "            })\n",
    "        \n",
    "    return fig, comb_df, annotations"
   ]
  },
  {
   "cell_type": "code",
   "execution_count": 59,
   "metadata": {},
   "outputs": [
    {
     "data": {
      "application/vnd.plotly.v1+json": {
       "config": {
        "plotlyServerURL": "https://plot.ly"
       },
       "data": [
        {
         "marker": {
          "color": "grey"
         },
         "mode": "lines",
         "showlegend": false,
         "type": "scatter",
         "x": [
          "JUN",
          "JUN",
          null,
          "MYCL",
          "MYCL",
          null,
          "DOT1L",
          "DOT1L",
          null,
          "SATB1",
          "SATB1",
          null,
          "REL",
          "REL",
          null,
          "EGR1",
          "EGR1",
          null,
          "ZNF524",
          "ZNF524",
          null,
          "ZNF609",
          "ZNF609",
          null,
          "BNC1",
          "BNC1",
          null,
          "ZBTB10",
          "ZBTB10",
          null,
          "OVOL1",
          "OVOL1",
          null,
          "ELK4",
          "ELK4",
          null,
          "NFAT5",
          "NFAT5",
          null,
          "TRERF1",
          "TRERF1",
          null,
          "TGIF1",
          "TGIF1",
          null,
          "HIVEP1",
          "HIVEP1",
          null,
          "HES2",
          "HES2",
          null,
          "POGK",
          "POGK",
          null,
          "CIC",
          "CIC",
          null,
          "TMF1",
          "TMF1",
          null,
          "TEAD1",
          "TEAD1",
          null,
          "ZNF552",
          "ZNF552",
          null,
          "ZXDB",
          "ZXDB",
          null,
          "REPIN1",
          "REPIN1",
          null,
          "ZBTB21",
          "ZBTB21",
          null,
          "TCF20",
          "TCF20",
          null,
          "ANKZF1",
          "ANKZF1",
          null,
          "GRHL3",
          "GRHL3",
          null,
          "JUNB",
          "JUNB",
          null,
          "JRK",
          "JRK",
          null,
          "KLF5",
          "KLF5",
          null,
          "LCOR",
          "LCOR",
          null,
          "MBD6",
          "MBD6",
          null,
          "ZNF846",
          "ZNF846",
          null,
          "ZBTB4",
          "ZBTB4",
          null,
          "RUNX1",
          "RUNX1",
          null,
          "SLC2A4RG",
          "SLC2A4RG",
          null,
          "MAFG",
          "MAFG",
          null,
          "AHR",
          "AHR",
          null,
          "MBD1",
          "MBD1",
          null,
          "ETV7",
          "ETV7",
          null,
          "SKI",
          "SKI",
          null,
          "MSX2",
          "MSX2",
          null,
          "DBP",
          "DBP",
          null,
          "STAT2",
          "STAT2",
          null,
          "ATF3",
          "ATF3",
          null,
          "SRF",
          "SRF",
          null,
          "ETV3",
          "ETV3",
          null,
          "FOSL1",
          "FOSL1",
          null,
          "ERF",
          "ERF",
          null,
          "MAFK",
          "MAFK",
          null,
          "KLF6",
          "KLF6",
          null,
          "SP100",
          "SP100",
          null,
          "ETS2",
          "ETS2",
          null,
          "FOXQ1",
          "FOXQ1",
          null,
          "EBF4",
          "EBF4",
          null,
          "NFATC4",
          "NFATC4",
          null,
          "KLF16",
          "KLF16",
          null,
          "MECOM",
          "MECOM",
          null,
          "ZNF750",
          "ZNF750",
          null,
          "ELF3",
          "ELF3",
          null,
          "MSANTD3",
          "MSANTD3",
          null,
          "BHLHE41",
          "BHLHE41",
          null,
          "ZNF513",
          "ZNF513",
          null,
          "IRF6",
          "IRF6",
          null,
          "SPEN",
          "SPEN",
          null,
          "ZSCAN16",
          "ZSCAN16",
          null,
          "CASZ1",
          "CASZ1",
          null,
          "KLF4",
          "KLF4",
          null,
          "IRF9",
          "IRF9",
          null,
          "ZNF224",
          "ZNF224",
          null,
          "IRF7",
          "IRF7",
          null,
          "PLSCR1",
          "PLSCR1",
          null,
          "PHF1",
          "PHF1",
          null,
          "ZNF335",
          "ZNF335",
          null,
          "TP63",
          "TP63",
          null,
          "SP110",
          "SP110",
          null,
          "ELF4",
          "ELF4",
          null,
          "FBXL19",
          "FBXL19",
          null,
          "ETS1",
          "ETS1",
          null,
          "SP1",
          "SP1",
          null,
          "HIVEP2",
          "HIVEP2",
          null,
          "MAFF",
          "MAFF",
          null,
          "ZNF276",
          "ZNF276",
          null,
          "ZNF586",
          "ZNF586",
          null,
          "NFIL3",
          "NFIL3",
          null,
          "BCL6",
          "BCL6",
          null,
          "STAT1",
          "STAT1",
          null,
          "SAFB2",
          "SAFB2",
          null,
          "FOXJ3",
          "FOXJ3",
          null,
          "FOSL2",
          "FOSL2",
          null,
          "HOXB6",
          "HOXB6",
          null,
          "NR4A2",
          "NR4A2",
          null,
          "ARID5B",
          "ARID5B",
          null,
          "ZNF211",
          "ZNF211",
          null,
          "ZBTB7C",
          "ZBTB7C",
          null,
          "ATMIN",
          "ATMIN",
          null,
          "KMT2A",
          "KMT2A",
          null
         ],
         "y": [
          6.45083167496202,
          6.499356545132188,
          null,
          2.7552835272266174,
          6.758303479689445,
          null,
          3.3321857834002695,
          3.3691701910704466,
          null,
          3.2974250257250852,
          4.135739848118953,
          null,
          1.383615945629711,
          2.8358753627577005,
          null,
          6.307406084494071,
          5.985722197389279,
          null,
          4.869218652484852,
          5.086114403429628,
          null,
          2.7601582167524126,
          3.088321900024994,
          null,
          1.0443771269631543,
          0.16574507725361556,
          null,
          1.7672573769618842,
          2.437589506738643,
          null,
          2.812854925103677,
          5.231683890033906,
          null,
          2.8651528786171614,
          3.488824642366756,
          null,
          1.9516963088974832,
          2.715715640636255,
          null,
          2.210064549861462,
          3.0155421567474776,
          null,
          6.768250287133337,
          7.173496939362765,
          null,
          3.2429915393670115,
          3.080174080301825,
          null,
          1.7086230819526786,
          3.3346584432513113,
          null,
          4.297215968295993,
          5.335038500645049,
          null,
          5.062101293476441,
          5.067368209048051,
          null,
          3.4431467797431776,
          3.6505706930699042,
          null,
          3.6042722839424433,
          3.093332191263788,
          null,
          2.60702645120662,
          4.631681872250689,
          null,
          1.729270846635401,
          2.2138243074463526,
          null,
          5.455775490909455,
          5.861896474978261,
          null,
          1.9223441139658457,
          2.2971873023106615,
          null,
          3.7959076222416632,
          3.9781125302590037,
          null,
          3.6898521030373375,
          3.618884309685463,
          null,
          0.9819163235629288,
          6.428817564052533,
          null,
          7.670982615086726,
          8.24995665702724,
          null,
          2.970320685429285,
          4.799201332444541,
          null,
          5.526917819263345,
          7.935383035061077,
          null,
          2.119333221184371,
          3.1947331259563896,
          null,
          4.325251516115313,
          5.305805412399802,
          null,
          3.027085089825774,
          4.09739723514155,
          null,
          4.228535929063702,
          4.361189940293122,
          null,
          4.344170367500807,
          4.477759360421148,
          null,
          7.1648637365018395,
          7.00820551312705,
          null,
          3.5837216194428843,
          3.186472001617227,
          null,
          3.9449474220464382,
          6.042314357067812,
          null,
          4.596172786517724,
          4.996141844075152,
          null,
          4.360387107466466,
          3.8756653023763357,
          null,
          4.120796313685521,
          4.177940221808645,
          null,
          4.000056976595649,
          5.168216546482492,
          null,
          4.206188365032428,
          4.171114321678818,
          null,
          5.369291622953502,
          5.199544739260602,
          null,
          5.242459892733461,
          5.706718668919017,
          null,
          4.491863094019967,
          4.361854069695184,
          null,
          3.080600717841689,
          4.012369959811344,
          null,
          5.728521532731416,
          4.410496545613872,
          null,
          4.963340407223129,
          5.081039624467803,
          null,
          4.674177600836888,
          4.870860223345639,
          null,
          6.060895872779148,
          5.743057721373834,
          null,
          5.6376449415424,
          5.248165275797388,
          null,
          5.840322516265713,
          6.615435157743136,
          null,
          3.521940510642857,
          6.793335154072639,
          null,
          3.5316797285890544,
          3.9150790904871005,
          null,
          4.985243434228168,
          4.957496929754139,
          null,
          4.411037997632103,
          3.9030173570983644,
          null,
          2.424664536398609,
          5.266808640304034,
          null,
          2.2276712446965727,
          4.431866157110411,
          null,
          7.016468575909328,
          9.72483828545588,
          null,
          4.659770081501024,
          3.887261246120635,
          null,
          3.7467125688094063,
          5.3106594045956905,
          null,
          3.803018311103361,
          4.741625241162138,
          null,
          3.818141036783344,
          6.163649382977054,
          null,
          4.4222514688524255,
          4.940205847515528,
          null,
          2.710937157838828,
          3.6892424508525496,
          null,
          2.183420086590693,
          3.700593040422274,
          null,
          3.2017350058607144,
          2.464686977356064,
          null,
          6.309109657828537,
          6.252671267845368,
          null,
          2.5974131112978975,
          3.586388794644509,
          null,
          5.400190388912432,
          4.359120274697114,
          null,
          6.2329696923366456,
          5.977862982030476,
          null,
          5.723053381159147,
          5.630088231257253,
          null,
          3.2526573583151297,
          3.747088597085209,
          null,
          1.654988613519615,
          5.611420041185005,
          null,
          4.785845897130858,
          3.845432551241074,
          null,
          4.472529452951617,
          4.995799131357161,
          null,
          3.994723150889371,
          4.605074567573797,
          null,
          5.1120862673045835,
          4.761227456812737,
          null,
          4.0428197237163035,
          4.773958696754397,
          null,
          3.1706601260047704,
          3.5719163242026877,
          null,
          4.532523144946292,
          5.388903075935355,
          null,
          3.4620246862509365,
          3.7643842728482135,
          null,
          2.7577305823259195,
          3.6417593173291127,
          null,
          4.773591089269845,
          3.8500493628067853,
          null,
          4.823154896507233,
          5.5700007883262455,
          null,
          8.020982550675908,
          6.459314880527447,
          null,
          5.488758349555312,
          5.967635069351185,
          null,
          3.7568854417816877,
          4.104840644388613,
          null,
          5.607913200256483,
          6.3216086050569515,
          null,
          2.9221852146636014,
          4.364012526939218,
          null,
          2.5269774302545125,
          2.719036045866899,
          null,
          3.4330901000597045,
          3.56166850356747,
          null,
          2.6845578581361376,
          3.9110378720862133,
          null,
          1.1978745642057904,
          4.481806752949894,
          null,
          4.338842853395038,
          4.576224733292328,
          null,
          3.614858847038319,
          3.843621202104108,
          null
         ]
        },
        {
         "marker": {
          "size": 10
         },
         "mode": "markers",
         "name": "mes-like_3",
         "type": "scatter",
         "x": [
          "JUN",
          "MYCL",
          "DOT1L",
          "SATB1",
          "REL",
          "EGR1",
          "ZNF524",
          "ZNF609",
          "BNC1",
          "ZBTB10",
          "OVOL1",
          "ELK4",
          "NFAT5",
          "TRERF1",
          "TGIF1",
          "HIVEP1",
          "HES2",
          "POGK",
          "CIC",
          "TMF1",
          "TEAD1",
          "ZNF552",
          "ZXDB",
          "REPIN1",
          "ZBTB21",
          "TCF20",
          "ANKZF1",
          "GRHL3",
          "JUNB",
          "JRK",
          "KLF5",
          "LCOR",
          "MBD6",
          "ZNF846",
          "ZBTB4",
          "RUNX1",
          "SLC2A4RG",
          "MAFG",
          "AHR",
          "MBD1",
          "ETV7",
          "SKI",
          "MSX2",
          "DBP",
          "STAT2",
          "ATF3",
          "SRF",
          "ETV3",
          "FOSL1",
          "ERF",
          "MAFK",
          "KLF6",
          "SP100",
          "ETS2",
          "FOXQ1",
          "EBF4",
          "NFATC4",
          "KLF16",
          "MECOM",
          "ZNF750",
          "ELF3",
          "MSANTD3",
          "BHLHE41",
          "ZNF513",
          "IRF6",
          "SPEN",
          "ZSCAN16",
          "CASZ1",
          "KLF4",
          "IRF9",
          "ZNF224",
          "IRF7",
          "PLSCR1",
          "PHF1",
          "ZNF335",
          "TP63",
          "SP110",
          "ELF4",
          "FBXL19",
          "ETS1",
          "SP1",
          "HIVEP2",
          "MAFF",
          "ZNF276",
          "ZNF586",
          "NFIL3",
          "BCL6",
          "STAT1",
          "SAFB2",
          "FOXJ3",
          "FOSL2",
          "HOXB6",
          "NR4A2",
          "ARID5B",
          "ZNF211",
          "ZBTB7C",
          "ATMIN",
          "KMT2A"
         ],
         "y": [
          6.45083167496202,
          2.7552835272266174,
          3.3321857834002695,
          3.2974250257250852,
          1.383615945629711,
          6.307406084494071,
          4.869218652484852,
          2.7601582167524126,
          1.0443771269631543,
          1.7672573769618842,
          2.812854925103677,
          2.8651528786171614,
          1.9516963088974832,
          2.210064549861462,
          6.768250287133337,
          3.2429915393670115,
          1.7086230819526786,
          4.297215968295993,
          5.062101293476441,
          3.4431467797431776,
          3.6042722839424433,
          2.60702645120662,
          1.729270846635401,
          5.455775490909455,
          1.9223441139658457,
          3.7959076222416632,
          3.6898521030373375,
          0.9819163235629288,
          7.670982615086726,
          2.970320685429285,
          5.526917819263345,
          2.119333221184371,
          4.325251516115313,
          3.027085089825774,
          4.228535929063702,
          4.344170367500807,
          7.1648637365018395,
          3.5837216194428843,
          3.9449474220464382,
          4.596172786517724,
          4.360387107466466,
          4.120796313685521,
          4.000056976595649,
          4.206188365032428,
          5.369291622953502,
          5.242459892733461,
          4.491863094019967,
          3.080600717841689,
          5.728521532731416,
          4.963340407223129,
          4.674177600836888,
          6.060895872779148,
          5.6376449415424,
          5.840322516265713,
          3.521940510642857,
          3.5316797285890544,
          4.985243434228168,
          4.411037997632103,
          2.424664536398609,
          2.2276712446965727,
          7.016468575909328,
          4.659770081501024,
          3.7467125688094063,
          3.803018311103361,
          3.818141036783344,
          4.4222514688524255,
          2.710937157838828,
          2.183420086590693,
          3.2017350058607144,
          6.309109657828537,
          2.5974131112978975,
          5.400190388912432,
          6.2329696923366456,
          5.723053381159147,
          3.2526573583151297,
          1.654988613519615,
          4.785845897130858,
          4.472529452951617,
          3.994723150889371,
          5.1120862673045835,
          4.0428197237163035,
          3.1706601260047704,
          4.532523144946292,
          3.4620246862509365,
          2.7577305823259195,
          4.773591089269845,
          4.823154896507233,
          8.020982550675908,
          5.488758349555312,
          3.7568854417816877,
          5.607913200256483,
          2.9221852146636014,
          2.5269774302545125,
          3.4330901000597045,
          2.6845578581361376,
          1.1978745642057904,
          4.338842853395038,
          3.614858847038319
         ]
        },
        {
         "marker": {
          "size": 10
         },
         "mode": "markers",
         "name": "lumInf_13",
         "type": "scatter",
         "x": [
          "JUN",
          "MYCL",
          "DOT1L",
          "SATB1",
          "REL",
          "EGR1",
          "ZNF524",
          "ZNF609",
          "BNC1",
          "ZBTB10",
          "OVOL1",
          "ELK4",
          "NFAT5",
          "TRERF1",
          "TGIF1",
          "HIVEP1",
          "HES2",
          "POGK",
          "CIC",
          "TMF1",
          "TEAD1",
          "ZNF552",
          "ZXDB",
          "REPIN1",
          "ZBTB21",
          "TCF20",
          "ANKZF1",
          "GRHL3",
          "JUNB",
          "JRK",
          "KLF5",
          "LCOR",
          "MBD6",
          "ZNF846",
          "ZBTB4",
          "RUNX1",
          "SLC2A4RG",
          "MAFG",
          "AHR",
          "MBD1",
          "ETV7",
          "SKI",
          "MSX2",
          "DBP",
          "STAT2",
          "ATF3",
          "SRF",
          "ETV3",
          "FOSL1",
          "ERF",
          "MAFK",
          "KLF6",
          "SP100",
          "ETS2",
          "FOXQ1",
          "EBF4",
          "NFATC4",
          "KLF16",
          "MECOM",
          "ZNF750",
          "ELF3",
          "MSANTD3",
          "BHLHE41",
          "ZNF513",
          "IRF6",
          "SPEN",
          "ZSCAN16",
          "CASZ1",
          "KLF4",
          "IRF9",
          "ZNF224",
          "IRF7",
          "PLSCR1",
          "PHF1",
          "ZNF335",
          "TP63",
          "SP110",
          "ELF4",
          "FBXL19",
          "ETS1",
          "SP1",
          "HIVEP2",
          "MAFF",
          "ZNF276",
          "ZNF586",
          "NFIL3",
          "BCL6",
          "STAT1",
          "SAFB2",
          "FOXJ3",
          "FOSL2",
          "HOXB6",
          "NR4A2",
          "ARID5B",
          "ZNF211",
          "ZBTB7C",
          "ATMIN",
          "KMT2A"
         ],
         "y": [
          6.499356545132188,
          6.758303479689445,
          3.3691701910704466,
          4.135739848118953,
          2.8358753627577005,
          5.985722197389279,
          5.086114403429628,
          3.088321900024994,
          0.16574507725361556,
          2.437589506738643,
          5.231683890033906,
          3.488824642366756,
          2.715715640636255,
          3.0155421567474776,
          7.173496939362765,
          3.080174080301825,
          3.3346584432513113,
          5.335038500645049,
          5.067368209048051,
          3.6505706930699042,
          3.093332191263788,
          4.631681872250689,
          2.2138243074463526,
          5.861896474978261,
          2.2971873023106615,
          3.9781125302590037,
          3.618884309685463,
          6.428817564052533,
          8.24995665702724,
          4.799201332444541,
          7.935383035061077,
          3.1947331259563896,
          5.305805412399802,
          4.09739723514155,
          4.361189940293122,
          4.477759360421148,
          7.00820551312705,
          3.186472001617227,
          6.042314357067812,
          4.996141844075152,
          3.8756653023763357,
          4.177940221808645,
          5.168216546482492,
          4.171114321678818,
          5.199544739260602,
          5.706718668919017,
          4.361854069695184,
          4.012369959811344,
          4.410496545613872,
          5.081039624467803,
          4.870860223345639,
          5.743057721373834,
          5.248165275797388,
          6.615435157743136,
          6.793335154072639,
          3.9150790904871005,
          4.957496929754139,
          3.9030173570983644,
          5.266808640304034,
          4.431866157110411,
          9.72483828545588,
          3.887261246120635,
          5.3106594045956905,
          4.741625241162138,
          6.163649382977054,
          4.940205847515528,
          3.6892424508525496,
          3.700593040422274,
          2.464686977356064,
          6.252671267845368,
          3.586388794644509,
          4.359120274697114,
          5.977862982030476,
          5.630088231257253,
          3.747088597085209,
          5.611420041185005,
          3.845432551241074,
          4.995799131357161,
          4.605074567573797,
          4.761227456812737,
          4.773958696754397,
          3.5719163242026877,
          5.388903075935355,
          3.7643842728482135,
          3.6417593173291127,
          3.8500493628067853,
          5.5700007883262455,
          6.459314880527447,
          5.967635069351185,
          4.104840644388613,
          6.3216086050569515,
          4.364012526939218,
          2.719036045866899,
          3.56166850356747,
          3.9110378720862133,
          4.481806752949894,
          4.576224733292328,
          3.843621202104108
         ]
        }
       ],
       "layout": {
        "annotations": [
         {
          "ax": -10,
          "showarrow": true,
          "text": "GRHL3",
          "x": "GRHL3",
          "xanchor": "right",
          "y": 6.428817564052533
         },
         {
          "ax": 10,
          "showarrow": true,
          "text": "MYCL",
          "x": "MYCL",
          "xanchor": "left",
          "y": 6.758303479689445
         },
         {
          "ax": -10,
          "showarrow": true,
          "text": "BNC1",
          "x": "BNC1",
          "xanchor": "right",
          "y": 1.0443771269631543
         },
         {
          "ax": 10,
          "showarrow": true,
          "text": "ELF3",
          "x": "ELF3",
          "xanchor": "left",
          "y": 9.72483828545588
         },
         {
          "ax": -10,
          "showarrow": true,
          "text": "ZBTB7C",
          "x": "ZBTB7C",
          "xanchor": "right",
          "y": 4.481806752949894
         },
         {
          "ax": 10,
          "showarrow": true,
          "text": "STAT1",
          "x": "STAT1",
          "xanchor": "left",
          "y": 8.020982550675908
         },
         {
          "ax": -10,
          "showarrow": true,
          "text": "HOXB6",
          "x": "HOXB6",
          "xanchor": "right",
          "y": 4.364012526939218
         },
         {
          "ax": 10,
          "showarrow": true,
          "text": "ZNF750",
          "x": "ZNF750",
          "xanchor": "left",
          "y": 4.431866157110411
         },
         {
          "ax": -10,
          "showarrow": true,
          "text": "MECOM",
          "x": "MECOM",
          "xanchor": "right",
          "y": 5.266808640304034
         },
         {
          "ax": 10,
          "showarrow": true,
          "text": "FOXQ1",
          "x": "FOXQ1",
          "xanchor": "left",
          "y": 6.793335154072639
         }
        ],
        "legend": {
         "itemclick": false
        },
        "template": {
         "data": {
          "bar": [
           {
            "error_x": {
             "color": "rgb(51,51,51)"
            },
            "error_y": {
             "color": "rgb(51,51,51)"
            },
            "marker": {
             "line": {
              "color": "rgb(237,237,237)",
              "width": 0.5
             },
             "pattern": {
              "fillmode": "overlay",
              "size": 10,
              "solidity": 0.2
             }
            },
            "type": "bar"
           }
          ],
          "barpolar": [
           {
            "marker": {
             "line": {
              "color": "rgb(237,237,237)",
              "width": 0.5
             },
             "pattern": {
              "fillmode": "overlay",
              "size": 10,
              "solidity": 0.2
             }
            },
            "type": "barpolar"
           }
          ],
          "carpet": [
           {
            "aaxis": {
             "endlinecolor": "rgb(51,51,51)",
             "gridcolor": "white",
             "linecolor": "white",
             "minorgridcolor": "white",
             "startlinecolor": "rgb(51,51,51)"
            },
            "baxis": {
             "endlinecolor": "rgb(51,51,51)",
             "gridcolor": "white",
             "linecolor": "white",
             "minorgridcolor": "white",
             "startlinecolor": "rgb(51,51,51)"
            },
            "type": "carpet"
           }
          ],
          "choropleth": [
           {
            "colorbar": {
             "outlinewidth": 0,
             "tickcolor": "rgb(237,237,237)",
             "ticklen": 6,
             "ticks": "inside"
            },
            "type": "choropleth"
           }
          ],
          "contour": [
           {
            "colorbar": {
             "outlinewidth": 0,
             "tickcolor": "rgb(237,237,237)",
             "ticklen": 6,
             "ticks": "inside"
            },
            "colorscale": [
             [
              0,
              "rgb(20,44,66)"
             ],
             [
              1,
              "rgb(90,179,244)"
             ]
            ],
            "type": "contour"
           }
          ],
          "contourcarpet": [
           {
            "colorbar": {
             "outlinewidth": 0,
             "tickcolor": "rgb(237,237,237)",
             "ticklen": 6,
             "ticks": "inside"
            },
            "type": "contourcarpet"
           }
          ],
          "heatmap": [
           {
            "colorbar": {
             "outlinewidth": 0,
             "tickcolor": "rgb(237,237,237)",
             "ticklen": 6,
             "ticks": "inside"
            },
            "colorscale": [
             [
              0,
              "rgb(20,44,66)"
             ],
             [
              1,
              "rgb(90,179,244)"
             ]
            ],
            "type": "heatmap"
           }
          ],
          "heatmapgl": [
           {
            "colorbar": {
             "outlinewidth": 0,
             "tickcolor": "rgb(237,237,237)",
             "ticklen": 6,
             "ticks": "inside"
            },
            "colorscale": [
             [
              0,
              "rgb(20,44,66)"
             ],
             [
              1,
              "rgb(90,179,244)"
             ]
            ],
            "type": "heatmapgl"
           }
          ],
          "histogram": [
           {
            "marker": {
             "pattern": {
              "fillmode": "overlay",
              "size": 10,
              "solidity": 0.2
             }
            },
            "type": "histogram"
           }
          ],
          "histogram2d": [
           {
            "colorbar": {
             "outlinewidth": 0,
             "tickcolor": "rgb(237,237,237)",
             "ticklen": 6,
             "ticks": "inside"
            },
            "colorscale": [
             [
              0,
              "rgb(20,44,66)"
             ],
             [
              1,
              "rgb(90,179,244)"
             ]
            ],
            "type": "histogram2d"
           }
          ],
          "histogram2dcontour": [
           {
            "colorbar": {
             "outlinewidth": 0,
             "tickcolor": "rgb(237,237,237)",
             "ticklen": 6,
             "ticks": "inside"
            },
            "colorscale": [
             [
              0,
              "rgb(20,44,66)"
             ],
             [
              1,
              "rgb(90,179,244)"
             ]
            ],
            "type": "histogram2dcontour"
           }
          ],
          "mesh3d": [
           {
            "colorbar": {
             "outlinewidth": 0,
             "tickcolor": "rgb(237,237,237)",
             "ticklen": 6,
             "ticks": "inside"
            },
            "type": "mesh3d"
           }
          ],
          "parcoords": [
           {
            "line": {
             "colorbar": {
              "outlinewidth": 0,
              "tickcolor": "rgb(237,237,237)",
              "ticklen": 6,
              "ticks": "inside"
             }
            },
            "type": "parcoords"
           }
          ],
          "pie": [
           {
            "automargin": true,
            "type": "pie"
           }
          ],
          "scatter": [
           {
            "fillpattern": {
             "fillmode": "overlay",
             "size": 10,
             "solidity": 0.2
            },
            "type": "scatter"
           }
          ],
          "scatter3d": [
           {
            "line": {
             "colorbar": {
              "outlinewidth": 0,
              "tickcolor": "rgb(237,237,237)",
              "ticklen": 6,
              "ticks": "inside"
             }
            },
            "marker": {
             "colorbar": {
              "outlinewidth": 0,
              "tickcolor": "rgb(237,237,237)",
              "ticklen": 6,
              "ticks": "inside"
             }
            },
            "type": "scatter3d"
           }
          ],
          "scattercarpet": [
           {
            "marker": {
             "colorbar": {
              "outlinewidth": 0,
              "tickcolor": "rgb(237,237,237)",
              "ticklen": 6,
              "ticks": "inside"
             }
            },
            "type": "scattercarpet"
           }
          ],
          "scattergeo": [
           {
            "marker": {
             "colorbar": {
              "outlinewidth": 0,
              "tickcolor": "rgb(237,237,237)",
              "ticklen": 6,
              "ticks": "inside"
             }
            },
            "type": "scattergeo"
           }
          ],
          "scattergl": [
           {
            "marker": {
             "colorbar": {
              "outlinewidth": 0,
              "tickcolor": "rgb(237,237,237)",
              "ticklen": 6,
              "ticks": "inside"
             }
            },
            "type": "scattergl"
           }
          ],
          "scattermapbox": [
           {
            "marker": {
             "colorbar": {
              "outlinewidth": 0,
              "tickcolor": "rgb(237,237,237)",
              "ticklen": 6,
              "ticks": "inside"
             }
            },
            "type": "scattermapbox"
           }
          ],
          "scatterpolar": [
           {
            "marker": {
             "colorbar": {
              "outlinewidth": 0,
              "tickcolor": "rgb(237,237,237)",
              "ticklen": 6,
              "ticks": "inside"
             }
            },
            "type": "scatterpolar"
           }
          ],
          "scatterpolargl": [
           {
            "marker": {
             "colorbar": {
              "outlinewidth": 0,
              "tickcolor": "rgb(237,237,237)",
              "ticklen": 6,
              "ticks": "inside"
             }
            },
            "type": "scatterpolargl"
           }
          ],
          "scatterternary": [
           {
            "marker": {
             "colorbar": {
              "outlinewidth": 0,
              "tickcolor": "rgb(237,237,237)",
              "ticklen": 6,
              "ticks": "inside"
             }
            },
            "type": "scatterternary"
           }
          ],
          "surface": [
           {
            "colorbar": {
             "outlinewidth": 0,
             "tickcolor": "rgb(237,237,237)",
             "ticklen": 6,
             "ticks": "inside"
            },
            "colorscale": [
             [
              0,
              "rgb(20,44,66)"
             ],
             [
              1,
              "rgb(90,179,244)"
             ]
            ],
            "type": "surface"
           }
          ],
          "table": [
           {
            "cells": {
             "fill": {
              "color": "rgb(237,237,237)"
             },
             "line": {
              "color": "white"
             }
            },
            "header": {
             "fill": {
              "color": "rgb(217,217,217)"
             },
             "line": {
              "color": "white"
             }
            },
            "type": "table"
           }
          ]
         },
         "layout": {
          "annotationdefaults": {
           "arrowhead": 0,
           "arrowwidth": 1
          },
          "autotypenumbers": "strict",
          "coloraxis": {
           "colorbar": {
            "outlinewidth": 0,
            "tickcolor": "rgb(237,237,237)",
            "ticklen": 6,
            "ticks": "inside"
           }
          },
          "colorscale": {
           "sequential": [
            [
             0,
             "rgb(20,44,66)"
            ],
            [
             1,
             "rgb(90,179,244)"
            ]
           ],
           "sequentialminus": [
            [
             0,
             "rgb(20,44,66)"
            ],
            [
             1,
             "rgb(90,179,244)"
            ]
           ]
          },
          "colorway": [
           "#F8766D",
           "#A3A500",
           "#00BF7D",
           "#00B0F6",
           "#E76BF3"
          ],
          "font": {
           "color": "rgb(51,51,51)"
          },
          "geo": {
           "bgcolor": "white",
           "lakecolor": "white",
           "landcolor": "rgb(237,237,237)",
           "showlakes": true,
           "showland": true,
           "subunitcolor": "white"
          },
          "hoverlabel": {
           "align": "left"
          },
          "hovermode": "closest",
          "paper_bgcolor": "white",
          "plot_bgcolor": "rgb(237,237,237)",
          "polar": {
           "angularaxis": {
            "gridcolor": "white",
            "linecolor": "white",
            "showgrid": true,
            "tickcolor": "rgb(51,51,51)",
            "ticks": "outside"
           },
           "bgcolor": "rgb(237,237,237)",
           "radialaxis": {
            "gridcolor": "white",
            "linecolor": "white",
            "showgrid": true,
            "tickcolor": "rgb(51,51,51)",
            "ticks": "outside"
           }
          },
          "scene": {
           "xaxis": {
            "backgroundcolor": "rgb(237,237,237)",
            "gridcolor": "white",
            "gridwidth": 2,
            "linecolor": "white",
            "showbackground": true,
            "showgrid": true,
            "tickcolor": "rgb(51,51,51)",
            "ticks": "outside",
            "zerolinecolor": "white"
           },
           "yaxis": {
            "backgroundcolor": "rgb(237,237,237)",
            "gridcolor": "white",
            "gridwidth": 2,
            "linecolor": "white",
            "showbackground": true,
            "showgrid": true,
            "tickcolor": "rgb(51,51,51)",
            "ticks": "outside",
            "zerolinecolor": "white"
           },
           "zaxis": {
            "backgroundcolor": "rgb(237,237,237)",
            "gridcolor": "white",
            "gridwidth": 2,
            "linecolor": "white",
            "showbackground": true,
            "showgrid": true,
            "tickcolor": "rgb(51,51,51)",
            "ticks": "outside",
            "zerolinecolor": "white"
           }
          },
          "shapedefaults": {
           "fillcolor": "black",
           "line": {
            "width": 0
           },
           "opacity": 0.3
          },
          "ternary": {
           "aaxis": {
            "gridcolor": "white",
            "linecolor": "white",
            "showgrid": true,
            "tickcolor": "rgb(51,51,51)",
            "ticks": "outside"
           },
           "baxis": {
            "gridcolor": "white",
            "linecolor": "white",
            "showgrid": true,
            "tickcolor": "rgb(51,51,51)",
            "ticks": "outside"
           },
           "bgcolor": "rgb(237,237,237)",
           "caxis": {
            "gridcolor": "white",
            "linecolor": "white",
            "showgrid": true,
            "tickcolor": "rgb(51,51,51)",
            "ticks": "outside"
           }
          },
          "xaxis": {
           "automargin": true,
           "gridcolor": "white",
           "linecolor": "white",
           "showgrid": true,
           "tickcolor": "rgb(51,51,51)",
           "ticks": "outside",
           "title": {
            "standoff": 15
           },
           "zerolinecolor": "white"
          },
          "yaxis": {
           "automargin": true,
           "gridcolor": "white",
           "linecolor": "white",
           "showgrid": true,
           "tickcolor": "rgb(51,51,51)",
           "ticks": "outside",
           "title": {
            "standoff": 15
           },
           "zerolinecolor": "white"
          }
         }
        },
        "title": {
         "text": "Changes between mes-like_3 and lumInf_13"
        },
        "xaxis": {
         "title": {
          "text": "Gene"
         }
        },
        "yaxis": {
         "title": {
          "text": "Log2(TPM + 1) mean "
         }
        }
       }
      }
     },
     "metadata": {},
     "output_type": "display_data"
    }
   ],
   "source": [
    "morp_df['dendrogram_cut'] = morp_df['dendrogram_cut'].astype(float).astype(int)\n",
    "\n",
    "cluster_1, label_1 = 3, 'mes-like'\n",
    "cluster_2, label_2 = 13, 'lumInf'\n",
    "cls_1, cls_2 = f'{label_1}_{cluster_1}', f'{label_2}_{cluster_2}'\n",
    "markers = [  'GRHL3', 'MYCL', \"BNC1\", 'ELF3', 'ZBTB7C', 'STAT1', 'HOXB6',  'ZNF750','MECOM',  'FOXQ1']\n",
    "\n",
    "fig1, df, ann1 = dumbell_plots(morp_df=morp_df, tum_df=tum_tpms_v4, sel_tfs=sel_tfs, cls_1=cls_1, cls_2=cls_2, markers=markers, log=True)\n",
    "title1 = f'{cls_1} vs {cls_2}'\n",
    "fig1.show()"
   ]
  },
  {
   "cell_type": "code",
   "execution_count": 60,
   "metadata": {},
   "outputs": [],
   "source": [
    "# Basal large vs Luminal\n",
    "log = True\n",
    "cluster_1, label_1 = 13, 'luminal'\n",
    "cluster_2, label_2 = 4, 'basal'\n",
    "cls_1, cls_2 = f'{label_1}_{cluster_1}', f'{label_2}_{cluster_2}'\n",
    "markers = ['EGR1', 'BNC1', 'ELF3', 'FOSL1', 'MYCL', 'FOXQ1', \"GRHL3\", 'JRK']\n",
    "\n",
    "fig1, df, ann1 = dumbell_plots(morp_df=morp_df, tum_df=tum_tpms_v4, sel_tfs=sel_tfs, cls_1=cls_1, cls_2=cls_2, markers=markers, log=True)\n",
    "title1 = f'{cls_1} vs {cls_2}'\n",
    "\n",
    "# Lum vs LumInf\n",
    "cluster_1, label_1 = 13, 'luminal'\n",
    "cluster_2, label_2 = 12, 'lumInf'\n",
    "cls_1, cls_2 = f'{label_1}_{cluster_1}', f'{label_2}_{cluster_2}'\n",
    "markers = ['EGR1', 'TP63', 'ELF3']\n",
    "\n",
    "fig2, df, ann2 = dumbell_plots(morp_df=morp_df, tum_df=tum_tpms_v4, sel_tfs=sel_tfs, cls_1=cls_1, cls_2=cls_2, markers=markers, log=True)\n",
    "title2= f'{cls_1} vs {cls_2}'\n",
    "\n",
    "# Small vs LumInf\n",
    "cluster_1, label_1 = 5, 'smallBasal'\n",
    "cluster_2, label_2 = 12, 'lumInf'\n",
    "cls_1, cls_2 = f'{label_1}_{cluster_1}', f'{label_2}_{cluster_2}'\n",
    "markers = ['BNC1', 'ELF3', 'MYCL', \"GRHL3\",'HES2', 'JRK', 'TP63', 'MSX2', 'IRF6', 'HOXB6']\n",
    "\n",
    "fig3, df, ann3 = dumbell_plots(morp_df=morp_df, tum_df=tum_tpms_v4, sel_tfs=sel_tfs, cls_1=cls_1, cls_2=cls_2, markers=markers, log=True)\n",
    "title3 = f'{cls_1} vs {cls_2}'\n",
    "\n",
    "# Mes-like vs Basal\n",
    "cluster_1, label_1 = 3, 'mesLike'\n",
    "cluster_2, label_2 = 4, 'basal'\n",
    "cls_1, cls_2 = f'{label_1}_{cluster_1}', f'{label_2}_{cluster_2}'\n",
    "markers = [\"GRHL3\",'BNC1', 'ELF3', 'MYCL','HES2', 'JRK', 'TP63', 'IRF6', 'STAT1', 'ZBTB7C', 'ZNF750', \"EGR1\", 'JUN', 'JUNB']\n",
    "\n",
    "fig4, df, ann4 = dumbell_plots(morp_df=morp_df, tum_df=tum_tpms_v4, sel_tfs=sel_tfs, cls_1=cls_1, cls_2=cls_2, markers=markers, log=True)\n",
    "title4 = f'{cls_1} vs {cls_2}'\n",
    "\n",
    "#Mes-like vs small basal\n",
    "cluster_1, label_1 = 3, 'mesLike'\n",
    "cluster_2, label_2 = 5, 'smallBasal'\n",
    "cls_1, cls_2 = f'{label_1}_{cluster_1}', f'{label_2}_{cluster_2}'\n",
    "markers = ['REL',  'HES2', 'MYCL', 'GRHL3', 'KLF5', \"ZBTB7C\", 'TP63', 'IRF6', 'MECOM',  'ZNF750', 'FOXQ1', 'ELF3', 'MSX2','BNC1', 'STAT1',]\n",
    "\n",
    "fig5, df, ann5 = dumbell_plots(morp_df=morp_df, tum_df=tum_tpms_v4, sel_tfs=sel_tfs, cls_1=cls_1, cls_2=cls_2, markers=markers, log=True)\n",
    "title5= f'{cls_1} vs {cls_2}'\n",
    "\n",
    "\n",
    "# Small basal vs Basla\n",
    "cluster_1, label_1 = 4, 'basal'\n",
    "cluster_2, label_2 = 5, 'smallBasal'\n",
    "cls_1, cls_2 = f'{label_1}_{cluster_1}', f'{label_2}_{cluster_2}'\n",
    "markers = [ 'MSX2', 'MAFG', 'ZXDB', 'TP63', \"ZBTB10\", 'ZBTB7C']\n",
    "\n",
    "fig6, df, ann6 = dumbell_plots(morp_df=morp_df, tum_df=tum_tpms_v4, sel_tfs=sel_tfs, cls_1=cls_1, cls_2=cls_2, markers=markers, log=True)\n",
    "title6 = f'{cls_1} vs {cls_2}'"
   ]
  },
  {
   "cell_type": "code",
   "execution_count": 63,
   "metadata": {},
   "outputs": [],
   "source": [
    "num_cols=2\n",
    "subplots_config = {\n",
    "    \"num_cols\": num_cols,\n",
    "    \"shared_x\": False,\n",
    "    \"shared_y\": False,\n",
    "    \"h_spacing\": 0.05,\n",
    "    \"v_spacing\": 0.1,\n",
    "    \"main_title\": \"Gene differences\",\n",
    "    \"height\": 1200,\n",
    "    \"width\": None,\n",
    "    \"y_title\": None,\n",
    "    \"x_title\": None,\n",
    "    \"specs\": None,\n",
    "}\n",
    "\n",
    "figs, titles = [fig1, fig2, fig3, fig4, fig5, fig6], [title1, title2, title3, title4, title5, title6]\n",
    "annotations = [ann1, ann2, ann3, ann4, ann5, ann6]\n",
    "\n",
    "# Defining the trace colors\n",
    "traces_names = [\"mesLike_3\", 'basal_4', \"luminal_13\", 'lumInf_12', \"smallBasal_5\"]\n",
    "trace_colors = {}\n",
    "for idx, name in enumerate(traces_names):\n",
    "     trace_colors[name] = px.colors.qualitative.Plotly[idx]\n",
    "\n",
    "# Making sure that we only display the traces once\n",
    "displayed_legends = set()\n",
    "for fig in figs:\n",
    "    for trace in fig.data:\n",
    "        if trace.name:\n",
    "            trace.update(marker=dict(color=trace_colors[trace.name]))\n",
    "\n",
    "            # Manage legend entries\n",
    "            if trace.name not in displayed_legends:\n",
    "                displayed_legends.add(trace.name)\n",
    "                trace.showlegend = True  # Show legend for this trace\n",
    "            else:\n",
    "                trace.showlegend = False  # Hide legend for this trace\n",
    "\n",
    "fig = gh.helper_multiplots(figs, titles, subplots_config)\n",
    "\n",
    "# Adding the annotations to the subtplots\n",
    "idx_row, idx_col = 1, 1\n",
    "for i, ann in enumerate(annotations):\n",
    "    for elem in ann:\n",
    "        fig.add_annotation(elem, row=idx_row, col=idx_col)\n",
    "    if idx_col % num_cols == 0:\n",
    "            idx_col = 0\n",
    "            idx_row += 1\n",
    "    idx_col += 1\n",
    "\n",
    "\n",
    "fig = fig.update_layout(showlegend=True)\n",
    "# fig.show()\n",
    "# save_fig(name=\"p0_elbowMethod_4K\", fig=fig, base_path=figures_path, width=None, height=400)"
   ]
  },
  {
   "cell_type": "markdown",
   "metadata": {},
   "source": [
    "### Single plot version"
   ]
  },
  {
   "cell_type": "code",
   "execution_count": 21,
   "metadata": {},
   "outputs": [],
   "source": [
    "# Single scatter plot in plotly\n",
    "def plot_cluster_means(morp_df: pd.DataFrame, tum_df: pd.DataFrame, sel_tfs: pd.DataFrame, cls_1=\"\", cls_2=\"\", markers=[], log=False):\n",
    "\n",
    "    cluster_1, cluster_2 = int(cls_1.split(\"_\")[-1]), int(cls_2.split(\"_\")[-1])\n",
    "\n",
    "    samples_1 = morp_df[morp_df['dendrogram_cut'] == cluster_1].index\n",
    "    samples_2 = morp_df[morp_df['dendrogram_cut'] == cluster_2].index\n",
    "\n",
    "    # Reconstruct the TPM\n",
    "    dmy_df = tum_df.loc[tum_df.index.isin(sel_tfs.index)]\n",
    "    df_1 = dmy_df[samples_1]\n",
    "    df_1[cls_1] = df_1.mean(axis=1)\n",
    "\n",
    "    dmy_df = tum_df.loc[tum_df.index.isin(sel_tfs.index)]\n",
    "    df_2 = dmy_df[samples_2]\n",
    "    df_2[cls_2] = df_2.mean(axis=1)\n",
    "\n",
    "    comb_df = pd.concat([df_1[cls_1], df_2[cls_2]], axis=1)\n",
    "    fig = px.scatter(comb_df.reset_index(), x=cls_1, y=cls_2, hover_data='genes', title=f'{cls_1} vs {cls_2}', log_x=log, log_y=log, trendline='ols', trendline_color_override='red', trendline_options=dict(log_x=log, log_y=log))\n",
    "\n",
    "    for marker in markers:\n",
    "        dmy = comb_df.loc[marker]\n",
    "        x, y = dmy.values[0], dmy.values[1]\n",
    "        if log:\n",
    "            x, y = np.log10(x), np.log10(y)\n",
    "            \n",
    "        fig.add_annotation(\n",
    "            x=x,\n",
    "            y=y,\n",
    "            text=dmy.name,\n",
    "            showarrow=False,\n",
    "            xanchor=\"right\",\n",
    "        )\n",
    "    return fig, comb_df\n",
    "\n",
    "# Matplotlib functions - useful for multiplots\n",
    "def plot_cluster_means_2(ax, morp_df, tum_df, sel_tfs, cls_1=\"\", cls_2=\"\", markers=[], log=False):\n",
    "    cluster_1 = int(cls_1.split(\"_\")[-1])\n",
    "    cluster_2 = int(cls_2.split(\"_\")[-1])\n",
    "\n",
    "    samples_1 = morp_df[morp_df['dendrogram_cut'] == cluster_1].index\n",
    "    samples_2 = morp_df[morp_df['dendrogram_cut'] == cluster_2].index\n",
    "\n",
    "    # Reconstruct the TPM\n",
    "    dmy_df = tum_df.loc[tum_df.index.isin(sel_tfs.index)]\n",
    "    df_1 = dmy_df.loc[:, samples_1].mean(axis=1).rename(cls_1)\n",
    "    df_2 = dmy_df.loc[:, samples_2].mean(axis=1).rename(cls_2)\n",
    "\n",
    "    comb_df = pd.concat([df_1, df_2], axis=1)\n",
    "\n",
    "    # Plotting\n",
    "    x_values = comb_df[cls_1]\n",
    "    y_values = comb_df[cls_2]\n",
    "    \n",
    "    if log:\n",
    "        x_values = np.log10(x_values + 1)  # +1 to handle log(0) cases\n",
    "        y_values = np.log10(y_values + 1)\n",
    "        xlabel = f'Log10({cls_1})'\n",
    "        ylabel = f'Log10({cls_2})'\n",
    "        title = f'Log10-scaled: {cls_1} vs {cls_2}'\n",
    "    else:\n",
    "        xlabel = cls_1\n",
    "        ylabel = cls_2\n",
    "        title = f'{cls_1} vs {cls_2}'\n",
    "\n",
    "    ax.scatter(x_values, y_values)\n",
    "    ax.set_xlabel(xlabel)\n",
    "    ax.set_ylabel(ylabel)\n",
    "    ax.set_title(title)\n",
    "\n",
    "    # Adding trend line\n",
    "    z = np.polyfit(x_values, y_values, 1)  # Fit a first degree polynomial (linear fit)\n",
    "    p = np.poly1d(z)  # Create the polynomial object to evaluate\n",
    "    ax.plot(x_values, p(x_values), \"r--\")  # Plot the trend line\n",
    "\n",
    "    # Annotations\n",
    "    for marker in markers:\n",
    "        x = x_values.get(marker, None)\n",
    "        y = y_values.get(marker, None)\n",
    "        if x is not None and y is not None:\n",
    "            ax.annotate(marker, (x, y), textcoords=\"offset points\", xytext=(0,10), ha='center')\n",
    "\n",
    "    # Adding gridlines\n",
    "    ax.grid(True, linestyle='--', linewidth=0.5, alpha=0.7)\n",
    "\n",
    "# save_fig(name=\"test\", fig=fig, base_path=figures_path, width=1400, height=700)"
   ]
  },
  {
   "cell_type": "code",
   "execution_count": 22,
   "metadata": {},
   "outputs": [],
   "source": [
    "if 0:\n",
    "    cluster_1, label_1 = 9, 'basal'\n",
    "    cluster_2, label_2 = 7, 'luminf'\n",
    "    cls_1, cls_2 = f'{label_1}_{cluster_1}', f'{label_2}_{cluster_2}'\n",
    "\n",
    "    markers = ['TP63', 'HES2', 'MSX2', \"MYCL\", 'ZSCAN16', 'MAFF', \"IRF7\", 'IRF6', 'KLF5', \"ETS2\"]\n",
    "\n",
    "    dmy_df = sel_tfs.loc[~sel_tfs.index.isin([\"BNC1\"])]\n",
    "    fig, df = plot_cluster_means(morp_df=morp_df, tum_df=tum_tpms_v4, sel_tfs=dmy_df, cls_1=cls_2, cls_2=cls_1, markers=markers, log=True)\n",
    "    # fig.show()"
   ]
  },
  {
   "cell_type": "markdown",
   "metadata": {},
   "source": [
    "### Matplotlib version"
   ]
  },
  {
   "cell_type": "code",
   "execution_count": 105,
   "metadata": {},
   "outputs": [],
   "source": [
    "if 0:\n",
    "    fig, axs = plt.subplots(1, 2, figsize=(14, 6))  # 1 row, 2 columns\n",
    "\n",
    "    cluster_1, label_1 = 10, 'basal'\n",
    "    cluster_2, label_2 = 13, 'basal'\n",
    "    cls_1, cls_2 = f'{label_1}_{cluster_1}', f'{label_2}_{cluster_2}'\n",
    "    markers = [\"IRF6\", \"TP63\", \"GRHL3\", \"HES2\", 'BNC1', \"REL\", \"ZBTB7C\", \"STAT1\", \"ELF3\", \"JUNB\", \"ZNF750\", \"AHR\", \"MYCL\", 'REPIN1']\n",
    "    fig1, df = plot_cluster_means_2(axs[0], morp_df=morp_df, tum_df=tum_tpms_v4, sel_tfs=sel_tfs, cls_1=cls_1, cls_2=cls_2, markers=markers, log=True)\n",
    "\n",
    "    # Repeat for the second figure\n",
    "    cluster_1, cluster_2, label_1, label_2 = 10, 9, 'basal', 'basal'\n",
    "    cls_1, cls_2 = f'{label_1}_{cluster_1}', f'{label_2}_{cluster_2}'\n",
    "    markers = [\"MSX2\", \"ZBTB7C\", \"ELF3\", \"KLF5\", \"TP63\", \"MECOM\", 'NR4A2']\n",
    "    fig2, df = plot_cluster_means_2(axs[1], morp_df=morp_df, tum_df=tum_tpms_v4, sel_tfs=sel_tfs, cls_1=cls_1, cls_2=cls_2, markers=markers, log=True)\n"
   ]
  },
  {
   "cell_type": "markdown",
   "metadata": {},
   "source": [
    "# Survival analysis"
   ]
  },
  {
   "cell_type": "code",
   "execution_count": 112,
   "metadata": {},
   "outputs": [],
   "source": [
    "from lifelines.statistics import multivariate_logrank_test\n",
    "\n",
    "def prep_survival(df, cs_model=\"RawKMeans\", label=\"SBM\"):\n",
    "    \n",
    "    colors_net, color_map = px.colors.qualitative.G10, {}\n",
    "    for idx, val in enumerate(df[cs_model].unique()):\n",
    "        color_map[val] = colors_net[idx]\n",
    "\n",
    "    df[cs_model] = df[cs_model].astype(str)\n",
    "    fig = survival_plot(df.drop(columns=[\"days_to_last_follow_up\", \"days_to_death\"]), vu_output, classifier=cs_model, color_map=color_map)\n",
    "    fig = fig.update_layout(title=\"{}. Survival analysis for {}\".format(label, cs_model))\n",
    "\n",
    "    return fig, color_map\n",
    "\n",
    "def survival_sig(df, model):\n",
    "    df = df.reset_index().rename(columns={\"index\": \"Sample\"}).copy(deep=True)\n",
    "    classifier = model\n",
    "\n",
    "    dmy = df[[\"days_to_last_follow_up\", \"days_to_death\", classifier]].replace(\"--\", 0).astype(int)\n",
    "    dmy[\"last_contact\"] = dmy[[\"days_to_last_follow_up\", \"days_to_death\"]].max(axis=1).div(30)\n",
    "\n",
    "    labels = list(df[model].unique())\n",
    "    dmy = dmy[dmy[classifier].isin(labels)]\n",
    "    print(labels)\n",
    "\n",
    "    results = multivariate_logrank_test(dmy[\"last_contact\"], dmy[classifier], dmy[\"days_to_death\"])\n",
    "    display(results.print_summary())\n",
    "    print(\"{0:.6f}\".format(results.p_value))\n",
    "\n",
    "# add the survival metadata\n",
    "tcga_metadata = pd.read_csv(f\"{data_base}/tumour/TCGA_metadata.tsv\", sep=\"\\t\", index_col=\"Sample\")\n",
    "morp_df['days_to_last_follow_up'] = tcga_metadata['days_to_last_follow_up']\n",
    "morp_df['days_to_death'] = tcga_metadata['days_to_death']"
   ]
  },
  {
   "cell_type": "code",
   "execution_count": 108,
   "metadata": {},
   "outputs": [
    {
     "data": {
      "application/vnd.plotly.v1+json": {
       "config": {
        "plotlyServerURL": "https://plot.ly"
       },
       "data": [
        {
         "hovertemplate": "disease=3<br>timeline=%{x}<br>chance=%{y}<extra></extra>",
         "legendgroup": "3",
         "line": {
          "color": "#F8766D",
          "dash": "solid",
          "shape": "hv"
         },
         "marker": {
          "symbol": "circle"
         },
         "mode": "lines+markers",
         "name": "3",
         "orientation": "v",
         "showlegend": true,
         "type": "scatter",
         "x": [
          0,
          0.6666666666666666,
          1.2333333333333334,
          2.2666666666666666,
          3.933333333333333,
          4.366666666666666,
          5.766666666666667,
          7.033333333333333,
          9.2,
          10.933333333333334,
          11.233333333333333,
          12.333333333333334,
          15.333333333333334,
          17.966666666666665,
          19.666666666666668,
          20.766666666666666,
          21.266666666666666,
          23.533333333333335,
          23.966666666666665,
          29.9,
          33.5,
          37.56666666666667,
          54.63333333333333,
          60.2,
          64.96666666666667,
          67.56666666666666,
          80.76666666666667,
          98.8,
          144.76666666666668,
          165.56666666666666
         ],
         "xaxis": "x",
         "y": [
          1,
          0.9655172413793102,
          0.9655172413793102,
          0.9655172413793102,
          0.928381962864721,
          0.8912466843501324,
          0.8541114058355435,
          0.8169761273209548,
          0.8169761273209548,
          0.778072502210433,
          0.778072502210433,
          0.7371213178835682,
          0.7371213178835682,
          0.7371213178835682,
          0.6910512355158452,
          0.6449811531481221,
          0.6449811531481221,
          0.5953672182905743,
          0.5457532834330264,
          0.5457532834330264,
          0.4911779550897238,
          0.4911779550897238,
          0.4911779550897238,
          0.4911779550897238,
          0.4911779550897238,
          0.4911779550897238,
          0.4911779550897238,
          0.4911779550897238,
          0.4911779550897238,
          0.4911779550897238
         ],
         "yaxis": "y"
        },
        {
         "hovertemplate": "disease=4<br>timeline=%{x}<br>chance=%{y}<extra></extra>",
         "legendgroup": "4",
         "line": {
          "color": "#A3A500",
          "dash": "solid",
          "shape": "hv"
         },
         "marker": {
          "symbol": "circle"
         },
         "mode": "lines+markers",
         "name": "4",
         "orientation": "v",
         "showlegend": true,
         "type": "scatter",
         "x": [
          0,
          1.1666666666666667,
          1.8333333333333333,
          2.066666666666667,
          2.1333333333333333,
          2.7333333333333334,
          2.966666666666667,
          3,
          3.066666666666667,
          3.1666666666666665,
          3.3,
          3.966666666666667,
          4.066666666666666,
          4.966666666666667,
          5.6,
          6.366666666666666,
          7.733333333333333,
          7.9,
          8.266666666666667,
          8.333333333333334,
          8.366666666666667,
          8.433333333333334,
          8.633333333333333,
          8.7,
          9.066666666666666,
          9.266666666666667,
          9.766666666666667,
          9.8,
          10.1,
          10.366666666666667,
          10.7,
          11,
          12.333333333333334,
          12.4,
          12.733333333333333,
          12.8,
          12.866666666666667,
          13.1,
          13.533333333333333,
          13.6,
          13.933333333333334,
          14.266666666666667,
          14.566666666666666,
          15.533333333333333,
          15.8,
          16,
          16.133333333333333,
          16.5,
          16.9,
          17,
          17.866666666666667,
          18.733333333333334,
          19.066666666666666,
          19.6,
          20.333333333333332,
          21.1,
          21.333333333333332,
          22.833333333333332,
          25.266666666666666,
          26.1,
          26.3,
          27.433333333333334,
          28,
          28.366666666666667,
          28.8,
          29.566666666666666,
          29.966666666666665,
          32.46666666666667,
          33.46666666666667,
          34.93333333333333,
          36.93333333333333,
          39.53333333333333,
          42.333333333333336,
          45.56666666666667,
          48.666666666666664,
          51.86666666666667,
          52.733333333333334,
          54.96666666666667,
          56.93333333333333,
          58.7,
          59.733333333333334,
          61,
          62.3,
          62.8,
          70.3,
          76.43333333333334,
          79.33333333333333,
          88.53333333333333,
          94.26666666666667,
          127.23333333333333,
          168.03333333333333
         ],
         "xaxis": "x",
         "y": [
          1,
          1,
          1,
          0.9888888888888887,
          0.9888888888888887,
          0.9888888888888887,
          0.9888888888888887,
          0.9773901808785534,
          0.9658914728682171,
          0.9658914728682171,
          0.954254226207154,
          0.954254226207154,
          0.9424733098342255,
          0.9306923934612981,
          0.9071305607154427,
          0.8953496443425146,
          0.8835687279695865,
          0.8717878115966593,
          0.860006895223731,
          0.8482259788508033,
          0.8364450624778755,
          0.824664146104948,
          0.8128832297320201,
          0.8011023133590922,
          0.789321396986164,
          0.7775404806132361,
          0.7775404806132361,
          0.7655783193730324,
          0.753616158132829,
          0.7416539968926256,
          0.7296918356524219,
          0.7296918356524219,
          0.7175303050582152,
          0.7175303050582152,
          0.7175303050582152,
          0.7175303050582152,
          0.7047172638964613,
          0.6919042227347073,
          0.6790911815729535,
          0.6662781404111997,
          0.6534650992494457,
          0.6534650992494457,
          0.6403957972644567,
          0.6403957972644567,
          0.6270542181547804,
          0.6270542181547804,
          0.6270542181547804,
          0.613119679973563,
          0.613119679973563,
          0.5985215923551449,
          0.5985215923551449,
          0.5985215923551449,
          0.5985215923551449,
          0.5985215923551449,
          0.5985215923551449,
          0.5985215923551449,
          0.5985215923551449,
          0.5809180161094052,
          0.5809180161094052,
          0.5809180161094052,
          0.5809180161094052,
          0.5615540822390918,
          0.5615540822390918,
          0.5615540822390918,
          0.5615540822390918,
          0.5615540822390918,
          0.5615540822390918,
          0.5381559954791295,
          0.5147579087191675,
          0.5147579087191675,
          0.5147579087191675,
          0.5147579087191675,
          0.4876653872076323,
          0.4605728656960973,
          0.4605728656960973,
          0.4317870615900913,
          0.4317870615900913,
          0.4317870615900913,
          0.4317870615900913,
          0.4317870615900913,
          0.4317870615900913,
          0.4317870615900913,
          0.3838107214134143,
          0.3838107214134143,
          0.3838107214134143,
          0.3838107214134143,
          0.3838107214134143,
          0.3838107214134143,
          0.2558738142756095,
          0.2558738142756095,
          0.2558738142756095
         ],
         "yaxis": "y"
        },
        {
         "hovertemplate": "disease=5<br>timeline=%{x}<br>chance=%{y}<extra></extra>",
         "legendgroup": "5",
         "line": {
          "color": "#00BF7D",
          "dash": "solid",
          "shape": "hv"
         },
         "marker": {
          "symbol": "circle"
         },
         "mode": "lines+markers",
         "name": "5",
         "orientation": "v",
         "showlegend": true,
         "type": "scatter",
         "x": [
          0,
          3.533333333333333,
          5.133333333333334,
          7.1,
          7.333333333333333,
          9.066666666666666,
          9.133333333333333,
          11.466666666666667,
          11.866666666666667,
          13.333333333333334,
          13.766666666666667,
          15.166666666666666,
          15.566666666666666,
          16.366666666666667,
          16.933333333333334,
          18,
          18.233333333333334,
          21,
          44.2,
          87.5
         ],
         "xaxis": "x",
         "y": [
          1,
          0.95,
          0.9,
          0.8500000000000002,
          0.8,
          0.7500000000000001,
          0.7,
          0.6500000000000001,
          0.6000000000000001,
          0.5500000000000002,
          0.4500000000000001,
          0.39999999999999997,
          0.35000000000000003,
          0.35000000000000003,
          0.2916666666666667,
          0.2916666666666667,
          0.21875000000000003,
          0.14583333333333331,
          0.14583333333333331,
          0.14583333333333331
         ],
         "yaxis": "y"
        },
        {
         "hovertemplate": "disease=12<br>timeline=%{x}<br>chance=%{y}<extra></extra>",
         "legendgroup": "12",
         "line": {
          "color": "#00B0F6",
          "dash": "solid",
          "shape": "hv"
         },
         "marker": {
          "symbol": "circle"
         },
         "mode": "lines+markers",
         "name": "12",
         "orientation": "v",
         "showlegend": true,
         "type": "scatter",
         "x": [
          0,
          0.5,
          2.3,
          2.533333333333333,
          3.2666666666666666,
          5.133333333333334,
          5.266666666666667,
          8.6,
          9.8,
          10.8,
          11.066666666666666,
          12.066666666666666,
          12.533333333333333,
          13.033333333333333,
          13.666666666666666,
          15.166666666666666,
          17.4,
          17.866666666666667,
          19.366666666666667,
          20.066666666666666,
          20.1,
          22.166666666666668,
          23.733333333333334,
          24.366666666666667,
          31.5,
          33.43333333333333,
          35.9,
          47.333333333333336,
          54.03333333333333,
          57.266666666666666,
          67.33333333333333,
          68.3,
          112.13333333333334,
          114.4,
          132.7
         ],
         "xaxis": "x",
         "y": [
          1,
          1,
          0.9696969696969697,
          0.9393939393939394,
          0.9090909090909092,
          0.8787878787878789,
          0.8787878787878789,
          0.8474025974025976,
          0.8160173160173163,
          0.7846320346320347,
          0.7532467532467535,
          0.721861471861472,
          0.721861471861472,
          0.6890495867768596,
          0.6890495867768596,
          0.6890495867768596,
          0.6527838190517616,
          0.6165180513266639,
          0.6165180513266639,
          0.5779856731187475,
          0.5779856731187475,
          0.5367009821816943,
          0.49541629124464087,
          0.49541629124464087,
          0.49541629124464087,
          0.49541629124464087,
          0.44037003666190283,
          0.385323782079165,
          0.385323782079165,
          0.3211031517326375,
          0.25688252138611,
          0.25688252138611,
          0.25688252138611,
          0.25688252138611,
          0.25688252138611
         ],
         "yaxis": "y"
        },
        {
         "hovertemplate": "disease=13<br>timeline=%{x}<br>chance=%{y}<extra></extra>",
         "legendgroup": "13",
         "line": {
          "color": "#E76BF3",
          "dash": "solid",
          "shape": "hv"
         },
         "marker": {
          "symbol": "circle"
         },
         "mode": "lines+markers",
         "name": "13",
         "orientation": "v",
         "showlegend": true,
         "type": "scatter",
         "x": [
          0,
          0.43333333333333335,
          0.5666666666666667,
          0.6333333333333333,
          0.6666666666666666,
          0.9333333333333333,
          1.5333333333333334,
          1.8666666666666667,
          1.9,
          2.1333333333333333,
          2.1666666666666665,
          2.2333333333333334,
          2.2666666666666666,
          2.8,
          3.1,
          3.5,
          3.6666666666666665,
          3.9,
          4.3,
          4.733333333333333,
          4.8,
          4.866666666666666,
          5.433333333333334,
          6.066666666666666,
          6.233333333333333,
          6.3,
          6.666666666666667,
          6.866666666666666,
          7.2,
          7.466666666666667,
          7.666666666666667,
          7.733333333333333,
          8.2,
          8.366666666666667,
          8.466666666666667,
          8.733333333333333,
          11.1,
          11.333333333333334,
          11.5,
          11.966666666666667,
          12.033333333333333,
          12.133333333333333,
          12.166666666666666,
          12.2,
          12.266666666666667,
          12.3,
          12.333333333333334,
          12.4,
          12.433333333333334,
          12.633333333333333,
          12.8,
          12.833333333333334,
          12.933333333333334,
          12.966666666666667,
          13.133333333333333,
          13.266666666666667,
          13.3,
          13.766666666666667,
          13.833333333333334,
          13.866666666666667,
          14.1,
          14.166666666666666,
          14.266666666666667,
          14.433333333333334,
          14.466666666666667,
          15.1,
          15.133333333333333,
          15.233333333333333,
          15.333333333333334,
          15.533333333333333,
          15.566666666666666,
          15.633333333333333,
          15.8,
          15.833333333333334,
          15.9,
          16.033333333333335,
          16.166666666666668,
          16.2,
          16.4,
          16.5,
          16.766666666666666,
          16.933333333333334,
          17,
          17.066666666666666,
          17.466666666666665,
          17.666666666666668,
          17.866666666666667,
          17.966666666666665,
          18.066666666666666,
          18.133333333333333,
          18.2,
          18.233333333333334,
          18.333333333333332,
          18.666666666666668,
          18.833333333333332,
          19.1,
          19.233333333333334,
          19.266666666666666,
          19.333333333333332,
          19.4,
          19.666666666666668,
          19.766666666666666,
          19.966666666666665,
          20.4,
          20.566666666666666,
          20.6,
          21.2,
          21.366666666666667,
          21.4,
          21.6,
          21.633333333333333,
          21.7,
          22.166666666666668,
          22.466666666666665,
          22.666666666666668,
          23,
          23.033333333333335,
          23.2,
          23.333333333333332,
          24.466666666666665,
          24.633333333333333,
          25,
          25.366666666666667,
          25.766666666666666,
          25.933333333333334,
          26.5,
          26.6,
          26.633333333333333,
          27.066666666666666,
          27.1,
          27.333333333333332,
          27.733333333333334,
          27.833333333333332,
          28.066666666666666,
          28.633333333333333,
          28.8,
          29.1,
          29.766666666666666,
          30.066666666666666,
          30.2,
          30.7,
          31.366666666666667,
          31.633333333333333,
          33.233333333333334,
          33.6,
          34.53333333333333,
          35.46666666666667,
          36.46666666666667,
          37.166666666666664,
          38.766666666666666,
          39.36666666666667,
          44.93333333333333,
          45,
          45.666666666666664,
          47.43333333333333,
          47.63333333333333,
          48.46666666666667,
          48.5,
          50.733333333333334,
          50.96666666666667,
          51.266666666666666,
          51.4,
          52.03333333333333,
          53.46666666666667,
          55.666666666666664,
          57.13333333333333,
          60.13333333333333,
          61.5,
          63.733333333333334,
          65.06666666666666,
          65.7,
          66.93333333333334,
          66.96666666666667,
          67.33333333333333,
          67.46666666666667,
          68.13333333333334,
          71.3,
          72.56666666666666,
          77.06666666666666,
          77.66666666666667,
          88.03333333333333,
          90.1,
          93,
          95.6,
          96.2,
          98.46666666666667,
          100.36666666666666,
          106.1,
          110.46666666666667,
          114,
          168.33333333333334
         ],
         "xaxis": "x",
         "y": [
          1,
          1,
          1,
          0.9949748743718594,
          0.9949748743718594,
          0.9949748743718594,
          0.9949748743718594,
          0.9847700038654814,
          0.9796675686122923,
          0.9796675686122923,
          0.9745384190384059,
          0.9745384190384059,
          0.9693821311069856,
          0.9693821311069856,
          0.9641982694433121,
          0.9641982694433121,
          0.9641982694433121,
          0.9641982694433121,
          0.9641982694433121,
          0.9589004767540636,
          0.9536026840648144,
          0.9483048913755653,
          0.9430070986863163,
          0.9376793749649246,
          0.9376793749649246,
          0.9376793749649246,
          0.9322904130398391,
          0.9269014511147528,
          0.9215124891896677,
          0.9215124891896677,
          0.9215124891896677,
          0.9160597525672434,
          0.9106070159448197,
          0.9106070159448197,
          0.9051214315114166,
          0.8996358470780146,
          0.8996358470780146,
          0.8941166087523823,
          0.8941166087523823,
          0.8941166087523823,
          0.8941166087523823,
          0.8884576428742023,
          0.8884576428742023,
          0.8884576428742023,
          0.8884576428742023,
          0.8884576428742023,
          0.8884576428742023,
          0.8884576428742023,
          0.8884576428742023,
          0.8884576428742023,
          0.8884576428742023,
          0.882372316553146,
          0.87628699023209,
          0.87628699023209,
          0.87628699023209,
          0.87628699023209,
          0.87628699023209,
          0.8699827672807806,
          0.8699827672807806,
          0.8699827672807806,
          0.8699827672807806,
          0.8699827672807806,
          0.8699827672807806,
          0.8699827672807806,
          0.8633416774542099,
          0.856700587627639,
          0.8500594978010682,
          0.8500594978010682,
          0.8433661159286188,
          0.8433661159286188,
          0.8366191870011898,
          0.8366191870011898,
          0.8366191870011898,
          0.8366191870011898,
          0.8366191870011898,
          0.8366191870011898,
          0.8366191870011898,
          0.8294685956592989,
          0.8223180043174086,
          0.8223180043174086,
          0.8223180043174086,
          0.8223180043174086,
          0.8149758792788605,
          0.8149758792788605,
          0.8149758792788605,
          0.807499036349697,
          0.807499036349697,
          0.7999523163838121,
          0.7999523163838121,
          0.7847151294050732,
          0.7847151294050732,
          0.7770218438226709,
          0.7693285582402685,
          0.7693285582402685,
          0.7615575627024883,
          0.7615575627024883,
          0.7537064538086482,
          0.7537064538086482,
          0.7537064538086482,
          0.7537064538086482,
          0.7537064538086482,
          0.7454239653052566,
          0.7371414768018647,
          0.7288589882984734,
          0.7205764997950814,
          0.7205764997950814,
          0.7205764997950814,
          0.7205764997950814,
          0.7205764997950814,
          0.7205764997950814,
          0.7205764997950814,
          0.7116804936247711,
          0.7116804936247711,
          0.7026718797814197,
          0.6936632659380684,
          0.6846546520947165,
          0.6846546520947165,
          0.6755259234001209,
          0.6755259234001209,
          0.6662721436275166,
          0.6570183638549122,
          0.6570183638549122,
          0.6570183638549122,
          0.6570183638549122,
          0.6473563290923396,
          0.6376942943297673,
          0.6376942943297673,
          0.6376942943297673,
          0.6376942943297673,
          0.6376942943297673,
          0.6376942943297673,
          0.6376942943297673,
          0.626885916459771,
          0.626885916459771,
          0.6158879179253892,
          0.6048899193910071,
          0.6048899193910071,
          0.6048899193910071,
          0.6048899193910071,
          0.6048899193910071,
          0.6048899193910071,
          0.592792121003187,
          0.580694322615367,
          0.580694322615367,
          0.5683391242618487,
          0.5559839259083302,
          0.5436287275548117,
          0.5436287275548117,
          0.5436287275548117,
          0.5306851864225544,
          0.5306851864225544,
          0.5174180567619904,
          0.5174180567619904,
          0.5174180567619904,
          0.5034337849576123,
          0.5034337849576123,
          0.5034337849576123,
          0.5034337849576123,
          0.5034337849576123,
          0.5034337849576123,
          0.5034337849576123,
          0.5034337849576123,
          0.5034337849576123,
          0.5034337849576123,
          0.4847880892184415,
          0.4847880892184415,
          0.465396565649704,
          0.465396565649704,
          0.465396565649704,
          0.465396565649704,
          0.44323482442828943,
          0.44323482442828943,
          0.44323482442828943,
          0.44323482442828943,
          0.44323482442828943,
          0.44323482442828943,
          0.44323482442828943,
          0.44323482442828943,
          0.44323482442828943,
          0.44323482442828943,
          0.40294074948026315,
          0.40294074948026315,
          0.40294074948026315,
          0.40294074948026315,
          0.40294074948026315,
          0.3357839579002193,
          0.3357839579002193,
          0.2518379684251645,
          0.2518379684251645,
          0.2518379684251645,
          0.2518379684251645
         ],
         "yaxis": "y"
        }
       ],
       "layout": {
        "font": {
         "size": 16
        },
        "height": 700,
        "legend": {
         "bgcolor": "rgba(0,0,0,0)",
         "font": {
          "color": "#003366",
          "size": 16
         },
         "orientation": "h",
         "title": {
          "text": "Network subtype"
         },
         "tracegroupgap": 0,
         "x": 0.5,
         "xanchor": "center",
         "y": 0.9,
         "yanchor": "bottom"
        },
        "margin": {
         "t": 60
        },
        "template": {
         "data": {
          "bar": [
           {
            "error_x": {
             "color": "rgb(51,51,51)"
            },
            "error_y": {
             "color": "rgb(51,51,51)"
            },
            "marker": {
             "line": {
              "color": "rgb(237,237,237)",
              "width": 0.5
             },
             "pattern": {
              "fillmode": "overlay",
              "size": 10,
              "solidity": 0.2
             }
            },
            "type": "bar"
           }
          ],
          "barpolar": [
           {
            "marker": {
             "line": {
              "color": "rgb(237,237,237)",
              "width": 0.5
             },
             "pattern": {
              "fillmode": "overlay",
              "size": 10,
              "solidity": 0.2
             }
            },
            "type": "barpolar"
           }
          ],
          "carpet": [
           {
            "aaxis": {
             "endlinecolor": "rgb(51,51,51)",
             "gridcolor": "white",
             "linecolor": "white",
             "minorgridcolor": "white",
             "startlinecolor": "rgb(51,51,51)"
            },
            "baxis": {
             "endlinecolor": "rgb(51,51,51)",
             "gridcolor": "white",
             "linecolor": "white",
             "minorgridcolor": "white",
             "startlinecolor": "rgb(51,51,51)"
            },
            "type": "carpet"
           }
          ],
          "choropleth": [
           {
            "colorbar": {
             "outlinewidth": 0,
             "tickcolor": "rgb(237,237,237)",
             "ticklen": 6,
             "ticks": "inside"
            },
            "type": "choropleth"
           }
          ],
          "contour": [
           {
            "colorbar": {
             "outlinewidth": 0,
             "tickcolor": "rgb(237,237,237)",
             "ticklen": 6,
             "ticks": "inside"
            },
            "colorscale": [
             [
              0,
              "rgb(20,44,66)"
             ],
             [
              1,
              "rgb(90,179,244)"
             ]
            ],
            "type": "contour"
           }
          ],
          "contourcarpet": [
           {
            "colorbar": {
             "outlinewidth": 0,
             "tickcolor": "rgb(237,237,237)",
             "ticklen": 6,
             "ticks": "inside"
            },
            "type": "contourcarpet"
           }
          ],
          "heatmap": [
           {
            "colorbar": {
             "outlinewidth": 0,
             "tickcolor": "rgb(237,237,237)",
             "ticklen": 6,
             "ticks": "inside"
            },
            "colorscale": [
             [
              0,
              "rgb(20,44,66)"
             ],
             [
              1,
              "rgb(90,179,244)"
             ]
            ],
            "type": "heatmap"
           }
          ],
          "heatmapgl": [
           {
            "colorbar": {
             "outlinewidth": 0,
             "tickcolor": "rgb(237,237,237)",
             "ticklen": 6,
             "ticks": "inside"
            },
            "colorscale": [
             [
              0,
              "rgb(20,44,66)"
             ],
             [
              1,
              "rgb(90,179,244)"
             ]
            ],
            "type": "heatmapgl"
           }
          ],
          "histogram": [
           {
            "marker": {
             "pattern": {
              "fillmode": "overlay",
              "size": 10,
              "solidity": 0.2
             }
            },
            "type": "histogram"
           }
          ],
          "histogram2d": [
           {
            "colorbar": {
             "outlinewidth": 0,
             "tickcolor": "rgb(237,237,237)",
             "ticklen": 6,
             "ticks": "inside"
            },
            "colorscale": [
             [
              0,
              "rgb(20,44,66)"
             ],
             [
              1,
              "rgb(90,179,244)"
             ]
            ],
            "type": "histogram2d"
           }
          ],
          "histogram2dcontour": [
           {
            "colorbar": {
             "outlinewidth": 0,
             "tickcolor": "rgb(237,237,237)",
             "ticklen": 6,
             "ticks": "inside"
            },
            "colorscale": [
             [
              0,
              "rgb(20,44,66)"
             ],
             [
              1,
              "rgb(90,179,244)"
             ]
            ],
            "type": "histogram2dcontour"
           }
          ],
          "mesh3d": [
           {
            "colorbar": {
             "outlinewidth": 0,
             "tickcolor": "rgb(237,237,237)",
             "ticklen": 6,
             "ticks": "inside"
            },
            "type": "mesh3d"
           }
          ],
          "parcoords": [
           {
            "line": {
             "colorbar": {
              "outlinewidth": 0,
              "tickcolor": "rgb(237,237,237)",
              "ticklen": 6,
              "ticks": "inside"
             }
            },
            "type": "parcoords"
           }
          ],
          "pie": [
           {
            "automargin": true,
            "type": "pie"
           }
          ],
          "scatter": [
           {
            "fillpattern": {
             "fillmode": "overlay",
             "size": 10,
             "solidity": 0.2
            },
            "type": "scatter"
           }
          ],
          "scatter3d": [
           {
            "line": {
             "colorbar": {
              "outlinewidth": 0,
              "tickcolor": "rgb(237,237,237)",
              "ticklen": 6,
              "ticks": "inside"
             }
            },
            "marker": {
             "colorbar": {
              "outlinewidth": 0,
              "tickcolor": "rgb(237,237,237)",
              "ticklen": 6,
              "ticks": "inside"
             }
            },
            "type": "scatter3d"
           }
          ],
          "scattercarpet": [
           {
            "marker": {
             "colorbar": {
              "outlinewidth": 0,
              "tickcolor": "rgb(237,237,237)",
              "ticklen": 6,
              "ticks": "inside"
             }
            },
            "type": "scattercarpet"
           }
          ],
          "scattergeo": [
           {
            "marker": {
             "colorbar": {
              "outlinewidth": 0,
              "tickcolor": "rgb(237,237,237)",
              "ticklen": 6,
              "ticks": "inside"
             }
            },
            "type": "scattergeo"
           }
          ],
          "scattergl": [
           {
            "marker": {
             "colorbar": {
              "outlinewidth": 0,
              "tickcolor": "rgb(237,237,237)",
              "ticklen": 6,
              "ticks": "inside"
             }
            },
            "type": "scattergl"
           }
          ],
          "scattermapbox": [
           {
            "marker": {
             "colorbar": {
              "outlinewidth": 0,
              "tickcolor": "rgb(237,237,237)",
              "ticklen": 6,
              "ticks": "inside"
             }
            },
            "type": "scattermapbox"
           }
          ],
          "scatterpolar": [
           {
            "marker": {
             "colorbar": {
              "outlinewidth": 0,
              "tickcolor": "rgb(237,237,237)",
              "ticklen": 6,
              "ticks": "inside"
             }
            },
            "type": "scatterpolar"
           }
          ],
          "scatterpolargl": [
           {
            "marker": {
             "colorbar": {
              "outlinewidth": 0,
              "tickcolor": "rgb(237,237,237)",
              "ticklen": 6,
              "ticks": "inside"
             }
            },
            "type": "scatterpolargl"
           }
          ],
          "scatterternary": [
           {
            "marker": {
             "colorbar": {
              "outlinewidth": 0,
              "tickcolor": "rgb(237,237,237)",
              "ticklen": 6,
              "ticks": "inside"
             }
            },
            "type": "scatterternary"
           }
          ],
          "surface": [
           {
            "colorbar": {
             "outlinewidth": 0,
             "tickcolor": "rgb(237,237,237)",
             "ticklen": 6,
             "ticks": "inside"
            },
            "colorscale": [
             [
              0,
              "rgb(20,44,66)"
             ],
             [
              1,
              "rgb(90,179,244)"
             ]
            ],
            "type": "surface"
           }
          ],
          "table": [
           {
            "cells": {
             "fill": {
              "color": "rgb(237,237,237)"
             },
             "line": {
              "color": "white"
             }
            },
            "header": {
             "fill": {
              "color": "rgb(217,217,217)"
             },
             "line": {
              "color": "white"
             }
            },
            "type": "table"
           }
          ]
         },
         "layout": {
          "annotationdefaults": {
           "arrowhead": 0,
           "arrowwidth": 1
          },
          "autotypenumbers": "strict",
          "coloraxis": {
           "colorbar": {
            "outlinewidth": 0,
            "tickcolor": "rgb(237,237,237)",
            "ticklen": 6,
            "ticks": "inside"
           }
          },
          "colorscale": {
           "sequential": [
            [
             0,
             "rgb(20,44,66)"
            ],
            [
             1,
             "rgb(90,179,244)"
            ]
           ],
           "sequentialminus": [
            [
             0,
             "rgb(20,44,66)"
            ],
            [
             1,
             "rgb(90,179,244)"
            ]
           ]
          },
          "colorway": [
           "#F8766D",
           "#A3A500",
           "#00BF7D",
           "#00B0F6",
           "#E76BF3"
          ],
          "font": {
           "color": "rgb(51,51,51)"
          },
          "geo": {
           "bgcolor": "white",
           "lakecolor": "white",
           "landcolor": "rgb(237,237,237)",
           "showlakes": true,
           "showland": true,
           "subunitcolor": "white"
          },
          "hoverlabel": {
           "align": "left"
          },
          "hovermode": "closest",
          "paper_bgcolor": "white",
          "plot_bgcolor": "rgb(237,237,237)",
          "polar": {
           "angularaxis": {
            "gridcolor": "white",
            "linecolor": "white",
            "showgrid": true,
            "tickcolor": "rgb(51,51,51)",
            "ticks": "outside"
           },
           "bgcolor": "rgb(237,237,237)",
           "radialaxis": {
            "gridcolor": "white",
            "linecolor": "white",
            "showgrid": true,
            "tickcolor": "rgb(51,51,51)",
            "ticks": "outside"
           }
          },
          "scene": {
           "xaxis": {
            "backgroundcolor": "rgb(237,237,237)",
            "gridcolor": "white",
            "gridwidth": 2,
            "linecolor": "white",
            "showbackground": true,
            "showgrid": true,
            "tickcolor": "rgb(51,51,51)",
            "ticks": "outside",
            "zerolinecolor": "white"
           },
           "yaxis": {
            "backgroundcolor": "rgb(237,237,237)",
            "gridcolor": "white",
            "gridwidth": 2,
            "linecolor": "white",
            "showbackground": true,
            "showgrid": true,
            "tickcolor": "rgb(51,51,51)",
            "ticks": "outside",
            "zerolinecolor": "white"
           },
           "zaxis": {
            "backgroundcolor": "rgb(237,237,237)",
            "gridcolor": "white",
            "gridwidth": 2,
            "linecolor": "white",
            "showbackground": true,
            "showgrid": true,
            "tickcolor": "rgb(51,51,51)",
            "ticks": "outside",
            "zerolinecolor": "white"
           }
          },
          "shapedefaults": {
           "fillcolor": "black",
           "line": {
            "width": 0
           },
           "opacity": 0.3
          },
          "ternary": {
           "aaxis": {
            "gridcolor": "white",
            "linecolor": "white",
            "showgrid": true,
            "tickcolor": "rgb(51,51,51)",
            "ticks": "outside"
           },
           "baxis": {
            "gridcolor": "white",
            "linecolor": "white",
            "showgrid": true,
            "tickcolor": "rgb(51,51,51)",
            "ticks": "outside"
           },
           "bgcolor": "rgb(237,237,237)",
           "caxis": {
            "gridcolor": "white",
            "linecolor": "white",
            "showgrid": true,
            "tickcolor": "rgb(51,51,51)",
            "ticks": "outside"
           }
          },
          "xaxis": {
           "automargin": true,
           "gridcolor": "white",
           "linecolor": "white",
           "showgrid": true,
           "tickcolor": "rgb(51,51,51)",
           "ticks": "outside",
           "title": {
            "standoff": 15
           },
           "zerolinecolor": "white"
          },
          "yaxis": {
           "automargin": true,
           "gridcolor": "white",
           "linecolor": "white",
           "showgrid": true,
           "tickcolor": "rgb(51,51,51)",
           "ticks": "outside",
           "title": {
            "standoff": 15
           },
           "zerolinecolor": "white"
          }
         }
        },
        "title": {
         "text": ""
        },
        "xaxis": {
         "anchor": "y",
         "domain": [
          0,
          1
         ],
         "range": [
          -1,
          60
         ],
         "tickfont": {
          "size": 16
         },
         "title": {
          "text": "Time (months)"
         }
        },
        "yaxis": {
         "anchor": "x",
         "domain": [
          0,
          1
         ],
         "tickfont": {
          "size": 16
         },
         "title": {
          "text": "Survival (%)"
         }
        }
       }
      }
     },
     "metadata": {},
     "output_type": "display_data"
    }
   ],
   "source": [
    "cluster_model = 'dendrogram_cut'\n",
    "fig, dendo_color_map = prep_survival(morp_df, cs_model=cluster_model, label=\"CS_15\")\n",
    "# save_fig(name=\"Survival_plot_reward\", fig=fig, base_path=figures_path, width=1400, height=600)\n",
    "\n",
    "fig.update_layout(\n",
    "    legend=dict(\n",
    "        orientation=\"h\",\n",
    "        title=\"Network subtype\",\n",
    "        yanchor=\"bottom\",\n",
    "        y=0.9,\n",
    "        xanchor=\"center\",\n",
    "        x=0.5,\n",
    "        bgcolor=\"rgba(0,0,0,0)\",\n",
    "        font=dict(size=16, color=\"#003366\"),\n",
    "    ),\n",
    "    title=\"\",\n",
    "    template=\"ggplot2\",  # \"ggplot2\", \"plotly_white\"\n",
    "    # paper_bgcolor=\"rgba(0,0,0,0)\",\n",
    "    # plot_bgcolor=\"rgba(0,0,0,0)\",\n",
    "    xaxis=dict(tickfont=dict(size=16)),\n",
    "    yaxis=dict(tickfont=dict(size=16)),\n",
    "    font=dict(size=16),\n",
    "    height=700\n",
    ")\n",
    "fig.show()\n"
   ]
  },
  {
   "cell_type": "code",
   "execution_count": 113,
   "metadata": {},
   "outputs": [
    {
     "name": "stdout",
     "output_type": "stream",
     "text": [
      "[3, 4, 5, 12, 13]\n"
     ]
    },
    {
     "data": {
      "text/html": [
       "<div>\n",
       "<style scoped>\n",
       "    .dataframe tbody tr th:only-of-type {\n",
       "        vertical-align: middle;\n",
       "    }\n",
       "\n",
       "    .dataframe tbody tr th {\n",
       "        vertical-align: top;\n",
       "    }\n",
       "\n",
       "    .dataframe thead th {\n",
       "        text-align: right;\n",
       "    }\n",
       "</style>\n",
       "<table border=\"1\" class=\"dataframe\">\n",
       "  <tbody>\n",
       "    <tr>\n",
       "      <th>t_0</th>\n",
       "      <td>-1</td>\n",
       "    </tr>\n",
       "    <tr>\n",
       "      <th>null_distribution</th>\n",
       "      <td>chi squared</td>\n",
       "    </tr>\n",
       "    <tr>\n",
       "      <th>degrees_of_freedom</th>\n",
       "      <td>4</td>\n",
       "    </tr>\n",
       "    <tr>\n",
       "      <th>test_name</th>\n",
       "      <td>multivariate_logrank_test</td>\n",
       "    </tr>\n",
       "  </tbody>\n",
       "</table>\n",
       "</div><table border=\"1\" class=\"dataframe\">\n",
       "  <thead>\n",
       "    <tr style=\"text-align: right;\">\n",
       "      <th></th>\n",
       "      <th>test_statistic</th>\n",
       "      <th>p</th>\n",
       "      <th>-log2(p)</th>\n",
       "    </tr>\n",
       "  </thead>\n",
       "  <tbody>\n",
       "    <tr>\n",
       "      <th>0</th>\n",
       "      <td>22.78</td>\n",
       "      <td>&lt;0.005</td>\n",
       "      <td>12.80</td>\n",
       "    </tr>\n",
       "  </tbody>\n",
       "</table>"
      ],
      "text/latex": [
       "\\begin{tabular}{lrrr}\n",
       " & test_statistic & p & -log2(p) \\\\\n",
       "0 & 22.78 & 0.00 & 12.80 \\\\\n",
       "\\end{tabular}\n"
      ],
      "text/plain": [
       "<lifelines.StatisticalResult: multivariate_logrank_test>\n",
       "               t_0 = -1\n",
       " null_distribution = chi squared\n",
       "degrees_of_freedom = 4\n",
       "         test_name = multivariate_logrank_test\n",
       "\n",
       "---\n",
       " test_statistic      p  -log2(p)\n",
       "          22.78 <0.005     12.80"
      ]
     },
     "metadata": {},
     "output_type": "display_data"
    },
    {
     "data": {
      "text/plain": [
       "None"
      ]
     },
     "metadata": {},
     "output_type": "display_data"
    },
    {
     "name": "stdout",
     "output_type": "stream",
     "text": [
      "0.000140\n"
     ]
    }
   ],
   "source": [
    "morp_df[cluster_model] = morp_df[cluster_model].astype(float).astype(int)\n",
    "survival_sig(morp_df, model=cluster_model)"
   ]
  },
  {
   "cell_type": "markdown",
   "metadata": {},
   "source": [
    "### Comparing survival"
   ]
  },
  {
   "cell_type": "code",
   "execution_count": 99,
   "metadata": {},
   "outputs": [
    {
     "data": {
      "application/vnd.plotly.v1+json": {
       "config": {
        "plotlyServerURL": "https://plot.ly"
       },
       "data": [
        {
         "hovertemplate": "disease=12<br>timeline=%{x}<br>chance=%{y}<extra></extra>",
         "legendgroup": "12",
         "line": {
          "color": "#109618",
          "dash": "solid",
          "shape": "hv"
         },
         "marker": {
          "symbol": "circle"
         },
         "mode": "lines+markers",
         "name": "12",
         "orientation": "v",
         "showlegend": true,
         "type": "scatter",
         "x": [
          0,
          0.5,
          2.3,
          2.533333333333333,
          3.2666666666666666,
          5.133333333333334,
          5.266666666666667,
          8.6,
          9.8,
          10.8,
          11.066666666666666,
          12.066666666666666,
          12.533333333333333,
          13.033333333333333,
          13.666666666666666,
          15.166666666666666,
          17.4,
          17.866666666666667,
          19.366666666666667,
          20.066666666666666,
          20.1,
          22.166666666666668,
          23.733333333333334,
          24.366666666666667,
          31.5,
          33.43333333333333,
          35.9,
          47.333333333333336,
          54.03333333333333,
          57.266666666666666,
          67.33333333333333,
          68.3,
          112.13333333333334,
          114.4,
          132.7
         ],
         "xaxis": "x",
         "y": [
          1,
          1,
          0.9696969696969697,
          0.9393939393939394,
          0.9090909090909092,
          0.8787878787878789,
          0.8787878787878789,
          0.8474025974025976,
          0.8160173160173163,
          0.7846320346320347,
          0.7532467532467535,
          0.721861471861472,
          0.721861471861472,
          0.6890495867768596,
          0.6890495867768596,
          0.6890495867768596,
          0.6527838190517616,
          0.6165180513266639,
          0.6165180513266639,
          0.5779856731187475,
          0.5779856731187475,
          0.5367009821816943,
          0.49541629124464087,
          0.49541629124464087,
          0.49541629124464087,
          0.49541629124464087,
          0.44037003666190283,
          0.385323782079165,
          0.385323782079165,
          0.3211031517326375,
          0.25688252138611,
          0.25688252138611,
          0.25688252138611,
          0.25688252138611,
          0.25688252138611
         ],
         "yaxis": "y"
        },
        {
         "hovertemplate": "disease=3<br>timeline=%{x}<br>chance=%{y}<extra></extra>",
         "legendgroup": "3",
         "line": {
          "color": "#3366CC",
          "dash": "solid",
          "shape": "hv"
         },
         "marker": {
          "symbol": "circle"
         },
         "mode": "lines+markers",
         "name": "3",
         "orientation": "v",
         "showlegend": true,
         "type": "scatter",
         "x": [
          0,
          0.6666666666666666,
          1.2333333333333334,
          2.2666666666666666,
          3.933333333333333,
          4.366666666666666,
          5.766666666666667,
          7.033333333333333,
          9.2,
          10.933333333333334,
          11.233333333333333,
          12.333333333333334,
          15.333333333333334,
          17.966666666666665,
          19.666666666666668,
          20.766666666666666,
          21.266666666666666,
          23.533333333333335,
          23.966666666666665,
          29.9,
          33.5,
          37.56666666666667,
          54.63333333333333,
          60.2,
          64.96666666666667,
          67.56666666666666,
          80.76666666666667,
          98.8,
          144.76666666666668,
          165.56666666666666
         ],
         "xaxis": "x",
         "y": [
          1,
          0.9655172413793102,
          0.9655172413793102,
          0.9655172413793102,
          0.928381962864721,
          0.8912466843501324,
          0.8541114058355435,
          0.8169761273209548,
          0.8169761273209548,
          0.778072502210433,
          0.778072502210433,
          0.7371213178835682,
          0.7371213178835682,
          0.7371213178835682,
          0.6910512355158452,
          0.6449811531481221,
          0.6449811531481221,
          0.5953672182905743,
          0.5457532834330264,
          0.5457532834330264,
          0.4911779550897238,
          0.4911779550897238,
          0.4911779550897238,
          0.4911779550897238,
          0.4911779550897238,
          0.4911779550897238,
          0.4911779550897238,
          0.4911779550897238,
          0.4911779550897238,
          0.4911779550897238
         ],
         "yaxis": "y"
        },
        {
         "hovertemplate": "disease=4<br>timeline=%{x}<br>chance=%{y}<extra></extra>",
         "legendgroup": "4",
         "line": {
          "color": "#DC3912",
          "dash": "solid",
          "shape": "hv"
         },
         "marker": {
          "symbol": "circle"
         },
         "mode": "lines+markers",
         "name": "4",
         "orientation": "v",
         "showlegend": true,
         "type": "scatter",
         "x": [
          0,
          1.1666666666666667,
          1.8333333333333333,
          2.066666666666667,
          2.1333333333333333,
          2.7333333333333334,
          2.966666666666667,
          3,
          3.066666666666667,
          3.1666666666666665,
          3.3,
          3.966666666666667,
          4.066666666666666,
          4.966666666666667,
          5.6,
          6.366666666666666,
          7.733333333333333,
          7.9,
          8.266666666666667,
          8.333333333333334,
          8.366666666666667,
          8.433333333333334,
          8.633333333333333,
          8.7,
          9.066666666666666,
          9.266666666666667,
          9.766666666666667,
          9.8,
          10.1,
          10.366666666666667,
          10.7,
          11,
          12.333333333333334,
          12.4,
          12.733333333333333,
          12.8,
          12.866666666666667,
          13.1,
          13.533333333333333,
          13.6,
          13.933333333333334,
          14.266666666666667,
          14.566666666666666,
          15.533333333333333,
          15.8,
          16,
          16.133333333333333,
          16.5,
          16.9,
          17,
          17.866666666666667,
          18.733333333333334,
          19.066666666666666,
          19.6,
          20.333333333333332,
          21.1,
          21.333333333333332,
          22.833333333333332,
          25.266666666666666,
          26.1,
          26.3,
          27.433333333333334,
          28,
          28.366666666666667,
          28.8,
          29.566666666666666,
          29.966666666666665,
          32.46666666666667,
          33.46666666666667,
          34.93333333333333,
          36.93333333333333,
          39.53333333333333,
          42.333333333333336,
          45.56666666666667,
          48.666666666666664,
          51.86666666666667,
          52.733333333333334,
          54.96666666666667,
          56.93333333333333,
          58.7,
          59.733333333333334,
          61,
          62.3,
          62.8,
          70.3,
          76.43333333333334,
          79.33333333333333,
          88.53333333333333,
          94.26666666666667,
          127.23333333333333,
          168.03333333333333
         ],
         "xaxis": "x",
         "y": [
          1,
          1,
          1,
          0.9888888888888887,
          0.9888888888888887,
          0.9888888888888887,
          0.9888888888888887,
          0.9773901808785534,
          0.9658914728682171,
          0.9658914728682171,
          0.954254226207154,
          0.954254226207154,
          0.9424733098342255,
          0.9306923934612981,
          0.9071305607154427,
          0.8953496443425146,
          0.8835687279695865,
          0.8717878115966593,
          0.860006895223731,
          0.8482259788508033,
          0.8364450624778755,
          0.824664146104948,
          0.8128832297320201,
          0.8011023133590922,
          0.789321396986164,
          0.7775404806132361,
          0.7775404806132361,
          0.7655783193730324,
          0.753616158132829,
          0.7416539968926256,
          0.7296918356524219,
          0.7296918356524219,
          0.7175303050582152,
          0.7175303050582152,
          0.7175303050582152,
          0.7175303050582152,
          0.7047172638964613,
          0.6919042227347073,
          0.6790911815729535,
          0.6662781404111997,
          0.6534650992494457,
          0.6534650992494457,
          0.6403957972644567,
          0.6403957972644567,
          0.6270542181547804,
          0.6270542181547804,
          0.6270542181547804,
          0.613119679973563,
          0.613119679973563,
          0.5985215923551449,
          0.5985215923551449,
          0.5985215923551449,
          0.5985215923551449,
          0.5985215923551449,
          0.5985215923551449,
          0.5985215923551449,
          0.5985215923551449,
          0.5809180161094052,
          0.5809180161094052,
          0.5809180161094052,
          0.5809180161094052,
          0.5615540822390918,
          0.5615540822390918,
          0.5615540822390918,
          0.5615540822390918,
          0.5615540822390918,
          0.5615540822390918,
          0.5381559954791295,
          0.5147579087191675,
          0.5147579087191675,
          0.5147579087191675,
          0.5147579087191675,
          0.4876653872076323,
          0.4605728656960973,
          0.4605728656960973,
          0.4317870615900913,
          0.4317870615900913,
          0.4317870615900913,
          0.4317870615900913,
          0.4317870615900913,
          0.4317870615900913,
          0.4317870615900913,
          0.3838107214134143,
          0.3838107214134143,
          0.3838107214134143,
          0.3838107214134143,
          0.3838107214134143,
          0.3838107214134143,
          0.2558738142756095,
          0.2558738142756095,
          0.2558738142756095
         ],
         "yaxis": "y"
        },
        {
         "hovertemplate": "disease=Ba/Sq<br>timeline=%{x}<br>chance=%{y}<extra></extra>",
         "legendgroup": "Ba/Sq",
         "line": {
          "color": "grey",
          "dash": "solid",
          "shape": "hv"
         },
         "marker": {
          "symbol": "circle"
         },
         "mode": "lines+markers",
         "name": "Ba/Sq",
         "orientation": "v",
         "showlegend": true,
         "type": "scatter",
         "x": [
          0,
          1.2333333333333334,
          1.8333333333333333,
          2.1333333333333333,
          2.2666666666666666,
          2.7333333333333334,
          2.966666666666667,
          3,
          3.066666666666667,
          3.1666666666666665,
          3.2666666666666666,
          3.3,
          3.933333333333333,
          3.966666666666667,
          4.066666666666666,
          4.366666666666666,
          5.133333333333334,
          5.6,
          5.766666666666667,
          7.033333333333333,
          7.1,
          7.333333333333333,
          7.733333333333333,
          7.9,
          8.266666666666667,
          8.333333333333334,
          8.366666666666667,
          8.433333333333334,
          8.633333333333333,
          8.7,
          9.066666666666666,
          9.133333333333333,
          9.2,
          9.266666666666667,
          10.1,
          10.366666666666667,
          10.7,
          10.933333333333334,
          11,
          11.233333333333333,
          11.466666666666667,
          11.866666666666667,
          12.333333333333334,
          12.4,
          12.733333333333333,
          12.8,
          12.866666666666667,
          13.033333333333333,
          13.1,
          13.333333333333334,
          13.533333333333333,
          13.6,
          13.766666666666667,
          13.933333333333334,
          14.266666666666667,
          14.566666666666666,
          15.166666666666666,
          15.333333333333334,
          15.533333333333333,
          15.8,
          16,
          16.133333333333333,
          16.366666666666667,
          16.5,
          16.9,
          16.933333333333334,
          17,
          17.966666666666665,
          18,
          18.733333333333334,
          19.6,
          19.666666666666668,
          20.333333333333332,
          20.766666666666666,
          21,
          21.1,
          21.333333333333332,
          22.833333333333332,
          23.533333333333335,
          23.966666666666665,
          25.266666666666666,
          26.1,
          26.3,
          27.433333333333334,
          28,
          28.366666666666667,
          28.8,
          29.566666666666666,
          29.9,
          29.966666666666665,
          32.46666666666667,
          33.46666666666667,
          33.5,
          34.93333333333333,
          36.93333333333333,
          37.56666666666667,
          38.766666666666666,
          39.53333333333333,
          42.333333333333336,
          44.2,
          48.666666666666664,
          51.4,
          51.86666666666667,
          52.733333333333334,
          54.63333333333333,
          54.96666666666667,
          56.93333333333333,
          58.7,
          59.733333333333334,
          60.2,
          61,
          61.5,
          62.3,
          62.8,
          64.96666666666667,
          67.56666666666666,
          70.3,
          76.43333333333334,
          79.33333333333333,
          80.76666666666667,
          87.5,
          88.53333333333333,
          94.26666666666667,
          98.8,
          127.23333333333333,
          144.76666666666668,
          165.56666666666666,
          168.03333333333333,
          168.33333333333334
         ],
         "xaxis": "x",
         "y": [
          1,
          1,
          1,
          1,
          1,
          1,
          1,
          0.9921875000000002,
          0.9843750000000002,
          0.9843750000000002,
          0.9765,
          0.9686249999999994,
          0.9607500000000001,
          0.9607500000000001,
          0.9528099173553716,
          0.9448698347107438,
          0.9369297520661158,
          0.9210495867768592,
          0.9131095041322314,
          0.9051694214876033,
          0.8972293388429753,
          0.8892892561983465,
          0.8813491735537187,
          0.873409090909091,
          0.8654690082644624,
          0.8575289256198347,
          0.8495888429752061,
          0.8415738538905343,
          0.8335588648058626,
          0.8255438757211911,
          0.8095138975518477,
          0.8014989084671761,
          0.8014989084671761,
          0.793402959896801,
          0.7853070113264252,
          0.7772110627560496,
          0.7691151141856741,
          0.7610191656152986,
          0.7610191656152986,
          0.7610191656152986,
          0.752747218162958,
          0.744475270710618,
          0.7279313758059379,
          0.7279313758059379,
          0.7279313758059379,
          0.7279313758059379,
          0.7193674772670442,
          0.7108035787281513,
          0.7022396801892578,
          0.6936757816503645,
          0.6851118831114705,
          0.6765479845725775,
          0.6594201874947909,
          0.6508562889558973,
          0.6508562889558973,
          0.6421782051031525,
          0.6335001212504068,
          0.6335001212504068,
          0.6335001212504068,
          0.6245775843313872,
          0.6245775843313872,
          0.6245775843313872,
          0.6245775843313872,
          0.6152555308339037,
          0.6152555308339037,
          0.6057900611287668,
          0.5868591217184931,
          0.5868591217184931,
          0.5868591217184931,
          0.5868591217184931,
          0.5868591217184931,
          0.576740860999209,
          0.576740860999209,
          0.5664419170527943,
          0.5561429731063798,
          0.5561429731063798,
          0.5561429731063798,
          0.5454479159312571,
          0.5347528587561343,
          0.5240578015810117,
          0.5240578015810117,
          0.5240578015810117,
          0.5240578015810117,
          0.5126652406770765,
          0.5126652406770765,
          0.5126652406770765,
          0.5126652406770765,
          0.5126652406770765,
          0.5126652406770765,
          0.5126652406770765,
          0.499519978095613,
          0.4863747155141495,
          0.47322945293268603,
          0.47322945293268603,
          0.47322945293268603,
          0.47322945293268603,
          0.45888916648018035,
          0.45888916648018035,
          0.4440862901421101,
          0.4440862901421101,
          0.4440862901421101,
          0.4440862901421101,
          0.42763864976647636,
          0.42763864976647636,
          0.42763864976647636,
          0.42763864976647636,
          0.42763864976647636,
          0.42763864976647636,
          0.42763864976647636,
          0.42763864976647636,
          0.42763864976647636,
          0.42763864976647636,
          0.40248343507433065,
          0.40248343507433065,
          0.40248343507433065,
          0.40248343507433065,
          0.40248343507433065,
          0.40248343507433065,
          0.40248343507433065,
          0.40248343507433065,
          0.40248343507433065,
          0.40248343507433065,
          0.3449858014922834,
          0.3449858014922834,
          0.3449858014922834,
          0.3449858014922834,
          0.3449858014922834,
          0.3449858014922834,
          0.3449858014922834
         ],
         "yaxis": "y"
        },
        {
         "hovertemplate": "disease=13<br>timeline=%{x}<br>chance=%{y}<extra></extra>",
         "legendgroup": "13",
         "line": {
          "color": "#990099",
          "dash": "solid",
          "shape": "hv"
         },
         "marker": {
          "symbol": "circle"
         },
         "mode": "lines+markers",
         "name": "13",
         "orientation": "v",
         "showlegend": true,
         "type": "scatter",
         "x": [
          0,
          0.43333333333333335,
          0.5666666666666667,
          0.6333333333333333,
          0.6666666666666666,
          0.9333333333333333,
          1.5333333333333334,
          1.8666666666666667,
          1.9,
          2.1333333333333333,
          2.1666666666666665,
          2.2333333333333334,
          2.2666666666666666,
          2.8,
          3.1,
          3.5,
          3.6666666666666665,
          3.9,
          4.3,
          4.733333333333333,
          4.8,
          4.866666666666666,
          5.433333333333334,
          6.066666666666666,
          6.233333333333333,
          6.3,
          6.666666666666667,
          6.866666666666666,
          7.2,
          7.466666666666667,
          7.666666666666667,
          7.733333333333333,
          8.2,
          8.366666666666667,
          8.466666666666667,
          8.733333333333333,
          11.1,
          11.333333333333334,
          11.5,
          11.966666666666667,
          12.033333333333333,
          12.133333333333333,
          12.166666666666666,
          12.2,
          12.266666666666667,
          12.3,
          12.333333333333334,
          12.4,
          12.433333333333334,
          12.633333333333333,
          12.8,
          12.833333333333334,
          12.933333333333334,
          12.966666666666667,
          13.133333333333333,
          13.266666666666667,
          13.3,
          13.766666666666667,
          13.833333333333334,
          13.866666666666667,
          14.1,
          14.166666666666666,
          14.266666666666667,
          14.433333333333334,
          14.466666666666667,
          15.1,
          15.133333333333333,
          15.233333333333333,
          15.333333333333334,
          15.533333333333333,
          15.566666666666666,
          15.633333333333333,
          15.8,
          15.833333333333334,
          15.9,
          16.033333333333335,
          16.166666666666668,
          16.2,
          16.4,
          16.5,
          16.766666666666666,
          16.933333333333334,
          17,
          17.066666666666666,
          17.466666666666665,
          17.666666666666668,
          17.866666666666667,
          17.966666666666665,
          18.066666666666666,
          18.133333333333333,
          18.2,
          18.233333333333334,
          18.333333333333332,
          18.666666666666668,
          18.833333333333332,
          19.1,
          19.233333333333334,
          19.266666666666666,
          19.333333333333332,
          19.4,
          19.666666666666668,
          19.766666666666666,
          19.966666666666665,
          20.4,
          20.566666666666666,
          20.6,
          21.2,
          21.366666666666667,
          21.4,
          21.6,
          21.633333333333333,
          21.7,
          22.166666666666668,
          22.466666666666665,
          22.666666666666668,
          23,
          23.033333333333335,
          23.2,
          23.333333333333332,
          24.466666666666665,
          24.633333333333333,
          25,
          25.366666666666667,
          25.766666666666666,
          25.933333333333334,
          26.5,
          26.6,
          26.633333333333333,
          27.066666666666666,
          27.1,
          27.333333333333332,
          27.733333333333334,
          27.833333333333332,
          28.066666666666666,
          28.633333333333333,
          28.8,
          29.1,
          29.766666666666666,
          30.066666666666666,
          30.2,
          30.7,
          31.366666666666667,
          31.633333333333333,
          33.233333333333334,
          33.6,
          34.53333333333333,
          35.46666666666667,
          36.46666666666667,
          37.166666666666664,
          38.766666666666666,
          39.36666666666667,
          44.93333333333333,
          45,
          45.666666666666664,
          47.43333333333333,
          47.63333333333333,
          48.46666666666667,
          48.5,
          50.733333333333334,
          50.96666666666667,
          51.266666666666666,
          51.4,
          52.03333333333333,
          53.46666666666667,
          55.666666666666664,
          57.13333333333333,
          60.13333333333333,
          61.5,
          63.733333333333334,
          65.06666666666666,
          65.7,
          66.93333333333334,
          66.96666666666667,
          67.33333333333333,
          67.46666666666667,
          68.13333333333334,
          71.3,
          72.56666666666666,
          77.06666666666666,
          77.66666666666667,
          88.03333333333333,
          90.1,
          93,
          95.6,
          96.2,
          98.46666666666667,
          100.36666666666666,
          106.1,
          110.46666666666667,
          114,
          168.33333333333334
         ],
         "xaxis": "x",
         "y": [
          1,
          1,
          1,
          0.9949748743718594,
          0.9949748743718594,
          0.9949748743718594,
          0.9949748743718594,
          0.9847700038654814,
          0.9796675686122923,
          0.9796675686122923,
          0.9745384190384059,
          0.9745384190384059,
          0.9693821311069856,
          0.9693821311069856,
          0.9641982694433121,
          0.9641982694433121,
          0.9641982694433121,
          0.9641982694433121,
          0.9641982694433121,
          0.9589004767540636,
          0.9536026840648144,
          0.9483048913755653,
          0.9430070986863163,
          0.9376793749649246,
          0.9376793749649246,
          0.9376793749649246,
          0.9322904130398391,
          0.9269014511147528,
          0.9215124891896677,
          0.9215124891896677,
          0.9215124891896677,
          0.9160597525672434,
          0.9106070159448197,
          0.9106070159448197,
          0.9051214315114166,
          0.8996358470780146,
          0.8996358470780146,
          0.8941166087523823,
          0.8941166087523823,
          0.8941166087523823,
          0.8941166087523823,
          0.8884576428742023,
          0.8884576428742023,
          0.8884576428742023,
          0.8884576428742023,
          0.8884576428742023,
          0.8884576428742023,
          0.8884576428742023,
          0.8884576428742023,
          0.8884576428742023,
          0.8884576428742023,
          0.882372316553146,
          0.87628699023209,
          0.87628699023209,
          0.87628699023209,
          0.87628699023209,
          0.87628699023209,
          0.8699827672807806,
          0.8699827672807806,
          0.8699827672807806,
          0.8699827672807806,
          0.8699827672807806,
          0.8699827672807806,
          0.8699827672807806,
          0.8633416774542099,
          0.856700587627639,
          0.8500594978010682,
          0.8500594978010682,
          0.8433661159286188,
          0.8433661159286188,
          0.8366191870011898,
          0.8366191870011898,
          0.8366191870011898,
          0.8366191870011898,
          0.8366191870011898,
          0.8366191870011898,
          0.8366191870011898,
          0.8294685956592989,
          0.8223180043174086,
          0.8223180043174086,
          0.8223180043174086,
          0.8223180043174086,
          0.8149758792788605,
          0.8149758792788605,
          0.8149758792788605,
          0.807499036349697,
          0.807499036349697,
          0.7999523163838121,
          0.7999523163838121,
          0.7847151294050732,
          0.7847151294050732,
          0.7770218438226709,
          0.7693285582402685,
          0.7693285582402685,
          0.7615575627024883,
          0.7615575627024883,
          0.7537064538086482,
          0.7537064538086482,
          0.7537064538086482,
          0.7537064538086482,
          0.7537064538086482,
          0.7454239653052566,
          0.7371414768018647,
          0.7288589882984734,
          0.7205764997950814,
          0.7205764997950814,
          0.7205764997950814,
          0.7205764997950814,
          0.7205764997950814,
          0.7205764997950814,
          0.7205764997950814,
          0.7116804936247711,
          0.7116804936247711,
          0.7026718797814197,
          0.6936632659380684,
          0.6846546520947165,
          0.6846546520947165,
          0.6755259234001209,
          0.6755259234001209,
          0.6662721436275166,
          0.6570183638549122,
          0.6570183638549122,
          0.6570183638549122,
          0.6570183638549122,
          0.6473563290923396,
          0.6376942943297673,
          0.6376942943297673,
          0.6376942943297673,
          0.6376942943297673,
          0.6376942943297673,
          0.6376942943297673,
          0.6376942943297673,
          0.626885916459771,
          0.626885916459771,
          0.6158879179253892,
          0.6048899193910071,
          0.6048899193910071,
          0.6048899193910071,
          0.6048899193910071,
          0.6048899193910071,
          0.6048899193910071,
          0.592792121003187,
          0.580694322615367,
          0.580694322615367,
          0.5683391242618487,
          0.5559839259083302,
          0.5436287275548117,
          0.5436287275548117,
          0.5436287275548117,
          0.5306851864225544,
          0.5306851864225544,
          0.5174180567619904,
          0.5174180567619904,
          0.5174180567619904,
          0.5034337849576123,
          0.5034337849576123,
          0.5034337849576123,
          0.5034337849576123,
          0.5034337849576123,
          0.5034337849576123,
          0.5034337849576123,
          0.5034337849576123,
          0.5034337849576123,
          0.5034337849576123,
          0.4847880892184415,
          0.4847880892184415,
          0.465396565649704,
          0.465396565649704,
          0.465396565649704,
          0.465396565649704,
          0.44323482442828943,
          0.44323482442828943,
          0.44323482442828943,
          0.44323482442828943,
          0.44323482442828943,
          0.44323482442828943,
          0.44323482442828943,
          0.44323482442828943,
          0.44323482442828943,
          0.44323482442828943,
          0.40294074948026315,
          0.40294074948026315,
          0.40294074948026315,
          0.40294074948026315,
          0.40294074948026315,
          0.3357839579002193,
          0.3357839579002193,
          0.2518379684251645,
          0.2518379684251645,
          0.2518379684251645,
          0.2518379684251645
         ],
         "yaxis": "y"
        },
        {
         "hovertemplate": "disease=LumInf<br>timeline=%{x}<br>chance=%{y}<extra></extra>",
         "legendgroup": "LumInf",
         "line": {
          "color": "grey",
          "dash": "solid",
          "shape": "hv"
         },
         "marker": {
          "symbol": "circle"
         },
         "mode": "lines+markers",
         "name": "LumInf",
         "orientation": "v",
         "showlegend": true,
         "type": "scatter",
         "x": [
          0,
          1.1666666666666667,
          1.8666666666666667,
          2.1333333333333333,
          2.1666666666666665,
          2.3,
          2.533333333333333,
          2.8,
          3.1,
          3.5,
          4.3,
          4.966666666666667,
          5.133333333333334,
          6.066666666666666,
          6.233333333333333,
          6.366666666666666,
          9.766666666666667,
          10.8,
          11.966666666666667,
          12.066666666666666,
          12.4,
          13.133333333333333,
          14.1,
          14.433333333333334,
          15.1,
          15.133333333333333,
          15.166666666666666,
          15.333333333333334,
          15.566666666666666,
          15.9,
          16.033333333333335,
          16.2,
          16.4,
          16.5,
          17.666666666666668,
          17.866666666666667,
          17.966666666666665,
          18.2,
          18.233333333333334,
          18.333333333333332,
          19.066666666666666,
          19.766666666666666,
          20.066666666666666,
          21.2,
          21.6,
          22.166666666666668,
          23.2,
          23.733333333333334,
          24.466666666666665,
          25.366666666666667,
          26.633333333333333,
          27.1,
          27.733333333333334,
          27.833333333333332,
          28.066666666666666,
          28.633333333333333,
          28.8,
          33.43333333333333,
          33.6,
          35.9,
          45.56666666666667,
          47.333333333333336,
          47.43333333333333,
          48.46666666666667,
          52.03333333333333,
          55.666666666666664,
          57.13333333333333,
          57.266666666666666,
          60.13333333333333,
          63.733333333333334,
          67.33333333333333,
          93,
          98.46666666666667,
          114.4,
          132.7
         ],
         "xaxis": "x",
         "y": [
          1,
          1,
          0.9866666666666674,
          0.9866666666666674,
          0.9731506849315078,
          0.9596347031963479,
          0.9461187214611885,
          0.9461187214611885,
          0.9324068559327654,
          0.9324068559327654,
          0.9324068559327654,
          0.9182794793277236,
          0.9041521027226815,
          0.8900247261176399,
          0.8900247261176399,
          0.8756694885996135,
          0.8756694885996135,
          0.8610749971229537,
          0.8610749971229537,
          0.846228876482903,
          0.846228876482903,
          0.846228876482903,
          0.846228876482903,
          0.846228876482903,
          0.830262293907754,
          0.8142957113326047,
          0.8142957113326047,
          0.7980097971059525,
          0.7980097971059525,
          0.7980097971059525,
          0.7980097971059525,
          0.7806617580384316,
          0.7633137189709109,
          0.7633137189709109,
          0.7455622371343783,
          0.7278107552978454,
          0.7096154864153993,
          0.7096154864153993,
          0.6909413946676256,
          0.6722673029198519,
          0.6722673029198519,
          0.6530596656935707,
          0.633852028467289,
          0.633852028467289,
          0.633852028467289,
          0.613405188839312,
          0.5929583492113351,
          0.5725115095833578,
          0.5520646699553808,
          0.5520646699553808,
          0.5520646699553808,
          0.5520646699553808,
          0.5520646699553808,
          0.5280618582181905,
          0.5280618582181905,
          0.5029160554458957,
          0.4777702526736008,
          0.4777702526736008,
          0.4512274608584009,
          0.4246846690432008,
          0.39814187722800076,
          0.3715990854128006,
          0.34505629359760065,
          0.34505629359760065,
          0.34505629359760065,
          0.31368753963418244,
          0.31368753963418244,
          0.2788333685637176,
          0.24397919749325295,
          0.24397919749325295,
          0.2033159979110441,
          0.2033159979110441,
          0.13554399860736271,
          0.13554399860736271,
          0.13554399860736271
         ],
         "yaxis": "y"
        },
        {
         "hovertemplate": "disease=LumNS<br>timeline=%{x}<br>chance=%{y}<extra></extra>",
         "legendgroup": "LumNS",
         "line": {
          "color": "grey",
          "dash": "solid",
          "shape": "hv"
         },
         "marker": {
          "symbol": "circle"
         },
         "mode": "lines+markers",
         "name": "LumNS",
         "orientation": "v",
         "showlegend": true,
         "type": "scatter",
         "x": [
          0,
          1.9,
          4.733333333333333,
          4.8,
          4.866666666666666,
          6.3,
          6.866666666666666,
          7.666666666666667,
          8.2,
          8.466666666666667,
          12.933333333333334,
          13.766666666666667,
          14.466666666666667,
          15.633333333333333,
          18.066666666666666,
          18.666666666666668,
          22.666666666666668,
          23,
          23.333333333333332,
          24.633333333333333,
          27.066666666666666,
          88.03333333333333,
          95.6,
          100.36666666666666,
          114
         ],
         "xaxis": "x",
         "y": [
          1,
          0.9583333333333331,
          0.9166666666666667,
          0.8749999999999999,
          0.8333333333333331,
          0.8333333333333331,
          0.7894736842105261,
          0.7894736842105261,
          0.7430340557275539,
          0.6965944272445818,
          0.6501547987616095,
          0.6037151702786375,
          0.5572755417956655,
          0.5572755417956655,
          0.5572755417956655,
          0.5572755417956655,
          0.49535603715170246,
          0.4334365325077397,
          0.4334365325077397,
          0.3611971104231164,
          0.3611971104231164,
          0.2708978328173373,
          0.2708978328173373,
          0.2708978328173373,
          0.2708978328173373
         ],
         "yaxis": "y"
        },
        {
         "hovertemplate": "disease=5<br>timeline=%{x}<br>chance=%{y}<extra></extra>",
         "legendgroup": "5",
         "line": {
          "color": "#FF9900",
          "dash": "solid",
          "shape": "hv"
         },
         "marker": {
          "symbol": "circle"
         },
         "mode": "lines+markers",
         "name": "5",
         "orientation": "v",
         "showlegend": true,
         "type": "scatter",
         "x": [
          0,
          3.533333333333333,
          5.133333333333334,
          7.1,
          7.333333333333333,
          9.066666666666666,
          9.133333333333333,
          11.466666666666667,
          11.866666666666667,
          13.333333333333334,
          13.766666666666667,
          15.166666666666666,
          15.566666666666666,
          16.366666666666667,
          16.933333333333334,
          18,
          18.233333333333334,
          21,
          44.2,
          87.5
         ],
         "xaxis": "x",
         "y": [
          1,
          0.95,
          0.9,
          0.8500000000000002,
          0.8,
          0.7500000000000001,
          0.7,
          0.6500000000000001,
          0.6000000000000001,
          0.5500000000000002,
          0.4500000000000001,
          0.39999999999999997,
          0.35000000000000003,
          0.35000000000000003,
          0.2916666666666667,
          0.2916666666666667,
          0.21875000000000003,
          0.14583333333333331,
          0.14583333333333331,
          0.14583333333333331
         ],
         "yaxis": "y"
        },
        {
         "hovertemplate": "disease=LumP<br>timeline=%{x}<br>chance=%{y}<extra></extra>",
         "legendgroup": "LumP",
         "line": {
          "color": "grey",
          "dash": "solid",
          "shape": "hv"
         },
         "marker": {
          "symbol": "circle"
         },
         "mode": "lines+markers",
         "name": "LumP",
         "orientation": "v",
         "showlegend": true,
         "type": "scatter",
         "x": [
          0,
          0.43333333333333335,
          0.5,
          0.5666666666666667,
          0.6333333333333333,
          0.6666666666666666,
          0.9333333333333333,
          1.5333333333333334,
          1.8666666666666667,
          2.2333333333333334,
          2.2666666666666666,
          3.533333333333333,
          3.6666666666666665,
          3.9,
          5.266666666666667,
          5.433333333333334,
          6.666666666666667,
          7.2,
          7.466666666666667,
          7.733333333333333,
          8.6,
          8.733333333333333,
          9.8,
          11.066666666666666,
          11.1,
          11.333333333333334,
          11.5,
          12.033333333333333,
          12.133333333333333,
          12.166666666666666,
          12.2,
          12.266666666666667,
          12.3,
          12.333333333333334,
          12.433333333333334,
          12.533333333333333,
          12.633333333333333,
          12.8,
          12.833333333333334,
          12.966666666666667,
          13.266666666666667,
          13.3,
          13.666666666666666,
          13.833333333333334,
          13.866666666666667,
          14.166666666666666,
          14.266666666666667,
          15.233333333333333,
          15.533333333333333,
          15.566666666666666,
          15.8,
          15.833333333333334,
          16.166666666666668,
          16.5,
          16.766666666666666,
          16.933333333333334,
          17.066666666666666,
          17.466666666666665,
          17.866666666666667,
          18.133333333333333,
          18.233333333333334,
          18.833333333333332,
          19.1,
          19.233333333333334,
          19.266666666666666,
          19.333333333333332,
          19.366666666666667,
          19.4,
          19.666666666666668,
          19.966666666666665,
          20.4,
          20.566666666666666,
          20.6,
          21.366666666666667,
          21.4,
          21.633333333333333,
          21.7,
          22.166666666666668,
          22.466666666666665,
          23.033333333333335,
          24.366666666666667,
          25,
          25.766666666666666,
          25.933333333333334,
          26.5,
          26.6,
          27.333333333333332,
          27.733333333333334,
          29.1,
          29.766666666666666,
          30.066666666666666,
          30.2,
          30.7,
          31.366666666666667,
          31.633333333333333,
          33.233333333333334,
          35.46666666666667,
          36.46666666666667,
          37.166666666666664,
          39.36666666666667,
          44.93333333333333,
          45,
          45.666666666666664,
          47.63333333333333,
          48.5,
          50.733333333333334,
          50.96666666666667,
          51.266666666666666,
          53.46666666666667,
          54.03333333333333,
          65.06666666666666,
          65.7,
          66.93333333333334,
          66.96666666666667,
          67.46666666666667,
          68.13333333333334,
          68.3,
          71.3,
          72.56666666666666,
          77.06666666666666,
          77.66666666666667,
          90.1,
          96.2,
          106.1,
          110.46666666666667
         ],
         "xaxis": "x",
         "y": [
          1,
          1,
          1,
          1,
          0.9923664122137406,
          0.9923664122137406,
          0.9923664122137406,
          0.9923664122137406,
          0.9845525034561522,
          0.9845525034561522,
          0.9766760834285028,
          0.9687996634008529,
          0.9687996634008529,
          0.9687996634008529,
          0.9687996634008529,
          0.9607263328725129,
          0.9525845842888474,
          0.9444428357051817,
          0.9444428357051817,
          0.9362302893077454,
          0.928017742910309,
          0.9198051965128722,
          0.903380103718,
          0.8951675573205632,
          0.8951675573205632,
          0.8868789688268537,
          0.8868789688268537,
          0.8868789688268537,
          0.8783512864342881,
          0.8783512864342881,
          0.8783512864342881,
          0.8783512864342881,
          0.8783512864342881,
          0.8783512864342881,
          0.8783512864342881,
          0.8783512864342881,
          0.8783512864342881,
          0.8783512864342881,
          0.8688039898426106,
          0.8688039898426106,
          0.8688039898426106,
          0.8688039898426106,
          0.8688039898426106,
          0.8688039898426106,
          0.8688039898426106,
          0.8688039898426106,
          0.8688039898426106,
          0.8688039898426106,
          0.8688039898426106,
          0.8468089521250763,
          0.8468089521250763,
          0.8468089521250763,
          0.8468089521250763,
          0.8468089521250763,
          0.8468089521250763,
          0.8468089521250763,
          0.8468089521250763,
          0.8468089521250763,
          0.8468089521250763,
          0.8219028064743383,
          0.8094497336489697,
          0.7969966608236008,
          0.7969966608236008,
          0.7843459201756073,
          0.7843459201756073,
          0.7843459201756073,
          0.7843459201756073,
          0.7843459201756073,
          0.7843459201756073,
          0.7703397430296142,
          0.7563335658836211,
          0.7423273887376282,
          0.7423273887376282,
          0.7423273887376282,
          0.7423273887376282,
          0.7423273887376282,
          0.7271778501919626,
          0.7271778501919626,
          0.7117059810389422,
          0.7117059810389422,
          0.7117059810389422,
          0.7117059810389422,
          0.7117059810389422,
          0.694760600538015,
          0.6778152200370877,
          0.6778152200370877,
          0.6778152200370877,
          0.6778152200370877,
          0.6778152200370877,
          0.6778152200370877,
          0.6778152200370877,
          0.6778152200370877,
          0.6778152200370877,
          0.6566334944109288,
          0.6354517687847698,
          0.6354517687847698,
          0.6135396388266742,
          0.6135396388266742,
          0.6135396388266742,
          0.6135396388266742,
          0.5889980532736073,
          0.5889980532736073,
          0.5889980532736073,
          0.5889980532736073,
          0.5889980532736073,
          0.5889980532736073,
          0.5889980532736073,
          0.5889980532736073,
          0.5889980532736073,
          0.5889980532736073,
          0.5889980532736073,
          0.5469267637540641,
          0.5469267637540641,
          0.5469267637540641,
          0.5469267637540641,
          0.5469267637540641,
          0.5469267637540641,
          0.5469267637540641,
          0.5469267637540641,
          0.5469267637540641,
          0.5469267637540641,
          0.5469267637540641,
          0.5469267637540641,
          0.273463381877032,
          0.273463381877032
         ],
         "yaxis": "y"
        },
        {
         "hovertemplate": "disease=NE-like<br>timeline=%{x}<br>chance=%{y}<extra></extra>",
         "legendgroup": "NE-like",
         "line": {
          "color": "grey",
          "dash": "solid",
          "shape": "hv"
         },
         "marker": {
          "symbol": "circle"
         },
         "mode": "lines+markers",
         "name": "NE-like",
         "orientation": "v",
         "showlegend": true,
         "type": "scatter",
         "x": [
          0,
          0.6666666666666666,
          2.066666666666667,
          17.4,
          20.1,
          21.266666666666666,
          31.5,
          34.53333333333333,
          112.13333333333334
         ],
         "xaxis": "x",
         "y": [
          1,
          0.8750000000000001,
          0.7500000000000001,
          0.625,
          0.625,
          0.625,
          0.625,
          0.31250000000000006,
          0.31250000000000006
         ],
         "yaxis": "y"
        }
       ],
       "layout": {
        "height": 900,
        "legend": {
         "title": {
          "text": "disease"
         },
         "tracegroupgap": 0
        },
        "margin": {
         "t": 60
        },
        "template": {
         "data": {
          "bar": [
           {
            "error_x": {
             "color": "rgb(51,51,51)"
            },
            "error_y": {
             "color": "rgb(51,51,51)"
            },
            "marker": {
             "line": {
              "color": "rgb(237,237,237)",
              "width": 0.5
             },
             "pattern": {
              "fillmode": "overlay",
              "size": 10,
              "solidity": 0.2
             }
            },
            "type": "bar"
           }
          ],
          "barpolar": [
           {
            "marker": {
             "line": {
              "color": "rgb(237,237,237)",
              "width": 0.5
             },
             "pattern": {
              "fillmode": "overlay",
              "size": 10,
              "solidity": 0.2
             }
            },
            "type": "barpolar"
           }
          ],
          "carpet": [
           {
            "aaxis": {
             "endlinecolor": "rgb(51,51,51)",
             "gridcolor": "white",
             "linecolor": "white",
             "minorgridcolor": "white",
             "startlinecolor": "rgb(51,51,51)"
            },
            "baxis": {
             "endlinecolor": "rgb(51,51,51)",
             "gridcolor": "white",
             "linecolor": "white",
             "minorgridcolor": "white",
             "startlinecolor": "rgb(51,51,51)"
            },
            "type": "carpet"
           }
          ],
          "choropleth": [
           {
            "colorbar": {
             "outlinewidth": 0,
             "tickcolor": "rgb(237,237,237)",
             "ticklen": 6,
             "ticks": "inside"
            },
            "type": "choropleth"
           }
          ],
          "contour": [
           {
            "colorbar": {
             "outlinewidth": 0,
             "tickcolor": "rgb(237,237,237)",
             "ticklen": 6,
             "ticks": "inside"
            },
            "colorscale": [
             [
              0,
              "rgb(20,44,66)"
             ],
             [
              1,
              "rgb(90,179,244)"
             ]
            ],
            "type": "contour"
           }
          ],
          "contourcarpet": [
           {
            "colorbar": {
             "outlinewidth": 0,
             "tickcolor": "rgb(237,237,237)",
             "ticklen": 6,
             "ticks": "inside"
            },
            "type": "contourcarpet"
           }
          ],
          "heatmap": [
           {
            "colorbar": {
             "outlinewidth": 0,
             "tickcolor": "rgb(237,237,237)",
             "ticklen": 6,
             "ticks": "inside"
            },
            "colorscale": [
             [
              0,
              "rgb(20,44,66)"
             ],
             [
              1,
              "rgb(90,179,244)"
             ]
            ],
            "type": "heatmap"
           }
          ],
          "heatmapgl": [
           {
            "colorbar": {
             "outlinewidth": 0,
             "tickcolor": "rgb(237,237,237)",
             "ticklen": 6,
             "ticks": "inside"
            },
            "colorscale": [
             [
              0,
              "rgb(20,44,66)"
             ],
             [
              1,
              "rgb(90,179,244)"
             ]
            ],
            "type": "heatmapgl"
           }
          ],
          "histogram": [
           {
            "marker": {
             "pattern": {
              "fillmode": "overlay",
              "size": 10,
              "solidity": 0.2
             }
            },
            "type": "histogram"
           }
          ],
          "histogram2d": [
           {
            "colorbar": {
             "outlinewidth": 0,
             "tickcolor": "rgb(237,237,237)",
             "ticklen": 6,
             "ticks": "inside"
            },
            "colorscale": [
             [
              0,
              "rgb(20,44,66)"
             ],
             [
              1,
              "rgb(90,179,244)"
             ]
            ],
            "type": "histogram2d"
           }
          ],
          "histogram2dcontour": [
           {
            "colorbar": {
             "outlinewidth": 0,
             "tickcolor": "rgb(237,237,237)",
             "ticklen": 6,
             "ticks": "inside"
            },
            "colorscale": [
             [
              0,
              "rgb(20,44,66)"
             ],
             [
              1,
              "rgb(90,179,244)"
             ]
            ],
            "type": "histogram2dcontour"
           }
          ],
          "mesh3d": [
           {
            "colorbar": {
             "outlinewidth": 0,
             "tickcolor": "rgb(237,237,237)",
             "ticklen": 6,
             "ticks": "inside"
            },
            "type": "mesh3d"
           }
          ],
          "parcoords": [
           {
            "line": {
             "colorbar": {
              "outlinewidth": 0,
              "tickcolor": "rgb(237,237,237)",
              "ticklen": 6,
              "ticks": "inside"
             }
            },
            "type": "parcoords"
           }
          ],
          "pie": [
           {
            "automargin": true,
            "type": "pie"
           }
          ],
          "scatter": [
           {
            "fillpattern": {
             "fillmode": "overlay",
             "size": 10,
             "solidity": 0.2
            },
            "type": "scatter"
           }
          ],
          "scatter3d": [
           {
            "line": {
             "colorbar": {
              "outlinewidth": 0,
              "tickcolor": "rgb(237,237,237)",
              "ticklen": 6,
              "ticks": "inside"
             }
            },
            "marker": {
             "colorbar": {
              "outlinewidth": 0,
              "tickcolor": "rgb(237,237,237)",
              "ticklen": 6,
              "ticks": "inside"
             }
            },
            "type": "scatter3d"
           }
          ],
          "scattercarpet": [
           {
            "marker": {
             "colorbar": {
              "outlinewidth": 0,
              "tickcolor": "rgb(237,237,237)",
              "ticklen": 6,
              "ticks": "inside"
             }
            },
            "type": "scattercarpet"
           }
          ],
          "scattergeo": [
           {
            "marker": {
             "colorbar": {
              "outlinewidth": 0,
              "tickcolor": "rgb(237,237,237)",
              "ticklen": 6,
              "ticks": "inside"
             }
            },
            "type": "scattergeo"
           }
          ],
          "scattergl": [
           {
            "marker": {
             "colorbar": {
              "outlinewidth": 0,
              "tickcolor": "rgb(237,237,237)",
              "ticklen": 6,
              "ticks": "inside"
             }
            },
            "type": "scattergl"
           }
          ],
          "scattermapbox": [
           {
            "marker": {
             "colorbar": {
              "outlinewidth": 0,
              "tickcolor": "rgb(237,237,237)",
              "ticklen": 6,
              "ticks": "inside"
             }
            },
            "type": "scattermapbox"
           }
          ],
          "scatterpolar": [
           {
            "marker": {
             "colorbar": {
              "outlinewidth": 0,
              "tickcolor": "rgb(237,237,237)",
              "ticklen": 6,
              "ticks": "inside"
             }
            },
            "type": "scatterpolar"
           }
          ],
          "scatterpolargl": [
           {
            "marker": {
             "colorbar": {
              "outlinewidth": 0,
              "tickcolor": "rgb(237,237,237)",
              "ticklen": 6,
              "ticks": "inside"
             }
            },
            "type": "scatterpolargl"
           }
          ],
          "scatterternary": [
           {
            "marker": {
             "colorbar": {
              "outlinewidth": 0,
              "tickcolor": "rgb(237,237,237)",
              "ticklen": 6,
              "ticks": "inside"
             }
            },
            "type": "scatterternary"
           }
          ],
          "surface": [
           {
            "colorbar": {
             "outlinewidth": 0,
             "tickcolor": "rgb(237,237,237)",
             "ticklen": 6,
             "ticks": "inside"
            },
            "colorscale": [
             [
              0,
              "rgb(20,44,66)"
             ],
             [
              1,
              "rgb(90,179,244)"
             ]
            ],
            "type": "surface"
           }
          ],
          "table": [
           {
            "cells": {
             "fill": {
              "color": "rgb(237,237,237)"
             },
             "line": {
              "color": "white"
             }
            },
            "header": {
             "fill": {
              "color": "rgb(217,217,217)"
             },
             "line": {
              "color": "white"
             }
            },
            "type": "table"
           }
          ]
         },
         "layout": {
          "annotationdefaults": {
           "arrowhead": 0,
           "arrowwidth": 1
          },
          "autotypenumbers": "strict",
          "coloraxis": {
           "colorbar": {
            "outlinewidth": 0,
            "tickcolor": "rgb(237,237,237)",
            "ticklen": 6,
            "ticks": "inside"
           }
          },
          "colorscale": {
           "sequential": [
            [
             0,
             "rgb(20,44,66)"
            ],
            [
             1,
             "rgb(90,179,244)"
            ]
           ],
           "sequentialminus": [
            [
             0,
             "rgb(20,44,66)"
            ],
            [
             1,
             "rgb(90,179,244)"
            ]
           ]
          },
          "colorway": [
           "#F8766D",
           "#A3A500",
           "#00BF7D",
           "#00B0F6",
           "#E76BF3"
          ],
          "font": {
           "color": "rgb(51,51,51)"
          },
          "geo": {
           "bgcolor": "white",
           "lakecolor": "white",
           "landcolor": "rgb(237,237,237)",
           "showlakes": true,
           "showland": true,
           "subunitcolor": "white"
          },
          "hoverlabel": {
           "align": "left"
          },
          "hovermode": "closest",
          "paper_bgcolor": "white",
          "plot_bgcolor": "rgb(237,237,237)",
          "polar": {
           "angularaxis": {
            "gridcolor": "white",
            "linecolor": "white",
            "showgrid": true,
            "tickcolor": "rgb(51,51,51)",
            "ticks": "outside"
           },
           "bgcolor": "rgb(237,237,237)",
           "radialaxis": {
            "gridcolor": "white",
            "linecolor": "white",
            "showgrid": true,
            "tickcolor": "rgb(51,51,51)",
            "ticks": "outside"
           }
          },
          "scene": {
           "xaxis": {
            "backgroundcolor": "rgb(237,237,237)",
            "gridcolor": "white",
            "gridwidth": 2,
            "linecolor": "white",
            "showbackground": true,
            "showgrid": true,
            "tickcolor": "rgb(51,51,51)",
            "ticks": "outside",
            "zerolinecolor": "white"
           },
           "yaxis": {
            "backgroundcolor": "rgb(237,237,237)",
            "gridcolor": "white",
            "gridwidth": 2,
            "linecolor": "white",
            "showbackground": true,
            "showgrid": true,
            "tickcolor": "rgb(51,51,51)",
            "ticks": "outside",
            "zerolinecolor": "white"
           },
           "zaxis": {
            "backgroundcolor": "rgb(237,237,237)",
            "gridcolor": "white",
            "gridwidth": 2,
            "linecolor": "white",
            "showbackground": true,
            "showgrid": true,
            "tickcolor": "rgb(51,51,51)",
            "ticks": "outside",
            "zerolinecolor": "white"
           }
          },
          "shapedefaults": {
           "fillcolor": "black",
           "line": {
            "width": 0
           },
           "opacity": 0.3
          },
          "ternary": {
           "aaxis": {
            "gridcolor": "white",
            "linecolor": "white",
            "showgrid": true,
            "tickcolor": "rgb(51,51,51)",
            "ticks": "outside"
           },
           "baxis": {
            "gridcolor": "white",
            "linecolor": "white",
            "showgrid": true,
            "tickcolor": "rgb(51,51,51)",
            "ticks": "outside"
           },
           "bgcolor": "rgb(237,237,237)",
           "caxis": {
            "gridcolor": "white",
            "linecolor": "white",
            "showgrid": true,
            "tickcolor": "rgb(51,51,51)",
            "ticks": "outside"
           }
          },
          "xaxis": {
           "automargin": true,
           "gridcolor": "white",
           "linecolor": "white",
           "showgrid": true,
           "tickcolor": "rgb(51,51,51)",
           "ticks": "outside",
           "title": {
            "standoff": 15
           },
           "zerolinecolor": "white"
          },
          "yaxis": {
           "automargin": true,
           "gridcolor": "white",
           "linecolor": "white",
           "showgrid": true,
           "tickcolor": "rgb(51,51,51)",
           "ticks": "outside",
           "title": {
            "standoff": 15
           },
           "zerolinecolor": "white"
          }
         }
        },
        "title": {
         "text": "Survival analysis VU + in-situ"
        },
        "xaxis": {
         "anchor": "y",
         "domain": [
          0,
          1
         ],
         "range": [
          -1,
          60
         ],
         "title": {
          "text": "Time (months)"
         }
        },
        "yaxis": {
         "anchor": "x",
         "domain": [
          0,
          1
         ],
         "title": {
          "text": "Survival (%)"
         }
        }
       }
      }
     },
     "metadata": {},
     "output_type": "display_data"
    }
   ],
   "source": [
    "cluster_model = \"dendrogram_cut\"\n",
    "comp_model = 'TCGA408_classifier'\n",
    "\n",
    "colors_ref = px.colors.qualitative.Pastel2\n",
    "color_map = {\n",
    "    \"LumP\": colors_ref[0],\n",
    "    \"Lum Inf/Ns\": colors_ref[1],\n",
    "    \"High IFNG\": colors_ref[2],\n",
    "    \"Low IFNG\": colors_ref[3],\n",
    "    \"Med IFNG\": colors_ref[4],\n",
    "    \"Ne\": colors_ref[5],\n",
    "}\n",
    "\n",
    "color_map_grey = {label: \"grey\" for label in morp_df[comp_model].unique()}\n",
    "color_map = dict(color_map, **color_map_grey)\n",
    "\n",
    "# choose the subtypes for each to compare if needed\n",
    "select_labels_1, select_labels_2 = None, None\n",
    "\n",
    "colors_net = px.colors.qualitative.G10\n",
    "morp_df[cluster_model] = morp_df[cluster_model].astype(str)\n",
    "for idx, val in enumerate(morp_df[cluster_model].unique()):\n",
    "    color_map[val] = colors_net[idx]\n",
    "\n",
    "fig = survival_comp(\n",
    "    morp_df.drop(columns=[\"days_to_last_follow_up\", \"days_to_death\"]),\n",
    "    vu_output,\n",
    "    classifier_1=cluster_model,\n",
    "    classifier_2=comp_model,\n",
    "    selected_labels_1=select_labels_1,\n",
    "    selected_labels_2=select_labels_2,\n",
    "    color_map=color_map,\n",
    ")\n",
    "fig = fig.update_layout(title=\"Survival analysis {}\".format(\"VU + in-situ\"))\n",
    "fig.update_layout(height=900)\n",
    "# save_fig(name=\"Survival_plot_reward\", fig=fig, base_path=figures_path, width=1400, height=600)"
   ]
  },
  {
   "cell_type": "markdown",
   "metadata": {},
   "source": [
    "## Apply clustering analysis"
   ]
  },
  {
   "cell_type": "code",
   "execution_count": null,
   "metadata": {},
   "outputs": [
    {
     "name": "stdout",
     "output_type": "stream",
     "text": [
      "Sum of 90% variance at PC: 15\n",
      "Change < 1% at PC: 5\n"
     ]
    }
   ],
   "source": [
    "plot_data = tum_tpms_v4.loc[sel_tfs.index]\n",
    "plot_data = np.log2(plot_data + 1)\n",
    "\n",
    "gh.find_pcs((plot_data))"
   ]
  },
  {
   "cell_type": "code",
   "execution_count": null,
   "metadata": {},
   "outputs": [
    {
     "name": "stdout",
     "output_type": "stream",
     "text": [
      "Variation per principal component [0.63955238 0.09883797] and the sum 73.84%\n"
     ]
    }
   ],
   "source": [
    "selected_clusters = [\"Birch\", \"RawKMeans\", \"GaussianMixture\", \"Ward\", \"SpectralClustering\", \"Avg\"]\n",
    "\n",
    "# run experiments\n",
    "outputs, _, all_metrics, _ = cs.compare_exp(\n",
    "    plot_data, rob_comp=None, n_clusters=None, selected_clusters=selected_clusters, show_figures=False, show_consensus=True, pca_data=False, n_comp=15,\n",
    ")\n",
    "outputs.set_index(\"Sample\", inplace=True)\n",
    "\n",
    "show_figs=False\n",
    "if show_figs:\n",
    "    # Plot the metrics\n",
    "    fig = cs.display_metrics(all_metrics, f\"Cluster metrics for Selected TF\", show_individual=False, verbose=True)\n",
    "    gh.plot_individual_metric(all_metrics, pca=False, offset_db=4)"
   ]
  }
 ],
 "metadata": {
  "kernelspec": {
   "display_name": "iNet_gt",
   "language": "python",
   "name": "python3"
  },
  "language_info": {
   "codemirror_mode": {
    "name": "ipython",
    "version": 3
   },
   "file_extension": ".py",
   "mimetype": "text/x-python",
   "name": "python",
   "nbconvert_exporter": "python",
   "pygments_lexer": "ipython3",
   "version": "3.11.8"
  }
 },
 "nbformat": 4,
 "nbformat_minor": 2
}
