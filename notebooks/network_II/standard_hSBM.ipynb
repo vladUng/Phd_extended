{
 "cells": [
  {
   "cell_type": "markdown",
   "metadata": {},
   "source": [
    "# Motivation\n",
    "\n",
    "This notebook is using the standard network generated from the non-cancerous dataset. It explores the subtypes derived of the non-tumour dataset using the standard network."
   ]
  },
  {
   "cell_type": "code",
   "execution_count": 1,
   "metadata": {},
   "outputs": [
    {
     "name": "stdout",
     "output_type": "stream",
     "text": [
      "The autoreload extension is already loaded. To reload it, use:\n",
      "  %reload_ext autoreload\n"
     ]
    }
   ],
   "source": [
    "%load_ext autoreload\n",
    "import pandas as pd\n",
    "import numpy as np\n",
    "import os\n",
    "import sys\n",
    "import igraph as ig\n",
    "import pickle\n",
    "\n",
    "import plotly.express as px\n",
    "from plotly.subplots import make_subplots\n",
    "import plotly.graph_objects as go\n",
    "import plotly.io as pio\n",
    "\n",
    "import multiprocess as mp\n",
    "\n",
    "SCRIPT_DIR = os.path.dirname(os.path.abspath(\"pcgna_processing.py\"))\n",
    "sys.path.append(os.path.dirname(SCRIPT_DIR))\n",
    "sys.path.append('/Users/vlad/Documents/Code/York/iNet_v2/src/')\n",
    "\n",
    "from NetworkAnalysis.ExperimentSet import ExperimentSet\n",
    "from NetworkAnalysis.NetworkOutput import NetworkOutput\n",
    "from NetworkAnalysis import GraphHelper as gh\n",
    "from NetworkAnalysis.utilities import sankey_consensus_plot as sky\n",
    "from NetworkAnalysis.utilities.helpers import save_fig, survival_plot, survival_comp\n",
    "from NetworkAnalysis.GraphToolExp import GraphToolExperiment as GtExp\n",
    "import NetworkAnalysis.utilities.clustering as cs\n",
    "\n",
    "from NetworkAnalysis.dea import dea\n",
    "from NetworkAnalysis.dea import helpers as dea_hp\n",
    "from NetworkAnalysis.dea import gsea as gsea_hp\n",
    "\n",
    "# Gsea libraries\n",
    "import gseapy as gp\n",
    "import matplotlib.pyplot as plt\n",
    "\n",
    "import graph_tool.all as gt\n",
    "\n",
    "# %matplotlib inline\n",
    "\n",
    "pio.templates.default = \"ggplot2\"\n",
    "\n",
    "\n",
    "pool = mp.Pool(mp.cpu_count())"
   ]
  },
  {
   "cell_type": "code",
   "execution_count": 2,
   "metadata": {},
   "outputs": [],
   "source": [
    "results_path = \"../../results/exp/\"\n",
    "data_base = \"../../data/\"\n",
    "base_path = \"../../results/network_II/\"\n",
    "\n",
    "figures_path = \"../network_II/standard/\"\n",
    "\n",
    "sbm_exps_path = \"sbm/\"\n",
    "\n",
    "vu_output = pd.read_csv(f\"{data_base}/metadata/VU_clustering_v3.tsv\", sep=\"\\t\", index_col=\"Sample\")\n",
    "\n",
    "tcga_mutations_df = pd.read_csv(f\"{data_base}/tumour/mutations_tcga.csv\")\n",
    "tcga_mutations_df = tcga_mutations_df[tcga_mutations_df[\"count\"] != 0].set_index(\"gene\")\n",
    "\n",
    "all_tum_tpms = pd.read_csv(f\"{data_base}/tumour/tum_TPMs_selected_genes_gc42_all_v4.tsv\", sep=\"\\t\", index_col=\"genes\")\n",
    "\n",
    "healthy_metadata = pd.read_csv(f\"{data_base}/metadata/healthy_bladder_metadata.tsv\", sep=\"\\t\", index_col=\"Sample\", dtype_backend=\"pyarrow\")\n",
    "\n",
    "# tf list\n",
    "tf_path = f\"{data_base}/metadata/TF_names_v_1.01.txt\"\n",
    "if os.path.exists(tf_path):\n",
    "    tf_list = np.genfromtxt(fname=tf_path, delimiter=\"\\t\", skip_header=1, dtype=\"str\")"
   ]
  },
  {
   "cell_type": "markdown",
   "metadata": {},
   "source": [
    "# Load experiments"
   ]
  },
  {
   "cell_type": "code",
   "execution_count": 3,
   "metadata": {},
   "outputs": [
    {
     "name": "stdout",
     "output_type": "stream",
     "text": [
      "##### Experiment labels:  dict_keys(['standard_5K_6TF_sbm', 'standard_5K_6TF_hsbm', 'sigmoid_5K_6TF_hsbm'])\n",
      "Loading Graph-Tool for standard_5K_6TF_hsbm\n",
      "Loading Graph-Tool for sigmoid_5K_6TF_hsbm\n"
     ]
    }
   ],
   "source": [
    "hsbm_v3 = ExperimentSet(\"v3\", base_path=base_path, exp_path=sbm_exps_path, mut_df=tcga_mutations_df, sel_sets=None, exp_type=\"iNet\")\n",
    "\n",
    "exps = {}\n",
    "for idx, exp in enumerate(hsbm_v3.get_exps()):\n",
    "    if exp.sbm_method != \"hsbm\":  # or idx != 2:\n",
    "        continue\n",
    "\n",
    "    print(f\"Loading Graph-Tool for {exp.type}\")\n",
    "    exps[exp.type] = GtExp.from_pgcna_inet(exp, rel_path=\"\")\n",
    "    exps[exp.type].export_to_gephi(save=False)\n",
    "\n",
    "hsbm_v3.exps = exps"
   ]
  },
  {
   "cell_type": "code",
   "execution_count": null,
   "metadata": {},
   "outputs": [],
   "source": [
    "%autoreload 2\n",
    "sel_gt: GtExp = hsbm_v3.exps[\"standard_5K_6TF_hsbm\"]\n",
    "gt_state: gt.NestedBlockState = sel_gt.hstateObj[\"state\"]\n",
    "\n",
    "sel_gt.hsbm_add_vp(mut_df=tcga_mutations_df)\n",
    "\n",
    "gt_g = sel_gt.gt_g\n",
    "pv = sel_gt.hstateObj[\"pv\"]\n",
    "pmode = sel_gt.hstateObj[\"pmode\"]\n",
    "\n",
    "com_df, _ = sel_gt.hsbm_get_gt_df()\n",
    "com_df[\"max_b\"] = com_df[\"P_lvl_0\"]\n",
    "\n",
    "gt.remove_self_loops(gt_g)\n",
    "\n",
    "######## ModCon and MEVS ########\n",
    "sel_gt.gt_modCon_MEV(all_tpms=sel_gt.tpm_df)\n",
    "\n",
    "# Compute and store the nodes/edges with all the information\n",
    "sel_gt.export_to_gephi(save=False, com_df = com_df)\n",
    "sel_gt.add_gt_prop_draw(gt_g, com_df=com_df, tf_list=tf_list)\n",
    "graph_stats = sel_gt.compute_graph_stats()\n",
    "\n",
    "nodes_df: pd.DataFrame = gh.add_stats_to(nodes_df=sel_gt.nodes_df, tpm_df=sel_gt.tpm_df)"
   ]
  },
  {
   "cell_type": "code",
   "execution_count": 5,
   "metadata": {},
   "outputs": [],
   "source": [
    "if 0:\n",
    "    nodes_df[[\"max_b\", \"ModCon_Rank\", \"mean\", \"median\", \"std\", \"var\", \"count\", \"ctrl_tf\"]].to_csv(figures_path + \"nodes_df_hsbm.tsv\", sep=\"\\t\")\n",
    "    # sel_gt.export_to_gephi(save=True, com_df=com_df[[\"max_b\", \"node_idx\"]])"
   ]
  },
  {
   "cell_type": "markdown",
   "metadata": {},
   "source": [
    "# Non-tum Analysis\n",
    "\n",
    "## Export to Morpheus"
   ]
  },
  {
   "cell_type": "code",
   "execution_count": 23,
   "metadata": {},
   "outputs": [
    {
     "name": "stdout",
     "output_type": "stream",
     "text": [
      "Variation per principal component [0.47958678 0.32651145] and the sum 80.61%\n"
     ]
    }
   ],
   "source": [
    "label = \"hsbm_std\"\n",
    "sel_gt.gt_modCon_MEV(all_tpms=sel_gt.tpm_df)\n",
    "cs_exp, fig_std, metrics = gh.run_clusters(sel_gt, label=\"hsbm_std\", show_figs=False)\n",
    "\n",
    "# Combine clustering with the Mevs\n",
    "cluster_cols = [f\"RawKMeans_CS_{7}_hsbm_std\"]\n",
    "mevs_cs = pd.concat([cs_exp[cluster_cols], sel_gt.mevsMut], axis=1)\n",
    "\n",
    "healthy_cols = healthy_metadata.columns\n",
    "mevs_cols = sel_gt.mevsMut.columns\n",
    "\n",
    "# Add the metadata\n",
    "comb_df = pd.concat([healthy_metadata.drop(\"Y2796_P0\"), mevs_cs], axis=1).dropna(how=\"all\")\n",
    "\n",
    "# reorder columns\n",
    "comb_df[list(healthy_cols) + list(cluster_cols) + list(mevs_cols)].T\n",
    "\n",
    "# save the file\n",
    "label = f\"{sel_gt.type}\"\n",
    "filename = f\"healthy_{label}_v3_1\"\n",
    "path = f\"{figures_path}/Morpheus/non_tum/{filename}.tsv\"\n",
    "\n",
    "comb_df.transpose().to_csv(path, sep=\"\\t\", index=True)"
   ]
  },
  {
   "cell_type": "markdown",
   "metadata": {},
   "source": [
    "## Import morpheus"
   ]
  },
  {
   "cell_type": "code",
   "execution_count": 7,
   "metadata": {},
   "outputs": [],
   "source": [
    "morpheus_path = f\"{figures_path}/Morpheus/non_tum/norm_{filename}.gct\"\n",
    "\n",
    "morp_df = pd.read_csv(morpheus_path, sep=\"\\t\", skiprows=2)\n",
    "\n",
    "columns = morp_df[\"id\"]\n",
    "morp_df = morp_df.transpose()\n",
    "morp_df.columns = columns\n",
    "morp_df = morp_df.iloc[2:, :]\n",
    "\n",
    "morp_df.rename_axis(\"sample\", axis=\"columns\", inplace=True)\n",
    "# Group 4 has just one sample\n",
    "morp_df.loc[morp_df[\"dendrogram_cut\"] == \"1.00\", \"dendrogram_cut\"] = \"2.00\""
   ]
  },
  {
   "cell_type": "code",
   "execution_count": 8,
   "metadata": {},
   "outputs": [
    {
     "data": {
      "text/plain": [
       "Index(['Y815A-Bl', 'Y836B-Bl', 'Y499B-Bl', 'Y929B-Bl', 'Y719B-Bl'], dtype='object')"
      ]
     },
     "execution_count": 8,
     "metadata": {},
     "output_type": "execute_result"
    }
   ],
   "source": [
    "morp_df[morp_df[\"subset_name\"] == \"B-Diff\"][[\"subset_name\", \"dendrogram_cut\", \"NHU_differentiation\"]].index"
   ]
  },
  {
   "cell_type": "code",
   "execution_count": 9,
   "metadata": {},
   "outputs": [
    {
     "data": {
      "application/vnd.plotly.v1+json": {
       "config": {
        "plotlyServerURL": "https://plot.ly"
       },
       "data": [
        {
         "arrangement": "perpendicular",
         "link": {
          "color": "#bdbdbd",
          "source": [
           0,
           0,
           0,
           0,
           1,
           1,
           2,
           3,
           3,
           4,
           5,
           5,
           5,
           5,
           6,
           6,
           7,
           7,
           7,
           8,
           9,
           10,
           11,
           12,
           12,
           13,
           14
          ],
          "target": [
           5,
           6,
           7,
           8,
           3,
           4,
           5,
           12,
           13,
           13,
           10,
           11,
           12,
           14,
           9,
           12,
           9,
           12,
           13,
           12,
           15,
           15,
           16,
           16,
           15,
           16,
           16
          ],
          "value": [
           4,
           5,
           14,
           28,
           3,
           19,
           15,
           1,
           2,
           19,
           2,
           1,
           1,
           15,
           4,
           1,
           1,
           12,
           1,
           28,
           5,
           2,
           1,
           42,
           1,
           22,
           15
          ]
         },
         "node": {
          "color": [
           "rgb(229, 134, 6)",
           "rgb(229, 134, 6)",
           "rgb(229, 134, 6)",
           "rgb(93, 105, 177)",
           "rgb(93, 105, 177)",
           "rgb(93, 105, 177)",
           "rgb(93, 105, 177)",
           "rgb(93, 105, 177)",
           "rgb(93, 105, 177)",
           "rgb(82, 188, 163)",
           "rgb(82, 188, 163)",
           "rgb(82, 188, 163)",
           "rgb(82, 188, 163)",
           "rgb(82, 188, 163)",
           "rgb(82, 188, 163)",
           "rgb(153, 201, 69)",
           "rgb(153, 201, 69)"
          ],
          "label": [
           "ABS-Ca",
           "P0",
           "UD",
           "2.00",
           "3.00",
           "4.00",
           "5.00",
           "6.00",
           "7.00",
           "B-Diff",
           "NA",
           "NR-DIF",
           "Uro-D",
           "Uro-P0",
           "Uro-UD",
           "M",
           "F"
          ],
          "line": {
           "color": "black",
           "width": 0.5
          },
          "pad": 15,
          "thickness": 20
         },
         "type": "sankey"
        }
       ],
       "layout": {
        "annotations": [
         {
          "align": "left",
          "font": {
           "color": "#003366",
           "size": 16
          },
          "showarrow": false,
          "text": "NHU_differentiation",
          "x": 0,
          "xref": "x",
          "y": 1.07,
          "yref": "paper"
         },
         {
          "align": "left",
          "font": {
           "color": "#003366",
           "size": 16
          },
          "showarrow": false,
          "text": "dendrogram_cut",
          "x": 1,
          "xref": "x",
          "y": 1.07,
          "yref": "paper"
         },
         {
          "align": "left",
          "font": {
           "color": "#003366",
           "size": 16
          },
          "showarrow": false,
          "text": "subset_name",
          "x": 2,
          "xref": "x",
          "y": 1.07,
          "yref": "paper"
         },
         {
          "align": "left",
          "font": {
           "color": "#003366",
           "size": 16
          },
          "showarrow": false,
          "text": "Gender",
          "x": 3,
          "xref": "x",
          "y": 1.07,
          "yref": "paper"
         }
        ],
        "font": {
         "color": "#003366",
         "size": 18
        },
        "height": 600,
        "paper_bgcolor": "rgba(0,0,0,0)",
        "plot_bgcolor": "rgba(0,0,0,0)",
        "template": {
         "data": {
          "bar": [
           {
            "error_x": {
             "color": "rgb(51,51,51)"
            },
            "error_y": {
             "color": "rgb(51,51,51)"
            },
            "marker": {
             "line": {
              "color": "rgb(237,237,237)",
              "width": 0.5
             },
             "pattern": {
              "fillmode": "overlay",
              "size": 10,
              "solidity": 0.2
             }
            },
            "type": "bar"
           }
          ],
          "barpolar": [
           {
            "marker": {
             "line": {
              "color": "rgb(237,237,237)",
              "width": 0.5
             },
             "pattern": {
              "fillmode": "overlay",
              "size": 10,
              "solidity": 0.2
             }
            },
            "type": "barpolar"
           }
          ],
          "carpet": [
           {
            "aaxis": {
             "endlinecolor": "rgb(51,51,51)",
             "gridcolor": "white",
             "linecolor": "white",
             "minorgridcolor": "white",
             "startlinecolor": "rgb(51,51,51)"
            },
            "baxis": {
             "endlinecolor": "rgb(51,51,51)",
             "gridcolor": "white",
             "linecolor": "white",
             "minorgridcolor": "white",
             "startlinecolor": "rgb(51,51,51)"
            },
            "type": "carpet"
           }
          ],
          "choropleth": [
           {
            "colorbar": {
             "outlinewidth": 0,
             "tickcolor": "rgb(237,237,237)",
             "ticklen": 6,
             "ticks": "inside"
            },
            "type": "choropleth"
           }
          ],
          "contour": [
           {
            "colorbar": {
             "outlinewidth": 0,
             "tickcolor": "rgb(237,237,237)",
             "ticklen": 6,
             "ticks": "inside"
            },
            "colorscale": [
             [
              0,
              "rgb(20,44,66)"
             ],
             [
              1,
              "rgb(90,179,244)"
             ]
            ],
            "type": "contour"
           }
          ],
          "contourcarpet": [
           {
            "colorbar": {
             "outlinewidth": 0,
             "tickcolor": "rgb(237,237,237)",
             "ticklen": 6,
             "ticks": "inside"
            },
            "type": "contourcarpet"
           }
          ],
          "heatmap": [
           {
            "colorbar": {
             "outlinewidth": 0,
             "tickcolor": "rgb(237,237,237)",
             "ticklen": 6,
             "ticks": "inside"
            },
            "colorscale": [
             [
              0,
              "rgb(20,44,66)"
             ],
             [
              1,
              "rgb(90,179,244)"
             ]
            ],
            "type": "heatmap"
           }
          ],
          "heatmapgl": [
           {
            "colorbar": {
             "outlinewidth": 0,
             "tickcolor": "rgb(237,237,237)",
             "ticklen": 6,
             "ticks": "inside"
            },
            "colorscale": [
             [
              0,
              "rgb(20,44,66)"
             ],
             [
              1,
              "rgb(90,179,244)"
             ]
            ],
            "type": "heatmapgl"
           }
          ],
          "histogram": [
           {
            "marker": {
             "pattern": {
              "fillmode": "overlay",
              "size": 10,
              "solidity": 0.2
             }
            },
            "type": "histogram"
           }
          ],
          "histogram2d": [
           {
            "colorbar": {
             "outlinewidth": 0,
             "tickcolor": "rgb(237,237,237)",
             "ticklen": 6,
             "ticks": "inside"
            },
            "colorscale": [
             [
              0,
              "rgb(20,44,66)"
             ],
             [
              1,
              "rgb(90,179,244)"
             ]
            ],
            "type": "histogram2d"
           }
          ],
          "histogram2dcontour": [
           {
            "colorbar": {
             "outlinewidth": 0,
             "tickcolor": "rgb(237,237,237)",
             "ticklen": 6,
             "ticks": "inside"
            },
            "colorscale": [
             [
              0,
              "rgb(20,44,66)"
             ],
             [
              1,
              "rgb(90,179,244)"
             ]
            ],
            "type": "histogram2dcontour"
           }
          ],
          "mesh3d": [
           {
            "colorbar": {
             "outlinewidth": 0,
             "tickcolor": "rgb(237,237,237)",
             "ticklen": 6,
             "ticks": "inside"
            },
            "type": "mesh3d"
           }
          ],
          "parcoords": [
           {
            "line": {
             "colorbar": {
              "outlinewidth": 0,
              "tickcolor": "rgb(237,237,237)",
              "ticklen": 6,
              "ticks": "inside"
             }
            },
            "type": "parcoords"
           }
          ],
          "pie": [
           {
            "automargin": true,
            "type": "pie"
           }
          ],
          "scatter": [
           {
            "fillpattern": {
             "fillmode": "overlay",
             "size": 10,
             "solidity": 0.2
            },
            "type": "scatter"
           }
          ],
          "scatter3d": [
           {
            "line": {
             "colorbar": {
              "outlinewidth": 0,
              "tickcolor": "rgb(237,237,237)",
              "ticklen": 6,
              "ticks": "inside"
             }
            },
            "marker": {
             "colorbar": {
              "outlinewidth": 0,
              "tickcolor": "rgb(237,237,237)",
              "ticklen": 6,
              "ticks": "inside"
             }
            },
            "type": "scatter3d"
           }
          ],
          "scattercarpet": [
           {
            "marker": {
             "colorbar": {
              "outlinewidth": 0,
              "tickcolor": "rgb(237,237,237)",
              "ticklen": 6,
              "ticks": "inside"
             }
            },
            "type": "scattercarpet"
           }
          ],
          "scattergeo": [
           {
            "marker": {
             "colorbar": {
              "outlinewidth": 0,
              "tickcolor": "rgb(237,237,237)",
              "ticklen": 6,
              "ticks": "inside"
             }
            },
            "type": "scattergeo"
           }
          ],
          "scattergl": [
           {
            "marker": {
             "colorbar": {
              "outlinewidth": 0,
              "tickcolor": "rgb(237,237,237)",
              "ticklen": 6,
              "ticks": "inside"
             }
            },
            "type": "scattergl"
           }
          ],
          "scattermapbox": [
           {
            "marker": {
             "colorbar": {
              "outlinewidth": 0,
              "tickcolor": "rgb(237,237,237)",
              "ticklen": 6,
              "ticks": "inside"
             }
            },
            "type": "scattermapbox"
           }
          ],
          "scatterpolar": [
           {
            "marker": {
             "colorbar": {
              "outlinewidth": 0,
              "tickcolor": "rgb(237,237,237)",
              "ticklen": 6,
              "ticks": "inside"
             }
            },
            "type": "scatterpolar"
           }
          ],
          "scatterpolargl": [
           {
            "marker": {
             "colorbar": {
              "outlinewidth": 0,
              "tickcolor": "rgb(237,237,237)",
              "ticklen": 6,
              "ticks": "inside"
             }
            },
            "type": "scatterpolargl"
           }
          ],
          "scatterternary": [
           {
            "marker": {
             "colorbar": {
              "outlinewidth": 0,
              "tickcolor": "rgb(237,237,237)",
              "ticklen": 6,
              "ticks": "inside"
             }
            },
            "type": "scatterternary"
           }
          ],
          "surface": [
           {
            "colorbar": {
             "outlinewidth": 0,
             "tickcolor": "rgb(237,237,237)",
             "ticklen": 6,
             "ticks": "inside"
            },
            "colorscale": [
             [
              0,
              "rgb(20,44,66)"
             ],
             [
              1,
              "rgb(90,179,244)"
             ]
            ],
            "type": "surface"
           }
          ],
          "table": [
           {
            "cells": {
             "fill": {
              "color": "rgb(237,237,237)"
             },
             "line": {
              "color": "white"
             }
            },
            "header": {
             "fill": {
              "color": "rgb(217,217,217)"
             },
             "line": {
              "color": "white"
             }
            },
            "type": "table"
           }
          ]
         },
         "layout": {
          "annotationdefaults": {
           "arrowhead": 0,
           "arrowwidth": 1
          },
          "autotypenumbers": "strict",
          "coloraxis": {
           "colorbar": {
            "outlinewidth": 0,
            "tickcolor": "rgb(237,237,237)",
            "ticklen": 6,
            "ticks": "inside"
           }
          },
          "colorscale": {
           "sequential": [
            [
             0,
             "rgb(20,44,66)"
            ],
            [
             1,
             "rgb(90,179,244)"
            ]
           ],
           "sequentialminus": [
            [
             0,
             "rgb(20,44,66)"
            ],
            [
             1,
             "rgb(90,179,244)"
            ]
           ]
          },
          "colorway": [
           "#F8766D",
           "#A3A500",
           "#00BF7D",
           "#00B0F6",
           "#E76BF3"
          ],
          "font": {
           "color": "rgb(51,51,51)"
          },
          "geo": {
           "bgcolor": "white",
           "lakecolor": "white",
           "landcolor": "rgb(237,237,237)",
           "showlakes": true,
           "showland": true,
           "subunitcolor": "white"
          },
          "hoverlabel": {
           "align": "left"
          },
          "hovermode": "closest",
          "paper_bgcolor": "white",
          "plot_bgcolor": "rgb(237,237,237)",
          "polar": {
           "angularaxis": {
            "gridcolor": "white",
            "linecolor": "white",
            "showgrid": true,
            "tickcolor": "rgb(51,51,51)",
            "ticks": "outside"
           },
           "bgcolor": "rgb(237,237,237)",
           "radialaxis": {
            "gridcolor": "white",
            "linecolor": "white",
            "showgrid": true,
            "tickcolor": "rgb(51,51,51)",
            "ticks": "outside"
           }
          },
          "scene": {
           "xaxis": {
            "backgroundcolor": "rgb(237,237,237)",
            "gridcolor": "white",
            "gridwidth": 2,
            "linecolor": "white",
            "showbackground": true,
            "showgrid": true,
            "tickcolor": "rgb(51,51,51)",
            "ticks": "outside",
            "zerolinecolor": "white"
           },
           "yaxis": {
            "backgroundcolor": "rgb(237,237,237)",
            "gridcolor": "white",
            "gridwidth": 2,
            "linecolor": "white",
            "showbackground": true,
            "showgrid": true,
            "tickcolor": "rgb(51,51,51)",
            "ticks": "outside",
            "zerolinecolor": "white"
           },
           "zaxis": {
            "backgroundcolor": "rgb(237,237,237)",
            "gridcolor": "white",
            "gridwidth": 2,
            "linecolor": "white",
            "showbackground": true,
            "showgrid": true,
            "tickcolor": "rgb(51,51,51)",
            "ticks": "outside",
            "zerolinecolor": "white"
           }
          },
          "shapedefaults": {
           "fillcolor": "black",
           "line": {
            "width": 0
           },
           "opacity": 0.3
          },
          "ternary": {
           "aaxis": {
            "gridcolor": "white",
            "linecolor": "white",
            "showgrid": true,
            "tickcolor": "rgb(51,51,51)",
            "ticks": "outside"
           },
           "baxis": {
            "gridcolor": "white",
            "linecolor": "white",
            "showgrid": true,
            "tickcolor": "rgb(51,51,51)",
            "ticks": "outside"
           },
           "bgcolor": "rgb(237,237,237)",
           "caxis": {
            "gridcolor": "white",
            "linecolor": "white",
            "showgrid": true,
            "tickcolor": "rgb(51,51,51)",
            "ticks": "outside"
           }
          },
          "xaxis": {
           "automargin": true,
           "gridcolor": "white",
           "linecolor": "white",
           "showgrid": true,
           "tickcolor": "rgb(51,51,51)",
           "ticks": "outside",
           "title": {
            "standoff": 15
           },
           "zerolinecolor": "white"
          },
          "yaxis": {
           "automargin": true,
           "gridcolor": "white",
           "linecolor": "white",
           "showgrid": true,
           "tickcolor": "rgb(51,51,51)",
           "ticks": "outside",
           "title": {
            "standoff": 15
           },
           "zerolinecolor": "white"
          }
         }
        },
        "title": {
         "text": "Non-tum"
        },
        "xaxis": {
         "showgrid": false,
         "visible": false,
         "zeroline": false
        },
        "yaxis": {
         "showgrid": false,
         "visible": false,
         "zeroline": false
        }
       }
      }
     },
     "metadata": {},
     "output_type": "display_data"
    }
   ],
   "source": [
    "reorder_cols = [\n",
    "    \"NHU_differentiation\",\n",
    "    \"dendrogram_cut\",\n",
    "    \"subset_name\",\n",
    "    # \"RawKMeans_CS_7_rwd_mut\",\n",
    "    \"Gender\",\n",
    "]\n",
    "meta, sky_fig = sky.main(df=morp_df.fillna(\"NA\"), reorder_cols=reorder_cols, title=\"Non-tum\", retMeta=True)\n",
    "sky_fig.update_layout(\n",
    "    font=dict(size=18),\n",
    "    paper_bgcolor=\"rgba(0,0,0,0)\",\n",
    ")"
   ]
  },
  {
   "cell_type": "markdown",
   "metadata": {},
   "source": [
    "### Export for DEA"
   ]
  },
  {
   "cell_type": "code",
   "execution_count": 10,
   "metadata": {},
   "outputs": [],
   "source": [
    "morp_df.to_csv(f\"{figures_path}/Morpheus/non_tum/prcsd_morpheus_cs_7.tsv\", sep=\"\\t\", index_label=\"sample\")\n",
    "\n",
    "# Export to show the communities on the Volcano plot\n",
    "_ = gh.export_top_modCon_genes(nodes_df=sel_gt.nodes_df, path=figures_path, top_n=100, metric=\"median\")\n",
    "modConRank_genes = gh.export_top_modCon_genes(nodes_df=sel_gt.nodes_df, path=figures_path, top_n=100, metric=\"ModCon_Rank\")"
   ]
  },
  {
   "cell_type": "markdown",
   "metadata": {},
   "source": [
    "### Export for cluster tree"
   ]
  },
  {
   "cell_type": "code",
   "execution_count": 11,
   "metadata": {},
   "outputs": [],
   "source": [
    "cluster_labels = sel_gt.nodes_df[[\"P_lvl_0\", \"P_lvl_1\", \"P_lvl_2\", \"P_lvl_3\", \"P_lvl_4\"]].copy(deep=True)\n",
    "cluster_labels.to_csv(f\"{figures_path}/cluster_tree/cluster_tree_std_v3.csv\")\n",
    "\n",
    "# reverse the columns\n",
    "cluster_labels.columns = cluster_labels.columns[::-1]\n",
    "cluster_labels.to_csv(f\"{figures_path}/cluster_tree/cluster_tree_std_v3_reverse.csv\")"
   ]
  },
  {
   "cell_type": "markdown",
   "metadata": {},
   "source": [
    "## DEA"
   ]
  },
  {
   "cell_type": "markdown",
   "metadata": {},
   "source": [
    "### P0 Split"
   ]
  },
  {
   "cell_type": "code",
   "execution_count": 12,
   "metadata": {},
   "outputs": [],
   "source": [
    "dea_path = \"../../data/non_cancerous/dea/norm_splits/\"\n",
    "\n",
    "f_male_diff_small = \"sleuth_5.0_6.0_v3_vulcano_labels.tsv\"\n",
    "f_male_diff_large = \"sleuth_5.0_7.0_v3_vulcano_labels.tsv\"\n",
    "f_small_large_diff = \"sleuth_6.0_7.0_v3_vulcano_labels.tsv\"\n",
    "f_p0_comp = \"sleuth_P0_small_P0_large_vulcano_labels.tsv\"\n",
    "\n",
    "markers = modConRank_genes.to_dict(\"list\")"
   ]
  },
  {
   "cell_type": "code",
   "execution_count": 13,
   "metadata": {},
   "outputs": [
    {
     "name": "stdout",
     "output_type": "stream",
     "text": [
      "Finished loading the data in 0.03225588798522949\n"
     ]
    }
   ],
   "source": [
    "sel_coms = [19, 22, 25, 29]\n",
    "filter_dict = {f\"{key}_ModCon\": markers[key] for key in sel_coms}\n",
    "\n",
    "volcano = dea.volcano(f_p0_comp, base_path=dea_path, known_markers=False, markers=filter_dict)\n",
    "\n",
    "volcano = dea_hp.toggle_legend(volcano, kept_traces=[\"0\", \"Point(s) of interest\", \"Dataset\"])\n",
    "volcano.add_annotation(text=\"P0 large\", x=-4, y=8, showarrow=False, font=dict(size=20, color=\"#177c7a\"))\n",
    "volcano.add_annotation(text=\"P0 small\", x=2, y=8, showarrow=False, font=dict(size=20, color=\"#177c7a\"))\n",
    "\n",
    "volcano = volcano.update_layout(\n",
    "    title=\"\",\n",
    "    legend=dict(\n",
    "        orientation=\"h\",\n",
    "        yanchor=\"middle\",\n",
    "        xanchor=\"center\",\n",
    "        y=0.98,\n",
    "        x=0.6,\n",
    "        bgcolor=\"rgba(0,0,0,0)\",\n",
    "        font=dict(size=14, color=\"#003366\"),\n",
    "    ),\n",
    "    xaxis=dict(tickfont=dict(size=20)),\n",
    "    yaxis=dict(\n",
    "        tickfont=dict(size=20),\n",
    "    ),\n",
    "    font=dict(size=16),\n",
    "    height=1100,\n",
    ")\n",
    "# volcano"
   ]
  },
  {
   "cell_type": "markdown",
   "metadata": {},
   "source": [
    "### Diff split"
   ]
  },
  {
   "cell_type": "code",
   "execution_count": 14,
   "metadata": {},
   "outputs": [
    {
     "name": "stdout",
     "output_type": "stream",
     "text": [
      "Finished loading the data in 0.02177715301513672\n"
     ]
    }
   ],
   "source": [
    "sel_coms = [19, 1, 29, 25, 22]\n",
    "filter_dict = {f\"{key}_ModCon\": markers[key] for key in sel_coms}\n",
    "\n",
    "volcano = dea.volcano(f_small_large_diff, base_path=dea_path, known_markers=False, markers=filter_dict)\n",
    "\n",
    "volcano = dea_hp.toggle_legend(volcano, kept_traces=[\"0\", \"Point(s) of interest\", \"Dataset\"])\n",
    "volcano.add_annotation(text=\"Abs-Ca large\", x=-3, y=19, showarrow=False, font=dict(size=20, color=\"#177c7a\"))\n",
    "volcano.add_annotation(text=\"Abs-Ca small\", x=5, y=19, showarrow=False, font=dict(size=20, color=\"#177c7a\"))\n",
    "\n",
    "volcano = volcano.update_layout(\n",
    "    title=\"\",\n",
    "    legend=dict(\n",
    "        orientation=\"h\",\n",
    "        yanchor=\"middle\",\n",
    "        xanchor=\"center\",\n",
    "        y=0.98,\n",
    "        x=0.4,\n",
    "        bgcolor=\"rgba(0,0,0,0)\",\n",
    "        font=dict(size=14, color=\"#003366\"),\n",
    "    ),\n",
    "    xaxis=dict(tickfont=dict(size=20)),\n",
    "    yaxis=dict(\n",
    "        tickfont=dict(size=20),\n",
    "    ),\n",
    "    font=dict(size=16),\n",
    "    height=1100,\n",
    ")\n",
    "# volcano.show()"
   ]
  },
  {
   "cell_type": "markdown",
   "metadata": {},
   "source": [
    "## Male specific"
   ]
  },
  {
   "cell_type": "code",
   "execution_count": 15,
   "metadata": {},
   "outputs": [],
   "source": [
    "config = {\"file_1\": f_male_diff_large, \"file_2\": f_male_diff_small, \"ref_x\": \"max\", \"ref_y\": \"min\"}\n",
    "pi, pi_df = gsea_hp.rank_pi_vals(\"maleSpecific\", config, dea_path=dea_path, custom_points={}, show_known_markers=False)\n",
    "# pi.show()"
   ]
  },
  {
   "cell_type": "markdown",
   "metadata": {},
   "source": [
    "## GSEA"
   ]
  },
  {
   "cell_type": "code",
   "execution_count": 15,
   "metadata": {},
   "outputs": [],
   "source": [
    "import gseapy as gp\n",
    "\n",
    "msigdb_hallmarks = \"../../data/GSEA/msigDB/h.all.v2023.2.Hs.symbols.gmt\"\n",
    "msigdb_reactome = \"../../data/GSEA/msigDB/c2.cp.reactome.v2023.2.Hs.symbols.gmt\"\n",
    "msigdb_tf = \"../../data/GSEA/msigDB/c3.tft.v2023.2.Hs.symbols.gmt\"\n",
    "msigdb_cancer = \"../../data/GSEA/msigDB/c4.all.v2023.2.Hs.symbols.gmt\"\n",
    "msigdb_onco_sig = \"../../data/GSEA/msigDB/c6.all.v2023.2.Hs.symbols.gmt\"\n",
    "msigdb_all = \"../../data/GSEA/msigDB/msigdb.v2023.2.Hs.symbols.gmt\"\n",
    "\n",
    "databases = {\n",
    "    \"hallmark\": {\"path\": msigdb_hallmarks},\n",
    "    # \"onco_sig\": {\"path\": msigdb_onco_sig},\n",
    "    \"reactome\": {\"path\": msigdb_reactome},\n",
    "    ### Un-comment to run the following pathways\n",
    "    # \"tf\": { \"path\": msigdb_tf },\n",
    "    # \"can_path\": { \"path\": msigdb_cancer }, #canonical pathway\n",
    "    # \"all\": { \"db\": msigdb_all },\n",
    "}\n",
    "\n",
    "runs_config = {\"male_specific\": {\"file_1\": f_male_diff_large, \"file_2\": f_male_diff_small, \"ref_x\": \"max\", \"ref_y\": \"min\"}}"
   ]
  },
  {
   "cell_type": "code",
   "execution_count": 16,
   "metadata": {},
   "outputs": [],
   "source": [
    "if 0:\n",
    "    new_runs = {}\n",
    "    version = \"v1\"\n",
    "    for subtype, config in runs_config.items():\n",
    "        print(f\"##### {subtype} #####\")\n",
    "\n",
    "        path = f\"{figures_path}/GSEA/{version}/{subtype}\"\n",
    "\n",
    "        # Add the path\n",
    "        config[\"path\"] = path\n",
    "\n",
    "        # Run the Pi value - the saved Pi plot is a check for selecting the right quadrant\n",
    "        config[\"pi\"], config[\"pi_df\"] = gsea_hp.rank_pi_vals(subtype, config, dea_path=dea_path, custom_points={})\n",
    "\n",
    "        # Run the GSEA\n",
    "        gsea_res = gsea_hp.run_gsea(subtype, config, databases=databases)\n",
    "\n",
    "        # Merging two dict, requires python >3.5\n",
    "        new_runs[subtype] = {**config, **gsea_res}"
   ]
  },
  {
   "cell_type": "code",
   "execution_count": 17,
   "metadata": {},
   "outputs": [],
   "source": [
    "if 0:\n",
    "    for subtype, config in new_runs.items():\n",
    "\n",
    "        for key, value in databases.items():\n",
    "            print(f\"{subtype} --> {key}\")\n",
    "            rank_gsea = config[key]\n",
    "            base_path = config[\"path\"]\n",
    "            _, _ = gsea_hp.plot_top_gsea(res=rank_gsea, path=base_path, num=10, label=f\"{subtype}_{key}\", database=key)\n",
    "\n",
    "            # brea"
   ]
  },
  {
   "cell_type": "markdown",
   "metadata": {},
   "source": [
    "# MIBC Analysis\n",
    "\n",
    "## Export to Morpheus"
   ]
  },
  {
   "cell_type": "code",
   "execution_count": 16,
   "metadata": {},
   "outputs": [],
   "source": [
    "######## Tissue type based on Community from healthy ########\n",
    "comm_meta = {\n",
    "    \"diff\": [8, 20, 22, 24, 25, 26, 27, 28, 30, 31, 32, 33],\n",
    "    \"p0\": [0, 1, 2, 3, 4, 5, 6, 7, 16, 17],\n",
    "    \"undiff\": [9, 10, 11, 12, 13, 14, 15, 21, 34],\n",
    "    \"p0_ud\": [18],\n",
    "    \"misfit\": [19, 29],\n",
    "}\n",
    "\n",
    "comm_meta_df = []\n",
    "for key, comunities in comm_meta.items():\n",
    "    for com in comunities:\n",
    "        comm_meta_df.append((key, f\"Com_{com}\", com))\n",
    "diff_type = pd.DataFrame(comm_meta_df, columns=[\"Diff Type\", \"Com\", \"Com_idx\"]).sort_values(by=[\"Com_idx\"]).set_index(\"Com\")"
   ]
  },
  {
   "cell_type": "code",
   "execution_count": 17,
   "metadata": {},
   "outputs": [],
   "source": [
    "# # from observations\n",
    "# Samples which were clustered in their single group\n",
    "samples_to_remove = [\"TCGA-5N-A9KI\", \"TCGA-DK-A2HX\", \"TCGA-XF-A8HD\", \"TCGA-G2-A2EF\"]\n",
    "\n",
    "# Add the samples thare grouped in 2 (cut - 11)\n",
    "samples_to_remove.extend([\"TCGA-XF-AAN0\", \"TCGA-4Z-AA7Q\"])\n",
    "\n",
    "# Add another sample which was an outlier in 3.2\n",
    "samples_to_remove.extend([\"TCGA-FD-A3SR\", \"TCGA-CF-A9FH\"])\n",
    "\n",
    "# pre-processing\n",
    "f_tum = all_tum_tpms.drop(columns=samples_to_remove)"
   ]
  },
  {
   "cell_type": "code",
   "execution_count": 18,
   "metadata": {},
   "outputs": [
    {
     "name": "stdout",
     "output_type": "stream",
     "text": [
      "Variation per principal component [0.51363944 0.29612881] and the sum 80.98%\n"
     ]
    }
   ],
   "source": [
    "sel_gt.gt_modCon_MEV(all_tpms=f_tum, is_imev=True, com_df=com_df)\n",
    "cs_exp, cs_figs, metrics_figs = gh.run_clusters(sel_gt, label=\"iMEV\", show_figs=True, norm=False)\n",
    "\n",
    "settings = {\n",
    "    \"cs_num_1\": 5,\n",
    "    \"cs_num_2\": 7,\n",
    "    \"sel_mut\": pd.DataFrame(),\n",
    "    \"vu_output\": vu_output,\n",
    "    \"cs_exp\": cs_exp,\n",
    "    \"figures_path\": f\"{figures_path}/Morpheus/tum/\",\n",
    "    \"label_col_cs\": \"iMEV\",\n",
    "    \"filename\": f\"tum_{sel_gt.type}_iMev_3.3\",\n",
    "    \"diff_type\": diff_type,\n",
    "    # 3.0 - with all the samples\n",
    "    # 3.1 - without the samples that are in a single group\n",
    "    # 3.2 - without the samples that are in pair\n",
    "    # 3.3 - extra sample as an outliar\n",
    "}\n",
    "\n",
    "tum_morph = sel_gt.export_morpheus(settings)"
   ]
  },
  {
   "cell_type": "code",
   "execution_count": 31,
   "metadata": {},
   "outputs": [
    {
     "data": {
      "application/vnd.plotly.v1+json": {
       "config": {
        "plotlyServerURL": "https://plot.ly"
       },
       "data": [
        {
         "arrangement": "perpendicular",
         "link": {
          "color": "#bdbdbd",
          "source": [
           0,
           0,
           0,
           1,
           1,
           1,
           1,
           1,
           2,
           2,
           2,
           2,
           3,
           3,
           3,
           3,
           4,
           4,
           4,
           4
          ],
          "target": [
           5,
           7,
           10,
           5,
           6,
           7,
           8,
           10,
           6,
           7,
           8,
           10,
           5,
           6,
           7,
           8,
           5,
           8,
           9,
           10
          ],
          "value": [
           131,
           4,
           7,
           4,
           18,
           14,
           10,
           32,
           17,
           6,
           1,
           1,
           6,
           1,
           118,
           16,
           10,
           4,
           5,
           1
          ]
         },
         "node": {
          "color": [
           "rgb(229, 134, 6)",
           "rgb(229, 134, 6)",
           "rgb(229, 134, 6)",
           "rgb(229, 134, 6)",
           "rgb(229, 134, 6)",
           "rgb(93, 105, 177)",
           "rgb(93, 105, 177)",
           "rgb(93, 105, 177)",
           "rgb(93, 105, 177)",
           "rgb(93, 105, 177)",
           "rgb(93, 105, 177)"
          ],
          "label": [
           "Ba/Sq",
           "LumInf",
           "LumNS",
           "LumP",
           "NE-like",
           "Ba/Sq",
           "LumNS",
           "LumP",
           "LumU",
           "NE-like",
           "Stroma-rich"
          ],
          "line": {
           "color": "black",
           "width": 0.5
          },
          "pad": 15,
          "thickness": 20
         },
         "type": "sankey"
        }
       ],
       "layout": {
        "annotations": [
         {
          "align": "left",
          "font": {
           "color": "#003366",
           "size": 16
          },
          "showarrow": false,
          "text": "TCGA408_classifier",
          "x": 0,
          "xref": "x",
          "y": 1.07,
          "yref": "paper"
         },
         {
          "align": "left",
          "font": {
           "color": "#003366",
           "size": 16
          },
          "showarrow": false,
          "text": "consensus",
          "x": 1,
          "xref": "x",
          "y": 1.07,
          "yref": "paper"
         }
        ],
        "font": {
         "color": "#003366",
         "size": 16
        },
        "height": 600,
        "plot_bgcolor": "rgba(0,0,0,0)",
        "template": {
         "data": {
          "bar": [
           {
            "error_x": {
             "color": "rgb(51,51,51)"
            },
            "error_y": {
             "color": "rgb(51,51,51)"
            },
            "marker": {
             "line": {
              "color": "rgb(237,237,237)",
              "width": 0.5
             },
             "pattern": {
              "fillmode": "overlay",
              "size": 10,
              "solidity": 0.2
             }
            },
            "type": "bar"
           }
          ],
          "barpolar": [
           {
            "marker": {
             "line": {
              "color": "rgb(237,237,237)",
              "width": 0.5
             },
             "pattern": {
              "fillmode": "overlay",
              "size": 10,
              "solidity": 0.2
             }
            },
            "type": "barpolar"
           }
          ],
          "carpet": [
           {
            "aaxis": {
             "endlinecolor": "rgb(51,51,51)",
             "gridcolor": "white",
             "linecolor": "white",
             "minorgridcolor": "white",
             "startlinecolor": "rgb(51,51,51)"
            },
            "baxis": {
             "endlinecolor": "rgb(51,51,51)",
             "gridcolor": "white",
             "linecolor": "white",
             "minorgridcolor": "white",
             "startlinecolor": "rgb(51,51,51)"
            },
            "type": "carpet"
           }
          ],
          "choropleth": [
           {
            "colorbar": {
             "outlinewidth": 0,
             "tickcolor": "rgb(237,237,237)",
             "ticklen": 6,
             "ticks": "inside"
            },
            "type": "choropleth"
           }
          ],
          "contour": [
           {
            "colorbar": {
             "outlinewidth": 0,
             "tickcolor": "rgb(237,237,237)",
             "ticklen": 6,
             "ticks": "inside"
            },
            "colorscale": [
             [
              0,
              "rgb(20,44,66)"
             ],
             [
              1,
              "rgb(90,179,244)"
             ]
            ],
            "type": "contour"
           }
          ],
          "contourcarpet": [
           {
            "colorbar": {
             "outlinewidth": 0,
             "tickcolor": "rgb(237,237,237)",
             "ticklen": 6,
             "ticks": "inside"
            },
            "type": "contourcarpet"
           }
          ],
          "heatmap": [
           {
            "colorbar": {
             "outlinewidth": 0,
             "tickcolor": "rgb(237,237,237)",
             "ticklen": 6,
             "ticks": "inside"
            },
            "colorscale": [
             [
              0,
              "rgb(20,44,66)"
             ],
             [
              1,
              "rgb(90,179,244)"
             ]
            ],
            "type": "heatmap"
           }
          ],
          "heatmapgl": [
           {
            "colorbar": {
             "outlinewidth": 0,
             "tickcolor": "rgb(237,237,237)",
             "ticklen": 6,
             "ticks": "inside"
            },
            "colorscale": [
             [
              0,
              "rgb(20,44,66)"
             ],
             [
              1,
              "rgb(90,179,244)"
             ]
            ],
            "type": "heatmapgl"
           }
          ],
          "histogram": [
           {
            "marker": {
             "pattern": {
              "fillmode": "overlay",
              "size": 10,
              "solidity": 0.2
             }
            },
            "type": "histogram"
           }
          ],
          "histogram2d": [
           {
            "colorbar": {
             "outlinewidth": 0,
             "tickcolor": "rgb(237,237,237)",
             "ticklen": 6,
             "ticks": "inside"
            },
            "colorscale": [
             [
              0,
              "rgb(20,44,66)"
             ],
             [
              1,
              "rgb(90,179,244)"
             ]
            ],
            "type": "histogram2d"
           }
          ],
          "histogram2dcontour": [
           {
            "colorbar": {
             "outlinewidth": 0,
             "tickcolor": "rgb(237,237,237)",
             "ticklen": 6,
             "ticks": "inside"
            },
            "colorscale": [
             [
              0,
              "rgb(20,44,66)"
             ],
             [
              1,
              "rgb(90,179,244)"
             ]
            ],
            "type": "histogram2dcontour"
           }
          ],
          "mesh3d": [
           {
            "colorbar": {
             "outlinewidth": 0,
             "tickcolor": "rgb(237,237,237)",
             "ticklen": 6,
             "ticks": "inside"
            },
            "type": "mesh3d"
           }
          ],
          "parcoords": [
           {
            "line": {
             "colorbar": {
              "outlinewidth": 0,
              "tickcolor": "rgb(237,237,237)",
              "ticklen": 6,
              "ticks": "inside"
             }
            },
            "type": "parcoords"
           }
          ],
          "pie": [
           {
            "automargin": true,
            "type": "pie"
           }
          ],
          "scatter": [
           {
            "fillpattern": {
             "fillmode": "overlay",
             "size": 10,
             "solidity": 0.2
            },
            "type": "scatter"
           }
          ],
          "scatter3d": [
           {
            "line": {
             "colorbar": {
              "outlinewidth": 0,
              "tickcolor": "rgb(237,237,237)",
              "ticklen": 6,
              "ticks": "inside"
             }
            },
            "marker": {
             "colorbar": {
              "outlinewidth": 0,
              "tickcolor": "rgb(237,237,237)",
              "ticklen": 6,
              "ticks": "inside"
             }
            },
            "type": "scatter3d"
           }
          ],
          "scattercarpet": [
           {
            "marker": {
             "colorbar": {
              "outlinewidth": 0,
              "tickcolor": "rgb(237,237,237)",
              "ticklen": 6,
              "ticks": "inside"
             }
            },
            "type": "scattercarpet"
           }
          ],
          "scattergeo": [
           {
            "marker": {
             "colorbar": {
              "outlinewidth": 0,
              "tickcolor": "rgb(237,237,237)",
              "ticklen": 6,
              "ticks": "inside"
             }
            },
            "type": "scattergeo"
           }
          ],
          "scattergl": [
           {
            "marker": {
             "colorbar": {
              "outlinewidth": 0,
              "tickcolor": "rgb(237,237,237)",
              "ticklen": 6,
              "ticks": "inside"
             }
            },
            "type": "scattergl"
           }
          ],
          "scattermapbox": [
           {
            "marker": {
             "colorbar": {
              "outlinewidth": 0,
              "tickcolor": "rgb(237,237,237)",
              "ticklen": 6,
              "ticks": "inside"
             }
            },
            "type": "scattermapbox"
           }
          ],
          "scatterpolar": [
           {
            "marker": {
             "colorbar": {
              "outlinewidth": 0,
              "tickcolor": "rgb(237,237,237)",
              "ticklen": 6,
              "ticks": "inside"
             }
            },
            "type": "scatterpolar"
           }
          ],
          "scatterpolargl": [
           {
            "marker": {
             "colorbar": {
              "outlinewidth": 0,
              "tickcolor": "rgb(237,237,237)",
              "ticklen": 6,
              "ticks": "inside"
             }
            },
            "type": "scatterpolargl"
           }
          ],
          "scatterternary": [
           {
            "marker": {
             "colorbar": {
              "outlinewidth": 0,
              "tickcolor": "rgb(237,237,237)",
              "ticklen": 6,
              "ticks": "inside"
             }
            },
            "type": "scatterternary"
           }
          ],
          "surface": [
           {
            "colorbar": {
             "outlinewidth": 0,
             "tickcolor": "rgb(237,237,237)",
             "ticklen": 6,
             "ticks": "inside"
            },
            "colorscale": [
             [
              0,
              "rgb(20,44,66)"
             ],
             [
              1,
              "rgb(90,179,244)"
             ]
            ],
            "type": "surface"
           }
          ],
          "table": [
           {
            "cells": {
             "fill": {
              "color": "rgb(237,237,237)"
             },
             "line": {
              "color": "white"
             }
            },
            "header": {
             "fill": {
              "color": "rgb(217,217,217)"
             },
             "line": {
              "color": "white"
             }
            },
            "type": "table"
           }
          ]
         },
         "layout": {
          "annotationdefaults": {
           "arrowhead": 0,
           "arrowwidth": 1
          },
          "autotypenumbers": "strict",
          "coloraxis": {
           "colorbar": {
            "outlinewidth": 0,
            "tickcolor": "rgb(237,237,237)",
            "ticklen": 6,
            "ticks": "inside"
           }
          },
          "colorscale": {
           "sequential": [
            [
             0,
             "rgb(20,44,66)"
            ],
            [
             1,
             "rgb(90,179,244)"
            ]
           ],
           "sequentialminus": [
            [
             0,
             "rgb(20,44,66)"
            ],
            [
             1,
             "rgb(90,179,244)"
            ]
           ]
          },
          "colorway": [
           "#F8766D",
           "#A3A500",
           "#00BF7D",
           "#00B0F6",
           "#E76BF3"
          ],
          "font": {
           "color": "rgb(51,51,51)"
          },
          "geo": {
           "bgcolor": "white",
           "lakecolor": "white",
           "landcolor": "rgb(237,237,237)",
           "showlakes": true,
           "showland": true,
           "subunitcolor": "white"
          },
          "hoverlabel": {
           "align": "left"
          },
          "hovermode": "closest",
          "paper_bgcolor": "white",
          "plot_bgcolor": "rgb(237,237,237)",
          "polar": {
           "angularaxis": {
            "gridcolor": "white",
            "linecolor": "white",
            "showgrid": true,
            "tickcolor": "rgb(51,51,51)",
            "ticks": "outside"
           },
           "bgcolor": "rgb(237,237,237)",
           "radialaxis": {
            "gridcolor": "white",
            "linecolor": "white",
            "showgrid": true,
            "tickcolor": "rgb(51,51,51)",
            "ticks": "outside"
           }
          },
          "scene": {
           "xaxis": {
            "backgroundcolor": "rgb(237,237,237)",
            "gridcolor": "white",
            "gridwidth": 2,
            "linecolor": "white",
            "showbackground": true,
            "showgrid": true,
            "tickcolor": "rgb(51,51,51)",
            "ticks": "outside",
            "zerolinecolor": "white"
           },
           "yaxis": {
            "backgroundcolor": "rgb(237,237,237)",
            "gridcolor": "white",
            "gridwidth": 2,
            "linecolor": "white",
            "showbackground": true,
            "showgrid": true,
            "tickcolor": "rgb(51,51,51)",
            "ticks": "outside",
            "zerolinecolor": "white"
           },
           "zaxis": {
            "backgroundcolor": "rgb(237,237,237)",
            "gridcolor": "white",
            "gridwidth": 2,
            "linecolor": "white",
            "showbackground": true,
            "showgrid": true,
            "tickcolor": "rgb(51,51,51)",
            "ticks": "outside",
            "zerolinecolor": "white"
           }
          },
          "shapedefaults": {
           "fillcolor": "black",
           "line": {
            "width": 0
           },
           "opacity": 0.3
          },
          "ternary": {
           "aaxis": {
            "gridcolor": "white",
            "linecolor": "white",
            "showgrid": true,
            "tickcolor": "rgb(51,51,51)",
            "ticks": "outside"
           },
           "baxis": {
            "gridcolor": "white",
            "linecolor": "white",
            "showgrid": true,
            "tickcolor": "rgb(51,51,51)",
            "ticks": "outside"
           },
           "bgcolor": "rgb(237,237,237)",
           "caxis": {
            "gridcolor": "white",
            "linecolor": "white",
            "showgrid": true,
            "tickcolor": "rgb(51,51,51)",
            "ticks": "outside"
           }
          },
          "xaxis": {
           "automargin": true,
           "gridcolor": "white",
           "linecolor": "white",
           "showgrid": true,
           "tickcolor": "rgb(51,51,51)",
           "ticks": "outside",
           "title": {
            "standoff": 15
           },
           "zerolinecolor": "white"
          },
          "yaxis": {
           "automargin": true,
           "gridcolor": "white",
           "linecolor": "white",
           "showgrid": true,
           "tickcolor": "rgb(51,51,51)",
           "ticks": "outside",
           "title": {
            "standoff": 15
           },
           "zerolinecolor": "white"
          }
         }
        },
        "title": {
         "text": "SBM derived . Comp between TCGA408_classifier, consensus "
        },
        "xaxis": {
         "showgrid": false,
         "visible": false,
         "zeroline": false
        },
        "yaxis": {
         "showgrid": false,
         "visible": false,
         "zeroline": false
        }
       }
      }
     },
     "metadata": {},
     "output_type": "display_data"
    }
   ],
   "source": [
    "K = 7\n",
    "label = f\"RawKMeans_CS_{K}_iMEV\"\n",
    "reorder_cols = [\n",
    "    \"TCGA408_classifier\",\n",
    "    # \"KMeans_labels_6\",\n",
    "    # label,\n",
    "    \"consensus\",\n",
    "]\n",
    "\n",
    "meta, sky_fig = sky.main(\n",
    "    df=vu_output.dropna(), reorder_cols=reorder_cols, title=\"{}. Comp between {} \".format(\"SBM derived \", \", \".join(reorder_cols)), retMeta=True\n",
    ")\n",
    "sky_fig.show()"
   ]
  },
  {
   "cell_type": "code",
   "execution_count": 19,
   "metadata": {},
   "outputs": [],
   "source": [
    "if 0:\n",
    "    morpheus_path = f\"{figures_path}/v3/Morpheus/v3.4 (tum)\"\n",
    "\n",
    "    morp_df = pd.read_csv(f\"{morpheus_path}/norm_mevsMut_sigmoid_v3_2_5K.gct\", sep=\"\\t\", skiprows=2)\n",
    "\n",
    "    columns = morp_df[\"id\"]\n",
    "    morp_df = morp_df.transpose()\n",
    "    morp_df.columns = columns\n",
    "    morp_df = morp_df.iloc[2:, :]\n",
    "\n",
    "    morp_df.rename_axis(\"sample\", axis=\"columns\", inplace=True)\n",
    "    reorder_cols = [\n",
    "        \"TCGA_2017_AM_remap\",\n",
    "        # \"KMeans_labels_6\",\n",
    "        \"dendrogram_cut\",\n",
    "        # \"RawKMeans_CS_7_rwd_mut\",\n",
    "        \"2019_consensus_classifier\",\n",
    "    ]\n",
    "    meta, sky_fig = sky.main(df=morp_df, reorder_cols=reorder_cols, title=\"{}. Comp between {} \".format(\"SBM derived \", \", \".join(reorder_cols)), retMeta=True)\n",
    "    sky_fig.show()"
   ]
  },
  {
   "cell_type": "markdown",
   "metadata": {},
   "source": [
    "## Visualising SBM"
   ]
  },
  {
   "cell_type": "code",
   "execution_count": 5,
   "metadata": {},
   "outputs": [],
   "source": [
    "sel_gt: GtExp = hsbm_v3.exps[\"standard_5K_6TF_hsbm\"]\n",
    "gt_g: gt.Graph = sel_gt.gt_g\n",
    "\n",
    "com_df, _ = sel_gt.hsbm_get_gt_df()\n",
    "sel_gt.graph_type = \"sbm\"\n",
    "sel_gt.nodes_df[\"node_idx\"] = com_df[\"node_idx\"]\n",
    "sel_gt.nodes_df[\"max_b\"] = com_df[\"max_b\"]\n",
    "\n",
    "sel_gt.hsbm_add_vp(mut_df=tcga_mutations_df)\n",
    "sel_gt.add_gt_prop_draw(sel_gt.gt_g, com_df=com_df, tf_list=tf_list)\n",
    "\n",
    "gt_state: gt.NestedBlockState = sel_gt.hstateObj[\"state\"]\n",
    "pv = sel_gt.hstateObj[\"pv\"]\n",
    "\n",
    "vp_dg = gt_g.degree_property_map(deg=\"total\", weight=gt_g.ep[\"weight\"])"
   ]
  },
  {
   "cell_type": "code",
   "execution_count": 23,
   "metadata": {},
   "outputs": [],
   "source": [
    "sel_gt.gt_g.set_vertex_filter(None)\n",
    "sel_gt.show_community(communities=[19, 25, 29])\n",
    "# sel_gt.gt_g.set_vertex_filter(None)"
   ]
  },
  {
   "cell_type": "code",
   "execution_count": 7,
   "metadata": {},
   "outputs": [
    {
     "ename": "KeyboardInterrupt",
     "evalue": "",
     "output_type": "error",
     "traceback": [
      "\u001b[0;31m---------------------------------------------------------------------------\u001b[0m",
      "\u001b[0;31mKeyboardInterrupt\u001b[0m                         Traceback (most recent call last)",
      "Cell \u001b[0;32mIn[7], line 1\u001b[0m\n\u001b[0;32m----> 1\u001b[0m draw_results \u001b[38;5;241m=\u001b[39m \u001b[43mgt_state\u001b[49m\u001b[38;5;241;43m.\u001b[39;49m\u001b[43mdraw\u001b[49m\u001b[43m(\u001b[49m\n\u001b[1;32m      2\u001b[0m \u001b[43m    \u001b[49m\u001b[38;5;66;43;03m# pos=pos,\u001b[39;49;00m\n\u001b[1;32m      3\u001b[0m \u001b[43m    \u001b[49m\u001b[43mlayout\u001b[49m\u001b[38;5;241;43m=\u001b[39;49m\u001b[38;5;124;43m\"\u001b[39;49m\u001b[38;5;124;43msfdp\u001b[39;49m\u001b[38;5;124;43m\"\u001b[39;49m\u001b[43m,\u001b[49m\n\u001b[1;32m      4\u001b[0m \u001b[43m    \u001b[49m\u001b[38;5;66;43;03m# vertex_shape=\"pie\",\u001b[39;49;00m\n\u001b[1;32m      5\u001b[0m \u001b[43m    \u001b[49m\u001b[38;5;66;43;03m# vertex_pie_fractions=pv,\u001b[39;49;00m\n\u001b[1;32m      6\u001b[0m \u001b[43m    \u001b[49m\u001b[43minline\u001b[49m\u001b[38;5;241;43m=\u001b[39;49m\u001b[38;5;28;43;01mFalse\u001b[39;49;00m\u001b[43m,\u001b[49m\n\u001b[1;32m      7\u001b[0m \u001b[43m    \u001b[49m\u001b[43mvertex_color\u001b[49m\u001b[38;5;241;43m=\u001b[39;49m\u001b[43mgt_g\u001b[49m\u001b[38;5;241;43m.\u001b[39;49m\u001b[43mvp\u001b[49m\u001b[43m[\u001b[49m\u001b[38;5;124;43m\"\u001b[39;49m\u001b[38;5;124;43mcolors_rank\u001b[39;49m\u001b[38;5;124;43m\"\u001b[39;49m\u001b[43m]\u001b[49m\u001b[43m,\u001b[49m\n\u001b[1;32m      8\u001b[0m \u001b[43m    \u001b[49m\u001b[38;5;66;43;03m# vertex_color=gt.prop_to_size(gt_g.vp[\"modCon_rank\"], 0, 100, power=0.1),\u001b[39;49;00m\n\u001b[1;32m      9\u001b[0m \u001b[43m    \u001b[49m\u001b[43mvertex_text\u001b[49m\u001b[38;5;241;43m=\u001b[39;49m\u001b[43mgt_g\u001b[49m\u001b[38;5;241;43m.\u001b[39;49m\u001b[43mvp\u001b[49m\u001b[38;5;241;43m.\u001b[39;49m\u001b[43mprcsd_gene\u001b[49m\u001b[43m,\u001b[49m\n\u001b[1;32m     10\u001b[0m \u001b[43m    \u001b[49m\u001b[43mdisplay_props\u001b[49m\u001b[38;5;241;43m=\u001b[39;49m\u001b[43mgt_g\u001b[49m\u001b[38;5;241;43m.\u001b[39;49m\u001b[43mvp\u001b[49m\u001b[38;5;241;43m.\u001b[39;49m\u001b[43mdisplay_prop\u001b[49m\u001b[43m,\u001b[49m\n\u001b[1;32m     11\u001b[0m \u001b[43m    \u001b[49m\u001b[38;5;66;43;03m# subsample_edgesint=int(gt_g.num_edges() * 0.5),\u001b[39;49;00m\n\u001b[1;32m     12\u001b[0m \u001b[43m    \u001b[49m\u001b[43moutput_size\u001b[49m\u001b[38;5;241;43m=\u001b[39;49m\u001b[43m(\u001b[49m\u001b[38;5;241;43m1600\u001b[39;49m\u001b[43m,\u001b[49m\u001b[43m \u001b[49m\u001b[38;5;241;43m1600\u001b[39;49m\u001b[43m)\u001b[49m\u001b[43m,\u001b[49m\u001b[43m  \u001b[49m\u001b[38;5;66;43;03m# good to visualised in Notebook\u001b[39;49;00m\n\u001b[1;32m     13\u001b[0m \u001b[43m    \u001b[49m\u001b[38;5;66;43;03m# ######## For mut_count ########\u001b[39;49;00m\n\u001b[1;32m     14\u001b[0m \u001b[43m    \u001b[49m\u001b[38;5;66;43;03m# vertex_font_size=gt.prop_to_size(gt_g.vp.is_tf, 5, 10, power=0.5),\u001b[39;49;00m\n\u001b[1;32m     15\u001b[0m \u001b[43m    \u001b[49m\u001b[38;5;66;43;03m# edge_pen_width=gt.prop_to_size(gt_g.ep.weight, 2, 10, power=1),\u001b[39;49;00m\n\u001b[1;32m     16\u001b[0m \u001b[43m    \u001b[49m\u001b[38;5;66;43;03m# vertex_size=gt.prop_to_size(vp_dg, 35, 35, power=1),\u001b[39;49;00m\n\u001b[1;32m     17\u001b[0m \u001b[43m    \u001b[49m\u001b[38;5;66;43;03m######## is TF ########\u001b[39;49;00m\n\u001b[1;32m     18\u001b[0m \u001b[43m    \u001b[49m\u001b[38;5;66;43;03m# vertex_size=gt.prop_to_size(gt_g.vp.is_tf, 10, 30, power=0.5),\u001b[39;49;00m\n\u001b[1;32m     19\u001b[0m \u001b[43m    \u001b[49m\u001b[38;5;66;43;03m# vertex_font_size=gt.prop_to_size(gt_g.vp.mut_count, 5, 20, power=1),\u001b[39;49;00m\n\u001b[1;32m     20\u001b[0m \u001b[43m    \u001b[49m\u001b[38;5;66;43;03m##### edges properties\u001b[39;49;00m\n\u001b[1;32m     21\u001b[0m \u001b[43m    \u001b[49m\u001b[38;5;66;43;03m# edge_pen_width=gt.prop_to_size(gt_g.ep.weight, 5, 10, power=0.01, log=True),\u001b[39;49;00m\n\u001b[1;32m     22\u001b[0m \u001b[43m    \u001b[49m\u001b[38;5;66;43;03m# output=f\"{figures_path}/sel_communities.pdf\",\u001b[39;49;00m\n\u001b[1;32m     23\u001b[0m \u001b[43m    \u001b[49m\u001b[38;5;66;43;03m# hide=0,\u001b[39;49;00m\n\u001b[1;32m     24\u001b[0m \u001b[43m    \u001b[49m\u001b[43mupdate_layout\u001b[49m\u001b[38;5;241;43m=\u001b[39;49m\u001b[38;5;28;43;01mFalse\u001b[39;49;00m\u001b[43m,\u001b[49m\n\u001b[1;32m     25\u001b[0m \u001b[43m    \u001b[49m\u001b[43mnodesfirst\u001b[49m\u001b[38;5;241;43m=\u001b[39;49m\u001b[38;5;28;43;01mFalse\u001b[39;49;00m\u001b[43m,\u001b[49m\n\u001b[1;32m     26\u001b[0m \u001b[43m    \u001b[49m\u001b[38;5;66;43;03m# beta=0.7,\u001b[39;49;00m\n\u001b[1;32m     27\u001b[0m \u001b[43m    \u001b[49m\u001b[38;5;66;43;03m# chord_scale=5,\u001b[39;49;00m\n\u001b[1;32m     28\u001b[0m \u001b[43m    \u001b[49m\u001b[38;5;66;43;03m# display_props_size=16,\u001b[39;49;00m\n\u001b[1;32m     29\u001b[0m \u001b[43m)\u001b[49m\n",
      "File \u001b[0;32m~/opt/anaconda3/envs/iNet_gt/lib/python3.11/site-packages/graph_tool/inference/nested_blockmodel.py:792\u001b[0m, in \u001b[0;36mNestedBlockState.draw\u001b[0;34m(self, **kwargs)\u001b[0m\n\u001b[1;32m    789\u001b[0m \u001b[38;5;250m\u001b[39m\u001b[38;5;124mr\u001b[39m\u001b[38;5;124;03m\"\"\"Convenience wrapper to :func:`~graph_tool.draw.draw_hierarchy` that\u001b[39;00m\n\u001b[1;32m    790\u001b[0m \u001b[38;5;124;03mdraws the hierarchical state.\"\"\"\u001b[39;00m\n\u001b[1;32m    791\u001b[0m \u001b[38;5;28;01mimport\u001b[39;00m \u001b[38;5;21;01mgraph_tool\u001b[39;00m\u001b[38;5;21;01m.\u001b[39;00m\u001b[38;5;21;01mdraw\u001b[39;00m\n\u001b[0;32m--> 792\u001b[0m \u001b[38;5;28;01mreturn\u001b[39;00m \u001b[43mgraph_tool\u001b[49m\u001b[38;5;241;43m.\u001b[39;49m\u001b[43mdraw\u001b[49m\u001b[38;5;241;43m.\u001b[39;49m\u001b[43mdraw_hierarchy\u001b[49m\u001b[43m(\u001b[49m\u001b[38;5;28;43mself\u001b[39;49m\u001b[43m,\u001b[49m\n\u001b[1;32m    793\u001b[0m \u001b[43m                                      \u001b[49m\u001b[43mvcmap\u001b[49m\u001b[38;5;241;43m=\u001b[39;49m\u001b[43mkwargs\u001b[49m\u001b[38;5;241;43m.\u001b[39;49m\u001b[43mpop\u001b[49m\u001b[43m(\u001b[49m\u001b[38;5;124;43m\"\u001b[39;49m\u001b[38;5;124;43mvcmap\u001b[39;49m\u001b[38;5;124;43m\"\u001b[39;49m\u001b[43m,\u001b[49m\n\u001b[1;32m    794\u001b[0m \u001b[43m                                                       \u001b[49m\u001b[43mgraph_tool\u001b[49m\u001b[38;5;241;43m.\u001b[39;49m\u001b[43mdraw\u001b[49m\u001b[38;5;241;43m.\u001b[39;49m\u001b[43mdefault_cm\u001b[49m\u001b[43m)\u001b[49m\u001b[43m,\u001b[49m\n\u001b[1;32m    795\u001b[0m \u001b[43m                                      \u001b[49m\u001b[38;5;241;43m*\u001b[39;49m\u001b[38;5;241;43m*\u001b[39;49m\u001b[43mkwargs\u001b[49m\u001b[43m)\u001b[49m\n",
      "File \u001b[0;32m~/opt/anaconda3/envs/iNet_gt/lib/python3.11/site-packages/graph_tool/draw/cairo_draw.py:2190\u001b[0m, in \u001b[0;36mdraw_hierarchy\u001b[0;34m(state, pos, layout, beta, node_weight, vprops, eprops, hvprops, heprops, subsample_edges, rel_order, deg_size, vsize_scale, hsize_scale, hshortcuts, hide, bip_aspect, empty_branches, **kwargs)\u001b[0m\n\u001b[1;32m   2187\u001b[0m     \u001b[38;5;28;01mif\u001b[39;00m \u001b[38;5;28misinstance\u001b[39m(v, PropertyMap) \u001b[38;5;129;01mand\u001b[39;00m v\u001b[38;5;241m.\u001b[39mget_graph()\u001b[38;5;241m.\u001b[39mbase \u001b[38;5;129;01mis\u001b[39;00m \u001b[38;5;129;01mnot\u001b[39;00m u\u001b[38;5;241m.\u001b[39mbase:\n\u001b[1;32m   2188\u001b[0m         kwargs[k] \u001b[38;5;241m=\u001b[39m u\u001b[38;5;241m.\u001b[39mown_property(v\u001b[38;5;241m.\u001b[39mcopy())\n\u001b[0;32m-> 2190\u001b[0m pos \u001b[38;5;241m=\u001b[39m \u001b[43mgraph_draw\u001b[49m\u001b[43m(\u001b[49m\u001b[43mu\u001b[49m\u001b[43m,\u001b[49m\u001b[43m \u001b[49m\u001b[43mpos\u001b[49m\u001b[43m,\u001b[49m\u001b[43m \u001b[49m\u001b[43mvprops\u001b[49m\u001b[38;5;241;43m=\u001b[39;49m\u001b[43mt_vprops\u001b[49m\u001b[43m,\u001b[49m\u001b[43m \u001b[49m\u001b[43meprops\u001b[49m\u001b[38;5;241;43m=\u001b[39;49m\u001b[43mt_eprops\u001b[49m\u001b[43m,\u001b[49m\u001b[43m \u001b[49m\u001b[43mvorder\u001b[49m\u001b[38;5;241;43m=\u001b[39;49m\u001b[43mtvorder\u001b[49m\u001b[43m,\u001b[49m\n\u001b[1;32m   2191\u001b[0m \u001b[43m                 \u001b[49m\u001b[38;5;241;43m*\u001b[39;49m\u001b[38;5;241;43m*\u001b[39;49m\u001b[43mkwargs\u001b[49m\u001b[43m)\u001b[49m\n\u001b[1;32m   2193\u001b[0m \u001b[38;5;28;01mif\u001b[39;00m \u001b[38;5;28misinstance\u001b[39m(pos, PropertyMap):\n\u001b[1;32m   2194\u001b[0m     t_orig\u001b[38;5;241m.\u001b[39mcopy_property(pos, tpos, g\u001b[38;5;241m=\u001b[39mu)\n",
      "File \u001b[0;32m~/opt/anaconda3/envs/iNet_gt/lib/python3.11/site-packages/graph_tool/draw/cairo_draw.py:1168\u001b[0m, in \u001b[0;36mgraph_draw\u001b[0;34m(g, pos, vprops, eprops, vorder, eorder, nodesfirst, output_size, fit_view, fit_view_ink, adjust_aspect, ink_scale, inline, inline_scale, mplfig, output, fmt, bg_color, **kwargs)\u001b[0m\n\u001b[1;32m   1166\u001b[0m     \u001b[38;5;28;01mif\u001b[39;00m ink_scale \u001b[38;5;241m!=\u001b[39m \u001b[38;5;241m1\u001b[39m:\n\u001b[1;32m   1167\u001b[0m         scale_ink(ink_scale, vprops, eprops)\n\u001b[0;32m-> 1168\u001b[0m     \u001b[38;5;28;01mreturn\u001b[39;00m \u001b[43minteractive_window\u001b[49m\u001b[43m(\u001b[49m\u001b[43mg\u001b[49m\u001b[43m,\u001b[49m\u001b[43m \u001b[49m\u001b[43mpos\u001b[49m\u001b[43m,\u001b[49m\u001b[43m \u001b[49m\u001b[43mvprops\u001b[49m\u001b[43m,\u001b[49m\u001b[43m \u001b[49m\u001b[43meprops\u001b[49m\u001b[43m,\u001b[49m\u001b[43m \u001b[49m\u001b[43mvorder\u001b[49m\u001b[43m,\u001b[49m\u001b[43m \u001b[49m\u001b[43meorder\u001b[49m\u001b[43m,\u001b[49m\n\u001b[1;32m   1169\u001b[0m \u001b[43m                              \u001b[49m\u001b[43mnodesfirst\u001b[49m\u001b[43m,\u001b[49m\u001b[43m \u001b[49m\u001b[43mgeometry\u001b[49m\u001b[38;5;241;43m=\u001b[39;49m\u001b[43moutput_size\u001b[49m\u001b[43m,\u001b[49m\n\u001b[1;32m   1170\u001b[0m \u001b[43m                              \u001b[49m\u001b[43mfit_view\u001b[49m\u001b[38;5;241;43m=\u001b[39;49m\u001b[43mfit_view\u001b[49m\u001b[43m,\u001b[49m\u001b[43m \u001b[49m\u001b[43mbg_color\u001b[49m\u001b[38;5;241;43m=\u001b[39;49m\u001b[43mbg_color\u001b[49m\u001b[43m,\u001b[49m\n\u001b[1;32m   1171\u001b[0m \u001b[43m                              \u001b[49m\u001b[38;5;241;43m*\u001b[39;49m\u001b[38;5;241;43m*\u001b[39;49m\u001b[43mkwargs\u001b[49m\u001b[43m)\u001b[49m\n\u001b[1;32m   1172\u001b[0m \u001b[38;5;28;01melse\u001b[39;00m:\n\u001b[1;32m   1173\u001b[0m     adjust_default_sizes(g, output_size, vprops, eprops)\n",
      "File \u001b[0;32m~/opt/anaconda3/envs/iNet_gt/lib/python3.11/site-packages/graph_tool/draw/gtk_draw.py:1325\u001b[0m, in \u001b[0;36minteractive_window\u001b[0;34m(g, pos, vprops, eprops, vorder, eorder, nodesfirst, geometry, update_layout, sync, main, window, return_window, **kwargs)\u001b[0m\n\u001b[1;32m   1323\u001b[0m         Gtk\u001b[38;5;241m.\u001b[39mmain_quit()\n\u001b[1;32m   1324\u001b[0m     win\u001b[38;5;241m.\u001b[39mconnect(\u001b[38;5;124m\"\u001b[39m\u001b[38;5;124mdelete_event\u001b[39m\u001b[38;5;124m\"\u001b[39m, destroy_callback)\n\u001b[0;32m-> 1325\u001b[0m     \u001b[43mGtk\u001b[49m\u001b[38;5;241;43m.\u001b[39;49m\u001b[43mmain\u001b[49m\u001b[43m(\u001b[49m\u001b[43m)\u001b[49m\n\u001b[1;32m   1326\u001b[0m \u001b[38;5;28;01melse\u001b[39;00m:\n\u001b[1;32m   1327\u001b[0m     \u001b[38;5;28;01mwhile\u001b[39;00m Gtk\u001b[38;5;241m.\u001b[39mevents_pending():\n",
      "File \u001b[0;32m~/opt/anaconda3/envs/iNet_gt/lib/python3.11/site-packages/gi/overrides/Gtk.py:1692\u001b[0m, in \u001b[0;36mmain\u001b[0;34m(*args, **kwargs)\u001b[0m\n\u001b[1;32m   1690\u001b[0m \u001b[38;5;129m@override\u001b[39m(Gtk\u001b[38;5;241m.\u001b[39mmain)\n\u001b[1;32m   1691\u001b[0m \u001b[38;5;28;01mdef\u001b[39;00m \u001b[38;5;21mmain\u001b[39m(\u001b[38;5;241m*\u001b[39margs, \u001b[38;5;241m*\u001b[39m\u001b[38;5;241m*\u001b[39mkwargs):\n\u001b[0;32m-> 1692\u001b[0m \u001b[43m    \u001b[49m\u001b[38;5;28;43;01mwith\u001b[39;49;00m\u001b[43m \u001b[49m\u001b[43mregister_sigint_fallback\u001b[49m\u001b[43m(\u001b[49m\u001b[43mGtk\u001b[49m\u001b[38;5;241;43m.\u001b[39;49m\u001b[43mmain_quit\u001b[49m\u001b[43m)\u001b[49m\u001b[43m:\u001b[49m\n\u001b[1;32m   1693\u001b[0m \u001b[43m        \u001b[49m\u001b[38;5;28;43;01mwith\u001b[39;49;00m\u001b[43m \u001b[49m\u001b[43mwakeup_on_signal\u001b[49m\u001b[43m(\u001b[49m\u001b[43m)\u001b[49m\u001b[43m:\u001b[49m\n\u001b[1;32m   1694\u001b[0m \u001b[43m            \u001b[49m\u001b[38;5;28;43;01mreturn\u001b[39;49;00m\u001b[43m \u001b[49m\u001b[43m_Gtk_main\u001b[49m\u001b[43m(\u001b[49m\u001b[38;5;241;43m*\u001b[39;49m\u001b[43margs\u001b[49m\u001b[43m,\u001b[49m\u001b[43m \u001b[49m\u001b[38;5;241;43m*\u001b[39;49m\u001b[38;5;241;43m*\u001b[39;49m\u001b[43mkwargs\u001b[49m\u001b[43m)\u001b[49m\n",
      "File \u001b[0;32m~/opt/anaconda3/envs/iNet_gt/lib/python3.11/contextlib.py:144\u001b[0m, in \u001b[0;36m_GeneratorContextManager.__exit__\u001b[0;34m(self, typ, value, traceback)\u001b[0m\n\u001b[1;32m    142\u001b[0m \u001b[38;5;28;01mif\u001b[39;00m typ \u001b[38;5;129;01mis\u001b[39;00m \u001b[38;5;28;01mNone\u001b[39;00m:\n\u001b[1;32m    143\u001b[0m     \u001b[38;5;28;01mtry\u001b[39;00m:\n\u001b[0;32m--> 144\u001b[0m         \u001b[38;5;28mnext\u001b[39m(\u001b[38;5;28mself\u001b[39m\u001b[38;5;241m.\u001b[39mgen)\n\u001b[1;32m    145\u001b[0m     \u001b[38;5;28;01mexcept\u001b[39;00m \u001b[38;5;167;01mStopIteration\u001b[39;00m:\n\u001b[1;32m    146\u001b[0m         \u001b[38;5;28;01mreturn\u001b[39;00m \u001b[38;5;28;01mFalse\u001b[39;00m\n",
      "File \u001b[0;32m~/opt/anaconda3/envs/iNet_gt/lib/python3.11/site-packages/gi/_ossighelper.py:237\u001b[0m, in \u001b[0;36mregister_sigint_fallback\u001b[0;34m(callback)\u001b[0m\n\u001b[1;32m    235\u001b[0m \u001b[38;5;28;01mfinally\u001b[39;00m:\n\u001b[1;32m    236\u001b[0m     \u001b[38;5;28;01mif\u001b[39;00m _sigint_called:\n\u001b[0;32m--> 237\u001b[0m         \u001b[43msignal\u001b[49m\u001b[38;5;241;43m.\u001b[39;49m\u001b[43mdefault_int_handler\u001b[49m\u001b[43m(\u001b[49m\u001b[43msignal\u001b[49m\u001b[38;5;241;43m.\u001b[39;49m\u001b[43mSIGINT\u001b[49m\u001b[43m,\u001b[49m\u001b[43m \u001b[49m\u001b[38;5;28;43;01mNone\u001b[39;49;00m\u001b[43m)\u001b[49m\n\u001b[1;32m    238\u001b[0m     \u001b[38;5;28;01melse\u001b[39;00m:\n\u001b[1;32m    239\u001b[0m         _callback_stack\u001b[38;5;241m.\u001b[39mpop()\n",
      "\u001b[0;31mKeyboardInterrupt\u001b[0m: "
     ]
    }
   ],
   "source": [
    "draw_results = gt_state.draw(\n",
    "    # pos=pos,\n",
    "    layout=\"sfdp\",\n",
    "    # vertex_shape=\"pie\",\n",
    "    # vertex_pie_fractions=pv,\n",
    "    inline=False,\n",
    "    vertex_color=gt_g.vp[\"colors_rank\"],\n",
    "    # vertex_color=gt.prop_to_size(gt_g.vp[\"modCon_rank\"], 0, 100, power=0.1),\n",
    "    vertex_text=gt_g.vp.prcsd_gene,\n",
    "    display_props=gt_g.vp.display_prop,\n",
    "    # subsample_edgesint=int(gt_g.num_edges() * 0.5),\n",
    "    output_size=(1600, 1600),  # good to visualised in Notebook\n",
    "    # ######## For mut_count ########\n",
    "    # vertex_font_size=gt.prop_to_size(gt_g.vp.is_tf, 5, 10, power=0.5),\n",
    "    # edge_pen_width=gt.prop_to_size(gt_g.ep.weight, 2, 10, power=1),\n",
    "    # vertex_size=gt.prop_to_size(vp_dg, 35, 35, power=1),\n",
    "    ######## is TF ########\n",
    "    # vertex_size=gt.prop_to_size(gt_g.vp.is_tf, 10, 30, power=0.5),\n",
    "    # vertex_font_size=gt.prop_to_size(gt_g.vp.mut_count, 5, 20, power=1),\n",
    "    ##### edges properties\n",
    "    # edge_pen_width=gt.prop_to_size(gt_g.ep.weight, 5, 10, power=0.01, log=True),\n",
    "    # output=f\"{figures_path}/sel_communities.pdf\",\n",
    "    # hide=0,\n",
    "    update_layout=False,\n",
    "    nodesfirst=False,\n",
    "    # beta=0.7,\n",
    "    # chord_scale=5,\n",
    "    # display_props_size=16,\n",
    ")"
   ]
  },
  {
   "cell_type": "markdown",
   "metadata": {},
   "source": [
    "# Network Analysis"
   ]
  },
  {
   "cell_type": "markdown",
   "metadata": {},
   "source": [
    "## Level membership"
   ]
  },
  {
   "cell_type": "code",
   "execution_count": null,
   "metadata": {},
   "outputs": [],
   "source": [
    "if 0:\n",
    "    fig = sel_gt.hsbm_plot_posterior()\n",
    "    fig.show()"
   ]
  }
 ],
 "metadata": {
  "kernelspec": {
   "display_name": "iNet_gt2",
   "language": "python",
   "name": "python3"
  },
  "language_info": {
   "codemirror_mode": {
    "name": "ipython",
    "version": 3
   },
   "file_extension": ".py",
   "mimetype": "text/x-python",
   "name": "python",
   "nbconvert_exporter": "python",
   "pygments_lexer": "ipython3",
   "version": "3.11.8"
  }
 },
 "nbformat": 4,
 "nbformat_minor": 2
}
