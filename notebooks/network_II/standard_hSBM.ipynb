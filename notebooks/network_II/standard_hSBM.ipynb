{
 "cells": [
  {
   "cell_type": "markdown",
   "metadata": {},
   "source": [
    "# Motivation\n",
    "\n",
    "This notebook is using the standard network generated from the non-cancerous dataset. It explores the subtypes derived of the non-tumour dataset using the standard network."
   ]
  },
  {
   "cell_type": "code",
   "execution_count": null,
   "metadata": {},
   "outputs": [],
   "source": [
    "%load_ext autoreload\n",
    "import pandas as pd\n",
    "import numpy as np\n",
    "import os\n",
    "import sys\n",
    "import igraph as ig\n",
    "import pickle\n",
    "\n",
    "import plotly.express as px\n",
    "from plotly.subplots import make_subplots\n",
    "import plotly.graph_objects as go\n",
    "import plotly.io as pio\n",
    "\n",
    "import multiprocess as mp\n",
    "\n",
    "SCRIPT_DIR = os.path.dirname(os.path.abspath(\"pcgna_processing.py\"))\n",
    "sys.path.append(os.path.dirname(SCRIPT_DIR))\n",
    "sys.path.append('/Users/vlad/Documents/Code/York/iNet_v2/src/')\n",
    "\n",
    "from NetworkAnalysis.ExperimentSet import ExperimentSet\n",
    "from NetworkAnalysis.NetworkOutput import NetworkOutput\n",
    "from NetworkAnalysis import GraphHelper as gh\n",
    "from NetworkAnalysis.utilities import sankey_consensus_plot as sky\n",
    "from NetworkAnalysis.GraphToolExp import GraphToolExperiment as GtExp\n",
    "import NetworkAnalysis.utilities.clustering as cs\n",
    "\n",
    "from NetworkAnalysis.dea import dea\n",
    "from NetworkAnalysis.dea import helpers as dea_hp\n",
    "from NetworkAnalysis.dea import gsea as gsea_hp\n",
    "\n",
    "# Gsea libraries\n",
    "import gseapy as gp\n",
    "import matplotlib.pyplot as plt\n",
    "\n",
    "import graph_tool.all as gt\n",
    "\n",
    "# %matplotlib inline\n",
    "\n",
    "pio.templates.default = \"ggplot2\"\n",
    "\n",
    "\n",
    "pool = mp.Pool(mp.cpu_count())"
   ]
  },
  {
   "cell_type": "code",
   "execution_count": null,
   "metadata": {},
   "outputs": [],
   "source": [
    "results_path = \"../../results/exp/\"\n",
    "data_base = \"../../data/\"\n",
    "base_path = \"../../results/network_II/\"\n",
    "\n",
    "figures_path = \"../network_II/standard/\"\n",
    "\n",
    "sbm_exps_path = \"sbm/\"\n",
    "\n",
    "vu_output = pd.read_csv(f\"{data_base}/metadata/VU_clustering_v3.tsv\", sep=\"\\t\", index_col=\"Sample\")\n",
    "\n",
    "tcga_mutations_df = pd.read_csv(f\"{data_base}/tumour/mutations_tcga.csv\")\n",
    "tcga_mutations_df = tcga_mutations_df[tcga_mutations_df[\"count\"] != 0].set_index(\"gene\")\n",
    "\n",
    "all_tum_tpms = pd.read_csv(f\"{data_base}/tumour/tum_TPMs_selected_genes_gc42_all_v4.tsv\", sep=\"\\t\", index_col=\"genes\")\n",
    "\n",
    "healthy_metadata = pd.read_csv(f\"{data_base}/metadata/healthy_bladder_metadata.tsv\", sep=\"\\t\", index_col=\"Sample\", dtype_backend=\"pyarrow\")\n",
    "genes_biotypes = pd.read_csv(f\"{data_base}/gc44_genes_biotypes.tsv\", sep=\"\\t\", index_col=\"genes\")\n",
    "\n",
    "# tf list\n",
    "tf_path = f\"{data_base}/metadata/TF_names_v_1.01.txt\"\n",
    "if os.path.exists(tf_path):\n",
    "    tf_list = np.genfromtxt(fname=tf_path, delimiter=\"\\t\", skip_header=1, dtype=\"str\")"
   ]
  },
  {
   "cell_type": "markdown",
   "metadata": {},
   "source": [
    "# Load experiments"
   ]
  },
  {
   "cell_type": "code",
   "execution_count": null,
   "metadata": {},
   "outputs": [],
   "source": [
    "hsbm_v3 = ExperimentSet(\"v3\", base_path=base_path, exp_path=sbm_exps_path, mut_df=tcga_mutations_df, sel_sets=None, exp_type=\"iNet\")\n",
    "\n",
    "exps = {}\n",
    "for idx, exp in enumerate(hsbm_v3.get_exps()):\n",
    "    if exp.sbm_method != \"hsbm\":  # or idx != 2:\n",
    "        continue\n",
    "\n",
    "    print(f\"Loading Graph-Tool for {exp.type}\")\n",
    "    exps[exp.type] = GtExp.from_pgcna_inet(exp, rel_path=\"\")\n",
    "    exps[exp.type].export_to_gephi(save=False)\n",
    "\n",
    "hsbm_v3.exps = exps"
   ]
  },
  {
   "cell_type": "code",
   "execution_count": null,
   "metadata": {},
   "outputs": [],
   "source": [
    "%autoreload 2\n",
    "sel_gt: GtExp = hsbm_v3.exps[\"standard_5K_6TF_hsbm\"]\n",
    "gt_state: gt.NestedBlockState = sel_gt.hstateObj[\"state\"]\n",
    "\n",
    "sel_gt.hsbm_add_vp(mut_df=tcga_mutations_df)\n",
    "\n",
    "gt_g = sel_gt.gt_g\n",
    "pv = sel_gt.hstateObj[\"pv\"]\n",
    "pmode = sel_gt.hstateObj[\"pmode\"]\n",
    "\n",
    "com_df, _ = sel_gt.hsbm_get_gt_df()\n",
    "com_df[\"max_b\"] = com_df[\"P_lvl_0\"]\n",
    "\n",
    "gt.remove_self_loops(gt_g)\n",
    "\n",
    "######## ModCon and MEVS ########\n",
    "sel_gt.gt_modCon_MEV(all_tpms=sel_gt.tpm_df)\n",
    "\n",
    "# Compute and store the nodes/edges with all the information\n",
    "sel_gt.export_to_gephi(save=False, com_df = com_df)\n",
    "sel_gt.add_gt_prop_draw(gt_g, com_df=com_df, tf_list=tf_list)\n",
    "graph_stats = sel_gt.compute_graph_stats()\n",
    "\n",
    "nodes_df: pd.DataFrame = gh.add_stats_to(nodes_df=sel_gt.nodes_df, tpm_df=sel_gt.tpm_df)"
   ]
  },
  {
   "cell_type": "code",
   "execution_count": null,
   "metadata": {},
   "outputs": [],
   "source": [
    "if 0:\n",
    "    nodes_df[[\"max_b\", \"ModCon_Rank\", \"mean\", \"median\", \"std\", \"var\", \"count\", \"ctrl_tf\"]].to_csv(figures_path + \"nodes_df_hsbm.tsv\", sep=\"\\t\")\n",
    "    # sel_gt.export_to_gephi(save=True, com_df=com_df[[\"max_b\", \"node_idx\"]])"
   ]
  },
  {
   "cell_type": "markdown",
   "metadata": {},
   "source": [
    "# Non-tum Analysis\n",
    "\n",
    "## Export to Morpheus"
   ]
  },
  {
   "cell_type": "code",
   "execution_count": null,
   "metadata": {},
   "outputs": [],
   "source": [
    "label = \"hsbm_std\"\n",
    "sel_gt.gt_modCon_MEV(all_tpms=sel_gt.tpm_df)\n",
    "cs_exp, fig_std, metrics = gh.run_clusters(sel_gt, label=\"hsbm_std\", show_figs=False)\n",
    "\n",
    "# Combine clustering with the Mevs\n",
    "cluster_cols = [f\"RawKMeans_CS_{7}_hsbm_std\"]\n",
    "mevs_cs = pd.concat([cs_exp[cluster_cols], sel_gt.mevsMut], axis=1)\n",
    "\n",
    "healthy_cols = healthy_metadata.columns\n",
    "mevs_cols = sel_gt.mevsMut.columns\n",
    "\n",
    "# Add the metadata\n",
    "comb_df = pd.concat([healthy_metadata.drop(\"Y2796_P0\"), mevs_cs], axis=1).dropna(how=\"all\")\n",
    "\n",
    "# reorder columns\n",
    "comb_df[list(healthy_cols) + list(cluster_cols) + list(mevs_cols)].T\n",
    "\n",
    "# save the file\n",
    "label = f\"{sel_gt.type}\"\n",
    "filename = f\"healthy_{label}_v3_1\"\n",
    "path = f\"{figures_path}/Morpheus/non_tum/{filename}.tsv\"\n",
    "\n",
    "comb_df.transpose().to_csv(path, sep=\"\\t\", index=True)"
   ]
  },
  {
   "cell_type": "markdown",
   "metadata": {},
   "source": [
    "## Import morpheus"
   ]
  },
  {
   "cell_type": "code",
   "execution_count": null,
   "metadata": {},
   "outputs": [],
   "source": [
    "filename = f\"healthy_{label}_v3_1\"\n",
    "\n",
    "morpheus_path = f\"{figures_path}/Morpheus/non_tum/norm_{filename}.gct\"\n",
    "\n",
    "morp_df = pd.read_csv(morpheus_path, sep=\"\\t\", skiprows=2)\n",
    "\n",
    "columns = morp_df[\"id\"]\n",
    "morp_df = morp_df.transpose()\n",
    "morp_df.columns = columns\n",
    "morp_df = morp_df.iloc[2:, :]\n",
    "\n",
    "morp_df.rename_axis(\"sample\", axis=\"columns\", inplace=True)\n",
    "# Group 4 has just one sample\n",
    "morp_df.loc[morp_df[\"dendrogram_cut\"] == \"1.00\", \"dendrogram_cut\"] = \"2.00\""
   ]
  },
  {
   "cell_type": "code",
   "execution_count": null,
   "metadata": {},
   "outputs": [],
   "source": [
    "reorder_cols = [\n",
    "    \"NHU_differentiation\",\n",
    "    \"dendrogram_cut\",\n",
    "    \"subset_name\",\n",
    "    # \"RawKMeans_CS_7_rwd_mut\",\n",
    "    \"Gender\",\n",
    "]\n",
    "meta, sky_fig = sky.main(df=morp_df.fillna(\"NA\"), reorder_cols=reorder_cols, title=\"Non-tum\", retMeta=True)\n",
    "sky_fig.update_layout(\n",
    "    font=dict(size=18),\n",
    "    # paper_bgcolor=\"rgba(0,0,0,0)\",\n",
    ")"
   ]
  },
  {
   "cell_type": "markdown",
   "metadata": {},
   "source": [
    "### Export for DEA"
   ]
  },
  {
   "cell_type": "code",
   "execution_count": null,
   "metadata": {},
   "outputs": [],
   "source": [
    "morp_df.to_csv(f\"{figures_path}/Morpheus/non_tum/prcsd_morpheus_cs_7.tsv\", sep=\"\\t\", index_label=\"sample\")\n",
    "\n",
    "# Export to show the communities on the Volcano plot\n",
    "_ = gh.export_top_modCon_genes(nodes_df=sel_gt.nodes_df, path=figures_path, top_n=100, metric=\"median\")\n",
    "modConRank_genes = gh.export_top_modCon_genes(nodes_df=sel_gt.nodes_df, path=figures_path, top_n=100, metric=\"ModCon_Rank\")"
   ]
  },
  {
   "cell_type": "markdown",
   "metadata": {},
   "source": [
    "### Export for cluster tree"
   ]
  },
  {
   "cell_type": "code",
   "execution_count": null,
   "metadata": {},
   "outputs": [],
   "source": [
    "cluster_labels = sel_gt.nodes_df[[\"P_lvl_0\", \"P_lvl_1\", \"P_lvl_2\", \"P_lvl_3\", \"P_lvl_4\"]].copy(deep=True)\n",
    "cluster_labels.to_csv(f\"{figures_path}/cluster_tree/cluster_tree_std_v3.csv\")\n",
    "\n",
    "# reverse the columns\n",
    "cluster_labels.columns = cluster_labels.columns[::-1]\n",
    "cluster_labels.to_csv(f\"{figures_path}/cluster_tree/cluster_tree_std_v3_reverse.csv\")"
   ]
  },
  {
   "cell_type": "markdown",
   "metadata": {},
   "source": [
    "## DEA"
   ]
  },
  {
   "cell_type": "markdown",
   "metadata": {},
   "source": [
    "### P0 Split"
   ]
  },
  {
   "cell_type": "code",
   "execution_count": null,
   "metadata": {},
   "outputs": [],
   "source": [
    "dea_path = \"../../data/non_cancerous/dea/norm_splits/\"\n",
    "\n",
    "f_male_diff_small = \"sleuth_5.0_6.0_v3_vulcano_labels.tsv\"\n",
    "f_male_diff_large = \"sleuth_5.0_7.0_v3_vulcano_labels.tsv\"\n",
    "f_small_large_diff = \"sleuth_6.0_7.0_v3_vulcano_labels.tsv\"\n",
    "f_p0_comp = \"sleuth_P0_small_P0_large_vulcano_labels.tsv\"\n",
    "\n",
    "markers = modConRank_genes.to_dict(\"list\")"
   ]
  },
  {
   "cell_type": "code",
   "execution_count": null,
   "metadata": {},
   "outputs": [],
   "source": [
    "sel_coms = [19, 22, 25, 29]\n",
    "filter_dict = {f\"{key}_ModCon\": markers[key] for key in sel_coms}\n",
    "\n",
    "dmy = {\n",
    "    \"text\": [\n",
    "        \"COX7B\",\n",
    "        \"ENSG00000232035\",\n",
    "        \"RPL36A-HNRNPH2\",\n",
    "        \"ENSG00000249731\",\n",
    "        \"ENSG00000266340\",\n",
    "        \"GASK1A\",\n",
    "        \"IGFL4\",\n",
    "        \"MAB21L3\",\n",
    "        \"SNHG25\",\n",
    "        \"ENSG00000262580\",\n",
    "        \"SGSH\",\n",
    "        \"ENSG00000266340\",\n",
    "        \"COX7B\",\n",
    "        \"ARIH1\",\n",
    "        \"MKKS\",\n",
    "        \"SULRT1A3\",\n",
    "        \"ENSG00000260772\",\n",
    "        \"LINC01001\",\n",
    "        \"AKTIP\",\n",
    "        # Righ hand side\n",
    "        \"ENSG00000285043\",\n",
    "        \"BCL10-AS1\",\n",
    "        \"ENSG00000278456\",\n",
    "        \"ENSG00000288934\",\n",
    "        \"ENSG00000289293\",\n",
    "        \"ENSG00000288545\",\n",
    "        \"PICART1\",\n",
    "        \"DNAJB14\",\n",
    "        \"ADM\",\n",
    "        \"IL1RL2\",\n",
    "        \"IVL\",\n",
    "        \"COQ8B\",\n",
    "        \"ALDH1A3\",\n",
    "        \"MAP4K4\",\n",
    "    ]\n",
    "}\n",
    "filter_dict.update(dmy)\n",
    "\n",
    "volcano = dea.volcano(f_p0_comp, base_path=dea_path, known_markers=False, markers=filter_dict)\n",
    "\n",
    "\n",
    "# volcano = dea_hp.toggle_legend(volcano, kept_traces=[\"0\", \"Point(s) of interest\", \"Dataset\"])\n",
    "volcano.add_annotation(text=\"P0 large\", x=-4, y=8, showarrow=False, font=dict(size=20, color=\"#177c7a\"))\n",
    "volcano.add_annotation(text=\"P0 small\", x=2, y=8, showarrow=False, font=dict(size=20, color=\"#177c7a\"))\n",
    "\n",
    "volcano = volcano.update_layout(\n",
    "    title=\"\",\n",
    "    legend=dict(\n",
    "        orientation=\"h\",\n",
    "        yanchor=\"middle\",\n",
    "        xanchor=\"center\",\n",
    "        y=0.98,\n",
    "        x=0.6,\n",
    "        bgcolor=\"rgba(0,0,0,0)\",\n",
    "        font=dict(size=17, color=\"#003366\"),\n",
    "    ),\n",
    "    xaxis_tickfont_size=20,\n",
    "    yaxis_tickfont_size=20,\n",
    "    xaxis_title_font_size=25,\n",
    "    yaxis_title_font_size=25,\n",
    "    font=dict(size=16),\n",
    "    height=1100,\n",
    "    # height=900,\n",
    ")\n",
    "volcano.show()"
   ]
  },
  {
   "cell_type": "markdown",
   "metadata": {},
   "source": [
    "### Diff split"
   ]
  },
  {
   "cell_type": "code",
   "execution_count": null,
   "metadata": {},
   "outputs": [],
   "source": [
    "sel_coms = [19, 1, 29, 25, 22]\n",
    "filter_dict = {f\"{key}_ModCon\": markers[key] for key in sel_coms}\n",
    "\n",
    "dmy = {\n",
    "    \"text\": [\n",
    "        \"ENSG00000288934\",\n",
    "        \"PPP1R12A-AS2\",\n",
    "        \"RBM14-RBM4\",\n",
    "        \"SPAAR\",\n",
    "        \"C7orf25\",\n",
    "        \"COQ8B\",\n",
    "        \"ENSG00000273308\",\n",
    "        \"ENSG00000255439\",\n",
    "        \"ENSG00000223837\",\n",
    "        \"ENSG00000263325\",\n",
    "        \"ENSG00000237870\",\n",
    "        # For right side\n",
    "        \"ENSG00000266340\",\n",
    "        \"ENSG00000286147\",\n",
    "        \"ENSG00000286834\",\n",
    "        \"COX7B\",\n",
    "        \"DNM1\",\n",
    "        \"ENSG00000232035\",\n",
    "        \"RPL36A-HNRNPH2\",\n",
    "        \"TALAM1\",\n",
    "        \"ENSG00000249731\",\n",
    "        \"SNRPD1\",\n",
    "        \"IGFL4\",\n",
    "        \"MAB21L3\",\n",
    "        \"LINC01001\",\n",
    "    ]\n",
    "}\n",
    "filter_dict.update(dmy)\n",
    "\n",
    "\n",
    "volcano = dea.volcano(f_small_large_diff, base_path=dea_path, known_markers=False, markers=filter_dict)\n",
    "\n",
    "# volcano = dea_hp.toggle_legend(volcano, kept_traces=[\"0\", \"Point(s) of interest\", \"Dataset\"])\n",
    "volcano.add_annotation(text=\"Abs-Ca large\", x=-3, y=19, showarrow=False, font=dict(size=20, color=\"#177c7a\"))\n",
    "volcano.add_annotation(text=\"Abs-Ca small\", x=5, y=19, showarrow=False, font=dict(size=20, color=\"#177c7a\"))\n",
    "\n",
    "volcano = volcano.update_layout(\n",
    "    title=\"\",\n",
    "    legend=dict(\n",
    "        orientation=\"h\",\n",
    "        yanchor=\"middle\",\n",
    "        xanchor=\"center\",\n",
    "        y=0.98,\n",
    "        x=0.5,\n",
    "        bgcolor=\"rgba(0,0,0,0)\",\n",
    "        font=dict(size=17, color=\"#003366\"),\n",
    "    ),\n",
    "    xaxis_tickfont_size=20,\n",
    "    yaxis_tickfont_size=20,\n",
    "    xaxis_title_font_size=25,\n",
    "    yaxis_title_font_size=25,\n",
    "    font=dict(size=16),\n",
    "    height=1100,\n",
    ")\n",
    "volcano.show()"
   ]
  },
  {
   "cell_type": "markdown",
   "metadata": {},
   "source": [
    "## Male specific"
   ]
  },
  {
   "cell_type": "code",
   "execution_count": null,
   "metadata": {},
   "outputs": [],
   "source": [
    "config = {\"file_1\": f_male_diff_large, \"file_2\": f_male_diff_small, \"ref_x\": \"max\", \"ref_y\": \"min\"}\n",
    "pi, pi_df = gsea_hp.rank_pi_vals(\"maleSpecific\", config, dea_path=dea_path, custom_points={}, show_known_markers=False)\n",
    "# pi.show()"
   ]
  },
  {
   "cell_type": "markdown",
   "metadata": {},
   "source": [
    "## GSEA"
   ]
  },
  {
   "cell_type": "code",
   "execution_count": null,
   "metadata": {},
   "outputs": [],
   "source": [
    "import gseapy as gp\n",
    "\n",
    "msigdb_hallmarks = \"../../data/GSEA/msigDB/h.all.v2023.2.Hs.symbols.gmt\"\n",
    "msigdb_reactome = \"../../data/GSEA/msigDB/c2.cp.reactome.v2023.2.Hs.symbols.gmt\"\n",
    "msigdb_tf = \"../../data/GSEA/msigDB/c3.tft.v2023.2.Hs.symbols.gmt\"\n",
    "msigdb_cancer = \"../../data/GSEA/msigDB/c4.all.v2023.2.Hs.symbols.gmt\"\n",
    "msigdb_onco_sig = \"../../data/GSEA/msigDB/c6.all.v2023.2.Hs.symbols.gmt\"\n",
    "msigdb_all = \"../../data/GSEA/msigDB/msigdb.v2023.2.Hs.symbols.gmt\"\n",
    "\n",
    "databases = {\n",
    "    \"hallmark\": {\"path\": msigdb_hallmarks},\n",
    "    # \"onco_sig\": {\"path\": msigdb_onco_sig},\n",
    "    \"reactome\": {\"path\": msigdb_reactome},\n",
    "    ### Un-comment to run the following pathways\n",
    "    # \"tf\": { \"path\": msigdb_tf },\n",
    "    # \"can_path\": { \"path\": msigdb_cancer }, #canonical pathway\n",
    "    # \"all\": { \"db\": msigdb_all },\n",
    "}\n",
    "\n",
    "runs_config = {\"male_specific\": {\"file_1\": f_male_diff_large, \"file_2\": f_male_diff_small, \"ref_x\": \"max\", \"ref_y\": \"min\"}}"
   ]
  },
  {
   "cell_type": "code",
   "execution_count": null,
   "metadata": {},
   "outputs": [],
   "source": [
    "if 0:\n",
    "    new_runs = {}\n",
    "    version = \"v1\"\n",
    "    for subtype, config in runs_config.items():\n",
    "        print(f\"##### {subtype} #####\")\n",
    "\n",
    "        path = f\"{figures_path}/GSEA/{version}/{subtype}\"\n",
    "\n",
    "        # Add the path\n",
    "        config[\"path\"] = path\n",
    "\n",
    "        # Run the Pi value - the saved Pi plot is a check for selecting the right quadrant\n",
    "        config[\"pi\"], config[\"pi_df\"] = gsea_hp.rank_pi_vals(subtype, config, dea_path=dea_path, custom_points={})\n",
    "\n",
    "        # Run the GSEA\n",
    "        gsea_res = gsea_hp.run_gsea(subtype, config, databases=databases)\n",
    "\n",
    "        # Merging two dict, requires python >3.5\n",
    "        new_runs[subtype] = {**config, **gsea_res}"
   ]
  },
  {
   "cell_type": "code",
   "execution_count": null,
   "metadata": {},
   "outputs": [],
   "source": [
    "if 0:\n",
    "    for subtype, config in new_runs.items():\n",
    "\n",
    "        for key, value in databases.items():\n",
    "            print(f\"{subtype} --> {key}\")\n",
    "            rank_gsea = config[key]\n",
    "            base_path = config[\"path\"]\n",
    "            _, _ = gsea_hp.plot_top_gsea(res=rank_gsea, path=base_path, num=10, label=f\"{subtype}_{key}\", database=key)\n",
    "\n",
    "            # brea"
   ]
  },
  {
   "cell_type": "markdown",
   "metadata": {},
   "source": [
    "## GSEA using the DEA plots"
   ]
  },
  {
   "cell_type": "code",
   "execution_count": null,
   "metadata": {},
   "outputs": [],
   "source": [
    "dea_absCa = pd.read_csv(f\"{dea_path}/{f_small_large_diff}\", sep=\"\\t\", index_col=\"genes\")\n",
    "dea_p0 = pd.read_csv(f\"{dea_path}/{f_p0_comp}\", sep=\"\\t\", index_col=\"genes\")\n",
    "\n",
    "dea_abs_large, dea_abs_small = dea_absCa.copy(deep=True), dea_absCa.copy(deep=True)\n",
    "dea_p0_large, dea_p0_small = dea_p0.copy(deep=True), dea_p0.copy(deep=True)\n",
    "\n",
    "# # Abs large\n",
    "dea_abs_large[\"rank\"] = dea_absCa[\"pi\"].rank(ascending=True, method=\"first\")\n",
    "dea_abs_small[\"rank\"] = dea_absCa[\"pi\"].rank(ascending=False, method=\"first\")\n",
    "# P0\n",
    "dea_p0_large[\"rank\"] = dea_p0[\"pi\"].rank(ascending=True, method=\"first\")\n",
    "dea_p0_small[\"rank\"] = dea_p0[\"pi\"].rank(ascending=False, method=\"first\")\n",
    "\n",
    "configs = {\n",
    "    \"abs_large\": dea_abs_large,\n",
    "    \"abs_small\": dea_abs_small,\n",
    "    \"p0_large\": dea_p0_small,\n",
    "    \"p0_small\": dea_p0_large,\n",
    "}\n",
    "\n",
    "version = \"v2\"\n",
    "path = f\"{figures_path}/GSEA/volcano/{version}\""
   ]
  },
  {
   "cell_type": "code",
   "execution_count": null,
   "metadata": {},
   "outputs": [],
   "source": [
    "results = {}\n",
    "subtype = \"dea_volcano\"\n",
    "for exp, dmy_df in configs.items():\n",
    "    df = dmy_df.reset_index(names=\"genes\")[[\"genes\", \"rank\"]]\n",
    "    base_path = f\"{figures_path}/GSEA/volcano/{version}/{exp}/\"\n",
    "    for key, value in databases.items():\n",
    "        # database\n",
    "        print(f\"--> {key}\")\n",
    "        gsea_path = f\"{base_path}/{key}/\"\n",
    "        rank_gsea = gp.prerank(\n",
    "            rnk=df,\n",
    "            gene_sets=value[\"path\"],\n",
    "            permutation_num=1000,\n",
    "            outdir=gsea_path,\n",
    "            format=\"png\",\n",
    "            no_plot=False,\n",
    "            ascending=False,\n",
    "            seed=20,\n",
    "            graph_num=10,\n",
    "            threads=12,\n",
    "        )  # Change graph_num if you want to produce enrichment plots\n",
    "\n",
    "        value[\"res\"] = rank_gsea\n",
    "\n",
    "        # Plot summaries plot\n",
    "        try:\n",
    "            _ = gsea_hp.plot_enrichr_summary(rank_gsea.res2d, label=key, savePath=gsea_path)\n",
    "            _, _ = gsea_hp.plot_top_gsea(res=rank_gsea, path=base_path, num=10, label=f\"{exp}_{key}\", database=key)\n",
    "        except:\n",
    "            print(f\"No enrichment >0.05 for {exp} - {key}\")\n",
    "\n",
    "        results[key] = rank_gsea"
   ]
  },
  {
   "cell_type": "markdown",
   "metadata": {},
   "source": [
    "# Exploring the Ensembl genes"
   ]
  },
  {
   "cell_type": "code",
   "execution_count": null,
   "metadata": {},
   "outputs": [],
   "source": [
    "sel_coms = [19, 1, 29, 25, 2]\n",
    "genes = nodes_df.loc[nodes_df[\"max_b\"].isin(sel_coms)][\"Gene\"].to_list()"
   ]
  },
  {
   "cell_type": "code",
   "execution_count": null,
   "metadata": {},
   "outputs": [],
   "source": [
    "genes = [\n",
    "    \"ENSG00000288934\",\n",
    "    \"PPP1R12A-AS2\",\n",
    "    \"RBM14-RBM4\",\n",
    "    \"SPAAR\",\n",
    "    \"C7orf25\",\n",
    "    \"COQ8B\",\n",
    "    \"ENSG00000273308\",\n",
    "    \"ENSG00000255439\",\n",
    "    \"ENSG00000223837\",\n",
    "    \"ENSG00000263325\",\n",
    "    \"ENSG00000237870\",\n",
    "    # For right side\n",
    "    \"ENSG00000266340\",\n",
    "    \"ENSG00000286147\",\n",
    "    \"ENSG00000286834\",\n",
    "    \"COX7B\",\n",
    "    \"DNM1\",\n",
    "    \"ENSG00000232035\",\n",
    "    \"RPL36A-HNRNPH2\",\n",
    "    \"TALAM1\",\n",
    "    \"ENSG00000249731\",\n",
    "    \"SNRPD1\",\n",
    "    \"IGFL4\",\n",
    "    \"MAB21L3\",\n",
    "    \"LINC01001\",\n",
    "]"
   ]
  },
  {
   "cell_type": "code",
   "execution_count": null,
   "metadata": {},
   "outputs": [],
   "source": [
    "dmy_df = genes_biotypes.loc[genes_biotypes.index.isin(genes)]\n",
    "# dmy_df = dmy_df.loc[dmy_df[\"gene_type\"] != \"protein_coding\"]\n",
    "dmy_df"
   ]
  },
  {
   "cell_type": "code",
   "execution_count": null,
   "metadata": {},
   "outputs": [],
   "source": [
    "genes_biotypes"
   ]
  },
  {
   "cell_type": "markdown",
   "metadata": {},
   "source": [
    "# MIBC Analysis\n",
    "\n",
    "## Export to Morpheus"
   ]
  },
  {
   "cell_type": "code",
   "execution_count": null,
   "metadata": {},
   "outputs": [],
   "source": [
    "######## Tissue type based on Community from healthy ########\n",
    "comm_meta = {\n",
    "    \"diff\": [8, 20, 22, 24, 25, 26, 27, 28, 30, 31, 32, 33],\n",
    "    \"p0\": [0, 1, 2, 3, 4, 5, 6, 7, 16, 17],\n",
    "    \"undiff\": [9, 10, 11, 12, 13, 14, 15, 21, 34],\n",
    "    \"p0_ud\": [18],\n",
    "    \"misfit\": [19, 29],\n",
    "}\n",
    "\n",
    "comm_meta_df = []\n",
    "for key, comunities in comm_meta.items():\n",
    "    for com in comunities:\n",
    "        comm_meta_df.append((key, f\"Com_{com}\", com))\n",
    "diff_type = pd.DataFrame(comm_meta_df, columns=[\"Diff Type\", \"Com\", \"Com_idx\"]).sort_values(by=[\"Com_idx\"]).set_index(\"Com\")"
   ]
  },
  {
   "cell_type": "code",
   "execution_count": null,
   "metadata": {},
   "outputs": [],
   "source": [
    "# # from observations\n",
    "# Samples which were clustered in their single group\n",
    "samples_to_remove = [\"TCGA-5N-A9KI\", \"TCGA-DK-A2HX\", \"TCGA-XF-A8HD\", \"TCGA-G2-A2EF\"]\n",
    "\n",
    "# Add the samples thare grouped in 2 (cut - 11)\n",
    "samples_to_remove.extend([\"TCGA-XF-AAN0\", \"TCGA-4Z-AA7Q\"])\n",
    "\n",
    "# Add another sample which was an outlier in 3.2\n",
    "samples_to_remove.extend([\"TCGA-FD-A3SR\", \"TCGA-CF-A9FH\"])\n",
    "\n",
    "# pre-processing\n",
    "f_tum = all_tum_tpms.drop(columns=samples_to_remove)"
   ]
  },
  {
   "cell_type": "code",
   "execution_count": null,
   "metadata": {},
   "outputs": [],
   "source": [
    "sel_gt.gt_modCon_MEV(all_tpms=f_tum, is_imev=True, com_df=com_df)\n",
    "cs_exp, cs_figs, metrics_figs = gh.run_clusters(sel_gt, label=\"iMEV\", show_figs=True, norm=False)\n",
    "\n",
    "settings = {\n",
    "    \"cs_num_1\": 5,\n",
    "    \"cs_num_2\": 7,\n",
    "    \"sel_mut\": pd.DataFrame(),\n",
    "    \"vu_output\": vu_output,\n",
    "    \"cs_exp\": cs_exp,\n",
    "    \"figures_path\": f\"{figures_path}/Morpheus/tum/\",\n",
    "    \"label_col_cs\": \"iMEV\",\n",
    "    \"filename\": f\"tum_{sel_gt.type}_iMev_3.3\",\n",
    "    \"diff_type\": diff_type,\n",
    "    # 3.0 - with all the samples\n",
    "    # 3.1 - without the samples that are in a single group\n",
    "    # 3.2 - without the samples that are in pair\n",
    "    # 3.3 - extra sample as an outliar\n",
    "}\n",
    "\n",
    "tum_morph = sel_gt.export_morpheus(settings)"
   ]
  },
  {
   "cell_type": "code",
   "execution_count": null,
   "metadata": {},
   "outputs": [],
   "source": [
    "K = 7\n",
    "label = f\"RawKMeans_CS_{K}_iMEV\"\n",
    "reorder_cols = [\n",
    "    \"2019_consensus_classifier\",\n",
    "    # \"KMeans_labels_6\",\n",
    "    \"TCGA408_classifier\",\n",
    "    # label,\n",
    "]\n",
    "\n",
    "meta, sky_fig = sky.main(\n",
    "    df=vu_output.dropna(), reorder_cols=reorder_cols, title=\"{}. Comp between {} \".format(\"SBM derived \", \", \".join(reorder_cols)), retMeta=True\n",
    ")\n",
    "sky_fig.show()"
   ]
  },
  {
   "cell_type": "code",
   "execution_count": null,
   "metadata": {},
   "outputs": [],
   "source": [
    "if 1:\n",
    "    morpheus_path = f\"{figures_path}/Morpheus/tum/\"\n",
    "\n",
    "    morp_df = pd.read_csv(f\"{morpheus_path}/norm_tum_standard_5K_6TF_hsbm_iMev_3.3.gct\", sep=\"\\t\", skiprows=2)\n",
    "\n",
    "    columns = morp_df[\"id\"]\n",
    "    morp_df = morp_df.transpose()\n",
    "    morp_df.columns = columns\n",
    "    morp_df = morp_df.iloc[2:, :]\n",
    "\n",
    "    morp_df.rename_axis(\"sample\", axis=\"columns\", inplace=True)\n",
    "    reorder_cols = [\n",
    "        \"TCGA\",\n",
    "        # \"KMeans_labels_6\",\n",
    "        \"dendrogram_cut\",\n",
    "        # \"RawKMeans_CS_7_rwd_mut\",\n",
    "        \"Consensus\",\n",
    "    ]\n",
    "    meta, sky_fig = sky.main(df=morp_df, reorder_cols=reorder_cols, title=\"{}. Comp between {} \".format(\"SBM derived \", \", \".join(reorder_cols)), retMeta=True)\n",
    "    sky_fig.show()"
   ]
  },
  {
   "cell_type": "markdown",
   "metadata": {},
   "source": [
    "## Visualising SBM"
   ]
  },
  {
   "cell_type": "code",
   "execution_count": null,
   "metadata": {},
   "outputs": [],
   "source": [
    "sel_gt: GtExp = hsbm_v3.exps[\"standard_5K_6TF_hsbm\"]\n",
    "gt_g: gt.Graph = sel_gt.gt_g\n",
    "\n",
    "com_df, _ = sel_gt.hsbm_get_gt_df()\n",
    "sel_gt.graph_type = \"sbm\"\n",
    "sel_gt.nodes_df[\"node_idx\"] = com_df[\"node_idx\"]\n",
    "sel_gt.nodes_df[\"max_b\"] = com_df[\"max_b\"]\n",
    "\n",
    "sel_gt.hsbm_add_vp(mut_df=tcga_mutations_df)\n",
    "sel_gt.add_gt_prop_draw(sel_gt.gt_g, com_df=com_df, tf_list=tf_list)\n",
    "\n",
    "gt_state: gt.NestedBlockState = sel_gt.hstateObj[\"state\"]\n",
    "pv = sel_gt.hstateObj[\"pv\"]\n",
    "\n",
    "vp_dg = gt_g.degree_property_map(deg=\"total\", weight=gt_g.ep[\"weight\"])"
   ]
  },
  {
   "cell_type": "code",
   "execution_count": null,
   "metadata": {},
   "outputs": [],
   "source": [
    "sel_gt.gt_g.set_vertex_filter(None)\n",
    "sel_gt.show_comms(communities=[7])\n",
    "# sel_gt.gt_g.set_vertex_filter(None)"
   ]
  },
  {
   "cell_type": "code",
   "execution_count": null,
   "metadata": {},
   "outputs": [],
   "source": [
    "draw_results = gt_state.draw(\n",
    "    # pos=pos,\n",
    "    layout=\"sfdp\",\n",
    "    # vertex_shape=\"pie\",\n",
    "    # vertex_pie_fractions=pv,\n",
    "    inline=False,\n",
    "    vertex_color=gt_g.vp[\"colors_rank\"],\n",
    "    # vertex_color=gt.prop_to_size(gt_g.vp[\"modCon_rank\"], 0, 100, power=0.1),\n",
    "    vertex_text=gt_g.vp.prcsd_gene,\n",
    "    display_props=gt_g.vp.display_prop,\n",
    "    # subsample_edgesint=int(gt_g.num_edges() * 0.5),\n",
    "    output_size=(1800, 1800),  # good to visualised in Notebook\n",
    "    # ######## For mut_count ########\n",
    "    # vertex_font_size=gt.prop_to_size(gt_g.vp.is_tf, 5, 10, power=0.5),\n",
    "    # edge_pen_width=gt.prop_to_size(gt_g.ep.weight, 2, 10, power=1),\n",
    "    # vertex_size=gt.prop_to_size(vp_dg, 35, 35, power=1),\n",
    "    ######## is TF ########\n",
    "    # vertex_size=gt.prop_to_size(gt_g.vp.is_tf, 10, 30, power=0.5),\n",
    "    # vertex_font_size=gt.prop_to_size(gt_g.vp.mut_count, 5, 20, power=1),\n",
    "    ##### edges properties\n",
    "    # edge_pen_width=gt.prop_to_size(gt_g.ep.weight, 5, 10, power=0.01, log=True),\n",
    "    # output=f\"{figures_path}/sel_communities.pdf\",\n",
    "    # hide=0,\n",
    "    nodesfirst=False,\n",
    "    # beta=0.7,\n",
    "    # chord_scale=5,\n",
    "    # display_props_size=16,\n",
    ")"
   ]
  },
  {
   "cell_type": "code",
   "execution_count": null,
   "metadata": {},
   "outputs": [],
   "source": [
    "com_7 = sel_gt.nodes_df[sel_gt.nodes_df[\"max_b\"] == 7][[\"Gene\", \"count\", \"TF\", \"max_b\", \"ModCon_Rank\", \"mean\", \"median\", \"std\", \"var\"]]\n",
    "\n",
    "px.scatter(com_7, x=\"Gene\", y=\"median\", size=\"count\")"
   ]
  },
  {
   "cell_type": "markdown",
   "metadata": {},
   "source": [
    "# Network Analysis"
   ]
  },
  {
   "cell_type": "markdown",
   "metadata": {},
   "source": [
    "## Level membership"
   ]
  },
  {
   "cell_type": "code",
   "execution_count": null,
   "metadata": {},
   "outputs": [],
   "source": [
    "if 0:\n",
    "    fig = sel_gt.hsbm_plot_posterior()\n",
    "    fig.show()"
   ]
  }
 ],
 "metadata": {
  "kernelspec": {
   "display_name": "iNet_gt2",
   "language": "python",
   "name": "python3"
  },
  "language_info": {
   "codemirror_mode": {
    "name": "ipython",
    "version": 3
   },
   "file_extension": ".py",
   "mimetype": "text/x-python",
   "name": "python",
   "nbconvert_exporter": "python",
   "pygments_lexer": "ipython3",
   "version": "3.11.8"
  }
 },
 "nbformat": 4,
 "nbformat_minor": 2
}
