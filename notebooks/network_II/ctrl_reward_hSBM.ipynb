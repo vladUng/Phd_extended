{
 "cells": [
  {
   "cell_type": "markdown",
   "metadata": {},
   "source": [
    "# Motivation\n",
    "\n",
    "This notebook is complementing the work in reward hSBM, particularly the work on analysing the highly connected genes.\n",
    "\n",
    "Here we focused on understanding if the 122 genes which are the highest mutated genes, with the highest degree values and are also separated in smalller communities. These are all found in the reward network.\n",
    "\n",
    "The notebook tries to understand if the 122 genes are not randomn by using controls."
   ]
  },
  {
   "cell_type": "code",
   "execution_count": 1,
   "metadata": {},
   "outputs": [
    {
     "name": "stdout",
     "output_type": "stream",
     "text": [
      "The autoreload extension is already loaded. To reload it, use:\n",
      "  %reload_ext autoreload\n"
     ]
    }
   ],
   "source": [
    "%load_ext autoreload\n",
    "import pandas as pd\n",
    "import numpy as np\n",
    "import os\n",
    "import sys\n",
    "import igraph as ig\n",
    "import pickle\n",
    "\n",
    "import plotly.express as px\n",
    "from plotly.subplots import make_subplots\n",
    "import plotly.graph_objects as go\n",
    "import plotly.io as pio\n",
    "\n",
    "import multiprocess as mp\n",
    "\n",
    "SCRIPT_DIR = os.path.dirname(os.path.abspath(\"pcgna_processing.py\"))\n",
    "sys.path.append(os.path.dirname(SCRIPT_DIR))\n",
    "sys.path.append('/Users/vlad/Documents/Code/York/iNet_v2/src/')\n",
    "\n",
    "from NetworkAnalysis.ExperimentSet import ExperimentSet\n",
    "from NetworkAnalysis.NetworkComp import NetworkComp\n",
    "from NetworkAnalysis import GraphHelper as gh\n",
    "from NetworkAnalysis.utilities import sankey_consensus_plot as sky\n",
    "from NetworkAnalysis.utilities.helpers import save_fig\n",
    "from NetworkAnalysis.utilities.modelling import survival_plot, survival_comp\n",
    "from NetworkAnalysis.GraphToolExp import GraphToolExperiment as GtExp\n",
    "import NetworkAnalysis.utilities.clustering as cs\n",
    "\n",
    "from NetworkAnalysis.dea import dea\n",
    "from NetworkAnalysis.dea import helpers as dea_hp\n",
    "from NetworkAnalysis.dea import gsea as gsea_hp\n",
    "\n",
    "# Gsea libraries\n",
    "import gseapy as gp\n",
    "import matplotlib.pyplot as plt\n",
    "\n",
    "import graph_tool.all as gt\n",
    "\n",
    "# %matplotlib inline\n",
    "\n",
    "pio.templates.default = \"ggplot2\"\n",
    "\n",
    "\n",
    "pool = mp.Pool(mp.cpu_count())"
   ]
  },
  {
   "cell_type": "code",
   "execution_count": 2,
   "metadata": {},
   "outputs": [],
   "source": [
    "results_path = \"../../results/exp/\"\n",
    "data_base = \"../../data/\"\n",
    "base_path = \"../../results/network_II/\"\n",
    "\n",
    "figures_path = \"../network_II/reward/\"\n",
    "\n",
    "sbm_exps_path = \"sbm/\"\n",
    "control_exps_path = \"mut_control_v3_2/\"\n",
    "\n",
    "vu_output = pd.read_csv(f\"{data_base}/metadata/VU_clustering_v3.tsv\", sep=\"\\t\", index_col=\"Sample\")\n",
    "\n",
    "tcga_mutations_df = pd.read_csv(f\"{data_base}/tumour/mutations_tcga.csv\")\n",
    "tcga_mutations_df = tcga_mutations_df[tcga_mutations_df[\"count\"] != 0].set_index(\"gene\")\n",
    "\n",
    "all_tum_tpms = pd.read_csv(f\"{data_base}/tumour/tum_TPMs_selected_genes_gc42_all_v4.tsv\", sep=\"\\t\", index_col=\"genes\")\n",
    "\n",
    "\n",
    "healthy_metadata = pd.read_csv(f\"{data_base}/metadata/healthy_bladder_metadata.tsv\", sep=\"\\t\", index_col=\"Sample\", dtype_backend=\"pyarrow\")\n",
    "\n",
    "# tf list\n",
    "tf_path = f\"{data_base}/metadata/TF_names_v_1.01.txt\"\n",
    "if os.path.exists(tf_path):\n",
    "    tf_list = np.genfromtxt(fname=tf_path, delimiter=\"\\t\", skip_header=1, dtype=\"str\")"
   ]
  },
  {
   "cell_type": "markdown",
   "metadata": {},
   "source": [
    "# Load experiments"
   ]
  },
  {
   "cell_type": "code",
   "execution_count": 3,
   "metadata": {},
   "outputs": [
    {
     "name": "stdout",
     "output_type": "stream",
     "text": [
      "##### Experiment labels:  dict_keys(['standard_5K_6TF_sbm', 'standard_5K_6TF_hsbm', 'sigmoid_5K_6TF_hsbm'])\n",
      "Loading Graph-Tool for sigmoid_5K_6TF_hsbm\n"
     ]
    }
   ],
   "source": [
    "hsbm_v3 = ExperimentSet(\"v3\", base_path=base_path, exp_path=sbm_exps_path, mut_df=tcga_mutations_df, sel_sets=None, exp_type=\"iNet\")\n",
    "\n",
    "exps = {}\n",
    "for idx, exp in enumerate(hsbm_v3.get_exps()):\n",
    "    if \"sigmoid\" not in exp.name:  # or idx != 2:\n",
    "        continue\n",
    "\n",
    "    print(f\"Loading Graph-Tool for {exp.type}\")\n",
    "    exp = GtExp.from_pgcna_inet(exp, rel_path=\"\")\n",
    "    gt.remove_self_loops(exp.gt_g)  # needed for sigmoid\n",
    "\n",
    "    # partitions from hSBM\n",
    "    exp.hsbm_add_vp(mut_df=tcga_mutations_df)\n",
    "    com_df, _ = exp.hsbm_get_gt_df()\n",
    "\n",
    "    exp.export_to_gephi(save=False, com_df=com_df)\n",
    "\n",
    "    # Need it for comparison\n",
    "    exps[exp.type] = exp\n",
    "\n",
    "hsbm_v3.exps = exps"
   ]
  },
  {
   "cell_type": "code",
   "execution_count": 4,
   "metadata": {},
   "outputs": [],
   "source": [
    "%autoreload 2\n",
    "sel_gt: GtExp = hsbm_v3.exps[\"sigmoid_5K_6TF_hsbm\"]\n",
    "gt_state: gt.NestedBlockState = sel_gt.hstateObj[\"state\"]\n",
    "\n",
    "sel_gt.hsbm_add_vp(mut_df=tcga_mutations_df)\n",
    "\n",
    "gt_g = sel_gt.gt_g\n",
    "com_df, _ = sel_gt.hsbm_get_gt_df()\n",
    "\n",
    "# Compute and store the nodes/edges with all the information\n",
    "sel_gt.export_to_gephi(save=False, com_df = com_df)\n",
    "graph_stats = sel_gt.compute_graph_stats()\n",
    "\n",
    "nodes_df: pd.DataFrame = gh.add_stats_to(nodes_df=sel_gt.nodes_df, tpm_df=sel_gt.tpm_df)"
   ]
  },
  {
   "cell_type": "markdown",
   "metadata": {},
   "source": [
    "# Experiment well-connected"
   ]
  },
  {
   "cell_type": "code",
   "execution_count": 5,
   "metadata": {},
   "outputs": [
    {
     "name": "stdout",
     "output_type": "stream",
     "text": [
      "Number of coms 14 of 45\n",
      "[1, 2, 3, 5, 7, 8, 10, 12, 15, 18, 28, 32, 33, 42]\n",
      "Nummber of genes selected 122\n"
     ]
    }
   ],
   "source": [
    "def get_high_deg(exp: GtExp, com_det=\"max_b\"):\n",
    "\n",
    "    nodes_df = exp.nodes_df\n",
    "    col_metric = \"degree_t\"\n",
    "\n",
    "    #### Compute the network stats\n",
    "    network_stats: pd.DataFrame = exp.compute_graph_stats()\n",
    "    network_stats[\"max_b\"] = nodes_df[\"max_b\"].astype(str)\n",
    "    network_stats[\"Modularity Class\"] = nodes_df[\"Modularity Class\"].astype(str)\n",
    "\n",
    "    ### Mean degree\n",
    "    com_stats, col_metric = [], \"degree_t\"\n",
    "    for com in network_stats[com_det].unique():\n",
    "        sel_net = network_stats.loc[network_stats[com_det] == com]\n",
    "        com_stats.append((int(com), sel_net[col_metric].mean()))\n",
    "    com_stats = pd.DataFrame(com_stats, columns=[\"com\", \"mean_degree\"])\n",
    "\n",
    "    network_stats[\"mean_degree\"] = round(com_stats[\"mean_degree\"])\n",
    "    com_stats.sort_values(by=\"com\", inplace=True)\n",
    "    com_stats[\"com\"] = com_stats[\"com\"].astype(str)\n",
    "\n",
    "    return network_stats, com_stats\n",
    "\n",
    "\n",
    "def process_high_deg(exp: GtExp, com_stats: pd.DataFrame):\n",
    "\n",
    "    nodes_df = exp.nodes_df\n",
    "    # th degree of the given percentile (70) so that it includes all the communities w/ mean degree > 10\n",
    "    th = 70\n",
    "    th_dg = np.percentile(com_stats[\"mean_degree\"], th)\n",
    "    coms = com_stats[com_stats[\"mean_degree\"] > th_dg][\"com\"].astype(int)\n",
    "    print(f\"Number of coms {coms.shape[0]} of {len(nodes_df['max_b'].unique())}\")\n",
    "    print(list(coms.values))\n",
    "\n",
    "    sel_com_genes = nodes_df.loc[nodes_df[\"max_b\"].isin(coms)][[\"count\", \"TF\", \"max_b\"]].rename(columns={\"count\": \"mut_count\"})\n",
    "\n",
    "    print(f\"Nummber of genes selected {sel_com_genes.shape[0]}\")\n",
    "\n",
    "    return sel_com_genes\n",
    "\n",
    "\n",
    "def corr_rank_stats(exp: GtExp, corr_df: pd.DataFrame, sel_com_genes: pd.DataFrame):\n",
    "    rank_stats = []\n",
    "    for gene in sel_com_genes.index:\n",
    "        # Get the neighbors for the gene\n",
    "        _, n_df = exp.get_gene_neigbhors(gene_name=gene, verbose=False)\n",
    "        neighbors = list(n_df.index)\n",
    "\n",
    "        # Rank the neighbors ranking in unmodified corr matrix\n",
    "        unmodified_rank = corr_df.loc[neighbors, :].rank(ascending=False, axis=1)\n",
    "        gene_ranked = pd.DataFrame(unmodified_rank.loc[:, gene].rename(gene))\n",
    "\n",
    "        rank_stats.append((gene, gene_ranked.min()[0], gene_ranked.max()[0], gene_ranked.mean()[0], gene_ranked.median()[0], gene_ranked.std()[0]))\n",
    "\n",
    "    rank_stats = pd.DataFrame(rank_stats, columns=[\"gene\", \"min\", \"max\", \"mean\", \"median\", \"std\"]).set_index(\"gene\")\n",
    "\n",
    "    return rank_stats\n",
    "\n",
    "\n",
    "def compute_rank_ctrl(idx: int, ctrl_exps: dict, figures_path: str):\n",
    "\n",
    "    ctrl_exp: GtExp = ctrl_exps[idx].exps[\"sigmoid_5K_6TF_hsbm\"]\n",
    "    ctrl_mut: pd.DataFrame = pd.read_csv(f\"{figures_path}/control_mutated/control_mutated_{idx}.csv\", index_col=\"gene\")\n",
    "    ctrl_genes = ctrl_mut[ctrl_mut[\"Type\"] == \"Control High Degree\"].index\n",
    "\n",
    "    _, ctrl_com_stats = get_high_deg(ctrl_exp)\n",
    "    ctrl_sel_com_genes = process_high_deg(ctrl_exp, ctrl_com_stats)\n",
    "\n",
    "    cmn_high_deg_genes = set(ctrl_sel_com_genes.index) & set(sel_com_genes.index)\n",
    "\n",
    "    ctrl_genes_high = set(ctrl_sel_com_genes.index) & set(ctrl_genes)\n",
    "    print(f\"--> Common Exp & Control highly connected genes {len(cmn_high_deg_genes)}\")\n",
    "    print(f\"--> Ctrl highly connected genes {len(ctrl_genes_high)}\")\n",
    "\n",
    "    rank_stats = corr_rank_stats(ctrl_exp, corr_df, sel_com_genes=ctrl_sel_com_genes)\n",
    "\n",
    "    return rank_stats\n",
    "\n",
    "\n",
    "network_stats, com_stats = get_high_deg(sel_gt)\n",
    "sel_com_genes = process_high_deg(sel_gt, com_stats)"
   ]
  },
  {
   "cell_type": "markdown",
   "metadata": {},
   "source": [
    "# Control"
   ]
  },
  {
   "cell_type": "code",
   "execution_count": 62,
   "metadata": {},
   "outputs": [],
   "source": [
    "import random\n",
    "\n",
    "### Generate the mutations\n",
    "if 0:\n",
    "    for i in range(1, 2):\n",
    "        # keep a copy of the initial dataset\n",
    "        all_5K_genes = sel_gt.tpm_df.copy(deep=True)\n",
    "        all_5K_genes[\"mut_count\"] = tcga_mutations_df[\"count\"]\n",
    "        all_5K_genes[\"mut_count\"].fillna(0, inplace=True)\n",
    "        all_5K_genes = all_5K_genes.reset_index()[[\"genes\", \"mut_count\"]]\n",
    "        not_mutated = all_5K_genes[all_5K_genes[\"mut_count\"] == 0][\"genes\"]\n",
    "\n",
    "        ### Randomnly NOT select the highly-connected genes\n",
    "        rand_sel_genes = random.sample(list(not_mutated), len(sel_com_genes))\n",
    "        rename_genes = {sel_com_genes.index[idx]: rand_sel_genes[idx] for idx in range(0, len(rand_sel_genes))}\n",
    "\n",
    "        ### Change the highly connected genes to the randomnly picked\n",
    "        highly_con = all_5K_genes.loc[all_5K_genes[\"genes\"].isin(sel_com_genes.index)]\n",
    "        highly_con[\"genes\"] = highly_con[\"genes\"].replace(rename_genes)\n",
    "        highly_con.set_index(\"genes\", inplace=True)\n",
    "\n",
    "        ### The randomnly picked genes are changed with the highly connected\n",
    "        reversed_dict = {value: key for key, value in rename_genes.items()}\n",
    "        not_highly_con = all_5K_genes.loc[~all_5K_genes[\"genes\"].isin(sel_com_genes.index)]\n",
    "        not_highly_con[\"genes\"] = not_highly_con[\"genes\"].replace(reversed_dict)\n",
    "        not_highly_con.set_index(\"genes\", inplace=True)\n",
    "\n",
    "        new_mutated_genes = pd.concat([not_highly_con, highly_con], axis=0)\n",
    "        new_mutated_genes[\"Type\"] = \"Experiment\"\n",
    "        new_mutated_genes.loc[rename_genes.keys(), \"Type\"] = \"Experiment High Degree\"\n",
    "        new_mutated_genes.loc[rename_genes.values(), \"Type\"] = \"Control High Degree\"\n",
    "\n",
    "        ### Exported\n",
    "        new_mutated_genes[\"mut_count\"] = new_mutated_genes[\"mut_count\"].astype(int)\n",
    "        new_mutated_genes.rename(columns={\"mut_count\": \"count\"}, inplace=True)\n",
    "        new_mutated_genes.index.names = [\"gene\"]\n",
    "        new_mutated_genes.to_csv(f\"{figures_path}/control_mutated_{i}_c.csv\")"
   ]
  },
  {
   "cell_type": "code",
   "execution_count": 7,
   "metadata": {},
   "outputs": [
    {
     "data": {
      "text/plain": [
       "['ctrl_2', 'ctrl_5', 'ctrl_4', 'ctrl_3', 'ctrl_1', 'ctrl_0']"
      ]
     },
     "execution_count": 7,
     "metadata": {},
     "output_type": "execute_result"
    }
   ],
   "source": [
    "folders_path = f\"{base_path}/mut_control_v3_4/\"\n",
    "folders = next(os.walk(f\"{folders_path}\"), (None, None, []))[1]\n",
    "folders"
   ]
  },
  {
   "cell_type": "code",
   "execution_count": 8,
   "metadata": {},
   "outputs": [
    {
     "name": "stdout",
     "output_type": "stream",
     "text": [
      "### Control experiment form ctrl_2\n",
      "##### Experiment labels:  dict_keys(['sigmoid_5K_6TF_hsbm'])\n",
      "Loading Graph-Tool for sigmoid_5K_6TF_hsbm\n",
      "### Control experiment form ctrl_5\n",
      "##### Experiment labels:  dict_keys(['sigmoid_5K_6TF_hsbm'])\n",
      "Loading Graph-Tool for sigmoid_5K_6TF_hsbm\n",
      "### Control experiment form ctrl_4\n",
      "##### Experiment labels:  dict_keys(['sigmoid_5K_6TF_hsbm'])\n",
      "Loading Graph-Tool for sigmoid_5K_6TF_hsbm\n",
      "### Control experiment form ctrl_3\n",
      "##### Experiment labels:  dict_keys(['sigmoid_5K_6TF_hsbm'])\n",
      "Loading Graph-Tool for sigmoid_5K_6TF_hsbm\n",
      "### Control experiment form ctrl_1\n",
      "##### Experiment labels:  dict_keys(['sigmoid_5K_6TF_hsbm'])\n",
      "Loading Graph-Tool for sigmoid_5K_6TF_hsbm\n",
      "### Control experiment form ctrl_0\n",
      "##### Experiment labels:  dict_keys(['sigmoid_5K_6TF_hsbm'])\n",
      "Loading Graph-Tool for sigmoid_5K_6TF_hsbm\n"
     ]
    }
   ],
   "source": [
    "folders_path = f\"{base_path}/mut_control_v3_4/\"\n",
    "folders = next(os.walk(f\"{folders_path}\"), (None, None, []))[1]\n",
    "\n",
    "ctrls = {}\n",
    "for folder in folders:\n",
    "    print(f\"### Control experiment form {folder}\")\n",
    "    ctrl_path = f\"{folders_path}/{folder}/\"\n",
    "    idx = int(folder.split(\"ctrl_\")[-1])\n",
    "\n",
    "    # Load the experiment set\n",
    "    ctrls[idx] = ExperimentSet(\"ctrl\", base_path, ctrl_path, tcga_mutations_df, sel_sets=None, rel_path=\"../\", exp_type=\"iNet\")\n",
    "    ctrls[idx].export_to_gephi(save=False)\n",
    "\n",
    "    # Compute the required information\n",
    "    exps = {}\n",
    "    for exp in ctrls[idx].get_exps():\n",
    "        if \"sigmoid\" not in exp.name:\n",
    "            continue\n",
    "\n",
    "        print(f\"Loading Graph-Tool for {exp.type}\")\n",
    "        exp = GtExp.from_pgcna_inet(exp, rel_path=\"\")\n",
    "\n",
    "        # partitions from hSBM\n",
    "        exp.hsbm_add_vp(mut_df=tcga_mutations_df)\n",
    "        com_df, _ = exp.hsbm_get_gt_df()\n",
    "\n",
    "        gt_g = exp.gt_g\n",
    "\n",
    "        exp.export_to_gephi(save=False, com_df=com_df)\n",
    "        exp.gt_modCon_MEV(all_tpms=exp.tpm_df, is_imev=True)\n",
    "\n",
    "        graph_stats = exp.compute_graph_stats()\n",
    "        nodes_df: pd.DataFrame = gh.add_stats_to(nodes_df=exp.nodes_df, tpm_df=exp.tpm_df)\n",
    "        exp.nodes_df = nodes_df\n",
    "\n",
    "        # Need it for comparison\n",
    "        exps[exp.type] = exp\n",
    "\n",
    "    # Save the experiments\n",
    "    ctrls[idx].exps = exps"
   ]
  },
  {
   "cell_type": "code",
   "execution_count": 19,
   "metadata": {},
   "outputs": [
    {
     "name": "stdout",
     "output_type": "stream",
     "text": [
      "Number of coms 13 of 42\n",
      "[1, 2, 4, 6, 8, 9, 13, 20, 23, 24, 34, 35, 38]\n",
      "Nummber of genes selected 137\n",
      "--> Common highly connected genes 0\n"
     ]
    }
   ],
   "source": [
    "ctrl_exp: GtExp = ctrls[3].exps[\"sigmoid_5K_6TF_hsbm\"]\n",
    "ctrl_gt_g = ctrl_exp.gt_g\n",
    "_, ctrl_com_stats = get_high_deg(ctrl_exp)\n",
    "ctrl_sel_com_genes = process_high_deg(ctrl_exp, ctrl_com_stats)\n",
    "\n",
    "cmn_high_deg_genes = set(ctrl_sel_com_genes.index) & set(sel_com_genes.index)\n",
    "print(f\"--> Common highly connected genes {len(cmn_high_deg_genes)}\")"
   ]
  },
  {
   "cell_type": "markdown",
   "metadata": {},
   "source": [
    "## Rank stats"
   ]
  },
  {
   "cell_type": "code",
   "execution_count": 22,
   "metadata": {},
   "outputs": [],
   "source": [
    "corr_df = sel_gt.tpm_df.T.corr(\"spearman\")"
   ]
  },
  {
   "cell_type": "code",
   "execution_count": 61,
   "metadata": {},
   "outputs": [
    {
     "name": "stdout",
     "output_type": "stream",
     "text": [
      "Number of coms 14 of 46\n",
      "[1, 2, 3, 5, 7, 15, 16, 18, 22, 36, 37, 38, 39, 40]\n",
      "Nummber of genes selected 112\n",
      "--> Common Exp & Control highly connected genes 0\n",
      "--> Ctrl highly connected genes 75\n"
     ]
    },
    {
     "data": {
      "application/vnd.plotly.v1+json": {
       "config": {
        "plotlyServerURL": "https://plot.ly"
       },
       "data": [
        {
         "alignmentgroup": "True",
         "error_y": {
          "array": [
           142.54877246432835,
           170.2892801144964,
           130.3129560219437,
           111.85167894713041,
           186.79400071013708,
           156.10222008511448,
           149.35596497140332,
           143.40052995037973,
           170.17942740642985,
           404.106971536553,
           147.19973797177894,
           125.44356024738197,
           131.83653263989825,
           137.90479133996627,
           112.24230355732969,
           182.83059075500717,
           136.0205947149278,
           139.70207339329096,
           157.3845768249588,
           114.19683911049037,
           136.24676463320466,
           121.99416793569267,
           130.41999340483315,
           154.27382020770702,
           138.2542490129322,
           165.75933842385191,
           128.99366754215308,
           180.52494001731162,
           101.36978004726511,
           124.0412951196754,
           136.15069148005716,
           184.50244882707764,
           199.65244017065473,
           124.22041006778024,
           129.57789653912522,
           300.30884102869834,
           144.48110451855186,
           91.83370530516902,
           195.125448429978,
           102.15394545208996,
           87.5349061452935,
           212.081565620849,
           98.74191588153624,
           110.23189878579501,
           74.44363137995916,
           209.03376971943288,
           117.1799179861117,
           121.99117111199568,
           96.58445301301526,
           133.06926724476043,
           101.34062715665718,
           98.98754252590376,
           112.82495955055576,
           115.99370618157425,
           79.12978051452185,
           60.647042978643036,
           128.77422526614623,
           103.05390090264783,
           158.09000600923514,
           67.0464651256036,
           104.60521019528616,
           167.13575653076487,
           87.5945545188325,
           75.86754838657993,
           155.58558007499516,
           77.14432828639823,
           74.3231306036353,
           69.82037415603125,
           128.68566353716332,
           133.73748272535371,
           57.98879128995346,
           89.55373878678843,
           62.69008888135273,
           62.04755786493553,
           58.98458005364307,
           57.310434413743124,
           54.992782413267456,
           129.64319165639645,
           98.09492851314997,
           71.38819501678903,
           154.89253165093788,
           140.95542902284572,
           65.63620846653059,
           52.9928670301745,
           63.87597971314199,
           88.54972922293182,
           67.5277079574847,
           87.5419899248355,
           77.51520658747071,
           105.00021786469772,
           33.31959299513305,
           53.37607721367555,
           40.466191766168684,
           54.414000986890876,
           30.51091128739656,
           50.82305061234492,
           38.63380003813762,
           42.81334646169973,
           65.78079990668734,
           30.410528838538426,
           32.23056815834192,
           98.26819472870201,
           47.38771967449157,
           22.825293033250887,
           39.716981210701654,
           32.62678535355763,
           26.500505874307432,
           34.036344211338665,
           20.595707781291367,
           36.124233241312226,
           20.1198095813219,
           27.288468742598756
          ]
         },
         "hovertemplate": "gene=%{x}<br>mean=%{y}<extra></extra>",
         "legendgroup": "",
         "marker": {
          "color": "#F8766D",
          "pattern": {
           "shape": ""
          }
         },
         "name": "",
         "offsetgroup": "",
         "orientation": "v",
         "showlegend": false,
         "textposition": "auto",
         "type": "bar",
         "x": [
          "ENSG00000206567",
          "ENSG00000284606",
          "CGAS",
          "ENSG00000272763",
          "ENSG00000271032",
          "ENSG00000268279",
          "RGCC",
          "H2BC21",
          "NIBAN1",
          "MINCR",
          "ENSG00000272072",
          "SIPA1L1-AS1",
          "LINC00294",
          "ENSG00000278493",
          "LSP1P5",
          "LAMC1-AS1",
          "PPP1R14B",
          "ENSG00000262979",
          "KDM7A-DT",
          "NAA80",
          "MYH9",
          "LINC02256",
          "ENSG00000284969",
          "EFCAB2",
          "DLGAP1-AS2",
          "ENSG00000267001",
          "TMEM205",
          "HOTTIP",
          "BAALC-AS1",
          "HOXA-AS3",
          "CRACDL",
          "TNS1",
          "ZNF608",
          "WNK1",
          "ENSG00000205890",
          "FAM83G",
          "AP1G2-AS1",
          "S100A3",
          "PHETA2",
          "FANCD2",
          "ENSG00000285103",
          "MYOM3",
          "RAB7B",
          "ZNF528-AS1",
          "EXOSC3",
          "FLNB-AS1",
          "ARHGEF35-AS1",
          "LINC02635",
          "BAZ1A-AS1",
          "BRIP1",
          "ENSG00000267980",
          "ENSG00000267314",
          "LINC02363",
          "ENSG00000267274",
          "ANKRD22",
          "RTTN",
          "ZKSCAN7-AS1",
          "GARS1",
          "C3",
          "SOCS2",
          "G0S2",
          "PIK3C2B",
          "MVK",
          "ENSG00000289194",
          "H4C15",
          "ENSG00000286288",
          "ENSG00000263272",
          "MYO15B",
          "PCDH1",
          "EHBP1",
          "CAVIN1",
          "LINC02175",
          "ENSG00000290386",
          "NEAT1",
          "ENSG00000274213",
          "MICAL2",
          "STX17-DT",
          "DOCK8",
          "FOXQ1",
          "SGO2",
          "ZNF335",
          "ABCC4",
          "PDE4A",
          "GARIN1A",
          "ENSG00000275910",
          "UHRF1BP1",
          "SMC2",
          "SYTL2",
          "NFAT5",
          "ESYT1",
          "KCTD12",
          "SUV39H1",
          "ITGB4",
          "FHIP1A-DT",
          "CALD1",
          "ENSG00000290957",
          "ENSG00000272669",
          "EOLA2-DT",
          "ENSG00000263325",
          "SAMD9L",
          "UNC13B",
          "STAT1",
          "ENSG00000258728",
          "MYO10",
          "ENSG00000268218",
          "SAMD9",
          "LAMB1",
          "LTBP4",
          "DHX34",
          "PTPRK",
          "NAV1",
          "TTC7B"
         ],
         "xaxis": "x",
         "y": [
          295.0096418732782,
          289.6929133858268,
          286.6818181818182,
          277.78636363636366,
          272.9642857142857,
          258.52127659574467,
          255.37229437229436,
          252.27860696517413,
          243.1602564102564,
          239,
          225.60476190476192,
          223.8252427184466,
          219.08190709046454,
          217.50263157894736,
          212.05102040816325,
          206.1090909090909,
          205.7431506849315,
          205.34635083226632,
          204.59666666666666,
          202.934554973822,
          202.37555555555556,
          200.8097609561753,
          200.2619718309859,
          199.9659090909091,
          199.80113636363637,
          192.83783783783784,
          192.35373134328358,
          184.92857142857142,
          182.94736842105263,
          182.6767955801105,
          178.08053097345132,
          177.04347826086956,
          173.59259259259258,
          168.70224719101122,
          167.93321616871705,
          166,
          165.4585020242915,
          164.92068965517242,
          164.90625,
          161.42857142857142,
          159.1498673740053,
          158.73809523809524,
          147.54338842975207,
          146.7118437118437,
          146.0568181818182,
          145.54545454545453,
          143.9078947368421,
          142.8860759493671,
          133.93103448275863,
          129.13333333333333,
          126.97175141242938,
          125.6896551724138,
          120.6304347826087,
          119.305,
          117.62711864406779,
          113.65700483091787,
          112.63934426229508,
          109.14009661835749,
          108.65,
          105.13970588235294,
          103.75,
          103.38888888888889,
          101.69911504424779,
          100.54807692307692,
          96.45454545454545,
          96.14285714285714,
          95.1463195691203,
          93.86866359447005,
          87.33333333333333,
          84,
          83.3204592901879,
          77.03378378378379,
          69.33474576271186,
          65.53921568627452,
          58.929577464788736,
          56.138297872340424,
          55.23170731707317,
          54.57142857142857,
          53.14,
          52.81,
          51.81730769230769,
          51.791666666666664,
          50.33783783783784,
          48.73828125,
          46.63725490196079,
          45.36363636363637,
          45.09090909090909,
          44.4,
          43.90449438202247,
          43.888888888888886,
          41.9051724137931,
          40.12096774193548,
          39.66197183098591,
          39.30612244897959,
          38.77536231884058,
          38.589285714285715,
          38.28963414634146,
          35.7246835443038,
          34.25,
          33.8206106870229,
          32.142857142857146,
          32.06666666666667,
          31.95744680851064,
          30.091346153846153,
          29.333333333333332,
          26.74074074074074,
          25.891304347826086,
          24.836363636363636,
          23.820987654320987,
          20.375,
          18.291666666666668,
          17.85
         ],
         "yaxis": "y"
        }
       ],
       "layout": {
        "barmode": "relative",
        "height": 700,
        "legend": {
         "tracegroupgap": 0
        },
        "template": {
         "data": {
          "bar": [
           {
            "error_x": {
             "color": "rgb(51,51,51)"
            },
            "error_y": {
             "color": "rgb(51,51,51)"
            },
            "marker": {
             "line": {
              "color": "rgb(237,237,237)",
              "width": 0.5
             },
             "pattern": {
              "fillmode": "overlay",
              "size": 10,
              "solidity": 0.2
             }
            },
            "type": "bar"
           }
          ],
          "barpolar": [
           {
            "marker": {
             "line": {
              "color": "rgb(237,237,237)",
              "width": 0.5
             },
             "pattern": {
              "fillmode": "overlay",
              "size": 10,
              "solidity": 0.2
             }
            },
            "type": "barpolar"
           }
          ],
          "carpet": [
           {
            "aaxis": {
             "endlinecolor": "rgb(51,51,51)",
             "gridcolor": "white",
             "linecolor": "white",
             "minorgridcolor": "white",
             "startlinecolor": "rgb(51,51,51)"
            },
            "baxis": {
             "endlinecolor": "rgb(51,51,51)",
             "gridcolor": "white",
             "linecolor": "white",
             "minorgridcolor": "white",
             "startlinecolor": "rgb(51,51,51)"
            },
            "type": "carpet"
           }
          ],
          "choropleth": [
           {
            "colorbar": {
             "outlinewidth": 0,
             "tickcolor": "rgb(237,237,237)",
             "ticklen": 6,
             "ticks": "inside"
            },
            "type": "choropleth"
           }
          ],
          "contour": [
           {
            "colorbar": {
             "outlinewidth": 0,
             "tickcolor": "rgb(237,237,237)",
             "ticklen": 6,
             "ticks": "inside"
            },
            "colorscale": [
             [
              0,
              "rgb(20,44,66)"
             ],
             [
              1,
              "rgb(90,179,244)"
             ]
            ],
            "type": "contour"
           }
          ],
          "contourcarpet": [
           {
            "colorbar": {
             "outlinewidth": 0,
             "tickcolor": "rgb(237,237,237)",
             "ticklen": 6,
             "ticks": "inside"
            },
            "type": "contourcarpet"
           }
          ],
          "heatmap": [
           {
            "colorbar": {
             "outlinewidth": 0,
             "tickcolor": "rgb(237,237,237)",
             "ticklen": 6,
             "ticks": "inside"
            },
            "colorscale": [
             [
              0,
              "rgb(20,44,66)"
             ],
             [
              1,
              "rgb(90,179,244)"
             ]
            ],
            "type": "heatmap"
           }
          ],
          "heatmapgl": [
           {
            "colorbar": {
             "outlinewidth": 0,
             "tickcolor": "rgb(237,237,237)",
             "ticklen": 6,
             "ticks": "inside"
            },
            "colorscale": [
             [
              0,
              "rgb(20,44,66)"
             ],
             [
              1,
              "rgb(90,179,244)"
             ]
            ],
            "type": "heatmapgl"
           }
          ],
          "histogram": [
           {
            "marker": {
             "pattern": {
              "fillmode": "overlay",
              "size": 10,
              "solidity": 0.2
             }
            },
            "type": "histogram"
           }
          ],
          "histogram2d": [
           {
            "colorbar": {
             "outlinewidth": 0,
             "tickcolor": "rgb(237,237,237)",
             "ticklen": 6,
             "ticks": "inside"
            },
            "colorscale": [
             [
              0,
              "rgb(20,44,66)"
             ],
             [
              1,
              "rgb(90,179,244)"
             ]
            ],
            "type": "histogram2d"
           }
          ],
          "histogram2dcontour": [
           {
            "colorbar": {
             "outlinewidth": 0,
             "tickcolor": "rgb(237,237,237)",
             "ticklen": 6,
             "ticks": "inside"
            },
            "colorscale": [
             [
              0,
              "rgb(20,44,66)"
             ],
             [
              1,
              "rgb(90,179,244)"
             ]
            ],
            "type": "histogram2dcontour"
           }
          ],
          "mesh3d": [
           {
            "colorbar": {
             "outlinewidth": 0,
             "tickcolor": "rgb(237,237,237)",
             "ticklen": 6,
             "ticks": "inside"
            },
            "type": "mesh3d"
           }
          ],
          "parcoords": [
           {
            "line": {
             "colorbar": {
              "outlinewidth": 0,
              "tickcolor": "rgb(237,237,237)",
              "ticklen": 6,
              "ticks": "inside"
             }
            },
            "type": "parcoords"
           }
          ],
          "pie": [
           {
            "automargin": true,
            "type": "pie"
           }
          ],
          "scatter": [
           {
            "fillpattern": {
             "fillmode": "overlay",
             "size": 10,
             "solidity": 0.2
            },
            "type": "scatter"
           }
          ],
          "scatter3d": [
           {
            "line": {
             "colorbar": {
              "outlinewidth": 0,
              "tickcolor": "rgb(237,237,237)",
              "ticklen": 6,
              "ticks": "inside"
             }
            },
            "marker": {
             "colorbar": {
              "outlinewidth": 0,
              "tickcolor": "rgb(237,237,237)",
              "ticklen": 6,
              "ticks": "inside"
             }
            },
            "type": "scatter3d"
           }
          ],
          "scattercarpet": [
           {
            "marker": {
             "colorbar": {
              "outlinewidth": 0,
              "tickcolor": "rgb(237,237,237)",
              "ticklen": 6,
              "ticks": "inside"
             }
            },
            "type": "scattercarpet"
           }
          ],
          "scattergeo": [
           {
            "marker": {
             "colorbar": {
              "outlinewidth": 0,
              "tickcolor": "rgb(237,237,237)",
              "ticklen": 6,
              "ticks": "inside"
             }
            },
            "type": "scattergeo"
           }
          ],
          "scattergl": [
           {
            "marker": {
             "colorbar": {
              "outlinewidth": 0,
              "tickcolor": "rgb(237,237,237)",
              "ticklen": 6,
              "ticks": "inside"
             }
            },
            "type": "scattergl"
           }
          ],
          "scattermapbox": [
           {
            "marker": {
             "colorbar": {
              "outlinewidth": 0,
              "tickcolor": "rgb(237,237,237)",
              "ticklen": 6,
              "ticks": "inside"
             }
            },
            "type": "scattermapbox"
           }
          ],
          "scatterpolar": [
           {
            "marker": {
             "colorbar": {
              "outlinewidth": 0,
              "tickcolor": "rgb(237,237,237)",
              "ticklen": 6,
              "ticks": "inside"
             }
            },
            "type": "scatterpolar"
           }
          ],
          "scatterpolargl": [
           {
            "marker": {
             "colorbar": {
              "outlinewidth": 0,
              "tickcolor": "rgb(237,237,237)",
              "ticklen": 6,
              "ticks": "inside"
             }
            },
            "type": "scatterpolargl"
           }
          ],
          "scatterternary": [
           {
            "marker": {
             "colorbar": {
              "outlinewidth": 0,
              "tickcolor": "rgb(237,237,237)",
              "ticklen": 6,
              "ticks": "inside"
             }
            },
            "type": "scatterternary"
           }
          ],
          "surface": [
           {
            "colorbar": {
             "outlinewidth": 0,
             "tickcolor": "rgb(237,237,237)",
             "ticklen": 6,
             "ticks": "inside"
            },
            "colorscale": [
             [
              0,
              "rgb(20,44,66)"
             ],
             [
              1,
              "rgb(90,179,244)"
             ]
            ],
            "type": "surface"
           }
          ],
          "table": [
           {
            "cells": {
             "fill": {
              "color": "rgb(237,237,237)"
             },
             "line": {
              "color": "white"
             }
            },
            "header": {
             "fill": {
              "color": "rgb(217,217,217)"
             },
             "line": {
              "color": "white"
             }
            },
            "type": "table"
           }
          ]
         },
         "layout": {
          "annotationdefaults": {
           "arrowhead": 0,
           "arrowwidth": 1
          },
          "autotypenumbers": "strict",
          "coloraxis": {
           "colorbar": {
            "outlinewidth": 0,
            "tickcolor": "rgb(237,237,237)",
            "ticklen": 6,
            "ticks": "inside"
           }
          },
          "colorscale": {
           "sequential": [
            [
             0,
             "rgb(20,44,66)"
            ],
            [
             1,
             "rgb(90,179,244)"
            ]
           ],
           "sequentialminus": [
            [
             0,
             "rgb(20,44,66)"
            ],
            [
             1,
             "rgb(90,179,244)"
            ]
           ]
          },
          "colorway": [
           "#F8766D",
           "#A3A500",
           "#00BF7D",
           "#00B0F6",
           "#E76BF3"
          ],
          "font": {
           "color": "rgb(51,51,51)"
          },
          "geo": {
           "bgcolor": "white",
           "lakecolor": "white",
           "landcolor": "rgb(237,237,237)",
           "showlakes": true,
           "showland": true,
           "subunitcolor": "white"
          },
          "hoverlabel": {
           "align": "left"
          },
          "hovermode": "closest",
          "paper_bgcolor": "white",
          "plot_bgcolor": "rgb(237,237,237)",
          "polar": {
           "angularaxis": {
            "gridcolor": "white",
            "linecolor": "white",
            "showgrid": true,
            "tickcolor": "rgb(51,51,51)",
            "ticks": "outside"
           },
           "bgcolor": "rgb(237,237,237)",
           "radialaxis": {
            "gridcolor": "white",
            "linecolor": "white",
            "showgrid": true,
            "tickcolor": "rgb(51,51,51)",
            "ticks": "outside"
           }
          },
          "scene": {
           "xaxis": {
            "backgroundcolor": "rgb(237,237,237)",
            "gridcolor": "white",
            "gridwidth": 2,
            "linecolor": "white",
            "showbackground": true,
            "showgrid": true,
            "tickcolor": "rgb(51,51,51)",
            "ticks": "outside",
            "zerolinecolor": "white"
           },
           "yaxis": {
            "backgroundcolor": "rgb(237,237,237)",
            "gridcolor": "white",
            "gridwidth": 2,
            "linecolor": "white",
            "showbackground": true,
            "showgrid": true,
            "tickcolor": "rgb(51,51,51)",
            "ticks": "outside",
            "zerolinecolor": "white"
           },
           "zaxis": {
            "backgroundcolor": "rgb(237,237,237)",
            "gridcolor": "white",
            "gridwidth": 2,
            "linecolor": "white",
            "showbackground": true,
            "showgrid": true,
            "tickcolor": "rgb(51,51,51)",
            "ticks": "outside",
            "zerolinecolor": "white"
           }
          },
          "shapedefaults": {
           "fillcolor": "black",
           "line": {
            "width": 0
           },
           "opacity": 0.3
          },
          "ternary": {
           "aaxis": {
            "gridcolor": "white",
            "linecolor": "white",
            "showgrid": true,
            "tickcolor": "rgb(51,51,51)",
            "ticks": "outside"
           },
           "baxis": {
            "gridcolor": "white",
            "linecolor": "white",
            "showgrid": true,
            "tickcolor": "rgb(51,51,51)",
            "ticks": "outside"
           },
           "bgcolor": "rgb(237,237,237)",
           "caxis": {
            "gridcolor": "white",
            "linecolor": "white",
            "showgrid": true,
            "tickcolor": "rgb(51,51,51)",
            "ticks": "outside"
           }
          },
          "xaxis": {
           "automargin": true,
           "gridcolor": "white",
           "linecolor": "white",
           "showgrid": true,
           "tickcolor": "rgb(51,51,51)",
           "ticks": "outside",
           "title": {
            "standoff": 15
           },
           "zerolinecolor": "white"
          },
          "yaxis": {
           "automargin": true,
           "gridcolor": "white",
           "linecolor": "white",
           "showgrid": true,
           "tickcolor": "rgb(51,51,51)",
           "ticks": "outside",
           "title": {
            "standoff": 15
           },
           "zerolinecolor": "white"
          }
         }
        },
        "title": {
         "text": "Average mean of the correlation rank of these genes in their neighbours ranks"
        },
        "xaxis": {
         "anchor": "y",
         "domain": [
          0,
          1
         ],
         "title": {
          "text": "gene"
         }
        },
        "yaxis": {
         "anchor": "x",
         "domain": [
          0,
          1
         ],
         "title": {
          "text": "mean"
         }
        }
       }
      }
     },
     "metadata": {},
     "output_type": "display_data"
    }
   ],
   "source": [
    "rank_stats = compute_rank_ctrl(idx=3, ctrl_exps=ctrls, figures_path=figures_path)\n",
    "\n",
    "metric = \"mean\"\n",
    "rank_stats.sort_values(by=metric, ascending=False, inplace=True)\n",
    "rank_stats[\"max_b\"] = sel_com_genes[\"max_b\"].astype(str)\n",
    "fig = px.bar(\n",
    "    rank_stats.reset_index(),\n",
    "    x=\"gene\",\n",
    "    y=metric,\n",
    "    error_y=\"std\",\n",
    "    hover_data=\"gene\",\n",
    "    title=f\"Average {metric} of the correlation rank of these genes in their neighbours ranks\",\n",
    ")\n",
    "fig.update_layout(height=700)"
   ]
  },
  {
   "cell_type": "markdown",
   "metadata": {},
   "source": [
    "## Ctrl genes in highest connected nodes"
   ]
  },
  {
   "cell_type": "code",
   "execution_count": 10,
   "metadata": {},
   "outputs": [
    {
     "name": "stdout",
     "output_type": "stream",
     "text": [
      "Number of coms 14 of 47\n",
      "[1, 2, 3, 6, 8, 12, 13, 17, 21, 28, 31, 33, 34, 36]\n",
      "Nummber of genes selected 143\n",
      "Number of coms 14 of 46\n",
      "[1, 2, 3, 5, 7, 15, 16, 18, 22, 36, 37, 38, 39, 40]\n",
      "Nummber of genes selected 112\n",
      "Number of coms 13 of 42\n",
      "[1, 2, 4, 6, 8, 9, 13, 20, 23, 24, 34, 35, 38]\n",
      "Nummber of genes selected 137\n",
      "Number of coms 13 of 42\n",
      "[1, 2, 6, 8, 10, 11, 14, 22, 24, 25, 27, 29, 36]\n",
      "Nummber of genes selected 118\n",
      "Number of coms 12 of 39\n",
      "[1, 2, 3, 5, 6, 9, 12, 15, 24, 27, 31, 32]\n",
      "Nummber of genes selected 119\n"
     ]
    },
    {
     "data": {
      "text/html": [
       "<div>\n",
       "<style scoped>\n",
       "    .dataframe tbody tr th:only-of-type {\n",
       "        vertical-align: middle;\n",
       "    }\n",
       "\n",
       "    .dataframe tbody tr th {\n",
       "        vertical-align: top;\n",
       "    }\n",
       "\n",
       "    .dataframe thead th {\n",
       "        text-align: right;\n",
       "    }\n",
       "</style>\n",
       "<table border=\"1\" class=\"dataframe\">\n",
       "  <thead>\n",
       "    <tr style=\"text-align: right;\">\n",
       "      <th></th>\n",
       "      <th>Run</th>\n",
       "      <th>#genes</th>\n",
       "      <th>#control</th>\n",
       "      <th>genes</th>\n",
       "    </tr>\n",
       "  </thead>\n",
       "  <tbody>\n",
       "    <tr>\n",
       "      <th>0</th>\n",
       "      <td>1</td>\n",
       "      <td>90</td>\n",
       "      <td>122</td>\n",
       "      <td>[ENSG00000246090, ALDH6A1, ENSG00000272153, NS...</td>\n",
       "    </tr>\n",
       "    <tr>\n",
       "      <th>1</th>\n",
       "      <td>2</td>\n",
       "      <td>75</td>\n",
       "      <td>122</td>\n",
       "      <td>[ARHGEF35-AS1, ENSG00000267001, ENSG0000026798...</td>\n",
       "    </tr>\n",
       "    <tr>\n",
       "      <th>2</th>\n",
       "      <td>3</td>\n",
       "      <td>88</td>\n",
       "      <td>122</td>\n",
       "      <td>[CLCA4-AS1, COQ8A, PPP1R3G, ENSG00000290385, L...</td>\n",
       "    </tr>\n",
       "    <tr>\n",
       "      <th>3</th>\n",
       "      <td>4</td>\n",
       "      <td>85</td>\n",
       "      <td>122</td>\n",
       "      <td>[ENSG00000288880, HLA-F-AS1, EGFL8, ENSG000002...</td>\n",
       "    </tr>\n",
       "    <tr>\n",
       "      <th>4</th>\n",
       "      <td>5</td>\n",
       "      <td>82</td>\n",
       "      <td>122</td>\n",
       "      <td>[ENSG00000290096, ENSG00000285589, KIRREL1, EN...</td>\n",
       "    </tr>\n",
       "  </tbody>\n",
       "</table>\n",
       "</div>"
      ],
      "text/plain": [
       "   Run  #genes  #control                                              genes\n",
       "0    1      90       122  [ENSG00000246090, ALDH6A1, ENSG00000272153, NS...\n",
       "1    2      75       122  [ARHGEF35-AS1, ENSG00000267001, ENSG0000026798...\n",
       "2    3      88       122  [CLCA4-AS1, COQ8A, PPP1R3G, ENSG00000290385, L...\n",
       "3    4      85       122  [ENSG00000288880, HLA-F-AS1, EGFL8, ENSG000002...\n",
       "4    5      82       122  [ENSG00000290096, ENSG00000285589, KIRREL1, EN..."
      ]
     },
     "execution_count": 10,
     "metadata": {},
     "output_type": "execute_result"
    }
   ],
   "source": [
    "idx = 2\n",
    "ctrl_high_conn = []\n",
    "diff_genes = []\n",
    "for idx in range(1, 6):\n",
    "    ctrl_exp: GtExp = ctrls[idx].exps[\"sigmoid_5K_6TF_hsbm\"]\n",
    "    ctrl_mut: pd.DataFrame = pd.read_csv(f\"{figures_path}/control_mutated/control_mutated_{idx}.csv\", index_col=\"gene\")\n",
    "    ctrl_genes = ctrl_mut[ctrl_mut[\"Type\"] == \"Control High Degree\"].index\n",
    "\n",
    "    ctrl_gt_g = ctrl_exp.gt_g\n",
    "    _, ctrl_com_stats = get_high_deg(ctrl_exp)\n",
    "    ctrl_sel_com_genes = process_high_deg(ctrl_exp, ctrl_com_stats)\n",
    "\n",
    "    ctrl_genes_high = set(ctrl_sel_com_genes.index) & set(ctrl_genes)\n",
    "    diff_genes = set(ctrl_sel_com_genes.index) - set(ctrl_genes)\n",
    "    ctrl_high_conn.append((idx, len(ctrl_genes_high), len(ctrl_genes), list(ctrl_genes_high)))\n",
    "\n",
    "ctrl_high_conn = pd.DataFrame(ctrl_high_conn, columns=[\"Run\", \"#genes\", \"#control\", \"genes\"])\n",
    "ctrl_high_conn"
   ]
  },
  {
   "cell_type": "code",
   "execution_count": 15,
   "metadata": {},
   "outputs": [],
   "source": [
    "# list(set(diff_genes))"
   ]
  }
 ],
 "metadata": {
  "kernelspec": {
   "display_name": "iNet",
   "language": "python",
   "name": "python3"
  },
  "language_info": {
   "codemirror_mode": {
    "name": "ipython",
    "version": 3
   },
   "file_extension": ".py",
   "mimetype": "text/x-python",
   "name": "python",
   "nbconvert_exporter": "python",
   "pygments_lexer": "ipython3",
   "version": "3.11.8"
  }
 },
 "nbformat": 4,
 "nbformat_minor": 2
}
