{
 "cells": [
  {
   "cell_type": "markdown",
   "metadata": {},
   "source": [
    "# Motivation\n",
    "\n",
    "This notebook is complementing the work in reward hSBM, particularly the work on analysing the highly connected genes.\n",
    "\n",
    "Here we focused on understanding if the 122 genes which are the highest mutated genes, with the highest degree values and are also separated in smalller communities. These are all found in the reward network.\n",
    "\n",
    "The notebook tries to understand if the 122 genes are not randomn by using controls."
   ]
  },
  {
   "cell_type": "code",
   "execution_count": 1,
   "metadata": {},
   "outputs": [
    {
     "name": "stdout",
     "output_type": "stream",
     "text": [
      "The autoreload extension is already loaded. To reload it, use:\n",
      "  %reload_ext autoreload\n"
     ]
    }
   ],
   "source": [
    "%load_ext autoreload\n",
    "import pandas as pd\n",
    "import numpy as np\n",
    "import os\n",
    "import sys\n",
    "\n",
    "import plotly.express as px\n",
    "import plotly.io as pio\n",
    "import multiprocess as mp\n",
    "\n",
    "SCRIPT_DIR = os.path.dirname(os.path.abspath(\"pcgna_processing.py\"))\n",
    "sys.path.append(os.path.dirname(SCRIPT_DIR))\n",
    "sys.path.append('/Users/vlad/Documents/Code/York/iNet_v2/src/')\n",
    "\n",
    "from NetworkAnalysis.ExperimentSet import ExperimentSet\n",
    "from NetworkAnalysis import GraphHelper as gh\n",
    "from NetworkAnalysis.utilities.helpers import save_fig\n",
    "from NetworkAnalysis.GraphToolExp import GraphToolExperiment as GtExp\n",
    "import graph_tool.all as gt\n",
    "\n",
    "# %matplotlib inline\n",
    "\n",
    "pio.templates.default = \"ggplot2\"\n",
    "pool = mp.Pool(mp.cpu_count())"
   ]
  },
  {
   "cell_type": "code",
   "execution_count": 2,
   "metadata": {},
   "outputs": [],
   "source": [
    "results_path = \"../../results/exp/\"\n",
    "data_base = \"../../data/\"\n",
    "base_path = \"../../results/network_II/\"\n",
    "\n",
    "figures_path = \"../network_II/reward/\"\n",
    "\n",
    "sbm_exps_path = \"sbm/\"\n",
    "control_exps_path = \"mut_control_v3_2/\"\n",
    "\n",
    "vu_output = pd.read_csv(f\"{data_base}/metadata/VU_clustering_v3.tsv\", sep=\"\\t\", index_col=\"Sample\")\n",
    "\n",
    "tcga_mutations_df = pd.read_csv(f\"{data_base}/tumour/mutations_tcga.csv\")\n",
    "tcga_mutations_df = tcga_mutations_df[tcga_mutations_df[\"count\"] != 0].set_index(\"gene\")\n",
    "\n",
    "all_tum_tpms = pd.read_csv(f\"{data_base}/tumour/tum_TPMs_selected_genes_gc42_all_v4.tsv\", sep=\"\\t\", index_col=\"genes\")\n",
    "\n",
    "healthy_metadata = pd.read_csv(f\"{data_base}/metadata/healthy_bladder_metadata.tsv\", sep=\"\\t\", index_col=\"Sample\", dtype_backend=\"pyarrow\")\n",
    "\n",
    "# tf list\n",
    "tf_path = f\"{data_base}/metadata/TF_names_v_1.01.txt\"\n",
    "if os.path.exists(tf_path):\n",
    "    tf_list = np.genfromtxt(fname=tf_path, delimiter=\"\\t\", skip_header=1, dtype=\"str\")"
   ]
  },
  {
   "cell_type": "markdown",
   "metadata": {},
   "source": [
    "# Load experiments"
   ]
  },
  {
   "cell_type": "code",
   "execution_count": 3,
   "metadata": {},
   "outputs": [
    {
     "name": "stdout",
     "output_type": "stream",
     "text": [
      "##### Experiment labels:  dict_keys(['standard_5K_6TF_sbm', 'standard_5K_6TF_hsbm', 'sigmoid_5K_6TF_hsbm'])\n",
      "Loading Graph-Tool for sigmoid_5K_6TF_hsbm\n"
     ]
    }
   ],
   "source": [
    "hsbm_v3 = ExperimentSet(\"v3\", base_path=base_path, exp_path=sbm_exps_path, mut_df=tcga_mutations_df, sel_sets=None, exp_type=\"iNet\")\n",
    "\n",
    "exps = {}\n",
    "for idx, exp in enumerate(hsbm_v3.get_exps()):\n",
    "    if \"sigmoid\" not in exp.name:  # or idx != 2:\n",
    "        continue\n",
    "\n",
    "    print(f\"Loading Graph-Tool for {exp.type}\")\n",
    "    exp = GtExp.from_pgcna_inet(exp, rel_path=\"\")\n",
    "    gt.remove_self_loops(exp.gt_g)  # needed for sigmoid\n",
    "\n",
    "    # partitions from hSBM\n",
    "    exp.hsbm_add_vp(mut_df=tcga_mutations_df)\n",
    "    com_df, _ = exp.hsbm_get_gt_df()\n",
    "\n",
    "    exp.export_to_gephi(save=False, com_df=com_df)\n",
    "\n",
    "    # Need it for comparison\n",
    "    exps[exp.type] = exp\n",
    "\n",
    "hsbm_v3.exps = exps"
   ]
  },
  {
   "cell_type": "code",
   "execution_count": 4,
   "metadata": {},
   "outputs": [],
   "source": [
    "%autoreload 2\n",
    "sel_gt: GtExp = hsbm_v3.exps[\"sigmoid_5K_6TF_hsbm\"]\n",
    "gt_state: gt.NestedBlockState = sel_gt.hstateObj[\"state\"]\n",
    "\n",
    "sel_gt.hsbm_add_vp(mut_df=tcga_mutations_df)\n",
    "\n",
    "gt_g = sel_gt.gt_g\n",
    "com_df, _ = sel_gt.hsbm_get_gt_df()\n",
    "\n",
    "# Compute and store the nodes/edges with all the information\n",
    "sel_gt.export_to_gephi(save=False, com_df = com_df)\n",
    "graph_stats = sel_gt.compute_graph_stats()\n",
    "\n",
    "nodes_df: pd.DataFrame = gh.add_stats_to(nodes_df=sel_gt.nodes_df, tpm_df=sel_gt.tpm_df)"
   ]
  },
  {
   "cell_type": "markdown",
   "metadata": {},
   "source": [
    "# Experiment well-connected"
   ]
  },
  {
   "cell_type": "code",
   "execution_count": 5,
   "metadata": {},
   "outputs": [
    {
     "name": "stdout",
     "output_type": "stream",
     "text": [
      "Number of coms 14 of 45\n",
      "[1, 2, 3, 5, 7, 8, 10, 12, 15, 18, 28, 32, 33, 42]\n",
      "Nummber of genes selected 122\n"
     ]
    }
   ],
   "source": [
    "def get_high_deg(exp: GtExp, com_det=\"max_b\"):\n",
    "\n",
    "    nodes_df = exp.nodes_df\n",
    "    col_metric = \"degree_t\"\n",
    "\n",
    "    #### Compute the network stats\n",
    "    network_stats: pd.DataFrame = exp.compute_graph_stats()\n",
    "    network_stats[\"max_b\"] = nodes_df[\"max_b\"].astype(str)\n",
    "    network_stats[\"Modularity Class\"] = nodes_df[\"Modularity Class\"].astype(str)\n",
    "\n",
    "    ### Mean degree\n",
    "    com_stats, col_metric = [], \"degree_t\"\n",
    "    for com in network_stats[com_det].unique():\n",
    "        sel_net = network_stats.loc[network_stats[com_det] == com]\n",
    "        com_stats.append((int(com), sel_net[col_metric].mean()))\n",
    "    com_stats = pd.DataFrame(com_stats, columns=[\"com\", \"mean_degree\"])\n",
    "\n",
    "    network_stats[\"mean_degree\"] = round(com_stats[\"mean_degree\"])\n",
    "    com_stats.sort_values(by=\"com\", inplace=True)\n",
    "    com_stats[\"com\"] = com_stats[\"com\"].astype(str)\n",
    "\n",
    "    return network_stats, com_stats\n",
    "\n",
    "\n",
    "def process_high_deg(exp: GtExp, com_stats: pd.DataFrame):\n",
    "\n",
    "    nodes_df = exp.nodes_df\n",
    "    # th degree of the given percentile (70) so that it includes all the communities w/ mean degree > 10\n",
    "    th = 70\n",
    "    th_dg = np.percentile(com_stats[\"mean_degree\"], th)\n",
    "    coms = com_stats[com_stats[\"mean_degree\"] > th_dg][\"com\"].astype(int)\n",
    "    print(f\"Number of coms {coms.shape[0]} of {len(nodes_df['max_b'].unique())}\")\n",
    "    print(list(coms.values))\n",
    "\n",
    "    sel_com_genes = nodes_df.loc[nodes_df[\"max_b\"].isin(coms)][[\"count\", \"TF\", \"max_b\"]].rename(columns={\"count\": \"mut_count\"})\n",
    "\n",
    "    print(f\"Nummber of genes selected {sel_com_genes.shape[0]}\")\n",
    "\n",
    "    return sel_com_genes\n",
    "\n",
    "\n",
    "def corr_rank_stats(exp: GtExp, corr_df: pd.DataFrame, sel_com_genes: pd.DataFrame):\n",
    "    rank_stats = []\n",
    "    for gene in sel_com_genes.index:\n",
    "        # Get the neighbors for the gene\n",
    "        _, n_df = exp.get_gene_neigbhors(gene_name=gene, verbose=False)\n",
    "        neighbors = list(n_df.index)\n",
    "\n",
    "        # Rank the neighbors ranking in unmodified corr matrix\n",
    "        unmodified_rank = corr_df.loc[neighbors, :].rank(ascending=False, axis=1)\n",
    "        gene_ranked = pd.DataFrame(unmodified_rank.loc[:, gene].rename(gene))\n",
    "\n",
    "        rank_stats.append((gene, gene_ranked.min()[0], gene_ranked.max()[0], gene_ranked.mean()[0], gene_ranked.median()[0], gene_ranked.std()[0]))\n",
    "\n",
    "    rank_stats = pd.DataFrame(rank_stats, columns=[\"gene\", \"min\", \"max\", \"mean\", \"median\", \"std\"]).set_index(\"gene\")\n",
    "\n",
    "    return rank_stats\n",
    "\n",
    "\n",
    "def compute_rank_ctrl(idx: int, ctrl_exps: dict, figures_path: str):\n",
    "\n",
    "    ctrl_exp: GtExp = ctrl_exps[idx].exps[\"sigmoid_5K_6TF_hsbm\"]\n",
    "    ctrl_mut: pd.DataFrame = pd.read_csv(f\"{figures_path}/control_mutated/control_mutated_{idx}.csv\", index_col=\"gene\")\n",
    "    ctrl_genes = ctrl_mut[ctrl_mut[\"Type\"] == \"Control High Degree\"].index\n",
    "\n",
    "    _, ctrl_com_stats = get_high_deg(ctrl_exp)\n",
    "    ctrl_sel_com_genes = process_high_deg(ctrl_exp, ctrl_com_stats)\n",
    "\n",
    "    cmn_high_deg_genes = set(ctrl_sel_com_genes.index) & set(sel_com_genes.index)\n",
    "\n",
    "    ctrl_genes_high = set(ctrl_sel_com_genes.index) & set(ctrl_genes)\n",
    "    print(f\"--> Common Exp & Control highly connected genes {len(cmn_high_deg_genes)}\")\n",
    "    print(f\"--> Ctrl highly connected genes {len(ctrl_genes_high)}\")\n",
    "\n",
    "    rank_stats = corr_rank_stats(ctrl_exp, corr_df, sel_com_genes=ctrl_sel_com_genes)\n",
    "\n",
    "    return rank_stats\n",
    "\n",
    "\n",
    "network_stats, com_stats = get_high_deg(sel_gt)\n",
    "sel_com_genes = process_high_deg(sel_gt, com_stats)"
   ]
  },
  {
   "cell_type": "markdown",
   "metadata": {},
   "source": [
    "# Control"
   ]
  },
  {
   "cell_type": "code",
   "execution_count": 6,
   "metadata": {},
   "outputs": [],
   "source": [
    "import random\n",
    "\n",
    "### Generate the mutations\n",
    "if 0:\n",
    "    for i in range(1, 2):\n",
    "        # keep a copy of the initial dataset\n",
    "        all_5K_genes = sel_gt.tpm_df.copy(deep=True)\n",
    "        all_5K_genes[\"mut_count\"] = tcga_mutations_df[\"count\"]\n",
    "        all_5K_genes[\"mut_count\"].fillna(0, inplace=True)\n",
    "        all_5K_genes = all_5K_genes.reset_index()[[\"genes\", \"mut_count\"]]\n",
    "        not_mutated = all_5K_genes[all_5K_genes[\"mut_count\"] == 0][\"genes\"]\n",
    "\n",
    "        ### Randomnly NOT select the highly-connected genes\n",
    "        rand_sel_genes = random.sample(list(not_mutated), len(sel_com_genes))\n",
    "        rename_genes = {sel_com_genes.index[idx]: rand_sel_genes[idx] for idx in range(0, len(rand_sel_genes))}\n",
    "\n",
    "        ### Change the highly connected genes to the randomnly picked\n",
    "        highly_con = all_5K_genes.loc[all_5K_genes[\"genes\"].isin(sel_com_genes.index)]\n",
    "        highly_con[\"genes\"] = highly_con[\"genes\"].replace(rename_genes)\n",
    "        highly_con.set_index(\"genes\", inplace=True)\n",
    "\n",
    "        ### The randomnly picked genes are changed with the highly connected\n",
    "        reversed_dict = {value: key for key, value in rename_genes.items()}\n",
    "        not_highly_con = all_5K_genes.loc[~all_5K_genes[\"genes\"].isin(sel_com_genes.index)]\n",
    "        not_highly_con[\"genes\"] = not_highly_con[\"genes\"].replace(reversed_dict)\n",
    "        not_highly_con.set_index(\"genes\", inplace=True)\n",
    "\n",
    "        new_mutated_genes = pd.concat([not_highly_con, highly_con], axis=0)\n",
    "        new_mutated_genes[\"Type\"] = \"Experiment\"\n",
    "        new_mutated_genes.loc[rename_genes.keys(), \"Type\"] = \"Experiment High Degree\"\n",
    "        new_mutated_genes.loc[rename_genes.values(), \"Type\"] = \"Control High Degree\"\n",
    "\n",
    "        ### Exported\n",
    "        new_mutated_genes[\"mut_count\"] = new_mutated_genes[\"mut_count\"].astype(int)\n",
    "        new_mutated_genes.rename(columns={\"mut_count\": \"count\"}, inplace=True)\n",
    "        new_mutated_genes.index.names = [\"gene\"]\n",
    "        new_mutated_genes.to_csv(f\"{figures_path}/control_mutated_{i}_c.csv\")"
   ]
  },
  {
   "cell_type": "code",
   "execution_count": 7,
   "metadata": {},
   "outputs": [
    {
     "data": {
      "text/plain": [
       "['ctrl_2', 'ctrl_5', 'ctrl_4', 'ctrl_3', 'ctrl_1', 'ctrl_0']"
      ]
     },
     "execution_count": 7,
     "metadata": {},
     "output_type": "execute_result"
    }
   ],
   "source": [
    "folders_path = f\"{base_path}/mut_control_v3_4/\"\n",
    "folders = next(os.walk(f\"{folders_path}\"), (None, None, []))[1]\n",
    "folders"
   ]
  },
  {
   "cell_type": "code",
   "execution_count": 8,
   "metadata": {},
   "outputs": [
    {
     "name": "stdout",
     "output_type": "stream",
     "text": [
      "### Control experiment form ctrl_2\n",
      "##### Experiment labels:  dict_keys(['sigmoid_5K_6TF_hsbm'])\n",
      "Loading Graph-Tool for sigmoid_5K_6TF_hsbm\n",
      "### Control experiment form ctrl_5\n",
      "##### Experiment labels:  dict_keys(['sigmoid_5K_6TF_hsbm'])\n",
      "Loading Graph-Tool for sigmoid_5K_6TF_hsbm\n",
      "### Control experiment form ctrl_4\n",
      "##### Experiment labels:  dict_keys(['sigmoid_5K_6TF_hsbm'])\n",
      "Loading Graph-Tool for sigmoid_5K_6TF_hsbm\n",
      "### Control experiment form ctrl_3\n",
      "##### Experiment labels:  dict_keys(['sigmoid_5K_6TF_hsbm'])\n",
      "Loading Graph-Tool for sigmoid_5K_6TF_hsbm\n",
      "### Control experiment form ctrl_1\n",
      "##### Experiment labels:  dict_keys(['sigmoid_5K_6TF_hsbm'])\n",
      "Loading Graph-Tool for sigmoid_5K_6TF_hsbm\n",
      "### Control experiment form ctrl_0\n",
      "##### Experiment labels:  dict_keys(['sigmoid_5K_6TF_hsbm'])\n",
      "Loading Graph-Tool for sigmoid_5K_6TF_hsbm\n"
     ]
    }
   ],
   "source": [
    "folders_path = f\"{base_path}/mut_control_v3_4/\"\n",
    "folders = next(os.walk(f\"{folders_path}\"), (None, None, []))[1]\n",
    "\n",
    "ctrls = {}\n",
    "for folder in folders:\n",
    "    print(f\"### Control experiment form {folder}\")\n",
    "    ctrl_path = f\"{folders_path}/{folder}/\"\n",
    "    idx = int(folder.split(\"ctrl_\")[-1])\n",
    "\n",
    "    # Load the experiment set\n",
    "    ctrls[idx] = ExperimentSet(\"ctrl\", base_path, ctrl_path, tcga_mutations_df, sel_sets=None, rel_path=\"../\", exp_type=\"iNet\")\n",
    "    ctrls[idx].export_to_gephi(save=False)\n",
    "\n",
    "    # Compute the required information\n",
    "    exps = {}\n",
    "    for exp in ctrls[idx].get_exps():\n",
    "        if \"sigmoid\" not in exp.name:\n",
    "            continue\n",
    "\n",
    "        print(f\"Loading Graph-Tool for {exp.type}\")\n",
    "        exp = GtExp.from_pgcna_inet(exp, rel_path=\"\")\n",
    "\n",
    "        # partitions from hSBM\n",
    "        exp.hsbm_add_vp(mut_df=tcga_mutations_df)\n",
    "        com_df, _ = exp.hsbm_get_gt_df()\n",
    "\n",
    "        gt_g = exp.gt_g\n",
    "\n",
    "        exp.export_to_gephi(save=False, com_df=com_df)\n",
    "        exp.gt_modCon_MEV(all_tpms=exp.tpm_df, is_imev=True)\n",
    "\n",
    "        graph_stats = exp.compute_graph_stats()\n",
    "        nodes_df: pd.DataFrame = gh.add_stats_to(nodes_df=exp.nodes_df, tpm_df=exp.tpm_df)\n",
    "        exp.nodes_df = nodes_df\n",
    "\n",
    "        # Need it for comparison\n",
    "        exps[exp.type] = exp\n",
    "\n",
    "    # Save the experiments\n",
    "    ctrls[idx].exps = exps"
   ]
  },
  {
   "cell_type": "code",
   "execution_count": 9,
   "metadata": {},
   "outputs": [
    {
     "name": "stdout",
     "output_type": "stream",
     "text": [
      "Number of coms 13 of 42\n",
      "[1, 2, 4, 6, 8, 9, 13, 20, 23, 24, 34, 35, 38]\n",
      "Nummber of genes selected 137\n",
      "--> Common highly connected genes 0\n"
     ]
    }
   ],
   "source": [
    "ctrl_exp: GtExp = ctrls[3].exps[\"sigmoid_5K_6TF_hsbm\"]\n",
    "ctrl_gt_g = ctrl_exp.gt_g\n",
    "_, ctrl_com_stats = get_high_deg(ctrl_exp)\n",
    "ctrl_sel_com_genes = process_high_deg(ctrl_exp, ctrl_com_stats)\n",
    "\n",
    "cmn_high_deg_genes = set(ctrl_sel_com_genes.index) & set(sel_com_genes.index)\n",
    "print(f\"--> Common highly connected genes {len(cmn_high_deg_genes)}\")"
   ]
  },
  {
   "cell_type": "markdown",
   "metadata": {},
   "source": [
    "## Rank stats"
   ]
  },
  {
   "cell_type": "code",
   "execution_count": 10,
   "metadata": {},
   "outputs": [],
   "source": [
    "corr_df = sel_gt.tpm_df.T.corr(\"spearman\")"
   ]
  },
  {
   "cell_type": "code",
   "execution_count": 11,
   "metadata": {},
   "outputs": [
    {
     "name": "stdout",
     "output_type": "stream",
     "text": [
      "Number of coms 13 of 42\n",
      "[1, 2, 4, 6, 8, 9, 13, 20, 23, 24, 34, 35, 38]\n",
      "Nummber of genes selected 137\n",
      "--> Common Exp & Control highly connected genes 0\n",
      "--> Ctrl highly connected genes 88\n"
     ]
    },
    {
     "data": {
      "application/vnd.plotly.v1+json": {
       "config": {
        "plotlyServerURL": "https://plot.ly"
       },
       "data": [
        {
         "alignmentgroup": "True",
         "error_y": {
          "array": [
           391.12026603079516,
           292.9653563136775,
           528.4140842601041,
           438.4250933739993,
           384.74612841890087,
           488.8861489822213,
           254.9427438300195,
           142.92742706491185,
           378.16883354748666,
           255.6540631400174,
           135.81343232132394,
           276.7247127863116,
           298.3164916102807,
           151.35302273414055,
           129.45017828880665,
           143.9397262642488,
           197.4043455201838,
           203.57448619257627,
           353.1235619439745,
           131.79169525433787,
           111.11504998102349,
           216.12485989667982,
           135.67300420191668,
           117.22247636771787,
           126.0266396375629,
           240.6434454896764,
           135.603199809825,
           176.98178228423458,
           171.55406235048534,
           200.18040938504632,
           136.87246709548208,
           139.43300645945556,
           298.1078104757852,
           198.16524772028117,
           184.659097102897,
           137.49229974249198,
           157.45599573203359,
           107.74707914368386,
           129.7276159124298,
           109.63065558443039,
           112.91018345665113,
           105.41941359634058,
           141.21515511328815,
           96.10388656103282,
           106.7955601179919,
           94.08017655730251,
           88.1478868013176,
           185.69775743025144,
           107.8376339164153,
           109.75255480820388,
           185.2499481798945,
           173.54164245698112,
           217.69181499493607,
           96.3690820297127,
           97.5805880984762,
           129.22443873704773,
           121.29797082916403,
           124.95525223030866,
           149.42533459824165,
           85.66310297250708,
           217.17810019862122,
           229.9827086897976,
           70.55812264497197,
           221.76838273232312,
           106.22595692576971,
           146.69922019245362,
           86.50406208269195,
           103.06093169979695,
           95.7328633470987,
           95.01771768253954,
           82.41781038410318,
           102.15512081646139,
           81.50586635366628,
           88.59794192923454,
           260.75165242510786,
           90.72361148724642,
           81.66928436244201,
           174.79792414589565,
           213.9567713347722,
           73.5602569267505,
           135.7576098168659,
           53.80648441828738,
           63.07457609042947,
           112.13514389874955,
           88.7904055127079,
           53.99452202222378,
           102.20689800595653,
           60.53940109508066,
           76.91595014380842,
           106.9114898720744,
           62.40658620868243,
           54.337626619474456,
           116.37000482073559,
           64.45282638165502,
           105.65483635141577,
           86.76624386343343,
           67.28184228319263,
           104.8503179837169,
           50.1050115595635,
           44.9137992648894,
           150.6895262894317,
           50.893081264616185,
           106.5523345591264,
           63.648563585242414,
           49.09225474068669,
           69.62356796859854,
           46.027234746222135,
           97.4466086555173,
           69.53271227935149,
           58.34333247633738,
           66.96910564664209,
           79.69592169656447,
           91.26863486257159,
           142.393897169856,
           36.0525454441082,
           41.559208559499226,
           96.73462639956817,
           41.93583211051273,
           72.5262842337997,
           53.46957147660364,
           36.21622300132266,
           33.551544899726615,
           45.82980493530562,
           47.36049496697098,
           58.859343035349404,
           25.44520507951275,
           38.41667488332259,
           15.843436898401281,
           55.0992417078639,
           26.034255109704972,
           26.0747249088033,
           33.346118760114145,
           20.437762295798784,
           24.734738560709847,
           39.81800310069954,
           15.090504740840625,
           7.696234543189991
          ]
         },
         "hovertemplate": "gene=%{x}<br>mean=%{y}<extra></extra>",
         "legendgroup": "",
         "marker": {
          "color": "#F8766D",
          "pattern": {
           "shape": ""
          }
         },
         "name": "",
         "offsetgroup": "",
         "orientation": "v",
         "showlegend": false,
         "textposition": "auto",
         "type": "bar",
         "x": [
          "KLK4",
          "ENSG00000280571",
          "POLR2J2",
          "SLC39A8",
          "BDKRB2",
          "NAAA",
          "COL12A1",
          "MICB",
          "AMACR",
          "FBXO2",
          "DLGAP1-AS1",
          "POLA2",
          "RHCG",
          "MIRLET7A1HG",
          "IFFO2",
          "MYH9",
          "ENSG00000286584",
          "ENSG00000273271",
          "S100A9",
          "ENSG00000242317",
          "CDC42EP2",
          "C10orf95",
          "ENSG00000267002",
          "LNCTAM34A",
          "ENSG00000268416",
          "GBF1",
          "WNK1",
          "BRIP1",
          "SPDYE10",
          "LRMDA",
          "TMEM202-AS1",
          "PPP1R3G",
          "ENSG00000272638",
          "EIF2AK3-DT",
          "TFAP2A",
          "HIC1",
          "TCIM",
          "NDUFAF4",
          "ENSG00000267344",
          "ENSG00000267274",
          "MFNG",
          "KHDC1-AS1",
          "MIR193BHG",
          "NME4",
          "LY6E",
          "SRPX2",
          "COQ8A",
          "ARHGEF38",
          "IFI6",
          "EIF5A2",
          "UCK2",
          "FANCD2",
          "HOTTIP",
          "GOLT1A",
          "PWRN1",
          "ENSG00000290792",
          "BORCS8-MEF2B",
          "ENSG00000259244",
          "SPTBN1-AS2",
          "ENSG00000249631",
          "C3",
          "TNS1",
          "RTTN",
          "H2AC19",
          "EOLA1-DT",
          "DLEU2",
          "NAA80",
          "ENSG00000283674",
          "LINC02175",
          "SAMD12",
          "SYT9-AS1",
          "ZSWIM6",
          "ENSG00000287839",
          "IDI2-AS1",
          "A2ML1",
          "CMTM4",
          "CLCA4-AS1",
          "SELENOK",
          "CYP4A22-AS1",
          "RNF223",
          "CTSH",
          "RTL10",
          "RBM3",
          "STMN1",
          "SEMA3F-AS1",
          "SNHG22",
          "PXDN",
          "ENSG00000291156",
          "LINC01786",
          "FOXQ1",
          "ENSG00000261240",
          "H1-0",
          "PCDH1",
          "GASK1A",
          "EHBP1",
          "ENSG00000264769",
          "MICAL2",
          "CCN2",
          "CALD1",
          "ENSG00000260370",
          "ZNF750",
          "LGALS1",
          "WDHD1",
          "NALT1",
          "THBS2",
          "NOP53",
          "ITGB4",
          "CIRBP-AS1",
          "CCDC18",
          "NID1",
          "PLK3",
          "ENSG00000273132",
          "VIPR1-AS1",
          "NFAT5",
          "MYO10",
          "PLAC8",
          "ENSG00000256646",
          "SMC2",
          "ZNF335",
          "ENSG00000273599",
          "ENSG00000290385",
          "ISG15",
          "SUV39H1",
          "SYTL2",
          "NPIPB2",
          "AGTPBP1",
          "ARHGAP29",
          "SAMD9L",
          "LAMB1",
          "ENSG00000260051",
          "NAV1",
          "JAG1",
          "LTBP4",
          "PTPRK",
          "MARS1",
          "DHX34",
          "RUSC2"
         ],
         "xaxis": "x",
         "y": [
          451.125,
          349.8,
          336.77777777777777,
          332.625,
          328.25,
          319.5,
          291.44736842105266,
          282.429203539823,
          281.5,
          262.5,
          262.12297734627833,
          261.8333333333333,
          248.125,
          246.36969696969697,
          241.84099616858236,
          225.99056603773585,
          217.62857142857143,
          214.28571428571428,
          213.75,
          207.0989010989011,
          202.73907103825135,
          199.97222222222223,
          198.6279527559055,
          191.1991643454039,
          191.00765696784075,
          186.875,
          184.93947368421053,
          184.4857142857143,
          183.4025974025974,
          182.42105263157896,
          182.2,
          180.904,
          180.86666666666667,
          177.0222222222222,
          174.125,
          169.85714285714286,
          169.0681818181818,
          168.9973821989529,
          167.22886597938145,
          165.32616487455198,
          164.17021276595744,
          161.97142857142856,
          161.71818181818182,
          161.22381756756758,
          159.33921161825725,
          157.9628252788104,
          157.66816816816817,
          157.45652173913044,
          155.6688034188034,
          153.71932515337423,
          153.47222222222223,
          153.42,
          152.4,
          147.35828877005346,
          147.08510638297872,
          145.8988764044944,
          145.53333333333333,
          141.21153846153845,
          140.93617021276594,
          138.5189701897019,
          138.02941176470588,
          137.75,
          137.01315789473685,
          135.54166666666666,
          135.4529520295203,
          132.38636363636363,
          129.3404255319149,
          129.04109589041096,
          128.33527131782947,
          126.39741847826087,
          125.94009216589862,
          125.78411053540587,
          124.85949764521193,
          123.33707865168539,
          117.16666666666667,
          112.93932038834951,
          111.46503496503496,
          104.8,
          103,
          98.75115207373273,
          91.29166666666667,
          90.29294478527608,
          89.94093406593407,
          86.87931034482759,
          85.29629629629629,
          82.62162162162163,
          80.33333333333333,
          78.27845528455285,
          76.35416666666667,
          73.26666666666667,
          71.98471615720524,
          69.17175572519083,
          68.14285714285714,
          66.46632124352331,
          66.22222222222223,
          65.82608695652173,
          65.55102040816327,
          65.1842105263158,
          61.4822695035461,
          59.525,
          59.22222222222222,
          59.14601769911504,
          59,
          57.68888888888889,
          56.52272727272727,
          56.077922077922075,
          51.715,
          47.80769230769231,
          47.25,
          47.22222222222222,
          47.111111111111114,
          45.47727272727273,
          45.1875,
          43.18292682926829,
          42.28531073446328,
          41.266666666666666,
          41.23913043478261,
          41.01063829787234,
          39.476190476190474,
          38.93103448275862,
          38.575581395348834,
          36.06730769230769,
          35.42,
          34.642857142857146,
          34.58620689655172,
          28.46153846153846,
          28.25,
          28.166666666666668,
          27.933333333333334,
          25.924657534246574,
          25.075581395348838,
          24.181818181818183,
          19.5,
          16.90625,
          16.780701754385966,
          14.16,
          8.055555555555555
         ],
         "yaxis": "y"
        }
       ],
       "layout": {
        "barmode": "relative",
        "height": 700,
        "legend": {
         "tracegroupgap": 0
        },
        "template": {
         "data": {
          "bar": [
           {
            "error_x": {
             "color": "rgb(51,51,51)"
            },
            "error_y": {
             "color": "rgb(51,51,51)"
            },
            "marker": {
             "line": {
              "color": "rgb(237,237,237)",
              "width": 0.5
             },
             "pattern": {
              "fillmode": "overlay",
              "size": 10,
              "solidity": 0.2
             }
            },
            "type": "bar"
           }
          ],
          "barpolar": [
           {
            "marker": {
             "line": {
              "color": "rgb(237,237,237)",
              "width": 0.5
             },
             "pattern": {
              "fillmode": "overlay",
              "size": 10,
              "solidity": 0.2
             }
            },
            "type": "barpolar"
           }
          ],
          "carpet": [
           {
            "aaxis": {
             "endlinecolor": "rgb(51,51,51)",
             "gridcolor": "white",
             "linecolor": "white",
             "minorgridcolor": "white",
             "startlinecolor": "rgb(51,51,51)"
            },
            "baxis": {
             "endlinecolor": "rgb(51,51,51)",
             "gridcolor": "white",
             "linecolor": "white",
             "minorgridcolor": "white",
             "startlinecolor": "rgb(51,51,51)"
            },
            "type": "carpet"
           }
          ],
          "choropleth": [
           {
            "colorbar": {
             "outlinewidth": 0,
             "tickcolor": "rgb(237,237,237)",
             "ticklen": 6,
             "ticks": "inside"
            },
            "type": "choropleth"
           }
          ],
          "contour": [
           {
            "colorbar": {
             "outlinewidth": 0,
             "tickcolor": "rgb(237,237,237)",
             "ticklen": 6,
             "ticks": "inside"
            },
            "colorscale": [
             [
              0,
              "rgb(20,44,66)"
             ],
             [
              1,
              "rgb(90,179,244)"
             ]
            ],
            "type": "contour"
           }
          ],
          "contourcarpet": [
           {
            "colorbar": {
             "outlinewidth": 0,
             "tickcolor": "rgb(237,237,237)",
             "ticklen": 6,
             "ticks": "inside"
            },
            "type": "contourcarpet"
           }
          ],
          "heatmap": [
           {
            "colorbar": {
             "outlinewidth": 0,
             "tickcolor": "rgb(237,237,237)",
             "ticklen": 6,
             "ticks": "inside"
            },
            "colorscale": [
             [
              0,
              "rgb(20,44,66)"
             ],
             [
              1,
              "rgb(90,179,244)"
             ]
            ],
            "type": "heatmap"
           }
          ],
          "heatmapgl": [
           {
            "colorbar": {
             "outlinewidth": 0,
             "tickcolor": "rgb(237,237,237)",
             "ticklen": 6,
             "ticks": "inside"
            },
            "colorscale": [
             [
              0,
              "rgb(20,44,66)"
             ],
             [
              1,
              "rgb(90,179,244)"
             ]
            ],
            "type": "heatmapgl"
           }
          ],
          "histogram": [
           {
            "marker": {
             "pattern": {
              "fillmode": "overlay",
              "size": 10,
              "solidity": 0.2
             }
            },
            "type": "histogram"
           }
          ],
          "histogram2d": [
           {
            "colorbar": {
             "outlinewidth": 0,
             "tickcolor": "rgb(237,237,237)",
             "ticklen": 6,
             "ticks": "inside"
            },
            "colorscale": [
             [
              0,
              "rgb(20,44,66)"
             ],
             [
              1,
              "rgb(90,179,244)"
             ]
            ],
            "type": "histogram2d"
           }
          ],
          "histogram2dcontour": [
           {
            "colorbar": {
             "outlinewidth": 0,
             "tickcolor": "rgb(237,237,237)",
             "ticklen": 6,
             "ticks": "inside"
            },
            "colorscale": [
             [
              0,
              "rgb(20,44,66)"
             ],
             [
              1,
              "rgb(90,179,244)"
             ]
            ],
            "type": "histogram2dcontour"
           }
          ],
          "mesh3d": [
           {
            "colorbar": {
             "outlinewidth": 0,
             "tickcolor": "rgb(237,237,237)",
             "ticklen": 6,
             "ticks": "inside"
            },
            "type": "mesh3d"
           }
          ],
          "parcoords": [
           {
            "line": {
             "colorbar": {
              "outlinewidth": 0,
              "tickcolor": "rgb(237,237,237)",
              "ticklen": 6,
              "ticks": "inside"
             }
            },
            "type": "parcoords"
           }
          ],
          "pie": [
           {
            "automargin": true,
            "type": "pie"
           }
          ],
          "scatter": [
           {
            "fillpattern": {
             "fillmode": "overlay",
             "size": 10,
             "solidity": 0.2
            },
            "type": "scatter"
           }
          ],
          "scatter3d": [
           {
            "line": {
             "colorbar": {
              "outlinewidth": 0,
              "tickcolor": "rgb(237,237,237)",
              "ticklen": 6,
              "ticks": "inside"
             }
            },
            "marker": {
             "colorbar": {
              "outlinewidth": 0,
              "tickcolor": "rgb(237,237,237)",
              "ticklen": 6,
              "ticks": "inside"
             }
            },
            "type": "scatter3d"
           }
          ],
          "scattercarpet": [
           {
            "marker": {
             "colorbar": {
              "outlinewidth": 0,
              "tickcolor": "rgb(237,237,237)",
              "ticklen": 6,
              "ticks": "inside"
             }
            },
            "type": "scattercarpet"
           }
          ],
          "scattergeo": [
           {
            "marker": {
             "colorbar": {
              "outlinewidth": 0,
              "tickcolor": "rgb(237,237,237)",
              "ticklen": 6,
              "ticks": "inside"
             }
            },
            "type": "scattergeo"
           }
          ],
          "scattergl": [
           {
            "marker": {
             "colorbar": {
              "outlinewidth": 0,
              "tickcolor": "rgb(237,237,237)",
              "ticklen": 6,
              "ticks": "inside"
             }
            },
            "type": "scattergl"
           }
          ],
          "scattermapbox": [
           {
            "marker": {
             "colorbar": {
              "outlinewidth": 0,
              "tickcolor": "rgb(237,237,237)",
              "ticklen": 6,
              "ticks": "inside"
             }
            },
            "type": "scattermapbox"
           }
          ],
          "scatterpolar": [
           {
            "marker": {
             "colorbar": {
              "outlinewidth": 0,
              "tickcolor": "rgb(237,237,237)",
              "ticklen": 6,
              "ticks": "inside"
             }
            },
            "type": "scatterpolar"
           }
          ],
          "scatterpolargl": [
           {
            "marker": {
             "colorbar": {
              "outlinewidth": 0,
              "tickcolor": "rgb(237,237,237)",
              "ticklen": 6,
              "ticks": "inside"
             }
            },
            "type": "scatterpolargl"
           }
          ],
          "scatterternary": [
           {
            "marker": {
             "colorbar": {
              "outlinewidth": 0,
              "tickcolor": "rgb(237,237,237)",
              "ticklen": 6,
              "ticks": "inside"
             }
            },
            "type": "scatterternary"
           }
          ],
          "surface": [
           {
            "colorbar": {
             "outlinewidth": 0,
             "tickcolor": "rgb(237,237,237)",
             "ticklen": 6,
             "ticks": "inside"
            },
            "colorscale": [
             [
              0,
              "rgb(20,44,66)"
             ],
             [
              1,
              "rgb(90,179,244)"
             ]
            ],
            "type": "surface"
           }
          ],
          "table": [
           {
            "cells": {
             "fill": {
              "color": "rgb(237,237,237)"
             },
             "line": {
              "color": "white"
             }
            },
            "header": {
             "fill": {
              "color": "rgb(217,217,217)"
             },
             "line": {
              "color": "white"
             }
            },
            "type": "table"
           }
          ]
         },
         "layout": {
          "annotationdefaults": {
           "arrowhead": 0,
           "arrowwidth": 1
          },
          "autotypenumbers": "strict",
          "coloraxis": {
           "colorbar": {
            "outlinewidth": 0,
            "tickcolor": "rgb(237,237,237)",
            "ticklen": 6,
            "ticks": "inside"
           }
          },
          "colorscale": {
           "sequential": [
            [
             0,
             "rgb(20,44,66)"
            ],
            [
             1,
             "rgb(90,179,244)"
            ]
           ],
           "sequentialminus": [
            [
             0,
             "rgb(20,44,66)"
            ],
            [
             1,
             "rgb(90,179,244)"
            ]
           ]
          },
          "colorway": [
           "#F8766D",
           "#A3A500",
           "#00BF7D",
           "#00B0F6",
           "#E76BF3"
          ],
          "font": {
           "color": "rgb(51,51,51)"
          },
          "geo": {
           "bgcolor": "white",
           "lakecolor": "white",
           "landcolor": "rgb(237,237,237)",
           "showlakes": true,
           "showland": true,
           "subunitcolor": "white"
          },
          "hoverlabel": {
           "align": "left"
          },
          "hovermode": "closest",
          "paper_bgcolor": "white",
          "plot_bgcolor": "rgb(237,237,237)",
          "polar": {
           "angularaxis": {
            "gridcolor": "white",
            "linecolor": "white",
            "showgrid": true,
            "tickcolor": "rgb(51,51,51)",
            "ticks": "outside"
           },
           "bgcolor": "rgb(237,237,237)",
           "radialaxis": {
            "gridcolor": "white",
            "linecolor": "white",
            "showgrid": true,
            "tickcolor": "rgb(51,51,51)",
            "ticks": "outside"
           }
          },
          "scene": {
           "xaxis": {
            "backgroundcolor": "rgb(237,237,237)",
            "gridcolor": "white",
            "gridwidth": 2,
            "linecolor": "white",
            "showbackground": true,
            "showgrid": true,
            "tickcolor": "rgb(51,51,51)",
            "ticks": "outside",
            "zerolinecolor": "white"
           },
           "yaxis": {
            "backgroundcolor": "rgb(237,237,237)",
            "gridcolor": "white",
            "gridwidth": 2,
            "linecolor": "white",
            "showbackground": true,
            "showgrid": true,
            "tickcolor": "rgb(51,51,51)",
            "ticks": "outside",
            "zerolinecolor": "white"
           },
           "zaxis": {
            "backgroundcolor": "rgb(237,237,237)",
            "gridcolor": "white",
            "gridwidth": 2,
            "linecolor": "white",
            "showbackground": true,
            "showgrid": true,
            "tickcolor": "rgb(51,51,51)",
            "ticks": "outside",
            "zerolinecolor": "white"
           }
          },
          "shapedefaults": {
           "fillcolor": "black",
           "line": {
            "width": 0
           },
           "opacity": 0.3
          },
          "ternary": {
           "aaxis": {
            "gridcolor": "white",
            "linecolor": "white",
            "showgrid": true,
            "tickcolor": "rgb(51,51,51)",
            "ticks": "outside"
           },
           "baxis": {
            "gridcolor": "white",
            "linecolor": "white",
            "showgrid": true,
            "tickcolor": "rgb(51,51,51)",
            "ticks": "outside"
           },
           "bgcolor": "rgb(237,237,237)",
           "caxis": {
            "gridcolor": "white",
            "linecolor": "white",
            "showgrid": true,
            "tickcolor": "rgb(51,51,51)",
            "ticks": "outside"
           }
          },
          "xaxis": {
           "automargin": true,
           "gridcolor": "white",
           "linecolor": "white",
           "showgrid": true,
           "tickcolor": "rgb(51,51,51)",
           "ticks": "outside",
           "title": {
            "standoff": 15
           },
           "zerolinecolor": "white"
          },
          "yaxis": {
           "automargin": true,
           "gridcolor": "white",
           "linecolor": "white",
           "showgrid": true,
           "tickcolor": "rgb(51,51,51)",
           "ticks": "outside",
           "title": {
            "standoff": 15
           },
           "zerolinecolor": "white"
          }
         }
        },
        "title": {
         "text": "Average mean of the correlation rank of these genes in their neighbours ranks"
        },
        "xaxis": {
         "anchor": "y",
         "domain": [
          0,
          1
         ],
         "title": {
          "text": "gene"
         }
        },
        "yaxis": {
         "anchor": "x",
         "domain": [
          0,
          1
         ],
         "title": {
          "text": "mean"
         }
        }
       }
      }
     },
     "metadata": {},
     "output_type": "display_data"
    }
   ],
   "source": [
    "rank_stats = compute_rank_ctrl(idx=3, ctrl_exps=ctrls, figures_path=figures_path)\n",
    "\n",
    "metric = \"mean\"\n",
    "rank_stats.sort_values(by=metric, ascending=False, inplace=True)\n",
    "rank_stats[\"max_b\"] = sel_com_genes[\"max_b\"].astype(str)\n",
    "fig = px.bar(\n",
    "    rank_stats.reset_index(),\n",
    "    x=\"gene\",\n",
    "    y=metric,\n",
    "    error_y=\"std\",\n",
    "    hover_data=\"gene\",\n",
    "    title=f\"Average {metric} of the correlation rank of these genes in their neighbours ranks\",\n",
    ")\n",
    "fig.update_layout(height=700)"
   ]
  },
  {
   "cell_type": "markdown",
   "metadata": {},
   "source": [
    "## Ctrl genes in highest connected nodes"
   ]
  },
  {
   "cell_type": "code",
   "execution_count": 12,
   "metadata": {},
   "outputs": [
    {
     "name": "stdout",
     "output_type": "stream",
     "text": [
      "Number of coms 14 of 45\n",
      "[1, 2, 3, 5, 7, 8, 10, 12, 15, 18, 28, 32, 33, 42]\n",
      "Nummber of genes selected 122\n",
      "Number of coms 14 of 47\n",
      "[1, 2, 3, 6, 8, 12, 13, 17, 21, 28, 31, 33, 34, 36]\n",
      "Nummber of genes selected 143\n",
      "Number of coms 14 of 46\n",
      "[1, 2, 3, 5, 7, 15, 16, 18, 22, 36, 37, 38, 39, 40]\n",
      "Nummber of genes selected 112\n",
      "Number of coms 13 of 42\n",
      "[1, 2, 4, 6, 8, 9, 13, 20, 23, 24, 34, 35, 38]\n",
      "Nummber of genes selected 137\n",
      "Number of coms 13 of 42\n",
      "[1, 2, 6, 8, 10, 11, 14, 22, 24, 25, 27, 29, 36]\n",
      "Nummber of genes selected 118\n",
      "Number of coms 12 of 39\n",
      "[1, 2, 3, 5, 6, 9, 12, 15, 24, 27, 31, 32]\n",
      "Nummber of genes selected 119\n"
     ]
    },
    {
     "data": {
      "text/html": [
       "<div>\n",
       "<style scoped>\n",
       "    .dataframe tbody tr th:only-of-type {\n",
       "        vertical-align: middle;\n",
       "    }\n",
       "\n",
       "    .dataframe tbody tr th {\n",
       "        vertical-align: top;\n",
       "    }\n",
       "\n",
       "    .dataframe thead th {\n",
       "        text-align: right;\n",
       "    }\n",
       "</style>\n",
       "<table border=\"1\" class=\"dataframe\">\n",
       "  <thead>\n",
       "    <tr style=\"text-align: right;\">\n",
       "      <th></th>\n",
       "      <th>Run</th>\n",
       "      <th>#genes</th>\n",
       "      <th>#control</th>\n",
       "      <th>genes</th>\n",
       "    </tr>\n",
       "  </thead>\n",
       "  <tbody>\n",
       "    <tr>\n",
       "      <th>0</th>\n",
       "      <td>1</td>\n",
       "      <td>90</td>\n",
       "      <td>122</td>\n",
       "      <td>[MAILR, WASH6P, ALDH6A1, ENSG00000176593, DLX6...</td>\n",
       "    </tr>\n",
       "    <tr>\n",
       "      <th>1</th>\n",
       "      <td>2</td>\n",
       "      <td>75</td>\n",
       "      <td>122</td>\n",
       "      <td>[ENSG00000278493, ENSG00000290957, LAMC1-AS1, ...</td>\n",
       "    </tr>\n",
       "    <tr>\n",
       "      <th>2</th>\n",
       "      <td>3</td>\n",
       "      <td>88</td>\n",
       "      <td>122</td>\n",
       "      <td>[MICB, ENSG00000286584, ENSG00000267274, UCK2,...</td>\n",
       "    </tr>\n",
       "    <tr>\n",
       "      <th>3</th>\n",
       "      <td>4</td>\n",
       "      <td>85</td>\n",
       "      <td>122</td>\n",
       "      <td>[MAILR, ENSG00000291176, NSUN5P2, ENSG00000288...</td>\n",
       "    </tr>\n",
       "    <tr>\n",
       "      <th>4</th>\n",
       "      <td>5</td>\n",
       "      <td>82</td>\n",
       "      <td>122</td>\n",
       "      <td>[ENSG00000176593, MIR34AHG, ZNF516-AS1, ACP6, ...</td>\n",
       "    </tr>\n",
       "  </tbody>\n",
       "</table>\n",
       "</div>"
      ],
      "text/plain": [
       "   Run  #genes  #control                                              genes\n",
       "0    1      90       122  [MAILR, WASH6P, ALDH6A1, ENSG00000176593, DLX6...\n",
       "1    2      75       122  [ENSG00000278493, ENSG00000290957, LAMC1-AS1, ...\n",
       "2    3      88       122  [MICB, ENSG00000286584, ENSG00000267274, UCK2,...\n",
       "3    4      85       122  [MAILR, ENSG00000291176, NSUN5P2, ENSG00000288...\n",
       "4    5      82       122  [ENSG00000176593, MIR34AHG, ZNF516-AS1, ACP6, ..."
      ]
     },
     "metadata": {},
     "output_type": "display_data"
    },
    {
     "data": {
      "text/html": [
       "<div>\n",
       "<style scoped>\n",
       "    .dataframe tbody tr th:only-of-type {\n",
       "        vertical-align: middle;\n",
       "    }\n",
       "\n",
       "    .dataframe tbody tr th {\n",
       "        vertical-align: top;\n",
       "    }\n",
       "\n",
       "    .dataframe thead th {\n",
       "        text-align: right;\n",
       "    }\n",
       "</style>\n",
       "<table border=\"1\" class=\"dataframe\">\n",
       "  <thead>\n",
       "    <tr style=\"text-align: right;\">\n",
       "      <th></th>\n",
       "      <th>run</th>\n",
       "      <th>type</th>\n",
       "      <th>max</th>\n",
       "      <th>min</th>\n",
       "      <th>mean</th>\n",
       "      <th>var</th>\n",
       "      <th>std</th>\n",
       "      <th>q3</th>\n",
       "    </tr>\n",
       "  </thead>\n",
       "  <tbody>\n",
       "    <tr>\n",
       "      <th>0</th>\n",
       "      <td>6</td>\n",
       "      <td>Reward Network</td>\n",
       "      <td>985</td>\n",
       "      <td>8</td>\n",
       "      <td>157.106557</td>\n",
       "      <td>36460.095990</td>\n",
       "      <td>190.945270</td>\n",
       "      <td>196.50</td>\n",
       "    </tr>\n",
       "    <tr>\n",
       "      <th>1</th>\n",
       "      <td>1</td>\n",
       "      <td>Control</td>\n",
       "      <td>834</td>\n",
       "      <td>8</td>\n",
       "      <td>174.855556</td>\n",
       "      <td>41722.799126</td>\n",
       "      <td>204.261595</td>\n",
       "      <td>184.25</td>\n",
       "    </tr>\n",
       "    <tr>\n",
       "      <th>2</th>\n",
       "      <td>2</td>\n",
       "      <td>Control</td>\n",
       "      <td>989</td>\n",
       "      <td>12</td>\n",
       "      <td>208.840000</td>\n",
       "      <td>45176.271351</td>\n",
       "      <td>212.547104</td>\n",
       "      <td>301.00</td>\n",
       "    </tr>\n",
       "    <tr>\n",
       "      <th>3</th>\n",
       "      <td>3</td>\n",
       "      <td>Control</td>\n",
       "      <td>1085</td>\n",
       "      <td>10</td>\n",
       "      <td>190.681818</td>\n",
       "      <td>44223.690700</td>\n",
       "      <td>210.294295</td>\n",
       "      <td>267.25</td>\n",
       "    </tr>\n",
       "    <tr>\n",
       "      <th>4</th>\n",
       "      <td>4</td>\n",
       "      <td>Control</td>\n",
       "      <td>753</td>\n",
       "      <td>11</td>\n",
       "      <td>188.741176</td>\n",
       "      <td>38383.122689</td>\n",
       "      <td>195.916111</td>\n",
       "      <td>338.00</td>\n",
       "    </tr>\n",
       "    <tr>\n",
       "      <th>5</th>\n",
       "      <td>5</td>\n",
       "      <td>Control</td>\n",
       "      <td>1108</td>\n",
       "      <td>13</td>\n",
       "      <td>206.646341</td>\n",
       "      <td>52105.070912</td>\n",
       "      <td>228.265352</td>\n",
       "      <td>304.00</td>\n",
       "    </tr>\n",
       "  </tbody>\n",
       "</table>\n",
       "</div>"
      ],
      "text/plain": [
       "   run            type   max  min        mean           var         std  \\\n",
       "0    6  Reward Network   985    8  157.106557  36460.095990  190.945270   \n",
       "1    1         Control   834    8  174.855556  41722.799126  204.261595   \n",
       "2    2         Control   989   12  208.840000  45176.271351  212.547104   \n",
       "3    3         Control  1085   10  190.681818  44223.690700  210.294295   \n",
       "4    4         Control   753   11  188.741176  38383.122689  195.916111   \n",
       "5    5         Control  1108   13  206.646341  52105.070912  228.265352   \n",
       "\n",
       "       q3  \n",
       "0  196.50  \n",
       "1  184.25  \n",
       "2  301.00  \n",
       "3  267.25  \n",
       "4  338.00  \n",
       "5  304.00  "
      ]
     },
     "metadata": {},
     "output_type": "display_data"
    }
   ],
   "source": [
    "ctrl_high_conn, diff_genes, stats = [], [], []\n",
    "all_degree = pd.DataFrame()\n",
    "\n",
    "\n",
    "network_stats, com_stats = get_high_deg(sel_gt)\n",
    "sel_com_genes = process_high_deg(sel_gt, com_stats)\n",
    "high_degree_stats = network_stats.loc[list(sel_com_genes.index)][\"degree_t\"]\n",
    "\n",
    "###### To be first\n",
    "# For degree values\n",
    "high_degree_stats = pd.DataFrame(high_degree_stats)\n",
    "high_degree_stats[\"type\"] = \"Exp\"\n",
    "all_degree = pd.concat([all_degree, high_degree_stats])\n",
    "\n",
    "# For node stats\n",
    "stats.append(\n",
    "    (\n",
    "        6,\n",
    "        \"Reward Network\",\n",
    "        high_degree_stats[\"degree_t\"].max(),\n",
    "        high_degree_stats[\"degree_t\"].min(),\n",
    "        high_degree_stats[\"degree_t\"].mean(),\n",
    "        high_degree_stats[\"degree_t\"].var(),\n",
    "        high_degree_stats[\"degree_t\"].std(),\n",
    "        high_degree_stats[\"degree_t\"].quantile(0.75),\n",
    "    )\n",
    ")\n",
    "\n",
    "for idx in range(1, 6):\n",
    "    ctrl_exp: GtExp = ctrls[idx].exps[\"sigmoid_5K_6TF_hsbm\"]\n",
    "    ctrl_mut: pd.DataFrame = pd.read_csv(f\"{figures_path}/control_mutated/control_mutated_{idx}.csv\", index_col=\"gene\")\n",
    "    ctrl_genes = ctrl_mut[ctrl_mut[\"Type\"] == \"Control High Degree\"].index\n",
    "\n",
    "    ctrl_gt_g = ctrl_exp.gt_g\n",
    "    _, ctrl_com_stats = get_high_deg(ctrl_exp)\n",
    "    ctrl_sel_com_genes = process_high_deg(ctrl_exp, ctrl_com_stats)\n",
    "\n",
    "    ctrl_genes_high = set(ctrl_sel_com_genes.index) & set(ctrl_genes)\n",
    "    diff_genes = set(ctrl_sel_com_genes.index) - set(ctrl_genes)\n",
    "    ctrl_high_conn.append((idx, len(ctrl_genes_high), len(ctrl_genes), list(ctrl_genes_high)))\n",
    "\n",
    "    # stats\n",
    "    graph_stats = ctrl_exp.compute_graph_stats()\n",
    "    high_degree_stats = graph_stats.loc[list(ctrl_genes_high)][\"degree_t\"]\n",
    "    stats.append(\n",
    "        (\n",
    "            idx,\n",
    "            \"Control\",\n",
    "            high_degree_stats.max(),\n",
    "            high_degree_stats.min(),\n",
    "            high_degree_stats.mean(),\n",
    "            high_degree_stats.var(),\n",
    "            high_degree_stats.std(),\n",
    "            high_degree_stats.quantile(0.75),\n",
    "        )\n",
    "    )\n",
    "    high_degree_stats = pd.DataFrame(high_degree_stats)\n",
    "    high_degree_stats[\"type\"] = f\"Ctrl_{idx}\"\n",
    "    all_degree = pd.concat([all_degree, high_degree_stats])\n",
    "    # all_degree.append((high_degree_stats.values, f\"Ctrl_{idx}\"))\n",
    "\n",
    "\n",
    "stats = pd.DataFrame(stats, columns=[\"run\", \"type\", \"max\", \"min\", \"mean\", \"var\", \"std\", \"q3\"])\n",
    "ctrl_high_conn = pd.DataFrame(ctrl_high_conn, columns=[\"Run\", \"#genes\", \"#control\", \"genes\"])\n",
    "display(ctrl_high_conn)\n",
    "display(stats)"
   ]
  },
  {
   "cell_type": "code",
   "execution_count": 13,
   "metadata": {},
   "outputs": [
    {
     "data": {
      "application/vnd.plotly.v1+json": {
       "config": {
        "plotlyServerURL": "https://plot.ly"
       },
       "data": [
        {
         "alignmentgroup": "True",
         "boxpoints": "all",
         "customdata": [
          [
           "TIAM1"
          ],
          [
           "ELF3"
          ],
          [
           "AHR"
          ],
          [
           "ABCC5"
          ],
          [
           "RBBP6"
          ],
          [
           "CHD2"
          ],
          [
           "KLF5"
          ],
          [
           "EPHA2"
          ],
          [
           "FGFR3"
          ],
          [
           "SYNE2"
          ],
          [
           "TACC2"
          ],
          [
           "RHOB"
          ],
          [
           "SYNE1"
          ],
          [
           "DIAPH2"
          ],
          [
           "HRAS"
          ],
          [
           "HIVEP3"
          ],
          [
           "COL7A1"
          ],
          [
           "SACS"
          ],
          [
           "MYH10"
          ],
          [
           "LAMA3"
          ],
          [
           "OBSCN"
          ],
          [
           "BRD2"
          ],
          [
           "SMC4"
          ],
          [
           "BRCA1"
          ],
          [
           "CREBBP"
          ],
          [
           "NCOA1"
          ],
          [
           "PLEC"
          ],
          [
           "ZFP36L2"
          ],
          [
           "DST"
          ],
          [
           "DSP"
          ],
          [
           "BUB1"
          ],
          [
           "FAT2"
          ],
          [
           "AKAP13"
          ],
          [
           "LRRCC1"
          ],
          [
           "ITPR2"
          ],
          [
           "HIVEP1"
          ],
          [
           "RASAL2"
          ],
          [
           "MAGI2"
          ],
          [
           "FN1"
          ],
          [
           "RIMS2"
          ],
          [
           "PRDM2"
          ],
          [
           "ATP8B1"
          ],
          [
           "ATAD2"
          ],
          [
           "AUTS2"
          ],
          [
           "STIL"
          ],
          [
           "CCDC88A"
          ],
          [
           "PLXNB2"
          ],
          [
           "SCRIB"
          ],
          [
           "PCNT"
          ],
          [
           "SPEN"
          ],
          [
           "FANCI"
          ],
          [
           "PPRC1"
          ],
          [
           "DOCK4"
          ],
          [
           "PRKDC"
          ],
          [
           "UTRN"
          ],
          [
           "TP63"
          ],
          [
           "DMXL2"
          ],
          [
           "RNF213"
          ],
          [
           "VPS13D"
          ],
          [
           "PCF11"
          ],
          [
           "SMG1"
          ],
          [
           "TRANK1"
          ],
          [
           "MPDZ"
          ],
          [
           "ADGRV1"
          ],
          [
           "MYO1F"
          ],
          [
           "TP53BP2"
          ],
          [
           "SF3B3"
          ],
          [
           "SHROOM3"
          ],
          [
           "CDKN2A"
          ],
          [
           "HSPG2"
          ],
          [
           "ACACB"
          ],
          [
           "ITSN2"
          ],
          [
           "DOCK7"
          ],
          [
           "FRY"
          ],
          [
           "LRP1"
          ],
          [
           "NRG1"
          ],
          [
           "PARP14"
          ],
          [
           "ZNFX1"
          ],
          [
           "SPAG17"
          ],
          [
           "UTP20"
          ],
          [
           "EPG5"
          ],
          [
           "TBC1D1"
          ],
          [
           "PAN2"
          ],
          [
           "CNTLN"
          ],
          [
           "DYNC2H1"
          ],
          [
           "DENND5B"
          ],
          [
           "NAV2"
          ],
          [
           "PPL"
          ],
          [
           "PTCH1"
          ],
          [
           "SMCHD1"
          ],
          [
           "NLRC5"
          ],
          [
           "MXRA5"
          ],
          [
           "EFCAB5"
          ],
          [
           "F8"
          ],
          [
           "RERE"
          ],
          [
           "PLEKHH2"
          ],
          [
           "HIVEP2"
          ],
          [
           "LAMA4"
          ],
          [
           "KNTC1"
          ],
          [
           "DOT1L"
          ],
          [
           "MAGI3"
          ],
          [
           "CSPG4"
          ],
          [
           "FASN"
          ],
          [
           "OAS2"
          ],
          [
           "NOTCH3"
          ],
          [
           "PTPRM"
          ],
          [
           "CFAP70"
          ],
          [
           "RALGAPA2"
          ],
          [
           "SIPA1L2"
          ],
          [
           "AFF1"
          ],
          [
           "PLEKHA7"
          ],
          [
           "LTBP1"
          ],
          [
           "PPARG"
          ],
          [
           "KIF13A"
          ],
          [
           "PLCB1"
          ],
          [
           "SORL1"
          ],
          [
           "TRERF1"
          ],
          [
           "NYNRIN"
          ],
          [
           "MCM4"
          ],
          [
           "MDC1"
          ],
          [
           "XPOT"
          ],
          [
           "ZFC3H1"
          ]
         ],
         "hovertemplate": "type=%{x}<br>degree_t=%{y}<br>gene=%{customdata[0]}<extra></extra>",
         "legendgroup": "Exp",
         "marker": {
          "color": "#EF553B"
         },
         "name": "Exp",
         "notched": false,
         "offsetgroup": "Exp",
         "orientation": "v",
         "showlegend": true,
         "type": "box",
         "x": [
          "Exp",
          "Exp",
          "Exp",
          "Exp",
          "Exp",
          "Exp",
          "Exp",
          "Exp",
          "Exp",
          "Exp",
          "Exp",
          "Exp",
          "Exp",
          "Exp",
          "Exp",
          "Exp",
          "Exp",
          "Exp",
          "Exp",
          "Exp",
          "Exp",
          "Exp",
          "Exp",
          "Exp",
          "Exp",
          "Exp",
          "Exp",
          "Exp",
          "Exp",
          "Exp",
          "Exp",
          "Exp",
          "Exp",
          "Exp",
          "Exp",
          "Exp",
          "Exp",
          "Exp",
          "Exp",
          "Exp",
          "Exp",
          "Exp",
          "Exp",
          "Exp",
          "Exp",
          "Exp",
          "Exp",
          "Exp",
          "Exp",
          "Exp",
          "Exp",
          "Exp",
          "Exp",
          "Exp",
          "Exp",
          "Exp",
          "Exp",
          "Exp",
          "Exp",
          "Exp",
          "Exp",
          "Exp",
          "Exp",
          "Exp",
          "Exp",
          "Exp",
          "Exp",
          "Exp",
          "Exp",
          "Exp",
          "Exp",
          "Exp",
          "Exp",
          "Exp",
          "Exp",
          "Exp",
          "Exp",
          "Exp",
          "Exp",
          "Exp",
          "Exp",
          "Exp",
          "Exp",
          "Exp",
          "Exp",
          "Exp",
          "Exp",
          "Exp",
          "Exp",
          "Exp",
          "Exp",
          "Exp",
          "Exp",
          "Exp",
          "Exp",
          "Exp",
          "Exp",
          "Exp",
          "Exp",
          "Exp",
          "Exp",
          "Exp",
          "Exp",
          "Exp",
          "Exp",
          "Exp",
          "Exp",
          "Exp",
          "Exp",
          "Exp",
          "Exp",
          "Exp",
          "Exp",
          "Exp",
          "Exp",
          "Exp",
          "Exp",
          "Exp",
          "Exp",
          "Exp",
          "Exp",
          "Exp"
         ],
         "x0": " ",
         "xaxis": "x",
         "y": [
          50,
          985,
          670,
          178,
          192,
          583,
          504,
          91,
          197,
          231,
          168,
          323,
          145,
          231,
          188,
          24,
          730,
          450,
          635,
          248,
          189,
          165,
          78,
          95,
          464,
          297,
          310,
          104,
          265,
          100,
          16,
          158,
          74,
          60,
          186,
          45,
          41,
          15,
          519,
          113,
          39,
          46,
          64,
          29,
          47,
          152,
          629,
          172,
          134,
          400,
          9,
          59,
          36,
          351,
          82,
          18,
          482,
          600,
          535,
          60,
          195,
          560,
          251,
          33,
          64,
          91,
          212,
          112,
          186,
          558,
          32,
          48,
          35,
          314,
          201,
          19,
          112,
          23,
          41,
          90,
          252,
          54,
          125,
          9,
          50,
          76,
          38,
          68,
          15,
          276,
          13,
          51,
          26,
          37,
          24,
          87,
          83,
          46,
          27,
          31,
          11,
          22,
          10,
          29,
          36,
          86,
          40,
          78,
          16,
          19,
          30,
          37,
          18,
          15,
          16,
          8,
          21,
          10,
          10,
          12,
          9,
          8
         ],
         "y0": " ",
         "yaxis": "y"
        },
        {
         "alignmentgroup": "True",
         "boxpoints": "all",
         "customdata": [
          [
           "MAILR"
          ],
          [
           "WASH6P"
          ],
          [
           "ALDH6A1"
          ],
          [
           "ENSG00000176593"
          ],
          [
           "DLX6-AS1"
          ],
          [
           "ENSG00000229195"
          ],
          [
           "ULBP2"
          ],
          [
           "BACE1"
          ],
          [
           "EPGN"
          ],
          [
           "ENSG00000284606"
          ],
          [
           "ENSG00000291078"
          ],
          [
           "ENSG00000290728"
          ],
          [
           "H2BC18"
          ],
          [
           "SMCO4"
          ],
          [
           "ENSG00000290395"
          ],
          [
           "GASK1B"
          ],
          [
           "HIF1A-AS3"
          ],
          [
           "FAM24B"
          ],
          [
           "LINC01013"
          ],
          [
           "PRR19"
          ],
          [
           "NOTCH2NLC"
          ],
          [
           "ENSG00000260772"
          ],
          [
           "BCAR3-AS1"
          ],
          [
           "ERP27"
          ],
          [
           "AP1S3"
          ],
          [
           "ENSG00000264577"
          ],
          [
           "ENSG00000233928"
          ],
          [
           "ENSG00000267248"
          ],
          [
           "ENSG00000257519"
          ],
          [
           "ENSG00000277701"
          ],
          [
           "LINC00519"
          ],
          [
           "ENSG00000268069"
          ],
          [
           "NBPF8"
          ],
          [
           "ENSG00000267481"
          ],
          [
           "LINC00963"
          ],
          [
           "G0S2"
          ],
          [
           "EIF5A2"
          ],
          [
           "ZNF775"
          ],
          [
           "CKMT2-AS1"
          ],
          [
           "ST3GAL4"
          ],
          [
           "H1-0"
          ],
          [
           "ENSG00000238035"
          ],
          [
           "ENSG00000288986"
          ],
          [
           "C6orf141"
          ],
          [
           "ENSG00000272153"
          ],
          [
           "WDFY2"
          ],
          [
           "ENSG00000288924"
          ],
          [
           "DEGS2"
          ],
          [
           "SYT15-AS1"
          ],
          [
           "KCTD12"
          ],
          [
           "ENSG00000287737"
          ],
          [
           "CASTOR3"
          ],
          [
           "ENSG00000246090"
          ],
          [
           "ENSG00000280164"
          ],
          [
           "IL11"
          ],
          [
           "LPXN"
          ],
          [
           "ENSG00000284634"
          ],
          [
           "ENSG00000290124"
          ],
          [
           "MARS1"
          ],
          [
           "XIST"
          ],
          [
           "ENSG00000289190"
          ],
          [
           "GTF3C2-AS1"
          ],
          [
           "ENSG00000290729"
          ],
          [
           "RAB17"
          ],
          [
           "KDM7A-DT"
          ],
          [
           "LINC02975"
          ],
          [
           "ENSG00000272071"
          ],
          [
           "HCP5"
          ],
          [
           "NALT1"
          ],
          [
           "ENSG00000263624"
          ],
          [
           "ENSG00000266340"
          ],
          [
           "ENSG00000226904"
          ],
          [
           "MVP-DT"
          ],
          [
           "ENSG00000291081"
          ],
          [
           "ARHGAP11A-DT"
          ],
          [
           "LINC02964"
          ],
          [
           "TMEM91"
          ],
          [
           "THBS3-AS1"
          ],
          [
           "RBM3"
          ],
          [
           "UNC5B-AS1"
          ],
          [
           "ENSG00000289316"
          ],
          [
           "ENSG00000261114"
          ],
          [
           "ENSG00000237938"
          ],
          [
           "NSG1"
          ],
          [
           "ENSG00000284644"
          ],
          [
           "DGCR6"
          ],
          [
           "EOLA2-DT"
          ],
          [
           "C17orf107"
          ],
          [
           "CAMK2N1"
          ],
          [
           "ZNF710-AS1"
          ]
         ],
         "hovertemplate": "type=%{x}<br>degree_t=%{y}<br>gene=%{customdata[0]}<extra></extra>",
         "legendgroup": "Ctrl_1",
         "marker": {
          "color": "rgb(93, 105, 177)"
         },
         "name": "Ctrl_1",
         "notched": false,
         "offsetgroup": "Ctrl_1",
         "orientation": "v",
         "showlegend": true,
         "type": "box",
         "x": [
          "Ctrl_1",
          "Ctrl_1",
          "Ctrl_1",
          "Ctrl_1",
          "Ctrl_1",
          "Ctrl_1",
          "Ctrl_1",
          "Ctrl_1",
          "Ctrl_1",
          "Ctrl_1",
          "Ctrl_1",
          "Ctrl_1",
          "Ctrl_1",
          "Ctrl_1",
          "Ctrl_1",
          "Ctrl_1",
          "Ctrl_1",
          "Ctrl_1",
          "Ctrl_1",
          "Ctrl_1",
          "Ctrl_1",
          "Ctrl_1",
          "Ctrl_1",
          "Ctrl_1",
          "Ctrl_1",
          "Ctrl_1",
          "Ctrl_1",
          "Ctrl_1",
          "Ctrl_1",
          "Ctrl_1",
          "Ctrl_1",
          "Ctrl_1",
          "Ctrl_1",
          "Ctrl_1",
          "Ctrl_1",
          "Ctrl_1",
          "Ctrl_1",
          "Ctrl_1",
          "Ctrl_1",
          "Ctrl_1",
          "Ctrl_1",
          "Ctrl_1",
          "Ctrl_1",
          "Ctrl_1",
          "Ctrl_1",
          "Ctrl_1",
          "Ctrl_1",
          "Ctrl_1",
          "Ctrl_1",
          "Ctrl_1",
          "Ctrl_1",
          "Ctrl_1",
          "Ctrl_1",
          "Ctrl_1",
          "Ctrl_1",
          "Ctrl_1",
          "Ctrl_1",
          "Ctrl_1",
          "Ctrl_1",
          "Ctrl_1",
          "Ctrl_1",
          "Ctrl_1",
          "Ctrl_1",
          "Ctrl_1",
          "Ctrl_1",
          "Ctrl_1",
          "Ctrl_1",
          "Ctrl_1",
          "Ctrl_1",
          "Ctrl_1",
          "Ctrl_1",
          "Ctrl_1",
          "Ctrl_1",
          "Ctrl_1",
          "Ctrl_1",
          "Ctrl_1",
          "Ctrl_1",
          "Ctrl_1",
          "Ctrl_1",
          "Ctrl_1",
          "Ctrl_1",
          "Ctrl_1",
          "Ctrl_1",
          "Ctrl_1",
          "Ctrl_1",
          "Ctrl_1",
          "Ctrl_1",
          "Ctrl_1",
          "Ctrl_1",
          "Ctrl_1"
         ],
         "x0": " ",
         "xaxis": "x",
         "y": [
          137,
          171,
          392,
          59,
          44,
          264,
          265,
          834,
          133,
          44,
          142,
          32,
          95,
          13,
          34,
          321,
          89,
          28,
          46,
          20,
          8,
          160,
          395,
          160,
          31,
          32,
          107,
          173,
          47,
          118,
          133,
          359,
          33,
          18,
          89,
          120,
          285,
          116,
          797,
          465,
          730,
          14,
          20,
          99,
          94,
          56,
          128,
          430,
          60,
          471,
          13,
          106,
          42,
          26,
          305,
          106,
          87,
          35,
          81,
          188,
          53,
          69,
          12,
          519,
          137,
          70,
          100,
          17,
          603,
          113,
          92,
          25,
          744,
          154,
          80,
          710,
          112,
          84,
          430,
          109,
          25,
          317,
          29,
          548,
          12,
          28,
          26,
          563,
          27,
          29
         ],
         "y0": " ",
         "yaxis": "y"
        },
        {
         "alignmentgroup": "True",
         "boxpoints": "all",
         "customdata": [
          [
           "ENSG00000278493"
          ],
          [
           "ENSG00000290957"
          ],
          [
           "LAMC1-AS1"
          ],
          [
           "NAA80"
          ],
          [
           "HOXA-AS3"
          ],
          [
           "LINC02175"
          ],
          [
           "ENSG00000267001"
          ],
          [
           "EXOSC3"
          ],
          [
           "ENSG00000286288"
          ],
          [
           "LSP1P5"
          ],
          [
           "EFCAB2"
          ],
          [
           "LINC02635"
          ],
          [
           "ENSG00000205890"
          ],
          [
           "PPP1R14B"
          ],
          [
           "SIPA1L1-AS1"
          ],
          [
           "H4C15"
          ],
          [
           "ENSG00000206567"
          ],
          [
           "G0S2"
          ],
          [
           "PHETA2"
          ],
          [
           "SOCS2"
          ],
          [
           "SGO2"
          ],
          [
           "RGCC"
          ],
          [
           "ENSG00000262979"
          ],
          [
           "ENSG00000267980"
          ],
          [
           "DLGAP1-AS2"
          ],
          [
           "ENSG00000272763"
          ],
          [
           "ENSG00000267274"
          ],
          [
           "ENSG00000284606"
          ],
          [
           "ENSG00000263325"
          ],
          [
           "ENSG00000271032"
          ],
          [
           "RAB7B"
          ],
          [
           "H2BC21"
          ],
          [
           "ENSG00000268279"
          ],
          [
           "TMEM205"
          ],
          [
           "FHIP1A-DT"
          ],
          [
           "ENSG00000285103"
          ],
          [
           "SUV39H1"
          ],
          [
           "ENSG00000289194"
          ],
          [
           "ENSG00000274213"
          ],
          [
           "NEAT1"
          ],
          [
           "KDM7A-DT"
          ],
          [
           "BAZ1A-AS1"
          ],
          [
           "LINC02256"
          ],
          [
           "ENSG00000284969"
          ],
          [
           "ZNF528-AS1"
          ],
          [
           "BAALC-AS1"
          ],
          [
           "S100A3"
          ],
          [
           "CAVIN1"
          ],
          [
           "ENSG00000267314"
          ],
          [
           "LINC00294"
          ],
          [
           "ENSG00000272669"
          ],
          [
           "MINCR"
          ],
          [
           "ZKSCAN7-AS1"
          ],
          [
           "ENSG00000275910"
          ],
          [
           "LINC02363"
          ],
          [
           "GARIN1A"
          ],
          [
           "AP1G2-AS1"
          ],
          [
           "ENSG00000263272"
          ],
          [
           "KCTD12"
          ],
          [
           "MVK"
          ],
          [
           "MYO15B"
          ],
          [
           "CGAS"
          ],
          [
           "STX17-DT"
          ],
          [
           "ENSG00000258728"
          ],
          [
           "ANKRD22"
          ],
          [
           "ENSG00000268218"
          ],
          [
           "EOLA2-DT"
          ],
          [
           "CRACDL"
          ],
          [
           "GARS1"
          ],
          [
           "HOTTIP"
          ],
          [
           "ARHGEF35-AS1"
          ],
          [
           "FLNB-AS1"
          ],
          [
           "ENSG00000290386"
          ],
          [
           "NIBAN1"
          ],
          [
           "ENSG00000272072"
          ]
         ],
         "hovertemplate": "type=%{x}<br>degree_t=%{y}<br>gene=%{customdata[0]}<extra></extra>",
         "legendgroup": "Ctrl_2",
         "marker": {
          "color": "rgb(82, 188, 163)"
         },
         "name": "Ctrl_2",
         "notched": false,
         "offsetgroup": "Ctrl_2",
         "orientation": "v",
         "showlegend": true,
         "type": "box",
         "x": [
          "Ctrl_2",
          "Ctrl_2",
          "Ctrl_2",
          "Ctrl_2",
          "Ctrl_2",
          "Ctrl_2",
          "Ctrl_2",
          "Ctrl_2",
          "Ctrl_2",
          "Ctrl_2",
          "Ctrl_2",
          "Ctrl_2",
          "Ctrl_2",
          "Ctrl_2",
          "Ctrl_2",
          "Ctrl_2",
          "Ctrl_2",
          "Ctrl_2",
          "Ctrl_2",
          "Ctrl_2",
          "Ctrl_2",
          "Ctrl_2",
          "Ctrl_2",
          "Ctrl_2",
          "Ctrl_2",
          "Ctrl_2",
          "Ctrl_2",
          "Ctrl_2",
          "Ctrl_2",
          "Ctrl_2",
          "Ctrl_2",
          "Ctrl_2",
          "Ctrl_2",
          "Ctrl_2",
          "Ctrl_2",
          "Ctrl_2",
          "Ctrl_2",
          "Ctrl_2",
          "Ctrl_2",
          "Ctrl_2",
          "Ctrl_2",
          "Ctrl_2",
          "Ctrl_2",
          "Ctrl_2",
          "Ctrl_2",
          "Ctrl_2",
          "Ctrl_2",
          "Ctrl_2",
          "Ctrl_2",
          "Ctrl_2",
          "Ctrl_2",
          "Ctrl_2",
          "Ctrl_2",
          "Ctrl_2",
          "Ctrl_2",
          "Ctrl_2",
          "Ctrl_2",
          "Ctrl_2",
          "Ctrl_2",
          "Ctrl_2",
          "Ctrl_2",
          "Ctrl_2",
          "Ctrl_2",
          "Ctrl_2",
          "Ctrl_2",
          "Ctrl_2",
          "Ctrl_2",
          "Ctrl_2",
          "Ctrl_2",
          "Ctrl_2",
          "Ctrl_2",
          "Ctrl_2",
          "Ctrl_2",
          "Ctrl_2",
          "Ctrl_2"
         ],
         "x0": " ",
         "xaxis": "x",
         "y": [
          191,
          29,
          56,
          192,
          363,
          75,
          75,
          309,
          43,
          148,
          45,
          80,
          570,
          293,
          104,
          12,
          364,
          37,
          17,
          137,
          51,
          232,
          782,
          355,
          177,
          551,
          101,
          255,
          13,
          57,
          243,
          202,
          142,
          336,
          50,
          378,
          63,
          53,
          72,
          103,
          151,
          59,
          503,
          356,
          820,
          96,
          146,
          480,
          59,
          410,
          165,
          29,
          62,
          52,
          47,
          129,
          989,
          558,
          117,
          114,
          652,
          78,
          124,
          48,
          119,
          40,
          159,
          566,
          208,
          29,
          39,
          23,
          119,
          235,
          526
         ],
         "y0": " ",
         "yaxis": "y"
        },
        {
         "alignmentgroup": "True",
         "boxpoints": "all",
         "customdata": [
          [
           "MICB"
          ],
          [
           "ENSG00000286584"
          ],
          [
           "ENSG00000267274"
          ],
          [
           "UCK2"
          ],
          [
           "ENSG00000273599"
          ],
          [
           "LINC01786"
          ],
          [
           "MIRLET7A1HG"
          ],
          [
           "POLR2J2"
          ],
          [
           "ENSG00000261240"
          ],
          [
           "H2AC19"
          ],
          [
           "ENSG00000242317"
          ],
          [
           "BORCS8-MEF2B"
          ],
          [
           "CDC42EP2"
          ],
          [
           "ENSG00000249631"
          ],
          [
           "PWRN1"
          ],
          [
           "LRMDA"
          ],
          [
           "DLGAP1-AS1"
          ],
          [
           "NOP53"
          ],
          [
           "CLCA4-AS1"
          ],
          [
           "ENSG00000290385"
          ],
          [
           "LGALS1"
          ],
          [
           "RTL10"
          ],
          [
           "DLEU2"
          ],
          [
           "GASK1A"
          ],
          [
           "ENSG00000256646"
          ],
          [
           "RNF223"
          ],
          [
           "ENSG00000260051"
          ],
          [
           "KHDC1-AS1"
          ],
          [
           "EIF5A2"
          ],
          [
           "ENSG00000260370"
          ],
          [
           "NPIPB2"
          ],
          [
           "H1-0"
          ],
          [
           "IFFO2"
          ],
          [
           "PLAC8"
          ],
          [
           "CIRBP-AS1"
          ],
          [
           "SAMD12"
          ],
          [
           "ENSG00000287839"
          ],
          [
           "SPDYE10"
          ],
          [
           "SELENOK"
          ],
          [
           "CTSH"
          ],
          [
           "ENSG00000259244"
          ],
          [
           "ENSG00000290792"
          ],
          [
           "SRPX2"
          ],
          [
           "VIPR1-AS1"
          ],
          [
           "ENSG00000267002"
          ],
          [
           "SYT9-AS1"
          ],
          [
           "TMEM202-AS1"
          ],
          [
           "MIR193BHG"
          ],
          [
           "CCN2"
          ],
          [
           "ENSG00000268416"
          ],
          [
           "SNHG22"
          ],
          [
           "MARS1"
          ],
          [
           "NDUFAF4"
          ],
          [
           "ENSG00000291156"
          ],
          [
           "HIC1"
          ],
          [
           "TCIM"
          ],
          [
           "IDI2-AS1"
          ],
          [
           "ENSG00000267344"
          ],
          [
           "SPTBN1-AS2"
          ],
          [
           "EOLA1-DT"
          ],
          [
           "EIF2AK3-DT"
          ],
          [
           "NALT1"
          ],
          [
           "ENSG00000264769"
          ],
          [
           "STMN1"
          ],
          [
           "ZSWIM6"
          ],
          [
           "C10orf95"
          ],
          [
           "NME4"
          ],
          [
           "CMTM4"
          ],
          [
           "NAA80"
          ],
          [
           "LINC02175"
          ],
          [
           "IFI6"
          ],
          [
           "LNCTAM34A"
          ],
          [
           "COQ8A"
          ],
          [
           "MFNG"
          ],
          [
           "SUV39H1"
          ],
          [
           "ENSG00000283674"
          ],
          [
           "RBM3"
          ],
          [
           "CYP4A22-AS1"
          ],
          [
           "PPP1R3G"
          ],
          [
           "ENSG00000272638"
          ],
          [
           "LY6E"
          ],
          [
           "SEMA3F-AS1"
          ],
          [
           "ENSG00000273271"
          ],
          [
           "ENSG00000273132"
          ],
          [
           "ISG15"
          ],
          [
           "ARHGEF38"
          ],
          [
           "HOTTIP"
          ],
          [
           "GOLT1A"
          ]
         ],
         "hovertemplate": "type=%{x}<br>degree_t=%{y}<br>gene=%{customdata[0]}<extra></extra>",
         "legendgroup": "Ctrl_3",
         "marker": {
          "color": "rgb(153, 201, 69)"
         },
         "name": "Ctrl_3",
         "notched": false,
         "offsetgroup": "Ctrl_3",
         "orientation": "v",
         "showlegend": true,
         "type": "box",
         "x": [
          "Ctrl_3",
          "Ctrl_3",
          "Ctrl_3",
          "Ctrl_3",
          "Ctrl_3",
          "Ctrl_3",
          "Ctrl_3",
          "Ctrl_3",
          "Ctrl_3",
          "Ctrl_3",
          "Ctrl_3",
          "Ctrl_3",
          "Ctrl_3",
          "Ctrl_3",
          "Ctrl_3",
          "Ctrl_3",
          "Ctrl_3",
          "Ctrl_3",
          "Ctrl_3",
          "Ctrl_3",
          "Ctrl_3",
          "Ctrl_3",
          "Ctrl_3",
          "Ctrl_3",
          "Ctrl_3",
          "Ctrl_3",
          "Ctrl_3",
          "Ctrl_3",
          "Ctrl_3",
          "Ctrl_3",
          "Ctrl_3",
          "Ctrl_3",
          "Ctrl_3",
          "Ctrl_3",
          "Ctrl_3",
          "Ctrl_3",
          "Ctrl_3",
          "Ctrl_3",
          "Ctrl_3",
          "Ctrl_3",
          "Ctrl_3",
          "Ctrl_3",
          "Ctrl_3",
          "Ctrl_3",
          "Ctrl_3",
          "Ctrl_3",
          "Ctrl_3",
          "Ctrl_3",
          "Ctrl_3",
          "Ctrl_3",
          "Ctrl_3",
          "Ctrl_3",
          "Ctrl_3",
          "Ctrl_3",
          "Ctrl_3",
          "Ctrl_3",
          "Ctrl_3",
          "Ctrl_3",
          "Ctrl_3",
          "Ctrl_3",
          "Ctrl_3",
          "Ctrl_3",
          "Ctrl_3",
          "Ctrl_3",
          "Ctrl_3",
          "Ctrl_3",
          "Ctrl_3",
          "Ctrl_3",
          "Ctrl_3",
          "Ctrl_3",
          "Ctrl_3",
          "Ctrl_3",
          "Ctrl_3",
          "Ctrl_3",
          "Ctrl_3",
          "Ctrl_3",
          "Ctrl_3",
          "Ctrl_3",
          "Ctrl_3",
          "Ctrl_3",
          "Ctrl_3",
          "Ctrl_3",
          "Ctrl_3",
          "Ctrl_3",
          "Ctrl_3",
          "Ctrl_3",
          "Ctrl_3",
          "Ctrl_3"
         ],
         "x0": " ",
         "xaxis": "x",
         "y": [
          114,
          36,
          280,
          19,
          30,
          49,
          166,
          10,
          230,
          25,
          183,
          46,
          367,
          739,
          95,
          39,
          310,
          78,
          144,
          87,
          114,
          327,
          45,
          194,
          24,
          218,
          74,
          351,
          327,
          61,
          59,
          263,
          262,
          31,
          27,
          737,
          638,
          78,
          16,
          25,
          79,
          90,
          539,
          33,
          509,
          218,
          211,
          56,
          20,
          654,
          38,
          58,
          383,
          247,
          64,
          45,
          90,
          486,
          48,
          1085,
          46,
          46,
          70,
          88,
          580,
          19,
          593,
          413,
          95,
          259,
          235,
          360,
          334,
          48,
          51,
          220,
          365,
          14,
          126,
          16,
          483,
          82,
          57,
          23,
          53,
          24,
          21,
          188
         ],
         "y0": " ",
         "yaxis": "y"
        },
        {
         "alignmentgroup": "True",
         "boxpoints": "all",
         "customdata": [
          [
           "MAILR"
          ],
          [
           "ENSG00000291176"
          ],
          [
           "NSUN5P2"
          ],
          [
           "ENSG00000288891"
          ],
          [
           "ERVE-1"
          ],
          [
           "DNAI4"
          ],
          [
           "MMP25-AS1"
          ],
          [
           "SEPTIN9-DT"
          ],
          [
           "PRAC1"
          ],
          [
           "ENSG00000289586"
          ],
          [
           "GASK1B"
          ],
          [
           "LINC02363"
          ],
          [
           "LNCRNA-IUR"
          ],
          [
           "WHRN"
          ],
          [
           "ZNF8-DT"
          ],
          [
           "PDK1-AS1"
          ],
          [
           "PDXDC2P-NPIPB14P"
          ],
          [
           "NOP53"
          ],
          [
           "ENSG00000284797"
          ],
          [
           "ALG13-AS1"
          ],
          [
           "LMNTD2-AS1"
          ],
          [
           "ENSG00000265678"
          ],
          [
           "ZNF582-DT"
          ],
          [
           "NINJ2-AS1"
          ],
          [
           "LINC00963"
          ],
          [
           "STAG3L5P-PVRIG2P-PILRB"
          ],
          [
           "ENSG00000261582"
          ],
          [
           "ENSG00000290600"
          ],
          [
           "DGCR5"
          ],
          [
           "PTP4A1"
          ],
          [
           "APOD"
          ],
          [
           "ENSG00000227704"
          ],
          [
           "ENSG00000284969"
          ],
          [
           "ENSG00000288924"
          ],
          [
           "ASMTL-AS1"
          ],
          [
           "HOXA-AS2"
          ],
          [
           "EGFL8"
          ],
          [
           "ENSG00000291175"
          ],
          [
           "CHROMR"
          ],
          [
           "ENSG00000269680"
          ],
          [
           "SH3TC2-DT"
          ],
          [
           "TIPARP-AS1"
          ],
          [
           "ADCY10P1"
          ],
          [
           "NR2F2-AS1"
          ],
          [
           "ENSG00000260808"
          ],
          [
           "ENSG00000223374"
          ],
          [
           "ARHGAP45"
          ],
          [
           "ENSG00000274849"
          ],
          [
           "ZNF528-AS1"
          ],
          [
           "ENSG00000291156"
          ],
          [
           "MAFF"
          ],
          [
           "HCP5"
          ],
          [
           "SNHG18"
          ],
          [
           "P4HA2"
          ],
          [
           "LPCAT4"
          ],
          [
           "NALT1"
          ],
          [
           "RNF122"
          ],
          [
           "LINC01213"
          ],
          [
           "LMO7-AS1"
          ],
          [
           "MARVELD1"
          ],
          [
           "HERC2P9"
          ],
          [
           "ENSG00000288880"
          ],
          [
           "SOX15"
          ],
          [
           "H3-7"
          ],
          [
           "SGO2"
          ],
          [
           "HLA-F-AS1"
          ],
          [
           "LINC01546"
          ],
          [
           "MAP3K20"
          ],
          [
           "ENSG00000268218"
          ],
          [
           "HMGB3"
          ],
          [
           "LINC00294"
          ],
          [
           "SNHG7"
          ],
          [
           "ENSG00000270659"
          ],
          [
           "ENSG00000272638"
          ],
          [
           "ENSG00000227218"
          ],
          [
           "ENSG00000289891"
          ],
          [
           "LINC02976"
          ],
          [
           "HLA-V"
          ],
          [
           "ENSG00000276724"
          ],
          [
           "POGLUT3"
          ],
          [
           "ENSG00000288934"
          ],
          [
           "ISG15"
          ],
          [
           "ENSG00000288078"
          ],
          [
           "FLJ20021"
          ],
          [
           "ENSG00000288632"
          ]
         ],
         "hovertemplate": "type=%{x}<br>degree_t=%{y}<br>gene=%{customdata[0]}<extra></extra>",
         "legendgroup": "Ctrl_4",
         "marker": {
          "color": "rgb(204, 97, 176)"
         },
         "name": "Ctrl_4",
         "notched": false,
         "offsetgroup": "Ctrl_4",
         "orientation": "v",
         "showlegend": true,
         "type": "box",
         "x": [
          "Ctrl_4",
          "Ctrl_4",
          "Ctrl_4",
          "Ctrl_4",
          "Ctrl_4",
          "Ctrl_4",
          "Ctrl_4",
          "Ctrl_4",
          "Ctrl_4",
          "Ctrl_4",
          "Ctrl_4",
          "Ctrl_4",
          "Ctrl_4",
          "Ctrl_4",
          "Ctrl_4",
          "Ctrl_4",
          "Ctrl_4",
          "Ctrl_4",
          "Ctrl_4",
          "Ctrl_4",
          "Ctrl_4",
          "Ctrl_4",
          "Ctrl_4",
          "Ctrl_4",
          "Ctrl_4",
          "Ctrl_4",
          "Ctrl_4",
          "Ctrl_4",
          "Ctrl_4",
          "Ctrl_4",
          "Ctrl_4",
          "Ctrl_4",
          "Ctrl_4",
          "Ctrl_4",
          "Ctrl_4",
          "Ctrl_4",
          "Ctrl_4",
          "Ctrl_4",
          "Ctrl_4",
          "Ctrl_4",
          "Ctrl_4",
          "Ctrl_4",
          "Ctrl_4",
          "Ctrl_4",
          "Ctrl_4",
          "Ctrl_4",
          "Ctrl_4",
          "Ctrl_4",
          "Ctrl_4",
          "Ctrl_4",
          "Ctrl_4",
          "Ctrl_4",
          "Ctrl_4",
          "Ctrl_4",
          "Ctrl_4",
          "Ctrl_4",
          "Ctrl_4",
          "Ctrl_4",
          "Ctrl_4",
          "Ctrl_4",
          "Ctrl_4",
          "Ctrl_4",
          "Ctrl_4",
          "Ctrl_4",
          "Ctrl_4",
          "Ctrl_4",
          "Ctrl_4",
          "Ctrl_4",
          "Ctrl_4",
          "Ctrl_4",
          "Ctrl_4",
          "Ctrl_4",
          "Ctrl_4",
          "Ctrl_4",
          "Ctrl_4",
          "Ctrl_4",
          "Ctrl_4",
          "Ctrl_4",
          "Ctrl_4",
          "Ctrl_4",
          "Ctrl_4",
          "Ctrl_4",
          "Ctrl_4",
          "Ctrl_4",
          "Ctrl_4"
         ],
         "x0": " ",
         "xaxis": "x",
         "y": [
          50,
          177,
          18,
          27,
          125,
          157,
          450,
          283,
          25,
          54,
          155,
          170,
          141,
          69,
          131,
          176,
          45,
          477,
          33,
          15,
          332,
          136,
          345,
          162,
          200,
          169,
          280,
          11,
          18,
          28,
          664,
          34,
          374,
          107,
          338,
          394,
          107,
          491,
          142,
          21,
          248,
          35,
          36,
          13,
          60,
          97,
          14,
          21,
          15,
          616,
          731,
          19,
          33,
          635,
          54,
          18,
          17,
          450,
          21,
          425,
          211,
          59,
          64,
          21,
          432,
          355,
          84,
          356,
          574,
          48,
          347,
          32,
          29,
          16,
          361,
          43,
          119,
          753,
          12,
          454,
          51,
          90,
          292,
          465,
          86
         ],
         "y0": " ",
         "yaxis": "y"
        },
        {
         "alignmentgroup": "True",
         "boxpoints": "all",
         "customdata": [
          [
           "ENSG00000176593"
          ],
          [
           "MIR34AHG"
          ],
          [
           "ZNF516-AS1"
          ],
          [
           "ACP6"
          ],
          [
           "ENSG00000238279"
          ],
          [
           "TRIM31-AS1"
          ],
          [
           "EPGN"
          ],
          [
           "ENSG00000227706"
          ],
          [
           "ENSG00000262979"
          ],
          [
           "ENSG00000265519"
          ],
          [
           "INTS6L"
          ],
          [
           "LINC00240"
          ],
          [
           "ENSG00000289700"
          ],
          [
           "TMEM191A"
          ],
          [
           "ENSG00000291149"
          ],
          [
           "ENSG00000248994"
          ],
          [
           "INKA1"
          ],
          [
           "RNF144B"
          ],
          [
           "CAPN14"
          ],
          [
           "ENSG00000255202"
          ],
          [
           "SYNE4"
          ],
          [
           "LARGE2"
          ],
          [
           "COX6B2"
          ],
          [
           "BORCS8-MEF2B"
          ],
          [
           "DLGAP1-AS1"
          ],
          [
           "ENSG00000286834"
          ],
          [
           "LINC02972"
          ],
          [
           "METRNL"
          ],
          [
           "RGPD6"
          ],
          [
           "CCDC200"
          ],
          [
           "ENSG00000249684"
          ],
          [
           "LNPK"
          ],
          [
           "ENSG00000260051"
          ],
          [
           "CDKN1C"
          ],
          [
           "TMEM240"
          ],
          [
           "SHTN1"
          ],
          [
           "SMG1P5"
          ],
          [
           "LINC02245"
          ],
          [
           "SLC38A5"
          ],
          [
           "TFPI"
          ],
          [
           "ENSG00000227704"
          ],
          [
           "NDUFA6-DT"
          ],
          [
           "ENSG00000287839"
          ],
          [
           "GAS6-AS1"
          ],
          [
           "ENSG00000290082"
          ],
          [
           "S100A10"
          ],
          [
           "SQOR"
          ],
          [
           "CASC8"
          ],
          [
           "ENSG00000276850"
          ],
          [
           "ENSG00000280206"
          ],
          [
           "RPS27L"
          ],
          [
           "MEG3"
          ],
          [
           "KMT2E-AS1"
          ],
          [
           "ENSG00000273674"
          ],
          [
           "ENSG00000272449"
          ],
          [
           "ENSG00000269925"
          ],
          [
           "CBLN3"
          ],
          [
           "SNHG18"
          ],
          [
           "SNHG17"
          ],
          [
           "UPK3BL1"
          ],
          [
           "TMSB15B"
          ],
          [
           "MAP3K21"
          ],
          [
           "LMO7-AS1"
          ],
          [
           "MED8-AS1"
          ],
          [
           "ENSG00000271420"
          ],
          [
           "ENSG00000260121"
          ],
          [
           "ENSG00000261140"
          ],
          [
           "GPRC5D-AS1"
          ],
          [
           "ENSG00000290096"
          ],
          [
           "ENSG00000289194"
          ],
          [
           "STX5-DT"
          ],
          [
           "ENSG00000285979"
          ],
          [
           "LINC02035"
          ],
          [
           "ENSG00000260487"
          ],
          [
           "ENSG00000285589"
          ],
          [
           "ENSG00000270659"
          ],
          [
           "SRI"
          ],
          [
           "KIRREL1"
          ],
          [
           "SEMA3F-AS1"
          ],
          [
           "HILPDA"
          ],
          [
           "ENSG00000273132"
          ],
          [
           "WARS1"
          ]
         ],
         "hovertemplate": "type=%{x}<br>degree_t=%{y}<br>gene=%{customdata[0]}<extra></extra>",
         "legendgroup": "Ctrl_5",
         "marker": {
          "color": "rgb(36, 121, 108)"
         },
         "name": "Ctrl_5",
         "notched": false,
         "offsetgroup": "Ctrl_5",
         "orientation": "v",
         "showlegend": true,
         "type": "box",
         "x": [
          "Ctrl_5",
          "Ctrl_5",
          "Ctrl_5",
          "Ctrl_5",
          "Ctrl_5",
          "Ctrl_5",
          "Ctrl_5",
          "Ctrl_5",
          "Ctrl_5",
          "Ctrl_5",
          "Ctrl_5",
          "Ctrl_5",
          "Ctrl_5",
          "Ctrl_5",
          "Ctrl_5",
          "Ctrl_5",
          "Ctrl_5",
          "Ctrl_5",
          "Ctrl_5",
          "Ctrl_5",
          "Ctrl_5",
          "Ctrl_5",
          "Ctrl_5",
          "Ctrl_5",
          "Ctrl_5",
          "Ctrl_5",
          "Ctrl_5",
          "Ctrl_5",
          "Ctrl_5",
          "Ctrl_5",
          "Ctrl_5",
          "Ctrl_5",
          "Ctrl_5",
          "Ctrl_5",
          "Ctrl_5",
          "Ctrl_5",
          "Ctrl_5",
          "Ctrl_5",
          "Ctrl_5",
          "Ctrl_5",
          "Ctrl_5",
          "Ctrl_5",
          "Ctrl_5",
          "Ctrl_5",
          "Ctrl_5",
          "Ctrl_5",
          "Ctrl_5",
          "Ctrl_5",
          "Ctrl_5",
          "Ctrl_5",
          "Ctrl_5",
          "Ctrl_5",
          "Ctrl_5",
          "Ctrl_5",
          "Ctrl_5",
          "Ctrl_5",
          "Ctrl_5",
          "Ctrl_5",
          "Ctrl_5",
          "Ctrl_5",
          "Ctrl_5",
          "Ctrl_5",
          "Ctrl_5",
          "Ctrl_5",
          "Ctrl_5",
          "Ctrl_5",
          "Ctrl_5",
          "Ctrl_5",
          "Ctrl_5",
          "Ctrl_5",
          "Ctrl_5",
          "Ctrl_5",
          "Ctrl_5",
          "Ctrl_5",
          "Ctrl_5",
          "Ctrl_5",
          "Ctrl_5",
          "Ctrl_5",
          "Ctrl_5",
          "Ctrl_5",
          "Ctrl_5",
          "Ctrl_5"
         ],
         "x0": " ",
         "xaxis": "x",
         "y": [
          72,
          919,
          150,
          263,
          68,
          397,
          45,
          15,
          41,
          17,
          418,
          37,
          569,
          14,
          373,
          47,
          298,
          127,
          19,
          135,
          22,
          120,
          20,
          222,
          282,
          293,
          13,
          86,
          16,
          72,
          26,
          859,
          113,
          296,
          105,
          417,
          68,
          224,
          30,
          436,
          55,
          1108,
          726,
          631,
          16,
          29,
          343,
          92,
          267,
          159,
          36,
          86,
          733,
          63,
          30,
          50,
          56,
          42,
          41,
          35,
          229,
          396,
          145,
          26,
          24,
          214,
          306,
          107,
          201,
          389,
          393,
          159,
          399,
          340,
          51,
          24,
          332,
          27,
          415,
          58,
          254,
          114
         ],
         "y0": " ",
         "yaxis": "y"
        }
       ],
       "layout": {
        "boxmode": "overlay",
        "font": {
         "size": 24
        },
        "height": 700,
        "legend": {
         "bgcolor": "rgba(0,0,0,0)",
         "font": {
          "color": "#003366",
          "size": 20
         },
         "orientation": "h",
         "title": {
          "text": "Type"
         },
         "tracegroupgap": 0,
         "x": 0.5,
         "xanchor": "center",
         "y": 1.05,
         "yanchor": "middle"
        },
        "margin": {
         "t": 60
        },
        "showlegend": false,
        "template": {
         "data": {
          "bar": [
           {
            "error_x": {
             "color": "rgb(51,51,51)"
            },
            "error_y": {
             "color": "rgb(51,51,51)"
            },
            "marker": {
             "line": {
              "color": "rgb(237,237,237)",
              "width": 0.5
             },
             "pattern": {
              "fillmode": "overlay",
              "size": 10,
              "solidity": 0.2
             }
            },
            "type": "bar"
           }
          ],
          "barpolar": [
           {
            "marker": {
             "line": {
              "color": "rgb(237,237,237)",
              "width": 0.5
             },
             "pattern": {
              "fillmode": "overlay",
              "size": 10,
              "solidity": 0.2
             }
            },
            "type": "barpolar"
           }
          ],
          "carpet": [
           {
            "aaxis": {
             "endlinecolor": "rgb(51,51,51)",
             "gridcolor": "white",
             "linecolor": "white",
             "minorgridcolor": "white",
             "startlinecolor": "rgb(51,51,51)"
            },
            "baxis": {
             "endlinecolor": "rgb(51,51,51)",
             "gridcolor": "white",
             "linecolor": "white",
             "minorgridcolor": "white",
             "startlinecolor": "rgb(51,51,51)"
            },
            "type": "carpet"
           }
          ],
          "choropleth": [
           {
            "colorbar": {
             "outlinewidth": 0,
             "tickcolor": "rgb(237,237,237)",
             "ticklen": 6,
             "ticks": "inside"
            },
            "type": "choropleth"
           }
          ],
          "contour": [
           {
            "colorbar": {
             "outlinewidth": 0,
             "tickcolor": "rgb(237,237,237)",
             "ticklen": 6,
             "ticks": "inside"
            },
            "colorscale": [
             [
              0,
              "rgb(20,44,66)"
             ],
             [
              1,
              "rgb(90,179,244)"
             ]
            ],
            "type": "contour"
           }
          ],
          "contourcarpet": [
           {
            "colorbar": {
             "outlinewidth": 0,
             "tickcolor": "rgb(237,237,237)",
             "ticklen": 6,
             "ticks": "inside"
            },
            "type": "contourcarpet"
           }
          ],
          "heatmap": [
           {
            "colorbar": {
             "outlinewidth": 0,
             "tickcolor": "rgb(237,237,237)",
             "ticklen": 6,
             "ticks": "inside"
            },
            "colorscale": [
             [
              0,
              "rgb(20,44,66)"
             ],
             [
              1,
              "rgb(90,179,244)"
             ]
            ],
            "type": "heatmap"
           }
          ],
          "heatmapgl": [
           {
            "colorbar": {
             "outlinewidth": 0,
             "tickcolor": "rgb(237,237,237)",
             "ticklen": 6,
             "ticks": "inside"
            },
            "colorscale": [
             [
              0,
              "rgb(20,44,66)"
             ],
             [
              1,
              "rgb(90,179,244)"
             ]
            ],
            "type": "heatmapgl"
           }
          ],
          "histogram": [
           {
            "marker": {
             "pattern": {
              "fillmode": "overlay",
              "size": 10,
              "solidity": 0.2
             }
            },
            "type": "histogram"
           }
          ],
          "histogram2d": [
           {
            "colorbar": {
             "outlinewidth": 0,
             "tickcolor": "rgb(237,237,237)",
             "ticklen": 6,
             "ticks": "inside"
            },
            "colorscale": [
             [
              0,
              "rgb(20,44,66)"
             ],
             [
              1,
              "rgb(90,179,244)"
             ]
            ],
            "type": "histogram2d"
           }
          ],
          "histogram2dcontour": [
           {
            "colorbar": {
             "outlinewidth": 0,
             "tickcolor": "rgb(237,237,237)",
             "ticklen": 6,
             "ticks": "inside"
            },
            "colorscale": [
             [
              0,
              "rgb(20,44,66)"
             ],
             [
              1,
              "rgb(90,179,244)"
             ]
            ],
            "type": "histogram2dcontour"
           }
          ],
          "mesh3d": [
           {
            "colorbar": {
             "outlinewidth": 0,
             "tickcolor": "rgb(237,237,237)",
             "ticklen": 6,
             "ticks": "inside"
            },
            "type": "mesh3d"
           }
          ],
          "parcoords": [
           {
            "line": {
             "colorbar": {
              "outlinewidth": 0,
              "tickcolor": "rgb(237,237,237)",
              "ticklen": 6,
              "ticks": "inside"
             }
            },
            "type": "parcoords"
           }
          ],
          "pie": [
           {
            "automargin": true,
            "type": "pie"
           }
          ],
          "scatter": [
           {
            "fillpattern": {
             "fillmode": "overlay",
             "size": 10,
             "solidity": 0.2
            },
            "type": "scatter"
           }
          ],
          "scatter3d": [
           {
            "line": {
             "colorbar": {
              "outlinewidth": 0,
              "tickcolor": "rgb(237,237,237)",
              "ticklen": 6,
              "ticks": "inside"
             }
            },
            "marker": {
             "colorbar": {
              "outlinewidth": 0,
              "tickcolor": "rgb(237,237,237)",
              "ticklen": 6,
              "ticks": "inside"
             }
            },
            "type": "scatter3d"
           }
          ],
          "scattercarpet": [
           {
            "marker": {
             "colorbar": {
              "outlinewidth": 0,
              "tickcolor": "rgb(237,237,237)",
              "ticklen": 6,
              "ticks": "inside"
             }
            },
            "type": "scattercarpet"
           }
          ],
          "scattergeo": [
           {
            "marker": {
             "colorbar": {
              "outlinewidth": 0,
              "tickcolor": "rgb(237,237,237)",
              "ticklen": 6,
              "ticks": "inside"
             }
            },
            "type": "scattergeo"
           }
          ],
          "scattergl": [
           {
            "marker": {
             "colorbar": {
              "outlinewidth": 0,
              "tickcolor": "rgb(237,237,237)",
              "ticklen": 6,
              "ticks": "inside"
             }
            },
            "type": "scattergl"
           }
          ],
          "scattermapbox": [
           {
            "marker": {
             "colorbar": {
              "outlinewidth": 0,
              "tickcolor": "rgb(237,237,237)",
              "ticklen": 6,
              "ticks": "inside"
             }
            },
            "type": "scattermapbox"
           }
          ],
          "scatterpolar": [
           {
            "marker": {
             "colorbar": {
              "outlinewidth": 0,
              "tickcolor": "rgb(237,237,237)",
              "ticklen": 6,
              "ticks": "inside"
             }
            },
            "type": "scatterpolar"
           }
          ],
          "scatterpolargl": [
           {
            "marker": {
             "colorbar": {
              "outlinewidth": 0,
              "tickcolor": "rgb(237,237,237)",
              "ticklen": 6,
              "ticks": "inside"
             }
            },
            "type": "scatterpolargl"
           }
          ],
          "scatterternary": [
           {
            "marker": {
             "colorbar": {
              "outlinewidth": 0,
              "tickcolor": "rgb(237,237,237)",
              "ticklen": 6,
              "ticks": "inside"
             }
            },
            "type": "scatterternary"
           }
          ],
          "surface": [
           {
            "colorbar": {
             "outlinewidth": 0,
             "tickcolor": "rgb(237,237,237)",
             "ticklen": 6,
             "ticks": "inside"
            },
            "colorscale": [
             [
              0,
              "rgb(20,44,66)"
             ],
             [
              1,
              "rgb(90,179,244)"
             ]
            ],
            "type": "surface"
           }
          ],
          "table": [
           {
            "cells": {
             "fill": {
              "color": "rgb(237,237,237)"
             },
             "line": {
              "color": "white"
             }
            },
            "header": {
             "fill": {
              "color": "rgb(217,217,217)"
             },
             "line": {
              "color": "white"
             }
            },
            "type": "table"
           }
          ]
         },
         "layout": {
          "annotationdefaults": {
           "arrowhead": 0,
           "arrowwidth": 1
          },
          "autotypenumbers": "strict",
          "coloraxis": {
           "colorbar": {
            "outlinewidth": 0,
            "tickcolor": "rgb(237,237,237)",
            "ticklen": 6,
            "ticks": "inside"
           }
          },
          "colorscale": {
           "sequential": [
            [
             0,
             "rgb(20,44,66)"
            ],
            [
             1,
             "rgb(90,179,244)"
            ]
           ],
           "sequentialminus": [
            [
             0,
             "rgb(20,44,66)"
            ],
            [
             1,
             "rgb(90,179,244)"
            ]
           ]
          },
          "colorway": [
           "#F8766D",
           "#A3A500",
           "#00BF7D",
           "#00B0F6",
           "#E76BF3"
          ],
          "font": {
           "color": "rgb(51,51,51)"
          },
          "geo": {
           "bgcolor": "white",
           "lakecolor": "white",
           "landcolor": "rgb(237,237,237)",
           "showlakes": true,
           "showland": true,
           "subunitcolor": "white"
          },
          "hoverlabel": {
           "align": "left"
          },
          "hovermode": "closest",
          "paper_bgcolor": "white",
          "plot_bgcolor": "rgb(237,237,237)",
          "polar": {
           "angularaxis": {
            "gridcolor": "white",
            "linecolor": "white",
            "showgrid": true,
            "tickcolor": "rgb(51,51,51)",
            "ticks": "outside"
           },
           "bgcolor": "rgb(237,237,237)",
           "radialaxis": {
            "gridcolor": "white",
            "linecolor": "white",
            "showgrid": true,
            "tickcolor": "rgb(51,51,51)",
            "ticks": "outside"
           }
          },
          "scene": {
           "xaxis": {
            "backgroundcolor": "rgb(237,237,237)",
            "gridcolor": "white",
            "gridwidth": 2,
            "linecolor": "white",
            "showbackground": true,
            "showgrid": true,
            "tickcolor": "rgb(51,51,51)",
            "ticks": "outside",
            "zerolinecolor": "white"
           },
           "yaxis": {
            "backgroundcolor": "rgb(237,237,237)",
            "gridcolor": "white",
            "gridwidth": 2,
            "linecolor": "white",
            "showbackground": true,
            "showgrid": true,
            "tickcolor": "rgb(51,51,51)",
            "ticks": "outside",
            "zerolinecolor": "white"
           },
           "zaxis": {
            "backgroundcolor": "rgb(237,237,237)",
            "gridcolor": "white",
            "gridwidth": 2,
            "linecolor": "white",
            "showbackground": true,
            "showgrid": true,
            "tickcolor": "rgb(51,51,51)",
            "ticks": "outside",
            "zerolinecolor": "white"
           }
          },
          "shapedefaults": {
           "fillcolor": "black",
           "line": {
            "width": 0
           },
           "opacity": 0.3
          },
          "ternary": {
           "aaxis": {
            "gridcolor": "white",
            "linecolor": "white",
            "showgrid": true,
            "tickcolor": "rgb(51,51,51)",
            "ticks": "outside"
           },
           "baxis": {
            "gridcolor": "white",
            "linecolor": "white",
            "showgrid": true,
            "tickcolor": "rgb(51,51,51)",
            "ticks": "outside"
           },
           "bgcolor": "rgb(237,237,237)",
           "caxis": {
            "gridcolor": "white",
            "linecolor": "white",
            "showgrid": true,
            "tickcolor": "rgb(51,51,51)",
            "ticks": "outside"
           }
          },
          "xaxis": {
           "automargin": true,
           "gridcolor": "white",
           "linecolor": "white",
           "showgrid": true,
           "tickcolor": "rgb(51,51,51)",
           "ticks": "outside",
           "title": {
            "standoff": 15
           },
           "zerolinecolor": "white"
          },
          "yaxis": {
           "automargin": true,
           "gridcolor": "white",
           "linecolor": "white",
           "showgrid": true,
           "tickcolor": "rgb(51,51,51)",
           "ticks": "outside",
           "title": {
            "standoff": 15
           },
           "zerolinecolor": "white"
          }
         }
        },
        "title": {
         "text": ""
        },
        "xaxis": {
         "anchor": "y",
         "categoryarray": [
          "Exp",
          "Ctrl_1",
          "Ctrl_2",
          "Ctrl_3",
          "Ctrl_4",
          "Ctrl_5"
         ],
         "categoryorder": "array",
         "domain": [
          0,
          1
         ],
         "tickfont": {
          "size": 22
         },
         "title": {
          "font": {
           "size": 28
          },
          "text": "Type"
         }
        },
        "yaxis": {
         "anchor": "x",
         "domain": [
          0,
          1
         ],
         "tickfont": {
          "size": 22
         },
         "title": {
          "font": {
           "size": 28
          },
          "text": "Degree"
         }
        }
       }
      }
     },
     "metadata": {},
     "output_type": "display_data"
    }
   ],
   "source": [
    "fig = px.box(\n",
    "    all_degree.reset_index(names=\"gene\"),\n",
    "    y=\"degree_t\",\n",
    "    x=\"type\",\n",
    "    color=\"type\",\n",
    "    points=\"all\",\n",
    "    color_discrete_sequence=px.colors.qualitative.Vivid,\n",
    "    color_discrete_map={\"Exp\": px.colors.qualitative.Plotly[1]},\n",
    "    hover_data=\"gene\",\n",
    ")\n",
    "fig = fig.update_layout(\n",
    "    title=\"\",\n",
    "    legend=dict(\n",
    "        title=\"Type\",\n",
    "        orientation=\"h\",\n",
    "        yanchor=\"middle\",\n",
    "        xanchor=\"center\",\n",
    "        y=1.05,\n",
    "        x=0.5,\n",
    "        bgcolor=\"rgba(0,0,0,0)\",\n",
    "        font=dict(size=20, color=\"#003366\"),\n",
    "    ),\n",
    "    showlegend=False,\n",
    "    yaxis=dict(tickfont=dict(size=22), title=\"Degree\", title_font_size=28),\n",
    "    xaxis=dict(tickfont=dict(size=22), title=\"Type\", title_font_size=28),\n",
    "    font=dict(size=24),\n",
    "    height=700,\n",
    ")\n",
    "fig.show()\n",
    "save_fig(name=f\"ctr_degree\", fig=fig, base_path=f\"{figures_path}/\", width=1700, height=600, margin=0.02)"
   ]
  },
  {
   "cell_type": "code",
   "execution_count": 15,
   "metadata": {},
   "outputs": [],
   "source": [
    "from scipy import stats\n",
    "\n",
    "sep_metrics = []\n",
    "for exp_type in all_degree[\"type\"].unique():\n",
    "    sep_metrics.append(all_degree.loc[all_degree[\"type\"] == exp_type][\"degree_t\"])"
   ]
  },
  {
   "cell_type": "code",
   "execution_count": 18,
   "metadata": {},
   "outputs": [
    {
     "data": {
      "text/plain": [
       "KruskalResult(statistic=8.66820414354024, pvalue=0.12305298695424723)"
      ]
     },
     "execution_count": 18,
     "metadata": {},
     "output_type": "execute_result"
    }
   ],
   "source": [
    "stats.kruskal(sep_metrics[0], sep_metrics[1], sep_metrics[2], sep_metrics[3], sep_metrics[4], sep_metrics[5])"
   ]
  },
  {
   "cell_type": "code",
   "execution_count": null,
   "metadata": {},
   "outputs": [],
   "source": [
    "network_stats, com_stats = get_high_deg(sel_gt)\n",
    "sel_com_genes = process_high_deg(sel_gt, com_stats)\n",
    "sel_com_genes"
   ]
  }
 ],
 "metadata": {
  "kernelspec": {
   "display_name": "iNet_gt",
   "language": "python",
   "name": "python3"
  },
  "language_info": {
   "codemirror_mode": {
    "name": "ipython",
    "version": 3
   },
   "file_extension": ".py",
   "mimetype": "text/x-python",
   "name": "python",
   "nbconvert_exporter": "python",
   "pygments_lexer": "ipython3",
   "version": "3.11.8"
  }
 },
 "nbformat": 4,
 "nbformat_minor": 2
}
