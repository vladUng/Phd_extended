{
 "cells": [
  {
   "cell_type": "markdown",
   "metadata": {},
   "source": [
    "# Motivation\n",
    "\n",
    "In this notebook the results from the 2nd version of the Network pipeline developed in my PhD thesis. The following changes were made:\n",
    "* the non-tumour dataset was used\n",
    "* hierarchical Stochastic Block Model (hSBM) was used instead of Leiden \n",
    "* Sigmoid weight modifiers for reward\n",
    "* MEV - integrates the expression of both the non-tumour dataset and the tumour"
   ]
  },
  {
   "cell_type": "code",
   "execution_count": 1,
   "metadata": {},
   "outputs": [
    {
     "name": "stdout",
     "output_type": "stream",
     "text": [
      "The autoreload extension is already loaded. To reload it, use:\n",
      "  %reload_ext autoreload\n"
     ]
    }
   ],
   "source": [
    "%load_ext autoreload\n",
    "import pandas as pd\n",
    "import numpy as np\n",
    "import os\n",
    "import sys\n",
    "import igraph as ig\n",
    "import pickle\n",
    "\n",
    "import plotly.express as px\n",
    "from plotly.subplots import make_subplots\n",
    "import plotly.graph_objects as go\n",
    "import plotly.io as pio\n",
    "\n",
    "import multiprocess as mp\n",
    "\n",
    "SCRIPT_DIR = os.path.dirname(os.path.abspath(\"pcgna_processing.py\"))\n",
    "sys.path.append(os.path.dirname(SCRIPT_DIR))\n",
    "sys.path.append('/Users/vlad/Documents/Code/York/iNet_v2/src/')\n",
    "\n",
    "from NetworkAnalysis.ExperimentSet import ExperimentSet\n",
    "from NetworkAnalysis.NetworkOutput import NetworkOutput\n",
    "from NetworkAnalysis import GraphHelper as gh\n",
    "from NetworkAnalysis.utilities import sankey_consensus_plot as sky\n",
    "from NetworkAnalysis.utilities.helpers import save_fig, survival_plot, survival_comp\n",
    "from NetworkAnalysis.GraphToolExp import GraphToolExperiment as GtExp\n",
    "import NetworkAnalysis.utilities.clustering as cs\n",
    "from NetworkAnalysis.NetworkComp import NetworkComp\n",
    "from scipy import stats\n",
    "\n",
    "\n",
    "\n",
    "# Gsea libraries\n",
    "import gseapy as gp\n",
    "import matplotlib.pyplot as plt\n",
    "\n",
    "import graph_tool.all as gt\n",
    "\n",
    "# %matplotlib inline\n",
    "\n",
    "pio.templates.default = \"ggplot2\"\n",
    "\n",
    "\n",
    "pool = mp.Pool(mp.cpu_count())"
   ]
  },
  {
   "cell_type": "code",
   "execution_count": 2,
   "metadata": {},
   "outputs": [],
   "source": [
    "results_path = \"../../results/exp/\"\n",
    "data_base = \"../../data/\"\n",
    "base_path = \"../../results/\"\n",
    "\n",
    "figures_path = \"../network_ii/validation/\"\n",
    "\n",
    "base_sbm_path = \"../../../iNet_v2/\"\n",
    "sbm_exps_path = \"results/sbm/\"\n",
    "\n",
    "exp_folder_tumour = \"network_I/tum/\"\n",
    "\n",
    "\n",
    "vu_output = pd.read_csv(f\"{data_base}/metadata/VU_clustering_v3.tsv\", sep=\"\\t\", index_col=\"Sample\")\n",
    "\n",
    "tcga_mutations_df = pd.read_csv(f\"{data_base}/tumour/mutations_tcga.csv\")\n",
    "tcga_mutations_df = tcga_mutations_df[tcga_mutations_df[\"count\"] != 0].set_index(\"gene\")\n",
    "\n",
    "all_tum_tpms = pd.read_csv(f\"{data_base}/tumour/tum_TPMs_selected_genes_gc42_all_v4.tsv\", sep=\"\\t\", index_col=\"genes\")\n",
    "\n",
    "\n",
    "healthy_metadata = pd.read_csv(f\"{data_base}/metadata/healthy_bladder_metadata.tsv\", sep=\"\\t\", index_col=\"Sample\", dtype_backend=\"pyarrow\")\n",
    "\n",
    "# tf list\n",
    "tf_path = f\"{data_base}/metadata/TF_names_v_1.01.txt\"\n",
    "if os.path.exists(tf_path):\n",
    "    tf_list = np.genfromtxt(fname=tf_path, delimiter=\"\\t\", skip_header=1, dtype=\"str\")"
   ]
  },
  {
   "cell_type": "markdown",
   "metadata": {},
   "source": [
    "# Load experiments"
   ]
  },
  {
   "cell_type": "code",
   "execution_count": 3,
   "metadata": {},
   "outputs": [
    {
     "name": "stdout",
     "output_type": "stream",
     "text": [
      "##### Experiment labels:  dict_keys(['standard_5K_50TF', 'beta_5K_50TF', 'norm2_5K_50TF', 'norm3_5K_50TF', 'standard_5K_6TF', 'standard_5K_5TF', 'standard_5K_4TF', 'standard_5K_3TF', 'norm3_5K_5TF', 'norm3_5K_4TF', 'norm3_5K_6TF', 'beta_5K_3TF', 'beta_5K_4TF', 'beta_5K_6TF', 'norm3_5K_3TF', 'standard_5K_7TF', 'standard_5K_8TF', 'beta_5K_7TF', 'standard_5K_9TF', 'standard_5K_10TF', 'norm3_5K_7TF', 'norm3_5K_8TF', 'beta_5K_8TF', 'norm3_5K_9TF', 'beta_5K_9TF', 'beta_5K_10TF', 'norm3_5K_10TF', 'beta_5K_5TF'])\n",
      "['standard_5K_6TF', 'norm3_5K_6TF']\n"
     ]
    }
   ],
   "source": [
    "tum = ExperimentSet(\"tum\", base_path, exp_folder_tumour, tcga_mutations_df, sel_sets = [\"5K\"], rel_path=\"../\")\n",
    "\n",
    "%autoreload 2\n",
    "exps = {}\n",
    "for key, exp in tum.exps.items():\n",
    "    tf = int(exp.type.split(\"_\")[-1].split(\"TF\")[0])\n",
    "    modifier = exp.type.split(\"_\")[0]\n",
    "    if tf != 6 or modifier == 'beta':\n",
    "        continue\n",
    "\n",
    "    exp.export_to_gephi(save=False)\n",
    "    graph_stats = exp.compute_graph_stats()\n",
    "    exp.nodes_df = pd.concat([graph_stats, exp.nodes_df], axis=1)\n",
    "\n",
    "    exps[key] = exp\n",
    "\n",
    "\n",
    "tum.exps = exps\n",
    "print(tum.get_exp_labels())"
   ]
  },
  {
   "cell_type": "code",
   "execution_count": 4,
   "metadata": {},
   "outputs": [
    {
     "name": "stdout",
     "output_type": "stream",
     "text": [
      "##### Experiment labels:  dict_keys(['standard_5K_6TF_sbm', 'standard_5K_6TF_hsbm', 'sigmoid_5K_6TF_hsbm'])\n",
      "Loading Graph-Tool for standard_5K_6TF_sbm\n",
      "Loading Graph-Tool for standard_5K_6TF_hsbm\n",
      "Loading Graph-Tool for sigmoid_5K_6TF_hsbm\n"
     ]
    }
   ],
   "source": [
    "hsbm_v3 = ExperimentSet(\"v3\", base_path=base_sbm_path, exp_path=sbm_exps_path, mut_df=tcga_mutations_df, sel_sets=None, exp_type=\"iNet\")\n",
    "\n",
    "exps = {}\n",
    "for idx, exp in enumerate(hsbm_v3.get_exps()):\n",
    "    # if exp.sbm_method != \"hsbm\":  # or idx != 2:\n",
    "    #     continue\n",
    "\n",
    "    print(f\"Loading Graph-Tool for {exp.type}\")\n",
    "    exp = GtExp.from_pgcna_inet(exp, rel_path=\"\")\n",
    "\n",
    "    # partitions from hSBM\n",
    "    if exp.sbm_method == \"sbm\":\n",
    "        exp.add_vp(mut_df=tcga_mutations_df)\n",
    "        com_df = exp.get_gt_df()\n",
    "\n",
    "    else:\n",
    "        exp.hsbm_add_vp(mut_df=tcga_mutations_df)\n",
    "        com_df, _ = exp.hsbm_get_gt_df()\n",
    "        com_df[\"max_b\"] = com_df[\"P_lvl_0\"]\n",
    "\n",
    "    # export to gephi\n",
    "    exp.export_to_gephi(save=False, com_df=com_df)\n",
    "\n",
    "    # Need it for comparison\n",
    "    exps[exp.type] = exp\n",
    "\n",
    "hsbm_v3.exps = exps"
   ]
  },
  {
   "cell_type": "code",
   "execution_count": 5,
   "metadata": {},
   "outputs": [],
   "source": [
    "std_exp: GtExp = hsbm_v3.exps[\"standard_5K_6TF_hsbm\"]\n",
    "rwd_exp: GtExp = hsbm_v3.exps[\"sigmoid_5K_6TF_hsbm\"]\n",
    "\n",
    "std_com_df, _ = std_exp.hsbm_get_gt_df()\n",
    "rwd_com_df, _ = rwd_exp.hsbm_get_gt_df()\n",
    "std_nodes_df: pd.DataFrame = gh.add_stats_to(nodes_df=std_exp.nodes_df, tpm_df=std_exp.tpm_df)\n",
    "rwd_nodes_df: pd.DataFrame = gh.add_stats_to(nodes_df=rwd_exp.nodes_df, tpm_df=rwd_exp.tpm_df)"
   ]
  },
  {
   "cell_type": "markdown",
   "metadata": {},
   "source": [
    "# Analysis"
   ]
  },
  {
   "cell_type": "markdown",
   "metadata": {},
   "source": [
    "## Network metrics\n",
    "\n"
   ]
  },
  {
   "cell_type": "code",
   "execution_count": 19,
   "metadata": {},
   "outputs": [
    {
     "data": {
      "image/png": "[encoded data removed]",
      "text/plain": [
       "<Figure size 2000x1500 with 6 Axes>"
      ]
     },
     "metadata": {},
     "output_type": "display_data"
    }
   ],
   "source": [
    "comp_std_net: NetworkComp = NetworkComp(hsbm_v3, 5, \"standard_5K_6TF_hsbm\", \"sigmoid_5K_6TF_hsbm\", mod_type=\"sbm\")\n",
    "\n",
    "fig, graph_stats_std, graph_stats_rwd = comp_std_net.plot_network_stats(nodes_df_1=std_nodes_df, nodes_df_2=rwd_nodes_df, label_1=\"Standard\", label_2=\"Reward\")\n",
    "comb_df = pd.concat([rwd_nodes_df, std_nodes_df.rename(columns={\"IVI\": \"IVI_std\"})], axis=1).sort_values(by=[\"IVI\", \"IVI_std\"], ascending=False)[\n",
    "    [\"IVI\", \"IVI_std\"]\n",
    "]"
   ]
  },
  {
   "cell_type": "code",
   "execution_count": 25,
   "metadata": {},
   "outputs": [],
   "source": [
    "std_nt: GtExp = hsbm_v3.exps[\"standard_5K_6TF_hsbm\"]\n",
    "rwrd_nt: GtExp = hsbm_v3.exps[\"sigmoid_5K_6TF_hsbm\"]\n",
    "std_sts = std_nt.compute_graph_stats()\n",
    "rwrd_sts = rwrd_nt.compute_graph_stats()\n",
    "\n",
    "std_sts[\"IVI\"] = std_nt.nodes_df[\"IVI\"]\n",
    "rwrd_sts[\"IVI\"] = rwrd_nt.nodes_df[\"IVI\"]\n",
    "\n",
    "std_sts[\"Type\"] = \"Non-Tum Std\"\n",
    "rwrd_sts[\"Type\"] = \"Non-Tum Rwd\"\n",
    "\n",
    "combined_df = pd.concat([std_sts, rwrd_sts], axis=0).reset_index(names=\"gene\")\n",
    "\n",
    "combined_df[\"TF\"] = combined_df[\"gene\"].apply(lambda gene: std_nt.nodes_df.loc[gene][\"TF\"])\n",
    "combined_df[\"TF\"].fillna(0, inplace=True)\n",
    "combined_df.set_index(\"gene\", inplace=True)\n",
    "combined_df[\"TF\"] = combined_df[\"TF\"].astype(str)\n",
    "combined_df[\"degree\"] = combined_df[\"degree_w\"]\n",
    "combined_df[\"betwenees\"] = combined_df[\"betweenness\"]\n",
    "\n",
    "# tum nodes df\n",
    "tum_nodes_std = tum.exps[\"standard_5K_6TF\"].nodes_df\n",
    "tum_nodes_rwd = tum.exps[\"norm3_5K_6TF\"].nodes_df\n",
    "\n",
    "tum_nodes_std[\"Type\"] = \"Tum Std\"\n",
    "tum_nodes_rwd[\"Type\"] = \"Tum Rwd\"\n",
    "\n",
    "cols = [\"degree\", \"pageRank\", \"closeness\", \"betwenees\", \"IVI\", \"Type\"]\n",
    "combined_df = pd.concat([tum_nodes_std[cols], tum_nodes_rwd[cols], combined_df], axis=0)"
   ]
  },
  {
   "cell_type": "code",
   "execution_count": 14,
   "metadata": {},
   "outputs": [],
   "source": [
    "fig = gh.plot_net_metrics(combined_df, log_y=True, label=\"Tumour vs Non-tumnour\", color=\"Type\", filename=\"network_comparison\", figs_path=figures_path)\n",
    "fig = fig.update_layout(height=1000)\n",
    "# fig.show()\n",
    "del fig"
   ]
  },
  {
   "cell_type": "markdown",
   "metadata": {},
   "source": [
    "## Statistics"
   ]
  },
  {
   "cell_type": "code",
   "execution_count": 29,
   "metadata": {},
   "outputs": [],
   "source": [
    "metrics = [\n",
    "    \"betwenees\",\n",
    "    \"closeness\",\n",
    "    \"degree\",\n",
    "    \"pageRank\",\n",
    "    \"IVI\",\n",
    "]\n",
    "tst_df = combined_df[metrics + [\"Type\"]]\n",
    "\n",
    "h_dist_std = tst_df.loc[tst_df[\"Type\"] == \"Non-Tum Std\"]\n",
    "h_dist_rwd = tst_df.loc[tst_df[\"Type\"] == \"Non-Tum Rwd\"]\n",
    "\n",
    "t_dist_std = tst_df.loc[tst_df[\"Type\"] == \"Tum Std\"]\n",
    "t_dist_rwd = tst_df.loc[tst_df[\"Type\"] == \"Tum Rwd\"]"
   ]
  },
  {
   "cell_type": "code",
   "execution_count": 36,
   "metadata": {},
   "outputs": [
    {
     "name": "stdout",
     "output_type": "stream",
     "text": [
      "degree: Std vs Rwd Mann-Whitney U statistic: 6250347.0, p-value: 0.0\n",
      "degree: Rwd vs Std Non-tum and Rwd & Std Tumour: 682.7330180938997, p-value: 5.57710491414743e-149\n"
     ]
    }
   ],
   "source": [
    "metric = \"degree\"\n",
    "\n",
    "statistic, p_value = stats.mannwhitneyu(\n",
    "    h_dist_std[metric],\n",
    "    h_dist_rwd[metric],\n",
    ")\n",
    "print(f\"{metric}: Std vs Rwd Mann-Whitney U statistic: {statistic}, p-value: {p_value}\")\n",
    "\n",
    "statistic, p_value = stats.kruskal(\n",
    "    h_dist_rwd[metric],\n",
    "    t_dist_std[metric],\n",
    "    t_dist_rwd[metric],\n",
    ")\n",
    "print(f\"{metric}: Rwd vs Std Non-tum and Rwd & Std Tumour: {statistic}, p-value: {p_value}\")\n",
    "\n",
    "\n",
    "h_dist_rwd['degree']"
   ]
  },
  {
   "cell_type": "code",
   "execution_count": 37,
   "metadata": {},
   "outputs": [
    {
     "name": "stdout",
     "output_type": "stream",
     "text": [
      "pageRank: Std vs Rwd Mann-Whitney U statistic: 21010334.0, p-value: 0.0\n",
      "pageRank: Rwd vs Std Non-tum and Rwd & Std Tumour: 2296.1121661881452, p-value: 0.0\n"
     ]
    }
   ],
   "source": [
    "metric = \"pageRank\"\n",
    "\n",
    "statistic, p_value = stats.mannwhitneyu(\n",
    "    h_dist_std[metric],\n",
    "    h_dist_rwd[metric],\n",
    ")\n",
    "print(f\"{metric}: Std vs Rwd Mann-Whitney U statistic: {statistic}, p-value: {p_value}\")\n",
    "\n",
    "statistic, p_value = stats.kruskal(\n",
    "    h_dist_rwd[metric],\n",
    "    t_dist_std[metric],\n",
    "    t_dist_rwd[metric],\n",
    ")\n",
    "print(f\"{metric}: Rwd vs Std Non-tum and Rwd & Std Tumour: {statistic}, p-value: {p_value}\")"
   ]
  },
  {
   "cell_type": "code",
   "execution_count": 40,
   "metadata": {},
   "outputs": [
    {
     "name": "stdout",
     "output_type": "stream",
     "text": [
      "closeness: Std vs Rwd Mann-Whitney U statistic: 1480750.0, p-value: 0.0\n",
      "closeness: Rwd & Std Tumour: 23670821.0, p-value: 0.0\n",
      "closeness: Non-tumour vs Tumour: 13078.43571009112, p-value: 0.0\n"
     ]
    }
   ],
   "source": [
    "metric = \"closeness\"\n",
    "\n",
    "statistic, p_value = stats.mannwhitneyu(\n",
    "    h_dist_std[metric],\n",
    "    h_dist_rwd[metric],\n",
    ")\n",
    "print(f\"{metric}: Std vs Rwd Mann-Whitney U statistic: {statistic}, p-value: {p_value}\")\n",
    "\n",
    "statistic, p_value = stats.mannwhitneyu(\n",
    "    t_dist_std[metric],\n",
    "    t_dist_rwd[metric],\n",
    ")\n",
    "print(f\"{metric}: Rwd & Std Tumour: {statistic}, p-value: {p_value}\")\n",
    "\n",
    "\n",
    "statistic, p_value = stats.kruskal(\n",
    "    t_dist_std[metric],\n",
    "    t_dist_rwd[metric],\n",
    "    h_dist_std[metric],\n",
    "    h_dist_rwd[metric],\n",
    ")\n",
    "print(f\"{metric}: Non-tumour vs Tumour: {statistic}, p-value: {p_value}\")"
   ]
  },
  {
   "cell_type": "code",
   "execution_count": 43,
   "metadata": {},
   "outputs": [
    {
     "name": "stdout",
     "output_type": "stream",
     "text": [
      "IVI: Tum: Std vs Rwd Mann-Whitney U statistic: 12532555.0, p-value: 0.8215647218250367\n",
      "IVI: Healthy: Std vs Rwd Mann-Whitney U statistic: 6702904.0, p-value: 0.0\n",
      "IVI: Rwd vs Std Non-tum and Rwd & Std Tumour: 610.2233903987467, p-value: 3.1022329816060978e-133\n"
     ]
    }
   ],
   "source": [
    "metric = \"IVI\"\n",
    "\n",
    "statistic, p_value = stats.mannwhitneyu(\n",
    "    t_dist_std[metric],\n",
    "    t_dist_rwd[metric],\n",
    ")\n",
    "print(f\"{metric}: Tum: Std vs Rwd Mann-Whitney U statistic: {statistic}, p-value: {p_value}\")\n",
    "\n",
    "statistic, p_value = stats.mannwhitneyu(\n",
    "    h_dist_std[metric],\n",
    "    h_dist_rwd[metric],\n",
    ")\n",
    "print(f\"{metric}: Healthy: Std vs Rwd Mann-Whitney U statistic: {statistic}, p-value: {p_value}\")\n",
    "\n",
    "\n",
    "statistic, p_value = stats.kruskal(\n",
    "    h_dist_rwd[metric],\n",
    "    t_dist_std[metric],\n",
    "    t_dist_rwd[metric],\n",
    ")\n",
    "print(f\"{metric}: Rwd vs Std Non-tum and Rwd & Std Tumour: {statistic}, p-value: {p_value}\")"
   ]
  },
  {
   "cell_type": "markdown",
   "metadata": {},
   "source": [
    "## Comparing non-tum Std and Reward"
   ]
  },
  {
   "cell_type": "code",
   "execution_count": 52,
   "metadata": {},
   "outputs": [
    {
     "data": {
      "text/html": [
       "<div>\n",
       "<style scoped>\n",
       "    .dataframe tbody tr th:only-of-type {\n",
       "        vertical-align: middle;\n",
       "    }\n",
       "\n",
       "    .dataframe tbody tr th {\n",
       "        vertical-align: top;\n",
       "    }\n",
       "\n",
       "    .dataframe thead th {\n",
       "        text-align: right;\n",
       "    }\n",
       "</style>\n",
       "<table border=\"1\" class=\"dataframe\">\n",
       "  <thead>\n",
       "    <tr style=\"text-align: right;\">\n",
       "      <th></th>\n",
       "      <th>MW</th>\n",
       "      <th>P-value</th>\n",
       "    </tr>\n",
       "  </thead>\n",
       "  <tbody>\n",
       "    <tr>\n",
       "      <th>betwenees</th>\n",
       "      <td>1126503.5</td>\n",
       "      <td>0.000000e+00</td>\n",
       "    </tr>\n",
       "    <tr>\n",
       "      <th>closeness</th>\n",
       "      <td>3951965.0</td>\n",
       "      <td>0.000000e+00</td>\n",
       "    </tr>\n",
       "    <tr>\n",
       "      <th>degree</th>\n",
       "      <td>8543780.5</td>\n",
       "      <td>2.999003e-166</td>\n",
       "    </tr>\n",
       "    <tr>\n",
       "      <th>pageRank</th>\n",
       "      <td>13513897.0</td>\n",
       "      <td>2.154045e-12</td>\n",
       "    </tr>\n",
       "    <tr>\n",
       "      <th>IVI</th>\n",
       "      <td>9801086.0</td>\n",
       "      <td>5.169976e-78</td>\n",
       "    </tr>\n",
       "  </tbody>\n",
       "</table>\n",
       "</div>"
      ],
      "text/plain": [
       "                   MW        P-value\n",
       "betwenees   1126503.5   0.000000e+00\n",
       "closeness   3951965.0   0.000000e+00\n",
       "degree      8543780.5  2.999003e-166\n",
       "pageRank   13513897.0   2.154045e-12\n",
       "IVI         9801086.0   5.169976e-78"
      ]
     },
     "execution_count": 52,
     "metadata": {},
     "output_type": "execute_result"
    }
   ],
   "source": [
    "metrics = [\"betwenees\", \"closeness\", \"degree\", \"pageRank\", \"IVI\"]\n",
    "test_rest = []\n",
    "\n",
    "for metric in metrics:\n",
    "    statistic, p_value = stats.mannwhitneyu(\n",
    "        h_dist_std[metric],\n",
    "        t_dist_rwd[metric],\n",
    "    )\n",
    "    test_rest.append((statistic, p_value))\n",
    "\n",
    "pd.DataFrame(test_rest, columns=[\"MW\", \"P-value\"], index=metrics)"
   ]
  },
  {
   "cell_type": "code",
   "execution_count": null,
   "metadata": {},
   "outputs": [],
   "source": []
  },
  {
   "cell_type": "markdown",
   "metadata": {},
   "source": [
    "## Comparing with P0"
   ]
  },
  {
   "cell_type": "code",
   "execution_count": 47,
   "metadata": {},
   "outputs": [
    {
     "name": "stdout",
     "output_type": "stream",
     "text": [
      "##### Experiment labels:  dict_keys(['standard_4K_4TF', 'standard_4K_3TF', 'standard_4K_6TF', 'norm3_4K_4TF', 'beta_4K_4TF', 'norm3_4K_5TF', 'beta_4K_6TF', 'beta_4K_5TF', 'beta_4K_3TF', 'norm3_4K_6TF', 'norm3_4K_3TF', 'standard_4K_7TF', 'standard_4K_8TF', 'standard_4K_9TF', 'standard_4K_5TF', 'beta_4K_7TF', 'norm3_4K_7TF', 'standard_4K_10TF', 'beta_4K_8TF', 'norm3_4K_8TF', 'beta_4K_9TF', 'norm3_4K_9TF', 'beta_4K_10TF', 'norm3_4K_10TF', 'standard_4K_50TF', 'norm3_4K_50TF', 'beta_4K_50TF'])\n"
     ]
    }
   ],
   "source": [
    "if 0:\n",
    "\n",
    "    exp_folder_p0_gc42 = \"network_I/P0_gc42/\"\n",
    "    p0_42 = ExperimentSet(\"p0_gc42\", base_path, exp_folder_p0_gc42, tcga_mutations_df, sel_sets = [\"4K\"], rel_path=\"../\")\n",
    "\n",
    "    %autoreload 2\n",
    "    tum.export_to_gephi(save=False)\n",
    "    p0_42.export_to_gephi(save=False)\n",
    "\n",
    "    # Load the networks\n",
    "    std_nt, rwrd_nt, pen_nt = p0_42.exps[\"standard_4K_50TF\"], p0_42.exps[\"norm3_4K_50TF\"], p0_42.exps[\"beta_4K_50TF\"]\n",
    "    metrics_df_50 = gh.prep_net_metrics(std_nt, rwrd_nt, pen_nt)\n",
    "\n",
    "    p0_dist_std = metrics_df_50.loc[metrics_df_50[\"Type\"] == \"Standard\"]\n",
    "    p0_dist_rwd = metrics_df_50.loc[metrics_df_50[\"Type\"] == \"Reward\"]\n",
    "    p0_dist_pen = metrics_df_50.loc[metrics_df_50[\"Type\"] == \"Penalised\"]"
   ]
  },
  {
   "cell_type": "markdown",
   "metadata": {},
   "source": [
    "## Compare MEV\n",
    "\n",
    "There are three different implementations of MEV:\n",
    "\n",
    "1. First - following Matthew's Care principle and not taking in account the difference in GE between the one used to build the network and the one for stratification \n",
    "2. Second - Takes in account the GE difference between the dataset used for net and the one for stratification\n",
    "3. Third - Also uses the mutations"
   ]
  },
  {
   "cell_type": "code",
   "execution_count": 9,
   "metadata": {},
   "outputs": [],
   "source": [
    "sel_gt: GtExp = hsbm_v3.exps[\"sigmoid_5K_6TF_hsbm\"]\n",
    "\n",
    "# Pre-process the tcga_mutations_df to contains all the genes in the tpm_df\n",
    "mut_df = tcga_mutations_df.copy(deep=True)\n",
    "missing_genes = list(set(sel_gt.tpm_df.index) - set(mut_df.index))\n",
    "\n",
    "mut_df = mut_df.reindex(mut_df.index.union(missing_genes), fill_value=0)\n",
    "mut_df = mut_df.loc[sel_gt.tpm_df.index].drop(columns=\"count\")\n",
    "mut_df = mut_df[all_tum_tpms.columns]"
   ]
  },
  {
   "cell_type": "code",
   "execution_count": 10,
   "metadata": {},
   "outputs": [
    {
     "name": "stdout",
     "output_type": "stream",
     "text": [
      "Variation per principal component [0.53563282 0.2720246 ] and the sum 80.77%\n",
      "Variation per principal component [0.55064402 0.26745057] and the sum 81.81%\n",
      "### Running with mut_ofset 1\n",
      "Variation per principal component [0.55010937 0.26658049] and the sum 81.67%\n"
     ]
    }
   ],
   "source": [
    "########## Runing the MEVs  ##########\n",
    "\n",
    "#### Normal MEV\n",
    "sel_gt.gt_modCon_MEV(all_tpms=all_tum_tpms, is_imev=False, com_df=com_df)\n",
    "mev1 = sel_gt.mevsMut.copy(deep=True)\n",
    "cs_mev1, fig_mev1, metrics_mev1 = gh.run_clusters(sel_gt, label=\"mev1\", show_figs=True, norm=False)\n",
    "\n",
    "#### iMEV\n",
    "sel_gt.gt_modCon_MEV(all_tpms=all_tum_tpms, is_imev=True, com_df=com_df)\n",
    "mev2 = sel_gt.mevsMut.copy(deep=True)\n",
    "cs_mev2, fig_mev2, metrics_mev2 = gh.run_clusters(sel_gt, label=\"mev2\", show_figs=True, norm=False)\n",
    "\n",
    "#### iMEV + mutation\n",
    "sel_gt.gt_modCon_MEV(all_tpms=all_tum_tpms, is_imev=True, com_df=com_df, mut_df=mut_df, offset=1)\n",
    "mev3 = sel_gt.mevsMut.copy(deep=True)\n",
    "cs_mev3, fig_mev3, metrics_mev3 = gh.run_clusters(sel_gt, label=\"mev3\", show_figs=True, norm=False)"
   ]
  },
  {
   "cell_type": "code",
   "execution_count": 11,
   "metadata": {},
   "outputs": [
    {
     "data": {
      "application/vnd.plotly.v1+json": {
       "config": {
        "plotlyServerURL": "https://plot.ly"
       },
       "data": [
        {
         "arrangement": "perpendicular",
         "link": {
          "color": "#bdbdbd",
          "source": [
           0,
           0,
           0,
           0,
           0,
           0,
           1,
           1,
           1,
           2,
           2,
           2,
           3,
           3,
           3,
           3,
           4,
           4,
           4,
           5,
           5,
           5,
           5,
           5,
           6,
           6,
           6,
           6,
           7,
           7,
           7,
           7,
           7,
           7,
           8,
           8,
           8,
           8,
           8,
           9,
           9,
           9,
           9,
           10,
           10,
           10,
           10,
           10,
           10,
           11,
           11,
           11,
           12,
           12,
           13,
           13,
           14,
           14,
           15,
           15,
           16,
           16,
           17,
           17,
           17,
           17,
           18,
           18,
           18,
           18,
           18,
           19,
           19,
           19,
           19,
           19,
           19,
           20,
           20,
           20,
           20,
           21,
           21,
           21,
           21,
           22,
           22,
           22,
           22,
           22
          ],
          "target": [
           5,
           6,
           7,
           8,
           9,
           10,
           5,
           7,
           10,
           7,
           8,
           10,
           6,
           7,
           8,
           10,
           6,
           7,
           10,
           11,
           12,
           13,
           15,
           16,
           11,
           12,
           13,
           15,
           11,
           12,
           13,
           14,
           15,
           16,
           11,
           12,
           13,
           14,
           16,
           11,
           12,
           13,
           15,
           11,
           12,
           13,
           14,
           15,
           16,
           17,
           19,
           20,
           17,
           19,
           18,
           20,
           18,
           20,
           19,
           21,
           19,
           22,
           23,
           25,
           27,
           28,
           23,
           24,
           25,
           26,
           28,
           23,
           24,
           25,
           26,
           27,
           28,
           24,
           25,
           26,
           28,
           23,
           24,
           25,
           28,
           23,
           24,
           25,
           26,
           28
          ],
          "value": [
           61,
           35,
           4,
           1,
           33,
           7,
           5,
           71,
           1,
           18,
           6,
           1,
           5,
           23,
           110,
           3,
           1,
           1,
           18,
           9,
           29,
           3,
           20,
           5,
           7,
           22,
           4,
           8,
           54,
           6,
           34,
           10,
           3,
           10,
           19,
           1,
           30,
           48,
           19,
           3,
           22,
           3,
           5,
           5,
           9,
           7,
           1,
           6,
           2,
           1,
           76,
           20,
           86,
           3,
           79,
           2,
           3,
           56,
           1,
           41,
           2,
           34,
           76,
           3,
           4,
           4,
           15,
           11,
           34,
           11,
           11,
           20,
           12,
           27,
           7,
           1,
           15,
           7,
           57,
           11,
           3,
           34,
           1,
           2,
           4,
           4,
           5,
           19,
           2,
           4
          ]
         },
         "node": {
          "color": [
           "rgb(229, 134, 6)",
           "rgb(229, 134, 6)",
           "rgb(229, 134, 6)",
           "rgb(229, 134, 6)",
           "rgb(229, 134, 6)",
           "rgb(93, 105, 177)",
           "rgb(93, 105, 177)",
           "rgb(93, 105, 177)",
           "rgb(93, 105, 177)",
           "rgb(93, 105, 177)",
           "rgb(93, 105, 177)",
           "rgb(82, 188, 163)",
           "rgb(82, 188, 163)",
           "rgb(82, 188, 163)",
           "rgb(82, 188, 163)",
           "rgb(82, 188, 163)",
           "rgb(82, 188, 163)",
           "rgb(153, 201, 69)",
           "rgb(153, 201, 69)",
           "rgb(153, 201, 69)",
           "rgb(153, 201, 69)",
           "rgb(153, 201, 69)",
           "rgb(153, 201, 69)",
           "rgb(204, 97, 176)",
           "rgb(204, 97, 176)",
           "rgb(204, 97, 176)",
           "rgb(204, 97, 176)",
           "rgb(204, 97, 176)",
           "rgb(204, 97, 176)"
          ],
          "label": [
           "Ba/Sq",
           "LumInf",
           "LumNS",
           "LumP",
           "NE-like",
           "High IFNG",
           "Low IFNG",
           "Lum Inf/NS",
           "LumP",
           "Med IFNG",
           "Ne",
           0,
           1,
           2,
           3,
           4,
           5,
           0,
           1,
           2,
           3,
           4,
           5,
           "Ba/Sq",
           "LumNS",
           "LumP",
           "LumU",
           "NE-like",
           "Stroma-rich"
          ],
          "line": {
           "color": "black",
           "width": 0.5
          },
          "pad": 15,
          "thickness": 20
         },
         "type": "sankey"
        }
       ],
       "layout": {
        "annotations": [
         {
          "align": "left",
          "font": {
           "color": "#003366",
           "size": 18
          },
          "showarrow": false,
          "text": "TCGA",
          "x": 0,
          "xref": "x",
          "y": 1.07,
          "yref": "paper"
         },
         {
          "align": "left",
          "font": {
           "color": "#003366",
           "size": 18
          },
          "showarrow": false,
          "text": "CA + IFNG",
          "x": 1,
          "xref": "x",
          "y": 1.07,
          "yref": "paper"
         },
         {
          "align": "left",
          "font": {
           "color": "#003366",
           "size": 18
          },
          "showarrow": false,
          "text": "Standard MEV_1",
          "x": 2,
          "xref": "x",
          "y": 1.07,
          "yref": "paper"
         },
         {
          "align": "left",
          "font": {
           "color": "#003366",
           "size": 18
          },
          "showarrow": false,
          "text": "Standard MEV_2",
          "x": 3,
          "xref": "x",
          "y": 1.07,
          "yref": "paper"
         },
         {
          "align": "left",
          "font": {
           "color": "#003366",
           "size": 18
          },
          "showarrow": false,
          "text": "Consensus",
          "x": 4,
          "xref": "x",
          "y": 1.07,
          "yref": "paper"
         }
        ],
        "font": {
         "color": "#003366",
         "size": 18
        },
        "height": 600,
        "plot_bgcolor": "rgba(0,0,0,0)",
        "template": {
         "data": {
          "bar": [
           {
            "error_x": {
             "color": "rgb(51,51,51)"
            },
            "error_y": {
             "color": "rgb(51,51,51)"
            },
            "marker": {
             "line": {
              "color": "rgb(237,237,237)",
              "width": 0.5
             },
             "pattern": {
              "fillmode": "overlay",
              "size": 10,
              "solidity": 0.2
             }
            },
            "type": "bar"
           }
          ],
          "barpolar": [
           {
            "marker": {
             "line": {
              "color": "rgb(237,237,237)",
              "width": 0.5
             },
             "pattern": {
              "fillmode": "overlay",
              "size": 10,
              "solidity": 0.2
             }
            },
            "type": "barpolar"
           }
          ],
          "carpet": [
           {
            "aaxis": {
             "endlinecolor": "rgb(51,51,51)",
             "gridcolor": "white",
             "linecolor": "white",
             "minorgridcolor": "white",
             "startlinecolor": "rgb(51,51,51)"
            },
            "baxis": {
             "endlinecolor": "rgb(51,51,51)",
             "gridcolor": "white",
             "linecolor": "white",
             "minorgridcolor": "white",
             "startlinecolor": "rgb(51,51,51)"
            },
            "type": "carpet"
           }
          ],
          "choropleth": [
           {
            "colorbar": {
             "outlinewidth": 0,
             "tickcolor": "rgb(237,237,237)",
             "ticklen": 6,
             "ticks": "inside"
            },
            "type": "choropleth"
           }
          ],
          "contour": [
           {
            "colorbar": {
             "outlinewidth": 0,
             "tickcolor": "rgb(237,237,237)",
             "ticklen": 6,
             "ticks": "inside"
            },
            "colorscale": [
             [
              0,
              "rgb(20,44,66)"
             ],
             [
              1,
              "rgb(90,179,244)"
             ]
            ],
            "type": "contour"
           }
          ],
          "contourcarpet": [
           {
            "colorbar": {
             "outlinewidth": 0,
             "tickcolor": "rgb(237,237,237)",
             "ticklen": 6,
             "ticks": "inside"
            },
            "type": "contourcarpet"
           }
          ],
          "heatmap": [
           {
            "colorbar": {
             "outlinewidth": 0,
             "tickcolor": "rgb(237,237,237)",
             "ticklen": 6,
             "ticks": "inside"
            },
            "colorscale": [
             [
              0,
              "rgb(20,44,66)"
             ],
             [
              1,
              "rgb(90,179,244)"
             ]
            ],
            "type": "heatmap"
           }
          ],
          "heatmapgl": [
           {
            "colorbar": {
             "outlinewidth": 0,
             "tickcolor": "rgb(237,237,237)",
             "ticklen": 6,
             "ticks": "inside"
            },
            "colorscale": [
             [
              0,
              "rgb(20,44,66)"
             ],
             [
              1,
              "rgb(90,179,244)"
             ]
            ],
            "type": "heatmapgl"
           }
          ],
          "histogram": [
           {
            "marker": {
             "pattern": {
              "fillmode": "overlay",
              "size": 10,
              "solidity": 0.2
             }
            },
            "type": "histogram"
           }
          ],
          "histogram2d": [
           {
            "colorbar": {
             "outlinewidth": 0,
             "tickcolor": "rgb(237,237,237)",
             "ticklen": 6,
             "ticks": "inside"
            },
            "colorscale": [
             [
              0,
              "rgb(20,44,66)"
             ],
             [
              1,
              "rgb(90,179,244)"
             ]
            ],
            "type": "histogram2d"
           }
          ],
          "histogram2dcontour": [
           {
            "colorbar": {
             "outlinewidth": 0,
             "tickcolor": "rgb(237,237,237)",
             "ticklen": 6,
             "ticks": "inside"
            },
            "colorscale": [
             [
              0,
              "rgb(20,44,66)"
             ],
             [
              1,
              "rgb(90,179,244)"
             ]
            ],
            "type": "histogram2dcontour"
           }
          ],
          "mesh3d": [
           {
            "colorbar": {
             "outlinewidth": 0,
             "tickcolor": "rgb(237,237,237)",
             "ticklen": 6,
             "ticks": "inside"
            },
            "type": "mesh3d"
           }
          ],
          "parcoords": [
           {
            "line": {
             "colorbar": {
              "outlinewidth": 0,
              "tickcolor": "rgb(237,237,237)",
              "ticklen": 6,
              "ticks": "inside"
             }
            },
            "type": "parcoords"
           }
          ],
          "pie": [
           {
            "automargin": true,
            "type": "pie"
           }
          ],
          "scatter": [
           {
            "fillpattern": {
             "fillmode": "overlay",
             "size": 10,
             "solidity": 0.2
            },
            "type": "scatter"
           }
          ],
          "scatter3d": [
           {
            "line": {
             "colorbar": {
              "outlinewidth": 0,
              "tickcolor": "rgb(237,237,237)",
              "ticklen": 6,
              "ticks": "inside"
             }
            },
            "marker": {
             "colorbar": {
              "outlinewidth": 0,
              "tickcolor": "rgb(237,237,237)",
              "ticklen": 6,
              "ticks": "inside"
             }
            },
            "type": "scatter3d"
           }
          ],
          "scattercarpet": [
           {
            "marker": {
             "colorbar": {
              "outlinewidth": 0,
              "tickcolor": "rgb(237,237,237)",
              "ticklen": 6,
              "ticks": "inside"
             }
            },
            "type": "scattercarpet"
           }
          ],
          "scattergeo": [
           {
            "marker": {
             "colorbar": {
              "outlinewidth": 0,
              "tickcolor": "rgb(237,237,237)",
              "ticklen": 6,
              "ticks": "inside"
             }
            },
            "type": "scattergeo"
           }
          ],
          "scattergl": [
           {
            "marker": {
             "colorbar": {
              "outlinewidth": 0,
              "tickcolor": "rgb(237,237,237)",
              "ticklen": 6,
              "ticks": "inside"
             }
            },
            "type": "scattergl"
           }
          ],
          "scattermapbox": [
           {
            "marker": {
             "colorbar": {
              "outlinewidth": 0,
              "tickcolor": "rgb(237,237,237)",
              "ticklen": 6,
              "ticks": "inside"
             }
            },
            "type": "scattermapbox"
           }
          ],
          "scatterpolar": [
           {
            "marker": {
             "colorbar": {
              "outlinewidth": 0,
              "tickcolor": "rgb(237,237,237)",
              "ticklen": 6,
              "ticks": "inside"
             }
            },
            "type": "scatterpolar"
           }
          ],
          "scatterpolargl": [
           {
            "marker": {
             "colorbar": {
              "outlinewidth": 0,
              "tickcolor": "rgb(237,237,237)",
              "ticklen": 6,
              "ticks": "inside"
             }
            },
            "type": "scatterpolargl"
           }
          ],
          "scatterternary": [
           {
            "marker": {
             "colorbar": {
              "outlinewidth": 0,
              "tickcolor": "rgb(237,237,237)",
              "ticklen": 6,
              "ticks": "inside"
             }
            },
            "type": "scatterternary"
           }
          ],
          "surface": [
           {
            "colorbar": {
             "outlinewidth": 0,
             "tickcolor": "rgb(237,237,237)",
             "ticklen": 6,
             "ticks": "inside"
            },
            "colorscale": [
             [
              0,
              "rgb(20,44,66)"
             ],
             [
              1,
              "rgb(90,179,244)"
             ]
            ],
            "type": "surface"
           }
          ],
          "table": [
           {
            "cells": {
             "fill": {
              "color": "rgb(237,237,237)"
             },
             "line": {
              "color": "white"
             }
            },
            "header": {
             "fill": {
              "color": "rgb(217,217,217)"
             },
             "line": {
              "color": "white"
             }
            },
            "type": "table"
           }
          ]
         },
         "layout": {
          "annotationdefaults": {
           "arrowhead": 0,
           "arrowwidth": 1
          },
          "autotypenumbers": "strict",
          "coloraxis": {
           "colorbar": {
            "outlinewidth": 0,
            "tickcolor": "rgb(237,237,237)",
            "ticklen": 6,
            "ticks": "inside"
           }
          },
          "colorscale": {
           "sequential": [
            [
             0,
             "rgb(20,44,66)"
            ],
            [
             1,
             "rgb(90,179,244)"
            ]
           ],
           "sequentialminus": [
            [
             0,
             "rgb(20,44,66)"
            ],
            [
             1,
             "rgb(90,179,244)"
            ]
           ]
          },
          "colorway": [
           "#F8766D",
           "#A3A500",
           "#00BF7D",
           "#00B0F6",
           "#E76BF3"
          ],
          "font": {
           "color": "rgb(51,51,51)"
          },
          "geo": {
           "bgcolor": "white",
           "lakecolor": "white",
           "landcolor": "rgb(237,237,237)",
           "showlakes": true,
           "showland": true,
           "subunitcolor": "white"
          },
          "hoverlabel": {
           "align": "left"
          },
          "hovermode": "closest",
          "paper_bgcolor": "white",
          "plot_bgcolor": "rgb(237,237,237)",
          "polar": {
           "angularaxis": {
            "gridcolor": "white",
            "linecolor": "white",
            "showgrid": true,
            "tickcolor": "rgb(51,51,51)",
            "ticks": "outside"
           },
           "bgcolor": "rgb(237,237,237)",
           "radialaxis": {
            "gridcolor": "white",
            "linecolor": "white",
            "showgrid": true,
            "tickcolor": "rgb(51,51,51)",
            "ticks": "outside"
           }
          },
          "scene": {
           "xaxis": {
            "backgroundcolor": "rgb(237,237,237)",
            "gridcolor": "white",
            "gridwidth": 2,
            "linecolor": "white",
            "showbackground": true,
            "showgrid": true,
            "tickcolor": "rgb(51,51,51)",
            "ticks": "outside",
            "zerolinecolor": "white"
           },
           "yaxis": {
            "backgroundcolor": "rgb(237,237,237)",
            "gridcolor": "white",
            "gridwidth": 2,
            "linecolor": "white",
            "showbackground": true,
            "showgrid": true,
            "tickcolor": "rgb(51,51,51)",
            "ticks": "outside",
            "zerolinecolor": "white"
           },
           "zaxis": {
            "backgroundcolor": "rgb(237,237,237)",
            "gridcolor": "white",
            "gridwidth": 2,
            "linecolor": "white",
            "showbackground": true,
            "showgrid": true,
            "tickcolor": "rgb(51,51,51)",
            "ticks": "outside",
            "zerolinecolor": "white"
           }
          },
          "shapedefaults": {
           "fillcolor": "black",
           "line": {
            "width": 0
           },
           "opacity": 0.3
          },
          "ternary": {
           "aaxis": {
            "gridcolor": "white",
            "linecolor": "white",
            "showgrid": true,
            "tickcolor": "rgb(51,51,51)",
            "ticks": "outside"
           },
           "baxis": {
            "gridcolor": "white",
            "linecolor": "white",
            "showgrid": true,
            "tickcolor": "rgb(51,51,51)",
            "ticks": "outside"
           },
           "bgcolor": "rgb(237,237,237)",
           "caxis": {
            "gridcolor": "white",
            "linecolor": "white",
            "showgrid": true,
            "tickcolor": "rgb(51,51,51)",
            "ticks": "outside"
           }
          },
          "xaxis": {
           "automargin": true,
           "gridcolor": "white",
           "linecolor": "white",
           "showgrid": true,
           "tickcolor": "rgb(51,51,51)",
           "ticks": "outside",
           "title": {
            "standoff": 15
           },
           "zerolinecolor": "white"
          },
          "yaxis": {
           "automargin": true,
           "gridcolor": "white",
           "linecolor": "white",
           "showgrid": true,
           "tickcolor": "rgb(51,51,51)",
           "ticks": "outside",
           "title": {
            "standoff": 15
           },
           "zerolinecolor": "white"
          }
         }
        },
        "title": {
         "text": ""
        },
        "xaxis": {
         "showgrid": false,
         "visible": false,
         "zeroline": false
        },
        "yaxis": {
         "showgrid": false,
         "visible": false,
         "zeroline": false
        }
       }
      }
     },
     "metadata": {},
     "output_type": "display_data"
    }
   ],
   "source": [
    "# Combine eveyrthing\n",
    "comb_df = pd.concat(\n",
    "    [\n",
    "        cs_mev1.drop(columns=[\"PC_1\", \"PC_2\"]),\n",
    "        cs_mev2.drop(columns=[\"PC_1\", \"PC_2\"]),\n",
    "        cs_mev3.drop(columns=[\"PC_1\", \"PC_2\"]),\n",
    "        vu_output.drop(columns=[\"PC_1\", \"PC_2\"]),\n",
    "    ],\n",
    "    axis=1,\n",
    ").dropna()\n",
    "\n",
    "num = 6\n",
    "model = f\"RawKMeans_CS_{num}_mev\"\n",
    "\n",
    "comb_df[\"MEV_1\"] = comb_df[f\"{model}1\"]\n",
    "comb_df[\"MEV_2\"] = comb_df[f\"{model}2\"]\n",
    "comb_df[\"MEV_3\"] = comb_df[f\"{model}3\"]\n",
    "\n",
    "reorder_cols = [\n",
    "    # \"TCGA_2017_AM_remap\",\n",
    "    \"TCGA408_classifier\",\n",
    "    \"KMeans_labels_6\",\n",
    "    \"MEV_1\",\n",
    "    \"MEV_2\",\n",
    "    # \"MEV_3\",\n",
    "    \"2019_consensus_classifier\",\n",
    "]\n",
    "\n",
    "remap_cols = {\n",
    "    \"TCGA408_classifier\": \"TCGA\",\n",
    "    \"KMeans_labels_6\": \"CA + IFNG\",\n",
    "    \"MEV_1\": \"Standard MEV_1\",\n",
    "    \"MEV_2\": \"Standard MEV_2\",\n",
    "    \"consensus\": \"Consensus\",\n",
    "}\n",
    "comb_df.rename(columns=remap_cols, inplace=~True)\n",
    "# meta, sky_fig = sky.main(df=comb_df, reorder_cols=remap_cols.values(), title=\"Different selection mechanisms\", retMeta=True)\n",
    "\n",
    "_, sky_fig = sky.main(df=comb_df, reorder_cols=remap_cols.values(), title=\"v3. Comp between iMevs-Mut vs iMev\", retMeta=True)\n",
    "sky_fig.update_layout(\n",
    "    title=\"\",\n",
    "    font=dict(size=18),\n",
    ")\n",
    "save_fig(name=f\"mevs_comp_std_K_{num}\", fig=sky_fig, base_path=f\"{figures_path}/\", width=1400, height=600)\n",
    "sky_fig.show()\n",
    "\n",
    "\n",
    "# cols = list(remap_cols.values())[2:4]\n",
    "# diff = comb_df[comb_df[cols[0]] != comb_df[cols[1]]].shape[0]\n",
    "# print(f\"There are {diff} samples difference\")"
   ]
  },
  {
   "cell_type": "markdown",
   "metadata": {},
   "source": [
    "### Top Metrics comparison"
   ]
  },
  {
   "cell_type": "code",
   "execution_count": null,
   "metadata": {},
   "outputs": [],
   "source": [
    "top_mev1 = gh.rank_cs_metrics(metrics_mev1, label=\"mev1\")\n",
    "top_mev2 = gh.rank_cs_metrics(metrics_mev2, label=\"mev2\")\n",
    "top_mev3 = gh.rank_cs_metrics(metrics_mev3, label=\"mev3\")\n",
    "\n",
    "pd.concat([top_mev1, top_mev2, top_mev3], axis=1)"
   ]
  },
  {
   "cell_type": "markdown",
   "metadata": {},
   "source": [
    "### Mevs number of genes"
   ]
  },
  {
   "cell_type": "code",
   "execution_count": null,
   "metadata": {},
   "outputs": [],
   "source": [
    "sel_gt.gt_modCon_MEV(all_tpms=all_tum_tpms, is_imev=False, com_df=com_df)\n",
    "mev1 = sel_gt.mevsMut.copy(deep=True)\n",
    "cs_mev1, fig_mev1, metrics_mev1 = gh.run_clusters(sel_gt, label=\"mev1\", show_figs=True, norm=False)\n",
    "\n",
    "#### iMEV\n",
    "sel_gt.gt_modCon_MEV(all_tpms=all_tum_tpms, is_imev=True, com_df=com_df)\n",
    "mev2 = sel_gt.mevsMut.copy(deep=True)\n",
    "cs_mev2, fig_mev2, metrics_mev2 = gh.run_clusters(sel_gt, label=\"mev2\", show_figs=True, norm=False)"
   ]
  },
  {
   "cell_type": "code",
   "execution_count": null,
   "metadata": {},
   "outputs": [],
   "source": [
    "num_genes, sort_col = 100, \"ModCon_{}_gt\".format(sel_gt.type)\n",
    "mevs1, info1 = sel_gt.get_mevs(tpms=all_tum_tpms, modCon=sel_gt.gt_modCon, sort_col=sort_col, num_genes=num_genes, verbose=True)\n",
    "\n",
    "mevs2, info2 = sel_gt.get_iMevs(h_tpms=sel_gt.tpm_df, tum_tpms=all_tum_tpms, modCon=sel_gt.gt_modCon, sort_col=sort_col, num_genes=num_genes, verbose=True)"
   ]
  },
  {
   "cell_type": "markdown",
   "metadata": {},
   "source": [
    "## Compare SBM vs hSBM\n",
    "\n",
    "In the PhD thesis I make the case that the hSBM finds more communities than SBM so I need to show that difference."
   ]
  },
  {
   "cell_type": "code",
   "execution_count": null,
   "metadata": {},
   "outputs": [],
   "source": [
    "if 0:\n",
    "    sel_gt = hsbm_v3.exps[\"standard_5K_6TF_sbm\"]\n",
    "    fig = sel_gt.plot_partition_prob()\n",
    "    fig.show()"
   ]
  },
  {
   "cell_type": "code",
   "execution_count": null,
   "metadata": {},
   "outputs": [],
   "source": [
    "if 0:\n",
    "    sel_gt = hsbm_v3.exps[\"standard_5K_6TF_hsbm\"]\n",
    "    fig = sel_gt.hsbm_plot_posterior()\n",
    "    fig.show()"
   ]
  },
  {
   "cell_type": "markdown",
   "metadata": {},
   "source": [
    "## Gene distribution in healthy and tumour\n",
    "\n",
    "This is useful to show the expression distribution for a gene in the tumour dataset, where it is the mean and what it means the std deviation"
   ]
  },
  {
   "cell_type": "code",
   "execution_count": null,
   "metadata": {},
   "outputs": [],
   "source": [
    "import seaborn as sns\n",
    "\n",
    "\n",
    "def gene_distribution(tpm_df: pd.DataFrame, gene=\"STAT2\"):\n",
    "\n",
    "    dmy_ds = tpm_df.loc[gene]\n",
    "\n",
    "    # Pick a sample from dmy_ds\n",
    "    sample = np.random.choice(dmy_ds)\n",
    "\n",
    "    # Increase the number of bins\n",
    "    num_bins = 20\n",
    "\n",
    "    # Plot the histogram with increased bins and random x-axis values\n",
    "    sns.histplot(dmy_ds, bins=num_bins, kde=True)\n",
    "    plt.axvline(dmy_ds.mean(), color=\"r\", linestyle=\"--\", label=\"Mean\")\n",
    "    plt.axvline(dmy_ds.mean() + dmy_ds.std(), color=\"g\", linestyle=\"--\", label=\"Mean + Std Dev\")\n",
    "    plt.axvline(dmy_ds.mean() - dmy_ds.std(), color=\"g\", linestyle=\"--\", label=\"Mean - Std Dev\")\n",
    "    plt.axvline(sample, color=\"b\", linestyle=\"--\", label=\"Sample\")\n",
    "    plt.legend()\n",
    "    plt.show()"
   ]
  },
  {
   "cell_type": "code",
   "execution_count": null,
   "metadata": {},
   "outputs": [],
   "source": [
    "if 1:\n",
    "    gene_distribution(sel_gt.tpm_df, gene=\"TP63\")"
   ]
  },
  {
   "cell_type": "markdown",
   "metadata": {},
   "source": [
    "## Level membership"
   ]
  },
  {
   "cell_type": "code",
   "execution_count": null,
   "metadata": {},
   "outputs": [],
   "source": [
    "if 0:\n",
    "    fig = sel_gt.hsbm_plot_posterior()\n",
    "    fig.show()"
   ]
  }
 ],
 "metadata": {
  "kernelspec": {
   "display_name": "iNet_gt",
   "language": "python",
   "name": "python3"
  },
  "language_info": {
   "codemirror_mode": {
    "name": "ipython",
    "version": 3
   },
   "file_extension": ".py",
   "mimetype": "text/x-python",
   "name": "python",
   "nbconvert_exporter": "python",
   "pygments_lexer": "ipython3",
   "version": "3.11.8"
  }
 },
 "nbformat": 4,
 "nbformat_minor": 2
}
