{
 "cells": [
  {
   "cell_type": "markdown",
   "metadata": {},
   "source": [
    "# Motivation\n",
    "\n",
    "In this notebook the results from the 2nd version of the Network pipeline developed in my PhD thesis. The following changes were made:\n",
    "* the non-tumour dataset was used\n",
    "* hierarchical Stochastic Block Model (hSBM) was used instead of Leiden \n",
    "* Sigmoid weight modifiers for reward\n",
    "* MEV - integrates the expression of both the non-tumour dataset and the tumour"
   ]
  },
  {
   "cell_type": "code",
   "execution_count": 1,
   "metadata": {},
   "outputs": [
    {
     "name": "stdout",
     "output_type": "stream",
     "text": [
      "The autoreload extension is already loaded. To reload it, use:\n",
      "  %reload_ext autoreload\n"
     ]
    }
   ],
   "source": [
    "%load_ext autoreload\n",
    "import pandas as pd\n",
    "import numpy as np\n",
    "import os\n",
    "import sys\n",
    "import igraph as ig\n",
    "import pickle\n",
    "\n",
    "import plotly.express as px\n",
    "from plotly.subplots import make_subplots\n",
    "import plotly.graph_objects as go\n",
    "import plotly.io as pio\n",
    "\n",
    "import multiprocess as mp\n",
    "\n",
    "SCRIPT_DIR = os.path.dirname(os.path.abspath(\"pcgna_processing.py\"))\n",
    "sys.path.append(os.path.dirname(SCRIPT_DIR))\n",
    "sys.path.append('/Users/vlad/Documents/Code/York/iNet_v2/src/')\n",
    "\n",
    "from NetworkAnalysis.ExperimentSet import ExperimentSet\n",
    "from NetworkAnalysis.NetworkOutput import NetworkOutput\n",
    "from NetworkAnalysis import GraphHelper as gh\n",
    "from NetworkAnalysis.utilities import sankey_consensus_plot as sky\n",
    "from NetworkAnalysis.utilities.helpers import save_fig\n",
    "from NetworkAnalysis.utilities.helpers import save_fig, survival_plot, survival_comp\n",
    "from NetworkAnalysis.GraphToolExp import GraphToolExperiment as GtExp\n",
    "import NetworkAnalysis.utilities.clustering as cs\n",
    "from NetworkAnalysis.NetworkComp import NetworkComp\n",
    "\n",
    "\n",
    "\n",
    "# Gsea libraries\n",
    "import gseapy as gp\n",
    "import matplotlib.pyplot as plt\n",
    "\n",
    "import graph_tool.all as gt\n",
    "\n",
    "# %matplotlib inline\n",
    "\n",
    "pio.templates.default = \"ggplot2\"\n",
    "\n",
    "\n",
    "pool = mp.Pool(mp.cpu_count())"
   ]
  },
  {
   "cell_type": "code",
   "execution_count": 2,
   "metadata": {},
   "outputs": [],
   "source": [
    "results_path = \"../../results/exp/\"\n",
    "data_base = \"../../data/\"\n",
    "base_path = \"../../results/\"\n",
    "\n",
    "figures_path = \"../network_ii/validation/\"\n",
    "\n",
    "base_sbm_path = \"../../../iNet_v2/\"\n",
    "sbm_exps_path = \"results/sbm/\"\n",
    "\n",
    "exp_folder_tumour = \"network_I/tum/\"\n",
    "\n",
    "\n",
    "vu_output = pd.read_csv(f\"{data_base}/metadata/VU_clustering_v3.tsv\", sep=\"\\t\", index_col=\"Sample\")\n",
    "\n",
    "tcga_mutations_df = pd.read_csv(f\"{data_base}/tumour/mutations_tcga.csv\")\n",
    "tcga_mutations_df = tcga_mutations_df[tcga_mutations_df[\"count\"] != 0].set_index(\"gene\")\n",
    "\n",
    "all_tum_tpms = pd.read_csv(f\"{data_base}/tumour/tum_TPMs_selected_genes_gc42_all_v4.tsv\", sep=\"\\t\", index_col=\"genes\")\n",
    "\n",
    "\n",
    "healthy_metadata = pd.read_csv(f\"{data_base}/metadata/healthy_bladder_metadata.tsv\", sep=\"\\t\", index_col=\"Sample\", dtype_backend=\"pyarrow\")\n",
    "\n",
    "# tf list\n",
    "tf_path = f\"{data_base}/metadata/TF_names_v_1.01.txt\"\n",
    "if os.path.exists(tf_path):\n",
    "    tf_list = np.genfromtxt(fname=tf_path, delimiter=\"\\t\", skip_header=1, dtype=\"str\")"
   ]
  },
  {
   "cell_type": "markdown",
   "metadata": {},
   "source": [
    "# Load experiments"
   ]
  },
  {
   "cell_type": "code",
   "execution_count": 3,
   "metadata": {},
   "outputs": [
    {
     "name": "stdout",
     "output_type": "stream",
     "text": [
      "##### Experiment labels:  dict_keys(['standard_5K_50TF', 'beta_5K_50TF', 'norm2_5K_50TF', 'norm3_5K_50TF', 'standard_5K_6TF', 'standard_5K_5TF', 'standard_5K_4TF', 'standard_5K_3TF', 'norm3_5K_5TF', 'norm3_5K_4TF', 'norm3_5K_6TF', 'beta_5K_3TF', 'beta_5K_4TF', 'beta_5K_6TF', 'norm3_5K_3TF', 'standard_5K_7TF', 'standard_5K_8TF', 'beta_5K_7TF', 'standard_5K_9TF', 'standard_5K_10TF', 'norm3_5K_7TF', 'norm3_5K_8TF', 'beta_5K_8TF', 'norm3_5K_9TF', 'beta_5K_9TF', 'beta_5K_10TF', 'norm3_5K_10TF', 'beta_5K_5TF'])\n",
      "['standard_5K_6TF', 'norm3_5K_6TF']\n"
     ]
    }
   ],
   "source": [
    "tum = ExperimentSet(\"tum\", base_path, exp_folder_tumour, tcga_mutations_df, sel_sets = [\"5K\"], rel_path=\"../\")\n",
    "\n",
    "%autoreload 2\n",
    "exps = {}\n",
    "for key, exp in tum.exps.items():\n",
    "    tf = int(exp.type.split(\"_\")[-1].split(\"TF\")[0])\n",
    "    modifier = exp.type.split(\"_\")[0]\n",
    "    if tf != 6 or modifier == 'beta':\n",
    "        continue\n",
    "\n",
    "    exp.export_to_gephi(save=False)\n",
    "    graph_stats = exp.compute_graph_stats()\n",
    "    exp.nodes_df = pd.concat([graph_stats, exp.nodes_df], axis=1)\n",
    "\n",
    "    exps[key] = exp\n",
    "\n",
    "\n",
    "tum.exps = exps\n",
    "print(tum.get_exp_labels())"
   ]
  },
  {
   "cell_type": "code",
   "execution_count": 4,
   "metadata": {},
   "outputs": [
    {
     "name": "stdout",
     "output_type": "stream",
     "text": [
      "##### Experiment labels:  dict_keys(['standard_5K_6TF_sbm', 'standard_5K_6TF_hsbm', 'sigmoid_5K_6TF_hsbm'])\n",
      "Loading Graph-Tool for standard_5K_6TF_hsbm\n",
      "Loading Graph-Tool for sigmoid_5K_6TF_hsbm\n"
     ]
    }
   ],
   "source": [
    "hsbm_v3 = ExperimentSet(\"v3\", base_path=base_sbm_path, exp_path=sbm_exps_path, mut_df=tcga_mutations_df, sel_sets=None, exp_type=\"iNet\")\n",
    "\n",
    "exps = {}\n",
    "for idx, exp in enumerate(hsbm_v3.get_exps()):\n",
    "    if exp.sbm_method != \"hsbm\":  # or idx != 2:\n",
    "        continue\n",
    "\n",
    "    print(f\"Loading Graph-Tool for {exp.type}\")\n",
    "    exp = GtExp.from_pgcna_inet(exp, rel_path=\"\")\n",
    "\n",
    "    # partitions from hSBM\n",
    "    exp.hsbm_add_vp(mut_df=tcga_mutations_df)\n",
    "    com_df, _ = exp.hsbm_get_gt_df()\n",
    "    com_df[\"max_b\"] = com_df[\"P_lvl_0\"]\n",
    "\n",
    "    # export to gephi\n",
    "    exp.export_to_gephi(save=False, com_df=com_df)\n",
    "\n",
    "    # Need it for comparison\n",
    "    exps[exp.type] = exp\n",
    "\n",
    "hsbm_v3.exps = exps"
   ]
  },
  {
   "cell_type": "code",
   "execution_count": 5,
   "metadata": {},
   "outputs": [],
   "source": [
    "std_exp: GtExp = hsbm_v3.exps[\"standard_5K_6TF_hsbm\"]\n",
    "rwd_exp: GtExp = hsbm_v3.exps[\"sigmoid_5K_6TF_hsbm\"]\n",
    "\n",
    "std_com_df, _ = std_exp.hsbm_get_gt_df()\n",
    "rwd_com_df, _ = rwd_exp.hsbm_get_gt_df()\n",
    "std_nodes_df: pd.DataFrame = gh.add_stats_to(nodes_df=std_exp.nodes_df, tpm_df=std_exp.tpm_df)\n",
    "rwd_nodes_df: pd.DataFrame = gh.add_stats_to(nodes_df=rwd_exp.nodes_df, tpm_df=rwd_exp.tpm_df)"
   ]
  },
  {
   "cell_type": "markdown",
   "metadata": {},
   "source": [
    "# Analysis"
   ]
  },
  {
   "cell_type": "markdown",
   "metadata": {},
   "source": [
    "## Network metrics\n",
    "\n"
   ]
  },
  {
   "cell_type": "code",
   "execution_count": null,
   "metadata": {},
   "outputs": [],
   "source": [
    "comp_std_net: NetworkComp = NetworkComp(hsbm_v3, 5, \"standard_5K_6TF_hsbm\", \"sigmoid_5K_6TF_hsbm\", mod_type=\"sbm\")\n",
    "\n",
    "fig, graph_stats_std, graph_stats_rwd = comp_std_net.plot_network_stats(nodes_df_1=std_nodes_df, nodes_df_2=rwd_nodes_df, label_1=\"Standard\", label_2=\"Reward\")\n",
    "\n",
    "comb_df = pd.concat([rwd_nodes_df, std_nodes_df.rename(columns={\"IVI\": \"IVI_std\"})], axis=1).sort_values(by=[\"IVI\", \"IVI_std\"], ascending=False)[\n",
    "    [\"IVI\", \"IVI_std\"]\n",
    "]"
   ]
  },
  {
   "cell_type": "code",
   "execution_count": 14,
   "metadata": {},
   "outputs": [],
   "source": [
    "std_nt: GtExp = hsbm_v3.exps[\"standard_5K_6TF_hsbm\"]\n",
    "rwrd_nt: GtExp = hsbm_v3.exps[\"sigmoid_5K_6TF_hsbm\"]\n",
    "std_sts = std_nt.compute_graph_stats()\n",
    "rwrd_sts = rwrd_nt.compute_graph_stats()\n",
    "\n",
    "std_sts[\"IVI\"] = std_nt.nodes_df[\"IVI\"]\n",
    "rwrd_sts[\"IVI\"] = rwrd_nt.nodes_df[\"IVI\"]\n",
    "\n",
    "std_sts[\"Type\"] = \"Non-Tum Std\"\n",
    "rwrd_sts[\"Type\"] = \"Non-Tum Rwd\"\n",
    "\n",
    "combined_df = pd.concat([std_sts, rwrd_sts], axis=0).reset_index(names=\"gene\")\n",
    "\n",
    "combined_df[\"TF\"] = combined_df[\"gene\"].apply(lambda gene: std_nt.nodes_df.loc[gene][\"TF\"])\n",
    "combined_df[\"TF\"].fillna(0, inplace=True)\n",
    "combined_df[\"TF\"] = combined_df[\"TF\"].astype(str)\n",
    "combined_df[\"degree\"] = combined_df[\"degree_w\"]\n",
    "combined_df[\"betwenees\"] = combined_df[\"betweenness\"]\n",
    "\n",
    "# tum nodes df\n",
    "tum_nodes_std = tum.exps[\"standard_5K_6TF\"].nodes_df\n",
    "tum_nodes_rwd = tum.exps[\"norm3_5K_6TF\"].nodes_df\n",
    "\n",
    "tum_nodes_std[\"Type\"] = \"Tum Std\"\n",
    "tum_nodes_rwd[\"Type\"] = \"Tum Rwd\"\n",
    "\n",
    "cols = [\"degree\", \"pageRank\", \"closeness\", \"betwenees\", \"IVI\", \"Type\"]\n",
    "combined_df = pd.concat([tum_nodes_std[cols], tum_nodes_rwd[cols], combined_df], axis=0)"
   ]
  },
  {
   "cell_type": "code",
   "execution_count": 22,
   "metadata": {},
   "outputs": [],
   "source": [
    "fig = gh.plot_net_metrics(combined_df, log_y=True, label=\"Tumour vs Non-tumnour\", color=\"Type\", filename=\"network_comparison\", figs_path=figures_path)\n"
   ]
  },
  {
   "cell_type": "markdown",
   "metadata": {},
   "source": [
    "## Level membership"
   ]
  },
  {
   "cell_type": "code",
   "execution_count": 9,
   "metadata": {},
   "outputs": [],
   "source": [
    "if 0:\n",
    "    fig = sel_gt.hsbm_plot_posterior()\n",
    "    fig.show()"
   ]
  }
 ],
 "metadata": {
  "kernelspec": {
   "display_name": "iNet_gt",
   "language": "python",
   "name": "python3"
  },
  "language_info": {
   "codemirror_mode": {
    "name": "ipython",
    "version": 3
   },
   "file_extension": ".py",
   "mimetype": "text/x-python",
   "name": "python",
   "nbconvert_exporter": "python",
   "pygments_lexer": "ipython3",
   "version": "3.11.8"
  }
 },
 "nbformat": 4,
 "nbformat_minor": 2
}
