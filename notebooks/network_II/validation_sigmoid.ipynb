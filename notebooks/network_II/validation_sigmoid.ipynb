{
 "cells": [
  {
   "cell_type": "markdown",
   "metadata": {},
   "source": [
    "# Motivation\n",
    "\n",
    "This NB focuses on analysing the effects of the sigmoid function over the norm3 weight modifier functions. \n",
    "\n",
    "There are two different sets of experiments, one generated from the non-tumour dataset the other from the tumour dataset. For each 3 networks were generated: standard, norm3 and sigmoid"
   ]
  },
  {
   "cell_type": "code",
   "execution_count": null,
   "metadata": {},
   "outputs": [],
   "source": [
    "%load_ext autoreload\n",
    "import pandas as pd\n",
    "import numpy as np\n",
    "import os\n",
    "import sys\n",
    "import igraph as ig\n",
    "import pickle\n",
    "\n",
    "import plotly.express as px\n",
    "from plotly.subplots import make_subplots\n",
    "import plotly.graph_objects as go\n",
    "import plotly.io as pio\n",
    "\n",
    "import multiprocess as mp\n",
    "\n",
    "SCRIPT_DIR = os.path.dirname(os.path.abspath(\"pcgna_processing.py\"))\n",
    "sys.path.append(os.path.dirname(SCRIPT_DIR))\n",
    "sys.path.append('/Users/vlad/Documents/Code/York/iNet_v2/src/')\n",
    "\n",
    "from NetworkAnalysis.ExperimentSet import ExperimentSet\n",
    "from NetworkAnalysis.NetworkOutput import NetworkOutput\n",
    "from NetworkAnalysis import GraphHelper as gh\n",
    "from NetworkAnalysis.utilities import sankey_consensus_plot as sky\n",
    "from NetworkAnalysis.utilities.helpers import save_fig\n",
    "from NetworkAnalysis.utilities.helpers import save_fig, survival_plot, survival_comp\n",
    "from NetworkAnalysis.GraphToolExp import GraphToolExperiment as GtExp\n",
    "import NetworkAnalysis.utilities.clustering as cs\n",
    "from NetworkAnalysis.NetworkComp import NetworkComp\n",
    "\n",
    "# Gsea libraries\n",
    "import gseapy as gp\n",
    "import matplotlib.pyplot as plt\n",
    "\n",
    "import graph_tool.all as gt\n",
    "\n",
    "# %matplotlib inline\n",
    "\n",
    "pio.templates.default = \"ggplot2\"\n",
    "\n",
    "\n",
    "pool = mp.Pool(mp.cpu_count())"
   ]
  },
  {
   "cell_type": "code",
   "execution_count": null,
   "metadata": {},
   "outputs": [],
   "source": [
    "results_path = \"../../results/exp/\"\n",
    "data_base = \"../../data/\"\n",
    "base_path = \"../../results/network_II\"\n",
    "\n",
    "figures_path = \"../network_ii/validation/\"\n",
    "\n",
    "# Exps path\n",
    "base_sbm_path = \"../../../iNet_v2/\"\n",
    "t_exps = \"modifiers_v3_t/\"\n",
    "h_exps = \"modifiers_v3_h/\"\n",
    "\n",
    "vu_output = pd.read_csv(f\"{data_base}/metadata/VU_clustering_v3.tsv\", sep=\"\\t\", index_col=\"Sample\")\n",
    "\n",
    "tcga_mutations_df = pd.read_csv(f\"{data_base}/tumour/mutations_tcga.csv\")\n",
    "tcga_mutations_df = tcga_mutations_df[tcga_mutations_df[\"count\"] != 0].set_index(\"gene\")\n",
    "\n",
    "all_tum_tpms = pd.read_csv(f\"{data_base}/tumour/tum_TPMs_selected_genes_gc42_all_v4.tsv\", sep=\"\\t\", index_col=\"genes\")\n",
    "\n",
    "\n",
    "healthy_metadata = pd.read_csv(f\"{data_base}/metadata/healthy_bladder_metadata.tsv\", sep=\"\\t\", index_col=\"Sample\", dtype_backend=\"pyarrow\")\n",
    "\n",
    "# tf list\n",
    "tf_path = f\"{data_base}/metadata/TF_names_v_1.01.txt\"\n",
    "if os.path.exists(tf_path):\n",
    "    tf_list = np.genfromtxt(fname=tf_path, delimiter=\"\\t\", skip_header=1, dtype=\"str\")"
   ]
  },
  {
   "cell_type": "markdown",
   "metadata": {},
   "source": [
    "# Load experiments"
   ]
  },
  {
   "cell_type": "code",
   "execution_count": null,
   "metadata": {},
   "outputs": [],
   "source": [
    "tum = ExperimentSet(\"tum\", base_path, t_exps, tcga_mutations_df, sel_sets = [\"5K\"], rel_path=\"../\", exp_type='iNet')\n",
    "\n",
    "%autoreload 2\n",
    "\n",
    "exps = {}\n",
    "for idx, exp in enumerate(tum.get_exps()):\n",
    "    print(f\"Loading Graph-Tool for {exp.type}\")\n",
    "    exp = GtExp.from_pgcna_inet(exp, rel_path=\"\")\n",
    "\n",
    "    # partitions from hSBM\n",
    "    exp.hsbm_add_vp(mut_df=tcga_mutations_df)\n",
    "    com_df, _ = exp.hsbm_get_gt_df()\n",
    "\n",
    "    # export to gephi\n",
    "    exp.export_to_gephi(save=False, com_df=com_df)\n",
    "\n",
    "    # Need it for comparison\n",
    "    exps[exp.type] = exp\n",
    "\n",
    "tum.exps = exps"
   ]
  },
  {
   "cell_type": "code",
   "execution_count": null,
   "metadata": {},
   "outputs": [],
   "source": [
    "healthy = ExperimentSet(\"h\", base_path, h_exps, tcga_mutations_df, sel_sets = [\"5K\"], rel_path=\"../\", exp_type='iNet')\n",
    "\n",
    "%autoreload 2\n",
    "\n",
    "exps = {}\n",
    "for idx, exp in enumerate(healthy.get_exps()):\n",
    "    print(f\"Loading Graph-Tool for {exp.type}\")\n",
    "    exp = GtExp.from_pgcna_inet(exp, rel_path=\"\")\n",
    "\n",
    "    # partitions from hSBM\n",
    "    exp.hsbm_add_vp(mut_df=tcga_mutations_df)\n",
    "    com_df, _ = exp.hsbm_get_gt_df()\n",
    "\n",
    "    # export to gephi\n",
    "    exp.export_to_gephi(save=False, com_df=com_df)\n",
    "\n",
    "    # Need it for comparison\n",
    "    exps[exp.type] = exp\n",
    "\n",
    "healthy.exps = exps"
   ]
  },
  {
   "cell_type": "code",
   "execution_count": null,
   "metadata": {},
   "outputs": [],
   "source": [
    "for exp in healthy.get_exps():\n",
    "    com_df, _ = exp.hsbm_get_gt_df()\n",
    "    exp.com_df = com_df\n",
    "    exp.get_ModCon(com_df=com_df)\n",
    "\n",
    "for exp in tum.get_exps():\n",
    "    com_df, _ = exp.hsbm_get_gt_df()\n",
    "    exp.com_df = com_df\n",
    "    exp.get_ModCon(com_df=com_df)"
   ]
  },
  {
   "cell_type": "markdown",
   "metadata": {},
   "source": [
    "# Analysis"
   ]
  },
  {
   "cell_type": "code",
   "execution_count": null,
   "metadata": {},
   "outputs": [],
   "source": [
    "def get_sel_genes(exp_set: ExperimentSet, tum_tpms: pd.DataFrame, mut_df: pd.DataFrame, tf_list: list):\n",
    "    all_df = []\n",
    "    num_genes = 100\n",
    "    for exp in exp_set.get_exps():\n",
    "        sort_col = \"ModCon_{}_gt\".format(exp.type)\n",
    "        mevsMut, info = exp.get_iMevs(h_tpms=exp.tpm_df, tum_tpms=tum_tpms, modCon=exp.gt_modCon, sort_col=sort_col, num_genes=num_genes, verbose=True)\n",
    "\n",
    "        # Export to gephi to add ModConRank\n",
    "        exp.export_to_gephi(save=False, com_df=exp.com_df)\n",
    "\n",
    "        dmy_df = pd.DataFrame()\n",
    "        modifier = exp.type.split(\"_\")[0]\n",
    "        for com, val in info.items():\n",
    "            dmy = pd.DataFrame(index=val[\"modCon_genes\"], columns=[\"modifier\"])\n",
    "            # dmy[\"com\"] = com\n",
    "            dmy_df = pd.concat([dmy_df, dmy], axis=0)\n",
    "\n",
    "        dmy_df[\"modifier\"] = modifier\n",
    "        all_df.append(dmy_df)\n",
    "\n",
    "    all_df = pd.concat(all_df, axis=0)\n",
    "\n",
    "    all_df[\"mut_count\"] = mut_df[\"count\"]\n",
    "    all_df.loc[all_df.index.isin(tf_list), \"TF\"] = 1\n",
    "    all_df.fillna(0, inplace=True)\n",
    "    all_df = all_df.reset_index(names=\"gene\")\n",
    "\n",
    "    return all_df\n",
    "\n",
    "\n",
    "df_h = get_sel_genes(exp_set=healthy, tum_tpms=all_tum_tpms, mut_df=tcga_mutations_df, tf_list=tf_list)\n",
    "df_t = get_sel_genes(exp_set=tum, tum_tpms=all_tum_tpms, mut_df=tcga_mutations_df, tf_list=tf_list)"
   ]
  },
  {
   "cell_type": "code",
   "execution_count": null,
   "metadata": {},
   "outputs": [],
   "source": [
    "if 0:\n",
    "    tst_df = df_h[df_h[\"mut_count\"] > 0]\n",
    "    fig = px.violin(\n",
    "        tst_df, y=\"mut_count\", x=\"modifier\", color=\"modifier\", log_y=False, points=\"all\", hover_data=[\"gene\"], title=\"Mut Count - Non-tum\", box=True, height=700\n",
    "    )\n",
    "    display(fig)\n",
    "    fig = px.histogram(tst_df, x=\"mut_count\", color=\"modifier\", log_y=True, title=\"Mut Count - Non-tum\")\n",
    "    fig.show()"
   ]
  },
  {
   "cell_type": "code",
   "execution_count": null,
   "metadata": {},
   "outputs": [],
   "source": [
    "if 0:\n",
    "    tst_df = df_t[df_t[\"mut_count\"] > 0]\n",
    "    fig = px.violin(\n",
    "        tst_df, y=\"mut_count\", x=\"modifier\", color=\"modifier\", log_y=False, points=\"all\", hover_data=[\"gene\"], title=\"Mut Count - Tum\", box=True, height=700\n",
    "    )\n",
    "    display(fig)\n",
    "    fig = px.histogram(tst_df, x=\"mut_count\", color=\"modifier\", log_y=True, title=\"Mut count - Tum\")\n",
    "    fig.show()"
   ]
  },
  {
   "cell_type": "markdown",
   "metadata": {},
   "source": [
    "## ModCon Rank"
   ]
  },
  {
   "cell_type": "code",
   "execution_count": null,
   "metadata": {},
   "outputs": [],
   "source": [
    "def get_modConRank(exp_set: ExperimentSet, mut_df: pd.DataFrame, tf_list: list):\n",
    "    all_df = []\n",
    "    for exp in exp_set.get_exps():\n",
    "        sort_col = f\"ModCon_{exp.type}_gt\"\n",
    "        modifier = exp.type.split(\"_\")[0]\n",
    "\n",
    "        dmy_df = pd.DataFrame()\n",
    "        for com, val in exp.gt_modCon.items():\n",
    "            tst = pd.DataFrame(val[sort_col].rank(ascending=False))\n",
    "            tst[\"norm\"] = (tst - tst.min()) / (tst.max() - tst.min())\n",
    "\n",
    "            dmy_df = pd.concat([dmy_df, tst], axis=0)\n",
    "            # Not sure why it didn't work to concatenate in the above line\n",
    "            dmy_df.loc[dmy_df.index.isin(val.index), \"ModCon\"] = val[sort_col]\n",
    "\n",
    "        dmy_df.rename(columns={sort_col: \"ModCon_Rank\"}, inplace=True)\n",
    "\n",
    "        dmy_df[\"type\"] = modifier\n",
    "        all_df.append(dmy_df)\n",
    "\n",
    "    all_df = pd.concat(all_df, axis=0)\n",
    "\n",
    "    all_df[\"mut_count\"] = mut_df[\"count\"]\n",
    "    all_df.loc[all_df.index.isin(tf_list), \"TF\"] = 1\n",
    "    all_df.fillna(0, inplace=True)\n",
    "    all_df = all_df.reset_index(names=\"gene\")\n",
    "\n",
    "    all_df[\"type\"] = all_df[\"type\"].replace({\"sigmoid\": \"Reward v2\", \"norm3\": \"Reward v1\", \"standard\": \"Standard\"})\n",
    "\n",
    "    return all_df\n",
    "\n",
    "\n",
    "df_rank_h = get_modConRank(exp_set=healthy, mut_df=tcga_mutations_df, tf_list=tf_list)\n",
    "df_rank_t = get_modConRank(exp_set=tum, mut_df=tcga_mutations_df, tf_list=tf_list)"
   ]
  },
  {
   "cell_type": "code",
   "execution_count": null,
   "metadata": {},
   "outputs": [],
   "source": [
    "tst = df_rank_t.copy(deep=True)\n",
    "tst = tst[tst[\"ModCon_Rank\"] <= 100]\n",
    "colors = px.colors.qualitative.D3\n",
    "color_map = {\"Standard\": colors[0], \"Reward v1\": colors[1], \"Reward v2\": colors[2]}\n",
    "tst.sort_values(by=\"mut_count\", inplace=True)\n",
    "fig = px.histogram(\n",
    "    tst,\n",
    "    y=\"mut_count\",\n",
    "    x=\"ModCon_Rank\",\n",
    "    color=\"type\",\n",
    "    facet_col=\"type\",\n",
    "    title=\"Non-tum networks - ModCon Rank (norm) vs mutation count\",\n",
    "    color_discrete_map=color_map,\n",
    "    category_orders={\"type\": color_map.keys()},\n",
    ")\n",
    "fig = fig.update_layout(\n",
    "    title=\"\",\n",
    "    xaxis=dict(tickfont=dict(size=24), title=\"ModCon Rank normalised\"),\n",
    "    yaxis=dict(tickfont=dict(size=24), title=\"Sum of mutation burden\"),\n",
    "    font=dict(size=20),\n",
    "    showlegend=False,\n",
    "    height=700,\n",
    ")\n",
    "fig.update_annotations(font_size=22)\n",
    "fig.for_each_xaxis(lambda x: x.update({\"title\": \"\"}))\n",
    "fig.show()\n",
    "fig.add_annotation(showarrow=False, xanchor=\"center\", xref=\"paper\", x=0.5, yref=\"paper\", y=-0.16, text=\"ModCon Rank normalised\", font_size=20)\n",
    "save_fig(name=\"tum_modCon_hist_3\", fig=fig, base_path=figures_path, width=1500, height=500, margin=0.04)"
   ]
  },
  {
   "cell_type": "code",
   "execution_count": null,
   "metadata": {},
   "outputs": [],
   "source": [
    "stats_net = []\n",
    "for net_type in [\"Standard\", \"Reward v1\", \"Reward v2\"]:\n",
    "    print(net_type)\n",
    "    dmy = tst[tst[\"type\"] == net_type]\n",
    "    dmy = dmy.sort_values(by=\"ModCon\", ascending=False)[:100]\n",
    "    # brea\n",
    "    dmy = dmy[\"mut_count\"]\n",
    "    stats_net.append([net_type, dmy.mean(), dmy.median(), dmy.std(), dmy.var(), dmy.max(), dmy.min(), dmy.shape[0]])\n",
    "\n",
    "stats_net = pd.DataFrame(stats_net, columns=[\"type\", \"mean\", \"median\", \"std\", \"var\", \"max\", \"min\", \"total\"]).round(3)\n",
    "stats_net"
   ]
  },
  {
   "cell_type": "markdown",
   "metadata": {},
   "source": [
    "## Size imbalance and gene selection"
   ]
  },
  {
   "cell_type": "code",
   "execution_count": null,
   "metadata": {},
   "outputs": [],
   "source": [
    "rwd_exp_1: GtExp = healthy.exps[\"norm3_5K_6TF_hsbm\"]\n",
    "rwd_exp_2: GtExp = healthy.exps[\"sigmoid_5K_6TF_hsbm\"]\n",
    "std_exp: GtExp = healthy.exps[\"standard_5K_6TF_hsbm\"]\n",
    "\n",
    "num_genes, sort_col = 100, f\"ModCon_{std_exp.type}_gt\"\n",
    "mevs_std, info_std = std_exp.get_iMevs(\n",
    "    h_tpms=std_exp.tpm_df, tum_tpms=all_tum_tpms, modCon=std_exp.gt_modCon, sort_col=sort_col, num_genes=num_genes, verbose=True\n",
    ")\n",
    "\n",
    "num_genes, sort_col = 100, f\"ModCon_{rwd_exp_1.type}_gt\"\n",
    "mevs_rwd_1, info_rwd_1 = rwd_exp_1.get_iMevs(\n",
    "    h_tpms=rwd_exp_1.tpm_df, tum_tpms=all_tum_tpms, modCon=rwd_exp_1.gt_modCon, sort_col=sort_col, num_genes=num_genes, verbose=True\n",
    ")\n",
    "\n",
    "num_genes, sort_col = 100, f\"ModCon_{rwd_exp_2.type}_gt\"\n",
    "mevs_rwd_2, info_rwd_2 = rwd_exp_2.get_iMevs(\n",
    "    h_tpms=rwd_exp_2.tpm_df, tum_tpms=all_tum_tpms, modCon=rwd_exp_2.gt_modCon, sort_col=sort_col, num_genes=num_genes, verbose=True\n",
    ")\n",
    "\n",
    "genes_included = []\n",
    "for info in [info_std, info_rwd_1, info_rwd_2]:\n",
    "    total_genes = 0\n",
    "    for com, val in info.items():\n",
    "        total_genes += len(val[\"modCon_genes\"])\n",
    "    genes_included.append(total_genes)\n",
    "\n",
    "\n",
    "genes_included_h = pd.DataFrame(genes_included, columns=[\"Total\"], index=[\"Standard\", \"Reward v1\", \"Reward v2\"])\n",
    "genes_included_h[\"Type\"] = \"Non tumour\""
   ]
  },
  {
   "cell_type": "code",
   "execution_count": null,
   "metadata": {},
   "outputs": [],
   "source": [
    "rwd_exp_1: GtExp = tum.exps[\"norm3_5K_6TF_hsbm\"]\n",
    "rwd_exp_2: GtExp = tum.exps[\"sigmoid_5K_6TF_hsbm\"]\n",
    "std_exp: GtExp = tum.exps[\"standard_5K_6TF_hsbm\"]\n",
    "\n",
    "num_genes, sort_col = 100, f\"ModCon_{std_exp.type}_gt\"\n",
    "mevs_std, info_std = std_exp.get_iMevs(\n",
    "    h_tpms=std_exp.tpm_df, tum_tpms=all_tum_tpms, modCon=std_exp.gt_modCon, sort_col=sort_col, num_genes=num_genes, verbose=True\n",
    ")\n",
    "\n",
    "num_genes, sort_col = 100, f\"ModCon_{rwd_exp_1.type}_gt\"\n",
    "mevs_rwd_1, info_rwd_1 = rwd_exp_1.get_iMevs(\n",
    "    h_tpms=rwd_exp_1.tpm_df, tum_tpms=all_tum_tpms, modCon=rwd_exp_1.gt_modCon, sort_col=sort_col, num_genes=num_genes, verbose=True\n",
    ")\n",
    "\n",
    "num_genes, sort_col = 100, f\"ModCon_{rwd_exp_2.type}_gt\"\n",
    "mevs_rwd_2, info_rwd_2 = rwd_exp_2.get_iMevs(\n",
    "    h_tpms=rwd_exp_2.tpm_df, tum_tpms=all_tum_tpms, modCon=rwd_exp_2.gt_modCon, sort_col=sort_col, num_genes=num_genes, verbose=True\n",
    ")\n",
    "\n",
    "genes_included = []\n",
    "for info in [info_std, info_rwd_1, info_rwd_2]:\n",
    "    total_genes = 0\n",
    "    for com, val in info.items():\n",
    "        total_genes += len(val[\"modCon_genes\"])\n",
    "    genes_included.append(total_genes)\n",
    "\n",
    "\n",
    "genes_included_t = pd.DataFrame(genes_included, columns=[\"Total\"], index=[\"Standard\", \"Reward v1\", \"Reward v2\"])\n",
    "genes_included_t[\"Type\"] = \"Tumour\""
   ]
  },
  {
   "cell_type": "code",
   "execution_count": null,
   "metadata": {},
   "outputs": [],
   "source": [
    "pd.concat([genes_included_t, genes_included_h])"
   ]
  },
  {
   "cell_type": "markdown",
   "metadata": {},
   "source": [
    "# Validate\n",
    "\n",
    "This is used to see if the network metrics that have similar distributions with previous"
   ]
  },
  {
   "cell_type": "code",
   "execution_count": null,
   "metadata": {},
   "outputs": [],
   "source": [
    "rwd_exp_1: GtExp = healthy.exps[\"norm3_5K_6TF_hsbm\"]\n",
    "rwd_exp_2: GtExp = healthy.exps[\"sigmoid_5K_6TF_hsbm\"]\n",
    "std_exp: GtExp = healthy.exps[\"standard_5K_6TF_hsbm\"]\n",
    "\n",
    "std_com_df, _ = std_exp.hsbm_get_gt_df()\n",
    "rwd_1_com_df, _ = rwd_exp_1.hsbm_get_gt_df()\n",
    "rwd_2_com_df, _ = rwd_exp_2.hsbm_get_gt_df()\n",
    "\n",
    "# Nodes df\n",
    "std_nodes_df: pd.DataFrame = gh.add_stats_to(nodes_df=std_exp.nodes_df, tpm_df=std_exp.tpm_df)\n",
    "rwd_1_nodes_df: pd.DataFrame = gh.add_stats_to(nodes_df=rwd_exp_1.nodes_df, tpm_df=rwd_exp_1.tpm_df)\n",
    "rwd_2_nodes_df: pd.DataFrame = gh.add_stats_to(nodes_df=rwd_exp_2.nodes_df, tpm_df=rwd_exp_2.tpm_df)\n",
    "\n"
   ]
  },
  {
   "cell_type": "code",
   "execution_count": null,
   "metadata": {},
   "outputs": [],
   "source": [
    "if 1:\n",
    "    comp_std_net: NetworkComp = NetworkComp(healthy, 5, \"norm3_5K_6TF_hsbm\", \"sigmoid_5K_6TF_hsbm\", mod_type=\"sbm\")\n",
    "\n",
    "    fig, graph_stats_std, graph_stats_rwd = comp_std_net.plot_network_stats(\n",
    "        nodes_df_1=rwd_1_nodes_df, nodes_df_2=rwd_2_nodes_df, label_1=\"Reward 1\", label_2=\"Reward 2\"\n",
    "    )"
   ]
  },
  {
   "cell_type": "code",
   "execution_count": null,
   "metadata": {},
   "outputs": [],
   "source": [
    "if 1:\n",
    "    comp_std_net: NetworkComp = NetworkComp(healthy, 5, \"standard_5K_6TF_hsbm\", \"norm3_5K_6TF_hsbm\", mod_type=\"sbm\")\n",
    "\n",
    "    fig, graph_stats_std, graph_stats_rwd = comp_std_net.plot_network_stats(\n",
    "        nodes_df_1=std_nodes_df, nodes_df_2=rwd_1_nodes_df, label_1=\"Standard\", label_2=\"Reward 1\"\n",
    "    )"
   ]
  },
  {
   "cell_type": "code",
   "execution_count": null,
   "metadata": {},
   "outputs": [],
   "source": [
    "if 1:\n",
    "    comp_std_net: NetworkComp = NetworkComp(healthy, 5, \"standard_5K_6TF_hsbm\", \"sigmoid_5K_6TF_hsbm\", mod_type=\"sbm\")\n",
    "\n",
    "    fig, graph_stats_std, graph_stats_rwd = comp_std_net.plot_network_stats(\n",
    "        nodes_df_1=std_nodes_df, nodes_df_2=rwd_2_nodes_df, label_1=\"Standard\", label_2=\"Reward 2\"\n",
    "    )"
   ]
  }
 ],
 "metadata": {
  "kernelspec": {
   "display_name": "iNet_gt",
   "language": "python",
   "name": "python3"
  },
  "language_info": {
   "codemirror_mode": {
    "name": "ipython",
    "version": 3
   },
   "file_extension": ".py",
   "mimetype": "text/x-python",
   "name": "python",
   "nbconvert_exporter": "python",
   "pygments_lexer": "ipython3",
   "version": "3.11.8"
  }
 },
 "nbformat": 4,
 "nbformat_minor": 2
}
