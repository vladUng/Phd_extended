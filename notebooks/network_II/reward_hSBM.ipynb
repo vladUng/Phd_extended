{
 "cells": [
  {
   "cell_type": "markdown",
   "metadata": {},
   "source": [
    "# Motivation\n",
    "\n",
    "In this Notebook, the stratification derived using the reward network is explored. The reward network is generated from the non-tumour dataset, using 5K genes, 3 edges per gene and 6 per TF. "
   ]
  },
  {
   "cell_type": "code",
   "execution_count": 1,
   "metadata": {},
   "outputs": [
    {
     "name": "stdout",
     "output_type": "stream",
     "text": [
      "The autoreload extension is already loaded. To reload it, use:\n",
      "  %reload_ext autoreload\n"
     ]
    }
   ],
   "source": [
    "%load_ext autoreload\n",
    "import pandas as pd\n",
    "import numpy as np\n",
    "import os\n",
    "import sys\n",
    "import igraph as ig\n",
    "import pickle\n",
    "\n",
    "import plotly.express as px\n",
    "from plotly.subplots import make_subplots\n",
    "import plotly.graph_objects as go\n",
    "import plotly.io as pio\n",
    "\n",
    "import multiprocess as mp\n",
    "\n",
    "SCRIPT_DIR = os.path.dirname(os.path.abspath(\"pcgna_processing.py\"))\n",
    "sys.path.append(os.path.dirname(SCRIPT_DIR))\n",
    "sys.path.append('/Users/vlad/Documents/Code/York/iNet_v2/src/')\n",
    "\n",
    "from NetworkAnalysis.ExperimentSet import ExperimentSet\n",
    "from NetworkAnalysis.NetworkOutput import NetworkOutput\n",
    "from NetworkAnalysis import GraphHelper as gh\n",
    "from NetworkAnalysis.utilities import sankey_consensus_plot as sky\n",
    "from NetworkAnalysis.utilities.helpers import save_fig\n",
    "from NetworkAnalysis.utilities.helpers import save_fig, survival_plot, survival_comp\n",
    "from NetworkAnalysis.GraphToolExp import GraphToolExperiment as GtExp\n",
    "import NetworkAnalysis.utilities.clustering as cs\n",
    "\n",
    "from NetworkAnalysis.dea import dea\n",
    "from NetworkAnalysis.dea import helpers as dea_hp\n",
    "from NetworkAnalysis.dea import gsea as gsea_hp\n",
    "\n",
    "# Gsea libraries\n",
    "import gseapy as gp\n",
    "import matplotlib.pyplot as plt\n",
    "\n",
    "import graph_tool.all as gt\n",
    "\n",
    "# %matplotlib inline\n",
    "\n",
    "pio.templates.default = \"ggplot2\"\n",
    "\n",
    "\n",
    "pool = mp.Pool(mp.cpu_count())"
   ]
  },
  {
   "cell_type": "code",
   "execution_count": 9,
   "metadata": {},
   "outputs": [],
   "source": [
    "results_path = \"../../results/exp/\"\n",
    "data_base = \"../../data/\"\n",
    "base_path = \"../../results/network_II/\"\n",
    "\n",
    "figures_path = \"../network_II/reward/\"\n",
    "\n",
    "# base_sbm_path = \"../../../iNet_v2/\"\n",
    "sbm_exps_path = \"sbm/\"\n",
    "\n",
    "vu_output = pd.read_csv(f\"{data_base}/metadata/VU_clustering_v3.tsv\", sep=\"\\t\", index_col=\"Sample\")\n",
    "\n",
    "tcga_mutations_df = pd.read_csv(f\"{data_base}/tumour/mutations_tcga.csv\")\n",
    "tcga_mutations_df = tcga_mutations_df[tcga_mutations_df[\"count\"] != 0].set_index(\"gene\")\n",
    "\n",
    "all_tum_tpms = pd.read_csv(f\"{data_base}/tumour/tum_TPMs_selected_genes_gc42_all_v4.tsv\", sep=\"\\t\", index_col=\"genes\")\n",
    "\n",
    "\n",
    "healthy_metadata = pd.read_csv(f\"{data_base}/metadata/healthy_bladder_metadata.tsv\", sep=\"\\t\", index_col=\"Sample\", dtype_backend=\"pyarrow\")\n",
    "\n",
    "# tf list\n",
    "tf_path = f\"{data_base}/metadata/TF_names_v_1.01.txt\"\n",
    "if os.path.exists(tf_path):\n",
    "    tf_list = np.genfromtxt(fname=tf_path, delimiter=\"\\t\", skip_header=1, dtype=\"str\")"
   ]
  },
  {
   "cell_type": "markdown",
   "metadata": {},
   "source": [
    "# Load experiments"
   ]
  },
  {
   "cell_type": "code",
   "execution_count": 10,
   "metadata": {},
   "outputs": [
    {
     "name": "stdout",
     "output_type": "stream",
     "text": [
      "##### Experiment labels:  dict_keys(['standard_5K_6TF_sbm', 'standard_5K_6TF_hsbm', 'sigmoid_5K_6TF_hsbm'])\n",
      "Loading Graph-Tool for standard_5K_6TF_hsbm\n",
      "Loading Graph-Tool for sigmoid_5K_6TF_hsbm\n"
     ]
    }
   ],
   "source": [
    "hsbm_v3 = ExperimentSet(\"v3\", base_path=base_path, exp_path=sbm_exps_path, mut_df=tcga_mutations_df, sel_sets=None, exp_type=\"iNet\")\n",
    "\n",
    "exps = {}\n",
    "for idx, exp in enumerate(hsbm_v3.get_exps()):\n",
    "    if exp.sbm_method != \"hsbm\":  # or idx != 2:\n",
    "        continue\n",
    "\n",
    "    print(f\"Loading Graph-Tool for {exp.type}\")\n",
    "    exps[exp.type] = GtExp.from_pgcna_inet(exp, rel_path=\"\")\n",
    "    exps[exp.type].export_to_gephi(save=False)\n",
    "\n",
    "hsbm_v3.exps = exps"
   ]
  },
  {
   "cell_type": "code",
   "execution_count": 13,
   "metadata": {},
   "outputs": [],
   "source": [
    "%autoreload 2\n",
    "sel_gt: GtExp = hsbm_v3.exps[\"sigmoid_5K_6TF_hsbm\"]\n",
    "gt_state: gt.NestedBlockState = sel_gt.hstateObj[\"state\"]\n",
    "\n",
    "sel_gt.hsbm_add_vp(mut_df=tcga_mutations_df)\n",
    "\n",
    "gt_g = sel_gt.gt_g\n",
    "pv = sel_gt.hstateObj[\"pv\"]\n",
    "pmode = sel_gt.hstateObj[\"pmode\"]\n",
    "\n",
    "com_df, _ = sel_gt.hsbm_get_gt_df()\n",
    "com_df[\"max_b\"] = com_df[\"P_lvl_0\"]\n",
    "\n",
    "gt.remove_self_loops(gt_g)\n",
    "\n",
    "######## ModCon and MEVS ########\n",
    "sel_gt.gt_modCon_MEV(all_tpms=sel_gt.tpm_df)\n",
    "\n",
    "# Compute and store the nodes/edges with all the information\n",
    "sel_gt.export_to_gephi(save=False, com_df = com_df)\n",
    "sel_gt.add_gt_prop_draw(gt_g, com_df=com_df, tf_list=tf_list)\n",
    "graph_stats = sel_gt.compute_graph_stats()\n",
    "\n",
    "nodes_df: pd.DataFrame = gh.add_stats_to(nodes_df=sel_gt.nodes_df, tpm_df=sel_gt.tpm_df)"
   ]
  },
  {
   "cell_type": "code",
   "execution_count": null,
   "metadata": {},
   "outputs": [],
   "source": [
    "if 0:\n",
    "    nodes_df[[\"max_b\", \"ModCon_Rank\", \"mean\", \"median\", \"std\", \"var\", \"count\", \"ctrl_tf\"]].to_csv(figures_path + \"nodes_df_hsbm.tsv\", sep=\"\\t\")\n",
    "    # sel_gt.export_to_gephi(save=True, com_df=com_df[[\"max_b\", \"node_idx\"]])"
   ]
  },
  {
   "cell_type": "markdown",
   "metadata": {},
   "source": [
    "# Analysis"
   ]
  },
  {
   "cell_type": "markdown",
   "metadata": {},
   "source": [
    "## Most connected genes"
   ]
  },
  {
   "cell_type": "code",
   "execution_count": 14,
   "metadata": {},
   "outputs": [
    {
     "data": {
      "application/vnd.plotly.v1+json": {
       "config": {
        "plotlyServerURL": "https://plot.ly"
       },
       "data": [
        {
         "alignmentgroup": "True",
         "hovertemplate": "max_b=1<br>gene=%{x}<br>degree_t=%{y}<extra></extra>",
         "legendgroup": "1",
         "marker": {
          "color": "#F8766D",
          "pattern": {
           "shape": ""
          }
         },
         "name": "1",
         "offsetgroup": "1",
         "orientation": "v",
         "showlegend": true,
         "textposition": "auto",
         "texttemplate": "%{y}",
         "type": "bar",
         "x": [
          "ELF3",
          "CHD2",
          "KLF5",
          "ABCC5",
          "RIMS2",
          "EPHA2",
          "AKAP13",
          "TIAM1",
          "ATP8B1"
         ],
         "xaxis": "x",
         "y": [
          985,
          583,
          504,
          178,
          113,
          91,
          74,
          50,
          46
         ],
         "yaxis": "y"
        },
        {
         "alignmentgroup": "True",
         "hovertemplate": "max_b=10<br>gene=%{x}<br>degree_t=%{y}<extra></extra>",
         "legendgroup": "10",
         "marker": {
          "color": "#A3A500",
          "pattern": {
           "shape": ""
          }
         },
         "name": "10",
         "offsetgroup": "10",
         "orientation": "v",
         "showlegend": true,
         "textposition": "auto",
         "texttemplate": "%{y}",
         "type": "bar",
         "x": [
          "COL7A1",
          "MYH10",
          "FN1",
          "SACS",
          "PRKDC",
          "LAMA3",
          "SF3B3",
          "DENND5B",
          "RASAL2"
         ],
         "xaxis": "x",
         "y": [
          730,
          635,
          519,
          450,
          351,
          248,
          212,
          76,
          41
         ],
         "yaxis": "y"
        },
        {
         "alignmentgroup": "True",
         "hovertemplate": "max_b=2<br>gene=%{x}<br>degree_t=%{y}<extra></extra>",
         "legendgroup": "2",
         "marker": {
          "color": "#00BF7D",
          "pattern": {
           "shape": ""
          }
         },
         "name": "2",
         "offsetgroup": "2",
         "orientation": "v",
         "showlegend": true,
         "textposition": "auto",
         "texttemplate": "%{y}",
         "type": "bar",
         "x": [
          "AHR",
          "CREBBP",
          "NCOA1",
          "TACC2",
          "PAN2",
          "TP53BP2",
          "PCF11",
          "ITSN2",
          "ACACB",
          "DOT1L"
         ],
         "xaxis": "x",
         "y": [
          670,
          464,
          297,
          168,
          125,
          91,
          60,
          48,
          32,
          31
         ],
         "yaxis": "y"
        },
        {
         "alignmentgroup": "True",
         "hovertemplate": "max_b=28<br>gene=%{x}<br>degree_t=%{y}<extra></extra>",
         "legendgroup": "28",
         "marker": {
          "color": "#00B0F6",
          "pattern": {
           "shape": ""
          }
         },
         "name": "28",
         "offsetgroup": "28",
         "orientation": "v",
         "showlegend": true,
         "textposition": "auto",
         "texttemplate": "%{y}",
         "type": "bar",
         "x": [
          "PLXNB2",
          "DMXL2",
          "SMCHD1",
          "SCRIB",
          "PLEKHH2",
          "PTPRM",
          "RALGAPA2",
          "PPL",
          "NOTCH3",
          "PLEKHA7",
          "AFF1"
         ],
         "xaxis": "x",
         "y": [
          629,
          482,
          276,
          172,
          87,
          86,
          78,
          68,
          36,
          30,
          19
         ],
         "yaxis": "y"
        },
        {
         "alignmentgroup": "True",
         "hovertemplate": "max_b=32<br>gene=%{x}<br>degree_t=%{y}<extra></extra>",
         "legendgroup": "32",
         "marker": {
          "color": "#E76BF3",
          "pattern": {
           "shape": ""
          }
         },
         "name": "32",
         "offsetgroup": "32",
         "orientation": "v",
         "showlegend": true,
         "textposition": "auto",
         "texttemplate": "%{y}",
         "type": "bar",
         "x": [
          "RNF213",
          "HSPG2",
          "EPG5",
          "MPDZ",
          "CDKN2A",
          "SHROOM3",
          "PARP14",
          "OAS2",
          "ZNFX1"
         ],
         "xaxis": "x",
         "y": [
          600,
          558,
          252,
          251,
          186,
          112,
          112,
          29,
          23
         ],
         "yaxis": "y"
        },
        {
         "alignmentgroup": "True",
         "hovertemplate": "max_b=33<br>gene=%{x}<br>degree_t=%{y}<extra></extra>",
         "legendgroup": "33",
         "marker": {
          "color": "#F8766D",
          "pattern": {
           "shape": ""
          }
         },
         "name": "33",
         "offsetgroup": "33",
         "orientation": "v",
         "showlegend": true,
         "textposition": "auto",
         "texttemplate": "%{y}",
         "type": "bar",
         "x": [
          "TRANK1",
          "VPS13D",
          "LAMA4"
         ],
         "xaxis": "x",
         "y": [
          560,
          535,
          46
         ],
         "yaxis": "y"
        },
        {
         "alignmentgroup": "True",
         "hovertemplate": "max_b=8<br>gene=%{x}<br>degree_t=%{y}<extra></extra>",
         "legendgroup": "8",
         "marker": {
          "color": "#A3A500",
          "pattern": {
           "shape": ""
          }
         },
         "name": "8",
         "offsetgroup": "8",
         "orientation": "v",
         "showlegend": true,
         "textposition": "auto",
         "texttemplate": "%{y}",
         "type": "bar",
         "x": [
          "SPEN",
          "SMG1",
          "PCNT",
          "HIVEP2",
          "TBC1D1",
          "MXRA5",
          "HIVEP1",
          "PRDM2",
          "F8",
          "HIVEP3",
          "TRERF1"
         ],
         "xaxis": "x",
         "y": [
          400,
          195,
          134,
          83,
          54,
          51,
          45,
          39,
          37,
          24,
          21
         ],
         "yaxis": "y"
        },
        {
         "alignmentgroup": "True",
         "hovertemplate": "max_b=5<br>gene=%{x}<br>degree_t=%{y}<extra></extra>",
         "legendgroup": "5",
         "marker": {
          "color": "#00BF7D",
          "pattern": {
           "shape": ""
          }
         },
         "name": "5",
         "offsetgroup": "5",
         "orientation": "v",
         "showlegend": true,
         "textposition": "auto",
         "texttemplate": "%{y}",
         "type": "bar",
         "x": [
          "RHOB",
          "OBSCN",
          "HRAS",
          "BRD2",
          "SYNE1",
          "UTRN",
          "LRRCC1",
          "PPRC1",
          "AUTS2"
         ],
         "xaxis": "x",
         "y": [
          323,
          189,
          188,
          165,
          145,
          82,
          60,
          59,
          29
         ],
         "yaxis": "y"
        },
        {
         "alignmentgroup": "True",
         "hovertemplate": "max_b=18<br>gene=%{x}<br>degree_t=%{y}<extra></extra>",
         "legendgroup": "18",
         "marker": {
          "color": "#00B0F6",
          "pattern": {
           "shape": ""
          }
         },
         "name": "18",
         "offsetgroup": "18",
         "orientation": "v",
         "showlegend": true,
         "textposition": "auto",
         "texttemplate": "%{y}",
         "type": "bar",
         "x": [
          "FRY",
          "MYO1F",
          "CFAP70",
          "ADGRV1",
          "EFCAB5",
          "RERE",
          "PPARG",
          "SIPA1L2"
         ],
         "xaxis": "x",
         "y": [
          314,
          64,
          40,
          33,
          26,
          24,
          18,
          16
         ],
         "yaxis": "y"
        },
        {
         "alignmentgroup": "True",
         "hovertemplate": "max_b=15<br>gene=%{x}<br>degree_t=%{y}<extra></extra>",
         "legendgroup": "15",
         "marker": {
          "color": "#E76BF3",
          "pattern": {
           "shape": ""
          }
         },
         "name": "15",
         "offsetgroup": "15",
         "orientation": "v",
         "showlegend": true,
         "textposition": "auto",
         "texttemplate": "%{y}",
         "type": "bar",
         "x": [
          "PLEC",
          "DST",
          "ITPR2",
          "DYNC2H1",
          "DOCK4",
          "NRG1",
          "TP63"
         ],
         "xaxis": "x",
         "y": [
          310,
          265,
          186,
          50,
          36,
          19,
          18
         ],
         "yaxis": "y"
        },
        {
         "alignmentgroup": "True",
         "hovertemplate": "max_b=7<br>gene=%{x}<br>degree_t=%{y}<extra></extra>",
         "legendgroup": "7",
         "marker": {
          "color": "#F8766D",
          "pattern": {
           "shape": ""
          }
         },
         "name": "7",
         "offsetgroup": "7",
         "orientation": "v",
         "showlegend": true,
         "textposition": "auto",
         "texttemplate": "%{y}",
         "type": "bar",
         "x": [
          "DIAPH2",
          "ZFP36L2"
         ],
         "xaxis": "x",
         "y": [
          231,
          104
         ],
         "yaxis": "y"
        },
        {
         "alignmentgroup": "True",
         "hovertemplate": "max_b=3<br>gene=%{x}<br>degree_t=%{y}<extra></extra>",
         "legendgroup": "3",
         "marker": {
          "color": "#A3A500",
          "pattern": {
           "shape": ""
          }
         },
         "name": "3",
         "offsetgroup": "3",
         "orientation": "v",
         "showlegend": true,
         "textposition": "auto",
         "texttemplate": "%{y}",
         "type": "bar",
         "x": [
          "SYNE2",
          "FGFR3",
          "RBBP6",
          "SPAG17"
         ],
         "xaxis": "x",
         "y": [
          231,
          197,
          192,
          41
         ],
         "yaxis": "y"
        },
        {
         "alignmentgroup": "True",
         "hovertemplate": "max_b=42<br>gene=%{x}<br>degree_t=%{y}<extra></extra>",
         "legendgroup": "42",
         "marker": {
          "color": "#00BF7D",
          "pattern": {
           "shape": ""
          }
         },
         "name": "42",
         "offsetgroup": "42",
         "orientation": "v",
         "showlegend": true,
         "textposition": "auto",
         "texttemplate": "%{y}",
         "type": "bar",
         "x": [
          "LRP1",
          "NAV2",
          "LTBP1",
          "CSPG4"
         ],
         "xaxis": "x",
         "y": [
          201,
          38,
          37,
          22
         ],
         "yaxis": "y"
        },
        {
         "alignmentgroup": "True",
         "hovertemplate": "max_b=12<br>gene=%{x}<br>degree_t=%{y}<extra></extra>",
         "legendgroup": "12",
         "marker": {
          "color": "#00B0F6",
          "pattern": {
           "shape": ""
          }
         },
         "name": "12",
         "offsetgroup": "12",
         "orientation": "v",
         "showlegend": true,
         "textposition": "auto",
         "texttemplate": "%{y}",
         "type": "bar",
         "x": [
          "FAT2",
          "CCDC88A",
          "DSP",
          "BRCA1",
          "UTP20",
          "SMC4",
          "ATAD2",
          "STIL",
          "DOCK7",
          "KNTC1",
          "BUB1"
         ],
         "xaxis": "x",
         "y": [
          158,
          152,
          100,
          95,
          90,
          78,
          64,
          47,
          35,
          27,
          16
         ],
         "yaxis": "y"
        },
        {
         "alignmentgroup": "True",
         "hovertemplate": "max_b=25<br>gene=%{x}<br>degree_t=%{y}<extra></extra>",
         "legendgroup": "25",
         "marker": {
          "color": "#E76BF3",
          "pattern": {
           "shape": ""
          }
         },
         "name": "25",
         "offsetgroup": "25",
         "orientation": "v",
         "showlegend": true,
         "textposition": "auto",
         "texttemplate": "%{y}",
         "type": "bar",
         "x": [
          "MYH9",
          "WNK1",
          "RTTN",
          "MICAL2",
          "MYO10"
         ],
         "xaxis": "x",
         "y": [
          108,
          60,
          45,
          33,
          19
         ],
         "yaxis": "y"
        },
        {
         "alignmentgroup": "True",
         "hovertemplate": "max_b=27<br>gene=%{x}<br>degree_t=%{y}<extra></extra>",
         "legendgroup": "27",
         "marker": {
          "color": "#F8766D",
          "pattern": {
           "shape": ""
          }
         },
         "name": "27",
         "offsetgroup": "27",
         "orientation": "v",
         "showlegend": true,
         "textposition": "auto",
         "texttemplate": "%{y}",
         "type": "bar",
         "x": [
          "CELSR2",
          "ADGRL2",
          "LRRC7",
          "PPFIA3"
         ],
         "xaxis": "x",
         "y": [
          27,
          27,
          25,
          24
         ],
         "yaxis": "y"
        },
        {
         "alignmentgroup": "True",
         "hovertemplate": "max_b=21<br>gene=%{x}<br>degree_t=%{y}<extra></extra>",
         "legendgroup": "21",
         "marker": {
          "color": "#A3A500",
          "pattern": {
           "shape": ""
          }
         },
         "name": "21",
         "offsetgroup": "21",
         "orientation": "v",
         "showlegend": true,
         "textposition": "auto",
         "texttemplate": "%{y}",
         "type": "bar",
         "x": [
          "ZNF750"
         ],
         "xaxis": "x",
         "y": [
          25
         ],
         "yaxis": "y"
        },
        {
         "alignmentgroup": "True",
         "hovertemplate": "max_b=19<br>gene=%{x}<br>degree_t=%{y}<extra></extra>",
         "legendgroup": "19",
         "marker": {
          "color": "#00BF7D",
          "pattern": {
           "shape": ""
          }
         },
         "name": "19",
         "offsetgroup": "19",
         "orientation": "v",
         "showlegend": true,
         "textposition": "auto",
         "texttemplate": "%{y}",
         "type": "bar",
         "x": [
          "TNS1"
         ],
         "xaxis": "x",
         "y": [
          22
         ],
         "yaxis": "y"
        },
        {
         "alignmentgroup": "True",
         "hovertemplate": "max_b=26<br>gene=%{x}<br>degree_t=%{y}<extra></extra>",
         "legendgroup": "26",
         "marker": {
          "color": "#00B0F6",
          "pattern": {
           "shape": ""
          }
         },
         "name": "26",
         "offsetgroup": "26",
         "orientation": "v",
         "showlegend": true,
         "textposition": "auto",
         "texttemplate": "%{y}",
         "type": "bar",
         "x": [
          "ZNF471"
         ],
         "xaxis": "x",
         "y": [
          20
         ],
         "yaxis": "y"
        },
        {
         "alignmentgroup": "True",
         "hovertemplate": "max_b=20<br>gene=%{x}<br>degree_t=%{y}<extra></extra>",
         "legendgroup": "20",
         "marker": {
          "color": "#E76BF3",
          "pattern": {
           "shape": ""
          }
         },
         "name": "20",
         "offsetgroup": "20",
         "orientation": "v",
         "showlegend": true,
         "textposition": "auto",
         "texttemplate": "%{y}",
         "type": "bar",
         "x": [
          "QRICH2"
         ],
         "xaxis": "x",
         "y": [
          19
         ],
         "yaxis": "y"
        }
       ],
       "layout": {
        "barmode": "relative",
        "legend": {
         "title": {
          "text": "max_b"
         },
         "tracegroupgap": 0
        },
        "margin": {
         "t": 60
        },
        "template": {
         "data": {
          "bar": [
           {
            "error_x": {
             "color": "rgb(51,51,51)"
            },
            "error_y": {
             "color": "rgb(51,51,51)"
            },
            "marker": {
             "line": {
              "color": "rgb(237,237,237)",
              "width": 0.5
             },
             "pattern": {
              "fillmode": "overlay",
              "size": 10,
              "solidity": 0.2
             }
            },
            "type": "bar"
           }
          ],
          "barpolar": [
           {
            "marker": {
             "line": {
              "color": "rgb(237,237,237)",
              "width": 0.5
             },
             "pattern": {
              "fillmode": "overlay",
              "size": 10,
              "solidity": 0.2
             }
            },
            "type": "barpolar"
           }
          ],
          "carpet": [
           {
            "aaxis": {
             "endlinecolor": "rgb(51,51,51)",
             "gridcolor": "white",
             "linecolor": "white",
             "minorgridcolor": "white",
             "startlinecolor": "rgb(51,51,51)"
            },
            "baxis": {
             "endlinecolor": "rgb(51,51,51)",
             "gridcolor": "white",
             "linecolor": "white",
             "minorgridcolor": "white",
             "startlinecolor": "rgb(51,51,51)"
            },
            "type": "carpet"
           }
          ],
          "choropleth": [
           {
            "colorbar": {
             "outlinewidth": 0,
             "tickcolor": "rgb(237,237,237)",
             "ticklen": 6,
             "ticks": "inside"
            },
            "type": "choropleth"
           }
          ],
          "contour": [
           {
            "colorbar": {
             "outlinewidth": 0,
             "tickcolor": "rgb(237,237,237)",
             "ticklen": 6,
             "ticks": "inside"
            },
            "colorscale": [
             [
              0,
              "rgb(20,44,66)"
             ],
             [
              1,
              "rgb(90,179,244)"
             ]
            ],
            "type": "contour"
           }
          ],
          "contourcarpet": [
           {
            "colorbar": {
             "outlinewidth": 0,
             "tickcolor": "rgb(237,237,237)",
             "ticklen": 6,
             "ticks": "inside"
            },
            "type": "contourcarpet"
           }
          ],
          "heatmap": [
           {
            "colorbar": {
             "outlinewidth": 0,
             "tickcolor": "rgb(237,237,237)",
             "ticklen": 6,
             "ticks": "inside"
            },
            "colorscale": [
             [
              0,
              "rgb(20,44,66)"
             ],
             [
              1,
              "rgb(90,179,244)"
             ]
            ],
            "type": "heatmap"
           }
          ],
          "heatmapgl": [
           {
            "colorbar": {
             "outlinewidth": 0,
             "tickcolor": "rgb(237,237,237)",
             "ticklen": 6,
             "ticks": "inside"
            },
            "colorscale": [
             [
              0,
              "rgb(20,44,66)"
             ],
             [
              1,
              "rgb(90,179,244)"
             ]
            ],
            "type": "heatmapgl"
           }
          ],
          "histogram": [
           {
            "marker": {
             "pattern": {
              "fillmode": "overlay",
              "size": 10,
              "solidity": 0.2
             }
            },
            "type": "histogram"
           }
          ],
          "histogram2d": [
           {
            "colorbar": {
             "outlinewidth": 0,
             "tickcolor": "rgb(237,237,237)",
             "ticklen": 6,
             "ticks": "inside"
            },
            "colorscale": [
             [
              0,
              "rgb(20,44,66)"
             ],
             [
              1,
              "rgb(90,179,244)"
             ]
            ],
            "type": "histogram2d"
           }
          ],
          "histogram2dcontour": [
           {
            "colorbar": {
             "outlinewidth": 0,
             "tickcolor": "rgb(237,237,237)",
             "ticklen": 6,
             "ticks": "inside"
            },
            "colorscale": [
             [
              0,
              "rgb(20,44,66)"
             ],
             [
              1,
              "rgb(90,179,244)"
             ]
            ],
            "type": "histogram2dcontour"
           }
          ],
          "mesh3d": [
           {
            "colorbar": {
             "outlinewidth": 0,
             "tickcolor": "rgb(237,237,237)",
             "ticklen": 6,
             "ticks": "inside"
            },
            "type": "mesh3d"
           }
          ],
          "parcoords": [
           {
            "line": {
             "colorbar": {
              "outlinewidth": 0,
              "tickcolor": "rgb(237,237,237)",
              "ticklen": 6,
              "ticks": "inside"
             }
            },
            "type": "parcoords"
           }
          ],
          "pie": [
           {
            "automargin": true,
            "type": "pie"
           }
          ],
          "scatter": [
           {
            "fillpattern": {
             "fillmode": "overlay",
             "size": 10,
             "solidity": 0.2
            },
            "type": "scatter"
           }
          ],
          "scatter3d": [
           {
            "line": {
             "colorbar": {
              "outlinewidth": 0,
              "tickcolor": "rgb(237,237,237)",
              "ticklen": 6,
              "ticks": "inside"
             }
            },
            "marker": {
             "colorbar": {
              "outlinewidth": 0,
              "tickcolor": "rgb(237,237,237)",
              "ticklen": 6,
              "ticks": "inside"
             }
            },
            "type": "scatter3d"
           }
          ],
          "scattercarpet": [
           {
            "marker": {
             "colorbar": {
              "outlinewidth": 0,
              "tickcolor": "rgb(237,237,237)",
              "ticklen": 6,
              "ticks": "inside"
             }
            },
            "type": "scattercarpet"
           }
          ],
          "scattergeo": [
           {
            "marker": {
             "colorbar": {
              "outlinewidth": 0,
              "tickcolor": "rgb(237,237,237)",
              "ticklen": 6,
              "ticks": "inside"
             }
            },
            "type": "scattergeo"
           }
          ],
          "scattergl": [
           {
            "marker": {
             "colorbar": {
              "outlinewidth": 0,
              "tickcolor": "rgb(237,237,237)",
              "ticklen": 6,
              "ticks": "inside"
             }
            },
            "type": "scattergl"
           }
          ],
          "scattermapbox": [
           {
            "marker": {
             "colorbar": {
              "outlinewidth": 0,
              "tickcolor": "rgb(237,237,237)",
              "ticklen": 6,
              "ticks": "inside"
             }
            },
            "type": "scattermapbox"
           }
          ],
          "scatterpolar": [
           {
            "marker": {
             "colorbar": {
              "outlinewidth": 0,
              "tickcolor": "rgb(237,237,237)",
              "ticklen": 6,
              "ticks": "inside"
             }
            },
            "type": "scatterpolar"
           }
          ],
          "scatterpolargl": [
           {
            "marker": {
             "colorbar": {
              "outlinewidth": 0,
              "tickcolor": "rgb(237,237,237)",
              "ticklen": 6,
              "ticks": "inside"
             }
            },
            "type": "scatterpolargl"
           }
          ],
          "scatterternary": [
           {
            "marker": {
             "colorbar": {
              "outlinewidth": 0,
              "tickcolor": "rgb(237,237,237)",
              "ticklen": 6,
              "ticks": "inside"
             }
            },
            "type": "scatterternary"
           }
          ],
          "surface": [
           {
            "colorbar": {
             "outlinewidth": 0,
             "tickcolor": "rgb(237,237,237)",
             "ticklen": 6,
             "ticks": "inside"
            },
            "colorscale": [
             [
              0,
              "rgb(20,44,66)"
             ],
             [
              1,
              "rgb(90,179,244)"
             ]
            ],
            "type": "surface"
           }
          ],
          "table": [
           {
            "cells": {
             "fill": {
              "color": "rgb(237,237,237)"
             },
             "line": {
              "color": "white"
             }
            },
            "header": {
             "fill": {
              "color": "rgb(217,217,217)"
             },
             "line": {
              "color": "white"
             }
            },
            "type": "table"
           }
          ]
         },
         "layout": {
          "annotationdefaults": {
           "arrowhead": 0,
           "arrowwidth": 1
          },
          "autotypenumbers": "strict",
          "coloraxis": {
           "colorbar": {
            "outlinewidth": 0,
            "tickcolor": "rgb(237,237,237)",
            "ticklen": 6,
            "ticks": "inside"
           }
          },
          "colorscale": {
           "sequential": [
            [
             0,
             "rgb(20,44,66)"
            ],
            [
             1,
             "rgb(90,179,244)"
            ]
           ],
           "sequentialminus": [
            [
             0,
             "rgb(20,44,66)"
            ],
            [
             1,
             "rgb(90,179,244)"
            ]
           ]
          },
          "colorway": [
           "#F8766D",
           "#A3A500",
           "#00BF7D",
           "#00B0F6",
           "#E76BF3"
          ],
          "font": {
           "color": "rgb(51,51,51)"
          },
          "geo": {
           "bgcolor": "white",
           "lakecolor": "white",
           "landcolor": "rgb(237,237,237)",
           "showlakes": true,
           "showland": true,
           "subunitcolor": "white"
          },
          "hoverlabel": {
           "align": "left"
          },
          "hovermode": "closest",
          "paper_bgcolor": "white",
          "plot_bgcolor": "rgb(237,237,237)",
          "polar": {
           "angularaxis": {
            "gridcolor": "white",
            "linecolor": "white",
            "showgrid": true,
            "tickcolor": "rgb(51,51,51)",
            "ticks": "outside"
           },
           "bgcolor": "rgb(237,237,237)",
           "radialaxis": {
            "gridcolor": "white",
            "linecolor": "white",
            "showgrid": true,
            "tickcolor": "rgb(51,51,51)",
            "ticks": "outside"
           }
          },
          "scene": {
           "xaxis": {
            "backgroundcolor": "rgb(237,237,237)",
            "gridcolor": "white",
            "gridwidth": 2,
            "linecolor": "white",
            "showbackground": true,
            "showgrid": true,
            "tickcolor": "rgb(51,51,51)",
            "ticks": "outside",
            "zerolinecolor": "white"
           },
           "yaxis": {
            "backgroundcolor": "rgb(237,237,237)",
            "gridcolor": "white",
            "gridwidth": 2,
            "linecolor": "white",
            "showbackground": true,
            "showgrid": true,
            "tickcolor": "rgb(51,51,51)",
            "ticks": "outside",
            "zerolinecolor": "white"
           },
           "zaxis": {
            "backgroundcolor": "rgb(237,237,237)",
            "gridcolor": "white",
            "gridwidth": 2,
            "linecolor": "white",
            "showbackground": true,
            "showgrid": true,
            "tickcolor": "rgb(51,51,51)",
            "ticks": "outside",
            "zerolinecolor": "white"
           }
          },
          "shapedefaults": {
           "fillcolor": "black",
           "line": {
            "width": 0
           },
           "opacity": 0.3
          },
          "ternary": {
           "aaxis": {
            "gridcolor": "white",
            "linecolor": "white",
            "showgrid": true,
            "tickcolor": "rgb(51,51,51)",
            "ticks": "outside"
           },
           "baxis": {
            "gridcolor": "white",
            "linecolor": "white",
            "showgrid": true,
            "tickcolor": "rgb(51,51,51)",
            "ticks": "outside"
           },
           "bgcolor": "rgb(237,237,237)",
           "caxis": {
            "gridcolor": "white",
            "linecolor": "white",
            "showgrid": true,
            "tickcolor": "rgb(51,51,51)",
            "ticks": "outside"
           }
          },
          "xaxis": {
           "automargin": true,
           "gridcolor": "white",
           "linecolor": "white",
           "showgrid": true,
           "tickcolor": "rgb(51,51,51)",
           "ticks": "outside",
           "title": {
            "standoff": 15
           },
           "zerolinecolor": "white"
          },
          "yaxis": {
           "automargin": true,
           "gridcolor": "white",
           "linecolor": "white",
           "showgrid": true,
           "tickcolor": "rgb(51,51,51)",
           "ticks": "outside",
           "title": {
            "standoff": 15
           },
           "zerolinecolor": "white"
          }
         }
        },
        "xaxis": {
         "anchor": "y",
         "domain": [
          0,
          1
         ],
         "title": {
          "text": "gene"
         }
        },
        "yaxis": {
         "anchor": "x",
         "domain": [
          0,
          1
         ],
         "title": {
          "text": "degree_t"
         }
        }
       }
      }
     },
     "metadata": {},
     "output_type": "display_data"
    }
   ],
   "source": [
    "network_stats: pd.DataFrame = sel_gt.compute_graph_stats()\n",
    "network_stats[\"max_b\"] = nodes_df[\"max_b\"].astype(str)\n",
    "\n",
    "# network_stats.sort_values(by=[col], ascending=False).to_csv(f\"{figures_path}/sigmoid_net_stats.tsv\", sep=\"\\t\")\n",
    "\n",
    "col = \"degree_t\"\n",
    "top_sel = network_stats.sort_values(by=[col], ascending=False).iloc[:120]\n",
    "px.bar(top_sel.reset_index(names=\"gene\"), x=\"gene\", y=col, color=\"max_b\", text_auto=True)"
   ]
  },
  {
   "cell_type": "code",
   "execution_count": 16,
   "metadata": {},
   "outputs": [],
   "source": [
    "net_stats = []\n",
    "col = \"degree_t\"\n",
    "for com in network_stats[\"max_b\"].unique():\n",
    "    sel_net = network_stats.loc[network_stats[\"max_b\"] == com]\n",
    "    net_stats.append((com, sel_net[col].mean()))\n",
    "net_stats = pd.DataFrame(net_stats, columns=[\"com\", \"mean_degree\"])\n",
    "\n",
    "net_stats[\"mean_degree\"] = round(net_stats[\"mean_degree\"])\n",
    "net_stats.sort_values(by=\"mean_degree\", ascending=False, inplace=True)\n",
    "# px.bar(net_stats, y=\"mean_degree\", x=\"com\", text_auto=True, title=\"Mean degree across comunities\")"
   ]
  },
  {
   "cell_type": "code",
   "execution_count": 15,
   "metadata": {},
   "outputs": [
    {
     "data": {
      "text/html": [
       "<div>\n",
       "<style scoped>\n",
       "    .dataframe tbody tr th:only-of-type {\n",
       "        vertical-align: middle;\n",
       "    }\n",
       "\n",
       "    .dataframe tbody tr th {\n",
       "        vertical-align: top;\n",
       "    }\n",
       "\n",
       "    .dataframe thead th {\n",
       "        text-align: right;\n",
       "    }\n",
       "</style>\n",
       "<table border=\"1\" class=\"dataframe\">\n",
       "  <thead>\n",
       "    <tr style=\"text-align: right;\">\n",
       "      <th></th>\n",
       "      <th>Label</th>\n",
       "      <th>Gene</th>\n",
       "      <th>Modularity Class</th>\n",
       "      <th>count</th>\n",
       "      <th>TF</th>\n",
       "      <th>b_0</th>\n",
       "      <th>b_1</th>\n",
       "      <th>b_2</th>\n",
       "      <th>b_3</th>\n",
       "      <th>b_4</th>\n",
       "      <th>...</th>\n",
       "      <th>P_lvl_3</th>\n",
       "      <th>P_lvl_4</th>\n",
       "      <th>P_lvl_5</th>\n",
       "      <th>max_b</th>\n",
       "      <th>ModCon_Rank</th>\n",
       "      <th>ctrl_tf</th>\n",
       "      <th>mean</th>\n",
       "      <th>median</th>\n",
       "      <th>std</th>\n",
       "      <th>var</th>\n",
       "    </tr>\n",
       "  </thead>\n",
       "  <tbody>\n",
       "    <tr>\n",
       "      <th>CYP1A1</th>\n",
       "      <td>CYP1A1</td>\n",
       "      <td>CYP1A1</td>\n",
       "      <td>5</td>\n",
       "      <td>2.0</td>\n",
       "      <td>0</td>\n",
       "      <td>0.0</td>\n",
       "      <td>0.0</td>\n",
       "      <td>0.0</td>\n",
       "      <td>0.0</td>\n",
       "      <td>0.0</td>\n",
       "      <td>...</td>\n",
       "      <td>0</td>\n",
       "      <td>0</td>\n",
       "      <td>0</td>\n",
       "      <td>19</td>\n",
       "      <td>56</td>\n",
       "      <td>0</td>\n",
       "      <td>26.3523</td>\n",
       "      <td>5.796</td>\n",
       "      <td>147.7165</td>\n",
       "      <td>21820.1693</td>\n",
       "    </tr>\n",
       "  </tbody>\n",
       "</table>\n",
       "<p>1 rows × 64 columns</p>\n",
       "</div>"
      ],
      "text/plain": [
       "         Label    Gene  Modularity Class  count  TF  b_0  b_1  b_2  b_3  b_4  \\\n",
       "CYP1A1  CYP1A1  CYP1A1                 5    2.0   0  0.0  0.0  0.0  0.0  0.0   \n",
       "\n",
       "        ...  P_lvl_3  P_lvl_4  P_lvl_5  max_b  ModCon_Rank  ctrl_tf     mean  \\\n",
       "CYP1A1  ...        0        0        0     19           56        0  26.3523   \n",
       "\n",
       "        median       std         var  \n",
       "CYP1A1   5.796  147.7165  21820.1693  \n",
       "\n",
       "[1 rows x 64 columns]"
      ]
     },
     "execution_count": 15,
     "metadata": {},
     "output_type": "execute_result"
    }
   ],
   "source": [
    "nodes_df[nodes_df.index.str.contains(\"CYP1A1\")]"
   ]
  },
  {
   "cell_type": "markdown",
   "metadata": {},
   "source": [
    "# Gene search\n",
    "## Most connected genes"
   ]
  },
  {
   "cell_type": "code",
   "execution_count": null,
   "metadata": {},
   "outputs": [],
   "source": [
    "# Community sizes\n",
    "dmy_df = nodes_df.copy(deep=True)\n",
    "dmy_df.sort_values(by=\"max_b\", inplace=True)\n",
    "dmy_df[\"max_b\"] = dmy_df[\"max_b\"].astype(str)\n",
    "fig1 = px.histogram(dmy_df, x=\"max_b\", text_auto=True, title=\"Comunity sizes\")\n",
    "\n",
    "\n",
    "# Mean degree\n",
    "net_stats, col = [], \"degree_t\"\n",
    "for com in network_stats[\"max_b\"].unique():\n",
    "    sel_net = network_stats.loc[network_stats[\"max_b\"] == com]\n",
    "    net_stats.append((int(com), sel_net[col].mean()))\n",
    "net_stats = pd.DataFrame(net_stats, columns=[\"com\", \"mean_degree\"])\n",
    "\n",
    "net_stats[\"mean_degree\"] = round(net_stats[\"mean_degree\"])\n",
    "net_stats.sort_values(by=\"com\", inplace=True)\n",
    "net_stats[\"com\"] = net_stats[\"com\"].astype(str)\n",
    "fig2 = px.bar(\n",
    "    net_stats, y=\"mean_degree\", x=\"com\", text_auto=True, title=\"Mean degree across comunities\", color_discrete_sequence=[px.colors.qualitative.G10[0]]\n",
    ")\n"
   ]
  },
  {
   "cell_type": "code",
   "execution_count": null,
   "metadata": {},
   "outputs": [],
   "source": [
    "subplots_config = {\n",
    "    \"num_cols\": 1,\n",
    "    \"shared_x\": False,\n",
    "    \"shared_y\": False,\n",
    "    \"h_spacing\": 0.05,\n",
    "    \"v_spacing\": 0.15,\n",
    "    \"main_title\": \"Community sizes vs Mean degree\",\n",
    "    \"height\": 700,\n",
    "    \"width\": None,\n",
    "    \"y_title\": \"Count\",\n",
    "    \"x_title\": \"Community\",\n",
    "    \"specs\": None,\n",
    "}\n",
    "figs = [fig1, fig2]\n",
    "titles = [\n",
    "    \"Comunity sizes\",\n",
    "    \"Mean degree\",\n",
    "]\n",
    "fig = gh.helper_multiplots(figs, titles, subplots_config)\n",
    "fig.show()"
   ]
  },
  {
   "cell_type": "code",
   "execution_count": null,
   "metadata": {},
   "outputs": [],
   "source": [
    "max_dg = net_stats[\"mean_degree\"].max()\n",
    "# th degree of the given percentile (70) so that it includes all the communities w/ mean degree > 10\n",
    "th_dg = np.percentile(net_stats[\"mean_degree\"], 70)\n",
    "coms = net_stats[net_stats[\"mean_degree\"] > th_dg][\"com\"].astype(int)\n",
    "print(f\"Number of coms {coms.shape[0]} of {len(nodes_df['max_b'].unique())}\")\n",
    "print(list(coms.values))"
   ]
  },
  {
   "cell_type": "code",
   "execution_count": null,
   "metadata": {},
   "outputs": [],
   "source": [
    "sel_com_genes = nodes_df.loc[nodes_df[\"max_b\"].isin(coms)][[\"count\", \"TF\", \"max_b\"]].rename(columns={\"count\": \"mut_count\"})\n",
    "print(f\"Nummber of genes selected {sel_com_genes.shape[0]}\")\n",
    "px.histogram(sel_com_genes, x=\"mut_count\", text_auto=True)"
   ]
  },
  {
   "cell_type": "code",
   "execution_count": null,
   "metadata": {},
   "outputs": [],
   "source": [
    "col = \"degree_t\"\n",
    "sel_com_genes[\"degree_t\"] = network_stats[\"degree_t\"]\n",
    "sel_com_genes.sort_values(by=\"degree_t\", ascending=False, inplace=True)\n",
    "sel_com_genes[\"max_b\"] = sel_com_genes[\"max_b\"].astype(str)\n",
    "px.bar(sel_com_genes.reset_index(names=\"gene\"), x=\"gene\", y=col, color=\"max_b\", text_auto=True)"
   ]
  },
  {
   "cell_type": "code",
   "execution_count": null,
   "metadata": {},
   "outputs": [],
   "source": [
    "# tcga_mutations_df.loc[(tcga_mutations_df.index.isin(nodes_df.index)) & (tcga_mutations_df[\"count\"] > 10)].shape\n",
    "\n",
    "tst_df = pd.concat([net_stats.set_index(\"com\"), dmy_df[\"max_b\"].value_counts().rename(\"size\")], axis=1).reset_index(names=\"com\")\n",
    "tst_df[\"com\"] = tst_df[\"com\"].astype(int)\n",
    "tst_df[\"type\"] = \"LargeCom_LowDegree\"\n",
    "tst_df.loc[tst_df[\"com\"].isin(coms), \"type\"] = \"SmallCom_HighDegree\"\n",
    "fig = px.scatter(tst_df, x=\"mean_degree\", y=\"size\", color=\"type\", title=\"Mean Degree vs Community Size\")\n",
    "fig.show()"
   ]
  },
  {
   "cell_type": "markdown",
   "metadata": {},
   "source": [
    "## Community detection comparison"
   ]
  },
  {
   "cell_type": "code",
   "execution_count": null,
   "metadata": {},
   "outputs": [],
   "source": []
  },
  {
   "cell_type": "code",
   "execution_count": null,
   "metadata": {},
   "outputs": [],
   "source": []
  },
  {
   "cell_type": "markdown",
   "metadata": {},
   "source": [
    "# Biology "
   ]
  },
  {
   "cell_type": "markdown",
   "metadata": {},
   "source": [
    "## AHR search"
   ]
  },
  {
   "cell_type": "markdown",
   "metadata": {},
   "source": []
  },
  {
   "cell_type": "code",
   "execution_count": 20,
   "metadata": {},
   "outputs": [],
   "source": [
    "ahr_study = pd.read_csv(f\"{data_base}/metadata/ahr_study_SB_RS.tsv\", sep=\"\\t\", index_col=\"genes\", dtype_backend=\"pyarrow\")\n",
    "ahr_study = ahr_study[ahr_study[\"Log2FC\"] > 0.75]\n",
    "\n",
    "# filter out the non-sig values\n",
    "ahr_study = ahr_study[ahr_study[\"qval\"] < 0.05]\n",
    "ahr_study.sort_values(by=\"qval\")\n",
    "\n",
    "# Compute the PI values\n",
    "ahr_study[\"-log10(q)\"] = -np.log10(ahr_study[\"qval\"])\n",
    "ahr_study[\"pi\"] = ahr_study[\"-log10(q)\"] * ahr_study[\"Log2FC\"]\n",
    "ahr_study = ahr_study[ahr_study[\"pi\"] != 0]\n",
    "\n",
    "# Select the genes\n",
    "all_up_reg_sig = ahr_study.index\n",
    "top_100 = ahr_study.sort_values(by=\"pi\", ascending=False).index.values[:100]"
   ]
  },
  {
   "cell_type": "code",
   "execution_count": 21,
   "metadata": {},
   "outputs": [
    {
     "name": "stdout",
     "output_type": "stream",
     "text": [
      "Total AHR genes 198. Found in 5K 103. Tum found 197\n"
     ]
    },
    {
     "data": {
      "application/vnd.plotly.v1+json": {
       "config": {
        "plotlyServerURL": "https://plot.ly"
       },
       "data": [
        {
         "alignmentgroup": "True",
         "bingroup": "x",
         "hovertemplate": "max_b=%{x}<br>count=%{y}<extra></extra>",
         "legendgroup": "",
         "marker": {
          "color": "#F8766D",
          "pattern": {
           "shape": ""
          }
         },
         "name": "",
         "offsetgroup": "",
         "orientation": "v",
         "showlegend": false,
         "texttemplate": "%{value}",
         "type": "histogram",
         "x": [
          "17",
          "4",
          "11",
          "17",
          "11",
          "13",
          "41",
          "16",
          "9",
          "14",
          "17",
          "0",
          "14",
          "21",
          "19",
          "38",
          "23",
          "9",
          "6",
          "13",
          "6",
          "36",
          "9",
          "0",
          "31",
          "34",
          "27",
          "19",
          "27",
          "27",
          "27",
          "11",
          "27",
          "26",
          "9",
          "11",
          "41",
          "0",
          "30",
          "9",
          "21",
          "34",
          "9",
          "9",
          "9",
          "9",
          "9",
          "9",
          "9",
          "9",
          "35",
          "16",
          "31",
          "9",
          "9",
          "9",
          "38",
          "9",
          "34",
          "9",
          "9",
          "9",
          "9",
          "9",
          "9",
          "39",
          "24",
          "31",
          "38",
          "31",
          "0",
          "0",
          "35",
          "31",
          "43",
          "31",
          "35",
          "31",
          "21",
          "0",
          "22",
          "31",
          "31",
          "26",
          "31",
          "17",
          "21",
          "31",
          "37",
          "31",
          "26",
          "14",
          "6",
          "14",
          "31",
          "0",
          "0",
          "0",
          "0",
          "43",
          "35",
          "13",
          "14"
         ],
         "xaxis": "x",
         "yaxis": "y"
        }
       ],
       "layout": {
        "barmode": "relative",
        "legend": {
         "tracegroupgap": 0
        },
        "margin": {
         "t": 60
        },
        "template": {
         "data": {
          "bar": [
           {
            "error_x": {
             "color": "rgb(51,51,51)"
            },
            "error_y": {
             "color": "rgb(51,51,51)"
            },
            "marker": {
             "line": {
              "color": "rgb(237,237,237)",
              "width": 0.5
             },
             "pattern": {
              "fillmode": "overlay",
              "size": 10,
              "solidity": 0.2
             }
            },
            "type": "bar"
           }
          ],
          "barpolar": [
           {
            "marker": {
             "line": {
              "color": "rgb(237,237,237)",
              "width": 0.5
             },
             "pattern": {
              "fillmode": "overlay",
              "size": 10,
              "solidity": 0.2
             }
            },
            "type": "barpolar"
           }
          ],
          "carpet": [
           {
            "aaxis": {
             "endlinecolor": "rgb(51,51,51)",
             "gridcolor": "white",
             "linecolor": "white",
             "minorgridcolor": "white",
             "startlinecolor": "rgb(51,51,51)"
            },
            "baxis": {
             "endlinecolor": "rgb(51,51,51)",
             "gridcolor": "white",
             "linecolor": "white",
             "minorgridcolor": "white",
             "startlinecolor": "rgb(51,51,51)"
            },
            "type": "carpet"
           }
          ],
          "choropleth": [
           {
            "colorbar": {
             "outlinewidth": 0,
             "tickcolor": "rgb(237,237,237)",
             "ticklen": 6,
             "ticks": "inside"
            },
            "type": "choropleth"
           }
          ],
          "contour": [
           {
            "colorbar": {
             "outlinewidth": 0,
             "tickcolor": "rgb(237,237,237)",
             "ticklen": 6,
             "ticks": "inside"
            },
            "colorscale": [
             [
              0,
              "rgb(20,44,66)"
             ],
             [
              1,
              "rgb(90,179,244)"
             ]
            ],
            "type": "contour"
           }
          ],
          "contourcarpet": [
           {
            "colorbar": {
             "outlinewidth": 0,
             "tickcolor": "rgb(237,237,237)",
             "ticklen": 6,
             "ticks": "inside"
            },
            "type": "contourcarpet"
           }
          ],
          "heatmap": [
           {
            "colorbar": {
             "outlinewidth": 0,
             "tickcolor": "rgb(237,237,237)",
             "ticklen": 6,
             "ticks": "inside"
            },
            "colorscale": [
             [
              0,
              "rgb(20,44,66)"
             ],
             [
              1,
              "rgb(90,179,244)"
             ]
            ],
            "type": "heatmap"
           }
          ],
          "heatmapgl": [
           {
            "colorbar": {
             "outlinewidth": 0,
             "tickcolor": "rgb(237,237,237)",
             "ticklen": 6,
             "ticks": "inside"
            },
            "colorscale": [
             [
              0,
              "rgb(20,44,66)"
             ],
             [
              1,
              "rgb(90,179,244)"
             ]
            ],
            "type": "heatmapgl"
           }
          ],
          "histogram": [
           {
            "marker": {
             "pattern": {
              "fillmode": "overlay",
              "size": 10,
              "solidity": 0.2
             }
            },
            "type": "histogram"
           }
          ],
          "histogram2d": [
           {
            "colorbar": {
             "outlinewidth": 0,
             "tickcolor": "rgb(237,237,237)",
             "ticklen": 6,
             "ticks": "inside"
            },
            "colorscale": [
             [
              0,
              "rgb(20,44,66)"
             ],
             [
              1,
              "rgb(90,179,244)"
             ]
            ],
            "type": "histogram2d"
           }
          ],
          "histogram2dcontour": [
           {
            "colorbar": {
             "outlinewidth": 0,
             "tickcolor": "rgb(237,237,237)",
             "ticklen": 6,
             "ticks": "inside"
            },
            "colorscale": [
             [
              0,
              "rgb(20,44,66)"
             ],
             [
              1,
              "rgb(90,179,244)"
             ]
            ],
            "type": "histogram2dcontour"
           }
          ],
          "mesh3d": [
           {
            "colorbar": {
             "outlinewidth": 0,
             "tickcolor": "rgb(237,237,237)",
             "ticklen": 6,
             "ticks": "inside"
            },
            "type": "mesh3d"
           }
          ],
          "parcoords": [
           {
            "line": {
             "colorbar": {
              "outlinewidth": 0,
              "tickcolor": "rgb(237,237,237)",
              "ticklen": 6,
              "ticks": "inside"
             }
            },
            "type": "parcoords"
           }
          ],
          "pie": [
           {
            "automargin": true,
            "type": "pie"
           }
          ],
          "scatter": [
           {
            "fillpattern": {
             "fillmode": "overlay",
             "size": 10,
             "solidity": 0.2
            },
            "type": "scatter"
           }
          ],
          "scatter3d": [
           {
            "line": {
             "colorbar": {
              "outlinewidth": 0,
              "tickcolor": "rgb(237,237,237)",
              "ticklen": 6,
              "ticks": "inside"
             }
            },
            "marker": {
             "colorbar": {
              "outlinewidth": 0,
              "tickcolor": "rgb(237,237,237)",
              "ticklen": 6,
              "ticks": "inside"
             }
            },
            "type": "scatter3d"
           }
          ],
          "scattercarpet": [
           {
            "marker": {
             "colorbar": {
              "outlinewidth": 0,
              "tickcolor": "rgb(237,237,237)",
              "ticklen": 6,
              "ticks": "inside"
             }
            },
            "type": "scattercarpet"
           }
          ],
          "scattergeo": [
           {
            "marker": {
             "colorbar": {
              "outlinewidth": 0,
              "tickcolor": "rgb(237,237,237)",
              "ticklen": 6,
              "ticks": "inside"
             }
            },
            "type": "scattergeo"
           }
          ],
          "scattergl": [
           {
            "marker": {
             "colorbar": {
              "outlinewidth": 0,
              "tickcolor": "rgb(237,237,237)",
              "ticklen": 6,
              "ticks": "inside"
             }
            },
            "type": "scattergl"
           }
          ],
          "scattermapbox": [
           {
            "marker": {
             "colorbar": {
              "outlinewidth": 0,
              "tickcolor": "rgb(237,237,237)",
              "ticklen": 6,
              "ticks": "inside"
             }
            },
            "type": "scattermapbox"
           }
          ],
          "scatterpolar": [
           {
            "marker": {
             "colorbar": {
              "outlinewidth": 0,
              "tickcolor": "rgb(237,237,237)",
              "ticklen": 6,
              "ticks": "inside"
             }
            },
            "type": "scatterpolar"
           }
          ],
          "scatterpolargl": [
           {
            "marker": {
             "colorbar": {
              "outlinewidth": 0,
              "tickcolor": "rgb(237,237,237)",
              "ticklen": 6,
              "ticks": "inside"
             }
            },
            "type": "scatterpolargl"
           }
          ],
          "scatterternary": [
           {
            "marker": {
             "colorbar": {
              "outlinewidth": 0,
              "tickcolor": "rgb(237,237,237)",
              "ticklen": 6,
              "ticks": "inside"
             }
            },
            "type": "scatterternary"
           }
          ],
          "surface": [
           {
            "colorbar": {
             "outlinewidth": 0,
             "tickcolor": "rgb(237,237,237)",
             "ticklen": 6,
             "ticks": "inside"
            },
            "colorscale": [
             [
              0,
              "rgb(20,44,66)"
             ],
             [
              1,
              "rgb(90,179,244)"
             ]
            ],
            "type": "surface"
           }
          ],
          "table": [
           {
            "cells": {
             "fill": {
              "color": "rgb(237,237,237)"
             },
             "line": {
              "color": "white"
             }
            },
            "header": {
             "fill": {
              "color": "rgb(217,217,217)"
             },
             "line": {
              "color": "white"
             }
            },
            "type": "table"
           }
          ]
         },
         "layout": {
          "annotationdefaults": {
           "arrowhead": 0,
           "arrowwidth": 1
          },
          "autotypenumbers": "strict",
          "coloraxis": {
           "colorbar": {
            "outlinewidth": 0,
            "tickcolor": "rgb(237,237,237)",
            "ticklen": 6,
            "ticks": "inside"
           }
          },
          "colorscale": {
           "sequential": [
            [
             0,
             "rgb(20,44,66)"
            ],
            [
             1,
             "rgb(90,179,244)"
            ]
           ],
           "sequentialminus": [
            [
             0,
             "rgb(20,44,66)"
            ],
            [
             1,
             "rgb(90,179,244)"
            ]
           ]
          },
          "colorway": [
           "#F8766D",
           "#A3A500",
           "#00BF7D",
           "#00B0F6",
           "#E76BF3"
          ],
          "font": {
           "color": "rgb(51,51,51)"
          },
          "geo": {
           "bgcolor": "white",
           "lakecolor": "white",
           "landcolor": "rgb(237,237,237)",
           "showlakes": true,
           "showland": true,
           "subunitcolor": "white"
          },
          "hoverlabel": {
           "align": "left"
          },
          "hovermode": "closest",
          "paper_bgcolor": "white",
          "plot_bgcolor": "rgb(237,237,237)",
          "polar": {
           "angularaxis": {
            "gridcolor": "white",
            "linecolor": "white",
            "showgrid": true,
            "tickcolor": "rgb(51,51,51)",
            "ticks": "outside"
           },
           "bgcolor": "rgb(237,237,237)",
           "radialaxis": {
            "gridcolor": "white",
            "linecolor": "white",
            "showgrid": true,
            "tickcolor": "rgb(51,51,51)",
            "ticks": "outside"
           }
          },
          "scene": {
           "xaxis": {
            "backgroundcolor": "rgb(237,237,237)",
            "gridcolor": "white",
            "gridwidth": 2,
            "linecolor": "white",
            "showbackground": true,
            "showgrid": true,
            "tickcolor": "rgb(51,51,51)",
            "ticks": "outside",
            "zerolinecolor": "white"
           },
           "yaxis": {
            "backgroundcolor": "rgb(237,237,237)",
            "gridcolor": "white",
            "gridwidth": 2,
            "linecolor": "white",
            "showbackground": true,
            "showgrid": true,
            "tickcolor": "rgb(51,51,51)",
            "ticks": "outside",
            "zerolinecolor": "white"
           },
           "zaxis": {
            "backgroundcolor": "rgb(237,237,237)",
            "gridcolor": "white",
            "gridwidth": 2,
            "linecolor": "white",
            "showbackground": true,
            "showgrid": true,
            "tickcolor": "rgb(51,51,51)",
            "ticks": "outside",
            "zerolinecolor": "white"
           }
          },
          "shapedefaults": {
           "fillcolor": "black",
           "line": {
            "width": 0
           },
           "opacity": 0.3
          },
          "ternary": {
           "aaxis": {
            "gridcolor": "white",
            "linecolor": "white",
            "showgrid": true,
            "tickcolor": "rgb(51,51,51)",
            "ticks": "outside"
           },
           "baxis": {
            "gridcolor": "white",
            "linecolor": "white",
            "showgrid": true,
            "tickcolor": "rgb(51,51,51)",
            "ticks": "outside"
           },
           "bgcolor": "rgb(237,237,237)",
           "caxis": {
            "gridcolor": "white",
            "linecolor": "white",
            "showgrid": true,
            "tickcolor": "rgb(51,51,51)",
            "ticks": "outside"
           }
          },
          "xaxis": {
           "automargin": true,
           "gridcolor": "white",
           "linecolor": "white",
           "showgrid": true,
           "tickcolor": "rgb(51,51,51)",
           "ticks": "outside",
           "title": {
            "standoff": 15
           },
           "zerolinecolor": "white"
          },
          "yaxis": {
           "automargin": true,
           "gridcolor": "white",
           "linecolor": "white",
           "showgrid": true,
           "tickcolor": "rgb(51,51,51)",
           "ticks": "outside",
           "title": {
            "standoff": 15
           },
           "zerolinecolor": "white"
          }
         }
        },
        "xaxis": {
         "anchor": "y",
         "domain": [
          0,
          1
         ],
         "title": {
          "text": "max_b"
         }
        },
        "yaxis": {
         "anchor": "x",
         "domain": [
          0,
          1
         ],
         "title": {
          "text": "count"
         }
        }
       }
      }
     },
     "metadata": {},
     "output_type": "display_data"
    }
   ],
   "source": [
    "# ahr_genes = [\"HSP90AB1\", \"AHR\", \"AIP\", \"PTGES3\", \"ARNT\", \"ARNT2\"]\n",
    "ahr_genes = top_100\n",
    "ahr_genes = all_up_reg_sig\n",
    "\n",
    "sel_ahr = nodes_df[nodes_df.index.isin(ahr_genes)]\n",
    "print(f\"Total AHR genes {len(ahr_genes)}. Found in 5K {sel_ahr.shape[0]}. Tum found {all_tum_tpms[all_tum_tpms.index.isin(ahr_genes)].shape[0]}\")\n",
    "# print(f\"Found in communities {sel_ahr['max_b'].value_counts()}\")\n",
    "sel_ahr[\"max_b\"] = sel_ahr[\"max_b\"].astype(str)\n",
    "px.histogram(sel_ahr, x=\"max_b\", text_auto=True)"
   ]
  },
  {
   "cell_type": "code",
   "execution_count": 22,
   "metadata": {},
   "outputs": [
    {
     "name": "stdout",
     "output_type": "stream",
     "text": [
      "AHR. Idx = 3. Comm = 2\n"
     ]
    },
    {
     "data": {
      "application/vnd.plotly.v1+json": {
       "config": {
        "plotlyServerURL": "https://plot.ly"
       },
       "data": [
        {
         "alignmentgroup": "True",
         "bingroup": "x",
         "hovertemplate": "max_b=%{x}<br>count=%{y}<extra></extra>",
         "legendgroup": "",
         "marker": {
          "color": "#F8766D",
          "pattern": {
           "shape": ""
          }
         },
         "name": "",
         "offsetgroup": "",
         "orientation": "v",
         "showlegend": false,
         "texttemplate": "%{value}",
         "type": "histogram",
         "x": [
          "0",
          "21",
          "0",
          "0",
          "0",
          "0",
          "0"
         ],
         "xaxis": "x",
         "yaxis": "y"
        }
       ],
       "layout": {
        "barmode": "relative",
        "legend": {
         "tracegroupgap": 0
        },
        "template": {
         "data": {
          "bar": [
           {
            "error_x": {
             "color": "rgb(51,51,51)"
            },
            "error_y": {
             "color": "rgb(51,51,51)"
            },
            "marker": {
             "line": {
              "color": "rgb(237,237,237)",
              "width": 0.5
             },
             "pattern": {
              "fillmode": "overlay",
              "size": 10,
              "solidity": 0.2
             }
            },
            "type": "bar"
           }
          ],
          "barpolar": [
           {
            "marker": {
             "line": {
              "color": "rgb(237,237,237)",
              "width": 0.5
             },
             "pattern": {
              "fillmode": "overlay",
              "size": 10,
              "solidity": 0.2
             }
            },
            "type": "barpolar"
           }
          ],
          "carpet": [
           {
            "aaxis": {
             "endlinecolor": "rgb(51,51,51)",
             "gridcolor": "white",
             "linecolor": "white",
             "minorgridcolor": "white",
             "startlinecolor": "rgb(51,51,51)"
            },
            "baxis": {
             "endlinecolor": "rgb(51,51,51)",
             "gridcolor": "white",
             "linecolor": "white",
             "minorgridcolor": "white",
             "startlinecolor": "rgb(51,51,51)"
            },
            "type": "carpet"
           }
          ],
          "choropleth": [
           {
            "colorbar": {
             "outlinewidth": 0,
             "tickcolor": "rgb(237,237,237)",
             "ticklen": 6,
             "ticks": "inside"
            },
            "type": "choropleth"
           }
          ],
          "contour": [
           {
            "colorbar": {
             "outlinewidth": 0,
             "tickcolor": "rgb(237,237,237)",
             "ticklen": 6,
             "ticks": "inside"
            },
            "colorscale": [
             [
              0,
              "rgb(20,44,66)"
             ],
             [
              1,
              "rgb(90,179,244)"
             ]
            ],
            "type": "contour"
           }
          ],
          "contourcarpet": [
           {
            "colorbar": {
             "outlinewidth": 0,
             "tickcolor": "rgb(237,237,237)",
             "ticklen": 6,
             "ticks": "inside"
            },
            "type": "contourcarpet"
           }
          ],
          "heatmap": [
           {
            "colorbar": {
             "outlinewidth": 0,
             "tickcolor": "rgb(237,237,237)",
             "ticklen": 6,
             "ticks": "inside"
            },
            "colorscale": [
             [
              0,
              "rgb(20,44,66)"
             ],
             [
              1,
              "rgb(90,179,244)"
             ]
            ],
            "type": "heatmap"
           }
          ],
          "heatmapgl": [
           {
            "colorbar": {
             "outlinewidth": 0,
             "tickcolor": "rgb(237,237,237)",
             "ticklen": 6,
             "ticks": "inside"
            },
            "colorscale": [
             [
              0,
              "rgb(20,44,66)"
             ],
             [
              1,
              "rgb(90,179,244)"
             ]
            ],
            "type": "heatmapgl"
           }
          ],
          "histogram": [
           {
            "marker": {
             "pattern": {
              "fillmode": "overlay",
              "size": 10,
              "solidity": 0.2
             }
            },
            "type": "histogram"
           }
          ],
          "histogram2d": [
           {
            "colorbar": {
             "outlinewidth": 0,
             "tickcolor": "rgb(237,237,237)",
             "ticklen": 6,
             "ticks": "inside"
            },
            "colorscale": [
             [
              0,
              "rgb(20,44,66)"
             ],
             [
              1,
              "rgb(90,179,244)"
             ]
            ],
            "type": "histogram2d"
           }
          ],
          "histogram2dcontour": [
           {
            "colorbar": {
             "outlinewidth": 0,
             "tickcolor": "rgb(237,237,237)",
             "ticklen": 6,
             "ticks": "inside"
            },
            "colorscale": [
             [
              0,
              "rgb(20,44,66)"
             ],
             [
              1,
              "rgb(90,179,244)"
             ]
            ],
            "type": "histogram2dcontour"
           }
          ],
          "mesh3d": [
           {
            "colorbar": {
             "outlinewidth": 0,
             "tickcolor": "rgb(237,237,237)",
             "ticklen": 6,
             "ticks": "inside"
            },
            "type": "mesh3d"
           }
          ],
          "parcoords": [
           {
            "line": {
             "colorbar": {
              "outlinewidth": 0,
              "tickcolor": "rgb(237,237,237)",
              "ticklen": 6,
              "ticks": "inside"
             }
            },
            "type": "parcoords"
           }
          ],
          "pie": [
           {
            "automargin": true,
            "type": "pie"
           }
          ],
          "scatter": [
           {
            "fillpattern": {
             "fillmode": "overlay",
             "size": 10,
             "solidity": 0.2
            },
            "type": "scatter"
           }
          ],
          "scatter3d": [
           {
            "line": {
             "colorbar": {
              "outlinewidth": 0,
              "tickcolor": "rgb(237,237,237)",
              "ticklen": 6,
              "ticks": "inside"
             }
            },
            "marker": {
             "colorbar": {
              "outlinewidth": 0,
              "tickcolor": "rgb(237,237,237)",
              "ticklen": 6,
              "ticks": "inside"
             }
            },
            "type": "scatter3d"
           }
          ],
          "scattercarpet": [
           {
            "marker": {
             "colorbar": {
              "outlinewidth": 0,
              "tickcolor": "rgb(237,237,237)",
              "ticklen": 6,
              "ticks": "inside"
             }
            },
            "type": "scattercarpet"
           }
          ],
          "scattergeo": [
           {
            "marker": {
             "colorbar": {
              "outlinewidth": 0,
              "tickcolor": "rgb(237,237,237)",
              "ticklen": 6,
              "ticks": "inside"
             }
            },
            "type": "scattergeo"
           }
          ],
          "scattergl": [
           {
            "marker": {
             "colorbar": {
              "outlinewidth": 0,
              "tickcolor": "rgb(237,237,237)",
              "ticklen": 6,
              "ticks": "inside"
             }
            },
            "type": "scattergl"
           }
          ],
          "scattermapbox": [
           {
            "marker": {
             "colorbar": {
              "outlinewidth": 0,
              "tickcolor": "rgb(237,237,237)",
              "ticklen": 6,
              "ticks": "inside"
             }
            },
            "type": "scattermapbox"
           }
          ],
          "scatterpolar": [
           {
            "marker": {
             "colorbar": {
              "outlinewidth": 0,
              "tickcolor": "rgb(237,237,237)",
              "ticklen": 6,
              "ticks": "inside"
             }
            },
            "type": "scatterpolar"
           }
          ],
          "scatterpolargl": [
           {
            "marker": {
             "colorbar": {
              "outlinewidth": 0,
              "tickcolor": "rgb(237,237,237)",
              "ticklen": 6,
              "ticks": "inside"
             }
            },
            "type": "scatterpolargl"
           }
          ],
          "scatterternary": [
           {
            "marker": {
             "colorbar": {
              "outlinewidth": 0,
              "tickcolor": "rgb(237,237,237)",
              "ticklen": 6,
              "ticks": "inside"
             }
            },
            "type": "scatterternary"
           }
          ],
          "surface": [
           {
            "colorbar": {
             "outlinewidth": 0,
             "tickcolor": "rgb(237,237,237)",
             "ticklen": 6,
             "ticks": "inside"
            },
            "colorscale": [
             [
              0,
              "rgb(20,44,66)"
             ],
             [
              1,
              "rgb(90,179,244)"
             ]
            ],
            "type": "surface"
           }
          ],
          "table": [
           {
            "cells": {
             "fill": {
              "color": "rgb(237,237,237)"
             },
             "line": {
              "color": "white"
             }
            },
            "header": {
             "fill": {
              "color": "rgb(217,217,217)"
             },
             "line": {
              "color": "white"
             }
            },
            "type": "table"
           }
          ]
         },
         "layout": {
          "annotationdefaults": {
           "arrowhead": 0,
           "arrowwidth": 1
          },
          "autotypenumbers": "strict",
          "coloraxis": {
           "colorbar": {
            "outlinewidth": 0,
            "tickcolor": "rgb(237,237,237)",
            "ticklen": 6,
            "ticks": "inside"
           }
          },
          "colorscale": {
           "sequential": [
            [
             0,
             "rgb(20,44,66)"
            ],
            [
             1,
             "rgb(90,179,244)"
            ]
           ],
           "sequentialminus": [
            [
             0,
             "rgb(20,44,66)"
            ],
            [
             1,
             "rgb(90,179,244)"
            ]
           ]
          },
          "colorway": [
           "#F8766D",
           "#A3A500",
           "#00BF7D",
           "#00B0F6",
           "#E76BF3"
          ],
          "font": {
           "color": "rgb(51,51,51)"
          },
          "geo": {
           "bgcolor": "white",
           "lakecolor": "white",
           "landcolor": "rgb(237,237,237)",
           "showlakes": true,
           "showland": true,
           "subunitcolor": "white"
          },
          "hoverlabel": {
           "align": "left"
          },
          "hovermode": "closest",
          "paper_bgcolor": "white",
          "plot_bgcolor": "rgb(237,237,237)",
          "polar": {
           "angularaxis": {
            "gridcolor": "white",
            "linecolor": "white",
            "showgrid": true,
            "tickcolor": "rgb(51,51,51)",
            "ticks": "outside"
           },
           "bgcolor": "rgb(237,237,237)",
           "radialaxis": {
            "gridcolor": "white",
            "linecolor": "white",
            "showgrid": true,
            "tickcolor": "rgb(51,51,51)",
            "ticks": "outside"
           }
          },
          "scene": {
           "xaxis": {
            "backgroundcolor": "rgb(237,237,237)",
            "gridcolor": "white",
            "gridwidth": 2,
            "linecolor": "white",
            "showbackground": true,
            "showgrid": true,
            "tickcolor": "rgb(51,51,51)",
            "ticks": "outside",
            "zerolinecolor": "white"
           },
           "yaxis": {
            "backgroundcolor": "rgb(237,237,237)",
            "gridcolor": "white",
            "gridwidth": 2,
            "linecolor": "white",
            "showbackground": true,
            "showgrid": true,
            "tickcolor": "rgb(51,51,51)",
            "ticks": "outside",
            "zerolinecolor": "white"
           },
           "zaxis": {
            "backgroundcolor": "rgb(237,237,237)",
            "gridcolor": "white",
            "gridwidth": 2,
            "linecolor": "white",
            "showbackground": true,
            "showgrid": true,
            "tickcolor": "rgb(51,51,51)",
            "ticks": "outside",
            "zerolinecolor": "white"
           }
          },
          "shapedefaults": {
           "fillcolor": "black",
           "line": {
            "width": 0
           },
           "opacity": 0.3
          },
          "ternary": {
           "aaxis": {
            "gridcolor": "white",
            "linecolor": "white",
            "showgrid": true,
            "tickcolor": "rgb(51,51,51)",
            "ticks": "outside"
           },
           "baxis": {
            "gridcolor": "white",
            "linecolor": "white",
            "showgrid": true,
            "tickcolor": "rgb(51,51,51)",
            "ticks": "outside"
           },
           "bgcolor": "rgb(237,237,237)",
           "caxis": {
            "gridcolor": "white",
            "linecolor": "white",
            "showgrid": true,
            "tickcolor": "rgb(51,51,51)",
            "ticks": "outside"
           }
          },
          "xaxis": {
           "automargin": true,
           "gridcolor": "white",
           "linecolor": "white",
           "showgrid": true,
           "tickcolor": "rgb(51,51,51)",
           "ticks": "outside",
           "title": {
            "standoff": 15
           },
           "zerolinecolor": "white"
          },
          "yaxis": {
           "automargin": true,
           "gridcolor": "white",
           "linecolor": "white",
           "showgrid": true,
           "tickcolor": "rgb(51,51,51)",
           "ticks": "outside",
           "title": {
            "standoff": 15
           },
           "zerolinecolor": "white"
          }
         }
        },
        "title": {
         "text": "Neigbhors of AHR and genes in the AHR up-regulated"
        },
        "xaxis": {
         "anchor": "y",
         "domain": [
          0,
          1
         ],
         "title": {
          "text": "max_b"
         }
        },
        "yaxis": {
         "anchor": "x",
         "domain": [
          0,
          1
         ],
         "title": {
          "text": "count"
         }
        }
       }
      }
     },
     "metadata": {},
     "output_type": "display_data"
    }
   ],
   "source": [
    "gene = \"AHR\"\n",
    "neigbhors = sel_gt.filter_graph(gene=gene)\n",
    "gt_g.set_vertex_filter(None)\n",
    "stats_neigbhors = sel_gt.process_neigbhors(v_idxs=neigbhors)\n",
    "\n",
    "sel_df = nodes_df.loc[nodes_df[\"node_idx\"].isin(neigbhors)]\n",
    "ahr_sel = sel_df[sel_df.index.isin(ahr_genes)][[\"max_b\", \"count\", \"TF\", \"mean\", \"median\", \"std\", \"var\"]]\n",
    "\n",
    "ahr_sel[\"max_b\"] = ahr_sel[\"max_b\"].astype(str)\n",
    "px.histogram(ahr_sel, x=\"max_b\", text_auto=True, title=f\"Neigbhors of {gene} and genes in the AHR up-regulated\")"
   ]
  },
  {
   "cell_type": "code",
   "execution_count": 23,
   "metadata": {},
   "outputs": [
    {
     "data": {
      "text/plain": [
       "Index(['ELF3', 'COL7A1', 'AHR', 'MYH10', 'PLXNB2', 'RNF213', 'CHD2', 'TRANK1',\n",
       "       'HSPG2', 'VPS13D', 'FN1', 'KLF5', 'DMXL2', 'CREBBP', 'SACS', 'SPEN',\n",
       "       'PRKDC', 'RHOB', 'FRY', 'PLEC'],\n",
       "      dtype='object')"
      ]
     },
     "execution_count": 23,
     "metadata": {},
     "output_type": "execute_result"
    }
   ],
   "source": [
    "graph_stats[\"TF\"] = nodes_df[\"TF\"]\n",
    "graph_stats[\"max_b\"] = nodes_df[\"max_b\"]\n",
    "graph_stats.sort_values(by=\"degree_t\", ascending=False).iloc[:20].index"
   ]
  },
  {
   "cell_type": "code",
   "execution_count": 24,
   "metadata": {},
   "outputs": [
    {
     "name": "stdout",
     "output_type": "stream",
     "text": [
      "AHR. Idx = 3. Comm = 2\n"
     ]
    },
    {
     "data": {
      "application/vnd.plotly.v1+json": {
       "config": {
        "plotlyServerURL": "https://plot.ly"
       },
       "data": [
        {
         "alignmentgroup": "True",
         "hovertemplate": "variable=num_found<br>com=%{x}<br>value=%{y}<extra></extra>",
         "legendgroup": "num_found",
         "marker": {
          "color": "#F8766D",
          "pattern": {
           "shape": ""
          }
         },
         "name": "num_found",
         "offsetgroup": "num_found",
         "orientation": "v",
         "showlegend": true,
         "textposition": "auto",
         "texttemplate": "%{y}",
         "type": "bar",
         "x": [
          "0",
          "13",
          "22",
          "21",
          "4",
          "23",
          "1",
          "2",
          "18",
          "36",
          "40",
          "8",
          "44",
          "19",
          "20"
         ],
         "xaxis": "x",
         "y": [
          490,
          71,
          24,
          13,
          12,
          10,
          7,
          7,
          7,
          6,
          6,
          4,
          4,
          4,
          3
         ],
         "yaxis": "y"
        },
        {
         "alignmentgroup": "True",
         "hovertemplate": "variable=com_size<br>com=%{x}<br>value=%{y}<extra></extra>",
         "legendgroup": "com_size",
         "marker": {
          "color": "#A3A500",
          "pattern": {
           "shape": ""
          }
         },
         "name": "com_size",
         "offsetgroup": "com_size",
         "orientation": "v",
         "showlegend": true,
         "textposition": "auto",
         "texttemplate": "%{y}",
         "type": "bar",
         "x": [
          "0",
          "13",
          "22",
          "21",
          "4",
          "23",
          "1",
          "2",
          "18",
          "36",
          "40",
          "8",
          "44",
          "19",
          "20"
         ],
         "xaxis": "x",
         "y": [
          807,
          194,
          83,
          63,
          117,
          132,
          9,
          10,
          13,
          94,
          123,
          12,
          22,
          80,
          68
         ],
         "yaxis": "y"
        },
        {
         "alignmentgroup": "True",
         "hovertemplate": "com=%{x}<br>com_ratio=%{y}<extra></extra>",
         "legendgroup": "",
         "marker": {
          "color": "#F8766D",
          "pattern": {
           "shape": ""
          }
         },
         "name": "",
         "offsetgroup": "",
         "orientation": "v",
         "showlegend": false,
         "textposition": "auto",
         "texttemplate": "%{y}",
         "type": "bar",
         "x": [
          "0",
          "13",
          "22",
          "21",
          "4",
          "23",
          "1",
          "2",
          "18",
          "36",
          "40",
          "8",
          "44",
          "19",
          "20"
         ],
         "xaxis": "x2",
         "y": [
          0.6072,
          0.366,
          0.2892,
          0.2063,
          0.1026,
          0.0758,
          0.7778,
          0.7,
          0.5385,
          0.0638,
          0.0488,
          0.3333,
          0.1818,
          0.05,
          0.0441
         ],
         "yaxis": "y2"
        },
        {
         "alignmentgroup": "True",
         "hovertemplate": "variable=mut_burden<br>com=%{x}<br>value=%{y}<extra></extra>",
         "legendgroup": "mut_burden",
         "marker": {
          "color": "#F8766D",
          "pattern": {
           "shape": ""
          }
         },
         "name": "mut_burden",
         "offsetgroup": "mut_burden",
         "orientation": "v",
         "showlegend": true,
         "textposition": "auto",
         "texttemplate": "%{y}",
         "type": "bar",
         "x": [
          "0",
          "13",
          "22",
          "21",
          "4",
          "23",
          "1",
          "2",
          "18",
          "36",
          "40",
          "8",
          "44",
          "19",
          "20"
         ],
         "xaxis": "x3",
         "y": [
          326,
          43,
          17,
          8,
          9,
          7,
          7,
          7,
          7,
          5,
          4,
          4,
          3,
          4,
          2
         ],
         "yaxis": "y3"
        },
        {
         "alignmentgroup": "True",
         "hovertemplate": "com=%{x}<br>num_TF=%{y}<extra></extra>",
         "legendgroup": "",
         "marker": {
          "color": "#F8766D",
          "pattern": {
           "shape": ""
          }
         },
         "name": "",
         "offsetgroup": "",
         "orientation": "v",
         "showlegend": false,
         "textposition": "auto",
         "texttemplate": "%{y}",
         "type": "bar",
         "x": [
          "0",
          "13",
          "22",
          "21",
          "4",
          "23",
          "1",
          "2",
          "18",
          "36",
          "40",
          "8",
          "44",
          "19",
          "20"
         ],
         "xaxis": "x4",
         "y": [
          46,
          10,
          1,
          8,
          1,
          0,
          2,
          2,
          1,
          1,
          0,
          4,
          2,
          2,
          1
         ],
         "yaxis": "y4"
        }
       ],
       "layout": {
        "annotations": [
         {
          "font": {
           "size": 16
          },
          "showarrow": false,
          "text": "Num Found and Community sizes",
          "x": 0.2375,
          "xanchor": "center",
          "xref": "paper",
          "y": 1,
          "yanchor": "bottom",
          "yref": "paper"
         },
         {
          "font": {
           "size": 16
          },
          "showarrow": false,
          "text": "Com ratio representation",
          "x": 0.7625,
          "xanchor": "center",
          "xref": "paper",
          "y": 1,
          "yanchor": "bottom",
          "yref": "paper"
         },
         {
          "font": {
           "size": 16
          },
          "showarrow": false,
          "text": "Mut burden in the neigbhors",
          "x": 0.2375,
          "xanchor": "center",
          "xref": "paper",
          "y": 0.425,
          "yanchor": "bottom",
          "yref": "paper"
         },
         {
          "font": {
           "size": 16
          },
          "showarrow": false,
          "text": "Number of TF in the neigbhors",
          "x": 0.7625,
          "xanchor": "center",
          "xref": "paper",
          "y": 0.425,
          "yanchor": "bottom",
          "yref": "paper"
         }
        ],
        "height": 700,
        "showlegend": false,
        "template": {
         "data": {
          "bar": [
           {
            "error_x": {
             "color": "rgb(51,51,51)"
            },
            "error_y": {
             "color": "rgb(51,51,51)"
            },
            "marker": {
             "line": {
              "color": "rgb(237,237,237)",
              "width": 0.5
             },
             "pattern": {
              "fillmode": "overlay",
              "size": 10,
              "solidity": 0.2
             }
            },
            "type": "bar"
           }
          ],
          "barpolar": [
           {
            "marker": {
             "line": {
              "color": "rgb(237,237,237)",
              "width": 0.5
             },
             "pattern": {
              "fillmode": "overlay",
              "size": 10,
              "solidity": 0.2
             }
            },
            "type": "barpolar"
           }
          ],
          "carpet": [
           {
            "aaxis": {
             "endlinecolor": "rgb(51,51,51)",
             "gridcolor": "white",
             "linecolor": "white",
             "minorgridcolor": "white",
             "startlinecolor": "rgb(51,51,51)"
            },
            "baxis": {
             "endlinecolor": "rgb(51,51,51)",
             "gridcolor": "white",
             "linecolor": "white",
             "minorgridcolor": "white",
             "startlinecolor": "rgb(51,51,51)"
            },
            "type": "carpet"
           }
          ],
          "choropleth": [
           {
            "colorbar": {
             "outlinewidth": 0,
             "tickcolor": "rgb(237,237,237)",
             "ticklen": 6,
             "ticks": "inside"
            },
            "type": "choropleth"
           }
          ],
          "contour": [
           {
            "colorbar": {
             "outlinewidth": 0,
             "tickcolor": "rgb(237,237,237)",
             "ticklen": 6,
             "ticks": "inside"
            },
            "colorscale": [
             [
              0,
              "rgb(20,44,66)"
             ],
             [
              1,
              "rgb(90,179,244)"
             ]
            ],
            "type": "contour"
           }
          ],
          "contourcarpet": [
           {
            "colorbar": {
             "outlinewidth": 0,
             "tickcolor": "rgb(237,237,237)",
             "ticklen": 6,
             "ticks": "inside"
            },
            "type": "contourcarpet"
           }
          ],
          "heatmap": [
           {
            "colorbar": {
             "outlinewidth": 0,
             "tickcolor": "rgb(237,237,237)",
             "ticklen": 6,
             "ticks": "inside"
            },
            "colorscale": [
             [
              0,
              "rgb(20,44,66)"
             ],
             [
              1,
              "rgb(90,179,244)"
             ]
            ],
            "type": "heatmap"
           }
          ],
          "heatmapgl": [
           {
            "colorbar": {
             "outlinewidth": 0,
             "tickcolor": "rgb(237,237,237)",
             "ticklen": 6,
             "ticks": "inside"
            },
            "colorscale": [
             [
              0,
              "rgb(20,44,66)"
             ],
             [
              1,
              "rgb(90,179,244)"
             ]
            ],
            "type": "heatmapgl"
           }
          ],
          "histogram": [
           {
            "marker": {
             "pattern": {
              "fillmode": "overlay",
              "size": 10,
              "solidity": 0.2
             }
            },
            "type": "histogram"
           }
          ],
          "histogram2d": [
           {
            "colorbar": {
             "outlinewidth": 0,
             "tickcolor": "rgb(237,237,237)",
             "ticklen": 6,
             "ticks": "inside"
            },
            "colorscale": [
             [
              0,
              "rgb(20,44,66)"
             ],
             [
              1,
              "rgb(90,179,244)"
             ]
            ],
            "type": "histogram2d"
           }
          ],
          "histogram2dcontour": [
           {
            "colorbar": {
             "outlinewidth": 0,
             "tickcolor": "rgb(237,237,237)",
             "ticklen": 6,
             "ticks": "inside"
            },
            "colorscale": [
             [
              0,
              "rgb(20,44,66)"
             ],
             [
              1,
              "rgb(90,179,244)"
             ]
            ],
            "type": "histogram2dcontour"
           }
          ],
          "mesh3d": [
           {
            "colorbar": {
             "outlinewidth": 0,
             "tickcolor": "rgb(237,237,237)",
             "ticklen": 6,
             "ticks": "inside"
            },
            "type": "mesh3d"
           }
          ],
          "parcoords": [
           {
            "line": {
             "colorbar": {
              "outlinewidth": 0,
              "tickcolor": "rgb(237,237,237)",
              "ticklen": 6,
              "ticks": "inside"
             }
            },
            "type": "parcoords"
           }
          ],
          "pie": [
           {
            "automargin": true,
            "type": "pie"
           }
          ],
          "scatter": [
           {
            "fillpattern": {
             "fillmode": "overlay",
             "size": 10,
             "solidity": 0.2
            },
            "type": "scatter"
           }
          ],
          "scatter3d": [
           {
            "line": {
             "colorbar": {
              "outlinewidth": 0,
              "tickcolor": "rgb(237,237,237)",
              "ticklen": 6,
              "ticks": "inside"
             }
            },
            "marker": {
             "colorbar": {
              "outlinewidth": 0,
              "tickcolor": "rgb(237,237,237)",
              "ticklen": 6,
              "ticks": "inside"
             }
            },
            "type": "scatter3d"
           }
          ],
          "scattercarpet": [
           {
            "marker": {
             "colorbar": {
              "outlinewidth": 0,
              "tickcolor": "rgb(237,237,237)",
              "ticklen": 6,
              "ticks": "inside"
             }
            },
            "type": "scattercarpet"
           }
          ],
          "scattergeo": [
           {
            "marker": {
             "colorbar": {
              "outlinewidth": 0,
              "tickcolor": "rgb(237,237,237)",
              "ticklen": 6,
              "ticks": "inside"
             }
            },
            "type": "scattergeo"
           }
          ],
          "scattergl": [
           {
            "marker": {
             "colorbar": {
              "outlinewidth": 0,
              "tickcolor": "rgb(237,237,237)",
              "ticklen": 6,
              "ticks": "inside"
             }
            },
            "type": "scattergl"
           }
          ],
          "scattermapbox": [
           {
            "marker": {
             "colorbar": {
              "outlinewidth": 0,
              "tickcolor": "rgb(237,237,237)",
              "ticklen": 6,
              "ticks": "inside"
             }
            },
            "type": "scattermapbox"
           }
          ],
          "scatterpolar": [
           {
            "marker": {
             "colorbar": {
              "outlinewidth": 0,
              "tickcolor": "rgb(237,237,237)",
              "ticklen": 6,
              "ticks": "inside"
             }
            },
            "type": "scatterpolar"
           }
          ],
          "scatterpolargl": [
           {
            "marker": {
             "colorbar": {
              "outlinewidth": 0,
              "tickcolor": "rgb(237,237,237)",
              "ticklen": 6,
              "ticks": "inside"
             }
            },
            "type": "scatterpolargl"
           }
          ],
          "scatterternary": [
           {
            "marker": {
             "colorbar": {
              "outlinewidth": 0,
              "tickcolor": "rgb(237,237,237)",
              "ticklen": 6,
              "ticks": "inside"
             }
            },
            "type": "scatterternary"
           }
          ],
          "surface": [
           {
            "colorbar": {
             "outlinewidth": 0,
             "tickcolor": "rgb(237,237,237)",
             "ticklen": 6,
             "ticks": "inside"
            },
            "colorscale": [
             [
              0,
              "rgb(20,44,66)"
             ],
             [
              1,
              "rgb(90,179,244)"
             ]
            ],
            "type": "surface"
           }
          ],
          "table": [
           {
            "cells": {
             "fill": {
              "color": "rgb(237,237,237)"
             },
             "line": {
              "color": "white"
             }
            },
            "header": {
             "fill": {
              "color": "rgb(217,217,217)"
             },
             "line": {
              "color": "white"
             }
            },
            "type": "table"
           }
          ]
         },
         "layout": {
          "annotationdefaults": {
           "arrowhead": 0,
           "arrowwidth": 1
          },
          "autotypenumbers": "strict",
          "coloraxis": {
           "colorbar": {
            "outlinewidth": 0,
            "tickcolor": "rgb(237,237,237)",
            "ticklen": 6,
            "ticks": "inside"
           }
          },
          "colorscale": {
           "sequential": [
            [
             0,
             "rgb(20,44,66)"
            ],
            [
             1,
             "rgb(90,179,244)"
            ]
           ],
           "sequentialminus": [
            [
             0,
             "rgb(20,44,66)"
            ],
            [
             1,
             "rgb(90,179,244)"
            ]
           ]
          },
          "colorway": [
           "#F8766D",
           "#A3A500",
           "#00BF7D",
           "#00B0F6",
           "#E76BF3"
          ],
          "font": {
           "color": "rgb(51,51,51)"
          },
          "geo": {
           "bgcolor": "white",
           "lakecolor": "white",
           "landcolor": "rgb(237,237,237)",
           "showlakes": true,
           "showland": true,
           "subunitcolor": "white"
          },
          "hoverlabel": {
           "align": "left"
          },
          "hovermode": "closest",
          "paper_bgcolor": "white",
          "plot_bgcolor": "rgb(237,237,237)",
          "polar": {
           "angularaxis": {
            "gridcolor": "white",
            "linecolor": "white",
            "showgrid": true,
            "tickcolor": "rgb(51,51,51)",
            "ticks": "outside"
           },
           "bgcolor": "rgb(237,237,237)",
           "radialaxis": {
            "gridcolor": "white",
            "linecolor": "white",
            "showgrid": true,
            "tickcolor": "rgb(51,51,51)",
            "ticks": "outside"
           }
          },
          "scene": {
           "xaxis": {
            "backgroundcolor": "rgb(237,237,237)",
            "gridcolor": "white",
            "gridwidth": 2,
            "linecolor": "white",
            "showbackground": true,
            "showgrid": true,
            "tickcolor": "rgb(51,51,51)",
            "ticks": "outside",
            "zerolinecolor": "white"
           },
           "yaxis": {
            "backgroundcolor": "rgb(237,237,237)",
            "gridcolor": "white",
            "gridwidth": 2,
            "linecolor": "white",
            "showbackground": true,
            "showgrid": true,
            "tickcolor": "rgb(51,51,51)",
            "ticks": "outside",
            "zerolinecolor": "white"
           },
           "zaxis": {
            "backgroundcolor": "rgb(237,237,237)",
            "gridcolor": "white",
            "gridwidth": 2,
            "linecolor": "white",
            "showbackground": true,
            "showgrid": true,
            "tickcolor": "rgb(51,51,51)",
            "ticks": "outside",
            "zerolinecolor": "white"
           }
          },
          "shapedefaults": {
           "fillcolor": "black",
           "line": {
            "width": 0
           },
           "opacity": 0.3
          },
          "ternary": {
           "aaxis": {
            "gridcolor": "white",
            "linecolor": "white",
            "showgrid": true,
            "tickcolor": "rgb(51,51,51)",
            "ticks": "outside"
           },
           "baxis": {
            "gridcolor": "white",
            "linecolor": "white",
            "showgrid": true,
            "tickcolor": "rgb(51,51,51)",
            "ticks": "outside"
           },
           "bgcolor": "rgb(237,237,237)",
           "caxis": {
            "gridcolor": "white",
            "linecolor": "white",
            "showgrid": true,
            "tickcolor": "rgb(51,51,51)",
            "ticks": "outside"
           }
          },
          "xaxis": {
           "automargin": true,
           "gridcolor": "white",
           "linecolor": "white",
           "showgrid": true,
           "tickcolor": "rgb(51,51,51)",
           "ticks": "outside",
           "title": {
            "standoff": 15
           },
           "zerolinecolor": "white"
          },
          "yaxis": {
           "automargin": true,
           "gridcolor": "white",
           "linecolor": "white",
           "showgrid": true,
           "tickcolor": "rgb(51,51,51)",
           "ticks": "outside",
           "title": {
            "standoff": 15
           },
           "zerolinecolor": "white"
          }
         }
        },
        "title": {
         "text": "Neigbhours overview for AHR (sigmoid_5K_6TF_hsbm)"
        },
        "xaxis": {
         "anchor": "y",
         "domain": [
          0,
          0.475
         ],
         "title": {
          "text": "Community"
         }
        },
        "xaxis2": {
         "anchor": "y2",
         "domain": [
          0.525,
          1
         ],
         "title": {
          "text": "Community"
         }
        },
        "xaxis3": {
         "anchor": "y3",
         "domain": [
          0,
          0.475
         ],
         "title": {
          "text": "Community"
         }
        },
        "xaxis4": {
         "anchor": "y4",
         "domain": [
          0.525,
          1
         ],
         "title": {
          "text": "Community"
         }
        },
        "yaxis": {
         "anchor": "x",
         "domain": [
          0.575,
          1
         ]
        },
        "yaxis2": {
         "anchor": "x2",
         "domain": [
          0.575,
          1
         ]
        },
        "yaxis3": {
         "anchor": "x3",
         "domain": [
          0,
          0.425
         ]
        },
        "yaxis4": {
         "anchor": "x4",
         "domain": [
          0,
          0.425
         ]
        }
       }
      }
     },
     "metadata": {},
     "output_type": "display_data"
    },
    {
     "data": {
      "text/plain": [
       "None"
      ]
     },
     "metadata": {},
     "output_type": "display_data"
    }
   ],
   "source": [
    "# fig = sel_gt.plot_overview_gene(gene_name=\"COL7A1\")\n",
    "# display(fig.show())\n",
    "fig = sel_gt.plot_overview_gene(gene_name=\"AHR\")\n",
    "display(fig.show())"
   ]
  },
  {
   "cell_type": "code",
   "execution_count": 25,
   "metadata": {},
   "outputs": [
    {
     "data": {
      "text/html": [
       "<div>\n",
       "<style scoped>\n",
       "    .dataframe tbody tr th:only-of-type {\n",
       "        vertical-align: middle;\n",
       "    }\n",
       "\n",
       "    .dataframe tbody tr th {\n",
       "        vertical-align: top;\n",
       "    }\n",
       "\n",
       "    .dataframe thead th {\n",
       "        text-align: right;\n",
       "    }\n",
       "</style>\n",
       "<table border=\"1\" class=\"dataframe\">\n",
       "  <thead>\n",
       "    <tr style=\"text-align: right;\">\n",
       "      <th></th>\n",
       "      <th>count</th>\n",
       "      <th>TF</th>\n",
       "      <th>max_b</th>\n",
       "      <th>mean</th>\n",
       "      <th>std</th>\n",
       "    </tr>\n",
       "  </thead>\n",
       "  <tbody>\n",
       "    <tr>\n",
       "      <th>RNF213</th>\n",
       "      <td>37.0</td>\n",
       "      <td>0</td>\n",
       "      <td>32</td>\n",
       "      <td>66.8596</td>\n",
       "      <td>43.1228</td>\n",
       "    </tr>\n",
       "    <tr>\n",
       "      <th>MPDZ</th>\n",
       "      <td>19.0</td>\n",
       "      <td>0</td>\n",
       "      <td>32</td>\n",
       "      <td>19.0647</td>\n",
       "      <td>11.7772</td>\n",
       "    </tr>\n",
       "    <tr>\n",
       "      <th>SHROOM3</th>\n",
       "      <td>18.0</td>\n",
       "      <td>0</td>\n",
       "      <td>32</td>\n",
       "      <td>10.6359</td>\n",
       "      <td>7.4220</td>\n",
       "    </tr>\n",
       "    <tr>\n",
       "      <th>CDKN2A</th>\n",
       "      <td>28.0</td>\n",
       "      <td>0</td>\n",
       "      <td>32</td>\n",
       "      <td>85.7347</td>\n",
       "      <td>82.7526</td>\n",
       "    </tr>\n",
       "    <tr>\n",
       "      <th>HSPG2</th>\n",
       "      <td>27.0</td>\n",
       "      <td>0</td>\n",
       "      <td>32</td>\n",
       "      <td>75.2666</td>\n",
       "      <td>57.4376</td>\n",
       "    </tr>\n",
       "    <tr>\n",
       "      <th>PARP14</th>\n",
       "      <td>17.0</td>\n",
       "      <td>0</td>\n",
       "      <td>32</td>\n",
       "      <td>49.2693</td>\n",
       "      <td>35.5738</td>\n",
       "    </tr>\n",
       "    <tr>\n",
       "      <th>ZNFX1</th>\n",
       "      <td>15.0</td>\n",
       "      <td>0</td>\n",
       "      <td>32</td>\n",
       "      <td>45.3378</td>\n",
       "      <td>26.0021</td>\n",
       "    </tr>\n",
       "    <tr>\n",
       "      <th>EPG5</th>\n",
       "      <td>26.0</td>\n",
       "      <td>0</td>\n",
       "      <td>32</td>\n",
       "      <td>23.0477</td>\n",
       "      <td>14.2305</td>\n",
       "    </tr>\n",
       "    <tr>\n",
       "      <th>OAS2</th>\n",
       "      <td>13.0</td>\n",
       "      <td>0</td>\n",
       "      <td>32</td>\n",
       "      <td>98.4521</td>\n",
       "      <td>85.4434</td>\n",
       "    </tr>\n",
       "    <tr>\n",
       "      <th>NYNRIN</th>\n",
       "      <td>15.0</td>\n",
       "      <td>0</td>\n",
       "      <td>32</td>\n",
       "      <td>39.9672</td>\n",
       "      <td>22.5634</td>\n",
       "    </tr>\n",
       "  </tbody>\n",
       "</table>\n",
       "</div>"
      ],
      "text/plain": [
       "         count  TF  max_b     mean      std\n",
       "RNF213    37.0   0     32  66.8596  43.1228\n",
       "MPDZ      19.0   0     32  19.0647  11.7772\n",
       "SHROOM3   18.0   0     32  10.6359   7.4220\n",
       "CDKN2A    28.0   0     32  85.7347  82.7526\n",
       "HSPG2     27.0   0     32  75.2666  57.4376\n",
       "PARP14    17.0   0     32  49.2693  35.5738\n",
       "ZNFX1     15.0   0     32  45.3378  26.0021\n",
       "EPG5      26.0   0     32  23.0477  14.2305\n",
       "OAS2      13.0   0     32  98.4521  85.4434\n",
       "NYNRIN    15.0   0     32  39.9672  22.5634"
      ]
     },
     "metadata": {},
     "output_type": "display_data"
    },
    {
     "name": "stdout",
     "output_type": "stream",
     "text": [
      "['RNF213' 'MPDZ' 'SHROOM3' 'CDKN2A' 'HSPG2' 'PARP14' 'ZNFX1' 'EPG5' 'OAS2'\n",
      " 'NYNRIN']\n"
     ]
    }
   ],
   "source": [
    "sel_ahr = nodes_df.loc[nodes_df[\"max_b\"] == 32][[\"count\", \"TF\", \"max_b\", \"mean\", \"std\"]]\n",
    "display(sel_ahr)\n",
    "\n",
    "print(sel_ahr.index.values)"
   ]
  },
  {
   "cell_type": "markdown",
   "metadata": {},
   "source": [
    "## PPARG and RARG signatures"
   ]
  },
  {
   "cell_type": "code",
   "execution_count": null,
   "metadata": {},
   "outputs": [],
   "source": [
    "fig = sel_gt.plot_overview_gene(gene_name=\"PPARG\")\n",
    "display(fig.show())"
   ]
  },
  {
   "cell_type": "code",
   "execution_count": 18,
   "metadata": {},
   "outputs": [],
   "source": [
    "def plot_rarg_pparg_com_rep(p_r_clas: pd.DataFrame, df: pd.DataFrame, tum_df: pd.DataFrame, nodes_df: pd.DataFrame, prefix_col=\"\", main_title=\"Title\"):\n",
    "\n",
    "    figs, titles = [], []\n",
    "    # Iterate over the metrics and plot the histograms\n",
    "    for col in p_r_clas.columns:\n",
    "\n",
    "        genes = df[f\"{prefix_col}{col}\"].dropna().values\n",
    "        h_sel = nodes_df[nodes_df.index.isin(genes)]\n",
    "\n",
    "        t_sel = tum_df[tum_df.index.isin(genes)]\n",
    "        h_sel[\"max_b\"] = h_sel[\"max_b\"]\n",
    "        h_sel.sort_values(by=[\"max_b\"], inplace=True)\n",
    "        h_sel[\"max_b\"] = h_sel[\"max_b\"].astype(str)\n",
    "\n",
    "        # Create a histogram using go.Histogram instead of px.histogram\n",
    "        trace = go.Histogram(x=h_sel[\"max_b\"], texttemplate=\"%{y}\", autobinx=True, name=col)\n",
    "        figs.append(trace)  # append the trace instead of the figure\n",
    "        titles.append(f\"{col}. #Genes {len(genes)}, found h {h_sel.shape[0]}, t {t_sel.shape[0]}\")\n",
    "\n",
    "    # Set the number of rows and columns for the subplot\n",
    "    num_rows = round(len(p_r_clas.columns) / 2)\n",
    "    num_cols = 2\n",
    "\n",
    "    # Create a figure and subplots\n",
    "    fig = make_subplots(\n",
    "        rows=num_rows, cols=num_cols, subplot_titles=titles, horizontal_spacing=0.05, vertical_spacing=0.2, shared_xaxes=False, shared_yaxes=False\n",
    "    )\n",
    "\n",
    "    # Adding each plot into the subplot grid\n",
    "    for i, trace in enumerate(figs):\n",
    "        row = (i // num_cols) + 1\n",
    "        col = (i % num_cols) + 1\n",
    "        fig.add_trace(trace, row=row, col=col)\n",
    "\n",
    "    # Manually update the x-axis titles if needed\n",
    "    for i in range(len(figs)):\n",
    "        row = (i // num_cols) + 1\n",
    "        col = (i % num_cols) + 1\n",
    "        fig.update_xaxes(title_text=\"max_b\", row=row, col=col)\n",
    "\n",
    "    # Update layout to handle more customization and display\n",
    "    fig.update_layout(height=700, title_text=main_title)\n",
    "    fig.show()\n",
    "\n",
    "\n",
    "p_r_clas = pd.read_csv(f\"{data_base}/metadata/nuclear_receptor/pparg_rarg_up_dn_classifier.tsv\", sep=\"\\t\")\n",
    "p_r_sig = pd.read_csv(f\"{data_base}/metadata//nuclear_receptor/pparg_rarg_up_dn_sig.tsv\", sep=\"\\t\")"
   ]
  },
  {
   "cell_type": "code",
   "execution_count": null,
   "metadata": {},
   "outputs": [],
   "source": [
    "plot_rarg_pparg_com_rep(p_r_clas=p_r_clas, df=p_r_sig, tum_df=all_tum_tpms, nodes_df=nodes_df, prefix_col=\"genes_\", main_title=\"PPARG/RARG significant genes\")"
   ]
  },
  {
   "cell_type": "code",
   "execution_count": null,
   "metadata": {},
   "outputs": [],
   "source": [
    "plot_rarg_pparg_com_rep(p_r_clas=p_r_clas, df=p_r_clas, tum_df=all_tum_tpms, nodes_df=nodes_df, prefix_col=\"\", main_title=\"PPARG/RARG classifier genes\")"
   ]
  },
  {
   "cell_type": "code",
   "execution_count": null,
   "metadata": {},
   "outputs": [],
   "source": [
    "# Show community sizes\n",
    "if 0:\n",
    "    dmy_df = nodes_df.copy(deep=True)\n",
    "    dmy_df.sort_values(by=\"max_b\", inplace=True)\n",
    "    dmy_df[\"max_b\"] = dmy_df[\"max_b\"].astype(str)\n",
    "    px.histogram(dmy_df, x=\"max_b\", text_auto=True, title=\"Comunity sizes\")"
   ]
  },
  {
   "cell_type": "markdown",
   "metadata": {},
   "source": [
    "### Pre-processing RAPH's list"
   ]
  },
  {
   "cell_type": "code",
   "execution_count": null,
   "metadata": {},
   "outputs": [],
   "source": [
    "# pre-processing RAPH's list\n",
    "if 0:\n",
    "    excel_file = pd.ExcelFile(f\"{data_base}/metadata/nuclear_receptor/PPARG_RARG significant 2 fold.xlsx\")\n",
    "\n",
    "    comb_df = pd.DataFrame()\n",
    "    for sheet_name in excel_file.sheet_names:\n",
    "        df = pd.read_excel(excel_file, sheet_name=sheet_name)\n",
    "        r_cols = {}\n",
    "        new_name = sheet_name.replace(\" sig 2 fold \", \"_\")\n",
    "        for col in df.columns:\n",
    "            r_cols[col] = f\"{col}_{new_name}\"\n",
    "\n",
    "        comb_df = pd.concat([comb_df, df.rename(columns=r_cols)], axis=1)\n",
    "\n",
    "    comb_df.to_csv(f\"{data_base}/metadata//nuclear_receptor/pparg_rarg_up_dn_sig.tsv\", sep=\"\\t\", index=False)"
   ]
  },
  {
   "cell_type": "markdown",
   "metadata": {},
   "source": [
    "# hSBM visualisation"
   ]
  },
  {
   "cell_type": "code",
   "execution_count": 42,
   "metadata": {},
   "outputs": [],
   "source": [
    "sel_gt: GtExp = hsbm_v3.exps[\"sigmoid_5K_6TF_hsbm\"]\n",
    "gt_g: gt.Graph = sel_gt.gt_g\n",
    "\n",
    "com_df, _ = sel_gt.hsbm_get_gt_df()\n",
    "sel_gt.graph_type = \"sbm\"\n",
    "sel_gt.nodes_df[\"node_idx\"] = com_df[\"node_idx\"]\n",
    "sel_gt.nodes_df[\"max_b\"] = com_df[\"max_b\"]\n",
    "\n",
    "sel_gt.hsbm_add_vp(mut_df=tcga_mutations_df)\n",
    "sel_gt.add_gt_prop_draw(sel_gt.gt_g, com_df=com_df, tf_list=tf_list)\n",
    "\n",
    "gt_state: gt.NestedBlockState = sel_gt.hstateObj[\"state\"]\n",
    "pv = sel_gt.hstateObj[\"pv\"]\n",
    "\n",
    "vp_dg = gt_g.degree_property_map(deg=\"total\", weight=gt_g.ep[\"weight\"])"
   ]
  },
  {
   "cell_type": "code",
   "execution_count": null,
   "metadata": {},
   "outputs": [],
   "source": [
    "sel_gt.gt_g.set_vertex_filter(None)\n",
    "# sel_gt.show_community(communities=[19, 25, 29])\n",
    "# sel_gt.gt_g.set_vertex_filter(None)"
   ]
  },
  {
   "cell_type": "code",
   "execution_count": 45,
   "metadata": {},
   "outputs": [],
   "source": [
    "draw_results = gt_state.draw(\n",
    "    # pos=pos,\n",
    "    layout=\"sfdp\",\n",
    "    # vertex_shape=\"pie\",\n",
    "    # vertex_pie_fractions=pv,\n",
    "    inline=False,\n",
    "    # vertex_color=gt_g.vp[\"colors_rank\"],\n",
    "    # vertex_color=gt.prop_to_size(gt_g.vp[\"modCon_rank\"], 0, 100, power=0.1),\n",
    "    vertex_text=gt_g.vp.prcsd_gene,\n",
    "    display_props=gt_g.vp.display_prop,\n",
    "    # subsample_edgesint=int(gt_g.num_edges() * 0.5),\n",
    "    output_size=(1600, 1600),  # good to visualised in Notebook\n",
    "    # ######## For mut_count ########\n",
    "    # vertex_size=gt.prop_to_size((gt_g.vp[\"sel_com\"]), 1, 10, power=0.5),\n",
    "    # vertex_font_size=gt.prop_to_size(gt_g.vp.is_tf, 15, 30, power=0.5),\n",
    "    # vertex_font_size=gt.prop_to_size(gt_g.vp.is_tf, 5, 10, power=0.5),\n",
    "    # edge_pen_width=gt.prop_to_size(gt_g.ep.weight, 2, 10, power=1),\n",
    "    # vertex_size=gt.prop_to_size(vp_dg, 35, 35, power=1),\n",
    "    ######## is TF ########\n",
    "    # vertex_size=gt.prop_to_size(gt_g.vp.is_tf, 10, 30, power=0.5),\n",
    "    # vertex_font_size=gt.prop_to_size(gt_g.vp.mut_count, 5, 20, power=1),\n",
    "    ##### edges properties\n",
    "    # edge_pen_width=gt.prop_to_size(gt_g.ep.weight, 5, 10, power=0.01, log=True),\n",
    "    # output=f\"{figures_path}/sel_communities.pdf\",\n",
    "    # hide=0,\n",
    "    update_layout=False,\n",
    "    nodesfirst=False,\n",
    "    # beta=0.7,\n",
    "    # chord_scale=5,\n",
    "    # display_props_size=16,\n",
    ")"
   ]
  },
  {
   "cell_type": "markdown",
   "metadata": {},
   "source": [
    "# Others"
   ]
  },
  {
   "cell_type": "markdown",
   "metadata": {},
   "source": [
    "## Wobble genes"
   ]
  },
  {
   "cell_type": "code",
   "execution_count": 27,
   "metadata": {},
   "outputs": [
    {
     "data": {
      "application/vnd.plotly.v1+json": {
       "config": {
        "plotlyServerURL": "https://plot.ly"
       },
       "data": [
        {
         "alignmentgroup": "True",
         "hovertemplate": "variable=count<br>max_b=%{x}<br>value=%{y}<extra></extra>",
         "legendgroup": "count",
         "marker": {
          "color": "#F8766D",
          "pattern": {
           "shape": ""
          }
         },
         "name": "count",
         "offsetgroup": "count",
         "orientation": "v",
         "showlegend": true,
         "textposition": "auto",
         "texttemplate": "%{y}",
         "type": "bar",
         "x": [
          0,
          1,
          2,
          3,
          4,
          5,
          6,
          7,
          8,
          9,
          10,
          11,
          12,
          13,
          14,
          15,
          16,
          17,
          18,
          19,
          20,
          21,
          22,
          23,
          24,
          25,
          26,
          27,
          28,
          29,
          30,
          31,
          32,
          33,
          34,
          35,
          36,
          37,
          38,
          39,
          40,
          41,
          42,
          43,
          44
         ],
         "xaxis": "x",
         "y": [
          null,
          null,
          null,
          null,
          7,
          null,
          null,
          null,
          null,
          1,
          null,
          1,
          null,
          8,
          25,
          null,
          null,
          15,
          null,
          12,
          7,
          6,
          18,
          86,
          3,
          null,
          35,
          4,
          null,
          24,
          null,
          5,
          null,
          1,
          46,
          84,
          11,
          44,
          9,
          14,
          6,
          1,
          null,
          68,
          8
         ],
         "yaxis": "y"
        },
        {
         "alignmentgroup": "True",
         "hovertemplate": "variable=orig_size<br>max_b=%{x}<br>value=%{y}<extra></extra>",
         "legendgroup": "orig_size",
         "marker": {
          "color": "#A3A500",
          "pattern": {
           "shape": ""
          }
         },
         "name": "orig_size",
         "offsetgroup": "orig_size",
         "orientation": "v",
         "showlegend": true,
         "textposition": "auto",
         "texttemplate": "%{y}",
         "type": "bar",
         "x": [
          0,
          1,
          2,
          3,
          4,
          5,
          6,
          7,
          8,
          9,
          10,
          11,
          12,
          13,
          14,
          15,
          16,
          17,
          18,
          19,
          20,
          21,
          22,
          23,
          24,
          25,
          26,
          27,
          28,
          29,
          30,
          31,
          32,
          33,
          34,
          35,
          36,
          37,
          38,
          39,
          40,
          41,
          42,
          43,
          44
         ],
         "xaxis": "x",
         "y": [
          807,
          9,
          10,
          4,
          117,
          10,
          225,
          2,
          12,
          714,
          9,
          59,
          15,
          194,
          191,
          9,
          112,
          69,
          13,
          80,
          68,
          63,
          83,
          132,
          76,
          7,
          79,
          100,
          11,
          69,
          62,
          421,
          10,
          3,
          78,
          459,
          94,
          73,
          74,
          96,
          123,
          44,
          5,
          87,
          22
         ],
         "yaxis": "y"
        }
       ],
       "layout": {
        "barmode": "group",
        "legend": {
         "title": {
          "text": "variable"
         },
         "tracegroupgap": 0
        },
        "template": {
         "data": {
          "bar": [
           {
            "error_x": {
             "color": "rgb(51,51,51)"
            },
            "error_y": {
             "color": "rgb(51,51,51)"
            },
            "marker": {
             "line": {
              "color": "rgb(237,237,237)",
              "width": 0.5
             },
             "pattern": {
              "fillmode": "overlay",
              "size": 10,
              "solidity": 0.2
             }
            },
            "type": "bar"
           }
          ],
          "barpolar": [
           {
            "marker": {
             "line": {
              "color": "rgb(237,237,237)",
              "width": 0.5
             },
             "pattern": {
              "fillmode": "overlay",
              "size": 10,
              "solidity": 0.2
             }
            },
            "type": "barpolar"
           }
          ],
          "carpet": [
           {
            "aaxis": {
             "endlinecolor": "rgb(51,51,51)",
             "gridcolor": "white",
             "linecolor": "white",
             "minorgridcolor": "white",
             "startlinecolor": "rgb(51,51,51)"
            },
            "baxis": {
             "endlinecolor": "rgb(51,51,51)",
             "gridcolor": "white",
             "linecolor": "white",
             "minorgridcolor": "white",
             "startlinecolor": "rgb(51,51,51)"
            },
            "type": "carpet"
           }
          ],
          "choropleth": [
           {
            "colorbar": {
             "outlinewidth": 0,
             "tickcolor": "rgb(237,237,237)",
             "ticklen": 6,
             "ticks": "inside"
            },
            "type": "choropleth"
           }
          ],
          "contour": [
           {
            "colorbar": {
             "outlinewidth": 0,
             "tickcolor": "rgb(237,237,237)",
             "ticklen": 6,
             "ticks": "inside"
            },
            "colorscale": [
             [
              0,
              "rgb(20,44,66)"
             ],
             [
              1,
              "rgb(90,179,244)"
             ]
            ],
            "type": "contour"
           }
          ],
          "contourcarpet": [
           {
            "colorbar": {
             "outlinewidth": 0,
             "tickcolor": "rgb(237,237,237)",
             "ticklen": 6,
             "ticks": "inside"
            },
            "type": "contourcarpet"
           }
          ],
          "heatmap": [
           {
            "colorbar": {
             "outlinewidth": 0,
             "tickcolor": "rgb(237,237,237)",
             "ticklen": 6,
             "ticks": "inside"
            },
            "colorscale": [
             [
              0,
              "rgb(20,44,66)"
             ],
             [
              1,
              "rgb(90,179,244)"
             ]
            ],
            "type": "heatmap"
           }
          ],
          "heatmapgl": [
           {
            "colorbar": {
             "outlinewidth": 0,
             "tickcolor": "rgb(237,237,237)",
             "ticklen": 6,
             "ticks": "inside"
            },
            "colorscale": [
             [
              0,
              "rgb(20,44,66)"
             ],
             [
              1,
              "rgb(90,179,244)"
             ]
            ],
            "type": "heatmapgl"
           }
          ],
          "histogram": [
           {
            "marker": {
             "pattern": {
              "fillmode": "overlay",
              "size": 10,
              "solidity": 0.2
             }
            },
            "type": "histogram"
           }
          ],
          "histogram2d": [
           {
            "colorbar": {
             "outlinewidth": 0,
             "tickcolor": "rgb(237,237,237)",
             "ticklen": 6,
             "ticks": "inside"
            },
            "colorscale": [
             [
              0,
              "rgb(20,44,66)"
             ],
             [
              1,
              "rgb(90,179,244)"
             ]
            ],
            "type": "histogram2d"
           }
          ],
          "histogram2dcontour": [
           {
            "colorbar": {
             "outlinewidth": 0,
             "tickcolor": "rgb(237,237,237)",
             "ticklen": 6,
             "ticks": "inside"
            },
            "colorscale": [
             [
              0,
              "rgb(20,44,66)"
             ],
             [
              1,
              "rgb(90,179,244)"
             ]
            ],
            "type": "histogram2dcontour"
           }
          ],
          "mesh3d": [
           {
            "colorbar": {
             "outlinewidth": 0,
             "tickcolor": "rgb(237,237,237)",
             "ticklen": 6,
             "ticks": "inside"
            },
            "type": "mesh3d"
           }
          ],
          "parcoords": [
           {
            "line": {
             "colorbar": {
              "outlinewidth": 0,
              "tickcolor": "rgb(237,237,237)",
              "ticklen": 6,
              "ticks": "inside"
             }
            },
            "type": "parcoords"
           }
          ],
          "pie": [
           {
            "automargin": true,
            "type": "pie"
           }
          ],
          "scatter": [
           {
            "fillpattern": {
             "fillmode": "overlay",
             "size": 10,
             "solidity": 0.2
            },
            "type": "scatter"
           }
          ],
          "scatter3d": [
           {
            "line": {
             "colorbar": {
              "outlinewidth": 0,
              "tickcolor": "rgb(237,237,237)",
              "ticklen": 6,
              "ticks": "inside"
             }
            },
            "marker": {
             "colorbar": {
              "outlinewidth": 0,
              "tickcolor": "rgb(237,237,237)",
              "ticklen": 6,
              "ticks": "inside"
             }
            },
            "type": "scatter3d"
           }
          ],
          "scattercarpet": [
           {
            "marker": {
             "colorbar": {
              "outlinewidth": 0,
              "tickcolor": "rgb(237,237,237)",
              "ticklen": 6,
              "ticks": "inside"
             }
            },
            "type": "scattercarpet"
           }
          ],
          "scattergeo": [
           {
            "marker": {
             "colorbar": {
              "outlinewidth": 0,
              "tickcolor": "rgb(237,237,237)",
              "ticklen": 6,
              "ticks": "inside"
             }
            },
            "type": "scattergeo"
           }
          ],
          "scattergl": [
           {
            "marker": {
             "colorbar": {
              "outlinewidth": 0,
              "tickcolor": "rgb(237,237,237)",
              "ticklen": 6,
              "ticks": "inside"
             }
            },
            "type": "scattergl"
           }
          ],
          "scattermapbox": [
           {
            "marker": {
             "colorbar": {
              "outlinewidth": 0,
              "tickcolor": "rgb(237,237,237)",
              "ticklen": 6,
              "ticks": "inside"
             }
            },
            "type": "scattermapbox"
           }
          ],
          "scatterpolar": [
           {
            "marker": {
             "colorbar": {
              "outlinewidth": 0,
              "tickcolor": "rgb(237,237,237)",
              "ticklen": 6,
              "ticks": "inside"
             }
            },
            "type": "scatterpolar"
           }
          ],
          "scatterpolargl": [
           {
            "marker": {
             "colorbar": {
              "outlinewidth": 0,
              "tickcolor": "rgb(237,237,237)",
              "ticklen": 6,
              "ticks": "inside"
             }
            },
            "type": "scatterpolargl"
           }
          ],
          "scatterternary": [
           {
            "marker": {
             "colorbar": {
              "outlinewidth": 0,
              "tickcolor": "rgb(237,237,237)",
              "ticklen": 6,
              "ticks": "inside"
             }
            },
            "type": "scatterternary"
           }
          ],
          "surface": [
           {
            "colorbar": {
             "outlinewidth": 0,
             "tickcolor": "rgb(237,237,237)",
             "ticklen": 6,
             "ticks": "inside"
            },
            "colorscale": [
             [
              0,
              "rgb(20,44,66)"
             ],
             [
              1,
              "rgb(90,179,244)"
             ]
            ],
            "type": "surface"
           }
          ],
          "table": [
           {
            "cells": {
             "fill": {
              "color": "rgb(237,237,237)"
             },
             "line": {
              "color": "white"
             }
            },
            "header": {
             "fill": {
              "color": "rgb(217,217,217)"
             },
             "line": {
              "color": "white"
             }
            },
            "type": "table"
           }
          ]
         },
         "layout": {
          "annotationdefaults": {
           "arrowhead": 0,
           "arrowwidth": 1
          },
          "autotypenumbers": "strict",
          "coloraxis": {
           "colorbar": {
            "outlinewidth": 0,
            "tickcolor": "rgb(237,237,237)",
            "ticklen": 6,
            "ticks": "inside"
           }
          },
          "colorscale": {
           "sequential": [
            [
             0,
             "rgb(20,44,66)"
            ],
            [
             1,
             "rgb(90,179,244)"
            ]
           ],
           "sequentialminus": [
            [
             0,
             "rgb(20,44,66)"
            ],
            [
             1,
             "rgb(90,179,244)"
            ]
           ]
          },
          "colorway": [
           "#F8766D",
           "#A3A500",
           "#00BF7D",
           "#00B0F6",
           "#E76BF3"
          ],
          "font": {
           "color": "rgb(51,51,51)"
          },
          "geo": {
           "bgcolor": "white",
           "lakecolor": "white",
           "landcolor": "rgb(237,237,237)",
           "showlakes": true,
           "showland": true,
           "subunitcolor": "white"
          },
          "hoverlabel": {
           "align": "left"
          },
          "hovermode": "closest",
          "paper_bgcolor": "white",
          "plot_bgcolor": "rgb(237,237,237)",
          "polar": {
           "angularaxis": {
            "gridcolor": "white",
            "linecolor": "white",
            "showgrid": true,
            "tickcolor": "rgb(51,51,51)",
            "ticks": "outside"
           },
           "bgcolor": "rgb(237,237,237)",
           "radialaxis": {
            "gridcolor": "white",
            "linecolor": "white",
            "showgrid": true,
            "tickcolor": "rgb(51,51,51)",
            "ticks": "outside"
           }
          },
          "scene": {
           "xaxis": {
            "backgroundcolor": "rgb(237,237,237)",
            "gridcolor": "white",
            "gridwidth": 2,
            "linecolor": "white",
            "showbackground": true,
            "showgrid": true,
            "tickcolor": "rgb(51,51,51)",
            "ticks": "outside",
            "zerolinecolor": "white"
           },
           "yaxis": {
            "backgroundcolor": "rgb(237,237,237)",
            "gridcolor": "white",
            "gridwidth": 2,
            "linecolor": "white",
            "showbackground": true,
            "showgrid": true,
            "tickcolor": "rgb(51,51,51)",
            "ticks": "outside",
            "zerolinecolor": "white"
           },
           "zaxis": {
            "backgroundcolor": "rgb(237,237,237)",
            "gridcolor": "white",
            "gridwidth": 2,
            "linecolor": "white",
            "showbackground": true,
            "showgrid": true,
            "tickcolor": "rgb(51,51,51)",
            "ticks": "outside",
            "zerolinecolor": "white"
           }
          },
          "shapedefaults": {
           "fillcolor": "black",
           "line": {
            "width": 0
           },
           "opacity": 0.3
          },
          "ternary": {
           "aaxis": {
            "gridcolor": "white",
            "linecolor": "white",
            "showgrid": true,
            "tickcolor": "rgb(51,51,51)",
            "ticks": "outside"
           },
           "baxis": {
            "gridcolor": "white",
            "linecolor": "white",
            "showgrid": true,
            "tickcolor": "rgb(51,51,51)",
            "ticks": "outside"
           },
           "bgcolor": "rgb(237,237,237)",
           "caxis": {
            "gridcolor": "white",
            "linecolor": "white",
            "showgrid": true,
            "tickcolor": "rgb(51,51,51)",
            "ticks": "outside"
           }
          },
          "xaxis": {
           "automargin": true,
           "gridcolor": "white",
           "linecolor": "white",
           "showgrid": true,
           "tickcolor": "rgb(51,51,51)",
           "ticks": "outside",
           "title": {
            "standoff": 15
           },
           "zerolinecolor": "white"
          },
          "yaxis": {
           "automargin": true,
           "gridcolor": "white",
           "linecolor": "white",
           "showgrid": true,
           "tickcolor": "rgb(51,51,51)",
           "ticks": "outside",
           "title": {
            "standoff": 15
           },
           "zerolinecolor": "white"
          }
         }
        },
        "title": {
         "text": "How many of the genes in a community have a com membership 0.55"
        },
        "xaxis": {
         "anchor": "y",
         "domain": [
          0,
          1
         ],
         "dtick": 1,
         "tick0": 0,
         "tickmode": "linear",
         "title": {
          "text": "max_b"
         }
        },
        "yaxis": {
         "anchor": "x",
         "domain": [
          0,
          1
         ],
         "title": {
          "text": "value"
         }
        }
       }
      }
     },
     "metadata": {},
     "output_type": "display_data"
    }
   ],
   "source": [
    "prob_th = 0.55\n",
    "max_iters = com_df.max().max()\n",
    "th = max_iters * prob_th\n",
    "\n",
    "wobble_df = com_df[com_df < th].dropna().copy(deep=True)\n",
    "dmy_df = pd.concat(\n",
    "    [pd.DataFrame(wobble_df[\"max_b\"].value_counts()), pd.DataFrame(com_df[\"max_b\"].value_counts()).rename(columns={\"count\": \"orig_size\"})], axis=1\n",
    ").sort_index()\n",
    "\n",
    "fig = px.bar(\n",
    "    dmy_df.reset_index(),\n",
    "    x=\"max_b\",\n",
    "    y=[\"count\", \"orig_size\"],\n",
    "    title=f\"How many of the genes in a community have a com membership {prob_th}\",\n",
    "    barmode=\"group\",\n",
    "    text_auto=True,\n",
    ")\n",
    "fig = fig.update_layout(xaxis=dict(tickmode=\"linear\", tick0=0, dtick=1))\n",
    "fig.show()"
   ]
  },
  {
   "cell_type": "code",
   "execution_count": 33,
   "metadata": {},
   "outputs": [
    {
     "data": {
      "application/vnd.plotly.v1+json": {
       "config": {
        "plotlyServerURL": "https://plot.ly"
       },
       "data": [
        {
         "alignmentgroup": "True",
         "bingroup": "x",
         "histfunc": "sum",
         "hovertemplate": "max_b=%{x}<br>sum of mut_count=%{y}<extra></extra>",
         "legendgroup": "",
         "marker": {
          "color": "#F8766D",
          "pattern": {
           "shape": ""
          }
         },
         "name": "",
         "offsetgroup": "",
         "orientation": "v",
         "showlegend": false,
         "texttemplate": "%{value}",
         "type": "histogram",
         "x": [
          "34",
          "34",
          "17",
          "20",
          "23",
          "29",
          "34",
          "34",
          "23",
          "23",
          "22",
          "22",
          "27",
          "23",
          "35",
          "4",
          "14",
          "14",
          "14",
          "14",
          "29",
          "14",
          "36",
          "4",
          "35",
          "23",
          "4",
          "23",
          "23",
          "23",
          "38",
          "14",
          "23",
          "23",
          "36",
          "36",
          "13",
          "36",
          "14",
          "36",
          "36",
          "44",
          "23",
          "39",
          "34",
          "35",
          "34",
          "19",
          "19",
          "36",
          "33",
          "37",
          "27",
          "38",
          "27",
          "38",
          "23",
          "23",
          "43",
          "43",
          "34",
          "38",
          "34",
          "34",
          "34",
          "36",
          "19",
          "13",
          "4",
          "17",
          "19",
          "41",
          "19",
          "23",
          "29",
          "26",
          "37",
          "29",
          "34",
          "38",
          "23",
          "19",
          "31",
          "29",
          "17",
          "14",
          "14",
          "17",
          "23",
          "23",
          "23",
          "22",
          "23",
          "21",
          "23",
          "23",
          "23",
          "43",
          "17",
          "22",
          "26",
          "35",
          "35",
          "35",
          "43",
          "19",
          "19",
          "43",
          "21",
          "23",
          "43",
          "34",
          "34",
          "34",
          "34",
          "34",
          "34",
          "34",
          "34",
          "31",
          "34",
          "34",
          "34",
          "34",
          "31",
          "34",
          "34",
          "34",
          "26",
          "21",
          "35",
          "23",
          "23",
          "37",
          "23",
          "35",
          "23",
          "37",
          "22",
          "37",
          "35",
          "26",
          "29",
          "43",
          "26",
          "22",
          "34",
          "26",
          "36",
          "34",
          "34",
          "34",
          "34",
          "34",
          "38",
          "34",
          "34",
          "34",
          "34",
          "34",
          "34",
          "34",
          "11",
          "34",
          "34",
          "34",
          "37",
          "39",
          "44",
          "43",
          "17",
          "44",
          "23",
          "37",
          "23",
          "35",
          "14",
          "43",
          "43",
          "4",
          "17",
          "43",
          "23",
          "23",
          "35",
          "13",
          "43",
          "23",
          "37",
          "37",
          "35",
          "37",
          "43",
          "23",
          "22",
          "39",
          "43",
          "43",
          "26",
          "43",
          "37",
          "26",
          "43",
          "43",
          "23",
          "26",
          "38",
          "40",
          "29",
          "26",
          "39",
          "34",
          "23",
          "14",
          "26",
          "35",
          "35",
          "23",
          "26",
          "38",
          "37",
          "35",
          "23",
          "23",
          "23",
          "26",
          "43",
          "29",
          "43",
          "24",
          "43",
          "43",
          "23",
          "13",
          "22",
          "35",
          "37",
          "37",
          "37",
          "43",
          "4",
          "14",
          "4",
          "14",
          "36",
          "20",
          "37",
          "20",
          "35",
          "23",
          "23",
          "39",
          "17",
          "43",
          "23",
          "44",
          "22",
          "21",
          "17",
          "23",
          "23",
          "22",
          "23",
          "23",
          "23",
          "23",
          "23",
          "23",
          "23",
          "43",
          "26",
          "23",
          "35",
          "35",
          "23",
          "43",
          "23",
          "43",
          "23",
          "23",
          "20",
          "44",
          "23",
          "43",
          "43",
          "43",
          "23",
          "43",
          "40",
          "23",
          "20",
          "40",
          "43",
          "23",
          "23",
          "44",
          "23",
          "43",
          "40",
          "44",
          "43",
          "35",
          "37",
          "19",
          "23",
          "35",
          "40",
          "35",
          "37",
          "35",
          "43",
          "26",
          "35",
          "31",
          "37",
          "43",
          "37",
          "23",
          "23",
          "24",
          "35",
          "23",
          "22",
          "43",
          "35",
          "26",
          "23",
          "43",
          "35",
          "23",
          "44",
          "23",
          "43",
          "37",
          "37",
          "26",
          "26",
          "17",
          "29",
          "29",
          "17",
          "43",
          "26",
          "43",
          "35",
          "23",
          "26",
          "35",
          "35",
          "23",
          "21",
          "35",
          "35",
          "23",
          "40",
          "43",
          "43",
          "39",
          "35",
          "26",
          "23",
          "22",
          "35",
          "35",
          "35",
          "35",
          "35",
          "35",
          "35",
          "35",
          "37",
          "35",
          "35",
          "35",
          "35",
          "35",
          "19",
          "13",
          "39",
          "35",
          "43",
          "37",
          "37",
          "23",
          "43",
          "19",
          "29",
          "43",
          "26",
          "26",
          "35",
          "26",
          "26",
          "35",
          "35",
          "35",
          "26",
          "37",
          "35",
          "35",
          "37",
          "35",
          "35",
          "35",
          "35",
          "26",
          "35",
          "35",
          "37",
          "35",
          "26",
          "37",
          "26",
          "35",
          "35",
          "35",
          "26",
          "26",
          "35",
          "35",
          "26",
          "39",
          "17",
          "43",
          "20",
          "29",
          "29",
          "43",
          "39",
          "34",
          "35",
          "20",
          "37",
          "23",
          "35",
          "23",
          "37",
          "39",
          "43",
          "43",
          "22",
          "43",
          "35",
          "39",
          "39",
          "37",
          "37",
          "37",
          "37",
          "37",
          "37",
          "35",
          "39",
          "26",
          "35",
          "35",
          "21",
          "29",
          "37",
          "43",
          "29",
          "22",
          "22",
          "23",
          "14",
          "14",
          "13",
          "14",
          "35",
          "29",
          "22",
          "23",
          "43",
          "36",
          "29",
          "29",
          "14",
          "29",
          "29",
          "29",
          "14",
          "14",
          "14",
          "29",
          "22",
          "35",
          "35",
          "35",
          "35",
          "35",
          "9",
          "35",
          "35",
          "35",
          "35",
          "39",
          "35",
          "31",
          "37",
          "35",
          "35",
          "37",
          "17",
          "17",
          "43",
          "43",
          "43",
          "43",
          "24",
          "14",
          "23",
          "23",
          "13",
          "23",
          "23",
          "34",
          "43",
          "43",
          "29",
          "14",
          "14",
          "14",
          "14",
          "17",
          "38",
          "43",
          "43",
          "26",
          "43",
          "43",
          "43",
          "34",
          "43",
          "27",
          "22",
          "43",
          "23",
          "37",
          "43",
          "37",
          "43",
          "37",
          "37",
          "19",
          "29",
          "13",
          "26",
          "23",
          "23"
         ],
         "xaxis": "x",
         "y": [
          10,
          7,
          1,
          null,
          null,
          1,
          2,
          5,
          2,
          null,
          null,
          null,
          2,
          1,
          null,
          null,
          null,
          7,
          5,
          6,
          6,
          null,
          null,
          9,
          6,
          null,
          7,
          null,
          7,
          null,
          4,
          null,
          null,
          5,
          null,
          12,
          2,
          1,
          6,
          null,
          1,
          null,
          null,
          null,
          5,
          5,
          2,
          5,
          null,
          8,
          22,
          3,
          11,
          4,
          1,
          2,
          null,
          null,
          null,
          null,
          4,
          6,
          15,
          6,
          4,
          null,
          null,
          null,
          null,
          2,
          null,
          null,
          4,
          null,
          9,
          null,
          null,
          1,
          null,
          1,
          null,
          3,
          2,
          3,
          6,
          null,
          2,
          5,
          null,
          null,
          null,
          null,
          null,
          6,
          null,
          null,
          null,
          null,
          13,
          null,
          5,
          2,
          7,
          null,
          null,
          null,
          1,
          null,
          null,
          null,
          4,
          11,
          null,
          14,
          2,
          9,
          2,
          5,
          null,
          1,
          null,
          1,
          5,
          null,
          1,
          2,
          null,
          9,
          null,
          7,
          7,
          null,
          null,
          null,
          null,
          null,
          null,
          10,
          8,
          null,
          1,
          null,
          null,
          null,
          4,
          null,
          6,
          null,
          null,
          4,
          4,
          null,
          11,
          2,
          1,
          8,
          6,
          1,
          6,
          7,
          4,
          2,
          null,
          12,
          3,
          4,
          null,
          3,
          5,
          null,
          3,
          null,
          null,
          null,
          null,
          null,
          4,
          null,
          null,
          null,
          null,
          null,
          null,
          7,
          11,
          6,
          null,
          null,
          null,
          null,
          null,
          null,
          10,
          null,
          null,
          7,
          null,
          null,
          null,
          null,
          null,
          2,
          null,
          7,
          1,
          null,
          null,
          null,
          4,
          null,
          4,
          9,
          2,
          3,
          4,
          null,
          null,
          null,
          null,
          4,
          2,
          null,
          null,
          1,
          null,
          null,
          1,
          4,
          null,
          3,
          null,
          null,
          3,
          3,
          null,
          null,
          null,
          null,
          2,
          null,
          null,
          6,
          null,
          2,
          1,
          7,
          null,
          null,
          1,
          null,
          null,
          null,
          null,
          2,
          null,
          5,
          null,
          9,
          null,
          1,
          null,
          2,
          null,
          null,
          null,
          1,
          null,
          3,
          2,
          null,
          null,
          null,
          2,
          null,
          null,
          null,
          null,
          null,
          null,
          null,
          9,
          null,
          null,
          1,
          5,
          null,
          10,
          10,
          2,
          null,
          null,
          1,
          null,
          null,
          null,
          3,
          null,
          2,
          null,
          1,
          1,
          null,
          4,
          null,
          null,
          4,
          null,
          null,
          null,
          3,
          null,
          null,
          1,
          2,
          null,
          null,
          null,
          5,
          6,
          6,
          null,
          null,
          1,
          null,
          1,
          null,
          null,
          7,
          null,
          2,
          null,
          3,
          null,
          null,
          2,
          null,
          null,
          null,
          1,
          4,
          4,
          null,
          13,
          6,
          null,
          null,
          null,
          null,
          null,
          null,
          7,
          null,
          null,
          null,
          null,
          null,
          5,
          null,
          null,
          null,
          3,
          null,
          3,
          7,
          5,
          null,
          4,
          1,
          6,
          1,
          null,
          8,
          null,
          3,
          2,
          null,
          null,
          4,
          null,
          null,
          null,
          null,
          null,
          null,
          null,
          12,
          1,
          null,
          1,
          null,
          null,
          3,
          1,
          null,
          2,
          null,
          null,
          null,
          null,
          null,
          2,
          null,
          null,
          1,
          6,
          null,
          3,
          13,
          null,
          8,
          2,
          null,
          null,
          4,
          null,
          5,
          8,
          3,
          4,
          4,
          null,
          null,
          2,
          null,
          null,
          null,
          null,
          null,
          null,
          null,
          10,
          null,
          null,
          null,
          1,
          null,
          9,
          null,
          4,
          null,
          null,
          null,
          null,
          null,
          6,
          null,
          7,
          null,
          null,
          2,
          null,
          null,
          null,
          null,
          3,
          4,
          null,
          6,
          1,
          2,
          null,
          null,
          null,
          null,
          4,
          1,
          4,
          5,
          5,
          7,
          null,
          null,
          2,
          null,
          null,
          4,
          2,
          5,
          5,
          3,
          null,
          null,
          1,
          7,
          9,
          null,
          null,
          null,
          null,
          3,
          2,
          3,
          5,
          7,
          null,
          null,
          1,
          2,
          9,
          2,
          1,
          12,
          2,
          5,
          null,
          3,
          null,
          3,
          2,
          4,
          null,
          3,
          6,
          3,
          1,
          4,
          5,
          2,
          2,
          1,
          null,
          null,
          3,
          6,
          14,
          null,
          3,
          null,
          1,
          9,
          1,
          10,
          12,
          6,
          13,
          7,
          null,
          4,
          null,
          2,
          3,
          4,
          3,
          5,
          12,
          9,
          6,
          11,
          2
         ],
         "yaxis": "y"
        }
       ],
       "layout": {
        "barmode": "relative",
        "legend": {
         "tracegroupgap": 0
        },
        "template": {
         "data": {
          "bar": [
           {
            "error_x": {
             "color": "rgb(51,51,51)"
            },
            "error_y": {
             "color": "rgb(51,51,51)"
            },
            "marker": {
             "line": {
              "color": "rgb(237,237,237)",
              "width": 0.5
             },
             "pattern": {
              "fillmode": "overlay",
              "size": 10,
              "solidity": 0.2
             }
            },
            "type": "bar"
           }
          ],
          "barpolar": [
           {
            "marker": {
             "line": {
              "color": "rgb(237,237,237)",
              "width": 0.5
             },
             "pattern": {
              "fillmode": "overlay",
              "size": 10,
              "solidity": 0.2
             }
            },
            "type": "barpolar"
           }
          ],
          "carpet": [
           {
            "aaxis": {
             "endlinecolor": "rgb(51,51,51)",
             "gridcolor": "white",
             "linecolor": "white",
             "minorgridcolor": "white",
             "startlinecolor": "rgb(51,51,51)"
            },
            "baxis": {
             "endlinecolor": "rgb(51,51,51)",
             "gridcolor": "white",
             "linecolor": "white",
             "minorgridcolor": "white",
             "startlinecolor": "rgb(51,51,51)"
            },
            "type": "carpet"
           }
          ],
          "choropleth": [
           {
            "colorbar": {
             "outlinewidth": 0,
             "tickcolor": "rgb(237,237,237)",
             "ticklen": 6,
             "ticks": "inside"
            },
            "type": "choropleth"
           }
          ],
          "contour": [
           {
            "colorbar": {
             "outlinewidth": 0,
             "tickcolor": "rgb(237,237,237)",
             "ticklen": 6,
             "ticks": "inside"
            },
            "colorscale": [
             [
              0,
              "rgb(20,44,66)"
             ],
             [
              1,
              "rgb(90,179,244)"
             ]
            ],
            "type": "contour"
           }
          ],
          "contourcarpet": [
           {
            "colorbar": {
             "outlinewidth": 0,
             "tickcolor": "rgb(237,237,237)",
             "ticklen": 6,
             "ticks": "inside"
            },
            "type": "contourcarpet"
           }
          ],
          "heatmap": [
           {
            "colorbar": {
             "outlinewidth": 0,
             "tickcolor": "rgb(237,237,237)",
             "ticklen": 6,
             "ticks": "inside"
            },
            "colorscale": [
             [
              0,
              "rgb(20,44,66)"
             ],
             [
              1,
              "rgb(90,179,244)"
             ]
            ],
            "type": "heatmap"
           }
          ],
          "heatmapgl": [
           {
            "colorbar": {
             "outlinewidth": 0,
             "tickcolor": "rgb(237,237,237)",
             "ticklen": 6,
             "ticks": "inside"
            },
            "colorscale": [
             [
              0,
              "rgb(20,44,66)"
             ],
             [
              1,
              "rgb(90,179,244)"
             ]
            ],
            "type": "heatmapgl"
           }
          ],
          "histogram": [
           {
            "marker": {
             "pattern": {
              "fillmode": "overlay",
              "size": 10,
              "solidity": 0.2
             }
            },
            "type": "histogram"
           }
          ],
          "histogram2d": [
           {
            "colorbar": {
             "outlinewidth": 0,
             "tickcolor": "rgb(237,237,237)",
             "ticklen": 6,
             "ticks": "inside"
            },
            "colorscale": [
             [
              0,
              "rgb(20,44,66)"
             ],
             [
              1,
              "rgb(90,179,244)"
             ]
            ],
            "type": "histogram2d"
           }
          ],
          "histogram2dcontour": [
           {
            "colorbar": {
             "outlinewidth": 0,
             "tickcolor": "rgb(237,237,237)",
             "ticklen": 6,
             "ticks": "inside"
            },
            "colorscale": [
             [
              0,
              "rgb(20,44,66)"
             ],
             [
              1,
              "rgb(90,179,244)"
             ]
            ],
            "type": "histogram2dcontour"
           }
          ],
          "mesh3d": [
           {
            "colorbar": {
             "outlinewidth": 0,
             "tickcolor": "rgb(237,237,237)",
             "ticklen": 6,
             "ticks": "inside"
            },
            "type": "mesh3d"
           }
          ],
          "parcoords": [
           {
            "line": {
             "colorbar": {
              "outlinewidth": 0,
              "tickcolor": "rgb(237,237,237)",
              "ticklen": 6,
              "ticks": "inside"
             }
            },
            "type": "parcoords"
           }
          ],
          "pie": [
           {
            "automargin": true,
            "type": "pie"
           }
          ],
          "scatter": [
           {
            "fillpattern": {
             "fillmode": "overlay",
             "size": 10,
             "solidity": 0.2
            },
            "type": "scatter"
           }
          ],
          "scatter3d": [
           {
            "line": {
             "colorbar": {
              "outlinewidth": 0,
              "tickcolor": "rgb(237,237,237)",
              "ticklen": 6,
              "ticks": "inside"
             }
            },
            "marker": {
             "colorbar": {
              "outlinewidth": 0,
              "tickcolor": "rgb(237,237,237)",
              "ticklen": 6,
              "ticks": "inside"
             }
            },
            "type": "scatter3d"
           }
          ],
          "scattercarpet": [
           {
            "marker": {
             "colorbar": {
              "outlinewidth": 0,
              "tickcolor": "rgb(237,237,237)",
              "ticklen": 6,
              "ticks": "inside"
             }
            },
            "type": "scattercarpet"
           }
          ],
          "scattergeo": [
           {
            "marker": {
             "colorbar": {
              "outlinewidth": 0,
              "tickcolor": "rgb(237,237,237)",
              "ticklen": 6,
              "ticks": "inside"
             }
            },
            "type": "scattergeo"
           }
          ],
          "scattergl": [
           {
            "marker": {
             "colorbar": {
              "outlinewidth": 0,
              "tickcolor": "rgb(237,237,237)",
              "ticklen": 6,
              "ticks": "inside"
             }
            },
            "type": "scattergl"
           }
          ],
          "scattermapbox": [
           {
            "marker": {
             "colorbar": {
              "outlinewidth": 0,
              "tickcolor": "rgb(237,237,237)",
              "ticklen": 6,
              "ticks": "inside"
             }
            },
            "type": "scattermapbox"
           }
          ],
          "scatterpolar": [
           {
            "marker": {
             "colorbar": {
              "outlinewidth": 0,
              "tickcolor": "rgb(237,237,237)",
              "ticklen": 6,
              "ticks": "inside"
             }
            },
            "type": "scatterpolar"
           }
          ],
          "scatterpolargl": [
           {
            "marker": {
             "colorbar": {
              "outlinewidth": 0,
              "tickcolor": "rgb(237,237,237)",
              "ticklen": 6,
              "ticks": "inside"
             }
            },
            "type": "scatterpolargl"
           }
          ],
          "scatterternary": [
           {
            "marker": {
             "colorbar": {
              "outlinewidth": 0,
              "tickcolor": "rgb(237,237,237)",
              "ticklen": 6,
              "ticks": "inside"
             }
            },
            "type": "scatterternary"
           }
          ],
          "surface": [
           {
            "colorbar": {
             "outlinewidth": 0,
             "tickcolor": "rgb(237,237,237)",
             "ticklen": 6,
             "ticks": "inside"
            },
            "colorscale": [
             [
              0,
              "rgb(20,44,66)"
             ],
             [
              1,
              "rgb(90,179,244)"
             ]
            ],
            "type": "surface"
           }
          ],
          "table": [
           {
            "cells": {
             "fill": {
              "color": "rgb(237,237,237)"
             },
             "line": {
              "color": "white"
             }
            },
            "header": {
             "fill": {
              "color": "rgb(217,217,217)"
             },
             "line": {
              "color": "white"
             }
            },
            "type": "table"
           }
          ]
         },
         "layout": {
          "annotationdefaults": {
           "arrowhead": 0,
           "arrowwidth": 1
          },
          "autotypenumbers": "strict",
          "coloraxis": {
           "colorbar": {
            "outlinewidth": 0,
            "tickcolor": "rgb(237,237,237)",
            "ticklen": 6,
            "ticks": "inside"
           }
          },
          "colorscale": {
           "sequential": [
            [
             0,
             "rgb(20,44,66)"
            ],
            [
             1,
             "rgb(90,179,244)"
            ]
           ],
           "sequentialminus": [
            [
             0,
             "rgb(20,44,66)"
            ],
            [
             1,
             "rgb(90,179,244)"
            ]
           ]
          },
          "colorway": [
           "#F8766D",
           "#A3A500",
           "#00BF7D",
           "#00B0F6",
           "#E76BF3"
          ],
          "font": {
           "color": "rgb(51,51,51)"
          },
          "geo": {
           "bgcolor": "white",
           "lakecolor": "white",
           "landcolor": "rgb(237,237,237)",
           "showlakes": true,
           "showland": true,
           "subunitcolor": "white"
          },
          "hoverlabel": {
           "align": "left"
          },
          "hovermode": "closest",
          "paper_bgcolor": "white",
          "plot_bgcolor": "rgb(237,237,237)",
          "polar": {
           "angularaxis": {
            "gridcolor": "white",
            "linecolor": "white",
            "showgrid": true,
            "tickcolor": "rgb(51,51,51)",
            "ticks": "outside"
           },
           "bgcolor": "rgb(237,237,237)",
           "radialaxis": {
            "gridcolor": "white",
            "linecolor": "white",
            "showgrid": true,
            "tickcolor": "rgb(51,51,51)",
            "ticks": "outside"
           }
          },
          "scene": {
           "xaxis": {
            "backgroundcolor": "rgb(237,237,237)",
            "gridcolor": "white",
            "gridwidth": 2,
            "linecolor": "white",
            "showbackground": true,
            "showgrid": true,
            "tickcolor": "rgb(51,51,51)",
            "ticks": "outside",
            "zerolinecolor": "white"
           },
           "yaxis": {
            "backgroundcolor": "rgb(237,237,237)",
            "gridcolor": "white",
            "gridwidth": 2,
            "linecolor": "white",
            "showbackground": true,
            "showgrid": true,
            "tickcolor": "rgb(51,51,51)",
            "ticks": "outside",
            "zerolinecolor": "white"
           },
           "zaxis": {
            "backgroundcolor": "rgb(237,237,237)",
            "gridcolor": "white",
            "gridwidth": 2,
            "linecolor": "white",
            "showbackground": true,
            "showgrid": true,
            "tickcolor": "rgb(51,51,51)",
            "ticks": "outside",
            "zerolinecolor": "white"
           }
          },
          "shapedefaults": {
           "fillcolor": "black",
           "line": {
            "width": 0
           },
           "opacity": 0.3
          },
          "ternary": {
           "aaxis": {
            "gridcolor": "white",
            "linecolor": "white",
            "showgrid": true,
            "tickcolor": "rgb(51,51,51)",
            "ticks": "outside"
           },
           "baxis": {
            "gridcolor": "white",
            "linecolor": "white",
            "showgrid": true,
            "tickcolor": "rgb(51,51,51)",
            "ticks": "outside"
           },
           "bgcolor": "rgb(237,237,237)",
           "caxis": {
            "gridcolor": "white",
            "linecolor": "white",
            "showgrid": true,
            "tickcolor": "rgb(51,51,51)",
            "ticks": "outside"
           }
          },
          "xaxis": {
           "automargin": true,
           "gridcolor": "white",
           "linecolor": "white",
           "showgrid": true,
           "tickcolor": "rgb(51,51,51)",
           "ticks": "outside",
           "title": {
            "standoff": 15
           },
           "zerolinecolor": "white"
          },
          "yaxis": {
           "automargin": true,
           "gridcolor": "white",
           "linecolor": "white",
           "showgrid": true,
           "tickcolor": "rgb(51,51,51)",
           "ticks": "outside",
           "title": {
            "standoff": 15
           },
           "zerolinecolor": "white"
          }
         }
        },
        "title": {
         "text": "Mutations in wobble genes"
        },
        "xaxis": {
         "anchor": "y",
         "domain": [
          0,
          1
         ],
         "title": {
          "text": "max_b"
         }
        },
        "yaxis": {
         "anchor": "x",
         "domain": [
          0,
          1
         ],
         "title": {
          "text": "sum of mut_count"
         }
        }
       }
      }
     },
     "metadata": {},
     "output_type": "display_data"
    }
   ],
   "source": [
    "wobble_df[\"mut_count\"] = tcga_mutations_df[\"count\"]\n",
    "wobble_df[\"mean\"] = nodes_df[\"mean\"]\n",
    "wobble_df[\"median\"] = nodes_df[\"median\"]\n",
    "wobble_df[\"TF\"] = nodes_df[\"TF\"].astype(str)\n",
    "wobble_df[\"std\"] = nodes_df[\"std\"]\n",
    "\n",
    "wobble_df[\"max_b\"] = wobble_df[\"max_b\"].astype(str)\n",
    "fig = px.histogram(\n",
    "    wobble_df.reset_index(names=\"gene\"),\n",
    "    x=\"max_b\",\n",
    "    y=\"mut_count\",\n",
    "    title=\"Mutations in wobble genes\",\n",
    "    # color=\"TF\",\n",
    "    hover_data=[\"gene\", \"mut_count\", \"TF\"],\n",
    "    text_auto=True,\n",
    ")\n",
    "fig.show()"
   ]
  },
  {
   "cell_type": "markdown",
   "metadata": {},
   "source": [
    "## Find the neighbours communities"
   ]
  },
  {
   "cell_type": "code",
   "execution_count": 34,
   "metadata": {},
   "outputs": [],
   "source": [
    "if 1:\n",
    "    # 1. get the neighbours for each node and their community\n",
    "    comm_neighbours = {}\n",
    "    for node, comm in enumerate(gt_g.vp[\"max_b\"]):\n",
    "        neighbours = gt_g.get_out_neighbours(node, [gt_g.vp[\"max_b\"]])\n",
    "        if comm not in comm_neighbours.keys():\n",
    "            comm_neighbours[comm] = neighbours\n",
    "        else:\n",
    "            comm_neighbours[comm] = np.concatenate((comm_neighbours[comm], neighbours))\n",
    "\n",
    "    # 2. Transform the results in a DataFrame\n",
    "    neighbours_df = {}\n",
    "    for key in comm_neighbours.keys():\n",
    "        neighbours_df[key] = pd.DataFrame(comm_neighbours[key], columns=[\"idx\", \"max_b\"])\n",
    "\n",
    "    # 4. Aggregate the data at communities level neigbhours\n",
    "    communities = list(sorted(nodes_df[\"max_b\"].unique()))\n",
    "    intra_connected = pd.DataFrame(0, columns=communities, index=communities)\n",
    "\n",
    "    for key in neighbours_df.keys():\n",
    "        for com, num in neighbours_df[key][\"max_b\"].value_counts().items():\n",
    "            intra_connected.loc[key, com] = num\n",
    "\n",
    "    intra_connected.replace(0, 1, inplace=True)\n",
    "    # 5. Rank that\n",
    "    intra_connected_rank = intra_connected.rank(ascending=True)\n",
    "\n",
    "neighbours_df[0][\"max_b\"].value_counts()"
   ]
  },
  {
   "cell_type": "markdown",
   "metadata": {},
   "source": [
    "## Shortest path"
   ]
  },
  {
   "cell_type": "code",
   "execution_count": 36,
   "metadata": {},
   "outputs": [],
   "source": [
    "# 1. get the neighbours for each node and their community\n",
    "comm_neighbours = {}\n",
    "for node, comm in enumerate(gt_g.vp[\"max_b\"]):\n",
    "    neighbours = gt_g.get_out_neighbours(node, [gt_g.vp[\"max_b\"]])\n",
    "    if comm not in comm_neighbours.keys():\n",
    "        comm_neighbours[comm] = neighbours\n",
    "    else:\n",
    "        comm_neighbours[comm] = np.concatenate((comm_neighbours[comm], neighbours))\n",
    "\n",
    "# 2. Transform the results in a DataFrame\n",
    "neighbours_df = {}\n",
    "for key in comm_neighbours.keys():\n",
    "    neighbours_df[key] = pd.DataFrame(comm_neighbours[key], columns=[\"idx\", \"max_b\"])\n",
    "\n",
    "# 4. Aggregate the data at communities level neigbhours\n",
    "communities = list(sorted(nodes_df[\"max_b\"].unique()))\n",
    "intra_connected = pd.DataFrame(0, columns=communities, index=communities)\n",
    "\n",
    "for key in neighbours_df.keys():\n",
    "    for com, num in neighbours_df[key][\"max_b\"].value_counts().items():\n",
    "        intra_connected.loc[key, com] = num\n",
    "\n",
    "intra_connected.replace(0, 1, inplace=True)\n",
    "# 5. Rank that\n",
    "intra_connected_rank = intra_connected.rank(ascending=True)"
   ]
  },
  {
   "cell_type": "code",
   "execution_count": 41,
   "metadata": {},
   "outputs": [],
   "source": [
    "# get ModCon rank 1 genes\n",
    "comb_df = pd.concat([com_df, nodes_df[[\"ModCon_Rank\"]]], axis=1)[[\"max_b\", \"ModCon_Rank\", \"node_idx\"]]\n",
    "comb_df[\"node_idx\"] = comb_df[\"node_idx\"].astype(int)\n",
    "rank_1_df = comb_df.loc[comb_df[\"ModCon_Rank\"] == 1].copy(deep=True).reset_index(names=\"gene_label\")\n",
    "\n",
    "# List to store each row of the future DataFrame\n",
    "shortest_paths_data = []\n",
    "\n",
    "# Calculate shortest paths\n",
    "for i, source_row in rank_1_df.iterrows():\n",
    "    for j, target_row in rank_1_df.iterrows():\n",
    "        if i != j:  # To avoid repeating calculations for the same pairs and computing paths to itself\n",
    "            source_vertex = source_row[\"node_idx\"]\n",
    "            target_vertex = target_row[\"node_idx\"]\n",
    "            # Calculate the shortest path\n",
    "            path, lengths = gt.shortest_path(gt_g, source=gt_g.vertex(source_vertex), target=gt_g.vertex(target_vertex))\n",
    "            # Create a record for this path\n",
    "            record = {\n",
    "                \"source\": source_vertex,\n",
    "                \"target\": target_vertex,\n",
    "                \"path_length\": len(path) - 1,  # Number of edges in the path\n",
    "                \"source_com\": source_row[\"max_b\"],\n",
    "                \"target_com\": target_row[\"max_b\"],\n",
    "                \"source_gene\": source_row[\"gene_label\"],\n",
    "                \"target_gene\": target_row[\"gene_label\"],\n",
    "                \"num_nodes\": intra_connected.loc[source_row[\"max_b\"], target_row[\"max_b\"]],\n",
    "                # \"path\": \"->\".join([str(v) for v in path]),\n",
    "            }\n",
    "            shortest_paths_data.append(record)\n",
    "\n",
    "# Convert list of paths data into a DataFrame\n",
    "shortest_paths_df = pd.DataFrame(shortest_paths_data)\n",
    "\n",
    "# Display the DataFrame to verify\n",
    "# shortest_paths_df"
   ]
  },
  {
   "cell_type": "markdown",
   "metadata": {},
   "source": [
    "## Gene membership table"
   ]
  },
  {
   "cell_type": "code",
   "execution_count": 39,
   "metadata": {},
   "outputs": [
    {
     "data": {
      "text/html": [
       "<div>\n",
       "<style scoped>\n",
       "    .dataframe tbody tr th:only-of-type {\n",
       "        vertical-align: middle;\n",
       "    }\n",
       "\n",
       "    .dataframe tbody tr th {\n",
       "        vertical-align: top;\n",
       "    }\n",
       "\n",
       "    .dataframe thead th {\n",
       "        text-align: right;\n",
       "    }\n",
       "</style>\n",
       "<table border=\"1\" class=\"dataframe\">\n",
       "  <thead>\n",
       "    <tr style=\"text-align: right;\">\n",
       "      <th></th>\n",
       "      <th>main_com</th>\n",
       "      <th>gene_membership</th>\n",
       "      <th>mut_count</th>\n",
       "      <th>mean</th>\n",
       "      <th>median</th>\n",
       "      <th>std</th>\n",
       "      <th>TF</th>\n",
       "      <th>P_lvl_1</th>\n",
       "      <th>P_lvl_2</th>\n",
       "    </tr>\n",
       "  </thead>\n",
       "  <tbody>\n",
       "    <tr>\n",
       "      <th>FOSB</th>\n",
       "      <td>0</td>\n",
       "      <td>[(0, 0.9362), (4, 0.0001), (20, 0.0001), (21, ...</td>\n",
       "      <td>2.0</td>\n",
       "      <td>252.0652</td>\n",
       "      <td>1.4375</td>\n",
       "      <td>521.5104</td>\n",
       "      <td>1</td>\n",
       "      <td>0</td>\n",
       "      <td>2</td>\n",
       "    </tr>\n",
       "    <tr>\n",
       "      <th>TIAM1</th>\n",
       "      <td>1</td>\n",
       "      <td>[(1, 1.0)]</td>\n",
       "      <td>16.0</td>\n",
       "      <td>12.4743</td>\n",
       "      <td>7.9086</td>\n",
       "      <td>14.7256</td>\n",
       "      <td>0</td>\n",
       "      <td>1</td>\n",
       "      <td>1</td>\n",
       "    </tr>\n",
       "    <tr>\n",
       "      <th>ELF3</th>\n",
       "      <td>1</td>\n",
       "      <td>[(1, 1.0)]</td>\n",
       "      <td>49.0</td>\n",
       "      <td>1664.9102</td>\n",
       "      <td>1434.5190</td>\n",
       "      <td>1533.9371</td>\n",
       "      <td>1</td>\n",
       "      <td>1</td>\n",
       "      <td>1</td>\n",
       "    </tr>\n",
       "    <tr>\n",
       "      <th>AHR</th>\n",
       "      <td>2</td>\n",
       "      <td>[(2, 1.0)]</td>\n",
       "      <td>23.0</td>\n",
       "      <td>108.7085</td>\n",
       "      <td>78.1893</td>\n",
       "      <td>81.3957</td>\n",
       "      <td>1</td>\n",
       "      <td>1</td>\n",
       "      <td>1</td>\n",
       "    </tr>\n",
       "    <tr>\n",
       "      <th>ABCC5</th>\n",
       "      <td>1</td>\n",
       "      <td>[(1, 1.0)]</td>\n",
       "      <td>20.0</td>\n",
       "      <td>75.5424</td>\n",
       "      <td>56.6611</td>\n",
       "      <td>61.5194</td>\n",
       "      <td>0</td>\n",
       "      <td>1</td>\n",
       "      <td>1</td>\n",
       "    </tr>\n",
       "    <tr>\n",
       "      <th>...</th>\n",
       "      <td>...</td>\n",
       "      <td>...</td>\n",
       "      <td>...</td>\n",
       "      <td>...</td>\n",
       "      <td>...</td>\n",
       "      <td>...</td>\n",
       "      <td>...</td>\n",
       "      <td>...</td>\n",
       "      <td>...</td>\n",
       "    </tr>\n",
       "    <tr>\n",
       "      <th>CBWD6</th>\n",
       "      <td>21</td>\n",
       "      <td>[(4, 0.0139), (19, 0.1721), (20, 0.0445), (21,...</td>\n",
       "      <td>0.0</td>\n",
       "      <td>12.8076</td>\n",
       "      <td>11.5661</td>\n",
       "      <td>7.8424</td>\n",
       "      <td>0</td>\n",
       "      <td>3</td>\n",
       "      <td>0</td>\n",
       "    </tr>\n",
       "    <tr>\n",
       "      <th>MDM2</th>\n",
       "      <td>36</td>\n",
       "      <td>[(19, 0.0583), (20, 0.0042), (22, 0.3047), (24...</td>\n",
       "      <td>4.0</td>\n",
       "      <td>92.7512</td>\n",
       "      <td>75.4506</td>\n",
       "      <td>97.5653</td>\n",
       "      <td>0</td>\n",
       "      <td>10</td>\n",
       "      <td>0</td>\n",
       "    </tr>\n",
       "    <tr>\n",
       "      <th>TXNRD1</th>\n",
       "      <td>26</td>\n",
       "      <td>[(20, 0.0032), (23, 0.0002), (26, 0.5143), (27...</td>\n",
       "      <td>6.0</td>\n",
       "      <td>97.8399</td>\n",
       "      <td>91.5946</td>\n",
       "      <td>60.3202</td>\n",
       "      <td>0</td>\n",
       "      <td>13</td>\n",
       "      <td>3</td>\n",
       "    </tr>\n",
       "    <tr>\n",
       "      <th>LMO7</th>\n",
       "      <td>23</td>\n",
       "      <td>[(4, 0.0003), (19, 0.0033), (20, 0.0065), (21,...</td>\n",
       "      <td>11.0</td>\n",
       "      <td>115.9678</td>\n",
       "      <td>113.1125</td>\n",
       "      <td>69.4531</td>\n",
       "      <td>0</td>\n",
       "      <td>11</td>\n",
       "      <td>6</td>\n",
       "    </tr>\n",
       "    <tr>\n",
       "      <th>ADM</th>\n",
       "      <td>23</td>\n",
       "      <td>[(20, 0.0409), (23, 0.5248)]</td>\n",
       "      <td>2.0</td>\n",
       "      <td>120.1550</td>\n",
       "      <td>111.6802</td>\n",
       "      <td>80.6420</td>\n",
       "      <td>0</td>\n",
       "      <td>11</td>\n",
       "      <td>6</td>\n",
       "    </tr>\n",
       "  </tbody>\n",
       "</table>\n",
       "<p>5000 rows × 9 columns</p>\n",
       "</div>"
      ],
      "text/plain": [
       "        main_com                                    gene_membership  \\\n",
       "FOSB           0  [(0, 0.9362), (4, 0.0001), (20, 0.0001), (21, ...   \n",
       "TIAM1          1                                         [(1, 1.0)]   \n",
       "ELF3           1                                         [(1, 1.0)]   \n",
       "AHR            2                                         [(2, 1.0)]   \n",
       "ABCC5          1                                         [(1, 1.0)]   \n",
       "...          ...                                                ...   \n",
       "CBWD6         21  [(4, 0.0139), (19, 0.1721), (20, 0.0445), (21,...   \n",
       "MDM2          36  [(19, 0.0583), (20, 0.0042), (22, 0.3047), (24...   \n",
       "TXNRD1        26  [(20, 0.0032), (23, 0.0002), (26, 0.5143), (27...   \n",
       "LMO7          23  [(4, 0.0003), (19, 0.0033), (20, 0.0065), (21,...   \n",
       "ADM           23                       [(20, 0.0409), (23, 0.5248)]   \n",
       "\n",
       "        mut_count       mean     median        std  TF  P_lvl_1  P_lvl_2  \n",
       "FOSB          2.0   252.0652     1.4375   521.5104   1        0        2  \n",
       "TIAM1        16.0    12.4743     7.9086    14.7256   0        1        1  \n",
       "ELF3         49.0  1664.9102  1434.5190  1533.9371   1        1        1  \n",
       "AHR          23.0   108.7085    78.1893    81.3957   1        1        1  \n",
       "ABCC5        20.0    75.5424    56.6611    61.5194   0        1        1  \n",
       "...           ...        ...        ...        ...  ..      ...      ...  \n",
       "CBWD6         0.0    12.8076    11.5661     7.8424   0        3        0  \n",
       "MDM2          4.0    92.7512    75.4506    97.5653   0       10        0  \n",
       "TXNRD1        6.0    97.8399    91.5946    60.3202   0       13        3  \n",
       "LMO7         11.0   115.9678   113.1125    69.4531   0       11        6  \n",
       "ADM           2.0   120.1550   111.6802    80.6420   0       11        6  \n",
       "\n",
       "[5000 rows x 9 columns]"
      ]
     },
     "execution_count": 39,
     "metadata": {},
     "output_type": "execute_result"
    }
   ],
   "source": [
    "max_iters = com_df.max().max()\n",
    "filtered_df = com_df[list(com_df.columns[:35])].copy(deep=True)\n",
    "filtered_df = round(filtered_df / max_iters, 4)\n",
    "non_zero_values = filtered_df.apply(lambda row: [(col.split(\"_\")[-1], value) for col, value in row.items() if value != 0], axis=1)\n",
    "\n",
    "filtered_df[\"gene_membership\"] = non_zero_values\n",
    "filtered_df[\"main_com\"] = com_df[\"max_b\"]\n",
    "filtered_df[\"mut_count\"] = nodes_df[\"count\"]\n",
    "filtered_df[\"mean\"] = nodes_df[\"mean\"]\n",
    "filtered_df[\"median\"] = nodes_df[\"median\"]\n",
    "filtered_df[\"TF\"] = nodes_df[\"TF\"]\n",
    "filtered_df[\"std\"] = nodes_df[\"std\"]\n",
    "filtered_df[\"P_lvl_1\"] = nodes_df[\"P_lvl_1\"]\n",
    "filtered_df[\"P_lvl_2\"] = nodes_df[\"P_lvl_2\"]\n",
    "filter = filtered_df[[\"main_com\", \"gene_membership\", \"mut_count\", \"mean\", \"median\", \"std\", \"TF\", \"P_lvl_1\", \"P_lvl_2\"]]\n",
    "\n",
    "# filter.to_csv(f\"{figures_path}/nodes_membership.tsv\", sep=\"\\t\")\n",
    "filter"
   ]
  }
 ],
 "metadata": {
  "kernelspec": {
   "display_name": "iNet_gt",
   "language": "python",
   "name": "python3"
  },
  "language_info": {
   "codemirror_mode": {
    "name": "ipython",
    "version": 3
   },
   "file_extension": ".py",
   "mimetype": "text/x-python",
   "name": "python",
   "nbconvert_exporter": "python",
   "pygments_lexer": "ipython3",
   "version": "3.11.8"
  }
 },
 "nbformat": 4,
 "nbformat_minor": 2
}
