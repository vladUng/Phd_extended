{
 "cells": [
  {
   "cell_type": "markdown",
   "metadata": {},
   "source": [
    "# Motivation\n",
    "\n",
    "In this Notebook, the stratification derived using the reward network is explored. The reward network is generated from the non-tumour dataset, using 5K genes, 3 edges per gene and 6 per TF. "
   ]
  },
  {
   "cell_type": "code",
   "execution_count": 1,
   "metadata": {},
   "outputs": [
    {
     "name": "stdout",
     "output_type": "stream",
     "text": [
      "The autoreload extension is already loaded. To reload it, use:\n",
      "  %reload_ext autoreload\n"
     ]
    }
   ],
   "source": [
    "%load_ext autoreload\n",
    "import pandas as pd\n",
    "import numpy as np\n",
    "import os\n",
    "import sys\n",
    "import igraph as ig\n",
    "import pickle\n",
    "\n",
    "import plotly.express as px\n",
    "from plotly.subplots import make_subplots\n",
    "import plotly.graph_objects as go\n",
    "import plotly.io as pio\n",
    "\n",
    "import multiprocess as mp\n",
    "\n",
    "SCRIPT_DIR = os.path.dirname(os.path.abspath(\"pcgna_processing.py\"))\n",
    "sys.path.append(os.path.dirname(SCRIPT_DIR))\n",
    "sys.path.append('/Users/vlad/Documents/Code/York/iNet_v2/src/')\n",
    "\n",
    "from NetworkAnalysis.ExperimentSet import ExperimentSet\n",
    "from NetworkAnalysis.NetworkComp import NetworkComp\n",
    "from NetworkAnalysis import GraphHelper as gh\n",
    "from NetworkAnalysis.utilities import sankey_consensus_plot as sky\n",
    "from NetworkAnalysis.utilities.helpers import save_fig\n",
    "from NetworkAnalysis.utilities.helpers import save_fig, survival_plot, survival_comp\n",
    "from NetworkAnalysis.GraphToolExp import GraphToolExperiment as GtExp\n",
    "import NetworkAnalysis.utilities.clustering as cs\n",
    "\n",
    "from NetworkAnalysis.dea import dea\n",
    "from NetworkAnalysis.dea import helpers as dea_hp\n",
    "from NetworkAnalysis.dea import gsea as gsea_hp\n",
    "\n",
    "# Gsea libraries\n",
    "import gseapy as gp\n",
    "import matplotlib.pyplot as plt\n",
    "\n",
    "import graph_tool.all as gt\n",
    "\n",
    "# %matplotlib inline\n",
    "\n",
    "pio.templates.default = \"ggplot2\"\n",
    "\n",
    "\n",
    "pool = mp.Pool(mp.cpu_count())"
   ]
  },
  {
   "cell_type": "code",
   "execution_count": 2,
   "metadata": {},
   "outputs": [],
   "source": [
    "results_path = \"../../results/exp/\"\n",
    "data_base = \"../../data/\"\n",
    "base_path = \"../../results/network_II/\"\n",
    "\n",
    "figures_path = \"../network_II/reward/\"\n",
    "\n",
    "# base_sbm_path = \"../../../iNet_v2/\"\n",
    "sbm_exps_path = \"sbm/\"\n",
    "\n",
    "vu_output = pd.read_csv(f\"{data_base}/metadata/VU_clustering_v3.tsv\", sep=\"\\t\", index_col=\"Sample\")\n",
    "\n",
    "tcga_mutations_df = pd.read_csv(f\"{data_base}/tumour/mutations_tcga.csv\")\n",
    "tcga_mutations_df = tcga_mutations_df[tcga_mutations_df[\"count\"] != 0].set_index(\"gene\")\n",
    "\n",
    "all_tum_tpms = pd.read_csv(f\"{data_base}/tumour/tum_TPMs_selected_genes_gc42_all_v4.tsv\", sep=\"\\t\", index_col=\"genes\")\n",
    "\n",
    "\n",
    "healthy_metadata = pd.read_csv(f\"{data_base}/metadata/healthy_bladder_metadata.tsv\", sep=\"\\t\", index_col=\"Sample\", dtype_backend=\"pyarrow\")\n",
    "\n",
    "# tf list\n",
    "tf_path = f\"{data_base}/metadata/TF_names_v_1.01.txt\"\n",
    "if os.path.exists(tf_path):\n",
    "    tf_list = np.genfromtxt(fname=tf_path, delimiter=\"\\t\", skip_header=1, dtype=\"str\")"
   ]
  },
  {
   "cell_type": "markdown",
   "metadata": {},
   "source": [
    "# Load experiments"
   ]
  },
  {
   "cell_type": "code",
   "execution_count": 3,
   "metadata": {},
   "outputs": [
    {
     "name": "stdout",
     "output_type": "stream",
     "text": [
      "##### Experiment labels:  dict_keys(['standard_5K_6TF_sbm', 'standard_5K_6TF_hsbm', 'sigmoid_5K_6TF_hsbm'])\n",
      "Loading Graph-Tool for standard_5K_6TF_hsbm\n",
      "Loading Graph-Tool for sigmoid_5K_6TF_hsbm\n"
     ]
    }
   ],
   "source": [
    "hsbm_v3 = ExperimentSet(\"v3\", base_path=base_path, exp_path=sbm_exps_path, mut_df=tcga_mutations_df, sel_sets=None, exp_type=\"iNet\")\n",
    "\n",
    "exps = {}\n",
    "for idx, exp in enumerate(hsbm_v3.get_exps()):\n",
    "    if exp.sbm_method != \"hsbm\":  # or idx != 2:\n",
    "        continue\n",
    "\n",
    "    print(f\"Loading Graph-Tool for {exp.type}\")\n",
    "    exp = GtExp.from_pgcna_inet(exp, rel_path=\"\")\n",
    "\n",
    "    # partitions from hSBM\n",
    "    exp.hsbm_add_vp(mut_df=tcga_mutations_df)\n",
    "    com_df, _ = exp.hsbm_get_gt_df()\n",
    "\n",
    "    exp.export_to_gephi(save=False, com_df=com_df)\n",
    "\n",
    "    # Need it for comparison\n",
    "    exps[exp.type] = exp\n",
    "\n",
    "hsbm_v3.exps = exps"
   ]
  },
  {
   "cell_type": "code",
   "execution_count": 4,
   "metadata": {},
   "outputs": [],
   "source": [
    "%autoreload 2\n",
    "sel_gt: GtExp = hsbm_v3.exps[\"sigmoid_5K_6TF_hsbm\"]\n",
    "gt_state: gt.NestedBlockState = sel_gt.hstateObj[\"state\"]\n",
    "\n",
    "sel_gt.hsbm_add_vp(mut_df=tcga_mutations_df)\n",
    "\n",
    "gt_g = sel_gt.gt_g\n",
    "pv = sel_gt.hstateObj[\"pv\"]\n",
    "pmode = sel_gt.hstateObj[\"pmode\"]\n",
    "\n",
    "com_df, _ = sel_gt.hsbm_get_gt_df()\n",
    "com_df[\"max_b\"] = com_df[\"P_lvl_0\"]\n",
    "\n",
    "gt.remove_self_loops(gt_g)\n",
    "\n",
    "######## ModCon and MEVS ########\n",
    "sel_gt.gt_modCon_MEV(all_tpms=sel_gt.tpm_df)\n",
    "\n",
    "# Compute and store the nodes/edges with all the information\n",
    "sel_gt.export_to_gephi(save=False, com_df = com_df)\n",
    "sel_gt.add_gt_prop_draw(gt_g, com_df=com_df, tf_list=tf_list)\n",
    "graph_stats = sel_gt.compute_graph_stats()\n",
    "\n",
    "nodes_df: pd.DataFrame = gh.add_stats_to(nodes_df=sel_gt.nodes_df, tpm_df=sel_gt.tpm_df)"
   ]
  },
  {
   "cell_type": "code",
   "execution_count": 5,
   "metadata": {},
   "outputs": [],
   "source": [
    "if 0:\n",
    "    nodes_df[[\"max_b\", \"ModCon_Rank\", \"mean\", \"median\", \"std\", \"var\", \"count\", \"ctrl_tf\"]].to_csv(figures_path + \"nodes_df_hsbm.tsv\", sep=\"\\t\")\n",
    "    # sel_gt.export_to_gephi(save=True, com_df=com_df[[\"max_b\", \"node_idx\"]])"
   ]
  },
  {
   "cell_type": "markdown",
   "metadata": {},
   "source": [
    "# Analysis"
   ]
  },
  {
   "cell_type": "markdown",
   "metadata": {},
   "source": [
    "## Most connected genes"
   ]
  },
  {
   "cell_type": "code",
   "execution_count": 6,
   "metadata": {},
   "outputs": [
    {
     "data": {
      "application/vnd.plotly.v1+json": {
       "config": {
        "plotlyServerURL": "https://plot.ly"
       },
       "data": [
        {
         "alignmentgroup": "True",
         "hovertemplate": "max_b=1<br>gene=%{x}<br>degree_t=%{y}<extra></extra>",
         "legendgroup": "1",
         "marker": {
          "color": "#F8766D",
          "pattern": {
           "shape": ""
          }
         },
         "name": "1",
         "offsetgroup": "1",
         "orientation": "v",
         "showlegend": true,
         "textposition": "auto",
         "texttemplate": "%{y}",
         "type": "bar",
         "x": [
          "ELF3",
          "CHD2",
          "KLF5",
          "ABCC5",
          "RIMS2",
          "EPHA2",
          "AKAP13",
          "TIAM1",
          "ATP8B1"
         ],
         "xaxis": "x",
         "y": [
          985,
          583,
          504,
          178,
          113,
          91,
          74,
          50,
          46
         ],
         "yaxis": "y"
        },
        {
         "alignmentgroup": "True",
         "hovertemplate": "max_b=10<br>gene=%{x}<br>degree_t=%{y}<extra></extra>",
         "legendgroup": "10",
         "marker": {
          "color": "#A3A500",
          "pattern": {
           "shape": ""
          }
         },
         "name": "10",
         "offsetgroup": "10",
         "orientation": "v",
         "showlegend": true,
         "textposition": "auto",
         "texttemplate": "%{y}",
         "type": "bar",
         "x": [
          "COL7A1",
          "MYH10",
          "FN1",
          "SACS",
          "PRKDC",
          "LAMA3",
          "SF3B3",
          "DENND5B",
          "RASAL2"
         ],
         "xaxis": "x",
         "y": [
          730,
          635,
          519,
          450,
          351,
          248,
          212,
          76,
          41
         ],
         "yaxis": "y"
        },
        {
         "alignmentgroup": "True",
         "hovertemplate": "max_b=2<br>gene=%{x}<br>degree_t=%{y}<extra></extra>",
         "legendgroup": "2",
         "marker": {
          "color": "#00BF7D",
          "pattern": {
           "shape": ""
          }
         },
         "name": "2",
         "offsetgroup": "2",
         "orientation": "v",
         "showlegend": true,
         "textposition": "auto",
         "texttemplate": "%{y}",
         "type": "bar",
         "x": [
          "AHR",
          "CREBBP",
          "NCOA1",
          "TACC2",
          "PAN2",
          "TP53BP2",
          "PCF11",
          "ITSN2",
          "ACACB",
          "DOT1L"
         ],
         "xaxis": "x",
         "y": [
          670,
          464,
          297,
          168,
          125,
          91,
          60,
          48,
          32,
          31
         ],
         "yaxis": "y"
        },
        {
         "alignmentgroup": "True",
         "hovertemplate": "max_b=28<br>gene=%{x}<br>degree_t=%{y}<extra></extra>",
         "legendgroup": "28",
         "marker": {
          "color": "#00B0F6",
          "pattern": {
           "shape": ""
          }
         },
         "name": "28",
         "offsetgroup": "28",
         "orientation": "v",
         "showlegend": true,
         "textposition": "auto",
         "texttemplate": "%{y}",
         "type": "bar",
         "x": [
          "PLXNB2",
          "DMXL2",
          "SMCHD1",
          "SCRIB",
          "PLEKHH2",
          "PTPRM",
          "RALGAPA2",
          "PPL",
          "NOTCH3",
          "PLEKHA7",
          "AFF1"
         ],
         "xaxis": "x",
         "y": [
          629,
          482,
          276,
          172,
          87,
          86,
          78,
          68,
          36,
          30,
          19
         ],
         "yaxis": "y"
        },
        {
         "alignmentgroup": "True",
         "hovertemplate": "max_b=32<br>gene=%{x}<br>degree_t=%{y}<extra></extra>",
         "legendgroup": "32",
         "marker": {
          "color": "#E76BF3",
          "pattern": {
           "shape": ""
          }
         },
         "name": "32",
         "offsetgroup": "32",
         "orientation": "v",
         "showlegend": true,
         "textposition": "auto",
         "texttemplate": "%{y}",
         "type": "bar",
         "x": [
          "RNF213",
          "HSPG2",
          "EPG5",
          "MPDZ",
          "CDKN2A",
          "SHROOM3",
          "PARP14",
          "OAS2",
          "ZNFX1"
         ],
         "xaxis": "x",
         "y": [
          600,
          558,
          252,
          251,
          186,
          112,
          112,
          29,
          23
         ],
         "yaxis": "y"
        },
        {
         "alignmentgroup": "True",
         "hovertemplate": "max_b=33<br>gene=%{x}<br>degree_t=%{y}<extra></extra>",
         "legendgroup": "33",
         "marker": {
          "color": "#F8766D",
          "pattern": {
           "shape": ""
          }
         },
         "name": "33",
         "offsetgroup": "33",
         "orientation": "v",
         "showlegend": true,
         "textposition": "auto",
         "texttemplate": "%{y}",
         "type": "bar",
         "x": [
          "TRANK1",
          "VPS13D",
          "LAMA4"
         ],
         "xaxis": "x",
         "y": [
          560,
          535,
          46
         ],
         "yaxis": "y"
        },
        {
         "alignmentgroup": "True",
         "hovertemplate": "max_b=8<br>gene=%{x}<br>degree_t=%{y}<extra></extra>",
         "legendgroup": "8",
         "marker": {
          "color": "#A3A500",
          "pattern": {
           "shape": ""
          }
         },
         "name": "8",
         "offsetgroup": "8",
         "orientation": "v",
         "showlegend": true,
         "textposition": "auto",
         "texttemplate": "%{y}",
         "type": "bar",
         "x": [
          "SPEN",
          "SMG1",
          "PCNT",
          "HIVEP2",
          "TBC1D1",
          "MXRA5",
          "HIVEP1",
          "PRDM2",
          "F8",
          "HIVEP3",
          "TRERF1"
         ],
         "xaxis": "x",
         "y": [
          400,
          195,
          134,
          83,
          54,
          51,
          45,
          39,
          37,
          24,
          21
         ],
         "yaxis": "y"
        },
        {
         "alignmentgroup": "True",
         "hovertemplate": "max_b=5<br>gene=%{x}<br>degree_t=%{y}<extra></extra>",
         "legendgroup": "5",
         "marker": {
          "color": "#00BF7D",
          "pattern": {
           "shape": ""
          }
         },
         "name": "5",
         "offsetgroup": "5",
         "orientation": "v",
         "showlegend": true,
         "textposition": "auto",
         "texttemplate": "%{y}",
         "type": "bar",
         "x": [
          "RHOB",
          "OBSCN",
          "HRAS",
          "BRD2",
          "SYNE1",
          "UTRN",
          "LRRCC1",
          "PPRC1",
          "AUTS2"
         ],
         "xaxis": "x",
         "y": [
          323,
          189,
          188,
          165,
          145,
          82,
          60,
          59,
          29
         ],
         "yaxis": "y"
        },
        {
         "alignmentgroup": "True",
         "hovertemplate": "max_b=18<br>gene=%{x}<br>degree_t=%{y}<extra></extra>",
         "legendgroup": "18",
         "marker": {
          "color": "#00B0F6",
          "pattern": {
           "shape": ""
          }
         },
         "name": "18",
         "offsetgroup": "18",
         "orientation": "v",
         "showlegend": true,
         "textposition": "auto",
         "texttemplate": "%{y}",
         "type": "bar",
         "x": [
          "FRY",
          "MYO1F",
          "CFAP70",
          "ADGRV1",
          "EFCAB5",
          "RERE",
          "PPARG",
          "SIPA1L2"
         ],
         "xaxis": "x",
         "y": [
          314,
          64,
          40,
          33,
          26,
          24,
          18,
          16
         ],
         "yaxis": "y"
        },
        {
         "alignmentgroup": "True",
         "hovertemplate": "max_b=15<br>gene=%{x}<br>degree_t=%{y}<extra></extra>",
         "legendgroup": "15",
         "marker": {
          "color": "#E76BF3",
          "pattern": {
           "shape": ""
          }
         },
         "name": "15",
         "offsetgroup": "15",
         "orientation": "v",
         "showlegend": true,
         "textposition": "auto",
         "texttemplate": "%{y}",
         "type": "bar",
         "x": [
          "PLEC",
          "DST",
          "ITPR2",
          "DYNC2H1",
          "DOCK4",
          "NRG1",
          "TP63"
         ],
         "xaxis": "x",
         "y": [
          310,
          265,
          186,
          50,
          36,
          19,
          18
         ],
         "yaxis": "y"
        },
        {
         "alignmentgroup": "True",
         "hovertemplate": "max_b=7<br>gene=%{x}<br>degree_t=%{y}<extra></extra>",
         "legendgroup": "7",
         "marker": {
          "color": "#F8766D",
          "pattern": {
           "shape": ""
          }
         },
         "name": "7",
         "offsetgroup": "7",
         "orientation": "v",
         "showlegend": true,
         "textposition": "auto",
         "texttemplate": "%{y}",
         "type": "bar",
         "x": [
          "DIAPH2",
          "ZFP36L2"
         ],
         "xaxis": "x",
         "y": [
          231,
          104
         ],
         "yaxis": "y"
        },
        {
         "alignmentgroup": "True",
         "hovertemplate": "max_b=3<br>gene=%{x}<br>degree_t=%{y}<extra></extra>",
         "legendgroup": "3",
         "marker": {
          "color": "#A3A500",
          "pattern": {
           "shape": ""
          }
         },
         "name": "3",
         "offsetgroup": "3",
         "orientation": "v",
         "showlegend": true,
         "textposition": "auto",
         "texttemplate": "%{y}",
         "type": "bar",
         "x": [
          "SYNE2",
          "FGFR3",
          "RBBP6",
          "SPAG17"
         ],
         "xaxis": "x",
         "y": [
          231,
          197,
          192,
          41
         ],
         "yaxis": "y"
        },
        {
         "alignmentgroup": "True",
         "hovertemplate": "max_b=42<br>gene=%{x}<br>degree_t=%{y}<extra></extra>",
         "legendgroup": "42",
         "marker": {
          "color": "#00BF7D",
          "pattern": {
           "shape": ""
          }
         },
         "name": "42",
         "offsetgroup": "42",
         "orientation": "v",
         "showlegend": true,
         "textposition": "auto",
         "texttemplate": "%{y}",
         "type": "bar",
         "x": [
          "LRP1",
          "NAV2",
          "LTBP1",
          "CSPG4"
         ],
         "xaxis": "x",
         "y": [
          201,
          38,
          37,
          22
         ],
         "yaxis": "y"
        },
        {
         "alignmentgroup": "True",
         "hovertemplate": "max_b=12<br>gene=%{x}<br>degree_t=%{y}<extra></extra>",
         "legendgroup": "12",
         "marker": {
          "color": "#00B0F6",
          "pattern": {
           "shape": ""
          }
         },
         "name": "12",
         "offsetgroup": "12",
         "orientation": "v",
         "showlegend": true,
         "textposition": "auto",
         "texttemplate": "%{y}",
         "type": "bar",
         "x": [
          "FAT2",
          "CCDC88A",
          "DSP",
          "BRCA1",
          "UTP20",
          "SMC4",
          "ATAD2",
          "STIL",
          "DOCK7",
          "KNTC1",
          "BUB1"
         ],
         "xaxis": "x",
         "y": [
          158,
          152,
          100,
          95,
          90,
          78,
          64,
          47,
          35,
          27,
          16
         ],
         "yaxis": "y"
        },
        {
         "alignmentgroup": "True",
         "hovertemplate": "max_b=25<br>gene=%{x}<br>degree_t=%{y}<extra></extra>",
         "legendgroup": "25",
         "marker": {
          "color": "#E76BF3",
          "pattern": {
           "shape": ""
          }
         },
         "name": "25",
         "offsetgroup": "25",
         "orientation": "v",
         "showlegend": true,
         "textposition": "auto",
         "texttemplate": "%{y}",
         "type": "bar",
         "x": [
          "MYH9",
          "WNK1",
          "RTTN",
          "MICAL2",
          "MYO10"
         ],
         "xaxis": "x",
         "y": [
          108,
          60,
          45,
          33,
          19
         ],
         "yaxis": "y"
        },
        {
         "alignmentgroup": "True",
         "hovertemplate": "max_b=27<br>gene=%{x}<br>degree_t=%{y}<extra></extra>",
         "legendgroup": "27",
         "marker": {
          "color": "#F8766D",
          "pattern": {
           "shape": ""
          }
         },
         "name": "27",
         "offsetgroup": "27",
         "orientation": "v",
         "showlegend": true,
         "textposition": "auto",
         "texttemplate": "%{y}",
         "type": "bar",
         "x": [
          "CELSR2",
          "ADGRL2",
          "LRRC7",
          "PPFIA3"
         ],
         "xaxis": "x",
         "y": [
          27,
          27,
          25,
          24
         ],
         "yaxis": "y"
        },
        {
         "alignmentgroup": "True",
         "hovertemplate": "max_b=21<br>gene=%{x}<br>degree_t=%{y}<extra></extra>",
         "legendgroup": "21",
         "marker": {
          "color": "#A3A500",
          "pattern": {
           "shape": ""
          }
         },
         "name": "21",
         "offsetgroup": "21",
         "orientation": "v",
         "showlegend": true,
         "textposition": "auto",
         "texttemplate": "%{y}",
         "type": "bar",
         "x": [
          "ZNF750"
         ],
         "xaxis": "x",
         "y": [
          25
         ],
         "yaxis": "y"
        },
        {
         "alignmentgroup": "True",
         "hovertemplate": "max_b=19<br>gene=%{x}<br>degree_t=%{y}<extra></extra>",
         "legendgroup": "19",
         "marker": {
          "color": "#00BF7D",
          "pattern": {
           "shape": ""
          }
         },
         "name": "19",
         "offsetgroup": "19",
         "orientation": "v",
         "showlegend": true,
         "textposition": "auto",
         "texttemplate": "%{y}",
         "type": "bar",
         "x": [
          "TNS1"
         ],
         "xaxis": "x",
         "y": [
          22
         ],
         "yaxis": "y"
        },
        {
         "alignmentgroup": "True",
         "hovertemplate": "max_b=26<br>gene=%{x}<br>degree_t=%{y}<extra></extra>",
         "legendgroup": "26",
         "marker": {
          "color": "#00B0F6",
          "pattern": {
           "shape": ""
          }
         },
         "name": "26",
         "offsetgroup": "26",
         "orientation": "v",
         "showlegend": true,
         "textposition": "auto",
         "texttemplate": "%{y}",
         "type": "bar",
         "x": [
          "ZNF471"
         ],
         "xaxis": "x",
         "y": [
          20
         ],
         "yaxis": "y"
        },
        {
         "alignmentgroup": "True",
         "hovertemplate": "max_b=20<br>gene=%{x}<br>degree_t=%{y}<extra></extra>",
         "legendgroup": "20",
         "marker": {
          "color": "#E76BF3",
          "pattern": {
           "shape": ""
          }
         },
         "name": "20",
         "offsetgroup": "20",
         "orientation": "v",
         "showlegend": true,
         "textposition": "auto",
         "texttemplate": "%{y}",
         "type": "bar",
         "x": [
          "QRICH2"
         ],
         "xaxis": "x",
         "y": [
          19
         ],
         "yaxis": "y"
        }
       ],
       "layout": {
        "barmode": "relative",
        "legend": {
         "title": {
          "text": "max_b"
         },
         "tracegroupgap": 0
        },
        "margin": {
         "t": 60
        },
        "template": {
         "data": {
          "bar": [
           {
            "error_x": {
             "color": "rgb(51,51,51)"
            },
            "error_y": {
             "color": "rgb(51,51,51)"
            },
            "marker": {
             "line": {
              "color": "rgb(237,237,237)",
              "width": 0.5
             },
             "pattern": {
              "fillmode": "overlay",
              "size": 10,
              "solidity": 0.2
             }
            },
            "type": "bar"
           }
          ],
          "barpolar": [
           {
            "marker": {
             "line": {
              "color": "rgb(237,237,237)",
              "width": 0.5
             },
             "pattern": {
              "fillmode": "overlay",
              "size": 10,
              "solidity": 0.2
             }
            },
            "type": "barpolar"
           }
          ],
          "carpet": [
           {
            "aaxis": {
             "endlinecolor": "rgb(51,51,51)",
             "gridcolor": "white",
             "linecolor": "white",
             "minorgridcolor": "white",
             "startlinecolor": "rgb(51,51,51)"
            },
            "baxis": {
             "endlinecolor": "rgb(51,51,51)",
             "gridcolor": "white",
             "linecolor": "white",
             "minorgridcolor": "white",
             "startlinecolor": "rgb(51,51,51)"
            },
            "type": "carpet"
           }
          ],
          "choropleth": [
           {
            "colorbar": {
             "outlinewidth": 0,
             "tickcolor": "rgb(237,237,237)",
             "ticklen": 6,
             "ticks": "inside"
            },
            "type": "choropleth"
           }
          ],
          "contour": [
           {
            "colorbar": {
             "outlinewidth": 0,
             "tickcolor": "rgb(237,237,237)",
             "ticklen": 6,
             "ticks": "inside"
            },
            "colorscale": [
             [
              0,
              "rgb(20,44,66)"
             ],
             [
              1,
              "rgb(90,179,244)"
             ]
            ],
            "type": "contour"
           }
          ],
          "contourcarpet": [
           {
            "colorbar": {
             "outlinewidth": 0,
             "tickcolor": "rgb(237,237,237)",
             "ticklen": 6,
             "ticks": "inside"
            },
            "type": "contourcarpet"
           }
          ],
          "heatmap": [
           {
            "colorbar": {
             "outlinewidth": 0,
             "tickcolor": "rgb(237,237,237)",
             "ticklen": 6,
             "ticks": "inside"
            },
            "colorscale": [
             [
              0,
              "rgb(20,44,66)"
             ],
             [
              1,
              "rgb(90,179,244)"
             ]
            ],
            "type": "heatmap"
           }
          ],
          "heatmapgl": [
           {
            "colorbar": {
             "outlinewidth": 0,
             "tickcolor": "rgb(237,237,237)",
             "ticklen": 6,
             "ticks": "inside"
            },
            "colorscale": [
             [
              0,
              "rgb(20,44,66)"
             ],
             [
              1,
              "rgb(90,179,244)"
             ]
            ],
            "type": "heatmapgl"
           }
          ],
          "histogram": [
           {
            "marker": {
             "pattern": {
              "fillmode": "overlay",
              "size": 10,
              "solidity": 0.2
             }
            },
            "type": "histogram"
           }
          ],
          "histogram2d": [
           {
            "colorbar": {
             "outlinewidth": 0,
             "tickcolor": "rgb(237,237,237)",
             "ticklen": 6,
             "ticks": "inside"
            },
            "colorscale": [
             [
              0,
              "rgb(20,44,66)"
             ],
             [
              1,
              "rgb(90,179,244)"
             ]
            ],
            "type": "histogram2d"
           }
          ],
          "histogram2dcontour": [
           {
            "colorbar": {
             "outlinewidth": 0,
             "tickcolor": "rgb(237,237,237)",
             "ticklen": 6,
             "ticks": "inside"
            },
            "colorscale": [
             [
              0,
              "rgb(20,44,66)"
             ],
             [
              1,
              "rgb(90,179,244)"
             ]
            ],
            "type": "histogram2dcontour"
           }
          ],
          "mesh3d": [
           {
            "colorbar": {
             "outlinewidth": 0,
             "tickcolor": "rgb(237,237,237)",
             "ticklen": 6,
             "ticks": "inside"
            },
            "type": "mesh3d"
           }
          ],
          "parcoords": [
           {
            "line": {
             "colorbar": {
              "outlinewidth": 0,
              "tickcolor": "rgb(237,237,237)",
              "ticklen": 6,
              "ticks": "inside"
             }
            },
            "type": "parcoords"
           }
          ],
          "pie": [
           {
            "automargin": true,
            "type": "pie"
           }
          ],
          "scatter": [
           {
            "fillpattern": {
             "fillmode": "overlay",
             "size": 10,
             "solidity": 0.2
            },
            "type": "scatter"
           }
          ],
          "scatter3d": [
           {
            "line": {
             "colorbar": {
              "outlinewidth": 0,
              "tickcolor": "rgb(237,237,237)",
              "ticklen": 6,
              "ticks": "inside"
             }
            },
            "marker": {
             "colorbar": {
              "outlinewidth": 0,
              "tickcolor": "rgb(237,237,237)",
              "ticklen": 6,
              "ticks": "inside"
             }
            },
            "type": "scatter3d"
           }
          ],
          "scattercarpet": [
           {
            "marker": {
             "colorbar": {
              "outlinewidth": 0,
              "tickcolor": "rgb(237,237,237)",
              "ticklen": 6,
              "ticks": "inside"
             }
            },
            "type": "scattercarpet"
           }
          ],
          "scattergeo": [
           {
            "marker": {
             "colorbar": {
              "outlinewidth": 0,
              "tickcolor": "rgb(237,237,237)",
              "ticklen": 6,
              "ticks": "inside"
             }
            },
            "type": "scattergeo"
           }
          ],
          "scattergl": [
           {
            "marker": {
             "colorbar": {
              "outlinewidth": 0,
              "tickcolor": "rgb(237,237,237)",
              "ticklen": 6,
              "ticks": "inside"
             }
            },
            "type": "scattergl"
           }
          ],
          "scattermapbox": [
           {
            "marker": {
             "colorbar": {
              "outlinewidth": 0,
              "tickcolor": "rgb(237,237,237)",
              "ticklen": 6,
              "ticks": "inside"
             }
            },
            "type": "scattermapbox"
           }
          ],
          "scatterpolar": [
           {
            "marker": {
             "colorbar": {
              "outlinewidth": 0,
              "tickcolor": "rgb(237,237,237)",
              "ticklen": 6,
              "ticks": "inside"
             }
            },
            "type": "scatterpolar"
           }
          ],
          "scatterpolargl": [
           {
            "marker": {
             "colorbar": {
              "outlinewidth": 0,
              "tickcolor": "rgb(237,237,237)",
              "ticklen": 6,
              "ticks": "inside"
             }
            },
            "type": "scatterpolargl"
           }
          ],
          "scatterternary": [
           {
            "marker": {
             "colorbar": {
              "outlinewidth": 0,
              "tickcolor": "rgb(237,237,237)",
              "ticklen": 6,
              "ticks": "inside"
             }
            },
            "type": "scatterternary"
           }
          ],
          "surface": [
           {
            "colorbar": {
             "outlinewidth": 0,
             "tickcolor": "rgb(237,237,237)",
             "ticklen": 6,
             "ticks": "inside"
            },
            "colorscale": [
             [
              0,
              "rgb(20,44,66)"
             ],
             [
              1,
              "rgb(90,179,244)"
             ]
            ],
            "type": "surface"
           }
          ],
          "table": [
           {
            "cells": {
             "fill": {
              "color": "rgb(237,237,237)"
             },
             "line": {
              "color": "white"
             }
            },
            "header": {
             "fill": {
              "color": "rgb(217,217,217)"
             },
             "line": {
              "color": "white"
             }
            },
            "type": "table"
           }
          ]
         },
         "layout": {
          "annotationdefaults": {
           "arrowhead": 0,
           "arrowwidth": 1
          },
          "autotypenumbers": "strict",
          "coloraxis": {
           "colorbar": {
            "outlinewidth": 0,
            "tickcolor": "rgb(237,237,237)",
            "ticklen": 6,
            "ticks": "inside"
           }
          },
          "colorscale": {
           "sequential": [
            [
             0,
             "rgb(20,44,66)"
            ],
            [
             1,
             "rgb(90,179,244)"
            ]
           ],
           "sequentialminus": [
            [
             0,
             "rgb(20,44,66)"
            ],
            [
             1,
             "rgb(90,179,244)"
            ]
           ]
          },
          "colorway": [
           "#F8766D",
           "#A3A500",
           "#00BF7D",
           "#00B0F6",
           "#E76BF3"
          ],
          "font": {
           "color": "rgb(51,51,51)"
          },
          "geo": {
           "bgcolor": "white",
           "lakecolor": "white",
           "landcolor": "rgb(237,237,237)",
           "showlakes": true,
           "showland": true,
           "subunitcolor": "white"
          },
          "hoverlabel": {
           "align": "left"
          },
          "hovermode": "closest",
          "paper_bgcolor": "white",
          "plot_bgcolor": "rgb(237,237,237)",
          "polar": {
           "angularaxis": {
            "gridcolor": "white",
            "linecolor": "white",
            "showgrid": true,
            "tickcolor": "rgb(51,51,51)",
            "ticks": "outside"
           },
           "bgcolor": "rgb(237,237,237)",
           "radialaxis": {
            "gridcolor": "white",
            "linecolor": "white",
            "showgrid": true,
            "tickcolor": "rgb(51,51,51)",
            "ticks": "outside"
           }
          },
          "scene": {
           "xaxis": {
            "backgroundcolor": "rgb(237,237,237)",
            "gridcolor": "white",
            "gridwidth": 2,
            "linecolor": "white",
            "showbackground": true,
            "showgrid": true,
            "tickcolor": "rgb(51,51,51)",
            "ticks": "outside",
            "zerolinecolor": "white"
           },
           "yaxis": {
            "backgroundcolor": "rgb(237,237,237)",
            "gridcolor": "white",
            "gridwidth": 2,
            "linecolor": "white",
            "showbackground": true,
            "showgrid": true,
            "tickcolor": "rgb(51,51,51)",
            "ticks": "outside",
            "zerolinecolor": "white"
           },
           "zaxis": {
            "backgroundcolor": "rgb(237,237,237)",
            "gridcolor": "white",
            "gridwidth": 2,
            "linecolor": "white",
            "showbackground": true,
            "showgrid": true,
            "tickcolor": "rgb(51,51,51)",
            "ticks": "outside",
            "zerolinecolor": "white"
           }
          },
          "shapedefaults": {
           "fillcolor": "black",
           "line": {
            "width": 0
           },
           "opacity": 0.3
          },
          "ternary": {
           "aaxis": {
            "gridcolor": "white",
            "linecolor": "white",
            "showgrid": true,
            "tickcolor": "rgb(51,51,51)",
            "ticks": "outside"
           },
           "baxis": {
            "gridcolor": "white",
            "linecolor": "white",
            "showgrid": true,
            "tickcolor": "rgb(51,51,51)",
            "ticks": "outside"
           },
           "bgcolor": "rgb(237,237,237)",
           "caxis": {
            "gridcolor": "white",
            "linecolor": "white",
            "showgrid": true,
            "tickcolor": "rgb(51,51,51)",
            "ticks": "outside"
           }
          },
          "xaxis": {
           "automargin": true,
           "gridcolor": "white",
           "linecolor": "white",
           "showgrid": true,
           "tickcolor": "rgb(51,51,51)",
           "ticks": "outside",
           "title": {
            "standoff": 15
           },
           "zerolinecolor": "white"
          },
          "yaxis": {
           "automargin": true,
           "gridcolor": "white",
           "linecolor": "white",
           "showgrid": true,
           "tickcolor": "rgb(51,51,51)",
           "ticks": "outside",
           "title": {
            "standoff": 15
           },
           "zerolinecolor": "white"
          }
         }
        },
        "xaxis": {
         "anchor": "y",
         "domain": [
          0,
          1
         ],
         "title": {
          "text": "gene"
         }
        },
        "yaxis": {
         "anchor": "x",
         "domain": [
          0,
          1
         ],
         "title": {
          "text": "degree_t"
         }
        }
       }
      }
     },
     "metadata": {},
     "output_type": "display_data"
    }
   ],
   "source": [
    "network_stats: pd.DataFrame = sel_gt.compute_graph_stats()\n",
    "network_stats[\"max_b\"] = nodes_df[\"max_b\"].astype(str)\n",
    "network_stats[\"Modularity Class\"] = nodes_df[\"Modularity Class\"].astype(str)\n",
    "\n",
    "# network_stats.sort_values(by=[col], ascending=False).to_csv(f\"{figures_path}/sigmoid_net_stats.tsv\", sep=\"\\t\")\n",
    "\n",
    "col = \"degree_t\"\n",
    "top_sel = network_stats.sort_values(by=[col], ascending=False).iloc[:120]\n",
    "px.bar(top_sel.reset_index(names=\"gene\"), x=\"gene\", y=col, color=\"max_b\", text_auto=True)"
   ]
  },
  {
   "cell_type": "code",
   "execution_count": 7,
   "metadata": {},
   "outputs": [],
   "source": [
    "net_stats = []\n",
    "col = \"degree_t\"\n",
    "for com in network_stats[\"max_b\"].unique():\n",
    "    sel_net = network_stats.loc[network_stats[\"max_b\"] == com]\n",
    "    net_stats.append((com, sel_net[col].mean()))\n",
    "net_stats = pd.DataFrame(net_stats, columns=[\"com\", \"mean_degree\"])\n",
    "\n",
    "net_stats[\"mean_degree\"] = round(net_stats[\"mean_degree\"])\n",
    "net_stats.sort_values(by=\"mean_degree\", ascending=False, inplace=True)\n",
    "# px.bar(net_stats, y=\"mean_degree\", x=\"com\", text_auto=True, title=\"Mean degree across comunities\")"
   ]
  },
  {
   "cell_type": "code",
   "execution_count": 8,
   "metadata": {},
   "outputs": [
    {
     "data": {
      "text/html": [
       "<div>\n",
       "<style scoped>\n",
       "    .dataframe tbody tr th:only-of-type {\n",
       "        vertical-align: middle;\n",
       "    }\n",
       "\n",
       "    .dataframe tbody tr th {\n",
       "        vertical-align: top;\n",
       "    }\n",
       "\n",
       "    .dataframe thead th {\n",
       "        text-align: right;\n",
       "    }\n",
       "</style>\n",
       "<table border=\"1\" class=\"dataframe\">\n",
       "  <thead>\n",
       "    <tr style=\"text-align: right;\">\n",
       "      <th></th>\n",
       "      <th>Label</th>\n",
       "      <th>Gene</th>\n",
       "      <th>Modularity Class</th>\n",
       "      <th>count</th>\n",
       "      <th>TF</th>\n",
       "      <th>b_0</th>\n",
       "      <th>b_1</th>\n",
       "      <th>b_2</th>\n",
       "      <th>b_3</th>\n",
       "      <th>b_4</th>\n",
       "      <th>...</th>\n",
       "      <th>P_lvl_3</th>\n",
       "      <th>P_lvl_4</th>\n",
       "      <th>P_lvl_5</th>\n",
       "      <th>max_b</th>\n",
       "      <th>ModCon_Rank</th>\n",
       "      <th>ctrl_tf</th>\n",
       "      <th>mean</th>\n",
       "      <th>median</th>\n",
       "      <th>std</th>\n",
       "      <th>var</th>\n",
       "    </tr>\n",
       "  </thead>\n",
       "  <tbody>\n",
       "    <tr>\n",
       "      <th>CYP1A1</th>\n",
       "      <td>CYP1A1</td>\n",
       "      <td>CYP1A1</td>\n",
       "      <td>5</td>\n",
       "      <td>2.0</td>\n",
       "      <td>0</td>\n",
       "      <td>0.0</td>\n",
       "      <td>0.0</td>\n",
       "      <td>0.0</td>\n",
       "      <td>0.0</td>\n",
       "      <td>0.0</td>\n",
       "      <td>...</td>\n",
       "      <td>0</td>\n",
       "      <td>0</td>\n",
       "      <td>0</td>\n",
       "      <td>19</td>\n",
       "      <td>56</td>\n",
       "      <td>0</td>\n",
       "      <td>26.3523</td>\n",
       "      <td>5.796</td>\n",
       "      <td>147.7165</td>\n",
       "      <td>21820.1693</td>\n",
       "    </tr>\n",
       "  </tbody>\n",
       "</table>\n",
       "<p>1 rows × 64 columns</p>\n",
       "</div>"
      ],
      "text/plain": [
       "         Label    Gene  Modularity Class  count  TF  b_0  b_1  b_2  b_3  b_4  \\\n",
       "CYP1A1  CYP1A1  CYP1A1                 5    2.0   0  0.0  0.0  0.0  0.0  0.0   \n",
       "\n",
       "        ...  P_lvl_3  P_lvl_4  P_lvl_5  max_b  ModCon_Rank  ctrl_tf     mean  \\\n",
       "CYP1A1  ...        0        0        0     19           56        0  26.3523   \n",
       "\n",
       "        median       std         var  \n",
       "CYP1A1   5.796  147.7165  21820.1693  \n",
       "\n",
       "[1 rows x 64 columns]"
      ]
     },
     "execution_count": 8,
     "metadata": {},
     "output_type": "execute_result"
    }
   ],
   "source": [
    "nodes_df[nodes_df.index.str.contains(\"CYP1A1\")]"
   ]
  },
  {
   "cell_type": "markdown",
   "metadata": {},
   "source": [
    "## Most connected genes"
   ]
  },
  {
   "cell_type": "markdown",
   "metadata": {},
   "source": [
    "### Degree vs Com size"
   ]
  },
  {
   "cell_type": "code",
   "execution_count": 9,
   "metadata": {},
   "outputs": [],
   "source": [
    "# Community sizes\n",
    "dmy_df = nodes_df.copy(deep=True)\n",
    "com_det = \"Modularity Class\"\n",
    "com_det = \"max_b\"\n",
    "dmy_df.sort_values(by=com_det, inplace=True)\n",
    "dmy_df[com_det] = dmy_df[com_det].astype(str)\n",
    "\n",
    "value_counts = dmy_df[\"max_b\"].value_counts()\n",
    "dmy_df[\"max_b\"] = pd.Categorical(dmy_df[\"max_b\"], categories=value_counts.index, ordered=True)\n",
    "fig1 = px.histogram(dmy_df, x=com_det, text_auto=True, title=\"Comunity sizes\")\n",
    "\n",
    "# Mean degree\n",
    "net_stats, col = [], \"degree_t\"\n",
    "\n",
    "for com in network_stats[com_det].unique():\n",
    "    sel_net = network_stats.loc[network_stats[com_det] == com]\n",
    "    net_stats.append((int(com), sel_net[col].mean()))\n",
    "net_stats = pd.DataFrame(net_stats, columns=[\"com\", \"mean_degree\"])\n",
    "\n",
    "net_stats[\"mean_degree\"] = round(net_stats[\"mean_degree\"])\n",
    "net_stats.sort_values(by=\"com\", inplace=True)\n",
    "net_stats[\"com\"] = net_stats[\"com\"].astype(str)\n",
    "fig2 = px.bar(\n",
    "    net_stats, y=\"mean_degree\", x=\"com\", text_auto=True, title=\"Mean degree across comunities\", color_discrete_sequence=[px.colors.qualitative.G10[0]]\n",
    ")\n",
    "category_order = net_stats[\"mean_degree\"].sort_values(ascending=False).index.astype(str)\n",
    "fig2 = fig2.update_xaxes(\n",
    "    categoryorder=\"array\",\n",
    "    categoryarray=category_order,\n",
    ")\n",
    "\n",
    "\n",
    "# Combined the two figures in subplots\n",
    "subplots_config = {\n",
    "    \"num_cols\": 1,\n",
    "    \"shared_x\": False,\n",
    "    \"shared_y\": False,\n",
    "    \"h_spacing\": 0.05,\n",
    "    \"v_spacing\": 0.15,\n",
    "    \"main_title\": \"Community sizes vs Mean degree\",\n",
    "    \"height\": 700,\n",
    "    \"width\": None,\n",
    "    \"y_title\": \"Count\",\n",
    "    \"x_title\": \"Community\",\n",
    "    \"specs\": None,\n",
    "}\n",
    "figs = [fig1, fig2]\n",
    "titles = [\n",
    "    \"\",\n",
    "    \"\",\n",
    "]\n",
    "fig = gh.helper_multiplots(figs, titles, subplots_config)\n",
    "\n",
    "\n",
    "fig = fig.update_layout(\n",
    "    title=\"\",\n",
    "    font=dict(size=20),\n",
    ")\n",
    "save_fig(name=\"Degree_vs_ComSize\", fig=fig, base_path=figures_path, width=1400, height=700, margin=0.02)\n",
    "# fig.show"
   ]
  },
  {
   "cell_type": "markdown",
   "metadata": {},
   "source": [
    "### Genes in high connected communities"
   ]
  },
  {
   "cell_type": "code",
   "execution_count": 10,
   "metadata": {},
   "outputs": [
    {
     "name": "stdout",
     "output_type": "stream",
     "text": [
      "Number of coms 14 of 45\n",
      "[1, 2, 3, 5, 7, 8, 10, 12, 15, 18, 28, 32, 33, 42]\n",
      "Nummber of genes selected 122\n"
     ]
    }
   ],
   "source": [
    "max_dg = net_stats[\"mean_degree\"].max()\n",
    "# th degree of the given percentile (70) so that it includes all the communities w/ mean degree > 10\n",
    "th = 70\n",
    "th_dg = np.percentile(net_stats[\"mean_degree\"], 70)\n",
    "coms = net_stats[net_stats[\"mean_degree\"] > th_dg][\"com\"].astype(int)\n",
    "print(f\"Number of coms {coms.shape[0]} of {len(nodes_df['max_b'].unique())}\")\n",
    "print(list(coms.values))\n",
    "\n",
    "sel_com_genes = nodes_df.loc[nodes_df[\"max_b\"].isin(coms)][[\"count\", \"TF\", \"max_b\"]].rename(columns={\"count\": \"mut_count\"})\n",
    "print(f\"Nummber of genes selected {sel_com_genes.shape[0]}\")"
   ]
  },
  {
   "cell_type": "code",
   "execution_count": 79,
   "metadata": {},
   "outputs": [
    {
     "data": {
      "application/vnd.plotly.v1+json": {
       "config": {
        "plotlyServerURL": "https://plot.ly"
       },
       "data": [
        {
         "alignmentgroup": "True",
         "hovertemplate": "max_b=1<br>gene=%{x}<br>degree_t=%{y}<extra></extra>",
         "legendgroup": "1",
         "marker": {
          "color": "rgb(102, 197, 204)",
          "pattern": {
           "shape": ""
          }
         },
         "name": "1",
         "offsetgroup": "1",
         "orientation": "v",
         "showlegend": true,
         "textposition": "auto",
         "type": "bar",
         "x": [
          "ELF3",
          "CHD2",
          "KLF5",
          "ABCC5",
          "RIMS2",
          "EPHA2",
          "AKAP13",
          "TIAM1",
          "ATP8B1"
         ],
         "xaxis": "x",
         "y": [
          985,
          583,
          504,
          178,
          113,
          91,
          74,
          50,
          46
         ],
         "yaxis": "y"
        },
        {
         "alignmentgroup": "True",
         "hovertemplate": "max_b=10<br>gene=%{x}<br>degree_t=%{y}<extra></extra>",
         "legendgroup": "10",
         "marker": {
          "color": "rgb(246, 207, 113)",
          "pattern": {
           "shape": ""
          }
         },
         "name": "10",
         "offsetgroup": "10",
         "orientation": "v",
         "showlegend": true,
         "textposition": "auto",
         "type": "bar",
         "x": [
          "COL7A1",
          "MYH10",
          "FN1",
          "SACS",
          "PRKDC",
          "LAMA3",
          "SF3B3",
          "DENND5B",
          "RASAL2"
         ],
         "xaxis": "x",
         "y": [
          730,
          635,
          519,
          450,
          351,
          248,
          212,
          76,
          41
         ],
         "yaxis": "y"
        },
        {
         "alignmentgroup": "True",
         "hovertemplate": "max_b=2<br>gene=%{x}<br>degree_t=%{y}<extra></extra>",
         "legendgroup": "2",
         "marker": {
          "color": "rgb(248, 156, 116)",
          "pattern": {
           "shape": ""
          }
         },
         "name": "2",
         "offsetgroup": "2",
         "orientation": "v",
         "showlegend": true,
         "textposition": "auto",
         "type": "bar",
         "x": [
          "AHR",
          "CREBBP",
          "NCOA1",
          "TACC2",
          "PAN2",
          "TP53BP2",
          "PCF11",
          "ITSN2",
          "ACACB",
          "DOT1L"
         ],
         "xaxis": "x",
         "y": [
          670,
          464,
          297,
          168,
          125,
          91,
          60,
          48,
          32,
          31
         ],
         "yaxis": "y"
        },
        {
         "alignmentgroup": "True",
         "hovertemplate": "max_b=28<br>gene=%{x}<br>degree_t=%{y}<extra></extra>",
         "legendgroup": "28",
         "marker": {
          "color": "rgb(220, 176, 242)",
          "pattern": {
           "shape": ""
          }
         },
         "name": "28",
         "offsetgroup": "28",
         "orientation": "v",
         "showlegend": true,
         "textposition": "auto",
         "type": "bar",
         "x": [
          "PLXNB2",
          "DMXL2",
          "SMCHD1",
          "SCRIB",
          "PLEKHH2",
          "PTPRM",
          "RALGAPA2",
          "PPL",
          "NOTCH3",
          "PLEKHA7",
          "AFF1"
         ],
         "xaxis": "x",
         "y": [
          629,
          482,
          276,
          172,
          87,
          86,
          78,
          68,
          36,
          30,
          19
         ],
         "yaxis": "y"
        },
        {
         "alignmentgroup": "True",
         "hovertemplate": "max_b=32<br>gene=%{x}<br>degree_t=%{y}<extra></extra>",
         "legendgroup": "32",
         "marker": {
          "color": "rgb(135, 197, 95)",
          "pattern": {
           "shape": ""
          }
         },
         "name": "32",
         "offsetgroup": "32",
         "orientation": "v",
         "showlegend": true,
         "textposition": "auto",
         "type": "bar",
         "x": [
          "RNF213",
          "HSPG2",
          "EPG5",
          "MPDZ",
          "CDKN2A",
          "SHROOM3",
          "PARP14",
          "OAS2",
          "ZNFX1",
          "NYNRIN"
         ],
         "xaxis": "x",
         "y": [
          600,
          558,
          252,
          251,
          186,
          112,
          112,
          29,
          23,
          10
         ],
         "yaxis": "y"
        },
        {
         "alignmentgroup": "True",
         "hovertemplate": "max_b=33<br>gene=%{x}<br>degree_t=%{y}<extra></extra>",
         "legendgroup": "33",
         "marker": {
          "color": "rgb(158, 185, 243)",
          "pattern": {
           "shape": ""
          }
         },
         "name": "33",
         "offsetgroup": "33",
         "orientation": "v",
         "showlegend": true,
         "textposition": "auto",
         "type": "bar",
         "x": [
          "TRANK1",
          "VPS13D",
          "LAMA4"
         ],
         "xaxis": "x",
         "y": [
          560,
          535,
          46
         ],
         "yaxis": "y"
        },
        {
         "alignmentgroup": "True",
         "hovertemplate": "max_b=8<br>gene=%{x}<br>degree_t=%{y}<extra></extra>",
         "legendgroup": "8",
         "marker": {
          "color": "rgb(254, 136, 177)",
          "pattern": {
           "shape": ""
          }
         },
         "name": "8",
         "offsetgroup": "8",
         "orientation": "v",
         "showlegend": true,
         "textposition": "auto",
         "type": "bar",
         "x": [
          "SPEN",
          "SMG1",
          "PCNT",
          "HIVEP2",
          "TBC1D1",
          "MXRA5",
          "HIVEP1",
          "PRDM2",
          "F8",
          "HIVEP3",
          "TRERF1",
          "SORL1"
         ],
         "xaxis": "x",
         "y": [
          400,
          195,
          134,
          83,
          54,
          51,
          45,
          39,
          37,
          24,
          21,
          8
         ],
         "yaxis": "y"
        },
        {
         "alignmentgroup": "True",
         "hovertemplate": "max_b=5<br>gene=%{x}<br>degree_t=%{y}<extra></extra>",
         "legendgroup": "5",
         "marker": {
          "color": "rgb(201, 219, 116)",
          "pattern": {
           "shape": ""
          }
         },
         "name": "5",
         "offsetgroup": "5",
         "orientation": "v",
         "showlegend": true,
         "textposition": "auto",
         "type": "bar",
         "x": [
          "RHOB",
          "OBSCN",
          "HRAS",
          "BRD2",
          "SYNE1",
          "UTRN",
          "LRRCC1",
          "PPRC1",
          "AUTS2",
          "MAGI3"
         ],
         "xaxis": "x",
         "y": [
          323,
          189,
          188,
          165,
          145,
          82,
          60,
          59,
          29,
          11
         ],
         "yaxis": "y"
        },
        {
         "alignmentgroup": "True",
         "hovertemplate": "max_b=18<br>gene=%{x}<br>degree_t=%{y}<extra></extra>",
         "legendgroup": "18",
         "marker": {
          "color": "rgb(139, 224, 164)",
          "pattern": {
           "shape": ""
          }
         },
         "name": "18",
         "offsetgroup": "18",
         "orientation": "v",
         "showlegend": true,
         "textposition": "auto",
         "type": "bar",
         "x": [
          "FRY",
          "MYO1F",
          "CFAP70",
          "ADGRV1",
          "EFCAB5",
          "RERE",
          "PPARG",
          "PLCB1",
          "SIPA1L2",
          "MAGI2",
          "PTCH1",
          "NLRC5",
          "ZFC3H1"
         ],
         "xaxis": "x",
         "y": [
          314,
          64,
          40,
          33,
          26,
          24,
          18,
          16,
          16,
          15,
          15,
          13,
          8
         ],
         "yaxis": "y"
        },
        {
         "alignmentgroup": "True",
         "hovertemplate": "max_b=15<br>gene=%{x}<br>degree_t=%{y}<extra></extra>",
         "legendgroup": "15",
         "marker": {
          "color": "rgb(180, 151, 231)",
          "pattern": {
           "shape": ""
          }
         },
         "name": "15",
         "offsetgroup": "15",
         "orientation": "v",
         "showlegend": true,
         "textposition": "auto",
         "type": "bar",
         "x": [
          "PLEC",
          "DST",
          "ITPR2",
          "DYNC2H1",
          "DOCK4",
          "NRG1",
          "TP63",
          "FASN",
          "MCM4"
         ],
         "xaxis": "x",
         "y": [
          310,
          265,
          186,
          50,
          36,
          19,
          18,
          10,
          10
         ],
         "yaxis": "y"
        },
        {
         "alignmentgroup": "True",
         "hovertemplate": "max_b=7<br>gene=%{x}<br>degree_t=%{y}<extra></extra>",
         "legendgroup": "7",
         "marker": {
          "color": "rgb(179, 179, 179)",
          "pattern": {
           "shape": ""
          }
         },
         "name": "7",
         "offsetgroup": "7",
         "orientation": "v",
         "showlegend": true,
         "textposition": "auto",
         "type": "bar",
         "x": [
          "DIAPH2",
          "ZFP36L2"
         ],
         "xaxis": "x",
         "y": [
          231,
          104
         ],
         "yaxis": "y"
        },
        {
         "alignmentgroup": "True",
         "hovertemplate": "max_b=3<br>gene=%{x}<br>degree_t=%{y}<extra></extra>",
         "legendgroup": "3",
         "marker": {
          "color": "rgb(136, 204, 238)",
          "pattern": {
           "shape": ""
          }
         },
         "name": "3",
         "offsetgroup": "3",
         "orientation": "v",
         "showlegend": true,
         "textposition": "auto",
         "type": "bar",
         "x": [
          "SYNE2",
          "FGFR3",
          "RBBP6",
          "SPAG17"
         ],
         "xaxis": "x",
         "y": [
          231,
          197,
          192,
          41
         ],
         "yaxis": "y"
        },
        {
         "alignmentgroup": "True",
         "hovertemplate": "max_b=42<br>gene=%{x}<br>degree_t=%{y}<extra></extra>",
         "legendgroup": "42",
         "marker": {
          "color": "rgb(204, 102, 119)",
          "pattern": {
           "shape": ""
          }
         },
         "name": "42",
         "offsetgroup": "42",
         "orientation": "v",
         "showlegend": true,
         "textposition": "auto",
         "type": "bar",
         "x": [
          "LRP1",
          "NAV2",
          "LTBP1",
          "CSPG4",
          "XPOT"
         ],
         "xaxis": "x",
         "y": [
          201,
          38,
          37,
          22,
          9
         ],
         "yaxis": "y"
        },
        {
         "alignmentgroup": "True",
         "hovertemplate": "max_b=12<br>gene=%{x}<br>degree_t=%{y}<extra></extra>",
         "legendgroup": "12",
         "marker": {
          "color": "rgb(221, 204, 119)",
          "pattern": {
           "shape": ""
          }
         },
         "name": "12",
         "offsetgroup": "12",
         "orientation": "v",
         "showlegend": true,
         "textposition": "auto",
         "type": "bar",
         "x": [
          "FAT2",
          "CCDC88A",
          "DSP",
          "BRCA1",
          "UTP20",
          "SMC4",
          "ATAD2",
          "STIL",
          "DOCK7",
          "KNTC1",
          "BUB1",
          "KIF13A",
          "MDC1",
          "FANCI",
          "CNTLN"
         ],
         "xaxis": "x",
         "y": [
          158,
          152,
          100,
          95,
          90,
          78,
          64,
          47,
          35,
          27,
          16,
          15,
          12,
          9,
          9
         ],
         "yaxis": "y"
        }
       ],
       "layout": {
        "barmode": "relative",
        "font": {
         "size": 20
        },
        "height": 600,
        "legend": {
         "bgcolor": "rgba(0,0,0,0)",
         "font": {
          "color": "#003366",
          "size": 18
         },
         "orientation": "h",
         "title": {
          "text": "Community"
         },
         "tracegroupgap": 0,
         "x": 0.5,
         "xanchor": "center",
         "y": 0.9,
         "yanchor": "middle"
        },
        "margin": {
         "b": 0,
         "l": 26,
         "r": 26,
         "t": 22
        },
        "template": {
         "data": {
          "bar": [
           {
            "error_x": {
             "color": "rgb(51,51,51)"
            },
            "error_y": {
             "color": "rgb(51,51,51)"
            },
            "marker": {
             "line": {
              "color": "rgb(237,237,237)",
              "width": 0.5
             },
             "pattern": {
              "fillmode": "overlay",
              "size": 10,
              "solidity": 0.2
             }
            },
            "type": "bar"
           }
          ],
          "barpolar": [
           {
            "marker": {
             "line": {
              "color": "rgb(237,237,237)",
              "width": 0.5
             },
             "pattern": {
              "fillmode": "overlay",
              "size": 10,
              "solidity": 0.2
             }
            },
            "type": "barpolar"
           }
          ],
          "carpet": [
           {
            "aaxis": {
             "endlinecolor": "rgb(51,51,51)",
             "gridcolor": "white",
             "linecolor": "white",
             "minorgridcolor": "white",
             "startlinecolor": "rgb(51,51,51)"
            },
            "baxis": {
             "endlinecolor": "rgb(51,51,51)",
             "gridcolor": "white",
             "linecolor": "white",
             "minorgridcolor": "white",
             "startlinecolor": "rgb(51,51,51)"
            },
            "type": "carpet"
           }
          ],
          "choropleth": [
           {
            "colorbar": {
             "outlinewidth": 0,
             "tickcolor": "rgb(237,237,237)",
             "ticklen": 6,
             "ticks": "inside"
            },
            "type": "choropleth"
           }
          ],
          "contour": [
           {
            "colorbar": {
             "outlinewidth": 0,
             "tickcolor": "rgb(237,237,237)",
             "ticklen": 6,
             "ticks": "inside"
            },
            "colorscale": [
             [
              0,
              "rgb(20,44,66)"
             ],
             [
              1,
              "rgb(90,179,244)"
             ]
            ],
            "type": "contour"
           }
          ],
          "contourcarpet": [
           {
            "colorbar": {
             "outlinewidth": 0,
             "tickcolor": "rgb(237,237,237)",
             "ticklen": 6,
             "ticks": "inside"
            },
            "type": "contourcarpet"
           }
          ],
          "heatmap": [
           {
            "colorbar": {
             "outlinewidth": 0,
             "tickcolor": "rgb(237,237,237)",
             "ticklen": 6,
             "ticks": "inside"
            },
            "colorscale": [
             [
              0,
              "rgb(20,44,66)"
             ],
             [
              1,
              "rgb(90,179,244)"
             ]
            ],
            "type": "heatmap"
           }
          ],
          "heatmapgl": [
           {
            "colorbar": {
             "outlinewidth": 0,
             "tickcolor": "rgb(237,237,237)",
             "ticklen": 6,
             "ticks": "inside"
            },
            "colorscale": [
             [
              0,
              "rgb(20,44,66)"
             ],
             [
              1,
              "rgb(90,179,244)"
             ]
            ],
            "type": "heatmapgl"
           }
          ],
          "histogram": [
           {
            "marker": {
             "pattern": {
              "fillmode": "overlay",
              "size": 10,
              "solidity": 0.2
             }
            },
            "type": "histogram"
           }
          ],
          "histogram2d": [
           {
            "colorbar": {
             "outlinewidth": 0,
             "tickcolor": "rgb(237,237,237)",
             "ticklen": 6,
             "ticks": "inside"
            },
            "colorscale": [
             [
              0,
              "rgb(20,44,66)"
             ],
             [
              1,
              "rgb(90,179,244)"
             ]
            ],
            "type": "histogram2d"
           }
          ],
          "histogram2dcontour": [
           {
            "colorbar": {
             "outlinewidth": 0,
             "tickcolor": "rgb(237,237,237)",
             "ticklen": 6,
             "ticks": "inside"
            },
            "colorscale": [
             [
              0,
              "rgb(20,44,66)"
             ],
             [
              1,
              "rgb(90,179,244)"
             ]
            ],
            "type": "histogram2dcontour"
           }
          ],
          "mesh3d": [
           {
            "colorbar": {
             "outlinewidth": 0,
             "tickcolor": "rgb(237,237,237)",
             "ticklen": 6,
             "ticks": "inside"
            },
            "type": "mesh3d"
           }
          ],
          "parcoords": [
           {
            "line": {
             "colorbar": {
              "outlinewidth": 0,
              "tickcolor": "rgb(237,237,237)",
              "ticklen": 6,
              "ticks": "inside"
             }
            },
            "type": "parcoords"
           }
          ],
          "pie": [
           {
            "automargin": true,
            "type": "pie"
           }
          ],
          "scatter": [
           {
            "fillpattern": {
             "fillmode": "overlay",
             "size": 10,
             "solidity": 0.2
            },
            "type": "scatter"
           }
          ],
          "scatter3d": [
           {
            "line": {
             "colorbar": {
              "outlinewidth": 0,
              "tickcolor": "rgb(237,237,237)",
              "ticklen": 6,
              "ticks": "inside"
             }
            },
            "marker": {
             "colorbar": {
              "outlinewidth": 0,
              "tickcolor": "rgb(237,237,237)",
              "ticklen": 6,
              "ticks": "inside"
             }
            },
            "type": "scatter3d"
           }
          ],
          "scattercarpet": [
           {
            "marker": {
             "colorbar": {
              "outlinewidth": 0,
              "tickcolor": "rgb(237,237,237)",
              "ticklen": 6,
              "ticks": "inside"
             }
            },
            "type": "scattercarpet"
           }
          ],
          "scattergeo": [
           {
            "marker": {
             "colorbar": {
              "outlinewidth": 0,
              "tickcolor": "rgb(237,237,237)",
              "ticklen": 6,
              "ticks": "inside"
             }
            },
            "type": "scattergeo"
           }
          ],
          "scattergl": [
           {
            "marker": {
             "colorbar": {
              "outlinewidth": 0,
              "tickcolor": "rgb(237,237,237)",
              "ticklen": 6,
              "ticks": "inside"
             }
            },
            "type": "scattergl"
           }
          ],
          "scattermapbox": [
           {
            "marker": {
             "colorbar": {
              "outlinewidth": 0,
              "tickcolor": "rgb(237,237,237)",
              "ticklen": 6,
              "ticks": "inside"
             }
            },
            "type": "scattermapbox"
           }
          ],
          "scatterpolar": [
           {
            "marker": {
             "colorbar": {
              "outlinewidth": 0,
              "tickcolor": "rgb(237,237,237)",
              "ticklen": 6,
              "ticks": "inside"
             }
            },
            "type": "scatterpolar"
           }
          ],
          "scatterpolargl": [
           {
            "marker": {
             "colorbar": {
              "outlinewidth": 0,
              "tickcolor": "rgb(237,237,237)",
              "ticklen": 6,
              "ticks": "inside"
             }
            },
            "type": "scatterpolargl"
           }
          ],
          "scatterternary": [
           {
            "marker": {
             "colorbar": {
              "outlinewidth": 0,
              "tickcolor": "rgb(237,237,237)",
              "ticklen": 6,
              "ticks": "inside"
             }
            },
            "type": "scatterternary"
           }
          ],
          "surface": [
           {
            "colorbar": {
             "outlinewidth": 0,
             "tickcolor": "rgb(237,237,237)",
             "ticklen": 6,
             "ticks": "inside"
            },
            "colorscale": [
             [
              0,
              "rgb(20,44,66)"
             ],
             [
              1,
              "rgb(90,179,244)"
             ]
            ],
            "type": "surface"
           }
          ],
          "table": [
           {
            "cells": {
             "fill": {
              "color": "rgb(237,237,237)"
             },
             "line": {
              "color": "white"
             }
            },
            "header": {
             "fill": {
              "color": "rgb(217,217,217)"
             },
             "line": {
              "color": "white"
             }
            },
            "type": "table"
           }
          ]
         },
         "layout": {
          "annotationdefaults": {
           "arrowhead": 0,
           "arrowwidth": 1
          },
          "autotypenumbers": "strict",
          "coloraxis": {
           "colorbar": {
            "outlinewidth": 0,
            "tickcolor": "rgb(237,237,237)",
            "ticklen": 6,
            "ticks": "inside"
           }
          },
          "colorscale": {
           "sequential": [
            [
             0,
             "rgb(20,44,66)"
            ],
            [
             1,
             "rgb(90,179,244)"
            ]
           ],
           "sequentialminus": [
            [
             0,
             "rgb(20,44,66)"
            ],
            [
             1,
             "rgb(90,179,244)"
            ]
           ]
          },
          "colorway": [
           "#F8766D",
           "#A3A500",
           "#00BF7D",
           "#00B0F6",
           "#E76BF3"
          ],
          "font": {
           "color": "rgb(51,51,51)"
          },
          "geo": {
           "bgcolor": "white",
           "lakecolor": "white",
           "landcolor": "rgb(237,237,237)",
           "showlakes": true,
           "showland": true,
           "subunitcolor": "white"
          },
          "hoverlabel": {
           "align": "left"
          },
          "hovermode": "closest",
          "paper_bgcolor": "white",
          "plot_bgcolor": "rgb(237,237,237)",
          "polar": {
           "angularaxis": {
            "gridcolor": "white",
            "linecolor": "white",
            "showgrid": true,
            "tickcolor": "rgb(51,51,51)",
            "ticks": "outside"
           },
           "bgcolor": "rgb(237,237,237)",
           "radialaxis": {
            "gridcolor": "white",
            "linecolor": "white",
            "showgrid": true,
            "tickcolor": "rgb(51,51,51)",
            "ticks": "outside"
           }
          },
          "scene": {
           "xaxis": {
            "backgroundcolor": "rgb(237,237,237)",
            "gridcolor": "white",
            "gridwidth": 2,
            "linecolor": "white",
            "showbackground": true,
            "showgrid": true,
            "tickcolor": "rgb(51,51,51)",
            "ticks": "outside",
            "zerolinecolor": "white"
           },
           "yaxis": {
            "backgroundcolor": "rgb(237,237,237)",
            "gridcolor": "white",
            "gridwidth": 2,
            "linecolor": "white",
            "showbackground": true,
            "showgrid": true,
            "tickcolor": "rgb(51,51,51)",
            "ticks": "outside",
            "zerolinecolor": "white"
           },
           "zaxis": {
            "backgroundcolor": "rgb(237,237,237)",
            "gridcolor": "white",
            "gridwidth": 2,
            "linecolor": "white",
            "showbackground": true,
            "showgrid": true,
            "tickcolor": "rgb(51,51,51)",
            "ticks": "outside",
            "zerolinecolor": "white"
           }
          },
          "shapedefaults": {
           "fillcolor": "black",
           "line": {
            "width": 0
           },
           "opacity": 0.3
          },
          "ternary": {
           "aaxis": {
            "gridcolor": "white",
            "linecolor": "white",
            "showgrid": true,
            "tickcolor": "rgb(51,51,51)",
            "ticks": "outside"
           },
           "baxis": {
            "gridcolor": "white",
            "linecolor": "white",
            "showgrid": true,
            "tickcolor": "rgb(51,51,51)",
            "ticks": "outside"
           },
           "bgcolor": "rgb(237,237,237)",
           "caxis": {
            "gridcolor": "white",
            "linecolor": "white",
            "showgrid": true,
            "tickcolor": "rgb(51,51,51)",
            "ticks": "outside"
           }
          },
          "xaxis": {
           "automargin": true,
           "gridcolor": "white",
           "linecolor": "white",
           "showgrid": true,
           "tickcolor": "rgb(51,51,51)",
           "ticks": "outside",
           "title": {
            "standoff": 15
           },
           "zerolinecolor": "white"
          },
          "yaxis": {
           "automargin": true,
           "gridcolor": "white",
           "linecolor": "white",
           "showgrid": true,
           "tickcolor": "rgb(51,51,51)",
           "ticks": "outside",
           "title": {
            "standoff": 15
           },
           "zerolinecolor": "white"
          }
         }
        },
        "title": {
         "text": ""
        },
        "xaxis": {
         "anchor": "y",
         "domain": [
          0,
          1
         ],
         "tickfont": {
          "size": 20
         },
         "title": {
          "text": "Gene"
         }
        },
        "yaxis": {
         "anchor": "x",
         "domain": [
          0,
          1
         ],
         "tickfont": {
          "size": 20
         },
         "title": {
          "text": "Degree"
         }
        }
       }
      }
     },
     "metadata": {},
     "output_type": "display_data"
    }
   ],
   "source": [
    "col = \"degree_t\"\n",
    "sel_com_genes[\"degree_t\"] = network_stats[\"degree_t\"]\n",
    "sel_com_genes.sort_values(by=\"degree_t\", ascending=False, inplace=True)\n",
    "sel_com_genes[\"max_b\"] = sel_com_genes[\"max_b\"].astype(str)\n",
    "colors = px.colors.qualitative.Pastel + px.colors.qualitative.Safe\n",
    "fig = px.bar(sel_com_genes.reset_index(names=\"gene\"), x=\"gene\", y=col, color=\"max_b\", color_discrete_sequence=colors)\n",
    "fig = fig.update_layout(\n",
    "    title=\"\",\n",
    "    legend=dict(\n",
    "        title=\"Community\",\n",
    "        orientation=\"h\",\n",
    "        yanchor=\"middle\",\n",
    "        xanchor=\"center\",\n",
    "        y=0.90,\n",
    "        x=0.5,\n",
    "        bgcolor=\"rgba(0,0,0,0)\",\n",
    "        font=dict(size=18, color=\"#003366\"),\n",
    "    ),\n",
    "    yaxis=dict(tickfont=dict(size=20), title=\"Degree\"),\n",
    "    xaxis=dict(tickfont=dict(size=20), title=\"Gene\"),\n",
    "    font=dict(size=20),\n",
    "    height=600,\n",
    ")\n",
    "\n",
    "# fig.update_layout(\n",
    "#     xaxis=dict(tickmode=\"linear\", tick0=0, dtick=1),\n",
    "# )\n",
    "\n",
    "save_fig(name=\"SmallCom_gene\", fig=fig, base_path=figures_path, width=1300, height=600, margin=0.02)\n",
    "fig"
   ]
  },
  {
   "cell_type": "markdown",
   "metadata": {},
   "source": [
    "### Mutation\n",
    "\n",
    "Are those genes the highest mutated?"
   ]
  },
  {
   "cell_type": "code",
   "execution_count": 115,
   "metadata": {},
   "outputs": [
    {
     "data": {
      "application/vnd.plotly.v1+json": {
       "config": {
        "plotlyServerURL": "https://plot.ly"
       },
       "data": [
        {
         "alignmentgroup": "True",
         "bingroup": "x",
         "hovertemplate": "Type=Rest<br>count=%{y}<extra></extra>",
         "legendgroup": "Rest",
         "marker": {
          "color": "#F8766D",
          "opacity": 0.5,
          "pattern": {
           "shape": ""
          }
         },
         "name": "Rest",
         "offsetgroup": "Rest",
         "orientation": "v",
         "showlegend": true,
         "type": "histogram",
         "x": [
          2,
          2,
          2,
          1,
          0,
          4,
          2,
          0,
          0,
          3,
          10,
          7,
          7,
          2,
          6,
          1,
          4,
          4,
          3,
          1,
          7,
          0,
          0,
          1,
          5,
          3,
          6,
          0,
          0,
          2,
          0,
          0,
          2,
          0,
          7,
          2,
          0,
          1,
          1,
          7,
          3,
          0,
          5,
          0,
          3,
          8,
          2,
          3,
          5,
          5,
          1,
          8,
          0,
          0,
          0,
          11,
          0,
          10,
          6,
          1,
          13,
          23,
          0,
          2,
          2,
          3,
          0,
          0,
          0,
          21,
          0,
          0,
          4,
          2,
          1,
          1,
          6,
          0,
          3,
          1,
          1,
          0,
          2,
          0,
          0,
          8,
          1,
          0,
          2,
          2,
          7,
          3,
          0,
          5,
          4,
          0,
          2,
          5,
          4,
          0,
          7,
          9,
          0,
          0,
          3,
          2,
          0,
          2,
          0,
          0,
          0,
          5,
          5,
          1,
          6,
          5,
          19,
          15,
          2,
          1,
          2,
          0,
          0,
          5,
          0,
          10,
          0,
          7,
          0,
          28,
          2,
          0,
          0,
          0,
          0,
          1,
          1,
          3,
          0,
          3,
          6,
          2,
          0,
          4,
          22,
          2,
          4,
          2,
          0,
          0,
          0,
          4,
          2,
          0,
          0,
          4,
          0,
          2,
          0,
          2,
          3,
          0,
          3,
          3,
          13,
          0,
          7,
          7,
          3,
          4,
          1,
          3,
          5,
          9,
          0,
          6,
          3,
          1,
          6,
          7,
          0,
          18,
          10,
          0,
          0,
          3,
          2,
          2,
          0,
          5,
          2,
          7,
          2,
          5,
          1,
          0,
          0,
          0,
          0,
          0,
          0,
          1,
          0,
          19,
          8,
          2,
          3,
          4,
          7,
          0,
          0,
          0,
          16,
          0,
          2,
          4,
          0,
          2,
          16,
          3,
          0,
          4,
          3,
          2,
          6,
          4,
          11,
          0,
          4,
          0,
          0,
          2,
          11,
          1,
          0,
          1,
          0,
          0,
          8,
          0,
          1,
          7,
          3,
          11,
          1,
          4,
          3,
          10,
          2,
          1,
          3,
          0,
          1,
          0,
          0,
          0,
          3,
          0,
          0,
          4,
          0,
          7,
          6,
          0,
          0,
          3,
          0,
          4,
          6,
          0,
          7,
          0,
          5,
          9,
          2,
          7,
          6,
          7,
          5,
          6,
          4,
          0,
          4,
          6,
          4,
          1,
          5,
          1,
          0,
          0,
          3,
          0,
          2,
          0,
          0,
          0,
          0,
          6,
          9,
          1,
          1,
          7,
          8,
          0,
          0,
          0,
          0,
          0,
          9,
          8,
          0,
          0,
          4,
          3,
          6,
          3,
          15,
          5,
          2,
          4,
          0,
          7,
          5,
          1,
          0,
          0,
          14,
          0,
          4,
          0,
          0,
          8,
          3,
          17,
          9,
          0,
          0,
          9,
          0,
          5,
          1,
          5,
          11,
          5,
          1,
          7,
          1,
          4,
          0,
          7,
          9,
          2,
          2,
          11,
          5,
          0,
          5,
          3,
          2,
          0,
          2,
          3,
          2,
          0,
          0,
          0,
          0,
          5,
          6,
          0,
          4,
          15,
          0,
          0,
          2,
          5,
          0,
          4,
          2,
          2,
          4,
          0,
          3,
          2,
          0,
          0,
          0,
          2,
          0,
          0,
          6,
          5,
          5,
          1,
          7,
          1,
          0,
          0,
          0,
          2,
          12,
          1,
          1,
          3,
          10,
          5,
          0,
          0,
          0,
          0,
          3,
          0,
          6,
          3,
          3,
          0,
          0,
          0,
          0,
          0,
          0,
          3,
          0,
          1,
          6,
          2,
          12,
          0,
          0,
          4,
          4,
          10,
          0,
          4,
          1,
          0,
          8,
          0,
          9,
          6,
          2,
          3,
          2,
          3,
          0,
          9,
          0,
          8,
          2,
          1,
          1,
          3,
          0,
          3,
          6,
          1,
          0,
          7,
          6,
          3,
          4,
          0,
          9,
          3,
          4,
          0,
          0,
          1,
          9,
          10,
          3,
          2,
          4,
          0,
          0,
          11,
          4,
          2,
          4,
          7,
          2,
          11,
          0,
          1,
          6,
          2,
          2,
          1,
          9,
          2,
          0,
          1,
          3,
          2,
          4,
          0,
          0,
          2,
          3,
          6,
          3,
          7,
          0,
          2,
          0,
          2,
          11,
          5,
          2,
          0,
          4,
          0,
          4,
          0,
          0,
          0,
          0,
          5,
          0,
          4,
          1,
          0,
          4,
          5,
          1,
          0,
          5,
          1,
          0,
          0,
          1,
          3,
          0,
          0,
          6,
          0,
          0,
          3,
          8,
          2,
          0,
          5,
          3,
          9,
          12,
          0,
          1,
          0,
          1,
          5,
          0,
          2,
          0,
          0,
          9,
          2,
          2,
          0,
          7,
          13,
          4,
          18,
          2,
          0,
          0,
          2,
          14,
          1,
          9,
          0,
          7,
          0,
          8,
          13,
          5,
          4,
          0,
          14,
          4,
          0,
          9,
          3,
          10,
          0,
          5,
          0,
          0,
          0,
          4,
          0,
          2,
          0,
          5,
          1,
          0,
          0,
          11,
          2,
          1,
          4,
          1,
          2,
          1,
          3,
          2,
          4,
          1,
          0,
          4,
          0,
          0,
          0,
          3,
          5,
          0,
          4,
          0,
          0,
          2,
          0,
          1,
          0,
          5,
          0,
          0,
          0,
          2,
          0,
          0,
          0,
          0,
          8,
          7,
          0,
          0,
          4,
          6,
          2,
          8,
          6,
          4,
          3,
          2,
          2,
          15,
          7,
          0,
          6,
          6,
          0,
          13,
          8,
          1,
          3,
          6,
          0,
          10,
          3,
          0,
          0,
          0,
          11,
          0,
          1,
          0,
          2,
          4,
          10,
          0,
          4,
          0,
          0,
          2,
          3,
          0,
          4,
          3,
          1,
          0,
          0,
          1,
          2,
          1,
          0,
          0,
          4,
          0,
          3,
          0,
          7,
          4,
          0,
          18,
          4,
          2,
          0,
          0,
          0,
          10,
          2,
          4,
          6,
          0,
          8,
          4,
          4,
          8,
          1,
          0,
          4,
          9,
          0,
          2,
          0,
          0,
          2,
          0,
          3,
          0,
          0,
          3,
          0,
          0,
          0,
          0,
          5,
          1,
          0,
          4,
          4,
          0,
          0,
          2,
          4,
          1,
          0,
          2,
          0,
          0,
          2,
          5,
          0,
          1,
          1,
          0,
          0,
          3,
          7,
          6,
          2,
          5,
          0,
          5,
          2,
          0,
          6,
          5,
          4,
          2,
          1,
          9,
          0,
          4,
          0,
          5,
          2,
          5,
          0,
          0,
          0,
          3,
          4,
          4,
          0,
          0,
          11,
          0,
          0,
          1,
          0,
          0,
          3,
          0,
          0,
          5,
          0,
          2,
          4,
          3,
          4,
          4,
          4,
          0,
          0,
          3,
          0,
          3,
          0,
          0,
          1,
          1,
          0,
          0,
          9,
          3,
          0,
          0,
          8,
          7,
          0,
          1,
          4,
          3,
          0,
          11,
          0,
          0,
          0,
          2,
          0,
          0,
          10,
          0,
          4,
          6,
          4,
          0,
          0,
          1,
          0,
          6,
          0,
          7,
          0,
          0,
          0,
          0,
          3,
          0,
          0,
          5,
          3,
          0,
          0,
          0,
          1,
          5,
          3,
          0,
          0,
          0,
          3,
          4,
          5,
          2,
          4,
          2,
          1,
          0,
          2,
          0,
          4,
          6,
          3,
          3,
          0,
          1,
          1,
          4,
          3,
          6,
          6,
          5,
          0,
          18,
          4,
          4,
          8,
          0,
          6,
          2,
          0,
          6,
          9,
          5,
          7,
          3,
          4,
          8,
          12,
          3,
          1,
          2,
          4,
          0,
          1,
          1,
          2,
          4,
          3,
          0,
          3,
          0,
          0,
          0,
          0,
          5,
          2,
          10,
          5,
          5,
          5,
          0,
          0,
          0,
          10,
          0,
          7,
          1,
          0,
          0,
          0,
          0,
          0,
          1,
          7,
          0,
          0,
          0,
          0,
          0,
          0,
          7,
          0,
          0,
          0,
          0,
          6,
          0,
          0,
          0,
          0,
          0,
          0,
          2,
          6,
          0,
          0,
          0,
          0,
          0,
          1,
          3,
          0,
          1,
          3,
          0,
          0,
          0,
          0,
          2,
          0,
          0,
          0,
          0,
          0,
          5,
          0,
          2,
          6,
          8,
          2,
          5,
          0,
          0,
          1,
          0,
          0,
          0,
          5,
          6,
          1,
          13,
          1,
          0,
          0,
          1,
          0,
          0,
          0,
          0,
          0,
          0,
          2,
          5,
          0,
          4,
          2,
          7,
          0,
          8,
          4,
          0,
          0,
          0,
          14,
          7,
          0,
          0,
          0,
          0,
          3,
          0,
          3,
          0,
          18,
          2,
          0,
          0,
          0,
          0,
          0,
          0,
          3,
          3,
          0,
          0,
          1,
          0,
          0,
          1,
          2,
          2,
          0,
          0,
          4,
          0,
          0,
          1,
          0,
          0,
          1,
          1,
          17,
          0,
          5,
          2,
          7,
          0,
          7,
          1,
          0,
          0,
          0,
          0,
          0,
          0,
          0,
          1,
          0,
          0,
          4,
          7,
          1,
          2,
          0,
          11,
          2,
          3,
          0,
          0,
          5,
          6,
          2,
          3,
          0,
          1,
          5,
          0,
          5,
          0,
          7,
          6,
          5,
          1,
          6,
          13,
          9,
          3,
          0,
          0,
          0,
          1,
          3,
          8,
          6,
          14,
          0,
          3,
          0,
          2,
          7,
          2,
          0,
          0,
          3,
          0,
          1,
          9,
          2,
          8,
          2,
          4,
          10,
          14,
          1,
          7,
          8,
          2,
          0,
          9,
          0,
          7,
          5,
          0,
          4,
          0,
          0,
          1,
          0,
          4,
          5,
          0,
          5,
          2,
          4,
          0,
          2,
          5,
          2,
          0,
          6,
          2,
          7,
          5,
          5,
          1,
          0,
          0,
          3,
          0,
          6,
          4,
          9,
          0,
          0,
          0,
          13,
          2,
          4,
          0,
          6,
          5,
          0,
          0,
          13,
          0,
          8,
          0,
          0,
          0,
          1,
          4,
          0,
          0,
          1,
          8,
          3,
          1,
          0,
          5,
          1,
          3,
          6,
          6,
          0,
          0,
          12,
          1,
          1,
          3,
          0,
          7,
          0,
          2,
          2,
          0,
          2,
          2,
          1,
          9,
          5,
          5,
          3,
          3,
          9,
          0,
          1,
          0,
          2,
          10,
          0,
          1,
          0,
          0,
          0,
          0,
          0,
          1,
          0,
          1,
          0,
          0,
          3,
          0,
          0,
          3,
          2,
          1,
          4,
          1,
          7,
          5,
          4,
          7,
          1,
          2,
          0,
          4,
          1,
          1,
          2,
          0,
          4,
          1,
          13,
          6,
          3,
          4,
          0,
          1,
          2,
          0,
          8,
          6,
          0,
          0,
          12,
          5,
          8,
          1,
          5,
          2,
          5,
          6,
          2,
          2,
          0,
          2,
          1,
          3,
          6,
          4,
          3,
          2,
          6,
          8,
          4,
          6,
          5,
          4,
          0,
          3,
          0,
          3,
          3,
          1,
          0,
          3,
          6,
          6,
          0,
          0,
          2,
          0,
          0,
          1,
          0,
          1,
          1,
          3,
          2,
          0,
          1,
          0,
          4,
          0,
          1,
          4,
          2,
          0,
          0,
          2,
          6,
          3,
          0,
          3,
          2,
          3,
          6,
          2,
          5,
          1,
          3,
          0,
          0,
          2,
          3,
          3,
          3,
          3,
          6,
          3,
          0,
          1,
          2,
          6,
          5,
          1,
          3,
          0,
          0,
          2,
          0,
          4,
          6,
          0,
          1,
          2,
          0,
          2,
          0,
          5,
          7,
          0,
          0,
          2,
          4,
          1,
          7,
          0,
          0,
          0,
          2,
          4,
          4,
          2,
          3,
          8,
          0,
          9,
          7,
          3,
          10,
          2,
          2,
          3,
          0,
          8,
          4,
          6,
          0,
          8,
          7,
          6,
          0,
          0,
          11,
          2,
          11,
          8,
          3,
          0,
          6,
          8,
          1,
          8,
          5,
          0,
          5,
          1,
          4,
          8,
          1,
          7,
          0,
          9,
          3,
          1,
          0,
          2,
          0,
          2,
          2,
          0,
          12,
          0,
          6,
          1,
          8,
          0,
          0,
          1,
          5,
          2,
          2,
          10,
          5,
          2,
          2,
          6,
          7,
          0,
          3,
          4,
          8,
          1,
          1,
          2,
          2,
          8,
          1,
          3,
          10,
          5,
          7,
          2,
          3,
          0,
          2,
          9,
          1,
          0,
          1,
          2,
          1,
          0,
          5,
          2,
          5,
          9,
          3,
          4,
          4,
          3,
          3,
          8,
          3,
          1,
          0,
          1,
          5,
          6,
          0,
          1,
          0,
          0,
          5,
          4,
          9,
          0,
          3,
          1,
          8,
          1,
          5,
          4,
          11,
          2,
          0,
          7,
          0,
          10,
          7,
          6,
          4,
          2,
          0,
          5,
          0,
          1,
          2,
          0,
          15,
          1,
          3,
          0,
          4,
          3,
          3,
          5,
          1,
          7,
          6,
          1,
          3,
          0,
          2,
          0,
          7,
          0,
          0,
          3,
          0,
          7,
          0,
          6,
          0,
          12,
          0,
          6,
          0,
          3,
          6,
          0,
          0,
          0,
          1,
          2,
          15,
          0,
          0,
          0,
          0,
          0,
          0,
          0,
          9,
          0,
          0,
          0,
          0,
          0,
          0,
          3,
          8,
          0,
          5,
          4,
          0,
          1,
          1,
          0,
          0,
          0,
          0,
          0,
          4,
          0,
          0,
          0,
          0,
          8,
          10,
          8,
          3,
          13,
          1,
          0,
          0,
          0,
          0,
          1,
          14,
          0,
          6,
          13,
          0,
          4,
          0,
          1,
          0,
          0,
          7,
          1,
          6,
          0,
          4,
          0,
          2,
          0,
          0,
          0,
          7,
          0,
          15,
          5,
          0,
          4,
          7,
          0,
          10,
          3,
          0,
          0,
          0,
          14,
          0,
          0,
          0,
          1,
          0,
          7,
          9,
          0,
          4,
          0,
          0,
          0,
          3,
          0,
          0,
          0,
          0,
          4,
          0,
          10,
          0,
          0,
          0,
          4,
          2,
          0,
          0,
          0,
          6,
          6,
          19,
          0,
          0,
          0,
          3,
          0,
          4,
          7,
          10,
          5,
          6,
          0,
          0,
          0,
          0,
          0,
          0,
          0,
          5,
          7,
          4,
          5,
          1,
          3,
          0,
          9,
          4,
          0,
          0,
          7,
          4,
          5,
          7,
          0,
          2,
          0,
          0,
          11,
          8,
          1,
          0,
          3,
          5,
          0,
          2,
          1,
          2,
          5,
          1,
          1,
          3,
          0,
          3,
          13,
          1,
          7,
          13,
          11,
          4,
          11,
          0,
          0,
          3,
          0,
          2,
          4,
          0,
          3,
          5,
          3,
          13,
          0,
          0,
          5,
          0,
          5,
          0,
          4,
          2,
          3,
          0,
          2,
          0,
          6,
          0,
          1,
          1,
          2,
          7,
          3,
          0,
          6,
          0,
          5,
          1,
          1,
          2,
          0,
          1,
          10,
          6,
          9,
          8,
          9,
          0,
          2,
          0,
          0,
          1,
          6,
          0,
          0,
          2,
          2,
          3,
          0,
          2,
          3,
          3,
          0,
          9,
          3,
          1,
          6,
          1,
          5,
          5,
          0,
          1,
          12,
          0,
          6,
          0,
          10,
          2,
          3,
          9,
          5,
          6,
          2,
          1,
          10,
          4,
          8,
          6,
          6,
          0,
          3,
          8,
          6,
          2,
          2,
          6,
          0,
          0,
          2,
          7,
          1,
          6,
          10,
          6,
          8,
          6,
          1,
          0,
          3,
          4,
          3,
          5,
          0,
          3,
          0,
          14,
          6,
          5,
          0,
          0,
          4,
          4,
          8,
          2,
          2,
          9,
          6,
          0,
          1,
          2,
          2,
          1,
          4,
          7,
          3,
          4,
          7,
          5,
          10,
          0,
          0,
          4,
          1,
          5,
          3,
          12,
          3,
          10,
          6,
          9,
          8,
          8,
          8,
          3,
          1,
          2,
          1,
          1,
          3,
          0,
          0,
          0,
          3,
          0,
          8,
          7,
          3,
          3,
          1,
          5,
          2,
          2,
          1,
          1,
          0,
          4,
          0,
          10,
          3,
          2,
          3,
          9,
          5,
          4,
          9,
          1,
          1,
          0,
          5,
          7,
          0,
          5,
          10,
          2,
          0,
          0,
          7,
          3,
          1,
          1,
          4,
          0,
          0,
          13,
          2,
          0,
          4,
          2,
          0,
          0,
          3,
          6,
          13,
          5,
          0,
          4,
          3,
          0,
          0,
          0,
          3,
          0,
          0,
          1,
          9,
          3,
          0,
          1,
          0,
          0,
          0,
          0,
          0,
          0,
          5,
          0,
          0,
          0,
          0,
          14,
          4,
          0,
          0,
          0,
          0,
          0,
          0,
          13,
          12,
          9,
          1,
          0,
          3,
          0,
          7,
          0,
          0,
          4,
          0,
          0,
          2,
          14,
          0,
          0,
          0,
          0,
          1,
          0,
          0,
          0,
          6,
          0,
          0,
          0,
          8,
          0,
          0,
          2,
          0,
          0,
          0,
          3,
          3,
          0,
          7,
          0,
          0,
          0,
          2,
          0,
          3,
          0,
          0,
          0,
          0,
          0,
          0,
          14,
          0,
          0,
          0,
          0,
          4,
          0,
          0,
          0,
          0,
          0,
          7,
          0,
          7,
          0,
          11,
          1,
          0,
          0,
          0,
          0,
          0,
          6,
          0,
          0,
          3,
          1,
          8,
          0,
          0,
          0,
          0,
          0,
          0,
          0,
          0,
          0,
          4,
          4,
          9,
          0,
          0,
          4,
          8,
          0,
          4,
          0,
          2,
          0,
          0,
          0,
          0,
          6,
          5,
          3,
          0,
          0,
          0,
          4,
          0,
          0,
          0,
          3,
          10,
          0,
          0,
          1,
          1,
          8,
          0,
          2,
          2,
          2,
          0,
          0,
          0,
          0,
          7,
          0,
          0,
          0,
          0,
          6,
          0,
          4,
          0,
          5,
          0,
          0,
          3,
          2,
          0,
          0,
          1,
          3,
          0,
          0,
          0,
          4,
          1,
          2,
          0,
          0,
          0,
          0,
          6,
          2,
          0,
          9,
          0,
          0,
          5,
          9,
          14,
          0,
          5,
          0,
          0,
          0,
          0,
          0,
          3,
          6,
          2,
          0,
          0,
          0,
          6,
          0,
          0,
          3,
          0,
          2,
          0,
          0,
          10,
          0,
          0,
          7,
          0,
          0,
          7,
          0,
          3,
          0,
          11,
          7,
          0,
          0,
          0,
          0,
          5,
          0,
          3,
          3,
          0,
          1,
          0,
          0,
          0,
          0,
          0,
          0,
          0,
          0,
          0,
          0,
          2,
          13,
          0,
          0,
          0,
          0,
          0,
          0,
          11,
          0,
          0,
          4,
          0,
          0,
          5,
          5,
          0,
          4,
          0,
          0,
          1,
          0,
          0,
          9,
          4,
          0,
          3,
          4,
          0,
          4,
          6,
          6,
          0,
          2,
          3,
          2,
          3,
          2,
          2,
          11,
          0,
          4,
          0,
          0,
          0,
          6,
          0,
          0,
          0,
          5,
          4,
          0,
          0,
          1,
          0,
          0,
          2,
          0,
          8,
          0,
          1,
          11,
          3,
          1,
          2,
          0,
          0,
          0,
          0,
          11,
          0,
          6,
          0,
          0,
          0,
          0,
          0,
          13,
          0,
          0,
          0,
          0,
          0,
          4,
          0,
          6,
          3,
          0,
          1,
          2,
          3,
          0,
          0,
          0,
          0,
          10,
          4,
          0,
          5,
          1,
          5,
          1,
          0,
          3,
          16,
          0,
          0,
          0,
          0,
          0,
          0,
          4,
          0,
          5,
          0,
          1,
          1,
          0,
          0,
          0,
          0,
          6,
          8,
          0,
          0,
          2,
          1,
          6,
          0,
          4,
          0,
          10,
          1,
          4,
          0,
          1,
          4,
          0,
          0,
          0,
          4,
          3,
          17,
          4,
          0,
          0,
          0,
          0,
          0,
          0,
          0,
          0,
          0,
          0,
          0,
          0,
          0,
          0,
          3,
          0,
          2,
          3,
          0,
          0,
          3,
          0,
          0,
          0,
          6,
          0,
          2,
          8,
          0,
          0,
          8,
          0,
          0,
          1,
          1,
          6,
          4,
          4,
          0,
          7,
          1,
          0,
          0,
          0,
          4,
          0,
          0,
          7,
          1,
          0,
          1,
          3,
          0,
          2,
          2,
          6,
          1,
          0,
          1,
          2,
          4,
          0,
          0,
          0,
          1,
          0,
          0,
          6,
          0,
          0,
          0,
          5,
          1,
          0,
          0,
          0,
          0,
          4,
          0,
          0,
          1,
          0,
          11,
          0,
          12,
          1,
          0,
          0,
          0,
          6,
          4,
          0,
          0,
          0,
          4,
          0,
          0,
          3,
          7,
          4,
          3,
          6,
          0,
          0,
          5,
          0,
          0,
          0,
          4,
          0,
          5,
          4,
          2,
          8,
          3,
          0,
          2,
          0,
          2,
          5,
          2,
          2,
          2,
          4,
          1,
          11,
          3,
          1,
          4,
          6,
          1,
          3,
          1,
          10,
          1,
          2,
          1,
          1,
          1,
          1,
          0,
          1,
          1,
          0,
          4,
          0,
          2,
          2,
          2,
          7,
          0,
          5,
          0,
          0,
          0,
          8,
          0,
          3,
          4,
          0,
          0,
          7,
          0,
          0,
          0,
          0,
          0,
          0,
          7,
          0,
          0,
          0,
          0,
          0,
          2,
          0,
          5,
          0,
          2,
          5,
          3,
          2,
          0,
          0,
          3,
          0,
          0,
          0,
          0,
          3,
          0,
          0,
          1,
          5,
          0,
          11,
          2,
          0,
          0,
          0,
          0,
          0,
          1,
          0,
          0,
          0,
          0,
          0,
          0,
          9,
          0,
          25,
          0,
          0,
          5,
          0,
          0,
          5,
          0,
          3,
          12,
          0,
          0,
          0,
          0,
          0,
          0,
          0,
          0,
          0,
          7,
          0,
          0,
          0,
          0,
          0,
          0,
          2,
          0,
          0,
          0,
          0,
          0,
          0,
          1,
          0,
          2,
          0,
          2,
          1,
          0,
          0,
          5,
          0,
          5,
          0,
          3,
          0,
          0,
          4,
          0,
          0,
          0,
          0,
          0,
          0,
          9,
          0,
          1,
          0,
          0,
          1,
          0,
          1,
          3,
          0,
          0,
          0,
          0,
          0,
          1,
          0,
          0,
          0,
          7,
          3,
          4,
          2,
          2,
          0,
          7,
          2,
          4,
          2,
          2,
          0,
          3,
          0,
          0,
          3,
          4,
          3,
          8,
          0,
          0,
          0,
          1,
          1,
          3,
          0,
          3,
          0,
          8,
          0,
          1,
          2,
          3,
          9,
          3,
          0,
          0,
          6,
          4,
          0,
          3,
          0,
          2,
          0,
          1,
          1,
          5,
          2,
          4,
          2,
          7,
          3,
          0,
          4,
          0,
          0,
          3,
          4,
          0,
          2,
          0,
          0,
          4,
          8,
          7,
          3,
          0,
          0,
          0,
          3,
          4,
          0,
          0,
          0,
          3,
          0,
          0,
          0,
          0,
          4,
          1,
          0,
          2,
          0,
          0,
          4,
          0,
          0,
          0,
          0,
          3,
          0,
          1,
          0,
          0,
          4,
          9,
          0,
          4,
          2,
          0,
          13,
          0,
          0,
          1,
          0,
          5,
          0,
          4,
          3,
          3,
          0,
          5,
          0,
          1,
          0,
          0,
          2,
          0,
          0,
          0,
          10,
          12,
          0,
          2,
          5,
          10,
          0,
          10,
          0,
          0,
          2,
          3,
          9,
          5,
          0,
          6,
          3,
          0,
          0,
          0,
          10,
          4,
          8,
          4,
          0,
          0,
          2,
          4,
          4,
          0,
          3,
          0,
          0,
          6,
          2,
          3,
          0,
          5,
          4,
          2,
          1,
          0,
          1,
          0,
          0,
          9,
          6,
          0,
          4,
          1,
          1,
          2,
          7,
          0,
          0,
          0,
          1,
          0,
          0,
          5,
          0,
          3,
          0,
          6,
          3,
          6,
          0,
          0,
          1,
          0,
          0,
          6,
          9,
          3,
          0,
          0,
          5,
          0,
          0,
          3,
          2,
          0,
          2,
          0,
          0,
          4,
          10,
          5,
          3,
          0,
          1,
          5,
          2,
          0,
          0,
          0,
          0,
          0,
          6,
          0,
          8,
          3,
          6,
          2,
          0,
          0,
          0,
          5,
          0,
          3,
          0,
          1,
          9,
          1,
          1,
          3,
          0,
          11,
          5,
          1,
          0,
          0,
          0,
          4,
          0,
          2,
          13,
          4,
          0,
          0,
          0,
          0,
          0,
          1,
          1,
          4,
          0,
          0,
          0,
          6,
          3,
          13,
          0,
          0,
          1,
          0,
          0,
          5,
          0,
          0,
          0,
          1,
          0,
          3,
          0,
          0,
          0,
          0,
          0,
          5,
          0,
          0,
          12,
          0,
          0,
          5,
          0,
          0,
          0,
          1,
          0,
          1,
          2,
          12,
          0,
          4,
          0,
          0,
          0,
          7,
          0,
          0,
          0,
          4,
          2,
          0,
          0,
          0,
          16,
          0,
          3,
          0,
          0,
          0,
          0,
          0,
          1,
          0,
          4,
          0,
          0,
          6,
          0,
          0,
          5,
          2,
          0,
          11,
          3,
          13,
          4,
          6,
          0,
          0,
          0,
          0,
          6,
          4,
          0,
          10,
          10,
          15,
          6,
          0,
          0,
          3,
          0,
          1,
          0,
          6,
          6,
          0,
          1,
          0,
          1,
          0,
          1,
          1,
          0,
          0,
          0,
          0,
          3,
          6,
          7,
          0,
          6,
          0,
          5,
          16,
          0,
          1,
          0,
          11,
          0,
          0,
          9,
          0,
          0,
          11,
          3,
          2,
          0,
          0,
          0,
          0,
          1,
          0,
          0,
          1,
          1,
          0,
          0,
          1,
          0,
          0,
          0,
          7,
          0,
          8,
          1,
          0,
          0,
          0,
          0,
          0,
          2,
          0,
          0,
          0,
          0,
          5,
          0,
          0,
          0,
          0,
          0,
          0,
          0,
          1,
          0,
          3,
          1,
          0,
          0,
          5,
          0,
          0,
          5,
          3,
          3,
          0,
          3,
          0,
          0,
          1,
          2,
          0,
          2,
          0,
          0,
          0,
          0,
          0,
          0,
          0,
          6,
          1,
          0,
          10,
          3,
          0,
          0,
          7,
          1,
          1,
          1,
          2,
          4,
          10,
          3,
          0,
          0,
          0,
          1,
          1,
          0,
          2,
          0,
          8,
          0,
          0,
          2,
          1,
          4,
          0,
          3,
          0,
          12,
          0,
          0,
          0,
          0,
          1,
          4,
          1,
          0,
          0,
          2,
          0,
          0,
          0,
          4,
          0,
          1,
          0,
          0,
          0,
          0,
          3,
          8,
          0,
          0,
          3,
          0,
          0,
          1,
          0,
          9,
          0,
          0,
          1,
          12,
          13,
          0,
          6,
          0,
          3,
          0,
          5,
          1,
          1,
          0,
          0,
          0,
          0,
          0,
          1,
          0,
          0,
          0,
          0,
          0,
          8,
          5,
          0,
          0,
          0,
          0,
          11,
          3,
          0,
          3,
          0,
          0,
          0,
          0,
          0,
          12,
          0,
          3,
          0,
          1,
          6,
          0,
          3,
          2,
          0,
          0,
          0,
          0,
          0,
          5,
          2,
          0,
          0,
          0,
          3,
          0,
          0,
          0,
          0,
          5,
          0,
          0,
          0,
          2,
          2,
          9,
          0,
          0,
          0,
          0,
          0,
          3,
          1,
          0,
          0,
          0,
          0,
          0,
          0,
          0,
          16,
          6,
          0,
          0,
          2,
          0,
          0,
          11,
          14,
          7,
          0,
          0,
          10,
          0,
          2,
          0,
          0,
          3,
          2,
          0,
          0,
          1,
          7,
          0,
          0,
          9,
          8,
          9,
          5,
          3,
          0,
          0,
          8,
          0,
          0,
          1,
          2,
          0,
          4,
          0,
          3,
          0,
          8,
          0,
          0,
          0,
          7,
          0,
          0,
          0,
          0,
          0,
          0,
          0,
          5,
          5,
          0,
          0,
          0,
          4,
          2,
          11,
          0,
          0,
          8,
          0,
          0,
          4,
          0,
          7,
          0,
          0,
          0,
          0,
          3,
          2,
          8,
          3,
          6,
          3,
          6,
          0,
          5,
          2,
          2,
          3,
          3,
          2,
          0,
          0,
          0,
          1,
          0,
          0,
          3,
          0,
          0,
          0,
          1,
          8,
          5,
          4,
          1,
          3,
          3,
          3,
          3,
          6,
          1,
          0,
          0,
          0,
          5,
          0,
          4,
          0,
          2,
          2,
          0,
          0,
          6,
          0,
          2,
          3,
          6,
          2,
          4,
          4,
          3,
          7,
          0,
          5,
          6,
          3,
          1,
          1,
          6,
          6,
          9,
          2,
          0,
          0,
          4,
          2,
          3,
          0,
          1,
          1,
          12,
          6,
          8,
          4,
          0,
          1,
          0,
          1,
          4,
          6,
          2,
          3,
          10,
          1,
          3,
          2,
          3,
          10,
          3,
          6,
          2,
          12,
          8,
          0,
          3,
          3,
          8,
          0,
          0,
          4,
          8,
          7,
          1,
          0,
          4,
          12,
          1,
          12,
          2,
          9,
          3,
          2,
          9,
          0,
          0,
          10,
          0,
          6,
          0,
          0,
          0,
          7,
          7,
          5,
          0,
          2,
          2,
          0,
          4,
          2,
          2,
          0,
          0,
          2,
          2,
          3,
          7,
          3,
          0,
          9,
          4,
          4,
          0,
          0,
          2,
          3,
          1,
          0,
          0,
          0,
          0,
          0,
          0,
          8,
          0,
          4,
          3,
          12,
          0,
          0,
          2,
          0,
          0,
          0,
          5,
          12,
          0,
          1,
          0,
          9,
          2,
          7,
          0,
          8,
          0,
          0,
          4,
          0,
          0,
          4,
          8,
          0,
          0,
          0,
          8,
          11,
          0,
          2,
          1,
          4,
          0,
          0,
          0,
          0,
          2,
          11,
          2,
          0,
          0,
          0,
          0,
          2,
          0,
          3,
          0,
          0,
          0,
          0,
          0,
          12,
          0,
          2,
          1,
          1,
          5,
          0,
          0,
          2,
          0,
          0,
          3,
          0,
          0,
          0,
          0,
          5,
          0,
          1,
          2,
          4,
          0,
          0,
          1,
          7,
          0,
          0,
          4,
          0,
          2,
          3,
          2,
          2,
          0,
          0,
          0,
          0,
          0,
          0,
          0,
          0,
          0,
          0,
          0,
          0,
          3,
          0,
          0,
          0,
          0,
          6,
          0,
          1,
          10,
          0,
          0,
          0,
          2,
          0,
          5,
          0,
          0,
          2,
          0,
          0,
          0,
          0,
          0,
          9,
          3,
          3,
          3,
          6,
          0,
          0,
          6,
          7,
          0,
          0,
          0,
          4,
          7,
          5,
          4,
          2,
          0,
          6,
          9,
          8,
          0,
          0,
          0,
          0,
          0,
          2,
          0,
          3,
          6,
          0,
          0,
          10,
          4,
          3,
          0,
          1,
          6,
          0,
          2,
          2,
          4,
          2,
          4,
          0,
          8,
          5,
          0,
          5,
          0,
          9,
          2,
          0,
          3,
          0,
          2,
          0,
          0,
          1,
          6,
          1,
          4,
          1,
          0,
          3,
          8,
          8,
          0,
          13,
          0,
          0,
          2,
          1,
          2,
          0,
          10,
          4,
          3,
          4,
          1,
          0,
          2,
          7,
          4,
          0,
          10,
          3,
          0,
          0,
          1,
          5,
          2,
          2,
          8,
          0,
          3,
          5,
          1,
          2,
          4,
          7,
          7,
          2,
          9,
          4,
          3,
          6,
          9,
          4,
          1,
          5,
          2,
          9,
          1,
          0,
          0,
          3,
          0,
          1,
          6,
          1,
          0,
          0,
          0,
          3,
          4,
          1,
          0,
          6,
          0,
          2,
          5,
          4,
          4,
          5,
          2,
          7,
          1,
          1,
          11,
          0,
          0,
          0,
          8,
          3,
          7,
          4,
          0,
          0,
          4,
          2,
          3,
          2,
          5,
          9,
          2,
          0,
          2,
          2,
          2,
          0,
          5,
          5,
          6,
          8,
          3,
          2,
          1,
          6,
          9,
          3,
          4,
          3,
          0,
          1,
          5,
          4,
          10,
          3,
          3,
          0,
          10,
          4,
          3,
          0,
          2,
          4,
          2,
          0,
          5,
          0,
          7,
          0,
          9,
          4,
          2,
          1,
          4,
          0,
          0,
          3,
          3,
          4,
          2,
          1,
          0,
          3,
          0,
          0,
          9,
          0,
          0,
          0,
          2,
          0,
          4,
          1,
          0,
          0,
          4,
          8,
          0,
          0,
          0,
          5,
          2,
          0,
          2,
          2,
          0,
          0,
          0,
          1,
          0,
          0,
          0,
          0,
          0,
          9,
          0,
          0,
          4,
          0,
          0,
          0,
          0,
          0,
          1,
          0,
          0,
          0,
          0,
          0,
          3,
          0,
          0,
          1,
          0,
          0,
          0,
          10,
          4,
          0,
          1,
          0,
          0,
          7,
          0,
          0,
          0,
          0,
          1,
          0,
          5,
          0,
          11,
          0,
          0,
          0,
          2,
          0,
          0,
          7,
          1,
          0,
          4,
          0,
          9,
          0,
          7,
          0,
          2,
          0,
          1,
          0,
          0,
          1,
          0,
          0,
          0,
          0,
          0,
          4,
          9,
          0,
          0,
          0,
          0,
          10,
          4,
          2,
          0,
          0,
          0,
          0,
          0,
          0,
          0,
          6,
          0,
          7,
          0,
          0,
          0,
          0,
          0,
          9,
          0,
          3,
          0,
          0,
          0,
          7,
          0,
          2,
          0,
          0,
          2,
          0,
          0,
          2,
          0,
          1,
          1,
          1,
          0,
          0,
          0,
          1,
          1,
          0,
          1,
          7,
          0,
          0,
          0,
          1,
          7,
          0,
          0,
          1,
          0,
          0,
          0,
          0,
          2,
          1,
          0,
          1,
          1,
          5,
          0,
          3,
          1,
          3,
          3,
          2,
          4,
          4,
          0,
          1,
          4,
          7,
          0,
          6,
          0,
          0,
          0,
          0,
          2,
          0,
          0,
          0,
          0,
          0,
          0,
          0,
          5,
          0,
          0,
          0,
          6,
          0,
          10,
          0,
          2,
          0,
          2,
          0,
          4,
          3,
          6,
          7,
          0,
          3,
          1,
          0,
          3,
          0,
          6,
          10,
          13,
          3,
          4,
          5,
          2,
          0,
          4,
          5,
          1,
          5,
          0,
          2,
          5,
          0,
          3,
          1,
          0,
          0,
          1,
          2,
          0,
          2,
          3,
          4,
          12,
          1,
          2,
          0,
          0,
          0,
          0,
          0,
          0,
          1,
          6,
          0,
          0,
          0,
          0,
          3,
          1,
          14,
          0,
          4,
          1,
          8,
          2,
          0,
          0,
          2,
          3,
          4,
          0,
          0,
          4,
          0,
          2,
          0,
          5,
          10,
          2,
          3,
          0,
          4,
          3,
          3,
          0,
          8,
          2,
          5,
          0,
          5,
          0,
          3,
          7,
          1,
          1,
          1,
          0,
          1,
          5,
          4,
          3,
          1,
          1,
          2,
          2,
          2,
          1,
          2,
          5,
          6,
          1,
          6,
          4,
          2,
          4,
          0,
          2,
          4,
          2,
          0,
          6,
          6,
          1,
          4,
          2,
          5,
          10,
          4,
          2,
          7,
          0,
          3,
          5,
          0,
          5,
          0,
          5,
          4,
          0,
          0,
          0,
          3,
          2,
          7,
          10,
          3,
          0,
          1,
          2,
          1,
          5,
          0,
          1,
          0,
          5,
          7,
          7,
          4,
          7,
          0,
          0,
          0,
          0,
          2,
          5,
          5,
          2,
          0,
          5,
          2,
          2,
          0,
          0,
          5,
          0,
          2,
          0,
          0,
          0,
          6,
          0,
          0,
          4,
          4,
          0,
          0,
          0,
          1,
          6,
          8,
          6,
          5,
          1,
          2,
          3,
          9,
          3,
          0,
          5,
          1,
          2,
          12,
          9,
          4,
          9,
          0,
          4,
          8,
          6,
          4,
          9,
          5,
          3,
          2,
          6,
          3,
          1,
          4,
          5,
          2,
          9,
          2,
          4,
          7,
          1,
          0,
          2,
          0,
          4,
          0,
          5,
          2,
          4,
          4,
          5,
          5,
          3,
          3,
          0,
          5,
          0,
          0,
          2,
          3,
          2,
          0,
          6,
          0,
          5,
          11,
          0,
          1,
          0,
          0,
          0,
          5,
          0,
          3,
          3,
          6,
          1,
          9,
          2,
          4,
          12,
          10,
          8,
          2,
          2,
          6,
          13,
          0,
          8,
          11,
          4,
          0,
          0,
          9,
          8,
          1,
          5,
          9,
          0,
          1,
          0,
          11,
          11,
          9,
          0,
          3,
          3,
          0,
          7,
          0,
          2,
          13,
          2,
          0,
          0,
          3,
          0,
          0,
          5,
          6,
          3,
          0,
          4,
          1,
          1,
          0,
          0,
          4,
          0,
          0,
          5,
          4,
          9,
          2,
          7,
          1,
          2,
          0,
          9,
          1,
          0,
          0,
          0,
          0,
          3,
          8,
          0,
          2,
          3,
          0,
          0,
          0,
          3,
          8,
          6,
          11,
          2,
          3,
          4,
          1,
          5,
          2,
          0,
          3,
          6,
          2,
          2,
          1,
          3,
          3,
          4,
          3,
          5,
          0,
          0,
          0,
          3,
          5,
          4,
          0,
          4,
          5,
          0,
          2,
          0,
          1,
          6,
          0,
          2,
          7,
          3,
          5,
          0,
          0,
          4,
          7,
          0,
          10,
          2,
          10,
          4,
          0,
          0,
          0,
          1,
          5,
          5,
          5,
          0,
          4,
          2,
          0,
          0,
          9,
          0,
          4,
          0,
          2,
          5,
          2,
          2,
          2,
          1,
          2,
          7,
          0,
          6,
          6,
          0,
          0,
          6,
          0,
          0,
          2,
          12,
          2,
          1,
          9,
          3,
          3,
          2,
          5,
          5,
          2,
          2,
          7,
          1,
          0,
          5,
          2,
          0,
          4,
          0,
          5,
          6,
          6,
          0,
          4,
          0,
          5,
          4,
          2,
          7,
          5,
          5,
          3,
          0,
          1,
          2,
          3,
          1,
          5,
          0,
          3,
          0,
          2,
          3,
          1,
          0,
          4,
          0,
          2,
          2,
          0,
          0,
          3,
          0,
          4,
          0,
          2,
          6,
          6,
          0,
          0,
          0,
          2,
          0,
          3,
          0,
          1,
          0,
          0,
          6,
          3,
          0,
          4,
          1,
          1,
          0,
          3,
          1,
          2,
          9,
          3,
          2,
          0,
          0,
          0,
          1,
          4,
          0,
          4,
          12,
          1,
          0,
          5,
          8,
          0,
          6,
          3,
          10,
          0,
          7,
          1,
          8,
          2,
          4,
          2,
          0,
          1,
          0,
          6,
          0,
          4,
          2,
          3,
          8,
          2,
          5,
          8,
          2,
          0,
          1,
          12,
          5,
          0,
          1,
          6,
          6,
          0,
          0,
          3,
          0,
          5,
          2,
          8,
          4,
          4,
          0,
          4,
          4,
          2,
          0,
          2,
          0,
          4,
          7,
          3,
          2,
          7,
          7,
          0,
          3,
          2,
          4,
          4,
          4,
          1,
          5,
          7,
          2,
          9,
          12,
          6,
          0,
          0,
          3,
          12,
          1,
          11,
          6,
          3,
          11,
          2,
          12,
          4,
          0,
          3,
          2,
          2,
          6,
          1,
          10,
          0,
          4,
          3,
          3,
          10,
          1,
          8,
          0,
          4,
          2,
          10,
          7,
          1,
          1,
          4,
          0,
          4,
          0,
          3,
          1,
          8,
          4,
          1,
          4,
          3,
          3,
          0,
          4,
          9,
          2,
          3,
          1,
          2,
          6,
          0,
          4,
          1,
          6,
          3,
          6,
          3,
          0,
          9,
          1,
          1,
          1,
          6,
          2,
          1,
          7,
          5,
          4,
          10,
          8,
          0,
          4,
          5,
          7,
          13,
          4,
          5,
          0,
          4,
          2,
          0,
          10,
          1,
          9,
          0,
          1,
          3,
          2,
          0,
          1,
          0,
          4,
          4,
          5,
          0,
          3,
          0,
          4,
          7,
          1,
          5,
          7,
          4,
          7,
          7,
          5,
          0,
          4,
          2,
          0,
          2,
          3,
          7,
          5,
          0,
          0,
          2,
          1,
          1,
          0,
          0,
          3,
          3,
          4,
          6,
          0,
          0,
          0,
          3,
          0,
          9,
          10,
          7,
          3,
          5,
          0,
          14,
          14,
          8,
          11,
          6,
          8,
          0,
          0,
          8,
          0,
          0,
          0,
          8,
          0,
          4,
          2,
          5,
          2,
          3,
          3,
          5,
          1,
          4,
          4,
          5,
          1,
          0,
          0,
          0,
          7,
          3,
          2,
          0,
          0,
          12,
          1,
          3,
          9,
          2,
          1,
          9,
          2,
          3,
          0,
          5,
          10,
          11,
          0,
          3,
          8,
          5,
          3,
          3,
          1,
          7,
          6,
          1,
          0,
          8,
          3,
          7,
          0,
          12,
          1,
          5,
          6,
          8,
          10,
          1,
          6,
          4,
          0,
          0,
          5,
          3,
          8,
          0,
          0,
          6,
          2,
          1,
          14,
          11,
          3,
          0,
          3,
          0,
          2,
          1,
          0,
          7,
          8,
          0,
          0,
          13,
          0,
          9,
          5,
          1,
          6,
          0,
          0,
          0,
          1,
          5,
          0,
          1,
          8,
          6,
          0,
          3,
          1,
          11,
          8,
          10,
          13,
          1,
          8,
          7,
          5,
          8,
          11,
          7,
          6,
          4,
          4,
          9,
          5,
          8,
          1,
          8,
          0,
          1,
          4,
          0,
          1,
          2,
          1,
          9,
          6,
          7,
          0,
          3,
          1,
          3,
          1,
          1,
          3,
          3,
          8,
          1,
          1,
          3,
          4,
          1,
          2,
          6,
          0,
          0,
          6,
          0,
          5,
          0,
          2,
          2,
          2,
          3,
          4,
          0,
          0,
          3,
          7,
          7,
          3,
          4,
          12,
          8,
          1,
          5,
          2,
          3,
          2,
          6,
          4,
          7,
          6,
          2,
          4,
          2,
          0,
          4,
          1,
          0,
          0,
          3,
          5,
          8,
          1,
          0,
          0,
          5,
          6,
          12,
          7,
          3,
          1,
          9,
          8,
          0,
          4,
          6,
          11,
          2
         ],
         "xaxis": "x",
         "yaxis": "y"
        },
        {
         "alignmentgroup": "True",
         "bingroup": "x",
         "hovertemplate": "Type=High Degree<br>count=%{y}<extra></extra>",
         "legendgroup": "High Degree",
         "marker": {
          "color": "#A3A500",
          "opacity": 0.5,
          "pattern": {
           "shape": ""
          }
         },
         "name": "High Degree",
         "offsetgroup": "High Degree",
         "orientation": "v",
         "showlegend": true,
         "type": "histogram",
         "x": [
          16,
          49,
          23,
          20,
          19,
          21,
          21,
          20,
          58,
          48,
          22,
          26,
          80,
          21,
          18,
          20,
          29,
          39,
          22,
          35,
          54,
          18,
          18,
          20,
          45,
          18,
          32,
          16,
          36,
          28,
          14,
          24,
          17,
          18,
          29,
          17,
          16,
          16,
          23,
          19,
          18,
          15,
          22,
          17,
          16,
          28,
          22,
          17,
          33,
          26,
          13,
          15,
          17,
          25,
          36,
          14,
          37,
          37,
          32,
          18,
          19,
          23,
          19,
          42,
          17,
          18,
          22,
          18,
          28,
          27,
          17,
          17,
          18,
          31,
          31,
          14,
          17,
          15,
          26,
          24,
          26,
          18,
          17,
          16,
          18,
          18,
          19,
          18,
          17,
          20,
          15,
          20,
          20,
          24,
          14,
          19,
          19,
          22,
          15,
          16,
          14,
          16,
          12,
          13,
          15,
          15,
          13,
          15,
          14,
          14,
          14,
          19,
          15,
          15,
          18,
          14,
          15,
          15,
          12,
          15,
          10,
          15
         ],
         "xaxis": "x",
         "yaxis": "y"
        }
       ],
       "layout": {
        "barmode": "overlay",
        "font": {
         "size": 20
        },
        "legend": {
         "bgcolor": "rgba(0,0,0,0)",
         "font": {
          "color": "#003366",
          "size": 18
         },
         "orientation": "h",
         "title": {
          "text": "Type"
         },
         "tracegroupgap": 0,
         "x": 0.5,
         "xanchor": "center",
         "y": 0.9,
         "yanchor": "middle"
        },
        "margin": {
         "b": 0,
         "l": 32,
         "r": 32,
         "t": 20
        },
        "template": {
         "data": {
          "bar": [
           {
            "error_x": {
             "color": "rgb(51,51,51)"
            },
            "error_y": {
             "color": "rgb(51,51,51)"
            },
            "marker": {
             "line": {
              "color": "rgb(237,237,237)",
              "width": 0.5
             },
             "pattern": {
              "fillmode": "overlay",
              "size": 10,
              "solidity": 0.2
             }
            },
            "type": "bar"
           }
          ],
          "barpolar": [
           {
            "marker": {
             "line": {
              "color": "rgb(237,237,237)",
              "width": 0.5
             },
             "pattern": {
              "fillmode": "overlay",
              "size": 10,
              "solidity": 0.2
             }
            },
            "type": "barpolar"
           }
          ],
          "carpet": [
           {
            "aaxis": {
             "endlinecolor": "rgb(51,51,51)",
             "gridcolor": "white",
             "linecolor": "white",
             "minorgridcolor": "white",
             "startlinecolor": "rgb(51,51,51)"
            },
            "baxis": {
             "endlinecolor": "rgb(51,51,51)",
             "gridcolor": "white",
             "linecolor": "white",
             "minorgridcolor": "white",
             "startlinecolor": "rgb(51,51,51)"
            },
            "type": "carpet"
           }
          ],
          "choropleth": [
           {
            "colorbar": {
             "outlinewidth": 0,
             "tickcolor": "rgb(237,237,237)",
             "ticklen": 6,
             "ticks": "inside"
            },
            "type": "choropleth"
           }
          ],
          "contour": [
           {
            "colorbar": {
             "outlinewidth": 0,
             "tickcolor": "rgb(237,237,237)",
             "ticklen": 6,
             "ticks": "inside"
            },
            "colorscale": [
             [
              0,
              "rgb(20,44,66)"
             ],
             [
              1,
              "rgb(90,179,244)"
             ]
            ],
            "type": "contour"
           }
          ],
          "contourcarpet": [
           {
            "colorbar": {
             "outlinewidth": 0,
             "tickcolor": "rgb(237,237,237)",
             "ticklen": 6,
             "ticks": "inside"
            },
            "type": "contourcarpet"
           }
          ],
          "heatmap": [
           {
            "colorbar": {
             "outlinewidth": 0,
             "tickcolor": "rgb(237,237,237)",
             "ticklen": 6,
             "ticks": "inside"
            },
            "colorscale": [
             [
              0,
              "rgb(20,44,66)"
             ],
             [
              1,
              "rgb(90,179,244)"
             ]
            ],
            "type": "heatmap"
           }
          ],
          "heatmapgl": [
           {
            "colorbar": {
             "outlinewidth": 0,
             "tickcolor": "rgb(237,237,237)",
             "ticklen": 6,
             "ticks": "inside"
            },
            "colorscale": [
             [
              0,
              "rgb(20,44,66)"
             ],
             [
              1,
              "rgb(90,179,244)"
             ]
            ],
            "type": "heatmapgl"
           }
          ],
          "histogram": [
           {
            "marker": {
             "pattern": {
              "fillmode": "overlay",
              "size": 10,
              "solidity": 0.2
             }
            },
            "type": "histogram"
           }
          ],
          "histogram2d": [
           {
            "colorbar": {
             "outlinewidth": 0,
             "tickcolor": "rgb(237,237,237)",
             "ticklen": 6,
             "ticks": "inside"
            },
            "colorscale": [
             [
              0,
              "rgb(20,44,66)"
             ],
             [
              1,
              "rgb(90,179,244)"
             ]
            ],
            "type": "histogram2d"
           }
          ],
          "histogram2dcontour": [
           {
            "colorbar": {
             "outlinewidth": 0,
             "tickcolor": "rgb(237,237,237)",
             "ticklen": 6,
             "ticks": "inside"
            },
            "colorscale": [
             [
              0,
              "rgb(20,44,66)"
             ],
             [
              1,
              "rgb(90,179,244)"
             ]
            ],
            "type": "histogram2dcontour"
           }
          ],
          "mesh3d": [
           {
            "colorbar": {
             "outlinewidth": 0,
             "tickcolor": "rgb(237,237,237)",
             "ticklen": 6,
             "ticks": "inside"
            },
            "type": "mesh3d"
           }
          ],
          "parcoords": [
           {
            "line": {
             "colorbar": {
              "outlinewidth": 0,
              "tickcolor": "rgb(237,237,237)",
              "ticklen": 6,
              "ticks": "inside"
             }
            },
            "type": "parcoords"
           }
          ],
          "pie": [
           {
            "automargin": true,
            "type": "pie"
           }
          ],
          "scatter": [
           {
            "fillpattern": {
             "fillmode": "overlay",
             "size": 10,
             "solidity": 0.2
            },
            "type": "scatter"
           }
          ],
          "scatter3d": [
           {
            "line": {
             "colorbar": {
              "outlinewidth": 0,
              "tickcolor": "rgb(237,237,237)",
              "ticklen": 6,
              "ticks": "inside"
             }
            },
            "marker": {
             "colorbar": {
              "outlinewidth": 0,
              "tickcolor": "rgb(237,237,237)",
              "ticklen": 6,
              "ticks": "inside"
             }
            },
            "type": "scatter3d"
           }
          ],
          "scattercarpet": [
           {
            "marker": {
             "colorbar": {
              "outlinewidth": 0,
              "tickcolor": "rgb(237,237,237)",
              "ticklen": 6,
              "ticks": "inside"
             }
            },
            "type": "scattercarpet"
           }
          ],
          "scattergeo": [
           {
            "marker": {
             "colorbar": {
              "outlinewidth": 0,
              "tickcolor": "rgb(237,237,237)",
              "ticklen": 6,
              "ticks": "inside"
             }
            },
            "type": "scattergeo"
           }
          ],
          "scattergl": [
           {
            "marker": {
             "colorbar": {
              "outlinewidth": 0,
              "tickcolor": "rgb(237,237,237)",
              "ticklen": 6,
              "ticks": "inside"
             }
            },
            "type": "scattergl"
           }
          ],
          "scattermapbox": [
           {
            "marker": {
             "colorbar": {
              "outlinewidth": 0,
              "tickcolor": "rgb(237,237,237)",
              "ticklen": 6,
              "ticks": "inside"
             }
            },
            "type": "scattermapbox"
           }
          ],
          "scatterpolar": [
           {
            "marker": {
             "colorbar": {
              "outlinewidth": 0,
              "tickcolor": "rgb(237,237,237)",
              "ticklen": 6,
              "ticks": "inside"
             }
            },
            "type": "scatterpolar"
           }
          ],
          "scatterpolargl": [
           {
            "marker": {
             "colorbar": {
              "outlinewidth": 0,
              "tickcolor": "rgb(237,237,237)",
              "ticklen": 6,
              "ticks": "inside"
             }
            },
            "type": "scatterpolargl"
           }
          ],
          "scatterternary": [
           {
            "marker": {
             "colorbar": {
              "outlinewidth": 0,
              "tickcolor": "rgb(237,237,237)",
              "ticklen": 6,
              "ticks": "inside"
             }
            },
            "type": "scatterternary"
           }
          ],
          "surface": [
           {
            "colorbar": {
             "outlinewidth": 0,
             "tickcolor": "rgb(237,237,237)",
             "ticklen": 6,
             "ticks": "inside"
            },
            "colorscale": [
             [
              0,
              "rgb(20,44,66)"
             ],
             [
              1,
              "rgb(90,179,244)"
             ]
            ],
            "type": "surface"
           }
          ],
          "table": [
           {
            "cells": {
             "fill": {
              "color": "rgb(237,237,237)"
             },
             "line": {
              "color": "white"
             }
            },
            "header": {
             "fill": {
              "color": "rgb(217,217,217)"
             },
             "line": {
              "color": "white"
             }
            },
            "type": "table"
           }
          ]
         },
         "layout": {
          "annotationdefaults": {
           "arrowhead": 0,
           "arrowwidth": 1
          },
          "autotypenumbers": "strict",
          "coloraxis": {
           "colorbar": {
            "outlinewidth": 0,
            "tickcolor": "rgb(237,237,237)",
            "ticklen": 6,
            "ticks": "inside"
           }
          },
          "colorscale": {
           "sequential": [
            [
             0,
             "rgb(20,44,66)"
            ],
            [
             1,
             "rgb(90,179,244)"
            ]
           ],
           "sequentialminus": [
            [
             0,
             "rgb(20,44,66)"
            ],
            [
             1,
             "rgb(90,179,244)"
            ]
           ]
          },
          "colorway": [
           "#F8766D",
           "#A3A500",
           "#00BF7D",
           "#00B0F6",
           "#E76BF3"
          ],
          "font": {
           "color": "rgb(51,51,51)"
          },
          "geo": {
           "bgcolor": "white",
           "lakecolor": "white",
           "landcolor": "rgb(237,237,237)",
           "showlakes": true,
           "showland": true,
           "subunitcolor": "white"
          },
          "hoverlabel": {
           "align": "left"
          },
          "hovermode": "closest",
          "paper_bgcolor": "white",
          "plot_bgcolor": "rgb(237,237,237)",
          "polar": {
           "angularaxis": {
            "gridcolor": "white",
            "linecolor": "white",
            "showgrid": true,
            "tickcolor": "rgb(51,51,51)",
            "ticks": "outside"
           },
           "bgcolor": "rgb(237,237,237)",
           "radialaxis": {
            "gridcolor": "white",
            "linecolor": "white",
            "showgrid": true,
            "tickcolor": "rgb(51,51,51)",
            "ticks": "outside"
           }
          },
          "scene": {
           "xaxis": {
            "backgroundcolor": "rgb(237,237,237)",
            "gridcolor": "white",
            "gridwidth": 2,
            "linecolor": "white",
            "showbackground": true,
            "showgrid": true,
            "tickcolor": "rgb(51,51,51)",
            "ticks": "outside",
            "zerolinecolor": "white"
           },
           "yaxis": {
            "backgroundcolor": "rgb(237,237,237)",
            "gridcolor": "white",
            "gridwidth": 2,
            "linecolor": "white",
            "showbackground": true,
            "showgrid": true,
            "tickcolor": "rgb(51,51,51)",
            "ticks": "outside",
            "zerolinecolor": "white"
           },
           "zaxis": {
            "backgroundcolor": "rgb(237,237,237)",
            "gridcolor": "white",
            "gridwidth": 2,
            "linecolor": "white",
            "showbackground": true,
            "showgrid": true,
            "tickcolor": "rgb(51,51,51)",
            "ticks": "outside",
            "zerolinecolor": "white"
           }
          },
          "shapedefaults": {
           "fillcolor": "black",
           "line": {
            "width": 0
           },
           "opacity": 0.3
          },
          "ternary": {
           "aaxis": {
            "gridcolor": "white",
            "linecolor": "white",
            "showgrid": true,
            "tickcolor": "rgb(51,51,51)",
            "ticks": "outside"
           },
           "baxis": {
            "gridcolor": "white",
            "linecolor": "white",
            "showgrid": true,
            "tickcolor": "rgb(51,51,51)",
            "ticks": "outside"
           },
           "bgcolor": "rgb(237,237,237)",
           "caxis": {
            "gridcolor": "white",
            "linecolor": "white",
            "showgrid": true,
            "tickcolor": "rgb(51,51,51)",
            "ticks": "outside"
           }
          },
          "xaxis": {
           "automargin": true,
           "gridcolor": "white",
           "linecolor": "white",
           "showgrid": true,
           "tickcolor": "rgb(51,51,51)",
           "ticks": "outside",
           "title": {
            "standoff": 15
           },
           "zerolinecolor": "white"
          },
          "yaxis": {
           "automargin": true,
           "gridcolor": "white",
           "linecolor": "white",
           "showgrid": true,
           "tickcolor": "rgb(51,51,51)",
           "ticks": "outside",
           "title": {
            "standoff": 15
           },
           "zerolinecolor": "white"
          }
         }
        },
        "title": {
         "text": ""
        },
        "xaxis": {
         "anchor": "y",
         "domain": [
          0,
          1
         ],
         "tickfont": {
          "size": 20
         },
         "title": {
          "text": "Mutation Burden"
         }
        },
        "yaxis": {
         "anchor": "x",
         "domain": [
          0,
          1
         ],
         "tickfont": {
          "size": 20
         },
         "title": {
          "text": "Log Count"
         },
         "type": "log"
        }
       }
      }
     },
     "metadata": {},
     "output_type": "display_data"
    }
   ],
   "source": [
    "dmy_df = sel_gt.nodes_df.copy(deep=True)\n",
    "dmy_df[\"Type\"] = \"Rest\"\n",
    "dmy_df.loc[sel_com_genes.index, \"Type\"] = \"High Degree\"\n",
    "\n",
    "fig = px.histogram(dmy_df, x=\"count\", color=\"Type\", log_y=True, barmode=\"overlay\")\n",
    "fig = fig.update_layout(\n",
    "    title=\"\",\n",
    "    legend=dict(\n",
    "        title=\"Type\",\n",
    "        orientation=\"h\",\n",
    "        yanchor=\"middle\",\n",
    "        xanchor=\"center\",\n",
    "        y=0.90,\n",
    "        x=0.5,\n",
    "        bgcolor=\"rgba(0,0,0,0)\",\n",
    "        font=dict(size=18, color=\"#003366\"),\n",
    "    ),\n",
    "    yaxis=dict(tickfont=dict(size=20), title=\"Log Count\"),\n",
    "    xaxis=dict(tickfont=dict(size=20), title=\"Mutation Burden\"),\n",
    "    font=dict(size=20),\n",
    ")\n",
    "save_fig(name=\"smallCom_MutHist\", fig=fig, base_path=figures_path, width=1600, height=500, margin=0.02)\n",
    "fig"
   ]
  },
  {
   "cell_type": "code",
   "execution_count": 114,
   "metadata": {},
   "outputs": [
    {
     "data": {
      "application/vnd.plotly.v1+json": {
       "config": {
        "plotlyServerURL": "https://plot.ly"
       },
       "data": [
        {
         "alignmentgroup": "True",
         "error_y": {
          "array": [
           1533.9371,
           49.2399,
           252.5818,
           61.5194,
           2.4263,
           203.1078,
           16.067,
           14.7256,
           28.3073
          ]
         },
         "hovertemplate": "max_b=1<br>index=%{x}<br>mean=%{y}<extra></extra>",
         "legendgroup": "1",
         "marker": {
          "color": "rgb(102, 197, 204)",
          "pattern": {
           "shape": ""
          }
         },
         "name": "1",
         "offsetgroup": "1",
         "orientation": "v",
         "showlegend": true,
         "textposition": "auto",
         "type": "bar",
         "x": [
          "ELF3",
          "CHD2",
          "KLF5",
          "ABCC5",
          "RIMS2",
          "EPHA2",
          "AKAP13",
          "TIAM1",
          "ATP8B1"
         ],
         "xaxis": "x",
         "y": [
          1664.9102,
          90.1153,
          423.9278,
          75.5424,
          3.5468,
          284.4815,
          28.6894,
          12.4743,
          57.6166
         ],
         "yaxis": "y"
        },
        {
         "alignmentgroup": "True",
         "error_y": {
          "array": [
           45.4691,
           10.0553,
           703.543,
           4.4372,
           14.5045,
           729.7073,
           16.2779,
           1.2893,
           6.1017
          ]
         },
         "hovertemplate": "max_b=10<br>index=%{x}<br>mean=%{y}<extra></extra>",
         "legendgroup": "10",
         "marker": {
          "color": "rgb(246, 207, 113)",
          "pattern": {
           "shape": ""
          }
         },
         "name": "10",
         "offsetgroup": "10",
         "orientation": "v",
         "showlegend": true,
         "textposition": "auto",
         "type": "bar",
         "x": [
          "COL7A1",
          "MYH10",
          "FN1",
          "SACS",
          "PRKDC",
          "LAMA3",
          "SF3B3",
          "DENND5B",
          "RASAL2"
         ],
         "xaxis": "x",
         "y": [
          34.6152,
          16.1856,
          327.0186,
          5.549,
          25.9189,
          496.2083,
          35.1418,
          2.3583,
          11.0761
         ],
         "yaxis": "y"
        },
        {
         "alignmentgroup": "True",
         "error_y": {
          "array": [
           81.3957,
           16.2148,
           4.8069,
           21.209,
           3.7543,
           15.9861,
           11.2211,
           14.7061,
           2.5145,
           9.3837
          ]
         },
         "hovertemplate": "max_b=2<br>index=%{x}<br>mean=%{y}<extra></extra>",
         "legendgroup": "2",
         "marker": {
          "color": "rgb(248, 156, 116)",
          "pattern": {
           "shape": ""
          }
         },
         "name": "2",
         "offsetgroup": "2",
         "orientation": "v",
         "showlegend": true,
         "textposition": "auto",
         "type": "bar",
         "x": [
          "AHR",
          "CREBBP",
          "NCOA1",
          "TACC2",
          "PAN2",
          "TP53BP2",
          "PCF11",
          "ITSN2",
          "ACACB",
          "DOT1L"
         ],
         "xaxis": "x",
         "y": [
          108.7085,
          20.7853,
          9.5776,
          34.6404,
          6.5898,
          24.1658,
          17.6952,
          29.7146,
          2.4023,
          17.6165
         ],
         "yaxis": "y"
        },
        {
         "alignmentgroup": "True",
         "error_y": {
          "array": [
           181.847,
           9.9203,
           16.5101,
           64.0635,
           2.4195,
           43.5656,
           10.8999,
           49.4995,
           27.1939,
           34.6981,
           14.2424
          ]
         },
         "hovertemplate": "max_b=28<br>index=%{x}<br>mean=%{y}<extra></extra>",
         "legendgroup": "28",
         "marker": {
          "color": "rgb(220, 176, 242)",
          "pattern": {
           "shape": ""
          }
         },
         "name": "28",
         "offsetgroup": "28",
         "orientation": "v",
         "showlegend": true,
         "textposition": "auto",
         "type": "bar",
         "x": [
          "PLXNB2",
          "DMXL2",
          "SMCHD1",
          "SCRIB",
          "PLEKHH2",
          "PTPRM",
          "RALGAPA2",
          "PPL",
          "NOTCH3",
          "PLEKHA7",
          "AFF1"
         ],
         "xaxis": "x",
         "y": [
          308.3677,
          19.4152,
          34.3842,
          133.1368,
          4.3333,
          66.478,
          19.3497,
          87.4719,
          51.5733,
          54.8897,
          29.184
         ],
         "yaxis": "y"
        },
        {
         "alignmentgroup": "True",
         "error_y": {
          "array": [
           43.1228,
           57.4376,
           14.2305,
           11.7772,
           82.7526,
           7.422,
           35.5738,
           85.4434,
           26.0021,
           22.5634
          ]
         },
         "hovertemplate": "max_b=32<br>index=%{x}<br>mean=%{y}<extra></extra>",
         "legendgroup": "32",
         "marker": {
          "color": "rgb(135, 197, 95)",
          "pattern": {
           "shape": ""
          }
         },
         "name": "32",
         "offsetgroup": "32",
         "orientation": "v",
         "showlegend": true,
         "textposition": "auto",
         "type": "bar",
         "x": [
          "RNF213",
          "HSPG2",
          "EPG5",
          "MPDZ",
          "CDKN2A",
          "SHROOM3",
          "PARP14",
          "OAS2",
          "ZNFX1",
          "NYNRIN"
         ],
         "xaxis": "x",
         "y": [
          66.8596,
          75.2666,
          23.0477,
          19.0647,
          85.7347,
          10.6359,
          49.2693,
          98.4521,
          45.3378,
          39.9672
         ],
         "yaxis": "y"
        },
        {
         "alignmentgroup": "True",
         "error_y": {
          "array": [
           12.0975,
           16.3032,
           8.2671
          ]
         },
         "hovertemplate": "max_b=33<br>index=%{x}<br>mean=%{y}<extra></extra>",
         "legendgroup": "33",
         "marker": {
          "color": "rgb(158, 185, 243)",
          "pattern": {
           "shape": ""
          }
         },
         "name": "33",
         "offsetgroup": "33",
         "orientation": "v",
         "showlegend": true,
         "textposition": "auto",
         "type": "bar",
         "x": [
          "TRANK1",
          "VPS13D",
          "LAMA4"
         ],
         "xaxis": "x",
         "y": [
          16.4818,
          30.7138,
          10.6493
         ],
         "yaxis": "y"
        },
        {
         "alignmentgroup": "True",
         "error_y": {
          "array": [
           11.935,
           15.0792,
           3.7383,
           21.8257,
           29.7809,
           6.4745,
           7.9218,
           12.6471,
           0.7251,
           1.4563,
           6.6298,
           25.0184
          ]
         },
         "hovertemplate": "max_b=8<br>index=%{x}<br>mean=%{y}<extra></extra>",
         "legendgroup": "8",
         "marker": {
          "color": "rgb(254, 136, 177)",
          "pattern": {
           "shape": ""
          }
         },
         "name": "8",
         "offsetgroup": "8",
         "orientation": "v",
         "showlegend": true,
         "textposition": "auto",
         "type": "bar",
         "x": [
          "SPEN",
          "SMG1",
          "PCNT",
          "HIVEP2",
          "TBC1D1",
          "MXRA5",
          "HIVEP1",
          "PRDM2",
          "F8",
          "HIVEP3",
          "TRERF1",
          "SORL1"
         ],
         "xaxis": "x",
         "y": [
          27.1901,
          31.7006,
          5.9661,
          27.1921,
          41.677,
          9.1426,
          14.2493,
          24.3572,
          1.4313,
          2.8412,
          11.7687,
          37.5048
         ],
         "yaxis": "y"
        },
        {
         "alignmentgroup": "True",
         "error_y": {
          "array": [
           446.0305,
           8.0735,
           60.2605,
           72.6997,
           5.755,
           11.5592,
           1.8454,
           29.7182,
           8.4262,
           2.0098
          ]
         },
         "hovertemplate": "max_b=5<br>index=%{x}<br>mean=%{y}<extra></extra>",
         "legendgroup": "5",
         "marker": {
          "color": "rgb(201, 219, 116)",
          "pattern": {
           "shape": ""
          }
         },
         "name": "5",
         "offsetgroup": "5",
         "orientation": "v",
         "showlegend": true,
         "textposition": "auto",
         "type": "bar",
         "x": [
          "RHOB",
          "OBSCN",
          "HRAS",
          "BRD2",
          "SYNE1",
          "UTRN",
          "LRRCC1",
          "PPRC1",
          "AUTS2",
          "MAGI3"
         ],
         "xaxis": "x",
         "y": [
          293.2816,
          8.2127,
          109.6125,
          116.1179,
          5.2526,
          18.5045,
          3.528,
          32.5081,
          14.0339,
          4.2982
         ],
         "yaxis": "y"
        },
        {
         "alignmentgroup": "True",
         "error_y": {
          "array": [
           14.1409,
           4.4059,
           1.6307,
           10.4402,
           1.2385,
           30.0178,
           99.7189,
           7.8198,
           7.22,
           3.8969,
           1.7842,
           7.8183,
           22.1813
          ]
         },
         "hovertemplate": "max_b=18<br>index=%{x}<br>mean=%{y}<extra></extra>",
         "legendgroup": "18",
         "marker": {
          "color": "rgb(139, 224, 164)",
          "pattern": {
           "shape": ""
          }
         },
         "name": "18",
         "offsetgroup": "18",
         "orientation": "v",
         "showlegend": true,
         "textposition": "auto",
         "type": "bar",
         "x": [
          "FRY",
          "MYO1F",
          "CFAP70",
          "ADGRV1",
          "EFCAB5",
          "RERE",
          "PPARG",
          "PLCB1",
          "SIPA1L2",
          "MAGI2",
          "PTCH1",
          "NLRC5",
          "ZFC3H1"
         ],
         "xaxis": "x",
         "y": [
          18.8335,
          3.1368,
          3.2294,
          18.5414,
          1.9738,
          57.5989,
          171.4513,
          9.4417,
          10.9373,
          3.0743,
          3.2644,
          5.6182,
          27.8878
         ],
         "yaxis": "y"
        },
        {
         "alignmentgroup": "True",
         "error_y": {
          "array": [
           116.5846,
           100.1538,
           2.0485,
           2.5934,
           3.3757,
           12.6013,
           37.662,
           118.9285,
           13.7498
          ]
         },
         "hovertemplate": "max_b=15<br>index=%{x}<br>mean=%{y}<extra></extra>",
         "legendgroup": "15",
         "marker": {
          "color": "rgb(180, 151, 231)",
          "pattern": {
           "shape": ""
          }
         },
         "name": "15",
         "offsetgroup": "15",
         "orientation": "v",
         "showlegend": true,
         "textposition": "auto",
         "type": "bar",
         "x": [
          "PLEC",
          "DST",
          "ITPR2",
          "DYNC2H1",
          "DOCK4",
          "NRG1",
          "TP63",
          "FASN",
          "MCM4"
         ],
         "xaxis": "x",
         "y": [
          154.9517,
          146.9487,
          3.8022,
          4.9268,
          3.3053,
          9.8284,
          50.0549,
          138.2566,
          18.2054
         ],
         "yaxis": "y"
        },
        {
         "alignmentgroup": "True",
         "error_y": {
          "array": [
           1.8478,
           76.1772
          ]
         },
         "hovertemplate": "max_b=7<br>index=%{x}<br>mean=%{y}<extra></extra>",
         "legendgroup": "7",
         "marker": {
          "color": "rgb(179, 179, 179)",
          "pattern": {
           "shape": ""
          }
         },
         "name": "7",
         "offsetgroup": "7",
         "orientation": "v",
         "showlegend": true,
         "textposition": "auto",
         "type": "bar",
         "x": [
          "DIAPH2",
          "ZFP36L2"
         ],
         "xaxis": "x",
         "y": [
          3.9104,
          109.4443
         ],
         "yaxis": "y"
        },
        {
         "alignmentgroup": "True",
         "error_y": {
          "array": [
           6.9414,
           46.5369,
           16.6558,
           3.5118
          ]
         },
         "hovertemplate": "max_b=3<br>index=%{x}<br>mean=%{y}<extra></extra>",
         "legendgroup": "3",
         "marker": {
          "color": "rgb(136, 204, 238)",
          "pattern": {
           "shape": ""
          }
         },
         "name": "3",
         "offsetgroup": "3",
         "orientation": "v",
         "showlegend": true,
         "textposition": "auto",
         "type": "bar",
         "x": [
          "SYNE2",
          "FGFR3",
          "RBBP6",
          "SPAG17"
         ],
         "xaxis": "x",
         "y": [
          8.4042,
          35.1988,
          33.1317,
          2.6477
         ],
         "yaxis": "y"
        },
        {
         "alignmentgroup": "True",
         "error_y": {
          "array": [
           22.4139,
           3.9172,
           17.5789,
           1.9659,
           24.5328
          ]
         },
         "hovertemplate": "max_b=42<br>index=%{x}<br>mean=%{y}<extra></extra>",
         "legendgroup": "42",
         "marker": {
          "color": "rgb(204, 102, 119)",
          "pattern": {
           "shape": ""
          }
         },
         "name": "42",
         "offsetgroup": "42",
         "orientation": "v",
         "showlegend": true,
         "textposition": "auto",
         "type": "bar",
         "x": [
          "LRP1",
          "NAV2",
          "LTBP1",
          "CSPG4",
          "XPOT"
         ],
         "xaxis": "x",
         "y": [
          33.7091,
          5.7357,
          33.6543,
          2.4166,
          38.5607
         ],
         "yaxis": "y"
        },
        {
         "alignmentgroup": "True",
         "error_y": {
          "array": [
           20.1352,
           8.8953,
           135.5306,
           4.3384,
           2.5848,
           11.7926,
           4.316,
           3.0421,
           26.0553,
           4.2382,
           6.1005,
           18.8668,
           5.0655,
           8.7525,
           0.8448
          ]
         },
         "hovertemplate": "max_b=12<br>index=%{x}<br>mean=%{y}<extra></extra>",
         "legendgroup": "12",
         "marker": {
          "color": "rgb(221, 204, 119)",
          "pattern": {
           "shape": ""
          }
         },
         "name": "12",
         "offsetgroup": "12",
         "orientation": "v",
         "showlegend": true,
         "textposition": "auto",
         "type": "bar",
         "x": [
          "FAT2",
          "CCDC88A",
          "DSP",
          "BRCA1",
          "UTP20",
          "SMC4",
          "ATAD2",
          "STIL",
          "DOCK7",
          "KNTC1",
          "BUB1",
          "KIF13A",
          "MDC1",
          "FANCI",
          "CNTLN"
         ],
         "xaxis": "x",
         "y": [
          23.9573,
          16.2451,
          179.0532,
          4.1943,
          4.8623,
          14.8127,
          7.6021,
          2.9774,
          35.5398,
          6.7738,
          4.4351,
          32.6733,
          7.5281,
          10.3609,
          1.4386
         ],
         "yaxis": "y"
        }
       ],
       "layout": {
        "barmode": "relative",
        "font": {
         "size": 20
        },
        "height": 600,
        "legend": {
         "bgcolor": "rgba(0,0,0,0)",
         "font": {
          "color": "#003366",
          "size": 18
         },
         "orientation": "h",
         "title": {
          "text": "Community"
         },
         "tracegroupgap": 0,
         "x": 0.5,
         "xanchor": "center",
         "y": 0.95,
         "yanchor": "middle"
        },
        "margin": {
         "b": 0,
         "l": 34,
         "r": 34,
         "t": 24
        },
        "template": {
         "data": {
          "bar": [
           {
            "error_x": {
             "color": "rgb(51,51,51)"
            },
            "error_y": {
             "color": "rgb(51,51,51)"
            },
            "marker": {
             "line": {
              "color": "rgb(237,237,237)",
              "width": 0.5
             },
             "pattern": {
              "fillmode": "overlay",
              "size": 10,
              "solidity": 0.2
             }
            },
            "type": "bar"
           }
          ],
          "barpolar": [
           {
            "marker": {
             "line": {
              "color": "rgb(237,237,237)",
              "width": 0.5
             },
             "pattern": {
              "fillmode": "overlay",
              "size": 10,
              "solidity": 0.2
             }
            },
            "type": "barpolar"
           }
          ],
          "carpet": [
           {
            "aaxis": {
             "endlinecolor": "rgb(51,51,51)",
             "gridcolor": "white",
             "linecolor": "white",
             "minorgridcolor": "white",
             "startlinecolor": "rgb(51,51,51)"
            },
            "baxis": {
             "endlinecolor": "rgb(51,51,51)",
             "gridcolor": "white",
             "linecolor": "white",
             "minorgridcolor": "white",
             "startlinecolor": "rgb(51,51,51)"
            },
            "type": "carpet"
           }
          ],
          "choropleth": [
           {
            "colorbar": {
             "outlinewidth": 0,
             "tickcolor": "rgb(237,237,237)",
             "ticklen": 6,
             "ticks": "inside"
            },
            "type": "choropleth"
           }
          ],
          "contour": [
           {
            "colorbar": {
             "outlinewidth": 0,
             "tickcolor": "rgb(237,237,237)",
             "ticklen": 6,
             "ticks": "inside"
            },
            "colorscale": [
             [
              0,
              "rgb(20,44,66)"
             ],
             [
              1,
              "rgb(90,179,244)"
             ]
            ],
            "type": "contour"
           }
          ],
          "contourcarpet": [
           {
            "colorbar": {
             "outlinewidth": 0,
             "tickcolor": "rgb(237,237,237)",
             "ticklen": 6,
             "ticks": "inside"
            },
            "type": "contourcarpet"
           }
          ],
          "heatmap": [
           {
            "colorbar": {
             "outlinewidth": 0,
             "tickcolor": "rgb(237,237,237)",
             "ticklen": 6,
             "ticks": "inside"
            },
            "colorscale": [
             [
              0,
              "rgb(20,44,66)"
             ],
             [
              1,
              "rgb(90,179,244)"
             ]
            ],
            "type": "heatmap"
           }
          ],
          "heatmapgl": [
           {
            "colorbar": {
             "outlinewidth": 0,
             "tickcolor": "rgb(237,237,237)",
             "ticklen": 6,
             "ticks": "inside"
            },
            "colorscale": [
             [
              0,
              "rgb(20,44,66)"
             ],
             [
              1,
              "rgb(90,179,244)"
             ]
            ],
            "type": "heatmapgl"
           }
          ],
          "histogram": [
           {
            "marker": {
             "pattern": {
              "fillmode": "overlay",
              "size": 10,
              "solidity": 0.2
             }
            },
            "type": "histogram"
           }
          ],
          "histogram2d": [
           {
            "colorbar": {
             "outlinewidth": 0,
             "tickcolor": "rgb(237,237,237)",
             "ticklen": 6,
             "ticks": "inside"
            },
            "colorscale": [
             [
              0,
              "rgb(20,44,66)"
             ],
             [
              1,
              "rgb(90,179,244)"
             ]
            ],
            "type": "histogram2d"
           }
          ],
          "histogram2dcontour": [
           {
            "colorbar": {
             "outlinewidth": 0,
             "tickcolor": "rgb(237,237,237)",
             "ticklen": 6,
             "ticks": "inside"
            },
            "colorscale": [
             [
              0,
              "rgb(20,44,66)"
             ],
             [
              1,
              "rgb(90,179,244)"
             ]
            ],
            "type": "histogram2dcontour"
           }
          ],
          "mesh3d": [
           {
            "colorbar": {
             "outlinewidth": 0,
             "tickcolor": "rgb(237,237,237)",
             "ticklen": 6,
             "ticks": "inside"
            },
            "type": "mesh3d"
           }
          ],
          "parcoords": [
           {
            "line": {
             "colorbar": {
              "outlinewidth": 0,
              "tickcolor": "rgb(237,237,237)",
              "ticklen": 6,
              "ticks": "inside"
             }
            },
            "type": "parcoords"
           }
          ],
          "pie": [
           {
            "automargin": true,
            "type": "pie"
           }
          ],
          "scatter": [
           {
            "fillpattern": {
             "fillmode": "overlay",
             "size": 10,
             "solidity": 0.2
            },
            "type": "scatter"
           }
          ],
          "scatter3d": [
           {
            "line": {
             "colorbar": {
              "outlinewidth": 0,
              "tickcolor": "rgb(237,237,237)",
              "ticklen": 6,
              "ticks": "inside"
             }
            },
            "marker": {
             "colorbar": {
              "outlinewidth": 0,
              "tickcolor": "rgb(237,237,237)",
              "ticklen": 6,
              "ticks": "inside"
             }
            },
            "type": "scatter3d"
           }
          ],
          "scattercarpet": [
           {
            "marker": {
             "colorbar": {
              "outlinewidth": 0,
              "tickcolor": "rgb(237,237,237)",
              "ticklen": 6,
              "ticks": "inside"
             }
            },
            "type": "scattercarpet"
           }
          ],
          "scattergeo": [
           {
            "marker": {
             "colorbar": {
              "outlinewidth": 0,
              "tickcolor": "rgb(237,237,237)",
              "ticklen": 6,
              "ticks": "inside"
             }
            },
            "type": "scattergeo"
           }
          ],
          "scattergl": [
           {
            "marker": {
             "colorbar": {
              "outlinewidth": 0,
              "tickcolor": "rgb(237,237,237)",
              "ticklen": 6,
              "ticks": "inside"
             }
            },
            "type": "scattergl"
           }
          ],
          "scattermapbox": [
           {
            "marker": {
             "colorbar": {
              "outlinewidth": 0,
              "tickcolor": "rgb(237,237,237)",
              "ticklen": 6,
              "ticks": "inside"
             }
            },
            "type": "scattermapbox"
           }
          ],
          "scatterpolar": [
           {
            "marker": {
             "colorbar": {
              "outlinewidth": 0,
              "tickcolor": "rgb(237,237,237)",
              "ticklen": 6,
              "ticks": "inside"
             }
            },
            "type": "scatterpolar"
           }
          ],
          "scatterpolargl": [
           {
            "marker": {
             "colorbar": {
              "outlinewidth": 0,
              "tickcolor": "rgb(237,237,237)",
              "ticklen": 6,
              "ticks": "inside"
             }
            },
            "type": "scatterpolargl"
           }
          ],
          "scatterternary": [
           {
            "marker": {
             "colorbar": {
              "outlinewidth": 0,
              "tickcolor": "rgb(237,237,237)",
              "ticklen": 6,
              "ticks": "inside"
             }
            },
            "type": "scatterternary"
           }
          ],
          "surface": [
           {
            "colorbar": {
             "outlinewidth": 0,
             "tickcolor": "rgb(237,237,237)",
             "ticklen": 6,
             "ticks": "inside"
            },
            "colorscale": [
             [
              0,
              "rgb(20,44,66)"
             ],
             [
              1,
              "rgb(90,179,244)"
             ]
            ],
            "type": "surface"
           }
          ],
          "table": [
           {
            "cells": {
             "fill": {
              "color": "rgb(237,237,237)"
             },
             "line": {
              "color": "white"
             }
            },
            "header": {
             "fill": {
              "color": "rgb(217,217,217)"
             },
             "line": {
              "color": "white"
             }
            },
            "type": "table"
           }
          ]
         },
         "layout": {
          "annotationdefaults": {
           "arrowhead": 0,
           "arrowwidth": 1
          },
          "autotypenumbers": "strict",
          "coloraxis": {
           "colorbar": {
            "outlinewidth": 0,
            "tickcolor": "rgb(237,237,237)",
            "ticklen": 6,
            "ticks": "inside"
           }
          },
          "colorscale": {
           "sequential": [
            [
             0,
             "rgb(20,44,66)"
            ],
            [
             1,
             "rgb(90,179,244)"
            ]
           ],
           "sequentialminus": [
            [
             0,
             "rgb(20,44,66)"
            ],
            [
             1,
             "rgb(90,179,244)"
            ]
           ]
          },
          "colorway": [
           "#F8766D",
           "#A3A500",
           "#00BF7D",
           "#00B0F6",
           "#E76BF3"
          ],
          "font": {
           "color": "rgb(51,51,51)"
          },
          "geo": {
           "bgcolor": "white",
           "lakecolor": "white",
           "landcolor": "rgb(237,237,237)",
           "showlakes": true,
           "showland": true,
           "subunitcolor": "white"
          },
          "hoverlabel": {
           "align": "left"
          },
          "hovermode": "closest",
          "paper_bgcolor": "white",
          "plot_bgcolor": "rgb(237,237,237)",
          "polar": {
           "angularaxis": {
            "gridcolor": "white",
            "linecolor": "white",
            "showgrid": true,
            "tickcolor": "rgb(51,51,51)",
            "ticks": "outside"
           },
           "bgcolor": "rgb(237,237,237)",
           "radialaxis": {
            "gridcolor": "white",
            "linecolor": "white",
            "showgrid": true,
            "tickcolor": "rgb(51,51,51)",
            "ticks": "outside"
           }
          },
          "scene": {
           "xaxis": {
            "backgroundcolor": "rgb(237,237,237)",
            "gridcolor": "white",
            "gridwidth": 2,
            "linecolor": "white",
            "showbackground": true,
            "showgrid": true,
            "tickcolor": "rgb(51,51,51)",
            "ticks": "outside",
            "zerolinecolor": "white"
           },
           "yaxis": {
            "backgroundcolor": "rgb(237,237,237)",
            "gridcolor": "white",
            "gridwidth": 2,
            "linecolor": "white",
            "showbackground": true,
            "showgrid": true,
            "tickcolor": "rgb(51,51,51)",
            "ticks": "outside",
            "zerolinecolor": "white"
           },
           "zaxis": {
            "backgroundcolor": "rgb(237,237,237)",
            "gridcolor": "white",
            "gridwidth": 2,
            "linecolor": "white",
            "showbackground": true,
            "showgrid": true,
            "tickcolor": "rgb(51,51,51)",
            "ticks": "outside",
            "zerolinecolor": "white"
           }
          },
          "shapedefaults": {
           "fillcolor": "black",
           "line": {
            "width": 0
           },
           "opacity": 0.3
          },
          "ternary": {
           "aaxis": {
            "gridcolor": "white",
            "linecolor": "white",
            "showgrid": true,
            "tickcolor": "rgb(51,51,51)",
            "ticks": "outside"
           },
           "baxis": {
            "gridcolor": "white",
            "linecolor": "white",
            "showgrid": true,
            "tickcolor": "rgb(51,51,51)",
            "ticks": "outside"
           },
           "bgcolor": "rgb(237,237,237)",
           "caxis": {
            "gridcolor": "white",
            "linecolor": "white",
            "showgrid": true,
            "tickcolor": "rgb(51,51,51)",
            "ticks": "outside"
           }
          },
          "xaxis": {
           "automargin": true,
           "gridcolor": "white",
           "linecolor": "white",
           "showgrid": true,
           "tickcolor": "rgb(51,51,51)",
           "ticks": "outside",
           "title": {
            "standoff": 15
           },
           "zerolinecolor": "white"
          },
          "yaxis": {
           "automargin": true,
           "gridcolor": "white",
           "linecolor": "white",
           "showgrid": true,
           "tickcolor": "rgb(51,51,51)",
           "ticks": "outside",
           "title": {
            "standoff": 15
           },
           "zerolinecolor": "white"
          }
         }
        },
        "title": {
         "text": ""
        },
        "xaxis": {
         "anchor": "y",
         "domain": [
          0,
          1
         ],
         "tickfont": {
          "size": 20
         },
         "title": {
          "text": "Gene"
         }
        },
        "yaxis": {
         "anchor": "x",
         "domain": [
          0,
          1
         ],
         "tickfont": {
          "size": 20
         },
         "title": {
          "text": "Log Mean TPM"
         },
         "type": "log"
        }
       }
      }
     },
     "metadata": {},
     "output_type": "display_data"
    }
   ],
   "source": [
    "sel_com_genes[\"mean\"] = sel_gt.nodes_df[\"mean\"]\n",
    "sel_com_genes[\"std\"] = sel_gt.nodes_df[\"std\"]\n",
    "sel_com_genes[\"mut_count\"] = sel_gt.nodes_df[\"count\"]\n",
    "\n",
    "fig = px.bar(sel_com_genes, y=\"mean\", color=\"max_b\", log_y=True, color_discrete_sequence=colors, error_y=\"std\")\n",
    "\n",
    "fig = fig.update_layout(\n",
    "    title=\"\",\n",
    "    legend=dict(\n",
    "        title=\"Community\",\n",
    "        orientation=\"h\",\n",
    "        yanchor=\"middle\",\n",
    "        xanchor=\"center\",\n",
    "        y=0.95,\n",
    "        x=0.5,\n",
    "        bgcolor=\"rgba(0,0,0,0)\",\n",
    "        font=dict(size=18, color=\"#003366\"),\n",
    "    ),\n",
    "    yaxis=dict(tickfont=dict(size=20), title=\"Log Mean TPM\"),\n",
    "    xaxis=dict(tickfont=dict(size=20), title=\"Gene\"),\n",
    "    font=dict(size=20),\n",
    "    height=600,\n",
    ")\n",
    "\n",
    "# fig.update_layout(\n",
    "#     xaxis=dict(tickmode=\"linear\", tick0=0, dtick=1),\n",
    "# )\n",
    "save_fig(name=\"smallCom_Exp\", fig=fig, base_path=figures_path, width=1700, height=700, margin=0.02)\n",
    "fig"
   ]
  },
  {
   "cell_type": "code",
   "execution_count": 126,
   "metadata": {},
   "outputs": [
    {
     "data": {
      "text/plain": [
       "(17, 6)"
      ]
     },
     "execution_count": 126,
     "metadata": {},
     "output_type": "execute_result"
    }
   ],
   "source": [
    "sel_com_genes[sel_com_genes[\"std\"] >= sel_com_genes[\"mean\"]].shape"
   ]
  },
  {
   "cell_type": "code",
   "execution_count": null,
   "metadata": {},
   "outputs": [],
   "source": [
    "sel_com_genes[sel_com_genes[\"max_b\"] == \"7\"]"
   ]
  },
  {
   "cell_type": "markdown",
   "metadata": {},
   "source": [
    "### Corr and summary figure\n",
    "\n",
    "THe plot at the end is very similar to the bar plot at the start of this section but I think it is more of an overview, showing the relation between com size and mean_degree"
   ]
  },
  {
   "cell_type": "code",
   "execution_count": 13,
   "metadata": {},
   "outputs": [
    {
     "name": "stdout",
     "output_type": "stream",
     "text": [
      "Degree vs Size: Spearman of -0.8987 with p=5.46e-17\n",
      "Degree vs Mutation: Spearman of 0.8039 with p=2.94e-11\n"
     ]
    }
   ],
   "source": [
    "from scipy import stats\n",
    "\n",
    "# Compute the mutation burden per community\n",
    "mut_mean = []\n",
    "for com in dmy_df[\"max_b\"].unique():\n",
    "    tst = round(dmy_df[dmy_df[\"max_b\"] == com][\"count\"].mean(), 3)\n",
    "    mut_mean.append((com, tst))\n",
    "tst = pd.DataFrame(mut_mean, columns=[\"Com\", \"Mutation Mean\"]).set_index(\"Com\")\n",
    "\n",
    "tst_df = pd.concat([net_stats.set_index(\"com\"), dmy_df[\"max_b\"].value_counts().rename(\"size\"), tst], axis=1).reset_index(names=\"com\")\n",
    "tst_df[\"com\"] = tst_df[\"com\"].astype(int)\n",
    "tst_df[\"type\"] = \"LowDegree\"\n",
    "tst_df.loc[tst_df[\"com\"].isin(coms), \"type\"] = \"HighDegree\"\n",
    "\n",
    "# Show the text only for communities that have a size > 190 and mean_degree > 50\n",
    "show_com = list(tst_df[(tst_df[\"size\"] > 191) | (tst_df[\"mean_degree\"] > 40)].index)\n",
    "tst_df[\"text\"] = tst_df[\"com\"]\n",
    "tst_df.loc[~tst_df[\"com\"].isin(show_com), \"text\"] = \"\"\n",
    "\n",
    "from scipy import stats\n",
    "\n",
    "spr = stats.spearmanr(tst_df[\"mean_degree\"], tst_df[\"size\"])\n",
    "print(f\"Degree vs Size: Spearman of {spr.statistic:.4} with p={spr.pvalue:.2e}\")\n",
    "\n",
    "spr = stats.spearmanr(tst_df[\"mean_degree\"], tst_df[\"Mutation Mean\"])\n",
    "print(f\"Degree vs Mutation: Spearman of {spr.statistic:.4} with p={spr.pvalue:.2e}\")"
   ]
  },
  {
   "cell_type": "code",
   "execution_count": 14,
   "metadata": {},
   "outputs": [
    {
     "data": {
      "application/vnd.plotly.v1+json": {
       "config": {
        "plotlyServerURL": "https://plot.ly"
       },
       "data": [
        {
         "hovertemplate": "type=LowDegree<br>mean_degree=%{x}<br>size=%{y}<br>Mutation Mean=%{marker.size}<br>text=%{text}<extra></extra>",
         "legendgroup": "LowDegree",
         "marker": {
          "color": "#F8766D",
          "size": [
           2.371,
           2.274,
           2.587,
           3.15,
           3.932,
           2.84,
           3.162,
           2.875,
           4.652,
           3.525,
           2.868,
           3.127,
           2.157,
           1.258,
           2.724,
           18.857,
           3.013,
           3.46,
           3.478,
           3.177,
           2.651,
           4.872,
           1.861,
           2.053,
           2.548,
           3.068,
           2.75,
           1.26,
           2.227,
           1.414,
           4.273
          ],
          "sizemode": "area",
          "sizeref": 0.094375,
          "symbol": "circle"
         },
         "mode": "markers+text",
         "name": "LowDegree",
         "orientation": "v",
         "showlegend": true,
         "text": [
          0,
          "",
          6,
          9,
          "",
          13,
          "",
          "",
          "",
          "",
          "",
          "",
          "",
          "",
          "",
          25,
          "",
          "",
          "",
          "",
          31,
          "",
          35,
          "",
          "",
          "",
          "",
          "",
          "",
          "",
          ""
         ],
         "textposition": "top center",
         "type": "scatter",
         "x": [
          4,
          4,
          4,
          4,
          5,
          4,
          4,
          4,
          5,
          6,
          6,
          6,
          5,
          5,
          6,
          41,
          6,
          6,
          5,
          5,
          4,
          5,
          4,
          5,
          5,
          5,
          5,
          4,
          5,
          5,
          7
         ],
         "xaxis": "x",
         "y": [
          807,
          117,
          225,
          714,
          59,
          194,
          191,
          112,
          69,
          80,
          68,
          63,
          83,
          132,
          76,
          7,
          79,
          100,
          69,
          62,
          421,
          78,
          459,
          94,
          73,
          74,
          96,
          123,
          44,
          87,
          22
         ],
         "yaxis": "y"
        },
        {
         "hovertemplate": "type=HighDegree<br>mean_degree=%{x}<br>size=%{y}<br>Mutation Mean=%{marker.size}<br>text=%{text}<extra></extra>",
         "legendgroup": "HighDegree",
         "marker": {
          "color": "#A3A500",
          "size": [
           22,
           21.1,
           37.75,
           29.6,
           18.5,
           20.25,
           25.444,
           19.067,
           20.444,
           19,
           18.727,
           21.5,
           25.667,
           19
          ],
          "sizemode": "area",
          "sizeref": 0.094375,
          "symbol": "circle"
         },
         "mode": "markers+text",
         "name": "HighDegree",
         "orientation": "v",
         "showlegend": true,
         "text": [
          1,
          2,
          3,
          5,
          7,
          8,
          10,
          12,
          15,
          18,
          28,
          32,
          33,
          42
         ],
         "textposition": "top center",
         "type": "scatter",
         "x": [
          292,
          199,
          165,
          125,
          168,
          91,
          362,
          60,
          100,
          46,
          178,
          213,
          380,
          61
         ],
         "xaxis": "x",
         "y": [
          9,
          10,
          4,
          10,
          2,
          12,
          9,
          15,
          9,
          13,
          11,
          10,
          3,
          5
         ],
         "yaxis": "y"
        }
       ],
       "layout": {
        "annotations": [
         {
          "font": {
           "color": "#003366",
           "size": 18
          },
          "showarrow": false,
          "text": "Size vs (avg) Degree  ⍴=-0.8987 with p=5.46e-17",
          "x": 195,
          "y": 600
         },
         {
          "font": {
           "color": "#003366",
           "size": 18
          },
          "showarrow": false,
          "text": "Size vs (avg) Mutation ⍴=0.8039 with p=2.94e-11",
          "x": 195,
          "y": 540
         }
        ],
        "font": {
         "size": 20
        },
        "height": 700,
        "legend": {
         "bgcolor": "rgba(0,0,0,0)",
         "font": {
          "color": "#003366",
          "size": 18
         },
         "itemsizing": "constant",
         "orientation": "h",
         "title": {
          "text": "Type"
         },
         "tracegroupgap": 0,
         "x": 0.5,
         "xanchor": "center",
         "y": 0.9,
         "yanchor": "middle"
        },
        "margin": {
         "b": 0,
         "l": 26,
         "r": 26,
         "t": 22
        },
        "template": {
         "data": {
          "bar": [
           {
            "error_x": {
             "color": "rgb(51,51,51)"
            },
            "error_y": {
             "color": "rgb(51,51,51)"
            },
            "marker": {
             "line": {
              "color": "rgb(237,237,237)",
              "width": 0.5
             },
             "pattern": {
              "fillmode": "overlay",
              "size": 10,
              "solidity": 0.2
             }
            },
            "type": "bar"
           }
          ],
          "barpolar": [
           {
            "marker": {
             "line": {
              "color": "rgb(237,237,237)",
              "width": 0.5
             },
             "pattern": {
              "fillmode": "overlay",
              "size": 10,
              "solidity": 0.2
             }
            },
            "type": "barpolar"
           }
          ],
          "carpet": [
           {
            "aaxis": {
             "endlinecolor": "rgb(51,51,51)",
             "gridcolor": "white",
             "linecolor": "white",
             "minorgridcolor": "white",
             "startlinecolor": "rgb(51,51,51)"
            },
            "baxis": {
             "endlinecolor": "rgb(51,51,51)",
             "gridcolor": "white",
             "linecolor": "white",
             "minorgridcolor": "white",
             "startlinecolor": "rgb(51,51,51)"
            },
            "type": "carpet"
           }
          ],
          "choropleth": [
           {
            "colorbar": {
             "outlinewidth": 0,
             "tickcolor": "rgb(237,237,237)",
             "ticklen": 6,
             "ticks": "inside"
            },
            "type": "choropleth"
           }
          ],
          "contour": [
           {
            "colorbar": {
             "outlinewidth": 0,
             "tickcolor": "rgb(237,237,237)",
             "ticklen": 6,
             "ticks": "inside"
            },
            "colorscale": [
             [
              0,
              "rgb(20,44,66)"
             ],
             [
              1,
              "rgb(90,179,244)"
             ]
            ],
            "type": "contour"
           }
          ],
          "contourcarpet": [
           {
            "colorbar": {
             "outlinewidth": 0,
             "tickcolor": "rgb(237,237,237)",
             "ticklen": 6,
             "ticks": "inside"
            },
            "type": "contourcarpet"
           }
          ],
          "heatmap": [
           {
            "colorbar": {
             "outlinewidth": 0,
             "tickcolor": "rgb(237,237,237)",
             "ticklen": 6,
             "ticks": "inside"
            },
            "colorscale": [
             [
              0,
              "rgb(20,44,66)"
             ],
             [
              1,
              "rgb(90,179,244)"
             ]
            ],
            "type": "heatmap"
           }
          ],
          "heatmapgl": [
           {
            "colorbar": {
             "outlinewidth": 0,
             "tickcolor": "rgb(237,237,237)",
             "ticklen": 6,
             "ticks": "inside"
            },
            "colorscale": [
             [
              0,
              "rgb(20,44,66)"
             ],
             [
              1,
              "rgb(90,179,244)"
             ]
            ],
            "type": "heatmapgl"
           }
          ],
          "histogram": [
           {
            "marker": {
             "pattern": {
              "fillmode": "overlay",
              "size": 10,
              "solidity": 0.2
             }
            },
            "type": "histogram"
           }
          ],
          "histogram2d": [
           {
            "colorbar": {
             "outlinewidth": 0,
             "tickcolor": "rgb(237,237,237)",
             "ticklen": 6,
             "ticks": "inside"
            },
            "colorscale": [
             [
              0,
              "rgb(20,44,66)"
             ],
             [
              1,
              "rgb(90,179,244)"
             ]
            ],
            "type": "histogram2d"
           }
          ],
          "histogram2dcontour": [
           {
            "colorbar": {
             "outlinewidth": 0,
             "tickcolor": "rgb(237,237,237)",
             "ticklen": 6,
             "ticks": "inside"
            },
            "colorscale": [
             [
              0,
              "rgb(20,44,66)"
             ],
             [
              1,
              "rgb(90,179,244)"
             ]
            ],
            "type": "histogram2dcontour"
           }
          ],
          "mesh3d": [
           {
            "colorbar": {
             "outlinewidth": 0,
             "tickcolor": "rgb(237,237,237)",
             "ticklen": 6,
             "ticks": "inside"
            },
            "type": "mesh3d"
           }
          ],
          "parcoords": [
           {
            "line": {
             "colorbar": {
              "outlinewidth": 0,
              "tickcolor": "rgb(237,237,237)",
              "ticklen": 6,
              "ticks": "inside"
             }
            },
            "type": "parcoords"
           }
          ],
          "pie": [
           {
            "automargin": true,
            "type": "pie"
           }
          ],
          "scatter": [
           {
            "fillpattern": {
             "fillmode": "overlay",
             "size": 10,
             "solidity": 0.2
            },
            "type": "scatter"
           }
          ],
          "scatter3d": [
           {
            "line": {
             "colorbar": {
              "outlinewidth": 0,
              "tickcolor": "rgb(237,237,237)",
              "ticklen": 6,
              "ticks": "inside"
             }
            },
            "marker": {
             "colorbar": {
              "outlinewidth": 0,
              "tickcolor": "rgb(237,237,237)",
              "ticklen": 6,
              "ticks": "inside"
             }
            },
            "type": "scatter3d"
           }
          ],
          "scattercarpet": [
           {
            "marker": {
             "colorbar": {
              "outlinewidth": 0,
              "tickcolor": "rgb(237,237,237)",
              "ticklen": 6,
              "ticks": "inside"
             }
            },
            "type": "scattercarpet"
           }
          ],
          "scattergeo": [
           {
            "marker": {
             "colorbar": {
              "outlinewidth": 0,
              "tickcolor": "rgb(237,237,237)",
              "ticklen": 6,
              "ticks": "inside"
             }
            },
            "type": "scattergeo"
           }
          ],
          "scattergl": [
           {
            "marker": {
             "colorbar": {
              "outlinewidth": 0,
              "tickcolor": "rgb(237,237,237)",
              "ticklen": 6,
              "ticks": "inside"
             }
            },
            "type": "scattergl"
           }
          ],
          "scattermapbox": [
           {
            "marker": {
             "colorbar": {
              "outlinewidth": 0,
              "tickcolor": "rgb(237,237,237)",
              "ticklen": 6,
              "ticks": "inside"
             }
            },
            "type": "scattermapbox"
           }
          ],
          "scatterpolar": [
           {
            "marker": {
             "colorbar": {
              "outlinewidth": 0,
              "tickcolor": "rgb(237,237,237)",
              "ticklen": 6,
              "ticks": "inside"
             }
            },
            "type": "scatterpolar"
           }
          ],
          "scatterpolargl": [
           {
            "marker": {
             "colorbar": {
              "outlinewidth": 0,
              "tickcolor": "rgb(237,237,237)",
              "ticklen": 6,
              "ticks": "inside"
             }
            },
            "type": "scatterpolargl"
           }
          ],
          "scatterternary": [
           {
            "marker": {
             "colorbar": {
              "outlinewidth": 0,
              "tickcolor": "rgb(237,237,237)",
              "ticklen": 6,
              "ticks": "inside"
             }
            },
            "type": "scatterternary"
           }
          ],
          "surface": [
           {
            "colorbar": {
             "outlinewidth": 0,
             "tickcolor": "rgb(237,237,237)",
             "ticklen": 6,
             "ticks": "inside"
            },
            "colorscale": [
             [
              0,
              "rgb(20,44,66)"
             ],
             [
              1,
              "rgb(90,179,244)"
             ]
            ],
            "type": "surface"
           }
          ],
          "table": [
           {
            "cells": {
             "fill": {
              "color": "rgb(237,237,237)"
             },
             "line": {
              "color": "white"
             }
            },
            "header": {
             "fill": {
              "color": "rgb(217,217,217)"
             },
             "line": {
              "color": "white"
             }
            },
            "type": "table"
           }
          ]
         },
         "layout": {
          "annotationdefaults": {
           "arrowhead": 0,
           "arrowwidth": 1
          },
          "autotypenumbers": "strict",
          "coloraxis": {
           "colorbar": {
            "outlinewidth": 0,
            "tickcolor": "rgb(237,237,237)",
            "ticklen": 6,
            "ticks": "inside"
           }
          },
          "colorscale": {
           "sequential": [
            [
             0,
             "rgb(20,44,66)"
            ],
            [
             1,
             "rgb(90,179,244)"
            ]
           ],
           "sequentialminus": [
            [
             0,
             "rgb(20,44,66)"
            ],
            [
             1,
             "rgb(90,179,244)"
            ]
           ]
          },
          "colorway": [
           "#F8766D",
           "#A3A500",
           "#00BF7D",
           "#00B0F6",
           "#E76BF3"
          ],
          "font": {
           "color": "rgb(51,51,51)"
          },
          "geo": {
           "bgcolor": "white",
           "lakecolor": "white",
           "landcolor": "rgb(237,237,237)",
           "showlakes": true,
           "showland": true,
           "subunitcolor": "white"
          },
          "hoverlabel": {
           "align": "left"
          },
          "hovermode": "closest",
          "paper_bgcolor": "white",
          "plot_bgcolor": "rgb(237,237,237)",
          "polar": {
           "angularaxis": {
            "gridcolor": "white",
            "linecolor": "white",
            "showgrid": true,
            "tickcolor": "rgb(51,51,51)",
            "ticks": "outside"
           },
           "bgcolor": "rgb(237,237,237)",
           "radialaxis": {
            "gridcolor": "white",
            "linecolor": "white",
            "showgrid": true,
            "tickcolor": "rgb(51,51,51)",
            "ticks": "outside"
           }
          },
          "scene": {
           "xaxis": {
            "backgroundcolor": "rgb(237,237,237)",
            "gridcolor": "white",
            "gridwidth": 2,
            "linecolor": "white",
            "showbackground": true,
            "showgrid": true,
            "tickcolor": "rgb(51,51,51)",
            "ticks": "outside",
            "zerolinecolor": "white"
           },
           "yaxis": {
            "backgroundcolor": "rgb(237,237,237)",
            "gridcolor": "white",
            "gridwidth": 2,
            "linecolor": "white",
            "showbackground": true,
            "showgrid": true,
            "tickcolor": "rgb(51,51,51)",
            "ticks": "outside",
            "zerolinecolor": "white"
           },
           "zaxis": {
            "backgroundcolor": "rgb(237,237,237)",
            "gridcolor": "white",
            "gridwidth": 2,
            "linecolor": "white",
            "showbackground": true,
            "showgrid": true,
            "tickcolor": "rgb(51,51,51)",
            "ticks": "outside",
            "zerolinecolor": "white"
           }
          },
          "shapedefaults": {
           "fillcolor": "black",
           "line": {
            "width": 0
           },
           "opacity": 0.3
          },
          "ternary": {
           "aaxis": {
            "gridcolor": "white",
            "linecolor": "white",
            "showgrid": true,
            "tickcolor": "rgb(51,51,51)",
            "ticks": "outside"
           },
           "baxis": {
            "gridcolor": "white",
            "linecolor": "white",
            "showgrid": true,
            "tickcolor": "rgb(51,51,51)",
            "ticks": "outside"
           },
           "bgcolor": "rgb(237,237,237)",
           "caxis": {
            "gridcolor": "white",
            "linecolor": "white",
            "showgrid": true,
            "tickcolor": "rgb(51,51,51)",
            "ticks": "outside"
           }
          },
          "xaxis": {
           "automargin": true,
           "gridcolor": "white",
           "linecolor": "white",
           "showgrid": true,
           "tickcolor": "rgb(51,51,51)",
           "ticks": "outside",
           "title": {
            "standoff": 15
           },
           "zerolinecolor": "white"
          },
          "yaxis": {
           "automargin": true,
           "gridcolor": "white",
           "linecolor": "white",
           "showgrid": true,
           "tickcolor": "rgb(51,51,51)",
           "ticks": "outside",
           "title": {
            "standoff": 15
           },
           "zerolinecolor": "white"
          }
         }
        },
        "title": {
         "text": ""
        },
        "xaxis": {
         "anchor": "y",
         "domain": [
          0,
          1
         ],
         "tickfont": {
          "size": 20
         },
         "title": {
          "text": "Mean Degree"
         }
        },
        "yaxis": {
         "anchor": "x",
         "domain": [
          0,
          1
         ],
         "tickfont": {
          "size": 20
         },
         "title": {
          "text": "Community Size"
         }
        }
       }
      }
     },
     "metadata": {},
     "output_type": "display_data"
    }
   ],
   "source": [
    "##### Plotting\n",
    "fig = px.scatter(tst_df, x=\"mean_degree\", y=\"size\", color=\"type\", size=\"Mutation Mean\", text=\"text\", title=\"Mean Degree vs Community Size\")\n",
    "fig.update_traces(textposition=\"top center\")\n",
    "fig.add_annotation(x=195, y=600, text=\"Size vs (avg) Degree  ⍴=-0.8987 with p=5.46e-17\", showarrow=False, font=dict(size=18, color=\"#003366\"))\n",
    "fig.add_annotation(x=195, y=540, text=\"Size vs (avg) Mutation ⍴=0.8039 with p=2.94e-11\", showarrow=False, font=dict(size=18, color=\"#003366\"))\n",
    "\n",
    "fig = fig.update_layout(\n",
    "    title=\"\",\n",
    "    legend=dict(\n",
    "        title=\"Type\",\n",
    "        orientation=\"h\",\n",
    "        yanchor=\"middle\",\n",
    "        xanchor=\"center\",\n",
    "        y=0.90,\n",
    "        x=0.5,\n",
    "        bgcolor=\"rgba(0,0,0,0)\",\n",
    "        font=dict(size=18, color=\"#003366\"),\n",
    "    ),\n",
    "    xaxis=dict(tickfont=dict(size=20), title=\"Mean Degree\"),\n",
    "    yaxis=dict(tickfont=dict(size=20), title=\"Community Size\"),\n",
    "    font=dict(size=20),\n",
    "    height=600,\n",
    ")\n",
    "save_fig(name=\"LargeSmall_com\", fig=fig, base_path=figures_path, width=1300, height=600, margin=0.02)\n",
    "fig.update_layout(height=700)"
   ]
  },
  {
   "cell_type": "markdown",
   "metadata": {},
   "source": [
    "## Community detection comparison"
   ]
  },
  {
   "cell_type": "code",
   "execution_count": 15,
   "metadata": {},
   "outputs": [
    {
     "data": {
      "application/vnd.plotly.v1+json": {
       "config": {
        "plotlyServerURL": "https://plot.ly"
       },
       "data": [
        {
         "arrangement": "perpendicular",
         "link": {
          "color": "#bdbdbd",
          "source": [
           0,
           0,
           0,
           0,
           0,
           0,
           0,
           0,
           0,
           0,
           0,
           0,
           0,
           1,
           1,
           1,
           1,
           1,
           1,
           1,
           1,
           1,
           1,
           1,
           1,
           1,
           1,
           2,
           2,
           2,
           2,
           2,
           2,
           2,
           2,
           2,
           2,
           2,
           3,
           3,
           3,
           3,
           3,
           3,
           3,
           3,
           3,
           3,
           3,
           3,
           3,
           3,
           4,
           4,
           4,
           4,
           4,
           4,
           4,
           4,
           4,
           4,
           4,
           4,
           4,
           4,
           5,
           5,
           5,
           5,
           5,
           5,
           5,
           5,
           5,
           5,
           5,
           5,
           6,
           6,
           6,
           6,
           6,
           6,
           6,
           6,
           6,
           6,
           6,
           7,
           7,
           7,
           7,
           7,
           7,
           7,
           7,
           7,
           7,
           7,
           8,
           8,
           8,
           9,
           9,
           10,
           10,
           11
          ],
          "target": [
           16,
           22,
           23,
           24,
           27,
           28,
           29,
           31,
           33,
           35,
           36,
           39,
           40,
           13,
           14,
           15,
           16,
           17,
           18,
           19,
           32,
           33,
           35,
           36,
           37,
           39,
           40,
           12,
           21,
           23,
           25,
           27,
           29,
           30,
           31,
           34,
           35,
           38,
           13,
           15,
           16,
           17,
           19,
           20,
           21,
           23,
           25,
           26,
           32,
           35,
           37,
           39,
           12,
           13,
           15,
           20,
           21,
           23,
           25,
           26,
           30,
           31,
           32,
           33,
           37,
           39,
           13,
           15,
           16,
           17,
           18,
           19,
           20,
           21,
           23,
           25,
           32,
           35,
           14,
           15,
           16,
           17,
           19,
           22,
           23,
           31,
           33,
           34,
           36,
           14,
           15,
           16,
           17,
           19,
           22,
           23,
           34,
           36,
           39,
           40,
           16,
           17,
           23,
           16,
           23,
           16,
           23,
           16
          ],
          "value": [
           4,
           72,
           11,
           11,
           406,
           10,
           3,
           459,
           71,
           84,
           67,
           84,
           16,
           8,
           11,
           11,
           21,
           54,
           43,
           123,
           1,
           1,
           774,
           54,
           1,
           9,
           5,
           5,
           7,
           8,
           15,
           729,
           9,
           73,
           2,
           68,
           12,
           5,
           19,
           35,
           4,
           117,
           10,
           8,
           197,
           4,
           1,
           61,
           14,
           9,
           65,
           1,
           107,
           50,
           1,
           61,
           6,
           3,
           54,
           1,
           5,
           54,
           1,
           15,
           169,
           8,
           2,
           33,
           18,
           5,
           40,
           2,
           7,
           22,
           1,
           11,
           78,
           218,
           1,
           2,
           14,
           1,
           2,
           2,
           56,
           3,
           1,
           5,
           1,
           1,
           2,
           3,
           1,
           5,
           5,
           12,
           1,
           1,
           3,
           1,
           1,
           2,
           4,
           1,
           2,
           1,
           1,
           1
          ]
         },
         "node": {
          "color": [
           "rgb(229, 134, 6)",
           "rgb(229, 134, 6)",
           "rgb(229, 134, 6)",
           "rgb(229, 134, 6)",
           "rgb(229, 134, 6)",
           "rgb(229, 134, 6)",
           "rgb(229, 134, 6)",
           "rgb(229, 134, 6)",
           "rgb(229, 134, 6)",
           "rgb(229, 134, 6)",
           "rgb(229, 134, 6)",
           "rgb(229, 134, 6)",
           "rgb(93, 105, 177)",
           "rgb(93, 105, 177)",
           "rgb(93, 105, 177)",
           "rgb(93, 105, 177)",
           "rgb(93, 105, 177)",
           "rgb(93, 105, 177)",
           "rgb(93, 105, 177)",
           "rgb(93, 105, 177)",
           "rgb(93, 105, 177)",
           "rgb(93, 105, 177)",
           "rgb(93, 105, 177)",
           "rgb(93, 105, 177)",
           "rgb(93, 105, 177)",
           "rgb(93, 105, 177)",
           "rgb(93, 105, 177)",
           "rgb(93, 105, 177)",
           "rgb(93, 105, 177)",
           "rgb(93, 105, 177)",
           "rgb(93, 105, 177)",
           "rgb(93, 105, 177)",
           "rgb(93, 105, 177)",
           "rgb(93, 105, 177)",
           "rgb(93, 105, 177)",
           "rgb(93, 105, 177)",
           "rgb(93, 105, 177)",
           "rgb(93, 105, 177)",
           "rgb(93, 105, 177)",
           "rgb(93, 105, 177)",
           "rgb(93, 105, 177)"
          ],
          "label": [
           0,
           1,
           2,
           3,
           4,
           5,
           6,
           7,
           8,
           9,
           10,
           11,
           16,
           17,
           18,
           19,
           20,
           21,
           22,
           23,
           24,
           25,
           26,
           27,
           28,
           29,
           30,
           31,
           32,
           33,
           34,
           35,
           36,
           37,
           38,
           39,
           40,
           41,
           42,
           43,
           44
          ],
          "line": {
           "color": "black",
           "width": 0.5
          },
          "pad": 15,
          "thickness": 20
         },
         "type": "sankey"
        }
       ],
       "layout": {
        "annotations": [
         {
          "align": "left",
          "font": {
           "color": "#003366",
           "size": 16
          },
          "showarrow": false,
          "text": "Modularity Class",
          "x": 0,
          "xref": "x",
          "y": 1.07,
          "yref": "paper"
         },
         {
          "align": "left",
          "font": {
           "color": "#003366",
           "size": 16
          },
          "showarrow": false,
          "text": "max_b",
          "x": 1,
          "xref": "x",
          "y": 1.07,
          "yref": "paper"
         }
        ],
        "font": {
         "color": "#003366",
         "size": 16
        },
        "height": 700,
        "plot_bgcolor": "rgba(0,0,0,0)",
        "template": {
         "data": {
          "bar": [
           {
            "error_x": {
             "color": "rgb(51,51,51)"
            },
            "error_y": {
             "color": "rgb(51,51,51)"
            },
            "marker": {
             "line": {
              "color": "rgb(237,237,237)",
              "width": 0.5
             },
             "pattern": {
              "fillmode": "overlay",
              "size": 10,
              "solidity": 0.2
             }
            },
            "type": "bar"
           }
          ],
          "barpolar": [
           {
            "marker": {
             "line": {
              "color": "rgb(237,237,237)",
              "width": 0.5
             },
             "pattern": {
              "fillmode": "overlay",
              "size": 10,
              "solidity": 0.2
             }
            },
            "type": "barpolar"
           }
          ],
          "carpet": [
           {
            "aaxis": {
             "endlinecolor": "rgb(51,51,51)",
             "gridcolor": "white",
             "linecolor": "white",
             "minorgridcolor": "white",
             "startlinecolor": "rgb(51,51,51)"
            },
            "baxis": {
             "endlinecolor": "rgb(51,51,51)",
             "gridcolor": "white",
             "linecolor": "white",
             "minorgridcolor": "white",
             "startlinecolor": "rgb(51,51,51)"
            },
            "type": "carpet"
           }
          ],
          "choropleth": [
           {
            "colorbar": {
             "outlinewidth": 0,
             "tickcolor": "rgb(237,237,237)",
             "ticklen": 6,
             "ticks": "inside"
            },
            "type": "choropleth"
           }
          ],
          "contour": [
           {
            "colorbar": {
             "outlinewidth": 0,
             "tickcolor": "rgb(237,237,237)",
             "ticklen": 6,
             "ticks": "inside"
            },
            "colorscale": [
             [
              0,
              "rgb(20,44,66)"
             ],
             [
              1,
              "rgb(90,179,244)"
             ]
            ],
            "type": "contour"
           }
          ],
          "contourcarpet": [
           {
            "colorbar": {
             "outlinewidth": 0,
             "tickcolor": "rgb(237,237,237)",
             "ticklen": 6,
             "ticks": "inside"
            },
            "type": "contourcarpet"
           }
          ],
          "heatmap": [
           {
            "colorbar": {
             "outlinewidth": 0,
             "tickcolor": "rgb(237,237,237)",
             "ticklen": 6,
             "ticks": "inside"
            },
            "colorscale": [
             [
              0,
              "rgb(20,44,66)"
             ],
             [
              1,
              "rgb(90,179,244)"
             ]
            ],
            "type": "heatmap"
           }
          ],
          "heatmapgl": [
           {
            "colorbar": {
             "outlinewidth": 0,
             "tickcolor": "rgb(237,237,237)",
             "ticklen": 6,
             "ticks": "inside"
            },
            "colorscale": [
             [
              0,
              "rgb(20,44,66)"
             ],
             [
              1,
              "rgb(90,179,244)"
             ]
            ],
            "type": "heatmapgl"
           }
          ],
          "histogram": [
           {
            "marker": {
             "pattern": {
              "fillmode": "overlay",
              "size": 10,
              "solidity": 0.2
             }
            },
            "type": "histogram"
           }
          ],
          "histogram2d": [
           {
            "colorbar": {
             "outlinewidth": 0,
             "tickcolor": "rgb(237,237,237)",
             "ticklen": 6,
             "ticks": "inside"
            },
            "colorscale": [
             [
              0,
              "rgb(20,44,66)"
             ],
             [
              1,
              "rgb(90,179,244)"
             ]
            ],
            "type": "histogram2d"
           }
          ],
          "histogram2dcontour": [
           {
            "colorbar": {
             "outlinewidth": 0,
             "tickcolor": "rgb(237,237,237)",
             "ticklen": 6,
             "ticks": "inside"
            },
            "colorscale": [
             [
              0,
              "rgb(20,44,66)"
             ],
             [
              1,
              "rgb(90,179,244)"
             ]
            ],
            "type": "histogram2dcontour"
           }
          ],
          "mesh3d": [
           {
            "colorbar": {
             "outlinewidth": 0,
             "tickcolor": "rgb(237,237,237)",
             "ticklen": 6,
             "ticks": "inside"
            },
            "type": "mesh3d"
           }
          ],
          "parcoords": [
           {
            "line": {
             "colorbar": {
              "outlinewidth": 0,
              "tickcolor": "rgb(237,237,237)",
              "ticklen": 6,
              "ticks": "inside"
             }
            },
            "type": "parcoords"
           }
          ],
          "pie": [
           {
            "automargin": true,
            "type": "pie"
           }
          ],
          "scatter": [
           {
            "fillpattern": {
             "fillmode": "overlay",
             "size": 10,
             "solidity": 0.2
            },
            "type": "scatter"
           }
          ],
          "scatter3d": [
           {
            "line": {
             "colorbar": {
              "outlinewidth": 0,
              "tickcolor": "rgb(237,237,237)",
              "ticklen": 6,
              "ticks": "inside"
             }
            },
            "marker": {
             "colorbar": {
              "outlinewidth": 0,
              "tickcolor": "rgb(237,237,237)",
              "ticklen": 6,
              "ticks": "inside"
             }
            },
            "type": "scatter3d"
           }
          ],
          "scattercarpet": [
           {
            "marker": {
             "colorbar": {
              "outlinewidth": 0,
              "tickcolor": "rgb(237,237,237)",
              "ticklen": 6,
              "ticks": "inside"
             }
            },
            "type": "scattercarpet"
           }
          ],
          "scattergeo": [
           {
            "marker": {
             "colorbar": {
              "outlinewidth": 0,
              "tickcolor": "rgb(237,237,237)",
              "ticklen": 6,
              "ticks": "inside"
             }
            },
            "type": "scattergeo"
           }
          ],
          "scattergl": [
           {
            "marker": {
             "colorbar": {
              "outlinewidth": 0,
              "tickcolor": "rgb(237,237,237)",
              "ticklen": 6,
              "ticks": "inside"
             }
            },
            "type": "scattergl"
           }
          ],
          "scattermapbox": [
           {
            "marker": {
             "colorbar": {
              "outlinewidth": 0,
              "tickcolor": "rgb(237,237,237)",
              "ticklen": 6,
              "ticks": "inside"
             }
            },
            "type": "scattermapbox"
           }
          ],
          "scatterpolar": [
           {
            "marker": {
             "colorbar": {
              "outlinewidth": 0,
              "tickcolor": "rgb(237,237,237)",
              "ticklen": 6,
              "ticks": "inside"
             }
            },
            "type": "scatterpolar"
           }
          ],
          "scatterpolargl": [
           {
            "marker": {
             "colorbar": {
              "outlinewidth": 0,
              "tickcolor": "rgb(237,237,237)",
              "ticklen": 6,
              "ticks": "inside"
             }
            },
            "type": "scatterpolargl"
           }
          ],
          "scatterternary": [
           {
            "marker": {
             "colorbar": {
              "outlinewidth": 0,
              "tickcolor": "rgb(237,237,237)",
              "ticklen": 6,
              "ticks": "inside"
             }
            },
            "type": "scatterternary"
           }
          ],
          "surface": [
           {
            "colorbar": {
             "outlinewidth": 0,
             "tickcolor": "rgb(237,237,237)",
             "ticklen": 6,
             "ticks": "inside"
            },
            "colorscale": [
             [
              0,
              "rgb(20,44,66)"
             ],
             [
              1,
              "rgb(90,179,244)"
             ]
            ],
            "type": "surface"
           }
          ],
          "table": [
           {
            "cells": {
             "fill": {
              "color": "rgb(237,237,237)"
             },
             "line": {
              "color": "white"
             }
            },
            "header": {
             "fill": {
              "color": "rgb(217,217,217)"
             },
             "line": {
              "color": "white"
             }
            },
            "type": "table"
           }
          ]
         },
         "layout": {
          "annotationdefaults": {
           "arrowhead": 0,
           "arrowwidth": 1
          },
          "autotypenumbers": "strict",
          "coloraxis": {
           "colorbar": {
            "outlinewidth": 0,
            "tickcolor": "rgb(237,237,237)",
            "ticklen": 6,
            "ticks": "inside"
           }
          },
          "colorscale": {
           "sequential": [
            [
             0,
             "rgb(20,44,66)"
            ],
            [
             1,
             "rgb(90,179,244)"
            ]
           ],
           "sequentialminus": [
            [
             0,
             "rgb(20,44,66)"
            ],
            [
             1,
             "rgb(90,179,244)"
            ]
           ]
          },
          "colorway": [
           "#F8766D",
           "#A3A500",
           "#00BF7D",
           "#00B0F6",
           "#E76BF3"
          ],
          "font": {
           "color": "rgb(51,51,51)"
          },
          "geo": {
           "bgcolor": "white",
           "lakecolor": "white",
           "landcolor": "rgb(237,237,237)",
           "showlakes": true,
           "showland": true,
           "subunitcolor": "white"
          },
          "hoverlabel": {
           "align": "left"
          },
          "hovermode": "closest",
          "paper_bgcolor": "white",
          "plot_bgcolor": "rgb(237,237,237)",
          "polar": {
           "angularaxis": {
            "gridcolor": "white",
            "linecolor": "white",
            "showgrid": true,
            "tickcolor": "rgb(51,51,51)",
            "ticks": "outside"
           },
           "bgcolor": "rgb(237,237,237)",
           "radialaxis": {
            "gridcolor": "white",
            "linecolor": "white",
            "showgrid": true,
            "tickcolor": "rgb(51,51,51)",
            "ticks": "outside"
           }
          },
          "scene": {
           "xaxis": {
            "backgroundcolor": "rgb(237,237,237)",
            "gridcolor": "white",
            "gridwidth": 2,
            "linecolor": "white",
            "showbackground": true,
            "showgrid": true,
            "tickcolor": "rgb(51,51,51)",
            "ticks": "outside",
            "zerolinecolor": "white"
           },
           "yaxis": {
            "backgroundcolor": "rgb(237,237,237)",
            "gridcolor": "white",
            "gridwidth": 2,
            "linecolor": "white",
            "showbackground": true,
            "showgrid": true,
            "tickcolor": "rgb(51,51,51)",
            "ticks": "outside",
            "zerolinecolor": "white"
           },
           "zaxis": {
            "backgroundcolor": "rgb(237,237,237)",
            "gridcolor": "white",
            "gridwidth": 2,
            "linecolor": "white",
            "showbackground": true,
            "showgrid": true,
            "tickcolor": "rgb(51,51,51)",
            "ticks": "outside",
            "zerolinecolor": "white"
           }
          },
          "shapedefaults": {
           "fillcolor": "black",
           "line": {
            "width": 0
           },
           "opacity": 0.3
          },
          "ternary": {
           "aaxis": {
            "gridcolor": "white",
            "linecolor": "white",
            "showgrid": true,
            "tickcolor": "rgb(51,51,51)",
            "ticks": "outside"
           },
           "baxis": {
            "gridcolor": "white",
            "linecolor": "white",
            "showgrid": true,
            "tickcolor": "rgb(51,51,51)",
            "ticks": "outside"
           },
           "bgcolor": "rgb(237,237,237)",
           "caxis": {
            "gridcolor": "white",
            "linecolor": "white",
            "showgrid": true,
            "tickcolor": "rgb(51,51,51)",
            "ticks": "outside"
           }
          },
          "xaxis": {
           "automargin": true,
           "gridcolor": "white",
           "linecolor": "white",
           "showgrid": true,
           "tickcolor": "rgb(51,51,51)",
           "ticks": "outside",
           "title": {
            "standoff": 15
           },
           "zerolinecolor": "white"
          },
          "yaxis": {
           "automargin": true,
           "gridcolor": "white",
           "linecolor": "white",
           "showgrid": true,
           "tickcolor": "rgb(51,51,51)",
           "ticks": "outside",
           "title": {
            "standoff": 15
           },
           "zerolinecolor": "white"
          }
         }
        },
        "title": {
         "text": "Modularity maximisation vs hSBM"
        },
        "xaxis": {
         "showgrid": false,
         "visible": false,
         "zeroline": false
        },
        "yaxis": {
         "showgrid": false,
         "visible": false,
         "zeroline": false
        }
       }
      }
     },
     "metadata": {},
     "output_type": "display_data"
    }
   ],
   "source": [
    "reorder_cols = [\n",
    "    \"Modularity Class\",\n",
    "    \"max_b\",\n",
    "]\n",
    "meta, sky_fig = sky.main(df=nodes_df, reorder_cols=reorder_cols, title=\"Modularity maximisation vs hSBM\", retMeta=True)\n",
    "sky_fig.update_layout(height=700)"
   ]
  },
  {
   "cell_type": "markdown",
   "metadata": {},
   "source": [
    "# Morpheus\n",
    "\n",
    "## All communities"
   ]
  },
  {
   "cell_type": "code",
   "execution_count": 353,
   "metadata": {},
   "outputs": [
    {
     "name": "stdout",
     "output_type": "stream",
     "text": [
      "Variation per principal component [0.55064402 0.26745057] and the sum 81.81%\n"
     ]
    }
   ],
   "source": [
    "# Select the experiment\n",
    "sel_gt: GtExp = hsbm_v3.exps[\"sigmoid_5K_6TF_hsbm\"]\n",
    "\n",
    "##### Sample to remove from observations\n",
    "# v3.1 removing when cut is set to 11 in norm\n",
    "samples_to_remove = [\"TCGA-UY-A9PA\", \"TCGA-FD-A3SR\", \"TCGA-GV-A3QH\", \"TCGA-G2-A2EF\", \"TCGA-GV-A3QI\"]\n",
    "# v3.2 removing when cut is set to 19 norm\n",
    "samples_to_remove.extend([\"TCGA-E7-A6MF\", \"TCGA-FJ-A3Z7\", \"TCGA-E7-A677\"])\n",
    "# v3.3 removing at cut 17\n",
    "samples_to_remove.extend([\"TCGA-5N-A9KI\", \"TCGA-E7-A541\", \"TCGA-GV-A3JX\"])\n",
    "\n",
    "samples_to_remove = []\n",
    "\n",
    "# pre-processing\n",
    "df = all_tum_tpms.drop(columns=samples_to_remove)\n",
    "\n",
    "# Run ModCon and MEVs and then find the clusters\n",
    "label = \"rwd_all\"\n",
    "sel_gt.gt_modCon_MEV(all_tpms=df, is_imev=True, com_df=com_df)\n",
    "allComs_cs, figs, metrics = gh.run_clusters(sel_gt, label=label, show_figs=True)\n",
    "# figs.update_layout(height=900)\n",
    "allComs_metrics = gh.rank_cs_metrics(metrics, label=label)"
   ]
  },
  {
   "cell_type": "code",
   "execution_count": 354,
   "metadata": {},
   "outputs": [],
   "source": [
    "settings = {\n",
    "    \"cs_num_1\": 5,\n",
    "    \"cs_num_2\": 7,\n",
    "    \"sel_mut\": pd.DataFrame(),\n",
    "    \"vu_output\": vu_output,\n",
    "    \"cs_exp\": allComs_cs,\n",
    "    \"figures_path\": f\"{figures_path}/Morpheus/allComs/\",\n",
    "    \"label_col_cs\": label,\n",
    "    \"filename\": f\"allComs_{sel_gt.type}_iMev_3.0\",\n",
    "}\n",
    "\n",
    "allComs_morph = sel_gt.export_morpheus(settings)"
   ]
  },
  {
   "cell_type": "markdown",
   "metadata": {},
   "source": [
    "### Import the Morpheus result\n",
    "\n",
    "This is from using hierarchical clustering with Average linkage and cosine distance"
   ]
  },
  {
   "cell_type": "code",
   "execution_count": 356,
   "metadata": {},
   "outputs": [],
   "source": [
    "morpheus_path = f\"{figures_path}/Morpheus/allComs/\"\n",
    "if 0:\n",
    "\n",
    "    morp_df = pd.read_csv(f\"{morpheus_path}/norm_allComs_sigmoid_5K_6TF_hsbm_iMev_3.0.gct\", sep=\"\\t\", skiprows=2)\n",
    "\n",
    "    columns = morp_df[\"id\"]\n",
    "    morp_df = morp_df.transpose()\n",
    "    morp_df.columns = columns\n",
    "    morp_df = morp_df.iloc[2:, :]\n",
    "\n",
    "    morp_df.rename_axis(\"sample\", axis=\"columns\", inplace=True)\n",
    "\n",
    "    # morp_df[\"dendrogram_label\"] = morp_df[\"dendrogram_cut\"].replace({3: \"mes-like\", 4: \"large-basal\", 5: \"small-basal\", 13: \"large-luminal\", 12: \"lum-inf\"})\n",
    "\n",
    "    keep_clusters = []\n",
    "    # Size of 1%\n",
    "    size_th = round(morp_df.shape[0] * 0.01)\n",
    "    for cluster, size in morp_df[\"dendrogram_cut\"].value_counts().items():\n",
    "        if size > 5:\n",
    "            keep_clusters.append(cluster)\n",
    "\n",
    "    # Drop clusters that are smaller than 1% of the cohort size\n",
    "    morp_df = morp_df.loc[morp_df[\"dendrogram_cut\"].isin(keep_clusters)]\n",
    "\n",
    "    reorder_cols = [\n",
    "        \"TCGA408_classifier\",\n",
    "        # \"KMeans_labels_6\",\n",
    "        # \"dendrogram_cut\",\n",
    "        \"RawKMeans_CS_7_rwd_all\",\n",
    "        \"2019_consensus_classifier\",\n",
    "    ]\n",
    "    meta, sky_fig = sky.main(df=morp_df, reorder_cols=reorder_cols, title=\"{}. Comp between {} \".format(\"SBM derived \", \", \".join(reorder_cols)), retMeta=True)\n",
    "    sky_fig.show()"
   ]
  },
  {
   "cell_type": "markdown",
   "metadata": {},
   "source": [
    "## High Degree communities"
   ]
  },
  {
   "cell_type": "code",
   "execution_count": 325,
   "metadata": {},
   "outputs": [
    {
     "name": "stdout",
     "output_type": "stream",
     "text": [
      "Variation per principal component [0.5943924  0.20823983] and the sum 80.26%\n"
     ]
    }
   ],
   "source": [
    "# from observations\n",
    "samples_to_remove = []\n",
    "\n",
    "# pre-processing\n",
    "df = all_tum_tpms.drop(columns=samples_to_remove)\n",
    "\n",
    "# Determine the list of high and low deg\n",
    "highDeg_coms = [int(com) for com in sel_com_genes[\"max_b\"].unique()]\n",
    "lowDegComs = set(sel_gt.gt_modCon.keys()) - set(highDeg_coms)\n",
    "\n",
    "# Remove the unwanted comunities\n",
    "for key in lowDegComs:\n",
    "    sel_gt.gt_modCon.pop(key, None)\n",
    "\n",
    "#### Run ModCon and MEVs and then find the clusters\n",
    "label = \"rwd_highDeg\"\n",
    "sel_gt.gt_modCon_MEV(all_tpms=df, is_imev=True, com_df=com_df)\n",
    "highDeg_cs, figs, metrics = gh.run_clusters(sel_gt, label=label, show_figs=True)\n",
    "highDeg_metrics = gh.rank_cs_metrics(metrics, label=label)\n",
    "\n",
    "### Export it\n",
    "if 0:\n",
    "    settings = {\n",
    "        \"cs_num_1\": 5,\n",
    "        \"cs_num_2\": 7,\n",
    "        \"sel_mut\": pd.DataFrame(),\n",
    "        \"vu_output\": vu_output,\n",
    "        \"cs_exp\": highDeg_cs,\n",
    "        \"figures_path\": f\"{figures_path}/Morpheus/highDeg/\",\n",
    "        \"label_col_cs\": label,\n",
    "        \"filename\": f\"highDeg_{sel_gt.type}_iMev_3.0\",\n",
    "    }\n",
    "\n",
    "highDeg_morph = sel_gt.export_morpheus(settings)\n",
    "\n",
    "#### Reset ModCon / MECVs\n",
    "delattr(sel_gt, \"gt_modCon\")\n",
    "sel_gt.gt_modCon_MEV(all_tpms=df, is_imev=True, com_df=com_df)"
   ]
  },
  {
   "cell_type": "markdown",
   "metadata": {},
   "source": [
    "## Low Degree communities\n"
   ]
  },
  {
   "cell_type": "code",
   "execution_count": 322,
   "metadata": {},
   "outputs": [
    {
     "name": "stdout",
     "output_type": "stream",
     "text": [
      "Variation per principal component [0.55262471 0.26747786] and the sum 82.01%\n"
     ]
    }
   ],
   "source": [
    "# from observations\n",
    "samples_to_remove = []\n",
    "\n",
    "# pre-processing\n",
    "df = all_tum_tpms.drop(columns=samples_to_remove)\n",
    "\n",
    "# Determine the list of high and low deg\n",
    "highDeg_coms = [int(com) for com in sel_com_genes[\"max_b\"].unique()]\n",
    "lowDegComs = set(sel_gt.gt_modCon.keys()) - set(highDeg_coms)\n",
    "\n",
    "# Remove the High degree coms so that we keep only the lowDeg\n",
    "for key in highDeg_coms:\n",
    "    sel_gt.gt_modCon.pop(key, None)\n",
    "\n",
    "# Run ModCon and MEVs and then find the clusters\n",
    "label = \"rwd_lowDeg\"\n",
    "sel_gt.gt_modCon_MEV(all_tpms=df, is_imev=True, com_df=com_df)\n",
    "lowDeg_cs, figs, metrics = gh.run_clusters(sel_gt, label=label, show_figs=True)\n",
    "lowDeg_metrics = gh.rank_cs_metrics(metrics, label=label)\n",
    "\n",
    "### Export it\n",
    "if 0:\n",
    "    settings = {\n",
    "        \"cs_num_1\": 5,\n",
    "        \"cs_num_2\": 7,\n",
    "        \"sel_mut\": pd.DataFrame(),\n",
    "        \"vu_output\": vu_output,\n",
    "        \"cs_exp\": lowDeg_cs,\n",
    "        \"figures_path\": f\"{figures_path}/Morpheus/lowDeg/\",\n",
    "        \"label_col_cs\": label,\n",
    "        \"filename\": f\"lowDeg_{sel_gt.type}_iMev_3.0\",\n",
    "    }\n",
    "\n",
    "    lowDeg_morph = sel_gt.export_morpheus(settings)\n",
    "\n",
    "#### Reset ModCon/MEV\n",
    "delattr(sel_gt, \"gt_modCon\")\n",
    "sel_gt.gt_modCon_MEV(all_tpms=df, is_imev=True, com_df=com_df)"
   ]
  },
  {
   "cell_type": "code",
   "execution_count": 324,
   "metadata": {},
   "outputs": [
    {
     "data": {
      "text/html": [
       "<div>\n",
       "<style scoped>\n",
       "    .dataframe tbody tr th:only-of-type {\n",
       "        vertical-align: middle;\n",
       "    }\n",
       "\n",
       "    .dataframe tbody tr th {\n",
       "        vertical-align: top;\n",
       "    }\n",
       "\n",
       "    .dataframe thead th {\n",
       "        text-align: right;\n",
       "    }\n",
       "</style>\n",
       "<table border=\"1\" class=\"dataframe\">\n",
       "  <thead>\n",
       "    <tr style=\"text-align: right;\">\n",
       "      <th></th>\n",
       "      <th>rwd_all</th>\n",
       "      <th>rwd_highDeg</th>\n",
       "      <th>rwd_lowDeg</th>\n",
       "    </tr>\n",
       "  </thead>\n",
       "  <tbody>\n",
       "    <tr>\n",
       "      <th>Sil_cos_1</th>\n",
       "      <td>Avg_5</td>\n",
       "      <td>KM_4</td>\n",
       "      <td>Avg_4</td>\n",
       "    </tr>\n",
       "    <tr>\n",
       "      <th>Sil_cos_2</th>\n",
       "      <td>Avg_6</td>\n",
       "      <td>GaussianMixture_4</td>\n",
       "      <td>Avg_5</td>\n",
       "    </tr>\n",
       "    <tr>\n",
       "      <th>Sil_cos_3</th>\n",
       "      <td>Avg_4</td>\n",
       "      <td>Avg_4</td>\n",
       "      <td>Avg_6</td>\n",
       "    </tr>\n",
       "    <tr>\n",
       "      <th>Cal_hab_1</th>\n",
       "      <td>KM_4</td>\n",
       "      <td>KM_4</td>\n",
       "      <td>KM_4</td>\n",
       "    </tr>\n",
       "    <tr>\n",
       "      <th>Cal_hab_2</th>\n",
       "      <td>GaussianMixture_4</td>\n",
       "      <td>Spec_4</td>\n",
       "      <td>GaussianMixture_4</td>\n",
       "    </tr>\n",
       "    <tr>\n",
       "      <th>Cal_hab_3</th>\n",
       "      <td>Spec_4</td>\n",
       "      <td>KM_5</td>\n",
       "      <td>Spec_4</td>\n",
       "    </tr>\n",
       "    <tr>\n",
       "      <th>Dav_bou_1</th>\n",
       "      <td>Avg_9</td>\n",
       "      <td>Avg_9</td>\n",
       "      <td>Avg_7</td>\n",
       "    </tr>\n",
       "    <tr>\n",
       "      <th>Dav_bou_2</th>\n",
       "      <td>Spec_4</td>\n",
       "      <td>Avg_8</td>\n",
       "      <td>Avg_6</td>\n",
       "    </tr>\n",
       "    <tr>\n",
       "      <th>Dav_bou_3</th>\n",
       "      <td>Avg_8</td>\n",
       "      <td>KM_4</td>\n",
       "      <td>Avg_5</td>\n",
       "    </tr>\n",
       "  </tbody>\n",
       "</table>\n",
       "</div>"
      ],
      "text/plain": [
       "                     rwd_all        rwd_highDeg         rwd_lowDeg\n",
       "Sil_cos_1              Avg_5               KM_4              Avg_4\n",
       "Sil_cos_2              Avg_6  GaussianMixture_4              Avg_5\n",
       "Sil_cos_3              Avg_4              Avg_4              Avg_6\n",
       "Cal_hab_1               KM_4               KM_4               KM_4\n",
       "Cal_hab_2  GaussianMixture_4             Spec_4  GaussianMixture_4\n",
       "Cal_hab_3             Spec_4               KM_5             Spec_4\n",
       "Dav_bou_1              Avg_9              Avg_9              Avg_7\n",
       "Dav_bou_2             Spec_4              Avg_8              Avg_6\n",
       "Dav_bou_3              Avg_8               KM_4              Avg_5"
      ]
     },
     "execution_count": 324,
     "metadata": {},
     "output_type": "execute_result"
    }
   ],
   "source": [
    "pd.concat([allComs_metrics, highDeg_metrics, lowDeg_metrics], axis=1)"
   ]
  },
  {
   "cell_type": "markdown",
   "metadata": {},
   "source": [
    "## Cluster comparison across all three"
   ]
  },
  {
   "cell_type": "code",
   "execution_count": 352,
   "metadata": {},
   "outputs": [
    {
     "data": {
      "application/vnd.plotly.v1+json": {
       "config": {
        "plotlyServerURL": "https://plot.ly"
       },
       "data": [
        {
         "arrangement": "perpendicular",
         "link": {
          "color": "#bdbdbd",
          "source": [
           0,
           0,
           0,
           0,
           0,
           0,
           1,
           1,
           1,
           1,
           1,
           2,
           2,
           2,
           2,
           2,
           2,
           3,
           3,
           3,
           3,
           3,
           4,
           4,
           4,
           4,
           5,
           5,
           5,
           5,
           6,
           6,
           6,
           6,
           7,
           7,
           7,
           7,
           8,
           8,
           8,
           9,
           9,
           9,
           9,
           10,
           10,
           10,
           10,
           11,
           11,
           11,
           12,
           12,
           12,
           13,
           13,
           13,
           14,
           14,
           15,
           15,
           15,
           15,
           16,
           17,
           17,
           18,
           18,
           18,
           18,
           18,
           18,
           19,
           19,
           19,
           19,
           20,
           20,
           20,
           20,
           20,
           21,
           21,
           21,
           21,
           22,
           22,
           22,
           22,
           22,
           22,
           23,
           23,
           23,
           23,
           23
          ],
          "target": [
           6,
           7,
           8,
           9,
           10,
           11,
           6,
           7,
           8,
           9,
           10,
           6,
           7,
           8,
           9,
           10,
           11,
           7,
           8,
           9,
           10,
           11,
           6,
           7,
           8,
           10,
           6,
           8,
           10,
           11,
           12,
           14,
           15,
           16,
           12,
           13,
           15,
           16,
           12,
           13,
           16,
           12,
           13,
           14,
           15,
           12,
           14,
           15,
           17,
           14,
           15,
           17,
           18,
           20,
           22,
           18,
           20,
           21,
           19,
           22,
           18,
           19,
           21,
           23,
           20,
           19,
           23,
           24,
           25,
           26,
           27,
           28,
           29,
           24,
           26,
           28,
           29,
           24,
           25,
           26,
           27,
           29,
           25,
           26,
           27,
           29,
           24,
           25,
           26,
           27,
           28,
           29,
           24,
           25,
           26,
           27,
           29
          ],
          "value": [
           27,
           2,
           4,
           5,
           17,
           10,
           24,
           1,
           6,
           1,
           9,
           12,
           41,
           26,
           25,
           2,
           7,
           44,
           27,
           29,
           1,
           12,
           19,
           1,
           6,
           7,
           12,
           7,
           7,
           2,
           43,
           46,
           4,
           1,
           16,
           49,
           6,
           18,
           29,
           9,
           38,
           7,
           24,
           1,
           28,
           1,
           24,
           11,
           7,
           1,
           16,
           14,
           41,
           3,
           52,
           25,
           1,
           56,
           65,
           7,
           25,
           2,
           2,
           36,
           57,
           6,
           15,
           14,
           14,
           38,
           8,
           2,
           15,
           69,
           1,
           1,
           2,
           10,
           9,
           28,
           8,
           6,
           4,
           45,
           7,
           2,
           41,
           2,
           3,
           1,
           2,
           10,
           14,
           7,
           22,
           2,
           6
          ]
         },
         "node": {
          "color": [
           "rgb(229, 134, 6)",
           "rgb(229, 134, 6)",
           "rgb(229, 134, 6)",
           "rgb(229, 134, 6)",
           "rgb(229, 134, 6)",
           "rgb(229, 134, 6)",
           "rgb(93, 105, 177)",
           "rgb(93, 105, 177)",
           "rgb(93, 105, 177)",
           "rgb(93, 105, 177)",
           "rgb(93, 105, 177)",
           "rgb(93, 105, 177)",
           "rgb(82, 188, 163)",
           "rgb(82, 188, 163)",
           "rgb(82, 188, 163)",
           "rgb(82, 188, 163)",
           "rgb(82, 188, 163)",
           "rgb(82, 188, 163)",
           "rgb(153, 201, 69)",
           "rgb(153, 201, 69)",
           "rgb(153, 201, 69)",
           "rgb(153, 201, 69)",
           "rgb(153, 201, 69)",
           "rgb(153, 201, 69)",
           "rgb(204, 97, 176)",
           "rgb(204, 97, 176)",
           "rgb(204, 97, 176)",
           "rgb(204, 97, 176)",
           "rgb(204, 97, 176)",
           "rgb(204, 97, 176)"
          ],
          "label": [
           "High IFNG",
           "Low IFNG",
           "Lum Inf/NS",
           "LumP",
           "Med IFNG",
           "Ne",
           0,
           1,
           2,
           3,
           4,
           5,
           0,
           1,
           2,
           3,
           4,
           5,
           0,
           1,
           2,
           3,
           4,
           5,
           "Ba/Sq",
           "LumNS",
           "LumP",
           "LumU",
           "NE-like",
           "Stroma-rich"
          ],
          "line": {
           "color": "black",
           "width": 0.5
          },
          "pad": 15,
          "thickness": 20
         },
         "type": "sankey"
        }
       ],
       "layout": {
        "annotations": [
         {
          "align": "left",
          "font": {
           "color": "#003366",
           "size": 16
          },
          "showarrow": false,
          "text": "KMeans_labels_6",
          "x": 0,
          "xref": "x",
          "y": 1.07,
          "yref": "paper"
         },
         {
          "align": "left",
          "font": {
           "color": "#003366",
           "size": 16
          },
          "showarrow": false,
          "text": "RawKMeans_CS_6_rwd_highDeg",
          "x": 1,
          "xref": "x",
          "y": 1.07,
          "yref": "paper"
         },
         {
          "align": "left",
          "font": {
           "color": "#003366",
           "size": 16
          },
          "showarrow": false,
          "text": "RawKMeans_CS_6_rwd_all",
          "x": 2,
          "xref": "x",
          "y": 1.07,
          "yref": "paper"
         },
         {
          "align": "left",
          "font": {
           "color": "#003366",
           "size": 16
          },
          "showarrow": false,
          "text": "RawKMeans_CS_6_rwd_lowDeg",
          "x": 3,
          "xref": "x",
          "y": 1.07,
          "yref": "paper"
         },
         {
          "align": "left",
          "font": {
           "color": "#003366",
           "size": 16
          },
          "showarrow": false,
          "text": "consensus",
          "x": 4,
          "xref": "x",
          "y": 1.07,
          "yref": "paper"
         }
        ],
        "font": {
         "color": "#003366",
         "size": 16
        },
        "height": 600,
        "plot_bgcolor": "rgba(0,0,0,0)",
        "template": {
         "data": {
          "bar": [
           {
            "error_x": {
             "color": "rgb(51,51,51)"
            },
            "error_y": {
             "color": "rgb(51,51,51)"
            },
            "marker": {
             "line": {
              "color": "rgb(237,237,237)",
              "width": 0.5
             },
             "pattern": {
              "fillmode": "overlay",
              "size": 10,
              "solidity": 0.2
             }
            },
            "type": "bar"
           }
          ],
          "barpolar": [
           {
            "marker": {
             "line": {
              "color": "rgb(237,237,237)",
              "width": 0.5
             },
             "pattern": {
              "fillmode": "overlay",
              "size": 10,
              "solidity": 0.2
             }
            },
            "type": "barpolar"
           }
          ],
          "carpet": [
           {
            "aaxis": {
             "endlinecolor": "rgb(51,51,51)",
             "gridcolor": "white",
             "linecolor": "white",
             "minorgridcolor": "white",
             "startlinecolor": "rgb(51,51,51)"
            },
            "baxis": {
             "endlinecolor": "rgb(51,51,51)",
             "gridcolor": "white",
             "linecolor": "white",
             "minorgridcolor": "white",
             "startlinecolor": "rgb(51,51,51)"
            },
            "type": "carpet"
           }
          ],
          "choropleth": [
           {
            "colorbar": {
             "outlinewidth": 0,
             "tickcolor": "rgb(237,237,237)",
             "ticklen": 6,
             "ticks": "inside"
            },
            "type": "choropleth"
           }
          ],
          "contour": [
           {
            "colorbar": {
             "outlinewidth": 0,
             "tickcolor": "rgb(237,237,237)",
             "ticklen": 6,
             "ticks": "inside"
            },
            "colorscale": [
             [
              0,
              "rgb(20,44,66)"
             ],
             [
              1,
              "rgb(90,179,244)"
             ]
            ],
            "type": "contour"
           }
          ],
          "contourcarpet": [
           {
            "colorbar": {
             "outlinewidth": 0,
             "tickcolor": "rgb(237,237,237)",
             "ticklen": 6,
             "ticks": "inside"
            },
            "type": "contourcarpet"
           }
          ],
          "heatmap": [
           {
            "colorbar": {
             "outlinewidth": 0,
             "tickcolor": "rgb(237,237,237)",
             "ticklen": 6,
             "ticks": "inside"
            },
            "colorscale": [
             [
              0,
              "rgb(20,44,66)"
             ],
             [
              1,
              "rgb(90,179,244)"
             ]
            ],
            "type": "heatmap"
           }
          ],
          "heatmapgl": [
           {
            "colorbar": {
             "outlinewidth": 0,
             "tickcolor": "rgb(237,237,237)",
             "ticklen": 6,
             "ticks": "inside"
            },
            "colorscale": [
             [
              0,
              "rgb(20,44,66)"
             ],
             [
              1,
              "rgb(90,179,244)"
             ]
            ],
            "type": "heatmapgl"
           }
          ],
          "histogram": [
           {
            "marker": {
             "pattern": {
              "fillmode": "overlay",
              "size": 10,
              "solidity": 0.2
             }
            },
            "type": "histogram"
           }
          ],
          "histogram2d": [
           {
            "colorbar": {
             "outlinewidth": 0,
             "tickcolor": "rgb(237,237,237)",
             "ticklen": 6,
             "ticks": "inside"
            },
            "colorscale": [
             [
              0,
              "rgb(20,44,66)"
             ],
             [
              1,
              "rgb(90,179,244)"
             ]
            ],
            "type": "histogram2d"
           }
          ],
          "histogram2dcontour": [
           {
            "colorbar": {
             "outlinewidth": 0,
             "tickcolor": "rgb(237,237,237)",
             "ticklen": 6,
             "ticks": "inside"
            },
            "colorscale": [
             [
              0,
              "rgb(20,44,66)"
             ],
             [
              1,
              "rgb(90,179,244)"
             ]
            ],
            "type": "histogram2dcontour"
           }
          ],
          "mesh3d": [
           {
            "colorbar": {
             "outlinewidth": 0,
             "tickcolor": "rgb(237,237,237)",
             "ticklen": 6,
             "ticks": "inside"
            },
            "type": "mesh3d"
           }
          ],
          "parcoords": [
           {
            "line": {
             "colorbar": {
              "outlinewidth": 0,
              "tickcolor": "rgb(237,237,237)",
              "ticklen": 6,
              "ticks": "inside"
             }
            },
            "type": "parcoords"
           }
          ],
          "pie": [
           {
            "automargin": true,
            "type": "pie"
           }
          ],
          "scatter": [
           {
            "fillpattern": {
             "fillmode": "overlay",
             "size": 10,
             "solidity": 0.2
            },
            "type": "scatter"
           }
          ],
          "scatter3d": [
           {
            "line": {
             "colorbar": {
              "outlinewidth": 0,
              "tickcolor": "rgb(237,237,237)",
              "ticklen": 6,
              "ticks": "inside"
             }
            },
            "marker": {
             "colorbar": {
              "outlinewidth": 0,
              "tickcolor": "rgb(237,237,237)",
              "ticklen": 6,
              "ticks": "inside"
             }
            },
            "type": "scatter3d"
           }
          ],
          "scattercarpet": [
           {
            "marker": {
             "colorbar": {
              "outlinewidth": 0,
              "tickcolor": "rgb(237,237,237)",
              "ticklen": 6,
              "ticks": "inside"
             }
            },
            "type": "scattercarpet"
           }
          ],
          "scattergeo": [
           {
            "marker": {
             "colorbar": {
              "outlinewidth": 0,
              "tickcolor": "rgb(237,237,237)",
              "ticklen": 6,
              "ticks": "inside"
             }
            },
            "type": "scattergeo"
           }
          ],
          "scattergl": [
           {
            "marker": {
             "colorbar": {
              "outlinewidth": 0,
              "tickcolor": "rgb(237,237,237)",
              "ticklen": 6,
              "ticks": "inside"
             }
            },
            "type": "scattergl"
           }
          ],
          "scattermapbox": [
           {
            "marker": {
             "colorbar": {
              "outlinewidth": 0,
              "tickcolor": "rgb(237,237,237)",
              "ticklen": 6,
              "ticks": "inside"
             }
            },
            "type": "scattermapbox"
           }
          ],
          "scatterpolar": [
           {
            "marker": {
             "colorbar": {
              "outlinewidth": 0,
              "tickcolor": "rgb(237,237,237)",
              "ticklen": 6,
              "ticks": "inside"
             }
            },
            "type": "scatterpolar"
           }
          ],
          "scatterpolargl": [
           {
            "marker": {
             "colorbar": {
              "outlinewidth": 0,
              "tickcolor": "rgb(237,237,237)",
              "ticklen": 6,
              "ticks": "inside"
             }
            },
            "type": "scatterpolargl"
           }
          ],
          "scatterternary": [
           {
            "marker": {
             "colorbar": {
              "outlinewidth": 0,
              "tickcolor": "rgb(237,237,237)",
              "ticklen": 6,
              "ticks": "inside"
             }
            },
            "type": "scatterternary"
           }
          ],
          "surface": [
           {
            "colorbar": {
             "outlinewidth": 0,
             "tickcolor": "rgb(237,237,237)",
             "ticklen": 6,
             "ticks": "inside"
            },
            "colorscale": [
             [
              0,
              "rgb(20,44,66)"
             ],
             [
              1,
              "rgb(90,179,244)"
             ]
            ],
            "type": "surface"
           }
          ],
          "table": [
           {
            "cells": {
             "fill": {
              "color": "rgb(237,237,237)"
             },
             "line": {
              "color": "white"
             }
            },
            "header": {
             "fill": {
              "color": "rgb(217,217,217)"
             },
             "line": {
              "color": "white"
             }
            },
            "type": "table"
           }
          ]
         },
         "layout": {
          "annotationdefaults": {
           "arrowhead": 0,
           "arrowwidth": 1
          },
          "autotypenumbers": "strict",
          "coloraxis": {
           "colorbar": {
            "outlinewidth": 0,
            "tickcolor": "rgb(237,237,237)",
            "ticklen": 6,
            "ticks": "inside"
           }
          },
          "colorscale": {
           "sequential": [
            [
             0,
             "rgb(20,44,66)"
            ],
            [
             1,
             "rgb(90,179,244)"
            ]
           ],
           "sequentialminus": [
            [
             0,
             "rgb(20,44,66)"
            ],
            [
             1,
             "rgb(90,179,244)"
            ]
           ]
          },
          "colorway": [
           "#F8766D",
           "#A3A500",
           "#00BF7D",
           "#00B0F6",
           "#E76BF3"
          ],
          "font": {
           "color": "rgb(51,51,51)"
          },
          "geo": {
           "bgcolor": "white",
           "lakecolor": "white",
           "landcolor": "rgb(237,237,237)",
           "showlakes": true,
           "showland": true,
           "subunitcolor": "white"
          },
          "hoverlabel": {
           "align": "left"
          },
          "hovermode": "closest",
          "paper_bgcolor": "white",
          "plot_bgcolor": "rgb(237,237,237)",
          "polar": {
           "angularaxis": {
            "gridcolor": "white",
            "linecolor": "white",
            "showgrid": true,
            "tickcolor": "rgb(51,51,51)",
            "ticks": "outside"
           },
           "bgcolor": "rgb(237,237,237)",
           "radialaxis": {
            "gridcolor": "white",
            "linecolor": "white",
            "showgrid": true,
            "tickcolor": "rgb(51,51,51)",
            "ticks": "outside"
           }
          },
          "scene": {
           "xaxis": {
            "backgroundcolor": "rgb(237,237,237)",
            "gridcolor": "white",
            "gridwidth": 2,
            "linecolor": "white",
            "showbackground": true,
            "showgrid": true,
            "tickcolor": "rgb(51,51,51)",
            "ticks": "outside",
            "zerolinecolor": "white"
           },
           "yaxis": {
            "backgroundcolor": "rgb(237,237,237)",
            "gridcolor": "white",
            "gridwidth": 2,
            "linecolor": "white",
            "showbackground": true,
            "showgrid": true,
            "tickcolor": "rgb(51,51,51)",
            "ticks": "outside",
            "zerolinecolor": "white"
           },
           "zaxis": {
            "backgroundcolor": "rgb(237,237,237)",
            "gridcolor": "white",
            "gridwidth": 2,
            "linecolor": "white",
            "showbackground": true,
            "showgrid": true,
            "tickcolor": "rgb(51,51,51)",
            "ticks": "outside",
            "zerolinecolor": "white"
           }
          },
          "shapedefaults": {
           "fillcolor": "black",
           "line": {
            "width": 0
           },
           "opacity": 0.3
          },
          "ternary": {
           "aaxis": {
            "gridcolor": "white",
            "linecolor": "white",
            "showgrid": true,
            "tickcolor": "rgb(51,51,51)",
            "ticks": "outside"
           },
           "baxis": {
            "gridcolor": "white",
            "linecolor": "white",
            "showgrid": true,
            "tickcolor": "rgb(51,51,51)",
            "ticks": "outside"
           },
           "bgcolor": "rgb(237,237,237)",
           "caxis": {
            "gridcolor": "white",
            "linecolor": "white",
            "showgrid": true,
            "tickcolor": "rgb(51,51,51)",
            "ticks": "outside"
           }
          },
          "xaxis": {
           "automargin": true,
           "gridcolor": "white",
           "linecolor": "white",
           "showgrid": true,
           "tickcolor": "rgb(51,51,51)",
           "ticks": "outside",
           "title": {
            "standoff": 15
           },
           "zerolinecolor": "white"
          },
          "yaxis": {
           "automargin": true,
           "gridcolor": "white",
           "linecolor": "white",
           "showgrid": true,
           "tickcolor": "rgb(51,51,51)",
           "ticks": "outside",
           "title": {
            "standoff": 15
           },
           "zerolinecolor": "white"
          }
         }
        },
        "title": {
         "text": "Different selection mechanisms"
        },
        "xaxis": {
         "showgrid": false,
         "visible": false,
         "zeroline": false
        },
        "yaxis": {
         "showgrid": false,
         "visible": false,
         "zeroline": false
        }
       }
      }
     },
     "metadata": {},
     "output_type": "display_data"
    }
   ],
   "source": [
    "comb_df = pd.concat([vu_output, allComs_cs, highDeg_cs.drop(columns=[\"PC_1\", \"PC_2\"]), lowDeg_cs.drop(columns=[\"PC_1\", \"PC_2\"])], axis=1).dropna()\n",
    "K = 6\n",
    "model = \"RawKMeans\"  # Avg, Birch, GaussianMixture\n",
    "reorder_cols = [\n",
    "    # \"TCGA408_classifier\",\n",
    "    \"KMeans_labels_6\",\n",
    "    f\"{model}_CS_{K}_rwd_highDeg\",\n",
    "    f\"{model}_CS_{K}_rwd_all\",\n",
    "    f\"{model}_CS_{K}_rwd_lowDeg\",\n",
    "    \"consensus\",\n",
    "]\n",
    "\n",
    "meta, sky_fig = sky.main(df=comb_df, reorder_cols=reorder_cols, title=\"Different selection mechanisms\", retMeta=True)\n",
    "sky_fig.show()"
   ]
  },
  {
   "cell_type": "markdown",
   "metadata": {},
   "source": [
    "## Genes from High Degree Communities"
   ]
  },
  {
   "cell_type": "code",
   "execution_count": null,
   "metadata": {},
   "outputs": [],
   "source": [
    "### Prepare the samples\n",
    "# v3.1 - removing all dendrogram cut 6 remove all the samples clusterd in <3 groups\n",
    "samples_to_remove = [\"TCGA-DK-AA6T\", \"TCGA-GV-A3QI\", \"TCGA-ZF-A9RN\", \"TCGA-BT-A20J\", \"TCGA-HQ-A2OF\"]\n",
    "\n",
    "# v3.2\n",
    "vu_cols = [\"KMeans_labels_6\", \"2019_consensus_classifier\", \"TCGA408_classifier\", \"Lund2017.subtype\"]\n",
    "data = all_tum_tpms.loc[sel_com_genes.index].drop(columns=samples_to_remove)\n",
    "data = np.log2(data + 1)"
   ]
  },
  {
   "cell_type": "code",
   "execution_count": null,
   "metadata": {},
   "outputs": [],
   "source": [
    "#### Export\n",
    "comb_df = pd.concat([data.T, vu_output[vu_cols]], axis=1).dropna()\n",
    "comb_df = pd.concat([sel_com_genes[\"max_b\"], comb_df.T], axis=1).T\n",
    "comb_df = comb_df[list(vu_cols) + list(sel_com_genes.index)]\n",
    "\n",
    "comb_df.T.to_csv(f\"{figures_path}/Morpheus/genes_highDegree/tum_{sel_gt.type}_highDeg_v3.1.tsv\", sep=\"\\t\")\n",
    "comb_df.T\n",
    "\n",
    "\n",
    "if 0:\n",
    "    # # only the 122 genes\n",
    "    # data = all_tum_tpms.loc[sel_com_genes.index].drop(columns=samples_to_remove).T\n",
    "\n",
    "    # #### Runing the clustering\n",
    "    # label = \"highDeg\"\n",
    "    # selected_clusters = [\"Birch\", \"RawKMeans\", \"GaussianMixture\", \"Ward\", \"SpectralClustering\", \"Avg\"]\n",
    "    # # run experiments\n",
    "    # outputs, _, all_metrics, _ = cs.compare_exp(\n",
    "    #     data, rob_comp=None, n_clusters=None, selected_clusters=selected_clusters, show_figures=False, show_consensus=True, pca_data=False\n",
    "    # )\n",
    "    # outputs.set_index(\"Sample\", inplace=True)\n",
    "\n",
    "    # new_cols = [col + \"_\" + label for col in outputs.columns[2:]]\n",
    "    # outputs.columns = [\"PC_1\", \"PC_2\"] + new_cols"
   ]
  },
  {
   "cell_type": "markdown",
   "metadata": {},
   "source": [
    "## Analyse MIBC for all communities\n"
   ]
  },
  {
   "cell_type": "code",
   "execution_count": 357,
   "metadata": {},
   "outputs": [
    {
     "name": "stdout",
     "output_type": "stream",
     "text": [
      "Variation per principal component [0.55064402 0.26745057] and the sum 81.81%\n"
     ]
    }
   ],
   "source": [
    "# Select the experiment\n",
    "sel_gt: GtExp = hsbm_v3.exps[\"sigmoid_5K_6TF_hsbm\"]\n",
    "\n",
    "##### Sample to remove from observations\n",
    "samples_to_remove = []\n",
    "\n",
    "# pre-processing\n",
    "df = all_tum_tpms.drop(columns=samples_to_remove)\n",
    "\n",
    "# Run ModCon and MEVs and then find the clusters\n",
    "label = \"rwd_all\"\n",
    "sel_gt.gt_modCon_MEV(all_tpms=df, is_imev=True, com_df=com_df)\n",
    "allComs_cs, figs, metrics = gh.run_clusters(sel_gt, label=label, show_figs=True)\n",
    "# figs.update_layout(height=900)\n",
    "allComs_metrics = gh.rank_cs_metrics(metrics, label=label)"
   ]
  },
  {
   "cell_type": "code",
   "execution_count": null,
   "metadata": {},
   "outputs": [],
   "source": []
  },
  {
   "cell_type": "markdown",
   "metadata": {},
   "source": [
    "# Biology "
   ]
  },
  {
   "cell_type": "markdown",
   "metadata": {},
   "source": [
    "## AHR search"
   ]
  },
  {
   "cell_type": "code",
   "execution_count": 16,
   "metadata": {},
   "outputs": [],
   "source": [
    "ahr_study = pd.read_csv(f\"{data_base}/metadata/ahr_study_SB_RS.tsv\", sep=\"\\t\", index_col=\"genes\", dtype_backend=\"pyarrow\")\n",
    "ahr_study = ahr_study[ahr_study[\"Log2FC\"] > 0.75]\n",
    "\n",
    "# filter out the non-sig values\n",
    "ahr_study = ahr_study[ahr_study[\"qval\"] < 0.05]\n",
    "ahr_study.sort_values(by=\"qval\")\n",
    "\n",
    "# Compute the PI values\n",
    "ahr_study[\"-log10(q)\"] = -np.log10(ahr_study[\"qval\"])\n",
    "ahr_study[\"pi\"] = ahr_study[\"-log10(q)\"] * ahr_study[\"Log2FC\"]\n",
    "ahr_study = ahr_study[ahr_study[\"pi\"] != 0]\n",
    "\n",
    "# Select the genes\n",
    "all_up_reg_sig = ahr_study.index\n",
    "top_100 = ahr_study.sort_values(by=\"pi\", ascending=False).index.values[:100]"
   ]
  },
  {
   "cell_type": "code",
   "execution_count": 17,
   "metadata": {},
   "outputs": [
    {
     "name": "stdout",
     "output_type": "stream",
     "text": [
      "Total AHR genes 198. Found in 5K 103. Tum found 197\n"
     ]
    },
    {
     "data": {
      "application/vnd.plotly.v1+json": {
       "config": {
        "plotlyServerURL": "https://plot.ly"
       },
       "data": [
        {
         "alignmentgroup": "True",
         "bingroup": "x",
         "hovertemplate": "max_b=%{x}<br>count=%{y}<extra></extra>",
         "legendgroup": "",
         "marker": {
          "color": "#F8766D",
          "pattern": {
           "shape": ""
          }
         },
         "name": "",
         "offsetgroup": "",
         "orientation": "v",
         "showlegend": false,
         "texttemplate": "%{value}",
         "type": "histogram",
         "x": [
          "17",
          "4",
          "11",
          "17",
          "11",
          "13",
          "41",
          "16",
          "9",
          "14",
          "17",
          "0",
          "14",
          "21",
          "19",
          "38",
          "23",
          "9",
          "6",
          "13",
          "6",
          "36",
          "9",
          "0",
          "31",
          "34",
          "27",
          "19",
          "27",
          "27",
          "27",
          "11",
          "27",
          "26",
          "9",
          "11",
          "41",
          "0",
          "30",
          "9",
          "21",
          "34",
          "9",
          "9",
          "9",
          "9",
          "9",
          "9",
          "9",
          "9",
          "35",
          "16",
          "31",
          "9",
          "9",
          "9",
          "38",
          "9",
          "34",
          "9",
          "9",
          "9",
          "9",
          "9",
          "9",
          "39",
          "24",
          "31",
          "38",
          "31",
          "0",
          "0",
          "35",
          "31",
          "43",
          "31",
          "35",
          "31",
          "21",
          "0",
          "22",
          "31",
          "31",
          "26",
          "31",
          "17",
          "21",
          "31",
          "37",
          "31",
          "26",
          "14",
          "6",
          "14",
          "31",
          "0",
          "0",
          "0",
          "0",
          "43",
          "35",
          "13",
          "14"
         ],
         "xaxis": "x",
         "yaxis": "y"
        }
       ],
       "layout": {
        "barmode": "relative",
        "legend": {
         "tracegroupgap": 0
        },
        "margin": {
         "t": 60
        },
        "template": {
         "data": {
          "bar": [
           {
            "error_x": {
             "color": "rgb(51,51,51)"
            },
            "error_y": {
             "color": "rgb(51,51,51)"
            },
            "marker": {
             "line": {
              "color": "rgb(237,237,237)",
              "width": 0.5
             },
             "pattern": {
              "fillmode": "overlay",
              "size": 10,
              "solidity": 0.2
             }
            },
            "type": "bar"
           }
          ],
          "barpolar": [
           {
            "marker": {
             "line": {
              "color": "rgb(237,237,237)",
              "width": 0.5
             },
             "pattern": {
              "fillmode": "overlay",
              "size": 10,
              "solidity": 0.2
             }
            },
            "type": "barpolar"
           }
          ],
          "carpet": [
           {
            "aaxis": {
             "endlinecolor": "rgb(51,51,51)",
             "gridcolor": "white",
             "linecolor": "white",
             "minorgridcolor": "white",
             "startlinecolor": "rgb(51,51,51)"
            },
            "baxis": {
             "endlinecolor": "rgb(51,51,51)",
             "gridcolor": "white",
             "linecolor": "white",
             "minorgridcolor": "white",
             "startlinecolor": "rgb(51,51,51)"
            },
            "type": "carpet"
           }
          ],
          "choropleth": [
           {
            "colorbar": {
             "outlinewidth": 0,
             "tickcolor": "rgb(237,237,237)",
             "ticklen": 6,
             "ticks": "inside"
            },
            "type": "choropleth"
           }
          ],
          "contour": [
           {
            "colorbar": {
             "outlinewidth": 0,
             "tickcolor": "rgb(237,237,237)",
             "ticklen": 6,
             "ticks": "inside"
            },
            "colorscale": [
             [
              0,
              "rgb(20,44,66)"
             ],
             [
              1,
              "rgb(90,179,244)"
             ]
            ],
            "type": "contour"
           }
          ],
          "contourcarpet": [
           {
            "colorbar": {
             "outlinewidth": 0,
             "tickcolor": "rgb(237,237,237)",
             "ticklen": 6,
             "ticks": "inside"
            },
            "type": "contourcarpet"
           }
          ],
          "heatmap": [
           {
            "colorbar": {
             "outlinewidth": 0,
             "tickcolor": "rgb(237,237,237)",
             "ticklen": 6,
             "ticks": "inside"
            },
            "colorscale": [
             [
              0,
              "rgb(20,44,66)"
             ],
             [
              1,
              "rgb(90,179,244)"
             ]
            ],
            "type": "heatmap"
           }
          ],
          "heatmapgl": [
           {
            "colorbar": {
             "outlinewidth": 0,
             "tickcolor": "rgb(237,237,237)",
             "ticklen": 6,
             "ticks": "inside"
            },
            "colorscale": [
             [
              0,
              "rgb(20,44,66)"
             ],
             [
              1,
              "rgb(90,179,244)"
             ]
            ],
            "type": "heatmapgl"
           }
          ],
          "histogram": [
           {
            "marker": {
             "pattern": {
              "fillmode": "overlay",
              "size": 10,
              "solidity": 0.2
             }
            },
            "type": "histogram"
           }
          ],
          "histogram2d": [
           {
            "colorbar": {
             "outlinewidth": 0,
             "tickcolor": "rgb(237,237,237)",
             "ticklen": 6,
             "ticks": "inside"
            },
            "colorscale": [
             [
              0,
              "rgb(20,44,66)"
             ],
             [
              1,
              "rgb(90,179,244)"
             ]
            ],
            "type": "histogram2d"
           }
          ],
          "histogram2dcontour": [
           {
            "colorbar": {
             "outlinewidth": 0,
             "tickcolor": "rgb(237,237,237)",
             "ticklen": 6,
             "ticks": "inside"
            },
            "colorscale": [
             [
              0,
              "rgb(20,44,66)"
             ],
             [
              1,
              "rgb(90,179,244)"
             ]
            ],
            "type": "histogram2dcontour"
           }
          ],
          "mesh3d": [
           {
            "colorbar": {
             "outlinewidth": 0,
             "tickcolor": "rgb(237,237,237)",
             "ticklen": 6,
             "ticks": "inside"
            },
            "type": "mesh3d"
           }
          ],
          "parcoords": [
           {
            "line": {
             "colorbar": {
              "outlinewidth": 0,
              "tickcolor": "rgb(237,237,237)",
              "ticklen": 6,
              "ticks": "inside"
             }
            },
            "type": "parcoords"
           }
          ],
          "pie": [
           {
            "automargin": true,
            "type": "pie"
           }
          ],
          "scatter": [
           {
            "fillpattern": {
             "fillmode": "overlay",
             "size": 10,
             "solidity": 0.2
            },
            "type": "scatter"
           }
          ],
          "scatter3d": [
           {
            "line": {
             "colorbar": {
              "outlinewidth": 0,
              "tickcolor": "rgb(237,237,237)",
              "ticklen": 6,
              "ticks": "inside"
             }
            },
            "marker": {
             "colorbar": {
              "outlinewidth": 0,
              "tickcolor": "rgb(237,237,237)",
              "ticklen": 6,
              "ticks": "inside"
             }
            },
            "type": "scatter3d"
           }
          ],
          "scattercarpet": [
           {
            "marker": {
             "colorbar": {
              "outlinewidth": 0,
              "tickcolor": "rgb(237,237,237)",
              "ticklen": 6,
              "ticks": "inside"
             }
            },
            "type": "scattercarpet"
           }
          ],
          "scattergeo": [
           {
            "marker": {
             "colorbar": {
              "outlinewidth": 0,
              "tickcolor": "rgb(237,237,237)",
              "ticklen": 6,
              "ticks": "inside"
             }
            },
            "type": "scattergeo"
           }
          ],
          "scattergl": [
           {
            "marker": {
             "colorbar": {
              "outlinewidth": 0,
              "tickcolor": "rgb(237,237,237)",
              "ticklen": 6,
              "ticks": "inside"
             }
            },
            "type": "scattergl"
           }
          ],
          "scattermapbox": [
           {
            "marker": {
             "colorbar": {
              "outlinewidth": 0,
              "tickcolor": "rgb(237,237,237)",
              "ticklen": 6,
              "ticks": "inside"
             }
            },
            "type": "scattermapbox"
           }
          ],
          "scatterpolar": [
           {
            "marker": {
             "colorbar": {
              "outlinewidth": 0,
              "tickcolor": "rgb(237,237,237)",
              "ticklen": 6,
              "ticks": "inside"
             }
            },
            "type": "scatterpolar"
           }
          ],
          "scatterpolargl": [
           {
            "marker": {
             "colorbar": {
              "outlinewidth": 0,
              "tickcolor": "rgb(237,237,237)",
              "ticklen": 6,
              "ticks": "inside"
             }
            },
            "type": "scatterpolargl"
           }
          ],
          "scatterternary": [
           {
            "marker": {
             "colorbar": {
              "outlinewidth": 0,
              "tickcolor": "rgb(237,237,237)",
              "ticklen": 6,
              "ticks": "inside"
             }
            },
            "type": "scatterternary"
           }
          ],
          "surface": [
           {
            "colorbar": {
             "outlinewidth": 0,
             "tickcolor": "rgb(237,237,237)",
             "ticklen": 6,
             "ticks": "inside"
            },
            "colorscale": [
             [
              0,
              "rgb(20,44,66)"
             ],
             [
              1,
              "rgb(90,179,244)"
             ]
            ],
            "type": "surface"
           }
          ],
          "table": [
           {
            "cells": {
             "fill": {
              "color": "rgb(237,237,237)"
             },
             "line": {
              "color": "white"
             }
            },
            "header": {
             "fill": {
              "color": "rgb(217,217,217)"
             },
             "line": {
              "color": "white"
             }
            },
            "type": "table"
           }
          ]
         },
         "layout": {
          "annotationdefaults": {
           "arrowhead": 0,
           "arrowwidth": 1
          },
          "autotypenumbers": "strict",
          "coloraxis": {
           "colorbar": {
            "outlinewidth": 0,
            "tickcolor": "rgb(237,237,237)",
            "ticklen": 6,
            "ticks": "inside"
           }
          },
          "colorscale": {
           "sequential": [
            [
             0,
             "rgb(20,44,66)"
            ],
            [
             1,
             "rgb(90,179,244)"
            ]
           ],
           "sequentialminus": [
            [
             0,
             "rgb(20,44,66)"
            ],
            [
             1,
             "rgb(90,179,244)"
            ]
           ]
          },
          "colorway": [
           "#F8766D",
           "#A3A500",
           "#00BF7D",
           "#00B0F6",
           "#E76BF3"
          ],
          "font": {
           "color": "rgb(51,51,51)"
          },
          "geo": {
           "bgcolor": "white",
           "lakecolor": "white",
           "landcolor": "rgb(237,237,237)",
           "showlakes": true,
           "showland": true,
           "subunitcolor": "white"
          },
          "hoverlabel": {
           "align": "left"
          },
          "hovermode": "closest",
          "paper_bgcolor": "white",
          "plot_bgcolor": "rgb(237,237,237)",
          "polar": {
           "angularaxis": {
            "gridcolor": "white",
            "linecolor": "white",
            "showgrid": true,
            "tickcolor": "rgb(51,51,51)",
            "ticks": "outside"
           },
           "bgcolor": "rgb(237,237,237)",
           "radialaxis": {
            "gridcolor": "white",
            "linecolor": "white",
            "showgrid": true,
            "tickcolor": "rgb(51,51,51)",
            "ticks": "outside"
           }
          },
          "scene": {
           "xaxis": {
            "backgroundcolor": "rgb(237,237,237)",
            "gridcolor": "white",
            "gridwidth": 2,
            "linecolor": "white",
            "showbackground": true,
            "showgrid": true,
            "tickcolor": "rgb(51,51,51)",
            "ticks": "outside",
            "zerolinecolor": "white"
           },
           "yaxis": {
            "backgroundcolor": "rgb(237,237,237)",
            "gridcolor": "white",
            "gridwidth": 2,
            "linecolor": "white",
            "showbackground": true,
            "showgrid": true,
            "tickcolor": "rgb(51,51,51)",
            "ticks": "outside",
            "zerolinecolor": "white"
           },
           "zaxis": {
            "backgroundcolor": "rgb(237,237,237)",
            "gridcolor": "white",
            "gridwidth": 2,
            "linecolor": "white",
            "showbackground": true,
            "showgrid": true,
            "tickcolor": "rgb(51,51,51)",
            "ticks": "outside",
            "zerolinecolor": "white"
           }
          },
          "shapedefaults": {
           "fillcolor": "black",
           "line": {
            "width": 0
           },
           "opacity": 0.3
          },
          "ternary": {
           "aaxis": {
            "gridcolor": "white",
            "linecolor": "white",
            "showgrid": true,
            "tickcolor": "rgb(51,51,51)",
            "ticks": "outside"
           },
           "baxis": {
            "gridcolor": "white",
            "linecolor": "white",
            "showgrid": true,
            "tickcolor": "rgb(51,51,51)",
            "ticks": "outside"
           },
           "bgcolor": "rgb(237,237,237)",
           "caxis": {
            "gridcolor": "white",
            "linecolor": "white",
            "showgrid": true,
            "tickcolor": "rgb(51,51,51)",
            "ticks": "outside"
           }
          },
          "xaxis": {
           "automargin": true,
           "gridcolor": "white",
           "linecolor": "white",
           "showgrid": true,
           "tickcolor": "rgb(51,51,51)",
           "ticks": "outside",
           "title": {
            "standoff": 15
           },
           "zerolinecolor": "white"
          },
          "yaxis": {
           "automargin": true,
           "gridcolor": "white",
           "linecolor": "white",
           "showgrid": true,
           "tickcolor": "rgb(51,51,51)",
           "ticks": "outside",
           "title": {
            "standoff": 15
           },
           "zerolinecolor": "white"
          }
         }
        },
        "xaxis": {
         "anchor": "y",
         "domain": [
          0,
          1
         ],
         "title": {
          "text": "max_b"
         }
        },
        "yaxis": {
         "anchor": "x",
         "domain": [
          0,
          1
         ],
         "title": {
          "text": "count"
         }
        }
       }
      }
     },
     "metadata": {},
     "output_type": "display_data"
    }
   ],
   "source": [
    "# ahr_genes = [\"HSP90AB1\", \"AHR\", \"AIP\", \"PTGES3\", \"ARNT\", \"ARNT2\"]\n",
    "ahr_genes = top_100\n",
    "ahr_genes = all_up_reg_sig\n",
    "\n",
    "sel_ahr = nodes_df[nodes_df.index.isin(ahr_genes)]\n",
    "print(f\"Total AHR genes {len(ahr_genes)}. Found in 5K {sel_ahr.shape[0]}. Tum found {all_tum_tpms[all_tum_tpms.index.isin(ahr_genes)].shape[0]}\")\n",
    "# print(f\"Found in communities {sel_ahr['max_b'].value_counts()}\")\n",
    "sel_ahr[\"max_b\"] = sel_ahr[\"max_b\"].astype(str)\n",
    "px.histogram(sel_ahr, x=\"max_b\", text_auto=True)"
   ]
  },
  {
   "cell_type": "code",
   "execution_count": 18,
   "metadata": {},
   "outputs": [
    {
     "name": "stdout",
     "output_type": "stream",
     "text": [
      "AHR. Idx = 3. Comm = 2\n"
     ]
    },
    {
     "data": {
      "application/vnd.plotly.v1+json": {
       "config": {
        "plotlyServerURL": "https://plot.ly"
       },
       "data": [
        {
         "alignmentgroup": "True",
         "bingroup": "x",
         "hovertemplate": "max_b=%{x}<br>count=%{y}<extra></extra>",
         "legendgroup": "",
         "marker": {
          "color": "#F8766D",
          "pattern": {
           "shape": ""
          }
         },
         "name": "",
         "offsetgroup": "",
         "orientation": "v",
         "showlegend": false,
         "texttemplate": "%{value}",
         "type": "histogram",
         "x": [
          "0",
          "21",
          "0",
          "0",
          "0",
          "0",
          "0"
         ],
         "xaxis": "x",
         "yaxis": "y"
        }
       ],
       "layout": {
        "barmode": "relative",
        "legend": {
         "tracegroupgap": 0
        },
        "template": {
         "data": {
          "bar": [
           {
            "error_x": {
             "color": "rgb(51,51,51)"
            },
            "error_y": {
             "color": "rgb(51,51,51)"
            },
            "marker": {
             "line": {
              "color": "rgb(237,237,237)",
              "width": 0.5
             },
             "pattern": {
              "fillmode": "overlay",
              "size": 10,
              "solidity": 0.2
             }
            },
            "type": "bar"
           }
          ],
          "barpolar": [
           {
            "marker": {
             "line": {
              "color": "rgb(237,237,237)",
              "width": 0.5
             },
             "pattern": {
              "fillmode": "overlay",
              "size": 10,
              "solidity": 0.2
             }
            },
            "type": "barpolar"
           }
          ],
          "carpet": [
           {
            "aaxis": {
             "endlinecolor": "rgb(51,51,51)",
             "gridcolor": "white",
             "linecolor": "white",
             "minorgridcolor": "white",
             "startlinecolor": "rgb(51,51,51)"
            },
            "baxis": {
             "endlinecolor": "rgb(51,51,51)",
             "gridcolor": "white",
             "linecolor": "white",
             "minorgridcolor": "white",
             "startlinecolor": "rgb(51,51,51)"
            },
            "type": "carpet"
           }
          ],
          "choropleth": [
           {
            "colorbar": {
             "outlinewidth": 0,
             "tickcolor": "rgb(237,237,237)",
             "ticklen": 6,
             "ticks": "inside"
            },
            "type": "choropleth"
           }
          ],
          "contour": [
           {
            "colorbar": {
             "outlinewidth": 0,
             "tickcolor": "rgb(237,237,237)",
             "ticklen": 6,
             "ticks": "inside"
            },
            "colorscale": [
             [
              0,
              "rgb(20,44,66)"
             ],
             [
              1,
              "rgb(90,179,244)"
             ]
            ],
            "type": "contour"
           }
          ],
          "contourcarpet": [
           {
            "colorbar": {
             "outlinewidth": 0,
             "tickcolor": "rgb(237,237,237)",
             "ticklen": 6,
             "ticks": "inside"
            },
            "type": "contourcarpet"
           }
          ],
          "heatmap": [
           {
            "colorbar": {
             "outlinewidth": 0,
             "tickcolor": "rgb(237,237,237)",
             "ticklen": 6,
             "ticks": "inside"
            },
            "colorscale": [
             [
              0,
              "rgb(20,44,66)"
             ],
             [
              1,
              "rgb(90,179,244)"
             ]
            ],
            "type": "heatmap"
           }
          ],
          "heatmapgl": [
           {
            "colorbar": {
             "outlinewidth": 0,
             "tickcolor": "rgb(237,237,237)",
             "ticklen": 6,
             "ticks": "inside"
            },
            "colorscale": [
             [
              0,
              "rgb(20,44,66)"
             ],
             [
              1,
              "rgb(90,179,244)"
             ]
            ],
            "type": "heatmapgl"
           }
          ],
          "histogram": [
           {
            "marker": {
             "pattern": {
              "fillmode": "overlay",
              "size": 10,
              "solidity": 0.2
             }
            },
            "type": "histogram"
           }
          ],
          "histogram2d": [
           {
            "colorbar": {
             "outlinewidth": 0,
             "tickcolor": "rgb(237,237,237)",
             "ticklen": 6,
             "ticks": "inside"
            },
            "colorscale": [
             [
              0,
              "rgb(20,44,66)"
             ],
             [
              1,
              "rgb(90,179,244)"
             ]
            ],
            "type": "histogram2d"
           }
          ],
          "histogram2dcontour": [
           {
            "colorbar": {
             "outlinewidth": 0,
             "tickcolor": "rgb(237,237,237)",
             "ticklen": 6,
             "ticks": "inside"
            },
            "colorscale": [
             [
              0,
              "rgb(20,44,66)"
             ],
             [
              1,
              "rgb(90,179,244)"
             ]
            ],
            "type": "histogram2dcontour"
           }
          ],
          "mesh3d": [
           {
            "colorbar": {
             "outlinewidth": 0,
             "tickcolor": "rgb(237,237,237)",
             "ticklen": 6,
             "ticks": "inside"
            },
            "type": "mesh3d"
           }
          ],
          "parcoords": [
           {
            "line": {
             "colorbar": {
              "outlinewidth": 0,
              "tickcolor": "rgb(237,237,237)",
              "ticklen": 6,
              "ticks": "inside"
             }
            },
            "type": "parcoords"
           }
          ],
          "pie": [
           {
            "automargin": true,
            "type": "pie"
           }
          ],
          "scatter": [
           {
            "fillpattern": {
             "fillmode": "overlay",
             "size": 10,
             "solidity": 0.2
            },
            "type": "scatter"
           }
          ],
          "scatter3d": [
           {
            "line": {
             "colorbar": {
              "outlinewidth": 0,
              "tickcolor": "rgb(237,237,237)",
              "ticklen": 6,
              "ticks": "inside"
             }
            },
            "marker": {
             "colorbar": {
              "outlinewidth": 0,
              "tickcolor": "rgb(237,237,237)",
              "ticklen": 6,
              "ticks": "inside"
             }
            },
            "type": "scatter3d"
           }
          ],
          "scattercarpet": [
           {
            "marker": {
             "colorbar": {
              "outlinewidth": 0,
              "tickcolor": "rgb(237,237,237)",
              "ticklen": 6,
              "ticks": "inside"
             }
            },
            "type": "scattercarpet"
           }
          ],
          "scattergeo": [
           {
            "marker": {
             "colorbar": {
              "outlinewidth": 0,
              "tickcolor": "rgb(237,237,237)",
              "ticklen": 6,
              "ticks": "inside"
             }
            },
            "type": "scattergeo"
           }
          ],
          "scattergl": [
           {
            "marker": {
             "colorbar": {
              "outlinewidth": 0,
              "tickcolor": "rgb(237,237,237)",
              "ticklen": 6,
              "ticks": "inside"
             }
            },
            "type": "scattergl"
           }
          ],
          "scattermapbox": [
           {
            "marker": {
             "colorbar": {
              "outlinewidth": 0,
              "tickcolor": "rgb(237,237,237)",
              "ticklen": 6,
              "ticks": "inside"
             }
            },
            "type": "scattermapbox"
           }
          ],
          "scatterpolar": [
           {
            "marker": {
             "colorbar": {
              "outlinewidth": 0,
              "tickcolor": "rgb(237,237,237)",
              "ticklen": 6,
              "ticks": "inside"
             }
            },
            "type": "scatterpolar"
           }
          ],
          "scatterpolargl": [
           {
            "marker": {
             "colorbar": {
              "outlinewidth": 0,
              "tickcolor": "rgb(237,237,237)",
              "ticklen": 6,
              "ticks": "inside"
             }
            },
            "type": "scatterpolargl"
           }
          ],
          "scatterternary": [
           {
            "marker": {
             "colorbar": {
              "outlinewidth": 0,
              "tickcolor": "rgb(237,237,237)",
              "ticklen": 6,
              "ticks": "inside"
             }
            },
            "type": "scatterternary"
           }
          ],
          "surface": [
           {
            "colorbar": {
             "outlinewidth": 0,
             "tickcolor": "rgb(237,237,237)",
             "ticklen": 6,
             "ticks": "inside"
            },
            "colorscale": [
             [
              0,
              "rgb(20,44,66)"
             ],
             [
              1,
              "rgb(90,179,244)"
             ]
            ],
            "type": "surface"
           }
          ],
          "table": [
           {
            "cells": {
             "fill": {
              "color": "rgb(237,237,237)"
             },
             "line": {
              "color": "white"
             }
            },
            "header": {
             "fill": {
              "color": "rgb(217,217,217)"
             },
             "line": {
              "color": "white"
             }
            },
            "type": "table"
           }
          ]
         },
         "layout": {
          "annotationdefaults": {
           "arrowhead": 0,
           "arrowwidth": 1
          },
          "autotypenumbers": "strict",
          "coloraxis": {
           "colorbar": {
            "outlinewidth": 0,
            "tickcolor": "rgb(237,237,237)",
            "ticklen": 6,
            "ticks": "inside"
           }
          },
          "colorscale": {
           "sequential": [
            [
             0,
             "rgb(20,44,66)"
            ],
            [
             1,
             "rgb(90,179,244)"
            ]
           ],
           "sequentialminus": [
            [
             0,
             "rgb(20,44,66)"
            ],
            [
             1,
             "rgb(90,179,244)"
            ]
           ]
          },
          "colorway": [
           "#F8766D",
           "#A3A500",
           "#00BF7D",
           "#00B0F6",
           "#E76BF3"
          ],
          "font": {
           "color": "rgb(51,51,51)"
          },
          "geo": {
           "bgcolor": "white",
           "lakecolor": "white",
           "landcolor": "rgb(237,237,237)",
           "showlakes": true,
           "showland": true,
           "subunitcolor": "white"
          },
          "hoverlabel": {
           "align": "left"
          },
          "hovermode": "closest",
          "paper_bgcolor": "white",
          "plot_bgcolor": "rgb(237,237,237)",
          "polar": {
           "angularaxis": {
            "gridcolor": "white",
            "linecolor": "white",
            "showgrid": true,
            "tickcolor": "rgb(51,51,51)",
            "ticks": "outside"
           },
           "bgcolor": "rgb(237,237,237)",
           "radialaxis": {
            "gridcolor": "white",
            "linecolor": "white",
            "showgrid": true,
            "tickcolor": "rgb(51,51,51)",
            "ticks": "outside"
           }
          },
          "scene": {
           "xaxis": {
            "backgroundcolor": "rgb(237,237,237)",
            "gridcolor": "white",
            "gridwidth": 2,
            "linecolor": "white",
            "showbackground": true,
            "showgrid": true,
            "tickcolor": "rgb(51,51,51)",
            "ticks": "outside",
            "zerolinecolor": "white"
           },
           "yaxis": {
            "backgroundcolor": "rgb(237,237,237)",
            "gridcolor": "white",
            "gridwidth": 2,
            "linecolor": "white",
            "showbackground": true,
            "showgrid": true,
            "tickcolor": "rgb(51,51,51)",
            "ticks": "outside",
            "zerolinecolor": "white"
           },
           "zaxis": {
            "backgroundcolor": "rgb(237,237,237)",
            "gridcolor": "white",
            "gridwidth": 2,
            "linecolor": "white",
            "showbackground": true,
            "showgrid": true,
            "tickcolor": "rgb(51,51,51)",
            "ticks": "outside",
            "zerolinecolor": "white"
           }
          },
          "shapedefaults": {
           "fillcolor": "black",
           "line": {
            "width": 0
           },
           "opacity": 0.3
          },
          "ternary": {
           "aaxis": {
            "gridcolor": "white",
            "linecolor": "white",
            "showgrid": true,
            "tickcolor": "rgb(51,51,51)",
            "ticks": "outside"
           },
           "baxis": {
            "gridcolor": "white",
            "linecolor": "white",
            "showgrid": true,
            "tickcolor": "rgb(51,51,51)",
            "ticks": "outside"
           },
           "bgcolor": "rgb(237,237,237)",
           "caxis": {
            "gridcolor": "white",
            "linecolor": "white",
            "showgrid": true,
            "tickcolor": "rgb(51,51,51)",
            "ticks": "outside"
           }
          },
          "xaxis": {
           "automargin": true,
           "gridcolor": "white",
           "linecolor": "white",
           "showgrid": true,
           "tickcolor": "rgb(51,51,51)",
           "ticks": "outside",
           "title": {
            "standoff": 15
           },
           "zerolinecolor": "white"
          },
          "yaxis": {
           "automargin": true,
           "gridcolor": "white",
           "linecolor": "white",
           "showgrid": true,
           "tickcolor": "rgb(51,51,51)",
           "ticks": "outside",
           "title": {
            "standoff": 15
           },
           "zerolinecolor": "white"
          }
         }
        },
        "title": {
         "text": "Neigbhors of AHR and genes in the AHR up-regulated"
        },
        "xaxis": {
         "anchor": "y",
         "domain": [
          0,
          1
         ],
         "title": {
          "text": "max_b"
         }
        },
        "yaxis": {
         "anchor": "x",
         "domain": [
          0,
          1
         ],
         "title": {
          "text": "count"
         }
        }
       }
      }
     },
     "metadata": {},
     "output_type": "display_data"
    }
   ],
   "source": [
    "gene = \"AHR\"\n",
    "neigbhors = sel_gt.filter_graph(gene=gene)\n",
    "gt_g.set_vertex_filter(None)\n",
    "stats_neigbhors = sel_gt.process_neigbhors(v_idxs=neigbhors)\n",
    "\n",
    "sel_df = nodes_df.loc[nodes_df[\"node_idx\"].isin(neigbhors)]\n",
    "ahr_sel = sel_df[sel_df.index.isin(ahr_genes)][[\"max_b\", \"count\", \"TF\", \"mean\", \"median\", \"std\", \"var\"]]\n",
    "\n",
    "ahr_sel[\"max_b\"] = ahr_sel[\"max_b\"].astype(str)\n",
    "px.histogram(ahr_sel, x=\"max_b\", text_auto=True, title=f\"Neigbhors of {gene} and genes in the AHR up-regulated\")"
   ]
  },
  {
   "cell_type": "code",
   "execution_count": 19,
   "metadata": {},
   "outputs": [
    {
     "name": "stdout",
     "output_type": "stream",
     "text": [
      "AHR. Idx = 3. Comm = 2\n"
     ]
    },
    {
     "data": {
      "application/vnd.plotly.v1+json": {
       "config": {
        "plotlyServerURL": "https://plot.ly"
       },
       "data": [
        {
         "alignmentgroup": "True",
         "hovertemplate": "variable=num_found<br>com=%{x}<br>value=%{y}<extra></extra>",
         "legendgroup": "num_found",
         "marker": {
          "color": "#F8766D",
          "pattern": {
           "shape": ""
          }
         },
         "name": "num_found",
         "offsetgroup": "num_found",
         "orientation": "v",
         "showlegend": true,
         "textposition": "auto",
         "texttemplate": "%{y}",
         "type": "bar",
         "x": [
          "0",
          "13",
          "22",
          "21",
          "4",
          "23",
          "1",
          "2",
          "18",
          "36",
          "40",
          "8",
          "44",
          "19",
          "20"
         ],
         "xaxis": "x",
         "y": [
          490,
          71,
          24,
          13,
          12,
          10,
          7,
          7,
          7,
          6,
          6,
          4,
          4,
          4,
          3
         ],
         "yaxis": "y"
        },
        {
         "alignmentgroup": "True",
         "hovertemplate": "variable=com_size<br>com=%{x}<br>value=%{y}<extra></extra>",
         "legendgroup": "com_size",
         "marker": {
          "color": "#A3A500",
          "pattern": {
           "shape": ""
          }
         },
         "name": "com_size",
         "offsetgroup": "com_size",
         "orientation": "v",
         "showlegend": true,
         "textposition": "auto",
         "texttemplate": "%{y}",
         "type": "bar",
         "x": [
          "0",
          "13",
          "22",
          "21",
          "4",
          "23",
          "1",
          "2",
          "18",
          "36",
          "40",
          "8",
          "44",
          "19",
          "20"
         ],
         "xaxis": "x",
         "y": [
          807,
          194,
          83,
          63,
          117,
          132,
          9,
          10,
          13,
          94,
          123,
          12,
          22,
          80,
          68
         ],
         "yaxis": "y"
        },
        {
         "alignmentgroup": "True",
         "hovertemplate": "com=%{x}<br>com_ratio=%{y}<extra></extra>",
         "legendgroup": "",
         "marker": {
          "color": "#F8766D",
          "pattern": {
           "shape": ""
          }
         },
         "name": "",
         "offsetgroup": "",
         "orientation": "v",
         "showlegend": false,
         "textposition": "auto",
         "texttemplate": "%{y}",
         "type": "bar",
         "x": [
          "0",
          "13",
          "22",
          "21",
          "4",
          "23",
          "1",
          "2",
          "18",
          "36",
          "40",
          "8",
          "44",
          "19",
          "20"
         ],
         "xaxis": "x2",
         "y": [
          0.6072,
          0.366,
          0.2892,
          0.2063,
          0.1026,
          0.0758,
          0.7778,
          0.7,
          0.5385,
          0.0638,
          0.0488,
          0.3333,
          0.1818,
          0.05,
          0.0441
         ],
         "yaxis": "y2"
        },
        {
         "alignmentgroup": "True",
         "hovertemplate": "variable=mut_burden<br>com=%{x}<br>value=%{y}<extra></extra>",
         "legendgroup": "mut_burden",
         "marker": {
          "color": "#F8766D",
          "pattern": {
           "shape": ""
          }
         },
         "name": "mut_burden",
         "offsetgroup": "mut_burden",
         "orientation": "v",
         "showlegend": true,
         "textposition": "auto",
         "texttemplate": "%{y}",
         "type": "bar",
         "x": [
          "0",
          "13",
          "22",
          "21",
          "4",
          "23",
          "1",
          "2",
          "18",
          "36",
          "40",
          "8",
          "44",
          "19",
          "20"
         ],
         "xaxis": "x3",
         "y": [
          326,
          43,
          17,
          8,
          9,
          7,
          7,
          7,
          7,
          5,
          4,
          4,
          3,
          4,
          2
         ],
         "yaxis": "y3"
        },
        {
         "alignmentgroup": "True",
         "hovertemplate": "com=%{x}<br>num_TF=%{y}<extra></extra>",
         "legendgroup": "",
         "marker": {
          "color": "#F8766D",
          "pattern": {
           "shape": ""
          }
         },
         "name": "",
         "offsetgroup": "",
         "orientation": "v",
         "showlegend": false,
         "textposition": "auto",
         "texttemplate": "%{y}",
         "type": "bar",
         "x": [
          "0",
          "13",
          "22",
          "21",
          "4",
          "23",
          "1",
          "2",
          "18",
          "36",
          "40",
          "8",
          "44",
          "19",
          "20"
         ],
         "xaxis": "x4",
         "y": [
          46,
          10,
          1,
          8,
          1,
          0,
          2,
          2,
          1,
          1,
          0,
          4,
          2,
          2,
          1
         ],
         "yaxis": "y4"
        }
       ],
       "layout": {
        "annotations": [
         {
          "font": {
           "size": 16
          },
          "showarrow": false,
          "text": "Num Found and Community sizes",
          "x": 0.2375,
          "xanchor": "center",
          "xref": "paper",
          "y": 1,
          "yanchor": "bottom",
          "yref": "paper"
         },
         {
          "font": {
           "size": 16
          },
          "showarrow": false,
          "text": "Com ratio representation",
          "x": 0.7625,
          "xanchor": "center",
          "xref": "paper",
          "y": 1,
          "yanchor": "bottom",
          "yref": "paper"
         },
         {
          "font": {
           "size": 16
          },
          "showarrow": false,
          "text": "Mut burden in the neigbhors",
          "x": 0.2375,
          "xanchor": "center",
          "xref": "paper",
          "y": 0.425,
          "yanchor": "bottom",
          "yref": "paper"
         },
         {
          "font": {
           "size": 16
          },
          "showarrow": false,
          "text": "Number of TF in the neigbhors",
          "x": 0.7625,
          "xanchor": "center",
          "xref": "paper",
          "y": 0.425,
          "yanchor": "bottom",
          "yref": "paper"
         }
        ],
        "height": 700,
        "showlegend": false,
        "template": {
         "data": {
          "bar": [
           {
            "error_x": {
             "color": "rgb(51,51,51)"
            },
            "error_y": {
             "color": "rgb(51,51,51)"
            },
            "marker": {
             "line": {
              "color": "rgb(237,237,237)",
              "width": 0.5
             },
             "pattern": {
              "fillmode": "overlay",
              "size": 10,
              "solidity": 0.2
             }
            },
            "type": "bar"
           }
          ],
          "barpolar": [
           {
            "marker": {
             "line": {
              "color": "rgb(237,237,237)",
              "width": 0.5
             },
             "pattern": {
              "fillmode": "overlay",
              "size": 10,
              "solidity": 0.2
             }
            },
            "type": "barpolar"
           }
          ],
          "carpet": [
           {
            "aaxis": {
             "endlinecolor": "rgb(51,51,51)",
             "gridcolor": "white",
             "linecolor": "white",
             "minorgridcolor": "white",
             "startlinecolor": "rgb(51,51,51)"
            },
            "baxis": {
             "endlinecolor": "rgb(51,51,51)",
             "gridcolor": "white",
             "linecolor": "white",
             "minorgridcolor": "white",
             "startlinecolor": "rgb(51,51,51)"
            },
            "type": "carpet"
           }
          ],
          "choropleth": [
           {
            "colorbar": {
             "outlinewidth": 0,
             "tickcolor": "rgb(237,237,237)",
             "ticklen": 6,
             "ticks": "inside"
            },
            "type": "choropleth"
           }
          ],
          "contour": [
           {
            "colorbar": {
             "outlinewidth": 0,
             "tickcolor": "rgb(237,237,237)",
             "ticklen": 6,
             "ticks": "inside"
            },
            "colorscale": [
             [
              0,
              "rgb(20,44,66)"
             ],
             [
              1,
              "rgb(90,179,244)"
             ]
            ],
            "type": "contour"
           }
          ],
          "contourcarpet": [
           {
            "colorbar": {
             "outlinewidth": 0,
             "tickcolor": "rgb(237,237,237)",
             "ticklen": 6,
             "ticks": "inside"
            },
            "type": "contourcarpet"
           }
          ],
          "heatmap": [
           {
            "colorbar": {
             "outlinewidth": 0,
             "tickcolor": "rgb(237,237,237)",
             "ticklen": 6,
             "ticks": "inside"
            },
            "colorscale": [
             [
              0,
              "rgb(20,44,66)"
             ],
             [
              1,
              "rgb(90,179,244)"
             ]
            ],
            "type": "heatmap"
           }
          ],
          "heatmapgl": [
           {
            "colorbar": {
             "outlinewidth": 0,
             "tickcolor": "rgb(237,237,237)",
             "ticklen": 6,
             "ticks": "inside"
            },
            "colorscale": [
             [
              0,
              "rgb(20,44,66)"
             ],
             [
              1,
              "rgb(90,179,244)"
             ]
            ],
            "type": "heatmapgl"
           }
          ],
          "histogram": [
           {
            "marker": {
             "pattern": {
              "fillmode": "overlay",
              "size": 10,
              "solidity": 0.2
             }
            },
            "type": "histogram"
           }
          ],
          "histogram2d": [
           {
            "colorbar": {
             "outlinewidth": 0,
             "tickcolor": "rgb(237,237,237)",
             "ticklen": 6,
             "ticks": "inside"
            },
            "colorscale": [
             [
              0,
              "rgb(20,44,66)"
             ],
             [
              1,
              "rgb(90,179,244)"
             ]
            ],
            "type": "histogram2d"
           }
          ],
          "histogram2dcontour": [
           {
            "colorbar": {
             "outlinewidth": 0,
             "tickcolor": "rgb(237,237,237)",
             "ticklen": 6,
             "ticks": "inside"
            },
            "colorscale": [
             [
              0,
              "rgb(20,44,66)"
             ],
             [
              1,
              "rgb(90,179,244)"
             ]
            ],
            "type": "histogram2dcontour"
           }
          ],
          "mesh3d": [
           {
            "colorbar": {
             "outlinewidth": 0,
             "tickcolor": "rgb(237,237,237)",
             "ticklen": 6,
             "ticks": "inside"
            },
            "type": "mesh3d"
           }
          ],
          "parcoords": [
           {
            "line": {
             "colorbar": {
              "outlinewidth": 0,
              "tickcolor": "rgb(237,237,237)",
              "ticklen": 6,
              "ticks": "inside"
             }
            },
            "type": "parcoords"
           }
          ],
          "pie": [
           {
            "automargin": true,
            "type": "pie"
           }
          ],
          "scatter": [
           {
            "fillpattern": {
             "fillmode": "overlay",
             "size": 10,
             "solidity": 0.2
            },
            "type": "scatter"
           }
          ],
          "scatter3d": [
           {
            "line": {
             "colorbar": {
              "outlinewidth": 0,
              "tickcolor": "rgb(237,237,237)",
              "ticklen": 6,
              "ticks": "inside"
             }
            },
            "marker": {
             "colorbar": {
              "outlinewidth": 0,
              "tickcolor": "rgb(237,237,237)",
              "ticklen": 6,
              "ticks": "inside"
             }
            },
            "type": "scatter3d"
           }
          ],
          "scattercarpet": [
           {
            "marker": {
             "colorbar": {
              "outlinewidth": 0,
              "tickcolor": "rgb(237,237,237)",
              "ticklen": 6,
              "ticks": "inside"
             }
            },
            "type": "scattercarpet"
           }
          ],
          "scattergeo": [
           {
            "marker": {
             "colorbar": {
              "outlinewidth": 0,
              "tickcolor": "rgb(237,237,237)",
              "ticklen": 6,
              "ticks": "inside"
             }
            },
            "type": "scattergeo"
           }
          ],
          "scattergl": [
           {
            "marker": {
             "colorbar": {
              "outlinewidth": 0,
              "tickcolor": "rgb(237,237,237)",
              "ticklen": 6,
              "ticks": "inside"
             }
            },
            "type": "scattergl"
           }
          ],
          "scattermapbox": [
           {
            "marker": {
             "colorbar": {
              "outlinewidth": 0,
              "tickcolor": "rgb(237,237,237)",
              "ticklen": 6,
              "ticks": "inside"
             }
            },
            "type": "scattermapbox"
           }
          ],
          "scatterpolar": [
           {
            "marker": {
             "colorbar": {
              "outlinewidth": 0,
              "tickcolor": "rgb(237,237,237)",
              "ticklen": 6,
              "ticks": "inside"
             }
            },
            "type": "scatterpolar"
           }
          ],
          "scatterpolargl": [
           {
            "marker": {
             "colorbar": {
              "outlinewidth": 0,
              "tickcolor": "rgb(237,237,237)",
              "ticklen": 6,
              "ticks": "inside"
             }
            },
            "type": "scatterpolargl"
           }
          ],
          "scatterternary": [
           {
            "marker": {
             "colorbar": {
              "outlinewidth": 0,
              "tickcolor": "rgb(237,237,237)",
              "ticklen": 6,
              "ticks": "inside"
             }
            },
            "type": "scatterternary"
           }
          ],
          "surface": [
           {
            "colorbar": {
             "outlinewidth": 0,
             "tickcolor": "rgb(237,237,237)",
             "ticklen": 6,
             "ticks": "inside"
            },
            "colorscale": [
             [
              0,
              "rgb(20,44,66)"
             ],
             [
              1,
              "rgb(90,179,244)"
             ]
            ],
            "type": "surface"
           }
          ],
          "table": [
           {
            "cells": {
             "fill": {
              "color": "rgb(237,237,237)"
             },
             "line": {
              "color": "white"
             }
            },
            "header": {
             "fill": {
              "color": "rgb(217,217,217)"
             },
             "line": {
              "color": "white"
             }
            },
            "type": "table"
           }
          ]
         },
         "layout": {
          "annotationdefaults": {
           "arrowhead": 0,
           "arrowwidth": 1
          },
          "autotypenumbers": "strict",
          "coloraxis": {
           "colorbar": {
            "outlinewidth": 0,
            "tickcolor": "rgb(237,237,237)",
            "ticklen": 6,
            "ticks": "inside"
           }
          },
          "colorscale": {
           "sequential": [
            [
             0,
             "rgb(20,44,66)"
            ],
            [
             1,
             "rgb(90,179,244)"
            ]
           ],
           "sequentialminus": [
            [
             0,
             "rgb(20,44,66)"
            ],
            [
             1,
             "rgb(90,179,244)"
            ]
           ]
          },
          "colorway": [
           "#F8766D",
           "#A3A500",
           "#00BF7D",
           "#00B0F6",
           "#E76BF3"
          ],
          "font": {
           "color": "rgb(51,51,51)"
          },
          "geo": {
           "bgcolor": "white",
           "lakecolor": "white",
           "landcolor": "rgb(237,237,237)",
           "showlakes": true,
           "showland": true,
           "subunitcolor": "white"
          },
          "hoverlabel": {
           "align": "left"
          },
          "hovermode": "closest",
          "paper_bgcolor": "white",
          "plot_bgcolor": "rgb(237,237,237)",
          "polar": {
           "angularaxis": {
            "gridcolor": "white",
            "linecolor": "white",
            "showgrid": true,
            "tickcolor": "rgb(51,51,51)",
            "ticks": "outside"
           },
           "bgcolor": "rgb(237,237,237)",
           "radialaxis": {
            "gridcolor": "white",
            "linecolor": "white",
            "showgrid": true,
            "tickcolor": "rgb(51,51,51)",
            "ticks": "outside"
           }
          },
          "scene": {
           "xaxis": {
            "backgroundcolor": "rgb(237,237,237)",
            "gridcolor": "white",
            "gridwidth": 2,
            "linecolor": "white",
            "showbackground": true,
            "showgrid": true,
            "tickcolor": "rgb(51,51,51)",
            "ticks": "outside",
            "zerolinecolor": "white"
           },
           "yaxis": {
            "backgroundcolor": "rgb(237,237,237)",
            "gridcolor": "white",
            "gridwidth": 2,
            "linecolor": "white",
            "showbackground": true,
            "showgrid": true,
            "tickcolor": "rgb(51,51,51)",
            "ticks": "outside",
            "zerolinecolor": "white"
           },
           "zaxis": {
            "backgroundcolor": "rgb(237,237,237)",
            "gridcolor": "white",
            "gridwidth": 2,
            "linecolor": "white",
            "showbackground": true,
            "showgrid": true,
            "tickcolor": "rgb(51,51,51)",
            "ticks": "outside",
            "zerolinecolor": "white"
           }
          },
          "shapedefaults": {
           "fillcolor": "black",
           "line": {
            "width": 0
           },
           "opacity": 0.3
          },
          "ternary": {
           "aaxis": {
            "gridcolor": "white",
            "linecolor": "white",
            "showgrid": true,
            "tickcolor": "rgb(51,51,51)",
            "ticks": "outside"
           },
           "baxis": {
            "gridcolor": "white",
            "linecolor": "white",
            "showgrid": true,
            "tickcolor": "rgb(51,51,51)",
            "ticks": "outside"
           },
           "bgcolor": "rgb(237,237,237)",
           "caxis": {
            "gridcolor": "white",
            "linecolor": "white",
            "showgrid": true,
            "tickcolor": "rgb(51,51,51)",
            "ticks": "outside"
           }
          },
          "xaxis": {
           "automargin": true,
           "gridcolor": "white",
           "linecolor": "white",
           "showgrid": true,
           "tickcolor": "rgb(51,51,51)",
           "ticks": "outside",
           "title": {
            "standoff": 15
           },
           "zerolinecolor": "white"
          },
          "yaxis": {
           "automargin": true,
           "gridcolor": "white",
           "linecolor": "white",
           "showgrid": true,
           "tickcolor": "rgb(51,51,51)",
           "ticks": "outside",
           "title": {
            "standoff": 15
           },
           "zerolinecolor": "white"
          }
         }
        },
        "title": {
         "text": "Neigbhours overview for AHR (sigmoid_5K_6TF_hsbm)"
        },
        "xaxis": {
         "anchor": "y",
         "domain": [
          0,
          0.475
         ],
         "title": {
          "text": "Community"
         }
        },
        "xaxis2": {
         "anchor": "y2",
         "domain": [
          0.525,
          1
         ],
         "title": {
          "text": "Community"
         }
        },
        "xaxis3": {
         "anchor": "y3",
         "domain": [
          0,
          0.475
         ],
         "title": {
          "text": "Community"
         }
        },
        "xaxis4": {
         "anchor": "y4",
         "domain": [
          0.525,
          1
         ],
         "title": {
          "text": "Community"
         }
        },
        "yaxis": {
         "anchor": "x",
         "domain": [
          0.575,
          1
         ]
        },
        "yaxis2": {
         "anchor": "x2",
         "domain": [
          0.575,
          1
         ]
        },
        "yaxis3": {
         "anchor": "x3",
         "domain": [
          0,
          0.425
         ]
        },
        "yaxis4": {
         "anchor": "x4",
         "domain": [
          0,
          0.425
         ]
        }
       }
      }
     },
     "metadata": {},
     "output_type": "display_data"
    },
    {
     "data": {
      "text/plain": [
       "None"
      ]
     },
     "metadata": {},
     "output_type": "display_data"
    }
   ],
   "source": [
    "# fig = sel_gt.plot_overview_gene(gene_name=\"COL7A1\")\n",
    "# display(fig.show())\n",
    "fig = sel_gt.plot_overview_gene(gene_name=\"AHR\")\n",
    "display(fig.show())"
   ]
  },
  {
   "cell_type": "code",
   "execution_count": 20,
   "metadata": {},
   "outputs": [
    {
     "data": {
      "text/html": [
       "<div>\n",
       "<style scoped>\n",
       "    .dataframe tbody tr th:only-of-type {\n",
       "        vertical-align: middle;\n",
       "    }\n",
       "\n",
       "    .dataframe tbody tr th {\n",
       "        vertical-align: top;\n",
       "    }\n",
       "\n",
       "    .dataframe thead th {\n",
       "        text-align: right;\n",
       "    }\n",
       "</style>\n",
       "<table border=\"1\" class=\"dataframe\">\n",
       "  <thead>\n",
       "    <tr style=\"text-align: right;\">\n",
       "      <th></th>\n",
       "      <th>count</th>\n",
       "      <th>TF</th>\n",
       "      <th>max_b</th>\n",
       "      <th>mean</th>\n",
       "      <th>std</th>\n",
       "    </tr>\n",
       "  </thead>\n",
       "  <tbody>\n",
       "    <tr>\n",
       "      <th>RNF213</th>\n",
       "      <td>37.0</td>\n",
       "      <td>0</td>\n",
       "      <td>32</td>\n",
       "      <td>66.8596</td>\n",
       "      <td>43.1228</td>\n",
       "    </tr>\n",
       "    <tr>\n",
       "      <th>MPDZ</th>\n",
       "      <td>19.0</td>\n",
       "      <td>0</td>\n",
       "      <td>32</td>\n",
       "      <td>19.0647</td>\n",
       "      <td>11.7772</td>\n",
       "    </tr>\n",
       "    <tr>\n",
       "      <th>SHROOM3</th>\n",
       "      <td>18.0</td>\n",
       "      <td>0</td>\n",
       "      <td>32</td>\n",
       "      <td>10.6359</td>\n",
       "      <td>7.4220</td>\n",
       "    </tr>\n",
       "    <tr>\n",
       "      <th>CDKN2A</th>\n",
       "      <td>28.0</td>\n",
       "      <td>0</td>\n",
       "      <td>32</td>\n",
       "      <td>85.7347</td>\n",
       "      <td>82.7526</td>\n",
       "    </tr>\n",
       "    <tr>\n",
       "      <th>HSPG2</th>\n",
       "      <td>27.0</td>\n",
       "      <td>0</td>\n",
       "      <td>32</td>\n",
       "      <td>75.2666</td>\n",
       "      <td>57.4376</td>\n",
       "    </tr>\n",
       "    <tr>\n",
       "      <th>PARP14</th>\n",
       "      <td>17.0</td>\n",
       "      <td>0</td>\n",
       "      <td>32</td>\n",
       "      <td>49.2693</td>\n",
       "      <td>35.5738</td>\n",
       "    </tr>\n",
       "    <tr>\n",
       "      <th>ZNFX1</th>\n",
       "      <td>15.0</td>\n",
       "      <td>0</td>\n",
       "      <td>32</td>\n",
       "      <td>45.3378</td>\n",
       "      <td>26.0021</td>\n",
       "    </tr>\n",
       "    <tr>\n",
       "      <th>EPG5</th>\n",
       "      <td>26.0</td>\n",
       "      <td>0</td>\n",
       "      <td>32</td>\n",
       "      <td>23.0477</td>\n",
       "      <td>14.2305</td>\n",
       "    </tr>\n",
       "    <tr>\n",
       "      <th>OAS2</th>\n",
       "      <td>13.0</td>\n",
       "      <td>0</td>\n",
       "      <td>32</td>\n",
       "      <td>98.4521</td>\n",
       "      <td>85.4434</td>\n",
       "    </tr>\n",
       "    <tr>\n",
       "      <th>NYNRIN</th>\n",
       "      <td>15.0</td>\n",
       "      <td>0</td>\n",
       "      <td>32</td>\n",
       "      <td>39.9672</td>\n",
       "      <td>22.5634</td>\n",
       "    </tr>\n",
       "  </tbody>\n",
       "</table>\n",
       "</div>"
      ],
      "text/plain": [
       "         count  TF  max_b     mean      std\n",
       "RNF213    37.0   0     32  66.8596  43.1228\n",
       "MPDZ      19.0   0     32  19.0647  11.7772\n",
       "SHROOM3   18.0   0     32  10.6359   7.4220\n",
       "CDKN2A    28.0   0     32  85.7347  82.7526\n",
       "HSPG2     27.0   0     32  75.2666  57.4376\n",
       "PARP14    17.0   0     32  49.2693  35.5738\n",
       "ZNFX1     15.0   0     32  45.3378  26.0021\n",
       "EPG5      26.0   0     32  23.0477  14.2305\n",
       "OAS2      13.0   0     32  98.4521  85.4434\n",
       "NYNRIN    15.0   0     32  39.9672  22.5634"
      ]
     },
     "metadata": {},
     "output_type": "display_data"
    },
    {
     "name": "stdout",
     "output_type": "stream",
     "text": [
      "['RNF213' 'MPDZ' 'SHROOM3' 'CDKN2A' 'HSPG2' 'PARP14' 'ZNFX1' 'EPG5' 'OAS2'\n",
      " 'NYNRIN']\n"
     ]
    }
   ],
   "source": [
    "sel_ahr = nodes_df.loc[nodes_df[\"max_b\"] == 32][[\"count\", \"TF\", \"max_b\", \"mean\", \"std\"]]\n",
    "display(sel_ahr)\n",
    "\n",
    "print(sel_ahr.index.values)"
   ]
  },
  {
   "cell_type": "markdown",
   "metadata": {},
   "source": [
    "## PPARG and RARG signatures"
   ]
  },
  {
   "cell_type": "code",
   "execution_count": 21,
   "metadata": {},
   "outputs": [
    {
     "name": "stdout",
     "output_type": "stream",
     "text": [
      "PPARG. Idx = 2030. Comm = 18\n"
     ]
    },
    {
     "data": {
      "application/vnd.plotly.v1+json": {
       "config": {
        "plotlyServerURL": "https://plot.ly"
       },
       "data": [
        {
         "alignmentgroup": "True",
         "hovertemplate": "variable=num_found<br>com=%{x}<br>value=%{y}<extra></extra>",
         "legendgroup": "num_found",
         "marker": {
          "color": "#F8766D",
          "pattern": {
           "shape": ""
          }
         },
         "name": "num_found",
         "offsetgroup": "num_found",
         "orientation": "v",
         "showlegend": true,
         "textposition": "auto",
         "texttemplate": "%{y}",
         "type": "bar",
         "x": [
          "0",
          "1",
          "23",
          "2",
          "18",
          "21",
          "44",
          "37"
         ],
         "xaxis": "x",
         "y": [
          5,
          4,
          2,
          1,
          1,
          1,
          1,
          1
         ],
         "yaxis": "y"
        },
        {
         "alignmentgroup": "True",
         "hovertemplate": "variable=com_size<br>com=%{x}<br>value=%{y}<extra></extra>",
         "legendgroup": "com_size",
         "marker": {
          "color": "#A3A500",
          "pattern": {
           "shape": ""
          }
         },
         "name": "com_size",
         "offsetgroup": "com_size",
         "orientation": "v",
         "showlegend": true,
         "textposition": "auto",
         "texttemplate": "%{y}",
         "type": "bar",
         "x": [
          "0",
          "1",
          "23",
          "2",
          "18",
          "21",
          "44",
          "37"
         ],
         "xaxis": "x",
         "y": [
          807,
          9,
          132,
          10,
          13,
          63,
          22,
          73
         ],
         "yaxis": "y"
        },
        {
         "alignmentgroup": "True",
         "hovertemplate": "com=%{x}<br>com_ratio=%{y}<extra></extra>",
         "legendgroup": "",
         "marker": {
          "color": "#F8766D",
          "pattern": {
           "shape": ""
          }
         },
         "name": "",
         "offsetgroup": "",
         "orientation": "v",
         "showlegend": false,
         "textposition": "auto",
         "texttemplate": "%{y}",
         "type": "bar",
         "x": [
          "0",
          "1",
          "23",
          "2",
          "18",
          "21",
          "44",
          "37"
         ],
         "xaxis": "x2",
         "y": [
          0.0062,
          0.4444,
          0.0152,
          0.1,
          0.0769,
          0.0159,
          0.0455,
          0.0137
         ],
         "yaxis": "y2"
        },
        {
         "alignmentgroup": "True",
         "hovertemplate": "variable=mut_burden<br>com=%{x}<br>value=%{y}<extra></extra>",
         "legendgroup": "mut_burden",
         "marker": {
          "color": "#F8766D",
          "pattern": {
           "shape": ""
          }
         },
         "name": "mut_burden",
         "offsetgroup": "mut_burden",
         "orientation": "v",
         "showlegend": true,
         "textposition": "auto",
         "texttemplate": "%{y}",
         "type": "bar",
         "x": [
          "0",
          "1",
          "23",
          "2",
          "18",
          "21",
          "44",
          "37"
         ],
         "xaxis": "x3",
         "y": [
          2,
          4,
          1,
          1,
          1,
          1,
          1,
          0
         ],
         "yaxis": "y3"
        },
        {
         "alignmentgroup": "True",
         "hovertemplate": "com=%{x}<br>num_TF=%{y}<extra></extra>",
         "legendgroup": "",
         "marker": {
          "color": "#F8766D",
          "pattern": {
           "shape": ""
          }
         },
         "name": "",
         "offsetgroup": "",
         "orientation": "v",
         "showlegend": false,
         "textposition": "auto",
         "texttemplate": "%{y}",
         "type": "bar",
         "x": [
          "0",
          "1",
          "23",
          "2",
          "18",
          "21",
          "44",
          "37"
         ],
         "xaxis": "x4",
         "y": [
          0,
          2,
          0,
          1,
          0,
          1,
          0,
          0
         ],
         "yaxis": "y4"
        }
       ],
       "layout": {
        "annotations": [
         {
          "font": {
           "size": 16
          },
          "showarrow": false,
          "text": "Num Found and Community sizes",
          "x": 0.2375,
          "xanchor": "center",
          "xref": "paper",
          "y": 1,
          "yanchor": "bottom",
          "yref": "paper"
         },
         {
          "font": {
           "size": 16
          },
          "showarrow": false,
          "text": "Com ratio representation",
          "x": 0.7625,
          "xanchor": "center",
          "xref": "paper",
          "y": 1,
          "yanchor": "bottom",
          "yref": "paper"
         },
         {
          "font": {
           "size": 16
          },
          "showarrow": false,
          "text": "Mut burden in the neigbhors",
          "x": 0.2375,
          "xanchor": "center",
          "xref": "paper",
          "y": 0.425,
          "yanchor": "bottom",
          "yref": "paper"
         },
         {
          "font": {
           "size": 16
          },
          "showarrow": false,
          "text": "Number of TF in the neigbhors",
          "x": 0.7625,
          "xanchor": "center",
          "xref": "paper",
          "y": 0.425,
          "yanchor": "bottom",
          "yref": "paper"
         }
        ],
        "height": 700,
        "showlegend": false,
        "template": {
         "data": {
          "bar": [
           {
            "error_x": {
             "color": "rgb(51,51,51)"
            },
            "error_y": {
             "color": "rgb(51,51,51)"
            },
            "marker": {
             "line": {
              "color": "rgb(237,237,237)",
              "width": 0.5
             },
             "pattern": {
              "fillmode": "overlay",
              "size": 10,
              "solidity": 0.2
             }
            },
            "type": "bar"
           }
          ],
          "barpolar": [
           {
            "marker": {
             "line": {
              "color": "rgb(237,237,237)",
              "width": 0.5
             },
             "pattern": {
              "fillmode": "overlay",
              "size": 10,
              "solidity": 0.2
             }
            },
            "type": "barpolar"
           }
          ],
          "carpet": [
           {
            "aaxis": {
             "endlinecolor": "rgb(51,51,51)",
             "gridcolor": "white",
             "linecolor": "white",
             "minorgridcolor": "white",
             "startlinecolor": "rgb(51,51,51)"
            },
            "baxis": {
             "endlinecolor": "rgb(51,51,51)",
             "gridcolor": "white",
             "linecolor": "white",
             "minorgridcolor": "white",
             "startlinecolor": "rgb(51,51,51)"
            },
            "type": "carpet"
           }
          ],
          "choropleth": [
           {
            "colorbar": {
             "outlinewidth": 0,
             "tickcolor": "rgb(237,237,237)",
             "ticklen": 6,
             "ticks": "inside"
            },
            "type": "choropleth"
           }
          ],
          "contour": [
           {
            "colorbar": {
             "outlinewidth": 0,
             "tickcolor": "rgb(237,237,237)",
             "ticklen": 6,
             "ticks": "inside"
            },
            "colorscale": [
             [
              0,
              "rgb(20,44,66)"
             ],
             [
              1,
              "rgb(90,179,244)"
             ]
            ],
            "type": "contour"
           }
          ],
          "contourcarpet": [
           {
            "colorbar": {
             "outlinewidth": 0,
             "tickcolor": "rgb(237,237,237)",
             "ticklen": 6,
             "ticks": "inside"
            },
            "type": "contourcarpet"
           }
          ],
          "heatmap": [
           {
            "colorbar": {
             "outlinewidth": 0,
             "tickcolor": "rgb(237,237,237)",
             "ticklen": 6,
             "ticks": "inside"
            },
            "colorscale": [
             [
              0,
              "rgb(20,44,66)"
             ],
             [
              1,
              "rgb(90,179,244)"
             ]
            ],
            "type": "heatmap"
           }
          ],
          "heatmapgl": [
           {
            "colorbar": {
             "outlinewidth": 0,
             "tickcolor": "rgb(237,237,237)",
             "ticklen": 6,
             "ticks": "inside"
            },
            "colorscale": [
             [
              0,
              "rgb(20,44,66)"
             ],
             [
              1,
              "rgb(90,179,244)"
             ]
            ],
            "type": "heatmapgl"
           }
          ],
          "histogram": [
           {
            "marker": {
             "pattern": {
              "fillmode": "overlay",
              "size": 10,
              "solidity": 0.2
             }
            },
            "type": "histogram"
           }
          ],
          "histogram2d": [
           {
            "colorbar": {
             "outlinewidth": 0,
             "tickcolor": "rgb(237,237,237)",
             "ticklen": 6,
             "ticks": "inside"
            },
            "colorscale": [
             [
              0,
              "rgb(20,44,66)"
             ],
             [
              1,
              "rgb(90,179,244)"
             ]
            ],
            "type": "histogram2d"
           }
          ],
          "histogram2dcontour": [
           {
            "colorbar": {
             "outlinewidth": 0,
             "tickcolor": "rgb(237,237,237)",
             "ticklen": 6,
             "ticks": "inside"
            },
            "colorscale": [
             [
              0,
              "rgb(20,44,66)"
             ],
             [
              1,
              "rgb(90,179,244)"
             ]
            ],
            "type": "histogram2dcontour"
           }
          ],
          "mesh3d": [
           {
            "colorbar": {
             "outlinewidth": 0,
             "tickcolor": "rgb(237,237,237)",
             "ticklen": 6,
             "ticks": "inside"
            },
            "type": "mesh3d"
           }
          ],
          "parcoords": [
           {
            "line": {
             "colorbar": {
              "outlinewidth": 0,
              "tickcolor": "rgb(237,237,237)",
              "ticklen": 6,
              "ticks": "inside"
             }
            },
            "type": "parcoords"
           }
          ],
          "pie": [
           {
            "automargin": true,
            "type": "pie"
           }
          ],
          "scatter": [
           {
            "fillpattern": {
             "fillmode": "overlay",
             "size": 10,
             "solidity": 0.2
            },
            "type": "scatter"
           }
          ],
          "scatter3d": [
           {
            "line": {
             "colorbar": {
              "outlinewidth": 0,
              "tickcolor": "rgb(237,237,237)",
              "ticklen": 6,
              "ticks": "inside"
             }
            },
            "marker": {
             "colorbar": {
              "outlinewidth": 0,
              "tickcolor": "rgb(237,237,237)",
              "ticklen": 6,
              "ticks": "inside"
             }
            },
            "type": "scatter3d"
           }
          ],
          "scattercarpet": [
           {
            "marker": {
             "colorbar": {
              "outlinewidth": 0,
              "tickcolor": "rgb(237,237,237)",
              "ticklen": 6,
              "ticks": "inside"
             }
            },
            "type": "scattercarpet"
           }
          ],
          "scattergeo": [
           {
            "marker": {
             "colorbar": {
              "outlinewidth": 0,
              "tickcolor": "rgb(237,237,237)",
              "ticklen": 6,
              "ticks": "inside"
             }
            },
            "type": "scattergeo"
           }
          ],
          "scattergl": [
           {
            "marker": {
             "colorbar": {
              "outlinewidth": 0,
              "tickcolor": "rgb(237,237,237)",
              "ticklen": 6,
              "ticks": "inside"
             }
            },
            "type": "scattergl"
           }
          ],
          "scattermapbox": [
           {
            "marker": {
             "colorbar": {
              "outlinewidth": 0,
              "tickcolor": "rgb(237,237,237)",
              "ticklen": 6,
              "ticks": "inside"
             }
            },
            "type": "scattermapbox"
           }
          ],
          "scatterpolar": [
           {
            "marker": {
             "colorbar": {
              "outlinewidth": 0,
              "tickcolor": "rgb(237,237,237)",
              "ticklen": 6,
              "ticks": "inside"
             }
            },
            "type": "scatterpolar"
           }
          ],
          "scatterpolargl": [
           {
            "marker": {
             "colorbar": {
              "outlinewidth": 0,
              "tickcolor": "rgb(237,237,237)",
              "ticklen": 6,
              "ticks": "inside"
             }
            },
            "type": "scatterpolargl"
           }
          ],
          "scatterternary": [
           {
            "marker": {
             "colorbar": {
              "outlinewidth": 0,
              "tickcolor": "rgb(237,237,237)",
              "ticklen": 6,
              "ticks": "inside"
             }
            },
            "type": "scatterternary"
           }
          ],
          "surface": [
           {
            "colorbar": {
             "outlinewidth": 0,
             "tickcolor": "rgb(237,237,237)",
             "ticklen": 6,
             "ticks": "inside"
            },
            "colorscale": [
             [
              0,
              "rgb(20,44,66)"
             ],
             [
              1,
              "rgb(90,179,244)"
             ]
            ],
            "type": "surface"
           }
          ],
          "table": [
           {
            "cells": {
             "fill": {
              "color": "rgb(237,237,237)"
             },
             "line": {
              "color": "white"
             }
            },
            "header": {
             "fill": {
              "color": "rgb(217,217,217)"
             },
             "line": {
              "color": "white"
             }
            },
            "type": "table"
           }
          ]
         },
         "layout": {
          "annotationdefaults": {
           "arrowhead": 0,
           "arrowwidth": 1
          },
          "autotypenumbers": "strict",
          "coloraxis": {
           "colorbar": {
            "outlinewidth": 0,
            "tickcolor": "rgb(237,237,237)",
            "ticklen": 6,
            "ticks": "inside"
           }
          },
          "colorscale": {
           "sequential": [
            [
             0,
             "rgb(20,44,66)"
            ],
            [
             1,
             "rgb(90,179,244)"
            ]
           ],
           "sequentialminus": [
            [
             0,
             "rgb(20,44,66)"
            ],
            [
             1,
             "rgb(90,179,244)"
            ]
           ]
          },
          "colorway": [
           "#F8766D",
           "#A3A500",
           "#00BF7D",
           "#00B0F6",
           "#E76BF3"
          ],
          "font": {
           "color": "rgb(51,51,51)"
          },
          "geo": {
           "bgcolor": "white",
           "lakecolor": "white",
           "landcolor": "rgb(237,237,237)",
           "showlakes": true,
           "showland": true,
           "subunitcolor": "white"
          },
          "hoverlabel": {
           "align": "left"
          },
          "hovermode": "closest",
          "paper_bgcolor": "white",
          "plot_bgcolor": "rgb(237,237,237)",
          "polar": {
           "angularaxis": {
            "gridcolor": "white",
            "linecolor": "white",
            "showgrid": true,
            "tickcolor": "rgb(51,51,51)",
            "ticks": "outside"
           },
           "bgcolor": "rgb(237,237,237)",
           "radialaxis": {
            "gridcolor": "white",
            "linecolor": "white",
            "showgrid": true,
            "tickcolor": "rgb(51,51,51)",
            "ticks": "outside"
           }
          },
          "scene": {
           "xaxis": {
            "backgroundcolor": "rgb(237,237,237)",
            "gridcolor": "white",
            "gridwidth": 2,
            "linecolor": "white",
            "showbackground": true,
            "showgrid": true,
            "tickcolor": "rgb(51,51,51)",
            "ticks": "outside",
            "zerolinecolor": "white"
           },
           "yaxis": {
            "backgroundcolor": "rgb(237,237,237)",
            "gridcolor": "white",
            "gridwidth": 2,
            "linecolor": "white",
            "showbackground": true,
            "showgrid": true,
            "tickcolor": "rgb(51,51,51)",
            "ticks": "outside",
            "zerolinecolor": "white"
           },
           "zaxis": {
            "backgroundcolor": "rgb(237,237,237)",
            "gridcolor": "white",
            "gridwidth": 2,
            "linecolor": "white",
            "showbackground": true,
            "showgrid": true,
            "tickcolor": "rgb(51,51,51)",
            "ticks": "outside",
            "zerolinecolor": "white"
           }
          },
          "shapedefaults": {
           "fillcolor": "black",
           "line": {
            "width": 0
           },
           "opacity": 0.3
          },
          "ternary": {
           "aaxis": {
            "gridcolor": "white",
            "linecolor": "white",
            "showgrid": true,
            "tickcolor": "rgb(51,51,51)",
            "ticks": "outside"
           },
           "baxis": {
            "gridcolor": "white",
            "linecolor": "white",
            "showgrid": true,
            "tickcolor": "rgb(51,51,51)",
            "ticks": "outside"
           },
           "bgcolor": "rgb(237,237,237)",
           "caxis": {
            "gridcolor": "white",
            "linecolor": "white",
            "showgrid": true,
            "tickcolor": "rgb(51,51,51)",
            "ticks": "outside"
           }
          },
          "xaxis": {
           "automargin": true,
           "gridcolor": "white",
           "linecolor": "white",
           "showgrid": true,
           "tickcolor": "rgb(51,51,51)",
           "ticks": "outside",
           "title": {
            "standoff": 15
           },
           "zerolinecolor": "white"
          },
          "yaxis": {
           "automargin": true,
           "gridcolor": "white",
           "linecolor": "white",
           "showgrid": true,
           "tickcolor": "rgb(51,51,51)",
           "ticks": "outside",
           "title": {
            "standoff": 15
           },
           "zerolinecolor": "white"
          }
         }
        },
        "title": {
         "text": "Neigbhours overview for PPARG (sigmoid_5K_6TF_hsbm)"
        },
        "xaxis": {
         "anchor": "y",
         "domain": [
          0,
          0.475
         ],
         "title": {
          "text": "Community"
         }
        },
        "xaxis2": {
         "anchor": "y2",
         "domain": [
          0.525,
          1
         ],
         "title": {
          "text": "Community"
         }
        },
        "xaxis3": {
         "anchor": "y3",
         "domain": [
          0,
          0.475
         ],
         "title": {
          "text": "Community"
         }
        },
        "xaxis4": {
         "anchor": "y4",
         "domain": [
          0.525,
          1
         ],
         "title": {
          "text": "Community"
         }
        },
        "yaxis": {
         "anchor": "x",
         "domain": [
          0.575,
          1
         ]
        },
        "yaxis2": {
         "anchor": "x2",
         "domain": [
          0.575,
          1
         ]
        },
        "yaxis3": {
         "anchor": "x3",
         "domain": [
          0,
          0.425
         ]
        },
        "yaxis4": {
         "anchor": "x4",
         "domain": [
          0,
          0.425
         ]
        }
       }
      }
     },
     "metadata": {},
     "output_type": "display_data"
    },
    {
     "data": {
      "text/plain": [
       "None"
      ]
     },
     "metadata": {},
     "output_type": "display_data"
    }
   ],
   "source": [
    "fig = sel_gt.plot_overview_gene(gene_name=\"PPARG\")\n",
    "display(fig.show())"
   ]
  },
  {
   "cell_type": "code",
   "execution_count": 22,
   "metadata": {},
   "outputs": [],
   "source": [
    "def plot_rarg_pparg_com_rep(p_r_clas: pd.DataFrame, df: pd.DataFrame, tum_df: pd.DataFrame, nodes_df: pd.DataFrame, prefix_col=\"\", main_title=\"Title\"):\n",
    "\n",
    "    figs, titles = [], []\n",
    "    # Iterate over the metrics and plot the histograms\n",
    "    for col in p_r_clas.columns:\n",
    "\n",
    "        genes = df[f\"{prefix_col}{col}\"].dropna().values\n",
    "        h_sel = nodes_df[nodes_df.index.isin(genes)]\n",
    "\n",
    "        t_sel = tum_df[tum_df.index.isin(genes)]\n",
    "        h_sel[\"max_b\"] = h_sel[\"max_b\"]\n",
    "        h_sel.sort_values(by=[\"max_b\"], inplace=True)\n",
    "        h_sel[\"max_b\"] = h_sel[\"max_b\"].astype(str)\n",
    "\n",
    "        # Create a histogram using go.Histogram instead of px.histogram\n",
    "        trace = go.Histogram(x=h_sel[\"max_b\"], texttemplate=\"%{y}\", autobinx=True, name=col)\n",
    "        figs.append(trace)  # append the trace instead of the figure\n",
    "        titles.append(f\"{col}. #Genes {len(genes)}, found h {h_sel.shape[0]}, t {t_sel.shape[0]}\")\n",
    "\n",
    "    # Set the number of rows and columns for the subplot\n",
    "    num_rows = round(len(p_r_clas.columns) / 2)\n",
    "    num_cols = 2\n",
    "\n",
    "    # Create a figure and subplots\n",
    "    fig = make_subplots(\n",
    "        rows=num_rows, cols=num_cols, subplot_titles=titles, horizontal_spacing=0.05, vertical_spacing=0.2, shared_xaxes=False, shared_yaxes=False\n",
    "    )\n",
    "\n",
    "    # Adding each plot into the subplot grid\n",
    "    for i, trace in enumerate(figs):\n",
    "        row = (i // num_cols) + 1\n",
    "        col = (i % num_cols) + 1\n",
    "        fig.add_trace(trace, row=row, col=col)\n",
    "\n",
    "    # Manually update the x-axis titles if needed\n",
    "    for i in range(len(figs)):\n",
    "        row = (i // num_cols) + 1\n",
    "        col = (i % num_cols) + 1\n",
    "        fig.update_xaxes(title_text=\"max_b\", row=row, col=col)\n",
    "\n",
    "    # Update layout to handle more customization and display\n",
    "    fig.update_layout(height=700, title_text=main_title)\n",
    "    fig.show()\n",
    "\n",
    "\n",
    "p_r_clas = pd.read_csv(f\"{data_base}/metadata/nuclear_receptor/pparg_rarg_up_dn_classifier.tsv\", sep=\"\\t\")\n",
    "p_r_sig = pd.read_csv(f\"{data_base}/metadata//nuclear_receptor/pparg_rarg_up_dn_sig.tsv\", sep=\"\\t\")"
   ]
  },
  {
   "cell_type": "code",
   "execution_count": 23,
   "metadata": {},
   "outputs": [
    {
     "data": {
      "application/vnd.plotly.v1+json": {
       "config": {
        "plotlyServerURL": "https://plot.ly"
       },
       "data": [
        {
         "autobinx": true,
         "name": "PPARG_UP",
         "texttemplate": "%{y}",
         "type": "histogram",
         "x": [
          "0",
          "0",
          "0",
          "0",
          "0",
          "0",
          "0",
          "0",
          "0",
          "0",
          "0",
          "0",
          "0",
          "0",
          "0",
          "0",
          "0",
          "0",
          "0",
          "0",
          "0",
          "0",
          "0",
          "0",
          "0",
          "0",
          "0",
          "0",
          "0",
          "0",
          "0",
          "0",
          "0",
          "0",
          "0",
          "0",
          "0",
          "0",
          "0",
          "0",
          "0",
          "0",
          "0",
          "0",
          "0",
          "1",
          "4",
          "4",
          "4",
          "6",
          "6",
          "9",
          "9",
          "9",
          "9",
          "9",
          "9",
          "9",
          "9",
          "9",
          "9",
          "9",
          "9",
          "9",
          "9",
          "11",
          "13",
          "13",
          "13",
          "13",
          "14",
          "14",
          "14",
          "14",
          "14",
          "14",
          "15",
          "16",
          "20",
          "21",
          "22",
          "23",
          "23",
          "23",
          "24",
          "24",
          "26",
          "26",
          "26",
          "27",
          "27",
          "27",
          "27",
          "27",
          "29",
          "31",
          "31",
          "31",
          "31",
          "31",
          "31",
          "31",
          "31",
          "31",
          "31",
          "31",
          "31",
          "31",
          "31",
          "33",
          "34",
          "35",
          "35",
          "35",
          "35",
          "35",
          "35",
          "35",
          "35",
          "35",
          "35",
          "35",
          "35",
          "35",
          "35",
          "35",
          "35",
          "35",
          "35",
          "35",
          "35",
          "37",
          "37",
          "37",
          "37",
          "37",
          "37",
          "37",
          "38",
          "38",
          "39",
          "39",
          "39",
          "40",
          "40",
          "40",
          "40",
          "40",
          "40",
          "41",
          "41",
          "43",
          "43",
          "43",
          "43",
          "44",
          "44"
         ],
         "xaxis": "x",
         "yaxis": "y"
        },
        {
         "autobinx": true,
         "name": "PPARG_DN",
         "texttemplate": "%{y}",
         "type": "histogram",
         "x": [
          "0",
          "0",
          "0",
          "0",
          "0",
          "0",
          "0",
          "0",
          "0",
          "3",
          "3",
          "4",
          "4",
          "4",
          "4",
          "5",
          "6",
          "6",
          "6",
          "6",
          "8",
          "9",
          "9",
          "9",
          "9",
          "9",
          "9",
          "9",
          "9",
          "9",
          "9",
          "9",
          "9",
          "9",
          "9",
          "9",
          "11",
          "11",
          "13",
          "13",
          "13",
          "13",
          "14",
          "14",
          "14",
          "14",
          "14",
          "14",
          "14",
          "14",
          "14",
          "16",
          "16",
          "16",
          "16",
          "16",
          "16",
          "17",
          "19",
          "19",
          "20",
          "20",
          "21",
          "21",
          "21",
          "21",
          "21",
          "21",
          "23",
          "23",
          "26",
          "27",
          "27",
          "27",
          "27",
          "27",
          "29",
          "29",
          "29",
          "30",
          "30",
          "30",
          "31",
          "31",
          "31",
          "31",
          "31",
          "31",
          "31",
          "31",
          "31",
          "34",
          "34",
          "35",
          "35",
          "35",
          "35",
          "35",
          "35",
          "35",
          "35",
          "35",
          "36",
          "36",
          "37",
          "38",
          "39",
          "39",
          "40",
          "41",
          "41",
          "41",
          "41",
          "43",
          "44"
         ],
         "xaxis": "x2",
         "yaxis": "y2"
        },
        {
         "autobinx": true,
         "name": "RARG_UP",
         "texttemplate": "%{y}",
         "type": "histogram",
         "x": [
          "0",
          "0",
          "0",
          "0",
          "0",
          "0",
          "0",
          "0",
          "0",
          "0",
          "0",
          "0",
          "0",
          "0",
          "0",
          "0",
          "0",
          "0",
          "0",
          "0",
          "0",
          "0",
          "0",
          "0",
          "0",
          "0",
          "0",
          "0",
          "0",
          "0",
          "0",
          "0",
          "0",
          "0",
          "0",
          "0",
          "0",
          "0",
          "0",
          "0",
          "0",
          "0",
          "0",
          "0",
          "0",
          "0",
          "0",
          "0",
          "0",
          "0",
          "0",
          "0",
          "0",
          "0",
          "0",
          "0",
          "0",
          "0",
          "0",
          "0",
          "0",
          "0",
          "0",
          "0",
          "0",
          "0",
          "0",
          "0",
          "0",
          "1",
          "1",
          "4",
          "4",
          "6",
          "6",
          "6",
          "6",
          "6",
          "8",
          "9",
          "9",
          "9",
          "9",
          "9",
          "9",
          "9",
          "9",
          "9",
          "9",
          "9",
          "9",
          "9",
          "9",
          "9",
          "9",
          "9",
          "9",
          "9",
          "9",
          "9",
          "9",
          "9",
          "9",
          "9",
          "11",
          "11",
          "13",
          "13",
          "13",
          "13",
          "13",
          "13",
          "13",
          "13",
          "13",
          "14",
          "14",
          "16",
          "16",
          "16",
          "16",
          "18",
          "18",
          "20",
          "21",
          "21",
          "21",
          "21",
          "22",
          "23",
          "23",
          "23",
          "23",
          "23",
          "23",
          "23",
          "24",
          "24",
          "26",
          "26",
          "26",
          "26",
          "26",
          "26",
          "27",
          "27",
          "27",
          "27",
          "27",
          "29",
          "29",
          "30",
          "30",
          "30",
          "30",
          "31",
          "31",
          "31",
          "31",
          "31",
          "31",
          "31",
          "31",
          "31",
          "31",
          "31",
          "31",
          "31",
          "31",
          "31",
          "31",
          "31",
          "31",
          "31",
          "31",
          "31",
          "31",
          "31",
          "31",
          "31",
          "31",
          "31",
          "31",
          "31",
          "31",
          "31",
          "31",
          "31",
          "31",
          "31",
          "31",
          "31",
          "31",
          "31",
          "31",
          "31",
          "31",
          "31",
          "31",
          "31",
          "31",
          "31",
          "31",
          "31",
          "31",
          "31",
          "31",
          "31",
          "31",
          "31",
          "31",
          "31",
          "31",
          "31",
          "31",
          "31",
          "31",
          "31",
          "31",
          "32",
          "32",
          "32",
          "34",
          "35",
          "35",
          "35",
          "35",
          "35",
          "35",
          "35",
          "35",
          "35",
          "35",
          "35",
          "35",
          "35",
          "35",
          "35",
          "35",
          "35",
          "35",
          "35",
          "35",
          "35",
          "35",
          "35",
          "35",
          "35",
          "35",
          "35",
          "35",
          "35",
          "35",
          "35",
          "35",
          "35",
          "35",
          "35",
          "35",
          "35",
          "35",
          "35",
          "35",
          "35",
          "35",
          "35",
          "35",
          "35",
          "35",
          "35",
          "35",
          "35",
          "35",
          "35",
          "35",
          "35",
          "35",
          "35",
          "35",
          "35",
          "35",
          "35",
          "35",
          "35",
          "35",
          "35",
          "35",
          "35",
          "35",
          "35",
          "35",
          "35",
          "35",
          "35",
          "35",
          "35",
          "35",
          "35",
          "35",
          "35",
          "35",
          "35",
          "35",
          "35",
          "35",
          "35",
          "35",
          "35",
          "35",
          "35",
          "35",
          "35",
          "35",
          "35",
          "35",
          "35",
          "35",
          "35",
          "35",
          "35",
          "35",
          "35",
          "35",
          "35",
          "35",
          "36",
          "36",
          "36",
          "36",
          "37",
          "37",
          "37",
          "37",
          "38",
          "38",
          "38",
          "39",
          "39",
          "39",
          "39",
          "39",
          "39",
          "39",
          "39",
          "40",
          "40",
          "40",
          "40",
          "40",
          "40",
          "40",
          "40",
          "40",
          "40",
          "40",
          "40",
          "40",
          "40",
          "41",
          "41",
          "41",
          "41",
          "41",
          "43",
          "43",
          "43",
          "43",
          "43",
          "44",
          "44",
          "44",
          "44"
         ],
         "xaxis": "x3",
         "yaxis": "y3"
        },
        {
         "autobinx": true,
         "name": "RARG_DN",
         "texttemplate": "%{y}",
         "type": "histogram",
         "x": [
          "0",
          "0",
          "0",
          "0",
          "0",
          "0",
          "0",
          "0",
          "0",
          "0",
          "0",
          "0",
          "0",
          "0",
          "0",
          "0",
          "0",
          "0",
          "0",
          "0",
          "0",
          "0",
          "0",
          "4",
          "4",
          "4",
          "6",
          "6",
          "6",
          "6",
          "6",
          "6",
          "6",
          "6",
          "6",
          "6",
          "6",
          "6",
          "9",
          "9",
          "9",
          "9",
          "9",
          "9",
          "9",
          "9",
          "9",
          "9",
          "9",
          "9",
          "9",
          "9",
          "9",
          "9",
          "9",
          "9",
          "9",
          "9",
          "9",
          "9",
          "9",
          "9",
          "9",
          "9",
          "9",
          "9",
          "9",
          "9",
          "9",
          "9",
          "9",
          "9",
          "9",
          "9",
          "11",
          "11",
          "11",
          "11",
          "12",
          "12",
          "13",
          "14",
          "14",
          "14",
          "14",
          "14",
          "14",
          "14",
          "14",
          "14",
          "14",
          "14",
          "14",
          "14",
          "14",
          "14",
          "14",
          "15",
          "16",
          "16",
          "16",
          "17",
          "17",
          "17",
          "17",
          "19",
          "19",
          "19",
          "19",
          "19",
          "20",
          "21",
          "21",
          "21",
          "21",
          "21",
          "21",
          "21",
          "21",
          "21",
          "21",
          "22",
          "22",
          "23",
          "23",
          "23",
          "23",
          "23",
          "23",
          "23",
          "24",
          "26",
          "26",
          "26",
          "26",
          "27",
          "27",
          "27",
          "27",
          "27",
          "27",
          "27",
          "27",
          "27",
          "29",
          "29",
          "29",
          "29",
          "29",
          "29",
          "30",
          "30",
          "30",
          "30",
          "31",
          "31",
          "31",
          "31",
          "31",
          "31",
          "34",
          "34",
          "34",
          "34",
          "34",
          "35",
          "35",
          "35",
          "35",
          "35",
          "36",
          "37",
          "38",
          "39",
          "40",
          "41",
          "41",
          "41",
          "42",
          "43",
          "43",
          "43"
         ],
         "xaxis": "x4",
         "yaxis": "y4"
        }
       ],
       "layout": {
        "annotations": [
         {
          "font": {
           "size": 16
          },
          "showarrow": false,
          "text": "PPARG_UP. #Genes 238, found h 157, t 232",
          "x": 0.2375,
          "xanchor": "center",
          "xref": "paper",
          "y": 1,
          "yanchor": "bottom",
          "yref": "paper"
         },
         {
          "font": {
           "size": 16
          },
          "showarrow": false,
          "text": "PPARG_DN. #Genes 219, found h 115, t 208",
          "x": 0.7625,
          "xanchor": "center",
          "xref": "paper",
          "y": 1,
          "yanchor": "bottom",
          "yref": "paper"
         },
         {
          "font": {
           "size": 16
          },
          "showarrow": false,
          "text": "RARG_UP. #Genes 646, found h 372, t 628",
          "x": 0.2375,
          "xanchor": "center",
          "xref": "paper",
          "y": 0.4,
          "yanchor": "bottom",
          "yref": "paper"
         },
         {
          "font": {
           "size": 16
          },
          "showarrow": false,
          "text": "RARG_DN. #Genes 448, found h 182, t 437",
          "x": 0.7625,
          "xanchor": "center",
          "xref": "paper",
          "y": 0.4,
          "yanchor": "bottom",
          "yref": "paper"
         }
        ],
        "height": 700,
        "template": {
         "data": {
          "bar": [
           {
            "error_x": {
             "color": "rgb(51,51,51)"
            },
            "error_y": {
             "color": "rgb(51,51,51)"
            },
            "marker": {
             "line": {
              "color": "rgb(237,237,237)",
              "width": 0.5
             },
             "pattern": {
              "fillmode": "overlay",
              "size": 10,
              "solidity": 0.2
             }
            },
            "type": "bar"
           }
          ],
          "barpolar": [
           {
            "marker": {
             "line": {
              "color": "rgb(237,237,237)",
              "width": 0.5
             },
             "pattern": {
              "fillmode": "overlay",
              "size": 10,
              "solidity": 0.2
             }
            },
            "type": "barpolar"
           }
          ],
          "carpet": [
           {
            "aaxis": {
             "endlinecolor": "rgb(51,51,51)",
             "gridcolor": "white",
             "linecolor": "white",
             "minorgridcolor": "white",
             "startlinecolor": "rgb(51,51,51)"
            },
            "baxis": {
             "endlinecolor": "rgb(51,51,51)",
             "gridcolor": "white",
             "linecolor": "white",
             "minorgridcolor": "white",
             "startlinecolor": "rgb(51,51,51)"
            },
            "type": "carpet"
           }
          ],
          "choropleth": [
           {
            "colorbar": {
             "outlinewidth": 0,
             "tickcolor": "rgb(237,237,237)",
             "ticklen": 6,
             "ticks": "inside"
            },
            "type": "choropleth"
           }
          ],
          "contour": [
           {
            "colorbar": {
             "outlinewidth": 0,
             "tickcolor": "rgb(237,237,237)",
             "ticklen": 6,
             "ticks": "inside"
            },
            "colorscale": [
             [
              0,
              "rgb(20,44,66)"
             ],
             [
              1,
              "rgb(90,179,244)"
             ]
            ],
            "type": "contour"
           }
          ],
          "contourcarpet": [
           {
            "colorbar": {
             "outlinewidth": 0,
             "tickcolor": "rgb(237,237,237)",
             "ticklen": 6,
             "ticks": "inside"
            },
            "type": "contourcarpet"
           }
          ],
          "heatmap": [
           {
            "colorbar": {
             "outlinewidth": 0,
             "tickcolor": "rgb(237,237,237)",
             "ticklen": 6,
             "ticks": "inside"
            },
            "colorscale": [
             [
              0,
              "rgb(20,44,66)"
             ],
             [
              1,
              "rgb(90,179,244)"
             ]
            ],
            "type": "heatmap"
           }
          ],
          "heatmapgl": [
           {
            "colorbar": {
             "outlinewidth": 0,
             "tickcolor": "rgb(237,237,237)",
             "ticklen": 6,
             "ticks": "inside"
            },
            "colorscale": [
             [
              0,
              "rgb(20,44,66)"
             ],
             [
              1,
              "rgb(90,179,244)"
             ]
            ],
            "type": "heatmapgl"
           }
          ],
          "histogram": [
           {
            "marker": {
             "pattern": {
              "fillmode": "overlay",
              "size": 10,
              "solidity": 0.2
             }
            },
            "type": "histogram"
           }
          ],
          "histogram2d": [
           {
            "colorbar": {
             "outlinewidth": 0,
             "tickcolor": "rgb(237,237,237)",
             "ticklen": 6,
             "ticks": "inside"
            },
            "colorscale": [
             [
              0,
              "rgb(20,44,66)"
             ],
             [
              1,
              "rgb(90,179,244)"
             ]
            ],
            "type": "histogram2d"
           }
          ],
          "histogram2dcontour": [
           {
            "colorbar": {
             "outlinewidth": 0,
             "tickcolor": "rgb(237,237,237)",
             "ticklen": 6,
             "ticks": "inside"
            },
            "colorscale": [
             [
              0,
              "rgb(20,44,66)"
             ],
             [
              1,
              "rgb(90,179,244)"
             ]
            ],
            "type": "histogram2dcontour"
           }
          ],
          "mesh3d": [
           {
            "colorbar": {
             "outlinewidth": 0,
             "tickcolor": "rgb(237,237,237)",
             "ticklen": 6,
             "ticks": "inside"
            },
            "type": "mesh3d"
           }
          ],
          "parcoords": [
           {
            "line": {
             "colorbar": {
              "outlinewidth": 0,
              "tickcolor": "rgb(237,237,237)",
              "ticklen": 6,
              "ticks": "inside"
             }
            },
            "type": "parcoords"
           }
          ],
          "pie": [
           {
            "automargin": true,
            "type": "pie"
           }
          ],
          "scatter": [
           {
            "fillpattern": {
             "fillmode": "overlay",
             "size": 10,
             "solidity": 0.2
            },
            "type": "scatter"
           }
          ],
          "scatter3d": [
           {
            "line": {
             "colorbar": {
              "outlinewidth": 0,
              "tickcolor": "rgb(237,237,237)",
              "ticklen": 6,
              "ticks": "inside"
             }
            },
            "marker": {
             "colorbar": {
              "outlinewidth": 0,
              "tickcolor": "rgb(237,237,237)",
              "ticklen": 6,
              "ticks": "inside"
             }
            },
            "type": "scatter3d"
           }
          ],
          "scattercarpet": [
           {
            "marker": {
             "colorbar": {
              "outlinewidth": 0,
              "tickcolor": "rgb(237,237,237)",
              "ticklen": 6,
              "ticks": "inside"
             }
            },
            "type": "scattercarpet"
           }
          ],
          "scattergeo": [
           {
            "marker": {
             "colorbar": {
              "outlinewidth": 0,
              "tickcolor": "rgb(237,237,237)",
              "ticklen": 6,
              "ticks": "inside"
             }
            },
            "type": "scattergeo"
           }
          ],
          "scattergl": [
           {
            "marker": {
             "colorbar": {
              "outlinewidth": 0,
              "tickcolor": "rgb(237,237,237)",
              "ticklen": 6,
              "ticks": "inside"
             }
            },
            "type": "scattergl"
           }
          ],
          "scattermapbox": [
           {
            "marker": {
             "colorbar": {
              "outlinewidth": 0,
              "tickcolor": "rgb(237,237,237)",
              "ticklen": 6,
              "ticks": "inside"
             }
            },
            "type": "scattermapbox"
           }
          ],
          "scatterpolar": [
           {
            "marker": {
             "colorbar": {
              "outlinewidth": 0,
              "tickcolor": "rgb(237,237,237)",
              "ticklen": 6,
              "ticks": "inside"
             }
            },
            "type": "scatterpolar"
           }
          ],
          "scatterpolargl": [
           {
            "marker": {
             "colorbar": {
              "outlinewidth": 0,
              "tickcolor": "rgb(237,237,237)",
              "ticklen": 6,
              "ticks": "inside"
             }
            },
            "type": "scatterpolargl"
           }
          ],
          "scatterternary": [
           {
            "marker": {
             "colorbar": {
              "outlinewidth": 0,
              "tickcolor": "rgb(237,237,237)",
              "ticklen": 6,
              "ticks": "inside"
             }
            },
            "type": "scatterternary"
           }
          ],
          "surface": [
           {
            "colorbar": {
             "outlinewidth": 0,
             "tickcolor": "rgb(237,237,237)",
             "ticklen": 6,
             "ticks": "inside"
            },
            "colorscale": [
             [
              0,
              "rgb(20,44,66)"
             ],
             [
              1,
              "rgb(90,179,244)"
             ]
            ],
            "type": "surface"
           }
          ],
          "table": [
           {
            "cells": {
             "fill": {
              "color": "rgb(237,237,237)"
             },
             "line": {
              "color": "white"
             }
            },
            "header": {
             "fill": {
              "color": "rgb(217,217,217)"
             },
             "line": {
              "color": "white"
             }
            },
            "type": "table"
           }
          ]
         },
         "layout": {
          "annotationdefaults": {
           "arrowhead": 0,
           "arrowwidth": 1
          },
          "autotypenumbers": "strict",
          "coloraxis": {
           "colorbar": {
            "outlinewidth": 0,
            "tickcolor": "rgb(237,237,237)",
            "ticklen": 6,
            "ticks": "inside"
           }
          },
          "colorscale": {
           "sequential": [
            [
             0,
             "rgb(20,44,66)"
            ],
            [
             1,
             "rgb(90,179,244)"
            ]
           ],
           "sequentialminus": [
            [
             0,
             "rgb(20,44,66)"
            ],
            [
             1,
             "rgb(90,179,244)"
            ]
           ]
          },
          "colorway": [
           "#F8766D",
           "#A3A500",
           "#00BF7D",
           "#00B0F6",
           "#E76BF3"
          ],
          "font": {
           "color": "rgb(51,51,51)"
          },
          "geo": {
           "bgcolor": "white",
           "lakecolor": "white",
           "landcolor": "rgb(237,237,237)",
           "showlakes": true,
           "showland": true,
           "subunitcolor": "white"
          },
          "hoverlabel": {
           "align": "left"
          },
          "hovermode": "closest",
          "paper_bgcolor": "white",
          "plot_bgcolor": "rgb(237,237,237)",
          "polar": {
           "angularaxis": {
            "gridcolor": "white",
            "linecolor": "white",
            "showgrid": true,
            "tickcolor": "rgb(51,51,51)",
            "ticks": "outside"
           },
           "bgcolor": "rgb(237,237,237)",
           "radialaxis": {
            "gridcolor": "white",
            "linecolor": "white",
            "showgrid": true,
            "tickcolor": "rgb(51,51,51)",
            "ticks": "outside"
           }
          },
          "scene": {
           "xaxis": {
            "backgroundcolor": "rgb(237,237,237)",
            "gridcolor": "white",
            "gridwidth": 2,
            "linecolor": "white",
            "showbackground": true,
            "showgrid": true,
            "tickcolor": "rgb(51,51,51)",
            "ticks": "outside",
            "zerolinecolor": "white"
           },
           "yaxis": {
            "backgroundcolor": "rgb(237,237,237)",
            "gridcolor": "white",
            "gridwidth": 2,
            "linecolor": "white",
            "showbackground": true,
            "showgrid": true,
            "tickcolor": "rgb(51,51,51)",
            "ticks": "outside",
            "zerolinecolor": "white"
           },
           "zaxis": {
            "backgroundcolor": "rgb(237,237,237)",
            "gridcolor": "white",
            "gridwidth": 2,
            "linecolor": "white",
            "showbackground": true,
            "showgrid": true,
            "tickcolor": "rgb(51,51,51)",
            "ticks": "outside",
            "zerolinecolor": "white"
           }
          },
          "shapedefaults": {
           "fillcolor": "black",
           "line": {
            "width": 0
           },
           "opacity": 0.3
          },
          "ternary": {
           "aaxis": {
            "gridcolor": "white",
            "linecolor": "white",
            "showgrid": true,
            "tickcolor": "rgb(51,51,51)",
            "ticks": "outside"
           },
           "baxis": {
            "gridcolor": "white",
            "linecolor": "white",
            "showgrid": true,
            "tickcolor": "rgb(51,51,51)",
            "ticks": "outside"
           },
           "bgcolor": "rgb(237,237,237)",
           "caxis": {
            "gridcolor": "white",
            "linecolor": "white",
            "showgrid": true,
            "tickcolor": "rgb(51,51,51)",
            "ticks": "outside"
           }
          },
          "xaxis": {
           "automargin": true,
           "gridcolor": "white",
           "linecolor": "white",
           "showgrid": true,
           "tickcolor": "rgb(51,51,51)",
           "ticks": "outside",
           "title": {
            "standoff": 15
           },
           "zerolinecolor": "white"
          },
          "yaxis": {
           "automargin": true,
           "gridcolor": "white",
           "linecolor": "white",
           "showgrid": true,
           "tickcolor": "rgb(51,51,51)",
           "ticks": "outside",
           "title": {
            "standoff": 15
           },
           "zerolinecolor": "white"
          }
         }
        },
        "title": {
         "text": "PPARG/RARG significant genes"
        },
        "xaxis": {
         "anchor": "y",
         "domain": [
          0,
          0.475
         ],
         "title": {
          "text": "max_b"
         }
        },
        "xaxis2": {
         "anchor": "y2",
         "domain": [
          0.525,
          1
         ],
         "title": {
          "text": "max_b"
         }
        },
        "xaxis3": {
         "anchor": "y3",
         "domain": [
          0,
          0.475
         ],
         "title": {
          "text": "max_b"
         }
        },
        "xaxis4": {
         "anchor": "y4",
         "domain": [
          0.525,
          1
         ],
         "title": {
          "text": "max_b"
         }
        },
        "yaxis": {
         "anchor": "x",
         "domain": [
          0.6000000000000001,
          1
         ]
        },
        "yaxis2": {
         "anchor": "x2",
         "domain": [
          0.6000000000000001,
          1
         ]
        },
        "yaxis3": {
         "anchor": "x3",
         "domain": [
          0,
          0.4
         ]
        },
        "yaxis4": {
         "anchor": "x4",
         "domain": [
          0,
          0.4
         ]
        }
       }
      }
     },
     "metadata": {},
     "output_type": "display_data"
    }
   ],
   "source": [
    "plot_rarg_pparg_com_rep(p_r_clas=p_r_clas, df=p_r_sig, tum_df=all_tum_tpms, nodes_df=nodes_df, prefix_col=\"genes_\", main_title=\"PPARG/RARG significant genes\")"
   ]
  },
  {
   "cell_type": "code",
   "execution_count": 24,
   "metadata": {},
   "outputs": [
    {
     "data": {
      "application/vnd.plotly.v1+json": {
       "config": {
        "plotlyServerURL": "https://plot.ly"
       },
       "data": [
        {
         "autobinx": true,
         "name": "PPARG_UP",
         "texttemplate": "%{y}",
         "type": "histogram",
         "x": [
          "0",
          "0",
          "0",
          "0",
          "0",
          "0",
          "0",
          "0",
          "0",
          "0",
          "0",
          "0",
          "9",
          "23",
          "26",
          "31",
          "35",
          "35",
          "35",
          "35",
          "39",
          "40",
          "40",
          "40",
          "44"
         ],
         "xaxis": "x",
         "yaxis": "y"
        },
        {
         "autobinx": true,
         "name": "PPARG_DN",
         "texttemplate": "%{y}",
         "type": "histogram",
         "x": [
          "16",
          "16",
          "16",
          "29"
         ],
         "xaxis": "x2",
         "yaxis": "y2"
        },
        {
         "autobinx": true,
         "name": "RARG_UP",
         "texttemplate": "%{y}",
         "type": "histogram",
         "x": [
          "0",
          "0",
          "0",
          "0",
          "1",
          "31",
          "31",
          "35",
          "35",
          "35",
          "35",
          "35",
          "35",
          "35",
          "35",
          "35",
          "35",
          "35",
          "35",
          "35",
          "35",
          "35",
          "35",
          "40",
          "40",
          "40",
          "40"
         ],
         "xaxis": "x3",
         "yaxis": "y3"
        },
        {
         "autobinx": true,
         "name": "RARG_DN",
         "texttemplate": "%{y}",
         "type": "histogram",
         "x": [
          "9",
          "9",
          "9",
          "9",
          "9",
          "9",
          "9",
          "9",
          "9",
          "9",
          "11",
          "11",
          "11",
          "12",
          "14",
          "14",
          "14",
          "16",
          "16",
          "21",
          "23",
          "27",
          "27",
          "27",
          "29",
          "30",
          "36"
         ],
         "xaxis": "x4",
         "yaxis": "y4"
        }
       ],
       "layout": {
        "annotations": [
         {
          "font": {
           "size": 16
          },
          "showarrow": false,
          "text": "PPARG_UP. #Genes 34, found h 25, t 33",
          "x": 0.2375,
          "xanchor": "center",
          "xref": "paper",
          "y": 1,
          "yanchor": "bottom",
          "yref": "paper"
         },
         {
          "font": {
           "size": 16
          },
          "showarrow": false,
          "text": "PPARG_DN. #Genes 24, found h 4, t 23",
          "x": 0.7625,
          "xanchor": "center",
          "xref": "paper",
          "y": 1,
          "yanchor": "bottom",
          "yref": "paper"
         },
         {
          "font": {
           "size": 16
          },
          "showarrow": false,
          "text": "RARG_UP. #Genes 55, found h 27, t 54",
          "x": 0.2375,
          "xanchor": "center",
          "xref": "paper",
          "y": 0.4,
          "yanchor": "bottom",
          "yref": "paper"
         },
         {
          "font": {
           "size": 16
          },
          "showarrow": false,
          "text": "RARG_DN. #Genes 75, found h 27, t 75",
          "x": 0.7625,
          "xanchor": "center",
          "xref": "paper",
          "y": 0.4,
          "yanchor": "bottom",
          "yref": "paper"
         }
        ],
        "height": 700,
        "template": {
         "data": {
          "bar": [
           {
            "error_x": {
             "color": "rgb(51,51,51)"
            },
            "error_y": {
             "color": "rgb(51,51,51)"
            },
            "marker": {
             "line": {
              "color": "rgb(237,237,237)",
              "width": 0.5
             },
             "pattern": {
              "fillmode": "overlay",
              "size": 10,
              "solidity": 0.2
             }
            },
            "type": "bar"
           }
          ],
          "barpolar": [
           {
            "marker": {
             "line": {
              "color": "rgb(237,237,237)",
              "width": 0.5
             },
             "pattern": {
              "fillmode": "overlay",
              "size": 10,
              "solidity": 0.2
             }
            },
            "type": "barpolar"
           }
          ],
          "carpet": [
           {
            "aaxis": {
             "endlinecolor": "rgb(51,51,51)",
             "gridcolor": "white",
             "linecolor": "white",
             "minorgridcolor": "white",
             "startlinecolor": "rgb(51,51,51)"
            },
            "baxis": {
             "endlinecolor": "rgb(51,51,51)",
             "gridcolor": "white",
             "linecolor": "white",
             "minorgridcolor": "white",
             "startlinecolor": "rgb(51,51,51)"
            },
            "type": "carpet"
           }
          ],
          "choropleth": [
           {
            "colorbar": {
             "outlinewidth": 0,
             "tickcolor": "rgb(237,237,237)",
             "ticklen": 6,
             "ticks": "inside"
            },
            "type": "choropleth"
           }
          ],
          "contour": [
           {
            "colorbar": {
             "outlinewidth": 0,
             "tickcolor": "rgb(237,237,237)",
             "ticklen": 6,
             "ticks": "inside"
            },
            "colorscale": [
             [
              0,
              "rgb(20,44,66)"
             ],
             [
              1,
              "rgb(90,179,244)"
             ]
            ],
            "type": "contour"
           }
          ],
          "contourcarpet": [
           {
            "colorbar": {
             "outlinewidth": 0,
             "tickcolor": "rgb(237,237,237)",
             "ticklen": 6,
             "ticks": "inside"
            },
            "type": "contourcarpet"
           }
          ],
          "heatmap": [
           {
            "colorbar": {
             "outlinewidth": 0,
             "tickcolor": "rgb(237,237,237)",
             "ticklen": 6,
             "ticks": "inside"
            },
            "colorscale": [
             [
              0,
              "rgb(20,44,66)"
             ],
             [
              1,
              "rgb(90,179,244)"
             ]
            ],
            "type": "heatmap"
           }
          ],
          "heatmapgl": [
           {
            "colorbar": {
             "outlinewidth": 0,
             "tickcolor": "rgb(237,237,237)",
             "ticklen": 6,
             "ticks": "inside"
            },
            "colorscale": [
             [
              0,
              "rgb(20,44,66)"
             ],
             [
              1,
              "rgb(90,179,244)"
             ]
            ],
            "type": "heatmapgl"
           }
          ],
          "histogram": [
           {
            "marker": {
             "pattern": {
              "fillmode": "overlay",
              "size": 10,
              "solidity": 0.2
             }
            },
            "type": "histogram"
           }
          ],
          "histogram2d": [
           {
            "colorbar": {
             "outlinewidth": 0,
             "tickcolor": "rgb(237,237,237)",
             "ticklen": 6,
             "ticks": "inside"
            },
            "colorscale": [
             [
              0,
              "rgb(20,44,66)"
             ],
             [
              1,
              "rgb(90,179,244)"
             ]
            ],
            "type": "histogram2d"
           }
          ],
          "histogram2dcontour": [
           {
            "colorbar": {
             "outlinewidth": 0,
             "tickcolor": "rgb(237,237,237)",
             "ticklen": 6,
             "ticks": "inside"
            },
            "colorscale": [
             [
              0,
              "rgb(20,44,66)"
             ],
             [
              1,
              "rgb(90,179,244)"
             ]
            ],
            "type": "histogram2dcontour"
           }
          ],
          "mesh3d": [
           {
            "colorbar": {
             "outlinewidth": 0,
             "tickcolor": "rgb(237,237,237)",
             "ticklen": 6,
             "ticks": "inside"
            },
            "type": "mesh3d"
           }
          ],
          "parcoords": [
           {
            "line": {
             "colorbar": {
              "outlinewidth": 0,
              "tickcolor": "rgb(237,237,237)",
              "ticklen": 6,
              "ticks": "inside"
             }
            },
            "type": "parcoords"
           }
          ],
          "pie": [
           {
            "automargin": true,
            "type": "pie"
           }
          ],
          "scatter": [
           {
            "fillpattern": {
             "fillmode": "overlay",
             "size": 10,
             "solidity": 0.2
            },
            "type": "scatter"
           }
          ],
          "scatter3d": [
           {
            "line": {
             "colorbar": {
              "outlinewidth": 0,
              "tickcolor": "rgb(237,237,237)",
              "ticklen": 6,
              "ticks": "inside"
             }
            },
            "marker": {
             "colorbar": {
              "outlinewidth": 0,
              "tickcolor": "rgb(237,237,237)",
              "ticklen": 6,
              "ticks": "inside"
             }
            },
            "type": "scatter3d"
           }
          ],
          "scattercarpet": [
           {
            "marker": {
             "colorbar": {
              "outlinewidth": 0,
              "tickcolor": "rgb(237,237,237)",
              "ticklen": 6,
              "ticks": "inside"
             }
            },
            "type": "scattercarpet"
           }
          ],
          "scattergeo": [
           {
            "marker": {
             "colorbar": {
              "outlinewidth": 0,
              "tickcolor": "rgb(237,237,237)",
              "ticklen": 6,
              "ticks": "inside"
             }
            },
            "type": "scattergeo"
           }
          ],
          "scattergl": [
           {
            "marker": {
             "colorbar": {
              "outlinewidth": 0,
              "tickcolor": "rgb(237,237,237)",
              "ticklen": 6,
              "ticks": "inside"
             }
            },
            "type": "scattergl"
           }
          ],
          "scattermapbox": [
           {
            "marker": {
             "colorbar": {
              "outlinewidth": 0,
              "tickcolor": "rgb(237,237,237)",
              "ticklen": 6,
              "ticks": "inside"
             }
            },
            "type": "scattermapbox"
           }
          ],
          "scatterpolar": [
           {
            "marker": {
             "colorbar": {
              "outlinewidth": 0,
              "tickcolor": "rgb(237,237,237)",
              "ticklen": 6,
              "ticks": "inside"
             }
            },
            "type": "scatterpolar"
           }
          ],
          "scatterpolargl": [
           {
            "marker": {
             "colorbar": {
              "outlinewidth": 0,
              "tickcolor": "rgb(237,237,237)",
              "ticklen": 6,
              "ticks": "inside"
             }
            },
            "type": "scatterpolargl"
           }
          ],
          "scatterternary": [
           {
            "marker": {
             "colorbar": {
              "outlinewidth": 0,
              "tickcolor": "rgb(237,237,237)",
              "ticklen": 6,
              "ticks": "inside"
             }
            },
            "type": "scatterternary"
           }
          ],
          "surface": [
           {
            "colorbar": {
             "outlinewidth": 0,
             "tickcolor": "rgb(237,237,237)",
             "ticklen": 6,
             "ticks": "inside"
            },
            "colorscale": [
             [
              0,
              "rgb(20,44,66)"
             ],
             [
              1,
              "rgb(90,179,244)"
             ]
            ],
            "type": "surface"
           }
          ],
          "table": [
           {
            "cells": {
             "fill": {
              "color": "rgb(237,237,237)"
             },
             "line": {
              "color": "white"
             }
            },
            "header": {
             "fill": {
              "color": "rgb(217,217,217)"
             },
             "line": {
              "color": "white"
             }
            },
            "type": "table"
           }
          ]
         },
         "layout": {
          "annotationdefaults": {
           "arrowhead": 0,
           "arrowwidth": 1
          },
          "autotypenumbers": "strict",
          "coloraxis": {
           "colorbar": {
            "outlinewidth": 0,
            "tickcolor": "rgb(237,237,237)",
            "ticklen": 6,
            "ticks": "inside"
           }
          },
          "colorscale": {
           "sequential": [
            [
             0,
             "rgb(20,44,66)"
            ],
            [
             1,
             "rgb(90,179,244)"
            ]
           ],
           "sequentialminus": [
            [
             0,
             "rgb(20,44,66)"
            ],
            [
             1,
             "rgb(90,179,244)"
            ]
           ]
          },
          "colorway": [
           "#F8766D",
           "#A3A500",
           "#00BF7D",
           "#00B0F6",
           "#E76BF3"
          ],
          "font": {
           "color": "rgb(51,51,51)"
          },
          "geo": {
           "bgcolor": "white",
           "lakecolor": "white",
           "landcolor": "rgb(237,237,237)",
           "showlakes": true,
           "showland": true,
           "subunitcolor": "white"
          },
          "hoverlabel": {
           "align": "left"
          },
          "hovermode": "closest",
          "paper_bgcolor": "white",
          "plot_bgcolor": "rgb(237,237,237)",
          "polar": {
           "angularaxis": {
            "gridcolor": "white",
            "linecolor": "white",
            "showgrid": true,
            "tickcolor": "rgb(51,51,51)",
            "ticks": "outside"
           },
           "bgcolor": "rgb(237,237,237)",
           "radialaxis": {
            "gridcolor": "white",
            "linecolor": "white",
            "showgrid": true,
            "tickcolor": "rgb(51,51,51)",
            "ticks": "outside"
           }
          },
          "scene": {
           "xaxis": {
            "backgroundcolor": "rgb(237,237,237)",
            "gridcolor": "white",
            "gridwidth": 2,
            "linecolor": "white",
            "showbackground": true,
            "showgrid": true,
            "tickcolor": "rgb(51,51,51)",
            "ticks": "outside",
            "zerolinecolor": "white"
           },
           "yaxis": {
            "backgroundcolor": "rgb(237,237,237)",
            "gridcolor": "white",
            "gridwidth": 2,
            "linecolor": "white",
            "showbackground": true,
            "showgrid": true,
            "tickcolor": "rgb(51,51,51)",
            "ticks": "outside",
            "zerolinecolor": "white"
           },
           "zaxis": {
            "backgroundcolor": "rgb(237,237,237)",
            "gridcolor": "white",
            "gridwidth": 2,
            "linecolor": "white",
            "showbackground": true,
            "showgrid": true,
            "tickcolor": "rgb(51,51,51)",
            "ticks": "outside",
            "zerolinecolor": "white"
           }
          },
          "shapedefaults": {
           "fillcolor": "black",
           "line": {
            "width": 0
           },
           "opacity": 0.3
          },
          "ternary": {
           "aaxis": {
            "gridcolor": "white",
            "linecolor": "white",
            "showgrid": true,
            "tickcolor": "rgb(51,51,51)",
            "ticks": "outside"
           },
           "baxis": {
            "gridcolor": "white",
            "linecolor": "white",
            "showgrid": true,
            "tickcolor": "rgb(51,51,51)",
            "ticks": "outside"
           },
           "bgcolor": "rgb(237,237,237)",
           "caxis": {
            "gridcolor": "white",
            "linecolor": "white",
            "showgrid": true,
            "tickcolor": "rgb(51,51,51)",
            "ticks": "outside"
           }
          },
          "xaxis": {
           "automargin": true,
           "gridcolor": "white",
           "linecolor": "white",
           "showgrid": true,
           "tickcolor": "rgb(51,51,51)",
           "ticks": "outside",
           "title": {
            "standoff": 15
           },
           "zerolinecolor": "white"
          },
          "yaxis": {
           "automargin": true,
           "gridcolor": "white",
           "linecolor": "white",
           "showgrid": true,
           "tickcolor": "rgb(51,51,51)",
           "ticks": "outside",
           "title": {
            "standoff": 15
           },
           "zerolinecolor": "white"
          }
         }
        },
        "title": {
         "text": "PPARG/RARG classifier genes"
        },
        "xaxis": {
         "anchor": "y",
         "domain": [
          0,
          0.475
         ],
         "title": {
          "text": "max_b"
         }
        },
        "xaxis2": {
         "anchor": "y2",
         "domain": [
          0.525,
          1
         ],
         "title": {
          "text": "max_b"
         }
        },
        "xaxis3": {
         "anchor": "y3",
         "domain": [
          0,
          0.475
         ],
         "title": {
          "text": "max_b"
         }
        },
        "xaxis4": {
         "anchor": "y4",
         "domain": [
          0.525,
          1
         ],
         "title": {
          "text": "max_b"
         }
        },
        "yaxis": {
         "anchor": "x",
         "domain": [
          0.6000000000000001,
          1
         ]
        },
        "yaxis2": {
         "anchor": "x2",
         "domain": [
          0.6000000000000001,
          1
         ]
        },
        "yaxis3": {
         "anchor": "x3",
         "domain": [
          0,
          0.4
         ]
        },
        "yaxis4": {
         "anchor": "x4",
         "domain": [
          0,
          0.4
         ]
        }
       }
      }
     },
     "metadata": {},
     "output_type": "display_data"
    }
   ],
   "source": [
    "plot_rarg_pparg_com_rep(p_r_clas=p_r_clas, df=p_r_clas, tum_df=all_tum_tpms, nodes_df=nodes_df, prefix_col=\"\", main_title=\"PPARG/RARG classifier genes\")"
   ]
  },
  {
   "cell_type": "code",
   "execution_count": 25,
   "metadata": {},
   "outputs": [],
   "source": [
    "# Show community sizes\n",
    "if 0:\n",
    "    dmy_df = nodes_df.copy(deep=True)\n",
    "    dmy_df.sort_values(by=\"max_b\", inplace=True)\n",
    "    dmy_df[\"max_b\"] = dmy_df[\"max_b\"].astype(str)\n",
    "    px.histogram(dmy_df, x=\"max_b\", text_auto=True, title=\"Comunity sizes\")"
   ]
  },
  {
   "cell_type": "markdown",
   "metadata": {},
   "source": [
    "### Pre-processing RAPH's list"
   ]
  },
  {
   "cell_type": "code",
   "execution_count": 26,
   "metadata": {},
   "outputs": [],
   "source": [
    "# pre-processing RAPH's list\n",
    "if 0:\n",
    "    excel_file = pd.ExcelFile(f\"{data_base}/metadata/nuclear_receptor/PPARG_RARG significant 2 fold.xlsx\")\n",
    "\n",
    "    comb_df = pd.DataFrame()\n",
    "    for sheet_name in excel_file.sheet_names:\n",
    "        df = pd.read_excel(excel_file, sheet_name=sheet_name)\n",
    "        r_cols = {}\n",
    "        new_name = sheet_name.replace(\" sig 2 fold \", \"_\")\n",
    "        for col in df.columns:\n",
    "            r_cols[col] = f\"{col}_{new_name}\"\n",
    "\n",
    "        comb_df = pd.concat([comb_df, df.rename(columns=r_cols)], axis=1)\n",
    "\n",
    "    comb_df.to_csv(f\"{data_base}/metadata//nuclear_receptor/pparg_rarg_up_dn_sig.tsv\", sep=\"\\t\", index=False)"
   ]
  },
  {
   "cell_type": "markdown",
   "metadata": {},
   "source": [
    "# Std vs Rwd"
   ]
  },
  {
   "cell_type": "code",
   "execution_count": 27,
   "metadata": {},
   "outputs": [
    {
     "data": {
      "image/png": "[encoded data removed]",
      "text/plain": [
       "<Figure size 2000x1500 with 6 Axes>"
      ]
     },
     "metadata": {},
     "output_type": "display_data"
    }
   ],
   "source": [
    "std_exp: GtExp = hsbm_v3.exps[\"standard_5K_6TF_hsbm\"]\n",
    "rwd_exp: GtExp = hsbm_v3.exps[\"sigmoid_5K_6TF_hsbm\"]\n",
    "\n",
    "std_com_df, _ = std_exp.hsbm_get_gt_df()\n",
    "rwd_com_df, _ = rwd_exp.hsbm_get_gt_df()\n",
    "std_nodes_df: pd.DataFrame = gh.add_stats_to(nodes_df=std_exp.nodes_df, tpm_df=std_exp.tpm_df)\n",
    "rwd_nodes_df: pd.DataFrame = gh.add_stats_to(nodes_df=rwd_exp.nodes_df, tpm_df=rwd_exp.tpm_df)\n",
    "\n",
    "comp_std_net: NetworkComp = NetworkComp(hsbm_v3, 5, \"standard_5K_6TF_hsbm\", \"sigmoid_5K_6TF_hsbm\", mod_type=\"sbm\")\n",
    "fig, graph_stats_std, graph_stats_rwd = comp_std_net.plot_network_stats(nodes_df_1=std_nodes_df, nodes_df_2=rwd_nodes_df, label_1=\"std\", label_2=\"rwd\")"
   ]
  },
  {
   "cell_type": "code",
   "execution_count": 28,
   "metadata": {},
   "outputs": [
    {
     "name": "stdout",
     "output_type": "stream",
     "text": [
      "#### Running Standard\n",
      "Variation per principal component [0.51105831 0.29528146] and the sum 80.63%\n",
      "#### Running Rewards\n",
      "Variation per principal component [0.55064402 0.26745057] and the sum 81.81%\n"
     ]
    }
   ],
   "source": [
    "#### Standard\n",
    "print(\"#### Running Standard\")\n",
    "std_exp.gt_modCon_MEV(all_tpms=all_tum_tpms, is_imev=True, com_df=std_com_df)\n",
    "std_cs_exp, std_fig, metrics = gh.run_clusters(std_exp, label=\"std\", show_figs=True, norm=False)\n",
    "\n",
    "label, mevs = \"std\", std_exp.mevsMut\n",
    "std_top_metrics = gh.rank_cs_metrics(metrics, label=label)\n",
    "\n",
    "#### Reward\n",
    "print(\"#### Running Rewards\")\n",
    "rwd_exp.gt_modCon_MEV(all_tpms=all_tum_tpms, is_imev=True, com_df=rwd_com_df)\n",
    "rwd_cs_exp, rwd_fig, metrics = gh.run_clusters(rwd_exp, label=\"rwd\", show_figs=True, norm=False)\n",
    "\n",
    "label, mevs = \"rwd\", rwd_exp.mevsMut\n",
    "rwd_top_metrics = gh.rank_cs_metrics(metrics, label=label)"
   ]
  },
  {
   "cell_type": "markdown",
   "metadata": {},
   "source": [
    "## Clustering comparison"
   ]
  },
  {
   "cell_type": "code",
   "execution_count": 29,
   "metadata": {},
   "outputs": [
    {
     "data": {
      "application/vnd.plotly.v1+json": {
       "config": {
        "plotlyServerURL": "https://plot.ly"
       },
       "data": [
        {
         "arrangement": "perpendicular",
         "link": {
          "color": "#bdbdbd",
          "source": [
           0,
           0,
           0,
           0,
           0,
           0,
           1,
           1,
           1,
           2,
           2,
           2,
           3,
           3,
           3,
           3,
           4,
           4,
           4,
           5,
           5,
           5,
           5,
           5,
           6,
           6,
           6,
           6,
           6,
           7,
           7,
           7,
           7,
           7,
           7,
           7,
           8,
           8,
           8,
           8,
           8,
           9,
           9,
           9,
           9,
           9,
           10,
           10,
           10,
           10,
           10,
           10,
           11,
           11,
           11,
           12,
           12,
           12,
           13,
           13,
           13,
           14,
           14,
           14,
           15,
           15,
           15,
           15,
           16,
           16,
           16,
           17,
           17,
           18,
           18,
           18,
           18,
           18,
           18,
           19,
           19,
           19,
           19,
           20,
           20,
           20,
           20,
           21,
           21,
           21,
           21,
           21,
           22,
           22,
           22,
           22,
           22,
           23,
           23,
           24,
           24,
           24,
           24
          ],
          "target": [
           5,
           6,
           7,
           8,
           9,
           10,
           5,
           7,
           10,
           7,
           8,
           10,
           6,
           7,
           8,
           10,
           6,
           7,
           10,
           11,
           12,
           14,
           15,
           17,
           11,
           12,
           13,
           14,
           15,
           11,
           12,
           13,
           14,
           15,
           16,
           17,
           12,
           13,
           14,
           16,
           17,
           11,
           12,
           13,
           14,
           15,
           11,
           12,
           13,
           15,
           16,
           17,
           18,
           19,
           21,
           18,
           20,
           21,
           18,
           20,
           21,
           18,
           20,
           22,
           19,
           22,
           23,
           24,
           20,
           21,
           22,
           22,
           24,
           25,
           26,
           27,
           28,
           29,
           30,
           25,
           27,
           29,
           30,
           26,
           27,
           28,
           30,
           25,
           26,
           27,
           28,
           30,
           25,
           26,
           27,
           28,
           30,
           25,
           30,
           25,
           26,
           27,
           30
          ],
          "value": [
           61,
           35,
           4,
           1,
           33,
           7,
           5,
           71,
           1,
           18,
           6,
           1,
           5,
           23,
           110,
           3,
           1,
           1,
           18,
           28,
           8,
           3,
           23,
           4,
           20,
           6,
           1,
           4,
           10,
           3,
           39,
           24,
           34,
           3,
           5,
           9,
           7,
           32,
           17,
           42,
           19,
           20,
           4,
           2,
           1,
           6,
           10,
           4,
           6,
           7,
           1,
           2,
           6,
           74,
           1,
           60,
           4,
           4,
           1,
           5,
           59,
           17,
           16,
           26,
           5,
           12,
           31,
           1,
           44,
           3,
           1,
           17,
           17,
           25,
           11,
           20,
           4,
           1,
           23,
           71,
           2,
           4,
           2,
           4,
           54,
           10,
           1,
           11,
           9,
           31,
           11,
           5,
           11,
           11,
           22,
           6,
           6,
           28,
           3,
           3,
           1,
           13,
           1
          ]
         },
         "node": {
          "color": [
           "rgb(229, 134, 6)",
           "rgb(229, 134, 6)",
           "rgb(229, 134, 6)",
           "rgb(229, 134, 6)",
           "rgb(229, 134, 6)",
           "rgb(93, 105, 177)",
           "rgb(93, 105, 177)",
           "rgb(93, 105, 177)",
           "rgb(93, 105, 177)",
           "rgb(93, 105, 177)",
           "rgb(93, 105, 177)",
           "rgb(82, 188, 163)",
           "rgb(82, 188, 163)",
           "rgb(82, 188, 163)",
           "rgb(82, 188, 163)",
           "rgb(82, 188, 163)",
           "rgb(82, 188, 163)",
           "rgb(82, 188, 163)",
           "rgb(153, 201, 69)",
           "rgb(153, 201, 69)",
           "rgb(153, 201, 69)",
           "rgb(153, 201, 69)",
           "rgb(153, 201, 69)",
           "rgb(153, 201, 69)",
           "rgb(153, 201, 69)",
           "rgb(204, 97, 176)",
           "rgb(204, 97, 176)",
           "rgb(204, 97, 176)",
           "rgb(204, 97, 176)",
           "rgb(204, 97, 176)",
           "rgb(204, 97, 176)"
          ],
          "label": [
           "Ba/Sq",
           "LumInf",
           "LumNS",
           "LumP",
           "NE-like",
           "High IFNG",
           "Low IFNG",
           "Lum Inf/NS",
           "LumP",
           "Med IFNG",
           "Ne",
           0,
           1,
           2,
           3,
           4,
           5,
           6,
           0,
           1,
           2,
           3,
           4,
           5,
           6,
           "Ba/Sq",
           "LumNS",
           "LumP",
           "LumU",
           "NE-like",
           "Stroma-rich"
          ],
          "line": {
           "color": "black",
           "width": 0.5
          },
          "pad": 15,
          "thickness": 20
         },
         "type": "sankey"
        }
       ],
       "layout": {
        "annotations": [
         {
          "align": "left",
          "font": {
           "color": "#003366",
           "size": 16
          },
          "showarrow": false,
          "text": "TCGA408_classifier",
          "x": 0,
          "xref": "x",
          "y": 1.07,
          "yref": "paper"
         },
         {
          "align": "left",
          "font": {
           "color": "#003366",
           "size": 16
          },
          "showarrow": false,
          "text": "KMeans_labels_6",
          "x": 1,
          "xref": "x",
          "y": 1.07,
          "yref": "paper"
         },
         {
          "align": "left",
          "font": {
           "color": "#003366",
           "size": 16
          },
          "showarrow": false,
          "text": "RawKMeans_CS_7_std",
          "x": 2,
          "xref": "x",
          "y": 1.07,
          "yref": "paper"
         },
         {
          "align": "left",
          "font": {
           "color": "#003366",
           "size": 16
          },
          "showarrow": false,
          "text": "RawKMeans_CS_7_rwd",
          "x": 3,
          "xref": "x",
          "y": 1.07,
          "yref": "paper"
         },
         {
          "align": "left",
          "font": {
           "color": "#003366",
           "size": 16
          },
          "showarrow": false,
          "text": "consensus",
          "x": 4,
          "xref": "x",
          "y": 1.07,
          "yref": "paper"
         }
        ],
        "font": {
         "color": "#003366",
         "size": 16
        },
        "height": 600,
        "plot_bgcolor": "rgba(0,0,0,0)",
        "template": {
         "data": {
          "bar": [
           {
            "error_x": {
             "color": "rgb(51,51,51)"
            },
            "error_y": {
             "color": "rgb(51,51,51)"
            },
            "marker": {
             "line": {
              "color": "rgb(237,237,237)",
              "width": 0.5
             },
             "pattern": {
              "fillmode": "overlay",
              "size": 10,
              "solidity": 0.2
             }
            },
            "type": "bar"
           }
          ],
          "barpolar": [
           {
            "marker": {
             "line": {
              "color": "rgb(237,237,237)",
              "width": 0.5
             },
             "pattern": {
              "fillmode": "overlay",
              "size": 10,
              "solidity": 0.2
             }
            },
            "type": "barpolar"
           }
          ],
          "carpet": [
           {
            "aaxis": {
             "endlinecolor": "rgb(51,51,51)",
             "gridcolor": "white",
             "linecolor": "white",
             "minorgridcolor": "white",
             "startlinecolor": "rgb(51,51,51)"
            },
            "baxis": {
             "endlinecolor": "rgb(51,51,51)",
             "gridcolor": "white",
             "linecolor": "white",
             "minorgridcolor": "white",
             "startlinecolor": "rgb(51,51,51)"
            },
            "type": "carpet"
           }
          ],
          "choropleth": [
           {
            "colorbar": {
             "outlinewidth": 0,
             "tickcolor": "rgb(237,237,237)",
             "ticklen": 6,
             "ticks": "inside"
            },
            "type": "choropleth"
           }
          ],
          "contour": [
           {
            "colorbar": {
             "outlinewidth": 0,
             "tickcolor": "rgb(237,237,237)",
             "ticklen": 6,
             "ticks": "inside"
            },
            "colorscale": [
             [
              0,
              "rgb(20,44,66)"
             ],
             [
              1,
              "rgb(90,179,244)"
             ]
            ],
            "type": "contour"
           }
          ],
          "contourcarpet": [
           {
            "colorbar": {
             "outlinewidth": 0,
             "tickcolor": "rgb(237,237,237)",
             "ticklen": 6,
             "ticks": "inside"
            },
            "type": "contourcarpet"
           }
          ],
          "heatmap": [
           {
            "colorbar": {
             "outlinewidth": 0,
             "tickcolor": "rgb(237,237,237)",
             "ticklen": 6,
             "ticks": "inside"
            },
            "colorscale": [
             [
              0,
              "rgb(20,44,66)"
             ],
             [
              1,
              "rgb(90,179,244)"
             ]
            ],
            "type": "heatmap"
           }
          ],
          "heatmapgl": [
           {
            "colorbar": {
             "outlinewidth": 0,
             "tickcolor": "rgb(237,237,237)",
             "ticklen": 6,
             "ticks": "inside"
            },
            "colorscale": [
             [
              0,
              "rgb(20,44,66)"
             ],
             [
              1,
              "rgb(90,179,244)"
             ]
            ],
            "type": "heatmapgl"
           }
          ],
          "histogram": [
           {
            "marker": {
             "pattern": {
              "fillmode": "overlay",
              "size": 10,
              "solidity": 0.2
             }
            },
            "type": "histogram"
           }
          ],
          "histogram2d": [
           {
            "colorbar": {
             "outlinewidth": 0,
             "tickcolor": "rgb(237,237,237)",
             "ticklen": 6,
             "ticks": "inside"
            },
            "colorscale": [
             [
              0,
              "rgb(20,44,66)"
             ],
             [
              1,
              "rgb(90,179,244)"
             ]
            ],
            "type": "histogram2d"
           }
          ],
          "histogram2dcontour": [
           {
            "colorbar": {
             "outlinewidth": 0,
             "tickcolor": "rgb(237,237,237)",
             "ticklen": 6,
             "ticks": "inside"
            },
            "colorscale": [
             [
              0,
              "rgb(20,44,66)"
             ],
             [
              1,
              "rgb(90,179,244)"
             ]
            ],
            "type": "histogram2dcontour"
           }
          ],
          "mesh3d": [
           {
            "colorbar": {
             "outlinewidth": 0,
             "tickcolor": "rgb(237,237,237)",
             "ticklen": 6,
             "ticks": "inside"
            },
            "type": "mesh3d"
           }
          ],
          "parcoords": [
           {
            "line": {
             "colorbar": {
              "outlinewidth": 0,
              "tickcolor": "rgb(237,237,237)",
              "ticklen": 6,
              "ticks": "inside"
             }
            },
            "type": "parcoords"
           }
          ],
          "pie": [
           {
            "automargin": true,
            "type": "pie"
           }
          ],
          "scatter": [
           {
            "fillpattern": {
             "fillmode": "overlay",
             "size": 10,
             "solidity": 0.2
            },
            "type": "scatter"
           }
          ],
          "scatter3d": [
           {
            "line": {
             "colorbar": {
              "outlinewidth": 0,
              "tickcolor": "rgb(237,237,237)",
              "ticklen": 6,
              "ticks": "inside"
             }
            },
            "marker": {
             "colorbar": {
              "outlinewidth": 0,
              "tickcolor": "rgb(237,237,237)",
              "ticklen": 6,
              "ticks": "inside"
             }
            },
            "type": "scatter3d"
           }
          ],
          "scattercarpet": [
           {
            "marker": {
             "colorbar": {
              "outlinewidth": 0,
              "tickcolor": "rgb(237,237,237)",
              "ticklen": 6,
              "ticks": "inside"
             }
            },
            "type": "scattercarpet"
           }
          ],
          "scattergeo": [
           {
            "marker": {
             "colorbar": {
              "outlinewidth": 0,
              "tickcolor": "rgb(237,237,237)",
              "ticklen": 6,
              "ticks": "inside"
             }
            },
            "type": "scattergeo"
           }
          ],
          "scattergl": [
           {
            "marker": {
             "colorbar": {
              "outlinewidth": 0,
              "tickcolor": "rgb(237,237,237)",
              "ticklen": 6,
              "ticks": "inside"
             }
            },
            "type": "scattergl"
           }
          ],
          "scattermapbox": [
           {
            "marker": {
             "colorbar": {
              "outlinewidth": 0,
              "tickcolor": "rgb(237,237,237)",
              "ticklen": 6,
              "ticks": "inside"
             }
            },
            "type": "scattermapbox"
           }
          ],
          "scatterpolar": [
           {
            "marker": {
             "colorbar": {
              "outlinewidth": 0,
              "tickcolor": "rgb(237,237,237)",
              "ticklen": 6,
              "ticks": "inside"
             }
            },
            "type": "scatterpolar"
           }
          ],
          "scatterpolargl": [
           {
            "marker": {
             "colorbar": {
              "outlinewidth": 0,
              "tickcolor": "rgb(237,237,237)",
              "ticklen": 6,
              "ticks": "inside"
             }
            },
            "type": "scatterpolargl"
           }
          ],
          "scatterternary": [
           {
            "marker": {
             "colorbar": {
              "outlinewidth": 0,
              "tickcolor": "rgb(237,237,237)",
              "ticklen": 6,
              "ticks": "inside"
             }
            },
            "type": "scatterternary"
           }
          ],
          "surface": [
           {
            "colorbar": {
             "outlinewidth": 0,
             "tickcolor": "rgb(237,237,237)",
             "ticklen": 6,
             "ticks": "inside"
            },
            "colorscale": [
             [
              0,
              "rgb(20,44,66)"
             ],
             [
              1,
              "rgb(90,179,244)"
             ]
            ],
            "type": "surface"
           }
          ],
          "table": [
           {
            "cells": {
             "fill": {
              "color": "rgb(237,237,237)"
             },
             "line": {
              "color": "white"
             }
            },
            "header": {
             "fill": {
              "color": "rgb(217,217,217)"
             },
             "line": {
              "color": "white"
             }
            },
            "type": "table"
           }
          ]
         },
         "layout": {
          "annotationdefaults": {
           "arrowhead": 0,
           "arrowwidth": 1
          },
          "autotypenumbers": "strict",
          "coloraxis": {
           "colorbar": {
            "outlinewidth": 0,
            "tickcolor": "rgb(237,237,237)",
            "ticklen": 6,
            "ticks": "inside"
           }
          },
          "colorscale": {
           "sequential": [
            [
             0,
             "rgb(20,44,66)"
            ],
            [
             1,
             "rgb(90,179,244)"
            ]
           ],
           "sequentialminus": [
            [
             0,
             "rgb(20,44,66)"
            ],
            [
             1,
             "rgb(90,179,244)"
            ]
           ]
          },
          "colorway": [
           "#F8766D",
           "#A3A500",
           "#00BF7D",
           "#00B0F6",
           "#E76BF3"
          ],
          "font": {
           "color": "rgb(51,51,51)"
          },
          "geo": {
           "bgcolor": "white",
           "lakecolor": "white",
           "landcolor": "rgb(237,237,237)",
           "showlakes": true,
           "showland": true,
           "subunitcolor": "white"
          },
          "hoverlabel": {
           "align": "left"
          },
          "hovermode": "closest",
          "paper_bgcolor": "white",
          "plot_bgcolor": "rgb(237,237,237)",
          "polar": {
           "angularaxis": {
            "gridcolor": "white",
            "linecolor": "white",
            "showgrid": true,
            "tickcolor": "rgb(51,51,51)",
            "ticks": "outside"
           },
           "bgcolor": "rgb(237,237,237)",
           "radialaxis": {
            "gridcolor": "white",
            "linecolor": "white",
            "showgrid": true,
            "tickcolor": "rgb(51,51,51)",
            "ticks": "outside"
           }
          },
          "scene": {
           "xaxis": {
            "backgroundcolor": "rgb(237,237,237)",
            "gridcolor": "white",
            "gridwidth": 2,
            "linecolor": "white",
            "showbackground": true,
            "showgrid": true,
            "tickcolor": "rgb(51,51,51)",
            "ticks": "outside",
            "zerolinecolor": "white"
           },
           "yaxis": {
            "backgroundcolor": "rgb(237,237,237)",
            "gridcolor": "white",
            "gridwidth": 2,
            "linecolor": "white",
            "showbackground": true,
            "showgrid": true,
            "tickcolor": "rgb(51,51,51)",
            "ticks": "outside",
            "zerolinecolor": "white"
           },
           "zaxis": {
            "backgroundcolor": "rgb(237,237,237)",
            "gridcolor": "white",
            "gridwidth": 2,
            "linecolor": "white",
            "showbackground": true,
            "showgrid": true,
            "tickcolor": "rgb(51,51,51)",
            "ticks": "outside",
            "zerolinecolor": "white"
           }
          },
          "shapedefaults": {
           "fillcolor": "black",
           "line": {
            "width": 0
           },
           "opacity": 0.3
          },
          "ternary": {
           "aaxis": {
            "gridcolor": "white",
            "linecolor": "white",
            "showgrid": true,
            "tickcolor": "rgb(51,51,51)",
            "ticks": "outside"
           },
           "baxis": {
            "gridcolor": "white",
            "linecolor": "white",
            "showgrid": true,
            "tickcolor": "rgb(51,51,51)",
            "ticks": "outside"
           },
           "bgcolor": "rgb(237,237,237)",
           "caxis": {
            "gridcolor": "white",
            "linecolor": "white",
            "showgrid": true,
            "tickcolor": "rgb(51,51,51)",
            "ticks": "outside"
           }
          },
          "xaxis": {
           "automargin": true,
           "gridcolor": "white",
           "linecolor": "white",
           "showgrid": true,
           "tickcolor": "rgb(51,51,51)",
           "ticks": "outside",
           "title": {
            "standoff": 15
           },
           "zerolinecolor": "white"
          },
          "yaxis": {
           "automargin": true,
           "gridcolor": "white",
           "linecolor": "white",
           "showgrid": true,
           "tickcolor": "rgb(51,51,51)",
           "ticks": "outside",
           "title": {
            "standoff": 15
           },
           "zerolinecolor": "white"
          }
         }
        },
        "title": {
         "text": "Gene filtering v3 vs v4. Comp between TCGA408_classifier, KMeans_labels_6, RawKMeans_CS_7_std, RawKMeans_CS_7_rwd, consensus"
        },
        "xaxis": {
         "showgrid": false,
         "visible": false,
         "zeroline": false
        },
        "yaxis": {
         "showgrid": false,
         "visible": false,
         "zeroline": false
        }
       }
      }
     },
     "metadata": {},
     "output_type": "display_data"
    }
   ],
   "source": [
    "num_1, num_2 = 7, 13\n",
    "model_1, model_2 = f\"RawKMeans_CS_{num_1}\", f\"RawKMeans_CS_{num_2}\"\n",
    "\n",
    "dmy_all = pd.concat([std_cs_exp[[f\"{model_1}_std\", f\"{model_2}_std\"]], rwd_cs_exp[[f\"{model_1}_rwd\", f\"{model_2}_rwd\"]]], axis=1).dropna()\n",
    "dmy_all = pd.concat([dmy_all, vu_output], axis=1).dropna()\n",
    "\n",
    "reorder_cols = [\n",
    "    \"TCGA408_classifier\",\n",
    "    \"KMeans_labels_6\",\n",
    "    f\"RawKMeans_CS_{num_1}_std\",\n",
    "    f\"RawKMeans_CS_{num_1}_rwd\",\n",
    "    \"consensus\",\n",
    "]\n",
    "meta = sky.main(df=dmy_all, reorder_cols=reorder_cols, title=f'Gene filtering v3 vs v4. Comp between {\", \".join(reorder_cols)}', retMeta=False)"
   ]
  },
  {
   "cell_type": "markdown",
   "metadata": {},
   "source": [
    "## Community comparison"
   ]
  },
  {
   "cell_type": "code",
   "execution_count": 30,
   "metadata": {},
   "outputs": [],
   "source": [
    "%autoreload 2\n",
    "# Rename so that are easier to follow. the max_b_standard_5K_6TF_hsbm are also stored in comp_std_net in 'source' property\n",
    "comp_std_net.comp_df[\"max_b_standard_5K_6TF_hsbm\"] = hsbm_v3.combined_nodes[\"max_b_standard_5K_6TF_hsbm\"].str.replace(\"standard_5K_6TF_hsbm_\", \"std\")\n",
    "comp_std_net.comp_df[\"max_b_sigmoid_5K_6TF_hsbm\"] = hsbm_v3.combined_nodes[\"max_b_sigmoid_5K_6TF_hsbm\"].str.replace(\"sigmoid_5K_6TF_hsbm_\", \"sig\")\n",
    "\n",
    "comp_dict = comp_std_net.comp_ge_comm()\n",
    "# for key, df in comp_dict.items():\n",
    "#     fig = px.box(df, x=\"Comm\", y=\"Median\", color=\"Comm\", title=\"Median values in communities for {}\".format(key), points=\"all\")\n",
    "#     fig.show()\n",
    "\n",
    "fig = comp_std_net.sankey_plot()\n",
    "fig = fig.update_layout(height=1200)\n",
    "\n",
    "# display(comp_std_net.membership_change(include_source=True))"
   ]
  },
  {
   "cell_type": "markdown",
   "metadata": {},
   "source": [
    "# hSBM visualisation"
   ]
  },
  {
   "cell_type": "code",
   "execution_count": 31,
   "metadata": {},
   "outputs": [],
   "source": [
    "sel_gt: GtExp = hsbm_v3.exps[\"sigmoid_5K_6TF_hsbm\"]\n",
    "gt_g: gt.Graph = sel_gt.gt_g\n",
    "\n",
    "com_df, _ = sel_gt.hsbm_get_gt_df()\n",
    "sel_gt.graph_type = \"sbm\"\n",
    "sel_gt.nodes_df[\"node_idx\"] = com_df[\"node_idx\"]\n",
    "sel_gt.nodes_df[\"max_b\"] = com_df[\"max_b\"]\n",
    "\n",
    "sel_gt.hsbm_add_vp(mut_df=tcga_mutations_df)\n",
    "sel_gt.add_gt_prop_draw(sel_gt.gt_g, com_df=com_df, tf_list=tf_list)\n",
    "\n",
    "gt_state: gt.NestedBlockState = sel_gt.hstateObj[\"state\"]\n",
    "pv = sel_gt.hstateObj[\"pv\"]\n",
    "\n",
    "vp_dg = gt_g.degree_property_map(deg=\"total\", weight=gt_g.ep[\"weight\"])"
   ]
  },
  {
   "cell_type": "code",
   "execution_count": 32,
   "metadata": {},
   "outputs": [],
   "source": [
    "sel_gt.gt_g.set_vertex_filter(None)\n",
    "coms = list(sel_com_genes[\"max_b\"].astype(int).unique())\n",
    "sel_gt.show_comms(communities=coms[:])\n",
    "# sel_gt.gt_g.set_vertex_filter(None)\n",
    "\n",
    "# gene = \"AHR\"\n",
    "# neigbhors = sel_gt.filter_graph(gene=gene)"
   ]
  },
  {
   "cell_type": "code",
   "execution_count": 63,
   "metadata": {},
   "outputs": [
    {
     "ename": "RuntimeError",
     "evalue": "Invalid hierarchical tree: No path from source to target.",
     "output_type": "error",
     "traceback": [
      "\u001b[0;31m---------------------------------------------------------------------------\u001b[0m",
      "\u001b[0;31mRuntimeError\u001b[0m                              Traceback (most recent call last)",
      "File \u001b[0;32m~/opt/anaconda3/envs/iNet_gt/lib/python3.11/site-packages/graph_tool/draw/gtk_draw.py:466\u001b[0m, in \u001b[0;36mGraphWidget.layout_callback\u001b[0;34m(self)\u001b[0m\n\u001b[1;32m    462\u001b[0m delta \u001b[38;5;241m=\u001b[39m np\u001b[38;5;241m.\u001b[39msqrt((pos_temp[\u001b[38;5;241m0\u001b[39m]\u001b[38;5;241m.\u001b[39mfa \u001b[38;5;241m-\u001b[39m ps[\u001b[38;5;241m0\u001b[39m]\u001b[38;5;241m.\u001b[39mfa) \u001b[38;5;241m*\u001b[39m\u001b[38;5;241m*\u001b[39m \u001b[38;5;241m2\u001b[39m \u001b[38;5;241m+\u001b[39m\n\u001b[1;32m    463\u001b[0m                 (pos_temp[\u001b[38;5;241m1\u001b[39m]\u001b[38;5;241m.\u001b[39mfa \u001b[38;5;241m-\u001b[39m ps[\u001b[38;5;241m1\u001b[39m]\u001b[38;5;241m.\u001b[39mfa) \u001b[38;5;241m*\u001b[39m\u001b[38;5;241m*\u001b[39m \u001b[38;5;241m2\u001b[39m)\u001b[38;5;241m.\u001b[39mmean()\n\u001b[1;32m    465\u001b[0m \u001b[38;5;28;01mif\u001b[39;00m \u001b[38;5;28mself\u001b[39m\u001b[38;5;241m.\u001b[39mlayout_user_callback \u001b[38;5;129;01mis\u001b[39;00m \u001b[38;5;129;01mnot\u001b[39;00m \u001b[38;5;28;01mNone\u001b[39;00m:\n\u001b[0;32m--> 466\u001b[0m     \u001b[38;5;28;43mself\u001b[39;49m\u001b[38;5;241;43m.\u001b[39;49m\u001b[43mlayout_user_callback\u001b[49m\u001b[43m(\u001b[49m\u001b[38;5;28;43mself\u001b[39;49m\u001b[43m,\u001b[49m\u001b[43m \u001b[49m\u001b[38;5;28;43mself\u001b[39;49m\u001b[38;5;241;43m.\u001b[39;49m\u001b[43mg\u001b[49m\u001b[43m,\u001b[49m\u001b[43m \u001b[49m\u001b[38;5;28;43mself\u001b[39;49m\u001b[38;5;241;43m.\u001b[39;49m\u001b[43mpicked\u001b[49m\u001b[43m,\u001b[49m\u001b[43m \u001b[49m\u001b[38;5;28;43mself\u001b[39;49m\u001b[38;5;241;43m.\u001b[39;49m\u001b[43mpos\u001b[49m\u001b[43m,\u001b[49m\n\u001b[1;32m    467\u001b[0m \u001b[43m                              \u001b[49m\u001b[38;5;28;43mself\u001b[39;49m\u001b[38;5;241;43m.\u001b[39;49m\u001b[43mvprops\u001b[49m\u001b[43m,\u001b[49m\u001b[43m \u001b[49m\u001b[38;5;28;43mself\u001b[39;49m\u001b[38;5;241;43m.\u001b[39;49m\u001b[43meprops\u001b[49m\u001b[43m)\u001b[49m\n\u001b[1;32m    469\u001b[0m \u001b[38;5;28;01mif\u001b[39;00m delta \u001b[38;5;241m>\u001b[39m \u001b[38;5;28mself\u001b[39m\u001b[38;5;241m.\u001b[39mepsilon:\n\u001b[1;32m    470\u001b[0m     \u001b[38;5;28;01mreturn\u001b[39;00m \u001b[38;5;28;01mTrue\u001b[39;00m\n",
      "File \u001b[0;32m~/opt/anaconda3/envs/iNet_gt/lib/python3.11/site-packages/graph_tool/draw/cairo_draw.py:2096\u001b[0m, in \u001b[0;36mdraw_hierarchy.<locals>.update_cts\u001b[0;34m(widget, gg, picked, pos, vprops, eprops)\u001b[0m\n\u001b[1;32m   2094\u001b[0m u \u001b[38;5;241m=\u001b[39m GraphView(gg, directed\u001b[38;5;241m=\u001b[39m\u001b[38;5;28;01mFalse\u001b[39;00m, vfilt\u001b[38;5;241m=\u001b[39mvmask\u001b[38;5;241m.\u001b[39mfa \u001b[38;5;241m<\u001b[39m g\u001b[38;5;241m.\u001b[39mnum_vertices(\u001b[38;5;28;01mTrue\u001b[39;00m))\n\u001b[1;32m   2095\u001b[0m cts \u001b[38;5;241m=\u001b[39m eprops[\u001b[38;5;124m\"\u001b[39m\u001b[38;5;124mcontrol_points\u001b[39m\u001b[38;5;124m\"\u001b[39m]\n\u001b[0;32m-> 2096\u001b[0m \u001b[43mget_hierarchy_control_points\u001b[49m\u001b[43m(\u001b[49m\u001b[43mu\u001b[49m\u001b[43m,\u001b[49m\u001b[43m \u001b[49m\u001b[43mt_orig\u001b[49m\u001b[43m,\u001b[49m\u001b[43m \u001b[49m\u001b[43mpos\u001b[49m\u001b[43m,\u001b[49m\u001b[43m \u001b[49m\u001b[43mbeta\u001b[49m\u001b[43m,\u001b[49m\u001b[43m \u001b[49m\u001b[43mcts\u001b[49m\u001b[38;5;241;43m=\u001b[39;49m\u001b[43mcts\u001b[49m\u001b[43m,\u001b[49m\n\u001b[1;32m   2097\u001b[0m \u001b[43m                             \u001b[49m\u001b[43mmax_depth\u001b[49m\u001b[38;5;241;43m=\u001b[39;49m\u001b[38;5;28;43mlen\u001b[39;49m\u001b[43m(\u001b[49m\u001b[43mstate\u001b[49m\u001b[38;5;241;43m.\u001b[39;49m\u001b[43mlevels\u001b[49m\u001b[43m)\u001b[49m\u001b[43m \u001b[49m\u001b[38;5;241;43m-\u001b[39;49m\u001b[43m \u001b[49m\u001b[43mhshortcuts\u001b[49m\u001b[43m)\u001b[49m\n",
      "File \u001b[0;32m~/opt/anaconda3/envs/iNet_gt/lib/python3.11/site-packages/graph_tool/draw/cairo_draw.py:1520\u001b[0m, in \u001b[0;36mget_hierarchy_control_points\u001b[0;34m(g, t, tpos, beta, cts, is_tree, max_depth)\u001b[0m\n\u001b[1;32m   1518\u001b[0m tu \u001b[38;5;241m=\u001b[39m GraphView(tu, skip_vfilt\u001b[38;5;241m=\u001b[39m\u001b[38;5;28;01mTrue\u001b[39;00m)\n\u001b[1;32m   1519\u001b[0m tpos \u001b[38;5;241m=\u001b[39m tu\u001b[38;5;241m.\u001b[39mown_property(tpos)\n\u001b[0;32m-> 1520\u001b[0m \u001b[43mlibgraph_tool_draw\u001b[49m\u001b[38;5;241;43m.\u001b[39;49m\u001b[43mget_cts\u001b[49m\u001b[43m(\u001b[49m\u001b[43mu\u001b[49m\u001b[38;5;241;43m.\u001b[39;49m\u001b[43m_Graph__graph\u001b[49m\u001b[43m,\u001b[49m\n\u001b[1;32m   1521\u001b[0m \u001b[43m                           \u001b[49m\u001b[43mtu\u001b[49m\u001b[38;5;241;43m.\u001b[39;49m\u001b[43m_Graph__graph\u001b[49m\u001b[43m,\u001b[49m\n\u001b[1;32m   1522\u001b[0m \u001b[43m                           \u001b[49m\u001b[43m_prop\u001b[49m\u001b[43m(\u001b[49m\u001b[38;5;124;43m\"\u001b[39;49m\u001b[38;5;124;43mv\u001b[39;49m\u001b[38;5;124;43m\"\u001b[39;49m\u001b[43m,\u001b[49m\u001b[43m \u001b[49m\u001b[43mtu\u001b[49m\u001b[43m,\u001b[49m\u001b[43m \u001b[49m\u001b[43mtpos\u001b[49m\u001b[43m)\u001b[49m\u001b[43m,\u001b[49m\n\u001b[1;32m   1523\u001b[0m \u001b[43m                           \u001b[49m\u001b[43m_prop\u001b[49m\u001b[43m(\u001b[49m\u001b[38;5;124;43m\"\u001b[39;49m\u001b[38;5;124;43me\u001b[39;49m\u001b[38;5;124;43m\"\u001b[39;49m\u001b[43m,\u001b[49m\u001b[43m \u001b[49m\u001b[43mu\u001b[49m\u001b[43m,\u001b[49m\u001b[43m \u001b[49m\u001b[43mbeta\u001b[49m\u001b[43m)\u001b[49m\u001b[43m,\u001b[49m\n\u001b[1;32m   1524\u001b[0m \u001b[43m                           \u001b[49m\u001b[43m_prop\u001b[49m\u001b[43m(\u001b[49m\u001b[38;5;124;43m\"\u001b[39;49m\u001b[38;5;124;43me\u001b[39;49m\u001b[38;5;124;43m\"\u001b[39;49m\u001b[43m,\u001b[49m\u001b[43m \u001b[49m\u001b[43mu\u001b[49m\u001b[43m,\u001b[49m\u001b[43m \u001b[49m\u001b[43mcts\u001b[49m\u001b[43m)\u001b[49m\u001b[43m,\u001b[49m\n\u001b[1;32m   1525\u001b[0m \u001b[43m                           \u001b[49m\u001b[43mis_tree\u001b[49m\u001b[43m,\u001b[49m\u001b[43m \u001b[49m\u001b[43mmax_depth\u001b[49m\u001b[43m)\u001b[49m\n\u001b[1;32m   1526\u001b[0m \u001b[38;5;28;01mreturn\u001b[39;00m cts\n",
      "\u001b[0;31mRuntimeError\u001b[0m: Invalid hierarchical tree: No path from source to target."
     ]
    },
    {
     "ename": "ValueError",
     "evalue": "Invalid vertex index: 7477",
     "output_type": "error",
     "traceback": [
      "\u001b[0;31m---------------------------------------------------------------------------\u001b[0m",
      "\u001b[0;31mValueError\u001b[0m                                Traceback (most recent call last)",
      "File \u001b[0;32m~/opt/anaconda3/envs/iNet_gt/lib/python3.11/site-packages/graph_tool/draw/gtk_draw.py:1120\u001b[0m, in \u001b[0;36mGraphWidget.key_release_event\u001b[0;34m(self, widget, event)\u001b[0m\n\u001b[1;32m   1117\u001b[0m     \u001b[38;5;28;01mreturn\u001b[39;00m\n\u001b[1;32m   1119\u001b[0m \u001b[38;5;28;01mif\u001b[39;00m \u001b[38;5;28mself\u001b[39m\u001b[38;5;241m.\u001b[39mkey_press_user_callback \u001b[38;5;129;01mis\u001b[39;00m \u001b[38;5;129;01mnot\u001b[39;00m \u001b[38;5;28;01mNone\u001b[39;00m:\n\u001b[0;32m-> 1120\u001b[0m     \u001b[38;5;28;43mself\u001b[39;49m\u001b[38;5;241;43m.\u001b[39;49m\u001b[43mkey_press_user_callback\u001b[49m\u001b[43m(\u001b[49m\u001b[38;5;28;43mself\u001b[39;49m\u001b[43m,\u001b[49m\u001b[43m \u001b[49m\u001b[38;5;28;43mself\u001b[39;49m\u001b[38;5;241;43m.\u001b[39;49m\u001b[43mg\u001b[49m\u001b[43m,\u001b[49m\u001b[43m \u001b[49m\u001b[43mevent\u001b[49m\u001b[38;5;241;43m.\u001b[39;49m\u001b[43mkeyval\u001b[49m\u001b[43m,\u001b[49m\n\u001b[1;32m   1121\u001b[0m \u001b[43m                                 \u001b[49m\u001b[38;5;28;43mself\u001b[39;49m\u001b[38;5;241;43m.\u001b[39;49m\u001b[43mpicked\u001b[49m\u001b[43m,\u001b[49m\u001b[43m \u001b[49m\u001b[38;5;28;43mself\u001b[39;49m\u001b[38;5;241;43m.\u001b[39;49m\u001b[43mpos\u001b[49m\u001b[43m,\u001b[49m\u001b[43m \u001b[49m\u001b[38;5;28;43mself\u001b[39;49m\u001b[38;5;241;43m.\u001b[39;49m\u001b[43mvprops\u001b[49m\u001b[43m,\u001b[49m\n\u001b[1;32m   1122\u001b[0m \u001b[43m                                 \u001b[49m\u001b[38;5;28;43mself\u001b[39;49m\u001b[38;5;241;43m.\u001b[39;49m\u001b[43meprops\u001b[49m\u001b[43m)\u001b[49m\n\u001b[1;32m   1124\u001b[0m \u001b[38;5;28;01mif\u001b[39;00m event\u001b[38;5;241m.\u001b[39mkeyval \u001b[38;5;241m==\u001b[39m \u001b[38;5;241m65507\u001b[39m: \u001b[38;5;66;03m# Control_L\u001b[39;00m\n\u001b[1;32m   1125\u001b[0m     \u001b[38;5;28;01mif\u001b[39;00m \u001b[38;5;28mself\u001b[39m\u001b[38;5;241m.\u001b[39mmoved_picked:\n",
      "File \u001b[0;32m~/opt/anaconda3/envs/iNet_gt/lib/python3.11/site-packages/graph_tool/draw/cairo_draw.py:2155\u001b[0m, in \u001b[0;36mdraw_hierarchy.<locals>.draw_branch\u001b[0;34m(widget, gg, key_id, picked, pos, vprops, eprops)\u001b[0m\n\u001b[1;32m   2152\u001b[0m     angle \u001b[38;5;241m=\u001b[39m t_orig\u001b[38;5;241m.\u001b[39mnew_vertex_property(\u001b[38;5;124m\"\u001b[39m\u001b[38;5;124mdouble\u001b[39m\u001b[38;5;124m\"\u001b[39m)\n\u001b[1;32m   2153\u001b[0m     angle\u001b[38;5;241m.\u001b[39mfa \u001b[38;5;241m=\u001b[39m (numpy\u001b[38;5;241m.\u001b[39marctan2(y\u001b[38;5;241m.\u001b[39mfa, x\u001b[38;5;241m.\u001b[39mfa) \u001b[38;5;241m+\u001b[39m \u001b[38;5;241m2\u001b[39m \u001b[38;5;241m*\u001b[39m numpy\u001b[38;5;241m.\u001b[39mpi) \u001b[38;5;241m%\u001b[39m (\u001b[38;5;241m2\u001b[39m \u001b[38;5;241m*\u001b[39m numpy\u001b[38;5;241m.\u001b[39mpi)\n\u001b[1;32m   2154\u001b[0m     tpos \u001b[38;5;241m=\u001b[39m radial_tree_layout(t_orig,\n\u001b[0;32m-> 2155\u001b[0m                               root\u001b[38;5;241m=\u001b[39m\u001b[43mt_orig\u001b[49m\u001b[38;5;241;43m.\u001b[39;49m\u001b[43mvertex\u001b[49m\u001b[43m(\u001b[49m\u001b[43mt_orig\u001b[49m\u001b[38;5;241;43m.\u001b[39;49m\u001b[43mnum_vertices\u001b[49m\u001b[43m(\u001b[49m\u001b[38;5;28;43;01mTrue\u001b[39;49;00m\u001b[43m)\u001b[49m\u001b[43m \u001b[49m\u001b[38;5;241;43m-\u001b[39;49m\u001b[43m \u001b[49m\u001b[38;5;241;43m1\u001b[39;49m\u001b[43m)\u001b[49m,\n\u001b[1;32m   2156\u001b[0m                               rel_order\u001b[38;5;241m=\u001b[39mangle)\n\u001b[1;32m   2157\u001b[0m     gg\u001b[38;5;241m.\u001b[39mcopy_property(gg\u001b[38;5;241m.\u001b[39mown_property(tpos), pos)\n\u001b[1;32m   2159\u001b[0m update_cts(widget, gg, picked, pos, vprops, eprops)\n",
      "File \u001b[0;32m~/opt/anaconda3/envs/iNet_gt/lib/python3.11/site-packages/graph_tool/__init__.py:1984\u001b[0m, in \u001b[0;36mGraph.vertex\u001b[0;34m(self, i, use_index, add_missing)\u001b[0m\n\u001b[1;32m   1982\u001b[0m         \u001b[38;5;28mself\u001b[39m\u001b[38;5;241m.\u001b[39madd_vertex(\u001b[38;5;28mint\u001b[39m(i) \u001b[38;5;241m-\u001b[39m \u001b[38;5;28mself\u001b[39m\u001b[38;5;241m.\u001b[39mnum_vertices(use_index) \u001b[38;5;241m+\u001b[39m \u001b[38;5;241m1\u001b[39m)\n\u001b[1;32m   1983\u001b[0m         \u001b[38;5;28;01mreturn\u001b[39;00m \u001b[38;5;28mself\u001b[39m\u001b[38;5;241m.\u001b[39mvertex(\u001b[38;5;28mint\u001b[39m(i), use_index)\n\u001b[0;32m-> 1984\u001b[0m     \u001b[38;5;28;01mraise\u001b[39;00m \u001b[38;5;167;01mValueError\u001b[39;00m(\u001b[38;5;124m\"\u001b[39m\u001b[38;5;124mInvalid vertex index: \u001b[39m\u001b[38;5;132;01m%d\u001b[39;00m\u001b[38;5;124m\"\u001b[39m \u001b[38;5;241m%\u001b[39m \u001b[38;5;28mint\u001b[39m(i))\n\u001b[1;32m   1985\u001b[0m \u001b[38;5;28;01mreturn\u001b[39;00m v\n",
      "\u001b[0;31mValueError\u001b[0m: Invalid vertex index: 7477"
     ]
    }
   ],
   "source": [
    "draw_results = gt_state.draw(\n",
    "    # pos=pos,\n",
    "    # layout=\"sfdp\",\n",
    "    # vertex_shape=\"pie\",\n",
    "    # vertex_pie_fractions=pv,\n",
    "    inline=False,\n",
    "    # vertex_color=gt_g.vp[\"colors_rank\"],\n",
    "    # vertex_color=gt.prop_to_size(gt_g.vp[\"modCon_rank\"], 0, 100, power=0.1),\n",
    "    vertex_text=gt_g.vp.prcsd_gene,\n",
    "    display_props=gt_g.vp.display_prop,\n",
    "    # subsample_edgesint=int(gt_g.num_edges() * 0.5),\n",
    "    output_size=(1800, 1800),  # good to visualised in Notebook\n",
    "    # ######## For mut_count ########\n",
    "    # vertex_size=gt.prop_to_size((gt_g.vp[\"sel_com\"]), 1, 10, power=0.5),\n",
    "    # vertex_font_size=gt.prop_to_size(gt_g.vp.is_tf, 15, 30, power=0.5),\n",
    "    # vertex_font_size=gt.prop_to_size(gt_g.vp.is_tf, 5, 10, power=0.5),\n",
    "    # edge_pen_width=gt.prop_to_size(gt_g.ep.weight, 2, 10, power=1),\n",
    "    # vertex_size=gt.prop_to_size(vp_dg, 35, 35, power=1),\n",
    "    ######## is TF ########\n",
    "    # vertex_size=gt.prop_to_size(gt_g.vp.is_tf, 10, 30, power=0.5),\n",
    "    # vertex_font_size=gt.prop_to_size(gt_g.vp.mut_count, 5, 20, power=1),\n",
    "    ##### edges properties\n",
    "    # edge_pen_width=gt.prop_to_size(gt_g.ep.weight, 5, 10, power=0.01, log=True),\n",
    "    # output=f\"{figures_path}/sel_communities.png\",\n",
    "    # hide=0,\n",
    "    update_layout=True,\n",
    "    nodesfirst=False,\n",
    "    # beta=0.7,\n",
    "    # chord_scale=5,\n",
    "    # display_props_size=16,\n",
    ")"
   ]
  },
  {
   "cell_type": "markdown",
   "metadata": {},
   "source": [
    "# Others"
   ]
  },
  {
   "cell_type": "markdown",
   "metadata": {},
   "source": [
    "## Wobble genes"
   ]
  },
  {
   "cell_type": "code",
   "execution_count": 358,
   "metadata": {},
   "outputs": [
    {
     "data": {
      "application/vnd.plotly.v1+json": {
       "config": {
        "plotlyServerURL": "https://plot.ly"
       },
       "data": [
        {
         "alignmentgroup": "True",
         "hovertemplate": "variable=count<br>max_b=%{x}<br>value=%{y}<extra></extra>",
         "legendgroup": "count",
         "marker": {
          "color": "#F8766D",
          "pattern": {
           "shape": ""
          }
         },
         "name": "count",
         "offsetgroup": "count",
         "orientation": "v",
         "showlegend": true,
         "textposition": "auto",
         "texttemplate": "%{y}",
         "type": "bar",
         "x": [
          0,
          1,
          2,
          3,
          4,
          5,
          6,
          7,
          8,
          9,
          10,
          11,
          12,
          13,
          14,
          15,
          16,
          17,
          18,
          19,
          20,
          21,
          22,
          23,
          24,
          25,
          26,
          27,
          28,
          29,
          30,
          31,
          32,
          33,
          34,
          35,
          36,
          37,
          38,
          39,
          40,
          41,
          42,
          43,
          44
         ],
         "xaxis": "x",
         "y": [
          null,
          null,
          null,
          null,
          7,
          null,
          null,
          null,
          null,
          1,
          null,
          1,
          null,
          8,
          25,
          null,
          null,
          15,
          null,
          12,
          7,
          6,
          18,
          86,
          3,
          null,
          35,
          4,
          null,
          24,
          null,
          5,
          null,
          1,
          46,
          84,
          11,
          44,
          9,
          14,
          6,
          1,
          null,
          68,
          8
         ],
         "yaxis": "y"
        }
       ],
       "layout": {
        "barmode": "group",
        "legend": {
         "title": {
          "text": "variable"
         },
         "tracegroupgap": 0
        },
        "template": {
         "data": {
          "bar": [
           {
            "error_x": {
             "color": "rgb(51,51,51)"
            },
            "error_y": {
             "color": "rgb(51,51,51)"
            },
            "marker": {
             "line": {
              "color": "rgb(237,237,237)",
              "width": 0.5
             },
             "pattern": {
              "fillmode": "overlay",
              "size": 10,
              "solidity": 0.2
             }
            },
            "type": "bar"
           }
          ],
          "barpolar": [
           {
            "marker": {
             "line": {
              "color": "rgb(237,237,237)",
              "width": 0.5
             },
             "pattern": {
              "fillmode": "overlay",
              "size": 10,
              "solidity": 0.2
             }
            },
            "type": "barpolar"
           }
          ],
          "carpet": [
           {
            "aaxis": {
             "endlinecolor": "rgb(51,51,51)",
             "gridcolor": "white",
             "linecolor": "white",
             "minorgridcolor": "white",
             "startlinecolor": "rgb(51,51,51)"
            },
            "baxis": {
             "endlinecolor": "rgb(51,51,51)",
             "gridcolor": "white",
             "linecolor": "white",
             "minorgridcolor": "white",
             "startlinecolor": "rgb(51,51,51)"
            },
            "type": "carpet"
           }
          ],
          "choropleth": [
           {
            "colorbar": {
             "outlinewidth": 0,
             "tickcolor": "rgb(237,237,237)",
             "ticklen": 6,
             "ticks": "inside"
            },
            "type": "choropleth"
           }
          ],
          "contour": [
           {
            "colorbar": {
             "outlinewidth": 0,
             "tickcolor": "rgb(237,237,237)",
             "ticklen": 6,
             "ticks": "inside"
            },
            "colorscale": [
             [
              0,
              "rgb(20,44,66)"
             ],
             [
              1,
              "rgb(90,179,244)"
             ]
            ],
            "type": "contour"
           }
          ],
          "contourcarpet": [
           {
            "colorbar": {
             "outlinewidth": 0,
             "tickcolor": "rgb(237,237,237)",
             "ticklen": 6,
             "ticks": "inside"
            },
            "type": "contourcarpet"
           }
          ],
          "heatmap": [
           {
            "colorbar": {
             "outlinewidth": 0,
             "tickcolor": "rgb(237,237,237)",
             "ticklen": 6,
             "ticks": "inside"
            },
            "colorscale": [
             [
              0,
              "rgb(20,44,66)"
             ],
             [
              1,
              "rgb(90,179,244)"
             ]
            ],
            "type": "heatmap"
           }
          ],
          "heatmapgl": [
           {
            "colorbar": {
             "outlinewidth": 0,
             "tickcolor": "rgb(237,237,237)",
             "ticklen": 6,
             "ticks": "inside"
            },
            "colorscale": [
             [
              0,
              "rgb(20,44,66)"
             ],
             [
              1,
              "rgb(90,179,244)"
             ]
            ],
            "type": "heatmapgl"
           }
          ],
          "histogram": [
           {
            "marker": {
             "pattern": {
              "fillmode": "overlay",
              "size": 10,
              "solidity": 0.2
             }
            },
            "type": "histogram"
           }
          ],
          "histogram2d": [
           {
            "colorbar": {
             "outlinewidth": 0,
             "tickcolor": "rgb(237,237,237)",
             "ticklen": 6,
             "ticks": "inside"
            },
            "colorscale": [
             [
              0,
              "rgb(20,44,66)"
             ],
             [
              1,
              "rgb(90,179,244)"
             ]
            ],
            "type": "histogram2d"
           }
          ],
          "histogram2dcontour": [
           {
            "colorbar": {
             "outlinewidth": 0,
             "tickcolor": "rgb(237,237,237)",
             "ticklen": 6,
             "ticks": "inside"
            },
            "colorscale": [
             [
              0,
              "rgb(20,44,66)"
             ],
             [
              1,
              "rgb(90,179,244)"
             ]
            ],
            "type": "histogram2dcontour"
           }
          ],
          "mesh3d": [
           {
            "colorbar": {
             "outlinewidth": 0,
             "tickcolor": "rgb(237,237,237)",
             "ticklen": 6,
             "ticks": "inside"
            },
            "type": "mesh3d"
           }
          ],
          "parcoords": [
           {
            "line": {
             "colorbar": {
              "outlinewidth": 0,
              "tickcolor": "rgb(237,237,237)",
              "ticklen": 6,
              "ticks": "inside"
             }
            },
            "type": "parcoords"
           }
          ],
          "pie": [
           {
            "automargin": true,
            "type": "pie"
           }
          ],
          "scatter": [
           {
            "fillpattern": {
             "fillmode": "overlay",
             "size": 10,
             "solidity": 0.2
            },
            "type": "scatter"
           }
          ],
          "scatter3d": [
           {
            "line": {
             "colorbar": {
              "outlinewidth": 0,
              "tickcolor": "rgb(237,237,237)",
              "ticklen": 6,
              "ticks": "inside"
             }
            },
            "marker": {
             "colorbar": {
              "outlinewidth": 0,
              "tickcolor": "rgb(237,237,237)",
              "ticklen": 6,
              "ticks": "inside"
             }
            },
            "type": "scatter3d"
           }
          ],
          "scattercarpet": [
           {
            "marker": {
             "colorbar": {
              "outlinewidth": 0,
              "tickcolor": "rgb(237,237,237)",
              "ticklen": 6,
              "ticks": "inside"
             }
            },
            "type": "scattercarpet"
           }
          ],
          "scattergeo": [
           {
            "marker": {
             "colorbar": {
              "outlinewidth": 0,
              "tickcolor": "rgb(237,237,237)",
              "ticklen": 6,
              "ticks": "inside"
             }
            },
            "type": "scattergeo"
           }
          ],
          "scattergl": [
           {
            "marker": {
             "colorbar": {
              "outlinewidth": 0,
              "tickcolor": "rgb(237,237,237)",
              "ticklen": 6,
              "ticks": "inside"
             }
            },
            "type": "scattergl"
           }
          ],
          "scattermapbox": [
           {
            "marker": {
             "colorbar": {
              "outlinewidth": 0,
              "tickcolor": "rgb(237,237,237)",
              "ticklen": 6,
              "ticks": "inside"
             }
            },
            "type": "scattermapbox"
           }
          ],
          "scatterpolar": [
           {
            "marker": {
             "colorbar": {
              "outlinewidth": 0,
              "tickcolor": "rgb(237,237,237)",
              "ticklen": 6,
              "ticks": "inside"
             }
            },
            "type": "scatterpolar"
           }
          ],
          "scatterpolargl": [
           {
            "marker": {
             "colorbar": {
              "outlinewidth": 0,
              "tickcolor": "rgb(237,237,237)",
              "ticklen": 6,
              "ticks": "inside"
             }
            },
            "type": "scatterpolargl"
           }
          ],
          "scatterternary": [
           {
            "marker": {
             "colorbar": {
              "outlinewidth": 0,
              "tickcolor": "rgb(237,237,237)",
              "ticklen": 6,
              "ticks": "inside"
             }
            },
            "type": "scatterternary"
           }
          ],
          "surface": [
           {
            "colorbar": {
             "outlinewidth": 0,
             "tickcolor": "rgb(237,237,237)",
             "ticklen": 6,
             "ticks": "inside"
            },
            "colorscale": [
             [
              0,
              "rgb(20,44,66)"
             ],
             [
              1,
              "rgb(90,179,244)"
             ]
            ],
            "type": "surface"
           }
          ],
          "table": [
           {
            "cells": {
             "fill": {
              "color": "rgb(237,237,237)"
             },
             "line": {
              "color": "white"
             }
            },
            "header": {
             "fill": {
              "color": "rgb(217,217,217)"
             },
             "line": {
              "color": "white"
             }
            },
            "type": "table"
           }
          ]
         },
         "layout": {
          "annotationdefaults": {
           "arrowhead": 0,
           "arrowwidth": 1
          },
          "autotypenumbers": "strict",
          "coloraxis": {
           "colorbar": {
            "outlinewidth": 0,
            "tickcolor": "rgb(237,237,237)",
            "ticklen": 6,
            "ticks": "inside"
           }
          },
          "colorscale": {
           "sequential": [
            [
             0,
             "rgb(20,44,66)"
            ],
            [
             1,
             "rgb(90,179,244)"
            ]
           ],
           "sequentialminus": [
            [
             0,
             "rgb(20,44,66)"
            ],
            [
             1,
             "rgb(90,179,244)"
            ]
           ]
          },
          "colorway": [
           "#F8766D",
           "#A3A500",
           "#00BF7D",
           "#00B0F6",
           "#E76BF3"
          ],
          "font": {
           "color": "rgb(51,51,51)"
          },
          "geo": {
           "bgcolor": "white",
           "lakecolor": "white",
           "landcolor": "rgb(237,237,237)",
           "showlakes": true,
           "showland": true,
           "subunitcolor": "white"
          },
          "hoverlabel": {
           "align": "left"
          },
          "hovermode": "closest",
          "paper_bgcolor": "white",
          "plot_bgcolor": "rgb(237,237,237)",
          "polar": {
           "angularaxis": {
            "gridcolor": "white",
            "linecolor": "white",
            "showgrid": true,
            "tickcolor": "rgb(51,51,51)",
            "ticks": "outside"
           },
           "bgcolor": "rgb(237,237,237)",
           "radialaxis": {
            "gridcolor": "white",
            "linecolor": "white",
            "showgrid": true,
            "tickcolor": "rgb(51,51,51)",
            "ticks": "outside"
           }
          },
          "scene": {
           "xaxis": {
            "backgroundcolor": "rgb(237,237,237)",
            "gridcolor": "white",
            "gridwidth": 2,
            "linecolor": "white",
            "showbackground": true,
            "showgrid": true,
            "tickcolor": "rgb(51,51,51)",
            "ticks": "outside",
            "zerolinecolor": "white"
           },
           "yaxis": {
            "backgroundcolor": "rgb(237,237,237)",
            "gridcolor": "white",
            "gridwidth": 2,
            "linecolor": "white",
            "showbackground": true,
            "showgrid": true,
            "tickcolor": "rgb(51,51,51)",
            "ticks": "outside",
            "zerolinecolor": "white"
           },
           "zaxis": {
            "backgroundcolor": "rgb(237,237,237)",
            "gridcolor": "white",
            "gridwidth": 2,
            "linecolor": "white",
            "showbackground": true,
            "showgrid": true,
            "tickcolor": "rgb(51,51,51)",
            "ticks": "outside",
            "zerolinecolor": "white"
           }
          },
          "shapedefaults": {
           "fillcolor": "black",
           "line": {
            "width": 0
           },
           "opacity": 0.3
          },
          "ternary": {
           "aaxis": {
            "gridcolor": "white",
            "linecolor": "white",
            "showgrid": true,
            "tickcolor": "rgb(51,51,51)",
            "ticks": "outside"
           },
           "baxis": {
            "gridcolor": "white",
            "linecolor": "white",
            "showgrid": true,
            "tickcolor": "rgb(51,51,51)",
            "ticks": "outside"
           },
           "bgcolor": "rgb(237,237,237)",
           "caxis": {
            "gridcolor": "white",
            "linecolor": "white",
            "showgrid": true,
            "tickcolor": "rgb(51,51,51)",
            "ticks": "outside"
           }
          },
          "xaxis": {
           "automargin": true,
           "gridcolor": "white",
           "linecolor": "white",
           "showgrid": true,
           "tickcolor": "rgb(51,51,51)",
           "ticks": "outside",
           "title": {
            "standoff": 15
           },
           "zerolinecolor": "white"
          },
          "yaxis": {
           "automargin": true,
           "gridcolor": "white",
           "linecolor": "white",
           "showgrid": true,
           "tickcolor": "rgb(51,51,51)",
           "ticks": "outside",
           "title": {
            "standoff": 15
           },
           "zerolinecolor": "white"
          }
         }
        },
        "title": {
         "text": "How many of the genes in a community have a com membership 0.55"
        },
        "xaxis": {
         "anchor": "y",
         "domain": [
          0,
          1
         ],
         "dtick": 1,
         "tick0": 0,
         "tickmode": "linear",
         "title": {
          "text": "max_b"
         }
        },
        "yaxis": {
         "anchor": "x",
         "domain": [
          0,
          1
         ],
         "title": {
          "text": "value"
         }
        }
       }
      }
     },
     "metadata": {},
     "output_type": "display_data"
    }
   ],
   "source": [
    "prob_th = 0.55\n",
    "max_iters = com_df.max().max()\n",
    "th = max_iters * prob_th\n",
    "\n",
    "wobble_df = com_df[com_df < th].dropna().copy(deep=True)\n",
    "dmy_df = pd.concat(\n",
    "    [pd.DataFrame(wobble_df[\"max_b\"].value_counts()), pd.DataFrame(com_df[\"max_b\"].value_counts()).rename(columns={\"count\": \"orig_size\"})], axis=1\n",
    ").sort_index()\n",
    "\n",
    "dmy_df.sort_values(by=[\"count\"], ascending=False)\n",
    "fig = px.bar(\n",
    "    dmy_df.reset_index(),\n",
    "    x=\"max_b\",\n",
    "    y=[\"count\"],\n",
    "    title=f\"How many of the genes in a community have a com membership {prob_th}\",\n",
    "    barmode=\"group\",\n",
    "    text_auto=True,\n",
    ")\n",
    "fig = fig.update_layout(xaxis=dict(tickmode=\"linear\", tick0=0, dtick=1))\n",
    "fig.show()"
   ]
  },
  {
   "cell_type": "code",
   "execution_count": 33,
   "metadata": {},
   "outputs": [
    {
     "data": {
      "application/vnd.plotly.v1+json": {
       "config": {
        "plotlyServerURL": "https://plot.ly"
       },
       "data": [
        {
         "alignmentgroup": "True",
         "bingroup": "x",
         "histfunc": "sum",
         "hovertemplate": "max_b=%{x}<br>sum of mut_count=%{y}<extra></extra>",
         "legendgroup": "",
         "marker": {
          "color": "#F8766D",
          "pattern": {
           "shape": ""
          }
         },
         "name": "",
         "offsetgroup": "",
         "orientation": "v",
         "showlegend": false,
         "texttemplate": "%{value}",
         "type": "histogram",
         "x": [
          "34",
          "34",
          "17",
          "20",
          "23",
          "29",
          "34",
          "34",
          "23",
          "23",
          "22",
          "22",
          "27",
          "23",
          "35",
          "4",
          "14",
          "14",
          "14",
          "14",
          "29",
          "14",
          "36",
          "4",
          "35",
          "23",
          "4",
          "23",
          "23",
          "23",
          "38",
          "14",
          "23",
          "23",
          "36",
          "36",
          "13",
          "36",
          "14",
          "36",
          "36",
          "44",
          "23",
          "39",
          "34",
          "35",
          "34",
          "19",
          "19",
          "36",
          "33",
          "37",
          "27",
          "38",
          "27",
          "38",
          "23",
          "23",
          "43",
          "43",
          "34",
          "38",
          "34",
          "34",
          "34",
          "36",
          "19",
          "13",
          "4",
          "17",
          "19",
          "41",
          "19",
          "23",
          "29",
          "26",
          "37",
          "29",
          "34",
          "38",
          "23",
          "19",
          "31",
          "29",
          "17",
          "14",
          "14",
          "17",
          "23",
          "23",
          "23",
          "22",
          "23",
          "21",
          "23",
          "23",
          "23",
          "43",
          "17",
          "22",
          "26",
          "35",
          "35",
          "35",
          "43",
          "19",
          "19",
          "43",
          "21",
          "23",
          "43",
          "34",
          "34",
          "34",
          "34",
          "34",
          "34",
          "34",
          "34",
          "31",
          "34",
          "34",
          "34",
          "34",
          "31",
          "34",
          "34",
          "34",
          "26",
          "21",
          "35",
          "23",
          "23",
          "37",
          "23",
          "35",
          "23",
          "37",
          "22",
          "37",
          "35",
          "26",
          "29",
          "43",
          "26",
          "22",
          "34",
          "26",
          "36",
          "34",
          "34",
          "34",
          "34",
          "34",
          "38",
          "34",
          "34",
          "34",
          "34",
          "34",
          "34",
          "34",
          "11",
          "34",
          "34",
          "34",
          "37",
          "39",
          "44",
          "43",
          "17",
          "44",
          "23",
          "37",
          "23",
          "35",
          "14",
          "43",
          "43",
          "4",
          "17",
          "43",
          "23",
          "23",
          "35",
          "13",
          "43",
          "23",
          "37",
          "37",
          "35",
          "37",
          "43",
          "23",
          "22",
          "39",
          "43",
          "43",
          "26",
          "43",
          "37",
          "26",
          "43",
          "43",
          "23",
          "26",
          "38",
          "40",
          "29",
          "26",
          "39",
          "34",
          "23",
          "14",
          "26",
          "35",
          "35",
          "23",
          "26",
          "38",
          "37",
          "35",
          "23",
          "23",
          "23",
          "26",
          "43",
          "29",
          "43",
          "24",
          "43",
          "43",
          "23",
          "13",
          "22",
          "35",
          "37",
          "37",
          "37",
          "43",
          "4",
          "14",
          "4",
          "14",
          "36",
          "20",
          "37",
          "20",
          "35",
          "23",
          "23",
          "39",
          "17",
          "43",
          "23",
          "44",
          "22",
          "21",
          "17",
          "23",
          "23",
          "22",
          "23",
          "23",
          "23",
          "23",
          "23",
          "23",
          "23",
          "43",
          "26",
          "23",
          "35",
          "35",
          "23",
          "43",
          "23",
          "43",
          "23",
          "23",
          "20",
          "44",
          "23",
          "43",
          "43",
          "43",
          "23",
          "43",
          "40",
          "23",
          "20",
          "40",
          "43",
          "23",
          "23",
          "44",
          "23",
          "43",
          "40",
          "44",
          "43",
          "35",
          "37",
          "19",
          "23",
          "35",
          "40",
          "35",
          "37",
          "35",
          "43",
          "26",
          "35",
          "31",
          "37",
          "43",
          "37",
          "23",
          "23",
          "24",
          "35",
          "23",
          "22",
          "43",
          "35",
          "26",
          "23",
          "43",
          "35",
          "23",
          "44",
          "23",
          "43",
          "37",
          "37",
          "26",
          "26",
          "17",
          "29",
          "29",
          "17",
          "43",
          "26",
          "43",
          "35",
          "23",
          "26",
          "35",
          "35",
          "23",
          "21",
          "35",
          "35",
          "23",
          "40",
          "43",
          "43",
          "39",
          "35",
          "26",
          "23",
          "22",
          "35",
          "35",
          "35",
          "35",
          "35",
          "35",
          "35",
          "35",
          "37",
          "35",
          "35",
          "35",
          "35",
          "35",
          "19",
          "13",
          "39",
          "35",
          "43",
          "37",
          "37",
          "23",
          "43",
          "19",
          "29",
          "43",
          "26",
          "26",
          "35",
          "26",
          "26",
          "35",
          "35",
          "35",
          "26",
          "37",
          "35",
          "35",
          "37",
          "35",
          "35",
          "35",
          "35",
          "26",
          "35",
          "35",
          "37",
          "35",
          "26",
          "37",
          "26",
          "35",
          "35",
          "35",
          "26",
          "26",
          "35",
          "35",
          "26",
          "39",
          "17",
          "43",
          "20",
          "29",
          "29",
          "43",
          "39",
          "34",
          "35",
          "20",
          "37",
          "23",
          "35",
          "23",
          "37",
          "39",
          "43",
          "43",
          "22",
          "43",
          "35",
          "39",
          "39",
          "37",
          "37",
          "37",
          "37",
          "37",
          "37",
          "35",
          "39",
          "26",
          "35",
          "35",
          "21",
          "29",
          "37",
          "43",
          "29",
          "22",
          "22",
          "23",
          "14",
          "14",
          "13",
          "14",
          "35",
          "29",
          "22",
          "23",
          "43",
          "36",
          "29",
          "29",
          "14",
          "29",
          "29",
          "29",
          "14",
          "14",
          "14",
          "29",
          "22",
          "35",
          "35",
          "35",
          "35",
          "35",
          "9",
          "35",
          "35",
          "35",
          "35",
          "39",
          "35",
          "31",
          "37",
          "35",
          "35",
          "37",
          "17",
          "17",
          "43",
          "43",
          "43",
          "43",
          "24",
          "14",
          "23",
          "23",
          "13",
          "23",
          "23",
          "34",
          "43",
          "43",
          "29",
          "14",
          "14",
          "14",
          "14",
          "17",
          "38",
          "43",
          "43",
          "26",
          "43",
          "43",
          "43",
          "34",
          "43",
          "27",
          "22",
          "43",
          "23",
          "37",
          "43",
          "37",
          "43",
          "37",
          "37",
          "19",
          "29",
          "13",
          "26",
          "23",
          "23"
         ],
         "xaxis": "x",
         "y": [
          10,
          7,
          1,
          null,
          null,
          1,
          2,
          5,
          2,
          null,
          null,
          null,
          2,
          1,
          null,
          null,
          null,
          7,
          5,
          6,
          6,
          null,
          null,
          9,
          6,
          null,
          7,
          null,
          7,
          null,
          4,
          null,
          null,
          5,
          null,
          12,
          2,
          1,
          6,
          null,
          1,
          null,
          null,
          null,
          5,
          5,
          2,
          5,
          null,
          8,
          22,
          3,
          11,
          4,
          1,
          2,
          null,
          null,
          null,
          null,
          4,
          6,
          15,
          6,
          4,
          null,
          null,
          null,
          null,
          2,
          null,
          null,
          4,
          null,
          9,
          null,
          null,
          1,
          null,
          1,
          null,
          3,
          2,
          3,
          6,
          null,
          2,
          5,
          null,
          null,
          null,
          null,
          null,
          6,
          null,
          null,
          null,
          null,
          13,
          null,
          5,
          2,
          7,
          null,
          null,
          null,
          1,
          null,
          null,
          null,
          4,
          11,
          null,
          14,
          2,
          9,
          2,
          5,
          null,
          1,
          null,
          1,
          5,
          null,
          1,
          2,
          null,
          9,
          null,
          7,
          7,
          null,
          null,
          null,
          null,
          null,
          null,
          10,
          8,
          null,
          1,
          null,
          null,
          null,
          4,
          null,
          6,
          null,
          null,
          4,
          4,
          null,
          11,
          2,
          1,
          8,
          6,
          1,
          6,
          7,
          4,
          2,
          null,
          12,
          3,
          4,
          null,
          3,
          5,
          null,
          3,
          null,
          null,
          null,
          null,
          null,
          4,
          null,
          null,
          null,
          null,
          null,
          null,
          7,
          11,
          6,
          null,
          null,
          null,
          null,
          null,
          null,
          10,
          null,
          null,
          7,
          null,
          null,
          null,
          null,
          null,
          2,
          null,
          7,
          1,
          null,
          null,
          null,
          4,
          null,
          4,
          9,
          2,
          3,
          4,
          null,
          null,
          null,
          null,
          4,
          2,
          null,
          null,
          1,
          null,
          null,
          1,
          4,
          null,
          3,
          null,
          null,
          3,
          3,
          null,
          null,
          null,
          null,
          2,
          null,
          null,
          6,
          null,
          2,
          1,
          7,
          null,
          null,
          1,
          null,
          null,
          null,
          null,
          2,
          null,
          5,
          null,
          9,
          null,
          1,
          null,
          2,
          null,
          null,
          null,
          1,
          null,
          3,
          2,
          null,
          null,
          null,
          2,
          null,
          null,
          null,
          null,
          null,
          null,
          null,
          9,
          null,
          null,
          1,
          5,
          null,
          10,
          10,
          2,
          null,
          null,
          1,
          null,
          null,
          null,
          3,
          null,
          2,
          null,
          1,
          1,
          null,
          4,
          null,
          null,
          4,
          null,
          null,
          null,
          3,
          null,
          null,
          1,
          2,
          null,
          null,
          null,
          5,
          6,
          6,
          null,
          null,
          1,
          null,
          1,
          null,
          null,
          7,
          null,
          2,
          null,
          3,
          null,
          null,
          2,
          null,
          null,
          null,
          1,
          4,
          4,
          null,
          13,
          6,
          null,
          null,
          null,
          null,
          null,
          null,
          7,
          null,
          null,
          null,
          null,
          null,
          5,
          null,
          null,
          null,
          3,
          null,
          3,
          7,
          5,
          null,
          4,
          1,
          6,
          1,
          null,
          8,
          null,
          3,
          2,
          null,
          null,
          4,
          null,
          null,
          null,
          null,
          null,
          null,
          null,
          12,
          1,
          null,
          1,
          null,
          null,
          3,
          1,
          null,
          2,
          null,
          null,
          null,
          null,
          null,
          2,
          null,
          null,
          1,
          6,
          null,
          3,
          13,
          null,
          8,
          2,
          null,
          null,
          4,
          null,
          5,
          8,
          3,
          4,
          4,
          null,
          null,
          2,
          null,
          null,
          null,
          null,
          null,
          null,
          null,
          10,
          null,
          null,
          null,
          1,
          null,
          9,
          null,
          4,
          null,
          null,
          null,
          null,
          null,
          6,
          null,
          7,
          null,
          null,
          2,
          null,
          null,
          null,
          null,
          3,
          4,
          null,
          6,
          1,
          2,
          null,
          null,
          null,
          null,
          4,
          1,
          4,
          5,
          5,
          7,
          null,
          null,
          2,
          null,
          null,
          4,
          2,
          5,
          5,
          3,
          null,
          null,
          1,
          7,
          9,
          null,
          null,
          null,
          null,
          3,
          2,
          3,
          5,
          7,
          null,
          null,
          1,
          2,
          9,
          2,
          1,
          12,
          2,
          5,
          null,
          3,
          null,
          3,
          2,
          4,
          null,
          3,
          6,
          3,
          1,
          4,
          5,
          2,
          2,
          1,
          null,
          null,
          3,
          6,
          14,
          null,
          3,
          null,
          1,
          9,
          1,
          10,
          12,
          6,
          13,
          7,
          null,
          4,
          null,
          2,
          3,
          4,
          3,
          5,
          12,
          9,
          6,
          11,
          2
         ],
         "yaxis": "y"
        }
       ],
       "layout": {
        "barmode": "relative",
        "legend": {
         "tracegroupgap": 0
        },
        "template": {
         "data": {
          "bar": [
           {
            "error_x": {
             "color": "rgb(51,51,51)"
            },
            "error_y": {
             "color": "rgb(51,51,51)"
            },
            "marker": {
             "line": {
              "color": "rgb(237,237,237)",
              "width": 0.5
             },
             "pattern": {
              "fillmode": "overlay",
              "size": 10,
              "solidity": 0.2
             }
            },
            "type": "bar"
           }
          ],
          "barpolar": [
           {
            "marker": {
             "line": {
              "color": "rgb(237,237,237)",
              "width": 0.5
             },
             "pattern": {
              "fillmode": "overlay",
              "size": 10,
              "solidity": 0.2
             }
            },
            "type": "barpolar"
           }
          ],
          "carpet": [
           {
            "aaxis": {
             "endlinecolor": "rgb(51,51,51)",
             "gridcolor": "white",
             "linecolor": "white",
             "minorgridcolor": "white",
             "startlinecolor": "rgb(51,51,51)"
            },
            "baxis": {
             "endlinecolor": "rgb(51,51,51)",
             "gridcolor": "white",
             "linecolor": "white",
             "minorgridcolor": "white",
             "startlinecolor": "rgb(51,51,51)"
            },
            "type": "carpet"
           }
          ],
          "choropleth": [
           {
            "colorbar": {
             "outlinewidth": 0,
             "tickcolor": "rgb(237,237,237)",
             "ticklen": 6,
             "ticks": "inside"
            },
            "type": "choropleth"
           }
          ],
          "contour": [
           {
            "colorbar": {
             "outlinewidth": 0,
             "tickcolor": "rgb(237,237,237)",
             "ticklen": 6,
             "ticks": "inside"
            },
            "colorscale": [
             [
              0,
              "rgb(20,44,66)"
             ],
             [
              1,
              "rgb(90,179,244)"
             ]
            ],
            "type": "contour"
           }
          ],
          "contourcarpet": [
           {
            "colorbar": {
             "outlinewidth": 0,
             "tickcolor": "rgb(237,237,237)",
             "ticklen": 6,
             "ticks": "inside"
            },
            "type": "contourcarpet"
           }
          ],
          "heatmap": [
           {
            "colorbar": {
             "outlinewidth": 0,
             "tickcolor": "rgb(237,237,237)",
             "ticklen": 6,
             "ticks": "inside"
            },
            "colorscale": [
             [
              0,
              "rgb(20,44,66)"
             ],
             [
              1,
              "rgb(90,179,244)"
             ]
            ],
            "type": "heatmap"
           }
          ],
          "heatmapgl": [
           {
            "colorbar": {
             "outlinewidth": 0,
             "tickcolor": "rgb(237,237,237)",
             "ticklen": 6,
             "ticks": "inside"
            },
            "colorscale": [
             [
              0,
              "rgb(20,44,66)"
             ],
             [
              1,
              "rgb(90,179,244)"
             ]
            ],
            "type": "heatmapgl"
           }
          ],
          "histogram": [
           {
            "marker": {
             "pattern": {
              "fillmode": "overlay",
              "size": 10,
              "solidity": 0.2
             }
            },
            "type": "histogram"
           }
          ],
          "histogram2d": [
           {
            "colorbar": {
             "outlinewidth": 0,
             "tickcolor": "rgb(237,237,237)",
             "ticklen": 6,
             "ticks": "inside"
            },
            "colorscale": [
             [
              0,
              "rgb(20,44,66)"
             ],
             [
              1,
              "rgb(90,179,244)"
             ]
            ],
            "type": "histogram2d"
           }
          ],
          "histogram2dcontour": [
           {
            "colorbar": {
             "outlinewidth": 0,
             "tickcolor": "rgb(237,237,237)",
             "ticklen": 6,
             "ticks": "inside"
            },
            "colorscale": [
             [
              0,
              "rgb(20,44,66)"
             ],
             [
              1,
              "rgb(90,179,244)"
             ]
            ],
            "type": "histogram2dcontour"
           }
          ],
          "mesh3d": [
           {
            "colorbar": {
             "outlinewidth": 0,
             "tickcolor": "rgb(237,237,237)",
             "ticklen": 6,
             "ticks": "inside"
            },
            "type": "mesh3d"
           }
          ],
          "parcoords": [
           {
            "line": {
             "colorbar": {
              "outlinewidth": 0,
              "tickcolor": "rgb(237,237,237)",
              "ticklen": 6,
              "ticks": "inside"
             }
            },
            "type": "parcoords"
           }
          ],
          "pie": [
           {
            "automargin": true,
            "type": "pie"
           }
          ],
          "scatter": [
           {
            "fillpattern": {
             "fillmode": "overlay",
             "size": 10,
             "solidity": 0.2
            },
            "type": "scatter"
           }
          ],
          "scatter3d": [
           {
            "line": {
             "colorbar": {
              "outlinewidth": 0,
              "tickcolor": "rgb(237,237,237)",
              "ticklen": 6,
              "ticks": "inside"
             }
            },
            "marker": {
             "colorbar": {
              "outlinewidth": 0,
              "tickcolor": "rgb(237,237,237)",
              "ticklen": 6,
              "ticks": "inside"
             }
            },
            "type": "scatter3d"
           }
          ],
          "scattercarpet": [
           {
            "marker": {
             "colorbar": {
              "outlinewidth": 0,
              "tickcolor": "rgb(237,237,237)",
              "ticklen": 6,
              "ticks": "inside"
             }
            },
            "type": "scattercarpet"
           }
          ],
          "scattergeo": [
           {
            "marker": {
             "colorbar": {
              "outlinewidth": 0,
              "tickcolor": "rgb(237,237,237)",
              "ticklen": 6,
              "ticks": "inside"
             }
            },
            "type": "scattergeo"
           }
          ],
          "scattergl": [
           {
            "marker": {
             "colorbar": {
              "outlinewidth": 0,
              "tickcolor": "rgb(237,237,237)",
              "ticklen": 6,
              "ticks": "inside"
             }
            },
            "type": "scattergl"
           }
          ],
          "scattermapbox": [
           {
            "marker": {
             "colorbar": {
              "outlinewidth": 0,
              "tickcolor": "rgb(237,237,237)",
              "ticklen": 6,
              "ticks": "inside"
             }
            },
            "type": "scattermapbox"
           }
          ],
          "scatterpolar": [
           {
            "marker": {
             "colorbar": {
              "outlinewidth": 0,
              "tickcolor": "rgb(237,237,237)",
              "ticklen": 6,
              "ticks": "inside"
             }
            },
            "type": "scatterpolar"
           }
          ],
          "scatterpolargl": [
           {
            "marker": {
             "colorbar": {
              "outlinewidth": 0,
              "tickcolor": "rgb(237,237,237)",
              "ticklen": 6,
              "ticks": "inside"
             }
            },
            "type": "scatterpolargl"
           }
          ],
          "scatterternary": [
           {
            "marker": {
             "colorbar": {
              "outlinewidth": 0,
              "tickcolor": "rgb(237,237,237)",
              "ticklen": 6,
              "ticks": "inside"
             }
            },
            "type": "scatterternary"
           }
          ],
          "surface": [
           {
            "colorbar": {
             "outlinewidth": 0,
             "tickcolor": "rgb(237,237,237)",
             "ticklen": 6,
             "ticks": "inside"
            },
            "colorscale": [
             [
              0,
              "rgb(20,44,66)"
             ],
             [
              1,
              "rgb(90,179,244)"
             ]
            ],
            "type": "surface"
           }
          ],
          "table": [
           {
            "cells": {
             "fill": {
              "color": "rgb(237,237,237)"
             },
             "line": {
              "color": "white"
             }
            },
            "header": {
             "fill": {
              "color": "rgb(217,217,217)"
             },
             "line": {
              "color": "white"
             }
            },
            "type": "table"
           }
          ]
         },
         "layout": {
          "annotationdefaults": {
           "arrowhead": 0,
           "arrowwidth": 1
          },
          "autotypenumbers": "strict",
          "coloraxis": {
           "colorbar": {
            "outlinewidth": 0,
            "tickcolor": "rgb(237,237,237)",
            "ticklen": 6,
            "ticks": "inside"
           }
          },
          "colorscale": {
           "sequential": [
            [
             0,
             "rgb(20,44,66)"
            ],
            [
             1,
             "rgb(90,179,244)"
            ]
           ],
           "sequentialminus": [
            [
             0,
             "rgb(20,44,66)"
            ],
            [
             1,
             "rgb(90,179,244)"
            ]
           ]
          },
          "colorway": [
           "#F8766D",
           "#A3A500",
           "#00BF7D",
           "#00B0F6",
           "#E76BF3"
          ],
          "font": {
           "color": "rgb(51,51,51)"
          },
          "geo": {
           "bgcolor": "white",
           "lakecolor": "white",
           "landcolor": "rgb(237,237,237)",
           "showlakes": true,
           "showland": true,
           "subunitcolor": "white"
          },
          "hoverlabel": {
           "align": "left"
          },
          "hovermode": "closest",
          "paper_bgcolor": "white",
          "plot_bgcolor": "rgb(237,237,237)",
          "polar": {
           "angularaxis": {
            "gridcolor": "white",
            "linecolor": "white",
            "showgrid": true,
            "tickcolor": "rgb(51,51,51)",
            "ticks": "outside"
           },
           "bgcolor": "rgb(237,237,237)",
           "radialaxis": {
            "gridcolor": "white",
            "linecolor": "white",
            "showgrid": true,
            "tickcolor": "rgb(51,51,51)",
            "ticks": "outside"
           }
          },
          "scene": {
           "xaxis": {
            "backgroundcolor": "rgb(237,237,237)",
            "gridcolor": "white",
            "gridwidth": 2,
            "linecolor": "white",
            "showbackground": true,
            "showgrid": true,
            "tickcolor": "rgb(51,51,51)",
            "ticks": "outside",
            "zerolinecolor": "white"
           },
           "yaxis": {
            "backgroundcolor": "rgb(237,237,237)",
            "gridcolor": "white",
            "gridwidth": 2,
            "linecolor": "white",
            "showbackground": true,
            "showgrid": true,
            "tickcolor": "rgb(51,51,51)",
            "ticks": "outside",
            "zerolinecolor": "white"
           },
           "zaxis": {
            "backgroundcolor": "rgb(237,237,237)",
            "gridcolor": "white",
            "gridwidth": 2,
            "linecolor": "white",
            "showbackground": true,
            "showgrid": true,
            "tickcolor": "rgb(51,51,51)",
            "ticks": "outside",
            "zerolinecolor": "white"
           }
          },
          "shapedefaults": {
           "fillcolor": "black",
           "line": {
            "width": 0
           },
           "opacity": 0.3
          },
          "ternary": {
           "aaxis": {
            "gridcolor": "white",
            "linecolor": "white",
            "showgrid": true,
            "tickcolor": "rgb(51,51,51)",
            "ticks": "outside"
           },
           "baxis": {
            "gridcolor": "white",
            "linecolor": "white",
            "showgrid": true,
            "tickcolor": "rgb(51,51,51)",
            "ticks": "outside"
           },
           "bgcolor": "rgb(237,237,237)",
           "caxis": {
            "gridcolor": "white",
            "linecolor": "white",
            "showgrid": true,
            "tickcolor": "rgb(51,51,51)",
            "ticks": "outside"
           }
          },
          "xaxis": {
           "automargin": true,
           "gridcolor": "white",
           "linecolor": "white",
           "showgrid": true,
           "tickcolor": "rgb(51,51,51)",
           "ticks": "outside",
           "title": {
            "standoff": 15
           },
           "zerolinecolor": "white"
          },
          "yaxis": {
           "automargin": true,
           "gridcolor": "white",
           "linecolor": "white",
           "showgrid": true,
           "tickcolor": "rgb(51,51,51)",
           "ticks": "outside",
           "title": {
            "standoff": 15
           },
           "zerolinecolor": "white"
          }
         }
        },
        "title": {
         "text": "Mutations in wobble genes"
        },
        "xaxis": {
         "anchor": "y",
         "domain": [
          0,
          1
         ],
         "title": {
          "text": "max_b"
         }
        },
        "yaxis": {
         "anchor": "x",
         "domain": [
          0,
          1
         ],
         "title": {
          "text": "sum of mut_count"
         }
        }
       }
      }
     },
     "metadata": {},
     "output_type": "display_data"
    }
   ],
   "source": [
    "wobble_df[\"mut_count\"] = tcga_mutations_df[\"count\"]\n",
    "wobble_df[\"mean\"] = nodes_df[\"mean\"]\n",
    "wobble_df[\"median\"] = nodes_df[\"median\"]\n",
    "wobble_df[\"TF\"] = nodes_df[\"TF\"].astype(str)\n",
    "wobble_df[\"std\"] = nodes_df[\"std\"]\n",
    "\n",
    "wobble_df[\"max_b\"] = wobble_df[\"max_b\"].astype(str)\n",
    "fig = px.histogram(\n",
    "    wobble_df.reset_index(names=\"gene\"),\n",
    "    x=\"max_b\",\n",
    "    y=\"mut_count\",\n",
    "    title=\"Mutations in wobble genes\",\n",
    "    # color=\"TF\",\n",
    "    hover_data=[\"gene\", \"mut_count\", \"TF\"],\n",
    "    text_auto=True,\n",
    ")\n",
    "fig.show()"
   ]
  },
  {
   "cell_type": "markdown",
   "metadata": {},
   "source": [
    "## Find the neighbours communities"
   ]
  },
  {
   "cell_type": "code",
   "execution_count": 34,
   "metadata": {},
   "outputs": [],
   "source": [
    "if 1:\n",
    "    # 1. get the neighbours for each node and their community\n",
    "    comm_neighbours = {}\n",
    "    for node, comm in enumerate(gt_g.vp[\"max_b\"]):\n",
    "        neighbours = gt_g.get_out_neighbours(node, [gt_g.vp[\"max_b\"]])\n",
    "        if comm not in comm_neighbours.keys():\n",
    "            comm_neighbours[comm] = neighbours\n",
    "        else:\n",
    "            comm_neighbours[comm] = np.concatenate((comm_neighbours[comm], neighbours))\n",
    "\n",
    "    # 2. Transform the results in a DataFrame\n",
    "    neighbours_df = {}\n",
    "    for key in comm_neighbours.keys():\n",
    "        neighbours_df[key] = pd.DataFrame(comm_neighbours[key], columns=[\"idx\", \"max_b\"])\n",
    "\n",
    "    # 4. Aggregate the data at communities level neigbhours\n",
    "    communities = list(sorted(nodes_df[\"max_b\"].unique()))\n",
    "    intra_connected = pd.DataFrame(0, columns=communities, index=communities)\n",
    "\n",
    "    for key in neighbours_df.keys():\n",
    "        for com, num in neighbours_df[key][\"max_b\"].value_counts().items():\n",
    "            intra_connected.loc[key, com] = num\n",
    "\n",
    "    intra_connected.replace(0, 1, inplace=True)\n",
    "    # 5. Rank that\n",
    "    intra_connected_rank = intra_connected.rank(ascending=True)\n",
    "\n",
    "neighbours_df[0][\"max_b\"].value_counts()"
   ]
  },
  {
   "cell_type": "markdown",
   "metadata": {},
   "source": [
    "## Shortest path"
   ]
  },
  {
   "cell_type": "code",
   "execution_count": 36,
   "metadata": {},
   "outputs": [],
   "source": [
    "# 1. get the neighbours for each node and their community\n",
    "comm_neighbours = {}\n",
    "for node, comm in enumerate(gt_g.vp[\"max_b\"]):\n",
    "    neighbours = gt_g.get_out_neighbours(node, [gt_g.vp[\"max_b\"]])\n",
    "    if comm not in comm_neighbours.keys():\n",
    "        comm_neighbours[comm] = neighbours\n",
    "    else:\n",
    "        comm_neighbours[comm] = np.concatenate((comm_neighbours[comm], neighbours))\n",
    "\n",
    "# 2. Transform the results in a DataFrame\n",
    "neighbours_df = {}\n",
    "for key in comm_neighbours.keys():\n",
    "    neighbours_df[key] = pd.DataFrame(comm_neighbours[key], columns=[\"idx\", \"max_b\"])\n",
    "\n",
    "# 4. Aggregate the data at communities level neigbhours\n",
    "communities = list(sorted(nodes_df[\"max_b\"].unique()))\n",
    "intra_connected = pd.DataFrame(0, columns=communities, index=communities)\n",
    "\n",
    "for key in neighbours_df.keys():\n",
    "    for com, num in neighbours_df[key][\"max_b\"].value_counts().items():\n",
    "        intra_connected.loc[key, com] = num\n",
    "\n",
    "intra_connected.replace(0, 1, inplace=True)\n",
    "# 5. Rank that\n",
    "intra_connected_rank = intra_connected.rank(ascending=True)"
   ]
  },
  {
   "cell_type": "code",
   "execution_count": 41,
   "metadata": {},
   "outputs": [],
   "source": [
    "# get ModCon rank 1 genes\n",
    "comb_df = pd.concat([com_df, nodes_df[[\"ModCon_Rank\"]]], axis=1)[[\"max_b\", \"ModCon_Rank\", \"node_idx\"]]\n",
    "comb_df[\"node_idx\"] = comb_df[\"node_idx\"].astype(int)\n",
    "rank_1_df = comb_df.loc[comb_df[\"ModCon_Rank\"] == 1].copy(deep=True).reset_index(names=\"gene_label\")\n",
    "\n",
    "# List to store each row of the future DataFrame\n",
    "shortest_paths_data = []\n",
    "\n",
    "# Calculate shortest paths\n",
    "for i, source_row in rank_1_df.iterrows():\n",
    "    for j, target_row in rank_1_df.iterrows():\n",
    "        if i != j:  # To avoid repeating calculations for the same pairs and computing paths to itself\n",
    "            source_vertex = source_row[\"node_idx\"]\n",
    "            target_vertex = target_row[\"node_idx\"]\n",
    "            # Calculate the shortest path\n",
    "            path, lengths = gt.shortest_path(gt_g, source=gt_g.vertex(source_vertex), target=gt_g.vertex(target_vertex))\n",
    "            # Create a record for this path\n",
    "            record = {\n",
    "                \"source\": source_vertex,\n",
    "                \"target\": target_vertex,\n",
    "                \"path_length\": len(path) - 1,  # Number of edges in the path\n",
    "                \"source_com\": source_row[\"max_b\"],\n",
    "                \"target_com\": target_row[\"max_b\"],\n",
    "                \"source_gene\": source_row[\"gene_label\"],\n",
    "                \"target_gene\": target_row[\"gene_label\"],\n",
    "                \"num_nodes\": intra_connected.loc[source_row[\"max_b\"], target_row[\"max_b\"]],\n",
    "                # \"path\": \"->\".join([str(v) for v in path]),\n",
    "            }\n",
    "            shortest_paths_data.append(record)\n",
    "\n",
    "# Convert list of paths data into a DataFrame\n",
    "shortest_paths_df = pd.DataFrame(shortest_paths_data)\n",
    "\n",
    "# Display the DataFrame to verify\n",
    "# shortest_paths_df"
   ]
  },
  {
   "cell_type": "markdown",
   "metadata": {},
   "source": [
    "## Gene membership table"
   ]
  },
  {
   "cell_type": "code",
   "execution_count": 39,
   "metadata": {},
   "outputs": [
    {
     "data": {
      "text/html": [
       "<div>\n",
       "<style scoped>\n",
       "    .dataframe tbody tr th:only-of-type {\n",
       "        vertical-align: middle;\n",
       "    }\n",
       "\n",
       "    .dataframe tbody tr th {\n",
       "        vertical-align: top;\n",
       "    }\n",
       "\n",
       "    .dataframe thead th {\n",
       "        text-align: right;\n",
       "    }\n",
       "</style>\n",
       "<table border=\"1\" class=\"dataframe\">\n",
       "  <thead>\n",
       "    <tr style=\"text-align: right;\">\n",
       "      <th></th>\n",
       "      <th>main_com</th>\n",
       "      <th>gene_membership</th>\n",
       "      <th>mut_count</th>\n",
       "      <th>mean</th>\n",
       "      <th>median</th>\n",
       "      <th>std</th>\n",
       "      <th>TF</th>\n",
       "      <th>P_lvl_1</th>\n",
       "      <th>P_lvl_2</th>\n",
       "    </tr>\n",
       "  </thead>\n",
       "  <tbody>\n",
       "    <tr>\n",
       "      <th>FOSB</th>\n",
       "      <td>0</td>\n",
       "      <td>[(0, 0.9362), (4, 0.0001), (20, 0.0001), (21, ...</td>\n",
       "      <td>2.0</td>\n",
       "      <td>252.0652</td>\n",
       "      <td>1.4375</td>\n",
       "      <td>521.5104</td>\n",
       "      <td>1</td>\n",
       "      <td>0</td>\n",
       "      <td>2</td>\n",
       "    </tr>\n",
       "    <tr>\n",
       "      <th>TIAM1</th>\n",
       "      <td>1</td>\n",
       "      <td>[(1, 1.0)]</td>\n",
       "      <td>16.0</td>\n",
       "      <td>12.4743</td>\n",
       "      <td>7.9086</td>\n",
       "      <td>14.7256</td>\n",
       "      <td>0</td>\n",
       "      <td>1</td>\n",
       "      <td>1</td>\n",
       "    </tr>\n",
       "    <tr>\n",
       "      <th>ELF3</th>\n",
       "      <td>1</td>\n",
       "      <td>[(1, 1.0)]</td>\n",
       "      <td>49.0</td>\n",
       "      <td>1664.9102</td>\n",
       "      <td>1434.5190</td>\n",
       "      <td>1533.9371</td>\n",
       "      <td>1</td>\n",
       "      <td>1</td>\n",
       "      <td>1</td>\n",
       "    </tr>\n",
       "    <tr>\n",
       "      <th>AHR</th>\n",
       "      <td>2</td>\n",
       "      <td>[(2, 1.0)]</td>\n",
       "      <td>23.0</td>\n",
       "      <td>108.7085</td>\n",
       "      <td>78.1893</td>\n",
       "      <td>81.3957</td>\n",
       "      <td>1</td>\n",
       "      <td>1</td>\n",
       "      <td>1</td>\n",
       "    </tr>\n",
       "    <tr>\n",
       "      <th>ABCC5</th>\n",
       "      <td>1</td>\n",
       "      <td>[(1, 1.0)]</td>\n",
       "      <td>20.0</td>\n",
       "      <td>75.5424</td>\n",
       "      <td>56.6611</td>\n",
       "      <td>61.5194</td>\n",
       "      <td>0</td>\n",
       "      <td>1</td>\n",
       "      <td>1</td>\n",
       "    </tr>\n",
       "    <tr>\n",
       "      <th>...</th>\n",
       "      <td>...</td>\n",
       "      <td>...</td>\n",
       "      <td>...</td>\n",
       "      <td>...</td>\n",
       "      <td>...</td>\n",
       "      <td>...</td>\n",
       "      <td>...</td>\n",
       "      <td>...</td>\n",
       "      <td>...</td>\n",
       "    </tr>\n",
       "    <tr>\n",
       "      <th>CBWD6</th>\n",
       "      <td>21</td>\n",
       "      <td>[(4, 0.0139), (19, 0.1721), (20, 0.0445), (21,...</td>\n",
       "      <td>0.0</td>\n",
       "      <td>12.8076</td>\n",
       "      <td>11.5661</td>\n",
       "      <td>7.8424</td>\n",
       "      <td>0</td>\n",
       "      <td>3</td>\n",
       "      <td>0</td>\n",
       "    </tr>\n",
       "    <tr>\n",
       "      <th>MDM2</th>\n",
       "      <td>36</td>\n",
       "      <td>[(19, 0.0583), (20, 0.0042), (22, 0.3047), (24...</td>\n",
       "      <td>4.0</td>\n",
       "      <td>92.7512</td>\n",
       "      <td>75.4506</td>\n",
       "      <td>97.5653</td>\n",
       "      <td>0</td>\n",
       "      <td>10</td>\n",
       "      <td>0</td>\n",
       "    </tr>\n",
       "    <tr>\n",
       "      <th>TXNRD1</th>\n",
       "      <td>26</td>\n",
       "      <td>[(20, 0.0032), (23, 0.0002), (26, 0.5143), (27...</td>\n",
       "      <td>6.0</td>\n",
       "      <td>97.8399</td>\n",
       "      <td>91.5946</td>\n",
       "      <td>60.3202</td>\n",
       "      <td>0</td>\n",
       "      <td>13</td>\n",
       "      <td>3</td>\n",
       "    </tr>\n",
       "    <tr>\n",
       "      <th>LMO7</th>\n",
       "      <td>23</td>\n",
       "      <td>[(4, 0.0003), (19, 0.0033), (20, 0.0065), (21,...</td>\n",
       "      <td>11.0</td>\n",
       "      <td>115.9678</td>\n",
       "      <td>113.1125</td>\n",
       "      <td>69.4531</td>\n",
       "      <td>0</td>\n",
       "      <td>11</td>\n",
       "      <td>6</td>\n",
       "    </tr>\n",
       "    <tr>\n",
       "      <th>ADM</th>\n",
       "      <td>23</td>\n",
       "      <td>[(20, 0.0409), (23, 0.5248)]</td>\n",
       "      <td>2.0</td>\n",
       "      <td>120.1550</td>\n",
       "      <td>111.6802</td>\n",
       "      <td>80.6420</td>\n",
       "      <td>0</td>\n",
       "      <td>11</td>\n",
       "      <td>6</td>\n",
       "    </tr>\n",
       "  </tbody>\n",
       "</table>\n",
       "<p>5000 rows × 9 columns</p>\n",
       "</div>"
      ],
      "text/plain": [
       "        main_com                                    gene_membership  \\\n",
       "FOSB           0  [(0, 0.9362), (4, 0.0001), (20, 0.0001), (21, ...   \n",
       "TIAM1          1                                         [(1, 1.0)]   \n",
       "ELF3           1                                         [(1, 1.0)]   \n",
       "AHR            2                                         [(2, 1.0)]   \n",
       "ABCC5          1                                         [(1, 1.0)]   \n",
       "...          ...                                                ...   \n",
       "CBWD6         21  [(4, 0.0139), (19, 0.1721), (20, 0.0445), (21,...   \n",
       "MDM2          36  [(19, 0.0583), (20, 0.0042), (22, 0.3047), (24...   \n",
       "TXNRD1        26  [(20, 0.0032), (23, 0.0002), (26, 0.5143), (27...   \n",
       "LMO7          23  [(4, 0.0003), (19, 0.0033), (20, 0.0065), (21,...   \n",
       "ADM           23                       [(20, 0.0409), (23, 0.5248)]   \n",
       "\n",
       "        mut_count       mean     median        std  TF  P_lvl_1  P_lvl_2  \n",
       "FOSB          2.0   252.0652     1.4375   521.5104   1        0        2  \n",
       "TIAM1        16.0    12.4743     7.9086    14.7256   0        1        1  \n",
       "ELF3         49.0  1664.9102  1434.5190  1533.9371   1        1        1  \n",
       "AHR          23.0   108.7085    78.1893    81.3957   1        1        1  \n",
       "ABCC5        20.0    75.5424    56.6611    61.5194   0        1        1  \n",
       "...           ...        ...        ...        ...  ..      ...      ...  \n",
       "CBWD6         0.0    12.8076    11.5661     7.8424   0        3        0  \n",
       "MDM2          4.0    92.7512    75.4506    97.5653   0       10        0  \n",
       "TXNRD1        6.0    97.8399    91.5946    60.3202   0       13        3  \n",
       "LMO7         11.0   115.9678   113.1125    69.4531   0       11        6  \n",
       "ADM           2.0   120.1550   111.6802    80.6420   0       11        6  \n",
       "\n",
       "[5000 rows x 9 columns]"
      ]
     },
     "execution_count": 39,
     "metadata": {},
     "output_type": "execute_result"
    }
   ],
   "source": [
    "max_iters = com_df.max().max()\n",
    "filtered_df = com_df[list(com_df.columns[:35])].copy(deep=True)\n",
    "filtered_df = round(filtered_df / max_iters, 4)\n",
    "non_zero_values = filtered_df.apply(lambda row: [(col.split(\"_\")[-1], value) for col, value in row.items() if value != 0], axis=1)\n",
    "\n",
    "filtered_df[\"gene_membership\"] = non_zero_values\n",
    "filtered_df[\"main_com\"] = com_df[\"max_b\"]\n",
    "filtered_df[\"mut_count\"] = nodes_df[\"count\"]\n",
    "filtered_df[\"mean\"] = nodes_df[\"mean\"]\n",
    "filtered_df[\"median\"] = nodes_df[\"median\"]\n",
    "filtered_df[\"TF\"] = nodes_df[\"TF\"]\n",
    "filtered_df[\"std\"] = nodes_df[\"std\"]\n",
    "filtered_df[\"P_lvl_1\"] = nodes_df[\"P_lvl_1\"]\n",
    "filtered_df[\"P_lvl_2\"] = nodes_df[\"P_lvl_2\"]\n",
    "filter = filtered_df[[\"main_com\", \"gene_membership\", \"mut_count\", \"mean\", \"median\", \"std\", \"TF\", \"P_lvl_1\", \"P_lvl_2\"]]\n",
    "\n",
    "# filter.to_csv(f\"{figures_path}/nodes_membership.tsv\", sep=\"\\t\")\n",
    "filter"
   ]
  }
 ],
 "metadata": {
  "kernelspec": {
   "display_name": "iNet_gt",
   "language": "python",
   "name": "python3"
  },
  "language_info": {
   "codemirror_mode": {
    "name": "ipython",
    "version": 3
   },
   "file_extension": ".py",
   "mimetype": "text/x-python",
   "name": "python",
   "nbconvert_exporter": "python",
   "pygments_lexer": "ipython3",
   "version": "3.11.8"
  }
 },
 "nbformat": 4,
 "nbformat_minor": 2
}
