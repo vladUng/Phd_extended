{
 "cells": [
  {
   "cell_type": "markdown",
   "metadata": {},
   "source": [
    "# Motivation\n",
    "\n",
    "This notebook analyses the impact of choosing different gene expression filtering. There are two strategies:\n",
    "\n",
    "1. permissive (standard in literature) - considers a gene to be expressed if it is present in at least 10% of the samples\n",
    "2. aggresive (used in the project) - considers a gene to be expressed if it is present in at least 90% of the samples"
   ]
  },
  {
   "cell_type": "code",
   "execution_count": 1,
   "metadata": {},
   "outputs": [
    {
     "name": "stdout",
     "output_type": "stream",
     "text": [
      "The autoreload extension is already loaded. To reload it, use:\n",
      "  %reload_ext autoreload\n"
     ]
    }
   ],
   "source": [
    "%load_ext autoreload\n",
    "import pandas as pd\n",
    "import numpy as np\n",
    "import os\n",
    "import sys\n",
    "\n",
    "import plotly.express as px\n",
    "import plotly.graph_objects as go\n",
    "import plotly.io as pio\n",
    "import dash_bio\n",
    "import plotly.figure_factory as ff\n",
    "from scipy.spatial.distance import pdist, squareform\n",
    "\n",
    "import multiprocess as mp\n",
    "\n",
    "# own libraries\n",
    "sys.path.append('/Users/vlad/Documents/Code/York/iNet_v2/src/')\n",
    "\n",
    "from NetworkAnalysis.ExperimentSet import ExperimentSet\n",
    "from NetworkAnalysis.GraphToolExp import GraphToolExperiment as GtExp\n",
    "sys.path.append(os.path.dirname(\"../../src\")) # needed for older pickler\n",
    "\n",
    "from NetworkAnalysis import GraphHelper as gh\n",
    "from NetworkAnalysis.utilities import sankey_consensus_plot as sky\n",
    "from NetworkAnalysis.utilities.helpers import save_fig\n",
    "\n",
    "from NetworkAnalysis.utilities import pre_processing as pre\n",
    "from NetworkAnalysis.utilities import modelling as md\n",
    "\n",
    "\n",
    "pio.templates.default = \"ggplot2\""
   ]
  },
  {
   "cell_type": "code",
   "execution_count": 52,
   "metadata": {},
   "outputs": [],
   "source": [
    "results_path = \"../../results/exp/\"\n",
    "data_base = \"../../data/\"\n",
    "base_path = \"../../results/\"\n",
    "exp_folder_tumour = \"network_I/tum/\"\n",
    "tcga_data = \"../../data/tumour/\"\n",
    "\n",
    "figures_path = \"gene_selection/\"\n",
    "\n",
    "#### Load the data ####\n",
    "vu_output = pd.read_csv(f\"{data_base}/metadata/VU_clustering_v3.tsv\", sep=\"\\t\", index_col=\"Sample\")\n",
    "\n",
    "# prep mut\n",
    "tcga_mutations_df = pd.read_csv(f\"{data_base}/tumour/mutations_tcga.csv\")\n",
    "tcga_mutations_df = tcga_mutations_df[tcga_mutations_df[\"count\"] != 0].set_index(\"gene\")\n",
    "consensus_classifier = pd.read_csv(f\"{tcga_data}/consensus_classifier_comparisons.tsv\", sep=\"\\t\")\n",
    "\n",
    "all_tum_tpms = pd.read_csv(f\"{data_base}/tumour/tum_TPMs_selected_genes_gc42_all_v4.tsv\", sep=\"\\t\", index_col=\"genes\")\n",
    "all_markers = pd.read_csv(f\"{data_base}/known_markers.tsv\", sep=\"\\t\").drop(columns=\"Unnamed: 0\")\n",
    "\n",
    "## TCGA data\n",
    "tcga_metadata_df = pd.read_csv(f\"{tcga_data}/metadata_tcga_v2.csv\")\n",
    "\n",
    "# Get the IFNG signature\n",
    "infg_sig = list(all_markers[\"sb_ifng\"].dropna().values)"
   ]
  },
  {
   "cell_type": "markdown",
   "metadata": {},
   "source": [
    "# Tumour comparions"
   ]
  },
  {
   "cell_type": "code",
   "execution_count": 33,
   "metadata": {},
   "outputs": [
    {
     "name": "stdout",
     "output_type": "stream",
     "text": [
      "For th 0.1 ==> at least non-NAN values 40\n",
      "####### Gene selection, num genes: 32376 #######\n",
      "The genes selected by the highest standard deviation/median ration.\n",
      "24453\n",
      "For th 0.9 ==> at least non-NAN values 364\n",
      "####### Gene selection, num genes: 32376 #######\n",
      "The genes selected by the highest standard deviation/median ration.\n",
      "13373\n"
     ]
    }
   ],
   "source": [
    "data_permisive, working_tpm, raw_metadata_t, selected_genes, common_samples = pre.prep_data(\n",
    "    all_tum_tpms.reset_index(), tcga_metadata_df.copy(deep=True), consensus_classifier, remap_cols=False, at_least_good=0.1, num_genes=all_tum_tpms.shape[0]\n",
    ")\n",
    "data_permisive[\"median_std\"] = data_permisive.std(axis=1) / data_permisive.median(axis=1)\n",
    "data_permisive[\"rank_median_std\"] = data_permisive[\"median_std\"].rank(ascending=False, method=\"first\")\n",
    "\n",
    "data_aggresive, working_tpm, raw_metadata_t, selected_genes, common_samples = pre.prep_data(\n",
    "    all_tum_tpms.reset_index(), tcga_metadata_df.copy(deep=True), consensus_classifier, remap_cols=False, at_least_good=0.90, num_genes=all_tum_tpms.shape[0]\n",
    ")\n",
    "data_aggresive[\"median_std\"] = data_aggresive.std(axis=1) / data_aggresive.median(axis=1)\n",
    "data_aggresive[\"rank_median_std\"] = data_aggresive[\"median_std\"].rank(ascending=False, method=\"first\")"
   ]
  },
  {
   "cell_type": "code",
   "execution_count": 57,
   "metadata": {},
   "outputs": [],
   "source": [
    "ifng_permisive = data_permisive.loc[data_permisive.index.isin(infg_sig)][[\"median_std\", \"rank_median_std\"]].sort_values(\"rank_median_std\", ascending=True)\n",
    "ifng_permisive[\"type\"] = \"Permisive\"\n",
    "\n",
    "ifng_aggresive = data_aggresive.loc[data_aggresive.index.isin(infg_sig)][[\"median_std\", \"rank_median_std\"]].sort_values(\"rank_median_std\", ascending=True)\n",
    "ifng_aggresive[\"type\"] = \"Aggresive\"\n",
    "\n",
    "\n",
    "dmy_df = pd.concat([ifng_aggresive, ifng_permisive], axis=0).reset_index()"
   ]
  },
  {
   "cell_type": "code",
   "execution_count": 59,
   "metadata": {},
   "outputs": [],
   "source": [
    "fig = px.bar(dmy_df, x=\"genes\", y=\"rank_median_std\", color=\"type\", barmode=\"group\")\n",
    "\n",
    "fig = fig.update_layout(\n",
    "    title=\"\",\n",
    "    legend=dict(\n",
    "        title=\"Gene filtering\",\n",
    "        orientation=\"h\",\n",
    "        yanchor=\"middle\",\n",
    "        xanchor=\"center\",\n",
    "        y=0.92,\n",
    "        x=0.5,\n",
    "        bgcolor=\"rgba(0,0,0,0)\",\n",
    "        font=dict(size=20, color=\"#003366\"),\n",
    "    ),\n",
    "    yaxis=dict(tickfont=dict(size=20), title=\"std/median rank\"),\n",
    "    xaxis=dict(tickfont=dict(size=20), title=\"gene\"),\n",
    "    font=dict(size=20),\n",
    "    height=600,\n",
    ")\n",
    "\n",
    "\n",
    "save_fig(name=\"ifng_ranks\", fig=fig, base_path=figures_path, width=1300, height=600, margin=0.02)"
   ]
  }
 ],
 "metadata": {
  "kernelspec": {
   "display_name": "iNet_gt",
   "language": "python",
   "name": "python3"
  },
  "language_info": {
   "codemirror_mode": {
    "name": "ipython",
    "version": 3
   },
   "file_extension": ".py",
   "mimetype": "text/x-python",
   "name": "python",
   "nbconvert_exporter": "python",
   "pygments_lexer": "ipython3",
   "version": "3.11.8"
  }
 },
 "nbformat": 4,
 "nbformat_minor": 2
}
