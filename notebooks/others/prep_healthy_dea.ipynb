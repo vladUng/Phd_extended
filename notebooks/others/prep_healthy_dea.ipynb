{
 "cells": [
  {
   "cell_type": "markdown",
   "metadata": {},
   "source": [
    "# Motivation\n",
    "\n",
    "A notebook where I'm preparing the info files to run DEA. I wanted to be separated from all the other analysis"
   ]
  },
  {
   "cell_type": "code",
   "execution_count": 1,
   "metadata": {},
   "outputs": [
    {
     "name": "stdout",
     "output_type": "stream",
     "text": [
      "The autoreload extension is already loaded. To reload it, use:\n",
      "  %reload_ext autoreload\n"
     ]
    }
   ],
   "source": [
    "%load_ext autoreload\n",
    "import pandas as pd\n",
    "import numpy as np\n",
    "import os\n",
    "import sys\n",
    "\n",
    "import plotly.express as px\n",
    "from plotly.subplots import make_subplots\n",
    "import plotly.graph_objects as go\n",
    "import plotly.io as pio\n",
    "\n",
    "import multiprocess as mp\n"
   ]
  },
  {
   "cell_type": "code",
   "execution_count": 9,
   "metadata": {},
   "outputs": [],
   "source": [
    "figures_path = \"tissue_diff/\"\n",
    "data_base = \"../../data/\"\n",
    "results_path_diff = \"tissue_diff/\"\n",
    "results_path_split = \"non_tum_split/\"\n",
    "\n",
    "healthy_metadata = pd.read_csv(f\"{data_base}/metadata/healthy_bladder_metadata.tsv\", sep=\"\\t\", index_col=\"Sample\", dtype_backend=\"pyarrow\")"
   ]
  },
  {
   "cell_type": "markdown",
   "metadata": {},
   "source": [
    "# Prep healthy for sleuth"
   ]
  },
  {
   "cell_type": "code",
   "execution_count": 3,
   "metadata": {},
   "outputs": [],
   "source": [
    "healthy_metadata = pd.read_csv(f\"{data_base}/metadata/healthy_bladder_metadata.tsv\", sep=\"\\t\", index_col=\"Sample\").drop(\"Y2796_P0\")\n",
    "folders_viking = pd.read_csv(f\"{data_base}/metadata/viking_directories.tsv\", sep=\"\\t\").drop(columns=[\"Unnamed: 1\"]).rename(columns={\"./\": \"folder\"})\n",
    "\n",
    "\n",
    "healthy_metadata[\"sample_prcsd\"] = healthy_metadata.index.str.replace(\"-\", \"_\")\n",
    "folders_viking[\"folder_orig\"] = folders_viking[\"folder\"].astype(str)\n",
    "folders_viking[\"folder_prcsd\"] = folders_viking[\"folder\"].str.replace(\"-\", \"_\")"
   ]
  },
  {
   "cell_type": "code",
   "execution_count": 4,
   "metadata": {},
   "outputs": [],
   "source": [
    "matched_samples = {}\n",
    "base_path_viking = \"/mnt/scratch/projects/biol-cancerinf-2020/Raw-Data/20240212-Healthy-Bladder-Vlad/kallisto-gencode-v42\"\n",
    "for idx, row in folders_viking.iterrows():\n",
    "    folder_orig = row[\"folder_orig\"].split(\"./\")[-1]\n",
    "    folder = row[\"folder_prcsd\"].split(\"./\")[1]\n",
    "\n",
    "    comps = folder.split(\"_\")\n",
    "    sample = comps[0]\n",
    "    tissue_type = comps[-1]\n",
    "\n",
    "    for idx, row_meta in healthy_metadata.iterrows():\n",
    "        meta_cmp = row_meta[\"sample_prcsd\"].split(\"_\")\n",
    "        sample_meta = meta_cmp[0]\n",
    "        meta_tissue_type = meta_cmp[1]\n",
    "\n",
    "        if sample == sample_meta and meta_tissue_type == tissue_type:\n",
    "            matched_samples[row_meta.name] = f\"{base_path_viking}/{folder_orig}/abundance.h5\"\n",
    "            break\n",
    "test_df = pd.DataFrame.from_dict(matched_samples, orient=\"index\", columns=[\"folder\"])\n",
    "healthy_metadata[\"folder\"] = test_df[\"folder\"]"
   ]
  },
  {
   "cell_type": "code",
   "execution_count": 5,
   "metadata": {},
   "outputs": [
    {
     "name": "stdout",
     "output_type": "stream",
     "text": [
      "ABS-Ca - P0\n",
      "(73, 4)\n",
      "UD - P0\n",
      "(37, 4)\n",
      "ABS-Ca - UD\n",
      "(66, 4)\n"
     ]
    }
   ],
   "source": [
    "cluster_1 = \"ABS-Ca\"\n",
    "cluster_2 = \"P0\"\n",
    "\n",
    "combinations = [(\"ABS-Ca\", \"P0\"), (\"UD\", \"P0\"), (\"ABS-Ca\", \"UD\")]\n",
    "for cluster_1, cluster_2 in combinations:\n",
    "    print(f\"{cluster_1} - {cluster_2}\")\n",
    "    group_1 = healthy_metadata[healthy_metadata[\"NHU_differentiation\"] == cluster_1].copy(deep=True)\n",
    "    group_1[\"express\"] = 1\n",
    "    group_1[\"tissue_type\"] = cluster_1\n",
    "    group_2 = healthy_metadata[healthy_metadata[\"NHU_differentiation\"] == cluster_2].copy(deep=True)\n",
    "    group_2[\"express\"] = 2\n",
    "    group_2[\"tissue_type\"] = cluster_2\n",
    "\n",
    "    sel_cols = [\"express\", \"folder\", \"tissue_type\"]\n",
    "    comb_df = pd.concat([group_1[sel_cols], group_2[sel_cols]], axis=0).reset_index(names=\"sample\").rename(columns={\"folder\": \"path\"})\n",
    "    comb_df.to_csv(f\"{results_path_diff}/sleuth_{cluster_1}_{cluster_2}.info\", sep=\"\\t\")\n",
    "    print(comb_df.shape)"
   ]
  },
  {
   "cell_type": "markdown",
   "metadata": {},
   "source": [
    "## Using non-tum subtyping"
   ]
  },
  {
   "cell_type": "code",
   "execution_count": 11,
   "metadata": {},
   "outputs": [],
   "source": [
    "from collections import Counter\n",
    "from itertools import combinations\n",
    "\n",
    "\n",
    "morp_df = pd.read_csv(\"../network_II/standard/Morpheus/non_tum/prcsd_morpheus_cs_7.tsv\", sep=\"\\t\", index_col=\"sample\")\n",
    "cluster_model = \"dendrogram_cut\"\n",
    "counter_values = Counter(morp_df[cluster_model])  # for verifying\n",
    "unique_values = morp_df[cluster_model].unique()\n",
    "unique_values.sort()\n",
    "\n",
    "morp_df[\"folder\"] = test_df[\"folder\"]"
   ]
  },
  {
   "cell_type": "code",
   "execution_count": 12,
   "metadata": {},
   "outputs": [
    {
     "name": "stdout",
     "output_type": "stream",
     "text": [
      "1.0 - 2.0\n",
      "(22, 4)\n",
      "1.0 - 3.0\n",
      "(22, 4)\n",
      "1.0 - 5.0\n",
      "(7, 4)\n",
      "1.0 - 6.0\n",
      "(17, 4)\n",
      "1.0 - 7.0\n",
      "(31, 4)\n",
      "2.0 - 3.0\n",
      "(38, 4)\n",
      "2.0 - 5.0\n",
      "(23, 4)\n",
      "2.0 - 6.0\n",
      "(33, 4)\n",
      "2.0 - 7.0\n",
      "(47, 4)\n",
      "3.0 - 5.0\n",
      "(23, 4)\n",
      "3.0 - 6.0\n",
      "(33, 4)\n",
      "3.0 - 7.0\n",
      "(47, 4)\n",
      "5.0 - 6.0\n",
      "(18, 4)\n",
      "5.0 - 7.0\n",
      "(32, 4)\n",
      "6.0 - 7.0\n",
      "(42, 4)\n"
     ]
    }
   ],
   "source": [
    "for cluster_1, cluster_2 in list(combinations(unique_values, 2)):\n",
    "    print(f\"{cluster_1} - {cluster_2}\")\n",
    "    group_1 = morp_df[morp_df[cluster_model] == cluster_1].copy(deep=True)\n",
    "    group_1[\"express\"] = int(cluster_1)\n",
    "    group_2 = morp_df[morp_df[cluster_model] == cluster_2].copy(deep=True)\n",
    "    group_2[\"express\"] = int(cluster_2)\n",
    "\n",
    "    sel_cols = [\"express\", \"folder\", \"NHU_differentiation\"]\n",
    "    comb_df = pd.concat([group_1[sel_cols], group_2[sel_cols]], axis=0).reset_index(names=\"sample\").rename(columns={\"folder\": \"path\"})\n",
    "    comb_df.to_csv(f\"{results_path_split}/sleuth_{cluster_1}_{cluster_2}.info\", sep=\"\\t\")\n",
    "    print(comb_df.shape)"
   ]
  }
 ],
 "metadata": {
  "kernelspec": {
   "display_name": "iNet_gt",
   "language": "python",
   "name": "python3"
  },
  "language_info": {
   "codemirror_mode": {
    "name": "ipython",
    "version": 3
   },
   "file_extension": ".py",
   "mimetype": "text/x-python",
   "name": "python",
   "nbconvert_exporter": "python",
   "pygments_lexer": "ipython3",
   "version": "3.11.8"
  }
 },
 "nbformat": 4,
 "nbformat_minor": 2
}
