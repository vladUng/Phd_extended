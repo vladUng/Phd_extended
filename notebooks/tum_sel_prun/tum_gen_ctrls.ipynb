{
 "cells": [
  {
   "cell_type": "markdown",
   "metadata": {},
   "source": [
    "# Motivation\n",
    "\n",
    "The purpose of this notebook is to test if we can find the 98 TFs in the tumour networks.\n",
    "\n",
    "It also generate the control lists of the TFs"
   ]
  },
  {
   "cell_type": "code",
   "execution_count": 2,
   "metadata": {},
   "outputs": [
    {
     "name": "stdout",
     "output_type": "stream",
     "text": [
      "The autoreload extension is already loaded. To reload it, use:\n",
      "  %reload_ext autoreload\n"
     ]
    }
   ],
   "source": [
    "%load_ext autoreload\n",
    "import warnings\n",
    "warnings.simplefilter(action='ignore', category=FutureWarning)\n",
    "import pandas as pd\n",
    "import numpy as np\n",
    "import os\n",
    "import sys\n",
    "\n",
    "import plotly.express as px\n",
    "import plotly.io as pio\n",
    "import plotly.graph_objects as go\n",
    "import matplotlib.pyplot as plt\n",
    "\n",
    "import multiprocess as mp\n",
    "\n",
    "\n",
    "# own libraries\n",
    "sys.path.append('/Users/vlad/Developer/York/iNet_v2/src/')\n",
    "\n",
    "from NetworkAnalysis.ExperimentSet import ExperimentSet\n",
    "from NetworkAnalysis.NetworkOutput import NetworkOutput\n",
    "\n",
    "from NetworkAnalysis import GraphHelper as gh\n",
    "from NetworkAnalysis.utilities import clustering as cs\n",
    "from NetworkAnalysis.utilities import sankey_consensus_plot as sky\n",
    "from NetworkAnalysis.utilities.helpers import save_fig, survival_plot\n",
    "from NetworkAnalysis.GraphToolExp import GraphToolExperiment as GtExp\n",
    "from NetworkAnalysis.dea import dea\n",
    "from NetworkAnalysis.dea import helpers as dea_hp\n",
    "from NetworkAnalysis.dea import gsea as gsea_hp\n",
    "# Gsea libraries\n",
    "\n",
    "pio.templates.default = \"ggplot2\"\n",
    "\n",
    "pool = mp.Pool(mp.cpu_count())"
   ]
  },
  {
   "cell_type": "code",
   "execution_count": 3,
   "metadata": {},
   "outputs": [],
   "source": [
    "data_base = \"../../data/\"\n",
    "base_path = \"../../results/\"\n",
    "exp_folder_tumour = \"network_I/gc_47/tum/\"  # \"/integration_v2.1/tum/\" - path from iNET\n",
    "\n",
    "# figures_path = base_path + exp_folder_tumour + \"Figures/\"\n",
    "figures_path = \"controls/\"\n",
    "\n",
    "vu_output = pd.read_csv(f\"{data_base}/metadata/VU_clustering_v3.tsv\", sep=\"\\t\", index_col=\"Sample\")\n",
    "\n",
    "# prep mut\n",
    "tcga_mutations_df = pd.read_csv(f\"{data_base}/tumour/mutations_tcga.csv\")\n",
    "tcga_mutations_df = tcga_mutations_df[tcga_mutations_df[\"count\"] != 0].set_index(\"gene\")\n",
    "\n",
    "all_tum_tpms = pd.read_csv(f\"{data_base}/tumour/TPMs_selected_genes_v3_13k_gc42.tsv\", sep=\"\\t\", index_col=\"genes\")\n",
    "all_tum_tpms_v4 = pd.read_csv(f\"{data_base}/tumour/tum_TPMs_selected_genes_gc42_all_v4.tsv\", sep=\"\\t\", index_col=\"genes\")\n",
    "\n",
    "# tf list\n",
    "tf_path = f\"{data_base}/metadata/TF_names_v_1.01.txt\"\n",
    "if os.path.exists(tf_path):\n",
    "    tf_list = np.genfromtxt(fname=tf_path, delimiter=\"\\t\", skip_header=1, dtype=\"str\")\n",
    "\n",
    "\n",
    "sel_tfs = pd.read_csv(f\"{data_base}/tf_ctrl.csv\", index_col=\"gene\")\n",
    "sel_tfs[\"tum_mean_expression\"] = all_tum_tpms_v4.loc[sel_tfs.index].mean(axis=1)\n",
    "sel_tfs[\"tum_median_expression\"] = all_tum_tpms_v4.loc[sel_tfs.index].median(axis=1)\n",
    "sel_tfs[\"tum_std_expression\"] = all_tum_tpms_v4.loc[sel_tfs.index].std(axis=1)\n",
    "sel_tfs[\"tum_var_expression\"] = all_tum_tpms_v4.loc[sel_tfs.index].var(axis=1)"
   ]
  },
  {
   "cell_type": "markdown",
   "metadata": {},
   "source": [
    "## Load experiment sets"
   ]
  },
  {
   "cell_type": "code",
   "execution_count": 4,
   "metadata": {},
   "outputs": [],
   "source": [
    "exp_folder_tumour = \"network_I/gc_47/tum/\"  # \"/integration_v2.1/tum/\" - path from iNET\n"
   ]
  },
  {
   "cell_type": "code",
   "execution_count": 6,
   "metadata": {},
   "outputs": [
    {
     "name": "stdout",
     "output_type": "stream",
     "text": [
      "##### Experiment labels:  dict_keys(['standard_5K_13TF_hsbm'])\n"
     ]
    }
   ],
   "source": [
    "%autoreload 2\n",
    "base_path = \"../../results/\"\n",
    "\n",
    "tum = ExperimentSet(\"tum\", base_path, exp_folder_tumour, tcga_mutations_df, sel_sets = [\"5K\",], rel_path=\"../\", exp_type='iNet')\n",
    "# p0 = ExperimentSet(\"p0\", base_path, exp_folder_p0, tcga_mutations_df, sel_sets = [\"4K\"], rel_path=\"../\")\n",
    "\n",
    "%autoreload 2\n",
    "tum.export_to_gephi(save=False)\n",
    "# p0.export_to_gephi(save=False)"
   ]
  },
  {
   "cell_type": "code",
   "execution_count": 7,
   "metadata": {},
   "outputs": [
    {
     "name": "stdout",
     "output_type": "stream",
     "text": [
      "######## Runing TF control (random genes) ########\n"
     ]
    }
   ],
   "source": [
    "if True:\n",
    "\n",
    "    sel_exp: NetworkOutput = tum.exps['standard_5K_13TF_hsbm']\n",
    "\n",
    "    print(\"######## Runing TF control (random genes) ########\")\n",
    "    import random\n",
    "\n",
    "    for i in range(1, 11, 1):\n",
    "        used_5K_genes = sel_exp.tpm_df.index.values\n",
    "\n",
    "        # not all tf maybe in the dataset\n",
    "        tf_not_found = set(tf_list) - set(used_5K_genes)\n",
    "        non_tf = list(set(used_5K_genes) - set(tf_list))\n",
    "\n",
    "        # randomnly select n genes from the list to be used as control.\n",
    "        #  we substract the number of tf that are not presented in order to keep it as the same number for tf\n",
    "        random_genes = random.sample(non_tf, len(tf_list) - len(tf_not_found))\n",
    "\n",
    "        # override tfList\n",
    "        random_tf = list(random_genes)\n",
    "        pd.DataFrame(random_tf, columns=[\"gene\"]).to_csv(figures_path + \"TF_rand_{}_v1.tsv\".format(i), index=False)"
   ]
  },
  {
   "cell_type": "code",
   "execution_count": 8,
   "metadata": {},
   "outputs": [
    {
     "name": "stdout",
     "output_type": "stream",
     "text": [
      "TFs in CS 47 324\n",
      "Small Basal TFs in CS 42 2/8\n"
     ]
    }
   ],
   "source": [
    "net_47 = sel_exp.tpm_df.index\n",
    "tf_47 = set(net_47) & set(tf_list)\n",
    "print(f\"TFs in CS 47 {len(tf_47)}\")\n",
    "\n",
    "small_basal = ['KLF5', 'TP63', 'BCL6', 'SPEN', 'SP1', 'TCF20', 'MAFG', 'ZNF609']\n",
    "tf_47 = set(net_47) & set(small_basal)\n",
    "\n",
    "print(f\"Small Basal TFs in CS 42 {len(tf_47)}/{len(small_basal)}\")\n"
   ]
  }
 ],
 "metadata": {
  "kernelspec": {
   "display_name": "iNet_gt",
   "language": "python",
   "name": "python3"
  },
  "language_info": {
   "codemirror_mode": {
    "name": "ipython",
    "version": 3
   },
   "file_extension": ".py",
   "mimetype": "text/x-python",
   "name": "python",
   "nbconvert_exporter": "python",
   "pygments_lexer": "ipython3",
   "version": "3.12.2"
  }
 },
 "nbformat": 4,
 "nbformat_minor": 2
}
