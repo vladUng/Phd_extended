{
 "cells": [
  {
   "cell_type": "markdown",
   "metadata": {},
   "source": [
    "# Motivation\n",
    "\n",
    "The purpose of this notebook is to test if we can find the 98 TFs in the tumour networks.\n",
    "\n",
    "It also generate the control lists of the TFs"
   ]
  },
  {
   "cell_type": "code",
   "execution_count": 1,
   "metadata": {},
   "outputs": [
    {
     "name": "stdout",
     "output_type": "stream",
     "text": [
      "The autoreload extension is already loaded. To reload it, use:\n",
      "  %reload_ext autoreload\n"
     ]
    }
   ],
   "source": [
    "%load_ext autoreload\n",
    "import warnings\n",
    "warnings.simplefilter(action='ignore', category=FutureWarning)\n",
    "import pandas as pd\n",
    "import numpy as np\n",
    "import os\n",
    "import sys\n",
    "\n",
    "import plotly.express as px\n",
    "import plotly.io as pio\n",
    "import plotly.graph_objects as go\n",
    "import matplotlib.pyplot as plt\n",
    "\n",
    "import multiprocess as mp\n",
    "\n",
    "\n",
    "# own libraries\n",
    "sys.path.append('/Users/vlad/Developer/York/iNet_v2/src/')\n",
    "\n",
    "from NetworkAnalysis.ExperimentSet import ExperimentSet\n",
    "from NetworkAnalysis.NetworkOutput import NetworkOutput\n",
    "\n",
    "from NetworkAnalysis import GraphHelper as gh\n",
    "from NetworkAnalysis.utilities import clustering as cs\n",
    "from NetworkAnalysis.utilities import sankey_consensus_plot as sky\n",
    "from NetworkAnalysis.utilities.helpers import save_fig, survival_plot\n",
    "from NetworkAnalysis.GraphToolExp import GraphToolExperiment as GtExp\n",
    "from NetworkAnalysis.dea import dea\n",
    "from NetworkAnalysis.dea import helpers as dea_hp\n",
    "from NetworkAnalysis.dea import gsea as gsea_hp\n",
    "from NetworkAnalysis.utilities import pre_processing as pre\n",
    "\n",
    "# Gsea libraries\n",
    "\n",
    "pio.templates.default = \"ggplot2\"\n",
    "\n",
    "pool = mp.Pool(mp.cpu_count())"
   ]
  },
  {
   "cell_type": "code",
   "execution_count": 55,
   "metadata": {},
   "outputs": [],
   "source": [
    "data_base = \"../../data/\"\n",
    "base_path = \"../../results/\"\n",
    "exp_folder_h47_ctrl = '../results/network_I/gc_47/tum_ctrls/'\n",
    "tcga_data = \"../../data/tumour/\"\n",
    "\n",
    "exp_folder_tumour = \"network_I/gc_47/tum/\"  # \"/integration_v2.1/tum/\" - path from iNET\n",
    "exp_folder_tumour_42 = \"network_I/gc_42/tum/\"  # \"/integration_v2.1/tum/\" - path from iNET\n",
    "\n",
    "# figures_path = base_path + exp_folder_tumour + \"Figures/\"\n",
    "figures_path = \"controls/\"\n",
    "\n",
    "vu_output = pd.read_csv(f\"{data_base}/metadata/VU_clustering_v3.tsv\", sep=\"\\t\", index_col=\"Sample\")\n",
    "\n",
    "# prep mut\n",
    "tcga_mutations_df = pd.read_csv(f\"{data_base}/tumour/mutations_tcga.csv\")\n",
    "tcga_mutations_df = tcga_mutations_df[tcga_mutations_df[\"count\"] != 0].set_index(\"gene\")\n",
    "\n",
    "all_tum_tpms = pd.read_csv(f\"{data_base}/tumour/TPMs_selected_genes_v3_13k_gc42.tsv\", sep=\"\\t\", index_col=\"genes\")\n",
    "all_tum_tpms_v4 = pd.read_csv(f\"{data_base}/tumour/tum_TPMs_selected_genes_gc42_all_v4.tsv\", sep=\"\\t\", index_col=\"genes\")\n",
    "\n",
    "tum_tpms_gc47 = pd.read_csv(f\"{data_base}/tumour/gc47_tpms_selected_14k.tsv\", sep=\"\\t\", index_col=\"gene\")\n",
    "\n",
    "tcga_metadata_df = pd.read_csv(\n",
    "    f\"{tcga_data}/metadata_tcga_v2.csv\"\n",
    ")  # This version contains some small modifications on the spreadsheet such as removing duplicates of 01B as some were 01b and others 01B\n",
    "consensus_classifier = pd.read_csv(f\"{tcga_data}/consensus_classifier_comparisons.tsv\", sep=\"\\t\")\n",
    "\n",
    "# tf list\n",
    "tf_path = f\"{data_base}/metadata/TF_names_v_1.01.txt\"\n",
    "if os.path.exists(tf_path):\n",
    "    tf_list = np.genfromtxt(fname=tf_path, delimiter=\"\\t\", skip_header=1, dtype=\"str\")\n",
    "\n",
    "\n",
    "sel_tfs = pd.read_csv(f\"{data_base}/tf_ctrl.csv\", index_col=\"gene\")\n",
    "sel_tfs[\"tum_mean_expression\"] = all_tum_tpms_v4.loc[sel_tfs.index].mean(axis=1)\n",
    "sel_tfs[\"tum_median_expression\"] = all_tum_tpms_v4.loc[sel_tfs.index].median(axis=1)\n",
    "sel_tfs[\"tum_std_expression\"] = all_tum_tpms_v4.loc[sel_tfs.index].std(axis=1)\n",
    "sel_tfs[\"tum_var_expression\"] = all_tum_tpms_v4.loc[sel_tfs.index].var(axis=1)"
   ]
  },
  {
   "cell_type": "markdown",
   "metadata": {},
   "source": [
    "## Differences in gencode"
   ]
  },
  {
   "cell_type": "code",
   "execution_count": 5,
   "metadata": {},
   "outputs": [
    {
     "name": "stdout",
     "output_type": "stream",
     "text": [
      "Genes that are cmn in gc42 and gc47 w/ all the ~14k genes: 12033\n"
     ]
    }
   ],
   "source": [
    "# After aggressive gene filtering\n",
    "cmn_genes_all = set(all_tum_tpms.index) & set(tum_tpms_gc47.index)\n",
    "print(f\"Genes that are cmn in gc42 and gc47 w/ all the ~14k genes: {len(cmn_genes_all)}\")"
   ]
  },
  {
   "cell_type": "code",
   "execution_count": 24,
   "metadata": {},
   "outputs": [
    {
     "name": "stdout",
     "output_type": "stream",
     "text": [
      "Are the datasets the same? 0\n"
     ]
    }
   ],
   "source": [
    "tpms_gc42_iNet = pd.read_csv('/Users/vlad/Developer/York/iNet_v2/data/TPMs_selected_genes_v3_13k_gc42.tsv', index_col='gene', sep='\\t')\n",
    "print(f'Are the datasets the same? {len(set(tpms_gc42_iNet.index) & set(all_tum_tpms))}')\n",
    "\n",
    "corr_tpm_42 = pd.read_csv('/Users/vlad/Developer/York/iNet_v2/results/gc_42/tum/Processed/genes_5000/corr_standard.tsv', sep='\\t', index_col='gene')"
   ]
  },
  {
   "cell_type": "code",
   "execution_count": 40,
   "metadata": {},
   "outputs": [
    {
     "name": "stdout",
     "output_type": "stream",
     "text": [
      "Genes shared: gc42 vs iNet v2: 5000\n",
      "Genes shared: gc47 vs iNet v2: 3842\n"
     ]
    }
   ],
   "source": [
    "top_5000_iNet = (tpms_gc42_iNet.std(axis=1) / tpms_gc42_iNet.median(axis=1)).sort_values(ascending=False).index.values[:5000]\n",
    "top_5000_gc42 = (all_tum_tpms.std(axis=1) / all_tum_tpms.median(axis=1)).sort_values(ascending=False).index.values[:5000]\n",
    "top_5000_gc47 = (tum_tpms_gc47.std(axis=1) / tum_tpms_gc47.median(axis=1)).sort_values(ascending=False).index.values[:5000]\n",
    "\n",
    "print(f\"Genes shared: gc42 vs iNet v2: {len(set(top_5000_iNet) & set(corr_tpm_42))}\")\n",
    "\n",
    "print(f\"Genes shared: gc47 vs iNet v2: {len(set(top_5000_gc47) & set(corr_tpm_42))}\")\n"
   ]
  },
  {
   "cell_type": "code",
   "execution_count": 53,
   "metadata": {},
   "outputs": [
    {
     "name": "stdout",
     "output_type": "stream",
     "text": [
      "Shared genes gc47 & tf: 324\n",
      "Shared genes gc42 & tf: 359\n",
      "Shared genes Corr gc42 & tf: 359\n"
     ]
    }
   ],
   "source": [
    "shared_genes = set(top_5000_gc47) & set(tf_list)\n",
    "print(f\"Shared genes gc47 & tf: {len(shared_genes)}\")\n",
    "\n",
    "shared_genes = set(top_5000_gc42) & set(tf_list)\n",
    "print(f\"Shared genes gc42 & tf: {len(shared_genes)}\")\n",
    "\n",
    "shared_genes = set(corr_tpm_42.index) & set(tf_list)\n",
    "print(f\"Shared genes Corr gc42 & tf: {len(shared_genes)}\")"
   ]
  },
  {
   "cell_type": "markdown",
   "metadata": {},
   "source": [
    "## Load experiment sets"
   ]
  },
  {
   "cell_type": "code",
   "execution_count": 57,
   "metadata": {},
   "outputs": [
    {
     "name": "stdout",
     "output_type": "stream",
     "text": [
      "##### Experiment labels:  dict_keys(['standard_5K_8TF_hsbm', 'standard_5K_3TF_hsbm', 'standard_5K_11TF_hsbm', 'standard_5K_9TF_hsbm', 'standard_5K_6TF_hsbm', 'standard_5K_10TF_hsbm', 'standard_5K_5TF_hsbm', 'standard_5K_4TF_hsbm', 'standard_5K_7TF_hsbm', 'standard_5K_12TF_hsbm'])\n",
      "##### Experiment labels:  dict_keys(['standard_5K_12TF_hsbm', 'standard_5K_11TF_hsbm', 'standard_5K_4TF_hsbm', 'standard_5K_9TF_hsbm', 'standard_5K_10TF_hsbm', 'standard_5K_5TF_hsbm', 'standard_5K_3TF_hsbm', 'standard_5K_8TF_hsbm', 'standard_5K_7TF_hsbm', 'standard_5K_6TF_hsbm'])\n"
     ]
    }
   ],
   "source": [
    "%autoreload 2\n",
    "base_path = \"../../results/\"\n",
    "\n",
    "tum_47 = ExperimentSet(\"tum\", base_path, exp_folder_tumour, tcga_mutations_df, sel_sets = [\"5K\",], rel_path=\"../\", exp_type='iNet')\n",
    "sel_exp_47: NetworkOutput = tum_47.exps['standard_5K_6TF_hsbm']\n",
    "\n",
    "tum_42 = ExperimentSet(\"tum\", base_path, exp_folder_tumour_42, tcga_mutations_df, sel_sets = [\"5K\",], rel_path=\"../\", exp_type='iNet')\n",
    "sel_exp_42: NetworkOutput = tum_42.exps['standard_5K_6TF_hsbm']\n",
    "\n",
    "%autoreload 2\n",
    "tum_42.export_to_gephi(save=False)\n",
    "tum_47.export_to_gephi(save=False)"
   ]
  },
  {
   "cell_type": "code",
   "execution_count": 66,
   "metadata": {},
   "outputs": [
    {
     "name": "stdout",
     "output_type": "stream",
     "text": [
      "gc42 - gc47 .tpm_df genes diff: 1158\n",
      "tf_lust & gc42 .tpm_df genes cmn: 359\n",
      "tf_lust & gc47 .tpm_df genes cmn: 324\n"
     ]
    }
   ],
   "source": [
    "diff_genes = set(sel_exp_47.tpm_df.index) - set(sel_exp_42.tpm_df.index)\n",
    "print(f\"gc42 - gc47 .tpm_df genes diff: {len(diff_genes)}\")\n",
    "\n",
    "tf_42 = set(tf_list) & set(sel_exp_42.tpm_df.index)\n",
    "print(f\"tf_lust & gc42 .tpm_df genes cmn: {len(tf_42)}\")\n",
    "\n",
    "tf_47 = set(tf_list) & set(sel_exp_47.tpm_df.index)\n",
    "print(f\"tf_lust & gc47 .tpm_df genes cmn: {len(tf_47)}\")"
   ]
  },
  {
   "cell_type": "markdown",
   "metadata": {},
   "source": [
    "## gc42 vs gc47"
   ]
  },
  {
   "cell_type": "code",
   "execution_count": null,
   "metadata": {},
   "outputs": [],
   "source": []
  },
  {
   "cell_type": "code",
   "execution_count": null,
   "metadata": {},
   "outputs": [],
   "source": []
  },
  {
   "cell_type": "markdown",
   "metadata": {},
   "source": [
    "## Generate controls"
   ]
  },
  {
   "cell_type": "code",
   "execution_count": 54,
   "metadata": {},
   "outputs": [
    {
     "name": "stdout",
     "output_type": "stream",
     "text": [
      "######## Runing TF control (random genes) ########\n"
     ]
    }
   ],
   "source": [
    "if True:\n",
    "\n",
    "    print(\"######## Runing TF control (random genes) ########\")\n",
    "    import random\n",
    "\n",
    "    for i in range(1, 11, 1):\n",
    "        used_5K_genes = top_5000_gc42\n",
    "\n",
    "        # not all tf maybe in the dataset\n",
    "        tf_not_found = set(tf_list) - set(used_5K_genes)\n",
    "        non_tf = list(set(used_5K_genes) - set(tf_list))\n",
    "\n",
    "        # randomnly select n genes from the list to be used as control.\n",
    "        #  we substract the number of tf that are not presented in order to keep it as the same number for tf\n",
    "        random_genes = random.sample(non_tf, len(tf_list) - len(tf_not_found))\n",
    "\n",
    "        # override tfList\n",
    "        random_tf = list(random_genes)\n",
    "        pd.DataFrame(random_tf, columns=[\"gene\"]).to_csv(figures_path + \"gc_42/TF_rand_{}_v1.tsv\".format(i), index=False)"
   ]
  },
  {
   "cell_type": "code",
   "execution_count": 6,
   "metadata": {},
   "outputs": [
    {
     "name": "stdout",
     "output_type": "stream",
     "text": [
      "TFs in CS 47 324\n",
      "Small Basal TFs in CS 42 2/8\n"
     ]
    }
   ],
   "source": [
    "net_47 = sel_exp.tpm_df.index\n",
    "tf_47 = set(net_47) & set(tf_list)\n",
    "print(f\"TFs in CS 47 {len(tf_47)}\")\n",
    "\n",
    "small_basal = ['KLF5', 'TP63', 'BCL6', 'SPEN', 'SP1', 'TCF20', 'MAFG', 'ZNF609']\n",
    "tf_47 = set(net_47) & set(small_basal)\n",
    "\n",
    "print(f\"Small Basal TFs in CS 42 {len(tf_47)}/{len(small_basal)}\")\n"
   ]
  },
  {
   "cell_type": "markdown",
   "metadata": {},
   "source": [
    "## Load controls"
   ]
  },
  {
   "cell_type": "code",
   "execution_count": 7,
   "metadata": {},
   "outputs": [],
   "source": [
    "def load_experiment_set(base_path, exp_folder_path):\n",
    "    exp_path = f\"{base_path}/{exp_folder_path}/Stats/\"\n",
    "    meta_files = next(os.walk(exp_path), (None, None, []))[2]\n",
    "    # keep only the network stats\n",
    "    files = [file for file in meta_files if \"networkStats\" in file]\n",
    "    exp_set = {}\n",
    "    for file in files:\n",
    "        exp = file.replace(\".tsv\", \"\").replace(\"networkStats_tum_standard_\", \"\")\n",
    "        exp_set[exp] = pd.read_csv(f\"{exp_path}/{file}\", index_col=\"gene\", sep=\"\\t\")\n",
    "    return exp_set"
   ]
  },
  {
   "cell_type": "code",
   "execution_count": 8,
   "metadata": {},
   "outputs": [],
   "source": [
    "folders = next(os.walk(base_path + exp_folder_h47_ctrl), (None, None, []))[1]\n",
    "exp_ctrls = {}\n",
    "for folder in folders:\n",
    "    hCtrl_path = f\"/{exp_folder_h47_ctrl}/{folder}/\"\n",
    "    meta_files = next(os.walk(hCtrl_path), (None, None, []))[2]\n",
    "    # keep only the network stats\n",
    "    files = [file for file in meta_files if \"networkStats\" in file]\n",
    "    exp_ctrls[folder] = load_experiment_set(base_path, hCtrl_path)\n",
    "\n",
    "\n",
    "exp_set = load_experiment_set(base_path, exp_folder_tumour)"
   ]
  },
  {
   "cell_type": "code",
   "execution_count": null,
   "metadata": {},
   "outputs": [],
   "source": []
  }
 ],
 "metadata": {
  "kernelspec": {
   "display_name": "iNet_gt",
   "language": "python",
   "name": "python3"
  },
  "language_info": {
   "codemirror_mode": {
    "name": "ipython",
    "version": 3
   },
   "file_extension": ".py",
   "mimetype": "text/x-python",
   "name": "python",
   "nbconvert_exporter": "python",
   "pygments_lexer": "ipython3",
   "version": "3.12.2"
  }
 },
 "nbformat": 4,
 "nbformat_minor": 2
}
