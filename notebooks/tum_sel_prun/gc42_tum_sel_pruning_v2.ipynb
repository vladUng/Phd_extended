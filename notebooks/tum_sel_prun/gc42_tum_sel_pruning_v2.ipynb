{
 "cells": [
  {
   "cell_type": "markdown",
   "metadata": {},
   "source": [
    "# Motivation\n",
    "\n",
    "The purpose of this notebook is to introduce a simpler method but with the same results or similar to extract the 98 TFs"
   ]
  },
  {
   "cell_type": "code",
   "execution_count": 1,
   "metadata": {},
   "outputs": [
    {
     "name": "stdout",
     "output_type": "stream",
     "text": [
      "The autoreload extension is already loaded. To reload it, use:\n",
      "  %reload_ext autoreload\n"
     ]
    }
   ],
   "source": [
    "%load_ext autoreload\n",
    "import warnings\n",
    "warnings.simplefilter(action='ignore', category=FutureWarning)\n",
    "import pandas as pd\n",
    "import numpy as np\n",
    "import os\n",
    "import sys\n",
    "\n",
    "import plotly.express as px\n",
    "import plotly.io as pio\n",
    "import plotly.graph_objects as go\n",
    "import matplotlib.pyplot as plt\n",
    "\n",
    "import multiprocess as mp\n",
    "\n",
    "\n",
    "# own libraries\n",
    "sys.path.append('/Users/vlad/Developer/York/iNet_v2/src/')\n",
    "\n",
    "from NetworkAnalysis.ExperimentSet import ExperimentSet\n",
    "from NetworkAnalysis.NetworkOutput import NetworkOutput\n",
    "\n",
    "from NetworkAnalysis import GraphHelper as gh\n",
    "from NetworkAnalysis.utilities import clustering as cs\n",
    "from NetworkAnalysis.utilities import sankey_consensus_plot as sky\n",
    "from NetworkAnalysis.utilities.helpers import save_fig, survival_plot\n",
    "from NetworkAnalysis.GraphToolExp import GraphToolExperiment as GtExp\n",
    "from NetworkAnalysis.dea import dea\n",
    "from NetworkAnalysis.dea import helpers as dea_hp\n",
    "from NetworkAnalysis.dea import gsea as gsea_hp\n",
    "# Gsea libraries\n",
    "\n",
    "pio.templates.default = \"ggplot2\"\n",
    "\n",
    "pool = mp.Pool(mp.cpu_count())"
   ]
  },
  {
   "cell_type": "code",
   "execution_count": 2,
   "metadata": {},
   "outputs": [],
   "source": [
    "results_path = \"../../results/exp/\"\n",
    "data_base = \"../../data/\"\n",
    "base_path = \"../../results/\"\n",
    "\n",
    "\n",
    "# Experiments set\n",
    "exp_folder_tumour_42 = \"network_I/gc_42/tum/\" \n",
    "exp_folder_tumour_47 = \"network_I/gc_47/tum/\" \n",
    "\n",
    "exp_folder_h42_ctrl = '../results/network_I/gc_42/tum_ctrls/'\n",
    "\n",
    "\n",
    "figures_path = \"./tum_sel_pruning/gc_42/\"\n",
    "\n",
    "vu_net_1 = pd.read_csv(f\"{data_base}/net_I/vu_net_1.tsv\", sep=\"\\t\", index_col=\"Sample\")\n",
    "vu_output = pd.read_csv(f\"{data_base}/metadata/VU_clustering_v3.tsv\", sep=\"\\t\", index_col=\"Sample\")\n",
    "\n",
    "# Net I labels\n",
    "vu_output[\"Net_I\"] = vu_net_1[\"dendrogram_label\"]\n",
    "vu_output[\"Net_I\"] = vu_output[\"Net_I\"].fillna(\"Na\")\n",
    "\n",
    "tcga_mutations_df = pd.read_csv(f\"{data_base}/tumour/mutations_tcga.csv\")\n",
    "tcga_mutations_df = tcga_mutations_df[tcga_mutations_df[\"count\"] != 0].set_index(\"gene\")\n",
    "\n",
    "tum_tpms = pd.read_csv(f\"{data_base}/tumour/TPMs_selected_genes_v3_13k_gc42.tsv\", sep=\"\\t\", index_col=\"genes\")\n",
    "tum_tpms_v4 = pd.read_csv(f\"{data_base}/tumour/tum_TPMs_selected_genes_gc42_all_v4.tsv\", sep=\"\\t\", index_col=\"genes\")\n",
    "\n",
    "# Healthy and metadata\n",
    "# healthy_metadata = pd.read_csv(f\"{data_base}/non_cancerous/healthy_bladder_metadata.tsv\", sep=\"\\t\", index_col=\"Sample\").drop(index=[\"Y2796_P0\"])\n",
    "# healthy_metadata[\"sample_prcsd\"] = healthy_metadata.index.str.replace(\"-\", \"_\")\n",
    "\n",
    "healthy_tpm = pd.read_csv(f\"{data_base}/non_cancerous/healthy_data_all_gc42_v4.tsv\", sep=\"\\t\", index_col=\"gene\")\n",
    "remap_col = {}\n",
    "for col in healthy_tpm.columns:\n",
    "    remap_col[col] = col.replace(\"-\", \"_\")\n",
    "healthy_tpm = healthy_tpm.rename(columns=remap_col)\n",
    "\n",
    "# tf list\n",
    "tf_path = f\"{data_base}/metadata/TF_names_v_1.01.txt\"\n",
    "if os.path.exists(tf_path):\n",
    "    tf_list = np.genfromtxt(fname=tf_path, delimiter=\"\\t\", skip_header=1, dtype=\"str\")"
   ]
  },
  {
   "cell_type": "code",
   "execution_count": 3,
   "metadata": {},
   "outputs": [],
   "source": [
    "# Base-line, this is the results from previous work\n",
    "h_sel_tfs = pd.read_csv(f\"{data_base}/tf_ctrl_v2.tsv\", index_col=\"gene\", sep=\"\\t\")\n",
    "h_sel_tfs[\"tum_mean_expression\"] = tum_tpms_v4.loc[h_sel_tfs.index].mean(axis=1)\n",
    "h_sel_tfs[\"tum_median_expression\"] = tum_tpms_v4.loc[h_sel_tfs.index].median(axis=1)\n",
    "h_sel_tfs[\"tum_std_expression\"] = tum_tpms_v4.loc[h_sel_tfs.index].std(axis=1)\n",
    "h_sel_tfs[\"tum_var_expression\"] = tum_tpms_v4.loc[h_sel_tfs.index].var(axis=1)\n",
    "\n",
    "# Tum\n",
    "t_sel_tfs = pd.read_csv(f\"{data_base}/gc42_tum_tf_ctrl_1.tsv\", index_col=\"gene\", sep=\"\\t\")\n",
    "t_sel_tfs[\"tum_mean_expression\"] = tum_tpms_v4.loc[t_sel_tfs.index].mean(axis=1)\n",
    "t_sel_tfs[\"tum_median_expression\"] = tum_tpms_v4.loc[t_sel_tfs.index].median(axis=1)\n",
    "t_sel_tfs[\"tum_std_expression\"] = tum_tpms_v4.loc[t_sel_tfs.index].std(axis=1)\n",
    "t_sel_tfs[\"tum_var_expression\"] = tum_tpms_v4.loc[t_sel_tfs.index].var(axis=1)"
   ]
  },
  {
   "cell_type": "code",
   "execution_count": 31,
   "metadata": {},
   "outputs": [
    {
     "data": {
      "text/plain": [
       "23"
      ]
     },
     "execution_count": 31,
     "metadata": {},
     "output_type": "execute_result"
    }
   ],
   "source": [
    "len(list(set(h_sel_tfs.index) & set(t_sel_tfs.index)))"
   ]
  },
  {
   "cell_type": "code",
   "execution_count": 41,
   "metadata": {},
   "outputs": [
    {
     "data": {
      "text/html": [
       "<div>\n",
       "<style scoped>\n",
       "    .dataframe tbody tr th:only-of-type {\n",
       "        vertical-align: middle;\n",
       "    }\n",
       "\n",
       "    .dataframe tbody tr th {\n",
       "        vertical-align: top;\n",
       "    }\n",
       "\n",
       "    .dataframe thead th {\n",
       "        text-align: right;\n",
       "    }\n",
       "</style>\n",
       "<table border=\"1\" class=\"dataframe\">\n",
       "  <thead>\n",
       "    <tr style=\"text-align: right;\">\n",
       "      <th></th>\n",
       "      <th>mut_count</th>\n",
       "      <th>tum_median_expression</th>\n",
       "      <th>healthy_median_expression</th>\n",
       "      <th>tum_mean_expression</th>\n",
       "      <th>healthy_mean_expression</th>\n",
       "      <th>tum_std_expression</th>\n",
       "      <th>healthy_std_expression</th>\n",
       "      <th>tum_var_expression</th>\n",
       "    </tr>\n",
       "    <tr>\n",
       "      <th>gene</th>\n",
       "      <th></th>\n",
       "      <th></th>\n",
       "      <th></th>\n",
       "      <th></th>\n",
       "      <th></th>\n",
       "      <th></th>\n",
       "      <th></th>\n",
       "      <th></th>\n",
       "    </tr>\n",
       "  </thead>\n",
       "  <tbody>\n",
       "    <tr>\n",
       "      <th>ZNF43</th>\n",
       "      <td>6.0</td>\n",
       "      <td>5.251136</td>\n",
       "      <td>6.146340</td>\n",
       "      <td>6.736914</td>\n",
       "      <td>7.766050</td>\n",
       "      <td>5.574155</td>\n",
       "      <td>6.505078</td>\n",
       "      <td>31.071206</td>\n",
       "    </tr>\n",
       "    <tr>\n",
       "      <th>ZNF91</th>\n",
       "      <td>20.0</td>\n",
       "      <td>10.695356</td>\n",
       "      <td>12.547543</td>\n",
       "      <td>13.280044</td>\n",
       "      <td>15.979586</td>\n",
       "      <td>10.193745</td>\n",
       "      <td>11.890302</td>\n",
       "      <td>103.912436</td>\n",
       "    </tr>\n",
       "    <tr>\n",
       "      <th>ZNF841</th>\n",
       "      <td>7.0</td>\n",
       "      <td>4.307739</td>\n",
       "      <td>4.212624</td>\n",
       "      <td>5.990788</td>\n",
       "      <td>6.004328</td>\n",
       "      <td>6.832527</td>\n",
       "      <td>6.491802</td>\n",
       "      <td>46.683425</td>\n",
       "    </tr>\n",
       "    <tr>\n",
       "      <th>KLF11</th>\n",
       "      <td>4.0</td>\n",
       "      <td>6.289583</td>\n",
       "      <td>5.911865</td>\n",
       "      <td>7.778770</td>\n",
       "      <td>7.292082</td>\n",
       "      <td>5.976297</td>\n",
       "      <td>5.616870</td>\n",
       "      <td>35.716130</td>\n",
       "    </tr>\n",
       "    <tr>\n",
       "      <th>CREB3L2</th>\n",
       "      <td>5.0</td>\n",
       "      <td>16.027827</td>\n",
       "      <td>15.461771</td>\n",
       "      <td>18.843924</td>\n",
       "      <td>18.041244</td>\n",
       "      <td>13.431502</td>\n",
       "      <td>12.801455</td>\n",
       "      <td>180.405251</td>\n",
       "    </tr>\n",
       "    <tr>\n",
       "      <th>...</th>\n",
       "      <td>...</td>\n",
       "      <td>...</td>\n",
       "      <td>...</td>\n",
       "      <td>...</td>\n",
       "      <td>...</td>\n",
       "      <td>...</td>\n",
       "      <td>...</td>\n",
       "      <td>...</td>\n",
       "    </tr>\n",
       "    <tr>\n",
       "      <th>ZNF827</th>\n",
       "      <td>10.0</td>\n",
       "      <td>4.258290</td>\n",
       "      <td>4.370418</td>\n",
       "      <td>4.988981</td>\n",
       "      <td>5.256739</td>\n",
       "      <td>3.366387</td>\n",
       "      <td>3.814307</td>\n",
       "      <td>11.332559</td>\n",
       "    </tr>\n",
       "    <tr>\n",
       "      <th>POU2AF1</th>\n",
       "      <td>3.0</td>\n",
       "      <td>3.002048</td>\n",
       "      <td>2.790213</td>\n",
       "      <td>7.282661</td>\n",
       "      <td>6.828753</td>\n",
       "      <td>20.873332</td>\n",
       "      <td>19.608442</td>\n",
       "      <td>435.695976</td>\n",
       "    </tr>\n",
       "    <tr>\n",
       "      <th>KLF9</th>\n",
       "      <td>0.0</td>\n",
       "      <td>5.029436</td>\n",
       "      <td>4.671094</td>\n",
       "      <td>7.123853</td>\n",
       "      <td>6.682199</td>\n",
       "      <td>7.617043</td>\n",
       "      <td>7.159530</td>\n",
       "      <td>58.019349</td>\n",
       "    </tr>\n",
       "    <tr>\n",
       "      <th>FOXA1</th>\n",
       "      <td>12.0</td>\n",
       "      <td>30.162932</td>\n",
       "      <td>28.298991</td>\n",
       "      <td>38.404064</td>\n",
       "      <td>35.804231</td>\n",
       "      <td>35.911702</td>\n",
       "      <td>33.427332</td>\n",
       "      <td>1289.650359</td>\n",
       "    </tr>\n",
       "    <tr>\n",
       "      <th>ZSCAN18</th>\n",
       "      <td>4.0</td>\n",
       "      <td>18.145960</td>\n",
       "      <td>20.269592</td>\n",
       "      <td>20.101358</td>\n",
       "      <td>22.529150</td>\n",
       "      <td>15.696085</td>\n",
       "      <td>17.624003</td>\n",
       "      <td>246.367089</td>\n",
       "    </tr>\n",
       "  </tbody>\n",
       "</table>\n",
       "<p>125 rows × 8 columns</p>\n",
       "</div>"
      ],
      "text/plain": [
       "         mut_count  tum_median_expression  healthy_median_expression  \\\n",
       "gene                                                                   \n",
       "ZNF43          6.0               5.251136                   6.146340   \n",
       "ZNF91         20.0              10.695356                  12.547543   \n",
       "ZNF841         7.0               4.307739                   4.212624   \n",
       "KLF11          4.0               6.289583                   5.911865   \n",
       "CREB3L2        5.0              16.027827                  15.461771   \n",
       "...            ...                    ...                        ...   \n",
       "ZNF827        10.0               4.258290                   4.370418   \n",
       "POU2AF1        3.0               3.002048                   2.790213   \n",
       "KLF9           0.0               5.029436                   4.671094   \n",
       "FOXA1         12.0              30.162932                  28.298991   \n",
       "ZSCAN18        4.0              18.145960                  20.269592   \n",
       "\n",
       "         tum_mean_expression  healthy_mean_expression  tum_std_expression  \\\n",
       "gene                                                                        \n",
       "ZNF43               6.736914                 7.766050            5.574155   \n",
       "ZNF91              13.280044                15.979586           10.193745   \n",
       "ZNF841              5.990788                 6.004328            6.832527   \n",
       "KLF11               7.778770                 7.292082            5.976297   \n",
       "CREB3L2            18.843924                18.041244           13.431502   \n",
       "...                      ...                      ...                 ...   \n",
       "ZNF827              4.988981                 5.256739            3.366387   \n",
       "POU2AF1             7.282661                 6.828753           20.873332   \n",
       "KLF9                7.123853                 6.682199            7.617043   \n",
       "FOXA1              38.404064                35.804231           35.911702   \n",
       "ZSCAN18            20.101358                22.529150           15.696085   \n",
       "\n",
       "         healthy_std_expression  tum_var_expression  \n",
       "gene                                                 \n",
       "ZNF43                  6.505078           31.071206  \n",
       "ZNF91                 11.890302          103.912436  \n",
       "ZNF841                 6.491802           46.683425  \n",
       "KLF11                  5.616870           35.716130  \n",
       "CREB3L2               12.801455          180.405251  \n",
       "...                         ...                 ...  \n",
       "ZNF827                 3.814307           11.332559  \n",
       "POU2AF1               19.608442          435.695976  \n",
       "KLF9                   7.159530           58.019349  \n",
       "FOXA1                 33.427332         1289.650359  \n",
       "ZSCAN18               17.624003          246.367089  \n",
       "\n",
       "[125 rows x 8 columns]"
      ]
     },
     "execution_count": 41,
     "metadata": {},
     "output_type": "execute_result"
    }
   ],
   "source": [
    "t_sel_tfs"
   ]
  },
  {
   "cell_type": "markdown",
   "metadata": {},
   "source": [
    "## Difference in the TF list"
   ]
  },
  {
   "cell_type": "code",
   "execution_count": 4,
   "metadata": {},
   "outputs": [],
   "source": [
    "exp_folder_tumour_42 = \"network_I/gc_42/tum/\" \n",
    "exp_folder_tumour_47 = \"network_I/gc_47/tum/\" "
   ]
  },
  {
   "cell_type": "code",
   "execution_count": 35,
   "metadata": {},
   "outputs": [
    {
     "name": "stdout",
     "output_type": "stream",
     "text": [
      "##### Experiment labels:  dict_keys(['standard_5K_12TF_hsbm', 'standard_5K_11TF_hsbm', 'standard_5K_4TF_hsbm', 'standard_5K_9TF_hsbm', 'standard_5K_10TF_hsbm', 'standard_5K_5TF_hsbm', 'standard_5K_3TF_hsbm', 'standard_5K_8TF_hsbm', 'standard_5K_7TF_hsbm', 'standard_5K_6TF_hsbm'])\n",
      "##### Experiment labels:  dict_keys(['standard_5K_8TF_hsbm', 'standard_5K_3TF_hsbm', 'standard_5K_11TF_hsbm', 'standard_5K_9TF_hsbm', 'standard_5K_6TF_hsbm', 'standard_5K_10TF_hsbm', 'standard_5K_5TF_hsbm', 'standard_5K_4TF_hsbm', 'standard_5K_7TF_hsbm', 'standard_5K_12TF_hsbm'])\n",
      "##### Experiment labels:  dict_keys(['standard_5K_3TF', 'norm3_5K_3TF', 'beta_5K_3TF', 'standard_5K_6TF', 'standard_5K_10TF', 'norm3_5K_6TF', 'beta_5K_6TF', 'norm3_5K_10TF', 'beta_5K_10TF', 'standard_5K_4TF', 'standard_5K_7TF', 'standard_5K_8TF', 'standard_5K_5TF', 'standard_5K_9TF', 'norm3_5K_4TF', 'beta_5K_4TF', 'standard_5K_15TF', 'standard_5K_20TF', 'standard_5K_30TF', 'standard_5K_25TF', 'standard_5K_40TF', 'standard_5K_35TF', 'standard_5K_45TF', 'standard_5K_50TF', 'standard_5K_12TF', 'standard_5K_14TF', 'standard_5K_11TF', 'standard_5K_13TF'])\n"
     ]
    }
   ],
   "source": [
    "%autoreload 2\n",
    "tum_42 = ExperimentSet(\"tum\", base_path, exp_folder_tumour_42, tcga_mutations_df, sel_sets = [\"5K\",], rel_path=\"../\", exp_type='iNet')\n",
    "sel_exp_42 = tum_42.exps['standard_5K_6TF_hsbm']\n",
    "\n",
    "tum_47 = ExperimentSet(\"tum\", base_path, exp_folder_tumour_47, tcga_mutations_df, sel_sets = [\"5K\",], rel_path=\"../\", exp_type='iNet')\n",
    "sel_exp_47 = tum_47.exps['standard_5K_6TF_hsbm']\n",
    "\n",
    "exp_folder_h42 = \"network_I/healthy42/\"\n",
    "all_h = ExperimentSet(\"allHealthy42\", base_path, exp_folder_h42, tcga_mutations_df, sel_sets = [\"5K\"], rel_path=\"../\")\n",
    "sel_exp_h = all_h.exps['standard_5K_6TF']\n"
   ]
  },
  {
   "cell_type": "code",
   "execution_count": 6,
   "metadata": {},
   "outputs": [
    {
     "name": "stdout",
     "output_type": "stream",
     "text": [
      "GCv42 & 98 TFs. Common genes 44\n",
      "GCv47 & 98 TFs. Common genes 43\n",
      "GCv47 & GCv42. Common genes 3842\n",
      "GCv47 & GCv42 & 98 TFs. Common genes 43\n"
     ]
    }
   ],
   "source": [
    "cmn_42 = set(sel_exp_42.tpm_df.index) & set(h_sel_tfs.index)\n",
    "print(f\"GCv42 & 98 TFs. Common genes {len(cmn_42)}\")\n",
    "\n",
    "cmn_47 = set(sel_exp_47.tpm_df.index) & set(h_sel_tfs.index)\n",
    "print(f\"GCv47 & 98 TFs. Common genes {len(cmn_47)}\")\n",
    "\n",
    "cmn_47_42 = set(sel_exp_47.tpm_df.index) & set(sel_exp_42.tpm_df.index)\n",
    "print(f\"GCv47 & GCv42. Common genes {len(cmn_47_42)}\")\n",
    "\n",
    "cmn_47_42 = set(sel_exp_47.tpm_df.index) & set(sel_exp_42.tpm_df.index) & set(h_sel_tfs.index)\n",
    "print(f\"GCv47 & GCv42 & 98 TFs. Common genes {len(cmn_47_42)}\")"
   ]
  },
  {
   "cell_type": "code",
   "execution_count": 42,
   "metadata": {},
   "outputs": [
    {
     "name": "stdout",
     "output_type": "stream",
     "text": [
      "Tum GCv42 & TFs. Common genes 359\n",
      "Healthy GCv42 & TFs. Common genes 325\n",
      "Healthy & tumour GCv42 & TFs. Common genes 156\n",
      "Tum GCv47 & TFs. Common genes 324\n"
     ]
    }
   ],
   "source": [
    "tf_inc_t_42 = set(sel_exp_42.tpm_df.index) & set(tf_list)\n",
    "print(f\"Tum GCv42 & TFs. Common genes {len(tf_inc_t_42)}\")\n",
    "\n",
    "tf_inc_h_42 = set(sel_exp_h.tpm_df.index) & set(tf_list)\n",
    "print(f\"Healthy GCv42 & TFs. Common genes {len(tf_inc_h_42)}\")\n",
    "\n",
    "tf_inc_h_t_42 = set(sel_exp_h.tpm_df.index) & set(tf_list) & set(sel_exp_42.tpm_df.index)\n",
    "print(f\"Healthy & tumour GCv42 & TFs. Common genes {len(tf_inc_h_t_42)}\")\n",
    "\n",
    "tf_inc_t_47 = set(sel_exp_47.tpm_df.index) & set(tf_list)\n",
    "print(f\"Tum GCv47 & TFs. Common genes {len(tf_inc_t_47)}\")\n"
   ]
  },
  {
   "cell_type": "code",
   "execution_count": 49,
   "metadata": {},
   "outputs": [],
   "source": [
    "pd.Series(list(tf_inc_t_42), name='gene').to_csv(f'{data_base}/gc42_tum_tfs_incl.tsv', sep='\\t')\n",
    "pd.Series(list(tf_inc_h_42), name='gene').to_csv(f'{data_base}/gc42_h_tfs_incl.tsv', sep='\\t')"
   ]
  },
  {
   "cell_type": "markdown",
   "metadata": {},
   "source": [
    "## Import the data\n",
    "\n",
    "## Experiment sets"
   ]
  },
  {
   "cell_type": "code",
   "execution_count": 7,
   "metadata": {},
   "outputs": [],
   "source": [
    "def load_experiment_set(base_path, exp_folder_path):\n",
    "    exp_path = f\"{base_path}/{exp_folder_path}/Stats/\"\n",
    "    meta_files = next(os.walk(exp_path), (None, None, []))[2]\n",
    "    # keep only the network stats\n",
    "    files = [file for file in meta_files if \"networkStats\" in file]\n",
    "    exp_set = {}\n",
    "    for file in files:\n",
    "        exp = file.replace(\".tsv\", \"\").replace(\"networkStats_tum_standard_\", \"\")\n",
    "        exp_set[exp] = pd.read_csv(f\"{exp_path}/{file}\", index_col=\"gene\", sep=\"\\t\")\n",
    "    return exp_set"
   ]
  },
  {
   "cell_type": "code",
   "execution_count": 8,
   "metadata": {},
   "outputs": [],
   "source": [
    "folders = next(os.walk(base_path + exp_folder_h42_ctrl), (None, None, []))[1]\n",
    "exp_ctrls = {}\n",
    "for folder in folders:\n",
    "    hCtrl_path = f\"{exp_folder_h42_ctrl}/{folder}/\"\n",
    "    meta_files = next(os.walk(hCtrl_path), (None, None, []))[2]\n",
    "    # keep only the network stats\n",
    "    files = [file for file in meta_files if \"networkStats\" in file]\n",
    "    exp_ctrls[folder] = load_experiment_set(base_path, hCtrl_path)\n",
    "\n",
    "exp_set = load_experiment_set(base_path, exp_folder_tumour_42)"
   ]
  },
  {
   "cell_type": "markdown",
   "metadata": {},
   "source": [
    "## Network stats\n",
    "\n",
    "Information calculated in the selective edge pruning"
   ]
  },
  {
   "cell_type": "code",
   "execution_count": 9,
   "metadata": {},
   "outputs": [],
   "source": [
    "def merge_metrics(exp_set: dict, exp_type: str):\n",
    "    comb_df = pd.DataFrame()\n",
    "    for key, metrics in exp_set.items():\n",
    "        metrics[\"TF\"] = int(key.split(\"_\")[-1].replace(\"TF\", \"\"))\n",
    "        metrics[\"Type\"] = exp_type\n",
    "        comb_df = pd.concat([comb_df, metrics], axis=0)\n",
    "\n",
    "    return comb_df\n",
    "\n",
    "\n",
    "# Experiments\n",
    "all_exps = merge_metrics(exp_set=exp_set, exp_type=\"Exp\")\n",
    "all_exps[\"isCtrl\"] = False\n",
    "\n",
    "# Ctrls\n",
    "all_ctrls = pd.DataFrame()\n",
    "for key, value in exp_ctrls.items():\n",
    "    label = key.split(\"h\")[-1]\n",
    "    ctrl_exps = merge_metrics(exp_set=value, exp_type=key)\n",
    "    ctrl_exps[\"isCtrl\"] = True\n",
    "    all_ctrls = pd.concat([all_ctrls, ctrl_exps], axis=0)\n",
    "\n",
    "# Combined\n",
    "comb_exps = pd.concat([all_exps, all_ctrls], axis=0)\n",
    "\n",
    "\n",
    "sel_tfs_metrics = comb_exps.loc[comb_exps.index.isin(t_sel_tfs.index)].copy(deep=True)\n",
    "# sel_tfs_metrics = comb_exps\n",
    "\n",
    "reorder_cols = [\n",
    "    \"degree_w\",\n",
    "    \"degree_t\",\n",
    "    \"degree_i\",\n",
    "    \"degree_o\",\n",
    "    \"pageRank\",\n",
    "    \"closeness\",\n",
    "    \"katz\",\n",
    "    \"hits\",\n",
    "    \"central_point_dominance\",\n",
    "    \"max_b\",\n",
    "    \"TF\",\n",
    "    \"betweenness\",\n",
    "    \"marked_as_tf\",\n",
    "    \"mut_count\",\n",
    "    \"Type\",\n",
    "    \"isCtrl\",\n",
    "    \"ModCon_Rank\",\n",
    "]\n",
    "sel_tfs_metrics = sel_tfs_metrics[reorder_cols]\n",
    "comb_exps = comb_exps[reorder_cols]"
   ]
  },
  {
   "cell_type": "markdown",
   "metadata": {},
   "source": [
    "# Correlations between the metrics"
   ]
  },
  {
   "cell_type": "code",
   "execution_count": 10,
   "metadata": {},
   "outputs": [],
   "source": [
    "import seaborn as sns\n",
    "import matplotlib.pyplot as plt\n",
    "\n",
    "if 0:\n",
    "    corr_df = sel_tfs_metrics.drop(\n",
    "        columns=[\n",
    "            \"Type\",\n",
    "            \"isCtrl\",\n",
    "            \"degree_i\",\n",
    "            \"marked_as_tf\",\n",
    "            \"max_b\",\n",
    "        ]\n",
    "    ).corr(method=\"spearman\")\n",
    "\n",
    "    plt.figure(figsize=(10, 8))\n",
    "    sns.heatmap(corr_df, annot=True, fmt=\".2f\", cmap=\"coolwarm\", cbar=True)\n",
    "    plt.title(\"Correlation Heatmap\")\n",
    "\n",
    "    plt.savefig(f\"{figures_path}/sel_tfs_corr_heatmap.png\")\n",
    "    plt.show()"
   ]
  },
  {
   "cell_type": "markdown",
   "metadata": {},
   "source": [
    "# Matching with the 98 TFs\n",
    "\n",
    "## Experiment networks"
   ]
  },
  {
   "cell_type": "code",
   "execution_count": 11,
   "metadata": {},
   "outputs": [],
   "source": [
    "# We want to sort by the order of TF, but first we have to extract the TF values\n",
    "def sort_exp_set(exp_set: dict):\n",
    "    sorted_tf = {}\n",
    "    for key in exp_set.keys():\n",
    "        prscsd_label = int(key.split(\"_\")[-1].replace(\"TF\", \"\"))\n",
    "        sorted_tf[prscsd_label] = key\n",
    "    sorted_tf = dict(sorted(sorted_tf.items()))\n",
    "\n",
    "    # Now we can sort the experiment set\n",
    "    sorted_exp = {}\n",
    "    for key in sorted_tf.values():\n",
    "        sorted_exp[key] = exp_set[key]\n",
    "\n",
    "    return sorted_exp\n",
    "\n",
    "def calculate_degree_thresholds(exp_set: dict, sel_tfs: pd.DataFrame, label: str, q_th=0.75, verbose=False):\n",
    "\n",
    "    sel_tfs_set = set()\n",
    "    if not sel_tfs.empty:\n",
    "        sel_tfs_set = set(sel_tfs.index)\n",
    "\n",
    "    top_genes = set()  # genes that are the top set quartile th\n",
    "    meta_info = []  # meta info about the TF experiments, the genes matched and the evolution across the experiments\n",
    "\n",
    "    for exp, metrics in exp_set.items():\n",
    "        deg_th = metrics[\"degree_t\"].quantile(q=q_th)\n",
    "        genes = set(metrics[metrics[\"degree_t\"] >= deg_th].index)\n",
    "        tf_exp = int(exp.split(\"_\")[-1].replace(\"TF\", \"\"))\n",
    "\n",
    "        # Genes matched, and uniqued to this TF experiment\n",
    "        single_exp_matched = set(genes) & sel_tfs_set\n",
    "        unique = single_exp_matched - (top_genes & sel_tfs_set)\n",
    "\n",
    "        # Add the new genes\n",
    "        top_genes.update(genes)\n",
    "\n",
    "        meta_info.append((tf_exp, deg_th, len(genes), len(unique), len(single_exp_matched), list(genes), list(unique), single_exp_matched))\n",
    "\n",
    "    if sel_tfs.empty:\n",
    "        matched = top_genes\n",
    "    else:\n",
    "        matched = top_genes & set(sel_tfs.index)\n",
    "\n",
    "    if verbose:\n",
    "        print(f\"--> {label}\\n\\tQ_th: {q_th}. Matched genes with 98 TFs {len(matched)}. Selected {len(top_genes)}\")\n",
    "\n",
    "    # Combine in a DataFrame\n",
    "    dmy = pd.DataFrame(meta_info, columns=[\"TF\", \"Degree_th\", \"selected\", \"unique\", \"matched\", \"selected genes\", \"unique genes\", \"matched genes\"])\n",
    "    dmy = dmy.sort_values(by=[\"TF\"], ascending=True)\n",
    "    dmy[\"TF\"] = dmy[\"TF\"].astype(str)\n",
    "    # If experiment or control\n",
    "    dmy[\"type\"] = label\n",
    "\n",
    "    # global stats\n",
    "    global_stats = {\"matched\": len(matched), \"selected\": len(top_genes), \"matched_genes\": list(matched), \"selected_genes\": list(top_genes)}\n",
    "    fig = px.bar(dmy, x=\"TF\", y=[\"matched\", \"unique\", \"selected\"], text_auto=True, barmode=\"group\", title=f\"Q_th: {q_th}. For {label}\")\n",
    "\n",
    "    # Unselect the 'selected' trace in the plotly figure\n",
    "    fig.for_each_trace(lambda trace: trace.update(visible=\"legendonly\") if trace.name == \"selected\" else ())\n",
    "\n",
    "    return matched, fig, dmy, global_stats"
   ]
  },
  {
   "cell_type": "code",
   "execution_count": 12,
   "metadata": {},
   "outputs": [],
   "source": [
    "q_ths = list(range(50, 100, 5))\n",
    "q_ths.sort()\n",
    "stats = [(0, len(t_sel_tfs))]  # default values\n",
    "exp_results_qth = pd.DataFrame()\n",
    "for q_th in q_ths:\n",
    "    q_th = q_th / 100\n",
    "    matched_exp, fig_exp, meta_info, global_stats = calculate_degree_thresholds(exp_set=exp_set, sel_tfs=t_sel_tfs, label=\"Exp\", q_th=q_th, verbose=False)\n",
    "    meta_info[\"Quantile\"] = q_th\n",
    "    exp_results_qth = pd.concat([exp_results_qth, meta_info], axis=0)"
   ]
  },
  {
   "cell_type": "code",
   "execution_count": 13,
   "metadata": {},
   "outputs": [
    {
     "data": {
      "application/vnd.plotly.v1+json": {
       "config": {
        "plotlyServerURL": "https://plot.ly"
       },
       "data": [
        {
         "hovertemplate": "Quantile=0.5<br>TF=%{x}<br>matched=%{y}<extra></extra>",
         "legendgroup": "0.5",
         "line": {
          "color": "#3366CC",
          "dash": "solid"
         },
         "marker": {
          "symbol": "circle"
         },
         "mode": "lines+markers",
         "name": "0.5",
         "orientation": "v",
         "showlegend": true,
         "type": "scatter",
         "x": [
          "3",
          "4",
          "5",
          "6",
          "7",
          "8",
          "9",
          "10",
          "11",
          "12"
         ],
         "xaxis": "x",
         "y": [
          124,
          125,
          125,
          125,
          125,
          125,
          125,
          125,
          125,
          125
         ],
         "yaxis": "y"
        },
        {
         "hovertemplate": "Quantile=0.55<br>TF=%{x}<br>matched=%{y}<extra></extra>",
         "legendgroup": "0.55",
         "line": {
          "color": "#DC3912",
          "dash": "solid"
         },
         "marker": {
          "symbol": "circle"
         },
         "mode": "lines+markers",
         "name": "0.55",
         "orientation": "v",
         "showlegend": true,
         "type": "scatter",
         "x": [
          "3",
          "4",
          "5",
          "6",
          "7",
          "8",
          "9",
          "10",
          "11",
          "12"
         ],
         "xaxis": "x",
         "y": [
          124,
          123,
          125,
          125,
          125,
          125,
          125,
          125,
          125,
          125
         ],
         "yaxis": "y"
        },
        {
         "hovertemplate": "Quantile=0.6<br>TF=%{x}<br>matched=%{y}<extra></extra>",
         "legendgroup": "0.6",
         "line": {
          "color": "#FF9900",
          "dash": "solid"
         },
         "marker": {
          "symbol": "circle"
         },
         "mode": "lines+markers",
         "name": "0.6",
         "orientation": "v",
         "showlegend": true,
         "type": "scatter",
         "x": [
          "3",
          "4",
          "5",
          "6",
          "7",
          "8",
          "9",
          "10",
          "11",
          "12"
         ],
         "xaxis": "x",
         "y": [
          116,
          123,
          125,
          125,
          125,
          125,
          125,
          125,
          125,
          125
         ],
         "yaxis": "y"
        },
        {
         "hovertemplate": "Quantile=0.65<br>TF=%{x}<br>matched=%{y}<extra></extra>",
         "legendgroup": "0.65",
         "line": {
          "color": "#109618",
          "dash": "solid"
         },
         "marker": {
          "symbol": "circle"
         },
         "mode": "lines+markers",
         "name": "0.65",
         "orientation": "v",
         "showlegend": true,
         "type": "scatter",
         "x": [
          "3",
          "4",
          "5",
          "6",
          "7",
          "8",
          "9",
          "10",
          "11",
          "12"
         ],
         "xaxis": "x",
         "y": [
          116,
          123,
          125,
          125,
          125,
          125,
          125,
          125,
          125,
          125
         ],
         "yaxis": "y"
        },
        {
         "hovertemplate": "Quantile=0.7<br>TF=%{x}<br>matched=%{y}<extra></extra>",
         "legendgroup": "0.7",
         "line": {
          "color": "#990099",
          "dash": "solid"
         },
         "marker": {
          "symbol": "circle"
         },
         "mode": "lines+markers",
         "name": "0.7",
         "orientation": "v",
         "showlegend": true,
         "type": "scatter",
         "x": [
          "3",
          "4",
          "5",
          "6",
          "7",
          "8",
          "9",
          "10",
          "11",
          "12"
         ],
         "xaxis": "x",
         "y": [
          103,
          116,
          122,
          125,
          125,
          125,
          125,
          125,
          125,
          125
         ],
         "yaxis": "y"
        },
        {
         "hovertemplate": "Quantile=0.75<br>TF=%{x}<br>matched=%{y}<extra></extra>",
         "legendgroup": "0.75",
         "line": {
          "color": "#0099C6",
          "dash": "solid"
         },
         "marker": {
          "symbol": "circle"
         },
         "mode": "lines+markers",
         "name": "0.75",
         "orientation": "v",
         "showlegend": true,
         "type": "scatter",
         "x": [
          "3",
          "4",
          "5",
          "6",
          "7",
          "8",
          "9",
          "10",
          "11",
          "12"
         ],
         "xaxis": "x",
         "y": [
          103,
          116,
          116,
          122,
          125,
          125,
          125,
          125,
          125,
          125
         ],
         "yaxis": "y"
        },
        {
         "hovertemplate": "Quantile=0.8<br>TF=%{x}<br>matched=%{y}<extra></extra>",
         "legendgroup": "0.8",
         "line": {
          "color": "#DD4477",
          "dash": "solid"
         },
         "marker": {
          "symbol": "circle"
         },
         "mode": "lines+markers",
         "name": "0.8",
         "orientation": "v",
         "showlegend": true,
         "type": "scatter",
         "x": [
          "3",
          "4",
          "5",
          "6",
          "7",
          "8",
          "9",
          "10",
          "11",
          "12"
         ],
         "xaxis": "x",
         "y": [
          90,
          103,
          116,
          115,
          123,
          123,
          125,
          125,
          125,
          125
         ],
         "yaxis": "y"
        },
        {
         "hovertemplate": "Quantile=0.85<br>TF=%{x}<br>matched=%{y}<extra></extra>",
         "legendgroup": "0.85",
         "line": {
          "color": "#66AA00",
          "dash": "solid"
         },
         "marker": {
          "symbol": "circle"
         },
         "mode": "lines+markers",
         "name": "0.85",
         "orientation": "v",
         "showlegend": true,
         "type": "scatter",
         "x": [
          "3",
          "4",
          "5",
          "6",
          "7",
          "8",
          "9",
          "10",
          "11",
          "12"
         ],
         "xaxis": "x",
         "y": [
          76,
          83,
          92,
          106,
          117,
          118,
          123,
          124,
          122,
          125
         ],
         "yaxis": "y"
        },
        {
         "hovertemplate": "Quantile=0.9<br>TF=%{x}<br>matched=%{y}<extra></extra>",
         "legendgroup": "0.9",
         "line": {
          "color": "#B82E2E",
          "dash": "solid"
         },
         "marker": {
          "symbol": "circle"
         },
         "mode": "lines+markers",
         "name": "0.9",
         "orientation": "v",
         "showlegend": true,
         "type": "scatter",
         "x": [
          "3",
          "4",
          "5",
          "6",
          "7",
          "8",
          "9",
          "10",
          "11",
          "12"
         ],
         "xaxis": "x",
         "y": [
          54,
          73,
          72,
          84,
          95,
          94,
          109,
          109,
          109,
          111
         ],
         "yaxis": "y"
        },
        {
         "hovertemplate": "Quantile=0.95<br>TF=%{x}<br>matched=%{y}<extra></extra>",
         "legendgroup": "0.95",
         "line": {
          "color": "#316395",
          "dash": "solid"
         },
         "marker": {
          "symbol": "circle"
         },
         "mode": "lines+markers",
         "name": "0.95",
         "orientation": "v",
         "showlegend": true,
         "type": "scatter",
         "x": [
          "3",
          "4",
          "5",
          "6",
          "7",
          "8",
          "9",
          "10",
          "11",
          "12"
         ],
         "xaxis": "x",
         "y": [
          34,
          38,
          41,
          45,
          50,
          59,
          63,
          75,
          75,
          78
         ],
         "yaxis": "y"
        }
       ],
       "layout": {
        "font": {
         "size": 20
        },
        "legend": {
         "bgcolor": "rgba(0,0,0,0)",
         "font": {
          "color": "#003366",
          "size": 20
         },
         "orientation": "h",
         "title": {
          "text": "Quantile"
         },
         "tracegroupgap": 0,
         "x": 0.6,
         "xanchor": "center",
         "y": 0.02,
         "yanchor": "bottom"
        },
        "template": {
         "data": {
          "bar": [
           {
            "error_x": {
             "color": "rgb(51,51,51)"
            },
            "error_y": {
             "color": "rgb(51,51,51)"
            },
            "marker": {
             "line": {
              "color": "rgb(237,237,237)",
              "width": 0.5
             },
             "pattern": {
              "fillmode": "overlay",
              "size": 10,
              "solidity": 0.2
             }
            },
            "type": "bar"
           }
          ],
          "barpolar": [
           {
            "marker": {
             "line": {
              "color": "rgb(237,237,237)",
              "width": 0.5
             },
             "pattern": {
              "fillmode": "overlay",
              "size": 10,
              "solidity": 0.2
             }
            },
            "type": "barpolar"
           }
          ],
          "carpet": [
           {
            "aaxis": {
             "endlinecolor": "rgb(51,51,51)",
             "gridcolor": "white",
             "linecolor": "white",
             "minorgridcolor": "white",
             "startlinecolor": "rgb(51,51,51)"
            },
            "baxis": {
             "endlinecolor": "rgb(51,51,51)",
             "gridcolor": "white",
             "linecolor": "white",
             "minorgridcolor": "white",
             "startlinecolor": "rgb(51,51,51)"
            },
            "type": "carpet"
           }
          ],
          "choropleth": [
           {
            "colorbar": {
             "outlinewidth": 0,
             "tickcolor": "rgb(237,237,237)",
             "ticklen": 6,
             "ticks": "inside"
            },
            "type": "choropleth"
           }
          ],
          "contour": [
           {
            "colorbar": {
             "outlinewidth": 0,
             "tickcolor": "rgb(237,237,237)",
             "ticklen": 6,
             "ticks": "inside"
            },
            "colorscale": [
             [
              0,
              "rgb(20,44,66)"
             ],
             [
              1,
              "rgb(90,179,244)"
             ]
            ],
            "type": "contour"
           }
          ],
          "contourcarpet": [
           {
            "colorbar": {
             "outlinewidth": 0,
             "tickcolor": "rgb(237,237,237)",
             "ticklen": 6,
             "ticks": "inside"
            },
            "type": "contourcarpet"
           }
          ],
          "heatmap": [
           {
            "colorbar": {
             "outlinewidth": 0,
             "tickcolor": "rgb(237,237,237)",
             "ticklen": 6,
             "ticks": "inside"
            },
            "colorscale": [
             [
              0,
              "rgb(20,44,66)"
             ],
             [
              1,
              "rgb(90,179,244)"
             ]
            ],
            "type": "heatmap"
           }
          ],
          "heatmapgl": [
           {
            "colorbar": {
             "outlinewidth": 0,
             "tickcolor": "rgb(237,237,237)",
             "ticklen": 6,
             "ticks": "inside"
            },
            "colorscale": [
             [
              0,
              "rgb(20,44,66)"
             ],
             [
              1,
              "rgb(90,179,244)"
             ]
            ],
            "type": "heatmapgl"
           }
          ],
          "histogram": [
           {
            "marker": {
             "pattern": {
              "fillmode": "overlay",
              "size": 10,
              "solidity": 0.2
             }
            },
            "type": "histogram"
           }
          ],
          "histogram2d": [
           {
            "colorbar": {
             "outlinewidth": 0,
             "tickcolor": "rgb(237,237,237)",
             "ticklen": 6,
             "ticks": "inside"
            },
            "colorscale": [
             [
              0,
              "rgb(20,44,66)"
             ],
             [
              1,
              "rgb(90,179,244)"
             ]
            ],
            "type": "histogram2d"
           }
          ],
          "histogram2dcontour": [
           {
            "colorbar": {
             "outlinewidth": 0,
             "tickcolor": "rgb(237,237,237)",
             "ticklen": 6,
             "ticks": "inside"
            },
            "colorscale": [
             [
              0,
              "rgb(20,44,66)"
             ],
             [
              1,
              "rgb(90,179,244)"
             ]
            ],
            "type": "histogram2dcontour"
           }
          ],
          "mesh3d": [
           {
            "colorbar": {
             "outlinewidth": 0,
             "tickcolor": "rgb(237,237,237)",
             "ticklen": 6,
             "ticks": "inside"
            },
            "type": "mesh3d"
           }
          ],
          "parcoords": [
           {
            "line": {
             "colorbar": {
              "outlinewidth": 0,
              "tickcolor": "rgb(237,237,237)",
              "ticklen": 6,
              "ticks": "inside"
             }
            },
            "type": "parcoords"
           }
          ],
          "pie": [
           {
            "automargin": true,
            "type": "pie"
           }
          ],
          "scatter": [
           {
            "fillpattern": {
             "fillmode": "overlay",
             "size": 10,
             "solidity": 0.2
            },
            "type": "scatter"
           }
          ],
          "scatter3d": [
           {
            "line": {
             "colorbar": {
              "outlinewidth": 0,
              "tickcolor": "rgb(237,237,237)",
              "ticklen": 6,
              "ticks": "inside"
             }
            },
            "marker": {
             "colorbar": {
              "outlinewidth": 0,
              "tickcolor": "rgb(237,237,237)",
              "ticklen": 6,
              "ticks": "inside"
             }
            },
            "type": "scatter3d"
           }
          ],
          "scattercarpet": [
           {
            "marker": {
             "colorbar": {
              "outlinewidth": 0,
              "tickcolor": "rgb(237,237,237)",
              "ticklen": 6,
              "ticks": "inside"
             }
            },
            "type": "scattercarpet"
           }
          ],
          "scattergeo": [
           {
            "marker": {
             "colorbar": {
              "outlinewidth": 0,
              "tickcolor": "rgb(237,237,237)",
              "ticklen": 6,
              "ticks": "inside"
             }
            },
            "type": "scattergeo"
           }
          ],
          "scattergl": [
           {
            "marker": {
             "colorbar": {
              "outlinewidth": 0,
              "tickcolor": "rgb(237,237,237)",
              "ticklen": 6,
              "ticks": "inside"
             }
            },
            "type": "scattergl"
           }
          ],
          "scattermapbox": [
           {
            "marker": {
             "colorbar": {
              "outlinewidth": 0,
              "tickcolor": "rgb(237,237,237)",
              "ticklen": 6,
              "ticks": "inside"
             }
            },
            "type": "scattermapbox"
           }
          ],
          "scatterpolar": [
           {
            "marker": {
             "colorbar": {
              "outlinewidth": 0,
              "tickcolor": "rgb(237,237,237)",
              "ticklen": 6,
              "ticks": "inside"
             }
            },
            "type": "scatterpolar"
           }
          ],
          "scatterpolargl": [
           {
            "marker": {
             "colorbar": {
              "outlinewidth": 0,
              "tickcolor": "rgb(237,237,237)",
              "ticklen": 6,
              "ticks": "inside"
             }
            },
            "type": "scatterpolargl"
           }
          ],
          "scatterternary": [
           {
            "marker": {
             "colorbar": {
              "outlinewidth": 0,
              "tickcolor": "rgb(237,237,237)",
              "ticklen": 6,
              "ticks": "inside"
             }
            },
            "type": "scatterternary"
           }
          ],
          "surface": [
           {
            "colorbar": {
             "outlinewidth": 0,
             "tickcolor": "rgb(237,237,237)",
             "ticklen": 6,
             "ticks": "inside"
            },
            "colorscale": [
             [
              0,
              "rgb(20,44,66)"
             ],
             [
              1,
              "rgb(90,179,244)"
             ]
            ],
            "type": "surface"
           }
          ],
          "table": [
           {
            "cells": {
             "fill": {
              "color": "rgb(237,237,237)"
             },
             "line": {
              "color": "white"
             }
            },
            "header": {
             "fill": {
              "color": "rgb(217,217,217)"
             },
             "line": {
              "color": "white"
             }
            },
            "type": "table"
           }
          ]
         },
         "layout": {
          "annotationdefaults": {
           "arrowhead": 0,
           "arrowwidth": 1
          },
          "autotypenumbers": "strict",
          "coloraxis": {
           "colorbar": {
            "outlinewidth": 0,
            "tickcolor": "rgb(237,237,237)",
            "ticklen": 6,
            "ticks": "inside"
           }
          },
          "colorscale": {
           "sequential": [
            [
             0,
             "rgb(20,44,66)"
            ],
            [
             1,
             "rgb(90,179,244)"
            ]
           ],
           "sequentialminus": [
            [
             0,
             "rgb(20,44,66)"
            ],
            [
             1,
             "rgb(90,179,244)"
            ]
           ]
          },
          "colorway": [
           "#F8766D",
           "#A3A500",
           "#00BF7D",
           "#00B0F6",
           "#E76BF3"
          ],
          "font": {
           "color": "rgb(51,51,51)"
          },
          "geo": {
           "bgcolor": "white",
           "lakecolor": "white",
           "landcolor": "rgb(237,237,237)",
           "showlakes": true,
           "showland": true,
           "subunitcolor": "white"
          },
          "hoverlabel": {
           "align": "left"
          },
          "hovermode": "closest",
          "paper_bgcolor": "white",
          "plot_bgcolor": "rgb(237,237,237)",
          "polar": {
           "angularaxis": {
            "gridcolor": "white",
            "linecolor": "white",
            "showgrid": true,
            "tickcolor": "rgb(51,51,51)",
            "ticks": "outside"
           },
           "bgcolor": "rgb(237,237,237)",
           "radialaxis": {
            "gridcolor": "white",
            "linecolor": "white",
            "showgrid": true,
            "tickcolor": "rgb(51,51,51)",
            "ticks": "outside"
           }
          },
          "scene": {
           "xaxis": {
            "backgroundcolor": "rgb(237,237,237)",
            "gridcolor": "white",
            "gridwidth": 2,
            "linecolor": "white",
            "showbackground": true,
            "showgrid": true,
            "tickcolor": "rgb(51,51,51)",
            "ticks": "outside",
            "zerolinecolor": "white"
           },
           "yaxis": {
            "backgroundcolor": "rgb(237,237,237)",
            "gridcolor": "white",
            "gridwidth": 2,
            "linecolor": "white",
            "showbackground": true,
            "showgrid": true,
            "tickcolor": "rgb(51,51,51)",
            "ticks": "outside",
            "zerolinecolor": "white"
           },
           "zaxis": {
            "backgroundcolor": "rgb(237,237,237)",
            "gridcolor": "white",
            "gridwidth": 2,
            "linecolor": "white",
            "showbackground": true,
            "showgrid": true,
            "tickcolor": "rgb(51,51,51)",
            "ticks": "outside",
            "zerolinecolor": "white"
           }
          },
          "shapedefaults": {
           "fillcolor": "black",
           "line": {
            "width": 0
           },
           "opacity": 0.3
          },
          "ternary": {
           "aaxis": {
            "gridcolor": "white",
            "linecolor": "white",
            "showgrid": true,
            "tickcolor": "rgb(51,51,51)",
            "ticks": "outside"
           },
           "baxis": {
            "gridcolor": "white",
            "linecolor": "white",
            "showgrid": true,
            "tickcolor": "rgb(51,51,51)",
            "ticks": "outside"
           },
           "bgcolor": "rgb(237,237,237)",
           "caxis": {
            "gridcolor": "white",
            "linecolor": "white",
            "showgrid": true,
            "tickcolor": "rgb(51,51,51)",
            "ticks": "outside"
           }
          },
          "xaxis": {
           "automargin": true,
           "gridcolor": "white",
           "linecolor": "white",
           "showgrid": true,
           "tickcolor": "rgb(51,51,51)",
           "ticks": "outside",
           "title": {
            "standoff": 15
           },
           "zerolinecolor": "white"
          },
          "yaxis": {
           "automargin": true,
           "gridcolor": "white",
           "linecolor": "white",
           "showgrid": true,
           "tickcolor": "rgb(51,51,51)",
           "ticks": "outside",
           "title": {
            "standoff": 15
           },
           "zerolinecolor": "white"
          }
         }
        },
        "title": {
         "text": "Inclusion of the 98 TFs genes"
        },
        "xaxis": {
         "anchor": "y",
         "domain": [
          0,
          1
         ],
         "tickfont": {
          "size": 20
         },
         "title": {
          "text": "TF"
         }
        },
        "yaxis": {
         "anchor": "x",
         "domain": [
          0,
          1
         ],
         "tickfont": {
          "size": 20
         },
         "title": {
          "text": "Number of 98 TFs included"
         }
        }
       }
      }
     },
     "metadata": {},
     "output_type": "display_data"
    }
   ],
   "source": [
    "fig = px.line(\n",
    "    exp_results_qth,\n",
    "    x=\"TF\",\n",
    "    y=\"matched\",\n",
    "    color=\"Quantile\",\n",
    "    markers=True,\n",
    "    color_discrete_sequence=px.colors.qualitative.G10,\n",
    "    title=\"Inclusion of the 98 TFs genes\",\n",
    ")\n",
    "fig = fig.update_layout(\n",
    "    legend=dict(\n",
    "        orientation=\"h\",\n",
    "        yanchor=\"bottom\",\n",
    "        xanchor=\"center\",\n",
    "        x=0.6,\n",
    "        y=0.02,\n",
    "        bgcolor=\"rgba(0,0,0,0)\",\n",
    "        font=dict(size=20, color=\"#003366\"),\n",
    "    ),\n",
    "    xaxis=dict(tickfont=dict(size=20)),\n",
    "    yaxis=dict(tickfont=dict(size=20), title=\"Number of 98 TFs included\"),\n",
    "    font=dict(size=20),\n",
    ")\n",
    "fig.show()\n",
    "save_fig(name=\"exps_98_tfs\", fig=fig, base_path=figures_path, width=1800, height=800, margin=0.06)"
   ]
  },
  {
   "cell_type": "code",
   "execution_count": 50,
   "metadata": {},
   "outputs": [
    {
     "data": {
      "application/vnd.plotly.v1+json": {
       "config": {
        "plotlyServerURL": "https://plot.ly"
       },
       "data": [
        {
         "error_y": {
          "array": [
           0.48304589153964794,
           0.31622776601683794,
           0,
           0.4830458915396479,
           0.5163977794943222,
           0.8232726023485647,
           1.0593499054713802,
           1.370320319406298,
           1.663329993316621,
           1.6633299933166192
          ]
         },
         "hovertemplate": "Quantile=%{x}<br>mean=%{y}<extra></extra>",
         "legendgroup": "",
         "line": {
          "color": "#F8766D",
          "dash": "solid"
         },
         "marker": {
          "symbol": "circle"
         },
         "mode": "lines",
         "name": "",
         "orientation": "v",
         "showlegend": false,
         "type": "scatter",
         "x": [
          0.5,
          0.55,
          0.6,
          0.65,
          0.7,
          0.75,
          0.8,
          0.85,
          0.9,
          0.95
         ],
         "xaxis": "x",
         "y": [
          4.3,
          4.9,
          5,
          5.7,
          6.4,
          7.3,
          8.3,
          9.9,
          11.9,
          16.1
         ],
         "yaxis": "y"
        }
       ],
       "layout": {
        "font": {
         "size": 24
        },
        "height": 700,
        "legend": {
         "tracegroupgap": 0
        },
        "template": {
         "data": {
          "bar": [
           {
            "error_x": {
             "color": "rgb(51,51,51)"
            },
            "error_y": {
             "color": "rgb(51,51,51)"
            },
            "marker": {
             "line": {
              "color": "rgb(237,237,237)",
              "width": 0.5
             },
             "pattern": {
              "fillmode": "overlay",
              "size": 10,
              "solidity": 0.2
             }
            },
            "type": "bar"
           }
          ],
          "barpolar": [
           {
            "marker": {
             "line": {
              "color": "rgb(237,237,237)",
              "width": 0.5
             },
             "pattern": {
              "fillmode": "overlay",
              "size": 10,
              "solidity": 0.2
             }
            },
            "type": "barpolar"
           }
          ],
          "carpet": [
           {
            "aaxis": {
             "endlinecolor": "rgb(51,51,51)",
             "gridcolor": "white",
             "linecolor": "white",
             "minorgridcolor": "white",
             "startlinecolor": "rgb(51,51,51)"
            },
            "baxis": {
             "endlinecolor": "rgb(51,51,51)",
             "gridcolor": "white",
             "linecolor": "white",
             "minorgridcolor": "white",
             "startlinecolor": "rgb(51,51,51)"
            },
            "type": "carpet"
           }
          ],
          "choropleth": [
           {
            "colorbar": {
             "outlinewidth": 0,
             "tickcolor": "rgb(237,237,237)",
             "ticklen": 6,
             "ticks": "inside"
            },
            "type": "choropleth"
           }
          ],
          "contour": [
           {
            "colorbar": {
             "outlinewidth": 0,
             "tickcolor": "rgb(237,237,237)",
             "ticklen": 6,
             "ticks": "inside"
            },
            "colorscale": [
             [
              0,
              "rgb(20,44,66)"
             ],
             [
              1,
              "rgb(90,179,244)"
             ]
            ],
            "type": "contour"
           }
          ],
          "contourcarpet": [
           {
            "colorbar": {
             "outlinewidth": 0,
             "tickcolor": "rgb(237,237,237)",
             "ticklen": 6,
             "ticks": "inside"
            },
            "type": "contourcarpet"
           }
          ],
          "heatmap": [
           {
            "colorbar": {
             "outlinewidth": 0,
             "tickcolor": "rgb(237,237,237)",
             "ticklen": 6,
             "ticks": "inside"
            },
            "colorscale": [
             [
              0,
              "rgb(20,44,66)"
             ],
             [
              1,
              "rgb(90,179,244)"
             ]
            ],
            "type": "heatmap"
           }
          ],
          "heatmapgl": [
           {
            "colorbar": {
             "outlinewidth": 0,
             "tickcolor": "rgb(237,237,237)",
             "ticklen": 6,
             "ticks": "inside"
            },
            "colorscale": [
             [
              0,
              "rgb(20,44,66)"
             ],
             [
              1,
              "rgb(90,179,244)"
             ]
            ],
            "type": "heatmapgl"
           }
          ],
          "histogram": [
           {
            "marker": {
             "pattern": {
              "fillmode": "overlay",
              "size": 10,
              "solidity": 0.2
             }
            },
            "type": "histogram"
           }
          ],
          "histogram2d": [
           {
            "colorbar": {
             "outlinewidth": 0,
             "tickcolor": "rgb(237,237,237)",
             "ticklen": 6,
             "ticks": "inside"
            },
            "colorscale": [
             [
              0,
              "rgb(20,44,66)"
             ],
             [
              1,
              "rgb(90,179,244)"
             ]
            ],
            "type": "histogram2d"
           }
          ],
          "histogram2dcontour": [
           {
            "colorbar": {
             "outlinewidth": 0,
             "tickcolor": "rgb(237,237,237)",
             "ticklen": 6,
             "ticks": "inside"
            },
            "colorscale": [
             [
              0,
              "rgb(20,44,66)"
             ],
             [
              1,
              "rgb(90,179,244)"
             ]
            ],
            "type": "histogram2dcontour"
           }
          ],
          "mesh3d": [
           {
            "colorbar": {
             "outlinewidth": 0,
             "tickcolor": "rgb(237,237,237)",
             "ticklen": 6,
             "ticks": "inside"
            },
            "type": "mesh3d"
           }
          ],
          "parcoords": [
           {
            "line": {
             "colorbar": {
              "outlinewidth": 0,
              "tickcolor": "rgb(237,237,237)",
              "ticklen": 6,
              "ticks": "inside"
             }
            },
            "type": "parcoords"
           }
          ],
          "pie": [
           {
            "automargin": true,
            "type": "pie"
           }
          ],
          "scatter": [
           {
            "fillpattern": {
             "fillmode": "overlay",
             "size": 10,
             "solidity": 0.2
            },
            "type": "scatter"
           }
          ],
          "scatter3d": [
           {
            "line": {
             "colorbar": {
              "outlinewidth": 0,
              "tickcolor": "rgb(237,237,237)",
              "ticklen": 6,
              "ticks": "inside"
             }
            },
            "marker": {
             "colorbar": {
              "outlinewidth": 0,
              "tickcolor": "rgb(237,237,237)",
              "ticklen": 6,
              "ticks": "inside"
             }
            },
            "type": "scatter3d"
           }
          ],
          "scattercarpet": [
           {
            "marker": {
             "colorbar": {
              "outlinewidth": 0,
              "tickcolor": "rgb(237,237,237)",
              "ticklen": 6,
              "ticks": "inside"
             }
            },
            "type": "scattercarpet"
           }
          ],
          "scattergeo": [
           {
            "marker": {
             "colorbar": {
              "outlinewidth": 0,
              "tickcolor": "rgb(237,237,237)",
              "ticklen": 6,
              "ticks": "inside"
             }
            },
            "type": "scattergeo"
           }
          ],
          "scattergl": [
           {
            "marker": {
             "colorbar": {
              "outlinewidth": 0,
              "tickcolor": "rgb(237,237,237)",
              "ticklen": 6,
              "ticks": "inside"
             }
            },
            "type": "scattergl"
           }
          ],
          "scattermapbox": [
           {
            "marker": {
             "colorbar": {
              "outlinewidth": 0,
              "tickcolor": "rgb(237,237,237)",
              "ticklen": 6,
              "ticks": "inside"
             }
            },
            "type": "scattermapbox"
           }
          ],
          "scatterpolar": [
           {
            "marker": {
             "colorbar": {
              "outlinewidth": 0,
              "tickcolor": "rgb(237,237,237)",
              "ticklen": 6,
              "ticks": "inside"
             }
            },
            "type": "scatterpolar"
           }
          ],
          "scatterpolargl": [
           {
            "marker": {
             "colorbar": {
              "outlinewidth": 0,
              "tickcolor": "rgb(237,237,237)",
              "ticklen": 6,
              "ticks": "inside"
             }
            },
            "type": "scatterpolargl"
           }
          ],
          "scatterternary": [
           {
            "marker": {
             "colorbar": {
              "outlinewidth": 0,
              "tickcolor": "rgb(237,237,237)",
              "ticklen": 6,
              "ticks": "inside"
             }
            },
            "type": "scatterternary"
           }
          ],
          "surface": [
           {
            "colorbar": {
             "outlinewidth": 0,
             "tickcolor": "rgb(237,237,237)",
             "ticklen": 6,
             "ticks": "inside"
            },
            "colorscale": [
             [
              0,
              "rgb(20,44,66)"
             ],
             [
              1,
              "rgb(90,179,244)"
             ]
            ],
            "type": "surface"
           }
          ],
          "table": [
           {
            "cells": {
             "fill": {
              "color": "rgb(237,237,237)"
             },
             "line": {
              "color": "white"
             }
            },
            "header": {
             "fill": {
              "color": "rgb(217,217,217)"
             },
             "line": {
              "color": "white"
             }
            },
            "type": "table"
           }
          ]
         },
         "layout": {
          "annotationdefaults": {
           "arrowhead": 0,
           "arrowwidth": 1
          },
          "autotypenumbers": "strict",
          "coloraxis": {
           "colorbar": {
            "outlinewidth": 0,
            "tickcolor": "rgb(237,237,237)",
            "ticklen": 6,
            "ticks": "inside"
           }
          },
          "colorscale": {
           "sequential": [
            [
             0,
             "rgb(20,44,66)"
            ],
            [
             1,
             "rgb(90,179,244)"
            ]
           ],
           "sequentialminus": [
            [
             0,
             "rgb(20,44,66)"
            ],
            [
             1,
             "rgb(90,179,244)"
            ]
           ]
          },
          "colorway": [
           "#F8766D",
           "#A3A500",
           "#00BF7D",
           "#00B0F6",
           "#E76BF3"
          ],
          "font": {
           "color": "rgb(51,51,51)"
          },
          "geo": {
           "bgcolor": "white",
           "lakecolor": "white",
           "landcolor": "rgb(237,237,237)",
           "showlakes": true,
           "showland": true,
           "subunitcolor": "white"
          },
          "hoverlabel": {
           "align": "left"
          },
          "hovermode": "closest",
          "paper_bgcolor": "white",
          "plot_bgcolor": "rgb(237,237,237)",
          "polar": {
           "angularaxis": {
            "gridcolor": "white",
            "linecolor": "white",
            "showgrid": true,
            "tickcolor": "rgb(51,51,51)",
            "ticks": "outside"
           },
           "bgcolor": "rgb(237,237,237)",
           "radialaxis": {
            "gridcolor": "white",
            "linecolor": "white",
            "showgrid": true,
            "tickcolor": "rgb(51,51,51)",
            "ticks": "outside"
           }
          },
          "scene": {
           "xaxis": {
            "backgroundcolor": "rgb(237,237,237)",
            "gridcolor": "white",
            "gridwidth": 2,
            "linecolor": "white",
            "showbackground": true,
            "showgrid": true,
            "tickcolor": "rgb(51,51,51)",
            "ticks": "outside",
            "zerolinecolor": "white"
           },
           "yaxis": {
            "backgroundcolor": "rgb(237,237,237)",
            "gridcolor": "white",
            "gridwidth": 2,
            "linecolor": "white",
            "showbackground": true,
            "showgrid": true,
            "tickcolor": "rgb(51,51,51)",
            "ticks": "outside",
            "zerolinecolor": "white"
           },
           "zaxis": {
            "backgroundcolor": "rgb(237,237,237)",
            "gridcolor": "white",
            "gridwidth": 2,
            "linecolor": "white",
            "showbackground": true,
            "showgrid": true,
            "tickcolor": "rgb(51,51,51)",
            "ticks": "outside",
            "zerolinecolor": "white"
           }
          },
          "shapedefaults": {
           "fillcolor": "black",
           "line": {
            "width": 0
           },
           "opacity": 0.3
          },
          "ternary": {
           "aaxis": {
            "gridcolor": "white",
            "linecolor": "white",
            "showgrid": true,
            "tickcolor": "rgb(51,51,51)",
            "ticks": "outside"
           },
           "baxis": {
            "gridcolor": "white",
            "linecolor": "white",
            "showgrid": true,
            "tickcolor": "rgb(51,51,51)",
            "ticks": "outside"
           },
           "bgcolor": "rgb(237,237,237)",
           "caxis": {
            "gridcolor": "white",
            "linecolor": "white",
            "showgrid": true,
            "tickcolor": "rgb(51,51,51)",
            "ticks": "outside"
           }
          },
          "xaxis": {
           "automargin": true,
           "gridcolor": "white",
           "linecolor": "white",
           "showgrid": true,
           "tickcolor": "rgb(51,51,51)",
           "ticks": "outside",
           "title": {
            "standoff": 15
           },
           "zerolinecolor": "white"
          },
          "yaxis": {
           "automargin": true,
           "gridcolor": "white",
           "linecolor": "white",
           "showgrid": true,
           "tickcolor": "rgb(51,51,51)",
           "ticks": "outside",
           "title": {
            "standoff": 15
           },
           "zerolinecolor": "white"
          }
         }
        },
        "title": {
         "text": ""
        },
        "xaxis": {
         "anchor": "y",
         "domain": [
          0,
          1
         ],
         "tickfont": {
          "size": 24
         },
         "title": {
          "text": "Quantile"
         }
        },
        "yaxis": {
         "anchor": "x",
         "domain": [
          0,
          1
         ],
         "tickfont": {
          "size": 24
         },
         "title": {
          "text": "Mean degreee"
         }
        }
       }
      }
     },
     "metadata": {},
     "output_type": "display_data"
    }
   ],
   "source": [
    "stats_quantile = exp_results_qth.groupby(\"Quantile\")[\"Degree_th\"].agg([\"mean\", \"std\"]).reset_index()\n",
    "fig = px.line(stats_quantile, x=\"Quantile\", y=\"mean\", error_y=\"std\", title=\"Degree ranges\")\n",
    "fig = fig.update_layout(title=\"\", xaxis=dict(tickfont=dict(size=24)), yaxis=dict(tickfont=dict(size=24), title=\"Mean degreee\"), font=dict(size=24), height=700)\n",
    "fig.show()\n",
    "save_fig(name=\"exp_degree_th\", fig=fig, base_path=figures_path, width=1000, height=500, margin=0.02)"
   ]
  },
  {
   "cell_type": "markdown",
   "metadata": {},
   "source": [
    "## Control experiments\n",
    "\n",
    "### When are all the 98 TFs genes included?\n",
    "\n",
    "With varying the quantile threshold are the 98 TFs subset selected?\n",
    "\n",
    "From the experiments below it can be seen that q_th needs to be set to 0.4\n"
   ]
  },
  {
   "cell_type": "code",
   "execution_count": 15,
   "metadata": {},
   "outputs": [
    {
     "name": "stdout",
     "output_type": "stream",
     "text": [
      "### Matched (all ctrls & 98 TFs) 125\n",
      "### Matched (all ctrls & 98 TFs) 124\n",
      "### Matched (all ctrls & 98 TFs) 124\n",
      "### Matched (all ctrls & 98 TFs) 124\n",
      "### Matched (all ctrls & 98 TFs) 124\n",
      "### Matched (all ctrls & 98 TFs) 121\n",
      "### Matched (all ctrls & 98 TFs) 118\n",
      "### Matched (all ctrls & 98 TFs) 113\n",
      "### Matched (all ctrls & 98 TFs) 107\n",
      "### Matched (all ctrls & 98 TFs) 97\n",
      "### Matched (all ctrls & 98 TFs) 81\n",
      "### Matched (all ctrls & 98 TFs) 65\n",
      "### Matched (all ctrls & 98 TFs) 38\n"
     ]
    },
    {
     "data": {
      "application/vnd.plotly.v1+json": {
       "config": {
        "plotlyServerURL": "https://plot.ly"
       },
       "data": [
        {
         "alignmentgroup": "True",
         "hovertemplate": "Quantile=%{x}<br>Matched=%{y}<extra></extra>",
         "legendgroup": "",
         "marker": {
          "color": "#F8766D",
          "pattern": {
           "shape": ""
          }
         },
         "name": "",
         "offsetgroup": "",
         "orientation": "v",
         "showlegend": false,
         "textposition": "auto",
         "texttemplate": "%{y}",
         "type": "bar",
         "x": [
          "0.0",
          "0.35",
          "0.4",
          "0.45",
          "0.5",
          "0.55",
          "0.6",
          "0.65",
          "0.7",
          "0.75",
          "0.8",
          "0.85",
          "0.9",
          "0.95"
         ],
         "xaxis": "x",
         "y": [
          125,
          125,
          124,
          124,
          124,
          124,
          121,
          118,
          113,
          107,
          97,
          81,
          65,
          38
         ],
         "yaxis": "y"
        }
       ],
       "layout": {
        "barmode": "relative",
        "legend": {
         "tracegroupgap": 0
        },
        "template": {
         "data": {
          "bar": [
           {
            "error_x": {
             "color": "rgb(51,51,51)"
            },
            "error_y": {
             "color": "rgb(51,51,51)"
            },
            "marker": {
             "line": {
              "color": "rgb(237,237,237)",
              "width": 0.5
             },
             "pattern": {
              "fillmode": "overlay",
              "size": 10,
              "solidity": 0.2
             }
            },
            "type": "bar"
           }
          ],
          "barpolar": [
           {
            "marker": {
             "line": {
              "color": "rgb(237,237,237)",
              "width": 0.5
             },
             "pattern": {
              "fillmode": "overlay",
              "size": 10,
              "solidity": 0.2
             }
            },
            "type": "barpolar"
           }
          ],
          "carpet": [
           {
            "aaxis": {
             "endlinecolor": "rgb(51,51,51)",
             "gridcolor": "white",
             "linecolor": "white",
             "minorgridcolor": "white",
             "startlinecolor": "rgb(51,51,51)"
            },
            "baxis": {
             "endlinecolor": "rgb(51,51,51)",
             "gridcolor": "white",
             "linecolor": "white",
             "minorgridcolor": "white",
             "startlinecolor": "rgb(51,51,51)"
            },
            "type": "carpet"
           }
          ],
          "choropleth": [
           {
            "colorbar": {
             "outlinewidth": 0,
             "tickcolor": "rgb(237,237,237)",
             "ticklen": 6,
             "ticks": "inside"
            },
            "type": "choropleth"
           }
          ],
          "contour": [
           {
            "colorbar": {
             "outlinewidth": 0,
             "tickcolor": "rgb(237,237,237)",
             "ticklen": 6,
             "ticks": "inside"
            },
            "colorscale": [
             [
              0,
              "rgb(20,44,66)"
             ],
             [
              1,
              "rgb(90,179,244)"
             ]
            ],
            "type": "contour"
           }
          ],
          "contourcarpet": [
           {
            "colorbar": {
             "outlinewidth": 0,
             "tickcolor": "rgb(237,237,237)",
             "ticklen": 6,
             "ticks": "inside"
            },
            "type": "contourcarpet"
           }
          ],
          "heatmap": [
           {
            "colorbar": {
             "outlinewidth": 0,
             "tickcolor": "rgb(237,237,237)",
             "ticklen": 6,
             "ticks": "inside"
            },
            "colorscale": [
             [
              0,
              "rgb(20,44,66)"
             ],
             [
              1,
              "rgb(90,179,244)"
             ]
            ],
            "type": "heatmap"
           }
          ],
          "heatmapgl": [
           {
            "colorbar": {
             "outlinewidth": 0,
             "tickcolor": "rgb(237,237,237)",
             "ticklen": 6,
             "ticks": "inside"
            },
            "colorscale": [
             [
              0,
              "rgb(20,44,66)"
             ],
             [
              1,
              "rgb(90,179,244)"
             ]
            ],
            "type": "heatmapgl"
           }
          ],
          "histogram": [
           {
            "marker": {
             "pattern": {
              "fillmode": "overlay",
              "size": 10,
              "solidity": 0.2
             }
            },
            "type": "histogram"
           }
          ],
          "histogram2d": [
           {
            "colorbar": {
             "outlinewidth": 0,
             "tickcolor": "rgb(237,237,237)",
             "ticklen": 6,
             "ticks": "inside"
            },
            "colorscale": [
             [
              0,
              "rgb(20,44,66)"
             ],
             [
              1,
              "rgb(90,179,244)"
             ]
            ],
            "type": "histogram2d"
           }
          ],
          "histogram2dcontour": [
           {
            "colorbar": {
             "outlinewidth": 0,
             "tickcolor": "rgb(237,237,237)",
             "ticklen": 6,
             "ticks": "inside"
            },
            "colorscale": [
             [
              0,
              "rgb(20,44,66)"
             ],
             [
              1,
              "rgb(90,179,244)"
             ]
            ],
            "type": "histogram2dcontour"
           }
          ],
          "mesh3d": [
           {
            "colorbar": {
             "outlinewidth": 0,
             "tickcolor": "rgb(237,237,237)",
             "ticklen": 6,
             "ticks": "inside"
            },
            "type": "mesh3d"
           }
          ],
          "parcoords": [
           {
            "line": {
             "colorbar": {
              "outlinewidth": 0,
              "tickcolor": "rgb(237,237,237)",
              "ticklen": 6,
              "ticks": "inside"
             }
            },
            "type": "parcoords"
           }
          ],
          "pie": [
           {
            "automargin": true,
            "type": "pie"
           }
          ],
          "scatter": [
           {
            "fillpattern": {
             "fillmode": "overlay",
             "size": 10,
             "solidity": 0.2
            },
            "type": "scatter"
           }
          ],
          "scatter3d": [
           {
            "line": {
             "colorbar": {
              "outlinewidth": 0,
              "tickcolor": "rgb(237,237,237)",
              "ticklen": 6,
              "ticks": "inside"
             }
            },
            "marker": {
             "colorbar": {
              "outlinewidth": 0,
              "tickcolor": "rgb(237,237,237)",
              "ticklen": 6,
              "ticks": "inside"
             }
            },
            "type": "scatter3d"
           }
          ],
          "scattercarpet": [
           {
            "marker": {
             "colorbar": {
              "outlinewidth": 0,
              "tickcolor": "rgb(237,237,237)",
              "ticklen": 6,
              "ticks": "inside"
             }
            },
            "type": "scattercarpet"
           }
          ],
          "scattergeo": [
           {
            "marker": {
             "colorbar": {
              "outlinewidth": 0,
              "tickcolor": "rgb(237,237,237)",
              "ticklen": 6,
              "ticks": "inside"
             }
            },
            "type": "scattergeo"
           }
          ],
          "scattergl": [
           {
            "marker": {
             "colorbar": {
              "outlinewidth": 0,
              "tickcolor": "rgb(237,237,237)",
              "ticklen": 6,
              "ticks": "inside"
             }
            },
            "type": "scattergl"
           }
          ],
          "scattermapbox": [
           {
            "marker": {
             "colorbar": {
              "outlinewidth": 0,
              "tickcolor": "rgb(237,237,237)",
              "ticklen": 6,
              "ticks": "inside"
             }
            },
            "type": "scattermapbox"
           }
          ],
          "scatterpolar": [
           {
            "marker": {
             "colorbar": {
              "outlinewidth": 0,
              "tickcolor": "rgb(237,237,237)",
              "ticklen": 6,
              "ticks": "inside"
             }
            },
            "type": "scatterpolar"
           }
          ],
          "scatterpolargl": [
           {
            "marker": {
             "colorbar": {
              "outlinewidth": 0,
              "tickcolor": "rgb(237,237,237)",
              "ticklen": 6,
              "ticks": "inside"
             }
            },
            "type": "scatterpolargl"
           }
          ],
          "scatterternary": [
           {
            "marker": {
             "colorbar": {
              "outlinewidth": 0,
              "tickcolor": "rgb(237,237,237)",
              "ticklen": 6,
              "ticks": "inside"
             }
            },
            "type": "scatterternary"
           }
          ],
          "surface": [
           {
            "colorbar": {
             "outlinewidth": 0,
             "tickcolor": "rgb(237,237,237)",
             "ticklen": 6,
             "ticks": "inside"
            },
            "colorscale": [
             [
              0,
              "rgb(20,44,66)"
             ],
             [
              1,
              "rgb(90,179,244)"
             ]
            ],
            "type": "surface"
           }
          ],
          "table": [
           {
            "cells": {
             "fill": {
              "color": "rgb(237,237,237)"
             },
             "line": {
              "color": "white"
             }
            },
            "header": {
             "fill": {
              "color": "rgb(217,217,217)"
             },
             "line": {
              "color": "white"
             }
            },
            "type": "table"
           }
          ]
         },
         "layout": {
          "annotationdefaults": {
           "arrowhead": 0,
           "arrowwidth": 1
          },
          "autotypenumbers": "strict",
          "coloraxis": {
           "colorbar": {
            "outlinewidth": 0,
            "tickcolor": "rgb(237,237,237)",
            "ticklen": 6,
            "ticks": "inside"
           }
          },
          "colorscale": {
           "sequential": [
            [
             0,
             "rgb(20,44,66)"
            ],
            [
             1,
             "rgb(90,179,244)"
            ]
           ],
           "sequentialminus": [
            [
             0,
             "rgb(20,44,66)"
            ],
            [
             1,
             "rgb(90,179,244)"
            ]
           ]
          },
          "colorway": [
           "#F8766D",
           "#A3A500",
           "#00BF7D",
           "#00B0F6",
           "#E76BF3"
          ],
          "font": {
           "color": "rgb(51,51,51)"
          },
          "geo": {
           "bgcolor": "white",
           "lakecolor": "white",
           "landcolor": "rgb(237,237,237)",
           "showlakes": true,
           "showland": true,
           "subunitcolor": "white"
          },
          "hoverlabel": {
           "align": "left"
          },
          "hovermode": "closest",
          "paper_bgcolor": "white",
          "plot_bgcolor": "rgb(237,237,237)",
          "polar": {
           "angularaxis": {
            "gridcolor": "white",
            "linecolor": "white",
            "showgrid": true,
            "tickcolor": "rgb(51,51,51)",
            "ticks": "outside"
           },
           "bgcolor": "rgb(237,237,237)",
           "radialaxis": {
            "gridcolor": "white",
            "linecolor": "white",
            "showgrid": true,
            "tickcolor": "rgb(51,51,51)",
            "ticks": "outside"
           }
          },
          "scene": {
           "xaxis": {
            "backgroundcolor": "rgb(237,237,237)",
            "gridcolor": "white",
            "gridwidth": 2,
            "linecolor": "white",
            "showbackground": true,
            "showgrid": true,
            "tickcolor": "rgb(51,51,51)",
            "ticks": "outside",
            "zerolinecolor": "white"
           },
           "yaxis": {
            "backgroundcolor": "rgb(237,237,237)",
            "gridcolor": "white",
            "gridwidth": 2,
            "linecolor": "white",
            "showbackground": true,
            "showgrid": true,
            "tickcolor": "rgb(51,51,51)",
            "ticks": "outside",
            "zerolinecolor": "white"
           },
           "zaxis": {
            "backgroundcolor": "rgb(237,237,237)",
            "gridcolor": "white",
            "gridwidth": 2,
            "linecolor": "white",
            "showbackground": true,
            "showgrid": true,
            "tickcolor": "rgb(51,51,51)",
            "ticks": "outside",
            "zerolinecolor": "white"
           }
          },
          "shapedefaults": {
           "fillcolor": "black",
           "line": {
            "width": 0
           },
           "opacity": 0.3
          },
          "ternary": {
           "aaxis": {
            "gridcolor": "white",
            "linecolor": "white",
            "showgrid": true,
            "tickcolor": "rgb(51,51,51)",
            "ticks": "outside"
           },
           "baxis": {
            "gridcolor": "white",
            "linecolor": "white",
            "showgrid": true,
            "tickcolor": "rgb(51,51,51)",
            "ticks": "outside"
           },
           "bgcolor": "rgb(237,237,237)",
           "caxis": {
            "gridcolor": "white",
            "linecolor": "white",
            "showgrid": true,
            "tickcolor": "rgb(51,51,51)",
            "ticks": "outside"
           }
          },
          "xaxis": {
           "automargin": true,
           "gridcolor": "white",
           "linecolor": "white",
           "showgrid": true,
           "tickcolor": "rgb(51,51,51)",
           "ticks": "outside",
           "title": {
            "standoff": 15
           },
           "zerolinecolor": "white"
          },
          "yaxis": {
           "automargin": true,
           "gridcolor": "white",
           "linecolor": "white",
           "showgrid": true,
           "tickcolor": "rgb(51,51,51)",
           "ticks": "outside",
           "title": {
            "standoff": 15
           },
           "zerolinecolor": "white"
          }
         }
        },
        "title": {
         "text": "Matched across all controls"
        },
        "xaxis": {
         "anchor": "y",
         "domain": [
          0,
          1
         ],
         "title": {
          "text": "Quantile"
         }
        },
        "yaxis": {
         "anchor": "x",
         "domain": [
          0,
          1
         ],
         "title": {
          "text": "Matched"
         }
        }
       }
      }
     },
     "metadata": {},
     "output_type": "display_data"
    }
   ],
   "source": [
    "q_ths = list(range(35, 100, 5))\n",
    "q_ths.sort()\n",
    "stats = [(0, len(t_sel_tfs))]  # default values\n",
    "for q_th in q_ths:\n",
    "    q_th = q_th / 100\n",
    "\n",
    "    common_ctrls = set()\n",
    "    for key, value in exp_ctrls.items():\n",
    "        label = key.split(\"t\")[-1]\n",
    "        matched_ctrl, fig_ctrl, meta_info, global_stats = calculate_degree_thresholds(exp_set=value, sel_tfs=t_sel_tfs, label=label, q_th=q_th, verbose=False)\n",
    "\n",
    "        common_ctrls.update(matched_ctrl)\n",
    "\n",
    "    stats.append((q_th, len(common_ctrls)))\n",
    "    print(f\"### Matched (all ctrls & 98 TFs) {len(common_ctrls)}\")\n",
    "\n",
    "stats = pd.DataFrame(stats, columns=[\"Quantile\", \"Matched\"])\n",
    "stats.sort_values(by=\"Quantile\", ascending=True, inplace=True)\n",
    "stats[\"Quantile\"] = stats[\"Quantile\"].astype(str)\n",
    "\n",
    "px.bar(stats, x=\"Quantile\", y=\"Matched\", text_auto=True, title=\"Matched across all controls\")"
   ]
  },
  {
   "cell_type": "markdown",
   "metadata": {},
   "source": [
    "### Matched controls across TFs\n",
    "\n",
    "The limitation with the above graph is that in looks at all the control which gives an unrealistic representation.\n",
    "\n",
    "In the following section we look only at the ones"
   ]
  },
  {
   "cell_type": "code",
   "execution_count": 16,
   "metadata": {},
   "outputs": [],
   "source": [
    "all_q_ths = pd.DataFrame()\n",
    "q_ths = list(range(40, 100, 5))\n",
    "q_ths.sort()\n",
    "stats = []\n",
    "for q_th in q_ths:\n",
    "    q_th = q_th / 100\n",
    "\n",
    "    common_ctrls = set()\n",
    "    all_ctrls = pd.DataFrame()\n",
    "    for key, value in exp_ctrls.items():\n",
    "        label = key.split(\"h\")[-1]\n",
    "        matched_ctrl, fig_ctrl, meta_info, global_stats = calculate_degree_thresholds(exp_set=value, sel_tfs=t_sel_tfs, label=label, q_th=q_th, verbose=False)\n",
    "\n",
    "        common_ctrls.update(matched_ctrl)\n",
    "        meta_info[\"Quantile\"] = q_th\n",
    "        all_ctrls = pd.concat([all_ctrls, meta_info], axis=0)\n",
    "\n",
    "    all_q_ths = pd.concat([all_ctrls, all_q_ths], axis=0)\n",
    "\n",
    "# Computer TF and Quantile\n",
    "stats = []\n",
    "for tf in all_q_ths[\"TF\"].unique():\n",
    "    sel_dmy = all_q_ths.loc[all_q_ths[\"TF\"] == tf]\n",
    "\n",
    "    for q_th in sel_dmy[\"Quantile\"].unique():\n",
    "        sel = sel_dmy[sel_dmy[\"Quantile\"] == q_th]\n",
    "        stats.append(\n",
    "            (\n",
    "                tf,\n",
    "                q_th,\n",
    "                sel[\"matched\"].mean(),\n",
    "                sel[\"matched\"].std(),\n",
    "            )\n",
    "        )"
   ]
  },
  {
   "cell_type": "code",
   "execution_count": 17,
   "metadata": {},
   "outputs": [],
   "source": [
    "stats = pd.DataFrame(stats, columns=[\"TF\", \"q_th\", \"Mean\", \"Std\"])\n",
    "\n",
    "fig = px.line(stats, x=\"TF\", y=\"Mean\", error_y=\"Std\", color=\"q_th\", color_discrete_sequence=px.colors.qualitative.G10 + px.colors.qualitative.D3, height=700)\n",
    "fig = fig.update_layout(\n",
    "    legend=dict(\n",
    "        orientation=\"h\",\n",
    "        yanchor=\"bottom\",\n",
    "        xanchor=\"center\",\n",
    "        x=0.5,\n",
    "        y=1.0,\n",
    "        bgcolor=\"rgba(0,0,0,0)\",\n",
    "        font=dict(size=20, color=\"#003366\"),\n",
    "    ),\n",
    "    xaxis=dict(tickfont=dict(size=20)),\n",
    "    yaxis=dict(tickfont=dict(size=20), title=\"Mean of 98 TFs included\"),\n",
    "    font=dict(size=20),\n",
    ")\n",
    "save_fig(name=\"ctrls_98_tfs\", fig=fig, base_path=figures_path, width=1800, height=800, margin=0.06)"
   ]
  },
  {
   "cell_type": "code",
   "execution_count": 18,
   "metadata": {},
   "outputs": [],
   "source": [
    "stats_quantile = all_q_ths.groupby(\"Quantile\")[\"Degree_th\"].agg([\"mean\", \"std\"]).reset_index()\n",
    "fig = px.line(stats_quantile, x=\"Quantile\", y=\"mean\", error_y=\"std\", title=\"Degree ranges\")\n",
    "fig = fig.update_layout(title=\"\", xaxis=dict(tickfont=dict(size=24)), yaxis=dict(tickfont=dict(size=24), title=\"Mean degreee\"), font=dict(size=24), height=700)\n",
    "save_fig(name=\"ctrl_degree_th\", fig=fig, base_path=figures_path, width=1000, height=500, margin=0.02)"
   ]
  },
  {
   "cell_type": "markdown",
   "metadata": {},
   "source": [
    "# Check for specific TF\n",
    "\n",
    "We found the 98 TFs by varying the number of TFs and then doing the interesection. However, can we just use one value for TF?"
   ]
  },
  {
   "cell_type": "code",
   "execution_count": 19,
   "metadata": {},
   "outputs": [
    {
     "data": {
      "application/vnd.plotly.v1+json": {
       "config": {
        "plotlyServerURL": "https://plot.ly"
       },
       "data": [
        {
         "alignmentgroup": "True",
         "hovertemplate": "variable=matched<br>TF=%{x}<br>value=%{y}<extra></extra>",
         "legendgroup": "matched",
         "marker": {
          "color": "#F8766D",
          "pattern": {
           "shape": ""
          }
         },
         "name": "matched",
         "offsetgroup": "matched",
         "orientation": "v",
         "showlegend": true,
         "textposition": "auto",
         "texttemplate": "%{y}",
         "type": "bar",
         "x": [
          "3",
          "4",
          "5",
          "6",
          "7",
          "8",
          "9",
          "10",
          "11",
          "12"
         ],
         "xaxis": "x",
         "y": [
          14,
          17,
          27,
          27,
          28,
          30,
          30,
          35,
          34,
          39
         ],
         "yaxis": "y"
        },
        {
         "alignmentgroup": "True",
         "hovertemplate": "variable=unique<br>TF=%{x}<br>value=%{y}<extra></extra>",
         "legendgroup": "unique",
         "marker": {
          "color": "#A3A500",
          "pattern": {
           "shape": ""
          }
         },
         "name": "unique",
         "offsetgroup": "unique",
         "orientation": "v",
         "showlegend": true,
         "textposition": "auto",
         "texttemplate": "%{y}",
         "type": "bar",
         "x": [
          "3",
          "4",
          "5",
          "6",
          "7",
          "8",
          "9",
          "10",
          "11",
          "12"
         ],
         "xaxis": "x",
         "y": [
          0,
          0,
          1,
          0,
          0,
          30,
          0,
          1,
          4,
          3
         ],
         "yaxis": "y"
        },
        {
         "alignmentgroup": "True",
         "hovertemplate": "variable=selected<br>TF=%{x}<br>value=%{y}<extra></extra>",
         "legendgroup": "selected",
         "marker": {
          "color": "#00BF7D",
          "pattern": {
           "shape": ""
          }
         },
         "name": "selected",
         "offsetgroup": "selected",
         "orientation": "v",
         "showlegend": true,
         "textposition": "auto",
         "texttemplate": "%{y}",
         "type": "bar",
         "visible": "legendonly",
         "x": [
          "3",
          "4",
          "5",
          "6",
          "7",
          "8",
          "9",
          "10",
          "11",
          "12"
         ],
         "xaxis": "x",
         "y": [
          109,
          100,
          116,
          104,
          103,
          106,
          106,
          102,
          100,
          107
         ],
         "yaxis": "y"
        }
       ],
       "layout": {
        "barmode": "group",
        "legend": {
         "title": {
          "text": "variable"
         },
         "tracegroupgap": 0
        },
        "template": {
         "data": {
          "bar": [
           {
            "error_x": {
             "color": "rgb(51,51,51)"
            },
            "error_y": {
             "color": "rgb(51,51,51)"
            },
            "marker": {
             "line": {
              "color": "rgb(237,237,237)",
              "width": 0.5
             },
             "pattern": {
              "fillmode": "overlay",
              "size": 10,
              "solidity": 0.2
             }
            },
            "type": "bar"
           }
          ],
          "barpolar": [
           {
            "marker": {
             "line": {
              "color": "rgb(237,237,237)",
              "width": 0.5
             },
             "pattern": {
              "fillmode": "overlay",
              "size": 10,
              "solidity": 0.2
             }
            },
            "type": "barpolar"
           }
          ],
          "carpet": [
           {
            "aaxis": {
             "endlinecolor": "rgb(51,51,51)",
             "gridcolor": "white",
             "linecolor": "white",
             "minorgridcolor": "white",
             "startlinecolor": "rgb(51,51,51)"
            },
            "baxis": {
             "endlinecolor": "rgb(51,51,51)",
             "gridcolor": "white",
             "linecolor": "white",
             "minorgridcolor": "white",
             "startlinecolor": "rgb(51,51,51)"
            },
            "type": "carpet"
           }
          ],
          "choropleth": [
           {
            "colorbar": {
             "outlinewidth": 0,
             "tickcolor": "rgb(237,237,237)",
             "ticklen": 6,
             "ticks": "inside"
            },
            "type": "choropleth"
           }
          ],
          "contour": [
           {
            "colorbar": {
             "outlinewidth": 0,
             "tickcolor": "rgb(237,237,237)",
             "ticklen": 6,
             "ticks": "inside"
            },
            "colorscale": [
             [
              0,
              "rgb(20,44,66)"
             ],
             [
              1,
              "rgb(90,179,244)"
             ]
            ],
            "type": "contour"
           }
          ],
          "contourcarpet": [
           {
            "colorbar": {
             "outlinewidth": 0,
             "tickcolor": "rgb(237,237,237)",
             "ticklen": 6,
             "ticks": "inside"
            },
            "type": "contourcarpet"
           }
          ],
          "heatmap": [
           {
            "colorbar": {
             "outlinewidth": 0,
             "tickcolor": "rgb(237,237,237)",
             "ticklen": 6,
             "ticks": "inside"
            },
            "colorscale": [
             [
              0,
              "rgb(20,44,66)"
             ],
             [
              1,
              "rgb(90,179,244)"
             ]
            ],
            "type": "heatmap"
           }
          ],
          "heatmapgl": [
           {
            "colorbar": {
             "outlinewidth": 0,
             "tickcolor": "rgb(237,237,237)",
             "ticklen": 6,
             "ticks": "inside"
            },
            "colorscale": [
             [
              0,
              "rgb(20,44,66)"
             ],
             [
              1,
              "rgb(90,179,244)"
             ]
            ],
            "type": "heatmapgl"
           }
          ],
          "histogram": [
           {
            "marker": {
             "pattern": {
              "fillmode": "overlay",
              "size": 10,
              "solidity": 0.2
             }
            },
            "type": "histogram"
           }
          ],
          "histogram2d": [
           {
            "colorbar": {
             "outlinewidth": 0,
             "tickcolor": "rgb(237,237,237)",
             "ticklen": 6,
             "ticks": "inside"
            },
            "colorscale": [
             [
              0,
              "rgb(20,44,66)"
             ],
             [
              1,
              "rgb(90,179,244)"
             ]
            ],
            "type": "histogram2d"
           }
          ],
          "histogram2dcontour": [
           {
            "colorbar": {
             "outlinewidth": 0,
             "tickcolor": "rgb(237,237,237)",
             "ticklen": 6,
             "ticks": "inside"
            },
            "colorscale": [
             [
              0,
              "rgb(20,44,66)"
             ],
             [
              1,
              "rgb(90,179,244)"
             ]
            ],
            "type": "histogram2dcontour"
           }
          ],
          "mesh3d": [
           {
            "colorbar": {
             "outlinewidth": 0,
             "tickcolor": "rgb(237,237,237)",
             "ticklen": 6,
             "ticks": "inside"
            },
            "type": "mesh3d"
           }
          ],
          "parcoords": [
           {
            "line": {
             "colorbar": {
              "outlinewidth": 0,
              "tickcolor": "rgb(237,237,237)",
              "ticklen": 6,
              "ticks": "inside"
             }
            },
            "type": "parcoords"
           }
          ],
          "pie": [
           {
            "automargin": true,
            "type": "pie"
           }
          ],
          "scatter": [
           {
            "fillpattern": {
             "fillmode": "overlay",
             "size": 10,
             "solidity": 0.2
            },
            "type": "scatter"
           }
          ],
          "scatter3d": [
           {
            "line": {
             "colorbar": {
              "outlinewidth": 0,
              "tickcolor": "rgb(237,237,237)",
              "ticklen": 6,
              "ticks": "inside"
             }
            },
            "marker": {
             "colorbar": {
              "outlinewidth": 0,
              "tickcolor": "rgb(237,237,237)",
              "ticklen": 6,
              "ticks": "inside"
             }
            },
            "type": "scatter3d"
           }
          ],
          "scattercarpet": [
           {
            "marker": {
             "colorbar": {
              "outlinewidth": 0,
              "tickcolor": "rgb(237,237,237)",
              "ticklen": 6,
              "ticks": "inside"
             }
            },
            "type": "scattercarpet"
           }
          ],
          "scattergeo": [
           {
            "marker": {
             "colorbar": {
              "outlinewidth": 0,
              "tickcolor": "rgb(237,237,237)",
              "ticklen": 6,
              "ticks": "inside"
             }
            },
            "type": "scattergeo"
           }
          ],
          "scattergl": [
           {
            "marker": {
             "colorbar": {
              "outlinewidth": 0,
              "tickcolor": "rgb(237,237,237)",
              "ticklen": 6,
              "ticks": "inside"
             }
            },
            "type": "scattergl"
           }
          ],
          "scattermapbox": [
           {
            "marker": {
             "colorbar": {
              "outlinewidth": 0,
              "tickcolor": "rgb(237,237,237)",
              "ticklen": 6,
              "ticks": "inside"
             }
            },
            "type": "scattermapbox"
           }
          ],
          "scatterpolar": [
           {
            "marker": {
             "colorbar": {
              "outlinewidth": 0,
              "tickcolor": "rgb(237,237,237)",
              "ticklen": 6,
              "ticks": "inside"
             }
            },
            "type": "scatterpolar"
           }
          ],
          "scatterpolargl": [
           {
            "marker": {
             "colorbar": {
              "outlinewidth": 0,
              "tickcolor": "rgb(237,237,237)",
              "ticklen": 6,
              "ticks": "inside"
             }
            },
            "type": "scatterpolargl"
           }
          ],
          "scatterternary": [
           {
            "marker": {
             "colorbar": {
              "outlinewidth": 0,
              "tickcolor": "rgb(237,237,237)",
              "ticklen": 6,
              "ticks": "inside"
             }
            },
            "type": "scatterternary"
           }
          ],
          "surface": [
           {
            "colorbar": {
             "outlinewidth": 0,
             "tickcolor": "rgb(237,237,237)",
             "ticklen": 6,
             "ticks": "inside"
            },
            "colorscale": [
             [
              0,
              "rgb(20,44,66)"
             ],
             [
              1,
              "rgb(90,179,244)"
             ]
            ],
            "type": "surface"
           }
          ],
          "table": [
           {
            "cells": {
             "fill": {
              "color": "rgb(237,237,237)"
             },
             "line": {
              "color": "white"
             }
            },
            "header": {
             "fill": {
              "color": "rgb(217,217,217)"
             },
             "line": {
              "color": "white"
             }
            },
            "type": "table"
           }
          ]
         },
         "layout": {
          "annotationdefaults": {
           "arrowhead": 0,
           "arrowwidth": 1
          },
          "autotypenumbers": "strict",
          "coloraxis": {
           "colorbar": {
            "outlinewidth": 0,
            "tickcolor": "rgb(237,237,237)",
            "ticklen": 6,
            "ticks": "inside"
           }
          },
          "colorscale": {
           "sequential": [
            [
             0,
             "rgb(20,44,66)"
            ],
            [
             1,
             "rgb(90,179,244)"
            ]
           ],
           "sequentialminus": [
            [
             0,
             "rgb(20,44,66)"
            ],
            [
             1,
             "rgb(90,179,244)"
            ]
           ]
          },
          "colorway": [
           "#F8766D",
           "#A3A500",
           "#00BF7D",
           "#00B0F6",
           "#E76BF3"
          ],
          "font": {
           "color": "rgb(51,51,51)"
          },
          "geo": {
           "bgcolor": "white",
           "lakecolor": "white",
           "landcolor": "rgb(237,237,237)",
           "showlakes": true,
           "showland": true,
           "subunitcolor": "white"
          },
          "hoverlabel": {
           "align": "left"
          },
          "hovermode": "closest",
          "paper_bgcolor": "white",
          "plot_bgcolor": "rgb(237,237,237)",
          "polar": {
           "angularaxis": {
            "gridcolor": "white",
            "linecolor": "white",
            "showgrid": true,
            "tickcolor": "rgb(51,51,51)",
            "ticks": "outside"
           },
           "bgcolor": "rgb(237,237,237)",
           "radialaxis": {
            "gridcolor": "white",
            "linecolor": "white",
            "showgrid": true,
            "tickcolor": "rgb(51,51,51)",
            "ticks": "outside"
           }
          },
          "scene": {
           "xaxis": {
            "backgroundcolor": "rgb(237,237,237)",
            "gridcolor": "white",
            "gridwidth": 2,
            "linecolor": "white",
            "showbackground": true,
            "showgrid": true,
            "tickcolor": "rgb(51,51,51)",
            "ticks": "outside",
            "zerolinecolor": "white"
           },
           "yaxis": {
            "backgroundcolor": "rgb(237,237,237)",
            "gridcolor": "white",
            "gridwidth": 2,
            "linecolor": "white",
            "showbackground": true,
            "showgrid": true,
            "tickcolor": "rgb(51,51,51)",
            "ticks": "outside",
            "zerolinecolor": "white"
           },
           "zaxis": {
            "backgroundcolor": "rgb(237,237,237)",
            "gridcolor": "white",
            "gridwidth": 2,
            "linecolor": "white",
            "showbackground": true,
            "showgrid": true,
            "tickcolor": "rgb(51,51,51)",
            "ticks": "outside",
            "zerolinecolor": "white"
           }
          },
          "shapedefaults": {
           "fillcolor": "black",
           "line": {
            "width": 0
           },
           "opacity": 0.3
          },
          "ternary": {
           "aaxis": {
            "gridcolor": "white",
            "linecolor": "white",
            "showgrid": true,
            "tickcolor": "rgb(51,51,51)",
            "ticks": "outside"
           },
           "baxis": {
            "gridcolor": "white",
            "linecolor": "white",
            "showgrid": true,
            "tickcolor": "rgb(51,51,51)",
            "ticks": "outside"
           },
           "bgcolor": "rgb(237,237,237)",
           "caxis": {
            "gridcolor": "white",
            "linecolor": "white",
            "showgrid": true,
            "tickcolor": "rgb(51,51,51)",
            "ticks": "outside"
           }
          },
          "xaxis": {
           "automargin": true,
           "gridcolor": "white",
           "linecolor": "white",
           "showgrid": true,
           "tickcolor": "rgb(51,51,51)",
           "ticks": "outside",
           "title": {
            "standoff": 15
           },
           "zerolinecolor": "white"
          },
          "yaxis": {
           "automargin": true,
           "gridcolor": "white",
           "linecolor": "white",
           "showgrid": true,
           "tickcolor": "rgb(51,51,51)",
           "ticks": "outside",
           "title": {
            "standoff": 15
           },
           "zerolinecolor": "white"
          }
         }
        },
        "title": {
         "text": "Q_th: 0.98. For Exp"
        },
        "xaxis": {
         "anchor": "y",
         "domain": [
          0,
          1
         ],
         "title": {
          "text": "TF"
         }
        },
        "yaxis": {
         "anchor": "x",
         "domain": [
          0,
          1
         ],
         "title": {
          "text": "value"
         }
        }
       }
      }
     },
     "metadata": {},
     "output_type": "display_data"
    }
   ],
   "source": [
    "q_th = 0.98\n",
    "matched_exp, fig_exp, exps_th, global_stats = calculate_degree_thresholds(exp_set=exp_set, sel_tfs=t_sel_tfs, label=\"Exp\", q_th=q_th, verbose=False)\n",
    "fig_exp.show()"
   ]
  },
  {
   "cell_type": "markdown",
   "metadata": {},
   "source": [
    "# Reproduce inclusion of the 98 TFs\n",
    "\n",
    "First gather all the genes from each experiment\n",
    "\n",
    "Then do the same thing for controls\n",
    "\n",
    "Look at how many of the initial are included in the selected"
   ]
  },
  {
   "cell_type": "code",
   "execution_count": 23,
   "metadata": {},
   "outputs": [],
   "source": [
    "def extract_genes(exp_set: ExperimentSet, tf_list: list, exp_type: str, q_th=0.5):\n",
    "    stats_exp = []\n",
    "    info_exp = {}\n",
    "    for key, nodes_df in exp_set.items():\n",
    "        tf = NetworkOutput.extract_tf_number(key)\n",
    "    \n",
    "        median = nodes_df['degree_t'].quantile(q=q_th)\n",
    "        all_tf = len(set(nodes_df.index) & set(tf_list))\n",
    "\n",
    "        genes_sel = nodes_df[nodes_df['degree_t'] >= median][['degree_t', 'TF', 'Type']]\n",
    "        info_exp[tf] = genes_sel\n",
    "\n",
    "        tfs_included = len(set(genes_sel.index) & set(tf_list))\n",
    "        stats_exp.append((\n",
    "            tf,\n",
    "            genes_sel.shape[0],\n",
    "            tfs_included,\n",
    "            round(tfs_included / all_tf * 100, 4),\n",
    "            exp_type\n",
    "        ))\n",
    "\n",
    "    stats_exp = pd.DataFrame(stats_exp, columns=['TF', 'Num genes', 'Num TF', \"Prct TF\", 'Type'])\n",
    "    stats_exp['TF'] = stats_exp['TF'].astype(int)\n",
    "    stats_exp.sort_values(by='TF', ascending=True, inplace=True)\n",
    "    return stats_exp\n",
    "\n",
    "\n",
    "#### Run exp\n",
    "stats_exp = extract_genes(exp_set=exp_set, tf_list=tf_list, exp_type='Exp', q_th=0.5)\n",
    "\n",
    "#### Run ctrls\n",
    "all_ctrls = pd.DataFrame()\n",
    "for key, ctrl_exp in exp_ctrls.items():\n",
    "    ctrl_stats = extract_genes(exp_set=ctrl_exp, tf_list=tf_list, exp_type=key, q_th=0.5)\n",
    "    all_ctrls = pd.concat([all_ctrls, ctrl_stats], axis=0)\n",
    "\n",
    "all_ctrls.sort_values(by='TF', ascending=True, inplace=True)"
   ]
  },
  {
   "cell_type": "code",
   "execution_count": 21,
   "metadata": {},
   "outputs": [],
   "source": [
    "all_tf_chgs_stats = []\n",
    "for tf in all_ctrls['TF'].unique():\n",
    "    sel_df = all_ctrls[all_ctrls['TF'] == tf]\n",
    "    all_tf_chgs_stats.append([\n",
    "        tf,\n",
    "        sel_df['Prct TF'].median(axis=0),\n",
    "        sel_df['Prct TF'].mean(axis=0),\n",
    "        sel_df['Prct TF'].std(axis=0),\n",
    "        sel_df['Num TF'].median(axis=0),\n",
    "        sel_df['Num TF'].mean(axis=0),\n",
    "        sel_df['Num TF'].std(axis=0),\n",
    "    ])    \n",
    "\n",
    "\n",
    "tf_chgs_stats_df = pd.DataFrame(\n",
    "    all_tf_chgs_stats,\n",
    "    columns=[\"TF\", \"Prct_median\", \"Prct_mean\", \"Prct_std\", \"#TF_median\", \"#TF_mean\", \"#TF_std\"],\n",
    ")\n",
    "tf_chgs_stats_df[\"Type\"] = \"Control\"\n",
    "\n",
    "\n",
    "## Experiment\n",
    "used_tf = set(sel_exp_42.tpm_df.index) & set(tf_list)\n",
    "stats_exp[\"Used_prct\"] = stats_exp[\"Num TF\"] / len(used_tf) * 100\n",
    "stats_exp[\"Prct_median\"] = stats_exp[\"Used_prct\"]\n",
    "stats_exp[\"Prct_mean\"] = stats_exp[\"Used_prct\"]\n",
    "stats_exp[\"Prct_std\"] = 0\n",
    "stats_exp[\"Type\"] = \"Experiment\"\n",
    "\n",
    "## Combine the two\n",
    "comb_chgs = pd.concat([tf_chgs_stats_df, stats_exp], axis=0)\n",
    "comb_chgs.sort_values(by='TF', ascending=True, inplace=True)\n",
    "comb_chgs['TF'] = comb_chgs[\"TF\"].astype(str)\n"
   ]
  },
  {
   "cell_type": "code",
   "execution_count": 22,
   "metadata": {},
   "outputs": [
    {
     "data": {
      "application/vnd.plotly.v1+json": {
       "config": {
        "plotlyServerURL": "https://plot.ly"
       },
       "data": [
        {
         "error_y": {
          "array": [
           0,
           0.29362802261818893,
           0.47707712863505247,
           0.5485207464930874,
           10.290235916359416,
           0.7046881031113458,
           0.7656607151125523,
           0.8808629834807828,
           0.9760099125748908,
           1.1386968177116625
          ],
          "width": 5
         },
         "hovertemplate": "Type=Control<br>TF=%{x}<br>Prct_mean=%{y}<extra></extra>",
         "legendgroup": "Control",
         "line": {
          "color": "#DC3912",
          "dash": "solid",
          "width": 5
         },
         "marker": {
          "size": 12,
          "symbol": "circle"
         },
         "mode": "lines+markers",
         "name": "Control",
         "orientation": "v",
         "showlegend": true,
         "type": "scatter",
         "x": [
          "3",
          "4",
          "5",
          "6",
          "7",
          "8",
          "9",
          "10",
          "11",
          "12"
         ],
         "xaxis": "x",
         "y": [
          67.1309,
          67.68803,
          68.1337,
          68.55154,
          58.941509999999994,
          49.52646,
          50.13928,
          50.69637,
          51.39274999999999,
          52.200540000000004
         ],
         "yaxis": "y"
        },
        {
         "error_y": {
          "array": [
           0,
           0,
           0,
           0,
           0,
           0,
           0,
           0,
           0,
           0
          ],
          "width": 5
         },
         "hovertemplate": "Type=Experiment<br>TF=%{x}<br>Prct_mean=%{y}<extra></extra>",
         "legendgroup": "Experiment",
         "line": {
          "color": "#3366CC",
          "dash": "solid",
          "width": 5
         },
         "marker": {
          "size": 12,
          "symbol": "circle"
         },
         "mode": "lines+markers",
         "name": "Experiment",
         "orientation": "v",
         "showlegend": true,
         "type": "scatter",
         "x": [
          "3",
          "4",
          "5",
          "6",
          "7",
          "8",
          "9",
          "10",
          "11",
          "12"
         ],
         "xaxis": "x",
         "y": [
          67.1309192200557,
          100,
          100,
          100,
          100,
          100,
          100,
          100,
          100,
          100
         ],
         "yaxis": "y"
        }
       ],
       "layout": {
        "font": {
         "size": 16
        },
        "height": 600,
        "legend": {
         "bgcolor": "rgba(0,0,0,0)",
         "font": {
          "size": 16
         },
         "orientation": "h",
         "title": {
          "text": "Type"
         },
         "tracegroupgap": 0,
         "x": 0.5,
         "xanchor": "center",
         "y": 0.18,
         "yanchor": "bottom"
        },
        "template": {
         "data": {
          "bar": [
           {
            "error_x": {
             "color": "rgb(51,51,51)"
            },
            "error_y": {
             "color": "rgb(51,51,51)"
            },
            "marker": {
             "line": {
              "color": "rgb(237,237,237)",
              "width": 0.5
             },
             "pattern": {
              "fillmode": "overlay",
              "size": 10,
              "solidity": 0.2
             }
            },
            "type": "bar"
           }
          ],
          "barpolar": [
           {
            "marker": {
             "line": {
              "color": "rgb(237,237,237)",
              "width": 0.5
             },
             "pattern": {
              "fillmode": "overlay",
              "size": 10,
              "solidity": 0.2
             }
            },
            "type": "barpolar"
           }
          ],
          "carpet": [
           {
            "aaxis": {
             "endlinecolor": "rgb(51,51,51)",
             "gridcolor": "white",
             "linecolor": "white",
             "minorgridcolor": "white",
             "startlinecolor": "rgb(51,51,51)"
            },
            "baxis": {
             "endlinecolor": "rgb(51,51,51)",
             "gridcolor": "white",
             "linecolor": "white",
             "minorgridcolor": "white",
             "startlinecolor": "rgb(51,51,51)"
            },
            "type": "carpet"
           }
          ],
          "choropleth": [
           {
            "colorbar": {
             "outlinewidth": 0,
             "tickcolor": "rgb(237,237,237)",
             "ticklen": 6,
             "ticks": "inside"
            },
            "type": "choropleth"
           }
          ],
          "contour": [
           {
            "colorbar": {
             "outlinewidth": 0,
             "tickcolor": "rgb(237,237,237)",
             "ticklen": 6,
             "ticks": "inside"
            },
            "colorscale": [
             [
              0,
              "rgb(20,44,66)"
             ],
             [
              1,
              "rgb(90,179,244)"
             ]
            ],
            "type": "contour"
           }
          ],
          "contourcarpet": [
           {
            "colorbar": {
             "outlinewidth": 0,
             "tickcolor": "rgb(237,237,237)",
             "ticklen": 6,
             "ticks": "inside"
            },
            "type": "contourcarpet"
           }
          ],
          "heatmap": [
           {
            "colorbar": {
             "outlinewidth": 0,
             "tickcolor": "rgb(237,237,237)",
             "ticklen": 6,
             "ticks": "inside"
            },
            "colorscale": [
             [
              0,
              "rgb(20,44,66)"
             ],
             [
              1,
              "rgb(90,179,244)"
             ]
            ],
            "type": "heatmap"
           }
          ],
          "heatmapgl": [
           {
            "colorbar": {
             "outlinewidth": 0,
             "tickcolor": "rgb(237,237,237)",
             "ticklen": 6,
             "ticks": "inside"
            },
            "colorscale": [
             [
              0,
              "rgb(20,44,66)"
             ],
             [
              1,
              "rgb(90,179,244)"
             ]
            ],
            "type": "heatmapgl"
           }
          ],
          "histogram": [
           {
            "marker": {
             "pattern": {
              "fillmode": "overlay",
              "size": 10,
              "solidity": 0.2
             }
            },
            "type": "histogram"
           }
          ],
          "histogram2d": [
           {
            "colorbar": {
             "outlinewidth": 0,
             "tickcolor": "rgb(237,237,237)",
             "ticklen": 6,
             "ticks": "inside"
            },
            "colorscale": [
             [
              0,
              "rgb(20,44,66)"
             ],
             [
              1,
              "rgb(90,179,244)"
             ]
            ],
            "type": "histogram2d"
           }
          ],
          "histogram2dcontour": [
           {
            "colorbar": {
             "outlinewidth": 0,
             "tickcolor": "rgb(237,237,237)",
             "ticklen": 6,
             "ticks": "inside"
            },
            "colorscale": [
             [
              0,
              "rgb(20,44,66)"
             ],
             [
              1,
              "rgb(90,179,244)"
             ]
            ],
            "type": "histogram2dcontour"
           }
          ],
          "mesh3d": [
           {
            "colorbar": {
             "outlinewidth": 0,
             "tickcolor": "rgb(237,237,237)",
             "ticklen": 6,
             "ticks": "inside"
            },
            "type": "mesh3d"
           }
          ],
          "parcoords": [
           {
            "line": {
             "colorbar": {
              "outlinewidth": 0,
              "tickcolor": "rgb(237,237,237)",
              "ticklen": 6,
              "ticks": "inside"
             }
            },
            "type": "parcoords"
           }
          ],
          "pie": [
           {
            "automargin": true,
            "type": "pie"
           }
          ],
          "scatter": [
           {
            "fillpattern": {
             "fillmode": "overlay",
             "size": 10,
             "solidity": 0.2
            },
            "type": "scatter"
           }
          ],
          "scatter3d": [
           {
            "line": {
             "colorbar": {
              "outlinewidth": 0,
              "tickcolor": "rgb(237,237,237)",
              "ticklen": 6,
              "ticks": "inside"
             }
            },
            "marker": {
             "colorbar": {
              "outlinewidth": 0,
              "tickcolor": "rgb(237,237,237)",
              "ticklen": 6,
              "ticks": "inside"
             }
            },
            "type": "scatter3d"
           }
          ],
          "scattercarpet": [
           {
            "marker": {
             "colorbar": {
              "outlinewidth": 0,
              "tickcolor": "rgb(237,237,237)",
              "ticklen": 6,
              "ticks": "inside"
             }
            },
            "type": "scattercarpet"
           }
          ],
          "scattergeo": [
           {
            "marker": {
             "colorbar": {
              "outlinewidth": 0,
              "tickcolor": "rgb(237,237,237)",
              "ticklen": 6,
              "ticks": "inside"
             }
            },
            "type": "scattergeo"
           }
          ],
          "scattergl": [
           {
            "marker": {
             "colorbar": {
              "outlinewidth": 0,
              "tickcolor": "rgb(237,237,237)",
              "ticklen": 6,
              "ticks": "inside"
             }
            },
            "type": "scattergl"
           }
          ],
          "scattermapbox": [
           {
            "marker": {
             "colorbar": {
              "outlinewidth": 0,
              "tickcolor": "rgb(237,237,237)",
              "ticklen": 6,
              "ticks": "inside"
             }
            },
            "type": "scattermapbox"
           }
          ],
          "scatterpolar": [
           {
            "marker": {
             "colorbar": {
              "outlinewidth": 0,
              "tickcolor": "rgb(237,237,237)",
              "ticklen": 6,
              "ticks": "inside"
             }
            },
            "type": "scatterpolar"
           }
          ],
          "scatterpolargl": [
           {
            "marker": {
             "colorbar": {
              "outlinewidth": 0,
              "tickcolor": "rgb(237,237,237)",
              "ticklen": 6,
              "ticks": "inside"
             }
            },
            "type": "scatterpolargl"
           }
          ],
          "scatterternary": [
           {
            "marker": {
             "colorbar": {
              "outlinewidth": 0,
              "tickcolor": "rgb(237,237,237)",
              "ticklen": 6,
              "ticks": "inside"
             }
            },
            "type": "scatterternary"
           }
          ],
          "surface": [
           {
            "colorbar": {
             "outlinewidth": 0,
             "tickcolor": "rgb(237,237,237)",
             "ticklen": 6,
             "ticks": "inside"
            },
            "colorscale": [
             [
              0,
              "rgb(20,44,66)"
             ],
             [
              1,
              "rgb(90,179,244)"
             ]
            ],
            "type": "surface"
           }
          ],
          "table": [
           {
            "cells": {
             "fill": {
              "color": "rgb(237,237,237)"
             },
             "line": {
              "color": "white"
             }
            },
            "header": {
             "fill": {
              "color": "rgb(217,217,217)"
             },
             "line": {
              "color": "white"
             }
            },
            "type": "table"
           }
          ]
         },
         "layout": {
          "annotationdefaults": {
           "arrowhead": 0,
           "arrowwidth": 1
          },
          "autotypenumbers": "strict",
          "coloraxis": {
           "colorbar": {
            "outlinewidth": 0,
            "tickcolor": "rgb(237,237,237)",
            "ticklen": 6,
            "ticks": "inside"
           }
          },
          "colorscale": {
           "sequential": [
            [
             0,
             "rgb(20,44,66)"
            ],
            [
             1,
             "rgb(90,179,244)"
            ]
           ],
           "sequentialminus": [
            [
             0,
             "rgb(20,44,66)"
            ],
            [
             1,
             "rgb(90,179,244)"
            ]
           ]
          },
          "colorway": [
           "#F8766D",
           "#A3A500",
           "#00BF7D",
           "#00B0F6",
           "#E76BF3"
          ],
          "font": {
           "color": "rgb(51,51,51)"
          },
          "geo": {
           "bgcolor": "white",
           "lakecolor": "white",
           "landcolor": "rgb(237,237,237)",
           "showlakes": true,
           "showland": true,
           "subunitcolor": "white"
          },
          "hoverlabel": {
           "align": "left"
          },
          "hovermode": "closest",
          "paper_bgcolor": "white",
          "plot_bgcolor": "rgb(237,237,237)",
          "polar": {
           "angularaxis": {
            "gridcolor": "white",
            "linecolor": "white",
            "showgrid": true,
            "tickcolor": "rgb(51,51,51)",
            "ticks": "outside"
           },
           "bgcolor": "rgb(237,237,237)",
           "radialaxis": {
            "gridcolor": "white",
            "linecolor": "white",
            "showgrid": true,
            "tickcolor": "rgb(51,51,51)",
            "ticks": "outside"
           }
          },
          "scene": {
           "xaxis": {
            "backgroundcolor": "rgb(237,237,237)",
            "gridcolor": "white",
            "gridwidth": 2,
            "linecolor": "white",
            "showbackground": true,
            "showgrid": true,
            "tickcolor": "rgb(51,51,51)",
            "ticks": "outside",
            "zerolinecolor": "white"
           },
           "yaxis": {
            "backgroundcolor": "rgb(237,237,237)",
            "gridcolor": "white",
            "gridwidth": 2,
            "linecolor": "white",
            "showbackground": true,
            "showgrid": true,
            "tickcolor": "rgb(51,51,51)",
            "ticks": "outside",
            "zerolinecolor": "white"
           },
           "zaxis": {
            "backgroundcolor": "rgb(237,237,237)",
            "gridcolor": "white",
            "gridwidth": 2,
            "linecolor": "white",
            "showbackground": true,
            "showgrid": true,
            "tickcolor": "rgb(51,51,51)",
            "ticks": "outside",
            "zerolinecolor": "white"
           }
          },
          "shapedefaults": {
           "fillcolor": "black",
           "line": {
            "width": 0
           },
           "opacity": 0.3
          },
          "ternary": {
           "aaxis": {
            "gridcolor": "white",
            "linecolor": "white",
            "showgrid": true,
            "tickcolor": "rgb(51,51,51)",
            "ticks": "outside"
           },
           "baxis": {
            "gridcolor": "white",
            "linecolor": "white",
            "showgrid": true,
            "tickcolor": "rgb(51,51,51)",
            "ticks": "outside"
           },
           "bgcolor": "rgb(237,237,237)",
           "caxis": {
            "gridcolor": "white",
            "linecolor": "white",
            "showgrid": true,
            "tickcolor": "rgb(51,51,51)",
            "ticks": "outside"
           }
          },
          "xaxis": {
           "automargin": true,
           "gridcolor": "white",
           "linecolor": "white",
           "showgrid": true,
           "tickcolor": "rgb(51,51,51)",
           "ticks": "outside",
           "title": {
            "standoff": 15
           },
           "zerolinecolor": "white"
          },
          "yaxis": {
           "automargin": true,
           "gridcolor": "white",
           "linecolor": "white",
           "showgrid": true,
           "tickcolor": "rgb(51,51,51)",
           "ticks": "outside",
           "title": {
            "standoff": 15
           },
           "zerolinecolor": "white"
          }
         }
        },
        "title": {
         "text": ""
        },
        "xaxis": {
         "anchor": "y",
         "domain": [
          0,
          1
         ],
         "tickfont": {
          "size": 16
         },
         "title": {
          "text": "Minimum degree for selected genes"
         }
        },
        "yaxis": {
         "anchor": "x",
         "domain": [
          0,
          1
         ],
         "tickfont": {
          "size": 16
         },
         "title": {
          "text": "% of genes included"
         }
        }
       }
      }
     },
     "metadata": {},
     "output_type": "display_data"
    }
   ],
   "source": [
    "color_map = {\"Experiment\": px.colors.qualitative.G10[0], \"Control\": px.colors.qualitative.G10[1]}\n",
    "\n",
    "fig = px.line(\n",
    "    comb_chgs,\n",
    "    x=\"TF\",\n",
    "    y=\"Prct_mean\",\n",
    "    error_y=\"Prct_std\",\n",
    "    color=\"Type\",\n",
    "    color_discrete_map=color_map,\n",
    "    markers=True,\n",
    "    title=\"% TF used in calculating the MEV\",\n",
    "    height=600,\n",
    ")\n",
    "fig.update_layout(\n",
    "    legend=dict(\n",
    "        orientation=\"h\",\n",
    "        # title=\"Type\",\n",
    "        yanchor=\"bottom\",\n",
    "        y=0.18,\n",
    "        xanchor=\"center\",\n",
    "        x=0.5,\n",
    "        bgcolor=\"rgba(0,0,0,0)\",\n",
    "        font=dict(size=16),\n",
    "    ),\n",
    "    title=\"\",\n",
    "    xaxis=dict(\n",
    "        tickfont=dict(size=16),\n",
    "        title_font=dict(\n",
    "            size=16,\n",
    "        ),\n",
    "        title=\"Minimum degree for selected genes\",\n",
    "    ),\n",
    "    yaxis=dict(\n",
    "        tickfont=dict(size=16),\n",
    "        title_font=dict(\n",
    "            size=16,\n",
    "        ),\n",
    "        title=\"% of genes included\",\n",
    "        # range=[0, 25],\n",
    "    ),\n",
    "    font=dict(size=16),\n",
    ")\n",
    "# fig = fig.update_yaxes(title_text=\"% of genes included\", range=[0, 105], tickfont=dict(size=14), title_font=dict(size=16))\n",
    "fig.update_traces(line_width=5, marker_size=12, error_y=dict(width=5))\n",
    "save_fig(name=\"ctrls_min_dig_mev\", fig=fig, base_path=figures_path, width=1200, height=600)\n",
    "fig.show()"
   ]
  },
  {
   "cell_type": "markdown",
   "metadata": {},
   "source": [
    "# Export TFs for Morpheus\n",
    "\n",
    "The goal is to re-create the Morpheus heatmap. How many genes can we afford to loose?"
   ]
  },
  {
   "cell_type": "code",
   "execution_count": 36,
   "metadata": {},
   "outputs": [
    {
     "ename": "NameError",
     "evalue": "name 'sel_tfs' is not defined",
     "output_type": "error",
     "traceback": [
      "\u001b[0;31m---------------------------------------------------------------------------\u001b[0m",
      "\u001b[0;31mNameError\u001b[0m                                 Traceback (most recent call last)",
      "Cell \u001b[0;32mIn[36], line 7\u001b[0m\n\u001b[1;32m      5\u001b[0m \u001b[38;5;28;01mfor\u001b[39;00m key, value \u001b[38;5;129;01min\u001b[39;00m exp_ctrls\u001b[38;5;241m.\u001b[39mitems():\n\u001b[1;32m      6\u001b[0m     label \u001b[38;5;241m=\u001b[39m key\u001b[38;5;241m.\u001b[39msplit(\u001b[38;5;124m\"\u001b[39m\u001b[38;5;124mh\u001b[39m\u001b[38;5;124m\"\u001b[39m)[\u001b[38;5;241m-\u001b[39m\u001b[38;5;241m1\u001b[39m]\n\u001b[0;32m----> 7\u001b[0m     matched_ctrl, fig_ctrl, meta_info, global_stats \u001b[38;5;241m=\u001b[39m calculate_degree_thresholds(exp_set\u001b[38;5;241m=\u001b[39mvalue, sel_tfs\u001b[38;5;241m=\u001b[39m\u001b[43msel_tfs\u001b[49m, label\u001b[38;5;241m=\u001b[39mlabel, q_th\u001b[38;5;241m=\u001b[39mq_th, verbose\u001b[38;5;241m=\u001b[39m\u001b[38;5;28;01mFalse\u001b[39;00m)\n\u001b[1;32m     10\u001b[0m \u001b[38;5;28mprint\u001b[39m(\u001b[38;5;124m\"\u001b[39m\u001b[38;5;124mHow many are missed using the degree th of \u001b[39m\u001b[38;5;132;01m{}\u001b[39;00m\u001b[38;5;124m? \u001b[39m\u001b[38;5;132;01m{}\u001b[39;00m\u001b[38;5;124m\"\u001b[39m\u001b[38;5;241m.\u001b[39mformat(q_th,\u001b[38;5;28mlen\u001b[39m(\u001b[38;5;28mset\u001b[39m(sel_tfs\u001b[38;5;241m.\u001b[39mindex) \u001b[38;5;241m-\u001b[39m \u001b[38;5;28mset\u001b[39m(matched_ctrl))))\n",
      "\u001b[0;31mNameError\u001b[0m: name 'sel_tfs' is not defined"
     ]
    }
   ],
   "source": [
    "q_th = 50/100\n",
    "\n",
    "common_ctrls = set()\n",
    "all_ctrls = pd.DataFrame()\n",
    "for key, value in exp_ctrls.items():\n",
    "    label = key.split(\"h\")[-1]\n",
    "    matched_ctrl, fig_ctrl, meta_info, global_stats = calculate_degree_thresholds(exp_set=value, sel_tfs=sel_tfs, label=label, q_th=q_th, verbose=False)\n",
    "\n",
    "\n",
    "print(\"How many are missed using the degree th of {}? {}\".format(q_th,len(set(sel_tfs.index) - set(matched_ctrl))))\n"
   ]
  },
  {
   "cell_type": "markdown",
   "metadata": {},
   "source": [
    "# Without matching the 98 TFs\n",
    "\n",
    "Find the genes common without the restrictions of the 98 TFs"
   ]
  },
  {
   "cell_type": "code",
   "execution_count": 152,
   "metadata": {},
   "outputs": [
    {
     "name": "stdout",
     "output_type": "stream",
     "text": [
      "### Q 0.9. Matched genes across controls 65\n",
      "### Overall matched (ctrls & exps) 65\n"
     ]
    }
   ],
   "source": [
    "results_qth = {}\n",
    "q_th = 0.9\n",
    "matched_exp, fig_exp, meta_info, global_stats = calculate_degree_thresholds(exp_set=exp_set, sel_tfs=pd.DataFrame(), label=\"Exp\", q_th=q_th, verbose=False)\n",
    "\n",
    "common_ctrls = set()\n",
    "all_ctrls = pd.DataFrame()\n",
    "for key, value in exp_ctrls.items():\n",
    "    label = key.split(\"h\")[-1]\n",
    "    matched_ctrl, fig_ctrl, meta_info, global_stats = calculate_degree_thresholds(exp_set=value, sel_tfs=t_sel_tfs, label=label, q_th=q_th, verbose=False)\n",
    "\n",
    "    common_ctrls.update(matched_ctrl)\n",
    "    meta_info[\"Quantile\"] = q_th\n",
    "    all_ctrls = pd.concat([all_ctrls, meta_info], axis=0)\n",
    "\n",
    "print(f\"### Q {q_th}. Matched genes across controls {len(common_ctrls)}\")\n",
    "\n",
    "matched_overall = set(matched_exp) & set(common_ctrls)\n",
    "results_qth[q_th] = list(matched_overall)\n",
    "print(f\"### Overall matched (ctrls & exps) {len(matched_overall)}\")"
   ]
  },
  {
   "cell_type": "code",
   "execution_count": 153,
   "metadata": {},
   "outputs": [
    {
     "data": {
      "text/plain": [
       "65"
      ]
     },
     "execution_count": 153,
     "metadata": {},
     "output_type": "execute_result"
    }
   ],
   "source": [
    "# tpm_sel = tum_tpms_v4.loc[list(matched_overall)]\n",
    "len(set(tf_list) & set(matched_overall))"
   ]
  },
  {
   "cell_type": "markdown",
   "metadata": {},
   "source": [
    "# Clustering the 98 TF expression\n",
    "\n",
    "So far we have found that the 98 TFs can be selected by putting a threshold on the degree, but we don't know if we can only use the gene expression."
   ]
  },
  {
   "cell_type": "code",
   "execution_count": 25,
   "metadata": {},
   "outputs": [
    {
     "name": "stdout",
     "output_type": "stream",
     "text": [
      "### Num outliers for standard log2 14.\n",
      " --> ['TCGA-C4-A0EZ', 'TCGA-DK-AA6W', 'TCGA-G2-A2EL', 'TCGA-BL-A3JM', 'TCGA-XF-A9T2', 'TCGA-XF-AAMH', 'TCGA-XF-A9ST', 'TCGA-GC-A4ZW', 'TCGA-HQ-A2OF', 'TCGA-DK-AA6T', 'TCGA-BT-A2LA', 'TCGA-XF-AAN7', 'TCGA-FJ-A871', 'TCGA-CF-A3MF']\n",
      "### Num outliers for norm log2 12.\n",
      " --> ['TCGA-2F-A9KW', 'TCGA-XF-A9ST', 'TCGA-BL-A3JM', 'TCGA-XF-A9T2', 'TCGA-XF-AAMH', 'TCGA-DK-AA6T', 'TCGA-BT-A2LA', 'TCGA-XF-AAN7', 'TCGA-FJ-A871', 'TCGA-C4-A0EZ', 'TCGA-DK-AA6W', 'TCGA-G2-A2EL']\n",
      "### Common outliers *11*.\n",
      " --> {'TCGA-BT-A2LA', 'TCGA-XF-AAN7', 'TCGA-XF-AAMH', 'TCGA-XF-A9T2', 'TCGA-DK-AA6W', 'TCGA-BL-A3JM', 'TCGA-XF-A9ST', 'TCGA-FJ-A871', 'TCGA-DK-AA6T', 'TCGA-C4-A0EZ', 'TCGA-G2-A2EL'}\n"
     ]
    }
   ],
   "source": [
    "outliers_log2 = [\n",
    "    \"TCGA-C4-A0EZ\",\n",
    "    \"TCGA-DK-AA6W\",\n",
    "    \"TCGA-G2-A2EL\",\n",
    "    \"TCGA-BL-A3JM\",\n",
    "    \"TCGA-XF-A9T2\",\n",
    "    \"TCGA-XF-AAMH\",\n",
    "    \"TCGA-XF-A9ST\",\n",
    "    \"TCGA-GC-A4ZW\",\n",
    "    \"TCGA-HQ-A2OF\",\n",
    "    \"TCGA-DK-AA6T\",\n",
    "    \"TCGA-BT-A2LA\",\n",
    "    \"TCGA-XF-AAN7\",\n",
    "    \"TCGA-FJ-A871\",\n",
    "    \"TCGA-CF-A3MF\",\n",
    "]\n",
    "\n",
    "norm_outliers = [\n",
    "    \"TCGA-2F-A9KW\",\n",
    "    \"TCGA-XF-A9ST\",\n",
    "    \"TCGA-BL-A3JM\",\n",
    "    \"TCGA-XF-A9T2\",\n",
    "    \"TCGA-XF-AAMH\",\n",
    "    \"TCGA-DK-AA6T\",\n",
    "    \"TCGA-BT-A2LA\",\n",
    "    \"TCGA-XF-AAN7\",\n",
    "    \"TCGA-FJ-A871\",\n",
    "    \"TCGA-C4-A0EZ\",\n",
    "    \"TCGA-DK-AA6W\",\n",
    "    \"TCGA-G2-A2EL\",\n",
    "]\n",
    "\n",
    "cmn_outliars = set(outliers_log2) & set(norm_outliers)\n",
    "\n",
    "print(f\"### Num outliers for standard log2 {len(outliers_log2)}.\\n --> {outliers_log2}\")\n",
    "print(f\"### Num outliers for norm log2 {len(norm_outliers)}.\\n --> {norm_outliers}\")\n",
    "print(f\"### Common outliers *{len(cmn_outliars)}*.\\n --> {cmn_outliars}\")"
   ]
  },
  {
   "cell_type": "code",
   "execution_count": 26,
   "metadata": {},
   "outputs": [],
   "source": [
    "dmy_df = tum_tpms_v4.loc[sel_tfs.index].copy(deep=True)\n",
    "dmy_df = np.log2(dmy_df + 1)\n",
    "\n",
    "dmy_df = dmy_df[list(set(dmy_df.columns) - set(cmn_outliars))]\n",
    "\n",
    "sel_metadata = [\n",
    "    \"KMeans_labels_6\",\n",
    "    \"consensus\",\n",
    "    \"TCGA408_classifier\",\n",
    "    \"Lund2017.subtype\",\n",
    "    \"ESTIMATE_score\",\n",
    "    \"Immune_score\",\n",
    "    \"Stromal_score\",\n",
    "    \"tumor_stage\",\n",
    "    \"Net_I\",\n",
    "]\n",
    "dmy_df = pd.concat([vu_output[sel_metadata].T, dmy_df], axis=0).dropna(axis=1)\n",
    "\n",
    "\n",
    "dmy_df.to_csv(f\"{figures_path}/log2_sel_tfs_exp_v1.1.tsv\", sep=\"\\t\")"
   ]
  }
 ],
 "metadata": {
  "kernelspec": {
   "display_name": "iNet_gt",
   "language": "python",
   "name": "python3"
  },
  "language_info": {
   "codemirror_mode": {
    "name": "ipython",
    "version": 3
   },
   "file_extension": ".py",
   "mimetype": "text/x-python",
   "name": "python",
   "nbconvert_exporter": "python",
   "pygments_lexer": "ipython3",
   "version": "3.12.2"
  }
 },
 "nbformat": 4,
 "nbformat_minor": 2
}
