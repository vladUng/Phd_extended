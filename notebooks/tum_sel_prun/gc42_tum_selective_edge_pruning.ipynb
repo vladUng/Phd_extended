{
 "cells": [
  {
   "cell_type": "markdown",
   "metadata": {},
   "source": [
    "# Motivation\n",
    "\n",
    "This is a clean version of the experiments I performed for the CN Poster and Extended abstract. Some relatable notebooks are:\n",
    "\n",
    "* **SBM_h42_TF_network_effects** - where i am looking at selective edge pruning\n",
    "* **SBM_allHelathy_gc42** - where i'm analysing the all_healthy data\n",
    "\n",
    "This is a modified version of the notebook CN_SBM_allHealty.ipynb from iNET repository."
   ]
  },
  {
   "cell_type": "markdown",
   "metadata": {},
   "source": [
    "# Init"
   ]
  },
  {
   "cell_type": "code",
   "execution_count": 46,
   "metadata": {},
   "outputs": [
    {
     "name": "stdout",
     "output_type": "stream",
     "text": [
      "The autoreload extension is already loaded. To reload it, use:\n",
      "  %reload_ext autoreload\n"
     ]
    }
   ],
   "source": [
    "%load_ext autoreload\n",
    "import pandas as pd\n",
    "import numpy as np\n",
    "import os\n",
    "import sys\n",
    "\n",
    "import plotly.express as px\n",
    "import plotly.io as pio\n",
    "\n",
    "\n",
    "import multiprocess as mp\n",
    "\n",
    "\n",
    "# own libraries\n",
    "sys.path.append('/Users/vlad/Developer/York/iNet_v2/src/')\n",
    "\n",
    "from NetworkAnalysis.ExperimentSet import ExperimentSet\n",
    "from NetworkAnalysis.NetworkOutput import NetworkOutput\n",
    "\n",
    "from NetworkAnalysis import GraphHelper as gh\n",
    "from NetworkAnalysis.utilities import sankey_consensus_plot as sky\n",
    "from NetworkAnalysis.utilities.helpers import save_fig\n",
    "from NetworkAnalysis.utilities.helpers import save_fig, survival_plot, survival_comp\n",
    "from NetworkAnalysis.GraphToolExp import GraphToolExperiment as GtExp\n",
    "sys.path.append(os.path.dirname(\"../../src\"))\n",
    "\n",
    "# Gsea libraries\n",
    "\n",
    "import graph_tool.all as gt\n",
    "\n",
    "# matplotlib.use(\"gtk3agg\")\n",
    "\n",
    "# %matplotlib inline\n",
    "pio.renderers.default = \"plotly_mimetype+notebook\"\n",
    "pio.templates.default = \"ggplot2\"\n",
    "\n",
    "pool = mp.Pool(mp.cpu_count())"
   ]
  },
  {
   "cell_type": "code",
   "execution_count": 47,
   "metadata": {},
   "outputs": [],
   "source": [
    "results_path = \"../../results/exp/\"\n",
    "data_base = \"../../data/\"\n",
    "base_path = \"../../results/\"\n",
    "\n",
    "exp_folder_tumour = \"network_I/gc_42/tum/\"  # \"/integration_v2.1/tum/\" - path from iNET\n",
    "exp_folder_h47_ctrl = '../results/network_I/gc_42/tum_ctrls/'\n",
    "\n",
    "figures_path = \"gc42_ctrls_tum/\"\n",
    "\n",
    "vu_output = pd.read_csv(f\"{data_base}/metadata/VU_clustering_v3.tsv\", sep=\"\\t\", index_col=\"Sample\")\n",
    "\n",
    "tcga_mutations_df = pd.read_csv(f\"{data_base}/tumour/mutations_tcga.csv\")\n",
    "tcga_mutations_df = tcga_mutations_df[tcga_mutations_df[\"count\"] != 0].set_index(\"gene\")\n",
    "\n",
    "all_tum_tpms = pd.read_csv(f\"{data_base}/tumour/TPMs_selected_genes_v3_13k_gc42.tsv\", sep=\"\\t\", index_col=\"genes\")\n",
    "\n",
    "# tf list\n",
    "tf_path = f\"{data_base}/metadata/TF_names_v_1.01.txt\"\n",
    "if os.path.exists(tf_path):\n",
    "    tf_list = np.genfromtxt(fname=tf_path, delimiter=\"\\t\", skip_header=1, dtype=\"str\")"
   ]
  },
  {
   "cell_type": "markdown",
   "metadata": {},
   "source": [
    "## Load experiment sets"
   ]
  },
  {
   "cell_type": "code",
   "execution_count": 48,
   "metadata": {},
   "outputs": [
    {
     "name": "stdout",
     "output_type": "stream",
     "text": [
      "##### Experiment labels:  dict_keys(['standard_5K_12TF_hsbm', 'standard_5K_11TF_hsbm', 'standard_5K_4TF_hsbm', 'standard_5K_9TF_hsbm', 'standard_5K_10TF_hsbm', 'standard_5K_5TF_hsbm', 'standard_5K_3TF_hsbm', 'standard_5K_8TF_hsbm', 'standard_5K_7TF_hsbm', 'standard_5K_6TF_hsbm'])\n",
      "Loading Graph-Tool for standard_5K_12TF_hsbm\n",
      "Loading Graph-Tool for standard_5K_11TF_hsbm\n",
      "Loading Graph-Tool for standard_5K_4TF_hsbm\n",
      "Loading Graph-Tool for standard_5K_9TF_hsbm\n",
      "Loading Graph-Tool for standard_5K_10TF_hsbm\n",
      "Loading Graph-Tool for standard_5K_5TF_hsbm\n",
      "Loading Graph-Tool for standard_5K_3TF_hsbm\n",
      "Loading Graph-Tool for standard_5K_8TF_hsbm\n",
      "Loading Graph-Tool for standard_5K_7TF_hsbm\n",
      "Loading Graph-Tool for standard_5K_6TF_hsbm\n"
     ]
    }
   ],
   "source": [
    "%autoreload 2\n",
    "tum = ExperimentSet(\"tum\", base_path, exp_folder_tumour, tcga_mutations_df, sel_sets = [\"5K\"], rel_path=\"../\", exp_type='iNet')\n",
    "\n",
    "# Load the objects too\n",
    "t_exps, t_entropy = GtExp.load_hsbm_exps(tum)\n",
    "tum.exps = t_exps\n",
    "t_entropy[\"Type\"] = \"Experiment\""
   ]
  },
  {
   "cell_type": "code",
   "execution_count": 49,
   "metadata": {},
   "outputs": [
    {
     "name": "stdout",
     "output_type": "stream",
     "text": [
      "##### Experiment labels:  dict_keys(['standard_5K_3TF_hsbm', 'standard_5K_4TF_hsbm', 'standard_5K_5TF_hsbm', 'standard_5K_9TF_hsbm', 'standard_5K_7TF_hsbm', 'standard_5K_11TF_hsbm', 'standard_5K_6TF_hsbm', 'standard_5K_10TF_hsbm', 'standard_5K_8TF_hsbm', 'standard_5K_12TF_hsbm'])\n",
      "##### Experiment labels:  dict_keys(['standard_5K_9TF_hsbm', 'standard_5K_11TF_hsbm', 'standard_5K_7TF_hsbm', 'standard_5K_5TF_hsbm', 'standard_5K_3TF_hsbm', 'standard_5K_6TF_hsbm', 'standard_5K_10TF_hsbm', 'standard_5K_8TF_hsbm', 'standard_5K_12TF_hsbm', 'standard_5K_4TF_hsbm'])\n",
      "##### Experiment labels:  dict_keys(['standard_5K_9TF_hsbm', 'standard_5K_11TF_hsbm', 'standard_5K_7TF_hsbm', 'standard_5K_5TF_hsbm', 'standard_5K_3TF_hsbm', 'standard_5K_8TF_hsbm', 'standard_5K_12TF_hsbm', 'standard_5K_6TF_hsbm', 'standard_5K_10TF_hsbm', 'standard_5K_4TF_hsbm'])\n",
      "##### Experiment labels:  dict_keys(['standard_5K_3TF_hsbm', 'standard_5K_9TF_hsbm', 'standard_5K_5TF_hsbm', 'standard_5K_11TF_hsbm', 'standard_5K_7TF_hsbm', 'standard_5K_6TF_hsbm', 'standard_5K_10TF_hsbm', 'standard_5K_4TF_hsbm', 'standard_5K_12TF_hsbm', 'standard_5K_8TF_hsbm'])\n",
      "##### Experiment labels:  dict_keys(['standard_5K_7TF_hsbm', 'standard_5K_3TF_hsbm', 'standard_5K_5TF_hsbm', 'standard_5K_9TF_hsbm', 'standard_5K_4TF_hsbm', 'standard_5K_8TF_hsbm', 'standard_5K_6TF_hsbm', 'standard_5K_11TF_hsbm', 'standard_5K_10TF_hsbm', 'standard_5K_12TF_hsbm'])\n",
      "##### Experiment labels:  dict_keys(['standard_5K_3TF_hsbm', 'standard_5K_5TF_hsbm', 'standard_5K_11TF_hsbm', 'standard_5K_7TF_hsbm', 'standard_5K_9TF_hsbm', 'standard_5K_12TF_hsbm', 'standard_5K_6TF_hsbm', 'standard_5K_10TF_hsbm', 'standard_5K_4TF_hsbm', 'standard_5K_8TF_hsbm'])\n",
      "##### Experiment labels:  dict_keys(['standard_5K_3TF_hsbm', 'standard_5K_5TF_hsbm', 'standard_5K_4TF_hsbm', 'standard_5K_6TF_hsbm', 'standard_5K_7TF_hsbm', 'standard_5K_11TF_hsbm', 'standard_5K_9TF_hsbm', 'standard_5K_8TF_hsbm', 'standard_5K_12TF_hsbm', 'standard_5K_10TF_hsbm'])\n",
      "##### Experiment labels:  dict_keys(['standard_5K_3TF_hsbm', 'standard_5K_7TF_hsbm', 'standard_5K_5TF_hsbm', 'standard_5K_11TF_hsbm', 'standard_5K_9TF_hsbm', 'standard_5K_8TF_hsbm', 'standard_5K_6TF_hsbm', 'standard_5K_4TF_hsbm', 'standard_5K_10TF_hsbm', 'standard_5K_12TF_hsbm'])\n",
      "##### Experiment labels:  dict_keys(['standard_5K_7TF_hsbm', 'standard_5K_9TF_hsbm', 'standard_5K_11TF_hsbm', 'standard_5K_3TF_hsbm', 'standard_5K_5TF_hsbm', 'standard_5K_10TF_hsbm', 'standard_5K_8TF_hsbm', 'standard_5K_12TF_hsbm', 'standard_5K_6TF_hsbm', 'standard_5K_4TF_hsbm'])\n",
      "##### Experiment labels:  dict_keys(['standard_5K_7TF_hsbm', 'standard_5K_3TF_hsbm', 'standard_5K_9TF_hsbm', 'standard_5K_5TF_hsbm', 'standard_5K_11TF_hsbm', 'standard_5K_8TF_hsbm', 'standard_5K_10TF_hsbm', 'standard_5K_12TF_hsbm', 'standard_5K_6TF_hsbm', 'standard_5K_4TF_hsbm'])\n"
     ]
    }
   ],
   "source": [
    "folders = next(os.walk(f'{base_path}/{exp_folder_h47_ctrl}'), (None, None, []))[1]\n",
    "exp_ctrls = {}\n",
    "\n",
    "args, t_ctrls = [], {}\n",
    "for folder in folders:\n",
    "    ctrl_path = \"{}/{}/\".format(exp_folder_h47_ctrl, folder)\n",
    "    idx = int(folder.split(\"_\")[-1])\n",
    "    t_ctrls[idx] = ExperimentSet(\"tumCtrl\", base_path, ctrl_path, tcga_mutations_df, sel_sets=[\"5K\"], rel_path=\"../\", exp_type='iNet')"
   ]
  },
  {
   "cell_type": "code",
   "execution_count": 50,
   "metadata": {},
   "outputs": [
    {
     "name": "stdout",
     "output_type": "stream",
     "text": [
      "Loading Graph-Tool for standard_5K_7TF_hsbm\n",
      "Loading Graph-Tool for standard_5K_9TF_hsbm\n",
      "Loading Graph-Tool for standard_5K_11TF_hsbm\n",
      "Loading Graph-Tool for standard_5K_3TF_hsbm\n",
      "Loading Graph-Tool for standard_5K_5TF_hsbm\n",
      "Loading Graph-Tool for standard_5K_10TF_hsbm\n",
      "Loading Graph-Tool for standard_5K_8TF_hsbm\n",
      "Loading Graph-Tool for standard_5K_12TF_hsbm\n",
      "Loading Graph-Tool for standard_5K_6TF_hsbm\n",
      "Loading Graph-Tool for standard_5K_4TF_hsbm\n",
      "Loading Graph-Tool for standard_5K_9TF_hsbm\n",
      "Loading Graph-Tool for standard_5K_11TF_hsbm\n",
      "Loading Graph-Tool for standard_5K_7TF_hsbm\n",
      "Loading Graph-Tool for standard_5K_5TF_hsbm\n",
      "Loading Graph-Tool for standard_5K_3TF_hsbm\n",
      "Loading Graph-Tool for standard_5K_8TF_hsbm\n",
      "Loading Graph-Tool for standard_5K_12TF_hsbm\n",
      "Loading Graph-Tool for standard_5K_6TF_hsbm\n",
      "Loading Graph-Tool for standard_5K_10TF_hsbm\n",
      "Loading Graph-Tool for standard_5K_4TF_hsbm\n",
      "Loading Graph-Tool for standard_5K_9TF_hsbm\n",
      "Loading Graph-Tool for standard_5K_11TF_hsbm\n",
      "Loading Graph-Tool for standard_5K_7TF_hsbm\n",
      "Loading Graph-Tool for standard_5K_5TF_hsbm\n",
      "Loading Graph-Tool for standard_5K_3TF_hsbm\n",
      "Loading Graph-Tool for standard_5K_6TF_hsbm\n",
      "Loading Graph-Tool for standard_5K_10TF_hsbm\n",
      "Loading Graph-Tool for standard_5K_8TF_hsbm\n",
      "Loading Graph-Tool for standard_5K_12TF_hsbm\n",
      "Loading Graph-Tool for standard_5K_4TF_hsbm\n",
      "Loading Graph-Tool for standard_5K_3TF_hsbm\n",
      "Loading Graph-Tool for standard_5K_4TF_hsbm\n",
      "Loading Graph-Tool for standard_5K_5TF_hsbm\n",
      "Loading Graph-Tool for standard_5K_9TF_hsbm\n",
      "Loading Graph-Tool for standard_5K_7TF_hsbm\n",
      "Loading Graph-Tool for standard_5K_11TF_hsbm\n",
      "Loading Graph-Tool for standard_5K_6TF_hsbm\n",
      "Loading Graph-Tool for standard_5K_10TF_hsbm\n",
      "Loading Graph-Tool for standard_5K_8TF_hsbm\n",
      "Loading Graph-Tool for standard_5K_12TF_hsbm\n",
      "Loading Graph-Tool for standard_5K_3TF_hsbm\n",
      "Loading Graph-Tool for standard_5K_9TF_hsbm\n",
      "Loading Graph-Tool for standard_5K_5TF_hsbm\n",
      "Loading Graph-Tool for standard_5K_11TF_hsbm\n",
      "Loading Graph-Tool for standard_5K_7TF_hsbm\n",
      "Loading Graph-Tool for standard_5K_6TF_hsbm\n",
      "Loading Graph-Tool for standard_5K_10TF_hsbm\n",
      "Loading Graph-Tool for standard_5K_4TF_hsbm\n",
      "Loading Graph-Tool for standard_5K_12TF_hsbm\n",
      "Loading Graph-Tool for standard_5K_8TF_hsbm\n",
      "Loading Graph-Tool for standard_5K_3TF_hsbm\n",
      "Loading Graph-Tool for standard_5K_7TF_hsbm\n",
      "Loading Graph-Tool for standard_5K_5TF_hsbm\n",
      "Loading Graph-Tool for standard_5K_11TF_hsbm\n",
      "Loading Graph-Tool for standard_5K_9TF_hsbm\n",
      "Loading Graph-Tool for standard_5K_8TF_hsbm\n",
      "Loading Graph-Tool for standard_5K_6TF_hsbm\n",
      "Loading Graph-Tool for standard_5K_4TF_hsbm\n",
      "Loading Graph-Tool for standard_5K_10TF_hsbm\n",
      "Loading Graph-Tool for standard_5K_12TF_hsbm\n",
      "Loading Graph-Tool for standard_5K_3TF_hsbm\n",
      "Loading Graph-Tool for standard_5K_5TF_hsbm\n",
      "Loading Graph-Tool for standard_5K_4TF_hsbm\n",
      "Loading Graph-Tool for standard_5K_6TF_hsbm\n",
      "Loading Graph-Tool for standard_5K_7TF_hsbm\n",
      "Loading Graph-Tool for standard_5K_11TF_hsbm\n",
      "Loading Graph-Tool for standard_5K_9TF_hsbm\n",
      "Loading Graph-Tool for standard_5K_8TF_hsbm\n",
      "Loading Graph-Tool for standard_5K_12TF_hsbm\n",
      "Loading Graph-Tool for standard_5K_10TF_hsbm\n",
      "Loading Graph-Tool for standard_5K_7TF_hsbm\n",
      "Loading Graph-Tool for standard_5K_3TF_hsbm\n",
      "Loading Graph-Tool for standard_5K_9TF_hsbm\n",
      "Loading Graph-Tool for standard_5K_5TF_hsbm\n",
      "Loading Graph-Tool for standard_5K_11TF_hsbm\n",
      "Loading Graph-Tool for standard_5K_8TF_hsbm\n",
      "Loading Graph-Tool for standard_5K_10TF_hsbm\n",
      "Loading Graph-Tool for standard_5K_12TF_hsbm\n",
      "Loading Graph-Tool for standard_5K_6TF_hsbm\n",
      "Loading Graph-Tool for standard_5K_4TF_hsbm\n",
      "Loading Graph-Tool for standard_5K_3TF_hsbm\n",
      "Loading Graph-Tool for standard_5K_5TF_hsbm\n",
      "Loading Graph-Tool for standard_5K_11TF_hsbm\n",
      "Loading Graph-Tool for standard_5K_7TF_hsbm\n",
      "Loading Graph-Tool for standard_5K_9TF_hsbm\n",
      "Loading Graph-Tool for standard_5K_12TF_hsbm\n",
      "Loading Graph-Tool for standard_5K_6TF_hsbm\n",
      "Loading Graph-Tool for standard_5K_10TF_hsbm\n",
      "Loading Graph-Tool for standard_5K_4TF_hsbm\n",
      "Loading Graph-Tool for standard_5K_8TF_hsbm\n",
      "Loading Graph-Tool for standard_5K_7TF_hsbm\n",
      "Loading Graph-Tool for standard_5K_3TF_hsbm\n",
      "Loading Graph-Tool for standard_5K_5TF_hsbm\n",
      "Loading Graph-Tool for standard_5K_9TF_hsbm\n",
      "Loading Graph-Tool for standard_5K_4TF_hsbm\n",
      "Loading Graph-Tool for standard_5K_8TF_hsbm\n",
      "Loading Graph-Tool for standard_5K_6TF_hsbm\n",
      "Loading Graph-Tool for standard_5K_11TF_hsbm\n",
      "Loading Graph-Tool for standard_5K_10TF_hsbm\n",
      "Loading Graph-Tool for standard_5K_12TF_hsbm\n"
     ]
    }
   ],
   "source": [
    "ctrl_exps, cmb_df = {}, pd.DataFrame()\n",
    "for key in range(1, 11, 1):\n",
    "    exps, entropy = GtExp.load_hsbm_exps(t_ctrls[key])\n",
    "    entropy[\"Type\"] = f\"tCtrl{key}\"\n",
    "    cmb_df = pd.concat([cmb_df, entropy], axis=0)\n",
    "    ctrl_exps[key] = {\"entropy\": entropy, \"exps\": exps}\n",
    "\n",
    "cmb_df = pd.concat([cmb_df, t_entropy], axis=0)\n",
    "cmb_df[\"Entropy_norm\"] = (cmb_df[\"Entropy\"] - cmb_df[\"Entropy\"].min()) / (cmb_df[\"Entropy\"].max() - cmb_df[\"Entropy\"].min())\n",
    "cmb_df[\"Entropy_log10\"] = np.log10(cmb_df[\"Entropy\"])"
   ]
  },
  {
   "cell_type": "markdown",
   "metadata": {},
   "source": [
    "# Selective edge pruning"
   ]
  },
  {
   "cell_type": "code",
   "execution_count": 51,
   "metadata": {},
   "outputs": [],
   "source": [
    "#### Find the network with top model\n",
    "top_exp, color_map = [], {}\n",
    "for exp in cmb_df[\"Type\"].unique():\n",
    "    sel_df = cmb_df[cmb_df[\"Type\"] == exp]\n",
    "    for tf in sel_df[\"TF\"].unique():\n",
    "        tst_df = sel_df[sel_df[\"TF\"] == tf].sort_values(by=\"Entropy\", ascending=False).values[0]\n",
    "        top_exp.append(tst_df)\n",
    "\n",
    "    color_map[exp] = px.colors.qualitative.Plotly[0]\n",
    "    if exp == \"Experiment\":\n",
    "        color_map[exp] = px.colors.qualitative.Plotly[2]\n",
    "\n",
    "top_exp = pd.DataFrame(top_exp, columns=[\"Entropy\", \"TF\", \"Type\", \"Entropy_norm\", \"Entropy_log\"])\n",
    "\n",
    "#### Compute stats\n",
    "stats_vals = []\n",
    "for tf in top_exp[\"TF\"].unique():\n",
    "    sel_df = top_exp[top_exp[\"TF\"] == tf]\n",
    "    sel_df_ctrl = sel_df[sel_df[\"Type\"].str.contains(\"tCtrl\")][\"Entropy\"]\n",
    "    sel_df_exp = sel_df[~sel_df[\"Type\"].str.contains(\"tCtrl\")][\"Entropy\"].values[0]\n",
    "    stats_vals.append((sel_df_ctrl.median(), sel_df_ctrl.mean(), sel_df_ctrl.std(), tf, \"Control\"))\n",
    "    stats_vals.append((sel_df_exp, sel_df_exp, 0, tf, \"Experiment\"))"
   ]
  },
  {
   "cell_type": "code",
   "execution_count": 74,
   "metadata": {},
   "outputs": [
    {
     "data": {
      "application/vnd.plotly.v1+json": {
       "config": {
        "plotlyServerURL": "https://plot.ly"
       },
       "data": [
        {
         "error_y": {
          "array": [
           250.72993206402467,
           313.64683474197824,
           337.4353468020373,
           96.93082460524192,
           197.54013605614915,
           242.53651172179343,
           233.57260216084765,
           377.99600571857763,
           172.9645550813097,
           138.9633863284848
          ],
          "width": 8
         },
         "hovertemplate": "Type=Control<br>TF=%{x}<br>Mean_Ent=%{y}<extra></extra>",
         "legendgroup": "Control",
         "marker": {
          "color": "#DC3912",
          "size": 8,
          "symbol": "circle"
         },
         "mode": "markers",
         "name": "Control",
         "orientation": "v",
         "showlegend": true,
         "type": "scatter",
         "x": [
          7,
          9,
          11,
          3,
          5,
          10,
          8,
          12,
          6,
          4
         ],
         "xaxis": "x",
         "y": [
          109767.93966069231,
          113475.34615181848,
          117231.49797468548,
          101986.47316303111,
          105924.68529162128,
          115393.97239215816,
          111597.16391963566,
          119135.86156465863,
          107850.20054687586,
          103971.74613166768
         ],
         "yaxis": "y"
        },
        {
         "error_y": {
          "array": [
           0,
           0,
           0,
           0,
           0,
           0,
           0,
           0,
           0,
           0
          ]
         },
         "hovertemplate": "Type=Experiment<br>TF=%{x}<br>Mean_Ent=%{y}<extra></extra>",
         "legendgroup": "Experiment",
         "marker": {
          "color": "#3366CC",
          "size": 8,
          "symbol": "circle"
         },
         "mode": "markers",
         "name": "Experiment",
         "orientation": "v",
         "showlegend": true,
         "type": "scatter",
         "x": [
          7,
          9,
          11,
          3,
          5,
          10,
          8,
          12,
          6,
          4
         ],
         "xaxis": "x",
         "y": [
          109026.00994091954,
          112247.6856880585,
          115791.23130708908,
          101884.20258402747,
          105466.24051649774,
          114210.83613584687,
          110619.93264711519,
          117692.18624567379,
          107136.1767594428,
          104062.92249348713
         ],
         "yaxis": "y"
        }
       ],
       "layout": {
        "font": {
         "size": 16
        },
        "height": 600,
        "legend": {
         "bgcolor": "rgba(0,0,0,0)",
         "font": {
          "color": "#003366",
          "size": 16
         },
         "orientation": "h",
         "title": {
          "text": "SBM"
         },
         "tracegroupgap": 0,
         "x": 0.5,
         "xanchor": "center",
         "y": 0.87,
         "yanchor": "bottom"
        },
        "template": {
         "data": {
          "bar": [
           {
            "error_x": {
             "color": "rgb(51,51,51)"
            },
            "error_y": {
             "color": "rgb(51,51,51)"
            },
            "marker": {
             "line": {
              "color": "rgb(237,237,237)",
              "width": 0.5
             },
             "pattern": {
              "fillmode": "overlay",
              "size": 10,
              "solidity": 0.2
             }
            },
            "type": "bar"
           }
          ],
          "barpolar": [
           {
            "marker": {
             "line": {
              "color": "rgb(237,237,237)",
              "width": 0.5
             },
             "pattern": {
              "fillmode": "overlay",
              "size": 10,
              "solidity": 0.2
             }
            },
            "type": "barpolar"
           }
          ],
          "carpet": [
           {
            "aaxis": {
             "endlinecolor": "rgb(51,51,51)",
             "gridcolor": "white",
             "linecolor": "white",
             "minorgridcolor": "white",
             "startlinecolor": "rgb(51,51,51)"
            },
            "baxis": {
             "endlinecolor": "rgb(51,51,51)",
             "gridcolor": "white",
             "linecolor": "white",
             "minorgridcolor": "white",
             "startlinecolor": "rgb(51,51,51)"
            },
            "type": "carpet"
           }
          ],
          "choropleth": [
           {
            "colorbar": {
             "outlinewidth": 0,
             "tickcolor": "rgb(237,237,237)",
             "ticklen": 6,
             "ticks": "inside"
            },
            "type": "choropleth"
           }
          ],
          "contour": [
           {
            "colorbar": {
             "outlinewidth": 0,
             "tickcolor": "rgb(237,237,237)",
             "ticklen": 6,
             "ticks": "inside"
            },
            "colorscale": [
             [
              0,
              "rgb(20,44,66)"
             ],
             [
              1,
              "rgb(90,179,244)"
             ]
            ],
            "type": "contour"
           }
          ],
          "contourcarpet": [
           {
            "colorbar": {
             "outlinewidth": 0,
             "tickcolor": "rgb(237,237,237)",
             "ticklen": 6,
             "ticks": "inside"
            },
            "type": "contourcarpet"
           }
          ],
          "heatmap": [
           {
            "colorbar": {
             "outlinewidth": 0,
             "tickcolor": "rgb(237,237,237)",
             "ticklen": 6,
             "ticks": "inside"
            },
            "colorscale": [
             [
              0,
              "rgb(20,44,66)"
             ],
             [
              1,
              "rgb(90,179,244)"
             ]
            ],
            "type": "heatmap"
           }
          ],
          "heatmapgl": [
           {
            "colorbar": {
             "outlinewidth": 0,
             "tickcolor": "rgb(237,237,237)",
             "ticklen": 6,
             "ticks": "inside"
            },
            "colorscale": [
             [
              0,
              "rgb(20,44,66)"
             ],
             [
              1,
              "rgb(90,179,244)"
             ]
            ],
            "type": "heatmapgl"
           }
          ],
          "histogram": [
           {
            "marker": {
             "pattern": {
              "fillmode": "overlay",
              "size": 10,
              "solidity": 0.2
             }
            },
            "type": "histogram"
           }
          ],
          "histogram2d": [
           {
            "colorbar": {
             "outlinewidth": 0,
             "tickcolor": "rgb(237,237,237)",
             "ticklen": 6,
             "ticks": "inside"
            },
            "colorscale": [
             [
              0,
              "rgb(20,44,66)"
             ],
             [
              1,
              "rgb(90,179,244)"
             ]
            ],
            "type": "histogram2d"
           }
          ],
          "histogram2dcontour": [
           {
            "colorbar": {
             "outlinewidth": 0,
             "tickcolor": "rgb(237,237,237)",
             "ticklen": 6,
             "ticks": "inside"
            },
            "colorscale": [
             [
              0,
              "rgb(20,44,66)"
             ],
             [
              1,
              "rgb(90,179,244)"
             ]
            ],
            "type": "histogram2dcontour"
           }
          ],
          "mesh3d": [
           {
            "colorbar": {
             "outlinewidth": 0,
             "tickcolor": "rgb(237,237,237)",
             "ticklen": 6,
             "ticks": "inside"
            },
            "type": "mesh3d"
           }
          ],
          "parcoords": [
           {
            "line": {
             "colorbar": {
              "outlinewidth": 0,
              "tickcolor": "rgb(237,237,237)",
              "ticklen": 6,
              "ticks": "inside"
             }
            },
            "type": "parcoords"
           }
          ],
          "pie": [
           {
            "automargin": true,
            "type": "pie"
           }
          ],
          "scatter": [
           {
            "fillpattern": {
             "fillmode": "overlay",
             "size": 10,
             "solidity": 0.2
            },
            "type": "scatter"
           }
          ],
          "scatter3d": [
           {
            "line": {
             "colorbar": {
              "outlinewidth": 0,
              "tickcolor": "rgb(237,237,237)",
              "ticklen": 6,
              "ticks": "inside"
             }
            },
            "marker": {
             "colorbar": {
              "outlinewidth": 0,
              "tickcolor": "rgb(237,237,237)",
              "ticklen": 6,
              "ticks": "inside"
             }
            },
            "type": "scatter3d"
           }
          ],
          "scattercarpet": [
           {
            "marker": {
             "colorbar": {
              "outlinewidth": 0,
              "tickcolor": "rgb(237,237,237)",
              "ticklen": 6,
              "ticks": "inside"
             }
            },
            "type": "scattercarpet"
           }
          ],
          "scattergeo": [
           {
            "marker": {
             "colorbar": {
              "outlinewidth": 0,
              "tickcolor": "rgb(237,237,237)",
              "ticklen": 6,
              "ticks": "inside"
             }
            },
            "type": "scattergeo"
           }
          ],
          "scattergl": [
           {
            "marker": {
             "colorbar": {
              "outlinewidth": 0,
              "tickcolor": "rgb(237,237,237)",
              "ticklen": 6,
              "ticks": "inside"
             }
            },
            "type": "scattergl"
           }
          ],
          "scattermapbox": [
           {
            "marker": {
             "colorbar": {
              "outlinewidth": 0,
              "tickcolor": "rgb(237,237,237)",
              "ticklen": 6,
              "ticks": "inside"
             }
            },
            "type": "scattermapbox"
           }
          ],
          "scatterpolar": [
           {
            "marker": {
             "colorbar": {
              "outlinewidth": 0,
              "tickcolor": "rgb(237,237,237)",
              "ticklen": 6,
              "ticks": "inside"
             }
            },
            "type": "scatterpolar"
           }
          ],
          "scatterpolargl": [
           {
            "marker": {
             "colorbar": {
              "outlinewidth": 0,
              "tickcolor": "rgb(237,237,237)",
              "ticklen": 6,
              "ticks": "inside"
             }
            },
            "type": "scatterpolargl"
           }
          ],
          "scatterternary": [
           {
            "marker": {
             "colorbar": {
              "outlinewidth": 0,
              "tickcolor": "rgb(237,237,237)",
              "ticklen": 6,
              "ticks": "inside"
             }
            },
            "type": "scatterternary"
           }
          ],
          "surface": [
           {
            "colorbar": {
             "outlinewidth": 0,
             "tickcolor": "rgb(237,237,237)",
             "ticklen": 6,
             "ticks": "inside"
            },
            "colorscale": [
             [
              0,
              "rgb(20,44,66)"
             ],
             [
              1,
              "rgb(90,179,244)"
             ]
            ],
            "type": "surface"
           }
          ],
          "table": [
           {
            "cells": {
             "fill": {
              "color": "rgb(237,237,237)"
             },
             "line": {
              "color": "white"
             }
            },
            "header": {
             "fill": {
              "color": "rgb(217,217,217)"
             },
             "line": {
              "color": "white"
             }
            },
            "type": "table"
           }
          ]
         },
         "layout": {
          "annotationdefaults": {
           "arrowhead": 0,
           "arrowwidth": 1
          },
          "autotypenumbers": "strict",
          "coloraxis": {
           "colorbar": {
            "outlinewidth": 0,
            "tickcolor": "rgb(237,237,237)",
            "ticklen": 6,
            "ticks": "inside"
           }
          },
          "colorscale": {
           "sequential": [
            [
             0,
             "rgb(20,44,66)"
            ],
            [
             1,
             "rgb(90,179,244)"
            ]
           ],
           "sequentialminus": [
            [
             0,
             "rgb(20,44,66)"
            ],
            [
             1,
             "rgb(90,179,244)"
            ]
           ]
          },
          "colorway": [
           "#F8766D",
           "#A3A500",
           "#00BF7D",
           "#00B0F6",
           "#E76BF3"
          ],
          "font": {
           "color": "rgb(51,51,51)"
          },
          "geo": {
           "bgcolor": "white",
           "lakecolor": "white",
           "landcolor": "rgb(237,237,237)",
           "showlakes": true,
           "showland": true,
           "subunitcolor": "white"
          },
          "hoverlabel": {
           "align": "left"
          },
          "hovermode": "closest",
          "paper_bgcolor": "white",
          "plot_bgcolor": "rgb(237,237,237)",
          "polar": {
           "angularaxis": {
            "gridcolor": "white",
            "linecolor": "white",
            "showgrid": true,
            "tickcolor": "rgb(51,51,51)",
            "ticks": "outside"
           },
           "bgcolor": "rgb(237,237,237)",
           "radialaxis": {
            "gridcolor": "white",
            "linecolor": "white",
            "showgrid": true,
            "tickcolor": "rgb(51,51,51)",
            "ticks": "outside"
           }
          },
          "scene": {
           "xaxis": {
            "backgroundcolor": "rgb(237,237,237)",
            "gridcolor": "white",
            "gridwidth": 2,
            "linecolor": "white",
            "showbackground": true,
            "showgrid": true,
            "tickcolor": "rgb(51,51,51)",
            "ticks": "outside",
            "zerolinecolor": "white"
           },
           "yaxis": {
            "backgroundcolor": "rgb(237,237,237)",
            "gridcolor": "white",
            "gridwidth": 2,
            "linecolor": "white",
            "showbackground": true,
            "showgrid": true,
            "tickcolor": "rgb(51,51,51)",
            "ticks": "outside",
            "zerolinecolor": "white"
           },
           "zaxis": {
            "backgroundcolor": "rgb(237,237,237)",
            "gridcolor": "white",
            "gridwidth": 2,
            "linecolor": "white",
            "showbackground": true,
            "showgrid": true,
            "tickcolor": "rgb(51,51,51)",
            "ticks": "outside",
            "zerolinecolor": "white"
           }
          },
          "shapedefaults": {
           "fillcolor": "black",
           "line": {
            "width": 0
           },
           "opacity": 0.3
          },
          "ternary": {
           "aaxis": {
            "gridcolor": "white",
            "linecolor": "white",
            "showgrid": true,
            "tickcolor": "rgb(51,51,51)",
            "ticks": "outside"
           },
           "baxis": {
            "gridcolor": "white",
            "linecolor": "white",
            "showgrid": true,
            "tickcolor": "rgb(51,51,51)",
            "ticks": "outside"
           },
           "bgcolor": "rgb(237,237,237)",
           "caxis": {
            "gridcolor": "white",
            "linecolor": "white",
            "showgrid": true,
            "tickcolor": "rgb(51,51,51)",
            "ticks": "outside"
           }
          },
          "xaxis": {
           "automargin": true,
           "gridcolor": "white",
           "linecolor": "white",
           "showgrid": true,
           "tickcolor": "rgb(51,51,51)",
           "ticks": "outside",
           "title": {
            "standoff": 15
           },
           "zerolinecolor": "white"
          },
          "yaxis": {
           "automargin": true,
           "gridcolor": "white",
           "linecolor": "white",
           "showgrid": true,
           "tickcolor": "rgb(51,51,51)",
           "ticks": "outside",
           "title": {
            "standoff": 15
           },
           "zerolinecolor": "white"
          }
         }
        },
        "title": {
         "text": ""
        },
        "xaxis": {
         "anchor": "y",
         "domain": [
          0,
          1
         ],
         "tickfont": {
          "size": 16
         },
         "tickmode": "array",
         "tickvals": [
          3,
          4,
          5,
          6,
          7,
          8,
          9,
          10,
          11,
          12,
          13,
          14,
          15
         ],
         "title": {
          "text": "Minimum degree for selected genes"
         }
        },
        "yaxis": {
         "anchor": "x",
         "domain": [
          0,
          1
         ],
         "tickfont": {
          "size": 16
         },
         "title": {
          "text": "Entropy"
         }
        }
       }
      },
      "text/html": [
       "<div>                            <div id=\"fc584679-f529-4471-ac64-8e9ba6ae7e7f\" class=\"plotly-graph-div\" style=\"height:600px; width:100%;\"></div>            <script type=\"text/javascript\">                require([\"plotly\"], function(Plotly) {                    window.PLOTLYENV=window.PLOTLYENV || {};                                    if (document.getElementById(\"fc584679-f529-4471-ac64-8e9ba6ae7e7f\")) {                    Plotly.newPlot(                        \"fc584679-f529-4471-ac64-8e9ba6ae7e7f\",                        [{\"error_y\":{\"array\":[250.72993206402467,313.64683474197824,337.4353468020373,96.93082460524192,197.54013605614915,242.53651172179343,233.57260216084765,377.99600571857763,172.9645550813097,138.9633863284848],\"width\":8},\"hovertemplate\":\"Type=Control\\u003cbr\\u003eTF=%{x}\\u003cbr\\u003eMean_Ent=%{y}\\u003cextra\\u003e\\u003c\\u002fextra\\u003e\",\"legendgroup\":\"Control\",\"marker\":{\"color\":\"#DC3912\",\"symbol\":\"circle\",\"size\":8},\"mode\":\"markers\",\"name\":\"Control\",\"orientation\":\"v\",\"showlegend\":true,\"x\":[7,9,11,3,5,10,8,12,6,4],\"xaxis\":\"x\",\"y\":[109767.93966069231,113475.34615181848,117231.49797468548,101986.47316303111,105924.68529162128,115393.97239215816,111597.16391963566,119135.86156465863,107850.20054687586,103971.74613166768],\"yaxis\":\"y\",\"type\":\"scatter\"},{\"error_y\":{\"array\":[0.0,0.0,0.0,0.0,0.0,0.0,0.0,0.0,0.0,0.0]},\"hovertemplate\":\"Type=Experiment\\u003cbr\\u003eTF=%{x}\\u003cbr\\u003eMean_Ent=%{y}\\u003cextra\\u003e\\u003c\\u002fextra\\u003e\",\"legendgroup\":\"Experiment\",\"marker\":{\"color\":\"#3366CC\",\"symbol\":\"circle\",\"size\":8},\"mode\":\"markers\",\"name\":\"Experiment\",\"orientation\":\"v\",\"showlegend\":true,\"x\":[7,9,11,3,5,10,8,12,6,4],\"xaxis\":\"x\",\"y\":[109026.00994091954,112247.6856880585,115791.23130708908,101884.20258402747,105466.24051649774,114210.83613584687,110619.93264711519,117692.18624567379,107136.1767594428,104062.92249348713],\"yaxis\":\"y\",\"type\":\"scatter\"}],                        {\"template\":{\"data\":{\"histogram2dcontour\":[{\"type\":\"histogram2dcontour\",\"colorbar\":{\"outlinewidth\":0,\"tickcolor\":\"rgb(237,237,237)\",\"ticklen\":6,\"ticks\":\"inside\"},\"colorscale\":[[0,\"rgb(20,44,66)\"],[1,\"rgb(90,179,244)\"]]}],\"choropleth\":[{\"type\":\"choropleth\",\"colorbar\":{\"outlinewidth\":0,\"tickcolor\":\"rgb(237,237,237)\",\"ticklen\":6,\"ticks\":\"inside\"}}],\"histogram2d\":[{\"type\":\"histogram2d\",\"colorbar\":{\"outlinewidth\":0,\"tickcolor\":\"rgb(237,237,237)\",\"ticklen\":6,\"ticks\":\"inside\"},\"colorscale\":[[0,\"rgb(20,44,66)\"],[1,\"rgb(90,179,244)\"]]}],\"heatmap\":[{\"type\":\"heatmap\",\"colorbar\":{\"outlinewidth\":0,\"tickcolor\":\"rgb(237,237,237)\",\"ticklen\":6,\"ticks\":\"inside\"},\"colorscale\":[[0,\"rgb(20,44,66)\"],[1,\"rgb(90,179,244)\"]]}],\"heatmapgl\":[{\"type\":\"heatmapgl\",\"colorbar\":{\"outlinewidth\":0,\"tickcolor\":\"rgb(237,237,237)\",\"ticklen\":6,\"ticks\":\"inside\"},\"colorscale\":[[0,\"rgb(20,44,66)\"],[1,\"rgb(90,179,244)\"]]}],\"contourcarpet\":[{\"type\":\"contourcarpet\",\"colorbar\":{\"outlinewidth\":0,\"tickcolor\":\"rgb(237,237,237)\",\"ticklen\":6,\"ticks\":\"inside\"}}],\"contour\":[{\"type\":\"contour\",\"colorbar\":{\"outlinewidth\":0,\"tickcolor\":\"rgb(237,237,237)\",\"ticklen\":6,\"ticks\":\"inside\"},\"colorscale\":[[0,\"rgb(20,44,66)\"],[1,\"rgb(90,179,244)\"]]}],\"surface\":[{\"type\":\"surface\",\"colorbar\":{\"outlinewidth\":0,\"tickcolor\":\"rgb(237,237,237)\",\"ticklen\":6,\"ticks\":\"inside\"},\"colorscale\":[[0,\"rgb(20,44,66)\"],[1,\"rgb(90,179,244)\"]]}],\"mesh3d\":[{\"type\":\"mesh3d\",\"colorbar\":{\"outlinewidth\":0,\"tickcolor\":\"rgb(237,237,237)\",\"ticklen\":6,\"ticks\":\"inside\"}}],\"scatter\":[{\"fillpattern\":{\"fillmode\":\"overlay\",\"size\":10,\"solidity\":0.2},\"type\":\"scatter\"}],\"parcoords\":[{\"type\":\"parcoords\",\"line\":{\"colorbar\":{\"outlinewidth\":0,\"tickcolor\":\"rgb(237,237,237)\",\"ticklen\":6,\"ticks\":\"inside\"}}}],\"scatterpolargl\":[{\"type\":\"scatterpolargl\",\"marker\":{\"colorbar\":{\"outlinewidth\":0,\"tickcolor\":\"rgb(237,237,237)\",\"ticklen\":6,\"ticks\":\"inside\"}}}],\"bar\":[{\"error_x\":{\"color\":\"rgb(51,51,51)\"},\"error_y\":{\"color\":\"rgb(51,51,51)\"},\"marker\":{\"line\":{\"color\":\"rgb(237,237,237)\",\"width\":0.5},\"pattern\":{\"fillmode\":\"overlay\",\"size\":10,\"solidity\":0.2}},\"type\":\"bar\"}],\"scattergeo\":[{\"type\":\"scattergeo\",\"marker\":{\"colorbar\":{\"outlinewidth\":0,\"tickcolor\":\"rgb(237,237,237)\",\"ticklen\":6,\"ticks\":\"inside\"}}}],\"scatterpolar\":[{\"type\":\"scatterpolar\",\"marker\":{\"colorbar\":{\"outlinewidth\":0,\"tickcolor\":\"rgb(237,237,237)\",\"ticklen\":6,\"ticks\":\"inside\"}}}],\"histogram\":[{\"marker\":{\"pattern\":{\"fillmode\":\"overlay\",\"size\":10,\"solidity\":0.2}},\"type\":\"histogram\"}],\"scattergl\":[{\"type\":\"scattergl\",\"marker\":{\"colorbar\":{\"outlinewidth\":0,\"tickcolor\":\"rgb(237,237,237)\",\"ticklen\":6,\"ticks\":\"inside\"}}}],\"scatter3d\":[{\"type\":\"scatter3d\",\"line\":{\"colorbar\":{\"outlinewidth\":0,\"tickcolor\":\"rgb(237,237,237)\",\"ticklen\":6,\"ticks\":\"inside\"}},\"marker\":{\"colorbar\":{\"outlinewidth\":0,\"tickcolor\":\"rgb(237,237,237)\",\"ticklen\":6,\"ticks\":\"inside\"}}}],\"scattermapbox\":[{\"type\":\"scattermapbox\",\"marker\":{\"colorbar\":{\"outlinewidth\":0,\"tickcolor\":\"rgb(237,237,237)\",\"ticklen\":6,\"ticks\":\"inside\"}}}],\"scatterternary\":[{\"type\":\"scatterternary\",\"marker\":{\"colorbar\":{\"outlinewidth\":0,\"tickcolor\":\"rgb(237,237,237)\",\"ticklen\":6,\"ticks\":\"inside\"}}}],\"scattercarpet\":[{\"type\":\"scattercarpet\",\"marker\":{\"colorbar\":{\"outlinewidth\":0,\"tickcolor\":\"rgb(237,237,237)\",\"ticklen\":6,\"ticks\":\"inside\"}}}],\"carpet\":[{\"aaxis\":{\"endlinecolor\":\"rgb(51,51,51)\",\"gridcolor\":\"white\",\"linecolor\":\"white\",\"minorgridcolor\":\"white\",\"startlinecolor\":\"rgb(51,51,51)\"},\"baxis\":{\"endlinecolor\":\"rgb(51,51,51)\",\"gridcolor\":\"white\",\"linecolor\":\"white\",\"minorgridcolor\":\"white\",\"startlinecolor\":\"rgb(51,51,51)\"},\"type\":\"carpet\"}],\"table\":[{\"cells\":{\"fill\":{\"color\":\"rgb(237,237,237)\"},\"line\":{\"color\":\"white\"}},\"header\":{\"fill\":{\"color\":\"rgb(217,217,217)\"},\"line\":{\"color\":\"white\"}},\"type\":\"table\"}],\"barpolar\":[{\"marker\":{\"line\":{\"color\":\"rgb(237,237,237)\",\"width\":0.5},\"pattern\":{\"fillmode\":\"overlay\",\"size\":10,\"solidity\":0.2}},\"type\":\"barpolar\"}],\"pie\":[{\"automargin\":true,\"type\":\"pie\"}]},\"layout\":{\"autotypenumbers\":\"strict\",\"colorway\":[\"#F8766D\",\"#A3A500\",\"#00BF7D\",\"#00B0F6\",\"#E76BF3\"],\"font\":{\"color\":\"rgb(51,51,51)\"},\"hovermode\":\"closest\",\"hoverlabel\":{\"align\":\"left\"},\"paper_bgcolor\":\"white\",\"plot_bgcolor\":\"rgb(237,237,237)\",\"polar\":{\"bgcolor\":\"rgb(237,237,237)\",\"angularaxis\":{\"gridcolor\":\"white\",\"linecolor\":\"white\",\"showgrid\":true,\"tickcolor\":\"rgb(51,51,51)\",\"ticks\":\"outside\"},\"radialaxis\":{\"gridcolor\":\"white\",\"linecolor\":\"white\",\"showgrid\":true,\"tickcolor\":\"rgb(51,51,51)\",\"ticks\":\"outside\"}},\"ternary\":{\"bgcolor\":\"rgb(237,237,237)\",\"aaxis\":{\"gridcolor\":\"white\",\"linecolor\":\"white\",\"showgrid\":true,\"tickcolor\":\"rgb(51,51,51)\",\"ticks\":\"outside\"},\"baxis\":{\"gridcolor\":\"white\",\"linecolor\":\"white\",\"showgrid\":true,\"tickcolor\":\"rgb(51,51,51)\",\"ticks\":\"outside\"},\"caxis\":{\"gridcolor\":\"white\",\"linecolor\":\"white\",\"showgrid\":true,\"tickcolor\":\"rgb(51,51,51)\",\"ticks\":\"outside\"}},\"coloraxis\":{\"colorbar\":{\"outlinewidth\":0,\"tickcolor\":\"rgb(237,237,237)\",\"ticklen\":6,\"ticks\":\"inside\"}},\"colorscale\":{\"sequential\":[[0,\"rgb(20,44,66)\"],[1,\"rgb(90,179,244)\"]],\"sequentialminus\":[[0,\"rgb(20,44,66)\"],[1,\"rgb(90,179,244)\"]]},\"xaxis\":{\"gridcolor\":\"white\",\"linecolor\":\"white\",\"showgrid\":true,\"tickcolor\":\"rgb(51,51,51)\",\"ticks\":\"outside\",\"title\":{\"standoff\":15},\"zerolinecolor\":\"white\",\"automargin\":true},\"yaxis\":{\"gridcolor\":\"white\",\"linecolor\":\"white\",\"showgrid\":true,\"tickcolor\":\"rgb(51,51,51)\",\"ticks\":\"outside\",\"title\":{\"standoff\":15},\"zerolinecolor\":\"white\",\"automargin\":true},\"scene\":{\"xaxis\":{\"backgroundcolor\":\"rgb(237,237,237)\",\"gridcolor\":\"white\",\"linecolor\":\"white\",\"showbackground\":true,\"showgrid\":true,\"tickcolor\":\"rgb(51,51,51)\",\"ticks\":\"outside\",\"zerolinecolor\":\"white\",\"gridwidth\":2},\"yaxis\":{\"backgroundcolor\":\"rgb(237,237,237)\",\"gridcolor\":\"white\",\"linecolor\":\"white\",\"showbackground\":true,\"showgrid\":true,\"tickcolor\":\"rgb(51,51,51)\",\"ticks\":\"outside\",\"zerolinecolor\":\"white\",\"gridwidth\":2},\"zaxis\":{\"backgroundcolor\":\"rgb(237,237,237)\",\"gridcolor\":\"white\",\"linecolor\":\"white\",\"showbackground\":true,\"showgrid\":true,\"tickcolor\":\"rgb(51,51,51)\",\"ticks\":\"outside\",\"zerolinecolor\":\"white\",\"gridwidth\":2}},\"shapedefaults\":{\"fillcolor\":\"black\",\"line\":{\"width\":0},\"opacity\":0.3},\"annotationdefaults\":{\"arrowhead\":0,\"arrowwidth\":1},\"geo\":{\"bgcolor\":\"white\",\"landcolor\":\"rgb(237,237,237)\",\"subunitcolor\":\"white\",\"showland\":true,\"showlakes\":true,\"lakecolor\":\"white\"}}},\"xaxis\":{\"anchor\":\"y\",\"domain\":[0.0,1.0],\"title\":{\"text\":\"Minimum degree for selected genes\"},\"tickmode\":\"array\",\"tickvals\":[3,4,5,6,7,8,9,10,11,12,13,14,15],\"tickfont\":{\"size\":16}},\"yaxis\":{\"anchor\":\"x\",\"domain\":[0.0,1.0],\"title\":{\"text\":\"Entropy\"},\"tickfont\":{\"size\":16}},\"legend\":{\"title\":{\"text\":\"SBM\"},\"tracegroupgap\":0,\"font\":{\"size\":16,\"color\":\"#003366\"},\"orientation\":\"h\",\"yanchor\":\"bottom\",\"y\":0.87,\"xanchor\":\"center\",\"x\":0.5,\"bgcolor\":\"rgba(0,0,0,0)\"},\"title\":{\"text\":\"\"},\"height\":600,\"font\":{\"size\":16}},                        {\"responsive\": true}                    ).then(function(){\n",
       "                            \n",
       "var gd = document.getElementById('fc584679-f529-4471-ac64-8e9ba6ae7e7f');\n",
       "var x = new MutationObserver(function (mutations, observer) {{\n",
       "        var display = window.getComputedStyle(gd).display;\n",
       "        if (!display || display === 'none') {{\n",
       "            console.log([gd, 'removed!']);\n",
       "            Plotly.purge(gd);\n",
       "            observer.disconnect();\n",
       "        }}\n",
       "}});\n",
       "\n",
       "// Listen for the removal of the full notebook cells\n",
       "var notebookContainer = gd.closest('#notebook-container');\n",
       "if (notebookContainer) {{\n",
       "    x.observe(notebookContainer, {childList: true});\n",
       "}}\n",
       "\n",
       "// Listen for the clearing of the current output cell\n",
       "var outputEl = gd.closest('.output');\n",
       "if (outputEl) {{\n",
       "    x.observe(outputEl, {childList: true});\n",
       "}}\n",
       "\n",
       "                        })                };                });            </script>        </div>"
      ]
     },
     "metadata": {},
     "output_type": "display_data"
    }
   ],
   "source": [
    "top_df = pd.DataFrame(stats_vals, columns=[\"Median_Ent\", \"Mean_Ent\", \"Std_Ent\", \"TF\", \"Type\"])\n",
    "\n",
    "color_map = {\"Experiment\": px.colors.qualitative.G10[0], \"Control\": px.colors.qualitative.G10[1]}\n",
    "fig = px.scatter(\n",
    "    top_df,\n",
    "    y=\"Mean_Ent\",\n",
    "    x=\"TF\",\n",
    "    error_y=\"Std_Ent\",\n",
    "    color=\"Type\",\n",
    "    title=\"Entropy evolution TFs 3-15. Standard 5K\",\n",
    "    height=600,\n",
    "    color_discrete_map=color_map,\n",
    ")\n",
    "\n",
    "fig.update_layout(xaxis=dict(tickmode=\"array\", tickvals=list(range(3, 16, 1))))\n",
    "fig.update_layout(\n",
    "    legend=dict(\n",
    "        orientation=\"h\",\n",
    "        title=\"SBM\",\n",
    "        yanchor=\"bottom\",\n",
    "        y=0.87,\n",
    "        xanchor=\"center\",\n",
    "        x=0.5,\n",
    "        bgcolor=\"rgba(0,0,0,0)\",\n",
    "        font=dict(size=16, color=\"#003366\"),\n",
    "    ),\n",
    "    title=\"\",\n",
    "    xaxis=dict(\n",
    "        tickfont=dict(size=16),\n",
    "        title=\"Minimum degree for selected genes\",\n",
    "    ),\n",
    "    yaxis=dict(\n",
    "        tickfont=dict(size=16),\n",
    "        title=\"Entropy\",\n",
    "    ),\n",
    "    font=dict(size=16),\n",
    ")\n",
    "fig.update_traces(marker_size=8)\n",
    "fig.update_traces(error_y=dict(width=8), selector=({\"name\": \"Control\"}))\n",
    "fig.show()\n",
    "save_fig(name=\"sbm_ent_sel_prun\", fig=fig, base_path=figures_path, width=1200, height=600)"
   ]
  },
  {
   "cell_type": "markdown",
   "metadata": {},
   "source": [
    "# Leiden and SBM comparisons \n",
    "\n",
    "## Modularity Score"
   ]
  },
  {
   "cell_type": "code",
   "execution_count": 53,
   "metadata": {},
   "outputs": [],
   "source": [
    "def prep_leiden(exp: ExperimentSet, label=\"Experiment\"):\n",
    "    leid_stats = exp.comb_leiden_scores()\n",
    "    leid_stats = leid_stats.loc[leid_stats[\"Modifier\"] == \"Standard\"]\n",
    "    leid_stats[\"Type\"] = label\n",
    "\n",
    "    sel_cols = [\"Leiden Rank\", \"ModularityScore\", \"ModuleNum\", \"AvgModSize\", \"Modifier\", \"Type\", \"TF\", \"AvgModuleNum\"]\n",
    "\n",
    "    return leid_stats[sel_cols]\n",
    "\n",
    "\n",
    "def tf_stats(ctrls_df: pd.DataFrame, exp_df: pd.DataFrame):\n",
    "    for tf in ctrls_df[\"TF\"].unique():\n",
    "        sel_df = ctrls_df[ctrls_df[\"TF\"] == tf]\n",
    "        sel_df_exp = exp_df[exp_df[\"TF\"] == tf]\n",
    "\n",
    "        r_field = {\"ModularityScore\": \"Mod\", \"AvgModuleNum\": \"ModNum\", \"AvgModSize\": \"ModSize\"}\n",
    "        for field in [\"ModularityScore\", \"AvgModuleNum\", \"AvgModSize\"]:\n",
    "            ctrls_df.loc[ctrls_df[\"TF\"] == tf, \"{}_median\".format(r_field[field])] = sel_df[field].median(axis=0)\n",
    "            ctrls_df.loc[ctrls_df[\"TF\"] == tf, \"{}_mean\".format(r_field[field])] = sel_df[field].mean(axis=0)\n",
    "            ctrls_df.loc[ctrls_df[\"TF\"] == tf, \"{}_std\".format(r_field[field])] = sel_df[field].std(axis=0)\n",
    "\n",
    "            exp_df.loc[exp_df[\"TF\"] == tf, \"{}_median\".format(r_field[field])] = sel_df_exp[field].median(axis=0)\n",
    "            exp_df.loc[exp_df[\"TF\"] == tf, \"{}_mean\".format(r_field[field])] = sel_df_exp[field].mean(axis=0)\n",
    "            exp_df.loc[exp_df[\"TF\"] == tf, \"{}_std\".format(r_field[field])] = sel_df_exp[field].std(axis=0)\n",
    "\n",
    "    ctrls_df[\"Type\"] = \"Control\"\n",
    "    comb_leiden = pd.concat([ctrls_df, exp_df], axis=0)\n",
    "    comb_leiden[\"TF\"] = comb_leiden[\"TF\"].astype(int)\n",
    "    comb_leiden = comb_leiden[comb_leiden[\"TF\"] <= 15]\n",
    "    comb_leiden.sort_values(by=\"TF\", ascending=True, inplace=True)\n",
    "    comb_leiden[\"TF\"] = comb_leiden[\"TF\"].astype(str)\n",
    "\n",
    "    return comb_leiden"
   ]
  },
  {
   "cell_type": "code",
   "execution_count": 55,
   "metadata": {},
   "outputs": [],
   "source": [
    "leid_h = prep_leiden(tum, label=\"Experiment\")\n",
    "\n",
    "leid_ctrls = []\n",
    "for idx in range(1, 11, 1):\n",
    "    df = prep_leiden(t_ctrls[idx], label=\"tCtrl{}\".format(idx))\n",
    "    leid_ctrls.append(df)\n",
    "\n",
    "all_leid_ctrls = pd.concat(leid_ctrls, axis=0)\n",
    "top_leid_ctrls = all_leid_ctrls[all_leid_ctrls[\"Leiden Rank\"] == 0]"
   ]
  },
  {
   "cell_type": "code",
   "execution_count": 76,
   "metadata": {},
   "outputs": [
    {
     "data": {
      "application/vnd.plotly.v1+json": {
       "config": {
        "plotlyServerURL": "https://plot.ly"
       },
       "data": [
        {
         "error_y": {
          "array": [
           0.00020277964642113737,
           0.00020277964642113737,
           0.00020277964642113737,
           0.00020277964642113737,
           0.00020277964642113737,
           0.00020277964642113737,
           0.00020277964642113737,
           0.00020277964642113737,
           0.00020277964642113737,
           0.00020277964642113737,
           0.0006419080600244509,
           0.0006419080600244509,
           0.0006419080600244509,
           0.0006419080600244509,
           0.0006419080600244509,
           0.0006419080600244509,
           0.0006419080600244509,
           0.0006419080600244509,
           0.0006419080600244509,
           0.0006419080600244509,
           0.0008311834894570274,
           0.0008311834894570274,
           0.0008311834894570274,
           0.0008311834894570274,
           0.0008311834894570274,
           0.0008311834894570274,
           0.0008311834894570274,
           0.0008311834894570274,
           0.0008311834894570274,
           0.0008311834894570274,
           0.0017016620936437417,
           0.0017016620936437417,
           0.0017016620936437417,
           0.0017016620936437417,
           0.0017016620936437417,
           0.0017016620936437417,
           0.0017016620936437417,
           0.0017016620936437417,
           0.0017016620936437417,
           0.0017016620936437417,
           0.0019519823990023903,
           0.0019519823990023903,
           0.0019519823990023903,
           0.0019519823990023903,
           0.0019519823990023903,
           0.0019519823990023903,
           0.0019519823990023903,
           0.0019519823990023903,
           0.0019519823990023903,
           0.0019519823990023903,
           0.002593544525634045,
           0.002593544525634045,
           0.002593544525634045,
           0.002593544525634045,
           0.002593544525634045,
           0.002593544525634045,
           0.002593544525634045,
           0.002593544525634045,
           0.002593544525634045,
           0.002593544525634045,
           0.0027743640138909098,
           0.0027743640138909098,
           0.0027743640138909098,
           0.0027743640138909098,
           0.0027743640138909098,
           0.0027743640138909098,
           0.0027743640138909098,
           0.0027743640138909098,
           0.0027743640138909098,
           0.0027743640138909098,
           0.0028333559737790154,
           0.0028333559737790154,
           0.0028333559737790154,
           0.0028333559737790154,
           0.0028333559737790154,
           0.0028333559737790154,
           0.0028333559737790154,
           0.0028333559737790154,
           0.0028333559737790154,
           0.0028333559737790154,
           0.0030861601208424985,
           0.0030861601208424985,
           0.0030861601208424985,
           0.0030861601208424985,
           0.0030861601208424985,
           0.0030861601208424985,
           0.0030861601208424985,
           0.0030861601208424985,
           0.0030861601208424985,
           0.0030861601208424985,
           0.003671525660674586,
           0.003671525660674586,
           0.003671525660674586,
           0.003671525660674586,
           0.003671525660674586,
           0.003671525660674586,
           0.003671525660674586,
           0.003671525660674586,
           0.003671525660674586,
           0.003671525660674586
          ],
          "width": 5
         },
         "hovertemplate": "Type=Control<br>TF=%{x}<br>Mod_mean=%{y}<extra></extra>",
         "legendgroup": "Control",
         "line": {
          "color": "#DC3912",
          "dash": "solid",
          "width": 5
         },
         "marker": {
          "size": 12,
          "symbol": "circle"
         },
         "mode": "lines+markers",
         "name": "Control",
         "orientation": "v",
         "showlegend": true,
         "type": "scatter",
         "x": [
          "3",
          "3",
          "3",
          "3",
          "3",
          "3",
          "3",
          "3",
          "3",
          "3",
          "4",
          "4",
          "4",
          "4",
          "4",
          "4",
          "4",
          "4",
          "4",
          "4",
          "5",
          "5",
          "5",
          "5",
          "5",
          "5",
          "5",
          "5",
          "5",
          "5",
          "6",
          "6",
          "6",
          "6",
          "6",
          "6",
          "6",
          "6",
          "6",
          "6",
          "7",
          "7",
          "7",
          "7",
          "7",
          "7",
          "7",
          "7",
          "7",
          "7",
          "8",
          "8",
          "8",
          "8",
          "8",
          "8",
          "8",
          "8",
          "8",
          "8",
          "9",
          "9",
          "9",
          "9",
          "9",
          "9",
          "9",
          "9",
          "9",
          "9",
          "10",
          "10",
          "10",
          "10",
          "10",
          "10",
          "10",
          "10",
          "10",
          "10",
          "11",
          "11",
          "11",
          "11",
          "11",
          "11",
          "11",
          "11",
          "11",
          "11",
          "12",
          "12",
          "12",
          "12",
          "12",
          "12",
          "12",
          "12",
          "12",
          "12"
         ],
         "xaxis": "x",
         "y": [
          0.75045982351871,
          0.75045982351871,
          0.75045982351871,
          0.75045982351871,
          0.75045982351871,
          0.75045982351871,
          0.75045982351871,
          0.75045982351871,
          0.75045982351871,
          0.75045982351871,
          0.7483840451805116,
          0.7483840451805116,
          0.7483840451805116,
          0.7483840451805116,
          0.7483840451805116,
          0.7483840451805116,
          0.7483840451805116,
          0.7483840451805116,
          0.7483840451805116,
          0.7483840451805116,
          0.7462064219159343,
          0.7462064219159343,
          0.7462064219159343,
          0.7462064219159343,
          0.7462064219159343,
          0.7462064219159343,
          0.7462064219159343,
          0.7462064219159343,
          0.7462064219159343,
          0.7462064219159343,
          0.7439996685006987,
          0.7439996685006987,
          0.7439996685006987,
          0.7439996685006987,
          0.7439996685006987,
          0.7439996685006987,
          0.7439996685006987,
          0.7439996685006987,
          0.7439996685006987,
          0.7439996685006987,
          0.7419522220089313,
          0.7419522220089313,
          0.7419522220089313,
          0.7419522220089313,
          0.7419522220089313,
          0.7419522220089313,
          0.7419522220089313,
          0.7419522220089313,
          0.7419522220089313,
          0.7419522220089313,
          0.7400776354337713,
          0.7400776354337713,
          0.7400776354337713,
          0.7400776354337713,
          0.7400776354337713,
          0.7400776354337713,
          0.7400776354337713,
          0.7400776354337713,
          0.7400776354337713,
          0.7400776354337713,
          0.7379852754948862,
          0.7379852754948862,
          0.7379852754948862,
          0.7379852754948862,
          0.7379852754948862,
          0.7379852754948862,
          0.7379852754948862,
          0.7379852754948862,
          0.7379852754948862,
          0.7379852754948862,
          0.7357945031484041,
          0.7357945031484041,
          0.7357945031484041,
          0.7357945031484041,
          0.7357945031484041,
          0.7357945031484041,
          0.7357945031484041,
          0.7357945031484041,
          0.7357945031484041,
          0.7357945031484041,
          0.7335511296657595,
          0.7335511296657595,
          0.7335511296657595,
          0.7335511296657595,
          0.7335511296657595,
          0.7335511296657595,
          0.7335511296657595,
          0.7335511296657595,
          0.7335511296657595,
          0.7335511296657595,
          0.7310928464012587,
          0.7310928464012587,
          0.7310928464012587,
          0.7310928464012587,
          0.7310928464012587,
          0.7310928464012587,
          0.7310928464012587,
          0.7310928464012587,
          0.7310928464012587,
          0.7310928464012587
         ],
         "yaxis": "y"
        },
        {
         "error_y": {
          "array": [
           null,
           null,
           null,
           null,
           null,
           null,
           null,
           null,
           null,
           null
          ],
          "width": 5
         },
         "hovertemplate": "Type=Experiment<br>TF=%{x}<br>Mod_mean=%{y}<extra></extra>",
         "legendgroup": "Experiment",
         "line": {
          "color": "#3366CC",
          "dash": "solid",
          "width": 5
         },
         "marker": {
          "size": 12,
          "symbol": "circle"
         },
         "mode": "lines+markers",
         "name": "Experiment",
         "orientation": "v",
         "showlegend": true,
         "type": "scatter",
         "x": [
          "3",
          "4",
          "5",
          "6",
          "7",
          "8",
          "9",
          "10",
          "11",
          "12"
         ],
         "xaxis": "x",
         "y": [
          0.7500650347484183,
          0.7473432890481239,
          0.7448783372155479,
          0.7419406633463141,
          0.7389780099542811,
          0.7359816016185852,
          0.7339615214386098,
          0.7305564066438056,
          0.7268312679943512,
          0.724500395745009
         ],
         "yaxis": "y"
        }
       ],
       "layout": {
        "font": {
         "size": 16
        },
        "height": 600,
        "legend": {
         "bgcolor": "rgba(0,0,0,0)",
         "font": {
          "color": "#003366",
          "size": 16
         },
         "orientation": "h",
         "title": {
          "text": "Leiden"
         },
         "tracegroupgap": 0,
         "x": 0.5,
         "xanchor": "center",
         "y": 0.87,
         "yanchor": "bottom"
        },
        "template": {
         "data": {
          "bar": [
           {
            "error_x": {
             "color": "rgb(51,51,51)"
            },
            "error_y": {
             "color": "rgb(51,51,51)"
            },
            "marker": {
             "line": {
              "color": "rgb(237,237,237)",
              "width": 0.5
             },
             "pattern": {
              "fillmode": "overlay",
              "size": 10,
              "solidity": 0.2
             }
            },
            "type": "bar"
           }
          ],
          "barpolar": [
           {
            "marker": {
             "line": {
              "color": "rgb(237,237,237)",
              "width": 0.5
             },
             "pattern": {
              "fillmode": "overlay",
              "size": 10,
              "solidity": 0.2
             }
            },
            "type": "barpolar"
           }
          ],
          "carpet": [
           {
            "aaxis": {
             "endlinecolor": "rgb(51,51,51)",
             "gridcolor": "white",
             "linecolor": "white",
             "minorgridcolor": "white",
             "startlinecolor": "rgb(51,51,51)"
            },
            "baxis": {
             "endlinecolor": "rgb(51,51,51)",
             "gridcolor": "white",
             "linecolor": "white",
             "minorgridcolor": "white",
             "startlinecolor": "rgb(51,51,51)"
            },
            "type": "carpet"
           }
          ],
          "choropleth": [
           {
            "colorbar": {
             "outlinewidth": 0,
             "tickcolor": "rgb(237,237,237)",
             "ticklen": 6,
             "ticks": "inside"
            },
            "type": "choropleth"
           }
          ],
          "contour": [
           {
            "colorbar": {
             "outlinewidth": 0,
             "tickcolor": "rgb(237,237,237)",
             "ticklen": 6,
             "ticks": "inside"
            },
            "colorscale": [
             [
              0,
              "rgb(20,44,66)"
             ],
             [
              1,
              "rgb(90,179,244)"
             ]
            ],
            "type": "contour"
           }
          ],
          "contourcarpet": [
           {
            "colorbar": {
             "outlinewidth": 0,
             "tickcolor": "rgb(237,237,237)",
             "ticklen": 6,
             "ticks": "inside"
            },
            "type": "contourcarpet"
           }
          ],
          "heatmap": [
           {
            "colorbar": {
             "outlinewidth": 0,
             "tickcolor": "rgb(237,237,237)",
             "ticklen": 6,
             "ticks": "inside"
            },
            "colorscale": [
             [
              0,
              "rgb(20,44,66)"
             ],
             [
              1,
              "rgb(90,179,244)"
             ]
            ],
            "type": "heatmap"
           }
          ],
          "heatmapgl": [
           {
            "colorbar": {
             "outlinewidth": 0,
             "tickcolor": "rgb(237,237,237)",
             "ticklen": 6,
             "ticks": "inside"
            },
            "colorscale": [
             [
              0,
              "rgb(20,44,66)"
             ],
             [
              1,
              "rgb(90,179,244)"
             ]
            ],
            "type": "heatmapgl"
           }
          ],
          "histogram": [
           {
            "marker": {
             "pattern": {
              "fillmode": "overlay",
              "size": 10,
              "solidity": 0.2
             }
            },
            "type": "histogram"
           }
          ],
          "histogram2d": [
           {
            "colorbar": {
             "outlinewidth": 0,
             "tickcolor": "rgb(237,237,237)",
             "ticklen": 6,
             "ticks": "inside"
            },
            "colorscale": [
             [
              0,
              "rgb(20,44,66)"
             ],
             [
              1,
              "rgb(90,179,244)"
             ]
            ],
            "type": "histogram2d"
           }
          ],
          "histogram2dcontour": [
           {
            "colorbar": {
             "outlinewidth": 0,
             "tickcolor": "rgb(237,237,237)",
             "ticklen": 6,
             "ticks": "inside"
            },
            "colorscale": [
             [
              0,
              "rgb(20,44,66)"
             ],
             [
              1,
              "rgb(90,179,244)"
             ]
            ],
            "type": "histogram2dcontour"
           }
          ],
          "mesh3d": [
           {
            "colorbar": {
             "outlinewidth": 0,
             "tickcolor": "rgb(237,237,237)",
             "ticklen": 6,
             "ticks": "inside"
            },
            "type": "mesh3d"
           }
          ],
          "parcoords": [
           {
            "line": {
             "colorbar": {
              "outlinewidth": 0,
              "tickcolor": "rgb(237,237,237)",
              "ticklen": 6,
              "ticks": "inside"
             }
            },
            "type": "parcoords"
           }
          ],
          "pie": [
           {
            "automargin": true,
            "type": "pie"
           }
          ],
          "scatter": [
           {
            "fillpattern": {
             "fillmode": "overlay",
             "size": 10,
             "solidity": 0.2
            },
            "type": "scatter"
           }
          ],
          "scatter3d": [
           {
            "line": {
             "colorbar": {
              "outlinewidth": 0,
              "tickcolor": "rgb(237,237,237)",
              "ticklen": 6,
              "ticks": "inside"
             }
            },
            "marker": {
             "colorbar": {
              "outlinewidth": 0,
              "tickcolor": "rgb(237,237,237)",
              "ticklen": 6,
              "ticks": "inside"
             }
            },
            "type": "scatter3d"
           }
          ],
          "scattercarpet": [
           {
            "marker": {
             "colorbar": {
              "outlinewidth": 0,
              "tickcolor": "rgb(237,237,237)",
              "ticklen": 6,
              "ticks": "inside"
             }
            },
            "type": "scattercarpet"
           }
          ],
          "scattergeo": [
           {
            "marker": {
             "colorbar": {
              "outlinewidth": 0,
              "tickcolor": "rgb(237,237,237)",
              "ticklen": 6,
              "ticks": "inside"
             }
            },
            "type": "scattergeo"
           }
          ],
          "scattergl": [
           {
            "marker": {
             "colorbar": {
              "outlinewidth": 0,
              "tickcolor": "rgb(237,237,237)",
              "ticklen": 6,
              "ticks": "inside"
             }
            },
            "type": "scattergl"
           }
          ],
          "scattermapbox": [
           {
            "marker": {
             "colorbar": {
              "outlinewidth": 0,
              "tickcolor": "rgb(237,237,237)",
              "ticklen": 6,
              "ticks": "inside"
             }
            },
            "type": "scattermapbox"
           }
          ],
          "scatterpolar": [
           {
            "marker": {
             "colorbar": {
              "outlinewidth": 0,
              "tickcolor": "rgb(237,237,237)",
              "ticklen": 6,
              "ticks": "inside"
             }
            },
            "type": "scatterpolar"
           }
          ],
          "scatterpolargl": [
           {
            "marker": {
             "colorbar": {
              "outlinewidth": 0,
              "tickcolor": "rgb(237,237,237)",
              "ticklen": 6,
              "ticks": "inside"
             }
            },
            "type": "scatterpolargl"
           }
          ],
          "scatterternary": [
           {
            "marker": {
             "colorbar": {
              "outlinewidth": 0,
              "tickcolor": "rgb(237,237,237)",
              "ticklen": 6,
              "ticks": "inside"
             }
            },
            "type": "scatterternary"
           }
          ],
          "surface": [
           {
            "colorbar": {
             "outlinewidth": 0,
             "tickcolor": "rgb(237,237,237)",
             "ticklen": 6,
             "ticks": "inside"
            },
            "colorscale": [
             [
              0,
              "rgb(20,44,66)"
             ],
             [
              1,
              "rgb(90,179,244)"
             ]
            ],
            "type": "surface"
           }
          ],
          "table": [
           {
            "cells": {
             "fill": {
              "color": "rgb(237,237,237)"
             },
             "line": {
              "color": "white"
             }
            },
            "header": {
             "fill": {
              "color": "rgb(217,217,217)"
             },
             "line": {
              "color": "white"
             }
            },
            "type": "table"
           }
          ]
         },
         "layout": {
          "annotationdefaults": {
           "arrowhead": 0,
           "arrowwidth": 1
          },
          "autotypenumbers": "strict",
          "coloraxis": {
           "colorbar": {
            "outlinewidth": 0,
            "tickcolor": "rgb(237,237,237)",
            "ticklen": 6,
            "ticks": "inside"
           }
          },
          "colorscale": {
           "sequential": [
            [
             0,
             "rgb(20,44,66)"
            ],
            [
             1,
             "rgb(90,179,244)"
            ]
           ],
           "sequentialminus": [
            [
             0,
             "rgb(20,44,66)"
            ],
            [
             1,
             "rgb(90,179,244)"
            ]
           ]
          },
          "colorway": [
           "#F8766D",
           "#A3A500",
           "#00BF7D",
           "#00B0F6",
           "#E76BF3"
          ],
          "font": {
           "color": "rgb(51,51,51)"
          },
          "geo": {
           "bgcolor": "white",
           "lakecolor": "white",
           "landcolor": "rgb(237,237,237)",
           "showlakes": true,
           "showland": true,
           "subunitcolor": "white"
          },
          "hoverlabel": {
           "align": "left"
          },
          "hovermode": "closest",
          "paper_bgcolor": "white",
          "plot_bgcolor": "rgb(237,237,237)",
          "polar": {
           "angularaxis": {
            "gridcolor": "white",
            "linecolor": "white",
            "showgrid": true,
            "tickcolor": "rgb(51,51,51)",
            "ticks": "outside"
           },
           "bgcolor": "rgb(237,237,237)",
           "radialaxis": {
            "gridcolor": "white",
            "linecolor": "white",
            "showgrid": true,
            "tickcolor": "rgb(51,51,51)",
            "ticks": "outside"
           }
          },
          "scene": {
           "xaxis": {
            "backgroundcolor": "rgb(237,237,237)",
            "gridcolor": "white",
            "gridwidth": 2,
            "linecolor": "white",
            "showbackground": true,
            "showgrid": true,
            "tickcolor": "rgb(51,51,51)",
            "ticks": "outside",
            "zerolinecolor": "white"
           },
           "yaxis": {
            "backgroundcolor": "rgb(237,237,237)",
            "gridcolor": "white",
            "gridwidth": 2,
            "linecolor": "white",
            "showbackground": true,
            "showgrid": true,
            "tickcolor": "rgb(51,51,51)",
            "ticks": "outside",
            "zerolinecolor": "white"
           },
           "zaxis": {
            "backgroundcolor": "rgb(237,237,237)",
            "gridcolor": "white",
            "gridwidth": 2,
            "linecolor": "white",
            "showbackground": true,
            "showgrid": true,
            "tickcolor": "rgb(51,51,51)",
            "ticks": "outside",
            "zerolinecolor": "white"
           }
          },
          "shapedefaults": {
           "fillcolor": "black",
           "line": {
            "width": 0
           },
           "opacity": 0.3
          },
          "ternary": {
           "aaxis": {
            "gridcolor": "white",
            "linecolor": "white",
            "showgrid": true,
            "tickcolor": "rgb(51,51,51)",
            "ticks": "outside"
           },
           "baxis": {
            "gridcolor": "white",
            "linecolor": "white",
            "showgrid": true,
            "tickcolor": "rgb(51,51,51)",
            "ticks": "outside"
           },
           "bgcolor": "rgb(237,237,237)",
           "caxis": {
            "gridcolor": "white",
            "linecolor": "white",
            "showgrid": true,
            "tickcolor": "rgb(51,51,51)",
            "ticks": "outside"
           }
          },
          "xaxis": {
           "automargin": true,
           "gridcolor": "white",
           "linecolor": "white",
           "showgrid": true,
           "tickcolor": "rgb(51,51,51)",
           "ticks": "outside",
           "title": {
            "standoff": 15
           },
           "zerolinecolor": "white"
          },
          "yaxis": {
           "automargin": true,
           "gridcolor": "white",
           "linecolor": "white",
           "showgrid": true,
           "tickcolor": "rgb(51,51,51)",
           "ticks": "outside",
           "title": {
            "standoff": 15
           },
           "zerolinecolor": "white"
          }
         }
        },
        "title": {
         "text": ""
        },
        "xaxis": {
         "anchor": "y",
         "domain": [
          0,
          1
         ],
         "tickfont": {
          "size": 16
         },
         "title": {
          "text": "Minimum degree for selected genes"
         }
        },
        "yaxis": {
         "anchor": "x",
         "domain": [
          0,
          1
         ],
         "tickfont": {
          "size": 16
         },
         "title": {
          "text": "Modularity Score"
         }
        }
       }
      },
      "text/html": [
       "<div>                            <div id=\"2bd59970-20ff-4a0b-8f13-bf2ffa8d4edd\" class=\"plotly-graph-div\" style=\"height:600px; width:100%;\"></div>            <script type=\"text/javascript\">                require([\"plotly\"], function(Plotly) {                    window.PLOTLYENV=window.PLOTLYENV || {};                                    if (document.getElementById(\"2bd59970-20ff-4a0b-8f13-bf2ffa8d4edd\")) {                    Plotly.newPlot(                        \"2bd59970-20ff-4a0b-8f13-bf2ffa8d4edd\",                        [{\"error_y\":{\"array\":[0.00020277964642113737,0.00020277964642113737,0.00020277964642113737,0.00020277964642113737,0.00020277964642113737,0.00020277964642113737,0.00020277964642113737,0.00020277964642113737,0.00020277964642113737,0.00020277964642113737,0.0006419080600244509,0.0006419080600244509,0.0006419080600244509,0.0006419080600244509,0.0006419080600244509,0.0006419080600244509,0.0006419080600244509,0.0006419080600244509,0.0006419080600244509,0.0006419080600244509,0.0008311834894570274,0.0008311834894570274,0.0008311834894570274,0.0008311834894570274,0.0008311834894570274,0.0008311834894570274,0.0008311834894570274,0.0008311834894570274,0.0008311834894570274,0.0008311834894570274,0.0017016620936437417,0.0017016620936437417,0.0017016620936437417,0.0017016620936437417,0.0017016620936437417,0.0017016620936437417,0.0017016620936437417,0.0017016620936437417,0.0017016620936437417,0.0017016620936437417,0.0019519823990023903,0.0019519823990023903,0.0019519823990023903,0.0019519823990023903,0.0019519823990023903,0.0019519823990023903,0.0019519823990023903,0.0019519823990023903,0.0019519823990023903,0.0019519823990023903,0.002593544525634045,0.002593544525634045,0.002593544525634045,0.002593544525634045,0.002593544525634045,0.002593544525634045,0.002593544525634045,0.002593544525634045,0.002593544525634045,0.002593544525634045,0.0027743640138909098,0.0027743640138909098,0.0027743640138909098,0.0027743640138909098,0.0027743640138909098,0.0027743640138909098,0.0027743640138909098,0.0027743640138909098,0.0027743640138909098,0.0027743640138909098,0.0028333559737790154,0.0028333559737790154,0.0028333559737790154,0.0028333559737790154,0.0028333559737790154,0.0028333559737790154,0.0028333559737790154,0.0028333559737790154,0.0028333559737790154,0.0028333559737790154,0.0030861601208424985,0.0030861601208424985,0.0030861601208424985,0.0030861601208424985,0.0030861601208424985,0.0030861601208424985,0.0030861601208424985,0.0030861601208424985,0.0030861601208424985,0.0030861601208424985,0.003671525660674586,0.003671525660674586,0.003671525660674586,0.003671525660674586,0.003671525660674586,0.003671525660674586,0.003671525660674586,0.003671525660674586,0.003671525660674586,0.003671525660674586],\"width\":5},\"hovertemplate\":\"Type=Control\\u003cbr\\u003eTF=%{x}\\u003cbr\\u003eMod_mean=%{y}\\u003cextra\\u003e\\u003c\\u002fextra\\u003e\",\"legendgroup\":\"Control\",\"line\":{\"color\":\"#DC3912\",\"dash\":\"solid\",\"width\":5},\"marker\":{\"symbol\":\"circle\",\"size\":12},\"mode\":\"lines+markers\",\"name\":\"Control\",\"orientation\":\"v\",\"showlegend\":true,\"x\":[\"3\",\"3\",\"3\",\"3\",\"3\",\"3\",\"3\",\"3\",\"3\",\"3\",\"4\",\"4\",\"4\",\"4\",\"4\",\"4\",\"4\",\"4\",\"4\",\"4\",\"5\",\"5\",\"5\",\"5\",\"5\",\"5\",\"5\",\"5\",\"5\",\"5\",\"6\",\"6\",\"6\",\"6\",\"6\",\"6\",\"6\",\"6\",\"6\",\"6\",\"7\",\"7\",\"7\",\"7\",\"7\",\"7\",\"7\",\"7\",\"7\",\"7\",\"8\",\"8\",\"8\",\"8\",\"8\",\"8\",\"8\",\"8\",\"8\",\"8\",\"9\",\"9\",\"9\",\"9\",\"9\",\"9\",\"9\",\"9\",\"9\",\"9\",\"10\",\"10\",\"10\",\"10\",\"10\",\"10\",\"10\",\"10\",\"10\",\"10\",\"11\",\"11\",\"11\",\"11\",\"11\",\"11\",\"11\",\"11\",\"11\",\"11\",\"12\",\"12\",\"12\",\"12\",\"12\",\"12\",\"12\",\"12\",\"12\",\"12\"],\"xaxis\":\"x\",\"y\":[0.75045982351871,0.75045982351871,0.75045982351871,0.75045982351871,0.75045982351871,0.75045982351871,0.75045982351871,0.75045982351871,0.75045982351871,0.75045982351871,0.7483840451805116,0.7483840451805116,0.7483840451805116,0.7483840451805116,0.7483840451805116,0.7483840451805116,0.7483840451805116,0.7483840451805116,0.7483840451805116,0.7483840451805116,0.7462064219159343,0.7462064219159343,0.7462064219159343,0.7462064219159343,0.7462064219159343,0.7462064219159343,0.7462064219159343,0.7462064219159343,0.7462064219159343,0.7462064219159343,0.7439996685006987,0.7439996685006987,0.7439996685006987,0.7439996685006987,0.7439996685006987,0.7439996685006987,0.7439996685006987,0.7439996685006987,0.7439996685006987,0.7439996685006987,0.7419522220089313,0.7419522220089313,0.7419522220089313,0.7419522220089313,0.7419522220089313,0.7419522220089313,0.7419522220089313,0.7419522220089313,0.7419522220089313,0.7419522220089313,0.7400776354337713,0.7400776354337713,0.7400776354337713,0.7400776354337713,0.7400776354337713,0.7400776354337713,0.7400776354337713,0.7400776354337713,0.7400776354337713,0.7400776354337713,0.7379852754948862,0.7379852754948862,0.7379852754948862,0.7379852754948862,0.7379852754948862,0.7379852754948862,0.7379852754948862,0.7379852754948862,0.7379852754948862,0.7379852754948862,0.7357945031484041,0.7357945031484041,0.7357945031484041,0.7357945031484041,0.7357945031484041,0.7357945031484041,0.7357945031484041,0.7357945031484041,0.7357945031484041,0.7357945031484041,0.7335511296657595,0.7335511296657595,0.7335511296657595,0.7335511296657595,0.7335511296657595,0.7335511296657595,0.7335511296657595,0.7335511296657595,0.7335511296657595,0.7335511296657595,0.7310928464012587,0.7310928464012587,0.7310928464012587,0.7310928464012587,0.7310928464012587,0.7310928464012587,0.7310928464012587,0.7310928464012587,0.7310928464012587,0.7310928464012587],\"yaxis\":\"y\",\"type\":\"scatter\"},{\"error_y\":{\"array\":[null,null,null,null,null,null,null,null,null,null],\"width\":5},\"hovertemplate\":\"Type=Experiment\\u003cbr\\u003eTF=%{x}\\u003cbr\\u003eMod_mean=%{y}\\u003cextra\\u003e\\u003c\\u002fextra\\u003e\",\"legendgroup\":\"Experiment\",\"line\":{\"color\":\"#3366CC\",\"dash\":\"solid\",\"width\":5},\"marker\":{\"symbol\":\"circle\",\"size\":12},\"mode\":\"lines+markers\",\"name\":\"Experiment\",\"orientation\":\"v\",\"showlegend\":true,\"x\":[\"3\",\"4\",\"5\",\"6\",\"7\",\"8\",\"9\",\"10\",\"11\",\"12\"],\"xaxis\":\"x\",\"y\":[0.7500650347484183,0.7473432890481239,0.7448783372155479,0.7419406633463141,0.7389780099542811,0.7359816016185852,0.7339615214386098,0.7305564066438056,0.7268312679943512,0.724500395745009],\"yaxis\":\"y\",\"type\":\"scatter\"}],                        {\"template\":{\"data\":{\"histogram2dcontour\":[{\"type\":\"histogram2dcontour\",\"colorbar\":{\"outlinewidth\":0,\"tickcolor\":\"rgb(237,237,237)\",\"ticklen\":6,\"ticks\":\"inside\"},\"colorscale\":[[0,\"rgb(20,44,66)\"],[1,\"rgb(90,179,244)\"]]}],\"choropleth\":[{\"type\":\"choropleth\",\"colorbar\":{\"outlinewidth\":0,\"tickcolor\":\"rgb(237,237,237)\",\"ticklen\":6,\"ticks\":\"inside\"}}],\"histogram2d\":[{\"type\":\"histogram2d\",\"colorbar\":{\"outlinewidth\":0,\"tickcolor\":\"rgb(237,237,237)\",\"ticklen\":6,\"ticks\":\"inside\"},\"colorscale\":[[0,\"rgb(20,44,66)\"],[1,\"rgb(90,179,244)\"]]}],\"heatmap\":[{\"type\":\"heatmap\",\"colorbar\":{\"outlinewidth\":0,\"tickcolor\":\"rgb(237,237,237)\",\"ticklen\":6,\"ticks\":\"inside\"},\"colorscale\":[[0,\"rgb(20,44,66)\"],[1,\"rgb(90,179,244)\"]]}],\"heatmapgl\":[{\"type\":\"heatmapgl\",\"colorbar\":{\"outlinewidth\":0,\"tickcolor\":\"rgb(237,237,237)\",\"ticklen\":6,\"ticks\":\"inside\"},\"colorscale\":[[0,\"rgb(20,44,66)\"],[1,\"rgb(90,179,244)\"]]}],\"contourcarpet\":[{\"type\":\"contourcarpet\",\"colorbar\":{\"outlinewidth\":0,\"tickcolor\":\"rgb(237,237,237)\",\"ticklen\":6,\"ticks\":\"inside\"}}],\"contour\":[{\"type\":\"contour\",\"colorbar\":{\"outlinewidth\":0,\"tickcolor\":\"rgb(237,237,237)\",\"ticklen\":6,\"ticks\":\"inside\"},\"colorscale\":[[0,\"rgb(20,44,66)\"],[1,\"rgb(90,179,244)\"]]}],\"surface\":[{\"type\":\"surface\",\"colorbar\":{\"outlinewidth\":0,\"tickcolor\":\"rgb(237,237,237)\",\"ticklen\":6,\"ticks\":\"inside\"},\"colorscale\":[[0,\"rgb(20,44,66)\"],[1,\"rgb(90,179,244)\"]]}],\"mesh3d\":[{\"type\":\"mesh3d\",\"colorbar\":{\"outlinewidth\":0,\"tickcolor\":\"rgb(237,237,237)\",\"ticklen\":6,\"ticks\":\"inside\"}}],\"scatter\":[{\"fillpattern\":{\"fillmode\":\"overlay\",\"size\":10,\"solidity\":0.2},\"type\":\"scatter\"}],\"parcoords\":[{\"type\":\"parcoords\",\"line\":{\"colorbar\":{\"outlinewidth\":0,\"tickcolor\":\"rgb(237,237,237)\",\"ticklen\":6,\"ticks\":\"inside\"}}}],\"scatterpolargl\":[{\"type\":\"scatterpolargl\",\"marker\":{\"colorbar\":{\"outlinewidth\":0,\"tickcolor\":\"rgb(237,237,237)\",\"ticklen\":6,\"ticks\":\"inside\"}}}],\"bar\":[{\"error_x\":{\"color\":\"rgb(51,51,51)\"},\"error_y\":{\"color\":\"rgb(51,51,51)\"},\"marker\":{\"line\":{\"color\":\"rgb(237,237,237)\",\"width\":0.5},\"pattern\":{\"fillmode\":\"overlay\",\"size\":10,\"solidity\":0.2}},\"type\":\"bar\"}],\"scattergeo\":[{\"type\":\"scattergeo\",\"marker\":{\"colorbar\":{\"outlinewidth\":0,\"tickcolor\":\"rgb(237,237,237)\",\"ticklen\":6,\"ticks\":\"inside\"}}}],\"scatterpolar\":[{\"type\":\"scatterpolar\",\"marker\":{\"colorbar\":{\"outlinewidth\":0,\"tickcolor\":\"rgb(237,237,237)\",\"ticklen\":6,\"ticks\":\"inside\"}}}],\"histogram\":[{\"marker\":{\"pattern\":{\"fillmode\":\"overlay\",\"size\":10,\"solidity\":0.2}},\"type\":\"histogram\"}],\"scattergl\":[{\"type\":\"scattergl\",\"marker\":{\"colorbar\":{\"outlinewidth\":0,\"tickcolor\":\"rgb(237,237,237)\",\"ticklen\":6,\"ticks\":\"inside\"}}}],\"scatter3d\":[{\"type\":\"scatter3d\",\"line\":{\"colorbar\":{\"outlinewidth\":0,\"tickcolor\":\"rgb(237,237,237)\",\"ticklen\":6,\"ticks\":\"inside\"}},\"marker\":{\"colorbar\":{\"outlinewidth\":0,\"tickcolor\":\"rgb(237,237,237)\",\"ticklen\":6,\"ticks\":\"inside\"}}}],\"scattermapbox\":[{\"type\":\"scattermapbox\",\"marker\":{\"colorbar\":{\"outlinewidth\":0,\"tickcolor\":\"rgb(237,237,237)\",\"ticklen\":6,\"ticks\":\"inside\"}}}],\"scatterternary\":[{\"type\":\"scatterternary\",\"marker\":{\"colorbar\":{\"outlinewidth\":0,\"tickcolor\":\"rgb(237,237,237)\",\"ticklen\":6,\"ticks\":\"inside\"}}}],\"scattercarpet\":[{\"type\":\"scattercarpet\",\"marker\":{\"colorbar\":{\"outlinewidth\":0,\"tickcolor\":\"rgb(237,237,237)\",\"ticklen\":6,\"ticks\":\"inside\"}}}],\"carpet\":[{\"aaxis\":{\"endlinecolor\":\"rgb(51,51,51)\",\"gridcolor\":\"white\",\"linecolor\":\"white\",\"minorgridcolor\":\"white\",\"startlinecolor\":\"rgb(51,51,51)\"},\"baxis\":{\"endlinecolor\":\"rgb(51,51,51)\",\"gridcolor\":\"white\",\"linecolor\":\"white\",\"minorgridcolor\":\"white\",\"startlinecolor\":\"rgb(51,51,51)\"},\"type\":\"carpet\"}],\"table\":[{\"cells\":{\"fill\":{\"color\":\"rgb(237,237,237)\"},\"line\":{\"color\":\"white\"}},\"header\":{\"fill\":{\"color\":\"rgb(217,217,217)\"},\"line\":{\"color\":\"white\"}},\"type\":\"table\"}],\"barpolar\":[{\"marker\":{\"line\":{\"color\":\"rgb(237,237,237)\",\"width\":0.5},\"pattern\":{\"fillmode\":\"overlay\",\"size\":10,\"solidity\":0.2}},\"type\":\"barpolar\"}],\"pie\":[{\"automargin\":true,\"type\":\"pie\"}]},\"layout\":{\"autotypenumbers\":\"strict\",\"colorway\":[\"#F8766D\",\"#A3A500\",\"#00BF7D\",\"#00B0F6\",\"#E76BF3\"],\"font\":{\"color\":\"rgb(51,51,51)\"},\"hovermode\":\"closest\",\"hoverlabel\":{\"align\":\"left\"},\"paper_bgcolor\":\"white\",\"plot_bgcolor\":\"rgb(237,237,237)\",\"polar\":{\"bgcolor\":\"rgb(237,237,237)\",\"angularaxis\":{\"gridcolor\":\"white\",\"linecolor\":\"white\",\"showgrid\":true,\"tickcolor\":\"rgb(51,51,51)\",\"ticks\":\"outside\"},\"radialaxis\":{\"gridcolor\":\"white\",\"linecolor\":\"white\",\"showgrid\":true,\"tickcolor\":\"rgb(51,51,51)\",\"ticks\":\"outside\"}},\"ternary\":{\"bgcolor\":\"rgb(237,237,237)\",\"aaxis\":{\"gridcolor\":\"white\",\"linecolor\":\"white\",\"showgrid\":true,\"tickcolor\":\"rgb(51,51,51)\",\"ticks\":\"outside\"},\"baxis\":{\"gridcolor\":\"white\",\"linecolor\":\"white\",\"showgrid\":true,\"tickcolor\":\"rgb(51,51,51)\",\"ticks\":\"outside\"},\"caxis\":{\"gridcolor\":\"white\",\"linecolor\":\"white\",\"showgrid\":true,\"tickcolor\":\"rgb(51,51,51)\",\"ticks\":\"outside\"}},\"coloraxis\":{\"colorbar\":{\"outlinewidth\":0,\"tickcolor\":\"rgb(237,237,237)\",\"ticklen\":6,\"ticks\":\"inside\"}},\"colorscale\":{\"sequential\":[[0,\"rgb(20,44,66)\"],[1,\"rgb(90,179,244)\"]],\"sequentialminus\":[[0,\"rgb(20,44,66)\"],[1,\"rgb(90,179,244)\"]]},\"xaxis\":{\"gridcolor\":\"white\",\"linecolor\":\"white\",\"showgrid\":true,\"tickcolor\":\"rgb(51,51,51)\",\"ticks\":\"outside\",\"title\":{\"standoff\":15},\"zerolinecolor\":\"white\",\"automargin\":true},\"yaxis\":{\"gridcolor\":\"white\",\"linecolor\":\"white\",\"showgrid\":true,\"tickcolor\":\"rgb(51,51,51)\",\"ticks\":\"outside\",\"title\":{\"standoff\":15},\"zerolinecolor\":\"white\",\"automargin\":true},\"scene\":{\"xaxis\":{\"backgroundcolor\":\"rgb(237,237,237)\",\"gridcolor\":\"white\",\"linecolor\":\"white\",\"showbackground\":true,\"showgrid\":true,\"tickcolor\":\"rgb(51,51,51)\",\"ticks\":\"outside\",\"zerolinecolor\":\"white\",\"gridwidth\":2},\"yaxis\":{\"backgroundcolor\":\"rgb(237,237,237)\",\"gridcolor\":\"white\",\"linecolor\":\"white\",\"showbackground\":true,\"showgrid\":true,\"tickcolor\":\"rgb(51,51,51)\",\"ticks\":\"outside\",\"zerolinecolor\":\"white\",\"gridwidth\":2},\"zaxis\":{\"backgroundcolor\":\"rgb(237,237,237)\",\"gridcolor\":\"white\",\"linecolor\":\"white\",\"showbackground\":true,\"showgrid\":true,\"tickcolor\":\"rgb(51,51,51)\",\"ticks\":\"outside\",\"zerolinecolor\":\"white\",\"gridwidth\":2}},\"shapedefaults\":{\"fillcolor\":\"black\",\"line\":{\"width\":0},\"opacity\":0.3},\"annotationdefaults\":{\"arrowhead\":0,\"arrowwidth\":1},\"geo\":{\"bgcolor\":\"white\",\"landcolor\":\"rgb(237,237,237)\",\"subunitcolor\":\"white\",\"showland\":true,\"showlakes\":true,\"lakecolor\":\"white\"}}},\"xaxis\":{\"anchor\":\"y\",\"domain\":[0.0,1.0],\"title\":{\"text\":\"Minimum degree for selected genes\"},\"tickfont\":{\"size\":16}},\"yaxis\":{\"anchor\":\"x\",\"domain\":[0.0,1.0],\"title\":{\"text\":\"Modularity Score\"},\"tickfont\":{\"size\":16}},\"legend\":{\"title\":{\"text\":\"Leiden\"},\"tracegroupgap\":0,\"font\":{\"size\":16,\"color\":\"#003366\"},\"orientation\":\"h\",\"yanchor\":\"bottom\",\"y\":0.87,\"xanchor\":\"center\",\"x\":0.5,\"bgcolor\":\"rgba(0,0,0,0)\"},\"title\":{\"text\":\"\"},\"height\":600,\"font\":{\"size\":16}},                        {\"responsive\": true}                    ).then(function(){\n",
       "                            \n",
       "var gd = document.getElementById('2bd59970-20ff-4a0b-8f13-bf2ffa8d4edd');\n",
       "var x = new MutationObserver(function (mutations, observer) {{\n",
       "        var display = window.getComputedStyle(gd).display;\n",
       "        if (!display || display === 'none') {{\n",
       "            console.log([gd, 'removed!']);\n",
       "            Plotly.purge(gd);\n",
       "            observer.disconnect();\n",
       "        }}\n",
       "}});\n",
       "\n",
       "// Listen for the removal of the full notebook cells\n",
       "var notebookContainer = gd.closest('#notebook-container');\n",
       "if (notebookContainer) {{\n",
       "    x.observe(notebookContainer, {childList: true});\n",
       "}}\n",
       "\n",
       "// Listen for the clearing of the current output cell\n",
       "var outputEl = gd.closest('.output');\n",
       "if (outputEl) {{\n",
       "    x.observe(outputEl, {childList: true});\n",
       "}}\n",
       "\n",
       "                        })                };                });            </script>        </div>"
      ]
     },
     "metadata": {},
     "output_type": "display_data"
    }
   ],
   "source": [
    "top_comb_leiden = tf_stats(top_leid_ctrls, leid_h[leid_h[\"Leiden Rank\"] == 0])\n",
    "fig = px.line(\n",
    "    top_comb_leiden,\n",
    "    x=\"TF\",\n",
    "    y=\"Mod_mean\",\n",
    "    error_y=\"Mod_std\",\n",
    "    markers=True,\n",
    "    color=\"Type\",\n",
    "    height=600,\n",
    "    title=\"Modularity scores for the best top Leiden Run.\",\n",
    "    color_discrete_map=color_map,\n",
    ")\n",
    "fig.update_layout(\n",
    "    legend=dict(\n",
    "        orientation=\"h\",\n",
    "        title=\"Leiden\",\n",
    "        yanchor=\"bottom\",\n",
    "        y=0.87,\n",
    "        xanchor=\"center\",\n",
    "        x=0.5,\n",
    "        bgcolor=\"rgba(0,0,0,0)\",\n",
    "        font=dict(size=16, color=\"#003366\"),\n",
    "    ),\n",
    "    title=\"\",\n",
    "    xaxis=dict(\n",
    "        tickfont=dict(size=16),\n",
    "        title=\"Minimum degree for selected genes\",\n",
    "    ),\n",
    "    yaxis=dict(\n",
    "        tickfont=dict(size=16),\n",
    "        title=\"Modularity Score\",\n",
    "    ),\n",
    "    font=dict(size=16),\n",
    ")\n",
    "fig.update_traces(line_width=5, marker_size=12, error_y=dict(width=5))\n",
    "\n",
    "fig.show()\n",
    "save_fig(name=\"leid_mod_sel_prun\", fig=fig, base_path=figures_path, width=1200, height=600)"
   ]
  },
  {
   "cell_type": "code",
   "execution_count": 57,
   "metadata": {},
   "outputs": [],
   "source": [
    "# top_leid_ctrls[\"TF\"] = top_leid_ctrls[\"TF\"].astype(int)\n",
    "# top_leid_ctrls.sort_values(by=\"TF\", ascending=True)\n",
    "# x = list(top_leid_ctrls[\"TF\"].astype(int))\n",
    "# y_upper = list(top_leid_ctrls[\"Mod_mean\"] + top_leid_ctrls[\"Mod_std\"])\n",
    "# y_lower = list(top_leid_ctrls[\"Mod_mean\"] - top_leid_ctrls[\"Mod_std\"])\n",
    "\n",
    "\n",
    "# fig.add_trace(\n",
    "#     go.Scatter(\n",
    "#         x=x + x[::-1],  # x, then x reversed\n",
    "#         y=y_upper + y_lower[::-1],  # upper, then lower reversed\n",
    "#         fill=\"toself\",\n",
    "#         fillcolor=\"rgba(0,100,80,0.2)\",\n",
    "#         line=dict(color=\"rgba(255,255,255,0)\"),\n",
    "#         hoverinfo=\"skip\",\n",
    "#         showlegend=False,\n",
    "#     )\n",
    "# )\n",
    "\n",
    "# fig.show()"
   ]
  },
  {
   "cell_type": "code",
   "execution_count": 77,
   "metadata": {},
   "outputs": [
    {
     "data": {
      "application/vnd.plotly.v1+json": {
       "config": {
        "plotlyServerURL": "https://plot.ly"
       },
       "data": [
        {
         "error_y": {
          "array": [
           0.5544433311055402,
           0.5544433311055402,
           0.5544433311055402,
           0.5544433311055402,
           0.5544433311055402,
           0.5544433311055402,
           0.5544433311055402,
           0.5544433311055402,
           0.5544433311055402,
           0.5544433311055402,
           0.9486832980505133,
           0.9486832980505133,
           0.9486832980505133,
           0.9486832980505133,
           0.9486832980505133,
           0.9486832980505133,
           0.9486832980505133,
           0.9486832980505133,
           0.9486832980505133,
           0.9486832980505133,
           1.201336704068934,
           1.201336704068934,
           1.201336704068934,
           1.201336704068934,
           1.201336704068934,
           1.201336704068934,
           1.201336704068934,
           1.201336704068934,
           1.201336704068934,
           1.201336704068934,
           0.9401864800580518,
           0.9401864800580518,
           0.9401864800580518,
           0.9401864800580518,
           0.9401864800580518,
           0.9401864800580518,
           0.9401864800580518,
           0.9401864800580518,
           0.9401864800580518,
           0.9401864800580518,
           1.4058958744788124,
           1.4058958744788124,
           1.4058958744788124,
           1.4058958744788124,
           1.4058958744788124,
           1.4058958744788124,
           1.4058958744788124,
           1.4058958744788124,
           1.4058958744788124,
           1.4058958744788124,
           0.916919157145678,
           0.916919157145678,
           0.916919157145678,
           0.916919157145678,
           0.916919157145678,
           0.916919157145678,
           0.916919157145678,
           0.916919157145678,
           0.916919157145678,
           0.916919157145678,
           0.9743627230397226,
           0.9743627230397226,
           0.9743627230397226,
           0.9743627230397226,
           0.9743627230397226,
           0.9743627230397226,
           0.9743627230397226,
           0.9743627230397226,
           0.9743627230397226,
           0.9743627230397226,
           1.3498971154211057,
           1.3498971154211057,
           1.3498971154211057,
           1.3498971154211057,
           1.3498971154211057,
           1.3498971154211057,
           1.3498971154211057,
           1.3498971154211057,
           1.3498971154211057,
           1.3498971154211057,
           1.4094040418156963,
           1.4094040418156963,
           1.4094040418156963,
           1.4094040418156963,
           1.4094040418156963,
           1.4094040418156963,
           1.4094040418156963,
           1.4094040418156963,
           1.4094040418156963,
           1.4094040418156963,
           1.6162752485305045,
           1.6162752485305045,
           1.6162752485305045,
           1.6162752485305045,
           1.6162752485305045,
           1.6162752485305045,
           1.6162752485305045,
           1.6162752485305045,
           1.6162752485305045,
           1.6162752485305045
          ],
          "width": 5
         },
         "hovertemplate": "Type=Control<br>TF=%{x}<br>ModNum_mean=%{y}<extra></extra>",
         "legendgroup": "Control",
         "line": {
          "color": "#DC3912",
          "dash": "solid",
          "width": 5
         },
         "marker": {
          "size": 12,
          "symbol": "circle"
         },
         "mode": "lines+markers",
         "name": "Control",
         "orientation": "v",
         "showlegend": true,
         "type": "scatter",
         "x": [
          "3",
          "3",
          "3",
          "3",
          "3",
          "3",
          "3",
          "3",
          "3",
          "3",
          "4",
          "4",
          "4",
          "4",
          "4",
          "4",
          "4",
          "4",
          "4",
          "4",
          "5",
          "5",
          "5",
          "5",
          "5",
          "5",
          "5",
          "5",
          "5",
          "5",
          "6",
          "6",
          "6",
          "6",
          "6",
          "6",
          "6",
          "6",
          "6",
          "6",
          "7",
          "7",
          "7",
          "7",
          "7",
          "7",
          "7",
          "7",
          "7",
          "7",
          "8",
          "8",
          "8",
          "8",
          "8",
          "8",
          "8",
          "8",
          "8",
          "8",
          "9",
          "9",
          "9",
          "9",
          "9",
          "9",
          "9",
          "9",
          "9",
          "9",
          "10",
          "10",
          "10",
          "10",
          "10",
          "10",
          "10",
          "10",
          "10",
          "10",
          "11",
          "11",
          "11",
          "11",
          "11",
          "11",
          "11",
          "11",
          "11",
          "11",
          "12",
          "12",
          "12",
          "12",
          "12",
          "12",
          "12",
          "12",
          "12",
          "12"
         ],
         "xaxis": "x",
         "y": [
          27.366666666666664,
          27.366666666666664,
          27.366666666666664,
          27.366666666666664,
          27.366666666666664,
          27.366666666666664,
          27.366666666666664,
          27.366666666666664,
          27.366666666666664,
          27.366666666666664,
          26.03333333333333,
          26.03333333333333,
          26.03333333333333,
          26.03333333333333,
          26.03333333333333,
          26.03333333333333,
          26.03333333333333,
          26.03333333333333,
          26.03333333333333,
          26.03333333333333,
          26.3,
          26.3,
          26.3,
          26.3,
          26.3,
          26.3,
          26.3,
          26.3,
          26.3,
          26.3,
          25.4,
          25.4,
          25.4,
          25.4,
          25.4,
          25.4,
          25.4,
          25.4,
          25.4,
          25.4,
          24.76666666666667,
          24.76666666666667,
          24.76666666666667,
          24.76666666666667,
          24.76666666666667,
          24.76666666666667,
          24.76666666666667,
          24.76666666666667,
          24.76666666666667,
          24.76666666666667,
          24.233333333333334,
          24.233333333333334,
          24.233333333333334,
          24.233333333333334,
          24.233333333333334,
          24.233333333333334,
          24.233333333333334,
          24.233333333333334,
          24.233333333333334,
          24.233333333333334,
          23.633333333333333,
          23.633333333333333,
          23.633333333333333,
          23.633333333333333,
          23.633333333333333,
          23.633333333333333,
          23.633333333333333,
          23.633333333333333,
          23.633333333333333,
          23.633333333333333,
          23.6,
          23.6,
          23.6,
          23.6,
          23.6,
          23.6,
          23.6,
          23.6,
          23.6,
          23.6,
          22.96666666666667,
          22.96666666666667,
          22.96666666666667,
          22.96666666666667,
          22.96666666666667,
          22.96666666666667,
          22.96666666666667,
          22.96666666666667,
          22.96666666666667,
          22.96666666666667,
          23.06666666666667,
          23.06666666666667,
          23.06666666666667,
          23.06666666666667,
          23.06666666666667,
          23.06666666666667,
          23.06666666666667,
          23.06666666666667,
          23.06666666666667,
          23.06666666666667
         ],
         "yaxis": "y"
        },
        {
         "error_y": {
          "array": [
           null,
           null,
           null,
           null,
           null,
           null,
           null,
           null,
           null,
           null
          ],
          "width": 5
         },
         "hovertemplate": "Type=Experiment<br>TF=%{x}<br>ModNum_mean=%{y}<extra></extra>",
         "legendgroup": "Experiment",
         "line": {
          "color": "#3366CC",
          "dash": "solid",
          "width": 5
         },
         "marker": {
          "size": 12,
          "symbol": "circle"
         },
         "mode": "lines+markers",
         "name": "Experiment",
         "orientation": "v",
         "showlegend": true,
         "type": "scatter",
         "x": [
          "3",
          "4",
          "5",
          "6",
          "7",
          "8",
          "9",
          "10",
          "11",
          "12"
         ],
         "xaxis": "x",
         "y": [
          27.333333333333332,
          25.666666666666668,
          25.666666666666668,
          25.666666666666668,
          25.333333333333332,
          25.666666666666668,
          24.666666666666668,
          23.666666666666668,
          23.666666666666668,
          23.333333333333332
         ],
         "yaxis": "y"
        }
       ],
       "layout": {
        "font": {
         "size": 16
        },
        "height": 600,
        "legend": {
         "bgcolor": "rgba(0,0,0,0)",
         "font": {
          "color": "#003366",
          "size": 16
         },
         "orientation": "h",
         "title": {
          "text": "Leiden"
         },
         "tracegroupgap": 0,
         "x": 0.15,
         "xanchor": "center",
         "y": 0.1,
         "yanchor": "bottom"
        },
        "template": {
         "data": {
          "bar": [
           {
            "error_x": {
             "color": "rgb(51,51,51)"
            },
            "error_y": {
             "color": "rgb(51,51,51)"
            },
            "marker": {
             "line": {
              "color": "rgb(237,237,237)",
              "width": 0.5
             },
             "pattern": {
              "fillmode": "overlay",
              "size": 10,
              "solidity": 0.2
             }
            },
            "type": "bar"
           }
          ],
          "barpolar": [
           {
            "marker": {
             "line": {
              "color": "rgb(237,237,237)",
              "width": 0.5
             },
             "pattern": {
              "fillmode": "overlay",
              "size": 10,
              "solidity": 0.2
             }
            },
            "type": "barpolar"
           }
          ],
          "carpet": [
           {
            "aaxis": {
             "endlinecolor": "rgb(51,51,51)",
             "gridcolor": "white",
             "linecolor": "white",
             "minorgridcolor": "white",
             "startlinecolor": "rgb(51,51,51)"
            },
            "baxis": {
             "endlinecolor": "rgb(51,51,51)",
             "gridcolor": "white",
             "linecolor": "white",
             "minorgridcolor": "white",
             "startlinecolor": "rgb(51,51,51)"
            },
            "type": "carpet"
           }
          ],
          "choropleth": [
           {
            "colorbar": {
             "outlinewidth": 0,
             "tickcolor": "rgb(237,237,237)",
             "ticklen": 6,
             "ticks": "inside"
            },
            "type": "choropleth"
           }
          ],
          "contour": [
           {
            "colorbar": {
             "outlinewidth": 0,
             "tickcolor": "rgb(237,237,237)",
             "ticklen": 6,
             "ticks": "inside"
            },
            "colorscale": [
             [
              0,
              "rgb(20,44,66)"
             ],
             [
              1,
              "rgb(90,179,244)"
             ]
            ],
            "type": "contour"
           }
          ],
          "contourcarpet": [
           {
            "colorbar": {
             "outlinewidth": 0,
             "tickcolor": "rgb(237,237,237)",
             "ticklen": 6,
             "ticks": "inside"
            },
            "type": "contourcarpet"
           }
          ],
          "heatmap": [
           {
            "colorbar": {
             "outlinewidth": 0,
             "tickcolor": "rgb(237,237,237)",
             "ticklen": 6,
             "ticks": "inside"
            },
            "colorscale": [
             [
              0,
              "rgb(20,44,66)"
             ],
             [
              1,
              "rgb(90,179,244)"
             ]
            ],
            "type": "heatmap"
           }
          ],
          "heatmapgl": [
           {
            "colorbar": {
             "outlinewidth": 0,
             "tickcolor": "rgb(237,237,237)",
             "ticklen": 6,
             "ticks": "inside"
            },
            "colorscale": [
             [
              0,
              "rgb(20,44,66)"
             ],
             [
              1,
              "rgb(90,179,244)"
             ]
            ],
            "type": "heatmapgl"
           }
          ],
          "histogram": [
           {
            "marker": {
             "pattern": {
              "fillmode": "overlay",
              "size": 10,
              "solidity": 0.2
             }
            },
            "type": "histogram"
           }
          ],
          "histogram2d": [
           {
            "colorbar": {
             "outlinewidth": 0,
             "tickcolor": "rgb(237,237,237)",
             "ticklen": 6,
             "ticks": "inside"
            },
            "colorscale": [
             [
              0,
              "rgb(20,44,66)"
             ],
             [
              1,
              "rgb(90,179,244)"
             ]
            ],
            "type": "histogram2d"
           }
          ],
          "histogram2dcontour": [
           {
            "colorbar": {
             "outlinewidth": 0,
             "tickcolor": "rgb(237,237,237)",
             "ticklen": 6,
             "ticks": "inside"
            },
            "colorscale": [
             [
              0,
              "rgb(20,44,66)"
             ],
             [
              1,
              "rgb(90,179,244)"
             ]
            ],
            "type": "histogram2dcontour"
           }
          ],
          "mesh3d": [
           {
            "colorbar": {
             "outlinewidth": 0,
             "tickcolor": "rgb(237,237,237)",
             "ticklen": 6,
             "ticks": "inside"
            },
            "type": "mesh3d"
           }
          ],
          "parcoords": [
           {
            "line": {
             "colorbar": {
              "outlinewidth": 0,
              "tickcolor": "rgb(237,237,237)",
              "ticklen": 6,
              "ticks": "inside"
             }
            },
            "type": "parcoords"
           }
          ],
          "pie": [
           {
            "automargin": true,
            "type": "pie"
           }
          ],
          "scatter": [
           {
            "fillpattern": {
             "fillmode": "overlay",
             "size": 10,
             "solidity": 0.2
            },
            "type": "scatter"
           }
          ],
          "scatter3d": [
           {
            "line": {
             "colorbar": {
              "outlinewidth": 0,
              "tickcolor": "rgb(237,237,237)",
              "ticklen": 6,
              "ticks": "inside"
             }
            },
            "marker": {
             "colorbar": {
              "outlinewidth": 0,
              "tickcolor": "rgb(237,237,237)",
              "ticklen": 6,
              "ticks": "inside"
             }
            },
            "type": "scatter3d"
           }
          ],
          "scattercarpet": [
           {
            "marker": {
             "colorbar": {
              "outlinewidth": 0,
              "tickcolor": "rgb(237,237,237)",
              "ticklen": 6,
              "ticks": "inside"
             }
            },
            "type": "scattercarpet"
           }
          ],
          "scattergeo": [
           {
            "marker": {
             "colorbar": {
              "outlinewidth": 0,
              "tickcolor": "rgb(237,237,237)",
              "ticklen": 6,
              "ticks": "inside"
             }
            },
            "type": "scattergeo"
           }
          ],
          "scattergl": [
           {
            "marker": {
             "colorbar": {
              "outlinewidth": 0,
              "tickcolor": "rgb(237,237,237)",
              "ticklen": 6,
              "ticks": "inside"
             }
            },
            "type": "scattergl"
           }
          ],
          "scattermapbox": [
           {
            "marker": {
             "colorbar": {
              "outlinewidth": 0,
              "tickcolor": "rgb(237,237,237)",
              "ticklen": 6,
              "ticks": "inside"
             }
            },
            "type": "scattermapbox"
           }
          ],
          "scatterpolar": [
           {
            "marker": {
             "colorbar": {
              "outlinewidth": 0,
              "tickcolor": "rgb(237,237,237)",
              "ticklen": 6,
              "ticks": "inside"
             }
            },
            "type": "scatterpolar"
           }
          ],
          "scatterpolargl": [
           {
            "marker": {
             "colorbar": {
              "outlinewidth": 0,
              "tickcolor": "rgb(237,237,237)",
              "ticklen": 6,
              "ticks": "inside"
             }
            },
            "type": "scatterpolargl"
           }
          ],
          "scatterternary": [
           {
            "marker": {
             "colorbar": {
              "outlinewidth": 0,
              "tickcolor": "rgb(237,237,237)",
              "ticklen": 6,
              "ticks": "inside"
             }
            },
            "type": "scatterternary"
           }
          ],
          "surface": [
           {
            "colorbar": {
             "outlinewidth": 0,
             "tickcolor": "rgb(237,237,237)",
             "ticklen": 6,
             "ticks": "inside"
            },
            "colorscale": [
             [
              0,
              "rgb(20,44,66)"
             ],
             [
              1,
              "rgb(90,179,244)"
             ]
            ],
            "type": "surface"
           }
          ],
          "table": [
           {
            "cells": {
             "fill": {
              "color": "rgb(237,237,237)"
             },
             "line": {
              "color": "white"
             }
            },
            "header": {
             "fill": {
              "color": "rgb(217,217,217)"
             },
             "line": {
              "color": "white"
             }
            },
            "type": "table"
           }
          ]
         },
         "layout": {
          "annotationdefaults": {
           "arrowhead": 0,
           "arrowwidth": 1
          },
          "autotypenumbers": "strict",
          "coloraxis": {
           "colorbar": {
            "outlinewidth": 0,
            "tickcolor": "rgb(237,237,237)",
            "ticklen": 6,
            "ticks": "inside"
           }
          },
          "colorscale": {
           "sequential": [
            [
             0,
             "rgb(20,44,66)"
            ],
            [
             1,
             "rgb(90,179,244)"
            ]
           ],
           "sequentialminus": [
            [
             0,
             "rgb(20,44,66)"
            ],
            [
             1,
             "rgb(90,179,244)"
            ]
           ]
          },
          "colorway": [
           "#F8766D",
           "#A3A500",
           "#00BF7D",
           "#00B0F6",
           "#E76BF3"
          ],
          "font": {
           "color": "rgb(51,51,51)"
          },
          "geo": {
           "bgcolor": "white",
           "lakecolor": "white",
           "landcolor": "rgb(237,237,237)",
           "showlakes": true,
           "showland": true,
           "subunitcolor": "white"
          },
          "hoverlabel": {
           "align": "left"
          },
          "hovermode": "closest",
          "paper_bgcolor": "white",
          "plot_bgcolor": "rgb(237,237,237)",
          "polar": {
           "angularaxis": {
            "gridcolor": "white",
            "linecolor": "white",
            "showgrid": true,
            "tickcolor": "rgb(51,51,51)",
            "ticks": "outside"
           },
           "bgcolor": "rgb(237,237,237)",
           "radialaxis": {
            "gridcolor": "white",
            "linecolor": "white",
            "showgrid": true,
            "tickcolor": "rgb(51,51,51)",
            "ticks": "outside"
           }
          },
          "scene": {
           "xaxis": {
            "backgroundcolor": "rgb(237,237,237)",
            "gridcolor": "white",
            "gridwidth": 2,
            "linecolor": "white",
            "showbackground": true,
            "showgrid": true,
            "tickcolor": "rgb(51,51,51)",
            "ticks": "outside",
            "zerolinecolor": "white"
           },
           "yaxis": {
            "backgroundcolor": "rgb(237,237,237)",
            "gridcolor": "white",
            "gridwidth": 2,
            "linecolor": "white",
            "showbackground": true,
            "showgrid": true,
            "tickcolor": "rgb(51,51,51)",
            "ticks": "outside",
            "zerolinecolor": "white"
           },
           "zaxis": {
            "backgroundcolor": "rgb(237,237,237)",
            "gridcolor": "white",
            "gridwidth": 2,
            "linecolor": "white",
            "showbackground": true,
            "showgrid": true,
            "tickcolor": "rgb(51,51,51)",
            "ticks": "outside",
            "zerolinecolor": "white"
           }
          },
          "shapedefaults": {
           "fillcolor": "black",
           "line": {
            "width": 0
           },
           "opacity": 0.3
          },
          "ternary": {
           "aaxis": {
            "gridcolor": "white",
            "linecolor": "white",
            "showgrid": true,
            "tickcolor": "rgb(51,51,51)",
            "ticks": "outside"
           },
           "baxis": {
            "gridcolor": "white",
            "linecolor": "white",
            "showgrid": true,
            "tickcolor": "rgb(51,51,51)",
            "ticks": "outside"
           },
           "bgcolor": "rgb(237,237,237)",
           "caxis": {
            "gridcolor": "white",
            "linecolor": "white",
            "showgrid": true,
            "tickcolor": "rgb(51,51,51)",
            "ticks": "outside"
           }
          },
          "xaxis": {
           "automargin": true,
           "gridcolor": "white",
           "linecolor": "white",
           "showgrid": true,
           "tickcolor": "rgb(51,51,51)",
           "ticks": "outside",
           "title": {
            "standoff": 15
           },
           "zerolinecolor": "white"
          },
          "yaxis": {
           "automargin": true,
           "gridcolor": "white",
           "linecolor": "white",
           "showgrid": true,
           "tickcolor": "rgb(51,51,51)",
           "ticks": "outside",
           "title": {
            "standoff": 15
           },
           "zerolinecolor": "white"
          }
         }
        },
        "title": {
         "text": ""
        },
        "xaxis": {
         "anchor": "y",
         "domain": [
          0,
          1
         ],
         "tickfont": {
          "size": 16
         },
         "title": {
          "text": "Minimum degree for selected genes"
         }
        },
        "yaxis": {
         "anchor": "x",
         "domain": [
          0,
          1
         ],
         "tickfont": {
          "size": 16
         },
         "tickmode": "linear",
         "title": {
          "text": "Number of communities"
         }
        }
       }
      },
      "text/html": [
       "<div>                            <div id=\"1bdb13d4-679f-437c-a610-5fad2d6d9567\" class=\"plotly-graph-div\" style=\"height:600px; width:100%;\"></div>            <script type=\"text/javascript\">                require([\"plotly\"], function(Plotly) {                    window.PLOTLYENV=window.PLOTLYENV || {};                                    if (document.getElementById(\"1bdb13d4-679f-437c-a610-5fad2d6d9567\")) {                    Plotly.newPlot(                        \"1bdb13d4-679f-437c-a610-5fad2d6d9567\",                        [{\"error_y\":{\"array\":[0.5544433311055402,0.5544433311055402,0.5544433311055402,0.5544433311055402,0.5544433311055402,0.5544433311055402,0.5544433311055402,0.5544433311055402,0.5544433311055402,0.5544433311055402,0.9486832980505133,0.9486832980505133,0.9486832980505133,0.9486832980505133,0.9486832980505133,0.9486832980505133,0.9486832980505133,0.9486832980505133,0.9486832980505133,0.9486832980505133,1.201336704068934,1.201336704068934,1.201336704068934,1.201336704068934,1.201336704068934,1.201336704068934,1.201336704068934,1.201336704068934,1.201336704068934,1.201336704068934,0.9401864800580518,0.9401864800580518,0.9401864800580518,0.9401864800580518,0.9401864800580518,0.9401864800580518,0.9401864800580518,0.9401864800580518,0.9401864800580518,0.9401864800580518,1.4058958744788124,1.4058958744788124,1.4058958744788124,1.4058958744788124,1.4058958744788124,1.4058958744788124,1.4058958744788124,1.4058958744788124,1.4058958744788124,1.4058958744788124,0.916919157145678,0.916919157145678,0.916919157145678,0.916919157145678,0.916919157145678,0.916919157145678,0.916919157145678,0.916919157145678,0.916919157145678,0.916919157145678,0.9743627230397226,0.9743627230397226,0.9743627230397226,0.9743627230397226,0.9743627230397226,0.9743627230397226,0.9743627230397226,0.9743627230397226,0.9743627230397226,0.9743627230397226,1.3498971154211057,1.3498971154211057,1.3498971154211057,1.3498971154211057,1.3498971154211057,1.3498971154211057,1.3498971154211057,1.3498971154211057,1.3498971154211057,1.3498971154211057,1.4094040418156963,1.4094040418156963,1.4094040418156963,1.4094040418156963,1.4094040418156963,1.4094040418156963,1.4094040418156963,1.4094040418156963,1.4094040418156963,1.4094040418156963,1.6162752485305045,1.6162752485305045,1.6162752485305045,1.6162752485305045,1.6162752485305045,1.6162752485305045,1.6162752485305045,1.6162752485305045,1.6162752485305045,1.6162752485305045],\"width\":5},\"hovertemplate\":\"Type=Control\\u003cbr\\u003eTF=%{x}\\u003cbr\\u003eModNum_mean=%{y}\\u003cextra\\u003e\\u003c\\u002fextra\\u003e\",\"legendgroup\":\"Control\",\"line\":{\"color\":\"#DC3912\",\"dash\":\"solid\",\"width\":5},\"marker\":{\"symbol\":\"circle\",\"size\":12},\"mode\":\"lines+markers\",\"name\":\"Control\",\"orientation\":\"v\",\"showlegend\":true,\"x\":[\"3\",\"3\",\"3\",\"3\",\"3\",\"3\",\"3\",\"3\",\"3\",\"3\",\"4\",\"4\",\"4\",\"4\",\"4\",\"4\",\"4\",\"4\",\"4\",\"4\",\"5\",\"5\",\"5\",\"5\",\"5\",\"5\",\"5\",\"5\",\"5\",\"5\",\"6\",\"6\",\"6\",\"6\",\"6\",\"6\",\"6\",\"6\",\"6\",\"6\",\"7\",\"7\",\"7\",\"7\",\"7\",\"7\",\"7\",\"7\",\"7\",\"7\",\"8\",\"8\",\"8\",\"8\",\"8\",\"8\",\"8\",\"8\",\"8\",\"8\",\"9\",\"9\",\"9\",\"9\",\"9\",\"9\",\"9\",\"9\",\"9\",\"9\",\"10\",\"10\",\"10\",\"10\",\"10\",\"10\",\"10\",\"10\",\"10\",\"10\",\"11\",\"11\",\"11\",\"11\",\"11\",\"11\",\"11\",\"11\",\"11\",\"11\",\"12\",\"12\",\"12\",\"12\",\"12\",\"12\",\"12\",\"12\",\"12\",\"12\"],\"xaxis\":\"x\",\"y\":[27.366666666666664,27.366666666666664,27.366666666666664,27.366666666666664,27.366666666666664,27.366666666666664,27.366666666666664,27.366666666666664,27.366666666666664,27.366666666666664,26.03333333333333,26.03333333333333,26.03333333333333,26.03333333333333,26.03333333333333,26.03333333333333,26.03333333333333,26.03333333333333,26.03333333333333,26.03333333333333,26.3,26.3,26.3,26.3,26.3,26.3,26.3,26.3,26.3,26.3,25.4,25.4,25.4,25.4,25.4,25.4,25.4,25.4,25.4,25.4,24.76666666666667,24.76666666666667,24.76666666666667,24.76666666666667,24.76666666666667,24.76666666666667,24.76666666666667,24.76666666666667,24.76666666666667,24.76666666666667,24.233333333333334,24.233333333333334,24.233333333333334,24.233333333333334,24.233333333333334,24.233333333333334,24.233333333333334,24.233333333333334,24.233333333333334,24.233333333333334,23.633333333333333,23.633333333333333,23.633333333333333,23.633333333333333,23.633333333333333,23.633333333333333,23.633333333333333,23.633333333333333,23.633333333333333,23.633333333333333,23.6,23.6,23.6,23.6,23.6,23.6,23.6,23.6,23.6,23.6,22.96666666666667,22.96666666666667,22.96666666666667,22.96666666666667,22.96666666666667,22.96666666666667,22.96666666666667,22.96666666666667,22.96666666666667,22.96666666666667,23.06666666666667,23.06666666666667,23.06666666666667,23.06666666666667,23.06666666666667,23.06666666666667,23.06666666666667,23.06666666666667,23.06666666666667,23.06666666666667],\"yaxis\":\"y\",\"type\":\"scatter\"},{\"error_y\":{\"array\":[null,null,null,null,null,null,null,null,null,null],\"width\":5},\"hovertemplate\":\"Type=Experiment\\u003cbr\\u003eTF=%{x}\\u003cbr\\u003eModNum_mean=%{y}\\u003cextra\\u003e\\u003c\\u002fextra\\u003e\",\"legendgroup\":\"Experiment\",\"line\":{\"color\":\"#3366CC\",\"dash\":\"solid\",\"width\":5},\"marker\":{\"symbol\":\"circle\",\"size\":12},\"mode\":\"lines+markers\",\"name\":\"Experiment\",\"orientation\":\"v\",\"showlegend\":true,\"x\":[\"3\",\"4\",\"5\",\"6\",\"7\",\"8\",\"9\",\"10\",\"11\",\"12\"],\"xaxis\":\"x\",\"y\":[27.333333333333332,25.666666666666668,25.666666666666668,25.666666666666668,25.333333333333332,25.666666666666668,24.666666666666668,23.666666666666668,23.666666666666668,23.333333333333332],\"yaxis\":\"y\",\"type\":\"scatter\"}],                        {\"template\":{\"data\":{\"histogram2dcontour\":[{\"type\":\"histogram2dcontour\",\"colorbar\":{\"outlinewidth\":0,\"tickcolor\":\"rgb(237,237,237)\",\"ticklen\":6,\"ticks\":\"inside\"},\"colorscale\":[[0,\"rgb(20,44,66)\"],[1,\"rgb(90,179,244)\"]]}],\"choropleth\":[{\"type\":\"choropleth\",\"colorbar\":{\"outlinewidth\":0,\"tickcolor\":\"rgb(237,237,237)\",\"ticklen\":6,\"ticks\":\"inside\"}}],\"histogram2d\":[{\"type\":\"histogram2d\",\"colorbar\":{\"outlinewidth\":0,\"tickcolor\":\"rgb(237,237,237)\",\"ticklen\":6,\"ticks\":\"inside\"},\"colorscale\":[[0,\"rgb(20,44,66)\"],[1,\"rgb(90,179,244)\"]]}],\"heatmap\":[{\"type\":\"heatmap\",\"colorbar\":{\"outlinewidth\":0,\"tickcolor\":\"rgb(237,237,237)\",\"ticklen\":6,\"ticks\":\"inside\"},\"colorscale\":[[0,\"rgb(20,44,66)\"],[1,\"rgb(90,179,244)\"]]}],\"heatmapgl\":[{\"type\":\"heatmapgl\",\"colorbar\":{\"outlinewidth\":0,\"tickcolor\":\"rgb(237,237,237)\",\"ticklen\":6,\"ticks\":\"inside\"},\"colorscale\":[[0,\"rgb(20,44,66)\"],[1,\"rgb(90,179,244)\"]]}],\"contourcarpet\":[{\"type\":\"contourcarpet\",\"colorbar\":{\"outlinewidth\":0,\"tickcolor\":\"rgb(237,237,237)\",\"ticklen\":6,\"ticks\":\"inside\"}}],\"contour\":[{\"type\":\"contour\",\"colorbar\":{\"outlinewidth\":0,\"tickcolor\":\"rgb(237,237,237)\",\"ticklen\":6,\"ticks\":\"inside\"},\"colorscale\":[[0,\"rgb(20,44,66)\"],[1,\"rgb(90,179,244)\"]]}],\"surface\":[{\"type\":\"surface\",\"colorbar\":{\"outlinewidth\":0,\"tickcolor\":\"rgb(237,237,237)\",\"ticklen\":6,\"ticks\":\"inside\"},\"colorscale\":[[0,\"rgb(20,44,66)\"],[1,\"rgb(90,179,244)\"]]}],\"mesh3d\":[{\"type\":\"mesh3d\",\"colorbar\":{\"outlinewidth\":0,\"tickcolor\":\"rgb(237,237,237)\",\"ticklen\":6,\"ticks\":\"inside\"}}],\"scatter\":[{\"fillpattern\":{\"fillmode\":\"overlay\",\"size\":10,\"solidity\":0.2},\"type\":\"scatter\"}],\"parcoords\":[{\"type\":\"parcoords\",\"line\":{\"colorbar\":{\"outlinewidth\":0,\"tickcolor\":\"rgb(237,237,237)\",\"ticklen\":6,\"ticks\":\"inside\"}}}],\"scatterpolargl\":[{\"type\":\"scatterpolargl\",\"marker\":{\"colorbar\":{\"outlinewidth\":0,\"tickcolor\":\"rgb(237,237,237)\",\"ticklen\":6,\"ticks\":\"inside\"}}}],\"bar\":[{\"error_x\":{\"color\":\"rgb(51,51,51)\"},\"error_y\":{\"color\":\"rgb(51,51,51)\"},\"marker\":{\"line\":{\"color\":\"rgb(237,237,237)\",\"width\":0.5},\"pattern\":{\"fillmode\":\"overlay\",\"size\":10,\"solidity\":0.2}},\"type\":\"bar\"}],\"scattergeo\":[{\"type\":\"scattergeo\",\"marker\":{\"colorbar\":{\"outlinewidth\":0,\"tickcolor\":\"rgb(237,237,237)\",\"ticklen\":6,\"ticks\":\"inside\"}}}],\"scatterpolar\":[{\"type\":\"scatterpolar\",\"marker\":{\"colorbar\":{\"outlinewidth\":0,\"tickcolor\":\"rgb(237,237,237)\",\"ticklen\":6,\"ticks\":\"inside\"}}}],\"histogram\":[{\"marker\":{\"pattern\":{\"fillmode\":\"overlay\",\"size\":10,\"solidity\":0.2}},\"type\":\"histogram\"}],\"scattergl\":[{\"type\":\"scattergl\",\"marker\":{\"colorbar\":{\"outlinewidth\":0,\"tickcolor\":\"rgb(237,237,237)\",\"ticklen\":6,\"ticks\":\"inside\"}}}],\"scatter3d\":[{\"type\":\"scatter3d\",\"line\":{\"colorbar\":{\"outlinewidth\":0,\"tickcolor\":\"rgb(237,237,237)\",\"ticklen\":6,\"ticks\":\"inside\"}},\"marker\":{\"colorbar\":{\"outlinewidth\":0,\"tickcolor\":\"rgb(237,237,237)\",\"ticklen\":6,\"ticks\":\"inside\"}}}],\"scattermapbox\":[{\"type\":\"scattermapbox\",\"marker\":{\"colorbar\":{\"outlinewidth\":0,\"tickcolor\":\"rgb(237,237,237)\",\"ticklen\":6,\"ticks\":\"inside\"}}}],\"scatterternary\":[{\"type\":\"scatterternary\",\"marker\":{\"colorbar\":{\"outlinewidth\":0,\"tickcolor\":\"rgb(237,237,237)\",\"ticklen\":6,\"ticks\":\"inside\"}}}],\"scattercarpet\":[{\"type\":\"scattercarpet\",\"marker\":{\"colorbar\":{\"outlinewidth\":0,\"tickcolor\":\"rgb(237,237,237)\",\"ticklen\":6,\"ticks\":\"inside\"}}}],\"carpet\":[{\"aaxis\":{\"endlinecolor\":\"rgb(51,51,51)\",\"gridcolor\":\"white\",\"linecolor\":\"white\",\"minorgridcolor\":\"white\",\"startlinecolor\":\"rgb(51,51,51)\"},\"baxis\":{\"endlinecolor\":\"rgb(51,51,51)\",\"gridcolor\":\"white\",\"linecolor\":\"white\",\"minorgridcolor\":\"white\",\"startlinecolor\":\"rgb(51,51,51)\"},\"type\":\"carpet\"}],\"table\":[{\"cells\":{\"fill\":{\"color\":\"rgb(237,237,237)\"},\"line\":{\"color\":\"white\"}},\"header\":{\"fill\":{\"color\":\"rgb(217,217,217)\"},\"line\":{\"color\":\"white\"}},\"type\":\"table\"}],\"barpolar\":[{\"marker\":{\"line\":{\"color\":\"rgb(237,237,237)\",\"width\":0.5},\"pattern\":{\"fillmode\":\"overlay\",\"size\":10,\"solidity\":0.2}},\"type\":\"barpolar\"}],\"pie\":[{\"automargin\":true,\"type\":\"pie\"}]},\"layout\":{\"autotypenumbers\":\"strict\",\"colorway\":[\"#F8766D\",\"#A3A500\",\"#00BF7D\",\"#00B0F6\",\"#E76BF3\"],\"font\":{\"color\":\"rgb(51,51,51)\"},\"hovermode\":\"closest\",\"hoverlabel\":{\"align\":\"left\"},\"paper_bgcolor\":\"white\",\"plot_bgcolor\":\"rgb(237,237,237)\",\"polar\":{\"bgcolor\":\"rgb(237,237,237)\",\"angularaxis\":{\"gridcolor\":\"white\",\"linecolor\":\"white\",\"showgrid\":true,\"tickcolor\":\"rgb(51,51,51)\",\"ticks\":\"outside\"},\"radialaxis\":{\"gridcolor\":\"white\",\"linecolor\":\"white\",\"showgrid\":true,\"tickcolor\":\"rgb(51,51,51)\",\"ticks\":\"outside\"}},\"ternary\":{\"bgcolor\":\"rgb(237,237,237)\",\"aaxis\":{\"gridcolor\":\"white\",\"linecolor\":\"white\",\"showgrid\":true,\"tickcolor\":\"rgb(51,51,51)\",\"ticks\":\"outside\"},\"baxis\":{\"gridcolor\":\"white\",\"linecolor\":\"white\",\"showgrid\":true,\"tickcolor\":\"rgb(51,51,51)\",\"ticks\":\"outside\"},\"caxis\":{\"gridcolor\":\"white\",\"linecolor\":\"white\",\"showgrid\":true,\"tickcolor\":\"rgb(51,51,51)\",\"ticks\":\"outside\"}},\"coloraxis\":{\"colorbar\":{\"outlinewidth\":0,\"tickcolor\":\"rgb(237,237,237)\",\"ticklen\":6,\"ticks\":\"inside\"}},\"colorscale\":{\"sequential\":[[0,\"rgb(20,44,66)\"],[1,\"rgb(90,179,244)\"]],\"sequentialminus\":[[0,\"rgb(20,44,66)\"],[1,\"rgb(90,179,244)\"]]},\"xaxis\":{\"gridcolor\":\"white\",\"linecolor\":\"white\",\"showgrid\":true,\"tickcolor\":\"rgb(51,51,51)\",\"ticks\":\"outside\",\"title\":{\"standoff\":15},\"zerolinecolor\":\"white\",\"automargin\":true},\"yaxis\":{\"gridcolor\":\"white\",\"linecolor\":\"white\",\"showgrid\":true,\"tickcolor\":\"rgb(51,51,51)\",\"ticks\":\"outside\",\"title\":{\"standoff\":15},\"zerolinecolor\":\"white\",\"automargin\":true},\"scene\":{\"xaxis\":{\"backgroundcolor\":\"rgb(237,237,237)\",\"gridcolor\":\"white\",\"linecolor\":\"white\",\"showbackground\":true,\"showgrid\":true,\"tickcolor\":\"rgb(51,51,51)\",\"ticks\":\"outside\",\"zerolinecolor\":\"white\",\"gridwidth\":2},\"yaxis\":{\"backgroundcolor\":\"rgb(237,237,237)\",\"gridcolor\":\"white\",\"linecolor\":\"white\",\"showbackground\":true,\"showgrid\":true,\"tickcolor\":\"rgb(51,51,51)\",\"ticks\":\"outside\",\"zerolinecolor\":\"white\",\"gridwidth\":2},\"zaxis\":{\"backgroundcolor\":\"rgb(237,237,237)\",\"gridcolor\":\"white\",\"linecolor\":\"white\",\"showbackground\":true,\"showgrid\":true,\"tickcolor\":\"rgb(51,51,51)\",\"ticks\":\"outside\",\"zerolinecolor\":\"white\",\"gridwidth\":2}},\"shapedefaults\":{\"fillcolor\":\"black\",\"line\":{\"width\":0},\"opacity\":0.3},\"annotationdefaults\":{\"arrowhead\":0,\"arrowwidth\":1},\"geo\":{\"bgcolor\":\"white\",\"landcolor\":\"rgb(237,237,237)\",\"subunitcolor\":\"white\",\"showland\":true,\"showlakes\":true,\"lakecolor\":\"white\"}}},\"xaxis\":{\"anchor\":\"y\",\"domain\":[0.0,1.0],\"title\":{\"text\":\"Minimum degree for selected genes\"},\"tickfont\":{\"size\":16}},\"yaxis\":{\"anchor\":\"x\",\"domain\":[0.0,1.0],\"title\":{\"text\":\"Number of communities\"},\"tickfont\":{\"size\":16},\"tickmode\":\"linear\"},\"legend\":{\"title\":{\"text\":\"Leiden\"},\"tracegroupgap\":0,\"font\":{\"size\":16,\"color\":\"#003366\"},\"orientation\":\"h\",\"yanchor\":\"bottom\",\"y\":0.1,\"xanchor\":\"center\",\"x\":0.15,\"bgcolor\":\"rgba(0,0,0,0)\"},\"title\":{\"text\":\"\"},\"height\":600,\"font\":{\"size\":16}},                        {\"responsive\": true}                    ).then(function(){\n",
       "                            \n",
       "var gd = document.getElementById('1bdb13d4-679f-437c-a610-5fad2d6d9567');\n",
       "var x = new MutationObserver(function (mutations, observer) {{\n",
       "        var display = window.getComputedStyle(gd).display;\n",
       "        if (!display || display === 'none') {{\n",
       "            console.log([gd, 'removed!']);\n",
       "            Plotly.purge(gd);\n",
       "            observer.disconnect();\n",
       "        }}\n",
       "}});\n",
       "\n",
       "// Listen for the removal of the full notebook cells\n",
       "var notebookContainer = gd.closest('#notebook-container');\n",
       "if (notebookContainer) {{\n",
       "    x.observe(notebookContainer, {childList: true});\n",
       "}}\n",
       "\n",
       "// Listen for the clearing of the current output cell\n",
       "var outputEl = gd.closest('.output');\n",
       "if (outputEl) {{\n",
       "    x.observe(outputEl, {childList: true});\n",
       "}}\n",
       "\n",
       "                        })                };                });            </script>        </div>"
      ]
     },
     "metadata": {},
     "output_type": "display_data"
    }
   ],
   "source": [
    "leid_fig = px.line(\n",
    "    top_comb_leiden,\n",
    "    x=\"TF\",\n",
    "    y=\"ModNum_mean\",\n",
    "    error_y=\"ModNum_std\",\n",
    "    markers=True,\n",
    "    color=\"Type\",\n",
    "    height=600,\n",
    "    title=\"Community sizes for the best top Leiden Run.\",\n",
    "    color_discrete_map=color_map,\n",
    ")\n",
    "leid_fig.update_layout(\n",
    "    legend=dict(\n",
    "        orientation=\"h\",\n",
    "        title=\"Leiden\",\n",
    "        yanchor=\"bottom\",\n",
    "        y=0.10,\n",
    "        xanchor=\"center\",\n",
    "        x=0.15,\n",
    "        bgcolor=\"rgba(0,0,0,0)\",\n",
    "        font=dict(size=16, color=\"#003366\"),\n",
    "    ),\n",
    "    title=\"\",\n",
    "    xaxis=dict(\n",
    "        tickfont=dict(size=16),\n",
    "        title=\"Minimum degree for selected genes\",\n",
    "    ),\n",
    "    yaxis=dict(\n",
    "        tickfont=dict(size=16),\n",
    "        tickmode=\"linear\",\n",
    "        title=\"Number of communities\",\n",
    "    ),\n",
    "    font=dict(size=16),\n",
    ")\n",
    "leid_fig.update_traces(line_width=5, marker_size=12, error_y=dict(width=5))\n",
    "leid_fig.show()\n",
    "save_fig(name=\"leid_comNum_sel_prun\", fig=leid_fig, base_path=figures_path, width=1400, height=700)"
   ]
  },
  {
   "cell_type": "markdown",
   "metadata": {},
   "source": [
    "## SBM - Community size"
   ]
  },
  {
   "cell_type": "code",
   "execution_count": 59,
   "metadata": {},
   "outputs": [],
   "source": [
    "ctrl_sizes, h_sizes = [], []\n",
    "for key, val in t_exps.items():\n",
    "    results_df, _ = val.hsbm_get_gt_df()\n",
    "    tf = NetworkOutput.extract_tf_number(key)\n",
    "    h_sizes.append(((tf, \"Experiment\", len(results_df[\"max_b\"].unique()))))\n",
    "    for idx in range(1, 10, 1):\n",
    "        control_res, _ = ctrl_exps[idx][\"exps\"][key].hsbm_get_gt_df()\n",
    "        ctrl_sizes.append(((tf, \"hCtrl{}\".format(idx), len(control_res[\"max_b\"].unique()))))\n",
    "\n",
    "ctrl_sizes = pd.DataFrame(ctrl_sizes, columns=[\"TF\", \"Type\", \"Com_size\"])\n",
    "ctrl_sizes[\"Type\"] = \"Control\"\n",
    "h_sizes = pd.DataFrame(h_sizes, columns=[\"TF\", \"Type\", \"Com_size\"])"
   ]
  },
  {
   "cell_type": "code",
   "execution_count": 60,
   "metadata": {},
   "outputs": [],
   "source": [
    "for tf in ctrl_sizes[\"TF\"].unique():\n",
    "    sel_df = ctrl_sizes[(ctrl_sizes[\"TF\"] == tf)]\n",
    "    sel_df_exp = h_sizes[h_sizes[\"TF\"] == tf]\n",
    "\n",
    "    ctrl_sizes.loc[ctrl_sizes[\"TF\"] == tf, \"Size_median\"] = sel_df[\"Com_size\"].median(axis=0)\n",
    "    ctrl_sizes.loc[ctrl_sizes[\"TF\"] == tf, \"Size_mean\"] = sel_df[\"Com_size\"].mean(axis=0)\n",
    "    ctrl_sizes.loc[ctrl_sizes[\"TF\"] == tf, \"Size_std\"] = sel_df[\"Com_size\"].std(axis=0)\n",
    "\n",
    "    h_sizes.loc[h_sizes[\"TF\"] == tf, \"Size_median\"] = sel_df_exp[\"Com_size\"].median(axis=0)\n",
    "    h_sizes.loc[h_sizes[\"TF\"] == tf, \"Size_mean\"] = sel_df_exp[\"Com_size\"].mean(axis=0)\n",
    "    h_sizes.loc[h_sizes[\"TF\"] == tf, \"Size_std\"] = 0\n",
    "\n",
    "comb_df = pd.concat([ctrl_sizes, h_sizes], axis=0)"
   ]
  },
  {
   "cell_type": "code",
   "execution_count": 78,
   "metadata": {},
   "outputs": [
    {
     "data": {
      "application/vnd.plotly.v1+json": {
       "config": {
        "plotlyServerURL": "https://plot.ly"
       },
       "data": [
        {
         "error_y": {
          "array": [
           1.8104634152000358,
           1.8104634152000358,
           1.8104634152000358,
           1.8104634152000358,
           1.8104634152000358,
           1.8104634152000358,
           1.8104634152000358,
           1.8104634152000358,
           1.8104634152000358,
           1.6666666666666665,
           1.6666666666666665,
           1.6666666666666665,
           1.6666666666666665,
           1.6666666666666665,
           1.6666666666666665,
           1.6666666666666665,
           1.6666666666666665,
           1.6666666666666665,
           1.5811388300841898,
           1.5811388300841898,
           1.5811388300841898,
           1.5811388300841898,
           1.5811388300841898,
           1.5811388300841898,
           1.5811388300841898,
           1.5811388300841898,
           1.5811388300841898,
           1.563471919941143,
           1.563471919941143,
           1.563471919941143,
           1.563471919941143,
           1.563471919941143,
           1.563471919941143,
           1.563471919941143,
           1.563471919941143,
           1.563471919941143,
           1.224744871391589,
           1.224744871391589,
           1.224744871391589,
           1.224744871391589,
           1.224744871391589,
           1.224744871391589,
           1.224744871391589,
           1.224744871391589,
           1.224744871391589,
           2.0069324297987157,
           2.0069324297987157,
           2.0069324297987157,
           2.0069324297987157,
           2.0069324297987157,
           2.0069324297987157,
           2.0069324297987157,
           2.0069324297987157,
           2.0069324297987157,
           1.7159383568311666,
           1.7159383568311666,
           1.7159383568311666,
           1.7159383568311666,
           1.7159383568311666,
           1.7159383568311666,
           1.7159383568311666,
           1.7159383568311666,
           1.7159383568311666,
           1.224744871391589,
           1.224744871391589,
           1.224744871391589,
           1.224744871391589,
           1.224744871391589,
           1.224744871391589,
           1.224744871391589,
           1.224744871391589,
           1.224744871391589,
           2.692582403567252,
           2.692582403567252,
           2.692582403567252,
           2.692582403567252,
           2.692582403567252,
           2.692582403567252,
           2.692582403567252,
           2.692582403567252,
           2.692582403567252,
           1.0929064207170003,
           1.0929064207170003,
           1.0929064207170003,
           1.0929064207170003,
           1.0929064207170003,
           1.0929064207170003,
           1.0929064207170003,
           1.0929064207170003,
           1.0929064207170003
          ],
          "width": 5
         },
         "hovertemplate": "Type=Control<br>TF=%{x}<br>Size_mean=%{y}<extra></extra>",
         "legendgroup": "Control",
         "line": {
          "color": "#DC3912",
          "dash": "solid",
          "width": 5
         },
         "marker": {
          "size": 12,
          "symbol": "circle"
         },
         "mode": "lines+markers",
         "name": "Control",
         "orientation": "v",
         "showlegend": true,
         "type": "scatter",
         "x": [
          3,
          3,
          3,
          3,
          3,
          3,
          3,
          3,
          3,
          4,
          4,
          4,
          4,
          4,
          4,
          4,
          4,
          4,
          5,
          5,
          5,
          5,
          5,
          5,
          5,
          5,
          5,
          6,
          6,
          6,
          6,
          6,
          6,
          6,
          6,
          6,
          7,
          7,
          7,
          7,
          7,
          7,
          7,
          7,
          7,
          8,
          8,
          8,
          8,
          8,
          8,
          8,
          8,
          8,
          9,
          9,
          9,
          9,
          9,
          9,
          9,
          9,
          9,
          10,
          10,
          10,
          10,
          10,
          10,
          10,
          10,
          10,
          11,
          11,
          11,
          11,
          11,
          11,
          11,
          11,
          11,
          12,
          12,
          12,
          12,
          12,
          12,
          12,
          12,
          12
         ],
         "xaxis": "x",
         "y": [
          39.44444444444444,
          39.44444444444444,
          39.44444444444444,
          39.44444444444444,
          39.44444444444444,
          39.44444444444444,
          39.44444444444444,
          39.44444444444444,
          39.44444444444444,
          37.44444444444444,
          37.44444444444444,
          37.44444444444444,
          37.44444444444444,
          37.44444444444444,
          37.44444444444444,
          37.44444444444444,
          37.44444444444444,
          37.44444444444444,
          39.333333333333336,
          39.333333333333336,
          39.333333333333336,
          39.333333333333336,
          39.333333333333336,
          39.333333333333336,
          39.333333333333336,
          39.333333333333336,
          39.333333333333336,
          39.22222222222222,
          39.22222222222222,
          39.22222222222222,
          39.22222222222222,
          39.22222222222222,
          39.22222222222222,
          39.22222222222222,
          39.22222222222222,
          39.22222222222222,
          41,
          41,
          41,
          41,
          41,
          41,
          41,
          41,
          41,
          41.44444444444444,
          41.44444444444444,
          41.44444444444444,
          41.44444444444444,
          41.44444444444444,
          41.44444444444444,
          41.44444444444444,
          41.44444444444444,
          41.44444444444444,
          42.22222222222222,
          42.22222222222222,
          42.22222222222222,
          42.22222222222222,
          42.22222222222222,
          42.22222222222222,
          42.22222222222222,
          42.22222222222222,
          42.22222222222222,
          42,
          42,
          42,
          42,
          42,
          42,
          42,
          42,
          42,
          43.333333333333336,
          43.333333333333336,
          43.333333333333336,
          43.333333333333336,
          43.333333333333336,
          43.333333333333336,
          43.333333333333336,
          43.333333333333336,
          43.333333333333336,
          43.77777777777778,
          43.77777777777778,
          43.77777777777778,
          43.77777777777778,
          43.77777777777778,
          43.77777777777778,
          43.77777777777778,
          43.77777777777778,
          43.77777777777778
         ],
         "yaxis": "y"
        },
        {
         "error_y": {
          "array": [
           0,
           0,
           0,
           0,
           0,
           0,
           0,
           0,
           0,
           0
          ],
          "width": 5
         },
         "hovertemplate": "Type=Experiment<br>TF=%{x}<br>Size_mean=%{y}<extra></extra>",
         "legendgroup": "Experiment",
         "line": {
          "color": "#3366CC",
          "dash": "solid",
          "width": 5
         },
         "marker": {
          "size": 12,
          "symbol": "circle"
         },
         "mode": "lines+markers",
         "name": "Experiment",
         "orientation": "v",
         "showlegend": true,
         "type": "scatter",
         "x": [
          3,
          4,
          5,
          6,
          7,
          8,
          9,
          10,
          11,
          12
         ],
         "xaxis": "x",
         "y": [
          39,
          42,
          42,
          40,
          38,
          43,
          42,
          44,
          42,
          44
         ],
         "yaxis": "y"
        }
       ],
       "layout": {
        "font": {
         "size": 16
        },
        "height": 600,
        "legend": {
         "bgcolor": "rgba(0,0,0,0)",
         "font": {
          "color": "#003366",
          "size": 16
         },
         "orientation": "h",
         "title": {
          "text": "Type"
         },
         "tracegroupgap": 0,
         "x": 0.15,
         "xanchor": "center",
         "y": 0.8,
         "yanchor": "bottom"
        },
        "template": {
         "data": {
          "bar": [
           {
            "error_x": {
             "color": "rgb(51,51,51)"
            },
            "error_y": {
             "color": "rgb(51,51,51)"
            },
            "marker": {
             "line": {
              "color": "rgb(237,237,237)",
              "width": 0.5
             },
             "pattern": {
              "fillmode": "overlay",
              "size": 10,
              "solidity": 0.2
             }
            },
            "type": "bar"
           }
          ],
          "barpolar": [
           {
            "marker": {
             "line": {
              "color": "rgb(237,237,237)",
              "width": 0.5
             },
             "pattern": {
              "fillmode": "overlay",
              "size": 10,
              "solidity": 0.2
             }
            },
            "type": "barpolar"
           }
          ],
          "carpet": [
           {
            "aaxis": {
             "endlinecolor": "rgb(51,51,51)",
             "gridcolor": "white",
             "linecolor": "white",
             "minorgridcolor": "white",
             "startlinecolor": "rgb(51,51,51)"
            },
            "baxis": {
             "endlinecolor": "rgb(51,51,51)",
             "gridcolor": "white",
             "linecolor": "white",
             "minorgridcolor": "white",
             "startlinecolor": "rgb(51,51,51)"
            },
            "type": "carpet"
           }
          ],
          "choropleth": [
           {
            "colorbar": {
             "outlinewidth": 0,
             "tickcolor": "rgb(237,237,237)",
             "ticklen": 6,
             "ticks": "inside"
            },
            "type": "choropleth"
           }
          ],
          "contour": [
           {
            "colorbar": {
             "outlinewidth": 0,
             "tickcolor": "rgb(237,237,237)",
             "ticklen": 6,
             "ticks": "inside"
            },
            "colorscale": [
             [
              0,
              "rgb(20,44,66)"
             ],
             [
              1,
              "rgb(90,179,244)"
             ]
            ],
            "type": "contour"
           }
          ],
          "contourcarpet": [
           {
            "colorbar": {
             "outlinewidth": 0,
             "tickcolor": "rgb(237,237,237)",
             "ticklen": 6,
             "ticks": "inside"
            },
            "type": "contourcarpet"
           }
          ],
          "heatmap": [
           {
            "colorbar": {
             "outlinewidth": 0,
             "tickcolor": "rgb(237,237,237)",
             "ticklen": 6,
             "ticks": "inside"
            },
            "colorscale": [
             [
              0,
              "rgb(20,44,66)"
             ],
             [
              1,
              "rgb(90,179,244)"
             ]
            ],
            "type": "heatmap"
           }
          ],
          "heatmapgl": [
           {
            "colorbar": {
             "outlinewidth": 0,
             "tickcolor": "rgb(237,237,237)",
             "ticklen": 6,
             "ticks": "inside"
            },
            "colorscale": [
             [
              0,
              "rgb(20,44,66)"
             ],
             [
              1,
              "rgb(90,179,244)"
             ]
            ],
            "type": "heatmapgl"
           }
          ],
          "histogram": [
           {
            "marker": {
             "pattern": {
              "fillmode": "overlay",
              "size": 10,
              "solidity": 0.2
             }
            },
            "type": "histogram"
           }
          ],
          "histogram2d": [
           {
            "colorbar": {
             "outlinewidth": 0,
             "tickcolor": "rgb(237,237,237)",
             "ticklen": 6,
             "ticks": "inside"
            },
            "colorscale": [
             [
              0,
              "rgb(20,44,66)"
             ],
             [
              1,
              "rgb(90,179,244)"
             ]
            ],
            "type": "histogram2d"
           }
          ],
          "histogram2dcontour": [
           {
            "colorbar": {
             "outlinewidth": 0,
             "tickcolor": "rgb(237,237,237)",
             "ticklen": 6,
             "ticks": "inside"
            },
            "colorscale": [
             [
              0,
              "rgb(20,44,66)"
             ],
             [
              1,
              "rgb(90,179,244)"
             ]
            ],
            "type": "histogram2dcontour"
           }
          ],
          "mesh3d": [
           {
            "colorbar": {
             "outlinewidth": 0,
             "tickcolor": "rgb(237,237,237)",
             "ticklen": 6,
             "ticks": "inside"
            },
            "type": "mesh3d"
           }
          ],
          "parcoords": [
           {
            "line": {
             "colorbar": {
              "outlinewidth": 0,
              "tickcolor": "rgb(237,237,237)",
              "ticklen": 6,
              "ticks": "inside"
             }
            },
            "type": "parcoords"
           }
          ],
          "pie": [
           {
            "automargin": true,
            "type": "pie"
           }
          ],
          "scatter": [
           {
            "fillpattern": {
             "fillmode": "overlay",
             "size": 10,
             "solidity": 0.2
            },
            "type": "scatter"
           }
          ],
          "scatter3d": [
           {
            "line": {
             "colorbar": {
              "outlinewidth": 0,
              "tickcolor": "rgb(237,237,237)",
              "ticklen": 6,
              "ticks": "inside"
             }
            },
            "marker": {
             "colorbar": {
              "outlinewidth": 0,
              "tickcolor": "rgb(237,237,237)",
              "ticklen": 6,
              "ticks": "inside"
             }
            },
            "type": "scatter3d"
           }
          ],
          "scattercarpet": [
           {
            "marker": {
             "colorbar": {
              "outlinewidth": 0,
              "tickcolor": "rgb(237,237,237)",
              "ticklen": 6,
              "ticks": "inside"
             }
            },
            "type": "scattercarpet"
           }
          ],
          "scattergeo": [
           {
            "marker": {
             "colorbar": {
              "outlinewidth": 0,
              "tickcolor": "rgb(237,237,237)",
              "ticklen": 6,
              "ticks": "inside"
             }
            },
            "type": "scattergeo"
           }
          ],
          "scattergl": [
           {
            "marker": {
             "colorbar": {
              "outlinewidth": 0,
              "tickcolor": "rgb(237,237,237)",
              "ticklen": 6,
              "ticks": "inside"
             }
            },
            "type": "scattergl"
           }
          ],
          "scattermapbox": [
           {
            "marker": {
             "colorbar": {
              "outlinewidth": 0,
              "tickcolor": "rgb(237,237,237)",
              "ticklen": 6,
              "ticks": "inside"
             }
            },
            "type": "scattermapbox"
           }
          ],
          "scatterpolar": [
           {
            "marker": {
             "colorbar": {
              "outlinewidth": 0,
              "tickcolor": "rgb(237,237,237)",
              "ticklen": 6,
              "ticks": "inside"
             }
            },
            "type": "scatterpolar"
           }
          ],
          "scatterpolargl": [
           {
            "marker": {
             "colorbar": {
              "outlinewidth": 0,
              "tickcolor": "rgb(237,237,237)",
              "ticklen": 6,
              "ticks": "inside"
             }
            },
            "type": "scatterpolargl"
           }
          ],
          "scatterternary": [
           {
            "marker": {
             "colorbar": {
              "outlinewidth": 0,
              "tickcolor": "rgb(237,237,237)",
              "ticklen": 6,
              "ticks": "inside"
             }
            },
            "type": "scatterternary"
           }
          ],
          "surface": [
           {
            "colorbar": {
             "outlinewidth": 0,
             "tickcolor": "rgb(237,237,237)",
             "ticklen": 6,
             "ticks": "inside"
            },
            "colorscale": [
             [
              0,
              "rgb(20,44,66)"
             ],
             [
              1,
              "rgb(90,179,244)"
             ]
            ],
            "type": "surface"
           }
          ],
          "table": [
           {
            "cells": {
             "fill": {
              "color": "rgb(237,237,237)"
             },
             "line": {
              "color": "white"
             }
            },
            "header": {
             "fill": {
              "color": "rgb(217,217,217)"
             },
             "line": {
              "color": "white"
             }
            },
            "type": "table"
           }
          ]
         },
         "layout": {
          "annotationdefaults": {
           "arrowhead": 0,
           "arrowwidth": 1
          },
          "autotypenumbers": "strict",
          "coloraxis": {
           "colorbar": {
            "outlinewidth": 0,
            "tickcolor": "rgb(237,237,237)",
            "ticklen": 6,
            "ticks": "inside"
           }
          },
          "colorscale": {
           "sequential": [
            [
             0,
             "rgb(20,44,66)"
            ],
            [
             1,
             "rgb(90,179,244)"
            ]
           ],
           "sequentialminus": [
            [
             0,
             "rgb(20,44,66)"
            ],
            [
             1,
             "rgb(90,179,244)"
            ]
           ]
          },
          "colorway": [
           "#F8766D",
           "#A3A500",
           "#00BF7D",
           "#00B0F6",
           "#E76BF3"
          ],
          "font": {
           "color": "rgb(51,51,51)"
          },
          "geo": {
           "bgcolor": "white",
           "lakecolor": "white",
           "landcolor": "rgb(237,237,237)",
           "showlakes": true,
           "showland": true,
           "subunitcolor": "white"
          },
          "hoverlabel": {
           "align": "left"
          },
          "hovermode": "closest",
          "paper_bgcolor": "white",
          "plot_bgcolor": "rgb(237,237,237)",
          "polar": {
           "angularaxis": {
            "gridcolor": "white",
            "linecolor": "white",
            "showgrid": true,
            "tickcolor": "rgb(51,51,51)",
            "ticks": "outside"
           },
           "bgcolor": "rgb(237,237,237)",
           "radialaxis": {
            "gridcolor": "white",
            "linecolor": "white",
            "showgrid": true,
            "tickcolor": "rgb(51,51,51)",
            "ticks": "outside"
           }
          },
          "scene": {
           "xaxis": {
            "backgroundcolor": "rgb(237,237,237)",
            "gridcolor": "white",
            "gridwidth": 2,
            "linecolor": "white",
            "showbackground": true,
            "showgrid": true,
            "tickcolor": "rgb(51,51,51)",
            "ticks": "outside",
            "zerolinecolor": "white"
           },
           "yaxis": {
            "backgroundcolor": "rgb(237,237,237)",
            "gridcolor": "white",
            "gridwidth": 2,
            "linecolor": "white",
            "showbackground": true,
            "showgrid": true,
            "tickcolor": "rgb(51,51,51)",
            "ticks": "outside",
            "zerolinecolor": "white"
           },
           "zaxis": {
            "backgroundcolor": "rgb(237,237,237)",
            "gridcolor": "white",
            "gridwidth": 2,
            "linecolor": "white",
            "showbackground": true,
            "showgrid": true,
            "tickcolor": "rgb(51,51,51)",
            "ticks": "outside",
            "zerolinecolor": "white"
           }
          },
          "shapedefaults": {
           "fillcolor": "black",
           "line": {
            "width": 0
           },
           "opacity": 0.3
          },
          "ternary": {
           "aaxis": {
            "gridcolor": "white",
            "linecolor": "white",
            "showgrid": true,
            "tickcolor": "rgb(51,51,51)",
            "ticks": "outside"
           },
           "baxis": {
            "gridcolor": "white",
            "linecolor": "white",
            "showgrid": true,
            "tickcolor": "rgb(51,51,51)",
            "ticks": "outside"
           },
           "bgcolor": "rgb(237,237,237)",
           "caxis": {
            "gridcolor": "white",
            "linecolor": "white",
            "showgrid": true,
            "tickcolor": "rgb(51,51,51)",
            "ticks": "outside"
           }
          },
          "xaxis": {
           "automargin": true,
           "gridcolor": "white",
           "linecolor": "white",
           "showgrid": true,
           "tickcolor": "rgb(51,51,51)",
           "ticks": "outside",
           "title": {
            "standoff": 15
           },
           "zerolinecolor": "white"
          },
          "yaxis": {
           "automargin": true,
           "gridcolor": "white",
           "linecolor": "white",
           "showgrid": true,
           "tickcolor": "rgb(51,51,51)",
           "ticks": "outside",
           "title": {
            "standoff": 15
           },
           "zerolinecolor": "white"
          }
         }
        },
        "title": {
         "text": ""
        },
        "xaxis": {
         "anchor": "y",
         "domain": [
          0,
          1
         ],
         "tickfont": {
          "size": 16
         },
         "title": {
          "text": "Minimum degree for selected genes"
         }
        },
        "yaxis": {
         "anchor": "x",
         "domain": [
          0,
          1
         ],
         "tickfont": {
          "size": 16
         },
         "tickmode": "linear",
         "title": {
          "text": "Number of communities"
         }
        }
       }
      },
      "text/html": [
       "<div>                            <div id=\"2fe5d9da-0178-4269-b194-0c414a8ab15a\" class=\"plotly-graph-div\" style=\"height:600px; width:100%;\"></div>            <script type=\"text/javascript\">                require([\"plotly\"], function(Plotly) {                    window.PLOTLYENV=window.PLOTLYENV || {};                                    if (document.getElementById(\"2fe5d9da-0178-4269-b194-0c414a8ab15a\")) {                    Plotly.newPlot(                        \"2fe5d9da-0178-4269-b194-0c414a8ab15a\",                        [{\"error_y\":{\"array\":[1.8104634152000358,1.8104634152000358,1.8104634152000358,1.8104634152000358,1.8104634152000358,1.8104634152000358,1.8104634152000358,1.8104634152000358,1.8104634152000358,1.6666666666666665,1.6666666666666665,1.6666666666666665,1.6666666666666665,1.6666666666666665,1.6666666666666665,1.6666666666666665,1.6666666666666665,1.6666666666666665,1.5811388300841898,1.5811388300841898,1.5811388300841898,1.5811388300841898,1.5811388300841898,1.5811388300841898,1.5811388300841898,1.5811388300841898,1.5811388300841898,1.563471919941143,1.563471919941143,1.563471919941143,1.563471919941143,1.563471919941143,1.563471919941143,1.563471919941143,1.563471919941143,1.563471919941143,1.224744871391589,1.224744871391589,1.224744871391589,1.224744871391589,1.224744871391589,1.224744871391589,1.224744871391589,1.224744871391589,1.224744871391589,2.0069324297987157,2.0069324297987157,2.0069324297987157,2.0069324297987157,2.0069324297987157,2.0069324297987157,2.0069324297987157,2.0069324297987157,2.0069324297987157,1.7159383568311666,1.7159383568311666,1.7159383568311666,1.7159383568311666,1.7159383568311666,1.7159383568311666,1.7159383568311666,1.7159383568311666,1.7159383568311666,1.224744871391589,1.224744871391589,1.224744871391589,1.224744871391589,1.224744871391589,1.224744871391589,1.224744871391589,1.224744871391589,1.224744871391589,2.692582403567252,2.692582403567252,2.692582403567252,2.692582403567252,2.692582403567252,2.692582403567252,2.692582403567252,2.692582403567252,2.692582403567252,1.0929064207170003,1.0929064207170003,1.0929064207170003,1.0929064207170003,1.0929064207170003,1.0929064207170003,1.0929064207170003,1.0929064207170003,1.0929064207170003],\"width\":5},\"hovertemplate\":\"Type=Control\\u003cbr\\u003eTF=%{x}\\u003cbr\\u003eSize_mean=%{y}\\u003cextra\\u003e\\u003c\\u002fextra\\u003e\",\"legendgroup\":\"Control\",\"line\":{\"color\":\"#DC3912\",\"dash\":\"solid\",\"width\":5},\"marker\":{\"symbol\":\"circle\",\"size\":12},\"mode\":\"lines+markers\",\"name\":\"Control\",\"orientation\":\"v\",\"showlegend\":true,\"x\":[3,3,3,3,3,3,3,3,3,4,4,4,4,4,4,4,4,4,5,5,5,5,5,5,5,5,5,6,6,6,6,6,6,6,6,6,7,7,7,7,7,7,7,7,7,8,8,8,8,8,8,8,8,8,9,9,9,9,9,9,9,9,9,10,10,10,10,10,10,10,10,10,11,11,11,11,11,11,11,11,11,12,12,12,12,12,12,12,12,12],\"xaxis\":\"x\",\"y\":[39.44444444444444,39.44444444444444,39.44444444444444,39.44444444444444,39.44444444444444,39.44444444444444,39.44444444444444,39.44444444444444,39.44444444444444,37.44444444444444,37.44444444444444,37.44444444444444,37.44444444444444,37.44444444444444,37.44444444444444,37.44444444444444,37.44444444444444,37.44444444444444,39.333333333333336,39.333333333333336,39.333333333333336,39.333333333333336,39.333333333333336,39.333333333333336,39.333333333333336,39.333333333333336,39.333333333333336,39.22222222222222,39.22222222222222,39.22222222222222,39.22222222222222,39.22222222222222,39.22222222222222,39.22222222222222,39.22222222222222,39.22222222222222,41.0,41.0,41.0,41.0,41.0,41.0,41.0,41.0,41.0,41.44444444444444,41.44444444444444,41.44444444444444,41.44444444444444,41.44444444444444,41.44444444444444,41.44444444444444,41.44444444444444,41.44444444444444,42.22222222222222,42.22222222222222,42.22222222222222,42.22222222222222,42.22222222222222,42.22222222222222,42.22222222222222,42.22222222222222,42.22222222222222,42.0,42.0,42.0,42.0,42.0,42.0,42.0,42.0,42.0,43.333333333333336,43.333333333333336,43.333333333333336,43.333333333333336,43.333333333333336,43.333333333333336,43.333333333333336,43.333333333333336,43.333333333333336,43.77777777777778,43.77777777777778,43.77777777777778,43.77777777777778,43.77777777777778,43.77777777777778,43.77777777777778,43.77777777777778,43.77777777777778],\"yaxis\":\"y\",\"type\":\"scatter\"},{\"error_y\":{\"array\":[0.0,0.0,0.0,0.0,0.0,0.0,0.0,0.0,0.0,0.0],\"width\":5},\"hovertemplate\":\"Type=Experiment\\u003cbr\\u003eTF=%{x}\\u003cbr\\u003eSize_mean=%{y}\\u003cextra\\u003e\\u003c\\u002fextra\\u003e\",\"legendgroup\":\"Experiment\",\"line\":{\"color\":\"#3366CC\",\"dash\":\"solid\",\"width\":5},\"marker\":{\"symbol\":\"circle\",\"size\":12},\"mode\":\"lines+markers\",\"name\":\"Experiment\",\"orientation\":\"v\",\"showlegend\":true,\"x\":[3,4,5,6,7,8,9,10,11,12],\"xaxis\":\"x\",\"y\":[39.0,42.0,42.0,40.0,38.0,43.0,42.0,44.0,42.0,44.0],\"yaxis\":\"y\",\"type\":\"scatter\"}],                        {\"template\":{\"data\":{\"histogram2dcontour\":[{\"type\":\"histogram2dcontour\",\"colorbar\":{\"outlinewidth\":0,\"tickcolor\":\"rgb(237,237,237)\",\"ticklen\":6,\"ticks\":\"inside\"},\"colorscale\":[[0,\"rgb(20,44,66)\"],[1,\"rgb(90,179,244)\"]]}],\"choropleth\":[{\"type\":\"choropleth\",\"colorbar\":{\"outlinewidth\":0,\"tickcolor\":\"rgb(237,237,237)\",\"ticklen\":6,\"ticks\":\"inside\"}}],\"histogram2d\":[{\"type\":\"histogram2d\",\"colorbar\":{\"outlinewidth\":0,\"tickcolor\":\"rgb(237,237,237)\",\"ticklen\":6,\"ticks\":\"inside\"},\"colorscale\":[[0,\"rgb(20,44,66)\"],[1,\"rgb(90,179,244)\"]]}],\"heatmap\":[{\"type\":\"heatmap\",\"colorbar\":{\"outlinewidth\":0,\"tickcolor\":\"rgb(237,237,237)\",\"ticklen\":6,\"ticks\":\"inside\"},\"colorscale\":[[0,\"rgb(20,44,66)\"],[1,\"rgb(90,179,244)\"]]}],\"heatmapgl\":[{\"type\":\"heatmapgl\",\"colorbar\":{\"outlinewidth\":0,\"tickcolor\":\"rgb(237,237,237)\",\"ticklen\":6,\"ticks\":\"inside\"},\"colorscale\":[[0,\"rgb(20,44,66)\"],[1,\"rgb(90,179,244)\"]]}],\"contourcarpet\":[{\"type\":\"contourcarpet\",\"colorbar\":{\"outlinewidth\":0,\"tickcolor\":\"rgb(237,237,237)\",\"ticklen\":6,\"ticks\":\"inside\"}}],\"contour\":[{\"type\":\"contour\",\"colorbar\":{\"outlinewidth\":0,\"tickcolor\":\"rgb(237,237,237)\",\"ticklen\":6,\"ticks\":\"inside\"},\"colorscale\":[[0,\"rgb(20,44,66)\"],[1,\"rgb(90,179,244)\"]]}],\"surface\":[{\"type\":\"surface\",\"colorbar\":{\"outlinewidth\":0,\"tickcolor\":\"rgb(237,237,237)\",\"ticklen\":6,\"ticks\":\"inside\"},\"colorscale\":[[0,\"rgb(20,44,66)\"],[1,\"rgb(90,179,244)\"]]}],\"mesh3d\":[{\"type\":\"mesh3d\",\"colorbar\":{\"outlinewidth\":0,\"tickcolor\":\"rgb(237,237,237)\",\"ticklen\":6,\"ticks\":\"inside\"}}],\"scatter\":[{\"fillpattern\":{\"fillmode\":\"overlay\",\"size\":10,\"solidity\":0.2},\"type\":\"scatter\"}],\"parcoords\":[{\"type\":\"parcoords\",\"line\":{\"colorbar\":{\"outlinewidth\":0,\"tickcolor\":\"rgb(237,237,237)\",\"ticklen\":6,\"ticks\":\"inside\"}}}],\"scatterpolargl\":[{\"type\":\"scatterpolargl\",\"marker\":{\"colorbar\":{\"outlinewidth\":0,\"tickcolor\":\"rgb(237,237,237)\",\"ticklen\":6,\"ticks\":\"inside\"}}}],\"bar\":[{\"error_x\":{\"color\":\"rgb(51,51,51)\"},\"error_y\":{\"color\":\"rgb(51,51,51)\"},\"marker\":{\"line\":{\"color\":\"rgb(237,237,237)\",\"width\":0.5},\"pattern\":{\"fillmode\":\"overlay\",\"size\":10,\"solidity\":0.2}},\"type\":\"bar\"}],\"scattergeo\":[{\"type\":\"scattergeo\",\"marker\":{\"colorbar\":{\"outlinewidth\":0,\"tickcolor\":\"rgb(237,237,237)\",\"ticklen\":6,\"ticks\":\"inside\"}}}],\"scatterpolar\":[{\"type\":\"scatterpolar\",\"marker\":{\"colorbar\":{\"outlinewidth\":0,\"tickcolor\":\"rgb(237,237,237)\",\"ticklen\":6,\"ticks\":\"inside\"}}}],\"histogram\":[{\"marker\":{\"pattern\":{\"fillmode\":\"overlay\",\"size\":10,\"solidity\":0.2}},\"type\":\"histogram\"}],\"scattergl\":[{\"type\":\"scattergl\",\"marker\":{\"colorbar\":{\"outlinewidth\":0,\"tickcolor\":\"rgb(237,237,237)\",\"ticklen\":6,\"ticks\":\"inside\"}}}],\"scatter3d\":[{\"type\":\"scatter3d\",\"line\":{\"colorbar\":{\"outlinewidth\":0,\"tickcolor\":\"rgb(237,237,237)\",\"ticklen\":6,\"ticks\":\"inside\"}},\"marker\":{\"colorbar\":{\"outlinewidth\":0,\"tickcolor\":\"rgb(237,237,237)\",\"ticklen\":6,\"ticks\":\"inside\"}}}],\"scattermapbox\":[{\"type\":\"scattermapbox\",\"marker\":{\"colorbar\":{\"outlinewidth\":0,\"tickcolor\":\"rgb(237,237,237)\",\"ticklen\":6,\"ticks\":\"inside\"}}}],\"scatterternary\":[{\"type\":\"scatterternary\",\"marker\":{\"colorbar\":{\"outlinewidth\":0,\"tickcolor\":\"rgb(237,237,237)\",\"ticklen\":6,\"ticks\":\"inside\"}}}],\"scattercarpet\":[{\"type\":\"scattercarpet\",\"marker\":{\"colorbar\":{\"outlinewidth\":0,\"tickcolor\":\"rgb(237,237,237)\",\"ticklen\":6,\"ticks\":\"inside\"}}}],\"carpet\":[{\"aaxis\":{\"endlinecolor\":\"rgb(51,51,51)\",\"gridcolor\":\"white\",\"linecolor\":\"white\",\"minorgridcolor\":\"white\",\"startlinecolor\":\"rgb(51,51,51)\"},\"baxis\":{\"endlinecolor\":\"rgb(51,51,51)\",\"gridcolor\":\"white\",\"linecolor\":\"white\",\"minorgridcolor\":\"white\",\"startlinecolor\":\"rgb(51,51,51)\"},\"type\":\"carpet\"}],\"table\":[{\"cells\":{\"fill\":{\"color\":\"rgb(237,237,237)\"},\"line\":{\"color\":\"white\"}},\"header\":{\"fill\":{\"color\":\"rgb(217,217,217)\"},\"line\":{\"color\":\"white\"}},\"type\":\"table\"}],\"barpolar\":[{\"marker\":{\"line\":{\"color\":\"rgb(237,237,237)\",\"width\":0.5},\"pattern\":{\"fillmode\":\"overlay\",\"size\":10,\"solidity\":0.2}},\"type\":\"barpolar\"}],\"pie\":[{\"automargin\":true,\"type\":\"pie\"}]},\"layout\":{\"autotypenumbers\":\"strict\",\"colorway\":[\"#F8766D\",\"#A3A500\",\"#00BF7D\",\"#00B0F6\",\"#E76BF3\"],\"font\":{\"color\":\"rgb(51,51,51)\"},\"hovermode\":\"closest\",\"hoverlabel\":{\"align\":\"left\"},\"paper_bgcolor\":\"white\",\"plot_bgcolor\":\"rgb(237,237,237)\",\"polar\":{\"bgcolor\":\"rgb(237,237,237)\",\"angularaxis\":{\"gridcolor\":\"white\",\"linecolor\":\"white\",\"showgrid\":true,\"tickcolor\":\"rgb(51,51,51)\",\"ticks\":\"outside\"},\"radialaxis\":{\"gridcolor\":\"white\",\"linecolor\":\"white\",\"showgrid\":true,\"tickcolor\":\"rgb(51,51,51)\",\"ticks\":\"outside\"}},\"ternary\":{\"bgcolor\":\"rgb(237,237,237)\",\"aaxis\":{\"gridcolor\":\"white\",\"linecolor\":\"white\",\"showgrid\":true,\"tickcolor\":\"rgb(51,51,51)\",\"ticks\":\"outside\"},\"baxis\":{\"gridcolor\":\"white\",\"linecolor\":\"white\",\"showgrid\":true,\"tickcolor\":\"rgb(51,51,51)\",\"ticks\":\"outside\"},\"caxis\":{\"gridcolor\":\"white\",\"linecolor\":\"white\",\"showgrid\":true,\"tickcolor\":\"rgb(51,51,51)\",\"ticks\":\"outside\"}},\"coloraxis\":{\"colorbar\":{\"outlinewidth\":0,\"tickcolor\":\"rgb(237,237,237)\",\"ticklen\":6,\"ticks\":\"inside\"}},\"colorscale\":{\"sequential\":[[0,\"rgb(20,44,66)\"],[1,\"rgb(90,179,244)\"]],\"sequentialminus\":[[0,\"rgb(20,44,66)\"],[1,\"rgb(90,179,244)\"]]},\"xaxis\":{\"gridcolor\":\"white\",\"linecolor\":\"white\",\"showgrid\":true,\"tickcolor\":\"rgb(51,51,51)\",\"ticks\":\"outside\",\"title\":{\"standoff\":15},\"zerolinecolor\":\"white\",\"automargin\":true},\"yaxis\":{\"gridcolor\":\"white\",\"linecolor\":\"white\",\"showgrid\":true,\"tickcolor\":\"rgb(51,51,51)\",\"ticks\":\"outside\",\"title\":{\"standoff\":15},\"zerolinecolor\":\"white\",\"automargin\":true},\"scene\":{\"xaxis\":{\"backgroundcolor\":\"rgb(237,237,237)\",\"gridcolor\":\"white\",\"linecolor\":\"white\",\"showbackground\":true,\"showgrid\":true,\"tickcolor\":\"rgb(51,51,51)\",\"ticks\":\"outside\",\"zerolinecolor\":\"white\",\"gridwidth\":2},\"yaxis\":{\"backgroundcolor\":\"rgb(237,237,237)\",\"gridcolor\":\"white\",\"linecolor\":\"white\",\"showbackground\":true,\"showgrid\":true,\"tickcolor\":\"rgb(51,51,51)\",\"ticks\":\"outside\",\"zerolinecolor\":\"white\",\"gridwidth\":2},\"zaxis\":{\"backgroundcolor\":\"rgb(237,237,237)\",\"gridcolor\":\"white\",\"linecolor\":\"white\",\"showbackground\":true,\"showgrid\":true,\"tickcolor\":\"rgb(51,51,51)\",\"ticks\":\"outside\",\"zerolinecolor\":\"white\",\"gridwidth\":2}},\"shapedefaults\":{\"fillcolor\":\"black\",\"line\":{\"width\":0},\"opacity\":0.3},\"annotationdefaults\":{\"arrowhead\":0,\"arrowwidth\":1},\"geo\":{\"bgcolor\":\"white\",\"landcolor\":\"rgb(237,237,237)\",\"subunitcolor\":\"white\",\"showland\":true,\"showlakes\":true,\"lakecolor\":\"white\"}}},\"xaxis\":{\"anchor\":\"y\",\"domain\":[0.0,1.0],\"title\":{\"text\":\"Minimum degree for selected genes\"},\"tickfont\":{\"size\":16}},\"yaxis\":{\"anchor\":\"x\",\"domain\":[0.0,1.0],\"title\":{\"text\":\"Number of communities\"},\"tickfont\":{\"size\":16},\"tickmode\":\"linear\"},\"legend\":{\"title\":{\"text\":\"Type\"},\"tracegroupgap\":0,\"font\":{\"size\":16,\"color\":\"#003366\"},\"orientation\":\"h\",\"yanchor\":\"bottom\",\"xanchor\":\"center\",\"y\":0.8,\"x\":0.15,\"bgcolor\":\"rgba(0,0,0,0)\"},\"title\":{\"text\":\"\"},\"height\":600,\"font\":{\"size\":16}},                        {\"responsive\": true}                    ).then(function(){\n",
       "                            \n",
       "var gd = document.getElementById('2fe5d9da-0178-4269-b194-0c414a8ab15a');\n",
       "var x = new MutationObserver(function (mutations, observer) {{\n",
       "        var display = window.getComputedStyle(gd).display;\n",
       "        if (!display || display === 'none') {{\n",
       "            console.log([gd, 'removed!']);\n",
       "            Plotly.purge(gd);\n",
       "            observer.disconnect();\n",
       "        }}\n",
       "}});\n",
       "\n",
       "// Listen for the removal of the full notebook cells\n",
       "var notebookContainer = gd.closest('#notebook-container');\n",
       "if (notebookContainer) {{\n",
       "    x.observe(notebookContainer, {childList: true});\n",
       "}}\n",
       "\n",
       "// Listen for the clearing of the current output cell\n",
       "var outputEl = gd.closest('.output');\n",
       "if (outputEl) {{\n",
       "    x.observe(outputEl, {childList: true});\n",
       "}}\n",
       "\n",
       "                        })                };                });            </script>        </div>"
      ]
     },
     "metadata": {},
     "output_type": "display_data"
    }
   ],
   "source": [
    "if True:\n",
    "    comb_df.sort_values('TF', inplace=True)\n",
    "    sbm_fig = px.line(\n",
    "        comb_df,\n",
    "        x=\"TF\",\n",
    "        y=\"Size_mean\",\n",
    "        color=\"Type\",\n",
    "        error_y=\"Size_std\",\n",
    "        markers=True,\n",
    "        title=\"SBM. Community sizes\",\n",
    "        height=600,\n",
    "        color_discrete_map=color_map,\n",
    "    )\n",
    "    sbm_fig.update_layout(\n",
    "        legend=dict(\n",
    "            orientation=\"h\",\n",
    "            title=\"Type\",\n",
    "            yanchor=\"bottom\",\n",
    "            xanchor=\"center\",\n",
    "            y=0.8,\n",
    "            x=0.15,\n",
    "            bgcolor=\"rgba(0,0,0,0)\",\n",
    "            font=dict(size=16, color=\"#003366\"),\n",
    "        ),\n",
    "        title=\"\",\n",
    "        xaxis=dict(\n",
    "            tickfont=dict(size=16),\n",
    "            title=\"Minimum degree for selected genes\",\n",
    "        ),\n",
    "        yaxis=dict(\n",
    "            tickfont=dict(size=16),\n",
    "            tickmode=\"linear\",\n",
    "            # tick0=3,\n",
    "            # dtick=1,\n",
    "            title=\"Number of communities\",\n",
    "        ),\n",
    "        font=dict(size=16),\n",
    "    )\n",
    "    sbm_fig.update_traces(line_width=5, marker_size=12, error_y=dict(width=5))\n",
    "    sbm_fig.show()\n",
    "    save_fig(name=\"sbm_comNum_sel_prun\", fig=sbm_fig, base_path=figures_path, width=1200, height=600)"
   ]
  },
  {
   "cell_type": "markdown",
   "metadata": {},
   "source": [
    "### SBM + Leiden Community size"
   ]
  },
  {
   "cell_type": "code",
   "execution_count": 79,
   "metadata": {},
   "outputs": [
    {
     "data": {
      "application/vnd.plotly.v1+json": {
       "config": {
        "plotlyServerURL": "https://plot.ly"
       },
       "data": [
        {
         "error_y": {
          "array": [
           1.8104634152000358,
           1.8104634152000358,
           1.8104634152000358,
           1.8104634152000358,
           1.8104634152000358,
           1.8104634152000358,
           1.8104634152000358,
           1.8104634152000358,
           1.8104634152000358,
           1.6666666666666665,
           1.6666666666666665,
           1.6666666666666665,
           1.6666666666666665,
           1.6666666666666665,
           1.6666666666666665,
           1.6666666666666665,
           1.6666666666666665,
           1.6666666666666665,
           1.5811388300841898,
           1.5811388300841898,
           1.5811388300841898,
           1.5811388300841898,
           1.5811388300841898,
           1.5811388300841898,
           1.5811388300841898,
           1.5811388300841898,
           1.5811388300841898,
           1.563471919941143,
           1.563471919941143,
           1.563471919941143,
           1.563471919941143,
           1.563471919941143,
           1.563471919941143,
           1.563471919941143,
           1.563471919941143,
           1.563471919941143,
           1.224744871391589,
           1.224744871391589,
           1.224744871391589,
           1.224744871391589,
           1.224744871391589,
           1.224744871391589,
           1.224744871391589,
           1.224744871391589,
           1.224744871391589,
           2.0069324297987157,
           2.0069324297987157,
           2.0069324297987157,
           2.0069324297987157,
           2.0069324297987157,
           2.0069324297987157,
           2.0069324297987157,
           2.0069324297987157,
           2.0069324297987157,
           1.7159383568311666,
           1.7159383568311666,
           1.7159383568311666,
           1.7159383568311666,
           1.7159383568311666,
           1.7159383568311666,
           1.7159383568311666,
           1.7159383568311666,
           1.7159383568311666,
           1.224744871391589,
           1.224744871391589,
           1.224744871391589,
           1.224744871391589,
           1.224744871391589,
           1.224744871391589,
           1.224744871391589,
           1.224744871391589,
           1.224744871391589,
           2.692582403567252,
           2.692582403567252,
           2.692582403567252,
           2.692582403567252,
           2.692582403567252,
           2.692582403567252,
           2.692582403567252,
           2.692582403567252,
           2.692582403567252,
           1.0929064207170003,
           1.0929064207170003,
           1.0929064207170003,
           1.0929064207170003,
           1.0929064207170003,
           1.0929064207170003,
           1.0929064207170003,
           1.0929064207170003,
           1.0929064207170003
          ],
          "width": 5
         },
         "hovertemplate": "Type=Control<br>TF=%{x}<br>Size_mean=%{y}<extra></extra>",
         "legendgroup": "Control",
         "line": {
          "color": "#DC3912",
          "dash": "solid",
          "width": 5
         },
         "marker": {
          "size": 12,
          "symbol": "circle"
         },
         "mode": "lines+markers",
         "name": "Control",
         "orientation": "v",
         "showlegend": true,
         "type": "scatter",
         "x": [
          3,
          3,
          3,
          3,
          3,
          3,
          3,
          3,
          3,
          4,
          4,
          4,
          4,
          4,
          4,
          4,
          4,
          4,
          5,
          5,
          5,
          5,
          5,
          5,
          5,
          5,
          5,
          6,
          6,
          6,
          6,
          6,
          6,
          6,
          6,
          6,
          7,
          7,
          7,
          7,
          7,
          7,
          7,
          7,
          7,
          8,
          8,
          8,
          8,
          8,
          8,
          8,
          8,
          8,
          9,
          9,
          9,
          9,
          9,
          9,
          9,
          9,
          9,
          10,
          10,
          10,
          10,
          10,
          10,
          10,
          10,
          10,
          11,
          11,
          11,
          11,
          11,
          11,
          11,
          11,
          11,
          12,
          12,
          12,
          12,
          12,
          12,
          12,
          12,
          12
         ],
         "xaxis": "x",
         "y": [
          39.44444444444444,
          39.44444444444444,
          39.44444444444444,
          39.44444444444444,
          39.44444444444444,
          39.44444444444444,
          39.44444444444444,
          39.44444444444444,
          39.44444444444444,
          37.44444444444444,
          37.44444444444444,
          37.44444444444444,
          37.44444444444444,
          37.44444444444444,
          37.44444444444444,
          37.44444444444444,
          37.44444444444444,
          37.44444444444444,
          39.333333333333336,
          39.333333333333336,
          39.333333333333336,
          39.333333333333336,
          39.333333333333336,
          39.333333333333336,
          39.333333333333336,
          39.333333333333336,
          39.333333333333336,
          39.22222222222222,
          39.22222222222222,
          39.22222222222222,
          39.22222222222222,
          39.22222222222222,
          39.22222222222222,
          39.22222222222222,
          39.22222222222222,
          39.22222222222222,
          41,
          41,
          41,
          41,
          41,
          41,
          41,
          41,
          41,
          41.44444444444444,
          41.44444444444444,
          41.44444444444444,
          41.44444444444444,
          41.44444444444444,
          41.44444444444444,
          41.44444444444444,
          41.44444444444444,
          41.44444444444444,
          42.22222222222222,
          42.22222222222222,
          42.22222222222222,
          42.22222222222222,
          42.22222222222222,
          42.22222222222222,
          42.22222222222222,
          42.22222222222222,
          42.22222222222222,
          42,
          42,
          42,
          42,
          42,
          42,
          42,
          42,
          42,
          43.333333333333336,
          43.333333333333336,
          43.333333333333336,
          43.333333333333336,
          43.333333333333336,
          43.333333333333336,
          43.333333333333336,
          43.333333333333336,
          43.333333333333336,
          43.77777777777778,
          43.77777777777778,
          43.77777777777778,
          43.77777777777778,
          43.77777777777778,
          43.77777777777778,
          43.77777777777778,
          43.77777777777778,
          43.77777777777778
         ],
         "yaxis": "y"
        },
        {
         "error_y": {
          "array": [
           0,
           0,
           0,
           0,
           0,
           0,
           0,
           0,
           0,
           0
          ],
          "width": 5
         },
         "hovertemplate": "Type=Experiment<br>TF=%{x}<br>Size_mean=%{y}<extra></extra>",
         "legendgroup": "Experiment",
         "line": {
          "color": "#3366CC",
          "dash": "solid",
          "width": 5
         },
         "marker": {
          "size": 12,
          "symbol": "circle"
         },
         "mode": "lines+markers",
         "name": "Experiment",
         "orientation": "v",
         "showlegend": true,
         "type": "scatter",
         "x": [
          3,
          4,
          5,
          6,
          7,
          8,
          9,
          10,
          11,
          12
         ],
         "xaxis": "x",
         "y": [
          39,
          42,
          42,
          40,
          38,
          43,
          42,
          44,
          42,
          44
         ],
         "yaxis": "y"
        },
        {
         "error_y": {
          "array": [
           0.5544433311055402,
           0.5544433311055402,
           0.5544433311055402,
           0.5544433311055402,
           0.5544433311055402,
           0.5544433311055402,
           0.5544433311055402,
           0.5544433311055402,
           0.5544433311055402,
           0.5544433311055402,
           0.9486832980505133,
           0.9486832980505133,
           0.9486832980505133,
           0.9486832980505133,
           0.9486832980505133,
           0.9486832980505133,
           0.9486832980505133,
           0.9486832980505133,
           0.9486832980505133,
           0.9486832980505133,
           1.201336704068934,
           1.201336704068934,
           1.201336704068934,
           1.201336704068934,
           1.201336704068934,
           1.201336704068934,
           1.201336704068934,
           1.201336704068934,
           1.201336704068934,
           1.201336704068934,
           0.9401864800580518,
           0.9401864800580518,
           0.9401864800580518,
           0.9401864800580518,
           0.9401864800580518,
           0.9401864800580518,
           0.9401864800580518,
           0.9401864800580518,
           0.9401864800580518,
           0.9401864800580518,
           1.4058958744788124,
           1.4058958744788124,
           1.4058958744788124,
           1.4058958744788124,
           1.4058958744788124,
           1.4058958744788124,
           1.4058958744788124,
           1.4058958744788124,
           1.4058958744788124,
           1.4058958744788124,
           0.916919157145678,
           0.916919157145678,
           0.916919157145678,
           0.916919157145678,
           0.916919157145678,
           0.916919157145678,
           0.916919157145678,
           0.916919157145678,
           0.916919157145678,
           0.916919157145678,
           0.9743627230397226,
           0.9743627230397226,
           0.9743627230397226,
           0.9743627230397226,
           0.9743627230397226,
           0.9743627230397226,
           0.9743627230397226,
           0.9743627230397226,
           0.9743627230397226,
           0.9743627230397226,
           1.3498971154211057,
           1.3498971154211057,
           1.3498971154211057,
           1.3498971154211057,
           1.3498971154211057,
           1.3498971154211057,
           1.3498971154211057,
           1.3498971154211057,
           1.3498971154211057,
           1.3498971154211057,
           1.4094040418156963,
           1.4094040418156963,
           1.4094040418156963,
           1.4094040418156963,
           1.4094040418156963,
           1.4094040418156963,
           1.4094040418156963,
           1.4094040418156963,
           1.4094040418156963,
           1.4094040418156963,
           1.6162752485305045,
           1.6162752485305045,
           1.6162752485305045,
           1.6162752485305045,
           1.6162752485305045,
           1.6162752485305045,
           1.6162752485305045,
           1.6162752485305045,
           1.6162752485305045,
           1.6162752485305045
          ],
          "width": 5
         },
         "hovertemplate": "Type=Control<br>TF=%{x}<br>ModNum_mean=%{y}<extra></extra>",
         "legendgroup": "Control",
         "line": {
          "color": "#DC3912",
          "dash": "solid",
          "width": 5
         },
         "marker": {
          "size": 12,
          "symbol": "circle"
         },
         "mode": "lines+markers",
         "name": "Control",
         "orientation": "v",
         "showlegend": false,
         "type": "scatter",
         "x": [
          "3",
          "3",
          "3",
          "3",
          "3",
          "3",
          "3",
          "3",
          "3",
          "3",
          "4",
          "4",
          "4",
          "4",
          "4",
          "4",
          "4",
          "4",
          "4",
          "4",
          "5",
          "5",
          "5",
          "5",
          "5",
          "5",
          "5",
          "5",
          "5",
          "5",
          "6",
          "6",
          "6",
          "6",
          "6",
          "6",
          "6",
          "6",
          "6",
          "6",
          "7",
          "7",
          "7",
          "7",
          "7",
          "7",
          "7",
          "7",
          "7",
          "7",
          "8",
          "8",
          "8",
          "8",
          "8",
          "8",
          "8",
          "8",
          "8",
          "8",
          "9",
          "9",
          "9",
          "9",
          "9",
          "9",
          "9",
          "9",
          "9",
          "9",
          "10",
          "10",
          "10",
          "10",
          "10",
          "10",
          "10",
          "10",
          "10",
          "10",
          "11",
          "11",
          "11",
          "11",
          "11",
          "11",
          "11",
          "11",
          "11",
          "11",
          "12",
          "12",
          "12",
          "12",
          "12",
          "12",
          "12",
          "12",
          "12",
          "12"
         ],
         "xaxis": "x",
         "y": [
          27.366666666666664,
          27.366666666666664,
          27.366666666666664,
          27.366666666666664,
          27.366666666666664,
          27.366666666666664,
          27.366666666666664,
          27.366666666666664,
          27.366666666666664,
          27.366666666666664,
          26.03333333333333,
          26.03333333333333,
          26.03333333333333,
          26.03333333333333,
          26.03333333333333,
          26.03333333333333,
          26.03333333333333,
          26.03333333333333,
          26.03333333333333,
          26.03333333333333,
          26.3,
          26.3,
          26.3,
          26.3,
          26.3,
          26.3,
          26.3,
          26.3,
          26.3,
          26.3,
          25.4,
          25.4,
          25.4,
          25.4,
          25.4,
          25.4,
          25.4,
          25.4,
          25.4,
          25.4,
          24.76666666666667,
          24.76666666666667,
          24.76666666666667,
          24.76666666666667,
          24.76666666666667,
          24.76666666666667,
          24.76666666666667,
          24.76666666666667,
          24.76666666666667,
          24.76666666666667,
          24.233333333333334,
          24.233333333333334,
          24.233333333333334,
          24.233333333333334,
          24.233333333333334,
          24.233333333333334,
          24.233333333333334,
          24.233333333333334,
          24.233333333333334,
          24.233333333333334,
          23.633333333333333,
          23.633333333333333,
          23.633333333333333,
          23.633333333333333,
          23.633333333333333,
          23.633333333333333,
          23.633333333333333,
          23.633333333333333,
          23.633333333333333,
          23.633333333333333,
          23.6,
          23.6,
          23.6,
          23.6,
          23.6,
          23.6,
          23.6,
          23.6,
          23.6,
          23.6,
          22.96666666666667,
          22.96666666666667,
          22.96666666666667,
          22.96666666666667,
          22.96666666666667,
          22.96666666666667,
          22.96666666666667,
          22.96666666666667,
          22.96666666666667,
          22.96666666666667,
          23.06666666666667,
          23.06666666666667,
          23.06666666666667,
          23.06666666666667,
          23.06666666666667,
          23.06666666666667,
          23.06666666666667,
          23.06666666666667,
          23.06666666666667,
          23.06666666666667
         ],
         "yaxis": "y"
        },
        {
         "error_y": {
          "array": [
           null,
           null,
           null,
           null,
           null,
           null,
           null,
           null,
           null,
           null
          ],
          "width": 5
         },
         "hovertemplate": "Type=Experiment<br>TF=%{x}<br>ModNum_mean=%{y}<extra></extra>",
         "legendgroup": "Experiment",
         "line": {
          "color": "#3366CC",
          "dash": "solid",
          "width": 5
         },
         "marker": {
          "size": 12,
          "symbol": "circle"
         },
         "mode": "lines+markers",
         "name": "Experiment",
         "orientation": "v",
         "showlegend": false,
         "type": "scatter",
         "x": [
          "3",
          "4",
          "5",
          "6",
          "7",
          "8",
          "9",
          "10",
          "11",
          "12"
         ],
         "xaxis": "x",
         "y": [
          27.333333333333332,
          25.666666666666668,
          25.666666666666668,
          25.666666666666668,
          25.333333333333332,
          25.666666666666668,
          24.666666666666668,
          23.666666666666668,
          23.666666666666668,
          23.333333333333332
         ],
         "yaxis": "y"
        }
       ],
       "layout": {
        "annotations": [
         {
          "font": {
           "color": "#003366",
           "size": 16
          },
          "showarrow": false,
          "text": "SBM",
          "x": 2.5,
          "y": 46
         },
         {
          "font": {
           "color": "#003366",
           "size": 16
          },
          "showarrow": false,
          "text": "Leiden",
          "x": 2.5,
          "y": 24
         }
        ],
        "font": {
         "size": 16
        },
        "height": 600,
        "legend": {
         "bgcolor": "rgba(0,0,0,0)",
         "font": {
          "color": "#003366",
          "size": 16
         },
         "orientation": "h",
         "title": {
          "text": "Type"
         },
         "tracegroupgap": 0,
         "x": 0.5,
         "xanchor": "center",
         "y": 0.4,
         "yanchor": "bottom"
        },
        "showlegend": true,
        "template": {
         "data": {
          "bar": [
           {
            "error_x": {
             "color": "rgb(51,51,51)"
            },
            "error_y": {
             "color": "rgb(51,51,51)"
            },
            "marker": {
             "line": {
              "color": "rgb(237,237,237)",
              "width": 0.5
             },
             "pattern": {
              "fillmode": "overlay",
              "size": 10,
              "solidity": 0.2
             }
            },
            "type": "bar"
           }
          ],
          "barpolar": [
           {
            "marker": {
             "line": {
              "color": "rgb(237,237,237)",
              "width": 0.5
             },
             "pattern": {
              "fillmode": "overlay",
              "size": 10,
              "solidity": 0.2
             }
            },
            "type": "barpolar"
           }
          ],
          "carpet": [
           {
            "aaxis": {
             "endlinecolor": "rgb(51,51,51)",
             "gridcolor": "white",
             "linecolor": "white",
             "minorgridcolor": "white",
             "startlinecolor": "rgb(51,51,51)"
            },
            "baxis": {
             "endlinecolor": "rgb(51,51,51)",
             "gridcolor": "white",
             "linecolor": "white",
             "minorgridcolor": "white",
             "startlinecolor": "rgb(51,51,51)"
            },
            "type": "carpet"
           }
          ],
          "choropleth": [
           {
            "colorbar": {
             "outlinewidth": 0,
             "tickcolor": "rgb(237,237,237)",
             "ticklen": 6,
             "ticks": "inside"
            },
            "type": "choropleth"
           }
          ],
          "contour": [
           {
            "colorbar": {
             "outlinewidth": 0,
             "tickcolor": "rgb(237,237,237)",
             "ticklen": 6,
             "ticks": "inside"
            },
            "colorscale": [
             [
              0,
              "rgb(20,44,66)"
             ],
             [
              1,
              "rgb(90,179,244)"
             ]
            ],
            "type": "contour"
           }
          ],
          "contourcarpet": [
           {
            "colorbar": {
             "outlinewidth": 0,
             "tickcolor": "rgb(237,237,237)",
             "ticklen": 6,
             "ticks": "inside"
            },
            "type": "contourcarpet"
           }
          ],
          "heatmap": [
           {
            "colorbar": {
             "outlinewidth": 0,
             "tickcolor": "rgb(237,237,237)",
             "ticklen": 6,
             "ticks": "inside"
            },
            "colorscale": [
             [
              0,
              "rgb(20,44,66)"
             ],
             [
              1,
              "rgb(90,179,244)"
             ]
            ],
            "type": "heatmap"
           }
          ],
          "heatmapgl": [
           {
            "colorbar": {
             "outlinewidth": 0,
             "tickcolor": "rgb(237,237,237)",
             "ticklen": 6,
             "ticks": "inside"
            },
            "colorscale": [
             [
              0,
              "rgb(20,44,66)"
             ],
             [
              1,
              "rgb(90,179,244)"
             ]
            ],
            "type": "heatmapgl"
           }
          ],
          "histogram": [
           {
            "marker": {
             "pattern": {
              "fillmode": "overlay",
              "size": 10,
              "solidity": 0.2
             }
            },
            "type": "histogram"
           }
          ],
          "histogram2d": [
           {
            "colorbar": {
             "outlinewidth": 0,
             "tickcolor": "rgb(237,237,237)",
             "ticklen": 6,
             "ticks": "inside"
            },
            "colorscale": [
             [
              0,
              "rgb(20,44,66)"
             ],
             [
              1,
              "rgb(90,179,244)"
             ]
            ],
            "type": "histogram2d"
           }
          ],
          "histogram2dcontour": [
           {
            "colorbar": {
             "outlinewidth": 0,
             "tickcolor": "rgb(237,237,237)",
             "ticklen": 6,
             "ticks": "inside"
            },
            "colorscale": [
             [
              0,
              "rgb(20,44,66)"
             ],
             [
              1,
              "rgb(90,179,244)"
             ]
            ],
            "type": "histogram2dcontour"
           }
          ],
          "mesh3d": [
           {
            "colorbar": {
             "outlinewidth": 0,
             "tickcolor": "rgb(237,237,237)",
             "ticklen": 6,
             "ticks": "inside"
            },
            "type": "mesh3d"
           }
          ],
          "parcoords": [
           {
            "line": {
             "colorbar": {
              "outlinewidth": 0,
              "tickcolor": "rgb(237,237,237)",
              "ticklen": 6,
              "ticks": "inside"
             }
            },
            "type": "parcoords"
           }
          ],
          "pie": [
           {
            "automargin": true,
            "type": "pie"
           }
          ],
          "scatter": [
           {
            "fillpattern": {
             "fillmode": "overlay",
             "size": 10,
             "solidity": 0.2
            },
            "type": "scatter"
           }
          ],
          "scatter3d": [
           {
            "line": {
             "colorbar": {
              "outlinewidth": 0,
              "tickcolor": "rgb(237,237,237)",
              "ticklen": 6,
              "ticks": "inside"
             }
            },
            "marker": {
             "colorbar": {
              "outlinewidth": 0,
              "tickcolor": "rgb(237,237,237)",
              "ticklen": 6,
              "ticks": "inside"
             }
            },
            "type": "scatter3d"
           }
          ],
          "scattercarpet": [
           {
            "marker": {
             "colorbar": {
              "outlinewidth": 0,
              "tickcolor": "rgb(237,237,237)",
              "ticklen": 6,
              "ticks": "inside"
             }
            },
            "type": "scattercarpet"
           }
          ],
          "scattergeo": [
           {
            "marker": {
             "colorbar": {
              "outlinewidth": 0,
              "tickcolor": "rgb(237,237,237)",
              "ticklen": 6,
              "ticks": "inside"
             }
            },
            "type": "scattergeo"
           }
          ],
          "scattergl": [
           {
            "marker": {
             "colorbar": {
              "outlinewidth": 0,
              "tickcolor": "rgb(237,237,237)",
              "ticklen": 6,
              "ticks": "inside"
             }
            },
            "type": "scattergl"
           }
          ],
          "scattermapbox": [
           {
            "marker": {
             "colorbar": {
              "outlinewidth": 0,
              "tickcolor": "rgb(237,237,237)",
              "ticklen": 6,
              "ticks": "inside"
             }
            },
            "type": "scattermapbox"
           }
          ],
          "scatterpolar": [
           {
            "marker": {
             "colorbar": {
              "outlinewidth": 0,
              "tickcolor": "rgb(237,237,237)",
              "ticklen": 6,
              "ticks": "inside"
             }
            },
            "type": "scatterpolar"
           }
          ],
          "scatterpolargl": [
           {
            "marker": {
             "colorbar": {
              "outlinewidth": 0,
              "tickcolor": "rgb(237,237,237)",
              "ticklen": 6,
              "ticks": "inside"
             }
            },
            "type": "scatterpolargl"
           }
          ],
          "scatterternary": [
           {
            "marker": {
             "colorbar": {
              "outlinewidth": 0,
              "tickcolor": "rgb(237,237,237)",
              "ticklen": 6,
              "ticks": "inside"
             }
            },
            "type": "scatterternary"
           }
          ],
          "surface": [
           {
            "colorbar": {
             "outlinewidth": 0,
             "tickcolor": "rgb(237,237,237)",
             "ticklen": 6,
             "ticks": "inside"
            },
            "colorscale": [
             [
              0,
              "rgb(20,44,66)"
             ],
             [
              1,
              "rgb(90,179,244)"
             ]
            ],
            "type": "surface"
           }
          ],
          "table": [
           {
            "cells": {
             "fill": {
              "color": "rgb(237,237,237)"
             },
             "line": {
              "color": "white"
             }
            },
            "header": {
             "fill": {
              "color": "rgb(217,217,217)"
             },
             "line": {
              "color": "white"
             }
            },
            "type": "table"
           }
          ]
         },
         "layout": {
          "annotationdefaults": {
           "arrowhead": 0,
           "arrowwidth": 1
          },
          "autotypenumbers": "strict",
          "coloraxis": {
           "colorbar": {
            "outlinewidth": 0,
            "tickcolor": "rgb(237,237,237)",
            "ticklen": 6,
            "ticks": "inside"
           }
          },
          "colorscale": {
           "sequential": [
            [
             0,
             "rgb(20,44,66)"
            ],
            [
             1,
             "rgb(90,179,244)"
            ]
           ],
           "sequentialminus": [
            [
             0,
             "rgb(20,44,66)"
            ],
            [
             1,
             "rgb(90,179,244)"
            ]
           ]
          },
          "colorway": [
           "#F8766D",
           "#A3A500",
           "#00BF7D",
           "#00B0F6",
           "#E76BF3"
          ],
          "font": {
           "color": "rgb(51,51,51)"
          },
          "geo": {
           "bgcolor": "white",
           "lakecolor": "white",
           "landcolor": "rgb(237,237,237)",
           "showlakes": true,
           "showland": true,
           "subunitcolor": "white"
          },
          "hoverlabel": {
           "align": "left"
          },
          "hovermode": "closest",
          "paper_bgcolor": "white",
          "plot_bgcolor": "rgb(237,237,237)",
          "polar": {
           "angularaxis": {
            "gridcolor": "white",
            "linecolor": "white",
            "showgrid": true,
            "tickcolor": "rgb(51,51,51)",
            "ticks": "outside"
           },
           "bgcolor": "rgb(237,237,237)",
           "radialaxis": {
            "gridcolor": "white",
            "linecolor": "white",
            "showgrid": true,
            "tickcolor": "rgb(51,51,51)",
            "ticks": "outside"
           }
          },
          "scene": {
           "xaxis": {
            "backgroundcolor": "rgb(237,237,237)",
            "gridcolor": "white",
            "gridwidth": 2,
            "linecolor": "white",
            "showbackground": true,
            "showgrid": true,
            "tickcolor": "rgb(51,51,51)",
            "ticks": "outside",
            "zerolinecolor": "white"
           },
           "yaxis": {
            "backgroundcolor": "rgb(237,237,237)",
            "gridcolor": "white",
            "gridwidth": 2,
            "linecolor": "white",
            "showbackground": true,
            "showgrid": true,
            "tickcolor": "rgb(51,51,51)",
            "ticks": "outside",
            "zerolinecolor": "white"
           },
           "zaxis": {
            "backgroundcolor": "rgb(237,237,237)",
            "gridcolor": "white",
            "gridwidth": 2,
            "linecolor": "white",
            "showbackground": true,
            "showgrid": true,
            "tickcolor": "rgb(51,51,51)",
            "ticks": "outside",
            "zerolinecolor": "white"
           }
          },
          "shapedefaults": {
           "fillcolor": "black",
           "line": {
            "width": 0
           },
           "opacity": 0.3
          },
          "ternary": {
           "aaxis": {
            "gridcolor": "white",
            "linecolor": "white",
            "showgrid": true,
            "tickcolor": "rgb(51,51,51)",
            "ticks": "outside"
           },
           "baxis": {
            "gridcolor": "white",
            "linecolor": "white",
            "showgrid": true,
            "tickcolor": "rgb(51,51,51)",
            "ticks": "outside"
           },
           "bgcolor": "rgb(237,237,237)",
           "caxis": {
            "gridcolor": "white",
            "linecolor": "white",
            "showgrid": true,
            "tickcolor": "rgb(51,51,51)",
            "ticks": "outside"
           }
          },
          "xaxis": {
           "automargin": true,
           "gridcolor": "white",
           "linecolor": "white",
           "showgrid": true,
           "tickcolor": "rgb(51,51,51)",
           "ticks": "outside",
           "title": {
            "standoff": 15
           },
           "zerolinecolor": "white"
          },
          "yaxis": {
           "automargin": true,
           "gridcolor": "white",
           "linecolor": "white",
           "showgrid": true,
           "tickcolor": "rgb(51,51,51)",
           "ticks": "outside",
           "title": {
            "standoff": 15
           },
           "zerolinecolor": "white"
          }
         }
        },
        "title": {
         "text": ""
        },
        "xaxis": {
         "anchor": "y",
         "domain": [
          0,
          1
         ],
         "tickfont": {
          "size": 16
         },
         "title": {
          "text": "Minimum degree for selected genes"
         }
        },
        "yaxis": {
         "anchor": "x",
         "domain": [
          0,
          1
         ],
         "dtick": 2,
         "tick0": 10,
         "tickfont": {
          "size": 16
         },
         "tickmode": "linear",
         "title": {
          "text": "Number of communities"
         }
        }
       }
      },
      "text/html": [
       "<div>                            <div id=\"80f48f7f-6a73-48cd-8504-5344794d2f66\" class=\"plotly-graph-div\" style=\"height:600px; width:100%;\"></div>            <script type=\"text/javascript\">                require([\"plotly\"], function(Plotly) {                    window.PLOTLYENV=window.PLOTLYENV || {};                                    if (document.getElementById(\"80f48f7f-6a73-48cd-8504-5344794d2f66\")) {                    Plotly.newPlot(                        \"80f48f7f-6a73-48cd-8504-5344794d2f66\",                        [{\"error_y\":{\"array\":[1.8104634152000358,1.8104634152000358,1.8104634152000358,1.8104634152000358,1.8104634152000358,1.8104634152000358,1.8104634152000358,1.8104634152000358,1.8104634152000358,1.6666666666666665,1.6666666666666665,1.6666666666666665,1.6666666666666665,1.6666666666666665,1.6666666666666665,1.6666666666666665,1.6666666666666665,1.6666666666666665,1.5811388300841898,1.5811388300841898,1.5811388300841898,1.5811388300841898,1.5811388300841898,1.5811388300841898,1.5811388300841898,1.5811388300841898,1.5811388300841898,1.563471919941143,1.563471919941143,1.563471919941143,1.563471919941143,1.563471919941143,1.563471919941143,1.563471919941143,1.563471919941143,1.563471919941143,1.224744871391589,1.224744871391589,1.224744871391589,1.224744871391589,1.224744871391589,1.224744871391589,1.224744871391589,1.224744871391589,1.224744871391589,2.0069324297987157,2.0069324297987157,2.0069324297987157,2.0069324297987157,2.0069324297987157,2.0069324297987157,2.0069324297987157,2.0069324297987157,2.0069324297987157,1.7159383568311666,1.7159383568311666,1.7159383568311666,1.7159383568311666,1.7159383568311666,1.7159383568311666,1.7159383568311666,1.7159383568311666,1.7159383568311666,1.224744871391589,1.224744871391589,1.224744871391589,1.224744871391589,1.224744871391589,1.224744871391589,1.224744871391589,1.224744871391589,1.224744871391589,2.692582403567252,2.692582403567252,2.692582403567252,2.692582403567252,2.692582403567252,2.692582403567252,2.692582403567252,2.692582403567252,2.692582403567252,1.0929064207170003,1.0929064207170003,1.0929064207170003,1.0929064207170003,1.0929064207170003,1.0929064207170003,1.0929064207170003,1.0929064207170003,1.0929064207170003],\"width\":5},\"hovertemplate\":\"Type=Control\\u003cbr\\u003eTF=%{x}\\u003cbr\\u003eSize_mean=%{y}\\u003cextra\\u003e\\u003c\\u002fextra\\u003e\",\"legendgroup\":\"Control\",\"line\":{\"color\":\"#DC3912\",\"dash\":\"solid\",\"width\":5},\"marker\":{\"symbol\":\"circle\",\"size\":12},\"mode\":\"lines+markers\",\"name\":\"Control\",\"orientation\":\"v\",\"showlegend\":true,\"x\":[3,3,3,3,3,3,3,3,3,4,4,4,4,4,4,4,4,4,5,5,5,5,5,5,5,5,5,6,6,6,6,6,6,6,6,6,7,7,7,7,7,7,7,7,7,8,8,8,8,8,8,8,8,8,9,9,9,9,9,9,9,9,9,10,10,10,10,10,10,10,10,10,11,11,11,11,11,11,11,11,11,12,12,12,12,12,12,12,12,12],\"xaxis\":\"x\",\"y\":[39.44444444444444,39.44444444444444,39.44444444444444,39.44444444444444,39.44444444444444,39.44444444444444,39.44444444444444,39.44444444444444,39.44444444444444,37.44444444444444,37.44444444444444,37.44444444444444,37.44444444444444,37.44444444444444,37.44444444444444,37.44444444444444,37.44444444444444,37.44444444444444,39.333333333333336,39.333333333333336,39.333333333333336,39.333333333333336,39.333333333333336,39.333333333333336,39.333333333333336,39.333333333333336,39.333333333333336,39.22222222222222,39.22222222222222,39.22222222222222,39.22222222222222,39.22222222222222,39.22222222222222,39.22222222222222,39.22222222222222,39.22222222222222,41.0,41.0,41.0,41.0,41.0,41.0,41.0,41.0,41.0,41.44444444444444,41.44444444444444,41.44444444444444,41.44444444444444,41.44444444444444,41.44444444444444,41.44444444444444,41.44444444444444,41.44444444444444,42.22222222222222,42.22222222222222,42.22222222222222,42.22222222222222,42.22222222222222,42.22222222222222,42.22222222222222,42.22222222222222,42.22222222222222,42.0,42.0,42.0,42.0,42.0,42.0,42.0,42.0,42.0,43.333333333333336,43.333333333333336,43.333333333333336,43.333333333333336,43.333333333333336,43.333333333333336,43.333333333333336,43.333333333333336,43.333333333333336,43.77777777777778,43.77777777777778,43.77777777777778,43.77777777777778,43.77777777777778,43.77777777777778,43.77777777777778,43.77777777777778,43.77777777777778],\"yaxis\":\"y\",\"type\":\"scatter\"},{\"error_y\":{\"array\":[0.0,0.0,0.0,0.0,0.0,0.0,0.0,0.0,0.0,0.0],\"width\":5},\"hovertemplate\":\"Type=Experiment\\u003cbr\\u003eTF=%{x}\\u003cbr\\u003eSize_mean=%{y}\\u003cextra\\u003e\\u003c\\u002fextra\\u003e\",\"legendgroup\":\"Experiment\",\"line\":{\"color\":\"#3366CC\",\"dash\":\"solid\",\"width\":5},\"marker\":{\"symbol\":\"circle\",\"size\":12},\"mode\":\"lines+markers\",\"name\":\"Experiment\",\"orientation\":\"v\",\"showlegend\":true,\"x\":[3,4,5,6,7,8,9,10,11,12],\"xaxis\":\"x\",\"y\":[39.0,42.0,42.0,40.0,38.0,43.0,42.0,44.0,42.0,44.0],\"yaxis\":\"y\",\"type\":\"scatter\"},{\"error_y\":{\"array\":[0.5544433311055402,0.5544433311055402,0.5544433311055402,0.5544433311055402,0.5544433311055402,0.5544433311055402,0.5544433311055402,0.5544433311055402,0.5544433311055402,0.5544433311055402,0.9486832980505133,0.9486832980505133,0.9486832980505133,0.9486832980505133,0.9486832980505133,0.9486832980505133,0.9486832980505133,0.9486832980505133,0.9486832980505133,0.9486832980505133,1.201336704068934,1.201336704068934,1.201336704068934,1.201336704068934,1.201336704068934,1.201336704068934,1.201336704068934,1.201336704068934,1.201336704068934,1.201336704068934,0.9401864800580518,0.9401864800580518,0.9401864800580518,0.9401864800580518,0.9401864800580518,0.9401864800580518,0.9401864800580518,0.9401864800580518,0.9401864800580518,0.9401864800580518,1.4058958744788124,1.4058958744788124,1.4058958744788124,1.4058958744788124,1.4058958744788124,1.4058958744788124,1.4058958744788124,1.4058958744788124,1.4058958744788124,1.4058958744788124,0.916919157145678,0.916919157145678,0.916919157145678,0.916919157145678,0.916919157145678,0.916919157145678,0.916919157145678,0.916919157145678,0.916919157145678,0.916919157145678,0.9743627230397226,0.9743627230397226,0.9743627230397226,0.9743627230397226,0.9743627230397226,0.9743627230397226,0.9743627230397226,0.9743627230397226,0.9743627230397226,0.9743627230397226,1.3498971154211057,1.3498971154211057,1.3498971154211057,1.3498971154211057,1.3498971154211057,1.3498971154211057,1.3498971154211057,1.3498971154211057,1.3498971154211057,1.3498971154211057,1.4094040418156963,1.4094040418156963,1.4094040418156963,1.4094040418156963,1.4094040418156963,1.4094040418156963,1.4094040418156963,1.4094040418156963,1.4094040418156963,1.4094040418156963,1.6162752485305045,1.6162752485305045,1.6162752485305045,1.6162752485305045,1.6162752485305045,1.6162752485305045,1.6162752485305045,1.6162752485305045,1.6162752485305045,1.6162752485305045],\"width\":5},\"hovertemplate\":\"Type=Control\\u003cbr\\u003eTF=%{x}\\u003cbr\\u003eModNum_mean=%{y}\\u003cextra\\u003e\\u003c\\u002fextra\\u003e\",\"legendgroup\":\"Control\",\"line\":{\"color\":\"#DC3912\",\"dash\":\"solid\",\"width\":5},\"marker\":{\"size\":12,\"symbol\":\"circle\"},\"mode\":\"lines+markers\",\"name\":\"Control\",\"orientation\":\"v\",\"showlegend\":false,\"x\":[\"3\",\"3\",\"3\",\"3\",\"3\",\"3\",\"3\",\"3\",\"3\",\"3\",\"4\",\"4\",\"4\",\"4\",\"4\",\"4\",\"4\",\"4\",\"4\",\"4\",\"5\",\"5\",\"5\",\"5\",\"5\",\"5\",\"5\",\"5\",\"5\",\"5\",\"6\",\"6\",\"6\",\"6\",\"6\",\"6\",\"6\",\"6\",\"6\",\"6\",\"7\",\"7\",\"7\",\"7\",\"7\",\"7\",\"7\",\"7\",\"7\",\"7\",\"8\",\"8\",\"8\",\"8\",\"8\",\"8\",\"8\",\"8\",\"8\",\"8\",\"9\",\"9\",\"9\",\"9\",\"9\",\"9\",\"9\",\"9\",\"9\",\"9\",\"10\",\"10\",\"10\",\"10\",\"10\",\"10\",\"10\",\"10\",\"10\",\"10\",\"11\",\"11\",\"11\",\"11\",\"11\",\"11\",\"11\",\"11\",\"11\",\"11\",\"12\",\"12\",\"12\",\"12\",\"12\",\"12\",\"12\",\"12\",\"12\",\"12\"],\"xaxis\":\"x\",\"y\":[27.366666666666664,27.366666666666664,27.366666666666664,27.366666666666664,27.366666666666664,27.366666666666664,27.366666666666664,27.366666666666664,27.366666666666664,27.366666666666664,26.03333333333333,26.03333333333333,26.03333333333333,26.03333333333333,26.03333333333333,26.03333333333333,26.03333333333333,26.03333333333333,26.03333333333333,26.03333333333333,26.3,26.3,26.3,26.3,26.3,26.3,26.3,26.3,26.3,26.3,25.4,25.4,25.4,25.4,25.4,25.4,25.4,25.4,25.4,25.4,24.76666666666667,24.76666666666667,24.76666666666667,24.76666666666667,24.76666666666667,24.76666666666667,24.76666666666667,24.76666666666667,24.76666666666667,24.76666666666667,24.233333333333334,24.233333333333334,24.233333333333334,24.233333333333334,24.233333333333334,24.233333333333334,24.233333333333334,24.233333333333334,24.233333333333334,24.233333333333334,23.633333333333333,23.633333333333333,23.633333333333333,23.633333333333333,23.633333333333333,23.633333333333333,23.633333333333333,23.633333333333333,23.633333333333333,23.633333333333333,23.6,23.6,23.6,23.6,23.6,23.6,23.6,23.6,23.6,23.6,22.96666666666667,22.96666666666667,22.96666666666667,22.96666666666667,22.96666666666667,22.96666666666667,22.96666666666667,22.96666666666667,22.96666666666667,22.96666666666667,23.06666666666667,23.06666666666667,23.06666666666667,23.06666666666667,23.06666666666667,23.06666666666667,23.06666666666667,23.06666666666667,23.06666666666667,23.06666666666667],\"yaxis\":\"y\",\"type\":\"scatter\"},{\"error_y\":{\"array\":[null,null,null,null,null,null,null,null,null,null],\"width\":5},\"hovertemplate\":\"Type=Experiment\\u003cbr\\u003eTF=%{x}\\u003cbr\\u003eModNum_mean=%{y}\\u003cextra\\u003e\\u003c\\u002fextra\\u003e\",\"legendgroup\":\"Experiment\",\"line\":{\"color\":\"#3366CC\",\"dash\":\"solid\",\"width\":5},\"marker\":{\"size\":12,\"symbol\":\"circle\"},\"mode\":\"lines+markers\",\"name\":\"Experiment\",\"orientation\":\"v\",\"showlegend\":false,\"x\":[\"3\",\"4\",\"5\",\"6\",\"7\",\"8\",\"9\",\"10\",\"11\",\"12\"],\"xaxis\":\"x\",\"y\":[27.333333333333332,25.666666666666668,25.666666666666668,25.666666666666668,25.333333333333332,25.666666666666668,24.666666666666668,23.666666666666668,23.666666666666668,23.333333333333332],\"yaxis\":\"y\",\"type\":\"scatter\"}],                        {\"template\":{\"data\":{\"histogram2dcontour\":[{\"type\":\"histogram2dcontour\",\"colorbar\":{\"outlinewidth\":0,\"tickcolor\":\"rgb(237,237,237)\",\"ticklen\":6,\"ticks\":\"inside\"},\"colorscale\":[[0,\"rgb(20,44,66)\"],[1,\"rgb(90,179,244)\"]]}],\"choropleth\":[{\"type\":\"choropleth\",\"colorbar\":{\"outlinewidth\":0,\"tickcolor\":\"rgb(237,237,237)\",\"ticklen\":6,\"ticks\":\"inside\"}}],\"histogram2d\":[{\"type\":\"histogram2d\",\"colorbar\":{\"outlinewidth\":0,\"tickcolor\":\"rgb(237,237,237)\",\"ticklen\":6,\"ticks\":\"inside\"},\"colorscale\":[[0,\"rgb(20,44,66)\"],[1,\"rgb(90,179,244)\"]]}],\"heatmap\":[{\"type\":\"heatmap\",\"colorbar\":{\"outlinewidth\":0,\"tickcolor\":\"rgb(237,237,237)\",\"ticklen\":6,\"ticks\":\"inside\"},\"colorscale\":[[0,\"rgb(20,44,66)\"],[1,\"rgb(90,179,244)\"]]}],\"heatmapgl\":[{\"type\":\"heatmapgl\",\"colorbar\":{\"outlinewidth\":0,\"tickcolor\":\"rgb(237,237,237)\",\"ticklen\":6,\"ticks\":\"inside\"},\"colorscale\":[[0,\"rgb(20,44,66)\"],[1,\"rgb(90,179,244)\"]]}],\"contourcarpet\":[{\"type\":\"contourcarpet\",\"colorbar\":{\"outlinewidth\":0,\"tickcolor\":\"rgb(237,237,237)\",\"ticklen\":6,\"ticks\":\"inside\"}}],\"contour\":[{\"type\":\"contour\",\"colorbar\":{\"outlinewidth\":0,\"tickcolor\":\"rgb(237,237,237)\",\"ticklen\":6,\"ticks\":\"inside\"},\"colorscale\":[[0,\"rgb(20,44,66)\"],[1,\"rgb(90,179,244)\"]]}],\"surface\":[{\"type\":\"surface\",\"colorbar\":{\"outlinewidth\":0,\"tickcolor\":\"rgb(237,237,237)\",\"ticklen\":6,\"ticks\":\"inside\"},\"colorscale\":[[0,\"rgb(20,44,66)\"],[1,\"rgb(90,179,244)\"]]}],\"mesh3d\":[{\"type\":\"mesh3d\",\"colorbar\":{\"outlinewidth\":0,\"tickcolor\":\"rgb(237,237,237)\",\"ticklen\":6,\"ticks\":\"inside\"}}],\"scatter\":[{\"fillpattern\":{\"fillmode\":\"overlay\",\"size\":10,\"solidity\":0.2},\"type\":\"scatter\"}],\"parcoords\":[{\"type\":\"parcoords\",\"line\":{\"colorbar\":{\"outlinewidth\":0,\"tickcolor\":\"rgb(237,237,237)\",\"ticklen\":6,\"ticks\":\"inside\"}}}],\"scatterpolargl\":[{\"type\":\"scatterpolargl\",\"marker\":{\"colorbar\":{\"outlinewidth\":0,\"tickcolor\":\"rgb(237,237,237)\",\"ticklen\":6,\"ticks\":\"inside\"}}}],\"bar\":[{\"error_x\":{\"color\":\"rgb(51,51,51)\"},\"error_y\":{\"color\":\"rgb(51,51,51)\"},\"marker\":{\"line\":{\"color\":\"rgb(237,237,237)\",\"width\":0.5},\"pattern\":{\"fillmode\":\"overlay\",\"size\":10,\"solidity\":0.2}},\"type\":\"bar\"}],\"scattergeo\":[{\"type\":\"scattergeo\",\"marker\":{\"colorbar\":{\"outlinewidth\":0,\"tickcolor\":\"rgb(237,237,237)\",\"ticklen\":6,\"ticks\":\"inside\"}}}],\"scatterpolar\":[{\"type\":\"scatterpolar\",\"marker\":{\"colorbar\":{\"outlinewidth\":0,\"tickcolor\":\"rgb(237,237,237)\",\"ticklen\":6,\"ticks\":\"inside\"}}}],\"histogram\":[{\"marker\":{\"pattern\":{\"fillmode\":\"overlay\",\"size\":10,\"solidity\":0.2}},\"type\":\"histogram\"}],\"scattergl\":[{\"type\":\"scattergl\",\"marker\":{\"colorbar\":{\"outlinewidth\":0,\"tickcolor\":\"rgb(237,237,237)\",\"ticklen\":6,\"ticks\":\"inside\"}}}],\"scatter3d\":[{\"type\":\"scatter3d\",\"line\":{\"colorbar\":{\"outlinewidth\":0,\"tickcolor\":\"rgb(237,237,237)\",\"ticklen\":6,\"ticks\":\"inside\"}},\"marker\":{\"colorbar\":{\"outlinewidth\":0,\"tickcolor\":\"rgb(237,237,237)\",\"ticklen\":6,\"ticks\":\"inside\"}}}],\"scattermapbox\":[{\"type\":\"scattermapbox\",\"marker\":{\"colorbar\":{\"outlinewidth\":0,\"tickcolor\":\"rgb(237,237,237)\",\"ticklen\":6,\"ticks\":\"inside\"}}}],\"scatterternary\":[{\"type\":\"scatterternary\",\"marker\":{\"colorbar\":{\"outlinewidth\":0,\"tickcolor\":\"rgb(237,237,237)\",\"ticklen\":6,\"ticks\":\"inside\"}}}],\"scattercarpet\":[{\"type\":\"scattercarpet\",\"marker\":{\"colorbar\":{\"outlinewidth\":0,\"tickcolor\":\"rgb(237,237,237)\",\"ticklen\":6,\"ticks\":\"inside\"}}}],\"carpet\":[{\"aaxis\":{\"endlinecolor\":\"rgb(51,51,51)\",\"gridcolor\":\"white\",\"linecolor\":\"white\",\"minorgridcolor\":\"white\",\"startlinecolor\":\"rgb(51,51,51)\"},\"baxis\":{\"endlinecolor\":\"rgb(51,51,51)\",\"gridcolor\":\"white\",\"linecolor\":\"white\",\"minorgridcolor\":\"white\",\"startlinecolor\":\"rgb(51,51,51)\"},\"type\":\"carpet\"}],\"table\":[{\"cells\":{\"fill\":{\"color\":\"rgb(237,237,237)\"},\"line\":{\"color\":\"white\"}},\"header\":{\"fill\":{\"color\":\"rgb(217,217,217)\"},\"line\":{\"color\":\"white\"}},\"type\":\"table\"}],\"barpolar\":[{\"marker\":{\"line\":{\"color\":\"rgb(237,237,237)\",\"width\":0.5},\"pattern\":{\"fillmode\":\"overlay\",\"size\":10,\"solidity\":0.2}},\"type\":\"barpolar\"}],\"pie\":[{\"automargin\":true,\"type\":\"pie\"}]},\"layout\":{\"autotypenumbers\":\"strict\",\"colorway\":[\"#F8766D\",\"#A3A500\",\"#00BF7D\",\"#00B0F6\",\"#E76BF3\"],\"font\":{\"color\":\"rgb(51,51,51)\"},\"hovermode\":\"closest\",\"hoverlabel\":{\"align\":\"left\"},\"paper_bgcolor\":\"white\",\"plot_bgcolor\":\"rgb(237,237,237)\",\"polar\":{\"bgcolor\":\"rgb(237,237,237)\",\"angularaxis\":{\"gridcolor\":\"white\",\"linecolor\":\"white\",\"showgrid\":true,\"tickcolor\":\"rgb(51,51,51)\",\"ticks\":\"outside\"},\"radialaxis\":{\"gridcolor\":\"white\",\"linecolor\":\"white\",\"showgrid\":true,\"tickcolor\":\"rgb(51,51,51)\",\"ticks\":\"outside\"}},\"ternary\":{\"bgcolor\":\"rgb(237,237,237)\",\"aaxis\":{\"gridcolor\":\"white\",\"linecolor\":\"white\",\"showgrid\":true,\"tickcolor\":\"rgb(51,51,51)\",\"ticks\":\"outside\"},\"baxis\":{\"gridcolor\":\"white\",\"linecolor\":\"white\",\"showgrid\":true,\"tickcolor\":\"rgb(51,51,51)\",\"ticks\":\"outside\"},\"caxis\":{\"gridcolor\":\"white\",\"linecolor\":\"white\",\"showgrid\":true,\"tickcolor\":\"rgb(51,51,51)\",\"ticks\":\"outside\"}},\"coloraxis\":{\"colorbar\":{\"outlinewidth\":0,\"tickcolor\":\"rgb(237,237,237)\",\"ticklen\":6,\"ticks\":\"inside\"}},\"colorscale\":{\"sequential\":[[0,\"rgb(20,44,66)\"],[1,\"rgb(90,179,244)\"]],\"sequentialminus\":[[0,\"rgb(20,44,66)\"],[1,\"rgb(90,179,244)\"]]},\"xaxis\":{\"gridcolor\":\"white\",\"linecolor\":\"white\",\"showgrid\":true,\"tickcolor\":\"rgb(51,51,51)\",\"ticks\":\"outside\",\"title\":{\"standoff\":15},\"zerolinecolor\":\"white\",\"automargin\":true},\"yaxis\":{\"gridcolor\":\"white\",\"linecolor\":\"white\",\"showgrid\":true,\"tickcolor\":\"rgb(51,51,51)\",\"ticks\":\"outside\",\"title\":{\"standoff\":15},\"zerolinecolor\":\"white\",\"automargin\":true},\"scene\":{\"xaxis\":{\"backgroundcolor\":\"rgb(237,237,237)\",\"gridcolor\":\"white\",\"linecolor\":\"white\",\"showbackground\":true,\"showgrid\":true,\"tickcolor\":\"rgb(51,51,51)\",\"ticks\":\"outside\",\"zerolinecolor\":\"white\",\"gridwidth\":2},\"yaxis\":{\"backgroundcolor\":\"rgb(237,237,237)\",\"gridcolor\":\"white\",\"linecolor\":\"white\",\"showbackground\":true,\"showgrid\":true,\"tickcolor\":\"rgb(51,51,51)\",\"ticks\":\"outside\",\"zerolinecolor\":\"white\",\"gridwidth\":2},\"zaxis\":{\"backgroundcolor\":\"rgb(237,237,237)\",\"gridcolor\":\"white\",\"linecolor\":\"white\",\"showbackground\":true,\"showgrid\":true,\"tickcolor\":\"rgb(51,51,51)\",\"ticks\":\"outside\",\"zerolinecolor\":\"white\",\"gridwidth\":2}},\"shapedefaults\":{\"fillcolor\":\"black\",\"line\":{\"width\":0},\"opacity\":0.3},\"annotationdefaults\":{\"arrowhead\":0,\"arrowwidth\":1},\"geo\":{\"bgcolor\":\"white\",\"landcolor\":\"rgb(237,237,237)\",\"subunitcolor\":\"white\",\"showland\":true,\"showlakes\":true,\"lakecolor\":\"white\"}}},\"xaxis\":{\"anchor\":\"y\",\"domain\":[0.0,1.0],\"title\":{\"text\":\"Minimum degree for selected genes\"},\"tickfont\":{\"size\":16}},\"yaxis\":{\"anchor\":\"x\",\"domain\":[0.0,1.0],\"title\":{\"text\":\"Number of communities\"},\"tickfont\":{\"size\":16},\"tickmode\":\"linear\",\"tick0\":10,\"dtick\":2},\"legend\":{\"title\":{\"text\":\"Type\"},\"tracegroupgap\":0,\"font\":{\"size\":16,\"color\":\"#003366\"},\"orientation\":\"h\",\"yanchor\":\"bottom\",\"xanchor\":\"center\",\"y\":0.4,\"x\":0.5,\"bgcolor\":\"rgba(0,0,0,0)\"},\"title\":{\"text\":\"\"},\"height\":600,\"font\":{\"size\":16},\"showlegend\":true,\"annotations\":[{\"font\":{\"color\":\"#003366\",\"size\":16},\"showarrow\":false,\"text\":\"SBM\",\"x\":2.5,\"y\":46},{\"font\":{\"color\":\"#003366\",\"size\":16},\"showarrow\":false,\"text\":\"Leiden\",\"x\":2.5,\"y\":24}]},                        {\"responsive\": true}                    ).then(function(){\n",
       "                            \n",
       "var gd = document.getElementById('80f48f7f-6a73-48cd-8504-5344794d2f66');\n",
       "var x = new MutationObserver(function (mutations, observer) {{\n",
       "        var display = window.getComputedStyle(gd).display;\n",
       "        if (!display || display === 'none') {{\n",
       "            console.log([gd, 'removed!']);\n",
       "            Plotly.purge(gd);\n",
       "            observer.disconnect();\n",
       "        }}\n",
       "}});\n",
       "\n",
       "// Listen for the removal of the full notebook cells\n",
       "var notebookContainer = gd.closest('#notebook-container');\n",
       "if (notebookContainer) {{\n",
       "    x.observe(notebookContainer, {childList: true});\n",
       "}}\n",
       "\n",
       "// Listen for the clearing of the current output cell\n",
       "var outputEl = gd.closest('.output');\n",
       "if (outputEl) {{\n",
       "    x.observe(outputEl, {childList: true});\n",
       "}}\n",
       "\n",
       "                        })                };                });            </script>        </div>"
      ]
     },
     "metadata": {},
     "output_type": "display_data"
    }
   ],
   "source": [
    "sbm_fig = sbm_fig.add_traces(leid_fig.data)\n",
    "sbm_fig = sbm_fig.update_layout(\n",
    "    legend=dict(\n",
    "        orientation=\"h\",\n",
    "        title=\"Type\",\n",
    "        yanchor=\"bottom\",\n",
    "        y=0.4,\n",
    "        xanchor=\"center\",\n",
    "        x=0.5,\n",
    "        bgcolor=\"rgba(0,0,0,0)\",\n",
    "        font=dict(size=16, color=\"#003366\"),\n",
    "    ),\n",
    "    xaxis=dict(\n",
    "        tickfont=dict(size=16),\n",
    "        title=\"Minimum degree for selected genes\",\n",
    "    ),\n",
    "    title=\"\",\n",
    "    yaxis=dict(\n",
    "        tickmode=\"linear\",\n",
    "        tick0=10,\n",
    "        dtick=2,\n",
    "    ),\n",
    "    showlegend=True,\n",
    "    font=dict(size=16),\n",
    ")\n",
    "sbm_fig = sbm_fig.update_traces(line_width=5, marker_size=12, error_y=dict(width=5))\n",
    "legend_shown = {}\n",
    "for trace in sbm_fig.data:\n",
    "    if trace.name in legend_shown:\n",
    "        trace.showlegend = False\n",
    "    else:\n",
    "        trace.showlegend = True\n",
    "        legend_shown[trace.name] = True\n",
    "\n",
    "sbm_fig.add_annotation(x=2.5, y=46, text=\"SBM\", showarrow=False, font=dict(size=16, color=\"#003366\"))\n",
    "sbm_fig.add_annotation(x=2.5, y=24, text=\"Leiden\", showarrow=False, font=dict(size=16, color=\"#003366\"))\n",
    "\n",
    "sbm_fig.show()\n",
    "save_fig(name=\"sbm_Leiden_combNum\", fig=sbm_fig, base_path=figures_path, width=1200, height=600)"
   ]
  },
  {
   "cell_type": "markdown",
   "metadata": {},
   "source": [
    "# TF representation"
   ]
  },
  {
   "cell_type": "code",
   "execution_count": 63,
   "metadata": {},
   "outputs": [],
   "source": [
    "def gene_sel_by_mev(exp, exp_label=\"\", show_figs=True, tf_list=[]):\n",
    "    all_exps = []\n",
    "    for num_genes in range(25, 201, 25):\n",
    "        exp_genes = []\n",
    "        for modCon in exp.gt_modCon.values():\n",
    "            top_100 = modCon.sort_values(by=[\"ModCon_{}_gt\".format(exp.type)], ascending=False).index.values[:num_genes]\n",
    "            exp_genes.extend(top_100)\n",
    "\n",
    "        # add to the global exps\n",
    "        sel_df = tcga_mutations_df[tcga_mutations_df.index.isin(exp_genes)]\n",
    "        mut_0 = sel_df[sel_df[\"count\"] > 0].shape[0]\n",
    "        mut_5 = sel_df[sel_df[\"count\"] >= 5].shape[0]\n",
    "        mut_10 = sel_df[sel_df[\"count\"] >= 10].shape[0]\n",
    "\n",
    "        # tf exploration\n",
    "        tf_used = set(exp_genes) & set(tf_list)\n",
    "        tf_used_mut = sel_df[sel_df[\"count\"] > 0]\n",
    "        tf_used_mut = tf_used_mut[tf_used_mut.index.isin(list(tf_used))].shape[0]\n",
    "\n",
    "        all_exps.append((len(exp_genes), mut_0, mut_5, mut_10, len(tf_used), tf_used_mut, str(num_genes)))\n",
    "\n",
    "    genes_stats = pd.DataFrame(all_exps, columns=[\"#Genes\", \"#Mutated >0\", \"#Mutated >5\", \"#Mutated >10\", \"#TF\", \"#Mutated TF\", \"Exp\"])\n",
    "\n",
    "    metrics_cols = genes_stats.columns[:-1]\n",
    "    remap_cols = {col: col.replace(\"#\", \"%\") for col in metrics_cols}\n",
    "    prct_df = pd.concat(\n",
    "        [genes_stats[\"Exp\"], genes_stats[metrics_cols].div(genes_stats[\"#Genes\"].values, axis=0).multiply(100).rename(columns=remap_cols)], axis=1\n",
    "    )\n",
    "\n",
    "    if show_figs:\n",
    "        # Proportion\n",
    "        fig = px.bar(\n",
    "            prct_df,\n",
    "            x=\"Exp\",\n",
    "            y=list(remap_cols.values()),\n",
    "            barmode=\"group\",\n",
    "            title=\"{}. Proportion of genes included when different #num selected by ModCon\".format(exp_label),\n",
    "            height=600,\n",
    "            text_auto=True,\n",
    "        )\n",
    "        fig.show()\n",
    "\n",
    "        # Numbers\n",
    "        fig = px.bar(\n",
    "            genes_stats,\n",
    "            x=\"Exp\",\n",
    "            y=genes_stats.columns[:-1],\n",
    "            barmode=\"group\",\n",
    "            title=\"{}. Number of genes when different #num selected by ModCon\".format(exp_label),\n",
    "            height=600,\n",
    "        )\n",
    "        fig.show()\n",
    "    return genes_stats, prct_df, exp_genes\n",
    "\n",
    "\n",
    "def tf_modCon_exps(exps, tf_range=None, tf_list=[]):\n",
    "    tf_changes = pd.DataFrame()\n",
    "    if tf_range is None:\n",
    "        tf_range = range(3, 10, 1)\n",
    "    for tf in tf_range:\n",
    "        sel_exp = exps[tf]\n",
    "        genes_used, _, _ = gene_sel_by_mev(sel_exp, exp_label=tf, show_figs=False, tf_list=tf_list)\n",
    "\n",
    "        remap_cols = {col: \"{}TF_{}\".format(tf, col) for col in [\"#TF\", \"#Mutated TF\", \"Exp\"]}\n",
    "        dmy = genes_used[list(remap_cols.keys())].copy(deep=True)\n",
    "        dmy[\"TF_edges\"] = \"{}\".format(tf)\n",
    "        tf_changes = pd.concat(\n",
    "            [tf_changes, dmy],\n",
    "            axis=0,\n",
    "        )\n",
    "\n",
    "    return tf_changes\n",
    "\n",
    "\n",
    "# This is more for development\n",
    "def plot_single_ctrl(ctrl_exps: dict, key=1, tf_list=[], exp_tf=[]):\n",
    "    #### This works for only one Control select the ModCon - 100\n",
    "\n",
    "    tf_changes_exp = tf_modCon_exps(t_exps, tf_range=list(list(range(3, 10, 1))), tf_list=tf_list)\n",
    "    tf_changes_control = tf_modCon_exps(ctrl_exps[key][\"exps\"], tf_range=list(list(range(3, 16, 1))), tf_list=tf_list)\n",
    "\n",
    "    tf_changes_exp[\"Type\"] = \"Experiment\"\n",
    "    tf_changes_control[\"Type\"] = \"Control\"\n",
    "\n",
    "    dmy_df = pd.concat([tf_changes_exp, tf_changes_control], axis=0)\n",
    "    dmy_df = dmy_df[dmy_df[\"Exp\"] == \"100\"]\n",
    "    dmy_df[\"Used_prct\"] = dmy_df[\"#TF\"] / len(exp_tf) * 100\n",
    "\n",
    "    fig = px.line(dmy_df, x=\"TF_edges\", y=\"Used_prct\", color=\"Type\", markers=True, title=\"% TF used in calculating the MEV\", height=600)\n",
    "    fig.update_layout(\n",
    "        legend=dict(\n",
    "            orientation=\"h\",\n",
    "            # title=\"Type\",\n",
    "            yanchor=\"bottom\",\n",
    "            y=0.18,\n",
    "            xanchor=\"center\",\n",
    "            x=0.5,\n",
    "            bgcolor=\"rgba(0,0,0,0)\",\n",
    "            font=dict(size=12),\n",
    "        ),\n",
    "    )\n",
    "    fig.update_xaxes(title_text=\"Minimum degree for selected genes\", tickfont=dict(size=14), title_font=dict(size=16))\n",
    "    fig = fig.update_yaxes(title_text=\"% of genes included\", range=[0, 105], tickfont=dict(size=14), title_font=dict(size=16))\n",
    "    fig.show()\n",
    "\n",
    "\n",
    "def worker(arg):\n",
    "    obj, methname = arg[:2]\n",
    "    _ = getattr(obj, methname)()\n",
    "    return obj\n",
    "\n",
    "\n",
    "# Need it to asign the type of sbm method applied\n",
    "for key, exp in t_exps.items():\n",
    "    exp.sbm_method = \"hsbm\"\n",
    "\n",
    "for key in ctrl_exps.keys():\n",
    "    for _, exp in ctrl_exps[key][\"exps\"].items():\n",
    "        exp.sbm_method = \"hsbm\""
   ]
  },
  {
   "cell_type": "code",
   "execution_count": 64,
   "metadata": {},
   "outputs": [],
   "source": [
    "results = pool.map(worker, ((exp, \"get_ModCon\") for exp in t_exps.values()))\n",
    "t_exps = {NetworkOutput.extract_tf_number(exp.name): exp for exp in results}\n",
    "\n",
    "for key, exp in t_exps.items():\n",
    "    sort_col = \"ModCon_{}_gt\".format(exp.type)\n",
    "    exp.mevsMut, _ = exp.get_mevs(tpms=all_tum_tpms, modCon=exp.gt_modCon, sort_col=sort_col, num_genes=100, verbose=False)"
   ]
  },
  {
   "cell_type": "code",
   "execution_count": 65,
   "metadata": {},
   "outputs": [
    {
     "name": "stdout",
     "output_type": "stream",
     "text": [
      "### ModCon Control 1\n",
      "### ModCon Control 2\n",
      "### ModCon Control 3\n",
      "### ModCon Control 4\n",
      "### ModCon Control 5\n",
      "### ModCon Control 6\n",
      "### ModCon Control 7\n",
      "### ModCon Control 8\n",
      "### ModCon Control 9\n",
      "### ModCon Control 10\n",
      "### MEV Control 1\n",
      "### MEV Control 2\n",
      "### MEV Control 3\n",
      "### MEV Control 4\n",
      "### MEV Control 5\n",
      "### MEV Control 6\n",
      "### MEV Control 7\n",
      "### MEV Control 8\n",
      "### MEV Control 9\n",
      "### MEV Control 10\n"
     ]
    }
   ],
   "source": [
    "# Healthy control for ModCon and MEV\n",
    "### ModCon\n",
    "for key in ctrl_exps.keys():\n",
    "    print(\"### ModCon Control {}\".format(key))\n",
    "    results = pool.map(worker, ((exp, \"get_ModCon\") for exp in ctrl_exps[key][\"exps\"].values()))\n",
    "    ctrl_exps[key][\"exps\"] = {NetworkOutput.extract_tf_number(exp.type): exp for exp in results}\n",
    "\n",
    "### MEV\n",
    "for key in ctrl_exps.keys():\n",
    "    print(\"### MEV Control {}\".format(key))\n",
    "    for key, exp in ctrl_exps[key][\"exps\"].items():\n",
    "        sort_col = \"ModCon_{}_gt\".format(exp.type)\n",
    "        exp.mevsMut, _ = exp.get_mevs(tpms=all_tum_tpms, modCon=exp.gt_modCon, sort_col=sort_col, num_genes=100, verbose=False)"
   ]
  },
  {
   "cell_type": "code",
   "execution_count": 95,
   "metadata": {},
   "outputs": [],
   "source": [
    "# Control TF changes\n",
    "used_tf = t_exps[3].tf_list\n",
    "\n",
    "tf_chgs_all_ctrls = []\n",
    "tf_range = list(list(range(3, 13, 1)))\n",
    "for key, val in ctrl_exps.items():\n",
    "    tf_chgs = tf_modCon_exps(val[\"exps\"], tf_range=tf_range, tf_list=tf_list)\n",
    "    tf_chgs = tf_chgs[tf_chgs[\"Exp\"] == \"100\"]\n",
    "    tf_chgs[\"Type\"] = \"hCtrl{}\".format(key)\n",
    "    tf_chgs[\"Used_prct\"] = tf_chgs[\"#TF\"] / len(used_tf) * 100\n",
    "    # tf_chgs[\"Mut_prct\"] = tf_chgs[\"#Mutated TF\"] / len(used_tf) * 100 #used_tf which are mutated\n",
    "    tf_chgs_all_ctrls.append(tf_chgs)\n",
    "\n",
    "tf_chgs_all_ctrls = pd.concat(tf_chgs_all_ctrls, axis=0)\n",
    "\n",
    "# Generate the Exp Changes too\n",
    "tf_changes_exp = tf_modCon_exps(t_exps, tf_range=tf_range, tf_list=tf_list)"
   ]
  },
  {
   "cell_type": "code",
   "execution_count": 102,
   "metadata": {},
   "outputs": [
    {
     "data": {
      "text/html": [
       "<div>\n",
       "<style scoped>\n",
       "    .dataframe tbody tr th:only-of-type {\n",
       "        vertical-align: middle;\n",
       "    }\n",
       "\n",
       "    .dataframe tbody tr th {\n",
       "        vertical-align: top;\n",
       "    }\n",
       "\n",
       "    .dataframe thead th {\n",
       "        text-align: right;\n",
       "    }\n",
       "</style>\n",
       "<table border=\"1\" class=\"dataframe\">\n",
       "  <thead>\n",
       "    <tr style=\"text-align: right;\">\n",
       "      <th></th>\n",
       "      <th>#TF</th>\n",
       "      <th>#Mutated TF</th>\n",
       "      <th>Exp</th>\n",
       "      <th>TF_edges</th>\n",
       "      <th>Type</th>\n",
       "      <th>Used_prct</th>\n",
       "    </tr>\n",
       "  </thead>\n",
       "  <tbody>\n",
       "    <tr>\n",
       "      <th>3</th>\n",
       "      <td>233</td>\n",
       "      <td>216</td>\n",
       "      <td>100</td>\n",
       "      <td>9</td>\n",
       "      <td>hCtrl1</td>\n",
       "      <td>14.215985</td>\n",
       "    </tr>\n",
       "    <tr>\n",
       "      <th>3</th>\n",
       "      <td>247</td>\n",
       "      <td>233</td>\n",
       "      <td>100</td>\n",
       "      <td>9</td>\n",
       "      <td>hCtrl2</td>\n",
       "      <td>15.070165</td>\n",
       "    </tr>\n",
       "    <tr>\n",
       "      <th>3</th>\n",
       "      <td>238</td>\n",
       "      <td>222</td>\n",
       "      <td>100</td>\n",
       "      <td>9</td>\n",
       "      <td>hCtrl3</td>\n",
       "      <td>14.521049</td>\n",
       "    </tr>\n",
       "    <tr>\n",
       "      <th>3</th>\n",
       "      <td>249</td>\n",
       "      <td>233</td>\n",
       "      <td>100</td>\n",
       "      <td>9</td>\n",
       "      <td>hCtrl4</td>\n",
       "      <td>15.192190</td>\n",
       "    </tr>\n",
       "    <tr>\n",
       "      <th>3</th>\n",
       "      <td>257</td>\n",
       "      <td>240</td>\n",
       "      <td>100</td>\n",
       "      <td>9</td>\n",
       "      <td>hCtrl5</td>\n",
       "      <td>15.680293</td>\n",
       "    </tr>\n",
       "    <tr>\n",
       "      <th>3</th>\n",
       "      <td>240</td>\n",
       "      <td>224</td>\n",
       "      <td>100</td>\n",
       "      <td>9</td>\n",
       "      <td>hCtrl6</td>\n",
       "      <td>14.643075</td>\n",
       "    </tr>\n",
       "    <tr>\n",
       "      <th>3</th>\n",
       "      <td>240</td>\n",
       "      <td>226</td>\n",
       "      <td>100</td>\n",
       "      <td>9</td>\n",
       "      <td>hCtrl7</td>\n",
       "      <td>14.643075</td>\n",
       "    </tr>\n",
       "    <tr>\n",
       "      <th>3</th>\n",
       "      <td>249</td>\n",
       "      <td>234</td>\n",
       "      <td>100</td>\n",
       "      <td>9</td>\n",
       "      <td>hCtrl8</td>\n",
       "      <td>15.192190</td>\n",
       "    </tr>\n",
       "    <tr>\n",
       "      <th>3</th>\n",
       "      <td>255</td>\n",
       "      <td>237</td>\n",
       "      <td>100</td>\n",
       "      <td>9</td>\n",
       "      <td>hCtrl9</td>\n",
       "      <td>15.558267</td>\n",
       "    </tr>\n",
       "    <tr>\n",
       "      <th>3</th>\n",
       "      <td>245</td>\n",
       "      <td>231</td>\n",
       "      <td>100</td>\n",
       "      <td>9</td>\n",
       "      <td>hCtrl10</td>\n",
       "      <td>14.948139</td>\n",
       "    </tr>\n",
       "  </tbody>\n",
       "</table>\n",
       "</div>"
      ],
      "text/plain": [
       "   #TF  #Mutated TF  Exp TF_edges     Type  Used_prct\n",
       "3  233          216  100        9   hCtrl1  14.215985\n",
       "3  247          233  100        9   hCtrl2  15.070165\n",
       "3  238          222  100        9   hCtrl3  14.521049\n",
       "3  249          233  100        9   hCtrl4  15.192190\n",
       "3  257          240  100        9   hCtrl5  15.680293\n",
       "3  240          224  100        9   hCtrl6  14.643075\n",
       "3  240          226  100        9   hCtrl7  14.643075\n",
       "3  249          234  100        9   hCtrl8  15.192190\n",
       "3  255          237  100        9   hCtrl9  15.558267\n",
       "3  245          231  100        9  hCtrl10  14.948139"
      ]
     },
     "execution_count": 102,
     "metadata": {},
     "output_type": "execute_result"
    }
   ],
   "source": [
    "sel_df"
   ]
  },
  {
   "cell_type": "code",
   "execution_count": 84,
   "metadata": {},
   "outputs": [],
   "source": [
    "# Process the information and get some stats\n",
    "\n",
    "## Control\n",
    "all_tf_chgs_stats = []\n",
    "for tf in tf_chgs_all_ctrls[\"TF_edges\"].unique():\n",
    "    sel_df = tf_chgs_all_ctrls[tf_chgs_all_ctrls[\"TF_edges\"] == tf]\n",
    "    all_tf_chgs_stats.append(\n",
    "        [\n",
    "            tf,\n",
    "            sel_df[\"Exp\"].values[0],\n",
    "            sel_df[\"Used_prct\"].median(axis=0),\n",
    "            sel_df[\"Used_prct\"].mean(axis=0),\n",
    "            sel_df[\"Used_prct\"].std(axis=0),\n",
    "            sel_df[\"#TF\"].median(axis=0),\n",
    "            sel_df[\"#TF\"].mean(axis=0),\n",
    "            sel_df[\"#TF\"].std(axis=0),\n",
    "            sel_df[\"#Mutated TF\"].median(axis=0),\n",
    "            sel_df[\"#Mutated TF\"].mean(axis=0),\n",
    "            sel_df[\"#Mutated TF\"].std(axis=0),\n",
    "        ]\n",
    "    )\n",
    "\n",
    "\n",
    "tf_chgs_stats_df = pd.DataFrame(\n",
    "    all_tf_chgs_stats,\n",
    "    columns=[\"TF_edges\", \"Exp\", \"Prct_median\", \"Prct_mean\", \"Prct_std\", \"#TF_median\", \"#TF_mean\", \"#TF_std\", \"#Mutated median\", \"Mutated mean\", \"Mutated std\"],\n",
    ")\n",
    "tf_chgs_stats_df[\"Type\"] = \"Control\"\n",
    "\n",
    "## Experiment\n",
    "tf_changes_exp = tf_changes_exp[tf_changes_exp[\"Exp\"] == \"100\"]\n",
    "tf_changes_exp[\"Used_prct\"] = tf_changes_exp[\"#TF\"] / len(used_tf) * 100\n",
    "tf_changes_exp[\"Prct_median\"] = tf_changes_exp[\"Used_prct\"]\n",
    "tf_changes_exp[\"Prct_mean\"] = tf_changes_exp[\"Used_prct\"]\n",
    "tf_changes_exp[\"Prct_std\"] = 0\n",
    "tf_changes_exp[\"Type\"] = \"Experiment\"\n",
    "# tf_changes_exp[\"Mut_prct\"] = tf_changes_exp[\"#Mutated TF\"] / len(used_tf) * 100\n",
    "\n",
    "## Combine the two\n",
    "comb_chgs = pd.concat([tf_chgs_stats_df, tf_changes_exp], axis=0)"
   ]
  },
  {
   "cell_type": "code",
   "execution_count": 83,
   "metadata": {},
   "outputs": [
    {
     "data": {
      "application/vnd.plotly.v1+json": {
       "config": {
        "plotlyServerURL": "https://plot.ly"
       },
       "data": [
        {
         "error_y": {
          "array": [
           0.8084293613039355,
           0.6865560712588004,
           0.597247259482697,
           0.8072773690387188,
           0.5583033536472969,
           0.8002013818732656,
           0.4647042435090314
          ],
          "width": 5
         },
         "hovertemplate": "Type=Control<br>TF_edges=%{x}<br>Prct_mean=%{y}<extra></extra>",
         "legendgroup": "Control",
         "line": {
          "color": "#DC3912",
          "dash": "solid",
          "width": 5
         },
         "marker": {
          "size": 12,
          "symbol": "circle"
         },
         "mode": "lines+markers",
         "name": "Control",
         "orientation": "v",
         "showlegend": true,
         "type": "scatter",
         "x": [
          "3",
          "4",
          "5",
          "6",
          "7",
          "8",
          "9"
         ],
         "xaxis": "x",
         "y": [
          14.746796827333739,
          14.020744356314827,
          14.496644295302014,
          14.325808419768148,
          14.508846857840144,
          14.844417327638803,
          14.966442953020135
         ],
         "yaxis": "y"
        },
        {
         "error_y": {
          "array": [
           0,
           0,
           0,
           0,
           0,
           0,
           0
          ],
          "width": 5
         },
         "hovertemplate": "Type=Experiment<br>TF_edges=%{x}<br>Prct_mean=%{y}<extra></extra>",
         "legendgroup": "Experiment",
         "line": {
          "color": "#3366CC",
          "dash": "solid",
          "width": 5
         },
         "marker": {
          "size": 12,
          "symbol": "circle"
         },
         "mode": "lines+markers",
         "name": "Experiment",
         "orientation": "v",
         "showlegend": true,
         "type": "scatter",
         "x": [
          "3",
          "4",
          "5",
          "6",
          "7",
          "8",
          "9"
         ],
         "xaxis": "x",
         "y": [
          14.215985356924953,
          17.38865161683954,
          19.524100061012813,
          19.585112873703476,
          21.17144600366077,
          21.53752287980476,
          21.720561317876754
         ],
         "yaxis": "y"
        }
       ],
       "layout": {
        "font": {
         "size": 16
        },
        "height": 600,
        "legend": {
         "bgcolor": "rgba(0,0,0,0)",
         "font": {
          "size": 16
         },
         "orientation": "h",
         "title": {
          "text": "Type"
         },
         "tracegroupgap": 0,
         "x": 0.5,
         "xanchor": "center",
         "y": 0.18,
         "yanchor": "bottom"
        },
        "template": {
         "data": {
          "bar": [
           {
            "error_x": {
             "color": "rgb(51,51,51)"
            },
            "error_y": {
             "color": "rgb(51,51,51)"
            },
            "marker": {
             "line": {
              "color": "rgb(237,237,237)",
              "width": 0.5
             },
             "pattern": {
              "fillmode": "overlay",
              "size": 10,
              "solidity": 0.2
             }
            },
            "type": "bar"
           }
          ],
          "barpolar": [
           {
            "marker": {
             "line": {
              "color": "rgb(237,237,237)",
              "width": 0.5
             },
             "pattern": {
              "fillmode": "overlay",
              "size": 10,
              "solidity": 0.2
             }
            },
            "type": "barpolar"
           }
          ],
          "carpet": [
           {
            "aaxis": {
             "endlinecolor": "rgb(51,51,51)",
             "gridcolor": "white",
             "linecolor": "white",
             "minorgridcolor": "white",
             "startlinecolor": "rgb(51,51,51)"
            },
            "baxis": {
             "endlinecolor": "rgb(51,51,51)",
             "gridcolor": "white",
             "linecolor": "white",
             "minorgridcolor": "white",
             "startlinecolor": "rgb(51,51,51)"
            },
            "type": "carpet"
           }
          ],
          "choropleth": [
           {
            "colorbar": {
             "outlinewidth": 0,
             "tickcolor": "rgb(237,237,237)",
             "ticklen": 6,
             "ticks": "inside"
            },
            "type": "choropleth"
           }
          ],
          "contour": [
           {
            "colorbar": {
             "outlinewidth": 0,
             "tickcolor": "rgb(237,237,237)",
             "ticklen": 6,
             "ticks": "inside"
            },
            "colorscale": [
             [
              0,
              "rgb(20,44,66)"
             ],
             [
              1,
              "rgb(90,179,244)"
             ]
            ],
            "type": "contour"
           }
          ],
          "contourcarpet": [
           {
            "colorbar": {
             "outlinewidth": 0,
             "tickcolor": "rgb(237,237,237)",
             "ticklen": 6,
             "ticks": "inside"
            },
            "type": "contourcarpet"
           }
          ],
          "heatmap": [
           {
            "colorbar": {
             "outlinewidth": 0,
             "tickcolor": "rgb(237,237,237)",
             "ticklen": 6,
             "ticks": "inside"
            },
            "colorscale": [
             [
              0,
              "rgb(20,44,66)"
             ],
             [
              1,
              "rgb(90,179,244)"
             ]
            ],
            "type": "heatmap"
           }
          ],
          "heatmapgl": [
           {
            "colorbar": {
             "outlinewidth": 0,
             "tickcolor": "rgb(237,237,237)",
             "ticklen": 6,
             "ticks": "inside"
            },
            "colorscale": [
             [
              0,
              "rgb(20,44,66)"
             ],
             [
              1,
              "rgb(90,179,244)"
             ]
            ],
            "type": "heatmapgl"
           }
          ],
          "histogram": [
           {
            "marker": {
             "pattern": {
              "fillmode": "overlay",
              "size": 10,
              "solidity": 0.2
             }
            },
            "type": "histogram"
           }
          ],
          "histogram2d": [
           {
            "colorbar": {
             "outlinewidth": 0,
             "tickcolor": "rgb(237,237,237)",
             "ticklen": 6,
             "ticks": "inside"
            },
            "colorscale": [
             [
              0,
              "rgb(20,44,66)"
             ],
             [
              1,
              "rgb(90,179,244)"
             ]
            ],
            "type": "histogram2d"
           }
          ],
          "histogram2dcontour": [
           {
            "colorbar": {
             "outlinewidth": 0,
             "tickcolor": "rgb(237,237,237)",
             "ticklen": 6,
             "ticks": "inside"
            },
            "colorscale": [
             [
              0,
              "rgb(20,44,66)"
             ],
             [
              1,
              "rgb(90,179,244)"
             ]
            ],
            "type": "histogram2dcontour"
           }
          ],
          "mesh3d": [
           {
            "colorbar": {
             "outlinewidth": 0,
             "tickcolor": "rgb(237,237,237)",
             "ticklen": 6,
             "ticks": "inside"
            },
            "type": "mesh3d"
           }
          ],
          "parcoords": [
           {
            "line": {
             "colorbar": {
              "outlinewidth": 0,
              "tickcolor": "rgb(237,237,237)",
              "ticklen": 6,
              "ticks": "inside"
             }
            },
            "type": "parcoords"
           }
          ],
          "pie": [
           {
            "automargin": true,
            "type": "pie"
           }
          ],
          "scatter": [
           {
            "fillpattern": {
             "fillmode": "overlay",
             "size": 10,
             "solidity": 0.2
            },
            "type": "scatter"
           }
          ],
          "scatter3d": [
           {
            "line": {
             "colorbar": {
              "outlinewidth": 0,
              "tickcolor": "rgb(237,237,237)",
              "ticklen": 6,
              "ticks": "inside"
             }
            },
            "marker": {
             "colorbar": {
              "outlinewidth": 0,
              "tickcolor": "rgb(237,237,237)",
              "ticklen": 6,
              "ticks": "inside"
             }
            },
            "type": "scatter3d"
           }
          ],
          "scattercarpet": [
           {
            "marker": {
             "colorbar": {
              "outlinewidth": 0,
              "tickcolor": "rgb(237,237,237)",
              "ticklen": 6,
              "ticks": "inside"
             }
            },
            "type": "scattercarpet"
           }
          ],
          "scattergeo": [
           {
            "marker": {
             "colorbar": {
              "outlinewidth": 0,
              "tickcolor": "rgb(237,237,237)",
              "ticklen": 6,
              "ticks": "inside"
             }
            },
            "type": "scattergeo"
           }
          ],
          "scattergl": [
           {
            "marker": {
             "colorbar": {
              "outlinewidth": 0,
              "tickcolor": "rgb(237,237,237)",
              "ticklen": 6,
              "ticks": "inside"
             }
            },
            "type": "scattergl"
           }
          ],
          "scattermapbox": [
           {
            "marker": {
             "colorbar": {
              "outlinewidth": 0,
              "tickcolor": "rgb(237,237,237)",
              "ticklen": 6,
              "ticks": "inside"
             }
            },
            "type": "scattermapbox"
           }
          ],
          "scatterpolar": [
           {
            "marker": {
             "colorbar": {
              "outlinewidth": 0,
              "tickcolor": "rgb(237,237,237)",
              "ticklen": 6,
              "ticks": "inside"
             }
            },
            "type": "scatterpolar"
           }
          ],
          "scatterpolargl": [
           {
            "marker": {
             "colorbar": {
              "outlinewidth": 0,
              "tickcolor": "rgb(237,237,237)",
              "ticklen": 6,
              "ticks": "inside"
             }
            },
            "type": "scatterpolargl"
           }
          ],
          "scatterternary": [
           {
            "marker": {
             "colorbar": {
              "outlinewidth": 0,
              "tickcolor": "rgb(237,237,237)",
              "ticklen": 6,
              "ticks": "inside"
             }
            },
            "type": "scatterternary"
           }
          ],
          "surface": [
           {
            "colorbar": {
             "outlinewidth": 0,
             "tickcolor": "rgb(237,237,237)",
             "ticklen": 6,
             "ticks": "inside"
            },
            "colorscale": [
             [
              0,
              "rgb(20,44,66)"
             ],
             [
              1,
              "rgb(90,179,244)"
             ]
            ],
            "type": "surface"
           }
          ],
          "table": [
           {
            "cells": {
             "fill": {
              "color": "rgb(237,237,237)"
             },
             "line": {
              "color": "white"
             }
            },
            "header": {
             "fill": {
              "color": "rgb(217,217,217)"
             },
             "line": {
              "color": "white"
             }
            },
            "type": "table"
           }
          ]
         },
         "layout": {
          "annotationdefaults": {
           "arrowhead": 0,
           "arrowwidth": 1
          },
          "autotypenumbers": "strict",
          "coloraxis": {
           "colorbar": {
            "outlinewidth": 0,
            "tickcolor": "rgb(237,237,237)",
            "ticklen": 6,
            "ticks": "inside"
           }
          },
          "colorscale": {
           "sequential": [
            [
             0,
             "rgb(20,44,66)"
            ],
            [
             1,
             "rgb(90,179,244)"
            ]
           ],
           "sequentialminus": [
            [
             0,
             "rgb(20,44,66)"
            ],
            [
             1,
             "rgb(90,179,244)"
            ]
           ]
          },
          "colorway": [
           "#F8766D",
           "#A3A500",
           "#00BF7D",
           "#00B0F6",
           "#E76BF3"
          ],
          "font": {
           "color": "rgb(51,51,51)"
          },
          "geo": {
           "bgcolor": "white",
           "lakecolor": "white",
           "landcolor": "rgb(237,237,237)",
           "showlakes": true,
           "showland": true,
           "subunitcolor": "white"
          },
          "hoverlabel": {
           "align": "left"
          },
          "hovermode": "closest",
          "paper_bgcolor": "white",
          "plot_bgcolor": "rgb(237,237,237)",
          "polar": {
           "angularaxis": {
            "gridcolor": "white",
            "linecolor": "white",
            "showgrid": true,
            "tickcolor": "rgb(51,51,51)",
            "ticks": "outside"
           },
           "bgcolor": "rgb(237,237,237)",
           "radialaxis": {
            "gridcolor": "white",
            "linecolor": "white",
            "showgrid": true,
            "tickcolor": "rgb(51,51,51)",
            "ticks": "outside"
           }
          },
          "scene": {
           "xaxis": {
            "backgroundcolor": "rgb(237,237,237)",
            "gridcolor": "white",
            "gridwidth": 2,
            "linecolor": "white",
            "showbackground": true,
            "showgrid": true,
            "tickcolor": "rgb(51,51,51)",
            "ticks": "outside",
            "zerolinecolor": "white"
           },
           "yaxis": {
            "backgroundcolor": "rgb(237,237,237)",
            "gridcolor": "white",
            "gridwidth": 2,
            "linecolor": "white",
            "showbackground": true,
            "showgrid": true,
            "tickcolor": "rgb(51,51,51)",
            "ticks": "outside",
            "zerolinecolor": "white"
           },
           "zaxis": {
            "backgroundcolor": "rgb(237,237,237)",
            "gridcolor": "white",
            "gridwidth": 2,
            "linecolor": "white",
            "showbackground": true,
            "showgrid": true,
            "tickcolor": "rgb(51,51,51)",
            "ticks": "outside",
            "zerolinecolor": "white"
           }
          },
          "shapedefaults": {
           "fillcolor": "black",
           "line": {
            "width": 0
           },
           "opacity": 0.3
          },
          "ternary": {
           "aaxis": {
            "gridcolor": "white",
            "linecolor": "white",
            "showgrid": true,
            "tickcolor": "rgb(51,51,51)",
            "ticks": "outside"
           },
           "baxis": {
            "gridcolor": "white",
            "linecolor": "white",
            "showgrid": true,
            "tickcolor": "rgb(51,51,51)",
            "ticks": "outside"
           },
           "bgcolor": "rgb(237,237,237)",
           "caxis": {
            "gridcolor": "white",
            "linecolor": "white",
            "showgrid": true,
            "tickcolor": "rgb(51,51,51)",
            "ticks": "outside"
           }
          },
          "xaxis": {
           "automargin": true,
           "gridcolor": "white",
           "linecolor": "white",
           "showgrid": true,
           "tickcolor": "rgb(51,51,51)",
           "ticks": "outside",
           "title": {
            "standoff": 15
           },
           "zerolinecolor": "white"
          },
          "yaxis": {
           "automargin": true,
           "gridcolor": "white",
           "linecolor": "white",
           "showgrid": true,
           "tickcolor": "rgb(51,51,51)",
           "ticks": "outside",
           "title": {
            "standoff": 15
           },
           "zerolinecolor": "white"
          }
         }
        },
        "title": {
         "text": ""
        },
        "xaxis": {
         "anchor": "y",
         "domain": [
          0,
          1
         ],
         "tickfont": {
          "size": 16
         },
         "title": {
          "text": "Minimum degree for selected genes"
         }
        },
        "yaxis": {
         "anchor": "x",
         "domain": [
          0,
          1
         ],
         "range": [
          0,
          25
         ],
         "tickfont": {
          "size": 16
         },
         "title": {
          "text": "% of genes included"
         }
        }
       }
      },
      "text/html": [
       "<div>                            <div id=\"4eeee3ce-02c4-45b3-8c40-4a6dfaa59f49\" class=\"plotly-graph-div\" style=\"height:600px; width:100%;\"></div>            <script type=\"text/javascript\">                require([\"plotly\"], function(Plotly) {                    window.PLOTLYENV=window.PLOTLYENV || {};                                    if (document.getElementById(\"4eeee3ce-02c4-45b3-8c40-4a6dfaa59f49\")) {                    Plotly.newPlot(                        \"4eeee3ce-02c4-45b3-8c40-4a6dfaa59f49\",                        [{\"error_y\":{\"array\":[0.8084293613039355,0.6865560712588004,0.597247259482697,0.8072773690387188,0.5583033536472969,0.8002013818732656,0.4647042435090314],\"width\":5},\"hovertemplate\":\"Type=Control\\u003cbr\\u003eTF_edges=%{x}\\u003cbr\\u003ePrct_mean=%{y}\\u003cextra\\u003e\\u003c\\u002fextra\\u003e\",\"legendgroup\":\"Control\",\"line\":{\"color\":\"#DC3912\",\"dash\":\"solid\",\"width\":5},\"marker\":{\"symbol\":\"circle\",\"size\":12},\"mode\":\"lines+markers\",\"name\":\"Control\",\"orientation\":\"v\",\"showlegend\":true,\"x\":[\"3\",\"4\",\"5\",\"6\",\"7\",\"8\",\"9\"],\"xaxis\":\"x\",\"y\":[14.746796827333739,14.020744356314827,14.496644295302014,14.325808419768148,14.508846857840144,14.844417327638803,14.966442953020135],\"yaxis\":\"y\",\"type\":\"scatter\"},{\"error_y\":{\"array\":[0.0,0.0,0.0,0.0,0.0,0.0,0.0],\"width\":5},\"hovertemplate\":\"Type=Experiment\\u003cbr\\u003eTF_edges=%{x}\\u003cbr\\u003ePrct_mean=%{y}\\u003cextra\\u003e\\u003c\\u002fextra\\u003e\",\"legendgroup\":\"Experiment\",\"line\":{\"color\":\"#3366CC\",\"dash\":\"solid\",\"width\":5},\"marker\":{\"symbol\":\"circle\",\"size\":12},\"mode\":\"lines+markers\",\"name\":\"Experiment\",\"orientation\":\"v\",\"showlegend\":true,\"x\":[\"3\",\"4\",\"5\",\"6\",\"7\",\"8\",\"9\"],\"xaxis\":\"x\",\"y\":[14.215985356924953,17.38865161683954,19.524100061012813,19.585112873703476,21.17144600366077,21.53752287980476,21.720561317876754],\"yaxis\":\"y\",\"type\":\"scatter\"}],                        {\"template\":{\"data\":{\"histogram2dcontour\":[{\"type\":\"histogram2dcontour\",\"colorbar\":{\"outlinewidth\":0,\"tickcolor\":\"rgb(237,237,237)\",\"ticklen\":6,\"ticks\":\"inside\"},\"colorscale\":[[0,\"rgb(20,44,66)\"],[1,\"rgb(90,179,244)\"]]}],\"choropleth\":[{\"type\":\"choropleth\",\"colorbar\":{\"outlinewidth\":0,\"tickcolor\":\"rgb(237,237,237)\",\"ticklen\":6,\"ticks\":\"inside\"}}],\"histogram2d\":[{\"type\":\"histogram2d\",\"colorbar\":{\"outlinewidth\":0,\"tickcolor\":\"rgb(237,237,237)\",\"ticklen\":6,\"ticks\":\"inside\"},\"colorscale\":[[0,\"rgb(20,44,66)\"],[1,\"rgb(90,179,244)\"]]}],\"heatmap\":[{\"type\":\"heatmap\",\"colorbar\":{\"outlinewidth\":0,\"tickcolor\":\"rgb(237,237,237)\",\"ticklen\":6,\"ticks\":\"inside\"},\"colorscale\":[[0,\"rgb(20,44,66)\"],[1,\"rgb(90,179,244)\"]]}],\"heatmapgl\":[{\"type\":\"heatmapgl\",\"colorbar\":{\"outlinewidth\":0,\"tickcolor\":\"rgb(237,237,237)\",\"ticklen\":6,\"ticks\":\"inside\"},\"colorscale\":[[0,\"rgb(20,44,66)\"],[1,\"rgb(90,179,244)\"]]}],\"contourcarpet\":[{\"type\":\"contourcarpet\",\"colorbar\":{\"outlinewidth\":0,\"tickcolor\":\"rgb(237,237,237)\",\"ticklen\":6,\"ticks\":\"inside\"}}],\"contour\":[{\"type\":\"contour\",\"colorbar\":{\"outlinewidth\":0,\"tickcolor\":\"rgb(237,237,237)\",\"ticklen\":6,\"ticks\":\"inside\"},\"colorscale\":[[0,\"rgb(20,44,66)\"],[1,\"rgb(90,179,244)\"]]}],\"surface\":[{\"type\":\"surface\",\"colorbar\":{\"outlinewidth\":0,\"tickcolor\":\"rgb(237,237,237)\",\"ticklen\":6,\"ticks\":\"inside\"},\"colorscale\":[[0,\"rgb(20,44,66)\"],[1,\"rgb(90,179,244)\"]]}],\"mesh3d\":[{\"type\":\"mesh3d\",\"colorbar\":{\"outlinewidth\":0,\"tickcolor\":\"rgb(237,237,237)\",\"ticklen\":6,\"ticks\":\"inside\"}}],\"scatter\":[{\"fillpattern\":{\"fillmode\":\"overlay\",\"size\":10,\"solidity\":0.2},\"type\":\"scatter\"}],\"parcoords\":[{\"type\":\"parcoords\",\"line\":{\"colorbar\":{\"outlinewidth\":0,\"tickcolor\":\"rgb(237,237,237)\",\"ticklen\":6,\"ticks\":\"inside\"}}}],\"scatterpolargl\":[{\"type\":\"scatterpolargl\",\"marker\":{\"colorbar\":{\"outlinewidth\":0,\"tickcolor\":\"rgb(237,237,237)\",\"ticklen\":6,\"ticks\":\"inside\"}}}],\"bar\":[{\"error_x\":{\"color\":\"rgb(51,51,51)\"},\"error_y\":{\"color\":\"rgb(51,51,51)\"},\"marker\":{\"line\":{\"color\":\"rgb(237,237,237)\",\"width\":0.5},\"pattern\":{\"fillmode\":\"overlay\",\"size\":10,\"solidity\":0.2}},\"type\":\"bar\"}],\"scattergeo\":[{\"type\":\"scattergeo\",\"marker\":{\"colorbar\":{\"outlinewidth\":0,\"tickcolor\":\"rgb(237,237,237)\",\"ticklen\":6,\"ticks\":\"inside\"}}}],\"scatterpolar\":[{\"type\":\"scatterpolar\",\"marker\":{\"colorbar\":{\"outlinewidth\":0,\"tickcolor\":\"rgb(237,237,237)\",\"ticklen\":6,\"ticks\":\"inside\"}}}],\"histogram\":[{\"marker\":{\"pattern\":{\"fillmode\":\"overlay\",\"size\":10,\"solidity\":0.2}},\"type\":\"histogram\"}],\"scattergl\":[{\"type\":\"scattergl\",\"marker\":{\"colorbar\":{\"outlinewidth\":0,\"tickcolor\":\"rgb(237,237,237)\",\"ticklen\":6,\"ticks\":\"inside\"}}}],\"scatter3d\":[{\"type\":\"scatter3d\",\"line\":{\"colorbar\":{\"outlinewidth\":0,\"tickcolor\":\"rgb(237,237,237)\",\"ticklen\":6,\"ticks\":\"inside\"}},\"marker\":{\"colorbar\":{\"outlinewidth\":0,\"tickcolor\":\"rgb(237,237,237)\",\"ticklen\":6,\"ticks\":\"inside\"}}}],\"scattermapbox\":[{\"type\":\"scattermapbox\",\"marker\":{\"colorbar\":{\"outlinewidth\":0,\"tickcolor\":\"rgb(237,237,237)\",\"ticklen\":6,\"ticks\":\"inside\"}}}],\"scatterternary\":[{\"type\":\"scatterternary\",\"marker\":{\"colorbar\":{\"outlinewidth\":0,\"tickcolor\":\"rgb(237,237,237)\",\"ticklen\":6,\"ticks\":\"inside\"}}}],\"scattercarpet\":[{\"type\":\"scattercarpet\",\"marker\":{\"colorbar\":{\"outlinewidth\":0,\"tickcolor\":\"rgb(237,237,237)\",\"ticklen\":6,\"ticks\":\"inside\"}}}],\"carpet\":[{\"aaxis\":{\"endlinecolor\":\"rgb(51,51,51)\",\"gridcolor\":\"white\",\"linecolor\":\"white\",\"minorgridcolor\":\"white\",\"startlinecolor\":\"rgb(51,51,51)\"},\"baxis\":{\"endlinecolor\":\"rgb(51,51,51)\",\"gridcolor\":\"white\",\"linecolor\":\"white\",\"minorgridcolor\":\"white\",\"startlinecolor\":\"rgb(51,51,51)\"},\"type\":\"carpet\"}],\"table\":[{\"cells\":{\"fill\":{\"color\":\"rgb(237,237,237)\"},\"line\":{\"color\":\"white\"}},\"header\":{\"fill\":{\"color\":\"rgb(217,217,217)\"},\"line\":{\"color\":\"white\"}},\"type\":\"table\"}],\"barpolar\":[{\"marker\":{\"line\":{\"color\":\"rgb(237,237,237)\",\"width\":0.5},\"pattern\":{\"fillmode\":\"overlay\",\"size\":10,\"solidity\":0.2}},\"type\":\"barpolar\"}],\"pie\":[{\"automargin\":true,\"type\":\"pie\"}]},\"layout\":{\"autotypenumbers\":\"strict\",\"colorway\":[\"#F8766D\",\"#A3A500\",\"#00BF7D\",\"#00B0F6\",\"#E76BF3\"],\"font\":{\"color\":\"rgb(51,51,51)\"},\"hovermode\":\"closest\",\"hoverlabel\":{\"align\":\"left\"},\"paper_bgcolor\":\"white\",\"plot_bgcolor\":\"rgb(237,237,237)\",\"polar\":{\"bgcolor\":\"rgb(237,237,237)\",\"angularaxis\":{\"gridcolor\":\"white\",\"linecolor\":\"white\",\"showgrid\":true,\"tickcolor\":\"rgb(51,51,51)\",\"ticks\":\"outside\"},\"radialaxis\":{\"gridcolor\":\"white\",\"linecolor\":\"white\",\"showgrid\":true,\"tickcolor\":\"rgb(51,51,51)\",\"ticks\":\"outside\"}},\"ternary\":{\"bgcolor\":\"rgb(237,237,237)\",\"aaxis\":{\"gridcolor\":\"white\",\"linecolor\":\"white\",\"showgrid\":true,\"tickcolor\":\"rgb(51,51,51)\",\"ticks\":\"outside\"},\"baxis\":{\"gridcolor\":\"white\",\"linecolor\":\"white\",\"showgrid\":true,\"tickcolor\":\"rgb(51,51,51)\",\"ticks\":\"outside\"},\"caxis\":{\"gridcolor\":\"white\",\"linecolor\":\"white\",\"showgrid\":true,\"tickcolor\":\"rgb(51,51,51)\",\"ticks\":\"outside\"}},\"coloraxis\":{\"colorbar\":{\"outlinewidth\":0,\"tickcolor\":\"rgb(237,237,237)\",\"ticklen\":6,\"ticks\":\"inside\"}},\"colorscale\":{\"sequential\":[[0,\"rgb(20,44,66)\"],[1,\"rgb(90,179,244)\"]],\"sequentialminus\":[[0,\"rgb(20,44,66)\"],[1,\"rgb(90,179,244)\"]]},\"xaxis\":{\"gridcolor\":\"white\",\"linecolor\":\"white\",\"showgrid\":true,\"tickcolor\":\"rgb(51,51,51)\",\"ticks\":\"outside\",\"title\":{\"standoff\":15},\"zerolinecolor\":\"white\",\"automargin\":true},\"yaxis\":{\"gridcolor\":\"white\",\"linecolor\":\"white\",\"showgrid\":true,\"tickcolor\":\"rgb(51,51,51)\",\"ticks\":\"outside\",\"title\":{\"standoff\":15},\"zerolinecolor\":\"white\",\"automargin\":true},\"scene\":{\"xaxis\":{\"backgroundcolor\":\"rgb(237,237,237)\",\"gridcolor\":\"white\",\"linecolor\":\"white\",\"showbackground\":true,\"showgrid\":true,\"tickcolor\":\"rgb(51,51,51)\",\"ticks\":\"outside\",\"zerolinecolor\":\"white\",\"gridwidth\":2},\"yaxis\":{\"backgroundcolor\":\"rgb(237,237,237)\",\"gridcolor\":\"white\",\"linecolor\":\"white\",\"showbackground\":true,\"showgrid\":true,\"tickcolor\":\"rgb(51,51,51)\",\"ticks\":\"outside\",\"zerolinecolor\":\"white\",\"gridwidth\":2},\"zaxis\":{\"backgroundcolor\":\"rgb(237,237,237)\",\"gridcolor\":\"white\",\"linecolor\":\"white\",\"showbackground\":true,\"showgrid\":true,\"tickcolor\":\"rgb(51,51,51)\",\"ticks\":\"outside\",\"zerolinecolor\":\"white\",\"gridwidth\":2}},\"shapedefaults\":{\"fillcolor\":\"black\",\"line\":{\"width\":0},\"opacity\":0.3},\"annotationdefaults\":{\"arrowhead\":0,\"arrowwidth\":1},\"geo\":{\"bgcolor\":\"white\",\"landcolor\":\"rgb(237,237,237)\",\"subunitcolor\":\"white\",\"showland\":true,\"showlakes\":true,\"lakecolor\":\"white\"}}},\"xaxis\":{\"anchor\":\"y\",\"domain\":[0.0,1.0],\"title\":{\"text\":\"Minimum degree for selected genes\"},\"tickfont\":{\"size\":16}},\"yaxis\":{\"anchor\":\"x\",\"domain\":[0.0,1.0],\"title\":{\"text\":\"% of genes included\"},\"tickfont\":{\"size\":16},\"range\":[0,25]},\"legend\":{\"title\":{\"text\":\"Type\"},\"tracegroupgap\":0,\"font\":{\"size\":16},\"orientation\":\"h\",\"yanchor\":\"bottom\",\"y\":0.18,\"xanchor\":\"center\",\"x\":0.5,\"bgcolor\":\"rgba(0,0,0,0)\"},\"title\":{\"text\":\"\"},\"height\":600,\"font\":{\"size\":16}},                        {\"responsive\": true}                    ).then(function(){\n",
       "                            \n",
       "var gd = document.getElementById('4eeee3ce-02c4-45b3-8c40-4a6dfaa59f49');\n",
       "var x = new MutationObserver(function (mutations, observer) {{\n",
       "        var display = window.getComputedStyle(gd).display;\n",
       "        if (!display || display === 'none') {{\n",
       "            console.log([gd, 'removed!']);\n",
       "            Plotly.purge(gd);\n",
       "            observer.disconnect();\n",
       "        }}\n",
       "}});\n",
       "\n",
       "// Listen for the removal of the full notebook cells\n",
       "var notebookContainer = gd.closest('#notebook-container');\n",
       "if (notebookContainer) {{\n",
       "    x.observe(notebookContainer, {childList: true});\n",
       "}}\n",
       "\n",
       "// Listen for the clearing of the current output cell\n",
       "var outputEl = gd.closest('.output');\n",
       "if (outputEl) {{\n",
       "    x.observe(outputEl, {childList: true});\n",
       "}}\n",
       "\n",
       "                        })                };                });            </script>        </div>"
      ]
     },
     "metadata": {},
     "output_type": "display_data"
    }
   ],
   "source": [
    "fig = px.line(\n",
    "    comb_chgs,\n",
    "    x=\"TF_edges\",\n",
    "    y=\"Prct_mean\",\n",
    "    error_y=\"Prct_std\",\n",
    "    color=\"Type\",\n",
    "    color_discrete_map=color_map,\n",
    "    markers=True,\n",
    "    title=\"% TF used in calculating the MEV\",\n",
    "    height=600,\n",
    ")\n",
    "fig.update_layout(\n",
    "    legend=dict(\n",
    "        orientation=\"h\",\n",
    "        # title=\"Type\",\n",
    "        yanchor=\"bottom\",\n",
    "        y=0.18,\n",
    "        xanchor=\"center\",\n",
    "        x=0.5,\n",
    "        bgcolor=\"rgba(0,0,0,0)\",\n",
    "        font=dict(size=16),\n",
    "    ),\n",
    "    title=\"\",\n",
    "    xaxis=dict(\n",
    "        tickfont=dict(size=16),\n",
    "        title_font=dict(\n",
    "            size=16,\n",
    "        ),\n",
    "        title=\"Minimum degree for selected genes\",\n",
    "    ),\n",
    "    yaxis=dict(\n",
    "        tickfont=dict(size=16),\n",
    "        title_font=dict(\n",
    "            size=16,\n",
    "        ),\n",
    "        title=\"% of genes included\",\n",
    "        range=[0, 25],\n",
    "    ),\n",
    "    font=dict(size=16),\n",
    ")\n",
    "# fig = fig.update_yaxes(title_text=\"% of genes included\", range=[0, 105], tickfont=dict(size=14), title_font=dict(size=16))\n",
    "fig.update_traces(line_width=5, marker_size=12, error_y=dict(width=5))\n",
    "save_fig(name=\"ctrls_min_dig_mev\", fig=fig, base_path=figures_path, width=1200, height=600)\n",
    "fig.show()"
   ]
  },
  {
   "cell_type": "code",
   "execution_count": 69,
   "metadata": {},
   "outputs": [],
   "source": [
    "# for development\n",
    "if False:\n",
    "    for key in range(1, 3, 1):\n",
    "        display(plot_single_ctrl(ctrl_exps, key=key), tf_list=tf_list)"
   ]
  },
  {
   "cell_type": "markdown",
   "metadata": {},
   "source": [
    "## Find common genes in TFs"
   ]
  },
  {
   "cell_type": "code",
   "execution_count": 70,
   "metadata": {},
   "outputs": [
    {
     "name": "stdout",
     "output_type": "stream",
     "text": [
      "TFs mutated but not expressed: \n"
     ]
    },
    {
     "data": {
      "text/html": [
       "<div>\n",
       "<style scoped>\n",
       "    .dataframe tbody tr th:only-of-type {\n",
       "        vertical-align: middle;\n",
       "    }\n",
       "\n",
       "    .dataframe tbody tr th {\n",
       "        vertical-align: top;\n",
       "    }\n",
       "\n",
       "    .dataframe thead th {\n",
       "        text-align: right;\n",
       "    }\n",
       "</style>\n",
       "<table border=\"1\" class=\"dataframe\">\n",
       "  <thead>\n",
       "    <tr style=\"text-align: right;\">\n",
       "      <th></th>\n",
       "      <th>mut_count</th>\n",
       "      <th>tum_median_expression</th>\n",
       "      <th>healthy_median_expression</th>\n",
       "      <th>tum_mean_expression</th>\n",
       "      <th>healthy_mean_expression</th>\n",
       "      <th>tum_std_expression</th>\n",
       "      <th>healthy_std_expression</th>\n",
       "    </tr>\n",
       "  </thead>\n",
       "  <tbody>\n",
       "  </tbody>\n",
       "</table>\n",
       "</div>"
      ],
      "text/plain": [
       "Empty DataFrame\n",
       "Columns: [mut_count, tum_median_expression, healthy_median_expression, tum_mean_expression, healthy_mean_expression, tum_std_expression, healthy_std_expression]\n",
       "Index: []"
      ]
     },
     "metadata": {},
     "output_type": "display_data"
    }
   ],
   "source": [
    "num_genes = 100\n",
    "all_ctrls = {}\n",
    "for ctrl_exp in ctrl_exps.values():\n",
    "    all_exps = {}\n",
    "    for exp in ctrl_exp[\"exps\"].values():\n",
    "        exp_genes = []\n",
    "        for modCon in exp.gt_modCon.values():\n",
    "            top_100 = modCon.sort_values(by=[\"ModCon_{}_gt\".format(exp.type)], ascending=False).index.values[:num_genes]\n",
    "            exp_genes.extend(top_100)\n",
    "\n",
    "        # tf exploration\n",
    "        tf_used = set(exp_genes) & set(tf_list)\n",
    "        if all_exps:\n",
    "            all_exps = tf_used & all_exps\n",
    "        else:\n",
    "            all_exps = tf_used\n",
    "\n",
    "    if all_ctrls:\n",
    "        all_ctrls = all_exps & all_ctrls\n",
    "    else:\n",
    "        all_ctrls = all_exps\n",
    "\n",
    "# To save the list\n",
    "if True:\n",
    "    dmy_df = pd.DataFrame(index=list(all_ctrls))\n",
    "    dmy_df[\"mut_count\"] = tcga_mutations_df[\"count\"]\n",
    "    sel_tum_df = all_tum_tpms.loc[all_tum_tpms.index.isin(list(all_ctrls))]\n",
    "    sel_h_df = exp.tpm_df.loc[exp.tpm_df.index.isin(list(all_ctrls))]\n",
    "\n",
    "    dmy_df[\"tum_median_expression\"] = sel_tum_df.median(axis=1)\n",
    "    dmy_df[\"healthy_median_expression\"] = sel_h_df.median(axis=1)\n",
    "\n",
    "    dmy_df[\"tum_mean_expression\"] = sel_tum_df.mean(axis=1)\n",
    "    dmy_df[\"healthy_mean_expression\"] = sel_h_df.mean(axis=1)\n",
    "\n",
    "    dmy_df[\"tum_std_expression\"] = sel_tum_df.std(axis=1)\n",
    "    dmy_df[\"healthy_std_expression\"] = sel_h_df.std(axis=1)\n",
    "\n",
    "    # Some interesting info\n",
    "    print(\"TFs mutated but not expressed: \")\n",
    "    display(dmy_df[dmy_df[\"tum_median_expression\"].isna()])\n",
    "\n",
    "    dmy_df.fillna(0, inplace=True)\n",
    "    dmy_df.index.names = [\"gene\"]\n",
    "    dmy_df.to_csv(data_base + \"gc42_tum_tf_ctrl_1.tsv\", sep='\\t')"
   ]
  },
  {
   "cell_type": "markdown",
   "metadata": {},
   "source": [
    "## Export network stats"
   ]
  },
  {
   "cell_type": "code",
   "execution_count": 71,
   "metadata": {},
   "outputs": [],
   "source": [
    "import pickle\n",
    "\n",
    "# Define a function to process each experiment\n",
    "def process_experiment(exp, tcga_mutations_df, exps_path):\n",
    "    exp.hsbm_add_vp(mut_df=tcga_mutations_df)\n",
    "    exp.graph = exp.gt_g\n",
    "    network_stats = exp.compute_graph_stats()\n",
    "    network_stats[\"TF\"] = exp.nodes_df[\"TF\"]\n",
    "    network_stats[\"mut_count\"] = exp.nodes_df[\"count\"]\n",
    "    network_stats[\"max_b\"] = exp.com_df[\"max_b\"]\n",
    "\n",
    "    network_stats.index.names = [\"gene\"]\n",
    "    network_stats.to_csv(f\"{exps_path}/Stats/networkStats_{exp.name}.tsv\", sep=\"\\t\")\n",
    "\n",
    "# Function to run multiprocessing\n",
    "def run_multiprocessing(ctrl_exps, tcga_mutations_df):\n",
    "    # Create a list of tasks\n",
    "    tasks = []\n",
    "    for ctrl_exp in ctrl_exps.values():\n",
    "        for exp in ctrl_exp[\"exps\"].values():\n",
    "            tasks.append((exp, tcga_mutations_df, exp.exps_path))\n",
    "\n",
    "    # Create a pool of workers\n",
    "    pool = mp.Pool(processes=mp.cpu_count())  # You can specify the number of processes here\n",
    "\n",
    "    # Map tasks to the worker function\n",
    "    pool.starmap(process_experiment, tasks)\n",
    "\n",
    "    # Close the pool and wait for work to complete\n",
    "    pool.close()\n",
    "    pool.join()\n",
    "\n",
    "\n",
    "def net_stats_exp_set(exps: dict):\n",
    "\n",
    "    for exp in exps.values():\n",
    "        print(exp.name)\n",
    "        exp.hsbm_add_vp(mut_df=tcga_mutations_df)\n",
    "        com_df, _ = ctrl_exps[idx][\"exps\"][key].hsbm_get_gt_df()\n",
    "        exp.graph = exp.gt_g\n",
    "        network_stats: pd.DataFrame = exp.compute_graph_stats()\n",
    "        network_stats[\"TF\"] = exp.nodes_df[\"TF\"]\n",
    "        network_stats[\"mut_count\"] = exp.nodes_df[\"count\"]\n",
    "        network_stats[\"max_b\"] = com_df[\"max_b\"]\n",
    "        network_stats.index.names = [\"gene\"]\n",
    "\n",
    "        # add modCon Rank\n",
    "        for com, modCon in exp.gt_modCon.items():\n",
    "            network_stats.loc[network_stats.index.isin(modCon.index), \"ModCon_Rank\"] = modCon[f\"ModCon_{exp.type}_gt\"].rank(ascending=False)\n",
    "\n",
    "        # Load the actual TFs\n",
    "        exp_stats_path = f\"{exp.exps_path}/Stats/{exp.name}.pickle\"\n",
    "        network_stats[\"marked_as_tf\"] = 0 # Some older version don't have a tf_list file attached and we have to account for that, that's for the healthyExp\n",
    "        if os.path.isfile(exp_stats_path):\n",
    "            with open(exp_stats_path, \"rb\") as handle:\n",
    "                exp_stats = pickle.load(handle)\n",
    "\n",
    "                if \"tf_list\" in exp_stats:\n",
    "                    marked_genes = exp_stats[\"tf_list\"]\n",
    "                    network_stats.loc[network_stats.index.isin(marked_genes), \"marked_as_tf\"] = 1\n",
    "\n",
    "        # Check the experiments\n",
    "        marked_genes = set(network_stats.loc[network_stats[\"marked_as_tf\"] == 1].index)\n",
    "        actual_tf = set(network_stats.loc[network_stats[\"TF\"] == 1].index)\n",
    "        if len(marked_genes & actual_tf) > 0:\n",
    "            print(f\"### Failed at choosing ctrl TF {exp.name}\")\n",
    "\n",
    "        network_stats.to_csv(f\"{exp.exps_path}/Stats/networkStats_{exp.name}.tsv\", sep=\"\\t\")"
   ]
  },
  {
   "cell_type": "code",
   "execution_count": 72,
   "metadata": {},
   "outputs": [
    {
     "name": "stdout",
     "output_type": "stream",
     "text": [
      "### Ctrl exp 1\n",
      "tum_ctrl_standard_7TF\n",
      "### Failed at choosing ctrl TF tum_ctrl_standard_7TF\n",
      "tum_ctrl_standard_9TF\n",
      "### Failed at choosing ctrl TF tum_ctrl_standard_9TF\n",
      "tum_ctrl_standard_11TF\n",
      "### Failed at choosing ctrl TF tum_ctrl_standard_11TF\n",
      "tum_ctrl_standard_3TF\n",
      "### Failed at choosing ctrl TF tum_ctrl_standard_3TF\n",
      "tum_ctrl_standard_5TF\n",
      "### Failed at choosing ctrl TF tum_ctrl_standard_5TF\n",
      "tum_ctrl_standard_10TF\n",
      "### Failed at choosing ctrl TF tum_ctrl_standard_10TF\n",
      "tum_ctrl_standard_8TF\n",
      "### Failed at choosing ctrl TF tum_ctrl_standard_8TF\n",
      "tum_ctrl_standard_12TF\n",
      "### Failed at choosing ctrl TF tum_ctrl_standard_12TF\n",
      "tum_ctrl_standard_6TF\n",
      "### Failed at choosing ctrl TF tum_ctrl_standard_6TF\n",
      "tum_ctrl_standard_4TF\n",
      "### Failed at choosing ctrl TF tum_ctrl_standard_4TF\n",
      "### Ctrl exp 2\n",
      "tum_ctrl_standard_9TF\n",
      "### Failed at choosing ctrl TF tum_ctrl_standard_9TF\n",
      "tum_ctrl_standard_11TF\n",
      "### Failed at choosing ctrl TF tum_ctrl_standard_11TF\n",
      "tum_ctrl_standard_7TF\n",
      "### Failed at choosing ctrl TF tum_ctrl_standard_7TF\n",
      "tum_ctrl_standard_5TF\n",
      "### Failed at choosing ctrl TF tum_ctrl_standard_5TF\n",
      "tum_ctrl_standard_3TF\n",
      "### Failed at choosing ctrl TF tum_ctrl_standard_3TF\n",
      "tum_ctrl_standard_8TF\n",
      "### Failed at choosing ctrl TF tum_ctrl_standard_8TF\n",
      "tum_ctrl_standard_12TF\n",
      "### Failed at choosing ctrl TF tum_ctrl_standard_12TF\n",
      "tum_ctrl_standard_6TF\n",
      "### Failed at choosing ctrl TF tum_ctrl_standard_6TF\n",
      "tum_ctrl_standard_10TF\n",
      "### Failed at choosing ctrl TF tum_ctrl_standard_10TF\n",
      "tum_ctrl_standard_4TF\n",
      "### Failed at choosing ctrl TF tum_ctrl_standard_4TF\n",
      "### Ctrl exp 3\n",
      "tum_ctrl_standard_9TF\n",
      "### Failed at choosing ctrl TF tum_ctrl_standard_9TF\n",
      "tum_ctrl_standard_11TF\n",
      "### Failed at choosing ctrl TF tum_ctrl_standard_11TF\n",
      "tum_ctrl_standard_7TF\n",
      "### Failed at choosing ctrl TF tum_ctrl_standard_7TF\n",
      "tum_ctrl_standard_5TF\n",
      "### Failed at choosing ctrl TF tum_ctrl_standard_5TF\n",
      "tum_ctrl_standard_3TF\n",
      "### Failed at choosing ctrl TF tum_ctrl_standard_3TF\n",
      "tum_ctrl_standard_6TF\n",
      "### Failed at choosing ctrl TF tum_ctrl_standard_6TF\n",
      "tum_ctrl_standard_10TF\n",
      "### Failed at choosing ctrl TF tum_ctrl_standard_10TF\n",
      "tum_ctrl_standard_8TF\n",
      "### Failed at choosing ctrl TF tum_ctrl_standard_8TF\n",
      "tum_ctrl_standard_12TF\n",
      "### Failed at choosing ctrl TF tum_ctrl_standard_12TF\n",
      "tum_ctrl_standard_4TF\n",
      "### Failed at choosing ctrl TF tum_ctrl_standard_4TF\n",
      "### Ctrl exp 4\n",
      "tum_ctrl_standard_3TF\n",
      "### Failed at choosing ctrl TF tum_ctrl_standard_3TF\n",
      "tum_ctrl_standard_4TF\n",
      "### Failed at choosing ctrl TF tum_ctrl_standard_4TF\n",
      "tum_ctrl_standard_5TF\n",
      "### Failed at choosing ctrl TF tum_ctrl_standard_5TF\n",
      "tum_ctrl_standard_9TF\n",
      "### Failed at choosing ctrl TF tum_ctrl_standard_9TF\n",
      "tum_ctrl_standard_7TF\n",
      "### Failed at choosing ctrl TF tum_ctrl_standard_7TF\n",
      "tum_ctrl_standard_11TF\n",
      "### Failed at choosing ctrl TF tum_ctrl_standard_11TF\n",
      "tum_ctrl_standard_6TF\n",
      "### Failed at choosing ctrl TF tum_ctrl_standard_6TF\n",
      "tum_ctrl_standard_10TF\n",
      "### Failed at choosing ctrl TF tum_ctrl_standard_10TF\n",
      "tum_ctrl_standard_8TF\n",
      "### Failed at choosing ctrl TF tum_ctrl_standard_8TF\n",
      "tum_ctrl_standard_12TF\n",
      "### Failed at choosing ctrl TF tum_ctrl_standard_12TF\n",
      "### Ctrl exp 5\n",
      "tum_ctrl_standard_3TF\n",
      "### Failed at choosing ctrl TF tum_ctrl_standard_3TF\n",
      "tum_ctrl_standard_9TF\n",
      "### Failed at choosing ctrl TF tum_ctrl_standard_9TF\n",
      "tum_ctrl_standard_5TF\n",
      "### Failed at choosing ctrl TF tum_ctrl_standard_5TF\n",
      "tum_ctrl_standard_11TF\n",
      "### Failed at choosing ctrl TF tum_ctrl_standard_11TF\n",
      "tum_ctrl_standard_7TF\n",
      "### Failed at choosing ctrl TF tum_ctrl_standard_7TF\n",
      "tum_ctrl_standard_6TF\n",
      "### Failed at choosing ctrl TF tum_ctrl_standard_6TF\n",
      "tum_ctrl_standard_10TF\n",
      "### Failed at choosing ctrl TF tum_ctrl_standard_10TF\n",
      "tum_ctrl_standard_4TF\n",
      "### Failed at choosing ctrl TF tum_ctrl_standard_4TF\n",
      "tum_ctrl_standard_12TF\n",
      "### Failed at choosing ctrl TF tum_ctrl_standard_12TF\n",
      "tum_ctrl_standard_8TF\n",
      "### Failed at choosing ctrl TF tum_ctrl_standard_8TF\n",
      "### Ctrl exp 6\n",
      "tum_ctrl_standard_3TF\n",
      "### Failed at choosing ctrl TF tum_ctrl_standard_3TF\n",
      "tum_ctrl_standard_7TF\n",
      "### Failed at choosing ctrl TF tum_ctrl_standard_7TF\n",
      "tum_ctrl_standard_5TF\n",
      "### Failed at choosing ctrl TF tum_ctrl_standard_5TF\n",
      "tum_ctrl_standard_11TF\n",
      "### Failed at choosing ctrl TF tum_ctrl_standard_11TF\n",
      "tum_ctrl_standard_9TF\n",
      "### Failed at choosing ctrl TF tum_ctrl_standard_9TF\n",
      "tum_ctrl_standard_8TF\n",
      "### Failed at choosing ctrl TF tum_ctrl_standard_8TF\n",
      "tum_ctrl_standard_6TF\n",
      "### Failed at choosing ctrl TF tum_ctrl_standard_6TF\n",
      "tum_ctrl_standard_4TF\n",
      "### Failed at choosing ctrl TF tum_ctrl_standard_4TF\n",
      "tum_ctrl_standard_10TF\n",
      "### Failed at choosing ctrl TF tum_ctrl_standard_10TF\n",
      "tum_ctrl_standard_12TF\n",
      "### Failed at choosing ctrl TF tum_ctrl_standard_12TF\n",
      "### Ctrl exp 7\n",
      "tum_ctrl_standard_3TF\n",
      "### Failed at choosing ctrl TF tum_ctrl_standard_3TF\n",
      "tum_ctrl_standard_5TF\n",
      "### Failed at choosing ctrl TF tum_ctrl_standard_5TF\n",
      "tum_ctrl_standard_4TF\n",
      "### Failed at choosing ctrl TF tum_ctrl_standard_4TF\n",
      "tum_ctrl_standard_6TF\n",
      "### Failed at choosing ctrl TF tum_ctrl_standard_6TF\n",
      "tum_ctrl_standard_7TF\n",
      "### Failed at choosing ctrl TF tum_ctrl_standard_7TF\n",
      "tum_ctrl_standard_11TF\n",
      "### Failed at choosing ctrl TF tum_ctrl_standard_11TF\n",
      "tum_ctrl_standard_9TF\n",
      "### Failed at choosing ctrl TF tum_ctrl_standard_9TF\n",
      "tum_ctrl_standard_8TF\n",
      "### Failed at choosing ctrl TF tum_ctrl_standard_8TF\n",
      "tum_ctrl_standard_12TF\n",
      "### Failed at choosing ctrl TF tum_ctrl_standard_12TF\n",
      "tum_ctrl_standard_10TF\n",
      "### Failed at choosing ctrl TF tum_ctrl_standard_10TF\n",
      "### Ctrl exp 8\n",
      "tum_ctrl_standard_7TF\n",
      "### Failed at choosing ctrl TF tum_ctrl_standard_7TF\n",
      "tum_ctrl_standard_3TF\n",
      "### Failed at choosing ctrl TF tum_ctrl_standard_3TF\n",
      "tum_ctrl_standard_9TF\n",
      "### Failed at choosing ctrl TF tum_ctrl_standard_9TF\n",
      "tum_ctrl_standard_5TF\n",
      "### Failed at choosing ctrl TF tum_ctrl_standard_5TF\n",
      "tum_ctrl_standard_11TF\n",
      "### Failed at choosing ctrl TF tum_ctrl_standard_11TF\n",
      "tum_ctrl_standard_8TF\n",
      "### Failed at choosing ctrl TF tum_ctrl_standard_8TF\n",
      "tum_ctrl_standard_10TF\n",
      "### Failed at choosing ctrl TF tum_ctrl_standard_10TF\n",
      "tum_ctrl_standard_12TF\n",
      "### Failed at choosing ctrl TF tum_ctrl_standard_12TF\n",
      "tum_ctrl_standard_6TF\n",
      "### Failed at choosing ctrl TF tum_ctrl_standard_6TF\n",
      "tum_ctrl_standard_4TF\n",
      "### Failed at choosing ctrl TF tum_ctrl_standard_4TF\n",
      "### Ctrl exp 9\n",
      "tum_ctrl_standard_3TF\n",
      "### Failed at choosing ctrl TF tum_ctrl_standard_3TF\n",
      "tum_ctrl_standard_5TF\n",
      "### Failed at choosing ctrl TF tum_ctrl_standard_5TF\n",
      "tum_ctrl_standard_11TF\n",
      "### Failed at choosing ctrl TF tum_ctrl_standard_11TF\n",
      "tum_ctrl_standard_7TF\n",
      "### Failed at choosing ctrl TF tum_ctrl_standard_7TF\n",
      "tum_ctrl_standard_9TF\n",
      "### Failed at choosing ctrl TF tum_ctrl_standard_9TF\n",
      "tum_ctrl_standard_12TF\n",
      "### Failed at choosing ctrl TF tum_ctrl_standard_12TF\n",
      "tum_ctrl_standard_6TF\n",
      "### Failed at choosing ctrl TF tum_ctrl_standard_6TF\n",
      "tum_ctrl_standard_10TF\n",
      "### Failed at choosing ctrl TF tum_ctrl_standard_10TF\n",
      "tum_ctrl_standard_4TF\n",
      "### Failed at choosing ctrl TF tum_ctrl_standard_4TF\n",
      "tum_ctrl_standard_8TF\n",
      "### Failed at choosing ctrl TF tum_ctrl_standard_8TF\n",
      "### Ctrl exp 10\n",
      "tum_ctrl_standard_7TF\n",
      "### Failed at choosing ctrl TF tum_ctrl_standard_7TF\n",
      "tum_ctrl_standard_3TF\n",
      "### Failed at choosing ctrl TF tum_ctrl_standard_3TF\n",
      "tum_ctrl_standard_5TF\n",
      "### Failed at choosing ctrl TF tum_ctrl_standard_5TF\n",
      "tum_ctrl_standard_9TF\n",
      "### Failed at choosing ctrl TF tum_ctrl_standard_9TF\n",
      "tum_ctrl_standard_4TF\n",
      "### Failed at choosing ctrl TF tum_ctrl_standard_4TF\n",
      "tum_ctrl_standard_8TF\n",
      "### Failed at choosing ctrl TF tum_ctrl_standard_8TF\n",
      "tum_ctrl_standard_6TF\n",
      "### Failed at choosing ctrl TF tum_ctrl_standard_6TF\n",
      "tum_ctrl_standard_11TF\n",
      "### Failed at choosing ctrl TF tum_ctrl_standard_11TF\n",
      "tum_ctrl_standard_10TF\n",
      "### Failed at choosing ctrl TF tum_ctrl_standard_10TF\n",
      "tum_ctrl_standard_12TF\n",
      "### Failed at choosing ctrl TF tum_ctrl_standard_12TF\n",
      "### Network stats for experiment\n",
      "tum_standard_12TF\n",
      "### Failed at choosing ctrl TF tum_standard_12TF\n",
      "tum_standard_11TF\n",
      "### Failed at choosing ctrl TF tum_standard_11TF\n",
      "tum_standard_4TF\n",
      "### Failed at choosing ctrl TF tum_standard_4TF\n",
      "tum_standard_9TF\n",
      "### Failed at choosing ctrl TF tum_standard_9TF\n",
      "tum_standard_10TF\n",
      "### Failed at choosing ctrl TF tum_standard_10TF\n",
      "tum_standard_5TF\n",
      "### Failed at choosing ctrl TF tum_standard_5TF\n",
      "tum_standard_3TF\n",
      "### Failed at choosing ctrl TF tum_standard_3TF\n",
      "tum_standard_8TF\n",
      "### Failed at choosing ctrl TF tum_standard_8TF\n",
      "tum_standard_7TF\n",
      "### Failed at choosing ctrl TF tum_standard_7TF\n",
      "tum_standard_6TF\n",
      "### Failed at choosing ctrl TF tum_standard_6TF\n"
     ]
    }
   ],
   "source": [
    "# Export the TF genes with the network metrics\n",
    "if 1:\n",
    "    for name, ctrl_exp in ctrl_exps.items():\n",
    "        all_exps = {}\n",
    "        print(f\"### Ctrl exp {name}\")\n",
    "        net_stats_exp_set(ctrl_exp[\"exps\"])\n",
    "\n",
    "    print(f\"### Network stats for experiment\")\n",
    "    net_stats_exp_set(t_exps)"
   ]
  },
  {
   "cell_type": "markdown",
   "metadata": {},
   "source": [
    "### Pparg/Rarg stats"
   ]
  },
  {
   "cell_type": "code",
   "execution_count": null,
   "metadata": {},
   "outputs": [],
   "source": [
    "import pickle as pickle\n",
    "\n",
    "# Adding the marked genes as TF. This really should haven't been in the other for loop\n",
    "genes = [\"RARG\", \"PPARG\", \"ELF3\", \"AHR\"]\n",
    "comb_df = pd.DataFrame()\n",
    "for name, ctrl_exp in ctrl_exps.items():\n",
    "    for exp in ctrl_exp[\"exps\"].values():\n",
    "        network_stats = pd.read_csv(f\"{exp.exps_path}/Stats/networkStats_{exp.name}.tsv\", index_col=\"gene\", sep=\"\\t\")\n",
    "\n",
    "        dmy_df = network_stats.loc[network_stats.index.isin(genes)]\n",
    "        dmy_df[\"num_tf\"] = int(exp.name.split(\"_\")[-1].split(\"TF\")[0])\n",
    "        dmy_df[\"ctrl\"] = int(name)\n",
    "        dmy_df[\"exp\"] = exp.name.replace(\"standard_int\", \"std\")\n",
    "\n",
    "        comb_df = pd.concat([comb_df, dmy_df], axis=0)"
   ]
  },
  {
   "cell_type": "code",
   "execution_count": null,
   "metadata": {},
   "outputs": [
    {
     "data": {
      "application/vnd.plotly.v1+json": {
       "config": {
        "plotlyServerURL": "https://plot.ly"
       },
       "data": [
        {
         "alignmentgroup": "True",
         "hovertemplate": "num_tf=10<br>gene=%{x}<br>degree_w=%{y}<extra></extra>",
         "legendgroup": "10",
         "marker": {
          "color": "#F8766D"
         },
         "name": "10",
         "notched": false,
         "offsetgroup": "10",
         "orientation": "v",
         "showlegend": true,
         "type": "box",
         "x": [
          "PPARG",
          "AHR",
          "ELF3",
          "PPARG",
          "AHR",
          "ELF3",
          "PPARG",
          "AHR",
          "ELF3",
          "PPARG",
          "AHR",
          "ELF3",
          "PPARG",
          "AHR",
          "ELF3",
          "PPARG",
          "AHR",
          "ELF3",
          "PPARG",
          "AHR",
          "ELF3",
          "PPARG",
          "AHR",
          "ELF3",
          "PPARG",
          "AHR",
          "ELF3"
         ],
         "x0": " ",
         "xaxis": "x",
         "y": [
          12.001,
          4.107,
          13.561,
          14.188,
          3.622,
          12.773,
          12.128,
          3.622,
          12.493,
          11.078,
          3.622,
          12.801,
          14.744,
          4.243,
          12.11,
          12.108,
          3.622,
          12.11,
          11.834,
          3.622,
          13.222,
          13.09,
          4.243,
          13.283,
          12.002,
          3.622,
          13.314
         ],
         "y0": " ",
         "yaxis": "y"
        },
        {
         "alignmentgroup": "True",
         "hovertemplate": "num_tf=4<br>gene=%{x}<br>degree_w=%{y}<extra></extra>",
         "legendgroup": "4",
         "marker": {
          "color": "#A3A500"
         },
         "name": "4",
         "notched": false,
         "offsetgroup": "4",
         "orientation": "v",
         "showlegend": true,
         "type": "box",
         "x": [
          "PPARG",
          "AHR",
          "ELF3",
          "PPARG",
          "AHR",
          "ELF3",
          "PPARG",
          "AHR",
          "ELF3",
          "PPARG",
          "AHR",
          "ELF3",
          "PPARG",
          "AHR",
          "ELF3",
          "PPARG",
          "AHR",
          "ELF3",
          "PPARG",
          "AHR",
          "ELF3",
          "PPARG",
          "AHR",
          "ELF3",
          "PPARG",
          "AHR",
          "ELF3"
         ],
         "x0": " ",
         "xaxis": "x",
         "y": [
          10.704,
          3.622,
          12.11,
          10.704,
          3.622,
          12.11,
          10.704,
          3.622,
          12.11,
          10.704,
          3.622,
          12.11,
          10.704,
          3.622,
          12.11,
          10.704,
          3.622,
          12.11,
          10.704,
          3.622,
          12.11,
          10.704,
          3.622,
          12.11,
          10.704,
          3.622,
          12.585
         ],
         "y0": " ",
         "yaxis": "y"
        },
        {
         "alignmentgroup": "True",
         "hovertemplate": "num_tf=6<br>gene=%{x}<br>degree_w=%{y}<extra></extra>",
         "legendgroup": "6",
         "marker": {
          "color": "#00BF7D"
         },
         "name": "6",
         "notched": false,
         "offsetgroup": "6",
         "orientation": "v",
         "showlegend": true,
         "type": "box",
         "x": [
          "PPARG",
          "AHR",
          "ELF3",
          "PPARG",
          "AHR",
          "ELF3",
          "PPARG",
          "AHR",
          "ELF3",
          "PPARG",
          "AHR",
          "ELF3",
          "PPARG",
          "AHR",
          "ELF3",
          "PPARG",
          "AHR",
          "ELF3",
          "PPARG",
          "AHR",
          "ELF3",
          "PPARG",
          "AHR",
          "ELF3",
          "PPARG",
          "AHR",
          "ELF3"
         ],
         "x0": " ",
         "xaxis": "x",
         "y": [
          11.402,
          4.107,
          13.162,
          12.024,
          3.622,
          12.11,
          12.128,
          3.622,
          12.11,
          11.078,
          3.622,
          12.11,
          12.754,
          3.622,
          12.11,
          11.43,
          3.622,
          12.11,
          10.704,
          3.622,
          12.839,
          10.704,
          3.622,
          12.825,
          11.385,
          3.622,
          13.314
         ],
         "y0": " ",
         "yaxis": "y"
        },
        {
         "alignmentgroup": "True",
         "hovertemplate": "num_tf=8<br>gene=%{x}<br>degree_w=%{y}<extra></extra>",
         "legendgroup": "8",
         "marker": {
          "color": "#00B0F6"
         },
         "name": "8",
         "notched": false,
         "offsetgroup": "8",
         "orientation": "v",
         "showlegend": true,
         "type": "box",
         "x": [
          "PPARG",
          "AHR",
          "ELF3",
          "PPARG",
          "AHR",
          "ELF3",
          "PPARG",
          "AHR",
          "ELF3",
          "PPARG",
          "AHR",
          "ELF3",
          "PPARG",
          "AHR",
          "ELF3",
          "PPARG",
          "AHR",
          "ELF3",
          "PPARG",
          "AHR",
          "ELF3",
          "PPARG",
          "AHR",
          "ELF3",
          "PPARG",
          "AHR",
          "ELF3"
         ],
         "x0": " ",
         "xaxis": "x",
         "y": [
          12.001,
          4.107,
          13.561,
          13.482,
          3.622,
          12.773,
          12.128,
          3.622,
          12.493,
          11.078,
          3.622,
          12.11,
          13.174,
          3.622,
          12.11,
          12.108,
          3.622,
          12.11,
          11.834,
          3.622,
          13.222,
          12.413,
          3.622,
          12.825,
          12.002,
          3.622,
          13.314
         ],
         "y0": " ",
         "yaxis": "y"
        },
        {
         "alignmentgroup": "True",
         "hovertemplate": "num_tf=3<br>gene=%{x}<br>degree_w=%{y}<extra></extra>",
         "legendgroup": "3",
         "marker": {
          "color": "#E76BF3"
         },
         "name": "3",
         "notched": false,
         "offsetgroup": "3",
         "orientation": "v",
         "showlegend": true,
         "type": "box",
         "x": [
          "PPARG",
          "AHR",
          "ELF3",
          "PPARG",
          "AHR",
          "ELF3",
          "PPARG",
          "AHR",
          "ELF3",
          "PPARG",
          "AHR",
          "ELF3",
          "PPARG",
          "AHR",
          "ELF3",
          "PPARG",
          "AHR",
          "ELF3",
          "PPARG",
          "AHR",
          "ELF3",
          "PPARG",
          "AHR",
          "ELF3",
          "PPARG",
          "AHR",
          "ELF3"
         ],
         "x0": " ",
         "xaxis": "x",
         "y": [
          10.704,
          3.622,
          12.11,
          10.704,
          3.622,
          12.11,
          10.704,
          3.622,
          12.11,
          10.704,
          3.622,
          12.11,
          10.704,
          3.622,
          12.11,
          10.704,
          3.622,
          12.11,
          10.704,
          3.622,
          12.11,
          10.704,
          3.622,
          12.11,
          10.704,
          3.622,
          12.11
         ],
         "y0": " ",
         "yaxis": "y"
        },
        {
         "alignmentgroup": "True",
         "hovertemplate": "num_tf=11<br>gene=%{x}<br>degree_w=%{y}<extra></extra>",
         "legendgroup": "11",
         "marker": {
          "color": "#F8766D"
         },
         "name": "11",
         "notched": false,
         "offsetgroup": "11",
         "orientation": "v",
         "showlegend": true,
         "type": "box",
         "x": [
          "PPARG",
          "AHR",
          "ELF3",
          "PPARG",
          "AHR",
          "ELF3",
          "PPARG",
          "AHR",
          "ELF3",
          "PPARG",
          "AHR",
          "ELF3",
          "PPARG",
          "AHR",
          "ELF3",
          "PPARG",
          "AHR",
          "ELF3",
          "PPARG",
          "AHR",
          "ELF3",
          "PPARG",
          "AHR",
          "ELF3",
          "PPARG",
          "AHR",
          "ELF3"
         ],
         "x0": " ",
         "xaxis": "x",
         "y": [
          12.001,
          4.107,
          13.561,
          15.507,
          3.622,
          12.773,
          12.748,
          3.622,
          12.493,
          12.292,
          3.622,
          12.801,
          15.364,
          4.243,
          12.744,
          12.108,
          3.622,
          12.11,
          12.423,
          3.622,
          13.222,
          13.09,
          4.243,
          13.283,
          12.002,
          3.622,
          13.314
         ],
         "y0": " ",
         "yaxis": "y"
        },
        {
         "alignmentgroup": "True",
         "hovertemplate": "num_tf=7<br>gene=%{x}<br>degree_w=%{y}<extra></extra>",
         "legendgroup": "7",
         "marker": {
          "color": "#A3A500"
         },
         "name": "7",
         "notched": false,
         "offsetgroup": "7",
         "orientation": "v",
         "showlegend": true,
         "type": "box",
         "x": [
          "PPARG",
          "AHR",
          "ELF3",
          "PPARG",
          "AHR",
          "ELF3",
          "PPARG",
          "AHR",
          "ELF3",
          "PPARG",
          "AHR",
          "ELF3",
          "PPARG",
          "AHR",
          "ELF3",
          "PPARG",
          "AHR",
          "ELF3",
          "PPARG",
          "AHR",
          "ELF3",
          "PPARG",
          "AHR",
          "ELF3",
          "PPARG",
          "AHR",
          "ELF3"
         ],
         "x0": " ",
         "xaxis": "x",
         "y": [
          12.001,
          4.107,
          13.162,
          12.734,
          3.622,
          12.11,
          12.128,
          3.622,
          12.11,
          11.078,
          3.622,
          12.11,
          13.174,
          3.622,
          12.11,
          12.108,
          3.622,
          12.11,
          11.834,
          3.622,
          12.839,
          12.413,
          3.622,
          12.825,
          11.385,
          3.622,
          13.314
         ],
         "y0": " ",
         "yaxis": "y"
        },
        {
         "alignmentgroup": "True",
         "hovertemplate": "num_tf=5<br>gene=%{x}<br>degree_w=%{y}<extra></extra>",
         "legendgroup": "5",
         "marker": {
          "color": "#00BF7D"
         },
         "name": "5",
         "notched": false,
         "offsetgroup": "5",
         "orientation": "v",
         "showlegend": true,
         "type": "box",
         "x": [
          "PPARG",
          "AHR",
          "ELF3",
          "PPARG",
          "AHR",
          "ELF3",
          "PPARG",
          "AHR",
          "ELF3",
          "PPARG",
          "AHR",
          "ELF3",
          "PPARG",
          "AHR",
          "ELF3",
          "PPARG",
          "AHR",
          "ELF3",
          "PPARG",
          "AHR",
          "ELF3",
          "PPARG",
          "AHR",
          "ELF3",
          "PPARG",
          "AHR",
          "ELF3"
         ],
         "x0": " ",
         "xaxis": "x",
         "y": [
          11.402,
          4.107,
          12.628,
          10.704,
          3.622,
          12.11,
          11.402,
          3.622,
          12.11,
          10.704,
          3.622,
          12.11,
          11.419,
          3.622,
          12.11,
          10.704,
          3.622,
          12.11,
          10.704,
          3.622,
          12.839,
          10.704,
          3.622,
          12.825,
          10.704,
          3.622,
          13.314
         ],
         "y0": " ",
         "yaxis": "y"
        },
        {
         "alignmentgroup": "True",
         "hovertemplate": "num_tf=9<br>gene=%{x}<br>degree_w=%{y}<extra></extra>",
         "legendgroup": "9",
         "marker": {
          "color": "#00B0F6"
         },
         "name": "9",
         "notched": false,
         "offsetgroup": "9",
         "orientation": "v",
         "showlegend": true,
         "type": "box",
         "x": [
          "PPARG",
          "AHR",
          "ELF3",
          "PPARG",
          "AHR",
          "ELF3",
          "PPARG",
          "AHR",
          "ELF3",
          "PPARG",
          "AHR",
          "ELF3",
          "PPARG",
          "AHR",
          "ELF3",
          "PPARG",
          "AHR",
          "ELF3",
          "PPARG",
          "AHR",
          "ELF3",
          "PPARG",
          "AHR",
          "ELF3",
          "PPARG",
          "AHR",
          "ELF3"
         ],
         "x0": " ",
         "xaxis": "x",
         "y": [
          12.001,
          4.107,
          13.561,
          14.188,
          3.622,
          12.773,
          12.128,
          3.622,
          12.493,
          11.078,
          3.622,
          12.801,
          13.648,
          4.243,
          12.11,
          12.108,
          3.622,
          12.11,
          11.834,
          3.622,
          13.222,
          12.413,
          4.243,
          13.283,
          12.002,
          3.622,
          13.314
         ],
         "y0": " ",
         "yaxis": "y"
        },
        {
         "alignmentgroup": "True",
         "hovertemplate": "num_tf=12<br>gene=%{x}<br>degree_w=%{y}<extra></extra>",
         "legendgroup": "12",
         "marker": {
          "color": "#E76BF3"
         },
         "name": "12",
         "notched": false,
         "offsetgroup": "12",
         "orientation": "v",
         "showlegend": true,
         "type": "box",
         "x": [
          "PPARG",
          "AHR",
          "ELF3",
          "PPARG",
          "AHR",
          "ELF3",
          "PPARG",
          "AHR",
          "ELF3",
          "PPARG",
          "AHR",
          "ELF3",
          "PPARG",
          "AHR",
          "ELF3",
          "PPARG",
          "AHR",
          "ELF3",
          "PPARG",
          "AHR",
          "ELF3",
          "PPARG",
          "AHR",
          "ELF3",
          "PPARG",
          "AHR",
          "ELF3"
         ],
         "x0": " ",
         "xaxis": "x",
         "y": [
          12.001,
          4.107,
          14.204,
          16.077,
          3.622,
          12.773,
          12.748,
          3.622,
          12.493,
          12.292,
          3.622,
          12.801,
          15.364,
          4.243,
          12.744,
          12.108,
          3.622,
          12.11,
          12.423,
          3.622,
          13.222,
          13.09,
          4.689,
          13.283,
          12.002,
          3.622,
          13.314
         ],
         "y0": " ",
         "yaxis": "y"
        }
       ],
       "layout": {
        "boxmode": "group",
        "legend": {
         "title": {
          "text": "num_tf"
         },
         "tracegroupgap": 0
        },
        "margin": {
         "t": 60
        },
        "template": {
         "data": {
          "bar": [
           {
            "error_x": {
             "color": "rgb(51,51,51)"
            },
            "error_y": {
             "color": "rgb(51,51,51)"
            },
            "marker": {
             "line": {
              "color": "rgb(237,237,237)",
              "width": 0.5
             },
             "pattern": {
              "fillmode": "overlay",
              "size": 10,
              "solidity": 0.2
             }
            },
            "type": "bar"
           }
          ],
          "barpolar": [
           {
            "marker": {
             "line": {
              "color": "rgb(237,237,237)",
              "width": 0.5
             },
             "pattern": {
              "fillmode": "overlay",
              "size": 10,
              "solidity": 0.2
             }
            },
            "type": "barpolar"
           }
          ],
          "carpet": [
           {
            "aaxis": {
             "endlinecolor": "rgb(51,51,51)",
             "gridcolor": "white",
             "linecolor": "white",
             "minorgridcolor": "white",
             "startlinecolor": "rgb(51,51,51)"
            },
            "baxis": {
             "endlinecolor": "rgb(51,51,51)",
             "gridcolor": "white",
             "linecolor": "white",
             "minorgridcolor": "white",
             "startlinecolor": "rgb(51,51,51)"
            },
            "type": "carpet"
           }
          ],
          "choropleth": [
           {
            "colorbar": {
             "outlinewidth": 0,
             "tickcolor": "rgb(237,237,237)",
             "ticklen": 6,
             "ticks": "inside"
            },
            "type": "choropleth"
           }
          ],
          "contour": [
           {
            "colorbar": {
             "outlinewidth": 0,
             "tickcolor": "rgb(237,237,237)",
             "ticklen": 6,
             "ticks": "inside"
            },
            "colorscale": [
             [
              0,
              "rgb(20,44,66)"
             ],
             [
              1,
              "rgb(90,179,244)"
             ]
            ],
            "type": "contour"
           }
          ],
          "contourcarpet": [
           {
            "colorbar": {
             "outlinewidth": 0,
             "tickcolor": "rgb(237,237,237)",
             "ticklen": 6,
             "ticks": "inside"
            },
            "type": "contourcarpet"
           }
          ],
          "heatmap": [
           {
            "colorbar": {
             "outlinewidth": 0,
             "tickcolor": "rgb(237,237,237)",
             "ticklen": 6,
             "ticks": "inside"
            },
            "colorscale": [
             [
              0,
              "rgb(20,44,66)"
             ],
             [
              1,
              "rgb(90,179,244)"
             ]
            ],
            "type": "heatmap"
           }
          ],
          "heatmapgl": [
           {
            "colorbar": {
             "outlinewidth": 0,
             "tickcolor": "rgb(237,237,237)",
             "ticklen": 6,
             "ticks": "inside"
            },
            "colorscale": [
             [
              0,
              "rgb(20,44,66)"
             ],
             [
              1,
              "rgb(90,179,244)"
             ]
            ],
            "type": "heatmapgl"
           }
          ],
          "histogram": [
           {
            "marker": {
             "pattern": {
              "fillmode": "overlay",
              "size": 10,
              "solidity": 0.2
             }
            },
            "type": "histogram"
           }
          ],
          "histogram2d": [
           {
            "colorbar": {
             "outlinewidth": 0,
             "tickcolor": "rgb(237,237,237)",
             "ticklen": 6,
             "ticks": "inside"
            },
            "colorscale": [
             [
              0,
              "rgb(20,44,66)"
             ],
             [
              1,
              "rgb(90,179,244)"
             ]
            ],
            "type": "histogram2d"
           }
          ],
          "histogram2dcontour": [
           {
            "colorbar": {
             "outlinewidth": 0,
             "tickcolor": "rgb(237,237,237)",
             "ticklen": 6,
             "ticks": "inside"
            },
            "colorscale": [
             [
              0,
              "rgb(20,44,66)"
             ],
             [
              1,
              "rgb(90,179,244)"
             ]
            ],
            "type": "histogram2dcontour"
           }
          ],
          "mesh3d": [
           {
            "colorbar": {
             "outlinewidth": 0,
             "tickcolor": "rgb(237,237,237)",
             "ticklen": 6,
             "ticks": "inside"
            },
            "type": "mesh3d"
           }
          ],
          "parcoords": [
           {
            "line": {
             "colorbar": {
              "outlinewidth": 0,
              "tickcolor": "rgb(237,237,237)",
              "ticklen": 6,
              "ticks": "inside"
             }
            },
            "type": "parcoords"
           }
          ],
          "pie": [
           {
            "automargin": true,
            "type": "pie"
           }
          ],
          "scatter": [
           {
            "fillpattern": {
             "fillmode": "overlay",
             "size": 10,
             "solidity": 0.2
            },
            "type": "scatter"
           }
          ],
          "scatter3d": [
           {
            "line": {
             "colorbar": {
              "outlinewidth": 0,
              "tickcolor": "rgb(237,237,237)",
              "ticklen": 6,
              "ticks": "inside"
             }
            },
            "marker": {
             "colorbar": {
              "outlinewidth": 0,
              "tickcolor": "rgb(237,237,237)",
              "ticklen": 6,
              "ticks": "inside"
             }
            },
            "type": "scatter3d"
           }
          ],
          "scattercarpet": [
           {
            "marker": {
             "colorbar": {
              "outlinewidth": 0,
              "tickcolor": "rgb(237,237,237)",
              "ticklen": 6,
              "ticks": "inside"
             }
            },
            "type": "scattercarpet"
           }
          ],
          "scattergeo": [
           {
            "marker": {
             "colorbar": {
              "outlinewidth": 0,
              "tickcolor": "rgb(237,237,237)",
              "ticklen": 6,
              "ticks": "inside"
             }
            },
            "type": "scattergeo"
           }
          ],
          "scattergl": [
           {
            "marker": {
             "colorbar": {
              "outlinewidth": 0,
              "tickcolor": "rgb(237,237,237)",
              "ticklen": 6,
              "ticks": "inside"
             }
            },
            "type": "scattergl"
           }
          ],
          "scattermapbox": [
           {
            "marker": {
             "colorbar": {
              "outlinewidth": 0,
              "tickcolor": "rgb(237,237,237)",
              "ticklen": 6,
              "ticks": "inside"
             }
            },
            "type": "scattermapbox"
           }
          ],
          "scatterpolar": [
           {
            "marker": {
             "colorbar": {
              "outlinewidth": 0,
              "tickcolor": "rgb(237,237,237)",
              "ticklen": 6,
              "ticks": "inside"
             }
            },
            "type": "scatterpolar"
           }
          ],
          "scatterpolargl": [
           {
            "marker": {
             "colorbar": {
              "outlinewidth": 0,
              "tickcolor": "rgb(237,237,237)",
              "ticklen": 6,
              "ticks": "inside"
             }
            },
            "type": "scatterpolargl"
           }
          ],
          "scatterternary": [
           {
            "marker": {
             "colorbar": {
              "outlinewidth": 0,
              "tickcolor": "rgb(237,237,237)",
              "ticklen": 6,
              "ticks": "inside"
             }
            },
            "type": "scatterternary"
           }
          ],
          "surface": [
           {
            "colorbar": {
             "outlinewidth": 0,
             "tickcolor": "rgb(237,237,237)",
             "ticklen": 6,
             "ticks": "inside"
            },
            "colorscale": [
             [
              0,
              "rgb(20,44,66)"
             ],
             [
              1,
              "rgb(90,179,244)"
             ]
            ],
            "type": "surface"
           }
          ],
          "table": [
           {
            "cells": {
             "fill": {
              "color": "rgb(237,237,237)"
             },
             "line": {
              "color": "white"
             }
            },
            "header": {
             "fill": {
              "color": "rgb(217,217,217)"
             },
             "line": {
              "color": "white"
             }
            },
            "type": "table"
           }
          ]
         },
         "layout": {
          "annotationdefaults": {
           "arrowhead": 0,
           "arrowwidth": 1
          },
          "autotypenumbers": "strict",
          "coloraxis": {
           "colorbar": {
            "outlinewidth": 0,
            "tickcolor": "rgb(237,237,237)",
            "ticklen": 6,
            "ticks": "inside"
           }
          },
          "colorscale": {
           "sequential": [
            [
             0,
             "rgb(20,44,66)"
            ],
            [
             1,
             "rgb(90,179,244)"
            ]
           ],
           "sequentialminus": [
            [
             0,
             "rgb(20,44,66)"
            ],
            [
             1,
             "rgb(90,179,244)"
            ]
           ]
          },
          "colorway": [
           "#F8766D",
           "#A3A500",
           "#00BF7D",
           "#00B0F6",
           "#E76BF3"
          ],
          "font": {
           "color": "rgb(51,51,51)"
          },
          "geo": {
           "bgcolor": "white",
           "lakecolor": "white",
           "landcolor": "rgb(237,237,237)",
           "showlakes": true,
           "showland": true,
           "subunitcolor": "white"
          },
          "hoverlabel": {
           "align": "left"
          },
          "hovermode": "closest",
          "paper_bgcolor": "white",
          "plot_bgcolor": "rgb(237,237,237)",
          "polar": {
           "angularaxis": {
            "gridcolor": "white",
            "linecolor": "white",
            "showgrid": true,
            "tickcolor": "rgb(51,51,51)",
            "ticks": "outside"
           },
           "bgcolor": "rgb(237,237,237)",
           "radialaxis": {
            "gridcolor": "white",
            "linecolor": "white",
            "showgrid": true,
            "tickcolor": "rgb(51,51,51)",
            "ticks": "outside"
           }
          },
          "scene": {
           "xaxis": {
            "backgroundcolor": "rgb(237,237,237)",
            "gridcolor": "white",
            "gridwidth": 2,
            "linecolor": "white",
            "showbackground": true,
            "showgrid": true,
            "tickcolor": "rgb(51,51,51)",
            "ticks": "outside",
            "zerolinecolor": "white"
           },
           "yaxis": {
            "backgroundcolor": "rgb(237,237,237)",
            "gridcolor": "white",
            "gridwidth": 2,
            "linecolor": "white",
            "showbackground": true,
            "showgrid": true,
            "tickcolor": "rgb(51,51,51)",
            "ticks": "outside",
            "zerolinecolor": "white"
           },
           "zaxis": {
            "backgroundcolor": "rgb(237,237,237)",
            "gridcolor": "white",
            "gridwidth": 2,
            "linecolor": "white",
            "showbackground": true,
            "showgrid": true,
            "tickcolor": "rgb(51,51,51)",
            "ticks": "outside",
            "zerolinecolor": "white"
           }
          },
          "shapedefaults": {
           "fillcolor": "black",
           "line": {
            "width": 0
           },
           "opacity": 0.3
          },
          "ternary": {
           "aaxis": {
            "gridcolor": "white",
            "linecolor": "white",
            "showgrid": true,
            "tickcolor": "rgb(51,51,51)",
            "ticks": "outside"
           },
           "baxis": {
            "gridcolor": "white",
            "linecolor": "white",
            "showgrid": true,
            "tickcolor": "rgb(51,51,51)",
            "ticks": "outside"
           },
           "bgcolor": "rgb(237,237,237)",
           "caxis": {
            "gridcolor": "white",
            "linecolor": "white",
            "showgrid": true,
            "tickcolor": "rgb(51,51,51)",
            "ticks": "outside"
           }
          },
          "xaxis": {
           "automargin": true,
           "gridcolor": "white",
           "linecolor": "white",
           "showgrid": true,
           "tickcolor": "rgb(51,51,51)",
           "ticks": "outside",
           "title": {
            "standoff": 15
           },
           "zerolinecolor": "white"
          },
          "yaxis": {
           "automargin": true,
           "gridcolor": "white",
           "linecolor": "white",
           "showgrid": true,
           "tickcolor": "rgb(51,51,51)",
           "ticks": "outside",
           "title": {
            "standoff": 15
           },
           "zerolinecolor": "white"
          }
         }
        },
        "xaxis": {
         "anchor": "y",
         "domain": [
          0,
          1
         ],
         "title": {
          "text": "gene"
         }
        },
        "yaxis": {
         "anchor": "x",
         "domain": [
          0,
          1
         ],
         "title": {
          "text": "degree_w"
         }
        }
       }
      },
      "text/html": [
       "<div>                            <div id=\"d8eefe39-f118-4e4c-adb4-44d641794644\" class=\"plotly-graph-div\" style=\"height:525px; width:100%;\"></div>            <script type=\"text/javascript\">                require([\"plotly\"], function(Plotly) {                    window.PLOTLYENV=window.PLOTLYENV || {};                                    if (document.getElementById(\"d8eefe39-f118-4e4c-adb4-44d641794644\")) {                    Plotly.newPlot(                        \"d8eefe39-f118-4e4c-adb4-44d641794644\",                        [{\"alignmentgroup\":\"True\",\"hovertemplate\":\"num_tf=10\\u003cbr\\u003egene=%{x}\\u003cbr\\u003edegree_w=%{y}\\u003cextra\\u003e\\u003c\\u002fextra\\u003e\",\"legendgroup\":\"10\",\"marker\":{\"color\":\"#F8766D\"},\"name\":\"10\",\"notched\":false,\"offsetgroup\":\"10\",\"orientation\":\"v\",\"showlegend\":true,\"x\":[\"PPARG\",\"AHR\",\"ELF3\",\"PPARG\",\"AHR\",\"ELF3\",\"PPARG\",\"AHR\",\"ELF3\",\"PPARG\",\"AHR\",\"ELF3\",\"PPARG\",\"AHR\",\"ELF3\",\"PPARG\",\"AHR\",\"ELF3\",\"PPARG\",\"AHR\",\"ELF3\",\"PPARG\",\"AHR\",\"ELF3\",\"PPARG\",\"AHR\",\"ELF3\"],\"x0\":\" \",\"xaxis\":\"x\",\"y\":[12.001,4.107,13.561,14.188,3.622,12.773,12.128,3.622,12.493,11.078,3.622,12.801,14.744,4.243,12.11,12.108,3.622,12.11,11.834,3.622,13.222,13.09,4.243,13.283,12.002,3.622,13.314],\"y0\":\" \",\"yaxis\":\"y\",\"type\":\"box\"},{\"alignmentgroup\":\"True\",\"hovertemplate\":\"num_tf=4\\u003cbr\\u003egene=%{x}\\u003cbr\\u003edegree_w=%{y}\\u003cextra\\u003e\\u003c\\u002fextra\\u003e\",\"legendgroup\":\"4\",\"marker\":{\"color\":\"#A3A500\"},\"name\":\"4\",\"notched\":false,\"offsetgroup\":\"4\",\"orientation\":\"v\",\"showlegend\":true,\"x\":[\"PPARG\",\"AHR\",\"ELF3\",\"PPARG\",\"AHR\",\"ELF3\",\"PPARG\",\"AHR\",\"ELF3\",\"PPARG\",\"AHR\",\"ELF3\",\"PPARG\",\"AHR\",\"ELF3\",\"PPARG\",\"AHR\",\"ELF3\",\"PPARG\",\"AHR\",\"ELF3\",\"PPARG\",\"AHR\",\"ELF3\",\"PPARG\",\"AHR\",\"ELF3\"],\"x0\":\" \",\"xaxis\":\"x\",\"y\":[10.704,3.622,12.11,10.704,3.622,12.11,10.704,3.622,12.11,10.704,3.622,12.11,10.704,3.622,12.11,10.704,3.622,12.11,10.704,3.622,12.11,10.704,3.622,12.11,10.704,3.622,12.585],\"y0\":\" \",\"yaxis\":\"y\",\"type\":\"box\"},{\"alignmentgroup\":\"True\",\"hovertemplate\":\"num_tf=6\\u003cbr\\u003egene=%{x}\\u003cbr\\u003edegree_w=%{y}\\u003cextra\\u003e\\u003c\\u002fextra\\u003e\",\"legendgroup\":\"6\",\"marker\":{\"color\":\"#00BF7D\"},\"name\":\"6\",\"notched\":false,\"offsetgroup\":\"6\",\"orientation\":\"v\",\"showlegend\":true,\"x\":[\"PPARG\",\"AHR\",\"ELF3\",\"PPARG\",\"AHR\",\"ELF3\",\"PPARG\",\"AHR\",\"ELF3\",\"PPARG\",\"AHR\",\"ELF3\",\"PPARG\",\"AHR\",\"ELF3\",\"PPARG\",\"AHR\",\"ELF3\",\"PPARG\",\"AHR\",\"ELF3\",\"PPARG\",\"AHR\",\"ELF3\",\"PPARG\",\"AHR\",\"ELF3\"],\"x0\":\" \",\"xaxis\":\"x\",\"y\":[11.402,4.107,13.162,12.024,3.622,12.11,12.128,3.622,12.11,11.078,3.622,12.11,12.754,3.622,12.11,11.43,3.622,12.11,10.704,3.622,12.839,10.704,3.622,12.825,11.385,3.622,13.314],\"y0\":\" \",\"yaxis\":\"y\",\"type\":\"box\"},{\"alignmentgroup\":\"True\",\"hovertemplate\":\"num_tf=8\\u003cbr\\u003egene=%{x}\\u003cbr\\u003edegree_w=%{y}\\u003cextra\\u003e\\u003c\\u002fextra\\u003e\",\"legendgroup\":\"8\",\"marker\":{\"color\":\"#00B0F6\"},\"name\":\"8\",\"notched\":false,\"offsetgroup\":\"8\",\"orientation\":\"v\",\"showlegend\":true,\"x\":[\"PPARG\",\"AHR\",\"ELF3\",\"PPARG\",\"AHR\",\"ELF3\",\"PPARG\",\"AHR\",\"ELF3\",\"PPARG\",\"AHR\",\"ELF3\",\"PPARG\",\"AHR\",\"ELF3\",\"PPARG\",\"AHR\",\"ELF3\",\"PPARG\",\"AHR\",\"ELF3\",\"PPARG\",\"AHR\",\"ELF3\",\"PPARG\",\"AHR\",\"ELF3\"],\"x0\":\" \",\"xaxis\":\"x\",\"y\":[12.001,4.107,13.561,13.482,3.622,12.773,12.128,3.622,12.493,11.078,3.622,12.11,13.174,3.622,12.11,12.108,3.622,12.11,11.834,3.622,13.222,12.413,3.622,12.825,12.002,3.622,13.314],\"y0\":\" \",\"yaxis\":\"y\",\"type\":\"box\"},{\"alignmentgroup\":\"True\",\"hovertemplate\":\"num_tf=3\\u003cbr\\u003egene=%{x}\\u003cbr\\u003edegree_w=%{y}\\u003cextra\\u003e\\u003c\\u002fextra\\u003e\",\"legendgroup\":\"3\",\"marker\":{\"color\":\"#E76BF3\"},\"name\":\"3\",\"notched\":false,\"offsetgroup\":\"3\",\"orientation\":\"v\",\"showlegend\":true,\"x\":[\"PPARG\",\"AHR\",\"ELF3\",\"PPARG\",\"AHR\",\"ELF3\",\"PPARG\",\"AHR\",\"ELF3\",\"PPARG\",\"AHR\",\"ELF3\",\"PPARG\",\"AHR\",\"ELF3\",\"PPARG\",\"AHR\",\"ELF3\",\"PPARG\",\"AHR\",\"ELF3\",\"PPARG\",\"AHR\",\"ELF3\",\"PPARG\",\"AHR\",\"ELF3\"],\"x0\":\" \",\"xaxis\":\"x\",\"y\":[10.704,3.622,12.11,10.704,3.622,12.11,10.704,3.622,12.11,10.704,3.622,12.11,10.704,3.622,12.11,10.704,3.622,12.11,10.704,3.622,12.11,10.704,3.622,12.11,10.704,3.622,12.11],\"y0\":\" \",\"yaxis\":\"y\",\"type\":\"box\"},{\"alignmentgroup\":\"True\",\"hovertemplate\":\"num_tf=11\\u003cbr\\u003egene=%{x}\\u003cbr\\u003edegree_w=%{y}\\u003cextra\\u003e\\u003c\\u002fextra\\u003e\",\"legendgroup\":\"11\",\"marker\":{\"color\":\"#F8766D\"},\"name\":\"11\",\"notched\":false,\"offsetgroup\":\"11\",\"orientation\":\"v\",\"showlegend\":true,\"x\":[\"PPARG\",\"AHR\",\"ELF3\",\"PPARG\",\"AHR\",\"ELF3\",\"PPARG\",\"AHR\",\"ELF3\",\"PPARG\",\"AHR\",\"ELF3\",\"PPARG\",\"AHR\",\"ELF3\",\"PPARG\",\"AHR\",\"ELF3\",\"PPARG\",\"AHR\",\"ELF3\",\"PPARG\",\"AHR\",\"ELF3\",\"PPARG\",\"AHR\",\"ELF3\"],\"x0\":\" \",\"xaxis\":\"x\",\"y\":[12.001,4.107,13.561,15.507,3.622,12.773,12.748,3.622,12.493,12.292,3.622,12.801,15.364,4.243,12.744,12.108,3.622,12.11,12.423,3.622,13.222,13.09,4.243,13.283,12.002,3.622,13.314],\"y0\":\" \",\"yaxis\":\"y\",\"type\":\"box\"},{\"alignmentgroup\":\"True\",\"hovertemplate\":\"num_tf=7\\u003cbr\\u003egene=%{x}\\u003cbr\\u003edegree_w=%{y}\\u003cextra\\u003e\\u003c\\u002fextra\\u003e\",\"legendgroup\":\"7\",\"marker\":{\"color\":\"#A3A500\"},\"name\":\"7\",\"notched\":false,\"offsetgroup\":\"7\",\"orientation\":\"v\",\"showlegend\":true,\"x\":[\"PPARG\",\"AHR\",\"ELF3\",\"PPARG\",\"AHR\",\"ELF3\",\"PPARG\",\"AHR\",\"ELF3\",\"PPARG\",\"AHR\",\"ELF3\",\"PPARG\",\"AHR\",\"ELF3\",\"PPARG\",\"AHR\",\"ELF3\",\"PPARG\",\"AHR\",\"ELF3\",\"PPARG\",\"AHR\",\"ELF3\",\"PPARG\",\"AHR\",\"ELF3\"],\"x0\":\" \",\"xaxis\":\"x\",\"y\":[12.001,4.107,13.162,12.734,3.622,12.11,12.128,3.622,12.11,11.078,3.622,12.11,13.174,3.622,12.11,12.108,3.622,12.11,11.834,3.622,12.839,12.413,3.622,12.825,11.385,3.622,13.314],\"y0\":\" \",\"yaxis\":\"y\",\"type\":\"box\"},{\"alignmentgroup\":\"True\",\"hovertemplate\":\"num_tf=5\\u003cbr\\u003egene=%{x}\\u003cbr\\u003edegree_w=%{y}\\u003cextra\\u003e\\u003c\\u002fextra\\u003e\",\"legendgroup\":\"5\",\"marker\":{\"color\":\"#00BF7D\"},\"name\":\"5\",\"notched\":false,\"offsetgroup\":\"5\",\"orientation\":\"v\",\"showlegend\":true,\"x\":[\"PPARG\",\"AHR\",\"ELF3\",\"PPARG\",\"AHR\",\"ELF3\",\"PPARG\",\"AHR\",\"ELF3\",\"PPARG\",\"AHR\",\"ELF3\",\"PPARG\",\"AHR\",\"ELF3\",\"PPARG\",\"AHR\",\"ELF3\",\"PPARG\",\"AHR\",\"ELF3\",\"PPARG\",\"AHR\",\"ELF3\",\"PPARG\",\"AHR\",\"ELF3\"],\"x0\":\" \",\"xaxis\":\"x\",\"y\":[11.402,4.107,12.628,10.704,3.622,12.11,11.402,3.622,12.11,10.704,3.622,12.11,11.419,3.622,12.11,10.704,3.622,12.11,10.704,3.622,12.839,10.704,3.622,12.825,10.704,3.622,13.314],\"y0\":\" \",\"yaxis\":\"y\",\"type\":\"box\"},{\"alignmentgroup\":\"True\",\"hovertemplate\":\"num_tf=9\\u003cbr\\u003egene=%{x}\\u003cbr\\u003edegree_w=%{y}\\u003cextra\\u003e\\u003c\\u002fextra\\u003e\",\"legendgroup\":\"9\",\"marker\":{\"color\":\"#00B0F6\"},\"name\":\"9\",\"notched\":false,\"offsetgroup\":\"9\",\"orientation\":\"v\",\"showlegend\":true,\"x\":[\"PPARG\",\"AHR\",\"ELF3\",\"PPARG\",\"AHR\",\"ELF3\",\"PPARG\",\"AHR\",\"ELF3\",\"PPARG\",\"AHR\",\"ELF3\",\"PPARG\",\"AHR\",\"ELF3\",\"PPARG\",\"AHR\",\"ELF3\",\"PPARG\",\"AHR\",\"ELF3\",\"PPARG\",\"AHR\",\"ELF3\",\"PPARG\",\"AHR\",\"ELF3\"],\"x0\":\" \",\"xaxis\":\"x\",\"y\":[12.001,4.107,13.561,14.188,3.622,12.773,12.128,3.622,12.493,11.078,3.622,12.801,13.648,4.243,12.11,12.108,3.622,12.11,11.834,3.622,13.222,12.413,4.243,13.283,12.002,3.622,13.314],\"y0\":\" \",\"yaxis\":\"y\",\"type\":\"box\"},{\"alignmentgroup\":\"True\",\"hovertemplate\":\"num_tf=12\\u003cbr\\u003egene=%{x}\\u003cbr\\u003edegree_w=%{y}\\u003cextra\\u003e\\u003c\\u002fextra\\u003e\",\"legendgroup\":\"12\",\"marker\":{\"color\":\"#E76BF3\"},\"name\":\"12\",\"notched\":false,\"offsetgroup\":\"12\",\"orientation\":\"v\",\"showlegend\":true,\"x\":[\"PPARG\",\"AHR\",\"ELF3\",\"PPARG\",\"AHR\",\"ELF3\",\"PPARG\",\"AHR\",\"ELF3\",\"PPARG\",\"AHR\",\"ELF3\",\"PPARG\",\"AHR\",\"ELF3\",\"PPARG\",\"AHR\",\"ELF3\",\"PPARG\",\"AHR\",\"ELF3\",\"PPARG\",\"AHR\",\"ELF3\",\"PPARG\",\"AHR\",\"ELF3\"],\"x0\":\" \",\"xaxis\":\"x\",\"y\":[12.001,4.107,14.204,16.077,3.622,12.773,12.748,3.622,12.493,12.292,3.622,12.801,15.364,4.243,12.744,12.108,3.622,12.11,12.423,3.622,13.222,13.09,4.689,13.283,12.002,3.622,13.314],\"y0\":\" \",\"yaxis\":\"y\",\"type\":\"box\"}],                        {\"template\":{\"data\":{\"histogram2dcontour\":[{\"type\":\"histogram2dcontour\",\"colorbar\":{\"outlinewidth\":0,\"tickcolor\":\"rgb(237,237,237)\",\"ticklen\":6,\"ticks\":\"inside\"},\"colorscale\":[[0,\"rgb(20,44,66)\"],[1,\"rgb(90,179,244)\"]]}],\"choropleth\":[{\"type\":\"choropleth\",\"colorbar\":{\"outlinewidth\":0,\"tickcolor\":\"rgb(237,237,237)\",\"ticklen\":6,\"ticks\":\"inside\"}}],\"histogram2d\":[{\"type\":\"histogram2d\",\"colorbar\":{\"outlinewidth\":0,\"tickcolor\":\"rgb(237,237,237)\",\"ticklen\":6,\"ticks\":\"inside\"},\"colorscale\":[[0,\"rgb(20,44,66)\"],[1,\"rgb(90,179,244)\"]]}],\"heatmap\":[{\"type\":\"heatmap\",\"colorbar\":{\"outlinewidth\":0,\"tickcolor\":\"rgb(237,237,237)\",\"ticklen\":6,\"ticks\":\"inside\"},\"colorscale\":[[0,\"rgb(20,44,66)\"],[1,\"rgb(90,179,244)\"]]}],\"heatmapgl\":[{\"type\":\"heatmapgl\",\"colorbar\":{\"outlinewidth\":0,\"tickcolor\":\"rgb(237,237,237)\",\"ticklen\":6,\"ticks\":\"inside\"},\"colorscale\":[[0,\"rgb(20,44,66)\"],[1,\"rgb(90,179,244)\"]]}],\"contourcarpet\":[{\"type\":\"contourcarpet\",\"colorbar\":{\"outlinewidth\":0,\"tickcolor\":\"rgb(237,237,237)\",\"ticklen\":6,\"ticks\":\"inside\"}}],\"contour\":[{\"type\":\"contour\",\"colorbar\":{\"outlinewidth\":0,\"tickcolor\":\"rgb(237,237,237)\",\"ticklen\":6,\"ticks\":\"inside\"},\"colorscale\":[[0,\"rgb(20,44,66)\"],[1,\"rgb(90,179,244)\"]]}],\"surface\":[{\"type\":\"surface\",\"colorbar\":{\"outlinewidth\":0,\"tickcolor\":\"rgb(237,237,237)\",\"ticklen\":6,\"ticks\":\"inside\"},\"colorscale\":[[0,\"rgb(20,44,66)\"],[1,\"rgb(90,179,244)\"]]}],\"mesh3d\":[{\"type\":\"mesh3d\",\"colorbar\":{\"outlinewidth\":0,\"tickcolor\":\"rgb(237,237,237)\",\"ticklen\":6,\"ticks\":\"inside\"}}],\"scatter\":[{\"fillpattern\":{\"fillmode\":\"overlay\",\"size\":10,\"solidity\":0.2},\"type\":\"scatter\"}],\"parcoords\":[{\"type\":\"parcoords\",\"line\":{\"colorbar\":{\"outlinewidth\":0,\"tickcolor\":\"rgb(237,237,237)\",\"ticklen\":6,\"ticks\":\"inside\"}}}],\"scatterpolargl\":[{\"type\":\"scatterpolargl\",\"marker\":{\"colorbar\":{\"outlinewidth\":0,\"tickcolor\":\"rgb(237,237,237)\",\"ticklen\":6,\"ticks\":\"inside\"}}}],\"bar\":[{\"error_x\":{\"color\":\"rgb(51,51,51)\"},\"error_y\":{\"color\":\"rgb(51,51,51)\"},\"marker\":{\"line\":{\"color\":\"rgb(237,237,237)\",\"width\":0.5},\"pattern\":{\"fillmode\":\"overlay\",\"size\":10,\"solidity\":0.2}},\"type\":\"bar\"}],\"scattergeo\":[{\"type\":\"scattergeo\",\"marker\":{\"colorbar\":{\"outlinewidth\":0,\"tickcolor\":\"rgb(237,237,237)\",\"ticklen\":6,\"ticks\":\"inside\"}}}],\"scatterpolar\":[{\"type\":\"scatterpolar\",\"marker\":{\"colorbar\":{\"outlinewidth\":0,\"tickcolor\":\"rgb(237,237,237)\",\"ticklen\":6,\"ticks\":\"inside\"}}}],\"histogram\":[{\"marker\":{\"pattern\":{\"fillmode\":\"overlay\",\"size\":10,\"solidity\":0.2}},\"type\":\"histogram\"}],\"scattergl\":[{\"type\":\"scattergl\",\"marker\":{\"colorbar\":{\"outlinewidth\":0,\"tickcolor\":\"rgb(237,237,237)\",\"ticklen\":6,\"ticks\":\"inside\"}}}],\"scatter3d\":[{\"type\":\"scatter3d\",\"line\":{\"colorbar\":{\"outlinewidth\":0,\"tickcolor\":\"rgb(237,237,237)\",\"ticklen\":6,\"ticks\":\"inside\"}},\"marker\":{\"colorbar\":{\"outlinewidth\":0,\"tickcolor\":\"rgb(237,237,237)\",\"ticklen\":6,\"ticks\":\"inside\"}}}],\"scattermapbox\":[{\"type\":\"scattermapbox\",\"marker\":{\"colorbar\":{\"outlinewidth\":0,\"tickcolor\":\"rgb(237,237,237)\",\"ticklen\":6,\"ticks\":\"inside\"}}}],\"scatterternary\":[{\"type\":\"scatterternary\",\"marker\":{\"colorbar\":{\"outlinewidth\":0,\"tickcolor\":\"rgb(237,237,237)\",\"ticklen\":6,\"ticks\":\"inside\"}}}],\"scattercarpet\":[{\"type\":\"scattercarpet\",\"marker\":{\"colorbar\":{\"outlinewidth\":0,\"tickcolor\":\"rgb(237,237,237)\",\"ticklen\":6,\"ticks\":\"inside\"}}}],\"carpet\":[{\"aaxis\":{\"endlinecolor\":\"rgb(51,51,51)\",\"gridcolor\":\"white\",\"linecolor\":\"white\",\"minorgridcolor\":\"white\",\"startlinecolor\":\"rgb(51,51,51)\"},\"baxis\":{\"endlinecolor\":\"rgb(51,51,51)\",\"gridcolor\":\"white\",\"linecolor\":\"white\",\"minorgridcolor\":\"white\",\"startlinecolor\":\"rgb(51,51,51)\"},\"type\":\"carpet\"}],\"table\":[{\"cells\":{\"fill\":{\"color\":\"rgb(237,237,237)\"},\"line\":{\"color\":\"white\"}},\"header\":{\"fill\":{\"color\":\"rgb(217,217,217)\"},\"line\":{\"color\":\"white\"}},\"type\":\"table\"}],\"barpolar\":[{\"marker\":{\"line\":{\"color\":\"rgb(237,237,237)\",\"width\":0.5},\"pattern\":{\"fillmode\":\"overlay\",\"size\":10,\"solidity\":0.2}},\"type\":\"barpolar\"}],\"pie\":[{\"automargin\":true,\"type\":\"pie\"}]},\"layout\":{\"autotypenumbers\":\"strict\",\"colorway\":[\"#F8766D\",\"#A3A500\",\"#00BF7D\",\"#00B0F6\",\"#E76BF3\"],\"font\":{\"color\":\"rgb(51,51,51)\"},\"hovermode\":\"closest\",\"hoverlabel\":{\"align\":\"left\"},\"paper_bgcolor\":\"white\",\"plot_bgcolor\":\"rgb(237,237,237)\",\"polar\":{\"bgcolor\":\"rgb(237,237,237)\",\"angularaxis\":{\"gridcolor\":\"white\",\"linecolor\":\"white\",\"showgrid\":true,\"tickcolor\":\"rgb(51,51,51)\",\"ticks\":\"outside\"},\"radialaxis\":{\"gridcolor\":\"white\",\"linecolor\":\"white\",\"showgrid\":true,\"tickcolor\":\"rgb(51,51,51)\",\"ticks\":\"outside\"}},\"ternary\":{\"bgcolor\":\"rgb(237,237,237)\",\"aaxis\":{\"gridcolor\":\"white\",\"linecolor\":\"white\",\"showgrid\":true,\"tickcolor\":\"rgb(51,51,51)\",\"ticks\":\"outside\"},\"baxis\":{\"gridcolor\":\"white\",\"linecolor\":\"white\",\"showgrid\":true,\"tickcolor\":\"rgb(51,51,51)\",\"ticks\":\"outside\"},\"caxis\":{\"gridcolor\":\"white\",\"linecolor\":\"white\",\"showgrid\":true,\"tickcolor\":\"rgb(51,51,51)\",\"ticks\":\"outside\"}},\"coloraxis\":{\"colorbar\":{\"outlinewidth\":0,\"tickcolor\":\"rgb(237,237,237)\",\"ticklen\":6,\"ticks\":\"inside\"}},\"colorscale\":{\"sequential\":[[0,\"rgb(20,44,66)\"],[1,\"rgb(90,179,244)\"]],\"sequentialminus\":[[0,\"rgb(20,44,66)\"],[1,\"rgb(90,179,244)\"]]},\"xaxis\":{\"gridcolor\":\"white\",\"linecolor\":\"white\",\"showgrid\":true,\"tickcolor\":\"rgb(51,51,51)\",\"ticks\":\"outside\",\"title\":{\"standoff\":15},\"zerolinecolor\":\"white\",\"automargin\":true},\"yaxis\":{\"gridcolor\":\"white\",\"linecolor\":\"white\",\"showgrid\":true,\"tickcolor\":\"rgb(51,51,51)\",\"ticks\":\"outside\",\"title\":{\"standoff\":15},\"zerolinecolor\":\"white\",\"automargin\":true},\"scene\":{\"xaxis\":{\"backgroundcolor\":\"rgb(237,237,237)\",\"gridcolor\":\"white\",\"linecolor\":\"white\",\"showbackground\":true,\"showgrid\":true,\"tickcolor\":\"rgb(51,51,51)\",\"ticks\":\"outside\",\"zerolinecolor\":\"white\",\"gridwidth\":2},\"yaxis\":{\"backgroundcolor\":\"rgb(237,237,237)\",\"gridcolor\":\"white\",\"linecolor\":\"white\",\"showbackground\":true,\"showgrid\":true,\"tickcolor\":\"rgb(51,51,51)\",\"ticks\":\"outside\",\"zerolinecolor\":\"white\",\"gridwidth\":2},\"zaxis\":{\"backgroundcolor\":\"rgb(237,237,237)\",\"gridcolor\":\"white\",\"linecolor\":\"white\",\"showbackground\":true,\"showgrid\":true,\"tickcolor\":\"rgb(51,51,51)\",\"ticks\":\"outside\",\"zerolinecolor\":\"white\",\"gridwidth\":2}},\"shapedefaults\":{\"fillcolor\":\"black\",\"line\":{\"width\":0},\"opacity\":0.3},\"annotationdefaults\":{\"arrowhead\":0,\"arrowwidth\":1},\"geo\":{\"bgcolor\":\"white\",\"landcolor\":\"rgb(237,237,237)\",\"subunitcolor\":\"white\",\"showland\":true,\"showlakes\":true,\"lakecolor\":\"white\"}}},\"xaxis\":{\"anchor\":\"y\",\"domain\":[0.0,1.0],\"title\":{\"text\":\"gene\"}},\"yaxis\":{\"anchor\":\"x\",\"domain\":[0.0,1.0],\"title\":{\"text\":\"degree_w\"}},\"legend\":{\"title\":{\"text\":\"num_tf\"},\"tracegroupgap\":0},\"margin\":{\"t\":60},\"boxmode\":\"group\"},                        {\"responsive\": true}                    ).then(function(){\n",
       "                            \n",
       "var gd = document.getElementById('d8eefe39-f118-4e4c-adb4-44d641794644');\n",
       "var x = new MutationObserver(function (mutations, observer) {{\n",
       "        var display = window.getComputedStyle(gd).display;\n",
       "        if (!display || display === 'none') {{\n",
       "            console.log([gd, 'removed!']);\n",
       "            Plotly.purge(gd);\n",
       "            observer.disconnect();\n",
       "        }}\n",
       "}});\n",
       "\n",
       "// Listen for the removal of the full notebook cells\n",
       "var notebookContainer = gd.closest('#notebook-container');\n",
       "if (notebookContainer) {{\n",
       "    x.observe(notebookContainer, {childList: true});\n",
       "}}\n",
       "\n",
       "// Listen for the clearing of the current output cell\n",
       "var outputEl = gd.closest('.output');\n",
       "if (outputEl) {{\n",
       "    x.observe(outputEl, {childList: true});\n",
       "}}\n",
       "\n",
       "                        })                };                });            </script>        </div>"
      ]
     },
     "metadata": {},
     "output_type": "display_data"
    }
   ],
   "source": [
    "px.box(comb_df.reset_index(), x=\"gene\", y=\"degree_w\", color=\"num_tf\")"
   ]
  },
  {
   "cell_type": "markdown",
   "metadata": {},
   "source": [
    "# Clustering analysis"
   ]
  },
  {
   "cell_type": "code",
   "execution_count": 100,
   "metadata": {},
   "outputs": [
    {
     "name": "stdout",
     "output_type": "stream",
     "text": [
      "Variation per principal component [0.40436708 0.21250362] and the sum 61.69%\n",
      "Variation per principal component [0.41147003 0.21441147] and the sum 62.59%\n",
      "Variation per principal component [0.39984126 0.20689605] and the sum 60.67%\n"
     ]
    }
   ],
   "source": [
    "gt_exps = {}\n",
    "for key in [3, 6, 10]:\n",
    "    dmy_exp = t_exps[key]\n",
    "    sort_col = \"ModCon_{}_gt\".format(dmy_exp.type)\n",
    "    gt_modCon = dmy_exp.get_ModCon()\n",
    "    dmy_exp.mevsMut, _ = dmy_exp.get_mevs(tpms=all_tum_tpms, modCon=gt_modCon, sort_col=sort_col, num_genes=100, verbose=False)\n",
    "\n",
    "    cs_exp, fig_std, metrics = gh.run_clusters(dmy_exp, label=\"exp_tf{}\".format(key), show_figs=True)\n",
    "\n",
    "    gt_exps[key] = {\"exp\": dmy_exp, \"cs\": cs_exp}\n",
    "\n",
    "comb_cs = pd.concat([gt_exps[3][\"cs\"], gt_exps[6][\"cs\"], gt_exps[10][\"cs\"], vu_output], axis=1).dropna()\n",
    "\n",
    "# for single experiment\n",
    "if False:\n",
    "    tf = 6\n",
    "    gt_exp = h_exps[\"6\"]\n",
    "    sort_col = \"ModCon_{}_gt\".format(gt_exp.type)\n",
    "    gt_modCon = gt_exp.get_ModCon()\n",
    "    gt_exp.mevsMut, _ = gt_exp.get_mevs(tpms=all_tum_tpms, modCon=gt_modCon, sort_col=sort_col, num_genes=100, verbose=False)"
   ]
  },
  {
   "cell_type": "code",
   "execution_count": 101,
   "metadata": {},
   "outputs": [
    {
     "data": {
      "application/vnd.plotly.v1+json": {
       "config": {
        "plotlyServerURL": "https://plot.ly"
       },
       "data": [
        {
         "arrangement": "perpendicular",
         "link": {
          "color": "#bdbdbd",
          "source": [
           0,
           0,
           0,
           0,
           0,
           0,
           1,
           1,
           1,
           2,
           2,
           2,
           3,
           3,
           3,
           3,
           4,
           4,
           4,
           5,
           5,
           5,
           5,
           6,
           6,
           6,
           6,
           6,
           7,
           7,
           7,
           7,
           7,
           7,
           8,
           8,
           8,
           9,
           9,
           9,
           9,
           10,
           10,
           10,
           10,
           10,
           10,
           11,
           11,
           12,
           12,
           13,
           13,
           13,
           14,
           14,
           15,
           15,
           15,
           16,
           16,
           16,
           16,
           17,
           17,
           17,
           17,
           18,
           18,
           18,
           19,
           19,
           19,
           20,
           20,
           20,
           21,
           21,
           22,
           22,
           23,
           23,
           23,
           23,
           23,
           24,
           25,
           25,
           25,
           25,
           25,
           25,
           26,
           26,
           26,
           26,
           26,
           27,
           27,
           27,
           27,
           28,
           28,
           28,
           28
          ],
          "target": [
           5,
           6,
           7,
           8,
           9,
           10,
           5,
           7,
           10,
           7,
           8,
           10,
           6,
           7,
           8,
           10,
           6,
           7,
           10,
           11,
           13,
           14,
           15,
           11,
           12,
           13,
           14,
           15,
           11,
           12,
           13,
           14,
           15,
           16,
           11,
           12,
           16,
           11,
           13,
           14,
           15,
           11,
           12,
           13,
           14,
           15,
           16,
           17,
           20,
           17,
           18,
           19,
           20,
           21,
           20,
           21,
           17,
           19,
           21,
           17,
           18,
           19,
           22,
           23,
           24,
           25,
           26,
           23,
           26,
           27,
           23,
           24,
           26,
           24,
           25,
           28,
           24,
           28,
           23,
           27,
           32,
           33,
           34,
           29,
           31,
           32,
           32,
           33,
           34,
           29,
           30,
           31,
           32,
           33,
           34,
           29,
           30,
           32,
           33,
           34,
           29,
           32,
           33,
           34,
           31
          ],
          "value": [
           61,
           35,
           4,
           1,
           33,
           7,
           5,
           71,
           1,
           18,
           6,
           1,
           5,
           23,
           110,
           3,
           1,
           1,
           18,
           1,
           7,
           23,
           35,
           1,
           4,
           33,
           1,
           2,
           70,
           12,
           2,
           20,
           4,
           9,
           9,
           72,
           36,
           1,
           28,
           2,
           2,
           13,
           4,
           3,
           3,
           5,
           2,
           89,
           6,
           5,
           87,
           70,
           1,
           2,
           46,
           3,
           2,
           2,
           44,
           2,
           6,
           1,
           38,
           64,
           3,
           18,
           13,
           29,
           45,
           19,
           1,
           71,
           1,
           1,
           50,
           2,
           8,
           41,
           1,
           37,
           4,
           25,
           56,
           6,
           4,
           83,
           21,
           7,
           3,
           7,
           1,
           29,
           7,
           1,
           31,
           16,
           4,
           1,
           2,
           51,
           2,
           33,
           1,
           1,
           8
          ]
         },
         "node": {
          "color": [
           "rgb(229, 134, 6)",
           "rgb(229, 134, 6)",
           "rgb(229, 134, 6)",
           "rgb(229, 134, 6)",
           "rgb(229, 134, 6)",
           "rgb(93, 105, 177)",
           "rgb(93, 105, 177)",
           "rgb(93, 105, 177)",
           "rgb(93, 105, 177)",
           "rgb(93, 105, 177)",
           "rgb(93, 105, 177)",
           "rgb(82, 188, 163)",
           "rgb(82, 188, 163)",
           "rgb(82, 188, 163)",
           "rgb(82, 188, 163)",
           "rgb(82, 188, 163)",
           "rgb(82, 188, 163)",
           "rgb(153, 201, 69)",
           "rgb(153, 201, 69)",
           "rgb(153, 201, 69)",
           "rgb(153, 201, 69)",
           "rgb(153, 201, 69)",
           "rgb(153, 201, 69)",
           "rgb(204, 97, 176)",
           "rgb(204, 97, 176)",
           "rgb(204, 97, 176)",
           "rgb(204, 97, 176)",
           "rgb(204, 97, 176)",
           "rgb(204, 97, 176)",
           "rgb(36, 121, 108)",
           "rgb(36, 121, 108)",
           "rgb(36, 121, 108)",
           "rgb(36, 121, 108)",
           "rgb(36, 121, 108)",
           "rgb(36, 121, 108)"
          ],
          "label": [
           "Ba/Sq",
           "LumInf",
           "LumNS",
           "LumP",
           "NE-like",
           "High IFNG",
           "Low IFNG",
           "Lum Inf/NS",
           "LumP",
           "Med IFNG",
           "Ne",
           0,
           1,
           2,
           3,
           4,
           5,
           0,
           1,
           2,
           3,
           4,
           5,
           0,
           1,
           2,
           3,
           4,
           5,
           "LumU",
           "NE-like",
           "Stroma-rich",
           "Ba/Sq",
           "LumNS",
           "LumP"
          ],
          "line": {
           "color": "black",
           "width": 0.5
          },
          "pad": 15,
          "thickness": 20
         },
         "type": "sankey"
        }
       ],
       "layout": {
        "annotations": [
         {
          "align": "left",
          "font": {
           "color": "#003366",
           "size": 18
          },
          "showarrow": false,
          "text": "TCGA",
          "x": 0,
          "xref": "x",
          "y": 1.07,
          "yref": "paper"
         },
         {
          "align": "left",
          "font": {
           "color": "#003366",
           "size": 18
          },
          "showarrow": false,
          "text": "CA + IFNg",
          "x": 1,
          "xref": "x",
          "y": 1.07,
          "yref": "paper"
         },
         {
          "align": "left",
          "font": {
           "color": "#003366",
           "size": 18
          },
          "showarrow": false,
          "text": "SBM_3TF",
          "x": 2,
          "xref": "x",
          "y": 1.07,
          "yref": "paper"
         },
         {
          "align": "left",
          "font": {
           "color": "#003366",
           "size": 18
          },
          "showarrow": false,
          "text": "SBM_6TF",
          "x": 3,
          "xref": "x",
          "y": 1.07,
          "yref": "paper"
         },
         {
          "align": "left",
          "font": {
           "color": "#003366",
           "size": 18
          },
          "showarrow": false,
          "text": "SBM_10TF",
          "x": 4,
          "xref": "x",
          "y": 1.07,
          "yref": "paper"
         },
         {
          "align": "left",
          "font": {
           "color": "#003366",
           "size": 18
          },
          "showarrow": false,
          "text": "Consensus",
          "x": 5,
          "xref": "x",
          "y": 1.07,
          "yref": "paper"
         }
        ],
        "font": {
         "color": "#003366",
         "size": 16
        },
        "height": 600,
        "plot_bgcolor": "rgba(0,0,0,0)",
        "template": {
         "data": {
          "bar": [
           {
            "error_x": {
             "color": "rgb(51,51,51)"
            },
            "error_y": {
             "color": "rgb(51,51,51)"
            },
            "marker": {
             "line": {
              "color": "rgb(237,237,237)",
              "width": 0.5
             },
             "pattern": {
              "fillmode": "overlay",
              "size": 10,
              "solidity": 0.2
             }
            },
            "type": "bar"
           }
          ],
          "barpolar": [
           {
            "marker": {
             "line": {
              "color": "rgb(237,237,237)",
              "width": 0.5
             },
             "pattern": {
              "fillmode": "overlay",
              "size": 10,
              "solidity": 0.2
             }
            },
            "type": "barpolar"
           }
          ],
          "carpet": [
           {
            "aaxis": {
             "endlinecolor": "rgb(51,51,51)",
             "gridcolor": "white",
             "linecolor": "white",
             "minorgridcolor": "white",
             "startlinecolor": "rgb(51,51,51)"
            },
            "baxis": {
             "endlinecolor": "rgb(51,51,51)",
             "gridcolor": "white",
             "linecolor": "white",
             "minorgridcolor": "white",
             "startlinecolor": "rgb(51,51,51)"
            },
            "type": "carpet"
           }
          ],
          "choropleth": [
           {
            "colorbar": {
             "outlinewidth": 0,
             "tickcolor": "rgb(237,237,237)",
             "ticklen": 6,
             "ticks": "inside"
            },
            "type": "choropleth"
           }
          ],
          "contour": [
           {
            "colorbar": {
             "outlinewidth": 0,
             "tickcolor": "rgb(237,237,237)",
             "ticklen": 6,
             "ticks": "inside"
            },
            "colorscale": [
             [
              0,
              "rgb(20,44,66)"
             ],
             [
              1,
              "rgb(90,179,244)"
             ]
            ],
            "type": "contour"
           }
          ],
          "contourcarpet": [
           {
            "colorbar": {
             "outlinewidth": 0,
             "tickcolor": "rgb(237,237,237)",
             "ticklen": 6,
             "ticks": "inside"
            },
            "type": "contourcarpet"
           }
          ],
          "heatmap": [
           {
            "colorbar": {
             "outlinewidth": 0,
             "tickcolor": "rgb(237,237,237)",
             "ticklen": 6,
             "ticks": "inside"
            },
            "colorscale": [
             [
              0,
              "rgb(20,44,66)"
             ],
             [
              1,
              "rgb(90,179,244)"
             ]
            ],
            "type": "heatmap"
           }
          ],
          "heatmapgl": [
           {
            "colorbar": {
             "outlinewidth": 0,
             "tickcolor": "rgb(237,237,237)",
             "ticklen": 6,
             "ticks": "inside"
            },
            "colorscale": [
             [
              0,
              "rgb(20,44,66)"
             ],
             [
              1,
              "rgb(90,179,244)"
             ]
            ],
            "type": "heatmapgl"
           }
          ],
          "histogram": [
           {
            "marker": {
             "pattern": {
              "fillmode": "overlay",
              "size": 10,
              "solidity": 0.2
             }
            },
            "type": "histogram"
           }
          ],
          "histogram2d": [
           {
            "colorbar": {
             "outlinewidth": 0,
             "tickcolor": "rgb(237,237,237)",
             "ticklen": 6,
             "ticks": "inside"
            },
            "colorscale": [
             [
              0,
              "rgb(20,44,66)"
             ],
             [
              1,
              "rgb(90,179,244)"
             ]
            ],
            "type": "histogram2d"
           }
          ],
          "histogram2dcontour": [
           {
            "colorbar": {
             "outlinewidth": 0,
             "tickcolor": "rgb(237,237,237)",
             "ticklen": 6,
             "ticks": "inside"
            },
            "colorscale": [
             [
              0,
              "rgb(20,44,66)"
             ],
             [
              1,
              "rgb(90,179,244)"
             ]
            ],
            "type": "histogram2dcontour"
           }
          ],
          "mesh3d": [
           {
            "colorbar": {
             "outlinewidth": 0,
             "tickcolor": "rgb(237,237,237)",
             "ticklen": 6,
             "ticks": "inside"
            },
            "type": "mesh3d"
           }
          ],
          "parcoords": [
           {
            "line": {
             "colorbar": {
              "outlinewidth": 0,
              "tickcolor": "rgb(237,237,237)",
              "ticklen": 6,
              "ticks": "inside"
             }
            },
            "type": "parcoords"
           }
          ],
          "pie": [
           {
            "automargin": true,
            "type": "pie"
           }
          ],
          "scatter": [
           {
            "fillpattern": {
             "fillmode": "overlay",
             "size": 10,
             "solidity": 0.2
            },
            "type": "scatter"
           }
          ],
          "scatter3d": [
           {
            "line": {
             "colorbar": {
              "outlinewidth": 0,
              "tickcolor": "rgb(237,237,237)",
              "ticklen": 6,
              "ticks": "inside"
             }
            },
            "marker": {
             "colorbar": {
              "outlinewidth": 0,
              "tickcolor": "rgb(237,237,237)",
              "ticklen": 6,
              "ticks": "inside"
             }
            },
            "type": "scatter3d"
           }
          ],
          "scattercarpet": [
           {
            "marker": {
             "colorbar": {
              "outlinewidth": 0,
              "tickcolor": "rgb(237,237,237)",
              "ticklen": 6,
              "ticks": "inside"
             }
            },
            "type": "scattercarpet"
           }
          ],
          "scattergeo": [
           {
            "marker": {
             "colorbar": {
              "outlinewidth": 0,
              "tickcolor": "rgb(237,237,237)",
              "ticklen": 6,
              "ticks": "inside"
             }
            },
            "type": "scattergeo"
           }
          ],
          "scattergl": [
           {
            "marker": {
             "colorbar": {
              "outlinewidth": 0,
              "tickcolor": "rgb(237,237,237)",
              "ticklen": 6,
              "ticks": "inside"
             }
            },
            "type": "scattergl"
           }
          ],
          "scattermapbox": [
           {
            "marker": {
             "colorbar": {
              "outlinewidth": 0,
              "tickcolor": "rgb(237,237,237)",
              "ticklen": 6,
              "ticks": "inside"
             }
            },
            "type": "scattermapbox"
           }
          ],
          "scatterpolar": [
           {
            "marker": {
             "colorbar": {
              "outlinewidth": 0,
              "tickcolor": "rgb(237,237,237)",
              "ticklen": 6,
              "ticks": "inside"
             }
            },
            "type": "scatterpolar"
           }
          ],
          "scatterpolargl": [
           {
            "marker": {
             "colorbar": {
              "outlinewidth": 0,
              "tickcolor": "rgb(237,237,237)",
              "ticklen": 6,
              "ticks": "inside"
             }
            },
            "type": "scatterpolargl"
           }
          ],
          "scatterternary": [
           {
            "marker": {
             "colorbar": {
              "outlinewidth": 0,
              "tickcolor": "rgb(237,237,237)",
              "ticklen": 6,
              "ticks": "inside"
             }
            },
            "type": "scatterternary"
           }
          ],
          "surface": [
           {
            "colorbar": {
             "outlinewidth": 0,
             "tickcolor": "rgb(237,237,237)",
             "ticklen": 6,
             "ticks": "inside"
            },
            "colorscale": [
             [
              0,
              "rgb(20,44,66)"
             ],
             [
              1,
              "rgb(90,179,244)"
             ]
            ],
            "type": "surface"
           }
          ],
          "table": [
           {
            "cells": {
             "fill": {
              "color": "rgb(237,237,237)"
             },
             "line": {
              "color": "white"
             }
            },
            "header": {
             "fill": {
              "color": "rgb(217,217,217)"
             },
             "line": {
              "color": "white"
             }
            },
            "type": "table"
           }
          ]
         },
         "layout": {
          "annotationdefaults": {
           "arrowhead": 0,
           "arrowwidth": 1
          },
          "autotypenumbers": "strict",
          "coloraxis": {
           "colorbar": {
            "outlinewidth": 0,
            "tickcolor": "rgb(237,237,237)",
            "ticklen": 6,
            "ticks": "inside"
           }
          },
          "colorscale": {
           "sequential": [
            [
             0,
             "rgb(20,44,66)"
            ],
            [
             1,
             "rgb(90,179,244)"
            ]
           ],
           "sequentialminus": [
            [
             0,
             "rgb(20,44,66)"
            ],
            [
             1,
             "rgb(90,179,244)"
            ]
           ]
          },
          "colorway": [
           "#F8766D",
           "#A3A500",
           "#00BF7D",
           "#00B0F6",
           "#E76BF3"
          ],
          "font": {
           "color": "rgb(51,51,51)"
          },
          "geo": {
           "bgcolor": "white",
           "lakecolor": "white",
           "landcolor": "rgb(237,237,237)",
           "showlakes": true,
           "showland": true,
           "subunitcolor": "white"
          },
          "hoverlabel": {
           "align": "left"
          },
          "hovermode": "closest",
          "paper_bgcolor": "white",
          "plot_bgcolor": "rgb(237,237,237)",
          "polar": {
           "angularaxis": {
            "gridcolor": "white",
            "linecolor": "white",
            "showgrid": true,
            "tickcolor": "rgb(51,51,51)",
            "ticks": "outside"
           },
           "bgcolor": "rgb(237,237,237)",
           "radialaxis": {
            "gridcolor": "white",
            "linecolor": "white",
            "showgrid": true,
            "tickcolor": "rgb(51,51,51)",
            "ticks": "outside"
           }
          },
          "scene": {
           "xaxis": {
            "backgroundcolor": "rgb(237,237,237)",
            "gridcolor": "white",
            "gridwidth": 2,
            "linecolor": "white",
            "showbackground": true,
            "showgrid": true,
            "tickcolor": "rgb(51,51,51)",
            "ticks": "outside",
            "zerolinecolor": "white"
           },
           "yaxis": {
            "backgroundcolor": "rgb(237,237,237)",
            "gridcolor": "white",
            "gridwidth": 2,
            "linecolor": "white",
            "showbackground": true,
            "showgrid": true,
            "tickcolor": "rgb(51,51,51)",
            "ticks": "outside",
            "zerolinecolor": "white"
           },
           "zaxis": {
            "backgroundcolor": "rgb(237,237,237)",
            "gridcolor": "white",
            "gridwidth": 2,
            "linecolor": "white",
            "showbackground": true,
            "showgrid": true,
            "tickcolor": "rgb(51,51,51)",
            "ticks": "outside",
            "zerolinecolor": "white"
           }
          },
          "shapedefaults": {
           "fillcolor": "black",
           "line": {
            "width": 0
           },
           "opacity": 0.3
          },
          "ternary": {
           "aaxis": {
            "gridcolor": "white",
            "linecolor": "white",
            "showgrid": true,
            "tickcolor": "rgb(51,51,51)",
            "ticks": "outside"
           },
           "baxis": {
            "gridcolor": "white",
            "linecolor": "white",
            "showgrid": true,
            "tickcolor": "rgb(51,51,51)",
            "ticks": "outside"
           },
           "bgcolor": "rgb(237,237,237)",
           "caxis": {
            "gridcolor": "white",
            "linecolor": "white",
            "showgrid": true,
            "tickcolor": "rgb(51,51,51)",
            "ticks": "outside"
           }
          },
          "xaxis": {
           "automargin": true,
           "gridcolor": "white",
           "linecolor": "white",
           "showgrid": true,
           "tickcolor": "rgb(51,51,51)",
           "ticks": "outside",
           "title": {
            "standoff": 15
           },
           "zerolinecolor": "white"
          },
          "yaxis": {
           "automargin": true,
           "gridcolor": "white",
           "linecolor": "white",
           "showgrid": true,
           "tickcolor": "rgb(51,51,51)",
           "ticks": "outside",
           "title": {
            "standoff": 15
           },
           "zerolinecolor": "white"
          }
         }
        },
        "title": {
         "text": ""
        },
        "xaxis": {
         "showgrid": false,
         "visible": false,
         "zeroline": false
        },
        "yaxis": {
         "showgrid": false,
         "visible": false,
         "zeroline": false
        }
       }
      },
      "text/html": [
       "<div>                            <div id=\"547863d8-3a7a-4f49-8c4d-4b5cd8a48f72\" class=\"plotly-graph-div\" style=\"height:600px; width:100%;\"></div>            <script type=\"text/javascript\">                require([\"plotly\"], function(Plotly) {                    window.PLOTLYENV=window.PLOTLYENV || {};                                    if (document.getElementById(\"547863d8-3a7a-4f49-8c4d-4b5cd8a48f72\")) {                    Plotly.newPlot(                        \"547863d8-3a7a-4f49-8c4d-4b5cd8a48f72\",                        [{\"arrangement\":\"perpendicular\",\"link\":{\"color\":\"#bdbdbd\",\"source\":[0,0,0,0,0,0,1,1,1,2,2,2,3,3,3,3,4,4,4,5,5,5,5,6,6,6,6,6,7,7,7,7,7,7,8,8,8,9,9,9,9,10,10,10,10,10,10,11,11,12,12,13,13,13,14,14,15,15,15,16,16,16,16,17,17,17,17,18,18,18,19,19,19,20,20,20,21,21,22,22,23,23,23,23,23,24,25,25,25,25,25,25,26,26,26,26,26,27,27,27,27,28,28,28,28],\"target\":[5,6,7,8,9,10,5,7,10,7,8,10,6,7,8,10,6,7,10,11,13,14,15,11,12,13,14,15,11,12,13,14,15,16,11,12,16,11,13,14,15,11,12,13,14,15,16,17,20,17,18,19,20,21,20,21,17,19,21,17,18,19,22,23,24,25,26,23,26,27,23,24,26,24,25,28,24,28,23,27,32,33,34,29,31,32,32,33,34,29,30,31,32,33,34,29,30,32,33,34,29,32,33,34,31],\"value\":[61,35,4,1,33,7,5,71,1,18,6,1,5,23,110,3,1,1,18,1,7,23,35,1,4,33,1,2,70,12,2,20,4,9,9,72,36,1,28,2,2,13,4,3,3,5,2,89,6,5,87,70,1,2,46,3,2,2,44,2,6,1,38,64,3,18,13,29,45,19,1,71,1,1,50,2,8,41,1,37,4,25,56,6,4,83,21,7,3,7,1,29,7,1,31,16,4,1,2,51,2,33,1,1,8]},\"node\":{\"color\":[\"rgb(229, 134, 6)\",\"rgb(229, 134, 6)\",\"rgb(229, 134, 6)\",\"rgb(229, 134, 6)\",\"rgb(229, 134, 6)\",\"rgb(93, 105, 177)\",\"rgb(93, 105, 177)\",\"rgb(93, 105, 177)\",\"rgb(93, 105, 177)\",\"rgb(93, 105, 177)\",\"rgb(93, 105, 177)\",\"rgb(82, 188, 163)\",\"rgb(82, 188, 163)\",\"rgb(82, 188, 163)\",\"rgb(82, 188, 163)\",\"rgb(82, 188, 163)\",\"rgb(82, 188, 163)\",\"rgb(153, 201, 69)\",\"rgb(153, 201, 69)\",\"rgb(153, 201, 69)\",\"rgb(153, 201, 69)\",\"rgb(153, 201, 69)\",\"rgb(153, 201, 69)\",\"rgb(204, 97, 176)\",\"rgb(204, 97, 176)\",\"rgb(204, 97, 176)\",\"rgb(204, 97, 176)\",\"rgb(204, 97, 176)\",\"rgb(204, 97, 176)\",\"rgb(36, 121, 108)\",\"rgb(36, 121, 108)\",\"rgb(36, 121, 108)\",\"rgb(36, 121, 108)\",\"rgb(36, 121, 108)\",\"rgb(36, 121, 108)\"],\"label\":[\"Ba\\u002fSq\",\"LumInf\",\"LumNS\",\"LumP\",\"NE-like\",\"High IFNG\",\"Low IFNG\",\"Lum Inf\\u002fNS\",\"LumP\",\"Med IFNG\",\"Ne\",0.0,1.0,2.0,3.0,4.0,5.0,0.0,1.0,2.0,3.0,4.0,5.0,0.0,1.0,2.0,3.0,4.0,5.0,\"LumU\",\"NE-like\",\"Stroma-rich\",\"Ba\\u002fSq\",\"LumNS\",\"LumP\"],\"line\":{\"color\":\"black\",\"width\":0.5},\"pad\":15,\"thickness\":20},\"type\":\"sankey\"}],                        {\"font\":{\"color\":\"#003366\",\"size\":16},\"height\":600,\"title\":{\"text\":\"\"},\"template\":{\"data\":{\"histogram2dcontour\":[{\"type\":\"histogram2dcontour\",\"colorbar\":{\"outlinewidth\":0,\"tickcolor\":\"rgb(237,237,237)\",\"ticklen\":6,\"ticks\":\"inside\"},\"colorscale\":[[0,\"rgb(20,44,66)\"],[1,\"rgb(90,179,244)\"]]}],\"choropleth\":[{\"type\":\"choropleth\",\"colorbar\":{\"outlinewidth\":0,\"tickcolor\":\"rgb(237,237,237)\",\"ticklen\":6,\"ticks\":\"inside\"}}],\"histogram2d\":[{\"type\":\"histogram2d\",\"colorbar\":{\"outlinewidth\":0,\"tickcolor\":\"rgb(237,237,237)\",\"ticklen\":6,\"ticks\":\"inside\"},\"colorscale\":[[0,\"rgb(20,44,66)\"],[1,\"rgb(90,179,244)\"]]}],\"heatmap\":[{\"type\":\"heatmap\",\"colorbar\":{\"outlinewidth\":0,\"tickcolor\":\"rgb(237,237,237)\",\"ticklen\":6,\"ticks\":\"inside\"},\"colorscale\":[[0,\"rgb(20,44,66)\"],[1,\"rgb(90,179,244)\"]]}],\"heatmapgl\":[{\"type\":\"heatmapgl\",\"colorbar\":{\"outlinewidth\":0,\"tickcolor\":\"rgb(237,237,237)\",\"ticklen\":6,\"ticks\":\"inside\"},\"colorscale\":[[0,\"rgb(20,44,66)\"],[1,\"rgb(90,179,244)\"]]}],\"contourcarpet\":[{\"type\":\"contourcarpet\",\"colorbar\":{\"outlinewidth\":0,\"tickcolor\":\"rgb(237,237,237)\",\"ticklen\":6,\"ticks\":\"inside\"}}],\"contour\":[{\"type\":\"contour\",\"colorbar\":{\"outlinewidth\":0,\"tickcolor\":\"rgb(237,237,237)\",\"ticklen\":6,\"ticks\":\"inside\"},\"colorscale\":[[0,\"rgb(20,44,66)\"],[1,\"rgb(90,179,244)\"]]}],\"surface\":[{\"type\":\"surface\",\"colorbar\":{\"outlinewidth\":0,\"tickcolor\":\"rgb(237,237,237)\",\"ticklen\":6,\"ticks\":\"inside\"},\"colorscale\":[[0,\"rgb(20,44,66)\"],[1,\"rgb(90,179,244)\"]]}],\"mesh3d\":[{\"type\":\"mesh3d\",\"colorbar\":{\"outlinewidth\":0,\"tickcolor\":\"rgb(237,237,237)\",\"ticklen\":6,\"ticks\":\"inside\"}}],\"scatter\":[{\"fillpattern\":{\"fillmode\":\"overlay\",\"size\":10,\"solidity\":0.2},\"type\":\"scatter\"}],\"parcoords\":[{\"type\":\"parcoords\",\"line\":{\"colorbar\":{\"outlinewidth\":0,\"tickcolor\":\"rgb(237,237,237)\",\"ticklen\":6,\"ticks\":\"inside\"}}}],\"scatterpolargl\":[{\"type\":\"scatterpolargl\",\"marker\":{\"colorbar\":{\"outlinewidth\":0,\"tickcolor\":\"rgb(237,237,237)\",\"ticklen\":6,\"ticks\":\"inside\"}}}],\"bar\":[{\"error_x\":{\"color\":\"rgb(51,51,51)\"},\"error_y\":{\"color\":\"rgb(51,51,51)\"},\"marker\":{\"line\":{\"color\":\"rgb(237,237,237)\",\"width\":0.5},\"pattern\":{\"fillmode\":\"overlay\",\"size\":10,\"solidity\":0.2}},\"type\":\"bar\"}],\"scattergeo\":[{\"type\":\"scattergeo\",\"marker\":{\"colorbar\":{\"outlinewidth\":0,\"tickcolor\":\"rgb(237,237,237)\",\"ticklen\":6,\"ticks\":\"inside\"}}}],\"scatterpolar\":[{\"type\":\"scatterpolar\",\"marker\":{\"colorbar\":{\"outlinewidth\":0,\"tickcolor\":\"rgb(237,237,237)\",\"ticklen\":6,\"ticks\":\"inside\"}}}],\"histogram\":[{\"marker\":{\"pattern\":{\"fillmode\":\"overlay\",\"size\":10,\"solidity\":0.2}},\"type\":\"histogram\"}],\"scattergl\":[{\"type\":\"scattergl\",\"marker\":{\"colorbar\":{\"outlinewidth\":0,\"tickcolor\":\"rgb(237,237,237)\",\"ticklen\":6,\"ticks\":\"inside\"}}}],\"scatter3d\":[{\"type\":\"scatter3d\",\"line\":{\"colorbar\":{\"outlinewidth\":0,\"tickcolor\":\"rgb(237,237,237)\",\"ticklen\":6,\"ticks\":\"inside\"}},\"marker\":{\"colorbar\":{\"outlinewidth\":0,\"tickcolor\":\"rgb(237,237,237)\",\"ticklen\":6,\"ticks\":\"inside\"}}}],\"scattermapbox\":[{\"type\":\"scattermapbox\",\"marker\":{\"colorbar\":{\"outlinewidth\":0,\"tickcolor\":\"rgb(237,237,237)\",\"ticklen\":6,\"ticks\":\"inside\"}}}],\"scatterternary\":[{\"type\":\"scatterternary\",\"marker\":{\"colorbar\":{\"outlinewidth\":0,\"tickcolor\":\"rgb(237,237,237)\",\"ticklen\":6,\"ticks\":\"inside\"}}}],\"scattercarpet\":[{\"type\":\"scattercarpet\",\"marker\":{\"colorbar\":{\"outlinewidth\":0,\"tickcolor\":\"rgb(237,237,237)\",\"ticklen\":6,\"ticks\":\"inside\"}}}],\"carpet\":[{\"aaxis\":{\"endlinecolor\":\"rgb(51,51,51)\",\"gridcolor\":\"white\",\"linecolor\":\"white\",\"minorgridcolor\":\"white\",\"startlinecolor\":\"rgb(51,51,51)\"},\"baxis\":{\"endlinecolor\":\"rgb(51,51,51)\",\"gridcolor\":\"white\",\"linecolor\":\"white\",\"minorgridcolor\":\"white\",\"startlinecolor\":\"rgb(51,51,51)\"},\"type\":\"carpet\"}],\"table\":[{\"cells\":{\"fill\":{\"color\":\"rgb(237,237,237)\"},\"line\":{\"color\":\"white\"}},\"header\":{\"fill\":{\"color\":\"rgb(217,217,217)\"},\"line\":{\"color\":\"white\"}},\"type\":\"table\"}],\"barpolar\":[{\"marker\":{\"line\":{\"color\":\"rgb(237,237,237)\",\"width\":0.5},\"pattern\":{\"fillmode\":\"overlay\",\"size\":10,\"solidity\":0.2}},\"type\":\"barpolar\"}],\"pie\":[{\"automargin\":true,\"type\":\"pie\"}]},\"layout\":{\"autotypenumbers\":\"strict\",\"colorway\":[\"#F8766D\",\"#A3A500\",\"#00BF7D\",\"#00B0F6\",\"#E76BF3\"],\"font\":{\"color\":\"rgb(51,51,51)\"},\"hovermode\":\"closest\",\"hoverlabel\":{\"align\":\"left\"},\"paper_bgcolor\":\"white\",\"plot_bgcolor\":\"rgb(237,237,237)\",\"polar\":{\"bgcolor\":\"rgb(237,237,237)\",\"angularaxis\":{\"gridcolor\":\"white\",\"linecolor\":\"white\",\"showgrid\":true,\"tickcolor\":\"rgb(51,51,51)\",\"ticks\":\"outside\"},\"radialaxis\":{\"gridcolor\":\"white\",\"linecolor\":\"white\",\"showgrid\":true,\"tickcolor\":\"rgb(51,51,51)\",\"ticks\":\"outside\"}},\"ternary\":{\"bgcolor\":\"rgb(237,237,237)\",\"aaxis\":{\"gridcolor\":\"white\",\"linecolor\":\"white\",\"showgrid\":true,\"tickcolor\":\"rgb(51,51,51)\",\"ticks\":\"outside\"},\"baxis\":{\"gridcolor\":\"white\",\"linecolor\":\"white\",\"showgrid\":true,\"tickcolor\":\"rgb(51,51,51)\",\"ticks\":\"outside\"},\"caxis\":{\"gridcolor\":\"white\",\"linecolor\":\"white\",\"showgrid\":true,\"tickcolor\":\"rgb(51,51,51)\",\"ticks\":\"outside\"}},\"coloraxis\":{\"colorbar\":{\"outlinewidth\":0,\"tickcolor\":\"rgb(237,237,237)\",\"ticklen\":6,\"ticks\":\"inside\"}},\"colorscale\":{\"sequential\":[[0,\"rgb(20,44,66)\"],[1,\"rgb(90,179,244)\"]],\"sequentialminus\":[[0,\"rgb(20,44,66)\"],[1,\"rgb(90,179,244)\"]]},\"xaxis\":{\"gridcolor\":\"white\",\"linecolor\":\"white\",\"showgrid\":true,\"tickcolor\":\"rgb(51,51,51)\",\"ticks\":\"outside\",\"title\":{\"standoff\":15},\"zerolinecolor\":\"white\",\"automargin\":true},\"yaxis\":{\"gridcolor\":\"white\",\"linecolor\":\"white\",\"showgrid\":true,\"tickcolor\":\"rgb(51,51,51)\",\"ticks\":\"outside\",\"title\":{\"standoff\":15},\"zerolinecolor\":\"white\",\"automargin\":true},\"scene\":{\"xaxis\":{\"backgroundcolor\":\"rgb(237,237,237)\",\"gridcolor\":\"white\",\"linecolor\":\"white\",\"showbackground\":true,\"showgrid\":true,\"tickcolor\":\"rgb(51,51,51)\",\"ticks\":\"outside\",\"zerolinecolor\":\"white\",\"gridwidth\":2},\"yaxis\":{\"backgroundcolor\":\"rgb(237,237,237)\",\"gridcolor\":\"white\",\"linecolor\":\"white\",\"showbackground\":true,\"showgrid\":true,\"tickcolor\":\"rgb(51,51,51)\",\"ticks\":\"outside\",\"zerolinecolor\":\"white\",\"gridwidth\":2},\"zaxis\":{\"backgroundcolor\":\"rgb(237,237,237)\",\"gridcolor\":\"white\",\"linecolor\":\"white\",\"showbackground\":true,\"showgrid\":true,\"tickcolor\":\"rgb(51,51,51)\",\"ticks\":\"outside\",\"zerolinecolor\":\"white\",\"gridwidth\":2}},\"shapedefaults\":{\"fillcolor\":\"black\",\"line\":{\"width\":0},\"opacity\":0.3},\"annotationdefaults\":{\"arrowhead\":0,\"arrowwidth\":1},\"geo\":{\"bgcolor\":\"white\",\"landcolor\":\"rgb(237,237,237)\",\"subunitcolor\":\"white\",\"showland\":true,\"showlakes\":true,\"lakecolor\":\"white\"}}},\"annotations\":[{\"align\":\"left\",\"font\":{\"color\":\"#003366\",\"size\":18},\"showarrow\":false,\"text\":\"TCGA\",\"x\":0,\"xref\":\"x\",\"y\":1.07,\"yref\":\"paper\"},{\"align\":\"left\",\"font\":{\"color\":\"#003366\",\"size\":18},\"showarrow\":false,\"text\":\"CA + IFNg\",\"x\":1,\"xref\":\"x\",\"y\":1.07,\"yref\":\"paper\"},{\"align\":\"left\",\"font\":{\"color\":\"#003366\",\"size\":18},\"showarrow\":false,\"text\":\"SBM_3TF\",\"x\":2,\"xref\":\"x\",\"y\":1.07,\"yref\":\"paper\"},{\"align\":\"left\",\"font\":{\"color\":\"#003366\",\"size\":18},\"showarrow\":false,\"text\":\"SBM_6TF\",\"x\":3,\"xref\":\"x\",\"y\":1.07,\"yref\":\"paper\"},{\"align\":\"left\",\"font\":{\"color\":\"#003366\",\"size\":18},\"showarrow\":false,\"text\":\"SBM_10TF\",\"x\":4,\"xref\":\"x\",\"y\":1.07,\"yref\":\"paper\"},{\"align\":\"left\",\"font\":{\"color\":\"#003366\",\"size\":18},\"showarrow\":false,\"text\":\"Consensus\",\"x\":5,\"xref\":\"x\",\"y\":1.07,\"yref\":\"paper\"}],\"xaxis\":{\"showgrid\":false,\"zeroline\":false,\"visible\":false},\"yaxis\":{\"showgrid\":false,\"zeroline\":false,\"visible\":false},\"plot_bgcolor\":\"rgba(0,0,0,0)\"},                        {\"responsive\": true}                    ).then(function(){\n",
       "                            \n",
       "var gd = document.getElementById('547863d8-3a7a-4f49-8c4d-4b5cd8a48f72');\n",
       "var x = new MutationObserver(function (mutations, observer) {{\n",
       "        var display = window.getComputedStyle(gd).display;\n",
       "        if (!display || display === 'none') {{\n",
       "            console.log([gd, 'removed!']);\n",
       "            Plotly.purge(gd);\n",
       "            observer.disconnect();\n",
       "        }}\n",
       "}});\n",
       "\n",
       "// Listen for the removal of the full notebook cells\n",
       "var notebookContainer = gd.closest('#notebook-container');\n",
       "if (notebookContainer) {{\n",
       "    x.observe(notebookContainer, {childList: true});\n",
       "}}\n",
       "\n",
       "// Listen for the clearing of the current output cell\n",
       "var outputEl = gd.closest('.output');\n",
       "if (outputEl) {{\n",
       "    x.observe(outputEl, {childList: true});\n",
       "}}\n",
       "\n",
       "                        })                };                });            </script>        </div>"
      ]
     },
     "metadata": {},
     "output_type": "display_data"
    }
   ],
   "source": [
    "cluster_model, cs = \"RawKMeans\", 6\n",
    "col_exp_3 = \"{}_CS_{}_{}_tf{}\".format(cluster_model, cs, \"exp\", 3)\n",
    "col_exp_6 = \"{}_CS_{}_{}_tf{}\".format(cluster_model, cs, \"exp\", 6)\n",
    "col_exp_10 = \"{}_CS_{}_{}_tf{}\".format(cluster_model, cs, \"exp\", 10)\n",
    "\n",
    "\n",
    "cols = [\"TCGA408_classifier\", \"KMeans_labels_6\"] + [col_exp_3, col_exp_6, col_exp_10] + [\"consensus\"]\n",
    "rename_cols = {\n",
    "    cols[0]: \"TCGA\",\n",
    "    cols[1]: \"CA + IFNg\",\n",
    "    cols[2]: \"SBM_3TF\",\n",
    "    cols[3]: \"SBM_6TF\",\n",
    "    cols[4]: \"SBM_10TF\",\n",
    "    cols[5]: \"Consensus\",\n",
    "}\n",
    "\n",
    "meta, fig = sky.main(df=comb_cs.rename(columns=rename_cols), reorder_cols=list(rename_cols.values()), title=\"\", retMeta=True)\n",
    "\n",
    "fig.update_layout(\n",
    "    title=\"\",\n",
    "    font=dict(size=16),\n",
    ")\n",
    "fig.show()\n",
    "save_fig(name=\"Sankey_comp_SBM_5K\", fig=fig, base_path=figures_path, width=1200, height=600)"
   ]
  },
  {
   "cell_type": "markdown",
   "metadata": {},
   "source": [
    "## Survival"
   ]
  },
  {
   "cell_type": "code",
   "execution_count": 102,
   "metadata": {},
   "outputs": [],
   "source": [
    "def prep_survival(df, cs_num=6, tf=10, cs_model=\"RawKMeans\", label=\"SBM\"):\n",
    "    model = \"{}_CS_{}_exp_tf{}\".format(cs_model, cs_num, tf)\n",
    "\n",
    "    colors_net = px.colors.qualitative.G10\n",
    "    for idx, val in enumerate(df[model].unique()):\n",
    "        color_map[val] = colors_net[idx]\n",
    "\n",
    "    df[model] = df[model].astype(str)\n",
    "    fig = survival_plot(df.drop(columns=[\"days_to_last_follow_up\", \"days_to_death\"]), vu_output, classifier=model, color_map=color_map)\n",
    "    fig = fig.update_layout(title=\"{}. Survival analysis for {}\".format(label, model))\n",
    "\n",
    "    return fig\n",
    "\n",
    "\n",
    "tcga_metadata = pd.read_csv(f\"{data_base}/tumour/TCGA_metadata.tsv\", sep=\"\\t\", index_col=\"Sample\")"
   ]
  },
  {
   "cell_type": "code",
   "execution_count": 103,
   "metadata": {},
   "outputs": [
    {
     "data": {
      "application/vnd.plotly.v1+json": {
       "config": {
        "plotlyServerURL": "https://plot.ly"
       },
       "data": [
        {
         "hovertemplate": "disease=0.0<br>timeline=%{x}<br>chance=%{y}<extra></extra>",
         "legendgroup": "0.0",
         "line": {
          "color": "#00B0F6",
          "dash": "solid",
          "shape": "hv"
         },
         "marker": {
          "symbol": "circle"
         },
         "mode": "lines+markers",
         "name": "0.0",
         "orientation": "v",
         "showlegend": true,
         "type": "scatter",
         "x": [
          0,
          1.5333333333333334,
          1.9,
          2.1333333333333333,
          2.1666666666666665,
          2.533333333333333,
          2.8,
          3.1,
          3.9,
          4.3,
          4.366666666666666,
          4.866666666666666,
          4.966666666666667,
          6.066666666666666,
          6.233333333333333,
          6.3,
          6.366666666666666,
          6.833333333333333,
          6.866666666666666,
          7.466666666666667,
          7.666666666666667,
          8.2,
          8.466666666666667,
          9.1,
          9.8,
          10.8,
          12.033333333333333,
          12.266666666666667,
          12.633333333333333,
          12.933333333333334,
          12.966666666666667,
          13.033333333333333,
          13.133333333333333,
          13.766666666666667,
          13.833333333333334,
          14.466666666666667,
          15.1,
          15.333333333333334,
          15.566666666666666,
          15.633333333333333,
          15.9,
          16.166666666666668,
          16.4,
          17.4,
          17.666666666666668,
          17.866666666666667,
          18.066666666666666,
          18.2,
          18.233333333333334,
          18.333333333333332,
          18.833333333333332,
          19.1,
          19.366666666666667,
          19.766666666666666,
          20.066666666666666,
          20.1,
          21.533333333333335,
          21.6,
          22.166666666666668,
          22.666666666666668,
          23.2,
          23.333333333333332,
          24.366666666666667,
          24.466666666666665,
          24.633333333333333,
          25.766666666666666,
          25.933333333333334,
          26.633333333333333,
          27.066666666666666,
          27.1,
          27.333333333333332,
          27.733333333333334,
          28.066666666666666,
          28.8,
          30.2,
          31.5,
          33.43333333333333,
          36.46666666666667,
          38.766666666666666,
          51.4,
          52.03333333333333,
          57.13333333333333,
          57.266666666666666,
          61.5,
          63.733333333333334,
          66.96666666666667,
          67.46666666666667,
          72.56666666666666,
          95.6,
          98.8,
          100.36666666666666,
          110.46666666666667,
          112.13333333333334,
          114.4,
          132.7
         ],
         "xaxis": "x",
         "y": [
          1,
          1,
          0.9896907216494844,
          0.9896907216494844,
          0.9792729245794898,
          0.9688551275094957,
          0.9688551275094957,
          0.9583240935148268,
          0.9583240935148268,
          0.9583240935148268,
          0.9475564070708405,
          0.9367887206268534,
          0.9260210341828662,
          0.9152533477388799,
          0.9152533477388799,
          0.9152533477388799,
          0.9042261989709415,
          0.8931990502030033,
          0.8821719014350643,
          0.8821719014350643,
          0.8821719014350643,
          0.8708620052628202,
          0.8482422129183308,
          0.836932316746087,
          0.8143125244015978,
          0.8030026282293534,
          0.8030026282293534,
          0.8030026282293534,
          0.8030026282293534,
          0.7911937660495095,
          0.7911937660495095,
          0.7792059817154261,
          0.7792059817154261,
          0.7670308882511228,
          0.7548557947868194,
          0.7426807013225158,
          0.7305056078582121,
          0.7183305143939089,
          0.7183305143939089,
          0.7183305143939089,
          0.7183305143939089,
          0.7183305143939089,
          0.7052699595867469,
          0.6922094047795848,
          0.6788976854569003,
          0.6655859661342161,
          0.6655859661342161,
          0.6655859661342161,
          0.6517195918397529,
          0.6378532175452902,
          0.6239868432508273,
          0.6239868432508273,
          0.6239868432508273,
          0.6094755213147617,
          0.5949641993786959,
          0.5949641993786959,
          0.5949641993786959,
          0.5949641993786959,
          0.5793072467634671,
          0.5632153787978151,
          0.5471235108321635,
          0.5471235108321635,
          0.5471235108321635,
          0.5300259011186584,
          0.5129282914051533,
          0.5129282914051533,
          0.4952411089429065,
          0.4952411089429065,
          0.4952411089429065,
          0.4952411089429065,
          0.4952411089429065,
          0.4952411089429065,
          0.4952411089429065,
          0.4727301494455016,
          0.4727301494455016,
          0.4727301494455016,
          0.4727301494455016,
          0.4727301494455016,
          0.44492249359576613,
          0.44492249359576613,
          0.44492249359576613,
          0.44492249359576613,
          0.41069768639609183,
          0.41069768639609183,
          0.41069768639609183,
          0.41069768639609183,
          0.41069768639609183,
          0.41069768639609183,
          0.41069768639609183,
          0.41069768639609183,
          0.41069768639609183,
          0.41069768639609183,
          0.41069768639609183,
          0.41069768639609183,
          0.41069768639609183
         ],
         "yaxis": "y"
        },
        {
         "hovertemplate": "disease=1.0<br>timeline=%{x}<br>chance=%{y}<extra></extra>",
         "legendgroup": "1.0",
         "line": {
          "color": "#E76BF3",
          "dash": "solid",
          "shape": "hv"
         },
         "marker": {
          "symbol": "circle"
         },
         "mode": "lines+markers",
         "name": "1.0",
         "orientation": "v",
         "showlegend": true,
         "type": "scatter",
         "x": [
          0,
          0.5,
          0.5666666666666667,
          0.6333333333333333,
          0.6666666666666666,
          1.8666666666666667,
          3.533333333333333,
          3.966666666666667,
          4.733333333333333,
          5.266666666666667,
          5.433333333333334,
          6.666666666666667,
          7.2,
          7.733333333333333,
          8.6,
          10.8,
          11.066666666666666,
          11.5,
          12.133333333333333,
          12.2,
          12.3,
          12.533333333333333,
          12.8,
          13.266666666666667,
          13.666666666666666,
          13.866666666666667,
          14.166666666666666,
          14.266666666666667,
          15.233333333333333,
          15.533333333333333,
          15.566666666666666,
          15.8,
          15.833333333333334,
          16.5,
          16.766666666666666,
          17.066666666666666,
          17.466666666666665,
          17.866666666666667,
          18.133333333333333,
          18.233333333333334,
          18.666666666666668,
          19.233333333333334,
          19.266666666666666,
          19.333333333333332,
          19.4,
          19.666666666666668,
          19.966666666666665,
          20.4,
          20.566666666666666,
          20.6,
          21.366666666666667,
          21.4,
          21.633333333333333,
          21.7,
          22.466666666666665,
          23.033333333333335,
          25,
          26.5,
          27.3,
          27.733333333333334,
          29.1,
          29.766666666666666,
          30.066666666666666,
          30.7,
          31.366666666666667,
          31.633333333333333,
          35.46666666666667,
          36.333333333333336,
          37,
          37.166666666666664,
          39.13333333333333,
          44.93333333333333,
          45.666666666666664,
          47.63333333333333,
          48.46666666666667,
          48.5,
          50.733333333333334,
          50.96666666666667,
          64.9,
          65.06666666666666,
          65.7,
          66.93333333333334,
          67.33333333333333,
          68.13333333333334,
          68.3,
          71.3,
          88.03333333333333,
          90.1,
          96.2,
          106.1,
          114
         ],
         "xaxis": "x",
         "y": [
          1,
          1,
          1,
          0.9888888888888887,
          0.9888888888888887,
          0.9776515151515146,
          0.9664141414141405,
          0.9664141414141405,
          0.9550445632798561,
          0.9550445632798561,
          0.9435380022764842,
          0.9320314412731125,
          0.9205248802697401,
          0.9090183192663687,
          0.8975117582629969,
          0.8860051972596255,
          0.8744986362562535,
          0.8744986362562535,
          0.862838654439504,
          0.862838654439504,
          0.862838654439504,
          0.862838654439504,
          0.862838654439504,
          0.862838654439504,
          0.862838654439504,
          0.862838654439504,
          0.862838654439504,
          0.862838654439504,
          0.862838654439504,
          0.862838654439504,
          0.8354469511239644,
          0.8354469511239644,
          0.8354469511239644,
          0.8354469511239644,
          0.8354469511239644,
          0.8354469511239644,
          0.8354469511239644,
          0.8354469511239644,
          0.8199757112883355,
          0.8045044714527065,
          0.8045044714527065,
          0.7887298739732416,
          0.7887298739732416,
          0.7887298739732416,
          0.7887298739732416,
          0.7887298739732416,
          0.7712025434405029,
          0.7536752129077643,
          0.7361478823750257,
          0.7361478823750257,
          0.7361478823750257,
          0.7361478823750257,
          0.7361478823750257,
          0.716775569680946,
          0.6974032569868664,
          0.6974032569868664,
          0.6974032569868664,
          0.6768913964872526,
          0.6563795359876389,
          0.6563795359876389,
          0.6563795359876389,
          0.6563795359876389,
          0.6563795359876389,
          0.6563795359876389,
          0.6320691828029116,
          0.6077588296181841,
          0.5834484764334569,
          0.5834484764334569,
          0.5834484764334569,
          0.5834484764334569,
          0.5834484764334569,
          0.5542760526117839,
          0.5542760526117839,
          0.5542760526117839,
          0.5542760526117839,
          0.5542760526117839,
          0.5542760526117839,
          0.5542760526117839,
          0.5542760526117839,
          0.5542760526117839,
          0.5038873205561673,
          0.5038873205561673,
          0.5038873205561673,
          0.5038873205561673,
          0.5038873205561673,
          0.5038873205561673,
          0.40310985644493386,
          0.40310985644493386,
          0.40310985644493386,
          0.2015549282224669,
          0.2015549282224669
         ],
         "yaxis": "y"
        },
        {
         "hovertemplate": "disease=3.0<br>timeline=%{x}<br>chance=%{y}<extra></extra>",
         "legendgroup": "3.0",
         "line": {
          "color": "#F8766D",
          "dash": "solid",
          "shape": "hv"
         },
         "marker": {
          "symbol": "circle"
         },
         "mode": "lines+markers",
         "name": "3.0",
         "orientation": "v",
         "showlegend": true,
         "type": "scatter",
         "x": [
          0,
          1.1666666666666667,
          2.2666666666666666,
          2.3,
          3,
          3.5,
          4.066666666666666,
          5.133333333333334,
          8.333333333333334,
          9.766666666666667,
          10.1,
          10.366666666666667,
          10.7,
          11,
          11.233333333333333,
          11.966666666666667,
          12.066666666666666,
          12.4,
          12.566666666666666,
          12.8,
          13.533333333333333,
          14.433333333333334,
          15.133333333333333,
          16.033333333333335,
          16.2,
          16.5,
          16.933333333333334,
          17.866666666666667,
          17.966666666666665,
          18.833333333333332,
          19.066666666666666,
          19.166666666666668,
          21.266666666666666,
          23.733333333333334,
          25.366666666666667,
          26.1,
          27.433333333333334,
          27.833333333333332,
          28.633333333333333,
          33.6,
          34.53333333333333,
          35.9,
          39.53333333333333,
          45.56666666666667,
          47.333333333333336,
          47.43333333333333,
          55.666666666666664,
          67.33333333333333,
          80.76666666666667,
          93,
          94.26666666666667,
          144.76666666666668,
          168.33333333333334
         ],
         "xaxis": "x",
         "y": [
          1,
          1,
          1,
          0.98,
          0.9600000000000003,
          0.9600000000000003,
          0.9395744680851069,
          0.9191489361702131,
          0.8987234042553195,
          0.8987234042553195,
          0.8778228599703122,
          0.8569223156853047,
          0.8360217714002971,
          0.8360217714002971,
          0.8360217714002971,
          0.8360217714002971,
          0.8134265883894783,
          0.8134265883894783,
          0.8134265883894783,
          0.8134265883894783,
          0.7887772978322214,
          0.7887772978322214,
          0.7633328688698917,
          0.7633328688698917,
          0.7370110458054125,
          0.7370110458054125,
          0.7097143404052121,
          0.7097143404052121,
          0.6813257667890038,
          0.6529371931727952,
          0.6529371931727952,
          0.6232582298467589,
          0.6232582298467589,
          0.592095318354421,
          0.592095318354421,
          0.592095318354421,
          0.5572661819806314,
          0.522437045606842,
          0.4876079092330524,
          0.45277877285926305,
          0.4179496364854736,
          0.3831205001116842,
          0.3831205001116842,
          0.34480845010051575,
          0.3064964000893472,
          0.26818435007817887,
          0.22987230006701045,
          0.19156025005584204,
          0.19156025005584204,
          0.19156025005584204,
          0.12770683337056135,
          0.12770683337056135,
          0.12770683337056135
         ],
         "yaxis": "y"
        },
        {
         "hovertemplate": "disease=2.0<br>timeline=%{x}<br>chance=%{y}<extra></extra>",
         "legendgroup": "2.0",
         "line": {
          "color": "#A3A500",
          "dash": "solid",
          "shape": "hv"
         },
         "marker": {
          "symbol": "circle"
         },
         "mode": "lines+markers",
         "name": "2.0",
         "orientation": "v",
         "showlegend": true,
         "type": "scatter",
         "x": [
          0,
          0.6666666666666666,
          1.8333333333333333,
          2.066666666666667,
          2.1333333333333333,
          2.933333333333333,
          2.966666666666667,
          3.1666666666666665,
          3.3,
          4.266666666666667,
          5.133333333333334,
          5.6,
          6.666666666666667,
          7.1,
          7.333333333333333,
          8.266666666666667,
          8.366666666666667,
          8.433333333333334,
          8.633333333333333,
          8.7,
          9.066666666666666,
          9.133333333333333,
          9.266666666666667,
          11.466666666666667,
          11.866666666666667,
          12.333333333333334,
          12.4,
          12.733333333333333,
          13.1,
          13.333333333333334,
          13.766666666666667,
          13.833333333333334,
          14.266666666666667,
          14.566666666666666,
          15.166666666666666,
          15.333333333333334,
          15.533333333333333,
          15.8,
          16.133333333333333,
          16.366666666666667,
          16.5,
          17,
          18,
          18.733333333333334,
          20.5,
          20.766666666666666,
          21,
          22.833333333333332,
          25.266666666666666,
          26.3,
          28.366666666666667,
          29.566666666666666,
          29.9,
          30.133333333333333,
          33.46666666666667,
          36.93333333333333,
          37.56666666666667,
          42.333333333333336,
          44.2,
          48.666666666666664,
          51.86666666666667,
          60.2,
          61,
          62.3,
          62.8,
          70.3,
          76.43333333333334,
          87.5,
          88.53333333333333,
          127.23333333333333,
          168.03333333333333
         ],
         "xaxis": "x",
         "y": [
          1,
          0.9863013698630139,
          0.9863013698630139,
          0.9724098012733943,
          0.9724098012733943,
          0.9583169056027654,
          0.9583169056027654,
          0.9583169056027654,
          0.943796952487572,
          0.9292769993723785,
          0.9147570462571853,
          0.9002370931419921,
          0.8857171400267987,
          0.871197186911605,
          0.8566772337964119,
          0.8421572806812181,
          0.827637327566025,
          0.8128580895737745,
          0.7980788515815239,
          0.7832996135892735,
          0.768520375597023,
          0.7537411376047725,
          0.7389618996125219,
          0.7241826616202715,
          0.7094034236280213,
          0.6946241856357706,
          0.6946241856357706,
          0.6946241856357706,
          0.6791880926216424,
          0.6637519996075142,
          0.6328798135792578,
          0.6328798135792578,
          0.6328798135792578,
          0.6166521260515846,
          0.6004244385239113,
          0.6004244385239113,
          0.6004244385239113,
          0.5832694545660855,
          0.5832694545660855,
          0.5832694545660855,
          0.5650422841108953,
          0.528587943200515,
          0.528587943200515,
          0.528587943200515,
          0.5090106119708663,
          0.4894332807412175,
          0.46985594951156895,
          0.4502786182819202,
          0.4502786182819202,
          0.4502786182819202,
          0.4502786182819202,
          0.4502786182819202,
          0.4502786182819202,
          0.42526313948848027,
          0.4002476606950402,
          0.4002476606950402,
          0.4002476606950402,
          0.371658542073966,
          0.371658542073966,
          0.371658542073966,
          0.33787140188542364,
          0.33787140188542364,
          0.33787140188542364,
          0.2956374766497457,
          0.2956374766497457,
          0.2956374766497457,
          0.2956374766497457,
          0.2956374766497457,
          0.2956374766497457,
          0.2956374766497457,
          0.2956374766497457
         ],
         "yaxis": "y"
        },
        {
         "hovertemplate": "disease=4.0<br>timeline=%{x}<br>chance=%{y}<extra></extra>",
         "legendgroup": "4.0",
         "line": {
          "color": "#00BF7D",
          "dash": "solid",
          "shape": "hv"
         },
         "marker": {
          "symbol": "circle"
         },
         "mode": "lines+markers",
         "name": "4.0",
         "orientation": "v",
         "showlegend": true,
         "type": "scatter",
         "x": [
          0,
          1.2333333333333334,
          1.9666666666666666,
          2.7333333333333334,
          3.066666666666667,
          3.2666666666666666,
          3.933333333333333,
          5.766666666666667,
          7.033333333333333,
          7.733333333333333,
          7.9,
          9.066666666666666,
          9.2,
          10.933333333333334,
          12.333333333333334,
          12.866666666666667,
          13.6,
          13.933333333333334,
          15.166666666666666,
          16,
          16.9,
          17.966666666666665,
          19.066666666666666,
          19.3,
          19.6,
          19.666666666666668,
          20.333333333333332,
          21.1,
          21.2,
          21.333333333333332,
          23.533333333333335,
          23.966666666666665,
          28,
          28.8,
          29.966666666666665,
          32.46666666666667,
          33.5,
          34.93333333333333,
          52.733333333333334,
          54.63333333333333,
          54.96666666666667,
          56.93333333333333,
          58.7,
          59.733333333333334,
          60.13333333333333,
          64.96666666666667,
          67.56666666666666,
          79.33333333333333,
          165.56666666666666
         ],
         "xaxis": "x",
         "y": [
          1,
          1,
          1,
          1,
          0.9782608695652172,
          0.9565217391304346,
          0.9347826086956521,
          0.9130434782608696,
          0.891304347826087,
          0.8695652173913042,
          0.8478260869565216,
          0.8043478260869564,
          0.8043478260869564,
          0.7820048309178742,
          0.7596618357487923,
          0.7373188405797101,
          0.714975845410628,
          0.6926328502415459,
          0.6926328502415459,
          0.6926328502415459,
          0.6926328502415459,
          0.6926328502415459,
          0.6926328502415459,
          0.6659931252322554,
          0.6659931252322554,
          0.6382434116809114,
          0.6382434116809114,
          0.6382434116809114,
          0.6382434116809114,
          0.6382434116809114,
          0.6046516531713897,
          0.5710598946618682,
          0.5710598946618682,
          0.5710598946618682,
          0.5710598946618682,
          0.5302699021860207,
          0.4894799097101729,
          0.4894799097101729,
          0.4894799097101729,
          0.4894799097101729,
          0.4894799097101729,
          0.4894799097101729,
          0.4894799097101729,
          0.4894799097101729,
          0.39158392776813833,
          0.39158392776813833,
          0.39158392776813833,
          0.39158392776813833,
          0.39158392776813833
         ],
         "yaxis": "y"
        },
        {
         "hovertemplate": "disease=5.0<br>timeline=%{x}<br>chance=%{y}<extra></extra>",
         "legendgroup": "5.0",
         "line": {
          "color": "#00B0F6",
          "dash": "solid",
          "shape": "hv"
         },
         "marker": {
          "symbol": "circle"
         },
         "mode": "lines+markers",
         "name": "5.0",
         "orientation": "v",
         "showlegend": true,
         "type": "scatter",
         "x": [
          0,
          0.43333333333333335,
          0.9333333333333333,
          1.8666666666666667,
          2.2333333333333334,
          2.2666666666666666,
          3.6666666666666665,
          4.8,
          5.433333333333334,
          5.6,
          8.733333333333333,
          11.1,
          11.333333333333334,
          11.466666666666667,
          11.5,
          12.133333333333333,
          12.166666666666666,
          12.266666666666667,
          12.333333333333334,
          12.433333333333334,
          12.766666666666667,
          12.833333333333334,
          13.266666666666667,
          13.3,
          13.833333333333334,
          14.1,
          16.933333333333334,
          18.133333333333333,
          23,
          26.6,
          33.233333333333334,
          39.36666666666667,
          45,
          51.266666666666666,
          53.46666666666667,
          54.03333333333333,
          77.06666666666666,
          77.66666666666667,
          98.46666666666667
         ],
         "xaxis": "x",
         "y": [
          1,
          1,
          1,
          0.9722222222222221,
          0.9722222222222221,
          0.9436274509803919,
          0.9436274509803919,
          0.9141390931372547,
          0.9141390931372547,
          0.8836677900326796,
          0.8531964869281042,
          0.8531964869281042,
          0.8215966170418781,
          0.7899967471556518,
          0.7899967471556518,
          0.7899967471556518,
          0.7899967471556518,
          0.7899967471556518,
          0.7899967471556518,
          0.7899967471556518,
          0.7899967471556518,
          0.7461080389803381,
          0.7461080389803381,
          0.7461080389803381,
          0.7461080389803381,
          0.7461080389803381,
          0.7461080389803381,
          0.68393236906531,
          0.6217566991502819,
          0.6217566991502819,
          0.6217566991502819,
          0.6217566991502819,
          0.6217566991502819,
          0.6217566991502819,
          0.6217566991502819,
          0.6217566991502819,
          0.6217566991502819,
          0.6217566991502819,
          0
         ],
         "yaxis": "y"
        }
       ],
       "layout": {
        "font": {
         "size": 16
        },
        "legend": {
         "bgcolor": "rgba(0,0,0,0)",
         "font": {
          "color": "#003366",
          "size": 16
         },
         "orientation": "h",
         "title": {
          "text": "Network subtype"
         },
         "tracegroupgap": 0,
         "x": 0.5,
         "xanchor": "center",
         "y": 0.1,
         "yanchor": "bottom"
        },
        "margin": {
         "t": 60
        },
        "template": {
         "data": {
          "bar": [
           {
            "error_x": {
             "color": "rgb(51,51,51)"
            },
            "error_y": {
             "color": "rgb(51,51,51)"
            },
            "marker": {
             "line": {
              "color": "rgb(237,237,237)",
              "width": 0.5
             },
             "pattern": {
              "fillmode": "overlay",
              "size": 10,
              "solidity": 0.2
             }
            },
            "type": "bar"
           }
          ],
          "barpolar": [
           {
            "marker": {
             "line": {
              "color": "rgb(237,237,237)",
              "width": 0.5
             },
             "pattern": {
              "fillmode": "overlay",
              "size": 10,
              "solidity": 0.2
             }
            },
            "type": "barpolar"
           }
          ],
          "carpet": [
           {
            "aaxis": {
             "endlinecolor": "rgb(51,51,51)",
             "gridcolor": "white",
             "linecolor": "white",
             "minorgridcolor": "white",
             "startlinecolor": "rgb(51,51,51)"
            },
            "baxis": {
             "endlinecolor": "rgb(51,51,51)",
             "gridcolor": "white",
             "linecolor": "white",
             "minorgridcolor": "white",
             "startlinecolor": "rgb(51,51,51)"
            },
            "type": "carpet"
           }
          ],
          "choropleth": [
           {
            "colorbar": {
             "outlinewidth": 0,
             "tickcolor": "rgb(237,237,237)",
             "ticklen": 6,
             "ticks": "inside"
            },
            "type": "choropleth"
           }
          ],
          "contour": [
           {
            "colorbar": {
             "outlinewidth": 0,
             "tickcolor": "rgb(237,237,237)",
             "ticklen": 6,
             "ticks": "inside"
            },
            "colorscale": [
             [
              0,
              "rgb(20,44,66)"
             ],
             [
              1,
              "rgb(90,179,244)"
             ]
            ],
            "type": "contour"
           }
          ],
          "contourcarpet": [
           {
            "colorbar": {
             "outlinewidth": 0,
             "tickcolor": "rgb(237,237,237)",
             "ticklen": 6,
             "ticks": "inside"
            },
            "type": "contourcarpet"
           }
          ],
          "heatmap": [
           {
            "colorbar": {
             "outlinewidth": 0,
             "tickcolor": "rgb(237,237,237)",
             "ticklen": 6,
             "ticks": "inside"
            },
            "colorscale": [
             [
              0,
              "rgb(20,44,66)"
             ],
             [
              1,
              "rgb(90,179,244)"
             ]
            ],
            "type": "heatmap"
           }
          ],
          "heatmapgl": [
           {
            "colorbar": {
             "outlinewidth": 0,
             "tickcolor": "rgb(237,237,237)",
             "ticklen": 6,
             "ticks": "inside"
            },
            "colorscale": [
             [
              0,
              "rgb(20,44,66)"
             ],
             [
              1,
              "rgb(90,179,244)"
             ]
            ],
            "type": "heatmapgl"
           }
          ],
          "histogram": [
           {
            "marker": {
             "pattern": {
              "fillmode": "overlay",
              "size": 10,
              "solidity": 0.2
             }
            },
            "type": "histogram"
           }
          ],
          "histogram2d": [
           {
            "colorbar": {
             "outlinewidth": 0,
             "tickcolor": "rgb(237,237,237)",
             "ticklen": 6,
             "ticks": "inside"
            },
            "colorscale": [
             [
              0,
              "rgb(20,44,66)"
             ],
             [
              1,
              "rgb(90,179,244)"
             ]
            ],
            "type": "histogram2d"
           }
          ],
          "histogram2dcontour": [
           {
            "colorbar": {
             "outlinewidth": 0,
             "tickcolor": "rgb(237,237,237)",
             "ticklen": 6,
             "ticks": "inside"
            },
            "colorscale": [
             [
              0,
              "rgb(20,44,66)"
             ],
             [
              1,
              "rgb(90,179,244)"
             ]
            ],
            "type": "histogram2dcontour"
           }
          ],
          "mesh3d": [
           {
            "colorbar": {
             "outlinewidth": 0,
             "tickcolor": "rgb(237,237,237)",
             "ticklen": 6,
             "ticks": "inside"
            },
            "type": "mesh3d"
           }
          ],
          "parcoords": [
           {
            "line": {
             "colorbar": {
              "outlinewidth": 0,
              "tickcolor": "rgb(237,237,237)",
              "ticklen": 6,
              "ticks": "inside"
             }
            },
            "type": "parcoords"
           }
          ],
          "pie": [
           {
            "automargin": true,
            "type": "pie"
           }
          ],
          "scatter": [
           {
            "fillpattern": {
             "fillmode": "overlay",
             "size": 10,
             "solidity": 0.2
            },
            "type": "scatter"
           }
          ],
          "scatter3d": [
           {
            "line": {
             "colorbar": {
              "outlinewidth": 0,
              "tickcolor": "rgb(237,237,237)",
              "ticklen": 6,
              "ticks": "inside"
             }
            },
            "marker": {
             "colorbar": {
              "outlinewidth": 0,
              "tickcolor": "rgb(237,237,237)",
              "ticklen": 6,
              "ticks": "inside"
             }
            },
            "type": "scatter3d"
           }
          ],
          "scattercarpet": [
           {
            "marker": {
             "colorbar": {
              "outlinewidth": 0,
              "tickcolor": "rgb(237,237,237)",
              "ticklen": 6,
              "ticks": "inside"
             }
            },
            "type": "scattercarpet"
           }
          ],
          "scattergeo": [
           {
            "marker": {
             "colorbar": {
              "outlinewidth": 0,
              "tickcolor": "rgb(237,237,237)",
              "ticklen": 6,
              "ticks": "inside"
             }
            },
            "type": "scattergeo"
           }
          ],
          "scattergl": [
           {
            "marker": {
             "colorbar": {
              "outlinewidth": 0,
              "tickcolor": "rgb(237,237,237)",
              "ticklen": 6,
              "ticks": "inside"
             }
            },
            "type": "scattergl"
           }
          ],
          "scattermapbox": [
           {
            "marker": {
             "colorbar": {
              "outlinewidth": 0,
              "tickcolor": "rgb(237,237,237)",
              "ticklen": 6,
              "ticks": "inside"
             }
            },
            "type": "scattermapbox"
           }
          ],
          "scatterpolar": [
           {
            "marker": {
             "colorbar": {
              "outlinewidth": 0,
              "tickcolor": "rgb(237,237,237)",
              "ticklen": 6,
              "ticks": "inside"
             }
            },
            "type": "scatterpolar"
           }
          ],
          "scatterpolargl": [
           {
            "marker": {
             "colorbar": {
              "outlinewidth": 0,
              "tickcolor": "rgb(237,237,237)",
              "ticklen": 6,
              "ticks": "inside"
             }
            },
            "type": "scatterpolargl"
           }
          ],
          "scatterternary": [
           {
            "marker": {
             "colorbar": {
              "outlinewidth": 0,
              "tickcolor": "rgb(237,237,237)",
              "ticklen": 6,
              "ticks": "inside"
             }
            },
            "type": "scatterternary"
           }
          ],
          "surface": [
           {
            "colorbar": {
             "outlinewidth": 0,
             "tickcolor": "rgb(237,237,237)",
             "ticklen": 6,
             "ticks": "inside"
            },
            "colorscale": [
             [
              0,
              "rgb(20,44,66)"
             ],
             [
              1,
              "rgb(90,179,244)"
             ]
            ],
            "type": "surface"
           }
          ],
          "table": [
           {
            "cells": {
             "fill": {
              "color": "rgb(237,237,237)"
             },
             "line": {
              "color": "white"
             }
            },
            "header": {
             "fill": {
              "color": "rgb(217,217,217)"
             },
             "line": {
              "color": "white"
             }
            },
            "type": "table"
           }
          ]
         },
         "layout": {
          "annotationdefaults": {
           "arrowhead": 0,
           "arrowwidth": 1
          },
          "autotypenumbers": "strict",
          "coloraxis": {
           "colorbar": {
            "outlinewidth": 0,
            "tickcolor": "rgb(237,237,237)",
            "ticklen": 6,
            "ticks": "inside"
           }
          },
          "colorscale": {
           "sequential": [
            [
             0,
             "rgb(20,44,66)"
            ],
            [
             1,
             "rgb(90,179,244)"
            ]
           ],
           "sequentialminus": [
            [
             0,
             "rgb(20,44,66)"
            ],
            [
             1,
             "rgb(90,179,244)"
            ]
           ]
          },
          "colorway": [
           "#F8766D",
           "#A3A500",
           "#00BF7D",
           "#00B0F6",
           "#E76BF3"
          ],
          "font": {
           "color": "rgb(51,51,51)"
          },
          "geo": {
           "bgcolor": "white",
           "lakecolor": "white",
           "landcolor": "rgb(237,237,237)",
           "showlakes": true,
           "showland": true,
           "subunitcolor": "white"
          },
          "hoverlabel": {
           "align": "left"
          },
          "hovermode": "closest",
          "paper_bgcolor": "white",
          "plot_bgcolor": "rgb(237,237,237)",
          "polar": {
           "angularaxis": {
            "gridcolor": "white",
            "linecolor": "white",
            "showgrid": true,
            "tickcolor": "rgb(51,51,51)",
            "ticks": "outside"
           },
           "bgcolor": "rgb(237,237,237)",
           "radialaxis": {
            "gridcolor": "white",
            "linecolor": "white",
            "showgrid": true,
            "tickcolor": "rgb(51,51,51)",
            "ticks": "outside"
           }
          },
          "scene": {
           "xaxis": {
            "backgroundcolor": "rgb(237,237,237)",
            "gridcolor": "white",
            "gridwidth": 2,
            "linecolor": "white",
            "showbackground": true,
            "showgrid": true,
            "tickcolor": "rgb(51,51,51)",
            "ticks": "outside",
            "zerolinecolor": "white"
           },
           "yaxis": {
            "backgroundcolor": "rgb(237,237,237)",
            "gridcolor": "white",
            "gridwidth": 2,
            "linecolor": "white",
            "showbackground": true,
            "showgrid": true,
            "tickcolor": "rgb(51,51,51)",
            "ticks": "outside",
            "zerolinecolor": "white"
           },
           "zaxis": {
            "backgroundcolor": "rgb(237,237,237)",
            "gridcolor": "white",
            "gridwidth": 2,
            "linecolor": "white",
            "showbackground": true,
            "showgrid": true,
            "tickcolor": "rgb(51,51,51)",
            "ticks": "outside",
            "zerolinecolor": "white"
           }
          },
          "shapedefaults": {
           "fillcolor": "black",
           "line": {
            "width": 0
           },
           "opacity": 0.3
          },
          "ternary": {
           "aaxis": {
            "gridcolor": "white",
            "linecolor": "white",
            "showgrid": true,
            "tickcolor": "rgb(51,51,51)",
            "ticks": "outside"
           },
           "baxis": {
            "gridcolor": "white",
            "linecolor": "white",
            "showgrid": true,
            "tickcolor": "rgb(51,51,51)",
            "ticks": "outside"
           },
           "bgcolor": "rgb(237,237,237)",
           "caxis": {
            "gridcolor": "white",
            "linecolor": "white",
            "showgrid": true,
            "tickcolor": "rgb(51,51,51)",
            "ticks": "outside"
           }
          },
          "xaxis": {
           "automargin": true,
           "gridcolor": "white",
           "linecolor": "white",
           "showgrid": true,
           "tickcolor": "rgb(51,51,51)",
           "ticks": "outside",
           "title": {
            "standoff": 15
           },
           "zerolinecolor": "white"
          },
          "yaxis": {
           "automargin": true,
           "gridcolor": "white",
           "linecolor": "white",
           "showgrid": true,
           "tickcolor": "rgb(51,51,51)",
           "ticks": "outside",
           "title": {
            "standoff": 15
           },
           "zerolinecolor": "white"
          }
         }
        },
        "title": {
         "text": ""
        },
        "xaxis": {
         "anchor": "y",
         "domain": [
          0,
          1
         ],
         "range": [
          -1,
          60
         ],
         "tickfont": {
          "size": 16
         },
         "title": {
          "text": "Time (months)"
         }
        },
        "yaxis": {
         "anchor": "x",
         "domain": [
          0,
          1
         ],
         "tickfont": {
          "size": 16
         },
         "title": {
          "text": "Survival rate"
         }
        }
       }
      },
      "text/html": [
       "<div>                            <div id=\"17e85b92-e62e-4bcd-9fd2-4bfb42ef8fb6\" class=\"plotly-graph-div\" style=\"height:525px; width:100%;\"></div>            <script type=\"text/javascript\">                require([\"plotly\"], function(Plotly) {                    window.PLOTLYENV=window.PLOTLYENV || {};                                    if (document.getElementById(\"17e85b92-e62e-4bcd-9fd2-4bfb42ef8fb6\")) {                    Plotly.newPlot(                        \"17e85b92-e62e-4bcd-9fd2-4bfb42ef8fb6\",                        [{\"hovertemplate\":\"disease=0.0\\u003cbr\\u003etimeline=%{x}\\u003cbr\\u003echance=%{y}\\u003cextra\\u003e\\u003c\\u002fextra\\u003e\",\"legendgroup\":\"0.0\",\"line\":{\"color\":\"#00B0F6\",\"dash\":\"solid\",\"shape\":\"hv\"},\"marker\":{\"symbol\":\"circle\"},\"mode\":\"lines+markers\",\"name\":\"0.0\",\"orientation\":\"v\",\"showlegend\":true,\"x\":[0.0,1.5333333333333334,1.9,2.1333333333333333,2.1666666666666665,2.533333333333333,2.8,3.1,3.9,4.3,4.366666666666666,4.866666666666666,4.966666666666667,6.066666666666666,6.233333333333333,6.3,6.366666666666666,6.833333333333333,6.866666666666666,7.466666666666667,7.666666666666667,8.2,8.466666666666667,9.1,9.8,10.8,12.033333333333333,12.266666666666667,12.633333333333333,12.933333333333334,12.966666666666667,13.033333333333333,13.133333333333333,13.766666666666667,13.833333333333334,14.466666666666667,15.1,15.333333333333334,15.566666666666666,15.633333333333333,15.9,16.166666666666668,16.4,17.4,17.666666666666668,17.866666666666667,18.066666666666666,18.2,18.233333333333334,18.333333333333332,18.833333333333332,19.1,19.366666666666667,19.766666666666666,20.066666666666666,20.1,21.533333333333335,21.6,22.166666666666668,22.666666666666668,23.2,23.333333333333332,24.366666666666667,24.466666666666665,24.633333333333333,25.766666666666666,25.933333333333334,26.633333333333333,27.066666666666666,27.1,27.333333333333332,27.733333333333334,28.066666666666666,28.8,30.2,31.5,33.43333333333333,36.46666666666667,38.766666666666666,51.4,52.03333333333333,57.13333333333333,57.266666666666666,61.5,63.733333333333334,66.96666666666667,67.46666666666667,72.56666666666666,95.6,98.8,100.36666666666666,110.46666666666667,112.13333333333334,114.4,132.7],\"xaxis\":\"x\",\"y\":[1.0,1.0,0.9896907216494844,0.9896907216494844,0.9792729245794898,0.9688551275094957,0.9688551275094957,0.9583240935148268,0.9583240935148268,0.9583240935148268,0.9475564070708405,0.9367887206268534,0.9260210341828662,0.9152533477388799,0.9152533477388799,0.9152533477388799,0.9042261989709415,0.8931990502030033,0.8821719014350643,0.8821719014350643,0.8821719014350643,0.8708620052628202,0.8482422129183308,0.836932316746087,0.8143125244015978,0.8030026282293534,0.8030026282293534,0.8030026282293534,0.8030026282293534,0.7911937660495095,0.7911937660495095,0.7792059817154261,0.7792059817154261,0.7670308882511228,0.7548557947868194,0.7426807013225158,0.7305056078582121,0.7183305143939089,0.7183305143939089,0.7183305143939089,0.7183305143939089,0.7183305143939089,0.7052699595867469,0.6922094047795848,0.6788976854569003,0.6655859661342161,0.6655859661342161,0.6655859661342161,0.6517195918397529,0.6378532175452902,0.6239868432508273,0.6239868432508273,0.6239868432508273,0.6094755213147617,0.5949641993786959,0.5949641993786959,0.5949641993786959,0.5949641993786959,0.5793072467634671,0.5632153787978151,0.5471235108321635,0.5471235108321635,0.5471235108321635,0.5300259011186584,0.5129282914051533,0.5129282914051533,0.4952411089429065,0.4952411089429065,0.4952411089429065,0.4952411089429065,0.4952411089429065,0.4952411089429065,0.4952411089429065,0.4727301494455016,0.4727301494455016,0.4727301494455016,0.4727301494455016,0.4727301494455016,0.44492249359576613,0.44492249359576613,0.44492249359576613,0.44492249359576613,0.41069768639609183,0.41069768639609183,0.41069768639609183,0.41069768639609183,0.41069768639609183,0.41069768639609183,0.41069768639609183,0.41069768639609183,0.41069768639609183,0.41069768639609183,0.41069768639609183,0.41069768639609183,0.41069768639609183],\"yaxis\":\"y\",\"type\":\"scatter\"},{\"hovertemplate\":\"disease=1.0\\u003cbr\\u003etimeline=%{x}\\u003cbr\\u003echance=%{y}\\u003cextra\\u003e\\u003c\\u002fextra\\u003e\",\"legendgroup\":\"1.0\",\"line\":{\"color\":\"#E76BF3\",\"dash\":\"solid\",\"shape\":\"hv\"},\"marker\":{\"symbol\":\"circle\"},\"mode\":\"lines+markers\",\"name\":\"1.0\",\"orientation\":\"v\",\"showlegend\":true,\"x\":[0.0,0.5,0.5666666666666667,0.6333333333333333,0.6666666666666666,1.8666666666666667,3.533333333333333,3.966666666666667,4.733333333333333,5.266666666666667,5.433333333333334,6.666666666666667,7.2,7.733333333333333,8.6,10.8,11.066666666666666,11.5,12.133333333333333,12.2,12.3,12.533333333333333,12.8,13.266666666666667,13.666666666666666,13.866666666666667,14.166666666666666,14.266666666666667,15.233333333333333,15.533333333333333,15.566666666666666,15.8,15.833333333333334,16.5,16.766666666666666,17.066666666666666,17.466666666666665,17.866666666666667,18.133333333333333,18.233333333333334,18.666666666666668,19.233333333333334,19.266666666666666,19.333333333333332,19.4,19.666666666666668,19.966666666666665,20.4,20.566666666666666,20.6,21.366666666666667,21.4,21.633333333333333,21.7,22.466666666666665,23.033333333333335,25.0,26.5,27.3,27.733333333333334,29.1,29.766666666666666,30.066666666666666,30.7,31.366666666666667,31.633333333333333,35.46666666666667,36.333333333333336,37.0,37.166666666666664,39.13333333333333,44.93333333333333,45.666666666666664,47.63333333333333,48.46666666666667,48.5,50.733333333333334,50.96666666666667,64.9,65.06666666666666,65.7,66.93333333333334,67.33333333333333,68.13333333333334,68.3,71.3,88.03333333333333,90.1,96.2,106.1,114.0],\"xaxis\":\"x\",\"y\":[1.0,1.0,1.0,0.9888888888888887,0.9888888888888887,0.9776515151515146,0.9664141414141405,0.9664141414141405,0.9550445632798561,0.9550445632798561,0.9435380022764842,0.9320314412731125,0.9205248802697401,0.9090183192663687,0.8975117582629969,0.8860051972596255,0.8744986362562535,0.8744986362562535,0.862838654439504,0.862838654439504,0.862838654439504,0.862838654439504,0.862838654439504,0.862838654439504,0.862838654439504,0.862838654439504,0.862838654439504,0.862838654439504,0.862838654439504,0.862838654439504,0.8354469511239644,0.8354469511239644,0.8354469511239644,0.8354469511239644,0.8354469511239644,0.8354469511239644,0.8354469511239644,0.8354469511239644,0.8199757112883355,0.8045044714527065,0.8045044714527065,0.7887298739732416,0.7887298739732416,0.7887298739732416,0.7887298739732416,0.7887298739732416,0.7712025434405029,0.7536752129077643,0.7361478823750257,0.7361478823750257,0.7361478823750257,0.7361478823750257,0.7361478823750257,0.716775569680946,0.6974032569868664,0.6974032569868664,0.6974032569868664,0.6768913964872526,0.6563795359876389,0.6563795359876389,0.6563795359876389,0.6563795359876389,0.6563795359876389,0.6563795359876389,0.6320691828029116,0.6077588296181841,0.5834484764334569,0.5834484764334569,0.5834484764334569,0.5834484764334569,0.5834484764334569,0.5542760526117839,0.5542760526117839,0.5542760526117839,0.5542760526117839,0.5542760526117839,0.5542760526117839,0.5542760526117839,0.5542760526117839,0.5542760526117839,0.5038873205561673,0.5038873205561673,0.5038873205561673,0.5038873205561673,0.5038873205561673,0.5038873205561673,0.40310985644493386,0.40310985644493386,0.40310985644493386,0.2015549282224669,0.2015549282224669],\"yaxis\":\"y\",\"type\":\"scatter\"},{\"hovertemplate\":\"disease=3.0\\u003cbr\\u003etimeline=%{x}\\u003cbr\\u003echance=%{y}\\u003cextra\\u003e\\u003c\\u002fextra\\u003e\",\"legendgroup\":\"3.0\",\"line\":{\"color\":\"#F8766D\",\"dash\":\"solid\",\"shape\":\"hv\"},\"marker\":{\"symbol\":\"circle\"},\"mode\":\"lines+markers\",\"name\":\"3.0\",\"orientation\":\"v\",\"showlegend\":true,\"x\":[0.0,1.1666666666666667,2.2666666666666666,2.3,3.0,3.5,4.066666666666666,5.133333333333334,8.333333333333334,9.766666666666667,10.1,10.366666666666667,10.7,11.0,11.233333333333333,11.966666666666667,12.066666666666666,12.4,12.566666666666666,12.8,13.533333333333333,14.433333333333334,15.133333333333333,16.033333333333335,16.2,16.5,16.933333333333334,17.866666666666667,17.966666666666665,18.833333333333332,19.066666666666666,19.166666666666668,21.266666666666666,23.733333333333334,25.366666666666667,26.1,27.433333333333334,27.833333333333332,28.633333333333333,33.6,34.53333333333333,35.9,39.53333333333333,45.56666666666667,47.333333333333336,47.43333333333333,55.666666666666664,67.33333333333333,80.76666666666667,93.0,94.26666666666667,144.76666666666668,168.33333333333334],\"xaxis\":\"x\",\"y\":[1.0,1.0,1.0,0.98,0.9600000000000003,0.9600000000000003,0.9395744680851069,0.9191489361702131,0.8987234042553195,0.8987234042553195,0.8778228599703122,0.8569223156853047,0.8360217714002971,0.8360217714002971,0.8360217714002971,0.8360217714002971,0.8134265883894783,0.8134265883894783,0.8134265883894783,0.8134265883894783,0.7887772978322214,0.7887772978322214,0.7633328688698917,0.7633328688698917,0.7370110458054125,0.7370110458054125,0.7097143404052121,0.7097143404052121,0.6813257667890038,0.6529371931727952,0.6529371931727952,0.6232582298467589,0.6232582298467589,0.592095318354421,0.592095318354421,0.592095318354421,0.5572661819806314,0.522437045606842,0.4876079092330524,0.45277877285926305,0.4179496364854736,0.3831205001116842,0.3831205001116842,0.34480845010051575,0.3064964000893472,0.26818435007817887,0.22987230006701045,0.19156025005584204,0.19156025005584204,0.19156025005584204,0.12770683337056135,0.12770683337056135,0.12770683337056135],\"yaxis\":\"y\",\"type\":\"scatter\"},{\"hovertemplate\":\"disease=2.0\\u003cbr\\u003etimeline=%{x}\\u003cbr\\u003echance=%{y}\\u003cextra\\u003e\\u003c\\u002fextra\\u003e\",\"legendgroup\":\"2.0\",\"line\":{\"color\":\"#A3A500\",\"dash\":\"solid\",\"shape\":\"hv\"},\"marker\":{\"symbol\":\"circle\"},\"mode\":\"lines+markers\",\"name\":\"2.0\",\"orientation\":\"v\",\"showlegend\":true,\"x\":[0.0,0.6666666666666666,1.8333333333333333,2.066666666666667,2.1333333333333333,2.933333333333333,2.966666666666667,3.1666666666666665,3.3,4.266666666666667,5.133333333333334,5.6,6.666666666666667,7.1,7.333333333333333,8.266666666666667,8.366666666666667,8.433333333333334,8.633333333333333,8.7,9.066666666666666,9.133333333333333,9.266666666666667,11.466666666666667,11.866666666666667,12.333333333333334,12.4,12.733333333333333,13.1,13.333333333333334,13.766666666666667,13.833333333333334,14.266666666666667,14.566666666666666,15.166666666666666,15.333333333333334,15.533333333333333,15.8,16.133333333333333,16.366666666666667,16.5,17.0,18.0,18.733333333333334,20.5,20.766666666666666,21.0,22.833333333333332,25.266666666666666,26.3,28.366666666666667,29.566666666666666,29.9,30.133333333333333,33.46666666666667,36.93333333333333,37.56666666666667,42.333333333333336,44.2,48.666666666666664,51.86666666666667,60.2,61.0,62.3,62.8,70.3,76.43333333333334,87.5,88.53333333333333,127.23333333333333,168.03333333333333],\"xaxis\":\"x\",\"y\":[1.0,0.9863013698630139,0.9863013698630139,0.9724098012733943,0.9724098012733943,0.9583169056027654,0.9583169056027654,0.9583169056027654,0.943796952487572,0.9292769993723785,0.9147570462571853,0.9002370931419921,0.8857171400267987,0.871197186911605,0.8566772337964119,0.8421572806812181,0.827637327566025,0.8128580895737745,0.7980788515815239,0.7832996135892735,0.768520375597023,0.7537411376047725,0.7389618996125219,0.7241826616202715,0.7094034236280213,0.6946241856357706,0.6946241856357706,0.6946241856357706,0.6791880926216424,0.6637519996075142,0.6328798135792578,0.6328798135792578,0.6328798135792578,0.6166521260515846,0.6004244385239113,0.6004244385239113,0.6004244385239113,0.5832694545660855,0.5832694545660855,0.5832694545660855,0.5650422841108953,0.528587943200515,0.528587943200515,0.528587943200515,0.5090106119708663,0.4894332807412175,0.46985594951156895,0.4502786182819202,0.4502786182819202,0.4502786182819202,0.4502786182819202,0.4502786182819202,0.4502786182819202,0.42526313948848027,0.4002476606950402,0.4002476606950402,0.4002476606950402,0.371658542073966,0.371658542073966,0.371658542073966,0.33787140188542364,0.33787140188542364,0.33787140188542364,0.2956374766497457,0.2956374766497457,0.2956374766497457,0.2956374766497457,0.2956374766497457,0.2956374766497457,0.2956374766497457,0.2956374766497457],\"yaxis\":\"y\",\"type\":\"scatter\"},{\"hovertemplate\":\"disease=4.0\\u003cbr\\u003etimeline=%{x}\\u003cbr\\u003echance=%{y}\\u003cextra\\u003e\\u003c\\u002fextra\\u003e\",\"legendgroup\":\"4.0\",\"line\":{\"color\":\"#00BF7D\",\"dash\":\"solid\",\"shape\":\"hv\"},\"marker\":{\"symbol\":\"circle\"},\"mode\":\"lines+markers\",\"name\":\"4.0\",\"orientation\":\"v\",\"showlegend\":true,\"x\":[0.0,1.2333333333333334,1.9666666666666666,2.7333333333333334,3.066666666666667,3.2666666666666666,3.933333333333333,5.766666666666667,7.033333333333333,7.733333333333333,7.9,9.066666666666666,9.2,10.933333333333334,12.333333333333334,12.866666666666667,13.6,13.933333333333334,15.166666666666666,16.0,16.9,17.966666666666665,19.066666666666666,19.3,19.6,19.666666666666668,20.333333333333332,21.1,21.2,21.333333333333332,23.533333333333335,23.966666666666665,28.0,28.8,29.966666666666665,32.46666666666667,33.5,34.93333333333333,52.733333333333334,54.63333333333333,54.96666666666667,56.93333333333333,58.7,59.733333333333334,60.13333333333333,64.96666666666667,67.56666666666666,79.33333333333333,165.56666666666666],\"xaxis\":\"x\",\"y\":[1.0,1.0,1.0,1.0,0.9782608695652172,0.9565217391304346,0.9347826086956521,0.9130434782608696,0.891304347826087,0.8695652173913042,0.8478260869565216,0.8043478260869564,0.8043478260869564,0.7820048309178742,0.7596618357487923,0.7373188405797101,0.714975845410628,0.6926328502415459,0.6926328502415459,0.6926328502415459,0.6926328502415459,0.6926328502415459,0.6926328502415459,0.6659931252322554,0.6659931252322554,0.6382434116809114,0.6382434116809114,0.6382434116809114,0.6382434116809114,0.6382434116809114,0.6046516531713897,0.5710598946618682,0.5710598946618682,0.5710598946618682,0.5710598946618682,0.5302699021860207,0.4894799097101729,0.4894799097101729,0.4894799097101729,0.4894799097101729,0.4894799097101729,0.4894799097101729,0.4894799097101729,0.4894799097101729,0.39158392776813833,0.39158392776813833,0.39158392776813833,0.39158392776813833,0.39158392776813833],\"yaxis\":\"y\",\"type\":\"scatter\"},{\"hovertemplate\":\"disease=5.0\\u003cbr\\u003etimeline=%{x}\\u003cbr\\u003echance=%{y}\\u003cextra\\u003e\\u003c\\u002fextra\\u003e\",\"legendgroup\":\"5.0\",\"line\":{\"color\":\"#00B0F6\",\"dash\":\"solid\",\"shape\":\"hv\"},\"marker\":{\"symbol\":\"circle\"},\"mode\":\"lines+markers\",\"name\":\"5.0\",\"orientation\":\"v\",\"showlegend\":true,\"x\":[0.0,0.43333333333333335,0.9333333333333333,1.8666666666666667,2.2333333333333334,2.2666666666666666,3.6666666666666665,4.8,5.433333333333334,5.6,8.733333333333333,11.1,11.333333333333334,11.466666666666667,11.5,12.133333333333333,12.166666666666666,12.266666666666667,12.333333333333334,12.433333333333334,12.766666666666667,12.833333333333334,13.266666666666667,13.3,13.833333333333334,14.1,16.933333333333334,18.133333333333333,23.0,26.6,33.233333333333334,39.36666666666667,45.0,51.266666666666666,53.46666666666667,54.03333333333333,77.06666666666666,77.66666666666667,98.46666666666667],\"xaxis\":\"x\",\"y\":[1.0,1.0,1.0,0.9722222222222221,0.9722222222222221,0.9436274509803919,0.9436274509803919,0.9141390931372547,0.9141390931372547,0.8836677900326796,0.8531964869281042,0.8531964869281042,0.8215966170418781,0.7899967471556518,0.7899967471556518,0.7899967471556518,0.7899967471556518,0.7899967471556518,0.7899967471556518,0.7899967471556518,0.7899967471556518,0.7461080389803381,0.7461080389803381,0.7461080389803381,0.7461080389803381,0.7461080389803381,0.7461080389803381,0.68393236906531,0.6217566991502819,0.6217566991502819,0.6217566991502819,0.6217566991502819,0.6217566991502819,0.6217566991502819,0.6217566991502819,0.6217566991502819,0.6217566991502819,0.6217566991502819,0.0],\"yaxis\":\"y\",\"type\":\"scatter\"}],                        {\"template\":{\"data\":{\"histogram2dcontour\":[{\"type\":\"histogram2dcontour\",\"colorbar\":{\"outlinewidth\":0,\"tickcolor\":\"rgb(237,237,237)\",\"ticklen\":6,\"ticks\":\"inside\"},\"colorscale\":[[0,\"rgb(20,44,66)\"],[1,\"rgb(90,179,244)\"]]}],\"choropleth\":[{\"type\":\"choropleth\",\"colorbar\":{\"outlinewidth\":0,\"tickcolor\":\"rgb(237,237,237)\",\"ticklen\":6,\"ticks\":\"inside\"}}],\"histogram2d\":[{\"type\":\"histogram2d\",\"colorbar\":{\"outlinewidth\":0,\"tickcolor\":\"rgb(237,237,237)\",\"ticklen\":6,\"ticks\":\"inside\"},\"colorscale\":[[0,\"rgb(20,44,66)\"],[1,\"rgb(90,179,244)\"]]}],\"heatmap\":[{\"type\":\"heatmap\",\"colorbar\":{\"outlinewidth\":0,\"tickcolor\":\"rgb(237,237,237)\",\"ticklen\":6,\"ticks\":\"inside\"},\"colorscale\":[[0,\"rgb(20,44,66)\"],[1,\"rgb(90,179,244)\"]]}],\"heatmapgl\":[{\"type\":\"heatmapgl\",\"colorbar\":{\"outlinewidth\":0,\"tickcolor\":\"rgb(237,237,237)\",\"ticklen\":6,\"ticks\":\"inside\"},\"colorscale\":[[0,\"rgb(20,44,66)\"],[1,\"rgb(90,179,244)\"]]}],\"contourcarpet\":[{\"type\":\"contourcarpet\",\"colorbar\":{\"outlinewidth\":0,\"tickcolor\":\"rgb(237,237,237)\",\"ticklen\":6,\"ticks\":\"inside\"}}],\"contour\":[{\"type\":\"contour\",\"colorbar\":{\"outlinewidth\":0,\"tickcolor\":\"rgb(237,237,237)\",\"ticklen\":6,\"ticks\":\"inside\"},\"colorscale\":[[0,\"rgb(20,44,66)\"],[1,\"rgb(90,179,244)\"]]}],\"surface\":[{\"type\":\"surface\",\"colorbar\":{\"outlinewidth\":0,\"tickcolor\":\"rgb(237,237,237)\",\"ticklen\":6,\"ticks\":\"inside\"},\"colorscale\":[[0,\"rgb(20,44,66)\"],[1,\"rgb(90,179,244)\"]]}],\"mesh3d\":[{\"type\":\"mesh3d\",\"colorbar\":{\"outlinewidth\":0,\"tickcolor\":\"rgb(237,237,237)\",\"ticklen\":6,\"ticks\":\"inside\"}}],\"scatter\":[{\"fillpattern\":{\"fillmode\":\"overlay\",\"size\":10,\"solidity\":0.2},\"type\":\"scatter\"}],\"parcoords\":[{\"type\":\"parcoords\",\"line\":{\"colorbar\":{\"outlinewidth\":0,\"tickcolor\":\"rgb(237,237,237)\",\"ticklen\":6,\"ticks\":\"inside\"}}}],\"scatterpolargl\":[{\"type\":\"scatterpolargl\",\"marker\":{\"colorbar\":{\"outlinewidth\":0,\"tickcolor\":\"rgb(237,237,237)\",\"ticklen\":6,\"ticks\":\"inside\"}}}],\"bar\":[{\"error_x\":{\"color\":\"rgb(51,51,51)\"},\"error_y\":{\"color\":\"rgb(51,51,51)\"},\"marker\":{\"line\":{\"color\":\"rgb(237,237,237)\",\"width\":0.5},\"pattern\":{\"fillmode\":\"overlay\",\"size\":10,\"solidity\":0.2}},\"type\":\"bar\"}],\"scattergeo\":[{\"type\":\"scattergeo\",\"marker\":{\"colorbar\":{\"outlinewidth\":0,\"tickcolor\":\"rgb(237,237,237)\",\"ticklen\":6,\"ticks\":\"inside\"}}}],\"scatterpolar\":[{\"type\":\"scatterpolar\",\"marker\":{\"colorbar\":{\"outlinewidth\":0,\"tickcolor\":\"rgb(237,237,237)\",\"ticklen\":6,\"ticks\":\"inside\"}}}],\"histogram\":[{\"marker\":{\"pattern\":{\"fillmode\":\"overlay\",\"size\":10,\"solidity\":0.2}},\"type\":\"histogram\"}],\"scattergl\":[{\"type\":\"scattergl\",\"marker\":{\"colorbar\":{\"outlinewidth\":0,\"tickcolor\":\"rgb(237,237,237)\",\"ticklen\":6,\"ticks\":\"inside\"}}}],\"scatter3d\":[{\"type\":\"scatter3d\",\"line\":{\"colorbar\":{\"outlinewidth\":0,\"tickcolor\":\"rgb(237,237,237)\",\"ticklen\":6,\"ticks\":\"inside\"}},\"marker\":{\"colorbar\":{\"outlinewidth\":0,\"tickcolor\":\"rgb(237,237,237)\",\"ticklen\":6,\"ticks\":\"inside\"}}}],\"scattermapbox\":[{\"type\":\"scattermapbox\",\"marker\":{\"colorbar\":{\"outlinewidth\":0,\"tickcolor\":\"rgb(237,237,237)\",\"ticklen\":6,\"ticks\":\"inside\"}}}],\"scatterternary\":[{\"type\":\"scatterternary\",\"marker\":{\"colorbar\":{\"outlinewidth\":0,\"tickcolor\":\"rgb(237,237,237)\",\"ticklen\":6,\"ticks\":\"inside\"}}}],\"scattercarpet\":[{\"type\":\"scattercarpet\",\"marker\":{\"colorbar\":{\"outlinewidth\":0,\"tickcolor\":\"rgb(237,237,237)\",\"ticklen\":6,\"ticks\":\"inside\"}}}],\"carpet\":[{\"aaxis\":{\"endlinecolor\":\"rgb(51,51,51)\",\"gridcolor\":\"white\",\"linecolor\":\"white\",\"minorgridcolor\":\"white\",\"startlinecolor\":\"rgb(51,51,51)\"},\"baxis\":{\"endlinecolor\":\"rgb(51,51,51)\",\"gridcolor\":\"white\",\"linecolor\":\"white\",\"minorgridcolor\":\"white\",\"startlinecolor\":\"rgb(51,51,51)\"},\"type\":\"carpet\"}],\"table\":[{\"cells\":{\"fill\":{\"color\":\"rgb(237,237,237)\"},\"line\":{\"color\":\"white\"}},\"header\":{\"fill\":{\"color\":\"rgb(217,217,217)\"},\"line\":{\"color\":\"white\"}},\"type\":\"table\"}],\"barpolar\":[{\"marker\":{\"line\":{\"color\":\"rgb(237,237,237)\",\"width\":0.5},\"pattern\":{\"fillmode\":\"overlay\",\"size\":10,\"solidity\":0.2}},\"type\":\"barpolar\"}],\"pie\":[{\"automargin\":true,\"type\":\"pie\"}]},\"layout\":{\"autotypenumbers\":\"strict\",\"colorway\":[\"#F8766D\",\"#A3A500\",\"#00BF7D\",\"#00B0F6\",\"#E76BF3\"],\"font\":{\"color\":\"rgb(51,51,51)\"},\"hovermode\":\"closest\",\"hoverlabel\":{\"align\":\"left\"},\"paper_bgcolor\":\"white\",\"plot_bgcolor\":\"rgb(237,237,237)\",\"polar\":{\"bgcolor\":\"rgb(237,237,237)\",\"angularaxis\":{\"gridcolor\":\"white\",\"linecolor\":\"white\",\"showgrid\":true,\"tickcolor\":\"rgb(51,51,51)\",\"ticks\":\"outside\"},\"radialaxis\":{\"gridcolor\":\"white\",\"linecolor\":\"white\",\"showgrid\":true,\"tickcolor\":\"rgb(51,51,51)\",\"ticks\":\"outside\"}},\"ternary\":{\"bgcolor\":\"rgb(237,237,237)\",\"aaxis\":{\"gridcolor\":\"white\",\"linecolor\":\"white\",\"showgrid\":true,\"tickcolor\":\"rgb(51,51,51)\",\"ticks\":\"outside\"},\"baxis\":{\"gridcolor\":\"white\",\"linecolor\":\"white\",\"showgrid\":true,\"tickcolor\":\"rgb(51,51,51)\",\"ticks\":\"outside\"},\"caxis\":{\"gridcolor\":\"white\",\"linecolor\":\"white\",\"showgrid\":true,\"tickcolor\":\"rgb(51,51,51)\",\"ticks\":\"outside\"}},\"coloraxis\":{\"colorbar\":{\"outlinewidth\":0,\"tickcolor\":\"rgb(237,237,237)\",\"ticklen\":6,\"ticks\":\"inside\"}},\"colorscale\":{\"sequential\":[[0,\"rgb(20,44,66)\"],[1,\"rgb(90,179,244)\"]],\"sequentialminus\":[[0,\"rgb(20,44,66)\"],[1,\"rgb(90,179,244)\"]]},\"xaxis\":{\"gridcolor\":\"white\",\"linecolor\":\"white\",\"showgrid\":true,\"tickcolor\":\"rgb(51,51,51)\",\"ticks\":\"outside\",\"title\":{\"standoff\":15},\"zerolinecolor\":\"white\",\"automargin\":true},\"yaxis\":{\"gridcolor\":\"white\",\"linecolor\":\"white\",\"showgrid\":true,\"tickcolor\":\"rgb(51,51,51)\",\"ticks\":\"outside\",\"title\":{\"standoff\":15},\"zerolinecolor\":\"white\",\"automargin\":true},\"scene\":{\"xaxis\":{\"backgroundcolor\":\"rgb(237,237,237)\",\"gridcolor\":\"white\",\"linecolor\":\"white\",\"showbackground\":true,\"showgrid\":true,\"tickcolor\":\"rgb(51,51,51)\",\"ticks\":\"outside\",\"zerolinecolor\":\"white\",\"gridwidth\":2},\"yaxis\":{\"backgroundcolor\":\"rgb(237,237,237)\",\"gridcolor\":\"white\",\"linecolor\":\"white\",\"showbackground\":true,\"showgrid\":true,\"tickcolor\":\"rgb(51,51,51)\",\"ticks\":\"outside\",\"zerolinecolor\":\"white\",\"gridwidth\":2},\"zaxis\":{\"backgroundcolor\":\"rgb(237,237,237)\",\"gridcolor\":\"white\",\"linecolor\":\"white\",\"showbackground\":true,\"showgrid\":true,\"tickcolor\":\"rgb(51,51,51)\",\"ticks\":\"outside\",\"zerolinecolor\":\"white\",\"gridwidth\":2}},\"shapedefaults\":{\"fillcolor\":\"black\",\"line\":{\"width\":0},\"opacity\":0.3},\"annotationdefaults\":{\"arrowhead\":0,\"arrowwidth\":1},\"geo\":{\"bgcolor\":\"white\",\"landcolor\":\"rgb(237,237,237)\",\"subunitcolor\":\"white\",\"showland\":true,\"showlakes\":true,\"lakecolor\":\"white\"}}},\"xaxis\":{\"anchor\":\"y\",\"domain\":[0.0,1.0],\"title\":{\"text\":\"Time (months)\"},\"range\":[-1,60],\"tickfont\":{\"size\":16}},\"yaxis\":{\"anchor\":\"x\",\"domain\":[0.0,1.0],\"title\":{\"text\":\"Survival rate\"},\"tickfont\":{\"size\":16}},\"legend\":{\"title\":{\"text\":\"Network subtype\"},\"tracegroupgap\":0,\"font\":{\"size\":16,\"color\":\"#003366\"},\"orientation\":\"h\",\"yanchor\":\"bottom\",\"y\":0.1,\"xanchor\":\"center\",\"x\":0.5,\"bgcolor\":\"rgba(0,0,0,0)\"},\"margin\":{\"t\":60},\"title\":{\"text\":\"\"},\"font\":{\"size\":16}},                        {\"responsive\": true}                    ).then(function(){\n",
       "                            \n",
       "var gd = document.getElementById('17e85b92-e62e-4bcd-9fd2-4bfb42ef8fb6');\n",
       "var x = new MutationObserver(function (mutations, observer) {{\n",
       "        var display = window.getComputedStyle(gd).display;\n",
       "        if (!display || display === 'none') {{\n",
       "            console.log([gd, 'removed!']);\n",
       "            Plotly.purge(gd);\n",
       "            observer.disconnect();\n",
       "        }}\n",
       "}});\n",
       "\n",
       "// Listen for the removal of the full notebook cells\n",
       "var notebookContainer = gd.closest('#notebook-container');\n",
       "if (notebookContainer) {{\n",
       "    x.observe(notebookContainer, {childList: true});\n",
       "}}\n",
       "\n",
       "// Listen for the clearing of the current output cell\n",
       "var outputEl = gd.closest('.output');\n",
       "if (outputEl) {{\n",
       "    x.observe(outputEl, {childList: true});\n",
       "}}\n",
       "\n",
       "                        })                };                });            </script>        </div>"
      ]
     },
     "metadata": {},
     "output_type": "display_data"
    }
   ],
   "source": [
    "fig = prep_survival(comb_cs, cs_num=6, tf=6, cs_model=\"RawKMeans\", label=\"SBM\")\n",
    "# save_fig(name=\"Survival_plot_reward\", fig=fig, base_path=figures_path, width=1400, height=600)\n",
    "\n",
    "fig.update_layout(\n",
    "    legend=dict(\n",
    "        orientation=\"h\",\n",
    "        title=\"Network subtype\",\n",
    "        yanchor=\"bottom\",\n",
    "        y=0.1,\n",
    "        xanchor=\"center\",\n",
    "        x=0.5,\n",
    "        bgcolor=\"rgba(0,0,0,0)\",\n",
    "        font=dict(size=16, color=\"#003366\"),\n",
    "    ),\n",
    "    title=\"\",\n",
    "    xaxis=dict(tickfont=dict(size=16)),\n",
    "    yaxis=dict(tickfont=dict(size=16)),\n",
    "    font=dict(size=16),\n",
    ")\n",
    "fig.show()\n",
    "save_fig(name=\"Survival_SBM_5K_6TF\", fig=fig, base_path=figures_path, width=1000, height=600)"
   ]
  },
  {
   "cell_type": "code",
   "execution_count": 104,
   "metadata": {},
   "outputs": [
    {
     "data": {
      "application/vnd.plotly.v1+json": {
       "config": {
        "plotlyServerURL": "https://plot.ly"
       },
       "data": [
        {
         "hovertemplate": "disease=High IFNG<br>timeline=%{x}<br>chance=%{y}<extra></extra>",
         "legendgroup": "High IFNG",
         "line": {
          "color": "rgb(56, 166, 165)",
          "dash": "solid",
          "shape": "hv"
         },
         "marker": {
          "symbol": "circle"
         },
         "mode": "lines+markers",
         "name": "High IFNG",
         "orientation": "v",
         "showlegend": true,
         "type": "scatter",
         "x": [
          0,
          1.2333333333333334,
          2.2666666666666666,
          2.3,
          2.7333333333333334,
          3.066666666666667,
          3.2666666666666666,
          3.933333333333333,
          4.066666666666666,
          5.766666666666667,
          7.733333333333333,
          8.333333333333334,
          9.066666666666666,
          9.2,
          10.366666666666667,
          10.933333333333334,
          11,
          11.233333333333333,
          12.066666666666666,
          12.333333333333334,
          12.8,
          12.866666666666667,
          13.533333333333333,
          13.6,
          15.533333333333333,
          16,
          16.5,
          16.9,
          17,
          17.966666666666665,
          18,
          19.066666666666666,
          19.3,
          19.6,
          20.333333333333332,
          21.2,
          21.333333333333332,
          23.533333333333335,
          23.966666666666665,
          26.1,
          27.433333333333334,
          28,
          28.8,
          29.9,
          29.966666666666665,
          32.46666666666667,
          33.5,
          34.93333333333333,
          39.53333333333333,
          52.733333333333334,
          54.63333333333333,
          54.96666666666667,
          56.93333333333333,
          58.7,
          59.733333333333334,
          62.8,
          64.96666666666667,
          67.56666666666666,
          79.33333333333333,
          80.76666666666667,
          94.26666666666667,
          98.8,
          144.76666666666668,
          165.56666666666666,
          168.33333333333334
         ],
         "xaxis": "x",
         "y": [
          1,
          1,
          1,
          0.9841269841269844,
          0.9841269841269844,
          0.9679937548790006,
          0.9518605256310178,
          0.935727296383034,
          0.919594067135051,
          0.9034608378870679,
          0.8873276086390843,
          0.8711943793911009,
          0.8550611501431176,
          0.8550611501431176,
          0.8386176664865189,
          0.8221741828299205,
          0.8221741828299205,
          0.8221741828299205,
          0.8050455540209636,
          0.7879169252120071,
          0.7879169252120071,
          0.7704076602072958,
          0.7528983952025846,
          0.7353891301978734,
          0.7353891301978734,
          0.7353891301978734,
          0.7353891301978734,
          0.7353891301978734,
          0.6966844391348275,
          0.6966844391348275,
          0.6966844391348275,
          0.6966844391348275,
          0.6755727894640751,
          0.6755727894640751,
          0.6755727894640751,
          0.6755727894640751,
          0.6755727894640751,
          0.6514451898403583,
          0.6273175902166414,
          0.6273175902166414,
          0.6022248866079758,
          0.6022248866079758,
          0.6022248866079758,
          0.6022248866079758,
          0.6022248866079758,
          0.572113642277577,
          0.5420023979471782,
          0.5420023979471782,
          0.5420023979471782,
          0.5420023979471782,
          0.5420023979471782,
          0.5420023979471782,
          0.5420023979471782,
          0.5420023979471782,
          0.5420023979471782,
          0.5420023979471782,
          0.5420023979471782,
          0.5420023979471782,
          0.5420023979471782,
          0.5420023979471782,
          0.43360191835774264,
          0.43360191835774264,
          0.43360191835774264,
          0.43360191835774264,
          0.43360191835774264
         ],
         "yaxis": "y"
        },
        {
         "hovertemplate": "disease=1.0<br>timeline=%{x}<br>chance=%{y}<extra></extra>",
         "legendgroup": "1.0",
         "line": {
          "color": "#EF553B",
          "dash": "solid",
          "shape": "hv"
         },
         "marker": {
          "symbol": "circle"
         },
         "mode": "lines+markers",
         "name": "1.0",
         "orientation": "v",
         "showlegend": true,
         "type": "scatter",
         "x": [
          0,
          0.5,
          0.5666666666666667,
          0.6333333333333333,
          0.6666666666666666,
          1.8666666666666667,
          3.533333333333333,
          3.966666666666667,
          4.733333333333333,
          5.266666666666667,
          5.433333333333334,
          6.666666666666667,
          7.2,
          7.733333333333333,
          8.6,
          10.8,
          11.066666666666666,
          11.5,
          12.133333333333333,
          12.2,
          12.3,
          12.533333333333333,
          12.8,
          13.266666666666667,
          13.666666666666666,
          13.866666666666667,
          14.166666666666666,
          14.266666666666667,
          15.233333333333333,
          15.533333333333333,
          15.566666666666666,
          15.8,
          15.833333333333334,
          16.5,
          16.766666666666666,
          17.066666666666666,
          17.466666666666665,
          17.866666666666667,
          18.133333333333333,
          18.233333333333334,
          18.666666666666668,
          19.233333333333334,
          19.266666666666666,
          19.333333333333332,
          19.4,
          19.666666666666668,
          19.966666666666665,
          20.4,
          20.566666666666666,
          20.6,
          21.366666666666667,
          21.4,
          21.633333333333333,
          21.7,
          22.466666666666665,
          23.033333333333335,
          25,
          26.5,
          27.3,
          27.733333333333334,
          29.1,
          29.766666666666666,
          30.066666666666666,
          30.7,
          31.366666666666667,
          31.633333333333333,
          35.46666666666667,
          36.333333333333336,
          37,
          37.166666666666664,
          39.13333333333333,
          44.93333333333333,
          45.666666666666664,
          47.63333333333333,
          48.46666666666667,
          48.5,
          50.733333333333334,
          50.96666666666667,
          64.9,
          65.06666666666666,
          65.7,
          66.93333333333334,
          67.33333333333333,
          68.13333333333334,
          68.3,
          71.3,
          88.03333333333333,
          90.1,
          96.2,
          106.1,
          114
         ],
         "xaxis": "x",
         "y": [
          1,
          1,
          1,
          0.9888888888888887,
          0.9888888888888887,
          0.9776515151515146,
          0.9664141414141405,
          0.9664141414141405,
          0.9550445632798561,
          0.9550445632798561,
          0.9435380022764842,
          0.9320314412731125,
          0.9205248802697401,
          0.9090183192663687,
          0.8975117582629969,
          0.8860051972596255,
          0.8744986362562535,
          0.8744986362562535,
          0.862838654439504,
          0.862838654439504,
          0.862838654439504,
          0.862838654439504,
          0.862838654439504,
          0.862838654439504,
          0.862838654439504,
          0.862838654439504,
          0.862838654439504,
          0.862838654439504,
          0.862838654439504,
          0.862838654439504,
          0.8354469511239644,
          0.8354469511239644,
          0.8354469511239644,
          0.8354469511239644,
          0.8354469511239644,
          0.8354469511239644,
          0.8354469511239644,
          0.8354469511239644,
          0.8199757112883355,
          0.8045044714527065,
          0.8045044714527065,
          0.7887298739732416,
          0.7887298739732416,
          0.7887298739732416,
          0.7887298739732416,
          0.7887298739732416,
          0.7712025434405029,
          0.7536752129077643,
          0.7361478823750257,
          0.7361478823750257,
          0.7361478823750257,
          0.7361478823750257,
          0.7361478823750257,
          0.716775569680946,
          0.6974032569868664,
          0.6974032569868664,
          0.6974032569868664,
          0.6768913964872526,
          0.6563795359876389,
          0.6563795359876389,
          0.6563795359876389,
          0.6563795359876389,
          0.6563795359876389,
          0.6563795359876389,
          0.6320691828029116,
          0.6077588296181841,
          0.5834484764334569,
          0.5834484764334569,
          0.5834484764334569,
          0.5834484764334569,
          0.5834484764334569,
          0.5542760526117839,
          0.5542760526117839,
          0.5542760526117839,
          0.5542760526117839,
          0.5542760526117839,
          0.5542760526117839,
          0.5542760526117839,
          0.5542760526117839,
          0.5542760526117839,
          0.5038873205561673,
          0.5038873205561673,
          0.5038873205561673,
          0.5038873205561673,
          0.5038873205561673,
          0.5038873205561673,
          0.40310985644493386,
          0.40310985644493386,
          0.40310985644493386,
          0.2015549282224669,
          0.2015549282224669
         ],
         "yaxis": "y"
        },
        {
         "hovertemplate": "disease=5.0<br>timeline=%{x}<br>chance=%{y}<extra></extra>",
         "legendgroup": "5.0",
         "line": {
          "color": "#19D3F3",
          "dash": "solid",
          "shape": "hv"
         },
         "marker": {
          "symbol": "circle"
         },
         "mode": "lines+markers",
         "name": "5.0",
         "orientation": "v",
         "showlegend": true,
         "type": "scatter",
         "x": [
          0,
          0.43333333333333335,
          0.9333333333333333,
          1.8666666666666667,
          2.2333333333333334,
          2.2666666666666666,
          3.6666666666666665,
          4.8,
          5.433333333333334,
          5.6,
          8.733333333333333,
          11.1,
          11.333333333333334,
          11.466666666666667,
          11.5,
          12.133333333333333,
          12.166666666666666,
          12.266666666666667,
          12.333333333333334,
          12.433333333333334,
          12.766666666666667,
          12.833333333333334,
          13.266666666666667,
          13.3,
          13.833333333333334,
          14.1,
          16.933333333333334,
          18.133333333333333,
          23,
          26.6,
          33.233333333333334,
          39.36666666666667,
          45,
          51.266666666666666,
          53.46666666666667,
          54.03333333333333,
          77.06666666666666,
          77.66666666666667,
          98.46666666666667
         ],
         "xaxis": "x",
         "y": [
          1,
          1,
          1,
          0.9722222222222221,
          0.9722222222222221,
          0.9436274509803919,
          0.9436274509803919,
          0.9141390931372547,
          0.9141390931372547,
          0.8836677900326796,
          0.8531964869281042,
          0.8531964869281042,
          0.8215966170418781,
          0.7899967471556518,
          0.7899967471556518,
          0.7899967471556518,
          0.7899967471556518,
          0.7899967471556518,
          0.7899967471556518,
          0.7899967471556518,
          0.7899967471556518,
          0.7461080389803381,
          0.7461080389803381,
          0.7461080389803381,
          0.7461080389803381,
          0.7461080389803381,
          0.7461080389803381,
          0.68393236906531,
          0.6217566991502819,
          0.6217566991502819,
          0.6217566991502819,
          0.6217566991502819,
          0.6217566991502819,
          0.6217566991502819,
          0.6217566991502819,
          0.6217566991502819,
          0.6217566991502819,
          0.6217566991502819,
          0
         ],
         "yaxis": "y"
        },
        {
         "hovertemplate": "disease=Lum Inf/NS<br>timeline=%{x}<br>chance=%{y}<extra></extra>",
         "legendgroup": "Lum Inf/NS",
         "line": {
          "color": "#00BF7D",
          "dash": "solid",
          "shape": "hv"
         },
         "marker": {
          "symbol": "circle"
         },
         "mode": "lines+markers",
         "name": "Lum Inf/NS",
         "orientation": "v",
         "showlegend": true,
         "type": "scatter",
         "x": [
          0,
          1.1666666666666667,
          1.5333333333333334,
          1.8666666666666667,
          1.9,
          2.1333333333333333,
          2.1666666666666665,
          2.533333333333333,
          2.8,
          3.1,
          3.3,
          3.5,
          3.9,
          4.3,
          4.733333333333333,
          4.866666666666666,
          4.966666666666667,
          5.133333333333334,
          5.6,
          6.066666666666666,
          6.233333333333333,
          6.3,
          6.366666666666666,
          6.866666666666666,
          7.2,
          7.466666666666667,
          7.666666666666667,
          8.2,
          8.466666666666667,
          9.766666666666667,
          9.8,
          10.8,
          11.966666666666667,
          12.4,
          12.933333333333334,
          12.966666666666667,
          13.133333333333333,
          14.1,
          14.433333333333334,
          14.466666666666667,
          15.1,
          15.133333333333333,
          15.166666666666666,
          15.333333333333334,
          15.566666666666666,
          15.9,
          16.033333333333335,
          16.166666666666668,
          16.2,
          16.4,
          17.066666666666666,
          17.666666666666668,
          17.866666666666667,
          17.966666666666665,
          18.066666666666666,
          18.2,
          18.233333333333334,
          18.333333333333332,
          18.833333333333332,
          19.1,
          19.366666666666667,
          19.766666666666666,
          20.066666666666666,
          20.1,
          20.766666666666666,
          21.6,
          22.166666666666668,
          23,
          23.2,
          23.333333333333332,
          23.733333333333334,
          24.366666666666667,
          24.466666666666665,
          24.633333333333333,
          25.366666666666667,
          25.933333333333334,
          26.633333333333333,
          27.066666666666666,
          27.1,
          27.733333333333334,
          27.833333333333332,
          28.066666666666666,
          28.633333333333333,
          28.8,
          31.633333333333333,
          33.43333333333333,
          33.6,
          35.9,
          36.46666666666667,
          37.166666666666664,
          44.93333333333333,
          45.56666666666667,
          47.333333333333336,
          47.43333333333333,
          48.46666666666667,
          52.03333333333333,
          55.666666666666664,
          57.13333333333333,
          57.266666666666666,
          60.13333333333333,
          61.5,
          63.733333333333334,
          65.06666666666666,
          67.33333333333333,
          72.56666666666666,
          77.06666666666666,
          93,
          95.6,
          98.46666666666667,
          100.36666666666666,
          114,
          114.4,
          132.7
         ],
         "xaxis": "x",
         "y": [
          1,
          1,
          1,
          0.982608695652174,
          0.9739130434782604,
          0.9739130434782604,
          0.9651390520955739,
          0.9563650607128863,
          0.9563650607128863,
          0.9475098286692478,
          0.9386545966256102,
          0.9386545966256102,
          0.9386545966256102,
          0.9386545966256102,
          0.9295414452020602,
          0.9204282937785111,
          0.9113151423549617,
          0.9022019909314115,
          0.8930888395078624,
          0.8839756880843125,
          0.8839756880843125,
          0.8839756880843125,
          0.8746706808413197,
          0.8653656735983273,
          0.8560606663553344,
          0.8560606663553344,
          0.8560606663553344,
          0.8465488811736083,
          0.8370370959918828,
          0.8370370959918828,
          0.8177948639001156,
          0.8081737478542315,
          0.8081737478542315,
          0.8081737478542315,
          0.7983179704413751,
          0.7983179704413751,
          0.7983179704413751,
          0.7983179704413751,
          0.7983179704413751,
          0.7879502045914869,
          0.7775824387415987,
          0.7672146728917113,
          0.7672146728917113,
          0.7567048828520989,
          0.7567048828520989,
          0.7567048828520989,
          0.7567048828520989,
          0.7567048828520989,
          0.7455768698689794,
          0.7344488568858603,
          0.7344488568858603,
          0.7231496437030008,
          0.7118504305201416,
          0.7003689719633651,
          0.7003689719633651,
          0.7003689719633651,
          0.6884983114216129,
          0.6766276508798612,
          0.6647569903381094,
          0.6647569903381094,
          0.6647569903381094,
          0.6524466757022185,
          0.6401363610663277,
          0.6401363610663277,
          0.6275846677120859,
          0.6275846677120859,
          0.614776817350615,
          0.6016964595346446,
          0.5886161017186738,
          0.5886161017186738,
          0.5752384630432495,
          0.5752384630432495,
          0.5615423091612675,
          0.5478461552792852,
          0.5478461552792852,
          0.5337988179644317,
          0.5337988179644317,
          0.5337988179644317,
          0.5337988179644317,
          0.5337988179644317,
          0.5180988527301836,
          0.5180988527301836,
          0.5019082635823654,
          0.4857176744345472,
          0.469527085286729,
          0.469527085286729,
          0.45275826081220305,
          0.435989436337677,
          0.435989436337677,
          0.435989436337677,
          0.4178232098236071,
          0.3996569833095373,
          0.38149075679546735,
          0.36332453028139744,
          0.36332453028139744,
          0.36332453028139744,
          0.3431398341546532,
          0.3431398341546532,
          0.3216935945199874,
          0.3002473548853215,
          0.3002473548853215,
          0.3002473548853215,
          0.3002473548853215,
          0.27295214080483776,
          0.27295214080483776,
          0.27295214080483776,
          0.27295214080483776,
          0.27295214080483776,
          0.21836171264387022,
          0.21836171264387022,
          0.21836171264387022,
          0.21836171264387022,
          0.21836171264387022
         ],
         "yaxis": "y"
        },
        {
         "hovertemplate": "disease=Low IFNG<br>timeline=%{x}<br>chance=%{y}<extra></extra>",
         "legendgroup": "Low IFNG",
         "line": {
          "color": "rgb(15, 133, 84)",
          "dash": "solid",
          "shape": "hv"
         },
         "marker": {
          "symbol": "circle"
         },
         "mode": "lines+markers",
         "name": "Low IFNG",
         "orientation": "v",
         "showlegend": true,
         "type": "scatter",
         "x": [
          0,
          1.9666666666666666,
          2.066666666666667,
          2.1333333333333333,
          2.933333333333333,
          2.966666666666667,
          3,
          3.1666666666666665,
          3.533333333333333,
          5.133333333333334,
          7.1,
          7.333333333333333,
          7.9,
          8.266666666666667,
          8.366666666666667,
          8.633333333333333,
          9.066666666666666,
          9.133333333333333,
          11.466666666666667,
          11.866666666666667,
          12.333333333333334,
          12.733333333333333,
          13.1,
          13.333333333333334,
          13.766666666666667,
          13.833333333333334,
          15.166666666666666,
          15.566666666666666,
          16.366666666666667,
          18.233333333333334,
          18.733333333333334,
          25.266666666666666,
          26.5,
          29.566666666666666,
          37.56666666666667,
          38.766666666666666,
          51.86666666666667,
          60.2,
          61,
          87.5,
          88.53333333333333
         ],
         "xaxis": "x",
         "y": [
          1,
          1,
          0.975,
          0.975,
          0.9493421052631579,
          0.9493421052631579,
          0.9229714912280701,
          0.9229714912280701,
          0.8958252708978325,
          0.8686790505675952,
          0.8415328302373578,
          0.8143866099071205,
          0.7872403895768832,
          0.7600941692466457,
          0.7329479489164085,
          0.7047576431888541,
          0.6765673374613002,
          0.6483770317337458,
          0.6201867260061918,
          0.5919964202786375,
          0.5638061145510833,
          0.5638061145510833,
          0.5341321085220789,
          0.5044581024930747,
          0.4747840964640702,
          0.4747840964640702,
          0.44313182336646545,
          0.41147955026886085,
          0.41147955026886085,
          0.37718958774645583,
          0.37718958774645583,
          0.37718958774645583,
          0.33527963355240503,
          0.33527963355240503,
          0.33527963355240503,
          0.2793996946270042,
          0.22351975570160337,
          0.22351975570160337,
          0.22351975570160337,
          0.22351975570160337,
          0.22351975570160337
         ],
         "yaxis": "y"
        },
        {
         "hovertemplate": "disease=0.0<br>timeline=%{x}<br>chance=%{y}<extra></extra>",
         "legendgroup": "0.0",
         "line": {
          "color": "#636EFA",
          "dash": "solid",
          "shape": "hv"
         },
         "marker": {
          "symbol": "circle"
         },
         "mode": "lines+markers",
         "name": "0.0",
         "orientation": "v",
         "showlegend": true,
         "type": "scatter",
         "x": [
          0,
          1.5333333333333334,
          1.9,
          2.1333333333333333,
          2.1666666666666665,
          2.533333333333333,
          2.8,
          3.1,
          3.9,
          4.3,
          4.366666666666666,
          4.866666666666666,
          4.966666666666667,
          6.066666666666666,
          6.233333333333333,
          6.3,
          6.366666666666666,
          6.833333333333333,
          6.866666666666666,
          7.466666666666667,
          7.666666666666667,
          8.2,
          8.466666666666667,
          9.1,
          9.8,
          10.8,
          12.033333333333333,
          12.266666666666667,
          12.633333333333333,
          12.933333333333334,
          12.966666666666667,
          13.033333333333333,
          13.133333333333333,
          13.766666666666667,
          13.833333333333334,
          14.466666666666667,
          15.1,
          15.333333333333334,
          15.566666666666666,
          15.633333333333333,
          15.9,
          16.166666666666668,
          16.4,
          17.4,
          17.666666666666668,
          17.866666666666667,
          18.066666666666666,
          18.2,
          18.233333333333334,
          18.333333333333332,
          18.833333333333332,
          19.1,
          19.366666666666667,
          19.766666666666666,
          20.066666666666666,
          20.1,
          21.533333333333335,
          21.6,
          22.166666666666668,
          22.666666666666668,
          23.2,
          23.333333333333332,
          24.366666666666667,
          24.466666666666665,
          24.633333333333333,
          25.766666666666666,
          25.933333333333334,
          26.633333333333333,
          27.066666666666666,
          27.1,
          27.333333333333332,
          27.733333333333334,
          28.066666666666666,
          28.8,
          30.2,
          31.5,
          33.43333333333333,
          36.46666666666667,
          38.766666666666666,
          51.4,
          52.03333333333333,
          57.13333333333333,
          57.266666666666666,
          61.5,
          63.733333333333334,
          66.96666666666667,
          67.46666666666667,
          72.56666666666666,
          95.6,
          98.8,
          100.36666666666666,
          110.46666666666667,
          112.13333333333334,
          114.4,
          132.7
         ],
         "xaxis": "x",
         "y": [
          1,
          1,
          0.9896907216494844,
          0.9896907216494844,
          0.9792729245794898,
          0.9688551275094957,
          0.9688551275094957,
          0.9583240935148268,
          0.9583240935148268,
          0.9583240935148268,
          0.9475564070708405,
          0.9367887206268534,
          0.9260210341828662,
          0.9152533477388799,
          0.9152533477388799,
          0.9152533477388799,
          0.9042261989709415,
          0.8931990502030033,
          0.8821719014350643,
          0.8821719014350643,
          0.8821719014350643,
          0.8708620052628202,
          0.8482422129183308,
          0.836932316746087,
          0.8143125244015978,
          0.8030026282293534,
          0.8030026282293534,
          0.8030026282293534,
          0.8030026282293534,
          0.7911937660495095,
          0.7911937660495095,
          0.7792059817154261,
          0.7792059817154261,
          0.7670308882511228,
          0.7548557947868194,
          0.7426807013225158,
          0.7305056078582121,
          0.7183305143939089,
          0.7183305143939089,
          0.7183305143939089,
          0.7183305143939089,
          0.7183305143939089,
          0.7052699595867469,
          0.6922094047795848,
          0.6788976854569003,
          0.6655859661342161,
          0.6655859661342161,
          0.6655859661342161,
          0.6517195918397529,
          0.6378532175452902,
          0.6239868432508273,
          0.6239868432508273,
          0.6239868432508273,
          0.6094755213147617,
          0.5949641993786959,
          0.5949641993786959,
          0.5949641993786959,
          0.5949641993786959,
          0.5793072467634671,
          0.5632153787978151,
          0.5471235108321635,
          0.5471235108321635,
          0.5471235108321635,
          0.5300259011186584,
          0.5129282914051533,
          0.5129282914051533,
          0.4952411089429065,
          0.4952411089429065,
          0.4952411089429065,
          0.4952411089429065,
          0.4952411089429065,
          0.4952411089429065,
          0.4952411089429065,
          0.4727301494455016,
          0.4727301494455016,
          0.4727301494455016,
          0.4727301494455016,
          0.4727301494455016,
          0.44492249359576613,
          0.44492249359576613,
          0.44492249359576613,
          0.44492249359576613,
          0.41069768639609183,
          0.41069768639609183,
          0.41069768639609183,
          0.41069768639609183,
          0.41069768639609183,
          0.41069768639609183,
          0.41069768639609183,
          0.41069768639609183,
          0.41069768639609183,
          0.41069768639609183,
          0.41069768639609183,
          0.41069768639609183,
          0.41069768639609183
         ],
         "yaxis": "y"
        },
        {
         "hovertemplate": "disease=Ne<br>timeline=%{x}<br>chance=%{y}<extra></extra>",
         "legendgroup": "Ne",
         "line": {
          "color": "rgb(237, 173, 8)",
          "dash": "solid",
          "shape": "hv"
         },
         "marker": {
          "symbol": "circle"
         },
         "mode": "lines+markers",
         "name": "Ne",
         "orientation": "v",
         "showlegend": true,
         "type": "scatter",
         "x": [
          0,
          0.5,
          0.6666666666666666,
          4.266666666666667,
          4.366666666666666,
          6.666666666666667,
          6.833333333333333,
          7.033333333333333,
          8.466666666666667,
          9.066666666666666,
          9.1,
          11.466666666666667,
          12.566666666666666,
          13.033333333333333,
          13.833333333333334,
          15.333333333333334,
          17.4,
          18.833333333333332,
          19.066666666666666,
          19.166666666666668,
          19.666666666666668,
          20.5,
          21.266666666666666,
          21.533333333333335,
          27.3,
          31.5,
          34.53333333333333,
          37,
          64.9,
          112.13333333333334
         ],
         "xaxis": "x",
         "y": [
          1,
          1,
          0.9655172413793102,
          0.9310344827586207,
          0.896551724137931,
          0.8620689655172411,
          0.8275862068965517,
          0.793103448275862,
          0.7586206896551725,
          0.7241379310344827,
          0.6896551724137929,
          0.6551724137931032,
          0.6551724137931032,
          0.6187739463601533,
          0.582375478927203,
          0.582375478927203,
          0.5435504469987226,
          0.501738874152667,
          0.501738874152667,
          0.45612624922969736,
          0.4105136243067276,
          0.36490099938375775,
          0.36490099938375775,
          0.36490099938375775,
          0.30408416615313144,
          0.30408416615313144,
          0.22806312461484862,
          0.22806312461484862,
          0.22806312461484862,
          0.22806312461484862
         ],
         "yaxis": "y"
        },
        {
         "hovertemplate": "disease=LumP<br>timeline=%{x}<br>chance=%{y}<extra></extra>",
         "legendgroup": "LumP",
         "line": {
          "color": "rgb(95, 70, 144)",
          "dash": "solid",
          "shape": "hv"
         },
         "marker": {
          "symbol": "circle"
         },
         "mode": "lines+markers",
         "name": "LumP",
         "orientation": "v",
         "showlegend": true,
         "type": "scatter",
         "x": [
          0,
          0.43333333333333335,
          0.5666666666666667,
          0.6333333333333333,
          0.6666666666666666,
          0.9333333333333333,
          2.2333333333333334,
          2.2666666666666666,
          3.6666666666666665,
          3.966666666666667,
          4.8,
          5.266666666666667,
          5.433333333333334,
          6.666666666666667,
          7.733333333333333,
          8.6,
          8.733333333333333,
          10.8,
          11.066666666666666,
          11.1,
          11.333333333333334,
          11.5,
          12.033333333333333,
          12.133333333333333,
          12.166666666666666,
          12.2,
          12.266666666666667,
          12.3,
          12.333333333333334,
          12.433333333333334,
          12.533333333333333,
          12.633333333333333,
          12.766666666666667,
          12.8,
          12.833333333333334,
          13.266666666666667,
          13.3,
          13.666666666666666,
          13.766666666666667,
          13.833333333333334,
          13.866666666666667,
          14.166666666666666,
          14.266666666666667,
          15.233333333333333,
          15.533333333333333,
          15.566666666666666,
          15.633333333333333,
          15.8,
          15.833333333333334,
          16.5,
          16.766666666666666,
          16.933333333333334,
          17.466666666666665,
          17.866666666666667,
          18.133333333333333,
          18.666666666666668,
          19.233333333333334,
          19.266666666666666,
          19.333333333333332,
          19.4,
          19.666666666666668,
          19.966666666666665,
          20.4,
          20.566666666666666,
          20.6,
          21.366666666666667,
          21.4,
          21.633333333333333,
          21.7,
          22.466666666666665,
          22.666666666666668,
          23.033333333333335,
          25,
          25.766666666666666,
          26.6,
          27.333333333333332,
          27.733333333333334,
          29.1,
          29.766666666666666,
          30.066666666666666,
          30.2,
          30.7,
          31.366666666666667,
          33.233333333333334,
          35.46666666666667,
          36.333333333333336,
          39.13333333333333,
          39.36666666666667,
          45,
          45.666666666666664,
          47.63333333333333,
          48.5,
          50.733333333333334,
          50.96666666666667,
          51.266666666666666,
          53.46666666666667,
          54.03333333333333,
          65.7,
          66.93333333333334,
          66.96666666666667,
          67.46666666666667,
          68.13333333333334,
          68.3,
          71.3,
          77.66666666666667,
          88.03333333333333,
          90.1,
          96.2,
          106.1,
          110.46666666666667
         ],
         "xaxis": "x",
         "y": [
          1,
          1,
          1,
          0.9912280701754387,
          0.9912280701754387,
          0.9912280701754387,
          0.9912280701754387,
          0.9822169059011159,
          0.9822169059011159,
          0.9822169059011159,
          0.9730373086497037,
          0.9730373086497037,
          0.9637702866625638,
          0.9544132935881695,
          0.9450563005137763,
          0.9356993074393827,
          0.9263423143649884,
          0.916985321290595,
          0.9076283282162008,
          0.9076283282162008,
          0.8981738664639488,
          0.8981738664639488,
          0.8981738664639488,
          0.888411107045862,
          0.888411107045862,
          0.888411107045862,
          0.888411107045862,
          0.888411107045862,
          0.888411107045862,
          0.888411107045862,
          0.888411107045862,
          0.888411107045862,
          0.888411107045862,
          0.888411107045862,
          0.8771653968300915,
          0.8771653968300915,
          0.8771653968300915,
          0.8771653968300915,
          0.8653118103864411,
          0.8653118103864411,
          0.8653118103864411,
          0.8653118103864411,
          0.8653118103864411,
          0.8653118103864411,
          0.8653118103864411,
          0.8523967087388823,
          0.8523967087388823,
          0.8523967087388823,
          0.8523967087388823,
          0.8523967087388823,
          0.8523967087388823,
          0.8523967087388823,
          0.8523967087388823,
          0.8523967087388823,
          0.8230037187823697,
          0.8230037187823697,
          0.8080400148045083,
          0.8080400148045083,
          0.8080400148045083,
          0.8080400148045083,
          0.8080400148045083,
          0.7915494022574778,
          0.7750587897104467,
          0.7585681771634161,
          0.7585681771634161,
          0.7585681771634161,
          0.7585681771634161,
          0.7585681771634161,
          0.7405070300880967,
          0.7224458830127771,
          0.7043847359374577,
          0.7043847359374577,
          0.7043847359374577,
          0.7043847359374577,
          0.7043847359374577,
          0.7043847359374577,
          0.7043847359374577,
          0.7043847359374577,
          0.7043847359374577,
          0.7043847359374577,
          0.7043847359374577,
          0.7043847359374577,
          0.6792281382254057,
          0.6792281382254057,
          0.6531039790628899,
          0.6531039790628899,
          0.6531039790628899,
          0.6531039790628899,
          0.6531039790628899,
          0.6531039790628899,
          0.6531039790628899,
          0.6531039790628899,
          0.6531039790628899,
          0.6531039790628899,
          0.6531039790628899,
          0.6531039790628899,
          0.6531039790628899,
          0.6028652114426676,
          0.6028652114426676,
          0.6028652114426676,
          0.6028652114426676,
          0.6028652114426676,
          0.6028652114426676,
          0.6028652114426676,
          0.6028652114426676,
          0.48229216915413414,
          0.48229216915413414,
          0.48229216915413414,
          0.24114608457706704,
          0.24114608457706704
         ],
         "yaxis": "y"
        },
        {
         "hovertemplate": "disease=2.0<br>timeline=%{x}<br>chance=%{y}<extra></extra>",
         "legendgroup": "2.0",
         "line": {
          "color": "#AB63FA",
          "dash": "solid",
          "shape": "hv"
         },
         "marker": {
          "symbol": "circle"
         },
         "mode": "lines+markers",
         "name": "2.0",
         "orientation": "v",
         "showlegend": true,
         "type": "scatter",
         "x": [
          0,
          0.6666666666666666,
          1.8333333333333333,
          2.066666666666667,
          2.1333333333333333,
          2.933333333333333,
          2.966666666666667,
          3.1666666666666665,
          3.3,
          4.266666666666667,
          5.133333333333334,
          5.6,
          6.666666666666667,
          7.1,
          7.333333333333333,
          8.266666666666667,
          8.366666666666667,
          8.433333333333334,
          8.633333333333333,
          8.7,
          9.066666666666666,
          9.133333333333333,
          9.266666666666667,
          11.466666666666667,
          11.866666666666667,
          12.333333333333334,
          12.4,
          12.733333333333333,
          13.1,
          13.333333333333334,
          13.766666666666667,
          13.833333333333334,
          14.266666666666667,
          14.566666666666666,
          15.166666666666666,
          15.333333333333334,
          15.533333333333333,
          15.8,
          16.133333333333333,
          16.366666666666667,
          16.5,
          17,
          18,
          18.733333333333334,
          20.5,
          20.766666666666666,
          21,
          22.833333333333332,
          25.266666666666666,
          26.3,
          28.366666666666667,
          29.566666666666666,
          29.9,
          30.133333333333333,
          33.46666666666667,
          36.93333333333333,
          37.56666666666667,
          42.333333333333336,
          44.2,
          48.666666666666664,
          51.86666666666667,
          60.2,
          61,
          62.3,
          62.8,
          70.3,
          76.43333333333334,
          87.5,
          88.53333333333333,
          127.23333333333333,
          168.03333333333333
         ],
         "xaxis": "x",
         "y": [
          1,
          0.9863013698630139,
          0.9863013698630139,
          0.9724098012733943,
          0.9724098012733943,
          0.9583169056027654,
          0.9583169056027654,
          0.9583169056027654,
          0.943796952487572,
          0.9292769993723785,
          0.9147570462571853,
          0.9002370931419921,
          0.8857171400267987,
          0.871197186911605,
          0.8566772337964119,
          0.8421572806812181,
          0.827637327566025,
          0.8128580895737745,
          0.7980788515815239,
          0.7832996135892735,
          0.768520375597023,
          0.7537411376047725,
          0.7389618996125219,
          0.7241826616202715,
          0.7094034236280213,
          0.6946241856357706,
          0.6946241856357706,
          0.6946241856357706,
          0.6791880926216424,
          0.6637519996075142,
          0.6328798135792578,
          0.6328798135792578,
          0.6328798135792578,
          0.6166521260515846,
          0.6004244385239113,
          0.6004244385239113,
          0.6004244385239113,
          0.5832694545660855,
          0.5832694545660855,
          0.5832694545660855,
          0.5650422841108953,
          0.528587943200515,
          0.528587943200515,
          0.528587943200515,
          0.5090106119708663,
          0.4894332807412175,
          0.46985594951156895,
          0.4502786182819202,
          0.4502786182819202,
          0.4502786182819202,
          0.4502786182819202,
          0.4502786182819202,
          0.4502786182819202,
          0.42526313948848027,
          0.4002476606950402,
          0.4002476606950402,
          0.4002476606950402,
          0.371658542073966,
          0.371658542073966,
          0.371658542073966,
          0.33787140188542364,
          0.33787140188542364,
          0.33787140188542364,
          0.2956374766497457,
          0.2956374766497457,
          0.2956374766497457,
          0.2956374766497457,
          0.2956374766497457,
          0.2956374766497457,
          0.2956374766497457,
          0.2956374766497457
         ],
         "yaxis": "y"
        },
        {
         "hovertemplate": "disease=4.0<br>timeline=%{x}<br>chance=%{y}<extra></extra>",
         "legendgroup": "4.0",
         "line": {
          "color": "#FFA15A",
          "dash": "solid",
          "shape": "hv"
         },
         "marker": {
          "symbol": "circle"
         },
         "mode": "lines+markers",
         "name": "4.0",
         "orientation": "v",
         "showlegend": true,
         "type": "scatter",
         "x": [
          0,
          1.2333333333333334,
          1.9666666666666666,
          2.7333333333333334,
          3.066666666666667,
          3.2666666666666666,
          3.933333333333333,
          5.766666666666667,
          7.033333333333333,
          7.733333333333333,
          7.9,
          9.066666666666666,
          9.2,
          10.933333333333334,
          12.333333333333334,
          12.866666666666667,
          13.6,
          13.933333333333334,
          15.166666666666666,
          16,
          16.9,
          17.966666666666665,
          19.066666666666666,
          19.3,
          19.6,
          19.666666666666668,
          20.333333333333332,
          21.1,
          21.2,
          21.333333333333332,
          23.533333333333335,
          23.966666666666665,
          28,
          28.8,
          29.966666666666665,
          32.46666666666667,
          33.5,
          34.93333333333333,
          52.733333333333334,
          54.63333333333333,
          54.96666666666667,
          56.93333333333333,
          58.7,
          59.733333333333334,
          60.13333333333333,
          64.96666666666667,
          67.56666666666666,
          79.33333333333333,
          165.56666666666666
         ],
         "xaxis": "x",
         "y": [
          1,
          1,
          1,
          1,
          0.9782608695652172,
          0.9565217391304346,
          0.9347826086956521,
          0.9130434782608696,
          0.891304347826087,
          0.8695652173913042,
          0.8478260869565216,
          0.8043478260869564,
          0.8043478260869564,
          0.7820048309178742,
          0.7596618357487923,
          0.7373188405797101,
          0.714975845410628,
          0.6926328502415459,
          0.6926328502415459,
          0.6926328502415459,
          0.6926328502415459,
          0.6926328502415459,
          0.6926328502415459,
          0.6659931252322554,
          0.6659931252322554,
          0.6382434116809114,
          0.6382434116809114,
          0.6382434116809114,
          0.6382434116809114,
          0.6382434116809114,
          0.6046516531713897,
          0.5710598946618682,
          0.5710598946618682,
          0.5710598946618682,
          0.5710598946618682,
          0.5302699021860207,
          0.4894799097101729,
          0.4894799097101729,
          0.4894799097101729,
          0.4894799097101729,
          0.4894799097101729,
          0.4894799097101729,
          0.4894799097101729,
          0.4894799097101729,
          0.39158392776813833,
          0.39158392776813833,
          0.39158392776813833,
          0.39158392776813833,
          0.39158392776813833
         ],
         "yaxis": "y"
        },
        {
         "hovertemplate": "disease=3.0<br>timeline=%{x}<br>chance=%{y}<extra></extra>",
         "legendgroup": "3.0",
         "line": {
          "color": "#00CC96",
          "dash": "solid",
          "shape": "hv"
         },
         "marker": {
          "symbol": "circle"
         },
         "mode": "lines+markers",
         "name": "3.0",
         "orientation": "v",
         "showlegend": true,
         "type": "scatter",
         "x": [
          0,
          1.1666666666666667,
          2.2666666666666666,
          2.3,
          3,
          3.5,
          4.066666666666666,
          5.133333333333334,
          8.333333333333334,
          9.766666666666667,
          10.1,
          10.366666666666667,
          10.7,
          11,
          11.233333333333333,
          11.966666666666667,
          12.066666666666666,
          12.4,
          12.566666666666666,
          12.8,
          13.533333333333333,
          14.433333333333334,
          15.133333333333333,
          16.033333333333335,
          16.2,
          16.5,
          16.933333333333334,
          17.866666666666667,
          17.966666666666665,
          18.833333333333332,
          19.066666666666666,
          19.166666666666668,
          21.266666666666666,
          23.733333333333334,
          25.366666666666667,
          26.1,
          27.433333333333334,
          27.833333333333332,
          28.633333333333333,
          33.6,
          34.53333333333333,
          35.9,
          39.53333333333333,
          45.56666666666667,
          47.333333333333336,
          47.43333333333333,
          55.666666666666664,
          67.33333333333333,
          80.76666666666667,
          93,
          94.26666666666667,
          144.76666666666668,
          168.33333333333334
         ],
         "xaxis": "x",
         "y": [
          1,
          1,
          1,
          0.98,
          0.9600000000000003,
          0.9600000000000003,
          0.9395744680851069,
          0.9191489361702131,
          0.8987234042553195,
          0.8987234042553195,
          0.8778228599703122,
          0.8569223156853047,
          0.8360217714002971,
          0.8360217714002971,
          0.8360217714002971,
          0.8360217714002971,
          0.8134265883894783,
          0.8134265883894783,
          0.8134265883894783,
          0.8134265883894783,
          0.7887772978322214,
          0.7887772978322214,
          0.7633328688698917,
          0.7633328688698917,
          0.7370110458054125,
          0.7370110458054125,
          0.7097143404052121,
          0.7097143404052121,
          0.6813257667890038,
          0.6529371931727952,
          0.6529371931727952,
          0.6232582298467589,
          0.6232582298467589,
          0.592095318354421,
          0.592095318354421,
          0.592095318354421,
          0.5572661819806314,
          0.522437045606842,
          0.4876079092330524,
          0.45277877285926305,
          0.4179496364854736,
          0.3831205001116842,
          0.3831205001116842,
          0.34480845010051575,
          0.3064964000893472,
          0.26818435007817887,
          0.22987230006701045,
          0.19156025005584204,
          0.19156025005584204,
          0.19156025005584204,
          0.12770683337056135,
          0.12770683337056135,
          0.12770683337056135
         ],
         "yaxis": "y"
        },
        {
         "hovertemplate": "disease=Med IFNG<br>timeline=%{x}<br>chance=%{y}<extra></extra>",
         "legendgroup": "Med IFNG",
         "line": {
          "color": "rgb(115, 175, 72)",
          "dash": "solid",
          "shape": "hv"
         },
         "marker": {
          "symbol": "circle"
         },
         "mode": "lines+markers",
         "name": "Med IFNG",
         "orientation": "v",
         "showlegend": true,
         "type": "scatter",
         "x": [
          0,
          1.8333333333333333,
          5.6,
          8.433333333333334,
          8.7,
          9.266666666666667,
          10.1,
          10.7,
          12.4,
          13.766666666666667,
          13.933333333333334,
          14.266666666666667,
          14.566666666666666,
          15.8,
          16.133333333333333,
          16.5,
          16.933333333333334,
          21,
          21.1,
          22.833333333333332,
          26.3,
          28.366666666666667,
          30.133333333333333,
          33.46666666666667,
          36.93333333333333,
          42.333333333333336,
          44.2,
          48.666666666666664,
          51.4,
          62.3,
          70.3,
          76.43333333333334,
          127.23333333333333,
          168.03333333333333
         ],
         "xaxis": "x",
         "y": [
          1,
          1,
          0.96875,
          0.9375000000000001,
          0.9062500000000001,
          0.8749999999999999,
          0.84375,
          0.8125000000000001,
          0.8125000000000001,
          0.7800000000000004,
          0.7475000000000002,
          0.7475000000000002,
          0.7135227272727274,
          0.6795454545454545,
          0.6795454545454545,
          0.64377990430622,
          0.6080143540669858,
          0.5722488038277512,
          0.5722488038277512,
          0.5340988835725676,
          0.5340988835725676,
          0.5340988835725676,
          0.48959064327485374,
          0.4450824029771398,
          0.4450824029771398,
          0.39562880264634637,
          0.39562880264634637,
          0.39562880264634637,
          0.39562880264634637,
          0.3165030421170771,
          0.3165030421170771,
          0.3165030421170771,
          0.3165030421170771,
          0.3165030421170771
         ],
         "yaxis": "y"
        }
       ],
       "layout": {
        "height": 700,
        "legend": {
         "title": {
          "text": "disease"
         },
         "tracegroupgap": 0
        },
        "margin": {
         "t": 60
        },
        "template": {
         "data": {
          "bar": [
           {
            "error_x": {
             "color": "rgb(51,51,51)"
            },
            "error_y": {
             "color": "rgb(51,51,51)"
            },
            "marker": {
             "line": {
              "color": "rgb(237,237,237)",
              "width": 0.5
             },
             "pattern": {
              "fillmode": "overlay",
              "size": 10,
              "solidity": 0.2
             }
            },
            "type": "bar"
           }
          ],
          "barpolar": [
           {
            "marker": {
             "line": {
              "color": "rgb(237,237,237)",
              "width": 0.5
             },
             "pattern": {
              "fillmode": "overlay",
              "size": 10,
              "solidity": 0.2
             }
            },
            "type": "barpolar"
           }
          ],
          "carpet": [
           {
            "aaxis": {
             "endlinecolor": "rgb(51,51,51)",
             "gridcolor": "white",
             "linecolor": "white",
             "minorgridcolor": "white",
             "startlinecolor": "rgb(51,51,51)"
            },
            "baxis": {
             "endlinecolor": "rgb(51,51,51)",
             "gridcolor": "white",
             "linecolor": "white",
             "minorgridcolor": "white",
             "startlinecolor": "rgb(51,51,51)"
            },
            "type": "carpet"
           }
          ],
          "choropleth": [
           {
            "colorbar": {
             "outlinewidth": 0,
             "tickcolor": "rgb(237,237,237)",
             "ticklen": 6,
             "ticks": "inside"
            },
            "type": "choropleth"
           }
          ],
          "contour": [
           {
            "colorbar": {
             "outlinewidth": 0,
             "tickcolor": "rgb(237,237,237)",
             "ticklen": 6,
             "ticks": "inside"
            },
            "colorscale": [
             [
              0,
              "rgb(20,44,66)"
             ],
             [
              1,
              "rgb(90,179,244)"
             ]
            ],
            "type": "contour"
           }
          ],
          "contourcarpet": [
           {
            "colorbar": {
             "outlinewidth": 0,
             "tickcolor": "rgb(237,237,237)",
             "ticklen": 6,
             "ticks": "inside"
            },
            "type": "contourcarpet"
           }
          ],
          "heatmap": [
           {
            "colorbar": {
             "outlinewidth": 0,
             "tickcolor": "rgb(237,237,237)",
             "ticklen": 6,
             "ticks": "inside"
            },
            "colorscale": [
             [
              0,
              "rgb(20,44,66)"
             ],
             [
              1,
              "rgb(90,179,244)"
             ]
            ],
            "type": "heatmap"
           }
          ],
          "heatmapgl": [
           {
            "colorbar": {
             "outlinewidth": 0,
             "tickcolor": "rgb(237,237,237)",
             "ticklen": 6,
             "ticks": "inside"
            },
            "colorscale": [
             [
              0,
              "rgb(20,44,66)"
             ],
             [
              1,
              "rgb(90,179,244)"
             ]
            ],
            "type": "heatmapgl"
           }
          ],
          "histogram": [
           {
            "marker": {
             "pattern": {
              "fillmode": "overlay",
              "size": 10,
              "solidity": 0.2
             }
            },
            "type": "histogram"
           }
          ],
          "histogram2d": [
           {
            "colorbar": {
             "outlinewidth": 0,
             "tickcolor": "rgb(237,237,237)",
             "ticklen": 6,
             "ticks": "inside"
            },
            "colorscale": [
             [
              0,
              "rgb(20,44,66)"
             ],
             [
              1,
              "rgb(90,179,244)"
             ]
            ],
            "type": "histogram2d"
           }
          ],
          "histogram2dcontour": [
           {
            "colorbar": {
             "outlinewidth": 0,
             "tickcolor": "rgb(237,237,237)",
             "ticklen": 6,
             "ticks": "inside"
            },
            "colorscale": [
             [
              0,
              "rgb(20,44,66)"
             ],
             [
              1,
              "rgb(90,179,244)"
             ]
            ],
            "type": "histogram2dcontour"
           }
          ],
          "mesh3d": [
           {
            "colorbar": {
             "outlinewidth": 0,
             "tickcolor": "rgb(237,237,237)",
             "ticklen": 6,
             "ticks": "inside"
            },
            "type": "mesh3d"
           }
          ],
          "parcoords": [
           {
            "line": {
             "colorbar": {
              "outlinewidth": 0,
              "tickcolor": "rgb(237,237,237)",
              "ticklen": 6,
              "ticks": "inside"
             }
            },
            "type": "parcoords"
           }
          ],
          "pie": [
           {
            "automargin": true,
            "type": "pie"
           }
          ],
          "scatter": [
           {
            "fillpattern": {
             "fillmode": "overlay",
             "size": 10,
             "solidity": 0.2
            },
            "type": "scatter"
           }
          ],
          "scatter3d": [
           {
            "line": {
             "colorbar": {
              "outlinewidth": 0,
              "tickcolor": "rgb(237,237,237)",
              "ticklen": 6,
              "ticks": "inside"
             }
            },
            "marker": {
             "colorbar": {
              "outlinewidth": 0,
              "tickcolor": "rgb(237,237,237)",
              "ticklen": 6,
              "ticks": "inside"
             }
            },
            "type": "scatter3d"
           }
          ],
          "scattercarpet": [
           {
            "marker": {
             "colorbar": {
              "outlinewidth": 0,
              "tickcolor": "rgb(237,237,237)",
              "ticklen": 6,
              "ticks": "inside"
             }
            },
            "type": "scattercarpet"
           }
          ],
          "scattergeo": [
           {
            "marker": {
             "colorbar": {
              "outlinewidth": 0,
              "tickcolor": "rgb(237,237,237)",
              "ticklen": 6,
              "ticks": "inside"
             }
            },
            "type": "scattergeo"
           }
          ],
          "scattergl": [
           {
            "marker": {
             "colorbar": {
              "outlinewidth": 0,
              "tickcolor": "rgb(237,237,237)",
              "ticklen": 6,
              "ticks": "inside"
             }
            },
            "type": "scattergl"
           }
          ],
          "scattermapbox": [
           {
            "marker": {
             "colorbar": {
              "outlinewidth": 0,
              "tickcolor": "rgb(237,237,237)",
              "ticklen": 6,
              "ticks": "inside"
             }
            },
            "type": "scattermapbox"
           }
          ],
          "scatterpolar": [
           {
            "marker": {
             "colorbar": {
              "outlinewidth": 0,
              "tickcolor": "rgb(237,237,237)",
              "ticklen": 6,
              "ticks": "inside"
             }
            },
            "type": "scatterpolar"
           }
          ],
          "scatterpolargl": [
           {
            "marker": {
             "colorbar": {
              "outlinewidth": 0,
              "tickcolor": "rgb(237,237,237)",
              "ticklen": 6,
              "ticks": "inside"
             }
            },
            "type": "scatterpolargl"
           }
          ],
          "scatterternary": [
           {
            "marker": {
             "colorbar": {
              "outlinewidth": 0,
              "tickcolor": "rgb(237,237,237)",
              "ticklen": 6,
              "ticks": "inside"
             }
            },
            "type": "scatterternary"
           }
          ],
          "surface": [
           {
            "colorbar": {
             "outlinewidth": 0,
             "tickcolor": "rgb(237,237,237)",
             "ticklen": 6,
             "ticks": "inside"
            },
            "colorscale": [
             [
              0,
              "rgb(20,44,66)"
             ],
             [
              1,
              "rgb(90,179,244)"
             ]
            ],
            "type": "surface"
           }
          ],
          "table": [
           {
            "cells": {
             "fill": {
              "color": "rgb(237,237,237)"
             },
             "line": {
              "color": "white"
             }
            },
            "header": {
             "fill": {
              "color": "rgb(217,217,217)"
             },
             "line": {
              "color": "white"
             }
            },
            "type": "table"
           }
          ]
         },
         "layout": {
          "annotationdefaults": {
           "arrowhead": 0,
           "arrowwidth": 1
          },
          "autotypenumbers": "strict",
          "coloraxis": {
           "colorbar": {
            "outlinewidth": 0,
            "tickcolor": "rgb(237,237,237)",
            "ticklen": 6,
            "ticks": "inside"
           }
          },
          "colorscale": {
           "sequential": [
            [
             0,
             "rgb(20,44,66)"
            ],
            [
             1,
             "rgb(90,179,244)"
            ]
           ],
           "sequentialminus": [
            [
             0,
             "rgb(20,44,66)"
            ],
            [
             1,
             "rgb(90,179,244)"
            ]
           ]
          },
          "colorway": [
           "#F8766D",
           "#A3A500",
           "#00BF7D",
           "#00B0F6",
           "#E76BF3"
          ],
          "font": {
           "color": "rgb(51,51,51)"
          },
          "geo": {
           "bgcolor": "white",
           "lakecolor": "white",
           "landcolor": "rgb(237,237,237)",
           "showlakes": true,
           "showland": true,
           "subunitcolor": "white"
          },
          "hoverlabel": {
           "align": "left"
          },
          "hovermode": "closest",
          "paper_bgcolor": "white",
          "plot_bgcolor": "rgb(237,237,237)",
          "polar": {
           "angularaxis": {
            "gridcolor": "white",
            "linecolor": "white",
            "showgrid": true,
            "tickcolor": "rgb(51,51,51)",
            "ticks": "outside"
           },
           "bgcolor": "rgb(237,237,237)",
           "radialaxis": {
            "gridcolor": "white",
            "linecolor": "white",
            "showgrid": true,
            "tickcolor": "rgb(51,51,51)",
            "ticks": "outside"
           }
          },
          "scene": {
           "xaxis": {
            "backgroundcolor": "rgb(237,237,237)",
            "gridcolor": "white",
            "gridwidth": 2,
            "linecolor": "white",
            "showbackground": true,
            "showgrid": true,
            "tickcolor": "rgb(51,51,51)",
            "ticks": "outside",
            "zerolinecolor": "white"
           },
           "yaxis": {
            "backgroundcolor": "rgb(237,237,237)",
            "gridcolor": "white",
            "gridwidth": 2,
            "linecolor": "white",
            "showbackground": true,
            "showgrid": true,
            "tickcolor": "rgb(51,51,51)",
            "ticks": "outside",
            "zerolinecolor": "white"
           },
           "zaxis": {
            "backgroundcolor": "rgb(237,237,237)",
            "gridcolor": "white",
            "gridwidth": 2,
            "linecolor": "white",
            "showbackground": true,
            "showgrid": true,
            "tickcolor": "rgb(51,51,51)",
            "ticks": "outside",
            "zerolinecolor": "white"
           }
          },
          "shapedefaults": {
           "fillcolor": "black",
           "line": {
            "width": 0
           },
           "opacity": 0.3
          },
          "ternary": {
           "aaxis": {
            "gridcolor": "white",
            "linecolor": "white",
            "showgrid": true,
            "tickcolor": "rgb(51,51,51)",
            "ticks": "outside"
           },
           "baxis": {
            "gridcolor": "white",
            "linecolor": "white",
            "showgrid": true,
            "tickcolor": "rgb(51,51,51)",
            "ticks": "outside"
           },
           "bgcolor": "rgb(237,237,237)",
           "caxis": {
            "gridcolor": "white",
            "linecolor": "white",
            "showgrid": true,
            "tickcolor": "rgb(51,51,51)",
            "ticks": "outside"
           }
          },
          "xaxis": {
           "automargin": true,
           "gridcolor": "white",
           "linecolor": "white",
           "showgrid": true,
           "tickcolor": "rgb(51,51,51)",
           "ticks": "outside",
           "title": {
            "standoff": 15
           },
           "zerolinecolor": "white"
          },
          "yaxis": {
           "automargin": true,
           "gridcolor": "white",
           "linecolor": "white",
           "showgrid": true,
           "tickcolor": "rgb(51,51,51)",
           "ticks": "outside",
           "title": {
            "standoff": 15
           },
           "zerolinecolor": "white"
          }
         }
        },
        "title": {
         "text": "Survival analysis VU + in-situ"
        },
        "xaxis": {
         "anchor": "y",
         "domain": [
          0,
          1
         ],
         "range": [
          -1,
          60
         ],
         "title": {
          "text": "Time (months)"
         }
        },
        "yaxis": {
         "anchor": "x",
         "domain": [
          0,
          1
         ],
         "title": {
          "text": "Survival rate"
         }
        }
       }
      },
      "text/html": [
       "<div>                            <div id=\"13918238-f0af-4756-91db-6c5dcf621ce8\" class=\"plotly-graph-div\" style=\"height:700px; width:100%;\"></div>            <script type=\"text/javascript\">                require([\"plotly\"], function(Plotly) {                    window.PLOTLYENV=window.PLOTLYENV || {};                                    if (document.getElementById(\"13918238-f0af-4756-91db-6c5dcf621ce8\")) {                    Plotly.newPlot(                        \"13918238-f0af-4756-91db-6c5dcf621ce8\",                        [{\"hovertemplate\":\"disease=High IFNG\\u003cbr\\u003etimeline=%{x}\\u003cbr\\u003echance=%{y}\\u003cextra\\u003e\\u003c\\u002fextra\\u003e\",\"legendgroup\":\"High IFNG\",\"line\":{\"color\":\"rgb(56, 166, 165)\",\"dash\":\"solid\",\"shape\":\"hv\"},\"marker\":{\"symbol\":\"circle\"},\"mode\":\"lines+markers\",\"name\":\"High IFNG\",\"orientation\":\"v\",\"showlegend\":true,\"x\":[0.0,1.2333333333333334,2.2666666666666666,2.3,2.7333333333333334,3.066666666666667,3.2666666666666666,3.933333333333333,4.066666666666666,5.766666666666667,7.733333333333333,8.333333333333334,9.066666666666666,9.2,10.366666666666667,10.933333333333334,11.0,11.233333333333333,12.066666666666666,12.333333333333334,12.8,12.866666666666667,13.533333333333333,13.6,15.533333333333333,16.0,16.5,16.9,17.0,17.966666666666665,18.0,19.066666666666666,19.3,19.6,20.333333333333332,21.2,21.333333333333332,23.533333333333335,23.966666666666665,26.1,27.433333333333334,28.0,28.8,29.9,29.966666666666665,32.46666666666667,33.5,34.93333333333333,39.53333333333333,52.733333333333334,54.63333333333333,54.96666666666667,56.93333333333333,58.7,59.733333333333334,62.8,64.96666666666667,67.56666666666666,79.33333333333333,80.76666666666667,94.26666666666667,98.8,144.76666666666668,165.56666666666666,168.33333333333334],\"xaxis\":\"x\",\"y\":[1.0,1.0,1.0,0.9841269841269844,0.9841269841269844,0.9679937548790006,0.9518605256310178,0.935727296383034,0.919594067135051,0.9034608378870679,0.8873276086390843,0.8711943793911009,0.8550611501431176,0.8550611501431176,0.8386176664865189,0.8221741828299205,0.8221741828299205,0.8221741828299205,0.8050455540209636,0.7879169252120071,0.7879169252120071,0.7704076602072958,0.7528983952025846,0.7353891301978734,0.7353891301978734,0.7353891301978734,0.7353891301978734,0.7353891301978734,0.6966844391348275,0.6966844391348275,0.6966844391348275,0.6966844391348275,0.6755727894640751,0.6755727894640751,0.6755727894640751,0.6755727894640751,0.6755727894640751,0.6514451898403583,0.6273175902166414,0.6273175902166414,0.6022248866079758,0.6022248866079758,0.6022248866079758,0.6022248866079758,0.6022248866079758,0.572113642277577,0.5420023979471782,0.5420023979471782,0.5420023979471782,0.5420023979471782,0.5420023979471782,0.5420023979471782,0.5420023979471782,0.5420023979471782,0.5420023979471782,0.5420023979471782,0.5420023979471782,0.5420023979471782,0.5420023979471782,0.5420023979471782,0.43360191835774264,0.43360191835774264,0.43360191835774264,0.43360191835774264,0.43360191835774264],\"yaxis\":\"y\",\"type\":\"scatter\"},{\"hovertemplate\":\"disease=1.0\\u003cbr\\u003etimeline=%{x}\\u003cbr\\u003echance=%{y}\\u003cextra\\u003e\\u003c\\u002fextra\\u003e\",\"legendgroup\":\"1.0\",\"line\":{\"color\":\"#EF553B\",\"dash\":\"solid\",\"shape\":\"hv\"},\"marker\":{\"symbol\":\"circle\"},\"mode\":\"lines+markers\",\"name\":\"1.0\",\"orientation\":\"v\",\"showlegend\":true,\"x\":[0.0,0.5,0.5666666666666667,0.6333333333333333,0.6666666666666666,1.8666666666666667,3.533333333333333,3.966666666666667,4.733333333333333,5.266666666666667,5.433333333333334,6.666666666666667,7.2,7.733333333333333,8.6,10.8,11.066666666666666,11.5,12.133333333333333,12.2,12.3,12.533333333333333,12.8,13.266666666666667,13.666666666666666,13.866666666666667,14.166666666666666,14.266666666666667,15.233333333333333,15.533333333333333,15.566666666666666,15.8,15.833333333333334,16.5,16.766666666666666,17.066666666666666,17.466666666666665,17.866666666666667,18.133333333333333,18.233333333333334,18.666666666666668,19.233333333333334,19.266666666666666,19.333333333333332,19.4,19.666666666666668,19.966666666666665,20.4,20.566666666666666,20.6,21.366666666666667,21.4,21.633333333333333,21.7,22.466666666666665,23.033333333333335,25.0,26.5,27.3,27.733333333333334,29.1,29.766666666666666,30.066666666666666,30.7,31.366666666666667,31.633333333333333,35.46666666666667,36.333333333333336,37.0,37.166666666666664,39.13333333333333,44.93333333333333,45.666666666666664,47.63333333333333,48.46666666666667,48.5,50.733333333333334,50.96666666666667,64.9,65.06666666666666,65.7,66.93333333333334,67.33333333333333,68.13333333333334,68.3,71.3,88.03333333333333,90.1,96.2,106.1,114.0],\"xaxis\":\"x\",\"y\":[1.0,1.0,1.0,0.9888888888888887,0.9888888888888887,0.9776515151515146,0.9664141414141405,0.9664141414141405,0.9550445632798561,0.9550445632798561,0.9435380022764842,0.9320314412731125,0.9205248802697401,0.9090183192663687,0.8975117582629969,0.8860051972596255,0.8744986362562535,0.8744986362562535,0.862838654439504,0.862838654439504,0.862838654439504,0.862838654439504,0.862838654439504,0.862838654439504,0.862838654439504,0.862838654439504,0.862838654439504,0.862838654439504,0.862838654439504,0.862838654439504,0.8354469511239644,0.8354469511239644,0.8354469511239644,0.8354469511239644,0.8354469511239644,0.8354469511239644,0.8354469511239644,0.8354469511239644,0.8199757112883355,0.8045044714527065,0.8045044714527065,0.7887298739732416,0.7887298739732416,0.7887298739732416,0.7887298739732416,0.7887298739732416,0.7712025434405029,0.7536752129077643,0.7361478823750257,0.7361478823750257,0.7361478823750257,0.7361478823750257,0.7361478823750257,0.716775569680946,0.6974032569868664,0.6974032569868664,0.6974032569868664,0.6768913964872526,0.6563795359876389,0.6563795359876389,0.6563795359876389,0.6563795359876389,0.6563795359876389,0.6563795359876389,0.6320691828029116,0.6077588296181841,0.5834484764334569,0.5834484764334569,0.5834484764334569,0.5834484764334569,0.5834484764334569,0.5542760526117839,0.5542760526117839,0.5542760526117839,0.5542760526117839,0.5542760526117839,0.5542760526117839,0.5542760526117839,0.5542760526117839,0.5542760526117839,0.5038873205561673,0.5038873205561673,0.5038873205561673,0.5038873205561673,0.5038873205561673,0.5038873205561673,0.40310985644493386,0.40310985644493386,0.40310985644493386,0.2015549282224669,0.2015549282224669],\"yaxis\":\"y\",\"type\":\"scatter\"},{\"hovertemplate\":\"disease=5.0\\u003cbr\\u003etimeline=%{x}\\u003cbr\\u003echance=%{y}\\u003cextra\\u003e\\u003c\\u002fextra\\u003e\",\"legendgroup\":\"5.0\",\"line\":{\"color\":\"#19D3F3\",\"dash\":\"solid\",\"shape\":\"hv\"},\"marker\":{\"symbol\":\"circle\"},\"mode\":\"lines+markers\",\"name\":\"5.0\",\"orientation\":\"v\",\"showlegend\":true,\"x\":[0.0,0.43333333333333335,0.9333333333333333,1.8666666666666667,2.2333333333333334,2.2666666666666666,3.6666666666666665,4.8,5.433333333333334,5.6,8.733333333333333,11.1,11.333333333333334,11.466666666666667,11.5,12.133333333333333,12.166666666666666,12.266666666666667,12.333333333333334,12.433333333333334,12.766666666666667,12.833333333333334,13.266666666666667,13.3,13.833333333333334,14.1,16.933333333333334,18.133333333333333,23.0,26.6,33.233333333333334,39.36666666666667,45.0,51.266666666666666,53.46666666666667,54.03333333333333,77.06666666666666,77.66666666666667,98.46666666666667],\"xaxis\":\"x\",\"y\":[1.0,1.0,1.0,0.9722222222222221,0.9722222222222221,0.9436274509803919,0.9436274509803919,0.9141390931372547,0.9141390931372547,0.8836677900326796,0.8531964869281042,0.8531964869281042,0.8215966170418781,0.7899967471556518,0.7899967471556518,0.7899967471556518,0.7899967471556518,0.7899967471556518,0.7899967471556518,0.7899967471556518,0.7899967471556518,0.7461080389803381,0.7461080389803381,0.7461080389803381,0.7461080389803381,0.7461080389803381,0.7461080389803381,0.68393236906531,0.6217566991502819,0.6217566991502819,0.6217566991502819,0.6217566991502819,0.6217566991502819,0.6217566991502819,0.6217566991502819,0.6217566991502819,0.6217566991502819,0.6217566991502819,0.0],\"yaxis\":\"y\",\"type\":\"scatter\"},{\"hovertemplate\":\"disease=Lum Inf\\u002fNS\\u003cbr\\u003etimeline=%{x}\\u003cbr\\u003echance=%{y}\\u003cextra\\u003e\\u003c\\u002fextra\\u003e\",\"legendgroup\":\"Lum Inf\\u002fNS\",\"line\":{\"color\":\"#00BF7D\",\"dash\":\"solid\",\"shape\":\"hv\"},\"marker\":{\"symbol\":\"circle\"},\"mode\":\"lines+markers\",\"name\":\"Lum Inf\\u002fNS\",\"orientation\":\"v\",\"showlegend\":true,\"x\":[0.0,1.1666666666666667,1.5333333333333334,1.8666666666666667,1.9,2.1333333333333333,2.1666666666666665,2.533333333333333,2.8,3.1,3.3,3.5,3.9,4.3,4.733333333333333,4.866666666666666,4.966666666666667,5.133333333333334,5.6,6.066666666666666,6.233333333333333,6.3,6.366666666666666,6.866666666666666,7.2,7.466666666666667,7.666666666666667,8.2,8.466666666666667,9.766666666666667,9.8,10.8,11.966666666666667,12.4,12.933333333333334,12.966666666666667,13.133333333333333,14.1,14.433333333333334,14.466666666666667,15.1,15.133333333333333,15.166666666666666,15.333333333333334,15.566666666666666,15.9,16.033333333333335,16.166666666666668,16.2,16.4,17.066666666666666,17.666666666666668,17.866666666666667,17.966666666666665,18.066666666666666,18.2,18.233333333333334,18.333333333333332,18.833333333333332,19.1,19.366666666666667,19.766666666666666,20.066666666666666,20.1,20.766666666666666,21.6,22.166666666666668,23.0,23.2,23.333333333333332,23.733333333333334,24.366666666666667,24.466666666666665,24.633333333333333,25.366666666666667,25.933333333333334,26.633333333333333,27.066666666666666,27.1,27.733333333333334,27.833333333333332,28.066666666666666,28.633333333333333,28.8,31.633333333333333,33.43333333333333,33.6,35.9,36.46666666666667,37.166666666666664,44.93333333333333,45.56666666666667,47.333333333333336,47.43333333333333,48.46666666666667,52.03333333333333,55.666666666666664,57.13333333333333,57.266666666666666,60.13333333333333,61.5,63.733333333333334,65.06666666666666,67.33333333333333,72.56666666666666,77.06666666666666,93.0,95.6,98.46666666666667,100.36666666666666,114.0,114.4,132.7],\"xaxis\":\"x\",\"y\":[1.0,1.0,1.0,0.982608695652174,0.9739130434782604,0.9739130434782604,0.9651390520955739,0.9563650607128863,0.9563650607128863,0.9475098286692478,0.9386545966256102,0.9386545966256102,0.9386545966256102,0.9386545966256102,0.9295414452020602,0.9204282937785111,0.9113151423549617,0.9022019909314115,0.8930888395078624,0.8839756880843125,0.8839756880843125,0.8839756880843125,0.8746706808413197,0.8653656735983273,0.8560606663553344,0.8560606663553344,0.8560606663553344,0.8465488811736083,0.8370370959918828,0.8370370959918828,0.8177948639001156,0.8081737478542315,0.8081737478542315,0.8081737478542315,0.7983179704413751,0.7983179704413751,0.7983179704413751,0.7983179704413751,0.7983179704413751,0.7879502045914869,0.7775824387415987,0.7672146728917113,0.7672146728917113,0.7567048828520989,0.7567048828520989,0.7567048828520989,0.7567048828520989,0.7567048828520989,0.7455768698689794,0.7344488568858603,0.7344488568858603,0.7231496437030008,0.7118504305201416,0.7003689719633651,0.7003689719633651,0.7003689719633651,0.6884983114216129,0.6766276508798612,0.6647569903381094,0.6647569903381094,0.6647569903381094,0.6524466757022185,0.6401363610663277,0.6401363610663277,0.6275846677120859,0.6275846677120859,0.614776817350615,0.6016964595346446,0.5886161017186738,0.5886161017186738,0.5752384630432495,0.5752384630432495,0.5615423091612675,0.5478461552792852,0.5478461552792852,0.5337988179644317,0.5337988179644317,0.5337988179644317,0.5337988179644317,0.5337988179644317,0.5180988527301836,0.5180988527301836,0.5019082635823654,0.4857176744345472,0.469527085286729,0.469527085286729,0.45275826081220305,0.435989436337677,0.435989436337677,0.435989436337677,0.4178232098236071,0.3996569833095373,0.38149075679546735,0.36332453028139744,0.36332453028139744,0.36332453028139744,0.3431398341546532,0.3431398341546532,0.3216935945199874,0.3002473548853215,0.3002473548853215,0.3002473548853215,0.3002473548853215,0.27295214080483776,0.27295214080483776,0.27295214080483776,0.27295214080483776,0.27295214080483776,0.21836171264387022,0.21836171264387022,0.21836171264387022,0.21836171264387022,0.21836171264387022],\"yaxis\":\"y\",\"type\":\"scatter\"},{\"hovertemplate\":\"disease=Low IFNG\\u003cbr\\u003etimeline=%{x}\\u003cbr\\u003echance=%{y}\\u003cextra\\u003e\\u003c\\u002fextra\\u003e\",\"legendgroup\":\"Low IFNG\",\"line\":{\"color\":\"rgb(15, 133, 84)\",\"dash\":\"solid\",\"shape\":\"hv\"},\"marker\":{\"symbol\":\"circle\"},\"mode\":\"lines+markers\",\"name\":\"Low IFNG\",\"orientation\":\"v\",\"showlegend\":true,\"x\":[0.0,1.9666666666666666,2.066666666666667,2.1333333333333333,2.933333333333333,2.966666666666667,3.0,3.1666666666666665,3.533333333333333,5.133333333333334,7.1,7.333333333333333,7.9,8.266666666666667,8.366666666666667,8.633333333333333,9.066666666666666,9.133333333333333,11.466666666666667,11.866666666666667,12.333333333333334,12.733333333333333,13.1,13.333333333333334,13.766666666666667,13.833333333333334,15.166666666666666,15.566666666666666,16.366666666666667,18.233333333333334,18.733333333333334,25.266666666666666,26.5,29.566666666666666,37.56666666666667,38.766666666666666,51.86666666666667,60.2,61.0,87.5,88.53333333333333],\"xaxis\":\"x\",\"y\":[1.0,1.0,0.975,0.975,0.9493421052631579,0.9493421052631579,0.9229714912280701,0.9229714912280701,0.8958252708978325,0.8686790505675952,0.8415328302373578,0.8143866099071205,0.7872403895768832,0.7600941692466457,0.7329479489164085,0.7047576431888541,0.6765673374613002,0.6483770317337458,0.6201867260061918,0.5919964202786375,0.5638061145510833,0.5638061145510833,0.5341321085220789,0.5044581024930747,0.4747840964640702,0.4747840964640702,0.44313182336646545,0.41147955026886085,0.41147955026886085,0.37718958774645583,0.37718958774645583,0.37718958774645583,0.33527963355240503,0.33527963355240503,0.33527963355240503,0.2793996946270042,0.22351975570160337,0.22351975570160337,0.22351975570160337,0.22351975570160337,0.22351975570160337],\"yaxis\":\"y\",\"type\":\"scatter\"},{\"hovertemplate\":\"disease=0.0\\u003cbr\\u003etimeline=%{x}\\u003cbr\\u003echance=%{y}\\u003cextra\\u003e\\u003c\\u002fextra\\u003e\",\"legendgroup\":\"0.0\",\"line\":{\"color\":\"#636EFA\",\"dash\":\"solid\",\"shape\":\"hv\"},\"marker\":{\"symbol\":\"circle\"},\"mode\":\"lines+markers\",\"name\":\"0.0\",\"orientation\":\"v\",\"showlegend\":true,\"x\":[0.0,1.5333333333333334,1.9,2.1333333333333333,2.1666666666666665,2.533333333333333,2.8,3.1,3.9,4.3,4.366666666666666,4.866666666666666,4.966666666666667,6.066666666666666,6.233333333333333,6.3,6.366666666666666,6.833333333333333,6.866666666666666,7.466666666666667,7.666666666666667,8.2,8.466666666666667,9.1,9.8,10.8,12.033333333333333,12.266666666666667,12.633333333333333,12.933333333333334,12.966666666666667,13.033333333333333,13.133333333333333,13.766666666666667,13.833333333333334,14.466666666666667,15.1,15.333333333333334,15.566666666666666,15.633333333333333,15.9,16.166666666666668,16.4,17.4,17.666666666666668,17.866666666666667,18.066666666666666,18.2,18.233333333333334,18.333333333333332,18.833333333333332,19.1,19.366666666666667,19.766666666666666,20.066666666666666,20.1,21.533333333333335,21.6,22.166666666666668,22.666666666666668,23.2,23.333333333333332,24.366666666666667,24.466666666666665,24.633333333333333,25.766666666666666,25.933333333333334,26.633333333333333,27.066666666666666,27.1,27.333333333333332,27.733333333333334,28.066666666666666,28.8,30.2,31.5,33.43333333333333,36.46666666666667,38.766666666666666,51.4,52.03333333333333,57.13333333333333,57.266666666666666,61.5,63.733333333333334,66.96666666666667,67.46666666666667,72.56666666666666,95.6,98.8,100.36666666666666,110.46666666666667,112.13333333333334,114.4,132.7],\"xaxis\":\"x\",\"y\":[1.0,1.0,0.9896907216494844,0.9896907216494844,0.9792729245794898,0.9688551275094957,0.9688551275094957,0.9583240935148268,0.9583240935148268,0.9583240935148268,0.9475564070708405,0.9367887206268534,0.9260210341828662,0.9152533477388799,0.9152533477388799,0.9152533477388799,0.9042261989709415,0.8931990502030033,0.8821719014350643,0.8821719014350643,0.8821719014350643,0.8708620052628202,0.8482422129183308,0.836932316746087,0.8143125244015978,0.8030026282293534,0.8030026282293534,0.8030026282293534,0.8030026282293534,0.7911937660495095,0.7911937660495095,0.7792059817154261,0.7792059817154261,0.7670308882511228,0.7548557947868194,0.7426807013225158,0.7305056078582121,0.7183305143939089,0.7183305143939089,0.7183305143939089,0.7183305143939089,0.7183305143939089,0.7052699595867469,0.6922094047795848,0.6788976854569003,0.6655859661342161,0.6655859661342161,0.6655859661342161,0.6517195918397529,0.6378532175452902,0.6239868432508273,0.6239868432508273,0.6239868432508273,0.6094755213147617,0.5949641993786959,0.5949641993786959,0.5949641993786959,0.5949641993786959,0.5793072467634671,0.5632153787978151,0.5471235108321635,0.5471235108321635,0.5471235108321635,0.5300259011186584,0.5129282914051533,0.5129282914051533,0.4952411089429065,0.4952411089429065,0.4952411089429065,0.4952411089429065,0.4952411089429065,0.4952411089429065,0.4952411089429065,0.4727301494455016,0.4727301494455016,0.4727301494455016,0.4727301494455016,0.4727301494455016,0.44492249359576613,0.44492249359576613,0.44492249359576613,0.44492249359576613,0.41069768639609183,0.41069768639609183,0.41069768639609183,0.41069768639609183,0.41069768639609183,0.41069768639609183,0.41069768639609183,0.41069768639609183,0.41069768639609183,0.41069768639609183,0.41069768639609183,0.41069768639609183,0.41069768639609183],\"yaxis\":\"y\",\"type\":\"scatter\"},{\"hovertemplate\":\"disease=Ne\\u003cbr\\u003etimeline=%{x}\\u003cbr\\u003echance=%{y}\\u003cextra\\u003e\\u003c\\u002fextra\\u003e\",\"legendgroup\":\"Ne\",\"line\":{\"color\":\"rgb(237, 173, 8)\",\"dash\":\"solid\",\"shape\":\"hv\"},\"marker\":{\"symbol\":\"circle\"},\"mode\":\"lines+markers\",\"name\":\"Ne\",\"orientation\":\"v\",\"showlegend\":true,\"x\":[0.0,0.5,0.6666666666666666,4.266666666666667,4.366666666666666,6.666666666666667,6.833333333333333,7.033333333333333,8.466666666666667,9.066666666666666,9.1,11.466666666666667,12.566666666666666,13.033333333333333,13.833333333333334,15.333333333333334,17.4,18.833333333333332,19.066666666666666,19.166666666666668,19.666666666666668,20.5,21.266666666666666,21.533333333333335,27.3,31.5,34.53333333333333,37.0,64.9,112.13333333333334],\"xaxis\":\"x\",\"y\":[1.0,1.0,0.9655172413793102,0.9310344827586207,0.896551724137931,0.8620689655172411,0.8275862068965517,0.793103448275862,0.7586206896551725,0.7241379310344827,0.6896551724137929,0.6551724137931032,0.6551724137931032,0.6187739463601533,0.582375478927203,0.582375478927203,0.5435504469987226,0.501738874152667,0.501738874152667,0.45612624922969736,0.4105136243067276,0.36490099938375775,0.36490099938375775,0.36490099938375775,0.30408416615313144,0.30408416615313144,0.22806312461484862,0.22806312461484862,0.22806312461484862,0.22806312461484862],\"yaxis\":\"y\",\"type\":\"scatter\"},{\"hovertemplate\":\"disease=LumP\\u003cbr\\u003etimeline=%{x}\\u003cbr\\u003echance=%{y}\\u003cextra\\u003e\\u003c\\u002fextra\\u003e\",\"legendgroup\":\"LumP\",\"line\":{\"color\":\"rgb(95, 70, 144)\",\"dash\":\"solid\",\"shape\":\"hv\"},\"marker\":{\"symbol\":\"circle\"},\"mode\":\"lines+markers\",\"name\":\"LumP\",\"orientation\":\"v\",\"showlegend\":true,\"x\":[0.0,0.43333333333333335,0.5666666666666667,0.6333333333333333,0.6666666666666666,0.9333333333333333,2.2333333333333334,2.2666666666666666,3.6666666666666665,3.966666666666667,4.8,5.266666666666667,5.433333333333334,6.666666666666667,7.733333333333333,8.6,8.733333333333333,10.8,11.066666666666666,11.1,11.333333333333334,11.5,12.033333333333333,12.133333333333333,12.166666666666666,12.2,12.266666666666667,12.3,12.333333333333334,12.433333333333334,12.533333333333333,12.633333333333333,12.766666666666667,12.8,12.833333333333334,13.266666666666667,13.3,13.666666666666666,13.766666666666667,13.833333333333334,13.866666666666667,14.166666666666666,14.266666666666667,15.233333333333333,15.533333333333333,15.566666666666666,15.633333333333333,15.8,15.833333333333334,16.5,16.766666666666666,16.933333333333334,17.466666666666665,17.866666666666667,18.133333333333333,18.666666666666668,19.233333333333334,19.266666666666666,19.333333333333332,19.4,19.666666666666668,19.966666666666665,20.4,20.566666666666666,20.6,21.366666666666667,21.4,21.633333333333333,21.7,22.466666666666665,22.666666666666668,23.033333333333335,25.0,25.766666666666666,26.6,27.333333333333332,27.733333333333334,29.1,29.766666666666666,30.066666666666666,30.2,30.7,31.366666666666667,33.233333333333334,35.46666666666667,36.333333333333336,39.13333333333333,39.36666666666667,45.0,45.666666666666664,47.63333333333333,48.5,50.733333333333334,50.96666666666667,51.266666666666666,53.46666666666667,54.03333333333333,65.7,66.93333333333334,66.96666666666667,67.46666666666667,68.13333333333334,68.3,71.3,77.66666666666667,88.03333333333333,90.1,96.2,106.1,110.46666666666667],\"xaxis\":\"x\",\"y\":[1.0,1.0,1.0,0.9912280701754387,0.9912280701754387,0.9912280701754387,0.9912280701754387,0.9822169059011159,0.9822169059011159,0.9822169059011159,0.9730373086497037,0.9730373086497037,0.9637702866625638,0.9544132935881695,0.9450563005137763,0.9356993074393827,0.9263423143649884,0.916985321290595,0.9076283282162008,0.9076283282162008,0.8981738664639488,0.8981738664639488,0.8981738664639488,0.888411107045862,0.888411107045862,0.888411107045862,0.888411107045862,0.888411107045862,0.888411107045862,0.888411107045862,0.888411107045862,0.888411107045862,0.888411107045862,0.888411107045862,0.8771653968300915,0.8771653968300915,0.8771653968300915,0.8771653968300915,0.8653118103864411,0.8653118103864411,0.8653118103864411,0.8653118103864411,0.8653118103864411,0.8653118103864411,0.8653118103864411,0.8523967087388823,0.8523967087388823,0.8523967087388823,0.8523967087388823,0.8523967087388823,0.8523967087388823,0.8523967087388823,0.8523967087388823,0.8523967087388823,0.8230037187823697,0.8230037187823697,0.8080400148045083,0.8080400148045083,0.8080400148045083,0.8080400148045083,0.8080400148045083,0.7915494022574778,0.7750587897104467,0.7585681771634161,0.7585681771634161,0.7585681771634161,0.7585681771634161,0.7585681771634161,0.7405070300880967,0.7224458830127771,0.7043847359374577,0.7043847359374577,0.7043847359374577,0.7043847359374577,0.7043847359374577,0.7043847359374577,0.7043847359374577,0.7043847359374577,0.7043847359374577,0.7043847359374577,0.7043847359374577,0.7043847359374577,0.6792281382254057,0.6792281382254057,0.6531039790628899,0.6531039790628899,0.6531039790628899,0.6531039790628899,0.6531039790628899,0.6531039790628899,0.6531039790628899,0.6531039790628899,0.6531039790628899,0.6531039790628899,0.6531039790628899,0.6531039790628899,0.6531039790628899,0.6028652114426676,0.6028652114426676,0.6028652114426676,0.6028652114426676,0.6028652114426676,0.6028652114426676,0.6028652114426676,0.6028652114426676,0.48229216915413414,0.48229216915413414,0.48229216915413414,0.24114608457706704,0.24114608457706704],\"yaxis\":\"y\",\"type\":\"scatter\"},{\"hovertemplate\":\"disease=2.0\\u003cbr\\u003etimeline=%{x}\\u003cbr\\u003echance=%{y}\\u003cextra\\u003e\\u003c\\u002fextra\\u003e\",\"legendgroup\":\"2.0\",\"line\":{\"color\":\"#AB63FA\",\"dash\":\"solid\",\"shape\":\"hv\"},\"marker\":{\"symbol\":\"circle\"},\"mode\":\"lines+markers\",\"name\":\"2.0\",\"orientation\":\"v\",\"showlegend\":true,\"x\":[0.0,0.6666666666666666,1.8333333333333333,2.066666666666667,2.1333333333333333,2.933333333333333,2.966666666666667,3.1666666666666665,3.3,4.266666666666667,5.133333333333334,5.6,6.666666666666667,7.1,7.333333333333333,8.266666666666667,8.366666666666667,8.433333333333334,8.633333333333333,8.7,9.066666666666666,9.133333333333333,9.266666666666667,11.466666666666667,11.866666666666667,12.333333333333334,12.4,12.733333333333333,13.1,13.333333333333334,13.766666666666667,13.833333333333334,14.266666666666667,14.566666666666666,15.166666666666666,15.333333333333334,15.533333333333333,15.8,16.133333333333333,16.366666666666667,16.5,17.0,18.0,18.733333333333334,20.5,20.766666666666666,21.0,22.833333333333332,25.266666666666666,26.3,28.366666666666667,29.566666666666666,29.9,30.133333333333333,33.46666666666667,36.93333333333333,37.56666666666667,42.333333333333336,44.2,48.666666666666664,51.86666666666667,60.2,61.0,62.3,62.8,70.3,76.43333333333334,87.5,88.53333333333333,127.23333333333333,168.03333333333333],\"xaxis\":\"x\",\"y\":[1.0,0.9863013698630139,0.9863013698630139,0.9724098012733943,0.9724098012733943,0.9583169056027654,0.9583169056027654,0.9583169056027654,0.943796952487572,0.9292769993723785,0.9147570462571853,0.9002370931419921,0.8857171400267987,0.871197186911605,0.8566772337964119,0.8421572806812181,0.827637327566025,0.8128580895737745,0.7980788515815239,0.7832996135892735,0.768520375597023,0.7537411376047725,0.7389618996125219,0.7241826616202715,0.7094034236280213,0.6946241856357706,0.6946241856357706,0.6946241856357706,0.6791880926216424,0.6637519996075142,0.6328798135792578,0.6328798135792578,0.6328798135792578,0.6166521260515846,0.6004244385239113,0.6004244385239113,0.6004244385239113,0.5832694545660855,0.5832694545660855,0.5832694545660855,0.5650422841108953,0.528587943200515,0.528587943200515,0.528587943200515,0.5090106119708663,0.4894332807412175,0.46985594951156895,0.4502786182819202,0.4502786182819202,0.4502786182819202,0.4502786182819202,0.4502786182819202,0.4502786182819202,0.42526313948848027,0.4002476606950402,0.4002476606950402,0.4002476606950402,0.371658542073966,0.371658542073966,0.371658542073966,0.33787140188542364,0.33787140188542364,0.33787140188542364,0.2956374766497457,0.2956374766497457,0.2956374766497457,0.2956374766497457,0.2956374766497457,0.2956374766497457,0.2956374766497457,0.2956374766497457],\"yaxis\":\"y\",\"type\":\"scatter\"},{\"hovertemplate\":\"disease=4.0\\u003cbr\\u003etimeline=%{x}\\u003cbr\\u003echance=%{y}\\u003cextra\\u003e\\u003c\\u002fextra\\u003e\",\"legendgroup\":\"4.0\",\"line\":{\"color\":\"#FFA15A\",\"dash\":\"solid\",\"shape\":\"hv\"},\"marker\":{\"symbol\":\"circle\"},\"mode\":\"lines+markers\",\"name\":\"4.0\",\"orientation\":\"v\",\"showlegend\":true,\"x\":[0.0,1.2333333333333334,1.9666666666666666,2.7333333333333334,3.066666666666667,3.2666666666666666,3.933333333333333,5.766666666666667,7.033333333333333,7.733333333333333,7.9,9.066666666666666,9.2,10.933333333333334,12.333333333333334,12.866666666666667,13.6,13.933333333333334,15.166666666666666,16.0,16.9,17.966666666666665,19.066666666666666,19.3,19.6,19.666666666666668,20.333333333333332,21.1,21.2,21.333333333333332,23.533333333333335,23.966666666666665,28.0,28.8,29.966666666666665,32.46666666666667,33.5,34.93333333333333,52.733333333333334,54.63333333333333,54.96666666666667,56.93333333333333,58.7,59.733333333333334,60.13333333333333,64.96666666666667,67.56666666666666,79.33333333333333,165.56666666666666],\"xaxis\":\"x\",\"y\":[1.0,1.0,1.0,1.0,0.9782608695652172,0.9565217391304346,0.9347826086956521,0.9130434782608696,0.891304347826087,0.8695652173913042,0.8478260869565216,0.8043478260869564,0.8043478260869564,0.7820048309178742,0.7596618357487923,0.7373188405797101,0.714975845410628,0.6926328502415459,0.6926328502415459,0.6926328502415459,0.6926328502415459,0.6926328502415459,0.6926328502415459,0.6659931252322554,0.6659931252322554,0.6382434116809114,0.6382434116809114,0.6382434116809114,0.6382434116809114,0.6382434116809114,0.6046516531713897,0.5710598946618682,0.5710598946618682,0.5710598946618682,0.5710598946618682,0.5302699021860207,0.4894799097101729,0.4894799097101729,0.4894799097101729,0.4894799097101729,0.4894799097101729,0.4894799097101729,0.4894799097101729,0.4894799097101729,0.39158392776813833,0.39158392776813833,0.39158392776813833,0.39158392776813833,0.39158392776813833],\"yaxis\":\"y\",\"type\":\"scatter\"},{\"hovertemplate\":\"disease=3.0\\u003cbr\\u003etimeline=%{x}\\u003cbr\\u003echance=%{y}\\u003cextra\\u003e\\u003c\\u002fextra\\u003e\",\"legendgroup\":\"3.0\",\"line\":{\"color\":\"#00CC96\",\"dash\":\"solid\",\"shape\":\"hv\"},\"marker\":{\"symbol\":\"circle\"},\"mode\":\"lines+markers\",\"name\":\"3.0\",\"orientation\":\"v\",\"showlegend\":true,\"x\":[0.0,1.1666666666666667,2.2666666666666666,2.3,3.0,3.5,4.066666666666666,5.133333333333334,8.333333333333334,9.766666666666667,10.1,10.366666666666667,10.7,11.0,11.233333333333333,11.966666666666667,12.066666666666666,12.4,12.566666666666666,12.8,13.533333333333333,14.433333333333334,15.133333333333333,16.033333333333335,16.2,16.5,16.933333333333334,17.866666666666667,17.966666666666665,18.833333333333332,19.066666666666666,19.166666666666668,21.266666666666666,23.733333333333334,25.366666666666667,26.1,27.433333333333334,27.833333333333332,28.633333333333333,33.6,34.53333333333333,35.9,39.53333333333333,45.56666666666667,47.333333333333336,47.43333333333333,55.666666666666664,67.33333333333333,80.76666666666667,93.0,94.26666666666667,144.76666666666668,168.33333333333334],\"xaxis\":\"x\",\"y\":[1.0,1.0,1.0,0.98,0.9600000000000003,0.9600000000000003,0.9395744680851069,0.9191489361702131,0.8987234042553195,0.8987234042553195,0.8778228599703122,0.8569223156853047,0.8360217714002971,0.8360217714002971,0.8360217714002971,0.8360217714002971,0.8134265883894783,0.8134265883894783,0.8134265883894783,0.8134265883894783,0.7887772978322214,0.7887772978322214,0.7633328688698917,0.7633328688698917,0.7370110458054125,0.7370110458054125,0.7097143404052121,0.7097143404052121,0.6813257667890038,0.6529371931727952,0.6529371931727952,0.6232582298467589,0.6232582298467589,0.592095318354421,0.592095318354421,0.592095318354421,0.5572661819806314,0.522437045606842,0.4876079092330524,0.45277877285926305,0.4179496364854736,0.3831205001116842,0.3831205001116842,0.34480845010051575,0.3064964000893472,0.26818435007817887,0.22987230006701045,0.19156025005584204,0.19156025005584204,0.19156025005584204,0.12770683337056135,0.12770683337056135,0.12770683337056135],\"yaxis\":\"y\",\"type\":\"scatter\"},{\"hovertemplate\":\"disease=Med IFNG\\u003cbr\\u003etimeline=%{x}\\u003cbr\\u003echance=%{y}\\u003cextra\\u003e\\u003c\\u002fextra\\u003e\",\"legendgroup\":\"Med IFNG\",\"line\":{\"color\":\"rgb(115, 175, 72)\",\"dash\":\"solid\",\"shape\":\"hv\"},\"marker\":{\"symbol\":\"circle\"},\"mode\":\"lines+markers\",\"name\":\"Med IFNG\",\"orientation\":\"v\",\"showlegend\":true,\"x\":[0.0,1.8333333333333333,5.6,8.433333333333334,8.7,9.266666666666667,10.1,10.7,12.4,13.766666666666667,13.933333333333334,14.266666666666667,14.566666666666666,15.8,16.133333333333333,16.5,16.933333333333334,21.0,21.1,22.833333333333332,26.3,28.366666666666667,30.133333333333333,33.46666666666667,36.93333333333333,42.333333333333336,44.2,48.666666666666664,51.4,62.3,70.3,76.43333333333334,127.23333333333333,168.03333333333333],\"xaxis\":\"x\",\"y\":[1.0,1.0,0.96875,0.9375000000000001,0.9062500000000001,0.8749999999999999,0.84375,0.8125000000000001,0.8125000000000001,0.7800000000000004,0.7475000000000002,0.7475000000000002,0.7135227272727274,0.6795454545454545,0.6795454545454545,0.64377990430622,0.6080143540669858,0.5722488038277512,0.5722488038277512,0.5340988835725676,0.5340988835725676,0.5340988835725676,0.48959064327485374,0.4450824029771398,0.4450824029771398,0.39562880264634637,0.39562880264634637,0.39562880264634637,0.39562880264634637,0.3165030421170771,0.3165030421170771,0.3165030421170771,0.3165030421170771,0.3165030421170771],\"yaxis\":\"y\",\"type\":\"scatter\"}],                        {\"template\":{\"data\":{\"histogram2dcontour\":[{\"type\":\"histogram2dcontour\",\"colorbar\":{\"outlinewidth\":0,\"tickcolor\":\"rgb(237,237,237)\",\"ticklen\":6,\"ticks\":\"inside\"},\"colorscale\":[[0,\"rgb(20,44,66)\"],[1,\"rgb(90,179,244)\"]]}],\"choropleth\":[{\"type\":\"choropleth\",\"colorbar\":{\"outlinewidth\":0,\"tickcolor\":\"rgb(237,237,237)\",\"ticklen\":6,\"ticks\":\"inside\"}}],\"histogram2d\":[{\"type\":\"histogram2d\",\"colorbar\":{\"outlinewidth\":0,\"tickcolor\":\"rgb(237,237,237)\",\"ticklen\":6,\"ticks\":\"inside\"},\"colorscale\":[[0,\"rgb(20,44,66)\"],[1,\"rgb(90,179,244)\"]]}],\"heatmap\":[{\"type\":\"heatmap\",\"colorbar\":{\"outlinewidth\":0,\"tickcolor\":\"rgb(237,237,237)\",\"ticklen\":6,\"ticks\":\"inside\"},\"colorscale\":[[0,\"rgb(20,44,66)\"],[1,\"rgb(90,179,244)\"]]}],\"heatmapgl\":[{\"type\":\"heatmapgl\",\"colorbar\":{\"outlinewidth\":0,\"tickcolor\":\"rgb(237,237,237)\",\"ticklen\":6,\"ticks\":\"inside\"},\"colorscale\":[[0,\"rgb(20,44,66)\"],[1,\"rgb(90,179,244)\"]]}],\"contourcarpet\":[{\"type\":\"contourcarpet\",\"colorbar\":{\"outlinewidth\":0,\"tickcolor\":\"rgb(237,237,237)\",\"ticklen\":6,\"ticks\":\"inside\"}}],\"contour\":[{\"type\":\"contour\",\"colorbar\":{\"outlinewidth\":0,\"tickcolor\":\"rgb(237,237,237)\",\"ticklen\":6,\"ticks\":\"inside\"},\"colorscale\":[[0,\"rgb(20,44,66)\"],[1,\"rgb(90,179,244)\"]]}],\"surface\":[{\"type\":\"surface\",\"colorbar\":{\"outlinewidth\":0,\"tickcolor\":\"rgb(237,237,237)\",\"ticklen\":6,\"ticks\":\"inside\"},\"colorscale\":[[0,\"rgb(20,44,66)\"],[1,\"rgb(90,179,244)\"]]}],\"mesh3d\":[{\"type\":\"mesh3d\",\"colorbar\":{\"outlinewidth\":0,\"tickcolor\":\"rgb(237,237,237)\",\"ticklen\":6,\"ticks\":\"inside\"}}],\"scatter\":[{\"fillpattern\":{\"fillmode\":\"overlay\",\"size\":10,\"solidity\":0.2},\"type\":\"scatter\"}],\"parcoords\":[{\"type\":\"parcoords\",\"line\":{\"colorbar\":{\"outlinewidth\":0,\"tickcolor\":\"rgb(237,237,237)\",\"ticklen\":6,\"ticks\":\"inside\"}}}],\"scatterpolargl\":[{\"type\":\"scatterpolargl\",\"marker\":{\"colorbar\":{\"outlinewidth\":0,\"tickcolor\":\"rgb(237,237,237)\",\"ticklen\":6,\"ticks\":\"inside\"}}}],\"bar\":[{\"error_x\":{\"color\":\"rgb(51,51,51)\"},\"error_y\":{\"color\":\"rgb(51,51,51)\"},\"marker\":{\"line\":{\"color\":\"rgb(237,237,237)\",\"width\":0.5},\"pattern\":{\"fillmode\":\"overlay\",\"size\":10,\"solidity\":0.2}},\"type\":\"bar\"}],\"scattergeo\":[{\"type\":\"scattergeo\",\"marker\":{\"colorbar\":{\"outlinewidth\":0,\"tickcolor\":\"rgb(237,237,237)\",\"ticklen\":6,\"ticks\":\"inside\"}}}],\"scatterpolar\":[{\"type\":\"scatterpolar\",\"marker\":{\"colorbar\":{\"outlinewidth\":0,\"tickcolor\":\"rgb(237,237,237)\",\"ticklen\":6,\"ticks\":\"inside\"}}}],\"histogram\":[{\"marker\":{\"pattern\":{\"fillmode\":\"overlay\",\"size\":10,\"solidity\":0.2}},\"type\":\"histogram\"}],\"scattergl\":[{\"type\":\"scattergl\",\"marker\":{\"colorbar\":{\"outlinewidth\":0,\"tickcolor\":\"rgb(237,237,237)\",\"ticklen\":6,\"ticks\":\"inside\"}}}],\"scatter3d\":[{\"type\":\"scatter3d\",\"line\":{\"colorbar\":{\"outlinewidth\":0,\"tickcolor\":\"rgb(237,237,237)\",\"ticklen\":6,\"ticks\":\"inside\"}},\"marker\":{\"colorbar\":{\"outlinewidth\":0,\"tickcolor\":\"rgb(237,237,237)\",\"ticklen\":6,\"ticks\":\"inside\"}}}],\"scattermapbox\":[{\"type\":\"scattermapbox\",\"marker\":{\"colorbar\":{\"outlinewidth\":0,\"tickcolor\":\"rgb(237,237,237)\",\"ticklen\":6,\"ticks\":\"inside\"}}}],\"scatterternary\":[{\"type\":\"scatterternary\",\"marker\":{\"colorbar\":{\"outlinewidth\":0,\"tickcolor\":\"rgb(237,237,237)\",\"ticklen\":6,\"ticks\":\"inside\"}}}],\"scattercarpet\":[{\"type\":\"scattercarpet\",\"marker\":{\"colorbar\":{\"outlinewidth\":0,\"tickcolor\":\"rgb(237,237,237)\",\"ticklen\":6,\"ticks\":\"inside\"}}}],\"carpet\":[{\"aaxis\":{\"endlinecolor\":\"rgb(51,51,51)\",\"gridcolor\":\"white\",\"linecolor\":\"white\",\"minorgridcolor\":\"white\",\"startlinecolor\":\"rgb(51,51,51)\"},\"baxis\":{\"endlinecolor\":\"rgb(51,51,51)\",\"gridcolor\":\"white\",\"linecolor\":\"white\",\"minorgridcolor\":\"white\",\"startlinecolor\":\"rgb(51,51,51)\"},\"type\":\"carpet\"}],\"table\":[{\"cells\":{\"fill\":{\"color\":\"rgb(237,237,237)\"},\"line\":{\"color\":\"white\"}},\"header\":{\"fill\":{\"color\":\"rgb(217,217,217)\"},\"line\":{\"color\":\"white\"}},\"type\":\"table\"}],\"barpolar\":[{\"marker\":{\"line\":{\"color\":\"rgb(237,237,237)\",\"width\":0.5},\"pattern\":{\"fillmode\":\"overlay\",\"size\":10,\"solidity\":0.2}},\"type\":\"barpolar\"}],\"pie\":[{\"automargin\":true,\"type\":\"pie\"}]},\"layout\":{\"autotypenumbers\":\"strict\",\"colorway\":[\"#F8766D\",\"#A3A500\",\"#00BF7D\",\"#00B0F6\",\"#E76BF3\"],\"font\":{\"color\":\"rgb(51,51,51)\"},\"hovermode\":\"closest\",\"hoverlabel\":{\"align\":\"left\"},\"paper_bgcolor\":\"white\",\"plot_bgcolor\":\"rgb(237,237,237)\",\"polar\":{\"bgcolor\":\"rgb(237,237,237)\",\"angularaxis\":{\"gridcolor\":\"white\",\"linecolor\":\"white\",\"showgrid\":true,\"tickcolor\":\"rgb(51,51,51)\",\"ticks\":\"outside\"},\"radialaxis\":{\"gridcolor\":\"white\",\"linecolor\":\"white\",\"showgrid\":true,\"tickcolor\":\"rgb(51,51,51)\",\"ticks\":\"outside\"}},\"ternary\":{\"bgcolor\":\"rgb(237,237,237)\",\"aaxis\":{\"gridcolor\":\"white\",\"linecolor\":\"white\",\"showgrid\":true,\"tickcolor\":\"rgb(51,51,51)\",\"ticks\":\"outside\"},\"baxis\":{\"gridcolor\":\"white\",\"linecolor\":\"white\",\"showgrid\":true,\"tickcolor\":\"rgb(51,51,51)\",\"ticks\":\"outside\"},\"caxis\":{\"gridcolor\":\"white\",\"linecolor\":\"white\",\"showgrid\":true,\"tickcolor\":\"rgb(51,51,51)\",\"ticks\":\"outside\"}},\"coloraxis\":{\"colorbar\":{\"outlinewidth\":0,\"tickcolor\":\"rgb(237,237,237)\",\"ticklen\":6,\"ticks\":\"inside\"}},\"colorscale\":{\"sequential\":[[0,\"rgb(20,44,66)\"],[1,\"rgb(90,179,244)\"]],\"sequentialminus\":[[0,\"rgb(20,44,66)\"],[1,\"rgb(90,179,244)\"]]},\"xaxis\":{\"gridcolor\":\"white\",\"linecolor\":\"white\",\"showgrid\":true,\"tickcolor\":\"rgb(51,51,51)\",\"ticks\":\"outside\",\"title\":{\"standoff\":15},\"zerolinecolor\":\"white\",\"automargin\":true},\"yaxis\":{\"gridcolor\":\"white\",\"linecolor\":\"white\",\"showgrid\":true,\"tickcolor\":\"rgb(51,51,51)\",\"ticks\":\"outside\",\"title\":{\"standoff\":15},\"zerolinecolor\":\"white\",\"automargin\":true},\"scene\":{\"xaxis\":{\"backgroundcolor\":\"rgb(237,237,237)\",\"gridcolor\":\"white\",\"linecolor\":\"white\",\"showbackground\":true,\"showgrid\":true,\"tickcolor\":\"rgb(51,51,51)\",\"ticks\":\"outside\",\"zerolinecolor\":\"white\",\"gridwidth\":2},\"yaxis\":{\"backgroundcolor\":\"rgb(237,237,237)\",\"gridcolor\":\"white\",\"linecolor\":\"white\",\"showbackground\":true,\"showgrid\":true,\"tickcolor\":\"rgb(51,51,51)\",\"ticks\":\"outside\",\"zerolinecolor\":\"white\",\"gridwidth\":2},\"zaxis\":{\"backgroundcolor\":\"rgb(237,237,237)\",\"gridcolor\":\"white\",\"linecolor\":\"white\",\"showbackground\":true,\"showgrid\":true,\"tickcolor\":\"rgb(51,51,51)\",\"ticks\":\"outside\",\"zerolinecolor\":\"white\",\"gridwidth\":2}},\"shapedefaults\":{\"fillcolor\":\"black\",\"line\":{\"width\":0},\"opacity\":0.3},\"annotationdefaults\":{\"arrowhead\":0,\"arrowwidth\":1},\"geo\":{\"bgcolor\":\"white\",\"landcolor\":\"rgb(237,237,237)\",\"subunitcolor\":\"white\",\"showland\":true,\"showlakes\":true,\"lakecolor\":\"white\"}}},\"xaxis\":{\"anchor\":\"y\",\"domain\":[0.0,1.0],\"title\":{\"text\":\"Time (months)\"},\"range\":[-1,60]},\"yaxis\":{\"anchor\":\"x\",\"domain\":[0.0,1.0],\"title\":{\"text\":\"Survival rate\"}},\"legend\":{\"title\":{\"text\":\"disease\"},\"tracegroupgap\":0},\"margin\":{\"t\":60},\"title\":{\"text\":\"Survival analysis VU + in-situ\"},\"height\":700},                        {\"responsive\": true}                    ).then(function(){\n",
       "                            \n",
       "var gd = document.getElementById('13918238-f0af-4756-91db-6c5dcf621ce8');\n",
       "var x = new MutationObserver(function (mutations, observer) {{\n",
       "        var display = window.getComputedStyle(gd).display;\n",
       "        if (!display || display === 'none') {{\n",
       "            console.log([gd, 'removed!']);\n",
       "            Plotly.purge(gd);\n",
       "            observer.disconnect();\n",
       "        }}\n",
       "}});\n",
       "\n",
       "// Listen for the removal of the full notebook cells\n",
       "var notebookContainer = gd.closest('#notebook-container');\n",
       "if (notebookContainer) {{\n",
       "    x.observe(notebookContainer, {childList: true});\n",
       "}}\n",
       "\n",
       "// Listen for the clearing of the current output cell\n",
       "var outputEl = gd.closest('.output');\n",
       "if (outputEl) {{\n",
       "    x.observe(outputEl, {childList: true});\n",
       "}}\n",
       "\n",
       "                        })                };                });            </script>        </div>"
      ]
     },
     "metadata": {},
     "output_type": "display_data"
    }
   ],
   "source": [
    "cluster_model = \"RawKMeans_CS_6_exp_tf6\"\n",
    "\n",
    "colors_ref = px.colors.qualitative.Prism\n",
    "color_map = {\n",
    "    \"LumP\": colors_ref[0],\n",
    "    \"Lum Inf/Ns\": colors_ref[1],\n",
    "    \"High IFNG\": colors_ref[2],\n",
    "    \"Low IFNG\": colors_ref[3],\n",
    "    \"Med IFNG\": colors_ref[4],\n",
    "    \"Ne\": colors_ref[5],\n",
    "}\n",
    "\n",
    "select_labels_1 = [1.0, 0.0, 5.0]\n",
    "select_labels_2 = [\"High IFNG\", \"Med IFNG\", \"Low IFNG\"]\n",
    "\n",
    "select_labels_1 = None\n",
    "select_labels_2 = None\n",
    "\n",
    "colors_net = px.colors.qualitative.Plotly\n",
    "comb_cs[cluster_model] = comb_cs[cluster_model].astype(str)\n",
    "for idx, val in enumerate(comb_cs[cluster_model].unique()):\n",
    "    color_map[val] = colors_net[idx]\n",
    "\n",
    "fig = survival_comp(\n",
    "    comb_cs.drop(columns=[\"days_to_last_follow_up\", \"days_to_death\"]),\n",
    "    vu_output,\n",
    "    classifier_1=cluster_model,\n",
    "    classifier_2=\"KMeans_labels_6\",\n",
    "    selected_labels_1=select_labels_1,\n",
    "    selected_labels_2=select_labels_2,\n",
    "    color_map=color_map,\n",
    ")\n",
    "fig = fig.update_layout(title=\"Survival analysis {}\".format(\"VU + in-situ\"))\n",
    "fig.update_layout(height=700)\n",
    "# save_fig(name=\"Survival_plot_reward\", fig=fig, base_path=figures_path, width=1400, height=600)"
   ]
  },
  {
   "cell_type": "markdown",
   "metadata": {},
   "source": [
    "### Significance"
   ]
  },
  {
   "cell_type": "code",
   "execution_count": 105,
   "metadata": {},
   "outputs": [],
   "source": [
    "from lifelines.statistics import multivariate_logrank_test"
   ]
  },
  {
   "cell_type": "code",
   "execution_count": 106,
   "metadata": {},
   "outputs": [],
   "source": [
    "def survival_sig(df, model):\n",
    "    df = df.reset_index().rename(columns={\"index\": \"Sample\"}).copy(deep=True)\n",
    "    classifier = model\n",
    "\n",
    "    dmy = df[[\"days_to_last_follow_up\", \"days_to_death\", classifier]].replace(\"--\", 0).astype(int)\n",
    "    dmy[\"last_contact\"] = dmy[[\"days_to_last_follow_up\", \"days_to_death\"]].max(axis=1).div(30)\n",
    "\n",
    "    labels = list(df[model].unique())\n",
    "    dmy = dmy[dmy[classifier].isin(labels)]\n",
    "\n",
    "    results = multivariate_logrank_test(dmy[\"last_contact\"], dmy[classifier], dmy[\"days_to_death\"])\n",
    "    display(results.print_summary())\n",
    "    print(\"{0:.10f}\".format(results.p_value))"
   ]
  },
  {
   "cell_type": "code",
   "execution_count": 107,
   "metadata": {},
   "outputs": [
    {
     "data": {
      "text/html": [
       "<div>\n",
       "<style scoped>\n",
       "    .dataframe tbody tr th:only-of-type {\n",
       "        vertical-align: middle;\n",
       "    }\n",
       "\n",
       "    .dataframe tbody tr th {\n",
       "        vertical-align: top;\n",
       "    }\n",
       "\n",
       "    .dataframe thead th {\n",
       "        text-align: right;\n",
       "    }\n",
       "</style>\n",
       "<table border=\"1\" class=\"dataframe\">\n",
       "  <tbody>\n",
       "    <tr>\n",
       "      <th>t_0</th>\n",
       "      <td>-1</td>\n",
       "    </tr>\n",
       "    <tr>\n",
       "      <th>null_distribution</th>\n",
       "      <td>chi squared</td>\n",
       "    </tr>\n",
       "    <tr>\n",
       "      <th>degrees_of_freedom</th>\n",
       "      <td>5</td>\n",
       "    </tr>\n",
       "    <tr>\n",
       "      <th>test_name</th>\n",
       "      <td>multivariate_logrank_test</td>\n",
       "    </tr>\n",
       "  </tbody>\n",
       "</table>\n",
       "</div><table border=\"1\" class=\"dataframe\">\n",
       "  <thead>\n",
       "    <tr style=\"text-align: right;\">\n",
       "      <th></th>\n",
       "      <th>test_statistic</th>\n",
       "      <th>p</th>\n",
       "      <th>-log2(p)</th>\n",
       "    </tr>\n",
       "  </thead>\n",
       "  <tbody>\n",
       "    <tr>\n",
       "      <th>0</th>\n",
       "      <td>9.74</td>\n",
       "      <td>0.08</td>\n",
       "      <td>3.59</td>\n",
       "    </tr>\n",
       "  </tbody>\n",
       "</table>"
      ],
      "text/latex": [
       "\\begin{tabular}{lrrr}\n",
       " & test_statistic & p & -log2(p) \\\\\n",
       "0 & 9.74 & 0.08 & 3.59 \\\\\n",
       "\\end{tabular}\n"
      ],
      "text/plain": [
       "<lifelines.StatisticalResult: multivariate_logrank_test>\n",
       "               t_0 = -1\n",
       " null_distribution = chi squared\n",
       "degrees_of_freedom = 5\n",
       "         test_name = multivariate_logrank_test\n",
       "\n",
       "---\n",
       " test_statistic    p  -log2(p)\n",
       "           9.74 0.08      3.59"
      ]
     },
     "metadata": {},
     "output_type": "display_data"
    },
    {
     "data": {
      "text/plain": [
       "None"
      ]
     },
     "metadata": {},
     "output_type": "display_data"
    },
    {
     "name": "stdout",
     "output_type": "stream",
     "text": [
      "0.0829495254\n"
     ]
    }
   ],
   "source": [
    "comb_cs[cluster_model] = comb_cs[cluster_model].astype(float).astype(int)\n",
    "survival_sig(comb_cs, model=cluster_model)"
   ]
  },
  {
   "cell_type": "markdown",
   "metadata": {},
   "source": [
    "# Visualise SBM"
   ]
  },
  {
   "cell_type": "code",
   "execution_count": null,
   "metadata": {},
   "outputs": [],
   "source": [
    "def callback(self, g, keyval, picked, pos, vprops, eprops):\n",
    "    # label\n",
    "    if type(picked) != gt.VertexPropertyMap:\n",
    "        print(\"{}. Comm {}. Mut {}. Idx {}\".format(g.vp.gene[picked], g.vp.max_b[picked], g.vp.mut_count[picked], picked))"
   ]
  },
  {
   "cell_type": "code",
   "execution_count": null,
   "metadata": {},
   "outputs": [],
   "source": [
    "gt_exp = t_exps[6]\n",
    "gt_exp.layout()\n",
    "gt_exp.add_vp(mut_df=tcga_mutations_df)\n",
    "pos = gt_exp.pos\n",
    "gt_g = gt_exp.gt_g\n",
    "pv = gt_exp.states[0][\"pv\"]\n",
    "pmode = gt_exp.states[0][\"pmode\"]\n",
    "\n",
    "gt_g = gt_exp.gt_g\n",
    "state = gt.BlockState(gt_g, recs=[gt_g.ep.weight], rec_types=[\"real-exponential\"])"
   ]
  },
  {
   "cell_type": "code",
   "execution_count": null,
   "metadata": {},
   "outputs": [],
   "source": [
    "# interactive session\n",
    "if False:\n",
    "    state.draw(\n",
    "        pos=pos,\n",
    "        vertex_shape=\"pie\",\n",
    "        vertex_pie_fractions=pv,\n",
    "        inline=False,\n",
    "        nodeFirst=True,\n",
    "        # aspect=0.4,\n",
    "        ink_scale=0.4,\n",
    "        vertex_text=gt_g.vp.gene,\n",
    "        display_props=gt_g.vp.gene,\n",
    "        output_size=(2000, 2000),  # debugging\n",
    "        #### Nodes properties\n",
    "        # vertex_size=gt.prop_to_size(gt_g.vp.mut_count, 1, 20, power=1),\n",
    "        vertex_font_size=gt.prop_to_size(gt_g.vp.mut_count, 10, 14, power=1.0),  # 5, 30 for notebook  viz\n",
    "        ##### edges properties\n",
    "        # edge_color=gt.prop_to_size(gt_g.ep.weight, power=1, log=True),\n",
    "        edge_pen_width=gt.prop_to_size(gt_g.ep.weight, 0, 3, power=0.1),\n",
    "        # edge_gradient=[],\n",
    "        # vorder=gt_g.vp.mut_count,\n",
    "        key_press_callback=callback,\n",
    "        # text_out_width=0.1,\n",
    "    )"
   ]
  },
  {
   "cell_type": "code",
   "execution_count": null,
   "metadata": {},
   "outputs": [
    {
     "name": "stderr",
     "output_type": "stream",
     "text": [
      "/Users/vlad/opt/anaconda3/envs/iNet_gt/lib/python3.11/site-packages/graph_tool/draw/cairo_draw.py:668: UserWarning:\n",
      "\n",
      "Unknown parameter: display_props\n",
      "\n",
      "/Users/vlad/opt/anaconda3/envs/iNet_gt/lib/python3.11/site-packages/graph_tool/draw/cairo_draw.py:668: UserWarning:\n",
      "\n",
      "Unknown parameter: key_press_callback\n",
      "\n"
     ]
    },
    {
     "data": {
      "text/plain": [
       "<VertexPropertyMap object with value type 'vector<double>', for Graph 0x1d6af1490, at 0x1d7148210>"
      ]
     },
     "execution_count": 40,
     "metadata": {},
     "output_type": "execute_result"
    }
   ],
   "source": [
    "# Config to save it as PDF\n",
    "state.draw(\n",
    "    pos=pos,\n",
    "    vertex_shape=\"pie\",\n",
    "    vertex_pie_fractions=pv,\n",
    "    inline=False,\n",
    "    vertex_text=gt_g.vp.gene,\n",
    "    display_props=gt_g.vp.gene,\n",
    "    output_size=(8000, 8000),  # good to visualised in Notebook\n",
    "    #### Nodes properties\n",
    "    vertex_size=gt.prop_to_size(gt_g.vp.mut_count, 1, 20, power=1),\n",
    "    vertex_font_size=gt.prop_to_size(gt_g.vp.mut_count, 14, 24, power=1.0), \n",
    "    ##### edges properties\n",
    "    edge_pen_width=gt.prop_to_size(gt_g.ep.weight, 0, 1, power=0.1),\n",
    "    key_press_callback=callback,\n",
    "    output=figures_path + \"sbm_h_tf6_5K.pdf\",\n",
    ")"
   ]
  },
  {
   "cell_type": "markdown",
   "metadata": {},
   "source": [
    "## Export SBM to Gephi"
   ]
  },
  {
   "cell_type": "code",
   "execution_count": null,
   "metadata": {},
   "outputs": [
    {
     "ename": "AttributeError",
     "evalue": "'PGCNAOutput' object has no attribute 'graph_type'",
     "output_type": "error",
     "traceback": [
      "\u001b[0;31m---------------------------------------------------------------------------\u001b[0m",
      "\u001b[0;31mAttributeError\u001b[0m                            Traceback (most recent call last)",
      "Cell \u001b[0;32mIn[42], line 6\u001b[0m\n\u001b[1;32m      3\u001b[0m results_df\u001b[38;5;241m.\u001b[39mloc[results_df[\u001b[38;5;124m\"\u001b[39m\u001b[38;5;124mstable_gene\u001b[39m\u001b[38;5;124m\"\u001b[39m] \u001b[38;5;241m==\u001b[39m \u001b[38;5;124m\"\u001b[39m\u001b[38;5;124mwobble\u001b[39m\u001b[38;5;124m\"\u001b[39m, \u001b[38;5;124m\"\u001b[39m\u001b[38;5;124mstable_gene_num\u001b[39m\u001b[38;5;124m\"\u001b[39m] \u001b[38;5;241m=\u001b[39m \u001b[38;5;241m1\u001b[39m\n\u001b[1;32m      4\u001b[0m results_df[\u001b[38;5;124m\"\u001b[39m\u001b[38;5;124mstable_gene\u001b[39m\u001b[38;5;124m\"\u001b[39m]\u001b[38;5;241m.\u001b[39mvalue_counts()\n\u001b[0;32m----> 6\u001b[0m \u001b[43mgt_exp\u001b[49m\u001b[38;5;241;43m.\u001b[39;49m\u001b[43mexport_to_gephi\u001b[49m\u001b[43m(\u001b[49m\u001b[43msave\u001b[49m\u001b[38;5;241;43m=\u001b[39;49m\u001b[38;5;28;43;01mFalse\u001b[39;49;00m\u001b[43m,\u001b[49m\u001b[43m \u001b[49m\u001b[43msbm_df\u001b[49m\u001b[38;5;241;43m=\u001b[39;49m\u001b[43mresults_df\u001b[49m\u001b[43m,\u001b[49m\u001b[43m \u001b[49m\u001b[43mstate_idx\u001b[49m\u001b[38;5;241;43m=\u001b[39;49m\u001b[38;5;241;43m0\u001b[39;49m\u001b[43m)\u001b[49m\n",
      "File \u001b[0;32m~/Documents/Code/York/iNet_v2/src/NetworkAnalysis/NetworkOutput.py:439\u001b[0m, in \u001b[0;36mNetworkOutput.export_to_gephi\u001b[0;34m(self, save, sbm_df, state_idx, hsbm, **kwargs)\u001b[0m\n\u001b[1;32m    437\u001b[0m filename, path  \u001b[38;5;241m=\u001b[39m \u001b[38;5;28mself\u001b[39m\u001b[38;5;241m.\u001b[39mname, \u001b[38;5;28mself\u001b[39m\u001b[38;5;241m.\u001b[39mexps_path\n\u001b[1;32m    438\u001b[0m edge_list \u001b[38;5;241m=\u001b[39m []\n\u001b[0;32m--> 439\u001b[0m \u001b[38;5;28;01mif\u001b[39;00m \u001b[38;5;28;43mself\u001b[39;49m\u001b[38;5;241;43m.\u001b[39;49m\u001b[43mgraph_type\u001b[49m \u001b[38;5;241m==\u001b[39m \u001b[38;5;124m\"\u001b[39m\u001b[38;5;124mig\u001b[39m\u001b[38;5;124m\"\u001b[39m:\n\u001b[1;32m    440\u001b[0m     \u001b[38;5;28;01mfor\u001b[39;00m edge \u001b[38;5;129;01min\u001b[39;00m \u001b[38;5;28mself\u001b[39m\u001b[38;5;241m.\u001b[39mgraph\u001b[38;5;241m.\u001b[39mes:\n\u001b[1;32m    441\u001b[0m         source_vertex_id \u001b[38;5;241m=\u001b[39m edge\u001b[38;5;241m.\u001b[39msource\n",
      "File \u001b[0;32m~/Documents/Code/York/Phd_thesis_exp/notebooks/network_I/../../src/utilities/Graph_Tool/GraphToolExp.py:83\u001b[0m, in \u001b[0;36mGraphToolExperiment.__getattr__\u001b[0;34m(self, name)\u001b[0m\n\u001b[1;32m     81\u001b[0m \u001b[38;5;28;01mdef\u001b[39;00m \u001b[38;5;21m__getattr__\u001b[39m(\u001b[38;5;28mself\u001b[39m, name):\n\u001b[1;32m     82\u001b[0m     \u001b[38;5;28;01mif\u001b[39;00m \u001b[38;5;124m\"\u001b[39m\u001b[38;5;124m_value\u001b[39m\u001b[38;5;124m\"\u001b[39m \u001b[38;5;129;01min\u001b[39;00m \u001b[38;5;28mself\u001b[39m\u001b[38;5;241m.\u001b[39m\u001b[38;5;18m__dict__\u001b[39m:\n\u001b[0;32m---> 83\u001b[0m         \u001b[38;5;28;01mreturn\u001b[39;00m \u001b[38;5;28mgetattr\u001b[39m(\u001b[38;5;28mself\u001b[39m\u001b[38;5;241m.\u001b[39m_value, name)\n\u001b[1;32m     84\u001b[0m     \u001b[38;5;28;01mraise\u001b[39;00m \u001b[38;5;167;01mAttributeError\u001b[39;00m(\u001b[38;5;124m\"\u001b[39m\u001b[38;5;124mno attribute: \u001b[39m\u001b[38;5;124m\"\u001b[39m \u001b[38;5;241m+\u001b[39m name)\n",
      "\u001b[0;31mAttributeError\u001b[0m: 'PGCNAOutput' object has no attribute 'graph_type'"
     ]
    }
   ],
   "source": [
    "results_df = gt_exp.get_stable_genes(state_idx=0, prob_th=0.75)\n",
    "results_df[\"stable_gene_num\"] = 0\n",
    "results_df.loc[results_df[\"stable_gene\"] == \"wobble\", \"stable_gene_num\"] = 1\n",
    "results_df[\"stable_gene\"].value_counts()\n",
    "\n",
    "gt_exp.export_to_gephi(save=False, sbm_df=results_df, state_idx=0)"
   ]
  },
  {
   "cell_type": "markdown",
   "metadata": {},
   "source": [
    "## Partition Prob"
   ]
  },
  {
   "cell_type": "code",
   "execution_count": null,
   "metadata": {},
   "outputs": [],
   "source": [
    "gt_exp.plot_partition_prob()"
   ]
  }
 ],
 "metadata": {
  "kernelspec": {
   "display_name": "iNet_gt",
   "language": "python",
   "name": "python3"
  },
  "language_info": {
   "codemirror_mode": {
    "name": "ipython",
    "version": 3
   },
   "file_extension": ".py",
   "mimetype": "text/x-python",
   "name": "python",
   "nbconvert_exporter": "python",
   "pygments_lexer": "ipython3",
   "version": "3.12.2"
  }
 },
 "nbformat": 4,
 "nbformat_minor": 2
}
